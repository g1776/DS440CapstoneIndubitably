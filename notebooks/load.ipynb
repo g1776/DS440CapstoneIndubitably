{
 "cells": [
  {
   "cell_type": "markdown",
   "metadata": {},
   "source": [
    "# How to load data, and loading times"
   ]
  },
  {
   "cell_type": "code",
   "execution_count": 3,
   "metadata": {},
   "outputs": [
    {
     "data": {
      "text/plain": [
       "'1.5.3'"
      ]
     },
     "execution_count": 3,
     "metadata": {},
     "output_type": "execute_result"
    }
   ],
   "source": [
    "import pandas as pd\n",
    "import time\n",
    "pd. __version__"
   ]
  },
  {
   "cell_type": "markdown",
   "metadata": {},
   "source": [
    "## Load listings\n",
    "For the listings, we can open the xlsx in Excel and convert the \"listings\" worksheet to a csv so it can then be loaded into Pandas no problem."
   ]
  },
  {
   "cell_type": "code",
   "execution_count": 4,
   "metadata": {},
   "outputs": [
    {
     "name": "stdout",
     "output_type": "stream",
     "text": [
      "Loading listings...\n",
      "Texas...\n",
      "Elapsed time:  1.2780261039733887\n",
      "Florida...\n",
      "Elapsed time:  2.385867118835449\n",
      "California...\n",
      "Elapsed time:  5.587490558624268\n",
      "\n",
      "Shapes of data:\n",
      "Texas:  (11882, 106)\n",
      "Florida:  (10229, 106)\n",
      "California:  (366643, 6)\n"
     ]
    }
   ],
   "source": [
    "\n",
    "print(\"Loading listings...\")\n",
    "\n",
    "start = time.time()\n",
    "\n",
    "print(\"Texas...\")\n",
    "texas_listings = pd.read_csv(\"../data/raw/texas_listings.csv\", encoding=\"unicode_escape\", low_memory=False)\n",
    "print(\"Elapsed time: \", time.time() - start)\n",
    "\n",
    "print(\"Florida...\")\n",
    "florida_listings = pd.read_csv(\"../data/raw/florida_listings.csv\", encoding=\"unicode_escape\", low_memory=False)\n",
    "print(\"Elapsed time: \", time.time() - start)\n",
    "\n",
    "print(\"California...\")\n",
    "california_listings = pd.read_csv(\"../data/raw/california_listings.csv\", encoding=\"unicode_escape\", low_memory=False)\n",
    "print(\"Elapsed time: \", time.time() - start)\n",
    "\n",
    "print(\"\\nShapes of data:\")\n",
    "print(\"Texas: \", texas_listings.shape)\n",
    "print(\"Florida: \", florida_listings.shape)\n",
    "print(\"California: \", california_listings.shape)"
   ]
  },
  {
   "cell_type": "markdown",
   "metadata": {},
   "source": [
    "## Load and Process Reviews\n",
    "\n",
    "The reviews have newlines, tabs, and returns in the text fields, which corrupts the CSV format if you export directly from excel. Therefore, we need to clean the data before we can load it. We'll then export the results to a csv so we don't need to do this every time."
   ]
  },
  {
   "cell_type": "code",
   "execution_count": 5,
   "metadata": {},
   "outputs": [],
   "source": [
    "import pandas as pd\n",
    "\n",
    "def clean_comment(comment: str) -> str:\n",
    "    \"\"\"Clean comment by removing line endings.\n",
    "    Args:\n",
    "        comment (str): The comment to clean.\n",
    "\n",
    "    Returns:\n",
    "        str: The cleaned comment.\n",
    "    \"\"\"\n",
    "\n",
    "    if not isinstance(comment, str):\n",
    "        return \"\"\n",
    "\n",
    "    return comment.replace(\"\\r\", \" \").replace(\"\\n\", \" \").replace(\"\\t\", \" \").replace(\"_x000D_\", \" \").strip()\n",
    "\n",
    "def process_reviews(fp, target_fp, target_worksheet=\"Reviews\"):\n",
    "    \"\"\"Process reviews from excel file and write to csv file for later, faster loading.\n",
    "\n",
    "    Args:\n",
    "        fp (str): The fp to the xlsx.\n",
    "        target_fp (str): Target csv file path.\n",
    "        target_worksheet (str, optional): The worksheet name to read from. Defaults to \"Reviews\".\n",
    "    \"\"\"\n",
    "\n",
    "    print(\"Reading\", fp)\n",
    "    reviews = pd.read_excel(fp, sheet_name=target_worksheet)\n",
    "\n",
    "    print(\"Removing line endings\")\n",
    "    reviews.comments = reviews.comments.apply(clean_comment)\n",
    "\n",
    "    print(\"Writing to\", target_fp)\n",
    "    with open(target_fp, \"w\", encoding=\"utf-8\") as f:\n",
    "        f.write(reviews.to_csv(index=False, lineterminator='\\r\\n'))"
   ]
  },
  {
   "cell_type": "code",
   "execution_count": 6,
   "metadata": {},
   "outputs": [
    {
     "name": "stdout",
     "output_type": "stream",
     "text": [
      "Reading ../data/raw/TX Austin - All Data.xlsx\n",
      "Removing line endings\n",
      "Writing to ../data/raw/texas_reviews.csv\n"
     ]
    }
   ],
   "source": [
    "process_reviews(\"../data/raw/TX Austin - All Data.xlsx\", \"../data/raw/texas_reviews.csv\")"
   ]
  },
  {
   "cell_type": "code",
   "execution_count": 7,
   "metadata": {},
   "outputs": [
    {
     "name": "stdout",
     "output_type": "stream",
     "text": [
      "Reading ../data/raw/CA San Francisco - All Data.xlsx\n",
      "Removing line endings\n",
      "Writing to ../data/raw/california_reviews.csv\n"
     ]
    }
   ],
   "source": [
    "process_reviews(\"../data/raw/CA San Francisco - All Data.xlsx\", \"../data/raw/california_reviews.csv\")"
   ]
  },
  {
   "cell_type": "code",
   "execution_count": 8,
   "metadata": {},
   "outputs": [
    {
     "name": "stdout",
     "output_type": "stream",
     "text": [
      "Reading ../data/raw/FL Fort Lauderdale - All Data.xlsx\n",
      "Removing line endings\n",
      "Writing to ../data/raw/florida_reviews.csv\n"
     ]
    }
   ],
   "source": [
    "process_reviews(\"../data/raw/FL Fort Lauderdale - All Data.xlsx\", \"../data/raw/florida_reviews.csv\", target_worksheet=\"reviews\")"
   ]
  },
  {
   "cell_type": "markdown",
   "metadata": {},
   "source": [
    "Let's check that the new CSVs are valid by loading them into Pandas and check the runtimes."
   ]
  },
  {
   "cell_type": "code",
   "execution_count": 9,
   "metadata": {},
   "outputs": [
    {
     "name": "stdout",
     "output_type": "stream",
     "text": [
      "Loading reviews...\n",
      "Texas...\n",
      "Elapsed time:  2.7001705169677734\n",
      "Florida...\n",
      "Elapsed time:  4.2742979526519775\n",
      "California...\n",
      "Elapsed time:  7.649448394775391\n",
      "\n",
      "Shapes of data:\n",
      "Texas:  (332098, 6)\n",
      "Florida:  (195857, 6)\n",
      "California:  (366643, 6)\n"
     ]
    }
   ],
   "source": [
    "now = time.time()\n",
    "\n",
    "print(\"Loading reviews...\")\n",
    "print(\"Texas...\")\n",
    "texas_reviews = pd.read_csv(\"../data/raw/texas_reviews.csv\")\n",
    "print(\"Elapsed time: \", time.time() - now)\n",
    "\n",
    "print(\"Florida...\")\n",
    "florida_reviews = pd.read_csv(\"../data/raw/florida_reviews.csv\")\n",
    "print(\"Elapsed time: \", time.time() - now)\n",
    "\n",
    "print(\"California...\")\n",
    "california_reviews = pd.read_csv(\"../data/raw/california_reviews.csv\")\n",
    "print(\"Elapsed time: \", time.time() - now)\n",
    "\n",
    "print(\"\\nShapes of data:\")\n",
    "print(\"Texas: \", texas_reviews.shape)\n",
    "print(\"Florida: \", florida_reviews.shape)\n",
    "print(\"California: \", california_reviews.shape)"
   ]
  }
 ],
 "metadata": {
  "kernelspec": {
   "display_name": "Python 3 (ipykernel)",
   "language": "python",
   "name": "python3"
  },
  "language_info": {
   "codemirror_mode": {
    "name": "ipython",
    "version": 3
   },
   "file_extension": ".py",
   "mimetype": "text/x-python",
   "name": "python",
   "nbconvert_exporter": "python",
   "pygments_lexer": "ipython3",
   "version": "3.10.4 (tags/v3.10.4:9d38120, Mar 23 2022, 23:13:41) [MSC v.1929 64 bit (AMD64)]"
  },
  "vscode": {
   "interpreter": {
    "hash": "cf086def782804284d24881115c612afdcc8ea791299ba67855f0c7f1a9ccc5a"
   }
  }
 },
 "nbformat": 4,
 "nbformat_minor": 2
}
