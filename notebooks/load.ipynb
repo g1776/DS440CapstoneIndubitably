{
 "cells": [
  {
   "attachments": {},
   "cell_type": "markdown",
   "metadata": {},
   "source": [
    "# How to load data, and loading times"
   ]
  },
  {
   "cell_type": "code",
   "execution_count": 20,
   "metadata": {},
   "outputs": [],
   "source": [
    "import pandas as pd\n",
    "import time"
   ]
  },
  {
   "attachments": {},
   "cell_type": "markdown",
   "metadata": {},
   "source": [
    "## Load listings\n",
    "For the listings, we can open the xlsx in Excel and convert the \"listings\" worksheet to a csv to it can then be loaded into Pandas no problem."
   ]
  },
  {
   "cell_type": "code",
   "execution_count": 21,
   "metadata": {},
   "outputs": [
    {
     "name": "stdout",
     "output_type": "stream",
     "text": [
      "Loading listings...\n",
      "Texas...\n",
      "Elapsed time:  0.7278032302856445\n",
      "Florida...\n",
      "Elapsed time:  1.3965225219726562\n",
      "California...\n",
      "Elapsed time:  2.0300753116607666\n",
      "\n",
      "Shapes of data:\n",
      "Texas:  (11882, 106)\n",
      "Florida:  (10229, 106)\n",
      "California:  (8111, 106)\n"
     ]
    }
   ],
   "source": [
    "\n",
    "print(\"Loading listings...\")\n",
    "\n",
    "start = time.time()\n",
    "\n",
    "print(\"Texas...\")\n",
    "texas_listings = pd.read_csv(\"../data/raw/texas_listings.csv\", encoding=\"unicode_escape\", low_memory=False)\n",
    "print(\"Elapsed time: \", time.time() - start)\n",
    "\n",
    "print(\"Florida...\")\n",
    "florida_listings = pd.read_csv(\"../data/raw/florida_listings.csv\", encoding=\"unicode_escape\", low_memory=False)\n",
    "print(\"Elapsed time: \", time.time() - start)\n",
    "\n",
    "print(\"California...\")\n",
    "california_listings = pd.read_csv(\"../data/raw/california_listings.csv\", encoding=\"unicode_escape\", low_memory=False)\n",
    "print(\"Elapsed time: \", time.time() - start)\n",
    "\n",
    "print(\"\\nShapes of data:\")\n",
    "print(\"Texas: \", texas_listings.shape)\n",
    "print(\"Florida: \", florida_listings.shape)\n",
    "print(\"California: \", california_listings.shape)"
   ]
  },
  {
   "attachments": {},
   "cell_type": "markdown",
   "metadata": {},
   "source": [
    "## Load and Process Reviews\n",
    "\n",
    "The reviews have newlines, tabs, and returns in the text fields, which corrupts the CSV format if you export directly from excel. Therefore, we need to clean the data before we can load it. We'll then export the results to a csv so we don't need to do this every time."
   ]
  },
  {
   "cell_type": "code",
   "execution_count": 27,
   "metadata": {},
   "outputs": [],
   "source": [
    "import pandas as pd\n",
    "\n",
    "def process_reviews(fp, target_fp, target_worksheet=\"Reviews\"):\n",
    "    \"\"\"Process reviews from excel file and write to csv file for later, faster loading.\n",
    "\n",
    "    Args:\n",
    "        fp (str): The fp to the xlsx.\n",
    "        target_fp (str): Target csv file path.\n",
    "        target_worksheet (str, optional): The worksheet name to read from. Defaults to \"Reviews\".\n",
    "    \"\"\"\n",
    "\n",
    "    print(\"Reading\", fp)\n",
    "    reviews = pd.read_excel(fp, sheet_name=target_worksheet)\n",
    "\n",
    "    print(\"Removing line endings\")\n",
    "    reviews.comments = reviews.comments.str.replace(\"\\r\", \" \").replace(\"\\n\", \" \").replace(\"\\t\", \" \")\n",
    "\n",
    "    print(\"Writing to\", target_fp)\n",
    "    with open(target_fp, \"w\", encoding=\"utf-8\") as f:\n",
    "        f.write(reviews.to_csv(index=False))"
   ]
  },
  {
   "cell_type": "code",
   "execution_count": 15,
   "metadata": {},
   "outputs": [
    {
     "name": "stdout",
     "output_type": "stream",
     "text": [
      "Reading ../data/raw/TX Austin - All Data.xlsx\n",
      "Removing line endings\n",
      "Writing to ../data/raw/texas_reviews.csv\n"
     ]
    }
   ],
   "source": [
    "process_reviews(\"../data/raw/TX Austin - All Data.xlsx\", \"../data/raw/texas_reviews.csv\")"
   ]
  },
  {
   "cell_type": "code",
   "execution_count": 23,
   "metadata": {},
   "outputs": [
    {
     "name": "stdout",
     "output_type": "stream",
     "text": [
      "Reading ../data/raw/CA San Francisco - All Data.xlsx\n",
      "Removing line endings\n",
      "Writing to ../data/raw/california_reviews.csv\n"
     ]
    }
   ],
   "source": [
    "process_reviews(\"../data/raw/CA San Francisco - All Data.xlsx\", \"../data/raw/california_reviews.csv\")"
   ]
  },
  {
   "cell_type": "code",
   "execution_count": 26,
   "metadata": {},
   "outputs": [
    {
     "name": "stdout",
     "output_type": "stream",
     "text": [
      "Reading ../data/raw/FL Fort Lauderdale - All Data.xlsx\n",
      "Removing line endings\n",
      "Writing to ../data/raw/florida_reviews.csv\n"
     ]
    }
   ],
   "source": [
    "process_reviews(\"../data/raw/FL Fort Lauderdale - All Data.xlsx\", \"../data/raw/florida_reviews.csv\", target_worksheet=\"reviews\")"
   ]
  },
  {
   "attachments": {},
   "cell_type": "markdown",
   "metadata": {},
   "source": [
    "Let's check that the new CSVs are valid by loading them into Pandas and check the runtimes."
   ]
  },
  {
   "cell_type": "code",
   "execution_count": 28,
   "metadata": {},
   "outputs": [
    {
     "name": "stdout",
     "output_type": "stream",
     "text": [
      "Loading reviews...\n",
      "Texas...\n",
      "Elapsed time:  1.0305256843566895\n",
      "Florida...\n",
      "Elapsed time:  1.6577794551849365\n",
      "California...\n",
      "Elapsed time:  3.3999249935150146\n",
      "\n",
      "Shapes of data:\n",
      "Texas:  (332098, 6)\n",
      "Florida:  (195857, 6)\n",
      "California:  (366643, 6)\n"
     ]
    }
   ],
   "source": [
    "now = time.time()\n",
    "\n",
    "print(\"Loading reviews...\")\n",
    "print(\"Texas...\")\n",
    "texas_reviews = pd.read_csv(\"../data/raw/texas_reviews.csv\")\n",
    "print(\"Elapsed time: \", time.time() - now)\n",
    "\n",
    "print(\"Florida...\")\n",
    "florida_reviews = pd.read_csv(\"../data/raw/florida_reviews.csv\")\n",
    "print(\"Elapsed time: \", time.time() - now)\n",
    "\n",
    "print(\"California...\")\n",
    "california_reviews = pd.read_csv(\"../data/raw/california_reviews.csv\")\n",
    "print(\"Elapsed time: \", time.time() - now)\n",
    "\n",
    "print(\"\\nShapes of data:\")\n",
    "print(\"Texas: \", texas_reviews.shape)\n",
    "print(\"Florida: \", florida_reviews.shape)\n",
    "print(\"California: \", california_reviews.shape)\n",
    "\n",
    "\n"
   ]
  }
 ],
 "metadata": {
  "kernelspec": {
   "display_name": "venv",
   "language": "python",
   "name": "python3"
  },
  "language_info": {
   "codemirror_mode": {
    "name": "ipython",
    "version": 3
   },
   "file_extension": ".py",
   "mimetype": "text/x-python",
   "name": "python",
   "nbconvert_exporter": "python",
   "pygments_lexer": "ipython3",
   "version": "3.10.4"
  },
  "orig_nbformat": 4,
  "vscode": {
   "interpreter": {
    "hash": "cf086def782804284d24881115c612afdcc8ea791299ba67855f0c7f1a9ccc5a"
   }
  }
 },
 "nbformat": 4,
 "nbformat_minor": 2
}
