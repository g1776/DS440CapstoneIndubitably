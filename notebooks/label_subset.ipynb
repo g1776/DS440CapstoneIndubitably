{
 "cells": [
  {
   "attachments": {},
   "cell_type": "markdown",
   "metadata": {},
   "source": [
    "# Subset the data to only include prospective rows that could have discrepancies"
   ]
  },
  {
   "cell_type": "code",
   "execution_count": null,
   "metadata": {},
   "outputs": [],
   "source": [
    "import pandas as pd"
   ]
  },
  {
   "cell_type": "code",
   "execution_count": null,
   "metadata": {},
   "outputs": [],
   "source": [
    "def keyword_filter(row: pd.Series) -> bool:\n",
    "    \"\"\"Return True if the row contains a keyword in the list of keywords\"\"\"\n",
    "    keywords = ['keyword1', 'keyword2', 'keyword3']\n",
    "    return any([keyword in row['review'] for keyword in keywords])\n",
    "\n",
    "def sentiment_filter(row: pd.Series) -> bool:\n",
    "    pass"
   ]
  },
  {
   "cell_type": "code",
   "execution_count": null,
   "metadata": {},
   "outputs": [],
   "source": [
    "# data = pd.read_csv(\"data/raw.csv\")\n",
    "# data = data[data.apply(keyword_filter, axis=1)]\n",
    "# data = data[data.apply(sentiment_filter, axis=1)]\n",
    "\n",
    "# data.to_csv('data/filtered.csv', index=False)"
   ]
  }
 ],
 "metadata": {
  "language_info": {
   "name": "python"
  },
  "orig_nbformat": 4
 },
 "nbformat": 4,
 "nbformat_minor": 2
}
