{
 "cells": [
  {
   "attachments": {},
   "cell_type": "markdown",
   "metadata": {},
   "source": [
    "# Subset the data to only include prospective rows that could have discrepancies"
   ]
  },
  {
   "cell_type": "code",
   "execution_count": null,
   "metadata": {},
   "outputs": [],
   "source": [
    "import pandas as pd"
   ]
  },
  {
   "cell_type": "code",
   "execution_count": null,
   "metadata": {},
   "outputs": [],
   "source": [
    "def keyword_filter(row: pd.Series) -> bool:\n",
    "    \"\"\"Return True if the row contains a keyword in the list of keywords\"\"\"\n",
    "    keywords = ['keyword1', 'keyword2', 'keyword3']\n",
    "    return any([keyword in row['review'] for keyword in keywords])\n",
    "\n",
    "def sentiment_filter(row: pd.Series) -> bool:\n",
    "    pass"
   ]
  },
  {
   "cell_type": "code",
   "execution_count": null,
   "metadata": {},
   "outputs": [],
   "source": [
    "# data = pd.read_csv(\"data/raw.csv\")\n",
    "# data = data[data.apply(keyword_filter, axis=1)]\n",
    "# data = data[data.apply(sentiment_filter, axis=1)]\n",
    "\n",
    "# data.to_csv('data/filtered.csv', index=False)"
   ]
  }
 ],
 "metadata": {
  "kernelspec": {
   "display_name": "venv",
   "language": "python",
   "name": "python3"
  },
  "language_info": {
   "name": "python",
   "version": "3.10.4 (tags/v3.10.4:9d38120, Mar 23 2022, 23:13:41) [MSC v.1929 64 bit (AMD64)]"
  },
  "orig_nbformat": 4,
  "vscode": {
   "interpreter": {
    "hash": "cf086def782804284d24881115c612afdcc8ea791299ba67855f0c7f1a9ccc5a"
   }
  }
 },
 "nbformat": 4,
 "nbformat_minor": 2
}
