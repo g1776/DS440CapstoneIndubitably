{
 "cells": [
  {
   "cell_type": "markdown",
   "metadata": {},
   "source": [
    "# Subset the data to only include potential rows that could have discrepancies\n",
    "\n",
    "Our method to subset the data so we don't need to look through all the rows to find the potential false positives is two-fold:\n",
    "\n",
    "1. We filter by rows contains a set of keywords from the honors thesis.\n",
    "\n",
    "2. We filter by rows that have sentiment score of 4 or lower (5 being the most positive sentiment score)."
   ]
  },
  {
   "cell_type": "code",
   "execution_count": 1,
   "metadata": {},
   "outputs": [
    {
     "name": "stderr",
     "output_type": "stream",
     "text": [
      "c:\\Users\\grego\\Documents\\GitHub\\DS440CapstoneIndubitably\\venv\\lib\\site-packages\\tqdm\\auto.py:22: TqdmWarning: IProgress not found. Please update jupyter and ipywidgets. See https://ipywidgets.readthedocs.io/en/stable/user_install.html\n",
      "  from .autonotebook import tqdm as notebook_tqdm\n"
     ]
    }
   ],
   "source": [
    "import pandas as pd\n",
    "from transformers import AutoTokenizer, AutoModelForSequenceClassification\n",
    "import torch\n",
    "tokenizer = AutoTokenizer.from_pretrained('nlptown/bert-base-multilingual-uncased-sentiment')\n",
    "model = AutoModelForSequenceClassification.from_pretrained('nlptown/bert-base-multilingual-uncased-sentiment')"
   ]
  },
  {
   "cell_type": "markdown",
   "metadata": {},
   "source": [
    "## Define filters"
   ]
  },
  {
   "cell_type": "code",
   "execution_count": 9,
   "metadata": {},
   "outputs": [],
   "source": [
    "def keyword_filter(row: pd.Series) -> bool:\n",
    "    \"\"\"Return True if the row contains a keyword in the list of keywords\"\"\"\n",
    "    keywords = [\n",
    "        'deceiving', \n",
    "        \"decieving\", # I bet there's typos\n",
    "        'disappointing', \n",
    "        'horrible',\n",
    "        'terrible',\n",
    "        'awful',\n",
    "        'bad',\n",
    "        \"misleading\",\n",
    "        \"inaccurate\",\n",
    "        \"incorrect\"]\n",
    "    if not isinstance(row['comments'], str):\n",
    "        return False\n",
    "    return any([keyword in row['comments'] for keyword in keywords])\n",
    "\n",
    "def sentiment_filter(row: pd.Series) -> bool:\n",
    "    pass\n",
    "    # for i in range(1,len(comments)):\n",
    "    # comment = comments[i]\n",
    "    # tokens = tokenizer.encode(comment, return_tensors='pt')\n",
    "    # result = model(tokens)\n",
    "    # pred = int(torch.argmax(result.logits))+1\n",
    "\n",
    "def apply_filters(raw_fp: str, filtered_fp: str) -> None:\n",
    "    \"\"\"Apply the filters to the raw data and save the result to a new file\"\"\"\n",
    "\n",
    "    print(\"Reading data from\", raw_fp)\n",
    "    data = pd.read_csv(raw_fp)\n",
    "\n",
    "    original_len = len(data)\n",
    "\n",
    "    print(\"Number of rows:\", original_len)\n",
    "\n",
    "    print(\"Applying keyword filter...\")\n",
    "    data = data[data.apply(keyword_filter, axis=1)]\n",
    "    print(\"Number of remaining rows:\", len(data))\n",
    "\n",
    "    # print(\"Applying sentiment filter...\")\n",
    "    # data = data[data.apply(sentiment_filter, axis=1)]\n",
    "    # print(\"Number of remaining rows:\", len(data))\n",
    "\n",
    "    print(\"Data to look through reduced by\", (1 - (len(data) / original_len)) * 100, \"%\")\n",
    "\n",
    "    print(\"Saving filtered data to\", filtered_fp)\n",
    "    data.to_csv(filtered_fp, index=False)"
   ]
  },
  {
   "cell_type": "markdown",
   "metadata": {},
   "source": [
    "## Apply filters and save results to /data/filtered"
   ]
  },
  {
   "cell_type": "code",
   "execution_count": 10,
   "metadata": {},
   "outputs": [
    {
     "name": "stdout",
     "output_type": "stream",
     "text": [
      "Reading data from ../data/raw/texas_reviews.csv\n",
      "Number of rows: 332098\n",
      "Applying keyword filter...\n",
      "Number of remaining rows: 2546\n",
      "Data to look through reduced by 99.23335882781589 %\n",
      "Saving filtered data to ../data/filtered/texas_reviews.csv\n"
     ]
    }
   ],
   "source": [
    "apply_filters(\"../data/raw/texas_reviews.csv\", \"../data/filtered/texas_reviews.csv\")"
   ]
  },
  {
   "cell_type": "code",
   "execution_count": 12,
   "metadata": {},
   "outputs": [
    {
     "name": "stdout",
     "output_type": "stream",
     "text": [
      "Reading data from ../data/raw/florida_reviews.csv\n",
      "Number of rows: 195857\n",
      "Applying keyword filter...\n",
      "Number of remaining rows: 1996\n",
      "Data to look through reduced by 98.98088911808105 %\n",
      "Saving filtered data to ../data/filtered/florida_reviews.csv\n"
     ]
    }
   ],
   "source": [
    "apply_filters(\"../data/raw/florida_reviews.csv\", \"../data/filtered/florida_reviews.csv\")"
   ]
  },
  {
   "cell_type": "code",
   "execution_count": 13,
   "metadata": {},
   "outputs": [
    {
     "name": "stdout",
     "output_type": "stream",
     "text": [
      "Reading data from ../data/raw/california_reviews.csv\n",
      "Number of rows: 366643\n",
      "Applying keyword filter...\n",
      "Number of remaining rows: 3174\n",
      "Data to look through reduced by 99.1343077598645 %\n",
      "Saving filtered data to ../data/filtered/california_reviews.csv\n"
     ]
    }
   ],
   "source": [
    "apply_filters(\"../data/raw/california_reviews.csv\", \"../data/filtered/california_reviews.csv\")"
   ]
  },
  {
   "cell_type": "code",
   "execution_count": null,
   "metadata": {},
   "outputs": [],
   "source": []
  }
 ],
 "metadata": {
  "kernelspec": {
   "display_name": "Python 3 (ipykernel)",
   "language": "python",
   "name": "python3"
  },
  "language_info": {
   "codemirror_mode": {
    "name": "ipython",
    "version": 3
   },
   "file_extension": ".py",
   "mimetype": "text/x-python",
   "name": "python",
   "nbconvert_exporter": "python",
   "pygments_lexer": "ipython3",
   "version": "3.9.7"
  },
  "vscode": {
   "interpreter": {
    "hash": "cf086def782804284d24881115c612afdcc8ea791299ba67855f0c7f1a9ccc5a"
   }
  }
 },
 "nbformat": 4,
 "nbformat_minor": 2
}
