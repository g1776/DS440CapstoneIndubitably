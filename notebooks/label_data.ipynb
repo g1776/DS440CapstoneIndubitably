{
 "cells": [
  {
   "cell_type": "code",
   "execution_count": 43,
   "metadata": {},
   "outputs": [
    {
     "name": "stdout",
     "output_type": "stream",
     "text": [
      "Requirement already satisfied: tortus in c:\\users\\grego\\documents\\github\\ds440capstoneindubitably\\venv\\lib\\site-packages (1.0.2)\n",
      "Requirement already satisfied: pandas>=1.0.1 in c:\\users\\grego\\documents\\github\\ds440capstoneindubitably\\venv\\lib\\site-packages (from tortus) (1.5.3)\n",
      "Requirement already satisfied: ipython>=7.12.0 in c:\\users\\grego\\documents\\github\\ds440capstoneindubitably\\venv\\lib\\site-packages (from tortus) (8.8.0)\n",
      "Requirement already satisfied: jupyter-contrib-nbextensions>=0.5.1 in c:\\users\\grego\\documents\\github\\ds440capstoneindubitably\\venv\\lib\\site-packages (from tortus) (0.7.0)\n",
      "Requirement already satisfied: ipywidgets>=7.5.1 in c:\\users\\grego\\documents\\github\\ds440capstoneindubitably\\venv\\lib\\site-packages (from tortus) (8.0.4)\n",
      "Requirement already satisfied: pygments>=2.4.0 in c:\\users\\grego\\documents\\github\\ds440capstoneindubitably\\venv\\lib\\site-packages (from ipython>=7.12.0->tortus) (2.14.0)\n",
      "Requirement already satisfied: traitlets>=5 in c:\\users\\grego\\documents\\github\\ds440capstoneindubitably\\venv\\lib\\site-packages (from ipython>=7.12.0->tortus) (5.8.1)\n",
      "Requirement already satisfied: matplotlib-inline in c:\\users\\grego\\documents\\github\\ds440capstoneindubitably\\venv\\lib\\site-packages (from ipython>=7.12.0->tortus) (0.1.6)\n",
      "Requirement already satisfied: prompt-toolkit<3.1.0,>=3.0.11 in c:\\users\\grego\\documents\\github\\ds440capstoneindubitably\\venv\\lib\\site-packages (from ipython>=7.12.0->tortus) (3.0.36)\n",
      "Requirement already satisfied: pickleshare in c:\\users\\grego\\documents\\github\\ds440capstoneindubitably\\venv\\lib\\site-packages (from ipython>=7.12.0->tortus) (0.7.5)\n",
      "Requirement already satisfied: stack-data in c:\\users\\grego\\documents\\github\\ds440capstoneindubitably\\venv\\lib\\site-packages (from ipython>=7.12.0->tortus) (0.6.2)\n",
      "Requirement already satisfied: colorama in c:\\users\\grego\\documents\\github\\ds440capstoneindubitably\\venv\\lib\\site-packages (from ipython>=7.12.0->tortus) (0.4.6)\n",
      "Requirement already satisfied: backcall in c:\\users\\grego\\documents\\github\\ds440capstoneindubitably\\venv\\lib\\site-packages (from ipython>=7.12.0->tortus) (0.2.0)\n",
      "Requirement already satisfied: decorator in c:\\users\\grego\\documents\\github\\ds440capstoneindubitably\\venv\\lib\\site-packages (from ipython>=7.12.0->tortus) (5.1.1)\n",
      "Requirement already satisfied: jedi>=0.16 in c:\\users\\grego\\documents\\github\\ds440capstoneindubitably\\venv\\lib\\site-packages (from ipython>=7.12.0->tortus) (0.18.2)\n",
      "Requirement already satisfied: jupyterlab-widgets~=3.0 in c:\\users\\grego\\documents\\github\\ds440capstoneindubitably\\venv\\lib\\site-packages (from ipywidgets>=7.5.1->tortus) (3.0.5)\n",
      "Requirement already satisfied: widgetsnbextension~=4.0 in c:\\users\\grego\\documents\\github\\ds440capstoneindubitably\\venv\\lib\\site-packages (from ipywidgets>=7.5.1->tortus) (4.0.5)\n",
      "Requirement already satisfied: ipykernel>=4.5.1 in c:\\users\\grego\\documents\\github\\ds440capstoneindubitably\\venv\\lib\\site-packages (from ipywidgets>=7.5.1->tortus) (6.20.2)\n",
      "Requirement already satisfied: ipython_genutils in c:\\users\\grego\\documents\\github\\ds440capstoneindubitably\\venv\\lib\\site-packages (from jupyter-contrib-nbextensions>=0.5.1->tortus) (0.2.0)\n",
      "Requirement already satisfied: jupyter_contrib_core>=0.3.3 in c:\\users\\grego\\documents\\github\\ds440capstoneindubitably\\venv\\lib\\site-packages (from jupyter-contrib-nbextensions>=0.5.1->tortus) (0.4.2)\n",
      "Requirement already satisfied: jupyter_core in c:\\users\\grego\\documents\\github\\ds440capstoneindubitably\\venv\\lib\\site-packages (from jupyter-contrib-nbextensions>=0.5.1->tortus) (5.1.5)\n",
      "Requirement already satisfied: jupyter_highlight_selected_word>=0.1.1 in c:\\users\\grego\\documents\\github\\ds440capstoneindubitably\\venv\\lib\\site-packages (from jupyter-contrib-nbextensions>=0.5.1->tortus) (0.2.0)\n",
      "Requirement already satisfied: jupyter_nbextensions_configurator>=0.4.0 in c:\\users\\grego\\documents\\github\\ds440capstoneindubitably\\venv\\lib\\site-packages (from jupyter-contrib-nbextensions>=0.5.1->tortus) (0.6.1)\n",
      "Requirement already satisfied: nbconvert>=6.0 in c:\\users\\grego\\documents\\github\\ds440capstoneindubitably\\venv\\lib\\site-packages (from jupyter-contrib-nbextensions>=0.5.1->tortus) (7.2.9)\n",
      "Requirement already satisfied: notebook>=6.0 in c:\\users\\grego\\documents\\github\\ds440capstoneindubitably\\venv\\lib\\site-packages (from jupyter-contrib-nbextensions>=0.5.1->tortus) (6.5.2)\n",
      "Requirement already satisfied: tornado in c:\\users\\grego\\documents\\github\\ds440capstoneindubitably\\venv\\lib\\site-packages (from jupyter-contrib-nbextensions>=0.5.1->tortus) (6.2)\n",
      "Requirement already satisfied: lxml in c:\\users\\grego\\documents\\github\\ds440capstoneindubitably\\venv\\lib\\site-packages (from jupyter-contrib-nbextensions>=0.5.1->tortus) (4.9.2)\n",
      "Requirement already satisfied: python-dateutil>=2.8.1 in c:\\users\\grego\\documents\\github\\ds440capstoneindubitably\\venv\\lib\\site-packages (from pandas>=1.0.1->tortus) (2.8.2)\n",
      "Requirement already satisfied: pytz>=2020.1 in c:\\users\\grego\\documents\\github\\ds440capstoneindubitably\\venv\\lib\\site-packages (from pandas>=1.0.1->tortus) (2022.7.1)\n",
      "Requirement already satisfied: numpy>=1.21.0 in c:\\users\\grego\\documents\\github\\ds440capstoneindubitably\\venv\\lib\\site-packages (from pandas>=1.0.1->tortus) (1.24.1)\n",
      "Requirement already satisfied: jupyter-client>=6.1.12 in c:\\users\\grego\\documents\\github\\ds440capstoneindubitably\\venv\\lib\\site-packages (from ipykernel>=4.5.1->ipywidgets>=7.5.1->tortus) (7.4.9)\n",
      "Requirement already satisfied: comm>=0.1.1 in c:\\users\\grego\\documents\\github\\ds440capstoneindubitably\\venv\\lib\\site-packages (from ipykernel>=4.5.1->ipywidgets>=7.5.1->tortus) (0.1.2)\n",
      "Requirement already satisfied: psutil in c:\\users\\grego\\documents\\github\\ds440capstoneindubitably\\venv\\lib\\site-packages (from ipykernel>=4.5.1->ipywidgets>=7.5.1->tortus) (5.9.4)\n",
      "Requirement already satisfied: packaging in c:\\users\\grego\\documents\\github\\ds440capstoneindubitably\\venv\\lib\\site-packages (from ipykernel>=4.5.1->ipywidgets>=7.5.1->tortus) (23.0)\n",
      "Requirement already satisfied: pyzmq>=17 in c:\\users\\grego\\documents\\github\\ds440capstoneindubitably\\venv\\lib\\site-packages (from ipykernel>=4.5.1->ipywidgets>=7.5.1->tortus) (25.0.0)\n",
      "Requirement already satisfied: nest-asyncio in c:\\users\\grego\\documents\\github\\ds440capstoneindubitably\\venv\\lib\\site-packages (from ipykernel>=4.5.1->ipywidgets>=7.5.1->tortus) (1.5.6)\n",
      "Requirement already satisfied: debugpy>=1.0 in c:\\users\\grego\\documents\\github\\ds440capstoneindubitably\\venv\\lib\\site-packages (from ipykernel>=4.5.1->ipywidgets>=7.5.1->tortus) (1.6.6)\n",
      "Requirement already satisfied: parso<0.9.0,>=0.8.0 in c:\\users\\grego\\documents\\github\\ds440capstoneindubitably\\venv\\lib\\site-packages (from jedi>=0.16->ipython>=7.12.0->tortus) (0.8.3)\n",
      "Requirement already satisfied: setuptools in c:\\users\\grego\\documents\\github\\ds440capstoneindubitably\\venv\\lib\\site-packages (from jupyter_contrib_core>=0.3.3->jupyter-contrib-nbextensions>=0.5.1->tortus) (58.1.0)\n",
      "Requirement already satisfied: pyyaml in c:\\users\\grego\\documents\\github\\ds440capstoneindubitably\\venv\\lib\\site-packages (from jupyter_nbextensions_configurator>=0.4.0->jupyter-contrib-nbextensions>=0.5.1->tortus) (6.0)\n",
      "Requirement already satisfied: nbformat>=5.1 in c:\\users\\grego\\documents\\github\\ds440capstoneindubitably\\venv\\lib\\site-packages (from nbconvert>=6.0->jupyter-contrib-nbextensions>=0.5.1->tortus) (5.7.3)\n",
      "Requirement already satisfied: defusedxml in c:\\users\\grego\\documents\\github\\ds440capstoneindubitably\\venv\\lib\\site-packages (from nbconvert>=6.0->jupyter-contrib-nbextensions>=0.5.1->tortus) (0.7.1)\n",
      "Requirement already satisfied: markupsafe>=2.0 in c:\\users\\grego\\documents\\github\\ds440capstoneindubitably\\venv\\lib\\site-packages (from nbconvert>=6.0->jupyter-contrib-nbextensions>=0.5.1->tortus) (2.1.2)\n",
      "Requirement already satisfied: mistune<3,>=2.0.3 in c:\\users\\grego\\documents\\github\\ds440capstoneindubitably\\venv\\lib\\site-packages (from nbconvert>=6.0->jupyter-contrib-nbextensions>=0.5.1->tortus) (2.0.4)\n",
      "Requirement already satisfied: jinja2>=3.0 in c:\\users\\grego\\documents\\github\\ds440capstoneindubitably\\venv\\lib\\site-packages (from nbconvert>=6.0->jupyter-contrib-nbextensions>=0.5.1->tortus) (3.1.2)\n",
      "Requirement already satisfied: tinycss2 in c:\\users\\grego\\documents\\github\\ds440capstoneindubitably\\venv\\lib\\site-packages (from nbconvert>=6.0->jupyter-contrib-nbextensions>=0.5.1->tortus) (1.2.1)\n",
      "Requirement already satisfied: beautifulsoup4 in c:\\users\\grego\\documents\\github\\ds440capstoneindubitably\\venv\\lib\\site-packages (from nbconvert>=6.0->jupyter-contrib-nbextensions>=0.5.1->tortus) (4.11.1)\n",
      "Requirement already satisfied: pandocfilters>=1.4.1 in c:\\users\\grego\\documents\\github\\ds440capstoneindubitably\\venv\\lib\\site-packages (from nbconvert>=6.0->jupyter-contrib-nbextensions>=0.5.1->tortus) (1.5.0)\n",
      "Requirement already satisfied: jupyterlab-pygments in c:\\users\\grego\\documents\\github\\ds440capstoneindubitably\\venv\\lib\\site-packages (from nbconvert>=6.0->jupyter-contrib-nbextensions>=0.5.1->tortus) (0.2.2)\n",
      "Requirement already satisfied: nbclient>=0.5.0 in c:\\users\\grego\\documents\\github\\ds440capstoneindubitably\\venv\\lib\\site-packages (from nbconvert>=6.0->jupyter-contrib-nbextensions>=0.5.1->tortus) (0.7.2)\n",
      "Requirement already satisfied: bleach in c:\\users\\grego\\documents\\github\\ds440capstoneindubitably\\venv\\lib\\site-packages (from nbconvert>=6.0->jupyter-contrib-nbextensions>=0.5.1->tortus) (6.0.0)\n",
      "Requirement already satisfied: pywin32>=1.0 in c:\\users\\grego\\documents\\github\\ds440capstoneindubitably\\venv\\lib\\site-packages (from jupyter_core->jupyter-contrib-nbextensions>=0.5.1->tortus) (305)\n",
      "Requirement already satisfied: platformdirs>=2.5 in c:\\users\\grego\\documents\\github\\ds440capstoneindubitably\\venv\\lib\\site-packages (from jupyter_core->jupyter-contrib-nbextensions>=0.5.1->tortus) (2.6.2)\n",
      "Requirement already satisfied: terminado>=0.8.3 in c:\\users\\grego\\documents\\github\\ds440capstoneindubitably\\venv\\lib\\site-packages (from notebook>=6.0->jupyter-contrib-nbextensions>=0.5.1->tortus) (0.17.1)\n",
      "Requirement already satisfied: Send2Trash>=1.8.0 in c:\\users\\grego\\documents\\github\\ds440capstoneindubitably\\venv\\lib\\site-packages (from notebook>=6.0->jupyter-contrib-nbextensions>=0.5.1->tortus) (1.8.0)\n",
      "Requirement already satisfied: nbclassic>=0.4.7 in c:\\users\\grego\\documents\\github\\ds440capstoneindubitably\\venv\\lib\\site-packages (from notebook>=6.0->jupyter-contrib-nbextensions>=0.5.1->tortus) (0.5.1)\n",
      "Requirement already satisfied: argon2-cffi in c:\\users\\grego\\documents\\github\\ds440capstoneindubitably\\venv\\lib\\site-packages (from notebook>=6.0->jupyter-contrib-nbextensions>=0.5.1->tortus) (21.3.0)\n",
      "Requirement already satisfied: prometheus-client in c:\\users\\grego\\documents\\github\\ds440capstoneindubitably\\venv\\lib\\site-packages (from notebook>=6.0->jupyter-contrib-nbextensions>=0.5.1->tortus) (0.16.0)\n",
      "Requirement already satisfied: wcwidth in c:\\users\\grego\\documents\\github\\ds440capstoneindubitably\\venv\\lib\\site-packages (from prompt-toolkit<3.1.0,>=3.0.11->ipython>=7.12.0->tortus) (0.2.6)\n",
      "Requirement already satisfied: six>=1.5 in c:\\users\\grego\\documents\\github\\ds440capstoneindubitably\\venv\\lib\\site-packages (from python-dateutil>=2.8.1->pandas>=1.0.1->tortus) (1.16.0)\n",
      "Requirement already satisfied: asttokens>=2.1.0 in c:\\users\\grego\\documents\\github\\ds440capstoneindubitably\\venv\\lib\\site-packages (from stack-data->ipython>=7.12.0->tortus) (2.2.1)\n",
      "Requirement already satisfied: executing>=1.2.0 in c:\\users\\grego\\documents\\github\\ds440capstoneindubitably\\venv\\lib\\site-packages (from stack-data->ipython>=7.12.0->tortus) (1.2.0)\n",
      "Requirement already satisfied: pure-eval in c:\\users\\grego\\documents\\github\\ds440capstoneindubitably\\venv\\lib\\site-packages (from stack-data->ipython>=7.12.0->tortus) (0.2.2)\n",
      "Requirement already satisfied: entrypoints in c:\\users\\grego\\documents\\github\\ds440capstoneindubitably\\venv\\lib\\site-packages (from jupyter-client>=6.1.12->ipykernel>=4.5.1->ipywidgets>=7.5.1->tortus) (0.4)\n",
      "Requirement already satisfied: notebook-shim>=0.1.0 in c:\\users\\grego\\documents\\github\\ds440capstoneindubitably\\venv\\lib\\site-packages (from nbclassic>=0.4.7->notebook>=6.0->jupyter-contrib-nbextensions>=0.5.1->tortus) (0.2.2)\n",
      "Requirement already satisfied: jupyter-server>=1.8 in c:\\users\\grego\\documents\\github\\ds440capstoneindubitably\\venv\\lib\\site-packages (from nbclassic>=0.4.7->notebook>=6.0->jupyter-contrib-nbextensions>=0.5.1->tortus) (2.1.0)\n",
      "Requirement already satisfied: jsonschema>=2.6 in c:\\users\\grego\\documents\\github\\ds440capstoneindubitably\\venv\\lib\\site-packages (from nbformat>=5.1->nbconvert>=6.0->jupyter-contrib-nbextensions>=0.5.1->tortus) (4.17.3)\n",
      "Requirement already satisfied: fastjsonschema in c:\\users\\grego\\documents\\github\\ds440capstoneindubitably\\venv\\lib\\site-packages (from nbformat>=5.1->nbconvert>=6.0->jupyter-contrib-nbextensions>=0.5.1->tortus) (2.16.2)\n",
      "Requirement already satisfied: pywinpty>=1.1.0 in c:\\users\\grego\\documents\\github\\ds440capstoneindubitably\\venv\\lib\\site-packages (from terminado>=0.8.3->notebook>=6.0->jupyter-contrib-nbextensions>=0.5.1->tortus) (2.0.10)\n",
      "Requirement already satisfied: argon2-cffi-bindings in c:\\users\\grego\\documents\\github\\ds440capstoneindubitably\\venv\\lib\\site-packages (from argon2-cffi->notebook>=6.0->jupyter-contrib-nbextensions>=0.5.1->tortus) (21.2.0)\n",
      "Requirement already satisfied: soupsieve>1.2 in c:\\users\\grego\\documents\\github\\ds440capstoneindubitably\\venv\\lib\\site-packages (from beautifulsoup4->nbconvert>=6.0->jupyter-contrib-nbextensions>=0.5.1->tortus) (2.3.2.post1)\n",
      "Requirement already satisfied: webencodings in c:\\users\\grego\\documents\\github\\ds440capstoneindubitably\\venv\\lib\\site-packages (from bleach->nbconvert>=6.0->jupyter-contrib-nbextensions>=0.5.1->tortus) (0.5.1)\n",
      "Requirement already satisfied: pyrsistent!=0.17.0,!=0.17.1,!=0.17.2,>=0.14.0 in c:\\users\\grego\\documents\\github\\ds440capstoneindubitably\\venv\\lib\\site-packages (from jsonschema>=2.6->nbformat>=5.1->nbconvert>=6.0->jupyter-contrib-nbextensions>=0.5.1->tortus) (0.19.3)\n",
      "Requirement already satisfied: attrs>=17.4.0 in c:\\users\\grego\\documents\\github\\ds440capstoneindubitably\\venv\\lib\\site-packages (from jsonschema>=2.6->nbformat>=5.1->nbconvert>=6.0->jupyter-contrib-nbextensions>=0.5.1->tortus) (22.2.0)\n",
      "Requirement already satisfied: jupyter-events>=0.4.0 in c:\\users\\grego\\documents\\github\\ds440capstoneindubitably\\venv\\lib\\site-packages (from jupyter-server>=1.8->nbclassic>=0.4.7->notebook>=6.0->jupyter-contrib-nbextensions>=0.5.1->tortus) (0.6.3)\n",
      "Requirement already satisfied: websocket-client in c:\\users\\grego\\documents\\github\\ds440capstoneindubitably\\venv\\lib\\site-packages (from jupyter-server>=1.8->nbclassic>=0.4.7->notebook>=6.0->jupyter-contrib-nbextensions>=0.5.1->tortus) (1.5.0)\n",
      "Requirement already satisfied: jupyter-server-terminals in c:\\users\\grego\\documents\\github\\ds440capstoneindubitably\\venv\\lib\\site-packages (from jupyter-server>=1.8->nbclassic>=0.4.7->notebook>=6.0->jupyter-contrib-nbextensions>=0.5.1->tortus) (0.4.4)\n",
      "Requirement already satisfied: anyio<4,>=3.1.0 in c:\\users\\grego\\documents\\github\\ds440capstoneindubitably\\venv\\lib\\site-packages (from jupyter-server>=1.8->nbclassic>=0.4.7->notebook>=6.0->jupyter-contrib-nbextensions>=0.5.1->tortus) (3.6.2)\n",
      "Requirement already satisfied: cffi>=1.0.1 in c:\\users\\grego\\documents\\github\\ds440capstoneindubitably\\venv\\lib\\site-packages (from argon2-cffi-bindings->argon2-cffi->notebook>=6.0->jupyter-contrib-nbextensions>=0.5.1->tortus) (1.15.1)\n",
      "Requirement already satisfied: idna>=2.8 in c:\\users\\grego\\documents\\github\\ds440capstoneindubitably\\venv\\lib\\site-packages (from anyio<4,>=3.1.0->jupyter-server>=1.8->nbclassic>=0.4.7->notebook>=6.0->jupyter-contrib-nbextensions>=0.5.1->tortus) (3.4)\n",
      "Requirement already satisfied: sniffio>=1.1 in c:\\users\\grego\\documents\\github\\ds440capstoneindubitably\\venv\\lib\\site-packages (from anyio<4,>=3.1.0->jupyter-server>=1.8->nbclassic>=0.4.7->notebook>=6.0->jupyter-contrib-nbextensions>=0.5.1->tortus) (1.3.0)\n",
      "Requirement already satisfied: pycparser in c:\\users\\grego\\documents\\github\\ds440capstoneindubitably\\venv\\lib\\site-packages (from cffi>=1.0.1->argon2-cffi-bindings->argon2-cffi->notebook>=6.0->jupyter-contrib-nbextensions>=0.5.1->tortus) (2.21)\n",
      "Requirement already satisfied: rfc3986-validator>=0.1.1 in c:\\users\\grego\\documents\\github\\ds440capstoneindubitably\\venv\\lib\\site-packages (from jupyter-events>=0.4.0->jupyter-server>=1.8->nbclassic>=0.4.7->notebook>=6.0->jupyter-contrib-nbextensions>=0.5.1->tortus) (0.1.1)\n",
      "Requirement already satisfied: rfc3339-validator in c:\\users\\grego\\documents\\github\\ds440capstoneindubitably\\venv\\lib\\site-packages (from jupyter-events>=0.4.0->jupyter-server>=1.8->nbclassic>=0.4.7->notebook>=6.0->jupyter-contrib-nbextensions>=0.5.1->tortus) (0.1.4)\n",
      "Requirement already satisfied: python-json-logger>=2.0.4 in c:\\users\\grego\\documents\\github\\ds440capstoneindubitably\\venv\\lib\\site-packages (from jupyter-events>=0.4.0->jupyter-server>=1.8->nbclassic>=0.4.7->notebook>=6.0->jupyter-contrib-nbextensions>=0.5.1->tortus) (2.0.4)\n",
      "Requirement already satisfied: fqdn in c:\\users\\grego\\documents\\github\\ds440capstoneindubitably\\venv\\lib\\site-packages (from jsonschema>=2.6->nbformat>=5.1->nbconvert>=6.0->jupyter-contrib-nbextensions>=0.5.1->tortus) (1.5.1)\n",
      "Requirement already satisfied: webcolors>=1.11 in c:\\users\\grego\\documents\\github\\ds440capstoneindubitably\\venv\\lib\\site-packages (from jsonschema>=2.6->nbformat>=5.1->nbconvert>=6.0->jupyter-contrib-nbextensions>=0.5.1->tortus) (1.12)\n",
      "Requirement already satisfied: uri-template in c:\\users\\grego\\documents\\github\\ds440capstoneindubitably\\venv\\lib\\site-packages (from jsonschema>=2.6->nbformat>=5.1->nbconvert>=6.0->jupyter-contrib-nbextensions>=0.5.1->tortus) (1.2.0)\n",
      "Requirement already satisfied: jsonpointer>1.13 in c:\\users\\grego\\documents\\github\\ds440capstoneindubitably\\venv\\lib\\site-packages (from jsonschema>=2.6->nbformat>=5.1->nbconvert>=6.0->jupyter-contrib-nbextensions>=0.5.1->tortus) (2.3)\n",
      "Requirement already satisfied: isoduration in c:\\users\\grego\\documents\\github\\ds440capstoneindubitably\\venv\\lib\\site-packages (from jsonschema>=2.6->nbformat>=5.1->nbconvert>=6.0->jupyter-contrib-nbextensions>=0.5.1->tortus) (20.11.0)\n",
      "Requirement already satisfied: arrow>=0.15.0 in c:\\users\\grego\\documents\\github\\ds440capstoneindubitably\\venv\\lib\\site-packages (from isoduration->jsonschema>=2.6->nbformat>=5.1->nbconvert>=6.0->jupyter-contrib-nbextensions>=0.5.1->tortus) (1.2.3)\n",
      "Note: you may need to restart the kernel to use updated packages.\n"
     ]
    },
    {
     "name": "stderr",
     "output_type": "stream",
     "text": [
      "WARNING: You are using pip version 22.0.4; however, version 22.3.1 is available.\n",
      "You should consider upgrading via the 'c:\\Users\\grego\\Documents\\GitHub\\DS440CapstoneIndubitably\\venv\\Scripts\\python.exe -m pip install --upgrade pip' command.\n",
      "Enabling notebook extension jupyter-js-widgets/extension...\n",
      "      - Validating: ok\n"
     ]
    }
   ],
   "source": [
    "%pip install tortus\n",
    "from tortus import Tortus\n",
    "import pandas as pd\n",
    "import os\n",
    "!jupyter nbextension enable --py widgetsnbextension"
   ]
  },
  {
   "cell_type": "code",
   "execution_count": 44,
   "metadata": {},
   "outputs": [],
   "source": [
    "DATA = \"../data/filtered/texas_reviews_filtered.csv\"\n",
    "LABELS = \"../data/labels/texas_reviews_labels.csv\""
   ]
  },
  {
   "cell_type": "code",
   "execution_count": 45,
   "metadata": {},
   "outputs": [
    {
     "name": "stdout",
     "output_type": "stream",
     "text": [
      "Labels is a <class 'NoneType'>\n"
     ]
    }
   ],
   "source": [
    "df = pd.read_csv(DATA)\n",
    "\n",
    "# create LABELS file\n",
    "folder = os.path.dirname(LABELS)\n",
    "if not os.path.exists(folder):\n",
    "    os.makedirs(folder)\n",
    "\n",
    "try:\n",
    "    labels = pd.read_csv(LABELS)\n",
    "except:\n",
    "    labels = None\n",
    "\n",
    "print(f\"Labels is a {type(labels)}\")\n",
    "\n",
    "tortus = Tortus(df, \"comments\", num_records=10, id_column=\"id\", annotations=labels, random=False, labels=['Yes', 'No'])"
   ]
  },
  {
   "cell_type": "code",
   "execution_count": 46,
   "metadata": {},
   "outputs": [
    {
     "data": {
      "text/html": [
       "<div>\n",
       "<style scoped>\n",
       "    .dataframe tbody tr th:only-of-type {\n",
       "        vertical-align: middle;\n",
       "    }\n",
       "\n",
       "    .dataframe tbody tr th {\n",
       "        vertical-align: top;\n",
       "    }\n",
       "\n",
       "    .dataframe thead th {\n",
       "        text-align: right;\n",
       "    }\n",
       "</style>\n",
       "<table border=\"1\" class=\"dataframe\">\n",
       "  <thead>\n",
       "    <tr style=\"text-align: right;\">\n",
       "      <th></th>\n",
       "      <th>listing_id</th>\n",
       "      <th>id</th>\n",
       "      <th>date</th>\n",
       "      <th>reviewer_id</th>\n",
       "      <th>reviewer_name</th>\n",
       "      <th>comments</th>\n",
       "      <th>sentiment</th>\n",
       "    </tr>\n",
       "  </thead>\n",
       "  <tbody>\n",
       "    <tr>\n",
       "      <th>0</th>\n",
       "      <td>5456</td>\n",
       "      <td>83097</td>\n",
       "      <td>2010-08-23</td>\n",
       "      <td>168149</td>\n",
       "      <td>Barb</td>\n",
       "      <td>Sylvia was very nice, informal, and she was re...</td>\n",
       "      <td>4.333333</td>\n",
       "    </tr>\n",
       "    <tr>\n",
       "      <th>1</th>\n",
       "      <td>5456</td>\n",
       "      <td>133337</td>\n",
       "      <td>2010-11-04</td>\n",
       "      <td>245842</td>\n",
       "      <td>Gretchen</td>\n",
       "      <td>Sylvia picked me up from the airport and gave ...</td>\n",
       "      <td>4.000000</td>\n",
       "    </tr>\n",
       "    <tr>\n",
       "      <th>2</th>\n",
       "      <td>5456</td>\n",
       "      <td>150928</td>\n",
       "      <td>2010-12-08</td>\n",
       "      <td>294302</td>\n",
       "      <td>Samantha</td>\n",
       "      <td>We had a lovely time in Austin and enjoyed the...</td>\n",
       "      <td>3.000000</td>\n",
       "    </tr>\n",
       "    <tr>\n",
       "      <th>3</th>\n",
       "      <td>5456</td>\n",
       "      <td>2706775</td>\n",
       "      <td>2012-10-24</td>\n",
       "      <td>2628576</td>\n",
       "      <td>Greg</td>\n",
       "      <td>Sylvia was an excellent host. Stayed in touch ...</td>\n",
       "      <td>4.500000</td>\n",
       "    </tr>\n",
       "    <tr>\n",
       "      <th>4</th>\n",
       "      <td>5456</td>\n",
       "      <td>8602878</td>\n",
       "      <td>2013-11-07</td>\n",
       "      <td>8075713</td>\n",
       "      <td>Jay</td>\n",
       "      <td>The place was a cute little self contained cot...</td>\n",
       "      <td>4.000000</td>\n",
       "    </tr>\n",
       "  </tbody>\n",
       "</table>\n",
       "</div>"
      ],
      "text/plain": [
       "   listing_id       id        date  reviewer_id reviewer_name  \\\n",
       "0        5456    83097  2010-08-23       168149          Barb   \n",
       "1        5456   133337  2010-11-04       245842      Gretchen   \n",
       "2        5456   150928  2010-12-08       294302      Samantha   \n",
       "3        5456  2706775  2012-10-24      2628576          Greg   \n",
       "4        5456  8602878  2013-11-07      8075713           Jay   \n",
       "\n",
       "                                            comments  sentiment  \n",
       "0  Sylvia was very nice, informal, and she was re...   4.333333  \n",
       "1  Sylvia picked me up from the airport and gave ...   4.000000  \n",
       "2  We had a lovely time in Austin and enjoyed the...   3.000000  \n",
       "3  Sylvia was an excellent host. Stayed in touch ...   4.500000  \n",
       "4  The place was a cute little self contained cot...   4.000000  "
      ]
     },
     "execution_count": 46,
     "metadata": {},
     "output_type": "execute_result"
    }
   ],
   "source": [
    "df.head()"
   ]
  },
  {
   "cell_type": "code",
   "execution_count": 48,
   "metadata": {},
   "outputs": [
    {
     "data": {
      "application/vnd.jupyter.widget-view+json": {
       "model_id": "301adf9a4b0a474fa25805e710d840e6",
       "version_major": 2,
       "version_minor": 0
      },
      "text/plain": [
       "HBox(children=(Image(value=b'\\x89PNG\\r\\n\\x1a\\n\\x00\\x00\\x00\\rIHDR\\x00\\x00#0\\x00\\x00\\x06\\xc4\\x08\\x06\\x00\\x00\\x00…"
      ]
     },
     "metadata": {},
     "output_type": "display_data"
    },
    {
     "data": {
      "application/vnd.jupyter.widget-view+json": {
       "model_id": "d7d9ab9dca5c47f09dcc16c7bf35831a",
       "version_major": 2,
       "version_minor": 0
      },
      "text/plain": [
       "HTML(value='Click on the label corresponding with the text below. Each selection requires                 conf…"
      ]
     },
     "metadata": {},
     "output_type": "display_data"
    },
    {
     "data": {
      "application/vnd.jupyter.widget-view+json": {
       "model_id": "90fc18f539434f84931737f4ed496e10",
       "version_major": 2,
       "version_minor": 0
      },
      "text/plain": [
       "HTML(value='<h4>Sylvia picked me up from the airport and gave me a beautiful evening tour of Austin before we …"
      ]
     },
     "metadata": {},
     "output_type": "display_data"
    },
    {
     "data": {
      "application/vnd.jupyter.widget-view+json": {
       "model_id": "90f04b317240444093f645ac0fa9a759",
       "version_major": 2,
       "version_minor": 0
      },
      "text/plain": [
       "GridBox(children=(VBox(children=(Box(children=(Button(description='Yes', layout=Layout(border_bottom='solid', …"
      ]
     },
     "metadata": {},
     "output_type": "display_data"
    },
    {
     "data": {
      "application/vnd.jupyter.widget-view+json": {
       "model_id": "8cf08558856544848a5b53ad50592235",
       "version_major": 2,
       "version_minor": 0
      },
      "text/plain": [
       "Output()"
      ]
     },
     "metadata": {},
     "output_type": "display_data"
    }
   ],
   "source": [
    "tortus.annotate()"
   ]
  },
  {
   "cell_type": "code",
   "execution_count": 30,
   "metadata": {},
   "outputs": [
    {
     "data": {
      "text/html": [
       "<div>\n",
       "<style scoped>\n",
       "    .dataframe tbody tr th:only-of-type {\n",
       "        vertical-align: middle;\n",
       "    }\n",
       "\n",
       "    .dataframe tbody tr th {\n",
       "        vertical-align: top;\n",
       "    }\n",
       "\n",
       "    .dataframe thead th {\n",
       "        text-align: right;\n",
       "    }\n",
       "</style>\n",
       "<table border=\"1\" class=\"dataframe\">\n",
       "  <thead>\n",
       "    <tr style=\"text-align: right;\">\n",
       "      <th></th>\n",
       "      <th>id</th>\n",
       "      <th>comments</th>\n",
       "      <th>label</th>\n",
       "      <th>annotated_at</th>\n",
       "    </tr>\n",
       "  </thead>\n",
       "  <tbody>\n",
       "    <tr>\n",
       "      <th>0</th>\n",
       "      <td>83097</td>\n",
       "      <td>Sylvia was very nice, informal, and she was re...</td>\n",
       "      <td>yes</td>\n",
       "      <td>2023-01-31 22:02:58</td>\n",
       "    </tr>\n",
       "    <tr>\n",
       "      <th>1</th>\n",
       "      <td>133337</td>\n",
       "      <td>Sylvia picked me up from the airport and gave ...</td>\n",
       "      <td>yes</td>\n",
       "      <td>2023-01-31 22:03:02</td>\n",
       "    </tr>\n",
       "    <tr>\n",
       "      <th>2</th>\n",
       "      <td>150928</td>\n",
       "      <td>We had a lovely time in Austin and enjoyed the...</td>\n",
       "      <td>yes</td>\n",
       "      <td>2023-01-31 22:03:05</td>\n",
       "    </tr>\n",
       "    <tr>\n",
       "      <th>3</th>\n",
       "      <td>2706775</td>\n",
       "      <td>Sylvia was an excellent host. Stayed in touch ...</td>\n",
       "      <td>yes</td>\n",
       "      <td>2023-01-31 22:03:09</td>\n",
       "    </tr>\n",
       "    <tr>\n",
       "      <th>4</th>\n",
       "      <td>8602878</td>\n",
       "      <td>The place was a cute little self contained cot...</td>\n",
       "      <td>yes</td>\n",
       "      <td>2023-01-31 22:03:13</td>\n",
       "    </tr>\n",
       "    <tr>\n",
       "      <th>5</th>\n",
       "      <td>17827296</td>\n",
       "      <td>The location was great for our interests. (If ...</td>\n",
       "      <td>yes</td>\n",
       "      <td>2023-01-31 22:03:16</td>\n",
       "    </tr>\n",
       "    <tr>\n",
       "      <th>6</th>\n",
       "      <td>22768604</td>\n",
       "      <td>Sylvia was amazing!  I loved staying here and ...</td>\n",
       "      <td>yes</td>\n",
       "      <td>2023-01-31 22:03:19</td>\n",
       "    </tr>\n",
       "    <tr>\n",
       "      <th>7</th>\n",
       "      <td>26351774</td>\n",
       "      <td>Sylvia was a great host. She was kind and very...</td>\n",
       "      <td>yes</td>\n",
       "      <td>2023-01-31 22:03:22</td>\n",
       "    </tr>\n",
       "    <tr>\n",
       "      <th>8</th>\n",
       "      <td>75213246</td>\n",
       "      <td>Staying here for my work travel was a solid ch...</td>\n",
       "      <td>yes</td>\n",
       "      <td>2023-01-31 22:03:25</td>\n",
       "    </tr>\n",
       "    <tr>\n",
       "      <th>9</th>\n",
       "      <td>268030282</td>\n",
       "      <td>Sylvia is a great host with a huge knowledge o...</td>\n",
       "      <td>no</td>\n",
       "      <td>2023-01-31 22:03:30</td>\n",
       "    </tr>\n",
       "    <tr>\n",
       "      <th>10</th>\n",
       "      <td>14492465</td>\n",
       "      <td>My teenage daughter, Kailey, and I have always...</td>\n",
       "      <td>yes</td>\n",
       "      <td>2023-01-31 22:05:00</td>\n",
       "    </tr>\n",
       "    <tr>\n",
       "      <th>11</th>\n",
       "      <td>163943110</td>\n",
       "      <td>The room is clean, comfortable bed, nice hosts...</td>\n",
       "      <td>no</td>\n",
       "      <td>2023-01-31 22:06:06</td>\n",
       "    </tr>\n",
       "  </tbody>\n",
       "</table>\n",
       "</div>"
      ],
      "text/plain": [
       "           id                                           comments label  \\\n",
       "0       83097  Sylvia was very nice, informal, and she was re...   yes   \n",
       "1      133337  Sylvia picked me up from the airport and gave ...   yes   \n",
       "2      150928  We had a lovely time in Austin and enjoyed the...   yes   \n",
       "3     2706775  Sylvia was an excellent host. Stayed in touch ...   yes   \n",
       "4     8602878  The place was a cute little self contained cot...   yes   \n",
       "5    17827296  The location was great for our interests. (If ...   yes   \n",
       "6    22768604  Sylvia was amazing!  I loved staying here and ...   yes   \n",
       "7    26351774  Sylvia was a great host. She was kind and very...   yes   \n",
       "8    75213246  Staying here for my work travel was a solid ch...   yes   \n",
       "9   268030282  Sylvia is a great host with a huge knowledge o...    no   \n",
       "10   14492465  My teenage daughter, Kailey, and I have always...   yes   \n",
       "11  163943110  The room is clean, comfortable bed, nice hosts...    no   \n",
       "\n",
       "           annotated_at  \n",
       "0   2023-01-31 22:02:58  \n",
       "1   2023-01-31 22:03:02  \n",
       "2   2023-01-31 22:03:05  \n",
       "3   2023-01-31 22:03:09  \n",
       "4   2023-01-31 22:03:13  \n",
       "5   2023-01-31 22:03:16  \n",
       "6   2023-01-31 22:03:19  \n",
       "7   2023-01-31 22:03:22  \n",
       "8   2023-01-31 22:03:25  \n",
       "9   2023-01-31 22:03:30  \n",
       "10  2023-01-31 22:05:00  \n",
       "11  2023-01-31 22:06:06  "
      ]
     },
     "execution_count": 30,
     "metadata": {},
     "output_type": "execute_result"
    }
   ],
   "source": [
    "annotations = tortus.annotations\n",
    "annotations"
   ]
  },
  {
   "cell_type": "code",
   "execution_count": 31,
   "metadata": {},
   "outputs": [
    {
     "name": "stdout",
     "output_type": "stream",
     "text": [
      "Done.\n"
     ]
    }
   ],
   "source": [
    "annotations.to_csv(LABELS, index=False)\n",
    "print(\"Done.\")"
   ]
  },
  {
   "cell_type": "code",
   "execution_count": null,
   "metadata": {},
   "outputs": [],
   "source": []
  }
 ],
 "metadata": {
  "kernelspec": {
   "display_name": "venv",
   "language": "python",
   "name": "python3"
  },
  "language_info": {
   "codemirror_mode": {
    "name": "ipython",
    "version": 3
   },
   "file_extension": ".py",
   "mimetype": "text/x-python",
   "name": "python",
   "nbconvert_exporter": "python",
   "pygments_lexer": "ipython3",
   "version": "3.10.4 (tags/v3.10.4:9d38120, Mar 23 2022, 23:13:41) [MSC v.1929 64 bit (AMD64)]"
  },
  "orig_nbformat": 4,
  "vscode": {
   "interpreter": {
    "hash": "cf086def782804284d24881115c612afdcc8ea791299ba67855f0c7f1a9ccc5a"
   }
  }
 },
 "nbformat": 4,
 "nbformat_minor": 2
}
