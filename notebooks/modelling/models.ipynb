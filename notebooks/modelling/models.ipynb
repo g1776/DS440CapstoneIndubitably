{
 "cells": [
  {
   "attachments": {},
   "cell_type": "markdown",
   "metadata": {},
   "source": [
    "# Models\n",
    "In this notebook we will generate several different models using the already engineered features. We will then evaluate the models using cross validation and select the best model to use for our predictions."
   ]
  },
  {
   "cell_type": "code",
   "execution_count": 68,
   "metadata": {},
   "outputs": [],
   "source": [
    "import pandas as pd\n",
    "from sklearn.model_selection import train_test_split"
   ]
  },
  {
   "cell_type": "code",
   "execution_count": 69,
   "metadata": {},
   "outputs": [
    {
     "name": "stdout",
     "output_type": "stream",
     "text": [
      "(1629, 101)\n"
     ]
    },
    {
     "data": {
      "text/html": [
       "<div>\n",
       "<style scoped>\n",
       "    .dataframe tbody tr th:only-of-type {\n",
       "        vertical-align: middle;\n",
       "    }\n",
       "\n",
       "    .dataframe tbody tr th {\n",
       "        vertical-align: top;\n",
       "    }\n",
       "\n",
       "    .dataframe thead th {\n",
       "        text-align: right;\n",
       "    }\n",
       "</style>\n",
       "<table border=\"1\" class=\"dataframe\">\n",
       "  <thead>\n",
       "    <tr style=\"text-align: right;\">\n",
       "      <th></th>\n",
       "      <th>tsne2_comments_2D_0</th>\n",
       "      <th>tsne2_comments_2D_1</th>\n",
       "      <th>tsne3_comments_3D_0</th>\n",
       "      <th>tsne3_comments_3D_1</th>\n",
       "      <th>tsne3_comments_3D_2</th>\n",
       "      <th>tsne2_description_2D_0</th>\n",
       "      <th>tsne2_description_2D_1</th>\n",
       "      <th>tsne3_description_3D_0</th>\n",
       "      <th>tsne3_description_3D_1</th>\n",
       "      <th>tsne3_description_3D_2</th>\n",
       "      <th>...</th>\n",
       "      <th>amenityall_dishwasher</th>\n",
       "      <th>amenityall_silverware</th>\n",
       "      <th>amenityall_bathtub</th>\n",
       "      <th>amenityall_lockbox</th>\n",
       "      <th>amenityall_crib</th>\n",
       "      <th>amenityall_elevator</th>\n",
       "      <th>amenityall_gym</th>\n",
       "      <th>amenityall_oven</th>\n",
       "      <th>amenityall_toilet</th>\n",
       "      <th>label</th>\n",
       "    </tr>\n",
       "    <tr>\n",
       "      <th>review_id</th>\n",
       "      <th></th>\n",
       "      <th></th>\n",
       "      <th></th>\n",
       "      <th></th>\n",
       "      <th></th>\n",
       "      <th></th>\n",
       "      <th></th>\n",
       "      <th></th>\n",
       "      <th></th>\n",
       "      <th></th>\n",
       "      <th></th>\n",
       "      <th></th>\n",
       "      <th></th>\n",
       "      <th></th>\n",
       "      <th></th>\n",
       "      <th></th>\n",
       "      <th></th>\n",
       "      <th></th>\n",
       "      <th></th>\n",
       "      <th></th>\n",
       "      <th></th>\n",
       "    </tr>\n",
       "  </thead>\n",
       "  <tbody>\n",
       "    <tr>\n",
       "      <th>83097</th>\n",
       "      <td>36.76</td>\n",
       "      <td>-100.08</td>\n",
       "      <td>7.22</td>\n",
       "      <td>-41.55</td>\n",
       "      <td>2.67</td>\n",
       "      <td>36.76</td>\n",
       "      <td>-100.08</td>\n",
       "      <td>7.22</td>\n",
       "      <td>-41.55</td>\n",
       "      <td>2.67</td>\n",
       "      <td>...</td>\n",
       "      <td>0.00</td>\n",
       "      <td>0.00</td>\n",
       "      <td>0.00</td>\n",
       "      <td>0.00</td>\n",
       "      <td>0.00</td>\n",
       "      <td>0.00</td>\n",
       "      <td>0.00</td>\n",
       "      <td>0.00</td>\n",
       "      <td>0.00</td>\n",
       "      <td>good</td>\n",
       "    </tr>\n",
       "    <tr>\n",
       "      <th>133337</th>\n",
       "      <td>36.76</td>\n",
       "      <td>-100.08</td>\n",
       "      <td>10.17</td>\n",
       "      <td>-41.86</td>\n",
       "      <td>-2.04</td>\n",
       "      <td>36.76</td>\n",
       "      <td>-100.08</td>\n",
       "      <td>10.17</td>\n",
       "      <td>-41.86</td>\n",
       "      <td>-2.04</td>\n",
       "      <td>...</td>\n",
       "      <td>0.00</td>\n",
       "      <td>0.00</td>\n",
       "      <td>0.00</td>\n",
       "      <td>0.00</td>\n",
       "      <td>0.00</td>\n",
       "      <td>0.00</td>\n",
       "      <td>0.00</td>\n",
       "      <td>0.00</td>\n",
       "      <td>0.00</td>\n",
       "      <td>good</td>\n",
       "    </tr>\n",
       "    <tr>\n",
       "      <th>150928</th>\n",
       "      <td>32.36</td>\n",
       "      <td>-99.52</td>\n",
       "      <td>11.88</td>\n",
       "      <td>-44.53</td>\n",
       "      <td>2.47</td>\n",
       "      <td>32.36</td>\n",
       "      <td>-99.52</td>\n",
       "      <td>11.88</td>\n",
       "      <td>-44.53</td>\n",
       "      <td>2.47</td>\n",
       "      <td>...</td>\n",
       "      <td>0.00</td>\n",
       "      <td>0.00</td>\n",
       "      <td>0.00</td>\n",
       "      <td>0.00</td>\n",
       "      <td>0.00</td>\n",
       "      <td>0.00</td>\n",
       "      <td>0.00</td>\n",
       "      <td>0.00</td>\n",
       "      <td>0.00</td>\n",
       "      <td>good</td>\n",
       "    </tr>\n",
       "    <tr>\n",
       "      <th>2706775</th>\n",
       "      <td>32.36</td>\n",
       "      <td>-99.52</td>\n",
       "      <td>11.88</td>\n",
       "      <td>-44.53</td>\n",
       "      <td>2.47</td>\n",
       "      <td>32.36</td>\n",
       "      <td>-99.52</td>\n",
       "      <td>11.88</td>\n",
       "      <td>-44.53</td>\n",
       "      <td>2.47</td>\n",
       "      <td>...</td>\n",
       "      <td>0.00</td>\n",
       "      <td>0.00</td>\n",
       "      <td>0.00</td>\n",
       "      <td>0.00</td>\n",
       "      <td>0.00</td>\n",
       "      <td>0.00</td>\n",
       "      <td>0.00</td>\n",
       "      <td>0.00</td>\n",
       "      <td>0.00</td>\n",
       "      <td>good</td>\n",
       "    </tr>\n",
       "    <tr>\n",
       "      <th>8602878</th>\n",
       "      <td>32.36</td>\n",
       "      <td>-99.52</td>\n",
       "      <td>11.88</td>\n",
       "      <td>-44.53</td>\n",
       "      <td>2.47</td>\n",
       "      <td>32.36</td>\n",
       "      <td>-99.52</td>\n",
       "      <td>11.88</td>\n",
       "      <td>-44.53</td>\n",
       "      <td>2.47</td>\n",
       "      <td>...</td>\n",
       "      <td>0.00</td>\n",
       "      <td>0.00</td>\n",
       "      <td>0.00</td>\n",
       "      <td>0.00</td>\n",
       "      <td>0.00</td>\n",
       "      <td>0.00</td>\n",
       "      <td>0.00</td>\n",
       "      <td>0.00</td>\n",
       "      <td>0.00</td>\n",
       "      <td>good</td>\n",
       "    </tr>\n",
       "  </tbody>\n",
       "</table>\n",
       "<p>5 rows × 101 columns</p>\n",
       "</div>"
      ],
      "text/plain": [
       "           tsne2_comments_2D_0  tsne2_comments_2D_1  tsne3_comments_3D_0  \\\n",
       "review_id                                                                  \n",
       "83097                    36.76              -100.08                 7.22   \n",
       "133337                   36.76              -100.08                10.17   \n",
       "150928                   32.36               -99.52                11.88   \n",
       "2706775                  32.36               -99.52                11.88   \n",
       "8602878                  32.36               -99.52                11.88   \n",
       "\n",
       "           tsne3_comments_3D_1  tsne3_comments_3D_2  tsne2_description_2D_0  \\\n",
       "review_id                                                                     \n",
       "83097                   -41.55                 2.67                   36.76   \n",
       "133337                  -41.86                -2.04                   36.76   \n",
       "150928                  -44.53                 2.47                   32.36   \n",
       "2706775                 -44.53                 2.47                   32.36   \n",
       "8602878                 -44.53                 2.47                   32.36   \n",
       "\n",
       "           tsne2_description_2D_1  tsne3_description_3D_0  \\\n",
       "review_id                                                   \n",
       "83097                     -100.08                    7.22   \n",
       "133337                    -100.08                   10.17   \n",
       "150928                     -99.52                   11.88   \n",
       "2706775                    -99.52                   11.88   \n",
       "8602878                    -99.52                   11.88   \n",
       "\n",
       "           tsne3_description_3D_1  tsne3_description_3D_2  ...  \\\n",
       "review_id                                                  ...   \n",
       "83097                      -41.55                    2.67  ...   \n",
       "133337                     -41.86                   -2.04  ...   \n",
       "150928                     -44.53                    2.47  ...   \n",
       "2706775                    -44.53                    2.47  ...   \n",
       "8602878                    -44.53                    2.47  ...   \n",
       "\n",
       "           amenityall_dishwasher  amenityall_silverware  amenityall_bathtub  \\\n",
       "review_id                                                                     \n",
       "83097                       0.00                   0.00                0.00   \n",
       "133337                      0.00                   0.00                0.00   \n",
       "150928                      0.00                   0.00                0.00   \n",
       "2706775                     0.00                   0.00                0.00   \n",
       "8602878                     0.00                   0.00                0.00   \n",
       "\n",
       "           amenityall_lockbox  amenityall_crib  amenityall_elevator  \\\n",
       "review_id                                                             \n",
       "83097                    0.00             0.00                 0.00   \n",
       "133337                   0.00             0.00                 0.00   \n",
       "150928                   0.00             0.00                 0.00   \n",
       "2706775                  0.00             0.00                 0.00   \n",
       "8602878                  0.00             0.00                 0.00   \n",
       "\n",
       "           amenityall_gym  amenityall_oven  amenityall_toilet  label  \n",
       "review_id                                                             \n",
       "83097                0.00             0.00               0.00   good  \n",
       "133337               0.00             0.00               0.00   good  \n",
       "150928               0.00             0.00               0.00   good  \n",
       "2706775              0.00             0.00               0.00   good  \n",
       "8602878              0.00             0.00               0.00   good  \n",
       "\n",
       "[5 rows x 101 columns]"
      ]
     },
     "execution_count": 69,
     "metadata": {},
     "output_type": "execute_result"
    }
   ],
   "source": [
    "GEO = 'texas_florida'\n",
    "df = pd.read_csv(f'../../data/processed/features_{GEO}.csv')\n",
    "df.index = df[\"review_id\"]\n",
    "df.drop(columns=[\"review_id\"], inplace=True)\n",
    "\n",
    "print(df.shape)\n",
    "df.head()"
   ]
  },
  {
   "cell_type": "code",
   "execution_count": 70,
   "metadata": {},
   "outputs": [
    {
     "data": {
      "text/plain": [
       "good     1320\n",
       "mbad      118\n",
       "mgood     105\n",
       "bad        84\n",
       "Name: label, dtype: int64"
      ]
     },
     "execution_count": 70,
     "metadata": {},
     "output_type": "execute_result"
    }
   ],
   "source": [
    "df.label.value_counts()"
   ]
  },
  {
   "attachments": {},
   "cell_type": "markdown",
   "metadata": {},
   "source": [
    "Drop NA labels... THANKS Charlie :/"
   ]
  },
  {
   "cell_type": "code",
   "execution_count": 71,
   "metadata": {},
   "outputs": [],
   "source": [
    "df = df.dropna()"
   ]
  },
  {
   "attachments": {},
   "cell_type": "markdown",
   "metadata": {},
   "source": [
    "The data is extremely imbalanced. We can use the `imbalanced-learn` Python library, which has several implementations of resampling methods to deal with this problem. We will use the `SMOTE` method, which oversamples the minority class."
   ]
  },
  {
   "cell_type": "code",
   "execution_count": 72,
   "metadata": {},
   "outputs": [
    {
     "name": "stdout",
     "output_type": "stream",
     "text": [
      "Balanced labels:\n"
     ]
    },
    {
     "data": {
      "text/plain": [
       "good     1320\n",
       "mgood    1320\n",
       "mbad     1320\n",
       "bad      1320\n",
       "Name: label, dtype: int64"
      ]
     },
     "execution_count": 72,
     "metadata": {},
     "output_type": "execute_result"
    }
   ],
   "source": [
    "from imblearn.over_sampling import SMOTE\n",
    "\n",
    "oversample = SMOTE()\n",
    "X, y = oversample.fit_resample(df.drop(columns=[\"label\"]), df[\"label\"])\n",
    "\n",
    "print(\"Balanced labels:\")\n",
    "y.value_counts()"
   ]
  },
  {
   "attachments": {},
   "cell_type": "markdown",
   "metadata": {},
   "source": [
    "## Testing out different feature combinations\n",
    "We want to try the different combinations of features to see which ones work best."
   ]
  },
  {
   "cell_type": "code",
   "execution_count": 79,
   "metadata": {},
   "outputs": [
    {
     "name": "stdout",
     "output_type": "stream",
     "text": [
      "Number of feature sets combinations: 255\n"
     ]
    }
   ],
   "source": [
    "import itertools\n",
    "\n",
    "feature_sets = [\n",
    "    \"tsne2_comments_2D_\",\n",
    "    \"tsne3_comments_3D_\",\n",
    "    \"tsne2_description_2D_\",\n",
    "    \"tsne3_description_3D_\",\n",
    "    \"3gram09_\",\n",
    "    \"3gram10_\",\n",
    "    \"amenity005_\",\n",
    "    \"amenityall_\"\n",
    "]\n",
    "\n",
    "# get all combinations of feature sets of all lengths\n",
    "feature_sets_combinations = []\n",
    "for i in range(1, len(feature_sets) + 1):\n",
    "    feature_sets_combinations += [list(x) for x in itertools.combinations(feature_sets, i)]\n",
    "\n",
    "print(f\"Number of feature sets combinations: {len(feature_sets_combinations)}\")"
   ]
  },
  {
   "cell_type": "code",
   "execution_count": 80,
   "metadata": {},
   "outputs": [
    {
     "name": "stdout",
     "output_type": "stream",
     "text": [
      "Testing feature sets combination 1 of 255 (['tsne2_comments_2D_'])\n"
     ]
    },
    {
     "name": "stderr",
     "output_type": "stream",
     "text": [
      "100%|██████████| 29/29 [00:05<00:00,  5.50it/s]\n"
     ]
    },
    {
     "name": "stdout",
     "output_type": "stream",
     "text": [
      "Top model for ['tsne2_comments_2D_']: ExtraTreesClassifier. Accuracy = 0.696969696969697\n",
      "New best model found! Accuracy = 0.696969696969697\n",
      "\n",
      "Testing feature sets combination 2 of 255 (['tsne3_comments_3D_'])\n"
     ]
    },
    {
     "name": "stderr",
     "output_type": "stream",
     "text": [
      "100%|██████████| 29/29 [00:05<00:00,  5.50it/s]\n"
     ]
    },
    {
     "name": "stdout",
     "output_type": "stream",
     "text": [
      "Top model for ['tsne3_comments_3D_']: ExtraTreesClassifier. Accuracy = 0.7973484848484849\n",
      "New best model found! Accuracy = 0.7973484848484849\n",
      "\n",
      "Testing feature sets combination 3 of 255 (['tsne2_description_2D_'])\n"
     ]
    },
    {
     "name": "stderr",
     "output_type": "stream",
     "text": [
      "100%|██████████| 29/29 [00:05<00:00,  5.33it/s]\n"
     ]
    },
    {
     "name": "stdout",
     "output_type": "stream",
     "text": [
      "Top model for ['tsne2_description_2D_']: ExtraTreesClassifier. Accuracy = 0.7083333333333334\n",
      "\n",
      "Testing feature sets combination 4 of 255 (['tsne3_description_3D_'])\n"
     ]
    },
    {
     "name": "stderr",
     "output_type": "stream",
     "text": [
      "100%|██████████| 29/29 [00:05<00:00,  5.73it/s]\n"
     ]
    },
    {
     "name": "stdout",
     "output_type": "stream",
     "text": [
      "Top model for ['tsne3_description_3D_']: ExtraTreesClassifier. Accuracy = 0.7897727272727273\n",
      "\n",
      "Testing feature sets combination 5 of 255 (['3gram09_'])\n"
     ]
    },
    {
     "name": "stderr",
     "output_type": "stream",
     "text": [
      "100%|██████████| 29/29 [00:10<00:00,  2.68it/s]\n"
     ]
    },
    {
     "name": "stdout",
     "output_type": "stream",
     "text": [
      "Top model for ['3gram09_']: NearestCentroid. Accuracy = 0.2774621212121212\n",
      "\n",
      "Testing feature sets combination 6 of 255 (['3gram10_'])\n"
     ]
    },
    {
     "name": "stderr",
     "output_type": "stream",
     "text": [
      "100%|██████████| 29/29 [00:04<00:00,  6.06it/s]\n"
     ]
    },
    {
     "name": "stdout",
     "output_type": "stream",
     "text": [
      "Top model for ['3gram10_']: QuadraticDiscriminantAnalysis. Accuracy = 0.2793560606060606\n",
      "\n",
      "Testing feature sets combination 7 of 255 (['amenity005_'])\n"
     ]
    },
    {
     "name": "stderr",
     "output_type": "stream",
     "text": [
      "100%|██████████| 29/29 [00:07<00:00,  3.68it/s]\n"
     ]
    },
    {
     "name": "stdout",
     "output_type": "stream",
     "text": [
      "Top model for ['amenity005_']: RandomForestClassifier. Accuracy = 0.3390151515151515\n",
      "\n",
      "Testing feature sets combination 8 of 255 (['amenityall_'])\n"
     ]
    },
    {
     "name": "stderr",
     "output_type": "stream",
     "text": [
      "100%|██████████| 29/29 [00:11<00:00,  2.57it/s]\n"
     ]
    },
    {
     "name": "stdout",
     "output_type": "stream",
     "text": [
      "Top model for ['amenityall_']: ExtraTreesClassifier. Accuracy = 0.4696969696969697\n",
      "\n",
      "Testing feature sets combination 9 of 255 (['tsne2_comments_2D_', 'tsne3_comments_3D_'])\n"
     ]
    },
    {
     "name": "stderr",
     "output_type": "stream",
     "text": [
      "100%|██████████| 29/29 [00:06<00:00,  4.82it/s]\n"
     ]
    },
    {
     "name": "stdout",
     "output_type": "stream",
     "text": [
      "Top model for ['tsne2_comments_2D_', 'tsne3_comments_3D_']: ExtraTreesClassifier. Accuracy = 0.7926136363636364\n",
      "\n",
      "Testing feature sets combination 10 of 255 (['tsne2_comments_2D_', 'tsne2_description_2D_'])\n"
     ]
    },
    {
     "name": "stderr",
     "output_type": "stream",
     "text": [
      "100%|██████████| 29/29 [00:06<00:00,  4.61it/s]\n"
     ]
    },
    {
     "name": "stdout",
     "output_type": "stream",
     "text": [
      "Top model for ['tsne2_comments_2D_', 'tsne2_description_2D_']: RandomForestClassifier. Accuracy = 0.6960227272727273\n",
      "\n",
      "Testing feature sets combination 11 of 255 (['tsne2_comments_2D_', 'tsne3_description_3D_'])\n"
     ]
    },
    {
     "name": "stderr",
     "output_type": "stream",
     "text": [
      "100%|██████████| 29/29 [00:06<00:00,  4.80it/s]\n"
     ]
    },
    {
     "name": "stdout",
     "output_type": "stream",
     "text": [
      "Top model for ['tsne2_comments_2D_', 'tsne3_description_3D_']: ExtraTreesClassifier. Accuracy = 0.8001893939393939\n",
      "New best model found! Accuracy = 0.8001893939393939\n",
      "\n",
      "Testing feature sets combination 12 of 255 (['tsne2_comments_2D_', '3gram09_'])\n"
     ]
    },
    {
     "name": "stderr",
     "output_type": "stream",
     "text": [
      "100%|██████████| 29/29 [00:12<00:00,  2.40it/s]\n"
     ]
    },
    {
     "name": "stdout",
     "output_type": "stream",
     "text": [
      "Top model for ['tsne2_comments_2D_', '3gram09_']: ExtraTreesClassifier. Accuracy = 0.7064393939393939\n",
      "\n",
      "Testing feature sets combination 13 of 255 (['tsne2_comments_2D_', '3gram10_'])\n"
     ]
    },
    {
     "name": "stderr",
     "output_type": "stream",
     "text": [
      "100%|██████████| 29/29 [00:06<00:00,  4.15it/s]\n"
     ]
    },
    {
     "name": "stdout",
     "output_type": "stream",
     "text": [
      "Top model for ['tsne2_comments_2D_', '3gram10_']: ExtraTreesClassifier. Accuracy = 0.7102272727272727\n",
      "\n",
      "Testing feature sets combination 14 of 255 (['tsne2_comments_2D_', 'amenity005_'])\n"
     ]
    },
    {
     "name": "stderr",
     "output_type": "stream",
     "text": [
      "100%|██████████| 29/29 [00:08<00:00,  3.29it/s]\n"
     ]
    },
    {
     "name": "stdout",
     "output_type": "stream",
     "text": [
      "Top model for ['tsne2_comments_2D_', 'amenity005_']: ExtraTreesClassifier. Accuracy = 0.8674242424242424\n",
      "New best model found! Accuracy = 0.8674242424242424\n",
      "\n",
      "Testing feature sets combination 15 of 255 (['tsne2_comments_2D_', 'amenityall_'])\n"
     ]
    },
    {
     "name": "stderr",
     "output_type": "stream",
     "text": [
      "100%|██████████| 29/29 [00:11<00:00,  2.56it/s]\n"
     ]
    },
    {
     "name": "stdout",
     "output_type": "stream",
     "text": [
      "Top model for ['tsne2_comments_2D_', 'amenityall_']: ExtraTreesClassifier. Accuracy = 0.8797348484848485\n",
      "New best model found! Accuracy = 0.8797348484848485\n",
      "\n",
      "Testing feature sets combination 16 of 255 (['tsne3_comments_3D_', 'tsne2_description_2D_'])\n"
     ]
    },
    {
     "name": "stderr",
     "output_type": "stream",
     "text": [
      "100%|██████████| 29/29 [00:06<00:00,  4.71it/s]\n"
     ]
    },
    {
     "name": "stdout",
     "output_type": "stream",
     "text": [
      "Top model for ['tsne3_comments_3D_', 'tsne2_description_2D_']: ExtraTreesClassifier. Accuracy = 0.8068181818181818\n",
      "\n",
      "Testing feature sets combination 17 of 255 (['tsne3_comments_3D_', 'tsne3_description_3D_'])\n"
     ]
    },
    {
     "name": "stderr",
     "output_type": "stream",
     "text": [
      "100%|██████████| 29/29 [00:06<00:00,  4.41it/s]\n"
     ]
    },
    {
     "name": "stdout",
     "output_type": "stream",
     "text": [
      "Top model for ['tsne3_comments_3D_', 'tsne3_description_3D_']: ExtraTreesClassifier. Accuracy = 0.7964015151515151\n",
      "\n",
      "Testing feature sets combination 18 of 255 (['tsne3_comments_3D_', '3gram09_'])\n"
     ]
    },
    {
     "name": "stderr",
     "output_type": "stream",
     "text": [
      "100%|██████████| 29/29 [00:13<00:00,  2.21it/s]\n"
     ]
    },
    {
     "name": "stdout",
     "output_type": "stream",
     "text": [
      "Top model for ['tsne3_comments_3D_', '3gram09_']: ExtraTreesClassifier. Accuracy = 0.7926136363636364\n",
      "\n",
      "Testing feature sets combination 19 of 255 (['tsne3_comments_3D_', '3gram10_'])\n"
     ]
    },
    {
     "name": "stderr",
     "output_type": "stream",
     "text": [
      "100%|██████████| 29/29 [00:07<00:00,  3.90it/s]\n"
     ]
    },
    {
     "name": "stdout",
     "output_type": "stream",
     "text": [
      "Top model for ['tsne3_comments_3D_', '3gram10_']: ExtraTreesClassifier. Accuracy = 0.7935606060606061\n",
      "\n",
      "Testing feature sets combination 20 of 255 (['tsne3_comments_3D_', 'amenity005_'])\n"
     ]
    },
    {
     "name": "stderr",
     "output_type": "stream",
     "text": [
      "100%|██████████| 29/29 [00:08<00:00,  3.26it/s]\n"
     ]
    },
    {
     "name": "stdout",
     "output_type": "stream",
     "text": [
      "Top model for ['tsne3_comments_3D_', 'amenity005_']: ExtraTreesClassifier. Accuracy = 0.8901515151515151\n",
      "New best model found! Accuracy = 0.8901515151515151\n",
      "\n",
      "Testing feature sets combination 21 of 255 (['tsne3_comments_3D_', 'amenityall_'])\n"
     ]
    },
    {
     "name": "stderr",
     "output_type": "stream",
     "text": [
      "100%|██████████| 29/29 [00:11<00:00,  2.45it/s]\n"
     ]
    },
    {
     "name": "stdout",
     "output_type": "stream",
     "text": [
      "Top model for ['tsne3_comments_3D_', 'amenityall_']: RandomForestClassifier. Accuracy = 0.9147727272727273\n",
      "New best model found! Accuracy = 0.9147727272727273\n",
      "\n",
      "Testing feature sets combination 22 of 255 (['tsne2_description_2D_', 'tsne3_description_3D_'])\n"
     ]
    },
    {
     "name": "stderr",
     "output_type": "stream",
     "text": [
      "100%|██████████| 29/29 [00:06<00:00,  4.62it/s]\n"
     ]
    },
    {
     "name": "stdout",
     "output_type": "stream",
     "text": [
      "Top model for ['tsne2_description_2D_', 'tsne3_description_3D_']: ExtraTreesClassifier. Accuracy = 0.7888257575757576\n",
      "\n",
      "Testing feature sets combination 23 of 255 (['tsne2_description_2D_', '3gram09_'])\n"
     ]
    },
    {
     "name": "stderr",
     "output_type": "stream",
     "text": [
      "100%|██████████| 29/29 [00:12<00:00,  2.28it/s]\n"
     ]
    },
    {
     "name": "stdout",
     "output_type": "stream",
     "text": [
      "Top model for ['tsne2_description_2D_', '3gram09_']: ExtraTreesClassifier. Accuracy = 0.7073863636363636\n",
      "\n",
      "Testing feature sets combination 24 of 255 (['tsne2_description_2D_', '3gram10_'])\n"
     ]
    },
    {
     "name": "stderr",
     "output_type": "stream",
     "text": [
      "100%|██████████| 29/29 [00:08<00:00,  3.59it/s]\n"
     ]
    },
    {
     "name": "stdout",
     "output_type": "stream",
     "text": [
      "Top model for ['tsne2_description_2D_', '3gram10_']: ExtraTreesClassifier. Accuracy = 0.7178030303030303\n",
      "\n",
      "Testing feature sets combination 25 of 255 (['tsne2_description_2D_', 'amenity005_'])\n"
     ]
    },
    {
     "name": "stderr",
     "output_type": "stream",
     "text": [
      "100%|██████████| 29/29 [00:09<00:00,  3.15it/s]\n"
     ]
    },
    {
     "name": "stdout",
     "output_type": "stream",
     "text": [
      "Top model for ['tsne2_description_2D_', 'amenity005_']: ExtraTreesClassifier. Accuracy = 0.8560606060606061\n",
      "\n",
      "Testing feature sets combination 26 of 255 (['tsne2_description_2D_', 'amenityall_'])\n"
     ]
    },
    {
     "name": "stderr",
     "output_type": "stream",
     "text": [
      "100%|██████████| 29/29 [00:12<00:00,  2.42it/s]\n"
     ]
    },
    {
     "name": "stdout",
     "output_type": "stream",
     "text": [
      "Top model for ['tsne2_description_2D_', 'amenityall_']: ExtraTreesClassifier. Accuracy = 0.875\n",
      "\n",
      "Testing feature sets combination 27 of 255 (['tsne3_description_3D_', '3gram09_'])\n"
     ]
    },
    {
     "name": "stderr",
     "output_type": "stream",
     "text": [
      "100%|██████████| 29/29 [00:13<00:00,  2.14it/s]\n"
     ]
    },
    {
     "name": "stdout",
     "output_type": "stream",
     "text": [
      "Top model for ['tsne3_description_3D_', '3gram09_']: ExtraTreesClassifier. Accuracy = 0.7888257575757576\n",
      "\n",
      "Testing feature sets combination 28 of 255 (['tsne3_description_3D_', '3gram10_'])\n"
     ]
    },
    {
     "name": "stderr",
     "output_type": "stream",
     "text": [
      "100%|██████████| 29/29 [00:07<00:00,  3.77it/s]\n"
     ]
    },
    {
     "name": "stdout",
     "output_type": "stream",
     "text": [
      "Top model for ['tsne3_description_3D_', '3gram10_']: ExtraTreesClassifier. Accuracy = 0.790719696969697\n",
      "\n",
      "Testing feature sets combination 29 of 255 (['tsne3_description_3D_', 'amenity005_'])\n"
     ]
    },
    {
     "name": "stderr",
     "output_type": "stream",
     "text": [
      "100%|██████████| 29/29 [00:09<00:00,  3.09it/s]\n"
     ]
    },
    {
     "name": "stdout",
     "output_type": "stream",
     "text": [
      "Top model for ['tsne3_description_3D_', 'amenity005_']: ExtraTreesClassifier. Accuracy = 0.8825757575757576\n",
      "\n",
      "Testing feature sets combination 30 of 255 (['tsne3_description_3D_', 'amenityall_'])\n"
     ]
    },
    {
     "name": "stderr",
     "output_type": "stream",
     "text": [
      "100%|██████████| 29/29 [00:12<00:00,  2.24it/s]\n"
     ]
    },
    {
     "name": "stdout",
     "output_type": "stream",
     "text": [
      "Top model for ['tsne3_description_3D_', 'amenityall_']: ExtraTreesClassifier. Accuracy = 0.9232954545454546\n",
      "New best model found! Accuracy = 0.9232954545454546\n",
      "\n",
      "Testing feature sets combination 31 of 255 (['3gram09_', '3gram10_'])\n"
     ]
    },
    {
     "name": "stderr",
     "output_type": "stream",
     "text": [
      "100%|██████████| 29/29 [00:13<00:00,  2.15it/s]\n"
     ]
    },
    {
     "name": "stdout",
     "output_type": "stream",
     "text": [
      "Top model for ['3gram09_', '3gram10_']: QuadraticDiscriminantAnalysis. Accuracy = 0.2803030303030303\n",
      "\n",
      "Testing feature sets combination 32 of 255 (['3gram09_', 'amenity005_'])\n"
     ]
    },
    {
     "name": "stderr",
     "output_type": "stream",
     "text": [
      "100%|██████████| 29/29 [00:16<00:00,  1.71it/s]\n"
     ]
    },
    {
     "name": "stdout",
     "output_type": "stream",
     "text": [
      "Top model for ['3gram09_', 'amenity005_']: RandomForestClassifier. Accuracy = 0.3683712121212121\n",
      "\n",
      "Testing feature sets combination 33 of 255 (['3gram09_', 'amenityall_'])\n"
     ]
    },
    {
     "name": "stderr",
     "output_type": "stream",
     "text": [
      "100%|██████████| 29/29 [00:21<00:00,  1.37it/s]\n"
     ]
    },
    {
     "name": "stdout",
     "output_type": "stream",
     "text": [
      "Top model for ['3gram09_', 'amenityall_']: RandomForestClassifier. Accuracy = 0.5179924242424242\n",
      "\n",
      "Testing feature sets combination 34 of 255 (['3gram10_', 'amenity005_'])\n"
     ]
    },
    {
     "name": "stderr",
     "output_type": "stream",
     "text": [
      "100%|██████████| 29/29 [00:09<00:00,  3.16it/s]\n"
     ]
    },
    {
     "name": "stdout",
     "output_type": "stream",
     "text": [
      "Top model for ['3gram10_', 'amenity005_']: BaggingClassifier. Accuracy = 0.36363636363636365\n",
      "\n",
      "Testing feature sets combination 35 of 255 (['3gram10_', 'amenityall_'])\n"
     ]
    },
    {
     "name": "stderr",
     "output_type": "stream",
     "text": [
      "100%|██████████| 29/29 [00:13<00:00,  2.23it/s]\n"
     ]
    },
    {
     "name": "stdout",
     "output_type": "stream",
     "text": [
      "Top model for ['3gram10_', 'amenityall_']: ExtraTreesClassifier. Accuracy = 0.47632575757575757\n",
      "\n",
      "Testing feature sets combination 36 of 255 (['amenity005_', 'amenityall_'])\n"
     ]
    },
    {
     "name": "stderr",
     "output_type": "stream",
     "text": [
      "100%|██████████| 29/29 [00:16<00:00,  1.77it/s]\n"
     ]
    },
    {
     "name": "stdout",
     "output_type": "stream",
     "text": [
      "Top model for ['amenity005_', 'amenityall_']: ExtraTreesClassifier. Accuracy = 0.48011363636363635\n",
      "\n",
      "Testing feature sets combination 37 of 255 (['tsne2_comments_2D_', 'tsne3_comments_3D_', 'tsne2_description_2D_'])\n"
     ]
    },
    {
     "name": "stderr",
     "output_type": "stream",
     "text": [
      "100%|██████████| 29/29 [00:08<00:00,  3.41it/s]\n"
     ]
    },
    {
     "name": "stdout",
     "output_type": "stream",
     "text": [
      "Top model for ['tsne2_comments_2D_', 'tsne3_comments_3D_', 'tsne2_description_2D_']: ExtraTreesClassifier. Accuracy = 0.7982954545454546\n",
      "\n",
      "Testing feature sets combination 38 of 255 (['tsne2_comments_2D_', 'tsne3_comments_3D_', 'tsne3_description_3D_'])\n"
     ]
    },
    {
     "name": "stderr",
     "output_type": "stream",
     "text": [
      "100%|██████████| 29/29 [00:08<00:00,  3.31it/s]\n"
     ]
    },
    {
     "name": "stdout",
     "output_type": "stream",
     "text": [
      "Top model for ['tsne2_comments_2D_', 'tsne3_comments_3D_', 'tsne3_description_3D_']: ExtraTreesClassifier. Accuracy = 0.790719696969697\n",
      "\n",
      "Testing feature sets combination 39 of 255 (['tsne2_comments_2D_', 'tsne3_comments_3D_', '3gram09_'])\n"
     ]
    },
    {
     "name": "stderr",
     "output_type": "stream",
     "text": [
      "100%|██████████| 29/29 [00:18<00:00,  1.60it/s]\n"
     ]
    },
    {
     "name": "stdout",
     "output_type": "stream",
     "text": [
      "Top model for ['tsne2_comments_2D_', 'tsne3_comments_3D_', '3gram09_']: ExtraTreesClassifier. Accuracy = 0.8134469696969697\n",
      "\n",
      "Testing feature sets combination 40 of 255 (['tsne2_comments_2D_', 'tsne3_comments_3D_', '3gram10_'])\n"
     ]
    },
    {
     "name": "stderr",
     "output_type": "stream",
     "text": [
      "100%|██████████| 29/29 [00:09<00:00,  3.07it/s]\n"
     ]
    },
    {
     "name": "stdout",
     "output_type": "stream",
     "text": [
      "Top model for ['tsne2_comments_2D_', 'tsne3_comments_3D_', '3gram10_']: ExtraTreesClassifier. Accuracy = 0.7935606060606061\n",
      "\n",
      "Testing feature sets combination 41 of 255 (['tsne2_comments_2D_', 'tsne3_comments_3D_', 'amenity005_'])\n"
     ]
    },
    {
     "name": "stderr",
     "output_type": "stream",
     "text": [
      "100%|██████████| 29/29 [00:11<00:00,  2.55it/s]\n"
     ]
    },
    {
     "name": "stdout",
     "output_type": "stream",
     "text": [
      "Top model for ['tsne2_comments_2D_', 'tsne3_comments_3D_', 'amenity005_']: ExtraTreesClassifier. Accuracy = 0.8929924242424242\n",
      "\n",
      "Testing feature sets combination 42 of 255 (['tsne2_comments_2D_', 'tsne3_comments_3D_', 'amenityall_'])\n"
     ]
    },
    {
     "name": "stderr",
     "output_type": "stream",
     "text": [
      "100%|██████████| 29/29 [00:15<00:00,  1.90it/s]\n"
     ]
    },
    {
     "name": "stdout",
     "output_type": "stream",
     "text": [
      "Top model for ['tsne2_comments_2D_', 'tsne3_comments_3D_', 'amenityall_']: ExtraTreesClassifier. Accuracy = 0.9147727272727273\n",
      "\n",
      "Testing feature sets combination 43 of 255 (['tsne2_comments_2D_', 'tsne2_description_2D_', 'tsne3_description_3D_'])\n"
     ]
    },
    {
     "name": "stderr",
     "output_type": "stream",
     "text": [
      "100%|██████████| 29/29 [00:08<00:00,  3.30it/s]\n"
     ]
    },
    {
     "name": "stdout",
     "output_type": "stream",
     "text": [
      "Top model for ['tsne2_comments_2D_', 'tsne2_description_2D_', 'tsne3_description_3D_']: ExtraTreesClassifier. Accuracy = 0.78125\n",
      "\n",
      "Testing feature sets combination 44 of 255 (['tsne2_comments_2D_', 'tsne2_description_2D_', '3gram09_'])\n"
     ]
    },
    {
     "name": "stderr",
     "output_type": "stream",
     "text": [
      "100%|██████████| 29/29 [00:18<00:00,  1.57it/s]\n"
     ]
    },
    {
     "name": "stdout",
     "output_type": "stream",
     "text": [
      "Top model for ['tsne2_comments_2D_', 'tsne2_description_2D_', '3gram09_']: ExtraTreesClassifier. Accuracy = 0.6846590909090909\n",
      "\n",
      "Testing feature sets combination 45 of 255 (['tsne2_comments_2D_', 'tsne2_description_2D_', '3gram10_'])\n"
     ]
    },
    {
     "name": "stderr",
     "output_type": "stream",
     "text": [
      "100%|██████████| 29/29 [00:11<00:00,  2.59it/s]\n"
     ]
    },
    {
     "name": "stdout",
     "output_type": "stream",
     "text": [
      "Top model for ['tsne2_comments_2D_', 'tsne2_description_2D_', '3gram10_']: ExtraTreesClassifier. Accuracy = 0.7263257575757576\n",
      "\n",
      "Testing feature sets combination 46 of 255 (['tsne2_comments_2D_', 'tsne2_description_2D_', 'amenity005_'])\n"
     ]
    },
    {
     "name": "stderr",
     "output_type": "stream",
     "text": [
      "100%|██████████| 29/29 [00:13<00:00,  2.09it/s]\n"
     ]
    },
    {
     "name": "stdout",
     "output_type": "stream",
     "text": [
      "Top model for ['tsne2_comments_2D_', 'tsne2_description_2D_', 'amenity005_']: ExtraTreesClassifier. Accuracy = 0.8494318181818182\n",
      "\n",
      "Testing feature sets combination 47 of 255 (['tsne2_comments_2D_', 'tsne2_description_2D_', 'amenityall_'])\n"
     ]
    },
    {
     "name": "stderr",
     "output_type": "stream",
     "text": [
      "100%|██████████| 29/29 [00:18<00:00,  1.57it/s]\n"
     ]
    },
    {
     "name": "stdout",
     "output_type": "stream",
     "text": [
      "Top model for ['tsne2_comments_2D_', 'tsne2_description_2D_', 'amenityall_']: ExtraTreesClassifier. Accuracy = 0.8958333333333334\n",
      "\n",
      "Testing feature sets combination 48 of 255 (['tsne2_comments_2D_', 'tsne3_description_3D_', '3gram09_'])\n"
     ]
    },
    {
     "name": "stderr",
     "output_type": "stream",
     "text": [
      "100%|██████████| 29/29 [00:21<00:00,  1.35it/s]\n"
     ]
    },
    {
     "name": "stdout",
     "output_type": "stream",
     "text": [
      "Top model for ['tsne2_comments_2D_', 'tsne3_description_3D_', '3gram09_']: ExtraTreesClassifier. Accuracy = 0.803030303030303\n",
      "\n",
      "Testing feature sets combination 49 of 255 (['tsne2_comments_2D_', 'tsne3_description_3D_', '3gram10_'])\n"
     ]
    },
    {
     "name": "stderr",
     "output_type": "stream",
     "text": [
      "100%|██████████| 29/29 [00:12<00:00,  2.40it/s]\n"
     ]
    },
    {
     "name": "stdout",
     "output_type": "stream",
     "text": [
      "Top model for ['tsne2_comments_2D_', 'tsne3_description_3D_', '3gram10_']: ExtraTreesClassifier. Accuracy = 0.8039772727272727\n",
      "\n",
      "Testing feature sets combination 50 of 255 (['tsne2_comments_2D_', 'tsne3_description_3D_', 'amenity005_'])\n"
     ]
    },
    {
     "name": "stderr",
     "output_type": "stream",
     "text": [
      "100%|██████████| 29/29 [00:14<00:00,  1.95it/s]\n"
     ]
    },
    {
     "name": "stdout",
     "output_type": "stream",
     "text": [
      "Top model for ['tsne2_comments_2D_', 'tsne3_description_3D_', 'amenity005_']: ExtraTreesClassifier. Accuracy = 0.8958333333333334\n",
      "\n",
      "Testing feature sets combination 51 of 255 (['tsne2_comments_2D_', 'tsne3_description_3D_', 'amenityall_'])\n"
     ]
    },
    {
     "name": "stderr",
     "output_type": "stream",
     "text": [
      "100%|██████████| 29/29 [00:15<00:00,  1.82it/s]\n"
     ]
    },
    {
     "name": "stdout",
     "output_type": "stream",
     "text": [
      "Top model for ['tsne2_comments_2D_', 'tsne3_description_3D_', 'amenityall_']: ExtraTreesClassifier. Accuracy = 0.9090909090909091\n",
      "\n",
      "Testing feature sets combination 52 of 255 (['tsne2_comments_2D_', '3gram09_', '3gram10_'])\n"
     ]
    },
    {
     "name": "stderr",
     "output_type": "stream",
     "text": [
      "100%|██████████| 29/29 [00:14<00:00,  1.94it/s]\n"
     ]
    },
    {
     "name": "stdout",
     "output_type": "stream",
     "text": [
      "Top model for ['tsne2_comments_2D_', '3gram09_', '3gram10_']: RandomForestClassifier. Accuracy = 0.7121212121212122\n",
      "\n",
      "Testing feature sets combination 53 of 255 (['tsne2_comments_2D_', '3gram09_', 'amenity005_'])\n"
     ]
    },
    {
     "name": "stderr",
     "output_type": "stream",
     "text": [
      "100%|██████████| 29/29 [00:19<00:00,  1.48it/s]\n"
     ]
    },
    {
     "name": "stdout",
     "output_type": "stream",
     "text": [
      "Top model for ['tsne2_comments_2D_', '3gram09_', 'amenity005_']: RandomForestClassifier. Accuracy = 0.8371212121212122\n",
      "\n",
      "Testing feature sets combination 54 of 255 (['tsne2_comments_2D_', '3gram09_', 'amenityall_'])\n"
     ]
    },
    {
     "name": "stderr",
     "output_type": "stream",
     "text": [
      "100%|██████████| 29/29 [00:21<00:00,  1.34it/s]\n"
     ]
    },
    {
     "name": "stdout",
     "output_type": "stream",
     "text": [
      "Top model for ['tsne2_comments_2D_', '3gram09_', 'amenityall_']: LGBMClassifier. Accuracy = 0.8854166666666666\n",
      "\n",
      "Testing feature sets combination 55 of 255 (['tsne2_comments_2D_', '3gram10_', 'amenity005_'])\n"
     ]
    },
    {
     "name": "stderr",
     "output_type": "stream",
     "text": [
      "100%|██████████| 29/29 [00:10<00:00,  2.77it/s]\n"
     ]
    },
    {
     "name": "stdout",
     "output_type": "stream",
     "text": [
      "Top model for ['tsne2_comments_2D_', '3gram10_', 'amenity005_']: ExtraTreesClassifier. Accuracy = 0.8465909090909091\n",
      "\n",
      "Testing feature sets combination 56 of 255 (['tsne2_comments_2D_', '3gram10_', 'amenityall_'])\n"
     ]
    },
    {
     "name": "stderr",
     "output_type": "stream",
     "text": [
      "100%|██████████| 29/29 [00:14<00:00,  2.04it/s]\n"
     ]
    },
    {
     "name": "stdout",
     "output_type": "stream",
     "text": [
      "Top model for ['tsne2_comments_2D_', '3gram10_', 'amenityall_']: ExtraTreesClassifier. Accuracy = 0.8759469696969697\n",
      "\n",
      "Testing feature sets combination 57 of 255 (['tsne2_comments_2D_', 'amenity005_', 'amenityall_'])\n"
     ]
    },
    {
     "name": "stderr",
     "output_type": "stream",
     "text": [
      "100%|██████████| 29/29 [00:17<00:00,  1.63it/s]\n"
     ]
    },
    {
     "name": "stdout",
     "output_type": "stream",
     "text": [
      "Top model for ['tsne2_comments_2D_', 'amenity005_', 'amenityall_']: LGBMClassifier. Accuracy = 0.8787878787878788\n",
      "\n",
      "Testing feature sets combination 58 of 255 (['tsne3_comments_3D_', 'tsne2_description_2D_', 'tsne3_description_3D_'])\n"
     ]
    },
    {
     "name": "stderr",
     "output_type": "stream",
     "text": [
      "100%|██████████| 29/29 [00:08<00:00,  3.45it/s]\n"
     ]
    },
    {
     "name": "stdout",
     "output_type": "stream",
     "text": [
      "Top model for ['tsne3_comments_3D_', 'tsne2_description_2D_', 'tsne3_description_3D_']: ExtraTreesClassifier. Accuracy = 0.7954545454545454\n",
      "\n",
      "Testing feature sets combination 59 of 255 (['tsne3_comments_3D_', 'tsne2_description_2D_', '3gram09_'])\n"
     ]
    },
    {
     "name": "stderr",
     "output_type": "stream",
     "text": [
      "100%|██████████| 29/29 [00:15<00:00,  1.85it/s]\n"
     ]
    },
    {
     "name": "stdout",
     "output_type": "stream",
     "text": [
      "Top model for ['tsne3_comments_3D_', 'tsne2_description_2D_', '3gram09_']: ExtraTreesClassifier. Accuracy = 0.8020833333333334\n",
      "\n",
      "Testing feature sets combination 60 of 255 (['tsne3_comments_3D_', 'tsne2_description_2D_', '3gram10_'])\n"
     ]
    },
    {
     "name": "stderr",
     "output_type": "stream",
     "text": [
      "100%|██████████| 29/29 [00:08<00:00,  3.31it/s]\n"
     ]
    },
    {
     "name": "stdout",
     "output_type": "stream",
     "text": [
      "Top model for ['tsne3_comments_3D_', 'tsne2_description_2D_', '3gram10_']: ExtraTreesClassifier. Accuracy = 0.8001893939393939\n",
      "\n",
      "Testing feature sets combination 61 of 255 (['tsne3_comments_3D_', 'tsne2_description_2D_', 'amenity005_'])\n"
     ]
    },
    {
     "name": "stderr",
     "output_type": "stream",
     "text": [
      "100%|██████████| 29/29 [00:11<00:00,  2.62it/s]\n"
     ]
    },
    {
     "name": "stdout",
     "output_type": "stream",
     "text": [
      "Top model for ['tsne3_comments_3D_', 'tsne2_description_2D_', 'amenity005_']: ExtraTreesClassifier. Accuracy = 0.8854166666666666\n",
      "\n",
      "Testing feature sets combination 62 of 255 (['tsne3_comments_3D_', 'tsne2_description_2D_', 'amenityall_'])\n"
     ]
    },
    {
     "name": "stderr",
     "output_type": "stream",
     "text": [
      "100%|██████████| 29/29 [00:15<00:00,  1.90it/s]\n"
     ]
    },
    {
     "name": "stdout",
     "output_type": "stream",
     "text": [
      "Top model for ['tsne3_comments_3D_', 'tsne2_description_2D_', 'amenityall_']: ExtraTreesClassifier. Accuracy = 0.9176136363636364\n",
      "\n",
      "Testing feature sets combination 63 of 255 (['tsne3_comments_3D_', 'tsne3_description_3D_', '3gram09_'])\n"
     ]
    },
    {
     "name": "stderr",
     "output_type": "stream",
     "text": [
      "100%|██████████| 29/29 [00:16<00:00,  1.71it/s]\n"
     ]
    },
    {
     "name": "stdout",
     "output_type": "stream",
     "text": [
      "Top model for ['tsne3_comments_3D_', 'tsne3_description_3D_', '3gram09_']: RandomForestClassifier. Accuracy = 0.8011363636363636\n",
      "\n",
      "Testing feature sets combination 64 of 255 (['tsne3_comments_3D_', 'tsne3_description_3D_', '3gram10_'])\n"
     ]
    },
    {
     "name": "stderr",
     "output_type": "stream",
     "text": [
      "100%|██████████| 29/29 [00:09<00:00,  2.96it/s]\n"
     ]
    },
    {
     "name": "stdout",
     "output_type": "stream",
     "text": [
      "Top model for ['tsne3_comments_3D_', 'tsne3_description_3D_', '3gram10_']: ExtraTreesClassifier. Accuracy = 0.7982954545454546\n",
      "\n",
      "Testing feature sets combination 65 of 255 (['tsne3_comments_3D_', 'tsne3_description_3D_', 'amenity005_'])\n"
     ]
    },
    {
     "name": "stderr",
     "output_type": "stream",
     "text": [
      "100%|██████████| 29/29 [00:11<00:00,  2.46it/s]\n"
     ]
    },
    {
     "name": "stdout",
     "output_type": "stream",
     "text": [
      "Top model for ['tsne3_comments_3D_', 'tsne3_description_3D_', 'amenity005_']: ExtraTreesClassifier. Accuracy = 0.9043560606060606\n",
      "\n",
      "Testing feature sets combination 66 of 255 (['tsne3_comments_3D_', 'tsne3_description_3D_', 'amenityall_'])\n"
     ]
    },
    {
     "name": "stderr",
     "output_type": "stream",
     "text": [
      "100%|██████████| 29/29 [00:15<00:00,  1.83it/s]\n"
     ]
    },
    {
     "name": "stdout",
     "output_type": "stream",
     "text": [
      "Top model for ['tsne3_comments_3D_', 'tsne3_description_3D_', 'amenityall_']: ExtraTreesClassifier. Accuracy = 0.9204545454545454\n",
      "\n",
      "Testing feature sets combination 67 of 255 (['tsne3_comments_3D_', '3gram09_', '3gram10_'])\n"
     ]
    },
    {
     "name": "stderr",
     "output_type": "stream",
     "text": [
      "100%|██████████| 29/29 [00:15<00:00,  1.86it/s]\n"
     ]
    },
    {
     "name": "stdout",
     "output_type": "stream",
     "text": [
      "Top model for ['tsne3_comments_3D_', '3gram09_', '3gram10_']: ExtraTreesClassifier. Accuracy = 0.7897727272727273\n",
      "\n",
      "Testing feature sets combination 68 of 255 (['tsne3_comments_3D_', '3gram09_', 'amenity005_'])\n"
     ]
    },
    {
     "name": "stderr",
     "output_type": "stream",
     "text": [
      "100%|██████████| 29/29 [00:20<00:00,  1.45it/s]\n"
     ]
    },
    {
     "name": "stdout",
     "output_type": "stream",
     "text": [
      "Top model for ['tsne3_comments_3D_', '3gram09_', 'amenity005_']: ExtraTreesClassifier. Accuracy = 0.896780303030303\n",
      "\n",
      "Testing feature sets combination 69 of 255 (['tsne3_comments_3D_', '3gram09_', 'amenityall_'])\n"
     ]
    },
    {
     "name": "stderr",
     "output_type": "stream",
     "text": [
      "100%|██████████| 29/29 [00:22<00:00,  1.26it/s]\n"
     ]
    },
    {
     "name": "stdout",
     "output_type": "stream",
     "text": [
      "Top model for ['tsne3_comments_3D_', '3gram09_', 'amenityall_']: ExtraTreesClassifier. Accuracy = 0.9081439393939394\n",
      "\n",
      "Testing feature sets combination 70 of 255 (['tsne3_comments_3D_', '3gram10_', 'amenity005_'])\n"
     ]
    },
    {
     "name": "stderr",
     "output_type": "stream",
     "text": [
      "100%|██████████| 29/29 [00:11<00:00,  2.59it/s]\n"
     ]
    },
    {
     "name": "stdout",
     "output_type": "stream",
     "text": [
      "Top model for ['tsne3_comments_3D_', '3gram10_', 'amenity005_']: RandomForestClassifier. Accuracy = 0.8816287878787878\n",
      "\n",
      "Testing feature sets combination 71 of 255 (['tsne3_comments_3D_', '3gram10_', 'amenityall_'])\n"
     ]
    },
    {
     "name": "stderr",
     "output_type": "stream",
     "text": [
      "100%|██████████| 29/29 [00:14<00:00,  2.00it/s]\n"
     ]
    },
    {
     "name": "stdout",
     "output_type": "stream",
     "text": [
      "Top model for ['tsne3_comments_3D_', '3gram10_', 'amenityall_']: ExtraTreesClassifier. Accuracy = 0.9147727272727273\n",
      "\n",
      "Testing feature sets combination 72 of 255 (['tsne3_comments_3D_', 'amenity005_', 'amenityall_'])\n"
     ]
    },
    {
     "name": "stderr",
     "output_type": "stream",
     "text": [
      "100%|██████████| 29/29 [00:17<00:00,  1.63it/s]\n"
     ]
    },
    {
     "name": "stdout",
     "output_type": "stream",
     "text": [
      "Top model for ['tsne3_comments_3D_', 'amenity005_', 'amenityall_']: ExtraTreesClassifier. Accuracy = 0.9128787878787878\n",
      "\n",
      "Testing feature sets combination 73 of 255 (['tsne2_description_2D_', 'tsne3_description_3D_', '3gram09_'])\n"
     ]
    },
    {
     "name": "stderr",
     "output_type": "stream",
     "text": [
      "100%|██████████| 29/29 [00:16<00:00,  1.81it/s]\n"
     ]
    },
    {
     "name": "stdout",
     "output_type": "stream",
     "text": [
      "Top model for ['tsne2_description_2D_', 'tsne3_description_3D_', '3gram09_']: ExtraTreesClassifier. Accuracy = 0.7926136363636364\n",
      "\n",
      "Testing feature sets combination 74 of 255 (['tsne2_description_2D_', 'tsne3_description_3D_', '3gram10_'])\n"
     ]
    },
    {
     "name": "stderr",
     "output_type": "stream",
     "text": [
      "100%|██████████| 29/29 [00:09<00:00,  3.13it/s]\n"
     ]
    },
    {
     "name": "stdout",
     "output_type": "stream",
     "text": [
      "Top model for ['tsne2_description_2D_', 'tsne3_description_3D_', '3gram10_']: ExtraTreesClassifier. Accuracy = 0.8058712121212122\n",
      "\n",
      "Testing feature sets combination 75 of 255 (['tsne2_description_2D_', 'tsne3_description_3D_', 'amenity005_'])\n"
     ]
    },
    {
     "name": "stderr",
     "output_type": "stream",
     "text": [
      "100%|██████████| 29/29 [00:11<00:00,  2.55it/s]\n"
     ]
    },
    {
     "name": "stdout",
     "output_type": "stream",
     "text": [
      "Top model for ['tsne2_description_2D_', 'tsne3_description_3D_', 'amenity005_']: ExtraTreesClassifier. Accuracy = 0.8854166666666666\n",
      "\n",
      "Testing feature sets combination 76 of 255 (['tsne2_description_2D_', 'tsne3_description_3D_', 'amenityall_'])\n"
     ]
    },
    {
     "name": "stderr",
     "output_type": "stream",
     "text": [
      "100%|██████████| 29/29 [00:15<00:00,  1.88it/s]\n"
     ]
    },
    {
     "name": "stdout",
     "output_type": "stream",
     "text": [
      "Top model for ['tsne2_description_2D_', 'tsne3_description_3D_', 'amenityall_']: ExtraTreesClassifier. Accuracy = 0.9128787878787878\n",
      "\n",
      "Testing feature sets combination 77 of 255 (['tsne2_description_2D_', '3gram09_', '3gram10_'])\n"
     ]
    },
    {
     "name": "stderr",
     "output_type": "stream",
     "text": [
      "100%|██████████| 29/29 [00:14<00:00,  1.95it/s]\n"
     ]
    },
    {
     "name": "stdout",
     "output_type": "stream",
     "text": [
      "Top model for ['tsne2_description_2D_', '3gram09_', '3gram10_']: ExtraTreesClassifier. Accuracy = 0.6931818181818182\n",
      "\n",
      "Testing feature sets combination 78 of 255 (['tsne2_description_2D_', '3gram09_', 'amenity005_'])\n"
     ]
    },
    {
     "name": "stderr",
     "output_type": "stream",
     "text": [
      "100%|██████████| 29/29 [00:20<00:00,  1.44it/s]\n"
     ]
    },
    {
     "name": "stdout",
     "output_type": "stream",
     "text": [
      "Top model for ['tsne2_description_2D_', '3gram09_', 'amenity005_']: ExtraTreesClassifier. Accuracy = 0.8418560606060606\n",
      "\n",
      "Testing feature sets combination 79 of 255 (['tsne2_description_2D_', '3gram09_', 'amenityall_'])\n"
     ]
    },
    {
     "name": "stderr",
     "output_type": "stream",
     "text": [
      "100%|██████████| 29/29 [00:23<00:00,  1.23it/s]\n"
     ]
    },
    {
     "name": "stdout",
     "output_type": "stream",
     "text": [
      "Top model for ['tsne2_description_2D_', '3gram09_', 'amenityall_']: ExtraTreesClassifier. Accuracy = 0.8797348484848485\n",
      "\n",
      "Testing feature sets combination 80 of 255 (['tsne2_description_2D_', '3gram10_', 'amenity005_'])\n"
     ]
    },
    {
     "name": "stderr",
     "output_type": "stream",
     "text": [
      "100%|██████████| 29/29 [00:10<00:00,  2.67it/s]\n"
     ]
    },
    {
     "name": "stdout",
     "output_type": "stream",
     "text": [
      "Top model for ['tsne2_description_2D_', '3gram10_', 'amenity005_']: RandomForestClassifier. Accuracy = 0.8390151515151515\n",
      "\n",
      "Testing feature sets combination 81 of 255 (['tsne2_description_2D_', '3gram10_', 'amenityall_'])\n"
     ]
    },
    {
     "name": "stderr",
     "output_type": "stream",
     "text": [
      "100%|██████████| 29/29 [00:14<00:00,  2.04it/s]\n"
     ]
    },
    {
     "name": "stdout",
     "output_type": "stream",
     "text": [
      "Top model for ['tsne2_description_2D_', '3gram10_', 'amenityall_']: RandomForestClassifier. Accuracy = 0.8683712121212122\n",
      "\n",
      "Testing feature sets combination 82 of 255 (['tsne2_description_2D_', 'amenity005_', 'amenityall_'])\n"
     ]
    },
    {
     "name": "stderr",
     "output_type": "stream",
     "text": [
      "100%|██████████| 29/29 [00:17<00:00,  1.66it/s]\n"
     ]
    },
    {
     "name": "stdout",
     "output_type": "stream",
     "text": [
      "Top model for ['tsne2_description_2D_', 'amenity005_', 'amenityall_']: RandomForestClassifier. Accuracy = 0.8683712121212122\n",
      "\n",
      "Testing feature sets combination 83 of 255 (['tsne3_description_3D_', '3gram09_', '3gram10_'])\n"
     ]
    },
    {
     "name": "stderr",
     "output_type": "stream",
     "text": [
      "100%|██████████| 29/29 [00:15<00:00,  1.88it/s]\n"
     ]
    },
    {
     "name": "stdout",
     "output_type": "stream",
     "text": [
      "Top model for ['tsne3_description_3D_', '3gram09_', '3gram10_']: ExtraTreesClassifier. Accuracy = 0.7840909090909091\n",
      "\n",
      "Testing feature sets combination 84 of 255 (['tsne3_description_3D_', '3gram09_', 'amenity005_'])\n"
     ]
    },
    {
     "name": "stderr",
     "output_type": "stream",
     "text": [
      "100%|██████████| 29/29 [00:20<00:00,  1.45it/s]\n"
     ]
    },
    {
     "name": "stdout",
     "output_type": "stream",
     "text": [
      "Top model for ['tsne3_description_3D_', '3gram09_', 'amenity005_']: ExtraTreesClassifier. Accuracy = 0.8920454545454546\n",
      "\n",
      "Testing feature sets combination 85 of 255 (['tsne3_description_3D_', '3gram09_', 'amenityall_'])\n"
     ]
    },
    {
     "name": "stderr",
     "output_type": "stream",
     "text": [
      "100%|██████████| 29/29 [00:22<00:00,  1.29it/s]\n"
     ]
    },
    {
     "name": "stdout",
     "output_type": "stream",
     "text": [
      "Top model for ['tsne3_description_3D_', '3gram09_', 'amenityall_']: ExtraTreesClassifier. Accuracy = 0.9270833333333334\n",
      "New best model found! Accuracy = 0.9270833333333334\n",
      "\n",
      "Testing feature sets combination 86 of 255 (['tsne3_description_3D_', '3gram10_', 'amenity005_'])\n"
     ]
    },
    {
     "name": "stderr",
     "output_type": "stream",
     "text": [
      "100%|██████████| 29/29 [00:11<00:00,  2.63it/s]\n"
     ]
    },
    {
     "name": "stdout",
     "output_type": "stream",
     "text": [
      "Top model for ['tsne3_description_3D_', '3gram10_', 'amenity005_']: ExtraTreesClassifier. Accuracy = 0.8778409090909091\n",
      "\n",
      "Testing feature sets combination 87 of 255 (['tsne3_description_3D_', '3gram10_', 'amenityall_'])\n"
     ]
    },
    {
     "name": "stderr",
     "output_type": "stream",
     "text": [
      "100%|██████████| 29/29 [00:14<00:00,  1.95it/s]\n"
     ]
    },
    {
     "name": "stdout",
     "output_type": "stream",
     "text": [
      "Top model for ['tsne3_description_3D_', '3gram10_', 'amenityall_']: ExtraTreesClassifier. Accuracy = 0.9090909090909091\n",
      "\n",
      "Testing feature sets combination 88 of 255 (['tsne3_description_3D_', 'amenity005_', 'amenityall_'])\n"
     ]
    },
    {
     "name": "stderr",
     "output_type": "stream",
     "text": [
      "100%|██████████| 29/29 [00:18<00:00,  1.60it/s]\n"
     ]
    },
    {
     "name": "stdout",
     "output_type": "stream",
     "text": [
      "Top model for ['tsne3_description_3D_', 'amenity005_', 'amenityall_']: LGBMClassifier. Accuracy = 0.9090909090909091\n",
      "\n",
      "Testing feature sets combination 89 of 255 (['3gram09_', '3gram10_', 'amenity005_'])\n"
     ]
    },
    {
     "name": "stderr",
     "output_type": "stream",
     "text": [
      "100%|██████████| 29/29 [00:18<00:00,  1.56it/s]\n"
     ]
    },
    {
     "name": "stdout",
     "output_type": "stream",
     "text": [
      "Top model for ['3gram09_', '3gram10_', 'amenity005_']: BaggingClassifier. Accuracy = 0.38257575757575757\n",
      "\n",
      "Testing feature sets combination 90 of 255 (['3gram09_', '3gram10_', 'amenityall_'])\n"
     ]
    },
    {
     "name": "stderr",
     "output_type": "stream",
     "text": [
      "100%|██████████| 29/29 [00:22<00:00,  1.27it/s]\n"
     ]
    },
    {
     "name": "stdout",
     "output_type": "stream",
     "text": [
      "Top model for ['3gram09_', '3gram10_', 'amenityall_']: ExtraTreesClassifier. Accuracy = 0.5198863636363636\n",
      "\n",
      "Testing feature sets combination 91 of 255 (['3gram09_', 'amenity005_', 'amenityall_'])\n"
     ]
    },
    {
     "name": "stderr",
     "output_type": "stream",
     "text": [
      "100%|██████████| 29/29 [00:24<00:00,  1.19it/s]\n"
     ]
    },
    {
     "name": "stdout",
     "output_type": "stream",
     "text": [
      "Top model for ['3gram09_', 'amenity005_', 'amenityall_']: NuSVC. Accuracy = 0.4772727272727273\n",
      "\n",
      "Testing feature sets combination 92 of 255 (['3gram10_', 'amenity005_', 'amenityall_'])\n"
     ]
    },
    {
     "name": "stderr",
     "output_type": "stream",
     "text": [
      "100%|██████████| 29/29 [00:17<00:00,  1.66it/s]\n"
     ]
    },
    {
     "name": "stdout",
     "output_type": "stream",
     "text": [
      "Top model for ['3gram10_', 'amenity005_', 'amenityall_']: ExtraTreesClassifier. Accuracy = 0.5075757575757576\n",
      "\n",
      "Testing feature sets combination 93 of 255 (['tsne2_comments_2D_', 'tsne3_comments_3D_', 'tsne2_description_2D_', 'tsne3_description_3D_'])\n"
     ]
    },
    {
     "name": "stderr",
     "output_type": "stream",
     "text": [
      "100%|██████████| 29/29 [00:10<00:00,  2.81it/s]\n"
     ]
    },
    {
     "name": "stdout",
     "output_type": "stream",
     "text": [
      "Top model for ['tsne2_comments_2D_', 'tsne3_comments_3D_', 'tsne2_description_2D_', 'tsne3_description_3D_']: ExtraTreesClassifier. Accuracy = 0.8172348484848485\n",
      "\n",
      "Testing feature sets combination 94 of 255 (['tsne2_comments_2D_', 'tsne3_comments_3D_', 'tsne2_description_2D_', '3gram09_'])\n"
     ]
    },
    {
     "name": "stderr",
     "output_type": "stream",
     "text": [
      "100%|██████████| 29/29 [00:17<00:00,  1.66it/s]\n"
     ]
    },
    {
     "name": "stdout",
     "output_type": "stream",
     "text": [
      "Top model for ['tsne2_comments_2D_', 'tsne3_comments_3D_', 'tsne2_description_2D_', '3gram09_']: ExtraTreesClassifier. Accuracy = 0.7926136363636364\n",
      "\n",
      "Testing feature sets combination 95 of 255 (['tsne2_comments_2D_', 'tsne3_comments_3D_', 'tsne2_description_2D_', '3gram10_'])\n"
     ]
    },
    {
     "name": "stderr",
     "output_type": "stream",
     "text": [
      "100%|██████████| 29/29 [00:10<00:00,  2.72it/s]\n"
     ]
    },
    {
     "name": "stdout",
     "output_type": "stream",
     "text": [
      "Top model for ['tsne2_comments_2D_', 'tsne3_comments_3D_', 'tsne2_description_2D_', '3gram10_']: ExtraTreesClassifier. Accuracy = 0.8068181818181818\n",
      "\n",
      "Testing feature sets combination 96 of 255 (['tsne2_comments_2D_', 'tsne3_comments_3D_', 'tsne2_description_2D_', 'amenity005_'])\n"
     ]
    },
    {
     "name": "stderr",
     "output_type": "stream",
     "text": [
      "100%|██████████| 29/29 [00:12<00:00,  2.37it/s]\n"
     ]
    },
    {
     "name": "stdout",
     "output_type": "stream",
     "text": [
      "Top model for ['tsne2_comments_2D_', 'tsne3_comments_3D_', 'tsne2_description_2D_', 'amenity005_']: ExtraTreesClassifier. Accuracy = 0.8948863636363636\n",
      "\n",
      "Testing feature sets combination 97 of 255 (['tsne2_comments_2D_', 'tsne3_comments_3D_', 'tsne2_description_2D_', 'amenityall_'])\n"
     ]
    },
    {
     "name": "stderr",
     "output_type": "stream",
     "text": [
      "100%|██████████| 29/29 [00:16<00:00,  1.77it/s]\n"
     ]
    },
    {
     "name": "stdout",
     "output_type": "stream",
     "text": [
      "Top model for ['tsne2_comments_2D_', 'tsne3_comments_3D_', 'tsne2_description_2D_', 'amenityall_']: ExtraTreesClassifier. Accuracy = 0.9119318181818182\n",
      "\n",
      "Testing feature sets combination 98 of 255 (['tsne2_comments_2D_', 'tsne3_comments_3D_', 'tsne3_description_3D_', '3gram09_'])\n"
     ]
    },
    {
     "name": "stderr",
     "output_type": "stream",
     "text": [
      "100%|██████████| 29/29 [00:17<00:00,  1.62it/s]\n"
     ]
    },
    {
     "name": "stdout",
     "output_type": "stream",
     "text": [
      "Top model for ['tsne2_comments_2D_', 'tsne3_comments_3D_', 'tsne3_description_3D_', '3gram09_']: ExtraTreesClassifier. Accuracy = 0.78125\n",
      "\n",
      "Testing feature sets combination 99 of 255 (['tsne2_comments_2D_', 'tsne3_comments_3D_', 'tsne3_description_3D_', '3gram10_'])\n"
     ]
    },
    {
     "name": "stderr",
     "output_type": "stream",
     "text": [
      "100%|██████████| 29/29 [00:10<00:00,  2.80it/s]\n"
     ]
    },
    {
     "name": "stdout",
     "output_type": "stream",
     "text": [
      "Top model for ['tsne2_comments_2D_', 'tsne3_comments_3D_', 'tsne3_description_3D_', '3gram10_']: ExtraTreesClassifier. Accuracy = 0.8276515151515151\n",
      "\n",
      "Testing feature sets combination 100 of 255 (['tsne2_comments_2D_', 'tsne3_comments_3D_', 'tsne3_description_3D_', 'amenity005_'])\n"
     ]
    },
    {
     "name": "stderr",
     "output_type": "stream",
     "text": [
      "100%|██████████| 29/29 [00:12<00:00,  2.26it/s]\n"
     ]
    },
    {
     "name": "stdout",
     "output_type": "stream",
     "text": [
      "Top model for ['tsne2_comments_2D_', 'tsne3_comments_3D_', 'tsne3_description_3D_', 'amenity005_']: ExtraTreesClassifier. Accuracy = 0.896780303030303\n",
      "\n",
      "Testing feature sets combination 101 of 255 (['tsne2_comments_2D_', 'tsne3_comments_3D_', 'tsne3_description_3D_', 'amenityall_'])\n"
     ]
    },
    {
     "name": "stderr",
     "output_type": "stream",
     "text": [
      "100%|██████████| 29/29 [00:17<00:00,  1.67it/s]\n"
     ]
    },
    {
     "name": "stdout",
     "output_type": "stream",
     "text": [
      "Top model for ['tsne2_comments_2D_', 'tsne3_comments_3D_', 'tsne3_description_3D_', 'amenityall_']: ExtraTreesClassifier. Accuracy = 0.9081439393939394\n",
      "\n",
      "Testing feature sets combination 102 of 255 (['tsne2_comments_2D_', 'tsne3_comments_3D_', '3gram09_', '3gram10_'])\n"
     ]
    },
    {
     "name": "stderr",
     "output_type": "stream",
     "text": [
      "100%|██████████| 29/29 [00:16<00:00,  1.76it/s]\n"
     ]
    },
    {
     "name": "stdout",
     "output_type": "stream",
     "text": [
      "Top model for ['tsne2_comments_2D_', 'tsne3_comments_3D_', '3gram09_', '3gram10_']: ExtraTreesClassifier. Accuracy = 0.8011363636363636\n",
      "\n",
      "Testing feature sets combination 103 of 255 (['tsne2_comments_2D_', 'tsne3_comments_3D_', '3gram09_', 'amenity005_'])\n"
     ]
    },
    {
     "name": "stderr",
     "output_type": "stream",
     "text": [
      "100%|██████████| 29/29 [00:21<00:00,  1.37it/s]\n"
     ]
    },
    {
     "name": "stdout",
     "output_type": "stream",
     "text": [
      "Top model for ['tsne2_comments_2D_', 'tsne3_comments_3D_', '3gram09_', 'amenity005_']: ExtraTreesClassifier. Accuracy = 0.8958333333333334\n",
      "\n",
      "Testing feature sets combination 104 of 255 (['tsne2_comments_2D_', 'tsne3_comments_3D_', '3gram09_', 'amenityall_'])\n"
     ]
    },
    {
     "name": "stderr",
     "output_type": "stream",
     "text": [
      "100%|██████████| 29/29 [00:22<00:00,  1.27it/s]\n"
     ]
    },
    {
     "name": "stdout",
     "output_type": "stream",
     "text": [
      "Top model for ['tsne2_comments_2D_', 'tsne3_comments_3D_', '3gram09_', 'amenityall_']: ExtraTreesClassifier. Accuracy = 0.9195075757575758\n",
      "\n",
      "Testing feature sets combination 105 of 255 (['tsne2_comments_2D_', 'tsne3_comments_3D_', '3gram10_', 'amenity005_'])\n"
     ]
    },
    {
     "name": "stderr",
     "output_type": "stream",
     "text": [
      "100%|██████████| 29/29 [00:11<00:00,  2.45it/s]\n"
     ]
    },
    {
     "name": "stdout",
     "output_type": "stream",
     "text": [
      "Top model for ['tsne2_comments_2D_', 'tsne3_comments_3D_', '3gram10_', 'amenity005_']: ExtraTreesClassifier. Accuracy = 0.8977272727272727\n",
      "\n",
      "Testing feature sets combination 106 of 255 (['tsne2_comments_2D_', 'tsne3_comments_3D_', '3gram10_', 'amenityall_'])\n"
     ]
    },
    {
     "name": "stderr",
     "output_type": "stream",
     "text": [
      "100%|██████████| 29/29 [00:15<00:00,  1.82it/s]\n"
     ]
    },
    {
     "name": "stdout",
     "output_type": "stream",
     "text": [
      "Top model for ['tsne2_comments_2D_', 'tsne3_comments_3D_', '3gram10_', 'amenityall_']: ExtraTreesClassifier. Accuracy = 0.9251893939393939\n",
      "\n",
      "Testing feature sets combination 107 of 255 (['tsne2_comments_2D_', 'tsne3_comments_3D_', 'amenity005_', 'amenityall_'])\n"
     ]
    },
    {
     "name": "stderr",
     "output_type": "stream",
     "text": [
      "100%|██████████| 29/29 [00:18<00:00,  1.58it/s]\n"
     ]
    },
    {
     "name": "stdout",
     "output_type": "stream",
     "text": [
      "Top model for ['tsne2_comments_2D_', 'tsne3_comments_3D_', 'amenity005_', 'amenityall_']: ExtraTreesClassifier. Accuracy = 0.9071969696969697\n",
      "\n",
      "Testing feature sets combination 108 of 255 (['tsne2_comments_2D_', 'tsne2_description_2D_', 'tsne3_description_3D_', '3gram09_'])\n"
     ]
    },
    {
     "name": "stderr",
     "output_type": "stream",
     "text": [
      "100%|██████████| 29/29 [00:17<00:00,  1.65it/s]\n"
     ]
    },
    {
     "name": "stdout",
     "output_type": "stream",
     "text": [
      "Top model for ['tsne2_comments_2D_', 'tsne2_description_2D_', 'tsne3_description_3D_', '3gram09_']: ExtraTreesClassifier. Accuracy = 0.8020833333333334\n",
      "\n",
      "Testing feature sets combination 109 of 255 (['tsne2_comments_2D_', 'tsne2_description_2D_', 'tsne3_description_3D_', '3gram10_'])\n"
     ]
    },
    {
     "name": "stderr",
     "output_type": "stream",
     "text": [
      "100%|██████████| 29/29 [00:10<00:00,  2.82it/s]\n"
     ]
    },
    {
     "name": "stdout",
     "output_type": "stream",
     "text": [
      "Top model for ['tsne2_comments_2D_', 'tsne2_description_2D_', 'tsne3_description_3D_', '3gram10_']: ExtraTreesClassifier. Accuracy = 0.8058712121212122\n",
      "\n",
      "Testing feature sets combination 110 of 255 (['tsne2_comments_2D_', 'tsne2_description_2D_', 'tsne3_description_3D_', 'amenity005_'])\n"
     ]
    },
    {
     "name": "stderr",
     "output_type": "stream",
     "text": [
      "100%|██████████| 29/29 [00:12<00:00,  2.33it/s]\n"
     ]
    },
    {
     "name": "stdout",
     "output_type": "stream",
     "text": [
      "Top model for ['tsne2_comments_2D_', 'tsne2_description_2D_', 'tsne3_description_3D_', 'amenity005_']: ExtraTreesClassifier. Accuracy = 0.8939393939393939\n",
      "\n",
      "Testing feature sets combination 111 of 255 (['tsne2_comments_2D_', 'tsne2_description_2D_', 'tsne3_description_3D_', 'amenityall_'])\n"
     ]
    },
    {
     "name": "stderr",
     "output_type": "stream",
     "text": [
      "100%|██████████| 29/29 [00:16<00:00,  1.76it/s]\n"
     ]
    },
    {
     "name": "stdout",
     "output_type": "stream",
     "text": [
      "Top model for ['tsne2_comments_2D_', 'tsne2_description_2D_', 'tsne3_description_3D_', 'amenityall_']: ExtraTreesClassifier. Accuracy = 0.9166666666666666\n",
      "\n",
      "Testing feature sets combination 112 of 255 (['tsne2_comments_2D_', 'tsne2_description_2D_', '3gram09_', '3gram10_'])\n"
     ]
    },
    {
     "name": "stderr",
     "output_type": "stream",
     "text": [
      "100%|██████████| 29/29 [00:15<00:00,  1.82it/s]\n"
     ]
    },
    {
     "name": "stdout",
     "output_type": "stream",
     "text": [
      "Top model for ['tsne2_comments_2D_', 'tsne2_description_2D_', '3gram09_', '3gram10_']: ExtraTreesClassifier. Accuracy = 0.696969696969697\n",
      "\n",
      "Testing feature sets combination 113 of 255 (['tsne2_comments_2D_', 'tsne2_description_2D_', '3gram09_', 'amenity005_'])\n"
     ]
    },
    {
     "name": "stderr",
     "output_type": "stream",
     "text": [
      "100%|██████████| 29/29 [00:21<00:00,  1.37it/s]\n"
     ]
    },
    {
     "name": "stdout",
     "output_type": "stream",
     "text": [
      "Top model for ['tsne2_comments_2D_', 'tsne2_description_2D_', '3gram09_', 'amenity005_']: ExtraTreesClassifier. Accuracy = 0.8361742424242424\n",
      "\n",
      "Testing feature sets combination 114 of 255 (['tsne2_comments_2D_', 'tsne2_description_2D_', '3gram09_', 'amenityall_'])\n"
     ]
    },
    {
     "name": "stderr",
     "output_type": "stream",
     "text": [
      "100%|██████████| 29/29 [00:23<00:00,  1.23it/s]\n"
     ]
    },
    {
     "name": "stdout",
     "output_type": "stream",
     "text": [
      "Top model for ['tsne2_comments_2D_', 'tsne2_description_2D_', '3gram09_', 'amenityall_']: ExtraTreesClassifier. Accuracy = 0.9034090909090909\n",
      "\n",
      "Testing feature sets combination 115 of 255 (['tsne2_comments_2D_', 'tsne2_description_2D_', '3gram10_', 'amenity005_'])\n"
     ]
    },
    {
     "name": "stderr",
     "output_type": "stream",
     "text": [
      "100%|██████████| 29/29 [00:11<00:00,  2.47it/s]\n"
     ]
    },
    {
     "name": "stdout",
     "output_type": "stream",
     "text": [
      "Top model for ['tsne2_comments_2D_', 'tsne2_description_2D_', '3gram10_', 'amenity005_']: ExtraTreesClassifier. Accuracy = 0.865530303030303\n",
      "\n",
      "Testing feature sets combination 116 of 255 (['tsne2_comments_2D_', 'tsne2_description_2D_', '3gram10_', 'amenityall_'])\n"
     ]
    },
    {
     "name": "stderr",
     "output_type": "stream",
     "text": [
      "100%|██████████| 29/29 [00:15<00:00,  1.85it/s]\n"
     ]
    },
    {
     "name": "stdout",
     "output_type": "stream",
     "text": [
      "Top model for ['tsne2_comments_2D_', 'tsne2_description_2D_', '3gram10_', 'amenityall_']: ExtraTreesClassifier. Accuracy = 0.8863636363636364\n",
      "\n",
      "Testing feature sets combination 117 of 255 (['tsne2_comments_2D_', 'tsne2_description_2D_', 'amenity005_', 'amenityall_'])\n"
     ]
    },
    {
     "name": "stderr",
     "output_type": "stream",
     "text": [
      "100%|██████████| 29/29 [00:18<00:00,  1.60it/s]\n"
     ]
    },
    {
     "name": "stdout",
     "output_type": "stream",
     "text": [
      "Top model for ['tsne2_comments_2D_', 'tsne2_description_2D_', 'amenity005_', 'amenityall_']: LGBMClassifier. Accuracy = 0.8740530303030303\n",
      "\n",
      "Testing feature sets combination 118 of 255 (['tsne2_comments_2D_', 'tsne3_description_3D_', '3gram09_', '3gram10_'])\n"
     ]
    },
    {
     "name": "stderr",
     "output_type": "stream",
     "text": [
      "100%|██████████| 29/29 [00:16<00:00,  1.73it/s]\n"
     ]
    },
    {
     "name": "stdout",
     "output_type": "stream",
     "text": [
      "Top model for ['tsne2_comments_2D_', 'tsne3_description_3D_', '3gram09_', '3gram10_']: ExtraTreesClassifier. Accuracy = 0.8011363636363636\n",
      "\n",
      "Testing feature sets combination 119 of 255 (['tsne2_comments_2D_', 'tsne3_description_3D_', '3gram09_', 'amenity005_'])\n"
     ]
    },
    {
     "name": "stderr",
     "output_type": "stream",
     "text": [
      "100%|██████████| 29/29 [00:21<00:00,  1.33it/s]\n"
     ]
    },
    {
     "name": "stdout",
     "output_type": "stream",
     "text": [
      "Top model for ['tsne2_comments_2D_', 'tsne3_description_3D_', '3gram09_', 'amenity005_']: ExtraTreesClassifier. Accuracy = 0.8854166666666666\n",
      "\n",
      "Testing feature sets combination 120 of 255 (['tsne2_comments_2D_', 'tsne3_description_3D_', '3gram09_', 'amenityall_'])\n"
     ]
    },
    {
     "name": "stderr",
     "output_type": "stream",
     "text": [
      "100%|██████████| 29/29 [00:23<00:00,  1.25it/s]\n"
     ]
    },
    {
     "name": "stdout",
     "output_type": "stream",
     "text": [
      "Top model for ['tsne2_comments_2D_', 'tsne3_description_3D_', '3gram09_', 'amenityall_']: ExtraTreesClassifier. Accuracy = 0.915719696969697\n",
      "\n",
      "Testing feature sets combination 121 of 255 (['tsne2_comments_2D_', 'tsne3_description_3D_', '3gram10_', 'amenity005_'])\n"
     ]
    },
    {
     "name": "stderr",
     "output_type": "stream",
     "text": [
      "100%|██████████| 29/29 [00:11<00:00,  2.47it/s]\n"
     ]
    },
    {
     "name": "stdout",
     "output_type": "stream",
     "text": [
      "Top model for ['tsne2_comments_2D_', 'tsne3_description_3D_', '3gram10_', 'amenity005_']: ExtraTreesClassifier. Accuracy = 0.8873106060606061\n",
      "\n",
      "Testing feature sets combination 122 of 255 (['tsne2_comments_2D_', 'tsne3_description_3D_', '3gram10_', 'amenityall_'])\n"
     ]
    },
    {
     "name": "stderr",
     "output_type": "stream",
     "text": [
      "100%|██████████| 29/29 [00:15<00:00,  1.81it/s]\n"
     ]
    },
    {
     "name": "stdout",
     "output_type": "stream",
     "text": [
      "Top model for ['tsne2_comments_2D_', 'tsne3_description_3D_', '3gram10_', 'amenityall_']: ExtraTreesClassifier. Accuracy = 0.9128787878787878\n",
      "\n",
      "Testing feature sets combination 123 of 255 (['tsne2_comments_2D_', 'tsne3_description_3D_', 'amenity005_', 'amenityall_'])\n"
     ]
    },
    {
     "name": "stderr",
     "output_type": "stream",
     "text": [
      "100%|██████████| 29/29 [00:18<00:00,  1.58it/s]\n"
     ]
    },
    {
     "name": "stdout",
     "output_type": "stream",
     "text": [
      "Top model for ['tsne2_comments_2D_', 'tsne3_description_3D_', 'amenity005_', 'amenityall_']: ExtraTreesClassifier. Accuracy = 0.9109848484848485\n",
      "\n",
      "Testing feature sets combination 124 of 255 (['tsne2_comments_2D_', '3gram09_', '3gram10_', 'amenity005_'])\n"
     ]
    },
    {
     "name": "stderr",
     "output_type": "stream",
     "text": [
      "100%|██████████| 29/29 [00:20<00:00,  1.41it/s]\n"
     ]
    },
    {
     "name": "stdout",
     "output_type": "stream",
     "text": [
      "Top model for ['tsne2_comments_2D_', '3gram09_', '3gram10_', 'amenity005_']: ExtraTreesClassifier. Accuracy = 0.8380681818181818\n",
      "\n",
      "Testing feature sets combination 125 of 255 (['tsne2_comments_2D_', '3gram09_', '3gram10_', 'amenityall_'])\n"
     ]
    },
    {
     "name": "stderr",
     "output_type": "stream",
     "text": [
      "100%|██████████| 29/29 [00:22<00:00,  1.26it/s]\n"
     ]
    },
    {
     "name": "stdout",
     "output_type": "stream",
     "text": [
      "Top model for ['tsne2_comments_2D_', '3gram09_', '3gram10_', 'amenityall_']: LGBMClassifier. Accuracy = 0.884469696969697\n",
      "\n",
      "Testing feature sets combination 126 of 255 (['tsne2_comments_2D_', '3gram09_', 'amenity005_', 'amenityall_'])\n"
     ]
    },
    {
     "name": "stderr",
     "output_type": "stream",
     "text": [
      "100%|██████████| 29/29 [00:25<00:00,  1.14it/s]\n"
     ]
    },
    {
     "name": "stdout",
     "output_type": "stream",
     "text": [
      "Top model for ['tsne2_comments_2D_', '3gram09_', 'amenity005_', 'amenityall_']: LGBMClassifier. Accuracy = 0.8768939393939394\n",
      "\n",
      "Testing feature sets combination 127 of 255 (['tsne2_comments_2D_', '3gram10_', 'amenity005_', 'amenityall_'])\n"
     ]
    },
    {
     "name": "stderr",
     "output_type": "stream",
     "text": [
      "100%|██████████| 29/29 [00:17<00:00,  1.63it/s]\n"
     ]
    },
    {
     "name": "stdout",
     "output_type": "stream",
     "text": [
      "Top model for ['tsne2_comments_2D_', '3gram10_', 'amenity005_', 'amenityall_']: LGBMClassifier. Accuracy = 0.8797348484848485\n",
      "\n",
      "Testing feature sets combination 128 of 255 (['tsne3_comments_3D_', 'tsne2_description_2D_', 'tsne3_description_3D_', '3gram09_'])\n"
     ]
    },
    {
     "name": "stderr",
     "output_type": "stream",
     "text": [
      "100%|██████████| 29/29 [00:17<00:00,  1.62it/s]\n"
     ]
    },
    {
     "name": "stdout",
     "output_type": "stream",
     "text": [
      "Top model for ['tsne3_comments_3D_', 'tsne2_description_2D_', 'tsne3_description_3D_', '3gram09_']: ExtraTreesClassifier. Accuracy = 0.8068181818181818\n",
      "\n",
      "Testing feature sets combination 129 of 255 (['tsne3_comments_3D_', 'tsne2_description_2D_', 'tsne3_description_3D_', '3gram10_'])\n"
     ]
    },
    {
     "name": "stderr",
     "output_type": "stream",
     "text": [
      "100%|██████████| 29/29 [00:10<00:00,  2.73it/s]\n"
     ]
    },
    {
     "name": "stdout",
     "output_type": "stream",
     "text": [
      "Top model for ['tsne3_comments_3D_', 'tsne2_description_2D_', 'tsne3_description_3D_', '3gram10_']: ExtraTreesClassifier. Accuracy = 0.8058712121212122\n",
      "\n",
      "Testing feature sets combination 130 of 255 (['tsne3_comments_3D_', 'tsne2_description_2D_', 'tsne3_description_3D_', 'amenity005_'])\n"
     ]
    },
    {
     "name": "stderr",
     "output_type": "stream",
     "text": [
      "100%|██████████| 29/29 [00:12<00:00,  2.31it/s]\n"
     ]
    },
    {
     "name": "stdout",
     "output_type": "stream",
     "text": [
      "Top model for ['tsne3_comments_3D_', 'tsne2_description_2D_', 'tsne3_description_3D_', 'amenity005_']: ExtraTreesClassifier. Accuracy = 0.8863636363636364\n",
      "\n",
      "Testing feature sets combination 131 of 255 (['tsne3_comments_3D_', 'tsne2_description_2D_', 'tsne3_description_3D_', 'amenityall_'])\n"
     ]
    },
    {
     "name": "stderr",
     "output_type": "stream",
     "text": [
      "100%|██████████| 29/29 [00:17<00:00,  1.70it/s]\n"
     ]
    },
    {
     "name": "stdout",
     "output_type": "stream",
     "text": [
      "Top model for ['tsne3_comments_3D_', 'tsne2_description_2D_', 'tsne3_description_3D_', 'amenityall_']: ExtraTreesClassifier. Accuracy = 0.9166666666666666\n",
      "\n",
      "Testing feature sets combination 132 of 255 (['tsne3_comments_3D_', 'tsne2_description_2D_', '3gram09_', '3gram10_'])\n"
     ]
    },
    {
     "name": "stderr",
     "output_type": "stream",
     "text": [
      "100%|██████████| 29/29 [00:16<00:00,  1.73it/s]\n"
     ]
    },
    {
     "name": "stdout",
     "output_type": "stream",
     "text": [
      "Top model for ['tsne3_comments_3D_', 'tsne2_description_2D_', '3gram09_', '3gram10_']: ExtraTreesClassifier. Accuracy = 0.8039772727272727\n",
      "\n",
      "Testing feature sets combination 133 of 255 (['tsne3_comments_3D_', 'tsne2_description_2D_', '3gram09_', 'amenity005_'])\n"
     ]
    },
    {
     "name": "stderr",
     "output_type": "stream",
     "text": [
      "100%|██████████| 29/29 [00:21<00:00,  1.37it/s]\n"
     ]
    },
    {
     "name": "stdout",
     "output_type": "stream",
     "text": [
      "Top model for ['tsne3_comments_3D_', 'tsne2_description_2D_', '3gram09_', 'amenity005_']: ExtraTreesClassifier. Accuracy = 0.8948863636363636\n",
      "\n",
      "Testing feature sets combination 134 of 255 (['tsne3_comments_3D_', 'tsne2_description_2D_', '3gram09_', 'amenityall_'])\n"
     ]
    },
    {
     "name": "stderr",
     "output_type": "stream",
     "text": [
      "100%|██████████| 29/29 [00:23<00:00,  1.25it/s]\n"
     ]
    },
    {
     "name": "stdout",
     "output_type": "stream",
     "text": [
      "Top model for ['tsne3_comments_3D_', 'tsne2_description_2D_', '3gram09_', 'amenityall_']: ExtraTreesClassifier. Accuracy = 0.9242424242424242\n",
      "\n",
      "Testing feature sets combination 135 of 255 (['tsne3_comments_3D_', 'tsne2_description_2D_', '3gram10_', 'amenity005_'])\n"
     ]
    },
    {
     "name": "stderr",
     "output_type": "stream",
     "text": [
      "100%|██████████| 29/29 [00:11<00:00,  2.44it/s]\n"
     ]
    },
    {
     "name": "stdout",
     "output_type": "stream",
     "text": [
      "Top model for ['tsne3_comments_3D_', 'tsne2_description_2D_', '3gram10_', 'amenity005_']: ExtraTreesClassifier. Accuracy = 0.896780303030303\n",
      "\n",
      "Testing feature sets combination 136 of 255 (['tsne3_comments_3D_', 'tsne2_description_2D_', '3gram10_', 'amenityall_'])\n"
     ]
    },
    {
     "name": "stderr",
     "output_type": "stream",
     "text": [
      "100%|██████████| 29/29 [00:15<00:00,  1.81it/s]\n"
     ]
    },
    {
     "name": "stdout",
     "output_type": "stream",
     "text": [
      "Top model for ['tsne3_comments_3D_', 'tsne2_description_2D_', '3gram10_', 'amenityall_']: ExtraTreesClassifier. Accuracy = 0.9242424242424242\n",
      "\n",
      "Testing feature sets combination 137 of 255 (['tsne3_comments_3D_', 'tsne2_description_2D_', 'amenity005_', 'amenityall_'])\n"
     ]
    },
    {
     "name": "stderr",
     "output_type": "stream",
     "text": [
      "100%|██████████| 29/29 [00:18<00:00,  1.61it/s]\n"
     ]
    },
    {
     "name": "stdout",
     "output_type": "stream",
     "text": [
      "Top model for ['tsne3_comments_3D_', 'tsne2_description_2D_', 'amenity005_', 'amenityall_']: ExtraTreesClassifier. Accuracy = 0.9109848484848485\n",
      "\n",
      "Testing feature sets combination 138 of 255 (['tsne3_comments_3D_', 'tsne3_description_3D_', '3gram09_', '3gram10_'])\n"
     ]
    },
    {
     "name": "stderr",
     "output_type": "stream",
     "text": [
      "100%|██████████| 29/29 [00:17<00:00,  1.69it/s]\n"
     ]
    },
    {
     "name": "stdout",
     "output_type": "stream",
     "text": [
      "Top model for ['tsne3_comments_3D_', 'tsne3_description_3D_', '3gram09_', '3gram10_']: ExtraTreesClassifier. Accuracy = 0.7945075757575758\n",
      "\n",
      "Testing feature sets combination 139 of 255 (['tsne3_comments_3D_', 'tsne3_description_3D_', '3gram09_', 'amenity005_'])\n"
     ]
    },
    {
     "name": "stderr",
     "output_type": "stream",
     "text": [
      "100%|██████████| 29/29 [00:21<00:00,  1.35it/s]\n"
     ]
    },
    {
     "name": "stdout",
     "output_type": "stream",
     "text": [
      "Top model for ['tsne3_comments_3D_', 'tsne3_description_3D_', '3gram09_', 'amenity005_']: ExtraTreesClassifier. Accuracy = 0.9034090909090909\n",
      "\n",
      "Testing feature sets combination 140 of 255 (['tsne3_comments_3D_', 'tsne3_description_3D_', '3gram09_', 'amenityall_'])\n"
     ]
    },
    {
     "name": "stderr",
     "output_type": "stream",
     "text": [
      "100%|██████████| 29/29 [00:23<00:00,  1.21it/s]\n"
     ]
    },
    {
     "name": "stdout",
     "output_type": "stream",
     "text": [
      "Top model for ['tsne3_comments_3D_', 'tsne3_description_3D_', '3gram09_', 'amenityall_']: ExtraTreesClassifier. Accuracy = 0.9232954545454546\n",
      "\n",
      "Testing feature sets combination 141 of 255 (['tsne3_comments_3D_', 'tsne3_description_3D_', '3gram10_', 'amenity005_'])\n"
     ]
    },
    {
     "name": "stderr",
     "output_type": "stream",
     "text": [
      "100%|██████████| 29/29 [00:12<00:00,  2.31it/s]\n"
     ]
    },
    {
     "name": "stdout",
     "output_type": "stream",
     "text": [
      "Top model for ['tsne3_comments_3D_', 'tsne3_description_3D_', '3gram10_', 'amenity005_']: ExtraTreesClassifier. Accuracy = 0.8958333333333334\n",
      "\n",
      "Testing feature sets combination 142 of 255 (['tsne3_comments_3D_', 'tsne3_description_3D_', '3gram10_', 'amenityall_'])\n"
     ]
    },
    {
     "name": "stderr",
     "output_type": "stream",
     "text": [
      "100%|██████████| 29/29 [00:16<00:00,  1.75it/s]\n"
     ]
    },
    {
     "name": "stdout",
     "output_type": "stream",
     "text": [
      "Top model for ['tsne3_comments_3D_', 'tsne3_description_3D_', '3gram10_', 'amenityall_']: ExtraTreesClassifier. Accuracy = 0.9261363636363636\n",
      "\n",
      "Testing feature sets combination 143 of 255 (['tsne3_comments_3D_', 'tsne3_description_3D_', 'amenity005_', 'amenityall_'])\n"
     ]
    },
    {
     "name": "stderr",
     "output_type": "stream",
     "text": [
      "100%|██████████| 29/29 [00:18<00:00,  1.53it/s]\n"
     ]
    },
    {
     "name": "stdout",
     "output_type": "stream",
     "text": [
      "Top model for ['tsne3_comments_3D_', 'tsne3_description_3D_', 'amenity005_', 'amenityall_']: ExtraTreesClassifier. Accuracy = 0.9147727272727273\n",
      "\n",
      "Testing feature sets combination 144 of 255 (['tsne3_comments_3D_', '3gram09_', '3gram10_', 'amenity005_'])\n"
     ]
    },
    {
     "name": "stderr",
     "output_type": "stream",
     "text": [
      "100%|██████████| 29/29 [00:20<00:00,  1.39it/s]\n"
     ]
    },
    {
     "name": "stdout",
     "output_type": "stream",
     "text": [
      "Top model for ['tsne3_comments_3D_', '3gram09_', '3gram10_', 'amenity005_']: ExtraTreesClassifier. Accuracy = 0.8863636363636364\n",
      "\n",
      "Testing feature sets combination 145 of 255 (['tsne3_comments_3D_', '3gram09_', '3gram10_', 'amenityall_'])\n"
     ]
    },
    {
     "name": "stderr",
     "output_type": "stream",
     "text": [
      "100%|██████████| 29/29 [00:22<00:00,  1.27it/s]\n"
     ]
    },
    {
     "name": "stdout",
     "output_type": "stream",
     "text": [
      "Top model for ['tsne3_comments_3D_', '3gram09_', '3gram10_', 'amenityall_']: ExtraTreesClassifier. Accuracy = 0.9195075757575758\n",
      "\n",
      "Testing feature sets combination 146 of 255 (['tsne3_comments_3D_', '3gram09_', 'amenity005_', 'amenityall_'])\n"
     ]
    },
    {
     "name": "stderr",
     "output_type": "stream",
     "text": [
      "100%|██████████| 29/29 [00:26<00:00,  1.10it/s]\n"
     ]
    },
    {
     "name": "stdout",
     "output_type": "stream",
     "text": [
      "Top model for ['tsne3_comments_3D_', '3gram09_', 'amenity005_', 'amenityall_']: LGBMClassifier. Accuracy = 0.9005681818181818\n",
      "\n",
      "Testing feature sets combination 147 of 255 (['tsne3_comments_3D_', '3gram10_', 'amenity005_', 'amenityall_'])\n"
     ]
    },
    {
     "name": "stderr",
     "output_type": "stream",
     "text": [
      "100%|██████████| 29/29 [00:17<00:00,  1.61it/s]\n"
     ]
    },
    {
     "name": "stdout",
     "output_type": "stream",
     "text": [
      "Top model for ['tsne3_comments_3D_', '3gram10_', 'amenity005_', 'amenityall_']: LGBMClassifier. Accuracy = 0.8996212121212122\n",
      "\n",
      "Testing feature sets combination 148 of 255 (['tsne2_description_2D_', 'tsne3_description_3D_', '3gram09_', '3gram10_'])\n"
     ]
    },
    {
     "name": "stderr",
     "output_type": "stream",
     "text": [
      "100%|██████████| 29/29 [00:18<00:00,  1.54it/s]\n"
     ]
    },
    {
     "name": "stdout",
     "output_type": "stream",
     "text": [
      "Top model for ['tsne2_description_2D_', 'tsne3_description_3D_', '3gram09_', '3gram10_']: ExtraTreesClassifier. Accuracy = 0.8087121212121212\n",
      "\n",
      "Testing feature sets combination 149 of 255 (['tsne2_description_2D_', 'tsne3_description_3D_', '3gram09_', 'amenity005_'])\n"
     ]
    },
    {
     "name": "stderr",
     "output_type": "stream",
     "text": [
      "100%|██████████| 29/29 [00:22<00:00,  1.31it/s]\n"
     ]
    },
    {
     "name": "stdout",
     "output_type": "stream",
     "text": [
      "Top model for ['tsne2_description_2D_', 'tsne3_description_3D_', '3gram09_', 'amenity005_']: ExtraTreesClassifier. Accuracy = 0.8873106060606061\n",
      "\n",
      "Testing feature sets combination 150 of 255 (['tsne2_description_2D_', 'tsne3_description_3D_', '3gram09_', 'amenityall_'])\n"
     ]
    },
    {
     "name": "stderr",
     "output_type": "stream",
     "text": [
      "100%|██████████| 29/29 [00:29<00:00,  1.03s/it]\n"
     ]
    },
    {
     "name": "stdout",
     "output_type": "stream",
     "text": [
      "Top model for ['tsne2_description_2D_', 'tsne3_description_3D_', '3gram09_', 'amenityall_']: ExtraTreesClassifier. Accuracy = 0.928030303030303\n",
      "New best model found! Accuracy = 0.928030303030303\n",
      "\n",
      "Testing feature sets combination 151 of 255 (['tsne2_description_2D_', 'tsne3_description_3D_', '3gram10_', 'amenity005_'])\n"
     ]
    },
    {
     "name": "stderr",
     "output_type": "stream",
     "text": [
      "100%|██████████| 29/29 [00:16<00:00,  1.77it/s]\n"
     ]
    },
    {
     "name": "stdout",
     "output_type": "stream",
     "text": [
      "Top model for ['tsne2_description_2D_', 'tsne3_description_3D_', '3gram10_', 'amenity005_']: ExtraTreesClassifier. Accuracy = 0.8873106060606061\n",
      "\n",
      "Testing feature sets combination 152 of 255 (['tsne2_description_2D_', 'tsne3_description_3D_', '3gram10_', 'amenityall_'])\n"
     ]
    },
    {
     "name": "stderr",
     "output_type": "stream",
     "text": [
      "100%|██████████| 29/29 [00:23<00:00,  1.25it/s]\n"
     ]
    },
    {
     "name": "stdout",
     "output_type": "stream",
     "text": [
      "Top model for ['tsne2_description_2D_', 'tsne3_description_3D_', '3gram10_', 'amenityall_']: ExtraTreesClassifier. Accuracy = 0.9214015151515151\n",
      "\n",
      "Testing feature sets combination 153 of 255 (['tsne2_description_2D_', 'tsne3_description_3D_', 'amenity005_', 'amenityall_'])\n"
     ]
    },
    {
     "name": "stderr",
     "output_type": "stream",
     "text": [
      "100%|██████████| 29/29 [00:25<00:00,  1.13it/s]\n"
     ]
    },
    {
     "name": "stdout",
     "output_type": "stream",
     "text": [
      "Top model for ['tsne2_description_2D_', 'tsne3_description_3D_', 'amenity005_', 'amenityall_']: ExtraTreesClassifier. Accuracy = 0.9034090909090909\n",
      "\n",
      "Testing feature sets combination 154 of 255 (['tsne2_description_2D_', '3gram09_', '3gram10_', 'amenity005_'])\n"
     ]
    },
    {
     "name": "stderr",
     "output_type": "stream",
     "text": [
      "100%|██████████| 29/29 [00:29<00:00,  1.01s/it]\n"
     ]
    },
    {
     "name": "stdout",
     "output_type": "stream",
     "text": [
      "Top model for ['tsne2_description_2D_', '3gram09_', '3gram10_', 'amenity005_']: ExtraTreesClassifier. Accuracy = 0.8210227272727273\n",
      "\n",
      "Testing feature sets combination 155 of 255 (['tsne2_description_2D_', '3gram09_', '3gram10_', 'amenityall_'])\n"
     ]
    },
    {
     "name": "stderr",
     "output_type": "stream",
     "text": [
      "100%|██████████| 29/29 [00:32<00:00,  1.13s/it]\n"
     ]
    },
    {
     "name": "stdout",
     "output_type": "stream",
     "text": [
      "Top model for ['tsne2_description_2D_', '3gram09_', '3gram10_', 'amenityall_']: LGBMClassifier. Accuracy = 0.8863636363636364\n",
      "\n",
      "Testing feature sets combination 156 of 255 (['tsne2_description_2D_', '3gram09_', 'amenity005_', 'amenityall_'])\n"
     ]
    },
    {
     "name": "stderr",
     "output_type": "stream",
     "text": [
      "100%|██████████| 29/29 [00:36<00:00,  1.25s/it]\n"
     ]
    },
    {
     "name": "stdout",
     "output_type": "stream",
     "text": [
      "Top model for ['tsne2_description_2D_', '3gram09_', 'amenity005_', 'amenityall_']: LGBMClassifier. Accuracy = 0.8693181818181818\n",
      "\n",
      "Testing feature sets combination 157 of 255 (['tsne2_description_2D_', '3gram10_', 'amenity005_', 'amenityall_'])\n"
     ]
    },
    {
     "name": "stderr",
     "output_type": "stream",
     "text": [
      "100%|██████████| 29/29 [00:25<00:00,  1.15it/s]\n"
     ]
    },
    {
     "name": "stdout",
     "output_type": "stream",
     "text": [
      "Top model for ['tsne2_description_2D_', '3gram10_', 'amenity005_', 'amenityall_']: ExtraTreesClassifier. Accuracy = 0.8712121212121212\n",
      "\n",
      "Testing feature sets combination 158 of 255 (['tsne3_description_3D_', '3gram09_', '3gram10_', 'amenity005_'])\n"
     ]
    },
    {
     "name": "stderr",
     "output_type": "stream",
     "text": [
      "100%|██████████| 29/29 [00:28<00:00,  1.00it/s]\n"
     ]
    },
    {
     "name": "stdout",
     "output_type": "stream",
     "text": [
      "Top model for ['tsne3_description_3D_', '3gram09_', '3gram10_', 'amenity005_']: RandomForestClassifier. Accuracy = 0.8797348484848485\n",
      "\n",
      "Testing feature sets combination 159 of 255 (['tsne3_description_3D_', '3gram09_', '3gram10_', 'amenityall_'])\n"
     ]
    },
    {
     "name": "stderr",
     "output_type": "stream",
     "text": [
      "100%|██████████| 29/29 [00:32<00:00,  1.13s/it]\n"
     ]
    },
    {
     "name": "stdout",
     "output_type": "stream",
     "text": [
      "Top model for ['tsne3_description_3D_', '3gram09_', '3gram10_', 'amenityall_']: ExtraTreesClassifier. Accuracy = 0.9214015151515151\n",
      "\n",
      "Testing feature sets combination 160 of 255 (['tsne3_description_3D_', '3gram09_', 'amenity005_', 'amenityall_'])\n"
     ]
    },
    {
     "name": "stderr",
     "output_type": "stream",
     "text": [
      "100%|██████████| 29/29 [00:36<00:00,  1.27s/it]\n"
     ]
    },
    {
     "name": "stdout",
     "output_type": "stream",
     "text": [
      "Top model for ['tsne3_description_3D_', '3gram09_', 'amenity005_', 'amenityall_']: LGBMClassifier. Accuracy = 0.9005681818181818\n",
      "\n",
      "Testing feature sets combination 161 of 255 (['tsne3_description_3D_', '3gram10_', 'amenity005_', 'amenityall_'])\n"
     ]
    },
    {
     "name": "stderr",
     "output_type": "stream",
     "text": [
      "100%|██████████| 29/29 [00:25<00:00,  1.13it/s]\n"
     ]
    },
    {
     "name": "stdout",
     "output_type": "stream",
     "text": [
      "Top model for ['tsne3_description_3D_', '3gram10_', 'amenity005_', 'amenityall_']: LGBMClassifier. Accuracy = 0.9090909090909091\n",
      "\n",
      "Testing feature sets combination 162 of 255 (['3gram09_', '3gram10_', 'amenity005_', 'amenityall_'])\n"
     ]
    },
    {
     "name": "stderr",
     "output_type": "stream",
     "text": [
      "100%|██████████| 29/29 [00:37<00:00,  1.28s/it]\n"
     ]
    },
    {
     "name": "stdout",
     "output_type": "stream",
     "text": [
      "Top model for ['3gram09_', '3gram10_', 'amenity005_', 'amenityall_']: ExtraTreesClassifier. Accuracy = 0.4715909090909091\n",
      "\n",
      "Testing feature sets combination 163 of 255 (['tsne2_comments_2D_', 'tsne3_comments_3D_', 'tsne2_description_2D_', 'tsne3_description_3D_', '3gram09_'])\n"
     ]
    },
    {
     "name": "stderr",
     "output_type": "stream",
     "text": [
      "100%|██████████| 29/29 [00:27<00:00,  1.04it/s]\n"
     ]
    },
    {
     "name": "stdout",
     "output_type": "stream",
     "text": [
      "Top model for ['tsne2_comments_2D_', 'tsne3_comments_3D_', 'tsne2_description_2D_', 'tsne3_description_3D_', '3gram09_']: ExtraTreesClassifier. Accuracy = 0.7992424242424242\n",
      "\n",
      "Testing feature sets combination 164 of 255 (['tsne2_comments_2D_', 'tsne3_comments_3D_', 'tsne2_description_2D_', 'tsne3_description_3D_', '3gram10_'])\n"
     ]
    },
    {
     "name": "stderr",
     "output_type": "stream",
     "text": [
      "100%|██████████| 29/29 [00:15<00:00,  1.85it/s]\n"
     ]
    },
    {
     "name": "stdout",
     "output_type": "stream",
     "text": [
      "Top model for ['tsne2_comments_2D_', 'tsne3_comments_3D_', 'tsne2_description_2D_', 'tsne3_description_3D_', '3gram10_']: ExtraTreesClassifier. Accuracy = 0.7964015151515151\n",
      "\n",
      "Testing feature sets combination 165 of 255 (['tsne2_comments_2D_', 'tsne3_comments_3D_', 'tsne2_description_2D_', 'tsne3_description_3D_', 'amenity005_'])\n"
     ]
    },
    {
     "name": "stderr",
     "output_type": "stream",
     "text": [
      "100%|██████████| 29/29 [00:19<00:00,  1.50it/s]\n"
     ]
    },
    {
     "name": "stdout",
     "output_type": "stream",
     "text": [
      "Top model for ['tsne2_comments_2D_', 'tsne3_comments_3D_', 'tsne2_description_2D_', 'tsne3_description_3D_', 'amenity005_']: ExtraTreesClassifier. Accuracy = 0.9034090909090909\n",
      "\n",
      "Testing feature sets combination 166 of 255 (['tsne2_comments_2D_', 'tsne3_comments_3D_', 'tsne2_description_2D_', 'tsne3_description_3D_', 'amenityall_'])\n"
     ]
    },
    {
     "name": "stderr",
     "output_type": "stream",
     "text": [
      "100%|██████████| 29/29 [00:25<00:00,  1.16it/s]\n"
     ]
    },
    {
     "name": "stdout",
     "output_type": "stream",
     "text": [
      "Top model for ['tsne2_comments_2D_', 'tsne3_comments_3D_', 'tsne2_description_2D_', 'tsne3_description_3D_', 'amenityall_']: ExtraTreesClassifier. Accuracy = 0.9147727272727273\n",
      "\n",
      "Testing feature sets combination 167 of 255 (['tsne2_comments_2D_', 'tsne3_comments_3D_', 'tsne2_description_2D_', '3gram09_', '3gram10_'])\n"
     ]
    },
    {
     "name": "stderr",
     "output_type": "stream",
     "text": [
      "100%|██████████| 29/29 [00:25<00:00,  1.12it/s]\n"
     ]
    },
    {
     "name": "stdout",
     "output_type": "stream",
     "text": [
      "Top model for ['tsne2_comments_2D_', 'tsne3_comments_3D_', 'tsne2_description_2D_', '3gram09_', '3gram10_']: ExtraTreesClassifier. Accuracy = 0.803030303030303\n",
      "\n",
      "Testing feature sets combination 168 of 255 (['tsne2_comments_2D_', 'tsne3_comments_3D_', 'tsne2_description_2D_', '3gram09_', 'amenity005_'])\n"
     ]
    },
    {
     "name": "stderr",
     "output_type": "stream",
     "text": [
      "100%|██████████| 29/29 [00:30<00:00,  1.06s/it]\n"
     ]
    },
    {
     "name": "stdout",
     "output_type": "stream",
     "text": [
      "Top model for ['tsne2_comments_2D_', 'tsne3_comments_3D_', 'tsne2_description_2D_', '3gram09_', 'amenity005_']: ExtraTreesClassifier. Accuracy = 0.9090909090909091\n",
      "\n",
      "Testing feature sets combination 169 of 255 (['tsne2_comments_2D_', 'tsne3_comments_3D_', 'tsne2_description_2D_', '3gram09_', 'amenityall_'])\n"
     ]
    },
    {
     "name": "stderr",
     "output_type": "stream",
     "text": [
      "100%|██████████| 29/29 [00:34<00:00,  1.19s/it]\n"
     ]
    },
    {
     "name": "stdout",
     "output_type": "stream",
     "text": [
      "Top model for ['tsne2_comments_2D_', 'tsne3_comments_3D_', 'tsne2_description_2D_', '3gram09_', 'amenityall_']: ExtraTreesClassifier. Accuracy = 0.9242424242424242\n",
      "\n",
      "Testing feature sets combination 170 of 255 (['tsne2_comments_2D_', 'tsne3_comments_3D_', 'tsne2_description_2D_', '3gram10_', 'amenity005_'])\n"
     ]
    },
    {
     "name": "stderr",
     "output_type": "stream",
     "text": [
      "100%|██████████| 29/29 [00:18<00:00,  1.56it/s]\n"
     ]
    },
    {
     "name": "stdout",
     "output_type": "stream",
     "text": [
      "Top model for ['tsne2_comments_2D_', 'tsne3_comments_3D_', 'tsne2_description_2D_', '3gram10_', 'amenity005_']: ExtraTreesClassifier. Accuracy = 0.9024621212121212\n",
      "\n",
      "Testing feature sets combination 171 of 255 (['tsne2_comments_2D_', 'tsne3_comments_3D_', 'tsne2_description_2D_', '3gram10_', 'amenityall_'])\n"
     ]
    },
    {
     "name": "stderr",
     "output_type": "stream",
     "text": [
      "100%|██████████| 29/29 [00:24<00:00,  1.21it/s]\n"
     ]
    },
    {
     "name": "stdout",
     "output_type": "stream",
     "text": [
      "Top model for ['tsne2_comments_2D_', 'tsne3_comments_3D_', 'tsne2_description_2D_', '3gram10_', 'amenityall_']: ExtraTreesClassifier. Accuracy = 0.9176136363636364\n",
      "\n",
      "Testing feature sets combination 172 of 255 (['tsne2_comments_2D_', 'tsne3_comments_3D_', 'tsne2_description_2D_', 'amenity005_', 'amenityall_'])\n"
     ]
    },
    {
     "name": "stderr",
     "output_type": "stream",
     "text": [
      "100%|██████████| 29/29 [00:26<00:00,  1.08it/s]\n"
     ]
    },
    {
     "name": "stdout",
     "output_type": "stream",
     "text": [
      "Top model for ['tsne2_comments_2D_', 'tsne3_comments_3D_', 'tsne2_description_2D_', 'amenity005_', 'amenityall_']: ExtraTreesClassifier. Accuracy = 0.9109848484848485\n",
      "\n",
      "Testing feature sets combination 173 of 255 (['tsne2_comments_2D_', 'tsne3_comments_3D_', 'tsne3_description_3D_', '3gram09_', '3gram10_'])\n"
     ]
    },
    {
     "name": "stderr",
     "output_type": "stream",
     "text": [
      "100%|██████████| 29/29 [00:27<00:00,  1.05it/s]\n"
     ]
    },
    {
     "name": "stdout",
     "output_type": "stream",
     "text": [
      "Top model for ['tsne2_comments_2D_', 'tsne3_comments_3D_', 'tsne3_description_3D_', '3gram09_', '3gram10_']: ExtraTreesClassifier. Accuracy = 0.803030303030303\n",
      "\n",
      "Testing feature sets combination 174 of 255 (['tsne2_comments_2D_', 'tsne3_comments_3D_', 'tsne3_description_3D_', '3gram09_', 'amenity005_'])\n"
     ]
    },
    {
     "name": "stderr",
     "output_type": "stream",
     "text": [
      "100%|██████████| 29/29 [00:32<00:00,  1.11s/it]\n"
     ]
    },
    {
     "name": "stdout",
     "output_type": "stream",
     "text": [
      "Top model for ['tsne2_comments_2D_', 'tsne3_comments_3D_', 'tsne3_description_3D_', '3gram09_', 'amenity005_']: ExtraTreesClassifier. Accuracy = 0.9043560606060606\n",
      "\n",
      "Testing feature sets combination 175 of 255 (['tsne2_comments_2D_', 'tsne3_comments_3D_', 'tsne3_description_3D_', '3gram09_', 'amenityall_'])\n"
     ]
    },
    {
     "name": "stderr",
     "output_type": "stream",
     "text": [
      "100%|██████████| 29/29 [00:35<00:00,  1.22s/it]\n"
     ]
    },
    {
     "name": "stdout",
     "output_type": "stream",
     "text": [
      "Top model for ['tsne2_comments_2D_', 'tsne3_comments_3D_', 'tsne3_description_3D_', '3gram09_', 'amenityall_']: ExtraTreesClassifier. Accuracy = 0.9185606060606061\n",
      "\n",
      "Testing feature sets combination 176 of 255 (['tsne2_comments_2D_', 'tsne3_comments_3D_', 'tsne3_description_3D_', '3gram10_', 'amenity005_'])\n"
     ]
    },
    {
     "name": "stderr",
     "output_type": "stream",
     "text": [
      "100%|██████████| 29/29 [00:18<00:00,  1.58it/s]\n"
     ]
    },
    {
     "name": "stdout",
     "output_type": "stream",
     "text": [
      "Top model for ['tsne2_comments_2D_', 'tsne3_comments_3D_', 'tsne3_description_3D_', '3gram10_', 'amenity005_']: ExtraTreesClassifier. Accuracy = 0.9081439393939394\n",
      "\n",
      "Testing feature sets combination 177 of 255 (['tsne2_comments_2D_', 'tsne3_comments_3D_', 'tsne3_description_3D_', '3gram10_', 'amenityall_'])\n"
     ]
    },
    {
     "name": "stderr",
     "output_type": "stream",
     "text": [
      "100%|██████████| 29/29 [00:25<00:00,  1.14it/s]\n"
     ]
    },
    {
     "name": "stdout",
     "output_type": "stream",
     "text": [
      "Top model for ['tsne2_comments_2D_', 'tsne3_comments_3D_', 'tsne3_description_3D_', '3gram10_', 'amenityall_']: ExtraTreesClassifier. Accuracy = 0.915719696969697\n",
      "\n",
      "Testing feature sets combination 178 of 255 (['tsne2_comments_2D_', 'tsne3_comments_3D_', 'tsne3_description_3D_', 'amenity005_', 'amenityall_'])\n"
     ]
    },
    {
     "name": "stderr",
     "output_type": "stream",
     "text": [
      "100%|██████████| 29/29 [00:28<00:00,  1.01it/s]\n"
     ]
    },
    {
     "name": "stdout",
     "output_type": "stream",
     "text": [
      "Top model for ['tsne2_comments_2D_', 'tsne3_comments_3D_', 'tsne3_description_3D_', 'amenity005_', 'amenityall_']: ExtraTreesClassifier. Accuracy = 0.9204545454545454\n",
      "\n",
      "Testing feature sets combination 179 of 255 (['tsne2_comments_2D_', 'tsne3_comments_3D_', '3gram09_', '3gram10_', 'amenity005_'])\n"
     ]
    },
    {
     "name": "stderr",
     "output_type": "stream",
     "text": [
      "100%|██████████| 29/29 [00:31<00:00,  1.10s/it]\n"
     ]
    },
    {
     "name": "stdout",
     "output_type": "stream",
     "text": [
      "Top model for ['tsne2_comments_2D_', 'tsne3_comments_3D_', '3gram09_', '3gram10_', 'amenity005_']: ExtraTreesClassifier. Accuracy = 0.8910984848484849\n",
      "\n",
      "Testing feature sets combination 180 of 255 (['tsne2_comments_2D_', 'tsne3_comments_3D_', '3gram09_', '3gram10_', 'amenityall_'])\n"
     ]
    },
    {
     "name": "stderr",
     "output_type": "stream",
     "text": [
      "100%|██████████| 29/29 [00:34<00:00,  1.19s/it]\n"
     ]
    },
    {
     "name": "stdout",
     "output_type": "stream",
     "text": [
      "Top model for ['tsne2_comments_2D_', 'tsne3_comments_3D_', '3gram09_', '3gram10_', 'amenityall_']: ExtraTreesClassifier. Accuracy = 0.928030303030303\n",
      "\n",
      "Testing feature sets combination 181 of 255 (['tsne2_comments_2D_', 'tsne3_comments_3D_', '3gram09_', 'amenity005_', 'amenityall_'])\n"
     ]
    },
    {
     "name": "stderr",
     "output_type": "stream",
     "text": [
      "100%|██████████| 29/29 [00:37<00:00,  1.31s/it]\n"
     ]
    },
    {
     "name": "stdout",
     "output_type": "stream",
     "text": [
      "Top model for ['tsne2_comments_2D_', 'tsne3_comments_3D_', '3gram09_', 'amenity005_', 'amenityall_']: ExtraTreesClassifier. Accuracy = 0.915719696969697\n",
      "\n",
      "Testing feature sets combination 182 of 255 (['tsne2_comments_2D_', 'tsne3_comments_3D_', '3gram10_', 'amenity005_', 'amenityall_'])\n"
     ]
    },
    {
     "name": "stderr",
     "output_type": "stream",
     "text": [
      "100%|██████████| 29/29 [00:26<00:00,  1.09it/s]\n"
     ]
    },
    {
     "name": "stdout",
     "output_type": "stream",
     "text": [
      "Top model for ['tsne2_comments_2D_', 'tsne3_comments_3D_', '3gram10_', 'amenity005_', 'amenityall_']: ExtraTreesClassifier. Accuracy = 0.9005681818181818\n",
      "\n",
      "Testing feature sets combination 183 of 255 (['tsne2_comments_2D_', 'tsne2_description_2D_', 'tsne3_description_3D_', '3gram09_', '3gram10_'])\n"
     ]
    },
    {
     "name": "stderr",
     "output_type": "stream",
     "text": [
      "100%|██████████| 29/29 [00:25<00:00,  1.13it/s]\n"
     ]
    },
    {
     "name": "stdout",
     "output_type": "stream",
     "text": [
      "Top model for ['tsne2_comments_2D_', 'tsne2_description_2D_', 'tsne3_description_3D_', '3gram09_', '3gram10_']: ExtraTreesClassifier. Accuracy = 0.7897727272727273\n",
      "\n",
      "Testing feature sets combination 184 of 255 (['tsne2_comments_2D_', 'tsne2_description_2D_', 'tsne3_description_3D_', '3gram09_', 'amenity005_'])\n"
     ]
    },
    {
     "name": "stderr",
     "output_type": "stream",
     "text": [
      "100%|██████████| 29/29 [00:30<00:00,  1.06s/it]\n"
     ]
    },
    {
     "name": "stdout",
     "output_type": "stream",
     "text": [
      "Top model for ['tsne2_comments_2D_', 'tsne2_description_2D_', 'tsne3_description_3D_', '3gram09_', 'amenity005_']: ExtraTreesClassifier. Accuracy = 0.9024621212121212\n",
      "\n",
      "Testing feature sets combination 185 of 255 (['tsne2_comments_2D_', 'tsne2_description_2D_', 'tsne3_description_3D_', '3gram09_', 'amenityall_'])\n"
     ]
    },
    {
     "name": "stderr",
     "output_type": "stream",
     "text": [
      "100%|██████████| 29/29 [00:34<00:00,  1.19s/it]\n"
     ]
    },
    {
     "name": "stdout",
     "output_type": "stream",
     "text": [
      "Top model for ['tsne2_comments_2D_', 'tsne2_description_2D_', 'tsne3_description_3D_', '3gram09_', 'amenityall_']: ExtraTreesClassifier. Accuracy = 0.9100378787878788\n",
      "\n",
      "Testing feature sets combination 186 of 255 (['tsne2_comments_2D_', 'tsne2_description_2D_', 'tsne3_description_3D_', '3gram10_', 'amenity005_'])\n"
     ]
    },
    {
     "name": "stderr",
     "output_type": "stream",
     "text": [
      "100%|██████████| 29/29 [00:18<00:00,  1.60it/s]\n"
     ]
    },
    {
     "name": "stdout",
     "output_type": "stream",
     "text": [
      "Top model for ['tsne2_comments_2D_', 'tsne2_description_2D_', 'tsne3_description_3D_', '3gram10_', 'amenity005_']: ExtraTreesClassifier. Accuracy = 0.8977272727272727\n",
      "\n",
      "Testing feature sets combination 187 of 255 (['tsne2_comments_2D_', 'tsne2_description_2D_', 'tsne3_description_3D_', '3gram10_', 'amenityall_'])\n"
     ]
    },
    {
     "name": "stderr",
     "output_type": "stream",
     "text": [
      "100%|██████████| 29/29 [00:23<00:00,  1.21it/s]\n"
     ]
    },
    {
     "name": "stdout",
     "output_type": "stream",
     "text": [
      "Top model for ['tsne2_comments_2D_', 'tsne2_description_2D_', 'tsne3_description_3D_', '3gram10_', 'amenityall_']: ExtraTreesClassifier. Accuracy = 0.9147727272727273\n",
      "\n",
      "Testing feature sets combination 188 of 255 (['tsne2_comments_2D_', 'tsne2_description_2D_', 'tsne3_description_3D_', 'amenity005_', 'amenityall_'])\n"
     ]
    },
    {
     "name": "stderr",
     "output_type": "stream",
     "text": [
      "100%|██████████| 29/29 [00:26<00:00,  1.08it/s]\n"
     ]
    },
    {
     "name": "stdout",
     "output_type": "stream",
     "text": [
      "Top model for ['tsne2_comments_2D_', 'tsne2_description_2D_', 'tsne3_description_3D_', 'amenity005_', 'amenityall_']: ExtraTreesClassifier. Accuracy = 0.8986742424242424\n",
      "\n",
      "Testing feature sets combination 189 of 255 (['tsne2_comments_2D_', 'tsne2_description_2D_', '3gram09_', '3gram10_', 'amenity005_'])\n"
     ]
    },
    {
     "name": "stderr",
     "output_type": "stream",
     "text": [
      "100%|██████████| 29/29 [00:30<00:00,  1.06s/it]\n"
     ]
    },
    {
     "name": "stdout",
     "output_type": "stream",
     "text": [
      "Top model for ['tsne2_comments_2D_', 'tsne2_description_2D_', '3gram09_', '3gram10_', 'amenity005_']: ExtraTreesClassifier. Accuracy = 0.8399621212121212\n",
      "\n",
      "Testing feature sets combination 190 of 255 (['tsne2_comments_2D_', 'tsne2_description_2D_', '3gram09_', '3gram10_', 'amenityall_'])\n"
     ]
    },
    {
     "name": "stderr",
     "output_type": "stream",
     "text": [
      "100%|██████████| 29/29 [00:34<00:00,  1.18s/it]\n"
     ]
    },
    {
     "name": "stdout",
     "output_type": "stream",
     "text": [
      "Top model for ['tsne2_comments_2D_', 'tsne2_description_2D_', '3gram09_', '3gram10_', 'amenityall_']: ExtraTreesClassifier. Accuracy = 0.884469696969697\n",
      "\n",
      "Testing feature sets combination 191 of 255 (['tsne2_comments_2D_', 'tsne2_description_2D_', '3gram09_', 'amenity005_', 'amenityall_'])\n"
     ]
    },
    {
     "name": "stderr",
     "output_type": "stream",
     "text": [
      "100%|██████████| 29/29 [00:37<00:00,  1.31s/it]\n"
     ]
    },
    {
     "name": "stdout",
     "output_type": "stream",
     "text": [
      "Top model for ['tsne2_comments_2D_', 'tsne2_description_2D_', '3gram09_', 'amenity005_', 'amenityall_']: ExtraTreesClassifier. Accuracy = 0.8882575757575758\n",
      "\n",
      "Testing feature sets combination 192 of 255 (['tsne2_comments_2D_', 'tsne2_description_2D_', '3gram10_', 'amenity005_', 'amenityall_'])\n"
     ]
    },
    {
     "name": "stderr",
     "output_type": "stream",
     "text": [
      "100%|██████████| 29/29 [00:25<00:00,  1.15it/s]\n"
     ]
    },
    {
     "name": "stdout",
     "output_type": "stream",
     "text": [
      "Top model for ['tsne2_comments_2D_', 'tsne2_description_2D_', '3gram10_', 'amenity005_', 'amenityall_']: ExtraTreesClassifier. Accuracy = 0.8787878787878788\n",
      "\n",
      "Testing feature sets combination 193 of 255 (['tsne2_comments_2D_', 'tsne3_description_3D_', '3gram09_', '3gram10_', 'amenity005_'])\n"
     ]
    },
    {
     "name": "stderr",
     "output_type": "stream",
     "text": [
      "100%|██████████| 29/29 [00:30<00:00,  1.04s/it]\n"
     ]
    },
    {
     "name": "stdout",
     "output_type": "stream",
     "text": [
      "Top model for ['tsne2_comments_2D_', 'tsne3_description_3D_', '3gram09_', '3gram10_', 'amenity005_']: ExtraTreesClassifier. Accuracy = 0.9024621212121212\n",
      "\n",
      "Testing feature sets combination 194 of 255 (['tsne2_comments_2D_', 'tsne3_description_3D_', '3gram09_', '3gram10_', 'amenityall_'])\n"
     ]
    },
    {
     "name": "stderr",
     "output_type": "stream",
     "text": [
      "100%|██████████| 29/29 [00:34<00:00,  1.18s/it]\n"
     ]
    },
    {
     "name": "stdout",
     "output_type": "stream",
     "text": [
      "Top model for ['tsne2_comments_2D_', 'tsne3_description_3D_', '3gram09_', '3gram10_', 'amenityall_']: ExtraTreesClassifier. Accuracy = 0.9166666666666666\n",
      "\n",
      "Testing feature sets combination 195 of 255 (['tsne2_comments_2D_', 'tsne3_description_3D_', '3gram09_', 'amenity005_', 'amenityall_'])\n"
     ]
    },
    {
     "name": "stderr",
     "output_type": "stream",
     "text": [
      "100%|██████████| 29/29 [00:37<00:00,  1.30s/it]\n"
     ]
    },
    {
     "name": "stdout",
     "output_type": "stream",
     "text": [
      "Top model for ['tsne2_comments_2D_', 'tsne3_description_3D_', '3gram09_', 'amenity005_', 'amenityall_']: ExtraTreesClassifier. Accuracy = 0.9034090909090909\n",
      "\n",
      "Testing feature sets combination 196 of 255 (['tsne2_comments_2D_', 'tsne3_description_3D_', '3gram10_', 'amenity005_', 'amenityall_'])\n"
     ]
    },
    {
     "name": "stderr",
     "output_type": "stream",
     "text": [
      "100%|██████████| 29/29 [00:25<00:00,  1.12it/s]\n"
     ]
    },
    {
     "name": "stdout",
     "output_type": "stream",
     "text": [
      "Top model for ['tsne2_comments_2D_', 'tsne3_description_3D_', '3gram10_', 'amenity005_', 'amenityall_']: ExtraTreesClassifier. Accuracy = 0.9119318181818182\n",
      "\n",
      "Testing feature sets combination 197 of 255 (['tsne2_comments_2D_', '3gram09_', '3gram10_', 'amenity005_', 'amenityall_'])\n"
     ]
    },
    {
     "name": "stderr",
     "output_type": "stream",
     "text": [
      "100%|██████████| 29/29 [00:36<00:00,  1.27s/it]\n"
     ]
    },
    {
     "name": "stdout",
     "output_type": "stream",
     "text": [
      "Top model for ['tsne2_comments_2D_', '3gram09_', '3gram10_', 'amenity005_', 'amenityall_']: LGBMClassifier. Accuracy = 0.8825757575757576\n",
      "\n",
      "Testing feature sets combination 198 of 255 (['tsne3_comments_3D_', 'tsne2_description_2D_', 'tsne3_description_3D_', '3gram09_', '3gram10_'])\n"
     ]
    },
    {
     "name": "stderr",
     "output_type": "stream",
     "text": [
      "100%|██████████| 29/29 [00:27<00:00,  1.04it/s]\n"
     ]
    },
    {
     "name": "stdout",
     "output_type": "stream",
     "text": [
      "Top model for ['tsne3_comments_3D_', 'tsne2_description_2D_', 'tsne3_description_3D_', '3gram09_', '3gram10_']: ExtraTreesClassifier. Accuracy = 0.7973484848484849\n",
      "\n",
      "Testing feature sets combination 199 of 255 (['tsne3_comments_3D_', 'tsne2_description_2D_', 'tsne3_description_3D_', '3gram09_', 'amenity005_'])\n"
     ]
    },
    {
     "name": "stderr",
     "output_type": "stream",
     "text": [
      "100%|██████████| 29/29 [00:32<00:00,  1.11s/it]\n"
     ]
    },
    {
     "name": "stdout",
     "output_type": "stream",
     "text": [
      "Top model for ['tsne3_comments_3D_', 'tsne2_description_2D_', 'tsne3_description_3D_', '3gram09_', 'amenity005_']: ExtraTreesClassifier. Accuracy = 0.8939393939393939\n",
      "\n",
      "Testing feature sets combination 200 of 255 (['tsne3_comments_3D_', 'tsne2_description_2D_', 'tsne3_description_3D_', '3gram09_', 'amenityall_'])\n"
     ]
    },
    {
     "name": "stderr",
     "output_type": "stream",
     "text": [
      "100%|██████████| 29/29 [00:34<00:00,  1.20s/it]\n"
     ]
    },
    {
     "name": "stdout",
     "output_type": "stream",
     "text": [
      "Top model for ['tsne3_comments_3D_', 'tsne2_description_2D_', 'tsne3_description_3D_', '3gram09_', 'amenityall_']: ExtraTreesClassifier. Accuracy = 0.9261363636363636\n",
      "\n",
      "Testing feature sets combination 201 of 255 (['tsne3_comments_3D_', 'tsne2_description_2D_', 'tsne3_description_3D_', '3gram10_', 'amenity005_'])\n"
     ]
    },
    {
     "name": "stderr",
     "output_type": "stream",
     "text": [
      "100%|██████████| 29/29 [00:18<00:00,  1.61it/s]\n"
     ]
    },
    {
     "name": "stdout",
     "output_type": "stream",
     "text": [
      "Top model for ['tsne3_comments_3D_', 'tsne2_description_2D_', 'tsne3_description_3D_', '3gram10_', 'amenity005_']: ExtraTreesClassifier. Accuracy = 0.8797348484848485\n",
      "\n",
      "Testing feature sets combination 202 of 255 (['tsne3_comments_3D_', 'tsne2_description_2D_', 'tsne3_description_3D_', '3gram10_', 'amenityall_'])\n"
     ]
    },
    {
     "name": "stderr",
     "output_type": "stream",
     "text": [
      "100%|██████████| 29/29 [00:24<00:00,  1.17it/s]\n"
     ]
    },
    {
     "name": "stdout",
     "output_type": "stream",
     "text": [
      "Top model for ['tsne3_comments_3D_', 'tsne2_description_2D_', 'tsne3_description_3D_', '3gram10_', 'amenityall_']: ExtraTreesClassifier. Accuracy = 0.9185606060606061\n",
      "\n",
      "Testing feature sets combination 203 of 255 (['tsne3_comments_3D_', 'tsne2_description_2D_', 'tsne3_description_3D_', 'amenity005_', 'amenityall_'])\n"
     ]
    },
    {
     "name": "stderr",
     "output_type": "stream",
     "text": [
      "100%|██████████| 29/29 [00:28<00:00,  1.03it/s]\n"
     ]
    },
    {
     "name": "stdout",
     "output_type": "stream",
     "text": [
      "Top model for ['tsne3_comments_3D_', 'tsne2_description_2D_', 'tsne3_description_3D_', 'amenity005_', 'amenityall_']: ExtraTreesClassifier. Accuracy = 0.9100378787878788\n",
      "\n",
      "Testing feature sets combination 204 of 255 (['tsne3_comments_3D_', 'tsne2_description_2D_', '3gram09_', '3gram10_', 'amenity005_'])\n"
     ]
    },
    {
     "name": "stderr",
     "output_type": "stream",
     "text": [
      "100%|██████████| 29/29 [00:30<00:00,  1.05s/it]\n"
     ]
    },
    {
     "name": "stdout",
     "output_type": "stream",
     "text": [
      "Top model for ['tsne3_comments_3D_', 'tsne2_description_2D_', '3gram09_', '3gram10_', 'amenity005_']: ExtraTreesClassifier. Accuracy = 0.8986742424242424\n",
      "\n",
      "Testing feature sets combination 205 of 255 (['tsne3_comments_3D_', 'tsne2_description_2D_', '3gram09_', '3gram10_', 'amenityall_'])\n"
     ]
    },
    {
     "name": "stderr",
     "output_type": "stream",
     "text": [
      "100%|██████████| 29/29 [00:33<00:00,  1.16s/it]\n"
     ]
    },
    {
     "name": "stdout",
     "output_type": "stream",
     "text": [
      "Top model for ['tsne3_comments_3D_', 'tsne2_description_2D_', '3gram09_', '3gram10_', 'amenityall_']: ExtraTreesClassifier. Accuracy = 0.9166666666666666\n",
      "\n",
      "Testing feature sets combination 206 of 255 (['tsne3_comments_3D_', 'tsne2_description_2D_', '3gram09_', 'amenity005_', 'amenityall_'])\n"
     ]
    },
    {
     "name": "stderr",
     "output_type": "stream",
     "text": [
      "100%|██████████| 29/29 [00:38<00:00,  1.33s/it]\n"
     ]
    },
    {
     "name": "stdout",
     "output_type": "stream",
     "text": [
      "Top model for ['tsne3_comments_3D_', 'tsne2_description_2D_', '3gram09_', 'amenity005_', 'amenityall_']: ExtraTreesClassifier. Accuracy = 0.8929924242424242\n",
      "\n",
      "Testing feature sets combination 207 of 255 (['tsne3_comments_3D_', 'tsne2_description_2D_', '3gram10_', 'amenity005_', 'amenityall_'])\n"
     ]
    },
    {
     "name": "stderr",
     "output_type": "stream",
     "text": [
      "100%|██████████| 29/29 [00:27<00:00,  1.07it/s]\n"
     ]
    },
    {
     "name": "stdout",
     "output_type": "stream",
     "text": [
      "Top model for ['tsne3_comments_3D_', 'tsne2_description_2D_', '3gram10_', 'amenity005_', 'amenityall_']: ExtraTreesClassifier. Accuracy = 0.9109848484848485\n",
      "\n",
      "Testing feature sets combination 208 of 255 (['tsne3_comments_3D_', 'tsne3_description_3D_', '3gram09_', '3gram10_', 'amenity005_'])\n"
     ]
    },
    {
     "name": "stderr",
     "output_type": "stream",
     "text": [
      "100%|██████████| 29/29 [00:31<00:00,  1.08s/it]\n"
     ]
    },
    {
     "name": "stdout",
     "output_type": "stream",
     "text": [
      "Top model for ['tsne3_comments_3D_', 'tsne3_description_3D_', '3gram09_', '3gram10_', 'amenity005_']: ExtraTreesClassifier. Accuracy = 0.8892045454545454\n",
      "\n",
      "Testing feature sets combination 209 of 255 (['tsne3_comments_3D_', 'tsne3_description_3D_', '3gram09_', '3gram10_', 'amenityall_'])\n"
     ]
    },
    {
     "name": "stderr",
     "output_type": "stream",
     "text": [
      "100%|██████████| 29/29 [00:35<00:00,  1.24s/it]\n"
     ]
    },
    {
     "name": "stdout",
     "output_type": "stream",
     "text": [
      "Top model for ['tsne3_comments_3D_', 'tsne3_description_3D_', '3gram09_', '3gram10_', 'amenityall_']: ExtraTreesClassifier. Accuracy = 0.9356060606060606\n",
      "New best model found! Accuracy = 0.9356060606060606\n",
      "\n",
      "Testing feature sets combination 210 of 255 (['tsne3_comments_3D_', 'tsne3_description_3D_', '3gram09_', 'amenity005_', 'amenityall_'])\n"
     ]
    },
    {
     "name": "stderr",
     "output_type": "stream",
     "text": [
      "100%|██████████| 29/29 [00:40<00:00,  1.39s/it]\n"
     ]
    },
    {
     "name": "stdout",
     "output_type": "stream",
     "text": [
      "Top model for ['tsne3_comments_3D_', 'tsne3_description_3D_', '3gram09_', 'amenity005_', 'amenityall_']: ExtraTreesClassifier. Accuracy = 0.9138257575757576\n",
      "\n",
      "Testing feature sets combination 211 of 255 (['tsne3_comments_3D_', 'tsne3_description_3D_', '3gram10_', 'amenity005_', 'amenityall_'])\n"
     ]
    },
    {
     "name": "stderr",
     "output_type": "stream",
     "text": [
      "100%|██████████| 29/29 [00:26<00:00,  1.08it/s]\n"
     ]
    },
    {
     "name": "stdout",
     "output_type": "stream",
     "text": [
      "Top model for ['tsne3_comments_3D_', 'tsne3_description_3D_', '3gram10_', 'amenity005_', 'amenityall_']: ExtraTreesClassifier. Accuracy = 0.9232954545454546\n",
      "\n",
      "Testing feature sets combination 212 of 255 (['tsne3_comments_3D_', '3gram09_', '3gram10_', 'amenity005_', 'amenityall_'])\n"
     ]
    },
    {
     "name": "stderr",
     "output_type": "stream",
     "text": [
      "100%|██████████| 29/29 [00:36<00:00,  1.27s/it]\n"
     ]
    },
    {
     "name": "stdout",
     "output_type": "stream",
     "text": [
      "Top model for ['tsne3_comments_3D_', '3gram09_', '3gram10_', 'amenity005_', 'amenityall_']: LGBMClassifier. Accuracy = 0.9081439393939394\n",
      "\n",
      "Testing feature sets combination 213 of 255 (['tsne2_description_2D_', 'tsne3_description_3D_', '3gram09_', '3gram10_', 'amenity005_'])\n"
     ]
    },
    {
     "name": "stderr",
     "output_type": "stream",
     "text": [
      "100%|██████████| 29/29 [00:30<00:00,  1.06s/it]\n"
     ]
    },
    {
     "name": "stdout",
     "output_type": "stream",
     "text": [
      "Top model for ['tsne2_description_2D_', 'tsne3_description_3D_', '3gram09_', '3gram10_', 'amenity005_']: ExtraTreesClassifier. Accuracy = 0.8939393939393939\n",
      "\n",
      "Testing feature sets combination 214 of 255 (['tsne2_description_2D_', 'tsne3_description_3D_', '3gram09_', '3gram10_', 'amenityall_'])\n"
     ]
    },
    {
     "name": "stderr",
     "output_type": "stream",
     "text": [
      "100%|██████████| 29/29 [00:34<00:00,  1.18s/it]\n"
     ]
    },
    {
     "name": "stdout",
     "output_type": "stream",
     "text": [
      "Top model for ['tsne2_description_2D_', 'tsne3_description_3D_', '3gram09_', '3gram10_', 'amenityall_']: ExtraTreesClassifier. Accuracy = 0.915719696969697\n",
      "\n",
      "Testing feature sets combination 215 of 255 (['tsne2_description_2D_', 'tsne3_description_3D_', '3gram09_', 'amenity005_', 'amenityall_'])\n"
     ]
    },
    {
     "name": "stderr",
     "output_type": "stream",
     "text": [
      "100%|██████████| 29/29 [00:37<00:00,  1.30s/it]\n"
     ]
    },
    {
     "name": "stdout",
     "output_type": "stream",
     "text": [
      "Top model for ['tsne2_description_2D_', 'tsne3_description_3D_', '3gram09_', 'amenity005_', 'amenityall_']: ExtraTreesClassifier. Accuracy = 0.9071969696969697\n",
      "\n",
      "Testing feature sets combination 216 of 255 (['tsne2_description_2D_', 'tsne3_description_3D_', '3gram10_', 'amenity005_', 'amenityall_'])\n"
     ]
    },
    {
     "name": "stderr",
     "output_type": "stream",
     "text": [
      "100%|██████████| 29/29 [00:27<00:00,  1.05it/s]\n"
     ]
    },
    {
     "name": "stdout",
     "output_type": "stream",
     "text": [
      "Top model for ['tsne2_description_2D_', 'tsne3_description_3D_', '3gram10_', 'amenity005_', 'amenityall_']: ExtraTreesClassifier. Accuracy = 0.9053030303030303\n",
      "\n",
      "Testing feature sets combination 217 of 255 (['tsne2_description_2D_', '3gram09_', '3gram10_', 'amenity005_', 'amenityall_'])\n"
     ]
    },
    {
     "name": "stderr",
     "output_type": "stream",
     "text": [
      "100%|██████████| 29/29 [00:38<00:00,  1.32s/it]\n"
     ]
    },
    {
     "name": "stdout",
     "output_type": "stream",
     "text": [
      "Top model for ['tsne2_description_2D_', '3gram09_', '3gram10_', 'amenity005_', 'amenityall_']: RandomForestClassifier. Accuracy = 0.8541666666666666\n",
      "\n",
      "Testing feature sets combination 218 of 255 (['tsne3_description_3D_', '3gram09_', '3gram10_', 'amenity005_', 'amenityall_'])\n"
     ]
    },
    {
     "name": "stderr",
     "output_type": "stream",
     "text": [
      "100%|██████████| 29/29 [00:37<00:00,  1.28s/it]\n"
     ]
    },
    {
     "name": "stdout",
     "output_type": "stream",
     "text": [
      "Top model for ['tsne3_description_3D_', '3gram09_', '3gram10_', 'amenity005_', 'amenityall_']: ExtraTreesClassifier. Accuracy = 0.8986742424242424\n",
      "\n",
      "Testing feature sets combination 219 of 255 (['tsne2_comments_2D_', 'tsne3_comments_3D_', 'tsne2_description_2D_', 'tsne3_description_3D_', '3gram09_', '3gram10_'])\n"
     ]
    },
    {
     "name": "stderr",
     "output_type": "stream",
     "text": [
      "100%|██████████| 29/29 [00:27<00:00,  1.04it/s]\n"
     ]
    },
    {
     "name": "stdout",
     "output_type": "stream",
     "text": [
      "Top model for ['tsne2_comments_2D_', 'tsne3_comments_3D_', 'tsne2_description_2D_', 'tsne3_description_3D_', '3gram09_', '3gram10_']: ExtraTreesClassifier. Accuracy = 0.790719696969697\n",
      "\n",
      "Testing feature sets combination 220 of 255 (['tsne2_comments_2D_', 'tsne3_comments_3D_', 'tsne2_description_2D_', 'tsne3_description_3D_', '3gram09_', 'amenity005_'])\n"
     ]
    },
    {
     "name": "stderr",
     "output_type": "stream",
     "text": [
      "100%|██████████| 29/29 [00:33<00:00,  1.16s/it]\n"
     ]
    },
    {
     "name": "stdout",
     "output_type": "stream",
     "text": [
      "Top model for ['tsne2_comments_2D_', 'tsne3_comments_3D_', 'tsne2_description_2D_', 'tsne3_description_3D_', '3gram09_', 'amenity005_']: ExtraTreesClassifier. Accuracy = 0.8958333333333334\n",
      "\n",
      "Testing feature sets combination 221 of 255 (['tsne2_comments_2D_', 'tsne3_comments_3D_', 'tsne2_description_2D_', 'tsne3_description_3D_', '3gram09_', 'amenityall_'])\n"
     ]
    },
    {
     "name": "stderr",
     "output_type": "stream",
     "text": [
      "100%|██████████| 29/29 [00:37<00:00,  1.31s/it]\n"
     ]
    },
    {
     "name": "stdout",
     "output_type": "stream",
     "text": [
      "Top model for ['tsne2_comments_2D_', 'tsne3_comments_3D_', 'tsne2_description_2D_', 'tsne3_description_3D_', '3gram09_', 'amenityall_']: ExtraTreesClassifier. Accuracy = 0.9100378787878788\n",
      "\n",
      "Testing feature sets combination 222 of 255 (['tsne2_comments_2D_', 'tsne3_comments_3D_', 'tsne2_description_2D_', 'tsne3_description_3D_', '3gram10_', 'amenity005_'])\n"
     ]
    },
    {
     "name": "stderr",
     "output_type": "stream",
     "text": [
      "100%|██████████| 29/29 [00:18<00:00,  1.53it/s]\n"
     ]
    },
    {
     "name": "stdout",
     "output_type": "stream",
     "text": [
      "Top model for ['tsne2_comments_2D_', 'tsne3_comments_3D_', 'tsne2_description_2D_', 'tsne3_description_3D_', '3gram10_', 'amenity005_']: ExtraTreesClassifier. Accuracy = 0.8835227272727273\n",
      "\n",
      "Testing feature sets combination 223 of 255 (['tsne2_comments_2D_', 'tsne3_comments_3D_', 'tsne2_description_2D_', 'tsne3_description_3D_', '3gram10_', 'amenityall_'])\n"
     ]
    },
    {
     "name": "stderr",
     "output_type": "stream",
     "text": [
      "100%|██████████| 29/29 [00:26<00:00,  1.11it/s]\n"
     ]
    },
    {
     "name": "stdout",
     "output_type": "stream",
     "text": [
      "Top model for ['tsne2_comments_2D_', 'tsne3_comments_3D_', 'tsne2_description_2D_', 'tsne3_description_3D_', '3gram10_', 'amenityall_']: ExtraTreesClassifier. Accuracy = 0.9242424242424242\n",
      "\n",
      "Testing feature sets combination 224 of 255 (['tsne2_comments_2D_', 'tsne3_comments_3D_', 'tsne2_description_2D_', 'tsne3_description_3D_', 'amenity005_', 'amenityall_'])\n"
     ]
    },
    {
     "name": "stderr",
     "output_type": "stream",
     "text": [
      "100%|██████████| 29/29 [00:29<00:00,  1.01s/it]\n"
     ]
    },
    {
     "name": "stdout",
     "output_type": "stream",
     "text": [
      "Top model for ['tsne2_comments_2D_', 'tsne3_comments_3D_', 'tsne2_description_2D_', 'tsne3_description_3D_', 'amenity005_', 'amenityall_']: ExtraTreesClassifier. Accuracy = 0.9176136363636364\n",
      "\n",
      "Testing feature sets combination 225 of 255 (['tsne2_comments_2D_', 'tsne3_comments_3D_', 'tsne2_description_2D_', '3gram09_', '3gram10_', 'amenity005_'])\n"
     ]
    },
    {
     "name": "stderr",
     "output_type": "stream",
     "text": [
      "100%|██████████| 29/29 [00:32<00:00,  1.11s/it]\n"
     ]
    },
    {
     "name": "stdout",
     "output_type": "stream",
     "text": [
      "Top model for ['tsne2_comments_2D_', 'tsne3_comments_3D_', 'tsne2_description_2D_', '3gram09_', '3gram10_', 'amenity005_']: ExtraTreesClassifier. Accuracy = 0.8920454545454546\n",
      "\n",
      "Testing feature sets combination 226 of 255 (['tsne2_comments_2D_', 'tsne3_comments_3D_', 'tsne2_description_2D_', '3gram09_', '3gram10_', 'amenityall_'])\n"
     ]
    },
    {
     "name": "stderr",
     "output_type": "stream",
     "text": [
      "100%|██████████| 29/29 [00:34<00:00,  1.20s/it]\n"
     ]
    },
    {
     "name": "stdout",
     "output_type": "stream",
     "text": [
      "Top model for ['tsne2_comments_2D_', 'tsne3_comments_3D_', 'tsne2_description_2D_', '3gram09_', '3gram10_', 'amenityall_']: ExtraTreesClassifier. Accuracy = 0.9128787878787878\n",
      "\n",
      "Testing feature sets combination 227 of 255 (['tsne2_comments_2D_', 'tsne3_comments_3D_', 'tsne2_description_2D_', '3gram09_', 'amenity005_', 'amenityall_'])\n"
     ]
    },
    {
     "name": "stderr",
     "output_type": "stream",
     "text": [
      "100%|██████████| 29/29 [00:39<00:00,  1.37s/it]\n"
     ]
    },
    {
     "name": "stdout",
     "output_type": "stream",
     "text": [
      "Top model for ['tsne2_comments_2D_', 'tsne3_comments_3D_', 'tsne2_description_2D_', '3gram09_', 'amenity005_', 'amenityall_']: ExtraTreesClassifier. Accuracy = 0.8996212121212122\n",
      "\n",
      "Testing feature sets combination 228 of 255 (['tsne2_comments_2D_', 'tsne3_comments_3D_', 'tsne2_description_2D_', '3gram10_', 'amenity005_', 'amenityall_'])\n"
     ]
    },
    {
     "name": "stderr",
     "output_type": "stream",
     "text": [
      "100%|██████████| 29/29 [00:28<00:00,  1.00it/s]\n"
     ]
    },
    {
     "name": "stdout",
     "output_type": "stream",
     "text": [
      "Top model for ['tsne2_comments_2D_', 'tsne3_comments_3D_', 'tsne2_description_2D_', '3gram10_', 'amenity005_', 'amenityall_']: ExtraTreesClassifier. Accuracy = 0.90625\n",
      "\n",
      "Testing feature sets combination 229 of 255 (['tsne2_comments_2D_', 'tsne3_comments_3D_', 'tsne3_description_3D_', '3gram09_', '3gram10_', 'amenity005_'])\n"
     ]
    },
    {
     "name": "stderr",
     "output_type": "stream",
     "text": [
      "100%|██████████| 29/29 [00:31<00:00,  1.10s/it]\n"
     ]
    },
    {
     "name": "stdout",
     "output_type": "stream",
     "text": [
      "Top model for ['tsne2_comments_2D_', 'tsne3_comments_3D_', 'tsne3_description_3D_', '3gram09_', '3gram10_', 'amenity005_']: ExtraTreesClassifier. Accuracy = 0.8920454545454546\n",
      "\n",
      "Testing feature sets combination 230 of 255 (['tsne2_comments_2D_', 'tsne3_comments_3D_', 'tsne3_description_3D_', '3gram09_', '3gram10_', 'amenityall_'])\n"
     ]
    },
    {
     "name": "stderr",
     "output_type": "stream",
     "text": [
      "100%|██████████| 29/29 [00:35<00:00,  1.22s/it]\n"
     ]
    },
    {
     "name": "stdout",
     "output_type": "stream",
     "text": [
      "Top model for ['tsne2_comments_2D_', 'tsne3_comments_3D_', 'tsne3_description_3D_', '3gram09_', '3gram10_', 'amenityall_']: ExtraTreesClassifier. Accuracy = 0.9251893939393939\n",
      "\n",
      "Testing feature sets combination 231 of 255 (['tsne2_comments_2D_', 'tsne3_comments_3D_', 'tsne3_description_3D_', '3gram09_', 'amenity005_', 'amenityall_'])\n"
     ]
    },
    {
     "name": "stderr",
     "output_type": "stream",
     "text": [
      "100%|██████████| 29/29 [00:39<00:00,  1.37s/it]\n"
     ]
    },
    {
     "name": "stdout",
     "output_type": "stream",
     "text": [
      "Top model for ['tsne2_comments_2D_', 'tsne3_comments_3D_', 'tsne3_description_3D_', '3gram09_', 'amenity005_', 'amenityall_']: ExtraTreesClassifier. Accuracy = 0.9289772727272727\n",
      "\n",
      "Testing feature sets combination 232 of 255 (['tsne2_comments_2D_', 'tsne3_comments_3D_', 'tsne3_description_3D_', '3gram10_', 'amenity005_', 'amenityall_'])\n"
     ]
    },
    {
     "name": "stderr",
     "output_type": "stream",
     "text": [
      "100%|██████████| 29/29 [00:28<00:00,  1.01it/s]\n"
     ]
    },
    {
     "name": "stdout",
     "output_type": "stream",
     "text": [
      "Top model for ['tsne2_comments_2D_', 'tsne3_comments_3D_', 'tsne3_description_3D_', '3gram10_', 'amenity005_', 'amenityall_']: ExtraTreesClassifier. Accuracy = 0.915719696969697\n",
      "\n",
      "Testing feature sets combination 233 of 255 (['tsne2_comments_2D_', 'tsne3_comments_3D_', '3gram09_', '3gram10_', 'amenity005_', 'amenityall_'])\n"
     ]
    },
    {
     "name": "stderr",
     "output_type": "stream",
     "text": [
      "100%|██████████| 29/29 [00:38<00:00,  1.33s/it]\n"
     ]
    },
    {
     "name": "stdout",
     "output_type": "stream",
     "text": [
      "Top model for ['tsne2_comments_2D_', 'tsne3_comments_3D_', '3gram09_', '3gram10_', 'amenity005_', 'amenityall_']: RandomForestClassifier. Accuracy = 0.9005681818181818\n",
      "\n",
      "Testing feature sets combination 234 of 255 (['tsne2_comments_2D_', 'tsne2_description_2D_', 'tsne3_description_3D_', '3gram09_', '3gram10_', 'amenity005_'])\n"
     ]
    },
    {
     "name": "stderr",
     "output_type": "stream",
     "text": [
      "100%|██████████| 29/29 [00:31<00:00,  1.09s/it]\n"
     ]
    },
    {
     "name": "stdout",
     "output_type": "stream",
     "text": [
      "Top model for ['tsne2_comments_2D_', 'tsne2_description_2D_', 'tsne3_description_3D_', '3gram09_', '3gram10_', 'amenity005_']: ExtraTreesClassifier. Accuracy = 0.8787878787878788\n",
      "\n",
      "Testing feature sets combination 235 of 255 (['tsne2_comments_2D_', 'tsne2_description_2D_', 'tsne3_description_3D_', '3gram09_', '3gram10_', 'amenityall_'])\n"
     ]
    },
    {
     "name": "stderr",
     "output_type": "stream",
     "text": [
      "100%|██████████| 29/29 [00:37<00:00,  1.31s/it]\n"
     ]
    },
    {
     "name": "stdout",
     "output_type": "stream",
     "text": [
      "Top model for ['tsne2_comments_2D_', 'tsne2_description_2D_', 'tsne3_description_3D_', '3gram09_', '3gram10_', 'amenityall_']: ExtraTreesClassifier. Accuracy = 0.9214015151515151\n",
      "\n",
      "Testing feature sets combination 236 of 255 (['tsne2_comments_2D_', 'tsne2_description_2D_', 'tsne3_description_3D_', '3gram09_', 'amenity005_', 'amenityall_'])\n"
     ]
    },
    {
     "name": "stderr",
     "output_type": "stream",
     "text": [
      "100%|██████████| 29/29 [00:39<00:00,  1.35s/it]\n"
     ]
    },
    {
     "name": "stdout",
     "output_type": "stream",
     "text": [
      "Top model for ['tsne2_comments_2D_', 'tsne2_description_2D_', 'tsne3_description_3D_', '3gram09_', 'amenity005_', 'amenityall_']: ExtraTreesClassifier. Accuracy = 0.9128787878787878\n",
      "\n",
      "Testing feature sets combination 237 of 255 (['tsne2_comments_2D_', 'tsne2_description_2D_', 'tsne3_description_3D_', '3gram10_', 'amenity005_', 'amenityall_'])\n"
     ]
    },
    {
     "name": "stderr",
     "output_type": "stream",
     "text": [
      "100%|██████████| 29/29 [00:28<00:00,  1.03it/s]\n"
     ]
    },
    {
     "name": "stdout",
     "output_type": "stream",
     "text": [
      "Top model for ['tsne2_comments_2D_', 'tsne2_description_2D_', 'tsne3_description_3D_', '3gram10_', 'amenity005_', 'amenityall_']: ExtraTreesClassifier. Accuracy = 0.9043560606060606\n",
      "\n",
      "Testing feature sets combination 238 of 255 (['tsne2_comments_2D_', 'tsne2_description_2D_', '3gram09_', '3gram10_', 'amenity005_', 'amenityall_'])\n"
     ]
    },
    {
     "name": "stderr",
     "output_type": "stream",
     "text": [
      "100%|██████████| 29/29 [00:39<00:00,  1.36s/it]\n"
     ]
    },
    {
     "name": "stdout",
     "output_type": "stream",
     "text": [
      "Top model for ['tsne2_comments_2D_', 'tsne2_description_2D_', '3gram09_', '3gram10_', 'amenity005_', 'amenityall_']: LGBMClassifier. Accuracy = 0.8854166666666666\n",
      "\n",
      "Testing feature sets combination 239 of 255 (['tsne2_comments_2D_', 'tsne3_description_3D_', '3gram09_', '3gram10_', 'amenity005_', 'amenityall_'])\n"
     ]
    },
    {
     "name": "stderr",
     "output_type": "stream",
     "text": [
      "100%|██████████| 29/29 [00:39<00:00,  1.37s/it]\n"
     ]
    },
    {
     "name": "stdout",
     "output_type": "stream",
     "text": [
      "Top model for ['tsne2_comments_2D_', 'tsne3_description_3D_', '3gram09_', '3gram10_', 'amenity005_', 'amenityall_']: ExtraTreesClassifier. Accuracy = 0.9109848484848485\n",
      "\n",
      "Testing feature sets combination 240 of 255 (['tsne3_comments_3D_', 'tsne2_description_2D_', 'tsne3_description_3D_', '3gram09_', '3gram10_', 'amenity005_'])\n"
     ]
    },
    {
     "name": "stderr",
     "output_type": "stream",
     "text": [
      "100%|██████████| 29/29 [00:31<00:00,  1.10s/it]\n"
     ]
    },
    {
     "name": "stdout",
     "output_type": "stream",
     "text": [
      "Top model for ['tsne3_comments_3D_', 'tsne2_description_2D_', 'tsne3_description_3D_', '3gram09_', '3gram10_', 'amenity005_']: ExtraTreesClassifier. Accuracy = 0.8882575757575758\n",
      "\n",
      "Testing feature sets combination 241 of 255 (['tsne3_comments_3D_', 'tsne2_description_2D_', 'tsne3_description_3D_', '3gram09_', '3gram10_', 'amenityall_'])\n"
     ]
    },
    {
     "name": "stderr",
     "output_type": "stream",
     "text": [
      "100%|██████████| 29/29 [00:33<00:00,  1.17s/it]\n"
     ]
    },
    {
     "name": "stdout",
     "output_type": "stream",
     "text": [
      "Top model for ['tsne3_comments_3D_', 'tsne2_description_2D_', 'tsne3_description_3D_', '3gram09_', '3gram10_', 'amenityall_']: ExtraTreesClassifier. Accuracy = 0.9214015151515151\n",
      "\n",
      "Testing feature sets combination 242 of 255 (['tsne3_comments_3D_', 'tsne2_description_2D_', 'tsne3_description_3D_', '3gram09_', 'amenity005_', 'amenityall_'])\n"
     ]
    },
    {
     "name": "stderr",
     "output_type": "stream",
     "text": [
      "100%|██████████| 29/29 [00:21<00:00,  1.35it/s]\n"
     ]
    },
    {
     "name": "stdout",
     "output_type": "stream",
     "text": [
      "Top model for ['tsne3_comments_3D_', 'tsne2_description_2D_', 'tsne3_description_3D_', '3gram09_', 'amenity005_', 'amenityall_']: ExtraTreesClassifier. Accuracy = 0.9081439393939394\n",
      "\n",
      "Testing feature sets combination 243 of 255 (['tsne3_comments_3D_', 'tsne2_description_2D_', 'tsne3_description_3D_', '3gram10_', 'amenity005_', 'amenityall_'])\n"
     ]
    },
    {
     "name": "stderr",
     "output_type": "stream",
     "text": [
      "100%|██████████| 29/29 [00:16<00:00,  1.77it/s]\n"
     ]
    },
    {
     "name": "stdout",
     "output_type": "stream",
     "text": [
      "Top model for ['tsne3_comments_3D_', 'tsne2_description_2D_', 'tsne3_description_3D_', '3gram10_', 'amenity005_', 'amenityall_']: ExtraTreesClassifier. Accuracy = 0.9138257575757576\n",
      "\n",
      "Testing feature sets combination 244 of 255 (['tsne3_comments_3D_', 'tsne2_description_2D_', '3gram09_', '3gram10_', 'amenity005_', 'amenityall_'])\n"
     ]
    },
    {
     "name": "stderr",
     "output_type": "stream",
     "text": [
      "100%|██████████| 29/29 [00:38<00:00,  1.34s/it]\n"
     ]
    },
    {
     "name": "stdout",
     "output_type": "stream",
     "text": [
      "Top model for ['tsne3_comments_3D_', 'tsne2_description_2D_', '3gram09_', '3gram10_', 'amenity005_', 'amenityall_']: ExtraTreesClassifier. Accuracy = 0.9109848484848485\n",
      "\n",
      "Testing feature sets combination 245 of 255 (['tsne3_comments_3D_', 'tsne3_description_3D_', '3gram09_', '3gram10_', 'amenity005_', 'amenityall_'])\n"
     ]
    },
    {
     "name": "stderr",
     "output_type": "stream",
     "text": [
      "100%|██████████| 29/29 [00:28<00:00,  1.01it/s]\n"
     ]
    },
    {
     "name": "stdout",
     "output_type": "stream",
     "text": [
      "Top model for ['tsne3_comments_3D_', 'tsne3_description_3D_', '3gram09_', '3gram10_', 'amenity005_', 'amenityall_']: ExtraTreesClassifier. Accuracy = 0.9176136363636364\n",
      "\n",
      "Testing feature sets combination 246 of 255 (['tsne2_description_2D_', 'tsne3_description_3D_', '3gram09_', '3gram10_', 'amenity005_', 'amenityall_'])\n"
     ]
    },
    {
     "name": "stderr",
     "output_type": "stream",
     "text": [
      "100%|██████████| 29/29 [00:24<00:00,  1.17it/s]\n"
     ]
    },
    {
     "name": "stdout",
     "output_type": "stream",
     "text": [
      "Top model for ['tsne2_description_2D_', 'tsne3_description_3D_', '3gram09_', '3gram10_', 'amenity005_', 'amenityall_']: ExtraTreesClassifier. Accuracy = 0.9090909090909091\n",
      "\n",
      "Testing feature sets combination 247 of 255 (['tsne2_comments_2D_', 'tsne3_comments_3D_', 'tsne2_description_2D_', 'tsne3_description_3D_', '3gram09_', '3gram10_', 'amenity005_'])\n"
     ]
    },
    {
     "name": "stderr",
     "output_type": "stream",
     "text": [
      "100%|██████████| 29/29 [00:20<00:00,  1.40it/s]\n"
     ]
    },
    {
     "name": "stdout",
     "output_type": "stream",
     "text": [
      "Top model for ['tsne2_comments_2D_', 'tsne3_comments_3D_', 'tsne2_description_2D_', 'tsne3_description_3D_', '3gram09_', '3gram10_', 'amenity005_']: ExtraTreesClassifier. Accuracy = 0.8854166666666666\n",
      "\n",
      "Testing feature sets combination 248 of 255 (['tsne2_comments_2D_', 'tsne3_comments_3D_', 'tsne2_description_2D_', 'tsne3_description_3D_', '3gram09_', '3gram10_', 'amenityall_'])\n"
     ]
    },
    {
     "name": "stderr",
     "output_type": "stream",
     "text": [
      "100%|██████████| 29/29 [00:23<00:00,  1.25it/s]\n"
     ]
    },
    {
     "name": "stdout",
     "output_type": "stream",
     "text": [
      "Top model for ['tsne2_comments_2D_', 'tsne3_comments_3D_', 'tsne2_description_2D_', 'tsne3_description_3D_', '3gram09_', '3gram10_', 'amenityall_']: ExtraTreesClassifier. Accuracy = 0.9223484848484849\n",
      "\n",
      "Testing feature sets combination 249 of 255 (['tsne2_comments_2D_', 'tsne3_comments_3D_', 'tsne2_description_2D_', 'tsne3_description_3D_', '3gram09_', 'amenity005_', 'amenityall_'])\n"
     ]
    },
    {
     "name": "stderr",
     "output_type": "stream",
     "text": [
      "100%|██████████| 29/29 [00:24<00:00,  1.16it/s]\n"
     ]
    },
    {
     "name": "stdout",
     "output_type": "stream",
     "text": [
      "Top model for ['tsne2_comments_2D_', 'tsne3_comments_3D_', 'tsne2_description_2D_', 'tsne3_description_3D_', '3gram09_', 'amenity005_', 'amenityall_']: ExtraTreesClassifier. Accuracy = 0.915719696969697\n",
      "\n",
      "Testing feature sets combination 250 of 255 (['tsne2_comments_2D_', 'tsne3_comments_3D_', 'tsne2_description_2D_', 'tsne3_description_3D_', '3gram10_', 'amenity005_', 'amenityall_'])\n"
     ]
    },
    {
     "name": "stderr",
     "output_type": "stream",
     "text": [
      "100%|██████████| 29/29 [00:19<00:00,  1.53it/s]\n"
     ]
    },
    {
     "name": "stdout",
     "output_type": "stream",
     "text": [
      "Top model for ['tsne2_comments_2D_', 'tsne3_comments_3D_', 'tsne2_description_2D_', 'tsne3_description_3D_', '3gram10_', 'amenity005_', 'amenityall_']: ExtraTreesClassifier. Accuracy = 0.9100378787878788\n",
      "\n",
      "Testing feature sets combination 251 of 255 (['tsne2_comments_2D_', 'tsne3_comments_3D_', 'tsne2_description_2D_', '3gram09_', '3gram10_', 'amenity005_', 'amenityall_'])\n"
     ]
    },
    {
     "name": "stderr",
     "output_type": "stream",
     "text": [
      "100%|██████████| 29/29 [00:24<00:00,  1.17it/s]\n"
     ]
    },
    {
     "name": "stdout",
     "output_type": "stream",
     "text": [
      "Top model for ['tsne2_comments_2D_', 'tsne3_comments_3D_', 'tsne2_description_2D_', '3gram09_', '3gram10_', 'amenity005_', 'amenityall_']: ExtraTreesClassifier. Accuracy = 0.9090909090909091\n",
      "\n",
      "Testing feature sets combination 252 of 255 (['tsne2_comments_2D_', 'tsne3_comments_3D_', 'tsne3_description_3D_', '3gram09_', '3gram10_', 'amenity005_', 'amenityall_'])\n"
     ]
    },
    {
     "name": "stderr",
     "output_type": "stream",
     "text": [
      "100%|██████████| 29/29 [00:25<00:00,  1.12it/s]\n"
     ]
    },
    {
     "name": "stdout",
     "output_type": "stream",
     "text": [
      "Top model for ['tsne2_comments_2D_', 'tsne3_comments_3D_', 'tsne3_description_3D_', '3gram09_', '3gram10_', 'amenity005_', 'amenityall_']: ExtraTreesClassifier. Accuracy = 0.9204545454545454\n",
      "\n",
      "Testing feature sets combination 253 of 255 (['tsne2_comments_2D_', 'tsne2_description_2D_', 'tsne3_description_3D_', '3gram09_', '3gram10_', 'amenity005_', 'amenityall_'])\n"
     ]
    },
    {
     "name": "stderr",
     "output_type": "stream",
     "text": [
      "100%|██████████| 29/29 [00:26<00:00,  1.10it/s]\n"
     ]
    },
    {
     "name": "stdout",
     "output_type": "stream",
     "text": [
      "Top model for ['tsne2_comments_2D_', 'tsne2_description_2D_', 'tsne3_description_3D_', '3gram09_', '3gram10_', 'amenity005_', 'amenityall_']: ExtraTreesClassifier. Accuracy = 0.9119318181818182\n",
      "\n",
      "Testing feature sets combination 254 of 255 (['tsne3_comments_3D_', 'tsne2_description_2D_', 'tsne3_description_3D_', '3gram09_', '3gram10_', 'amenity005_', 'amenityall_'])\n"
     ]
    },
    {
     "name": "stderr",
     "output_type": "stream",
     "text": [
      "100%|██████████| 29/29 [00:27<00:00,  1.07it/s]\n"
     ]
    },
    {
     "name": "stdout",
     "output_type": "stream",
     "text": [
      "Top model for ['tsne3_comments_3D_', 'tsne2_description_2D_', 'tsne3_description_3D_', '3gram09_', '3gram10_', 'amenity005_', 'amenityall_']: ExtraTreesClassifier. Accuracy = 0.9261363636363636\n",
      "\n",
      "Testing feature sets combination 255 of 255 (['tsne2_comments_2D_', 'tsne3_comments_3D_', 'tsne2_description_2D_', 'tsne3_description_3D_', '3gram09_', '3gram10_', 'amenity005_', 'amenityall_'])\n"
     ]
    },
    {
     "name": "stderr",
     "output_type": "stream",
     "text": [
      "100%|██████████| 29/29 [00:29<00:00,  1.02s/it]"
     ]
    },
    {
     "name": "stdout",
     "output_type": "stream",
     "text": [
      "Top model for ['tsne2_comments_2D_', 'tsne3_comments_3D_', 'tsne2_description_2D_', 'tsne3_description_3D_', '3gram09_', '3gram10_', 'amenity005_', 'amenityall_']: ExtraTreesClassifier. Accuracy = 0.9176136363636364\n",
      "\n",
      "Best model: ExtraTreesClassifier with feature set ['tsne3_comments_3D_', 'tsne3_description_3D_', '3gram09_', '3gram10_', 'amenityall_']\n",
      "Accuracy = 0.9356060606060606\n"
     ]
    },
    {
     "name": "stderr",
     "output_type": "stream",
     "text": [
      "\n"
     ]
    }
   ],
   "source": [
    "from lazypredict.Supervised import LazyClassifier\n",
    "\n",
    "top_models = {}\n",
    "best_model = None\n",
    "best_accuracy = -1\n",
    "best_feature_set = None\n",
    "\n",
    "num_of_feature_sets_combinations = len(feature_sets_combinations)\n",
    "\n",
    "for i, feature_sets_combination in enumerate(feature_sets_combinations):\n",
    "\n",
    "    print(f\"Testing feature sets combination {i + 1} of {num_of_feature_sets_combinations} ({feature_sets_combination})\")\n",
    "\n",
    "    # get column subset\n",
    "    df_subset_columns = [c for c in df.columns if any([c.startswith(f) for f in feature_sets_combination])]\n",
    "    df_subset_columns.append(\"label\")\n",
    "\n",
    "    # oversample and get train/test split\n",
    "    df_subset = df[df_subset_columns]\n",
    "    X, y = oversample.fit_resample(df_subset.drop(columns=[\"label\"]), df_subset[\"label\"])\n",
    "    X_train, X_test, y_train, y_test = train_test_split(X, y, test_size=0.2, random_state=42)\n",
    "\n",
    "    # train model\n",
    "    clf = LazyClassifier(verbose=0, ignore_warnings=True, custom_metric=None)\n",
    "    models, predictions = clf.fit(X_train, X_test, y_train, y_test)\n",
    "    top_models_for_subset = models.sort_values(by=\"Accuracy\", ascending=False).head(10)\n",
    "\n",
    "    top_model = models.iloc[0]\n",
    "    accuracy = top_model[\"Accuracy\"]\n",
    "    name = top_model.name\n",
    "    print(f\"Top model for {feature_sets_combination}: {name}. Accuracy = {accuracy}\")\n",
    "    if top_model[\"Accuracy\"] > best_accuracy:\n",
    "        best_accuracy = top_model[\"Accuracy\"]\n",
    "        best_model = top_model\n",
    "        best_feature_set = feature_sets_combination\n",
    "        print(f\"New best model found! Accuracy = {accuracy}\")\n",
    "\n",
    "    # save results\n",
    "    top_models[\",\".join(feature_sets_combination)] = top_models_for_subset\n",
    "\n",
    "    print()\n",
    "\n",
    "\n",
    "print(f\"Best model: {best_model.name} with feature set {best_feature_set}\\nAccuracy = {best_accuracy}\")\n",
    "\n",
    "import pickle\n",
    "# save top_models\n",
    "with open(f\"../../data/processed/top_models_{GEO}.pickle\", \"wb\") as f:\n",
    "    pickle.dump(top_models, f)"
   ]
  },
  {
   "cell_type": "code",
   "execution_count": null,
   "metadata": {},
   "outputs": [
    {
     "data": {
      "text/html": [
       "<div>\n",
       "<style scoped>\n",
       "    .dataframe tbody tr th:only-of-type {\n",
       "        vertical-align: middle;\n",
       "    }\n",
       "\n",
       "    .dataframe tbody tr th {\n",
       "        vertical-align: top;\n",
       "    }\n",
       "\n",
       "    .dataframe thead th {\n",
       "        text-align: right;\n",
       "    }\n",
       "</style>\n",
       "<table border=\"1\" class=\"dataframe\">\n",
       "  <thead>\n",
       "    <tr style=\"text-align: right;\">\n",
       "      <th></th>\n",
       "      <th>feature_set</th>\n",
       "      <th>top_model_name</th>\n",
       "      <th>top_model_accuracy</th>\n",
       "    </tr>\n",
       "  </thead>\n",
       "  <tbody>\n",
       "    <tr>\n",
       "      <th>208</th>\n",
       "      <td>tsne3_comments_3D_,tsne3_description_3D_,3gram...</td>\n",
       "      <td>ExtraTreesClassifier</td>\n",
       "      <td>0.94</td>\n",
       "    </tr>\n",
       "    <tr>\n",
       "      <th>230</th>\n",
       "      <td>tsne2_comments_2D_,tsne3_comments_3D_,tsne3_de...</td>\n",
       "      <td>ExtraTreesClassifier</td>\n",
       "      <td>0.93</td>\n",
       "    </tr>\n",
       "    <tr>\n",
       "      <th>179</th>\n",
       "      <td>tsne2_comments_2D_,tsne3_comments_3D_,3gram09_...</td>\n",
       "      <td>ExtraTreesClassifier</td>\n",
       "      <td>0.93</td>\n",
       "    </tr>\n",
       "    <tr>\n",
       "      <th>149</th>\n",
       "      <td>tsne2_description_2D_,tsne3_description_3D_,3g...</td>\n",
       "      <td>ExtraTreesClassifier</td>\n",
       "      <td>0.93</td>\n",
       "    </tr>\n",
       "    <tr>\n",
       "      <th>84</th>\n",
       "      <td>tsne3_description_3D_,3gram09_,amenityall_</td>\n",
       "      <td>ExtraTreesClassifier</td>\n",
       "      <td>0.93</td>\n",
       "    </tr>\n",
       "    <tr>\n",
       "      <th>253</th>\n",
       "      <td>tsne3_comments_3D_,tsne2_description_2D_,tsne3...</td>\n",
       "      <td>ExtraTreesClassifier</td>\n",
       "      <td>0.93</td>\n",
       "    </tr>\n",
       "    <tr>\n",
       "      <th>199</th>\n",
       "      <td>tsne3_comments_3D_,tsne2_description_2D_,tsne3...</td>\n",
       "      <td>ExtraTreesClassifier</td>\n",
       "      <td>0.93</td>\n",
       "    </tr>\n",
       "    <tr>\n",
       "      <th>141</th>\n",
       "      <td>tsne3_comments_3D_,tsne3_description_3D_,3gram...</td>\n",
       "      <td>ExtraTreesClassifier</td>\n",
       "      <td>0.93</td>\n",
       "    </tr>\n",
       "    <tr>\n",
       "      <th>229</th>\n",
       "      <td>tsne2_comments_2D_,tsne3_comments_3D_,tsne3_de...</td>\n",
       "      <td>ExtraTreesClassifier</td>\n",
       "      <td>0.93</td>\n",
       "    </tr>\n",
       "    <tr>\n",
       "      <th>105</th>\n",
       "      <td>tsne2_comments_2D_,tsne3_comments_3D_,3gram10_...</td>\n",
       "      <td>ExtraTreesClassifier</td>\n",
       "      <td>0.93</td>\n",
       "    </tr>\n",
       "  </tbody>\n",
       "</table>\n",
       "</div>"
      ],
      "text/plain": [
       "                                           feature_set        top_model_name  \\\n",
       "208  tsne3_comments_3D_,tsne3_description_3D_,3gram...  ExtraTreesClassifier   \n",
       "230  tsne2_comments_2D_,tsne3_comments_3D_,tsne3_de...  ExtraTreesClassifier   \n",
       "179  tsne2_comments_2D_,tsne3_comments_3D_,3gram09_...  ExtraTreesClassifier   \n",
       "149  tsne2_description_2D_,tsne3_description_3D_,3g...  ExtraTreesClassifier   \n",
       "84          tsne3_description_3D_,3gram09_,amenityall_  ExtraTreesClassifier   \n",
       "253  tsne3_comments_3D_,tsne2_description_2D_,tsne3...  ExtraTreesClassifier   \n",
       "199  tsne3_comments_3D_,tsne2_description_2D_,tsne3...  ExtraTreesClassifier   \n",
       "141  tsne3_comments_3D_,tsne3_description_3D_,3gram...  ExtraTreesClassifier   \n",
       "229  tsne2_comments_2D_,tsne3_comments_3D_,tsne3_de...  ExtraTreesClassifier   \n",
       "105  tsne2_comments_2D_,tsne3_comments_3D_,3gram10_...  ExtraTreesClassifier   \n",
       "\n",
       "     top_model_accuracy  \n",
       "208                0.94  \n",
       "230                0.93  \n",
       "179                0.93  \n",
       "149                0.93  \n",
       "84                 0.93  \n",
       "253                0.93  \n",
       "199                0.93  \n",
       "141                0.93  \n",
       "229                0.93  \n",
       "105                0.93  "
      ]
     },
     "execution_count": 82,
     "metadata": {},
     "output_type": "execute_result"
    }
   ],
   "source": [
    "report = []\n",
    "\n",
    "# iterate over keys and values\n",
    "for key, value in top_models.items():\n",
    "    top_model_name = value.iloc[0].name\n",
    "    top_model_accuracy = value.iloc[0][\"Accuracy\"]\n",
    "\n",
    "    report.append({\n",
    "        \"feature_set\": key,\n",
    "        \"top_model_name\": top_model_name,\n",
    "        \"top_model_accuracy\": top_model_accuracy\n",
    "    })\n",
    "\n",
    "top_10 = pd.DataFrame(report).sort_values(by=\"top_model_accuracy\", ascending=False).head(10)\n",
    "top_10"
   ]
  },
  {
   "attachments": {},
   "cell_type": "markdown",
   "metadata": {},
   "source": [
    "Let's grab the best subset, and hyperparameter tune the best model!"
   ]
  },
  {
   "cell_type": "code",
   "execution_count": 96,
   "metadata": {},
   "outputs": [],
   "source": [
    "best_feature_set = top_10.reset_index().iloc[0].feature_set\n",
    "\n",
    "columns_in_best_feature_set = [c for c in df.columns if any([c.startswith(f) for f in best_feature_set.split(\",\")])]\n",
    "columns_in_best_feature_set.append(\"label\")\n",
    "\n",
    "df_best_subset = df[columns_in_best_feature_set]\n"
   ]
  },
  {
   "cell_type": "code",
   "execution_count": 97,
   "metadata": {},
   "outputs": [
    {
     "name": "stdout",
     "output_type": "stream",
     "text": [
      "Fitting 5 folds for each of 108 candidates, totalling 540 fits\n"
     ]
    }
   ],
   "source": [
    "# load ExtraTreesClassifier\n",
    "from sklearn.ensemble import ExtraTreesClassifier\n",
    "\n",
    "# apply GridSearchCV to find the best parameters\n",
    "from sklearn.model_selection import GridSearchCV\n",
    "\n",
    "params = {\n",
    "    'n_estimators': [100, 200],\n",
    "    'max_depth': [None, 5, 10],\n",
    "    'min_samples_split': [2, 5],\n",
    "    'min_samples_leaf': [1, 2, 5],\n",
    "    'max_features': ['auto', 'sqrt', 'log2'],\n",
    "}\n",
    "\n",
    "clf = GridSearchCV(ExtraTreesClassifier(), params, cv=5, n_jobs=-1, verbose=1)\n",
    "\n",
    "# oversample and get train/test split\n",
    "X, y = oversample.fit_resample(df_best_subset.drop(columns=[\"label\"]), df_best_subset[\"label\"])\n",
    "X_train, X_test, y_train, y_test = train_test_split(X, y, test_size=0.2, random_state=42)\n",
    "clf.fit(X_train, y_train)\n",
    "best_clf = clf.best_estimator_\n",
    "\n",
    "# print the best parameters\n",
    "print(\"Best parameters:\")\n",
    "print(clf.best_params_)\n",
    "\n",
    "# predict\n",
    "y_pred = best_clf.predict(X_test)\n",
    "\n",
    "# evaluate\n",
    "from sklearn.metrics import accuracy_score\n",
    "\n",
    "print(\"Accuracy:\", round(accuracy_score(y_test, y_pred), 2))\n",
    "\n",
    "# plot a confusion matrix\n",
    "from sklearn.metrics import ConfusionMatrixDisplay\n",
    "import matplotlib.pyplot as plt\n",
    "cm = ConfusionMatrixDisplay.from_predictions(y_test, y_pred)\n",
    "plt.show()"
   ]
  },
  {
   "cell_type": "code",
   "execution_count": null,
   "metadata": {},
   "outputs": [],
   "source": []
  }
 ],
 "metadata": {
  "kernelspec": {
   "display_name": "venv",
   "language": "python",
   "name": "python3"
  },
  "language_info": {
   "codemirror_mode": {
    "name": "ipython",
    "version": 3
   },
   "file_extension": ".py",
   "mimetype": "text/x-python",
   "name": "python",
   "nbconvert_exporter": "python",
   "pygments_lexer": "ipython3",
   "version": "3.10.4"
  },
  "orig_nbformat": 4,
  "vscode": {
   "interpreter": {
    "hash": "cf086def782804284d24881115c612afdcc8ea791299ba67855f0c7f1a9ccc5a"
   }
  }
 },
 "nbformat": 4,
 "nbformat_minor": 2
}
