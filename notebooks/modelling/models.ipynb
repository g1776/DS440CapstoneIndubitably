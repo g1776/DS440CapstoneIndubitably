{
 "cells": [
  {
   "attachments": {},
   "cell_type": "markdown",
   "metadata": {},
   "source": [
    "# Models\n",
    "In this notebook we will generate several different models using the already engineered features. We will then evaluate the models using cross validation and select the best model to use for our predictions."
   ]
  },
  {
   "cell_type": "code",
   "execution_count": 21,
   "metadata": {},
   "outputs": [],
   "source": [
    "import pandas as pd\n",
    "from sklearn.model_selection import train_test_split"
   ]
  },
  {
   "cell_type": "code",
   "execution_count": 22,
   "metadata": {},
   "outputs": [
    {
     "name": "stdout",
     "output_type": "stream",
     "text": [
      "(1546, 96)\n"
     ]
    },
    {
     "data": {
      "text/html": [
       "<div>\n",
       "<style scoped>\n",
       "    .dataframe tbody tr th:only-of-type {\n",
       "        vertical-align: middle;\n",
       "    }\n",
       "\n",
       "    .dataframe tbody tr th {\n",
       "        vertical-align: top;\n",
       "    }\n",
       "\n",
       "    .dataframe thead th {\n",
       "        text-align: right;\n",
       "    }\n",
       "</style>\n",
       "<table border=\"1\" class=\"dataframe\">\n",
       "  <thead>\n",
       "    <tr style=\"text-align: right;\">\n",
       "      <th></th>\n",
       "      <th>pca_comments_0</th>\n",
       "      <th>pca_comments_1</th>\n",
       "      <th>pca_comments_2</th>\n",
       "      <th>pca_description_0</th>\n",
       "      <th>pca_description_1</th>\n",
       "      <th>pca_description_2</th>\n",
       "      <th>3gram09_would_not_recommend</th>\n",
       "      <th>3gram09_no_toilet_paper</th>\n",
       "      <th>3gram09_not_recommend_staying</th>\n",
       "      <th>3gram09_write_negative_review</th>\n",
       "      <th>...</th>\n",
       "      <th>amenityall_silverware</th>\n",
       "      <th>amenityall_bathtub</th>\n",
       "      <th>amenityall_lockbox</th>\n",
       "      <th>amenityall_crib</th>\n",
       "      <th>amenityall_elevator</th>\n",
       "      <th>amenityall_gym</th>\n",
       "      <th>amenityall_oven</th>\n",
       "      <th>amenityall_waterfront</th>\n",
       "      <th>amenityall_toilet</th>\n",
       "      <th>label</th>\n",
       "    </tr>\n",
       "    <tr>\n",
       "      <th>review_id</th>\n",
       "      <th></th>\n",
       "      <th></th>\n",
       "      <th></th>\n",
       "      <th></th>\n",
       "      <th></th>\n",
       "      <th></th>\n",
       "      <th></th>\n",
       "      <th></th>\n",
       "      <th></th>\n",
       "      <th></th>\n",
       "      <th></th>\n",
       "      <th></th>\n",
       "      <th></th>\n",
       "      <th></th>\n",
       "      <th></th>\n",
       "      <th></th>\n",
       "      <th></th>\n",
       "      <th></th>\n",
       "      <th></th>\n",
       "      <th></th>\n",
       "      <th></th>\n",
       "    </tr>\n",
       "  </thead>\n",
       "  <tbody>\n",
       "    <tr>\n",
       "      <th>83097</th>\n",
       "      <td>-0.054448</td>\n",
       "      <td>-0.088134</td>\n",
       "      <td>-0.023753</td>\n",
       "      <td>0.222688</td>\n",
       "      <td>-0.220573</td>\n",
       "      <td>0.155973</td>\n",
       "      <td>0</td>\n",
       "      <td>0</td>\n",
       "      <td>0</td>\n",
       "      <td>0</td>\n",
       "      <td>...</td>\n",
       "      <td>0.0</td>\n",
       "      <td>0.0</td>\n",
       "      <td>0.0</td>\n",
       "      <td>0.0</td>\n",
       "      <td>0.0</td>\n",
       "      <td>0.0</td>\n",
       "      <td>0.0</td>\n",
       "      <td>0.0</td>\n",
       "      <td>0.0</td>\n",
       "      <td>good</td>\n",
       "    </tr>\n",
       "    <tr>\n",
       "      <th>133337</th>\n",
       "      <td>-0.145413</td>\n",
       "      <td>0.213364</td>\n",
       "      <td>-0.030841</td>\n",
       "      <td>0.222688</td>\n",
       "      <td>-0.220573</td>\n",
       "      <td>0.155973</td>\n",
       "      <td>0</td>\n",
       "      <td>0</td>\n",
       "      <td>0</td>\n",
       "      <td>0</td>\n",
       "      <td>...</td>\n",
       "      <td>0.0</td>\n",
       "      <td>0.0</td>\n",
       "      <td>0.0</td>\n",
       "      <td>0.0</td>\n",
       "      <td>0.0</td>\n",
       "      <td>0.0</td>\n",
       "      <td>0.0</td>\n",
       "      <td>0.0</td>\n",
       "      <td>0.0</td>\n",
       "      <td>good</td>\n",
       "    </tr>\n",
       "    <tr>\n",
       "      <th>150928</th>\n",
       "      <td>0.001356</td>\n",
       "      <td>-0.114448</td>\n",
       "      <td>0.075398</td>\n",
       "      <td>0.222688</td>\n",
       "      <td>-0.220573</td>\n",
       "      <td>0.155973</td>\n",
       "      <td>0</td>\n",
       "      <td>0</td>\n",
       "      <td>0</td>\n",
       "      <td>0</td>\n",
       "      <td>...</td>\n",
       "      <td>0.0</td>\n",
       "      <td>0.0</td>\n",
       "      <td>0.0</td>\n",
       "      <td>0.0</td>\n",
       "      <td>0.0</td>\n",
       "      <td>0.0</td>\n",
       "      <td>0.0</td>\n",
       "      <td>0.0</td>\n",
       "      <td>0.0</td>\n",
       "      <td>good</td>\n",
       "    </tr>\n",
       "    <tr>\n",
       "      <th>2706775</th>\n",
       "      <td>-0.248564</td>\n",
       "      <td>-0.142601</td>\n",
       "      <td>0.024358</td>\n",
       "      <td>0.222688</td>\n",
       "      <td>-0.220573</td>\n",
       "      <td>0.155973</td>\n",
       "      <td>0</td>\n",
       "      <td>0</td>\n",
       "      <td>0</td>\n",
       "      <td>0</td>\n",
       "      <td>...</td>\n",
       "      <td>0.0</td>\n",
       "      <td>0.0</td>\n",
       "      <td>0.0</td>\n",
       "      <td>0.0</td>\n",
       "      <td>0.0</td>\n",
       "      <td>0.0</td>\n",
       "      <td>0.0</td>\n",
       "      <td>0.0</td>\n",
       "      <td>0.0</td>\n",
       "      <td>good</td>\n",
       "    </tr>\n",
       "    <tr>\n",
       "      <th>8602878</th>\n",
       "      <td>0.039454</td>\n",
       "      <td>-0.030109</td>\n",
       "      <td>0.011850</td>\n",
       "      <td>0.222688</td>\n",
       "      <td>-0.220573</td>\n",
       "      <td>0.155973</td>\n",
       "      <td>0</td>\n",
       "      <td>0</td>\n",
       "      <td>0</td>\n",
       "      <td>0</td>\n",
       "      <td>...</td>\n",
       "      <td>0.0</td>\n",
       "      <td>0.0</td>\n",
       "      <td>0.0</td>\n",
       "      <td>0.0</td>\n",
       "      <td>0.0</td>\n",
       "      <td>0.0</td>\n",
       "      <td>0.0</td>\n",
       "      <td>0.0</td>\n",
       "      <td>0.0</td>\n",
       "      <td>good</td>\n",
       "    </tr>\n",
       "  </tbody>\n",
       "</table>\n",
       "<p>5 rows × 96 columns</p>\n",
       "</div>"
      ],
      "text/plain": [
       "           pca_comments_0  pca_comments_1  pca_comments_2  pca_description_0  \\\n",
       "review_id                                                                      \n",
       "83097           -0.054448       -0.088134       -0.023753           0.222688   \n",
       "133337          -0.145413        0.213364       -0.030841           0.222688   \n",
       "150928           0.001356       -0.114448        0.075398           0.222688   \n",
       "2706775         -0.248564       -0.142601        0.024358           0.222688   \n",
       "8602878          0.039454       -0.030109        0.011850           0.222688   \n",
       "\n",
       "           pca_description_1  pca_description_2  3gram09_would_not_recommend  \\\n",
       "review_id                                                                      \n",
       "83097              -0.220573           0.155973                            0   \n",
       "133337             -0.220573           0.155973                            0   \n",
       "150928             -0.220573           0.155973                            0   \n",
       "2706775            -0.220573           0.155973                            0   \n",
       "8602878            -0.220573           0.155973                            0   \n",
       "\n",
       "           3gram09_no_toilet_paper  3gram09_not_recommend_staying  \\\n",
       "review_id                                                           \n",
       "83097                            0                              0   \n",
       "133337                           0                              0   \n",
       "150928                           0                              0   \n",
       "2706775                          0                              0   \n",
       "8602878                          0                              0   \n",
       "\n",
       "           3gram09_write_negative_review  ...  amenityall_silverware  \\\n",
       "review_id                                 ...                          \n",
       "83097                                  0  ...                    0.0   \n",
       "133337                                 0  ...                    0.0   \n",
       "150928                                 0  ...                    0.0   \n",
       "2706775                                0  ...                    0.0   \n",
       "8602878                                0  ...                    0.0   \n",
       "\n",
       "           amenityall_bathtub  amenityall_lockbox  amenityall_crib  \\\n",
       "review_id                                                            \n",
       "83097                     0.0                 0.0              0.0   \n",
       "133337                    0.0                 0.0              0.0   \n",
       "150928                    0.0                 0.0              0.0   \n",
       "2706775                   0.0                 0.0              0.0   \n",
       "8602878                   0.0                 0.0              0.0   \n",
       "\n",
       "           amenityall_elevator  amenityall_gym  amenityall_oven  \\\n",
       "review_id                                                         \n",
       "83097                      0.0             0.0              0.0   \n",
       "133337                     0.0             0.0              0.0   \n",
       "150928                     0.0             0.0              0.0   \n",
       "2706775                    0.0             0.0              0.0   \n",
       "8602878                    0.0             0.0              0.0   \n",
       "\n",
       "           amenityall_waterfront  amenityall_toilet  label  \n",
       "review_id                                                   \n",
       "83097                        0.0                0.0   good  \n",
       "133337                       0.0                0.0   good  \n",
       "150928                       0.0                0.0   good  \n",
       "2706775                      0.0                0.0   good  \n",
       "8602878                      0.0                0.0   good  \n",
       "\n",
       "[5 rows x 96 columns]"
      ]
     },
     "execution_count": 22,
     "metadata": {},
     "output_type": "execute_result"
    }
   ],
   "source": [
    "GEO = 'texas_florida'\n",
    "df = pd.read_csv(f'../../data/features/features_{GEO}_pca.csv')\n",
    "df.index = df[\"review_id\"]\n",
    "df.drop(columns=[\"review_id\"], inplace=True)\n",
    "\n",
    "print(df.shape)\n",
    "df.head()"
   ]
  },
  {
   "cell_type": "code",
   "execution_count": 23,
   "metadata": {},
   "outputs": [
    {
     "data": {
      "text/plain": [
       "good     1236\n",
       "mbad      124\n",
       "mgood     106\n",
       "bad        80\n",
       "Name: label, dtype: int64"
      ]
     },
     "execution_count": 23,
     "metadata": {},
     "output_type": "execute_result"
    }
   ],
   "source": [
    "df.label.value_counts()"
   ]
  },
  {
   "attachments": {},
   "cell_type": "markdown",
   "metadata": {},
   "source": [
    "Drop NA labels... THANKS Charlie :/"
   ]
  },
  {
   "cell_type": "code",
   "execution_count": 24,
   "metadata": {},
   "outputs": [],
   "source": [
    "df = df.dropna()"
   ]
  },
  {
   "attachments": {},
   "cell_type": "markdown",
   "metadata": {},
   "source": [
    "The data is extremely imbalanced. We can use the `imbalanced-learn` Python library, which has several implementations of resampling methods to deal with this problem. We will use the `SMOTE` method, which oversamples the minority class."
   ]
  },
  {
   "cell_type": "code",
   "execution_count": 25,
   "metadata": {},
   "outputs": [
    {
     "name": "stdout",
     "output_type": "stream",
     "text": [
      "Balanced labels:\n"
     ]
    },
    {
     "data": {
      "text/plain": [
       "good     1236\n",
       "mgood    1236\n",
       "mbad     1236\n",
       "bad      1236\n",
       "Name: label, dtype: int64"
      ]
     },
     "execution_count": 25,
     "metadata": {},
     "output_type": "execute_result"
    }
   ],
   "source": [
    "from imblearn.over_sampling import SMOTE\n",
    "\n",
    "oversample = SMOTE()\n",
    "X, y = oversample.fit_resample(df.drop(columns=[\"label\"]), df[\"label\"])\n",
    "\n",
    "print(\"Balanced labels:\")\n",
    "y.value_counts()"
   ]
  },
  {
   "attachments": {},
   "cell_type": "markdown",
   "metadata": {},
   "source": [
    "## Testing out different feature combinations\n",
    "We want to try the different combinations of features to see which ones work best."
   ]
  },
  {
   "cell_type": "code",
   "execution_count": 48,
   "metadata": {},
   "outputs": [
    {
     "name": "stdout",
     "output_type": "stream",
     "text": [
      "Number of feature sets combinations: 63\n"
     ]
    }
   ],
   "source": [
    "import itertools\n",
    "\n",
    "feature_sets = [\n",
    "    \"pca_comments_\",\n",
    "    \"pca_description_\",\n",
    "    \"3gram09_\",\n",
    "    \"3gram10_\",\n",
    "    \"amenity005_\",\n",
    "    \"amenityall_\"\n",
    "]\n",
    "\n",
    "# get all combinations of feature sets of all lengths\n",
    "feature_sets_combinations = []\n",
    "for i in range(1, len(feature_sets) + 1):\n",
    "    feature_sets_combinations += [list(x) for x in itertools.combinations(feature_sets, i)]\n",
    "\n",
    "print(f\"Number of feature sets combinations: {len(feature_sets_combinations)}\")"
   ]
  },
  {
   "cell_type": "code",
   "execution_count": 50,
   "metadata": {},
   "outputs": [
    {
     "name": "stdout",
     "output_type": "stream",
     "text": [
      "Testing feature sets combination 1 of 63 (['pca_comments_'])\n"
     ]
    },
    {
     "name": "stderr",
     "output_type": "stream",
     "text": [
      "100%|██████████| 29/29 [00:06<00:00,  4.36it/s]\n"
     ]
    },
    {
     "name": "stdout",
     "output_type": "stream",
     "text": [
      "Top model for ['pca_comments_']: ExtraTreesClassifier. Accuracy = 0.8240647118301314\n",
      "New best model found! Accuracy = 0.8240647118301314\n",
      "\n",
      "Testing feature sets combination 2 of 63 (['pca_description_'])\n"
     ]
    },
    {
     "name": "stderr",
     "output_type": "stream",
     "text": [
      "100%|██████████| 29/29 [00:05<00:00,  5.20it/s]\n"
     ]
    },
    {
     "name": "stdout",
     "output_type": "stream",
     "text": [
      "Top model for ['pca_description_']: ExtraTreesClassifier. Accuracy = 0.782608695652174\n",
      "\n",
      "Testing feature sets combination 7 of 63 (['pca_comments_', 'pca_description_'])\n"
     ]
    },
    {
     "name": "stderr",
     "output_type": "stream",
     "text": [
      "100%|██████████| 29/29 [00:06<00:00,  4.56it/s]\n"
     ]
    },
    {
     "name": "stdout",
     "output_type": "stream",
     "text": [
      "Top model for ['pca_comments_', 'pca_description_']: ExtraTreesClassifier. Accuracy = 0.9362992922143579\n",
      "New best model found! Accuracy = 0.9362992922143579\n",
      "\n",
      "Testing feature sets combination 8 of 63 (['pca_comments_', '3gram09_'])\n"
     ]
    },
    {
     "name": "stderr",
     "output_type": "stream",
     "text": [
      "100%|██████████| 29/29 [00:11<00:00,  2.61it/s]\n"
     ]
    },
    {
     "name": "stdout",
     "output_type": "stream",
     "text": [
      "Top model for ['pca_comments_', '3gram09_']: ExtraTreesClassifier. Accuracy = 0.8291203235591507\n",
      "\n",
      "Testing feature sets combination 9 of 63 (['pca_comments_', '3gram10_'])\n"
     ]
    },
    {
     "name": "stderr",
     "output_type": "stream",
     "text": [
      "100%|██████████| 29/29 [00:06<00:00,  4.46it/s]\n"
     ]
    },
    {
     "name": "stdout",
     "output_type": "stream",
     "text": [
      "Top model for ['pca_comments_', '3gram10_']: ExtraTreesClassifier. Accuracy = 0.8503538928210314\n",
      "\n",
      "Testing feature sets combination 10 of 63 (['pca_comments_', 'amenity005_'])\n"
     ]
    },
    {
     "name": "stderr",
     "output_type": "stream",
     "text": [
      "100%|██████████| 29/29 [00:08<00:00,  3.51it/s]\n"
     ]
    },
    {
     "name": "stdout",
     "output_type": "stream",
     "text": [
      "Top model for ['pca_comments_', 'amenity005_']: ExtraTreesClassifier. Accuracy = 0.8584428715874621\n",
      "\n",
      "Testing feature sets combination 11 of 63 (['pca_comments_', 'amenityall_'])\n"
     ]
    },
    {
     "name": "stderr",
     "output_type": "stream",
     "text": [
      "100%|██████████| 29/29 [00:10<00:00,  2.66it/s]\n"
     ]
    },
    {
     "name": "stdout",
     "output_type": "stream",
     "text": [
      "Top model for ['pca_comments_', 'amenityall_']: ExtraTreesClassifier. Accuracy = 0.8796764408493428\n",
      "\n",
      "Testing feature sets combination 12 of 63 (['pca_description_', '3gram09_'])\n"
     ]
    },
    {
     "name": "stderr",
     "output_type": "stream",
     "text": [
      "100%|██████████| 29/29 [00:12<00:00,  2.27it/s]\n"
     ]
    },
    {
     "name": "stdout",
     "output_type": "stream",
     "text": [
      "Top model for ['pca_description_', '3gram09_']: ExtraTreesClassifier. Accuracy = 0.7644084934277048\n",
      "\n",
      "Testing feature sets combination 13 of 63 (['pca_description_', '3gram10_'])\n"
     ]
    },
    {
     "name": "stderr",
     "output_type": "stream",
     "text": [
      "100%|██████████| 29/29 [00:07<00:00,  3.93it/s]\n"
     ]
    },
    {
     "name": "stdout",
     "output_type": "stream",
     "text": [
      "Top model for ['pca_description_', '3gram10_']: RandomForestClassifier. Accuracy = 0.7613751263902933\n",
      "\n",
      "Testing feature sets combination 14 of 63 (['pca_description_', 'amenity005_'])\n"
     ]
    },
    {
     "name": "stderr",
     "output_type": "stream",
     "text": [
      "100%|██████████| 29/29 [00:08<00:00,  3.30it/s]\n"
     ]
    },
    {
     "name": "stdout",
     "output_type": "stream",
     "text": [
      "Top model for ['pca_description_', 'amenity005_']: ExtraTreesClassifier. Accuracy = 0.8230535894843276\n",
      "\n",
      "Testing feature sets combination 15 of 63 (['pca_description_', 'amenityall_'])\n"
     ]
    },
    {
     "name": "stderr",
     "output_type": "stream",
     "text": [
      "100%|██████████| 29/29 [00:11<00:00,  2.52it/s]\n"
     ]
    },
    {
     "name": "stdout",
     "output_type": "stream",
     "text": [
      "Top model for ['pca_description_', 'amenityall_']: ExtraTreesClassifier. Accuracy = 0.8382204246713852\n",
      "\n",
      "Testing feature sets combination 22 of 63 (['pca_comments_', 'pca_description_', '3gram09_'])\n"
     ]
    },
    {
     "name": "stderr",
     "output_type": "stream",
     "text": [
      "100%|██████████| 29/29 [00:12<00:00,  2.35it/s]\n"
     ]
    },
    {
     "name": "stdout",
     "output_type": "stream",
     "text": [
      "Top model for ['pca_comments_', 'pca_description_', '3gram09_']: ExtraTreesClassifier. Accuracy = 0.9342770475227502\n",
      "\n",
      "Testing feature sets combination 23 of 63 (['pca_comments_', 'pca_description_', '3gram10_'])\n"
     ]
    },
    {
     "name": "stderr",
     "output_type": "stream",
     "text": [
      "100%|██████████| 29/29 [00:06<00:00,  4.32it/s]\n"
     ]
    },
    {
     "name": "stdout",
     "output_type": "stream",
     "text": [
      "Top model for ['pca_comments_', 'pca_description_', '3gram10_']: ExtraTreesClassifier. Accuracy = 0.9292214357937311\n",
      "\n",
      "Testing feature sets combination 24 of 63 (['pca_comments_', 'pca_description_', 'amenity005_'])\n"
     ]
    },
    {
     "name": "stderr",
     "output_type": "stream",
     "text": [
      "100%|██████████| 29/29 [00:08<00:00,  3.38it/s]\n"
     ]
    },
    {
     "name": "stdout",
     "output_type": "stream",
     "text": [
      "Top model for ['pca_comments_', 'pca_description_', 'amenity005_']: ExtraTreesClassifier. Accuracy = 0.9292214357937311\n",
      "\n",
      "Testing feature sets combination 25 of 63 (['pca_comments_', 'pca_description_', 'amenityall_'])\n"
     ]
    },
    {
     "name": "stderr",
     "output_type": "stream",
     "text": [
      "100%|██████████| 29/29 [00:12<00:00,  2.40it/s]\n"
     ]
    },
    {
     "name": "stdout",
     "output_type": "stream",
     "text": [
      "Top model for ['pca_comments_', 'pca_description_', 'amenityall_']: ExtraTreesClassifier. Accuracy = 0.942366026289181\n",
      "New best model found! Accuracy = 0.942366026289181\n",
      "\n",
      "Testing feature sets combination 26 of 63 (['pca_comments_', '3gram09_', '3gram10_'])\n"
     ]
    },
    {
     "name": "stderr",
     "output_type": "stream",
     "text": [
      "100%|██████████| 29/29 [00:12<00:00,  2.38it/s]\n"
     ]
    },
    {
     "name": "stdout",
     "output_type": "stream",
     "text": [
      "Top model for ['pca_comments_', '3gram09_', '3gram10_']: ExtraTreesClassifier. Accuracy = 0.8240647118301314\n",
      "\n",
      "Testing feature sets combination 27 of 63 (['pca_comments_', '3gram09_', 'amenity005_'])\n"
     ]
    },
    {
     "name": "stderr",
     "output_type": "stream",
     "text": [
      "100%|██████████| 29/29 [00:14<00:00,  1.96it/s]\n"
     ]
    },
    {
     "name": "stdout",
     "output_type": "stream",
     "text": [
      "Top model for ['pca_comments_', '3gram09_', 'amenity005_']: ExtraTreesClassifier. Accuracy = 0.8473205257836198\n",
      "\n",
      "Testing feature sets combination 28 of 63 (['pca_comments_', '3gram09_', 'amenityall_'])\n"
     ]
    },
    {
     "name": "stderr",
     "output_type": "stream",
     "text": [
      "100%|██████████| 29/29 [00:17<00:00,  1.67it/s]\n"
     ]
    },
    {
     "name": "stdout",
     "output_type": "stream",
     "text": [
      "Top model for ['pca_comments_', '3gram09_', 'amenityall_']: ExtraTreesClassifier. Accuracy = 0.8675429726996967\n",
      "\n",
      "Testing feature sets combination 29 of 63 (['pca_comments_', '3gram10_', 'amenity005_'])\n"
     ]
    },
    {
     "name": "stderr",
     "output_type": "stream",
     "text": [
      "100%|██████████| 29/29 [00:08<00:00,  3.34it/s]\n"
     ]
    },
    {
     "name": "stdout",
     "output_type": "stream",
     "text": [
      "Top model for ['pca_comments_', '3gram10_', 'amenity005_']: ExtraTreesClassifier. Accuracy = 0.8634984833164813\n",
      "\n",
      "Testing feature sets combination 30 of 63 (['pca_comments_', '3gram10_', 'amenityall_'])\n"
     ]
    },
    {
     "name": "stderr",
     "output_type": "stream",
     "text": [
      "100%|██████████| 29/29 [00:11<00:00,  2.48it/s]\n"
     ]
    },
    {
     "name": "stdout",
     "output_type": "stream",
     "text": [
      "Top model for ['pca_comments_', '3gram10_', 'amenityall_']: ExtraTreesClassifier. Accuracy = 0.8796764408493428\n",
      "\n",
      "Testing feature sets combination 31 of 63 (['pca_comments_', 'amenity005_', 'amenityall_'])\n"
     ]
    },
    {
     "name": "stderr",
     "output_type": "stream",
     "text": [
      "100%|██████████| 29/29 [00:13<00:00,  2.16it/s]\n"
     ]
    },
    {
     "name": "stdout",
     "output_type": "stream",
     "text": [
      "Top model for ['pca_comments_', 'amenity005_', 'amenityall_']: ExtraTreesClassifier. Accuracy = 0.871587462082912\n",
      "\n",
      "Testing feature sets combination 32 of 63 (['pca_description_', '3gram09_', '3gram10_'])\n"
     ]
    },
    {
     "name": "stderr",
     "output_type": "stream",
     "text": [
      "100%|██████████| 29/29 [00:14<00:00,  2.06it/s]\n"
     ]
    },
    {
     "name": "stdout",
     "output_type": "stream",
     "text": [
      "Top model for ['pca_description_', '3gram09_', '3gram10_']: ExtraTreesClassifier. Accuracy = 0.7876643073811931\n",
      "\n",
      "Testing feature sets combination 33 of 63 (['pca_description_', '3gram09_', 'amenity005_'])\n"
     ]
    },
    {
     "name": "stderr",
     "output_type": "stream",
     "text": [
      "100%|██████████| 29/29 [00:16<00:00,  1.72it/s]\n"
     ]
    },
    {
     "name": "stdout",
     "output_type": "stream",
     "text": [
      "Top model for ['pca_description_', '3gram09_', 'amenity005_']: ExtraTreesClassifier. Accuracy = 0.8038422649140546\n",
      "\n",
      "Testing feature sets combination 34 of 63 (['pca_description_', '3gram09_', 'amenityall_'])\n"
     ]
    },
    {
     "name": "stderr",
     "output_type": "stream",
     "text": [
      "100%|██████████| 29/29 [00:19<00:00,  1.49it/s]\n"
     ]
    },
    {
     "name": "stdout",
     "output_type": "stream",
     "text": [
      "Top model for ['pca_description_', '3gram09_', 'amenityall_']: ExtraTreesClassifier. Accuracy = 0.8099089989888777\n",
      "\n",
      "Testing feature sets combination 35 of 63 (['pca_description_', '3gram10_', 'amenity005_'])\n"
     ]
    },
    {
     "name": "stderr",
     "output_type": "stream",
     "text": [
      "100%|██████████| 29/29 [00:09<00:00,  3.18it/s]\n"
     ]
    },
    {
     "name": "stdout",
     "output_type": "stream",
     "text": [
      "Top model for ['pca_description_', '3gram10_', 'amenity005_']: ExtraTreesClassifier. Accuracy = 0.8008088978766431\n",
      "\n",
      "Testing feature sets combination 36 of 63 (['pca_description_', '3gram10_', 'amenityall_'])\n"
     ]
    },
    {
     "name": "stderr",
     "output_type": "stream",
     "text": [
      "100%|██████████| 29/29 [00:12<00:00,  2.35it/s]\n"
     ]
    },
    {
     "name": "stdout",
     "output_type": "stream",
     "text": [
      "Top model for ['pca_description_', '3gram10_', 'amenityall_']: ExtraTreesClassifier. Accuracy = 0.8351870576339737\n",
      "\n",
      "Testing feature sets combination 37 of 63 (['pca_description_', 'amenity005_', 'amenityall_'])\n"
     ]
    },
    {
     "name": "stderr",
     "output_type": "stream",
     "text": [
      "100%|██████████| 29/29 [00:14<00:00,  2.05it/s]\n"
     ]
    },
    {
     "name": "stdout",
     "output_type": "stream",
     "text": [
      "Top model for ['pca_description_', 'amenity005_', 'amenityall_']: ExtraTreesClassifier. Accuracy = 0.8291203235591507\n",
      "\n",
      "Testing feature sets combination 42 of 63 (['pca_comments_', 'pca_description_', '3gram09_', '3gram10_'])\n"
     ]
    },
    {
     "name": "stderr",
     "output_type": "stream",
     "text": [
      "100%|██████████| 29/29 [00:12<00:00,  2.27it/s]\n"
     ]
    },
    {
     "name": "stdout",
     "output_type": "stream",
     "text": [
      "Top model for ['pca_comments_', 'pca_description_', '3gram09_', '3gram10_']: ExtraTreesClassifier. Accuracy = 0.9312436804853387\n",
      "\n",
      "Testing feature sets combination 43 of 63 (['pca_comments_', 'pca_description_', '3gram09_', 'amenity005_'])\n"
     ]
    },
    {
     "name": "stderr",
     "output_type": "stream",
     "text": [
      "100%|██████████| 29/29 [00:15<00:00,  1.86it/s]\n"
     ]
    },
    {
     "name": "stdout",
     "output_type": "stream",
     "text": [
      "Top model for ['pca_comments_', 'pca_description_', '3gram09_', 'amenity005_']: ExtraTreesClassifier. Accuracy = 0.9393326592517695\n",
      "\n",
      "Testing feature sets combination 44 of 63 (['pca_comments_', 'pca_description_', '3gram09_', 'amenityall_'])\n"
     ]
    },
    {
     "name": "stderr",
     "output_type": "stream",
     "text": [
      "100%|██████████| 29/29 [00:17<00:00,  1.62it/s]\n"
     ]
    },
    {
     "name": "stdout",
     "output_type": "stream",
     "text": [
      "Top model for ['pca_comments_', 'pca_description_', '3gram09_', 'amenityall_']: ExtraTreesClassifier. Accuracy = 0.9433771486349848\n",
      "New best model found! Accuracy = 0.9433771486349848\n",
      "\n",
      "Testing feature sets combination 45 of 63 (['pca_comments_', 'pca_description_', '3gram10_', 'amenity005_'])\n"
     ]
    },
    {
     "name": "stderr",
     "output_type": "stream",
     "text": [
      "100%|██████████| 29/29 [00:09<00:00,  3.16it/s]\n"
     ]
    },
    {
     "name": "stdout",
     "output_type": "stream",
     "text": [
      "Top model for ['pca_comments_', 'pca_description_', '3gram10_', 'amenity005_']: ExtraTreesClassifier. Accuracy = 0.9383215369059656\n",
      "\n",
      "Testing feature sets combination 46 of 63 (['pca_comments_', 'pca_description_', '3gram10_', 'amenityall_'])\n"
     ]
    },
    {
     "name": "stderr",
     "output_type": "stream",
     "text": [
      "100%|██████████| 29/29 [00:12<00:00,  2.31it/s]\n"
     ]
    },
    {
     "name": "stdout",
     "output_type": "stream",
     "text": [
      "Top model for ['pca_comments_', 'pca_description_', '3gram10_', 'amenityall_']: ExtraTreesClassifier. Accuracy = 0.9322548028311426\n",
      "\n",
      "Testing feature sets combination 47 of 63 (['pca_comments_', 'pca_description_', 'amenity005_', 'amenityall_'])\n"
     ]
    },
    {
     "name": "stderr",
     "output_type": "stream",
     "text": [
      "100%|██████████| 29/29 [00:14<00:00,  2.00it/s]\n"
     ]
    },
    {
     "name": "stdout",
     "output_type": "stream",
     "text": [
      "Top model for ['pca_comments_', 'pca_description_', 'amenity005_', 'amenityall_']: ExtraTreesClassifier. Accuracy = 0.9393326592517695\n",
      "\n",
      "Testing feature sets combination 48 of 63 (['pca_comments_', '3gram09_', '3gram10_', 'amenity005_'])\n"
     ]
    },
    {
     "name": "stderr",
     "output_type": "stream",
     "text": [
      "100%|██████████| 29/29 [00:15<00:00,  1.86it/s]\n"
     ]
    },
    {
     "name": "stdout",
     "output_type": "stream",
     "text": [
      "Top model for ['pca_comments_', '3gram09_', '3gram10_', 'amenity005_']: ExtraTreesClassifier. Accuracy = 0.8554095045500506\n",
      "\n",
      "Testing feature sets combination 49 of 63 (['pca_comments_', '3gram09_', '3gram10_', 'amenityall_'])\n"
     ]
    },
    {
     "name": "stderr",
     "output_type": "stream",
     "text": [
      "100%|██████████| 29/29 [00:18<00:00,  1.61it/s]\n"
     ]
    },
    {
     "name": "stdout",
     "output_type": "stream",
     "text": [
      "Top model for ['pca_comments_', '3gram09_', '3gram10_', 'amenityall_']: ExtraTreesClassifier. Accuracy = 0.8766430738119313\n",
      "\n",
      "Testing feature sets combination 50 of 63 (['pca_comments_', '3gram09_', 'amenity005_', 'amenityall_'])\n"
     ]
    },
    {
     "name": "stderr",
     "output_type": "stream",
     "text": [
      "100%|██████████| 29/29 [00:19<00:00,  1.47it/s]\n"
     ]
    },
    {
     "name": "stdout",
     "output_type": "stream",
     "text": [
      "Top model for ['pca_comments_', '3gram09_', 'amenity005_', 'amenityall_']: ExtraTreesClassifier. Accuracy = 0.8685540950455005\n",
      "\n",
      "Testing feature sets combination 51 of 63 (['pca_comments_', '3gram10_', 'amenity005_', 'amenityall_'])\n"
     ]
    },
    {
     "name": "stderr",
     "output_type": "stream",
     "text": [
      "100%|██████████| 29/29 [00:13<00:00,  2.10it/s]\n"
     ]
    },
    {
     "name": "stdout",
     "output_type": "stream",
     "text": [
      "Top model for ['pca_comments_', '3gram10_', 'amenity005_', 'amenityall_']: ExtraTreesClassifier. Accuracy = 0.8705763397371082\n",
      "\n",
      "Testing feature sets combination 52 of 63 (['pca_description_', '3gram09_', '3gram10_', 'amenity005_'])\n"
     ]
    },
    {
     "name": "stderr",
     "output_type": "stream",
     "text": [
      "100%|██████████| 29/29 [00:18<00:00,  1.61it/s]\n"
     ]
    },
    {
     "name": "stdout",
     "output_type": "stream",
     "text": [
      "Top model for ['pca_description_', '3gram09_', '3gram10_', 'amenity005_']: RandomForestClassifier. Accuracy = 0.7856420626895855\n",
      "\n",
      "Testing feature sets combination 53 of 63 (['pca_description_', '3gram09_', '3gram10_', 'amenityall_'])\n"
     ]
    },
    {
     "name": "stderr",
     "output_type": "stream",
     "text": [
      "100%|██████████| 29/29 [00:19<00:00,  1.45it/s]\n"
     ]
    },
    {
     "name": "stdout",
     "output_type": "stream",
     "text": [
      "Top model for ['pca_description_', '3gram09_', '3gram10_', 'amenityall_']: ExtraTreesClassifier. Accuracy = 0.8099089989888777\n",
      "\n",
      "Testing feature sets combination 54 of 63 (['pca_description_', '3gram09_', 'amenity005_', 'amenityall_'])\n"
     ]
    },
    {
     "name": "stderr",
     "output_type": "stream",
     "text": [
      "100%|██████████| 29/29 [00:21<00:00,  1.34it/s]\n"
     ]
    },
    {
     "name": "stdout",
     "output_type": "stream",
     "text": [
      "Top model for ['pca_description_', '3gram09_', 'amenity005_', 'amenityall_']: ExtraTreesClassifier. Accuracy = 0.8129423660262892\n",
      "\n",
      "Testing feature sets combination 55 of 63 (['pca_description_', '3gram10_', 'amenity005_', 'amenityall_'])\n"
     ]
    },
    {
     "name": "stderr",
     "output_type": "stream",
     "text": [
      "100%|██████████| 29/29 [00:14<00:00,  1.96it/s]\n"
     ]
    },
    {
     "name": "stdout",
     "output_type": "stream",
     "text": [
      "Top model for ['pca_description_', '3gram10_', 'amenity005_', 'amenityall_']: ExtraTreesClassifier. Accuracy = 0.8179979777553084\n",
      "\n",
      "Testing feature sets combination 57 of 63 (['pca_comments_', 'pca_description_', '3gram09_', '3gram10_', 'amenity005_'])\n"
     ]
    },
    {
     "name": "stderr",
     "output_type": "stream",
     "text": [
      "100%|██████████| 29/29 [00:15<00:00,  1.85it/s]\n"
     ]
    },
    {
     "name": "stdout",
     "output_type": "stream",
     "text": [
      "Top model for ['pca_comments_', 'pca_description_', '3gram09_', '3gram10_', 'amenity005_']: ExtraTreesClassifier. Accuracy = 0.9352881698685541\n",
      "\n",
      "Testing feature sets combination 58 of 63 (['pca_comments_', 'pca_description_', '3gram09_', '3gram10_', 'amenityall_'])\n"
     ]
    },
    {
     "name": "stderr",
     "output_type": "stream",
     "text": [
      "100%|██████████| 29/29 [00:18<00:00,  1.57it/s]\n"
     ]
    },
    {
     "name": "stdout",
     "output_type": "stream",
     "text": [
      "Top model for ['pca_comments_', 'pca_description_', '3gram09_', '3gram10_', 'amenityall_']: ExtraTreesClassifier. Accuracy = 0.9443882709807887\n",
      "New best model found! Accuracy = 0.9443882709807887\n",
      "\n",
      "Testing feature sets combination 59 of 63 (['pca_comments_', 'pca_description_', '3gram09_', 'amenity005_', 'amenityall_'])\n"
     ]
    },
    {
     "name": "stderr",
     "output_type": "stream",
     "text": [
      "100%|██████████| 29/29 [00:21<00:00,  1.38it/s]\n"
     ]
    },
    {
     "name": "stdout",
     "output_type": "stream",
     "text": [
      "Top model for ['pca_comments_', 'pca_description_', '3gram09_', 'amenity005_', 'amenityall_']: ExtraTreesClassifier. Accuracy = 0.9292214357937311\n",
      "\n",
      "Testing feature sets combination 60 of 63 (['pca_comments_', 'pca_description_', '3gram10_', 'amenity005_', 'amenityall_'])\n"
     ]
    },
    {
     "name": "stderr",
     "output_type": "stream",
     "text": [
      "100%|██████████| 29/29 [00:15<00:00,  1.89it/s]\n"
     ]
    },
    {
     "name": "stdout",
     "output_type": "stream",
     "text": [
      "Top model for ['pca_comments_', 'pca_description_', '3gram10_', 'amenity005_', 'amenityall_']: ExtraTreesClassifier. Accuracy = 0.9302325581395349\n",
      "\n",
      "Testing feature sets combination 61 of 63 (['pca_comments_', '3gram09_', '3gram10_', 'amenity005_', 'amenityall_'])\n"
     ]
    },
    {
     "name": "stderr",
     "output_type": "stream",
     "text": [
      "100%|██████████| 29/29 [00:21<00:00,  1.37it/s]\n"
     ]
    },
    {
     "name": "stdout",
     "output_type": "stream",
     "text": [
      "Top model for ['pca_comments_', '3gram09_', '3gram10_', 'amenity005_', 'amenityall_']: ExtraTreesClassifier. Accuracy = 0.8665318503538928\n",
      "\n",
      "Testing feature sets combination 62 of 63 (['pca_description_', '3gram09_', '3gram10_', 'amenity005_', 'amenityall_'])\n"
     ]
    },
    {
     "name": "stderr",
     "output_type": "stream",
     "text": [
      "100%|██████████| 29/29 [00:22<00:00,  1.30it/s]\n"
     ]
    },
    {
     "name": "stdout",
     "output_type": "stream",
     "text": [
      "Top model for ['pca_description_', '3gram09_', '3gram10_', 'amenity005_', 'amenityall_']: RandomForestClassifier. Accuracy = 0.813953488372093\n",
      "\n",
      "Testing feature sets combination 63 of 63 (['pca_comments_', 'pca_description_', '3gram09_', '3gram10_', 'amenity005_', 'amenityall_'])\n"
     ]
    },
    {
     "name": "stderr",
     "output_type": "stream",
     "text": [
      "100%|██████████| 29/29 [00:21<00:00,  1.38it/s]"
     ]
    },
    {
     "name": "stdout",
     "output_type": "stream",
     "text": [
      "Top model for ['pca_comments_', 'pca_description_', '3gram09_', '3gram10_', 'amenity005_', 'amenityall_']: ExtraTreesClassifier. Accuracy = 0.9191102123356926\n",
      "\n",
      "Best model: ExtraTreesClassifier with feature set ['pca_comments_', 'pca_description_', '3gram09_', '3gram10_', 'amenityall_']\n",
      "Accuracy = 0.9443882709807887\n"
     ]
    },
    {
     "name": "stderr",
     "output_type": "stream",
     "text": [
      "\n"
     ]
    }
   ],
   "source": [
    "from lazypredict.Supervised import LazyClassifier\n",
    "\n",
    "top_models = {}\n",
    "best_model = None\n",
    "best_accuracy = -1\n",
    "best_feature_set = None\n",
    "\n",
    "num_of_feature_sets_combinations = len(feature_sets_combinations)\n",
    "\n",
    "for i, feature_sets_combination in enumerate(feature_sets_combinations):\n",
    "\n",
    "    if \"pca_comments_\" not in feature_sets_combination and \"pca_description_\" not in feature_sets_combination:\n",
    "        continue\n",
    "\n",
    "    print(f\"Testing feature sets combination {i + 1} of {num_of_feature_sets_combinations} ({feature_sets_combination})\")\n",
    "\n",
    "    # get column subset\n",
    "    df_subset_columns = [c for c in df.columns if any([c.startswith(f) for f in feature_sets_combination])]\n",
    "    df_subset_columns.append(\"label\")\n",
    "\n",
    "    # oversample and get train/test split\n",
    "    df_subset = df[df_subset_columns]\n",
    "    X, y = oversample.fit_resample(df_subset.drop(columns=[\"label\"]), df_subset[\"label\"])\n",
    "    X_train, X_test, y_train, y_test = train_test_split(X, y, test_size=0.2, random_state=42)\n",
    "\n",
    "    # train model\n",
    "    clf = LazyClassifier(verbose=0, ignore_warnings=True, custom_metric=None)\n",
    "    models, predictions = clf.fit(X_train, X_test, y_train, y_test)\n",
    "    top_models_for_subset = models.sort_values(by=\"Accuracy\", ascending=False).head(10)\n",
    "\n",
    "    top_model = models.iloc[0]\n",
    "    accuracy = top_model[\"Accuracy\"]\n",
    "    name = top_model.name\n",
    "    print(f\"Top model for {feature_sets_combination}: {name}. Accuracy = {accuracy}\")\n",
    "    if top_model[\"Accuracy\"] > best_accuracy:\n",
    "        best_accuracy = top_model[\"Accuracy\"]\n",
    "        best_model = top_model\n",
    "        best_feature_set = feature_sets_combination\n",
    "        print(f\"New best model found! Accuracy = {accuracy}\")\n",
    "\n",
    "    # save results\n",
    "    top_models[\",\".join(feature_sets_combination)] = top_models_for_subset\n",
    "\n",
    "    print()\n",
    "\n",
    "\n",
    "print(f\"Best model: {best_model.name} with feature set {best_feature_set}\\nAccuracy = {best_accuracy}\")\n",
    "\n",
    "import pickle\n",
    "# save top_models\n",
    "with open(f\"../../data/processed/top_models_{GEO}.pickle\", \"wb\") as f:\n",
    "    pickle.dump(top_models, f)"
   ]
  },
  {
   "attachments": {},
   "cell_type": "markdown",
   "metadata": {},
   "source": [
    "# Examine Top models"
   ]
  },
  {
   "cell_type": "code",
   "execution_count": 53,
   "metadata": {},
   "outputs": [
    {
     "data": {
      "text/html": [
       "<div>\n",
       "<style scoped>\n",
       "    .dataframe tbody tr th:only-of-type {\n",
       "        vertical-align: middle;\n",
       "    }\n",
       "\n",
       "    .dataframe tbody tr th {\n",
       "        vertical-align: top;\n",
       "    }\n",
       "\n",
       "    .dataframe thead th {\n",
       "        text-align: right;\n",
       "    }\n",
       "</style>\n",
       "<table border=\"1\" class=\"dataframe\">\n",
       "  <thead>\n",
       "    <tr style=\"text-align: right;\">\n",
       "      <th></th>\n",
       "      <th>feature_set</th>\n",
       "      <th>top_model_name</th>\n",
       "      <th>top_model_accuracy</th>\n",
       "    </tr>\n",
       "  </thead>\n",
       "  <tbody>\n",
       "    <tr>\n",
       "      <th>23</th>\n",
       "      <td>(A), (B), (C)</td>\n",
       "      <td>ExtraTreesClassifier</td>\n",
       "      <td>0.98</td>\n",
       "    </tr>\n",
       "    <tr>\n",
       "      <th>56</th>\n",
       "      <td>(A), (B), (E), (F), (C)</td>\n",
       "      <td>ExtraTreesClassifier</td>\n",
       "      <td>0.97</td>\n",
       "    </tr>\n",
       "    <tr>\n",
       "      <th>42</th>\n",
       "      <td>(A), (B), (E), (C)</td>\n",
       "      <td>ExtraTreesClassifier</td>\n",
       "      <td>0.97</td>\n",
       "    </tr>\n",
       "    <tr>\n",
       "      <th>41</th>\n",
       "      <td>(A), (B), (E), (F)</td>\n",
       "      <td>ExtraTreesClassifier</td>\n",
       "      <td>0.97</td>\n",
       "    </tr>\n",
       "    <tr>\n",
       "      <th>44</th>\n",
       "      <td>(A), (B), (F), (C)</td>\n",
       "      <td>ExtraTreesClassifier</td>\n",
       "      <td>0.97</td>\n",
       "    </tr>\n",
       "    <tr>\n",
       "      <th>22</th>\n",
       "      <td>(A), (B), (F)</td>\n",
       "      <td>ExtraTreesClassifier</td>\n",
       "      <td>0.97</td>\n",
       "    </tr>\n",
       "    <tr>\n",
       "      <th>46</th>\n",
       "      <td>(A), (B), (C), (D)</td>\n",
       "      <td>ExtraTreesClassifier</td>\n",
       "      <td>0.97</td>\n",
       "    </tr>\n",
       "    <tr>\n",
       "      <th>59</th>\n",
       "      <td>(A), (B), (F), (C), (D)</td>\n",
       "      <td>ExtraTreesClassifier</td>\n",
       "      <td>0.97</td>\n",
       "    </tr>\n",
       "    <tr>\n",
       "      <th>57</th>\n",
       "      <td>(A), (B), (E), (F), (D)</td>\n",
       "      <td>ExtraTreesClassifier</td>\n",
       "      <td>0.97</td>\n",
       "    </tr>\n",
       "    <tr>\n",
       "      <th>21</th>\n",
       "      <td>(A), (B), (E)</td>\n",
       "      <td>ExtraTreesClassifier</td>\n",
       "      <td>0.97</td>\n",
       "    </tr>\n",
       "  </tbody>\n",
       "</table>\n",
       "</div>"
      ],
      "text/plain": [
       "                feature_set        top_model_name  top_model_accuracy\n",
       "23            (A), (B), (C)  ExtraTreesClassifier                0.98\n",
       "56  (A), (B), (E), (F), (C)  ExtraTreesClassifier                0.97\n",
       "42       (A), (B), (E), (C)  ExtraTreesClassifier                0.97\n",
       "41       (A), (B), (E), (F)  ExtraTreesClassifier                0.97\n",
       "44       (A), (B), (F), (C)  ExtraTreesClassifier                0.97\n",
       "22            (A), (B), (F)  ExtraTreesClassifier                0.97\n",
       "46       (A), (B), (C), (D)  ExtraTreesClassifier                0.97\n",
       "59  (A), (B), (F), (C), (D)  ExtraTreesClassifier                0.97\n",
       "57  (A), (B), (E), (F), (D)  ExtraTreesClassifier                0.97\n",
       "21            (A), (B), (E)  ExtraTreesClassifier                0.97"
      ]
     },
     "execution_count": 53,
     "metadata": {},
     "output_type": "execute_result"
    }
   ],
   "source": [
    "import pickle\n",
    "top_models = pickle.load(open(f\"../../models/top_models_{GEO}_no_tsne.pickle\", \"rb\"))\n",
    "\n",
    "report = []\n",
    "\n",
    "feature_set_to_letter = {\n",
    "    \"embedding_comments_\": \"(A)\",\n",
    "    \"embedding_description_\": \"(B)\",\n",
    "    \"amenity005_\" : \"(C)\",\n",
    "    \"amenityall_\" : \"(D)\",\n",
    "    \"3gram09_\" : \"(E)\",\n",
    "    \"3gram10_\" : \"(F)\",\n",
    "    \n",
    "}\n",
    "\n",
    "# iterate over keys and values\n",
    "for key, value in top_models.items():\n",
    "    top_model_name = value.iloc[0].name\n",
    "    top_model_accuracy = value.iloc[0][\"Accuracy\"]\n",
    "\n",
    "    report.append({\n",
    "        \"feature_set\": \", \".join([feature_set_to_letter[f] for f in key.split(\",\")]),\n",
    "        \"top_model_name\": top_model_name,\n",
    "        \"top_model_accuracy\": top_model_accuracy\n",
    "    })\n",
    "\n",
    "top = pd.DataFrame(report).sort_values(by=\"top_model_accuracy\", ascending=False)\n",
    "top.head(10)"
   ]
  },
  {
   "attachments": {},
   "cell_type": "markdown",
   "metadata": {},
   "source": [
    "Let's see which features appear the most in models that perform over 80% accuracy."
   ]
  },
  {
   "cell_type": "code",
   "execution_count": 54,
   "metadata": {},
   "outputs": [
    {
     "name": "stdout",
     "output_type": "stream",
     "text": [
      "There are 36 models above 90% accuracy\n"
     ]
    },
    {
     "data": {
      "text/plain": [
       "<AxesSubplot: xlabel='% of top models using feature set', ylabel='Feature set'>"
      ]
     },
     "execution_count": 54,
     "metadata": {},
     "output_type": "execute_result"
    },
    {
     "data": {
      "image/png": "[encoded data removed]",
      "text/plain": [
       "<Figure size 640x480 with 1 Axes>"
      ]
     },
     "metadata": {},
     "output_type": "display_data"
    }
   ],
   "source": [
    "# split feature_set into individual feature sets\n",
    "letters = [\"(A)\", \"(B)\", \"(C)\", \"(D)\", \"(E)\", \"(F)\"]\n",
    "top[\"feature_set_split\"] = top[\"feature_set\"].apply(lambda x: x.split(\", \"))\n",
    "for letter in [\"(A)\", \"(B)\", \"(C)\", \"(D)\", \"(E)\", \"(F)\"]:\n",
    "    top[letter] = top[\"feature_set_split\"].apply(lambda x: letter in x)\n",
    "\n",
    "# lets see what percent of the top models have each feature set (top models will be above 80% accuracy)\n",
    "with_accuracy = top[[\"top_model_accuracy\"] + letters]\n",
    "models_above_90_accuracy = with_accuracy[with_accuracy.top_model_accuracy > 0.9]\n",
    "print(f\"There are {models_above_90_accuracy.shape[0]} models above 90% accuracy\")\n",
    "feature_set_distr = models_above_90_accuracy.sum().drop(\"top_model_accuracy\").sort_values(ascending=False) / models_above_90_accuracy.shape[0]\n",
    "\n",
    "\n",
    "# convert back to feature set name\n",
    "# reverse feature_set_to_letter\n",
    "feature_set_to_letter = {v: k for k, v in feature_set_to_letter.items()}\n",
    "feature_set_distr.index = feature_set_distr.index.map(lambda x: feature_set_to_letter[x] + \" \" + x)\n",
    "feature_set_distr.plot(kind=\"barh\", xlabel=\"% of top models using feature set\", ylabel=\"Feature set\")"
   ]
  },
  {
   "attachments": {},
   "cell_type": "markdown",
   "metadata": {},
   "source": [
    "Let's grab the best subset, and hyperparameter tune the best model!"
   ]
  },
  {
   "cell_type": "code",
   "execution_count": 66,
   "metadata": {},
   "outputs": [
    {
     "data": {
      "text/plain": [
       "['embedding_comments_', 'embedding_description_', 'amenity005_']"
      ]
     },
     "execution_count": 66,
     "metadata": {},
     "output_type": "execute_result"
    }
   ],
   "source": [
    "top_feature_set = top.reset_index().iloc[0].feature_set.split(\", \")\n",
    "top_feature_set = [feature_set_to_letter[f] for f in top_feature_set]\n",
    "top_feature_set"
   ]
  },
  {
   "cell_type": "code",
   "execution_count": 56,
   "metadata": {},
   "outputs": [
    {
     "name": "stdout",
     "output_type": "stream",
     "text": [
      "Best feature set:\n",
      "['pca_comments_0', 'pca_comments_1', 'pca_comments_2', 'pca_description_0', 'pca_description_1', 'pca_description_2', 'amenity005_lockbox', 'amenity005_dishwasher', 'amenity005_pool', 'amenity005_keypad', 'amenity005_tv', 'amenity005_stove', 'amenity005_bathtub', 'amenity005_balcony', 'amenity005_shampoo', 'amenity005_garden', 'amenity005_cat', 'amenity005_family', 'amenity005_breakfast', 'label']\n"
     ]
    }
   ],
   "source": [
    "top_feature_set = [\"pca_comments_\", \"pca_description_\", \"amenity005_\"]\n",
    "columns_in_best_feature_set = [c for c in df.columns if any([c.startswith(f) for f in top_feature_set])]\n",
    "columns_in_best_feature_set.append(\"label\")\n",
    "\n",
    "df_best_subset = df[columns_in_best_feature_set]\n",
    "\n",
    "print(\"Best feature set:\")\n",
    "print(columns_in_best_feature_set)\n"
   ]
  },
  {
   "cell_type": "code",
   "execution_count": 67,
   "metadata": {},
   "outputs": [
    {
     "name": "stdout",
     "output_type": "stream",
     "text": [
      "Fitting 5 folds for each of 70 candidates, totalling 350 fits\n",
      "Best parameters:\n",
      "{'leaf_size': 10, 'n_neighbors': 3}\n",
      "Accuracy: 0.89\n"
     ]
    },
    {
     "data": {
      "image/png": "[encoded data removed]",
      "text/plain": [
       "<Figure size 640x480 with 2 Axes>"
      ]
     },
     "metadata": {},
     "output_type": "display_data"
    }
   ],
   "source": [
    "from sklearn.neighbors import KNeighborsClassifier\n",
    "\n",
    "# apply GridSearchCV to find the best parameters\n",
    "from sklearn.model_selection import GridSearchCV\n",
    "\n",
    "# params for KNC\n",
    "param_grid = {\n",
    "    \"n_neighbors\": [3, 5, 7, 9, 11, 13, 15],\n",
    "    \"leaf_size\": [10, 20, 30, 40, 50, 60, 70, 80, 90, 100],\n",
    "}\n",
    "\n",
    "clf = GridSearchCV(KNeighborsClassifier(), param_grid, cv=5, n_jobs=-1, verbose=1)\n",
    "\n",
    "# oversample and get train/test split\n",
    "X, y = oversample.fit_resample(df_best_subset.drop(columns=[\"label\"]), df_best_subset[\"label\"])\n",
    "X_train, X_test, y_train, y_test = train_test_split(X, y, test_size=0.2, random_state=42)\n",
    "clf.fit(X_train, y_train)\n",
    "best_clf = clf.best_estimator_\n",
    "\n",
    "# print the best parameters\n",
    "print(\"Best parameters:\")\n",
    "print(clf.best_params_)\n",
    "\n",
    "# predict\n",
    "y_pred = best_clf.predict(X_test)\n",
    "\n",
    "# evaluate\n",
    "from sklearn.metrics import accuracy_score\n",
    "\n",
    "print(\"Accuracy:\", round(accuracy_score(y_test, y_pred), 2))\n",
    "\n",
    "# plot a confusion matrix\n",
    "from sklearn.metrics import ConfusionMatrixDisplay\n",
    "import matplotlib.pyplot as plt\n",
    "cm = ConfusionMatrixDisplay.from_predictions(y_test, y_pred)\n",
    "plt.show()"
   ]
  },
  {
   "cell_type": "code",
   "execution_count": 69,
   "metadata": {},
   "outputs": [
    {
     "name": "stdout",
     "output_type": "stream",
     "text": [
      "CV = 2:\n",
      "\tTrain accuracy = 0.93\n",
      "\tTest accuracy = 0.83\n",
      "CV = 3:\n",
      "\tTrain accuracy = 0.94\n",
      "\tTest accuracy = 0.86\n",
      "CV = 4:\n",
      "\tTrain accuracy = 0.94\n",
      "\tTest accuracy = 0.87\n",
      "CV = 5:\n",
      "\tTrain accuracy = 0.94\n",
      "\tTest accuracy = 0.87\n",
      "CV = 6:\n",
      "\tTrain accuracy = 0.94\n",
      "\tTest accuracy = 0.88\n",
      "CV = 7:\n",
      "\tTrain accuracy = 0.94\n",
      "\tTest accuracy = 0.88\n",
      "CV = 8:\n",
      "\tTrain accuracy = 0.94\n",
      "\tTest accuracy = 0.88\n",
      "CV = 9:\n",
      "\tTrain accuracy = 0.94\n",
      "\tTest accuracy = 0.88\n"
     ]
    },
    {
     "data": {
      "application/vnd.plotly.v1+json": {
       "config": {
        "plotlyServerURL": "https://plot.ly"
       },
       "data": [
        {
         "hovertemplate": "variable=train_accuracy<br>folds=%{x}<br>value=%{y}<extra></extra>",
         "legendgroup": "train_accuracy",
         "line": {
          "color": "#636efa",
          "dash": "solid"
         },
         "marker": {
          "symbol": "circle"
         },
         "mode": "lines",
         "name": "train_accuracy",
         "orientation": "v",
         "showlegend": true,
         "type": "scatter",
         "x": [
          2,
          3,
          4,
          5,
          6,
          7,
          8,
          9
         ],
         "xaxis": "x",
         "y": [
          0.9342637540453075,
          0.9407362459546925,
          0.9408710895361381,
          0.9420002965618005,
          0.9425566343042071,
          0.9426914908727918,
          0.9430478502080444,
          0.9435932475232109
         ],
         "yaxis": "y"
        },
        {
         "hovertemplate": "variable=test_accuracy<br>folds=%{x}<br>value=%{y}<extra></extra>",
         "legendgroup": "test_accuracy",
         "line": {
          "color": "#EF553B",
          "dash": "solid"
         },
         "marker": {
          "symbol": "circle"
         },
         "mode": "lines",
         "name": "test_accuracy",
         "orientation": "v",
         "showlegend": true,
         "type": "scatter",
         "x": [
          2,
          3,
          4,
          5,
          6,
          7,
          8,
          9
         ],
         "xaxis": "x",
         "y": [
          0.8313106796116505,
          0.8576051779935275,
          0.8689320388349515,
          0.8737830712738914,
          0.875,
          0.8796552026133988,
          0.8802588996763754,
          0.8778351824253463
         ],
         "yaxis": "y"
        }
       ],
       "layout": {
        "legend": {
         "title": {
          "text": "variable"
         },
         "tracegroupgap": 0
        },
        "template": {
         "data": {
          "bar": [
           {
            "error_x": {
             "color": "#2a3f5f"
            },
            "error_y": {
             "color": "#2a3f5f"
            },
            "marker": {
             "line": {
              "color": "#E5ECF6",
              "width": 0.5
             },
             "pattern": {
              "fillmode": "overlay",
              "size": 10,
              "solidity": 0.2
             }
            },
            "type": "bar"
           }
          ],
          "barpolar": [
           {
            "marker": {
             "line": {
              "color": "#E5ECF6",
              "width": 0.5
             },
             "pattern": {
              "fillmode": "overlay",
              "size": 10,
              "solidity": 0.2
             }
            },
            "type": "barpolar"
           }
          ],
          "carpet": [
           {
            "aaxis": {
             "endlinecolor": "#2a3f5f",
             "gridcolor": "white",
             "linecolor": "white",
             "minorgridcolor": "white",
             "startlinecolor": "#2a3f5f"
            },
            "baxis": {
             "endlinecolor": "#2a3f5f",
             "gridcolor": "white",
             "linecolor": "white",
             "minorgridcolor": "white",
             "startlinecolor": "#2a3f5f"
            },
            "type": "carpet"
           }
          ],
          "choropleth": [
           {
            "colorbar": {
             "outlinewidth": 0,
             "ticks": ""
            },
            "type": "choropleth"
           }
          ],
          "contour": [
           {
            "colorbar": {
             "outlinewidth": 0,
             "ticks": ""
            },
            "colorscale": [
             [
              0,
              "#0d0887"
             ],
             [
              0.1111111111111111,
              "#46039f"
             ],
             [
              0.2222222222222222,
              "#7201a8"
             ],
             [
              0.3333333333333333,
              "#9c179e"
             ],
             [
              0.4444444444444444,
              "#bd3786"
             ],
             [
              0.5555555555555556,
              "#d8576b"
             ],
             [
              0.6666666666666666,
              "#ed7953"
             ],
             [
              0.7777777777777778,
              "#fb9f3a"
             ],
             [
              0.8888888888888888,
              "#fdca26"
             ],
             [
              1,
              "#f0f921"
             ]
            ],
            "type": "contour"
           }
          ],
          "contourcarpet": [
           {
            "colorbar": {
             "outlinewidth": 0,
             "ticks": ""
            },
            "type": "contourcarpet"
           }
          ],
          "heatmap": [
           {
            "colorbar": {
             "outlinewidth": 0,
             "ticks": ""
            },
            "colorscale": [
             [
              0,
              "#0d0887"
             ],
             [
              0.1111111111111111,
              "#46039f"
             ],
             [
              0.2222222222222222,
              "#7201a8"
             ],
             [
              0.3333333333333333,
              "#9c179e"
             ],
             [
              0.4444444444444444,
              "#bd3786"
             ],
             [
              0.5555555555555556,
              "#d8576b"
             ],
             [
              0.6666666666666666,
              "#ed7953"
             ],
             [
              0.7777777777777778,
              "#fb9f3a"
             ],
             [
              0.8888888888888888,
              "#fdca26"
             ],
             [
              1,
              "#f0f921"
             ]
            ],
            "type": "heatmap"
           }
          ],
          "heatmapgl": [
           {
            "colorbar": {
             "outlinewidth": 0,
             "ticks": ""
            },
            "colorscale": [
             [
              0,
              "#0d0887"
             ],
             [
              0.1111111111111111,
              "#46039f"
             ],
             [
              0.2222222222222222,
              "#7201a8"
             ],
             [
              0.3333333333333333,
              "#9c179e"
             ],
             [
              0.4444444444444444,
              "#bd3786"
             ],
             [
              0.5555555555555556,
              "#d8576b"
             ],
             [
              0.6666666666666666,
              "#ed7953"
             ],
             [
              0.7777777777777778,
              "#fb9f3a"
             ],
             [
              0.8888888888888888,
              "#fdca26"
             ],
             [
              1,
              "#f0f921"
             ]
            ],
            "type": "heatmapgl"
           }
          ],
          "histogram": [
           {
            "marker": {
             "pattern": {
              "fillmode": "overlay",
              "size": 10,
              "solidity": 0.2
             }
            },
            "type": "histogram"
           }
          ],
          "histogram2d": [
           {
            "colorbar": {
             "outlinewidth": 0,
             "ticks": ""
            },
            "colorscale": [
             [
              0,
              "#0d0887"
             ],
             [
              0.1111111111111111,
              "#46039f"
             ],
             [
              0.2222222222222222,
              "#7201a8"
             ],
             [
              0.3333333333333333,
              "#9c179e"
             ],
             [
              0.4444444444444444,
              "#bd3786"
             ],
             [
              0.5555555555555556,
              "#d8576b"
             ],
             [
              0.6666666666666666,
              "#ed7953"
             ],
             [
              0.7777777777777778,
              "#fb9f3a"
             ],
             [
              0.8888888888888888,
              "#fdca26"
             ],
             [
              1,
              "#f0f921"
             ]
            ],
            "type": "histogram2d"
           }
          ],
          "histogram2dcontour": [
           {
            "colorbar": {
             "outlinewidth": 0,
             "ticks": ""
            },
            "colorscale": [
             [
              0,
              "#0d0887"
             ],
             [
              0.1111111111111111,
              "#46039f"
             ],
             [
              0.2222222222222222,
              "#7201a8"
             ],
             [
              0.3333333333333333,
              "#9c179e"
             ],
             [
              0.4444444444444444,
              "#bd3786"
             ],
             [
              0.5555555555555556,
              "#d8576b"
             ],
             [
              0.6666666666666666,
              "#ed7953"
             ],
             [
              0.7777777777777778,
              "#fb9f3a"
             ],
             [
              0.8888888888888888,
              "#fdca26"
             ],
             [
              1,
              "#f0f921"
             ]
            ],
            "type": "histogram2dcontour"
           }
          ],
          "mesh3d": [
           {
            "colorbar": {
             "outlinewidth": 0,
             "ticks": ""
            },
            "type": "mesh3d"
           }
          ],
          "parcoords": [
           {
            "line": {
             "colorbar": {
              "outlinewidth": 0,
              "ticks": ""
             }
            },
            "type": "parcoords"
           }
          ],
          "pie": [
           {
            "automargin": true,
            "type": "pie"
           }
          ],
          "scatter": [
           {
            "fillpattern": {
             "fillmode": "overlay",
             "size": 10,
             "solidity": 0.2
            },
            "type": "scatter"
           }
          ],
          "scatter3d": [
           {
            "line": {
             "colorbar": {
              "outlinewidth": 0,
              "ticks": ""
             }
            },
            "marker": {
             "colorbar": {
              "outlinewidth": 0,
              "ticks": ""
             }
            },
            "type": "scatter3d"
           }
          ],
          "scattercarpet": [
           {
            "marker": {
             "colorbar": {
              "outlinewidth": 0,
              "ticks": ""
             }
            },
            "type": "scattercarpet"
           }
          ],
          "scattergeo": [
           {
            "marker": {
             "colorbar": {
              "outlinewidth": 0,
              "ticks": ""
             }
            },
            "type": "scattergeo"
           }
          ],
          "scattergl": [
           {
            "marker": {
             "colorbar": {
              "outlinewidth": 0,
              "ticks": ""
             }
            },
            "type": "scattergl"
           }
          ],
          "scattermapbox": [
           {
            "marker": {
             "colorbar": {
              "outlinewidth": 0,
              "ticks": ""
             }
            },
            "type": "scattermapbox"
           }
          ],
          "scatterpolar": [
           {
            "marker": {
             "colorbar": {
              "outlinewidth": 0,
              "ticks": ""
             }
            },
            "type": "scatterpolar"
           }
          ],
          "scatterpolargl": [
           {
            "marker": {
             "colorbar": {
              "outlinewidth": 0,
              "ticks": ""
             }
            },
            "type": "scatterpolargl"
           }
          ],
          "scatterternary": [
           {
            "marker": {
             "colorbar": {
              "outlinewidth": 0,
              "ticks": ""
             }
            },
            "type": "scatterternary"
           }
          ],
          "surface": [
           {
            "colorbar": {
             "outlinewidth": 0,
             "ticks": ""
            },
            "colorscale": [
             [
              0,
              "#0d0887"
             ],
             [
              0.1111111111111111,
              "#46039f"
             ],
             [
              0.2222222222222222,
              "#7201a8"
             ],
             [
              0.3333333333333333,
              "#9c179e"
             ],
             [
              0.4444444444444444,
              "#bd3786"
             ],
             [
              0.5555555555555556,
              "#d8576b"
             ],
             [
              0.6666666666666666,
              "#ed7953"
             ],
             [
              0.7777777777777778,
              "#fb9f3a"
             ],
             [
              0.8888888888888888,
              "#fdca26"
             ],
             [
              1,
              "#f0f921"
             ]
            ],
            "type": "surface"
           }
          ],
          "table": [
           {
            "cells": {
             "fill": {
              "color": "#EBF0F8"
             },
             "line": {
              "color": "white"
             }
            },
            "header": {
             "fill": {
              "color": "#C8D4E3"
             },
             "line": {
              "color": "white"
             }
            },
            "type": "table"
           }
          ]
         },
         "layout": {
          "annotationdefaults": {
           "arrowcolor": "#2a3f5f",
           "arrowhead": 0,
           "arrowwidth": 1
          },
          "autotypenumbers": "strict",
          "coloraxis": {
           "colorbar": {
            "outlinewidth": 0,
            "ticks": ""
           }
          },
          "colorscale": {
           "diverging": [
            [
             0,
             "#8e0152"
            ],
            [
             0.1,
             "#c51b7d"
            ],
            [
             0.2,
             "#de77ae"
            ],
            [
             0.3,
             "#f1b6da"
            ],
            [
             0.4,
             "#fde0ef"
            ],
            [
             0.5,
             "#f7f7f7"
            ],
            [
             0.6,
             "#e6f5d0"
            ],
            [
             0.7,
             "#b8e186"
            ],
            [
             0.8,
             "#7fbc41"
            ],
            [
             0.9,
             "#4d9221"
            ],
            [
             1,
             "#276419"
            ]
           ],
           "sequential": [
            [
             0,
             "#0d0887"
            ],
            [
             0.1111111111111111,
             "#46039f"
            ],
            [
             0.2222222222222222,
             "#7201a8"
            ],
            [
             0.3333333333333333,
             "#9c179e"
            ],
            [
             0.4444444444444444,
             "#bd3786"
            ],
            [
             0.5555555555555556,
             "#d8576b"
            ],
            [
             0.6666666666666666,
             "#ed7953"
            ],
            [
             0.7777777777777778,
             "#fb9f3a"
            ],
            [
             0.8888888888888888,
             "#fdca26"
            ],
            [
             1,
             "#f0f921"
            ]
           ],
           "sequentialminus": [
            [
             0,
             "#0d0887"
            ],
            [
             0.1111111111111111,
             "#46039f"
            ],
            [
             0.2222222222222222,
             "#7201a8"
            ],
            [
             0.3333333333333333,
             "#9c179e"
            ],
            [
             0.4444444444444444,
             "#bd3786"
            ],
            [
             0.5555555555555556,
             "#d8576b"
            ],
            [
             0.6666666666666666,
             "#ed7953"
            ],
            [
             0.7777777777777778,
             "#fb9f3a"
            ],
            [
             0.8888888888888888,
             "#fdca26"
            ],
            [
             1,
             "#f0f921"
            ]
           ]
          },
          "colorway": [
           "#636efa",
           "#EF553B",
           "#00cc96",
           "#ab63fa",
           "#FFA15A",
           "#19d3f3",
           "#FF6692",
           "#B6E880",
           "#FF97FF",
           "#FECB52"
          ],
          "font": {
           "color": "#2a3f5f"
          },
          "geo": {
           "bgcolor": "white",
           "lakecolor": "white",
           "landcolor": "#E5ECF6",
           "showlakes": true,
           "showland": true,
           "subunitcolor": "white"
          },
          "hoverlabel": {
           "align": "left"
          },
          "hovermode": "closest",
          "mapbox": {
           "style": "light"
          },
          "paper_bgcolor": "white",
          "plot_bgcolor": "#E5ECF6",
          "polar": {
           "angularaxis": {
            "gridcolor": "white",
            "linecolor": "white",
            "ticks": ""
           },
           "bgcolor": "#E5ECF6",
           "radialaxis": {
            "gridcolor": "white",
            "linecolor": "white",
            "ticks": ""
           }
          },
          "scene": {
           "xaxis": {
            "backgroundcolor": "#E5ECF6",
            "gridcolor": "white",
            "gridwidth": 2,
            "linecolor": "white",
            "showbackground": true,
            "ticks": "",
            "zerolinecolor": "white"
           },
           "yaxis": {
            "backgroundcolor": "#E5ECF6",
            "gridcolor": "white",
            "gridwidth": 2,
            "linecolor": "white",
            "showbackground": true,
            "ticks": "",
            "zerolinecolor": "white"
           },
           "zaxis": {
            "backgroundcolor": "#E5ECF6",
            "gridcolor": "white",
            "gridwidth": 2,
            "linecolor": "white",
            "showbackground": true,
            "ticks": "",
            "zerolinecolor": "white"
           }
          },
          "shapedefaults": {
           "line": {
            "color": "#2a3f5f"
           }
          },
          "ternary": {
           "aaxis": {
            "gridcolor": "white",
            "linecolor": "white",
            "ticks": ""
           },
           "baxis": {
            "gridcolor": "white",
            "linecolor": "white",
            "ticks": ""
           },
           "bgcolor": "#E5ECF6",
           "caxis": {
            "gridcolor": "white",
            "linecolor": "white",
            "ticks": ""
           }
          },
          "title": {
           "x": 0.05
          },
          "xaxis": {
           "automargin": true,
           "gridcolor": "white",
           "linecolor": "white",
           "ticks": "",
           "title": {
            "standoff": 15
           },
           "zerolinecolor": "white",
           "zerolinewidth": 2
          },
          "yaxis": {
           "automargin": true,
           "gridcolor": "white",
           "linecolor": "white",
           "ticks": "",
           "title": {
            "standoff": 15
           },
           "zerolinecolor": "white",
           "zerolinewidth": 2
          }
         }
        },
        "title": {
         "text": "Train and test accuracy for different number of folds"
        },
        "xaxis": {
         "anchor": "y",
         "domain": [
          0,
          1
         ],
         "title": {
          "text": "folds"
         }
        },
        "yaxis": {
         "anchor": "x",
         "domain": [
          0,
          1
         ],
         "title": {
          "text": "value"
         }
        }
       }
      }
     },
     "metadata": {},
     "output_type": "display_data"
    }
   ],
   "source": [
    "import plotly.express as px\n",
    "\n",
    "best_params = clf.best_params_\n",
    "\n",
    "# build model\n",
    "etc = KNeighborsClassifier(**best_params)\n",
    "\n",
    "# run with 1 to 10 fold cv and plot the train and test accuracy for each\n",
    "from sklearn.model_selection import cross_validate\n",
    "\n",
    "all_scores = []\n",
    "\n",
    "for cv in range(2, 10):\n",
    "    scores = cross_validate(etc, X, y, cv=cv, scoring=\"accuracy\", return_train_score=True)\n",
    "    print(f\"CV = {cv}:\\n\\tTrain accuracy = {round(scores['train_score'].mean(), 2)}\\n\\tTest accuracy = {round(scores['test_score'].mean(), 2)}\")\n",
    "    all_scores.append({\n",
    "        \"folds\": cv,\n",
    "        \"train_accuracy\": scores[\"train_score\"].mean(),\n",
    "        \"test_accuracy\": scores[\"test_score\"].mean()\n",
    "    })\n",
    "\n",
    "\n",
    "# plot the results\n",
    "all_scores_df = pd.DataFrame.from_dict(all_scores)\n",
    "px.line(all_scores_df, x=\"folds\", y=[\"train_accuracy\", \"test_accuracy\"], title=\"Train and test accuracy for different number of folds\")"
   ]
  },
  {
   "attachments": {},
   "cell_type": "markdown",
   "metadata": {},
   "source": [
    "# Save the model along with functions to generate features"
   ]
  },
  {
   "cell_type": "code",
   "execution_count": 65,
   "metadata": {},
   "outputs": [],
   "source": [
    "pickle.dump({\n",
    "    \"best_clf\": best_clf,\n",
    "    \"best_feature_set\": columns_in_best_feature_set,\n",
    "}, open(f\"../../models/best_clf_{GEO}_pca.pickle\", \"wb\"))"
   ]
  },
  {
   "cell_type": "code",
   "execution_count": null,
   "metadata": {},
   "outputs": [],
   "source": []
  }
 ],
 "metadata": {
  "kernelspec": {
   "display_name": "venv",
   "language": "python",
   "name": "python3"
  },
  "language_info": {
   "codemirror_mode": {
    "name": "ipython",
    "version": 3
   },
   "file_extension": ".py",
   "mimetype": "text/x-python",
   "name": "python",
   "nbconvert_exporter": "python",
   "pygments_lexer": "ipython3",
   "version": "3.10.4"
  },
  "orig_nbformat": 4,
  "vscode": {
   "interpreter": {
    "hash": "cf086def782804284d24881115c612afdcc8ea791299ba67855f0c7f1a9ccc5a"
   }
  }
 },
 "nbformat": 4,
 "nbformat_minor": 2
}
