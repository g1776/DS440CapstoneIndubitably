{
 "cells": [
  {
   "attachments": {},
   "cell_type": "markdown",
   "metadata": {},
   "source": [
    "# Models\n",
    "In this notebook we will generate several different models using the already engineered features. We will then evaluate the models using cross validation and select the best model to use for our predictions."
   ]
  },
  {
   "cell_type": "code",
   "execution_count": 24,
   "metadata": {},
   "outputs": [],
   "source": [
    "import pandas as pd\n",
    "from sklearn.model_selection import train_test_split"
   ]
  },
  {
   "cell_type": "code",
   "execution_count": 25,
   "metadata": {},
   "outputs": [
    {
     "name": "stdout",
     "output_type": "stream",
     "text": [
      "(1629, 111)\n"
     ]
    },
    {
     "data": {
      "text/html": [
       "<div>\n",
       "<style scoped>\n",
       "    .dataframe tbody tr th:only-of-type {\n",
       "        vertical-align: middle;\n",
       "    }\n",
       "\n",
       "    .dataframe tbody tr th {\n",
       "        vertical-align: top;\n",
       "    }\n",
       "\n",
       "    .dataframe thead th {\n",
       "        text-align: right;\n",
       "    }\n",
       "</style>\n",
       "<table border=\"1\" class=\"dataframe\">\n",
       "  <thead>\n",
       "    <tr style=\"text-align: right;\">\n",
       "      <th></th>\n",
       "      <th>embedding_comments_0</th>\n",
       "      <th>embedding_comments_1</th>\n",
       "      <th>embedding_comments_2</th>\n",
       "      <th>embedding_comments_3</th>\n",
       "      <th>embedding_comments_4</th>\n",
       "      <th>embedding_comments_5</th>\n",
       "      <th>embedding_comments_6</th>\n",
       "      <th>embedding_comments_7</th>\n",
       "      <th>embedding_comments_8</th>\n",
       "      <th>embedding_comments_9</th>\n",
       "      <th>...</th>\n",
       "      <th>amenityall_dishwasher</th>\n",
       "      <th>amenityall_silverware</th>\n",
       "      <th>amenityall_bathtub</th>\n",
       "      <th>amenityall_lockbox</th>\n",
       "      <th>amenityall_crib</th>\n",
       "      <th>amenityall_elevator</th>\n",
       "      <th>amenityall_gym</th>\n",
       "      <th>amenityall_oven</th>\n",
       "      <th>amenityall_toilet</th>\n",
       "      <th>label</th>\n",
       "    </tr>\n",
       "    <tr>\n",
       "      <th>review_id</th>\n",
       "      <th></th>\n",
       "      <th></th>\n",
       "      <th></th>\n",
       "      <th></th>\n",
       "      <th></th>\n",
       "      <th></th>\n",
       "      <th></th>\n",
       "      <th></th>\n",
       "      <th></th>\n",
       "      <th></th>\n",
       "      <th></th>\n",
       "      <th></th>\n",
       "      <th></th>\n",
       "      <th></th>\n",
       "      <th></th>\n",
       "      <th></th>\n",
       "      <th></th>\n",
       "      <th></th>\n",
       "      <th></th>\n",
       "      <th></th>\n",
       "      <th></th>\n",
       "    </tr>\n",
       "  </thead>\n",
       "  <tbody>\n",
       "    <tr>\n",
       "      <th>83097</th>\n",
       "      <td>0.17</td>\n",
       "      <td>-0.64</td>\n",
       "      <td>0.61</td>\n",
       "      <td>-0.14</td>\n",
       "      <td>0.11</td>\n",
       "      <td>-0.26</td>\n",
       "      <td>0.94</td>\n",
       "      <td>1.33</td>\n",
       "      <td>-0.96</td>\n",
       "      <td>-0.67</td>\n",
       "      <td>...</td>\n",
       "      <td>0.00</td>\n",
       "      <td>0.00</td>\n",
       "      <td>0.00</td>\n",
       "      <td>0.00</td>\n",
       "      <td>0.00</td>\n",
       "      <td>0.00</td>\n",
       "      <td>0.00</td>\n",
       "      <td>0.00</td>\n",
       "      <td>0.00</td>\n",
       "      <td>good</td>\n",
       "    </tr>\n",
       "    <tr>\n",
       "      <th>133337</th>\n",
       "      <td>0.17</td>\n",
       "      <td>-0.57</td>\n",
       "      <td>0.55</td>\n",
       "      <td>-0.22</td>\n",
       "      <td>0.19</td>\n",
       "      <td>-0.43</td>\n",
       "      <td>0.80</td>\n",
       "      <td>1.32</td>\n",
       "      <td>-0.83</td>\n",
       "      <td>-0.91</td>\n",
       "      <td>...</td>\n",
       "      <td>0.00</td>\n",
       "      <td>0.00</td>\n",
       "      <td>0.00</td>\n",
       "      <td>0.00</td>\n",
       "      <td>0.00</td>\n",
       "      <td>0.00</td>\n",
       "      <td>0.00</td>\n",
       "      <td>0.00</td>\n",
       "      <td>0.00</td>\n",
       "      <td>good</td>\n",
       "    </tr>\n",
       "    <tr>\n",
       "      <th>150928</th>\n",
       "      <td>0.09</td>\n",
       "      <td>-0.68</td>\n",
       "      <td>0.64</td>\n",
       "      <td>-0.13</td>\n",
       "      <td>0.07</td>\n",
       "      <td>-0.22</td>\n",
       "      <td>1.04</td>\n",
       "      <td>1.25</td>\n",
       "      <td>-1.00</td>\n",
       "      <td>-0.70</td>\n",
       "      <td>...</td>\n",
       "      <td>0.00</td>\n",
       "      <td>0.00</td>\n",
       "      <td>0.00</td>\n",
       "      <td>0.00</td>\n",
       "      <td>0.00</td>\n",
       "      <td>0.00</td>\n",
       "      <td>0.00</td>\n",
       "      <td>0.00</td>\n",
       "      <td>0.00</td>\n",
       "      <td>good</td>\n",
       "    </tr>\n",
       "    <tr>\n",
       "      <th>2706775</th>\n",
       "      <td>0.09</td>\n",
       "      <td>-0.68</td>\n",
       "      <td>0.69</td>\n",
       "      <td>-0.22</td>\n",
       "      <td>0.11</td>\n",
       "      <td>-0.35</td>\n",
       "      <td>0.96</td>\n",
       "      <td>1.55</td>\n",
       "      <td>-0.99</td>\n",
       "      <td>-0.72</td>\n",
       "      <td>...</td>\n",
       "      <td>0.00</td>\n",
       "      <td>0.00</td>\n",
       "      <td>0.00</td>\n",
       "      <td>0.00</td>\n",
       "      <td>0.00</td>\n",
       "      <td>0.00</td>\n",
       "      <td>0.00</td>\n",
       "      <td>0.00</td>\n",
       "      <td>0.00</td>\n",
       "      <td>good</td>\n",
       "    </tr>\n",
       "    <tr>\n",
       "      <th>8602878</th>\n",
       "      <td>0.18</td>\n",
       "      <td>-0.51</td>\n",
       "      <td>0.67</td>\n",
       "      <td>-0.20</td>\n",
       "      <td>0.05</td>\n",
       "      <td>-0.16</td>\n",
       "      <td>0.95</td>\n",
       "      <td>1.28</td>\n",
       "      <td>-0.94</td>\n",
       "      <td>-0.67</td>\n",
       "      <td>...</td>\n",
       "      <td>0.00</td>\n",
       "      <td>0.00</td>\n",
       "      <td>0.00</td>\n",
       "      <td>0.00</td>\n",
       "      <td>0.00</td>\n",
       "      <td>0.00</td>\n",
       "      <td>0.00</td>\n",
       "      <td>0.00</td>\n",
       "      <td>0.00</td>\n",
       "      <td>good</td>\n",
       "    </tr>\n",
       "  </tbody>\n",
       "</table>\n",
       "<p>5 rows × 111 columns</p>\n",
       "</div>"
      ],
      "text/plain": [
       "           embedding_comments_0  embedding_comments_1  embedding_comments_2  \\\n",
       "review_id                                                                     \n",
       "83097                      0.17                 -0.64                  0.61   \n",
       "133337                     0.17                 -0.57                  0.55   \n",
       "150928                     0.09                 -0.68                  0.64   \n",
       "2706775                    0.09                 -0.68                  0.69   \n",
       "8602878                    0.18                 -0.51                  0.67   \n",
       "\n",
       "           embedding_comments_3  embedding_comments_4  embedding_comments_5  \\\n",
       "review_id                                                                     \n",
       "83097                     -0.14                  0.11                 -0.26   \n",
       "133337                    -0.22                  0.19                 -0.43   \n",
       "150928                    -0.13                  0.07                 -0.22   \n",
       "2706775                   -0.22                  0.11                 -0.35   \n",
       "8602878                   -0.20                  0.05                 -0.16   \n",
       "\n",
       "           embedding_comments_6  embedding_comments_7  embedding_comments_8  \\\n",
       "review_id                                                                     \n",
       "83097                      0.94                  1.33                 -0.96   \n",
       "133337                     0.80                  1.32                 -0.83   \n",
       "150928                     1.04                  1.25                 -1.00   \n",
       "2706775                    0.96                  1.55                 -0.99   \n",
       "8602878                    0.95                  1.28                 -0.94   \n",
       "\n",
       "           embedding_comments_9  ...  amenityall_dishwasher  \\\n",
       "review_id                        ...                          \n",
       "83097                     -0.67  ...                   0.00   \n",
       "133337                    -0.91  ...                   0.00   \n",
       "150928                    -0.70  ...                   0.00   \n",
       "2706775                   -0.72  ...                   0.00   \n",
       "8602878                   -0.67  ...                   0.00   \n",
       "\n",
       "           amenityall_silverware  amenityall_bathtub  amenityall_lockbox  \\\n",
       "review_id                                                                  \n",
       "83097                       0.00                0.00                0.00   \n",
       "133337                      0.00                0.00                0.00   \n",
       "150928                      0.00                0.00                0.00   \n",
       "2706775                     0.00                0.00                0.00   \n",
       "8602878                     0.00                0.00                0.00   \n",
       "\n",
       "           amenityall_crib  amenityall_elevator  amenityall_gym  \\\n",
       "review_id                                                         \n",
       "83097                 0.00                 0.00            0.00   \n",
       "133337                0.00                 0.00            0.00   \n",
       "150928                0.00                 0.00            0.00   \n",
       "2706775               0.00                 0.00            0.00   \n",
       "8602878               0.00                 0.00            0.00   \n",
       "\n",
       "           amenityall_oven  amenityall_toilet  label  \n",
       "review_id                                             \n",
       "83097                 0.00               0.00   good  \n",
       "133337                0.00               0.00   good  \n",
       "150928                0.00               0.00   good  \n",
       "2706775               0.00               0.00   good  \n",
       "8602878               0.00               0.00   good  \n",
       "\n",
       "[5 rows x 111 columns]"
      ]
     },
     "execution_count": 25,
     "metadata": {},
     "output_type": "execute_result"
    }
   ],
   "source": [
    "GEO = 'texas_florida'\n",
    "df = pd.read_csv(f'../../data/processed/features_{GEO}_no_tsne_no_doubles.csv')\n",
    "df.index = df[\"review_id\"]\n",
    "df.drop(columns=[\"review_id\"], inplace=True)\n",
    "\n",
    "print(df.shape)\n",
    "df.head()"
   ]
  },
  {
   "cell_type": "code",
   "execution_count": 26,
   "metadata": {},
   "outputs": [
    {
     "data": {
      "text/plain": [
       "good     1320\n",
       "mbad      118\n",
       "mgood     105\n",
       "bad        84\n",
       "Name: label, dtype: int64"
      ]
     },
     "execution_count": 26,
     "metadata": {},
     "output_type": "execute_result"
    }
   ],
   "source": [
    "df.label.value_counts()"
   ]
  },
  {
   "attachments": {},
   "cell_type": "markdown",
   "metadata": {},
   "source": [
    "Drop NA labels... THANKS Charlie :/"
   ]
  },
  {
   "cell_type": "code",
   "execution_count": 27,
   "metadata": {},
   "outputs": [],
   "source": [
    "df = df.dropna()"
   ]
  },
  {
   "attachments": {},
   "cell_type": "markdown",
   "metadata": {},
   "source": [
    "The data is extremely imbalanced. We can use the `imbalanced-learn` Python library, which has several implementations of resampling methods to deal with this problem. We will use the `SMOTE` method, which oversamples the minority class."
   ]
  },
  {
   "cell_type": "code",
   "execution_count": 28,
   "metadata": {},
   "outputs": [
    {
     "name": "stdout",
     "output_type": "stream",
     "text": [
      "Balanced labels:\n"
     ]
    },
    {
     "data": {
      "text/plain": [
       "good     1320\n",
       "mgood    1320\n",
       "mbad     1320\n",
       "bad      1320\n",
       "Name: label, dtype: int64"
      ]
     },
     "execution_count": 28,
     "metadata": {},
     "output_type": "execute_result"
    }
   ],
   "source": [
    "from imblearn.over_sampling import SMOTE\n",
    "\n",
    "oversample = SMOTE()\n",
    "X, y = oversample.fit_resample(df.drop(columns=[\"label\"]), df[\"label\"])\n",
    "\n",
    "print(\"Balanced labels:\")\n",
    "y.value_counts()"
   ]
  },
  {
   "attachments": {},
   "cell_type": "markdown",
   "metadata": {},
   "source": [
    "## Testing out different feature combinations\n",
    "We want to try the different combinations of features to see which ones work best."
   ]
  },
  {
   "cell_type": "code",
   "execution_count": 29,
   "metadata": {},
   "outputs": [
    {
     "name": "stdout",
     "output_type": "stream",
     "text": [
      "Number of feature sets combinations: 63\n"
     ]
    }
   ],
   "source": [
    "import itertools\n",
    "\n",
    "feature_sets = [\n",
    "    # \"tsne2_comments_2D_\",\n",
    "    # \"tsne3_comments_3D_\",\n",
    "    # \"tsne2_description_2D_\",\n",
    "    # \"tsne3_description_3D_\",\n",
    "    \"embedding_comments_\",\n",
    "    \"embedding_description_\",\n",
    "    \"3gram09_\",\n",
    "    \"3gram10_\",\n",
    "    \"amenity005_\",\n",
    "    \"amenityall_\"\n",
    "]\n",
    "\n",
    "# get all combinations of feature sets of all lengths\n",
    "feature_sets_combinations = []\n",
    "for i in range(1, len(feature_sets) + 1):\n",
    "    feature_sets_combinations += [list(x) for x in itertools.combinations(feature_sets, i)]\n",
    "\n",
    "print(f\"Number of feature sets combinations: {len(feature_sets_combinations)}\")"
   ]
  },
  {
   "cell_type": "code",
   "execution_count": 30,
   "metadata": {},
   "outputs": [
    {
     "name": "stdout",
     "output_type": "stream",
     "text": [
      "Testing feature sets combination 1 of 63 (['embedding_comments_'])\n"
     ]
    },
    {
     "name": "stderr",
     "output_type": "stream",
     "text": [
      "100%|██████████| 29/29 [00:07<00:00,  3.70it/s]\n"
     ]
    },
    {
     "name": "stdout",
     "output_type": "stream",
     "text": [
      "Top model for ['embedding_comments_']: ExtraTreesClassifier. Accuracy = 0.9498106060606061\n",
      "New best model found! Accuracy = 0.9498106060606061\n",
      "\n",
      "Testing feature sets combination 2 of 63 (['embedding_description_'])\n"
     ]
    },
    {
     "name": "stderr",
     "output_type": "stream",
     "text": [
      "100%|██████████| 29/29 [00:08<00:00,  3.62it/s]\n"
     ]
    },
    {
     "name": "stdout",
     "output_type": "stream",
     "text": [
      "Top model for ['embedding_description_']: ExtraTreesClassifier. Accuracy = 0.8096590909090909\n",
      "\n",
      "Testing feature sets combination 3 of 63 (['3gram09_'])\n"
     ]
    },
    {
     "name": "stderr",
     "output_type": "stream",
     "text": [
      "100%|██████████| 29/29 [00:10<00:00,  2.67it/s]\n"
     ]
    },
    {
     "name": "stdout",
     "output_type": "stream",
     "text": [
      "Top model for ['3gram09_']: NearestCentroid. Accuracy = 0.2803030303030303\n",
      "\n",
      "Testing feature sets combination 4 of 63 (['3gram10_'])\n"
     ]
    },
    {
     "name": "stderr",
     "output_type": "stream",
     "text": [
      "100%|██████████| 29/29 [00:04<00:00,  6.44it/s]\n"
     ]
    },
    {
     "name": "stdout",
     "output_type": "stream",
     "text": [
      "Top model for ['3gram10_']: QuadraticDiscriminantAnalysis. Accuracy = 0.2755681818181818\n",
      "\n",
      "Testing feature sets combination 5 of 63 (['amenity005_'])\n"
     ]
    },
    {
     "name": "stderr",
     "output_type": "stream",
     "text": [
      "100%|██████████| 29/29 [00:07<00:00,  4.07it/s]\n"
     ]
    },
    {
     "name": "stdout",
     "output_type": "stream",
     "text": [
      "Top model for ['amenity005_']: RandomForestClassifier. Accuracy = 0.3787878787878788\n",
      "\n",
      "Testing feature sets combination 6 of 63 (['amenityall_'])\n"
     ]
    },
    {
     "name": "stderr",
     "output_type": "stream",
     "text": [
      "100%|██████████| 29/29 [00:10<00:00,  2.71it/s]\n"
     ]
    },
    {
     "name": "stdout",
     "output_type": "stream",
     "text": [
      "Top model for ['amenityall_']: RandomForestClassifier. Accuracy = 0.4753787878787879\n",
      "\n",
      "Testing feature sets combination 7 of 63 (['embedding_comments_', 'embedding_description_'])\n"
     ]
    },
    {
     "name": "stderr",
     "output_type": "stream",
     "text": [
      "100%|██████████| 29/29 [00:10<00:00,  2.71it/s]\n"
     ]
    },
    {
     "name": "stdout",
     "output_type": "stream",
     "text": [
      "Top model for ['embedding_comments_', 'embedding_description_']: ExtraTreesClassifier. Accuracy = 0.9630681818181818\n",
      "New best model found! Accuracy = 0.9630681818181818\n",
      "\n",
      "Testing feature sets combination 8 of 63 (['embedding_comments_', '3gram09_'])\n"
     ]
    },
    {
     "name": "stderr",
     "output_type": "stream",
     "text": [
      "100%|██████████| 29/29 [00:13<00:00,  2.09it/s]\n"
     ]
    },
    {
     "name": "stdout",
     "output_type": "stream",
     "text": [
      "Top model for ['embedding_comments_', '3gram09_']: ExtraTreesClassifier. Accuracy = 0.9517045454545454\n",
      "\n",
      "Testing feature sets combination 9 of 63 (['embedding_comments_', '3gram10_'])\n"
     ]
    },
    {
     "name": "stderr",
     "output_type": "stream",
     "text": [
      "100%|██████████| 29/29 [00:08<00:00,  3.51it/s]\n"
     ]
    },
    {
     "name": "stdout",
     "output_type": "stream",
     "text": [
      "Top model for ['embedding_comments_', '3gram10_']: ExtraTreesClassifier. Accuracy = 0.9535984848484849\n",
      "\n",
      "Testing feature sets combination 10 of 63 (['embedding_comments_', 'amenity005_'])\n"
     ]
    },
    {
     "name": "stderr",
     "output_type": "stream",
     "text": [
      "100%|██████████| 29/29 [00:09<00:00,  2.97it/s]\n"
     ]
    },
    {
     "name": "stdout",
     "output_type": "stream",
     "text": [
      "Top model for ['embedding_comments_', 'amenity005_']: ExtraTreesClassifier. Accuracy = 0.9517045454545454\n",
      "\n",
      "Testing feature sets combination 11 of 63 (['embedding_comments_', 'amenityall_'])\n"
     ]
    },
    {
     "name": "stderr",
     "output_type": "stream",
     "text": [
      "100%|██████████| 29/29 [00:13<00:00,  2.23it/s]\n"
     ]
    },
    {
     "name": "stdout",
     "output_type": "stream",
     "text": [
      "Top model for ['embedding_comments_', 'amenityall_']: ExtraTreesClassifier. Accuracy = 0.9507575757575758\n",
      "\n",
      "Testing feature sets combination 12 of 63 (['embedding_description_', '3gram09_'])\n"
     ]
    },
    {
     "name": "stderr",
     "output_type": "stream",
     "text": [
      "100%|██████████| 29/29 [00:15<00:00,  1.89it/s]\n"
     ]
    },
    {
     "name": "stdout",
     "output_type": "stream",
     "text": [
      "Top model for ['embedding_description_', '3gram09_']: ExtraTreesClassifier. Accuracy = 0.8238636363636364\n",
      "\n",
      "Testing feature sets combination 13 of 63 (['embedding_description_', '3gram10_'])\n"
     ]
    },
    {
     "name": "stderr",
     "output_type": "stream",
     "text": [
      "100%|██████████| 29/29 [00:08<00:00,  3.30it/s]\n"
     ]
    },
    {
     "name": "stdout",
     "output_type": "stream",
     "text": [
      "Top model for ['embedding_description_', '3gram10_']: RandomForestClassifier. Accuracy = 0.8238636363636364\n",
      "\n",
      "Testing feature sets combination 14 of 63 (['embedding_description_', 'amenity005_'])\n"
     ]
    },
    {
     "name": "stderr",
     "output_type": "stream",
     "text": [
      "100%|██████████| 29/29 [00:10<00:00,  2.71it/s]\n"
     ]
    },
    {
     "name": "stdout",
     "output_type": "stream",
     "text": [
      "Top model for ['embedding_description_', 'amenity005_']: ExtraTreesClassifier. Accuracy = 0.8702651515151515\n",
      "\n",
      "Testing feature sets combination 15 of 63 (['embedding_description_', 'amenityall_'])\n"
     ]
    },
    {
     "name": "stderr",
     "output_type": "stream",
     "text": [
      "100%|██████████| 29/29 [00:14<00:00,  1.94it/s]\n"
     ]
    },
    {
     "name": "stdout",
     "output_type": "stream",
     "text": [
      "Top model for ['embedding_description_', 'amenityall_']: ExtraTreesClassifier. Accuracy = 0.896780303030303\n",
      "\n",
      "Testing feature sets combination 16 of 63 (['3gram09_', '3gram10_'])\n"
     ]
    },
    {
     "name": "stderr",
     "output_type": "stream",
     "text": [
      "100%|██████████| 29/29 [00:12<00:00,  2.41it/s]\n"
     ]
    },
    {
     "name": "stdout",
     "output_type": "stream",
     "text": [
      "Top model for ['3gram09_', '3gram10_']: BernoulliNB. Accuracy = 0.27367424242424243\n",
      "\n",
      "Testing feature sets combination 17 of 63 (['3gram09_', 'amenity005_'])\n"
     ]
    },
    {
     "name": "stderr",
     "output_type": "stream",
     "text": [
      "100%|██████████| 29/29 [00:14<00:00,  2.05it/s]\n"
     ]
    },
    {
     "name": "stdout",
     "output_type": "stream",
     "text": [
      "Top model for ['3gram09_', 'amenity005_']: LGBMClassifier. Accuracy = 0.35700757575757575\n",
      "\n",
      "Testing feature sets combination 18 of 63 (['3gram09_', 'amenityall_'])\n"
     ]
    },
    {
     "name": "stderr",
     "output_type": "stream",
     "text": [
      "100%|██████████| 29/29 [00:17<00:00,  1.62it/s]\n"
     ]
    },
    {
     "name": "stdout",
     "output_type": "stream",
     "text": [
      "Top model for ['3gram09_', 'amenityall_']: ExtraTreesClassifier. Accuracy = 0.48200757575757575\n",
      "\n",
      "Testing feature sets combination 19 of 63 (['3gram10_', 'amenity005_'])\n"
     ]
    },
    {
     "name": "stderr",
     "output_type": "stream",
     "text": [
      "100%|██████████| 29/29 [00:07<00:00,  3.86it/s]\n"
     ]
    },
    {
     "name": "stdout",
     "output_type": "stream",
     "text": [
      "Top model for ['3gram10_', 'amenity005_']: RandomForestClassifier. Accuracy = 0.3873106060606061\n",
      "\n",
      "Testing feature sets combination 20 of 63 (['3gram10_', 'amenityall_'])\n"
     ]
    },
    {
     "name": "stderr",
     "output_type": "stream",
     "text": [
      "100%|██████████| 29/29 [00:12<00:00,  2.31it/s]\n"
     ]
    },
    {
     "name": "stdout",
     "output_type": "stream",
     "text": [
      "Top model for ['3gram10_', 'amenityall_']: ExtraTreesClassifier. Accuracy = 0.4895833333333333\n",
      "\n",
      "Testing feature sets combination 21 of 63 (['amenity005_', 'amenityall_'])\n"
     ]
    },
    {
     "name": "stderr",
     "output_type": "stream",
     "text": [
      "100%|██████████| 29/29 [00:13<00:00,  2.21it/s]\n"
     ]
    },
    {
     "name": "stdout",
     "output_type": "stream",
     "text": [
      "Top model for ['amenity005_', 'amenityall_']: ExtraTreesClassifier. Accuracy = 0.48579545454545453\n",
      "\n",
      "Testing feature sets combination 22 of 63 (['embedding_comments_', 'embedding_description_', '3gram09_'])\n"
     ]
    },
    {
     "name": "stderr",
     "output_type": "stream",
     "text": [
      "100%|██████████| 29/29 [00:16<00:00,  1.77it/s]\n"
     ]
    },
    {
     "name": "stdout",
     "output_type": "stream",
     "text": [
      "Top model for ['embedding_comments_', 'embedding_description_', '3gram09_']: ExtraTreesClassifier. Accuracy = 0.96875\n",
      "New best model found! Accuracy = 0.96875\n",
      "\n",
      "Testing feature sets combination 23 of 63 (['embedding_comments_', 'embedding_description_', '3gram10_'])\n"
     ]
    },
    {
     "name": "stderr",
     "output_type": "stream",
     "text": [
      "100%|██████████| 29/29 [00:10<00:00,  2.69it/s]\n"
     ]
    },
    {
     "name": "stdout",
     "output_type": "stream",
     "text": [
      "Top model for ['embedding_comments_', 'embedding_description_', '3gram10_']: ExtraTreesClassifier. Accuracy = 0.9715909090909091\n",
      "New best model found! Accuracy = 0.9715909090909091\n",
      "\n",
      "Testing feature sets combination 24 of 63 (['embedding_comments_', 'embedding_description_', 'amenity005_'])\n"
     ]
    },
    {
     "name": "stderr",
     "output_type": "stream",
     "text": [
      "100%|██████████| 29/29 [00:12<00:00,  2.31it/s]\n"
     ]
    },
    {
     "name": "stdout",
     "output_type": "stream",
     "text": [
      "Top model for ['embedding_comments_', 'embedding_description_', 'amenity005_']: ExtraTreesClassifier. Accuracy = 0.9753787878787878\n",
      "New best model found! Accuracy = 0.9753787878787878\n",
      "\n",
      "Testing feature sets combination 25 of 63 (['embedding_comments_', 'embedding_description_', 'amenityall_'])\n"
     ]
    },
    {
     "name": "stderr",
     "output_type": "stream",
     "text": [
      "100%|██████████| 29/29 [00:15<00:00,  1.90it/s]\n"
     ]
    },
    {
     "name": "stdout",
     "output_type": "stream",
     "text": [
      "Top model for ['embedding_comments_', 'embedding_description_', 'amenityall_']: ExtraTreesClassifier. Accuracy = 0.9640151515151515\n",
      "\n",
      "Testing feature sets combination 26 of 63 (['embedding_comments_', '3gram09_', '3gram10_'])\n"
     ]
    },
    {
     "name": "stderr",
     "output_type": "stream",
     "text": [
      "100%|██████████| 29/29 [00:14<00:00,  2.04it/s]\n"
     ]
    },
    {
     "name": "stdout",
     "output_type": "stream",
     "text": [
      "Top model for ['embedding_comments_', '3gram09_', '3gram10_']: ExtraTreesClassifier. Accuracy = 0.9535984848484849\n",
      "\n",
      "Testing feature sets combination 27 of 63 (['embedding_comments_', '3gram09_', 'amenity005_'])\n"
     ]
    },
    {
     "name": "stderr",
     "output_type": "stream",
     "text": [
      "100%|██████████| 29/29 [00:16<00:00,  1.80it/s]\n"
     ]
    },
    {
     "name": "stdout",
     "output_type": "stream",
     "text": [
      "Top model for ['embedding_comments_', '3gram09_', 'amenity005_']: ExtraTreesClassifier. Accuracy = 0.9488636363636364\n",
      "\n",
      "Testing feature sets combination 28 of 63 (['embedding_comments_', '3gram09_', 'amenityall_'])\n"
     ]
    },
    {
     "name": "stderr",
     "output_type": "stream",
     "text": [
      "100%|██████████| 29/29 [00:18<00:00,  1.55it/s]\n"
     ]
    },
    {
     "name": "stdout",
     "output_type": "stream",
     "text": [
      "Top model for ['embedding_comments_', '3gram09_', 'amenityall_']: ExtraTreesClassifier. Accuracy = 0.9535984848484849\n",
      "\n",
      "Testing feature sets combination 29 of 63 (['embedding_comments_', '3gram10_', 'amenity005_'])\n"
     ]
    },
    {
     "name": "stderr",
     "output_type": "stream",
     "text": [
      "100%|██████████| 29/29 [00:10<00:00,  2.83it/s]\n"
     ]
    },
    {
     "name": "stdout",
     "output_type": "stream",
     "text": [
      "Top model for ['embedding_comments_', '3gram10_', 'amenity005_']: ExtraTreesClassifier. Accuracy = 0.9611742424242424\n",
      "\n",
      "Testing feature sets combination 30 of 63 (['embedding_comments_', '3gram10_', 'amenityall_'])\n"
     ]
    },
    {
     "name": "stderr",
     "output_type": "stream",
     "text": [
      "100%|██████████| 29/29 [00:13<00:00,  2.19it/s]\n"
     ]
    },
    {
     "name": "stdout",
     "output_type": "stream",
     "text": [
      "Top model for ['embedding_comments_', '3gram10_', 'amenityall_']: ExtraTreesClassifier. Accuracy = 0.9517045454545454\n",
      "\n",
      "Testing feature sets combination 31 of 63 (['embedding_comments_', 'amenity005_', 'amenityall_'])\n"
     ]
    },
    {
     "name": "stderr",
     "output_type": "stream",
     "text": [
      "100%|██████████| 29/29 [00:14<00:00,  1.96it/s]\n"
     ]
    },
    {
     "name": "stdout",
     "output_type": "stream",
     "text": [
      "Top model for ['embedding_comments_', 'amenity005_', 'amenityall_']: ExtraTreesClassifier. Accuracy = 0.9526515151515151\n",
      "\n",
      "Testing feature sets combination 32 of 63 (['embedding_description_', '3gram09_', '3gram10_'])\n"
     ]
    },
    {
     "name": "stderr",
     "output_type": "stream",
     "text": [
      "100%|██████████| 29/29 [00:15<00:00,  1.87it/s]\n"
     ]
    },
    {
     "name": "stdout",
     "output_type": "stream",
     "text": [
      "Top model for ['embedding_description_', '3gram09_', '3gram10_']: ExtraTreesClassifier. Accuracy = 0.8153409090909091\n",
      "\n",
      "Testing feature sets combination 33 of 63 (['embedding_description_', '3gram09_', 'amenity005_'])\n"
     ]
    },
    {
     "name": "stderr",
     "output_type": "stream",
     "text": [
      "100%|██████████| 29/29 [00:17<00:00,  1.62it/s]\n"
     ]
    },
    {
     "name": "stdout",
     "output_type": "stream",
     "text": [
      "Top model for ['embedding_description_', '3gram09_', 'amenity005_']: ExtraTreesClassifier. Accuracy = 0.8825757575757576\n",
      "\n",
      "Testing feature sets combination 34 of 63 (['embedding_description_', '3gram09_', 'amenityall_'])\n"
     ]
    },
    {
     "name": "stderr",
     "output_type": "stream",
     "text": [
      "100%|██████████| 29/29 [00:20<00:00,  1.42it/s]\n"
     ]
    },
    {
     "name": "stdout",
     "output_type": "stream",
     "text": [
      "Top model for ['embedding_description_', '3gram09_', 'amenityall_']: ExtraTreesClassifier. Accuracy = 0.9015151515151515\n",
      "\n",
      "Testing feature sets combination 35 of 63 (['embedding_description_', '3gram10_', 'amenity005_'])\n"
     ]
    },
    {
     "name": "stderr",
     "output_type": "stream",
     "text": [
      "100%|██████████| 29/29 [00:11<00:00,  2.62it/s]\n"
     ]
    },
    {
     "name": "stdout",
     "output_type": "stream",
     "text": [
      "Top model for ['embedding_description_', '3gram10_', 'amenity005_']: ExtraTreesClassifier. Accuracy = 0.8816287878787878\n",
      "\n",
      "Testing feature sets combination 36 of 63 (['embedding_description_', '3gram10_', 'amenityall_'])\n"
     ]
    },
    {
     "name": "stderr",
     "output_type": "stream",
     "text": [
      "100%|██████████| 29/29 [00:14<00:00,  2.00it/s]\n"
     ]
    },
    {
     "name": "stdout",
     "output_type": "stream",
     "text": [
      "Top model for ['embedding_description_', '3gram10_', 'amenityall_']: ExtraTreesClassifier. Accuracy = 0.9043560606060606\n",
      "\n",
      "Testing feature sets combination 37 of 63 (['embedding_description_', 'amenity005_', 'amenityall_'])\n"
     ]
    },
    {
     "name": "stderr",
     "output_type": "stream",
     "text": [
      "100%|██████████| 29/29 [00:16<00:00,  1.80it/s]\n"
     ]
    },
    {
     "name": "stdout",
     "output_type": "stream",
     "text": [
      "Top model for ['embedding_description_', 'amenity005_', 'amenityall_']: ExtraTreesClassifier. Accuracy = 0.9034090909090909\n",
      "\n",
      "Testing feature sets combination 38 of 63 (['3gram09_', '3gram10_', 'amenity005_'])\n"
     ]
    },
    {
     "name": "stderr",
     "output_type": "stream",
     "text": [
      "100%|██████████| 29/29 [00:14<00:00,  1.98it/s]\n"
     ]
    },
    {
     "name": "stdout",
     "output_type": "stream",
     "text": [
      "Top model for ['3gram09_', '3gram10_', 'amenity005_']: DecisionTreeClassifier. Accuracy = 0.3712121212121212\n",
      "\n",
      "Testing feature sets combination 39 of 63 (['3gram09_', '3gram10_', 'amenityall_'])\n"
     ]
    },
    {
     "name": "stderr",
     "output_type": "stream",
     "text": [
      "100%|██████████| 29/29 [00:17<00:00,  1.61it/s]\n"
     ]
    },
    {
     "name": "stdout",
     "output_type": "stream",
     "text": [
      "Top model for ['3gram09_', '3gram10_', 'amenityall_']: ExtraTreesClassifier. Accuracy = 0.5018939393939394\n",
      "\n",
      "Testing feature sets combination 40 of 63 (['3gram09_', 'amenity005_', 'amenityall_'])\n"
     ]
    },
    {
     "name": "stderr",
     "output_type": "stream",
     "text": [
      "100%|██████████| 29/29 [00:19<00:00,  1.45it/s]\n"
     ]
    },
    {
     "name": "stdout",
     "output_type": "stream",
     "text": [
      "Top model for ['3gram09_', 'amenity005_', 'amenityall_']: ExtraTreesClassifier. Accuracy = 0.5037878787878788\n",
      "\n",
      "Testing feature sets combination 41 of 63 (['3gram10_', 'amenity005_', 'amenityall_'])\n"
     ]
    },
    {
     "name": "stderr",
     "output_type": "stream",
     "text": [
      "100%|██████████| 29/29 [00:15<00:00,  1.89it/s]\n"
     ]
    },
    {
     "name": "stdout",
     "output_type": "stream",
     "text": [
      "Top model for ['3gram10_', 'amenity005_', 'amenityall_']: NuSVC. Accuracy = 0.48390151515151514\n",
      "\n",
      "Testing feature sets combination 42 of 63 (['embedding_comments_', 'embedding_description_', '3gram09_', '3gram10_'])\n"
     ]
    },
    {
     "name": "stderr",
     "output_type": "stream",
     "text": [
      "100%|██████████| 29/29 [00:17<00:00,  1.66it/s]\n"
     ]
    },
    {
     "name": "stdout",
     "output_type": "stream",
     "text": [
      "Top model for ['embedding_comments_', 'embedding_description_', '3gram09_', '3gram10_']: ExtraTreesClassifier. Accuracy = 0.9725378787878788\n",
      "\n",
      "Testing feature sets combination 43 of 63 (['embedding_comments_', 'embedding_description_', '3gram09_', 'amenity005_'])\n"
     ]
    },
    {
     "name": "stderr",
     "output_type": "stream",
     "text": [
      "100%|██████████| 29/29 [00:18<00:00,  1.53it/s]\n"
     ]
    },
    {
     "name": "stdout",
     "output_type": "stream",
     "text": [
      "Top model for ['embedding_comments_', 'embedding_description_', '3gram09_', 'amenity005_']: ExtraTreesClassifier. Accuracy = 0.9734848484848485\n",
      "\n",
      "Testing feature sets combination 44 of 63 (['embedding_comments_', 'embedding_description_', '3gram09_', 'amenityall_'])\n"
     ]
    },
    {
     "name": "stderr",
     "output_type": "stream",
     "text": [
      "100%|██████████| 29/29 [00:20<00:00,  1.39it/s]\n"
     ]
    },
    {
     "name": "stdout",
     "output_type": "stream",
     "text": [
      "Top model for ['embedding_comments_', 'embedding_description_', '3gram09_', 'amenityall_']: ExtraTreesClassifier. Accuracy = 0.9668560606060606\n",
      "\n",
      "Testing feature sets combination 45 of 63 (['embedding_comments_', 'embedding_description_', '3gram10_', 'amenity005_'])\n"
     ]
    },
    {
     "name": "stderr",
     "output_type": "stream",
     "text": [
      "100%|██████████| 29/29 [00:13<00:00,  2.21it/s]\n"
     ]
    },
    {
     "name": "stdout",
     "output_type": "stream",
     "text": [
      "Top model for ['embedding_comments_', 'embedding_description_', '3gram10_', 'amenity005_']: ExtraTreesClassifier. Accuracy = 0.9715909090909091\n",
      "\n",
      "Testing feature sets combination 46 of 63 (['embedding_comments_', 'embedding_description_', '3gram10_', 'amenityall_'])\n"
     ]
    },
    {
     "name": "stderr",
     "output_type": "stream",
     "text": [
      "100%|██████████| 29/29 [00:16<00:00,  1.74it/s]\n"
     ]
    },
    {
     "name": "stdout",
     "output_type": "stream",
     "text": [
      "Top model for ['embedding_comments_', 'embedding_description_', '3gram10_', 'amenityall_']: ExtraTreesClassifier. Accuracy = 0.9640151515151515\n",
      "\n",
      "Testing feature sets combination 47 of 63 (['embedding_comments_', 'embedding_description_', 'amenity005_', 'amenityall_'])\n"
     ]
    },
    {
     "name": "stderr",
     "output_type": "stream",
     "text": [
      "100%|██████████| 29/29 [00:18<00:00,  1.54it/s]\n"
     ]
    },
    {
     "name": "stdout",
     "output_type": "stream",
     "text": [
      "Top model for ['embedding_comments_', 'embedding_description_', 'amenity005_', 'amenityall_']: ExtraTreesClassifier. Accuracy = 0.9706439393939394\n",
      "\n",
      "Testing feature sets combination 48 of 63 (['embedding_comments_', '3gram09_', '3gram10_', 'amenity005_'])\n"
     ]
    },
    {
     "name": "stderr",
     "output_type": "stream",
     "text": [
      "100%|██████████| 29/29 [00:16<00:00,  1.78it/s]\n"
     ]
    },
    {
     "name": "stdout",
     "output_type": "stream",
     "text": [
      "Top model for ['embedding_comments_', '3gram09_', '3gram10_', 'amenity005_']: ExtraTreesClassifier. Accuracy = 0.9583333333333334\n",
      "\n",
      "Testing feature sets combination 49 of 63 (['embedding_comments_', '3gram09_', '3gram10_', 'amenityall_'])\n"
     ]
    },
    {
     "name": "stderr",
     "output_type": "stream",
     "text": [
      "100%|██████████| 29/29 [00:18<00:00,  1.60it/s]\n"
     ]
    },
    {
     "name": "stdout",
     "output_type": "stream",
     "text": [
      "Top model for ['embedding_comments_', '3gram09_', '3gram10_', 'amenityall_']: ExtraTreesClassifier. Accuracy = 0.9554924242424242\n",
      "\n",
      "Testing feature sets combination 50 of 63 (['embedding_comments_', '3gram09_', 'amenity005_', 'amenityall_'])\n"
     ]
    },
    {
     "name": "stderr",
     "output_type": "stream",
     "text": [
      "100%|██████████| 29/29 [00:20<00:00,  1.45it/s]\n"
     ]
    },
    {
     "name": "stdout",
     "output_type": "stream",
     "text": [
      "Top model for ['embedding_comments_', '3gram09_', 'amenity005_', 'amenityall_']: ExtraTreesClassifier. Accuracy = 0.946969696969697\n",
      "\n",
      "Testing feature sets combination 51 of 63 (['embedding_comments_', '3gram10_', 'amenity005_', 'amenityall_'])\n"
     ]
    },
    {
     "name": "stderr",
     "output_type": "stream",
     "text": [
      "100%|██████████| 29/29 [00:14<00:00,  1.95it/s]\n"
     ]
    },
    {
     "name": "stdout",
     "output_type": "stream",
     "text": [
      "Top model for ['embedding_comments_', '3gram10_', 'amenity005_', 'amenityall_']: ExtraTreesClassifier. Accuracy = 0.9583333333333334\n",
      "\n",
      "Testing feature sets combination 52 of 63 (['embedding_description_', '3gram09_', '3gram10_', 'amenity005_'])\n"
     ]
    },
    {
     "name": "stderr",
     "output_type": "stream",
     "text": [
      "100%|██████████| 29/29 [00:17<00:00,  1.62it/s]\n"
     ]
    },
    {
     "name": "stdout",
     "output_type": "stream",
     "text": [
      "Top model for ['embedding_description_', '3gram09_', '3gram10_', 'amenity005_']: ExtraTreesClassifier. Accuracy = 0.8797348484848485\n",
      "\n",
      "Testing feature sets combination 53 of 63 (['embedding_description_', '3gram09_', '3gram10_', 'amenityall_'])\n"
     ]
    },
    {
     "name": "stderr",
     "output_type": "stream",
     "text": [
      "100%|██████████| 29/29 [00:20<00:00,  1.41it/s]\n"
     ]
    },
    {
     "name": "stdout",
     "output_type": "stream",
     "text": [
      "Top model for ['embedding_description_', '3gram09_', '3gram10_', 'amenityall_']: ExtraTreesClassifier. Accuracy = 0.8977272727272727\n",
      "\n",
      "Testing feature sets combination 54 of 63 (['embedding_description_', '3gram09_', 'amenity005_', 'amenityall_'])\n"
     ]
    },
    {
     "name": "stderr",
     "output_type": "stream",
     "text": [
      "100%|██████████| 29/29 [00:22<00:00,  1.30it/s]\n"
     ]
    },
    {
     "name": "stdout",
     "output_type": "stream",
     "text": [
      "Top model for ['embedding_description_', '3gram09_', 'amenity005_', 'amenityall_']: ExtraTreesClassifier. Accuracy = 0.8958333333333334\n",
      "\n",
      "Testing feature sets combination 55 of 63 (['embedding_description_', '3gram10_', 'amenity005_', 'amenityall_'])\n"
     ]
    },
    {
     "name": "stderr",
     "output_type": "stream",
     "text": [
      "100%|██████████| 29/29 [00:16<00:00,  1.76it/s]\n"
     ]
    },
    {
     "name": "stdout",
     "output_type": "stream",
     "text": [
      "Top model for ['embedding_description_', '3gram10_', 'amenity005_', 'amenityall_']: ExtraTreesClassifier. Accuracy = 0.9043560606060606\n",
      "\n",
      "Testing feature sets combination 56 of 63 (['3gram09_', '3gram10_', 'amenity005_', 'amenityall_'])\n"
     ]
    },
    {
     "name": "stderr",
     "output_type": "stream",
     "text": [
      "100%|██████████| 29/29 [00:21<00:00,  1.38it/s]\n"
     ]
    },
    {
     "name": "stdout",
     "output_type": "stream",
     "text": [
      "Top model for ['3gram09_', '3gram10_', 'amenity005_', 'amenityall_']: ExtraTreesClassifier. Accuracy = 0.4990530303030303\n",
      "\n",
      "Testing feature sets combination 57 of 63 (['embedding_comments_', 'embedding_description_', '3gram09_', '3gram10_', 'amenity005_'])\n"
     ]
    },
    {
     "name": "stderr",
     "output_type": "stream",
     "text": [
      "100%|██████████| 29/29 [00:19<00:00,  1.52it/s]\n"
     ]
    },
    {
     "name": "stdout",
     "output_type": "stream",
     "text": [
      "Top model for ['embedding_comments_', 'embedding_description_', '3gram09_', '3gram10_', 'amenity005_']: ExtraTreesClassifier. Accuracy = 0.9744318181818182\n",
      "\n",
      "Testing feature sets combination 58 of 63 (['embedding_comments_', 'embedding_description_', '3gram09_', '3gram10_', 'amenityall_'])\n"
     ]
    },
    {
     "name": "stderr",
     "output_type": "stream",
     "text": [
      "100%|██████████| 29/29 [00:20<00:00,  1.40it/s]\n"
     ]
    },
    {
     "name": "stdout",
     "output_type": "stream",
     "text": [
      "Top model for ['embedding_comments_', 'embedding_description_', '3gram09_', '3gram10_', 'amenityall_']: ExtraTreesClassifier. Accuracy = 0.96875\n",
      "\n",
      "Testing feature sets combination 59 of 63 (['embedding_comments_', 'embedding_description_', '3gram09_', 'amenity005_', 'amenityall_'])\n"
     ]
    },
    {
     "name": "stderr",
     "output_type": "stream",
     "text": [
      "100%|██████████| 29/29 [00:22<00:00,  1.28it/s]\n"
     ]
    },
    {
     "name": "stdout",
     "output_type": "stream",
     "text": [
      "Top model for ['embedding_comments_', 'embedding_description_', '3gram09_', 'amenity005_', 'amenityall_']: ExtraTreesClassifier. Accuracy = 0.9630681818181818\n",
      "\n",
      "Testing feature sets combination 60 of 63 (['embedding_comments_', 'embedding_description_', '3gram10_', 'amenity005_', 'amenityall_'])\n"
     ]
    },
    {
     "name": "stderr",
     "output_type": "stream",
     "text": [
      "100%|██████████| 29/29 [00:17<00:00,  1.65it/s]\n"
     ]
    },
    {
     "name": "stdout",
     "output_type": "stream",
     "text": [
      "Top model for ['embedding_comments_', 'embedding_description_', '3gram10_', 'amenity005_', 'amenityall_']: ExtraTreesClassifier. Accuracy = 0.9696969696969697\n",
      "\n",
      "Testing feature sets combination 61 of 63 (['embedding_comments_', '3gram09_', '3gram10_', 'amenity005_', 'amenityall_'])\n"
     ]
    },
    {
     "name": "stderr",
     "output_type": "stream",
     "text": [
      "100%|██████████| 29/29 [00:21<00:00,  1.38it/s]\n"
     ]
    },
    {
     "name": "stdout",
     "output_type": "stream",
     "text": [
      "Top model for ['embedding_comments_', '3gram09_', '3gram10_', 'amenity005_', 'amenityall_']: ExtraTreesClassifier. Accuracy = 0.9621212121212122\n",
      "\n",
      "Testing feature sets combination 62 of 63 (['embedding_description_', '3gram09_', '3gram10_', 'amenity005_', 'amenityall_'])\n"
     ]
    },
    {
     "name": "stderr",
     "output_type": "stream",
     "text": [
      "100%|██████████| 29/29 [00:25<00:00,  1.15it/s]\n"
     ]
    },
    {
     "name": "stdout",
     "output_type": "stream",
     "text": [
      "Top model for ['embedding_description_', '3gram09_', '3gram10_', 'amenity005_', 'amenityall_']: ExtraTreesClassifier. Accuracy = 0.8958333333333334\n",
      "\n",
      "Testing feature sets combination 63 of 63 (['embedding_comments_', 'embedding_description_', '3gram09_', '3gram10_', 'amenity005_', 'amenityall_'])\n"
     ]
    },
    {
     "name": "stderr",
     "output_type": "stream",
     "text": [
      "100%|██████████| 29/29 [00:23<00:00,  1.26it/s]"
     ]
    },
    {
     "name": "stdout",
     "output_type": "stream",
     "text": [
      "Top model for ['embedding_comments_', 'embedding_description_', '3gram09_', '3gram10_', 'amenity005_', 'amenityall_']: ExtraTreesClassifier. Accuracy = 0.9668560606060606\n",
      "\n",
      "Best model: ExtraTreesClassifier with feature set ['embedding_comments_', 'embedding_description_', 'amenity005_']\n",
      "Accuracy = 0.9753787878787878\n"
     ]
    },
    {
     "name": "stderr",
     "output_type": "stream",
     "text": [
      "\n"
     ]
    }
   ],
   "source": [
    "from lazypredict.Supervised import LazyClassifier\n",
    "\n",
    "top_models = {}\n",
    "best_model = None\n",
    "best_accuracy = -1\n",
    "best_feature_set = None\n",
    "\n",
    "num_of_feature_sets_combinations = len(feature_sets_combinations)\n",
    "\n",
    "for i, feature_sets_combination in enumerate(feature_sets_combinations):\n",
    "\n",
    "    print(f\"Testing feature sets combination {i + 1} of {num_of_feature_sets_combinations} ({feature_sets_combination})\")\n",
    "\n",
    "    # get column subset\n",
    "    df_subset_columns = [c for c in df.columns if any([c.startswith(f) for f in feature_sets_combination])]\n",
    "    df_subset_columns.append(\"label\")\n",
    "\n",
    "    # oversample and get train/test split\n",
    "    df_subset = df[df_subset_columns]\n",
    "    X, y = oversample.fit_resample(df_subset.drop(columns=[\"label\"]), df_subset[\"label\"])\n",
    "    X_train, X_test, y_train, y_test = train_test_split(X, y, test_size=0.2, random_state=42)\n",
    "\n",
    "    # train model\n",
    "    clf = LazyClassifier(verbose=0, ignore_warnings=True, custom_metric=None)\n",
    "    models, predictions = clf.fit(X_train, X_test, y_train, y_test)\n",
    "    top_models_for_subset = models.sort_values(by=\"Accuracy\", ascending=False).head(10)\n",
    "\n",
    "    top_model = models.iloc[0]\n",
    "    accuracy = top_model[\"Accuracy\"]\n",
    "    name = top_model.name\n",
    "    print(f\"Top model for {feature_sets_combination}: {name}. Accuracy = {accuracy}\")\n",
    "    if top_model[\"Accuracy\"] > best_accuracy:\n",
    "        best_accuracy = top_model[\"Accuracy\"]\n",
    "        best_model = top_model\n",
    "        best_feature_set = feature_sets_combination\n",
    "        print(f\"New best model found! Accuracy = {accuracy}\")\n",
    "\n",
    "    # save results\n",
    "    top_models[\",\".join(feature_sets_combination)] = top_models_for_subset\n",
    "\n",
    "    print()\n",
    "\n",
    "\n",
    "print(f\"Best model: {best_model.name} with feature set {best_feature_set}\\nAccuracy = {best_accuracy}\")\n",
    "\n",
    "import pickle\n",
    "# save top_models\n",
    "with open(f\"../../data/processed/top_models_{GEO}_no_tsne.pickle\", \"wb\") as f:\n",
    "    pickle.dump(top_models, f)"
   ]
  },
  {
   "cell_type": "code",
   "execution_count": 34,
   "metadata": {},
   "outputs": [
    {
     "data": {
      "text/html": [
       "<div>\n",
       "<style scoped>\n",
       "    .dataframe tbody tr th:only-of-type {\n",
       "        vertical-align: middle;\n",
       "    }\n",
       "\n",
       "    .dataframe tbody tr th {\n",
       "        vertical-align: top;\n",
       "    }\n",
       "\n",
       "    .dataframe thead th {\n",
       "        text-align: right;\n",
       "    }\n",
       "</style>\n",
       "<table border=\"1\" class=\"dataframe\">\n",
       "  <thead>\n",
       "    <tr style=\"text-align: right;\">\n",
       "      <th></th>\n",
       "      <th>feature_set</th>\n",
       "      <th>top_model_name</th>\n",
       "      <th>top_model_accuracy</th>\n",
       "    </tr>\n",
       "  </thead>\n",
       "  <tbody>\n",
       "    <tr>\n",
       "      <th>23</th>\n",
       "      <td>(A), (B), (C)</td>\n",
       "      <td>ExtraTreesClassifier</td>\n",
       "      <td>0.98</td>\n",
       "    </tr>\n",
       "    <tr>\n",
       "      <th>56</th>\n",
       "      <td>(A), (B), (E), (F), (C)</td>\n",
       "      <td>ExtraTreesClassifier</td>\n",
       "      <td>0.97</td>\n",
       "    </tr>\n",
       "    <tr>\n",
       "      <th>42</th>\n",
       "      <td>(A), (B), (E), (C)</td>\n",
       "      <td>ExtraTreesClassifier</td>\n",
       "      <td>0.97</td>\n",
       "    </tr>\n",
       "    <tr>\n",
       "      <th>41</th>\n",
       "      <td>(A), (B), (E), (F)</td>\n",
       "      <td>ExtraTreesClassifier</td>\n",
       "      <td>0.97</td>\n",
       "    </tr>\n",
       "    <tr>\n",
       "      <th>44</th>\n",
       "      <td>(A), (B), (F), (C)</td>\n",
       "      <td>ExtraTreesClassifier</td>\n",
       "      <td>0.97</td>\n",
       "    </tr>\n",
       "    <tr>\n",
       "      <th>22</th>\n",
       "      <td>(A), (B), (F)</td>\n",
       "      <td>ExtraTreesClassifier</td>\n",
       "      <td>0.97</td>\n",
       "    </tr>\n",
       "    <tr>\n",
       "      <th>46</th>\n",
       "      <td>(A), (B), (C), (D)</td>\n",
       "      <td>ExtraTreesClassifier</td>\n",
       "      <td>0.97</td>\n",
       "    </tr>\n",
       "    <tr>\n",
       "      <th>59</th>\n",
       "      <td>(A), (B), (F), (C), (D)</td>\n",
       "      <td>ExtraTreesClassifier</td>\n",
       "      <td>0.97</td>\n",
       "    </tr>\n",
       "    <tr>\n",
       "      <th>57</th>\n",
       "      <td>(A), (B), (E), (F), (D)</td>\n",
       "      <td>ExtraTreesClassifier</td>\n",
       "      <td>0.97</td>\n",
       "    </tr>\n",
       "    <tr>\n",
       "      <th>21</th>\n",
       "      <td>(A), (B), (E)</td>\n",
       "      <td>ExtraTreesClassifier</td>\n",
       "      <td>0.97</td>\n",
       "    </tr>\n",
       "  </tbody>\n",
       "</table>\n",
       "</div>"
      ],
      "text/plain": [
       "                feature_set        top_model_name  top_model_accuracy\n",
       "23            (A), (B), (C)  ExtraTreesClassifier                0.98\n",
       "56  (A), (B), (E), (F), (C)  ExtraTreesClassifier                0.97\n",
       "42       (A), (B), (E), (C)  ExtraTreesClassifier                0.97\n",
       "41       (A), (B), (E), (F)  ExtraTreesClassifier                0.97\n",
       "44       (A), (B), (F), (C)  ExtraTreesClassifier                0.97\n",
       "22            (A), (B), (F)  ExtraTreesClassifier                0.97\n",
       "46       (A), (B), (C), (D)  ExtraTreesClassifier                0.97\n",
       "59  (A), (B), (F), (C), (D)  ExtraTreesClassifier                0.97\n",
       "57  (A), (B), (E), (F), (D)  ExtraTreesClassifier                0.97\n",
       "21            (A), (B), (E)  ExtraTreesClassifier                0.97"
      ]
     },
     "execution_count": 34,
     "metadata": {},
     "output_type": "execute_result"
    }
   ],
   "source": [
    "import pickle\n",
    "top_models = pickle.load(open(f\"../../models/top_models_{GEO}_no_tsne.pickle\", \"rb\"))\n",
    "\n",
    "report = []\n",
    "\n",
    "feature_set_to_letter = {\n",
    "    \"embedding_comments_\": \"(A)\",\n",
    "    \"embedding_description_\": \"(B)\",\n",
    "    \"amenity005_\" : \"(C)\",\n",
    "    \"amenityall_\" : \"(D)\",\n",
    "    \"3gram09_\" : \"(E)\",\n",
    "    \"3gram10_\" : \"(F)\",\n",
    "    \n",
    "}\n",
    "\n",
    "# iterate over keys and values\n",
    "for key, value in top_models.items():\n",
    "    top_model_name = value.iloc[0].name\n",
    "    top_model_accuracy = value.iloc[0][\"Accuracy\"]\n",
    "\n",
    "    report.append({\n",
    "        \"feature_set\": \", \".join([feature_set_to_letter[f] for f in key.split(\",\")]),\n",
    "        \"top_model_name\": top_model_name,\n",
    "        \"top_model_accuracy\": top_model_accuracy\n",
    "    })\n",
    "\n",
    "top = pd.DataFrame(report).sort_values(by=\"top_model_accuracy\", ascending=False)\n",
    "top.head(10)"
   ]
  },
  {
   "attachments": {},
   "cell_type": "markdown",
   "metadata": {},
   "source": [
    "# Compare Results"
   ]
  },
  {
   "attachments": {},
   "cell_type": "markdown",
   "metadata": {},
   "source": [
    "Let's see which features appear the most in models that perform over 80% accuracy."
   ]
  },
  {
   "cell_type": "code",
   "execution_count": 35,
   "metadata": {},
   "outputs": [
    {
     "name": "stdout",
     "output_type": "stream",
     "text": [
      "There are 36 models above 90% accuracy\n"
     ]
    },
    {
     "data": {
      "text/plain": [
       "<AxesSubplot: xlabel='% of top models using feature set', ylabel='Feature set'>"
      ]
     },
     "execution_count": 35,
     "metadata": {},
     "output_type": "execute_result"
    },
    {
     "data": {
      "image/png": "[encoded data removed]",
      "text/plain": [
       "<Figure size 640x480 with 1 Axes>"
      ]
     },
     "metadata": {},
     "output_type": "display_data"
    }
   ],
   "source": [
    "# split feature_set into individual feature sets\n",
    "letters = [\"(A)\", \"(B)\", \"(C)\", \"(D)\", \"(E)\", \"(F)\"]\n",
    "top[\"feature_set_split\"] = top[\"feature_set\"].apply(lambda x: x.split(\", \"))\n",
    "for letter in [\"(A)\", \"(B)\", \"(C)\", \"(D)\", \"(E)\", \"(F)\"]:\n",
    "    top[letter] = top[\"feature_set_split\"].apply(lambda x: letter in x)\n",
    "\n",
    "# lets see what percent of the top models have each feature set (top models will be above 80% accuracy)\n",
    "with_accuracy = top[[\"top_model_accuracy\"] + letters]\n",
    "models_above_90_accuracy = with_accuracy[with_accuracy.top_model_accuracy > 0.9]\n",
    "print(f\"There are {models_above_90_accuracy.shape[0]} models above 90% accuracy\")\n",
    "feature_set_distr = models_above_90_accuracy.sum().drop(\"top_model_accuracy\").sort_values(ascending=False) / models_above_90_accuracy.shape[0]\n",
    "\n",
    "\n",
    "# convert back to feature set name\n",
    "# reverse feature_set_to_letter\n",
    "feature_set_to_letter = {v: k for k, v in feature_set_to_letter.items()}\n",
    "feature_set_distr.index = feature_set_distr.index.map(lambda x: feature_set_to_letter[x] + \" \" + x)\n",
    "feature_set_distr.plot(kind=\"barh\", xlabel=\"% of top models using feature set\", ylabel=\"Feature set\")"
   ]
  },
  {
   "attachments": {},
   "cell_type": "markdown",
   "metadata": {},
   "source": [
    "Let's grab the best subset, and hyperparameter tune the best model!"
   ]
  },
  {
   "cell_type": "code",
   "execution_count": 36,
   "metadata": {},
   "outputs": [
    {
     "data": {
      "text/plain": [
       "['embedding_comments_', 'embedding_description_', 'amenity005_']"
      ]
     },
     "execution_count": 36,
     "metadata": {},
     "output_type": "execute_result"
    }
   ],
   "source": [
    "top_feature_set = top.reset_index().iloc[0].feature_set.split(\", \")\n",
    "top_feature_set = [feature_set_to_letter[f] for f in top_feature_set]\n",
    "top_feature_set"
   ]
  },
  {
   "cell_type": "code",
   "execution_count": 37,
   "metadata": {},
   "outputs": [
    {
     "name": "stdout",
     "output_type": "stream",
     "text": [
      "Best feature set:\n",
      "['embedding_comments_0', 'embedding_comments_1', 'embedding_comments_2', 'embedding_comments_3', 'embedding_comments_4', 'embedding_comments_5', 'embedding_comments_6', 'embedding_comments_7', 'embedding_comments_8', 'embedding_comments_9', 'embedding_description_0', 'embedding_description_1', 'embedding_description_2', 'embedding_description_3', 'embedding_description_4', 'embedding_description_5', 'embedding_description_6', 'embedding_description_7', 'embedding_description_8', 'embedding_description_9', 'amenity005_lockbox', 'amenity005_dishwasher', 'amenity005_pool', 'amenity005_stove', 'amenity005_keypad', 'amenity005_bathtub', 'amenity005_kitchen', 'amenity005_balcony', 'amenity005_shampoo', 'amenity005_garden', 'amenity005_cat', 'amenity005_family', 'amenity005_breakfast', 'label']\n"
     ]
    }
   ],
   "source": [
    "columns_in_best_feature_set = [c for c in df.columns if any([c.startswith(f) for f in top_feature_set])]\n",
    "columns_in_best_feature_set.append(\"label\")\n",
    "\n",
    "df_best_subset = df[columns_in_best_feature_set]\n",
    "\n",
    "print(\"Best feature set:\")\n",
    "print(columns_in_best_feature_set)\n"
   ]
  },
  {
   "cell_type": "code",
   "execution_count": 40,
   "metadata": {},
   "outputs": [
    {
     "name": "stdout",
     "output_type": "stream",
     "text": [
      "Fitting 5 folds for each of 54 candidates, totalling 270 fits\n",
      "Best parameters:\n",
      "{'max_depth': None, 'min_samples_leaf': 1, 'min_samples_split': 2, 'n_estimators': 300}\n",
      "Accuracy: 0.97\n"
     ]
    },
    {
     "data": {
      "image/png": "[encoded data removed]",
      "text/plain": [
       "<Figure size 640x480 with 2 Axes>"
      ]
     },
     "metadata": {},
     "output_type": "display_data"
    }
   ],
   "source": [
    "# load ExtraTreesClassifier\n",
    "from sklearn.ensemble import ExtraTreesClassifier\n",
    "\n",
    "# apply GridSearchCV to find the best parameters\n",
    "from sklearn.model_selection import GridSearchCV\n",
    "\n",
    "params = {\n",
    "    'n_estimators': [100, 200, 300],\n",
    "    'max_depth': [None, 5, 10],\n",
    "    'min_samples_split': [2, 5],\n",
    "    'min_samples_leaf': [1, 2, 5],\n",
    "}\n",
    "\n",
    "clf = GridSearchCV(ExtraTreesClassifier(), params, cv=5, n_jobs=-1, verbose=1)\n",
    "\n",
    "# oversample and get train/test split\n",
    "X, y = oversample.fit_resample(df_best_subset.drop(columns=[\"label\"]), df_best_subset[\"label\"])\n",
    "X_train, X_test, y_train, y_test = train_test_split(X, y, test_size=0.2, random_state=42)\n",
    "clf.fit(X_train, y_train)\n",
    "best_clf = clf.best_estimator_\n",
    "\n",
    "# print the best parameters\n",
    "print(\"Best parameters:\")\n",
    "print(clf.best_params_)\n",
    "\n",
    "# predict\n",
    "y_pred = best_clf.predict(X_test)\n",
    "\n",
    "# evaluate\n",
    "from sklearn.metrics import accuracy_score\n",
    "\n",
    "print(\"Accuracy:\", round(accuracy_score(y_test, y_pred), 2))\n",
    "\n",
    "# plot a confusion matrix\n",
    "from sklearn.metrics import ConfusionMatrixDisplay\n",
    "import matplotlib.pyplot as plt\n",
    "cm = ConfusionMatrixDisplay.from_predictions(y_test, y_pred)\n",
    "plt.show()"
   ]
  },
  {
   "attachments": {},
   "cell_type": "markdown",
   "metadata": {},
   "source": [
    "# Save the model along with functions to generate features"
   ]
  },
  {
   "cell_type": "code",
   "execution_count": 32,
   "metadata": {},
   "outputs": [],
   "source": [
    "pickle.dump({\n",
    "    \"best_clf\": best_clf,\n",
    "    \"best_feature_set\": columns_in_best_feature_set,\n",
    "}, open(f\"best_clf_{GEO}.pickle\", \"wb\"))"
   ]
  },
  {
   "cell_type": "code",
   "execution_count": null,
   "metadata": {},
   "outputs": [],
   "source": []
  }
 ],
 "metadata": {
  "kernelspec": {
   "display_name": "venv",
   "language": "python",
   "name": "python3"
  },
  "language_info": {
   "codemirror_mode": {
    "name": "ipython",
    "version": 3
   },
   "file_extension": ".py",
   "mimetype": "text/x-python",
   "name": "python",
   "nbconvert_exporter": "python",
   "pygments_lexer": "ipython3",
   "version": "3.10.4"
  },
  "orig_nbformat": 4,
  "vscode": {
   "interpreter": {
    "hash": "cf086def782804284d24881115c612afdcc8ea791299ba67855f0c7f1a9ccc5a"
   }
  }
 },
 "nbformat": 4,
 "nbformat_minor": 2
}
