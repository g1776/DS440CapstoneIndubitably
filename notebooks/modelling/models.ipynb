{
 "cells": [
  {
   "attachments": {},
   "cell_type": "markdown",
   "metadata": {},
   "source": [
    "# Models\n",
    "In this notebook we will generate several different models using the already engineered features. We will then evaluate the models using cross validation and select the best model to use for our predictions."
   ]
  },
  {
   "cell_type": "code",
   "execution_count": 12,
   "metadata": {},
   "outputs": [],
   "source": [
    "import pandas as pd\n",
    "from sklearn.model_selection import train_test_split"
   ]
  },
  {
   "cell_type": "code",
   "execution_count": 13,
   "metadata": {},
   "outputs": [
    {
     "name": "stdout",
     "output_type": "stream",
     "text": [
      "(1629, 101)\n"
     ]
    },
    {
     "data": {
      "text/html": [
       "<div>\n",
       "<style scoped>\n",
       "    .dataframe tbody tr th:only-of-type {\n",
       "        vertical-align: middle;\n",
       "    }\n",
       "\n",
       "    .dataframe tbody tr th {\n",
       "        vertical-align: top;\n",
       "    }\n",
       "\n",
       "    .dataframe thead th {\n",
       "        text-align: right;\n",
       "    }\n",
       "</style>\n",
       "<table border=\"1\" class=\"dataframe\">\n",
       "  <thead>\n",
       "    <tr style=\"text-align: right;\">\n",
       "      <th></th>\n",
       "      <th>tsne2_comments_2D_0</th>\n",
       "      <th>tsne2_comments_2D_1</th>\n",
       "      <th>tsne3_comments_3D_0</th>\n",
       "      <th>tsne3_comments_3D_1</th>\n",
       "      <th>tsne3_comments_3D_2</th>\n",
       "      <th>tsne2_description_2D_0</th>\n",
       "      <th>tsne2_description_2D_1</th>\n",
       "      <th>tsne3_description_3D_0</th>\n",
       "      <th>tsne3_description_3D_1</th>\n",
       "      <th>tsne3_description_3D_2</th>\n",
       "      <th>...</th>\n",
       "      <th>amenityall_dishwasher</th>\n",
       "      <th>amenityall_silverware</th>\n",
       "      <th>amenityall_bathtub</th>\n",
       "      <th>amenityall_lockbox</th>\n",
       "      <th>amenityall_crib</th>\n",
       "      <th>amenityall_elevator</th>\n",
       "      <th>amenityall_gym</th>\n",
       "      <th>amenityall_oven</th>\n",
       "      <th>amenityall_toilet</th>\n",
       "      <th>label</th>\n",
       "    </tr>\n",
       "    <tr>\n",
       "      <th>review_id</th>\n",
       "      <th></th>\n",
       "      <th></th>\n",
       "      <th></th>\n",
       "      <th></th>\n",
       "      <th></th>\n",
       "      <th></th>\n",
       "      <th></th>\n",
       "      <th></th>\n",
       "      <th></th>\n",
       "      <th></th>\n",
       "      <th></th>\n",
       "      <th></th>\n",
       "      <th></th>\n",
       "      <th></th>\n",
       "      <th></th>\n",
       "      <th></th>\n",
       "      <th></th>\n",
       "      <th></th>\n",
       "      <th></th>\n",
       "      <th></th>\n",
       "      <th></th>\n",
       "    </tr>\n",
       "  </thead>\n",
       "  <tbody>\n",
       "    <tr>\n",
       "      <th>83097</th>\n",
       "      <td>44.797146</td>\n",
       "      <td>-91.826430</td>\n",
       "      <td>19.198887</td>\n",
       "      <td>-34.306694</td>\n",
       "      <td>-12.887021</td>\n",
       "      <td>44.797146</td>\n",
       "      <td>-91.826430</td>\n",
       "      <td>19.198887</td>\n",
       "      <td>-34.306694</td>\n",
       "      <td>-12.887021</td>\n",
       "      <td>...</td>\n",
       "      <td>0.0</td>\n",
       "      <td>0.0</td>\n",
       "      <td>0.0</td>\n",
       "      <td>0.0</td>\n",
       "      <td>0.0</td>\n",
       "      <td>0.0</td>\n",
       "      <td>0.0</td>\n",
       "      <td>0.0</td>\n",
       "      <td>0.0</td>\n",
       "      <td>good</td>\n",
       "    </tr>\n",
       "    <tr>\n",
       "      <th>133337</th>\n",
       "      <td>44.797146</td>\n",
       "      <td>-91.826430</td>\n",
       "      <td>20.718470</td>\n",
       "      <td>-30.874128</td>\n",
       "      <td>-17.147860</td>\n",
       "      <td>44.797146</td>\n",
       "      <td>-91.826430</td>\n",
       "      <td>20.718470</td>\n",
       "      <td>-30.874128</td>\n",
       "      <td>-17.147860</td>\n",
       "      <td>...</td>\n",
       "      <td>0.0</td>\n",
       "      <td>0.0</td>\n",
       "      <td>0.0</td>\n",
       "      <td>0.0</td>\n",
       "      <td>0.0</td>\n",
       "      <td>0.0</td>\n",
       "      <td>0.0</td>\n",
       "      <td>0.0</td>\n",
       "      <td>0.0</td>\n",
       "      <td>good</td>\n",
       "    </tr>\n",
       "    <tr>\n",
       "      <th>150928</th>\n",
       "      <td>46.442818</td>\n",
       "      <td>-96.150764</td>\n",
       "      <td>23.746138</td>\n",
       "      <td>-35.620407</td>\n",
       "      <td>-16.147621</td>\n",
       "      <td>46.442818</td>\n",
       "      <td>-96.150764</td>\n",
       "      <td>23.746138</td>\n",
       "      <td>-35.620407</td>\n",
       "      <td>-16.147621</td>\n",
       "      <td>...</td>\n",
       "      <td>0.0</td>\n",
       "      <td>0.0</td>\n",
       "      <td>0.0</td>\n",
       "      <td>0.0</td>\n",
       "      <td>0.0</td>\n",
       "      <td>0.0</td>\n",
       "      <td>0.0</td>\n",
       "      <td>0.0</td>\n",
       "      <td>0.0</td>\n",
       "      <td>good</td>\n",
       "    </tr>\n",
       "    <tr>\n",
       "      <th>2706775</th>\n",
       "      <td>46.442818</td>\n",
       "      <td>-96.150764</td>\n",
       "      <td>23.746138</td>\n",
       "      <td>-35.620407</td>\n",
       "      <td>-16.147621</td>\n",
       "      <td>46.442818</td>\n",
       "      <td>-96.150764</td>\n",
       "      <td>23.746138</td>\n",
       "      <td>-35.620407</td>\n",
       "      <td>-16.147621</td>\n",
       "      <td>...</td>\n",
       "      <td>0.0</td>\n",
       "      <td>0.0</td>\n",
       "      <td>0.0</td>\n",
       "      <td>0.0</td>\n",
       "      <td>0.0</td>\n",
       "      <td>0.0</td>\n",
       "      <td>0.0</td>\n",
       "      <td>0.0</td>\n",
       "      <td>0.0</td>\n",
       "      <td>good</td>\n",
       "    </tr>\n",
       "    <tr>\n",
       "      <th>8602878</th>\n",
       "      <td>46.442818</td>\n",
       "      <td>-96.150764</td>\n",
       "      <td>23.746138</td>\n",
       "      <td>-35.620407</td>\n",
       "      <td>-16.147621</td>\n",
       "      <td>46.442818</td>\n",
       "      <td>-96.150764</td>\n",
       "      <td>23.746138</td>\n",
       "      <td>-35.620407</td>\n",
       "      <td>-16.147621</td>\n",
       "      <td>...</td>\n",
       "      <td>0.0</td>\n",
       "      <td>0.0</td>\n",
       "      <td>0.0</td>\n",
       "      <td>0.0</td>\n",
       "      <td>0.0</td>\n",
       "      <td>0.0</td>\n",
       "      <td>0.0</td>\n",
       "      <td>0.0</td>\n",
       "      <td>0.0</td>\n",
       "      <td>good</td>\n",
       "    </tr>\n",
       "  </tbody>\n",
       "</table>\n",
       "<p>5 rows × 101 columns</p>\n",
       "</div>"
      ],
      "text/plain": [
       "           tsne2_comments_2D_0  tsne2_comments_2D_1  tsne3_comments_3D_0  \\\n",
       "review_id                                                                  \n",
       "83097                44.797146           -91.826430            19.198887   \n",
       "133337               44.797146           -91.826430            20.718470   \n",
       "150928               46.442818           -96.150764            23.746138   \n",
       "2706775              46.442818           -96.150764            23.746138   \n",
       "8602878              46.442818           -96.150764            23.746138   \n",
       "\n",
       "           tsne3_comments_3D_1  tsne3_comments_3D_2  tsne2_description_2D_0  \\\n",
       "review_id                                                                     \n",
       "83097               -34.306694           -12.887021               44.797146   \n",
       "133337              -30.874128           -17.147860               44.797146   \n",
       "150928              -35.620407           -16.147621               46.442818   \n",
       "2706775             -35.620407           -16.147621               46.442818   \n",
       "8602878             -35.620407           -16.147621               46.442818   \n",
       "\n",
       "           tsne2_description_2D_1  tsne3_description_3D_0  \\\n",
       "review_id                                                   \n",
       "83097                  -91.826430               19.198887   \n",
       "133337                 -91.826430               20.718470   \n",
       "150928                 -96.150764               23.746138   \n",
       "2706775                -96.150764               23.746138   \n",
       "8602878                -96.150764               23.746138   \n",
       "\n",
       "           tsne3_description_3D_1  tsne3_description_3D_2  ...  \\\n",
       "review_id                                                  ...   \n",
       "83097                  -34.306694              -12.887021  ...   \n",
       "133337                 -30.874128              -17.147860  ...   \n",
       "150928                 -35.620407              -16.147621  ...   \n",
       "2706775                -35.620407              -16.147621  ...   \n",
       "8602878                -35.620407              -16.147621  ...   \n",
       "\n",
       "           amenityall_dishwasher  amenityall_silverware  amenityall_bathtub  \\\n",
       "review_id                                                                     \n",
       "83097                        0.0                    0.0                 0.0   \n",
       "133337                       0.0                    0.0                 0.0   \n",
       "150928                       0.0                    0.0                 0.0   \n",
       "2706775                      0.0                    0.0                 0.0   \n",
       "8602878                      0.0                    0.0                 0.0   \n",
       "\n",
       "           amenityall_lockbox  amenityall_crib  amenityall_elevator  \\\n",
       "review_id                                                             \n",
       "83097                     0.0              0.0                  0.0   \n",
       "133337                    0.0              0.0                  0.0   \n",
       "150928                    0.0              0.0                  0.0   \n",
       "2706775                   0.0              0.0                  0.0   \n",
       "8602878                   0.0              0.0                  0.0   \n",
       "\n",
       "           amenityall_gym  amenityall_oven  amenityall_toilet  label  \n",
       "review_id                                                             \n",
       "83097                 0.0              0.0                0.0   good  \n",
       "133337                0.0              0.0                0.0   good  \n",
       "150928                0.0              0.0                0.0   good  \n",
       "2706775               0.0              0.0                0.0   good  \n",
       "8602878               0.0              0.0                0.0   good  \n",
       "\n",
       "[5 rows x 101 columns]"
      ]
     },
     "execution_count": 13,
     "metadata": {},
     "output_type": "execute_result"
    }
   ],
   "source": [
    "GEO = 'texas_florida'\n",
    "df = pd.read_csv(f'../../data/processed/features_{GEO}.csv')\n",
    "df.index = df[\"review_id\"]\n",
    "df.drop(columns=[\"review_id\"], inplace=True)\n",
    "\n",
    "print(df.shape)\n",
    "df.head()"
   ]
  },
  {
   "cell_type": "code",
   "execution_count": 14,
   "metadata": {},
   "outputs": [
    {
     "data": {
      "text/plain": [
       "good     1320\n",
       "mbad      118\n",
       "mgood     105\n",
       "bad        84\n",
       "Name: label, dtype: int64"
      ]
     },
     "execution_count": 14,
     "metadata": {},
     "output_type": "execute_result"
    }
   ],
   "source": [
    "df.label.value_counts()"
   ]
  },
  {
   "attachments": {},
   "cell_type": "markdown",
   "metadata": {},
   "source": [
    "Drop NA labels... THANKS Charlie :/"
   ]
  },
  {
   "cell_type": "code",
   "execution_count": 15,
   "metadata": {},
   "outputs": [],
   "source": [
    "df = df.dropna()"
   ]
  },
  {
   "attachments": {},
   "cell_type": "markdown",
   "metadata": {},
   "source": [
    "The data is extremely imbalanced. We can use the `imbalanced-learn` Python library, which has several implementations of resampling methods to deal with this problem. We will use the `SMOTE` method, which oversamples the minority class."
   ]
  },
  {
   "cell_type": "code",
   "execution_count": 16,
   "metadata": {},
   "outputs": [
    {
     "name": "stdout",
     "output_type": "stream",
     "text": [
      "Balanced labels:\n"
     ]
    },
    {
     "data": {
      "text/plain": [
       "good     1320\n",
       "mgood    1320\n",
       "mbad     1320\n",
       "bad      1320\n",
       "Name: label, dtype: int64"
      ]
     },
     "execution_count": 16,
     "metadata": {},
     "output_type": "execute_result"
    }
   ],
   "source": [
    "from imblearn.over_sampling import SMOTE\n",
    "\n",
    "oversample = SMOTE()\n",
    "X, y = oversample.fit_resample(df.drop(columns=[\"label\"]), df[\"label\"])\n",
    "\n",
    "print(\"Balanced labels:\")\n",
    "y.value_counts()"
   ]
  },
  {
   "attachments": {},
   "cell_type": "markdown",
   "metadata": {},
   "source": [
    "## Testing out different feature combinations\n",
    "We want to try the different combinations of features to see which ones work best."
   ]
  },
  {
   "cell_type": "code",
   "execution_count": 17,
   "metadata": {},
   "outputs": [
    {
     "name": "stdout",
     "output_type": "stream",
     "text": [
      "Number of feature sets combinations: 255\n"
     ]
    }
   ],
   "source": [
    "import itertools\n",
    "\n",
    "feature_sets = [\n",
    "    \"tsne2_comments_2D_\",\n",
    "    \"tsne3_comments_3D_\",\n",
    "    \"tsne2_description_2D_\",\n",
    "    \"tsne3_description_3D_\",\n",
    "    \"3gram09_\",\n",
    "    \"3gram10_\",\n",
    "    \"amenity005_\",\n",
    "    \"amenityall_\"\n",
    "]\n",
    "\n",
    "# get all combinations of feature sets of all lengths\n",
    "feature_sets_combinations = []\n",
    "for i in range(1, len(feature_sets) + 1):\n",
    "    feature_sets_combinations += [list(x) for x in itertools.combinations(feature_sets, i)]\n",
    "\n",
    "print(f\"Number of feature sets combinations: {len(feature_sets_combinations)}\")"
   ]
  },
  {
   "cell_type": "code",
   "execution_count": null,
   "metadata": {},
   "outputs": [],
   "source": [
    "from lazypredict.Supervised import LazyClassifier\n",
    "\n",
    "top_models = {}\n",
    "best_model = None\n",
    "best_accuracy = -1\n",
    "best_feature_set = None\n",
    "\n",
    "num_of_feature_sets_combinations = len(feature_sets_combinations)\n",
    "\n",
    "for i, feature_sets_combination in enumerate(feature_sets_combinations):\n",
    "\n",
    "    print(f\"Testing feature sets combination {i + 1} of {num_of_feature_sets_combinations} ({feature_sets_combination})\")\n",
    "\n",
    "    # get column subset\n",
    "    df_subset_columns = [c for c in df.columns if any([c.startswith(f) for f in feature_sets_combination])]\n",
    "    df_subset_columns.append(\"label\")\n",
    "\n",
    "    # oversample and get train/test split\n",
    "    df_subset = df[df_subset_columns]\n",
    "    X, y = oversample.fit_resample(df_subset.drop(columns=[\"label\"]), df_subset[\"label\"])\n",
    "    X_train, X_test, y_train, y_test = train_test_split(X, y, test_size=0.2, random_state=42)\n",
    "\n",
    "    # train model\n",
    "    clf = LazyClassifier(verbose=0, ignore_warnings=True, custom_metric=None)\n",
    "    models, predictions = clf.fit(X_train, X_test, y_train, y_test)\n",
    "    top_models_for_subset = models.sort_values(by=\"Accuracy\", ascending=False).head(10)\n",
    "\n",
    "    top_model = models.iloc[0]\n",
    "    accuracy = top_model[\"Accuracy\"]\n",
    "    name = top_model.name\n",
    "    print(f\"Top model for {feature_sets_combination}: {name}. Accuracy = {accuracy}\")\n",
    "    if top_model[\"Accuracy\"] > best_accuracy:\n",
    "        best_accuracy = top_model[\"Accuracy\"]\n",
    "        best_model = top_model\n",
    "        best_feature_set = feature_sets_combination\n",
    "        print(f\"New best model found! Accuracy = {accuracy}\")\n",
    "\n",
    "    # save results\n",
    "    top_models[\",\".join(feature_sets_combination)] = top_models_for_subset\n",
    "\n",
    "    print()\n",
    "\n",
    "\n",
    "print(f\"Best model: {best_model.name} with feature set {best_feature_set}\\nAccuracy = {best_accuracy}\")\n",
    "\n",
    "import pickle\n",
    "# save top_models\n",
    "with open(f\"../../data/processed/top_models_{GEO}.pickle\", \"wb\") as f:\n",
    "    pickle.dump(top_models, f)"
   ]
  },
  {
   "cell_type": "code",
   "execution_count": 18,
   "metadata": {},
   "outputs": [
    {
     "data": {
      "text/html": [
       "<div>\n",
       "<style scoped>\n",
       "    .dataframe tbody tr th:only-of-type {\n",
       "        vertical-align: middle;\n",
       "    }\n",
       "\n",
       "    .dataframe tbody tr th {\n",
       "        vertical-align: top;\n",
       "    }\n",
       "\n",
       "    .dataframe thead th {\n",
       "        text-align: right;\n",
       "    }\n",
       "</style>\n",
       "<table border=\"1\" class=\"dataframe\">\n",
       "  <thead>\n",
       "    <tr style=\"text-align: right;\">\n",
       "      <th></th>\n",
       "      <th>feature_set</th>\n",
       "      <th>top_model_name</th>\n",
       "      <th>top_model_accuracy</th>\n",
       "    </tr>\n",
       "  </thead>\n",
       "  <tbody>\n",
       "    <tr>\n",
       "      <th>208</th>\n",
       "      <td>(D), (B), (E), (F), (H)</td>\n",
       "      <td>ExtraTreesClassifier</td>\n",
       "      <td>0.935606</td>\n",
       "    </tr>\n",
       "    <tr>\n",
       "      <th>230</th>\n",
       "      <td>(C), (D), (B), (E), (G), (H)</td>\n",
       "      <td>ExtraTreesClassifier</td>\n",
       "      <td>0.928977</td>\n",
       "    </tr>\n",
       "    <tr>\n",
       "      <th>179</th>\n",
       "      <td>(C), (D), (E), (F), (H)</td>\n",
       "      <td>ExtraTreesClassifier</td>\n",
       "      <td>0.928030</td>\n",
       "    </tr>\n",
       "    <tr>\n",
       "      <th>149</th>\n",
       "      <td>(A), (B), (E), (H)</td>\n",
       "      <td>ExtraTreesClassifier</td>\n",
       "      <td>0.928030</td>\n",
       "    </tr>\n",
       "    <tr>\n",
       "      <th>84</th>\n",
       "      <td>(B), (E), (H)</td>\n",
       "      <td>ExtraTreesClassifier</td>\n",
       "      <td>0.927083</td>\n",
       "    </tr>\n",
       "    <tr>\n",
       "      <th>253</th>\n",
       "      <td>(D), (A), (B), (E), (F), (G), (H)</td>\n",
       "      <td>ExtraTreesClassifier</td>\n",
       "      <td>0.926136</td>\n",
       "    </tr>\n",
       "    <tr>\n",
       "      <th>199</th>\n",
       "      <td>(D), (A), (B), (E), (H)</td>\n",
       "      <td>ExtraTreesClassifier</td>\n",
       "      <td>0.926136</td>\n",
       "    </tr>\n",
       "    <tr>\n",
       "      <th>141</th>\n",
       "      <td>(D), (B), (F), (H)</td>\n",
       "      <td>ExtraTreesClassifier</td>\n",
       "      <td>0.926136</td>\n",
       "    </tr>\n",
       "    <tr>\n",
       "      <th>229</th>\n",
       "      <td>(C), (D), (B), (E), (F), (H)</td>\n",
       "      <td>ExtraTreesClassifier</td>\n",
       "      <td>0.925189</td>\n",
       "    </tr>\n",
       "    <tr>\n",
       "      <th>105</th>\n",
       "      <td>(C), (D), (F), (H)</td>\n",
       "      <td>ExtraTreesClassifier</td>\n",
       "      <td>0.925189</td>\n",
       "    </tr>\n",
       "  </tbody>\n",
       "</table>\n",
       "</div>"
      ],
      "text/plain": [
       "                           feature_set        top_model_name  \\\n",
       "208            (D), (B), (E), (F), (H)  ExtraTreesClassifier   \n",
       "230       (C), (D), (B), (E), (G), (H)  ExtraTreesClassifier   \n",
       "179            (C), (D), (E), (F), (H)  ExtraTreesClassifier   \n",
       "149                 (A), (B), (E), (H)  ExtraTreesClassifier   \n",
       "84                       (B), (E), (H)  ExtraTreesClassifier   \n",
       "253  (D), (A), (B), (E), (F), (G), (H)  ExtraTreesClassifier   \n",
       "199            (D), (A), (B), (E), (H)  ExtraTreesClassifier   \n",
       "141                 (D), (B), (F), (H)  ExtraTreesClassifier   \n",
       "229       (C), (D), (B), (E), (F), (H)  ExtraTreesClassifier   \n",
       "105                 (C), (D), (F), (H)  ExtraTreesClassifier   \n",
       "\n",
       "     top_model_accuracy  \n",
       "208            0.935606  \n",
       "230            0.928977  \n",
       "179            0.928030  \n",
       "149            0.928030  \n",
       "84             0.927083  \n",
       "253            0.926136  \n",
       "199            0.926136  \n",
       "141            0.926136  \n",
       "229            0.925189  \n",
       "105            0.925189  "
      ]
     },
     "execution_count": 18,
     "metadata": {},
     "output_type": "execute_result"
    }
   ],
   "source": [
    "import pickle\n",
    "top_models = pickle.load(open(f\"top_models_{GEO}.pickle\", \"rb\"))\n",
    "\n",
    "report = []\n",
    "\n",
    "feature_set_to_letter = {\n",
    "    \"tsne2_description_2D_\": \"(A)\",\n",
    "    \"tsne3_description_3D_\" : \"(B)\",\n",
    "    \"tsne2_comments_2D_\" : \"(C)\",\n",
    "    \"tsne3_comments_3D_\" : \"(D)\",\n",
    "    \"3gram09_\" : \"(E)\",\n",
    "    \"3gram10_\" : \"(F)\",\n",
    "    \"amenity005_\" : \"(G)\",\n",
    "    \"amenityall_\" : \"(H)\"\n",
    "}\n",
    "\n",
    "# iterate over keys and values\n",
    "for key, value in top_models.items():\n",
    "    top_model_name = value.iloc[0].name\n",
    "    top_model_accuracy = value.iloc[0][\"Accuracy\"]\n",
    "\n",
    "    report.append({\n",
    "        \"feature_set\": \", \".join([feature_set_to_letter[f] for f in key.split(\",\")]),\n",
    "        \"top_model_name\": top_model_name,\n",
    "        \"top_model_accuracy\": top_model_accuracy\n",
    "    })\n",
    "\n",
    "top = pd.DataFrame(report).sort_values(by=\"top_model_accuracy\", ascending=False)\n",
    "top.head(10)"
   ]
  },
  {
   "attachments": {},
   "cell_type": "markdown",
   "metadata": {},
   "source": [
    "Let's see which features appear the most in models that perform over 80% accuracy."
   ]
  },
  {
   "cell_type": "code",
   "execution_count": 19,
   "metadata": {},
   "outputs": [
    {
     "name": "stdout",
     "output_type": "stream",
     "text": [
      "There are 101 models above 90% accuracy\n"
     ]
    },
    {
     "data": {
      "text/plain": [
       "<AxesSubplot: xlabel='% of top models using feature set', ylabel='Feature set'>"
      ]
     },
     "execution_count": 19,
     "metadata": {},
     "output_type": "execute_result"
    },
    {
     "data": {
      "image/png": "[encoded data removed]",
      "text/plain": [
       "<Figure size 640x480 with 1 Axes>"
      ]
     },
     "metadata": {},
     "output_type": "display_data"
    }
   ],
   "source": [
    "# split feature_set into individual feature sets\n",
    "letters = [\"(A)\", \"(B)\", \"(C)\", \"(D)\", \"(E)\", \"(F)\", \"(G)\", \"(H)\"]\n",
    "top[\"feature_set_split\"] = top[\"feature_set\"].apply(lambda x: x.split(\", \"))\n",
    "for letter in [\"(A)\", \"(B)\", \"(C)\", \"(D)\", \"(E)\", \"(F)\", \"(G)\", \"(H)\"]:\n",
    "    top[letter] = top[\"feature_set_split\"].apply(lambda x: letter in x)\n",
    "\n",
    "# lets see what percent of the top models have each feature set (top models will be above 80% accuracy)\n",
    "with_accuracy = top[[\"top_model_accuracy\"] + letters]\n",
    "models_above_90_accuracy = with_accuracy[with_accuracy.top_model_accuracy > 0.9]\n",
    "print(f\"There are {models_above_90_accuracy.shape[0]} models above 90% accuracy\")\n",
    "feature_set_distr = models_above_90_accuracy.sum().drop(\"top_model_accuracy\").sort_values(ascending=False) / models_above_90_accuracy.shape[0]\n",
    "\n",
    "\n",
    "# convert back to feature set name\n",
    "# reverse feature_set_to_letter\n",
    "feature_set_to_letter = {v: k for k, v in feature_set_to_letter.items()}\n",
    "feature_set_distr.index = feature_set_distr.index.map(lambda x: feature_set_to_letter[x] + \" \" + x)\n",
    "feature_set_distr.plot(kind=\"barh\", xlabel=\"% of top models using feature set\", ylabel=\"Feature set\")"
   ]
  },
  {
   "attachments": {},
   "cell_type": "markdown",
   "metadata": {},
   "source": [
    "Let's grab the best subset, and hyperparameter tune the best model!"
   ]
  },
  {
   "cell_type": "code",
   "execution_count": 20,
   "metadata": {},
   "outputs": [
    {
     "data": {
      "text/plain": [
       "['tsne3_comments_3D_',\n",
       " 'tsne3_description_3D_',\n",
       " '3gram09_',\n",
       " '3gram10_',\n",
       " 'amenityall_']"
      ]
     },
     "execution_count": 20,
     "metadata": {},
     "output_type": "execute_result"
    }
   ],
   "source": [
    "top_feature_set = top.reset_index().iloc[0].feature_set.split(\", \")\n",
    "top_feature_set = [feature_set_to_letter[f] for f in top_feature_set]\n",
    "top_feature_set"
   ]
  },
  {
   "cell_type": "code",
   "execution_count": 21,
   "metadata": {},
   "outputs": [
    {
     "name": "stdout",
     "output_type": "stream",
     "text": [
      "Best feature set:\n",
      "['tsne3_comments_3D_0', 'tsne3_comments_3D_1', 'tsne3_comments_3D_2', 'tsne3_description_3D_0', 'tsne3_description_3D_1', 'tsne3_description_3D_2', '3gram09_would_not_recommend', '3gram09_no_toilet_paper', '3gram09_not_recommend_staying', '3gram09_per_night_not', '3gram09_could_not_access', '3gram09_phone_call_text', '3gram09_very_old_not', '3gram09_call_text_message', '3gram09_left_first_night', '3gram09_old_not_well', '3gram09_worse_experience_ever', '3gram09_paid_two_night', '3gram09_refund_second_night', '3gram09_expected_based_description', '3gram09_not_really_clean', '3gram09_need_deep_cleaning', '3gram09_got_no_response', '3gram09_toilet_paper_buy', '3gram09_never_met_host', '3gram09_property_management_company', '3gram09_nothing_like_picture', '3gram09_freezer_not_work', '3gram09_obviously_not_cleaned', '3gram09_shower_curtain_covered', '3gram09_never_responded_message', '3gram09_not_clean_arrived', '3gram09_not_feel_comfortable', '3gram09_very_bad_shape', '3gram09_start_good_thing', '3gram09_got_no_answer', '3gram09_time_opened_door', '3gram09_spend_lot_time', '3gram09_write_negative_review', '3gram09_need_major_overhaul', '3gram09_living_room_couch', '3gram09_sleep_bedroom_door', '3gram09_guest_not_able', '3gram09_take_cold_shower', '3gram09_place_sleep_10', '3gram09_staying_another_unit', '3gram09_told_cleaning_lady', '3gram09_big_issue_u', '3gram09_let_start_saying', '3gram09_felt_compelled_write', '3gram10_would_not_recommend', '3gram10_no_toilet_paper', 'amenityall_kitchen', 'amenityall_garden', 'amenityall_microwave', 'amenityall_backyard', 'amenityall_iron', 'amenityall_shampoo', 'amenityall_wifi', 'amenityall_pool', 'amenityall_heating', 'amenityall_keypad', 'amenityall_refrigerator', 'amenityall_dog', 'amenityall_cat', 'amenityall_tv', 'amenityall_family', 'amenityall_internet', 'amenityall_patio', 'amenityall_washer', 'amenityall_dryer', 'amenityall_balcony', 'amenityall_stove', 'amenityall_breakfast', 'amenityall_dishwasher', 'amenityall_silverware', 'amenityall_bathtub', 'amenityall_lockbox', 'amenityall_crib', 'amenityall_elevator', 'amenityall_gym', 'amenityall_oven', 'amenityall_toilet', 'label']\n"
     ]
    }
   ],
   "source": [
    "columns_in_best_feature_set = [c for c in df.columns if any([c.startswith(f) for f in top_feature_set])]\n",
    "columns_in_best_feature_set.append(\"label\")\n",
    "\n",
    "df_best_subset = df[columns_in_best_feature_set]\n",
    "\n",
    "print(\"Best feature set:\")\n",
    "print(columns_in_best_feature_set)\n"
   ]
  },
  {
   "cell_type": "code",
   "execution_count": 22,
   "metadata": {},
   "outputs": [
    {
     "name": "stdout",
     "output_type": "stream",
     "text": [
      "Fitting 5 folds for each of 108 candidates, totalling 540 fits\n",
      "Best parameters:\n",
      "{'max_depth': None, 'max_features': 'sqrt', 'min_samples_leaf': 1, 'min_samples_split': 2, 'n_estimators': 200}\n",
      "Accuracy: 0.93\n"
     ]
    },
    {
     "data": {
      "image/png": "[encoded data removed]",
      "text/plain": [
       "<Figure size 640x480 with 2 Axes>"
      ]
     },
     "metadata": {},
     "output_type": "display_data"
    }
   ],
   "source": [
    "# load ExtraTreesClassifier\n",
    "from sklearn.ensemble import ExtraTreesClassifier\n",
    "\n",
    "# apply GridSearchCV to find the best parameters\n",
    "from sklearn.model_selection import GridSearchCV\n",
    "\n",
    "params = {\n",
    "    'n_estimators': [100, 200],\n",
    "    'max_depth': [None, 5, 10],\n",
    "    'min_samples_split': [2, 5],\n",
    "    'min_samples_leaf': [1, 2, 5],\n",
    "    'max_features': ['auto', 'sqrt', 'log2'],\n",
    "}\n",
    "\n",
    "clf = GridSearchCV(ExtraTreesClassifier(), params, cv=5, n_jobs=-1, verbose=1)\n",
    "\n",
    "# oversample and get train/test split\n",
    "X, y = oversample.fit_resample(df_best_subset.drop(columns=[\"label\"]), df_best_subset[\"label\"])\n",
    "X_train, X_test, y_train, y_test = train_test_split(X, y, test_size=0.2, random_state=42)\n",
    "clf.fit(X_train, y_train)\n",
    "best_clf = clf.best_estimator_\n",
    "\n",
    "# print the best parameters\n",
    "print(\"Best parameters:\")\n",
    "print(clf.best_params_)\n",
    "\n",
    "# predict\n",
    "y_pred = best_clf.predict(X_test)\n",
    "\n",
    "# evaluate\n",
    "from sklearn.metrics import accuracy_score\n",
    "\n",
    "print(\"Accuracy:\", round(accuracy_score(y_test, y_pred), 2))\n",
    "\n",
    "# plot a confusion matrix\n",
    "from sklearn.metrics import ConfusionMatrixDisplay\n",
    "import matplotlib.pyplot as plt\n",
    "cm = ConfusionMatrixDisplay.from_predictions(y_test, y_pred)\n",
    "plt.show()"
   ]
  },
  {
   "attachments": {},
   "cell_type": "markdown",
   "metadata": {},
   "source": [
    "# Save the model along with functions to generate features"
   ]
  },
  {
   "cell_type": "code",
   "execution_count": 32,
   "metadata": {},
   "outputs": [],
   "source": [
    "pickle.dump({\n",
    "    \"best_clf\": best_clf,\n",
    "    \"best_feature_set\": columns_in_best_feature_set,\n",
    "}, open(f\"best_clf_{GEO}.pickle\", \"wb\"))"
   ]
  },
  {
   "cell_type": "code",
   "execution_count": null,
   "metadata": {},
   "outputs": [],
   "source": []
  }
 ],
 "metadata": {
  "kernelspec": {
   "display_name": "venv",
   "language": "python",
   "name": "python3"
  },
  "language_info": {
   "codemirror_mode": {
    "name": "ipython",
    "version": 3
   },
   "file_extension": ".py",
   "mimetype": "text/x-python",
   "name": "python",
   "nbconvert_exporter": "python",
   "pygments_lexer": "ipython3",
   "version": "3.10.4"
  },
  "orig_nbformat": 4,
  "vscode": {
   "interpreter": {
    "hash": "cf086def782804284d24881115c612afdcc8ea791299ba67855f0c7f1a9ccc5a"
   }
  }
 },
 "nbformat": 4,
 "nbformat_minor": 2
}
