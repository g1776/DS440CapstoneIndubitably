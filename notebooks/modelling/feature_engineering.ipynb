{
 "cells": [
  {
   "attachments": {},
   "cell_type": "markdown",
   "metadata": {},
   "source": [
    "## Feature Engineering on the processed dataset"
   ]
  },
  {
   "cell_type": "code",
   "execution_count": 52,
   "metadata": {},
   "outputs": [],
   "source": [
    "import pandas as pd\n",
    "import numpy as np\n",
    "import matplotlib.pyplot as plt\n",
    "import plotly.express as px"
   ]
  },
  {
   "cell_type": "code",
   "execution_count": 53,
   "metadata": {},
   "outputs": [
    {
     "name": "stdout",
     "output_type": "stream",
     "text": [
      "(978, 8)\n"
     ]
    },
    {
     "data": {
      "text/html": [
       "<div>\n",
       "<style scoped>\n",
       "    .dataframe tbody tr th:only-of-type {\n",
       "        vertical-align: middle;\n",
       "    }\n",
       "\n",
       "    .dataframe tbody tr th {\n",
       "        vertical-align: top;\n",
       "    }\n",
       "\n",
       "    .dataframe thead th {\n",
       "        text-align: right;\n",
       "    }\n",
       "</style>\n",
       "<table border=\"1\" class=\"dataframe\">\n",
       "  <thead>\n",
       "    <tr style=\"text-align: right;\">\n",
       "      <th></th>\n",
       "      <th>review_id</th>\n",
       "      <th>listing_id</th>\n",
       "      <th>description</th>\n",
       "      <th>comments</th>\n",
       "      <th>sentiment</th>\n",
       "      <th>label</th>\n",
       "      <th>name</th>\n",
       "      <th>amenities</th>\n",
       "    </tr>\n",
       "  </thead>\n",
       "  <tbody>\n",
       "    <tr>\n",
       "      <th>0</th>\n",
       "      <td>83097</td>\n",
       "      <td>5456</td>\n",
       "      <td>[fabulous, location, walking, convention, cent...</td>\n",
       "      <td>[sylvia, very, nice, informal, relaxed, arrive...</td>\n",
       "      <td>4.333333</td>\n",
       "      <td>good</td>\n",
       "      <td>['walk', '6th', 'rainey', 'st', 'convention', ...</td>\n",
       "      <td>['TV', 'Wifi', 'Air conditioning', 'Kitchen', ...</td>\n",
       "    </tr>\n",
       "    <tr>\n",
       "      <th>1</th>\n",
       "      <td>133337</td>\n",
       "      <td>5456</td>\n",
       "      <td>[fabulous, location, walking, convention, cent...</td>\n",
       "      <td>[sylvia, picked, airport, gave, beautiful, eve...</td>\n",
       "      <td>4.000000</td>\n",
       "      <td>good</td>\n",
       "      <td>['walk', '6th', 'rainey', 'st', 'convention', ...</td>\n",
       "      <td>['TV', 'Wifi', 'Air conditioning', 'Kitchen', ...</td>\n",
       "    </tr>\n",
       "    <tr>\n",
       "      <th>2</th>\n",
       "      <td>150928</td>\n",
       "      <td>5456</td>\n",
       "      <td>[fabulous, location, walking, convention, cent...</td>\n",
       "      <td>[lovely, time, enjoyed, apartment, clean, spac...</td>\n",
       "      <td>3.000000</td>\n",
       "      <td>good</td>\n",
       "      <td>['walk', '6th', 'rainey', 'st', 'convention', ...</td>\n",
       "      <td>['TV', 'Wifi', 'Air conditioning', 'Kitchen', ...</td>\n",
       "    </tr>\n",
       "    <tr>\n",
       "      <th>3</th>\n",
       "      <td>2706775</td>\n",
       "      <td>5456</td>\n",
       "      <td>[fabulous, location, walking, convention, cent...</td>\n",
       "      <td>[sylvia, excellent, host, stayed, touch, made,...</td>\n",
       "      <td>4.500000</td>\n",
       "      <td>good</td>\n",
       "      <td>['walk', '6th', 'rainey', 'st', 'convention', ...</td>\n",
       "      <td>['TV', 'Wifi', 'Air conditioning', 'Kitchen', ...</td>\n",
       "    </tr>\n",
       "    <tr>\n",
       "      <th>4</th>\n",
       "      <td>8602878</td>\n",
       "      <td>5456</td>\n",
       "      <td>[fabulous, location, walking, convention, cent...</td>\n",
       "      <td>[place, cute, little, self, contained, cottage...</td>\n",
       "      <td>4.000000</td>\n",
       "      <td>good</td>\n",
       "      <td>['walk', '6th', 'rainey', 'st', 'convention', ...</td>\n",
       "      <td>['TV', 'Wifi', 'Air conditioning', 'Kitchen', ...</td>\n",
       "    </tr>\n",
       "  </tbody>\n",
       "</table>\n",
       "</div>"
      ],
      "text/plain": [
       "   review_id  listing_id                                        description  \\\n",
       "0      83097        5456  [fabulous, location, walking, convention, cent...   \n",
       "1     133337        5456  [fabulous, location, walking, convention, cent...   \n",
       "2     150928        5456  [fabulous, location, walking, convention, cent...   \n",
       "3    2706775        5456  [fabulous, location, walking, convention, cent...   \n",
       "4    8602878        5456  [fabulous, location, walking, convention, cent...   \n",
       "\n",
       "                                            comments  sentiment label  \\\n",
       "0  [sylvia, very, nice, informal, relaxed, arrive...   4.333333  good   \n",
       "1  [sylvia, picked, airport, gave, beautiful, eve...   4.000000  good   \n",
       "2  [lovely, time, enjoyed, apartment, clean, spac...   3.000000  good   \n",
       "3  [sylvia, excellent, host, stayed, touch, made,...   4.500000  good   \n",
       "4  [place, cute, little, self, contained, cottage...   4.000000  good   \n",
       "\n",
       "                                                name  \\\n",
       "0  ['walk', '6th', 'rainey', 'st', 'convention', ...   \n",
       "1  ['walk', '6th', 'rainey', 'st', 'convention', ...   \n",
       "2  ['walk', '6th', 'rainey', 'st', 'convention', ...   \n",
       "3  ['walk', '6th', 'rainey', 'st', 'convention', ...   \n",
       "4  ['walk', '6th', 'rainey', 'st', 'convention', ...   \n",
       "\n",
       "                                           amenities  \n",
       "0  ['TV', 'Wifi', 'Air conditioning', 'Kitchen', ...  \n",
       "1  ['TV', 'Wifi', 'Air conditioning', 'Kitchen', ...  \n",
       "2  ['TV', 'Wifi', 'Air conditioning', 'Kitchen', ...  \n",
       "3  ['TV', 'Wifi', 'Air conditioning', 'Kitchen', ...  \n",
       "4  ['TV', 'Wifi', 'Air conditioning', 'Kitchen', ...  "
      ]
     },
     "execution_count": 53,
     "metadata": {},
     "output_type": "execute_result"
    }
   ],
   "source": [
    "# Read in the data\n",
    "GEO = \"texas\"\n",
    "\n",
    "if isinstance(GEO, str):\n",
    "    df = pd.read_csv(f\"../../data/processed/{GEO}_processed.csv\")\n",
    "elif isinstance(GEO, list):\n",
    "    dfs = []\n",
    "    for geo in GEO:\n",
    "        df = pd.read_csv(f\"../../data/processed/{geo}_processed.csv\")\n",
    "        dfs.append(df)\n",
    "    df = pd.concat(dfs)\n",
    "\n",
    "df.description = df.description.apply(lambda x: eval(x))\n",
    "df.comments = df.comments.apply(lambda x: eval(x))\n",
    "\n",
    "print(df.shape)\n",
    "df.head()"
   ]
  },
  {
   "attachments": {},
   "cell_type": "markdown",
   "metadata": {},
   "source": [
    "### Distribution of labels"
   ]
  },
  {
   "attachments": {},
   "cell_type": "markdown",
   "metadata": {},
   "source": [
    "First, let's look at the distribution of labels in the processed dataset."
   ]
  },
  {
   "cell_type": "code",
   "execution_count": 54,
   "metadata": {},
   "outputs": [
    {
     "name": "stdout",
     "output_type": "stream",
     "text": [
      "mbad: 7.36%, mgood: 6.54%, mbad or mgood: 13.91%\n"
     ]
    },
    {
     "data": {
      "application/vnd.plotly.v1+json": {
       "config": {
        "plotlyServerURL": "https://plot.ly"
       },
       "data": [
        {
         "alignmentgroup": "True",
         "hovertemplate": "Label=%{x}<br>Count=%{y}<extra></extra>",
         "legendgroup": "",
         "marker": {
          "color": "#636efa",
          "pattern": {
           "shape": ""
          }
         },
         "name": "",
         "offsetgroup": "",
         "orientation": "v",
         "showlegend": false,
         "textposition": "auto",
         "type": "bar",
         "x": [
          "good",
          "mbad",
          "mgood",
          "bad"
         ],
         "xaxis": "x",
         "y": [
          813,
          72,
          64,
          29
         ],
         "yaxis": "y"
        }
       ],
       "layout": {
        "barmode": "relative",
        "legend": {
         "tracegroupgap": 0
        },
        "template": {
         "data": {
          "bar": [
           {
            "error_x": {
             "color": "#2a3f5f"
            },
            "error_y": {
             "color": "#2a3f5f"
            },
            "marker": {
             "line": {
              "color": "#E5ECF6",
              "width": 0.5
             },
             "pattern": {
              "fillmode": "overlay",
              "size": 10,
              "solidity": 0.2
             }
            },
            "type": "bar"
           }
          ],
          "barpolar": [
           {
            "marker": {
             "line": {
              "color": "#E5ECF6",
              "width": 0.5
             },
             "pattern": {
              "fillmode": "overlay",
              "size": 10,
              "solidity": 0.2
             }
            },
            "type": "barpolar"
           }
          ],
          "carpet": [
           {
            "aaxis": {
             "endlinecolor": "#2a3f5f",
             "gridcolor": "white",
             "linecolor": "white",
             "minorgridcolor": "white",
             "startlinecolor": "#2a3f5f"
            },
            "baxis": {
             "endlinecolor": "#2a3f5f",
             "gridcolor": "white",
             "linecolor": "white",
             "minorgridcolor": "white",
             "startlinecolor": "#2a3f5f"
            },
            "type": "carpet"
           }
          ],
          "choropleth": [
           {
            "colorbar": {
             "outlinewidth": 0,
             "ticks": ""
            },
            "type": "choropleth"
           }
          ],
          "contour": [
           {
            "colorbar": {
             "outlinewidth": 0,
             "ticks": ""
            },
            "colorscale": [
             [
              0,
              "#0d0887"
             ],
             [
              0.1111111111111111,
              "#46039f"
             ],
             [
              0.2222222222222222,
              "#7201a8"
             ],
             [
              0.3333333333333333,
              "#9c179e"
             ],
             [
              0.4444444444444444,
              "#bd3786"
             ],
             [
              0.5555555555555556,
              "#d8576b"
             ],
             [
              0.6666666666666666,
              "#ed7953"
             ],
             [
              0.7777777777777778,
              "#fb9f3a"
             ],
             [
              0.8888888888888888,
              "#fdca26"
             ],
             [
              1,
              "#f0f921"
             ]
            ],
            "type": "contour"
           }
          ],
          "contourcarpet": [
           {
            "colorbar": {
             "outlinewidth": 0,
             "ticks": ""
            },
            "type": "contourcarpet"
           }
          ],
          "heatmap": [
           {
            "colorbar": {
             "outlinewidth": 0,
             "ticks": ""
            },
            "colorscale": [
             [
              0,
              "#0d0887"
             ],
             [
              0.1111111111111111,
              "#46039f"
             ],
             [
              0.2222222222222222,
              "#7201a8"
             ],
             [
              0.3333333333333333,
              "#9c179e"
             ],
             [
              0.4444444444444444,
              "#bd3786"
             ],
             [
              0.5555555555555556,
              "#d8576b"
             ],
             [
              0.6666666666666666,
              "#ed7953"
             ],
             [
              0.7777777777777778,
              "#fb9f3a"
             ],
             [
              0.8888888888888888,
              "#fdca26"
             ],
             [
              1,
              "#f0f921"
             ]
            ],
            "type": "heatmap"
           }
          ],
          "heatmapgl": [
           {
            "colorbar": {
             "outlinewidth": 0,
             "ticks": ""
            },
            "colorscale": [
             [
              0,
              "#0d0887"
             ],
             [
              0.1111111111111111,
              "#46039f"
             ],
             [
              0.2222222222222222,
              "#7201a8"
             ],
             [
              0.3333333333333333,
              "#9c179e"
             ],
             [
              0.4444444444444444,
              "#bd3786"
             ],
             [
              0.5555555555555556,
              "#d8576b"
             ],
             [
              0.6666666666666666,
              "#ed7953"
             ],
             [
              0.7777777777777778,
              "#fb9f3a"
             ],
             [
              0.8888888888888888,
              "#fdca26"
             ],
             [
              1,
              "#f0f921"
             ]
            ],
            "type": "heatmapgl"
           }
          ],
          "histogram": [
           {
            "marker": {
             "pattern": {
              "fillmode": "overlay",
              "size": 10,
              "solidity": 0.2
             }
            },
            "type": "histogram"
           }
          ],
          "histogram2d": [
           {
            "colorbar": {
             "outlinewidth": 0,
             "ticks": ""
            },
            "colorscale": [
             [
              0,
              "#0d0887"
             ],
             [
              0.1111111111111111,
              "#46039f"
             ],
             [
              0.2222222222222222,
              "#7201a8"
             ],
             [
              0.3333333333333333,
              "#9c179e"
             ],
             [
              0.4444444444444444,
              "#bd3786"
             ],
             [
              0.5555555555555556,
              "#d8576b"
             ],
             [
              0.6666666666666666,
              "#ed7953"
             ],
             [
              0.7777777777777778,
              "#fb9f3a"
             ],
             [
              0.8888888888888888,
              "#fdca26"
             ],
             [
              1,
              "#f0f921"
             ]
            ],
            "type": "histogram2d"
           }
          ],
          "histogram2dcontour": [
           {
            "colorbar": {
             "outlinewidth": 0,
             "ticks": ""
            },
            "colorscale": [
             [
              0,
              "#0d0887"
             ],
             [
              0.1111111111111111,
              "#46039f"
             ],
             [
              0.2222222222222222,
              "#7201a8"
             ],
             [
              0.3333333333333333,
              "#9c179e"
             ],
             [
              0.4444444444444444,
              "#bd3786"
             ],
             [
              0.5555555555555556,
              "#d8576b"
             ],
             [
              0.6666666666666666,
              "#ed7953"
             ],
             [
              0.7777777777777778,
              "#fb9f3a"
             ],
             [
              0.8888888888888888,
              "#fdca26"
             ],
             [
              1,
              "#f0f921"
             ]
            ],
            "type": "histogram2dcontour"
           }
          ],
          "mesh3d": [
           {
            "colorbar": {
             "outlinewidth": 0,
             "ticks": ""
            },
            "type": "mesh3d"
           }
          ],
          "parcoords": [
           {
            "line": {
             "colorbar": {
              "outlinewidth": 0,
              "ticks": ""
             }
            },
            "type": "parcoords"
           }
          ],
          "pie": [
           {
            "automargin": true,
            "type": "pie"
           }
          ],
          "scatter": [
           {
            "fillpattern": {
             "fillmode": "overlay",
             "size": 10,
             "solidity": 0.2
            },
            "type": "scatter"
           }
          ],
          "scatter3d": [
           {
            "line": {
             "colorbar": {
              "outlinewidth": 0,
              "ticks": ""
             }
            },
            "marker": {
             "colorbar": {
              "outlinewidth": 0,
              "ticks": ""
             }
            },
            "type": "scatter3d"
           }
          ],
          "scattercarpet": [
           {
            "marker": {
             "colorbar": {
              "outlinewidth": 0,
              "ticks": ""
             }
            },
            "type": "scattercarpet"
           }
          ],
          "scattergeo": [
           {
            "marker": {
             "colorbar": {
              "outlinewidth": 0,
              "ticks": ""
             }
            },
            "type": "scattergeo"
           }
          ],
          "scattergl": [
           {
            "marker": {
             "colorbar": {
              "outlinewidth": 0,
              "ticks": ""
             }
            },
            "type": "scattergl"
           }
          ],
          "scattermapbox": [
           {
            "marker": {
             "colorbar": {
              "outlinewidth": 0,
              "ticks": ""
             }
            },
            "type": "scattermapbox"
           }
          ],
          "scatterpolar": [
           {
            "marker": {
             "colorbar": {
              "outlinewidth": 0,
              "ticks": ""
             }
            },
            "type": "scatterpolar"
           }
          ],
          "scatterpolargl": [
           {
            "marker": {
             "colorbar": {
              "outlinewidth": 0,
              "ticks": ""
             }
            },
            "type": "scatterpolargl"
           }
          ],
          "scatterternary": [
           {
            "marker": {
             "colorbar": {
              "outlinewidth": 0,
              "ticks": ""
             }
            },
            "type": "scatterternary"
           }
          ],
          "surface": [
           {
            "colorbar": {
             "outlinewidth": 0,
             "ticks": ""
            },
            "colorscale": [
             [
              0,
              "#0d0887"
             ],
             [
              0.1111111111111111,
              "#46039f"
             ],
             [
              0.2222222222222222,
              "#7201a8"
             ],
             [
              0.3333333333333333,
              "#9c179e"
             ],
             [
              0.4444444444444444,
              "#bd3786"
             ],
             [
              0.5555555555555556,
              "#d8576b"
             ],
             [
              0.6666666666666666,
              "#ed7953"
             ],
             [
              0.7777777777777778,
              "#fb9f3a"
             ],
             [
              0.8888888888888888,
              "#fdca26"
             ],
             [
              1,
              "#f0f921"
             ]
            ],
            "type": "surface"
           }
          ],
          "table": [
           {
            "cells": {
             "fill": {
              "color": "#EBF0F8"
             },
             "line": {
              "color": "white"
             }
            },
            "header": {
             "fill": {
              "color": "#C8D4E3"
             },
             "line": {
              "color": "white"
             }
            },
            "type": "table"
           }
          ]
         },
         "layout": {
          "annotationdefaults": {
           "arrowcolor": "#2a3f5f",
           "arrowhead": 0,
           "arrowwidth": 1
          },
          "autotypenumbers": "strict",
          "coloraxis": {
           "colorbar": {
            "outlinewidth": 0,
            "ticks": ""
           }
          },
          "colorscale": {
           "diverging": [
            [
             0,
             "#8e0152"
            ],
            [
             0.1,
             "#c51b7d"
            ],
            [
             0.2,
             "#de77ae"
            ],
            [
             0.3,
             "#f1b6da"
            ],
            [
             0.4,
             "#fde0ef"
            ],
            [
             0.5,
             "#f7f7f7"
            ],
            [
             0.6,
             "#e6f5d0"
            ],
            [
             0.7,
             "#b8e186"
            ],
            [
             0.8,
             "#7fbc41"
            ],
            [
             0.9,
             "#4d9221"
            ],
            [
             1,
             "#276419"
            ]
           ],
           "sequential": [
            [
             0,
             "#0d0887"
            ],
            [
             0.1111111111111111,
             "#46039f"
            ],
            [
             0.2222222222222222,
             "#7201a8"
            ],
            [
             0.3333333333333333,
             "#9c179e"
            ],
            [
             0.4444444444444444,
             "#bd3786"
            ],
            [
             0.5555555555555556,
             "#d8576b"
            ],
            [
             0.6666666666666666,
             "#ed7953"
            ],
            [
             0.7777777777777778,
             "#fb9f3a"
            ],
            [
             0.8888888888888888,
             "#fdca26"
            ],
            [
             1,
             "#f0f921"
            ]
           ],
           "sequentialminus": [
            [
             0,
             "#0d0887"
            ],
            [
             0.1111111111111111,
             "#46039f"
            ],
            [
             0.2222222222222222,
             "#7201a8"
            ],
            [
             0.3333333333333333,
             "#9c179e"
            ],
            [
             0.4444444444444444,
             "#bd3786"
            ],
            [
             0.5555555555555556,
             "#d8576b"
            ],
            [
             0.6666666666666666,
             "#ed7953"
            ],
            [
             0.7777777777777778,
             "#fb9f3a"
            ],
            [
             0.8888888888888888,
             "#fdca26"
            ],
            [
             1,
             "#f0f921"
            ]
           ]
          },
          "colorway": [
           "#636efa",
           "#EF553B",
           "#00cc96",
           "#ab63fa",
           "#FFA15A",
           "#19d3f3",
           "#FF6692",
           "#B6E880",
           "#FF97FF",
           "#FECB52"
          ],
          "font": {
           "color": "#2a3f5f"
          },
          "geo": {
           "bgcolor": "white",
           "lakecolor": "white",
           "landcolor": "#E5ECF6",
           "showlakes": true,
           "showland": true,
           "subunitcolor": "white"
          },
          "hoverlabel": {
           "align": "left"
          },
          "hovermode": "closest",
          "mapbox": {
           "style": "light"
          },
          "paper_bgcolor": "white",
          "plot_bgcolor": "#E5ECF6",
          "polar": {
           "angularaxis": {
            "gridcolor": "white",
            "linecolor": "white",
            "ticks": ""
           },
           "bgcolor": "#E5ECF6",
           "radialaxis": {
            "gridcolor": "white",
            "linecolor": "white",
            "ticks": ""
           }
          },
          "scene": {
           "xaxis": {
            "backgroundcolor": "#E5ECF6",
            "gridcolor": "white",
            "gridwidth": 2,
            "linecolor": "white",
            "showbackground": true,
            "ticks": "",
            "zerolinecolor": "white"
           },
           "yaxis": {
            "backgroundcolor": "#E5ECF6",
            "gridcolor": "white",
            "gridwidth": 2,
            "linecolor": "white",
            "showbackground": true,
            "ticks": "",
            "zerolinecolor": "white"
           },
           "zaxis": {
            "backgroundcolor": "#E5ECF6",
            "gridcolor": "white",
            "gridwidth": 2,
            "linecolor": "white",
            "showbackground": true,
            "ticks": "",
            "zerolinecolor": "white"
           }
          },
          "shapedefaults": {
           "line": {
            "color": "#2a3f5f"
           }
          },
          "ternary": {
           "aaxis": {
            "gridcolor": "white",
            "linecolor": "white",
            "ticks": ""
           },
           "baxis": {
            "gridcolor": "white",
            "linecolor": "white",
            "ticks": ""
           },
           "bgcolor": "#E5ECF6",
           "caxis": {
            "gridcolor": "white",
            "linecolor": "white",
            "ticks": ""
           }
          },
          "title": {
           "x": 0.05
          },
          "xaxis": {
           "automargin": true,
           "gridcolor": "white",
           "linecolor": "white",
           "ticks": "",
           "title": {
            "standoff": 15
           },
           "zerolinecolor": "white",
           "zerolinewidth": 2
          },
          "yaxis": {
           "automargin": true,
           "gridcolor": "white",
           "linecolor": "white",
           "ticks": "",
           "title": {
            "standoff": 15
           },
           "zerolinecolor": "white",
           "zerolinewidth": 2
          }
         }
        },
        "title": {
         "text": "Distribution of labels (GEO=texas)"
        },
        "xaxis": {
         "anchor": "y",
         "domain": [
          0,
          1
         ],
         "title": {
          "text": "Label"
         }
        },
        "yaxis": {
         "anchor": "x",
         "domain": [
          0,
          1
         ],
         "title": {
          "text": "Count"
         }
        }
       }
      }
     },
     "metadata": {},
     "output_type": "display_data"
    }
   ],
   "source": [
    "mbad_pcnt = df[df.label == \"mbad\"].shape[0] / df.shape[0]\n",
    "mgood_pcnt = df[df.label == \"mgood\"].shape[0] / df.shape[0]\n",
    "mbad_or_mgood_pcnt = df[df.label.isin([\"mbad\", \"mgood\"])].shape[0] / df.shape[0]\n",
    "print(\n",
    "    f\"mbad: {mbad_pcnt:.2%}, mgood: {mgood_pcnt:.2%}, mbad or mgood: {mbad_or_mgood_pcnt:.2%}\"\n",
    ")\n",
    "\n",
    "bar_vals = df.label.value_counts()\n",
    "\n",
    "fig = px.bar(\n",
    "    bar_vals,\n",
    "    x=bar_vals.index,\n",
    "    y=bar_vals.values,\n",
    "    title=f\"Distribution of labels (GEO={GEO})\",\n",
    "    labels={\"index\": \"Label\", \"y\": \"Count\"}\n",
    ")\n",
    "\n",
    "fig.show()"
   ]
  },
  {
   "attachments": {},
   "cell_type": "markdown",
   "metadata": {},
   "source": [
    "### Ngrams"
   ]
  },
  {
   "attachments": {},
   "cell_type": "markdown",
   "metadata": {},
   "source": [
    "What are the most common ngrams for the different types of reviews? What are the most common overlaps?"
   ]
  },
  {
   "cell_type": "code",
   "execution_count": 55,
   "metadata": {},
   "outputs": [],
   "source": [
    "def get_consecutive_ngrams(review, n) -> list:\n",
    "    \"\"\"Helper function to get ngrams from a review.\n",
    "\n",
    "    Args:\n",
    "        review (str): The review to get ngrams from.\n",
    "        n (int): The number of ngrams to get.\n",
    "\n",
    "    Returns:\n",
    "        list: the list of ngrams, joined by underscores.\n",
    "    \"\"\"\n",
    "    if isinstance(review, str):\n",
    "        review = review.split(\"\")\n",
    "\n",
    "    return [\"_\".join(review[i:i+n]) for i in range(len(review)-n-1)]\n",
    "\n",
    "def series_to_ngrams(series: pd.Series, N):\n",
    "    n_grams = series.apply(lambda x: get_consecutive_ngrams(x, N))\n",
    "    return n_grams.explode()\n",
    "\n",
    "def get_exclusive_sizes(good: set, bad: set, mgood: set, mbad: set) -> dict:\n",
    "    \"\"\"Get the sizes of the exclusive sets\"\"\"\n",
    "\n",
    "    only_good = good - bad - mgood - mbad\n",
    "    only_bad = bad - good - mgood - mbad\n",
    "    only_mgood = mgood - good - bad - mbad\n",
    "    only_mbad = mbad - good - bad - mgood\n",
    "    \n",
    "    return {\n",
    "        \"good\": len(only_good),\n",
    "        \"bad\": len(only_bad),\n",
    "        \"mgood\": len(only_mgood),\n",
    "        \"mbad\": len(only_mbad)\n",
    "    }"
   ]
  },
  {
   "attachments": {},
   "cell_type": "markdown",
   "metadata": {},
   "source": [
    "We can look at the number of unique values to each label for different values of N on a line chart."
   ]
  },
  {
   "cell_type": "code",
   "execution_count": 56,
   "metadata": {},
   "outputs": [
    {
     "data": {
      "application/vnd.plotly.v1+json": {
       "config": {
        "plotlyServerURL": "https://plot.ly"
       },
       "data": [
        {
         "hovertemplate": "label=bad<br>N-gram size=%{x}<br>Unique # of n-grams=%{y}<extra></extra>",
         "legendgroup": "bad",
         "line": {
          "color": "#636efa",
          "dash": "solid"
         },
         "marker": {
          "symbol": "circle"
         },
         "mode": "markers+lines",
         "name": "bad",
         "orientation": "v",
         "showlegend": true,
         "type": "scatter",
         "x": [
          1,
          2,
          3,
          4,
          5,
          6
         ],
         "xaxis": "x",
         "y": [
          214,
          2751,
          3538,
          3589,
          3566,
          3537
         ],
         "yaxis": "y"
        },
        {
         "hovertemplate": "label=mgood<br>N-gram size=%{x}<br>Unique # of n-grams=%{y}<extra></extra>",
         "legendgroup": "mgood",
         "line": {
          "color": "#EF553B",
          "dash": "solid"
         },
         "marker": {
          "symbol": "circle"
         },
         "mode": "markers+lines",
         "name": "mgood",
         "orientation": "v",
         "showlegend": true,
         "type": "scatter",
         "x": [
          1,
          2,
          3,
          4,
          5,
          6
         ],
         "xaxis": "x",
         "y": [
          208,
          3109,
          4303,
          4403,
          4364,
          4303
         ],
         "yaxis": "y"
        },
        {
         "hovertemplate": "label=mbad<br>N-gram size=%{x}<br>Unique # of n-grams=%{y}<extra></extra>",
         "legendgroup": "mbad",
         "line": {
          "color": "#00cc96",
          "dash": "solid"
         },
         "marker": {
          "symbol": "circle"
         },
         "mode": "markers+lines",
         "name": "mbad",
         "orientation": "v",
         "showlegend": true,
         "type": "scatter",
         "x": [
          1,
          2,
          3,
          4,
          5,
          6
         ],
         "xaxis": "x",
         "y": [
          391,
          4875,
          6352,
          6450,
          6386,
          6315
         ],
         "yaxis": "y"
        }
       ],
       "layout": {
        "legend": {
         "title": {
          "text": "label"
         },
         "tracegroupgap": 0
        },
        "template": {
         "data": {
          "bar": [
           {
            "error_x": {
             "color": "#2a3f5f"
            },
            "error_y": {
             "color": "#2a3f5f"
            },
            "marker": {
             "line": {
              "color": "#E5ECF6",
              "width": 0.5
             },
             "pattern": {
              "fillmode": "overlay",
              "size": 10,
              "solidity": 0.2
             }
            },
            "type": "bar"
           }
          ],
          "barpolar": [
           {
            "marker": {
             "line": {
              "color": "#E5ECF6",
              "width": 0.5
             },
             "pattern": {
              "fillmode": "overlay",
              "size": 10,
              "solidity": 0.2
             }
            },
            "type": "barpolar"
           }
          ],
          "carpet": [
           {
            "aaxis": {
             "endlinecolor": "#2a3f5f",
             "gridcolor": "white",
             "linecolor": "white",
             "minorgridcolor": "white",
             "startlinecolor": "#2a3f5f"
            },
            "baxis": {
             "endlinecolor": "#2a3f5f",
             "gridcolor": "white",
             "linecolor": "white",
             "minorgridcolor": "white",
             "startlinecolor": "#2a3f5f"
            },
            "type": "carpet"
           }
          ],
          "choropleth": [
           {
            "colorbar": {
             "outlinewidth": 0,
             "ticks": ""
            },
            "type": "choropleth"
           }
          ],
          "contour": [
           {
            "colorbar": {
             "outlinewidth": 0,
             "ticks": ""
            },
            "colorscale": [
             [
              0,
              "#0d0887"
             ],
             [
              0.1111111111111111,
              "#46039f"
             ],
             [
              0.2222222222222222,
              "#7201a8"
             ],
             [
              0.3333333333333333,
              "#9c179e"
             ],
             [
              0.4444444444444444,
              "#bd3786"
             ],
             [
              0.5555555555555556,
              "#d8576b"
             ],
             [
              0.6666666666666666,
              "#ed7953"
             ],
             [
              0.7777777777777778,
              "#fb9f3a"
             ],
             [
              0.8888888888888888,
              "#fdca26"
             ],
             [
              1,
              "#f0f921"
             ]
            ],
            "type": "contour"
           }
          ],
          "contourcarpet": [
           {
            "colorbar": {
             "outlinewidth": 0,
             "ticks": ""
            },
            "type": "contourcarpet"
           }
          ],
          "heatmap": [
           {
            "colorbar": {
             "outlinewidth": 0,
             "ticks": ""
            },
            "colorscale": [
             [
              0,
              "#0d0887"
             ],
             [
              0.1111111111111111,
              "#46039f"
             ],
             [
              0.2222222222222222,
              "#7201a8"
             ],
             [
              0.3333333333333333,
              "#9c179e"
             ],
             [
              0.4444444444444444,
              "#bd3786"
             ],
             [
              0.5555555555555556,
              "#d8576b"
             ],
             [
              0.6666666666666666,
              "#ed7953"
             ],
             [
              0.7777777777777778,
              "#fb9f3a"
             ],
             [
              0.8888888888888888,
              "#fdca26"
             ],
             [
              1,
              "#f0f921"
             ]
            ],
            "type": "heatmap"
           }
          ],
          "heatmapgl": [
           {
            "colorbar": {
             "outlinewidth": 0,
             "ticks": ""
            },
            "colorscale": [
             [
              0,
              "#0d0887"
             ],
             [
              0.1111111111111111,
              "#46039f"
             ],
             [
              0.2222222222222222,
              "#7201a8"
             ],
             [
              0.3333333333333333,
              "#9c179e"
             ],
             [
              0.4444444444444444,
              "#bd3786"
             ],
             [
              0.5555555555555556,
              "#d8576b"
             ],
             [
              0.6666666666666666,
              "#ed7953"
             ],
             [
              0.7777777777777778,
              "#fb9f3a"
             ],
             [
              0.8888888888888888,
              "#fdca26"
             ],
             [
              1,
              "#f0f921"
             ]
            ],
            "type": "heatmapgl"
           }
          ],
          "histogram": [
           {
            "marker": {
             "pattern": {
              "fillmode": "overlay",
              "size": 10,
              "solidity": 0.2
             }
            },
            "type": "histogram"
           }
          ],
          "histogram2d": [
           {
            "colorbar": {
             "outlinewidth": 0,
             "ticks": ""
            },
            "colorscale": [
             [
              0,
              "#0d0887"
             ],
             [
              0.1111111111111111,
              "#46039f"
             ],
             [
              0.2222222222222222,
              "#7201a8"
             ],
             [
              0.3333333333333333,
              "#9c179e"
             ],
             [
              0.4444444444444444,
              "#bd3786"
             ],
             [
              0.5555555555555556,
              "#d8576b"
             ],
             [
              0.6666666666666666,
              "#ed7953"
             ],
             [
              0.7777777777777778,
              "#fb9f3a"
             ],
             [
              0.8888888888888888,
              "#fdca26"
             ],
             [
              1,
              "#f0f921"
             ]
            ],
            "type": "histogram2d"
           }
          ],
          "histogram2dcontour": [
           {
            "colorbar": {
             "outlinewidth": 0,
             "ticks": ""
            },
            "colorscale": [
             [
              0,
              "#0d0887"
             ],
             [
              0.1111111111111111,
              "#46039f"
             ],
             [
              0.2222222222222222,
              "#7201a8"
             ],
             [
              0.3333333333333333,
              "#9c179e"
             ],
             [
              0.4444444444444444,
              "#bd3786"
             ],
             [
              0.5555555555555556,
              "#d8576b"
             ],
             [
              0.6666666666666666,
              "#ed7953"
             ],
             [
              0.7777777777777778,
              "#fb9f3a"
             ],
             [
              0.8888888888888888,
              "#fdca26"
             ],
             [
              1,
              "#f0f921"
             ]
            ],
            "type": "histogram2dcontour"
           }
          ],
          "mesh3d": [
           {
            "colorbar": {
             "outlinewidth": 0,
             "ticks": ""
            },
            "type": "mesh3d"
           }
          ],
          "parcoords": [
           {
            "line": {
             "colorbar": {
              "outlinewidth": 0,
              "ticks": ""
             }
            },
            "type": "parcoords"
           }
          ],
          "pie": [
           {
            "automargin": true,
            "type": "pie"
           }
          ],
          "scatter": [
           {
            "fillpattern": {
             "fillmode": "overlay",
             "size": 10,
             "solidity": 0.2
            },
            "type": "scatter"
           }
          ],
          "scatter3d": [
           {
            "line": {
             "colorbar": {
              "outlinewidth": 0,
              "ticks": ""
             }
            },
            "marker": {
             "colorbar": {
              "outlinewidth": 0,
              "ticks": ""
             }
            },
            "type": "scatter3d"
           }
          ],
          "scattercarpet": [
           {
            "marker": {
             "colorbar": {
              "outlinewidth": 0,
              "ticks": ""
             }
            },
            "type": "scattercarpet"
           }
          ],
          "scattergeo": [
           {
            "marker": {
             "colorbar": {
              "outlinewidth": 0,
              "ticks": ""
             }
            },
            "type": "scattergeo"
           }
          ],
          "scattergl": [
           {
            "marker": {
             "colorbar": {
              "outlinewidth": 0,
              "ticks": ""
             }
            },
            "type": "scattergl"
           }
          ],
          "scattermapbox": [
           {
            "marker": {
             "colorbar": {
              "outlinewidth": 0,
              "ticks": ""
             }
            },
            "type": "scattermapbox"
           }
          ],
          "scatterpolar": [
           {
            "marker": {
             "colorbar": {
              "outlinewidth": 0,
              "ticks": ""
             }
            },
            "type": "scatterpolar"
           }
          ],
          "scatterpolargl": [
           {
            "marker": {
             "colorbar": {
              "outlinewidth": 0,
              "ticks": ""
             }
            },
            "type": "scatterpolargl"
           }
          ],
          "scatterternary": [
           {
            "marker": {
             "colorbar": {
              "outlinewidth": 0,
              "ticks": ""
             }
            },
            "type": "scatterternary"
           }
          ],
          "surface": [
           {
            "colorbar": {
             "outlinewidth": 0,
             "ticks": ""
            },
            "colorscale": [
             [
              0,
              "#0d0887"
             ],
             [
              0.1111111111111111,
              "#46039f"
             ],
             [
              0.2222222222222222,
              "#7201a8"
             ],
             [
              0.3333333333333333,
              "#9c179e"
             ],
             [
              0.4444444444444444,
              "#bd3786"
             ],
             [
              0.5555555555555556,
              "#d8576b"
             ],
             [
              0.6666666666666666,
              "#ed7953"
             ],
             [
              0.7777777777777778,
              "#fb9f3a"
             ],
             [
              0.8888888888888888,
              "#fdca26"
             ],
             [
              1,
              "#f0f921"
             ]
            ],
            "type": "surface"
           }
          ],
          "table": [
           {
            "cells": {
             "fill": {
              "color": "#EBF0F8"
             },
             "line": {
              "color": "white"
             }
            },
            "header": {
             "fill": {
              "color": "#C8D4E3"
             },
             "line": {
              "color": "white"
             }
            },
            "type": "table"
           }
          ]
         },
         "layout": {
          "annotationdefaults": {
           "arrowcolor": "#2a3f5f",
           "arrowhead": 0,
           "arrowwidth": 1
          },
          "autotypenumbers": "strict",
          "coloraxis": {
           "colorbar": {
            "outlinewidth": 0,
            "ticks": ""
           }
          },
          "colorscale": {
           "diverging": [
            [
             0,
             "#8e0152"
            ],
            [
             0.1,
             "#c51b7d"
            ],
            [
             0.2,
             "#de77ae"
            ],
            [
             0.3,
             "#f1b6da"
            ],
            [
             0.4,
             "#fde0ef"
            ],
            [
             0.5,
             "#f7f7f7"
            ],
            [
             0.6,
             "#e6f5d0"
            ],
            [
             0.7,
             "#b8e186"
            ],
            [
             0.8,
             "#7fbc41"
            ],
            [
             0.9,
             "#4d9221"
            ],
            [
             1,
             "#276419"
            ]
           ],
           "sequential": [
            [
             0,
             "#0d0887"
            ],
            [
             0.1111111111111111,
             "#46039f"
            ],
            [
             0.2222222222222222,
             "#7201a8"
            ],
            [
             0.3333333333333333,
             "#9c179e"
            ],
            [
             0.4444444444444444,
             "#bd3786"
            ],
            [
             0.5555555555555556,
             "#d8576b"
            ],
            [
             0.6666666666666666,
             "#ed7953"
            ],
            [
             0.7777777777777778,
             "#fb9f3a"
            ],
            [
             0.8888888888888888,
             "#fdca26"
            ],
            [
             1,
             "#f0f921"
            ]
           ],
           "sequentialminus": [
            [
             0,
             "#0d0887"
            ],
            [
             0.1111111111111111,
             "#46039f"
            ],
            [
             0.2222222222222222,
             "#7201a8"
            ],
            [
             0.3333333333333333,
             "#9c179e"
            ],
            [
             0.4444444444444444,
             "#bd3786"
            ],
            [
             0.5555555555555556,
             "#d8576b"
            ],
            [
             0.6666666666666666,
             "#ed7953"
            ],
            [
             0.7777777777777778,
             "#fb9f3a"
            ],
            [
             0.8888888888888888,
             "#fdca26"
            ],
            [
             1,
             "#f0f921"
            ]
           ]
          },
          "colorway": [
           "#636efa",
           "#EF553B",
           "#00cc96",
           "#ab63fa",
           "#FFA15A",
           "#19d3f3",
           "#FF6692",
           "#B6E880",
           "#FF97FF",
           "#FECB52"
          ],
          "font": {
           "color": "#2a3f5f"
          },
          "geo": {
           "bgcolor": "white",
           "lakecolor": "white",
           "landcolor": "#E5ECF6",
           "showlakes": true,
           "showland": true,
           "subunitcolor": "white"
          },
          "hoverlabel": {
           "align": "left"
          },
          "hovermode": "closest",
          "mapbox": {
           "style": "light"
          },
          "paper_bgcolor": "white",
          "plot_bgcolor": "#E5ECF6",
          "polar": {
           "angularaxis": {
            "gridcolor": "white",
            "linecolor": "white",
            "ticks": ""
           },
           "bgcolor": "#E5ECF6",
           "radialaxis": {
            "gridcolor": "white",
            "linecolor": "white",
            "ticks": ""
           }
          },
          "scene": {
           "xaxis": {
            "backgroundcolor": "#E5ECF6",
            "gridcolor": "white",
            "gridwidth": 2,
            "linecolor": "white",
            "showbackground": true,
            "ticks": "",
            "zerolinecolor": "white"
           },
           "yaxis": {
            "backgroundcolor": "#E5ECF6",
            "gridcolor": "white",
            "gridwidth": 2,
            "linecolor": "white",
            "showbackground": true,
            "ticks": "",
            "zerolinecolor": "white"
           },
           "zaxis": {
            "backgroundcolor": "#E5ECF6",
            "gridcolor": "white",
            "gridwidth": 2,
            "linecolor": "white",
            "showbackground": true,
            "ticks": "",
            "zerolinecolor": "white"
           }
          },
          "shapedefaults": {
           "line": {
            "color": "#2a3f5f"
           }
          },
          "ternary": {
           "aaxis": {
            "gridcolor": "white",
            "linecolor": "white",
            "ticks": ""
           },
           "baxis": {
            "gridcolor": "white",
            "linecolor": "white",
            "ticks": ""
           },
           "bgcolor": "#E5ECF6",
           "caxis": {
            "gridcolor": "white",
            "linecolor": "white",
            "ticks": ""
           }
          },
          "title": {
           "x": 0.05
          },
          "xaxis": {
           "automargin": true,
           "gridcolor": "white",
           "linecolor": "white",
           "ticks": "",
           "title": {
            "standoff": 15
           },
           "zerolinecolor": "white",
           "zerolinewidth": 2
          },
          "yaxis": {
           "automargin": true,
           "gridcolor": "white",
           "linecolor": "white",
           "ticks": "",
           "title": {
            "standoff": 15
           },
           "zerolinecolor": "white",
           "zerolinewidth": 2
          }
         }
        },
        "title": {
         "text": "Unique # of texas n-grams for each label"
        },
        "xaxis": {
         "anchor": "y",
         "domain": [
          0,
          1
         ],
         "title": {
          "text": "N-gram size"
         }
        },
        "yaxis": {
         "anchor": "x",
         "domain": [
          0,
          1
         ],
         "title": {
          "text": "Unique # of n-grams"
         }
        }
       }
      }
     },
     "metadata": {},
     "output_type": "display_data"
    }
   ],
   "source": [
    "import plotly.express as px\n",
    "\n",
    "intersection_sizes = []\n",
    "for n in [1, 2, 3, 4, 5, 6]:\n",
    "\n",
    "    good_ngrams = series_to_ngrams(df[df.label == \"good\"].comments, n).value_counts()\n",
    "    bad_ngrams = series_to_ngrams(df[df.label == \"bad\"].comments, n).value_counts()\n",
    "    mgood_ngrams = series_to_ngrams(df[df.label == \"mgood\"].comments, n).value_counts()\n",
    "    mbad_ngrams = series_to_ngrams(df[df.label == \"mbad\"].comments, n).value_counts()\n",
    "    intersection_sizes_n = get_exclusive_sizes(\n",
    "        set(good_ngrams.index),\n",
    "        set(bad_ngrams.index),\n",
    "        set(mgood_ngrams.index),\n",
    "        set(mbad_ngrams.index)\n",
    "    )\n",
    "\n",
    "    intersection_sizes_n[\"n\"] = n\n",
    "\n",
    "    intersection_sizes.append(intersection_sizes_n)\n",
    "\n",
    "\n",
    "# prepare data\n",
    "is_df = pd.DataFrame(intersection_sizes)\n",
    "is_df = is_df.melt(id_vars=\"n\", var_name=\"label\", value_name=\"count\")\n",
    "is_df[\"count\"] = is_df[\"count\"].astype(int)\n",
    "is_df[\"n\"] = is_df[\"n\"].astype(int)\n",
    "\n",
    "# exclude good \n",
    "is_df = is_df[is_df.label != \"good\"]\n",
    "\n",
    "# plot a line chart\n",
    "px.line(is_df, \n",
    "    x=\"n\", y=\"count\",\n",
    "    color=\"label\",\n",
    "    title=f\"Unique # of {GEO} n-grams for each label\", \n",
    "    labels={\"n\": \"N-gram size\", \"count\": \"Unique # of n-grams\"},\n",
    "    markers=True\n",
    "    )"
   ]
  },
  {
   "attachments": {},
   "cell_type": "markdown",
   "metadata": {},
   "source": [
    "We can see that the number of unique ngrams increases until about n=3, and then levels off. What are the top 10 3-grams for misleading reviews?"
   ]
  },
  {
   "cell_type": "code",
   "execution_count": 57,
   "metadata": {},
   "outputs": [
    {
     "name": "stdout",
     "output_type": "stream",
     "text": [
      "Top 10 most common 3-grams in misleading reviews:\n"
     ]
    },
    {
     "data": {
      "text/plain": [
       "[('within_walking_distance', 8),\n",
       " ('would_not_recommend', 6),\n",
       " ('not_recommend_staying', 4),\n",
       " ('made_u_feel', 3),\n",
       " ('great_host_very', 3),\n",
       " ('great_place_stay', 3),\n",
       " ('solid_internet_connectivity', 3),\n",
       " ('walking_distance_lot', 2),\n",
       " ('stay_good_location', 2),\n",
       " ('good_location_clean', 2)]"
      ]
     },
     "execution_count": 57,
     "metadata": {},
     "output_type": "execute_result"
    }
   ],
   "source": [
    "import numpy as np\n",
    "from collections import Counter\n",
    "\n",
    "# generate wordcloud for misleading reviews\n",
    "subset = df[df.label.isin([\"mbad\", \"mgood\"])]\n",
    "\n",
    "# get groups of N consecutive words\n",
    "N = 3\n",
    "n_grams_3 = series_to_ngrams(subset.comments, N).to_list()\n",
    "\n",
    "print(\"Top 10 most common 3-grams in misleading reviews:\")\n",
    "Counter(n_grams_3).most_common(10)"
   ]
  },
  {
   "attachments": {},
   "cell_type": "markdown",
   "metadata": {},
   "source": [
    "Let's manually remove some of these that don't make sense"
   ]
  },
  {
   "attachments": {},
   "cell_type": "markdown",
   "metadata": {},
   "source": [
    "Now let's look at a word cloud of the 3-grams in misleading reviews.\n",
    "\n",
    "**NOTE:** Also broken due to pandas library error. Not sure why it happened all of a sudden."
   ]
  },
  {
   "cell_type": "code",
   "execution_count": 58,
   "metadata": {},
   "outputs": [
    {
     "data": {
      "application/vnd.plotly.v1+json": {
       "config": {
        "plotlyServerURL": "https://plot.ly"
       },
       "data": [
        {
         "hovertemplate": "x: %{x}<br>y: %{y}<br>color: [%{z[0]}, %{z[1]}, %{z[2]}]<extra></extra>",
         "name": "0",
         "source": "data:image/png;base64,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",
         "type": "image",
         "xaxis": "x",
         "yaxis": "y"
        }
       ],
       "layout": {
        "height": 700,
        "template": {
         "data": {
          "bar": [
           {
            "error_x": {
             "color": "#2a3f5f"
            },
            "error_y": {
             "color": "#2a3f5f"
            },
            "marker": {
             "line": {
              "color": "#E5ECF6",
              "width": 0.5
             },
             "pattern": {
              "fillmode": "overlay",
              "size": 10,
              "solidity": 0.2
             }
            },
            "type": "bar"
           }
          ],
          "barpolar": [
           {
            "marker": {
             "line": {
              "color": "#E5ECF6",
              "width": 0.5
             },
             "pattern": {
              "fillmode": "overlay",
              "size": 10,
              "solidity": 0.2
             }
            },
            "type": "barpolar"
           }
          ],
          "carpet": [
           {
            "aaxis": {
             "endlinecolor": "#2a3f5f",
             "gridcolor": "white",
             "linecolor": "white",
             "minorgridcolor": "white",
             "startlinecolor": "#2a3f5f"
            },
            "baxis": {
             "endlinecolor": "#2a3f5f",
             "gridcolor": "white",
             "linecolor": "white",
             "minorgridcolor": "white",
             "startlinecolor": "#2a3f5f"
            },
            "type": "carpet"
           }
          ],
          "choropleth": [
           {
            "colorbar": {
             "outlinewidth": 0,
             "ticks": ""
            },
            "type": "choropleth"
           }
          ],
          "contour": [
           {
            "colorbar": {
             "outlinewidth": 0,
             "ticks": ""
            },
            "colorscale": [
             [
              0,
              "#0d0887"
             ],
             [
              0.1111111111111111,
              "#46039f"
             ],
             [
              0.2222222222222222,
              "#7201a8"
             ],
             [
              0.3333333333333333,
              "#9c179e"
             ],
             [
              0.4444444444444444,
              "#bd3786"
             ],
             [
              0.5555555555555556,
              "#d8576b"
             ],
             [
              0.6666666666666666,
              "#ed7953"
             ],
             [
              0.7777777777777778,
              "#fb9f3a"
             ],
             [
              0.8888888888888888,
              "#fdca26"
             ],
             [
              1,
              "#f0f921"
             ]
            ],
            "type": "contour"
           }
          ],
          "contourcarpet": [
           {
            "colorbar": {
             "outlinewidth": 0,
             "ticks": ""
            },
            "type": "contourcarpet"
           }
          ],
          "heatmap": [
           {
            "colorbar": {
             "outlinewidth": 0,
             "ticks": ""
            },
            "colorscale": [
             [
              0,
              "#0d0887"
             ],
             [
              0.1111111111111111,
              "#46039f"
             ],
             [
              0.2222222222222222,
              "#7201a8"
             ],
             [
              0.3333333333333333,
              "#9c179e"
             ],
             [
              0.4444444444444444,
              "#bd3786"
             ],
             [
              0.5555555555555556,
              "#d8576b"
             ],
             [
              0.6666666666666666,
              "#ed7953"
             ],
             [
              0.7777777777777778,
              "#fb9f3a"
             ],
             [
              0.8888888888888888,
              "#fdca26"
             ],
             [
              1,
              "#f0f921"
             ]
            ],
            "type": "heatmap"
           }
          ],
          "heatmapgl": [
           {
            "colorbar": {
             "outlinewidth": 0,
             "ticks": ""
            },
            "colorscale": [
             [
              0,
              "#0d0887"
             ],
             [
              0.1111111111111111,
              "#46039f"
             ],
             [
              0.2222222222222222,
              "#7201a8"
             ],
             [
              0.3333333333333333,
              "#9c179e"
             ],
             [
              0.4444444444444444,
              "#bd3786"
             ],
             [
              0.5555555555555556,
              "#d8576b"
             ],
             [
              0.6666666666666666,
              "#ed7953"
             ],
             [
              0.7777777777777778,
              "#fb9f3a"
             ],
             [
              0.8888888888888888,
              "#fdca26"
             ],
             [
              1,
              "#f0f921"
             ]
            ],
            "type": "heatmapgl"
           }
          ],
          "histogram": [
           {
            "marker": {
             "pattern": {
              "fillmode": "overlay",
              "size": 10,
              "solidity": 0.2
             }
            },
            "type": "histogram"
           }
          ],
          "histogram2d": [
           {
            "colorbar": {
             "outlinewidth": 0,
             "ticks": ""
            },
            "colorscale": [
             [
              0,
              "#0d0887"
             ],
             [
              0.1111111111111111,
              "#46039f"
             ],
             [
              0.2222222222222222,
              "#7201a8"
             ],
             [
              0.3333333333333333,
              "#9c179e"
             ],
             [
              0.4444444444444444,
              "#bd3786"
             ],
             [
              0.5555555555555556,
              "#d8576b"
             ],
             [
              0.6666666666666666,
              "#ed7953"
             ],
             [
              0.7777777777777778,
              "#fb9f3a"
             ],
             [
              0.8888888888888888,
              "#fdca26"
             ],
             [
              1,
              "#f0f921"
             ]
            ],
            "type": "histogram2d"
           }
          ],
          "histogram2dcontour": [
           {
            "colorbar": {
             "outlinewidth": 0,
             "ticks": ""
            },
            "colorscale": [
             [
              0,
              "#0d0887"
             ],
             [
              0.1111111111111111,
              "#46039f"
             ],
             [
              0.2222222222222222,
              "#7201a8"
             ],
             [
              0.3333333333333333,
              "#9c179e"
             ],
             [
              0.4444444444444444,
              "#bd3786"
             ],
             [
              0.5555555555555556,
              "#d8576b"
             ],
             [
              0.6666666666666666,
              "#ed7953"
             ],
             [
              0.7777777777777778,
              "#fb9f3a"
             ],
             [
              0.8888888888888888,
              "#fdca26"
             ],
             [
              1,
              "#f0f921"
             ]
            ],
            "type": "histogram2dcontour"
           }
          ],
          "mesh3d": [
           {
            "colorbar": {
             "outlinewidth": 0,
             "ticks": ""
            },
            "type": "mesh3d"
           }
          ],
          "parcoords": [
           {
            "line": {
             "colorbar": {
              "outlinewidth": 0,
              "ticks": ""
             }
            },
            "type": "parcoords"
           }
          ],
          "pie": [
           {
            "automargin": true,
            "type": "pie"
           }
          ],
          "scatter": [
           {
            "fillpattern": {
             "fillmode": "overlay",
             "size": 10,
             "solidity": 0.2
            },
            "type": "scatter"
           }
          ],
          "scatter3d": [
           {
            "line": {
             "colorbar": {
              "outlinewidth": 0,
              "ticks": ""
             }
            },
            "marker": {
             "colorbar": {
              "outlinewidth": 0,
              "ticks": ""
             }
            },
            "type": "scatter3d"
           }
          ],
          "scattercarpet": [
           {
            "marker": {
             "colorbar": {
              "outlinewidth": 0,
              "ticks": ""
             }
            },
            "type": "scattercarpet"
           }
          ],
          "scattergeo": [
           {
            "marker": {
             "colorbar": {
              "outlinewidth": 0,
              "ticks": ""
             }
            },
            "type": "scattergeo"
           }
          ],
          "scattergl": [
           {
            "marker": {
             "colorbar": {
              "outlinewidth": 0,
              "ticks": ""
             }
            },
            "type": "scattergl"
           }
          ],
          "scattermapbox": [
           {
            "marker": {
             "colorbar": {
              "outlinewidth": 0,
              "ticks": ""
             }
            },
            "type": "scattermapbox"
           }
          ],
          "scatterpolar": [
           {
            "marker": {
             "colorbar": {
              "outlinewidth": 0,
              "ticks": ""
             }
            },
            "type": "scatterpolar"
           }
          ],
          "scatterpolargl": [
           {
            "marker": {
             "colorbar": {
              "outlinewidth": 0,
              "ticks": ""
             }
            },
            "type": "scatterpolargl"
           }
          ],
          "scatterternary": [
           {
            "marker": {
             "colorbar": {
              "outlinewidth": 0,
              "ticks": ""
             }
            },
            "type": "scatterternary"
           }
          ],
          "surface": [
           {
            "colorbar": {
             "outlinewidth": 0,
             "ticks": ""
            },
            "colorscale": [
             [
              0,
              "#0d0887"
             ],
             [
              0.1111111111111111,
              "#46039f"
             ],
             [
              0.2222222222222222,
              "#7201a8"
             ],
             [
              0.3333333333333333,
              "#9c179e"
             ],
             [
              0.4444444444444444,
              "#bd3786"
             ],
             [
              0.5555555555555556,
              "#d8576b"
             ],
             [
              0.6666666666666666,
              "#ed7953"
             ],
             [
              0.7777777777777778,
              "#fb9f3a"
             ],
             [
              0.8888888888888888,
              "#fdca26"
             ],
             [
              1,
              "#f0f921"
             ]
            ],
            "type": "surface"
           }
          ],
          "table": [
           {
            "cells": {
             "fill": {
              "color": "#EBF0F8"
             },
             "line": {
              "color": "white"
             }
            },
            "header": {
             "fill": {
              "color": "#C8D4E3"
             },
             "line": {
              "color": "white"
             }
            },
            "type": "table"
           }
          ]
         },
         "layout": {
          "annotationdefaults": {
           "arrowcolor": "#2a3f5f",
           "arrowhead": 0,
           "arrowwidth": 1
          },
          "autotypenumbers": "strict",
          "coloraxis": {
           "colorbar": {
            "outlinewidth": 0,
            "ticks": ""
           }
          },
          "colorscale": {
           "diverging": [
            [
             0,
             "#8e0152"
            ],
            [
             0.1,
             "#c51b7d"
            ],
            [
             0.2,
             "#de77ae"
            ],
            [
             0.3,
             "#f1b6da"
            ],
            [
             0.4,
             "#fde0ef"
            ],
            [
             0.5,
             "#f7f7f7"
            ],
            [
             0.6,
             "#e6f5d0"
            ],
            [
             0.7,
             "#b8e186"
            ],
            [
             0.8,
             "#7fbc41"
            ],
            [
             0.9,
             "#4d9221"
            ],
            [
             1,
             "#276419"
            ]
           ],
           "sequential": [
            [
             0,
             "#0d0887"
            ],
            [
             0.1111111111111111,
             "#46039f"
            ],
            [
             0.2222222222222222,
             "#7201a8"
            ],
            [
             0.3333333333333333,
             "#9c179e"
            ],
            [
             0.4444444444444444,
             "#bd3786"
            ],
            [
             0.5555555555555556,
             "#d8576b"
            ],
            [
             0.6666666666666666,
             "#ed7953"
            ],
            [
             0.7777777777777778,
             "#fb9f3a"
            ],
            [
             0.8888888888888888,
             "#fdca26"
            ],
            [
             1,
             "#f0f921"
            ]
           ],
           "sequentialminus": [
            [
             0,
             "#0d0887"
            ],
            [
             0.1111111111111111,
             "#46039f"
            ],
            [
             0.2222222222222222,
             "#7201a8"
            ],
            [
             0.3333333333333333,
             "#9c179e"
            ],
            [
             0.4444444444444444,
             "#bd3786"
            ],
            [
             0.5555555555555556,
             "#d8576b"
            ],
            [
             0.6666666666666666,
             "#ed7953"
            ],
            [
             0.7777777777777778,
             "#fb9f3a"
            ],
            [
             0.8888888888888888,
             "#fdca26"
            ],
            [
             1,
             "#f0f921"
            ]
           ]
          },
          "colorway": [
           "#636efa",
           "#EF553B",
           "#00cc96",
           "#ab63fa",
           "#FFA15A",
           "#19d3f3",
           "#FF6692",
           "#B6E880",
           "#FF97FF",
           "#FECB52"
          ],
          "font": {
           "color": "#2a3f5f"
          },
          "geo": {
           "bgcolor": "white",
           "lakecolor": "white",
           "landcolor": "#E5ECF6",
           "showlakes": true,
           "showland": true,
           "subunitcolor": "white"
          },
          "hoverlabel": {
           "align": "left"
          },
          "hovermode": "closest",
          "mapbox": {
           "style": "light"
          },
          "paper_bgcolor": "white",
          "plot_bgcolor": "#E5ECF6",
          "polar": {
           "angularaxis": {
            "gridcolor": "white",
            "linecolor": "white",
            "ticks": ""
           },
           "bgcolor": "#E5ECF6",
           "radialaxis": {
            "gridcolor": "white",
            "linecolor": "white",
            "ticks": ""
           }
          },
          "scene": {
           "xaxis": {
            "backgroundcolor": "#E5ECF6",
            "gridcolor": "white",
            "gridwidth": 2,
            "linecolor": "white",
            "showbackground": true,
            "ticks": "",
            "zerolinecolor": "white"
           },
           "yaxis": {
            "backgroundcolor": "#E5ECF6",
            "gridcolor": "white",
            "gridwidth": 2,
            "linecolor": "white",
            "showbackground": true,
            "ticks": "",
            "zerolinecolor": "white"
           },
           "zaxis": {
            "backgroundcolor": "#E5ECF6",
            "gridcolor": "white",
            "gridwidth": 2,
            "linecolor": "white",
            "showbackground": true,
            "ticks": "",
            "zerolinecolor": "white"
           }
          },
          "shapedefaults": {
           "line": {
            "color": "#2a3f5f"
           }
          },
          "ternary": {
           "aaxis": {
            "gridcolor": "white",
            "linecolor": "white",
            "ticks": ""
           },
           "baxis": {
            "gridcolor": "white",
            "linecolor": "white",
            "ticks": ""
           },
           "bgcolor": "#E5ECF6",
           "caxis": {
            "gridcolor": "white",
            "linecolor": "white",
            "ticks": ""
           }
          },
          "title": {
           "x": 0.05
          },
          "xaxis": {
           "automargin": true,
           "gridcolor": "white",
           "linecolor": "white",
           "ticks": "",
           "title": {
            "standoff": 15
           },
           "zerolinecolor": "white",
           "zerolinewidth": 2
          },
          "yaxis": {
           "automargin": true,
           "gridcolor": "white",
           "linecolor": "white",
           "ticks": "",
           "title": {
            "standoff": 15
           },
           "zerolinecolor": "white",
           "zerolinewidth": 2
          }
         }
        },
        "title": {
         "text": "Most common 3-grams in misleading reviews"
        },
        "width": 700,
        "xaxis": {
         "anchor": "y",
         "domain": [
          0,
          1
         ],
         "visible": false
        },
        "yaxis": {
         "anchor": "x",
         "domain": [
          0,
          1
         ],
         "visible": false
        }
       }
      }
     },
     "metadata": {},
     "output_type": "display_data"
    }
   ],
   "source": [
    "from wordcloud import WordCloud\n",
    "from PIL import Image\n",
    "\n",
    "ngrams_str = \" \".join(n_grams_3)\n",
    "\n",
    "# make house-shaped mask\n",
    "mask = np.array(Image.open(\"../../house_shape.png\"))\n",
    "# fill transparent areas with white\n",
    "mask[mask[:, :, 3] == 0] = [255, 255, 255, 255]\n",
    "\n",
    "# generate wordcloud\n",
    "wc = WordCloud(\n",
    "    background_color=\"white\", \n",
    "    max_words=1000, \n",
    "    width=mask.shape[0]*5,\n",
    "    height=mask.shape[1]*5,\n",
    "    mask = mask,\n",
    "    contour_width=3,\n",
    "    contour_color='steelblue',\n",
    "    colormap=\"twilight_shifted\"\n",
    ").generate(ngrams_str)\n",
    "\n",
    "wc\n",
    "\n",
    "# show wordcloud\n",
    "fig = px.imshow(wc, title=f\"Most common {N}-grams in misleading reviews\", width=700, height=700)\n",
    "fig.update_xaxes(visible=False)\n",
    "fig.update_yaxes(visible=False)\n",
    "fig.show()"
   ]
  },
  {
   "attachments": {},
   "cell_type": "markdown",
   "metadata": {},
   "source": [
    "Here is a reusable function to add ngrams features to a dataframe."
   ]
  },
  {
   "cell_type": "code",
   "execution_count": 59,
   "metadata": {},
   "outputs": [],
   "source": [
    "def ngrams_features(features, n):\n",
    "    \"\"\"Add n-gram features to the features dataframe.\"\"\"\n",
    "\n",
    "    # one-hot encode ngrams\n",
    "    df[\"ngrams\"] = df.comments.apply(lambda x: set(get_consecutive_ngrams(x, 3)))\n",
    "\n",
    "    # get ngrams that are common in misleading reviews\n",
    "    misleading = df[df.label.isin([\"mbad\", \"mgood\"])]\n",
    "    ng_set = set(series_to_ngrams(subset.comments, n).to_list())\n",
    "\n",
    "    # one-hot encode ngrams\n",
    "    ngram_features = {}\n",
    "    for ngram in ng_set:\n",
    "        ngram_features[ngram] = df.ngrams.apply(lambda ngrams: 1 if ngram in ngrams else 0)\n",
    "    ngram_df = pd.DataFrame(ngram_features)\n",
    "    features = pd.concat([features, ngram_df], axis=1)\n",
    "\n",
    "    # Only keep ngram features that appear in at least 3 reviews\n",
    "    min_num_reviews = 3\n",
    "    num_reviews_ngram_is_in = features.apply(lambda x: x > 0).sum()\n",
    "    ngram_features_to_drop= num_reviews_ngram_is_in[num_reviews_ngram_is_in < min_num_reviews].index\n",
    "\n",
    "    features = features.drop(ngram_features_to_drop, axis=1)\n",
    "\n",
    "    return features"
   ]
  },
  {
   "attachments": {},
   "cell_type": "markdown",
   "metadata": {},
   "source": [
    "## Word Embeddings and T-SNE\n",
    "Another way to look at the data is to use word embeddings. We can use the word2vec model from gensim to create word embeddings for each word in the dataset. We can then take the average of all word vectors in a review to get a vector representation of the review. We can then use T-SNE to reduce the dimensionality of the word embeddings to 3 dimensions so we can plot them."
   ]
  },
  {
   "cell_type": "code",
   "execution_count": 66,
   "metadata": {},
   "outputs": [],
   "source": [
    "from gensim.models.doc2vec import Doc2Vec, TaggedDocument\n",
    "from gensim.models.word2vec import Word2Vec\n",
    "\n",
    "def embeddings_features(features, emb_vector_size=50) -> pd.DataFrame:\n",
    "\n",
    "    print(\"Creating model...\")\n",
    "    model = Word2Vec(df.comments.to_list(), \n",
    "            min_count=1,\n",
    "            vector_size=emb_vector_size,\n",
    "            workers=3, \n",
    "            window=3, \n",
    "            sg=1\n",
    "        )\n",
    "    \n",
    "    # generate embeddings\n",
    "    print(\"Generating embeddings...\")\n",
    "    get_review_embeddings = lambda review: np.mean([model.wv[word] for word in review if word in model.wv], axis=0)\n",
    "    embeddings = np.array([get_review_embeddings(review) for review in df.comments.to_list()])\n",
    "    \n",
    "    for i in range(embeddings.shape[1]):\n",
    "        features[f\"embedding_{i}\"] = embeddings[:, i]\n",
    "    \n",
    "    return features\n",
    "\n",
    "\n",
    "def tsne_features(features, dims=3):\n",
    "\n",
    "    from sklearn.manifold import TSNE\n",
    "    print(f\"Applying t-SNE... (dim={dims})\")\n",
    "    tsne = TSNE(n_components=dims, random_state=0)\n",
    "    embeddings_2d = tsne.fit_transform(features)\n",
    "    embd_df = pd.DataFrame(embeddings_2d, columns=[f\"tsne_{i}\" for i in range(dims)])\n",
    "\n",
    "    return embd_df"
   ]
  },
  {
   "attachments": {},
   "cell_type": "markdown",
   "metadata": {},
   "source": [
    "Let's apply this to the misleading reviews, and then reduce down to 2 dimensions using T-SNE."
   ]
  },
  {
   "cell_type": "code",
   "execution_count": 71,
   "metadata": {},
   "outputs": [
    {
     "name": "stdout",
     "output_type": "stream",
     "text": [
      "Creating model...\n",
      "Generating embeddings...\n",
      "Applying t-SNE... (dim=3)\n"
     ]
    },
    {
     "data": {
      "application/vnd.plotly.v1+json": {
       "config": {
        "plotlyServerURL": "https://plot.ly"
       },
       "data": [
        {
         "hovertemplate": "label=good<br>tsne_0=%{x}<br>tsne_1=%{y}<br>tsne_2=%{z}<extra></extra>",
         "legendgroup": "good",
         "marker": {
          "color": "#636efa",
          "opacity": 0.5,
          "size": 4,
          "symbol": "circle"
         },
         "mode": "markers",
         "name": "good",
         "scene": "scene",
         "showlegend": true,
         "type": "scatter3d",
         "x": [
          -0.029324200004339218,
          -6.0750555992126465,
          -1.7509496212005615,
          -3.3192262649536133,
          2.0570006370544434,
          6.891482353210449,
          -7.939529895782471,
          -2.876227617263794,
          -4.058644771575928,
          -8.129623413085938,
          5.871492385864258,
          5.733928203582764,
          -5.41234827041626,
          5.51560640335083,
          -4.721370220184326,
          -0.7121734619140625,
          -8.36744499206543,
          4.436883926391602,
          -10.666749954223633,
          2.4476871490478516,
          -5.872799396514893,
          -1.1697320938110352,
          3.887157678604126,
          5.037835121154785,
          -1.7806613445281982,
          -2.829861879348755,
          9.79723072052002,
          -10.625191688537598,
          -5.266127109527588,
          2.265467405319214,
          -4.663891792297363,
          -9.452597618103027,
          -3.160452365875244,
          -2.143864393234253,
          -0.22353491187095642,
          -8.259920120239258,
          5.277690887451172,
          -3.3459646701812744,
          0.16701744496822357,
          -5.266132354736328,
          -9.58637523651123,
          -11.58294677734375,
          -3.927595615386963,
          3.943356513977051,
          8.431034088134766,
          -1.447602391242981,
          0.7170695066452026,
          -3.9950573444366455,
          2.7667198181152344,
          2.7303707599639893,
          -1.4808732271194458,
          -9.048555374145508,
          2.2257888317108154,
          -4.21207332611084,
          -7.00536584854126,
          -0.31545642018318176,
          -1.2028812170028687,
          1.8865340948104858,
          3.957388162612915,
          6.7905402183532715,
          12.363896369934082,
          3.188502788543701,
          7.033669471740723,
          0.4403860867023468,
          -5.492401123046875,
          8.296295166015625,
          -0.6749691367149353,
          2.286444902420044,
          -0.4347641170024872,
          -2.434175491333008,
          -0.059875961393117905,
          3.5272202491760254,
          -0.5097696185112,
          6.073842525482178,
          3.786862373352051,
          5.565069675445557,
          5.171649932861328,
          -7.858094215393066,
          -1.3945894241333008,
          1.7246838808059692,
          -7.607175350189209,
          4.958942413330078,
          -11.304064750671387,
          -0.5867538452148438,
          -9.977113723754883,
          -0.3081786334514618,
          -5.935721397399902,
          -11.61414909362793,
          -3.135786294937134,
          -5.469389915466309,
          5.032994747161865,
          6.414176940917969,
          -3.4880597591400146,
          3.7170159816741943,
          2.4864425659179688,
          6.665332317352295,
          2.5148472785949707,
          6.8338303565979,
          6.126300811767578,
          -3.587623357772827,
          -1.0783274173736572,
          0.26351484656333923,
          5.063664436340332,
          8.064966201782227,
          -1.2219040393829346,
          2.279141664505005,
          -6.017992973327637,
          7.898456573486328,
          3.530410051345825,
          -5.228672504425049,
          0.34878578782081604,
          -8.804466247558594,
          3.216460943222046,
          1.1520909070968628,
          2.9494779109954834,
          1.6035935878753662,
          -0.938495397567749,
          8.077997207641602,
          10.899286270141602,
          10.650127410888672,
          6.080356597900391,
          10.131254196166992,
          9.844738006591797,
          -3.1687068939208984,
          -8.068411827087402,
          -5.79360294342041,
          -4.53167200088501,
          -2.9572010040283203,
          -1.661637306213379,
          -1.0185037851333618,
          6.457950115203857,
          -6.5368332862854,
          -0.30481117963790894,
          -3.6068990230560303,
          0.6844881176948547,
          -5.837098598480225,
          -11.891118049621582,
          -4.796974182128906,
          -2.783825635910034,
          9.886009216308594,
          7.0388288497924805,
          13.882342338562012,
          -6.682476997375488,
          1.9488940238952637,
          -4.358799934387207,
          0.7393097877502441,
          1.2257564067840576,
          13.866786003112793,
          -5.655102252960205,
          0.9833270907402039,
          -11.1358003616333,
          -1.5960402488708496,
          -2.0025475025177,
          -4.662860870361328,
          0.8229995369911194,
          -1.8496092557907104,
          3.680910587310791,
          8.806428909301758,
          10.57730770111084,
          -5.198991298675537,
          7.739044666290283,
          10.82319164276123,
          13.898491859436035,
          -4.491911888122559,
          -3.4081203937530518,
          8.222511291503906,
          0.7990372776985168,
          -5.584781646728516,
          -1.1954578161239624,
          -6.273927688598633,
          -6.363620758056641,
          5.58444881439209,
          -2.0356192588806152,
          -5.396297931671143,
          -2.259317398071289,
          -2.825317621231079,
          -1.6849499940872192,
          1.7648181915283203,
          1.9047938585281372,
          1.4571794271469116,
          -1.0985180139541626,
          -1.3521677255630493,
          -1.4649797677993774,
          6.265628814697266,
          10.176712989807129,
          6.383334159851074,
          -7.322333335876465,
          -8.660996437072754,
          13.878137588500977,
          13.88926887512207,
          4.7689690589904785,
          11.553154945373535,
          -3.0335543155670166,
          -5.866475582122803,
          3.3753604888916016,
          -9.635432243347168,
          -4.496855735778809,
          4.550161838531494,
          1.539736032485962,
          5.4669508934021,
          -3.4917654991149902,
          -5.214931488037109,
          -11.858491897583008,
          2.5998873710632324,
          -0.7575148940086365,
          -3.2793736457824707,
          3.8622307777404785,
          -1.3990727663040161,
          -0.7127174735069275,
          -3.0792860984802246,
          -5.508790969848633,
          -5.706813812255859,
          -6.808804512023926,
          6.9230637550354,
          3.1594903469085693,
          9.281933784484863,
          -9.963899612426758,
          3.1630067825317383,
          -3.110193967819214,
          3.637197494506836,
          -4.0513224601745605,
          8.62205982208252,
          -4.864570140838623,
          2.7554852962493896,
          6.115850925445557,
          -3.983264684677124,
          -7.134960651397705,
          7.138261318206787,
          -0.8500780463218689,
          4.389797687530518,
          -5.359681129455566,
          -1.9855692386627197,
          0.1894972324371338,
          -5.372375011444092,
          -2.9375433921813965,
          10.666945457458496,
          11.897396087646484,
          0.9035763740539551,
          -1.6788768768310547,
          4.515749931335449,
          -2.434222936630249,
          10.010705947875977,
          -1.807977557182312,
          6.870407581329346,
          -2.81549334526062,
          -11.361286163330078,
          -3.407749652862549,
          -0.7208257913589478,
          -3.923064708709717,
          0.5806547403335571,
          -5.332134246826172,
          3.5527284145355225,
          -4.6774582862854,
          -9.843175888061523,
          -5.7804388999938965,
          -8.580352783203125,
          -2.3821144104003906,
          0.3878287374973297,
          -1.2286015748977661,
          -10.984508514404297,
          -4.864553928375244,
          -1.9124705791473389,
          -3.6090993881225586,
          -1.9296801090240479,
          1.4422571659088135,
          9.922258377075195,
          -6.153968334197998,
          -1.9229447841644287,
          11.342707633972168,
          1.9885858297348022,
          -3.210371255874634,
          9.38193416595459,
          -6.66370153427124,
          -11.821722030639648,
          -3.602797269821167,
          -0.6679807901382446,
          1.741869330406189,
          5.187528610229492,
          -3.327545166015625,
          8.118809700012207,
          -3.722405195236206,
          -2.0135746002197266,
          -9.60118579864502,
          -2.531832695007324,
          5.942267894744873,
          -1.8859620094299316,
          -0.811465859413147,
          -0.24752067029476166,
          -2.5161054134368896,
          6.629800319671631,
          3.5609631538391113,
          2.129228115081787,
          7.31837272644043,
          3.207366704940796,
          -0.32177841663360596,
          -0.24698872864246368,
          5.2133002281188965,
          6.220983982086182,
          2.270869016647339,
          -1.6863206624984741,
          5.0677618980407715,
          2.093658447265625,
          -3.7954518795013428,
          -0.17220348119735718,
          -6.789500713348389,
          6.59063720703125,
          -4.636507034301758,
          -9.812309265136719,
          -6.336976528167725,
          10.324265480041504,
          11.340747833251953,
          1.3685873746871948,
          -3.3469972610473633,
          3.8816840648651123,
          -1.9162758588790894,
          -3.6797311305999756,
          11.773813247680664,
          -5.181223392486572,
          -4.318470478057861,
          3.2855920791625977,
          1.4282788038253784,
          7.9354329109191895,
          -3.516547441482544,
          8.361336708068848,
          -5.65108060836792,
          10.054247856140137,
          -3.4217545986175537,
          2.065659999847412,
          -6.559213161468506,
          -7.250837326049805,
          3.505972146987915,
          -4.839373588562012,
          -0.4122629165649414,
          3.9111907482147217,
          -3.1483395099639893,
          -2.882395029067993,
          4.368081569671631,
          6.201098918914795,
          5.094118118286133,
          2.586369514465332,
          -5.093902587890625,
          -9.345172882080078,
          -4.73991584777832,
          -6.520695209503174,
          -5.920974254608154,
          -0.26443150639533997,
          -11.353595733642578,
          6.769870758056641,
          3.020014762878418,
          0.31547197699546814,
          -1.6996721029281616,
          -4.056410789489746,
          6.697693824768066,
          -4.440624713897705,
          8.277533531188965,
          5.9566874504089355,
          5.779516696929932,
          -5.716254234313965,
          0.5371436476707458,
          4.051784992218018,
          -6.800851821899414,
          2.6572482585906982,
          -0.18513110280036926,
          -8.028020858764648,
          -1.1675251722335815,
          10.0195894241333,
          3.4821338653564453,
          -1.9234100580215454,
          -6.804305553436279,
          4.555201053619385,
          3.0220441818237305,
          3.3699588775634766,
          2.7298426628112793,
          -2.378183603286743,
          -6.775675296783447,
          -1.5902156829833984,
          -5.876031875610352,
          0.9265822172164917,
          1.1348077058792114,
          -10.32482624053955,
          -1.9607144594192505,
          4.243290901184082,
          6.585926055908203,
          -3.8729028701782227,
          -5.027770042419434,
          0.0036453658249229193,
          2.08756422996521,
          -4.713240623474121,
          -3.547640800476074,
          -1.7199255228042603,
          -8.222758293151855,
          -2.5924789905548096,
          5.955954551696777,
          -2.9815337657928467,
          -2.6733615398406982,
          2.390526533126831,
          1.3922145366668701,
          -5.411556720733643,
          -5.211525917053223,
          -1.2004984617233276,
          6.618496417999268,
          1.8855221271514893,
          9.029494285583496,
          8.034430503845215,
          1.713334560394287,
          -4.331852912902832,
          -1.4765318632125854,
          0.661140501499176,
          -8.105851173400879,
          5.085684776306152,
          7.5613627433776855,
          4.804861545562744,
          -6.967886447906494,
          -6.606871128082275,
          10.589298248291016,
          -0.25693222880363464,
          -1.1348296403884888,
          -1.917115330696106,
          5.149494647979736,
          -5.395845890045166,
          -1.8772250413894653,
          4.995894908905029,
          -3.193056583404541,
          9.256903648376465,
          12.014838218688965,
          -4.760201930999756,
          7.482368469238281,
          -10.41221809387207,
          10.053359985351562,
          -5.2791523933410645,
          1.3582640886306763,
          -5.872274398803711,
          1.989752173423767,
          -5.8959245681762695,
          -2.325100898742676,
          -6.376899242401123,
          2.6786091327667236,
          4.343983173370361,
          -10.081846237182617,
          -4.882338523864746,
          -9.90865707397461,
          -8.470796585083008,
          -11.375197410583496,
          -11.120362281799316,
          -4.640025615692139,
          6.497486114501953,
          4.284665107727051,
          1.4793212413787842,
          -0.778124988079071,
          7.931892395019531,
          5.080300807952881,
          1.6447250843048096,
          4.521432876586914,
          -8.555335998535156,
          -11.804424285888672,
          0.5673331022262573,
          0.2560223937034607,
          -8.133296966552734,
          -8.215117454528809,
          -5.683562278747559,
          -9.020682334899902,
          -10.312150001525879,
          11.797585487365723,
          -9.531671524047852,
          -9.513338088989258,
          8.381096839904785,
          -9.71580982208252,
          -5.4250006675720215,
          6.494469165802002,
          -1.6161555051803589,
          2.11354660987854,
          -2.7103829383850098,
          6.6486334800720215,
          8.466164588928223,
          -4.502701759338379,
          -5.025528907775879,
          -2.137368679046631,
          -6.922177314758301,
          -6.936230182647705,
          -2.517491102218628,
          -9.555628776550293,
          -5.708464622497559,
          -5.7085161209106445,
          -5.708407878875732,
          2.0568032264709473,
          3.708235502243042,
          6.3009724617004395,
          3.4763736724853516,
          4.670654773712158,
          6.427480220794678,
          3.9423391819000244,
          -6.4607462882995605,
          3.036813735961914,
          -0.6657602787017822,
          -7.879559516906738,
          0.9081100821495056,
          -7.0377068519592285,
          -2.955357313156128,
          -11.289899826049805,
          -4.532966613769531,
          7.536329746246338,
          -10.499490737915039,
          -1.1081533432006836,
          -5.830571174621582,
          -2.213250160217285,
          2.4430108070373535,
          -5.640807151794434,
          -1.370084524154663,
          5.350732326507568,
          -7.275848388671875,
          -3.8635597229003906,
          10.135671615600586,
          8.825608253479004,
          -1.7840602397918701,
          -5.8753557205200195,
          -5.213313102722168,
          -7.724546909332275,
          7.535890579223633,
          -5.634545803070068,
          -2.764549493789673,
          3.9558448791503906,
          -0.9914605617523193,
          -3.7548582553863525,
          2.479177236557007,
          -3.7856674194335938,
          -5.479050636291504,
          -4.362606525421143,
          -6.102595329284668,
          -0.004122241400182247,
          -6.334997653961182,
          4.275054454803467,
          -4.944897651672363,
          -5.266901969909668,
          2.776172637939453,
          1.282607913017273,
          -4.432590484619141,
          7.876206398010254,
          -1.9645284414291382,
          4.293456554412842,
          -0.7143856287002563,
          2.7064502239227295,
          -5.313258171081543,
          -1.5129696130752563,
          7.474029541015625,
          -2.5310516357421875,
          -6.055397987365723,
          1.5619693994522095,
          -2.9590728282928467,
          -4.039799213409424,
          2.438380718231201,
          3.925976514816284,
          1.6680189371109009,
          -10.034743309020996,
          -3.450598955154419,
          -8.686055183410645,
          -6.8030924797058105,
          -2.2519609928131104,
          -1.8664716482162476,
          -10.756804466247559,
          -1.7622956037521362,
          -11.429200172424316,
          -5.4252142906188965,
          0.9346411228179932,
          -7.202569484710693,
          -1.477632761001587,
          2.411503314971924,
          -2.2559280395507812,
          5.298961162567139,
          -2.6647682189941406,
          1.9682193994522095,
          -2.3032662868499756,
          -6.920816421508789,
          1.7811341285705566,
          -2.6446354389190674,
          6.007130146026611,
          2.358335018157959,
          2.162325620651245,
          -9.785411834716797,
          -1.6684197187423706,
          -10.325834274291992,
          3.1790482997894287,
          -3.3324716091156006,
          7.634157657623291,
          2.757930040359497,
          1.3776274919509888,
          -10.040972709655762,
          -4.665769100189209,
          -2.280658006668091,
          -3.53924822807312,
          -1.0164008140563965,
          0.48564526438713074,
          3.93253231048584,
          1.836554765701294,
          2.447293281555176,
          5.879923343658447,
          -5.471349716186523,
          1.9853006601333618,
          0.5395876169204712,
          -6.253945827484131,
          -1.6556833982467651,
          0.86362224817276,
          -3.2238757610321045,
          -5.085925579071045,
          3.480123519897461,
          3.116004467010498,
          -2.9221408367156982,
          -7.073400497436523,
          -6.6324462890625,
          -10.600606918334961,
          -0.7011730074882507,
          1.646536111831665,
          5.693116664886475,
          10.663870811462402,
          6.496413230895996,
          7.096630573272705,
          -2.8699307441711426,
          5.833232879638672,
          5.964405536651611,
          0.2637659013271332,
          3.9833459854125977,
          -2.350229263305664,
          -2.8908631801605225,
          5.238088607788086,
          -3.72377347946167,
          0.26657024025917053,
          -7.411754608154297,
          -6.277093410491943,
          -6.017608165740967,
          -3.7151355743408203,
          0.9610824584960938,
          2.658614158630371,
          10.634004592895508,
          -11.764888763427734,
          7.189929008483887,
          -1.2137322425842285,
          -9.934858322143555,
          0.7021883726119995,
          -5.039734363555908,
          -9.357184410095215,
          -3.4490954875946045,
          -3.4305264949798584,
          7.788766860961914,
          8.741063117980957,
          6.350595474243164,
          8.05565071105957,
          1.913567066192627,
          -7.653618812561035,
          -9.750565528869629,
          -3.2182347774505615,
          -3.244232416152954,
          -2.4038801193237305,
          -8.29787826538086,
          2.4616506099700928,
          -8.38204288482666,
          -6.531772613525391,
          2.7785913944244385,
          -1.4408957958221436,
          -2.1101157665252686,
          4.962346076965332,
          2.7772343158721924,
          -8.293246269226074,
          -7.446501731872559,
          -0.05645741894841194,
          -10.748680114746094,
          1.6262056827545166,
          2.864091157913208,
          7.286313533782959,
          9.797100067138672,
          -0.5435090661048889,
          -0.8036567568778992,
          -2.0669124126434326,
          0.051211919635534286,
          0.6142081618309021,
          -1.8610103130340576,
          -9.84483814239502,
          -4.215318202972412,
          -3.231329917907715,
          -2.2148420810699463,
          -1.2693730592727661,
          -6.97318696975708,
          6.960742473602295,
          4.52275276184082,
          10.100340843200684,
          -10.042332649230957,
          -3.713925838470459,
          4.648383140563965,
          7.659534931182861,
          12.407363891601562,
          -5.955486297607422,
          2.503980875015259,
          4.3855485916137695,
          -8.596590042114258,
          4.138204574584961,
          -4.199224948883057,
          -6.88672399520874,
          -6.2692155838012695,
          -4.554592132568359,
          1.2882287502288818,
          0.3667588531970978,
          6.054275989532471,
          -5.274011611938477,
          5.441354751586914,
          -10.700209617614746,
          -2.714151382446289,
          0.41188010573387146,
          0.20237712562084198,
          -1.3560898303985596,
          -10.761134147644043,
          -7.249044418334961,
          -3.64782452583313,
          4.485904216766357,
          4.911905765533447,
          -2.343843698501587,
          1.4848765134811401,
          4.345125198364258,
          -2.1463849544525146,
          1.0184414386749268,
          1.1475754976272583,
          1.1656936407089233,
          -9.93414306640625,
          -1.4488104581832886,
          -1.7895246744155884,
          1.383924126625061,
          -6.962608814239502,
          -7.759056568145752,
          -5.956809043884277,
          -2.035785436630249,
          1.8319305181503296,
          -1.3124631643295288,
          -3.1356968879699707,
          -3.6131069660186768,
          -6.769959926605225,
          -7.203304767608643,
          -0.062479425221681595,
          -1.3507757186889648,
          0.20375455915927887,
          -1.3062199354171753,
          -7.569248199462891,
          8.46438217163086,
          -2.6342203617095947,
          1.6656789779663086,
          5.722506046295166,
          2.5118346214294434,
          1.8064186573028564,
          -5.500748157501221,
          -0.35005778074264526,
          2.0683469772338867,
          -3.224341630935669,
          -3.6130917072296143,
          -0.1246858686208725,
          -5.505313873291016,
          4.592459201812744,
          4.043181896209717,
          3.857957363128662,
          2.7570736408233643,
          1.3972538709640503,
          4.866803169250488,
          -3.4143266677856445,
          -0.9985207915306091,
          4.350479602813721,
          -6.181506633758545,
          6.139227390289307,
          -3.921113967895508,
          -0.27784040570259094,
          1.937719702720642,
          -2.1153922080993652,
          -6.913972854614258,
          -3.9111385345458984,
          0.8140432834625244,
          -4.705082893371582,
          -2.060133695602417,
          -0.5472318530082703,
          -2.659491539001465,
          3.503115177154541,
          6.551936149597168,
          -6.657111644744873,
          2.1899943351745605,
          -5.524039268493652,
          5.697357177734375,
          -10.862814903259277,
          -5.383874416351318,
          5.393642425537109,
          -3.7206194400787354,
          -4.618786811828613,
          -7.26392126083374,
          -8.609888076782227,
          0.5434346795082092,
          -2.5599069595336914,
          2.132117509841919,
          1.746951937675476,
          -0.503459632396698,
          -8.817014694213867,
          -10.293939590454102,
          0.7362602353096008,
          -3.7574076652526855,
          -2.3468332290649414,
          2.443178176879883,
          -6.7868757247924805,
          -2.402768850326538,
          -3.7723336219787598,
          -4.148385524749756,
          -5.595337390899658,
          -6.688671112060547,
          -8.018359184265137,
          2.633493423461914,
          -11.214471817016602,
          -11.593612670898438,
          2.9186644554138184,
          -10.236201286315918,
          4.031124114990234,
          5.983542442321777,
          -1.0026216506958008,
          -3.0488007068634033
         ],
         "y": [
          -4.757153511047363,
          5.38637113571167,
          -5.3015546798706055,
          -8.249399185180664,
          -3.447908401489258,
          4.188699245452881,
          3.213160991668701,
          -0.4332555830478668,
          -3.6124179363250732,
          4.765841960906982,
          1.7758314609527588,
          -9.271835327148438,
          -0.5937565565109253,
          6.6250176429748535,
          3.6336052417755127,
          4.038210868835449,
          2.9454002380371094,
          -7.608381748199463,
          3.8405838012695312,
          0.8841410279273987,
          4.2801194190979,
          5.594759941101074,
          -5.503077030181885,
          -5.720916748046875,
          4.1729254722595215,
          -4.886541366577148,
          1.219465732574463,
          3.845606565475464,
          5.977812767028809,
          -4.944232940673828,
          -3.54284405708313,
          -0.2776852250099182,
          -2.890808343887329,
          0.8025699257850647,
          -6.561690807342529,
          4.203867435455322,
          4.346355438232422,
          3.101879358291626,
          5.020949840545654,
          -7.461780548095703,
          -1.3490270376205444,
          3.0454585552215576,
          3.9167189598083496,
          -8.33243465423584,
          -1.8631972074508667,
          3.723660945892334,
          1.5863802433013916,
          2.2883334159851074,
          6.595821857452393,
          6.309431552886963,
          5.931072235107422,
          5.2827677726745605,
          -3.6380984783172607,
          4.202203750610352,
          5.984776973724365,
          5.563565254211426,
          -3.2510101795196533,
          -8.231024742126465,
          -4.335835933685303,
          5.090566158294678,
          3.0337746143341064,
          -3.847451686859131,
          2.391326665878296,
          -4.154196262359619,
          0.8706557750701904,
          5.7972822189331055,
          -3.991024971008301,
          -4.8682942390441895,
          -6.044653415679932,
          -1.2395439147949219,
          6.04758358001709,
          -7.32734489440918,
          -0.5543977618217468,
          -0.7202706933021545,
          -1.186551809310913,
          -8.946311950683594,
          4.585005283355713,
          5.1577630043029785,
          -6.920022010803223,
          -6.316422939300537,
          -0.27060914039611816,
          1.696640968322754,
          3.765223979949951,
          2.0069024562835693,
          -1.4642879962921143,
          -6.371579170227051,
          -0.92516028881073,
          4.51004695892334,
          0.3350377082824707,
          2.7700321674346924,
          0.3422040045261383,
          -0.3535211682319641,
          -2.464778184890747,
          2.4082937240600586,
          -4.61332893371582,
          5.218966007232666,
          -0.24046014249324799,
          -6.2639970779418945,
          -0.09199085086584091,
          -4.5407938957214355,
          1.1088730096817017,
          -4.494133472442627,
          -4.599105358123779,
          -0.34986597299575806,
          1.1504825353622437,
          -3.8378162384033203,
          0.7330686450004578,
          -1.7912968397140503,
          -7.373529434204102,
          -5.750620365142822,
          1.860738754272461,
          -1.5491061210632324,
          -0.11758694052696228,
          7.297161102294922,
          7.75187349319458,
          -6.081227779388428,
          -4.479930400848389,
          -2.0261058807373047,
          5.110215663909912,
          5.2653350830078125,
          5.497189998626709,
          5.280064105987549,
          5.420500755310059,
          1.754331111907959,
          5.860041618347168,
          -9.596417427062988,
          1.321330189704895,
          4.335348129272461,
          2.1265783309936523,
          0.9212629199028015,
          -8.128243446350098,
          3.902143716812134,
          5.154995441436768,
          -9.068695068359375,
          0.17327764630317688,
          -6.021442890167236,
          5.6229567527771,
          -0.11453908681869507,
          -1.3206089735031128,
          1.504862904548645,
          -3.6249022483825684,
          4.940738201141357,
          -0.5210819840431213,
          3.37492036819458,
          -0.06684549152851105,
          7.377340793609619,
          -6.852512359619141,
          4.935326099395752,
          -7.521041393280029,
          -0.4986773431301117,
          6.35543155670166,
          -3.373213529586792,
          -3.6177315711975098,
          -4.721588134765625,
          -5.1095170974731445,
          2.2598061561584473,
          -1.2959884405136108,
          -2.1420271396636963,
          1.682634711265564,
          7.359862327575684,
          5.9638991355896,
          4.370003700256348,
          4.9470343589782715,
          2.7457733154296875,
          -4.420321464538574,
          0.1334189623594284,
          0.35692086815834045,
          -9.709436416625977,
          6.168745994567871,
          2.6846909523010254,
          5.250672817230225,
          5.392223358154297,
          4.032420635223389,
          -4.915876388549805,
          0.2865222990512848,
          -4.775807857513428,
          1.8382335901260376,
          -3.4103028774261475,
          -2.9339046478271484,
          4.333405017852783,
          -0.494026243686676,
          6.809937000274658,
          1.3774333000183105,
          1.4201933145523071,
          5.38067102432251,
          5.115327835083008,
          1.4933170080184937,
          5.488327980041504,
          4.938982009887695,
          4.943258285522461,
          2.118746280670166,
          4.883646011352539,
          0.5990106463432312,
          0.6933273673057556,
          -3.439861536026001,
          5.991085052490234,
          3.6327767372131348,
          -0.5682159066200256,
          -1.2835519313812256,
          -5.284628391265869,
          -1.9457542896270752,
          -4.2635626792907715,
          4.1818952560424805,
          -4.990143299102783,
          2.038107395172119,
          -1.0069631338119507,
          -4.952215671539307,
          -6.960068702697754,
          5.372489929199219,
          -2.1738460063934326,
          6.765254020690918,
          7.118438243865967,
          -2.2662224769592285,
          -6.201159477233887,
          6.796403408050537,
          3.7747690677642822,
          0.775198757648468,
          -4.240496635437012,
          -3.925203800201416,
          0.017896082252264023,
          2.3202788829803467,
          4.986627578735352,
          -0.0006571055855602026,
          0.11004883050918579,
          -4.53452730178833,
          -5.495540618896484,
          1.5503795146942139,
          -1.0514613389968872,
          1.1662371158599854,
          1.778069019317627,
          -0.012469629757106304,
          -4.829258441925049,
          2.9075071811676025,
          -0.6825904846191406,
          -0.08011244237422943,
          3.662153720855713,
          4.4847893714904785,
          -0.7022115588188171,
          4.04266881942749,
          5.590463638305664,
          -2.183316707611084,
          3.70902419090271,
          -6.715565204620361,
          2.920376777648926,
          0.057574350386857986,
          3.725358724594116,
          -4.6800007820129395,
          1.0130209922790527,
          1.4485585689544678,
          0.854365885257721,
          4.812472820281982,
          1.461773157119751,
          -4.7308549880981445,
          3.4957311153411865,
          8.443300247192383,
          -0.7703171372413635,
          7.034442901611328,
          7.469155311584473,
          -6.928145885467529,
          2.3707234859466553,
          -5.903129577636719,
          -3.579611301422119,
          -4.9462127685546875,
          -1.8303143978118896,
          4.478574275970459,
          5.956136703491211,
          0.6788039803504944,
          -8.648635864257812,
          4.299032688140869,
          0.9230498671531677,
          -3.582576274871826,
          3.7670812606811523,
          6.999011993408203,
          3.3464157581329346,
          3.946664810180664,
          1.2979514598846436,
          1.4641025066375732,
          1.313398838043213,
          -2.1342756748199463,
          3.355994701385498,
          4.039612293243408,
          -8.561638832092285,
          0.1882086843252182,
          -8.44324016571045,
          -0.5428929924964905,
          -0.9860514402389526,
          -0.14276674389839172,
          5.310202598571777,
          -8.360527038574219,
          -8.03046703338623,
          -5.274489879608154,
          -6.657902717590332,
          -3.8904969692230225,
          5.34556770324707,
          5.949830532073975,
          -0.5188549160957336,
          -7.2368292808532715,
          1.9974559545516968,
          -0.09286646544933319,
          3.7471580505371094,
          -7.960374355316162,
          -0.15923266112804413,
          -9.104008674621582,
          1.8893835544586182,
          1.1680779457092285,
          -2.2902421951293945,
          0.9352366328239441,
          2.1365106105804443,
          1.5382168292999268,
          3.978433609008789,
          4.551238059997559,
          -1.1999764442443848,
          -0.23828215897083282,
          -3.7390778064727783,
          -2.643038749694824,
          -4.2109904289245605,
          4.0080952644348145,
          0.7249515652656555,
          -4.555559158325195,
          -6.5907182693481445,
          -5.6835479736328125,
          3.056898355484009,
          -0.6776010990142822,
          4.270945072174072,
          2.7697861194610596,
          0.14351241290569305,
          4.546568870544434,
          4.367300987243652,
          6.3696746826171875,
          -1.4221758842468262,
          4.1331305503845215,
          1.1745063066482544,
          -0.67783123254776,
          4.902686595916748,
          2.6192712783813477,
          -8.367341995239258,
          -2.9926936626434326,
          -9.14925765991211,
          -7.833556175231934,
          4.037902355194092,
          1.827168583869934,
          0.28418880701065063,
          -1.4507572650909424,
          3.6967077255249023,
          -0.7447306513786316,
          6.37052059173584,
          5.401493072509766,
          -0.6409856677055359,
          -6.234784126281738,
          -7.500370025634766,
          -1.9914114475250244,
          -0.8437461853027344,
          -8.229043006896973,
          -1.1475627422332764,
          -0.72572261095047,
          -7.311051368713379,
          1.5492533445358276,
          -4.983404159545898,
          -4.319162845611572,
          -3.8042056560516357,
          1.546607255935669,
          0.4023606479167938,
          -7.624445915222168,
          4.8161420822143555,
          -7.218714714050293,
          5.976284980773926,
          -6.682696342468262,
          -3.6562161445617676,
          -3.6159896850585938,
          -4.606009006500244,
          4.69991397857666,
          -3.564392328262329,
          -4.081542015075684,
          4.554976940155029,
          0.38090163469314575,
          4.924205303192139,
          3.2434775829315186,
          7.270451545715332,
          3.1844635009765625,
          5.864115238189697,
          -5.971536159515381,
          -6.976504802703857,
          -7.9941911697387695,
          -4.162806987762451,
          3.598323106765747,
          7.159958839416504,
          -4.932302474975586,
          5.755202293395996,
          4.245711326599121,
          -3.0235092639923096,
          2.6570980548858643,
          -3.6827661991119385,
          4.021673679351807,
          1.7451317310333252,
          0.5248741507530212,
          1.092125415802002,
          1.4521344900131226,
          -4.882515907287598,
          8.027815818786621,
          1.0979758501052856,
          -7.5393218994140625,
          2.80718731880188,
          4.057235240936279,
          -3.3496339321136475,
          -0.4838624596595764,
          -6.65653133392334,
          -2.616847038269043,
          4.747016906738281,
          -1.4923030138015747,
          -7.5355610847473145,
          -2.176642656326294,
          -6.1549835205078125,
          4.799139499664307,
          0.1639406532049179,
          -0.37720319628715515,
          -1.1561869382858276,
          5.896442413330078,
          6.252767562866211,
          -4.4453606605529785,
          -4.183914661407471,
          6.3056745529174805,
          3.343752384185791,
          3.7282989025115967,
          1.1337110996246338,
          3.9493086338043213,
          -4.685675144195557,
          2.3621630668640137,
          1.0736545324325562,
          -2.112304925918579,
          4.302702903747559,
          -7.12438440322876,
          5.864314556121826,
          6.500460147857666,
          -8.35925579071045,
          0.2501092553138733,
          6.168231010437012,
          -5.0678935050964355,
          -8.819419860839844,
          0.12287742644548416,
          5.37272834777832,
          -1.7951104640960693,
          2.973414897918701,
          5.724188804626465,
          4.802707672119141,
          -4.675265789031982,
          1.3816527128219604,
          -3.600414752960205,
          0.351372092962265,
          -4.471827983856201,
          -3.3635315895080566,
          -3.9701626300811768,
          4.534092903137207,
          -4.593263149261475,
          4.838459014892578,
          2.7242186069488525,
          -1.936808705329895,
          -4.475635051727295,
          -0.43519502878189087,
          3.2162137031555176,
          -6.138542652130127,
          0.06274466216564178,
          1.4564852714538574,
          3.9886667728424072,
          2.887601137161255,
          0.011865358799695969,
          3.7373335361480713,
          -0.13093191385269165,
          5.779786586761475,
          -8.034989356994629,
          -3.438202381134033,
          3.608198404312134,
          0.5915882587432861,
          -0.20150884985923767,
          4.751977920532227,
          2.5222737789154053,
          7.546804428100586,
          6.657049179077148,
          8.145585060119629,
          -3.1171438694000244,
          4.4471564292907715,
          3.5237298011779785,
          0.9208521842956543,
          0.9207790493965149,
          0.9206252098083496,
          4.710178852081299,
          -5.830414295196533,
          -4.971097469329834,
          -5.0565032958984375,
          -2.6613223552703857,
          1.4489457607269287,
          5.359553337097168,
          1.473801851272583,
          -5.121530532836914,
          3.9207961559295654,
          3.809290647506714,
          7.340945243835449,
          2.444312334060669,
          0.40482234954833984,
          2.9458394050598145,
          0.18799921870231628,
          3.051680564880371,
          4.046881675720215,
          4.635378837585449,
          0.09723060578107834,
          -1.5737086534500122,
          -4.181343078613281,
          4.865342140197754,
          -2.709510564804077,
          4.174295902252197,
          -0.47200050950050354,
          1.3091259002685547,
          5.371252059936523,
          4.7493133544921875,
          -1.1297961473464966,
          -4.789116859436035,
          -6.521519660949707,
          -1.6399383544921875,
          -0.1429918259382248,
          5.663786888122559,
          -2.6280009746551514,
          4.672321796417236,
          2.4107632637023926,
          -7.555178165435791,
          -9.261940956115723,
          -9.139880180358887,
          -9.796199798583984,
          -2.351776123046875,
          -6.206052303314209,
          -8.84243106842041,
          3.264787197113037,
          -8.644445419311523,
          1.2956303358078003,
          3.338350534439087,
          -3.779759168624878,
          -7.1058502197265625,
          -8.982937812805176,
          -0.8769170045852661,
          -8.758788108825684,
          -4.813064098358154,
          -6.242373466491699,
          -0.3210230767726898,
          -7.588820457458496,
          4.206496715545654,
          -3.6928322315216064,
          -1.6747543811798096,
          1.2093983888626099,
          -0.17898377776145935,
          -3.805769205093384,
          -5.388635635375977,
          -0.19872532784938812,
          4.677117347717285,
          0.5738199353218079,
          5.6816725730896,
          2.2248342037200928,
          -0.8146937489509583,
          -3.7184343338012695,
          0.6843423247337341,
          -1.081545352935791,
          2.5235044956207275,
          5.186071395874023,
          5.82413911819458,
          -4.896292209625244,
          2.071183443069458,
          5.595573902130127,
          5.517462730407715,
          6.9876790046691895,
          -1.3848751783370972,
          -7.065121173858643,
          -0.1573791354894638,
          3.8168303966522217,
          5.614973068237305,
          6.024478435516357,
          -3.4090816974639893,
          -0.4947109818458557,
          4.578610897064209,
          -0.49201133847236633,
          1.3425034284591675,
          3.7468857765197754,
          3.189458131790161,
          1.9558740854263306,
          4.0296711921691895,
          -4.496644020080566,
          -0.2234109342098236,
          -3.845318078994751,
          -4.35407829284668,
          3.3458683490753174,
          -7.526391506195068,
          -4.870339870452881,
          -3.3265092372894287,
          6.6807990074157715,
          -0.26358696818351746,
          6.201449394226074,
          -3.2236123085021973,
          2.0805957317352295,
          -4.5881524085998535,
          -6.217123031616211,
          -9.35820198059082,
          -3.9761621952056885,
          0.337504118680954,
          6.793475151062012,
          4.348536491394043,
          -0.4527352452278137,
          7.3614325523376465,
          -4.580963134765625,
          1.8405791521072388,
          1.1660852432250977,
          -2.8334429264068604,
          8.332306861877441,
          4.181726932525635,
          -7.280141353607178,
          4.340293884277344,
          5.338164329528809,
          2.866986036300659,
          -0.4574570059776306,
          -0.8630278706550598,
          3.554335594177246,
          5.689208984375,
          5.711470127105713,
          1.3152897357940674,
          -8.291190147399902,
          0.3757830560207367,
          -2.397850513458252,
          3.5635316371917725,
          -4.652481555938721,
          -7.704048156738281,
          5.722814559936523,
          -4.3879780769348145,
          0.903349757194519,
          -4.908352375030518,
          -3.2859115600585938,
          2.1282448768615723,
          -1.253041386604309,
          2.365680456161499,
          3.77695894241333,
          -9.123337745666504,
          -0.3493410646915436,
          -5.8435540199279785,
          3.0858466625213623,
          -0.4687780439853668,
          1.366521954536438,
          -2.3043558597564697,
          0.24907682836055756,
          3.0680489540100098,
          -7.127058029174805,
          1.2903072834014893,
          -5.969228744506836,
          4.9056267738342285,
          5.213164329528809,
          4.7452192306518555,
          1.154941201210022,
          -0.1510092318058014,
          -0.6261101961135864,
          1.1228270530700684,
          4.662590980529785,
          6.240302085876465,
          6.656040191650391,
          5.872798919677734,
          3.376338481903076,
          1.695702314376831,
          -3.794238567352295,
          4.477059841156006,
          -0.5838162302970886,
          -7.30668306350708,
          3.82181715965271,
          2.3357415199279785,
          -5.081666946411133,
          -3.752732276916504,
          1.3522273302078247,
          4.618544578552246,
          -6.297675132751465,
          5.771974086761475,
          5.3971781730651855,
          2.354421854019165,
          -8.587647438049316,
          0.7361831068992615,
          -5.781559467315674,
          -7.10245418548584,
          2.5629639625549316,
          2.198076009750366,
          4.101335048675537,
          -6.729068756103516,
          0.9478679895401001,
          3.9359889030456543,
          -0.2646917998790741,
          -7.005090713500977,
          -4.470005989074707,
          5.045929431915283,
          2.381204843521118,
          5.21128511428833,
          3.476123094558716,
          -4.274707794189453,
          3.780924081802368,
          -5.664762496948242,
          -7.83443546295166,
          6.988002300262451,
          0.544748842716217,
          1.428158164024353,
          0.40609413385391235,
          -3.997447967529297,
          0.11980835348367691,
          3.170283555984497,
          4.236519813537598,
          0.8114206194877625,
          -1.0740840435028076,
          0.5038420557975769,
          -6.891561031341553,
          -6.045641899108887,
          2.70261549949646,
          3.403587818145752,
          -2.1398754119873047,
          -3.987321138381958,
          3.7378766536712646,
          3.0083017349243164,
          3.206477642059326,
          -1.1074165105819702,
          -1.4007729291915894,
          -4.892358779907227,
          -3.726599931716919,
          0.062009137123823166,
          3.3919999599456787,
          -5.970122814178467,
          0.7066931128501892,
          -4.138295650482178,
          3.5715246200561523,
          1.940643310546875,
          7.227015972137451,
          3.130305767059326,
          0.9469215869903564,
          4.281412601470947,
          -0.024534936994314194,
          4.382875442504883,
          3.814223527908325,
          0.8660586476325989,
          3.309239625930786,
          -5.995574951171875,
          0.15708962082862854,
          -0.1983390748500824,
          -1.1143358945846558,
          -1.7388088703155518,
          1.0167955160140991,
          -6.499986171722412,
          -8.372869491577148,
          7.381198406219482,
          -6.921726226806641,
          7.34825325012207,
          -0.6350045204162598,
          -8.671202659606934,
          -8.06778335571289,
          4.382907390594482,
          -4.2771077156066895,
          3.123569965362549,
          -6.841404438018799,
          2.183673620223999,
          5.425620079040527,
          2.4526448249816895,
          2.290170669555664,
          1.6395100355148315,
          4.379275321960449,
          4.135190963745117,
          -4.627238750457764,
          0.20571011304855347,
          -0.18535566329956055,
          0.20855331420898438,
          3.2713613510131836,
          0.9129046201705933,
          -3.0555028915405273,
          -0.5450323820114136,
          -4.1536478996276855,
          -3.810894727706909,
          -5.343996524810791,
          4.241529941558838,
          6.08881139755249,
          -8.34892749786377,
          -9.09510612487793,
          -0.9990969300270081,
          5.820636749267578,
          -5.017909526824951,
          3.295231580734253,
          -6.210046768188477,
          1.8771109580993652,
          -7.421300411224365,
          1.0054744482040405,
          -1.920231580734253,
          4.956241607666016,
          1.7091999053955078,
          4.927706241607666,
          6.714381694793701,
          -2.5710391998291016,
          -6.463222980499268,
          -9.597799301147461,
          1.0223006010055542,
          3.36433744430542,
          0.5498546361923218,
          1.9320502281188965,
          1.219889760017395,
          -0.24432487785816193,
          -4.831813335418701,
          4.000906467437744,
          -1.5562783479690552,
          -0.880072295665741,
          -3.7422709465026855,
          5.303779125213623,
          3.7821238040924072,
          5.014590263366699,
          0.1429867446422577,
          4.585061550140381,
          5.636539936065674,
          -5.825459957122803,
          3.530912399291992,
          2.026817560195923,
          1.751952052116394,
          0.722882091999054,
          -4.0349860191345215
         ],
         "z": [
          0.912802517414093,
          -0.7352070808410645,
          0.11776529252529144,
          2.7111480236053467,
          1.3001227378845215,
          0.6054258942604065,
          1.586648941040039,
          -0.876448929309845,
          1.3990718126296997,
          1.6169954538345337,
          2.5570895671844482,
          -0.2191433310508728,
          -2.708423376083374,
          -1.0248676538467407,
          3.462411880493164,
          0.044220589101314545,
          -0.5167962312698364,
          -1.07744300365448,
          -3.446866273880005,
          0.9125181436538696,
          0.30885931849479675,
          4.115490436553955,
          -2.564279317855835,
          -1.3417110443115234,
          -1.0760836601257324,
          4.112136363983154,
          1.9386138916015625,
          -1.6001784801483154,
          -1.6080427169799805,
          -5.2815632820129395,
          -1.4689868688583374,
          1.6266626119613647,
          3.2807207107543945,
          -2.453547954559326,
          -1.9006645679473877,
          -2.623215436935425,
          0.7774900794029236,
          1.243321418762207,
          -2.3286569118499756,
          3.1535866260528564,
          0.3098578453063965,
          -0.5205264687538147,
          -4.306916236877441,
          -1.5437190532684326,
          1.4203038215637207,
          -0.6619184613227844,
          1.6902345418930054,
          -2.198604106903076,
          -0.9465432167053223,
          -1.2011265754699707,
          3.339989185333252,
          -1.3516075611114502,
          1.4056090116500854,
          1.944270372390747,
          0.9653516411781311,
          -2.518496036529541,
          -1.1185734272003174,
          -0.17201705276966095,
          -3.950162172317505,
          2.3812551498413086,
          2.9889657497406006,
          3.198922634124756,
          -0.2673460841178894,
          2.3890938758850098,
          -3.3465371131896973,
          2.7207419872283936,
          -1.595821738243103,
          3.983788251876831,
          2.911917209625244,
          -4.355218887329102,
          0.025102538987994194,
          -1.1104199886322021,
          -0.7344226241111755,
          -1.9978100061416626,
          -0.042882051318883896,
          -1.1961547136306763,
          1.7959235906600952,
          0.4239347279071808,
          0.7990303039550781,
          1.2426676750183105,
          -0.47396525740623474,
          4.015535831451416,
          -3.802680253982544,
          0.6977154016494751,
          0.5902431607246399,
          -2.2169201374053955,
          -1.3757566213607788,
          -0.9848635196685791,
          3.6544618606567383,
          -1.9354499578475952,
          -1.9603294134140015,
          -1.3598668575286865,
          3.7374675273895264,
          -0.23372797667980194,
          -5.635314464569092,
          2.5236165523529053,
          -1.6653716564178467,
          -3.8357725143432617,
          1.9664133787155151,
          -0.5840092897415161,
          -1.5136975049972534,
          -0.7875761389732361,
          -2.77783465385437,
          2.50180983543396,
          -3.5607521533966064,
          2.400998115539551,
          -3.72670841217041,
          1.1674326658248901,
          -3.4296112060546875,
          3.2063779830932617,
          2.553738594055176,
          2.7016873359680176,
          -0.8271312117576599,
          -0.4299468398094177,
          -1.7073312997817993,
          1.3211418390274048,
          0.9002578258514404,
          1.3599486351013184,
          3.258103132247925,
          3.0634467601776123,
          0.7256280183792114,
          2.1385557651519775,
          2.1775856018066406,
          3.4881980419158936,
          -2.1823015213012695,
          2.4798877239227295,
          -1.685498595237732,
          -1.941470742225647,
          0.818304181098938,
          2.0122101306915283,
          -2.1815202236175537,
          -3.1080219745635986,
          4.419751167297363,
          2.527728319168091,
          -1.3358920812606812,
          4.677065372467041,
          -1.0327926874160767,
          -4.213678359985352,
          -4.181593894958496,
          1.864925742149353,
          -2.568159341812134,
          3.567868947982788,
          -0.8358941078186035,
          -0.7399864792823792,
          -5.245136260986328,
          -0.3888131380081177,
          2.7649240493774414,
          3.5673630237579346,
          3.444711923599243,
          2.9044134616851807,
          -1.3658052682876587,
          -1.44627845287323,
          0.7741475701332092,
          1.6644246578216553,
          1.8956735134124756,
          -2.8805010318756104,
          -0.16128559410572052,
          0.9962307214736938,
          1.8254224061965942,
          -1.8684436082839966,
          2.9594531059265137,
          2.4823732376098633,
          3.5683786869049072,
          -5.220719814300537,
          2.8684885501861572,
          3.1816091537475586,
          1.5237993001937866,
          2.3496642112731934,
          4.5460591316223145,
          -1.8894588947296143,
          -0.42772871255874634,
          1.3994320631027222,
          -0.10311059653759003,
          -0.5902522802352905,
          -0.00023660867009311914,
          2.1783809661865234,
          -2.7823734283447266,
          -1.392940640449524,
          -1.4329301118850708,
          0.2443612962961197,
          4.534230709075928,
          0.3466840982437134,
          -2.210815906524658,
          1.308852195739746,
          1.5049312114715576,
          2.6005899906158447,
          -4.0992655754089355,
          -2.0678226947784424,
          3.5673952102661133,
          3.568053960800171,
          -0.016931818798184395,
          3.5368292331695557,
          3.5523841381073,
          -3.532569408416748,
          -4.2542033195495605,
          -2.022181987762451,
          2.017401933670044,
          0.9311035871505737,
          2.720740556716919,
          0.4865066707134247,
          -1.9044162034988403,
          2.5132312774658203,
          0.2600630819797516,
          1.7444714307785034,
          0.8104438185691833,
          -4.886090278625488,
          2.007246494293213,
          -1.8065271377563477,
          4.65060567855835,
          3.8715007305145264,
          -1.4954957962036133,
          -2.586749792098999,
          3.5783743858337402,
          -3.5858161449432373,
          -0.9156266450881958,
          3.171760082244873,
          1.6564311981201172,
          -0.5359200835227966,
          4.451701641082764,
          -1.1241670846939087,
          -2.1357486248016357,
          2.6202032566070557,
          -4.559681415557861,
          -3.4233901500701904,
          -2.904639720916748,
          1.464024543762207,
          -3.8247804641723633,
          -0.9041310548782349,
          -1.4498134851455688,
          -1.5162291526794434,
          1.0859800577163696,
          1.9152884483337402,
          0.778083324432373,
          -2.7061593532562256,
          -0.011469265446066856,
          3.0301482677459717,
          3.8033528327941895,
          1.9473165273666382,
          -3.94100022315979,
          -0.6080660223960876,
          -0.6376153826713562,
          -1.7294013500213623,
          -0.3853086531162262,
          1.4368923902511597,
          0.24556876718997955,
          -3.842176914215088,
          5.2504072189331055,
          3.8756861686706543,
          0.41553035378456116,
          1.124753713607788,
          0.23012854158878326,
          -4.405372142791748,
          -1.8545143604278564,
          -2.3269245624542236,
          -1.8521449565887451,
          0.37445583939552307,
          0.8909788727760315,
          0.1735227108001709,
          -1.8413728475570679,
          1.1245827674865723,
          1.719356656074524,
          -2.104074716567993,
          1.2372732162475586,
          4.822274208068848,
          -2.468931198120117,
          1.41233229637146,
          0.7109522223472595,
          3.5780110359191895,
          2.7245125770568848,
          2.824277400970459,
          4.64731502532959,
          3.708422899246216,
          -1.3655681610107422,
          -0.6029841303825378,
          -4.272362232208252,
          3.4702160358428955,
          -0.7869820594787598,
          2.568824529647827,
          2.466961145401001,
          -0.010273067280650139,
          -5.043799877166748,
          3.9617199897766113,
          -1.4721449613571167,
          4.563915729522705,
          1.24514901638031,
          5.555225372314453,
          0.0025485833175480366,
          -2.946504592895508,
          4.48276424407959,
          -2.8811287879943848,
          0.273306280374527,
          -2.149765729904175,
          -4.6357741355896,
          0.3870519697666168,
          0.7583826184272766,
          5.515566825866699,
          -1.397444486618042,
          2.0689098834991455,
          -1.759820818901062,
          -1.4998137950897217,
          -0.18371006846427917,
          2.0063748359680176,
          2.2655484676361084,
          0.6365203857421875,
          0.3071235418319702,
          1.3361728191375732,
          5.294905185699463,
          -2.6035373210906982,
          -2.791607618331909,
          1.106353521347046,
          2.3356175422668457,
          2.715299367904663,
          -5.173064231872559,
          0.494409441947937,
          -2.336991548538208,
          2.7541561126708984,
          2.0561599731445312,
          -1.5061601400375366,
          0.9592869281768799,
          -0.22636866569519043,
          2.0518457889556885,
          0.06991887092590332,
          -5.796298027038574,
          -0.8164907693862915,
          0.7824040651321411,
          -0.8345197439193726,
          0.7763411998748779,
          -0.19722643494606018,
          -0.5485634207725525,
          -0.3881179094314575,
          -3.0277390480041504,
          5.1868743896484375,
          -4.960796356201172,
          -2.50656795501709,
          -2.41227388381958,
          2.381298780441284,
          -0.5189691781997681,
          -0.15889765322208405,
          -0.49976906180381775,
          -1.6420179605484009,
          -2.4612865447998047,
          -1.146315097808838,
          -3.036839008331299,
          2.067624568939209,
          -2.1685194969177246,
          -1.8247872591018677,
          -0.5650540590286255,
          3.034001350402832,
          -3.2615966796875,
          2.2135722637176514,
          4.110510349273682,
          0.014849846251308918,
          0.22924953699111938,
          -3.5941290855407715,
          0.9583152532577515,
          -1.41713285446167,
          -3.3450565338134766,
          3.9338769912719727,
          2.368013620376587,
          -2.0074715614318848,
          -2.3048958778381348,
          -3.446300745010376,
          2.570016384124756,
          0.706779956817627,
          0.11471644043922424,
          1.3595209121704102,
          -0.20723718404769897,
          -1.4844187498092651,
          3.389953374862671,
          1.7880116701126099,
          0.804869532585144,
          3.2667431831359863,
          2.1867518424987793,
          6.050842761993408,
          1.2202433347702026,
          -3.7628750801086426,
          -4.218710422515869,
          -0.09587110579013824,
          1.4653598070144653,
          -1.3510533571243286,
          -0.09634997695684433,
          0.5380704998970032,
          -2.051103115081787,
          -0.9698858857154846,
          -0.21433845162391663,
          0.04240278899669647,
          -5.278301239013672,
          1.0552470684051514,
          0.9534062743186951,
          0.6767629981040955,
          2.0132272243499756,
          -2.0440239906311035,
          1.1667885780334473,
          1.488480567932129,
          0.5832073092460632,
          0.7121133804321289,
          0.5520066618919373,
          0.046924300491809845,
          -1.9862478971481323,
          -3.5347347259521484,
          -3.230038642883301,
          3.3513777256011963,
          1.2780086994171143,
          1.5824507474899292,
          -1.7266905307769775,
          3.7339563369750977,
          0.7553550004959106,
          3.7527456283569336,
          1.6309974193572998,
          0.364925742149353,
          0.3625180125236511,
          -1.442339539527893,
          -0.686931312084198,
          0.5787405371665955,
          -0.22736933827400208,
          -1.5183502435684204,
          4.379706859588623,
          2.533968210220337,
          -1.9249659776687622,
          2.4480502605438232,
          2.640345811843872,
          -2.443632125854492,
          2.1280722618103027,
          2.4082603454589844,
          1.955630898475647,
          3.9603281021118164,
          -3.1667540073394775,
          1.3857325315475464,
          0.8299259543418884,
          2.577949047088623,
          3.321409225463867,
          -1.3848775625228882,
          -2.3083181381225586,
          3.2483699321746826,
          -3.6827170848846436,
          -3.5011305809020996,
          1.8619463443756104,
          -0.6678503155708313,
          -0.14527471363544464,
          0.6207465529441833,
          1.705575942993164,
          -0.3283683955669403,
          -1.2438379526138306,
          -0.39884886145591736,
          -1.9971206188201904,
          -2.562760829925537,
          0.528438925743103,
          -3.7264676094055176,
          0.9480068683624268,
          0.8157206177711487,
          -2.2385830879211426,
          -2.192544937133789,
          1.1809229850769043,
          0.9145241975784302,
          -0.6510621905326843,
          1.7905926704406738,
          -1.0612993240356445,
          0.6321085095405579,
          1.8703863620758057,
          4.258388996124268,
          -0.26846843957901,
          -0.21880792081356049,
          3.6404454708099365,
          -2.6556787490844727,
          0.9788917303085327,
          -0.16904397308826447,
          1.5161945819854736,
          0.49520283937454224,
          -2.263437032699585,
          -1.4335062503814697,
          -1.8116227388381958,
          2.617926836013794,
          -3.2633585929870605,
          1.800146222114563,
          -3.816122531890869,
          -1.9357517957687378,
          1.4092295169830322,
          -1.9171124696731567,
          3.4336531162261963,
          0.8862407803535461,
          -2.018263101577759,
          -1.2842258214950562,
          -1.2843611240386963,
          -1.2842707633972168,
          1.7601754665374756,
          0.9828459024429321,
          -3.2881391048431396,
          -4.952054023742676,
          -0.616599977016449,
          -2.6465747356414795,
          -0.47257810831069946,
          -0.6105396151542664,
          2.1491966247558594,
          -3.644739866256714,
          0.5457414388656616,
          -0.20507797598838806,
          1.5540080070495605,
          2.127922296524048,
          -0.4341509938240051,
          -5.742460250854492,
          -0.04553383216261864,
          -0.6252470016479492,
          -1.9198142290115356,
          1.384790062904358,
          -3.496288299560547,
          2.7906250953674316,
          1.8740612268447876,
          0.6169244647026062,
          2.350148916244507,
          -0.8579193353652954,
          0.5089932084083557,
          1.7683626413345337,
          2.910905599594116,
          4.838688850402832,
          3.568530321121216,
          4.788432598114014,
          1.8271963596343994,
          0.20329217612743378,
          1.3423185348510742,
          3.8331191539764404,
          -2.5381076335906982,
          1.9966286420822144,
          2.95276141166687,
          0.7805126309394836,
          2.68635630607605,
          2.330066204071045,
          0.8648654222488403,
          4.767510414123535,
          1.7145330905914307,
          -4.186814785003662,
          -0.7400669455528259,
          1.1475309133529663,
          -0.5189422369003296,
          -0.795198917388916,
          3.4332401752471924,
          3.728407382965088,
          0.8173447251319885,
          3.156101942062378,
          -4.762217998504639,
          2.742277145385742,
          -1.672852873802185,
          2.854783773422241,
          -2.7459325790405273,
          -4.165225982666016,
          -0.4449908137321472,
          -2.3315606117248535,
          -1.3896645307540894,
          -2.168034315109253,
          2.565463066101074,
          2.1333184242248535,
          -2.6560277938842773,
          -4.775388717651367,
          -1.6396831274032593,
          -2.8073809146881104,
          -0.10777832567691803,
          3.4636645317077637,
          3.813938617706299,
          5.536388397216797,
          -0.5656359791755676,
          -1.748361587524414,
          -1.136605143547058,
          -0.10623382776975632,
          2.782089948654175,
          1.291212558746338,
          4.168574333190918,
          -0.7884514927864075,
          -4.322853088378906,
          -1.8208874464035034,
          -1.9455883502960205,
          1.528122901916504,
          -1.9992040395736694,
          -0.3323451280593872,
          1.3319969177246094,
          -3.764268398284912,
          1.5555813312530518,
          -1.604440450668335,
          -3.2080748081207275,
          -1.8971068859100342,
          -4.111791133880615,
          0.07927000522613525,
          -2.88118839263916,
          5.338581562042236,
          0.0871148407459259,
          -4.059852600097656,
          -3.8795008659362793,
          -3.0632975101470947,
          2.519057512283325,
          0.6470135450363159,
          -2.1018548011779785,
          3.762795925140381,
          5.673650741577148,
          -1.5165960788726807,
          -1.3491617441177368,
          -1.137670874595642,
          -2.701777935028076,
          4.460840702056885,
          -0.5319639444351196,
          2.3968842029571533,
          -4.050151348114014,
          0.8418903350830078,
          4.284097671508789,
          3.625999927520752,
          -2.362197160720825,
          0.16757972538471222,
          -3.9766249656677246,
          1.0198115110397339,
          3.4394896030426025,
          -1.968587875366211,
          -0.9962973594665527,
          1.9371347427368164,
          0.44565752148628235,
          0.8310396075248718,
          2.011528730392456,
          2.5037429332733154,
          -2.717855930328369,
          2.3567936420440674,
          0.056948911398649216,
          0.5201365947723389,
          1.8928617238998413,
          -1.4945316314697266,
          -4.079252243041992,
          4.44671630859375,
          -1.1963282823562622,
          0.553396999835968,
          2.2848658561706543,
          -1.4536874294281006,
          3.4757463932037354,
          -3.507826566696167,
          1.161562204360962,
          -1.7680248022079468,
          -3.429933786392212,
          0.6208433508872986,
          -0.9884584546089172,
          0.7742821574211121,
          3.3372840881347656,
          0.06828908622264862,
          2.7406556606292725,
          -4.067397594451904,
          -0.2655531167984009,
          -3.3421998023986816,
          2.683555841445923,
          -2.625558614730835,
          1.1612855195999146,
          -0.541320264339447,
          -1.1754051446914673,
          0.20890359580516815,
          -2.9916670322418213,
          -1.5252659320831299,
          -0.5417217016220093,
          3.7562007904052734,
          -1.046543836593628,
          0.622226357460022,
          -3.5752363204956055,
          -1.9733455181121826,
          1.1939188241958618,
          -0.8198354244232178,
          3.391789197921753,
          -1.0311989784240723,
          3.941577672958374,
          -4.048259258270264,
          -2.170591115951538,
          -0.6175886988639832,
          2.6045007705688477,
          -0.41351237893104553,
          -2.1786458492279053,
          -4.985125541687012,
          -1.6537073850631714,
          1.9595025777816772,
          -1.6696431636810303,
          -2.6625616550445557,
          -1.7532899379730225,
          3.7710607051849365,
          1.9430820941925049,
          3.3620007038116455,
          -0.2758069634437561,
          2.693937063217163,
          1.4923007488250732,
          -4.18146276473999,
          -0.46889469027519226,
          -3.1285698413848877,
          -4.321369171142578,
          -1.9353195428848267,
          0.981163501739502,
          -0.032277658581733704,
          1.8674126863479614,
          1.6093870401382446,
          2.2452194690704346,
          2.5128707885742188,
          -0.4811725318431854,
          -1.3783245086669922,
          -3.3632466793060303,
          -2.5282580852508545,
          1.11332106590271,
          0.6155716776847839,
          0.31960466504096985,
          0.26472538709640503,
          -1.6936190128326416,
          -4.851367950439453,
          3.2058186531066895,
          1.8299375772476196,
          -4.117124080657959,
          0.7897490859031677,
          -1.1389225721359253,
          -1.738821268081665,
          1.223906397819519,
          -1.5963873863220215,
          -3.985607624053955,
          0.9871211647987366,
          -4.185441493988037,
          2.8679323196411133,
          -2.656118154525757,
          -1.8839515447616577,
          2.265456199645996,
          3.511476993560791,
          0.9258763194084167,
          1.548733115196228,
          -3.4905195236206055,
          -3.266213893890381,
          -4.366405963897705,
          0.4823794662952423,
          -3.288738965988159,
          4.124290466308594,
          -3.666532516479492,
          -3.019115924835205,
          -3.630199670791626,
          -1.621753215789795,
          -2.3876450061798096,
          2.7106547355651855,
          -1.1032181978225708,
          -0.27432650327682495,
          0.8305396437644958,
          2.787842035293579,
          -3.3047068119049072,
          -1.8558604717254639,
          -3.455597162246704,
          2.3406102657318115,
          -0.5906558036804199,
          -0.027855584397912025,
          1.4123812913894653,
          1.611058235168457,
          1.183990716934204,
          0.12800127267837524,
          -1.5163304805755615,
          1.1079919338226318,
          -1.7579206228256226,
          -0.8702573776245117,
          -0.24464264512062073,
          2.668037176132202,
          0.8305322527885437,
          -1.3112685680389404,
          0.3872459828853607,
          -1.476884126663208,
          -0.9846729636192322,
          -0.3942621946334839,
          -3.358485698699951,
          -1.9149519205093384,
          3.9348878860473633,
          0.8971928954124451,
          -3.8039662837982178,
          -2.9803290367126465,
          1.9905246496200562,
          1.5591695308685303,
          -0.22852769494056702,
          0.4694577753543854,
          -0.30546241998672485,
          3.6482980251312256,
          -0.9706377387046814,
          1.4388693571090698,
          2.4238743782043457,
          2.2990267276763916,
          -0.2887793183326721,
          -1.4968655109405518,
          2.8879446983337402,
          0.22601018846035004,
          3.5473225116729736,
          1.2080551385879517,
          4.3047709465026855,
          -0.5203716158866882,
          -3.033210039138794,
          1.1127909421920776,
          3.2840802669525146,
          1.8918906450271606,
          1.8176469802856445,
          1.1535664796829224,
          -3.495231866836548,
          -2.1452724933624268,
          -0.8129539489746094,
          3.9293313026428223,
          -2.5468974113464355,
          -0.4289320707321167,
          1.8785401582717896,
          2.028073310852051,
          -1.6038984060287476,
          2.3004305362701416,
          -3.27603816986084,
          -5.119538307189941,
          -5.367419719696045,
          -3.2100019454956055,
          1.6397898197174072,
          2.940293788909912,
          1.504723310470581,
          0.12954655289649963,
          2.751915693283081,
          -0.5900894999504089,
          1.5389565229415894,
          -0.6153028011322021,
          -1.1592284440994263,
          -3.732222318649292,
          -3.260739326477051,
          -1.135450839996338,
          0.7487056255340576,
          3.7547881603240967,
          4.74422550201416
         ]
        },
        {
         "hovertemplate": "label=mgood<br>tsne_0=%{x}<br>tsne_1=%{y}<br>tsne_2=%{z}<extra></extra>",
         "legendgroup": "mgood",
         "marker": {
          "color": "#EF553B",
          "opacity": 0.5,
          "size": 4,
          "symbol": "circle"
         },
         "mode": "markers",
         "name": "mgood",
         "scene": "scene",
         "showlegend": true,
         "type": "scatter3d",
         "x": [
          -3.6423959732055664,
          -0.699671745300293,
          2.3816986083984375,
          7.499886989593506,
          8.44810676574707,
          0.211615189909935,
          1.7441818714141846,
          5.30771017074585,
          -3.4259212017059326,
          -8.580760955810547,
          -8.776986122131348,
          11.391965866088867,
          1.074278712272644,
          -3.1326630115509033,
          12.145824432373047,
          7.32748556137085,
          -0.21754176914691925,
          8.326435089111328,
          1.4565138816833496,
          8.555596351623535,
          2.0857996940612793,
          4.708053112030029,
          -2.1864771842956543,
          -0.8640441298484802,
          6.167446136474609,
          -0.7694756984710693,
          -3.159947395324707,
          -4.1426191329956055,
          8.336793899536133,
          4.092950820922852,
          -2.3048367500305176,
          -5.845255374908447,
          -4.038094520568848,
          4.538631916046143,
          -0.02289855107665062,
          -6.0042724609375,
          -4.601675033569336,
          -1.7170847654342651,
          1.0728280544281006,
          9.37980842590332,
          -2.3008995056152344,
          -2.1102805137634277,
          2.085493564605713,
          -0.04208850488066673,
          3.9266204833984375,
          -1.8363956212997437,
          -1.0030158758163452,
          -9.350590705871582,
          5.008719444274902,
          1.1341472864151,
          11.11393928527832,
          2.509800672531128,
          0.8341936469078064,
          2.7331607341766357,
          9.400910377502441,
          -1.597154974937439,
          6.31259298324585,
          1.2228035926818848,
          2.3584156036376953,
          -0.9793449640274048,
          6.648982524871826,
          4.582956314086914,
          -3.704958438873291,
          -2.134005069732666
         ],
         "y": [
          4.159158229827881,
          0.4509827494621277,
          3.9442851543426514,
          3.5497546195983887,
          0.8396603465080261,
          -5.957169055938721,
          1.557035207748413,
          -4.47572660446167,
          -0.6499214172363281,
          -0.987705647945404,
          5.282177448272705,
          4.133351802825928,
          -0.07316512614488602,
          -0.2688233256340027,
          3.7020983695983887,
          -5.7559003829956055,
          0.8818264603614807,
          0.27976900339126587,
          -3.7000484466552734,
          0.4686964750289917,
          0.2511482834815979,
          -4.179815769195557,
          -0.9073367714881897,
          5.490495204925537,
          -4.975860118865967,
          3.5000038146972656,
          -0.2686253488063812,
          -7.912953853607178,
          3.4661200046539307,
          -7.664398193359375,
          0.37352192401885986,
          3.1817002296447754,
          -2.518601655960083,
          -4.329188823699951,
          -6.4188642501831055,
          -1.868449091911316,
          -2.8033132553100586,
          5.025289535522461,
          -3.0424551963806152,
          0.3591785728931427,
          4.609980583190918,
          4.4173903465271,
          0.2223849594593048,
          -8.56931209564209,
          -5.705723762512207,
          -7.041513442993164,
          6.612430095672607,
          4.53822660446167,
          -4.052225112915039,
          -1.991575002670288,
          3.840078830718994,
          -3.2218470573425293,
          4.8324151039123535,
          0.42268577218055725,
          1.489395022392273,
          2.6472880840301514,
          -7.239475250244141,
          -4.230504512786865,
          1.8578904867172241,
          -7.283718109130859,
          -0.21141758561134338,
          -4.891385555267334,
          -5.161649703979492,
          -1.3738582134246826
         ],
         "z": [
          -5.198733329772949,
          4.306715965270996,
          -0.48818913102149963,
          0.4193571209907532,
          -0.5396084189414978,
          3.0901894569396973,
          4.0074615478515625,
          -1.86293625831604,
          -5.6338276863098145,
          2.1645209789276123,
          -0.040754009038209915,
          3.0384907722473145,
          -4.325771808624268,
          -2.6072120666503906,
          3.553957223892212,
          -3.8262391090393066,
          1.5673271417617798,
          2.499000072479248,
          -3.2382068634033203,
          2.7922356128692627,
          -4.66258430480957,
          -1.4947633743286133,
          4.701812744140625,
          -2.437628984451294,
          -0.0904310941696167,
          -2.0072388648986816,
          -1.1027625799179077,
          0.48196113109588623,
          -0.18912486732006073,
          -1.4853111505508423,
          -1.4917027950286865,
          -1.1824060678482056,
          4.355877876281738,
          -3.351219892501831,
          -2.0408918857574463,
          -3.699502944946289,
          -2.8950655460357666,
          -3.7450456619262695,
          -2.445810079574585,
          2.17875075340271,
          5.948855876922607,
          -0.3617781102657318,
          -0.3852148652076721,
          1.9845422506332397,
          -1.8525936603546143,
          0.3450735807418823,
          3.6250123977661133,
          -0.32538923621177673,
          -2.3521721363067627,
          -2.5553698539733887,
          1.886965036392212,
          -4.168049335479736,
          -2.398052215576172,
          -3.5112173557281494,
          2.2467379570007324,
          -1.4706462621688843,
          -0.3780823349952698,
          -3.3851141929626465,
          2.008532762527466,
          0.19060145318508148,
          1.573233962059021,
          -3.1049633026123047,
          5.020500659942627,
          4.779986381530762
         ]
        },
        {
         "hovertemplate": "label=mbad<br>tsne_0=%{x}<br>tsne_1=%{y}<br>tsne_2=%{z}<extra></extra>",
         "legendgroup": "mbad",
         "marker": {
          "color": "#00cc96",
          "opacity": 0.5,
          "size": 4,
          "symbol": "circle"
         },
         "mode": "markers",
         "name": "mbad",
         "scene": "scene",
         "showlegend": true,
         "type": "scatter3d",
         "x": [
          6.071261882781982,
          5.363973617553711,
          -6.236341953277588,
          3.393145799636841,
          0.8363465070724487,
          1.1684767007827759,
          9.766508102416992,
          3.3454017639160156,
          9.97270393371582,
          4.669307708740234,
          7.360235214233398,
          10.65507698059082,
          8.757259368896484,
          3.23744797706604,
          7.3333940505981445,
          10.960443496704102,
          -7.793906211853027,
          9.745180130004883,
          7.621254920959473,
          -0.40087461471557617,
          5.584005355834961,
          5.303732872009277,
          7.935244083404541,
          0.1795714795589447,
          1.2026571035385132,
          6.761334419250488,
          7.896973133087158,
          5.164931297302246,
          8.407488822937012,
          7.540721893310547,
          1.658847689628601,
          10.003787994384766,
          -6.122170925140381,
          9.482279777526855,
          5.314126968383789,
          9.07429027557373,
          8.892082214355469,
          2.7837464809417725,
          8.214736938476562,
          7.250683307647705,
          4.104119300842285,
          12.15499210357666,
          8.632904052734375,
          9.574605941772461,
          0.7697277069091797,
          -1.9388856887817383,
          9.664839744567871,
          7.908283710479736,
          3.810689687728882,
          4.129367828369141,
          6.085777282714844,
          7.371725559234619,
          9.337339401245117,
          7.3239264488220215,
          9.056885719299316,
          9.506736755371094,
          3.424053192138672,
          8.234537124633789,
          6.465244770050049,
          4.860050201416016,
          7.827256679534912,
          9.592812538146973,
          0.2858462631702423,
          11.897550582885742,
          6.442038059234619,
          4.14071798324585,
          10.849334716796875,
          10.058173179626465,
          12.342357635498047,
          10.50933837890625,
          10.95954418182373,
          11.236405372619629
         ],
         "y": [
          2.7080607414245605,
          -0.1048414409160614,
          4.388341903686523,
          -6.017688751220703,
          -0.19043618440628052,
          -4.326440811157227,
          1.053831934928894,
          0.017402177676558495,
          1.096349835395813,
          3.1693782806396484,
          -5.371171951293945,
          -0.7202123999595642,
          0.8300138115882874,
          -6.436751842498779,
          -4.938124656677246,
          2.3335328102111816,
          -2.6657376289367676,
          0.4260111153125763,
          -1.3313217163085938,
          3.1234378814697266,
          -6.1513824462890625,
          2.200882911682129,
          -0.016356077045202255,
          -0.3823615610599518,
          -7.943542957305908,
          -3.9101226329803467,
          -4.70617151260376,
          3.748697280883789,
          -2.810253858566284,
          -1.1472617387771606,
          -8.774441719055176,
          2.338660717010498,
          -8.42482852935791,
          0.05716581270098686,
          2.785322666168213,
          3.187333822250366,
          0.5071015954017639,
          4.721746444702148,
          0.09112867712974548,
          -3.6667628288269043,
          -3.6960480213165283,
          2.220252513885498,
          3.1828420162200928,
          -0.9072014689445496,
          5.102839469909668,
          -4.648958683013916,
          0.1399088352918625,
          0.509274959564209,
          -0.8974883556365967,
          6.427706241607666,
          -3.667752742767334,
          -3.8231277465820312,
          1.4903855323791504,
          -5.367916107177734,
          1.4297759532928467,
          3.5240607261657715,
          5.706909656524658,
          -0.9659767150878906,
          -9.382441520690918,
          -2.7043356895446777,
          -1.0837873220443726,
          1.5497432947158813,
          4.838213920593262,
          4.49169397354126,
          -2.243685722351074,
          6.665233135223389,
          1.2494816780090332,
          2.6825990676879883,
          2.060450792312622,
          1.0368362665176392,
          1.5564520359039307,
          1.3175989389419556
         ],
         "z": [
          -0.3934555649757385,
          -0.05026343837380409,
          -2.5135505199432373,
          -2.37847900390625,
          5.862468719482422,
          -3.380289316177368,
          -1.8921858072280884,
          1.3599841594696045,
          0.5033332705497742,
          -1.361883282661438,
          -0.6065083742141724,
          0.004509940277785063,
          -1.183192491531372,
          -2.3105053901672363,
          -2.0846962928771973,
          1.3092637062072754,
          2.250009536743164,
          -1.4015864133834839,
          -2.596011161804199,
          -3.5191330909729004,
          -2.9914584159851074,
          -0.14537981152534485,
          -2.904649019241333,
          5.57861328125,
          1.2074416875839233,
          -2.3918755054473877,
          -1.9061622619628906,
          0.22485259175300598,
          0.9864799380302429,
          -2.3446273803710938,
          0.9621173143386841,
          -0.2718854546546936,
          3.360532760620117,
          -1.221306562423706,
          -0.6011949777603149,
          1.5391261577606201,
          -1.4845361709594727,
          0.8497596979141235,
          -3.149186134338379,
          -4.036775588989258,
          -3.2787513732910156,
          2.031154155731201,
          1.535338044166565,
          -1.224055528640747,
          -2.871495485305786,
          2.2151553630828857,
          -1.2364712953567505,
          -2.721500873565674,
          0.15523140132427216,
          -1.375516653060913,
          -2.84724760055542,
          -3.240135669708252,
          -1.0421189069747925,
          -0.5987852811813354,
          -1.7619452476501465,
          1.8818823099136353,
          -1.7487083673477173,
          -2.714409828186035,
          -0.21173503994941711,
          -4.321945667266846,
          -1.32473623752594,
          0.5394030213356018,
          4.442704200744629,
          3.599649429321289,
          1.3673657178878784,
          -0.8926854729652405,
          -0.9552461504936218,
          -0.2717653214931488,
          2.132089138031006,
          -0.9565460681915283,
          1.5386884212493896,
          -1.0864834785461426
         ]
        },
        {
         "hovertemplate": "label=bad<br>tsne_0=%{x}<br>tsne_1=%{y}<br>tsne_2=%{z}<extra></extra>",
         "legendgroup": "bad",
         "marker": {
          "color": "#ab63fa",
          "opacity": 0.5,
          "size": 4,
          "symbol": "circle"
         },
         "mode": "markers",
         "name": "bad",
         "scene": "scene",
         "showlegend": true,
         "type": "scatter3d",
         "x": [
          5.626047134399414,
          5.595928192138672,
          6.072540283203125,
          10.09986400604248,
          6.789974689483643,
          12.09603500366211,
          -1.5978862047195435,
          5.8604936599731445,
          9.726317405700684,
          3.9389731884002686,
          11.355303764343262,
          8.899666786193848,
          8.649480819702148,
          1.6279234886169434,
          8.602997779846191,
          7.587709903717041,
          5.1162238121032715,
          5.749100208282471,
          5.585012912750244,
          7.710536479949951,
          11.661791801452637,
          7.697325706481934,
          8.384164810180664,
          6.13251256942749,
          10.323719024658203,
          9.123672485351562,
          5.686825752258301,
          -9.089591979980469,
          4.783411026000977
         ],
         "y": [
          0.8086759448051453,
          3.1423633098602295,
          -4.586061477661133,
          0.8563979864120483,
          -8.070611953735352,
          2.1788382530212402,
          -8.583808898925781,
          3.9180474281311035,
          0.7068511247634888,
          -6.09683895111084,
          4.638203144073486,
          -1.5674396753311157,
          0.3208174407482147,
          -8.218737602233887,
          2.758488655090332,
          -0.9339920282363892,
          5.371552467346191,
          -0.3495294153690338,
          4.901876449584961,
          2.531280994415283,
          3.4994256496429443,
          2.4794209003448486,
          -0.09997740387916565,
          -0.3731878697872162,
          3.6590638160705566,
          2.996335744857788,
          -0.911603569984436,
          5.930912494659424,
          4.736445426940918
         ],
         "z": [
          1.6292191743850708,
          -0.4211047887802124,
          -1.659308910369873,
          -1.1618810892105103,
          0.31480082869529724,
          2.003863573074341,
          3.5349583625793457,
          -1.061200499534607,
          -1.882200002670288,
          -1.1698659658432007,
          1.4950443506240845,
          -2.204033851623535,
          -1.928451418876648,
          1.159739375114441,
          0.5687811374664307,
          -2.4044153690338135,
          0.1848137229681015,
          -1.9738508462905884,
          -1.0930660963058472,
          -2.198254108428955,
          1.8006333112716675,
          -2.5052645206451416,
          -2.346127986907959,
          -1.4429798126220703,
          1.1766307353973389,
          0.039539359509944916,
          -2.1978094577789307,
          -3.0638973712921143,
          -2.823134183883667
         ]
        }
       ],
       "layout": {
        "legend": {
         "title": {
          "text": "label"
         },
         "tracegroupgap": 0
        },
        "scene": {
         "camera": {
          "eye": {
           "x": 0.9,
           "y": 0.9,
           "z": 0.9
          }
         },
         "domain": {
          "x": [
           0,
           1
          ],
          "y": [
           0,
           1
          ]
         },
         "xaxis": {
          "title": {
           "text": "tsne_0"
          }
         },
         "yaxis": {
          "title": {
           "text": "tsne_1"
          }
         },
         "zaxis": {
          "title": {
           "text": "tsne_2"
          }
         }
        },
        "template": {
         "data": {
          "bar": [
           {
            "error_x": {
             "color": "#2a3f5f"
            },
            "error_y": {
             "color": "#2a3f5f"
            },
            "marker": {
             "line": {
              "color": "#E5ECF6",
              "width": 0.5
             },
             "pattern": {
              "fillmode": "overlay",
              "size": 10,
              "solidity": 0.2
             }
            },
            "type": "bar"
           }
          ],
          "barpolar": [
           {
            "marker": {
             "line": {
              "color": "#E5ECF6",
              "width": 0.5
             },
             "pattern": {
              "fillmode": "overlay",
              "size": 10,
              "solidity": 0.2
             }
            },
            "type": "barpolar"
           }
          ],
          "carpet": [
           {
            "aaxis": {
             "endlinecolor": "#2a3f5f",
             "gridcolor": "white",
             "linecolor": "white",
             "minorgridcolor": "white",
             "startlinecolor": "#2a3f5f"
            },
            "baxis": {
             "endlinecolor": "#2a3f5f",
             "gridcolor": "white",
             "linecolor": "white",
             "minorgridcolor": "white",
             "startlinecolor": "#2a3f5f"
            },
            "type": "carpet"
           }
          ],
          "choropleth": [
           {
            "colorbar": {
             "outlinewidth": 0,
             "ticks": ""
            },
            "type": "choropleth"
           }
          ],
          "contour": [
           {
            "colorbar": {
             "outlinewidth": 0,
             "ticks": ""
            },
            "colorscale": [
             [
              0,
              "#0d0887"
             ],
             [
              0.1111111111111111,
              "#46039f"
             ],
             [
              0.2222222222222222,
              "#7201a8"
             ],
             [
              0.3333333333333333,
              "#9c179e"
             ],
             [
              0.4444444444444444,
              "#bd3786"
             ],
             [
              0.5555555555555556,
              "#d8576b"
             ],
             [
              0.6666666666666666,
              "#ed7953"
             ],
             [
              0.7777777777777778,
              "#fb9f3a"
             ],
             [
              0.8888888888888888,
              "#fdca26"
             ],
             [
              1,
              "#f0f921"
             ]
            ],
            "type": "contour"
           }
          ],
          "contourcarpet": [
           {
            "colorbar": {
             "outlinewidth": 0,
             "ticks": ""
            },
            "type": "contourcarpet"
           }
          ],
          "heatmap": [
           {
            "colorbar": {
             "outlinewidth": 0,
             "ticks": ""
            },
            "colorscale": [
             [
              0,
              "#0d0887"
             ],
             [
              0.1111111111111111,
              "#46039f"
             ],
             [
              0.2222222222222222,
              "#7201a8"
             ],
             [
              0.3333333333333333,
              "#9c179e"
             ],
             [
              0.4444444444444444,
              "#bd3786"
             ],
             [
              0.5555555555555556,
              "#d8576b"
             ],
             [
              0.6666666666666666,
              "#ed7953"
             ],
             [
              0.7777777777777778,
              "#fb9f3a"
             ],
             [
              0.8888888888888888,
              "#fdca26"
             ],
             [
              1,
              "#f0f921"
             ]
            ],
            "type": "heatmap"
           }
          ],
          "heatmapgl": [
           {
            "colorbar": {
             "outlinewidth": 0,
             "ticks": ""
            },
            "colorscale": [
             [
              0,
              "#0d0887"
             ],
             [
              0.1111111111111111,
              "#46039f"
             ],
             [
              0.2222222222222222,
              "#7201a8"
             ],
             [
              0.3333333333333333,
              "#9c179e"
             ],
             [
              0.4444444444444444,
              "#bd3786"
             ],
             [
              0.5555555555555556,
              "#d8576b"
             ],
             [
              0.6666666666666666,
              "#ed7953"
             ],
             [
              0.7777777777777778,
              "#fb9f3a"
             ],
             [
              0.8888888888888888,
              "#fdca26"
             ],
             [
              1,
              "#f0f921"
             ]
            ],
            "type": "heatmapgl"
           }
          ],
          "histogram": [
           {
            "marker": {
             "pattern": {
              "fillmode": "overlay",
              "size": 10,
              "solidity": 0.2
             }
            },
            "type": "histogram"
           }
          ],
          "histogram2d": [
           {
            "colorbar": {
             "outlinewidth": 0,
             "ticks": ""
            },
            "colorscale": [
             [
              0,
              "#0d0887"
             ],
             [
              0.1111111111111111,
              "#46039f"
             ],
             [
              0.2222222222222222,
              "#7201a8"
             ],
             [
              0.3333333333333333,
              "#9c179e"
             ],
             [
              0.4444444444444444,
              "#bd3786"
             ],
             [
              0.5555555555555556,
              "#d8576b"
             ],
             [
              0.6666666666666666,
              "#ed7953"
             ],
             [
              0.7777777777777778,
              "#fb9f3a"
             ],
             [
              0.8888888888888888,
              "#fdca26"
             ],
             [
              1,
              "#f0f921"
             ]
            ],
            "type": "histogram2d"
           }
          ],
          "histogram2dcontour": [
           {
            "colorbar": {
             "outlinewidth": 0,
             "ticks": ""
            },
            "colorscale": [
             [
              0,
              "#0d0887"
             ],
             [
              0.1111111111111111,
              "#46039f"
             ],
             [
              0.2222222222222222,
              "#7201a8"
             ],
             [
              0.3333333333333333,
              "#9c179e"
             ],
             [
              0.4444444444444444,
              "#bd3786"
             ],
             [
              0.5555555555555556,
              "#d8576b"
             ],
             [
              0.6666666666666666,
              "#ed7953"
             ],
             [
              0.7777777777777778,
              "#fb9f3a"
             ],
             [
              0.8888888888888888,
              "#fdca26"
             ],
             [
              1,
              "#f0f921"
             ]
            ],
            "type": "histogram2dcontour"
           }
          ],
          "mesh3d": [
           {
            "colorbar": {
             "outlinewidth": 0,
             "ticks": ""
            },
            "type": "mesh3d"
           }
          ],
          "parcoords": [
           {
            "line": {
             "colorbar": {
              "outlinewidth": 0,
              "ticks": ""
             }
            },
            "type": "parcoords"
           }
          ],
          "pie": [
           {
            "automargin": true,
            "type": "pie"
           }
          ],
          "scatter": [
           {
            "fillpattern": {
             "fillmode": "overlay",
             "size": 10,
             "solidity": 0.2
            },
            "type": "scatter"
           }
          ],
          "scatter3d": [
           {
            "line": {
             "colorbar": {
              "outlinewidth": 0,
              "ticks": ""
             }
            },
            "marker": {
             "colorbar": {
              "outlinewidth": 0,
              "ticks": ""
             }
            },
            "type": "scatter3d"
           }
          ],
          "scattercarpet": [
           {
            "marker": {
             "colorbar": {
              "outlinewidth": 0,
              "ticks": ""
             }
            },
            "type": "scattercarpet"
           }
          ],
          "scattergeo": [
           {
            "marker": {
             "colorbar": {
              "outlinewidth": 0,
              "ticks": ""
             }
            },
            "type": "scattergeo"
           }
          ],
          "scattergl": [
           {
            "marker": {
             "colorbar": {
              "outlinewidth": 0,
              "ticks": ""
             }
            },
            "type": "scattergl"
           }
          ],
          "scattermapbox": [
           {
            "marker": {
             "colorbar": {
              "outlinewidth": 0,
              "ticks": ""
             }
            },
            "type": "scattermapbox"
           }
          ],
          "scatterpolar": [
           {
            "marker": {
             "colorbar": {
              "outlinewidth": 0,
              "ticks": ""
             }
            },
            "type": "scatterpolar"
           }
          ],
          "scatterpolargl": [
           {
            "marker": {
             "colorbar": {
              "outlinewidth": 0,
              "ticks": ""
             }
            },
            "type": "scatterpolargl"
           }
          ],
          "scatterternary": [
           {
            "marker": {
             "colorbar": {
              "outlinewidth": 0,
              "ticks": ""
             }
            },
            "type": "scatterternary"
           }
          ],
          "surface": [
           {
            "colorbar": {
             "outlinewidth": 0,
             "ticks": ""
            },
            "colorscale": [
             [
              0,
              "#0d0887"
             ],
             [
              0.1111111111111111,
              "#46039f"
             ],
             [
              0.2222222222222222,
              "#7201a8"
             ],
             [
              0.3333333333333333,
              "#9c179e"
             ],
             [
              0.4444444444444444,
              "#bd3786"
             ],
             [
              0.5555555555555556,
              "#d8576b"
             ],
             [
              0.6666666666666666,
              "#ed7953"
             ],
             [
              0.7777777777777778,
              "#fb9f3a"
             ],
             [
              0.8888888888888888,
              "#fdca26"
             ],
             [
              1,
              "#f0f921"
             ]
            ],
            "type": "surface"
           }
          ],
          "table": [
           {
            "cells": {
             "fill": {
              "color": "#EBF0F8"
             },
             "line": {
              "color": "white"
             }
            },
            "header": {
             "fill": {
              "color": "#C8D4E3"
             },
             "line": {
              "color": "white"
             }
            },
            "type": "table"
           }
          ]
         },
         "layout": {
          "annotationdefaults": {
           "arrowcolor": "#2a3f5f",
           "arrowhead": 0,
           "arrowwidth": 1
          },
          "autotypenumbers": "strict",
          "coloraxis": {
           "colorbar": {
            "outlinewidth": 0,
            "ticks": ""
           }
          },
          "colorscale": {
           "diverging": [
            [
             0,
             "#8e0152"
            ],
            [
             0.1,
             "#c51b7d"
            ],
            [
             0.2,
             "#de77ae"
            ],
            [
             0.3,
             "#f1b6da"
            ],
            [
             0.4,
             "#fde0ef"
            ],
            [
             0.5,
             "#f7f7f7"
            ],
            [
             0.6,
             "#e6f5d0"
            ],
            [
             0.7,
             "#b8e186"
            ],
            [
             0.8,
             "#7fbc41"
            ],
            [
             0.9,
             "#4d9221"
            ],
            [
             1,
             "#276419"
            ]
           ],
           "sequential": [
            [
             0,
             "#0d0887"
            ],
            [
             0.1111111111111111,
             "#46039f"
            ],
            [
             0.2222222222222222,
             "#7201a8"
            ],
            [
             0.3333333333333333,
             "#9c179e"
            ],
            [
             0.4444444444444444,
             "#bd3786"
            ],
            [
             0.5555555555555556,
             "#d8576b"
            ],
            [
             0.6666666666666666,
             "#ed7953"
            ],
            [
             0.7777777777777778,
             "#fb9f3a"
            ],
            [
             0.8888888888888888,
             "#fdca26"
            ],
            [
             1,
             "#f0f921"
            ]
           ],
           "sequentialminus": [
            [
             0,
             "#0d0887"
            ],
            [
             0.1111111111111111,
             "#46039f"
            ],
            [
             0.2222222222222222,
             "#7201a8"
            ],
            [
             0.3333333333333333,
             "#9c179e"
            ],
            [
             0.4444444444444444,
             "#bd3786"
            ],
            [
             0.5555555555555556,
             "#d8576b"
            ],
            [
             0.6666666666666666,
             "#ed7953"
            ],
            [
             0.7777777777777778,
             "#fb9f3a"
            ],
            [
             0.8888888888888888,
             "#fdca26"
            ],
            [
             1,
             "#f0f921"
            ]
           ]
          },
          "colorway": [
           "#636efa",
           "#EF553B",
           "#00cc96",
           "#ab63fa",
           "#FFA15A",
           "#19d3f3",
           "#FF6692",
           "#B6E880",
           "#FF97FF",
           "#FECB52"
          ],
          "font": {
           "color": "#2a3f5f"
          },
          "geo": {
           "bgcolor": "white",
           "lakecolor": "white",
           "landcolor": "#E5ECF6",
           "showlakes": true,
           "showland": true,
           "subunitcolor": "white"
          },
          "hoverlabel": {
           "align": "left"
          },
          "hovermode": "closest",
          "mapbox": {
           "style": "light"
          },
          "paper_bgcolor": "white",
          "plot_bgcolor": "#E5ECF6",
          "polar": {
           "angularaxis": {
            "gridcolor": "white",
            "linecolor": "white",
            "ticks": ""
           },
           "bgcolor": "#E5ECF6",
           "radialaxis": {
            "gridcolor": "white",
            "linecolor": "white",
            "ticks": ""
           }
          },
          "scene": {
           "xaxis": {
            "backgroundcolor": "#E5ECF6",
            "gridcolor": "white",
            "gridwidth": 2,
            "linecolor": "white",
            "showbackground": true,
            "ticks": "",
            "zerolinecolor": "white"
           },
           "yaxis": {
            "backgroundcolor": "#E5ECF6",
            "gridcolor": "white",
            "gridwidth": 2,
            "linecolor": "white",
            "showbackground": true,
            "ticks": "",
            "zerolinecolor": "white"
           },
           "zaxis": {
            "backgroundcolor": "#E5ECF6",
            "gridcolor": "white",
            "gridwidth": 2,
            "linecolor": "white",
            "showbackground": true,
            "ticks": "",
            "zerolinecolor": "white"
           }
          },
          "shapedefaults": {
           "line": {
            "color": "#2a3f5f"
           }
          },
          "ternary": {
           "aaxis": {
            "gridcolor": "white",
            "linecolor": "white",
            "ticks": ""
           },
           "baxis": {
            "gridcolor": "white",
            "linecolor": "white",
            "ticks": ""
           },
           "bgcolor": "#E5ECF6",
           "caxis": {
            "gridcolor": "white",
            "linecolor": "white",
            "ticks": ""
           }
          },
          "title": {
           "x": 0.05
          },
          "xaxis": {
           "automargin": true,
           "gridcolor": "white",
           "linecolor": "white",
           "ticks": "",
           "title": {
            "standoff": 15
           },
           "zerolinecolor": "white",
           "zerolinewidth": 2
          },
          "yaxis": {
           "automargin": true,
           "gridcolor": "white",
           "linecolor": "white",
           "ticks": "",
           "title": {
            "standoff": 15
           },
           "zerolinecolor": "white",
           "zerolinewidth": 2
          }
         }
        },
        "title": {
         "text": "t-SNE embeddings of reviews"
        }
       }
      }
     },
     "metadata": {},
     "output_type": "display_data"
    }
   ],
   "source": [
    "# ignore PerformanceWarning\n",
    "import warnings\n",
    "from pandas.errors import PerformanceWarning\n",
    "warnings.filterwarnings(\"ignore\", category=PerformanceWarning)\n",
    "\n",
    "embeddings_df = pd.DataFrame()\n",
    "embeddings_df[\"review_id\"] = df.review_id\n",
    "embeddings_df[\"label\"] = df.label\n",
    "embeddings_df = embeddings_features(embeddings_df)\n",
    "\n",
    "# apply tsne to reduce to `dims` dimensions\n",
    "dims = 3\n",
    "embd_df = tsne_features(embeddings_df.drop(columns=[\"review_id\", \"label\"], axis=1), dims=dims)\n",
    "embd_df[\"review_id\"] = embeddings_df.review_id\n",
    "embd_df[\"label\"] = embeddings_df.label\n",
    "\n",
    "# plot 3d scatter with plotly\n",
    "fig = px.scatter_3d(embd_df, x=\"tsne_0\", y=\"tsne_1\", z=\"tsne_2\", color=\"label\", title=\"t-SNE embeddings of reviews\", )\n",
    "# make size of point smaller and opaque\n",
    "fig.update_traces(marker=dict(size=4, opacity=0.5))\n",
    "# make inital zoom bigger\n",
    "fig.update_layout(scene=dict(camera_eye=dict(x=0.9, y=0.9, z=0.9)))\n",
    "fig.show()"
   ]
  },
  {
   "attachments": {},
   "cell_type": "markdown",
   "metadata": {},
   "source": [
    "It looks like the \"mbad\" labels are mostly together. The \"mgood\" are kind of in the  middle, but there is still lots of noise of \"good\" labels in that region."
   ]
  },
  {
   "attachments": {},
   "cell_type": "markdown",
   "metadata": {},
   "source": [
    "# Generate Features"
   ]
  },
  {
   "attachments": {},
   "cell_type": "markdown",
   "metadata": {},
   "source": [
    "With what we know, let's generate some features. I've provided a function for each type of feature, so we can mix and match."
   ]
  },
  {
   "cell_type": "code",
   "execution_count": 69,
   "metadata": {},
   "outputs": [
    {
     "name": "stdout",
     "output_type": "stream",
     "text": [
      "Creating model...\n",
      "Generating embeddings...\n",
      "Applying t-SNE... (dim=3)\n",
      "(978, 5)\n"
     ]
    },
    {
     "data": {
      "text/html": [
       "<div>\n",
       "<style scoped>\n",
       "    .dataframe tbody tr th:only-of-type {\n",
       "        vertical-align: middle;\n",
       "    }\n",
       "\n",
       "    .dataframe tbody tr th {\n",
       "        vertical-align: top;\n",
       "    }\n",
       "\n",
       "    .dataframe thead th {\n",
       "        text-align: right;\n",
       "    }\n",
       "</style>\n",
       "<table border=\"1\" class=\"dataframe\">\n",
       "  <thead>\n",
       "    <tr style=\"text-align: right;\">\n",
       "      <th></th>\n",
       "      <th>tsne_0</th>\n",
       "      <th>tsne_1</th>\n",
       "      <th>tsne_2</th>\n",
       "      <th>review_id</th>\n",
       "      <th>label</th>\n",
       "    </tr>\n",
       "  </thead>\n",
       "  <tbody>\n",
       "    <tr>\n",
       "      <th>0</th>\n",
       "      <td>-0.639876</td>\n",
       "      <td>-4.597953</td>\n",
       "      <td>-1.690420</td>\n",
       "      <td>83097</td>\n",
       "      <td>good</td>\n",
       "    </tr>\n",
       "    <tr>\n",
       "      <th>1</th>\n",
       "      <td>-6.714257</td>\n",
       "      <td>4.310233</td>\n",
       "      <td>-0.528321</td>\n",
       "      <td>133337</td>\n",
       "      <td>good</td>\n",
       "    </tr>\n",
       "    <tr>\n",
       "      <th>2</th>\n",
       "      <td>-1.117893</td>\n",
       "      <td>-5.458037</td>\n",
       "      <td>2.873919</td>\n",
       "      <td>150928</td>\n",
       "      <td>good</td>\n",
       "    </tr>\n",
       "    <tr>\n",
       "      <th>3</th>\n",
       "      <td>-5.982625</td>\n",
       "      <td>-5.602546</td>\n",
       "      <td>-0.022672</td>\n",
       "      <td>2706775</td>\n",
       "      <td>good</td>\n",
       "    </tr>\n",
       "    <tr>\n",
       "      <th>4</th>\n",
       "      <td>1.929237</td>\n",
       "      <td>-3.282773</td>\n",
       "      <td>-1.660596</td>\n",
       "      <td>8602878</td>\n",
       "      <td>good</td>\n",
       "    </tr>\n",
       "  </tbody>\n",
       "</table>\n",
       "</div>"
      ],
      "text/plain": [
       "     tsne_0    tsne_1    tsne_2  review_id label\n",
       "0 -0.639876 -4.597953 -1.690420      83097  good\n",
       "1 -6.714257  4.310233 -0.528321     133337  good\n",
       "2 -1.117893 -5.458037  2.873919     150928  good\n",
       "3 -5.982625 -5.602546 -0.022672    2706775  good\n",
       "4  1.929237 -3.282773 -1.660596    8602878  good"
      ]
     },
     "execution_count": 69,
     "metadata": {},
     "output_type": "execute_result"
    }
   ],
   "source": [
    "from collections import Counter\n",
    "\n",
    "# build features\n",
    "features = pd.DataFrame()\n",
    "features = embeddings_features(features)\n",
    "\n",
    "# apply tsne to reduce to `dims` dimensions\n",
    "dims = 3\n",
    "features = tsne_features(features, dims=dims)\n",
    "\n",
    "# add id and label\n",
    "features[\"review_id\"] = df.review_id\n",
    "features[\"label\"] = df.label\n",
    "\n",
    "print(features.shape)\n",
    "features.head()"
   ]
  },
  {
   "cell_type": "code",
   "execution_count": 70,
   "metadata": {},
   "outputs": [],
   "source": [
    "if isinstance(GEO, list):\n",
    "    geo_display_name = \"_\".join(GEO)\n",
    "else:\n",
    "    geo_display_name = GEO\n",
    "\n",
    "features.to_csv(f\"../../data/processed/features_{geo_display_name}.csv\", index=False)"
   ]
  },
  {
   "cell_type": "code",
   "execution_count": null,
   "metadata": {},
   "outputs": [],
   "source": []
  }
 ],
 "metadata": {
  "kernelspec": {
   "display_name": "venv",
   "language": "python",
   "name": "python3"
  },
  "language_info": {
   "codemirror_mode": {
    "name": "ipython",
    "version": 3
   },
   "file_extension": ".py",
   "mimetype": "text/x-python",
   "name": "python",
   "nbconvert_exporter": "python",
   "pygments_lexer": "ipython3",
   "version": "3.10.4"
  },
  "orig_nbformat": 4,
  "vscode": {
   "interpreter": {
    "hash": "cf086def782804284d24881115c612afdcc8ea791299ba67855f0c7f1a9ccc5a"
   }
  }
 },
 "nbformat": 4,
 "nbformat_minor": 2
}
