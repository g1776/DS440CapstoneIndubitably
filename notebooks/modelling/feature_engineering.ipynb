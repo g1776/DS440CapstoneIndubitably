{
 "cells": [
  {
   "attachments": {},
   "cell_type": "markdown",
   "metadata": {},
   "source": [
    "## Feature Engineering on the processed dataset"
   ]
  },
  {
   "cell_type": "code",
   "execution_count": 1,
   "metadata": {},
   "outputs": [],
   "source": [
    "import pandas as pd\n",
    "import numpy as np\n",
    "import matplotlib.pyplot as plt\n",
    "import plotly.express as px"
   ]
  },
  {
   "cell_type": "code",
   "execution_count": 2,
   "metadata": {},
   "outputs": [
    {
     "name": "stdout",
     "output_type": "stream",
     "text": [
      "(1629, 9)\n"
     ]
    },
    {
     "data": {
      "text/html": [
       "<div>\n",
       "<style scoped>\n",
       "    .dataframe tbody tr th:only-of-type {\n",
       "        vertical-align: middle;\n",
       "    }\n",
       "\n",
       "    .dataframe tbody tr th {\n",
       "        vertical-align: top;\n",
       "    }\n",
       "\n",
       "    .dataframe thead th {\n",
       "        text-align: right;\n",
       "    }\n",
       "</style>\n",
       "<table border=\"1\" class=\"dataframe\">\n",
       "  <thead>\n",
       "    <tr style=\"text-align: right;\">\n",
       "      <th></th>\n",
       "      <th>review_id</th>\n",
       "      <th>listing_id</th>\n",
       "      <th>description</th>\n",
       "      <th>comments</th>\n",
       "      <th>sentiment</th>\n",
       "      <th>label</th>\n",
       "      <th>name</th>\n",
       "      <th>amenities</th>\n",
       "      <th>source</th>\n",
       "    </tr>\n",
       "  </thead>\n",
       "  <tbody>\n",
       "    <tr>\n",
       "      <th>0</th>\n",
       "      <td>83097</td>\n",
       "      <td>5456</td>\n",
       "      <td>[fabulous, location, walking, convention, cent...</td>\n",
       "      <td>[sylvia, very, nice, informal, relaxed, arrive...</td>\n",
       "      <td>4.333333</td>\n",
       "      <td>good</td>\n",
       "      <td>['walk', '6th', 'rainey', 'st', 'convention', ...</td>\n",
       "      <td>[TV, Wifi, Air conditioning, Kitchen, Pets liv...</td>\n",
       "      <td>texas</td>\n",
       "    </tr>\n",
       "    <tr>\n",
       "      <th>1</th>\n",
       "      <td>133337</td>\n",
       "      <td>5456</td>\n",
       "      <td>[fabulous, location, walking, convention, cent...</td>\n",
       "      <td>[sylvia, picked, airport, gave, beautiful, eve...</td>\n",
       "      <td>4.000000</td>\n",
       "      <td>good</td>\n",
       "      <td>['walk', '6th', 'rainey', 'st', 'convention', ...</td>\n",
       "      <td>[TV, Wifi, Air conditioning, Kitchen, Pets liv...</td>\n",
       "      <td>texas</td>\n",
       "    </tr>\n",
       "    <tr>\n",
       "      <th>2</th>\n",
       "      <td>150928</td>\n",
       "      <td>5456</td>\n",
       "      <td>[fabulous, location, walking, convention, cent...</td>\n",
       "      <td>[lovely, time, enjoyed, apartment, clean, spac...</td>\n",
       "      <td>3.000000</td>\n",
       "      <td>good</td>\n",
       "      <td>['walk', '6th', 'rainey', 'st', 'convention', ...</td>\n",
       "      <td>[TV, Wifi, Air conditioning, Kitchen, Pets liv...</td>\n",
       "      <td>texas</td>\n",
       "    </tr>\n",
       "    <tr>\n",
       "      <th>3</th>\n",
       "      <td>2706775</td>\n",
       "      <td>5456</td>\n",
       "      <td>[fabulous, location, walking, convention, cent...</td>\n",
       "      <td>[sylvia, excellent, host, stayed, touch, made,...</td>\n",
       "      <td>4.500000</td>\n",
       "      <td>good</td>\n",
       "      <td>['walk', '6th', 'rainey', 'st', 'convention', ...</td>\n",
       "      <td>[TV, Wifi, Air conditioning, Kitchen, Pets liv...</td>\n",
       "      <td>texas</td>\n",
       "    </tr>\n",
       "    <tr>\n",
       "      <th>4</th>\n",
       "      <td>8602878</td>\n",
       "      <td>5456</td>\n",
       "      <td>[fabulous, location, walking, convention, cent...</td>\n",
       "      <td>[place, cute, little, self, contained, cottage...</td>\n",
       "      <td>4.000000</td>\n",
       "      <td>good</td>\n",
       "      <td>['walk', '6th', 'rainey', 'st', 'convention', ...</td>\n",
       "      <td>[TV, Wifi, Air conditioning, Kitchen, Pets liv...</td>\n",
       "      <td>texas</td>\n",
       "    </tr>\n",
       "  </tbody>\n",
       "</table>\n",
       "</div>"
      ],
      "text/plain": [
       "   review_id  listing_id                                        description  \\\n",
       "0      83097        5456  [fabulous, location, walking, convention, cent...   \n",
       "1     133337        5456  [fabulous, location, walking, convention, cent...   \n",
       "2     150928        5456  [fabulous, location, walking, convention, cent...   \n",
       "3    2706775        5456  [fabulous, location, walking, convention, cent...   \n",
       "4    8602878        5456  [fabulous, location, walking, convention, cent...   \n",
       "\n",
       "                                            comments  sentiment label  \\\n",
       "0  [sylvia, very, nice, informal, relaxed, arrive...   4.333333  good   \n",
       "1  [sylvia, picked, airport, gave, beautiful, eve...   4.000000  good   \n",
       "2  [lovely, time, enjoyed, apartment, clean, spac...   3.000000  good   \n",
       "3  [sylvia, excellent, host, stayed, touch, made,...   4.500000  good   \n",
       "4  [place, cute, little, self, contained, cottage...   4.000000  good   \n",
       "\n",
       "                                                name  \\\n",
       "0  ['walk', '6th', 'rainey', 'st', 'convention', ...   \n",
       "1  ['walk', '6th', 'rainey', 'st', 'convention', ...   \n",
       "2  ['walk', '6th', 'rainey', 'st', 'convention', ...   \n",
       "3  ['walk', '6th', 'rainey', 'st', 'convention', ...   \n",
       "4  ['walk', '6th', 'rainey', 'st', 'convention', ...   \n",
       "\n",
       "                                           amenities source  \n",
       "0  [TV, Wifi, Air conditioning, Kitchen, Pets liv...  texas  \n",
       "1  [TV, Wifi, Air conditioning, Kitchen, Pets liv...  texas  \n",
       "2  [TV, Wifi, Air conditioning, Kitchen, Pets liv...  texas  \n",
       "3  [TV, Wifi, Air conditioning, Kitchen, Pets liv...  texas  \n",
       "4  [TV, Wifi, Air conditioning, Kitchen, Pets liv...  texas  "
      ]
     },
     "execution_count": 2,
     "metadata": {},
     "output_type": "execute_result"
    }
   ],
   "source": [
    "# Read in the data\n",
    "GEO = [\"texas\", \"florida\"]\n",
    "\n",
    "if isinstance(GEO, str):\n",
    "    df = pd.read_csv(f\"../../data/processed/{GEO}_processed.csv\")\n",
    "elif isinstance(GEO, list):\n",
    "    dfs = []\n",
    "    for geo in GEO:\n",
    "        df = pd.read_csv(f\"../../data/processed/{geo}_processed.csv\")\n",
    "        df[\"source\"] = geo\n",
    "        dfs.append(df)\n",
    "    df = pd.concat(dfs)\n",
    "\n",
    "# eval list columns\n",
    "df.description = df.description.apply(lambda x: eval(x))\n",
    "df.comments = df.comments.apply(lambda x: eval(x))\n",
    "df.amenities = df.amenities.apply(lambda x: eval(x))\n",
    "\n",
    "df.reset_index(drop=True, inplace=True)\n",
    "\n",
    "print(df.shape)\n",
    "df.head()"
   ]
  },
  {
   "attachments": {},
   "cell_type": "markdown",
   "metadata": {},
   "source": [
    "### Distribution of labels"
   ]
  },
  {
   "attachments": {},
   "cell_type": "markdown",
   "metadata": {},
   "source": [
    "First, let's look at the distribution of labels in the processed dataset."
   ]
  },
  {
   "cell_type": "code",
   "execution_count": 3,
   "metadata": {},
   "outputs": [
    {
     "name": "stdout",
     "output_type": "stream",
     "text": [
      "mbad: 7.24%, mgood: 6.45%, mbad or mgood: 13.69%\n"
     ]
    },
    {
     "data": {
      "application/vnd.plotly.v1+json": {
       "config": {
        "plotlyServerURL": "https://plot.ly"
       },
       "data": [
        {
         "alignmentgroup": "True",
         "hovertemplate": "Label=%{x}<br>Count=%{y}<extra></extra>",
         "legendgroup": "",
         "marker": {
          "color": "#636efa",
          "pattern": {
           "shape": ""
          }
         },
         "name": "",
         "offsetgroup": "",
         "orientation": "v",
         "showlegend": false,
         "textposition": "auto",
         "type": "bar",
         "x": [
          "good",
          "mbad",
          "mgood",
          "bad"
         ],
         "xaxis": "x",
         "y": [
          1320,
          118,
          105,
          84
         ],
         "yaxis": "y"
        }
       ],
       "layout": {
        "barmode": "relative",
        "legend": {
         "tracegroupgap": 0
        },
        "template": {
         "data": {
          "bar": [
           {
            "error_x": {
             "color": "#2a3f5f"
            },
            "error_y": {
             "color": "#2a3f5f"
            },
            "marker": {
             "line": {
              "color": "#E5ECF6",
              "width": 0.5
             },
             "pattern": {
              "fillmode": "overlay",
              "size": 10,
              "solidity": 0.2
             }
            },
            "type": "bar"
           }
          ],
          "barpolar": [
           {
            "marker": {
             "line": {
              "color": "#E5ECF6",
              "width": 0.5
             },
             "pattern": {
              "fillmode": "overlay",
              "size": 10,
              "solidity": 0.2
             }
            },
            "type": "barpolar"
           }
          ],
          "carpet": [
           {
            "aaxis": {
             "endlinecolor": "#2a3f5f",
             "gridcolor": "white",
             "linecolor": "white",
             "minorgridcolor": "white",
             "startlinecolor": "#2a3f5f"
            },
            "baxis": {
             "endlinecolor": "#2a3f5f",
             "gridcolor": "white",
             "linecolor": "white",
             "minorgridcolor": "white",
             "startlinecolor": "#2a3f5f"
            },
            "type": "carpet"
           }
          ],
          "choropleth": [
           {
            "colorbar": {
             "outlinewidth": 0,
             "ticks": ""
            },
            "type": "choropleth"
           }
          ],
          "contour": [
           {
            "colorbar": {
             "outlinewidth": 0,
             "ticks": ""
            },
            "colorscale": [
             [
              0,
              "#0d0887"
             ],
             [
              0.1111111111111111,
              "#46039f"
             ],
             [
              0.2222222222222222,
              "#7201a8"
             ],
             [
              0.3333333333333333,
              "#9c179e"
             ],
             [
              0.4444444444444444,
              "#bd3786"
             ],
             [
              0.5555555555555556,
              "#d8576b"
             ],
             [
              0.6666666666666666,
              "#ed7953"
             ],
             [
              0.7777777777777778,
              "#fb9f3a"
             ],
             [
              0.8888888888888888,
              "#fdca26"
             ],
             [
              1,
              "#f0f921"
             ]
            ],
            "type": "contour"
           }
          ],
          "contourcarpet": [
           {
            "colorbar": {
             "outlinewidth": 0,
             "ticks": ""
            },
            "type": "contourcarpet"
           }
          ],
          "heatmap": [
           {
            "colorbar": {
             "outlinewidth": 0,
             "ticks": ""
            },
            "colorscale": [
             [
              0,
              "#0d0887"
             ],
             [
              0.1111111111111111,
              "#46039f"
             ],
             [
              0.2222222222222222,
              "#7201a8"
             ],
             [
              0.3333333333333333,
              "#9c179e"
             ],
             [
              0.4444444444444444,
              "#bd3786"
             ],
             [
              0.5555555555555556,
              "#d8576b"
             ],
             [
              0.6666666666666666,
              "#ed7953"
             ],
             [
              0.7777777777777778,
              "#fb9f3a"
             ],
             [
              0.8888888888888888,
              "#fdca26"
             ],
             [
              1,
              "#f0f921"
             ]
            ],
            "type": "heatmap"
           }
          ],
          "heatmapgl": [
           {
            "colorbar": {
             "outlinewidth": 0,
             "ticks": ""
            },
            "colorscale": [
             [
              0,
              "#0d0887"
             ],
             [
              0.1111111111111111,
              "#46039f"
             ],
             [
              0.2222222222222222,
              "#7201a8"
             ],
             [
              0.3333333333333333,
              "#9c179e"
             ],
             [
              0.4444444444444444,
              "#bd3786"
             ],
             [
              0.5555555555555556,
              "#d8576b"
             ],
             [
              0.6666666666666666,
              "#ed7953"
             ],
             [
              0.7777777777777778,
              "#fb9f3a"
             ],
             [
              0.8888888888888888,
              "#fdca26"
             ],
             [
              1,
              "#f0f921"
             ]
            ],
            "type": "heatmapgl"
           }
          ],
          "histogram": [
           {
            "marker": {
             "pattern": {
              "fillmode": "overlay",
              "size": 10,
              "solidity": 0.2
             }
            },
            "type": "histogram"
           }
          ],
          "histogram2d": [
           {
            "colorbar": {
             "outlinewidth": 0,
             "ticks": ""
            },
            "colorscale": [
             [
              0,
              "#0d0887"
             ],
             [
              0.1111111111111111,
              "#46039f"
             ],
             [
              0.2222222222222222,
              "#7201a8"
             ],
             [
              0.3333333333333333,
              "#9c179e"
             ],
             [
              0.4444444444444444,
              "#bd3786"
             ],
             [
              0.5555555555555556,
              "#d8576b"
             ],
             [
              0.6666666666666666,
              "#ed7953"
             ],
             [
              0.7777777777777778,
              "#fb9f3a"
             ],
             [
              0.8888888888888888,
              "#fdca26"
             ],
             [
              1,
              "#f0f921"
             ]
            ],
            "type": "histogram2d"
           }
          ],
          "histogram2dcontour": [
           {
            "colorbar": {
             "outlinewidth": 0,
             "ticks": ""
            },
            "colorscale": [
             [
              0,
              "#0d0887"
             ],
             [
              0.1111111111111111,
              "#46039f"
             ],
             [
              0.2222222222222222,
              "#7201a8"
             ],
             [
              0.3333333333333333,
              "#9c179e"
             ],
             [
              0.4444444444444444,
              "#bd3786"
             ],
             [
              0.5555555555555556,
              "#d8576b"
             ],
             [
              0.6666666666666666,
              "#ed7953"
             ],
             [
              0.7777777777777778,
              "#fb9f3a"
             ],
             [
              0.8888888888888888,
              "#fdca26"
             ],
             [
              1,
              "#f0f921"
             ]
            ],
            "type": "histogram2dcontour"
           }
          ],
          "mesh3d": [
           {
            "colorbar": {
             "outlinewidth": 0,
             "ticks": ""
            },
            "type": "mesh3d"
           }
          ],
          "parcoords": [
           {
            "line": {
             "colorbar": {
              "outlinewidth": 0,
              "ticks": ""
             }
            },
            "type": "parcoords"
           }
          ],
          "pie": [
           {
            "automargin": true,
            "type": "pie"
           }
          ],
          "scatter": [
           {
            "fillpattern": {
             "fillmode": "overlay",
             "size": 10,
             "solidity": 0.2
            },
            "type": "scatter"
           }
          ],
          "scatter3d": [
           {
            "line": {
             "colorbar": {
              "outlinewidth": 0,
              "ticks": ""
             }
            },
            "marker": {
             "colorbar": {
              "outlinewidth": 0,
              "ticks": ""
             }
            },
            "type": "scatter3d"
           }
          ],
          "scattercarpet": [
           {
            "marker": {
             "colorbar": {
              "outlinewidth": 0,
              "ticks": ""
             }
            },
            "type": "scattercarpet"
           }
          ],
          "scattergeo": [
           {
            "marker": {
             "colorbar": {
              "outlinewidth": 0,
              "ticks": ""
             }
            },
            "type": "scattergeo"
           }
          ],
          "scattergl": [
           {
            "marker": {
             "colorbar": {
              "outlinewidth": 0,
              "ticks": ""
             }
            },
            "type": "scattergl"
           }
          ],
          "scattermapbox": [
           {
            "marker": {
             "colorbar": {
              "outlinewidth": 0,
              "ticks": ""
             }
            },
            "type": "scattermapbox"
           }
          ],
          "scatterpolar": [
           {
            "marker": {
             "colorbar": {
              "outlinewidth": 0,
              "ticks": ""
             }
            },
            "type": "scatterpolar"
           }
          ],
          "scatterpolargl": [
           {
            "marker": {
             "colorbar": {
              "outlinewidth": 0,
              "ticks": ""
             }
            },
            "type": "scatterpolargl"
           }
          ],
          "scatterternary": [
           {
            "marker": {
             "colorbar": {
              "outlinewidth": 0,
              "ticks": ""
             }
            },
            "type": "scatterternary"
           }
          ],
          "surface": [
           {
            "colorbar": {
             "outlinewidth": 0,
             "ticks": ""
            },
            "colorscale": [
             [
              0,
              "#0d0887"
             ],
             [
              0.1111111111111111,
              "#46039f"
             ],
             [
              0.2222222222222222,
              "#7201a8"
             ],
             [
              0.3333333333333333,
              "#9c179e"
             ],
             [
              0.4444444444444444,
              "#bd3786"
             ],
             [
              0.5555555555555556,
              "#d8576b"
             ],
             [
              0.6666666666666666,
              "#ed7953"
             ],
             [
              0.7777777777777778,
              "#fb9f3a"
             ],
             [
              0.8888888888888888,
              "#fdca26"
             ],
             [
              1,
              "#f0f921"
             ]
            ],
            "type": "surface"
           }
          ],
          "table": [
           {
            "cells": {
             "fill": {
              "color": "#EBF0F8"
             },
             "line": {
              "color": "white"
             }
            },
            "header": {
             "fill": {
              "color": "#C8D4E3"
             },
             "line": {
              "color": "white"
             }
            },
            "type": "table"
           }
          ]
         },
         "layout": {
          "annotationdefaults": {
           "arrowcolor": "#2a3f5f",
           "arrowhead": 0,
           "arrowwidth": 1
          },
          "autotypenumbers": "strict",
          "coloraxis": {
           "colorbar": {
            "outlinewidth": 0,
            "ticks": ""
           }
          },
          "colorscale": {
           "diverging": [
            [
             0,
             "#8e0152"
            ],
            [
             0.1,
             "#c51b7d"
            ],
            [
             0.2,
             "#de77ae"
            ],
            [
             0.3,
             "#f1b6da"
            ],
            [
             0.4,
             "#fde0ef"
            ],
            [
             0.5,
             "#f7f7f7"
            ],
            [
             0.6,
             "#e6f5d0"
            ],
            [
             0.7,
             "#b8e186"
            ],
            [
             0.8,
             "#7fbc41"
            ],
            [
             0.9,
             "#4d9221"
            ],
            [
             1,
             "#276419"
            ]
           ],
           "sequential": [
            [
             0,
             "#0d0887"
            ],
            [
             0.1111111111111111,
             "#46039f"
            ],
            [
             0.2222222222222222,
             "#7201a8"
            ],
            [
             0.3333333333333333,
             "#9c179e"
            ],
            [
             0.4444444444444444,
             "#bd3786"
            ],
            [
             0.5555555555555556,
             "#d8576b"
            ],
            [
             0.6666666666666666,
             "#ed7953"
            ],
            [
             0.7777777777777778,
             "#fb9f3a"
            ],
            [
             0.8888888888888888,
             "#fdca26"
            ],
            [
             1,
             "#f0f921"
            ]
           ],
           "sequentialminus": [
            [
             0,
             "#0d0887"
            ],
            [
             0.1111111111111111,
             "#46039f"
            ],
            [
             0.2222222222222222,
             "#7201a8"
            ],
            [
             0.3333333333333333,
             "#9c179e"
            ],
            [
             0.4444444444444444,
             "#bd3786"
            ],
            [
             0.5555555555555556,
             "#d8576b"
            ],
            [
             0.6666666666666666,
             "#ed7953"
            ],
            [
             0.7777777777777778,
             "#fb9f3a"
            ],
            [
             0.8888888888888888,
             "#fdca26"
            ],
            [
             1,
             "#f0f921"
            ]
           ]
          },
          "colorway": [
           "#636efa",
           "#EF553B",
           "#00cc96",
           "#ab63fa",
           "#FFA15A",
           "#19d3f3",
           "#FF6692",
           "#B6E880",
           "#FF97FF",
           "#FECB52"
          ],
          "font": {
           "color": "#2a3f5f"
          },
          "geo": {
           "bgcolor": "white",
           "lakecolor": "white",
           "landcolor": "#E5ECF6",
           "showlakes": true,
           "showland": true,
           "subunitcolor": "white"
          },
          "hoverlabel": {
           "align": "left"
          },
          "hovermode": "closest",
          "mapbox": {
           "style": "light"
          },
          "paper_bgcolor": "white",
          "plot_bgcolor": "#E5ECF6",
          "polar": {
           "angularaxis": {
            "gridcolor": "white",
            "linecolor": "white",
            "ticks": ""
           },
           "bgcolor": "#E5ECF6",
           "radialaxis": {
            "gridcolor": "white",
            "linecolor": "white",
            "ticks": ""
           }
          },
          "scene": {
           "xaxis": {
            "backgroundcolor": "#E5ECF6",
            "gridcolor": "white",
            "gridwidth": 2,
            "linecolor": "white",
            "showbackground": true,
            "ticks": "",
            "zerolinecolor": "white"
           },
           "yaxis": {
            "backgroundcolor": "#E5ECF6",
            "gridcolor": "white",
            "gridwidth": 2,
            "linecolor": "white",
            "showbackground": true,
            "ticks": "",
            "zerolinecolor": "white"
           },
           "zaxis": {
            "backgroundcolor": "#E5ECF6",
            "gridcolor": "white",
            "gridwidth": 2,
            "linecolor": "white",
            "showbackground": true,
            "ticks": "",
            "zerolinecolor": "white"
           }
          },
          "shapedefaults": {
           "line": {
            "color": "#2a3f5f"
           }
          },
          "ternary": {
           "aaxis": {
            "gridcolor": "white",
            "linecolor": "white",
            "ticks": ""
           },
           "baxis": {
            "gridcolor": "white",
            "linecolor": "white",
            "ticks": ""
           },
           "bgcolor": "#E5ECF6",
           "caxis": {
            "gridcolor": "white",
            "linecolor": "white",
            "ticks": ""
           }
          },
          "title": {
           "x": 0.05
          },
          "xaxis": {
           "automargin": true,
           "gridcolor": "white",
           "linecolor": "white",
           "ticks": "",
           "title": {
            "standoff": 15
           },
           "zerolinecolor": "white",
           "zerolinewidth": 2
          },
          "yaxis": {
           "automargin": true,
           "gridcolor": "white",
           "linecolor": "white",
           "ticks": "",
           "title": {
            "standoff": 15
           },
           "zerolinecolor": "white",
           "zerolinewidth": 2
          }
         }
        },
        "title": {
         "text": "Distribution of labels (GEO=['texas', 'florida'])"
        },
        "xaxis": {
         "anchor": "y",
         "domain": [
          0,
          1
         ],
         "title": {
          "text": "Label"
         }
        },
        "yaxis": {
         "anchor": "x",
         "domain": [
          0,
          1
         ],
         "title": {
          "text": "Count"
         }
        }
       }
      }
     },
     "metadata": {},
     "output_type": "display_data"
    }
   ],
   "source": [
    "mbad_pcnt = df[df.label == \"mbad\"].shape[0] / df.shape[0]\n",
    "mgood_pcnt = df[df.label == \"mgood\"].shape[0] / df.shape[0]\n",
    "mbad_or_mgood_pcnt = df[df.label.isin([\"mbad\", \"mgood\"])].shape[0] / df.shape[0]\n",
    "print(\n",
    "    f\"mbad: {mbad_pcnt:.2%}, mgood: {mgood_pcnt:.2%}, mbad or mgood: {mbad_or_mgood_pcnt:.2%}\"\n",
    ")\n",
    "\n",
    "bar_vals = df.label.value_counts()\n",
    "\n",
    "fig = px.bar(\n",
    "    bar_vals,\n",
    "    x=bar_vals.index,\n",
    "    y=bar_vals.values,\n",
    "    title=f\"Distribution of labels (GEO={GEO})\",\n",
    "    labels={\"index\": \"Label\", \"y\": \"Count\"}\n",
    ")\n",
    "\n",
    "fig.show()"
   ]
  },
  {
   "attachments": {},
   "cell_type": "markdown",
   "metadata": {},
   "source": [
    "## Correlation filter helper function\n",
    "This function allows us to filter down to only include highly correlated features with the label."
   ]
  },
  {
   "cell_type": "code",
   "execution_count": 4,
   "metadata": {},
   "outputs": [],
   "source": [
    "def corr_filter(features, corr_thresh=0.05) -> pd.DataFrame:\n",
    "    \"\"\"Filter features based on correlation with label.\"\"\"\n",
    "\n",
    "    if corr_thresh is None:\n",
    "        return features\n",
    "\n",
    "    to_filter = features.copy()\n",
    "    \n",
    "    to_filter[\"review_id\"] = df.review_id\n",
    "    to_filter[\"label\"] = df.label\n",
    "\n",
    "    # drop na labels. Thanks Charlie :/\n",
    "    to_filter = to_filter.dropna(subset=[\"label\"])\n",
    "\n",
    "    # Turn labels into numbers\n",
    "    labels_list: list = to_filter.label.unique().tolist()\n",
    "    to_filter.label = to_filter.label.apply(lambda label: labels_list.index(label))\n",
    "\n",
    "    # calculate correlation of features with label\n",
    "    features_to_filter = to_filter.drop([\"review_id\", \"label\"], axis=1)\n",
    "    corrs = features_to_filter.corrwith(to_filter.label).sort_values(ascending=False)\n",
    "\n",
    "    # filter features\n",
    "    highly_correlated_features = corrs[corrs.abs() > corr_thresh].index\n",
    "    # drop features with nan correlation\n",
    "    highly_correlated_features = highly_correlated_features.dropna()\n",
    "\n",
    "    # filter features\n",
    "    print(f\"Features above correlation threshold ({corr_thresh}):\")\n",
    "    print(highly_correlated_features.tolist())\n",
    "    filtered = features[highly_correlated_features]\n",
    "    \n",
    "    return filtered"
   ]
  },
  {
   "attachments": {},
   "cell_type": "markdown",
   "metadata": {},
   "source": [
    "### Ngrams"
   ]
  },
  {
   "attachments": {},
   "cell_type": "markdown",
   "metadata": {},
   "source": [
    "What are the most common ngrams for the different types of reviews? What are the most common overlaps?"
   ]
  },
  {
   "cell_type": "code",
   "execution_count": 5,
   "metadata": {},
   "outputs": [],
   "source": [
    "def get_consecutive_ngrams(review, n) -> list:\n",
    "    \"\"\"Helper function to get ngrams from a review.\n",
    "\n",
    "    Args:\n",
    "        review (str): The review to get ngrams from.\n",
    "        n (int): The number of ngrams to get.\n",
    "\n",
    "    Returns:\n",
    "        list: the list of ngrams, joined by underscores.\n",
    "    \"\"\"\n",
    "    if isinstance(review, str):\n",
    "        review = review.split(\"\")\n",
    "\n",
    "    return [\"_\".join(review[i:i+n]) for i in range(len(review)-n-1)]\n",
    "\n",
    "def series_to_ngrams(series: pd.Series, N):\n",
    "    n_grams = series.apply(lambda x: get_consecutive_ngrams(x, N))\n",
    "    return n_grams.explode()\n",
    "\n",
    "def get_exclusive_sizes(good: set, bad: set, mgood: set, mbad: set) -> dict:\n",
    "    \"\"\"Get the sizes of the exclusive sets\"\"\"\n",
    "\n",
    "    only_good = good - bad - mgood - mbad\n",
    "    only_bad = bad - good - mgood - mbad\n",
    "    only_mgood = mgood - good - bad - mbad\n",
    "    only_mbad = mbad - good - bad - mgood\n",
    "    \n",
    "    return {\n",
    "        \"good\": len(only_good),\n",
    "        \"bad\": len(only_bad),\n",
    "        \"mgood\": len(only_mgood),\n",
    "        \"mbad\": len(only_mbad)\n",
    "    }"
   ]
  },
  {
   "attachments": {},
   "cell_type": "markdown",
   "metadata": {},
   "source": [
    "We can look at the number of unique values to each label for different values of N on a line chart."
   ]
  },
  {
   "cell_type": "code",
   "execution_count": 6,
   "metadata": {},
   "outputs": [
    {
     "data": {
      "application/vnd.plotly.v1+json": {
       "config": {
        "plotlyServerURL": "https://plot.ly"
       },
       "data": [
        {
         "hovertemplate": "label=bad<br>N-gram size=%{x}<br>Unique # of n-grams=%{y}<extra></extra>",
         "legendgroup": "bad",
         "line": {
          "color": "#636efa",
          "dash": "solid"
         },
         "marker": {
          "symbol": "circle"
         },
         "mode": "markers+lines",
         "name": "bad",
         "orientation": "v",
         "showlegend": true,
         "type": "scatter",
         "x": [
          1,
          2,
          3,
          4,
          5,
          6
         ],
         "xaxis": "x",
         "y": [
          424,
          6408,
          8778,
          8924,
          8851,
          8768
         ],
         "yaxis": "y"
        },
        {
         "hovertemplate": "label=mgood<br>N-gram size=%{x}<br>Unique # of n-grams=%{y}<extra></extra>",
         "legendgroup": "mgood",
         "line": {
          "color": "#EF553B",
          "dash": "solid"
         },
         "marker": {
          "symbol": "circle"
         },
         "mode": "markers+lines",
         "name": "mgood",
         "orientation": "v",
         "showlegend": true,
         "type": "scatter",
         "x": [
          1,
          2,
          3,
          4,
          5,
          6
         ],
         "xaxis": "x",
         "y": [
          232,
          4589,
          6853,
          7102,
          7049,
          6952
         ],
         "yaxis": "y"
        },
        {
         "hovertemplate": "label=mbad<br>N-gram size=%{x}<br>Unique # of n-grams=%{y}<extra></extra>",
         "legendgroup": "mbad",
         "line": {
          "color": "#00cc96",
          "dash": "solid"
         },
         "marker": {
          "symbol": "circle"
         },
         "mode": "markers+lines",
         "name": "mbad",
         "orientation": "v",
         "showlegend": true,
         "type": "scatter",
         "x": [
          1,
          2,
          3,
          4,
          5,
          6
         ],
         "xaxis": "x",
         "y": [
          576,
          8616,
          11961,
          12217,
          12121,
          12005
         ],
         "yaxis": "y"
        }
       ],
       "layout": {
        "legend": {
         "title": {
          "text": "label"
         },
         "tracegroupgap": 0
        },
        "template": {
         "data": {
          "bar": [
           {
            "error_x": {
             "color": "#2a3f5f"
            },
            "error_y": {
             "color": "#2a3f5f"
            },
            "marker": {
             "line": {
              "color": "#E5ECF6",
              "width": 0.5
             },
             "pattern": {
              "fillmode": "overlay",
              "size": 10,
              "solidity": 0.2
             }
            },
            "type": "bar"
           }
          ],
          "barpolar": [
           {
            "marker": {
             "line": {
              "color": "#E5ECF6",
              "width": 0.5
             },
             "pattern": {
              "fillmode": "overlay",
              "size": 10,
              "solidity": 0.2
             }
            },
            "type": "barpolar"
           }
          ],
          "carpet": [
           {
            "aaxis": {
             "endlinecolor": "#2a3f5f",
             "gridcolor": "white",
             "linecolor": "white",
             "minorgridcolor": "white",
             "startlinecolor": "#2a3f5f"
            },
            "baxis": {
             "endlinecolor": "#2a3f5f",
             "gridcolor": "white",
             "linecolor": "white",
             "minorgridcolor": "white",
             "startlinecolor": "#2a3f5f"
            },
            "type": "carpet"
           }
          ],
          "choropleth": [
           {
            "colorbar": {
             "outlinewidth": 0,
             "ticks": ""
            },
            "type": "choropleth"
           }
          ],
          "contour": [
           {
            "colorbar": {
             "outlinewidth": 0,
             "ticks": ""
            },
            "colorscale": [
             [
              0,
              "#0d0887"
             ],
             [
              0.1111111111111111,
              "#46039f"
             ],
             [
              0.2222222222222222,
              "#7201a8"
             ],
             [
              0.3333333333333333,
              "#9c179e"
             ],
             [
              0.4444444444444444,
              "#bd3786"
             ],
             [
              0.5555555555555556,
              "#d8576b"
             ],
             [
              0.6666666666666666,
              "#ed7953"
             ],
             [
              0.7777777777777778,
              "#fb9f3a"
             ],
             [
              0.8888888888888888,
              "#fdca26"
             ],
             [
              1,
              "#f0f921"
             ]
            ],
            "type": "contour"
           }
          ],
          "contourcarpet": [
           {
            "colorbar": {
             "outlinewidth": 0,
             "ticks": ""
            },
            "type": "contourcarpet"
           }
          ],
          "heatmap": [
           {
            "colorbar": {
             "outlinewidth": 0,
             "ticks": ""
            },
            "colorscale": [
             [
              0,
              "#0d0887"
             ],
             [
              0.1111111111111111,
              "#46039f"
             ],
             [
              0.2222222222222222,
              "#7201a8"
             ],
             [
              0.3333333333333333,
              "#9c179e"
             ],
             [
              0.4444444444444444,
              "#bd3786"
             ],
             [
              0.5555555555555556,
              "#d8576b"
             ],
             [
              0.6666666666666666,
              "#ed7953"
             ],
             [
              0.7777777777777778,
              "#fb9f3a"
             ],
             [
              0.8888888888888888,
              "#fdca26"
             ],
             [
              1,
              "#f0f921"
             ]
            ],
            "type": "heatmap"
           }
          ],
          "heatmapgl": [
           {
            "colorbar": {
             "outlinewidth": 0,
             "ticks": ""
            },
            "colorscale": [
             [
              0,
              "#0d0887"
             ],
             [
              0.1111111111111111,
              "#46039f"
             ],
             [
              0.2222222222222222,
              "#7201a8"
             ],
             [
              0.3333333333333333,
              "#9c179e"
             ],
             [
              0.4444444444444444,
              "#bd3786"
             ],
             [
              0.5555555555555556,
              "#d8576b"
             ],
             [
              0.6666666666666666,
              "#ed7953"
             ],
             [
              0.7777777777777778,
              "#fb9f3a"
             ],
             [
              0.8888888888888888,
              "#fdca26"
             ],
             [
              1,
              "#f0f921"
             ]
            ],
            "type": "heatmapgl"
           }
          ],
          "histogram": [
           {
            "marker": {
             "pattern": {
              "fillmode": "overlay",
              "size": 10,
              "solidity": 0.2
             }
            },
            "type": "histogram"
           }
          ],
          "histogram2d": [
           {
            "colorbar": {
             "outlinewidth": 0,
             "ticks": ""
            },
            "colorscale": [
             [
              0,
              "#0d0887"
             ],
             [
              0.1111111111111111,
              "#46039f"
             ],
             [
              0.2222222222222222,
              "#7201a8"
             ],
             [
              0.3333333333333333,
              "#9c179e"
             ],
             [
              0.4444444444444444,
              "#bd3786"
             ],
             [
              0.5555555555555556,
              "#d8576b"
             ],
             [
              0.6666666666666666,
              "#ed7953"
             ],
             [
              0.7777777777777778,
              "#fb9f3a"
             ],
             [
              0.8888888888888888,
              "#fdca26"
             ],
             [
              1,
              "#f0f921"
             ]
            ],
            "type": "histogram2d"
           }
          ],
          "histogram2dcontour": [
           {
            "colorbar": {
             "outlinewidth": 0,
             "ticks": ""
            },
            "colorscale": [
             [
              0,
              "#0d0887"
             ],
             [
              0.1111111111111111,
              "#46039f"
             ],
             [
              0.2222222222222222,
              "#7201a8"
             ],
             [
              0.3333333333333333,
              "#9c179e"
             ],
             [
              0.4444444444444444,
              "#bd3786"
             ],
             [
              0.5555555555555556,
              "#d8576b"
             ],
             [
              0.6666666666666666,
              "#ed7953"
             ],
             [
              0.7777777777777778,
              "#fb9f3a"
             ],
             [
              0.8888888888888888,
              "#fdca26"
             ],
             [
              1,
              "#f0f921"
             ]
            ],
            "type": "histogram2dcontour"
           }
          ],
          "mesh3d": [
           {
            "colorbar": {
             "outlinewidth": 0,
             "ticks": ""
            },
            "type": "mesh3d"
           }
          ],
          "parcoords": [
           {
            "line": {
             "colorbar": {
              "outlinewidth": 0,
              "ticks": ""
             }
            },
            "type": "parcoords"
           }
          ],
          "pie": [
           {
            "automargin": true,
            "type": "pie"
           }
          ],
          "scatter": [
           {
            "fillpattern": {
             "fillmode": "overlay",
             "size": 10,
             "solidity": 0.2
            },
            "type": "scatter"
           }
          ],
          "scatter3d": [
           {
            "line": {
             "colorbar": {
              "outlinewidth": 0,
              "ticks": ""
             }
            },
            "marker": {
             "colorbar": {
              "outlinewidth": 0,
              "ticks": ""
             }
            },
            "type": "scatter3d"
           }
          ],
          "scattercarpet": [
           {
            "marker": {
             "colorbar": {
              "outlinewidth": 0,
              "ticks": ""
             }
            },
            "type": "scattercarpet"
           }
          ],
          "scattergeo": [
           {
            "marker": {
             "colorbar": {
              "outlinewidth": 0,
              "ticks": ""
             }
            },
            "type": "scattergeo"
           }
          ],
          "scattergl": [
           {
            "marker": {
             "colorbar": {
              "outlinewidth": 0,
              "ticks": ""
             }
            },
            "type": "scattergl"
           }
          ],
          "scattermapbox": [
           {
            "marker": {
             "colorbar": {
              "outlinewidth": 0,
              "ticks": ""
             }
            },
            "type": "scattermapbox"
           }
          ],
          "scatterpolar": [
           {
            "marker": {
             "colorbar": {
              "outlinewidth": 0,
              "ticks": ""
             }
            },
            "type": "scatterpolar"
           }
          ],
          "scatterpolargl": [
           {
            "marker": {
             "colorbar": {
              "outlinewidth": 0,
              "ticks": ""
             }
            },
            "type": "scatterpolargl"
           }
          ],
          "scatterternary": [
           {
            "marker": {
             "colorbar": {
              "outlinewidth": 0,
              "ticks": ""
             }
            },
            "type": "scatterternary"
           }
          ],
          "surface": [
           {
            "colorbar": {
             "outlinewidth": 0,
             "ticks": ""
            },
            "colorscale": [
             [
              0,
              "#0d0887"
             ],
             [
              0.1111111111111111,
              "#46039f"
             ],
             [
              0.2222222222222222,
              "#7201a8"
             ],
             [
              0.3333333333333333,
              "#9c179e"
             ],
             [
              0.4444444444444444,
              "#bd3786"
             ],
             [
              0.5555555555555556,
              "#d8576b"
             ],
             [
              0.6666666666666666,
              "#ed7953"
             ],
             [
              0.7777777777777778,
              "#fb9f3a"
             ],
             [
              0.8888888888888888,
              "#fdca26"
             ],
             [
              1,
              "#f0f921"
             ]
            ],
            "type": "surface"
           }
          ],
          "table": [
           {
            "cells": {
             "fill": {
              "color": "#EBF0F8"
             },
             "line": {
              "color": "white"
             }
            },
            "header": {
             "fill": {
              "color": "#C8D4E3"
             },
             "line": {
              "color": "white"
             }
            },
            "type": "table"
           }
          ]
         },
         "layout": {
          "annotationdefaults": {
           "arrowcolor": "#2a3f5f",
           "arrowhead": 0,
           "arrowwidth": 1
          },
          "autotypenumbers": "strict",
          "coloraxis": {
           "colorbar": {
            "outlinewidth": 0,
            "ticks": ""
           }
          },
          "colorscale": {
           "diverging": [
            [
             0,
             "#8e0152"
            ],
            [
             0.1,
             "#c51b7d"
            ],
            [
             0.2,
             "#de77ae"
            ],
            [
             0.3,
             "#f1b6da"
            ],
            [
             0.4,
             "#fde0ef"
            ],
            [
             0.5,
             "#f7f7f7"
            ],
            [
             0.6,
             "#e6f5d0"
            ],
            [
             0.7,
             "#b8e186"
            ],
            [
             0.8,
             "#7fbc41"
            ],
            [
             0.9,
             "#4d9221"
            ],
            [
             1,
             "#276419"
            ]
           ],
           "sequential": [
            [
             0,
             "#0d0887"
            ],
            [
             0.1111111111111111,
             "#46039f"
            ],
            [
             0.2222222222222222,
             "#7201a8"
            ],
            [
             0.3333333333333333,
             "#9c179e"
            ],
            [
             0.4444444444444444,
             "#bd3786"
            ],
            [
             0.5555555555555556,
             "#d8576b"
            ],
            [
             0.6666666666666666,
             "#ed7953"
            ],
            [
             0.7777777777777778,
             "#fb9f3a"
            ],
            [
             0.8888888888888888,
             "#fdca26"
            ],
            [
             1,
             "#f0f921"
            ]
           ],
           "sequentialminus": [
            [
             0,
             "#0d0887"
            ],
            [
             0.1111111111111111,
             "#46039f"
            ],
            [
             0.2222222222222222,
             "#7201a8"
            ],
            [
             0.3333333333333333,
             "#9c179e"
            ],
            [
             0.4444444444444444,
             "#bd3786"
            ],
            [
             0.5555555555555556,
             "#d8576b"
            ],
            [
             0.6666666666666666,
             "#ed7953"
            ],
            [
             0.7777777777777778,
             "#fb9f3a"
            ],
            [
             0.8888888888888888,
             "#fdca26"
            ],
            [
             1,
             "#f0f921"
            ]
           ]
          },
          "colorway": [
           "#636efa",
           "#EF553B",
           "#00cc96",
           "#ab63fa",
           "#FFA15A",
           "#19d3f3",
           "#FF6692",
           "#B6E880",
           "#FF97FF",
           "#FECB52"
          ],
          "font": {
           "color": "#2a3f5f"
          },
          "geo": {
           "bgcolor": "white",
           "lakecolor": "white",
           "landcolor": "#E5ECF6",
           "showlakes": true,
           "showland": true,
           "subunitcolor": "white"
          },
          "hoverlabel": {
           "align": "left"
          },
          "hovermode": "closest",
          "mapbox": {
           "style": "light"
          },
          "paper_bgcolor": "white",
          "plot_bgcolor": "#E5ECF6",
          "polar": {
           "angularaxis": {
            "gridcolor": "white",
            "linecolor": "white",
            "ticks": ""
           },
           "bgcolor": "#E5ECF6",
           "radialaxis": {
            "gridcolor": "white",
            "linecolor": "white",
            "ticks": ""
           }
          },
          "scene": {
           "xaxis": {
            "backgroundcolor": "#E5ECF6",
            "gridcolor": "white",
            "gridwidth": 2,
            "linecolor": "white",
            "showbackground": true,
            "ticks": "",
            "zerolinecolor": "white"
           },
           "yaxis": {
            "backgroundcolor": "#E5ECF6",
            "gridcolor": "white",
            "gridwidth": 2,
            "linecolor": "white",
            "showbackground": true,
            "ticks": "",
            "zerolinecolor": "white"
           },
           "zaxis": {
            "backgroundcolor": "#E5ECF6",
            "gridcolor": "white",
            "gridwidth": 2,
            "linecolor": "white",
            "showbackground": true,
            "ticks": "",
            "zerolinecolor": "white"
           }
          },
          "shapedefaults": {
           "line": {
            "color": "#2a3f5f"
           }
          },
          "ternary": {
           "aaxis": {
            "gridcolor": "white",
            "linecolor": "white",
            "ticks": ""
           },
           "baxis": {
            "gridcolor": "white",
            "linecolor": "white",
            "ticks": ""
           },
           "bgcolor": "#E5ECF6",
           "caxis": {
            "gridcolor": "white",
            "linecolor": "white",
            "ticks": ""
           }
          },
          "title": {
           "x": 0.05
          },
          "xaxis": {
           "automargin": true,
           "gridcolor": "white",
           "linecolor": "white",
           "ticks": "",
           "title": {
            "standoff": 15
           },
           "zerolinecolor": "white",
           "zerolinewidth": 2
          },
          "yaxis": {
           "automargin": true,
           "gridcolor": "white",
           "linecolor": "white",
           "ticks": "",
           "title": {
            "standoff": 15
           },
           "zerolinecolor": "white",
           "zerolinewidth": 2
          }
         }
        },
        "title": {
         "text": "Unique # of ['texas', 'florida'] n-grams for each label"
        },
        "xaxis": {
         "anchor": "y",
         "domain": [
          0,
          1
         ],
         "title": {
          "text": "N-gram size"
         }
        },
        "yaxis": {
         "anchor": "x",
         "domain": [
          0,
          1
         ],
         "title": {
          "text": "Unique # of n-grams"
         }
        }
       }
      }
     },
     "metadata": {},
     "output_type": "display_data"
    }
   ],
   "source": [
    "import plotly.express as px\n",
    "\n",
    "intersection_sizes = []\n",
    "for n in [1, 2, 3, 4, 5, 6]:\n",
    "\n",
    "    good_ngrams = series_to_ngrams(df[df.label == \"good\"].comments, n).value_counts()\n",
    "    bad_ngrams = series_to_ngrams(df[df.label == \"bad\"].comments, n).value_counts()\n",
    "    mgood_ngrams = series_to_ngrams(df[df.label == \"mgood\"].comments, n).value_counts()\n",
    "    mbad_ngrams = series_to_ngrams(df[df.label == \"mbad\"].comments, n).value_counts()\n",
    "    intersection_sizes_n = get_exclusive_sizes(\n",
    "        set(good_ngrams.index),\n",
    "        set(bad_ngrams.index),\n",
    "        set(mgood_ngrams.index),\n",
    "        set(mbad_ngrams.index)\n",
    "    )\n",
    "\n",
    "    intersection_sizes_n[\"n\"] = n\n",
    "\n",
    "    intersection_sizes.append(intersection_sizes_n)\n",
    "\n",
    "\n",
    "# prepare data\n",
    "is_df = pd.DataFrame(intersection_sizes)\n",
    "is_df = is_df.melt(id_vars=\"n\", var_name=\"label\", value_name=\"count\")\n",
    "is_df[\"count\"] = is_df[\"count\"].astype(int)\n",
    "is_df[\"n\"] = is_df[\"n\"].astype(int)\n",
    "\n",
    "# exclude good \n",
    "is_df = is_df[is_df.label != \"good\"]\n",
    "\n",
    "# plot a line chart\n",
    "px.line(is_df, \n",
    "    x=\"n\", y=\"count\",\n",
    "    color=\"label\",\n",
    "    title=f\"Unique # of {GEO} n-grams for each label\", \n",
    "    labels={\"n\": \"N-gram size\", \"count\": \"Unique # of n-grams\"},\n",
    "    markers=True\n",
    "    )"
   ]
  },
  {
   "attachments": {},
   "cell_type": "markdown",
   "metadata": {},
   "source": [
    "We can see that the number of unique ngrams increases until about n=4, and then levels off. What are the top 10 4-grams for misleading reviews?"
   ]
  },
  {
   "cell_type": "code",
   "execution_count": 7,
   "metadata": {},
   "outputs": [
    {
     "name": "stdout",
     "output_type": "stream",
     "text": [
      "Top 10 most common 3-grams in misleading reviews:\n"
     ]
    },
    {
     "data": {
      "text/plain": [
       "[('within_walking_distance', 10),\n",
       " ('would_not_recommend', 7),\n",
       " ('living_room_furniture', 4),\n",
       " ('not_recommend_staying', 4),\n",
       " ('not_big_deal', 4),\n",
       " ('great_place_stay', 4),\n",
       " ('let_u_know', 4),\n",
       " ('not_work_not', 3),\n",
       " ('give_4_star', 3),\n",
       " ('made_u_feel', 3)]"
      ]
     },
     "execution_count": 7,
     "metadata": {},
     "output_type": "execute_result"
    }
   ],
   "source": [
    "import numpy as np\n",
    "from collections import Counter\n",
    "\n",
    "# get subset of misleading reviews\n",
    "subset = df[df.label.isin([\"mbad\", \"mgood\"])]\n",
    "\n",
    "# get groups of N consecutive words\n",
    "N = 3\n",
    "n_grams = series_to_ngrams(subset.comments, N).to_list()\n",
    "\n",
    "print(f\"Top 10 most common {N}-grams in misleading reviews:\")\n",
    "Counter(n_grams).most_common(10)"
   ]
  },
  {
   "attachments": {},
   "cell_type": "markdown",
   "metadata": {},
   "source": [
    "Let's manually remove some of these that don't make sense"
   ]
  },
  {
   "attachments": {},
   "cell_type": "markdown",
   "metadata": {},
   "source": [
    "Now let's look at a word cloud of the N-grams in misleading reviews."
   ]
  },
  {
   "cell_type": "code",
   "execution_count": 8,
   "metadata": {},
   "outputs": [
    {
     "data": {
      "application/vnd.plotly.v1+json": {
       "config": {
        "plotlyServerURL": "https://plot.ly"
       },
       "data": [
        {
         "hovertemplate": "x: %{x}<br>y: %{y}<br>color: [%{z[0]}, %{z[1]}, %{z[2]}]<extra></extra>",
         "name": "0",
         "source": "data:image/png;base64,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",
         "type": "image",
         "xaxis": "x",
         "yaxis": "y"
        }
       ],
       "layout": {
        "height": 700,
        "template": {
         "data": {
          "bar": [
           {
            "error_x": {
             "color": "#2a3f5f"
            },
            "error_y": {
             "color": "#2a3f5f"
            },
            "marker": {
             "line": {
              "color": "#E5ECF6",
              "width": 0.5
             },
             "pattern": {
              "fillmode": "overlay",
              "size": 10,
              "solidity": 0.2
             }
            },
            "type": "bar"
           }
          ],
          "barpolar": [
           {
            "marker": {
             "line": {
              "color": "#E5ECF6",
              "width": 0.5
             },
             "pattern": {
              "fillmode": "overlay",
              "size": 10,
              "solidity": 0.2
             }
            },
            "type": "barpolar"
           }
          ],
          "carpet": [
           {
            "aaxis": {
             "endlinecolor": "#2a3f5f",
             "gridcolor": "white",
             "linecolor": "white",
             "minorgridcolor": "white",
             "startlinecolor": "#2a3f5f"
            },
            "baxis": {
             "endlinecolor": "#2a3f5f",
             "gridcolor": "white",
             "linecolor": "white",
             "minorgridcolor": "white",
             "startlinecolor": "#2a3f5f"
            },
            "type": "carpet"
           }
          ],
          "choropleth": [
           {
            "colorbar": {
             "outlinewidth": 0,
             "ticks": ""
            },
            "type": "choropleth"
           }
          ],
          "contour": [
           {
            "colorbar": {
             "outlinewidth": 0,
             "ticks": ""
            },
            "colorscale": [
             [
              0,
              "#0d0887"
             ],
             [
              0.1111111111111111,
              "#46039f"
             ],
             [
              0.2222222222222222,
              "#7201a8"
             ],
             [
              0.3333333333333333,
              "#9c179e"
             ],
             [
              0.4444444444444444,
              "#bd3786"
             ],
             [
              0.5555555555555556,
              "#d8576b"
             ],
             [
              0.6666666666666666,
              "#ed7953"
             ],
             [
              0.7777777777777778,
              "#fb9f3a"
             ],
             [
              0.8888888888888888,
              "#fdca26"
             ],
             [
              1,
              "#f0f921"
             ]
            ],
            "type": "contour"
           }
          ],
          "contourcarpet": [
           {
            "colorbar": {
             "outlinewidth": 0,
             "ticks": ""
            },
            "type": "contourcarpet"
           }
          ],
          "heatmap": [
           {
            "colorbar": {
             "outlinewidth": 0,
             "ticks": ""
            },
            "colorscale": [
             [
              0,
              "#0d0887"
             ],
             [
              0.1111111111111111,
              "#46039f"
             ],
             [
              0.2222222222222222,
              "#7201a8"
             ],
             [
              0.3333333333333333,
              "#9c179e"
             ],
             [
              0.4444444444444444,
              "#bd3786"
             ],
             [
              0.5555555555555556,
              "#d8576b"
             ],
             [
              0.6666666666666666,
              "#ed7953"
             ],
             [
              0.7777777777777778,
              "#fb9f3a"
             ],
             [
              0.8888888888888888,
              "#fdca26"
             ],
             [
              1,
              "#f0f921"
             ]
            ],
            "type": "heatmap"
           }
          ],
          "heatmapgl": [
           {
            "colorbar": {
             "outlinewidth": 0,
             "ticks": ""
            },
            "colorscale": [
             [
              0,
              "#0d0887"
             ],
             [
              0.1111111111111111,
              "#46039f"
             ],
             [
              0.2222222222222222,
              "#7201a8"
             ],
             [
              0.3333333333333333,
              "#9c179e"
             ],
             [
              0.4444444444444444,
              "#bd3786"
             ],
             [
              0.5555555555555556,
              "#d8576b"
             ],
             [
              0.6666666666666666,
              "#ed7953"
             ],
             [
              0.7777777777777778,
              "#fb9f3a"
             ],
             [
              0.8888888888888888,
              "#fdca26"
             ],
             [
              1,
              "#f0f921"
             ]
            ],
            "type": "heatmapgl"
           }
          ],
          "histogram": [
           {
            "marker": {
             "pattern": {
              "fillmode": "overlay",
              "size": 10,
              "solidity": 0.2
             }
            },
            "type": "histogram"
           }
          ],
          "histogram2d": [
           {
            "colorbar": {
             "outlinewidth": 0,
             "ticks": ""
            },
            "colorscale": [
             [
              0,
              "#0d0887"
             ],
             [
              0.1111111111111111,
              "#46039f"
             ],
             [
              0.2222222222222222,
              "#7201a8"
             ],
             [
              0.3333333333333333,
              "#9c179e"
             ],
             [
              0.4444444444444444,
              "#bd3786"
             ],
             [
              0.5555555555555556,
              "#d8576b"
             ],
             [
              0.6666666666666666,
              "#ed7953"
             ],
             [
              0.7777777777777778,
              "#fb9f3a"
             ],
             [
              0.8888888888888888,
              "#fdca26"
             ],
             [
              1,
              "#f0f921"
             ]
            ],
            "type": "histogram2d"
           }
          ],
          "histogram2dcontour": [
           {
            "colorbar": {
             "outlinewidth": 0,
             "ticks": ""
            },
            "colorscale": [
             [
              0,
              "#0d0887"
             ],
             [
              0.1111111111111111,
              "#46039f"
             ],
             [
              0.2222222222222222,
              "#7201a8"
             ],
             [
              0.3333333333333333,
              "#9c179e"
             ],
             [
              0.4444444444444444,
              "#bd3786"
             ],
             [
              0.5555555555555556,
              "#d8576b"
             ],
             [
              0.6666666666666666,
              "#ed7953"
             ],
             [
              0.7777777777777778,
              "#fb9f3a"
             ],
             [
              0.8888888888888888,
              "#fdca26"
             ],
             [
              1,
              "#f0f921"
             ]
            ],
            "type": "histogram2dcontour"
           }
          ],
          "mesh3d": [
           {
            "colorbar": {
             "outlinewidth": 0,
             "ticks": ""
            },
            "type": "mesh3d"
           }
          ],
          "parcoords": [
           {
            "line": {
             "colorbar": {
              "outlinewidth": 0,
              "ticks": ""
             }
            },
            "type": "parcoords"
           }
          ],
          "pie": [
           {
            "automargin": true,
            "type": "pie"
           }
          ],
          "scatter": [
           {
            "fillpattern": {
             "fillmode": "overlay",
             "size": 10,
             "solidity": 0.2
            },
            "type": "scatter"
           }
          ],
          "scatter3d": [
           {
            "line": {
             "colorbar": {
              "outlinewidth": 0,
              "ticks": ""
             }
            },
            "marker": {
             "colorbar": {
              "outlinewidth": 0,
              "ticks": ""
             }
            },
            "type": "scatter3d"
           }
          ],
          "scattercarpet": [
           {
            "marker": {
             "colorbar": {
              "outlinewidth": 0,
              "ticks": ""
             }
            },
            "type": "scattercarpet"
           }
          ],
          "scattergeo": [
           {
            "marker": {
             "colorbar": {
              "outlinewidth": 0,
              "ticks": ""
             }
            },
            "type": "scattergeo"
           }
          ],
          "scattergl": [
           {
            "marker": {
             "colorbar": {
              "outlinewidth": 0,
              "ticks": ""
             }
            },
            "type": "scattergl"
           }
          ],
          "scattermapbox": [
           {
            "marker": {
             "colorbar": {
              "outlinewidth": 0,
              "ticks": ""
             }
            },
            "type": "scattermapbox"
           }
          ],
          "scatterpolar": [
           {
            "marker": {
             "colorbar": {
              "outlinewidth": 0,
              "ticks": ""
             }
            },
            "type": "scatterpolar"
           }
          ],
          "scatterpolargl": [
           {
            "marker": {
             "colorbar": {
              "outlinewidth": 0,
              "ticks": ""
             }
            },
            "type": "scatterpolargl"
           }
          ],
          "scatterternary": [
           {
            "marker": {
             "colorbar": {
              "outlinewidth": 0,
              "ticks": ""
             }
            },
            "type": "scatterternary"
           }
          ],
          "surface": [
           {
            "colorbar": {
             "outlinewidth": 0,
             "ticks": ""
            },
            "colorscale": [
             [
              0,
              "#0d0887"
             ],
             [
              0.1111111111111111,
              "#46039f"
             ],
             [
              0.2222222222222222,
              "#7201a8"
             ],
             [
              0.3333333333333333,
              "#9c179e"
             ],
             [
              0.4444444444444444,
              "#bd3786"
             ],
             [
              0.5555555555555556,
              "#d8576b"
             ],
             [
              0.6666666666666666,
              "#ed7953"
             ],
             [
              0.7777777777777778,
              "#fb9f3a"
             ],
             [
              0.8888888888888888,
              "#fdca26"
             ],
             [
              1,
              "#f0f921"
             ]
            ],
            "type": "surface"
           }
          ],
          "table": [
           {
            "cells": {
             "fill": {
              "color": "#EBF0F8"
             },
             "line": {
              "color": "white"
             }
            },
            "header": {
             "fill": {
              "color": "#C8D4E3"
             },
             "line": {
              "color": "white"
             }
            },
            "type": "table"
           }
          ]
         },
         "layout": {
          "annotationdefaults": {
           "arrowcolor": "#2a3f5f",
           "arrowhead": 0,
           "arrowwidth": 1
          },
          "autotypenumbers": "strict",
          "coloraxis": {
           "colorbar": {
            "outlinewidth": 0,
            "ticks": ""
           }
          },
          "colorscale": {
           "diverging": [
            [
             0,
             "#8e0152"
            ],
            [
             0.1,
             "#c51b7d"
            ],
            [
             0.2,
             "#de77ae"
            ],
            [
             0.3,
             "#f1b6da"
            ],
            [
             0.4,
             "#fde0ef"
            ],
            [
             0.5,
             "#f7f7f7"
            ],
            [
             0.6,
             "#e6f5d0"
            ],
            [
             0.7,
             "#b8e186"
            ],
            [
             0.8,
             "#7fbc41"
            ],
            [
             0.9,
             "#4d9221"
            ],
            [
             1,
             "#276419"
            ]
           ],
           "sequential": [
            [
             0,
             "#0d0887"
            ],
            [
             0.1111111111111111,
             "#46039f"
            ],
            [
             0.2222222222222222,
             "#7201a8"
            ],
            [
             0.3333333333333333,
             "#9c179e"
            ],
            [
             0.4444444444444444,
             "#bd3786"
            ],
            [
             0.5555555555555556,
             "#d8576b"
            ],
            [
             0.6666666666666666,
             "#ed7953"
            ],
            [
             0.7777777777777778,
             "#fb9f3a"
            ],
            [
             0.8888888888888888,
             "#fdca26"
            ],
            [
             1,
             "#f0f921"
            ]
           ],
           "sequentialminus": [
            [
             0,
             "#0d0887"
            ],
            [
             0.1111111111111111,
             "#46039f"
            ],
            [
             0.2222222222222222,
             "#7201a8"
            ],
            [
             0.3333333333333333,
             "#9c179e"
            ],
            [
             0.4444444444444444,
             "#bd3786"
            ],
            [
             0.5555555555555556,
             "#d8576b"
            ],
            [
             0.6666666666666666,
             "#ed7953"
            ],
            [
             0.7777777777777778,
             "#fb9f3a"
            ],
            [
             0.8888888888888888,
             "#fdca26"
            ],
            [
             1,
             "#f0f921"
            ]
           ]
          },
          "colorway": [
           "#636efa",
           "#EF553B",
           "#00cc96",
           "#ab63fa",
           "#FFA15A",
           "#19d3f3",
           "#FF6692",
           "#B6E880",
           "#FF97FF",
           "#FECB52"
          ],
          "font": {
           "color": "#2a3f5f"
          },
          "geo": {
           "bgcolor": "white",
           "lakecolor": "white",
           "landcolor": "#E5ECF6",
           "showlakes": true,
           "showland": true,
           "subunitcolor": "white"
          },
          "hoverlabel": {
           "align": "left"
          },
          "hovermode": "closest",
          "mapbox": {
           "style": "light"
          },
          "paper_bgcolor": "white",
          "plot_bgcolor": "#E5ECF6",
          "polar": {
           "angularaxis": {
            "gridcolor": "white",
            "linecolor": "white",
            "ticks": ""
           },
           "bgcolor": "#E5ECF6",
           "radialaxis": {
            "gridcolor": "white",
            "linecolor": "white",
            "ticks": ""
           }
          },
          "scene": {
           "xaxis": {
            "backgroundcolor": "#E5ECF6",
            "gridcolor": "white",
            "gridwidth": 2,
            "linecolor": "white",
            "showbackground": true,
            "ticks": "",
            "zerolinecolor": "white"
           },
           "yaxis": {
            "backgroundcolor": "#E5ECF6",
            "gridcolor": "white",
            "gridwidth": 2,
            "linecolor": "white",
            "showbackground": true,
            "ticks": "",
            "zerolinecolor": "white"
           },
           "zaxis": {
            "backgroundcolor": "#E5ECF6",
            "gridcolor": "white",
            "gridwidth": 2,
            "linecolor": "white",
            "showbackground": true,
            "ticks": "",
            "zerolinecolor": "white"
           }
          },
          "shapedefaults": {
           "line": {
            "color": "#2a3f5f"
           }
          },
          "ternary": {
           "aaxis": {
            "gridcolor": "white",
            "linecolor": "white",
            "ticks": ""
           },
           "baxis": {
            "gridcolor": "white",
            "linecolor": "white",
            "ticks": ""
           },
           "bgcolor": "#E5ECF6",
           "caxis": {
            "gridcolor": "white",
            "linecolor": "white",
            "ticks": ""
           }
          },
          "title": {
           "x": 0.05
          },
          "xaxis": {
           "automargin": true,
           "gridcolor": "white",
           "linecolor": "white",
           "ticks": "",
           "title": {
            "standoff": 15
           },
           "zerolinecolor": "white",
           "zerolinewidth": 2
          },
          "yaxis": {
           "automargin": true,
           "gridcolor": "white",
           "linecolor": "white",
           "ticks": "",
           "title": {
            "standoff": 15
           },
           "zerolinecolor": "white",
           "zerolinewidth": 2
          }
         }
        },
        "title": {
         "text": "Most common 3-grams in misleading reviews"
        },
        "width": 700,
        "xaxis": {
         "anchor": "y",
         "domain": [
          0,
          1
         ],
         "visible": false
        },
        "yaxis": {
         "anchor": "x",
         "domain": [
          0,
          1
         ],
         "visible": false
        }
       }
      }
     },
     "metadata": {},
     "output_type": "display_data"
    }
   ],
   "source": [
    "from wordcloud import WordCloud\n",
    "from PIL import Image\n",
    "\n",
    "ngrams_str = \" \".join(n_grams)\n",
    "\n",
    "# make house-shaped mask\n",
    "mask = np.array(Image.open(\"../../house_shape.png\"))\n",
    "# fill transparent areas with white\n",
    "mask[mask[:, :, 3] == 0] = [255, 255, 255, 255]\n",
    "\n",
    "# generate wordcloud\n",
    "wc = WordCloud(\n",
    "    background_color=\"white\", \n",
    "    max_words=1000, \n",
    "    width=mask.shape[0]*5,\n",
    "    height=mask.shape[1]*5,\n",
    "    mask = mask,\n",
    "    contour_width=3,\n",
    "    contour_color='steelblue',\n",
    "    colormap=\"twilight_shifted\"\n",
    ").generate(ngrams_str)\n",
    "\n",
    "wc\n",
    "\n",
    "# show wordcloud\n",
    "fig = px.imshow(wc, title=f\"Most common {N}-grams in misleading reviews\", width=700, height=700)\n",
    "fig.update_xaxes(visible=False)\n",
    "fig.update_yaxes(visible=False)\n",
    "fig.show()"
   ]
  },
  {
   "attachments": {},
   "cell_type": "markdown",
   "metadata": {},
   "source": [
    "Here is a reusable function to add ngrams features to a dataframe."
   ]
  },
  {
   "cell_type": "code",
   "execution_count": 9,
   "metadata": {},
   "outputs": [],
   "source": [
    "def ngrams_features(features, n, prefix=\"ngrams_\", corr_thresh=0.05):\n",
    "    \"\"\"Add n-gram features to the features dataframe.\"\"\"\n",
    "\n",
    "    # one-hot encode ngrams\n",
    "    df[\"ngrams\"] = df.comments.apply(lambda x: set(get_consecutive_ngrams(x, 3)))\n",
    "\n",
    "    # get set of ngrams\n",
    "    ng_set = set(series_to_ngrams(subset.comments, n).to_list())\n",
    "\n",
    "    # one-hot encode ngrams\n",
    "    ngram_features = {}\n",
    "    for ngram in ng_set:\n",
    "        ngram_features[prefix + ngram] = df.ngrams.apply(lambda ngrams: 1 if ngram in ngrams else 0)\n",
    "    ngram_df = pd.DataFrame(ngram_features)\n",
    "    \n",
    "    # filter features on correlation with label\n",
    "    ngrams_df = corr_filter(ngram_df, corr_thresh=corr_thresh)\n",
    "\n",
    "    # add ngram features to features dataframe\n",
    "    features = pd.concat([features, ngrams_df], axis=1)\n",
    "\n",
    "\n",
    "    return features"
   ]
  },
  {
   "cell_type": "code",
   "execution_count": 10,
   "metadata": {},
   "outputs": [
    {
     "name": "stdout",
     "output_type": "stream",
     "text": [
      "Features above correlation threshold (0.09):\n",
      "['ngrams_would_not_recommend', 'ngrams_no_toilet_paper', 'ngrams_not_recommend_staying', 'ngrams_per_night_not', 'ngrams_could_not_access', 'ngrams_phone_call_text', 'ngrams_very_old_not', 'ngrams_call_text_message', 'ngrams_left_first_night', 'ngrams_old_not_well', 'ngrams_worse_experience_ever', 'ngrams_paid_two_night', 'ngrams_refund_second_night', 'ngrams_expected_based_description', 'ngrams_not_really_clean', 'ngrams_need_deep_cleaning', 'ngrams_got_no_response', 'ngrams_toilet_paper_buy', 'ngrams_never_met_host', 'ngrams_property_management_company', 'ngrams_nothing_like_picture', 'ngrams_freezer_not_work', 'ngrams_obviously_not_cleaned', 'ngrams_shower_curtain_covered', 'ngrams_never_responded_message', 'ngrams_not_clean_arrived', 'ngrams_not_feel_comfortable', 'ngrams_very_bad_shape', 'ngrams_start_good_thing', 'ngrams_got_no_answer', 'ngrams_time_opened_door', 'ngrams_spend_lot_time', 'ngrams_write_negative_review', 'ngrams_need_major_overhaul', 'ngrams_living_room_couch', 'ngrams_sleep_bedroom_door', 'ngrams_guest_not_able', 'ngrams_take_cold_shower', 'ngrams_place_sleep_10', 'ngrams_staying_another_unit', 'ngrams_told_cleaning_lady', 'ngrams_big_issue_u', 'ngrams_let_start_saying', 'ngrams_felt_compelled_write']\n"
     ]
    },
    {
     "data": {
      "text/html": [
       "<div>\n",
       "<style scoped>\n",
       "    .dataframe tbody tr th:only-of-type {\n",
       "        vertical-align: middle;\n",
       "    }\n",
       "\n",
       "    .dataframe tbody tr th {\n",
       "        vertical-align: top;\n",
       "    }\n",
       "\n",
       "    .dataframe thead th {\n",
       "        text-align: right;\n",
       "    }\n",
       "</style>\n",
       "<table border=\"1\" class=\"dataframe\">\n",
       "  <thead>\n",
       "    <tr style=\"text-align: right;\">\n",
       "      <th></th>\n",
       "      <th>ngrams_would_not_recommend</th>\n",
       "      <th>ngrams_no_toilet_paper</th>\n",
       "      <th>ngrams_not_recommend_staying</th>\n",
       "      <th>ngrams_per_night_not</th>\n",
       "      <th>ngrams_could_not_access</th>\n",
       "      <th>ngrams_phone_call_text</th>\n",
       "      <th>ngrams_very_old_not</th>\n",
       "      <th>ngrams_call_text_message</th>\n",
       "      <th>ngrams_left_first_night</th>\n",
       "      <th>ngrams_old_not_well</th>\n",
       "      <th>...</th>\n",
       "      <th>ngrams_living_room_couch</th>\n",
       "      <th>ngrams_sleep_bedroom_door</th>\n",
       "      <th>ngrams_guest_not_able</th>\n",
       "      <th>ngrams_take_cold_shower</th>\n",
       "      <th>ngrams_place_sleep_10</th>\n",
       "      <th>ngrams_staying_another_unit</th>\n",
       "      <th>ngrams_told_cleaning_lady</th>\n",
       "      <th>ngrams_big_issue_u</th>\n",
       "      <th>ngrams_let_start_saying</th>\n",
       "      <th>ngrams_felt_compelled_write</th>\n",
       "    </tr>\n",
       "  </thead>\n",
       "  <tbody>\n",
       "    <tr>\n",
       "      <th>0</th>\n",
       "      <td>0</td>\n",
       "      <td>0</td>\n",
       "      <td>0</td>\n",
       "      <td>0</td>\n",
       "      <td>0</td>\n",
       "      <td>0</td>\n",
       "      <td>0</td>\n",
       "      <td>0</td>\n",
       "      <td>0</td>\n",
       "      <td>0</td>\n",
       "      <td>...</td>\n",
       "      <td>0</td>\n",
       "      <td>0</td>\n",
       "      <td>0</td>\n",
       "      <td>0</td>\n",
       "      <td>0</td>\n",
       "      <td>0</td>\n",
       "      <td>0</td>\n",
       "      <td>0</td>\n",
       "      <td>0</td>\n",
       "      <td>0</td>\n",
       "    </tr>\n",
       "    <tr>\n",
       "      <th>1</th>\n",
       "      <td>0</td>\n",
       "      <td>0</td>\n",
       "      <td>0</td>\n",
       "      <td>0</td>\n",
       "      <td>0</td>\n",
       "      <td>0</td>\n",
       "      <td>0</td>\n",
       "      <td>0</td>\n",
       "      <td>0</td>\n",
       "      <td>0</td>\n",
       "      <td>...</td>\n",
       "      <td>0</td>\n",
       "      <td>0</td>\n",
       "      <td>0</td>\n",
       "      <td>0</td>\n",
       "      <td>0</td>\n",
       "      <td>0</td>\n",
       "      <td>0</td>\n",
       "      <td>0</td>\n",
       "      <td>0</td>\n",
       "      <td>0</td>\n",
       "    </tr>\n",
       "    <tr>\n",
       "      <th>2</th>\n",
       "      <td>0</td>\n",
       "      <td>0</td>\n",
       "      <td>0</td>\n",
       "      <td>0</td>\n",
       "      <td>0</td>\n",
       "      <td>0</td>\n",
       "      <td>0</td>\n",
       "      <td>0</td>\n",
       "      <td>0</td>\n",
       "      <td>0</td>\n",
       "      <td>...</td>\n",
       "      <td>0</td>\n",
       "      <td>0</td>\n",
       "      <td>0</td>\n",
       "      <td>0</td>\n",
       "      <td>0</td>\n",
       "      <td>0</td>\n",
       "      <td>0</td>\n",
       "      <td>0</td>\n",
       "      <td>0</td>\n",
       "      <td>0</td>\n",
       "    </tr>\n",
       "    <tr>\n",
       "      <th>3</th>\n",
       "      <td>0</td>\n",
       "      <td>0</td>\n",
       "      <td>0</td>\n",
       "      <td>0</td>\n",
       "      <td>0</td>\n",
       "      <td>0</td>\n",
       "      <td>0</td>\n",
       "      <td>0</td>\n",
       "      <td>0</td>\n",
       "      <td>0</td>\n",
       "      <td>...</td>\n",
       "      <td>0</td>\n",
       "      <td>0</td>\n",
       "      <td>0</td>\n",
       "      <td>0</td>\n",
       "      <td>0</td>\n",
       "      <td>0</td>\n",
       "      <td>0</td>\n",
       "      <td>0</td>\n",
       "      <td>0</td>\n",
       "      <td>0</td>\n",
       "    </tr>\n",
       "    <tr>\n",
       "      <th>4</th>\n",
       "      <td>0</td>\n",
       "      <td>0</td>\n",
       "      <td>0</td>\n",
       "      <td>0</td>\n",
       "      <td>0</td>\n",
       "      <td>0</td>\n",
       "      <td>0</td>\n",
       "      <td>0</td>\n",
       "      <td>0</td>\n",
       "      <td>0</td>\n",
       "      <td>...</td>\n",
       "      <td>0</td>\n",
       "      <td>0</td>\n",
       "      <td>0</td>\n",
       "      <td>0</td>\n",
       "      <td>0</td>\n",
       "      <td>0</td>\n",
       "      <td>0</td>\n",
       "      <td>0</td>\n",
       "      <td>0</td>\n",
       "      <td>0</td>\n",
       "    </tr>\n",
       "    <tr>\n",
       "      <th>...</th>\n",
       "      <td>...</td>\n",
       "      <td>...</td>\n",
       "      <td>...</td>\n",
       "      <td>...</td>\n",
       "      <td>...</td>\n",
       "      <td>...</td>\n",
       "      <td>...</td>\n",
       "      <td>...</td>\n",
       "      <td>...</td>\n",
       "      <td>...</td>\n",
       "      <td>...</td>\n",
       "      <td>...</td>\n",
       "      <td>...</td>\n",
       "      <td>...</td>\n",
       "      <td>...</td>\n",
       "      <td>...</td>\n",
       "      <td>...</td>\n",
       "      <td>...</td>\n",
       "      <td>...</td>\n",
       "      <td>...</td>\n",
       "      <td>...</td>\n",
       "    </tr>\n",
       "    <tr>\n",
       "      <th>1624</th>\n",
       "      <td>0</td>\n",
       "      <td>0</td>\n",
       "      <td>0</td>\n",
       "      <td>0</td>\n",
       "      <td>0</td>\n",
       "      <td>0</td>\n",
       "      <td>0</td>\n",
       "      <td>0</td>\n",
       "      <td>0</td>\n",
       "      <td>0</td>\n",
       "      <td>...</td>\n",
       "      <td>0</td>\n",
       "      <td>0</td>\n",
       "      <td>0</td>\n",
       "      <td>0</td>\n",
       "      <td>0</td>\n",
       "      <td>0</td>\n",
       "      <td>0</td>\n",
       "      <td>0</td>\n",
       "      <td>0</td>\n",
       "      <td>0</td>\n",
       "    </tr>\n",
       "    <tr>\n",
       "      <th>1625</th>\n",
       "      <td>0</td>\n",
       "      <td>0</td>\n",
       "      <td>0</td>\n",
       "      <td>0</td>\n",
       "      <td>0</td>\n",
       "      <td>0</td>\n",
       "      <td>0</td>\n",
       "      <td>0</td>\n",
       "      <td>0</td>\n",
       "      <td>0</td>\n",
       "      <td>...</td>\n",
       "      <td>0</td>\n",
       "      <td>0</td>\n",
       "      <td>0</td>\n",
       "      <td>0</td>\n",
       "      <td>0</td>\n",
       "      <td>0</td>\n",
       "      <td>0</td>\n",
       "      <td>0</td>\n",
       "      <td>0</td>\n",
       "      <td>0</td>\n",
       "    </tr>\n",
       "    <tr>\n",
       "      <th>1626</th>\n",
       "      <td>0</td>\n",
       "      <td>0</td>\n",
       "      <td>0</td>\n",
       "      <td>0</td>\n",
       "      <td>0</td>\n",
       "      <td>0</td>\n",
       "      <td>0</td>\n",
       "      <td>0</td>\n",
       "      <td>0</td>\n",
       "      <td>0</td>\n",
       "      <td>...</td>\n",
       "      <td>0</td>\n",
       "      <td>0</td>\n",
       "      <td>0</td>\n",
       "      <td>0</td>\n",
       "      <td>0</td>\n",
       "      <td>0</td>\n",
       "      <td>0</td>\n",
       "      <td>0</td>\n",
       "      <td>0</td>\n",
       "      <td>0</td>\n",
       "    </tr>\n",
       "    <tr>\n",
       "      <th>1627</th>\n",
       "      <td>0</td>\n",
       "      <td>0</td>\n",
       "      <td>0</td>\n",
       "      <td>0</td>\n",
       "      <td>0</td>\n",
       "      <td>0</td>\n",
       "      <td>0</td>\n",
       "      <td>0</td>\n",
       "      <td>0</td>\n",
       "      <td>0</td>\n",
       "      <td>...</td>\n",
       "      <td>0</td>\n",
       "      <td>0</td>\n",
       "      <td>0</td>\n",
       "      <td>0</td>\n",
       "      <td>0</td>\n",
       "      <td>0</td>\n",
       "      <td>0</td>\n",
       "      <td>0</td>\n",
       "      <td>0</td>\n",
       "      <td>0</td>\n",
       "    </tr>\n",
       "    <tr>\n",
       "      <th>1628</th>\n",
       "      <td>0</td>\n",
       "      <td>0</td>\n",
       "      <td>0</td>\n",
       "      <td>0</td>\n",
       "      <td>0</td>\n",
       "      <td>0</td>\n",
       "      <td>0</td>\n",
       "      <td>0</td>\n",
       "      <td>0</td>\n",
       "      <td>0</td>\n",
       "      <td>...</td>\n",
       "      <td>0</td>\n",
       "      <td>0</td>\n",
       "      <td>0</td>\n",
       "      <td>0</td>\n",
       "      <td>0</td>\n",
       "      <td>0</td>\n",
       "      <td>0</td>\n",
       "      <td>0</td>\n",
       "      <td>0</td>\n",
       "      <td>0</td>\n",
       "    </tr>\n",
       "  </tbody>\n",
       "</table>\n",
       "<p>1629 rows × 44 columns</p>\n",
       "</div>"
      ],
      "text/plain": [
       "      ngrams_would_not_recommend  ngrams_no_toilet_paper  \\\n",
       "0                              0                       0   \n",
       "1                              0                       0   \n",
       "2                              0                       0   \n",
       "3                              0                       0   \n",
       "4                              0                       0   \n",
       "...                          ...                     ...   \n",
       "1624                           0                       0   \n",
       "1625                           0                       0   \n",
       "1626                           0                       0   \n",
       "1627                           0                       0   \n",
       "1628                           0                       0   \n",
       "\n",
       "      ngrams_not_recommend_staying  ngrams_per_night_not  \\\n",
       "0                                0                     0   \n",
       "1                                0                     0   \n",
       "2                                0                     0   \n",
       "3                                0                     0   \n",
       "4                                0                     0   \n",
       "...                            ...                   ...   \n",
       "1624                             0                     0   \n",
       "1625                             0                     0   \n",
       "1626                             0                     0   \n",
       "1627                             0                     0   \n",
       "1628                             0                     0   \n",
       "\n",
       "      ngrams_could_not_access  ngrams_phone_call_text  ngrams_very_old_not  \\\n",
       "0                           0                       0                    0   \n",
       "1                           0                       0                    0   \n",
       "2                           0                       0                    0   \n",
       "3                           0                       0                    0   \n",
       "4                           0                       0                    0   \n",
       "...                       ...                     ...                  ...   \n",
       "1624                        0                       0                    0   \n",
       "1625                        0                       0                    0   \n",
       "1626                        0                       0                    0   \n",
       "1627                        0                       0                    0   \n",
       "1628                        0                       0                    0   \n",
       "\n",
       "      ngrams_call_text_message  ngrams_left_first_night  ngrams_old_not_well  \\\n",
       "0                            0                        0                    0   \n",
       "1                            0                        0                    0   \n",
       "2                            0                        0                    0   \n",
       "3                            0                        0                    0   \n",
       "4                            0                        0                    0   \n",
       "...                        ...                      ...                  ...   \n",
       "1624                         0                        0                    0   \n",
       "1625                         0                        0                    0   \n",
       "1626                         0                        0                    0   \n",
       "1627                         0                        0                    0   \n",
       "1628                         0                        0                    0   \n",
       "\n",
       "      ...  ngrams_living_room_couch  ngrams_sleep_bedroom_door  \\\n",
       "0     ...                         0                          0   \n",
       "1     ...                         0                          0   \n",
       "2     ...                         0                          0   \n",
       "3     ...                         0                          0   \n",
       "4     ...                         0                          0   \n",
       "...   ...                       ...                        ...   \n",
       "1624  ...                         0                          0   \n",
       "1625  ...                         0                          0   \n",
       "1626  ...                         0                          0   \n",
       "1627  ...                         0                          0   \n",
       "1628  ...                         0                          0   \n",
       "\n",
       "      ngrams_guest_not_able  ngrams_take_cold_shower  ngrams_place_sleep_10  \\\n",
       "0                         0                        0                      0   \n",
       "1                         0                        0                      0   \n",
       "2                         0                        0                      0   \n",
       "3                         0                        0                      0   \n",
       "4                         0                        0                      0   \n",
       "...                     ...                      ...                    ...   \n",
       "1624                      0                        0                      0   \n",
       "1625                      0                        0                      0   \n",
       "1626                      0                        0                      0   \n",
       "1627                      0                        0                      0   \n",
       "1628                      0                        0                      0   \n",
       "\n",
       "      ngrams_staying_another_unit  ngrams_told_cleaning_lady  \\\n",
       "0                               0                          0   \n",
       "1                               0                          0   \n",
       "2                               0                          0   \n",
       "3                               0                          0   \n",
       "4                               0                          0   \n",
       "...                           ...                        ...   \n",
       "1624                            0                          0   \n",
       "1625                            0                          0   \n",
       "1626                            0                          0   \n",
       "1627                            0                          0   \n",
       "1628                            0                          0   \n",
       "\n",
       "      ngrams_big_issue_u  ngrams_let_start_saying  ngrams_felt_compelled_write  \n",
       "0                      0                        0                            0  \n",
       "1                      0                        0                            0  \n",
       "2                      0                        0                            0  \n",
       "3                      0                        0                            0  \n",
       "4                      0                        0                            0  \n",
       "...                  ...                      ...                          ...  \n",
       "1624                   0                        0                            0  \n",
       "1625                   0                        0                            0  \n",
       "1626                   0                        0                            0  \n",
       "1627                   0                        0                            0  \n",
       "1628                   0                        0                            0  \n",
       "\n",
       "[1629 rows x 44 columns]"
      ]
     },
     "execution_count": 10,
     "metadata": {},
     "output_type": "execute_result"
    }
   ],
   "source": [
    "features = pd.DataFrame()\n",
    "ngrams_features(features, 3, prefix=\"ngrams_\", corr_thresh=0.09)"
   ]
  },
  {
   "attachments": {},
   "cell_type": "markdown",
   "metadata": {},
   "source": [
    "## \"Mentioned Amenities\" Features\n",
    "Was an amenity that was included in the listing mentioned in the review?"
   ]
  },
  {
   "attachments": {},
   "cell_type": "markdown",
   "metadata": {},
   "source": [
    "First, we need to do some cleaning amenities to make them easier to match."
   ]
  },
  {
   "cell_type": "code",
   "execution_count": 11,
   "metadata": {},
   "outputs": [],
   "source": [
    "import re\n",
    "\n",
    "def clean_amenities(amenities):\n",
    "    \"\"\"Clean the amenities column.\"\"\"\n",
    "\n",
    "    cleaned = []\n",
    "\n",
    "    # basic cleaning\n",
    "    for amenity in amenities:\n",
    "        # remove quotes\n",
    "        amenity = amenity.replace('\"', \"\")\n",
    "        # remove anything in parentheses or brackets\n",
    "        amenity = re.sub(r\"\\(.*\\)\", \"\", amenity)\n",
    "        amenity = re.sub(r\"\\[.*\\]\", \"\", amenity)\n",
    "        # strip whitespace\n",
    "        amenity = amenity.strip()\n",
    "        # lowercase\n",
    "        amenity = amenity.lower()\n",
    "\n",
    "        cleaned.append(amenity)\n",
    "\n",
    "    # split entries with a slash, \"and\", or \"or\"\n",
    "    for to_split_on in [\"/\", \" and \", \" or \"]:\n",
    "        cleaned = [amenity.split(to_split_on) for amenity in cleaned]\n",
    "        cleaned = [item.strip() for sublist in cleaned for item in sublist]\n",
    "\n",
    "    # remove empty strings\n",
    "    cleaned = [amenity for amenity in cleaned if amenity != \"\"]\n",
    "\n",
    "    return cleaned\n",
    "\n",
    "df.amenities = df.amenities.apply(clean_amenities)"
   ]
  },
  {
   "attachments": {},
   "cell_type": "markdown",
   "metadata": {},
   "source": [
    "Look at some examples of the cleaned amenities."
   ]
  },
  {
   "cell_type": "code",
   "execution_count": 12,
   "metadata": {},
   "outputs": [
    {
     "data": {
      "text/plain": [
       "['tv',\n",
       " 'internet',\n",
       " 'wifi',\n",
       " 'air conditioning',\n",
       " 'kitchen',\n",
       " 'free parking on premises',\n",
       " 'indoor fireplace',\n",
       " 'smoke detector',\n",
       " 'carbon monoxide detector',\n",
       " 'first aid kit',\n",
       " 'safety card',\n",
       " 'fire extinguisher',\n",
       " 'essentials',\n",
       " 'shampoo',\n",
       " 'lock on bedroom door',\n",
       " 'hangers',\n",
       " 'hair dryer',\n",
       " 'iron',\n",
       " 'laptop friendly workspace',\n",
       " 'microwave',\n",
       " 'coffee maker',\n",
       " 'refrigerator',\n",
       " 'other}']"
      ]
     },
     "execution_count": 12,
     "metadata": {},
     "output_type": "execute_result"
    }
   ],
   "source": [
    "df.amenities.sample(1).values[0]"
   ]
  },
  {
   "attachments": {},
   "cell_type": "markdown",
   "metadata": {},
   "source": [
    "Calculate our amenities features, and look at the correlation between them and the label."
   ]
  },
  {
   "cell_type": "code",
   "execution_count": 13,
   "metadata": {},
   "outputs": [
    {
     "name": "stdout",
     "output_type": "stream",
     "text": [
      "Adding amenities features...\n",
      "Features above correlation threshold (0.05):\n",
      "['lockbox', 'dishwasher', 'pool', 'stove', 'keypad', 'bathtub', 'kitchen', 'balcony', 'shampoo', 'garden', 'cat', 'family', 'breakfast']\n"
     ]
    },
    {
     "data": {
      "text/html": [
       "<div>\n",
       "<style scoped>\n",
       "    .dataframe tbody tr th:only-of-type {\n",
       "        vertical-align: middle;\n",
       "    }\n",
       "\n",
       "    .dataframe tbody tr th {\n",
       "        vertical-align: top;\n",
       "    }\n",
       "\n",
       "    .dataframe thead th {\n",
       "        text-align: right;\n",
       "    }\n",
       "</style>\n",
       "<table border=\"1\" class=\"dataframe\">\n",
       "  <thead>\n",
       "    <tr style=\"text-align: right;\">\n",
       "      <th></th>\n",
       "      <th>lockbox</th>\n",
       "      <th>dishwasher</th>\n",
       "      <th>pool</th>\n",
       "      <th>stove</th>\n",
       "      <th>keypad</th>\n",
       "      <th>bathtub</th>\n",
       "      <th>kitchen</th>\n",
       "      <th>balcony</th>\n",
       "      <th>shampoo</th>\n",
       "      <th>garden</th>\n",
       "      <th>cat</th>\n",
       "      <th>family</th>\n",
       "      <th>breakfast</th>\n",
       "      <th>review_id</th>\n",
       "      <th>label</th>\n",
       "    </tr>\n",
       "  </thead>\n",
       "  <tbody>\n",
       "    <tr>\n",
       "      <th>0</th>\n",
       "      <td>0.0</td>\n",
       "      <td>0.0</td>\n",
       "      <td>0.0</td>\n",
       "      <td>0.0</td>\n",
       "      <td>0.0</td>\n",
       "      <td>0.0</td>\n",
       "      <td>0.0</td>\n",
       "      <td>0.0</td>\n",
       "      <td>0.0</td>\n",
       "      <td>0.0</td>\n",
       "      <td>0.0</td>\n",
       "      <td>0.0</td>\n",
       "      <td>0.0</td>\n",
       "      <td>83097</td>\n",
       "      <td>good</td>\n",
       "    </tr>\n",
       "    <tr>\n",
       "      <th>2</th>\n",
       "      <td>0.0</td>\n",
       "      <td>0.0</td>\n",
       "      <td>0.0</td>\n",
       "      <td>0.0</td>\n",
       "      <td>0.0</td>\n",
       "      <td>0.0</td>\n",
       "      <td>1.0</td>\n",
       "      <td>0.0</td>\n",
       "      <td>0.0</td>\n",
       "      <td>0.0</td>\n",
       "      <td>0.0</td>\n",
       "      <td>0.0</td>\n",
       "      <td>0.0</td>\n",
       "      <td>150928</td>\n",
       "      <td>good</td>\n",
       "    </tr>\n",
       "    <tr>\n",
       "      <th>4</th>\n",
       "      <td>0.0</td>\n",
       "      <td>0.0</td>\n",
       "      <td>0.0</td>\n",
       "      <td>0.0</td>\n",
       "      <td>0.0</td>\n",
       "      <td>0.0</td>\n",
       "      <td>1.0</td>\n",
       "      <td>0.0</td>\n",
       "      <td>0.0</td>\n",
       "      <td>1.0</td>\n",
       "      <td>0.0</td>\n",
       "      <td>0.0</td>\n",
       "      <td>0.0</td>\n",
       "      <td>8602878</td>\n",
       "      <td>good</td>\n",
       "    </tr>\n",
       "    <tr>\n",
       "      <th>5</th>\n",
       "      <td>0.0</td>\n",
       "      <td>0.0</td>\n",
       "      <td>0.0</td>\n",
       "      <td>0.0</td>\n",
       "      <td>0.0</td>\n",
       "      <td>0.0</td>\n",
       "      <td>0.0</td>\n",
       "      <td>0.0</td>\n",
       "      <td>0.0</td>\n",
       "      <td>0.0</td>\n",
       "      <td>0.0</td>\n",
       "      <td>0.0</td>\n",
       "      <td>0.0</td>\n",
       "      <td>17827296</td>\n",
       "      <td>good</td>\n",
       "    </tr>\n",
       "    <tr>\n",
       "      <th>6</th>\n",
       "      <td>0.0</td>\n",
       "      <td>0.0</td>\n",
       "      <td>0.0</td>\n",
       "      <td>0.0</td>\n",
       "      <td>0.0</td>\n",
       "      <td>0.0</td>\n",
       "      <td>0.0</td>\n",
       "      <td>0.0</td>\n",
       "      <td>0.0</td>\n",
       "      <td>0.0</td>\n",
       "      <td>0.0</td>\n",
       "      <td>0.0</td>\n",
       "      <td>0.0</td>\n",
       "      <td>22768604</td>\n",
       "      <td>good</td>\n",
       "    </tr>\n",
       "  </tbody>\n",
       "</table>\n",
       "</div>"
      ],
      "text/plain": [
       "   lockbox  dishwasher  pool  stove  keypad  bathtub  kitchen  balcony  \\\n",
       "0      0.0         0.0   0.0    0.0     0.0      0.0      0.0      0.0   \n",
       "2      0.0         0.0   0.0    0.0     0.0      0.0      1.0      0.0   \n",
       "4      0.0         0.0   0.0    0.0     0.0      0.0      1.0      0.0   \n",
       "5      0.0         0.0   0.0    0.0     0.0      0.0      0.0      0.0   \n",
       "6      0.0         0.0   0.0    0.0     0.0      0.0      0.0      0.0   \n",
       "\n",
       "   shampoo  garden  cat  family  breakfast  review_id label  \n",
       "0      0.0     0.0  0.0     0.0        0.0      83097  good  \n",
       "2      0.0     0.0  0.0     0.0        0.0     150928  good  \n",
       "4      0.0     1.0  0.0     0.0        0.0    8602878  good  \n",
       "5      0.0     0.0  0.0     0.0        0.0   17827296  good  \n",
       "6      0.0     0.0  0.0     0.0        0.0   22768604  good  "
      ]
     },
     "execution_count": 13,
     "metadata": {},
     "output_type": "execute_result"
    }
   ],
   "source": [
    "def amenities_features(features: pd.DataFrame, corr_thresh=None, prefix=\"amenities_\") -> pd.DataFrame:\n",
    "    print(\"Adding amenities features...\")\n",
    "    amenities_features_df = pd.DataFrame()\n",
    "    # 1. Find the amenities in the listings\n",
    "    for index, row in df.iterrows():\n",
    "        # 1. Find the amenities in the listings\n",
    "        amenities = row.amenities\n",
    "\n",
    "        # Add one row to the features dataframe using pd.concat\n",
    "        amenities_features_df = pd.concat([amenities_features_df, pd.DataFrame(columns=amenities_features_df.columns)])\n",
    "\n",
    "        # 2. For each amenity, see if it is present in the review\n",
    "        for amenity in amenities:\n",
    "            if amenity in row.comments:\n",
    "                # 3. If it is present, add 1 for that feature\n",
    "                if amenity in amenities_features_df.columns:\n",
    "                    amenities_features_df.loc[index, amenity] = 1\n",
    "                #   If the amenity does not already exist from another review, add it to the features dataframe\n",
    "                else:\n",
    "                    amenities_features_df.loc[index, amenity] = 0\n",
    "    \n",
    "    # 4. fill missing values with 0\n",
    "    amenities_features_df = amenities_features_df.fillna(0)\n",
    "\n",
    "    # 6. Only keep amenities features that have a correlation with the label above a certain threshold\n",
    "    amenities_features_df = corr_filter(amenities_features_df, corr_thresh=corr_thresh)\n",
    "\n",
    "    # prefix features\n",
    "    amenities_features_df = amenities_features_df.add_prefix(prefix)\n",
    "\n",
    "    # 5. Add the features to the greater features dataframe\n",
    "    features = pd.concat([features, amenities_features_df], axis=1)\n",
    "\n",
    "    return features\n",
    "\n",
    "features = pd.DataFrame()\n",
    "features_with_amenities = amenities_features(features, corr_thresh=0.05, prefix=\"\")\n",
    "features_with_amenities[\"review_id\"] = df.review_id\n",
    "features_with_amenities[\"label\"] = df.label\n",
    "features_with_amenities.head()"
   ]
  },
  {
   "cell_type": "code",
   "execution_count": 14,
   "metadata": {},
   "outputs": [
    {
     "name": "stderr",
     "output_type": "stream",
     "text": [
      "C:\\Users\\grego\\AppData\\Local\\Temp\\ipykernel_26452\\2336534246.py:6: FutureWarning:\n",
      "\n",
      "The default value of numeric_only in DataFrame.corrwith is deprecated. In a future version, it will default to False. Select only valid columns or specify the value of numeric_only to silence this warning.\n",
      "\n"
     ]
    },
    {
     "data": {
      "text/plain": [
       "lockbox       0.119924\n",
       "dishwasher    0.091862\n",
       "pool          0.084724\n",
       "stove         0.075858\n",
       "keypad        0.071675\n",
       "bathtub       0.062482\n",
       "kitchen       0.054540\n",
       "balcony      -0.050448\n",
       "shampoo      -0.054802\n",
       "garden       -0.072476\n",
       "cat          -0.072627\n",
       "family       -0.078019\n",
       "breakfast    -0.081856\n",
       "dtype: float64"
      ]
     },
     "execution_count": 14,
     "metadata": {},
     "output_type": "execute_result"
    }
   ],
   "source": [
    "# OHE labels\n",
    "labels_list: list = features_with_amenities.label.unique().tolist()\n",
    "dummies = features_with_amenities.label.apply(lambda label: labels_list.index(label))\n",
    "\n",
    "# calculate correlations with the label\n",
    "corrs = features_with_amenities.drop(\"review_id\", axis=1).corrwith(dummies).sort_values(ascending=False)\n",
    "corrs"
   ]
  },
  {
   "attachments": {},
   "cell_type": "markdown",
   "metadata": {},
   "source": [
    "## Word Embeddings and T-SNE\n",
    "Another way to look at the data is to use word embeddings. We can use the word2vec model from gensim to create word embeddings for each word in the dataset. We can then take the average of all word vectors in a review to get a vector representation of the review. We can then use T-SNE to reduce the dimensionality of the word embeddings to 3 dimensions so we can plot them."
   ]
  },
  {
   "cell_type": "code",
   "execution_count": 18,
   "metadata": {},
   "outputs": [],
   "source": [
    "from gensim.models.word2vec import Word2Vec\n",
    "from typing import Tuple\n",
    "\n",
    "def embeddings_features(features, emb_vector_size=50, col=\"comments\") -> Tuple[pd.DataFrame, Word2Vec]:\n",
    "\n",
    "    print(\"Creating model...\")\n",
    "    model = Word2Vec(df[col].to_list(), \n",
    "            min_count=1,\n",
    "            vector_size=emb_vector_size,\n",
    "            workers=3, \n",
    "            window=3, \n",
    "            sg=1\n",
    "        )\n",
    "    \n",
    "    # generate embeddings\n",
    "    print(\"Generating embeddings...\")\n",
    "    get_review_embeddings = lambda review: np.mean([model.wv[word] for word in review if word in model.wv], axis=0)\n",
    "    embeddings = np.array([get_review_embeddings(review) for review in df[col].to_list()])\n",
    "    \n",
    "    for i in range(embeddings.shape[1]):\n",
    "        features[f\"embedding_{i}\"] = embeddings[:, i]\n",
    "    \n",
    "    return features, model\n",
    "\n",
    "\n",
    "def tsne_features(features, dims=3, prefix=\"tsne_\") -> pd.DataFrame:\n",
    "\n",
    "    from sklearn.manifold import TSNE\n",
    "    print(f\"Applying t-SNE... (dim={dims})\")\n",
    "    tsne = TSNE(n_components=dims, random_state=0)\n",
    "    embeddings_2d = tsne.fit_transform(features)\n",
    "    embd_df = pd.DataFrame(embeddings_2d, columns=[f\"{prefix}{dims}D_{i}\" for i in range(dims)])\n",
    "\n",
    "    return embd_df"
   ]
  },
  {
   "attachments": {},
   "cell_type": "markdown",
   "metadata": {},
   "source": [
    "Let's apply this to the misleading reviews, and then reduce down to 2 dimensions using T-SNE."
   ]
  },
  {
   "cell_type": "code",
   "execution_count": 19,
   "metadata": {},
   "outputs": [
    {
     "name": "stdout",
     "output_type": "stream",
     "text": [
      "Creating model...\n",
      "Generating embeddings...\n",
      "Applying t-SNE... (dim=3)\n"
     ]
    },
    {
     "data": {
      "application/vnd.plotly.v1+json": {
       "config": {
        "plotlyServerURL": "https://plot.ly"
       },
       "data": [
        {
         "hovertemplate": "label=good<br>tsne_3D_0=%{x}<br>tsne_3D_1=%{y}<br>tsne_3D_2=%{z}<extra></extra>",
         "legendgroup": "good",
         "marker": {
          "color": "#636efa",
          "opacity": 0.5,
          "size": 4,
          "symbol": "circle"
         },
         "mode": "markers",
         "name": "good",
         "scene": "scene",
         "showlegend": true,
         "type": "scatter3d",
         "x": [
          -5.66033935546875,
          -2.861509084701538,
          -7.631131172180176,
          -13.437780380249023,
          0.30259010195732117,
          9.80937671661377,
          -9.826836585998535,
          -3.3766915798187256,
          -7.686657428741455,
          -5.285927772521973,
          7.495182037353516,
          -1.1017755270004272,
          -9.513993263244629,
          9.693257331848145,
          -7.11510705947876,
          1.0257656574249268,
          -8.387259483337402,
          -0.4609837532043457,
          -11.505657196044922,
          0.7492871880531311,
          -0.7435182929039001,
          -3.1592090129852295,
          -5.309379577636719,
          -5.538214683532715,
          1.0048009157180786,
          -7.248581409454346,
          9.048175811767578,
          -9.952627182006836,
          -0.22554855048656464,
          -4.179373741149902,
          -11.675382614135742,
          -12.22192096710205,
          -7.711045265197754,
          -4.904066562652588,
          -5.474181175231934,
          -6.99828577041626,
          1.7501591444015503,
          -1.967476725578308,
          1.0565513372421265,
          -13.198752403259277,
          -11.603139877319336,
          -12.018715858459473,
          -7.402860641479492,
          -4.537221431732178,
          6.533385753631592,
          0.39324328303337097,
          -0.74311363697052,
          -6.3731369972229,
          6.219587802886963,
          5.530643939971924,
          -3.8354990482330322,
          -7.588338375091553,
          -0.4683040976524353,
          -0.9822917580604553,
          -4.084296703338623,
          2.4403936862945557,
          -4.976206302642822,
          -10.256998062133789,
          -1.4902814626693726,
          8.099430084228516,
          13.286859512329102,
          -3.19789457321167,
          9.946700096130371,
          -2.1583244800567627,
          -4.208369255065918,
          -2.5263054370880127,
          -6.551004886627197,
          -5.869241237640381,
          -13.636682510375977,
          -6.676538944244385,
          3.7636611461639404,
          -0.8421030044555664,
          -3.2964463233947754,
          3.676804780960083,
          1.0625019073486328,
          1.8831791877746582,
          5.664034843444824,
          -8.049239158630371,
          -6.782562732696533,
          0.2931426167488098,
          -10.37053108215332,
          -1.9748762845993042,
          -12.835086822509766,
          -4.283340930938721,
          -12.225504875183105,
          -4.752874374389648,
          -9.143481254577637,
          -9.75097942352295,
          -8.886612892150879,
          -7.288850784301758,
          2.167910575866699,
          4.789328575134277,
          -6.09382438659668,
          2.926624059677124,
          -3.069065809249878,
          7.413944721221924,
          0.0517934113740921,
          0.6697100400924683,
          3.5614497661590576,
          -3.9455044269561768,
          -3.2511250972747803,
          -5.422449588775635,
          1.7451750040054321,
          7.037459850311279,
          -0.7961282730102539,
          -0.8991196751594543,
          -5.361590385437012,
          5.63663911819458,
          -3.9813754558563232,
          -11.307536125183105,
          -1.931288242340088,
          -10.820066452026367,
          3.3568291664123535,
          7.9467692375183105,
          8.329565048217773,
          -4.348409652709961,
          -9.575292587280273,
          4.717275619506836,
          13.101271629333496,
          12.579927444458008,
          9.410199165344238,
          11.351798057556152,
          11.041746139526367,
          -5.601191520690918,
          -8.94641399383545,
          -12.705679893493652,
          4.841182231903076,
          -2.7581470012664795,
          -3.5140388011932373,
          -8.42768669128418,
          2.0183334350585938,
          -6.98930549621582,
          5.056273460388184,
          -11.184111595153809,
          -1.3871701955795288,
          -11.919346809387207,
          -10.492663383483887,
          -4.944132328033447,
          -4.463287830352783,
          7.923208236694336,
          5.594701290130615,
          18.686054229736328,
          -8.922188758850098,
          2.718989372253418,
          -4.140043258666992,
          7.78933048248291,
          -7.597591400146484,
          21.94411849975586,
          -13.604148864746094,
          0.8847724795341492,
          -10.186797142028809,
          -1.0903931856155396,
          -10.132319450378418,
          -8.193824768066406,
          -3.946690797805786,
          -1.132773518562317,
          -1.2812820672988892,
          6.0692667961120605,
          9.379281997680664,
          -1.749625325202942,
          8.556480407714844,
          11.637402534484863,
          18.063142776489258,
          -3.770709991455078,
          -7.6341071128845215,
          6.262655258178711,
          -2.305957078933716,
          -11.540775299072266,
          -10.366744995117188,
          -6.2243781089782715,
          -2.429117202758789,
          7.2833428382873535,
          -0.4806044101715088,
          -4.827212333679199,
          -1.9915962219238281,
          -7.954753398895264,
          -1.7731261253356934,
          0.7912532687187195,
          -4.493073463439941,
          5.948309898376465,
          -3.476762294769287,
          3.0251917839050293,
          0.5115152597427368,
          5.480062484741211,
          9.350090980529785,
          7.109709739685059,
          -8.184358596801758,
          -9.130337715148926,
          21.474380493164062,
          19.092477798461914,
          2.865302085876465,
          13.338379859924316,
          -9.213445663452148,
          -7.556077003479004,
          4.318406581878662,
          -8.492756843566895,
          -5.25988245010376,
          3.9300177097320557,
          -0.5782681703567505,
          -5.6876702308654785,
          -2.9954891204833984,
          -10.258417129516602,
          -10.33532428741455,
          -3.058515787124634,
          -3.788463592529297,
          -5.606549263000488,
          -2.218867301940918,
          -6.780943393707275,
          5.345040798187256,
          -7.941141128540039,
          -1.4689838886260986,
          -2.1888813972473145,
          -7.5883331298828125,
          1.1798021793365479,
          7.319203853607178,
          13.0492525100708,
          -11.185066223144531,
          -0.09643681347370148,
          -7.261973857879639,
          3.8140673637390137,
          -6.927536964416504,
          11.724982261657715,
          -4.037961006164551,
          2.6014301776885986,
          2.3814289569854736,
          -9.057073593139648,
          -7.310634136199951,
          5.527817726135254,
          0.1940765231847763,
          3.324537992477417,
          -3.511375665664673,
          -4.143454551696777,
          -0.35525813698768616,
          -9.637100219726562,
          -7.751902103424072,
          12.777867317199707,
          13.812381744384766,
          -0.3740571141242981,
          0.399343878030777,
          5.87904691696167,
          -9.189590454101562,
          5.732592582702637,
          -7.244828224182129,
          8.103318214416504,
          -4.513611316680908,
          -12.860352516174316,
          -7.632918834686279,
          1.0509904623031616,
          -5.827309608459473,
          0.1376633644104004,
          -2.978607654571533,
          2.4611802101135254,
          -5.864443302154541,
          -10.085474967956543,
          0.5614528059959412,
          -10.55339241027832,
          2.483037233352661,
          8.243890762329102,
          -7.073205947875977,
          -12.566229820251465,
          -11.070927619934082,
          -6.819962024688721,
          -8.398154258728027,
          0.2707090377807617,
          3.849998950958252,
          9.7843017578125,
          -10.267840385437012,
          -11.230956077575684,
          12.50181770324707,
          1.5704065561294556,
          -7.459713935852051,
          8.600298881530762,
          -2.0789382457733154,
          -11.528103828430176,
          -7.396658420562744,
          0.7059887051582336,
          1.0033210515975952,
          1.616947054862976,
          -5.673635482788086,
          10.56702995300293,
          -4.470620632171631,
          -11.628156661987305,
          -10.588980674743652,
          -12.344764709472656,
          2.151310443878174,
          -5.663759708404541,
          -3.0209991931915283,
          -0.23412327468395233,
          -12.152334213256836,
          2.199651002883911,
          -0.8211064338684082,
          -2.1488466262817383,
          2.5429654121398926,
          4.72942590713501,
          -0.3449663519859314,
          0.39915794134140015,
          1.1097952127456665,
          5.015035629272461,
          -0.18953552842140198,
          2.686134099960327,
          -2.390990972518921,
          -0.7091901302337646,
          -11.355880737304688,
          -2.8898539543151855,
          -7.9108734130859375,
          1.7128278017044067,
          -4.5281758308410645,
          -11.522845268249512,
          -6.602179050445557,
          10.432719230651855,
          12.350507736206055,
          2.031827449798584,
          -2.14945912361145,
          0.3165181875228882,
          -6.59636926651001,
          -8.131817817687988,
          14.369351387023926,
          -5.699339866638184,
          -6.850853443145752,
          -3.916037082672119,
          -4.571454048156738,
          8.517749786376953,
          -1.592910647392273,
          11.706466674804688,
          -4.713088512420654,
          9.40615177154541,
          0.26707178354263306,
          4.130281448364258,
          -5.03001594543457,
          -5.742368698120117,
          5.540960788726807,
          -8.337462425231934,
          -5.241533279418945,
          7.4081807136535645,
          1.7560614347457886,
          -5.452299118041992,
          1.7867047786712646,
          0.8246007561683655,
          0.11948548257350922,
          4.098080158233643,
          -7.498053550720215,
          -10.493027687072754,
          -9.119902610778809,
          -9.664133071899414,
          -8.608619689941406,
          1.2005740404129028,
          -9.297832489013672,
          5.91912841796875,
          -2.6933228969573975,
          -8.874547958374023,
          0.3031669557094574,
          -8.726298332214355,
          -1.7268469333648682,
          -9.712668418884277,
          6.6684956550598145,
          1.3067182302474976,
          -4.566312313079834,
          -10.603562355041504,
          -3.2510578632354736,
          2.6632778644561768,
          -8.23659610748291,
          2.530728816986084,
          -9.762937545776367,
          -7.789855480194092,
          -9.58000373840332,
          9.877849578857422,
          -3.6411631107330322,
          -5.755683422088623,
          -11.508829116821289,
          4.99920129776001,
          4.503241062164307,
          -1.3349347114562988,
          -1.1603379249572754,
          6.678674697875977,
          -5.595080375671387,
          -1.4769375324249268,
          -6.7256178855896,
          7.94935417175293,
          1.428397536277771,
          -9.04251766204834,
          -7.587299346923828,
          -3.6646478176116943,
          2.3271238803863525,
          -7.381326198577881,
          0.049465078860521317,
          0.0069670295342803,
          -3.981168031692505,
          -4.499261856079102,
          -0.47658678889274597,
          -6.6449737548828125,
          -10.453012466430664,
          -7.126765251159668,
          4.0369486808776855,
          -5.17453670501709,
          -7.40548849105835,
          -1.8930968046188354,
          -2.4220197200775146,
          -7.415195941925049,
          -0.303908109664917,
          -2.4777863025665283,
          1.3384605646133423,
          4.917559623718262,
          9.7656888961792,
          4.886637210845947,
          0.6189124584197998,
          -11.94639778137207,
          -5.444583415985107,
          3.682731866836548,
          -10.031662940979004,
          -3.3535614013671875,
          2.7386980056762695,
          -0.2645433247089386,
          -1.6026374101638794,
          -7.713421821594238,
          9.649869918823242,
          -5.216611385345459,
          4.882868766784668,
          -3.5352985858917236,
          1.7470167875289917,
          -9.73702335357666,
          -4.338778018951416,
          11.583292961120605,
          -2.28043532371521,
          7.501114368438721,
          14.522417068481445,
          -9.583817481994629,
          6.804749488830566,
          -13.537632942199707,
          10.29422664642334,
          -2.1945974826812744,
          -4.596090316772461,
          -2.6204068660736084,
          1.4100780487060547,
          -13.610488891601562,
          -1.5842431783676147,
          -6.4982218742370605,
          -1.8055331707000732,
          -1.8344829082489014,
          -11.131624221801758,
          -1.6683316230773926,
          -9.93228816986084,
          -7.44711971282959,
          -10.265742301940918,
          -8.907978057861328,
          -5.8823723793029785,
          4.394518852233887,
          3.5285894870758057,
          -1.1703146696090698,
          -5.614222049713135,
          1.19086492061615,
          2.296027898788452,
          3.134355306625366,
          6.327821731567383,
          -5.985482692718506,
          -12.92184066772461,
          -4.257391929626465,
          -5.574260711669922,
          -11.23194694519043,
          -5.383167743682861,
          -12.284372329711914,
          -10.740614891052246,
          -11.747953414916992,
          12.408089637756348,
          -11.03914737701416,
          -11.226771354675293,
          10.25501823425293,
          -13.397394180297852,
          -0.6821237206459045,
          2.0356881618499756,
          -6.997640132904053,
          4.748702526092529,
          -4.7865166664123535,
          2.6609089374542236,
          9.801139831542969,
          -6.915348052978516,
          -1.5481406450271606,
          -2.1636481285095215,
          -8.743059158325195,
          -9.98766803741455,
          0.045861270278692245,
          -9.753554344177246,
          -5.501574993133545,
          -5.501574993133545,
          -5.501612663269043,
          5.139861583709717,
          -3.1433122158050537,
          1.7870330810546875,
          -3.3161230087280273,
          4.034216403961182,
          4.300095081329346,
          5.69295597076416,
          -4.944964408874512,
          0.525050938129425,
          1.2856816053390503,
          -9.781167984008789,
          7.94448709487915,
          -6.575881481170654,
          -6.223488807678223,
          -11.530184745788574,
          -3.810598850250244,
          8.199200630187988,
          -10.578503608703613,
          1.7230437994003296,
          -10.301861763000488,
          -3.387505292892456,
          -3.476938009262085,
          -2.2112057209014893,
          -3.4480018615722656,
          7.410071849822998,
          -9.565813064575195,
          -7.251564979553223,
          10.529970169067383,
          10.889322280883789,
          -6.49074649810791,
          -11.599739074707031,
          -10.912373542785645,
          -10.154850959777832,
          6.220278739929199,
          -2.094719171524048,
          -7.80207633972168,
          3.8307979106903076,
          -2.7875800132751465,
          -13.282743453979492,
          -10.939471244812012,
          -11.349798202514648,
          -12.127507209777832,
          -13.89270305633545,
          -13.285043716430664,
          -10.259186744689941,
          -8.061594009399414,
          -1.9481759071350098,
          -2.409567356109619,
          5.818927764892578,
          0.9422624707221985,
          -4.940268516540527,
          -14.731566429138184,
          4.506513595581055,
          -11.023749351501465,
          -1.3929204940795898,
          -9.703317642211914,
          1.867982268333435,
          -11.111199378967285,
          -1.5388697385787964,
          3.239529609680176,
          -9.192208290100098,
          -5.911425590515137,
          -0.43056392669677734,
          -8.238591194152832,
          -11.423698425292969,
          2.6646220684051514,
          7.277178764343262,
          3.314743757247925,
          -8.773519515991211,
          -2.394869089126587,
          -11.040779113769531,
          -11.544142723083496,
          -3.184842586517334,
          -3.489445447921753,
          -11.30307388305664,
          -4.522213459014893,
          -10.159683227539062,
          -7.544651985168457,
          -1.5330848693847656,
          -4.201310634613037,
          -4.2840576171875,
          6.583000183105469,
          -6.23837423324585,
          0.610008180141449,
          -4.398027420043945,
          2.37277889251709,
          1.1605571508407593,
          -4.702730655670166,
          -2.177217960357666,
          -4.328138828277588,
          7.663236618041992,
          -0.03530557453632355,
          3.446073293685913,
          -9.677621841430664,
          -2.6859779357910156,
          -11.869210243225098,
          4.090607643127441,
          -7.087284088134766,
          5.90972900390625,
          -2.2090718746185303,
          -3.2635576725006104,
          -13.307315826416016,
          -14.354707717895508,
          -7.868794918060303,
          -6.426389217376709,
          -10.16180419921875,
          1.721248984336853,
          6.312300682067871,
          1.3234740495681763,
          3.9145987033843994,
          2.734027862548828,
          -11.544342994689941,
          -10.61548137664795,
          -2.149667739868164,
          -8.944138526916504,
          -1.4760990142822266,
          5.921628952026367,
          -7.920372009277344,
          -1.1587260961532593,
          -3.4896914958953857,
          3.4300613403320312,
          -5.918168544769287,
          -7.106488227844238,
          -0.047069475054740906,
          -9.089637756347656,
          -7.162237644195557,
          2.919480800628662,
          8.342155456542969,
          11.13876724243164,
          4.959059238433838,
          3.4405972957611084,
          -2.4705071449279785,
          8.876301765441895,
          10.322111129760742,
          -1.156409502029419,
          -3.078670024871826,
          -5.093337059020996,
          -7.847265243530273,
          4.964251518249512,
          -3.8171818256378174,
          -9.551950454711914,
          -7.389500617980957,
          -10.670674324035645,
          -7.5413689613342285,
          -9.565340042114258,
          2.208735227584839,
          3.750365972518921,
          10.497262001037598,
          -9.965384483337402,
          8.385200500488281,
          -10.955828666687012,
          -10.719579696655273,
          -3.149881362915039,
          -7.006694316864014,
          -8.522120475769043,
          -2.706874132156372,
          -6.080927848815918,
          6.325402736663818,
          11.63534164428711,
          0.21990422904491425,
          10.934526443481445,
          -3.600358247756958,
          -8.191301345825195,
          -8.80264663696289,
          -0.634401798248291,
          -1.9802709817886353,
          -3.2089056968688965,
          -9.483587265014648,
          3.711913585662842,
          -7.879154205322266,
          -1.1470184326171875,
          4.881173133850098,
          -4.261237621307373,
          0.506513774394989,
          4.303715705871582,
          -2.9601242542266846,
          -7.813327789306641,
          -9.083819389343262,
          -8.972258567810059,
          -9.939210891723633,
          0.7984679937362671,
          -3.712989330291748,
          1.0271724462509155,
          9.24935531616211,
          1.894374966621399,
          -6.653036117553711,
          1.5862607955932617,
          4.904674053192139,
          2.953425884246826,
          -10.928936958312988,
          -10.875104904174805,
          -10.481711387634277,
          -4.917291164398193,
          -1.3804032802581787,
          -4.005845546722412,
          -7.925722122192383,
          3.3692355155944824,
          2.289381980895996,
          9.156071662902832,
          -12.18631362915039,
          -8.541182518005371,
          5.13781213760376,
          8.207313537597656,
          12.37560749053955,
          -2.5980865955352783,
          3.894331455230713,
          1.5812125205993652,
          -8.542888641357422,
          -3.33404541015625,
          -5.774489402770996,
          -1.497300148010254,
          -8.19664478302002,
          -1.254260778427124,
          -2.811976432800293,
          -2.44051194190979,
          3.3434815406799316,
          0.13490881025791168,
          2.094095468521118,
          -12.951298713684082,
          -6.281398773193359,
          -0.45953845977783203,
          -7.548016548156738,
          0.9091612696647644,
          -11.731782913208008,
          -8.231339454650879,
          -5.181939125061035,
          -0.45088812708854675,
          4.274639129638672,
          -2.713557481765747,
          5.305370330810547,
          1.56828773021698,
          -1.1301826238632202,
          -5.425285816192627,
          -1.1704541444778442,
          -0.24273443222045898,
          -11.190726280212402,
          -10.22624683380127,
          2.214780807495117,
          -2.6724765300750732,
          -7.891189098358154,
          -14.425919532775879,
          -1.9716248512268066,
          0.2626674473285675,
          -2.9106531143188477,
          1.1706058979034424,
          -8.016472816467285,
          -0.5671593546867371,
          -2.18019962310791,
          -10.627717971801758,
          0.6199676394462585,
          -4.611076831817627,
          -1.3702040910720825,
          -1.953707218170166,
          -7.0749993324279785,
          6.390299320220947,
          -5.996910095214844,
          -5.848878860473633,
          -2.368354082107544,
          6.605926513671875,
          -6.136674404144287,
          0.1441470980644226,
          -2.9625284671783447,
          -4.226842403411865,
          -12.392154693603516,
          -0.5671609044075012,
          -1.9511947631835938,
          -4.472667694091797,
          -0.11641480028629303,
          1.9644712209701538,
          4.247555255889893,
          2.542273759841919,
          2.562093496322632,
          -3.9119598865509033,
          1.4192578792572021,
          -2.15525221824646,
          -4.708930492401123,
          -7.081870079040527,
          3.4872496128082275,
          -7.120675086975098,
          1.8612533807754517,
          0.7890738844871521,
          -6.595160484313965,
          -4.547986030578613,
          -8.088927268981934,
          -7.020823001861572,
          -10.527342796325684,
          -0.10098884999752045,
          1.0579921007156372,
          -12.587950706481934,
          -3.5650572776794434,
          -7.198723316192627,
          -1.2612390518188477,
          -2.638143539428711,
          -6.659948348999023,
          -0.4400642216205597,
          -12.573838233947754,
          -14.32365894317627,
          3.619384765625,
          -6.470588684082031,
          -2.185455799102783,
          -11.039788246154785,
          -8.438064575195312,
          -0.5425578355789185,
          -6.346453666687012,
          -4.239156723022461,
          -12.050657272338867,
          -2.6642885208129883,
          -5.568085670471191,
          -14.515674591064453,
          -3.5290894508361816,
          -2.426727771759033,
          -3.2169156074523926,
          -2.635056734085083,
          -7.599628925323486,
          -6.420411109924316,
          -5.939364433288574,
          -7.576485633850098,
          -2.025869846343994,
          -2.0788474082946777,
          -4.692882061004639,
          2.8442471027374268,
          -9.460895538330078,
          -10.34622573852539,
          -2.7719497680664062,
          -10.939501762390137,
          -2.548764944076538,
          5.797377109527588,
          -0.27043968439102173,
          -8.30487060546875,
          3.7636120319366455,
          7.104247093200684,
          10.844948768615723,
          -2.844043016433716,
          19.086362838745117,
          -0.4060213565826416,
          8.633480072021484,
          0.08964656293392181,
          -1.1822890043258667,
          4.739822864532471,
          3.8549935817718506,
          7.8050384521484375,
          0.8984568119049072,
          -3.0994255542755127,
          10.092894554138184,
          -10.574045181274414,
          -7.7091498374938965,
          19.718969345092773,
          -7.732834815979004,
          6.24889612197876,
          12.121408462524414,
          -11.095462799072266,
          -9.837507247924805,
          -4.571526050567627,
          -4.253235340118408,
          8.816935539245605,
          -0.3539113998413086,
          19.024307250976562,
          -3.9882254600524902,
          -2.3158020973205566,
          -3.13334584236145,
          -0.2938487231731415,
          7.509701728820801,
          20.363813400268555,
          2.2955715656280518,
          -11.059358596801758,
          -8.61489200592041,
          21.038808822631836,
          19.432340621948242,
          23.27808952331543,
          20.361906051635742,
          22.680522918701172,
          20.114360809326172,
          20.241147994995117,
          1.9795562028884888,
          -11.094745635986328,
          18.82430648803711,
          23.120363235473633,
          -1.1522716283798218,
          18.409509658813477,
          -11.335524559020996,
          -2.4466567039489746,
          8.119487762451172,
          -3.529940605163574,
          -0.7456234097480774,
          -8.791220664978027,
          18.771949768066406,
          0.7650273442268372,
          -3.6891205310821533,
          3.4576683044433594,
          -3.9121530055999756,
          -2.83945631980896,
          18.26347541809082,
          -0.10138588398694992,
          -1.6694796085357666,
          5.110716342926025,
          19.294878005981445,
          -3.8751087188720703,
          -2.3348803520202637,
          -3.8252151012420654,
          -2.4727771282196045,
          18.75505828857422,
          -9.040170669555664,
          -3.1024553775787354,
          -3.4168899059295654,
          -4.120151519775391,
          20.876956939697266,
          -1.0000684261322021,
          5.5311408042907715,
          2.4937353134155273,
          -10.176130294799805,
          -10.176118850708008,
          -3.3209002017974854,
          -3.3209104537963867,
          1.4849092960357666,
          1.4849092960357666,
          0.6341496109962463,
          0.6341803669929504,
          -10.500657081604004,
          -10.500657081604004,
          -6.4767608642578125,
          -6.476791858673096,
          1.384192705154419,
          1.384192705154419,
          -13.489130020141602,
          -13.489130020141602,
          19.250951766967773,
          19.250951766967773,
          23.492544174194336,
          23.492544174194336,
          -9.577824592590332,
          -9.577824592590332,
          -6.858362674713135,
          -9.925482749938965,
          -1.0314990282058716,
          -1.0314990282058716,
          -2.9275741577148438,
          -2.9275741577148438,
          -3.443453311920166,
          -3.443453311920166,
          7.251845836639404,
          7.251856803894043,
          -16.080440521240234,
          -16.080440521240234,
          -6.428371429443359,
          -9.88083267211914,
          0.2331850230693817,
          10.339712142944336,
          2.2843406200408936,
          4.178180694580078,
          19.02252197265625,
          6.785750865936279,
          -1.3817895650863647,
          3.446214199066162,
          21.980445861816406,
          -13.547356605529785,
          18.576698303222656,
          23.350740432739258,
          21.14261817932129,
          -4.710981369018555,
          23.124094009399414,
          5.105876445770264,
          -14.908843994140625,
          -4.758998394012451,
          20.654014587402344,
          18.629871368408203,
          -8.824613571166992,
          -8.162015914916992,
          -9.549287796020508,
          21.40801239013672,
          19.94556427001953,
          22.249656677246094,
          -3.437861442565918,
          -1.167603850364685,
          -7.742547512054443,
          -8.236895561218262,
          -6.837799549102783,
          -4.142124652862549,
          2.0064916610717773,
          9.454473495483398,
          1.567790150642395,
          0.20165421068668365,
          -0.8041080236434937,
          -4.712372303009033,
          2.2926383018493652,
          1.2654834985733032,
          -1.749477744102478,
          10.413225173950195,
          -7.129817962646484,
          18.63469696044922,
          18.547515869140625,
          -13.521657943725586,
          18.95417594909668,
          20.545730590820312,
          -8.112460136413574,
          -1.4860913753509521,
          -10.329010009765625,
          4.29719352722168,
          22.30641746520996,
          -4.492073059082031,
          -9.622467041015625,
          19.71868896484375,
          6.254237174987793,
          20.89759063720703,
          0.4451056718826294,
          -2.163653612136841,
          -3.2405831813812256,
          -9.520668029785156,
          20.119800567626953,
          -0.16811665892601013,
          -0.5987129211425781,
          5.576345443725586,
          1.4942740201950073,
          -3.0443127155303955,
          -10.5257568359375,
          -7.96457576751709,
          -7.233466625213623,
          19.013795852661133,
          -0.6852177381515503,
          21.799257278442383,
          -2.474752902984619,
          -4.823095321655273,
          -7.849726676940918,
          1.771173357963562,
          22.941160202026367,
          20.445430755615234,
          20.37464714050293,
          -5.393975734710693,
          20.523290634155273,
          19.296466827392578,
          -7.250155925750732,
          19.633094787597656,
          -8.10132122039795,
          7.201703071594238,
          -13.76036548614502,
          -5.0553998947143555,
          23.508350372314453,
          3.931401491165161,
          -7.435038089752197,
          -10.443997383117676,
          6.168832302093506,
          -9.544930458068848,
          8.743728637695312,
          -2.8081371784210205,
          1.3322196006774902,
          -7.793369293212891,
          -10.315692901611328,
          -5.770565032958984,
          18.90108871459961,
          -8.047006607055664,
          -9.813606262207031,
          -13.739921569824219,
          -14.599397659301758,
          3.615633964538574,
          4.601144313812256,
          20.871747970581055,
          0.5388802289962769,
          -1.343894600868225,
          5.52617073059082,
          1.1416475772857666,
          -4.0753092765808105,
          -8.57194995880127,
          -9.547693252563477,
          2.4647998809814453,
          -3.277498483657837,
          4.7927985191345215,
          21.54317283630371,
          0.7831937670707703,
          -8.905155181884766,
          1.695993185043335,
          1.3945503234863281,
          -13.052179336547852,
          -0.43587741255760193,
          7.776280879974365,
          -3.448382616043091,
          -11.140406608581543,
          6.663478851318359,
          5.598284721374512,
          -7.886430740356445,
          1.9373599290847778,
          19.624332427978516,
          3.603583574295044,
          3.991800308227539,
          3.6412737369537354,
          4.319059371948242,
          -10.332428932189941,
          -5.159088134765625,
          23.125883102416992,
          0.30567097663879395,
          -9.686357498168945,
          -6.285274028778076,
          -9.173295021057129,
          -11.414551734924316,
          22.003217697143555,
          9.781877517700195,
          8.848198890686035,
          -4.4375457763671875,
          21.651042938232422,
          10.192996978759766,
          21.58742904663086,
          7.739490985870361,
          -0.8470754623413086,
          -6.747812747955322,
          -6.197788715362549,
          1.158801794052124,
          1.8855907917022705,
          2.7024855613708496,
          23.211933135986328,
          -2.3843281269073486,
          -2.489417314529419,
          -9.994978904724121,
          -3.337132692337036,
          0.11585845798254013,
          7.188222885131836,
          -5.086037635803223,
          5.717810153961182,
          0.0687972903251648,
          4.065793037414551,
          6.366715431213379,
          -0.5832175016403198,
          -2.7506160736083984,
          -8.252793312072754,
          2.6876301765441895,
          18.964868545532227,
          -4.616951942443848,
          -0.36874058842658997,
          23.222043991088867,
          8.125984191894531,
          0.001248861663043499,
          2.115485429763794,
          20.365947723388672,
          20.762487411499023,
          -4.183650493621826,
          -6.743516445159912,
          -5.23989200592041,
          17.994447708129883,
          -1.4137170314788818,
          3.869636058807373,
          -10.635162353515625,
          6.03814172744751,
          -3.6009082794189453,
          -8.092728614807129,
          -11.110601425170898,
          10.75003433227539,
          18.609346389770508,
          19.302305221557617,
          3.0175418853759766,
          3.415081024169922,
          -4.818411350250244,
          19.202756881713867,
          21.332218170166016,
          -10.897153854370117,
          -14.54008960723877,
          -0.7604345679283142,
          7.2809224128723145,
          -5.8573994636535645,
          -5.3387980461120605,
          21.42702865600586,
          -9.835533142089844,
          5.376397132873535,
          18.808006286621094,
          18.841812133789062,
          9.41425895690918,
          -4.422597885131836,
          22.293399810791016,
          1.2723230123519897,
          -11.392961502075195,
          22.041166305541992,
          2.1507084369659424,
          -2.1162312030792236,
          -11.359720230102539,
          1.8580894470214844,
          23.319252014160156,
          -9.493471145629883,
          1.7220593690872192,
          -6.301745414733887,
          -3.3275656700134277,
          2.2771644592285156,
          17.8968563079834,
          -11.191545486450195,
          10.356011390686035,
          21.296693801879883,
          0.3427409529685974,
          -5.514978408813477,
          20.946266174316406,
          19.356502532958984,
          -1.414229154586792,
          22.483932495117188,
          -10.849867820739746,
          19.17263412475586,
          8.539717674255371,
          -0.3651094436645508,
          -3.537332057952881,
          -3.6856682300567627,
          17.783462524414062,
          19.466684341430664,
          -0.5882468223571777,
          20.378143310546875,
          -2.4996559619903564,
          -2.4969654083251953,
          12.47701358795166,
          6.334004878997803,
          -2.41784405708313,
          -3.208549976348877,
          0.4243740439414978,
          -16.082414627075195,
          -6.668579578399658,
          -10.772001266479492,
          -2.4514691829681396,
          -1.3206679821014404,
          -0.549159049987793,
          -6.461548328399658,
          -4.679690837860107,
          2.749784231185913,
          4.011549472808838,
          -11.87159538269043,
          -6.225952625274658,
          5.686709403991699,
          -3.1146411895751953,
          0.20694559812545776,
          -4.375302791595459,
          7.475926876068115,
          -8.63100814819336,
          -6.332942008972168,
          -11.650568008422852,
          0.06015074998140335,
          -4.419164657592773,
          -3.16332745552063,
          -6.938204288482666,
          3.629793882369995,
          12.78196907043457,
          3.1331424713134766,
          7.023271083831787,
          -2.8013088703155518,
          -0.9999445676803589,
          -3.0025882720947266,
          5.951341152191162,
          -3.2585911750793457,
          -5.088058948516846,
          0.83598792552948,
          -0.044870711863040924,
          3.4679312705993652,
          -6.836931228637695,
          -4.593676567077637,
          -0.5057098865509033,
          10.3829927444458,
          2.241023302078247,
          3.1105453968048096,
          -0.46082374453544617,
          -5.344332695007324,
          -10.598991394042969,
          7.476183891296387,
          -5.699366569519043,
          2.1070923805236816,
          -13.608954429626465,
          -9.240224838256836,
          5.55485200881958,
          -4.911423206329346,
          -1.2642569541931152,
          -4.411866188049316,
          -0.9598404169082642,
          0.22463823854923248,
          -6.126964092254639,
          3.112534761428833,
          -9.77804183959961,
          -12.569352149963379,
          2.071645736694336,
          3.905979871749878,
          -12.255075454711914,
          -7.79019832611084,
          -4.154844760894775,
          -0.1006278395652771,
          -1.9082921743392944,
          -8.497514724731445,
          -8.416756629943848,
          7.015530109405518,
          7.641491413116455,
          -5.384922027587891,
          -1.9016485214233398,
          2.014796018600464,
          5.038753986358643,
          -4.273009300231934,
          1.855782151222229,
          -12.550207138061523,
          -11.958871841430664,
          -9.848817825317383,
          6.373117923736572,
          -0.10004164278507233,
          1.4636597633361816,
          6.125563144683838,
          -3.193512439727783,
          3.523780107498169,
          -8.449597358703613,
          9.419133186340332,
          -3.368480682373047,
          -7.969272136688232,
          -8.114723205566406,
          -6.868557453155518,
          8.210126876831055,
          -7.73786735534668,
          7.192006587982178,
          -3.2585692405700684,
          -2.444361448287964,
          8.136786460876465,
          4.6731390953063965,
          0.2954363226890564,
          2.266510486602783,
          -8.167755126953125,
          4.527698993682861,
          -3.9794931411743164,
          -7.411635398864746,
          -4.6516432762146,
          2.9600770473480225,
          -5.036771297454834,
          -1.951282262802124,
          0.9498133063316345,
          -12.483576774597168,
          -12.040302276611328,
          -5.9317545890808105,
          -0.6531338691711426,
          2.191392183303833,
          -6.2012248039245605,
          -12.881577491760254,
          -10.858465194702148,
          5.767696857452393,
          -4.0825300216674805,
          -2.2876386642456055,
          -1.8421233892440796,
          -2.863952159881592,
          -1.1885782480239868,
          -10.872745513916016,
          -6.005794525146484,
          -3.5323944091796875,
          -0.4231862425804138,
          -6.581686019897461,
          -10.00568675994873,
          -3.360063314437866
         ],
         "y": [
          -6.417665958404541,
          10.873575210571289,
          -2.1937360763549805,
          -3.11820912361145,
          -5.075839042663574,
          -0.39671793580055237,
          7.5924763679504395,
          2.714337110519409,
          0.3182484209537506,
          12.479127883911133,
          0.08822391927242279,
          -15.16501522064209,
          8.052190780639648,
          -1.8960548639297485,
          2.5968024730682373,
          8.94222640991211,
          8.545613288879395,
          -13.876090049743652,
          11.998467445373535,
          6.104671478271484,
          12.06265640258789,
          10.268609046936035,
          -8.444354057312012,
          -8.783326148986816,
          8.843342781066895,
          -6.404860973358154,
          -7.734117031097412,
          12.46815013885498,
          11.541143417358398,
          -2.2991771697998047,
          -6.309776306152344,
          4.596014022827148,
          -2.61570143699646,
          4.614433288574219,
          -7.071762561798096,
          12.056150436401367,
          0.8537467122077942,
          0.7793478965759277,
          7.0170464515686035,
          -6.121634006500244,
          4.335896015167236,
          9.280025482177734,
          5.918003082275391,
          -10.324610710144043,
          -8.184530258178711,
          7.320764064788818,
          -0.25461357831954956,
          4.912021160125732,
          7.371179103851318,
          7.753604888916016,
          7.174587726593018,
          13.637755393981934,
          -5.939158916473389,
          3.3520593643188477,
          11.730422973632812,
          10.032055854797363,
          -6.8830437660217285,
          -6.8261823654174805,
          -7.155290126800537,
          2.01108717918396,
          -4.736512184143066,
          -6.638495445251465,
          -2.8943145275115967,
          -4.80440616607666,
          -5.020876407623291,
          3.097790241241455,
          -6.049526214599609,
          -9.209856033325195,
          3.847780704498291,
          7.667208194732666,
          10.800244331359863,
          -11.934964179992676,
          3.4936089515686035,
          0.8166604042053223,
          -3.7033379077911377,
          -14.595569610595703,
          3.1629717350006104,
          12.76817798614502,
          -5.13115930557251,
          -6.268403053283691,
          2.5032310485839844,
          -1.9429707527160645,
          11.857677459716797,
          -6.765542507171631,
          5.3860602378845215,
          -5.444569110870361,
          9.75475788116455,
          10.499763488769531,
          0.7449804544448853,
          7.967247009277344,
          -0.7708452939987183,
          0.40665730834007263,
          -1.1880813837051392,
          0.3838678002357483,
          -2.0645601749420166,
          2.921546220779419,
          -2.548849105834961,
          -7.622443199157715,
          -3.30487060546875,
          -5.257259845733643,
          3.9255287647247314,
          -6.527470111846924,
          -2.3248708248138428,
          -5.265505313873291,
          3.7320058345794678,
          -5.360184192657471,
          5.799396991729736,
          -5.815690994262695,
          -7.297008991241455,
          -2.7038156986236572,
          -0.45803987979888916,
          -0.12853682041168213,
          -6.773630142211914,
          7.133005142211914,
          7.6501145362854,
          -5.815502643585205,
          0.28919175267219543,
          -10.244275093078613,
          -2.228550672531128,
          -1.9587386846542358,
          2.5078155994415283,
          -1.984499454498291,
          0.014674142003059387,
          1.8729124069213867,
          11.512191772460938,
          -7.230718612670898,
          10.204883575439453,
          6.377109050750732,
          3.3494250774383545,
          0.7144244909286499,
          -13.831052780151367,
          10.823803901672363,
          10.513731002807617,
          5.378998756408691,
          -0.41137567162513733,
          -1.5987557172775269,
          14.124252319335938,
          -7.763477802276611,
          -8.087409973144531,
          -6.933941841125488,
          -6.264322280883789,
          8.253262519836426,
          7.366544246673584,
          7.9547600746154785,
          -8.546581268310547,
          6.6748046875,
          -8.994224548339844,
          8.217001914978027,
          -5.217669486999512,
          0.46510744094848633,
          15.244241714477539,
          -1.7188160419464111,
          -1.3818095922470093,
          0.06241288408637047,
          -6.7725396156311035,
          7.123291015625,
          -3.478820323944092,
          -7.123315334320068,
          -7.712102890014648,
          11.215389251708984,
          3.182731866836548,
          -1.7384668588638306,
          7.712001323699951,
          -8.555105209350586,
          -4.014866828918457,
          -6.5573930740356445,
          -0.22845128178596497,
          10.062582969665527,
          10.99524974822998,
          5.991822242736816,
          8.8181791305542,
          2.9915475845336914,
          7.706920146942139,
          -0.835652232170105,
          1.6453685760498047,
          -3.7628698348999023,
          5.651140213012695,
          -9.133891105651855,
          -7.560651779174805,
          5.23726224899292,
          -0.8116525411605835,
          10.026529312133789,
          4.187354564666748,
          -2.4505624771118164,
          -2.364969253540039,
          2.9802513122558594,
          7.506986618041992,
          14.52877426147461,
          7.565669059753418,
          7.936487197875977,
          -1.915027379989624,
          -2.3123295307159424,
          1.2546513080596924,
          7.283899784088135,
          -0.7817742824554443,
          13.798954963684082,
          1.2415648698806763,
          -5.92145299911499,
          -5.283854007720947,
          -13.396444320678711,
          1.1324632167816162,
          0.2609805166721344,
          8.722752571105957,
          -7.517517566680908,
          3.4686899185180664,
          -8.138679504394531,
          -7.76674222946167,
          -5.504990577697754,
          9.796635627746582,
          -0.6817702054977417,
          12.162044525146484,
          12.813702583312988,
          1.4352655410766602,
          -8.74300479888916,
          6.930586814880371,
          -1.2231122255325317,
          4.20883321762085,
          -10.227433204650879,
          -3.778423309326172,
          3.9256246089935303,
          5.872683525085449,
          -4.307455539703369,
          -8.482136726379395,
          -8.65080451965332,
          -5.297802448272705,
          -5.58043098449707,
          8.167135238647461,
          -7.156582355499268,
          2.0174899101257324,
          0.6912687420845032,
          2.717974901199341,
          1.4642664194107056,
          8.957316398620605,
          7.796327114105225,
          3.7465322017669678,
          -4.113950252532959,
          -3.1192073822021484,
          -1.2247350215911865,
          9.80385684967041,
          5.967935085296631,
          0.635809063911438,
          -2.976673126220703,
          -5.226571559906006,
          0.35747283697128296,
          3.6663811206817627,
          11.837648391723633,
          -4.262844085693359,
          3.75030517578125,
          2.484830856323242,
          1.0518804788589478,
          9.730389595031738,
          -9.672014236450195,
          2.88295578956604,
          10.981520652770996,
          13.80174446105957,
          7.56319522857666,
          10.692806243896484,
          7.7893595695495605,
          -6.206379413604736,
          11.35163688659668,
          4.526816368103027,
          3.373969316482544,
          -5.420083522796631,
          1.5738558769226074,
          8.647863388061523,
          -5.236643314361572,
          1.3334764242172241,
          -7.189444065093994,
          -2.692816972732544,
          -1.770230770111084,
          -1.8107359409332275,
          7.154674530029297,
          12.713493347167969,
          10.36970329284668,
          5.924655914306641,
          1.851929783821106,
          4.18963623046875,
          -0.41788262128829956,
          0.3905062675476074,
          1.1385080814361572,
          8.524211883544922,
          -6.540435314178467,
          9.661629676818848,
          -7.620480537414551,
          -4.63380765914917,
          -2.1226487159729004,
          0.3605474829673767,
          9.890715599060059,
          -5.037284851074219,
          -13.414149284362793,
          -11.738260269165039,
          -6.072657585144043,
          -10.977317810058594,
          3.768481969833374,
          6.032271862030029,
          1.8599796295166016,
          -11.976036071777344,
          -2.652095317840576,
          -3.379560947418213,
          7.708374500274658,
          -12.648208618164062,
          1.2078484296798706,
          8.462455749511719,
          3.525134801864624,
          4.936593055725098,
          -4.196002006530762,
          -1.904634714126587,
          9.520548820495605,
          5.1647725105285645,
          -1.1128449440002441,
          -2.101686477661133,
          -1.9712213277816772,
          -9.544804573059082,
          -7.458074569702148,
          3.8000361919403076,
          -1.6697672605514526,
          -2.7027437686920166,
          5.242018222808838,
          -0.7199710607528687,
          -13.27318286895752,
          -9.525704383850098,
          -0.14682923257350922,
          -9.23044490814209,
          2.071232557296753,
          1.292238473892212,
          -2.3546390533447266,
          7.5590691566467285,
          5.61264181137085,
          10.79331111907959,
          4.273475170135498,
          -10.42353630065918,
          5.0667829513549805,
          -10.294315338134766,
          -10.616581916809082,
          6.285777568817139,
          -12.168577194213867,
          -10.574551582336426,
          -15.499858856201172,
          -13.75846004486084,
          5.030978679656982,
          8.64317798614502,
          8.97110366821289,
          6.828826427459717,
          7.987589359283447,
          8.861044883728027,
          12.414716720581055,
          14.219515800476074,
          -3.1896774768829346,
          -8.009961128234863,
          -7.8512282371521,
          1.1090747117996216,
          2.867332696914673,
          -15.342190742492676,
          7.022080421447754,
          -10.212776184082031,
          -9.57215690612793,
          -0.3579068183898926,
          -4.197544097900391,
          -6.97384786605835,
          -5.30795431137085,
          4.513309001922607,
          -9.00293254852295,
          -7.481945037841797,
          12.185379981994629,
          -2.0309152603149414,
          -2.015272855758667,
          -12.40028190612793,
          -4.565792083740234,
          -0.4189284145832062,
          -11.17075252532959,
          3.2758049964904785,
          -5.20640230178833,
          -5.949243068695068,
          8.547369003295898,
          7.197606086730957,
          8.907740592956543,
          9.270095825195312,
          7.322389602661133,
          6.837177276611328,
          14.368976593017578,
          -1.2423157691955566,
          -11.934228897094727,
          -13.268336296081543,
          2.2727620601654053,
          10.597038269042969,
          6.474529266357422,
          -2.0475120544433594,
          11.420639991760254,
          9.71774673461914,
          1.963025689125061,
          5.617055892944336,
          3.041898727416992,
          -0.678286075592041,
          6.445265293121338,
          1.7219187021255493,
          -2.5880179405212402,
          -0.1892407089471817,
          -0.11919845640659332,
          13.978269577026367,
          6.517401218414307,
          -13.967185974121094,
          -6.948906421661377,
          0.4471086859703064,
          -11.540813446044922,
          -4.762814998626709,
          -6.532905101776123,
          7.098997116088867,
          7.220539093017578,
          1.3555103540420532,
          -13.923364639282227,
          -10.832280158996582,
          -13.870590209960938,
          10.856766700744629,
          5.256787300109863,
          -5.868398666381836,
          -0.5148215889930725,
          11.353775978088379,
          7.508676528930664,
          -5.244244575500488,
          2.098921537399292,
          11.937479019165039,
          -2.65990948677063,
          7.753530025482178,
          -6.185434818267822,
          -2.5206799507141113,
          -2.580195188522339,
          0.6342781782150269,
          7.597919464111328,
          -9.911845207214355,
          10.156397819519043,
          -9.706075668334961,
          11.427872657775879,
          12.537553787231445,
          -4.9722580909729,
          7.948425769805908,
          11.811365127563477,
          -6.698893070220947,
          -11.084160804748535,
          7.0832839012146,
          10.566262245178223,
          2.8134093284606934,
          8.223965644836426,
          14.237142562866211,
          12.387207984924316,
          1.7594096660614014,
          -2.4625115394592285,
          -10.225006103515625,
          -3.858837604522705,
          -6.947011947631836,
          -11.733392715454102,
          -3.728107452392578,
          9.78663444519043,
          -9.97136116027832,
          11.354076385498047,
          9.457615852355957,
          -3.0595548152923584,
          -6.513981342315674,
          6.8865065574646,
          10.58509349822998,
          -4.555891036987305,
          8.272171020507812,
          7.978363513946533,
          -3.642942190170288,
          9.831409454345703,
          4.203893184661865,
          0.3851933777332306,
          7.407996654510498,
          11.528349876403809,
          -13.045597076416016,
          -6.893921375274658,
          5.351302146911621,
          4.711589336395264,
          -3.8912241458892822,
          -4.344320774078369,
          10.068615913391113,
          11.136401176452637,
          7.720911979675293,
          15.103680610656738,
          -0.48408862948417664,
          6.795356750488281,
          10.394670486450195,
          5.587172985076904,
          5.587172985076904,
          5.587136745452881,
          0.7971192598342896,
          -9.345306396484375,
          -7.316046714782715,
          -3.413961410522461,
          -8.178339004516602,
          -2.2906062602996826,
          5.472202301025391,
          5.439502239227295,
          -5.318217754364014,
          2.725539445877075,
          7.758407115936279,
          6.655529499053955,
          1.5552715063095093,
          6.547773361206055,
          9.7549467086792,
          -9.48926830291748,
          -0.7664262056350708,
          10.40267276763916,
          9.607463836669922,
          0.7640026211738586,
          -8.476058959960938,
          -7.527750492095947,
          9.2524995803833,
          0.8078871965408325,
          -0.7557759284973145,
          6.692005634307861,
          3.003873348236084,
          -2.3221163749694824,
          -5.084824085235596,
          -2.0212152004241943,
          -1.8804662227630615,
          -4.286008358001709,
          1.7712528705596924,
          -8.634626388549805,
          11.403594970703125,
          -2.93959641456604,
          6.101149082183838,
          -3.5622963905334473,
          -2.8200602531433105,
          -8.708661079406738,
          4.315381050109863,
          -6.863273620605469,
          -6.653367519378662,
          -4.5517354011535645,
          -4.120909690856934,
          8.565423011779785,
          -11.496626853942871,
          1.1765750646591187,
          5.670896530151367,
          -7.3414306640625,
          -9.239009857177734,
          -2.732635736465454,
          -7.901650428771973,
          -8.309429168701172,
          -3.864863157272339,
          -5.075451850891113,
          -7.660125732421875,
          4.8415069580078125,
          8.9472074508667,
          -10.994979858398438,
          2.2194533348083496,
          5.626896858215332,
          -2.40142560005188,
          2.4153857231140137,
          2.9753050804138184,
          -3.0299410820007324,
          -10.739289283752441,
          -12.349321365356445,
          13.649849891662598,
          -3.4777071475982666,
          8.400744438171387,
          -0.4989595413208008,
          -0.41345030069351196,
          6.804532051086426,
          9.73723030090332,
          10.810098648071289,
          14.492280960083008,
          0.22252678871154785,
          0.17992383241653442,
          11.772698402404785,
          11.82817554473877,
          8.001742362976074,
          -7.067802429199219,
          -13.132658958435059,
          4.7118144035339355,
          5.8823723793029785,
          11.982795715332031,
          12.01414966583252,
          -4.874101161956787,
          6.146219253540039,
          1.039986491203308,
          -6.395938396453857,
          -9.675692558288574,
          11.027031898498535,
          8.421828269958496,
          5.521120071411133,
          4.115804195404053,
          -4.1099371910095215,
          -7.745087623596191,
          -4.716423988342285,
          -4.7054243087768555,
          9.147869110107422,
          5.6458353996276855,
          -1.1705043315887451,
          -0.12873446941375732,
          10.436729431152344,
          0.5089907050132751,
          6.888327121734619,
          -7.244040012359619,
          7.667054176330566,
          -5.135145664215088,
          -2.7647345066070557,
          -7.975041389465332,
          -5.264185905456543,
          6.217032432556152,
          7.475993633270264,
          11.760913848876953,
          0.48585784435272217,
          11.948378562927246,
          -8.565086364746094,
          -12.225464820861816,
          2.015493392944336,
          1.103783130645752,
          14.498493194580078,
          10.796841621398926,
          -6.3063554763793945,
          -1.0717062950134277,
          3.7170486450195312,
          -5.01434850692749,
          -3.556579828262329,
          -4.766051292419434,
          6.120404243469238,
          3.54099702835083,
          3.7309529781341553,
          3.0382497310638428,
          -11.146427154541016,
          9.087784767150879,
          -3.441575050354004,
          5.395473957061768,
          -4.22460412979126,
          -7.899158477783203,
          10.740757942199707,
          -4.71934175491333,
          7.105712413787842,
          0.4752487242221832,
          -4.9044599533081055,
          8.61269760131836,
          -9.628345489501953,
          4.844785213470459,
          0.6117159128189087,
          -6.920930862426758,
          6.0365519523620605,
          -8.038416862487793,
          9.20294189453125,
          9.425947189331055,
          -3.771174192428589,
          -0.3369174897670746,
          -3.6076478958129883,
          -4.018528938293457,
          -14.965296745300293,
          0.6854673624038696,
          -10.089197158813477,
          11.5642728805542,
          12.883305549621582,
          8.40062427520752,
          0.766459584236145,
          3.8069264888763428,
          7.43944787979126,
          -9.849347114562988,
          12.2919282913208,
          12.435839653015137,
          8.234098434448242,
          6.9294939041137695,
          5.681683540344238,
          -1.2845869064331055,
          -5.165775775909424,
          10.60932445526123,
          6.513911247253418,
          -7.8268914222717285,
          11.552223205566406,
          4.930019855499268,
          -2.7927956581115723,
          -16.149173736572266,
          -7.755806922912598,
          8.72390365600586,
          -5.758418083190918,
          10.498111724853516,
          11.155318260192871,
          7.187273025512695,
          -7.743746280670166,
          8.825016021728516,
          -4.640359401702881,
          -11.404986381530762,
          6.884803771972656,
          4.252849578857422,
          9.874421119689941,
          -12.31755256652832,
          -0.5568186640739441,
          -3.095543146133423,
          5.179526329040527,
          -4.253348350524902,
          -8.68903923034668,
          1.7742693424224854,
          -7.656509876251221,
          10.505688667297363,
          5.01345157623291,
          -4.6275529861450195,
          10.748161315917969,
          -9.470925331115723,
          -15.63095760345459,
          13.094260215759277,
          4.595958709716797,
          10.217623710632324,
          -9.876422882080078,
          -4.316198825836182,
          -3.161771774291992,
          8.515174865722656,
          0.9366978406906128,
          5.619149208068848,
          3.540339946746826,
          -0.7889285683631897,
          -5.585206985473633,
          -12.058797836303711,
          11.752480506896973,
          8.884404182434082,
          -0.40815502405166626,
          -1.13381028175354,
          4.133856773376465,
          6.010622501373291,
          11.13968563079834,
          -3.611412763595581,
          1.6963385343551636,
          -4.165132999420166,
          -2.772657632827759,
          -10.149075508117676,
          10.753661155700684,
          7.799257755279541,
          0.41212359070777893,
          -5.0887651443481445,
          8.82580852508545,
          8.401909828186035,
          13.05615234375,
          7.332860946655273,
          0.6528168320655823,
          8.48741626739502,
          3.5731041431427,
          9.866470336914062,
          11.212121963500977,
          4.360579490661621,
          7.4476776123046875,
          -8.033295631408691,
          -0.2731879949569702,
          0.4688366651535034,
          6.736466407775879,
          -10.22415828704834,
          6.029850959777832,
          -11.869139671325684,
          -13.86160659790039,
          9.983407020568848,
          -12.630645751953125,
          12.095085144042969,
          0.2854836881160736,
          -13.869600296020508,
          -6.985481262207031,
          9.866450309753418,
          -11.656938552856445,
          1.4628090858459473,
          -11.900856018066406,
          0.7584857940673828,
          5.858920574188232,
          -9.25061321258545,
          5.0719313621521,
          -2.9771852493286133,
          7.4211297035217285,
          9.368931770324707,
          -7.44022274017334,
          3.9893548488616943,
          -3.9859349727630615,
          4.876474380493164,
          7.610041618347168,
          4.440081596374512,
          -0.1685142070055008,
          -7.797342777252197,
          0.1347774863243103,
          -8.735818862915039,
          -3.0208253860473633,
          7.532713890075684,
          10.088239669799805,
          -7.522225379943848,
          -12.043015480041504,
          -7.437129497528076,
          12.503644943237305,
          -9.957776069641113,
          5.838265895843506,
          -13.830785751342773,
          10.931480407714844,
          -5.436779499053955,
          -3.6982057094573975,
          1.3424323797225952,
          9.801770210266113,
          7.284364700317383,
          11.624571800231934,
          11.618173599243164,
          -2.5992789268493652,
          -7.025949954986572,
          -8.716699600219727,
          5.02770471572876,
          10.396239280700684,
          5.770409107208252,
          2.53048038482666,
          -4.0673909187316895,
          -9.0372314453125,
          -5.556800365447998,
          10.483415603637695,
          0.9173359870910645,
          -1.407883644104004,
          -0.02480148896574974,
          10.502900123596191,
          10.754561424255371,
          12.564726829528809,
          -4.919735908508301,
          12.818380355834961,
          14.218037605285645,
          -7.868585109710693,
          11.23341178894043,
          0.2108844369649887,
          -2.2121896743774414,
          2.2964701652526855,
          -2.246347188949585,
          7.31119966506958,
          0.7370759844779968,
          -7.386919975280762,
          -3.988602638244629,
          11.755166053771973,
          -5.1388325691223145,
          2.5525014400482178,
          6.533071994781494,
          0.9637944102287292,
          10.27256965637207,
          6.46296501159668,
          5.009914398193359,
          -2.526399612426758,
          -0.44972124695777893,
          -1.6129391193389893,
          -5.531557559967041,
          -2.844160556793213,
          10.723037719726562,
          -2.941535472869873,
          6.923730373382568,
          -4.098361492156982,
          -1.4025914669036865,
          3.6460766792297363,
          -7.54567813873291,
          -1.3952199220657349,
          -5.575805187225342,
          12.67657470703125,
          8.53742790222168,
          -5.200658798217773,
          8.518059730529785,
          13.395304679870605,
          -9.027998924255371,
          3.56284761428833,
          7.569829940795898,
          -8.473733901977539,
          10.730002403259277,
          1.7271184921264648,
          10.265254020690918,
          8.68110466003418,
          9.15876579284668,
          11.923901557922363,
          8.093695640563965,
          11.761065483093262,
          11.82373332977295,
          -6.951089859008789,
          -6.643283843994141,
          11.448271751403809,
          8.549958229064941,
          11.424633026123047,
          8.667388916015625,
          -1.2764900922775269,
          1.8230438232421875,
          -1.4632625579833984,
          7.391506195068359,
          13.315275192260742,
          0.30762624740600586,
          10.74645709991455,
          0.22089877724647522,
          2.839613914489746,
          -4.615171432495117,
          -2.8866899013519287,
          5.076044082641602,
          8.525585174560547,
          12.561195373535156,
          4.879823207855225,
          8.403674125671387,
          8.974077224731445,
          -13.791769981384277,
          4.8486328125,
          -5.870477676391602,
          9.537797927856445,
          9.9758882522583,
          -6.074892520904541,
          7.0441389083862305,
          -8.103346824645996,
          -11.913569450378418,
          7.9003095626831055,
          -3.6419644355773926,
          -8.021702766418457,
          -10.568225860595703,
          -4.990494728088379,
          -4.990451335906982,
          7.015446186065674,
          7.015520095825195,
          -2.742553234100342,
          -2.742553234100342,
          1.00253164768219,
          1.002544641494751,
          11.32591438293457,
          11.32591438293457,
          5.108461856842041,
          5.108509540557861,
          3.7124078273773193,
          3.7124078273773193,
          -6.768442630767822,
          -6.768442630767822,
          11.420029640197754,
          11.420029640197754,
          9.070089340209961,
          9.070089340209961,
          0.6820403337478638,
          0.6820403337478638,
          5.5137410163879395,
          4.355065822601318,
          -10.377382278442383,
          -10.377382278442383,
          -1.0564548969268799,
          -1.0564548969268799,
          -10.9273042678833,
          -10.9273042678833,
          -7.505285263061523,
          -7.505228042602539,
          -10.729852676391602,
          -10.729852676391602,
          10.083871841430664,
          13.963342666625977,
          -15.532163619995117,
          -4.899099349975586,
          -0.10061183571815491,
          2.643068790435791,
          8.87933349609375,
          2.0646414756774902,
          -7.4857869148254395,
          5.898860931396484,
          8.300872802734375,
          -5.411515712738037,
          10.94005298614502,
          9.350081443786621,
          10.568404197692871,
          -14.094915390014648,
          8.781010627746582,
          -10.26817512512207,
          8.597017288208008,
          -1.5984587669372559,
          12.139022827148438,
          8.90886116027832,
          10.068550109863281,
          10.55250358581543,
          9.3345308303833,
          8.71332836151123,
          11.77170467376709,
          8.34218692779541,
          8.5864839553833,
          -4.187324047088623,
          -2.6076152324676514,
          -3.6443872451782227,
          2.265056848526001,
          -12.351090431213379,
          9.6392183303833,
          -10.7891263961792,
          -10.410831451416016,
          -8.489034652709961,
          6.498941898345947,
          -9.0540189743042,
          -1.915001392364502,
          1.2290616035461426,
          -2.0566635131835938,
          -2.3625056743621826,
          -4.282158374786377,
          10.90501880645752,
          8.274331092834473,
          4.081796646118164,
          8.142961502075195,
          8.658493041992188,
          7.7070088386535645,
          -7.057888507843018,
          1.1481865644454956,
          10.34933853149414,
          8.427824020385742,
          9.328402519226074,
          -1.982861876487732,
          11.727912902832031,
          3.011786699295044,
          10.313811302185059,
          1.7671407461166382,
          12.36904525756836,
          2.45386004447937,
          8.965153694152832,
          11.820097923278809,
          7.513595104217529,
          7.010891437530518,
          -5.172962188720703,
          12.552289962768555,
          0.7177045345306396,
          5.856417179107666,
          -3.7054338455200195,
          -2.627199649810791,
          8.963102340698242,
          6.92411994934082,
          9.044729232788086,
          0.5005878210067749,
          -11.802481651306152,
          -2.8436942100524902,
          -2.8102993965148926,
          8.705528259277344,
          8.577710151672363,
          8.218944549560547,
          10.643603324890137,
          11.67481803894043,
          11.693333625793457,
          9.917861938476562,
          11.90438175201416,
          10.345172882080078,
          10.060797691345215,
          9.313693046569824,
          10.534302711486816,
          8.873394966125488,
          -0.5948588848114014,
          10.408424377441406,
          11.932129859924316,
          7.124825954437256,
          6.499240398406982,
          -6.564943790435791,
          5.208450794219971,
          1.2621667385101318,
          0.5526121854782104,
          5.457901477813721,
          4.668718338012695,
          11.438314437866211,
          12.04341983795166,
          3.3676321506500244,
          8.94976806640625,
          8.549116134643555,
          -9.693609237670898,
          -8.92032241821289,
          10.182374000549316,
          9.642032623291016,
          -6.933660507202148,
          9.27357006072998,
          7.869240760803223,
          -2.717944860458374,
          7.714099884033203,
          -5.480079174041748,
          -1.2806832790374756,
          -0.6704723238945007,
          0.3646334707736969,
          8.689764976501465,
          -1.6109730005264282,
          1.6354749202728271,
          -13.587644577026367,
          -1.6422160863876343,
          -7.82054328918457,
          6.21893310546875,
          5.480903148651123,
          -7.310739994049072,
          -9.00155258178711,
          -3.9186508655548096,
          7.762901782989502,
          3.1515049934387207,
          -13.639936447143555,
          7.789299488067627,
          5.984072685241699,
          -4.599076747894287,
          -4.617844581604004,
          -10.302085876464844,
          -7.638546943664551,
          10.906721115112305,
          9.334997177124023,
          -0.5782930254936218,
          1.0387729406356812,
          10.16219711303711,
          -10.025859832763672,
          6.629583358764648,
          9.01471996307373,
          0.582383394241333,
          -7.0132246017456055,
          -11.894323348999023,
          8.109431266784668,
          -5.445102214813232,
          8.477152824401855,
          -6.493537425994873,
          -10.939837455749512,
          0.6456535458564758,
          8.286638259887695,
          1.6489996910095215,
          8.421306610107422,
          -1.2482503652572632,
          8.129396438598633,
          1.925646424293518,
          1.4488885402679443,
          -5.537694931030273,
          8.587797164916992,
          0.6974986791610718,
          -8.585113525390625,
          -4.257742881774902,
          -7.978681564331055,
          6.778565883636475,
          -4.784994602203369,
          6.525389671325684,
          -1.040413737297058,
          -8.947914123535156,
          11.421699523925781,
          -12.46078109741211,
          10.644211769104004,
          9.503846168518066,
          8.080926895141602,
          8.166102409362793,
          6.60952091217041,
          1.6727763414382935,
          -6.913887023925781,
          8.51262092590332,
          8.45954704284668,
          -11.8660306930542,
          2.285733461380005,
          -10.428240776062012,
          8.043450355529785,
          -4.664258003234863,
          -6.024513244628906,
          -2.2398176193237305,
          -5.573360919952393,
          -11.574167251586914,
          1.8532209396362305,
          -1.2860063314437866,
          1.4952138662338257,
          10.14171314239502,
          11.450499534606934,
          -9.782442092895508,
          -5.3442182540893555,
          -6.031517505645752,
          11.000085830688477,
          7.72361946105957,
          -7.9851202964782715,
          5.982941627502441,
          1.821199893951416,
          -9.494255065917969,
          0.4532429575920105,
          8.312578201293945,
          8.225067138671875,
          1.3222620487213135,
          9.299638748168945,
          9.606551170349121,
          8.24268913269043,
          1.8429052829742432,
          -11.546407699584961,
          8.719463348388672,
          0.2622990906238556,
          -2.296370506286621,
          8.03265380859375,
          -4.526709079742432,
          -11.91428279876709,
          1.7390408515930176,
          8.516921997070312,
          8.50841236114502,
          -2.6837897300720215,
          2.168180227279663,
          8.23271656036377,
          0.5631787180900574,
          -5.853338241577148,
          7.642741680145264,
          2.452979803085327,
          3.8567862510681152,
          7.790065288543701,
          1.4164938926696777,
          -5.0254807472229,
          11.725546836853027,
          10.883237838745117,
          8.184127807617188,
          8.825879096984863,
          -4.071046829223633,
          8.0321626663208,
          6.390361309051514,
          9.105600357055664,
          -4.54054069519043,
          3.3607048988342285,
          8.195582389831543,
          11.127331733703613,
          8.980658531188965,
          9.966582298278809,
          -7.234641075134277,
          -8.232476234436035,
          -1.873390793800354,
          -7.650624752044678,
          -1.1232435703277588,
          -9.212010383605957,
          -4.990602016448975,
          -10.717689514160156,
          1.711446762084961,
          6.229462146759033,
          13.009267807006836,
          -11.514142990112305,
          -13.311342239379883,
          1.8382879495620728,
          6.5499773025512695,
          -4.868263244628906,
          -4.048678874969482,
          5.218113899230957,
          -2.999884605407715,
          6.73837947845459,
          2.6335887908935547,
          -5.410531997680664,
          -12.24111270904541,
          -5.9809489250183105,
          -1.3519870042800903,
          4.588033199310303,
          -3.506134510040283,
          0.9777803421020508,
          -1.7979801893234253,
          -1.3837993144989014,
          -6.845879554748535,
          -1.7391002178192139,
          -5.269454002380371,
          -3.385207176208496,
          -10.772045135498047,
          3.528245449066162,
          -10.702896118164062,
          3.9561848640441895,
          7.735994815826416,
          7.07443904876709,
          -2.9380335807800293,
          -11.993120193481445,
          -10.814399719238281,
          6.929746627807617,
          -0.5556307435035706,
          12.168856620788574,
          -1.0265315771102905,
          -4.591481685638428,
          0.36652934551239014,
          -5.295005798339844,
          13.81325626373291,
          -4.191105842590332,
          -7.350625514984131,
          6.746856212615967,
          4.2077531814575195,
          7.068490982055664,
          7.756266117095947,
          1.1023861169815063,
          0.3126934766769409,
          -0.4877719581127167,
          5.310754776000977,
          3.4002912044525146,
          -0.04314303398132324,
          12.322793006896973,
          -11.294212341308594,
          6.104495525360107,
          2.2201216220855713,
          -7.419261932373047,
          -7.298444747924805,
          -9.062102317810059,
          -0.3271659314632416,
          6.162873268127441,
          10.16750717163086,
          -8.554301261901855,
          -2.6971793174743652,
          -4.100776195526123,
          10.918607711791992,
          -9.957964897155762,
          -0.771118700504303,
          6.6267852783203125,
          -4.314225673675537,
          -12.2013521194458,
          -6.808981418609619,
          -11.717296600341797,
          0.9637628793716431,
          -8.15420913696289,
          -4.318809509277344,
          -7.253389835357666,
          -8.883511543273926,
          1.8070193529129028,
          -14.260814666748047,
          7.024752140045166,
          -7.926108360290527,
          -2.9497506618499756,
          3.1021766662597656,
          -6.3358588218688965,
          -1.7642909288406372,
          -2.6515369415283203,
          -2.7361559867858887,
          -2.9610822200775146,
          -0.1641201227903366,
          -6.849087715148926,
          0.272573322057724,
          3.6074259281158447,
          -8.534576416015625,
          6.080924987792969,
          -9.634820938110352,
          -6.857309341430664,
          -4.009138584136963,
          -0.8199375867843628,
          -9.45676040649414,
          -1.0667515993118286,
          1.9723405838012695,
          -1.2969962358474731,
          -3.842339277267456,
          -0.34270039200782776,
          -5.739145278930664,
          3.3903868198394775,
          -1.4578191041946411,
          -6.523169040679932,
          -6.184632301330566,
          2.4553885459899902,
          -2.624696731567383,
          -2.6100010871887207,
          -4.844367027282715,
          -9.176460266113281,
          7.449184894561768,
          -2.5443150997161865,
          5.094203948974609,
          -0.6924613118171692,
          -6.995611667633057,
          8.270191192626953,
          -8.17267894744873,
          -6.534350872039795,
          8.594586372375488,
          7.907711505889893,
          9.425942420959473,
          8.394380569458008,
          7.199271202087402
         ],
         "z": [
          -2.0540268421173096,
          -2.263835906982422,
          -3.310519218444824,
          2.5185844898223877,
          3.438361644744873,
          0.5107738971710205,
          -1.4477355480194092,
          1.599811315536499,
          5.5127129554748535,
          -3.982360601425171,
          2.4098763465881348,
          -2.5960748195648193,
          6.100824356079102,
          1.5162969827651978,
          -4.241643905639648,
          -2.519714117050171,
          -0.3544539213180542,
          -3.137791633605957,
          1.3969814777374268,
          5.745625972747803,
          -3.3662447929382324,
          3.920356035232544,
          0.7058037519454956,
          0.6015938520431519,
          1.2978274822235107,
          2.0116286277770996,
          -0.45188194513320923,
          -0.06843191385269165,
          -3.1265833377838135,
          5.93256139755249,
          5.198670387268066,
          0.21838247776031494,
          5.370028018951416,
          1.453635811805725,
          1.3063642978668213,
          1.4321879148483276,
          5.083738803863525,
          3.9854736328125,
          1.6623139381408691,
          0.2367992252111435,
          2.9710144996643066,
          -0.20123614370822906,
          -4.679185390472412,
          1.406126618385315,
          -0.8175197839736938,
          2.959714651107788,
          0.42864879965782166,
          6.985401153564453,
          3.2069365978240967,
          3.083324670791626,
          -3.4528982639312744,
          -1.3262025117874146,
          -0.6318332552909851,
          -3.2486793994903564,
          -3.9933786392211914,
          2.735403060913086,
          -0.9266825914382935,
          -3.464181423187256,
          3.420032024383545,
          2.6691129207611084,
          3.690068006515503,
          -5.608999252319336,
          -1.572751522064209,
          -0.8396255970001221,
          -2.7403290271759033,
          -5.350532054901123,
          -2.3169572353363037,
          -3.8400886058807373,
          0.32362544536590576,
          0.21068619191646576,
          3.6410489082336426,
          -2.220524549484253,
          5.648352146148682,
          -0.32823577523231506,
          -2.0874533653259277,
          -0.06520643830299377,
          1.5111511945724487,
          -1.2373031377792358,
          4.00924015045166,
          -3.7246029376983643,
          2.7610371112823486,
          7.463781356811523,
          2.3084330558776855,
          -3.945801019668579,
          1.1256697177886963,
          5.568662166595459,
          3.8011581897735596,
          -2.692460775375366,
          1.5109057426452637,
          5.3264384269714355,
          1.6597778797149658,
          -0.06284817308187485,
          5.200153827667236,
          2.1813576221466064,
          6.021028518676758,
          2.7672932147979736,
          1.1768245697021484,
          0.3664109706878662,
          0.8133673071861267,
          4.953862190246582,
          -0.535511314868927,
          -1.859708547592163,
          -4.220006465911865,
          1.8289073705673218,
          1.0582863092422485,
          1.0116603374481201,
          2.390711784362793,
          -0.4458824396133423,
          5.368929862976074,
          3.266970157623291,
          1.5924278497695923,
          4.109065532684326,
          -0.9560564160346985,
          1.559462308883667,
          4.5946478843688965,
          1.3199139833450317,
          -2.089451789855957,
          -0.49767082929611206,
          3.5504567623138428,
          3.5512990951538086,
          2.30938720703125,
          3.4510536193847656,
          2.5074524879455566,
          0.9030219316482544,
          1.2609280347824097,
          5.316501140594482,
          -1.6541279554367065,
          -1.4936199188232422,
          0.25417855381965637,
          0.9747422337532043,
          0.07796090096235275,
          4.293946743011475,
          -1.712941288948059,
          4.741959095001221,
          3.0475199222564697,
          0.2600646913051605,
          -2.0414955615997314,
          -4.935622215270996,
          -4.860962390899658,
          -0.607397198677063,
          -6.208336353302002,
          -2.658507823944092,
          2.0757668018341064,
          0.13235802948474884,
          -7.711416244506836,
          1.169364094734192,
          -0.9984062910079956,
          1.18168306350708,
          -1.024423360824585,
          -3.6245462894439697,
          -1.5999233722686768,
          2.164494276046753,
          -3.5373613834381104,
          5.028919219970703,
          -3.48258376121521,
          2.9557108879089355,
          -6.1409173011779785,
          -1.0583606958389282,
          -0.32899370789527893,
          0.34374430775642395,
          3.871391534805298,
          3.0408475399017334,
          -2.23237681388855,
          -8.789253234863281,
          -3.118422269821167,
          1.5370557308197021,
          -4.057619094848633,
          4.138176918029785,
          4.631711006164551,
          7.2982659339904785,
          -3.000798463821411,
          2.7325427532196045,
          -0.7135301828384399,
          9.472793579101562,
          0.12285994738340378,
          -0.7377592325210571,
          -0.9396696090698242,
          -3.3864259719848633,
          0.3508327603340149,
          -2.787493944168091,
          2.182368516921997,
          1.2141798734664917,
          -0.39883044362068176,
          2.2456066608428955,
          4.34025239944458,
          3.862285614013672,
          0.4399493932723999,
          -0.562842607498169,
          2.9665684700012207,
          -0.48079201579093933,
          3.5853183269500732,
          3.8821330070495605,
          1.7373048067092896,
          5.2102885246276855,
          -2.7802975177764893,
          0.14711593091487885,
          0.8806710243225098,
          -1.18109929561615,
          -4.134449005126953,
          -3.281968355178833,
          4.641141891479492,
          1.4058641195297241,
          -3.9182281494140625,
          -3.457850217819214,
          -1.2381582260131836,
          -5.703240394592285,
          -0.321667343378067,
          5.805800914764404,
          -1.6551766395568848,
          -5.463536262512207,
          -1.5319830179214478,
          1.3035495281219482,
          -1.0357961654663086,
          -1.6947087049484253,
          4.301219463348389,
          1.8015185594558716,
          -1.5494455099105835,
          -5.347301483154297,
          2.0671329498291016,
          3.211195945739746,
          6.036890506744385,
          2.232100009918213,
          -7.578964710235596,
          -2.161250591278076,
          -5.679248809814453,
          1.7754874229431152,
          0.15791694819927216,
          -2.67911958694458,
          0.6946943402290344,
          -0.9497026205062866,
          2.5748212337493896,
          -1.204336166381836,
          -2.0418903827667236,
          5.953372478485107,
          0.5927625894546509,
          3.5059103965759277,
          4.197317123413086,
          -3.6715264320373535,
          -3.1273603439331055,
          4.28294563293457,
          -1.855622410774231,
          4.272486686706543,
          5.093864917755127,
          0.3939760625362396,
          -3.3581035137176514,
          2.3313980102539062,
          0.8122265934944153,
          -2.7320609092712402,
          2.550548553466797,
          -1.1275578737258911,
          -2.709322929382324,
          -0.12472867965698242,
          7.662623882293701,
          0.9428314566612244,
          0.7101203203201294,
          1.799717903137207,
          0.5608044862747192,
          1.5761637687683105,
          5.430038928985596,
          -1.4272010326385498,
          4.009742259979248,
          4.415594577789307,
          2.4308438301086426,
          -5.0498785972595215,
          4.294652462005615,
          3.959531545639038,
          4.558250427246094,
          3.0121421813964844,
          3.9686145782470703,
          -2.453824996948242,
          1.6181564331054688,
          4.59036922454834,
          -1.416991114616394,
          -0.310395210981369,
          -4.686100482940674,
          -1.297857642173767,
          -0.32025203108787537,
          -3.145540952682495,
          3.92105770111084,
          -0.39736875891685486,
          1.2155418395996094,
          1.810898780822754,
          3.2580008506774902,
          2.8479256629943848,
          -0.5081208944320679,
          1.5774680376052856,
          7.586755752563477,
          3.6473548412323,
          0.8361601829528809,
          0.19611100852489471,
          -2.616769790649414,
          1.5716711282730103,
          -5.762388229370117,
          0.13651686906814575,
          -4.177931308746338,
          -4.716766357421875,
          -1.7751717567443848,
          2.0299954414367676,
          0.21601441502571106,
          3.6421477794647217,
          -3.8407061100006104,
          -2.4769527912139893,
          4.161811828613281,
          -0.8924684524536133,
          7.3600335121154785,
          -1.1892915964126587,
          0.0605892576277256,
          3.606032371520996,
          1.4813891649246216,
          0.982249915599823,
          2.8349738121032715,
          -3.993635654449463,
          -6.684354782104492,
          -0.7273681163787842,
          3.978740692138672,
          1.3296669721603394,
          1.722102165222168,
          6.325901985168457,
          6.919345855712891,
          -4.533462047576904,
          -4.50080680847168,
          -0.4953818619251251,
          -5.644587993621826,
          -1.543539047241211,
          7.230949401855469,
          -3.6778836250305176,
          -0.5550367832183838,
          0.20739708840847015,
          0.2770179212093353,
          -2.0306577682495117,
          -3.5316734313964844,
          7.567193508148193,
          -5.575510025024414,
          -1.6771243810653687,
          3.3659987449645996,
          -5.606184959411621,
          -4.084710597991943,
          -0.7906392216682434,
          -2.864000082015991,
          1.5412806272506714,
          4.157482624053955,
          2.8533878326416016,
          4.804133415222168,
          -2.1681442260742188,
          3.6945998668670654,
          1.826902985572815,
          -1.9647226333618164,
          3.7968051433563232,
          4.2044525146484375,
          1.3426846265792847,
          -5.2126617431640625,
          1.9699640274047852,
          -4.309553146362305,
          5.235159397125244,
          0.3300052583217621,
          -2.2911217212677,
          9.253530502319336,
          -3.452185869216919,
          -2.9054222106933594,
          -2.240180730819702,
          1.144783616065979,
          -0.10382124036550522,
          3.15926194190979,
          -2.0663881301879883,
          -2.896106243133545,
          4.130350589752197,
          -2.212836742401123,
          3.4781532287597656,
          1.0818873643875122,
          0.06392288953065872,
          0.07167616486549377,
          0.031871795654296875,
          -0.9230307936668396,
          -2.275980234146118,
          1.6269736289978027,
          0.63625568151474,
          1.7387006282806396,
          1.6166335344314575,
          1.3452945947647095,
          -1.4193181991577148,
          -2.0956554412841797,
          -1.5132298469543457,
          0.0587250292301178,
          5.256270408630371,
          -3.6098310947418213,
          -4.523584365844727,
          6.907717227935791,
          -4.385138511657715,
          -2.4386649131774902,
          -1.3784725666046143,
          -1.7329025268554688,
          4.830310821533203,
          5.530790328979492,
          -1.3297083377838135,
          -5.125967025756836,
          -6.08866024017334,
          -4.436739921569824,
          7.547000408172607,
          -1.1401855945587158,
          2.8664963245391846,
          0.11858353763818741,
          1.039250135421753,
          1.908433437347412,
          -0.20306959748268127,
          3.444706678390503,
          -0.04940329119563103,
          1.6667016744613647,
          -0.3308173716068268,
          1.6461529731750488,
          -3.242849588394165,
          -1.8042045831680298,
          -3.031351089477539,
          -2.6043426990509033,
          4.685526371002197,
          -5.081268787384033,
          9.052560806274414,
          -2.5776522159576416,
          -3.404810667037964,
          -6.3237762451171875,
          -2.8203892707824707,
          3.2333309650421143,
          -5.101626873016357,
          -2.040637969970703,
          0.47452452778816223,
          1.6898897886276245,
          3.6673672199249268,
          -3.7878923416137695,
          1.562551498413086,
          -2.7494540214538574,
          -5.318156719207764,
          -4.1763811111450195,
          -1.0805174112319946,
          0.10027299076318741,
          0.8649587035179138,
          4.591086387634277,
          4.294229030609131,
          -4.314363956451416,
          1.2600306272506714,
          0.3093870282173157,
          -1.7755286693572998,
          6.695274829864502,
          6.22312593460083,
          -0.48929649591445923,
          -2.908414363861084,
          7.7367658615112305,
          4.406536102294922,
          -0.9050562381744385,
          -6.551280498504639,
          -4.198795318603516,
          -1.2085200548171997,
          -7.193053245544434,
          1.8095803260803223,
          -5.484577178955078,
          -4.7109785079956055,
          0.17324155569076538,
          -5.924075603485107,
          -1.7835543155670166,
          2.726656675338745,
          -5.559915542602539,
          0.6691710948944092,
          1.092383861541748,
          0.25675421953201294,
          4.547354221343994,
          1.6729390621185303,
          -1.4717599153518677,
          1.5676506757736206,
          1.5869405269622803,
          -1.7352761030197144,
          -0.8953962922096252,
          -1.2130464315414429,
          -1.8950899839401245,
          -1.3163987398147583,
          3.58722186088562,
          2.6067512035369873,
          4.649811744689941,
          0.5773236751556396,
          -3.8655879497528076,
          -0.5454660654067993,
          1.3029086589813232,
          -1.2918728590011597,
          0.6824758052825928,
          4.819632053375244,
          4.819632053375244,
          4.819627285003662,
          3.4307501316070557,
          -2.0608863830566406,
          -3.8741109371185303,
          8.547930717468262,
          -4.0360541343688965,
          4.4502716064453125,
          1.3878790140151978,
          6.385566711425781,
          -0.8693578243255615,
          0.8113695383071899,
          -1.6740846633911133,
          1.6846790313720703,
          2.719881057739258,
          -0.8648603558540344,
          -0.39335617423057556,
          -9.176373481750488,
          -1.6512049436569214,
          -1.0999810695648193,
          -1.0405867099761963,
          4.227547645568848,
          -5.967937469482422,
          -5.186862945556641,
          -4.483067512512207,
          -3.0207138061523438,
          0.46859031915664673,
          4.138190269470215,
          1.9224119186401367,
          3.733935594558716,
          3.0995638370513916,
          1.6999748945236206,
          2.109900951385498,
          5.051673889160156,
          1.3579328060150146,
          -4.0410895347595215,
          -5.6765923500061035,
          2.188453197479248,
          4.665439128875732,
          0.30330732464790344,
          2.699056625366211,
          1.084355354309082,
          4.7552995681762695,
          5.101982116699219,
          1.3101270198822021,
          -1.4082781076431274,
          4.347902774810791,
          1.0650097131729126,
          0.6045600175857544,
          4.936582088470459,
          -3.42478084564209,
          -4.673155784606934,
          -3.004467010498047,
          2.3629539012908936,
          -2.5224809646606445,
          2.6573498249053955,
          7.877992630004883,
          2.08967924118042,
          -1.1237155199050903,
          3.8472800254821777,
          0.7057619094848633,
          -4.338506698608398,
          -3.3107428550720215,
          3.8124749660491943,
          1.602632999420166,
          6.2985429763793945,
          0.5581179857254028,
          -1.4313703775405884,
          -1.33589768409729,
          1.6028742790222168,
          -0.15041878819465637,
          -2.3218917846679688,
          3.9778850078582764,
          0.9131906032562256,
          1.354364275932312,
          -7.1904072761535645,
          -0.3813275396823883,
          2.4801182746887207,
          -1.6994125843048096,
          7.72020959854126,
          3.460766077041626,
          -4.109364032745361,
          3.143038034439087,
          3.061141014099121,
          -4.998291492462158,
          -2.3908851146698,
          1.3416328430175781,
          1.3838293552398682,
          3.094911813735962,
          -0.16504541039466858,
          -1.08978271484375,
          2.2429347038269043,
          0.99793541431427,
          0.0244212057441473,
          1.2479006052017212,
          0.49258819222450256,
          2.2946994304656982,
          -2.5952515602111816,
          3.3552329540252686,
          0.6339349746704102,
          -2.7529070377349854,
          5.195324897766113,
          6.817493915557861,
          -2.2956480979919434,
          -2.088643789291382,
          -4.402833938598633,
          8.455665588378906,
          4.139197826385498,
          6.999154090881348,
          3.728398323059082,
          -4.302987575531006,
          1.2670230865478516,
          -5.607483863830566,
          1.4429813623428345,
          -4.211073398590088,
          -1.3719943761825562,
          4.115352153778076,
          -3.8582472801208496,
          0.0415872298181057,
          0.6549962759017944,
          1.8644644021987915,
          -5.637639045715332,
          1.7175592184066772,
          0.9447944760322571,
          -0.3738430440425873,
          1.036102056503296,
          -0.5567730069160461,
          1.8216071128845215,
          4.727980136871338,
          1.7393752336502075,
          1.632398247718811,
          0.26636701822280884,
          1.9998464584350586,
          -2.793994903564453,
          2.0083487033843994,
          0.6988816857337952,
          -0.9090223908424377,
          0.6733348965644836,
          -0.6467602252960205,
          1.6904698610305786,
          4.544092655181885,
          7.452661991119385,
          1.9742196798324585,
          -0.4514128565788269,
          -1.8524916172027588,
          5.167740821838379,
          -1.934493899345398,
          -7.644003868103027,
          4.357349872589111,
          -2.7346179485321045,
          7.170304298400879,
          1.135909080505371,
          4.518916130065918,
          -0.23002883791923523,
          -2.603505849838257,
          4.286636829376221,
          5.488741397857666,
          -2.7186670303344727,
          4.842319488525391,
          -2.7884418964385986,
          0.7925520539283752,
          -2.199018716812134,
          -1.9502673149108887,
          0.10796333104372025,
          2.7724874019622803,
          -0.8713199496269226,
          -0.5584901571273804,
          3.6984007358551025,
          4.87066125869751,
          1.815643072128296,
          1.2376006841659546,
          -0.5679382681846619,
          -2.066025495529175,
          4.1194281578063965,
          -3.70253324508667,
          4.210254669189453,
          5.051145553588867,
          6.676198959350586,
          0.016304632648825645,
          1.1144119501113892,
          1.6622601747512817,
          -0.7666119337081909,
          3.8500890731811523,
          8.903543472290039,
          -4.17490816116333,
          -0.4538341462612152,
          -0.46117082238197327,
          5.954635143280029,
          1.4025378227233887,
          -2.3077876567840576,
          2.554945945739746,
          2.699069023132324,
          1.2721859216690063,
          -3.233070135116577,
          -5.849897861480713,
          0.6775011420249939,
          -1.0587434768676758,
          4.977179050445557,
          1.95728600025177,
          1.7259974479675293,
          2.4398632049560547,
          0.5163888335227966,
          -0.8067945241928101,
          0.14134477078914642,
          2.6668899059295654,
          -0.777944028377533,
          -2.547682285308838,
          1.5787043571472168,
          -4.26600980758667,
          -0.2723887264728546,
          -4.139227390289307,
          -3.911121368408203,
          -0.8122292757034302,
          5.328346252441406,
          -0.9815739989280701,
          -9.059492111206055,
          -1.9998916387557983,
          0.16829083859920502,
          4.138906002044678,
          3.8533008098602295,
          0.32290101051330566,
          6.374800682067871,
          -1.2134811878204346,
          3.090705156326294,
          0.5286769866943359,
          -2.0889930725097656,
          0.7876240611076355,
          6.035419940948486,
          -2.2765774726867676,
          2.585146903991699,
          -1.9140260219573975,
          -0.08460875600576401,
          -7.172250747680664,
          -2.7345662117004395,
          3.810163736343384,
          2.1908388137817383,
          -5.609419345855713,
          -2.4801790714263916,
          7.024631023406982,
          -5.547721862792969,
          5.094573497772217,
          0.6859781742095947,
          -3.069291591644287,
          0.22463487088680267,
          2.461744785308838,
          -3.0972511768341064,
          0.6365164518356323,
          1.3202391862869263,
          -2.3464791774749756,
          -5.778188705444336,
          0.18301232159137726,
          3.3259823322296143,
          -7.623213291168213,
          -6.07006311416626,
          7.214443206787109,
          -1.4991203546524048,
          0.3860017657279968,
          -0.9161331057548523,
          -0.6763135194778442,
          -4.019618511199951,
          3.519487142562866,
          -0.5135751366615295,
          -0.3934180736541748,
          7.667669296264648,
          -4.837011814117432,
          -0.3417617976665497,
          -2.346468925476074,
          -5.1198015213012695,
          7.296636581420898,
          -2.095946788787842,
          2.256305694580078,
          4.676453113555908,
          0.05515621602535248,
          0.02130081318318844,
          1.7045738697052002,
          -1.0106416940689087,
          1.7639093399047852,
          0.13044895231723785,
          8.71526050567627,
          0.12824730575084686,
          0.880138099193573,
          -0.18406671285629272,
          -0.40050122141838074,
          -4.20491886138916,
          -4.671011447906494,
          4.457577705383301,
          2.919110059738159,
          3.8843631744384766,
          -0.8909266591072083,
          0.18754364550113678,
          -0.7513461112976074,
          0.9512640833854675,
          5.049114227294922,
          -3.4117701053619385,
          -9.039804458618164,
          7.891825199127197,
          -0.7679588794708252,
          -1.3821555376052856,
          0.21308858692646027,
          -1.5229183435440063,
          3.0098021030426025,
          -4.084017276763916,
          0.6807565689086914,
          0.3193069398403168,
          2.094050168991089,
          6.044200897216797,
          5.12267541885376,
          -2.0668482780456543,
          -1.2359470129013062,
          -6.070903301239014,
          -2.1835317611694336,
          -2.1179370880126953,
          -2.1039774417877197,
          -6.712806224822998,
          6.889766216278076,
          3.9803895950317383,
          -4.647391319274902,
          5.39888334274292,
          5.756416320800781,
          -3.015122890472412,
          -5.625020503997803,
          -0.07428298145532608,
          -2.6278507709503174,
          -1.5712662935256958,
          -1.3607374429702759,
          4.356224536895752,
          1.5791592597961426,
          8.299771308898926,
          2.296884775161743,
          -1.6984652280807495,
          2.3316426277160645,
          0.9573816657066345,
          -0.8522104620933533,
          -1.5162419080734253,
          4.917999267578125,
          1.7929856777191162,
          2.935816526412964,
          2.6173782348632812,
          -4.670091152191162,
          7.214559078216553,
          4.35612154006958,
          1.2060248851776123,
          1.871268391609192,
          2.67668080329895,
          3.92805552482605,
          4.121776103973389,
          1.9772769212722778,
          4.363134860992432,
          -0.3448197841644287,
          3.0346434116363525,
          2.906886577606201,
          2.3299925327301025,
          -0.018405213952064514,
          -0.41000187397003174,
          5.451235294342041,
          3.6009037494659424,
          1.2567427158355713,
          0.3111475706100464,
          -1.4186619520187378,
          5.550698757171631,
          -3.499552011489868,
          -1.1255744695663452,
          5.083410739898682,
          3.218595027923584,
          0.952585756778717,
          -2.9071271419525146,
          1.5380237102508545,
          -5.147741794586182,
          -2.268824338912964,
          -2.853372097015381,
          4.087596416473389,
          2.5654966831207275,
          2.264636278152466,
          1.3902664184570312,
          1.1570448875427246,
          0.4419967234134674,
          0.8176990151405334,
          1.4207029342651367,
          2.3513336181640625,
          2.159573793411255,
          -2.6720330715179443,
          0.40927746891975403,
          -0.5606417655944824,
          -5.467182636260986,
          -6.795696258544922,
          -0.746846616268158,
          2.0187199115753174,
          1.3568190336227417,
          0.6520329117774963,
          2.827075242996216,
          -5.270383834838867,
          1.5055841207504272,
          -2.730086326599121,
          -2.498358726501465,
          3.095684051513672,
          -2.781400203704834,
          2.0341012477874756,
          -2.4038076400756836,
          -2.8495402336120605,
          0.5209824442863464,
          1.3070749044418335,
          -0.4108951985836029,
          0.1976088285446167,
          0.8683199286460876,
          0.9715756177902222,
          2.630897045135498,
          -2.049593925476074,
          0.8668890595436096,
          -5.837760925292969,
          0.706289529800415,
          -5.258833408355713,
          -2.6866466999053955,
          -2.686645746231079,
          1.285129189491272,
          1.285154104232788,
          2.5763261318206787,
          2.5763261318206787,
          4.688377857208252,
          4.688387393951416,
          -2.274918556213379,
          -2.274918556213379,
          -0.565388560295105,
          -0.565362274646759,
          2.171677589416504,
          2.171677589416504,
          -0.8526580333709717,
          -0.8526580333709717,
          3.2236831188201904,
          3.2236831188201904,
          2.8029022216796875,
          2.8029022216796875,
          7.668651103973389,
          7.668651103973389,
          -0.006967647932469845,
          -2.1290953159332275,
          -7.15331506729126,
          -7.15331506729126,
          7.258761405944824,
          7.258761405944824,
          0.5265398621559143,
          0.5265398621559143,
          -5.561367034912109,
          -5.561313629150391,
          -1.2499445676803589,
          -1.2499445676803589,
          2.4530861377716064,
          -2.594884157180786,
          -0.8179105520248413,
          2.7799909114837646,
          6.807132244110107,
          0.2719321548938751,
          -2.229738235473633,
          2.9905567169189453,
          -2.13458514213562,
          0.2835157811641693,
          2.9184329509735107,
          -0.8828229904174805,
          0.8971534371376038,
          2.4280691146850586,
          -2.2317116260528564,
          -3.0770654678344727,
          4.43878173828125,
          0.7421911954879761,
          -3.240856647491455,
          9.582193374633789,
          0.9160415530204773,
          -3.1516523361206055,
          -2.3469552993774414,
          -3.364532709121704,
          -2.272498846054077,
          0.08218368142843246,
          0.8311365246772766,
          1.8896596431732178,
          1.918172836303711,
          5.5457844734191895,
          5.259037494659424,
          -1.2595943212509155,
          -6.285665988922119,
          -5.0033345222473145,
          -1.2640488147735596,
          0.5452753901481628,
          -6.828160285949707,
          -6.438382148742676,
          2.847245931625366,
          -4.436232566833496,
          -0.12334825098514557,
          -2.4179611206054688,
          7.586517810821533,
          -0.37764501571655273,
          -3.1776580810546875,
          2.001426935195923,
          -3.1311426162719727,
          0.19149231910705566,
          -2.9006800651550293,
          1.3138138055801392,
          2.89072847366333,
          3.81335711479187,
          4.316466808319092,
          3.969644784927368,
          1.7239863872528076,
          -5.619452953338623,
          -3.0760385990142822,
          2.5331623554229736,
          1.8467931747436523,
          -2.4394116401672363,
          4.96597957611084,
          -4.7753400802612305,
          1.9578500986099243,
          -2.297210454940796,
          2.784602165222168,
          2.5354318618774414,
          -5.212285041809082,
          0.8282005786895752,
          1.5663988590240479,
          -3.243391275405884,
          -0.35595911741256714,
          -3.0192229747772217,
          -3.5606062412261963,
          -3.0037572383880615,
          2.789769172668457,
          1.8953018188476562,
          0.9746003746986389,
          -7.042673110961914,
          -2.5972650051116943,
          -2.1737101078033447,
          3.9058690071105957,
          0.4273492693901062,
          0.5520874857902527,
          0.5202825665473938,
          3.732628107070923,
          1.216946005821228,
          3.905475378036499,
          2.0184032917022705,
          -3.183011293411255,
          3.1865084171295166,
          -3.474557876586914,
          2.120441198348999,
          1.8677732944488525,
          6.019869327545166,
          0.18863196671009064,
          1.9748125076293945,
          5.565562725067139,
          4.082766532897949,
          0.2931818664073944,
          -2.7703161239624023,
          2.8155593872070312,
          5.272012233734131,
          1.5356500148773193,
          -0.9076975584030151,
          2.0938642024993896,
          -3.9944021701812744,
          6.2024946212768555,
          -2.470611333847046,
          -3.1098685264587402,
          1.6168248653411865,
          -3.488912582397461,
          -2.4122064113616943,
          -3.1099350452423096,
          4.79259729385376,
          3.0888679027557373,
          0.15654611587524414,
          9.352436065673828,
          2.6821744441986084,
          -3.15175724029541,
          -2.4711151123046875,
          1.7065376043319702,
          -0.8546671867370605,
          0.04852979630231857,
          0.5921149253845215,
          -5.149799823760986,
          -1.5166015625,
          -2.717153787612915,
          -1.977108359336853,
          -4.275208473205566,
          1.9646955728530884,
          -5.643754959106445,
          -2.6650755405426025,
          -3.0554392337799072,
          3.9032485485076904,
          1.9562783241271973,
          -4.928313732147217,
          0.3433789908885956,
          1.1570593118667603,
          -0.682413637638092,
          1.6384280920028687,
          1.1063587665557861,
          2.6192328929901123,
          0.2788143455982208,
          3.475052833557129,
          -5.594559192657471,
          -1.5507742166519165,
          0.8961730003356934,
          4.744068145751953,
          3.047189474105835,
          -0.34653204679489136,
          2.3490681648254395,
          3.218451499938965,
          -3.832886219024658,
          2.3782169818878174,
          4.713615417480469,
          2.6524651050567627,
          -2.4712605476379395,
          -2.4280295372009277,
          -4.547776222229004,
          -2.4422688484191895,
          -0.2848847210407257,
          5.565210819244385,
          -2.723337173461914,
          3.564169406890869,
          -0.3564472794532776,
          5.833324909210205,
          3.9198224544525146,
          -6.396061420440674,
          4.2667717933654785,
          -2.2370991706848145,
          2.774587392807007,
          0.7268854379653931,
          4.532552242279053,
          -1.5500998497009277,
          5.774180889129639,
          -1.2788715362548828,
          -6.670907974243164,
          2.6829376220703125,
          -1.0259008407592773,
          0.5809200406074524,
          -5.586709976196289,
          4.156822681427002,
          2.9746956825256348,
          4.416392803192139,
          -4.952886581420898,
          0.00372491916641593,
          0.04593043029308319,
          0.3482755720615387,
          -6.13778829574585,
          -6.503663063049316,
          1.06036376953125,
          -2.9725537300109863,
          7.3517255783081055,
          -4.7322163581848145,
          2.1906025409698486,
          -5.873683929443359,
          0.8491367697715759,
          6.85459566116333,
          0.5442060828208923,
          -3.072650194168091,
          0.5037893056869507,
          0.8145993947982788,
          -5.708426475524902,
          2.7514352798461914,
          2.9128341674804688,
          1.63055419921875,
          1.1865960359573364,
          -3.367990732192993,
          -2.1973876953125,
          -0.026918279007077217,
          -3.0073366165161133,
          3.876760482788086,
          -5.442028045654297,
          2.0900216102600098,
          1.3186067342758179,
          3.2252793312072754,
          -0.32391366362571716,
          -1.511949896812439,
          -0.6675147414207458,
          -7.102513790130615,
          3.5016095638275146,
          7.223977088928223,
          2.6041815280914307,
          3.512681484222412,
          -7.572926044464111,
          -4.843663692474365,
          4.002521514892578,
          5.800339221954346,
          0.9997870326042175,
          5.356679916381836,
          -1.4770557880401611,
          -2.607539415359497,
          -0.9072059988975525,
          -8.14231014251709,
          -2.0609209537506104,
          3.3791568279266357,
          0.6315394639968872,
          2.3263611793518066,
          -0.9562150239944458,
          1.044632077217102,
          3.4932303428649902,
          0.7598540186882019,
          -0.4795309603214264,
          2.166438341140747,
          -3.7615814208984375,
          -0.35850954055786133,
          4.027750015258789,
          -3.1966629028320312,
          6.767491817474365,
          6.1748175621032715,
          -3.2402501106262207,
          1.8605141639709473,
          -0.23284021019935608,
          -3.080930233001709,
          -0.05090704187750816,
          -1.2733216285705566,
          3.020143985748291,
          -1.190185546875,
          -5.809018611907959,
          -2.258040189743042,
          3.4118940830230713,
          -1.2448370456695557,
          0.26713940501213074,
          -2.192336320877075,
          1.3990250825881958,
          -6.111449718475342,
          -1.47197425365448,
          0.6092656850814819,
          -7.72549295425415,
          -0.12379689514636993,
          0.27395138144493103,
          -3.325526714324951,
          2.648437738418579,
          5.618717193603516,
          -0.06962525844573975,
          -0.7230697274208069,
          -3.961728572845459,
          -2.230288028717041,
          1.3803480863571167,
          7.191122055053711,
          2.6154239177703857,
          5.752739429473877,
          5.878082752227783,
          4.236801624298096,
          -1.3698008060455322,
          4.424377918243408,
          1.4836382865905762,
          3.966003894805908,
          0.45673978328704834,
          -4.892372131347656,
          -6.0013933181762695,
          -4.682647228240967,
          3.5654258728027344,
          -1.5183895826339722,
          -5.855151176452637,
          -0.7013302445411682,
          -4.438520431518555,
          1.8156849145889282,
          7.812333583831787,
          -1.1389999389648438,
          -3.254561185836792,
          1.435173749923706,
          -5.530542850494385,
          -1.4382721185684204,
          -1.0103647708892822,
          3.003891706466675,
          -3.3212084770202637,
          4.815073013305664,
          7.846604347229004,
          3.2393834590911865,
          1.5595927238464355,
          8.080130577087402,
          0.5416241884231567,
          6.233193397521973,
          -0.6027884483337402,
          -1.5896435976028442,
          0.4957721531391144,
          2.9055192470550537,
          -0.22712615132331848,
          4.452539443969727,
          -0.973812997341156,
          5.2224016189575195,
          2.7574729919433594,
          -4.789912223815918,
          1.7920236587524414,
          0.5512727499008179,
          -4.905947208404541,
          -1.0462816953659058,
          -6.100121021270752,
          1.276222825050354,
          -3.5373005867004395,
          -0.40650394558906555,
          0.3735138475894928,
          3.7548255920410156,
          4.605790138244629,
          -0.6523125767707825,
          0.3418879210948944,
          -3.060283660888672,
          3.229363441467285,
          -2.1824562549591064,
          0.6246405839920044,
          3.243645191192627,
          -4.013198375701904,
          2.334576368331909,
          -3.039496421813965,
          5.780010223388672,
          -2.9916019439697266,
          -6.827357769012451,
          2.7585713863372803,
          3.454636573791504,
          5.028783798217773,
          2.737844467163086,
          2.9696249961853027,
          -0.6237567663192749,
          2.4559996128082275,
          4.813529968261719,
          2.464895725250244,
          5.424107551574707,
          3.5016210079193115,
          2.050449848175049,
          -1.1333509683609009,
          -0.05675484240055084,
          2.092764377593994,
          0.7311356067657471,
          -1.1016422510147095,
          5.862002849578857,
          -4.868874549865723,
          5.945861339569092,
          0.3540119230747223,
          6.365788459777832,
          1.6639058589935303,
          -2.798659324645996,
          2.5439438819885254,
          -0.04809398949146271,
          1.4611178636550903,
          -2.9034972190856934,
          -2.7528934478759766,
          3.502408742904663,
          0.9072802066802979,
          2.969266891479492,
          -1.262203574180603,
          9.294316291809082,
          0.1958180069923401,
          -3.5720479488372803,
          -2.813462257385254,
          4.646657943725586,
          -3.473602056503296,
          -2.1135480403900146,
          -6.3372883796691895,
          3.791348695755005,
          0.33779820799827576,
          1.808401107788086,
          3.171743392944336
         ]
        },
        {
         "hovertemplate": "label=mgood<br>tsne_3D_0=%{x}<br>tsne_3D_1=%{y}<br>tsne_3D_2=%{z}<extra></extra>",
         "legendgroup": "mgood",
         "marker": {
          "color": "#EF553B",
          "opacity": 0.5,
          "size": 4,
          "symbol": "circle"
         },
         "mode": "markers",
         "name": "mgood",
         "scene": "scene",
         "showlegend": true,
         "type": "scatter3d",
         "x": [
          -4.002982139587402,
          0.7263964414596558,
          3.299558401107788,
          8.830862045288086,
          8.684435844421387,
          -4.10696268081665,
          -3.1987667083740234,
          1.828538179397583,
          -4.423017501831055,
          -9.94069766998291,
          -8.098688125610352,
          12.827194213867188,
          2.425081729888916,
          -3.215449810028076,
          13.245699882507324,
          1.6014978885650635,
          -0.4444299638271332,
          8.73512077331543,
          0.7438945770263672,
          8.138129234313965,
          3.3609068393707275,
          1.9710279703140259,
          -3.9151360988616943,
          1.5230746269226074,
          -4.813777446746826,
          0.5280171036720276,
          -5.724865913391113,
          -5.107056617736816,
          11.088651657104492,
          -0.22539584338665009,
          -3.6506149768829346,
          -5.6940202713012695,
          -4.029764175415039,
          1.9355182647705078,
          -3.0202996730804443,
          -10.409125328063965,
          -7.408083438873291,
          0.26017674803733826,
          -2.8419013023376465,
          7.699542999267578,
          5.689552307128906,
          0.8744823336601257,
          -0.8862925171852112,
          -5.200551509857178,
          0.6342669725418091,
          -7.409240245819092,
          -4.557878494262695,
          -9.082212448120117,
          1.9018051624298096,
          -3.6441426277160645,
          12.183692932128906,
          -1.6872844696044922,
          2.657241106033325,
          3.31343674659729,
          9.853694915771484,
          0.4537290632724762,
          -0.8694256544113159,
          -3.963291645050049,
          -2.149367094039917,
          -7.720935821533203,
          5.005387306213379,
          -1.1179207563400269,
          -11.482645988464355,
          -7.096190929412842,
          -0.015207909978926182,
          -12.254594802856445,
          -6.541326999664307,
          4.099684715270996,
          -3.2660741806030273,
          -3.2660741806030273,
          0.7313142418861389,
          -3.0834224224090576,
          1.3223906755447388,
          6.914885997772217,
          -8.922300338745117,
          1.0720175504684448,
          10.17814826965332,
          -7.6922478675842285,
          -0.9114934206008911,
          7.490909099578857,
          -15.00976848602295,
          -1.6016275882720947,
          -7.66094970703125,
          -1.1765583753585815,
          -5.793277263641357,
          -4.533044338226318,
          -4.337409973144531,
          2.8482630252838135,
          -7.148646831512451,
          2.3916285037994385,
          2.4995462894439697,
          -4.235935211181641,
          1.4991711378097534,
          2.473266839981079,
          2.4402122497558594,
          5.071617126464844,
          -2.195930242538452,
          6.624074935913086,
          6.624066352844238,
          -5.3595967292785645,
          -5.359635353088379,
          6.458620548248291,
          0.4297736883163452,
          3.8736491203308105,
          5.051571369171143
         ],
         "y": [
          9.550052642822266,
          1.9977672100067139,
          6.682921409606934,
          1.0626012086868286,
          -2.7718114852905273,
          -9.065128326416016,
          -1.0015923976898193,
          -6.767605781555176,
          -11.839714050292969,
          1.4276553392410278,
          12.481074333190918,
          -3.2278411388397217,
          -9.841468811035156,
          6.043976783752441,
          -4.339096546173096,
          -7.2256669998168945,
          1.4195866584777832,
          -3.110365390777588,
          -0.9006397724151611,
          -4.977499961853027,
          -11.153816223144531,
          -6.896164894104004,
          -2.6418704986572266,
          8.687196731567383,
          -13.564594268798828,
          7.559767723083496,
          4.837136268615723,
          -14.710415840148926,
          0.2070002257823944,
          -12.292306900024414,
          3.217634677886963,
          7.960456371307373,
          -0.1527688354253769,
          -4.957157135009766,
          -10.105635643005371,
          7.917311191558838,
          -8.600027084350586,
          11.957986831665039,
          -4.434007167816162,
          -9.14754581451416,
          8.66369915008545,
          8.725478172302246,
          -4.262885570526123,
          -9.553330421447754,
          -13.300464630126953,
          -5.225273609161377,
          6.75514554977417,
          11.716076850891113,
          -6.888434410095215,
          -3.8190455436706543,
          -1.9417892694473267,
          -7.230851650238037,
          9.50279426574707,
          -8.794733047485352,
          -4.531844615936279,
          6.019309997558594,
          -15.267367362976074,
          -5.963634014129639,
          -0.48432400822639465,
          -2.3839521408081055,
          -6.161710262298584,
          -6.7356672286987305,
          -4.634162902832031,
          -3.2793562412261963,
          -11.230620384216309,
          -8.587080955505371,
          4.527560710906982,
          -8.576208114624023,
          8.228212356567383,
          8.228212356567383,
          12.069855690002441,
          -8.90141773223877,
          -9.17327880859375,
          7.894937992095947,
          -6.440197944641113,
          -12.28538990020752,
          -2.3102355003356934,
          -3.9438600540161133,
          -15.323391914367676,
          -4.337496757507324,
          5.769199371337891,
          -3.016658067703247,
          -1.9035536050796509,
          -6.87595272064209,
          -8.136458396911621,
          -5.471194744110107,
          -13.548999786376953,
          -4.9386210441589355,
          1.6834529638290405,
          10.949512481689453,
          -10.701568603515625,
          -4.691219806671143,
          -9.243185997009277,
          7.456234455108643,
          -11.410778999328613,
          7.805573463439941,
          -1.1642694473266602,
          4.128094673156738,
          4.128113746643066,
          9.064644813537598,
          9.064604759216309,
          -9.944230079650879,
          -13.007617950439453,
          3.7140986919403076,
          -9.274545669555664
         ],
         "z": [
          1.1210107803344727,
          -3.4126574993133545,
          0.6093384623527527,
          0.011036628857254982,
          -2.008805513381958,
          -2.3597464561462402,
          -6.270959377288818,
          -6.279967784881592,
          -5.887951374053955,
          2.329261541366577,
          -2.0811221599578857,
          3.5745348930358887,
          -5.111319065093994,
          1.039981722831726,
          3.7960309982299805,
          1.1891249418258667,
          -0.518592894077301,
          2.4677023887634277,
          0.2891328036785126,
          1.631105899810791,
          -4.262874603271484,
          -6.088510990142822,
          1.386348843574524,
          4.848898410797119,
          -0.9992532730102539,
          3.3274052143096924,
          4.449795246124268,
          -3.300363779067993,
          -0.9764689803123474,
          -2.0608103275299072,
          0.5088012218475342,
          6.697058200836182,
          4.266883850097656,
          -4.4598307609558105,
          1.758201241493225,
          7.414966106414795,
          2.767512321472168,
          -0.1796143800020218,
          7.479280948638916,
          0.1802327185869217,
          -1.5228389501571655,
          1.0547878742218018,
          -7.258124828338623,
          -2.3171274662017822,
          -3.724992036819458,
          4.662051200866699,
          -3.776618242263794,
          -1.1209938526153564,
          -5.968804836273193,
          8.079029083251953,
          1.7906328439712524,
          5.357797145843506,
          2.890291690826416,
          -2.5076889991760254,
          1.5444667339324951,
          4.959161281585693,
          -3.5205867290496826,
          2.9512336254119873,
          -4.282971382141113,
          -2.766011953353882,
          -0.6216486096382141,
          4.637266635894775,
          0.5908645391464233,
          -0.5530317425727844,
          -4.028784275054932,
          -1.9564369916915894,
          3.48305344581604,
          -4.193788051605225,
          2.272303342819214,
          2.272303342819214,
          3.0856709480285645,
          -2.182746648788452,
          -2.5871429443359375,
          -1.9753553867340088,
          0.27163374423980713,
          -1.5086078643798828,
          -0.7876054644584656,
          -3.180604934692383,
          -3.4151976108551025,
          -3.9905176162719727,
          -2.9200994968414307,
          2.35559344291687,
          -3.8259010314941406,
          6.586596965789795,
          -5.274060249328613,
          -2.5972957611083984,
          -1.9431403875350952,
          -7.367617607116699,
          -1.4078688621520996,
          2.387803316116333,
          -5.869941234588623,
          -2.002831220626831,
          -5.494695663452148,
          3.0902304649353027,
          -1.5446697473526,
          0.4859391748905182,
          -5.767424583435059,
          -2.55446720123291,
          -2.5544769763946533,
          -1.0971930027008057,
          -1.0972018241882324,
          0.8940048813819885,
          -3.2510464191436768,
          1.7188867330551147,
          -3.0941731929779053
         ]
        },
        {
         "hovertemplate": "label=mbad<br>tsne_3D_0=%{x}<br>tsne_3D_1=%{y}<br>tsne_3D_2=%{z}<extra></extra>",
         "legendgroup": "mbad",
         "marker": {
          "color": "#00cc96",
          "opacity": 0.5,
          "size": 4,
          "symbol": "circle"
         },
         "mode": "markers",
         "name": "mbad",
         "scene": "scene",
         "showlegend": true,
         "type": "scatter3d",
         "x": [
          6.666708946228027,
          2.8724095821380615,
          -6.42996072769165,
          -3.429250478744507,
          6.969413757324219,
          -1.7187561988830566,
          11.16817855834961,
          2.3271379470825195,
          9.24001693725586,
          4.396924018859863,
          0.2591715455055237,
          10.678400039672852,
          11.005243301391602,
          -3.4788618087768555,
          1.6669467687606812,
          11.846498489379883,
          -11.864020347595215,
          10.33364486694336,
          6.689676761627197,
          1.3382594585418701,
          -0.44981521368026733,
          5.446779727935791,
          7.830776691436768,
          1.8435006141662598,
          -5.040796756744385,
          3.8067548274993896,
          5.82996129989624,
          4.645223617553711,
          3.8438522815704346,
          4.891928195953369,
          -9.926459312438965,
          12.004154205322266,
          -14.237956047058105,
          9.811163902282715,
          7.2552595138549805,
          11.453476905822754,
          8.573232650756836,
          5.335268020629883,
          7.651793479919434,
          7.670924186706543,
          -0.6221430897712708,
          12.097904205322266,
          11.353376388549805,
          7.7729716300964355,
          6.806309700012207,
          -5.8509674072265625,
          10.141035079956055,
          8.39425277709961,
          4.593482494354248,
          6.459941864013672,
          4.038581371307373,
          7.756641864776611,
          10.96922492980957,
          0.22951029241085052,
          11.098163604736328,
          11.598774909973145,
          5.193309307098389,
          6.303816795349121,
          0.6887510418891907,
          -8.991490364074707,
          8.210257530212402,
          9.052550315856934,
          5.684050559997559,
          11.727545738220215,
          6.855585098266602,
          6.532934188842773,
          9.041707992553711,
          11.407384872436523,
          11.849531173706055,
          13.525436401367188,
          10.365019798278809,
          11.75987434387207,
          6.058573246002197,
          2.8641738891601562,
          7.030369281768799,
          0.03185544162988663,
          10.904191017150879,
          6.497541427612305,
          8.49575424194336,
          7.006985187530518,
          7.92566442489624,
          6.120682239532471,
          -0.9690557718276978,
          7.8831682205200195,
          7.796111583709717,
          4.930320739746094,
          5.227410316467285,
          10.77881908416748,
          2.3496086597442627,
          8.190789222717285,
          5.164717674255371,
          4.248398780822754,
          13.660025596618652,
          8.527239799499512,
          8.923690795898438,
          0.8455180525779724,
          13.139857292175293,
          11.801206588745117,
          2.236307144165039,
          12.785938262939453,
          8.521522521972656,
          9.14771556854248,
          8.567142486572266,
          10.712600708007812,
          11.789450645446777,
          11.331282615661621,
          11.428945541381836,
          0.09030219912528992,
          12.933794975280762,
          2.820976972579956,
          6.8768157958984375,
          6.334644794464111,
          6.334644794464111,
          12.071207046508789,
          10.266568183898926,
          13.229177474975586,
          5.711915016174316,
          9.50130558013916
         ],
         "y": [
          0.22436349093914032,
          -4.850272178649902,
          9.414402961730957,
          -8.349382400512695,
          -0.6450008153915405,
          -3.4140331745147705,
          -3.6518540382385254,
          -13.790499687194824,
          -5.306297302246094,
          1.7978371381759644,
          -16.046499252319336,
          -6.627748012542725,
          0.3086174726486206,
          -7.942026615142822,
          -6.982213020324707,
          -5.155378341674805,
          5.291304588317871,
          -5.362318992614746,
          -5.786751747131348,
          3.536207675933838,
          -13.776205062866211,
          0.5598297715187073,
          -2.8927292823791504,
          0.9354612231254578,
          -11.984564781188965,
          -3.281602621078491,
          -3.778826951980591,
          2.498115062713623,
          -12.41277027130127,
          -3.352614641189575,
          -9.19080924987793,
          -2.3756096363067627,
          -6.258059978485107,
          -5.894144535064697,
          1.9267140626907349,
          -4.379825115203857,
          -2.9410600662231445,
          3.06960391998291,
          -1.9993057250976562,
          -5.106592178344727,
          -5.052452564239502,
          -7.482558250427246,
          -4.472667217254639,
          -6.107789516448975,
          -11.11595630645752,
          -13.21776008605957,
          -5.555493354797363,
          -0.15543945133686066,
          -9.50088882446289,
          6.709544658660889,
          -2.9970293045043945,
          -5.159836292266846,
          -3.8033883571624756,
          -16.08430290222168,
          -2.2311322689056396,
          -4.551941394805908,
          -9.632984161376953,
          -5.280221939086914,
          -15.852253913879395,
          -4.740048885345459,
          -6.873892307281494,
          -3.0465352535247803,
          11.489245414733887,
          -5.840751647949219,
          -9.164118766784668,
          6.082210063934326,
          -3.2076187133789062,
          -1.3427213430404663,
          -7.95051908493042,
          -4.601109027862549,
          -7.5023932456970215,
          -5.7302656173706055,
          -4.259335041046143,
          -0.741939127445221,
          -5.663118839263916,
          0.11706111580133438,
          -7.382709980010986,
          -8.168618202209473,
          0.04042194411158562,
          0.3842379152774811,
          -6.942638397216797,
          0.630282461643219,
          -15.904961585998535,
          -5.0872015953063965,
          -1.8344104290008545,
          -5.866662502288818,
          -0.3010084927082062,
          -3.3551688194274902,
          -6.453258514404297,
          1.8680198192596436,
          0.4675222933292389,
          -3.7574148178100586,
          -4.48128080368042,
          0.4369165301322937,
          -1.2035735845565796,
          -13.062474250793457,
          -1.8878897428512573,
          -3.114675283432007,
          -6.840335845947266,
          -1.7426034212112427,
          -1.6665372848510742,
          -1.9686098098754883,
          -7.273219585418701,
          -2.1824545860290527,
          -6.2727484703063965,
          -8.067151069641113,
          -2.721632242202759,
          -13.2644681930542,
          -3.016359806060791,
          -5.522887229919434,
          0.3204277455806732,
          -4.403463840484619,
          -4.403463840484619,
          -8.026774406433105,
          -5.106363773345947,
          -1.6794649362564087,
          -7.65349006652832,
          -5.913273811340332
         ],
         "z": [
          -1.5887460708618164,
          -0.20208266377449036,
          1.4949638843536377,
          1.7843714952468872,
          -2.891242742538452,
          2.2293171882629395,
          -3.5279529094696045,
          -5.301687240600586,
          -2.1560535430908203,
          0.3857707679271698,
          -5.027611255645752,
          -5.06041955947876,
          -1.2786169052124023,
          2.728778839111328,
          -7.906325817108154,
          -1.1272982358932495,
          -2.795353651046753,
          -3.276216506958008,
          -5.358883380889893,
          1.9102249145507812,
          -0.7197557091712952,
          0.6796740293502808,
          -3.663261890411377,
          7.3453569412231445,
          -1.6980904340744019,
          -6.575953960418701,
          -7.678635120391846,
          0.24394848942756653,
          -2.1877737045288086,
          -5.029709815979004,
          -2.8402974605560303,
          -1.1787513494491577,
          -1.1800888776779175,
          -3.609840154647827,
          -0.6768525838851929,
          1.013487696647644,
          -2.7568936347961426,
          -0.28845006227493286,
          -2.884502410888672,
          -6.602160930633545,
          7.128323078155518,
          -1.5010547637939453,
          -0.7630331516265869,
          -6.162112236022949,
          -2.1837308406829834,
          -3.287177801132202,
          -3.52176570892334,
          -3.638681173324585,
          -2.9853386878967285,
          6.1756591796875,
          -6.735517501831055,
          -6.602517127990723,
          -2.7525861263275146,
          -5.191932678222656,
          -2.6930389404296875,
          1.0968939065933228,
          -3.257253646850586,
          -5.033724784851074,
          -0.692808210849762,
          -4.790274620056152,
          -3.924889087677002,
          -1.0361638069152832,
          -0.13488657772541046,
          2.1154403686523438,
          -5.8603515625,
          6.130825519561768,
          -2.8887197971343994,
          -2.2735471725463867,
          -2.4032039642333984,
          -1.6442400217056274,
          -0.4802262783050537,
          -4.256309509277344,
          -5.20982027053833,
          -2.0601325035095215,
          -6.4230852127075195,
          -1.045408844947815,
          -1.4664865732192993,
          -4.781552791595459,
          -1.790234923362732,
          -3.7217085361480713,
          -2.8203165531158447,
          -1.9493687152862549,
          -3.6454427242279053,
          -3.382617235183716,
          -1.5289900302886963,
          0.35843127965927124,
          -3.003749132156372,
          -4.032297611236572,
          -7.9814982414245605,
          -0.7622270584106445,
          -1.167551040649414,
          -5.957995414733887,
          -0.25258249044418335,
          0.35679855942726135,
          -4.337772846221924,
          -3.391101121902466,
          0.0384637676179409,
          -2.3474936485290527,
          3.381491184234619,
          4.092212200164795,
          -1.649483561515808,
          -3.695641279220581,
          3.1237478256225586,
          -1.6842998266220093,
          -1.4461121559143066,
          -2.6349244117736816,
          -4.848113059997559,
          -7.0248541831970215,
          0.6698106527328491,
          -4.5134453773498535,
          -1.3808741569519043,
          -4.833250999450684,
          -4.833250999450684,
          -2.4742448329925537,
          -4.761154651641846,
          0.5236619114875793,
          -5.518901348114014,
          -4.447808265686035
         ]
        },
        {
         "hovertemplate": "label=bad<br>tsne_3D_0=%{x}<br>tsne_3D_1=%{y}<br>tsne_3D_2=%{z}<extra></extra>",
         "legendgroup": "bad",
         "marker": {
          "color": "#ab63fa",
          "opacity": 0.5,
          "size": 4,
          "symbol": "circle"
         },
         "mode": "markers",
         "name": "bad",
         "scene": "scene",
         "showlegend": true,
         "type": "scatter3d",
         "x": [
          4.3158111572265625,
          5.170888900756836,
          0.8050926923751831,
          10.817991256713867,
          4.8869194984436035,
          11.924447059631348,
          -10.831294059753418,
          3.7426047325134277,
          10.33759880065918,
          1.109917163848877,
          12.236225128173828,
          8.950109481811523,
          9.01600456237793,
          -5.519440650939941,
          10.459203720092773,
          6.579708576202393,
          8.092440605163574,
          2.3203601837158203,
          12.910934448242188,
          11.204338073730469,
          14.118467330932617,
          11.118108749389648,
          8.752269744873047,
          7.5523762702941895,
          11.23558235168457,
          11.348899841308594,
          5.236711502075195,
          -9.646578788757324,
          8.403559684753418,
          11.787179946899414,
          -0.10899926722049713,
          7.7464375495910645,
          7.893886566162109,
          -6.858362674713135,
          9.393096923828125,
          -0.1618465632200241,
          13.500778198242188,
          9.536468505859375,
          14.024538040161133,
          10.914813041687012,
          11.049549102783203,
          5.724407196044922,
          11.435251235961914,
          12.325953483581543,
          13.830976486206055,
          3.607754945755005,
          -5.036990165710449,
          -8.035244941711426,
          11.036116600036621,
          12.582276344299316,
          3.8387718200683594,
          3.2260568141937256,
          9.198704719543457,
          11.546767234802246,
          13.03954029083252,
          6.778778076171875,
          1.1367064714431763,
          10.223843574523926,
          8.579911231994629,
          10.271602630615234,
          9.716526985168457,
          -4.588322639465332,
          9.446928977966309,
          9.54695987701416,
          -0.6560845375061035,
          10.70998764038086,
          7.509000778198242,
          2.418426752090454,
          12.68171215057373,
          1.4890697002410889,
          12.248409271240234,
          12.671173095703125,
          9.00174617767334,
          13.934671401977539,
          -0.922050952911377,
          10.64396858215332,
          7.36121129989624,
          11.61789608001709,
          6.1623945236206055,
          11.9849853515625,
          8.31520938873291,
          8.380825996398926,
          8.797061920166016,
          6.71234130859375
         ],
         "y": [
          -4.235674858093262,
          0.8018370270729065,
          -7.338715076446533,
          -5.581912994384766,
          -4.973573684692383,
          -7.054893493652344,
          -8.053634643554688,
          2.170125722885132,
          -4.491137504577637,
          -12.899789810180664,
          0.22014251351356506,
          -1.7221152782440186,
          -0.8670424818992615,
          -11.954224586486816,
          -2.951871633529663,
          -4.6119771003723145,
          3.904048442840576,
          -6.708808898925781,
          -1.811618685722351,
          1.9476643800735474,
          -3.4621188640594482,
          1.9703834056854248,
          -0.8195342421531677,
          -5.2564592361450195,
          -1.8085124492645264,
          -0.5853404402732849,
          -0.29726555943489075,
          12.648073196411133,
          -8.848983764648438,
          2.1753532886505127,
          2.7123911380767822,
          -6.401125907897949,
          -1.0053353309631348,
          5.5137410163879395,
          -3.775878667831421,
          2.9441184997558594,
          -4.3297224044799805,
          -5.198780059814453,
          -3.4758970737457275,
          -4.595257759094238,
          -6.296316146850586,
          -3.8558876514434814,
          -2.4279017448425293,
          -2.2542011737823486,
          -4.114612579345703,
          -2.2194104194641113,
          -6.287826061248779,
          -0.4573640525341034,
          -7.18283224105835,
          -3.2998063564300537,
          -11.488247871398926,
          -0.35209012031555176,
          -5.665480613708496,
          -2.302752733230591,
          -4.393796443939209,
          -6.070030212402344,
          1.934213638305664,
          -1.8288732767105103,
          -1.1414272785186768,
          -1.7537685632705688,
          0.6332889199256897,
          -2.0104644298553467,
          -1.541314721107483,
          -5.797821521759033,
          -16.288990020751953,
          -2.124742031097412,
          -5.1462225914001465,
          -2.169417142868042,
          -0.6052601337432861,
          0.8896381855010986,
          -0.31960198283195496,
          -3.1666669845581055,
          -4.848546028137207,
          -1.858034372329712,
          -4.379039764404297,
          0.8339478969573975,
          -10.260063171386719,
          -6.007577419281006,
          -8.071609497070312,
          0.6894328594207764,
          2.2443580627441406,
          0.41259765625,
          -7.376502513885498,
          0.38338521122932434
         ],
         "z": [
          1.1746747493743896,
          0.4034825265407562,
          -6.319676876068115,
          -3.9329888820648193,
          -7.692259788513184,
          -0.8420273065567017,
          1.8713841438293457,
          -0.3567047119140625,
          -4.622544765472412,
          -3.078575372695923,
          0.4716063141822815,
          -5.1664910316467285,
          -3.9363510608673096,
          -1.2441096305847168,
          -1.8375391960144043,
          -4.991082668304443,
          1.1923986673355103,
          3.601557731628418,
          -4.973155975341797,
          -1.9914538860321045,
          1.0544512271881104,
          -2.273982286453247,
          -3.8033595085144043,
          -3.8009653091430664,
          1.5976001024246216,
          -1.052154541015625,
          -3.0048398971557617,
          2.3187215328216553,
          -1.5409036874771118,
          -1.4894168376922607,
          0.9132845401763916,
          -4.05923318862915,
          3.3198702335357666,
          -0.006967647932469845,
          -4.149110317230225,
          0.9717612266540527,
          -0.3575166165828705,
          1.3092520236968994,
          1.1385475397109985,
          -2.463336944580078,
          -2.5175564289093018,
          -7.661313056945801,
          -1.395978331565857,
          -4.896112442016602,
          1.036725401878357,
          -6.1930694580078125,
          -1.4694788455963135,
          -5.836524486541748,
          -1.2224737405776978,
          -2.493596076965332,
          -4.3538618087768555,
          6.301391124725342,
          -3.9145989418029785,
          -3.369189739227295,
          0.050353020429611206,
          -3.1124744415283203,
          1.523333191871643,
          -2.10742449760437,
          -0.6981939077377319,
          -1.3840069770812988,
          -3.7466795444488525,
          0.7037439942359924,
          -5.4167938232421875,
          -5.522663593292236,
          -3.0867416858673096,
          -1.592008352279663,
          -1.0303583145141602,
          -5.2672929763793945,
          -1.2868940830230713,
          4.173295974731445,
          -1.6281096935272217,
          0.18709930777549744,
          -4.461187362670898,
          0.6095507144927979,
          7.79551887512207,
          -0.46936193108558655,
          -0.5506933927536011,
          -1.6499836444854736,
          -5.0633225440979,
          -0.30494654178619385,
          -0.9453330039978027,
          0.287957102060318,
          -4.47638463973999,
          -3.6759889125823975
         ]
        }
       ],
       "layout": {
        "legend": {
         "title": {
          "text": "label"
         },
         "tracegroupgap": 0
        },
        "scene": {
         "camera": {
          "eye": {
           "x": 0.9,
           "y": 0.9,
           "z": 0.9
          }
         },
         "domain": {
          "x": [
           0,
           1
          ],
          "y": [
           0,
           1
          ]
         },
         "xaxis": {
          "title": {
           "text": "tsne_3D_0"
          }
         },
         "yaxis": {
          "title": {
           "text": "tsne_3D_1"
          }
         },
         "zaxis": {
          "title": {
           "text": "tsne_3D_2"
          }
         }
        },
        "template": {
         "data": {
          "bar": [
           {
            "error_x": {
             "color": "#2a3f5f"
            },
            "error_y": {
             "color": "#2a3f5f"
            },
            "marker": {
             "line": {
              "color": "#E5ECF6",
              "width": 0.5
             },
             "pattern": {
              "fillmode": "overlay",
              "size": 10,
              "solidity": 0.2
             }
            },
            "type": "bar"
           }
          ],
          "barpolar": [
           {
            "marker": {
             "line": {
              "color": "#E5ECF6",
              "width": 0.5
             },
             "pattern": {
              "fillmode": "overlay",
              "size": 10,
              "solidity": 0.2
             }
            },
            "type": "barpolar"
           }
          ],
          "carpet": [
           {
            "aaxis": {
             "endlinecolor": "#2a3f5f",
             "gridcolor": "white",
             "linecolor": "white",
             "minorgridcolor": "white",
             "startlinecolor": "#2a3f5f"
            },
            "baxis": {
             "endlinecolor": "#2a3f5f",
             "gridcolor": "white",
             "linecolor": "white",
             "minorgridcolor": "white",
             "startlinecolor": "#2a3f5f"
            },
            "type": "carpet"
           }
          ],
          "choropleth": [
           {
            "colorbar": {
             "outlinewidth": 0,
             "ticks": ""
            },
            "type": "choropleth"
           }
          ],
          "contour": [
           {
            "colorbar": {
             "outlinewidth": 0,
             "ticks": ""
            },
            "colorscale": [
             [
              0,
              "#0d0887"
             ],
             [
              0.1111111111111111,
              "#46039f"
             ],
             [
              0.2222222222222222,
              "#7201a8"
             ],
             [
              0.3333333333333333,
              "#9c179e"
             ],
             [
              0.4444444444444444,
              "#bd3786"
             ],
             [
              0.5555555555555556,
              "#d8576b"
             ],
             [
              0.6666666666666666,
              "#ed7953"
             ],
             [
              0.7777777777777778,
              "#fb9f3a"
             ],
             [
              0.8888888888888888,
              "#fdca26"
             ],
             [
              1,
              "#f0f921"
             ]
            ],
            "type": "contour"
           }
          ],
          "contourcarpet": [
           {
            "colorbar": {
             "outlinewidth": 0,
             "ticks": ""
            },
            "type": "contourcarpet"
           }
          ],
          "heatmap": [
           {
            "colorbar": {
             "outlinewidth": 0,
             "ticks": ""
            },
            "colorscale": [
             [
              0,
              "#0d0887"
             ],
             [
              0.1111111111111111,
              "#46039f"
             ],
             [
              0.2222222222222222,
              "#7201a8"
             ],
             [
              0.3333333333333333,
              "#9c179e"
             ],
             [
              0.4444444444444444,
              "#bd3786"
             ],
             [
              0.5555555555555556,
              "#d8576b"
             ],
             [
              0.6666666666666666,
              "#ed7953"
             ],
             [
              0.7777777777777778,
              "#fb9f3a"
             ],
             [
              0.8888888888888888,
              "#fdca26"
             ],
             [
              1,
              "#f0f921"
             ]
            ],
            "type": "heatmap"
           }
          ],
          "heatmapgl": [
           {
            "colorbar": {
             "outlinewidth": 0,
             "ticks": ""
            },
            "colorscale": [
             [
              0,
              "#0d0887"
             ],
             [
              0.1111111111111111,
              "#46039f"
             ],
             [
              0.2222222222222222,
              "#7201a8"
             ],
             [
              0.3333333333333333,
              "#9c179e"
             ],
             [
              0.4444444444444444,
              "#bd3786"
             ],
             [
              0.5555555555555556,
              "#d8576b"
             ],
             [
              0.6666666666666666,
              "#ed7953"
             ],
             [
              0.7777777777777778,
              "#fb9f3a"
             ],
             [
              0.8888888888888888,
              "#fdca26"
             ],
             [
              1,
              "#f0f921"
             ]
            ],
            "type": "heatmapgl"
           }
          ],
          "histogram": [
           {
            "marker": {
             "pattern": {
              "fillmode": "overlay",
              "size": 10,
              "solidity": 0.2
             }
            },
            "type": "histogram"
           }
          ],
          "histogram2d": [
           {
            "colorbar": {
             "outlinewidth": 0,
             "ticks": ""
            },
            "colorscale": [
             [
              0,
              "#0d0887"
             ],
             [
              0.1111111111111111,
              "#46039f"
             ],
             [
              0.2222222222222222,
              "#7201a8"
             ],
             [
              0.3333333333333333,
              "#9c179e"
             ],
             [
              0.4444444444444444,
              "#bd3786"
             ],
             [
              0.5555555555555556,
              "#d8576b"
             ],
             [
              0.6666666666666666,
              "#ed7953"
             ],
             [
              0.7777777777777778,
              "#fb9f3a"
             ],
             [
              0.8888888888888888,
              "#fdca26"
             ],
             [
              1,
              "#f0f921"
             ]
            ],
            "type": "histogram2d"
           }
          ],
          "histogram2dcontour": [
           {
            "colorbar": {
             "outlinewidth": 0,
             "ticks": ""
            },
            "colorscale": [
             [
              0,
              "#0d0887"
             ],
             [
              0.1111111111111111,
              "#46039f"
             ],
             [
              0.2222222222222222,
              "#7201a8"
             ],
             [
              0.3333333333333333,
              "#9c179e"
             ],
             [
              0.4444444444444444,
              "#bd3786"
             ],
             [
              0.5555555555555556,
              "#d8576b"
             ],
             [
              0.6666666666666666,
              "#ed7953"
             ],
             [
              0.7777777777777778,
              "#fb9f3a"
             ],
             [
              0.8888888888888888,
              "#fdca26"
             ],
             [
              1,
              "#f0f921"
             ]
            ],
            "type": "histogram2dcontour"
           }
          ],
          "mesh3d": [
           {
            "colorbar": {
             "outlinewidth": 0,
             "ticks": ""
            },
            "type": "mesh3d"
           }
          ],
          "parcoords": [
           {
            "line": {
             "colorbar": {
              "outlinewidth": 0,
              "ticks": ""
             }
            },
            "type": "parcoords"
           }
          ],
          "pie": [
           {
            "automargin": true,
            "type": "pie"
           }
          ],
          "scatter": [
           {
            "fillpattern": {
             "fillmode": "overlay",
             "size": 10,
             "solidity": 0.2
            },
            "type": "scatter"
           }
          ],
          "scatter3d": [
           {
            "line": {
             "colorbar": {
              "outlinewidth": 0,
              "ticks": ""
             }
            },
            "marker": {
             "colorbar": {
              "outlinewidth": 0,
              "ticks": ""
             }
            },
            "type": "scatter3d"
           }
          ],
          "scattercarpet": [
           {
            "marker": {
             "colorbar": {
              "outlinewidth": 0,
              "ticks": ""
             }
            },
            "type": "scattercarpet"
           }
          ],
          "scattergeo": [
           {
            "marker": {
             "colorbar": {
              "outlinewidth": 0,
              "ticks": ""
             }
            },
            "type": "scattergeo"
           }
          ],
          "scattergl": [
           {
            "marker": {
             "colorbar": {
              "outlinewidth": 0,
              "ticks": ""
             }
            },
            "type": "scattergl"
           }
          ],
          "scattermapbox": [
           {
            "marker": {
             "colorbar": {
              "outlinewidth": 0,
              "ticks": ""
             }
            },
            "type": "scattermapbox"
           }
          ],
          "scatterpolar": [
           {
            "marker": {
             "colorbar": {
              "outlinewidth": 0,
              "ticks": ""
             }
            },
            "type": "scatterpolar"
           }
          ],
          "scatterpolargl": [
           {
            "marker": {
             "colorbar": {
              "outlinewidth": 0,
              "ticks": ""
             }
            },
            "type": "scatterpolargl"
           }
          ],
          "scatterternary": [
           {
            "marker": {
             "colorbar": {
              "outlinewidth": 0,
              "ticks": ""
             }
            },
            "type": "scatterternary"
           }
          ],
          "surface": [
           {
            "colorbar": {
             "outlinewidth": 0,
             "ticks": ""
            },
            "colorscale": [
             [
              0,
              "#0d0887"
             ],
             [
              0.1111111111111111,
              "#46039f"
             ],
             [
              0.2222222222222222,
              "#7201a8"
             ],
             [
              0.3333333333333333,
              "#9c179e"
             ],
             [
              0.4444444444444444,
              "#bd3786"
             ],
             [
              0.5555555555555556,
              "#d8576b"
             ],
             [
              0.6666666666666666,
              "#ed7953"
             ],
             [
              0.7777777777777778,
              "#fb9f3a"
             ],
             [
              0.8888888888888888,
              "#fdca26"
             ],
             [
              1,
              "#f0f921"
             ]
            ],
            "type": "surface"
           }
          ],
          "table": [
           {
            "cells": {
             "fill": {
              "color": "#EBF0F8"
             },
             "line": {
              "color": "white"
             }
            },
            "header": {
             "fill": {
              "color": "#C8D4E3"
             },
             "line": {
              "color": "white"
             }
            },
            "type": "table"
           }
          ]
         },
         "layout": {
          "annotationdefaults": {
           "arrowcolor": "#2a3f5f",
           "arrowhead": 0,
           "arrowwidth": 1
          },
          "autotypenumbers": "strict",
          "coloraxis": {
           "colorbar": {
            "outlinewidth": 0,
            "ticks": ""
           }
          },
          "colorscale": {
           "diverging": [
            [
             0,
             "#8e0152"
            ],
            [
             0.1,
             "#c51b7d"
            ],
            [
             0.2,
             "#de77ae"
            ],
            [
             0.3,
             "#f1b6da"
            ],
            [
             0.4,
             "#fde0ef"
            ],
            [
             0.5,
             "#f7f7f7"
            ],
            [
             0.6,
             "#e6f5d0"
            ],
            [
             0.7,
             "#b8e186"
            ],
            [
             0.8,
             "#7fbc41"
            ],
            [
             0.9,
             "#4d9221"
            ],
            [
             1,
             "#276419"
            ]
           ],
           "sequential": [
            [
             0,
             "#0d0887"
            ],
            [
             0.1111111111111111,
             "#46039f"
            ],
            [
             0.2222222222222222,
             "#7201a8"
            ],
            [
             0.3333333333333333,
             "#9c179e"
            ],
            [
             0.4444444444444444,
             "#bd3786"
            ],
            [
             0.5555555555555556,
             "#d8576b"
            ],
            [
             0.6666666666666666,
             "#ed7953"
            ],
            [
             0.7777777777777778,
             "#fb9f3a"
            ],
            [
             0.8888888888888888,
             "#fdca26"
            ],
            [
             1,
             "#f0f921"
            ]
           ],
           "sequentialminus": [
            [
             0,
             "#0d0887"
            ],
            [
             0.1111111111111111,
             "#46039f"
            ],
            [
             0.2222222222222222,
             "#7201a8"
            ],
            [
             0.3333333333333333,
             "#9c179e"
            ],
            [
             0.4444444444444444,
             "#bd3786"
            ],
            [
             0.5555555555555556,
             "#d8576b"
            ],
            [
             0.6666666666666666,
             "#ed7953"
            ],
            [
             0.7777777777777778,
             "#fb9f3a"
            ],
            [
             0.8888888888888888,
             "#fdca26"
            ],
            [
             1,
             "#f0f921"
            ]
           ]
          },
          "colorway": [
           "#636efa",
           "#EF553B",
           "#00cc96",
           "#ab63fa",
           "#FFA15A",
           "#19d3f3",
           "#FF6692",
           "#B6E880",
           "#FF97FF",
           "#FECB52"
          ],
          "font": {
           "color": "#2a3f5f"
          },
          "geo": {
           "bgcolor": "white",
           "lakecolor": "white",
           "landcolor": "#E5ECF6",
           "showlakes": true,
           "showland": true,
           "subunitcolor": "white"
          },
          "hoverlabel": {
           "align": "left"
          },
          "hovermode": "closest",
          "mapbox": {
           "style": "light"
          },
          "paper_bgcolor": "white",
          "plot_bgcolor": "#E5ECF6",
          "polar": {
           "angularaxis": {
            "gridcolor": "white",
            "linecolor": "white",
            "ticks": ""
           },
           "bgcolor": "#E5ECF6",
           "radialaxis": {
            "gridcolor": "white",
            "linecolor": "white",
            "ticks": ""
           }
          },
          "scene": {
           "xaxis": {
            "backgroundcolor": "#E5ECF6",
            "gridcolor": "white",
            "gridwidth": 2,
            "linecolor": "white",
            "showbackground": true,
            "ticks": "",
            "zerolinecolor": "white"
           },
           "yaxis": {
            "backgroundcolor": "#E5ECF6",
            "gridcolor": "white",
            "gridwidth": 2,
            "linecolor": "white",
            "showbackground": true,
            "ticks": "",
            "zerolinecolor": "white"
           },
           "zaxis": {
            "backgroundcolor": "#E5ECF6",
            "gridcolor": "white",
            "gridwidth": 2,
            "linecolor": "white",
            "showbackground": true,
            "ticks": "",
            "zerolinecolor": "white"
           }
          },
          "shapedefaults": {
           "line": {
            "color": "#2a3f5f"
           }
          },
          "ternary": {
           "aaxis": {
            "gridcolor": "white",
            "linecolor": "white",
            "ticks": ""
           },
           "baxis": {
            "gridcolor": "white",
            "linecolor": "white",
            "ticks": ""
           },
           "bgcolor": "#E5ECF6",
           "caxis": {
            "gridcolor": "white",
            "linecolor": "white",
            "ticks": ""
           }
          },
          "title": {
           "x": 0.05
          },
          "xaxis": {
           "automargin": true,
           "gridcolor": "white",
           "linecolor": "white",
           "ticks": "",
           "title": {
            "standoff": 15
           },
           "zerolinecolor": "white",
           "zerolinewidth": 2
          },
          "yaxis": {
           "automargin": true,
           "gridcolor": "white",
           "linecolor": "white",
           "ticks": "",
           "title": {
            "standoff": 15
           },
           "zerolinecolor": "white",
           "zerolinewidth": 2
          }
         }
        },
        "title": {
         "text": "t-SNE embeddings of reviews"
        }
       }
      }
     },
     "metadata": {},
     "output_type": "display_data"
    }
   ],
   "source": [
    "# ignore PerformanceWarning\n",
    "import warnings\n",
    "from pandas.errors import PerformanceWarning\n",
    "warnings.filterwarnings(\"ignore\", category=PerformanceWarning)\n",
    "\n",
    "embeddings_df = pd.DataFrame()\n",
    "embeddings_df[\"review_id\"] = df.review_id\n",
    "embeddings_df[\"label\"] = df.label\n",
    "embeddings_df, w2v_model = embeddings_features(embeddings_df, col=\"comments\")\n",
    "\n",
    "# apply tsne to reduce to `dims` dimensions\n",
    "dims = 3\n",
    "embd_df = tsne_features(embeddings_df.drop(columns=[\"review_id\", \"label\"], axis=1), dims=dims)\n",
    "embeddings_df = embeddings_df.reset_index()\n",
    "embd_df[\"review_id\"] = embeddings_df.review_id\n",
    "embd_df[\"label\"] = embeddings_df.label\n",
    "\n",
    "# plot 3d scatter with plotly\n",
    "fig = px.scatter_3d(embd_df, x=\"tsne_3D_0\", y=\"tsne_3D_1\", z=\"tsne_3D_2\", color=\"label\", title=\"t-SNE embeddings of reviews\", )\n",
    "# make size of point smaller and opaque\n",
    "fig.update_traces(marker=dict(size=4, opacity=0.5))\n",
    "# make inital zoom bigger\n",
    "fig.update_layout(scene=dict(camera_eye=dict(x=0.9, y=0.9, z=0.9)))\n",
    "fig.show()"
   ]
  },
  {
   "attachments": {},
   "cell_type": "markdown",
   "metadata": {},
   "source": [
    "It looks like the \"mbad\" labels are mostly together. The \"mgood\" are kind of in the  middle, but there is still lots of noise of \"good\" labels in that region."
   ]
  },
  {
   "attachments": {},
   "cell_type": "markdown",
   "metadata": {},
   "source": [
    "# Generate Features"
   ]
  },
  {
   "attachments": {},
   "cell_type": "markdown",
   "metadata": {},
   "source": [
    "With what we know, let's generate some features. I've provided a function for each type of feature, so we can mix and match."
   ]
  },
  {
   "cell_type": "code",
   "execution_count": 20,
   "metadata": {},
   "outputs": [
    {
     "name": "stdout",
     "output_type": "stream",
     "text": [
      "Creating model...\n",
      "Generating embeddings...\n",
      "Creating model...\n",
      "Generating embeddings...\n",
      "Applying t-SNE... (dim=2)\n",
      "Applying t-SNE... (dim=3)\n",
      "Applying t-SNE... (dim=2)\n",
      "Applying t-SNE... (dim=3)\n",
      "Features above correlation threshold (0.09):\n",
      "['3gram09_would_not_recommend', '3gram09_no_toilet_paper', '3gram09_not_recommend_staying', '3gram09_per_night_not', '3gram09_could_not_access', '3gram09_phone_call_text', '3gram09_very_old_not', '3gram09_call_text_message', '3gram09_left_first_night', '3gram09_old_not_well', '3gram09_worse_experience_ever', '3gram09_paid_two_night', '3gram09_refund_second_night', '3gram09_expected_based_description', '3gram09_not_really_clean', '3gram09_need_deep_cleaning', '3gram09_got_no_response', '3gram09_toilet_paper_buy', '3gram09_never_met_host', '3gram09_property_management_company', '3gram09_nothing_like_picture', '3gram09_freezer_not_work', '3gram09_obviously_not_cleaned', '3gram09_shower_curtain_covered', '3gram09_never_responded_message', '3gram09_not_clean_arrived', '3gram09_not_feel_comfortable', '3gram09_very_bad_shape', '3gram09_start_good_thing', '3gram09_got_no_answer', '3gram09_time_opened_door', '3gram09_spend_lot_time', '3gram09_write_negative_review', '3gram09_need_major_overhaul', '3gram09_living_room_couch', '3gram09_sleep_bedroom_door', '3gram09_guest_not_able', '3gram09_take_cold_shower', '3gram09_place_sleep_10', '3gram09_staying_another_unit', '3gram09_told_cleaning_lady', '3gram09_big_issue_u', '3gram09_let_start_saying', '3gram09_felt_compelled_write']\n",
      "Features above correlation threshold (0.1):\n",
      "['3gram10_would_not_recommend', '3gram10_no_toilet_paper']\n",
      "Adding amenities features...\n",
      "Features above correlation threshold (0.05):\n",
      "['lockbox', 'dishwasher', 'pool', 'stove', 'keypad', 'bathtub', 'kitchen', 'balcony', 'shampoo', 'garden', 'cat', 'family', 'breakfast']\n",
      "Adding amenities features...\n",
      "(1629, 152)\n"
     ]
    },
    {
     "data": {
      "text/html": [
       "<div>\n",
       "<style scoped>\n",
       "    .dataframe tbody tr th:only-of-type {\n",
       "        vertical-align: middle;\n",
       "    }\n",
       "\n",
       "    .dataframe tbody tr th {\n",
       "        vertical-align: top;\n",
       "    }\n",
       "\n",
       "    .dataframe thead th {\n",
       "        text-align: right;\n",
       "    }\n",
       "</style>\n",
       "<table border=\"1\" class=\"dataframe\">\n",
       "  <thead>\n",
       "    <tr style=\"text-align: right;\">\n",
       "      <th></th>\n",
       "      <th>embedding_0</th>\n",
       "      <th>embedding_1</th>\n",
       "      <th>embedding_2</th>\n",
       "      <th>embedding_3</th>\n",
       "      <th>embedding_4</th>\n",
       "      <th>embedding_5</th>\n",
       "      <th>embedding_6</th>\n",
       "      <th>embedding_7</th>\n",
       "      <th>embedding_8</th>\n",
       "      <th>embedding_9</th>\n",
       "      <th>...</th>\n",
       "      <th>amenityall_silverware</th>\n",
       "      <th>amenityall_bathtub</th>\n",
       "      <th>amenityall_lockbox</th>\n",
       "      <th>amenityall_crib</th>\n",
       "      <th>amenityall_elevator</th>\n",
       "      <th>amenityall_gym</th>\n",
       "      <th>amenityall_oven</th>\n",
       "      <th>amenityall_toilet</th>\n",
       "      <th>review_id</th>\n",
       "      <th>label</th>\n",
       "    </tr>\n",
       "  </thead>\n",
       "  <tbody>\n",
       "    <tr>\n",
       "      <th>0</th>\n",
       "      <td>0.110381</td>\n",
       "      <td>0.013932</td>\n",
       "      <td>-0.136496</td>\n",
       "      <td>0.429868</td>\n",
       "      <td>-0.102424</td>\n",
       "      <td>-0.411813</td>\n",
       "      <td>0.035122</td>\n",
       "      <td>0.335738</td>\n",
       "      <td>-0.803572</td>\n",
       "      <td>-0.137466</td>\n",
       "      <td>...</td>\n",
       "      <td>0.0</td>\n",
       "      <td>0.0</td>\n",
       "      <td>0.0</td>\n",
       "      <td>0.0</td>\n",
       "      <td>0.0</td>\n",
       "      <td>0.0</td>\n",
       "      <td>0.0</td>\n",
       "      <td>0.0</td>\n",
       "      <td>83097</td>\n",
       "      <td>good</td>\n",
       "    </tr>\n",
       "    <tr>\n",
       "      <th>1</th>\n",
       "      <td>0.110381</td>\n",
       "      <td>0.013932</td>\n",
       "      <td>-0.136496</td>\n",
       "      <td>0.429868</td>\n",
       "      <td>-0.102424</td>\n",
       "      <td>-0.411813</td>\n",
       "      <td>0.035122</td>\n",
       "      <td>0.335738</td>\n",
       "      <td>-0.803572</td>\n",
       "      <td>-0.137466</td>\n",
       "      <td>...</td>\n",
       "      <td>0.0</td>\n",
       "      <td>0.0</td>\n",
       "      <td>0.0</td>\n",
       "      <td>0.0</td>\n",
       "      <td>0.0</td>\n",
       "      <td>0.0</td>\n",
       "      <td>0.0</td>\n",
       "      <td>0.0</td>\n",
       "      <td>133337</td>\n",
       "      <td>good</td>\n",
       "    </tr>\n",
       "    <tr>\n",
       "      <th>2</th>\n",
       "      <td>0.110381</td>\n",
       "      <td>0.013932</td>\n",
       "      <td>-0.136496</td>\n",
       "      <td>0.429868</td>\n",
       "      <td>-0.102424</td>\n",
       "      <td>-0.411813</td>\n",
       "      <td>0.035122</td>\n",
       "      <td>0.335738</td>\n",
       "      <td>-0.803572</td>\n",
       "      <td>-0.137466</td>\n",
       "      <td>...</td>\n",
       "      <td>0.0</td>\n",
       "      <td>0.0</td>\n",
       "      <td>0.0</td>\n",
       "      <td>0.0</td>\n",
       "      <td>0.0</td>\n",
       "      <td>0.0</td>\n",
       "      <td>0.0</td>\n",
       "      <td>0.0</td>\n",
       "      <td>150928</td>\n",
       "      <td>good</td>\n",
       "    </tr>\n",
       "    <tr>\n",
       "      <th>3</th>\n",
       "      <td>0.110381</td>\n",
       "      <td>0.013932</td>\n",
       "      <td>-0.136496</td>\n",
       "      <td>0.429868</td>\n",
       "      <td>-0.102424</td>\n",
       "      <td>-0.411813</td>\n",
       "      <td>0.035122</td>\n",
       "      <td>0.335738</td>\n",
       "      <td>-0.803572</td>\n",
       "      <td>-0.137466</td>\n",
       "      <td>...</td>\n",
       "      <td>0.0</td>\n",
       "      <td>0.0</td>\n",
       "      <td>0.0</td>\n",
       "      <td>0.0</td>\n",
       "      <td>0.0</td>\n",
       "      <td>0.0</td>\n",
       "      <td>0.0</td>\n",
       "      <td>0.0</td>\n",
       "      <td>2706775</td>\n",
       "      <td>good</td>\n",
       "    </tr>\n",
       "    <tr>\n",
       "      <th>4</th>\n",
       "      <td>0.110381</td>\n",
       "      <td>0.013932</td>\n",
       "      <td>-0.136496</td>\n",
       "      <td>0.429868</td>\n",
       "      <td>-0.102424</td>\n",
       "      <td>-0.411813</td>\n",
       "      <td>0.035122</td>\n",
       "      <td>0.335738</td>\n",
       "      <td>-0.803572</td>\n",
       "      <td>-0.137466</td>\n",
       "      <td>...</td>\n",
       "      <td>0.0</td>\n",
       "      <td>0.0</td>\n",
       "      <td>0.0</td>\n",
       "      <td>0.0</td>\n",
       "      <td>0.0</td>\n",
       "      <td>0.0</td>\n",
       "      <td>0.0</td>\n",
       "      <td>0.0</td>\n",
       "      <td>8602878</td>\n",
       "      <td>good</td>\n",
       "    </tr>\n",
       "  </tbody>\n",
       "</table>\n",
       "<p>5 rows × 152 columns</p>\n",
       "</div>"
      ],
      "text/plain": [
       "   embedding_0  embedding_1  embedding_2  embedding_3  embedding_4  \\\n",
       "0     0.110381     0.013932    -0.136496     0.429868    -0.102424   \n",
       "1     0.110381     0.013932    -0.136496     0.429868    -0.102424   \n",
       "2     0.110381     0.013932    -0.136496     0.429868    -0.102424   \n",
       "3     0.110381     0.013932    -0.136496     0.429868    -0.102424   \n",
       "4     0.110381     0.013932    -0.136496     0.429868    -0.102424   \n",
       "\n",
       "   embedding_5  embedding_6  embedding_7  embedding_8  embedding_9  ...  \\\n",
       "0    -0.411813     0.035122     0.335738    -0.803572    -0.137466  ...   \n",
       "1    -0.411813     0.035122     0.335738    -0.803572    -0.137466  ...   \n",
       "2    -0.411813     0.035122     0.335738    -0.803572    -0.137466  ...   \n",
       "3    -0.411813     0.035122     0.335738    -0.803572    -0.137466  ...   \n",
       "4    -0.411813     0.035122     0.335738    -0.803572    -0.137466  ...   \n",
       "\n",
       "   amenityall_silverware  amenityall_bathtub  amenityall_lockbox  \\\n",
       "0                    0.0                 0.0                 0.0   \n",
       "1                    0.0                 0.0                 0.0   \n",
       "2                    0.0                 0.0                 0.0   \n",
       "3                    0.0                 0.0                 0.0   \n",
       "4                    0.0                 0.0                 0.0   \n",
       "\n",
       "   amenityall_crib  amenityall_elevator  amenityall_gym  amenityall_oven  \\\n",
       "0              0.0                  0.0             0.0              0.0   \n",
       "1              0.0                  0.0             0.0              0.0   \n",
       "2              0.0                  0.0             0.0              0.0   \n",
       "3              0.0                  0.0             0.0              0.0   \n",
       "4              0.0                  0.0             0.0              0.0   \n",
       "\n",
       "   amenityall_toilet  review_id  label  \n",
       "0                0.0      83097   good  \n",
       "1                0.0     133337   good  \n",
       "2                0.0     150928   good  \n",
       "3                0.0    2706775   good  \n",
       "4                0.0    8602878   good  \n",
       "\n",
       "[5 rows x 152 columns]"
      ]
     },
     "execution_count": 20,
     "metadata": {},
     "output_type": "execute_result"
    }
   ],
   "source": [
    "features = pd.DataFrame()\n",
    "\n",
    "# get the embeddings\n",
    "embeddings_comments, w2vmodel_comments = embeddings_features(features, col=\"comments\")\n",
    "embeddings_description, w2vmodel_description = embeddings_features(features, col=\"description\")\n",
    "\n",
    "# apply tsne to reduce to 2 and 3 dimensions\n",
    "for embedding_type, embeddings in zip([\"comments\", \"description\"], [embeddings_comments, embeddings_description]):\n",
    "    tsne2 = tsne_features(embeddings, dims=2, prefix=f\"tsne2_{embedding_type}_\")\n",
    "    tsne3 = tsne_features(embeddings, dims=3, prefix=f\"tsne3_{embedding_type}_\")\n",
    "    # combine the tsne features\n",
    "    features = pd.concat([features, tsne2, tsne3], axis=1)\n",
    "\n",
    "# get 3-grams with 0.09  and 0.1 correlation thresholds\n",
    "features = ngrams_features(features, n=3, corr_thresh=0.09, prefix=\"3gram09_\")\n",
    "features = ngrams_features(features, n=3, corr_thresh=0.1, prefix=\"3gram10_\")\n",
    "\n",
    "# get the amenities\n",
    "features = amenities_features(features, corr_thresh=0.05, prefix=\"amenity005_\")\n",
    "features = amenities_features(features, corr_thresh=None, prefix=\"amenityall_\")\n",
    "\n",
    "# fill missing values with 0\n",
    "features = features.fillna(0)\n",
    "\n",
    "features[\"review_id\"] = df.review_id\n",
    "features[\"label\"] = df.label\n",
    "\n",
    "print(features.shape)\n",
    "\n",
    "features.head()"
   ]
  },
  {
   "attachments": {},
   "cell_type": "markdown",
   "metadata": {},
   "source": [
    "## Save the features"
   ]
  },
  {
   "attachments": {},
   "cell_type": "markdown",
   "metadata": {},
   "source": [
    "Here we will save the features to a csv. We will also save the trained word2vec model, so we can use it later."
   ]
  },
  {
   "cell_type": "code",
   "execution_count": 22,
   "metadata": {},
   "outputs": [],
   "source": [
    "# drop the emeddings features\n",
    "embd_cols = [col for col in features.columns if \"embedding_\" in col]\n",
    "features = features.drop(embd_cols, axis=1)"
   ]
  },
  {
   "cell_type": "code",
   "execution_count": 23,
   "metadata": {},
   "outputs": [],
   "source": [
    "if isinstance(GEO, list):\n",
    "    geo_display_name = \"_\".join(GEO)\n",
    "else:\n",
    "    geo_display_name = GEO\n",
    "\n",
    "features.to_csv(f\"../../data/processed/features_{geo_display_name}.csv\", index=False)"
   ]
  },
  {
   "cell_type": "code",
   "execution_count": 24,
   "metadata": {},
   "outputs": [],
   "source": [
    "# save the w2v models\n",
    "w2vmodel_comments.save(f\"../../models/w2vmodel_comments_{geo_display_name}.model\")\n",
    "w2vmodel_description.save(f\"../../models/w2vmodel_description_{geo_display_name}.model\")"
   ]
  },
  {
   "cell_type": "code",
   "execution_count": null,
   "metadata": {},
   "outputs": [],
   "source": []
  }
 ],
 "metadata": {
  "kernelspec": {
   "display_name": "venv",
   "language": "python",
   "name": "python3"
  },
  "language_info": {
   "codemirror_mode": {
    "name": "ipython",
    "version": 3
   },
   "file_extension": ".py",
   "mimetype": "text/x-python",
   "name": "python",
   "nbconvert_exporter": "python",
   "pygments_lexer": "ipython3",
   "version": "3.10.4"
  },
  "orig_nbformat": 4,
  "vscode": {
   "interpreter": {
    "hash": "cf086def782804284d24881115c612afdcc8ea791299ba67855f0c7f1a9ccc5a"
   }
  }
 },
 "nbformat": 4,
 "nbformat_minor": 2
}
