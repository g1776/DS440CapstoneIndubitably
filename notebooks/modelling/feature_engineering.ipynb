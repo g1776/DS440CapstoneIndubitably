{
 "cells": [
  {
   "attachments": {},
   "cell_type": "markdown",
   "metadata": {},
   "source": [
    "## Feature Engineering on the processed dataset"
   ]
  },
  {
   "cell_type": "code",
   "execution_count": 1,
   "metadata": {},
   "outputs": [],
   "source": [
    "import pandas as pd\n",
    "import numpy as np\n",
    "import matplotlib.pyplot as plt\n",
    "import plotly.express as px"
   ]
  },
  {
   "cell_type": "code",
   "execution_count": 2,
   "metadata": {},
   "outputs": [
    {
     "name": "stdout",
     "output_type": "stream",
     "text": [
      "(1546, 9)\n"
     ]
    },
    {
     "data": {
      "text/html": [
       "<div>\n",
       "<style scoped>\n",
       "    .dataframe tbody tr th:only-of-type {\n",
       "        vertical-align: middle;\n",
       "    }\n",
       "\n",
       "    .dataframe tbody tr th {\n",
       "        vertical-align: top;\n",
       "    }\n",
       "\n",
       "    .dataframe thead th {\n",
       "        text-align: right;\n",
       "    }\n",
       "</style>\n",
       "<table border=\"1\" class=\"dataframe\">\n",
       "  <thead>\n",
       "    <tr style=\"text-align: right;\">\n",
       "      <th></th>\n",
       "      <th>review_id</th>\n",
       "      <th>listing_id</th>\n",
       "      <th>description</th>\n",
       "      <th>comments</th>\n",
       "      <th>sentiment</th>\n",
       "      <th>label</th>\n",
       "      <th>name</th>\n",
       "      <th>amenities</th>\n",
       "      <th>source</th>\n",
       "    </tr>\n",
       "  </thead>\n",
       "  <tbody>\n",
       "    <tr>\n",
       "      <th>0</th>\n",
       "      <td>83097</td>\n",
       "      <td>5456</td>\n",
       "      <td>[fabulous, location, walking, convention, cent...</td>\n",
       "      <td>[sylvia, very, nice, informal, relaxed, arrive...</td>\n",
       "      <td>4.333333</td>\n",
       "      <td>good</td>\n",
       "      <td>['walk', '6th', 'rainey', 'st', 'convention', ...</td>\n",
       "      <td>[TV, Wifi, Air conditioning, Kitchen, Pets liv...</td>\n",
       "      <td>texas</td>\n",
       "    </tr>\n",
       "    <tr>\n",
       "      <th>1</th>\n",
       "      <td>133337</td>\n",
       "      <td>5456</td>\n",
       "      <td>[fabulous, location, walking, convention, cent...</td>\n",
       "      <td>[sylvia, picked, airport, gave, beautiful, eve...</td>\n",
       "      <td>4.000000</td>\n",
       "      <td>good</td>\n",
       "      <td>['walk', '6th', 'rainey', 'st', 'convention', ...</td>\n",
       "      <td>[TV, Wifi, Air conditioning, Kitchen, Pets liv...</td>\n",
       "      <td>texas</td>\n",
       "    </tr>\n",
       "    <tr>\n",
       "      <th>2</th>\n",
       "      <td>150928</td>\n",
       "      <td>5456</td>\n",
       "      <td>[fabulous, location, walking, convention, cent...</td>\n",
       "      <td>[lovely, time, enjoyed, apartment, clean, spac...</td>\n",
       "      <td>3.000000</td>\n",
       "      <td>good</td>\n",
       "      <td>['walk', '6th', 'rainey', 'st', 'convention', ...</td>\n",
       "      <td>[TV, Wifi, Air conditioning, Kitchen, Pets liv...</td>\n",
       "      <td>texas</td>\n",
       "    </tr>\n",
       "    <tr>\n",
       "      <th>3</th>\n",
       "      <td>2706775</td>\n",
       "      <td>5456</td>\n",
       "      <td>[fabulous, location, walking, convention, cent...</td>\n",
       "      <td>[sylvia, excellent, host, stayed, touch, made,...</td>\n",
       "      <td>4.500000</td>\n",
       "      <td>good</td>\n",
       "      <td>['walk', '6th', 'rainey', 'st', 'convention', ...</td>\n",
       "      <td>[TV, Wifi, Air conditioning, Kitchen, Pets liv...</td>\n",
       "      <td>texas</td>\n",
       "    </tr>\n",
       "    <tr>\n",
       "      <th>4</th>\n",
       "      <td>8602878</td>\n",
       "      <td>5456</td>\n",
       "      <td>[fabulous, location, walking, convention, cent...</td>\n",
       "      <td>[place, cute, little, self, contained, cottage...</td>\n",
       "      <td>4.000000</td>\n",
       "      <td>good</td>\n",
       "      <td>['walk', '6th', 'rainey', 'st', 'convention', ...</td>\n",
       "      <td>[TV, Wifi, Air conditioning, Kitchen, Pets liv...</td>\n",
       "      <td>texas</td>\n",
       "    </tr>\n",
       "  </tbody>\n",
       "</table>\n",
       "</div>"
      ],
      "text/plain": [
       "   review_id  listing_id                                        description  \\\n",
       "0      83097        5456  [fabulous, location, walking, convention, cent...   \n",
       "1     133337        5456  [fabulous, location, walking, convention, cent...   \n",
       "2     150928        5456  [fabulous, location, walking, convention, cent...   \n",
       "3    2706775        5456  [fabulous, location, walking, convention, cent...   \n",
       "4    8602878        5456  [fabulous, location, walking, convention, cent...   \n",
       "\n",
       "                                            comments  sentiment label  \\\n",
       "0  [sylvia, very, nice, informal, relaxed, arrive...   4.333333  good   \n",
       "1  [sylvia, picked, airport, gave, beautiful, eve...   4.000000  good   \n",
       "2  [lovely, time, enjoyed, apartment, clean, spac...   3.000000  good   \n",
       "3  [sylvia, excellent, host, stayed, touch, made,...   4.500000  good   \n",
       "4  [place, cute, little, self, contained, cottage...   4.000000  good   \n",
       "\n",
       "                                                name  \\\n",
       "0  ['walk', '6th', 'rainey', 'st', 'convention', ...   \n",
       "1  ['walk', '6th', 'rainey', 'st', 'convention', ...   \n",
       "2  ['walk', '6th', 'rainey', 'st', 'convention', ...   \n",
       "3  ['walk', '6th', 'rainey', 'st', 'convention', ...   \n",
       "4  ['walk', '6th', 'rainey', 'st', 'convention', ...   \n",
       "\n",
       "                                           amenities source  \n",
       "0  [TV, Wifi, Air conditioning, Kitchen, Pets liv...  texas  \n",
       "1  [TV, Wifi, Air conditioning, Kitchen, Pets liv...  texas  \n",
       "2  [TV, Wifi, Air conditioning, Kitchen, Pets liv...  texas  \n",
       "3  [TV, Wifi, Air conditioning, Kitchen, Pets liv...  texas  \n",
       "4  [TV, Wifi, Air conditioning, Kitchen, Pets liv...  texas  "
      ]
     },
     "execution_count": 2,
     "metadata": {},
     "output_type": "execute_result"
    }
   ],
   "source": [
    "# Read in the data\n",
    "GEO = [\"texas\", \"florida\"]\n",
    "\n",
    "if isinstance(GEO, str):\n",
    "    df = pd.read_csv(f\"../../data/processed/{GEO}_auto_processed.csv\")\n",
    "elif isinstance(GEO, list):\n",
    "    dfs = []\n",
    "    for geo in GEO:\n",
    "        df = pd.read_csv(f\"../../data/processed/{geo}_auto_processed.csv\")\n",
    "        df[\"source\"] = geo\n",
    "        dfs.append(df)\n",
    "    df = pd.concat(dfs)\n",
    "\n",
    "# eval list columns\n",
    "df.description = df.description.apply(lambda x: eval(x))\n",
    "df.comments = df.comments.apply(lambda x: eval(x))\n",
    "df.amenities = df.amenities.apply(lambda x: eval(x))\n",
    "\n",
    "df.reset_index(drop=True, inplace=True)\n",
    "\n",
    "print(df.shape)\n",
    "df.head()"
   ]
  },
  {
   "attachments": {},
   "cell_type": "markdown",
   "metadata": {},
   "source": [
    "### Distribution of labels"
   ]
  },
  {
   "attachments": {},
   "cell_type": "markdown",
   "metadata": {},
   "source": [
    "First, let's look at the distribution of labels in the processed dataset."
   ]
  },
  {
   "cell_type": "code",
   "execution_count": 3,
   "metadata": {},
   "outputs": [
    {
     "name": "stdout",
     "output_type": "stream",
     "text": [
      "mbad: 8.02%, mgood: 6.86%, mbad or mgood: 14.88%\n"
     ]
    },
    {
     "data": {
      "application/vnd.plotly.v1+json": {
       "config": {
        "plotlyServerURL": "https://plot.ly"
       },
       "data": [
        {
         "alignmentgroup": "True",
         "hovertemplate": "Label=%{x}<br>Count=%{y}<extra></extra>",
         "legendgroup": "",
         "marker": {
          "color": "#636efa",
          "pattern": {
           "shape": ""
          }
         },
         "name": "",
         "offsetgroup": "",
         "orientation": "v",
         "showlegend": false,
         "textposition": "auto",
         "type": "bar",
         "x": [
          "good",
          "mbad",
          "mgood",
          "bad"
         ],
         "xaxis": "x",
         "y": [
          1236,
          124,
          106,
          80
         ],
         "yaxis": "y"
        }
       ],
       "layout": {
        "barmode": "relative",
        "legend": {
         "tracegroupgap": 0
        },
        "template": {
         "data": {
          "bar": [
           {
            "error_x": {
             "color": "#2a3f5f"
            },
            "error_y": {
             "color": "#2a3f5f"
            },
            "marker": {
             "line": {
              "color": "#E5ECF6",
              "width": 0.5
             },
             "pattern": {
              "fillmode": "overlay",
              "size": 10,
              "solidity": 0.2
             }
            },
            "type": "bar"
           }
          ],
          "barpolar": [
           {
            "marker": {
             "line": {
              "color": "#E5ECF6",
              "width": 0.5
             },
             "pattern": {
              "fillmode": "overlay",
              "size": 10,
              "solidity": 0.2
             }
            },
            "type": "barpolar"
           }
          ],
          "carpet": [
           {
            "aaxis": {
             "endlinecolor": "#2a3f5f",
             "gridcolor": "white",
             "linecolor": "white",
             "minorgridcolor": "white",
             "startlinecolor": "#2a3f5f"
            },
            "baxis": {
             "endlinecolor": "#2a3f5f",
             "gridcolor": "white",
             "linecolor": "white",
             "minorgridcolor": "white",
             "startlinecolor": "#2a3f5f"
            },
            "type": "carpet"
           }
          ],
          "choropleth": [
           {
            "colorbar": {
             "outlinewidth": 0,
             "ticks": ""
            },
            "type": "choropleth"
           }
          ],
          "contour": [
           {
            "colorbar": {
             "outlinewidth": 0,
             "ticks": ""
            },
            "colorscale": [
             [
              0,
              "#0d0887"
             ],
             [
              0.1111111111111111,
              "#46039f"
             ],
             [
              0.2222222222222222,
              "#7201a8"
             ],
             [
              0.3333333333333333,
              "#9c179e"
             ],
             [
              0.4444444444444444,
              "#bd3786"
             ],
             [
              0.5555555555555556,
              "#d8576b"
             ],
             [
              0.6666666666666666,
              "#ed7953"
             ],
             [
              0.7777777777777778,
              "#fb9f3a"
             ],
             [
              0.8888888888888888,
              "#fdca26"
             ],
             [
              1,
              "#f0f921"
             ]
            ],
            "type": "contour"
           }
          ],
          "contourcarpet": [
           {
            "colorbar": {
             "outlinewidth": 0,
             "ticks": ""
            },
            "type": "contourcarpet"
           }
          ],
          "heatmap": [
           {
            "colorbar": {
             "outlinewidth": 0,
             "ticks": ""
            },
            "colorscale": [
             [
              0,
              "#0d0887"
             ],
             [
              0.1111111111111111,
              "#46039f"
             ],
             [
              0.2222222222222222,
              "#7201a8"
             ],
             [
              0.3333333333333333,
              "#9c179e"
             ],
             [
              0.4444444444444444,
              "#bd3786"
             ],
             [
              0.5555555555555556,
              "#d8576b"
             ],
             [
              0.6666666666666666,
              "#ed7953"
             ],
             [
              0.7777777777777778,
              "#fb9f3a"
             ],
             [
              0.8888888888888888,
              "#fdca26"
             ],
             [
              1,
              "#f0f921"
             ]
            ],
            "type": "heatmap"
           }
          ],
          "heatmapgl": [
           {
            "colorbar": {
             "outlinewidth": 0,
             "ticks": ""
            },
            "colorscale": [
             [
              0,
              "#0d0887"
             ],
             [
              0.1111111111111111,
              "#46039f"
             ],
             [
              0.2222222222222222,
              "#7201a8"
             ],
             [
              0.3333333333333333,
              "#9c179e"
             ],
             [
              0.4444444444444444,
              "#bd3786"
             ],
             [
              0.5555555555555556,
              "#d8576b"
             ],
             [
              0.6666666666666666,
              "#ed7953"
             ],
             [
              0.7777777777777778,
              "#fb9f3a"
             ],
             [
              0.8888888888888888,
              "#fdca26"
             ],
             [
              1,
              "#f0f921"
             ]
            ],
            "type": "heatmapgl"
           }
          ],
          "histogram": [
           {
            "marker": {
             "pattern": {
              "fillmode": "overlay",
              "size": 10,
              "solidity": 0.2
             }
            },
            "type": "histogram"
           }
          ],
          "histogram2d": [
           {
            "colorbar": {
             "outlinewidth": 0,
             "ticks": ""
            },
            "colorscale": [
             [
              0,
              "#0d0887"
             ],
             [
              0.1111111111111111,
              "#46039f"
             ],
             [
              0.2222222222222222,
              "#7201a8"
             ],
             [
              0.3333333333333333,
              "#9c179e"
             ],
             [
              0.4444444444444444,
              "#bd3786"
             ],
             [
              0.5555555555555556,
              "#d8576b"
             ],
             [
              0.6666666666666666,
              "#ed7953"
             ],
             [
              0.7777777777777778,
              "#fb9f3a"
             ],
             [
              0.8888888888888888,
              "#fdca26"
             ],
             [
              1,
              "#f0f921"
             ]
            ],
            "type": "histogram2d"
           }
          ],
          "histogram2dcontour": [
           {
            "colorbar": {
             "outlinewidth": 0,
             "ticks": ""
            },
            "colorscale": [
             [
              0,
              "#0d0887"
             ],
             [
              0.1111111111111111,
              "#46039f"
             ],
             [
              0.2222222222222222,
              "#7201a8"
             ],
             [
              0.3333333333333333,
              "#9c179e"
             ],
             [
              0.4444444444444444,
              "#bd3786"
             ],
             [
              0.5555555555555556,
              "#d8576b"
             ],
             [
              0.6666666666666666,
              "#ed7953"
             ],
             [
              0.7777777777777778,
              "#fb9f3a"
             ],
             [
              0.8888888888888888,
              "#fdca26"
             ],
             [
              1,
              "#f0f921"
             ]
            ],
            "type": "histogram2dcontour"
           }
          ],
          "mesh3d": [
           {
            "colorbar": {
             "outlinewidth": 0,
             "ticks": ""
            },
            "type": "mesh3d"
           }
          ],
          "parcoords": [
           {
            "line": {
             "colorbar": {
              "outlinewidth": 0,
              "ticks": ""
             }
            },
            "type": "parcoords"
           }
          ],
          "pie": [
           {
            "automargin": true,
            "type": "pie"
           }
          ],
          "scatter": [
           {
            "fillpattern": {
             "fillmode": "overlay",
             "size": 10,
             "solidity": 0.2
            },
            "type": "scatter"
           }
          ],
          "scatter3d": [
           {
            "line": {
             "colorbar": {
              "outlinewidth": 0,
              "ticks": ""
             }
            },
            "marker": {
             "colorbar": {
              "outlinewidth": 0,
              "ticks": ""
             }
            },
            "type": "scatter3d"
           }
          ],
          "scattercarpet": [
           {
            "marker": {
             "colorbar": {
              "outlinewidth": 0,
              "ticks": ""
             }
            },
            "type": "scattercarpet"
           }
          ],
          "scattergeo": [
           {
            "marker": {
             "colorbar": {
              "outlinewidth": 0,
              "ticks": ""
             }
            },
            "type": "scattergeo"
           }
          ],
          "scattergl": [
           {
            "marker": {
             "colorbar": {
              "outlinewidth": 0,
              "ticks": ""
             }
            },
            "type": "scattergl"
           }
          ],
          "scattermapbox": [
           {
            "marker": {
             "colorbar": {
              "outlinewidth": 0,
              "ticks": ""
             }
            },
            "type": "scattermapbox"
           }
          ],
          "scatterpolar": [
           {
            "marker": {
             "colorbar": {
              "outlinewidth": 0,
              "ticks": ""
             }
            },
            "type": "scatterpolar"
           }
          ],
          "scatterpolargl": [
           {
            "marker": {
             "colorbar": {
              "outlinewidth": 0,
              "ticks": ""
             }
            },
            "type": "scatterpolargl"
           }
          ],
          "scatterternary": [
           {
            "marker": {
             "colorbar": {
              "outlinewidth": 0,
              "ticks": ""
             }
            },
            "type": "scatterternary"
           }
          ],
          "surface": [
           {
            "colorbar": {
             "outlinewidth": 0,
             "ticks": ""
            },
            "colorscale": [
             [
              0,
              "#0d0887"
             ],
             [
              0.1111111111111111,
              "#46039f"
             ],
             [
              0.2222222222222222,
              "#7201a8"
             ],
             [
              0.3333333333333333,
              "#9c179e"
             ],
             [
              0.4444444444444444,
              "#bd3786"
             ],
             [
              0.5555555555555556,
              "#d8576b"
             ],
             [
              0.6666666666666666,
              "#ed7953"
             ],
             [
              0.7777777777777778,
              "#fb9f3a"
             ],
             [
              0.8888888888888888,
              "#fdca26"
             ],
             [
              1,
              "#f0f921"
             ]
            ],
            "type": "surface"
           }
          ],
          "table": [
           {
            "cells": {
             "fill": {
              "color": "#EBF0F8"
             },
             "line": {
              "color": "white"
             }
            },
            "header": {
             "fill": {
              "color": "#C8D4E3"
             },
             "line": {
              "color": "white"
             }
            },
            "type": "table"
           }
          ]
         },
         "layout": {
          "annotationdefaults": {
           "arrowcolor": "#2a3f5f",
           "arrowhead": 0,
           "arrowwidth": 1
          },
          "autotypenumbers": "strict",
          "coloraxis": {
           "colorbar": {
            "outlinewidth": 0,
            "ticks": ""
           }
          },
          "colorscale": {
           "diverging": [
            [
             0,
             "#8e0152"
            ],
            [
             0.1,
             "#c51b7d"
            ],
            [
             0.2,
             "#de77ae"
            ],
            [
             0.3,
             "#f1b6da"
            ],
            [
             0.4,
             "#fde0ef"
            ],
            [
             0.5,
             "#f7f7f7"
            ],
            [
             0.6,
             "#e6f5d0"
            ],
            [
             0.7,
             "#b8e186"
            ],
            [
             0.8,
             "#7fbc41"
            ],
            [
             0.9,
             "#4d9221"
            ],
            [
             1,
             "#276419"
            ]
           ],
           "sequential": [
            [
             0,
             "#0d0887"
            ],
            [
             0.1111111111111111,
             "#46039f"
            ],
            [
             0.2222222222222222,
             "#7201a8"
            ],
            [
             0.3333333333333333,
             "#9c179e"
            ],
            [
             0.4444444444444444,
             "#bd3786"
            ],
            [
             0.5555555555555556,
             "#d8576b"
            ],
            [
             0.6666666666666666,
             "#ed7953"
            ],
            [
             0.7777777777777778,
             "#fb9f3a"
            ],
            [
             0.8888888888888888,
             "#fdca26"
            ],
            [
             1,
             "#f0f921"
            ]
           ],
           "sequentialminus": [
            [
             0,
             "#0d0887"
            ],
            [
             0.1111111111111111,
             "#46039f"
            ],
            [
             0.2222222222222222,
             "#7201a8"
            ],
            [
             0.3333333333333333,
             "#9c179e"
            ],
            [
             0.4444444444444444,
             "#bd3786"
            ],
            [
             0.5555555555555556,
             "#d8576b"
            ],
            [
             0.6666666666666666,
             "#ed7953"
            ],
            [
             0.7777777777777778,
             "#fb9f3a"
            ],
            [
             0.8888888888888888,
             "#fdca26"
            ],
            [
             1,
             "#f0f921"
            ]
           ]
          },
          "colorway": [
           "#636efa",
           "#EF553B",
           "#00cc96",
           "#ab63fa",
           "#FFA15A",
           "#19d3f3",
           "#FF6692",
           "#B6E880",
           "#FF97FF",
           "#FECB52"
          ],
          "font": {
           "color": "#2a3f5f"
          },
          "geo": {
           "bgcolor": "white",
           "lakecolor": "white",
           "landcolor": "#E5ECF6",
           "showlakes": true,
           "showland": true,
           "subunitcolor": "white"
          },
          "hoverlabel": {
           "align": "left"
          },
          "hovermode": "closest",
          "mapbox": {
           "style": "light"
          },
          "paper_bgcolor": "white",
          "plot_bgcolor": "#E5ECF6",
          "polar": {
           "angularaxis": {
            "gridcolor": "white",
            "linecolor": "white",
            "ticks": ""
           },
           "bgcolor": "#E5ECF6",
           "radialaxis": {
            "gridcolor": "white",
            "linecolor": "white",
            "ticks": ""
           }
          },
          "scene": {
           "xaxis": {
            "backgroundcolor": "#E5ECF6",
            "gridcolor": "white",
            "gridwidth": 2,
            "linecolor": "white",
            "showbackground": true,
            "ticks": "",
            "zerolinecolor": "white"
           },
           "yaxis": {
            "backgroundcolor": "#E5ECF6",
            "gridcolor": "white",
            "gridwidth": 2,
            "linecolor": "white",
            "showbackground": true,
            "ticks": "",
            "zerolinecolor": "white"
           },
           "zaxis": {
            "backgroundcolor": "#E5ECF6",
            "gridcolor": "white",
            "gridwidth": 2,
            "linecolor": "white",
            "showbackground": true,
            "ticks": "",
            "zerolinecolor": "white"
           }
          },
          "shapedefaults": {
           "line": {
            "color": "#2a3f5f"
           }
          },
          "ternary": {
           "aaxis": {
            "gridcolor": "white",
            "linecolor": "white",
            "ticks": ""
           },
           "baxis": {
            "gridcolor": "white",
            "linecolor": "white",
            "ticks": ""
           },
           "bgcolor": "#E5ECF6",
           "caxis": {
            "gridcolor": "white",
            "linecolor": "white",
            "ticks": ""
           }
          },
          "title": {
           "x": 0.05
          },
          "xaxis": {
           "automargin": true,
           "gridcolor": "white",
           "linecolor": "white",
           "ticks": "",
           "title": {
            "standoff": 15
           },
           "zerolinecolor": "white",
           "zerolinewidth": 2
          },
          "yaxis": {
           "automargin": true,
           "gridcolor": "white",
           "linecolor": "white",
           "ticks": "",
           "title": {
            "standoff": 15
           },
           "zerolinecolor": "white",
           "zerolinewidth": 2
          }
         }
        },
        "title": {
         "text": "Distribution of labels (GEO=['texas', 'florida'])"
        },
        "xaxis": {
         "anchor": "y",
         "domain": [
          0,
          1
         ],
         "title": {
          "text": "Label"
         }
        },
        "yaxis": {
         "anchor": "x",
         "domain": [
          0,
          1
         ],
         "title": {
          "text": "Count"
         }
        }
       }
      }
     },
     "metadata": {},
     "output_type": "display_data"
    }
   ],
   "source": [
    "mbad_pcnt = df[df.label == \"mbad\"].shape[0] / df.shape[0]\n",
    "mgood_pcnt = df[df.label == \"mgood\"].shape[0] / df.shape[0]\n",
    "mbad_or_mgood_pcnt = df[df.label.isin([\"mbad\", \"mgood\"])].shape[0] / df.shape[0]\n",
    "print(\n",
    "    f\"mbad: {mbad_pcnt:.2%}, mgood: {mgood_pcnt:.2%}, mbad or mgood: {mbad_or_mgood_pcnt:.2%}\"\n",
    ")\n",
    "\n",
    "bar_vals = df.label.value_counts()\n",
    "\n",
    "fig = px.bar(\n",
    "    bar_vals,\n",
    "    x=bar_vals.index,\n",
    "    y=bar_vals.values,\n",
    "    title=f\"Distribution of labels (GEO={GEO})\",\n",
    "    labels={\"index\": \"Label\", \"y\": \"Count\"}\n",
    ")\n",
    "\n",
    "fig.show()"
   ]
  },
  {
   "attachments": {},
   "cell_type": "markdown",
   "metadata": {},
   "source": [
    "## Correlation filter helper function\n",
    "This function allows us to filter down to only include highly correlated features with the label."
   ]
  },
  {
   "cell_type": "code",
   "execution_count": 4,
   "metadata": {},
   "outputs": [],
   "source": [
    "def corr_filter(features, corr_thresh=0.05) -> pd.DataFrame:\n",
    "    \"\"\"Filter features based on correlation with label.\"\"\"\n",
    "\n",
    "    if corr_thresh is None:\n",
    "        return features\n",
    "\n",
    "    to_filter = features.copy()\n",
    "    \n",
    "    to_filter[\"review_id\"] = df.review_id\n",
    "    to_filter[\"label\"] = df.label\n",
    "\n",
    "    # drop na labels. Thanks Charlie :/\n",
    "    to_filter = to_filter.dropna(subset=[\"label\"])\n",
    "\n",
    "    # Turn labels into numbers\n",
    "    labels_list: list = to_filter.label.unique().tolist()\n",
    "    to_filter.label = to_filter.label.apply(lambda label: labels_list.index(label))\n",
    "\n",
    "    # calculate correlation of features with label\n",
    "    features_to_filter = to_filter.drop([\"review_id\", \"label\"], axis=1)\n",
    "    corrs = features_to_filter.corrwith(to_filter.label).sort_values(ascending=False)\n",
    "\n",
    "    # filter features\n",
    "    highly_correlated_features = corrs[corrs.abs() > corr_thresh].index\n",
    "    # drop features with nan correlation\n",
    "    highly_correlated_features = highly_correlated_features.dropna()\n",
    "\n",
    "    # filter features\n",
    "    print(f\"Features above correlation threshold ({corr_thresh}):\")\n",
    "    print(highly_correlated_features.tolist())\n",
    "    filtered = features[highly_correlated_features]\n",
    "    \n",
    "    return filtered"
   ]
  },
  {
   "attachments": {},
   "cell_type": "markdown",
   "metadata": {},
   "source": [
    "### Ngrams"
   ]
  },
  {
   "attachments": {},
   "cell_type": "markdown",
   "metadata": {},
   "source": [
    "What are the most common ngrams for the different types of reviews? What are the most common overlaps?"
   ]
  },
  {
   "cell_type": "code",
   "execution_count": 5,
   "metadata": {},
   "outputs": [],
   "source": [
    "def get_consecutive_ngrams(review, n) -> list:\n",
    "    \"\"\"Helper function to get ngrams from a review.\n",
    "\n",
    "    Args:\n",
    "        review (str): The review to get ngrams from.\n",
    "        n (int): The number of ngrams to get.\n",
    "\n",
    "    Returns:\n",
    "        list: the list of ngrams, joined by underscores.\n",
    "    \"\"\"\n",
    "    if isinstance(review, str):\n",
    "        review = review.split(\"\")\n",
    "\n",
    "    return [\"_\".join(review[i:i+n]) for i in range(len(review)-n-1)]\n",
    "\n",
    "def series_to_ngrams(series: pd.Series, N):\n",
    "    n_grams = series.apply(lambda x: get_consecutive_ngrams(x, N))\n",
    "    return n_grams.explode()\n",
    "\n",
    "def get_exclusive_sizes(good: set, bad: set, mgood: set, mbad: set) -> dict:\n",
    "    \"\"\"Get the sizes of the exclusive sets\"\"\"\n",
    "\n",
    "    only_good = good - bad - mgood - mbad\n",
    "    only_bad = bad - good - mgood - mbad\n",
    "    only_mgood = mgood - good - bad - mbad\n",
    "    only_mbad = mbad - good - bad - mgood\n",
    "    \n",
    "    return {\n",
    "        \"good\": len(only_good),\n",
    "        \"bad\": len(only_bad),\n",
    "        \"mgood\": len(only_mgood),\n",
    "        \"mbad\": len(only_mbad)\n",
    "    }"
   ]
  },
  {
   "attachments": {},
   "cell_type": "markdown",
   "metadata": {},
   "source": [
    "We can look at the number of unique values to each label for different values of N on a line chart."
   ]
  },
  {
   "cell_type": "code",
   "execution_count": 6,
   "metadata": {},
   "outputs": [
    {
     "data": {
      "application/vnd.plotly.v1+json": {
       "config": {
        "plotlyServerURL": "https://plot.ly"
       },
       "data": [
        {
         "hovertemplate": "label=bad<br>N-gram size=%{x}<br>Unique # of n-grams=%{y}<extra></extra>",
         "legendgroup": "bad",
         "line": {
          "color": "#636efa",
          "dash": "solid"
         },
         "marker": {
          "symbol": "circle"
         },
         "mode": "markers+lines",
         "name": "bad",
         "orientation": "v",
         "showlegend": true,
         "type": "scatter",
         "x": [
          1,
          2,
          3,
          4,
          5,
          6
         ],
         "xaxis": "x",
         "y": [
          387,
          5970,
          8193,
          8330,
          8260,
          8181
         ],
         "yaxis": "y"
        },
        {
         "hovertemplate": "label=mgood<br>N-gram size=%{x}<br>Unique # of n-grams=%{y}<extra></extra>",
         "legendgroup": "mgood",
         "line": {
          "color": "#EF553B",
          "dash": "solid"
         },
         "marker": {
          "symbol": "circle"
         },
         "mode": "markers+lines",
         "name": "mgood",
         "orientation": "v",
         "showlegend": true,
         "type": "scatter",
         "x": [
          1,
          2,
          3,
          4,
          5,
          6
         ],
         "xaxis": "x",
         "y": [
          235,
          4541,
          6795,
          7041,
          6984,
          6886
         ],
         "yaxis": "y"
        },
        {
         "hovertemplate": "label=mbad<br>N-gram size=%{x}<br>Unique # of n-grams=%{y}<extra></extra>",
         "legendgroup": "mbad",
         "line": {
          "color": "#00cc96",
          "dash": "solid"
         },
         "marker": {
          "symbol": "circle"
         },
         "mode": "markers+lines",
         "name": "mbad",
         "orientation": "v",
         "showlegend": true,
         "type": "scatter",
         "x": [
          1,
          2,
          3,
          4,
          5,
          6
         ],
         "xaxis": "x",
         "y": [
          634,
          9297,
          12856,
          13137,
          13040,
          12918
         ],
         "yaxis": "y"
        }
       ],
       "layout": {
        "legend": {
         "title": {
          "text": "label"
         },
         "tracegroupgap": 0
        },
        "template": {
         "data": {
          "bar": [
           {
            "error_x": {
             "color": "#2a3f5f"
            },
            "error_y": {
             "color": "#2a3f5f"
            },
            "marker": {
             "line": {
              "color": "#E5ECF6",
              "width": 0.5
             },
             "pattern": {
              "fillmode": "overlay",
              "size": 10,
              "solidity": 0.2
             }
            },
            "type": "bar"
           }
          ],
          "barpolar": [
           {
            "marker": {
             "line": {
              "color": "#E5ECF6",
              "width": 0.5
             },
             "pattern": {
              "fillmode": "overlay",
              "size": 10,
              "solidity": 0.2
             }
            },
            "type": "barpolar"
           }
          ],
          "carpet": [
           {
            "aaxis": {
             "endlinecolor": "#2a3f5f",
             "gridcolor": "white",
             "linecolor": "white",
             "minorgridcolor": "white",
             "startlinecolor": "#2a3f5f"
            },
            "baxis": {
             "endlinecolor": "#2a3f5f",
             "gridcolor": "white",
             "linecolor": "white",
             "minorgridcolor": "white",
             "startlinecolor": "#2a3f5f"
            },
            "type": "carpet"
           }
          ],
          "choropleth": [
           {
            "colorbar": {
             "outlinewidth": 0,
             "ticks": ""
            },
            "type": "choropleth"
           }
          ],
          "contour": [
           {
            "colorbar": {
             "outlinewidth": 0,
             "ticks": ""
            },
            "colorscale": [
             [
              0,
              "#0d0887"
             ],
             [
              0.1111111111111111,
              "#46039f"
             ],
             [
              0.2222222222222222,
              "#7201a8"
             ],
             [
              0.3333333333333333,
              "#9c179e"
             ],
             [
              0.4444444444444444,
              "#bd3786"
             ],
             [
              0.5555555555555556,
              "#d8576b"
             ],
             [
              0.6666666666666666,
              "#ed7953"
             ],
             [
              0.7777777777777778,
              "#fb9f3a"
             ],
             [
              0.8888888888888888,
              "#fdca26"
             ],
             [
              1,
              "#f0f921"
             ]
            ],
            "type": "contour"
           }
          ],
          "contourcarpet": [
           {
            "colorbar": {
             "outlinewidth": 0,
             "ticks": ""
            },
            "type": "contourcarpet"
           }
          ],
          "heatmap": [
           {
            "colorbar": {
             "outlinewidth": 0,
             "ticks": ""
            },
            "colorscale": [
             [
              0,
              "#0d0887"
             ],
             [
              0.1111111111111111,
              "#46039f"
             ],
             [
              0.2222222222222222,
              "#7201a8"
             ],
             [
              0.3333333333333333,
              "#9c179e"
             ],
             [
              0.4444444444444444,
              "#bd3786"
             ],
             [
              0.5555555555555556,
              "#d8576b"
             ],
             [
              0.6666666666666666,
              "#ed7953"
             ],
             [
              0.7777777777777778,
              "#fb9f3a"
             ],
             [
              0.8888888888888888,
              "#fdca26"
             ],
             [
              1,
              "#f0f921"
             ]
            ],
            "type": "heatmap"
           }
          ],
          "heatmapgl": [
           {
            "colorbar": {
             "outlinewidth": 0,
             "ticks": ""
            },
            "colorscale": [
             [
              0,
              "#0d0887"
             ],
             [
              0.1111111111111111,
              "#46039f"
             ],
             [
              0.2222222222222222,
              "#7201a8"
             ],
             [
              0.3333333333333333,
              "#9c179e"
             ],
             [
              0.4444444444444444,
              "#bd3786"
             ],
             [
              0.5555555555555556,
              "#d8576b"
             ],
             [
              0.6666666666666666,
              "#ed7953"
             ],
             [
              0.7777777777777778,
              "#fb9f3a"
             ],
             [
              0.8888888888888888,
              "#fdca26"
             ],
             [
              1,
              "#f0f921"
             ]
            ],
            "type": "heatmapgl"
           }
          ],
          "histogram": [
           {
            "marker": {
             "pattern": {
              "fillmode": "overlay",
              "size": 10,
              "solidity": 0.2
             }
            },
            "type": "histogram"
           }
          ],
          "histogram2d": [
           {
            "colorbar": {
             "outlinewidth": 0,
             "ticks": ""
            },
            "colorscale": [
             [
              0,
              "#0d0887"
             ],
             [
              0.1111111111111111,
              "#46039f"
             ],
             [
              0.2222222222222222,
              "#7201a8"
             ],
             [
              0.3333333333333333,
              "#9c179e"
             ],
             [
              0.4444444444444444,
              "#bd3786"
             ],
             [
              0.5555555555555556,
              "#d8576b"
             ],
             [
              0.6666666666666666,
              "#ed7953"
             ],
             [
              0.7777777777777778,
              "#fb9f3a"
             ],
             [
              0.8888888888888888,
              "#fdca26"
             ],
             [
              1,
              "#f0f921"
             ]
            ],
            "type": "histogram2d"
           }
          ],
          "histogram2dcontour": [
           {
            "colorbar": {
             "outlinewidth": 0,
             "ticks": ""
            },
            "colorscale": [
             [
              0,
              "#0d0887"
             ],
             [
              0.1111111111111111,
              "#46039f"
             ],
             [
              0.2222222222222222,
              "#7201a8"
             ],
             [
              0.3333333333333333,
              "#9c179e"
             ],
             [
              0.4444444444444444,
              "#bd3786"
             ],
             [
              0.5555555555555556,
              "#d8576b"
             ],
             [
              0.6666666666666666,
              "#ed7953"
             ],
             [
              0.7777777777777778,
              "#fb9f3a"
             ],
             [
              0.8888888888888888,
              "#fdca26"
             ],
             [
              1,
              "#f0f921"
             ]
            ],
            "type": "histogram2dcontour"
           }
          ],
          "mesh3d": [
           {
            "colorbar": {
             "outlinewidth": 0,
             "ticks": ""
            },
            "type": "mesh3d"
           }
          ],
          "parcoords": [
           {
            "line": {
             "colorbar": {
              "outlinewidth": 0,
              "ticks": ""
             }
            },
            "type": "parcoords"
           }
          ],
          "pie": [
           {
            "automargin": true,
            "type": "pie"
           }
          ],
          "scatter": [
           {
            "fillpattern": {
             "fillmode": "overlay",
             "size": 10,
             "solidity": 0.2
            },
            "type": "scatter"
           }
          ],
          "scatter3d": [
           {
            "line": {
             "colorbar": {
              "outlinewidth": 0,
              "ticks": ""
             }
            },
            "marker": {
             "colorbar": {
              "outlinewidth": 0,
              "ticks": ""
             }
            },
            "type": "scatter3d"
           }
          ],
          "scattercarpet": [
           {
            "marker": {
             "colorbar": {
              "outlinewidth": 0,
              "ticks": ""
             }
            },
            "type": "scattercarpet"
           }
          ],
          "scattergeo": [
           {
            "marker": {
             "colorbar": {
              "outlinewidth": 0,
              "ticks": ""
             }
            },
            "type": "scattergeo"
           }
          ],
          "scattergl": [
           {
            "marker": {
             "colorbar": {
              "outlinewidth": 0,
              "ticks": ""
             }
            },
            "type": "scattergl"
           }
          ],
          "scattermapbox": [
           {
            "marker": {
             "colorbar": {
              "outlinewidth": 0,
              "ticks": ""
             }
            },
            "type": "scattermapbox"
           }
          ],
          "scatterpolar": [
           {
            "marker": {
             "colorbar": {
              "outlinewidth": 0,
              "ticks": ""
             }
            },
            "type": "scatterpolar"
           }
          ],
          "scatterpolargl": [
           {
            "marker": {
             "colorbar": {
              "outlinewidth": 0,
              "ticks": ""
             }
            },
            "type": "scatterpolargl"
           }
          ],
          "scatterternary": [
           {
            "marker": {
             "colorbar": {
              "outlinewidth": 0,
              "ticks": ""
             }
            },
            "type": "scatterternary"
           }
          ],
          "surface": [
           {
            "colorbar": {
             "outlinewidth": 0,
             "ticks": ""
            },
            "colorscale": [
             [
              0,
              "#0d0887"
             ],
             [
              0.1111111111111111,
              "#46039f"
             ],
             [
              0.2222222222222222,
              "#7201a8"
             ],
             [
              0.3333333333333333,
              "#9c179e"
             ],
             [
              0.4444444444444444,
              "#bd3786"
             ],
             [
              0.5555555555555556,
              "#d8576b"
             ],
             [
              0.6666666666666666,
              "#ed7953"
             ],
             [
              0.7777777777777778,
              "#fb9f3a"
             ],
             [
              0.8888888888888888,
              "#fdca26"
             ],
             [
              1,
              "#f0f921"
             ]
            ],
            "type": "surface"
           }
          ],
          "table": [
           {
            "cells": {
             "fill": {
              "color": "#EBF0F8"
             },
             "line": {
              "color": "white"
             }
            },
            "header": {
             "fill": {
              "color": "#C8D4E3"
             },
             "line": {
              "color": "white"
             }
            },
            "type": "table"
           }
          ]
         },
         "layout": {
          "annotationdefaults": {
           "arrowcolor": "#2a3f5f",
           "arrowhead": 0,
           "arrowwidth": 1
          },
          "autotypenumbers": "strict",
          "coloraxis": {
           "colorbar": {
            "outlinewidth": 0,
            "ticks": ""
           }
          },
          "colorscale": {
           "diverging": [
            [
             0,
             "#8e0152"
            ],
            [
             0.1,
             "#c51b7d"
            ],
            [
             0.2,
             "#de77ae"
            ],
            [
             0.3,
             "#f1b6da"
            ],
            [
             0.4,
             "#fde0ef"
            ],
            [
             0.5,
             "#f7f7f7"
            ],
            [
             0.6,
             "#e6f5d0"
            ],
            [
             0.7,
             "#b8e186"
            ],
            [
             0.8,
             "#7fbc41"
            ],
            [
             0.9,
             "#4d9221"
            ],
            [
             1,
             "#276419"
            ]
           ],
           "sequential": [
            [
             0,
             "#0d0887"
            ],
            [
             0.1111111111111111,
             "#46039f"
            ],
            [
             0.2222222222222222,
             "#7201a8"
            ],
            [
             0.3333333333333333,
             "#9c179e"
            ],
            [
             0.4444444444444444,
             "#bd3786"
            ],
            [
             0.5555555555555556,
             "#d8576b"
            ],
            [
             0.6666666666666666,
             "#ed7953"
            ],
            [
             0.7777777777777778,
             "#fb9f3a"
            ],
            [
             0.8888888888888888,
             "#fdca26"
            ],
            [
             1,
             "#f0f921"
            ]
           ],
           "sequentialminus": [
            [
             0,
             "#0d0887"
            ],
            [
             0.1111111111111111,
             "#46039f"
            ],
            [
             0.2222222222222222,
             "#7201a8"
            ],
            [
             0.3333333333333333,
             "#9c179e"
            ],
            [
             0.4444444444444444,
             "#bd3786"
            ],
            [
             0.5555555555555556,
             "#d8576b"
            ],
            [
             0.6666666666666666,
             "#ed7953"
            ],
            [
             0.7777777777777778,
             "#fb9f3a"
            ],
            [
             0.8888888888888888,
             "#fdca26"
            ],
            [
             1,
             "#f0f921"
            ]
           ]
          },
          "colorway": [
           "#636efa",
           "#EF553B",
           "#00cc96",
           "#ab63fa",
           "#FFA15A",
           "#19d3f3",
           "#FF6692",
           "#B6E880",
           "#FF97FF",
           "#FECB52"
          ],
          "font": {
           "color": "#2a3f5f"
          },
          "geo": {
           "bgcolor": "white",
           "lakecolor": "white",
           "landcolor": "#E5ECF6",
           "showlakes": true,
           "showland": true,
           "subunitcolor": "white"
          },
          "hoverlabel": {
           "align": "left"
          },
          "hovermode": "closest",
          "mapbox": {
           "style": "light"
          },
          "paper_bgcolor": "white",
          "plot_bgcolor": "#E5ECF6",
          "polar": {
           "angularaxis": {
            "gridcolor": "white",
            "linecolor": "white",
            "ticks": ""
           },
           "bgcolor": "#E5ECF6",
           "radialaxis": {
            "gridcolor": "white",
            "linecolor": "white",
            "ticks": ""
           }
          },
          "scene": {
           "xaxis": {
            "backgroundcolor": "#E5ECF6",
            "gridcolor": "white",
            "gridwidth": 2,
            "linecolor": "white",
            "showbackground": true,
            "ticks": "",
            "zerolinecolor": "white"
           },
           "yaxis": {
            "backgroundcolor": "#E5ECF6",
            "gridcolor": "white",
            "gridwidth": 2,
            "linecolor": "white",
            "showbackground": true,
            "ticks": "",
            "zerolinecolor": "white"
           },
           "zaxis": {
            "backgroundcolor": "#E5ECF6",
            "gridcolor": "white",
            "gridwidth": 2,
            "linecolor": "white",
            "showbackground": true,
            "ticks": "",
            "zerolinecolor": "white"
           }
          },
          "shapedefaults": {
           "line": {
            "color": "#2a3f5f"
           }
          },
          "ternary": {
           "aaxis": {
            "gridcolor": "white",
            "linecolor": "white",
            "ticks": ""
           },
           "baxis": {
            "gridcolor": "white",
            "linecolor": "white",
            "ticks": ""
           },
           "bgcolor": "#E5ECF6",
           "caxis": {
            "gridcolor": "white",
            "linecolor": "white",
            "ticks": ""
           }
          },
          "title": {
           "x": 0.05
          },
          "xaxis": {
           "automargin": true,
           "gridcolor": "white",
           "linecolor": "white",
           "ticks": "",
           "title": {
            "standoff": 15
           },
           "zerolinecolor": "white",
           "zerolinewidth": 2
          },
          "yaxis": {
           "automargin": true,
           "gridcolor": "white",
           "linecolor": "white",
           "ticks": "",
           "title": {
            "standoff": 15
           },
           "zerolinecolor": "white",
           "zerolinewidth": 2
          }
         }
        },
        "title": {
         "text": "Unique # of ['texas', 'florida'] n-grams for each label"
        },
        "xaxis": {
         "anchor": "y",
         "domain": [
          0,
          1
         ],
         "title": {
          "text": "N-gram size"
         }
        },
        "yaxis": {
         "anchor": "x",
         "domain": [
          0,
          1
         ],
         "title": {
          "text": "Unique # of n-grams"
         }
        }
       }
      }
     },
     "metadata": {},
     "output_type": "display_data"
    }
   ],
   "source": [
    "import plotly.express as px\n",
    "\n",
    "intersection_sizes = []\n",
    "for n in [1, 2, 3, 4, 5, 6]:\n",
    "\n",
    "    good_ngrams = series_to_ngrams(df[df.label == \"good\"].comments, n).value_counts()\n",
    "    bad_ngrams = series_to_ngrams(df[df.label == \"bad\"].comments, n).value_counts()\n",
    "    mgood_ngrams = series_to_ngrams(df[df.label == \"mgood\"].comments, n).value_counts()\n",
    "    mbad_ngrams = series_to_ngrams(df[df.label == \"mbad\"].comments, n).value_counts()\n",
    "    intersection_sizes_n = get_exclusive_sizes(\n",
    "        set(good_ngrams.index),\n",
    "        set(bad_ngrams.index),\n",
    "        set(mgood_ngrams.index),\n",
    "        set(mbad_ngrams.index)\n",
    "    )\n",
    "\n",
    "    intersection_sizes_n[\"n\"] = n\n",
    "\n",
    "    intersection_sizes.append(intersection_sizes_n)\n",
    "\n",
    "\n",
    "# prepare data\n",
    "is_df = pd.DataFrame(intersection_sizes)\n",
    "is_df = is_df.melt(id_vars=\"n\", var_name=\"label\", value_name=\"count\")\n",
    "is_df[\"count\"] = is_df[\"count\"].astype(int)\n",
    "is_df[\"n\"] = is_df[\"n\"].astype(int)\n",
    "\n",
    "# exclude good \n",
    "is_df = is_df[is_df.label != \"good\"]\n",
    "\n",
    "# plot a line chart\n",
    "px.line(is_df, \n",
    "    x=\"n\", y=\"count\",\n",
    "    color=\"label\",\n",
    "    title=f\"Unique # of {GEO} n-grams for each label\", \n",
    "    labels={\"n\": \"N-gram size\", \"count\": \"Unique # of n-grams\"},\n",
    "    markers=True\n",
    "    )"
   ]
  },
  {
   "attachments": {},
   "cell_type": "markdown",
   "metadata": {},
   "source": [
    "We can see that the number of unique ngrams increases until about n=3, and then levels off. What are the top 10 3-grams for misleading reviews?"
   ]
  },
  {
   "cell_type": "code",
   "execution_count": 7,
   "metadata": {},
   "outputs": [
    {
     "name": "stdout",
     "output_type": "stream",
     "text": [
      "Top 10 most common 3-grams in misleading reviews:\n"
     ]
    },
    {
     "data": {
      "text/plain": [
       "[('within_walking_distance', 11),\n",
       " ('would_not_recommend', 10),\n",
       " ('made_u_feel', 4),\n",
       " ('living_room_furniture', 4),\n",
       " ('not_recommend_staying', 4),\n",
       " ('not_big_deal', 4),\n",
       " ('great_place_stay', 4),\n",
       " ('let_u_know', 4),\n",
       " ('not_work_not', 3),\n",
       " ('give_4_star', 3)]"
      ]
     },
     "execution_count": 7,
     "metadata": {},
     "output_type": "execute_result"
    }
   ],
   "source": [
    "import numpy as np\n",
    "from collections import Counter\n",
    "\n",
    "# get subset of misleading reviews\n",
    "subset = df[df.label.isin([\"mbad\", \"mgood\"])]\n",
    "\n",
    "# get groups of N consecutive words\n",
    "N = 3\n",
    "n_grams = series_to_ngrams(subset.comments, N).to_list()\n",
    "\n",
    "print(f\"Top 10 most common {N}-grams in misleading reviews:\")\n",
    "Counter(n_grams).most_common(10)"
   ]
  },
  {
   "attachments": {},
   "cell_type": "markdown",
   "metadata": {},
   "source": [
    "Now let's look at a word cloud of the N-grams in misleading reviews."
   ]
  },
  {
   "cell_type": "code",
   "execution_count": 8,
   "metadata": {},
   "outputs": [
    {
     "data": {
      "application/vnd.plotly.v1+json": {
       "config": {
        "plotlyServerURL": "https://plot.ly"
       },
       "data": [
        {
         "hovertemplate": "x: %{x}<br>y: %{y}<br>color: [%{z[0]}, %{z[1]}, %{z[2]}]<extra></extra>",
         "name": "0",
         "source": "data:image/png;base64,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",
         "type": "image",
         "xaxis": "x",
         "yaxis": "y"
        }
       ],
       "layout": {
        "height": 700,
        "template": {
         "data": {
          "bar": [
           {
            "error_x": {
             "color": "#2a3f5f"
            },
            "error_y": {
             "color": "#2a3f5f"
            },
            "marker": {
             "line": {
              "color": "#E5ECF6",
              "width": 0.5
             },
             "pattern": {
              "fillmode": "overlay",
              "size": 10,
              "solidity": 0.2
             }
            },
            "type": "bar"
           }
          ],
          "barpolar": [
           {
            "marker": {
             "line": {
              "color": "#E5ECF6",
              "width": 0.5
             },
             "pattern": {
              "fillmode": "overlay",
              "size": 10,
              "solidity": 0.2
             }
            },
            "type": "barpolar"
           }
          ],
          "carpet": [
           {
            "aaxis": {
             "endlinecolor": "#2a3f5f",
             "gridcolor": "white",
             "linecolor": "white",
             "minorgridcolor": "white",
             "startlinecolor": "#2a3f5f"
            },
            "baxis": {
             "endlinecolor": "#2a3f5f",
             "gridcolor": "white",
             "linecolor": "white",
             "minorgridcolor": "white",
             "startlinecolor": "#2a3f5f"
            },
            "type": "carpet"
           }
          ],
          "choropleth": [
           {
            "colorbar": {
             "outlinewidth": 0,
             "ticks": ""
            },
            "type": "choropleth"
           }
          ],
          "contour": [
           {
            "colorbar": {
             "outlinewidth": 0,
             "ticks": ""
            },
            "colorscale": [
             [
              0,
              "#0d0887"
             ],
             [
              0.1111111111111111,
              "#46039f"
             ],
             [
              0.2222222222222222,
              "#7201a8"
             ],
             [
              0.3333333333333333,
              "#9c179e"
             ],
             [
              0.4444444444444444,
              "#bd3786"
             ],
             [
              0.5555555555555556,
              "#d8576b"
             ],
             [
              0.6666666666666666,
              "#ed7953"
             ],
             [
              0.7777777777777778,
              "#fb9f3a"
             ],
             [
              0.8888888888888888,
              "#fdca26"
             ],
             [
              1,
              "#f0f921"
             ]
            ],
            "type": "contour"
           }
          ],
          "contourcarpet": [
           {
            "colorbar": {
             "outlinewidth": 0,
             "ticks": ""
            },
            "type": "contourcarpet"
           }
          ],
          "heatmap": [
           {
            "colorbar": {
             "outlinewidth": 0,
             "ticks": ""
            },
            "colorscale": [
             [
              0,
              "#0d0887"
             ],
             [
              0.1111111111111111,
              "#46039f"
             ],
             [
              0.2222222222222222,
              "#7201a8"
             ],
             [
              0.3333333333333333,
              "#9c179e"
             ],
             [
              0.4444444444444444,
              "#bd3786"
             ],
             [
              0.5555555555555556,
              "#d8576b"
             ],
             [
              0.6666666666666666,
              "#ed7953"
             ],
             [
              0.7777777777777778,
              "#fb9f3a"
             ],
             [
              0.8888888888888888,
              "#fdca26"
             ],
             [
              1,
              "#f0f921"
             ]
            ],
            "type": "heatmap"
           }
          ],
          "heatmapgl": [
           {
            "colorbar": {
             "outlinewidth": 0,
             "ticks": ""
            },
            "colorscale": [
             [
              0,
              "#0d0887"
             ],
             [
              0.1111111111111111,
              "#46039f"
             ],
             [
              0.2222222222222222,
              "#7201a8"
             ],
             [
              0.3333333333333333,
              "#9c179e"
             ],
             [
              0.4444444444444444,
              "#bd3786"
             ],
             [
              0.5555555555555556,
              "#d8576b"
             ],
             [
              0.6666666666666666,
              "#ed7953"
             ],
             [
              0.7777777777777778,
              "#fb9f3a"
             ],
             [
              0.8888888888888888,
              "#fdca26"
             ],
             [
              1,
              "#f0f921"
             ]
            ],
            "type": "heatmapgl"
           }
          ],
          "histogram": [
           {
            "marker": {
             "pattern": {
              "fillmode": "overlay",
              "size": 10,
              "solidity": 0.2
             }
            },
            "type": "histogram"
           }
          ],
          "histogram2d": [
           {
            "colorbar": {
             "outlinewidth": 0,
             "ticks": ""
            },
            "colorscale": [
             [
              0,
              "#0d0887"
             ],
             [
              0.1111111111111111,
              "#46039f"
             ],
             [
              0.2222222222222222,
              "#7201a8"
             ],
             [
              0.3333333333333333,
              "#9c179e"
             ],
             [
              0.4444444444444444,
              "#bd3786"
             ],
             [
              0.5555555555555556,
              "#d8576b"
             ],
             [
              0.6666666666666666,
              "#ed7953"
             ],
             [
              0.7777777777777778,
              "#fb9f3a"
             ],
             [
              0.8888888888888888,
              "#fdca26"
             ],
             [
              1,
              "#f0f921"
             ]
            ],
            "type": "histogram2d"
           }
          ],
          "histogram2dcontour": [
           {
            "colorbar": {
             "outlinewidth": 0,
             "ticks": ""
            },
            "colorscale": [
             [
              0,
              "#0d0887"
             ],
             [
              0.1111111111111111,
              "#46039f"
             ],
             [
              0.2222222222222222,
              "#7201a8"
             ],
             [
              0.3333333333333333,
              "#9c179e"
             ],
             [
              0.4444444444444444,
              "#bd3786"
             ],
             [
              0.5555555555555556,
              "#d8576b"
             ],
             [
              0.6666666666666666,
              "#ed7953"
             ],
             [
              0.7777777777777778,
              "#fb9f3a"
             ],
             [
              0.8888888888888888,
              "#fdca26"
             ],
             [
              1,
              "#f0f921"
             ]
            ],
            "type": "histogram2dcontour"
           }
          ],
          "mesh3d": [
           {
            "colorbar": {
             "outlinewidth": 0,
             "ticks": ""
            },
            "type": "mesh3d"
           }
          ],
          "parcoords": [
           {
            "line": {
             "colorbar": {
              "outlinewidth": 0,
              "ticks": ""
             }
            },
            "type": "parcoords"
           }
          ],
          "pie": [
           {
            "automargin": true,
            "type": "pie"
           }
          ],
          "scatter": [
           {
            "fillpattern": {
             "fillmode": "overlay",
             "size": 10,
             "solidity": 0.2
            },
            "type": "scatter"
           }
          ],
          "scatter3d": [
           {
            "line": {
             "colorbar": {
              "outlinewidth": 0,
              "ticks": ""
             }
            },
            "marker": {
             "colorbar": {
              "outlinewidth": 0,
              "ticks": ""
             }
            },
            "type": "scatter3d"
           }
          ],
          "scattercarpet": [
           {
            "marker": {
             "colorbar": {
              "outlinewidth": 0,
              "ticks": ""
             }
            },
            "type": "scattercarpet"
           }
          ],
          "scattergeo": [
           {
            "marker": {
             "colorbar": {
              "outlinewidth": 0,
              "ticks": ""
             }
            },
            "type": "scattergeo"
           }
          ],
          "scattergl": [
           {
            "marker": {
             "colorbar": {
              "outlinewidth": 0,
              "ticks": ""
             }
            },
            "type": "scattergl"
           }
          ],
          "scattermapbox": [
           {
            "marker": {
             "colorbar": {
              "outlinewidth": 0,
              "ticks": ""
             }
            },
            "type": "scattermapbox"
           }
          ],
          "scatterpolar": [
           {
            "marker": {
             "colorbar": {
              "outlinewidth": 0,
              "ticks": ""
             }
            },
            "type": "scatterpolar"
           }
          ],
          "scatterpolargl": [
           {
            "marker": {
             "colorbar": {
              "outlinewidth": 0,
              "ticks": ""
             }
            },
            "type": "scatterpolargl"
           }
          ],
          "scatterternary": [
           {
            "marker": {
             "colorbar": {
              "outlinewidth": 0,
              "ticks": ""
             }
            },
            "type": "scatterternary"
           }
          ],
          "surface": [
           {
            "colorbar": {
             "outlinewidth": 0,
             "ticks": ""
            },
            "colorscale": [
             [
              0,
              "#0d0887"
             ],
             [
              0.1111111111111111,
              "#46039f"
             ],
             [
              0.2222222222222222,
              "#7201a8"
             ],
             [
              0.3333333333333333,
              "#9c179e"
             ],
             [
              0.4444444444444444,
              "#bd3786"
             ],
             [
              0.5555555555555556,
              "#d8576b"
             ],
             [
              0.6666666666666666,
              "#ed7953"
             ],
             [
              0.7777777777777778,
              "#fb9f3a"
             ],
             [
              0.8888888888888888,
              "#fdca26"
             ],
             [
              1,
              "#f0f921"
             ]
            ],
            "type": "surface"
           }
          ],
          "table": [
           {
            "cells": {
             "fill": {
              "color": "#EBF0F8"
             },
             "line": {
              "color": "white"
             }
            },
            "header": {
             "fill": {
              "color": "#C8D4E3"
             },
             "line": {
              "color": "white"
             }
            },
            "type": "table"
           }
          ]
         },
         "layout": {
          "annotationdefaults": {
           "arrowcolor": "#2a3f5f",
           "arrowhead": 0,
           "arrowwidth": 1
          },
          "autotypenumbers": "strict",
          "coloraxis": {
           "colorbar": {
            "outlinewidth": 0,
            "ticks": ""
           }
          },
          "colorscale": {
           "diverging": [
            [
             0,
             "#8e0152"
            ],
            [
             0.1,
             "#c51b7d"
            ],
            [
             0.2,
             "#de77ae"
            ],
            [
             0.3,
             "#f1b6da"
            ],
            [
             0.4,
             "#fde0ef"
            ],
            [
             0.5,
             "#f7f7f7"
            ],
            [
             0.6,
             "#e6f5d0"
            ],
            [
             0.7,
             "#b8e186"
            ],
            [
             0.8,
             "#7fbc41"
            ],
            [
             0.9,
             "#4d9221"
            ],
            [
             1,
             "#276419"
            ]
           ],
           "sequential": [
            [
             0,
             "#0d0887"
            ],
            [
             0.1111111111111111,
             "#46039f"
            ],
            [
             0.2222222222222222,
             "#7201a8"
            ],
            [
             0.3333333333333333,
             "#9c179e"
            ],
            [
             0.4444444444444444,
             "#bd3786"
            ],
            [
             0.5555555555555556,
             "#d8576b"
            ],
            [
             0.6666666666666666,
             "#ed7953"
            ],
            [
             0.7777777777777778,
             "#fb9f3a"
            ],
            [
             0.8888888888888888,
             "#fdca26"
            ],
            [
             1,
             "#f0f921"
            ]
           ],
           "sequentialminus": [
            [
             0,
             "#0d0887"
            ],
            [
             0.1111111111111111,
             "#46039f"
            ],
            [
             0.2222222222222222,
             "#7201a8"
            ],
            [
             0.3333333333333333,
             "#9c179e"
            ],
            [
             0.4444444444444444,
             "#bd3786"
            ],
            [
             0.5555555555555556,
             "#d8576b"
            ],
            [
             0.6666666666666666,
             "#ed7953"
            ],
            [
             0.7777777777777778,
             "#fb9f3a"
            ],
            [
             0.8888888888888888,
             "#fdca26"
            ],
            [
             1,
             "#f0f921"
            ]
           ]
          },
          "colorway": [
           "#636efa",
           "#EF553B",
           "#00cc96",
           "#ab63fa",
           "#FFA15A",
           "#19d3f3",
           "#FF6692",
           "#B6E880",
           "#FF97FF",
           "#FECB52"
          ],
          "font": {
           "color": "#2a3f5f"
          },
          "geo": {
           "bgcolor": "white",
           "lakecolor": "white",
           "landcolor": "#E5ECF6",
           "showlakes": true,
           "showland": true,
           "subunitcolor": "white"
          },
          "hoverlabel": {
           "align": "left"
          },
          "hovermode": "closest",
          "mapbox": {
           "style": "light"
          },
          "paper_bgcolor": "white",
          "plot_bgcolor": "#E5ECF6",
          "polar": {
           "angularaxis": {
            "gridcolor": "white",
            "linecolor": "white",
            "ticks": ""
           },
           "bgcolor": "#E5ECF6",
           "radialaxis": {
            "gridcolor": "white",
            "linecolor": "white",
            "ticks": ""
           }
          },
          "scene": {
           "xaxis": {
            "backgroundcolor": "#E5ECF6",
            "gridcolor": "white",
            "gridwidth": 2,
            "linecolor": "white",
            "showbackground": true,
            "ticks": "",
            "zerolinecolor": "white"
           },
           "yaxis": {
            "backgroundcolor": "#E5ECF6",
            "gridcolor": "white",
            "gridwidth": 2,
            "linecolor": "white",
            "showbackground": true,
            "ticks": "",
            "zerolinecolor": "white"
           },
           "zaxis": {
            "backgroundcolor": "#E5ECF6",
            "gridcolor": "white",
            "gridwidth": 2,
            "linecolor": "white",
            "showbackground": true,
            "ticks": "",
            "zerolinecolor": "white"
           }
          },
          "shapedefaults": {
           "line": {
            "color": "#2a3f5f"
           }
          },
          "ternary": {
           "aaxis": {
            "gridcolor": "white",
            "linecolor": "white",
            "ticks": ""
           },
           "baxis": {
            "gridcolor": "white",
            "linecolor": "white",
            "ticks": ""
           },
           "bgcolor": "#E5ECF6",
           "caxis": {
            "gridcolor": "white",
            "linecolor": "white",
            "ticks": ""
           }
          },
          "title": {
           "x": 0.05
          },
          "xaxis": {
           "automargin": true,
           "gridcolor": "white",
           "linecolor": "white",
           "ticks": "",
           "title": {
            "standoff": 15
           },
           "zerolinecolor": "white",
           "zerolinewidth": 2
          },
          "yaxis": {
           "automargin": true,
           "gridcolor": "white",
           "linecolor": "white",
           "ticks": "",
           "title": {
            "standoff": 15
           },
           "zerolinecolor": "white",
           "zerolinewidth": 2
          }
         }
        },
        "title": {
         "text": "Most common 3-grams in misleading reviews"
        },
        "width": 700,
        "xaxis": {
         "anchor": "y",
         "domain": [
          0,
          1
         ],
         "visible": false
        },
        "yaxis": {
         "anchor": "x",
         "domain": [
          0,
          1
         ],
         "visible": false
        }
       }
      }
     },
     "metadata": {},
     "output_type": "display_data"
    }
   ],
   "source": [
    "from wordcloud import WordCloud\n",
    "from PIL import Image\n",
    "\n",
    "ngrams_str = \" \".join(n_grams)\n",
    "\n",
    "# make house-shaped mask\n",
    "mask = np.array(Image.open(\"../../house_shape.png\"))\n",
    "# fill transparent areas with white\n",
    "mask[mask[:, :, 3] == 0] = [255, 255, 255, 255]\n",
    "\n",
    "# generate wordcloud\n",
    "wc = WordCloud(\n",
    "    background_color=\"white\", \n",
    "    max_words=1000, \n",
    "    width=mask.shape[0]*5,\n",
    "    height=mask.shape[1]*5,\n",
    "    mask = mask,\n",
    "    contour_width=3,\n",
    "    contour_color='steelblue',\n",
    "    colormap=\"twilight_shifted\"\n",
    ").generate(ngrams_str)\n",
    "\n",
    "wc\n",
    "\n",
    "# show wordcloud\n",
    "fig = px.imshow(wc, title=f\"Most common {N}-grams in misleading reviews\", width=700, height=700)\n",
    "fig.update_xaxes(visible=False)\n",
    "fig.update_yaxes(visible=False)\n",
    "fig.show()"
   ]
  },
  {
   "attachments": {},
   "cell_type": "markdown",
   "metadata": {},
   "source": [
    "Here is a reusable function to add ngrams features to a dataframe."
   ]
  },
  {
   "cell_type": "code",
   "execution_count": 9,
   "metadata": {},
   "outputs": [],
   "source": [
    "def ngrams_features(features, n, prefix=\"ngrams_\", corr_thresh=0.05):\n",
    "    \"\"\"Add n-gram features to the features dataframe.\"\"\"\n",
    "\n",
    "    # one-hot encode ngrams\n",
    "    df[\"ngrams\"] = df.comments.apply(lambda x: set(get_consecutive_ngrams(x, 3)))\n",
    "\n",
    "    # get set of ngrams\n",
    "    ng_set = set(series_to_ngrams(subset.comments, n).to_list())\n",
    "\n",
    "    # one-hot encode ngrams\n",
    "    ngram_features = {}\n",
    "    for ngram in ng_set:\n",
    "        ngram_features[prefix + ngram] = df.ngrams.apply(lambda ngrams: 1 if ngram in ngrams else 0)\n",
    "    ngram_df = pd.DataFrame(ngram_features)\n",
    "    \n",
    "    # filter features on correlation with label\n",
    "    ngrams_df = corr_filter(ngram_df, corr_thresh=corr_thresh)\n",
    "\n",
    "    # add ngram features to features dataframe\n",
    "    features = pd.concat([features, ngrams_df], axis=1)\n",
    "\n",
    "\n",
    "    return features"
   ]
  },
  {
   "cell_type": "code",
   "execution_count": 10,
   "metadata": {},
   "outputs": [
    {
     "name": "stdout",
     "output_type": "stream",
     "text": [
      "Features above correlation threshold (0.09):\n",
      "['ngrams_would_not_recommend', 'ngrams_no_toilet_paper', 'ngrams_not_recommend_staying', 'ngrams_write_negative_review', 'ngrams_sleep_bedroom_door', 'ngrams_specifically_asked_not', 'ngrams_told_cleaning_lady', 'ngrams_let_start_saying', 'ngrams_staying_another_unit', 'ngrams_felt_compelled_write', 'ngrams_living_room_couch', 'ngrams_property_management_company', 'ngrams_phone_call_text', 'ngrams_need_major_overhaul', 'ngrams_time_opened_door', 'ngrams_not_clean_arrived', 'ngrams_big_issue_u', 'ngrams_burned_light_bulb', 'ngrams_very_bad_shape', 'ngrams_never_responded_message', 'ngrams_not_feel_comfortable', 'ngrams_worse_experience_ever', 'ngrams_shower_curtain_covered', 'ngrams_never_met_host', 'ngrams_could_not_access', 'ngrams_place_sleep_10', 'ngrams_take_cold_shower', 'ngrams_old_not_well', 'ngrams_freezer_not_work', 'ngrams_got_no_response', 'ngrams_toilet_paper_buy', 'ngrams_not_really_clean', 'ngrams_expected_based_description', 'ngrams_got_no_answer', 'ngrams_need_deep_cleaning', 'ngrams_guest_not_able', 'ngrams_start_good_thing', 'ngrams_spend_lot_time', 'ngrams_very_old_not', 'ngrams_per_night_not', 'ngrams_obviously_not_cleaned', 'ngrams_call_text_message']\n"
     ]
    },
    {
     "data": {
      "text/html": [
       "<div>\n",
       "<style scoped>\n",
       "    .dataframe tbody tr th:only-of-type {\n",
       "        vertical-align: middle;\n",
       "    }\n",
       "\n",
       "    .dataframe tbody tr th {\n",
       "        vertical-align: top;\n",
       "    }\n",
       "\n",
       "    .dataframe thead th {\n",
       "        text-align: right;\n",
       "    }\n",
       "</style>\n",
       "<table border=\"1\" class=\"dataframe\">\n",
       "  <thead>\n",
       "    <tr style=\"text-align: right;\">\n",
       "      <th></th>\n",
       "      <th>ngrams_would_not_recommend</th>\n",
       "      <th>ngrams_no_toilet_paper</th>\n",
       "      <th>ngrams_not_recommend_staying</th>\n",
       "      <th>ngrams_write_negative_review</th>\n",
       "      <th>ngrams_sleep_bedroom_door</th>\n",
       "      <th>ngrams_specifically_asked_not</th>\n",
       "      <th>ngrams_told_cleaning_lady</th>\n",
       "      <th>ngrams_let_start_saying</th>\n",
       "      <th>ngrams_staying_another_unit</th>\n",
       "      <th>ngrams_felt_compelled_write</th>\n",
       "      <th>...</th>\n",
       "      <th>ngrams_expected_based_description</th>\n",
       "      <th>ngrams_got_no_answer</th>\n",
       "      <th>ngrams_need_deep_cleaning</th>\n",
       "      <th>ngrams_guest_not_able</th>\n",
       "      <th>ngrams_start_good_thing</th>\n",
       "      <th>ngrams_spend_lot_time</th>\n",
       "      <th>ngrams_very_old_not</th>\n",
       "      <th>ngrams_per_night_not</th>\n",
       "      <th>ngrams_obviously_not_cleaned</th>\n",
       "      <th>ngrams_call_text_message</th>\n",
       "    </tr>\n",
       "  </thead>\n",
       "  <tbody>\n",
       "    <tr>\n",
       "      <th>0</th>\n",
       "      <td>0</td>\n",
       "      <td>0</td>\n",
       "      <td>0</td>\n",
       "      <td>0</td>\n",
       "      <td>0</td>\n",
       "      <td>0</td>\n",
       "      <td>0</td>\n",
       "      <td>0</td>\n",
       "      <td>0</td>\n",
       "      <td>0</td>\n",
       "      <td>...</td>\n",
       "      <td>0</td>\n",
       "      <td>0</td>\n",
       "      <td>0</td>\n",
       "      <td>0</td>\n",
       "      <td>0</td>\n",
       "      <td>0</td>\n",
       "      <td>0</td>\n",
       "      <td>0</td>\n",
       "      <td>0</td>\n",
       "      <td>0</td>\n",
       "    </tr>\n",
       "    <tr>\n",
       "      <th>1</th>\n",
       "      <td>0</td>\n",
       "      <td>0</td>\n",
       "      <td>0</td>\n",
       "      <td>0</td>\n",
       "      <td>0</td>\n",
       "      <td>0</td>\n",
       "      <td>0</td>\n",
       "      <td>0</td>\n",
       "      <td>0</td>\n",
       "      <td>0</td>\n",
       "      <td>...</td>\n",
       "      <td>0</td>\n",
       "      <td>0</td>\n",
       "      <td>0</td>\n",
       "      <td>0</td>\n",
       "      <td>0</td>\n",
       "      <td>0</td>\n",
       "      <td>0</td>\n",
       "      <td>0</td>\n",
       "      <td>0</td>\n",
       "      <td>0</td>\n",
       "    </tr>\n",
       "    <tr>\n",
       "      <th>2</th>\n",
       "      <td>0</td>\n",
       "      <td>0</td>\n",
       "      <td>0</td>\n",
       "      <td>0</td>\n",
       "      <td>0</td>\n",
       "      <td>0</td>\n",
       "      <td>0</td>\n",
       "      <td>0</td>\n",
       "      <td>0</td>\n",
       "      <td>0</td>\n",
       "      <td>...</td>\n",
       "      <td>0</td>\n",
       "      <td>0</td>\n",
       "      <td>0</td>\n",
       "      <td>0</td>\n",
       "      <td>0</td>\n",
       "      <td>0</td>\n",
       "      <td>0</td>\n",
       "      <td>0</td>\n",
       "      <td>0</td>\n",
       "      <td>0</td>\n",
       "    </tr>\n",
       "    <tr>\n",
       "      <th>3</th>\n",
       "      <td>0</td>\n",
       "      <td>0</td>\n",
       "      <td>0</td>\n",
       "      <td>0</td>\n",
       "      <td>0</td>\n",
       "      <td>0</td>\n",
       "      <td>0</td>\n",
       "      <td>0</td>\n",
       "      <td>0</td>\n",
       "      <td>0</td>\n",
       "      <td>...</td>\n",
       "      <td>0</td>\n",
       "      <td>0</td>\n",
       "      <td>0</td>\n",
       "      <td>0</td>\n",
       "      <td>0</td>\n",
       "      <td>0</td>\n",
       "      <td>0</td>\n",
       "      <td>0</td>\n",
       "      <td>0</td>\n",
       "      <td>0</td>\n",
       "    </tr>\n",
       "    <tr>\n",
       "      <th>4</th>\n",
       "      <td>0</td>\n",
       "      <td>0</td>\n",
       "      <td>0</td>\n",
       "      <td>0</td>\n",
       "      <td>0</td>\n",
       "      <td>0</td>\n",
       "      <td>0</td>\n",
       "      <td>0</td>\n",
       "      <td>0</td>\n",
       "      <td>0</td>\n",
       "      <td>...</td>\n",
       "      <td>0</td>\n",
       "      <td>0</td>\n",
       "      <td>0</td>\n",
       "      <td>0</td>\n",
       "      <td>0</td>\n",
       "      <td>0</td>\n",
       "      <td>0</td>\n",
       "      <td>0</td>\n",
       "      <td>0</td>\n",
       "      <td>0</td>\n",
       "    </tr>\n",
       "    <tr>\n",
       "      <th>...</th>\n",
       "      <td>...</td>\n",
       "      <td>...</td>\n",
       "      <td>...</td>\n",
       "      <td>...</td>\n",
       "      <td>...</td>\n",
       "      <td>...</td>\n",
       "      <td>...</td>\n",
       "      <td>...</td>\n",
       "      <td>...</td>\n",
       "      <td>...</td>\n",
       "      <td>...</td>\n",
       "      <td>...</td>\n",
       "      <td>...</td>\n",
       "      <td>...</td>\n",
       "      <td>...</td>\n",
       "      <td>...</td>\n",
       "      <td>...</td>\n",
       "      <td>...</td>\n",
       "      <td>...</td>\n",
       "      <td>...</td>\n",
       "      <td>...</td>\n",
       "    </tr>\n",
       "    <tr>\n",
       "      <th>1541</th>\n",
       "      <td>0</td>\n",
       "      <td>0</td>\n",
       "      <td>0</td>\n",
       "      <td>1</td>\n",
       "      <td>0</td>\n",
       "      <td>0</td>\n",
       "      <td>0</td>\n",
       "      <td>0</td>\n",
       "      <td>0</td>\n",
       "      <td>0</td>\n",
       "      <td>...</td>\n",
       "      <td>0</td>\n",
       "      <td>0</td>\n",
       "      <td>0</td>\n",
       "      <td>0</td>\n",
       "      <td>0</td>\n",
       "      <td>0</td>\n",
       "      <td>0</td>\n",
       "      <td>0</td>\n",
       "      <td>0</td>\n",
       "      <td>0</td>\n",
       "    </tr>\n",
       "    <tr>\n",
       "      <th>1542</th>\n",
       "      <td>0</td>\n",
       "      <td>0</td>\n",
       "      <td>0</td>\n",
       "      <td>0</td>\n",
       "      <td>0</td>\n",
       "      <td>0</td>\n",
       "      <td>0</td>\n",
       "      <td>0</td>\n",
       "      <td>0</td>\n",
       "      <td>0</td>\n",
       "      <td>...</td>\n",
       "      <td>0</td>\n",
       "      <td>0</td>\n",
       "      <td>0</td>\n",
       "      <td>0</td>\n",
       "      <td>0</td>\n",
       "      <td>0</td>\n",
       "      <td>0</td>\n",
       "      <td>0</td>\n",
       "      <td>0</td>\n",
       "      <td>0</td>\n",
       "    </tr>\n",
       "    <tr>\n",
       "      <th>1543</th>\n",
       "      <td>0</td>\n",
       "      <td>0</td>\n",
       "      <td>0</td>\n",
       "      <td>0</td>\n",
       "      <td>0</td>\n",
       "      <td>0</td>\n",
       "      <td>0</td>\n",
       "      <td>0</td>\n",
       "      <td>0</td>\n",
       "      <td>0</td>\n",
       "      <td>...</td>\n",
       "      <td>0</td>\n",
       "      <td>0</td>\n",
       "      <td>0</td>\n",
       "      <td>0</td>\n",
       "      <td>0</td>\n",
       "      <td>0</td>\n",
       "      <td>0</td>\n",
       "      <td>0</td>\n",
       "      <td>0</td>\n",
       "      <td>0</td>\n",
       "    </tr>\n",
       "    <tr>\n",
       "      <th>1544</th>\n",
       "      <td>0</td>\n",
       "      <td>0</td>\n",
       "      <td>0</td>\n",
       "      <td>0</td>\n",
       "      <td>0</td>\n",
       "      <td>0</td>\n",
       "      <td>0</td>\n",
       "      <td>0</td>\n",
       "      <td>0</td>\n",
       "      <td>0</td>\n",
       "      <td>...</td>\n",
       "      <td>0</td>\n",
       "      <td>0</td>\n",
       "      <td>0</td>\n",
       "      <td>0</td>\n",
       "      <td>0</td>\n",
       "      <td>0</td>\n",
       "      <td>0</td>\n",
       "      <td>0</td>\n",
       "      <td>0</td>\n",
       "      <td>0</td>\n",
       "    </tr>\n",
       "    <tr>\n",
       "      <th>1545</th>\n",
       "      <td>0</td>\n",
       "      <td>0</td>\n",
       "      <td>0</td>\n",
       "      <td>0</td>\n",
       "      <td>0</td>\n",
       "      <td>0</td>\n",
       "      <td>0</td>\n",
       "      <td>0</td>\n",
       "      <td>0</td>\n",
       "      <td>0</td>\n",
       "      <td>...</td>\n",
       "      <td>0</td>\n",
       "      <td>0</td>\n",
       "      <td>0</td>\n",
       "      <td>0</td>\n",
       "      <td>0</td>\n",
       "      <td>0</td>\n",
       "      <td>0</td>\n",
       "      <td>0</td>\n",
       "      <td>0</td>\n",
       "      <td>0</td>\n",
       "    </tr>\n",
       "  </tbody>\n",
       "</table>\n",
       "<p>1546 rows × 42 columns</p>\n",
       "</div>"
      ],
      "text/plain": [
       "      ngrams_would_not_recommend  ngrams_no_toilet_paper  \\\n",
       "0                              0                       0   \n",
       "1                              0                       0   \n",
       "2                              0                       0   \n",
       "3                              0                       0   \n",
       "4                              0                       0   \n",
       "...                          ...                     ...   \n",
       "1541                           0                       0   \n",
       "1542                           0                       0   \n",
       "1543                           0                       0   \n",
       "1544                           0                       0   \n",
       "1545                           0                       0   \n",
       "\n",
       "      ngrams_not_recommend_staying  ngrams_write_negative_review  \\\n",
       "0                                0                             0   \n",
       "1                                0                             0   \n",
       "2                                0                             0   \n",
       "3                                0                             0   \n",
       "4                                0                             0   \n",
       "...                            ...                           ...   \n",
       "1541                             0                             1   \n",
       "1542                             0                             0   \n",
       "1543                             0                             0   \n",
       "1544                             0                             0   \n",
       "1545                             0                             0   \n",
       "\n",
       "      ngrams_sleep_bedroom_door  ngrams_specifically_asked_not  \\\n",
       "0                             0                              0   \n",
       "1                             0                              0   \n",
       "2                             0                              0   \n",
       "3                             0                              0   \n",
       "4                             0                              0   \n",
       "...                         ...                            ...   \n",
       "1541                          0                              0   \n",
       "1542                          0                              0   \n",
       "1543                          0                              0   \n",
       "1544                          0                              0   \n",
       "1545                          0                              0   \n",
       "\n",
       "      ngrams_told_cleaning_lady  ngrams_let_start_saying  \\\n",
       "0                             0                        0   \n",
       "1                             0                        0   \n",
       "2                             0                        0   \n",
       "3                             0                        0   \n",
       "4                             0                        0   \n",
       "...                         ...                      ...   \n",
       "1541                          0                        0   \n",
       "1542                          0                        0   \n",
       "1543                          0                        0   \n",
       "1544                          0                        0   \n",
       "1545                          0                        0   \n",
       "\n",
       "      ngrams_staying_another_unit  ngrams_felt_compelled_write  ...  \\\n",
       "0                               0                            0  ...   \n",
       "1                               0                            0  ...   \n",
       "2                               0                            0  ...   \n",
       "3                               0                            0  ...   \n",
       "4                               0                            0  ...   \n",
       "...                           ...                          ...  ...   \n",
       "1541                            0                            0  ...   \n",
       "1542                            0                            0  ...   \n",
       "1543                            0                            0  ...   \n",
       "1544                            0                            0  ...   \n",
       "1545                            0                            0  ...   \n",
       "\n",
       "      ngrams_expected_based_description  ngrams_got_no_answer  \\\n",
       "0                                     0                     0   \n",
       "1                                     0                     0   \n",
       "2                                     0                     0   \n",
       "3                                     0                     0   \n",
       "4                                     0                     0   \n",
       "...                                 ...                   ...   \n",
       "1541                                  0                     0   \n",
       "1542                                  0                     0   \n",
       "1543                                  0                     0   \n",
       "1544                                  0                     0   \n",
       "1545                                  0                     0   \n",
       "\n",
       "      ngrams_need_deep_cleaning  ngrams_guest_not_able  \\\n",
       "0                             0                      0   \n",
       "1                             0                      0   \n",
       "2                             0                      0   \n",
       "3                             0                      0   \n",
       "4                             0                      0   \n",
       "...                         ...                    ...   \n",
       "1541                          0                      0   \n",
       "1542                          0                      0   \n",
       "1543                          0                      0   \n",
       "1544                          0                      0   \n",
       "1545                          0                      0   \n",
       "\n",
       "      ngrams_start_good_thing  ngrams_spend_lot_time  ngrams_very_old_not  \\\n",
       "0                           0                      0                    0   \n",
       "1                           0                      0                    0   \n",
       "2                           0                      0                    0   \n",
       "3                           0                      0                    0   \n",
       "4                           0                      0                    0   \n",
       "...                       ...                    ...                  ...   \n",
       "1541                        0                      0                    0   \n",
       "1542                        0                      0                    0   \n",
       "1543                        0                      0                    0   \n",
       "1544                        0                      0                    0   \n",
       "1545                        0                      0                    0   \n",
       "\n",
       "      ngrams_per_night_not  ngrams_obviously_not_cleaned  \\\n",
       "0                        0                             0   \n",
       "1                        0                             0   \n",
       "2                        0                             0   \n",
       "3                        0                             0   \n",
       "4                        0                             0   \n",
       "...                    ...                           ...   \n",
       "1541                     0                             0   \n",
       "1542                     0                             0   \n",
       "1543                     0                             0   \n",
       "1544                     0                             0   \n",
       "1545                     0                             0   \n",
       "\n",
       "      ngrams_call_text_message  \n",
       "0                            0  \n",
       "1                            0  \n",
       "2                            0  \n",
       "3                            0  \n",
       "4                            0  \n",
       "...                        ...  \n",
       "1541                         0  \n",
       "1542                         0  \n",
       "1543                         0  \n",
       "1544                         0  \n",
       "1545                         0  \n",
       "\n",
       "[1546 rows x 42 columns]"
      ]
     },
     "execution_count": 10,
     "metadata": {},
     "output_type": "execute_result"
    }
   ],
   "source": [
    "features = pd.DataFrame()\n",
    "ngrams_features(features, 3, prefix=\"ngrams_\", corr_thresh=0.09)"
   ]
  },
  {
   "attachments": {},
   "cell_type": "markdown",
   "metadata": {},
   "source": [
    "## \"Mentioned Amenities\" Features\n",
    "Was an amenity that was included in the listing mentioned in the review?"
   ]
  },
  {
   "attachments": {},
   "cell_type": "markdown",
   "metadata": {},
   "source": [
    "First, we need to do some cleaning amenities to make them easier to match."
   ]
  },
  {
   "cell_type": "code",
   "execution_count": 13,
   "metadata": {},
   "outputs": [],
   "source": [
    "import re\n",
    "\n",
    "def clean_amenities(amenities):\n",
    "    \"\"\"Clean the amenities column.\"\"\"\n",
    "\n",
    "    cleaned = []\n",
    "\n",
    "    # basic cleaning\n",
    "    for amenity in amenities:\n",
    "        # remove quotes\n",
    "        amenity = amenity.replace('\"', \"\")\n",
    "        # remove anything in parentheses or brackets\n",
    "        amenity = re.sub(r\"\\(.*\\)\", \"\", amenity)\n",
    "        amenity = re.sub(r\"\\[.*\\]\", \"\", amenity)\n",
    "        # strip whitespace\n",
    "        amenity = amenity.strip()\n",
    "        # lowercase\n",
    "        amenity = amenity.lower()\n",
    "        # remove curly brackets\n",
    "        amenity = amenity.replace(\"{\", \"\").replace(\"}\", \"\")\n",
    "\n",
    "\n",
    "        cleaned.append(amenity)\n",
    "\n",
    "    # split entries with a slash, \"and\", or \"or\"\n",
    "    for to_split_on in [\"/\", \" and \", \" or \"]:\n",
    "        cleaned = [amenity.split(to_split_on) for amenity in cleaned]\n",
    "        cleaned = [item.strip() for sublist in cleaned for item in sublist]\n",
    "\n",
    "    # remove empty strings\n",
    "    cleaned = [amenity for amenity in cleaned if amenity != \"\"]\n",
    "\n",
    "    return cleaned\n",
    "\n",
    "df.amenities = df.amenities.apply(clean_amenities)"
   ]
  },
  {
   "attachments": {},
   "cell_type": "markdown",
   "metadata": {},
   "source": [
    "Look at some examples of the cleaned amenities."
   ]
  },
  {
   "cell_type": "code",
   "execution_count": 14,
   "metadata": {},
   "outputs": [
    {
     "data": {
      "text/plain": [
       "['tv',\n",
       " 'cable tv',\n",
       " 'internet',\n",
       " 'wifi',\n",
       " 'air conditioning',\n",
       " 'wheelchair accessible',\n",
       " 'kitchen',\n",
       " 'free parking on premises',\n",
       " 'breakfast',\n",
       " 'free street parking',\n",
       " 'heating',\n",
       " 'family',\n",
       " 'kid friendly',\n",
       " 'washer',\n",
       " 'dryer',\n",
       " 'smoke detector',\n",
       " 'first aid kit',\n",
       " 'fire extinguisher',\n",
       " 'essentials',\n",
       " 'shampoo',\n",
       " '24-hour check-in',\n",
       " 'hangers',\n",
       " 'hair dryer',\n",
       " 'iron',\n",
       " 'laptop friendly workspace',\n",
       " 'self check-in',\n",
       " 'keypad',\n",
       " 'hot water']"
      ]
     },
     "execution_count": 14,
     "metadata": {},
     "output_type": "execute_result"
    }
   ],
   "source": [
    "df.amenities.sample(1).values[0]"
   ]
  },
  {
   "attachments": {},
   "cell_type": "markdown",
   "metadata": {},
   "source": [
    "Calculate our amenities features, and look at the correlation between them and the label."
   ]
  },
  {
   "cell_type": "code",
   "execution_count": 15,
   "metadata": {},
   "outputs": [
    {
     "name": "stdout",
     "output_type": "stream",
     "text": [
      "Adding amenities features...\n",
      "Features above correlation threshold (0.05):\n",
      "['lockbox', 'dishwasher', 'pool', 'keypad', 'tv', 'stove', 'bathtub', 'balcony', 'shampoo', 'garden', 'cat', 'family', 'breakfast']\n"
     ]
    },
    {
     "data": {
      "text/html": [
       "<div>\n",
       "<style scoped>\n",
       "    .dataframe tbody tr th:only-of-type {\n",
       "        vertical-align: middle;\n",
       "    }\n",
       "\n",
       "    .dataframe tbody tr th {\n",
       "        vertical-align: top;\n",
       "    }\n",
       "\n",
       "    .dataframe thead th {\n",
       "        text-align: right;\n",
       "    }\n",
       "</style>\n",
       "<table border=\"1\" class=\"dataframe\">\n",
       "  <thead>\n",
       "    <tr style=\"text-align: right;\">\n",
       "      <th></th>\n",
       "      <th>lockbox</th>\n",
       "      <th>dishwasher</th>\n",
       "      <th>pool</th>\n",
       "      <th>keypad</th>\n",
       "      <th>tv</th>\n",
       "      <th>stove</th>\n",
       "      <th>bathtub</th>\n",
       "      <th>balcony</th>\n",
       "      <th>shampoo</th>\n",
       "      <th>garden</th>\n",
       "      <th>cat</th>\n",
       "      <th>family</th>\n",
       "      <th>breakfast</th>\n",
       "      <th>review_id</th>\n",
       "      <th>label</th>\n",
       "    </tr>\n",
       "  </thead>\n",
       "  <tbody>\n",
       "    <tr>\n",
       "      <th>0</th>\n",
       "      <td>0.0</td>\n",
       "      <td>0.0</td>\n",
       "      <td>0.0</td>\n",
       "      <td>0.0</td>\n",
       "      <td>0.0</td>\n",
       "      <td>0.0</td>\n",
       "      <td>0.0</td>\n",
       "      <td>0.0</td>\n",
       "      <td>0.0</td>\n",
       "      <td>0.0</td>\n",
       "      <td>0.0</td>\n",
       "      <td>0.0</td>\n",
       "      <td>0.0</td>\n",
       "      <td>83097</td>\n",
       "      <td>good</td>\n",
       "    </tr>\n",
       "    <tr>\n",
       "      <th>2</th>\n",
       "      <td>0.0</td>\n",
       "      <td>0.0</td>\n",
       "      <td>0.0</td>\n",
       "      <td>0.0</td>\n",
       "      <td>0.0</td>\n",
       "      <td>0.0</td>\n",
       "      <td>0.0</td>\n",
       "      <td>0.0</td>\n",
       "      <td>0.0</td>\n",
       "      <td>0.0</td>\n",
       "      <td>0.0</td>\n",
       "      <td>0.0</td>\n",
       "      <td>0.0</td>\n",
       "      <td>150928</td>\n",
       "      <td>good</td>\n",
       "    </tr>\n",
       "    <tr>\n",
       "      <th>4</th>\n",
       "      <td>0.0</td>\n",
       "      <td>0.0</td>\n",
       "      <td>0.0</td>\n",
       "      <td>0.0</td>\n",
       "      <td>0.0</td>\n",
       "      <td>0.0</td>\n",
       "      <td>0.0</td>\n",
       "      <td>0.0</td>\n",
       "      <td>0.0</td>\n",
       "      <td>1.0</td>\n",
       "      <td>0.0</td>\n",
       "      <td>0.0</td>\n",
       "      <td>0.0</td>\n",
       "      <td>8602878</td>\n",
       "      <td>good</td>\n",
       "    </tr>\n",
       "    <tr>\n",
       "      <th>5</th>\n",
       "      <td>0.0</td>\n",
       "      <td>0.0</td>\n",
       "      <td>0.0</td>\n",
       "      <td>0.0</td>\n",
       "      <td>0.0</td>\n",
       "      <td>0.0</td>\n",
       "      <td>0.0</td>\n",
       "      <td>0.0</td>\n",
       "      <td>0.0</td>\n",
       "      <td>0.0</td>\n",
       "      <td>0.0</td>\n",
       "      <td>0.0</td>\n",
       "      <td>0.0</td>\n",
       "      <td>17827296</td>\n",
       "      <td>mgood</td>\n",
       "    </tr>\n",
       "    <tr>\n",
       "      <th>6</th>\n",
       "      <td>0.0</td>\n",
       "      <td>0.0</td>\n",
       "      <td>0.0</td>\n",
       "      <td>0.0</td>\n",
       "      <td>0.0</td>\n",
       "      <td>0.0</td>\n",
       "      <td>0.0</td>\n",
       "      <td>0.0</td>\n",
       "      <td>0.0</td>\n",
       "      <td>0.0</td>\n",
       "      <td>0.0</td>\n",
       "      <td>0.0</td>\n",
       "      <td>0.0</td>\n",
       "      <td>22768604</td>\n",
       "      <td>good</td>\n",
       "    </tr>\n",
       "  </tbody>\n",
       "</table>\n",
       "</div>"
      ],
      "text/plain": [
       "   lockbox  dishwasher  pool  keypad   tv  stove  bathtub  balcony  shampoo  \\\n",
       "0      0.0         0.0   0.0     0.0  0.0    0.0      0.0      0.0      0.0   \n",
       "2      0.0         0.0   0.0     0.0  0.0    0.0      0.0      0.0      0.0   \n",
       "4      0.0         0.0   0.0     0.0  0.0    0.0      0.0      0.0      0.0   \n",
       "5      0.0         0.0   0.0     0.0  0.0    0.0      0.0      0.0      0.0   \n",
       "6      0.0         0.0   0.0     0.0  0.0    0.0      0.0      0.0      0.0   \n",
       "\n",
       "   garden  cat  family  breakfast  review_id  label  \n",
       "0     0.0  0.0     0.0        0.0      83097   good  \n",
       "2     0.0  0.0     0.0        0.0     150928   good  \n",
       "4     1.0  0.0     0.0        0.0    8602878   good  \n",
       "5     0.0  0.0     0.0        0.0   17827296  mgood  \n",
       "6     0.0  0.0     0.0        0.0   22768604   good  "
      ]
     },
     "execution_count": 15,
     "metadata": {},
     "output_type": "execute_result"
    }
   ],
   "source": [
    "def amenities_features(features: pd.DataFrame, corr_thresh=None, prefix=\"amenities_\") -> pd.DataFrame:\n",
    "    print(\"Adding amenities features...\")\n",
    "    amenities_features_df = pd.DataFrame()\n",
    "    # 1. Find the amenities in the listings\n",
    "    for index, row in df.iterrows():\n",
    "        # 1. Find the amenities in the listings\n",
    "        amenities = row.amenities\n",
    "\n",
    "        # Add one row to the features dataframe using pd.concat\n",
    "        amenities_features_df = pd.concat([amenities_features_df, pd.DataFrame(columns=amenities_features_df.columns)])\n",
    "\n",
    "        # 2. For each amenity, see if it is present in the review\n",
    "        for amenity in amenities:\n",
    "            if amenity in row.comments:\n",
    "                # 3. If it is present, add 1 for that feature\n",
    "                if amenity in amenities_features_df.columns:\n",
    "                    amenities_features_df.loc[index, amenity] = 1\n",
    "                #   If the amenity does not already exist from another review, add it to the features dataframe\n",
    "                else:\n",
    "                    amenities_features_df.loc[index, amenity] = 0\n",
    "    \n",
    "    # 4. fill missing values with 0\n",
    "    amenities_features_df = amenities_features_df.fillna(0)\n",
    "\n",
    "    # 6. Only keep amenities features that have a correlation with the label above a certain threshold\n",
    "    amenities_features_df = corr_filter(amenities_features_df, corr_thresh=corr_thresh)\n",
    "\n",
    "    # prefix features\n",
    "    amenities_features_df = amenities_features_df.add_prefix(prefix)\n",
    "\n",
    "    # 5. Add the features to the greater features dataframe\n",
    "    features = pd.concat([features, amenities_features_df], axis=1)\n",
    "\n",
    "    return features\n",
    "\n",
    "features = pd.DataFrame()\n",
    "features_with_amenities = amenities_features(features, corr_thresh=0.05, prefix=\"\")\n",
    "features_with_amenities[\"review_id\"] = df.review_id\n",
    "features_with_amenities[\"label\"] = df.label\n",
    "features_with_amenities.head()"
   ]
  },
  {
   "attachments": {},
   "cell_type": "markdown",
   "metadata": {},
   "source": [
    "Let's look at the amenities with the highest correlation to the label."
   ]
  },
  {
   "cell_type": "code",
   "execution_count": 16,
   "metadata": {},
   "outputs": [
    {
     "name": "stderr",
     "output_type": "stream",
     "text": [
      "C:\\Users\\grego\\AppData\\Local\\Temp\\ipykernel_5184\\2336534246.py:6: FutureWarning:\n",
      "\n",
      "The default value of numeric_only in DataFrame.corrwith is deprecated. In a future version, it will default to False. Select only valid columns or specify the value of numeric_only to silence this warning.\n",
      "\n"
     ]
    },
    {
     "data": {
      "text/plain": [
       "lockbox       0.122009\n",
       "dishwasher    0.093155\n",
       "pool          0.081142\n",
       "keypad        0.072611\n",
       "tv            0.064537\n",
       "stove         0.063505\n",
       "bathtub       0.063416\n",
       "balcony      -0.052142\n",
       "shampoo      -0.054976\n",
       "garden       -0.075141\n",
       "cat          -0.075388\n",
       "family       -0.083227\n",
       "breakfast    -0.084915\n",
       "dtype: float64"
      ]
     },
     "execution_count": 16,
     "metadata": {},
     "output_type": "execute_result"
    }
   ],
   "source": [
    "# OHE labels\n",
    "labels_list: list = features_with_amenities.label.unique().tolist()\n",
    "dummies = features_with_amenities.label.apply(lambda label: labels_list.index(label))\n",
    "\n",
    "# calculate correlations with the label\n",
    "corrs = features_with_amenities.drop(\"review_id\", axis=1).corrwith(dummies).sort_values(ascending=False)\n",
    "corrs"
   ]
  },
  {
   "attachments": {},
   "cell_type": "markdown",
   "metadata": {},
   "source": [
    "## Word Embeddings\n",
    "Another way to look at the data is to use word embeddings. We can use the word2vec model from gensim to create word embeddings for each word in the dataset. We can then take the average of all word vectors in a review to get a vector representation of the review. For now, let's embed into a 10-dimensional space."
   ]
  },
  {
   "cell_type": "code",
   "execution_count": 17,
   "metadata": {},
   "outputs": [],
   "source": [
    "from gensim.models.word2vec import Word2Vec\n",
    "from typing import Tuple\n",
    "\n",
    "def embeddings_features(features, emb_vector_size=10, col=\"comments\") -> Tuple[pd.DataFrame, Word2Vec]:\n",
    "\n",
    "    print(\"Creating model...\")\n",
    "    model = Word2Vec(df[col].to_list(), \n",
    "            min_count=1,\n",
    "            vector_size=emb_vector_size,\n",
    "            workers=3, \n",
    "            window=3, \n",
    "            sg=1\n",
    "        )\n",
    "    \n",
    "    # generate embeddings\n",
    "    print(\"Generating embeddings...\")\n",
    "    get_review_embeddings = lambda review: np.mean([model.wv[word] for word in review if word in model.wv], axis=0)\n",
    "    embeddings = np.array([get_review_embeddings(review) for review in df[col].to_list()])\n",
    "    \n",
    "    for i in range(embeddings.shape[1]):\n",
    "        features[f\"embedding_{col}_{i}\"] = embeddings[:, i]\n",
    "    \n",
    "    return features, model"
   ]
  },
  {
   "attachments": {},
   "cell_type": "markdown",
   "metadata": {},
   "source": [
    "# Generate Features"
   ]
  },
  {
   "attachments": {},
   "cell_type": "markdown",
   "metadata": {},
   "source": [
    "With what we know, let's generate some features. I've provided a function for each type of feature, so we can mix and match."
   ]
  },
  {
   "cell_type": "code",
   "execution_count": 18,
   "metadata": {},
   "outputs": [
    {
     "name": "stdout",
     "output_type": "stream",
     "text": [
      "Creating model...\n",
      "Generating embeddings...\n",
      "Creating model...\n",
      "Generating embeddings...\n",
      "Features above correlation threshold (0.09):\n",
      "['3gram09_would_not_recommend', '3gram09_no_toilet_paper', '3gram09_not_recommend_staying', '3gram09_write_negative_review', '3gram09_sleep_bedroom_door', '3gram09_specifically_asked_not', '3gram09_told_cleaning_lady', '3gram09_let_start_saying', '3gram09_staying_another_unit', '3gram09_felt_compelled_write', '3gram09_living_room_couch', '3gram09_property_management_company', '3gram09_phone_call_text', '3gram09_need_major_overhaul', '3gram09_time_opened_door', '3gram09_not_clean_arrived', '3gram09_big_issue_u', '3gram09_burned_light_bulb', '3gram09_very_bad_shape', '3gram09_never_responded_message', '3gram09_not_feel_comfortable', '3gram09_worse_experience_ever', '3gram09_shower_curtain_covered', '3gram09_never_met_host', '3gram09_could_not_access', '3gram09_place_sleep_10', '3gram09_take_cold_shower', '3gram09_old_not_well', '3gram09_freezer_not_work', '3gram09_got_no_response', '3gram09_toilet_paper_buy', '3gram09_not_really_clean', '3gram09_expected_based_description', '3gram09_got_no_answer', '3gram09_need_deep_cleaning', '3gram09_guest_not_able', '3gram09_start_good_thing', '3gram09_spend_lot_time', '3gram09_very_old_not', '3gram09_per_night_not', '3gram09_obviously_not_cleaned', '3gram09_call_text_message']\n",
      "Features above correlation threshold (0.1):\n",
      "['3gram10_would_not_recommend', '3gram10_no_toilet_paper']\n",
      "Adding amenities features...\n",
      "Features above correlation threshold (0.05):\n",
      "['lockbox', 'dishwasher', 'pool', 'keypad', 'tv', 'stove', 'bathtub', 'balcony', 'shampoo', 'garden', 'cat', 'family', 'breakfast']\n",
      "Adding amenities features...\n",
      "(1546, 111)\n"
     ]
    },
    {
     "data": {
      "text/html": [
       "<div>\n",
       "<style scoped>\n",
       "    .dataframe tbody tr th:only-of-type {\n",
       "        vertical-align: middle;\n",
       "    }\n",
       "\n",
       "    .dataframe tbody tr th {\n",
       "        vertical-align: top;\n",
       "    }\n",
       "\n",
       "    .dataframe thead th {\n",
       "        text-align: right;\n",
       "    }\n",
       "</style>\n",
       "<table border=\"1\" class=\"dataframe\">\n",
       "  <thead>\n",
       "    <tr style=\"text-align: right;\">\n",
       "      <th></th>\n",
       "      <th>embedding_comments_0</th>\n",
       "      <th>embedding_comments_1</th>\n",
       "      <th>embedding_comments_2</th>\n",
       "      <th>embedding_comments_3</th>\n",
       "      <th>embedding_comments_4</th>\n",
       "      <th>embedding_comments_5</th>\n",
       "      <th>embedding_comments_6</th>\n",
       "      <th>embedding_comments_7</th>\n",
       "      <th>embedding_comments_8</th>\n",
       "      <th>embedding_comments_9</th>\n",
       "      <th>...</th>\n",
       "      <th>amenityall_bathtub</th>\n",
       "      <th>amenityall_lockbox</th>\n",
       "      <th>amenityall_crib</th>\n",
       "      <th>amenityall_elevator</th>\n",
       "      <th>amenityall_gym</th>\n",
       "      <th>amenityall_oven</th>\n",
       "      <th>amenityall_waterfront</th>\n",
       "      <th>amenityall_toilet</th>\n",
       "      <th>review_id</th>\n",
       "      <th>label</th>\n",
       "    </tr>\n",
       "  </thead>\n",
       "  <tbody>\n",
       "    <tr>\n",
       "      <th>0</th>\n",
       "      <td>0.338031</td>\n",
       "      <td>-0.165832</td>\n",
       "      <td>0.301193</td>\n",
       "      <td>0.127120</td>\n",
       "      <td>0.048022</td>\n",
       "      <td>-0.157117</td>\n",
       "      <td>0.983422</td>\n",
       "      <td>0.900146</td>\n",
       "      <td>-1.265378</td>\n",
       "      <td>-0.184577</td>\n",
       "      <td>...</td>\n",
       "      <td>0.0</td>\n",
       "      <td>0.0</td>\n",
       "      <td>0.0</td>\n",
       "      <td>0.0</td>\n",
       "      <td>0.0</td>\n",
       "      <td>0.0</td>\n",
       "      <td>0.0</td>\n",
       "      <td>0.0</td>\n",
       "      <td>83097</td>\n",
       "      <td>good</td>\n",
       "    </tr>\n",
       "    <tr>\n",
       "      <th>1</th>\n",
       "      <td>0.451428</td>\n",
       "      <td>-0.091242</td>\n",
       "      <td>0.171850</td>\n",
       "      <td>0.176649</td>\n",
       "      <td>0.137625</td>\n",
       "      <td>-0.433338</td>\n",
       "      <td>0.852268</td>\n",
       "      <td>0.922227</td>\n",
       "      <td>-1.234339</td>\n",
       "      <td>-0.144313</td>\n",
       "      <td>...</td>\n",
       "      <td>0.0</td>\n",
       "      <td>0.0</td>\n",
       "      <td>0.0</td>\n",
       "      <td>0.0</td>\n",
       "      <td>0.0</td>\n",
       "      <td>0.0</td>\n",
       "      <td>0.0</td>\n",
       "      <td>0.0</td>\n",
       "      <td>133337</td>\n",
       "      <td>good</td>\n",
       "    </tr>\n",
       "    <tr>\n",
       "      <th>2</th>\n",
       "      <td>0.315563</td>\n",
       "      <td>-0.237604</td>\n",
       "      <td>0.333055</td>\n",
       "      <td>0.154189</td>\n",
       "      <td>0.092074</td>\n",
       "      <td>-0.127178</td>\n",
       "      <td>0.954841</td>\n",
       "      <td>0.819653</td>\n",
       "      <td>-1.328825</td>\n",
       "      <td>-0.157059</td>\n",
       "      <td>...</td>\n",
       "      <td>0.0</td>\n",
       "      <td>0.0</td>\n",
       "      <td>0.0</td>\n",
       "      <td>0.0</td>\n",
       "      <td>0.0</td>\n",
       "      <td>0.0</td>\n",
       "      <td>0.0</td>\n",
       "      <td>0.0</td>\n",
       "      <td>150928</td>\n",
       "      <td>good</td>\n",
       "    </tr>\n",
       "    <tr>\n",
       "      <th>3</th>\n",
       "      <td>0.297630</td>\n",
       "      <td>-0.256681</td>\n",
       "      <td>0.351303</td>\n",
       "      <td>0.047157</td>\n",
       "      <td>0.096605</td>\n",
       "      <td>-0.247811</td>\n",
       "      <td>1.027928</td>\n",
       "      <td>1.068086</td>\n",
       "      <td>-1.328207</td>\n",
       "      <td>-0.148037</td>\n",
       "      <td>...</td>\n",
       "      <td>0.0</td>\n",
       "      <td>0.0</td>\n",
       "      <td>0.0</td>\n",
       "      <td>0.0</td>\n",
       "      <td>0.0</td>\n",
       "      <td>0.0</td>\n",
       "      <td>0.0</td>\n",
       "      <td>0.0</td>\n",
       "      <td>2706775</td>\n",
       "      <td>good</td>\n",
       "    </tr>\n",
       "    <tr>\n",
       "      <th>4</th>\n",
       "      <td>0.421225</td>\n",
       "      <td>-0.163585</td>\n",
       "      <td>0.321153</td>\n",
       "      <td>0.137582</td>\n",
       "      <td>0.151561</td>\n",
       "      <td>-0.104299</td>\n",
       "      <td>0.908887</td>\n",
       "      <td>0.880334</td>\n",
       "      <td>-1.174053</td>\n",
       "      <td>-0.228611</td>\n",
       "      <td>...</td>\n",
       "      <td>0.0</td>\n",
       "      <td>0.0</td>\n",
       "      <td>0.0</td>\n",
       "      <td>0.0</td>\n",
       "      <td>0.0</td>\n",
       "      <td>0.0</td>\n",
       "      <td>0.0</td>\n",
       "      <td>0.0</td>\n",
       "      <td>8602878</td>\n",
       "      <td>good</td>\n",
       "    </tr>\n",
       "  </tbody>\n",
       "</table>\n",
       "<p>5 rows × 111 columns</p>\n",
       "</div>"
      ],
      "text/plain": [
       "   embedding_comments_0  embedding_comments_1  embedding_comments_2  \\\n",
       "0              0.338031             -0.165832              0.301193   \n",
       "1              0.451428             -0.091242              0.171850   \n",
       "2              0.315563             -0.237604              0.333055   \n",
       "3              0.297630             -0.256681              0.351303   \n",
       "4              0.421225             -0.163585              0.321153   \n",
       "\n",
       "   embedding_comments_3  embedding_comments_4  embedding_comments_5  \\\n",
       "0              0.127120              0.048022             -0.157117   \n",
       "1              0.176649              0.137625             -0.433338   \n",
       "2              0.154189              0.092074             -0.127178   \n",
       "3              0.047157              0.096605             -0.247811   \n",
       "4              0.137582              0.151561             -0.104299   \n",
       "\n",
       "   embedding_comments_6  embedding_comments_7  embedding_comments_8  \\\n",
       "0              0.983422              0.900146             -1.265378   \n",
       "1              0.852268              0.922227             -1.234339   \n",
       "2              0.954841              0.819653             -1.328825   \n",
       "3              1.027928              1.068086             -1.328207   \n",
       "4              0.908887              0.880334             -1.174053   \n",
       "\n",
       "   embedding_comments_9  ...  amenityall_bathtub  amenityall_lockbox  \\\n",
       "0             -0.184577  ...                 0.0                 0.0   \n",
       "1             -0.144313  ...                 0.0                 0.0   \n",
       "2             -0.157059  ...                 0.0                 0.0   \n",
       "3             -0.148037  ...                 0.0                 0.0   \n",
       "4             -0.228611  ...                 0.0                 0.0   \n",
       "\n",
       "   amenityall_crib  amenityall_elevator  amenityall_gym  amenityall_oven  \\\n",
       "0              0.0                  0.0             0.0              0.0   \n",
       "1              0.0                  0.0             0.0              0.0   \n",
       "2              0.0                  0.0             0.0              0.0   \n",
       "3              0.0                  0.0             0.0              0.0   \n",
       "4              0.0                  0.0             0.0              0.0   \n",
       "\n",
       "   amenityall_waterfront  amenityall_toilet  review_id  label  \n",
       "0                    0.0                0.0      83097   good  \n",
       "1                    0.0                0.0     133337   good  \n",
       "2                    0.0                0.0     150928   good  \n",
       "3                    0.0                0.0    2706775   good  \n",
       "4                    0.0                0.0    8602878   good  \n",
       "\n",
       "[5 rows x 111 columns]"
      ]
     },
     "execution_count": 18,
     "metadata": {},
     "output_type": "execute_result"
    }
   ],
   "source": [
    "features = pd.DataFrame()\n",
    "\n",
    "# get the embeddings\n",
    "embeddings_comments, w2vmodel_comments = embeddings_features(features, col=\"comments\", emb_vector_size=10)\n",
    "embeddings_description, w2vmodel_description = embeddings_features(features, col=\"description\", emb_vector_size=10)\n",
    "features = pd.concat([features, embeddings_comments, embeddings_description], axis=1)\n",
    "\n",
    "# for some reason there are duplicate columns after this. Remove them.\n",
    "features = features.loc[:,~features.columns.duplicated()].copy()\n",
    "\n",
    "# get 3-grams with 0.09  and 0.1 correlation thresholds\n",
    "features = ngrams_features(features, n=3, corr_thresh=0.09, prefix=\"3gram09_\")\n",
    "features = ngrams_features(features, n=3, corr_thresh=0.1, prefix=\"3gram10_\")\n",
    "\n",
    "# get the amenities\n",
    "features = amenities_features(features, corr_thresh=0.05, prefix=\"amenity005_\")\n",
    "features = amenities_features(features, corr_thresh=None, prefix=\"amenityall_\")\n",
    "\n",
    "# fill missing values with 0\n",
    "features = features.fillna(0)\n",
    "\n",
    "features[\"review_id\"] = df.review_id\n",
    "features[\"label\"] = df.label\n",
    "\n",
    "print(features.shape)\n",
    "\n",
    "features.head()"
   ]
  },
  {
   "attachments": {},
   "cell_type": "markdown",
   "metadata": {},
   "source": [
    "## Save the features"
   ]
  },
  {
   "attachments": {},
   "cell_type": "markdown",
   "metadata": {},
   "source": [
    "Here we will save the features to a csv. We will also save the trained word2vec model, so we can use it later."
   ]
  },
  {
   "cell_type": "code",
   "execution_count": 33,
   "metadata": {},
   "outputs": [],
   "source": [
    "if isinstance(GEO, list):\n",
    "    geo_display_name = \"_\".join(GEO)\n",
    "else:\n",
    "    geo_display_name = GEO\n",
    "\n",
    "features.to_csv(f\"../../data/features/features_{geo_display_name}.csv\", index=False)"
   ]
  },
  {
   "cell_type": "code",
   "execution_count": 34,
   "metadata": {},
   "outputs": [],
   "source": [
    "# save the w2v models\n",
    "w2vmodel_comments.save(f\"../../models/w2vmodel_comments_{geo_display_name}.model\")\n",
    "w2vmodel_description.save(f\"../../models/w2vmodel_description_{geo_display_name}.model\")"
   ]
  },
  {
   "cell_type": "code",
   "execution_count": null,
   "metadata": {},
   "outputs": [],
   "source": []
  }
 ],
 "metadata": {
  "kernelspec": {
   "display_name": "venv",
   "language": "python",
   "name": "python3"
  },
  "language_info": {
   "codemirror_mode": {
    "name": "ipython",
    "version": 3
   },
   "file_extension": ".py",
   "mimetype": "text/x-python",
   "name": "python",
   "nbconvert_exporter": "python",
   "pygments_lexer": "ipython3",
   "version": "3.10.4"
  },
  "orig_nbformat": 4,
  "vscode": {
   "interpreter": {
    "hash": "cf086def782804284d24881115c612afdcc8ea791299ba67855f0c7f1a9ccc5a"
   }
  }
 },
 "nbformat": 4,
 "nbformat_minor": 2
}
