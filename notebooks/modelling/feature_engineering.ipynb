{
 "cells": [
  {
   "attachments": {},
   "cell_type": "markdown",
   "metadata": {},
   "source": [
    "## Feature Engineering on the processed dataset"
   ]
  },
  {
   "cell_type": "code",
   "execution_count": 1,
   "metadata": {},
   "outputs": [],
   "source": [
    "import pandas as pd\n",
    "import numpy as np\n",
    "import matplotlib.pyplot as plt\n",
    "import plotly.express as px"
   ]
  },
  {
   "cell_type": "code",
   "execution_count": 42,
   "metadata": {},
   "outputs": [
    {
     "name": "stdout",
     "output_type": "stream",
     "text": [
      "(1629, 9)\n"
     ]
    },
    {
     "data": {
      "text/html": [
       "<div>\n",
       "<style scoped>\n",
       "    .dataframe tbody tr th:only-of-type {\n",
       "        vertical-align: middle;\n",
       "    }\n",
       "\n",
       "    .dataframe tbody tr th {\n",
       "        vertical-align: top;\n",
       "    }\n",
       "\n",
       "    .dataframe thead th {\n",
       "        text-align: right;\n",
       "    }\n",
       "</style>\n",
       "<table border=\"1\" class=\"dataframe\">\n",
       "  <thead>\n",
       "    <tr style=\"text-align: right;\">\n",
       "      <th></th>\n",
       "      <th>review_id</th>\n",
       "      <th>listing_id</th>\n",
       "      <th>description</th>\n",
       "      <th>comments</th>\n",
       "      <th>sentiment</th>\n",
       "      <th>label</th>\n",
       "      <th>name</th>\n",
       "      <th>amenities</th>\n",
       "      <th>source</th>\n",
       "    </tr>\n",
       "  </thead>\n",
       "  <tbody>\n",
       "    <tr>\n",
       "      <th>0</th>\n",
       "      <td>83097</td>\n",
       "      <td>5456</td>\n",
       "      <td>[fabulous, location, walking, convention, cent...</td>\n",
       "      <td>[sylvia, very, nice, informal, relaxed, arrive...</td>\n",
       "      <td>4.333333</td>\n",
       "      <td>good</td>\n",
       "      <td>['walk', '6th', 'rainey', 'st', 'convention', ...</td>\n",
       "      <td>[TV, Wifi, Air conditioning, Kitchen, Pets liv...</td>\n",
       "      <td>texas</td>\n",
       "    </tr>\n",
       "    <tr>\n",
       "      <th>1</th>\n",
       "      <td>133337</td>\n",
       "      <td>5456</td>\n",
       "      <td>[fabulous, location, walking, convention, cent...</td>\n",
       "      <td>[sylvia, picked, airport, gave, beautiful, eve...</td>\n",
       "      <td>4.000000</td>\n",
       "      <td>good</td>\n",
       "      <td>['walk', '6th', 'rainey', 'st', 'convention', ...</td>\n",
       "      <td>[TV, Wifi, Air conditioning, Kitchen, Pets liv...</td>\n",
       "      <td>texas</td>\n",
       "    </tr>\n",
       "    <tr>\n",
       "      <th>2</th>\n",
       "      <td>150928</td>\n",
       "      <td>5456</td>\n",
       "      <td>[fabulous, location, walking, convention, cent...</td>\n",
       "      <td>[lovely, time, enjoyed, apartment, clean, spac...</td>\n",
       "      <td>3.000000</td>\n",
       "      <td>good</td>\n",
       "      <td>['walk', '6th', 'rainey', 'st', 'convention', ...</td>\n",
       "      <td>[TV, Wifi, Air conditioning, Kitchen, Pets liv...</td>\n",
       "      <td>texas</td>\n",
       "    </tr>\n",
       "    <tr>\n",
       "      <th>3</th>\n",
       "      <td>2706775</td>\n",
       "      <td>5456</td>\n",
       "      <td>[fabulous, location, walking, convention, cent...</td>\n",
       "      <td>[sylvia, excellent, host, stayed, touch, made,...</td>\n",
       "      <td>4.500000</td>\n",
       "      <td>good</td>\n",
       "      <td>['walk', '6th', 'rainey', 'st', 'convention', ...</td>\n",
       "      <td>[TV, Wifi, Air conditioning, Kitchen, Pets liv...</td>\n",
       "      <td>texas</td>\n",
       "    </tr>\n",
       "    <tr>\n",
       "      <th>4</th>\n",
       "      <td>8602878</td>\n",
       "      <td>5456</td>\n",
       "      <td>[fabulous, location, walking, convention, cent...</td>\n",
       "      <td>[place, cute, little, self, contained, cottage...</td>\n",
       "      <td>4.000000</td>\n",
       "      <td>good</td>\n",
       "      <td>['walk', '6th', 'rainey', 'st', 'convention', ...</td>\n",
       "      <td>[TV, Wifi, Air conditioning, Kitchen, Pets liv...</td>\n",
       "      <td>texas</td>\n",
       "    </tr>\n",
       "  </tbody>\n",
       "</table>\n",
       "</div>"
      ],
      "text/plain": [
       "   review_id  listing_id                                        description  \\\n",
       "0      83097        5456  [fabulous, location, walking, convention, cent...   \n",
       "1     133337        5456  [fabulous, location, walking, convention, cent...   \n",
       "2     150928        5456  [fabulous, location, walking, convention, cent...   \n",
       "3    2706775        5456  [fabulous, location, walking, convention, cent...   \n",
       "4    8602878        5456  [fabulous, location, walking, convention, cent...   \n",
       "\n",
       "                                            comments  sentiment label  \\\n",
       "0  [sylvia, very, nice, informal, relaxed, arrive...   4.333333  good   \n",
       "1  [sylvia, picked, airport, gave, beautiful, eve...   4.000000  good   \n",
       "2  [lovely, time, enjoyed, apartment, clean, spac...   3.000000  good   \n",
       "3  [sylvia, excellent, host, stayed, touch, made,...   4.500000  good   \n",
       "4  [place, cute, little, self, contained, cottage...   4.000000  good   \n",
       "\n",
       "                                                name  \\\n",
       "0  ['walk', '6th', 'rainey', 'st', 'convention', ...   \n",
       "1  ['walk', '6th', 'rainey', 'st', 'convention', ...   \n",
       "2  ['walk', '6th', 'rainey', 'st', 'convention', ...   \n",
       "3  ['walk', '6th', 'rainey', 'st', 'convention', ...   \n",
       "4  ['walk', '6th', 'rainey', 'st', 'convention', ...   \n",
       "\n",
       "                                           amenities source  \n",
       "0  [TV, Wifi, Air conditioning, Kitchen, Pets liv...  texas  \n",
       "1  [TV, Wifi, Air conditioning, Kitchen, Pets liv...  texas  \n",
       "2  [TV, Wifi, Air conditioning, Kitchen, Pets liv...  texas  \n",
       "3  [TV, Wifi, Air conditioning, Kitchen, Pets liv...  texas  \n",
       "4  [TV, Wifi, Air conditioning, Kitchen, Pets liv...  texas  "
      ]
     },
     "execution_count": 42,
     "metadata": {},
     "output_type": "execute_result"
    }
   ],
   "source": [
    "# Read in the data\n",
    "GEO = [\"texas\", \"florida\"]\n",
    "\n",
    "if isinstance(GEO, str):\n",
    "    df = pd.read_csv(f\"../../data/processed/{GEO}_processed.csv\")\n",
    "elif isinstance(GEO, list):\n",
    "    dfs = []\n",
    "    for geo in GEO:\n",
    "        df = pd.read_csv(f\"../../data/processed/{geo}_processed.csv\")\n",
    "        df[\"source\"] = geo\n",
    "        dfs.append(df)\n",
    "    df = pd.concat(dfs)\n",
    "\n",
    "# eval list columns\n",
    "df.description = df.description.apply(lambda x: eval(x))\n",
    "df.comments = df.comments.apply(lambda x: eval(x))\n",
    "df.amenities = df.amenities.apply(lambda x: eval(x))\n",
    "\n",
    "df.reset_index(drop=True, inplace=True)\n",
    "\n",
    "print(df.shape)\n",
    "df.head()"
   ]
  },
  {
   "attachments": {},
   "cell_type": "markdown",
   "metadata": {},
   "source": [
    "### Distribution of labels"
   ]
  },
  {
   "attachments": {},
   "cell_type": "markdown",
   "metadata": {},
   "source": [
    "First, let's look at the distribution of labels in the processed dataset."
   ]
  },
  {
   "cell_type": "code",
   "execution_count": 4,
   "metadata": {},
   "outputs": [
    {
     "name": "stdout",
     "output_type": "stream",
     "text": [
      "mbad: 7.24%, mgood: 6.45%, mbad or mgood: 13.69%\n"
     ]
    },
    {
     "data": {
      "application/vnd.plotly.v1+json": {
       "config": {
        "plotlyServerURL": "https://plot.ly"
       },
       "data": [
        {
         "alignmentgroup": "True",
         "hovertemplate": "Label=%{x}<br>Count=%{y}<extra></extra>",
         "legendgroup": "",
         "marker": {
          "color": "#636efa",
          "pattern": {
           "shape": ""
          }
         },
         "name": "",
         "offsetgroup": "",
         "orientation": "v",
         "showlegend": false,
         "textposition": "auto",
         "type": "bar",
         "x": [
          "good",
          "mbad",
          "mgood",
          "bad"
         ],
         "xaxis": "x",
         "y": [
          1320,
          118,
          105,
          84
         ],
         "yaxis": "y"
        }
       ],
       "layout": {
        "barmode": "relative",
        "legend": {
         "tracegroupgap": 0
        },
        "template": {
         "data": {
          "bar": [
           {
            "error_x": {
             "color": "#2a3f5f"
            },
            "error_y": {
             "color": "#2a3f5f"
            },
            "marker": {
             "line": {
              "color": "#E5ECF6",
              "width": 0.5
             },
             "pattern": {
              "fillmode": "overlay",
              "size": 10,
              "solidity": 0.2
             }
            },
            "type": "bar"
           }
          ],
          "barpolar": [
           {
            "marker": {
             "line": {
              "color": "#E5ECF6",
              "width": 0.5
             },
             "pattern": {
              "fillmode": "overlay",
              "size": 10,
              "solidity": 0.2
             }
            },
            "type": "barpolar"
           }
          ],
          "carpet": [
           {
            "aaxis": {
             "endlinecolor": "#2a3f5f",
             "gridcolor": "white",
             "linecolor": "white",
             "minorgridcolor": "white",
             "startlinecolor": "#2a3f5f"
            },
            "baxis": {
             "endlinecolor": "#2a3f5f",
             "gridcolor": "white",
             "linecolor": "white",
             "minorgridcolor": "white",
             "startlinecolor": "#2a3f5f"
            },
            "type": "carpet"
           }
          ],
          "choropleth": [
           {
            "colorbar": {
             "outlinewidth": 0,
             "ticks": ""
            },
            "type": "choropleth"
           }
          ],
          "contour": [
           {
            "colorbar": {
             "outlinewidth": 0,
             "ticks": ""
            },
            "colorscale": [
             [
              0,
              "#0d0887"
             ],
             [
              0.1111111111111111,
              "#46039f"
             ],
             [
              0.2222222222222222,
              "#7201a8"
             ],
             [
              0.3333333333333333,
              "#9c179e"
             ],
             [
              0.4444444444444444,
              "#bd3786"
             ],
             [
              0.5555555555555556,
              "#d8576b"
             ],
             [
              0.6666666666666666,
              "#ed7953"
             ],
             [
              0.7777777777777778,
              "#fb9f3a"
             ],
             [
              0.8888888888888888,
              "#fdca26"
             ],
             [
              1,
              "#f0f921"
             ]
            ],
            "type": "contour"
           }
          ],
          "contourcarpet": [
           {
            "colorbar": {
             "outlinewidth": 0,
             "ticks": ""
            },
            "type": "contourcarpet"
           }
          ],
          "heatmap": [
           {
            "colorbar": {
             "outlinewidth": 0,
             "ticks": ""
            },
            "colorscale": [
             [
              0,
              "#0d0887"
             ],
             [
              0.1111111111111111,
              "#46039f"
             ],
             [
              0.2222222222222222,
              "#7201a8"
             ],
             [
              0.3333333333333333,
              "#9c179e"
             ],
             [
              0.4444444444444444,
              "#bd3786"
             ],
             [
              0.5555555555555556,
              "#d8576b"
             ],
             [
              0.6666666666666666,
              "#ed7953"
             ],
             [
              0.7777777777777778,
              "#fb9f3a"
             ],
             [
              0.8888888888888888,
              "#fdca26"
             ],
             [
              1,
              "#f0f921"
             ]
            ],
            "type": "heatmap"
           }
          ],
          "heatmapgl": [
           {
            "colorbar": {
             "outlinewidth": 0,
             "ticks": ""
            },
            "colorscale": [
             [
              0,
              "#0d0887"
             ],
             [
              0.1111111111111111,
              "#46039f"
             ],
             [
              0.2222222222222222,
              "#7201a8"
             ],
             [
              0.3333333333333333,
              "#9c179e"
             ],
             [
              0.4444444444444444,
              "#bd3786"
             ],
             [
              0.5555555555555556,
              "#d8576b"
             ],
             [
              0.6666666666666666,
              "#ed7953"
             ],
             [
              0.7777777777777778,
              "#fb9f3a"
             ],
             [
              0.8888888888888888,
              "#fdca26"
             ],
             [
              1,
              "#f0f921"
             ]
            ],
            "type": "heatmapgl"
           }
          ],
          "histogram": [
           {
            "marker": {
             "pattern": {
              "fillmode": "overlay",
              "size": 10,
              "solidity": 0.2
             }
            },
            "type": "histogram"
           }
          ],
          "histogram2d": [
           {
            "colorbar": {
             "outlinewidth": 0,
             "ticks": ""
            },
            "colorscale": [
             [
              0,
              "#0d0887"
             ],
             [
              0.1111111111111111,
              "#46039f"
             ],
             [
              0.2222222222222222,
              "#7201a8"
             ],
             [
              0.3333333333333333,
              "#9c179e"
             ],
             [
              0.4444444444444444,
              "#bd3786"
             ],
             [
              0.5555555555555556,
              "#d8576b"
             ],
             [
              0.6666666666666666,
              "#ed7953"
             ],
             [
              0.7777777777777778,
              "#fb9f3a"
             ],
             [
              0.8888888888888888,
              "#fdca26"
             ],
             [
              1,
              "#f0f921"
             ]
            ],
            "type": "histogram2d"
           }
          ],
          "histogram2dcontour": [
           {
            "colorbar": {
             "outlinewidth": 0,
             "ticks": ""
            },
            "colorscale": [
             [
              0,
              "#0d0887"
             ],
             [
              0.1111111111111111,
              "#46039f"
             ],
             [
              0.2222222222222222,
              "#7201a8"
             ],
             [
              0.3333333333333333,
              "#9c179e"
             ],
             [
              0.4444444444444444,
              "#bd3786"
             ],
             [
              0.5555555555555556,
              "#d8576b"
             ],
             [
              0.6666666666666666,
              "#ed7953"
             ],
             [
              0.7777777777777778,
              "#fb9f3a"
             ],
             [
              0.8888888888888888,
              "#fdca26"
             ],
             [
              1,
              "#f0f921"
             ]
            ],
            "type": "histogram2dcontour"
           }
          ],
          "mesh3d": [
           {
            "colorbar": {
             "outlinewidth": 0,
             "ticks": ""
            },
            "type": "mesh3d"
           }
          ],
          "parcoords": [
           {
            "line": {
             "colorbar": {
              "outlinewidth": 0,
              "ticks": ""
             }
            },
            "type": "parcoords"
           }
          ],
          "pie": [
           {
            "automargin": true,
            "type": "pie"
           }
          ],
          "scatter": [
           {
            "fillpattern": {
             "fillmode": "overlay",
             "size": 10,
             "solidity": 0.2
            },
            "type": "scatter"
           }
          ],
          "scatter3d": [
           {
            "line": {
             "colorbar": {
              "outlinewidth": 0,
              "ticks": ""
             }
            },
            "marker": {
             "colorbar": {
              "outlinewidth": 0,
              "ticks": ""
             }
            },
            "type": "scatter3d"
           }
          ],
          "scattercarpet": [
           {
            "marker": {
             "colorbar": {
              "outlinewidth": 0,
              "ticks": ""
             }
            },
            "type": "scattercarpet"
           }
          ],
          "scattergeo": [
           {
            "marker": {
             "colorbar": {
              "outlinewidth": 0,
              "ticks": ""
             }
            },
            "type": "scattergeo"
           }
          ],
          "scattergl": [
           {
            "marker": {
             "colorbar": {
              "outlinewidth": 0,
              "ticks": ""
             }
            },
            "type": "scattergl"
           }
          ],
          "scattermapbox": [
           {
            "marker": {
             "colorbar": {
              "outlinewidth": 0,
              "ticks": ""
             }
            },
            "type": "scattermapbox"
           }
          ],
          "scatterpolar": [
           {
            "marker": {
             "colorbar": {
              "outlinewidth": 0,
              "ticks": ""
             }
            },
            "type": "scatterpolar"
           }
          ],
          "scatterpolargl": [
           {
            "marker": {
             "colorbar": {
              "outlinewidth": 0,
              "ticks": ""
             }
            },
            "type": "scatterpolargl"
           }
          ],
          "scatterternary": [
           {
            "marker": {
             "colorbar": {
              "outlinewidth": 0,
              "ticks": ""
             }
            },
            "type": "scatterternary"
           }
          ],
          "surface": [
           {
            "colorbar": {
             "outlinewidth": 0,
             "ticks": ""
            },
            "colorscale": [
             [
              0,
              "#0d0887"
             ],
             [
              0.1111111111111111,
              "#46039f"
             ],
             [
              0.2222222222222222,
              "#7201a8"
             ],
             [
              0.3333333333333333,
              "#9c179e"
             ],
             [
              0.4444444444444444,
              "#bd3786"
             ],
             [
              0.5555555555555556,
              "#d8576b"
             ],
             [
              0.6666666666666666,
              "#ed7953"
             ],
             [
              0.7777777777777778,
              "#fb9f3a"
             ],
             [
              0.8888888888888888,
              "#fdca26"
             ],
             [
              1,
              "#f0f921"
             ]
            ],
            "type": "surface"
           }
          ],
          "table": [
           {
            "cells": {
             "fill": {
              "color": "#EBF0F8"
             },
             "line": {
              "color": "white"
             }
            },
            "header": {
             "fill": {
              "color": "#C8D4E3"
             },
             "line": {
              "color": "white"
             }
            },
            "type": "table"
           }
          ]
         },
         "layout": {
          "annotationdefaults": {
           "arrowcolor": "#2a3f5f",
           "arrowhead": 0,
           "arrowwidth": 1
          },
          "autotypenumbers": "strict",
          "coloraxis": {
           "colorbar": {
            "outlinewidth": 0,
            "ticks": ""
           }
          },
          "colorscale": {
           "diverging": [
            [
             0,
             "#8e0152"
            ],
            [
             0.1,
             "#c51b7d"
            ],
            [
             0.2,
             "#de77ae"
            ],
            [
             0.3,
             "#f1b6da"
            ],
            [
             0.4,
             "#fde0ef"
            ],
            [
             0.5,
             "#f7f7f7"
            ],
            [
             0.6,
             "#e6f5d0"
            ],
            [
             0.7,
             "#b8e186"
            ],
            [
             0.8,
             "#7fbc41"
            ],
            [
             0.9,
             "#4d9221"
            ],
            [
             1,
             "#276419"
            ]
           ],
           "sequential": [
            [
             0,
             "#0d0887"
            ],
            [
             0.1111111111111111,
             "#46039f"
            ],
            [
             0.2222222222222222,
             "#7201a8"
            ],
            [
             0.3333333333333333,
             "#9c179e"
            ],
            [
             0.4444444444444444,
             "#bd3786"
            ],
            [
             0.5555555555555556,
             "#d8576b"
            ],
            [
             0.6666666666666666,
             "#ed7953"
            ],
            [
             0.7777777777777778,
             "#fb9f3a"
            ],
            [
             0.8888888888888888,
             "#fdca26"
            ],
            [
             1,
             "#f0f921"
            ]
           ],
           "sequentialminus": [
            [
             0,
             "#0d0887"
            ],
            [
             0.1111111111111111,
             "#46039f"
            ],
            [
             0.2222222222222222,
             "#7201a8"
            ],
            [
             0.3333333333333333,
             "#9c179e"
            ],
            [
             0.4444444444444444,
             "#bd3786"
            ],
            [
             0.5555555555555556,
             "#d8576b"
            ],
            [
             0.6666666666666666,
             "#ed7953"
            ],
            [
             0.7777777777777778,
             "#fb9f3a"
            ],
            [
             0.8888888888888888,
             "#fdca26"
            ],
            [
             1,
             "#f0f921"
            ]
           ]
          },
          "colorway": [
           "#636efa",
           "#EF553B",
           "#00cc96",
           "#ab63fa",
           "#FFA15A",
           "#19d3f3",
           "#FF6692",
           "#B6E880",
           "#FF97FF",
           "#FECB52"
          ],
          "font": {
           "color": "#2a3f5f"
          },
          "geo": {
           "bgcolor": "white",
           "lakecolor": "white",
           "landcolor": "#E5ECF6",
           "showlakes": true,
           "showland": true,
           "subunitcolor": "white"
          },
          "hoverlabel": {
           "align": "left"
          },
          "hovermode": "closest",
          "mapbox": {
           "style": "light"
          },
          "paper_bgcolor": "white",
          "plot_bgcolor": "#E5ECF6",
          "polar": {
           "angularaxis": {
            "gridcolor": "white",
            "linecolor": "white",
            "ticks": ""
           },
           "bgcolor": "#E5ECF6",
           "radialaxis": {
            "gridcolor": "white",
            "linecolor": "white",
            "ticks": ""
           }
          },
          "scene": {
           "xaxis": {
            "backgroundcolor": "#E5ECF6",
            "gridcolor": "white",
            "gridwidth": 2,
            "linecolor": "white",
            "showbackground": true,
            "ticks": "",
            "zerolinecolor": "white"
           },
           "yaxis": {
            "backgroundcolor": "#E5ECF6",
            "gridcolor": "white",
            "gridwidth": 2,
            "linecolor": "white",
            "showbackground": true,
            "ticks": "",
            "zerolinecolor": "white"
           },
           "zaxis": {
            "backgroundcolor": "#E5ECF6",
            "gridcolor": "white",
            "gridwidth": 2,
            "linecolor": "white",
            "showbackground": true,
            "ticks": "",
            "zerolinecolor": "white"
           }
          },
          "shapedefaults": {
           "line": {
            "color": "#2a3f5f"
           }
          },
          "ternary": {
           "aaxis": {
            "gridcolor": "white",
            "linecolor": "white",
            "ticks": ""
           },
           "baxis": {
            "gridcolor": "white",
            "linecolor": "white",
            "ticks": ""
           },
           "bgcolor": "#E5ECF6",
           "caxis": {
            "gridcolor": "white",
            "linecolor": "white",
            "ticks": ""
           }
          },
          "title": {
           "x": 0.05
          },
          "xaxis": {
           "automargin": true,
           "gridcolor": "white",
           "linecolor": "white",
           "ticks": "",
           "title": {
            "standoff": 15
           },
           "zerolinecolor": "white",
           "zerolinewidth": 2
          },
          "yaxis": {
           "automargin": true,
           "gridcolor": "white",
           "linecolor": "white",
           "ticks": "",
           "title": {
            "standoff": 15
           },
           "zerolinecolor": "white",
           "zerolinewidth": 2
          }
         }
        },
        "title": {
         "text": "Distribution of labels (GEO=['texas', 'florida'])"
        },
        "xaxis": {
         "anchor": "y",
         "domain": [
          0,
          1
         ],
         "title": {
          "text": "Label"
         }
        },
        "yaxis": {
         "anchor": "x",
         "domain": [
          0,
          1
         ],
         "title": {
          "text": "Count"
         }
        }
       }
      }
     },
     "metadata": {},
     "output_type": "display_data"
    }
   ],
   "source": [
    "mbad_pcnt = df[df.label == \"mbad\"].shape[0] / df.shape[0]\n",
    "mgood_pcnt = df[df.label == \"mgood\"].shape[0] / df.shape[0]\n",
    "mbad_or_mgood_pcnt = df[df.label.isin([\"mbad\", \"mgood\"])].shape[0] / df.shape[0]\n",
    "print(\n",
    "    f\"mbad: {mbad_pcnt:.2%}, mgood: {mgood_pcnt:.2%}, mbad or mgood: {mbad_or_mgood_pcnt:.2%}\"\n",
    ")\n",
    "\n",
    "bar_vals = df.label.value_counts()\n",
    "\n",
    "fig = px.bar(\n",
    "    bar_vals,\n",
    "    x=bar_vals.index,\n",
    "    y=bar_vals.values,\n",
    "    title=f\"Distribution of labels (GEO={GEO})\",\n",
    "    labels={\"index\": \"Label\", \"y\": \"Count\"}\n",
    ")\n",
    "\n",
    "fig.show()"
   ]
  },
  {
   "attachments": {},
   "cell_type": "markdown",
   "metadata": {},
   "source": [
    "### Ngrams"
   ]
  },
  {
   "attachments": {},
   "cell_type": "markdown",
   "metadata": {},
   "source": [
    "What are the most common ngrams for the different types of reviews? What are the most common overlaps?"
   ]
  },
  {
   "cell_type": "code",
   "execution_count": 5,
   "metadata": {},
   "outputs": [],
   "source": [
    "def get_consecutive_ngrams(review, n) -> list:\n",
    "    \"\"\"Helper function to get ngrams from a review.\n",
    "\n",
    "    Args:\n",
    "        review (str): The review to get ngrams from.\n",
    "        n (int): The number of ngrams to get.\n",
    "\n",
    "    Returns:\n",
    "        list: the list of ngrams, joined by underscores.\n",
    "    \"\"\"\n",
    "    if isinstance(review, str):\n",
    "        review = review.split(\"\")\n",
    "\n",
    "    return [\"_\".join(review[i:i+n]) for i in range(len(review)-n-1)]\n",
    "\n",
    "def series_to_ngrams(series: pd.Series, N):\n",
    "    n_grams = series.apply(lambda x: get_consecutive_ngrams(x, N))\n",
    "    return n_grams.explode()\n",
    "\n",
    "def get_exclusive_sizes(good: set, bad: set, mgood: set, mbad: set) -> dict:\n",
    "    \"\"\"Get the sizes of the exclusive sets\"\"\"\n",
    "\n",
    "    only_good = good - bad - mgood - mbad\n",
    "    only_bad = bad - good - mgood - mbad\n",
    "    only_mgood = mgood - good - bad - mbad\n",
    "    only_mbad = mbad - good - bad - mgood\n",
    "    \n",
    "    return {\n",
    "        \"good\": len(only_good),\n",
    "        \"bad\": len(only_bad),\n",
    "        \"mgood\": len(only_mgood),\n",
    "        \"mbad\": len(only_mbad)\n",
    "    }"
   ]
  },
  {
   "attachments": {},
   "cell_type": "markdown",
   "metadata": {},
   "source": [
    "We can look at the number of unique values to each label for different values of N on a line chart."
   ]
  },
  {
   "cell_type": "code",
   "execution_count": 6,
   "metadata": {},
   "outputs": [
    {
     "data": {
      "application/vnd.plotly.v1+json": {
       "config": {
        "plotlyServerURL": "https://plot.ly"
       },
       "data": [
        {
         "hovertemplate": "label=bad<br>N-gram size=%{x}<br>Unique # of n-grams=%{y}<extra></extra>",
         "legendgroup": "bad",
         "line": {
          "color": "#636efa",
          "dash": "solid"
         },
         "marker": {
          "symbol": "circle"
         },
         "mode": "lines+markers",
         "name": "bad",
         "orientation": "v",
         "showlegend": true,
         "type": "scatter",
         "x": [
          1,
          2,
          3,
          4,
          5,
          6
         ],
         "xaxis": "x",
         "y": [
          424,
          6408,
          8778,
          8924,
          8851,
          8768
         ],
         "yaxis": "y"
        },
        {
         "hovertemplate": "label=mgood<br>N-gram size=%{x}<br>Unique # of n-grams=%{y}<extra></extra>",
         "legendgroup": "mgood",
         "line": {
          "color": "#EF553B",
          "dash": "solid"
         },
         "marker": {
          "symbol": "circle"
         },
         "mode": "lines+markers",
         "name": "mgood",
         "orientation": "v",
         "showlegend": true,
         "type": "scatter",
         "x": [
          1,
          2,
          3,
          4,
          5,
          6
         ],
         "xaxis": "x",
         "y": [
          232,
          4589,
          6853,
          7102,
          7049,
          6952
         ],
         "yaxis": "y"
        },
        {
         "hovertemplate": "label=mbad<br>N-gram size=%{x}<br>Unique # of n-grams=%{y}<extra></extra>",
         "legendgroup": "mbad",
         "line": {
          "color": "#00cc96",
          "dash": "solid"
         },
         "marker": {
          "symbol": "circle"
         },
         "mode": "lines+markers",
         "name": "mbad",
         "orientation": "v",
         "showlegend": true,
         "type": "scatter",
         "x": [
          1,
          2,
          3,
          4,
          5,
          6
         ],
         "xaxis": "x",
         "y": [
          576,
          8616,
          11961,
          12217,
          12121,
          12005
         ],
         "yaxis": "y"
        }
       ],
       "layout": {
        "legend": {
         "title": {
          "text": "label"
         },
         "tracegroupgap": 0
        },
        "template": {
         "data": {
          "bar": [
           {
            "error_x": {
             "color": "#2a3f5f"
            },
            "error_y": {
             "color": "#2a3f5f"
            },
            "marker": {
             "line": {
              "color": "#E5ECF6",
              "width": 0.5
             },
             "pattern": {
              "fillmode": "overlay",
              "size": 10,
              "solidity": 0.2
             }
            },
            "type": "bar"
           }
          ],
          "barpolar": [
           {
            "marker": {
             "line": {
              "color": "#E5ECF6",
              "width": 0.5
             },
             "pattern": {
              "fillmode": "overlay",
              "size": 10,
              "solidity": 0.2
             }
            },
            "type": "barpolar"
           }
          ],
          "carpet": [
           {
            "aaxis": {
             "endlinecolor": "#2a3f5f",
             "gridcolor": "white",
             "linecolor": "white",
             "minorgridcolor": "white",
             "startlinecolor": "#2a3f5f"
            },
            "baxis": {
             "endlinecolor": "#2a3f5f",
             "gridcolor": "white",
             "linecolor": "white",
             "minorgridcolor": "white",
             "startlinecolor": "#2a3f5f"
            },
            "type": "carpet"
           }
          ],
          "choropleth": [
           {
            "colorbar": {
             "outlinewidth": 0,
             "ticks": ""
            },
            "type": "choropleth"
           }
          ],
          "contour": [
           {
            "colorbar": {
             "outlinewidth": 0,
             "ticks": ""
            },
            "colorscale": [
             [
              0,
              "#0d0887"
             ],
             [
              0.1111111111111111,
              "#46039f"
             ],
             [
              0.2222222222222222,
              "#7201a8"
             ],
             [
              0.3333333333333333,
              "#9c179e"
             ],
             [
              0.4444444444444444,
              "#bd3786"
             ],
             [
              0.5555555555555556,
              "#d8576b"
             ],
             [
              0.6666666666666666,
              "#ed7953"
             ],
             [
              0.7777777777777778,
              "#fb9f3a"
             ],
             [
              0.8888888888888888,
              "#fdca26"
             ],
             [
              1,
              "#f0f921"
             ]
            ],
            "type": "contour"
           }
          ],
          "contourcarpet": [
           {
            "colorbar": {
             "outlinewidth": 0,
             "ticks": ""
            },
            "type": "contourcarpet"
           }
          ],
          "heatmap": [
           {
            "colorbar": {
             "outlinewidth": 0,
             "ticks": ""
            },
            "colorscale": [
             [
              0,
              "#0d0887"
             ],
             [
              0.1111111111111111,
              "#46039f"
             ],
             [
              0.2222222222222222,
              "#7201a8"
             ],
             [
              0.3333333333333333,
              "#9c179e"
             ],
             [
              0.4444444444444444,
              "#bd3786"
             ],
             [
              0.5555555555555556,
              "#d8576b"
             ],
             [
              0.6666666666666666,
              "#ed7953"
             ],
             [
              0.7777777777777778,
              "#fb9f3a"
             ],
             [
              0.8888888888888888,
              "#fdca26"
             ],
             [
              1,
              "#f0f921"
             ]
            ],
            "type": "heatmap"
           }
          ],
          "heatmapgl": [
           {
            "colorbar": {
             "outlinewidth": 0,
             "ticks": ""
            },
            "colorscale": [
             [
              0,
              "#0d0887"
             ],
             [
              0.1111111111111111,
              "#46039f"
             ],
             [
              0.2222222222222222,
              "#7201a8"
             ],
             [
              0.3333333333333333,
              "#9c179e"
             ],
             [
              0.4444444444444444,
              "#bd3786"
             ],
             [
              0.5555555555555556,
              "#d8576b"
             ],
             [
              0.6666666666666666,
              "#ed7953"
             ],
             [
              0.7777777777777778,
              "#fb9f3a"
             ],
             [
              0.8888888888888888,
              "#fdca26"
             ],
             [
              1,
              "#f0f921"
             ]
            ],
            "type": "heatmapgl"
           }
          ],
          "histogram": [
           {
            "marker": {
             "pattern": {
              "fillmode": "overlay",
              "size": 10,
              "solidity": 0.2
             }
            },
            "type": "histogram"
           }
          ],
          "histogram2d": [
           {
            "colorbar": {
             "outlinewidth": 0,
             "ticks": ""
            },
            "colorscale": [
             [
              0,
              "#0d0887"
             ],
             [
              0.1111111111111111,
              "#46039f"
             ],
             [
              0.2222222222222222,
              "#7201a8"
             ],
             [
              0.3333333333333333,
              "#9c179e"
             ],
             [
              0.4444444444444444,
              "#bd3786"
             ],
             [
              0.5555555555555556,
              "#d8576b"
             ],
             [
              0.6666666666666666,
              "#ed7953"
             ],
             [
              0.7777777777777778,
              "#fb9f3a"
             ],
             [
              0.8888888888888888,
              "#fdca26"
             ],
             [
              1,
              "#f0f921"
             ]
            ],
            "type": "histogram2d"
           }
          ],
          "histogram2dcontour": [
           {
            "colorbar": {
             "outlinewidth": 0,
             "ticks": ""
            },
            "colorscale": [
             [
              0,
              "#0d0887"
             ],
             [
              0.1111111111111111,
              "#46039f"
             ],
             [
              0.2222222222222222,
              "#7201a8"
             ],
             [
              0.3333333333333333,
              "#9c179e"
             ],
             [
              0.4444444444444444,
              "#bd3786"
             ],
             [
              0.5555555555555556,
              "#d8576b"
             ],
             [
              0.6666666666666666,
              "#ed7953"
             ],
             [
              0.7777777777777778,
              "#fb9f3a"
             ],
             [
              0.8888888888888888,
              "#fdca26"
             ],
             [
              1,
              "#f0f921"
             ]
            ],
            "type": "histogram2dcontour"
           }
          ],
          "mesh3d": [
           {
            "colorbar": {
             "outlinewidth": 0,
             "ticks": ""
            },
            "type": "mesh3d"
           }
          ],
          "parcoords": [
           {
            "line": {
             "colorbar": {
              "outlinewidth": 0,
              "ticks": ""
             }
            },
            "type": "parcoords"
           }
          ],
          "pie": [
           {
            "automargin": true,
            "type": "pie"
           }
          ],
          "scatter": [
           {
            "fillpattern": {
             "fillmode": "overlay",
             "size": 10,
             "solidity": 0.2
            },
            "type": "scatter"
           }
          ],
          "scatter3d": [
           {
            "line": {
             "colorbar": {
              "outlinewidth": 0,
              "ticks": ""
             }
            },
            "marker": {
             "colorbar": {
              "outlinewidth": 0,
              "ticks": ""
             }
            },
            "type": "scatter3d"
           }
          ],
          "scattercarpet": [
           {
            "marker": {
             "colorbar": {
              "outlinewidth": 0,
              "ticks": ""
             }
            },
            "type": "scattercarpet"
           }
          ],
          "scattergeo": [
           {
            "marker": {
             "colorbar": {
              "outlinewidth": 0,
              "ticks": ""
             }
            },
            "type": "scattergeo"
           }
          ],
          "scattergl": [
           {
            "marker": {
             "colorbar": {
              "outlinewidth": 0,
              "ticks": ""
             }
            },
            "type": "scattergl"
           }
          ],
          "scattermapbox": [
           {
            "marker": {
             "colorbar": {
              "outlinewidth": 0,
              "ticks": ""
             }
            },
            "type": "scattermapbox"
           }
          ],
          "scatterpolar": [
           {
            "marker": {
             "colorbar": {
              "outlinewidth": 0,
              "ticks": ""
             }
            },
            "type": "scatterpolar"
           }
          ],
          "scatterpolargl": [
           {
            "marker": {
             "colorbar": {
              "outlinewidth": 0,
              "ticks": ""
             }
            },
            "type": "scatterpolargl"
           }
          ],
          "scatterternary": [
           {
            "marker": {
             "colorbar": {
              "outlinewidth": 0,
              "ticks": ""
             }
            },
            "type": "scatterternary"
           }
          ],
          "surface": [
           {
            "colorbar": {
             "outlinewidth": 0,
             "ticks": ""
            },
            "colorscale": [
             [
              0,
              "#0d0887"
             ],
             [
              0.1111111111111111,
              "#46039f"
             ],
             [
              0.2222222222222222,
              "#7201a8"
             ],
             [
              0.3333333333333333,
              "#9c179e"
             ],
             [
              0.4444444444444444,
              "#bd3786"
             ],
             [
              0.5555555555555556,
              "#d8576b"
             ],
             [
              0.6666666666666666,
              "#ed7953"
             ],
             [
              0.7777777777777778,
              "#fb9f3a"
             ],
             [
              0.8888888888888888,
              "#fdca26"
             ],
             [
              1,
              "#f0f921"
             ]
            ],
            "type": "surface"
           }
          ],
          "table": [
           {
            "cells": {
             "fill": {
              "color": "#EBF0F8"
             },
             "line": {
              "color": "white"
             }
            },
            "header": {
             "fill": {
              "color": "#C8D4E3"
             },
             "line": {
              "color": "white"
             }
            },
            "type": "table"
           }
          ]
         },
         "layout": {
          "annotationdefaults": {
           "arrowcolor": "#2a3f5f",
           "arrowhead": 0,
           "arrowwidth": 1
          },
          "autotypenumbers": "strict",
          "coloraxis": {
           "colorbar": {
            "outlinewidth": 0,
            "ticks": ""
           }
          },
          "colorscale": {
           "diverging": [
            [
             0,
             "#8e0152"
            ],
            [
             0.1,
             "#c51b7d"
            ],
            [
             0.2,
             "#de77ae"
            ],
            [
             0.3,
             "#f1b6da"
            ],
            [
             0.4,
             "#fde0ef"
            ],
            [
             0.5,
             "#f7f7f7"
            ],
            [
             0.6,
             "#e6f5d0"
            ],
            [
             0.7,
             "#b8e186"
            ],
            [
             0.8,
             "#7fbc41"
            ],
            [
             0.9,
             "#4d9221"
            ],
            [
             1,
             "#276419"
            ]
           ],
           "sequential": [
            [
             0,
             "#0d0887"
            ],
            [
             0.1111111111111111,
             "#46039f"
            ],
            [
             0.2222222222222222,
             "#7201a8"
            ],
            [
             0.3333333333333333,
             "#9c179e"
            ],
            [
             0.4444444444444444,
             "#bd3786"
            ],
            [
             0.5555555555555556,
             "#d8576b"
            ],
            [
             0.6666666666666666,
             "#ed7953"
            ],
            [
             0.7777777777777778,
             "#fb9f3a"
            ],
            [
             0.8888888888888888,
             "#fdca26"
            ],
            [
             1,
             "#f0f921"
            ]
           ],
           "sequentialminus": [
            [
             0,
             "#0d0887"
            ],
            [
             0.1111111111111111,
             "#46039f"
            ],
            [
             0.2222222222222222,
             "#7201a8"
            ],
            [
             0.3333333333333333,
             "#9c179e"
            ],
            [
             0.4444444444444444,
             "#bd3786"
            ],
            [
             0.5555555555555556,
             "#d8576b"
            ],
            [
             0.6666666666666666,
             "#ed7953"
            ],
            [
             0.7777777777777778,
             "#fb9f3a"
            ],
            [
             0.8888888888888888,
             "#fdca26"
            ],
            [
             1,
             "#f0f921"
            ]
           ]
          },
          "colorway": [
           "#636efa",
           "#EF553B",
           "#00cc96",
           "#ab63fa",
           "#FFA15A",
           "#19d3f3",
           "#FF6692",
           "#B6E880",
           "#FF97FF",
           "#FECB52"
          ],
          "font": {
           "color": "#2a3f5f"
          },
          "geo": {
           "bgcolor": "white",
           "lakecolor": "white",
           "landcolor": "#E5ECF6",
           "showlakes": true,
           "showland": true,
           "subunitcolor": "white"
          },
          "hoverlabel": {
           "align": "left"
          },
          "hovermode": "closest",
          "mapbox": {
           "style": "light"
          },
          "paper_bgcolor": "white",
          "plot_bgcolor": "#E5ECF6",
          "polar": {
           "angularaxis": {
            "gridcolor": "white",
            "linecolor": "white",
            "ticks": ""
           },
           "bgcolor": "#E5ECF6",
           "radialaxis": {
            "gridcolor": "white",
            "linecolor": "white",
            "ticks": ""
           }
          },
          "scene": {
           "xaxis": {
            "backgroundcolor": "#E5ECF6",
            "gridcolor": "white",
            "gridwidth": 2,
            "linecolor": "white",
            "showbackground": true,
            "ticks": "",
            "zerolinecolor": "white"
           },
           "yaxis": {
            "backgroundcolor": "#E5ECF6",
            "gridcolor": "white",
            "gridwidth": 2,
            "linecolor": "white",
            "showbackground": true,
            "ticks": "",
            "zerolinecolor": "white"
           },
           "zaxis": {
            "backgroundcolor": "#E5ECF6",
            "gridcolor": "white",
            "gridwidth": 2,
            "linecolor": "white",
            "showbackground": true,
            "ticks": "",
            "zerolinecolor": "white"
           }
          },
          "shapedefaults": {
           "line": {
            "color": "#2a3f5f"
           }
          },
          "ternary": {
           "aaxis": {
            "gridcolor": "white",
            "linecolor": "white",
            "ticks": ""
           },
           "baxis": {
            "gridcolor": "white",
            "linecolor": "white",
            "ticks": ""
           },
           "bgcolor": "#E5ECF6",
           "caxis": {
            "gridcolor": "white",
            "linecolor": "white",
            "ticks": ""
           }
          },
          "title": {
           "x": 0.05
          },
          "xaxis": {
           "automargin": true,
           "gridcolor": "white",
           "linecolor": "white",
           "ticks": "",
           "title": {
            "standoff": 15
           },
           "zerolinecolor": "white",
           "zerolinewidth": 2
          },
          "yaxis": {
           "automargin": true,
           "gridcolor": "white",
           "linecolor": "white",
           "ticks": "",
           "title": {
            "standoff": 15
           },
           "zerolinecolor": "white",
           "zerolinewidth": 2
          }
         }
        },
        "title": {
         "text": "Unique # of ['texas', 'florida'] n-grams for each label"
        },
        "xaxis": {
         "anchor": "y",
         "domain": [
          0,
          1
         ],
         "title": {
          "text": "N-gram size"
         }
        },
        "yaxis": {
         "anchor": "x",
         "domain": [
          0,
          1
         ],
         "title": {
          "text": "Unique # of n-grams"
         }
        }
       }
      }
     },
     "metadata": {},
     "output_type": "display_data"
    }
   ],
   "source": [
    "import plotly.express as px\n",
    "\n",
    "intersection_sizes = []\n",
    "for n in [1, 2, 3, 4, 5, 6]:\n",
    "\n",
    "    good_ngrams = series_to_ngrams(df[df.label == \"good\"].comments, n).value_counts()\n",
    "    bad_ngrams = series_to_ngrams(df[df.label == \"bad\"].comments, n).value_counts()\n",
    "    mgood_ngrams = series_to_ngrams(df[df.label == \"mgood\"].comments, n).value_counts()\n",
    "    mbad_ngrams = series_to_ngrams(df[df.label == \"mbad\"].comments, n).value_counts()\n",
    "    intersection_sizes_n = get_exclusive_sizes(\n",
    "        set(good_ngrams.index),\n",
    "        set(bad_ngrams.index),\n",
    "        set(mgood_ngrams.index),\n",
    "        set(mbad_ngrams.index)\n",
    "    )\n",
    "\n",
    "    intersection_sizes_n[\"n\"] = n\n",
    "\n",
    "    intersection_sizes.append(intersection_sizes_n)\n",
    "\n",
    "\n",
    "# prepare data\n",
    "is_df = pd.DataFrame(intersection_sizes)\n",
    "is_df = is_df.melt(id_vars=\"n\", var_name=\"label\", value_name=\"count\")\n",
    "is_df[\"count\"] = is_df[\"count\"].astype(int)\n",
    "is_df[\"n\"] = is_df[\"n\"].astype(int)\n",
    "\n",
    "# exclude good \n",
    "is_df = is_df[is_df.label != \"good\"]\n",
    "\n",
    "# plot a line chart\n",
    "px.line(is_df, \n",
    "    x=\"n\", y=\"count\",\n",
    "    color=\"label\",\n",
    "    title=f\"Unique # of {GEO} n-grams for each label\", \n",
    "    labels={\"n\": \"N-gram size\", \"count\": \"Unique # of n-grams\"},\n",
    "    markers=True\n",
    "    )"
   ]
  },
  {
   "attachments": {},
   "cell_type": "markdown",
   "metadata": {},
   "source": [
    "We can see that the number of unique ngrams increases until about n=4, and then levels off. What are the top 10 4-grams for misleading reviews?"
   ]
  },
  {
   "cell_type": "code",
   "execution_count": 7,
   "metadata": {},
   "outputs": [
    {
     "name": "stdout",
     "output_type": "stream",
     "text": [
      "Top 10 most common 4-grams in misleading reviews:\n"
     ]
    },
    {
     "data": {
      "text/plain": [
       "[('would_not_recommend_staying', 3),\n",
       " ('give_u_partial_refund', 2),\n",
       " ('thing_within_walking_distance', 2),\n",
       " ('would_not_recommend_anyone', 2),\n",
       " ('main_living_area_not', 2),\n",
       " ('host_allowed_u_check', 2),\n",
       " ('allowed_u_check_early', 2),\n",
       " ('come_next_day_fix', 2),\n",
       " ('place_may_sleep_9', 2),\n",
       " ('one_roll_toilet_paper', 2)]"
      ]
     },
     "execution_count": 7,
     "metadata": {},
     "output_type": "execute_result"
    }
   ],
   "source": [
    "import numpy as np\n",
    "from collections import Counter\n",
    "\n",
    "# generate wordcloud for misleading reviews\n",
    "subset = df[df.label.isin([\"mbad\", \"mgood\"])]\n",
    "\n",
    "# get groups of N consecutive words\n",
    "N = 4\n",
    "n_grams = series_to_ngrams(subset.comments, N).to_list()\n",
    "\n",
    "print(f\"Top 10 most common {N}-grams in misleading reviews:\")\n",
    "Counter(n_grams).most_common(10)"
   ]
  },
  {
   "attachments": {},
   "cell_type": "markdown",
   "metadata": {},
   "source": [
    "Let's manually remove some of these that don't make sense"
   ]
  },
  {
   "attachments": {},
   "cell_type": "markdown",
   "metadata": {},
   "source": [
    "Now let's look at a word cloud of the N-grams in misleading reviews."
   ]
  },
  {
   "cell_type": "code",
   "execution_count": 8,
   "metadata": {},
   "outputs": [
    {
     "data": {
      "application/vnd.plotly.v1+json": {
       "config": {
        "plotlyServerURL": "https://plot.ly"
       },
       "data": [
        {
         "hovertemplate": "x: %{x}<br>y: %{y}<br>color: [%{z[0]}, %{z[1]}, %{z[2]}]<extra></extra>",
         "name": "0",
         "source": "data:image/png;base64,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",
         "type": "image",
         "xaxis": "x",
         "yaxis": "y"
        }
       ],
       "layout": {
        "height": 700,
        "template": {
         "data": {
          "bar": [
           {
            "error_x": {
             "color": "#2a3f5f"
            },
            "error_y": {
             "color": "#2a3f5f"
            },
            "marker": {
             "line": {
              "color": "#E5ECF6",
              "width": 0.5
             },
             "pattern": {
              "fillmode": "overlay",
              "size": 10,
              "solidity": 0.2
             }
            },
            "type": "bar"
           }
          ],
          "barpolar": [
           {
            "marker": {
             "line": {
              "color": "#E5ECF6",
              "width": 0.5
             },
             "pattern": {
              "fillmode": "overlay",
              "size": 10,
              "solidity": 0.2
             }
            },
            "type": "barpolar"
           }
          ],
          "carpet": [
           {
            "aaxis": {
             "endlinecolor": "#2a3f5f",
             "gridcolor": "white",
             "linecolor": "white",
             "minorgridcolor": "white",
             "startlinecolor": "#2a3f5f"
            },
            "baxis": {
             "endlinecolor": "#2a3f5f",
             "gridcolor": "white",
             "linecolor": "white",
             "minorgridcolor": "white",
             "startlinecolor": "#2a3f5f"
            },
            "type": "carpet"
           }
          ],
          "choropleth": [
           {
            "colorbar": {
             "outlinewidth": 0,
             "ticks": ""
            },
            "type": "choropleth"
           }
          ],
          "contour": [
           {
            "colorbar": {
             "outlinewidth": 0,
             "ticks": ""
            },
            "colorscale": [
             [
              0,
              "#0d0887"
             ],
             [
              0.1111111111111111,
              "#46039f"
             ],
             [
              0.2222222222222222,
              "#7201a8"
             ],
             [
              0.3333333333333333,
              "#9c179e"
             ],
             [
              0.4444444444444444,
              "#bd3786"
             ],
             [
              0.5555555555555556,
              "#d8576b"
             ],
             [
              0.6666666666666666,
              "#ed7953"
             ],
             [
              0.7777777777777778,
              "#fb9f3a"
             ],
             [
              0.8888888888888888,
              "#fdca26"
             ],
             [
              1,
              "#f0f921"
             ]
            ],
            "type": "contour"
           }
          ],
          "contourcarpet": [
           {
            "colorbar": {
             "outlinewidth": 0,
             "ticks": ""
            },
            "type": "contourcarpet"
           }
          ],
          "heatmap": [
           {
            "colorbar": {
             "outlinewidth": 0,
             "ticks": ""
            },
            "colorscale": [
             [
              0,
              "#0d0887"
             ],
             [
              0.1111111111111111,
              "#46039f"
             ],
             [
              0.2222222222222222,
              "#7201a8"
             ],
             [
              0.3333333333333333,
              "#9c179e"
             ],
             [
              0.4444444444444444,
              "#bd3786"
             ],
             [
              0.5555555555555556,
              "#d8576b"
             ],
             [
              0.6666666666666666,
              "#ed7953"
             ],
             [
              0.7777777777777778,
              "#fb9f3a"
             ],
             [
              0.8888888888888888,
              "#fdca26"
             ],
             [
              1,
              "#f0f921"
             ]
            ],
            "type": "heatmap"
           }
          ],
          "heatmapgl": [
           {
            "colorbar": {
             "outlinewidth": 0,
             "ticks": ""
            },
            "colorscale": [
             [
              0,
              "#0d0887"
             ],
             [
              0.1111111111111111,
              "#46039f"
             ],
             [
              0.2222222222222222,
              "#7201a8"
             ],
             [
              0.3333333333333333,
              "#9c179e"
             ],
             [
              0.4444444444444444,
              "#bd3786"
             ],
             [
              0.5555555555555556,
              "#d8576b"
             ],
             [
              0.6666666666666666,
              "#ed7953"
             ],
             [
              0.7777777777777778,
              "#fb9f3a"
             ],
             [
              0.8888888888888888,
              "#fdca26"
             ],
             [
              1,
              "#f0f921"
             ]
            ],
            "type": "heatmapgl"
           }
          ],
          "histogram": [
           {
            "marker": {
             "pattern": {
              "fillmode": "overlay",
              "size": 10,
              "solidity": 0.2
             }
            },
            "type": "histogram"
           }
          ],
          "histogram2d": [
           {
            "colorbar": {
             "outlinewidth": 0,
             "ticks": ""
            },
            "colorscale": [
             [
              0,
              "#0d0887"
             ],
             [
              0.1111111111111111,
              "#46039f"
             ],
             [
              0.2222222222222222,
              "#7201a8"
             ],
             [
              0.3333333333333333,
              "#9c179e"
             ],
             [
              0.4444444444444444,
              "#bd3786"
             ],
             [
              0.5555555555555556,
              "#d8576b"
             ],
             [
              0.6666666666666666,
              "#ed7953"
             ],
             [
              0.7777777777777778,
              "#fb9f3a"
             ],
             [
              0.8888888888888888,
              "#fdca26"
             ],
             [
              1,
              "#f0f921"
             ]
            ],
            "type": "histogram2d"
           }
          ],
          "histogram2dcontour": [
           {
            "colorbar": {
             "outlinewidth": 0,
             "ticks": ""
            },
            "colorscale": [
             [
              0,
              "#0d0887"
             ],
             [
              0.1111111111111111,
              "#46039f"
             ],
             [
              0.2222222222222222,
              "#7201a8"
             ],
             [
              0.3333333333333333,
              "#9c179e"
             ],
             [
              0.4444444444444444,
              "#bd3786"
             ],
             [
              0.5555555555555556,
              "#d8576b"
             ],
             [
              0.6666666666666666,
              "#ed7953"
             ],
             [
              0.7777777777777778,
              "#fb9f3a"
             ],
             [
              0.8888888888888888,
              "#fdca26"
             ],
             [
              1,
              "#f0f921"
             ]
            ],
            "type": "histogram2dcontour"
           }
          ],
          "mesh3d": [
           {
            "colorbar": {
             "outlinewidth": 0,
             "ticks": ""
            },
            "type": "mesh3d"
           }
          ],
          "parcoords": [
           {
            "line": {
             "colorbar": {
              "outlinewidth": 0,
              "ticks": ""
             }
            },
            "type": "parcoords"
           }
          ],
          "pie": [
           {
            "automargin": true,
            "type": "pie"
           }
          ],
          "scatter": [
           {
            "fillpattern": {
             "fillmode": "overlay",
             "size": 10,
             "solidity": 0.2
            },
            "type": "scatter"
           }
          ],
          "scatter3d": [
           {
            "line": {
             "colorbar": {
              "outlinewidth": 0,
              "ticks": ""
             }
            },
            "marker": {
             "colorbar": {
              "outlinewidth": 0,
              "ticks": ""
             }
            },
            "type": "scatter3d"
           }
          ],
          "scattercarpet": [
           {
            "marker": {
             "colorbar": {
              "outlinewidth": 0,
              "ticks": ""
             }
            },
            "type": "scattercarpet"
           }
          ],
          "scattergeo": [
           {
            "marker": {
             "colorbar": {
              "outlinewidth": 0,
              "ticks": ""
             }
            },
            "type": "scattergeo"
           }
          ],
          "scattergl": [
           {
            "marker": {
             "colorbar": {
              "outlinewidth": 0,
              "ticks": ""
             }
            },
            "type": "scattergl"
           }
          ],
          "scattermapbox": [
           {
            "marker": {
             "colorbar": {
              "outlinewidth": 0,
              "ticks": ""
             }
            },
            "type": "scattermapbox"
           }
          ],
          "scatterpolar": [
           {
            "marker": {
             "colorbar": {
              "outlinewidth": 0,
              "ticks": ""
             }
            },
            "type": "scatterpolar"
           }
          ],
          "scatterpolargl": [
           {
            "marker": {
             "colorbar": {
              "outlinewidth": 0,
              "ticks": ""
             }
            },
            "type": "scatterpolargl"
           }
          ],
          "scatterternary": [
           {
            "marker": {
             "colorbar": {
              "outlinewidth": 0,
              "ticks": ""
             }
            },
            "type": "scatterternary"
           }
          ],
          "surface": [
           {
            "colorbar": {
             "outlinewidth": 0,
             "ticks": ""
            },
            "colorscale": [
             [
              0,
              "#0d0887"
             ],
             [
              0.1111111111111111,
              "#46039f"
             ],
             [
              0.2222222222222222,
              "#7201a8"
             ],
             [
              0.3333333333333333,
              "#9c179e"
             ],
             [
              0.4444444444444444,
              "#bd3786"
             ],
             [
              0.5555555555555556,
              "#d8576b"
             ],
             [
              0.6666666666666666,
              "#ed7953"
             ],
             [
              0.7777777777777778,
              "#fb9f3a"
             ],
             [
              0.8888888888888888,
              "#fdca26"
             ],
             [
              1,
              "#f0f921"
             ]
            ],
            "type": "surface"
           }
          ],
          "table": [
           {
            "cells": {
             "fill": {
              "color": "#EBF0F8"
             },
             "line": {
              "color": "white"
             }
            },
            "header": {
             "fill": {
              "color": "#C8D4E3"
             },
             "line": {
              "color": "white"
             }
            },
            "type": "table"
           }
          ]
         },
         "layout": {
          "annotationdefaults": {
           "arrowcolor": "#2a3f5f",
           "arrowhead": 0,
           "arrowwidth": 1
          },
          "autotypenumbers": "strict",
          "coloraxis": {
           "colorbar": {
            "outlinewidth": 0,
            "ticks": ""
           }
          },
          "colorscale": {
           "diverging": [
            [
             0,
             "#8e0152"
            ],
            [
             0.1,
             "#c51b7d"
            ],
            [
             0.2,
             "#de77ae"
            ],
            [
             0.3,
             "#f1b6da"
            ],
            [
             0.4,
             "#fde0ef"
            ],
            [
             0.5,
             "#f7f7f7"
            ],
            [
             0.6,
             "#e6f5d0"
            ],
            [
             0.7,
             "#b8e186"
            ],
            [
             0.8,
             "#7fbc41"
            ],
            [
             0.9,
             "#4d9221"
            ],
            [
             1,
             "#276419"
            ]
           ],
           "sequential": [
            [
             0,
             "#0d0887"
            ],
            [
             0.1111111111111111,
             "#46039f"
            ],
            [
             0.2222222222222222,
             "#7201a8"
            ],
            [
             0.3333333333333333,
             "#9c179e"
            ],
            [
             0.4444444444444444,
             "#bd3786"
            ],
            [
             0.5555555555555556,
             "#d8576b"
            ],
            [
             0.6666666666666666,
             "#ed7953"
            ],
            [
             0.7777777777777778,
             "#fb9f3a"
            ],
            [
             0.8888888888888888,
             "#fdca26"
            ],
            [
             1,
             "#f0f921"
            ]
           ],
           "sequentialminus": [
            [
             0,
             "#0d0887"
            ],
            [
             0.1111111111111111,
             "#46039f"
            ],
            [
             0.2222222222222222,
             "#7201a8"
            ],
            [
             0.3333333333333333,
             "#9c179e"
            ],
            [
             0.4444444444444444,
             "#bd3786"
            ],
            [
             0.5555555555555556,
             "#d8576b"
            ],
            [
             0.6666666666666666,
             "#ed7953"
            ],
            [
             0.7777777777777778,
             "#fb9f3a"
            ],
            [
             0.8888888888888888,
             "#fdca26"
            ],
            [
             1,
             "#f0f921"
            ]
           ]
          },
          "colorway": [
           "#636efa",
           "#EF553B",
           "#00cc96",
           "#ab63fa",
           "#FFA15A",
           "#19d3f3",
           "#FF6692",
           "#B6E880",
           "#FF97FF",
           "#FECB52"
          ],
          "font": {
           "color": "#2a3f5f"
          },
          "geo": {
           "bgcolor": "white",
           "lakecolor": "white",
           "landcolor": "#E5ECF6",
           "showlakes": true,
           "showland": true,
           "subunitcolor": "white"
          },
          "hoverlabel": {
           "align": "left"
          },
          "hovermode": "closest",
          "mapbox": {
           "style": "light"
          },
          "paper_bgcolor": "white",
          "plot_bgcolor": "#E5ECF6",
          "polar": {
           "angularaxis": {
            "gridcolor": "white",
            "linecolor": "white",
            "ticks": ""
           },
           "bgcolor": "#E5ECF6",
           "radialaxis": {
            "gridcolor": "white",
            "linecolor": "white",
            "ticks": ""
           }
          },
          "scene": {
           "xaxis": {
            "backgroundcolor": "#E5ECF6",
            "gridcolor": "white",
            "gridwidth": 2,
            "linecolor": "white",
            "showbackground": true,
            "ticks": "",
            "zerolinecolor": "white"
           },
           "yaxis": {
            "backgroundcolor": "#E5ECF6",
            "gridcolor": "white",
            "gridwidth": 2,
            "linecolor": "white",
            "showbackground": true,
            "ticks": "",
            "zerolinecolor": "white"
           },
           "zaxis": {
            "backgroundcolor": "#E5ECF6",
            "gridcolor": "white",
            "gridwidth": 2,
            "linecolor": "white",
            "showbackground": true,
            "ticks": "",
            "zerolinecolor": "white"
           }
          },
          "shapedefaults": {
           "line": {
            "color": "#2a3f5f"
           }
          },
          "ternary": {
           "aaxis": {
            "gridcolor": "white",
            "linecolor": "white",
            "ticks": ""
           },
           "baxis": {
            "gridcolor": "white",
            "linecolor": "white",
            "ticks": ""
           },
           "bgcolor": "#E5ECF6",
           "caxis": {
            "gridcolor": "white",
            "linecolor": "white",
            "ticks": ""
           }
          },
          "title": {
           "x": 0.05
          },
          "xaxis": {
           "automargin": true,
           "gridcolor": "white",
           "linecolor": "white",
           "ticks": "",
           "title": {
            "standoff": 15
           },
           "zerolinecolor": "white",
           "zerolinewidth": 2
          },
          "yaxis": {
           "automargin": true,
           "gridcolor": "white",
           "linecolor": "white",
           "ticks": "",
           "title": {
            "standoff": 15
           },
           "zerolinecolor": "white",
           "zerolinewidth": 2
          }
         }
        },
        "title": {
         "text": "Most common 4-grams in misleading reviews"
        },
        "width": 700,
        "xaxis": {
         "anchor": "y",
         "domain": [
          0,
          1
         ],
         "visible": false
        },
        "yaxis": {
         "anchor": "x",
         "domain": [
          0,
          1
         ],
         "visible": false
        }
       }
      }
     },
     "metadata": {},
     "output_type": "display_data"
    }
   ],
   "source": [
    "from wordcloud import WordCloud\n",
    "from PIL import Image\n",
    "\n",
    "ngrams_str = \" \".join(n_grams)\n",
    "\n",
    "# make house-shaped mask\n",
    "mask = np.array(Image.open(\"../../house_shape.png\"))\n",
    "# fill transparent areas with white\n",
    "mask[mask[:, :, 3] == 0] = [255, 255, 255, 255]\n",
    "\n",
    "# generate wordcloud\n",
    "wc = WordCloud(\n",
    "    background_color=\"white\", \n",
    "    max_words=1000, \n",
    "    width=mask.shape[0]*5,\n",
    "    height=mask.shape[1]*5,\n",
    "    mask = mask,\n",
    "    contour_width=3,\n",
    "    contour_color='steelblue',\n",
    "    colormap=\"twilight_shifted\"\n",
    ").generate(ngrams_str)\n",
    "\n",
    "wc\n",
    "\n",
    "# show wordcloud\n",
    "fig = px.imshow(wc, title=f\"Most common {N}-grams in misleading reviews\", width=700, height=700)\n",
    "fig.update_xaxes(visible=False)\n",
    "fig.update_yaxes(visible=False)\n",
    "fig.show()"
   ]
  },
  {
   "attachments": {},
   "cell_type": "markdown",
   "metadata": {},
   "source": [
    "Here is a reusable function to add ngrams features to a dataframe."
   ]
  },
  {
   "cell_type": "code",
   "execution_count": 9,
   "metadata": {},
   "outputs": [],
   "source": [
    "def ngrams_features(features, n):\n",
    "    \"\"\"Add n-gram features to the features dataframe.\"\"\"\n",
    "\n",
    "    # one-hot encode ngrams\n",
    "    df[\"ngrams\"] = df.comments.apply(lambda x: set(get_consecutive_ngrams(x, 3)))\n",
    "\n",
    "    # get ngrams that are common in misleading reviews\n",
    "    misleading = df[df.label.isin([\"mbad\", \"mgood\"])]\n",
    "    ng_set = set(series_to_ngrams(subset.comments, n).to_list())\n",
    "\n",
    "    # one-hot encode ngrams\n",
    "    ngram_features = {}\n",
    "    for ngram in ng_set:\n",
    "        ngram_features[ngram] = df.ngrams.apply(lambda ngrams: 1 if ngram in ngrams else 0)\n",
    "    ngram_df = pd.DataFrame(ngram_features)\n",
    "    features = pd.concat([features, ngram_df], axis=1)\n",
    "\n",
    "    # Only keep ngram features that appear in at least 3 reviews\n",
    "    min_num_reviews = 3\n",
    "    num_reviews_ngram_is_in = features.apply(lambda x: x > 0).sum()\n",
    "    ngram_features_to_drop= num_reviews_ngram_is_in[num_reviews_ngram_is_in < min_num_reviews].index\n",
    "\n",
    "    features = features.drop(ngram_features_to_drop, axis=1)\n",
    "\n",
    "    return features"
   ]
  },
  {
   "attachments": {},
   "cell_type": "markdown",
   "metadata": {},
   "source": [
    "## \"Mentioned Amenities\" Features\n",
    "Was an amenity that was included in the listing mentioned in the review?"
   ]
  },
  {
   "attachments": {},
   "cell_type": "markdown",
   "metadata": {},
   "source": [
    "First, we need to do some cleaning amenities to make them easier to match."
   ]
  },
  {
   "cell_type": "code",
   "execution_count": 43,
   "metadata": {},
   "outputs": [],
   "source": [
    "import re\n",
    "\n",
    "def clean_amenities(amenities):\n",
    "    \"\"\"Clean the amenities column.\"\"\"\n",
    "\n",
    "    cleaned = []\n",
    "\n",
    "    # basic cleaning\n",
    "    for amenity in amenities:\n",
    "        # remove quotes\n",
    "        amenity = amenity.replace('\"', \"\")\n",
    "        # remove anything in parentheses or brackets\n",
    "        amenity = re.sub(r\"\\(.*\\)\", \"\", amenity)\n",
    "        amenity = re.sub(r\"\\[.*\\]\", \"\", amenity)\n",
    "        # strip whitespace\n",
    "        amenity = amenity.strip()\n",
    "        # lowercase\n",
    "        amenity = amenity.lower()\n",
    "\n",
    "        cleaned.append(amenity)\n",
    "\n",
    "    # split entries with a slash, \"and\", or \"or\"\n",
    "    for to_split_on in [\"/\", \" and \", \" or \"]:\n",
    "        cleaned = [amenity.split(to_split_on) for amenity in cleaned]\n",
    "        cleaned = [item.strip() for sublist in cleaned for item in sublist]\n",
    "\n",
    "    # remove empty strings\n",
    "    cleaned = [amenity for amenity in cleaned if amenity != \"\"]\n",
    "\n",
    "    return cleaned\n",
    "\n",
    "df.amenities = df.amenities.apply(clean_amenities)"
   ]
  },
  {
   "attachments": {},
   "cell_type": "markdown",
   "metadata": {},
   "source": [
    "Look at some examples of the cleaned amenities."
   ]
  },
  {
   "cell_type": "code",
   "execution_count": 46,
   "metadata": {},
   "outputs": [
    {
     "data": {
      "text/plain": [
       "['tv',\n",
       " 'cable tv',\n",
       " 'wifi',\n",
       " 'air conditioning',\n",
       " 'kitchen',\n",
       " 'free parking on premises',\n",
       " 'smoking allowed',\n",
       " 'pets live on this property',\n",
       " 'dog',\n",
       " 'cat',\n",
       " 'heating',\n",
       " 'suitable for events',\n",
       " 'washer',\n",
       " 'dryer}']"
      ]
     },
     "execution_count": 46,
     "metadata": {},
     "output_type": "execute_result"
    }
   ],
   "source": [
    "df.amenities.sample(1).values[0]"
   ]
  },
  {
   "cell_type": "code",
   "execution_count": 57,
   "metadata": {},
   "outputs": [
    {
     "name": "stdout",
     "output_type": "stream",
     "text": [
      "Adding amenities features...\n"
     ]
    },
    {
     "data": {
      "text/plain": [
       "kitchen      304.0\n",
       "pool         235.0\n",
       "family       179.0\n",
       "tv            97.0\n",
       "wifi          82.0\n",
       "backyard      52.0\n",
       "dog           46.0\n",
       "dryer         45.0\n",
       "breakfast     36.0\n",
       "washer        34.0\n",
       "dtype: float64"
      ]
     },
     "execution_count": 57,
     "metadata": {},
     "output_type": "execute_result"
    }
   ],
   "source": [
    "def amenities_features(features: pd.DataFrame) -> pd.DataFrame:\n",
    "    print(\"Adding amenities features...\")\n",
    "    amenities_features_df = pd.DataFrame()\n",
    "    # 1. Find the amenities in the listings\n",
    "    for index, row in df.iterrows():\n",
    "        # 1. Find the amenities in the listings\n",
    "        amenities = row.amenities\n",
    "\n",
    "        # Add one row to the features dataframe using pd.concat\n",
    "        amenities_features_df = pd.concat([amenities_features_df, pd.DataFrame(columns=amenities_features_df.columns)])\n",
    "\n",
    "        # 2. For each amenity, see if it is present in the review\n",
    "        for amenity in amenities:\n",
    "            if amenity in row.comments:\n",
    "                # 3. If it is present, add 1 for that feature\n",
    "                if amenity in amenities_features_df.columns:\n",
    "                    amenities_features_df.loc[index, amenity] = 1\n",
    "                #   If the amenity does not already exist from another review, add it to the features dataframe\n",
    "                else:\n",
    "                    amenities_features_df.loc[index, amenity] = 0\n",
    "    \n",
    "    # 4. fill missing values with 0\n",
    "    amenities_features_df = amenities_features_df.fillna(0)\n",
    "\n",
    "    # 5. Add the features to the features dataframe\n",
    "    features = pd.concat([features, amenities_features_df], axis=1)\n",
    "\n",
    "    return features\n",
    "\n",
    "features = pd.DataFrame()\n",
    "features_with_amenities = amenities_features(features)\n",
    "features_with_amenities.sum().sort_values(ascending=False).head(10)"
   ]
  },
  {
   "attachments": {},
   "cell_type": "markdown",
   "metadata": {},
   "source": [
    "## Word Embeddings and T-SNE\n",
    "Another way to look at the data is to use word embeddings. We can use the word2vec model from gensim to create word embeddings for each word in the dataset. We can then take the average of all word vectors in a review to get a vector representation of the review. We can then use T-SNE to reduce the dimensionality of the word embeddings to 3 dimensions so we can plot them."
   ]
  },
  {
   "cell_type": "code",
   "execution_count": 50,
   "metadata": {},
   "outputs": [],
   "source": [
    "from gensim.models.word2vec import Word2Vec\n",
    "\n",
    "def embeddings_features(features, emb_vector_size=50) -> pd.DataFrame:\n",
    "\n",
    "    print(\"Creating model...\")\n",
    "    model = Word2Vec(df.comments.to_list(), \n",
    "            min_count=1,\n",
    "            vector_size=emb_vector_size,\n",
    "            workers=3, \n",
    "            window=3, \n",
    "            sg=1\n",
    "        )\n",
    "    \n",
    "    # generate embeddings\n",
    "    print(\"Generating embeddings...\")\n",
    "    get_review_embeddings = lambda review: np.mean([model.wv[word] for word in review if word in model.wv], axis=0)\n",
    "    embeddings = np.array([get_review_embeddings(review) for review in df.comments.to_list()])\n",
    "    \n",
    "    for i in range(embeddings.shape[1]):\n",
    "        features[f\"embedding_{i}\"] = embeddings[:, i]\n",
    "    \n",
    "    return features\n",
    "\n",
    "\n",
    "def tsne_features(features, dims=3):\n",
    "\n",
    "    from sklearn.manifold import TSNE\n",
    "    print(f\"Applying t-SNE... (dim={dims})\")\n",
    "    tsne = TSNE(n_components=dims, random_state=0)\n",
    "    embeddings_2d = tsne.fit_transform(features)\n",
    "    embd_df = pd.DataFrame(embeddings_2d, columns=[f\"tsne_{i}\" for i in range(dims)])\n",
    "\n",
    "    return embd_df"
   ]
  },
  {
   "attachments": {},
   "cell_type": "markdown",
   "metadata": {},
   "source": [
    "Let's apply this to the misleading reviews, and then reduce down to 2 dimensions using T-SNE."
   ]
  },
  {
   "cell_type": "code",
   "execution_count": 52,
   "metadata": {},
   "outputs": [
    {
     "name": "stdout",
     "output_type": "stream",
     "text": [
      "Creating model...\n",
      "Generating embeddings...\n",
      "Applying t-SNE... (dim=3)\n"
     ]
    },
    {
     "data": {
      "application/vnd.plotly.v1+json": {
       "config": {
        "plotlyServerURL": "https://plot.ly"
       },
       "data": [
        {
         "hovertemplate": "label=good<br>tsne_0=%{x}<br>tsne_1=%{y}<br>tsne_2=%{z}<extra></extra>",
         "legendgroup": "good",
         "marker": {
          "color": "#636efa",
          "opacity": 0.5,
          "size": 4,
          "symbol": "circle"
         },
         "mode": "markers",
         "name": "good",
         "scene": "scene",
         "showlegend": true,
         "type": "scatter3d",
         "x": [
          -4.0977783203125,
          -2.102196455001831,
          -5.092133522033691,
          -10.253817558288574,
          1.6136455535888672,
          9.108222007751465,
          -8.03076171875,
          -4.7006754875183105,
          -5.562607288360596,
          -9.329171180725098,
          7.6276021003723145,
          0.8438571095466614,
          -7.764974594116211,
          9.331445693969727,
          -3.7362287044525146,
          0.1719713658094406,
          -7.497251033782959,
          0.1293022781610489,
          -10.315428733825684,
          2.0687291622161865,
          -0.10265082120895386,
          -1.1746968030929565,
          -2.4809927940368652,
          -2.3577237129211426,
          0.9193589091300964,
          -7.972442150115967,
          7.662742614746094,
          -8.789761543273926,
          0.23755978047847748,
          -3.6214051246643066,
          -6.810974597930908,
          -10.0878324508667,
          -5.21965217590332,
          -3.960598945617676,
          -3.134169340133667,
          -6.137147426605225,
          2.7200875282287598,
          -1.8177108764648438,
          0.4866720139980316,
          -11.930408477783203,
          -11.055978775024414,
          -9.895438194274902,
          -3.1307106018066406,
          -3.384106397628784,
          6.051919937133789,
          -0.12009794265031815,
          0.4527519941329956,
          -6.252353668212891,
          5.889107704162598,
          5.140775203704834,
          -2.176177978515625,
          -6.682254791259766,
          -0.03527824208140373,
          -3.0882511138916016,
          -2.8441197872161865,
          2.6956300735473633,
          -3.0176870822906494,
          -7.833159446716309,
          -0.7823461294174194,
          7.877100467681885,
          11.79338550567627,
          -4.017374038696289,
          8.268149375915527,
          -1.3520326614379883,
          -2.749547004699707,
          6.130344867706299,
          -6.260169506072998,
          -4.460918426513672,
          -9.291767120361328,
          -5.791531562805176,
          3.9319329261779785,
          -1.3640589714050293,
          -0.7324777841567993,
          4.274073123931885,
          0.21115674078464508,
          1.2668424844741821,
          5.6394171714782715,
          -6.4931135177612305,
          -5.716248512268066,
          -0.10264504700899124,
          -8.864736557006836,
          3.191497802734375,
          -11.934941291809082,
          -3.930436372756958,
          -10.333459854125977,
          -3.5574820041656494,
          -6.603579044342041,
          -8.02231216430664,
          -8.090585708618164,
          -8.052254676818848,
          3.1908044815063477,
          4.659977436065674,
          -5.089497089385986,
          2.9376821517944336,
          -3.4355945587158203,
          7.279581069946289,
          -1.05949068069458,
          1.024236798286438,
          3.7939629554748535,
          -3.084812641143799,
          -2.6279728412628174,
          -3.845292806625366,
          0.6692972779273987,
          6.185571670532227,
          0.10672338306903839,
          0.6465098261833191,
          -5.109990119934082,
          4.7094268798828125,
          -2.80527400970459,
          -10.246355056762695,
          -0.8535273671150208,
          -8.46349048614502,
          2.969834089279175,
          6.626420974731445,
          7.85087251663208,
          -4.2480549812316895,
          -6.364963531494141,
          4.164200782775879,
          11.714908599853516,
          11.416731834411621,
          9.300684928894043,
          10.448984146118164,
          10.749210357666016,
          -4.983089447021484,
          -7.449519634246826,
          -12.332971572875977,
          -3.9707891941070557,
          -2.836822748184204,
          -0.26420867443084717,
          -7.643532752990723,
          1.4104621410369873,
          -6.022736549377441,
          -4.274644374847412,
          -11.276572227478027,
          -1.0697673559188843,
          -10.726078033447266,
          -8.528789520263672,
          -5.581734657287598,
          -5.230849266052246,
          6.745637893676758,
          2.792433738708496,
          15.081628799438477,
          -7.044034481048584,
          3.5253543853759766,
          -6.456736087799072,
          6.340738773345947,
          -5.469181060791016,
          19.371801376342773,
          -12.336348533630371,
          0.25426438450813293,
          -8.221309661865234,
          -2.4572339057922363,
          -6.2502851486206055,
          -6.899908065795898,
          -3.8037586212158203,
          -1.4576576948165894,
          -0.17908993363380432,
          5.03418493270874,
          7.916615962982178,
          -1.1441476345062256,
          7.772804260253906,
          10.687430381774902,
          15.369629859924316,
          -6.230827331542969,
          -6.342766761779785,
          5.577977657318115,
          -0.7668078541755676,
          -11.602558135986328,
          -5.622914791107178,
          -5.739394187927246,
          -2.04605770111084,
          7.0768046379089355,
          -0.9693954586982727,
          -0.5981128215789795,
          -1.8566882610321045,
          -7.645017147064209,
          -1.757099986076355,
          0.07140481472015381,
          -2.4554882049560547,
          3.569544553756714,
          -0.0037402810994535685,
          2.7688302993774414,
          -0.3828720450401306,
          6.112267971038818,
          7.3853631019592285,
          6.869505405426025,
          -7.10115909576416,
          -7.084387302398682,
          20.524776458740234,
          17.007787704467773,
          4.035017967224121,
          11.902645111083984,
          -8.234074592590332,
          -8.044381141662598,
          2.467362403869629,
          -6.007566928863525,
          -4.663054943084717,
          3.105480670928955,
          -4.960858345031738,
          -6.098318576812744,
          -7.096937656402588,
          -9.218878746032715,
          -8.365888595581055,
          -3.5641794204711914,
          -2.7854621410369873,
          -6.40003776550293,
          4.803012371063232,
          -5.517239570617676,
          -3.652776002883911,
          -4.122043609619141,
          -0.8236384987831116,
          -0.6202790141105652,
          -8.344972610473633,
          0.9904004335403442,
          6.955265998840332,
          9.542082786560059,
          -10.433822631835938,
          -2.079895496368408,
          -8.38818359375,
          4.277117729187012,
          -6.443545341491699,
          10.22403335571289,
          -6.239932060241699,
          1.6789469718933105,
          1.0036412477493286,
          -7.693825721740723,
          -6.232049942016602,
          5.457729339599609,
          0.6631702780723572,
          3.062673568725586,
          -5.154717922210693,
          -3.1762757301330566,
          -0.47876110672950745,
          -8.22265911102295,
          -5.973755836486816,
          11.291936874389648,
          12.411322593688965,
          -0.2027253955602646,
          -0.39789801836013794,
          6.153721809387207,
          -7.026182174682617,
          7.68962287902832,
          -5.463076114654541,
          7.514408588409424,
          -4.471044063568115,
          -11.974849700927734,
          -8.547011375427246,
          1.8524487018585205,
          -5.692173004150391,
          -0.03803599998354912,
          -2.4164812564849854,
          1.8963068723678589,
          -5.707133769989014,
          -9.11871337890625,
          1.904842734336853,
          -8.982394218444824,
          2.1836459636688232,
          6.7489848136901855,
          -5.362715244293213,
          -10.707234382629395,
          -11.05933952331543,
          -4.742400646209717,
          -6.471673965454102,
          -0.2564013600349426,
          3.8153769969940186,
          8.998902320861816,
          -8.276507377624512,
          -10.12723159790039,
          11.47157096862793,
          0.7927313446998596,
          -7.7532830238342285,
          8.040282249450684,
          -0.9961771368980408,
          -9.855287551879883,
          -3.2090377807617188,
          0.2965889871120453,
          -0.19117183983325958,
          1.2203809022903442,
          -3.7111222743988037,
          9.743953704833984,
          -4.05145788192749,
          -11.198554039001465,
          -9.395411491394043,
          -10.961235046386719,
          2.3551535606384277,
          -7.167832374572754,
          -2.162379741668701,
          -1.3295888900756836,
          -11.916769981384277,
          1.633588433265686,
          -1.2994709014892578,
          0.21467828750610352,
          -0.1487107276916504,
          4.817691802978516,
          -0.8733717203140259,
          0.3949645757675171,
          0.2121524214744568,
          5.439874649047852,
          -3.759157657623291,
          2.038233995437622,
          -4.061768054962158,
          0.43325379490852356,
          -10.91303539276123,
          -2.527160406112671,
          -7.007260799407959,
          2.223938465118408,
          -7.394519805908203,
          -10.219318389892578,
          -5.529783248901367,
          9.89578628540039,
          11.141125679016113,
          1.0114529132843018,
          -4.880186557769775,
          0.6127711534500122,
          -4.3229804039001465,
          -8.150272369384766,
          12.699695587158203,
          -5.930300235748291,
          -6.443660736083984,
          -5.206693172454834,
          -5.169279098510742,
          7.680006504058838,
          -3.9578781127929688,
          10.136467933654785,
          -3.7636520862579346,
          8.147956848144531,
          -0.2387147694826126,
          3.1317546367645264,
          -4.424603462219238,
          -4.3197340965271,
          4.9326276779174805,
          -7.273026466369629,
          -3.54822039604187,
          5.370954990386963,
          -2.3221092224121094,
          -7.812954902648926,
          -0.08075612038373947,
          1.162252426147461,
          0.25410589575767517,
          4.044381141662598,
          -6.774850368499756,
          -9.241390228271484,
          -8.676948547363281,
          -7.747162818908691,
          -7.028328895568848,
          2.267930269241333,
          -7.749631881713867,
          4.4896955490112305,
          -2.0169434547424316,
          -7.243442535400391,
          -0.5608243346214294,
          -7.714344501495361,
          1.9234260320663452,
          -8.975268363952637,
          5.685583114624023,
          0.7028491497039795,
          -0.7398810386657715,
          -8.63754653930664,
          -3.5299274921417236,
          2.6503138542175293,
          -6.487003326416016,
          1.8266029357910156,
          -8.903959274291992,
          -6.392487049102783,
          -6.069308280944824,
          9.198128700256348,
          -4.807254314422607,
          -5.005956172943115,
          -10.865582466125488,
          4.341241836547852,
          4.596047401428223,
          -0.009410584345459938,
          -0.33581650257110596,
          -6.214624881744385,
          -4.510873794555664,
          -1.08234441280365,
          -5.981589317321777,
          6.68161678314209,
          0.9756543040275574,
          -7.359598159790039,
          -5.006475448608398,
          -3.9079487323760986,
          1.524909257888794,
          -4.94460916519165,
          -0.2828648090362549,
          -0.8972380757331848,
          -3.0701255798339844,
          -3.2767677307128906,
          -0.5850232839584351,
          -7.72757625579834,
          -9.465411186218262,
          -5.023727893829346,
          5.821540355682373,
          -5.107811450958252,
          -3.7306103706359863,
          -0.6698991656303406,
          -0.6944279074668884,
          -6.184577941894531,
          0.9337053894996643,
          -2.9058115482330322,
          1.3516677618026733,
          4.656985282897949,
          9.212200164794922,
          4.394227981567383,
          1.282127857208252,
          -10.815790176391602,
          -4.301986217498779,
          3.3988006114959717,
          -9.03640079498291,
          -4.975335597991943,
          2.017782688140869,
          0.16237302124500275,
          -0.9873918890953064,
          -6.649311065673828,
          7.695321083068848,
          -0.6656352877616882,
          -5.425638198852539,
          -2.43293833732605,
          0.2865689694881439,
          -8.843570709228516,
          -4.183126449584961,
          10.360577583312988,
          -1.9118469953536987,
          5.5364603996276855,
          12.828681945800781,
          -9.305429458618164,
          4.726089954376221,
          -11.239811897277832,
          6.273894309997559,
          -2.081467628479004,
          -5.445702075958252,
          -1.6215623617172241,
          3.2208504676818848,
          -11.296012878417969,
          -2.6444809436798096,
          -5.669644355773926,
          -4.95737361907959,
          -2.233506202697754,
          -9.736913681030273,
          -1.214781403541565,
          -7.211936950683594,
          -8.412745475769043,
          -8.414190292358398,
          -7.9475998878479,
          -5.583477973937988,
          6.886050701141357,
          1.9702929258346558,
          -0.23742225766181946,
          -5.685452461242676,
          -0.3051612973213196,
          2.1443533897399902,
          3.146082639694214,
          3.031229257583618,
          -5.580064296722412,
          -10.346503257751465,
          -0.8502246141433716,
          -3.9039084911346436,
          -10.577606201171875,
          -5.067185878753662,
          -11.771723747253418,
          -9.259442329406738,
          -10.472582817077637,
          11.41547966003418,
          -10.148680686950684,
          -10.356779098510742,
          9.739744186401367,
          -11.23694896697998,
          -0.3913201689720154,
          1.0806941986083984,
          -4.585202217102051,
          3.175307512283325,
          -3.45292592048645,
          2.373185634613037,
          8.577812194824219,
          -6.675911903381348,
          -1.0918667316436768,
          1.3747655153274536,
          -6.707816123962402,
          -9.292028427124023,
          -0.5651125907897949,
          -8.72022533416748,
          -5.681800842285156,
          -5.681755065917969,
          -5.681800842285156,
          3.8267955780029297,
          -3.3939876556396484,
          1.0584701299667358,
          -0.21275630593299866,
          3.1240735054016113,
          6.765681743621826,
          4.932593822479248,
          -8.350173950195312,
          1.1063367128372192,
          1.5386637449264526,
          -8.004196166992188,
          6.701693534851074,
          -7.00177001953125,
          -5.582123756408691,
          -9.81873607635498,
          -6.931816101074219,
          7.154362201690674,
          -9.060699462890625,
          1.353847861289978,
          -8.16183090209961,
          -4.7267022132873535,
          -4.330160140991211,
          -2.680614948272705,
          -2.0632810592651367,
          7.04390287399292,
          -9.132207870483398,
          -6.789681911468506,
          9.460105895996094,
          8.590743064880371,
          -7.367743492126465,
          -10.880234718322754,
          -10.492146492004395,
          -9.080500602722168,
          3.9408605098724365,
          -1.8086272478103638,
          -8.12181568145752,
          3.819664239883423,
          -3.1513729095458984,
          -10.219376564025879,
          -9.887951850891113,
          -12.24229621887207,
          -12.350029945373535,
          -12.620182991027832,
          -12.905121803283691,
          -9.407763481140137,
          -6.921112060546875,
          -2.10368275642395,
          -2.348219871520996,
          3.1315956115722656,
          -0.02779371477663517,
          -4.472461223602295,
          -10.615187644958496,
          3.0093512535095215,
          -9.56265640258789,
          1.9987659454345703,
          -7.845017433166504,
          1.592777967453003,
          -11.05689525604248,
          -1.1643160581588745,
          0.8974278569221497,
          -8.30888557434082,
          -5.582001209259033,
          -1.4976286888122559,
          -6.176377773284912,
          -9.587068557739258,
          2.2476537227630615,
          5.3204498291015625,
          2.5579147338867188,
          -6.42342472076416,
          -1.169327735900879,
          -10.471912384033203,
          -10.572213172912598,
          -1.064234972000122,
          -0.9380583167076111,
          -9.47161865234375,
          -3.6076409816741943,
          -8.18585205078125,
          -6.040525913238525,
          -1.0218299627304077,
          -2.8809280395507812,
          -4.009327411651611,
          6.090445518493652,
          -6.470201015472412,
          0.23367242515087128,
          -3.4344122409820557,
          2.420914888381958,
          2.320451498031616,
          -3.712247371673584,
          -1.3099225759506226,
          -3.409237861633301,
          7.379642963409424,
          0.566559374332428,
          2.3854849338531494,
          -8.661718368530273,
          -2.152538537979126,
          -11.430166244506836,
          4.648068904876709,
          -8.51451587677002,
          6.064363479614258,
          -1.380025863647461,
          -1.1612080335617065,
          -9.013890266418457,
          -11.161543846130371,
          -5.139282703399658,
          -6.218792915344238,
          -5.743319511413574,
          2.344681739807129,
          6.060123443603516,
          0.5672505497932434,
          3.370500326156616,
          1.298404335975647,
          -11.371817588806152,
          -8.45550537109375,
          -1.5040128231048584,
          -9.166458129882812,
          1.7926878929138184,
          0.5586963295936584,
          -2.2440733909606934,
          0.44038712978363037,
          -4.673221111297607,
          2.8284928798675537,
          -5.288812637329102,
          -8.364432334899902,
          1.9089417457580566,
          -7.782040119171143,
          -7.53419303894043,
          5.768989086151123,
          7.975818157196045,
          9.894233703613281,
          4.554560661315918,
          4.375481128692627,
          0.4912785589694977,
          8.669411659240723,
          9.510693550109863,
          -0.3820623755455017,
          -2.418447971343994,
          -3.7519521713256836,
          -8.390606880187988,
          5.6330246925354,
          -1.0163909196853638,
          -8.697001457214355,
          -6.402365207672119,
          -11.816468238830566,
          -8.017004013061523,
          -7.10601282119751,
          0.6021815538406372,
          3.7897140979766846,
          6.507510185241699,
          -11.246017456054688,
          8.113045692443848,
          -10.39008903503418,
          -9.2027587890625,
          -3.261871576309204,
          -6.6297783851623535,
          -8.5214262008667,
          -1.8700122833251953,
          -4.897255897521973,
          5.264035224914551,
          10.038939476013184,
          0.961437463760376,
          9.88664722442627,
          -3.0216450691223145,
          -7.032826900482178,
          -6.758772850036621,
          -1.0270904302597046,
          -1.770574927330017,
          -2.4335222244262695,
          -7.6853742599487305,
          2.7706613540649414,
          -6.543801307678223,
          -0.34799131751060486,
          4.424482345581055,
          -1.5483100414276123,
          0.15468274056911469,
          6.091628551483154,
          -1.0770177841186523,
          -7.224401473999023,
          -8.178021430969238,
          -7.4247822761535645,
          -8.218717575073242,
          0.7428089380264282,
          -0.3081216514110565,
          2.59842848777771,
          7.732640266418457,
          2.1734731197357178,
          -4.640891075134277,
          1.6614370346069336,
          -4.979162693023682,
          2.553280830383301,
          -9.686429977416992,
          -9.416768074035645,
          -8.426692008972168,
          -7.456326961517334,
          -0.8244017958641052,
          -3.358194351196289,
          -7.337325572967529,
          2.907789468765259,
          3.263465404510498,
          8.19870662689209,
          -10.14190673828125,
          -7.837721824645996,
          3.455612897872925,
          7.971314430236816,
          10.495773315429688,
          -2.2192819118499756,
          3.9141597747802734,
          -0.5025542974472046,
          -7.692821979522705,
          -5.441200256347656,
          -6.563361644744873,
          -0.2703187167644501,
          -6.348392486572266,
          -3.7228405475616455,
          -6.363959312438965,
          -1.4763588905334473,
          3.7754149436950684,
          -1.6820213794708252,
          3.2298123836517334,
          -10.776327133178711,
          -6.284264087677002,
          0.14094844460487366,
          -6.215776443481445,
          -6.754030704498291,
          -9.68287181854248,
          -7.156513690948486,
          -4.137925624847412,
          -0.6463884115219116,
          5.118461608886719,
          -2.7294180393218994,
          0.6843054890632629,
          1.595460295677185,
          -2.6426029205322266,
          -4.780840873718262,
          -2.1969945430755615,
          -2.133934259414673,
          -9.668774604797363,
          -8.429259300231934,
          1.3021912574768066,
          -1.5082272291183472,
          -6.730468273162842,
          -9.022967338562012,
          -0.5646569728851318,
          -0.12418776005506516,
          -1.9153016805648804,
          0.6498464941978455,
          -6.254471302032471,
          -0.5909622311592102,
          -1.9850637912750244,
          -8.064133644104004,
          0.09125752747058868,
          -6.7036309242248535,
          -0.28715041279792786,
          -0.9291394352912903,
          -6.161223411560059,
          5.091573238372803,
          -5.568848609924316,
          -5.322764873504639,
          -4.369183540344238,
          5.267989635467529,
          -5.5623602867126465,
          0.7636380195617676,
          -2.0175938606262207,
          -5.778442859649658,
          -10.22170639038086,
          -0.5909769535064697,
          -3.823352336883545,
          -3.598315954208374,
          -0.545502781867981,
          3.4039697647094727,
          4.238935947418213,
          2.005683660507202,
          2.286536693572998,
          -3.331089735031128,
          0.8166757822036743,
          -1.5339889526367188,
          -2.047895908355713,
          -7.586073875427246,
          3.4345169067382812,
          -5.867641448974609,
          0.7902657985687256,
          -0.4819120764732361,
          -5.263256072998047,
          -5.263809680938721,
          -6.9367547035217285,
          -4.850104331970215,
          -9.57531452178955,
          -0.6627072691917419,
          1.0994070768356323,
          -10.169178009033203,
          -2.742135763168335,
          -5.645634174346924,
          -0.6276156902313232,
          -6.142043113708496,
          -5.379470348358154,
          -0.7944480180740356,
          -10.723276138305664,
          -11.753410339355469,
          2.5455029010772705,
          -6.956441879272461,
          -2.3271913528442383,
          -9.454652786254883,
          -7.495673656463623,
          0.8490861654281616,
          -4.310492992401123,
          -2.944824695587158,
          -9.272401809692383,
          -2.07187557220459,
          -5.098215103149414,
          -11.175192832946777,
          -2.539767026901245,
          -1.4521201848983765,
          -5.00980806350708,
          -0.2683878242969513,
          -6.84348726272583,
          -3.5041375160217285,
          -4.132563591003418,
          -5.959360599517822,
          -1.2032604217529297,
          -1.9823962450027466,
          -3.4661903381347656,
          2.9454784393310547,
          -7.704173564910889,
          -8.081101417541504,
          -2.013864040374756,
          -10.025768280029297,
          -1.205806016921997,
          6.3802947998046875,
          -0.8226364850997925,
          -7.7815399169921875,
          3.1777591705322266,
          6.636789321899414,
          9.196906089782715,
          -2.2222366333007812,
          17.642915725708008,
          1.256128191947937,
          8.367866516113281,
          -1.026892900466919,
          -0.16506427526474,
          3.959209442138672,
          3.5425965785980225,
          7.122335910797119,
          1.9121900796890259,
          -5.399775981903076,
          8.730920791625977,
          -9.855792999267578,
          -6.559892177581787,
          16.433544158935547,
          -6.9661641120910645,
          5.941321849822998,
          10.604453086853027,
          -10.333824157714844,
          -7.448843479156494,
          -3.102508306503296,
          -6.474396228790283,
          7.390718936920166,
          1.172059178352356,
          16.130062103271484,
          -2.2959604263305664,
          -2.420335292816162,
          -1.9274325370788574,
          0.11013748496770859,
          7.016003608703613,
          18.696977615356445,
          1.7521476745605469,
          -10.12414264678955,
          -11.037681579589844,
          15.70035457611084,
          15.032120704650879,
          21.622264862060547,
          18.486982345581055,
          20.342571258544922,
          17.58026885986328,
          17.43462562561035,
          2.063169479370117,
          -10.625783920288086,
          17.309093475341797,
          20.47214698791504,
          0.3207976818084717,
          15.005843162536621,
          -10.413098335266113,
          -2.898245334625244,
          7.308736324310303,
          -2.2931010723114014,
          0.6939826011657715,
          -7.605103969573975,
          17.244548797607422,
          -0.2861286997795105,
          -5.3512959480285645,
          2.548980474472046,
          -3.3249032497406006,
          -2.790311813354492,
          15.076370239257812,
          1.6498266458511353,
          -2.9646553993225098,
          4.74476432800293,
          15.339319229125977,
          -4.919505596160889,
          -1.727698564529419,
          -4.0641584396362305,
          -3.778834819793701,
          16.743616104125977,
          -8.153794288635254,
          -3.3974361419677734,
          -2.366820812225342,
          -4.944182395935059,
          18.66519546508789,
          0.18289229273796082,
          4.604874610900879,
          -0.2790232300758362,
          -7.721698760986328,
          -7.721698760986328,
          -4.0029425621032715,
          -4.002923488616943,
          2.365619421005249,
          2.36561918258667,
          2.154895544052124,
          2.154920816421509,
          -8.892288208007812,
          -8.892288208007812,
          -5.435336112976074,
          -5.435336589813232,
          1.5511291027069092,
          1.5511291027069092,
          -11.201148986816406,
          -11.201148986816406,
          18.69329071044922,
          18.69329071044922,
          20.81936264038086,
          20.81936264038086,
          -7.410965442657471,
          -7.410965442657471,
          -5.615106105804443,
          -9.044367790222168,
          -3.77886962890625,
          -3.77886962890625,
          -1.733760952949524,
          -1.733760952949524,
          -2.8916003704071045,
          -2.8916003704071045,
          4.369866847991943,
          4.369866847991943,
          -12.78354263305664,
          -12.78354263305664,
          -5.998540878295898,
          -8.3082857131958,
          0.3121446371078491,
          8.750255584716797,
          3.39288330078125,
          4.205358982086182,
          15.408734321594238,
          6.473278999328613,
          -2.2076051235198975,
          2.681370973587036,
          20.586368560791016,
          -12.257547378540039,
          17.101160049438477,
          20.571041107177734,
          15.665223121643066,
          -5.592395782470703,
          21.86030387878418,
          3.5346083641052246,
          -8.587690353393555,
          -0.5497949719429016,
          17.371376037597656,
          14.766051292419434,
          -7.161652088165283,
          -6.277288913726807,
          -8.042095184326172,
          18.007808685302734,
          17.184633255004883,
          19.894432067871094,
          -2.782275676727295,
          2.207873582839966,
          -5.174834251403809,
          -7.163946628570557,
          1.3586244583129883,
          -6.344465255737305,
          1.7838650941848755,
          7.651723861694336,
          -1.8017305135726929,
          -0.9770004749298096,
          -0.6305878758430481,
          -5.0512895584106445,
          3.16727876663208,
          0.3236117660999298,
          3.3854081630706787,
          9.120420455932617,
          -5.860992908477783,
          17.650184631347656,
          14.846322059631348,
          -9.302668571472168,
          15.055992126464844,
          18.70836067199707,
          -6.492956161499023,
          -0.7774863243103027,
          -8.205135345458984,
          3.9420361518859863,
          19.80584716796875,
          -3.988144874572754,
          -6.299229621887207,
          18.276514053344727,
          5.85162353515625,
          15.52726936340332,
          2.226897954940796,
          -1.4278463125228882,
          -4.817138195037842,
          -7.616163730621338,
          18.56571388244629,
          -0.5773598551750183,
          -1.8147468566894531,
          3.3756003379821777,
          2.576484441757202,
          -2.01548171043396,
          -9.061942100524902,
          -6.508963584899902,
          -4.934019088745117,
          14.91049861907959,
          -0.9424504041671753,
          19.614091873168945,
          -1.3481712341308594,
          -7.383241176605225,
          -5.805746078491211,
          1.0321569442749023,
          21.439796447753906,
          18.03285026550293,
          18.210039138793945,
          -4.592040061950684,
          19.433385848999023,
          17.3010196685791,
          -6.932316780090332,
          17.83501434326172,
          -6.595767021179199,
          2.290588617324829,
          -9.007790565490723,
          -3.9656989574432373,
          20.21681785583496,
          4.703913688659668,
          -6.385856628417969,
          -10.080825805664062,
          6.00261926651001,
          -9.194615364074707,
          6.275192737579346,
          -2.7728211879730225,
          1.3016397953033447,
          -6.223140239715576,
          -8.664589881896973,
          -5.067199230194092,
          17.75698471069336,
          -5.063544273376465,
          -7.001902103424072,
          -9.327203750610352,
          -8.816529273986816,
          2.693963050842285,
          4.178412437438965,
          15.5652494430542,
          -0.3398236632347107,
          -0.5683919191360474,
          5.313892364501953,
          0.35775113105773926,
          -0.3949717581272125,
          -6.742180824279785,
          -7.0219879150390625,
          1.876732349395752,
          -0.8525095582008362,
          4.537324905395508,
          18.12062644958496,
          -0.7094000577926636,
          -11.090911865234375,
          0.9445700645446777,
          0.7444878220558167,
          -10.038384437561035,
          -0.9700237512588501,
          6.832314491271973,
          -4.322684288024902,
          -8.47498607635498,
          5.628546237945557,
          5.3064470291137695,
          -6.859776020050049,
          3.0563952922821045,
          17.740903854370117,
          3.252504825592041,
          3.2669336795806885,
          4.245578765869141,
          3.14048171043396,
          -9.402693748474121,
          -4.5949482917785645,
          21.1611270904541,
          -0.5033989548683167,
          -6.820082664489746,
          -5.048003673553467,
          -7.813394546508789,
          -10.299236297607422,
          17.849191665649414,
          9.33857250213623,
          8.275311470031738,
          -6.762535572052002,
          20.040939331054688,
          9.33659839630127,
          20.264463424682617,
          6.316839218139648,
          -1.4399843215942383,
          -3.7296149730682373,
          -5.027043342590332,
          1.2117063999176025,
          0.1190096065402031,
          1.7525960206985474,
          21.47710609436035,
          -2.454582929611206,
          -2.512053966522217,
          -9.028655052185059,
          -2.5497469902038574,
          1.4403016567230225,
          6.980551719665527,
          -4.415794372558594,
          4.814671993255615,
          -0.8795205354690552,
          2.3146424293518066,
          6.181644916534424,
          -1.7743366956710815,
          -4.961778163909912,
          -7.007129192352295,
          0.9512827396392822,
          16.894733428955078,
          -4.126237869262695,
          -1.250918984413147,
          21.085508346557617,
          7.970748424530029,
          -0.21557220816612244,
          1.9414077997207642,
          17.761281967163086,
          18.177444458007812,
          -6.878299713134766,
          1.3619675636291504,
          -3.8568716049194336,
          14.841943740844727,
          1.8878540992736816,
          1.6326634883880615,
          -11.44254207611084,
          4.844105243682861,
          -2.8394336700439453,
          -6.233059883117676,
          -10.857081413269043,
          9.407058715820312,
          16.773393630981445,
          16.988750457763672,
          -0.8454455137252808,
          5.036615371704102,
          -3.270392417907715,
          17.42589569091797,
          19.189720153808594,
          -8.738309860229492,
          -11.225180625915527,
          -1.1626285314559937,
          3.7401418685913086,
          -4.106123924255371,
          -3.9706315994262695,
          19.740520477294922,
          -8.934027671813965,
          5.0118513107299805,
          16.451982498168945,
          15.909516334533691,
          8.512699127197266,
          -7.092646598815918,
          21.109560012817383,
          2.4282994270324707,
          -10.87163257598877,
          21.001771926879883,
          0.6177569031715393,
          -3.731550693511963,
          -8.980876922607422,
          0.0936737135052681,
          19.638059616088867,
          -7.222896575927734,
          5.4972429275512695,
          -4.998062610626221,
          -1.9242039918899536,
          0.932960033416748,
          15.486892700195312,
          -8.824749946594238,
          9.612046241760254,
          19.979717254638672,
          0.1289338320493698,
          -3.4734601974487305,
          19.47127914428711,
          16.995983123779297,
          -1.1465575695037842,
          20.18939208984375,
          -8.835593223571777,
          17.046316146850586,
          8.360002517700195,
          -0.8560066819190979,
          -1.1810890436172485,
          -0.5347619652748108,
          14.632905960083008,
          17.68982696533203,
          -0.6781530976295471,
          15.001564979553223,
          -4.6420817375183105,
          -2.613281488418579,
          11.212976455688477,
          6.005951881408691,
          -1.128508448600769,
          -3.269498825073242,
          1.6197854280471802,
          -12.605432510375977,
          -6.502987384796143,
          -10.229900360107422,
          -0.8666699528694153,
          -3.7856903076171875,
          -0.6165011525154114,
          -6.345423221588135,
          -10.971402168273926,
          3.101022481918335,
          3.575559139251709,
          -11.982919692993164,
          -6.660857677459717,
          5.635439395904541,
          -2.9127650260925293,
          1.4197394847869873,
          -6.719675540924072,
          6.3365478515625,
          -8.506030082702637,
          -6.300104141235352,
          -10.530074119567871,
          1.875504970550537,
          -4.020679473876953,
          -5.006896018981934,
          -4.69840669631958,
          6.0712571144104,
          11.02145767211914,
          6.423806667327881,
          5.474210739135742,
          -3.1487505435943604,
          -3.203378438949585,
          -2.973350763320923,
          5.515582084655762,
          -3.400709867477417,
          -7.736262798309326,
          -0.064571812748909,
          -1.5138918161392212,
          3.0112786293029785,
          -6.809003829956055,
          -4.174020290374756,
          -0.22274254262447357,
          9.117286682128906,
          1.3665159940719604,
          2.607551336288452,
          0.8648402094841003,
          -4.700060844421387,
          -8.489225387573242,
          7.146918773651123,
          -5.55929708480835,
          1.2073163986206055,
          -11.086442947387695,
          -7.156637191772461,
          5.0831379890441895,
          -4.330000400543213,
          -1.6601248979568481,
          -3.271841287612915,
          -1.08866548538208,
          1.6287652254104614,
          -5.330251216888428,
          3.0514230728149414,
          -6.571556568145752,
          -12.483830451965332,
          5.272473335266113,
          3.4206554889678955,
          -10.895142555236816,
          -6.552699565887451,
          -3.469858407974243,
          -0.05122759938240051,
          -0.5250080227851868,
          -8.432586669921875,
          -6.146442413330078,
          5.686503887176514,
          7.258601188659668,
          -5.2704854011535645,
          5.562080383300781,
          0.7385107278823853,
          4.420602321624756,
          -6.099279880523682,
          3.1971843242645264,
          -9.79394245147705,
          -11.853318214416504,
          -8.926578521728516,
          4.114832401275635,
          0.912219762802124,
          2.154106616973877,
          6.0143141746521,
          -3.522183656692505,
          2.6479170322418213,
          -5.867100238800049,
          8.587837219238281,
          -4.092019557952881,
          -7.434810638427734,
          -7.588656425476074,
          -7.320909023284912,
          8.749403953552246,
          -5.8691534996032715,
          7.53266716003418,
          -0.7047960162162781,
          -1.877539873123169,
          7.159268379211426,
          4.258025646209717,
          0.8503214716911316,
          2.832275867462158,
          -7.7883501052856445,
          4.639923095703125,
          -4.086829662322998,
          -3.7826688289642334,
          -4.098824977874756,
          3.329796314239502,
          -4.402385711669922,
          0.4583236575126648,
          1.9659090042114258,
          -10.456911087036133,
          -10.80739974975586,
          -7.4358439445495605,
          -1.518997073173523,
          1.4117249250411987,
          -6.3149237632751465,
          -11.660017967224121,
          -8.7501220703125,
          4.280097961425781,
          -0.3329734802246094,
          -1.7713578939437866,
          -0.6937311291694641,
          -3.307955503463745,
          -2.7484283447265625,
          -8.736685752868652,
          -4.248095512390137,
          -2.6398890018463135,
          -1.2317225933074951,
          -5.299813270568848,
          -8.312705993652344,
          -3.132668972015381
         ],
         "y": [
          -3.6984620094299316,
          8.802913665771484,
          -6.8966569900512695,
          -1.5420840978622437,
          0.09943506121635437,
          -1.308315634727478,
          6.4915313720703125,
          0.07310035824775696,
          0.4682987630367279,
          3.048837661743164,
          0.888860821723938,
          -9.162734031677246,
          2.7756540775299072,
          -0.6753146648406982,
          1.7777410745620728,
          5.882361888885498,
          6.120391845703125,
          -8.130568504333496,
          8.182429313659668,
          2.6850709915161133,
          8.687332153320312,
          6.738506317138672,
          -5.541450023651123,
          -5.867824077606201,
          5.925308704376221,
          -4.643346309661865,
          -2.952097177505493,
          8.791894912719727,
          8.30538272857666,
          -1.837400197982788,
          3.3108813762664795,
          1.2945436239242554,
          -1.7202861309051514,
          2.7928667068481445,
          -5.153593063354492,
          7.500805854797363,
          0.6661055088043213,
          3.804142951965332,
          4.09749698638916,
          -2.648770809173584,
          3.403327226638794,
          7.471445560455322,
          3.0494589805603027,
          -6.491113662719727,
          -4.069138526916504,
          3.789579391479492,
          -1.1365350484848022,
          4.8266215324401855,
          4.275152206420898,
          4.561957836151123,
          7.017415523529053,
          9.999982833862305,
          -1.6571505069732666,
          4.998264312744141,
          9.200579643249512,
          5.971466064453125,
          -4.081094264984131,
          -6.372867107391357,
          -5.926529884338379,
          1.8418545722961426,
          0.8289220333099365,
          -0.04480127990245819,
          -2.6982648372650146,
          -0.7472816109657288,
          0.1949528455734253,
          3.4869537353515625,
          -1.3740289211273193,
          -2.0345656871795654,
          0.6710371971130371,
          4.885112285614014,
          6.536006450653076,
          -6.8850932121276855,
          4.26013708114624,
          -0.8899662494659424,
          -3.6503520011901855,
          -8.328195571899414,
          2.7500600814819336,
          9.64556884765625,
          -3.9813523292541504,
          -4.837289810180664,
          1.9287569522857666,
          -2.808030366897583,
          6.866456031799316,
          0.43177691102027893,
          2.530757188796997,
          -4.855127334594727,
          6.4964141845703125,
          9.725589752197266,
          0.8397117853164673,
          3.6032934188842773,
          -0.6948599815368652,
          -1.0354102849960327,
          -0.536799430847168,
          1.4556849002838135,
          -2.144319534301758,
          2.4256110191345215,
          -1.9119247198104858,
          -2.3196921348571777,
          -1.4894518852233887,
          -4.409201622009277,
          2.235004425048828,
          -4.0692925453186035,
          -4.266326904296875,
          -0.670103132724762,
          2.1944332122802734,
          -0.49152418971061707,
          4.993814945220947,
          -2.1186914443969727,
          -6.520143985748291,
          -3.2199628353118896,
          1.5672253370285034,
          3.1987905502319336,
          -2.3352131843566895,
          5.466465473175049,
          3.84798002243042,
          -8.866571426391602,
          -1.2938001155853271,
          -4.214888095855713,
          1.1858347654342651,
          1.2054411172866821,
          2.3450582027435303,
          0.8936560750007629,
          0.8452834486961365,
          2.8285226821899414,
          7.932195663452148,
          5.451259613037109,
          6.84623384475708,
          4.2952470779418945,
          4.456257343292236,
          0.6776988506317139,
          -7.714138507843018,
          4.3557586669921875,
          6.955687999725342,
          3.3541626930236816,
          2.6891908645629883,
          -1.8912732601165771,
          11.321076393127441,
          -1.04718816280365,
          -1.0562961101531982,
          -2.516040325164795,
          -7.980518341064453,
          10.702521324157715,
          4.165023326873779,
          4.433908462524414,
          0.13185617327690125,
          5.322394371032715,
          0.3265030086040497,
          9.654784202575684,
          -1.620639681816101,
          -0.23031556606292725,
          11.955375671386719,
          -1.6695890426635742,
          -6.391319274902344,
          0.7131032943725586,
          0.1468934863805771,
          3.3523333072662354,
          -3.5501925945281982,
          -3.9267354011535645,
          -2.958350419998169,
          8.71298599243164,
          3.113856792449951,
          0.8643033504486084,
          11.333984375,
          1.1143347024917603,
          -7.256248950958252,
          -0.973843514919281,
          -2.195728302001953,
          4.932734489440918,
          6.969960689544678,
          5.072070598602295,
          7.278439998626709,
          2.6613152027130127,
          5.677839756011963,
          -3.0272791385650635,
          1.4640179872512817,
          -6.375484943389893,
          3.152832269668579,
          -5.440638065338135,
          -4.794619083404541,
          5.445761680603027,
          0.8157890439033508,
          6.085105895996094,
          1.1262853145599365,
          -0.7688612341880798,
          -0.6995984315872192,
          3.0900461673736572,
          5.104258060455322,
          11.455084800720215,
          10.565041542053223,
          11.120437622070312,
          4.251996994018555,
          1.2961807250976562,
          1.1124262809753418,
          3.209688901901245,
          -3.5508334636688232,
          10.86943531036377,
          3.3417909145355225,
          -2.9060893058776855,
          -7.787728309631348,
          -7.107938289642334,
          1.1521434783935547,
          0.01103422325104475,
          8.482670783996582,
          -2.1521847248077393,
          0.9269333481788635,
          -1.3462588787078857,
          -1.1612542867660522,
          -5.029197692871094,
          6.791238307952881,
          -4.613911151885986,
          9.039987564086914,
          9.98415756225586,
          1.308311939239502,
          -5.647833824157715,
          3.4417293071746826,
          2.674532175064087,
          1.3159133195877075,
          -4.235111713409424,
          -4.188241004943848,
          0.8800098299980164,
          5.5384626388549805,
          0.006676744669675827,
          0.2377399057149887,
          -4.564823627471924,
          -6.556906700134277,
          -3.4306604862213135,
          5.459747791290283,
          -3.765855312347412,
          1.3679534196853638,
          -4.925765514373779,
          -0.35914263129234314,
          0.12134163081645966,
          6.000572681427002,
          2.5218842029571533,
          2.1648778915405273,
          0.9270869493484497,
          1.4537925720214844,
          -4.18984842300415,
          6.718927383422852,
          2.029606819152832,
          -0.8799161314964294,
          -1.7965525388717651,
          -5.009016036987305,
          -0.7717982530593872,
          6.952966690063477,
          6.771618843078613,
          -5.762587547302246,
          2.28397798538208,
          3.336040735244751,
          -0.21798038482666016,
          7.952243804931641,
          -4.085393905639648,
          4.063140392303467,
          7.578094005584717,
          9.794548988342285,
          5.500863552093506,
          6.919250011444092,
          5.995785713195801,
          -5.379291534423828,
          9.428755760192871,
          3.5786921977996826,
          -2.355424404144287,
          -3.7867095470428467,
          -1.079521894454956,
          4.561612129211426,
          1.1253960132598877,
          3.7016143798828125,
          -4.702707767486572,
          1.2921650409698486,
          -2.5942904949188232,
          -2.618981122970581,
          3.3399717807769775,
          9.599074363708496,
          7.8221259117126465,
          2.970747947692871,
          -0.12538288533687592,
          0.8064011931419373,
          -2.681997776031494,
          -0.3494081199169159,
          -1.689889907836914,
          6.50147819519043,
          -3.793862819671631,
          6.2388916015625,
          -4.8932719230651855,
          -4.101234436035156,
          -3.10190749168396,
          0.4661298096179962,
          8.493518829345703,
          -2.9181370735168457,
          -7.241697311401367,
          -6.725052356719971,
          -0.996514618396759,
          -3.800760507583618,
          2.4983012676239014,
          10.283293724060059,
          -0.7945957183837891,
          -6.622867584228516,
          -1.047938585281372,
          -1.8198089599609375,
          4.034285068511963,
          -5.764584064483643,
          -1.1789361238479614,
          4.0959086418151855,
          1.4407129287719727,
          4.354337215423584,
          -4.156795501708984,
          -3.8035330772399902,
          5.577337741851807,
          2.8361613750457764,
          -0.7836412191390991,
          0.5455780029296875,
          -3.9307470321655273,
          1.0532374382019043,
          -3.913905382156372,
          -1.9703136682510376,
          -2.2842459678649902,
          -0.7031362652778625,
          5.7248454093933105,
          0.804875373840332,
          -5.66429328918457,
          -2.3238911628723145,
          -1.616519570350647,
          -0.389504998922348,
          -2.4975242614746094,
          1.785071611404419,
          -4.675680160522461,
          5.204975128173828,
          2.8207314014434814,
          7.76392126083374,
          1.762241244316101,
          0.7641210556030273,
          4.622124671936035,
          1.5541582107543945,
          -1.1767908334732056,
          0.20057891309261322,
          -3.4133756160736084,
          -5.194054126739502,
          -9.213935852050781,
          -7.8842549324035645,
          2.731771945953369,
          4.469106197357178,
          5.821164131164551,
          2.851435899734497,
          6.822731018066406,
          5.621304512023926,
          8.507918357849121,
          11.039704322814941,
          -0.5402607917785645,
          -6.608187198638916,
          -4.102421283721924,
          -1.4250825643539429,
          1.0390334129333496,
          -9.89413070678711,
          2.4112305641174316,
          -3.038939952850342,
          -5.409718990325928,
          -2.465174913406372,
          -7.333315372467041,
          -1.7546483278274536,
          -4.43294620513916,
          2.7496917247772217,
          -3.716912269592285,
          -4.624392986297607,
          9.03918170928955,
          -5.560189723968506,
          0.79839688539505,
          -5.724050521850586,
          -3.367906093597412,
          -0.7904240489006042,
          -4.261309623718262,
          2.0678839683532715,
          -0.6612134575843811,
          -1.586470365524292,
          7.11856746673584,
          4.539127349853516,
          6.962691307067871,
          5.871006488800049,
          5.403198719024658,
          3.7485156059265137,
          11.001032829284668,
          -5.583259105682373,
          -6.182631492614746,
          -7.240355491638184,
          -2.3020005226135254,
          6.164543628692627,
          10.063942909240723,
          -1.2425116300582886,
          8.623263359069824,
          6.81300163269043,
          1.1340010166168213,
          2.082688570022583,
          -2.47367000579834,
          -0.45899057388305664,
          3.316789388656616,
          1.6325907707214355,
          -3.02653169631958,
          -2.35734486579895,
          1.1044646501541138,
          10.224936485290527,
          4.701128959655762,
          -7.861634254455566,
          -1.4350481033325195,
          0.14332759380340576,
          -4.727386474609375,
          0.40294715762138367,
          -3.235682249069214,
          4.532328128814697,
          3.5932488441467285,
          0.8057780265808105,
          -6.710090160369873,
          -5.959640979766846,
          -8.092466354370117,
          8.084264755249023,
          5.060640811920166,
          -6.827055931091309,
          -2.823751449584961,
          7.161608695983887,
          7.018568992614746,
          -6.597282886505127,
          -0.1771014928817749,
          6.923893928527832,
          -6.088214874267578,
          6.585529327392578,
          -1.8797091245651245,
          -0.7084609270095825,
          -2.9132306575775146,
          -3.679530620574951,
          5.967029571533203,
          -5.964554786682129,
          7.934254169464111,
          -2.5562212467193604,
          9.100665092468262,
          8.63530158996582,
          -1.6951146125793457,
          2.41328501701355,
          4.497934818267822,
          -7.186036586761475,
          -7.7564311027526855,
          4.670314788818359,
          7.972959995269775,
          -1.136269211769104,
          4.0366597175598145,
          11.1546049118042,
          9.73616886138916,
          3.301442861557007,
          -1.8407621383666992,
          -5.122313976287842,
          -3.5063564777374268,
          -1.1945934295654297,
          -6.472239971160889,
          -7.596987247467041,
          5.582465171813965,
          -6.576767921447754,
          8.14503002166748,
          7.585179805755615,
          -7.5381388664245605,
          -4.228646755218506,
          4.612486362457275,
          8.326568603515625,
          -2.513758659362793,
          5.687533378601074,
          5.60970401763916,
          1.679938554763794,
          6.586613655090332,
          1.2913196086883545,
          -0.54830002784729,
          5.915640830993652,
          8.3790864944458,
          -6.836705207824707,
          -3.247511148452759,
          4.496204376220703,
          1.785032868385315,
          -0.02817239984869957,
          0.36499905586242676,
          4.058290958404541,
          8.593889236450195,
          7.129011631011963,
          11.85384464263916,
          -0.39722225069999695,
          4.8680291175842285,
          7.533555507659912,
          5.411210060119629,
          5.411205768585205,
          5.411200046539307,
          2.1125009059906006,
          -3.1652069091796875,
          -6.007359504699707,
          -4.2342400550842285,
          0.015137236565351486,
          -1.6450282335281372,
          2.1558334827423096,
          3.821465253829956,
          -1.648813247680664,
          1.1306548118591309,
          6.633234024047852,
          5.256202220916748,
          3.18961501121521,
          3.3107895851135254,
          7.468939781188965,
          1.3567901849746704,
          -2.522188186645508,
          8.133273124694824,
          4.854920387268066,
          3.4246881008148193,
          -0.2282341867685318,
          -0.4788626432418823,
          6.44781494140625,
          -1.335121512413025,
          0.7020930647850037,
          3.2080814838409424,
          1.702440619468689,
          0.836247444152832,
          1.951542854309082,
          -2.7593159675598145,
          -1.790263056755066,
          -4.207863807678223,
          0.6339858770370483,
          -6.027297019958496,
          8.975897789001465,
          -3.763559579849243,
          2.7692782878875732,
          -2.607898235321045,
          -1.465164065361023,
          -5.279193878173828,
          3.3379039764404297,
          5.338644027709961,
          -3.326573610305786,
          -1.476237416267395,
          -4.2458271980285645,
          5.422969818115234,
          -7.1296467781066895,
          3.4339547157287598,
          5.956201553344727,
          -5.849183559417725,
          -2.262965202331543,
          0.028968943282961845,
          -4.358649253845215,
          -4.41168212890625,
          -4.932302951812744,
          -3.0839807987213135,
          -4.051483631134033,
          3.4804253578186035,
          6.8778181076049805,
          -4.240460395812988,
          -0.06698360294103622,
          5.1114912033081055,
          -1.8561062812805176,
          -1.3901982307434082,
          1.1736207008361816,
          -2.823618173599243,
          -1.43148672580719,
          -6.758652210235596,
          10.838699340820312,
          0.3483830690383911,
          4.148771286010742,
          -1.231798529624939,
          0.5915425419807434,
          -0.19243961572647095,
          7.256821632385254,
          6.566984176635742,
          11.488373756408691,
          1.551750898361206,
          2.7781403064727783,
          9.205997467041016,
          6.954858779907227,
          4.699248790740967,
          -1.6109411716461182,
          -6.966310501098633,
          2.703976631164551,
          2.627894639968872,
          8.027758598327637,
          8.989290237426758,
          -0.6873339414596558,
          4.771620750427246,
          -0.2576301395893097,
          -1.6262826919555664,
          -2.3972747325897217,
          7.74278450012207,
          5.678325176239014,
          0.7983124852180481,
          1.1688807010650635,
          -6.160401344299316,
          -3.2559266090393066,
          -4.8088297843933105,
          -4.59618616104126,
          7.50486421585083,
          -0.6847590804100037,
          -7.195674419403076,
          2.3447701930999756,
          6.595565319061279,
          -0.8379772305488586,
          3.840545892715454,
          -5.729654788970947,
          4.303478717803955,
          -6.221252918243408,
          -2.2198917865753174,
          -5.558839321136475,
          -1.0468807220458984,
          3.1821343898773193,
          6.686685085296631,
          4.718262672424316,
          -0.3858201801776886,
          8.705801010131836,
          -0.3028160631656647,
          -6.59119987487793,
          3.045156478881836,
          1.5527052879333496,
          10.272985458374023,
          8.477106094360352,
          -4.4736456871032715,
          -0.604506254196167,
          3.1212310791015625,
          -0.7927162051200867,
          -1.3917988538742065,
          -3.313701868057251,
          5.528985977172852,
          2.8008809089660645,
          3.650702714920044,
          1.0034319162368774,
          -6.770709037780762,
          3.65150785446167,
          -5.20820951461792,
          1.8034868240356445,
          -4.101047515869141,
          -3.942046880722046,
          8.20605754852295,
          -0.15049389004707336,
          3.1480557918548584,
          -1.1587693691253662,
          -7.577589511871338,
          4.401686191558838,
          -6.036602020263672,
          5.780031204223633,
          -0.2290378361940384,
          -5.8036580085754395,
          3.249159336090088,
          -1.8640697002410889,
          4.422393798828125,
          3.49015212059021,
          0.4270217716693878,
          -0.1862778514623642,
          -4.627814292907715,
          -1.0411678552627563,
          -8.471625328063965,
          -2.7988078594207764,
          -5.5450849533081055,
          7.200185298919678,
          10.024176597595215,
          6.080286502838135,
          4.058899402618408,
          2.987034797668457,
          4.377978801727295,
          -2.5790252685546875,
          9.011333465576172,
          9.044846534729004,
          4.344911575317383,
          7.038519859313965,
          2.5666308403015137,
          -0.9130704402923584,
          -4.780728816986084,
          7.862514019012451,
          4.02224588394165,
          -3.841606616973877,
          8.844615936279297,
          2.1875147819519043,
          -4.264891624450684,
          -8.344217300415039,
          -3.0700154304504395,
          4.754464149475098,
          -5.111902713775635,
          6.912924766540527,
          7.188190937042236,
          3.250242233276367,
          -4.520201206207275,
          5.958800792694092,
          -7.1363701820373535,
          -3.2517545223236084,
          4.569282054901123,
          0.8833933472633362,
          4.574193477630615,
          -6.604104042053223,
          -0.727746307849884,
          0.12296094745397568,
          2.2638843059539795,
          -6.348187446594238,
          -4.6759419441223145,
          1.6171705722808838,
          -3.5773463249206543,
          8.173689842224121,
          2.2814700603485107,
          -5.9200639724731445,
          8.061417579650879,
          -2.7157704830169678,
          -8.078908920288086,
          9.741962432861328,
          2.36686110496521,
          6.729320049285889,
          1.7668119668960571,
          -0.2611820697784424,
          -2.086190938949585,
          3.326693058013916,
          1.097385287284851,
          1.5282671451568604,
          4.101916313171387,
          0.08409438282251358,
          -3.9908201694488525,
          -1.3667198419570923,
          9.857843399047852,
          5.8606438636779785,
          -0.1660737544298172,
          -4.4246602058410645,
          1.3742402791976929,
          4.355039596557617,
          5.245745658874512,
          -8.070514678955078,
          0.09492367506027222,
          -3.0309674739837646,
          -3.3853471279144287,
          -4.084295749664307,
          9.508891105651855,
          1.632887601852417,
          -1.4951684474945068,
          -5.238515377044678,
          5.945596694946289,
          5.700123310089111,
          10.011913299560547,
          4.0107550621032715,
          -1.2675832509994507,
          5.316187381744385,
          2.183180570602417,
          6.9719438552856445,
          8.786721229553223,
          2.570263624191284,
          3.6512043476104736,
          -1.0318046808242798,
          -1.166599988937378,
          -0.18623551726341248,
          3.3301315307617188,
          -3.665476083755493,
          3.018848180770874,
          -5.878545761108398,
          -6.037283897399902,
          6.092748641967773,
          -7.581309795379639,
          8.715524673461914,
          0.2663271725177765,
          -5.904220104217529,
          -2.9021432399749756,
          6.9719319343566895,
          -4.9677934646606445,
          1.981572151184082,
          -6.651196479797363,
          0.2781066298484802,
          2.6070499420166016,
          -3.4917490482330322,
          2.878920793533325,
          -2.073249578475952,
          5.874521255493164,
          6.792982578277588,
          -4.7443366050720215,
          4.649879455566406,
          -2.2752060890197754,
          2.4710662364959717,
          4.789379119873047,
          1.2577542066574097,
          -8.312906265258789,
          -0.9465255737304688,
          -1.0640296936035156,
          -1.1213428974151611,
          -3.405851125717163,
          5.166955471038818,
          7.1915740966796875,
          -2.9915308952331543,
          -6.564525127410889,
          -6.327600479125977,
          9.217595100402832,
          2.039241075515747,
          4.712308883666992,
          -8.36775016784668,
          9.332136154174805,
          -0.23496770858764648,
          -2.1705081462860107,
          2.231311321258545,
          6.938508987426758,
          4.721191883087158,
          7.917718887329102,
          8.158631324768066,
          -1.9926214218139648,
          -6.42864990234375,
          -3.846076250076294,
          2.2732250690460205,
          8.476365089416504,
          -0.588600754737854,
          0.6148160696029663,
          -0.0745089203119278,
          0.11821328848600388,
          -5.078868389129639,
          5.202489376068115,
          0.6229749917984009,
          -1.5415562391281128,
          0.18400761485099792,
          8.182424545288086,
          8.24128246307373,
          9.137978553771973,
          -4.779761791229248,
          9.512874603271484,
          11.373678207397461,
          -6.388420104980469,
          7.627079010009766,
          0.008611567318439484,
          -0.6905511617660522,
          -0.0960325375199318,
          -2.948261022567749,
          3.9845125675201416,
          -1.5240758657455444,
          -3.917044162750244,
          -4.06687068939209,
          11.349879264831543,
          0.34169644117355347,
          2.104137897491455,
          9.950235366821289,
          0.11907787621021271,
          6.329957485198975,
          3.589589834213257,
          3.903017520904541,
          0.3250912129878998,
          -1.9344357252120972,
          1.4259907007217407,
          -3.307558298110962,
          -2.299710273742676,
          10.364653587341309,
          -3.6159725189208984,
          4.110891819000244,
          -0.07228971272706985,
          -1.6956806182861328,
          2.1833882331848145,
          -6.685898303985596,
          -2.2492780685424805,
          -0.6009607911109924,
          8.906301498413086,
          10.850120544433594,
          -4.579656600952148,
          6.953789234161377,
          10.008028984069824,
          -7.8752970695495605,
          3.144498825073242,
          10.681197166442871,
          -4.540911674499512,
          7.081592559814453,
          0.3730636537075043,
          8.731014251708984,
          10.123108863830566,
          9.432317733764648,
          10.661730766296387,
          9.47009563446045,
          10.5364408493042,
          10.33887004852295,
          -2.8871967792510986,
          -3.593536376953125,
          11.373509407043457,
          9.05618953704834,
          8.26557445526123,
          10.651360511779785,
          -1.519740343093872,
          0.6108947992324829,
          -6.17081880569458,
          6.4845685958862305,
          9.84375286102295,
          0.6863176226615906,
          11.518868446350098,
          -0.3640884757041931,
          -0.5626377463340759,
          -6.196133136749268,
          -1.8907793760299683,
          5.169358253479004,
          10.819192886352539,
          8.908844947814941,
          5.388836860656738,
          4.978784084320068,
          10.22150707244873,
          -6.785298824310303,
          2.1002748012542725,
          -8.906763076782227,
          6.614363193511963,
          11.339483261108398,
          -3.0866267681121826,
          5.433701992034912,
          -7.326231479644775,
          -6.739049911499023,
          10.37166690826416,
          -3.4792869091033936,
          -2.340179681777954,
          -3.888446092605591,
          -6.874115467071533,
          -6.874115467071533,
          5.739871025085449,
          5.739850044250488,
          0.3920091688632965,
          0.39198875427246094,
          1.3880633115768433,
          1.3880794048309326,
          10.10854434967041,
          10.10854434967041,
          2.380237340927124,
          2.3802855014801025,
          1.3843437433242798,
          1.3843437433242798,
          -2.0188794136047363,
          -2.0188794136047363,
          11.681380271911621,
          11.681380271911621,
          8.862815856933594,
          8.862815856933594,
          0.14964789152145386,
          0.14964789152145386,
          2.1808032989501953,
          0.9965182542800903,
          2.137866497039795,
          2.137866497039795,
          -0.5938306450843811,
          -0.5938306450843811,
          -6.350039005279541,
          -6.350039005279541,
          -7.457098007202148,
          -7.457098007202148,
          -1.644347071647644,
          -1.644347071647644,
          4.486969947814941,
          11.024580955505371,
          -9.681105613708496,
          1.1627024412155151,
          -1.8375134468078613,
          1.4951083660125732,
          10.439844131469727,
          1.8836889266967773,
          -2.71994686126709,
          3.431710720062256,
          10.078537940979004,
          -1.7592414617538452,
          11.502257347106934,
          8.794336318969727,
          8.648917198181152,
          -7.111139297485352,
          9.644200325012207,
          -3.1963236331939697,
          4.7377610206604,
          -3.2154738903045654,
          9.882894515991211,
          10.373761177062988,
          9.375999450683594,
          10.089303970336914,
          7.477444171905518,
          9.405417442321777,
          10.45449161529541,
          9.585853576660156,
          6.129373550415039,
          -3.315917491912842,
          -1.620957374572754,
          -6.12447452545166,
          5.708592414855957,
          -4.412359237670898,
          4.888501167297363,
          -4.145534038543701,
          -3.6102852821350098,
          -8.487957000732422,
          3.969006299972534,
          -2.0114495754241943,
          -3.0707268714904785,
          0.5835148096084595,
          -2.7128119468688965,
          -2.272839307785034,
          -7.628211498260498,
          11.818367958068848,
          10.649517059326172,
          0.6379581689834595,
          10.493963241577148,
          10.576085090637207,
          4.558908939361572,
          -5.965756893157959,
          3.60143780708313,
          6.2233476638793945,
          9.568696975708008,
          7.51973819732666,
          -6.610034942626953,
          11.107560157775879,
          2.68892240524292,
          8.781206130981445,
          2.039634943008423,
          9.432881355285645,
          -0.12964792549610138,
          7.2838053703308105,
          10.886041641235352,
          4.068058967590332,
          10.173452377319336,
          2.5568296909332275,
          8.509920120239258,
          -1.0775636434555054,
          3.0180726051330566,
          -7.051299095153809,
          -7.310672283172607,
          10.2190523147583,
          3.6095383167266846,
          9.69756031036377,
          1.7738595008850098,
          -2.8197720050811768,
          -7.302585124969482,
          -1.8789453506469727,
          9.629158973693848,
          10.395980834960938,
          10.491191864013672,
          7.624109745025635,
          10.912003517150879,
          10.991914749145508,
          4.0542707443237305,
          11.027908325195312,
          9.84627628326416,
          9.327008247375488,
          6.843928337097168,
          4.242407321929932,
          8.536017417907715,
          -1.6465107202529907,
          7.472261428833008,
          7.568716049194336,
          2.5336754322052,
          3.2193455696105957,
          1.4750946760177612,
          5.07619571685791,
          0.8410363793373108,
          0.8699949979782104,
          3.9412834644317627,
          2.2202978134155273,
          11.445918083190918,
          10.014606475830078,
          -1.197202444076538,
          7.278341293334961,
          5.013376235961914,
          -2.3027119636535645,
          -0.02341119758784771,
          8.813791275024414,
          6.401534557342529,
          -6.03138542175293,
          5.357686519622803,
          4.865448474884033,
          -4.369332790374756,
          4.476475715637207,
          -6.053002834320068,
          -2.956789255142212,
          1.1981608867645264,
          -1.3342516422271729,
          9.460504531860352,
          -1.9729257822036743,
          -0.32953429222106934,
          -7.032783508300781,
          -2.9337267875671387,
          -3.5161588191986084,
          10.362822532653809,
          4.337662220001221,
          -0.23880231380462646,
          -4.619543075561523,
          -4.987501621246338,
          4.3226423263549805,
          1.7496576309204102,
          -6.107095718383789,
          10.997251510620117,
          2.723539352416992,
          -2.5956599712371826,
          -3.166896343231201,
          -2.656123399734497,
          -4.454818248748779,
          7.865654468536377,
          9.202666282653809,
          -1.9071513414382935,
          0.3041096031665802,
          6.826017379760742,
          -4.424775123596191,
          4.995559215545654,
          8.914875030517578,
          0.6357753872871399,
          -0.25236234068870544,
          -4.809723854064941,
          10.133721351623535,
          1.216079831123352,
          10.213560104370117,
          -5.066360950469971,
          -6.725825309753418,
          0.72590571641922,
          2.712522506713867,
          0.10143072158098221,
          3.608342409133911,
          -3.0022549629211426,
          9.416015625,
          0.850520670413971,
          3.333707094192505,
          -4.209826946258545,
          5.788537502288818,
          1.223671555519104,
          -3.246962308883667,
          -2.59806227684021,
          -2.275068759918213,
          2.979529619216919,
          -1.8897310495376587,
          1.9652031660079956,
          -4.1968231201171875,
          0.405618280172348,
          6.9495954513549805,
          -6.041934490203857,
          11.217933654785156,
          7.659591197967529,
          3.46818470954895,
          9.268630027770996,
          2.8391945362091064,
          -0.9536517262458801,
          -3.588738203048706,
          10.368120193481445,
          10.213359832763672,
          -3.339146852493286,
          5.707138538360596,
          -6.395901679992676,
          11.038368225097656,
          -4.806625843048096,
          -5.763115406036377,
          -2.2986621856689453,
          -7.29132080078125,
          -6.257872581481934,
          2.2188282012939453,
          -0.906693696975708,
          -3.7342207431793213,
          11.40611743927002,
          10.906893730163574,
          -3.1951842308044434,
          -6.699012756347656,
          -5.851422309875488,
          11.369629859924316,
          10.156746864318848,
          -5.520893573760986,
          -0.5138959288597107,
          1.0928750038146973,
          -6.220991611480713,
          -0.14513534307479858,
          7.0887651443481445,
          10.18846321105957,
          0.8721974492073059,
          5.393093109130859,
          11.156628608703613,
          10.9313325881958,
          -1.441946268081665,
          -2.1503186225891113,
          9.889215469360352,
          -1.0801587104797363,
          -2.15320086479187,
          10.273503303527832,
          -7.64291524887085,
          -5.412023067474365,
          3.8702657222747803,
          3.6580471992492676,
          8.433926582336426,
          -1.3092795610427856,
          2.597869634628296,
          2.6272308826446533,
          0.10195319354534149,
          -8.369768142700195,
          11.436193466186523,
          3.5267162322998047,
          3.9954731464385986,
          10.361536979675293,
          -0.19933323562145233,
          0.16238686442375183,
          10.570775032043457,
          11.051382064819336,
          6.1827545166015625,
          9.449319839477539,
          -7.556405067443848,
          11.095649719238281,
          2.8451876640319824,
          6.072200775146484,
          -4.311686992645264,
          4.644104480743408,
          11.008540153503418,
          11.301214218139648,
          6.67688512802124,
          8.987417221069336,
          -9.296919822692871,
          -2.1924943923950195,
          0.7810488343238831,
          -4.106380462646484,
          -1.8915053606033325,
          -3.0794801712036133,
          0.1095125675201416,
          -1.5817643404006958,
          3.5547845363616943,
          2.1219305992126465,
          10.335038185119629,
          -4.479970455169678,
          -7.787981033325195,
          3.5010364055633545,
          4.092243194580078,
          -3.468696355819702,
          -2.1267926692962646,
          0.7709798216819763,
          -3.597417116165161,
          2.6622087955474854,
          1.0093551874160767,
          -1.8767597675323486,
          -5.01863956451416,
          -4.772024631500244,
          -2.0824804306030273,
          4.52567195892334,
          -2.958719253540039,
          1.2838079929351807,
          -1.1700429916381836,
          -2.2060775756835938,
          -3.2017462253570557,
          -1.4839237928390503,
          -0.8647365570068359,
          -2.2100918292999268,
          -3.0316202640533447,
          3.138883590698242,
          -4.442150592803955,
          2.9982147216796875,
          4.465776443481445,
          4.518787384033203,
          -0.8330257534980774,
          -7.009603500366211,
          -5.393118381500244,
          3.1081485748291016,
          1.485305666923523,
          9.19609260559082,
          -3.7469680309295654,
          -0.47162312269210815,
          -1.6005773544311523,
          -2.5179293155670166,
          10.104057312011719,
          -2.863269567489624,
          -5.812575340270996,
          3.2471377849578857,
          4.738915920257568,
          4.037266254425049,
          5.967617988586426,
          1.3253343105316162,
          -0.7214441299438477,
          -0.2488563507795334,
          2.82483172416687,
          1.2902284860610962,
          1.00003182888031,
          8.677020072937012,
          -5.696747779846191,
          2.897505521774292,
          0.5680860877037048,
          5.3494110107421875,
          -6.669292449951172,
          0.5836154818534851,
          -0.6019169092178345,
          2.866846799850464,
          8.297800064086914,
          -4.7818779945373535,
          -3.1556766033172607,
          -5.4531049728393555,
          10.18571662902832,
          -2.6510632038116455,
          0.6477533578872681,
          5.77441930770874,
          -2.288479804992676,
          -6.409689426422119,
          -2.188282012939453,
          -5.004931926727295,
          0.6998491287231445,
          -3.8171486854553223,
          -2.8747873306274414,
          -4.631178379058838,
          -5.830228805541992,
          0.8192065954208374,
          -7.932345867156982,
          2.4427690505981445,
          -1.826480507850647,
          -7.357290744781494,
          -0.6426615118980408,
          0.19232377409934998,
          -1.9802078008651733,
          -3.1972274780273438,
          -3.026431083679199,
          -7.173978805541992,
          0.38649043440818787,
          -5.846017360687256,
          0.9766777753829956,
          4.370492935180664,
          -7.516294956207275,
          4.7994866371154785,
          -4.53269624710083,
          -2.0505926609039307,
          -0.466724693775177,
          -0.9444226026535034,
          -4.1336989402771,
          -1.205239176750183,
          1.5628749132156372,
          -0.9216831922531128,
          -2.1484811305999756,
          -0.17057868838310242,
          -0.7856873273849487,
          1.9250060319900513,
          -1.1329243183135986,
          -3.1791951656341553,
          -4.204168319702148,
          -0.062303636223077774,
          -2.317901372909546,
          -3.4870870113372803,
          -2.373642683029175,
          -3.909858465194702,
          1.384813666343689,
          -4.211554527282715,
          2.4627573490142822,
          -3.188607692718506,
          -2.219757080078125,
          2.5199527740478516,
          -5.496756076812744,
          -4.017137050628662,
          6.037269592285156,
          3.581165313720703,
          6.075603008270264,
          5.119641304016113,
          4.6964592933654785
         ],
         "z": [
          -1.407463550567627,
          1.0626757144927979,
          1.1101677417755127,
          0.776573657989502,
          -4.252216339111328,
          2.094789505004883,
          0.17410840094089508,
          0.306458443403244,
          7.107071876525879,
          6.279758930206299,
          3.974207878112793,
          -4.4524359703063965,
          -4.980391502380371,
          0.7192920446395874,
          4.40329647064209,
          2.778884172439575,
          -2.8828554153442383,
          -4.690328121185303,
          -3.29194712638855,
          -5.08796501159668,
          2.935724973678589,
          -2.5570526123046875,
          0.7937254309654236,
          0.5123414397239685,
          -1.5521634817123413,
          1.7194677591323853,
          -4.829545497894287,
          -2.8549082279205322,
          2.961845874786377,
          8.121338844299316,
          8.093026161193848,
          -1.3682535886764526,
          7.519470691680908,
          1.5927859544754028,
          0.9993272423744202,
          -3.531031370162964,
          6.063406944274902,
          6.3465495109558105,
          -1.640626311302185,
          -0.7764107584953308,
          -1.0764564275741577,
          -0.32600054144859314,
          -8.114361763000488,
          -1.7423648834228516,
          -5.076066493988037,
          -2.4094555377960205,
          1.430431842803955,
          5.788496971130371,
          -2.642829418182373,
          -2.760479688644409,
          -3.7282516956329346,
          0.7158157825469971,
          -4.065812587738037,
          3.9178781509399414,
          2.617595672607422,
          -2.300316095352173,
          -0.38342714309692383,
          -3.0184600353240967,
          2.529496669769287,
          1.631679654121399,
          -2.4994850158691406,
          -4.254812717437744,
          0.8600829243659973,
          -5.0689849853515625,
          -4.117203235626221,
          3.2409393787384033,
          2.307037591934204,
          -5.858401298522949,
          -2.034817695617676,
          -1.6668263673782349,
          -2.9601404666900635,
          -6.120790481567383,
          3.4321024417877197,
          2.369887351989746,
          -0.9145004749298096,
          -7.893171787261963,
          2.4997293949127197,
          0.2586668133735657,
          3.299816370010376,
          -1.2248599529266357,
          5.4526824951171875,
          6.3342061042785645,
          -3.217723846435547,
          -2.3104195594787598,
          -1.3579797744750977,
          4.2654924392700195,
          -5.4304351806640625,
          -2.25858473777771,
          4.941381931304932,
          -3.4897079467773438,
          3.488647699356079,
          1.4961856603622437,
          7.230983734130859,
          4.0736894607543945,
          8.813529014587402,
          1.004062533378601,
          2.519420623779297,
          -4.994454383850098,
          -0.9305108785629272,
          4.120027542114258,
          1.3183988332748413,
          -1.4880011081695557,
          1.7045034170150757,
          -2.521191120147705,
          1.651623249053955,
          -2.8998076915740967,
          0.1425490826368332,
          -2.6037421226501465,
          5.453024387359619,
          3.6439104080200195,
          5.147461891174316,
          4.207993030548096,
          -3.194659471511841,
          -0.8633855581283569,
          -3.3845386505126953,
          4.470577239990234,
          2.364806890487671,
          -6.289885997772217,
          -0.41196054220199585,
          -0.16186568140983582,
          0.2852572798728943,
          0.08079680055379868,
          1.3252595663070679,
          3.5460448265075684,
          -3.216106414794922,
          -3.2617688179016113,
          -6.429871559143066,
          0.27693265676498413,
          -0.2125702202320099,
          4.932531356811523,
          -7.925461769104004,
          -5.867532730102539,
          -6.578281402587891,
          -2.1348888874053955,
          5.892554759979248,
          5.425657272338867,
          0.26797616481781006,
          -3.8188135623931885,
          -4.241462230682373,
          -3.2832696437835693,
          -1.9765831232070923,
          0.08819539099931717,
          -0.8993985652923584,
          0.23961099982261658,
          -6.22550630569458,
          -0.5552665591239929,
          -2.2473301887512207,
          1.3340703248977661,
          -0.6576652526855469,
          4.500721454620361,
          -0.28024548292160034,
          3.1799142360687256,
          2.6279423236846924,
          6.524003505706787,
          -2.245939254760742,
          -2.0954716205596924,
          -1.6777280569076538,
          -4.123757362365723,
          -4.658392429351807,
          -0.5820360779762268,
          2.109699010848999,
          0.2616865038871765,
          -0.3304602801799774,
          -6.394274711608887,
          -0.6216155886650085,
          -3.529143810272217,
          0.37623947858810425,
          -3.2777459621429443,
          -6.3155035972595215,
          5.451106071472168,
          1.5864193439483643,
          1.154763102531433,
          0.8435467481613159,
          8.840058326721191,
          3.417293071746826,
          1.3353315591812134,
          0.8069522976875305,
          -3.4071247577667236,
          1.099367380142212,
          3.6495749950408936,
          5.406375408172607,
          -0.2827424705028534,
          0.38529399037361145,
          -0.12592436373233795,
          -0.12229936569929123,
          1.1060816049575806,
          -2.545325517654419,
          -0.6258957982063293,
          1.3471732139587402,
          0.5234563946723938,
          0.7250691652297974,
          -0.47832778096199036,
          4.9074554443359375,
          -2.960357189178467,
          3.6021432876586914,
          0.014635341241955757,
          3.8697540760040283,
          -2.7006049156188965,
          -2.1463687419891357,
          -4.73567533493042,
          7.120047569274902,
          4.641722202301025,
          1.0776119232177734,
          -3.4838876724243164,
          -0.24406224489212036,
          -4.3244194984436035,
          -4.139404773712158,
          3.938427209854126,
          -6.533817291259766,
          7.797478199005127,
          0.9823583364486694,
          -1.3558104038238525,
          0.9289292693138123,
          -4.306736469268799,
          -3.0645623207092285,
          -0.46225741505622864,
          0.7733887434005737,
          -7.076878547668457,
          4.542433738708496,
          -3.9532222747802734,
          5.149484157562256,
          -1.8415991067886353,
          -6.134825706481934,
          -4.876315593719482,
          -0.34163373708724976,
          1.5191441774368286,
          -2.222153902053833,
          -3.167776107788086,
          2.0197055339813232,
          2.8139734268188477,
          0.1219482272863388,
          1.553981900215149,
          2.1140615940093994,
          -4.605926990509033,
          1.824985146522522,
          -2.1577529907226562,
          -1.186797857284546,
          0.9605052471160889,
          2.9732773303985596,
          -3.0834319591522217,
          2.8377726078033447,
          6.474486351013184,
          4.58408784866333,
          2.5532782077789307,
          6.396758079528809,
          -3.2157020568847656,
          4.2362260818481445,
          4.674707412719727,
          3.851339817047119,
          2.515967607498169,
          1.2602049112319946,
          -6.236068248748779,
          7.079055309295654,
          -2.5881881713867188,
          -0.4074455499649048,
          0.047626227140426636,
          0.007317922078073025,
          -0.8757236003875732,
          4.726388931274414,
          -0.23593851923942566,
          -0.5044631958007812,
          0.5255128145217896,
          2.133151054382324,
          5.571122169494629,
          -4.016867160797119,
          -3.46685791015625,
          5.6878557205200195,
          0.530882716178894,
          -0.9201725721359253,
          1.5175188779830933,
          5.82645845413208,
          -3.114380359649658,
          1.1882959604263306,
          -0.34561359882354736,
          -8.065750122070312,
          2.4637908935546875,
          0.5318737626075745,
          2.7255911827087402,
          6.301167964935303,
          3.4005849361419678,
          -1.4432789087295532,
          1.0331294536590576,
          -3.3550617694854736,
          0.011353611014783382,
          -1.0723758935928345,
          6.611712455749512,
          8.696215629577637,
          -2.0211892127990723,
          1.001797080039978,
          -8.201508522033691,
          -6.321609020233154,
          -2.63747501373291,
          -8.367445945739746,
          1.5929678678512573,
          -3.837890863418579,
          5.652191638946533,
          -6.528204441070557,
          -0.46954548358917236,
          -0.04148596525192261,
          -4.078952789306641,
          -6.021216869354248,
          3.1215391159057617,
          -2.8606789112091064,
          0.9744425415992737,
          6.58185338973999,
          -0.8998644351959229,
          8.782254219055176,
          -3.5152664184570312,
          1.4114233255386353,
          1.1975897550582886,
          0.004021668806672096,
          1.7736971378326416,
          -6.416386127471924,
          -4.113379001617432,
          0.2030908465385437,
          5.069573879241943,
          -0.47531551122665405,
          2.5423622131347656,
          7.6330156326293945,
          -6.445910930633545,
          -4.756812572479248,
          2.5196645259857178,
          -7.411900520324707,
          4.630080223083496,
          8.162727355957031,
          0.8526865243911743,
          0.3965567350387573,
          0.4152047336101532,
          -1.9902865886688232,
          -1.9909263849258423,
          -6.226180553436279,
          7.114465236663818,
          -5.685378074645996,
          -6.419609546661377,
          -2.626251459121704,
          -5.492761135101318,
          -6.315762519836426,
          -6.748533248901367,
          -4.646945953369141,
          -0.2979215681552887,
          -4.178023338317871,
          -3.174281597137451,
          -2.799346685409546,
          0.3468794822692871,
          -4.800996780395508,
          -1.5654516220092773,
          0.3375445008277893,
          -1.5999656915664673,
          3.7774524688720703,
          -0.20847655832767487,
          5.359105587005615,
          3.3274283409118652,
          -3.7209739685058594,
          -3.4013478755950928,
          -6.608449459075928,
          -4.972500324249268,
          8.892839431762695,
          -1.8053498268127441,
          -3.15634822845459,
          -2.5222432613372803,
          1.5993726253509521,
          -5.549960613250732,
          0.9877426028251648,
          -0.44852185249328613,
          2.6558523178100586,
          0.07295010983943939,
          -4.621756076812744,
          3.950330972671509,
          4.938930034637451,
          -7.050084114074707,
          2.024144411087036,
          -4.490197658538818,
          -4.629646301269531,
          -7.813149929046631,
          -2.0616462230682373,
          -0.6497882008552551,
          -3.2783923149108887,
          -0.9294872879981995,
          -1.2579203844070435,
          0.1975056678056717,
          1.1892132759094238,
          -3.731590747833252,
          -7.897110939025879,
          1.6391737461090088,
          3.7870700359344482,
          -3.596245527267456,
          8.142963409423828,
          2.9085752964019775,
          2.2551820278167725,
          0.36816999316215515,
          0.6920373439788818,
          0.691559374332428,
          6.439116477966309,
          -2.085110664367676,
          4.524125576019287,
          -1.3726028203964233,
          0.03544088825583458,
          8.100397109985352,
          0.7604590058326721,
          -2.6372926235198975,
          -7.768288612365723,
          -4.166688442230225,
          2.7082293033599854,
          -7.173916339874268,
          -4.4278082847595215,
          -0.6387574672698975,
          -2.059837579727173,
          -1.2957613468170166,
          4.285355091094971,
          -5.604992389678955,
          -6.1643900871276855,
          -4.800802707672119,
          2.126042366027832,
          1.738924264907837,
          -1.7341063022613525,
          8.584962844848633,
          -6.826668739318848,
          -3.65126633644104,
          -0.05111374706029892,
          2.669943332672119,
          -4.471229553222656,
          0.9889490604400635,
          1.2489149570465088,
          -3.1037960052490234,
          -0.4009636640548706,
          4.608853816986084,
          4.350874423980713,
          1.3444738388061523,
          -6.269321441650391,
          5.063610553741455,
          -4.580870151519775,
          0.4561174511909485,
          -0.31355568766593933,
          0.26810070872306824,
          -3.4440598487854004,
          -6.439467430114746,
          -3.242006301879883,
          -2.963625192642212,
          -0.7877436876296997,
          1.3273723125457764,
          -0.5038706660270691,
          -3.133619785308838,
          -0.8641176819801331,
          -0.9739406704902649,
          7.572473049163818,
          5.811975002288818,
          -6.162777423858643,
          -2.211077928543091,
          -3.2327189445495605,
          -7.366421699523926,
          1.1822518110275269,
          -0.8447384238243103,
          -4.640908241271973,
          3.028156280517578,
          0.22404637932777405,
          -0.19238664209842682,
          -1.420015811920166,
          0.6208890080451965,
          3.7983310222625732,
          1.1946895122528076,
          -1.0865188837051392,
          -0.6920297145843506,
          -1.8324049711227417,
          -2.06634783744812,
          0.5756989121437073,
          2.801832437515259,
          1.324120044708252,
          1.3929858207702637,
          -7.464306354522705,
          0.1419086456298828,
          2.385115146636963,
          -0.689948320388794,
          -3.0707321166992188,
          -1.89302659034729,
          -5.162940979003906,
          -1.1353697776794434,
          1.2064259052276611,
          -0.7307872176170349,
          5.450455188751221,
          1.3187516927719116,
          -3.078155040740967,
          1.545806646347046,
          1.5458601713180542,
          1.545845627784729,
          4.764035224914551,
          -4.355146408081055,
          -2.270594358444214,
          7.126133441925049,
          -7.239275932312012,
          5.99226188659668,
          -0.6901307106018066,
          6.310783386230469,
          -2.426830530166626,
          1.9724721908569336,
          0.24088023602962494,
          -0.8184760212898254,
          3.9146323204040527,
          -1.7131543159484863,
          -0.7111908793449402,
          -7.3055100440979,
          2.3274965286254883,
          -1.4316784143447876,
          1.9725782871246338,
          4.69525146484375,
          -5.1401143074035645,
          -4.5541253089904785,
          2.713665246963501,
          0.7798952460289001,
          2.6592745780944824,
          -2.125833034515381,
          2.976663112640381,
          -0.23549900949001312,
          -2.567925214767456,
          6.3810858726501465,
          3.7045557498931885,
          3.7926018238067627,
          3.8965718746185303,
          -4.702908515930176,
          4.636538982391357,
          4.947268962860107,
          -3.9947450160980225,
          6.189888954162598,
          1.6756170988082886,
          -1.0521328449249268,
          -0.6415789723396301,
          -3.2433578968048096,
          -0.9979088306427002,
          -0.1758217066526413,
          4.004660129547119,
          -3.348883628845215,
          -3.6090619564056396,
          7.244072914123535,
          3.853276252746582,
          -2.1023435592651367,
          -5.180761337280273,
          -0.5712016820907593,
          -4.162082195281982,
          -0.3931227922439575,
          4.715272903442383,
          1.9487942457199097,
          -4.143293857574463,
          -0.6562119722366333,
          -0.687209963798523,
          -7.744245529174805,
          2.6729891300201416,
          0.8200726509094238,
          2.826333522796631,
          0.06593012809753418,
          2.7698049545288086,
          0.2471340000629425,
          -6.516888618469238,
          -8.588997840881348,
          -0.14872267842292786,
          -6.176897048950195,
          -2.7681846618652344,
          5.1338934898376465,
          5.210642337799072,
          6.191394805908203,
          -1.0052285194396973,
          -3.5673654079437256,
          -0.139097660779953,
          8.597864151000977,
          5.888458251953125,
          2.711721897125244,
          -4.3976545333862305,
          -2.629108190536499,
          -3.3148398399353027,
          -5.824643135070801,
          1.5357590913772583,
          -1.3253108263015747,
          -2.6291723251342773,
          -1.0753717422485352,
          -5.164799690246582,
          -2.1963376998901367,
          2.969386339187622,
          -4.288234710693359,
          -6.130566596984863,
          -2.26885724067688,
          -0.9804633855819702,
          1.5729140043258667,
          -4.279191017150879,
          3.931594133377075,
          -3.3402652740478516,
          4.931589126586914,
          5.165982246398926,
          -3.7372798919677734,
          -2.9490561485290527,
          1.7547951936721802,
          8.512311935424805,
          -5.994637489318848,
          6.390479564666748,
          -2.8601603507995605,
          -2.201735258102417,
          -0.2951000928878784,
          -0.14307349920272827,
          2.9278523921966553,
          -4.951565742492676,
          -4.942206859588623,
          -2.03399395942688,
          0.5615726709365845,
          -5.368633270263672,
          4.723608493804932,
          -1.9827256202697754,
          -5.411370754241943,
          -8.68520736694336,
          3.5641798973083496,
          1.5180522203445435,
          -0.9245206117630005,
          -2.166815757751465,
          1.669232726097107,
          6.461228847503662,
          -0.08289484679698944,
          -2.4764671325683594,
          -1.7079256772994995,
          0.06188188120722771,
          -4.06666374206543,
          -0.2545601427555084,
          -0.07859639078378677,
          3.165482521057129,
          -3.1550133228302,
          -5.060756683349609,
          4.626493453979492,
          -3.030333995819092,
          5.9934000968933105,
          -0.2898339033126831,
          -1.7276036739349365,
          2.027142286300659,
          -2.8967173099517822,
          3.149864673614502,
          0.6720216274261475,
          -4.09905481338501,
          -6.18989372253418,
          -0.6790667772293091,
          2.7985191345214844,
          1.8237382173538208,
          -0.31904369592666626,
          -4.464166164398193,
          -4.867669105529785,
          -4.3117241859436035,
          -6.002957820892334,
          6.556008815765381,
          0.09647610783576965,
          -1.614716649055481,
          -5.582411766052246,
          3.508023500442505,
          -2.8517487049102783,
          -4.798291206359863,
          0.4473842978477478,
          0.5445754528045654,
          5.9693169593811035,
          3.135538101196289,
          -0.8867330551147461,
          -6.4494805335998535,
          -0.876275897026062,
          1.7780983448028564,
          -3.765190362930298,
          -3.9153974056243896,
          -2.967041254043579,
          6.309492588043213,
          4.9297404289245605,
          -2.2965803146362305,
          -0.8645263314247131,
          0.36677759885787964,
          -0.7342239618301392,
          -2.8985021114349365,
          7.737070083618164,
          -2.371687889099121,
          -4.7368083000183105,
          0.34957224130630493,
          4.307163715362549,
          -1.291754126548767,
          -6.776194095611572,
          -1.9859737157821655,
          0.03595753759145737,
          -1.172706961631775,
          -1.9119212627410889,
          -5.989744186401367,
          0.37906548380851746,
          -1.6169140338897705,
          -5.027261734008789,
          -8.806404113769531,
          3.5516345500946045,
          -1.3037383556365967,
          -1.3383572101593018,
          1.0809732675552368,
          -6.458951950073242,
          1.7257001399993896,
          -4.083051681518555,
          1.232326626777649,
          -0.34198132157325745,
          1.8357481956481934,
          -2.3679442405700684,
          -3.9555485248565674,
          -5.866662979125977,
          0.8899995684623718,
          6.130842208862305,
          0.6663652658462524,
          -7.238293170928955,
          -5.634857177734375,
          -0.6272796988487244,
          -4.0829997062683105,
          5.407974720001221,
          -1.8445240259170532,
          5.656289100646973,
          1.0116229057312012,
          2.466546058654785,
          -6.65048360824585,
          -0.26270222663879395,
          -2.943803071975708,
          7.799704074859619,
          1.88007652759552,
          -4.08901309967041,
          0.5095400214195251,
          -4.379919052124023,
          1.3173242807388306,
          5.533409118652344,
          4.141473293304443,
          3.3889284133911133,
          -7.111906051635742,
          -0.4067751467227936,
          -5.074881553649902,
          0.5415807366371155,
          4.771570205688477,
          -2.6794867515563965,
          -5.697762966156006,
          -0.8017793893814087,
          -1.6847892999649048,
          0.8303529024124146,
          -0.954185426235199,
          2.218548536300659,
          2.149202346801758,
          4.807281494140625,
          1.723578691482544,
          -2.7804877758026123,
          -6.582431316375732,
          -0.19718419015407562,
          8.2894926071167,
          -1.8608603477478027,
          -6.734347343444824,
          -1.290657639503479,
          -2.665377616882324,
          -6.805897235870361,
          -3.8907182216644287,
          -1.6070789098739624,
          0.18103139102458954,
          8.717883110046387,
          -6.461429119110107,
          -1.0191608667373657,
          2.149275064468384,
          -6.674526214599609,
          8.203335762023926,
          -5.688112735748291,
          3.991299629211426,
          -3.8674604892730713,
          -5.776029586791992,
          -0.08879178762435913,
          4.652475357055664,
          1.080959677696228,
          -1.1895164251327515,
          1.4399241209030151,
          4.791337013244629,
          -1.1474430561065674,
          1.1992870569229126,
          0.015890490263700485,
          0.09956581890583038,
          1.9099905490875244,
          -3.964975357055664,
          3.4968769550323486,
          -0.8186337351799011,
          4.182852268218994,
          0.8820406198501587,
          -1.0317145586013794,
          -1.5848357677459717,
          -3.6913628578186035,
          5.16254186630249,
          2.847357988357544,
          -7.193192481994629,
          5.216310977935791,
          -6.1300578117370605,
          -0.28765276074409485,
          0.9404187202453613,
          -1.1039751768112183,
          3.3832805156707764,
          3.2608842849731445,
          -0.89971524477005,
          -2.6230318546295166,
          -1.980696201324463,
          6.563131332397461,
          5.303597927093506,
          -3.6673853397369385,
          0.8135818839073181,
          4.060971736907959,
          -3.1287198066711426,
          0.07560645043849945,
          -5.76825475692749,
          -6.042815685272217,
          4.405455589294434,
          -5.086447238922119,
          5.326615810394287,
          6.713512897491455,
          6.677786827087402,
          1.9351959228515625,
          5.0456624031066895,
          -0.8134101629257202,
          -2.4430553913116455,
          -0.16735142469406128,
          -0.5342128276824951,
          3.824631452560425,
          -2.485764503479004,
          9.336309432983398,
          -0.025676796212792397,
          4.089626789093018,
          5.222071170806885,
          -0.5071780681610107,
          3.376302719116211,
          -3.833862066268921,
          5.396674633026123,
          3.9817609786987305,
          -4.68133544921875,
          0.9135778546333313,
          -3.4588801860809326,
          8.298874855041504,
          -3.918818235397339,
          -0.6985029578208923,
          -0.5679972171783447,
          -1.1838443279266357,
          9.234115600585938,
          0.37808507680892944,
          1.1806585788726807,
          4.427499771118164,
          2.618591547012329,
          4.269102096557617,
          -1.9889506101608276,
          -1.965493083000183,
          5.727935791015625,
          2.1088061332702637,
          5.6547346115112305,
          7.744549751281738,
          -2.7980003356933594,
          -0.6599581837654114,
          0.6020980477333069,
          4.8621907234191895,
          2.6522443294525146,
          0.5222291350364685,
          2.054095983505249,
          1.0912299156188965,
          0.7408711314201355,
          -4.844167232513428,
          -2.1770551204681396,
          5.736396312713623,
          1.8173828125,
          0.3938441574573517,
          2.834581136703491,
          4.51090145111084,
          1.609300136566162,
          4.070927143096924,
          4.0179443359375,
          -4.064950942993164,
          0.3264371156692505,
          3.582853078842163,
          1.946926236152649,
          -2.0700080394744873,
          0.07288006693124771,
          5.371581077575684,
          2.7952380180358887,
          2.347909927368164,
          4.416652202606201,
          0.510694682598114,
          5.268801689147949,
          3.305955648422241,
          2.998154640197754,
          -0.07107222080230713,
          0.34246399998664856,
          4.681396961212158,
          2.645474910736084,
          -0.0292168278247118,
          -2.806633472442627,
          2.605242967605591,
          -2.697756052017212,
          0.6045646071434021,
          -5.411606311798096,
          0.21560101211071014,
          4.378785133361816,
          0.6179628968238831,
          2.3034744262695312,
          0.9735226631164551,
          -0.6468451023101807,
          2.1144673824310303,
          -3.42543625831604,
          0.9581026434898376,
          -2.0030112266540527,
          -4.921217918395996,
          -7.925416469573975,
          -1.7742899656295776,
          -1.7742899656295776,
          -0.8980697989463806,
          -0.8981112241744995,
          -1.0907460451126099,
          -1.0907903909683228,
          6.0811848640441895,
          6.081173419952393,
          -0.8565244674682617,
          -0.8565244674682617,
          -0.5301187038421631,
          -0.5301068425178528,
          1.185129165649414,
          1.185129165649414,
          -1.196311116218567,
          -1.196311116218567,
          4.440065383911133,
          4.440065383911133,
          2.3568146228790283,
          2.3568146228790283,
          9.39587116241455,
          9.39587116241455,
          -0.330305278301239,
          0.45502525568008423,
          -7.574315547943115,
          -7.574315547943115,
          8.346414566040039,
          8.346414566040039,
          -2.9793100357055664,
          -2.9793100357055664,
          -3.6622982025146484,
          -3.6622982025146484,
          6.675552845001221,
          6.675552845001221,
          -4.254037380218506,
          0.7079818248748779,
          -6.303049564361572,
          -2.575460195541382,
          6.219340801239014,
          2.140127420425415,
          0.5688948035240173,
          0.7520228028297424,
          -3.532058000564575,
          -0.04767902195453644,
          1.8079763650894165,
          -0.8163107633590698,
          3.252211570739746,
          2.43823504447937,
          1.987251877784729,
          -5.352668285369873,
          2.729336738586426,
          -6.821633338928223,
          -6.245288848876953,
          8.717110633850098,
          4.190863609313965,
          0.19481728971004486,
          -2.805814504623413,
          -2.9216132164001465,
          -0.7983765602111816,
          1.3709304332733154,
          3.8498167991638184,
          1.7754329442977905,
          -1.360254168510437,
          4.066746711730957,
          7.550601005554199,
          0.5650646686553955,
          -9.89944076538086,
          -5.889260292053223,
          2.096867084503174,
          -6.232158184051514,
          -8.660104751586914,
          -1.0998989343643188,
          -2.6978065967559814,
          -4.924796104431152,
          1.8902732133865356,
          4.389754295349121,
          6.286807060241699,
          0.43059292435646057,
          -1.2385871410369873,
          3.6259002685546875,
          -0.05201507359743118,
          -1.9589887857437134,
          0.044547319412231445,
          1.5929042100906372,
          -0.5039322972297668,
          2.7306406497955322,
          5.15495491027832,
          -3.7248260974884033,
          1.5861973762512207,
          3.8696978092193604,
          2.338435411453247,
          4.343411445617676,
          2.444584608078003,
          1.7621679306030273,
          6.417482376098633,
          4.081389904022217,
          0.3049473166465759,
          -0.420442670583725,
          4.499530792236328,
          -1.820115566253662,
          -2.966228485107422,
          -1.6232174634933472,
          -1.3452547788619995,
          0.6634190678596497,
          -0.16487844288349152,
          -0.3980509638786316,
          0.7997333407402039,
          0.36114826798439026,
          -2.114711284637451,
          2.011052131652832,
          3.2561590671539307,
          -6.591186046600342,
          0.46355757117271423,
          0.9454626441001892,
          2.4664511680603027,
          1.1199212074279785,
          1.054953694343567,
          -2.0765469074249268,
          4.747490882873535,
          3.8007566928863525,
          -4.962917327880859,
          4.175787925720215,
          -3.0138731002807617,
          -3.0827386379241943,
          -5.2739386558532715,
          -4.519340991973877,
          1.9253332614898682,
          6.62169075012207,
          -2.242323637008667,
          -2.9227542877197266,
          -4.4719438552856445,
          -2.0299315452575684,
          -4.636530876159668,
          2.5289580821990967,
          7.367703914642334,
          6.4471354484558105,
          1.9735050201416016,
          -0.6408181190490723,
          3.993333578109741,
          -2.0728561878204346,
          -0.40882742404937744,
          -4.369832515716553,
          -6.15051794052124,
          -6.296672344207764,
          -6.394914150238037,
          1.703642725944519,
          2.9913551807403564,
          3.481339693069458,
          -3.7128660678863525,
          -0.4057093560695648,
          7.950321197509766,
          -0.6318936944007874,
          -1.5556774139404297,
          2.344731330871582,
          5.202851295471191,
          2.2616376876831055,
          1.3126157522201538,
          2.736292839050293,
          5.534191131591797,
          -6.433979034423828,
          1.5679631233215332,
          -2.921208143234253,
          -3.823113441467285,
          -0.5596303939819336,
          -4.641993045806885,
          -4.01220703125,
          -0.20644719898700714,
          -3.284790515899658,
          2.819610118865967,
          -1.696219801902771,
          0.6911989450454712,
          -1.1442687511444092,
          -1.8786076307296753,
          -0.24249579012393951,
          -6.717947483062744,
          0.20080070197582245,
          -1.8585503101348877,
          2.763500928878784,
          4.591710567474365,
          2.3779964447021484,
          -2.098864793777466,
          9.028641700744629,
          0.7903620004653931,
          1.4233050346374512,
          2.764516592025757,
          -4.475175380706787,
          -4.742269992828369,
          1.5538619756698608,
          -3.870159387588501,
          1.7824742794036865,
          -2.688058376312256,
          -7.1224365234375,
          4.8921966552734375,
          -3.2177212238311768,
          2.048225164413452,
          -5.270554065704346,
          2.6450488567352295,
          1.9722669124603271,
          2.710559606552124,
          7.633874893188477,
          2.5078961849212646,
          5.363412857055664,
          5.501413822174072,
          -4.67942476272583,
          3.9110679626464844,
          -5.096658706665039,
          -3.3386969566345215,
          -1.7003053426742554,
          -4.536386966705322,
          1.6379910707473755,
          -6.148797988891602,
          -4.863410949707031,
          -7.9470624923706055,
          2.9352078437805176,
          3.7708547115325928,
          -3.7708070278167725,
          1.791156530380249,
          -2.877309560775757,
          5.2258148193359375,
          -3.7408175468444824,
          1.0715022087097168,
          1.1598355770111084,
          -6.366248607635498,
          -9.913601875305176,
          -1.4569900035858154,
          -0.34740322828292847,
          4.06334114074707,
          -0.6640029549598694,
          3.8279244899749756,
          -1.048423409461975,
          -3.328251361846924,
          9.089214324951172,
          5.50236701965332,
          4.3202033042907715,
          2.4226489067077637,
          3.4447453022003174,
          -7.984006881713867,
          4.016845703125,
          2.896585464477539,
          3.7057292461395264,
          0.9273651242256165,
          -3.832092046737671,
          -3.0869503021240234,
          2.198049783706665,
          -5.797356128692627,
          6.115512371063232,
          4.128133296966553,
          1.4678082466125488,
          4.343968391418457,
          -3.687636613845825,
          1.7832157611846924,
          0.32498884201049805,
          3.8755321502685547,
          -6.672995090484619,
          2.3388969898223877,
          6.59810733795166,
          3.6641910076141357,
          1.8230581283569336,
          1.0551649332046509,
          -6.353105068206787,
          4.969978332519531,
          -5.414416790008545,
          1.5319156646728516,
          8.817238807678223,
          2.6086344718933105,
          -3.419903516769409,
          3.253541946411133,
          0.20009790360927582,
          -0.3418751060962677,
          6.4746012687683105,
          0.03749123215675354,
          1.3613795042037964,
          2.312464952468872,
          2.8593242168426514,
          4.692015647888184,
          3.1194417476654053,
          0.346732497215271,
          1.9109339714050293,
          -1.8272533416748047,
          0.6403201222419739,
          -2.378734588623047,
          3.0397965908050537,
          5.511307716369629,
          3.949909210205078,
          -0.42125681042671204,
          3.8424007892608643,
          0.19890502095222473,
          1.2262126207351685,
          5.353446006774902,
          -4.704134464263916,
          0.10811872780323029,
          -4.732366561889648,
          -0.9140859842300415,
          -4.516522407531738,
          -4.209173679351807,
          6.561066150665283,
          3.323915958404541,
          0.8793452382087708,
          -1.382412314414978,
          -7.359104156494141,
          -6.64743185043335,
          3.4843618869781494,
          1.2317404747009277,
          -1.6546006202697754,
          -1.1029249429702759,
          1.9420689344406128,
          4.892067909240723,
          -4.383938312530518,
          1.7800440788269043,
          -2.7663187980651855,
          -4.783018589019775,
          -2.226073741912842,
          4.664056777954102,
          6.281486988067627,
          2.470846652984619,
          7.060797691345215,
          7.638563632965088,
          9.375432968139648,
          0.08894164860248566,
          5.895656108856201,
          -2.8995373249053955,
          5.751792907714844,
          -7.0045342445373535,
          -0.8857548832893372,
          -7.0611982345581055,
          -0.9625461101531982,
          -2.982218027114868,
          -0.1474364995956421,
          2.106304883956909,
          -7.6606669425964355,
          -6.553106784820557,
          -1.4792683124542236,
          7.941047668457031,
          -1.1081225872039795,
          1.2515544891357422,
          -1.8801301717758179,
          0.5209083557128906,
          -2.3826255798339844,
          0.6268385052680969,
          4.1021575927734375,
          -3.5308213233947754,
          -3.2692136764526367,
          7.236639022827148,
          -3.4710123538970947,
          1.2932950258255005,
          9.487863540649414,
          0.9328586459159851,
          7.784462928771973,
          0.9974198937416077,
          -0.3221409022808075,
          1.7742164134979248,
          -2.6365017890930176,
          -2.3726863861083984,
          -3.5678277015686035,
          2.1523513793945312,
          -3.3039283752441406,
          3.1355550289154053,
          -7.220961570739746,
          3.887089729309082,
          -0.15379317104816437,
          3.2411036491394043,
          -4.351172924041748,
          -1.4254053831100464,
          4.597890377044678,
          -2.8170056343078613,
          -6.502852916717529,
          2.8972082138061523,
          0.34750500321388245,
          5.412713527679443,
          -7.887665748596191,
          -4.066624641418457,
          -4.575618267059326,
          4.726752758026123,
          -3.1955387592315674,
          1.4427567720413208,
          0.9408918619155884,
          -4.8978753089904785,
          7.522457599639893,
          -4.63045597076416,
          -4.479970455169678,
          -4.03303337097168,
          1.5515573024749756,
          2.654623031616211,
          -4.097480773925781,
          9.151285171508789,
          4.8401970863342285,
          4.574220180511475,
          2.39026141166687,
          3.2387161254882812,
          4.873561382293701,
          3.9267406463623047,
          3.3094401359558105,
          3.5179498195648193,
          -0.8824313282966614,
          -5.249339580535889,
          -4.627998352050781,
          -1.570165753364563,
          5.412108421325684,
          -4.519345760345459,
          8.91895580291748,
          4.581371784210205,
          7.7752299308776855,
          -0.9262081980705261,
          7.902088642120361,
          -2.5951242446899414,
          4.873283386230469,
          3.293973684310913,
          -0.6611171960830688,
          1.290155291557312,
          4.886272430419922,
          1.5958797931671143,
          5.351426124572754,
          0.8059943318367004,
          -1.0058506727218628,
          -0.5213684439659119,
          7.928614139556885,
          0.5176720023155212,
          0.9038846492767334,
          -2.9628357887268066,
          -3.613279104232788,
          -3.8970816135406494,
          -1.2788838148117065,
          5.103023529052734,
          -3.3602752685546875,
          -1.7721418142318726,
          -1.2519197463989258,
          -2.3673768043518066
         ]
        },
        {
         "hovertemplate": "label=mgood<br>tsne_0=%{x}<br>tsne_1=%{y}<br>tsne_2=%{z}<extra></extra>",
         "legendgroup": "mgood",
         "marker": {
          "color": "#EF553B",
          "opacity": 0.5,
          "size": 4,
          "symbol": "circle"
         },
         "mode": "markers",
         "name": "mgood",
         "scene": "scene",
         "showlegend": true,
         "type": "scatter3d",
         "x": [
          -3.6363258361816406,
          0.6744163036346436,
          2.718867301940918,
          7.942884922027588,
          7.392861366271973,
          -3.6541402339935303,
          -1.6732509136199951,
          1.3358250856399536,
          -6.832078456878662,
          -8.285184860229492,
          -6.554925441741943,
          11.551482200622559,
          -1.4377809762954712,
          -3.9792115688323975,
          11.756206512451172,
          1.8566246032714844,
          -0.8250778317451477,
          7.606976509094238,
          -0.43082159757614136,
          6.835884094238281,
          0.9815605878829956,
          1.3438665866851807,
          -3.353623390197754,
          -0.6881147027015686,
          -0.03816114738583565,
          0.06503177434206009,
          -5.379764556884766,
          -6.112031936645508,
          9.987812042236328,
          -0.7547345757484436,
          -4.60996675491333,
          -5.637235164642334,
          -6.055041790008545,
          2.5578248500823975,
          -2.5342416763305664,
          -8.408341407775879,
          -6.823238849639893,
          0.7099697589874268,
          -0.30678609013557434,
          6.494382858276367,
          4.589911460876465,
          0.6559985876083374,
          -0.47275784611701965,
          -6.608799934387207,
          -0.2788345217704773,
          -6.071544170379639,
          -1.659589171409607,
          -7.751960754394531,
          1.4025684595108032,
          -0.5464764833450317,
          10.956059455871582,
          -1.225134253501892,
          2.819359540939331,
          2.061267137527466,
          8.846431732177734,
          -0.33357852697372437,
          1.649815320968628,
          -2.653968095779419,
          -0.4742329716682434,
          -5.64054536819458,
          4.1105475425720215,
          -0.4073752164840698,
          -12.242083549499512,
          -7.454095363616943,
          -1.2520532608032227,
          -9.543570518493652,
          -5.590729236602783,
          3.309701442718506,
          -2.654289960861206,
          -2.654276132583618,
          1.9011613130569458,
          -2.890645742416382,
          0.7226129174232483,
          5.077757358551025,
          -8.170942306518555,
          0.2672263979911804,
          8.848390579223633,
          -6.357245445251465,
          1.6141823530197144,
          6.209785461425781,
          -4.509222984313965,
          -2.316819906234741,
          -5.210313320159912,
          0.5926602482795715,
          -6.445133209228516,
          -2.657186269760132,
          -4.779953956604004,
          0.9184187054634094,
          -7.919210910797119,
          2.6287927627563477,
          -0.30963921546936035,
          -2.0250768661499023,
          -1.354664921760559,
          1.377461314201355,
          1.4844568967819214,
          4.594066619873047,
          -0.8832670450210571,
          4.316155433654785,
          4.316286563873291,
          -3.98708438873291,
          -3.987133264541626,
          5.3959856033325195,
          -0.582079291343689,
          3.7239885330200195,
          3.5669376850128174
         ],
         "y": [
          7.040971755981445,
          0.6132513284683228,
          4.024144649505615,
          -1.09759521484375,
          -3.323925256729126,
          -2.3931925296783447,
          -1.5993077754974365,
          -7.629592418670654,
          -3.589362144470215,
          1.8800510168075562,
          9.109131813049316,
          1.1112982034683228,
          -3.819507360458374,
          6.4751877784729,
          0.9821067452430725,
          -2.263817548751831,
          0.18667924404144287,
          -0.015569159761071205,
          -3.4444258213043213,
          -0.4905625581741333,
          -4.159603595733643,
          -7.390071392059326,
          -1.9321056604385376,
          3.435783624649048,
          -8.134465217590332,
          3.4627182483673096,
          4.71506404876709,
          -7.5794219970703125,
          -2.21226167678833,
          -7.255905628204346,
          1.4014675617218018,
          4.135994911193848,
          -1.2734228372573853,
          -6.651332378387451,
          -7.07103967666626,
          1.3200275897979736,
          -3.154778003692627,
          8.070487022399902,
          -4.008215427398682,
          -2.9048733711242676,
          6.7016706466674805,
          5.818531036376953,
          -3.5067055225372314,
          -4.2573723793029785,
          -7.585545539855957,
          -4.873254776000977,
          7.065700054168701,
          8.87457275390625,
          -7.428494453430176,
          -3.9774510860443115,
          -0.46417781710624695,
          -6.259829998016357,
          5.5357890129089355,
          -4.361612796783447,
          -0.270203173160553,
          2.177565097808838,
          -9.00327205657959,
          -6.270298480987549,
          -2.2887778282165527,
          -7.147745132446289,
          -2.811600923538208,
          -5.936167240142822,
          -3.247872829437256,
          -7.041406154632568,
          -5.763857364654541,
          -3.7831907272338867,
          4.058696746826172,
          0.17645375430583954,
          5.68081521987915,
          5.680854320526123,
          8.345073699951172,
          -2.851999521255493,
          -5.0945563316345215,
          5.134241580963135,
          -2.8938395977020264,
          -6.8360595703125,
          -2.4740145206451416,
          -7.223864555358887,
          -8.98421573638916,
          -5.625382900238037,
          2.776528835296631,
          -3.2325406074523926,
          -7.20871639251709,
          -6.012852668762207,
          -1.6347620487213135,
          0.17199911177158356,
          -6.857401371002197,
          -7.178279876708984,
          1.0796653032302856,
          7.027600288391113,
          -3.7043063640594482,
          -0.2244037687778473,
          -3.4910194873809814,
          4.316197872161865,
          -5.834487438201904,
          4.971583366394043,
          -1.7928884029388428,
          4.87094783782959,
          4.870950222015381,
          3.54580020904541,
          3.545848846435547,
          -3.5741002559661865,
          -7.336023330688477,
          0.9983289837837219,
          -5.043929576873779
         ],
         "z": [
          -1.7502120733261108,
          5.359611988067627,
          -0.20601142942905426,
          2.574321746826172,
          0.7678797841072083,
          -5.145352840423584,
          -1.3602527379989624,
          -1.6246116161346436,
          -6.2704901695251465,
          4.483815670013428,
          -0.45126068592071533,
          -1.1897379159927368,
          -7.271089553833008,
          0.5714740753173828,
          -2.26564359664917,
          -4.39279317855835,
          2.4974279403686523,
          -1.463873028755188,
          3.6007020473480225,
          -2.342154026031494,
          -7.85971736907959,
          -1.8097617626190186,
          4.741616249084473,
          -4.923941135406494,
          -1.8366457223892212,
          -2.680100440979004,
          1.8489633798599243,
          -5.5628838539123535,
          2.7447402477264404,
          -5.845170974731445,
          -0.05261724814772606,
          4.22878360748291,
          8.3790922164917,
          -1.1961461305618286,
          -2.180527687072754,
          -5.395517826080322,
          0.22390924394130707,
          -0.40845009684562683,
          5.112821578979492,
          -5.827409744262695,
          1.4148943424224854,
          -1.0567289590835571,
          -3.0535361766815186,
          -3.0587072372436523,
          -4.340358257293701,
          3.8034749031066895,
          -4.055760383605957,
          -0.7269025444984436,
          -1.6518118381500244,
          6.670675754547119,
          0.470293253660202,
          4.260809421539307,
          -2.353275775909424,
          -5.109532356262207,
          -1.957343578338623,
          -3.2627408504486084,
          -4.20181941986084,
          3.070221424102783,
          0.23157209157943726,
          0.5752063393592834,
          -2.94708514213562,
          3.244687557220459,
          1.483669400215149,
          2.2989912033081055,
          -6.546048641204834,
          -3.4243783950805664,
          0.40119898319244385,
          -7.15012788772583,
          -1.2392103672027588,
          -1.2392410039901733,
          -2.702716112136841,
          -4.286976337432861,
          -4.5597991943359375,
          -5.300570964813232,
          0.682671844959259,
          -6.985467433929443,
          0.4035388231277466,
          -0.6216386556625366,
          -4.250205993652344,
          -0.48478963971138,
          -7.697465419769287,
          3.1922619342803955,
          1.478609323501587,
          5.54471492767334,
          -4.171427249908447,
          -2.492588758468628,
          -4.987607002258301,
          0.45734336972236633,
          0.4634099006652832,
          -1.753545880317688,
          -8.3456392288208,
          -3.83105731010437,
          -7.385094165802002,
          -3.8827319145202637,
          -6.4847187995910645,
          -1.0487416982650757,
          -0.6502285003662109,
          4.135003566741943,
          4.135110855102539,
          -4.998817443847656,
          -4.998835563659668,
          -6.759591102600098,
          -4.518692493438721,
          1.1531164646148682,
          -5.225075721740723
         ]
        },
        {
         "hovertemplate": "label=mbad<br>tsne_0=%{x}<br>tsne_1=%{y}<br>tsne_2=%{z}<extra></extra>",
         "legendgroup": "mbad",
         "marker": {
          "color": "#00cc96",
          "opacity": 0.5,
          "size": 4,
          "symbol": "circle"
         },
         "mode": "markers",
         "name": "mbad",
         "scene": "scene",
         "showlegend": true,
         "type": "scatter3d",
         "x": [
          6.236495018005371,
          3.1913185119628906,
          -5.724486351013184,
          -3.176542282104492,
          5.57598876953125,
          -2.3053574562072754,
          9.465475082397461,
          3.277543306350708,
          7.939422607421875,
          4.500041484832764,
          0.9534894227981567,
          9.114282608032227,
          9.91643238067627,
          -2.4342052936553955,
          1.5543363094329834,
          10.235097885131836,
          -11.577062606811523,
          8.635527610778809,
          4.991325855255127,
          1.6275889873504639,
          -0.8259826898574829,
          5.03615665435791,
          6.615084648132324,
          1.8885976076126099,
          -4.8480224609375,
          2.892402410507202,
          4.370749473571777,
          4.432160377502441,
          4.64990758895874,
          4.3836164474487305,
          -7.872734546661377,
          10.254220008850098,
          -11.74899959564209,
          8.130285263061523,
          6.892059803009033,
          10.03615665435791,
          7.2069878578186035,
          4.510448932647705,
          6.670858860015869,
          5.771937847137451,
          1.9061001539230347,
          10.165778160095215,
          9.985350608825684,
          5.918670654296875,
          4.930634498596191,
          -6.328280448913574,
          8.482719421386719,
          6.968954086303711,
          3.6151065826416016,
          6.3580780029296875,
          3.11552095413208,
          5.962677001953125,
          9.457661628723145,
          0.7792190313339233,
          9.505398750305176,
          10.241562843322754,
          4.495672225952148,
          4.749019622802734,
          1.111209511756897,
          -3.2209222316741943,
          6.348814964294434,
          8.066488265991211,
          0.6789130568504333,
          10.498001098632812,
          3.7156805992126465,
          6.33531379699707,
          7.601751804351807,
          9.713296890258789,
          10.035057067871094,
          11.78944206237793,
          8.8471040725708,
          9.295206069946289,
          4.7001495361328125,
          2.1109461784362793,
          5.2676286697387695,
          0.16750161349773407,
          9.269061088562012,
          4.205036163330078,
          6.945422649383545,
          4.838601112365723,
          6.229538440704346,
          5.413764953613281,
          2.111128807067871,
          6.395505428314209,
          7.063760280609131,
          4.025040626525879,
          2.963766574859619,
          9.29912281036377,
          1.7452173233032227,
          7.526546955108643,
          4.921120643615723,
          3.1290338039398193,
          11.643000602722168,
          7.816682815551758,
          7.771747589111328,
          -0.3546445965766907,
          11.745875358581543,
          9.860628128051758,
          5.186386585235596,
          11.743408203125,
          7.488241195678711,
          7.785828113555908,
          7.748318195343018,
          9.256341934204102,
          10.070768356323242,
          9.558173179626465,
          10.184826850891113,
          -2.7855231761932373,
          11.549612045288086,
          1.7776615619659424,
          6.549804210662842,
          4.986868381500244,
          4.986868381500244,
          10.21989631652832,
          8.549644470214844,
          11.911861419677734,
          4.117065906524658,
          7.7711687088012695
         ],
         "y": [
          -1.8876357078552246,
          -3.289372682571411,
          5.991986274719238,
          -4.888689994812012,
          -3.492804765701294,
          -3.698812246322632,
          -5.25338888168335,
          -5.938059329986572,
          -4.117847442626953,
          -0.2676224708557129,
          -9.191622734069824,
          -6.125986099243164,
          -2.3958685398101807,
          -6.8571624755859375,
          -9.36974811553955,
          -3.3442094326019287,
          0.42935270071029663,
          -5.433708190917969,
          -6.786045074462891,
          1.2702187299728394,
          -8.37230110168457,
          -0.4598069190979004,
          -4.989480018615723,
          -0.9327558279037476,
          -5.7798967361450195,
          -6.725235462188721,
          -8.342315673828125,
          1.3813227415084839,
          -6.396705150604248,
          -5.913580894470215,
          -5.009234428405762,
          -2.999498128890991,
          -1.4965543746948242,
          -5.632974624633789,
          -1.2283300161361694,
          -1.2617284059524536,
          -4.343609809875488,
          1.7807180881500244,
          -4.221059322357178,
          -7.867132663726807,
          -4.724532127380371,
          -4.182643413543701,
          -2.183898448944092,
          -7.724406719207764,
          -0.17366942763328552,
          -7.066999435424805,
          -5.538860321044922,
          -4.542642116546631,
          0.25505998730659485,
          1.8672468662261963,
          -7.0513200759887695,
          -7.901954174041748,
          -4.6727800369262695,
          -9.089445114135742,
          -4.2056660652160645,
          -1.2684835195541382,
          0.1713014394044876,
          -6.623444080352783,
          -9.540719985961914,
          -8.673365592956543,
          -6.06496000289917,
          -2.709778070449829,
          5.102806091308594,
          -0.8168929219245911,
          -7.157804012298584,
          1.6548118591308594,
          -4.3100152015686035,
          -3.4609224796295166,
          -4.838200569152832,
          -3.6336843967437744,
          -3.225808620452881,
          -6.946353912353516,
          -6.462477684020996,
          -2.6544480323791504,
          -7.793892860412598,
          0.26387473940849304,
          -3.8818461894989014,
          -6.618255138397217,
          -2.737792730331421,
          -3.7419204711914062,
          -5.5240797996521,
          -2.1805524826049805,
          -9.184715270996094,
          -5.252024173736572,
          -3.0801353454589844,
          -2.0738823413848877,
          -4.167601108551025,
          -5.407352447509766,
          -8.757086753845215,
          -1.4239495992660522,
          -1.7059727907180786,
          -6.307542324066162,
          -2.305101156234741,
          -0.924403190612793,
          -5.214803695678711,
          -7.147780418395996,
          -2.2941718101501465,
          -4.153968811035156,
          -6.336764335632324,
          1.3692742586135864,
          -3.0098979473114014,
          -4.730628490447998,
          -0.716998279094696,
          -3.2134406566619873,
          -3.7911641597747803,
          -4.979999542236328,
          -6.03899621963501,
          -7.377272129058838,
          -1.7447214126586914,
          -5.829309463500977,
          -1.7603095769882202,
          -6.354822635650635,
          -6.354822635650635,
          -4.911700248718262,
          -6.10433292388916,
          -1.922990083694458,
          -6.558542251586914,
          -6.258857250213623
         ],
         "z": [
          3.2036802768707275,
          -1.5435240268707275,
          -3.1246299743652344,
          -1.6323902606964111,
          3.526040554046631,
          3.2544686794281006,
          0.00603484595194459,
          -1.7128360271453857,
          -1.938731074333191,
          2.1043527126312256,
          -2.7221388816833496,
          -2.5214083194732666,
          2.8369030952453613,
          2.525052309036255,
          -1.4652947187423706,
          -2.1587984561920166,
          1.6732369661331177,
          -1.567524790763855,
          -0.7664659023284912,
          1.4642188549041748,
          -6.090038299560547,
          0.5626107454299927,
          0.5117166638374329,
          6.194828510284424,
          -3.9461371898651123,
          1.2913265228271484,
          0.7958767414093018,
          2.1636574268341064,
          -5.901623249053955,
          1.103041172027588,
          -3.894031047821045,
          0.37312787771224976,
          -0.9568274617195129,
          -1.9567316770553589,
          4.346049785614014,
          -1.8397088050842285,
          0.5015146732330322,
          2.295623540878296,
          1.0053973197937012,
          -1.1773831844329834,
          3.7558913230895996,
          -3.7937991619110107,
          -1.6069378852844238,
          -1.9565943479537964,
          -6.359602451324463,
          -4.262532711029053,
          -1.700850486755371,
          2.722456932067871,
          -5.832028865814209,
          -4.72171688079834,
          1.5531716346740723,
          -1.2481032609939575,
          -0.23298045992851257,
          -2.5610427856445312,
          0.8881754875183105,
          -2.039924383163452,
          -6.22676420211792,
          -0.9071332812309265,
          -6.731733798980713,
          0.5305274128913879,
          -2.914527416229248,
          0.19096630811691284,
          -4.976047039031982,
          -3.112995147705078,
          -4.188745021820068,
          -4.735165119171143,
          0.47636768221855164,
          1.670318841934204,
          -3.9421935081481934,
          -1.3795076608657837,
          -4.178380966186523,
          -1.5509034395217896,
          0.051315296441316605,
          2.34098482131958,
          -1.271052598953247,
          1.0785613059997559,
          -3.807360887527466,
          -4.226028919219971,
          2.541163682937622,
          4.197286605834961,
          -3.0801477432250977,
          4.918165683746338,
          -4.23941707611084,
          -1.3134148120880127,
          1.2908130884170532,
          -3.3392961025238037,
          3.687871217727661,
          0.09522972255945206,
          -1.1296675205230713,
          3.9529526233673096,
          2.7107107639312744,
          1.198365330696106,
          -1.9668033123016357,
          2.8127009868621826,
          2.2395613193511963,
          -4.627627849578857,
          0.2535402774810791,
          -0.7484555244445801,
          3.2863502502441406,
          -0.08344083279371262,
          1.4469455480575562,
          1.3996503353118896,
          -4.80403470993042,
          0.6983798146247864,
          -2.481234073638916,
          -4.035094738006592,
          0.9751334190368652,
          -7.921998977661133,
          -0.7226220965385437,
          -1.4273643493652344,
          3.143988847732544,
          -0.2562501132488251,
          -0.2562501132488251,
          -3.999305009841919,
          -1.0152347087860107,
          0.42975935339927673,
          -3.5136172771453857,
          -1.8983107805252075
         ]
        },
        {
         "hovertemplate": "label=bad<br>tsne_0=%{x}<br>tsne_1=%{y}<br>tsne_2=%{z}<extra></extra>",
         "legendgroup": "bad",
         "marker": {
          "color": "#ab63fa",
          "opacity": 0.5,
          "size": 4,
          "symbol": "circle"
         },
         "mode": "markers",
         "name": "bad",
         "scene": "scene",
         "showlegend": true,
         "type": "scatter3d",
         "x": [
          4.36079216003418,
          4.817649841308594,
          0.2826251983642578,
          8.739837646484375,
          3.268254041671753,
          9.95685863494873,
          -9.664067268371582,
          4.842804431915283,
          8.635791778564453,
          -0.3389931917190552,
          11.110124588012695,
          7.865427017211914,
          7.807638645172119,
          -5.165609359741211,
          9.084259033203125,
          5.090341567993164,
          7.816317558288574,
          5.152589797973633,
          5.717709541320801,
          9.797563552856445,
          12.490260124206543,
          9.698587417602539,
          7.430336952209473,
          6.136158466339111,
          10.42922306060791,
          10.143187522888184,
          3.055804491043091,
          -7.093072891235352,
          6.936830520629883,
          10.202348709106445,
          0.5934180021286011,
          6.32411527633667,
          6.0220232009887695,
          -5.615121364593506,
          8.058792114257812,
          0.8123788833618164,
          11.74461555480957,
          8.84118366241455,
          12.433698654174805,
          9.382170677185059,
          9.513585090637207,
          4.224762439727783,
          9.755711555480957,
          10.649721145629883,
          12.278557777404785,
          2.899873971939087,
          -3.2422919273376465,
          -4.217851161956787,
          9.399149894714355,
          10.592933654785156,
          1.3610273599624634,
          4.330356597900391,
          7.622251510620117,
          9.778321266174316,
          11.318751335144043,
          5.524918079376221,
          1.4478484392166138,
          9.128116607666016,
          7.784487247467041,
          8.857771873474121,
          8.536526679992676,
          -7.204256534576416,
          8.104126930236816,
          7.663450717926025,
          2.160881757736206,
          9.245565414428711,
          6.322234630584717,
          1.749683141708374,
          11.163810729980469,
          2.8950140476226807,
          10.919596672058105,
          11.392707824707031,
          7.698038101196289,
          12.31836223602295,
          2.600386381149292,
          9.760732650756836,
          5.825786590576172,
          9.870935440063477,
          4.516927242279053,
          10.840166091918945,
          7.886714935302734,
          7.685830593109131,
          6.5135817527771,
          4.637235164642334
         ],
         "y": [
          -2.6805574893951416,
          -0.5348366498947144,
          -8.208221435546875,
          -6.237363338470459,
          -8.53941535949707,
          -3.5013303756713867,
          -4.628788948059082,
          0.238643079996109,
          -6.130005836486816,
          -7.0360283851623535,
          -1.1210744380950928,
          -6.068794250488281,
          -4.742993354797363,
          -5.8138108253479,
          -3.444673538208008,
          -6.500584602355957,
          3.214451789855957,
          -6.115251064300537,
          0.3929057717323303,
          -2.8048036098480225,
          -1.3124724626541138,
          -3.041682481765747,
          -4.738589763641357,
          -5.61073112487793,
          -0.8604569435119629,
          -2.3523831367492676,
          -4.676126480102539,
          8.718517303466797,
          -2.278096914291382,
          -2.4071953296661377,
          1.9703211784362793,
          -6.246446132659912,
          -2.4562489986419678,
          2.180879831314087,
          -5.734346389770508,
          3.970022678375244,
          -2.4020867347717285,
          -0.932409942150116,
          -1.2817962169647217,
          -4.608615398406982,
          -4.6529316902160645,
          -8.308415412902832,
          -2.9099247455596924,
          -5.792599201202393,
          -1.740797996520996,
          -5.959410667419434,
          -3.730515241622925,
          -4.688077449798584,
          -3.703188419342041,
          -4.482913494110107,
          -3.9932315349578857,
          -1.8278112411499023,
          -5.847990989685059,
          -4.914750099182129,
          -2.117835760116577,
          -5.140721797943115,
          1.6802737712860107,
          -3.3178744316101074,
          -1.9100366830825806,
          -3.2443959712982178,
          -4.573666572570801,
          -3.4737110137939453,
          -6.185024738311768,
          -7.131870269775391,
          -9.320446014404297,
          -3.043504238128662,
          -3.483473777770996,
          -5.5561347007751465,
          -2.9268951416015625,
          1.0929964780807495,
          -3.1076252460479736,
          -2.0615973472595215,
          -6.347592353820801,
          -1.7416735887527466,
          -4.893850803375244,
          -1.8360075950622559,
          -2.1371288299560547,
          -4.015259742736816,
          -6.558056354522705,
          -1.6879228353500366,
          -1.6361629962921143,
          -0.7378676533699036,
          -6.92573881149292,
          -3.6896607875823975
         ],
         "z": [
          -0.5717481970787048,
          1.213754415512085,
          -1.8536981344223022,
          -1.4467941522598267,
          0.0688595324754715,
          -3.555868148803711,
          -0.41068220138549805,
          2.8489928245544434,
          -0.5474488735198975,
          -4.818362236022949,
          2.3956193923950195,
          1.7256250381469727,
          2.4526541233062744,
          -3.5294477939605713,
          0.563262939453125,
          -0.3105637729167938,
          -0.21838034689426422,
          3.2505555152893066,
          2.3392040729522705,
          4.412897109985352,
          -1.0245275497436523,
          4.48024320602417,
          2.383145809173584,
          -1.4487669467926025,
          0.6550689935684204,
          2.0348587036132812,
          3.2832040786743164,
          -4.697650909423828,
          -5.703673839569092,
          4.646699905395508,
          1.8406928777694702,
          -2.471764087677002,
          -0.6789426803588867,
          -0.330267995595932,
          -0.06644855439662933,
          2.0256383419036865,
          -1.5706474781036377,
          -2.5299510955810547,
          -1.0406403541564941,
          -1.0927983522415161,
          -2.0800623893737793,
          0.7422359585762024,
          0.31916898488998413,
          0.7963975071907043,
          -1.4349700212478638,
          2.315094470977783,
          -0.5909817814826965,
          7.93411111831665,
          -3.6373982429504395,
          -1.2700326442718506,
          -8.325145721435547,
          6.3647661209106445,
          -1.8724912405014038,
          0.8680304884910583,
          -1.8548940420150757,
          -2.081341028213501,
          2.5097224712371826,
          1.1319483518600464,
          1.903031587600708,
          0.11257847398519516,
          3.6107475757598877,
          8.587186813354492,
          1.788569450378418,
          -1.557550311088562,
          -4.677063941955566,
          0.8389883637428284,
          -2.3592307567596436,
          1.7747350931167603,
          1.803086757659912,
          5.846995830535889,
          2.1215028762817383,
          -0.6627010107040405,
          -0.9643591642379761,
          0.27687397599220276,
          4.153662204742432,
          3.156642198562622,
          -6.488935470581055,
          -2.1410319805145264,
          -4.1250505447387695,
          2.864954948425293,
          4.1110944747924805,
          2.2602503299713135,
          -3.4390552043914795,
          4.272270679473877
         ]
        }
       ],
       "layout": {
        "legend": {
         "title": {
          "text": "label"
         },
         "tracegroupgap": 0
        },
        "scene": {
         "camera": {
          "eye": {
           "x": 0.9,
           "y": 0.9,
           "z": 0.9
          }
         },
         "domain": {
          "x": [
           0,
           1
          ],
          "y": [
           0,
           1
          ]
         },
         "xaxis": {
          "title": {
           "text": "tsne_0"
          }
         },
         "yaxis": {
          "title": {
           "text": "tsne_1"
          }
         },
         "zaxis": {
          "title": {
           "text": "tsne_2"
          }
         }
        },
        "template": {
         "data": {
          "bar": [
           {
            "error_x": {
             "color": "#2a3f5f"
            },
            "error_y": {
             "color": "#2a3f5f"
            },
            "marker": {
             "line": {
              "color": "#E5ECF6",
              "width": 0.5
             },
             "pattern": {
              "fillmode": "overlay",
              "size": 10,
              "solidity": 0.2
             }
            },
            "type": "bar"
           }
          ],
          "barpolar": [
           {
            "marker": {
             "line": {
              "color": "#E5ECF6",
              "width": 0.5
             },
             "pattern": {
              "fillmode": "overlay",
              "size": 10,
              "solidity": 0.2
             }
            },
            "type": "barpolar"
           }
          ],
          "carpet": [
           {
            "aaxis": {
             "endlinecolor": "#2a3f5f",
             "gridcolor": "white",
             "linecolor": "white",
             "minorgridcolor": "white",
             "startlinecolor": "#2a3f5f"
            },
            "baxis": {
             "endlinecolor": "#2a3f5f",
             "gridcolor": "white",
             "linecolor": "white",
             "minorgridcolor": "white",
             "startlinecolor": "#2a3f5f"
            },
            "type": "carpet"
           }
          ],
          "choropleth": [
           {
            "colorbar": {
             "outlinewidth": 0,
             "ticks": ""
            },
            "type": "choropleth"
           }
          ],
          "contour": [
           {
            "colorbar": {
             "outlinewidth": 0,
             "ticks": ""
            },
            "colorscale": [
             [
              0,
              "#0d0887"
             ],
             [
              0.1111111111111111,
              "#46039f"
             ],
             [
              0.2222222222222222,
              "#7201a8"
             ],
             [
              0.3333333333333333,
              "#9c179e"
             ],
             [
              0.4444444444444444,
              "#bd3786"
             ],
             [
              0.5555555555555556,
              "#d8576b"
             ],
             [
              0.6666666666666666,
              "#ed7953"
             ],
             [
              0.7777777777777778,
              "#fb9f3a"
             ],
             [
              0.8888888888888888,
              "#fdca26"
             ],
             [
              1,
              "#f0f921"
             ]
            ],
            "type": "contour"
           }
          ],
          "contourcarpet": [
           {
            "colorbar": {
             "outlinewidth": 0,
             "ticks": ""
            },
            "type": "contourcarpet"
           }
          ],
          "heatmap": [
           {
            "colorbar": {
             "outlinewidth": 0,
             "ticks": ""
            },
            "colorscale": [
             [
              0,
              "#0d0887"
             ],
             [
              0.1111111111111111,
              "#46039f"
             ],
             [
              0.2222222222222222,
              "#7201a8"
             ],
             [
              0.3333333333333333,
              "#9c179e"
             ],
             [
              0.4444444444444444,
              "#bd3786"
             ],
             [
              0.5555555555555556,
              "#d8576b"
             ],
             [
              0.6666666666666666,
              "#ed7953"
             ],
             [
              0.7777777777777778,
              "#fb9f3a"
             ],
             [
              0.8888888888888888,
              "#fdca26"
             ],
             [
              1,
              "#f0f921"
             ]
            ],
            "type": "heatmap"
           }
          ],
          "heatmapgl": [
           {
            "colorbar": {
             "outlinewidth": 0,
             "ticks": ""
            },
            "colorscale": [
             [
              0,
              "#0d0887"
             ],
             [
              0.1111111111111111,
              "#46039f"
             ],
             [
              0.2222222222222222,
              "#7201a8"
             ],
             [
              0.3333333333333333,
              "#9c179e"
             ],
             [
              0.4444444444444444,
              "#bd3786"
             ],
             [
              0.5555555555555556,
              "#d8576b"
             ],
             [
              0.6666666666666666,
              "#ed7953"
             ],
             [
              0.7777777777777778,
              "#fb9f3a"
             ],
             [
              0.8888888888888888,
              "#fdca26"
             ],
             [
              1,
              "#f0f921"
             ]
            ],
            "type": "heatmapgl"
           }
          ],
          "histogram": [
           {
            "marker": {
             "pattern": {
              "fillmode": "overlay",
              "size": 10,
              "solidity": 0.2
             }
            },
            "type": "histogram"
           }
          ],
          "histogram2d": [
           {
            "colorbar": {
             "outlinewidth": 0,
             "ticks": ""
            },
            "colorscale": [
             [
              0,
              "#0d0887"
             ],
             [
              0.1111111111111111,
              "#46039f"
             ],
             [
              0.2222222222222222,
              "#7201a8"
             ],
             [
              0.3333333333333333,
              "#9c179e"
             ],
             [
              0.4444444444444444,
              "#bd3786"
             ],
             [
              0.5555555555555556,
              "#d8576b"
             ],
             [
              0.6666666666666666,
              "#ed7953"
             ],
             [
              0.7777777777777778,
              "#fb9f3a"
             ],
             [
              0.8888888888888888,
              "#fdca26"
             ],
             [
              1,
              "#f0f921"
             ]
            ],
            "type": "histogram2d"
           }
          ],
          "histogram2dcontour": [
           {
            "colorbar": {
             "outlinewidth": 0,
             "ticks": ""
            },
            "colorscale": [
             [
              0,
              "#0d0887"
             ],
             [
              0.1111111111111111,
              "#46039f"
             ],
             [
              0.2222222222222222,
              "#7201a8"
             ],
             [
              0.3333333333333333,
              "#9c179e"
             ],
             [
              0.4444444444444444,
              "#bd3786"
             ],
             [
              0.5555555555555556,
              "#d8576b"
             ],
             [
              0.6666666666666666,
              "#ed7953"
             ],
             [
              0.7777777777777778,
              "#fb9f3a"
             ],
             [
              0.8888888888888888,
              "#fdca26"
             ],
             [
              1,
              "#f0f921"
             ]
            ],
            "type": "histogram2dcontour"
           }
          ],
          "mesh3d": [
           {
            "colorbar": {
             "outlinewidth": 0,
             "ticks": ""
            },
            "type": "mesh3d"
           }
          ],
          "parcoords": [
           {
            "line": {
             "colorbar": {
              "outlinewidth": 0,
              "ticks": ""
             }
            },
            "type": "parcoords"
           }
          ],
          "pie": [
           {
            "automargin": true,
            "type": "pie"
           }
          ],
          "scatter": [
           {
            "fillpattern": {
             "fillmode": "overlay",
             "size": 10,
             "solidity": 0.2
            },
            "type": "scatter"
           }
          ],
          "scatter3d": [
           {
            "line": {
             "colorbar": {
              "outlinewidth": 0,
              "ticks": ""
             }
            },
            "marker": {
             "colorbar": {
              "outlinewidth": 0,
              "ticks": ""
             }
            },
            "type": "scatter3d"
           }
          ],
          "scattercarpet": [
           {
            "marker": {
             "colorbar": {
              "outlinewidth": 0,
              "ticks": ""
             }
            },
            "type": "scattercarpet"
           }
          ],
          "scattergeo": [
           {
            "marker": {
             "colorbar": {
              "outlinewidth": 0,
              "ticks": ""
             }
            },
            "type": "scattergeo"
           }
          ],
          "scattergl": [
           {
            "marker": {
             "colorbar": {
              "outlinewidth": 0,
              "ticks": ""
             }
            },
            "type": "scattergl"
           }
          ],
          "scattermapbox": [
           {
            "marker": {
             "colorbar": {
              "outlinewidth": 0,
              "ticks": ""
             }
            },
            "type": "scattermapbox"
           }
          ],
          "scatterpolar": [
           {
            "marker": {
             "colorbar": {
              "outlinewidth": 0,
              "ticks": ""
             }
            },
            "type": "scatterpolar"
           }
          ],
          "scatterpolargl": [
           {
            "marker": {
             "colorbar": {
              "outlinewidth": 0,
              "ticks": ""
             }
            },
            "type": "scatterpolargl"
           }
          ],
          "scatterternary": [
           {
            "marker": {
             "colorbar": {
              "outlinewidth": 0,
              "ticks": ""
             }
            },
            "type": "scatterternary"
           }
          ],
          "surface": [
           {
            "colorbar": {
             "outlinewidth": 0,
             "ticks": ""
            },
            "colorscale": [
             [
              0,
              "#0d0887"
             ],
             [
              0.1111111111111111,
              "#46039f"
             ],
             [
              0.2222222222222222,
              "#7201a8"
             ],
             [
              0.3333333333333333,
              "#9c179e"
             ],
             [
              0.4444444444444444,
              "#bd3786"
             ],
             [
              0.5555555555555556,
              "#d8576b"
             ],
             [
              0.6666666666666666,
              "#ed7953"
             ],
             [
              0.7777777777777778,
              "#fb9f3a"
             ],
             [
              0.8888888888888888,
              "#fdca26"
             ],
             [
              1,
              "#f0f921"
             ]
            ],
            "type": "surface"
           }
          ],
          "table": [
           {
            "cells": {
             "fill": {
              "color": "#EBF0F8"
             },
             "line": {
              "color": "white"
             }
            },
            "header": {
             "fill": {
              "color": "#C8D4E3"
             },
             "line": {
              "color": "white"
             }
            },
            "type": "table"
           }
          ]
         },
         "layout": {
          "annotationdefaults": {
           "arrowcolor": "#2a3f5f",
           "arrowhead": 0,
           "arrowwidth": 1
          },
          "autotypenumbers": "strict",
          "coloraxis": {
           "colorbar": {
            "outlinewidth": 0,
            "ticks": ""
           }
          },
          "colorscale": {
           "diverging": [
            [
             0,
             "#8e0152"
            ],
            [
             0.1,
             "#c51b7d"
            ],
            [
             0.2,
             "#de77ae"
            ],
            [
             0.3,
             "#f1b6da"
            ],
            [
             0.4,
             "#fde0ef"
            ],
            [
             0.5,
             "#f7f7f7"
            ],
            [
             0.6,
             "#e6f5d0"
            ],
            [
             0.7,
             "#b8e186"
            ],
            [
             0.8,
             "#7fbc41"
            ],
            [
             0.9,
             "#4d9221"
            ],
            [
             1,
             "#276419"
            ]
           ],
           "sequential": [
            [
             0,
             "#0d0887"
            ],
            [
             0.1111111111111111,
             "#46039f"
            ],
            [
             0.2222222222222222,
             "#7201a8"
            ],
            [
             0.3333333333333333,
             "#9c179e"
            ],
            [
             0.4444444444444444,
             "#bd3786"
            ],
            [
             0.5555555555555556,
             "#d8576b"
            ],
            [
             0.6666666666666666,
             "#ed7953"
            ],
            [
             0.7777777777777778,
             "#fb9f3a"
            ],
            [
             0.8888888888888888,
             "#fdca26"
            ],
            [
             1,
             "#f0f921"
            ]
           ],
           "sequentialminus": [
            [
             0,
             "#0d0887"
            ],
            [
             0.1111111111111111,
             "#46039f"
            ],
            [
             0.2222222222222222,
             "#7201a8"
            ],
            [
             0.3333333333333333,
             "#9c179e"
            ],
            [
             0.4444444444444444,
             "#bd3786"
            ],
            [
             0.5555555555555556,
             "#d8576b"
            ],
            [
             0.6666666666666666,
             "#ed7953"
            ],
            [
             0.7777777777777778,
             "#fb9f3a"
            ],
            [
             0.8888888888888888,
             "#fdca26"
            ],
            [
             1,
             "#f0f921"
            ]
           ]
          },
          "colorway": [
           "#636efa",
           "#EF553B",
           "#00cc96",
           "#ab63fa",
           "#FFA15A",
           "#19d3f3",
           "#FF6692",
           "#B6E880",
           "#FF97FF",
           "#FECB52"
          ],
          "font": {
           "color": "#2a3f5f"
          },
          "geo": {
           "bgcolor": "white",
           "lakecolor": "white",
           "landcolor": "#E5ECF6",
           "showlakes": true,
           "showland": true,
           "subunitcolor": "white"
          },
          "hoverlabel": {
           "align": "left"
          },
          "hovermode": "closest",
          "mapbox": {
           "style": "light"
          },
          "paper_bgcolor": "white",
          "plot_bgcolor": "#E5ECF6",
          "polar": {
           "angularaxis": {
            "gridcolor": "white",
            "linecolor": "white",
            "ticks": ""
           },
           "bgcolor": "#E5ECF6",
           "radialaxis": {
            "gridcolor": "white",
            "linecolor": "white",
            "ticks": ""
           }
          },
          "scene": {
           "xaxis": {
            "backgroundcolor": "#E5ECF6",
            "gridcolor": "white",
            "gridwidth": 2,
            "linecolor": "white",
            "showbackground": true,
            "ticks": "",
            "zerolinecolor": "white"
           },
           "yaxis": {
            "backgroundcolor": "#E5ECF6",
            "gridcolor": "white",
            "gridwidth": 2,
            "linecolor": "white",
            "showbackground": true,
            "ticks": "",
            "zerolinecolor": "white"
           },
           "zaxis": {
            "backgroundcolor": "#E5ECF6",
            "gridcolor": "white",
            "gridwidth": 2,
            "linecolor": "white",
            "showbackground": true,
            "ticks": "",
            "zerolinecolor": "white"
           }
          },
          "shapedefaults": {
           "line": {
            "color": "#2a3f5f"
           }
          },
          "ternary": {
           "aaxis": {
            "gridcolor": "white",
            "linecolor": "white",
            "ticks": ""
           },
           "baxis": {
            "gridcolor": "white",
            "linecolor": "white",
            "ticks": ""
           },
           "bgcolor": "#E5ECF6",
           "caxis": {
            "gridcolor": "white",
            "linecolor": "white",
            "ticks": ""
           }
          },
          "title": {
           "x": 0.05
          },
          "xaxis": {
           "automargin": true,
           "gridcolor": "white",
           "linecolor": "white",
           "ticks": "",
           "title": {
            "standoff": 15
           },
           "zerolinecolor": "white",
           "zerolinewidth": 2
          },
          "yaxis": {
           "automargin": true,
           "gridcolor": "white",
           "linecolor": "white",
           "ticks": "",
           "title": {
            "standoff": 15
           },
           "zerolinecolor": "white",
           "zerolinewidth": 2
          }
         }
        },
        "title": {
         "text": "t-SNE embeddings of reviews"
        }
       }
      }
     },
     "metadata": {},
     "output_type": "display_data"
    }
   ],
   "source": [
    "# ignore PerformanceWarning\n",
    "import warnings\n",
    "from pandas.errors import PerformanceWarning\n",
    "warnings.filterwarnings(\"ignore\", category=PerformanceWarning)\n",
    "\n",
    "embeddings_df = pd.DataFrame()\n",
    "embeddings_df[\"review_id\"] = df.review_id\n",
    "embeddings_df[\"label\"] = df.label\n",
    "embeddings_df = embeddings_features(embeddings_df)\n",
    "\n",
    "# apply tsne to reduce to `dims` dimensions\n",
    "dims = 3\n",
    "embd_df = tsne_features(embeddings_df.drop(columns=[\"review_id\", \"label\"], axis=1), dims=dims)\n",
    "embeddings_df = embeddings_df.reset_index()\n",
    "embd_df[\"review_id\"] = embeddings_df.review_id\n",
    "embd_df[\"label\"] = embeddings_df.label\n",
    "\n",
    "# plot 3d scatter with plotly\n",
    "fig = px.scatter_3d(embd_df, x=\"tsne_0\", y=\"tsne_1\", z=\"tsne_2\", color=\"label\", title=\"t-SNE embeddings of reviews\", )\n",
    "# make size of point smaller and opaque\n",
    "fig.update_traces(marker=dict(size=4, opacity=0.5))\n",
    "# make inital zoom bigger\n",
    "fig.update_layout(scene=dict(camera_eye=dict(x=0.9, y=0.9, z=0.9)))\n",
    "fig.show()"
   ]
  },
  {
   "attachments": {},
   "cell_type": "markdown",
   "metadata": {},
   "source": [
    "It looks like the \"mbad\" labels are mostly together. The \"mgood\" are kind of in the  middle, but there is still lots of noise of \"good\" labels in that region."
   ]
  },
  {
   "attachments": {},
   "cell_type": "markdown",
   "metadata": {},
   "source": [
    "# Generate Features"
   ]
  },
  {
   "attachments": {},
   "cell_type": "markdown",
   "metadata": {},
   "source": [
    "With what we know, let's generate some features. I've provided a function for each type of feature, so we can mix and match."
   ]
  },
  {
   "cell_type": "code",
   "execution_count": 59,
   "metadata": {},
   "outputs": [
    {
     "name": "stdout",
     "output_type": "stream",
     "text": [
      "Creating model...\n",
      "Generating embeddings...\n",
      "Applying t-SNE... (dim=3)\n",
      "Adding amenities features...\n",
      "(1629, 36)\n"
     ]
    },
    {
     "data": {
      "text/html": [
       "<div>\n",
       "<style scoped>\n",
       "    .dataframe tbody tr th:only-of-type {\n",
       "        vertical-align: middle;\n",
       "    }\n",
       "\n",
       "    .dataframe tbody tr th {\n",
       "        vertical-align: top;\n",
       "    }\n",
       "\n",
       "    .dataframe thead th {\n",
       "        text-align: right;\n",
       "    }\n",
       "</style>\n",
       "<table border=\"1\" class=\"dataframe\">\n",
       "  <thead>\n",
       "    <tr style=\"text-align: right;\">\n",
       "      <th></th>\n",
       "      <th>tsne_0</th>\n",
       "      <th>tsne_1</th>\n",
       "      <th>tsne_2</th>\n",
       "      <th>kitchen</th>\n",
       "      <th>garden</th>\n",
       "      <th>microwave</th>\n",
       "      <th>backyard</th>\n",
       "      <th>iron</th>\n",
       "      <th>shampoo</th>\n",
       "      <th>wifi</th>\n",
       "      <th>...</th>\n",
       "      <th>silverware</th>\n",
       "      <th>bathtub</th>\n",
       "      <th>lockbox</th>\n",
       "      <th>crib</th>\n",
       "      <th>elevator</th>\n",
       "      <th>gym</th>\n",
       "      <th>oven</th>\n",
       "      <th>toilet</th>\n",
       "      <th>review_id</th>\n",
       "      <th>label</th>\n",
       "    </tr>\n",
       "  </thead>\n",
       "  <tbody>\n",
       "    <tr>\n",
       "      <th>0</th>\n",
       "      <td>-5.613824</td>\n",
       "      <td>-3.080757</td>\n",
       "      <td>2.447573</td>\n",
       "      <td>0.0</td>\n",
       "      <td>0.0</td>\n",
       "      <td>0.0</td>\n",
       "      <td>0.0</td>\n",
       "      <td>0.0</td>\n",
       "      <td>0.0</td>\n",
       "      <td>0.0</td>\n",
       "      <td>...</td>\n",
       "      <td>0.0</td>\n",
       "      <td>0.0</td>\n",
       "      <td>0.0</td>\n",
       "      <td>0.0</td>\n",
       "      <td>0.0</td>\n",
       "      <td>0.0</td>\n",
       "      <td>0.0</td>\n",
       "      <td>0.0</td>\n",
       "      <td>83097</td>\n",
       "      <td>good</td>\n",
       "    </tr>\n",
       "    <tr>\n",
       "      <th>1</th>\n",
       "      <td>-2.376282</td>\n",
       "      <td>7.860886</td>\n",
       "      <td>2.428963</td>\n",
       "      <td>0.0</td>\n",
       "      <td>0.0</td>\n",
       "      <td>0.0</td>\n",
       "      <td>0.0</td>\n",
       "      <td>0.0</td>\n",
       "      <td>0.0</td>\n",
       "      <td>0.0</td>\n",
       "      <td>...</td>\n",
       "      <td>0.0</td>\n",
       "      <td>0.0</td>\n",
       "      <td>0.0</td>\n",
       "      <td>0.0</td>\n",
       "      <td>0.0</td>\n",
       "      <td>0.0</td>\n",
       "      <td>0.0</td>\n",
       "      <td>0.0</td>\n",
       "      <td>133337</td>\n",
       "      <td>good</td>\n",
       "    </tr>\n",
       "    <tr>\n",
       "      <th>2</th>\n",
       "      <td>-5.809454</td>\n",
       "      <td>-2.778553</td>\n",
       "      <td>-1.081195</td>\n",
       "      <td>1.0</td>\n",
       "      <td>0.0</td>\n",
       "      <td>0.0</td>\n",
       "      <td>0.0</td>\n",
       "      <td>0.0</td>\n",
       "      <td>0.0</td>\n",
       "      <td>0.0</td>\n",
       "      <td>...</td>\n",
       "      <td>0.0</td>\n",
       "      <td>0.0</td>\n",
       "      <td>0.0</td>\n",
       "      <td>0.0</td>\n",
       "      <td>0.0</td>\n",
       "      <td>0.0</td>\n",
       "      <td>0.0</td>\n",
       "      <td>0.0</td>\n",
       "      <td>150928</td>\n",
       "      <td>good</td>\n",
       "    </tr>\n",
       "    <tr>\n",
       "      <th>3</th>\n",
       "      <td>-10.103469</td>\n",
       "      <td>-1.812967</td>\n",
       "      <td>-2.710917</td>\n",
       "      <td>0.0</td>\n",
       "      <td>0.0</td>\n",
       "      <td>0.0</td>\n",
       "      <td>0.0</td>\n",
       "      <td>0.0</td>\n",
       "      <td>0.0</td>\n",
       "      <td>0.0</td>\n",
       "      <td>...</td>\n",
       "      <td>0.0</td>\n",
       "      <td>0.0</td>\n",
       "      <td>0.0</td>\n",
       "      <td>0.0</td>\n",
       "      <td>0.0</td>\n",
       "      <td>0.0</td>\n",
       "      <td>0.0</td>\n",
       "      <td>0.0</td>\n",
       "      <td>2706775</td>\n",
       "      <td>good</td>\n",
       "    </tr>\n",
       "    <tr>\n",
       "      <th>4</th>\n",
       "      <td>1.280295</td>\n",
       "      <td>-2.094504</td>\n",
       "      <td>4.721372</td>\n",
       "      <td>1.0</td>\n",
       "      <td>1.0</td>\n",
       "      <td>0.0</td>\n",
       "      <td>0.0</td>\n",
       "      <td>0.0</td>\n",
       "      <td>0.0</td>\n",
       "      <td>0.0</td>\n",
       "      <td>...</td>\n",
       "      <td>0.0</td>\n",
       "      <td>0.0</td>\n",
       "      <td>0.0</td>\n",
       "      <td>0.0</td>\n",
       "      <td>0.0</td>\n",
       "      <td>0.0</td>\n",
       "      <td>0.0</td>\n",
       "      <td>0.0</td>\n",
       "      <td>8602878</td>\n",
       "      <td>good</td>\n",
       "    </tr>\n",
       "  </tbody>\n",
       "</table>\n",
       "<p>5 rows × 36 columns</p>\n",
       "</div>"
      ],
      "text/plain": [
       "      tsne_0    tsne_1    tsne_2  kitchen  garden  microwave  backyard  iron  \\\n",
       "0  -5.613824 -3.080757  2.447573      0.0     0.0        0.0       0.0   0.0   \n",
       "1  -2.376282  7.860886  2.428963      0.0     0.0        0.0       0.0   0.0   \n",
       "2  -5.809454 -2.778553 -1.081195      1.0     0.0        0.0       0.0   0.0   \n",
       "3 -10.103469 -1.812967 -2.710917      0.0     0.0        0.0       0.0   0.0   \n",
       "4   1.280295 -2.094504  4.721372      1.0     1.0        0.0       0.0   0.0   \n",
       "\n",
       "   shampoo  wifi  ...  silverware  bathtub  lockbox  crib  elevator  gym  \\\n",
       "0      0.0   0.0  ...         0.0      0.0      0.0   0.0       0.0  0.0   \n",
       "1      0.0   0.0  ...         0.0      0.0      0.0   0.0       0.0  0.0   \n",
       "2      0.0   0.0  ...         0.0      0.0      0.0   0.0       0.0  0.0   \n",
       "3      0.0   0.0  ...         0.0      0.0      0.0   0.0       0.0  0.0   \n",
       "4      0.0   0.0  ...         0.0      0.0      0.0   0.0       0.0  0.0   \n",
       "\n",
       "   oven  toilet  review_id  label  \n",
       "0   0.0     0.0      83097   good  \n",
       "1   0.0     0.0     133337   good  \n",
       "2   0.0     0.0     150928   good  \n",
       "3   0.0     0.0    2706775   good  \n",
       "4   0.0     0.0    8602878   good  \n",
       "\n",
       "[5 rows x 36 columns]"
      ]
     },
     "execution_count": 59,
     "metadata": {},
     "output_type": "execute_result"
    }
   ],
   "source": [
    "features = pd.DataFrame()\n",
    "\n",
    "# get the embeddings\n",
    "features = embeddings_features(features)\n",
    "\n",
    "# apply tsne to reduce to `dims` dimensions\n",
    "dims = 3\n",
    "features = tsne_features(features, dims=dims)\n",
    "\n",
    "# get the amenities\n",
    "features = amenities_features(features)\n",
    "\n",
    "# fill missing values with 0\n",
    "features = features.fillna(0)\n",
    "\n",
    "features[\"review_id\"] = df.review_id\n",
    "features[\"label\"] = df.label\n",
    "\n",
    "print(features.shape)\n",
    "features.head()"
   ]
  },
  {
   "cell_type": "code",
   "execution_count": 61,
   "metadata": {},
   "outputs": [
    {
     "data": {
      "application/vnd.plotly.v1+json": {
       "config": {
        "plotlyServerURL": "https://plot.ly"
       },
       "data": [
        {
         "coloraxis": "coloraxis",
         "hovertemplate": "x: %{x}<br>y: %{y}<br>color: %{z}<extra></extra>",
         "name": "0",
         "type": "heatmap",
         "x": [
          "tsne_0",
          "tsne_1",
          "tsne_2",
          "kitchen",
          "garden",
          "microwave",
          "backyard",
          "iron",
          "shampoo",
          "wifi",
          "pool",
          "heating",
          "keypad",
          "refrigerator",
          "dog",
          "cat",
          "tv",
          "family",
          "internet",
          "patio",
          "washer",
          "dryer",
          "balcony",
          "stove",
          "breakfast",
          "dishwasher",
          "silverware",
          "bathtub",
          "lockbox",
          "crib",
          "elevator",
          "gym",
          "oven",
          "toilet"
         ],
         "xaxis": "x",
         "y": [
          "tsne_0",
          "tsne_1",
          "tsne_2",
          "kitchen",
          "garden",
          "microwave",
          "backyard",
          "iron",
          "shampoo",
          "wifi",
          "pool",
          "heating",
          "keypad",
          "refrigerator",
          "dog",
          "cat",
          "tv",
          "family",
          "internet",
          "patio",
          "washer",
          "dryer",
          "balcony",
          "stove",
          "breakfast",
          "dishwasher",
          "silverware",
          "bathtub",
          "lockbox",
          "crib",
          "elevator",
          "gym",
          "oven",
          "toilet"
         ],
         "yaxis": "y",
         "z": [
          [
           1,
           0.07905252321027394,
           0.010560681400126037,
           -0.024875615697368236,
           0.008073980392037326,
           0.01943804559039296,
           -0.021879936908864726,
           0.0057969818264794,
           0.03178640006248936,
           0.03214214770040121,
           0.020169129250437096,
           0.029226498493533287,
           0.014794363444507744,
           0.007246196893363213,
           -0.00022932193386609122,
           0.014036414321735049,
           0.057191891741173305,
           -0.05404252127059787,
           0.017317949432198727,
           0.0331681384391169,
           0.0321152439186738,
           0.014724984110687988,
           -0.009145365655457262,
           0.03180553849838285,
           -0.008234136904725341,
           0.00568658971618354,
           0.028317562663520365,
           0.00834165095010501,
           0.019853040807682958,
           0.01052323009751632,
           0.006799054218168035,
           -0.0006219580887128642,
           0.005841219083991468,
           null
          ],
          [
           0.07905252321027394,
           1,
           0.12752360178245484,
           -0.26476320377757456,
           -0.003626521869416528,
           -0.049304671579980267,
           0.0014630646009506977,
           0.023855120611920952,
           -0.06587961993597037,
           -0.010401171941817253,
           -0.08069301707489825,
           -0.012836223686591671,
           0.013731757328916464,
           -0.07678802444894836,
           -0.04361147749602383,
           -0.014616933833652604,
           -0.14312528004034514,
           -0.06702440289369169,
           -0.03494069147054934,
           -0.015854973219515744,
           -0.1201703483757333,
           -0.11214009101558119,
           -0.02310445911709105,
           -0.07565754006144994,
           -0.03437385026671314,
           -0.017344433156370836,
           -0.046015541900808955,
           -0.05461921979078251,
           -0.02989800368959099,
           -0.05707219732990059,
           -0.018284488303065862,
           0.04256460454496424,
           -0.03286770191771576,
           null
          ],
          [
           0.010560681400126037,
           0.12752360178245484,
           1,
           0.19702286244891953,
           0.018567269948040064,
           0.05530646326844552,
           0.0429768577646225,
           0.05914346038832225,
           0.0843662830648733,
           0.037646481204850035,
           0.07177734453751655,
           0.023413737739300625,
           -0.03507234202767741,
           0.03070003708412121,
           -0.04723559350262985,
           -0.022380759012235015,
           0.06633005988659654,
           0.02011915604214623,
           0.026484166140733005,
           0.05651193321703701,
           0.06600154384767185,
           0.06719219064203248,
           0.05673341128201208,
           0.03776248370047337,
           -0.05882622025470348,
           0.018337393127729577,
           0.02095403216898817,
           0.014012239696986936,
           -0.030674559818400792,
           0.02768581553507581,
           0.06908415111585356,
           0.031863577471783776,
           0.013579202948100524,
           null
          ],
          [
           -0.024875615697368236,
           -0.26476320377757456,
           0.19702286244891953,
           1,
           0.011864075146430347,
           0.05069235244799307,
           0.011615181055131908,
           0.0809985935831982,
           0.02059695927685996,
           0.04826451391003089,
           0.08137012737690118,
           0.030389742943857538,
           0.0019059159843961176,
           0.08771854881155781,
           -0.0245820439961028,
           -0.03211846740662926,
           0.10585374945491878,
           0.09872365840175026,
           0.027005099164599315,
           0.07097012247205542,
           0.12846030339248565,
           0.11154066456654045,
           0.028068352204111417,
           0.06321608424566497,
           -0.05057041421645419,
           0.02289652292870036,
           0.03990748218909169,
           0.0731968461136278,
           -0.01679384242908895,
           0.05292518427847174,
           0.01822365957009023,
           0.0019059159843960978,
           0.0717435686171184,
           null
          ],
          [
           0.008073980392037326,
           -0.003626521869416528,
           0.018567269948040064,
           0.011864075146430347,
           1,
           0.030680421240382342,
           0.058482081007945774,
           -0.011643984647128536,
           -0.018667714602268286,
           -0.029889069545355227,
           0.0014365397722063066,
           -0.0072034843324549356,
           -0.007203484332454935,
           0.04504553410788717,
           0.0939739786329773,
           0.017109716330023138,
           0.08924445677384774,
           0.015884021323647857,
           -0.016533718495266893,
           0.07041219616654434,
           0.01468035847331693,
           0.007455956364152346,
           -0.009676412496452296,
           -0.010202983911260994,
           -0.019516142867197713,
           -0.007893452347378267,
           -0.006441009492646015,
           -0.004551681316607404,
           -0.004551681316607403,
           0.10657047964011294,
           -0.010704286147158572,
           -0.00720348433245494,
           -0.006441009492646019,
           null
          ],
          [
           0.01943804559039296,
           -0.049304671579980267,
           0.05530646326844552,
           0.05069235244799307,
           0.030680421240382342,
           1,
           -0.019726484138269117,
           -0.009743497103689512,
           -0.015620840173862477,
           0.027290223964902136,
           0.00421558057302428,
           -0.006027758611572545,
           -0.006027758611572551,
           0.19123057856131667,
           0.01599697403391741,
           0.026716180340982526,
           -0.0031740136130782278,
           -0.01988673389422393,
           -0.013835146915242402,
           0.03827037373161806,
           -0.015860722884632347,
           -0.018310176501700724,
           -0.008097064706843142,
           0.2842601786940083,
           0.022562277255688767,
           0.18216205365280502,
           -0.0053897320580811306,
           -0.0038087729475166053,
           -0.0038087729475166066,
           -0.004666209345985504,
           -0.008957172671781501,
           -0.006027758611572539,
           0.22565957116860683,
           null
          ],
          [
           -0.021879936908864726,
           0.0014630646009506977,
           0.0429768577646225,
           0.011615181055131908,
           0.058482081007945774,
           -0.019726484138269117,
           1,
           0.02296058916440674,
           -0.026111171159209294,
           -0.02583515182053559,
           0.04470978939787121,
           0.053052751767465725,
           -0.01007576001427401,
           -0.015643050172142552,
           0.07444876233548012,
           0.0513836027476223,
           0.028091116312944923,
           0.036691816112198655,
           0.0047381501085910485,
           0.04116122243203105,
           0.046771150610516614,
           0.033314061333199266,
           0.0335765398760401,
           -0.014271262707713733,
           -0.027297896803664515,
           -0.011040841885080706,
           -0.009009260366565503,
           -0.006366592400425359,
           -0.006366592400425359,
           -0.007799848762398723,
           -0.01497245129790278,
           -0.010075760014273974,
           -0.009009260366565502,
           null
          ],
          [
           0.0057969818264794,
           0.023855120611920952,
           0.05914346038832225,
           0.0809985935831982,
           -0.011643984647128536,
           -0.009743497103689512,
           0.02296058916440674,
           1,
           -0.012897083878730153,
           0.01090596143021409,
           -0.03682591464255716,
           -0.00497671748439423,
           -0.004976717484394229,
           -0.007726567642606528,
           -0.015289365272302055,
           -0.012492330265750801,
           0.03574130953735542,
           0.012608017704729671,
           -0.01142275628291741,
           0.05091135613653562,
           -0.013095139003001468,
           0.026978903752065686,
           -0.006685205247179743,
           -0.007049001022378935,
           -0.013483242963064522,
           -0.005453400118112326,
           -0.004449941594899836,
           -0.0031446493039057684,
           -0.003144649303905769,
           -0.0038525772404730493,
           -0.007395338917655142,
           -0.00497671748439422,
           -0.004449941594899847,
           null
          ],
          [
           0.03178640006248936,
           -0.06587961993597037,
           0.0843662830648733,
           0.02059695927685996,
           -0.018667714602268286,
           -0.015620840173862477,
           -0.026111171159209294,
           -0.012897083878730153,
           1,
           0.04661218690214679,
           0.015370839490427125,
           -0.00797870698650401,
           -0.007978706986504033,
           -0.012387285278916001,
           0.00179238042430538,
           -0.020027788011196215,
           0.01905763070676112,
           0.005208748190333162,
           0.016456123175944127,
           -0.016432632833425564,
           0.009486690752623405,
           0.028936864898277976,
           -0.010717766073550556,
           -0.011301005910319344,
           0.008024279319083068,
           -0.008742927795082747,
           -0.007134176332913524,
           -0.005041522941548283,
           -0.005041522941548281,
           -0.006176477776967932,
           -0.011856257156426108,
           -0.007978706986504007,
           -0.007134176332913517,
           null
          ],
          [
           0.03214214770040121,
           -0.010401171941817253,
           0.037646481204850035,
           0.04826451391003089,
           -0.029889069545355227,
           0.027290223964902136,
           -0.02583515182053559,
           0.01090596143021409,
           0.04661218690214679,
           1,
           0.0013637268612546253,
           -0.012774789688109611,
           -0.012774789688109618,
           0.013000558163279309,
           0.028550429812698647,
           0.029581591099389175,
           0.15563115559351948,
           0.008883874971640907,
           0.10509970938543846,
           -0.0014209480355067883,
           0.025306993487497292,
           0.0639813319398394,
           -0.01716032531932308,
           0.017851430120041253,
           -0.03461028151727582,
           0.03234994126849187,
           -0.011422602986300713,
           -0.008072034152275436,
           -0.008072034152275436,
           -0.009889221993928695,
           -0.018983175083091115,
           -0.012774789688109597,
           0.04530733684505262,
           null
          ],
          [
           0.020169129250437096,
           -0.08069301707489825,
           0.07177734453751655,
           0.08137012737690118,
           0.0014365397722063066,
           0.00421558057302428,
           0.04470978939787121,
           -0.03682591464255716,
           0.015370839490427125,
           0.0013637268612546253,
           1,
           -0.022782140924704944,
           -0.02278214092470497,
           0.025925642355142442,
           0.01438663957001725,
           -0.006036591493264678,
           0.07388115557521283,
           0.10154937145774333,
           0.017415889493719024,
           0.07698500666096471,
           0.03782837808998307,
           0.0480599710279741,
           0.0636806208030097,
           0.01246800897210301,
           0.09278124908364205,
           0.032719131241400995,
           0.014931286390929338,
           0.03549844617127071,
           -0.014395400949523109,
           0.02311456662239284,
           0.07281550609160353,
           0.13514172105973926,
           0.05023326829343121,
           null
          ],
          [
           0.029226498493533287,
           -0.012836223686591671,
           0.023413737739300625,
           0.030389742943857538,
           -0.0072034843324549356,
           -0.006027758611572545,
           0.053052751767465725,
           -0.00497671748439423,
           -0.00797870698650401,
           -0.012774789688109611,
           -0.022782140924704944,
           1,
           -0.0030788177339901644,
           -0.004779996766046491,
           -0.009458678152703398,
           -0.007728308484791731,
           0.03293311116108503,
           -0.01949550566039891,
           -0.007066622673513937,
           -0.006341012581271344,
           0.0695276378903826,
           0.05835865144805561,
           -0.004135763891545543,
           -0.004360824061777477,
           -0.008341330942846129,
           -0.0033737147119236055,
           -0.002752930850617836,
           -0.0019454192596635527,
           -0.0019454192596635527,
           -0.002383374818186825,
           -0.00457508401470283,
           -0.003078817733990152,
           -0.002752930850617837,
           null
          ],
          [
           0.014794363444507744,
           0.013731757328916464,
           -0.03507234202767741,
           0.0019059159843961176,
           -0.007203484332454935,
           -0.006027758611572551,
           -0.01007576001427401,
           -0.004976717484394229,
           -0.007978706986504033,
           -0.012774789688109618,
           -0.02278214092470497,
           -0.0030788177339901644,
           1,
           0.12499691543211555,
           -0.009458678152703456,
           -0.007728308484791754,
           -0.013962027021963506,
           -0.019495505660398944,
           -0.007066622673513951,
           -0.006341012581271351,
           -0.008101232653437334,
           -0.009352347988470469,
           -0.004135763891545546,
           -0.004360824061777482,
           -0.008341330942846156,
           -0.003373714711923606,
           -0.002752930850617838,
           -0.0019454192596635549,
           -0.0019454192596635546,
           -0.0023833748181868275,
           -0.004575084014702836,
           -0.0030788177339901557,
           -0.002752930850617843,
           null
          ],
          [
           0.007246196893363213,
           -0.07678802444894836,
           0.03070003708412121,
           0.08771854881155781,
           0.04504553410788717,
           0.19123057856131667,
           -0.015643050172142552,
           -0.007726567642606528,
           -0.012387285278916001,
           0.013000558163279309,
           0.025925642355142442,
           -0.004779996766046491,
           0.12499691543211555,
           1,
           -0.014685004078627783,
           -0.011998530850489264,
           0.00865948511691297,
           0.01564108330866387,
           0.04631127170092883,
           0.05379422284276199,
           -0.012577511639259797,
           -0.014519921931816832,
           -0.006420951071078499,
           0.2689528152352282,
           0.03588305238703084,
           -0.0052378369899989214,
           -0.004274043382895804,
           -0.003020346955629844,
           -0.0030203469556298428,
           0.16373791083393807,
           -0.007103014430908975,
           -0.004779996766046484,
           0.14077630392413054,
           null
          ],
          [
           -0.00022932193386609122,
           -0.04361147749602383,
           -0.04723559350262985,
           -0.0245820439961028,
           0.0939739786329773,
           0.01599697403391741,
           0.07444876233548012,
           -0.015289365272302055,
           0.00179238042430538,
           0.028550429812698647,
           0.01438663957001725,
           -0.009458678152703398,
           -0.009458678152703456,
           -0.014685004078627783,
           1,
           0.16611596159586364,
           -0.011574223485822738,
           0.011201877806891629,
           -0.021709927404094574,
           -0.019480723560325125,
           -0.024888434109974638,
           -0.02873208394846418,
           -0.012705805586939832,
           -0.013397230640042135,
           0.07520691214161815,
           -0.010364654356388054,
           -0.00845749542273017,
           -0.005976675542069284,
           -0.005976675542069282,
           -0.007322153264743837,
           -0.014055475495968668,
           -0.009458678152703421,
           -0.008457495422730164,
           null
          ],
          [
           0.014036414321735049,
           -0.014616933833652604,
           -0.022380759012235015,
           -0.03211846740662926,
           0.017109716330023138,
           0.026716180340982526,
           0.0513836027476223,
           -0.012492330265750801,
           -0.020027788011196215,
           0.029581591099389175,
           -0.006036591493264678,
           -0.007728308484791731,
           -0.007728308484791754,
           -0.011998530850489264,
           0.16611596159586364,
           1,
           -0.035046846296708296,
           0.02289417178065575,
           0.01811244858395983,
           -0.01591692187328666,
           0.011093761069133642,
           0.003937882718831994,
           -0.010381406739756398,
           -0.010946342560409184,
           0.04018750958083097,
           -0.008468545489256742,
           -0.006910282026764151,
           -0.004883303095519735,
           -0.0048833030955197304,
           -0.005982639253529516,
           -0.011484168165953594,
           -0.007728308484791766,
           -0.006910282026764148,
           null
          ],
          [
           0.057191891741173305,
           -0.14312528004034514,
           0.06633005988659654,
           0.10585374945491878,
           0.08924445677384774,
           -0.0031740136130782278,
           0.028091116312944923,
           0.03574130953735542,
           0.01905763070676112,
           0.15563115559351948,
           0.07388115557521283,
           0.03293311116108503,
           -0.013962027021963506,
           0.00865948511691297,
           -0.011574223485822738,
           -0.035046846296708296,
           1,
           0.03600944979334015,
           0.09214867830420027,
           0.04023249265359415,
           0.12657791995750337,
           0.13169472689744502,
           -0.018755136613879383,
           0.013435280575162316,
           -0.020180804109777812,
           -0.015299345411794287,
           0.039930049943189105,
           -0.008822216389298499,
           -0.0088222163892985,
           0.11019995027383174,
           -0.020747394669007893,
           -0.01396202702196351,
           0.039930049943189064,
           null
          ],
          [
           -0.05404252127059787,
           -0.06702440289369169,
           0.02011915604214623,
           0.09872365840175026,
           0.015884021323647857,
           -0.01988673389422393,
           0.036691816112198655,
           0.012608017704729671,
           0.005208748190333162,
           0.008883874971640907,
           0.10154937145774333,
           -0.01949550566039891,
           -0.019495505660398944,
           0.01564108330866387,
           0.011201877806891629,
           0.02289417178065575,
           0.03600944979334015,
           1,
           0.0022402267011233747,
           0.06424989843732538,
           0.07227761441968232,
           0.07252015129425608,
           0.05325429190763918,
           -0.0024836588110887783,
           -0.026114163360699136,
           -0.02136283468058261,
           0.06188827121430482,
           0.04373471085936253,
           0.04373471085936256,
           0.12225252628497628,
           -0.00500245049190569,
           -0.01949550566039893,
           0.06188827121430477,
           null
          ],
          [
           0.017317949432198727,
           -0.03494069147054934,
           0.026484166140733005,
           0.027005099164599315,
           -0.016533718495266893,
           -0.013835146915242402,
           0.0047381501085910485,
           -0.01142275628291741,
           0.016456123175944127,
           0.10509970938543846,
           0.017415889493719024,
           -0.007066622673513937,
           -0.007066622673513951,
           0.04631127170092883,
           -0.021709927404094574,
           0.01811244858395983,
           0.09214867830420027,
           0.0022402267011233747,
           1,
           0.028868375913645664,
           0.08420005064575588,
           0.09808253315519369,
           -0.00949256676211854,
           -0.01000913365216457,
           0.014174921457387836,
           -0.007743481731329772,
           -0.00631863437475389,
           -0.004465202242424508,
           -0.00446520224242451,
           -0.005470414940040438,
           -0.010500911461761011,
           -0.00706662267351394,
           -0.006318634374753886,
           null
          ],
          [
           0.0331681384391169,
           -0.015854973219515744,
           0.05651193321703701,
           0.07097012247205542,
           0.07041219616654434,
           0.03827037373161806,
           0.04116122243203105,
           0.05091135613653562,
           -0.016432632833425564,
           -0.0014209480355067883,
           0.07698500666096471,
           -0.006341012581271344,
           -0.006341012581271351,
           0.05379422284276199,
           -0.019480723560325125,
           -0.01591692187328666,
           0.04023249265359415,
           0.06424989843732538,
           0.028868375913645664,
           1,
           0.05944901115596104,
           0.047145377514741765,
           -0.008517857546399964,
           0.06068848575650224,
           0.0938735814074246,
           -0.006948370862539734,
           0.10428434935668858,
           -0.004006709414846326,
           -0.004006709414846327,
           -0.004908705553160979,
           -0.009422664088661792,
           -0.0063410125812713505,
           0.10428434935668873,
           null
          ],
          [
           0.0321152439186738,
           -0.1201703483757333,
           0.06600154384767185,
           0.12846030339248565,
           0.01468035847331693,
           -0.015860722884632347,
           0.046771150610516614,
           -0.013095139003001468,
           0.009486690752623405,
           0.025306993487497292,
           0.03782837808998307,
           0.0695276378903826,
           -0.008101232653437334,
           -0.012577511639259797,
           -0.024888434109974638,
           0.011093761069133642,
           0.12657791995750337,
           0.07227761441968232,
           0.08420005064575588,
           0.05944901115596104,
           1,
           0.7614205711068208,
           -0.010882354325559097,
           -0.011474550732622173,
           -0.021948380334855022,
           0.06200977806872952,
           0.16628628015064809,
           0.11750986478657038,
           -0.0051189435012727715,
           -0.006271327363523984,
           -0.012038328739939713,
           -0.008101232653437323,
           0.07952127362745612,
           null
          ],
          [
           0.014724984110687988,
           -0.11214009101558119,
           0.06719219064203248,
           0.11154066456654045,
           0.007455956364152346,
           -0.018310176501700724,
           0.033314061333199266,
           0.026978903752065686,
           0.028936864898277976,
           0.0639813319398394,
           0.0480599710279741,
           0.05835865144805561,
           -0.009352347988470469,
           -0.014519921931816832,
           -0.02873208394846418,
           0.003937882718831994,
           0.13169472689744502,
           0.07252015129425608,
           0.09808253315519369,
           0.047145377514741765,
           0.7614205711068208,
           1,
           -0.01256297269074014,
           -0.013246625057398929,
           -0.025337982435027436,
           -0.010248139619112912,
           0.14299738371121265,
           0.10105225283477728,
           -0.005909488469870007,
           -0.007239840943020884,
           -0.013897470223590142,
           -0.00935234798847045,
           0.06731748180557086,
           null
          ],
          [
           -0.009145365655457262,
           -0.02310445911709105,
           0.05673341128201208,
           0.028068352204111417,
           -0.009676412496452296,
           -0.008097064706843142,
           0.0335765398760401,
           -0.006685205247179743,
           -0.010717766073550556,
           -0.01716032531932308,
           0.0636806208030097,
           -0.004135763891545543,
           -0.004135763891545546,
           -0.006420951071078499,
           -0.012705805586939832,
           -0.010381406739756398,
           -0.018755136613879383,
           0.05325429190763918,
           -0.00949256676211854,
           -0.008517857546399964,
           -0.010882354325559097,
           -0.01256297269074014,
           1,
           -0.005857878007188302,
           -0.011204877424213569,
           -0.004531897855436424,
           -0.0036980013081681948,
           -0.0026132741276653727,
           -0.0026132741276653736,
           -0.0032015781266470753,
           -0.006145692568904678,
           0.14557888898240315,
           -0.003698001308168194,
           null
          ],
          [
           0.03180553849838285,
           -0.07565754006144994,
           0.03776248370047337,
           0.06321608424566497,
           -0.010202983911260994,
           0.2842601786940083,
           -0.014271262707713733,
           -0.007049001022378935,
           -0.011301005910319344,
           0.017851430120041253,
           0.01246800897210301,
           -0.004360824061777477,
           -0.004360824061777482,
           0.2689528152352282,
           -0.013397230640042135,
           -0.010946342560409184,
           0.013435280575162316,
           -0.0024836588110887783,
           -0.01000913365216457,
           0.06068848575650224,
           -0.011474550732622173,
           -0.013246625057398929,
           -0.005857878007188302,
           1,
           0.041646552795685535,
           0.12495816359091616,
           -0.0038992392960609684,
           -0.0027554833870569355,
           -0.002755483387056935,
           -0.003375801737348595,
           -0.006480129120898915,
           -0.004360824061777476,
           0.15489728103602193,
           null
          ],
          [
           -0.008234136904725341,
           -0.03437385026671314,
           -0.05882622025470348,
           -0.05057041421645419,
           -0.019516142867197713,
           0.022562277255688767,
           -0.027297896803664515,
           -0.013483242963064522,
           0.008024279319083068,
           -0.03461028151727582,
           0.09278124908364205,
           -0.008341330942846129,
           -0.008341330942846156,
           0.03588305238703084,
           0.07520691214161815,
           0.04018750958083097,
           -0.020180804109777812,
           -0.026114163360699136,
           0.014174921457387836,
           0.0938735814074246,
           -0.021948380334855022,
           -0.025337982435027436,
           -0.011204877424213569,
           0.041646552795685535,
           1,
           -0.009140284794459871,
           -0.007458417247069096,
           -0.005270654929744647,
           -0.0052706549297446515,
           -0.006457192285162285,
           -0.012395111745865868,
           -0.008341330942846139,
           -0.007458417247069086,
           null
          ],
          [
           0.00568658971618354,
           -0.017344433156370836,
           0.018337393127729577,
           0.02289652292870036,
           -0.007893452347378267,
           0.18216205365280502,
           -0.011040841885080706,
           -0.005453400118112326,
           -0.008742927795082747,
           0.03234994126849187,
           0.032719131241400995,
           -0.0033737147119236055,
           -0.003373714711923606,
           -0.0052378369899989214,
           -0.010364654356388054,
           -0.008468545489256742,
           -0.015299345411794287,
           -0.02136283468058261,
           -0.007743481731329772,
           -0.006948370862539734,
           0.06200977806872952,
           -0.010248139619112912,
           -0.004531897855436424,
           0.12495816359091616,
           -0.009140284794459871,
           1,
           -0.003016613555619937,
           -0.002131756454670156,
           -0.0021317564546701573,
           -0.002611660508309534,
           -0.005013297175174325,
           -0.0033737147119236024,
           0.20173603153208308,
           null
          ],
          [
           0.028317562663520365,
           -0.046015541900808955,
           0.02095403216898817,
           0.03990748218909169,
           -0.006441009492646015,
           -0.0053897320580811306,
           -0.009009260366565503,
           -0.004449941594899836,
           -0.007134176332913524,
           -0.011422602986300713,
           0.014931286390929338,
           -0.002752930850617836,
           -0.002752930850617838,
           -0.004274043382895804,
           -0.00845749542273017,
           -0.006910282026764151,
           0.039930049943189105,
           0.06188827121430482,
           -0.00631863437475389,
           0.10428434935668858,
           0.16628628015064809,
           0.14299738371121265,
           -0.0036980013081681948,
           -0.0038992392960609684,
           -0.007458417247069096,
           -0.003016613555619937,
           1,
           -0.0017395004056875592,
           -0.0017395004056875588,
           -0.0021310992180978445,
           -0.004090820248693631,
           -0.00275293085061784,
           -0.002461538461538464,
           null
          ],
          [
           0.00834165095010501,
           -0.05461921979078251,
           0.014012239696986936,
           0.0731968461136278,
           -0.004551681316607404,
           -0.0038087729475166053,
           -0.006366592400425359,
           -0.0031446493039057684,
           -0.005041522941548283,
           -0.008072034152275436,
           0.03549844617127071,
           -0.0019454192596635527,
           -0.0019454192596635549,
           -0.003020346955629844,
           -0.005976675542069284,
           -0.004883303095519735,
           -0.008822216389298499,
           0.04373471085936253,
           -0.004465202242424508,
           -0.004006709414846326,
           0.11750986478657038,
           0.10105225283477728,
           -0.0026132741276653727,
           -0.0027554833870569355,
           -0.005270654929744647,
           -0.002131756454670156,
           -0.0017395004056875592,
           1,
           -0.00122925629993854,
           -0.0015059882314919116,
           -0.0028908682896427043,
           -0.0019454192596635523,
           -0.001739500405687555,
           null
          ],
          [
           0.019853040807682958,
           -0.02989800368959099,
           -0.030674559818400792,
           -0.01679384242908895,
           -0.004551681316607403,
           -0.0038087729475166066,
           -0.006366592400425359,
           -0.003144649303905769,
           -0.005041522941548281,
           -0.008072034152275436,
           -0.014395400949523109,
           -0.0019454192596635527,
           -0.0019454192596635546,
           -0.0030203469556298428,
           -0.005976675542069282,
           -0.0048833030955197304,
           -0.0088222163892985,
           0.04373471085936256,
           -0.00446520224242451,
           -0.004006709414846327,
           -0.0051189435012727715,
           -0.005909488469870007,
           -0.0026132741276653736,
           -0.002755483387056935,
           -0.0052706549297446515,
           -0.0021317564546701573,
           -0.0017395004056875588,
           -0.00122925629993854,
           1,
           -0.0015059882314919129,
           -0.0028908682896427056,
           -0.001945419259663554,
           -0.0017395004056875562,
           null
          ],
          [
           0.01052323009751632,
           -0.05707219732990059,
           0.02768581553507581,
           0.05292518427847174,
           0.10657047964011294,
           -0.004666209345985504,
           -0.007799848762398723,
           -0.0038525772404730493,
           -0.006176477776967932,
           -0.009889221993928695,
           0.02311456662239284,
           -0.002383374818186825,
           -0.0023833748181868275,
           0.16373791083393807,
           -0.007322153264743837,
           -0.005982639253529516,
           0.11019995027383174,
           0.12225252628497628,
           -0.005470414940040438,
           -0.004908705553160979,
           -0.006271327363523984,
           -0.007239840943020884,
           -0.0032015781266470753,
           -0.003375801737348595,
           -0.006457192285162285,
           -0.002611660508309534,
           -0.0021310992180978445,
           -0.0015059882314919116,
           -0.0015059882314919129,
           1,
           -0.0035416646823064842,
           -0.002383374818186823,
           -0.00213109921809784,
           null
          ],
          [
           0.006799054218168035,
           -0.018284488303065862,
           0.06908415111585356,
           0.01822365957009023,
           -0.010704286147158572,
           -0.008957172671781501,
           -0.01497245129790278,
           -0.007395338917655142,
           -0.011856257156426108,
           -0.018983175083091115,
           0.07281550609160353,
           -0.00457508401470283,
           -0.004575084014702836,
           -0.007103014430908975,
           -0.014055475495968668,
           -0.011484168165953594,
           -0.020747394669007893,
           -0.00500245049190569,
           -0.010500911461761011,
           -0.009422664088661792,
           -0.012038328739939713,
           -0.013897470223590142,
           -0.006145692568904678,
           -0.006480129120898915,
           -0.012395111745865868,
           -0.005013297175174325,
           -0.004090820248693631,
           -0.0028908682896427043,
           -0.0028908682896427056,
           -0.0035416646823064842,
           1,
           -0.00457508401470283,
           -0.004090820248693631,
           null
          ],
          [
           -0.0006219580887128642,
           0.04256460454496424,
           0.031863577471783776,
           0.0019059159843960978,
           -0.00720348433245494,
           -0.006027758611572539,
           -0.010075760014273974,
           -0.00497671748439422,
           -0.007978706986504007,
           -0.012774789688109597,
           0.13514172105973926,
           -0.003078817733990152,
           -0.0030788177339901557,
           -0.004779996766046484,
           -0.009458678152703421,
           -0.007728308484791766,
           -0.01396202702196351,
           -0.01949550566039893,
           -0.00706662267351394,
           -0.0063410125812713505,
           -0.008101232653437323,
           -0.00935234798847045,
           0.14557888898240315,
           -0.004360824061777476,
           -0.008341330942846139,
           -0.0033737147119236024,
           -0.00275293085061784,
           -0.0019454192596635523,
           -0.001945419259663554,
           -0.002383374818186823,
           -0.00457508401470283,
           1,
           -0.0027529308506178338,
           null
          ],
          [
           0.005841219083991468,
           -0.03286770191771576,
           0.013579202948100524,
           0.0717435686171184,
           -0.006441009492646019,
           0.22565957116860683,
           -0.009009260366565502,
           -0.004449941594899847,
           -0.007134176332913517,
           0.04530733684505262,
           0.05023326829343121,
           -0.002752930850617837,
           -0.002752930850617843,
           0.14077630392413054,
           -0.008457495422730164,
           -0.006910282026764148,
           0.039930049943189064,
           0.06188827121430477,
           -0.006318634374753886,
           0.10428434935668873,
           0.07952127362745612,
           0.06731748180557086,
           -0.003698001308168194,
           0.15489728103602193,
           -0.007458417247069086,
           0.20173603153208308,
           -0.002461538461538464,
           -0.001739500405687555,
           -0.0017395004056875562,
           -0.00213109921809784,
           -0.004090820248693631,
           -0.0027529308506178338,
           1,
           null
          ],
          [
           null,
           null,
           null,
           null,
           null,
           null,
           null,
           null,
           null,
           null,
           null,
           null,
           null,
           null,
           null,
           null,
           null,
           null,
           null,
           null,
           null,
           null,
           null,
           null,
           null,
           null,
           null,
           null,
           null,
           null,
           null,
           null,
           null,
           null
          ]
         ]
        }
       ],
       "layout": {
        "coloraxis": {
         "colorscale": [
          [
           0,
           "#0d0887"
          ],
          [
           0.1111111111111111,
           "#46039f"
          ],
          [
           0.2222222222222222,
           "#7201a8"
          ],
          [
           0.3333333333333333,
           "#9c179e"
          ],
          [
           0.4444444444444444,
           "#bd3786"
          ],
          [
           0.5555555555555556,
           "#d8576b"
          ],
          [
           0.6666666666666666,
           "#ed7953"
          ],
          [
           0.7777777777777778,
           "#fb9f3a"
          ],
          [
           0.8888888888888888,
           "#fdca26"
          ],
          [
           1,
           "#f0f921"
          ]
         ]
        },
        "template": {
         "data": {
          "bar": [
           {
            "error_x": {
             "color": "#2a3f5f"
            },
            "error_y": {
             "color": "#2a3f5f"
            },
            "marker": {
             "line": {
              "color": "#E5ECF6",
              "width": 0.5
             },
             "pattern": {
              "fillmode": "overlay",
              "size": 10,
              "solidity": 0.2
             }
            },
            "type": "bar"
           }
          ],
          "barpolar": [
           {
            "marker": {
             "line": {
              "color": "#E5ECF6",
              "width": 0.5
             },
             "pattern": {
              "fillmode": "overlay",
              "size": 10,
              "solidity": 0.2
             }
            },
            "type": "barpolar"
           }
          ],
          "carpet": [
           {
            "aaxis": {
             "endlinecolor": "#2a3f5f",
             "gridcolor": "white",
             "linecolor": "white",
             "minorgridcolor": "white",
             "startlinecolor": "#2a3f5f"
            },
            "baxis": {
             "endlinecolor": "#2a3f5f",
             "gridcolor": "white",
             "linecolor": "white",
             "minorgridcolor": "white",
             "startlinecolor": "#2a3f5f"
            },
            "type": "carpet"
           }
          ],
          "choropleth": [
           {
            "colorbar": {
             "outlinewidth": 0,
             "ticks": ""
            },
            "type": "choropleth"
           }
          ],
          "contour": [
           {
            "colorbar": {
             "outlinewidth": 0,
             "ticks": ""
            },
            "colorscale": [
             [
              0,
              "#0d0887"
             ],
             [
              0.1111111111111111,
              "#46039f"
             ],
             [
              0.2222222222222222,
              "#7201a8"
             ],
             [
              0.3333333333333333,
              "#9c179e"
             ],
             [
              0.4444444444444444,
              "#bd3786"
             ],
             [
              0.5555555555555556,
              "#d8576b"
             ],
             [
              0.6666666666666666,
              "#ed7953"
             ],
             [
              0.7777777777777778,
              "#fb9f3a"
             ],
             [
              0.8888888888888888,
              "#fdca26"
             ],
             [
              1,
              "#f0f921"
             ]
            ],
            "type": "contour"
           }
          ],
          "contourcarpet": [
           {
            "colorbar": {
             "outlinewidth": 0,
             "ticks": ""
            },
            "type": "contourcarpet"
           }
          ],
          "heatmap": [
           {
            "colorbar": {
             "outlinewidth": 0,
             "ticks": ""
            },
            "colorscale": [
             [
              0,
              "#0d0887"
             ],
             [
              0.1111111111111111,
              "#46039f"
             ],
             [
              0.2222222222222222,
              "#7201a8"
             ],
             [
              0.3333333333333333,
              "#9c179e"
             ],
             [
              0.4444444444444444,
              "#bd3786"
             ],
             [
              0.5555555555555556,
              "#d8576b"
             ],
             [
              0.6666666666666666,
              "#ed7953"
             ],
             [
              0.7777777777777778,
              "#fb9f3a"
             ],
             [
              0.8888888888888888,
              "#fdca26"
             ],
             [
              1,
              "#f0f921"
             ]
            ],
            "type": "heatmap"
           }
          ],
          "heatmapgl": [
           {
            "colorbar": {
             "outlinewidth": 0,
             "ticks": ""
            },
            "colorscale": [
             [
              0,
              "#0d0887"
             ],
             [
              0.1111111111111111,
              "#46039f"
             ],
             [
              0.2222222222222222,
              "#7201a8"
             ],
             [
              0.3333333333333333,
              "#9c179e"
             ],
             [
              0.4444444444444444,
              "#bd3786"
             ],
             [
              0.5555555555555556,
              "#d8576b"
             ],
             [
              0.6666666666666666,
              "#ed7953"
             ],
             [
              0.7777777777777778,
              "#fb9f3a"
             ],
             [
              0.8888888888888888,
              "#fdca26"
             ],
             [
              1,
              "#f0f921"
             ]
            ],
            "type": "heatmapgl"
           }
          ],
          "histogram": [
           {
            "marker": {
             "pattern": {
              "fillmode": "overlay",
              "size": 10,
              "solidity": 0.2
             }
            },
            "type": "histogram"
           }
          ],
          "histogram2d": [
           {
            "colorbar": {
             "outlinewidth": 0,
             "ticks": ""
            },
            "colorscale": [
             [
              0,
              "#0d0887"
             ],
             [
              0.1111111111111111,
              "#46039f"
             ],
             [
              0.2222222222222222,
              "#7201a8"
             ],
             [
              0.3333333333333333,
              "#9c179e"
             ],
             [
              0.4444444444444444,
              "#bd3786"
             ],
             [
              0.5555555555555556,
              "#d8576b"
             ],
             [
              0.6666666666666666,
              "#ed7953"
             ],
             [
              0.7777777777777778,
              "#fb9f3a"
             ],
             [
              0.8888888888888888,
              "#fdca26"
             ],
             [
              1,
              "#f0f921"
             ]
            ],
            "type": "histogram2d"
           }
          ],
          "histogram2dcontour": [
           {
            "colorbar": {
             "outlinewidth": 0,
             "ticks": ""
            },
            "colorscale": [
             [
              0,
              "#0d0887"
             ],
             [
              0.1111111111111111,
              "#46039f"
             ],
             [
              0.2222222222222222,
              "#7201a8"
             ],
             [
              0.3333333333333333,
              "#9c179e"
             ],
             [
              0.4444444444444444,
              "#bd3786"
             ],
             [
              0.5555555555555556,
              "#d8576b"
             ],
             [
              0.6666666666666666,
              "#ed7953"
             ],
             [
              0.7777777777777778,
              "#fb9f3a"
             ],
             [
              0.8888888888888888,
              "#fdca26"
             ],
             [
              1,
              "#f0f921"
             ]
            ],
            "type": "histogram2dcontour"
           }
          ],
          "mesh3d": [
           {
            "colorbar": {
             "outlinewidth": 0,
             "ticks": ""
            },
            "type": "mesh3d"
           }
          ],
          "parcoords": [
           {
            "line": {
             "colorbar": {
              "outlinewidth": 0,
              "ticks": ""
             }
            },
            "type": "parcoords"
           }
          ],
          "pie": [
           {
            "automargin": true,
            "type": "pie"
           }
          ],
          "scatter": [
           {
            "fillpattern": {
             "fillmode": "overlay",
             "size": 10,
             "solidity": 0.2
            },
            "type": "scatter"
           }
          ],
          "scatter3d": [
           {
            "line": {
             "colorbar": {
              "outlinewidth": 0,
              "ticks": ""
             }
            },
            "marker": {
             "colorbar": {
              "outlinewidth": 0,
              "ticks": ""
             }
            },
            "type": "scatter3d"
           }
          ],
          "scattercarpet": [
           {
            "marker": {
             "colorbar": {
              "outlinewidth": 0,
              "ticks": ""
             }
            },
            "type": "scattercarpet"
           }
          ],
          "scattergeo": [
           {
            "marker": {
             "colorbar": {
              "outlinewidth": 0,
              "ticks": ""
             }
            },
            "type": "scattergeo"
           }
          ],
          "scattergl": [
           {
            "marker": {
             "colorbar": {
              "outlinewidth": 0,
              "ticks": ""
             }
            },
            "type": "scattergl"
           }
          ],
          "scattermapbox": [
           {
            "marker": {
             "colorbar": {
              "outlinewidth": 0,
              "ticks": ""
             }
            },
            "type": "scattermapbox"
           }
          ],
          "scatterpolar": [
           {
            "marker": {
             "colorbar": {
              "outlinewidth": 0,
              "ticks": ""
             }
            },
            "type": "scatterpolar"
           }
          ],
          "scatterpolargl": [
           {
            "marker": {
             "colorbar": {
              "outlinewidth": 0,
              "ticks": ""
             }
            },
            "type": "scatterpolargl"
           }
          ],
          "scatterternary": [
           {
            "marker": {
             "colorbar": {
              "outlinewidth": 0,
              "ticks": ""
             }
            },
            "type": "scatterternary"
           }
          ],
          "surface": [
           {
            "colorbar": {
             "outlinewidth": 0,
             "ticks": ""
            },
            "colorscale": [
             [
              0,
              "#0d0887"
             ],
             [
              0.1111111111111111,
              "#46039f"
             ],
             [
              0.2222222222222222,
              "#7201a8"
             ],
             [
              0.3333333333333333,
              "#9c179e"
             ],
             [
              0.4444444444444444,
              "#bd3786"
             ],
             [
              0.5555555555555556,
              "#d8576b"
             ],
             [
              0.6666666666666666,
              "#ed7953"
             ],
             [
              0.7777777777777778,
              "#fb9f3a"
             ],
             [
              0.8888888888888888,
              "#fdca26"
             ],
             [
              1,
              "#f0f921"
             ]
            ],
            "type": "surface"
           }
          ],
          "table": [
           {
            "cells": {
             "fill": {
              "color": "#EBF0F8"
             },
             "line": {
              "color": "white"
             }
            },
            "header": {
             "fill": {
              "color": "#C8D4E3"
             },
             "line": {
              "color": "white"
             }
            },
            "type": "table"
           }
          ]
         },
         "layout": {
          "annotationdefaults": {
           "arrowcolor": "#2a3f5f",
           "arrowhead": 0,
           "arrowwidth": 1
          },
          "autotypenumbers": "strict",
          "coloraxis": {
           "colorbar": {
            "outlinewidth": 0,
            "ticks": ""
           }
          },
          "colorscale": {
           "diverging": [
            [
             0,
             "#8e0152"
            ],
            [
             0.1,
             "#c51b7d"
            ],
            [
             0.2,
             "#de77ae"
            ],
            [
             0.3,
             "#f1b6da"
            ],
            [
             0.4,
             "#fde0ef"
            ],
            [
             0.5,
             "#f7f7f7"
            ],
            [
             0.6,
             "#e6f5d0"
            ],
            [
             0.7,
             "#b8e186"
            ],
            [
             0.8,
             "#7fbc41"
            ],
            [
             0.9,
             "#4d9221"
            ],
            [
             1,
             "#276419"
            ]
           ],
           "sequential": [
            [
             0,
             "#0d0887"
            ],
            [
             0.1111111111111111,
             "#46039f"
            ],
            [
             0.2222222222222222,
             "#7201a8"
            ],
            [
             0.3333333333333333,
             "#9c179e"
            ],
            [
             0.4444444444444444,
             "#bd3786"
            ],
            [
             0.5555555555555556,
             "#d8576b"
            ],
            [
             0.6666666666666666,
             "#ed7953"
            ],
            [
             0.7777777777777778,
             "#fb9f3a"
            ],
            [
             0.8888888888888888,
             "#fdca26"
            ],
            [
             1,
             "#f0f921"
            ]
           ],
           "sequentialminus": [
            [
             0,
             "#0d0887"
            ],
            [
             0.1111111111111111,
             "#46039f"
            ],
            [
             0.2222222222222222,
             "#7201a8"
            ],
            [
             0.3333333333333333,
             "#9c179e"
            ],
            [
             0.4444444444444444,
             "#bd3786"
            ],
            [
             0.5555555555555556,
             "#d8576b"
            ],
            [
             0.6666666666666666,
             "#ed7953"
            ],
            [
             0.7777777777777778,
             "#fb9f3a"
            ],
            [
             0.8888888888888888,
             "#fdca26"
            ],
            [
             1,
             "#f0f921"
            ]
           ]
          },
          "colorway": [
           "#636efa",
           "#EF553B",
           "#00cc96",
           "#ab63fa",
           "#FFA15A",
           "#19d3f3",
           "#FF6692",
           "#B6E880",
           "#FF97FF",
           "#FECB52"
          ],
          "font": {
           "color": "#2a3f5f"
          },
          "geo": {
           "bgcolor": "white",
           "lakecolor": "white",
           "landcolor": "#E5ECF6",
           "showlakes": true,
           "showland": true,
           "subunitcolor": "white"
          },
          "hoverlabel": {
           "align": "left"
          },
          "hovermode": "closest",
          "mapbox": {
           "style": "light"
          },
          "paper_bgcolor": "white",
          "plot_bgcolor": "#E5ECF6",
          "polar": {
           "angularaxis": {
            "gridcolor": "white",
            "linecolor": "white",
            "ticks": ""
           },
           "bgcolor": "#E5ECF6",
           "radialaxis": {
            "gridcolor": "white",
            "linecolor": "white",
            "ticks": ""
           }
          },
          "scene": {
           "xaxis": {
            "backgroundcolor": "#E5ECF6",
            "gridcolor": "white",
            "gridwidth": 2,
            "linecolor": "white",
            "showbackground": true,
            "ticks": "",
            "zerolinecolor": "white"
           },
           "yaxis": {
            "backgroundcolor": "#E5ECF6",
            "gridcolor": "white",
            "gridwidth": 2,
            "linecolor": "white",
            "showbackground": true,
            "ticks": "",
            "zerolinecolor": "white"
           },
           "zaxis": {
            "backgroundcolor": "#E5ECF6",
            "gridcolor": "white",
            "gridwidth": 2,
            "linecolor": "white",
            "showbackground": true,
            "ticks": "",
            "zerolinecolor": "white"
           }
          },
          "shapedefaults": {
           "line": {
            "color": "#2a3f5f"
           }
          },
          "ternary": {
           "aaxis": {
            "gridcolor": "white",
            "linecolor": "white",
            "ticks": ""
           },
           "baxis": {
            "gridcolor": "white",
            "linecolor": "white",
            "ticks": ""
           },
           "bgcolor": "#E5ECF6",
           "caxis": {
            "gridcolor": "white",
            "linecolor": "white",
            "ticks": ""
           }
          },
          "title": {
           "x": 0.05
          },
          "xaxis": {
           "automargin": true,
           "gridcolor": "white",
           "linecolor": "white",
           "ticks": "",
           "title": {
            "standoff": 15
           },
           "zerolinecolor": "white",
           "zerolinewidth": 2
          },
          "yaxis": {
           "automargin": true,
           "gridcolor": "white",
           "linecolor": "white",
           "ticks": "",
           "title": {
            "standoff": 15
           },
           "zerolinecolor": "white",
           "zerolinewidth": 2
          }
         }
        },
        "title": {
         "text": "Correlation matrix of features"
        },
        "xaxis": {
         "anchor": "y",
         "constrain": "domain",
         "domain": [
          0,
          1
         ],
         "scaleanchor": "y"
        },
        "yaxis": {
         "anchor": "x",
         "autorange": "reversed",
         "constrain": "domain",
         "domain": [
          0,
          1
         ]
        }
       }
      }
     },
     "metadata": {},
     "output_type": "display_data"
    }
   ],
   "source": [
    "corr = features.drop(columns=[\"review_id\", \"label\"], axis=1).corr()\n",
    "\n",
    "fig = px.imshow(corr, title=\"Correlation matrix of features\")\n",
    "fig.show()"
   ]
  },
  {
   "cell_type": "code",
   "execution_count": 63,
   "metadata": {},
   "outputs": [],
   "source": [
    "if isinstance(GEO, list):\n",
    "    geo_display_name = \"_\".join(GEO)\n",
    "else:\n",
    "    geo_display_name = GEO\n",
    "\n",
    "features.to_csv(f\"../../data/processed/features_{geo_display_name}.csv\", index=False)"
   ]
  },
  {
   "cell_type": "code",
   "execution_count": null,
   "metadata": {},
   "outputs": [],
   "source": []
  }
 ],
 "metadata": {
  "kernelspec": {
   "display_name": "venv",
   "language": "python",
   "name": "python3"
  },
  "language_info": {
   "codemirror_mode": {
    "name": "ipython",
    "version": 3
   },
   "file_extension": ".py",
   "mimetype": "text/x-python",
   "name": "python",
   "nbconvert_exporter": "python",
   "pygments_lexer": "ipython3",
   "version": "3.10.4"
  },
  "orig_nbformat": 4,
  "vscode": {
   "interpreter": {
    "hash": "cf086def782804284d24881115c612afdcc8ea791299ba67855f0c7f1a9ccc5a"
   }
  }
 },
 "nbformat": 4,
 "nbformat_minor": 2
}
