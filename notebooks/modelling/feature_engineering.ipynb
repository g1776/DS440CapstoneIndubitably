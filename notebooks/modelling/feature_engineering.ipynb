{
 "cells": [
  {
   "attachments": {},
   "cell_type": "markdown",
   "metadata": {},
   "source": [
    "## Feature Engineering on the processed dataset"
   ]
  },
  {
   "cell_type": "code",
   "execution_count": 1,
   "metadata": {},
   "outputs": [],
   "source": [
    "import pandas as pd\n",
    "import numpy as np\n",
    "import matplotlib.pyplot as plt\n",
    "import plotly.express as px"
   ]
  },
  {
   "cell_type": "code",
   "execution_count": 2,
   "metadata": {},
   "outputs": [
    {
     "name": "stdout",
     "output_type": "stream",
     "text": [
      "(1629, 9)\n"
     ]
    },
    {
     "data": {
      "text/html": [
       "<div>\n",
       "<style scoped>\n",
       "    .dataframe tbody tr th:only-of-type {\n",
       "        vertical-align: middle;\n",
       "    }\n",
       "\n",
       "    .dataframe tbody tr th {\n",
       "        vertical-align: top;\n",
       "    }\n",
       "\n",
       "    .dataframe thead th {\n",
       "        text-align: right;\n",
       "    }\n",
       "</style>\n",
       "<table border=\"1\" class=\"dataframe\">\n",
       "  <thead>\n",
       "    <tr style=\"text-align: right;\">\n",
       "      <th></th>\n",
       "      <th>review_id</th>\n",
       "      <th>listing_id</th>\n",
       "      <th>description</th>\n",
       "      <th>comments</th>\n",
       "      <th>sentiment</th>\n",
       "      <th>label</th>\n",
       "      <th>name</th>\n",
       "      <th>amenities</th>\n",
       "      <th>source</th>\n",
       "    </tr>\n",
       "  </thead>\n",
       "  <tbody>\n",
       "    <tr>\n",
       "      <th>0</th>\n",
       "      <td>83097</td>\n",
       "      <td>5456</td>\n",
       "      <td>[fabulous, location, walking, convention, cent...</td>\n",
       "      <td>[sylvia, very, nice, informal, relaxed, arrive...</td>\n",
       "      <td>4.333333</td>\n",
       "      <td>good</td>\n",
       "      <td>['walk', '6th', 'rainey', 'st', 'convention', ...</td>\n",
       "      <td>[TV, Wifi, Air conditioning, Kitchen, Pets liv...</td>\n",
       "      <td>texas</td>\n",
       "    </tr>\n",
       "    <tr>\n",
       "      <th>1</th>\n",
       "      <td>133337</td>\n",
       "      <td>5456</td>\n",
       "      <td>[fabulous, location, walking, convention, cent...</td>\n",
       "      <td>[sylvia, picked, airport, gave, beautiful, eve...</td>\n",
       "      <td>4.000000</td>\n",
       "      <td>good</td>\n",
       "      <td>['walk', '6th', 'rainey', 'st', 'convention', ...</td>\n",
       "      <td>[TV, Wifi, Air conditioning, Kitchen, Pets liv...</td>\n",
       "      <td>texas</td>\n",
       "    </tr>\n",
       "    <tr>\n",
       "      <th>2</th>\n",
       "      <td>150928</td>\n",
       "      <td>5456</td>\n",
       "      <td>[fabulous, location, walking, convention, cent...</td>\n",
       "      <td>[lovely, time, enjoyed, apartment, clean, spac...</td>\n",
       "      <td>3.000000</td>\n",
       "      <td>good</td>\n",
       "      <td>['walk', '6th', 'rainey', 'st', 'convention', ...</td>\n",
       "      <td>[TV, Wifi, Air conditioning, Kitchen, Pets liv...</td>\n",
       "      <td>texas</td>\n",
       "    </tr>\n",
       "    <tr>\n",
       "      <th>3</th>\n",
       "      <td>2706775</td>\n",
       "      <td>5456</td>\n",
       "      <td>[fabulous, location, walking, convention, cent...</td>\n",
       "      <td>[sylvia, excellent, host, stayed, touch, made,...</td>\n",
       "      <td>4.500000</td>\n",
       "      <td>good</td>\n",
       "      <td>['walk', '6th', 'rainey', 'st', 'convention', ...</td>\n",
       "      <td>[TV, Wifi, Air conditioning, Kitchen, Pets liv...</td>\n",
       "      <td>texas</td>\n",
       "    </tr>\n",
       "    <tr>\n",
       "      <th>4</th>\n",
       "      <td>8602878</td>\n",
       "      <td>5456</td>\n",
       "      <td>[fabulous, location, walking, convention, cent...</td>\n",
       "      <td>[place, cute, little, self, contained, cottage...</td>\n",
       "      <td>4.000000</td>\n",
       "      <td>good</td>\n",
       "      <td>['walk', '6th', 'rainey', 'st', 'convention', ...</td>\n",
       "      <td>[TV, Wifi, Air conditioning, Kitchen, Pets liv...</td>\n",
       "      <td>texas</td>\n",
       "    </tr>\n",
       "  </tbody>\n",
       "</table>\n",
       "</div>"
      ],
      "text/plain": [
       "   review_id  listing_id                                        description  \\\n",
       "0      83097        5456  [fabulous, location, walking, convention, cent...   \n",
       "1     133337        5456  [fabulous, location, walking, convention, cent...   \n",
       "2     150928        5456  [fabulous, location, walking, convention, cent...   \n",
       "3    2706775        5456  [fabulous, location, walking, convention, cent...   \n",
       "4    8602878        5456  [fabulous, location, walking, convention, cent...   \n",
       "\n",
       "                                            comments  sentiment label  \\\n",
       "0  [sylvia, very, nice, informal, relaxed, arrive...   4.333333  good   \n",
       "1  [sylvia, picked, airport, gave, beautiful, eve...   4.000000  good   \n",
       "2  [lovely, time, enjoyed, apartment, clean, spac...   3.000000  good   \n",
       "3  [sylvia, excellent, host, stayed, touch, made,...   4.500000  good   \n",
       "4  [place, cute, little, self, contained, cottage...   4.000000  good   \n",
       "\n",
       "                                                name  \\\n",
       "0  ['walk', '6th', 'rainey', 'st', 'convention', ...   \n",
       "1  ['walk', '6th', 'rainey', 'st', 'convention', ...   \n",
       "2  ['walk', '6th', 'rainey', 'st', 'convention', ...   \n",
       "3  ['walk', '6th', 'rainey', 'st', 'convention', ...   \n",
       "4  ['walk', '6th', 'rainey', 'st', 'convention', ...   \n",
       "\n",
       "                                           amenities source  \n",
       "0  [TV, Wifi, Air conditioning, Kitchen, Pets liv...  texas  \n",
       "1  [TV, Wifi, Air conditioning, Kitchen, Pets liv...  texas  \n",
       "2  [TV, Wifi, Air conditioning, Kitchen, Pets liv...  texas  \n",
       "3  [TV, Wifi, Air conditioning, Kitchen, Pets liv...  texas  \n",
       "4  [TV, Wifi, Air conditioning, Kitchen, Pets liv...  texas  "
      ]
     },
     "execution_count": 2,
     "metadata": {},
     "output_type": "execute_result"
    }
   ],
   "source": [
    "# Read in the data\n",
    "GEO = [\"texas\", \"florida\"]\n",
    "\n",
    "if isinstance(GEO, str):\n",
    "    df = pd.read_csv(f\"../../data/processed/{GEO}_processed.csv\")\n",
    "elif isinstance(GEO, list):\n",
    "    dfs = []\n",
    "    for geo in GEO:\n",
    "        df = pd.read_csv(f\"../../data/processed/{geo}_processed.csv\")\n",
    "        df[\"source\"] = geo\n",
    "        dfs.append(df)\n",
    "    df = pd.concat(dfs)\n",
    "\n",
    "# eval list columns\n",
    "df.description = df.description.apply(lambda x: eval(x))\n",
    "df.comments = df.comments.apply(lambda x: eval(x))\n",
    "df.amenities = df.amenities.apply(lambda x: eval(x))\n",
    "\n",
    "df.reset_index(drop=True, inplace=True)\n",
    "\n",
    "print(df.shape)\n",
    "df.head()"
   ]
  },
  {
   "attachments": {},
   "cell_type": "markdown",
   "metadata": {},
   "source": [
    "### Distribution of labels"
   ]
  },
  {
   "attachments": {},
   "cell_type": "markdown",
   "metadata": {},
   "source": [
    "First, let's look at the distribution of labels in the processed dataset."
   ]
  },
  {
   "cell_type": "code",
   "execution_count": 3,
   "metadata": {},
   "outputs": [
    {
     "name": "stdout",
     "output_type": "stream",
     "text": [
      "mbad: 7.24%, mgood: 6.45%, mbad or mgood: 13.69%\n"
     ]
    },
    {
     "data": {
      "application/vnd.plotly.v1+json": {
       "config": {
        "plotlyServerURL": "https://plot.ly"
       },
       "data": [
        {
         "alignmentgroup": "True",
         "hovertemplate": "Label=%{x}<br>Count=%{y}<extra></extra>",
         "legendgroup": "",
         "marker": {
          "color": "#636efa",
          "pattern": {
           "shape": ""
          }
         },
         "name": "",
         "offsetgroup": "",
         "orientation": "v",
         "showlegend": false,
         "textposition": "auto",
         "type": "bar",
         "x": [
          "good",
          "mbad",
          "mgood",
          "bad"
         ],
         "xaxis": "x",
         "y": [
          1320,
          118,
          105,
          84
         ],
         "yaxis": "y"
        }
       ],
       "layout": {
        "barmode": "relative",
        "legend": {
         "tracegroupgap": 0
        },
        "template": {
         "data": {
          "bar": [
           {
            "error_x": {
             "color": "#2a3f5f"
            },
            "error_y": {
             "color": "#2a3f5f"
            },
            "marker": {
             "line": {
              "color": "#E5ECF6",
              "width": 0.5
             },
             "pattern": {
              "fillmode": "overlay",
              "size": 10,
              "solidity": 0.2
             }
            },
            "type": "bar"
           }
          ],
          "barpolar": [
           {
            "marker": {
             "line": {
              "color": "#E5ECF6",
              "width": 0.5
             },
             "pattern": {
              "fillmode": "overlay",
              "size": 10,
              "solidity": 0.2
             }
            },
            "type": "barpolar"
           }
          ],
          "carpet": [
           {
            "aaxis": {
             "endlinecolor": "#2a3f5f",
             "gridcolor": "white",
             "linecolor": "white",
             "minorgridcolor": "white",
             "startlinecolor": "#2a3f5f"
            },
            "baxis": {
             "endlinecolor": "#2a3f5f",
             "gridcolor": "white",
             "linecolor": "white",
             "minorgridcolor": "white",
             "startlinecolor": "#2a3f5f"
            },
            "type": "carpet"
           }
          ],
          "choropleth": [
           {
            "colorbar": {
             "outlinewidth": 0,
             "ticks": ""
            },
            "type": "choropleth"
           }
          ],
          "contour": [
           {
            "colorbar": {
             "outlinewidth": 0,
             "ticks": ""
            },
            "colorscale": [
             [
              0,
              "#0d0887"
             ],
             [
              0.1111111111111111,
              "#46039f"
             ],
             [
              0.2222222222222222,
              "#7201a8"
             ],
             [
              0.3333333333333333,
              "#9c179e"
             ],
             [
              0.4444444444444444,
              "#bd3786"
             ],
             [
              0.5555555555555556,
              "#d8576b"
             ],
             [
              0.6666666666666666,
              "#ed7953"
             ],
             [
              0.7777777777777778,
              "#fb9f3a"
             ],
             [
              0.8888888888888888,
              "#fdca26"
             ],
             [
              1,
              "#f0f921"
             ]
            ],
            "type": "contour"
           }
          ],
          "contourcarpet": [
           {
            "colorbar": {
             "outlinewidth": 0,
             "ticks": ""
            },
            "type": "contourcarpet"
           }
          ],
          "heatmap": [
           {
            "colorbar": {
             "outlinewidth": 0,
             "ticks": ""
            },
            "colorscale": [
             [
              0,
              "#0d0887"
             ],
             [
              0.1111111111111111,
              "#46039f"
             ],
             [
              0.2222222222222222,
              "#7201a8"
             ],
             [
              0.3333333333333333,
              "#9c179e"
             ],
             [
              0.4444444444444444,
              "#bd3786"
             ],
             [
              0.5555555555555556,
              "#d8576b"
             ],
             [
              0.6666666666666666,
              "#ed7953"
             ],
             [
              0.7777777777777778,
              "#fb9f3a"
             ],
             [
              0.8888888888888888,
              "#fdca26"
             ],
             [
              1,
              "#f0f921"
             ]
            ],
            "type": "heatmap"
           }
          ],
          "heatmapgl": [
           {
            "colorbar": {
             "outlinewidth": 0,
             "ticks": ""
            },
            "colorscale": [
             [
              0,
              "#0d0887"
             ],
             [
              0.1111111111111111,
              "#46039f"
             ],
             [
              0.2222222222222222,
              "#7201a8"
             ],
             [
              0.3333333333333333,
              "#9c179e"
             ],
             [
              0.4444444444444444,
              "#bd3786"
             ],
             [
              0.5555555555555556,
              "#d8576b"
             ],
             [
              0.6666666666666666,
              "#ed7953"
             ],
             [
              0.7777777777777778,
              "#fb9f3a"
             ],
             [
              0.8888888888888888,
              "#fdca26"
             ],
             [
              1,
              "#f0f921"
             ]
            ],
            "type": "heatmapgl"
           }
          ],
          "histogram": [
           {
            "marker": {
             "pattern": {
              "fillmode": "overlay",
              "size": 10,
              "solidity": 0.2
             }
            },
            "type": "histogram"
           }
          ],
          "histogram2d": [
           {
            "colorbar": {
             "outlinewidth": 0,
             "ticks": ""
            },
            "colorscale": [
             [
              0,
              "#0d0887"
             ],
             [
              0.1111111111111111,
              "#46039f"
             ],
             [
              0.2222222222222222,
              "#7201a8"
             ],
             [
              0.3333333333333333,
              "#9c179e"
             ],
             [
              0.4444444444444444,
              "#bd3786"
             ],
             [
              0.5555555555555556,
              "#d8576b"
             ],
             [
              0.6666666666666666,
              "#ed7953"
             ],
             [
              0.7777777777777778,
              "#fb9f3a"
             ],
             [
              0.8888888888888888,
              "#fdca26"
             ],
             [
              1,
              "#f0f921"
             ]
            ],
            "type": "histogram2d"
           }
          ],
          "histogram2dcontour": [
           {
            "colorbar": {
             "outlinewidth": 0,
             "ticks": ""
            },
            "colorscale": [
             [
              0,
              "#0d0887"
             ],
             [
              0.1111111111111111,
              "#46039f"
             ],
             [
              0.2222222222222222,
              "#7201a8"
             ],
             [
              0.3333333333333333,
              "#9c179e"
             ],
             [
              0.4444444444444444,
              "#bd3786"
             ],
             [
              0.5555555555555556,
              "#d8576b"
             ],
             [
              0.6666666666666666,
              "#ed7953"
             ],
             [
              0.7777777777777778,
              "#fb9f3a"
             ],
             [
              0.8888888888888888,
              "#fdca26"
             ],
             [
              1,
              "#f0f921"
             ]
            ],
            "type": "histogram2dcontour"
           }
          ],
          "mesh3d": [
           {
            "colorbar": {
             "outlinewidth": 0,
             "ticks": ""
            },
            "type": "mesh3d"
           }
          ],
          "parcoords": [
           {
            "line": {
             "colorbar": {
              "outlinewidth": 0,
              "ticks": ""
             }
            },
            "type": "parcoords"
           }
          ],
          "pie": [
           {
            "automargin": true,
            "type": "pie"
           }
          ],
          "scatter": [
           {
            "fillpattern": {
             "fillmode": "overlay",
             "size": 10,
             "solidity": 0.2
            },
            "type": "scatter"
           }
          ],
          "scatter3d": [
           {
            "line": {
             "colorbar": {
              "outlinewidth": 0,
              "ticks": ""
             }
            },
            "marker": {
             "colorbar": {
              "outlinewidth": 0,
              "ticks": ""
             }
            },
            "type": "scatter3d"
           }
          ],
          "scattercarpet": [
           {
            "marker": {
             "colorbar": {
              "outlinewidth": 0,
              "ticks": ""
             }
            },
            "type": "scattercarpet"
           }
          ],
          "scattergeo": [
           {
            "marker": {
             "colorbar": {
              "outlinewidth": 0,
              "ticks": ""
             }
            },
            "type": "scattergeo"
           }
          ],
          "scattergl": [
           {
            "marker": {
             "colorbar": {
              "outlinewidth": 0,
              "ticks": ""
             }
            },
            "type": "scattergl"
           }
          ],
          "scattermapbox": [
           {
            "marker": {
             "colorbar": {
              "outlinewidth": 0,
              "ticks": ""
             }
            },
            "type": "scattermapbox"
           }
          ],
          "scatterpolar": [
           {
            "marker": {
             "colorbar": {
              "outlinewidth": 0,
              "ticks": ""
             }
            },
            "type": "scatterpolar"
           }
          ],
          "scatterpolargl": [
           {
            "marker": {
             "colorbar": {
              "outlinewidth": 0,
              "ticks": ""
             }
            },
            "type": "scatterpolargl"
           }
          ],
          "scatterternary": [
           {
            "marker": {
             "colorbar": {
              "outlinewidth": 0,
              "ticks": ""
             }
            },
            "type": "scatterternary"
           }
          ],
          "surface": [
           {
            "colorbar": {
             "outlinewidth": 0,
             "ticks": ""
            },
            "colorscale": [
             [
              0,
              "#0d0887"
             ],
             [
              0.1111111111111111,
              "#46039f"
             ],
             [
              0.2222222222222222,
              "#7201a8"
             ],
             [
              0.3333333333333333,
              "#9c179e"
             ],
             [
              0.4444444444444444,
              "#bd3786"
             ],
             [
              0.5555555555555556,
              "#d8576b"
             ],
             [
              0.6666666666666666,
              "#ed7953"
             ],
             [
              0.7777777777777778,
              "#fb9f3a"
             ],
             [
              0.8888888888888888,
              "#fdca26"
             ],
             [
              1,
              "#f0f921"
             ]
            ],
            "type": "surface"
           }
          ],
          "table": [
           {
            "cells": {
             "fill": {
              "color": "#EBF0F8"
             },
             "line": {
              "color": "white"
             }
            },
            "header": {
             "fill": {
              "color": "#C8D4E3"
             },
             "line": {
              "color": "white"
             }
            },
            "type": "table"
           }
          ]
         },
         "layout": {
          "annotationdefaults": {
           "arrowcolor": "#2a3f5f",
           "arrowhead": 0,
           "arrowwidth": 1
          },
          "autotypenumbers": "strict",
          "coloraxis": {
           "colorbar": {
            "outlinewidth": 0,
            "ticks": ""
           }
          },
          "colorscale": {
           "diverging": [
            [
             0,
             "#8e0152"
            ],
            [
             0.1,
             "#c51b7d"
            ],
            [
             0.2,
             "#de77ae"
            ],
            [
             0.3,
             "#f1b6da"
            ],
            [
             0.4,
             "#fde0ef"
            ],
            [
             0.5,
             "#f7f7f7"
            ],
            [
             0.6,
             "#e6f5d0"
            ],
            [
             0.7,
             "#b8e186"
            ],
            [
             0.8,
             "#7fbc41"
            ],
            [
             0.9,
             "#4d9221"
            ],
            [
             1,
             "#276419"
            ]
           ],
           "sequential": [
            [
             0,
             "#0d0887"
            ],
            [
             0.1111111111111111,
             "#46039f"
            ],
            [
             0.2222222222222222,
             "#7201a8"
            ],
            [
             0.3333333333333333,
             "#9c179e"
            ],
            [
             0.4444444444444444,
             "#bd3786"
            ],
            [
             0.5555555555555556,
             "#d8576b"
            ],
            [
             0.6666666666666666,
             "#ed7953"
            ],
            [
             0.7777777777777778,
             "#fb9f3a"
            ],
            [
             0.8888888888888888,
             "#fdca26"
            ],
            [
             1,
             "#f0f921"
            ]
           ],
           "sequentialminus": [
            [
             0,
             "#0d0887"
            ],
            [
             0.1111111111111111,
             "#46039f"
            ],
            [
             0.2222222222222222,
             "#7201a8"
            ],
            [
             0.3333333333333333,
             "#9c179e"
            ],
            [
             0.4444444444444444,
             "#bd3786"
            ],
            [
             0.5555555555555556,
             "#d8576b"
            ],
            [
             0.6666666666666666,
             "#ed7953"
            ],
            [
             0.7777777777777778,
             "#fb9f3a"
            ],
            [
             0.8888888888888888,
             "#fdca26"
            ],
            [
             1,
             "#f0f921"
            ]
           ]
          },
          "colorway": [
           "#636efa",
           "#EF553B",
           "#00cc96",
           "#ab63fa",
           "#FFA15A",
           "#19d3f3",
           "#FF6692",
           "#B6E880",
           "#FF97FF",
           "#FECB52"
          ],
          "font": {
           "color": "#2a3f5f"
          },
          "geo": {
           "bgcolor": "white",
           "lakecolor": "white",
           "landcolor": "#E5ECF6",
           "showlakes": true,
           "showland": true,
           "subunitcolor": "white"
          },
          "hoverlabel": {
           "align": "left"
          },
          "hovermode": "closest",
          "mapbox": {
           "style": "light"
          },
          "paper_bgcolor": "white",
          "plot_bgcolor": "#E5ECF6",
          "polar": {
           "angularaxis": {
            "gridcolor": "white",
            "linecolor": "white",
            "ticks": ""
           },
           "bgcolor": "#E5ECF6",
           "radialaxis": {
            "gridcolor": "white",
            "linecolor": "white",
            "ticks": ""
           }
          },
          "scene": {
           "xaxis": {
            "backgroundcolor": "#E5ECF6",
            "gridcolor": "white",
            "gridwidth": 2,
            "linecolor": "white",
            "showbackground": true,
            "ticks": "",
            "zerolinecolor": "white"
           },
           "yaxis": {
            "backgroundcolor": "#E5ECF6",
            "gridcolor": "white",
            "gridwidth": 2,
            "linecolor": "white",
            "showbackground": true,
            "ticks": "",
            "zerolinecolor": "white"
           },
           "zaxis": {
            "backgroundcolor": "#E5ECF6",
            "gridcolor": "white",
            "gridwidth": 2,
            "linecolor": "white",
            "showbackground": true,
            "ticks": "",
            "zerolinecolor": "white"
           }
          },
          "shapedefaults": {
           "line": {
            "color": "#2a3f5f"
           }
          },
          "ternary": {
           "aaxis": {
            "gridcolor": "white",
            "linecolor": "white",
            "ticks": ""
           },
           "baxis": {
            "gridcolor": "white",
            "linecolor": "white",
            "ticks": ""
           },
           "bgcolor": "#E5ECF6",
           "caxis": {
            "gridcolor": "white",
            "linecolor": "white",
            "ticks": ""
           }
          },
          "title": {
           "x": 0.05
          },
          "xaxis": {
           "automargin": true,
           "gridcolor": "white",
           "linecolor": "white",
           "ticks": "",
           "title": {
            "standoff": 15
           },
           "zerolinecolor": "white",
           "zerolinewidth": 2
          },
          "yaxis": {
           "automargin": true,
           "gridcolor": "white",
           "linecolor": "white",
           "ticks": "",
           "title": {
            "standoff": 15
           },
           "zerolinecolor": "white",
           "zerolinewidth": 2
          }
         }
        },
        "title": {
         "text": "Distribution of labels (GEO=['texas', 'florida'])"
        },
        "xaxis": {
         "anchor": "y",
         "domain": [
          0,
          1
         ],
         "title": {
          "text": "Label"
         }
        },
        "yaxis": {
         "anchor": "x",
         "domain": [
          0,
          1
         ],
         "title": {
          "text": "Count"
         }
        }
       }
      }
     },
     "metadata": {},
     "output_type": "display_data"
    }
   ],
   "source": [
    "mbad_pcnt = df[df.label == \"mbad\"].shape[0] / df.shape[0]\n",
    "mgood_pcnt = df[df.label == \"mgood\"].shape[0] / df.shape[0]\n",
    "mbad_or_mgood_pcnt = df[df.label.isin([\"mbad\", \"mgood\"])].shape[0] / df.shape[0]\n",
    "print(\n",
    "    f\"mbad: {mbad_pcnt:.2%}, mgood: {mgood_pcnt:.2%}, mbad or mgood: {mbad_or_mgood_pcnt:.2%}\"\n",
    ")\n",
    "\n",
    "bar_vals = df.label.value_counts()\n",
    "\n",
    "fig = px.bar(\n",
    "    bar_vals,\n",
    "    x=bar_vals.index,\n",
    "    y=bar_vals.values,\n",
    "    title=f\"Distribution of labels (GEO={GEO})\",\n",
    "    labels={\"index\": \"Label\", \"y\": \"Count\"}\n",
    ")\n",
    "\n",
    "fig.show()"
   ]
  },
  {
   "attachments": {},
   "cell_type": "markdown",
   "metadata": {},
   "source": [
    "## Correlation filter helper function\n",
    "This function allows us to filter down to only include highly correlated features with the label."
   ]
  },
  {
   "cell_type": "code",
   "execution_count": 4,
   "metadata": {},
   "outputs": [],
   "source": [
    "def corr_filter(features, corr_thresh=0.05) -> pd.DataFrame:\n",
    "    \"\"\"Filter features based on correlation with label.\"\"\"\n",
    "\n",
    "    if corr_thresh is None:\n",
    "        return features\n",
    "\n",
    "    to_filter = features.copy()\n",
    "    \n",
    "    to_filter[\"review_id\"] = df.review_id\n",
    "    to_filter[\"label\"] = df.label\n",
    "\n",
    "    # drop na labels. Thanks Charlie :/\n",
    "    to_filter = to_filter.dropna(subset=[\"label\"])\n",
    "\n",
    "    # Turn labels into numbers\n",
    "    labels_list: list = to_filter.label.unique().tolist()\n",
    "    to_filter.label = to_filter.label.apply(lambda label: labels_list.index(label))\n",
    "\n",
    "    # calculate correlation of features with label\n",
    "    features_to_filter = to_filter.drop([\"review_id\", \"label\"], axis=1)\n",
    "    corrs = features_to_filter.corrwith(to_filter.label).sort_values(ascending=False)\n",
    "\n",
    "    # filter features\n",
    "    highly_correlated_features = corrs[corrs.abs() > corr_thresh].index\n",
    "    # drop features with nan correlation\n",
    "    highly_correlated_features = highly_correlated_features.dropna()\n",
    "\n",
    "    # filter features\n",
    "    print(f\"Features above correlation threshold ({corr_thresh}):\")\n",
    "    print(highly_correlated_features.tolist())\n",
    "    filtered = features[highly_correlated_features]\n",
    "    \n",
    "    return filtered"
   ]
  },
  {
   "attachments": {},
   "cell_type": "markdown",
   "metadata": {},
   "source": [
    "### Ngrams"
   ]
  },
  {
   "attachments": {},
   "cell_type": "markdown",
   "metadata": {},
   "source": [
    "What are the most common ngrams for the different types of reviews? What are the most common overlaps?"
   ]
  },
  {
   "cell_type": "code",
   "execution_count": 5,
   "metadata": {},
   "outputs": [],
   "source": [
    "def get_consecutive_ngrams(review, n) -> list:\n",
    "    \"\"\"Helper function to get ngrams from a review.\n",
    "\n",
    "    Args:\n",
    "        review (str): The review to get ngrams from.\n",
    "        n (int): The number of ngrams to get.\n",
    "\n",
    "    Returns:\n",
    "        list: the list of ngrams, joined by underscores.\n",
    "    \"\"\"\n",
    "    if isinstance(review, str):\n",
    "        review = review.split(\"\")\n",
    "\n",
    "    return [\"_\".join(review[i:i+n]) for i in range(len(review)-n-1)]\n",
    "\n",
    "def series_to_ngrams(series: pd.Series, N):\n",
    "    n_grams = series.apply(lambda x: get_consecutive_ngrams(x, N))\n",
    "    return n_grams.explode()\n",
    "\n",
    "def get_exclusive_sizes(good: set, bad: set, mgood: set, mbad: set) -> dict:\n",
    "    \"\"\"Get the sizes of the exclusive sets\"\"\"\n",
    "\n",
    "    only_good = good - bad - mgood - mbad\n",
    "    only_bad = bad - good - mgood - mbad\n",
    "    only_mgood = mgood - good - bad - mbad\n",
    "    only_mbad = mbad - good - bad - mgood\n",
    "    \n",
    "    return {\n",
    "        \"good\": len(only_good),\n",
    "        \"bad\": len(only_bad),\n",
    "        \"mgood\": len(only_mgood),\n",
    "        \"mbad\": len(only_mbad)\n",
    "    }"
   ]
  },
  {
   "attachments": {},
   "cell_type": "markdown",
   "metadata": {},
   "source": [
    "We can look at the number of unique values to each label for different values of N on a line chart."
   ]
  },
  {
   "cell_type": "code",
   "execution_count": 6,
   "metadata": {},
   "outputs": [
    {
     "data": {
      "application/vnd.plotly.v1+json": {
       "config": {
        "plotlyServerURL": "https://plot.ly"
       },
       "data": [
        {
         "hovertemplate": "label=bad<br>N-gram size=%{x}<br>Unique # of n-grams=%{y}<extra></extra>",
         "legendgroup": "bad",
         "line": {
          "color": "#636efa",
          "dash": "solid"
         },
         "marker": {
          "symbol": "circle"
         },
         "mode": "markers+lines",
         "name": "bad",
         "orientation": "v",
         "showlegend": true,
         "type": "scatter",
         "x": [
          1,
          2,
          3,
          4,
          5,
          6
         ],
         "xaxis": "x",
         "y": [
          424,
          6408,
          8778,
          8924,
          8851,
          8768
         ],
         "yaxis": "y"
        },
        {
         "hovertemplate": "label=mgood<br>N-gram size=%{x}<br>Unique # of n-grams=%{y}<extra></extra>",
         "legendgroup": "mgood",
         "line": {
          "color": "#EF553B",
          "dash": "solid"
         },
         "marker": {
          "symbol": "circle"
         },
         "mode": "markers+lines",
         "name": "mgood",
         "orientation": "v",
         "showlegend": true,
         "type": "scatter",
         "x": [
          1,
          2,
          3,
          4,
          5,
          6
         ],
         "xaxis": "x",
         "y": [
          232,
          4589,
          6853,
          7102,
          7049,
          6952
         ],
         "yaxis": "y"
        },
        {
         "hovertemplate": "label=mbad<br>N-gram size=%{x}<br>Unique # of n-grams=%{y}<extra></extra>",
         "legendgroup": "mbad",
         "line": {
          "color": "#00cc96",
          "dash": "solid"
         },
         "marker": {
          "symbol": "circle"
         },
         "mode": "markers+lines",
         "name": "mbad",
         "orientation": "v",
         "showlegend": true,
         "type": "scatter",
         "x": [
          1,
          2,
          3,
          4,
          5,
          6
         ],
         "xaxis": "x",
         "y": [
          576,
          8616,
          11961,
          12217,
          12121,
          12005
         ],
         "yaxis": "y"
        }
       ],
       "layout": {
        "legend": {
         "title": {
          "text": "label"
         },
         "tracegroupgap": 0
        },
        "template": {
         "data": {
          "bar": [
           {
            "error_x": {
             "color": "#2a3f5f"
            },
            "error_y": {
             "color": "#2a3f5f"
            },
            "marker": {
             "line": {
              "color": "#E5ECF6",
              "width": 0.5
             },
             "pattern": {
              "fillmode": "overlay",
              "size": 10,
              "solidity": 0.2
             }
            },
            "type": "bar"
           }
          ],
          "barpolar": [
           {
            "marker": {
             "line": {
              "color": "#E5ECF6",
              "width": 0.5
             },
             "pattern": {
              "fillmode": "overlay",
              "size": 10,
              "solidity": 0.2
             }
            },
            "type": "barpolar"
           }
          ],
          "carpet": [
           {
            "aaxis": {
             "endlinecolor": "#2a3f5f",
             "gridcolor": "white",
             "linecolor": "white",
             "minorgridcolor": "white",
             "startlinecolor": "#2a3f5f"
            },
            "baxis": {
             "endlinecolor": "#2a3f5f",
             "gridcolor": "white",
             "linecolor": "white",
             "minorgridcolor": "white",
             "startlinecolor": "#2a3f5f"
            },
            "type": "carpet"
           }
          ],
          "choropleth": [
           {
            "colorbar": {
             "outlinewidth": 0,
             "ticks": ""
            },
            "type": "choropleth"
           }
          ],
          "contour": [
           {
            "colorbar": {
             "outlinewidth": 0,
             "ticks": ""
            },
            "colorscale": [
             [
              0,
              "#0d0887"
             ],
             [
              0.1111111111111111,
              "#46039f"
             ],
             [
              0.2222222222222222,
              "#7201a8"
             ],
             [
              0.3333333333333333,
              "#9c179e"
             ],
             [
              0.4444444444444444,
              "#bd3786"
             ],
             [
              0.5555555555555556,
              "#d8576b"
             ],
             [
              0.6666666666666666,
              "#ed7953"
             ],
             [
              0.7777777777777778,
              "#fb9f3a"
             ],
             [
              0.8888888888888888,
              "#fdca26"
             ],
             [
              1,
              "#f0f921"
             ]
            ],
            "type": "contour"
           }
          ],
          "contourcarpet": [
           {
            "colorbar": {
             "outlinewidth": 0,
             "ticks": ""
            },
            "type": "contourcarpet"
           }
          ],
          "heatmap": [
           {
            "colorbar": {
             "outlinewidth": 0,
             "ticks": ""
            },
            "colorscale": [
             [
              0,
              "#0d0887"
             ],
             [
              0.1111111111111111,
              "#46039f"
             ],
             [
              0.2222222222222222,
              "#7201a8"
             ],
             [
              0.3333333333333333,
              "#9c179e"
             ],
             [
              0.4444444444444444,
              "#bd3786"
             ],
             [
              0.5555555555555556,
              "#d8576b"
             ],
             [
              0.6666666666666666,
              "#ed7953"
             ],
             [
              0.7777777777777778,
              "#fb9f3a"
             ],
             [
              0.8888888888888888,
              "#fdca26"
             ],
             [
              1,
              "#f0f921"
             ]
            ],
            "type": "heatmap"
           }
          ],
          "heatmapgl": [
           {
            "colorbar": {
             "outlinewidth": 0,
             "ticks": ""
            },
            "colorscale": [
             [
              0,
              "#0d0887"
             ],
             [
              0.1111111111111111,
              "#46039f"
             ],
             [
              0.2222222222222222,
              "#7201a8"
             ],
             [
              0.3333333333333333,
              "#9c179e"
             ],
             [
              0.4444444444444444,
              "#bd3786"
             ],
             [
              0.5555555555555556,
              "#d8576b"
             ],
             [
              0.6666666666666666,
              "#ed7953"
             ],
             [
              0.7777777777777778,
              "#fb9f3a"
             ],
             [
              0.8888888888888888,
              "#fdca26"
             ],
             [
              1,
              "#f0f921"
             ]
            ],
            "type": "heatmapgl"
           }
          ],
          "histogram": [
           {
            "marker": {
             "pattern": {
              "fillmode": "overlay",
              "size": 10,
              "solidity": 0.2
             }
            },
            "type": "histogram"
           }
          ],
          "histogram2d": [
           {
            "colorbar": {
             "outlinewidth": 0,
             "ticks": ""
            },
            "colorscale": [
             [
              0,
              "#0d0887"
             ],
             [
              0.1111111111111111,
              "#46039f"
             ],
             [
              0.2222222222222222,
              "#7201a8"
             ],
             [
              0.3333333333333333,
              "#9c179e"
             ],
             [
              0.4444444444444444,
              "#bd3786"
             ],
             [
              0.5555555555555556,
              "#d8576b"
             ],
             [
              0.6666666666666666,
              "#ed7953"
             ],
             [
              0.7777777777777778,
              "#fb9f3a"
             ],
             [
              0.8888888888888888,
              "#fdca26"
             ],
             [
              1,
              "#f0f921"
             ]
            ],
            "type": "histogram2d"
           }
          ],
          "histogram2dcontour": [
           {
            "colorbar": {
             "outlinewidth": 0,
             "ticks": ""
            },
            "colorscale": [
             [
              0,
              "#0d0887"
             ],
             [
              0.1111111111111111,
              "#46039f"
             ],
             [
              0.2222222222222222,
              "#7201a8"
             ],
             [
              0.3333333333333333,
              "#9c179e"
             ],
             [
              0.4444444444444444,
              "#bd3786"
             ],
             [
              0.5555555555555556,
              "#d8576b"
             ],
             [
              0.6666666666666666,
              "#ed7953"
             ],
             [
              0.7777777777777778,
              "#fb9f3a"
             ],
             [
              0.8888888888888888,
              "#fdca26"
             ],
             [
              1,
              "#f0f921"
             ]
            ],
            "type": "histogram2dcontour"
           }
          ],
          "mesh3d": [
           {
            "colorbar": {
             "outlinewidth": 0,
             "ticks": ""
            },
            "type": "mesh3d"
           }
          ],
          "parcoords": [
           {
            "line": {
             "colorbar": {
              "outlinewidth": 0,
              "ticks": ""
             }
            },
            "type": "parcoords"
           }
          ],
          "pie": [
           {
            "automargin": true,
            "type": "pie"
           }
          ],
          "scatter": [
           {
            "fillpattern": {
             "fillmode": "overlay",
             "size": 10,
             "solidity": 0.2
            },
            "type": "scatter"
           }
          ],
          "scatter3d": [
           {
            "line": {
             "colorbar": {
              "outlinewidth": 0,
              "ticks": ""
             }
            },
            "marker": {
             "colorbar": {
              "outlinewidth": 0,
              "ticks": ""
             }
            },
            "type": "scatter3d"
           }
          ],
          "scattercarpet": [
           {
            "marker": {
             "colorbar": {
              "outlinewidth": 0,
              "ticks": ""
             }
            },
            "type": "scattercarpet"
           }
          ],
          "scattergeo": [
           {
            "marker": {
             "colorbar": {
              "outlinewidth": 0,
              "ticks": ""
             }
            },
            "type": "scattergeo"
           }
          ],
          "scattergl": [
           {
            "marker": {
             "colorbar": {
              "outlinewidth": 0,
              "ticks": ""
             }
            },
            "type": "scattergl"
           }
          ],
          "scattermapbox": [
           {
            "marker": {
             "colorbar": {
              "outlinewidth": 0,
              "ticks": ""
             }
            },
            "type": "scattermapbox"
           }
          ],
          "scatterpolar": [
           {
            "marker": {
             "colorbar": {
              "outlinewidth": 0,
              "ticks": ""
             }
            },
            "type": "scatterpolar"
           }
          ],
          "scatterpolargl": [
           {
            "marker": {
             "colorbar": {
              "outlinewidth": 0,
              "ticks": ""
             }
            },
            "type": "scatterpolargl"
           }
          ],
          "scatterternary": [
           {
            "marker": {
             "colorbar": {
              "outlinewidth": 0,
              "ticks": ""
             }
            },
            "type": "scatterternary"
           }
          ],
          "surface": [
           {
            "colorbar": {
             "outlinewidth": 0,
             "ticks": ""
            },
            "colorscale": [
             [
              0,
              "#0d0887"
             ],
             [
              0.1111111111111111,
              "#46039f"
             ],
             [
              0.2222222222222222,
              "#7201a8"
             ],
             [
              0.3333333333333333,
              "#9c179e"
             ],
             [
              0.4444444444444444,
              "#bd3786"
             ],
             [
              0.5555555555555556,
              "#d8576b"
             ],
             [
              0.6666666666666666,
              "#ed7953"
             ],
             [
              0.7777777777777778,
              "#fb9f3a"
             ],
             [
              0.8888888888888888,
              "#fdca26"
             ],
             [
              1,
              "#f0f921"
             ]
            ],
            "type": "surface"
           }
          ],
          "table": [
           {
            "cells": {
             "fill": {
              "color": "#EBF0F8"
             },
             "line": {
              "color": "white"
             }
            },
            "header": {
             "fill": {
              "color": "#C8D4E3"
             },
             "line": {
              "color": "white"
             }
            },
            "type": "table"
           }
          ]
         },
         "layout": {
          "annotationdefaults": {
           "arrowcolor": "#2a3f5f",
           "arrowhead": 0,
           "arrowwidth": 1
          },
          "autotypenumbers": "strict",
          "coloraxis": {
           "colorbar": {
            "outlinewidth": 0,
            "ticks": ""
           }
          },
          "colorscale": {
           "diverging": [
            [
             0,
             "#8e0152"
            ],
            [
             0.1,
             "#c51b7d"
            ],
            [
             0.2,
             "#de77ae"
            ],
            [
             0.3,
             "#f1b6da"
            ],
            [
             0.4,
             "#fde0ef"
            ],
            [
             0.5,
             "#f7f7f7"
            ],
            [
             0.6,
             "#e6f5d0"
            ],
            [
             0.7,
             "#b8e186"
            ],
            [
             0.8,
             "#7fbc41"
            ],
            [
             0.9,
             "#4d9221"
            ],
            [
             1,
             "#276419"
            ]
           ],
           "sequential": [
            [
             0,
             "#0d0887"
            ],
            [
             0.1111111111111111,
             "#46039f"
            ],
            [
             0.2222222222222222,
             "#7201a8"
            ],
            [
             0.3333333333333333,
             "#9c179e"
            ],
            [
             0.4444444444444444,
             "#bd3786"
            ],
            [
             0.5555555555555556,
             "#d8576b"
            ],
            [
             0.6666666666666666,
             "#ed7953"
            ],
            [
             0.7777777777777778,
             "#fb9f3a"
            ],
            [
             0.8888888888888888,
             "#fdca26"
            ],
            [
             1,
             "#f0f921"
            ]
           ],
           "sequentialminus": [
            [
             0,
             "#0d0887"
            ],
            [
             0.1111111111111111,
             "#46039f"
            ],
            [
             0.2222222222222222,
             "#7201a8"
            ],
            [
             0.3333333333333333,
             "#9c179e"
            ],
            [
             0.4444444444444444,
             "#bd3786"
            ],
            [
             0.5555555555555556,
             "#d8576b"
            ],
            [
             0.6666666666666666,
             "#ed7953"
            ],
            [
             0.7777777777777778,
             "#fb9f3a"
            ],
            [
             0.8888888888888888,
             "#fdca26"
            ],
            [
             1,
             "#f0f921"
            ]
           ]
          },
          "colorway": [
           "#636efa",
           "#EF553B",
           "#00cc96",
           "#ab63fa",
           "#FFA15A",
           "#19d3f3",
           "#FF6692",
           "#B6E880",
           "#FF97FF",
           "#FECB52"
          ],
          "font": {
           "color": "#2a3f5f"
          },
          "geo": {
           "bgcolor": "white",
           "lakecolor": "white",
           "landcolor": "#E5ECF6",
           "showlakes": true,
           "showland": true,
           "subunitcolor": "white"
          },
          "hoverlabel": {
           "align": "left"
          },
          "hovermode": "closest",
          "mapbox": {
           "style": "light"
          },
          "paper_bgcolor": "white",
          "plot_bgcolor": "#E5ECF6",
          "polar": {
           "angularaxis": {
            "gridcolor": "white",
            "linecolor": "white",
            "ticks": ""
           },
           "bgcolor": "#E5ECF6",
           "radialaxis": {
            "gridcolor": "white",
            "linecolor": "white",
            "ticks": ""
           }
          },
          "scene": {
           "xaxis": {
            "backgroundcolor": "#E5ECF6",
            "gridcolor": "white",
            "gridwidth": 2,
            "linecolor": "white",
            "showbackground": true,
            "ticks": "",
            "zerolinecolor": "white"
           },
           "yaxis": {
            "backgroundcolor": "#E5ECF6",
            "gridcolor": "white",
            "gridwidth": 2,
            "linecolor": "white",
            "showbackground": true,
            "ticks": "",
            "zerolinecolor": "white"
           },
           "zaxis": {
            "backgroundcolor": "#E5ECF6",
            "gridcolor": "white",
            "gridwidth": 2,
            "linecolor": "white",
            "showbackground": true,
            "ticks": "",
            "zerolinecolor": "white"
           }
          },
          "shapedefaults": {
           "line": {
            "color": "#2a3f5f"
           }
          },
          "ternary": {
           "aaxis": {
            "gridcolor": "white",
            "linecolor": "white",
            "ticks": ""
           },
           "baxis": {
            "gridcolor": "white",
            "linecolor": "white",
            "ticks": ""
           },
           "bgcolor": "#E5ECF6",
           "caxis": {
            "gridcolor": "white",
            "linecolor": "white",
            "ticks": ""
           }
          },
          "title": {
           "x": 0.05
          },
          "xaxis": {
           "automargin": true,
           "gridcolor": "white",
           "linecolor": "white",
           "ticks": "",
           "title": {
            "standoff": 15
           },
           "zerolinecolor": "white",
           "zerolinewidth": 2
          },
          "yaxis": {
           "automargin": true,
           "gridcolor": "white",
           "linecolor": "white",
           "ticks": "",
           "title": {
            "standoff": 15
           },
           "zerolinecolor": "white",
           "zerolinewidth": 2
          }
         }
        },
        "title": {
         "text": "Unique # of ['texas', 'florida'] n-grams for each label"
        },
        "xaxis": {
         "anchor": "y",
         "domain": [
          0,
          1
         ],
         "title": {
          "text": "N-gram size"
         }
        },
        "yaxis": {
         "anchor": "x",
         "domain": [
          0,
          1
         ],
         "title": {
          "text": "Unique # of n-grams"
         }
        }
       }
      }
     },
     "metadata": {},
     "output_type": "display_data"
    }
   ],
   "source": [
    "import plotly.express as px\n",
    "\n",
    "intersection_sizes = []\n",
    "for n in [1, 2, 3, 4, 5, 6]:\n",
    "\n",
    "    good_ngrams = series_to_ngrams(df[df.label == \"good\"].comments, n).value_counts()\n",
    "    bad_ngrams = series_to_ngrams(df[df.label == \"bad\"].comments, n).value_counts()\n",
    "    mgood_ngrams = series_to_ngrams(df[df.label == \"mgood\"].comments, n).value_counts()\n",
    "    mbad_ngrams = series_to_ngrams(df[df.label == \"mbad\"].comments, n).value_counts()\n",
    "    intersection_sizes_n = get_exclusive_sizes(\n",
    "        set(good_ngrams.index),\n",
    "        set(bad_ngrams.index),\n",
    "        set(mgood_ngrams.index),\n",
    "        set(mbad_ngrams.index)\n",
    "    )\n",
    "\n",
    "    intersection_sizes_n[\"n\"] = n\n",
    "\n",
    "    intersection_sizes.append(intersection_sizes_n)\n",
    "\n",
    "\n",
    "# prepare data\n",
    "is_df = pd.DataFrame(intersection_sizes)\n",
    "is_df = is_df.melt(id_vars=\"n\", var_name=\"label\", value_name=\"count\")\n",
    "is_df[\"count\"] = is_df[\"count\"].astype(int)\n",
    "is_df[\"n\"] = is_df[\"n\"].astype(int)\n",
    "\n",
    "# exclude good \n",
    "is_df = is_df[is_df.label != \"good\"]\n",
    "\n",
    "# plot a line chart\n",
    "px.line(is_df, \n",
    "    x=\"n\", y=\"count\",\n",
    "    color=\"label\",\n",
    "    title=f\"Unique # of {GEO} n-grams for each label\", \n",
    "    labels={\"n\": \"N-gram size\", \"count\": \"Unique # of n-grams\"},\n",
    "    markers=True\n",
    "    )"
   ]
  },
  {
   "attachments": {},
   "cell_type": "markdown",
   "metadata": {},
   "source": [
    "We can see that the number of unique ngrams increases until about n=4, and then levels off. What are the top 10 4-grams for misleading reviews?"
   ]
  },
  {
   "cell_type": "code",
   "execution_count": 7,
   "metadata": {},
   "outputs": [
    {
     "name": "stdout",
     "output_type": "stream",
     "text": [
      "Top 10 most common 3-grams in misleading reviews:\n"
     ]
    },
    {
     "data": {
      "text/plain": [
       "[('within_walking_distance', 10),\n",
       " ('would_not_recommend', 7),\n",
       " ('living_room_furniture', 4),\n",
       " ('not_recommend_staying', 4),\n",
       " ('not_big_deal', 4),\n",
       " ('great_place_stay', 4),\n",
       " ('let_u_know', 4),\n",
       " ('not_work_not', 3),\n",
       " ('give_4_star', 3),\n",
       " ('made_u_feel', 3)]"
      ]
     },
     "execution_count": 7,
     "metadata": {},
     "output_type": "execute_result"
    }
   ],
   "source": [
    "import numpy as np\n",
    "from collections import Counter\n",
    "\n",
    "# get subset of misleading reviews\n",
    "subset = df[df.label.isin([\"mbad\", \"mgood\"])]\n",
    "\n",
    "# get groups of N consecutive words\n",
    "N = 3\n",
    "n_grams = series_to_ngrams(subset.comments, N).to_list()\n",
    "\n",
    "print(f\"Top 10 most common {N}-grams in misleading reviews:\")\n",
    "Counter(n_grams).most_common(10)"
   ]
  },
  {
   "attachments": {},
   "cell_type": "markdown",
   "metadata": {},
   "source": [
    "Let's manually remove some of these that don't make sense"
   ]
  },
  {
   "attachments": {},
   "cell_type": "markdown",
   "metadata": {},
   "source": [
    "Now let's look at a word cloud of the N-grams in misleading reviews."
   ]
  },
  {
   "cell_type": "code",
   "execution_count": 8,
   "metadata": {},
   "outputs": [
    {
     "data": {
      "application/vnd.plotly.v1+json": {
       "config": {
        "plotlyServerURL": "https://plot.ly"
       },
       "data": [
        {
         "hovertemplate": "x: %{x}<br>y: %{y}<br>color: [%{z[0]}, %{z[1]}, %{z[2]}]<extra></extra>",
         "name": "0",
         "source": "data:image/png;base64,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",
         "type": "image",
         "xaxis": "x",
         "yaxis": "y"
        }
       ],
       "layout": {
        "height": 700,
        "template": {
         "data": {
          "bar": [
           {
            "error_x": {
             "color": "#2a3f5f"
            },
            "error_y": {
             "color": "#2a3f5f"
            },
            "marker": {
             "line": {
              "color": "#E5ECF6",
              "width": 0.5
             },
             "pattern": {
              "fillmode": "overlay",
              "size": 10,
              "solidity": 0.2
             }
            },
            "type": "bar"
           }
          ],
          "barpolar": [
           {
            "marker": {
             "line": {
              "color": "#E5ECF6",
              "width": 0.5
             },
             "pattern": {
              "fillmode": "overlay",
              "size": 10,
              "solidity": 0.2
             }
            },
            "type": "barpolar"
           }
          ],
          "carpet": [
           {
            "aaxis": {
             "endlinecolor": "#2a3f5f",
             "gridcolor": "white",
             "linecolor": "white",
             "minorgridcolor": "white",
             "startlinecolor": "#2a3f5f"
            },
            "baxis": {
             "endlinecolor": "#2a3f5f",
             "gridcolor": "white",
             "linecolor": "white",
             "minorgridcolor": "white",
             "startlinecolor": "#2a3f5f"
            },
            "type": "carpet"
           }
          ],
          "choropleth": [
           {
            "colorbar": {
             "outlinewidth": 0,
             "ticks": ""
            },
            "type": "choropleth"
           }
          ],
          "contour": [
           {
            "colorbar": {
             "outlinewidth": 0,
             "ticks": ""
            },
            "colorscale": [
             [
              0,
              "#0d0887"
             ],
             [
              0.1111111111111111,
              "#46039f"
             ],
             [
              0.2222222222222222,
              "#7201a8"
             ],
             [
              0.3333333333333333,
              "#9c179e"
             ],
             [
              0.4444444444444444,
              "#bd3786"
             ],
             [
              0.5555555555555556,
              "#d8576b"
             ],
             [
              0.6666666666666666,
              "#ed7953"
             ],
             [
              0.7777777777777778,
              "#fb9f3a"
             ],
             [
              0.8888888888888888,
              "#fdca26"
             ],
             [
              1,
              "#f0f921"
             ]
            ],
            "type": "contour"
           }
          ],
          "contourcarpet": [
           {
            "colorbar": {
             "outlinewidth": 0,
             "ticks": ""
            },
            "type": "contourcarpet"
           }
          ],
          "heatmap": [
           {
            "colorbar": {
             "outlinewidth": 0,
             "ticks": ""
            },
            "colorscale": [
             [
              0,
              "#0d0887"
             ],
             [
              0.1111111111111111,
              "#46039f"
             ],
             [
              0.2222222222222222,
              "#7201a8"
             ],
             [
              0.3333333333333333,
              "#9c179e"
             ],
             [
              0.4444444444444444,
              "#bd3786"
             ],
             [
              0.5555555555555556,
              "#d8576b"
             ],
             [
              0.6666666666666666,
              "#ed7953"
             ],
             [
              0.7777777777777778,
              "#fb9f3a"
             ],
             [
              0.8888888888888888,
              "#fdca26"
             ],
             [
              1,
              "#f0f921"
             ]
            ],
            "type": "heatmap"
           }
          ],
          "heatmapgl": [
           {
            "colorbar": {
             "outlinewidth": 0,
             "ticks": ""
            },
            "colorscale": [
             [
              0,
              "#0d0887"
             ],
             [
              0.1111111111111111,
              "#46039f"
             ],
             [
              0.2222222222222222,
              "#7201a8"
             ],
             [
              0.3333333333333333,
              "#9c179e"
             ],
             [
              0.4444444444444444,
              "#bd3786"
             ],
             [
              0.5555555555555556,
              "#d8576b"
             ],
             [
              0.6666666666666666,
              "#ed7953"
             ],
             [
              0.7777777777777778,
              "#fb9f3a"
             ],
             [
              0.8888888888888888,
              "#fdca26"
             ],
             [
              1,
              "#f0f921"
             ]
            ],
            "type": "heatmapgl"
           }
          ],
          "histogram": [
           {
            "marker": {
             "pattern": {
              "fillmode": "overlay",
              "size": 10,
              "solidity": 0.2
             }
            },
            "type": "histogram"
           }
          ],
          "histogram2d": [
           {
            "colorbar": {
             "outlinewidth": 0,
             "ticks": ""
            },
            "colorscale": [
             [
              0,
              "#0d0887"
             ],
             [
              0.1111111111111111,
              "#46039f"
             ],
             [
              0.2222222222222222,
              "#7201a8"
             ],
             [
              0.3333333333333333,
              "#9c179e"
             ],
             [
              0.4444444444444444,
              "#bd3786"
             ],
             [
              0.5555555555555556,
              "#d8576b"
             ],
             [
              0.6666666666666666,
              "#ed7953"
             ],
             [
              0.7777777777777778,
              "#fb9f3a"
             ],
             [
              0.8888888888888888,
              "#fdca26"
             ],
             [
              1,
              "#f0f921"
             ]
            ],
            "type": "histogram2d"
           }
          ],
          "histogram2dcontour": [
           {
            "colorbar": {
             "outlinewidth": 0,
             "ticks": ""
            },
            "colorscale": [
             [
              0,
              "#0d0887"
             ],
             [
              0.1111111111111111,
              "#46039f"
             ],
             [
              0.2222222222222222,
              "#7201a8"
             ],
             [
              0.3333333333333333,
              "#9c179e"
             ],
             [
              0.4444444444444444,
              "#bd3786"
             ],
             [
              0.5555555555555556,
              "#d8576b"
             ],
             [
              0.6666666666666666,
              "#ed7953"
             ],
             [
              0.7777777777777778,
              "#fb9f3a"
             ],
             [
              0.8888888888888888,
              "#fdca26"
             ],
             [
              1,
              "#f0f921"
             ]
            ],
            "type": "histogram2dcontour"
           }
          ],
          "mesh3d": [
           {
            "colorbar": {
             "outlinewidth": 0,
             "ticks": ""
            },
            "type": "mesh3d"
           }
          ],
          "parcoords": [
           {
            "line": {
             "colorbar": {
              "outlinewidth": 0,
              "ticks": ""
             }
            },
            "type": "parcoords"
           }
          ],
          "pie": [
           {
            "automargin": true,
            "type": "pie"
           }
          ],
          "scatter": [
           {
            "fillpattern": {
             "fillmode": "overlay",
             "size": 10,
             "solidity": 0.2
            },
            "type": "scatter"
           }
          ],
          "scatter3d": [
           {
            "line": {
             "colorbar": {
              "outlinewidth": 0,
              "ticks": ""
             }
            },
            "marker": {
             "colorbar": {
              "outlinewidth": 0,
              "ticks": ""
             }
            },
            "type": "scatter3d"
           }
          ],
          "scattercarpet": [
           {
            "marker": {
             "colorbar": {
              "outlinewidth": 0,
              "ticks": ""
             }
            },
            "type": "scattercarpet"
           }
          ],
          "scattergeo": [
           {
            "marker": {
             "colorbar": {
              "outlinewidth": 0,
              "ticks": ""
             }
            },
            "type": "scattergeo"
           }
          ],
          "scattergl": [
           {
            "marker": {
             "colorbar": {
              "outlinewidth": 0,
              "ticks": ""
             }
            },
            "type": "scattergl"
           }
          ],
          "scattermapbox": [
           {
            "marker": {
             "colorbar": {
              "outlinewidth": 0,
              "ticks": ""
             }
            },
            "type": "scattermapbox"
           }
          ],
          "scatterpolar": [
           {
            "marker": {
             "colorbar": {
              "outlinewidth": 0,
              "ticks": ""
             }
            },
            "type": "scatterpolar"
           }
          ],
          "scatterpolargl": [
           {
            "marker": {
             "colorbar": {
              "outlinewidth": 0,
              "ticks": ""
             }
            },
            "type": "scatterpolargl"
           }
          ],
          "scatterternary": [
           {
            "marker": {
             "colorbar": {
              "outlinewidth": 0,
              "ticks": ""
             }
            },
            "type": "scatterternary"
           }
          ],
          "surface": [
           {
            "colorbar": {
             "outlinewidth": 0,
             "ticks": ""
            },
            "colorscale": [
             [
              0,
              "#0d0887"
             ],
             [
              0.1111111111111111,
              "#46039f"
             ],
             [
              0.2222222222222222,
              "#7201a8"
             ],
             [
              0.3333333333333333,
              "#9c179e"
             ],
             [
              0.4444444444444444,
              "#bd3786"
             ],
             [
              0.5555555555555556,
              "#d8576b"
             ],
             [
              0.6666666666666666,
              "#ed7953"
             ],
             [
              0.7777777777777778,
              "#fb9f3a"
             ],
             [
              0.8888888888888888,
              "#fdca26"
             ],
             [
              1,
              "#f0f921"
             ]
            ],
            "type": "surface"
           }
          ],
          "table": [
           {
            "cells": {
             "fill": {
              "color": "#EBF0F8"
             },
             "line": {
              "color": "white"
             }
            },
            "header": {
             "fill": {
              "color": "#C8D4E3"
             },
             "line": {
              "color": "white"
             }
            },
            "type": "table"
           }
          ]
         },
         "layout": {
          "annotationdefaults": {
           "arrowcolor": "#2a3f5f",
           "arrowhead": 0,
           "arrowwidth": 1
          },
          "autotypenumbers": "strict",
          "coloraxis": {
           "colorbar": {
            "outlinewidth": 0,
            "ticks": ""
           }
          },
          "colorscale": {
           "diverging": [
            [
             0,
             "#8e0152"
            ],
            [
             0.1,
             "#c51b7d"
            ],
            [
             0.2,
             "#de77ae"
            ],
            [
             0.3,
             "#f1b6da"
            ],
            [
             0.4,
             "#fde0ef"
            ],
            [
             0.5,
             "#f7f7f7"
            ],
            [
             0.6,
             "#e6f5d0"
            ],
            [
             0.7,
             "#b8e186"
            ],
            [
             0.8,
             "#7fbc41"
            ],
            [
             0.9,
             "#4d9221"
            ],
            [
             1,
             "#276419"
            ]
           ],
           "sequential": [
            [
             0,
             "#0d0887"
            ],
            [
             0.1111111111111111,
             "#46039f"
            ],
            [
             0.2222222222222222,
             "#7201a8"
            ],
            [
             0.3333333333333333,
             "#9c179e"
            ],
            [
             0.4444444444444444,
             "#bd3786"
            ],
            [
             0.5555555555555556,
             "#d8576b"
            ],
            [
             0.6666666666666666,
             "#ed7953"
            ],
            [
             0.7777777777777778,
             "#fb9f3a"
            ],
            [
             0.8888888888888888,
             "#fdca26"
            ],
            [
             1,
             "#f0f921"
            ]
           ],
           "sequentialminus": [
            [
             0,
             "#0d0887"
            ],
            [
             0.1111111111111111,
             "#46039f"
            ],
            [
             0.2222222222222222,
             "#7201a8"
            ],
            [
             0.3333333333333333,
             "#9c179e"
            ],
            [
             0.4444444444444444,
             "#bd3786"
            ],
            [
             0.5555555555555556,
             "#d8576b"
            ],
            [
             0.6666666666666666,
             "#ed7953"
            ],
            [
             0.7777777777777778,
             "#fb9f3a"
            ],
            [
             0.8888888888888888,
             "#fdca26"
            ],
            [
             1,
             "#f0f921"
            ]
           ]
          },
          "colorway": [
           "#636efa",
           "#EF553B",
           "#00cc96",
           "#ab63fa",
           "#FFA15A",
           "#19d3f3",
           "#FF6692",
           "#B6E880",
           "#FF97FF",
           "#FECB52"
          ],
          "font": {
           "color": "#2a3f5f"
          },
          "geo": {
           "bgcolor": "white",
           "lakecolor": "white",
           "landcolor": "#E5ECF6",
           "showlakes": true,
           "showland": true,
           "subunitcolor": "white"
          },
          "hoverlabel": {
           "align": "left"
          },
          "hovermode": "closest",
          "mapbox": {
           "style": "light"
          },
          "paper_bgcolor": "white",
          "plot_bgcolor": "#E5ECF6",
          "polar": {
           "angularaxis": {
            "gridcolor": "white",
            "linecolor": "white",
            "ticks": ""
           },
           "bgcolor": "#E5ECF6",
           "radialaxis": {
            "gridcolor": "white",
            "linecolor": "white",
            "ticks": ""
           }
          },
          "scene": {
           "xaxis": {
            "backgroundcolor": "#E5ECF6",
            "gridcolor": "white",
            "gridwidth": 2,
            "linecolor": "white",
            "showbackground": true,
            "ticks": "",
            "zerolinecolor": "white"
           },
           "yaxis": {
            "backgroundcolor": "#E5ECF6",
            "gridcolor": "white",
            "gridwidth": 2,
            "linecolor": "white",
            "showbackground": true,
            "ticks": "",
            "zerolinecolor": "white"
           },
           "zaxis": {
            "backgroundcolor": "#E5ECF6",
            "gridcolor": "white",
            "gridwidth": 2,
            "linecolor": "white",
            "showbackground": true,
            "ticks": "",
            "zerolinecolor": "white"
           }
          },
          "shapedefaults": {
           "line": {
            "color": "#2a3f5f"
           }
          },
          "ternary": {
           "aaxis": {
            "gridcolor": "white",
            "linecolor": "white",
            "ticks": ""
           },
           "baxis": {
            "gridcolor": "white",
            "linecolor": "white",
            "ticks": ""
           },
           "bgcolor": "#E5ECF6",
           "caxis": {
            "gridcolor": "white",
            "linecolor": "white",
            "ticks": ""
           }
          },
          "title": {
           "x": 0.05
          },
          "xaxis": {
           "automargin": true,
           "gridcolor": "white",
           "linecolor": "white",
           "ticks": "",
           "title": {
            "standoff": 15
           },
           "zerolinecolor": "white",
           "zerolinewidth": 2
          },
          "yaxis": {
           "automargin": true,
           "gridcolor": "white",
           "linecolor": "white",
           "ticks": "",
           "title": {
            "standoff": 15
           },
           "zerolinecolor": "white",
           "zerolinewidth": 2
          }
         }
        },
        "title": {
         "text": "Most common 3-grams in misleading reviews"
        },
        "width": 700,
        "xaxis": {
         "anchor": "y",
         "domain": [
          0,
          1
         ],
         "visible": false
        },
        "yaxis": {
         "anchor": "x",
         "domain": [
          0,
          1
         ],
         "visible": false
        }
       }
      }
     },
     "metadata": {},
     "output_type": "display_data"
    }
   ],
   "source": [
    "from wordcloud import WordCloud\n",
    "from PIL import Image\n",
    "\n",
    "ngrams_str = \" \".join(n_grams)\n",
    "\n",
    "# make house-shaped mask\n",
    "mask = np.array(Image.open(\"../../house_shape.png\"))\n",
    "# fill transparent areas with white\n",
    "mask[mask[:, :, 3] == 0] = [255, 255, 255, 255]\n",
    "\n",
    "# generate wordcloud\n",
    "wc = WordCloud(\n",
    "    background_color=\"white\", \n",
    "    max_words=1000, \n",
    "    width=mask.shape[0]*5,\n",
    "    height=mask.shape[1]*5,\n",
    "    mask = mask,\n",
    "    contour_width=3,\n",
    "    contour_color='steelblue',\n",
    "    colormap=\"twilight_shifted\"\n",
    ").generate(ngrams_str)\n",
    "\n",
    "wc\n",
    "\n",
    "# show wordcloud\n",
    "fig = px.imshow(wc, title=f\"Most common {N}-grams in misleading reviews\", width=700, height=700)\n",
    "fig.update_xaxes(visible=False)\n",
    "fig.update_yaxes(visible=False)\n",
    "fig.show()"
   ]
  },
  {
   "attachments": {},
   "cell_type": "markdown",
   "metadata": {},
   "source": [
    "Here is a reusable function to add ngrams features to a dataframe."
   ]
  },
  {
   "cell_type": "code",
   "execution_count": 9,
   "metadata": {},
   "outputs": [],
   "source": [
    "def ngrams_features(features, n, prefix=\"ngrams_\", corr_thresh=0.05):\n",
    "    \"\"\"Add n-gram features to the features dataframe.\"\"\"\n",
    "\n",
    "    # one-hot encode ngrams\n",
    "    df[\"ngrams\"] = df.comments.apply(lambda x: set(get_consecutive_ngrams(x, 3)))\n",
    "\n",
    "    # get set of ngrams\n",
    "    ng_set = set(series_to_ngrams(subset.comments, n).to_list())\n",
    "\n",
    "    # one-hot encode ngrams\n",
    "    ngram_features = {}\n",
    "    for ngram in ng_set:\n",
    "        ngram_features[prefix + ngram] = df.ngrams.apply(lambda ngrams: 1 if ngram in ngrams else 0)\n",
    "    ngram_df = pd.DataFrame(ngram_features)\n",
    "    \n",
    "    # filter features on correlation with label\n",
    "    ngrams_df = corr_filter(ngram_df, corr_thresh=corr_thresh)\n",
    "\n",
    "    # add ngram features to features dataframe\n",
    "    features = pd.concat([features, ngrams_df], axis=1)\n",
    "\n",
    "\n",
    "    return features"
   ]
  },
  {
   "cell_type": "code",
   "execution_count": 10,
   "metadata": {},
   "outputs": [
    {
     "name": "stdout",
     "output_type": "stream",
     "text": [
      "Features above correlation threshold (0.09):\n",
      "['ngrams_would_not_recommend', 'ngrams_no_toilet_paper', 'ngrams_not_recommend_staying', 'ngrams_could_not_access', 'ngrams_per_night_not', 'ngrams_very_old_not', 'ngrams_call_text_message', 'ngrams_phone_call_text', 'ngrams_left_first_night', 'ngrams_old_not_well', 'ngrams_worse_experience_ever', 'ngrams_refund_second_night', 'ngrams_paid_two_night', 'ngrams_expected_based_description', 'ngrams_need_deep_cleaning', 'ngrams_not_really_clean', 'ngrams_got_no_response', 'ngrams_toilet_paper_buy', 'ngrams_never_met_host', 'ngrams_property_management_company', 'ngrams_nothing_like_picture', 'ngrams_freezer_not_work', 'ngrams_obviously_not_cleaned', 'ngrams_shower_curtain_covered', 'ngrams_never_responded_message', 'ngrams_not_clean_arrived', 'ngrams_not_feel_comfortable', 'ngrams_very_bad_shape', 'ngrams_start_good_thing', 'ngrams_got_no_answer', 'ngrams_time_opened_door', 'ngrams_spend_lot_time', 'ngrams_living_room_couch', 'ngrams_write_negative_review', 'ngrams_need_major_overhaul', 'ngrams_sleep_bedroom_door', 'ngrams_guest_not_able', 'ngrams_take_cold_shower', 'ngrams_place_sleep_10', 'ngrams_staying_another_unit', 'ngrams_told_cleaning_lady', 'ngrams_big_issue_u', 'ngrams_let_start_saying', 'ngrams_felt_compelled_write']\n"
     ]
    },
    {
     "data": {
      "text/html": [
       "<div>\n",
       "<style scoped>\n",
       "    .dataframe tbody tr th:only-of-type {\n",
       "        vertical-align: middle;\n",
       "    }\n",
       "\n",
       "    .dataframe tbody tr th {\n",
       "        vertical-align: top;\n",
       "    }\n",
       "\n",
       "    .dataframe thead th {\n",
       "        text-align: right;\n",
       "    }\n",
       "</style>\n",
       "<table border=\"1\" class=\"dataframe\">\n",
       "  <thead>\n",
       "    <tr style=\"text-align: right;\">\n",
       "      <th></th>\n",
       "      <th>ngrams_would_not_recommend</th>\n",
       "      <th>ngrams_no_toilet_paper</th>\n",
       "      <th>ngrams_not_recommend_staying</th>\n",
       "      <th>ngrams_could_not_access</th>\n",
       "      <th>ngrams_per_night_not</th>\n",
       "      <th>ngrams_very_old_not</th>\n",
       "      <th>ngrams_call_text_message</th>\n",
       "      <th>ngrams_phone_call_text</th>\n",
       "      <th>ngrams_left_first_night</th>\n",
       "      <th>ngrams_old_not_well</th>\n",
       "      <th>...</th>\n",
       "      <th>ngrams_need_major_overhaul</th>\n",
       "      <th>ngrams_sleep_bedroom_door</th>\n",
       "      <th>ngrams_guest_not_able</th>\n",
       "      <th>ngrams_take_cold_shower</th>\n",
       "      <th>ngrams_place_sleep_10</th>\n",
       "      <th>ngrams_staying_another_unit</th>\n",
       "      <th>ngrams_told_cleaning_lady</th>\n",
       "      <th>ngrams_big_issue_u</th>\n",
       "      <th>ngrams_let_start_saying</th>\n",
       "      <th>ngrams_felt_compelled_write</th>\n",
       "    </tr>\n",
       "  </thead>\n",
       "  <tbody>\n",
       "    <tr>\n",
       "      <th>0</th>\n",
       "      <td>0</td>\n",
       "      <td>0</td>\n",
       "      <td>0</td>\n",
       "      <td>0</td>\n",
       "      <td>0</td>\n",
       "      <td>0</td>\n",
       "      <td>0</td>\n",
       "      <td>0</td>\n",
       "      <td>0</td>\n",
       "      <td>0</td>\n",
       "      <td>...</td>\n",
       "      <td>0</td>\n",
       "      <td>0</td>\n",
       "      <td>0</td>\n",
       "      <td>0</td>\n",
       "      <td>0</td>\n",
       "      <td>0</td>\n",
       "      <td>0</td>\n",
       "      <td>0</td>\n",
       "      <td>0</td>\n",
       "      <td>0</td>\n",
       "    </tr>\n",
       "    <tr>\n",
       "      <th>1</th>\n",
       "      <td>0</td>\n",
       "      <td>0</td>\n",
       "      <td>0</td>\n",
       "      <td>0</td>\n",
       "      <td>0</td>\n",
       "      <td>0</td>\n",
       "      <td>0</td>\n",
       "      <td>0</td>\n",
       "      <td>0</td>\n",
       "      <td>0</td>\n",
       "      <td>...</td>\n",
       "      <td>0</td>\n",
       "      <td>0</td>\n",
       "      <td>0</td>\n",
       "      <td>0</td>\n",
       "      <td>0</td>\n",
       "      <td>0</td>\n",
       "      <td>0</td>\n",
       "      <td>0</td>\n",
       "      <td>0</td>\n",
       "      <td>0</td>\n",
       "    </tr>\n",
       "    <tr>\n",
       "      <th>2</th>\n",
       "      <td>0</td>\n",
       "      <td>0</td>\n",
       "      <td>0</td>\n",
       "      <td>0</td>\n",
       "      <td>0</td>\n",
       "      <td>0</td>\n",
       "      <td>0</td>\n",
       "      <td>0</td>\n",
       "      <td>0</td>\n",
       "      <td>0</td>\n",
       "      <td>...</td>\n",
       "      <td>0</td>\n",
       "      <td>0</td>\n",
       "      <td>0</td>\n",
       "      <td>0</td>\n",
       "      <td>0</td>\n",
       "      <td>0</td>\n",
       "      <td>0</td>\n",
       "      <td>0</td>\n",
       "      <td>0</td>\n",
       "      <td>0</td>\n",
       "    </tr>\n",
       "    <tr>\n",
       "      <th>3</th>\n",
       "      <td>0</td>\n",
       "      <td>0</td>\n",
       "      <td>0</td>\n",
       "      <td>0</td>\n",
       "      <td>0</td>\n",
       "      <td>0</td>\n",
       "      <td>0</td>\n",
       "      <td>0</td>\n",
       "      <td>0</td>\n",
       "      <td>0</td>\n",
       "      <td>...</td>\n",
       "      <td>0</td>\n",
       "      <td>0</td>\n",
       "      <td>0</td>\n",
       "      <td>0</td>\n",
       "      <td>0</td>\n",
       "      <td>0</td>\n",
       "      <td>0</td>\n",
       "      <td>0</td>\n",
       "      <td>0</td>\n",
       "      <td>0</td>\n",
       "    </tr>\n",
       "    <tr>\n",
       "      <th>4</th>\n",
       "      <td>0</td>\n",
       "      <td>0</td>\n",
       "      <td>0</td>\n",
       "      <td>0</td>\n",
       "      <td>0</td>\n",
       "      <td>0</td>\n",
       "      <td>0</td>\n",
       "      <td>0</td>\n",
       "      <td>0</td>\n",
       "      <td>0</td>\n",
       "      <td>...</td>\n",
       "      <td>0</td>\n",
       "      <td>0</td>\n",
       "      <td>0</td>\n",
       "      <td>0</td>\n",
       "      <td>0</td>\n",
       "      <td>0</td>\n",
       "      <td>0</td>\n",
       "      <td>0</td>\n",
       "      <td>0</td>\n",
       "      <td>0</td>\n",
       "    </tr>\n",
       "    <tr>\n",
       "      <th>...</th>\n",
       "      <td>...</td>\n",
       "      <td>...</td>\n",
       "      <td>...</td>\n",
       "      <td>...</td>\n",
       "      <td>...</td>\n",
       "      <td>...</td>\n",
       "      <td>...</td>\n",
       "      <td>...</td>\n",
       "      <td>...</td>\n",
       "      <td>...</td>\n",
       "      <td>...</td>\n",
       "      <td>...</td>\n",
       "      <td>...</td>\n",
       "      <td>...</td>\n",
       "      <td>...</td>\n",
       "      <td>...</td>\n",
       "      <td>...</td>\n",
       "      <td>...</td>\n",
       "      <td>...</td>\n",
       "      <td>...</td>\n",
       "      <td>...</td>\n",
       "    </tr>\n",
       "    <tr>\n",
       "      <th>1624</th>\n",
       "      <td>0</td>\n",
       "      <td>0</td>\n",
       "      <td>0</td>\n",
       "      <td>0</td>\n",
       "      <td>0</td>\n",
       "      <td>0</td>\n",
       "      <td>0</td>\n",
       "      <td>0</td>\n",
       "      <td>0</td>\n",
       "      <td>0</td>\n",
       "      <td>...</td>\n",
       "      <td>0</td>\n",
       "      <td>0</td>\n",
       "      <td>0</td>\n",
       "      <td>0</td>\n",
       "      <td>0</td>\n",
       "      <td>0</td>\n",
       "      <td>0</td>\n",
       "      <td>0</td>\n",
       "      <td>0</td>\n",
       "      <td>0</td>\n",
       "    </tr>\n",
       "    <tr>\n",
       "      <th>1625</th>\n",
       "      <td>0</td>\n",
       "      <td>0</td>\n",
       "      <td>0</td>\n",
       "      <td>0</td>\n",
       "      <td>0</td>\n",
       "      <td>0</td>\n",
       "      <td>0</td>\n",
       "      <td>0</td>\n",
       "      <td>0</td>\n",
       "      <td>0</td>\n",
       "      <td>...</td>\n",
       "      <td>0</td>\n",
       "      <td>0</td>\n",
       "      <td>0</td>\n",
       "      <td>0</td>\n",
       "      <td>0</td>\n",
       "      <td>0</td>\n",
       "      <td>0</td>\n",
       "      <td>0</td>\n",
       "      <td>0</td>\n",
       "      <td>0</td>\n",
       "    </tr>\n",
       "    <tr>\n",
       "      <th>1626</th>\n",
       "      <td>0</td>\n",
       "      <td>0</td>\n",
       "      <td>0</td>\n",
       "      <td>0</td>\n",
       "      <td>0</td>\n",
       "      <td>0</td>\n",
       "      <td>0</td>\n",
       "      <td>0</td>\n",
       "      <td>0</td>\n",
       "      <td>0</td>\n",
       "      <td>...</td>\n",
       "      <td>0</td>\n",
       "      <td>0</td>\n",
       "      <td>0</td>\n",
       "      <td>0</td>\n",
       "      <td>0</td>\n",
       "      <td>0</td>\n",
       "      <td>0</td>\n",
       "      <td>0</td>\n",
       "      <td>0</td>\n",
       "      <td>0</td>\n",
       "    </tr>\n",
       "    <tr>\n",
       "      <th>1627</th>\n",
       "      <td>0</td>\n",
       "      <td>0</td>\n",
       "      <td>0</td>\n",
       "      <td>0</td>\n",
       "      <td>0</td>\n",
       "      <td>0</td>\n",
       "      <td>0</td>\n",
       "      <td>0</td>\n",
       "      <td>0</td>\n",
       "      <td>0</td>\n",
       "      <td>...</td>\n",
       "      <td>0</td>\n",
       "      <td>0</td>\n",
       "      <td>0</td>\n",
       "      <td>0</td>\n",
       "      <td>0</td>\n",
       "      <td>0</td>\n",
       "      <td>0</td>\n",
       "      <td>0</td>\n",
       "      <td>0</td>\n",
       "      <td>0</td>\n",
       "    </tr>\n",
       "    <tr>\n",
       "      <th>1628</th>\n",
       "      <td>0</td>\n",
       "      <td>0</td>\n",
       "      <td>0</td>\n",
       "      <td>0</td>\n",
       "      <td>0</td>\n",
       "      <td>0</td>\n",
       "      <td>0</td>\n",
       "      <td>0</td>\n",
       "      <td>0</td>\n",
       "      <td>0</td>\n",
       "      <td>...</td>\n",
       "      <td>0</td>\n",
       "      <td>0</td>\n",
       "      <td>0</td>\n",
       "      <td>0</td>\n",
       "      <td>0</td>\n",
       "      <td>0</td>\n",
       "      <td>0</td>\n",
       "      <td>0</td>\n",
       "      <td>0</td>\n",
       "      <td>0</td>\n",
       "    </tr>\n",
       "  </tbody>\n",
       "</table>\n",
       "<p>1629 rows × 44 columns</p>\n",
       "</div>"
      ],
      "text/plain": [
       "      ngrams_would_not_recommend  ngrams_no_toilet_paper  \\\n",
       "0                              0                       0   \n",
       "1                              0                       0   \n",
       "2                              0                       0   \n",
       "3                              0                       0   \n",
       "4                              0                       0   \n",
       "...                          ...                     ...   \n",
       "1624                           0                       0   \n",
       "1625                           0                       0   \n",
       "1626                           0                       0   \n",
       "1627                           0                       0   \n",
       "1628                           0                       0   \n",
       "\n",
       "      ngrams_not_recommend_staying  ngrams_could_not_access  \\\n",
       "0                                0                        0   \n",
       "1                                0                        0   \n",
       "2                                0                        0   \n",
       "3                                0                        0   \n",
       "4                                0                        0   \n",
       "...                            ...                      ...   \n",
       "1624                             0                        0   \n",
       "1625                             0                        0   \n",
       "1626                             0                        0   \n",
       "1627                             0                        0   \n",
       "1628                             0                        0   \n",
       "\n",
       "      ngrams_per_night_not  ngrams_very_old_not  ngrams_call_text_message  \\\n",
       "0                        0                    0                         0   \n",
       "1                        0                    0                         0   \n",
       "2                        0                    0                         0   \n",
       "3                        0                    0                         0   \n",
       "4                        0                    0                         0   \n",
       "...                    ...                  ...                       ...   \n",
       "1624                     0                    0                         0   \n",
       "1625                     0                    0                         0   \n",
       "1626                     0                    0                         0   \n",
       "1627                     0                    0                         0   \n",
       "1628                     0                    0                         0   \n",
       "\n",
       "      ngrams_phone_call_text  ngrams_left_first_night  ngrams_old_not_well  \\\n",
       "0                          0                        0                    0   \n",
       "1                          0                        0                    0   \n",
       "2                          0                        0                    0   \n",
       "3                          0                        0                    0   \n",
       "4                          0                        0                    0   \n",
       "...                      ...                      ...                  ...   \n",
       "1624                       0                        0                    0   \n",
       "1625                       0                        0                    0   \n",
       "1626                       0                        0                    0   \n",
       "1627                       0                        0                    0   \n",
       "1628                       0                        0                    0   \n",
       "\n",
       "      ...  ngrams_need_major_overhaul  ngrams_sleep_bedroom_door  \\\n",
       "0     ...                           0                          0   \n",
       "1     ...                           0                          0   \n",
       "2     ...                           0                          0   \n",
       "3     ...                           0                          0   \n",
       "4     ...                           0                          0   \n",
       "...   ...                         ...                        ...   \n",
       "1624  ...                           0                          0   \n",
       "1625  ...                           0                          0   \n",
       "1626  ...                           0                          0   \n",
       "1627  ...                           0                          0   \n",
       "1628  ...                           0                          0   \n",
       "\n",
       "      ngrams_guest_not_able  ngrams_take_cold_shower  ngrams_place_sleep_10  \\\n",
       "0                         0                        0                      0   \n",
       "1                         0                        0                      0   \n",
       "2                         0                        0                      0   \n",
       "3                         0                        0                      0   \n",
       "4                         0                        0                      0   \n",
       "...                     ...                      ...                    ...   \n",
       "1624                      0                        0                      0   \n",
       "1625                      0                        0                      0   \n",
       "1626                      0                        0                      0   \n",
       "1627                      0                        0                      0   \n",
       "1628                      0                        0                      0   \n",
       "\n",
       "      ngrams_staying_another_unit  ngrams_told_cleaning_lady  \\\n",
       "0                               0                          0   \n",
       "1                               0                          0   \n",
       "2                               0                          0   \n",
       "3                               0                          0   \n",
       "4                               0                          0   \n",
       "...                           ...                        ...   \n",
       "1624                            0                          0   \n",
       "1625                            0                          0   \n",
       "1626                            0                          0   \n",
       "1627                            0                          0   \n",
       "1628                            0                          0   \n",
       "\n",
       "      ngrams_big_issue_u  ngrams_let_start_saying  ngrams_felt_compelled_write  \n",
       "0                      0                        0                            0  \n",
       "1                      0                        0                            0  \n",
       "2                      0                        0                            0  \n",
       "3                      0                        0                            0  \n",
       "4                      0                        0                            0  \n",
       "...                  ...                      ...                          ...  \n",
       "1624                   0                        0                            0  \n",
       "1625                   0                        0                            0  \n",
       "1626                   0                        0                            0  \n",
       "1627                   0                        0                            0  \n",
       "1628                   0                        0                            0  \n",
       "\n",
       "[1629 rows x 44 columns]"
      ]
     },
     "execution_count": 10,
     "metadata": {},
     "output_type": "execute_result"
    }
   ],
   "source": [
    "features = pd.DataFrame()\n",
    "ngrams_features(features, 3, prefix=\"ngrams_\", corr_thresh=0.09)"
   ]
  },
  {
   "attachments": {},
   "cell_type": "markdown",
   "metadata": {},
   "source": [
    "## \"Mentioned Amenities\" Features\n",
    "Was an amenity that was included in the listing mentioned in the review?"
   ]
  },
  {
   "attachments": {},
   "cell_type": "markdown",
   "metadata": {},
   "source": [
    "First, we need to do some cleaning amenities to make them easier to match."
   ]
  },
  {
   "cell_type": "code",
   "execution_count": 11,
   "metadata": {},
   "outputs": [],
   "source": [
    "import re\n",
    "\n",
    "def clean_amenities(amenities):\n",
    "    \"\"\"Clean the amenities column.\"\"\"\n",
    "\n",
    "    cleaned = []\n",
    "\n",
    "    # basic cleaning\n",
    "    for amenity in amenities:\n",
    "        # remove quotes\n",
    "        amenity = amenity.replace('\"', \"\")\n",
    "        # remove anything in parentheses or brackets\n",
    "        amenity = re.sub(r\"\\(.*\\)\", \"\", amenity)\n",
    "        amenity = re.sub(r\"\\[.*\\]\", \"\", amenity)\n",
    "        # strip whitespace\n",
    "        amenity = amenity.strip()\n",
    "        # lowercase\n",
    "        amenity = amenity.lower()\n",
    "\n",
    "        cleaned.append(amenity)\n",
    "\n",
    "    # split entries with a slash, \"and\", or \"or\"\n",
    "    for to_split_on in [\"/\", \" and \", \" or \"]:\n",
    "        cleaned = [amenity.split(to_split_on) for amenity in cleaned]\n",
    "        cleaned = [item.strip() for sublist in cleaned for item in sublist]\n",
    "\n",
    "    # remove empty strings\n",
    "    cleaned = [amenity for amenity in cleaned if amenity != \"\"]\n",
    "\n",
    "    return cleaned\n",
    "\n",
    "df.amenities = df.amenities.apply(clean_amenities)"
   ]
  },
  {
   "attachments": {},
   "cell_type": "markdown",
   "metadata": {},
   "source": [
    "Look at some examples of the cleaned amenities."
   ]
  },
  {
   "cell_type": "code",
   "execution_count": 12,
   "metadata": {},
   "outputs": [
    {
     "data": {
      "text/plain": [
       "['tv',\n",
       " 'internet',\n",
       " 'wifi',\n",
       " 'air conditioning',\n",
       " 'pool',\n",
       " 'kitchen',\n",
       " 'gym',\n",
       " 'elevator',\n",
       " 'hot tub',\n",
       " 'heating',\n",
       " 'family',\n",
       " 'kid friendly',\n",
       " 'washer',\n",
       " 'dryer',\n",
       " 'smoke detector',\n",
       " 'essentials',\n",
       " 'shampoo',\n",
       " 'hangers',\n",
       " 'hair dryer',\n",
       " 'iron',\n",
       " 'self check-in',\n",
       " 'building staff',\n",
       " 'hot water',\n",
       " 'microwave',\n",
       " 'coffee maker',\n",
       " 'refrigerator',\n",
       " 'dishes',\n",
       " 'silverware',\n",
       " 'long term stays allowed',\n",
       " 'beachfront',\n",
       " 'paid parking on premises}']"
      ]
     },
     "execution_count": 12,
     "metadata": {},
     "output_type": "execute_result"
    }
   ],
   "source": [
    "df.amenities.sample(1).values[0]"
   ]
  },
  {
   "attachments": {},
   "cell_type": "markdown",
   "metadata": {},
   "source": [
    "Calculate our amenities features, and look at the correlation between them and the label."
   ]
  },
  {
   "cell_type": "code",
   "execution_count": 13,
   "metadata": {},
   "outputs": [
    {
     "name": "stdout",
     "output_type": "stream",
     "text": [
      "Adding amenities features...\n",
      "Features above correlation threshold (0.05):\n",
      "['lockbox', 'dishwasher', 'pool', 'stove', 'keypad', 'bathtub', 'kitchen', 'balcony', 'shampoo', 'garden', 'cat', 'family', 'breakfast']\n"
     ]
    },
    {
     "data": {
      "text/html": [
       "<div>\n",
       "<style scoped>\n",
       "    .dataframe tbody tr th:only-of-type {\n",
       "        vertical-align: middle;\n",
       "    }\n",
       "\n",
       "    .dataframe tbody tr th {\n",
       "        vertical-align: top;\n",
       "    }\n",
       "\n",
       "    .dataframe thead th {\n",
       "        text-align: right;\n",
       "    }\n",
       "</style>\n",
       "<table border=\"1\" class=\"dataframe\">\n",
       "  <thead>\n",
       "    <tr style=\"text-align: right;\">\n",
       "      <th></th>\n",
       "      <th>lockbox</th>\n",
       "      <th>dishwasher</th>\n",
       "      <th>pool</th>\n",
       "      <th>stove</th>\n",
       "      <th>keypad</th>\n",
       "      <th>bathtub</th>\n",
       "      <th>kitchen</th>\n",
       "      <th>balcony</th>\n",
       "      <th>shampoo</th>\n",
       "      <th>garden</th>\n",
       "      <th>cat</th>\n",
       "      <th>family</th>\n",
       "      <th>breakfast</th>\n",
       "      <th>review_id</th>\n",
       "      <th>label</th>\n",
       "    </tr>\n",
       "  </thead>\n",
       "  <tbody>\n",
       "    <tr>\n",
       "      <th>0</th>\n",
       "      <td>0.0</td>\n",
       "      <td>0.0</td>\n",
       "      <td>0.0</td>\n",
       "      <td>0.0</td>\n",
       "      <td>0.0</td>\n",
       "      <td>0.0</td>\n",
       "      <td>0.0</td>\n",
       "      <td>0.0</td>\n",
       "      <td>0.0</td>\n",
       "      <td>0.0</td>\n",
       "      <td>0.0</td>\n",
       "      <td>0.0</td>\n",
       "      <td>0.0</td>\n",
       "      <td>83097</td>\n",
       "      <td>good</td>\n",
       "    </tr>\n",
       "    <tr>\n",
       "      <th>2</th>\n",
       "      <td>0.0</td>\n",
       "      <td>0.0</td>\n",
       "      <td>0.0</td>\n",
       "      <td>0.0</td>\n",
       "      <td>0.0</td>\n",
       "      <td>0.0</td>\n",
       "      <td>1.0</td>\n",
       "      <td>0.0</td>\n",
       "      <td>0.0</td>\n",
       "      <td>0.0</td>\n",
       "      <td>0.0</td>\n",
       "      <td>0.0</td>\n",
       "      <td>0.0</td>\n",
       "      <td>150928</td>\n",
       "      <td>good</td>\n",
       "    </tr>\n",
       "    <tr>\n",
       "      <th>4</th>\n",
       "      <td>0.0</td>\n",
       "      <td>0.0</td>\n",
       "      <td>0.0</td>\n",
       "      <td>0.0</td>\n",
       "      <td>0.0</td>\n",
       "      <td>0.0</td>\n",
       "      <td>1.0</td>\n",
       "      <td>0.0</td>\n",
       "      <td>0.0</td>\n",
       "      <td>1.0</td>\n",
       "      <td>0.0</td>\n",
       "      <td>0.0</td>\n",
       "      <td>0.0</td>\n",
       "      <td>8602878</td>\n",
       "      <td>good</td>\n",
       "    </tr>\n",
       "    <tr>\n",
       "      <th>5</th>\n",
       "      <td>0.0</td>\n",
       "      <td>0.0</td>\n",
       "      <td>0.0</td>\n",
       "      <td>0.0</td>\n",
       "      <td>0.0</td>\n",
       "      <td>0.0</td>\n",
       "      <td>0.0</td>\n",
       "      <td>0.0</td>\n",
       "      <td>0.0</td>\n",
       "      <td>0.0</td>\n",
       "      <td>0.0</td>\n",
       "      <td>0.0</td>\n",
       "      <td>0.0</td>\n",
       "      <td>17827296</td>\n",
       "      <td>good</td>\n",
       "    </tr>\n",
       "    <tr>\n",
       "      <th>6</th>\n",
       "      <td>0.0</td>\n",
       "      <td>0.0</td>\n",
       "      <td>0.0</td>\n",
       "      <td>0.0</td>\n",
       "      <td>0.0</td>\n",
       "      <td>0.0</td>\n",
       "      <td>0.0</td>\n",
       "      <td>0.0</td>\n",
       "      <td>0.0</td>\n",
       "      <td>0.0</td>\n",
       "      <td>0.0</td>\n",
       "      <td>0.0</td>\n",
       "      <td>0.0</td>\n",
       "      <td>22768604</td>\n",
       "      <td>good</td>\n",
       "    </tr>\n",
       "  </tbody>\n",
       "</table>\n",
       "</div>"
      ],
      "text/plain": [
       "   lockbox  dishwasher  pool  stove  keypad  bathtub  kitchen  balcony  \\\n",
       "0      0.0         0.0   0.0    0.0     0.0      0.0      0.0      0.0   \n",
       "2      0.0         0.0   0.0    0.0     0.0      0.0      1.0      0.0   \n",
       "4      0.0         0.0   0.0    0.0     0.0      0.0      1.0      0.0   \n",
       "5      0.0         0.0   0.0    0.0     0.0      0.0      0.0      0.0   \n",
       "6      0.0         0.0   0.0    0.0     0.0      0.0      0.0      0.0   \n",
       "\n",
       "   shampoo  garden  cat  family  breakfast  review_id label  \n",
       "0      0.0     0.0  0.0     0.0        0.0      83097  good  \n",
       "2      0.0     0.0  0.0     0.0        0.0     150928  good  \n",
       "4      0.0     1.0  0.0     0.0        0.0    8602878  good  \n",
       "5      0.0     0.0  0.0     0.0        0.0   17827296  good  \n",
       "6      0.0     0.0  0.0     0.0        0.0   22768604  good  "
      ]
     },
     "execution_count": 13,
     "metadata": {},
     "output_type": "execute_result"
    }
   ],
   "source": [
    "def amenities_features(features: pd.DataFrame, corr_thresh=None, prefix=\"amenities_\") -> pd.DataFrame:\n",
    "    print(\"Adding amenities features...\")\n",
    "    amenities_features_df = pd.DataFrame()\n",
    "    # 1. Find the amenities in the listings\n",
    "    for index, row in df.iterrows():\n",
    "        # 1. Find the amenities in the listings\n",
    "        amenities = row.amenities\n",
    "\n",
    "        # Add one row to the features dataframe using pd.concat\n",
    "        amenities_features_df = pd.concat([amenities_features_df, pd.DataFrame(columns=amenities_features_df.columns)])\n",
    "\n",
    "        # 2. For each amenity, see if it is present in the review\n",
    "        for amenity in amenities:\n",
    "            if amenity in row.comments:\n",
    "                # 3. If it is present, add 1 for that feature\n",
    "                if amenity in amenities_features_df.columns:\n",
    "                    amenities_features_df.loc[index, amenity] = 1\n",
    "                #   If the amenity does not already exist from another review, add it to the features dataframe\n",
    "                else:\n",
    "                    amenities_features_df.loc[index, amenity] = 0\n",
    "    \n",
    "    # 4. fill missing values with 0\n",
    "    amenities_features_df = amenities_features_df.fillna(0)\n",
    "\n",
    "    # 6. Only keep amenities features that have a correlation with the label above a certain threshold\n",
    "    amenities_features_df = corr_filter(amenities_features_df, corr_thresh=corr_thresh)\n",
    "\n",
    "    # prefix features\n",
    "    amenities_features_df = amenities_features_df.add_prefix(prefix)\n",
    "\n",
    "    # 5. Add the features to the greater features dataframe\n",
    "    features = pd.concat([features, amenities_features_df], axis=1)\n",
    "\n",
    "    return features\n",
    "\n",
    "features = pd.DataFrame()\n",
    "features_with_amenities = amenities_features(features, corr_thresh=0.05, prefix=\"\")\n",
    "features_with_amenities[\"review_id\"] = df.review_id\n",
    "features_with_amenities[\"label\"] = df.label\n",
    "features_with_amenities.head()"
   ]
  },
  {
   "cell_type": "code",
   "execution_count": 14,
   "metadata": {},
   "outputs": [
    {
     "name": "stderr",
     "output_type": "stream",
     "text": [
      "C:\\Users\\grego\\AppData\\Local\\Temp\\ipykernel_14544\\2336534246.py:6: FutureWarning:\n",
      "\n",
      "The default value of numeric_only in DataFrame.corrwith is deprecated. In a future version, it will default to False. Select only valid columns or specify the value of numeric_only to silence this warning.\n",
      "\n"
     ]
    },
    {
     "data": {
      "text/plain": [
       "lockbox       0.119924\n",
       "dishwasher    0.091862\n",
       "pool          0.084724\n",
       "stove         0.075858\n",
       "keypad        0.071675\n",
       "bathtub       0.062482\n",
       "kitchen       0.054540\n",
       "balcony      -0.050448\n",
       "shampoo      -0.054802\n",
       "garden       -0.072476\n",
       "cat          -0.072627\n",
       "family       -0.078019\n",
       "breakfast    -0.081856\n",
       "dtype: float64"
      ]
     },
     "execution_count": 14,
     "metadata": {},
     "output_type": "execute_result"
    }
   ],
   "source": [
    "# OHE labels\n",
    "labels_list: list = features_with_amenities.label.unique().tolist()\n",
    "dummies = features_with_amenities.label.apply(lambda label: labels_list.index(label))\n",
    "\n",
    "# calculate correlations with the label\n",
    "corrs = features_with_amenities.drop(\"review_id\", axis=1).corrwith(dummies).sort_values(ascending=False)\n",
    "corrs"
   ]
  },
  {
   "attachments": {},
   "cell_type": "markdown",
   "metadata": {},
   "source": [
    "## Word Embeddings and T-SNE\n",
    "Another way to look at the data is to use word embeddings. We can use the word2vec model from gensim to create word embeddings for each word in the dataset. We can then take the average of all word vectors in a review to get a vector representation of the review. We can then use T-SNE to reduce the dimensionality of the word embeddings to 3 dimensions so we can plot them."
   ]
  },
  {
   "cell_type": "code",
   "execution_count": 29,
   "metadata": {},
   "outputs": [],
   "source": [
    "from gensim.models.word2vec import Word2Vec\n",
    "from typing import Tuple\n",
    "\n",
    "def embeddings_features(features, emb_vector_size=50, col=\"comments\") -> Tuple[pd.DataFrame, Word2Vec]:\n",
    "\n",
    "    print(\"Creating model...\")\n",
    "    model = Word2Vec(df[col].to_list(), \n",
    "            min_count=1,\n",
    "            vector_size=emb_vector_size,\n",
    "            workers=3, \n",
    "            window=3, \n",
    "            sg=1\n",
    "        )\n",
    "    \n",
    "    # generate embeddings\n",
    "    print(\"Generating embeddings...\")\n",
    "    get_review_embeddings = lambda review: np.mean([model.wv[word] for word in review if word in model.wv], axis=0)\n",
    "    embeddings = np.array([get_review_embeddings(review) for review in df[col].to_list()])\n",
    "    \n",
    "    for i in range(embeddings.shape[1]):\n",
    "        features[f\"embedding_{col}_{i}\"] = embeddings[:, i]\n",
    "    \n",
    "    return features, model\n",
    "\n",
    "\n",
    "def tsne_features(features, dims=3, prefix=\"tsne_\") -> pd.DataFrame:\n",
    "\n",
    "    from sklearn.manifold import TSNE\n",
    "    print(f\"Applying t-SNE... (dim={dims})\")\n",
    "    tsne = TSNE(n_components=dims, random_state=0)\n",
    "    embeddings_2d = tsne.fit_transform(features)\n",
    "    embd_df = pd.DataFrame(embeddings_2d, columns=[f\"{prefix}{dims}D_{i}\" for i in range(dims)])\n",
    "\n",
    "    return embd_df"
   ]
  },
  {
   "attachments": {},
   "cell_type": "markdown",
   "metadata": {},
   "source": [
    "Let's apply this to the misleading reviews, and then reduce down to 2 dimensions using T-SNE."
   ]
  },
  {
   "cell_type": "code",
   "execution_count": 19,
   "metadata": {},
   "outputs": [
    {
     "name": "stdout",
     "output_type": "stream",
     "text": [
      "Creating model...\n",
      "Generating embeddings...\n",
      "Applying t-SNE... (dim=3)\n"
     ]
    },
    {
     "data": {
      "application/vnd.plotly.v1+json": {
       "config": {
        "plotlyServerURL": "https://plot.ly"
       },
       "data": [
        {
         "hovertemplate": "label=good<br>tsne_3D_0=%{x}<br>tsne_3D_1=%{y}<br>tsne_3D_2=%{z}<extra></extra>",
         "legendgroup": "good",
         "marker": {
          "color": "#636efa",
          "opacity": 0.5,
          "size": 4,
          "symbol": "circle"
         },
         "mode": "markers",
         "name": "good",
         "scene": "scene",
         "showlegend": true,
         "type": "scatter3d",
         "x": [
          -5.66033935546875,
          -2.861509084701538,
          -7.631131172180176,
          -13.437780380249023,
          0.30259010195732117,
          9.80937671661377,
          -9.826836585998535,
          -3.3766915798187256,
          -7.686657428741455,
          -5.285927772521973,
          7.495182037353516,
          -1.1017755270004272,
          -9.513993263244629,
          9.693257331848145,
          -7.11510705947876,
          1.0257656574249268,
          -8.387259483337402,
          -0.4609837532043457,
          -11.505657196044922,
          0.7492871880531311,
          -0.7435182929039001,
          -3.1592090129852295,
          -5.309379577636719,
          -5.538214683532715,
          1.0048009157180786,
          -7.248581409454346,
          9.048175811767578,
          -9.952627182006836,
          -0.22554855048656464,
          -4.179373741149902,
          -11.675382614135742,
          -12.22192096710205,
          -7.711045265197754,
          -4.904066562652588,
          -5.474181175231934,
          -6.99828577041626,
          1.7501591444015503,
          -1.967476725578308,
          1.0565513372421265,
          -13.198752403259277,
          -11.603139877319336,
          -12.018715858459473,
          -7.402860641479492,
          -4.537221431732178,
          6.533385753631592,
          0.39324328303337097,
          -0.74311363697052,
          -6.3731369972229,
          6.219587802886963,
          5.530643939971924,
          -3.8354990482330322,
          -7.588338375091553,
          -0.4683040976524353,
          -0.9822917580604553,
          -4.084296703338623,
          2.4403936862945557,
          -4.976206302642822,
          -10.256998062133789,
          -1.4902814626693726,
          8.099430084228516,
          13.286859512329102,
          -3.19789457321167,
          9.946700096130371,
          -2.1583244800567627,
          -4.208369255065918,
          -2.5263054370880127,
          -6.551004886627197,
          -5.869241237640381,
          -13.636682510375977,
          -6.676538944244385,
          3.7636611461639404,
          -0.8421030044555664,
          -3.2964463233947754,
          3.676804780960083,
          1.0625019073486328,
          1.8831791877746582,
          5.664034843444824,
          -8.049239158630371,
          -6.782562732696533,
          0.2931426167488098,
          -10.37053108215332,
          -1.9748762845993042,
          -12.835086822509766,
          -4.283340930938721,
          -12.225504875183105,
          -4.752874374389648,
          -9.143481254577637,
          -9.75097942352295,
          -8.886612892150879,
          -7.288850784301758,
          2.167910575866699,
          4.789328575134277,
          -6.09382438659668,
          2.926624059677124,
          -3.069065809249878,
          7.413944721221924,
          0.0517934113740921,
          0.6697100400924683,
          3.5614497661590576,
          -3.9455044269561768,
          -3.2511250972747803,
          -5.422449588775635,
          1.7451750040054321,
          7.037459850311279,
          -0.7961282730102539,
          -0.8991196751594543,
          -5.361590385437012,
          5.63663911819458,
          -3.9813754558563232,
          -11.307536125183105,
          -1.931288242340088,
          -10.820066452026367,
          3.3568291664123535,
          7.9467692375183105,
          8.329565048217773,
          -4.348409652709961,
          -9.575292587280273,
          4.717275619506836,
          13.101271629333496,
          12.579927444458008,
          9.410199165344238,
          11.351798057556152,
          11.041746139526367,
          -5.601191520690918,
          -8.94641399383545,
          -12.705679893493652,
          4.841182231903076,
          -2.7581470012664795,
          -3.5140388011932373,
          -8.42768669128418,
          2.0183334350585938,
          -6.98930549621582,
          5.056273460388184,
          -11.184111595153809,
          -1.3871701955795288,
          -11.919346809387207,
          -10.492663383483887,
          -4.944132328033447,
          -4.463287830352783,
          7.923208236694336,
          5.594701290130615,
          18.686054229736328,
          -8.922188758850098,
          2.718989372253418,
          -4.140043258666992,
          7.78933048248291,
          -7.597591400146484,
          21.94411849975586,
          -13.604148864746094,
          0.8847724795341492,
          -10.186797142028809,
          -1.0903931856155396,
          -10.132319450378418,
          -8.193824768066406,
          -3.946690797805786,
          -1.132773518562317,
          -1.2812820672988892,
          6.0692667961120605,
          9.379281997680664,
          -1.749625325202942,
          8.556480407714844,
          11.637402534484863,
          18.063142776489258,
          -3.770709991455078,
          -7.6341071128845215,
          6.262655258178711,
          -2.305957078933716,
          -11.540775299072266,
          -10.366744995117188,
          -6.2243781089782715,
          -2.429117202758789,
          7.2833428382873535,
          -0.4806044101715088,
          -4.827212333679199,
          -1.9915962219238281,
          -7.954753398895264,
          -1.7731261253356934,
          0.7912532687187195,
          -4.493073463439941,
          5.948309898376465,
          -3.476762294769287,
          3.0251917839050293,
          0.5115152597427368,
          5.480062484741211,
          9.350090980529785,
          7.109709739685059,
          -8.184358596801758,
          -9.130337715148926,
          21.474380493164062,
          19.092477798461914,
          2.865302085876465,
          13.338379859924316,
          -9.213445663452148,
          -7.556077003479004,
          4.318406581878662,
          -8.492756843566895,
          -5.25988245010376,
          3.9300177097320557,
          -0.5782681703567505,
          -5.6876702308654785,
          -2.9954891204833984,
          -10.258417129516602,
          -10.33532428741455,
          -3.058515787124634,
          -3.788463592529297,
          -5.606549263000488,
          -2.218867301940918,
          -6.780943393707275,
          5.345040798187256,
          -7.941141128540039,
          -1.4689838886260986,
          -2.1888813972473145,
          -7.5883331298828125,
          1.1798021793365479,
          7.319203853607178,
          13.0492525100708,
          -11.185066223144531,
          -0.09643681347370148,
          -7.261973857879639,
          3.8140673637390137,
          -6.927536964416504,
          11.724982261657715,
          -4.037961006164551,
          2.6014301776885986,
          2.3814289569854736,
          -9.057073593139648,
          -7.310634136199951,
          5.527817726135254,
          0.1940765231847763,
          3.324537992477417,
          -3.511375665664673,
          -4.143454551696777,
          -0.35525813698768616,
          -9.637100219726562,
          -7.751902103424072,
          12.777867317199707,
          13.812381744384766,
          -0.3740571141242981,
          0.399343878030777,
          5.87904691696167,
          -9.189590454101562,
          5.732592582702637,
          -7.244828224182129,
          8.103318214416504,
          -4.513611316680908,
          -12.860352516174316,
          -7.632918834686279,
          1.0509904623031616,
          -5.827309608459473,
          0.1376633644104004,
          -2.978607654571533,
          2.4611802101135254,
          -5.864443302154541,
          -10.085474967956543,
          0.5614528059959412,
          -10.55339241027832,
          2.483037233352661,
          8.243890762329102,
          -7.073205947875977,
          -12.566229820251465,
          -11.070927619934082,
          -6.819962024688721,
          -8.398154258728027,
          0.2707090377807617,
          3.849998950958252,
          9.7843017578125,
          -10.267840385437012,
          -11.230956077575684,
          12.50181770324707,
          1.5704065561294556,
          -7.459713935852051,
          8.600298881530762,
          -2.0789382457733154,
          -11.528103828430176,
          -7.396658420562744,
          0.7059887051582336,
          1.0033210515975952,
          1.616947054862976,
          -5.673635482788086,
          10.56702995300293,
          -4.470620632171631,
          -11.628156661987305,
          -10.588980674743652,
          -12.344764709472656,
          2.151310443878174,
          -5.663759708404541,
          -3.0209991931915283,
          -0.23412327468395233,
          -12.152334213256836,
          2.199651002883911,
          -0.8211064338684082,
          -2.1488466262817383,
          2.5429654121398926,
          4.72942590713501,
          -0.3449663519859314,
          0.39915794134140015,
          1.1097952127456665,
          5.015035629272461,
          -0.18953552842140198,
          2.686134099960327,
          -2.390990972518921,
          -0.7091901302337646,
          -11.355880737304688,
          -2.8898539543151855,
          -7.9108734130859375,
          1.7128278017044067,
          -4.5281758308410645,
          -11.522845268249512,
          -6.602179050445557,
          10.432719230651855,
          12.350507736206055,
          2.031827449798584,
          -2.14945912361145,
          0.3165181875228882,
          -6.59636926651001,
          -8.131817817687988,
          14.369351387023926,
          -5.699339866638184,
          -6.850853443145752,
          -3.916037082672119,
          -4.571454048156738,
          8.517749786376953,
          -1.592910647392273,
          11.706466674804688,
          -4.713088512420654,
          9.40615177154541,
          0.26707178354263306,
          4.130281448364258,
          -5.03001594543457,
          -5.742368698120117,
          5.540960788726807,
          -8.337462425231934,
          -5.241533279418945,
          7.4081807136535645,
          1.7560614347457886,
          -5.452299118041992,
          1.7867047786712646,
          0.8246007561683655,
          0.11948548257350922,
          4.098080158233643,
          -7.498053550720215,
          -10.493027687072754,
          -9.119902610778809,
          -9.664133071899414,
          -8.608619689941406,
          1.2005740404129028,
          -9.297832489013672,
          5.91912841796875,
          -2.6933228969573975,
          -8.874547958374023,
          0.3031669557094574,
          -8.726298332214355,
          -1.7268469333648682,
          -9.712668418884277,
          6.6684956550598145,
          1.3067182302474976,
          -4.566312313079834,
          -10.603562355041504,
          -3.2510578632354736,
          2.6632778644561768,
          -8.23659610748291,
          2.530728816986084,
          -9.762937545776367,
          -7.789855480194092,
          -9.58000373840332,
          9.877849578857422,
          -3.6411631107330322,
          -5.755683422088623,
          -11.508829116821289,
          4.99920129776001,
          4.503241062164307,
          -1.3349347114562988,
          -1.1603379249572754,
          6.678674697875977,
          -5.595080375671387,
          -1.4769375324249268,
          -6.7256178855896,
          7.94935417175293,
          1.428397536277771,
          -9.04251766204834,
          -7.587299346923828,
          -3.6646478176116943,
          2.3271238803863525,
          -7.381326198577881,
          0.049465078860521317,
          0.0069670295342803,
          -3.981168031692505,
          -4.499261856079102,
          -0.47658678889274597,
          -6.6449737548828125,
          -10.453012466430664,
          -7.126765251159668,
          4.0369486808776855,
          -5.17453670501709,
          -7.40548849105835,
          -1.8930968046188354,
          -2.4220197200775146,
          -7.415195941925049,
          -0.303908109664917,
          -2.4777863025665283,
          1.3384605646133423,
          4.917559623718262,
          9.7656888961792,
          4.886637210845947,
          0.6189124584197998,
          -11.94639778137207,
          -5.444583415985107,
          3.682731866836548,
          -10.031662940979004,
          -3.3535614013671875,
          2.7386980056762695,
          -0.2645433247089386,
          -1.6026374101638794,
          -7.713421821594238,
          9.649869918823242,
          -5.216611385345459,
          4.882868766784668,
          -3.5352985858917236,
          1.7470167875289917,
          -9.73702335357666,
          -4.338778018951416,
          11.583292961120605,
          -2.28043532371521,
          7.501114368438721,
          14.522417068481445,
          -9.583817481994629,
          6.804749488830566,
          -13.537632942199707,
          10.29422664642334,
          -2.1945974826812744,
          -4.596090316772461,
          -2.6204068660736084,
          1.4100780487060547,
          -13.610488891601562,
          -1.5842431783676147,
          -6.4982218742370605,
          -1.8055331707000732,
          -1.8344829082489014,
          -11.131624221801758,
          -1.6683316230773926,
          -9.93228816986084,
          -7.44711971282959,
          -10.265742301940918,
          -8.907978057861328,
          -5.8823723793029785,
          4.394518852233887,
          3.5285894870758057,
          -1.1703146696090698,
          -5.614222049713135,
          1.19086492061615,
          2.296027898788452,
          3.134355306625366,
          6.327821731567383,
          -5.985482692718506,
          -12.92184066772461,
          -4.257391929626465,
          -5.574260711669922,
          -11.23194694519043,
          -5.383167743682861,
          -12.284372329711914,
          -10.740614891052246,
          -11.747953414916992,
          12.408089637756348,
          -11.03914737701416,
          -11.226771354675293,
          10.25501823425293,
          -13.397394180297852,
          -0.6821237206459045,
          2.0356881618499756,
          -6.997640132904053,
          4.748702526092529,
          -4.7865166664123535,
          2.6609089374542236,
          9.801139831542969,
          -6.915348052978516,
          -1.5481406450271606,
          -2.1636481285095215,
          -8.743059158325195,
          -9.98766803741455,
          0.045861270278692245,
          -9.753554344177246,
          -5.501574993133545,
          -5.501574993133545,
          -5.501612663269043,
          5.139861583709717,
          -3.1433122158050537,
          1.7870330810546875,
          -3.3161230087280273,
          4.034216403961182,
          4.300095081329346,
          5.69295597076416,
          -4.944964408874512,
          0.525050938129425,
          1.2856816053390503,
          -9.781167984008789,
          7.94448709487915,
          -6.575881481170654,
          -6.223488807678223,
          -11.530184745788574,
          -3.810598850250244,
          8.199200630187988,
          -10.578503608703613,
          1.7230437994003296,
          -10.301861763000488,
          -3.387505292892456,
          -3.476938009262085,
          -2.2112057209014893,
          -3.4480018615722656,
          7.410071849822998,
          -9.565813064575195,
          -7.251564979553223,
          10.529970169067383,
          10.889322280883789,
          -6.49074649810791,
          -11.599739074707031,
          -10.912373542785645,
          -10.154850959777832,
          6.220278739929199,
          -2.094719171524048,
          -7.80207633972168,
          3.8307979106903076,
          -2.7875800132751465,
          -13.282743453979492,
          -10.939471244812012,
          -11.349798202514648,
          -12.127507209777832,
          -13.89270305633545,
          -13.285043716430664,
          -10.259186744689941,
          -8.061594009399414,
          -1.9481759071350098,
          -2.409567356109619,
          5.818927764892578,
          0.9422624707221985,
          -4.940268516540527,
          -14.731566429138184,
          4.506513595581055,
          -11.023749351501465,
          -1.3929204940795898,
          -9.703317642211914,
          1.867982268333435,
          -11.111199378967285,
          -1.5388697385787964,
          3.239529609680176,
          -9.192208290100098,
          -5.911425590515137,
          -0.43056392669677734,
          -8.238591194152832,
          -11.423698425292969,
          2.6646220684051514,
          7.277178764343262,
          3.314743757247925,
          -8.773519515991211,
          -2.394869089126587,
          -11.040779113769531,
          -11.544142723083496,
          -3.184842586517334,
          -3.489445447921753,
          -11.30307388305664,
          -4.522213459014893,
          -10.159683227539062,
          -7.544651985168457,
          -1.5330848693847656,
          -4.201310634613037,
          -4.2840576171875,
          6.583000183105469,
          -6.23837423324585,
          0.610008180141449,
          -4.398027420043945,
          2.37277889251709,
          1.1605571508407593,
          -4.702730655670166,
          -2.177217960357666,
          -4.328138828277588,
          7.663236618041992,
          -0.03530557453632355,
          3.446073293685913,
          -9.677621841430664,
          -2.6859779357910156,
          -11.869210243225098,
          4.090607643127441,
          -7.087284088134766,
          5.90972900390625,
          -2.2090718746185303,
          -3.2635576725006104,
          -13.307315826416016,
          -14.354707717895508,
          -7.868794918060303,
          -6.426389217376709,
          -10.16180419921875,
          1.721248984336853,
          6.312300682067871,
          1.3234740495681763,
          3.9145987033843994,
          2.734027862548828,
          -11.544342994689941,
          -10.61548137664795,
          -2.149667739868164,
          -8.944138526916504,
          -1.4760990142822266,
          5.921628952026367,
          -7.920372009277344,
          -1.1587260961532593,
          -3.4896914958953857,
          3.4300613403320312,
          -5.918168544769287,
          -7.106488227844238,
          -0.047069475054740906,
          -9.089637756347656,
          -7.162237644195557,
          2.919480800628662,
          8.342155456542969,
          11.13876724243164,
          4.959059238433838,
          3.4405972957611084,
          -2.4705071449279785,
          8.876301765441895,
          10.322111129760742,
          -1.156409502029419,
          -3.078670024871826,
          -5.093337059020996,
          -7.847265243530273,
          4.964251518249512,
          -3.8171818256378174,
          -9.551950454711914,
          -7.389500617980957,
          -10.670674324035645,
          -7.5413689613342285,
          -9.565340042114258,
          2.208735227584839,
          3.750365972518921,
          10.497262001037598,
          -9.965384483337402,
          8.385200500488281,
          -10.955828666687012,
          -10.719579696655273,
          -3.149881362915039,
          -7.006694316864014,
          -8.522120475769043,
          -2.706874132156372,
          -6.080927848815918,
          6.325402736663818,
          11.63534164428711,
          0.21990422904491425,
          10.934526443481445,
          -3.600358247756958,
          -8.191301345825195,
          -8.80264663696289,
          -0.634401798248291,
          -1.9802709817886353,
          -3.2089056968688965,
          -9.483587265014648,
          3.711913585662842,
          -7.879154205322266,
          -1.1470184326171875,
          4.881173133850098,
          -4.261237621307373,
          0.506513774394989,
          4.303715705871582,
          -2.9601242542266846,
          -7.813327789306641,
          -9.083819389343262,
          -8.972258567810059,
          -9.939210891723633,
          0.7984679937362671,
          -3.712989330291748,
          1.0271724462509155,
          9.24935531616211,
          1.894374966621399,
          -6.653036117553711,
          1.5862607955932617,
          4.904674053192139,
          2.953425884246826,
          -10.928936958312988,
          -10.875104904174805,
          -10.481711387634277,
          -4.917291164398193,
          -1.3804032802581787,
          -4.005845546722412,
          -7.925722122192383,
          3.3692355155944824,
          2.289381980895996,
          9.156071662902832,
          -12.18631362915039,
          -8.541182518005371,
          5.13781213760376,
          8.207313537597656,
          12.37560749053955,
          -2.5980865955352783,
          3.894331455230713,
          1.5812125205993652,
          -8.542888641357422,
          -3.33404541015625,
          -5.774489402770996,
          -1.497300148010254,
          -8.19664478302002,
          -1.254260778427124,
          -2.811976432800293,
          -2.44051194190979,
          3.3434815406799316,
          0.13490881025791168,
          2.094095468521118,
          -12.951298713684082,
          -6.281398773193359,
          -0.45953845977783203,
          -7.548016548156738,
          0.9091612696647644,
          -11.731782913208008,
          -8.231339454650879,
          -5.181939125061035,
          -0.45088812708854675,
          4.274639129638672,
          -2.713557481765747,
          5.305370330810547,
          1.56828773021698,
          -1.1301826238632202,
          -5.425285816192627,
          -1.1704541444778442,
          -0.24273443222045898,
          -11.190726280212402,
          -10.22624683380127,
          2.214780807495117,
          -2.6724765300750732,
          -7.891189098358154,
          -14.425919532775879,
          -1.9716248512268066,
          0.2626674473285675,
          -2.9106531143188477,
          1.1706058979034424,
          -8.016472816467285,
          -0.5671593546867371,
          -2.18019962310791,
          -10.627717971801758,
          0.6199676394462585,
          -4.611076831817627,
          -1.3702040910720825,
          -1.953707218170166,
          -7.0749993324279785,
          6.390299320220947,
          -5.996910095214844,
          -5.848878860473633,
          -2.368354082107544,
          6.605926513671875,
          -6.136674404144287,
          0.1441470980644226,
          -2.9625284671783447,
          -4.226842403411865,
          -12.392154693603516,
          -0.5671609044075012,
          -1.9511947631835938,
          -4.472667694091797,
          -0.11641480028629303,
          1.9644712209701538,
          4.247555255889893,
          2.542273759841919,
          2.562093496322632,
          -3.9119598865509033,
          1.4192578792572021,
          -2.15525221824646,
          -4.708930492401123,
          -7.081870079040527,
          3.4872496128082275,
          -7.120675086975098,
          1.8612533807754517,
          0.7890738844871521,
          -6.595160484313965,
          -4.547986030578613,
          -8.088927268981934,
          -7.020823001861572,
          -10.527342796325684,
          -0.10098884999752045,
          1.0579921007156372,
          -12.587950706481934,
          -3.5650572776794434,
          -7.198723316192627,
          -1.2612390518188477,
          -2.638143539428711,
          -6.659948348999023,
          -0.4400642216205597,
          -12.573838233947754,
          -14.32365894317627,
          3.619384765625,
          -6.470588684082031,
          -2.185455799102783,
          -11.039788246154785,
          -8.438064575195312,
          -0.5425578355789185,
          -6.346453666687012,
          -4.239156723022461,
          -12.050657272338867,
          -2.6642885208129883,
          -5.568085670471191,
          -14.515674591064453,
          -3.5290894508361816,
          -2.426727771759033,
          -3.2169156074523926,
          -2.635056734085083,
          -7.599628925323486,
          -6.420411109924316,
          -5.939364433288574,
          -7.576485633850098,
          -2.025869846343994,
          -2.0788474082946777,
          -4.692882061004639,
          2.8442471027374268,
          -9.460895538330078,
          -10.34622573852539,
          -2.7719497680664062,
          -10.939501762390137,
          -2.548764944076538,
          5.797377109527588,
          -0.27043968439102173,
          -8.30487060546875,
          3.7636120319366455,
          7.104247093200684,
          10.844948768615723,
          -2.844043016433716,
          19.086362838745117,
          -0.4060213565826416,
          8.633480072021484,
          0.08964656293392181,
          -1.1822890043258667,
          4.739822864532471,
          3.8549935817718506,
          7.8050384521484375,
          0.8984568119049072,
          -3.0994255542755127,
          10.092894554138184,
          -10.574045181274414,
          -7.7091498374938965,
          19.718969345092773,
          -7.732834815979004,
          6.24889612197876,
          12.121408462524414,
          -11.095462799072266,
          -9.837507247924805,
          -4.571526050567627,
          -4.253235340118408,
          8.816935539245605,
          -0.3539113998413086,
          19.024307250976562,
          -3.9882254600524902,
          -2.3158020973205566,
          -3.13334584236145,
          -0.2938487231731415,
          7.509701728820801,
          20.363813400268555,
          2.2955715656280518,
          -11.059358596801758,
          -8.61489200592041,
          21.038808822631836,
          19.432340621948242,
          23.27808952331543,
          20.361906051635742,
          22.680522918701172,
          20.114360809326172,
          20.241147994995117,
          1.9795562028884888,
          -11.094745635986328,
          18.82430648803711,
          23.120363235473633,
          -1.1522716283798218,
          18.409509658813477,
          -11.335524559020996,
          -2.4466567039489746,
          8.119487762451172,
          -3.529940605163574,
          -0.7456234097480774,
          -8.791220664978027,
          18.771949768066406,
          0.7650273442268372,
          -3.6891205310821533,
          3.4576683044433594,
          -3.9121530055999756,
          -2.83945631980896,
          18.26347541809082,
          -0.10138588398694992,
          -1.6694796085357666,
          5.110716342926025,
          19.294878005981445,
          -3.8751087188720703,
          -2.3348803520202637,
          -3.8252151012420654,
          -2.4727771282196045,
          18.75505828857422,
          -9.040170669555664,
          -3.1024553775787354,
          -3.4168899059295654,
          -4.120151519775391,
          20.876956939697266,
          -1.0000684261322021,
          5.5311408042907715,
          2.4937353134155273,
          -10.176130294799805,
          -10.176118850708008,
          -3.3209002017974854,
          -3.3209104537963867,
          1.4849092960357666,
          1.4849092960357666,
          0.6341496109962463,
          0.6341803669929504,
          -10.500657081604004,
          -10.500657081604004,
          -6.4767608642578125,
          -6.476791858673096,
          1.384192705154419,
          1.384192705154419,
          -13.489130020141602,
          -13.489130020141602,
          19.250951766967773,
          19.250951766967773,
          23.492544174194336,
          23.492544174194336,
          -9.577824592590332,
          -9.577824592590332,
          -6.858362674713135,
          -9.925482749938965,
          -1.0314990282058716,
          -1.0314990282058716,
          -2.9275741577148438,
          -2.9275741577148438,
          -3.443453311920166,
          -3.443453311920166,
          7.251845836639404,
          7.251856803894043,
          -16.080440521240234,
          -16.080440521240234,
          -6.428371429443359,
          -9.88083267211914,
          0.2331850230693817,
          10.339712142944336,
          2.2843406200408936,
          4.178180694580078,
          19.02252197265625,
          6.785750865936279,
          -1.3817895650863647,
          3.446214199066162,
          21.980445861816406,
          -13.547356605529785,
          18.576698303222656,
          23.350740432739258,
          21.14261817932129,
          -4.710981369018555,
          23.124094009399414,
          5.105876445770264,
          -14.908843994140625,
          -4.758998394012451,
          20.654014587402344,
          18.629871368408203,
          -8.824613571166992,
          -8.162015914916992,
          -9.549287796020508,
          21.40801239013672,
          19.94556427001953,
          22.249656677246094,
          -3.437861442565918,
          -1.167603850364685,
          -7.742547512054443,
          -8.236895561218262,
          -6.837799549102783,
          -4.142124652862549,
          2.0064916610717773,
          9.454473495483398,
          1.567790150642395,
          0.20165421068668365,
          -0.8041080236434937,
          -4.712372303009033,
          2.2926383018493652,
          1.2654834985733032,
          -1.749477744102478,
          10.413225173950195,
          -7.129817962646484,
          18.63469696044922,
          18.547515869140625,
          -13.521657943725586,
          18.95417594909668,
          20.545730590820312,
          -8.112460136413574,
          -1.4860913753509521,
          -10.329010009765625,
          4.29719352722168,
          22.30641746520996,
          -4.492073059082031,
          -9.622467041015625,
          19.71868896484375,
          6.254237174987793,
          20.89759063720703,
          0.4451056718826294,
          -2.163653612136841,
          -3.2405831813812256,
          -9.520668029785156,
          20.119800567626953,
          -0.16811665892601013,
          -0.5987129211425781,
          5.576345443725586,
          1.4942740201950073,
          -3.0443127155303955,
          -10.5257568359375,
          -7.96457576751709,
          -7.233466625213623,
          19.013795852661133,
          -0.6852177381515503,
          21.799257278442383,
          -2.474752902984619,
          -4.823095321655273,
          -7.849726676940918,
          1.771173357963562,
          22.941160202026367,
          20.445430755615234,
          20.37464714050293,
          -5.393975734710693,
          20.523290634155273,
          19.296466827392578,
          -7.250155925750732,
          19.633094787597656,
          -8.10132122039795,
          7.201703071594238,
          -13.76036548614502,
          -5.0553998947143555,
          23.508350372314453,
          3.931401491165161,
          -7.435038089752197,
          -10.443997383117676,
          6.168832302093506,
          -9.544930458068848,
          8.743728637695312,
          -2.8081371784210205,
          1.3322196006774902,
          -7.793369293212891,
          -10.315692901611328,
          -5.770565032958984,
          18.90108871459961,
          -8.047006607055664,
          -9.813606262207031,
          -13.739921569824219,
          -14.599397659301758,
          3.615633964538574,
          4.601144313812256,
          20.871747970581055,
          0.5388802289962769,
          -1.343894600868225,
          5.52617073059082,
          1.1416475772857666,
          -4.0753092765808105,
          -8.57194995880127,
          -9.547693252563477,
          2.4647998809814453,
          -3.277498483657837,
          4.7927985191345215,
          21.54317283630371,
          0.7831937670707703,
          -8.905155181884766,
          1.695993185043335,
          1.3945503234863281,
          -13.052179336547852,
          -0.43587741255760193,
          7.776280879974365,
          -3.448382616043091,
          -11.140406608581543,
          6.663478851318359,
          5.598284721374512,
          -7.886430740356445,
          1.9373599290847778,
          19.624332427978516,
          3.603583574295044,
          3.991800308227539,
          3.6412737369537354,
          4.319059371948242,
          -10.332428932189941,
          -5.159088134765625,
          23.125883102416992,
          0.30567097663879395,
          -9.686357498168945,
          -6.285274028778076,
          -9.173295021057129,
          -11.414551734924316,
          22.003217697143555,
          9.781877517700195,
          8.848198890686035,
          -4.4375457763671875,
          21.651042938232422,
          10.192996978759766,
          21.58742904663086,
          7.739490985870361,
          -0.8470754623413086,
          -6.747812747955322,
          -6.197788715362549,
          1.158801794052124,
          1.8855907917022705,
          2.7024855613708496,
          23.211933135986328,
          -2.3843281269073486,
          -2.489417314529419,
          -9.994978904724121,
          -3.337132692337036,
          0.11585845798254013,
          7.188222885131836,
          -5.086037635803223,
          5.717810153961182,
          0.0687972903251648,
          4.065793037414551,
          6.366715431213379,
          -0.5832175016403198,
          -2.7506160736083984,
          -8.252793312072754,
          2.6876301765441895,
          18.964868545532227,
          -4.616951942443848,
          -0.36874058842658997,
          23.222043991088867,
          8.125984191894531,
          0.001248861663043499,
          2.115485429763794,
          20.365947723388672,
          20.762487411499023,
          -4.183650493621826,
          -6.743516445159912,
          -5.23989200592041,
          17.994447708129883,
          -1.4137170314788818,
          3.869636058807373,
          -10.635162353515625,
          6.03814172744751,
          -3.6009082794189453,
          -8.092728614807129,
          -11.110601425170898,
          10.75003433227539,
          18.609346389770508,
          19.302305221557617,
          3.0175418853759766,
          3.415081024169922,
          -4.818411350250244,
          19.202756881713867,
          21.332218170166016,
          -10.897153854370117,
          -14.54008960723877,
          -0.7604345679283142,
          7.2809224128723145,
          -5.8573994636535645,
          -5.3387980461120605,
          21.42702865600586,
          -9.835533142089844,
          5.376397132873535,
          18.808006286621094,
          18.841812133789062,
          9.41425895690918,
          -4.422597885131836,
          22.293399810791016,
          1.2723230123519897,
          -11.392961502075195,
          22.041166305541992,
          2.1507084369659424,
          -2.1162312030792236,
          -11.359720230102539,
          1.8580894470214844,
          23.319252014160156,
          -9.493471145629883,
          1.7220593690872192,
          -6.301745414733887,
          -3.3275656700134277,
          2.2771644592285156,
          17.8968563079834,
          -11.191545486450195,
          10.356011390686035,
          21.296693801879883,
          0.3427409529685974,
          -5.514978408813477,
          20.946266174316406,
          19.356502532958984,
          -1.414229154586792,
          22.483932495117188,
          -10.849867820739746,
          19.17263412475586,
          8.539717674255371,
          -0.3651094436645508,
          -3.537332057952881,
          -3.6856682300567627,
          17.783462524414062,
          19.466684341430664,
          -0.5882468223571777,
          20.378143310546875,
          -2.4996559619903564,
          -2.4969654083251953,
          12.47701358795166,
          6.334004878997803,
          -2.41784405708313,
          -3.208549976348877,
          0.4243740439414978,
          -16.082414627075195,
          -6.668579578399658,
          -10.772001266479492,
          -2.4514691829681396,
          -1.3206679821014404,
          -0.549159049987793,
          -6.461548328399658,
          -4.679690837860107,
          2.749784231185913,
          4.011549472808838,
          -11.87159538269043,
          -6.225952625274658,
          5.686709403991699,
          -3.1146411895751953,
          0.20694559812545776,
          -4.375302791595459,
          7.475926876068115,
          -8.63100814819336,
          -6.332942008972168,
          -11.650568008422852,
          0.06015074998140335,
          -4.419164657592773,
          -3.16332745552063,
          -6.938204288482666,
          3.629793882369995,
          12.78196907043457,
          3.1331424713134766,
          7.023271083831787,
          -2.8013088703155518,
          -0.9999445676803589,
          -3.0025882720947266,
          5.951341152191162,
          -3.2585911750793457,
          -5.088058948516846,
          0.83598792552948,
          -0.044870711863040924,
          3.4679312705993652,
          -6.836931228637695,
          -4.593676567077637,
          -0.5057098865509033,
          10.3829927444458,
          2.241023302078247,
          3.1105453968048096,
          -0.46082374453544617,
          -5.344332695007324,
          -10.598991394042969,
          7.476183891296387,
          -5.699366569519043,
          2.1070923805236816,
          -13.608954429626465,
          -9.240224838256836,
          5.55485200881958,
          -4.911423206329346,
          -1.2642569541931152,
          -4.411866188049316,
          -0.9598404169082642,
          0.22463823854923248,
          -6.126964092254639,
          3.112534761428833,
          -9.77804183959961,
          -12.569352149963379,
          2.071645736694336,
          3.905979871749878,
          -12.255075454711914,
          -7.79019832611084,
          -4.154844760894775,
          -0.1006278395652771,
          -1.9082921743392944,
          -8.497514724731445,
          -8.416756629943848,
          7.015530109405518,
          7.641491413116455,
          -5.384922027587891,
          -1.9016485214233398,
          2.014796018600464,
          5.038753986358643,
          -4.273009300231934,
          1.855782151222229,
          -12.550207138061523,
          -11.958871841430664,
          -9.848817825317383,
          6.373117923736572,
          -0.10004164278507233,
          1.4636597633361816,
          6.125563144683838,
          -3.193512439727783,
          3.523780107498169,
          -8.449597358703613,
          9.419133186340332,
          -3.368480682373047,
          -7.969272136688232,
          -8.114723205566406,
          -6.868557453155518,
          8.210126876831055,
          -7.73786735534668,
          7.192006587982178,
          -3.2585692405700684,
          -2.444361448287964,
          8.136786460876465,
          4.6731390953063965,
          0.2954363226890564,
          2.266510486602783,
          -8.167755126953125,
          4.527698993682861,
          -3.9794931411743164,
          -7.411635398864746,
          -4.6516432762146,
          2.9600770473480225,
          -5.036771297454834,
          -1.951282262802124,
          0.9498133063316345,
          -12.483576774597168,
          -12.040302276611328,
          -5.9317545890808105,
          -0.6531338691711426,
          2.191392183303833,
          -6.2012248039245605,
          -12.881577491760254,
          -10.858465194702148,
          5.767696857452393,
          -4.0825300216674805,
          -2.2876386642456055,
          -1.8421233892440796,
          -2.863952159881592,
          -1.1885782480239868,
          -10.872745513916016,
          -6.005794525146484,
          -3.5323944091796875,
          -0.4231862425804138,
          -6.581686019897461,
          -10.00568675994873,
          -3.360063314437866
         ],
         "y": [
          -6.417665958404541,
          10.873575210571289,
          -2.1937360763549805,
          -3.11820912361145,
          -5.075839042663574,
          -0.39671793580055237,
          7.5924763679504395,
          2.714337110519409,
          0.3182484209537506,
          12.479127883911133,
          0.08822391927242279,
          -15.16501522064209,
          8.052190780639648,
          -1.8960548639297485,
          2.5968024730682373,
          8.94222640991211,
          8.545613288879395,
          -13.876090049743652,
          11.998467445373535,
          6.104671478271484,
          12.06265640258789,
          10.268609046936035,
          -8.444354057312012,
          -8.783326148986816,
          8.843342781066895,
          -6.404860973358154,
          -7.734117031097412,
          12.46815013885498,
          11.541143417358398,
          -2.2991771697998047,
          -6.309776306152344,
          4.596014022827148,
          -2.61570143699646,
          4.614433288574219,
          -7.071762561798096,
          12.056150436401367,
          0.8537467122077942,
          0.7793478965759277,
          7.0170464515686035,
          -6.121634006500244,
          4.335896015167236,
          9.280025482177734,
          5.918003082275391,
          -10.324610710144043,
          -8.184530258178711,
          7.320764064788818,
          -0.25461357831954956,
          4.912021160125732,
          7.371179103851318,
          7.753604888916016,
          7.174587726593018,
          13.637755393981934,
          -5.939158916473389,
          3.3520593643188477,
          11.730422973632812,
          10.032055854797363,
          -6.8830437660217285,
          -6.8261823654174805,
          -7.155290126800537,
          2.01108717918396,
          -4.736512184143066,
          -6.638495445251465,
          -2.8943145275115967,
          -4.80440616607666,
          -5.020876407623291,
          3.097790241241455,
          -6.049526214599609,
          -9.209856033325195,
          3.847780704498291,
          7.667208194732666,
          10.800244331359863,
          -11.934964179992676,
          3.4936089515686035,
          0.8166604042053223,
          -3.7033379077911377,
          -14.595569610595703,
          3.1629717350006104,
          12.76817798614502,
          -5.13115930557251,
          -6.268403053283691,
          2.5032310485839844,
          -1.9429707527160645,
          11.857677459716797,
          -6.765542507171631,
          5.3860602378845215,
          -5.444569110870361,
          9.75475788116455,
          10.499763488769531,
          0.7449804544448853,
          7.967247009277344,
          -0.7708452939987183,
          0.40665730834007263,
          -1.1880813837051392,
          0.3838678002357483,
          -2.0645601749420166,
          2.921546220779419,
          -2.548849105834961,
          -7.622443199157715,
          -3.30487060546875,
          -5.257259845733643,
          3.9255287647247314,
          -6.527470111846924,
          -2.3248708248138428,
          -5.265505313873291,
          3.7320058345794678,
          -5.360184192657471,
          5.799396991729736,
          -5.815690994262695,
          -7.297008991241455,
          -2.7038156986236572,
          -0.45803987979888916,
          -0.12853682041168213,
          -6.773630142211914,
          7.133005142211914,
          7.6501145362854,
          -5.815502643585205,
          0.28919175267219543,
          -10.244275093078613,
          -2.228550672531128,
          -1.9587386846542358,
          2.5078155994415283,
          -1.984499454498291,
          0.014674142003059387,
          1.8729124069213867,
          11.512191772460938,
          -7.230718612670898,
          10.204883575439453,
          6.377109050750732,
          3.3494250774383545,
          0.7144244909286499,
          -13.831052780151367,
          10.823803901672363,
          10.513731002807617,
          5.378998756408691,
          -0.41137567162513733,
          -1.5987557172775269,
          14.124252319335938,
          -7.763477802276611,
          -8.087409973144531,
          -6.933941841125488,
          -6.264322280883789,
          8.253262519836426,
          7.366544246673584,
          7.9547600746154785,
          -8.546581268310547,
          6.6748046875,
          -8.994224548339844,
          8.217001914978027,
          -5.217669486999512,
          0.46510744094848633,
          15.244241714477539,
          -1.7188160419464111,
          -1.3818095922470093,
          0.06241288408637047,
          -6.7725396156311035,
          7.123291015625,
          -3.478820323944092,
          -7.123315334320068,
          -7.712102890014648,
          11.215389251708984,
          3.182731866836548,
          -1.7384668588638306,
          7.712001323699951,
          -8.555105209350586,
          -4.014866828918457,
          -6.5573930740356445,
          -0.22845128178596497,
          10.062582969665527,
          10.99524974822998,
          5.991822242736816,
          8.8181791305542,
          2.9915475845336914,
          7.706920146942139,
          -0.835652232170105,
          1.6453685760498047,
          -3.7628698348999023,
          5.651140213012695,
          -9.133891105651855,
          -7.560651779174805,
          5.23726224899292,
          -0.8116525411605835,
          10.026529312133789,
          4.187354564666748,
          -2.4505624771118164,
          -2.364969253540039,
          2.9802513122558594,
          7.506986618041992,
          14.52877426147461,
          7.565669059753418,
          7.936487197875977,
          -1.915027379989624,
          -2.3123295307159424,
          1.2546513080596924,
          7.283899784088135,
          -0.7817742824554443,
          13.798954963684082,
          1.2415648698806763,
          -5.92145299911499,
          -5.283854007720947,
          -13.396444320678711,
          1.1324632167816162,
          0.2609805166721344,
          8.722752571105957,
          -7.517517566680908,
          3.4686899185180664,
          -8.138679504394531,
          -7.76674222946167,
          -5.504990577697754,
          9.796635627746582,
          -0.6817702054977417,
          12.162044525146484,
          12.813702583312988,
          1.4352655410766602,
          -8.74300479888916,
          6.930586814880371,
          -1.2231122255325317,
          4.20883321762085,
          -10.227433204650879,
          -3.778423309326172,
          3.9256246089935303,
          5.872683525085449,
          -4.307455539703369,
          -8.482136726379395,
          -8.65080451965332,
          -5.297802448272705,
          -5.58043098449707,
          8.167135238647461,
          -7.156582355499268,
          2.0174899101257324,
          0.6912687420845032,
          2.717974901199341,
          1.4642664194107056,
          8.957316398620605,
          7.796327114105225,
          3.7465322017669678,
          -4.113950252532959,
          -3.1192073822021484,
          -1.2247350215911865,
          9.80385684967041,
          5.967935085296631,
          0.635809063911438,
          -2.976673126220703,
          -5.226571559906006,
          0.35747283697128296,
          3.6663811206817627,
          11.837648391723633,
          -4.262844085693359,
          3.75030517578125,
          2.484830856323242,
          1.0518804788589478,
          9.730389595031738,
          -9.672014236450195,
          2.88295578956604,
          10.981520652770996,
          13.80174446105957,
          7.56319522857666,
          10.692806243896484,
          7.7893595695495605,
          -6.206379413604736,
          11.35163688659668,
          4.526816368103027,
          3.373969316482544,
          -5.420083522796631,
          1.5738558769226074,
          8.647863388061523,
          -5.236643314361572,
          1.3334764242172241,
          -7.189444065093994,
          -2.692816972732544,
          -1.770230770111084,
          -1.8107359409332275,
          7.154674530029297,
          12.713493347167969,
          10.36970329284668,
          5.924655914306641,
          1.851929783821106,
          4.18963623046875,
          -0.41788262128829956,
          0.3905062675476074,
          1.1385080814361572,
          8.524211883544922,
          -6.540435314178467,
          9.661629676818848,
          -7.620480537414551,
          -4.63380765914917,
          -2.1226487159729004,
          0.3605474829673767,
          9.890715599060059,
          -5.037284851074219,
          -13.414149284362793,
          -11.738260269165039,
          -6.072657585144043,
          -10.977317810058594,
          3.768481969833374,
          6.032271862030029,
          1.8599796295166016,
          -11.976036071777344,
          -2.652095317840576,
          -3.379560947418213,
          7.708374500274658,
          -12.648208618164062,
          1.2078484296798706,
          8.462455749511719,
          3.525134801864624,
          4.936593055725098,
          -4.196002006530762,
          -1.904634714126587,
          9.520548820495605,
          5.1647725105285645,
          -1.1128449440002441,
          -2.101686477661133,
          -1.9712213277816772,
          -9.544804573059082,
          -7.458074569702148,
          3.8000361919403076,
          -1.6697672605514526,
          -2.7027437686920166,
          5.242018222808838,
          -0.7199710607528687,
          -13.27318286895752,
          -9.525704383850098,
          -0.14682923257350922,
          -9.23044490814209,
          2.071232557296753,
          1.292238473892212,
          -2.3546390533447266,
          7.5590691566467285,
          5.61264181137085,
          10.79331111907959,
          4.273475170135498,
          -10.42353630065918,
          5.0667829513549805,
          -10.294315338134766,
          -10.616581916809082,
          6.285777568817139,
          -12.168577194213867,
          -10.574551582336426,
          -15.499858856201172,
          -13.75846004486084,
          5.030978679656982,
          8.64317798614502,
          8.97110366821289,
          6.828826427459717,
          7.987589359283447,
          8.861044883728027,
          12.414716720581055,
          14.219515800476074,
          -3.1896774768829346,
          -8.009961128234863,
          -7.8512282371521,
          1.1090747117996216,
          2.867332696914673,
          -15.342190742492676,
          7.022080421447754,
          -10.212776184082031,
          -9.57215690612793,
          -0.3579068183898926,
          -4.197544097900391,
          -6.97384786605835,
          -5.30795431137085,
          4.513309001922607,
          -9.00293254852295,
          -7.481945037841797,
          12.185379981994629,
          -2.0309152603149414,
          -2.015272855758667,
          -12.40028190612793,
          -4.565792083740234,
          -0.4189284145832062,
          -11.17075252532959,
          3.2758049964904785,
          -5.20640230178833,
          -5.949243068695068,
          8.547369003295898,
          7.197606086730957,
          8.907740592956543,
          9.270095825195312,
          7.322389602661133,
          6.837177276611328,
          14.368976593017578,
          -1.2423157691955566,
          -11.934228897094727,
          -13.268336296081543,
          2.2727620601654053,
          10.597038269042969,
          6.474529266357422,
          -2.0475120544433594,
          11.420639991760254,
          9.71774673461914,
          1.963025689125061,
          5.617055892944336,
          3.041898727416992,
          -0.678286075592041,
          6.445265293121338,
          1.7219187021255493,
          -2.5880179405212402,
          -0.1892407089471817,
          -0.11919845640659332,
          13.978269577026367,
          6.517401218414307,
          -13.967185974121094,
          -6.948906421661377,
          0.4471086859703064,
          -11.540813446044922,
          -4.762814998626709,
          -6.532905101776123,
          7.098997116088867,
          7.220539093017578,
          1.3555103540420532,
          -13.923364639282227,
          -10.832280158996582,
          -13.870590209960938,
          10.856766700744629,
          5.256787300109863,
          -5.868398666381836,
          -0.5148215889930725,
          11.353775978088379,
          7.508676528930664,
          -5.244244575500488,
          2.098921537399292,
          11.937479019165039,
          -2.65990948677063,
          7.753530025482178,
          -6.185434818267822,
          -2.5206799507141113,
          -2.580195188522339,
          0.6342781782150269,
          7.597919464111328,
          -9.911845207214355,
          10.156397819519043,
          -9.706075668334961,
          11.427872657775879,
          12.537553787231445,
          -4.9722580909729,
          7.948425769805908,
          11.811365127563477,
          -6.698893070220947,
          -11.084160804748535,
          7.0832839012146,
          10.566262245178223,
          2.8134093284606934,
          8.223965644836426,
          14.237142562866211,
          12.387207984924316,
          1.7594096660614014,
          -2.4625115394592285,
          -10.225006103515625,
          -3.858837604522705,
          -6.947011947631836,
          -11.733392715454102,
          -3.728107452392578,
          9.78663444519043,
          -9.97136116027832,
          11.354076385498047,
          9.457615852355957,
          -3.0595548152923584,
          -6.513981342315674,
          6.8865065574646,
          10.58509349822998,
          -4.555891036987305,
          8.272171020507812,
          7.978363513946533,
          -3.642942190170288,
          9.831409454345703,
          4.203893184661865,
          0.3851933777332306,
          7.407996654510498,
          11.528349876403809,
          -13.045597076416016,
          -6.893921375274658,
          5.351302146911621,
          4.711589336395264,
          -3.8912241458892822,
          -4.344320774078369,
          10.068615913391113,
          11.136401176452637,
          7.720911979675293,
          15.103680610656738,
          -0.48408862948417664,
          6.795356750488281,
          10.394670486450195,
          5.587172985076904,
          5.587172985076904,
          5.587136745452881,
          0.7971192598342896,
          -9.345306396484375,
          -7.316046714782715,
          -3.413961410522461,
          -8.178339004516602,
          -2.2906062602996826,
          5.472202301025391,
          5.439502239227295,
          -5.318217754364014,
          2.725539445877075,
          7.758407115936279,
          6.655529499053955,
          1.5552715063095093,
          6.547773361206055,
          9.7549467086792,
          -9.48926830291748,
          -0.7664262056350708,
          10.40267276763916,
          9.607463836669922,
          0.7640026211738586,
          -8.476058959960938,
          -7.527750492095947,
          9.2524995803833,
          0.8078871965408325,
          -0.7557759284973145,
          6.692005634307861,
          3.003873348236084,
          -2.3221163749694824,
          -5.084824085235596,
          -2.0212152004241943,
          -1.8804662227630615,
          -4.286008358001709,
          1.7712528705596924,
          -8.634626388549805,
          11.403594970703125,
          -2.93959641456604,
          6.101149082183838,
          -3.5622963905334473,
          -2.8200602531433105,
          -8.708661079406738,
          4.315381050109863,
          -6.863273620605469,
          -6.653367519378662,
          -4.5517354011535645,
          -4.120909690856934,
          8.565423011779785,
          -11.496626853942871,
          1.1765750646591187,
          5.670896530151367,
          -7.3414306640625,
          -9.239009857177734,
          -2.732635736465454,
          -7.901650428771973,
          -8.309429168701172,
          -3.864863157272339,
          -5.075451850891113,
          -7.660125732421875,
          4.8415069580078125,
          8.9472074508667,
          -10.994979858398438,
          2.2194533348083496,
          5.626896858215332,
          -2.40142560005188,
          2.4153857231140137,
          2.9753050804138184,
          -3.0299410820007324,
          -10.739289283752441,
          -12.349321365356445,
          13.649849891662598,
          -3.4777071475982666,
          8.400744438171387,
          -0.4989595413208008,
          -0.41345030069351196,
          6.804532051086426,
          9.73723030090332,
          10.810098648071289,
          14.492280960083008,
          0.22252678871154785,
          0.17992383241653442,
          11.772698402404785,
          11.82817554473877,
          8.001742362976074,
          -7.067802429199219,
          -13.132658958435059,
          4.7118144035339355,
          5.8823723793029785,
          11.982795715332031,
          12.01414966583252,
          -4.874101161956787,
          6.146219253540039,
          1.039986491203308,
          -6.395938396453857,
          -9.675692558288574,
          11.027031898498535,
          8.421828269958496,
          5.521120071411133,
          4.115804195404053,
          -4.1099371910095215,
          -7.745087623596191,
          -4.716423988342285,
          -4.7054243087768555,
          9.147869110107422,
          5.6458353996276855,
          -1.1705043315887451,
          -0.12873446941375732,
          10.436729431152344,
          0.5089907050132751,
          6.888327121734619,
          -7.244040012359619,
          7.667054176330566,
          -5.135145664215088,
          -2.7647345066070557,
          -7.975041389465332,
          -5.264185905456543,
          6.217032432556152,
          7.475993633270264,
          11.760913848876953,
          0.48585784435272217,
          11.948378562927246,
          -8.565086364746094,
          -12.225464820861816,
          2.015493392944336,
          1.103783130645752,
          14.498493194580078,
          10.796841621398926,
          -6.3063554763793945,
          -1.0717062950134277,
          3.7170486450195312,
          -5.01434850692749,
          -3.556579828262329,
          -4.766051292419434,
          6.120404243469238,
          3.54099702835083,
          3.7309529781341553,
          3.0382497310638428,
          -11.146427154541016,
          9.087784767150879,
          -3.441575050354004,
          5.395473957061768,
          -4.22460412979126,
          -7.899158477783203,
          10.740757942199707,
          -4.71934175491333,
          7.105712413787842,
          0.4752487242221832,
          -4.9044599533081055,
          8.61269760131836,
          -9.628345489501953,
          4.844785213470459,
          0.6117159128189087,
          -6.920930862426758,
          6.0365519523620605,
          -8.038416862487793,
          9.20294189453125,
          9.425947189331055,
          -3.771174192428589,
          -0.3369174897670746,
          -3.6076478958129883,
          -4.018528938293457,
          -14.965296745300293,
          0.6854673624038696,
          -10.089197158813477,
          11.5642728805542,
          12.883305549621582,
          8.40062427520752,
          0.766459584236145,
          3.8069264888763428,
          7.43944787979126,
          -9.849347114562988,
          12.2919282913208,
          12.435839653015137,
          8.234098434448242,
          6.9294939041137695,
          5.681683540344238,
          -1.2845869064331055,
          -5.165775775909424,
          10.60932445526123,
          6.513911247253418,
          -7.8268914222717285,
          11.552223205566406,
          4.930019855499268,
          -2.7927956581115723,
          -16.149173736572266,
          -7.755806922912598,
          8.72390365600586,
          -5.758418083190918,
          10.498111724853516,
          11.155318260192871,
          7.187273025512695,
          -7.743746280670166,
          8.825016021728516,
          -4.640359401702881,
          -11.404986381530762,
          6.884803771972656,
          4.252849578857422,
          9.874421119689941,
          -12.31755256652832,
          -0.5568186640739441,
          -3.095543146133423,
          5.179526329040527,
          -4.253348350524902,
          -8.68903923034668,
          1.7742693424224854,
          -7.656509876251221,
          10.505688667297363,
          5.01345157623291,
          -4.6275529861450195,
          10.748161315917969,
          -9.470925331115723,
          -15.63095760345459,
          13.094260215759277,
          4.595958709716797,
          10.217623710632324,
          -9.876422882080078,
          -4.316198825836182,
          -3.161771774291992,
          8.515174865722656,
          0.9366978406906128,
          5.619149208068848,
          3.540339946746826,
          -0.7889285683631897,
          -5.585206985473633,
          -12.058797836303711,
          11.752480506896973,
          8.884404182434082,
          -0.40815502405166626,
          -1.13381028175354,
          4.133856773376465,
          6.010622501373291,
          11.13968563079834,
          -3.611412763595581,
          1.6963385343551636,
          -4.165132999420166,
          -2.772657632827759,
          -10.149075508117676,
          10.753661155700684,
          7.799257755279541,
          0.41212359070777893,
          -5.0887651443481445,
          8.82580852508545,
          8.401909828186035,
          13.05615234375,
          7.332860946655273,
          0.6528168320655823,
          8.48741626739502,
          3.5731041431427,
          9.866470336914062,
          11.212121963500977,
          4.360579490661621,
          7.4476776123046875,
          -8.033295631408691,
          -0.2731879949569702,
          0.4688366651535034,
          6.736466407775879,
          -10.22415828704834,
          6.029850959777832,
          -11.869139671325684,
          -13.86160659790039,
          9.983407020568848,
          -12.630645751953125,
          12.095085144042969,
          0.2854836881160736,
          -13.869600296020508,
          -6.985481262207031,
          9.866450309753418,
          -11.656938552856445,
          1.4628090858459473,
          -11.900856018066406,
          0.7584857940673828,
          5.858920574188232,
          -9.25061321258545,
          5.0719313621521,
          -2.9771852493286133,
          7.4211297035217285,
          9.368931770324707,
          -7.44022274017334,
          3.9893548488616943,
          -3.9859349727630615,
          4.876474380493164,
          7.610041618347168,
          4.440081596374512,
          -0.1685142070055008,
          -7.797342777252197,
          0.1347774863243103,
          -8.735818862915039,
          -3.0208253860473633,
          7.532713890075684,
          10.088239669799805,
          -7.522225379943848,
          -12.043015480041504,
          -7.437129497528076,
          12.503644943237305,
          -9.957776069641113,
          5.838265895843506,
          -13.830785751342773,
          10.931480407714844,
          -5.436779499053955,
          -3.6982057094573975,
          1.3424323797225952,
          9.801770210266113,
          7.284364700317383,
          11.624571800231934,
          11.618173599243164,
          -2.5992789268493652,
          -7.025949954986572,
          -8.716699600219727,
          5.02770471572876,
          10.396239280700684,
          5.770409107208252,
          2.53048038482666,
          -4.0673909187316895,
          -9.0372314453125,
          -5.556800365447998,
          10.483415603637695,
          0.9173359870910645,
          -1.407883644104004,
          -0.02480148896574974,
          10.502900123596191,
          10.754561424255371,
          12.564726829528809,
          -4.919735908508301,
          12.818380355834961,
          14.218037605285645,
          -7.868585109710693,
          11.23341178894043,
          0.2108844369649887,
          -2.2121896743774414,
          2.2964701652526855,
          -2.246347188949585,
          7.31119966506958,
          0.7370759844779968,
          -7.386919975280762,
          -3.988602638244629,
          11.755166053771973,
          -5.1388325691223145,
          2.5525014400482178,
          6.533071994781494,
          0.9637944102287292,
          10.27256965637207,
          6.46296501159668,
          5.009914398193359,
          -2.526399612426758,
          -0.44972124695777893,
          -1.6129391193389893,
          -5.531557559967041,
          -2.844160556793213,
          10.723037719726562,
          -2.941535472869873,
          6.923730373382568,
          -4.098361492156982,
          -1.4025914669036865,
          3.6460766792297363,
          -7.54567813873291,
          -1.3952199220657349,
          -5.575805187225342,
          12.67657470703125,
          8.53742790222168,
          -5.200658798217773,
          8.518059730529785,
          13.395304679870605,
          -9.027998924255371,
          3.56284761428833,
          7.569829940795898,
          -8.473733901977539,
          10.730002403259277,
          1.7271184921264648,
          10.265254020690918,
          8.68110466003418,
          9.15876579284668,
          11.923901557922363,
          8.093695640563965,
          11.761065483093262,
          11.82373332977295,
          -6.951089859008789,
          -6.643283843994141,
          11.448271751403809,
          8.549958229064941,
          11.424633026123047,
          8.667388916015625,
          -1.2764900922775269,
          1.8230438232421875,
          -1.4632625579833984,
          7.391506195068359,
          13.315275192260742,
          0.30762624740600586,
          10.74645709991455,
          0.22089877724647522,
          2.839613914489746,
          -4.615171432495117,
          -2.8866899013519287,
          5.076044082641602,
          8.525585174560547,
          12.561195373535156,
          4.879823207855225,
          8.403674125671387,
          8.974077224731445,
          -13.791769981384277,
          4.8486328125,
          -5.870477676391602,
          9.537797927856445,
          9.9758882522583,
          -6.074892520904541,
          7.0441389083862305,
          -8.103346824645996,
          -11.913569450378418,
          7.9003095626831055,
          -3.6419644355773926,
          -8.021702766418457,
          -10.568225860595703,
          -4.990494728088379,
          -4.990451335906982,
          7.015446186065674,
          7.015520095825195,
          -2.742553234100342,
          -2.742553234100342,
          1.00253164768219,
          1.002544641494751,
          11.32591438293457,
          11.32591438293457,
          5.108461856842041,
          5.108509540557861,
          3.7124078273773193,
          3.7124078273773193,
          -6.768442630767822,
          -6.768442630767822,
          11.420029640197754,
          11.420029640197754,
          9.070089340209961,
          9.070089340209961,
          0.6820403337478638,
          0.6820403337478638,
          5.5137410163879395,
          4.355065822601318,
          -10.377382278442383,
          -10.377382278442383,
          -1.0564548969268799,
          -1.0564548969268799,
          -10.9273042678833,
          -10.9273042678833,
          -7.505285263061523,
          -7.505228042602539,
          -10.729852676391602,
          -10.729852676391602,
          10.083871841430664,
          13.963342666625977,
          -15.532163619995117,
          -4.899099349975586,
          -0.10061183571815491,
          2.643068790435791,
          8.87933349609375,
          2.0646414756774902,
          -7.4857869148254395,
          5.898860931396484,
          8.300872802734375,
          -5.411515712738037,
          10.94005298614502,
          9.350081443786621,
          10.568404197692871,
          -14.094915390014648,
          8.781010627746582,
          -10.26817512512207,
          8.597017288208008,
          -1.5984587669372559,
          12.139022827148438,
          8.90886116027832,
          10.068550109863281,
          10.55250358581543,
          9.3345308303833,
          8.71332836151123,
          11.77170467376709,
          8.34218692779541,
          8.5864839553833,
          -4.187324047088623,
          -2.6076152324676514,
          -3.6443872451782227,
          2.265056848526001,
          -12.351090431213379,
          9.6392183303833,
          -10.7891263961792,
          -10.410831451416016,
          -8.489034652709961,
          6.498941898345947,
          -9.0540189743042,
          -1.915001392364502,
          1.2290616035461426,
          -2.0566635131835938,
          -2.3625056743621826,
          -4.282158374786377,
          10.90501880645752,
          8.274331092834473,
          4.081796646118164,
          8.142961502075195,
          8.658493041992188,
          7.7070088386535645,
          -7.057888507843018,
          1.1481865644454956,
          10.34933853149414,
          8.427824020385742,
          9.328402519226074,
          -1.982861876487732,
          11.727912902832031,
          3.011786699295044,
          10.313811302185059,
          1.7671407461166382,
          12.36904525756836,
          2.45386004447937,
          8.965153694152832,
          11.820097923278809,
          7.513595104217529,
          7.010891437530518,
          -5.172962188720703,
          12.552289962768555,
          0.7177045345306396,
          5.856417179107666,
          -3.7054338455200195,
          -2.627199649810791,
          8.963102340698242,
          6.92411994934082,
          9.044729232788086,
          0.5005878210067749,
          -11.802481651306152,
          -2.8436942100524902,
          -2.8102993965148926,
          8.705528259277344,
          8.577710151672363,
          8.218944549560547,
          10.643603324890137,
          11.67481803894043,
          11.693333625793457,
          9.917861938476562,
          11.90438175201416,
          10.345172882080078,
          10.060797691345215,
          9.313693046569824,
          10.534302711486816,
          8.873394966125488,
          -0.5948588848114014,
          10.408424377441406,
          11.932129859924316,
          7.124825954437256,
          6.499240398406982,
          -6.564943790435791,
          5.208450794219971,
          1.2621667385101318,
          0.5526121854782104,
          5.457901477813721,
          4.668718338012695,
          11.438314437866211,
          12.04341983795166,
          3.3676321506500244,
          8.94976806640625,
          8.549116134643555,
          -9.693609237670898,
          -8.92032241821289,
          10.182374000549316,
          9.642032623291016,
          -6.933660507202148,
          9.27357006072998,
          7.869240760803223,
          -2.717944860458374,
          7.714099884033203,
          -5.480079174041748,
          -1.2806832790374756,
          -0.6704723238945007,
          0.3646334707736969,
          8.689764976501465,
          -1.6109730005264282,
          1.6354749202728271,
          -13.587644577026367,
          -1.6422160863876343,
          -7.82054328918457,
          6.21893310546875,
          5.480903148651123,
          -7.310739994049072,
          -9.00155258178711,
          -3.9186508655548096,
          7.762901782989502,
          3.1515049934387207,
          -13.639936447143555,
          7.789299488067627,
          5.984072685241699,
          -4.599076747894287,
          -4.617844581604004,
          -10.302085876464844,
          -7.638546943664551,
          10.906721115112305,
          9.334997177124023,
          -0.5782930254936218,
          1.0387729406356812,
          10.16219711303711,
          -10.025859832763672,
          6.629583358764648,
          9.01471996307373,
          0.582383394241333,
          -7.0132246017456055,
          -11.894323348999023,
          8.109431266784668,
          -5.445102214813232,
          8.477152824401855,
          -6.493537425994873,
          -10.939837455749512,
          0.6456535458564758,
          8.286638259887695,
          1.6489996910095215,
          8.421306610107422,
          -1.2482503652572632,
          8.129396438598633,
          1.925646424293518,
          1.4488885402679443,
          -5.537694931030273,
          8.587797164916992,
          0.6974986791610718,
          -8.585113525390625,
          -4.257742881774902,
          -7.978681564331055,
          6.778565883636475,
          -4.784994602203369,
          6.525389671325684,
          -1.040413737297058,
          -8.947914123535156,
          11.421699523925781,
          -12.46078109741211,
          10.644211769104004,
          9.503846168518066,
          8.080926895141602,
          8.166102409362793,
          6.60952091217041,
          1.6727763414382935,
          -6.913887023925781,
          8.51262092590332,
          8.45954704284668,
          -11.8660306930542,
          2.285733461380005,
          -10.428240776062012,
          8.043450355529785,
          -4.664258003234863,
          -6.024513244628906,
          -2.2398176193237305,
          -5.573360919952393,
          -11.574167251586914,
          1.8532209396362305,
          -1.2860063314437866,
          1.4952138662338257,
          10.14171314239502,
          11.450499534606934,
          -9.782442092895508,
          -5.3442182540893555,
          -6.031517505645752,
          11.000085830688477,
          7.72361946105957,
          -7.9851202964782715,
          5.982941627502441,
          1.821199893951416,
          -9.494255065917969,
          0.4532429575920105,
          8.312578201293945,
          8.225067138671875,
          1.3222620487213135,
          9.299638748168945,
          9.606551170349121,
          8.24268913269043,
          1.8429052829742432,
          -11.546407699584961,
          8.719463348388672,
          0.2622990906238556,
          -2.296370506286621,
          8.03265380859375,
          -4.526709079742432,
          -11.91428279876709,
          1.7390408515930176,
          8.516921997070312,
          8.50841236114502,
          -2.6837897300720215,
          2.168180227279663,
          8.23271656036377,
          0.5631787180900574,
          -5.853338241577148,
          7.642741680145264,
          2.452979803085327,
          3.8567862510681152,
          7.790065288543701,
          1.4164938926696777,
          -5.0254807472229,
          11.725546836853027,
          10.883237838745117,
          8.184127807617188,
          8.825879096984863,
          -4.071046829223633,
          8.0321626663208,
          6.390361309051514,
          9.105600357055664,
          -4.54054069519043,
          3.3607048988342285,
          8.195582389831543,
          11.127331733703613,
          8.980658531188965,
          9.966582298278809,
          -7.234641075134277,
          -8.232476234436035,
          -1.873390793800354,
          -7.650624752044678,
          -1.1232435703277588,
          -9.212010383605957,
          -4.990602016448975,
          -10.717689514160156,
          1.711446762084961,
          6.229462146759033,
          13.009267807006836,
          -11.514142990112305,
          -13.311342239379883,
          1.8382879495620728,
          6.5499773025512695,
          -4.868263244628906,
          -4.048678874969482,
          5.218113899230957,
          -2.999884605407715,
          6.73837947845459,
          2.6335887908935547,
          -5.410531997680664,
          -12.24111270904541,
          -5.9809489250183105,
          -1.3519870042800903,
          4.588033199310303,
          -3.506134510040283,
          0.9777803421020508,
          -1.7979801893234253,
          -1.3837993144989014,
          -6.845879554748535,
          -1.7391002178192139,
          -5.269454002380371,
          -3.385207176208496,
          -10.772045135498047,
          3.528245449066162,
          -10.702896118164062,
          3.9561848640441895,
          7.735994815826416,
          7.07443904876709,
          -2.9380335807800293,
          -11.993120193481445,
          -10.814399719238281,
          6.929746627807617,
          -0.5556307435035706,
          12.168856620788574,
          -1.0265315771102905,
          -4.591481685638428,
          0.36652934551239014,
          -5.295005798339844,
          13.81325626373291,
          -4.191105842590332,
          -7.350625514984131,
          6.746856212615967,
          4.2077531814575195,
          7.068490982055664,
          7.756266117095947,
          1.1023861169815063,
          0.3126934766769409,
          -0.4877719581127167,
          5.310754776000977,
          3.4002912044525146,
          -0.04314303398132324,
          12.322793006896973,
          -11.294212341308594,
          6.104495525360107,
          2.2201216220855713,
          -7.419261932373047,
          -7.298444747924805,
          -9.062102317810059,
          -0.3271659314632416,
          6.162873268127441,
          10.16750717163086,
          -8.554301261901855,
          -2.6971793174743652,
          -4.100776195526123,
          10.918607711791992,
          -9.957964897155762,
          -0.771118700504303,
          6.6267852783203125,
          -4.314225673675537,
          -12.2013521194458,
          -6.808981418609619,
          -11.717296600341797,
          0.9637628793716431,
          -8.15420913696289,
          -4.318809509277344,
          -7.253389835357666,
          -8.883511543273926,
          1.8070193529129028,
          -14.260814666748047,
          7.024752140045166,
          -7.926108360290527,
          -2.9497506618499756,
          3.1021766662597656,
          -6.3358588218688965,
          -1.7642909288406372,
          -2.6515369415283203,
          -2.7361559867858887,
          -2.9610822200775146,
          -0.1641201227903366,
          -6.849087715148926,
          0.272573322057724,
          3.6074259281158447,
          -8.534576416015625,
          6.080924987792969,
          -9.634820938110352,
          -6.857309341430664,
          -4.009138584136963,
          -0.8199375867843628,
          -9.45676040649414,
          -1.0667515993118286,
          1.9723405838012695,
          -1.2969962358474731,
          -3.842339277267456,
          -0.34270039200782776,
          -5.739145278930664,
          3.3903868198394775,
          -1.4578191041946411,
          -6.523169040679932,
          -6.184632301330566,
          2.4553885459899902,
          -2.624696731567383,
          -2.6100010871887207,
          -4.844367027282715,
          -9.176460266113281,
          7.449184894561768,
          -2.5443150997161865,
          5.094203948974609,
          -0.6924613118171692,
          -6.995611667633057,
          8.270191192626953,
          -8.17267894744873,
          -6.534350872039795,
          8.594586372375488,
          7.907711505889893,
          9.425942420959473,
          8.394380569458008,
          7.199271202087402
         ],
         "z": [
          -2.0540268421173096,
          -2.263835906982422,
          -3.310519218444824,
          2.5185844898223877,
          3.438361644744873,
          0.5107738971710205,
          -1.4477355480194092,
          1.599811315536499,
          5.5127129554748535,
          -3.982360601425171,
          2.4098763465881348,
          -2.5960748195648193,
          6.100824356079102,
          1.5162969827651978,
          -4.241643905639648,
          -2.519714117050171,
          -0.3544539213180542,
          -3.137791633605957,
          1.3969814777374268,
          5.745625972747803,
          -3.3662447929382324,
          3.920356035232544,
          0.7058037519454956,
          0.6015938520431519,
          1.2978274822235107,
          2.0116286277770996,
          -0.45188194513320923,
          -0.06843191385269165,
          -3.1265833377838135,
          5.93256139755249,
          5.198670387268066,
          0.21838247776031494,
          5.370028018951416,
          1.453635811805725,
          1.3063642978668213,
          1.4321879148483276,
          5.083738803863525,
          3.9854736328125,
          1.6623139381408691,
          0.2367992252111435,
          2.9710144996643066,
          -0.20123614370822906,
          -4.679185390472412,
          1.406126618385315,
          -0.8175197839736938,
          2.959714651107788,
          0.42864879965782166,
          6.985401153564453,
          3.2069365978240967,
          3.083324670791626,
          -3.4528982639312744,
          -1.3262025117874146,
          -0.6318332552909851,
          -3.2486793994903564,
          -3.9933786392211914,
          2.735403060913086,
          -0.9266825914382935,
          -3.464181423187256,
          3.420032024383545,
          2.6691129207611084,
          3.690068006515503,
          -5.608999252319336,
          -1.572751522064209,
          -0.8396255970001221,
          -2.7403290271759033,
          -5.350532054901123,
          -2.3169572353363037,
          -3.8400886058807373,
          0.32362544536590576,
          0.21068619191646576,
          3.6410489082336426,
          -2.220524549484253,
          5.648352146148682,
          -0.32823577523231506,
          -2.0874533653259277,
          -0.06520643830299377,
          1.5111511945724487,
          -1.2373031377792358,
          4.00924015045166,
          -3.7246029376983643,
          2.7610371112823486,
          7.463781356811523,
          2.3084330558776855,
          -3.945801019668579,
          1.1256697177886963,
          5.568662166595459,
          3.8011581897735596,
          -2.692460775375366,
          1.5109057426452637,
          5.3264384269714355,
          1.6597778797149658,
          -0.06284817308187485,
          5.200153827667236,
          2.1813576221466064,
          6.021028518676758,
          2.7672932147979736,
          1.1768245697021484,
          0.3664109706878662,
          0.8133673071861267,
          4.953862190246582,
          -0.535511314868927,
          -1.859708547592163,
          -4.220006465911865,
          1.8289073705673218,
          1.0582863092422485,
          1.0116603374481201,
          2.390711784362793,
          -0.4458824396133423,
          5.368929862976074,
          3.266970157623291,
          1.5924278497695923,
          4.109065532684326,
          -0.9560564160346985,
          1.559462308883667,
          4.5946478843688965,
          1.3199139833450317,
          -2.089451789855957,
          -0.49767082929611206,
          3.5504567623138428,
          3.5512990951538086,
          2.30938720703125,
          3.4510536193847656,
          2.5074524879455566,
          0.9030219316482544,
          1.2609280347824097,
          5.316501140594482,
          -1.6541279554367065,
          -1.4936199188232422,
          0.25417855381965637,
          0.9747422337532043,
          0.07796090096235275,
          4.293946743011475,
          -1.712941288948059,
          4.741959095001221,
          3.0475199222564697,
          0.2600646913051605,
          -2.0414955615997314,
          -4.935622215270996,
          -4.860962390899658,
          -0.607397198677063,
          -6.208336353302002,
          -2.658507823944092,
          2.0757668018341064,
          0.13235802948474884,
          -7.711416244506836,
          1.169364094734192,
          -0.9984062910079956,
          1.18168306350708,
          -1.024423360824585,
          -3.6245462894439697,
          -1.5999233722686768,
          2.164494276046753,
          -3.5373613834381104,
          5.028919219970703,
          -3.48258376121521,
          2.9557108879089355,
          -6.1409173011779785,
          -1.0583606958389282,
          -0.32899370789527893,
          0.34374430775642395,
          3.871391534805298,
          3.0408475399017334,
          -2.23237681388855,
          -8.789253234863281,
          -3.118422269821167,
          1.5370557308197021,
          -4.057619094848633,
          4.138176918029785,
          4.631711006164551,
          7.2982659339904785,
          -3.000798463821411,
          2.7325427532196045,
          -0.7135301828384399,
          9.472793579101562,
          0.12285994738340378,
          -0.7377592325210571,
          -0.9396696090698242,
          -3.3864259719848633,
          0.3508327603340149,
          -2.787493944168091,
          2.182368516921997,
          1.2141798734664917,
          -0.39883044362068176,
          2.2456066608428955,
          4.34025239944458,
          3.862285614013672,
          0.4399493932723999,
          -0.562842607498169,
          2.9665684700012207,
          -0.48079201579093933,
          3.5853183269500732,
          3.8821330070495605,
          1.7373048067092896,
          5.2102885246276855,
          -2.7802975177764893,
          0.14711593091487885,
          0.8806710243225098,
          -1.18109929561615,
          -4.134449005126953,
          -3.281968355178833,
          4.641141891479492,
          1.4058641195297241,
          -3.9182281494140625,
          -3.457850217819214,
          -1.2381582260131836,
          -5.703240394592285,
          -0.321667343378067,
          5.805800914764404,
          -1.6551766395568848,
          -5.463536262512207,
          -1.5319830179214478,
          1.3035495281219482,
          -1.0357961654663086,
          -1.6947087049484253,
          4.301219463348389,
          1.8015185594558716,
          -1.5494455099105835,
          -5.347301483154297,
          2.0671329498291016,
          3.211195945739746,
          6.036890506744385,
          2.232100009918213,
          -7.578964710235596,
          -2.161250591278076,
          -5.679248809814453,
          1.7754874229431152,
          0.15791694819927216,
          -2.67911958694458,
          0.6946943402290344,
          -0.9497026205062866,
          2.5748212337493896,
          -1.204336166381836,
          -2.0418903827667236,
          5.953372478485107,
          0.5927625894546509,
          3.5059103965759277,
          4.197317123413086,
          -3.6715264320373535,
          -3.1273603439331055,
          4.28294563293457,
          -1.855622410774231,
          4.272486686706543,
          5.093864917755127,
          0.3939760625362396,
          -3.3581035137176514,
          2.3313980102539062,
          0.8122265934944153,
          -2.7320609092712402,
          2.550548553466797,
          -1.1275578737258911,
          -2.709322929382324,
          -0.12472867965698242,
          7.662623882293701,
          0.9428314566612244,
          0.7101203203201294,
          1.799717903137207,
          0.5608044862747192,
          1.5761637687683105,
          5.430038928985596,
          -1.4272010326385498,
          4.009742259979248,
          4.415594577789307,
          2.4308438301086426,
          -5.0498785972595215,
          4.294652462005615,
          3.959531545639038,
          4.558250427246094,
          3.0121421813964844,
          3.9686145782470703,
          -2.453824996948242,
          1.6181564331054688,
          4.59036922454834,
          -1.416991114616394,
          -0.310395210981369,
          -4.686100482940674,
          -1.297857642173767,
          -0.32025203108787537,
          -3.145540952682495,
          3.92105770111084,
          -0.39736875891685486,
          1.2155418395996094,
          1.810898780822754,
          3.2580008506774902,
          2.8479256629943848,
          -0.5081208944320679,
          1.5774680376052856,
          7.586755752563477,
          3.6473548412323,
          0.8361601829528809,
          0.19611100852489471,
          -2.616769790649414,
          1.5716711282730103,
          -5.762388229370117,
          0.13651686906814575,
          -4.177931308746338,
          -4.716766357421875,
          -1.7751717567443848,
          2.0299954414367676,
          0.21601441502571106,
          3.6421477794647217,
          -3.8407061100006104,
          -2.4769527912139893,
          4.161811828613281,
          -0.8924684524536133,
          7.3600335121154785,
          -1.1892915964126587,
          0.0605892576277256,
          3.606032371520996,
          1.4813891649246216,
          0.982249915599823,
          2.8349738121032715,
          -3.993635654449463,
          -6.684354782104492,
          -0.7273681163787842,
          3.978740692138672,
          1.3296669721603394,
          1.722102165222168,
          6.325901985168457,
          6.919345855712891,
          -4.533462047576904,
          -4.50080680847168,
          -0.4953818619251251,
          -5.644587993621826,
          -1.543539047241211,
          7.230949401855469,
          -3.6778836250305176,
          -0.5550367832183838,
          0.20739708840847015,
          0.2770179212093353,
          -2.0306577682495117,
          -3.5316734313964844,
          7.567193508148193,
          -5.575510025024414,
          -1.6771243810653687,
          3.3659987449645996,
          -5.606184959411621,
          -4.084710597991943,
          -0.7906392216682434,
          -2.864000082015991,
          1.5412806272506714,
          4.157482624053955,
          2.8533878326416016,
          4.804133415222168,
          -2.1681442260742188,
          3.6945998668670654,
          1.826902985572815,
          -1.9647226333618164,
          3.7968051433563232,
          4.2044525146484375,
          1.3426846265792847,
          -5.2126617431640625,
          1.9699640274047852,
          -4.309553146362305,
          5.235159397125244,
          0.3300052583217621,
          -2.2911217212677,
          9.253530502319336,
          -3.452185869216919,
          -2.9054222106933594,
          -2.240180730819702,
          1.144783616065979,
          -0.10382124036550522,
          3.15926194190979,
          -2.0663881301879883,
          -2.896106243133545,
          4.130350589752197,
          -2.212836742401123,
          3.4781532287597656,
          1.0818873643875122,
          0.06392288953065872,
          0.07167616486549377,
          0.031871795654296875,
          -0.9230307936668396,
          -2.275980234146118,
          1.6269736289978027,
          0.63625568151474,
          1.7387006282806396,
          1.6166335344314575,
          1.3452945947647095,
          -1.4193181991577148,
          -2.0956554412841797,
          -1.5132298469543457,
          0.0587250292301178,
          5.256270408630371,
          -3.6098310947418213,
          -4.523584365844727,
          6.907717227935791,
          -4.385138511657715,
          -2.4386649131774902,
          -1.3784725666046143,
          -1.7329025268554688,
          4.830310821533203,
          5.530790328979492,
          -1.3297083377838135,
          -5.125967025756836,
          -6.08866024017334,
          -4.436739921569824,
          7.547000408172607,
          -1.1401855945587158,
          2.8664963245391846,
          0.11858353763818741,
          1.039250135421753,
          1.908433437347412,
          -0.20306959748268127,
          3.444706678390503,
          -0.04940329119563103,
          1.6667016744613647,
          -0.3308173716068268,
          1.6461529731750488,
          -3.242849588394165,
          -1.8042045831680298,
          -3.031351089477539,
          -2.6043426990509033,
          4.685526371002197,
          -5.081268787384033,
          9.052560806274414,
          -2.5776522159576416,
          -3.404810667037964,
          -6.3237762451171875,
          -2.8203892707824707,
          3.2333309650421143,
          -5.101626873016357,
          -2.040637969970703,
          0.47452452778816223,
          1.6898897886276245,
          3.6673672199249268,
          -3.7878923416137695,
          1.562551498413086,
          -2.7494540214538574,
          -5.318156719207764,
          -4.1763811111450195,
          -1.0805174112319946,
          0.10027299076318741,
          0.8649587035179138,
          4.591086387634277,
          4.294229030609131,
          -4.314363956451416,
          1.2600306272506714,
          0.3093870282173157,
          -1.7755286693572998,
          6.695274829864502,
          6.22312593460083,
          -0.48929649591445923,
          -2.908414363861084,
          7.7367658615112305,
          4.406536102294922,
          -0.9050562381744385,
          -6.551280498504639,
          -4.198795318603516,
          -1.2085200548171997,
          -7.193053245544434,
          1.8095803260803223,
          -5.484577178955078,
          -4.7109785079956055,
          0.17324155569076538,
          -5.924075603485107,
          -1.7835543155670166,
          2.726656675338745,
          -5.559915542602539,
          0.6691710948944092,
          1.092383861541748,
          0.25675421953201294,
          4.547354221343994,
          1.6729390621185303,
          -1.4717599153518677,
          1.5676506757736206,
          1.5869405269622803,
          -1.7352761030197144,
          -0.8953962922096252,
          -1.2130464315414429,
          -1.8950899839401245,
          -1.3163987398147583,
          3.58722186088562,
          2.6067512035369873,
          4.649811744689941,
          0.5773236751556396,
          -3.8655879497528076,
          -0.5454660654067993,
          1.3029086589813232,
          -1.2918728590011597,
          0.6824758052825928,
          4.819632053375244,
          4.819632053375244,
          4.819627285003662,
          3.4307501316070557,
          -2.0608863830566406,
          -3.8741109371185303,
          8.547930717468262,
          -4.0360541343688965,
          4.4502716064453125,
          1.3878790140151978,
          6.385566711425781,
          -0.8693578243255615,
          0.8113695383071899,
          -1.6740846633911133,
          1.6846790313720703,
          2.719881057739258,
          -0.8648603558540344,
          -0.39335617423057556,
          -9.176373481750488,
          -1.6512049436569214,
          -1.0999810695648193,
          -1.0405867099761963,
          4.227547645568848,
          -5.967937469482422,
          -5.186862945556641,
          -4.483067512512207,
          -3.0207138061523438,
          0.46859031915664673,
          4.138190269470215,
          1.9224119186401367,
          3.733935594558716,
          3.0995638370513916,
          1.6999748945236206,
          2.109900951385498,
          5.051673889160156,
          1.3579328060150146,
          -4.0410895347595215,
          -5.6765923500061035,
          2.188453197479248,
          4.665439128875732,
          0.30330732464790344,
          2.699056625366211,
          1.084355354309082,
          4.7552995681762695,
          5.101982116699219,
          1.3101270198822021,
          -1.4082781076431274,
          4.347902774810791,
          1.0650097131729126,
          0.6045600175857544,
          4.936582088470459,
          -3.42478084564209,
          -4.673155784606934,
          -3.004467010498047,
          2.3629539012908936,
          -2.5224809646606445,
          2.6573498249053955,
          7.877992630004883,
          2.08967924118042,
          -1.1237155199050903,
          3.8472800254821777,
          0.7057619094848633,
          -4.338506698608398,
          -3.3107428550720215,
          3.8124749660491943,
          1.602632999420166,
          6.2985429763793945,
          0.5581179857254028,
          -1.4313703775405884,
          -1.33589768409729,
          1.6028742790222168,
          -0.15041878819465637,
          -2.3218917846679688,
          3.9778850078582764,
          0.9131906032562256,
          1.354364275932312,
          -7.1904072761535645,
          -0.3813275396823883,
          2.4801182746887207,
          -1.6994125843048096,
          7.72020959854126,
          3.460766077041626,
          -4.109364032745361,
          3.143038034439087,
          3.061141014099121,
          -4.998291492462158,
          -2.3908851146698,
          1.3416328430175781,
          1.3838293552398682,
          3.094911813735962,
          -0.16504541039466858,
          -1.08978271484375,
          2.2429347038269043,
          0.99793541431427,
          0.0244212057441473,
          1.2479006052017212,
          0.49258819222450256,
          2.2946994304656982,
          -2.5952515602111816,
          3.3552329540252686,
          0.6339349746704102,
          -2.7529070377349854,
          5.195324897766113,
          6.817493915557861,
          -2.2956480979919434,
          -2.088643789291382,
          -4.402833938598633,
          8.455665588378906,
          4.139197826385498,
          6.999154090881348,
          3.728398323059082,
          -4.302987575531006,
          1.2670230865478516,
          -5.607483863830566,
          1.4429813623428345,
          -4.211073398590088,
          -1.3719943761825562,
          4.115352153778076,
          -3.8582472801208496,
          0.0415872298181057,
          0.6549962759017944,
          1.8644644021987915,
          -5.637639045715332,
          1.7175592184066772,
          0.9447944760322571,
          -0.3738430440425873,
          1.036102056503296,
          -0.5567730069160461,
          1.8216071128845215,
          4.727980136871338,
          1.7393752336502075,
          1.632398247718811,
          0.26636701822280884,
          1.9998464584350586,
          -2.793994903564453,
          2.0083487033843994,
          0.6988816857337952,
          -0.9090223908424377,
          0.6733348965644836,
          -0.6467602252960205,
          1.6904698610305786,
          4.544092655181885,
          7.452661991119385,
          1.9742196798324585,
          -0.4514128565788269,
          -1.8524916172027588,
          5.167740821838379,
          -1.934493899345398,
          -7.644003868103027,
          4.357349872589111,
          -2.7346179485321045,
          7.170304298400879,
          1.135909080505371,
          4.518916130065918,
          -0.23002883791923523,
          -2.603505849838257,
          4.286636829376221,
          5.488741397857666,
          -2.7186670303344727,
          4.842319488525391,
          -2.7884418964385986,
          0.7925520539283752,
          -2.199018716812134,
          -1.9502673149108887,
          0.10796333104372025,
          2.7724874019622803,
          -0.8713199496269226,
          -0.5584901571273804,
          3.6984007358551025,
          4.87066125869751,
          1.815643072128296,
          1.2376006841659546,
          -0.5679382681846619,
          -2.066025495529175,
          4.1194281578063965,
          -3.70253324508667,
          4.210254669189453,
          5.051145553588867,
          6.676198959350586,
          0.016304632648825645,
          1.1144119501113892,
          1.6622601747512817,
          -0.7666119337081909,
          3.8500890731811523,
          8.903543472290039,
          -4.17490816116333,
          -0.4538341462612152,
          -0.46117082238197327,
          5.954635143280029,
          1.4025378227233887,
          -2.3077876567840576,
          2.554945945739746,
          2.699069023132324,
          1.2721859216690063,
          -3.233070135116577,
          -5.849897861480713,
          0.6775011420249939,
          -1.0587434768676758,
          4.977179050445557,
          1.95728600025177,
          1.7259974479675293,
          2.4398632049560547,
          0.5163888335227966,
          -0.8067945241928101,
          0.14134477078914642,
          2.6668899059295654,
          -0.777944028377533,
          -2.547682285308838,
          1.5787043571472168,
          -4.26600980758667,
          -0.2723887264728546,
          -4.139227390289307,
          -3.911121368408203,
          -0.8122292757034302,
          5.328346252441406,
          -0.9815739989280701,
          -9.059492111206055,
          -1.9998916387557983,
          0.16829083859920502,
          4.138906002044678,
          3.8533008098602295,
          0.32290101051330566,
          6.374800682067871,
          -1.2134811878204346,
          3.090705156326294,
          0.5286769866943359,
          -2.0889930725097656,
          0.7876240611076355,
          6.035419940948486,
          -2.2765774726867676,
          2.585146903991699,
          -1.9140260219573975,
          -0.08460875600576401,
          -7.172250747680664,
          -2.7345662117004395,
          3.810163736343384,
          2.1908388137817383,
          -5.609419345855713,
          -2.4801790714263916,
          7.024631023406982,
          -5.547721862792969,
          5.094573497772217,
          0.6859781742095947,
          -3.069291591644287,
          0.22463487088680267,
          2.461744785308838,
          -3.0972511768341064,
          0.6365164518356323,
          1.3202391862869263,
          -2.3464791774749756,
          -5.778188705444336,
          0.18301232159137726,
          3.3259823322296143,
          -7.623213291168213,
          -6.07006311416626,
          7.214443206787109,
          -1.4991203546524048,
          0.3860017657279968,
          -0.9161331057548523,
          -0.6763135194778442,
          -4.019618511199951,
          3.519487142562866,
          -0.5135751366615295,
          -0.3934180736541748,
          7.667669296264648,
          -4.837011814117432,
          -0.3417617976665497,
          -2.346468925476074,
          -5.1198015213012695,
          7.296636581420898,
          -2.095946788787842,
          2.256305694580078,
          4.676453113555908,
          0.05515621602535248,
          0.02130081318318844,
          1.7045738697052002,
          -1.0106416940689087,
          1.7639093399047852,
          0.13044895231723785,
          8.71526050567627,
          0.12824730575084686,
          0.880138099193573,
          -0.18406671285629272,
          -0.40050122141838074,
          -4.20491886138916,
          -4.671011447906494,
          4.457577705383301,
          2.919110059738159,
          3.8843631744384766,
          -0.8909266591072083,
          0.18754364550113678,
          -0.7513461112976074,
          0.9512640833854675,
          5.049114227294922,
          -3.4117701053619385,
          -9.039804458618164,
          7.891825199127197,
          -0.7679588794708252,
          -1.3821555376052856,
          0.21308858692646027,
          -1.5229183435440063,
          3.0098021030426025,
          -4.084017276763916,
          0.6807565689086914,
          0.3193069398403168,
          2.094050168991089,
          6.044200897216797,
          5.12267541885376,
          -2.0668482780456543,
          -1.2359470129013062,
          -6.070903301239014,
          -2.1835317611694336,
          -2.1179370880126953,
          -2.1039774417877197,
          -6.712806224822998,
          6.889766216278076,
          3.9803895950317383,
          -4.647391319274902,
          5.39888334274292,
          5.756416320800781,
          -3.015122890472412,
          -5.625020503997803,
          -0.07428298145532608,
          -2.6278507709503174,
          -1.5712662935256958,
          -1.3607374429702759,
          4.356224536895752,
          1.5791592597961426,
          8.299771308898926,
          2.296884775161743,
          -1.6984652280807495,
          2.3316426277160645,
          0.9573816657066345,
          -0.8522104620933533,
          -1.5162419080734253,
          4.917999267578125,
          1.7929856777191162,
          2.935816526412964,
          2.6173782348632812,
          -4.670091152191162,
          7.214559078216553,
          4.35612154006958,
          1.2060248851776123,
          1.871268391609192,
          2.67668080329895,
          3.92805552482605,
          4.121776103973389,
          1.9772769212722778,
          4.363134860992432,
          -0.3448197841644287,
          3.0346434116363525,
          2.906886577606201,
          2.3299925327301025,
          -0.018405213952064514,
          -0.41000187397003174,
          5.451235294342041,
          3.6009037494659424,
          1.2567427158355713,
          0.3111475706100464,
          -1.4186619520187378,
          5.550698757171631,
          -3.499552011489868,
          -1.1255744695663452,
          5.083410739898682,
          3.218595027923584,
          0.952585756778717,
          -2.9071271419525146,
          1.5380237102508545,
          -5.147741794586182,
          -2.268824338912964,
          -2.853372097015381,
          4.087596416473389,
          2.5654966831207275,
          2.264636278152466,
          1.3902664184570312,
          1.1570448875427246,
          0.4419967234134674,
          0.8176990151405334,
          1.4207029342651367,
          2.3513336181640625,
          2.159573793411255,
          -2.6720330715179443,
          0.40927746891975403,
          -0.5606417655944824,
          -5.467182636260986,
          -6.795696258544922,
          -0.746846616268158,
          2.0187199115753174,
          1.3568190336227417,
          0.6520329117774963,
          2.827075242996216,
          -5.270383834838867,
          1.5055841207504272,
          -2.730086326599121,
          -2.498358726501465,
          3.095684051513672,
          -2.781400203704834,
          2.0341012477874756,
          -2.4038076400756836,
          -2.8495402336120605,
          0.5209824442863464,
          1.3070749044418335,
          -0.4108951985836029,
          0.1976088285446167,
          0.8683199286460876,
          0.9715756177902222,
          2.630897045135498,
          -2.049593925476074,
          0.8668890595436096,
          -5.837760925292969,
          0.706289529800415,
          -5.258833408355713,
          -2.6866466999053955,
          -2.686645746231079,
          1.285129189491272,
          1.285154104232788,
          2.5763261318206787,
          2.5763261318206787,
          4.688377857208252,
          4.688387393951416,
          -2.274918556213379,
          -2.274918556213379,
          -0.565388560295105,
          -0.565362274646759,
          2.171677589416504,
          2.171677589416504,
          -0.8526580333709717,
          -0.8526580333709717,
          3.2236831188201904,
          3.2236831188201904,
          2.8029022216796875,
          2.8029022216796875,
          7.668651103973389,
          7.668651103973389,
          -0.006967647932469845,
          -2.1290953159332275,
          -7.15331506729126,
          -7.15331506729126,
          7.258761405944824,
          7.258761405944824,
          0.5265398621559143,
          0.5265398621559143,
          -5.561367034912109,
          -5.561313629150391,
          -1.2499445676803589,
          -1.2499445676803589,
          2.4530861377716064,
          -2.594884157180786,
          -0.8179105520248413,
          2.7799909114837646,
          6.807132244110107,
          0.2719321548938751,
          -2.229738235473633,
          2.9905567169189453,
          -2.13458514213562,
          0.2835157811641693,
          2.9184329509735107,
          -0.8828229904174805,
          0.8971534371376038,
          2.4280691146850586,
          -2.2317116260528564,
          -3.0770654678344727,
          4.43878173828125,
          0.7421911954879761,
          -3.240856647491455,
          9.582193374633789,
          0.9160415530204773,
          -3.1516523361206055,
          -2.3469552993774414,
          -3.364532709121704,
          -2.272498846054077,
          0.08218368142843246,
          0.8311365246772766,
          1.8896596431732178,
          1.918172836303711,
          5.5457844734191895,
          5.259037494659424,
          -1.2595943212509155,
          -6.285665988922119,
          -5.0033345222473145,
          -1.2640488147735596,
          0.5452753901481628,
          -6.828160285949707,
          -6.438382148742676,
          2.847245931625366,
          -4.436232566833496,
          -0.12334825098514557,
          -2.4179611206054688,
          7.586517810821533,
          -0.37764501571655273,
          -3.1776580810546875,
          2.001426935195923,
          -3.1311426162719727,
          0.19149231910705566,
          -2.9006800651550293,
          1.3138138055801392,
          2.89072847366333,
          3.81335711479187,
          4.316466808319092,
          3.969644784927368,
          1.7239863872528076,
          -5.619452953338623,
          -3.0760385990142822,
          2.5331623554229736,
          1.8467931747436523,
          -2.4394116401672363,
          4.96597957611084,
          -4.7753400802612305,
          1.9578500986099243,
          -2.297210454940796,
          2.784602165222168,
          2.5354318618774414,
          -5.212285041809082,
          0.8282005786895752,
          1.5663988590240479,
          -3.243391275405884,
          -0.35595911741256714,
          -3.0192229747772217,
          -3.5606062412261963,
          -3.0037572383880615,
          2.789769172668457,
          1.8953018188476562,
          0.9746003746986389,
          -7.042673110961914,
          -2.5972650051116943,
          -2.1737101078033447,
          3.9058690071105957,
          0.4273492693901062,
          0.5520874857902527,
          0.5202825665473938,
          3.732628107070923,
          1.216946005821228,
          3.905475378036499,
          2.0184032917022705,
          -3.183011293411255,
          3.1865084171295166,
          -3.474557876586914,
          2.120441198348999,
          1.8677732944488525,
          6.019869327545166,
          0.18863196671009064,
          1.9748125076293945,
          5.565562725067139,
          4.082766532897949,
          0.2931818664073944,
          -2.7703161239624023,
          2.8155593872070312,
          5.272012233734131,
          1.5356500148773193,
          -0.9076975584030151,
          2.0938642024993896,
          -3.9944021701812744,
          6.2024946212768555,
          -2.470611333847046,
          -3.1098685264587402,
          1.6168248653411865,
          -3.488912582397461,
          -2.4122064113616943,
          -3.1099350452423096,
          4.79259729385376,
          3.0888679027557373,
          0.15654611587524414,
          9.352436065673828,
          2.6821744441986084,
          -3.15175724029541,
          -2.4711151123046875,
          1.7065376043319702,
          -0.8546671867370605,
          0.04852979630231857,
          0.5921149253845215,
          -5.149799823760986,
          -1.5166015625,
          -2.717153787612915,
          -1.977108359336853,
          -4.275208473205566,
          1.9646955728530884,
          -5.643754959106445,
          -2.6650755405426025,
          -3.0554392337799072,
          3.9032485485076904,
          1.9562783241271973,
          -4.928313732147217,
          0.3433789908885956,
          1.1570593118667603,
          -0.682413637638092,
          1.6384280920028687,
          1.1063587665557861,
          2.6192328929901123,
          0.2788143455982208,
          3.475052833557129,
          -5.594559192657471,
          -1.5507742166519165,
          0.8961730003356934,
          4.744068145751953,
          3.047189474105835,
          -0.34653204679489136,
          2.3490681648254395,
          3.218451499938965,
          -3.832886219024658,
          2.3782169818878174,
          4.713615417480469,
          2.6524651050567627,
          -2.4712605476379395,
          -2.4280295372009277,
          -4.547776222229004,
          -2.4422688484191895,
          -0.2848847210407257,
          5.565210819244385,
          -2.723337173461914,
          3.564169406890869,
          -0.3564472794532776,
          5.833324909210205,
          3.9198224544525146,
          -6.396061420440674,
          4.2667717933654785,
          -2.2370991706848145,
          2.774587392807007,
          0.7268854379653931,
          4.532552242279053,
          -1.5500998497009277,
          5.774180889129639,
          -1.2788715362548828,
          -6.670907974243164,
          2.6829376220703125,
          -1.0259008407592773,
          0.5809200406074524,
          -5.586709976196289,
          4.156822681427002,
          2.9746956825256348,
          4.416392803192139,
          -4.952886581420898,
          0.00372491916641593,
          0.04593043029308319,
          0.3482755720615387,
          -6.13778829574585,
          -6.503663063049316,
          1.06036376953125,
          -2.9725537300109863,
          7.3517255783081055,
          -4.7322163581848145,
          2.1906025409698486,
          -5.873683929443359,
          0.8491367697715759,
          6.85459566116333,
          0.5442060828208923,
          -3.072650194168091,
          0.5037893056869507,
          0.8145993947982788,
          -5.708426475524902,
          2.7514352798461914,
          2.9128341674804688,
          1.63055419921875,
          1.1865960359573364,
          -3.367990732192993,
          -2.1973876953125,
          -0.026918279007077217,
          -3.0073366165161133,
          3.876760482788086,
          -5.442028045654297,
          2.0900216102600098,
          1.3186067342758179,
          3.2252793312072754,
          -0.32391366362571716,
          -1.511949896812439,
          -0.6675147414207458,
          -7.102513790130615,
          3.5016095638275146,
          7.223977088928223,
          2.6041815280914307,
          3.512681484222412,
          -7.572926044464111,
          -4.843663692474365,
          4.002521514892578,
          5.800339221954346,
          0.9997870326042175,
          5.356679916381836,
          -1.4770557880401611,
          -2.607539415359497,
          -0.9072059988975525,
          -8.14231014251709,
          -2.0609209537506104,
          3.3791568279266357,
          0.6315394639968872,
          2.3263611793518066,
          -0.9562150239944458,
          1.044632077217102,
          3.4932303428649902,
          0.7598540186882019,
          -0.4795309603214264,
          2.166438341140747,
          -3.7615814208984375,
          -0.35850954055786133,
          4.027750015258789,
          -3.1966629028320312,
          6.767491817474365,
          6.1748175621032715,
          -3.2402501106262207,
          1.8605141639709473,
          -0.23284021019935608,
          -3.080930233001709,
          -0.05090704187750816,
          -1.2733216285705566,
          3.020143985748291,
          -1.190185546875,
          -5.809018611907959,
          -2.258040189743042,
          3.4118940830230713,
          -1.2448370456695557,
          0.26713940501213074,
          -2.192336320877075,
          1.3990250825881958,
          -6.111449718475342,
          -1.47197425365448,
          0.6092656850814819,
          -7.72549295425415,
          -0.12379689514636993,
          0.27395138144493103,
          -3.325526714324951,
          2.648437738418579,
          5.618717193603516,
          -0.06962525844573975,
          -0.7230697274208069,
          -3.961728572845459,
          -2.230288028717041,
          1.3803480863571167,
          7.191122055053711,
          2.6154239177703857,
          5.752739429473877,
          5.878082752227783,
          4.236801624298096,
          -1.3698008060455322,
          4.424377918243408,
          1.4836382865905762,
          3.966003894805908,
          0.45673978328704834,
          -4.892372131347656,
          -6.0013933181762695,
          -4.682647228240967,
          3.5654258728027344,
          -1.5183895826339722,
          -5.855151176452637,
          -0.7013302445411682,
          -4.438520431518555,
          1.8156849145889282,
          7.812333583831787,
          -1.1389999389648438,
          -3.254561185836792,
          1.435173749923706,
          -5.530542850494385,
          -1.4382721185684204,
          -1.0103647708892822,
          3.003891706466675,
          -3.3212084770202637,
          4.815073013305664,
          7.846604347229004,
          3.2393834590911865,
          1.5595927238464355,
          8.080130577087402,
          0.5416241884231567,
          6.233193397521973,
          -0.6027884483337402,
          -1.5896435976028442,
          0.4957721531391144,
          2.9055192470550537,
          -0.22712615132331848,
          4.452539443969727,
          -0.973812997341156,
          5.2224016189575195,
          2.7574729919433594,
          -4.789912223815918,
          1.7920236587524414,
          0.5512727499008179,
          -4.905947208404541,
          -1.0462816953659058,
          -6.100121021270752,
          1.276222825050354,
          -3.5373005867004395,
          -0.40650394558906555,
          0.3735138475894928,
          3.7548255920410156,
          4.605790138244629,
          -0.6523125767707825,
          0.3418879210948944,
          -3.060283660888672,
          3.229363441467285,
          -2.1824562549591064,
          0.6246405839920044,
          3.243645191192627,
          -4.013198375701904,
          2.334576368331909,
          -3.039496421813965,
          5.780010223388672,
          -2.9916019439697266,
          -6.827357769012451,
          2.7585713863372803,
          3.454636573791504,
          5.028783798217773,
          2.737844467163086,
          2.9696249961853027,
          -0.6237567663192749,
          2.4559996128082275,
          4.813529968261719,
          2.464895725250244,
          5.424107551574707,
          3.5016210079193115,
          2.050449848175049,
          -1.1333509683609009,
          -0.05675484240055084,
          2.092764377593994,
          0.7311356067657471,
          -1.1016422510147095,
          5.862002849578857,
          -4.868874549865723,
          5.945861339569092,
          0.3540119230747223,
          6.365788459777832,
          1.6639058589935303,
          -2.798659324645996,
          2.5439438819885254,
          -0.04809398949146271,
          1.4611178636550903,
          -2.9034972190856934,
          -2.7528934478759766,
          3.502408742904663,
          0.9072802066802979,
          2.969266891479492,
          -1.262203574180603,
          9.294316291809082,
          0.1958180069923401,
          -3.5720479488372803,
          -2.813462257385254,
          4.646657943725586,
          -3.473602056503296,
          -2.1135480403900146,
          -6.3372883796691895,
          3.791348695755005,
          0.33779820799827576,
          1.808401107788086,
          3.171743392944336
         ]
        },
        {
         "hovertemplate": "label=mgood<br>tsne_3D_0=%{x}<br>tsne_3D_1=%{y}<br>tsne_3D_2=%{z}<extra></extra>",
         "legendgroup": "mgood",
         "marker": {
          "color": "#EF553B",
          "opacity": 0.5,
          "size": 4,
          "symbol": "circle"
         },
         "mode": "markers",
         "name": "mgood",
         "scene": "scene",
         "showlegend": true,
         "type": "scatter3d",
         "x": [
          -4.002982139587402,
          0.7263964414596558,
          3.299558401107788,
          8.830862045288086,
          8.684435844421387,
          -4.10696268081665,
          -3.1987667083740234,
          1.828538179397583,
          -4.423017501831055,
          -9.94069766998291,
          -8.098688125610352,
          12.827194213867188,
          2.425081729888916,
          -3.215449810028076,
          13.245699882507324,
          1.6014978885650635,
          -0.4444299638271332,
          8.73512077331543,
          0.7438945770263672,
          8.138129234313965,
          3.3609068393707275,
          1.9710279703140259,
          -3.9151360988616943,
          1.5230746269226074,
          -4.813777446746826,
          0.5280171036720276,
          -5.724865913391113,
          -5.107056617736816,
          11.088651657104492,
          -0.22539584338665009,
          -3.6506149768829346,
          -5.6940202713012695,
          -4.029764175415039,
          1.9355182647705078,
          -3.0202996730804443,
          -10.409125328063965,
          -7.408083438873291,
          0.26017674803733826,
          -2.8419013023376465,
          7.699542999267578,
          5.689552307128906,
          0.8744823336601257,
          -0.8862925171852112,
          -5.200551509857178,
          0.6342669725418091,
          -7.409240245819092,
          -4.557878494262695,
          -9.082212448120117,
          1.9018051624298096,
          -3.6441426277160645,
          12.183692932128906,
          -1.6872844696044922,
          2.657241106033325,
          3.31343674659729,
          9.853694915771484,
          0.4537290632724762,
          -0.8694256544113159,
          -3.963291645050049,
          -2.149367094039917,
          -7.720935821533203,
          5.005387306213379,
          -1.1179207563400269,
          -11.482645988464355,
          -7.096190929412842,
          -0.015207909978926182,
          -12.254594802856445,
          -6.541326999664307,
          4.099684715270996,
          -3.2660741806030273,
          -3.2660741806030273,
          0.7313142418861389,
          -3.0834224224090576,
          1.3223906755447388,
          6.914885997772217,
          -8.922300338745117,
          1.0720175504684448,
          10.17814826965332,
          -7.6922478675842285,
          -0.9114934206008911,
          7.490909099578857,
          -15.00976848602295,
          -1.6016275882720947,
          -7.66094970703125,
          -1.1765583753585815,
          -5.793277263641357,
          -4.533044338226318,
          -4.337409973144531,
          2.8482630252838135,
          -7.148646831512451,
          2.3916285037994385,
          2.4995462894439697,
          -4.235935211181641,
          1.4991711378097534,
          2.473266839981079,
          2.4402122497558594,
          5.071617126464844,
          -2.195930242538452,
          6.624074935913086,
          6.624066352844238,
          -5.3595967292785645,
          -5.359635353088379,
          6.458620548248291,
          0.4297736883163452,
          3.8736491203308105,
          5.051571369171143
         ],
         "y": [
          9.550052642822266,
          1.9977672100067139,
          6.682921409606934,
          1.0626012086868286,
          -2.7718114852905273,
          -9.065128326416016,
          -1.0015923976898193,
          -6.767605781555176,
          -11.839714050292969,
          1.4276553392410278,
          12.481074333190918,
          -3.2278411388397217,
          -9.841468811035156,
          6.043976783752441,
          -4.339096546173096,
          -7.2256669998168945,
          1.4195866584777832,
          -3.110365390777588,
          -0.9006397724151611,
          -4.977499961853027,
          -11.153816223144531,
          -6.896164894104004,
          -2.6418704986572266,
          8.687196731567383,
          -13.564594268798828,
          7.559767723083496,
          4.837136268615723,
          -14.710415840148926,
          0.2070002257823944,
          -12.292306900024414,
          3.217634677886963,
          7.960456371307373,
          -0.1527688354253769,
          -4.957157135009766,
          -10.105635643005371,
          7.917311191558838,
          -8.600027084350586,
          11.957986831665039,
          -4.434007167816162,
          -9.14754581451416,
          8.66369915008545,
          8.725478172302246,
          -4.262885570526123,
          -9.553330421447754,
          -13.300464630126953,
          -5.225273609161377,
          6.75514554977417,
          11.716076850891113,
          -6.888434410095215,
          -3.8190455436706543,
          -1.9417892694473267,
          -7.230851650238037,
          9.50279426574707,
          -8.794733047485352,
          -4.531844615936279,
          6.019309997558594,
          -15.267367362976074,
          -5.963634014129639,
          -0.48432400822639465,
          -2.3839521408081055,
          -6.161710262298584,
          -6.7356672286987305,
          -4.634162902832031,
          -3.2793562412261963,
          -11.230620384216309,
          -8.587080955505371,
          4.527560710906982,
          -8.576208114624023,
          8.228212356567383,
          8.228212356567383,
          12.069855690002441,
          -8.90141773223877,
          -9.17327880859375,
          7.894937992095947,
          -6.440197944641113,
          -12.28538990020752,
          -2.3102355003356934,
          -3.9438600540161133,
          -15.323391914367676,
          -4.337496757507324,
          5.769199371337891,
          -3.016658067703247,
          -1.9035536050796509,
          -6.87595272064209,
          -8.136458396911621,
          -5.471194744110107,
          -13.548999786376953,
          -4.9386210441589355,
          1.6834529638290405,
          10.949512481689453,
          -10.701568603515625,
          -4.691219806671143,
          -9.243185997009277,
          7.456234455108643,
          -11.410778999328613,
          7.805573463439941,
          -1.1642694473266602,
          4.128094673156738,
          4.128113746643066,
          9.064644813537598,
          9.064604759216309,
          -9.944230079650879,
          -13.007617950439453,
          3.7140986919403076,
          -9.274545669555664
         ],
         "z": [
          1.1210107803344727,
          -3.4126574993133545,
          0.6093384623527527,
          0.011036628857254982,
          -2.008805513381958,
          -2.3597464561462402,
          -6.270959377288818,
          -6.279967784881592,
          -5.887951374053955,
          2.329261541366577,
          -2.0811221599578857,
          3.5745348930358887,
          -5.111319065093994,
          1.039981722831726,
          3.7960309982299805,
          1.1891249418258667,
          -0.518592894077301,
          2.4677023887634277,
          0.2891328036785126,
          1.631105899810791,
          -4.262874603271484,
          -6.088510990142822,
          1.386348843574524,
          4.848898410797119,
          -0.9992532730102539,
          3.3274052143096924,
          4.449795246124268,
          -3.300363779067993,
          -0.9764689803123474,
          -2.0608103275299072,
          0.5088012218475342,
          6.697058200836182,
          4.266883850097656,
          -4.4598307609558105,
          1.758201241493225,
          7.414966106414795,
          2.767512321472168,
          -0.1796143800020218,
          7.479280948638916,
          0.1802327185869217,
          -1.5228389501571655,
          1.0547878742218018,
          -7.258124828338623,
          -2.3171274662017822,
          -3.724992036819458,
          4.662051200866699,
          -3.776618242263794,
          -1.1209938526153564,
          -5.968804836273193,
          8.079029083251953,
          1.7906328439712524,
          5.357797145843506,
          2.890291690826416,
          -2.5076889991760254,
          1.5444667339324951,
          4.959161281585693,
          -3.5205867290496826,
          2.9512336254119873,
          -4.282971382141113,
          -2.766011953353882,
          -0.6216486096382141,
          4.637266635894775,
          0.5908645391464233,
          -0.5530317425727844,
          -4.028784275054932,
          -1.9564369916915894,
          3.48305344581604,
          -4.193788051605225,
          2.272303342819214,
          2.272303342819214,
          3.0856709480285645,
          -2.182746648788452,
          -2.5871429443359375,
          -1.9753553867340088,
          0.27163374423980713,
          -1.5086078643798828,
          -0.7876054644584656,
          -3.180604934692383,
          -3.4151976108551025,
          -3.9905176162719727,
          -2.9200994968414307,
          2.35559344291687,
          -3.8259010314941406,
          6.586596965789795,
          -5.274060249328613,
          -2.5972957611083984,
          -1.9431403875350952,
          -7.367617607116699,
          -1.4078688621520996,
          2.387803316116333,
          -5.869941234588623,
          -2.002831220626831,
          -5.494695663452148,
          3.0902304649353027,
          -1.5446697473526,
          0.4859391748905182,
          -5.767424583435059,
          -2.55446720123291,
          -2.5544769763946533,
          -1.0971930027008057,
          -1.0972018241882324,
          0.8940048813819885,
          -3.2510464191436768,
          1.7188867330551147,
          -3.0941731929779053
         ]
        },
        {
         "hovertemplate": "label=mbad<br>tsne_3D_0=%{x}<br>tsne_3D_1=%{y}<br>tsne_3D_2=%{z}<extra></extra>",
         "legendgroup": "mbad",
         "marker": {
          "color": "#00cc96",
          "opacity": 0.5,
          "size": 4,
          "symbol": "circle"
         },
         "mode": "markers",
         "name": "mbad",
         "scene": "scene",
         "showlegend": true,
         "type": "scatter3d",
         "x": [
          6.666708946228027,
          2.8724095821380615,
          -6.42996072769165,
          -3.429250478744507,
          6.969413757324219,
          -1.7187561988830566,
          11.16817855834961,
          2.3271379470825195,
          9.24001693725586,
          4.396924018859863,
          0.2591715455055237,
          10.678400039672852,
          11.005243301391602,
          -3.4788618087768555,
          1.6669467687606812,
          11.846498489379883,
          -11.864020347595215,
          10.33364486694336,
          6.689676761627197,
          1.3382594585418701,
          -0.44981521368026733,
          5.446779727935791,
          7.830776691436768,
          1.8435006141662598,
          -5.040796756744385,
          3.8067548274993896,
          5.82996129989624,
          4.645223617553711,
          3.8438522815704346,
          4.891928195953369,
          -9.926459312438965,
          12.004154205322266,
          -14.237956047058105,
          9.811163902282715,
          7.2552595138549805,
          11.453476905822754,
          8.573232650756836,
          5.335268020629883,
          7.651793479919434,
          7.670924186706543,
          -0.6221430897712708,
          12.097904205322266,
          11.353376388549805,
          7.7729716300964355,
          6.806309700012207,
          -5.8509674072265625,
          10.141035079956055,
          8.39425277709961,
          4.593482494354248,
          6.459941864013672,
          4.038581371307373,
          7.756641864776611,
          10.96922492980957,
          0.22951029241085052,
          11.098163604736328,
          11.598774909973145,
          5.193309307098389,
          6.303816795349121,
          0.6887510418891907,
          -8.991490364074707,
          8.210257530212402,
          9.052550315856934,
          5.684050559997559,
          11.727545738220215,
          6.855585098266602,
          6.532934188842773,
          9.041707992553711,
          11.407384872436523,
          11.849531173706055,
          13.525436401367188,
          10.365019798278809,
          11.75987434387207,
          6.058573246002197,
          2.8641738891601562,
          7.030369281768799,
          0.03185544162988663,
          10.904191017150879,
          6.497541427612305,
          8.49575424194336,
          7.006985187530518,
          7.92566442489624,
          6.120682239532471,
          -0.9690557718276978,
          7.8831682205200195,
          7.796111583709717,
          4.930320739746094,
          5.227410316467285,
          10.77881908416748,
          2.3496086597442627,
          8.190789222717285,
          5.164717674255371,
          4.248398780822754,
          13.660025596618652,
          8.527239799499512,
          8.923690795898438,
          0.8455180525779724,
          13.139857292175293,
          11.801206588745117,
          2.236307144165039,
          12.785938262939453,
          8.521522521972656,
          9.14771556854248,
          8.567142486572266,
          10.712600708007812,
          11.789450645446777,
          11.331282615661621,
          11.428945541381836,
          0.09030219912528992,
          12.933794975280762,
          2.820976972579956,
          6.8768157958984375,
          6.334644794464111,
          6.334644794464111,
          12.071207046508789,
          10.266568183898926,
          13.229177474975586,
          5.711915016174316,
          9.50130558013916
         ],
         "y": [
          0.22436349093914032,
          -4.850272178649902,
          9.414402961730957,
          -8.349382400512695,
          -0.6450008153915405,
          -3.4140331745147705,
          -3.6518540382385254,
          -13.790499687194824,
          -5.306297302246094,
          1.7978371381759644,
          -16.046499252319336,
          -6.627748012542725,
          0.3086174726486206,
          -7.942026615142822,
          -6.982213020324707,
          -5.155378341674805,
          5.291304588317871,
          -5.362318992614746,
          -5.786751747131348,
          3.536207675933838,
          -13.776205062866211,
          0.5598297715187073,
          -2.8927292823791504,
          0.9354612231254578,
          -11.984564781188965,
          -3.281602621078491,
          -3.778826951980591,
          2.498115062713623,
          -12.41277027130127,
          -3.352614641189575,
          -9.19080924987793,
          -2.3756096363067627,
          -6.258059978485107,
          -5.894144535064697,
          1.9267140626907349,
          -4.379825115203857,
          -2.9410600662231445,
          3.06960391998291,
          -1.9993057250976562,
          -5.106592178344727,
          -5.052452564239502,
          -7.482558250427246,
          -4.472667217254639,
          -6.107789516448975,
          -11.11595630645752,
          -13.21776008605957,
          -5.555493354797363,
          -0.15543945133686066,
          -9.50088882446289,
          6.709544658660889,
          -2.9970293045043945,
          -5.159836292266846,
          -3.8033883571624756,
          -16.08430290222168,
          -2.2311322689056396,
          -4.551941394805908,
          -9.632984161376953,
          -5.280221939086914,
          -15.852253913879395,
          -4.740048885345459,
          -6.873892307281494,
          -3.0465352535247803,
          11.489245414733887,
          -5.840751647949219,
          -9.164118766784668,
          6.082210063934326,
          -3.2076187133789062,
          -1.3427213430404663,
          -7.95051908493042,
          -4.601109027862549,
          -7.5023932456970215,
          -5.7302656173706055,
          -4.259335041046143,
          -0.741939127445221,
          -5.663118839263916,
          0.11706111580133438,
          -7.382709980010986,
          -8.168618202209473,
          0.04042194411158562,
          0.3842379152774811,
          -6.942638397216797,
          0.630282461643219,
          -15.904961585998535,
          -5.0872015953063965,
          -1.8344104290008545,
          -5.866662502288818,
          -0.3010084927082062,
          -3.3551688194274902,
          -6.453258514404297,
          1.8680198192596436,
          0.4675222933292389,
          -3.7574148178100586,
          -4.48128080368042,
          0.4369165301322937,
          -1.2035735845565796,
          -13.062474250793457,
          -1.8878897428512573,
          -3.114675283432007,
          -6.840335845947266,
          -1.7426034212112427,
          -1.6665372848510742,
          -1.9686098098754883,
          -7.273219585418701,
          -2.1824545860290527,
          -6.2727484703063965,
          -8.067151069641113,
          -2.721632242202759,
          -13.2644681930542,
          -3.016359806060791,
          -5.522887229919434,
          0.3204277455806732,
          -4.403463840484619,
          -4.403463840484619,
          -8.026774406433105,
          -5.106363773345947,
          -1.6794649362564087,
          -7.65349006652832,
          -5.913273811340332
         ],
         "z": [
          -1.5887460708618164,
          -0.20208266377449036,
          1.4949638843536377,
          1.7843714952468872,
          -2.891242742538452,
          2.2293171882629395,
          -3.5279529094696045,
          -5.301687240600586,
          -2.1560535430908203,
          0.3857707679271698,
          -5.027611255645752,
          -5.06041955947876,
          -1.2786169052124023,
          2.728778839111328,
          -7.906325817108154,
          -1.1272982358932495,
          -2.795353651046753,
          -3.276216506958008,
          -5.358883380889893,
          1.9102249145507812,
          -0.7197557091712952,
          0.6796740293502808,
          -3.663261890411377,
          7.3453569412231445,
          -1.6980904340744019,
          -6.575953960418701,
          -7.678635120391846,
          0.24394848942756653,
          -2.1877737045288086,
          -5.029709815979004,
          -2.8402974605560303,
          -1.1787513494491577,
          -1.1800888776779175,
          -3.609840154647827,
          -0.6768525838851929,
          1.013487696647644,
          -2.7568936347961426,
          -0.28845006227493286,
          -2.884502410888672,
          -6.602160930633545,
          7.128323078155518,
          -1.5010547637939453,
          -0.7630331516265869,
          -6.162112236022949,
          -2.1837308406829834,
          -3.287177801132202,
          -3.52176570892334,
          -3.638681173324585,
          -2.9853386878967285,
          6.1756591796875,
          -6.735517501831055,
          -6.602517127990723,
          -2.7525861263275146,
          -5.191932678222656,
          -2.6930389404296875,
          1.0968939065933228,
          -3.257253646850586,
          -5.033724784851074,
          -0.692808210849762,
          -4.790274620056152,
          -3.924889087677002,
          -1.0361638069152832,
          -0.13488657772541046,
          2.1154403686523438,
          -5.8603515625,
          6.130825519561768,
          -2.8887197971343994,
          -2.2735471725463867,
          -2.4032039642333984,
          -1.6442400217056274,
          -0.4802262783050537,
          -4.256309509277344,
          -5.20982027053833,
          -2.0601325035095215,
          -6.4230852127075195,
          -1.045408844947815,
          -1.4664865732192993,
          -4.781552791595459,
          -1.790234923362732,
          -3.7217085361480713,
          -2.8203165531158447,
          -1.9493687152862549,
          -3.6454427242279053,
          -3.382617235183716,
          -1.5289900302886963,
          0.35843127965927124,
          -3.003749132156372,
          -4.032297611236572,
          -7.9814982414245605,
          -0.7622270584106445,
          -1.167551040649414,
          -5.957995414733887,
          -0.25258249044418335,
          0.35679855942726135,
          -4.337772846221924,
          -3.391101121902466,
          0.0384637676179409,
          -2.3474936485290527,
          3.381491184234619,
          4.092212200164795,
          -1.649483561515808,
          -3.695641279220581,
          3.1237478256225586,
          -1.6842998266220093,
          -1.4461121559143066,
          -2.6349244117736816,
          -4.848113059997559,
          -7.0248541831970215,
          0.6698106527328491,
          -4.5134453773498535,
          -1.3808741569519043,
          -4.833250999450684,
          -4.833250999450684,
          -2.4742448329925537,
          -4.761154651641846,
          0.5236619114875793,
          -5.518901348114014,
          -4.447808265686035
         ]
        },
        {
         "hovertemplate": "label=bad<br>tsne_3D_0=%{x}<br>tsne_3D_1=%{y}<br>tsne_3D_2=%{z}<extra></extra>",
         "legendgroup": "bad",
         "marker": {
          "color": "#ab63fa",
          "opacity": 0.5,
          "size": 4,
          "symbol": "circle"
         },
         "mode": "markers",
         "name": "bad",
         "scene": "scene",
         "showlegend": true,
         "type": "scatter3d",
         "x": [
          4.3158111572265625,
          5.170888900756836,
          0.8050926923751831,
          10.817991256713867,
          4.8869194984436035,
          11.924447059631348,
          -10.831294059753418,
          3.7426047325134277,
          10.33759880065918,
          1.109917163848877,
          12.236225128173828,
          8.950109481811523,
          9.01600456237793,
          -5.519440650939941,
          10.459203720092773,
          6.579708576202393,
          8.092440605163574,
          2.3203601837158203,
          12.910934448242188,
          11.204338073730469,
          14.118467330932617,
          11.118108749389648,
          8.752269744873047,
          7.5523762702941895,
          11.23558235168457,
          11.348899841308594,
          5.236711502075195,
          -9.646578788757324,
          8.403559684753418,
          11.787179946899414,
          -0.10899926722049713,
          7.7464375495910645,
          7.893886566162109,
          -6.858362674713135,
          9.393096923828125,
          -0.1618465632200241,
          13.500778198242188,
          9.536468505859375,
          14.024538040161133,
          10.914813041687012,
          11.049549102783203,
          5.724407196044922,
          11.435251235961914,
          12.325953483581543,
          13.830976486206055,
          3.607754945755005,
          -5.036990165710449,
          -8.035244941711426,
          11.036116600036621,
          12.582276344299316,
          3.8387718200683594,
          3.2260568141937256,
          9.198704719543457,
          11.546767234802246,
          13.03954029083252,
          6.778778076171875,
          1.1367064714431763,
          10.223843574523926,
          8.579911231994629,
          10.271602630615234,
          9.716526985168457,
          -4.588322639465332,
          9.446928977966309,
          9.54695987701416,
          -0.6560845375061035,
          10.70998764038086,
          7.509000778198242,
          2.418426752090454,
          12.68171215057373,
          1.4890697002410889,
          12.248409271240234,
          12.671173095703125,
          9.00174617767334,
          13.934671401977539,
          -0.922050952911377,
          10.64396858215332,
          7.36121129989624,
          11.61789608001709,
          6.1623945236206055,
          11.9849853515625,
          8.31520938873291,
          8.380825996398926,
          8.797061920166016,
          6.71234130859375
         ],
         "y": [
          -4.235674858093262,
          0.8018370270729065,
          -7.338715076446533,
          -5.581912994384766,
          -4.973573684692383,
          -7.054893493652344,
          -8.053634643554688,
          2.170125722885132,
          -4.491137504577637,
          -12.899789810180664,
          0.22014251351356506,
          -1.7221152782440186,
          -0.8670424818992615,
          -11.954224586486816,
          -2.951871633529663,
          -4.6119771003723145,
          3.904048442840576,
          -6.708808898925781,
          -1.811618685722351,
          1.9476643800735474,
          -3.4621188640594482,
          1.9703834056854248,
          -0.8195342421531677,
          -5.2564592361450195,
          -1.8085124492645264,
          -0.5853404402732849,
          -0.29726555943489075,
          12.648073196411133,
          -8.848983764648438,
          2.1753532886505127,
          2.7123911380767822,
          -6.401125907897949,
          -1.0053353309631348,
          5.5137410163879395,
          -3.775878667831421,
          2.9441184997558594,
          -4.3297224044799805,
          -5.198780059814453,
          -3.4758970737457275,
          -4.595257759094238,
          -6.296316146850586,
          -3.8558876514434814,
          -2.4279017448425293,
          -2.2542011737823486,
          -4.114612579345703,
          -2.2194104194641113,
          -6.287826061248779,
          -0.4573640525341034,
          -7.18283224105835,
          -3.2998063564300537,
          -11.488247871398926,
          -0.35209012031555176,
          -5.665480613708496,
          -2.302752733230591,
          -4.393796443939209,
          -6.070030212402344,
          1.934213638305664,
          -1.8288732767105103,
          -1.1414272785186768,
          -1.7537685632705688,
          0.6332889199256897,
          -2.0104644298553467,
          -1.541314721107483,
          -5.797821521759033,
          -16.288990020751953,
          -2.124742031097412,
          -5.1462225914001465,
          -2.169417142868042,
          -0.6052601337432861,
          0.8896381855010986,
          -0.31960198283195496,
          -3.1666669845581055,
          -4.848546028137207,
          -1.858034372329712,
          -4.379039764404297,
          0.8339478969573975,
          -10.260063171386719,
          -6.007577419281006,
          -8.071609497070312,
          0.6894328594207764,
          2.2443580627441406,
          0.41259765625,
          -7.376502513885498,
          0.38338521122932434
         ],
         "z": [
          1.1746747493743896,
          0.4034825265407562,
          -6.319676876068115,
          -3.9329888820648193,
          -7.692259788513184,
          -0.8420273065567017,
          1.8713841438293457,
          -0.3567047119140625,
          -4.622544765472412,
          -3.078575372695923,
          0.4716063141822815,
          -5.1664910316467285,
          -3.9363510608673096,
          -1.2441096305847168,
          -1.8375391960144043,
          -4.991082668304443,
          1.1923986673355103,
          3.601557731628418,
          -4.973155975341797,
          -1.9914538860321045,
          1.0544512271881104,
          -2.273982286453247,
          -3.8033595085144043,
          -3.8009653091430664,
          1.5976001024246216,
          -1.052154541015625,
          -3.0048398971557617,
          2.3187215328216553,
          -1.5409036874771118,
          -1.4894168376922607,
          0.9132845401763916,
          -4.05923318862915,
          3.3198702335357666,
          -0.006967647932469845,
          -4.149110317230225,
          0.9717612266540527,
          -0.3575166165828705,
          1.3092520236968994,
          1.1385475397109985,
          -2.463336944580078,
          -2.5175564289093018,
          -7.661313056945801,
          -1.395978331565857,
          -4.896112442016602,
          1.036725401878357,
          -6.1930694580078125,
          -1.4694788455963135,
          -5.836524486541748,
          -1.2224737405776978,
          -2.493596076965332,
          -4.3538618087768555,
          6.301391124725342,
          -3.9145989418029785,
          -3.369189739227295,
          0.050353020429611206,
          -3.1124744415283203,
          1.523333191871643,
          -2.10742449760437,
          -0.6981939077377319,
          -1.3840069770812988,
          -3.7466795444488525,
          0.7037439942359924,
          -5.4167938232421875,
          -5.522663593292236,
          -3.0867416858673096,
          -1.592008352279663,
          -1.0303583145141602,
          -5.2672929763793945,
          -1.2868940830230713,
          4.173295974731445,
          -1.6281096935272217,
          0.18709930777549744,
          -4.461187362670898,
          0.6095507144927979,
          7.79551887512207,
          -0.46936193108558655,
          -0.5506933927536011,
          -1.6499836444854736,
          -5.0633225440979,
          -0.30494654178619385,
          -0.9453330039978027,
          0.287957102060318,
          -4.47638463973999,
          -3.6759889125823975
         ]
        }
       ],
       "layout": {
        "legend": {
         "title": {
          "text": "label"
         },
         "tracegroupgap": 0
        },
        "scene": {
         "camera": {
          "eye": {
           "x": 0.9,
           "y": 0.9,
           "z": 0.9
          }
         },
         "domain": {
          "x": [
           0,
           1
          ],
          "y": [
           0,
           1
          ]
         },
         "xaxis": {
          "title": {
           "text": "tsne_3D_0"
          }
         },
         "yaxis": {
          "title": {
           "text": "tsne_3D_1"
          }
         },
         "zaxis": {
          "title": {
           "text": "tsne_3D_2"
          }
         }
        },
        "template": {
         "data": {
          "bar": [
           {
            "error_x": {
             "color": "#2a3f5f"
            },
            "error_y": {
             "color": "#2a3f5f"
            },
            "marker": {
             "line": {
              "color": "#E5ECF6",
              "width": 0.5
             },
             "pattern": {
              "fillmode": "overlay",
              "size": 10,
              "solidity": 0.2
             }
            },
            "type": "bar"
           }
          ],
          "barpolar": [
           {
            "marker": {
             "line": {
              "color": "#E5ECF6",
              "width": 0.5
             },
             "pattern": {
              "fillmode": "overlay",
              "size": 10,
              "solidity": 0.2
             }
            },
            "type": "barpolar"
           }
          ],
          "carpet": [
           {
            "aaxis": {
             "endlinecolor": "#2a3f5f",
             "gridcolor": "white",
             "linecolor": "white",
             "minorgridcolor": "white",
             "startlinecolor": "#2a3f5f"
            },
            "baxis": {
             "endlinecolor": "#2a3f5f",
             "gridcolor": "white",
             "linecolor": "white",
             "minorgridcolor": "white",
             "startlinecolor": "#2a3f5f"
            },
            "type": "carpet"
           }
          ],
          "choropleth": [
           {
            "colorbar": {
             "outlinewidth": 0,
             "ticks": ""
            },
            "type": "choropleth"
           }
          ],
          "contour": [
           {
            "colorbar": {
             "outlinewidth": 0,
             "ticks": ""
            },
            "colorscale": [
             [
              0,
              "#0d0887"
             ],
             [
              0.1111111111111111,
              "#46039f"
             ],
             [
              0.2222222222222222,
              "#7201a8"
             ],
             [
              0.3333333333333333,
              "#9c179e"
             ],
             [
              0.4444444444444444,
              "#bd3786"
             ],
             [
              0.5555555555555556,
              "#d8576b"
             ],
             [
              0.6666666666666666,
              "#ed7953"
             ],
             [
              0.7777777777777778,
              "#fb9f3a"
             ],
             [
              0.8888888888888888,
              "#fdca26"
             ],
             [
              1,
              "#f0f921"
             ]
            ],
            "type": "contour"
           }
          ],
          "contourcarpet": [
           {
            "colorbar": {
             "outlinewidth": 0,
             "ticks": ""
            },
            "type": "contourcarpet"
           }
          ],
          "heatmap": [
           {
            "colorbar": {
             "outlinewidth": 0,
             "ticks": ""
            },
            "colorscale": [
             [
              0,
              "#0d0887"
             ],
             [
              0.1111111111111111,
              "#46039f"
             ],
             [
              0.2222222222222222,
              "#7201a8"
             ],
             [
              0.3333333333333333,
              "#9c179e"
             ],
             [
              0.4444444444444444,
              "#bd3786"
             ],
             [
              0.5555555555555556,
              "#d8576b"
             ],
             [
              0.6666666666666666,
              "#ed7953"
             ],
             [
              0.7777777777777778,
              "#fb9f3a"
             ],
             [
              0.8888888888888888,
              "#fdca26"
             ],
             [
              1,
              "#f0f921"
             ]
            ],
            "type": "heatmap"
           }
          ],
          "heatmapgl": [
           {
            "colorbar": {
             "outlinewidth": 0,
             "ticks": ""
            },
            "colorscale": [
             [
              0,
              "#0d0887"
             ],
             [
              0.1111111111111111,
              "#46039f"
             ],
             [
              0.2222222222222222,
              "#7201a8"
             ],
             [
              0.3333333333333333,
              "#9c179e"
             ],
             [
              0.4444444444444444,
              "#bd3786"
             ],
             [
              0.5555555555555556,
              "#d8576b"
             ],
             [
              0.6666666666666666,
              "#ed7953"
             ],
             [
              0.7777777777777778,
              "#fb9f3a"
             ],
             [
              0.8888888888888888,
              "#fdca26"
             ],
             [
              1,
              "#f0f921"
             ]
            ],
            "type": "heatmapgl"
           }
          ],
          "histogram": [
           {
            "marker": {
             "pattern": {
              "fillmode": "overlay",
              "size": 10,
              "solidity": 0.2
             }
            },
            "type": "histogram"
           }
          ],
          "histogram2d": [
           {
            "colorbar": {
             "outlinewidth": 0,
             "ticks": ""
            },
            "colorscale": [
             [
              0,
              "#0d0887"
             ],
             [
              0.1111111111111111,
              "#46039f"
             ],
             [
              0.2222222222222222,
              "#7201a8"
             ],
             [
              0.3333333333333333,
              "#9c179e"
             ],
             [
              0.4444444444444444,
              "#bd3786"
             ],
             [
              0.5555555555555556,
              "#d8576b"
             ],
             [
              0.6666666666666666,
              "#ed7953"
             ],
             [
              0.7777777777777778,
              "#fb9f3a"
             ],
             [
              0.8888888888888888,
              "#fdca26"
             ],
             [
              1,
              "#f0f921"
             ]
            ],
            "type": "histogram2d"
           }
          ],
          "histogram2dcontour": [
           {
            "colorbar": {
             "outlinewidth": 0,
             "ticks": ""
            },
            "colorscale": [
             [
              0,
              "#0d0887"
             ],
             [
              0.1111111111111111,
              "#46039f"
             ],
             [
              0.2222222222222222,
              "#7201a8"
             ],
             [
              0.3333333333333333,
              "#9c179e"
             ],
             [
              0.4444444444444444,
              "#bd3786"
             ],
             [
              0.5555555555555556,
              "#d8576b"
             ],
             [
              0.6666666666666666,
              "#ed7953"
             ],
             [
              0.7777777777777778,
              "#fb9f3a"
             ],
             [
              0.8888888888888888,
              "#fdca26"
             ],
             [
              1,
              "#f0f921"
             ]
            ],
            "type": "histogram2dcontour"
           }
          ],
          "mesh3d": [
           {
            "colorbar": {
             "outlinewidth": 0,
             "ticks": ""
            },
            "type": "mesh3d"
           }
          ],
          "parcoords": [
           {
            "line": {
             "colorbar": {
              "outlinewidth": 0,
              "ticks": ""
             }
            },
            "type": "parcoords"
           }
          ],
          "pie": [
           {
            "automargin": true,
            "type": "pie"
           }
          ],
          "scatter": [
           {
            "fillpattern": {
             "fillmode": "overlay",
             "size": 10,
             "solidity": 0.2
            },
            "type": "scatter"
           }
          ],
          "scatter3d": [
           {
            "line": {
             "colorbar": {
              "outlinewidth": 0,
              "ticks": ""
             }
            },
            "marker": {
             "colorbar": {
              "outlinewidth": 0,
              "ticks": ""
             }
            },
            "type": "scatter3d"
           }
          ],
          "scattercarpet": [
           {
            "marker": {
             "colorbar": {
              "outlinewidth": 0,
              "ticks": ""
             }
            },
            "type": "scattercarpet"
           }
          ],
          "scattergeo": [
           {
            "marker": {
             "colorbar": {
              "outlinewidth": 0,
              "ticks": ""
             }
            },
            "type": "scattergeo"
           }
          ],
          "scattergl": [
           {
            "marker": {
             "colorbar": {
              "outlinewidth": 0,
              "ticks": ""
             }
            },
            "type": "scattergl"
           }
          ],
          "scattermapbox": [
           {
            "marker": {
             "colorbar": {
              "outlinewidth": 0,
              "ticks": ""
             }
            },
            "type": "scattermapbox"
           }
          ],
          "scatterpolar": [
           {
            "marker": {
             "colorbar": {
              "outlinewidth": 0,
              "ticks": ""
             }
            },
            "type": "scatterpolar"
           }
          ],
          "scatterpolargl": [
           {
            "marker": {
             "colorbar": {
              "outlinewidth": 0,
              "ticks": ""
             }
            },
            "type": "scatterpolargl"
           }
          ],
          "scatterternary": [
           {
            "marker": {
             "colorbar": {
              "outlinewidth": 0,
              "ticks": ""
             }
            },
            "type": "scatterternary"
           }
          ],
          "surface": [
           {
            "colorbar": {
             "outlinewidth": 0,
             "ticks": ""
            },
            "colorscale": [
             [
              0,
              "#0d0887"
             ],
             [
              0.1111111111111111,
              "#46039f"
             ],
             [
              0.2222222222222222,
              "#7201a8"
             ],
             [
              0.3333333333333333,
              "#9c179e"
             ],
             [
              0.4444444444444444,
              "#bd3786"
             ],
             [
              0.5555555555555556,
              "#d8576b"
             ],
             [
              0.6666666666666666,
              "#ed7953"
             ],
             [
              0.7777777777777778,
              "#fb9f3a"
             ],
             [
              0.8888888888888888,
              "#fdca26"
             ],
             [
              1,
              "#f0f921"
             ]
            ],
            "type": "surface"
           }
          ],
          "table": [
           {
            "cells": {
             "fill": {
              "color": "#EBF0F8"
             },
             "line": {
              "color": "white"
             }
            },
            "header": {
             "fill": {
              "color": "#C8D4E3"
             },
             "line": {
              "color": "white"
             }
            },
            "type": "table"
           }
          ]
         },
         "layout": {
          "annotationdefaults": {
           "arrowcolor": "#2a3f5f",
           "arrowhead": 0,
           "arrowwidth": 1
          },
          "autotypenumbers": "strict",
          "coloraxis": {
           "colorbar": {
            "outlinewidth": 0,
            "ticks": ""
           }
          },
          "colorscale": {
           "diverging": [
            [
             0,
             "#8e0152"
            ],
            [
             0.1,
             "#c51b7d"
            ],
            [
             0.2,
             "#de77ae"
            ],
            [
             0.3,
             "#f1b6da"
            ],
            [
             0.4,
             "#fde0ef"
            ],
            [
             0.5,
             "#f7f7f7"
            ],
            [
             0.6,
             "#e6f5d0"
            ],
            [
             0.7,
             "#b8e186"
            ],
            [
             0.8,
             "#7fbc41"
            ],
            [
             0.9,
             "#4d9221"
            ],
            [
             1,
             "#276419"
            ]
           ],
           "sequential": [
            [
             0,
             "#0d0887"
            ],
            [
             0.1111111111111111,
             "#46039f"
            ],
            [
             0.2222222222222222,
             "#7201a8"
            ],
            [
             0.3333333333333333,
             "#9c179e"
            ],
            [
             0.4444444444444444,
             "#bd3786"
            ],
            [
             0.5555555555555556,
             "#d8576b"
            ],
            [
             0.6666666666666666,
             "#ed7953"
            ],
            [
             0.7777777777777778,
             "#fb9f3a"
            ],
            [
             0.8888888888888888,
             "#fdca26"
            ],
            [
             1,
             "#f0f921"
            ]
           ],
           "sequentialminus": [
            [
             0,
             "#0d0887"
            ],
            [
             0.1111111111111111,
             "#46039f"
            ],
            [
             0.2222222222222222,
             "#7201a8"
            ],
            [
             0.3333333333333333,
             "#9c179e"
            ],
            [
             0.4444444444444444,
             "#bd3786"
            ],
            [
             0.5555555555555556,
             "#d8576b"
            ],
            [
             0.6666666666666666,
             "#ed7953"
            ],
            [
             0.7777777777777778,
             "#fb9f3a"
            ],
            [
             0.8888888888888888,
             "#fdca26"
            ],
            [
             1,
             "#f0f921"
            ]
           ]
          },
          "colorway": [
           "#636efa",
           "#EF553B",
           "#00cc96",
           "#ab63fa",
           "#FFA15A",
           "#19d3f3",
           "#FF6692",
           "#B6E880",
           "#FF97FF",
           "#FECB52"
          ],
          "font": {
           "color": "#2a3f5f"
          },
          "geo": {
           "bgcolor": "white",
           "lakecolor": "white",
           "landcolor": "#E5ECF6",
           "showlakes": true,
           "showland": true,
           "subunitcolor": "white"
          },
          "hoverlabel": {
           "align": "left"
          },
          "hovermode": "closest",
          "mapbox": {
           "style": "light"
          },
          "paper_bgcolor": "white",
          "plot_bgcolor": "#E5ECF6",
          "polar": {
           "angularaxis": {
            "gridcolor": "white",
            "linecolor": "white",
            "ticks": ""
           },
           "bgcolor": "#E5ECF6",
           "radialaxis": {
            "gridcolor": "white",
            "linecolor": "white",
            "ticks": ""
           }
          },
          "scene": {
           "xaxis": {
            "backgroundcolor": "#E5ECF6",
            "gridcolor": "white",
            "gridwidth": 2,
            "linecolor": "white",
            "showbackground": true,
            "ticks": "",
            "zerolinecolor": "white"
           },
           "yaxis": {
            "backgroundcolor": "#E5ECF6",
            "gridcolor": "white",
            "gridwidth": 2,
            "linecolor": "white",
            "showbackground": true,
            "ticks": "",
            "zerolinecolor": "white"
           },
           "zaxis": {
            "backgroundcolor": "#E5ECF6",
            "gridcolor": "white",
            "gridwidth": 2,
            "linecolor": "white",
            "showbackground": true,
            "ticks": "",
            "zerolinecolor": "white"
           }
          },
          "shapedefaults": {
           "line": {
            "color": "#2a3f5f"
           }
          },
          "ternary": {
           "aaxis": {
            "gridcolor": "white",
            "linecolor": "white",
            "ticks": ""
           },
           "baxis": {
            "gridcolor": "white",
            "linecolor": "white",
            "ticks": ""
           },
           "bgcolor": "#E5ECF6",
           "caxis": {
            "gridcolor": "white",
            "linecolor": "white",
            "ticks": ""
           }
          },
          "title": {
           "x": 0.05
          },
          "xaxis": {
           "automargin": true,
           "gridcolor": "white",
           "linecolor": "white",
           "ticks": "",
           "title": {
            "standoff": 15
           },
           "zerolinecolor": "white",
           "zerolinewidth": 2
          },
          "yaxis": {
           "automargin": true,
           "gridcolor": "white",
           "linecolor": "white",
           "ticks": "",
           "title": {
            "standoff": 15
           },
           "zerolinecolor": "white",
           "zerolinewidth": 2
          }
         }
        },
        "title": {
         "text": "t-SNE embeddings of reviews"
        }
       }
      }
     },
     "metadata": {},
     "output_type": "display_data"
    }
   ],
   "source": [
    "# ignore PerformanceWarning\n",
    "import warnings\n",
    "from pandas.errors import PerformanceWarning\n",
    "warnings.filterwarnings(\"ignore\", category=PerformanceWarning)\n",
    "\n",
    "embeddings_df = pd.DataFrame()\n",
    "embeddings_df[\"review_id\"] = df.review_id\n",
    "embeddings_df[\"label\"] = df.label\n",
    "embeddings_df, w2v_model = embeddings_features(embeddings_df, col=\"comments\")\n",
    "\n",
    "# apply tsne to reduce to `dims` dimensions\n",
    "dims = 3\n",
    "embd_df = tsne_features(embeddings_df.drop(columns=[\"review_id\", \"label\"], axis=1), dims=dims)\n",
    "embeddings_df = embeddings_df.reset_index()\n",
    "embd_df[\"review_id\"] = embeddings_df.review_id\n",
    "embd_df[\"label\"] = embeddings_df.label\n",
    "\n",
    "# plot 3d scatter with plotly\n",
    "fig = px.scatter_3d(embd_df, x=\"tsne_3D_0\", y=\"tsne_3D_1\", z=\"tsne_3D_2\", color=\"label\", title=\"t-SNE embeddings of reviews\", )\n",
    "# make size of point smaller and opaque\n",
    "fig.update_traces(marker=dict(size=4, opacity=0.5))\n",
    "# make inital zoom bigger\n",
    "fig.update_layout(scene=dict(camera_eye=dict(x=0.9, y=0.9, z=0.9)))\n",
    "fig.show()"
   ]
  },
  {
   "attachments": {},
   "cell_type": "markdown",
   "metadata": {},
   "source": [
    "It looks like the \"mbad\" labels are mostly together. The \"mgood\" are kind of in the  middle, but there is still lots of noise of \"good\" labels in that region."
   ]
  },
  {
   "attachments": {},
   "cell_type": "markdown",
   "metadata": {},
   "source": [
    "# Generate Features"
   ]
  },
  {
   "attachments": {},
   "cell_type": "markdown",
   "metadata": {},
   "source": [
    "With what we know, let's generate some features. I've provided a function for each type of feature, so we can mix and match."
   ]
  },
  {
   "cell_type": "code",
   "execution_count": 30,
   "metadata": {},
   "outputs": [
    {
     "name": "stdout",
     "output_type": "stream",
     "text": [
      "Creating model...\n",
      "Generating embeddings...\n",
      "Creating model...\n",
      "Generating embeddings...\n",
      "Features above correlation threshold (0.09):\n",
      "['3gram09_would_not_recommend', '3gram09_no_toilet_paper', '3gram09_not_recommend_staying', '3gram09_could_not_access', '3gram09_per_night_not', '3gram09_very_old_not', '3gram09_call_text_message', '3gram09_phone_call_text', '3gram09_left_first_night', '3gram09_old_not_well', '3gram09_worse_experience_ever', '3gram09_refund_second_night', '3gram09_paid_two_night', '3gram09_expected_based_description', '3gram09_need_deep_cleaning', '3gram09_not_really_clean', '3gram09_got_no_response', '3gram09_toilet_paper_buy', '3gram09_never_met_host', '3gram09_property_management_company', '3gram09_nothing_like_picture', '3gram09_freezer_not_work', '3gram09_obviously_not_cleaned', '3gram09_shower_curtain_covered', '3gram09_never_responded_message', '3gram09_not_clean_arrived', '3gram09_not_feel_comfortable', '3gram09_very_bad_shape', '3gram09_start_good_thing', '3gram09_got_no_answer', '3gram09_time_opened_door', '3gram09_spend_lot_time', '3gram09_living_room_couch', '3gram09_write_negative_review', '3gram09_need_major_overhaul', '3gram09_sleep_bedroom_door', '3gram09_guest_not_able', '3gram09_take_cold_shower', '3gram09_place_sleep_10', '3gram09_staying_another_unit', '3gram09_told_cleaning_lady', '3gram09_big_issue_u', '3gram09_let_start_saying', '3gram09_felt_compelled_write']\n",
      "Features above correlation threshold (0.1):\n",
      "['3gram10_would_not_recommend', '3gram10_no_toilet_paper']\n",
      "Adding amenities features...\n",
      "Features above correlation threshold (0.05):\n",
      "['lockbox', 'dishwasher', 'pool', 'stove', 'keypad', 'bathtub', 'kitchen', 'balcony', 'shampoo', 'garden', 'cat', 'family', 'breakfast']\n",
      "Adding amenities features...\n",
      "(1629, 112)\n"
     ]
    },
    {
     "data": {
      "text/html": [
       "<div>\n",
       "<style scoped>\n",
       "    .dataframe tbody tr th:only-of-type {\n",
       "        vertical-align: middle;\n",
       "    }\n",
       "\n",
       "    .dataframe tbody tr th {\n",
       "        vertical-align: top;\n",
       "    }\n",
       "\n",
       "    .dataframe thead th {\n",
       "        text-align: right;\n",
       "    }\n",
       "</style>\n",
       "<table border=\"1\" class=\"dataframe\">\n",
       "  <thead>\n",
       "    <tr style=\"text-align: right;\">\n",
       "      <th></th>\n",
       "      <th>embedding_comments_0</th>\n",
       "      <th>embedding_comments_1</th>\n",
       "      <th>embedding_comments_2</th>\n",
       "      <th>embedding_comments_3</th>\n",
       "      <th>embedding_comments_4</th>\n",
       "      <th>embedding_comments_5</th>\n",
       "      <th>embedding_comments_6</th>\n",
       "      <th>embedding_comments_7</th>\n",
       "      <th>embedding_comments_8</th>\n",
       "      <th>embedding_comments_9</th>\n",
       "      <th>...</th>\n",
       "      <th>amenityall_silverware</th>\n",
       "      <th>amenityall_bathtub</th>\n",
       "      <th>amenityall_lockbox</th>\n",
       "      <th>amenityall_crib</th>\n",
       "      <th>amenityall_elevator</th>\n",
       "      <th>amenityall_gym</th>\n",
       "      <th>amenityall_oven</th>\n",
       "      <th>amenityall_toilet</th>\n",
       "      <th>review_id</th>\n",
       "      <th>label</th>\n",
       "    </tr>\n",
       "  </thead>\n",
       "  <tbody>\n",
       "    <tr>\n",
       "      <th>0</th>\n",
       "      <td>0.172036</td>\n",
       "      <td>-0.637597</td>\n",
       "      <td>0.612706</td>\n",
       "      <td>-0.143775</td>\n",
       "      <td>0.107823</td>\n",
       "      <td>-0.262747</td>\n",
       "      <td>0.943272</td>\n",
       "      <td>1.330471</td>\n",
       "      <td>-0.957359</td>\n",
       "      <td>-0.665829</td>\n",
       "      <td>...</td>\n",
       "      <td>0.0</td>\n",
       "      <td>0.0</td>\n",
       "      <td>0.0</td>\n",
       "      <td>0.0</td>\n",
       "      <td>0.0</td>\n",
       "      <td>0.0</td>\n",
       "      <td>0.0</td>\n",
       "      <td>0.0</td>\n",
       "      <td>83097</td>\n",
       "      <td>good</td>\n",
       "    </tr>\n",
       "    <tr>\n",
       "      <th>1</th>\n",
       "      <td>0.167699</td>\n",
       "      <td>-0.565300</td>\n",
       "      <td>0.554699</td>\n",
       "      <td>-0.221078</td>\n",
       "      <td>0.188650</td>\n",
       "      <td>-0.428980</td>\n",
       "      <td>0.800810</td>\n",
       "      <td>1.322331</td>\n",
       "      <td>-0.830094</td>\n",
       "      <td>-0.906980</td>\n",
       "      <td>...</td>\n",
       "      <td>0.0</td>\n",
       "      <td>0.0</td>\n",
       "      <td>0.0</td>\n",
       "      <td>0.0</td>\n",
       "      <td>0.0</td>\n",
       "      <td>0.0</td>\n",
       "      <td>0.0</td>\n",
       "      <td>0.0</td>\n",
       "      <td>133337</td>\n",
       "      <td>good</td>\n",
       "    </tr>\n",
       "    <tr>\n",
       "      <th>2</th>\n",
       "      <td>0.087849</td>\n",
       "      <td>-0.681386</td>\n",
       "      <td>0.636865</td>\n",
       "      <td>-0.132271</td>\n",
       "      <td>0.068009</td>\n",
       "      <td>-0.221255</td>\n",
       "      <td>1.035058</td>\n",
       "      <td>1.249915</td>\n",
       "      <td>-1.004797</td>\n",
       "      <td>-0.703693</td>\n",
       "      <td>...</td>\n",
       "      <td>0.0</td>\n",
       "      <td>0.0</td>\n",
       "      <td>0.0</td>\n",
       "      <td>0.0</td>\n",
       "      <td>0.0</td>\n",
       "      <td>0.0</td>\n",
       "      <td>0.0</td>\n",
       "      <td>0.0</td>\n",
       "      <td>150928</td>\n",
       "      <td>good</td>\n",
       "    </tr>\n",
       "    <tr>\n",
       "      <th>3</th>\n",
       "      <td>0.094300</td>\n",
       "      <td>-0.676064</td>\n",
       "      <td>0.689126</td>\n",
       "      <td>-0.222929</td>\n",
       "      <td>0.110279</td>\n",
       "      <td>-0.348316</td>\n",
       "      <td>0.964549</td>\n",
       "      <td>1.553874</td>\n",
       "      <td>-0.992685</td>\n",
       "      <td>-0.720572</td>\n",
       "      <td>...</td>\n",
       "      <td>0.0</td>\n",
       "      <td>0.0</td>\n",
       "      <td>0.0</td>\n",
       "      <td>0.0</td>\n",
       "      <td>0.0</td>\n",
       "      <td>0.0</td>\n",
       "      <td>0.0</td>\n",
       "      <td>0.0</td>\n",
       "      <td>2706775</td>\n",
       "      <td>good</td>\n",
       "    </tr>\n",
       "    <tr>\n",
       "      <th>4</th>\n",
       "      <td>0.176663</td>\n",
       "      <td>-0.511448</td>\n",
       "      <td>0.665672</td>\n",
       "      <td>-0.197158</td>\n",
       "      <td>0.054050</td>\n",
       "      <td>-0.158278</td>\n",
       "      <td>0.949448</td>\n",
       "      <td>1.282783</td>\n",
       "      <td>-0.942654</td>\n",
       "      <td>-0.670050</td>\n",
       "      <td>...</td>\n",
       "      <td>0.0</td>\n",
       "      <td>0.0</td>\n",
       "      <td>0.0</td>\n",
       "      <td>0.0</td>\n",
       "      <td>0.0</td>\n",
       "      <td>0.0</td>\n",
       "      <td>0.0</td>\n",
       "      <td>0.0</td>\n",
       "      <td>8602878</td>\n",
       "      <td>good</td>\n",
       "    </tr>\n",
       "  </tbody>\n",
       "</table>\n",
       "<p>5 rows × 112 columns</p>\n",
       "</div>"
      ],
      "text/plain": [
       "   embedding_comments_0  embedding_comments_1  embedding_comments_2  \\\n",
       "0              0.172036             -0.637597              0.612706   \n",
       "1              0.167699             -0.565300              0.554699   \n",
       "2              0.087849             -0.681386              0.636865   \n",
       "3              0.094300             -0.676064              0.689126   \n",
       "4              0.176663             -0.511448              0.665672   \n",
       "\n",
       "   embedding_comments_3  embedding_comments_4  embedding_comments_5  \\\n",
       "0             -0.143775              0.107823             -0.262747   \n",
       "1             -0.221078              0.188650             -0.428980   \n",
       "2             -0.132271              0.068009             -0.221255   \n",
       "3             -0.222929              0.110279             -0.348316   \n",
       "4             -0.197158              0.054050             -0.158278   \n",
       "\n",
       "   embedding_comments_6  embedding_comments_7  embedding_comments_8  \\\n",
       "0              0.943272              1.330471             -0.957359   \n",
       "1              0.800810              1.322331             -0.830094   \n",
       "2              1.035058              1.249915             -1.004797   \n",
       "3              0.964549              1.553874             -0.992685   \n",
       "4              0.949448              1.282783             -0.942654   \n",
       "\n",
       "   embedding_comments_9  ...  amenityall_silverware  amenityall_bathtub  \\\n",
       "0             -0.665829  ...                    0.0                 0.0   \n",
       "1             -0.906980  ...                    0.0                 0.0   \n",
       "2             -0.703693  ...                    0.0                 0.0   \n",
       "3             -0.720572  ...                    0.0                 0.0   \n",
       "4             -0.670050  ...                    0.0                 0.0   \n",
       "\n",
       "   amenityall_lockbox  amenityall_crib  amenityall_elevator  amenityall_gym  \\\n",
       "0                 0.0              0.0                  0.0             0.0   \n",
       "1                 0.0              0.0                  0.0             0.0   \n",
       "2                 0.0              0.0                  0.0             0.0   \n",
       "3                 0.0              0.0                  0.0             0.0   \n",
       "4                 0.0              0.0                  0.0             0.0   \n",
       "\n",
       "   amenityall_oven  amenityall_toilet  review_id  label  \n",
       "0              0.0                0.0      83097   good  \n",
       "1              0.0                0.0     133337   good  \n",
       "2              0.0                0.0     150928   good  \n",
       "3              0.0                0.0    2706775   good  \n",
       "4              0.0                0.0    8602878   good  \n",
       "\n",
       "[5 rows x 112 columns]"
      ]
     },
     "execution_count": 30,
     "metadata": {},
     "output_type": "execute_result"
    }
   ],
   "source": [
    "features = pd.DataFrame()\n",
    "\n",
    "# get the embeddings\n",
    "embeddings_comments, w2vmodel_comments = embeddings_features(features, col=\"comments\", emb_vector_size=10)\n",
    "embeddings_description, w2vmodel_description = embeddings_features(features, col=\"description\", emb_vector_size=10)\n",
    "features = pd.concat([features, embeddings_comments, embeddings_description], axis=1)\n",
    "\n",
    "# for some reason there are duplicate columns after this. Remove them.\n",
    "features = features.loc[:,~features.columns.duplicated()].copy()\n",
    "\n",
    "# # apply tsne to reduce to 2 and 3 dimensions\n",
    "# for embedding_type, embeddings in zip([\"comments\", \"description\"], [embeddings_comments, embeddings_description]):\n",
    "#     tsne2 = tsne_features(embeddings, dims=2, prefix=f\"tsne2_{embedding_type}_\")\n",
    "#     tsne3 = tsne_features(embeddings, dims=3, prefix=f\"tsne3_{embedding_type}_\")\n",
    "#     # combine the tsne features\n",
    "#     features = pd.concat([features, tsne2, tsne3], axis=1)\n",
    "\n",
    "# get 3-grams with 0.09  and 0.1 correlation thresholds\n",
    "features = ngrams_features(features, n=3, corr_thresh=0.09, prefix=\"3gram09_\")\n",
    "features = ngrams_features(features, n=3, corr_thresh=0.1, prefix=\"3gram10_\")\n",
    "\n",
    "# get the amenities\n",
    "features = amenities_features(features, corr_thresh=0.05, prefix=\"amenity005_\")\n",
    "features = amenities_features(features, corr_thresh=None, prefix=\"amenityall_\")\n",
    "\n",
    "# fill missing values with 0\n",
    "features = features.fillna(0)\n",
    "\n",
    "features[\"review_id\"] = df.review_id\n",
    "features[\"label\"] = df.label\n",
    "\n",
    "print(features.shape)\n",
    "\n",
    "features.head()"
   ]
  },
  {
   "attachments": {},
   "cell_type": "markdown",
   "metadata": {},
   "source": [
    "## Save the features"
   ]
  },
  {
   "attachments": {},
   "cell_type": "markdown",
   "metadata": {},
   "source": [
    "Here we will save the features to a csv. We will also save the trained word2vec model, so we can use it later."
   ]
  },
  {
   "cell_type": "code",
   "execution_count": 22,
   "metadata": {},
   "outputs": [],
   "source": [
    "# drop the emeddings features\n",
    "# embd_cols = [col for col in features.columns if \"embedding_\" in col]\n",
    "# features = features.drop(embd_cols, axis=1)"
   ]
  },
  {
   "cell_type": "code",
   "execution_count": 33,
   "metadata": {},
   "outputs": [],
   "source": [
    "if isinstance(GEO, list):\n",
    "    geo_display_name = \"_\".join(GEO)\n",
    "else:\n",
    "    geo_display_name = GEO\n",
    "\n",
    "features.to_csv(f\"../../data/processed/features_{geo_display_name}_no_tsne_no_doubles.csv\", index=False)"
   ]
  },
  {
   "cell_type": "code",
   "execution_count": 34,
   "metadata": {},
   "outputs": [],
   "source": [
    "# save the w2v models\n",
    "w2vmodel_comments.save(f\"../../models/w2vmodel_comments_{geo_display_name}_no_tsne.model\")\n",
    "w2vmodel_description.save(f\"../../models/w2vmodel_description_{geo_display_name}_no_tsne.model\")"
   ]
  },
  {
   "cell_type": "code",
   "execution_count": null,
   "metadata": {},
   "outputs": [],
   "source": []
  }
 ],
 "metadata": {
  "kernelspec": {
   "display_name": "venv",
   "language": "python",
   "name": "python3"
  },
  "language_info": {
   "codemirror_mode": {
    "name": "ipython",
    "version": 3
   },
   "file_extension": ".py",
   "mimetype": "text/x-python",
   "name": "python",
   "nbconvert_exporter": "python",
   "pygments_lexer": "ipython3",
   "version": "3.10.4"
  },
  "orig_nbformat": 4,
  "vscode": {
   "interpreter": {
    "hash": "cf086def782804284d24881115c612afdcc8ea791299ba67855f0c7f1a9ccc5a"
   }
  }
 },
 "nbformat": 4,
 "nbformat_minor": 2
}
