{
 "cells": [
  {
   "attachments": {},
   "cell_type": "markdown",
   "metadata": {},
   "source": [
    "## Feature Engineering on the processed dataset"
   ]
  },
  {
   "cell_type": "code",
   "execution_count": 1,
   "metadata": {},
   "outputs": [],
   "source": [
    "import pandas as pd\n",
    "import numpy as np\n",
    "import matplotlib.pyplot as plt\n",
    "import plotly.express as px\n",
    "import warnings\n",
    "warnings.simplefilter(action='ignore', category=pd.errors.PerformanceWarning)"
   ]
  },
  {
   "cell_type": "code",
   "execution_count": 2,
   "metadata": {},
   "outputs": [
    {
     "name": "stdout",
     "output_type": "stream",
     "text": [
      "(1546, 9)\n"
     ]
    },
    {
     "data": {
      "text/html": [
       "<div>\n",
       "<style scoped>\n",
       "    .dataframe tbody tr th:only-of-type {\n",
       "        vertical-align: middle;\n",
       "    }\n",
       "\n",
       "    .dataframe tbody tr th {\n",
       "        vertical-align: top;\n",
       "    }\n",
       "\n",
       "    .dataframe thead th {\n",
       "        text-align: right;\n",
       "    }\n",
       "</style>\n",
       "<table border=\"1\" class=\"dataframe\">\n",
       "  <thead>\n",
       "    <tr style=\"text-align: right;\">\n",
       "      <th></th>\n",
       "      <th>review_id</th>\n",
       "      <th>listing_id</th>\n",
       "      <th>description</th>\n",
       "      <th>comments</th>\n",
       "      <th>sentiment</th>\n",
       "      <th>label</th>\n",
       "      <th>name</th>\n",
       "      <th>amenities</th>\n",
       "      <th>source</th>\n",
       "    </tr>\n",
       "  </thead>\n",
       "  <tbody>\n",
       "    <tr>\n",
       "      <th>0</th>\n",
       "      <td>83097</td>\n",
       "      <td>5456</td>\n",
       "      <td>[fabulous, location, walking, convention, cent...</td>\n",
       "      <td>[sylvia, very, nice, informal, relaxed, arrive...</td>\n",
       "      <td>4.333333</td>\n",
       "      <td>good</td>\n",
       "      <td>['walk', '6th', 'rainey', 'st', 'convention', ...</td>\n",
       "      <td>[TV, Wifi, Air conditioning, Kitchen, Pets liv...</td>\n",
       "      <td>texas</td>\n",
       "    </tr>\n",
       "    <tr>\n",
       "      <th>1</th>\n",
       "      <td>133337</td>\n",
       "      <td>5456</td>\n",
       "      <td>[fabulous, location, walking, convention, cent...</td>\n",
       "      <td>[sylvia, picked, airport, gave, beautiful, eve...</td>\n",
       "      <td>4.000000</td>\n",
       "      <td>good</td>\n",
       "      <td>['walk', '6th', 'rainey', 'st', 'convention', ...</td>\n",
       "      <td>[TV, Wifi, Air conditioning, Kitchen, Pets liv...</td>\n",
       "      <td>texas</td>\n",
       "    </tr>\n",
       "    <tr>\n",
       "      <th>2</th>\n",
       "      <td>150928</td>\n",
       "      <td>5456</td>\n",
       "      <td>[fabulous, location, walking, convention, cent...</td>\n",
       "      <td>[lovely, time, enjoyed, apartment, clean, spac...</td>\n",
       "      <td>3.000000</td>\n",
       "      <td>good</td>\n",
       "      <td>['walk', '6th', 'rainey', 'st', 'convention', ...</td>\n",
       "      <td>[TV, Wifi, Air conditioning, Kitchen, Pets liv...</td>\n",
       "      <td>texas</td>\n",
       "    </tr>\n",
       "    <tr>\n",
       "      <th>3</th>\n",
       "      <td>2706775</td>\n",
       "      <td>5456</td>\n",
       "      <td>[fabulous, location, walking, convention, cent...</td>\n",
       "      <td>[sylvia, excellent, host, stayed, touch, made,...</td>\n",
       "      <td>4.500000</td>\n",
       "      <td>good</td>\n",
       "      <td>['walk', '6th', 'rainey', 'st', 'convention', ...</td>\n",
       "      <td>[TV, Wifi, Air conditioning, Kitchen, Pets liv...</td>\n",
       "      <td>texas</td>\n",
       "    </tr>\n",
       "    <tr>\n",
       "      <th>4</th>\n",
       "      <td>8602878</td>\n",
       "      <td>5456</td>\n",
       "      <td>[fabulous, location, walking, convention, cent...</td>\n",
       "      <td>[place, cute, little, self, contained, cottage...</td>\n",
       "      <td>4.000000</td>\n",
       "      <td>good</td>\n",
       "      <td>['walk', '6th', 'rainey', 'st', 'convention', ...</td>\n",
       "      <td>[TV, Wifi, Air conditioning, Kitchen, Pets liv...</td>\n",
       "      <td>texas</td>\n",
       "    </tr>\n",
       "  </tbody>\n",
       "</table>\n",
       "</div>"
      ],
      "text/plain": [
       "   review_id  listing_id                                        description  \\\n",
       "0      83097        5456  [fabulous, location, walking, convention, cent...   \n",
       "1     133337        5456  [fabulous, location, walking, convention, cent...   \n",
       "2     150928        5456  [fabulous, location, walking, convention, cent...   \n",
       "3    2706775        5456  [fabulous, location, walking, convention, cent...   \n",
       "4    8602878        5456  [fabulous, location, walking, convention, cent...   \n",
       "\n",
       "                                            comments  sentiment label  \\\n",
       "0  [sylvia, very, nice, informal, relaxed, arrive...   4.333333  good   \n",
       "1  [sylvia, picked, airport, gave, beautiful, eve...   4.000000  good   \n",
       "2  [lovely, time, enjoyed, apartment, clean, spac...   3.000000  good   \n",
       "3  [sylvia, excellent, host, stayed, touch, made,...   4.500000  good   \n",
       "4  [place, cute, little, self, contained, cottage...   4.000000  good   \n",
       "\n",
       "                                                name  \\\n",
       "0  ['walk', '6th', 'rainey', 'st', 'convention', ...   \n",
       "1  ['walk', '6th', 'rainey', 'st', 'convention', ...   \n",
       "2  ['walk', '6th', 'rainey', 'st', 'convention', ...   \n",
       "3  ['walk', '6th', 'rainey', 'st', 'convention', ...   \n",
       "4  ['walk', '6th', 'rainey', 'st', 'convention', ...   \n",
       "\n",
       "                                           amenities source  \n",
       "0  [TV, Wifi, Air conditioning, Kitchen, Pets liv...  texas  \n",
       "1  [TV, Wifi, Air conditioning, Kitchen, Pets liv...  texas  \n",
       "2  [TV, Wifi, Air conditioning, Kitchen, Pets liv...  texas  \n",
       "3  [TV, Wifi, Air conditioning, Kitchen, Pets liv...  texas  \n",
       "4  [TV, Wifi, Air conditioning, Kitchen, Pets liv...  texas  "
      ]
     },
     "execution_count": 2,
     "metadata": {},
     "output_type": "execute_result"
    }
   ],
   "source": [
    "# Read in the data\n",
    "GEO = [\"texas\", \"florida\"]\n",
    "\n",
    "if isinstance(GEO, str):\n",
    "    df = pd.read_csv(f\"../../data/processed/{GEO}_auto_processed.csv\")\n",
    "elif isinstance(GEO, list):\n",
    "    dfs = []\n",
    "    for geo in GEO:\n",
    "        df = pd.read_csv(f\"../../data/processed/{geo}_auto_processed.csv\")\n",
    "        df[\"source\"] = geo\n",
    "        dfs.append(df)\n",
    "    df = pd.concat(dfs)\n",
    "\n",
    "# eval list columns\n",
    "df.description = df.description.apply(lambda x: eval(x))\n",
    "df.comments = df.comments.apply(lambda x: eval(x))\n",
    "df.amenities = df.amenities.apply(lambda x: eval(x))\n",
    "\n",
    "df.reset_index(drop=True, inplace=True)\n",
    "\n",
    "print(df.shape)\n",
    "df.head()"
   ]
  },
  {
   "attachments": {},
   "cell_type": "markdown",
   "metadata": {},
   "source": [
    "### Distribution of labels"
   ]
  },
  {
   "attachments": {},
   "cell_type": "markdown",
   "metadata": {},
   "source": [
    "First, let's look at the distribution of labels in the processed dataset."
   ]
  },
  {
   "cell_type": "code",
   "execution_count": 3,
   "metadata": {},
   "outputs": [
    {
     "name": "stdout",
     "output_type": "stream",
     "text": [
      "mbad: 8.02%, mgood: 6.86%, mbad or mgood: 14.88%\n"
     ]
    },
    {
     "data": {
      "application/vnd.plotly.v1+json": {
       "config": {
        "plotlyServerURL": "https://plot.ly"
       },
       "data": [
        {
         "alignmentgroup": "True",
         "hovertemplate": "Label=%{x}<br>Count=%{y}<extra></extra>",
         "legendgroup": "",
         "marker": {
          "color": "#636efa",
          "pattern": {
           "shape": ""
          }
         },
         "name": "",
         "offsetgroup": "",
         "orientation": "v",
         "showlegend": false,
         "textposition": "auto",
         "type": "bar",
         "x": [
          "good",
          "mbad",
          "mgood",
          "bad"
         ],
         "xaxis": "x",
         "y": [
          1236,
          124,
          106,
          80
         ],
         "yaxis": "y"
        }
       ],
       "layout": {
        "barmode": "relative",
        "legend": {
         "tracegroupgap": 0
        },
        "template": {
         "data": {
          "bar": [
           {
            "error_x": {
             "color": "#2a3f5f"
            },
            "error_y": {
             "color": "#2a3f5f"
            },
            "marker": {
             "line": {
              "color": "#E5ECF6",
              "width": 0.5
             },
             "pattern": {
              "fillmode": "overlay",
              "size": 10,
              "solidity": 0.2
             }
            },
            "type": "bar"
           }
          ],
          "barpolar": [
           {
            "marker": {
             "line": {
              "color": "#E5ECF6",
              "width": 0.5
             },
             "pattern": {
              "fillmode": "overlay",
              "size": 10,
              "solidity": 0.2
             }
            },
            "type": "barpolar"
           }
          ],
          "carpet": [
           {
            "aaxis": {
             "endlinecolor": "#2a3f5f",
             "gridcolor": "white",
             "linecolor": "white",
             "minorgridcolor": "white",
             "startlinecolor": "#2a3f5f"
            },
            "baxis": {
             "endlinecolor": "#2a3f5f",
             "gridcolor": "white",
             "linecolor": "white",
             "minorgridcolor": "white",
             "startlinecolor": "#2a3f5f"
            },
            "type": "carpet"
           }
          ],
          "choropleth": [
           {
            "colorbar": {
             "outlinewidth": 0,
             "ticks": ""
            },
            "type": "choropleth"
           }
          ],
          "contour": [
           {
            "colorbar": {
             "outlinewidth": 0,
             "ticks": ""
            },
            "colorscale": [
             [
              0,
              "#0d0887"
             ],
             [
              0.1111111111111111,
              "#46039f"
             ],
             [
              0.2222222222222222,
              "#7201a8"
             ],
             [
              0.3333333333333333,
              "#9c179e"
             ],
             [
              0.4444444444444444,
              "#bd3786"
             ],
             [
              0.5555555555555556,
              "#d8576b"
             ],
             [
              0.6666666666666666,
              "#ed7953"
             ],
             [
              0.7777777777777778,
              "#fb9f3a"
             ],
             [
              0.8888888888888888,
              "#fdca26"
             ],
             [
              1,
              "#f0f921"
             ]
            ],
            "type": "contour"
           }
          ],
          "contourcarpet": [
           {
            "colorbar": {
             "outlinewidth": 0,
             "ticks": ""
            },
            "type": "contourcarpet"
           }
          ],
          "heatmap": [
           {
            "colorbar": {
             "outlinewidth": 0,
             "ticks": ""
            },
            "colorscale": [
             [
              0,
              "#0d0887"
             ],
             [
              0.1111111111111111,
              "#46039f"
             ],
             [
              0.2222222222222222,
              "#7201a8"
             ],
             [
              0.3333333333333333,
              "#9c179e"
             ],
             [
              0.4444444444444444,
              "#bd3786"
             ],
             [
              0.5555555555555556,
              "#d8576b"
             ],
             [
              0.6666666666666666,
              "#ed7953"
             ],
             [
              0.7777777777777778,
              "#fb9f3a"
             ],
             [
              0.8888888888888888,
              "#fdca26"
             ],
             [
              1,
              "#f0f921"
             ]
            ],
            "type": "heatmap"
           }
          ],
          "heatmapgl": [
           {
            "colorbar": {
             "outlinewidth": 0,
             "ticks": ""
            },
            "colorscale": [
             [
              0,
              "#0d0887"
             ],
             [
              0.1111111111111111,
              "#46039f"
             ],
             [
              0.2222222222222222,
              "#7201a8"
             ],
             [
              0.3333333333333333,
              "#9c179e"
             ],
             [
              0.4444444444444444,
              "#bd3786"
             ],
             [
              0.5555555555555556,
              "#d8576b"
             ],
             [
              0.6666666666666666,
              "#ed7953"
             ],
             [
              0.7777777777777778,
              "#fb9f3a"
             ],
             [
              0.8888888888888888,
              "#fdca26"
             ],
             [
              1,
              "#f0f921"
             ]
            ],
            "type": "heatmapgl"
           }
          ],
          "histogram": [
           {
            "marker": {
             "pattern": {
              "fillmode": "overlay",
              "size": 10,
              "solidity": 0.2
             }
            },
            "type": "histogram"
           }
          ],
          "histogram2d": [
           {
            "colorbar": {
             "outlinewidth": 0,
             "ticks": ""
            },
            "colorscale": [
             [
              0,
              "#0d0887"
             ],
             [
              0.1111111111111111,
              "#46039f"
             ],
             [
              0.2222222222222222,
              "#7201a8"
             ],
             [
              0.3333333333333333,
              "#9c179e"
             ],
             [
              0.4444444444444444,
              "#bd3786"
             ],
             [
              0.5555555555555556,
              "#d8576b"
             ],
             [
              0.6666666666666666,
              "#ed7953"
             ],
             [
              0.7777777777777778,
              "#fb9f3a"
             ],
             [
              0.8888888888888888,
              "#fdca26"
             ],
             [
              1,
              "#f0f921"
             ]
            ],
            "type": "histogram2d"
           }
          ],
          "histogram2dcontour": [
           {
            "colorbar": {
             "outlinewidth": 0,
             "ticks": ""
            },
            "colorscale": [
             [
              0,
              "#0d0887"
             ],
             [
              0.1111111111111111,
              "#46039f"
             ],
             [
              0.2222222222222222,
              "#7201a8"
             ],
             [
              0.3333333333333333,
              "#9c179e"
             ],
             [
              0.4444444444444444,
              "#bd3786"
             ],
             [
              0.5555555555555556,
              "#d8576b"
             ],
             [
              0.6666666666666666,
              "#ed7953"
             ],
             [
              0.7777777777777778,
              "#fb9f3a"
             ],
             [
              0.8888888888888888,
              "#fdca26"
             ],
             [
              1,
              "#f0f921"
             ]
            ],
            "type": "histogram2dcontour"
           }
          ],
          "mesh3d": [
           {
            "colorbar": {
             "outlinewidth": 0,
             "ticks": ""
            },
            "type": "mesh3d"
           }
          ],
          "parcoords": [
           {
            "line": {
             "colorbar": {
              "outlinewidth": 0,
              "ticks": ""
             }
            },
            "type": "parcoords"
           }
          ],
          "pie": [
           {
            "automargin": true,
            "type": "pie"
           }
          ],
          "scatter": [
           {
            "fillpattern": {
             "fillmode": "overlay",
             "size": 10,
             "solidity": 0.2
            },
            "type": "scatter"
           }
          ],
          "scatter3d": [
           {
            "line": {
             "colorbar": {
              "outlinewidth": 0,
              "ticks": ""
             }
            },
            "marker": {
             "colorbar": {
              "outlinewidth": 0,
              "ticks": ""
             }
            },
            "type": "scatter3d"
           }
          ],
          "scattercarpet": [
           {
            "marker": {
             "colorbar": {
              "outlinewidth": 0,
              "ticks": ""
             }
            },
            "type": "scattercarpet"
           }
          ],
          "scattergeo": [
           {
            "marker": {
             "colorbar": {
              "outlinewidth": 0,
              "ticks": ""
             }
            },
            "type": "scattergeo"
           }
          ],
          "scattergl": [
           {
            "marker": {
             "colorbar": {
              "outlinewidth": 0,
              "ticks": ""
             }
            },
            "type": "scattergl"
           }
          ],
          "scattermapbox": [
           {
            "marker": {
             "colorbar": {
              "outlinewidth": 0,
              "ticks": ""
             }
            },
            "type": "scattermapbox"
           }
          ],
          "scatterpolar": [
           {
            "marker": {
             "colorbar": {
              "outlinewidth": 0,
              "ticks": ""
             }
            },
            "type": "scatterpolar"
           }
          ],
          "scatterpolargl": [
           {
            "marker": {
             "colorbar": {
              "outlinewidth": 0,
              "ticks": ""
             }
            },
            "type": "scatterpolargl"
           }
          ],
          "scatterternary": [
           {
            "marker": {
             "colorbar": {
              "outlinewidth": 0,
              "ticks": ""
             }
            },
            "type": "scatterternary"
           }
          ],
          "surface": [
           {
            "colorbar": {
             "outlinewidth": 0,
             "ticks": ""
            },
            "colorscale": [
             [
              0,
              "#0d0887"
             ],
             [
              0.1111111111111111,
              "#46039f"
             ],
             [
              0.2222222222222222,
              "#7201a8"
             ],
             [
              0.3333333333333333,
              "#9c179e"
             ],
             [
              0.4444444444444444,
              "#bd3786"
             ],
             [
              0.5555555555555556,
              "#d8576b"
             ],
             [
              0.6666666666666666,
              "#ed7953"
             ],
             [
              0.7777777777777778,
              "#fb9f3a"
             ],
             [
              0.8888888888888888,
              "#fdca26"
             ],
             [
              1,
              "#f0f921"
             ]
            ],
            "type": "surface"
           }
          ],
          "table": [
           {
            "cells": {
             "fill": {
              "color": "#EBF0F8"
             },
             "line": {
              "color": "white"
             }
            },
            "header": {
             "fill": {
              "color": "#C8D4E3"
             },
             "line": {
              "color": "white"
             }
            },
            "type": "table"
           }
          ]
         },
         "layout": {
          "annotationdefaults": {
           "arrowcolor": "#2a3f5f",
           "arrowhead": 0,
           "arrowwidth": 1
          },
          "autotypenumbers": "strict",
          "coloraxis": {
           "colorbar": {
            "outlinewidth": 0,
            "ticks": ""
           }
          },
          "colorscale": {
           "diverging": [
            [
             0,
             "#8e0152"
            ],
            [
             0.1,
             "#c51b7d"
            ],
            [
             0.2,
             "#de77ae"
            ],
            [
             0.3,
             "#f1b6da"
            ],
            [
             0.4,
             "#fde0ef"
            ],
            [
             0.5,
             "#f7f7f7"
            ],
            [
             0.6,
             "#e6f5d0"
            ],
            [
             0.7,
             "#b8e186"
            ],
            [
             0.8,
             "#7fbc41"
            ],
            [
             0.9,
             "#4d9221"
            ],
            [
             1,
             "#276419"
            ]
           ],
           "sequential": [
            [
             0,
             "#0d0887"
            ],
            [
             0.1111111111111111,
             "#46039f"
            ],
            [
             0.2222222222222222,
             "#7201a8"
            ],
            [
             0.3333333333333333,
             "#9c179e"
            ],
            [
             0.4444444444444444,
             "#bd3786"
            ],
            [
             0.5555555555555556,
             "#d8576b"
            ],
            [
             0.6666666666666666,
             "#ed7953"
            ],
            [
             0.7777777777777778,
             "#fb9f3a"
            ],
            [
             0.8888888888888888,
             "#fdca26"
            ],
            [
             1,
             "#f0f921"
            ]
           ],
           "sequentialminus": [
            [
             0,
             "#0d0887"
            ],
            [
             0.1111111111111111,
             "#46039f"
            ],
            [
             0.2222222222222222,
             "#7201a8"
            ],
            [
             0.3333333333333333,
             "#9c179e"
            ],
            [
             0.4444444444444444,
             "#bd3786"
            ],
            [
             0.5555555555555556,
             "#d8576b"
            ],
            [
             0.6666666666666666,
             "#ed7953"
            ],
            [
             0.7777777777777778,
             "#fb9f3a"
            ],
            [
             0.8888888888888888,
             "#fdca26"
            ],
            [
             1,
             "#f0f921"
            ]
           ]
          },
          "colorway": [
           "#636efa",
           "#EF553B",
           "#00cc96",
           "#ab63fa",
           "#FFA15A",
           "#19d3f3",
           "#FF6692",
           "#B6E880",
           "#FF97FF",
           "#FECB52"
          ],
          "font": {
           "color": "#2a3f5f"
          },
          "geo": {
           "bgcolor": "white",
           "lakecolor": "white",
           "landcolor": "#E5ECF6",
           "showlakes": true,
           "showland": true,
           "subunitcolor": "white"
          },
          "hoverlabel": {
           "align": "left"
          },
          "hovermode": "closest",
          "mapbox": {
           "style": "light"
          },
          "paper_bgcolor": "white",
          "plot_bgcolor": "#E5ECF6",
          "polar": {
           "angularaxis": {
            "gridcolor": "white",
            "linecolor": "white",
            "ticks": ""
           },
           "bgcolor": "#E5ECF6",
           "radialaxis": {
            "gridcolor": "white",
            "linecolor": "white",
            "ticks": ""
           }
          },
          "scene": {
           "xaxis": {
            "backgroundcolor": "#E5ECF6",
            "gridcolor": "white",
            "gridwidth": 2,
            "linecolor": "white",
            "showbackground": true,
            "ticks": "",
            "zerolinecolor": "white"
           },
           "yaxis": {
            "backgroundcolor": "#E5ECF6",
            "gridcolor": "white",
            "gridwidth": 2,
            "linecolor": "white",
            "showbackground": true,
            "ticks": "",
            "zerolinecolor": "white"
           },
           "zaxis": {
            "backgroundcolor": "#E5ECF6",
            "gridcolor": "white",
            "gridwidth": 2,
            "linecolor": "white",
            "showbackground": true,
            "ticks": "",
            "zerolinecolor": "white"
           }
          },
          "shapedefaults": {
           "line": {
            "color": "#2a3f5f"
           }
          },
          "ternary": {
           "aaxis": {
            "gridcolor": "white",
            "linecolor": "white",
            "ticks": ""
           },
           "baxis": {
            "gridcolor": "white",
            "linecolor": "white",
            "ticks": ""
           },
           "bgcolor": "#E5ECF6",
           "caxis": {
            "gridcolor": "white",
            "linecolor": "white",
            "ticks": ""
           }
          },
          "title": {
           "x": 0.05
          },
          "xaxis": {
           "automargin": true,
           "gridcolor": "white",
           "linecolor": "white",
           "ticks": "",
           "title": {
            "standoff": 15
           },
           "zerolinecolor": "white",
           "zerolinewidth": 2
          },
          "yaxis": {
           "automargin": true,
           "gridcolor": "white",
           "linecolor": "white",
           "ticks": "",
           "title": {
            "standoff": 15
           },
           "zerolinecolor": "white",
           "zerolinewidth": 2
          }
         }
        },
        "title": {
         "text": "Distribution of labels (GEO=['texas', 'florida'])"
        },
        "xaxis": {
         "anchor": "y",
         "domain": [
          0,
          1
         ],
         "title": {
          "text": "Label"
         }
        },
        "yaxis": {
         "anchor": "x",
         "domain": [
          0,
          1
         ],
         "title": {
          "text": "Count"
         }
        }
       }
      }
     },
     "metadata": {},
     "output_type": "display_data"
    }
   ],
   "source": [
    "mbad_pcnt = df[df.label == \"mbad\"].shape[0] / df.shape[0]\n",
    "mgood_pcnt = df[df.label == \"mgood\"].shape[0] / df.shape[0]\n",
    "mbad_or_mgood_pcnt = df[df.label.isin([\"mbad\", \"mgood\"])].shape[0] / df.shape[0]\n",
    "print(\n",
    "    f\"mbad: {mbad_pcnt:.2%}, mgood: {mgood_pcnt:.2%}, mbad or mgood: {mbad_or_mgood_pcnt:.2%}\"\n",
    ")\n",
    "\n",
    "bar_vals = df.label.value_counts()\n",
    "\n",
    "fig = px.bar(\n",
    "    bar_vals,\n",
    "    x=bar_vals.index,\n",
    "    y=bar_vals.values,\n",
    "    title=f\"Distribution of labels (GEO={GEO})\",\n",
    "    labels={\"index\": \"Label\", \"y\": \"Count\"}\n",
    ")\n",
    "\n",
    "fig.show()"
   ]
  },
  {
   "attachments": {},
   "cell_type": "markdown",
   "metadata": {},
   "source": [
    "## Correlation filter helper function\n",
    "This function allows us to filter down to only include highly correlated features with the label."
   ]
  },
  {
   "cell_type": "code",
   "execution_count": 4,
   "metadata": {},
   "outputs": [],
   "source": [
    "def corr_filter(features, corr_thresh=0.05) -> pd.DataFrame:\n",
    "    \"\"\"Filter features based on correlation with label.\"\"\"\n",
    "\n",
    "    if corr_thresh is None:\n",
    "        return features\n",
    "\n",
    "    to_filter = features.copy()\n",
    "    \n",
    "    to_filter[\"review_id\"] = df.review_id\n",
    "    to_filter[\"label\"] = df.label\n",
    "\n",
    "    # drop na labels. Thanks Charlie :/\n",
    "    to_filter = to_filter.dropna(subset=[\"label\"])\n",
    "\n",
    "    # Turn labels into numbers\n",
    "    labels_list: list = to_filter.label.unique().tolist()\n",
    "    to_filter.label = to_filter.label.apply(lambda label: labels_list.index(label))\n",
    "\n",
    "    # calculate correlation of features with label\n",
    "    features_to_filter = to_filter.drop([\"review_id\", \"label\"], axis=1)\n",
    "    corrs = features_to_filter.corrwith(to_filter.label).sort_values(ascending=False)\n",
    "\n",
    "    # filter features\n",
    "    highly_correlated_features = corrs[corrs.abs() > corr_thresh].index\n",
    "    # drop features with nan correlation\n",
    "    highly_correlated_features = highly_correlated_features.dropna()\n",
    "\n",
    "    # filter features\n",
    "    print(f\"Features above correlation threshold ({corr_thresh}):\")\n",
    "    print(highly_correlated_features.tolist())\n",
    "    filtered = features[highly_correlated_features]\n",
    "    \n",
    "    return filtered"
   ]
  },
  {
   "attachments": {},
   "cell_type": "markdown",
   "metadata": {},
   "source": [
    "### Ngrams"
   ]
  },
  {
   "attachments": {},
   "cell_type": "markdown",
   "metadata": {},
   "source": [
    "What are the most common ngrams for the different types of reviews? What are the most common overlaps?"
   ]
  },
  {
   "cell_type": "code",
   "execution_count": 5,
   "metadata": {},
   "outputs": [],
   "source": [
    "def get_consecutive_ngrams(review, n) -> list:\n",
    "    \"\"\"Helper function to get ngrams from a review.\n",
    "\n",
    "    Args:\n",
    "        review (str): The review to get ngrams from.\n",
    "        n (int): The number of ngrams to get.\n",
    "\n",
    "    Returns:\n",
    "        list: the list of ngrams, joined by underscores.\n",
    "    \"\"\"\n",
    "    if isinstance(review, str):\n",
    "        review = review.split(\"\")\n",
    "\n",
    "    return [\"_\".join(review[i:i+n]) for i in range(len(review)-n-1)]\n",
    "\n",
    "def series_to_ngrams(series: pd.Series, N):\n",
    "    n_grams = series.apply(lambda x: get_consecutive_ngrams(x, N))\n",
    "    return n_grams.explode()\n",
    "\n",
    "def get_exclusive_sizes(good: set, bad: set, mgood: set, mbad: set) -> dict:\n",
    "    \"\"\"Get the sizes of the exclusive sets\"\"\"\n",
    "\n",
    "    only_good = good - bad - mgood - mbad\n",
    "    only_bad = bad - good - mgood - mbad\n",
    "    only_mgood = mgood - good - bad - mbad\n",
    "    only_mbad = mbad - good - bad - mgood\n",
    "    \n",
    "    return {\n",
    "        \"good\": len(only_good),\n",
    "        \"bad\": len(only_bad),\n",
    "        \"mgood\": len(only_mgood),\n",
    "        \"mbad\": len(only_mbad)\n",
    "    }"
   ]
  },
  {
   "attachments": {},
   "cell_type": "markdown",
   "metadata": {},
   "source": [
    "We can look at the number of unique values to each label for different values of N on a line chart."
   ]
  },
  {
   "cell_type": "code",
   "execution_count": 6,
   "metadata": {},
   "outputs": [
    {
     "data": {
      "application/vnd.plotly.v1+json": {
       "config": {
        "plotlyServerURL": "https://plot.ly"
       },
       "data": [
        {
         "hovertemplate": "label=bad<br>N-gram size=%{x}<br>Unique # of n-grams=%{y}<extra></extra>",
         "legendgroup": "bad",
         "line": {
          "color": "#636efa",
          "dash": "solid"
         },
         "marker": {
          "symbol": "circle"
         },
         "mode": "lines+markers",
         "name": "bad",
         "orientation": "v",
         "showlegend": true,
         "type": "scatter",
         "x": [
          1,
          2,
          3,
          4,
          5,
          6
         ],
         "xaxis": "x",
         "y": [
          387,
          5970,
          8193,
          8330,
          8260,
          8181
         ],
         "yaxis": "y"
        },
        {
         "hovertemplate": "label=mgood<br>N-gram size=%{x}<br>Unique # of n-grams=%{y}<extra></extra>",
         "legendgroup": "mgood",
         "line": {
          "color": "#EF553B",
          "dash": "solid"
         },
         "marker": {
          "symbol": "circle"
         },
         "mode": "lines+markers",
         "name": "mgood",
         "orientation": "v",
         "showlegend": true,
         "type": "scatter",
         "x": [
          1,
          2,
          3,
          4,
          5,
          6
         ],
         "xaxis": "x",
         "y": [
          235,
          4541,
          6795,
          7041,
          6984,
          6886
         ],
         "yaxis": "y"
        },
        {
         "hovertemplate": "label=mbad<br>N-gram size=%{x}<br>Unique # of n-grams=%{y}<extra></extra>",
         "legendgroup": "mbad",
         "line": {
          "color": "#00cc96",
          "dash": "solid"
         },
         "marker": {
          "symbol": "circle"
         },
         "mode": "lines+markers",
         "name": "mbad",
         "orientation": "v",
         "showlegend": true,
         "type": "scatter",
         "x": [
          1,
          2,
          3,
          4,
          5,
          6
         ],
         "xaxis": "x",
         "y": [
          634,
          9297,
          12856,
          13137,
          13040,
          12918
         ],
         "yaxis": "y"
        }
       ],
       "layout": {
        "legend": {
         "title": {
          "text": "label"
         },
         "tracegroupgap": 0
        },
        "template": {
         "data": {
          "bar": [
           {
            "error_x": {
             "color": "#2a3f5f"
            },
            "error_y": {
             "color": "#2a3f5f"
            },
            "marker": {
             "line": {
              "color": "#E5ECF6",
              "width": 0.5
             },
             "pattern": {
              "fillmode": "overlay",
              "size": 10,
              "solidity": 0.2
             }
            },
            "type": "bar"
           }
          ],
          "barpolar": [
           {
            "marker": {
             "line": {
              "color": "#E5ECF6",
              "width": 0.5
             },
             "pattern": {
              "fillmode": "overlay",
              "size": 10,
              "solidity": 0.2
             }
            },
            "type": "barpolar"
           }
          ],
          "carpet": [
           {
            "aaxis": {
             "endlinecolor": "#2a3f5f",
             "gridcolor": "white",
             "linecolor": "white",
             "minorgridcolor": "white",
             "startlinecolor": "#2a3f5f"
            },
            "baxis": {
             "endlinecolor": "#2a3f5f",
             "gridcolor": "white",
             "linecolor": "white",
             "minorgridcolor": "white",
             "startlinecolor": "#2a3f5f"
            },
            "type": "carpet"
           }
          ],
          "choropleth": [
           {
            "colorbar": {
             "outlinewidth": 0,
             "ticks": ""
            },
            "type": "choropleth"
           }
          ],
          "contour": [
           {
            "colorbar": {
             "outlinewidth": 0,
             "ticks": ""
            },
            "colorscale": [
             [
              0,
              "#0d0887"
             ],
             [
              0.1111111111111111,
              "#46039f"
             ],
             [
              0.2222222222222222,
              "#7201a8"
             ],
             [
              0.3333333333333333,
              "#9c179e"
             ],
             [
              0.4444444444444444,
              "#bd3786"
             ],
             [
              0.5555555555555556,
              "#d8576b"
             ],
             [
              0.6666666666666666,
              "#ed7953"
             ],
             [
              0.7777777777777778,
              "#fb9f3a"
             ],
             [
              0.8888888888888888,
              "#fdca26"
             ],
             [
              1,
              "#f0f921"
             ]
            ],
            "type": "contour"
           }
          ],
          "contourcarpet": [
           {
            "colorbar": {
             "outlinewidth": 0,
             "ticks": ""
            },
            "type": "contourcarpet"
           }
          ],
          "heatmap": [
           {
            "colorbar": {
             "outlinewidth": 0,
             "ticks": ""
            },
            "colorscale": [
             [
              0,
              "#0d0887"
             ],
             [
              0.1111111111111111,
              "#46039f"
             ],
             [
              0.2222222222222222,
              "#7201a8"
             ],
             [
              0.3333333333333333,
              "#9c179e"
             ],
             [
              0.4444444444444444,
              "#bd3786"
             ],
             [
              0.5555555555555556,
              "#d8576b"
             ],
             [
              0.6666666666666666,
              "#ed7953"
             ],
             [
              0.7777777777777778,
              "#fb9f3a"
             ],
             [
              0.8888888888888888,
              "#fdca26"
             ],
             [
              1,
              "#f0f921"
             ]
            ],
            "type": "heatmap"
           }
          ],
          "heatmapgl": [
           {
            "colorbar": {
             "outlinewidth": 0,
             "ticks": ""
            },
            "colorscale": [
             [
              0,
              "#0d0887"
             ],
             [
              0.1111111111111111,
              "#46039f"
             ],
             [
              0.2222222222222222,
              "#7201a8"
             ],
             [
              0.3333333333333333,
              "#9c179e"
             ],
             [
              0.4444444444444444,
              "#bd3786"
             ],
             [
              0.5555555555555556,
              "#d8576b"
             ],
             [
              0.6666666666666666,
              "#ed7953"
             ],
             [
              0.7777777777777778,
              "#fb9f3a"
             ],
             [
              0.8888888888888888,
              "#fdca26"
             ],
             [
              1,
              "#f0f921"
             ]
            ],
            "type": "heatmapgl"
           }
          ],
          "histogram": [
           {
            "marker": {
             "pattern": {
              "fillmode": "overlay",
              "size": 10,
              "solidity": 0.2
             }
            },
            "type": "histogram"
           }
          ],
          "histogram2d": [
           {
            "colorbar": {
             "outlinewidth": 0,
             "ticks": ""
            },
            "colorscale": [
             [
              0,
              "#0d0887"
             ],
             [
              0.1111111111111111,
              "#46039f"
             ],
             [
              0.2222222222222222,
              "#7201a8"
             ],
             [
              0.3333333333333333,
              "#9c179e"
             ],
             [
              0.4444444444444444,
              "#bd3786"
             ],
             [
              0.5555555555555556,
              "#d8576b"
             ],
             [
              0.6666666666666666,
              "#ed7953"
             ],
             [
              0.7777777777777778,
              "#fb9f3a"
             ],
             [
              0.8888888888888888,
              "#fdca26"
             ],
             [
              1,
              "#f0f921"
             ]
            ],
            "type": "histogram2d"
           }
          ],
          "histogram2dcontour": [
           {
            "colorbar": {
             "outlinewidth": 0,
             "ticks": ""
            },
            "colorscale": [
             [
              0,
              "#0d0887"
             ],
             [
              0.1111111111111111,
              "#46039f"
             ],
             [
              0.2222222222222222,
              "#7201a8"
             ],
             [
              0.3333333333333333,
              "#9c179e"
             ],
             [
              0.4444444444444444,
              "#bd3786"
             ],
             [
              0.5555555555555556,
              "#d8576b"
             ],
             [
              0.6666666666666666,
              "#ed7953"
             ],
             [
              0.7777777777777778,
              "#fb9f3a"
             ],
             [
              0.8888888888888888,
              "#fdca26"
             ],
             [
              1,
              "#f0f921"
             ]
            ],
            "type": "histogram2dcontour"
           }
          ],
          "mesh3d": [
           {
            "colorbar": {
             "outlinewidth": 0,
             "ticks": ""
            },
            "type": "mesh3d"
           }
          ],
          "parcoords": [
           {
            "line": {
             "colorbar": {
              "outlinewidth": 0,
              "ticks": ""
             }
            },
            "type": "parcoords"
           }
          ],
          "pie": [
           {
            "automargin": true,
            "type": "pie"
           }
          ],
          "scatter": [
           {
            "fillpattern": {
             "fillmode": "overlay",
             "size": 10,
             "solidity": 0.2
            },
            "type": "scatter"
           }
          ],
          "scatter3d": [
           {
            "line": {
             "colorbar": {
              "outlinewidth": 0,
              "ticks": ""
             }
            },
            "marker": {
             "colorbar": {
              "outlinewidth": 0,
              "ticks": ""
             }
            },
            "type": "scatter3d"
           }
          ],
          "scattercarpet": [
           {
            "marker": {
             "colorbar": {
              "outlinewidth": 0,
              "ticks": ""
             }
            },
            "type": "scattercarpet"
           }
          ],
          "scattergeo": [
           {
            "marker": {
             "colorbar": {
              "outlinewidth": 0,
              "ticks": ""
             }
            },
            "type": "scattergeo"
           }
          ],
          "scattergl": [
           {
            "marker": {
             "colorbar": {
              "outlinewidth": 0,
              "ticks": ""
             }
            },
            "type": "scattergl"
           }
          ],
          "scattermapbox": [
           {
            "marker": {
             "colorbar": {
              "outlinewidth": 0,
              "ticks": ""
             }
            },
            "type": "scattermapbox"
           }
          ],
          "scatterpolar": [
           {
            "marker": {
             "colorbar": {
              "outlinewidth": 0,
              "ticks": ""
             }
            },
            "type": "scatterpolar"
           }
          ],
          "scatterpolargl": [
           {
            "marker": {
             "colorbar": {
              "outlinewidth": 0,
              "ticks": ""
             }
            },
            "type": "scatterpolargl"
           }
          ],
          "scatterternary": [
           {
            "marker": {
             "colorbar": {
              "outlinewidth": 0,
              "ticks": ""
             }
            },
            "type": "scatterternary"
           }
          ],
          "surface": [
           {
            "colorbar": {
             "outlinewidth": 0,
             "ticks": ""
            },
            "colorscale": [
             [
              0,
              "#0d0887"
             ],
             [
              0.1111111111111111,
              "#46039f"
             ],
             [
              0.2222222222222222,
              "#7201a8"
             ],
             [
              0.3333333333333333,
              "#9c179e"
             ],
             [
              0.4444444444444444,
              "#bd3786"
             ],
             [
              0.5555555555555556,
              "#d8576b"
             ],
             [
              0.6666666666666666,
              "#ed7953"
             ],
             [
              0.7777777777777778,
              "#fb9f3a"
             ],
             [
              0.8888888888888888,
              "#fdca26"
             ],
             [
              1,
              "#f0f921"
             ]
            ],
            "type": "surface"
           }
          ],
          "table": [
           {
            "cells": {
             "fill": {
              "color": "#EBF0F8"
             },
             "line": {
              "color": "white"
             }
            },
            "header": {
             "fill": {
              "color": "#C8D4E3"
             },
             "line": {
              "color": "white"
             }
            },
            "type": "table"
           }
          ]
         },
         "layout": {
          "annotationdefaults": {
           "arrowcolor": "#2a3f5f",
           "arrowhead": 0,
           "arrowwidth": 1
          },
          "autotypenumbers": "strict",
          "coloraxis": {
           "colorbar": {
            "outlinewidth": 0,
            "ticks": ""
           }
          },
          "colorscale": {
           "diverging": [
            [
             0,
             "#8e0152"
            ],
            [
             0.1,
             "#c51b7d"
            ],
            [
             0.2,
             "#de77ae"
            ],
            [
             0.3,
             "#f1b6da"
            ],
            [
             0.4,
             "#fde0ef"
            ],
            [
             0.5,
             "#f7f7f7"
            ],
            [
             0.6,
             "#e6f5d0"
            ],
            [
             0.7,
             "#b8e186"
            ],
            [
             0.8,
             "#7fbc41"
            ],
            [
             0.9,
             "#4d9221"
            ],
            [
             1,
             "#276419"
            ]
           ],
           "sequential": [
            [
             0,
             "#0d0887"
            ],
            [
             0.1111111111111111,
             "#46039f"
            ],
            [
             0.2222222222222222,
             "#7201a8"
            ],
            [
             0.3333333333333333,
             "#9c179e"
            ],
            [
             0.4444444444444444,
             "#bd3786"
            ],
            [
             0.5555555555555556,
             "#d8576b"
            ],
            [
             0.6666666666666666,
             "#ed7953"
            ],
            [
             0.7777777777777778,
             "#fb9f3a"
            ],
            [
             0.8888888888888888,
             "#fdca26"
            ],
            [
             1,
             "#f0f921"
            ]
           ],
           "sequentialminus": [
            [
             0,
             "#0d0887"
            ],
            [
             0.1111111111111111,
             "#46039f"
            ],
            [
             0.2222222222222222,
             "#7201a8"
            ],
            [
             0.3333333333333333,
             "#9c179e"
            ],
            [
             0.4444444444444444,
             "#bd3786"
            ],
            [
             0.5555555555555556,
             "#d8576b"
            ],
            [
             0.6666666666666666,
             "#ed7953"
            ],
            [
             0.7777777777777778,
             "#fb9f3a"
            ],
            [
             0.8888888888888888,
             "#fdca26"
            ],
            [
             1,
             "#f0f921"
            ]
           ]
          },
          "colorway": [
           "#636efa",
           "#EF553B",
           "#00cc96",
           "#ab63fa",
           "#FFA15A",
           "#19d3f3",
           "#FF6692",
           "#B6E880",
           "#FF97FF",
           "#FECB52"
          ],
          "font": {
           "color": "#2a3f5f"
          },
          "geo": {
           "bgcolor": "white",
           "lakecolor": "white",
           "landcolor": "#E5ECF6",
           "showlakes": true,
           "showland": true,
           "subunitcolor": "white"
          },
          "hoverlabel": {
           "align": "left"
          },
          "hovermode": "closest",
          "mapbox": {
           "style": "light"
          },
          "paper_bgcolor": "white",
          "plot_bgcolor": "#E5ECF6",
          "polar": {
           "angularaxis": {
            "gridcolor": "white",
            "linecolor": "white",
            "ticks": ""
           },
           "bgcolor": "#E5ECF6",
           "radialaxis": {
            "gridcolor": "white",
            "linecolor": "white",
            "ticks": ""
           }
          },
          "scene": {
           "xaxis": {
            "backgroundcolor": "#E5ECF6",
            "gridcolor": "white",
            "gridwidth": 2,
            "linecolor": "white",
            "showbackground": true,
            "ticks": "",
            "zerolinecolor": "white"
           },
           "yaxis": {
            "backgroundcolor": "#E5ECF6",
            "gridcolor": "white",
            "gridwidth": 2,
            "linecolor": "white",
            "showbackground": true,
            "ticks": "",
            "zerolinecolor": "white"
           },
           "zaxis": {
            "backgroundcolor": "#E5ECF6",
            "gridcolor": "white",
            "gridwidth": 2,
            "linecolor": "white",
            "showbackground": true,
            "ticks": "",
            "zerolinecolor": "white"
           }
          },
          "shapedefaults": {
           "line": {
            "color": "#2a3f5f"
           }
          },
          "ternary": {
           "aaxis": {
            "gridcolor": "white",
            "linecolor": "white",
            "ticks": ""
           },
           "baxis": {
            "gridcolor": "white",
            "linecolor": "white",
            "ticks": ""
           },
           "bgcolor": "#E5ECF6",
           "caxis": {
            "gridcolor": "white",
            "linecolor": "white",
            "ticks": ""
           }
          },
          "title": {
           "x": 0.05
          },
          "xaxis": {
           "automargin": true,
           "gridcolor": "white",
           "linecolor": "white",
           "ticks": "",
           "title": {
            "standoff": 15
           },
           "zerolinecolor": "white",
           "zerolinewidth": 2
          },
          "yaxis": {
           "automargin": true,
           "gridcolor": "white",
           "linecolor": "white",
           "ticks": "",
           "title": {
            "standoff": 15
           },
           "zerolinecolor": "white",
           "zerolinewidth": 2
          }
         }
        },
        "title": {
         "text": "Unique # of ['texas', 'florida'] n-grams for each label"
        },
        "xaxis": {
         "anchor": "y",
         "domain": [
          0,
          1
         ],
         "title": {
          "text": "N-gram size"
         }
        },
        "yaxis": {
         "anchor": "x",
         "domain": [
          0,
          1
         ],
         "title": {
          "text": "Unique # of n-grams"
         }
        }
       }
      }
     },
     "metadata": {},
     "output_type": "display_data"
    }
   ],
   "source": [
    "import plotly.express as px\n",
    "\n",
    "intersection_sizes = []\n",
    "for n in [1, 2, 3, 4, 5, 6]:\n",
    "\n",
    "    good_ngrams = series_to_ngrams(df[df.label == \"good\"].comments, n).value_counts()\n",
    "    bad_ngrams = series_to_ngrams(df[df.label == \"bad\"].comments, n).value_counts()\n",
    "    mgood_ngrams = series_to_ngrams(df[df.label == \"mgood\"].comments, n).value_counts()\n",
    "    mbad_ngrams = series_to_ngrams(df[df.label == \"mbad\"].comments, n).value_counts()\n",
    "    intersection_sizes_n = get_exclusive_sizes(\n",
    "        set(good_ngrams.index),\n",
    "        set(bad_ngrams.index),\n",
    "        set(mgood_ngrams.index),\n",
    "        set(mbad_ngrams.index)\n",
    "    )\n",
    "\n",
    "    intersection_sizes_n[\"n\"] = n\n",
    "\n",
    "    intersection_sizes.append(intersection_sizes_n)\n",
    "\n",
    "\n",
    "# prepare data\n",
    "is_df = pd.DataFrame(intersection_sizes)\n",
    "is_df = is_df.melt(id_vars=\"n\", var_name=\"label\", value_name=\"count\")\n",
    "is_df[\"count\"] = is_df[\"count\"].astype(int)\n",
    "is_df[\"n\"] = is_df[\"n\"].astype(int)\n",
    "\n",
    "# exclude good \n",
    "is_df = is_df[is_df.label != \"good\"]\n",
    "\n",
    "# plot a line chart\n",
    "px.line(is_df, \n",
    "    x=\"n\", y=\"count\",\n",
    "    color=\"label\",\n",
    "    title=f\"Unique # of {GEO} n-grams for each label\", \n",
    "    labels={\"n\": \"N-gram size\", \"count\": \"Unique # of n-grams\"},\n",
    "    markers=True\n",
    "    )"
   ]
  },
  {
   "attachments": {},
   "cell_type": "markdown",
   "metadata": {},
   "source": [
    "We can see that the number of unique ngrams increases until about n=3, and then levels off. What are the top 10 3-grams for misleading reviews?"
   ]
  },
  {
   "cell_type": "code",
   "execution_count": 7,
   "metadata": {},
   "outputs": [
    {
     "name": "stdout",
     "output_type": "stream",
     "text": [
      "Top 10 most common 3-grams in misleading reviews:\n"
     ]
    },
    {
     "data": {
      "text/plain": [
       "[('within_walking_distance', 11),\n",
       " ('would_not_recommend', 10),\n",
       " ('made_u_feel', 4),\n",
       " ('living_room_furniture', 4),\n",
       " ('not_recommend_staying', 4),\n",
       " ('not_big_deal', 4),\n",
       " ('great_place_stay', 4),\n",
       " ('let_u_know', 4),\n",
       " ('not_work_not', 3),\n",
       " ('give_4_star', 3)]"
      ]
     },
     "execution_count": 7,
     "metadata": {},
     "output_type": "execute_result"
    }
   ],
   "source": [
    "import numpy as np\n",
    "from collections import Counter\n",
    "\n",
    "# get subset of misleading reviews\n",
    "subset = df[df.label.isin([\"mbad\", \"mgood\"])]\n",
    "\n",
    "# get groups of N consecutive words\n",
    "N = 3\n",
    "n_grams = series_to_ngrams(subset.comments, N).to_list()\n",
    "\n",
    "print(f\"Top 10 most common {N}-grams in misleading reviews:\")\n",
    "Counter(n_grams).most_common(10)"
   ]
  },
  {
   "attachments": {},
   "cell_type": "markdown",
   "metadata": {},
   "source": [
    "Now let's look at a word cloud of the N-grams in misleading reviews."
   ]
  },
  {
   "cell_type": "code",
   "execution_count": 8,
   "metadata": {},
   "outputs": [
    {
     "data": {
      "application/vnd.plotly.v1+json": {
       "config": {
        "plotlyServerURL": "https://plot.ly"
       },
       "data": [
        {
         "hovertemplate": "x: %{x}<br>y: %{y}<br>color: [%{z[0]}, %{z[1]}, %{z[2]}]<extra></extra>",
         "name": "0",
         "source": "data:image/png;base64,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",
         "type": "image",
         "xaxis": "x",
         "yaxis": "y"
        }
       ],
       "layout": {
        "height": 700,
        "template": {
         "data": {
          "bar": [
           {
            "error_x": {
             "color": "#2a3f5f"
            },
            "error_y": {
             "color": "#2a3f5f"
            },
            "marker": {
             "line": {
              "color": "#E5ECF6",
              "width": 0.5
             },
             "pattern": {
              "fillmode": "overlay",
              "size": 10,
              "solidity": 0.2
             }
            },
            "type": "bar"
           }
          ],
          "barpolar": [
           {
            "marker": {
             "line": {
              "color": "#E5ECF6",
              "width": 0.5
             },
             "pattern": {
              "fillmode": "overlay",
              "size": 10,
              "solidity": 0.2
             }
            },
            "type": "barpolar"
           }
          ],
          "carpet": [
           {
            "aaxis": {
             "endlinecolor": "#2a3f5f",
             "gridcolor": "white",
             "linecolor": "white",
             "minorgridcolor": "white",
             "startlinecolor": "#2a3f5f"
            },
            "baxis": {
             "endlinecolor": "#2a3f5f",
             "gridcolor": "white",
             "linecolor": "white",
             "minorgridcolor": "white",
             "startlinecolor": "#2a3f5f"
            },
            "type": "carpet"
           }
          ],
          "choropleth": [
           {
            "colorbar": {
             "outlinewidth": 0,
             "ticks": ""
            },
            "type": "choropleth"
           }
          ],
          "contour": [
           {
            "colorbar": {
             "outlinewidth": 0,
             "ticks": ""
            },
            "colorscale": [
             [
              0,
              "#0d0887"
             ],
             [
              0.1111111111111111,
              "#46039f"
             ],
             [
              0.2222222222222222,
              "#7201a8"
             ],
             [
              0.3333333333333333,
              "#9c179e"
             ],
             [
              0.4444444444444444,
              "#bd3786"
             ],
             [
              0.5555555555555556,
              "#d8576b"
             ],
             [
              0.6666666666666666,
              "#ed7953"
             ],
             [
              0.7777777777777778,
              "#fb9f3a"
             ],
             [
              0.8888888888888888,
              "#fdca26"
             ],
             [
              1,
              "#f0f921"
             ]
            ],
            "type": "contour"
           }
          ],
          "contourcarpet": [
           {
            "colorbar": {
             "outlinewidth": 0,
             "ticks": ""
            },
            "type": "contourcarpet"
           }
          ],
          "heatmap": [
           {
            "colorbar": {
             "outlinewidth": 0,
             "ticks": ""
            },
            "colorscale": [
             [
              0,
              "#0d0887"
             ],
             [
              0.1111111111111111,
              "#46039f"
             ],
             [
              0.2222222222222222,
              "#7201a8"
             ],
             [
              0.3333333333333333,
              "#9c179e"
             ],
             [
              0.4444444444444444,
              "#bd3786"
             ],
             [
              0.5555555555555556,
              "#d8576b"
             ],
             [
              0.6666666666666666,
              "#ed7953"
             ],
             [
              0.7777777777777778,
              "#fb9f3a"
             ],
             [
              0.8888888888888888,
              "#fdca26"
             ],
             [
              1,
              "#f0f921"
             ]
            ],
            "type": "heatmap"
           }
          ],
          "heatmapgl": [
           {
            "colorbar": {
             "outlinewidth": 0,
             "ticks": ""
            },
            "colorscale": [
             [
              0,
              "#0d0887"
             ],
             [
              0.1111111111111111,
              "#46039f"
             ],
             [
              0.2222222222222222,
              "#7201a8"
             ],
             [
              0.3333333333333333,
              "#9c179e"
             ],
             [
              0.4444444444444444,
              "#bd3786"
             ],
             [
              0.5555555555555556,
              "#d8576b"
             ],
             [
              0.6666666666666666,
              "#ed7953"
             ],
             [
              0.7777777777777778,
              "#fb9f3a"
             ],
             [
              0.8888888888888888,
              "#fdca26"
             ],
             [
              1,
              "#f0f921"
             ]
            ],
            "type": "heatmapgl"
           }
          ],
          "histogram": [
           {
            "marker": {
             "pattern": {
              "fillmode": "overlay",
              "size": 10,
              "solidity": 0.2
             }
            },
            "type": "histogram"
           }
          ],
          "histogram2d": [
           {
            "colorbar": {
             "outlinewidth": 0,
             "ticks": ""
            },
            "colorscale": [
             [
              0,
              "#0d0887"
             ],
             [
              0.1111111111111111,
              "#46039f"
             ],
             [
              0.2222222222222222,
              "#7201a8"
             ],
             [
              0.3333333333333333,
              "#9c179e"
             ],
             [
              0.4444444444444444,
              "#bd3786"
             ],
             [
              0.5555555555555556,
              "#d8576b"
             ],
             [
              0.6666666666666666,
              "#ed7953"
             ],
             [
              0.7777777777777778,
              "#fb9f3a"
             ],
             [
              0.8888888888888888,
              "#fdca26"
             ],
             [
              1,
              "#f0f921"
             ]
            ],
            "type": "histogram2d"
           }
          ],
          "histogram2dcontour": [
           {
            "colorbar": {
             "outlinewidth": 0,
             "ticks": ""
            },
            "colorscale": [
             [
              0,
              "#0d0887"
             ],
             [
              0.1111111111111111,
              "#46039f"
             ],
             [
              0.2222222222222222,
              "#7201a8"
             ],
             [
              0.3333333333333333,
              "#9c179e"
             ],
             [
              0.4444444444444444,
              "#bd3786"
             ],
             [
              0.5555555555555556,
              "#d8576b"
             ],
             [
              0.6666666666666666,
              "#ed7953"
             ],
             [
              0.7777777777777778,
              "#fb9f3a"
             ],
             [
              0.8888888888888888,
              "#fdca26"
             ],
             [
              1,
              "#f0f921"
             ]
            ],
            "type": "histogram2dcontour"
           }
          ],
          "mesh3d": [
           {
            "colorbar": {
             "outlinewidth": 0,
             "ticks": ""
            },
            "type": "mesh3d"
           }
          ],
          "parcoords": [
           {
            "line": {
             "colorbar": {
              "outlinewidth": 0,
              "ticks": ""
             }
            },
            "type": "parcoords"
           }
          ],
          "pie": [
           {
            "automargin": true,
            "type": "pie"
           }
          ],
          "scatter": [
           {
            "fillpattern": {
             "fillmode": "overlay",
             "size": 10,
             "solidity": 0.2
            },
            "type": "scatter"
           }
          ],
          "scatter3d": [
           {
            "line": {
             "colorbar": {
              "outlinewidth": 0,
              "ticks": ""
             }
            },
            "marker": {
             "colorbar": {
              "outlinewidth": 0,
              "ticks": ""
             }
            },
            "type": "scatter3d"
           }
          ],
          "scattercarpet": [
           {
            "marker": {
             "colorbar": {
              "outlinewidth": 0,
              "ticks": ""
             }
            },
            "type": "scattercarpet"
           }
          ],
          "scattergeo": [
           {
            "marker": {
             "colorbar": {
              "outlinewidth": 0,
              "ticks": ""
             }
            },
            "type": "scattergeo"
           }
          ],
          "scattergl": [
           {
            "marker": {
             "colorbar": {
              "outlinewidth": 0,
              "ticks": ""
             }
            },
            "type": "scattergl"
           }
          ],
          "scattermapbox": [
           {
            "marker": {
             "colorbar": {
              "outlinewidth": 0,
              "ticks": ""
             }
            },
            "type": "scattermapbox"
           }
          ],
          "scatterpolar": [
           {
            "marker": {
             "colorbar": {
              "outlinewidth": 0,
              "ticks": ""
             }
            },
            "type": "scatterpolar"
           }
          ],
          "scatterpolargl": [
           {
            "marker": {
             "colorbar": {
              "outlinewidth": 0,
              "ticks": ""
             }
            },
            "type": "scatterpolargl"
           }
          ],
          "scatterternary": [
           {
            "marker": {
             "colorbar": {
              "outlinewidth": 0,
              "ticks": ""
             }
            },
            "type": "scatterternary"
           }
          ],
          "surface": [
           {
            "colorbar": {
             "outlinewidth": 0,
             "ticks": ""
            },
            "colorscale": [
             [
              0,
              "#0d0887"
             ],
             [
              0.1111111111111111,
              "#46039f"
             ],
             [
              0.2222222222222222,
              "#7201a8"
             ],
             [
              0.3333333333333333,
              "#9c179e"
             ],
             [
              0.4444444444444444,
              "#bd3786"
             ],
             [
              0.5555555555555556,
              "#d8576b"
             ],
             [
              0.6666666666666666,
              "#ed7953"
             ],
             [
              0.7777777777777778,
              "#fb9f3a"
             ],
             [
              0.8888888888888888,
              "#fdca26"
             ],
             [
              1,
              "#f0f921"
             ]
            ],
            "type": "surface"
           }
          ],
          "table": [
           {
            "cells": {
             "fill": {
              "color": "#EBF0F8"
             },
             "line": {
              "color": "white"
             }
            },
            "header": {
             "fill": {
              "color": "#C8D4E3"
             },
             "line": {
              "color": "white"
             }
            },
            "type": "table"
           }
          ]
         },
         "layout": {
          "annotationdefaults": {
           "arrowcolor": "#2a3f5f",
           "arrowhead": 0,
           "arrowwidth": 1
          },
          "autotypenumbers": "strict",
          "coloraxis": {
           "colorbar": {
            "outlinewidth": 0,
            "ticks": ""
           }
          },
          "colorscale": {
           "diverging": [
            [
             0,
             "#8e0152"
            ],
            [
             0.1,
             "#c51b7d"
            ],
            [
             0.2,
             "#de77ae"
            ],
            [
             0.3,
             "#f1b6da"
            ],
            [
             0.4,
             "#fde0ef"
            ],
            [
             0.5,
             "#f7f7f7"
            ],
            [
             0.6,
             "#e6f5d0"
            ],
            [
             0.7,
             "#b8e186"
            ],
            [
             0.8,
             "#7fbc41"
            ],
            [
             0.9,
             "#4d9221"
            ],
            [
             1,
             "#276419"
            ]
           ],
           "sequential": [
            [
             0,
             "#0d0887"
            ],
            [
             0.1111111111111111,
             "#46039f"
            ],
            [
             0.2222222222222222,
             "#7201a8"
            ],
            [
             0.3333333333333333,
             "#9c179e"
            ],
            [
             0.4444444444444444,
             "#bd3786"
            ],
            [
             0.5555555555555556,
             "#d8576b"
            ],
            [
             0.6666666666666666,
             "#ed7953"
            ],
            [
             0.7777777777777778,
             "#fb9f3a"
            ],
            [
             0.8888888888888888,
             "#fdca26"
            ],
            [
             1,
             "#f0f921"
            ]
           ],
           "sequentialminus": [
            [
             0,
             "#0d0887"
            ],
            [
             0.1111111111111111,
             "#46039f"
            ],
            [
             0.2222222222222222,
             "#7201a8"
            ],
            [
             0.3333333333333333,
             "#9c179e"
            ],
            [
             0.4444444444444444,
             "#bd3786"
            ],
            [
             0.5555555555555556,
             "#d8576b"
            ],
            [
             0.6666666666666666,
             "#ed7953"
            ],
            [
             0.7777777777777778,
             "#fb9f3a"
            ],
            [
             0.8888888888888888,
             "#fdca26"
            ],
            [
             1,
             "#f0f921"
            ]
           ]
          },
          "colorway": [
           "#636efa",
           "#EF553B",
           "#00cc96",
           "#ab63fa",
           "#FFA15A",
           "#19d3f3",
           "#FF6692",
           "#B6E880",
           "#FF97FF",
           "#FECB52"
          ],
          "font": {
           "color": "#2a3f5f"
          },
          "geo": {
           "bgcolor": "white",
           "lakecolor": "white",
           "landcolor": "#E5ECF6",
           "showlakes": true,
           "showland": true,
           "subunitcolor": "white"
          },
          "hoverlabel": {
           "align": "left"
          },
          "hovermode": "closest",
          "mapbox": {
           "style": "light"
          },
          "paper_bgcolor": "white",
          "plot_bgcolor": "#E5ECF6",
          "polar": {
           "angularaxis": {
            "gridcolor": "white",
            "linecolor": "white",
            "ticks": ""
           },
           "bgcolor": "#E5ECF6",
           "radialaxis": {
            "gridcolor": "white",
            "linecolor": "white",
            "ticks": ""
           }
          },
          "scene": {
           "xaxis": {
            "backgroundcolor": "#E5ECF6",
            "gridcolor": "white",
            "gridwidth": 2,
            "linecolor": "white",
            "showbackground": true,
            "ticks": "",
            "zerolinecolor": "white"
           },
           "yaxis": {
            "backgroundcolor": "#E5ECF6",
            "gridcolor": "white",
            "gridwidth": 2,
            "linecolor": "white",
            "showbackground": true,
            "ticks": "",
            "zerolinecolor": "white"
           },
           "zaxis": {
            "backgroundcolor": "#E5ECF6",
            "gridcolor": "white",
            "gridwidth": 2,
            "linecolor": "white",
            "showbackground": true,
            "ticks": "",
            "zerolinecolor": "white"
           }
          },
          "shapedefaults": {
           "line": {
            "color": "#2a3f5f"
           }
          },
          "ternary": {
           "aaxis": {
            "gridcolor": "white",
            "linecolor": "white",
            "ticks": ""
           },
           "baxis": {
            "gridcolor": "white",
            "linecolor": "white",
            "ticks": ""
           },
           "bgcolor": "#E5ECF6",
           "caxis": {
            "gridcolor": "white",
            "linecolor": "white",
            "ticks": ""
           }
          },
          "title": {
           "x": 0.05
          },
          "xaxis": {
           "automargin": true,
           "gridcolor": "white",
           "linecolor": "white",
           "ticks": "",
           "title": {
            "standoff": 15
           },
           "zerolinecolor": "white",
           "zerolinewidth": 2
          },
          "yaxis": {
           "automargin": true,
           "gridcolor": "white",
           "linecolor": "white",
           "ticks": "",
           "title": {
            "standoff": 15
           },
           "zerolinecolor": "white",
           "zerolinewidth": 2
          }
         }
        },
        "title": {
         "text": "Most common 3-grams in misleading reviews"
        },
        "width": 700,
        "xaxis": {
         "anchor": "y",
         "domain": [
          0,
          1
         ],
         "visible": false
        },
        "yaxis": {
         "anchor": "x",
         "domain": [
          0,
          1
         ],
         "visible": false
        }
       }
      }
     },
     "metadata": {},
     "output_type": "display_data"
    }
   ],
   "source": [
    "from wordcloud import WordCloud\n",
    "from PIL import Image\n",
    "\n",
    "ngrams_str = \" \".join(n_grams)\n",
    "\n",
    "# make house-shaped mask\n",
    "mask = np.array(Image.open(\"../../house_shape.png\"))\n",
    "# fill transparent areas with white\n",
    "mask[mask[:, :, 3] == 0] = [255, 255, 255, 255]\n",
    "\n",
    "# generate wordcloud\n",
    "wc = WordCloud(\n",
    "    background_color=\"white\", \n",
    "    max_words=1000, \n",
    "    width=mask.shape[0]*5,\n",
    "    height=mask.shape[1]*5,\n",
    "    mask = mask,\n",
    "    contour_width=3,\n",
    "    contour_color='steelblue',\n",
    "    colormap=\"twilight_shifted\"\n",
    ").generate(ngrams_str)\n",
    "\n",
    "wc\n",
    "\n",
    "# show wordcloud\n",
    "fig = px.imshow(wc, title=f\"Most common {N}-grams in misleading reviews\", width=700, height=700)\n",
    "fig.update_xaxes(visible=False)\n",
    "fig.update_yaxes(visible=False)\n",
    "fig.show()"
   ]
  },
  {
   "attachments": {},
   "cell_type": "markdown",
   "metadata": {},
   "source": [
    "Here is a reusable function to add ngrams features to a dataframe."
   ]
  },
  {
   "cell_type": "code",
   "execution_count": 9,
   "metadata": {},
   "outputs": [],
   "source": [
    "def ngrams_features(n, prefix=\"ngrams_\", corr_thresh=0.05):\n",
    "    \"\"\"Add n-gram features to the features dataframe.\"\"\"\n",
    "\n",
    "    # one-hot encode ngrams\n",
    "    df[\"ngrams\"] = df.comments.apply(lambda x: set(get_consecutive_ngrams(x, 3)))\n",
    "\n",
    "    # get set of ngrams\n",
    "    ng_set = set(series_to_ngrams(subset.comments, n).to_list())\n",
    "\n",
    "    # one-hot encode ngrams\n",
    "    ngram_features = {}\n",
    "    for ngram in ng_set:\n",
    "        ngram_features[prefix + ngram] = df.ngrams.apply(lambda ngrams: 1 if ngram in ngrams else 0)\n",
    "    ngram_df = pd.DataFrame(ngram_features)\n",
    "    \n",
    "    # filter features on correlation with label\n",
    "    ngrams_df = corr_filter(ngram_df, corr_thresh=corr_thresh)\n",
    "\n",
    "    return ngrams_df"
   ]
  },
  {
   "cell_type": "code",
   "execution_count": 10,
   "metadata": {},
   "outputs": [],
   "source": [
    "# ngrams_features(3, prefix=\"ngrams_\", corr_thresh=0.09)"
   ]
  },
  {
   "attachments": {},
   "cell_type": "markdown",
   "metadata": {},
   "source": [
    "## \"Mentioned Amenities\" Features\n",
    "Was an amenity that was included in the listing mentioned in the review?"
   ]
  },
  {
   "attachments": {},
   "cell_type": "markdown",
   "metadata": {},
   "source": [
    "First, we need to do some cleaning amenities to make them easier to match."
   ]
  },
  {
   "cell_type": "code",
   "execution_count": 11,
   "metadata": {},
   "outputs": [],
   "source": [
    "import re\n",
    "\n",
    "def clean_amenities(amenities):\n",
    "    \"\"\"Clean the amenities column.\"\"\"\n",
    "\n",
    "    cleaned = []\n",
    "\n",
    "    # basic cleaning\n",
    "    for amenity in amenities:\n",
    "        # remove quotes\n",
    "        amenity = amenity.replace('\"', \"\")\n",
    "        # remove anything in parentheses or brackets\n",
    "        amenity = re.sub(r\"\\(.*\\)\", \"\", amenity)\n",
    "        amenity = re.sub(r\"\\[.*\\]\", \"\", amenity)\n",
    "        # strip whitespace\n",
    "        amenity = amenity.strip()\n",
    "        # lowercase\n",
    "        amenity = amenity.lower()\n",
    "        # remove curly brackets\n",
    "        amenity = amenity.replace(\"{\", \"\").replace(\"}\", \"\")\n",
    "\n",
    "\n",
    "        cleaned.append(amenity)\n",
    "\n",
    "    # split entries with a slash, \"and\", or \"or\"\n",
    "    for to_split_on in [\"/\", \" and \", \" or \"]:\n",
    "        cleaned = [amenity.split(to_split_on) for amenity in cleaned]\n",
    "        cleaned = [item.strip() for sublist in cleaned for item in sublist]\n",
    "\n",
    "    # remove empty strings\n",
    "    cleaned = [amenity for amenity in cleaned if amenity != \"\"]\n",
    "\n",
    "    return cleaned\n",
    "\n",
    "df.amenities = df.amenities.apply(clean_amenities)"
   ]
  },
  {
   "attachments": {},
   "cell_type": "markdown",
   "metadata": {},
   "source": [
    "Look at some examples of the cleaned amenities."
   ]
  },
  {
   "cell_type": "code",
   "execution_count": 12,
   "metadata": {},
   "outputs": [
    {
     "data": {
      "text/plain": [
       "['tv',\n",
       " 'internet',\n",
       " 'wifi',\n",
       " 'air conditioning',\n",
       " 'kitchen',\n",
       " 'free parking on premises',\n",
       " 'pets allowed',\n",
       " 'free street parking',\n",
       " 'heating',\n",
       " 'family',\n",
       " 'kid friendly',\n",
       " 'washer',\n",
       " 'dryer',\n",
       " 'smoke detector',\n",
       " 'essentials',\n",
       " 'shampoo',\n",
       " '24-hour check-in',\n",
       " 'hangers',\n",
       " 'hair dryer',\n",
       " 'iron',\n",
       " 'laptop friendly workspace',\n",
       " 'self check-in',\n",
       " 'keypad',\n",
       " 'private entrance',\n",
       " 'pack \\x89ûªn play',\n",
       " 'travel crib',\n",
       " 'hot water']"
      ]
     },
     "execution_count": 12,
     "metadata": {},
     "output_type": "execute_result"
    }
   ],
   "source": [
    "df.amenities.sample(1).values[0]"
   ]
  },
  {
   "attachments": {},
   "cell_type": "markdown",
   "metadata": {},
   "source": [
    "Calculate our amenities features, and look at the correlation between them and the label."
   ]
  },
  {
   "cell_type": "code",
   "execution_count": 13,
   "metadata": {},
   "outputs": [
    {
     "name": "stdout",
     "output_type": "stream",
     "text": [
      "Calculating amenities features with correlation threshold of 0.05\n",
      "Features above correlation threshold (0.05):\n",
      "['id', 'lockbox', 'pool', 'dishwasher', 'tv', 'keypad', 'kitchen', 'breakfast']\n"
     ]
    },
    {
     "data": {
      "text/html": [
       "<div>\n",
       "<style scoped>\n",
       "    .dataframe tbody tr th:only-of-type {\n",
       "        vertical-align: middle;\n",
       "    }\n",
       "\n",
       "    .dataframe tbody tr th {\n",
       "        vertical-align: top;\n",
       "    }\n",
       "\n",
       "    .dataframe thead th {\n",
       "        text-align: right;\n",
       "    }\n",
       "</style>\n",
       "<table border=\"1\" class=\"dataframe\">\n",
       "  <thead>\n",
       "    <tr style=\"text-align: right;\">\n",
       "      <th></th>\n",
       "      <th>lockbox</th>\n",
       "      <th>pool</th>\n",
       "      <th>dishwasher</th>\n",
       "      <th>tv</th>\n",
       "      <th>keypad</th>\n",
       "      <th>kitchen</th>\n",
       "      <th>breakfast</th>\n",
       "      <th>review_id</th>\n",
       "      <th>label</th>\n",
       "    </tr>\n",
       "  </thead>\n",
       "  <tbody>\n",
       "    <tr>\n",
       "      <th>0</th>\n",
       "      <td>0.0</td>\n",
       "      <td>0.0</td>\n",
       "      <td>0.0</td>\n",
       "      <td>0.0</td>\n",
       "      <td>0.0</td>\n",
       "      <td>0.0</td>\n",
       "      <td>0.0</td>\n",
       "      <td>83097</td>\n",
       "      <td>good</td>\n",
       "    </tr>\n",
       "    <tr>\n",
       "      <th>1</th>\n",
       "      <td>0.0</td>\n",
       "      <td>0.0</td>\n",
       "      <td>0.0</td>\n",
       "      <td>0.0</td>\n",
       "      <td>0.0</td>\n",
       "      <td>0.0</td>\n",
       "      <td>0.0</td>\n",
       "      <td>133337</td>\n",
       "      <td>good</td>\n",
       "    </tr>\n",
       "    <tr>\n",
       "      <th>2</th>\n",
       "      <td>0.0</td>\n",
       "      <td>0.0</td>\n",
       "      <td>0.0</td>\n",
       "      <td>0.0</td>\n",
       "      <td>0.0</td>\n",
       "      <td>1.0</td>\n",
       "      <td>0.0</td>\n",
       "      <td>150928</td>\n",
       "      <td>good</td>\n",
       "    </tr>\n",
       "    <tr>\n",
       "      <th>3</th>\n",
       "      <td>0.0</td>\n",
       "      <td>0.0</td>\n",
       "      <td>0.0</td>\n",
       "      <td>0.0</td>\n",
       "      <td>0.0</td>\n",
       "      <td>0.0</td>\n",
       "      <td>0.0</td>\n",
       "      <td>2706775</td>\n",
       "      <td>good</td>\n",
       "    </tr>\n",
       "    <tr>\n",
       "      <th>4</th>\n",
       "      <td>0.0</td>\n",
       "      <td>0.0</td>\n",
       "      <td>0.0</td>\n",
       "      <td>0.0</td>\n",
       "      <td>0.0</td>\n",
       "      <td>1.0</td>\n",
       "      <td>0.0</td>\n",
       "      <td>8602878</td>\n",
       "      <td>good</td>\n",
       "    </tr>\n",
       "  </tbody>\n",
       "</table>\n",
       "</div>"
      ],
      "text/plain": [
       "   lockbox  pool  dishwasher   tv  keypad  kitchen  breakfast  review_id label\n",
       "0      0.0   0.0         0.0  0.0     0.0      0.0        0.0      83097  good\n",
       "1      0.0   0.0         0.0  0.0     0.0      0.0        0.0     133337  good\n",
       "2      0.0   0.0         0.0  0.0     0.0      1.0        0.0     150928  good\n",
       "3      0.0   0.0         0.0  0.0     0.0      0.0        0.0    2706775  good\n",
       "4      0.0   0.0         0.0  0.0     0.0      1.0        0.0    8602878  good"
      ]
     },
     "execution_count": 13,
     "metadata": {},
     "output_type": "execute_result"
    }
   ],
   "source": [
    "def amenities_features(corr_thresh=None, prefix=\"amenities_\") -> pd.DataFrame:\n",
    "    print(f\"Calculating amenities features with correlation threshold of {corr_thresh}\")\n",
    "    amenities_features_df = pd.DataFrame()\n",
    "    # 1. Find the amenities in the listings\n",
    "    for index, row in df.iterrows():\n",
    "        # 1. Find the amenities in the listings\n",
    "        amenities = row.amenities\n",
    "\n",
    "        # Add a new row to amenities_features_df\n",
    "        amenities_features_df.loc[index, \"id\"] = index\n",
    "\n",
    "        # 2. For each amenity, see if it is present in the review\n",
    "        for amenity in amenities:\n",
    "            if amenity in row.comments:\n",
    "                # 3. If it is present, add 1 for that feature\n",
    "                if amenity in amenities_features_df.columns:\n",
    "                    amenities_features_df.loc[index, amenity] = 1\n",
    "                #   If the amenity does not already exist from another review, add it to the features dataframe\n",
    "                else:\n",
    "                    amenities_features_df.loc[index, amenity] = 0\n",
    "    \n",
    "    # 4. fill missing values with 0\n",
    "    amenities_features_df = amenities_features_df.fillna(0)\n",
    "\n",
    "    # 6. Only keep amenities features that have a correlation with the label above a certain threshold\n",
    "    amenities_features_df = corr_filter(amenities_features_df, corr_thresh=corr_thresh)\n",
    "\n",
    "    # drop id column\n",
    "    if \"id\" in amenities_features_df.columns:\n",
    "        amenities_features_df = amenities_features_df.drop(\"id\", axis=1)\n",
    "\n",
    "    # prefix features\n",
    "    amenities_features_df = amenities_features_df.add_prefix(prefix)\n",
    "\n",
    "    return amenities_features_df\n",
    "\n",
    "\n",
    "amen_features = amenities_features(corr_thresh=0.05, prefix=\"\")\n",
    "amen_features[\"review_id\"] = df.review_id\n",
    "amen_features[\"label\"] = df.label\n",
    "amen_features.head()"
   ]
  },
  {
   "cell_type": "code",
   "execution_count": 14,
   "metadata": {},
   "outputs": [
    {
     "data": {
      "text/plain": [
       "True"
      ]
     },
     "execution_count": 14,
     "metadata": {},
     "output_type": "execute_result"
    }
   ],
   "source": [
    "df.review_id.shape[0] == amen_features.review_id.shape[0]"
   ]
  },
  {
   "attachments": {},
   "cell_type": "markdown",
   "metadata": {},
   "source": [
    "Let's look at the amenities with the highest correlation to the label."
   ]
  },
  {
   "cell_type": "code",
   "execution_count": 15,
   "metadata": {},
   "outputs": [
    {
     "name": "stderr",
     "output_type": "stream",
     "text": [
      "C:\\Users\\grego\\AppData\\Local\\Temp\\ipykernel_19032\\3136741035.py:6: FutureWarning:\n",
      "\n",
      "The default value of numeric_only in DataFrame.corrwith is deprecated. In a future version, it will default to False. Select only valid columns or specify the value of numeric_only to silence this warning.\n",
      "\n"
     ]
    },
    {
     "data": {
      "text/plain": [
       "lockbox       0.090532\n",
       "pool          0.070985\n",
       "dishwasher    0.070433\n",
       "tv            0.055847\n",
       "keypad        0.055246\n",
       "kitchen       0.050689\n",
       "breakfast    -0.055234\n",
       "dtype: float64"
      ]
     },
     "execution_count": 15,
     "metadata": {},
     "output_type": "execute_result"
    }
   ],
   "source": [
    "# OHE labels\n",
    "labels_list: list = amen_features.label.unique().tolist()\n",
    "dummies = amen_features.label.apply(lambda label: labels_list.index(label))\n",
    "\n",
    "# calculate correlations with the label\n",
    "corrs = amen_features.drop(\"review_id\", axis=1).corrwith(dummies).sort_values(ascending=False)\n",
    "corrs"
   ]
  },
  {
   "attachments": {},
   "cell_type": "markdown",
   "metadata": {},
   "source": [
    "## Word Embeddings\n",
    "Another way to look at the data is to use word embeddings. We can use the word2vec model from gensim to create word embeddings for each word in the dataset. We can then take the average of all word vectors in a review to get a vector representation of the review. We will then reduce the dimensionality of the vectors using PCA."
   ]
  },
  {
   "cell_type": "code",
   "execution_count": 16,
   "metadata": {},
   "outputs": [],
   "source": [
    "from gensim.models.word2vec import Word2Vec\n",
    "from sklearn.decomposition import PCA\n",
    "from typing import Tuple\n",
    "\n",
    "def do_pca(features: pd.DataFrame, col: str, n_components: int) -> Tuple[np.ndarray, PCA]:\n",
    "    \"\"\"Perform PCA on embeddings.\"\"\"\n",
    "    print(f\"Performing PCA on {col} with {n_components} components\")\n",
    "    pca = PCA(n_components=n_components, random_state=42)\n",
    "    pca.fit(features)\n",
    "    pca_embeddings = pca.transform(features)\n",
    "\n",
    "    pca_features = pd.DataFrame()\n",
    "    for i in range(pca_embeddings.shape[1]):\n",
    "        pca_features[f\"pca_{n_components}D_{col}_{i}\"] = pca_embeddings[:, i]\n",
    "\n",
    "    return pca_features, pca\n",
    "\n",
    "def embeddings_features(emb_vector_size=300, col=\"comments\") -> Tuple[pd.DataFrame, Word2Vec]:\n",
    "\n",
    "    print(f\"Embedding {col} with vector size {emb_vector_size}\")\n",
    "\n",
    "    w2v = Word2Vec(\n",
    "            min_count=1,\n",
    "            vector_size=emb_vector_size,\n",
    "            workers=1,  # more workers make make the model non-deteministic, and we won't be able to save it to test on the test set\n",
    "            window=3, \n",
    "            sg=1\n",
    "        )\n",
    "    \n",
    "    w2v.build_vocab(df[col].to_list(), progress_per=1000)\n",
    "\n",
    "    w2v.train(df[col].to_list(), total_examples=w2v.corpus_count, epochs=w2v.epochs)\n",
    "    \n",
    "    # generate embeddings\n",
    "    get_review_embeddings = lambda review: np.mean([w2v.wv[word] for word in review if word in w2v.wv], axis=0)\n",
    "    embeddings = np.array([get_review_embeddings(review) for review in df[col].to_list()])\n",
    "    \n",
    "    # ignore DataFrame is highly fragmented.\n",
    "    pd.options.mode.chained_assignment = None\n",
    "\n",
    "    # add embeddings to features dataframe\n",
    "    embd_features = pd.DataFrame()\n",
    "    for i in range(embeddings.shape[1]):\n",
    "        embd_features[f\"embedding_{col}_{i}\"] = embeddings[:, i]\n",
    "\n",
    "    return embd_features, w2v"
   ]
  },
  {
   "attachments": {},
   "cell_type": "markdown",
   "metadata": {},
   "source": [
    "Let's try this out and visualize in 3D to see how well the reviews are separated by label."
   ]
  },
  {
   "cell_type": "code",
   "execution_count": 17,
   "metadata": {},
   "outputs": [
    {
     "name": "stdout",
     "output_type": "stream",
     "text": [
      "Embedding comments with vector size 300\n",
      "Performing PCA on comments with 3 components\n"
     ]
    },
    {
     "data": {
      "application/vnd.plotly.v1+json": {
       "config": {
        "plotlyServerURL": "https://plot.ly"
       },
       "data": [
        {
         "hovertemplate": "label=good<br>pca_3D_comments_0=%{x}<br>pca_3D_comments_1=%{y}<br>pca_3D_comments_2=%{z}<extra></extra>",
         "legendgroup": "good",
         "marker": {
          "color": "#636efa",
          "opacity": 0.5,
          "size": 2,
          "symbol": "circle"
         },
         "mode": "markers",
         "name": "good",
         "scene": "scene",
         "showlegend": true,
         "type": "scatter3d",
         "x": [
          -0.050672635436058044,
          -0.14106705784797668,
          0.009087598882615566,
          -0.24820731580257416,
          0.04324861988425255,
          -0.2185002714395523,
          -0.03664395958185196,
          -0.09948426485061646,
          -0.24838852882385254,
          0.13571268320083618,
          0.22874732315540314,
          -0.1248508170247078,
          0.22439567744731903,
          -0.07603602856397629,
          -0.025407185778021812,
          -0.2294345647096634,
          0.06593874841928482,
          -0.5077388882637024,
          0.024894768372178078,
          -0.14430801570415497,
          -0.061112623661756516,
          0.05267413705587387,
          0.045794203877449036,
          -0.053144074976444244,
          -0.12933982908725739,
          0.2235759198665619,
          -0.38505345582962036,
          -0.09027806669473648,
          0.04157138615846634,
          -0.23558321595191956,
          -0.2905953824520111,
          -0.02650812827050686,
          -0.04389286786317825,
          -0.000234355335123837,
          -0.1927080899477005,
          0.07429962605237961,
          -0.06834688782691956,
          0.01509048230946064,
          -0.3119320869445801,
          -0.25830087065696716,
          -0.34351417422294617,
          -0.07678133994340897,
          0.03929050266742706,
          0.19029971957206726,
          -0.026403723284602165,
          0.05800330266356468,
          -0.08724164217710495,
          0.07054128497838974,
          0.05450000986456871,
          -0.11401758342981339,
          -0.27019283175468445,
          0.014246398583054543,
          -0.07925444096326828,
          -0.15780122578144073,
          0.02560301125049591,
          -0.0011450203601270914,
          -0.037897657603025436,
          0.0961650162935257,
          0.11510743945837021,
          0.3376806080341339,
          -0.04845844581723213,
          0.20737960934638977,
          -0.04584735631942749,
          -0.0810459554195404,
          0.07866189628839493,
          -0.04748433828353882,
          -0.08841023594141006,
          -0.19078408181667328,
          -0.16618071496486664,
          0.013349727727472782,
          -0.020998744294047356,
          0.002208728576079011,
          0.15829819440841675,
          0.0665958821773529,
          0.10745058208703995,
          0.09615237265825272,
          -0.2562774419784546,
          -0.04882624372839928,
          0.011227639392018318,
          -0.18880890309810638,
          0.11907362937927246,
          -0.5566370487213135,
          -0.06365865468978882,
          -0.25206708908081055,
          0.0010100926738232374,
          -0.1668151468038559,
          -0.35354185104370117,
          -0.11257963627576828,
          -0.14462147653102875,
          0.1198534145951271,
          0.15746824443340302,
          -0.09301625937223434,
          0.09273224323987961,
          0.11126771569252014,
          0.11691068857908249,
          0.05583811178803444,
          0.11921029537916183,
          0.10335849225521088,
          -0.008729743771255016,
          -0.035234250128269196,
          -0.01313526276499033,
          0.10749541968107224,
          0.14323283731937408,
          0.003103806870058179,
          0.024576673284173012,
          -0.14059089124202728,
          0.1770121306180954,
          0.10535893589258194,
          -0.2748798727989197,
          0.023417918011546135,
          -0.2701777517795563,
          0.09434141218662262,
          0.005910199601203203,
          0.1161121129989624,
          -0.03978338837623596,
          -0.07393262535333633,
          0.08671510964632034,
          0.2988128364086151,
          0.24831123650074005,
          0.1986483335494995,
          0.2534683644771576,
          0.23836614191532135,
          -0.06340457499027252,
          -0.25504082441329956,
          -0.5033251643180847,
          -0.1114894449710846,
          -0.08726006001234055,
          -0.0646551176905632,
          -0.11075206100940704,
          0.10583537817001343,
          -0.14680153131484985,
          -0.12511146068572998,
          -0.2156268060207367,
          -0.0013077170588076115,
          -0.31552693247795105,
          -0.5949679017066956,
          -0.11501161754131317,
          -0.08123224228620529,
          0.19372063875198364,
          0.1892341524362564,
          0.7955340147018433,
          -0.1482705920934677,
          0.024764230474829674,
          -0.1311997026205063,
          0.021980376914143562,
          -0.05637890845537186,
          0.7009209394454956,
          -0.3690204918384552,
          0.021595528349280357,
          -0.43644458055496216,
          -0.027499176561832428,
          -0.04056357964873314,
          -0.1529151350259781,
          -0.06023292616009712,
          -0.03790102154016495,
          0.053612589836120605,
          0.17209765315055847,
          0.2190525382757187,
          -0.0776011198759079,
          0.12226244062185287,
          0.26174497604370117,
          0.8737478256225586,
          -0.11654780060052872,
          -0.10060647130012512,
          0.08661062270402908,
          0.034710049629211426,
          -0.3533633351325989,
          -0.1732277274131775,
          -0.10154956579208374,
          -0.12276989221572876,
          0.09132374078035355,
          -0.06363382190465927,
          0.011332488618791103,
          -0.02996089495718479,
          -0.08382011950016022,
          -0.041757732629776,
          0.06259847432374954,
          0.04189906641840935,
          0.043967150151729584,
          0.0223136804997921,
          0.012612519785761833,
          -0.007997872307896614,
          0.19622264802455902,
          0.21897824108600616,
          0.05857522413134575,
          -0.2009238451719284,
          -0.2799290418624878,
          0.7544323801994324,
          0.8261037468910217,
          0.08026018738746643,
          0.315769761800766,
          -0.1353914588689804,
          -0.13440406322479248,
          0.13088522851467133,
          -0.24731142818927765,
          -0.04289383813738823,
          0.08487570285797119,
          -0.010105615481734276,
          -0.023572027683258057,
          -0.12152319401502609,
          -0.15369375050067902,
          -0.34163326025009155,
          -0.019540732726454735,
          -0.02928379364311695,
          -0.10404114425182343,
          0.05513744801282883,
          -0.07662747800350189,
          -0.06903303414583206,
          -0.012092825025320053,
          -0.10248586535453796,
          -0.1133573055267334,
          -0.1554688811302185,
          0.12450950592756271,
          0.10673518478870392,
          0.21697941422462463,
          -0.2965248227119446,
          0.015786703675985336,
          -0.05840728059411049,
          0.12293629348278046,
          -0.08797777444124222,
          0.21090058982372284,
          -0.10860694944858551,
          0.048514220863580704,
          0.09188497811555862,
          -0.15120820701122284,
          -0.16444364190101624,
          0.1350870430469513,
          0.04277883097529411,
          0.12791697680950165,
          -0.06549295783042908,
          -0.054166119545698166,
          -0.02560695819556713,
          -0.12114336341619492,
          -0.09661545604467392,
          0.2587984800338745,
          0.3528563380241394,
          0.0010522326920181513,
          -0.07654038816690445,
          0.14453549683094025,
          -0.06622491031885147,
          0.2186872512102127,
          0.0029090112075209618,
          0.1664532572031021,
          -0.07054682075977325,
          -0.5500631928443909,
          -0.11810391396284103,
          -0.0027445307932794094,
          -0.08836027979850769,
          0.04648466408252716,
          -0.1545039415359497,
          0.152821347117424,
          -0.05159047618508339,
          -0.304751992225647,
          -0.001539847464300692,
          -0.24149785935878754,
          -0.10821795463562012,
          -0.08586842566728592,
          -0.05157870799303055,
          -0.5662168264389038,
          -0.2245272397994995,
          -0.05396498367190361,
          -0.11855752766132355,
          -0.015695922076702118,
          0.03828966245055199,
          0.11979725956916809,
          -0.14307135343551636,
          -0.2252633273601532,
          0.2774142324924469,
          0.05627543106675148,
          -0.06911451369524002,
          0.1895522177219391,
          -0.15761277079582214,
          -0.436143696308136,
          -0.08650309592485428,
          0.0235290490090847,
          0.04346141964197159,
          0.10905418545007706,
          0.0057199932634830475,
          0.24034011363983154,
          -0.12763644754886627,
          -0.2550049126148224,
          -0.2979377508163452,
          -0.3900547921657562,
          0.12572573125362396,
          0.002836788073182106,
          -0.005420690402388573,
          0.03368630260229111,
          -0.3125321865081787,
          0.04455970600247383,
          -0.0006217212066985667,
          0.02835990861058235,
          0.09602854400873184,
          0.06130964308977127,
          0.0001748253416735679,
          0.03519923612475395,
          0.07998049259185791,
          0.16198913753032684,
          0.030718492344021797,
          -0.006315418519079685,
          0.00647715013474226,
          0.05467763543128967,
          -0.25622719526290894,
          0.004325926769524813,
          -0.16882173717021942,
          0.12364417314529419,
          -0.13120527565479279,
          -0.3220987021923065,
          -0.1248839944601059,
          0.27583175897598267,
          0.31796520948410034,
          -0.09000522643327713,
          0.07708185911178589,
          -0.037977710366249084,
          -0.09968667477369308,
          0.40477684140205383,
          -0.09128352254629135,
          -0.08148076385259628,
          -0.06230304390192032,
          -0.10745102167129517,
          0.22234266996383667,
          -0.06609237194061279,
          0.26544517278671265,
          -0.11223150044679642,
          0.2960602343082428,
          -0.057174161076545715,
          0.07747438549995422,
          -0.12811842560768127,
          -0.11294492334127426,
          0.11452596634626389,
          -0.22282233834266663,
          -0.09557893127202988,
          0.08725742250680923,
          -0.025917652994394302,
          -0.18895961344242096,
          0.11302638053894043,
          0.22980394959449768,
          0.11655782163143158,
          0.10566669702529907,
          -0.11110624670982361,
          -0.2576576769351959,
          -0.1314765363931656,
          -0.1879291981458664,
          -0.18510878086090088,
          -0.022104570642113686,
          -0.39923709630966187,
          0.14141620695590973,
          0.1063433438539505,
          -0.1012706607580185,
          -0.0076432363130152225,
          -0.1498016119003296,
          0.17146140336990356,
          -0.14831139147281647,
          0.1641719490289688,
          0.11962546408176422,
          0.09360777586698532,
          -0.1707780659198761,
          -0.06078250706195831,
          0.06934322416782379,
          -0.16827550530433655,
          0.060291122645139694,
          -0.13398045301437378,
          -0.22272518277168274,
          -0.0409262478351593,
          0.2045266032218933,
          -0.00005989340570522472,
          -0.0363415963947773,
          -0.2449711561203003,
          0.07610415667295456,
          0.06154133751988411,
          -0.039352793246507645,
          0.026363210752606392,
          -0.095937579870224,
          -0.16295307874679565,
          -0.016311725601553917,
          -0.12247336655855179,
          -0.007901474833488464,
          -0.015493803657591343,
          -0.3051770329475403,
          -0.06146688386797905,
          0.019276149570941925,
          0.10982455313205719,
          -0.08338622748851776,
          -0.08419382572174072,
          -0.0011593836825340986,
          0.02296406775712967,
          -0.11441051959991455,
          -0.08163592964410782,
          -0.09931658953428268,
          -0.21508587896823883,
          -0.08226588368415833,
          0.12776881456375122,
          -0.09834903478622437,
          -0.008321956731379032,
          0.0074862828478217125,
          0.03744595870375633,
          -0.08379413932561874,
          -0.05005495995283127,
          0.0005972082726657391,
          0.14752216637134552,
          0.06467009335756302,
          0.22603237628936768,
          0.1304285079240799,
          0.0669645443558693,
          -0.2142106145620346,
          -0.09725929796695709,
          0.011184491217136383,
          -0.2161216139793396,
          0.04003850743174553,
          0.14962242543697357,
          0.08691804856061935,
          -0.18643395602703094,
          -0.18237267434597015,
          0.32013413310050964,
          0.054032716900110245,
          -0.15125860273838043,
          -0.12885691225528717,
          0.06046183779835701,
          -0.18143437802791595,
          -0.14444713294506073,
          0.18196769058704376,
          -0.07425352931022644,
          0.1553034633398056,
          0.4350331723690033,
          -0.14897306263446808,
          0.18561667203903198,
          -0.41411900520324707,
          0.24158281087875366,
          -0.09403601288795471,
          -0.14616714417934418,
          -0.1421651989221573,
          0.10695411264896393,
          -0.39302778244018555,
          -0.08412590622901917,
          -0.13191676139831543,
          -0.04816383868455887,
          0.049705252051353455,
          -0.27211424708366394,
          -0.11815926432609558,
          -0.2579977214336395,
          -0.21822762489318848,
          -0.41196033358573914,
          -0.38760507106781006,
          -0.07969631999731064,
          0.21126814186573029,
          0.06187519431114197,
          0.044358670711517334,
          -0.11069174855947495,
          0.0480273962020874,
          0.10288693010807037,
          0.08855978399515152,
          0.06643790006637573,
          -0.19362585246562958,
          -0.38436269760131836,
          -0.023828132078051567,
          -0.010462271049618721,
          -0.2591858506202698,
          -0.21109215915203094,
          -0.3198043406009674,
          -0.24994809925556183,
          -0.2947903871536255,
          0.2754365801811218,
          -0.2923339605331421,
          -0.33536475896835327,
          0.2583615779876709,
          -0.34294065833091736,
          -0.07725486904382706,
          0.0816238522529602,
          -0.04583549126982689,
          0.09559796750545502,
          -0.07250424474477768,
          0.16005805134773254,
          0.17569772899150848,
          -0.07680448144674301,
          -0.034523557871580124,
          -0.1310672014951706,
          -0.1749846339225769,
          -0.15030412375926971,
          -0.0273212268948555,
          -0.2956576645374298,
          -0.11415918916463852,
          -0.11415918916463852,
          -0.11415918916463852,
          0.07106037437915802,
          -0.016143811866641045,
          0.11252342164516449,
          0.13391824066638947,
          0.1217997744679451,
          0.18078193068504333,
          0.125030979514122,
          -0.16376827657222748,
          0.051346100866794586,
          0.05255717411637306,
          -0.20177125930786133,
          0.04340634495019913,
          -0.1489688605070114,
          -0.13298562169075012,
          -0.38451266288757324,
          -0.2456958144903183,
          0.2281149923801422,
          -0.35579589009284973,
          -0.0029766117222607136,
          -0.15452755987644196,
          -0.07241224497556686,
          -0.06876545399427414,
          -0.12353212386369705,
          -0.023816246539354324,
          0.14696316421031952,
          -0.16933302581310272,
          -0.09891505539417267,
          0.22311259806156158,
          0.14720776677131653,
          -0.044120945036411285,
          -0.22455041110515594,
          -0.3458688259124756,
          -0.19708482921123505,
          0.13645467162132263,
          -0.16839294135570526,
          -0.05493656545877457,
          0.08493828773498535,
          0.025219164788722992,
          -0.24370664358139038,
          -0.03716730698943138,
          -0.23543906211853027,
          -0.3166472911834717,
          -0.187654048204422,
          -0.4206262528896332,
          -0.09163637459278107,
          -0.14835122227668762,
          0.06079899147152901,
          -0.06797681003808975,
          0.003235224634408951,
          0.03587481752038002,
          -0.12704510986804962,
          -0.40902218222618103,
          0.13495579361915588,
          -0.19095580279827118,
          0.18570713698863983,
          -0.13942168653011322,
          0.08638165891170502,
          -0.26989030838012695,
          -0.013931426219642162,
          0.15621279180049896,
          -0.09879818558692932,
          -0.14033326506614685,
          0.022163938730955124,
          -0.07013407349586487,
          -0.2216036468744278,
          0.0881982371211052,
          0.08724208176136017,
          0.0621153824031353,
          -0.2970751225948334,
          -0.00008285701915156096,
          -0.24544157087802887,
          -0.25473275780677795,
          -0.026109319180250168,
          -0.06989533454179764,
          -0.33713269233703613,
          -0.07232441753149033,
          -0.43106260895729065,
          -0.06225701421499252,
          -0.0025915722362697124,
          -0.18306241929531097,
          -0.10360004007816315,
          0.07323447614908218,
          -0.08903240412473679,
          0.12289407849311829,
          -0.0515277273952961,
          0.04134301468729973,
          -0.06098349764943123,
          -0.1480293571949005,
          -0.041772305965423584,
          -0.08281620591878891,
          0.12725941836833954,
          0.0392601303756237,
          0.031671371310949326,
          -0.28113406896591187,
          -0.00691781472414732,
          -0.3239804208278656,
          0.13444197177886963,
          -0.085050567984581,
          0.1571292281150818,
          0.11554491519927979,
          0.07267442345619202,
          -0.3264008164405823,
          -0.3049790561199188,
          -0.03726476803421974,
          -0.05113837867975235,
          -0.2203129678964615,
          0.10376737266778946,
          0.15295866131782532,
          0.05475619435310364,
          0.06325270980596542,
          0.12766452133655548,
          -0.21463817358016968,
          -0.07859855890274048,
          -0.056325092911720276,
          -0.1602533757686615,
          -0.04810796678066254,
          -0.00603231368586421,
          -0.09074407815933228,
          -0.06759253889322281,
          -0.021053094416856766,
          0.132054403424263,
          -0.06333664059638977,
          -0.17755791544914246,
          -0.15103453397750854,
          -0.28619861602783203,
          -0.10038091242313385,
          0.035556282848119736,
          0.14096933603286743,
          0.24876974523067474,
          0.12402444332838058,
          0.19786469638347626,
          -0.0819522961974144,
          0.1677175611257553,
          0.1657876819372177,
          0.005360929295420647,
          0.03196120262145996,
          -0.09720604866743088,
          -0.08611730486154556,
          0.13801059126853943,
          -0.021723875775933266,
          -0.10110737383365631,
          -0.1742132604122162,
          -0.23589372634887695,
          -0.10832245647907257,
          -0.10669521987438202,
          0.03995030000805855,
          0.08327309042215347,
          0.3397495448589325,
          -0.3169644773006439,
          0.17104050517082214,
          -0.1520131379365921,
          -0.2300853580236435,
          -0.11219633370637894,
          -0.09788864105939865,
          -0.2052830159664154,
          -0.04016399756073952,
          -0.08660664409399033,
          0.18654610216617584,
          0.21046221256256104,
          0.17496876418590546,
          0.2122730314731598,
          -0.009138562716543674,
          -0.1619156002998352,
          -0.27591225504875183,
          -0.074083112180233,
          -0.09467378258705139,
          -0.030235223472118378,
          -0.22589027881622314,
          0.038901571184396744,
          -0.23466405272483826,
          -0.12246959656476974,
          0.06226613000035286,
          -0.08791379630565643,
          -0.04246187210083008,
          0.13051636517047882,
          0.08045283704996109,
          -0.19030123949050903,
          -0.15361587703227997,
          -0.08007462322711945,
          -0.3370332419872284,
          0.035258762538433075,
          0.12319929152727127,
          0.15318450331687927,
          0.2213740050792694,
          0.019022243097424507,
          -0.07746738195419312,
          -0.04679371789097786,
          -0.11657218635082245,
          0.008988878689706326,
          -0.19463442265987396,
          -0.2967681586742401,
          -0.13739855587482452,
          -0.1343236267566681,
          -0.04488283768296242,
          -0.05393693223595619,
          -0.1754494309425354,
          0.08319015800952911,
          0.11832966655492783,
          0.19034653902053833,
          -0.293468713760376,
          -0.17406399548053741,
          0.058400895446538925,
          0.14028814435005188,
          0.38459983468055725,
          -0.12919914722442627,
          0.09239199012517929,
          0.08673302084207535,
          -0.2586251199245453,
          -0.01984790712594986,
          -0.12261853367090225,
          -0.09333113580942154,
          -0.13754026591777802,
          -0.07587145268917084,
          -0.08577604591846466,
          -0.06387525796890259,
          0.13298854231834412,
          -0.050604239106178284,
          0.12397432327270508,
          -0.41578778624534607,
          -0.05717889219522476,
          0.03978823125362396,
          -0.09051338583230972,
          -0.054711390286684036,
          -0.42763248085975647,
          -0.20155353844165802,
          -0.06986965984106064,
          0.07258099317550659,
          0.14596246182918549,
          -0.08331949263811111,
          -0.03825202211737633,
          0.08603229373693466,
          -0.0019383475882932544,
          -0.04991639032959938,
          0.03627099469304085,
          -0.013957490213215351,
          -0.3267955482006073,
          -0.09509000927209854,
          0.04283210262656212,
          0.07410302013158798,
          -0.1880810260772705,
          -0.22961309552192688,
          -0.12398278713226318,
          -0.03125455603003502,
          0.006751349661499262,
          -0.048816949129104614,
          -0.09913462400436401,
          -0.07931867241859436,
          -0.23573414981365204,
          -0.1938847452402115,
          0.01130670215934515,
          -0.05141057074069977,
          0.001021309639327228,
          0.015056398697197437,
          -0.18083670735359192,
          0.15233054757118225,
          -0.12986645102500916,
          -0.01576494798064232,
          0.025828000158071518,
          0.057137735188007355,
          -0.04250895604491234,
          -0.037017758935689926,
          0.013762866146862507,
          -0.05455274134874344,
          -0.2145361751317978,
          -0.07931867241859436,
          -0.04128754138946533,
          -0.0955345407128334,
          0.05911501497030258,
          0.0876656025648117,
          0.08824697881937027,
          0.12594598531723022,
          0.0644145980477333,
          0.041788507252931595,
          -0.06001957878470421,
          -0.017616646364331245,
          0.05310164391994476,
          -0.13525550067424774,
          0.11869301646947861,
          -0.12645301222801208,
          -0.030070699751377106,
          0.017690706998109818,
          0.0017360959900543094,
          -0.1214669942855835,
          -0.0767889991402626,
          -0.048946935683488846,
          -0.14934314787387848,
          -0.05306033790111542,
          -0.03438567370176315,
          -0.2057390809059143,
          0.014314127154648304,
          -0.02895909920334816,
          -0.13197536766529083,
          -0.10644695162773132,
          -0.10964951664209366,
          0.10269033163785934,
          -0.5091038346290588,
          -0.3165138065814972,
          0.10493425279855728,
          -0.11129342764616013,
          -0.1078711673617363,
          -0.21425682306289673,
          -0.2393701821565628,
          -0.012493535876274109,
          -0.010426144115626812,
          0.0193548072129488,
          -0.26672428846359253,
          -0.017887424677610397,
          -0.2929662764072418,
          -0.3128410279750824,
          -0.002051343908533454,
          -0.06182173267006874,
          0.08348353952169418,
          -0.15281808376312256,
          -0.005422219634056091,
          -0.0672992616891861,
          -0.10339876264333725,
          -0.1483398824930191,
          -0.1436423808336258,
          -0.20188380777835846,
          0.10977945476770401,
          -0.3354860246181488,
          -0.4037030041217804,
          0.06459794193506241,
          -0.3312967121601105,
          0.09984306246042252,
          0.22687575221061707,
          -0.0008211195236071944,
          -0.06316470354795456,
          0.013204148039221764,
          0.16309088468551636,
          0.2728166878223419,
          -0.008731727488338947,
          0.037846874445676804,
          0.15495024621486664,
          0.006022987421602011,
          0.08978331834077835,
          0.05651671066880226,
          0.04855602979660034,
          0.08809839189052582,
          0.03472521901130676,
          -0.04194481670856476,
          0.13582934439182281,
          -0.1809554249048233,
          -0.04613957554101944,
          -0.08206541836261749,
          0.06893880665302277,
          0.2704763114452362,
          -0.17035023868083954,
          -0.19233247637748718,
          -0.0005419785156846046,
          -0.02493363805115223,
          0.1983211487531662,
          -0.07539404928684235,
          0.027283577248454094,
          -0.09610806405544281,
          -0.17608056962490082,
          0.1229998916387558,
          0.04687673971056938,
          0.09971325844526291,
          -0.37674185633659363,
          -0.11353233456611633,
          0.4926784038543701,
          0.1559271663427353,
          -0.15573479235172272,
          -0.024972140789031982,
          -0.26167774200439453,
          -0.015290353447198868,
          0.25350257754325867,
          -0.16215698421001434,
          -0.05945255234837532,
          -0.11260822415351868,
          0.07122407108545303,
          -0.05725395306944847,
          0.17568422853946686,
          -0.016627946868538857,
          -0.0815596804022789,
          -0.1237836554646492,
          -0.05588766932487488,
          0.023884452879428864,
          -0.02339838072657585,
          -0.019346706569194794,
          0.02943558618426323,
          -0.10316001623868942,
          -0.1939854621887207,
          -0.07212908565998077,
          0.06428524106740952,
          -0.05963951721787453,
          0.096980519592762,
          0.06874042749404907,
          0.07573825865983963,
          -0.13060510158538818,
          -0.13060510158538818,
          -0.08260873705148697,
          -0.08260873705148697,
          0.07384871691465378,
          0.07384871691465378,
          0.02110101282596588,
          0.02110101282596588,
          -0.32737046480178833,
          -0.32737046480178833,
          -0.15011364221572876,
          -0.15011364221572876,
          0.06983970105648041,
          0.06983970105648041,
          -0.35802051424980164,
          -0.35802051424980164,
          -0.1936134248971939,
          -0.1936134248971939,
          -0.11844731867313385,
          -0.17519791424274445,
          -0.06967857480049133,
          -0.06967857480049133,
          0.05685798451304436,
          0.05685798451304436,
          0.002768370322883129,
          0.002768370322883129,
          0.19838134944438934,
          0.19838134944438934,
          -0.11106380820274353,
          -0.11106380820274353,
          -0.13374002277851105,
          -0.47962915897369385,
          0.23878341913223267,
          0.16439808905124664,
          0.16162635385990143,
          0.09294752776622772,
          0.1167801097035408,
          -0.01872267574071884,
          0.027904348447918892,
          -0.29120925068855286,
          -0.021599069237709045,
          0.09055614471435547,
          -0.19809377193450928,
          0.05889871343970299,
          -0.26427143812179565,
          -0.20615875720977783,
          -0.3117679953575134,
          -0.025357669219374657,
          0.09495880454778671,
          -0.059111338108778,
          -0.06701792031526566,
          0.014964910224080086,
          -0.11261533945798874,
          0.03458469361066818,
          0.1374288946390152,
          0.04673352837562561,
          -0.011210951022803783,
          -0.0009665719699114561,
          -0.07807488739490509,
          0.10226891934871674,
          0.02269444800913334,
          0.18204981088638306,
          0.25003790855407715,
          -0.05465846136212349,
          -0.2456369698047638,
          -0.12895677983760834,
          0.09289202094078064,
          -0.1723637878894806,
          0.0014851823216304183,
          0.11964904516935349,
          0.009572658687829971,
          -0.2237180769443512,
          -0.01991915889084339,
          -0.19751285016536713,
          -0.045805323868989944,
          -0.09562397748231888,
          0.08321376889944077,
          0.07977843284606934,
          -0.003825695952400565,
          -0.1936795860528946,
          -0.07524221390485764,
          0.0243739765137434,
          -0.02320018596947193,
          -0.039266545325517654,
          -0.1463872194290161,
          -0.0492500439286232,
          0.04645083099603653,
          -0.13541637361049652,
          -0.14991329610347748,
          -0.20702244341373444,
          -0.07747476547956467,
          -0.23103877902030945,
          -0.07809284329414368,
          0.14277134835720062,
          -0.1782255619764328,
          -0.3371746838092804,
          0.13373760879039764,
          -0.16673681139945984,
          0.187300905585289,
          -0.05367199331521988,
          0.04125117510557175,
          -0.12021439522504807,
          -0.2448698878288269,
          -0.13213951885700226,
          -0.28518277406692505,
          -0.18737515807151794,
          -0.4109780788421631,
          -0.2650545835494995,
          0.05760277435183525,
          0.11168079078197479,
          0.549570620059967,
          -0.06324480473995209,
          0.16768282651901245,
          0.05851533263921738,
          -0.03971559926867485,
          0.10435710102319717,
          -0.1905929148197174,
          -0.11928693950176239,
          0.1051446944475174,
          -0.019380325451493263,
          0.1651904433965683,
          0.08076444268226624,
          -0.1374243199825287,
          0.14608794450759888,
          0.0790192112326622,
          -0.3275563716888428,
          -0.03446124866604805,
          0.06019990146160126,
          -0.0972120612859726,
          -0.22003290057182312,
          0.2109479010105133,
          0.0841451957821846,
          -0.08136863261461258,
          0.08941742777824402,
          0.05776379257440567,
          0.12562182545661926,
          0.18137715756893158,
          0.03314487636089325,
          -0.13435833156108856,
          -0.1438448578119278,
          -0.015352089889347553,
          -0.14471180737018585,
          -0.15186618268489838,
          -0.2005830854177475,
          -0.23740391433238983,
          0.22657762467861176,
          0.16591612994670868,
          -0.11536800861358643,
          0.1156269907951355,
          0.2105121910572052,
          0.023394392803311348,
          -0.044212158769369125,
          -0.12690716981887817,
          0.07513949275016785,
          -0.004059925209730864,
          0.09092103689908981,
          -0.012974457815289497,
          -0.072337307035923,
          -0.1571754366159439,
          -0.1237131804227829,
          0.03706291317939758,
          0.19645492732524872,
          -0.027088433504104614,
          0.06863845139741898,
          -0.006686360575258732,
          0.04893730208277702,
          0.1342911422252655,
          0.03866158053278923,
          -0.03646675869822502,
          -0.2010781466960907,
          0.08538585156202316,
          -0.16025666892528534,
          -0.05249260738492012,
          0.14814645051956177,
          -0.00880386307835579,
          0.1416338086128235,
          -0.08337849378585815,
          0.10455384105443954,
          -0.026979178190231323,
          0.11615148931741714,
          0.14506755769252777,
          -0.2153063863515854,
          0.2095353901386261,
          0.03421102836728096,
          -0.13709481060504913,
          -0.16324782371520996,
          0.2950473427772522,
          0.11450940370559692,
          0.23480618000030518,
          0.003759327344596386,
          -0.19461514055728912,
          -0.360158234834671,
          -0.012482759542763233,
          0.149112731218338,
          -0.04693134129047394,
          -0.1583438366651535,
          -0.1605827957391739,
          0.030098803341388702,
          0.21655315160751343,
          -0.14437158405780792,
          0.06301704794168472,
          -0.246964693069458,
          0.07149168848991394,
          -0.020265385508537292,
          -0.2915566563606262,
          0.019319094717502594,
          -0.16679257154464722,
          0.08358334004878998,
          -0.137039914727211,
          -0.03508412837982178,
          0.07474751025438309,
          -0.2481442093849182,
          0.10645221918821335,
          0.053026579320430756,
          -0.04752038046717644,
          -0.013065923936665058,
          -0.0900300070643425,
          0.14678159356117249,
          -0.08324266970157623,
          0.026974119246006012,
          0.0008681459003128111,
          -0.03723378852009773,
          0.5933188796043396,
          -0.04174584895372391,
          -0.0901358351111412,
          0.2997199296951294,
          0.16603465378284454,
          -0.026302358135581017,
          -0.035547539591789246,
          0.08075346052646637,
          -0.18929706513881683,
          -0.11533307284116745,
          -0.3609088063240051,
          -0.1607658416032791,
          -0.026019273325800896,
          0.0752614215016365,
          -0.14145852625370026,
          -0.27035364508628845,
          0.1369057595729828,
          0.0969395712018013,
          -0.46548527479171753,
          -0.004772618878632784,
          0.10537297278642654,
          -0.04468875750899315,
          0.034694649279117584,
          -0.067140594124794,
          0.22205674648284912,
          -0.12907543778419495,
          -0.0579783171415329,
          -0.21544604003429413,
          0.04628947004675865,
          0.028708582744002342,
          0.04189619421958923,
          -0.08451436460018158,
          0.090786412358284,
          0.26069000363349915,
          0.14106348156929016,
          0.12287069112062454,
          -0.07701686769723892,
          -0.03346845880150795,
          -0.04879915714263916,
          0.08342023938894272,
          -0.09927049279212952,
          -0.11371717602014542,
          0.006232960149645805,
          0.0395568422973156,
          0.03801333159208298,
          -0.08552155643701553,
          -0.18185576796531677,
          0.03205837681889534,
          0.2439693957567215,
          0.0650763288140297,
          0.061421703547239304,
          -0.08074932545423508,
          -0.026363404467701912,
          -0.14493727684020996,
          0.06750576198101044,
          -0.20245018601417542,
          -0.03643665835261345,
          -0.39556920528411865,
          -0.39295920729637146,
          0.14120571315288544,
          -0.02891744300723076,
          -0.026493247598409653,
          -0.06780607253313065,
          0.012024570256471634,
          -0.04943232610821724,
          0.0016744245076552033,
          0.050738438963890076,
          -0.15667511522769928,
          -0.3170934021472931,
          0.2090579867362976,
          0.08161944895982742,
          -0.3531152606010437,
          -0.15397796034812927,
          -0.12244661152362823,
          0.05308441072702408,
          0.040580812841653824,
          -0.10698296129703522,
          -0.22597575187683105,
          0.13379240036010742,
          0.19533900916576385,
          -0.13814769685268402,
          0.07967683672904968,
          -0.0031401310116052628,
          0.0824432522058487,
          -0.09691052883863449,
          0.08586115390062332,
          -0.32725751399993896,
          -0.3408970832824707,
          -0.12963758409023285,
          0.1689828485250473,
          0.05774975195527077,
          0.13135071098804474,
          0.1535012274980545,
          -0.045794568955898285,
          0.15341676771640778,
          -0.09869438409805298,
          0.17120082676410675,
          0.06606870889663696,
          -0.06254485994577408,
          -0.10594337433576584,
          -0.004511608742177486,
          0.19664748013019562,
          -0.08456705510616302,
          0.1359378695487976,
          -0.012284800410270691,
          0.15748991072177887,
          0.07589644193649292,
          0.1229957789182663,
          0.0719606950879097,
          0.1288800686597824,
          -0.1343335658311844,
          0.14546015858650208,
          0.00587649829685688,
          -0.07526171207427979,
          0.00551160192117095,
          0.10899274796247482,
          -0.03678033873438835,
          0.05660189688205719,
          0.0633213073015213,
          -0.27516260743141174,
          -0.22286352515220642,
          -0.06350021809339523,
          0.000010534861758060288,
          0.10295717418193817,
          0.059583909809589386,
          -0.3360869288444519,
          -0.1713213324546814,
          0.09575413912534714,
          0.14222367107868195,
          -0.03132845088839531,
          0.0004310580261517316,
          -0.011259768158197403,
          -0.09873988479375839,
          -0.18142083287239075,
          -0.01143964845687151,
          -0.1092788353562355,
          -0.06411879509687424,
          -0.1500733345746994,
          -0.24400365352630615,
          -0.03815997391939163,
          -0.160841703414917,
          -0.06250882893800735
         ],
         "y": [
          -0.08167374134063721,
          0.20414990186691284,
          -0.1178794875741005,
          -0.1414213925600052,
          -0.043721508234739304,
          0.1058725118637085,
          -0.0014337633037939668,
          -0.03041764535009861,
          0.1496986299753189,
          -0.03667599707841873,
          -0.37736624479293823,
          0.0300939679145813,
          0.13417354226112366,
          0.09639102220535278,
          0.10877875238656998,
          0.05164562538266182,
          -0.26654377579689026,
          0.15537665784358978,
          0.009163818322122097,
          0.23309765756130219,
          0.14209574460983276,
          -0.15007220208644867,
          -0.18029658496379852,
          0.12992249429225922,
          -0.1682853102684021,
          0.019406704232096672,
          0.19977134466171265,
          0.23304198682308197,
          -0.1189483031630516,
          -0.04840460419654846,
          -0.012222770601511002,
          -0.11637064069509506,
          0.04238681495189667,
          -0.15889596939086914,
          0.121598981320858,
          0.0761055126786232,
          0.08521055430173874,
          0.11923752725124359,
          -0.16597364842891693,
          -0.05508030205965042,
          0.12574274837970734,
          0.07148220390081406,
          -0.255253404378891,
          -0.10034767538309097,
          0.0776914730668068,
          0.024058155715465546,
          0.08182723075151443,
          0.14688685536384583,
          0.13924159109592438,
          0.10969141125679016,
          0.24002724885940552,
          -0.07580684870481491,
          0.07014919817447662,
          0.24476554989814758,
          0.14057327806949615,
          -0.06700305640697479,
          -0.28579503297805786,
          -0.11674703657627106,
          0.07680492103099823,
          0.04432392120361328,
          -0.06467343121767044,
          0.053909748792648315,
          -0.004754343070089817,
          -0.0032085080165416002,
          0.04105672240257263,
          -0.08619341254234314,
          -0.02323591150343418,
          -0.09383314847946167,
          0.013562814332544804,
          0.1225903332233429,
          -0.18732036650180817,
          0.04158415272831917,
          0.035480450838804245,
          -0.04377194494009018,
          -0.3198641836643219,
          0.07855498790740967,
          0.1981317102909088,
          -0.14166398346424103,
          -0.0944899395108223,
          0.07575428485870361,
          -0.023416560143232346,
          0.18526974320411682,
          -0.007139569614082575,
          -0.040902506560087204,
          -0.125567227602005,
          0.0035673952661454678,
          0.21062061190605164,
          -0.020349496975541115,
          0.08256347477436066,
          -0.005258102901279926,
          0.00858780462294817,
          -0.036046352237463,
          0.05804375559091568,
          -0.08993881940841675,
          0.07737090438604355,
          -0.01107211597263813,
          -0.06032704934477806,
          -0.0428646020591259,
          -0.06149473041296005,
          0.049441948533058167,
          -0.08689820766448975,
          -0.10079645365476608,
          -0.0481991246342659,
          0.06520704180002213,
          -0.03964510187506676,
          0.026698600500822067,
          -0.03964123874902725,
          -0.1373613327741623,
          -0.16414611041545868,
          0.026078330352902412,
          -0.006145787891000509,
          -0.005848691798746586,
          0.21025292575359344,
          0.2718861997127533,
          -0.13688905537128448,
          -0.07592837512493134,
          -0.09273956716060638,
          0.20577317476272583,
          0.16011571884155273,
          0.13325530290603638,
          0.0652557834982872,
          0.027112038806080818,
          0.06644453853368759,
          0.19288142025470734,
          -0.07764357328414917,
          0.06599058210849762,
          0.09432048350572586,
          0.04950378090143204,
          -0.031093021854758263,
          -0.20227380096912384,
          0.08199350535869598,
          0.022534139454364777,
          -0.0742831602692604,
          0.021153826266527176,
          -0.2408139407634735,
          0.3853885531425476,
          -0.04035932198166847,
          -0.0605020672082901,
          0.030597023665905,
          -0.1028570830821991,
          0.4841109812259674,
          0.04505864158272743,
          0.0871671587228775,
          -0.038609303534030914,
          0.2595529854297638,
          -0.07999247312545776,
          0.5078995823860168,
          -0.2282041609287262,
          -0.008273584768176079,
          0.45897597074508667,
          -0.019406089559197426,
          -0.09736305475234985,
          -0.07556936889886856,
          -0.044056691229343414,
          0.04444152116775513,
          -0.050240594893693924,
          -0.08288710564374924,
          -0.01664353720843792,
          0.24215100705623627,
          0.18174108862876892,
          0.10139131546020508,
          0.5124826431274414,
          0.07496855407953262,
          -0.07985695451498032,
          -0.0027701195795089006,
          0.011068884283304214,
          -0.0299620870500803,
          0.122373566031456,
          0.11728071421384811,
          0.16988620162010193,
          0.10154472291469574,
          0.09268523752689362,
          0.004642773419618607,
          0.055360097438097,
          -0.10157977789640427,
          0.08612944185733795,
          -0.08552392572164536,
          -0.08916541188955307,
          0.13193273544311523,
          0.00933469831943512,
          0.17015649378299713,
          0.018541701138019562,
          0.01701822131872177,
          -0.0001739049330353737,
          0.048558708280324936,
          0.01731089875102043,
          0.2847233712673187,
          0.5308177471160889,
          0.5330961346626282,
          0.0565088614821434,
          0.15911366045475006,
          -0.003245402593165636,
          0.04661839082837105,
          -0.04317762330174446,
          0.2893470227718353,
          0.0888257548213005,
          -0.025624193251132965,
          -0.13779830932617188,
          -0.2283533662557602,
          0.0006300012464635074,
          -0.02102554403245449,
          0.22780446708202362,
          -0.07983586192131042,
          0.01892394945025444,
          -0.09928403049707413,
          -0.11396297812461853,
          -0.1745368093252182,
          0.06347360461950302,
          -0.013089722953736782,
          0.24429439008235931,
          0.246867373585701,
          0.001394356950186193,
          -0.08772359043359756,
          0.172248974442482,
          0.2130691558122635,
          0.07037916779518127,
          -0.08186572790145874,
          -0.13901115953922272,
          0.02490047924220562,
          0.058327868580818176,
          0.09227795153856277,
          -0.0036983515601605177,
          -0.044274602085351944,
          -0.12360837310552597,
          -0.08621934056282043,
          0.031132547184824944,
          -0.05661848187446594,
          0.06625925749540329,
          0.04105932638049126,
          0.008154936134815216,
          -0.0563272163271904,
          0.11398313194513321,
          -0.011080404743552208,
          0.038578007370233536,
          0.14689713716506958,
          0.3169686496257782,
          -0.05449539050459862,
          0.14765788614749908,
          0.07327526807785034,
          -0.060286007821559906,
          -0.008861878886818886,
          -0.2077784240245819,
          0.02551804855465889,
          0.008272041566669941,
          0.0963246300816536,
          -0.13329017162322998,
          0.10284143686294556,
          0.06936587393283844,
          0.04004988819360733,
          0.10635826736688614,
          -0.0409836582839489,
          -0.007598595228046179,
          0.12238405644893646,
          0.3506353795528412,
          0.04519588127732277,
          0.23950861394405365,
          0.22034946084022522,
          -0.14103420078754425,
          0.1696171760559082,
          -0.05334489792585373,
          -0.06403984874486923,
          -0.09454287588596344,
          -0.05508444458246231,
          0.08542222529649734,
          0.02951730601489544,
          0.10587599873542786,
          -0.219109907746315,
          0.15300817787647247,
          -0.0333266444504261,
          -0.08607496321201324,
          0.24907714128494263,
          0.26104554533958435,
          0.20092061161994934,
          0.09257648140192032,
          0.06430524587631226,
          0.04597673565149307,
          -0.030368784442543983,
          0.029845084995031357,
          0.11830705404281616,
          0.1091856062412262,
          -0.33553680777549744,
          0.03311075270175934,
          -0.35923632979393005,
          -0.1153591200709343,
          -0.09590641409158707,
          0.09839357435703278,
          0.15010710060596466,
          -0.24195267260074615,
          -0.14150948822498322,
          -0.16014601290225983,
          -0.1694978028535843,
          -0.017688749358057976,
          0.0879233255982399,
          0.15382841229438782,
          0.05726306140422821,
          -0.1908237785100937,
          -0.050382014364004135,
          -0.003491977695375681,
          0.06853524595499039,
          -0.2379845380783081,
          -0.006652331445366144,
          -0.059056077152490616,
          0.012064668349921703,
          0.09403683990240097,
          -0.11784794926643372,
          -0.026725463569164276,
          -0.014069860801100731,
          0.0984761044383049,
          0.09376872330904007,
          0.13369806110858917,
          -0.00733350683003664,
          -0.08694743365049362,
          -0.024320732802152634,
          -0.09368107467889786,
          0.14197389781475067,
          0.10178535431623459,
          -0.05820494890213013,
          -0.17915499210357666,
          -0.11687543243169785,
          0.08370013535022736,
          -0.0529722236096859,
          0.08628243207931519,
          0.10614710301160812,
          -0.03569819778203964,
          0.11546292155981064,
          0.11803245544433594,
          0.1639002412557602,
          0.016424044966697693,
          0.0521041564643383,
          0.015430889092385769,
          -0.06619858741760254,
          0.027165722101926804,
          0.01023495476692915,
          -0.19496284425258636,
          -0.08154559135437012,
          -0.3592052161693573,
          -0.21116860210895538,
          0.11081237345933914,
          0.0440419502556324,
          0.03347112610936165,
          -0.0011563545558601618,
          0.11404755711555481,
          0.0484902448952198,
          0.24798761308193207,
          0.39228206872940063,
          -0.03895296901464462,
          -0.10888417065143585,
          -0.15775708854198456,
          -0.06299372762441635,
          -0.031466223299503326,
          -0.2859768569469452,
          -0.06328346580266953,
          0.0126624945551157,
          -0.13591858744621277,
          0.0740034356713295,
          -0.1940707117319107,
          -0.05846443027257919,
          -0.09491003304719925,
          0.06380543112754822,
          -0.04132551699876785,
          -0.17027896642684937,
          0.16036038100719452,
          -0.206161230802536,
          0.0005780947394669056,
          -0.2117607742547989,
          -0.08567377924919128,
          -0.03601347655057907,
          -0.07464873045682907,
          0.1359996795654297,
          -0.03961963206529617,
          -0.04392926022410393,
          0.0914354994893074,
          0.0941312238574028,
          0.15892085433006287,
          0.07291156053543091,
          0.20234915614128113,
          0.05539242923259735,
          0.3431266248226166,
          -0.14598782360553741,
          -0.2026035487651825,
          -0.17673811316490173,
          0.005227727349847555,
          0.15015703439712524,
          0.21999339759349823,
          -0.052049025893211365,
          0.155329629778862,
          0.14151886105537415,
          -0.017918245866894722,
          0.009361626580357552,
          -0.03599085286259651,
          0.09397287666797638,
          0.08153468370437622,
          0.09649154543876648,
          -0.024705538526177406,
          0.03420773893594742,
          -0.10485541075468063,
          0.394223690032959,
          0.07854200899600983,
          -0.11500738561153412,
          -0.04338075593113899,
          0.04867010563611984,
          -0.17365391552448273,
          0.026958702132105827,
          -0.21379625797271729,
          0.034068334847688675,
          0.06961540132761002,
          0.016092173755168915,
          -0.23028862476348877,
          -0.1411694437265396,
          -0.24610665440559387,
          0.17436829209327698,
          0.038005147129297256,
          -0.1228584349155426,
          0.09438366442918777,
          0.08955185115337372,
          0.14262646436691284,
          -0.12959739565849304,
          -0.041877664625644684,
          0.10552755743265152,
          0.036303721368312836,
          0.12239966541528702,
          0.0022513249423354864,
          0.19350102543830872,
          -0.16612684726715088,
          0.07623482495546341,
          0.03021998517215252,
          -0.1723296046257019,
          0.14527995884418488,
          -0.1577189415693283,
          0.18749389052391052,
          0.24629463255405426,
          -0.13670478761196136,
          0.004034507554024458,
          0.16517268121242523,
          -0.10125594586133957,
          -0.25555381178855896,
          0.027835151180624962,
          0.17387549579143524,
          -0.02939424104988575,
          0.11021273583173752,
          0.303745836019516,
          0.23422519862651825,
          0.014057094231247902,
          0.013815454207360744,
          -0.09304942190647125,
          0.001961632166057825,
          -0.07482809573411942,
          -0.18608804047107697,
          -0.06910289824008942,
          0.1705491691827774,
          -0.13215138018131256,
          0.12182819843292236,
          0.13435833156108856,
          -0.07578517496585846,
          -0.12438587844371796,
          0.007452523335814476,
          0.11019860953092575,
          -0.21571560204029083,
          0.0708688274025917,
          0.06473620980978012,
          0.15117494761943817,
          0.07385751605033875,
          -0.01042070984840393,
          0.04022441804409027,
          0.023099903017282486,
          0.1971329301595688,
          -0.16998380422592163,
          -0.056671444326639175,
          0.1225040853023529,
          0.04055027663707733,
          -0.04736712947487831,
          0.06806333363056183,
          0.050790101289749146,
          0.22174139320850372,
          0.1811513751745224,
          0.3977527916431427,
          0.008007394149899483,
          0.09872516244649887,
          0.09697326272726059,
          0.059863947331905365,
          0.059863947331905365,
          0.059863947331905365,
          0.1192806214094162,
          -0.1723732203245163,
          -0.1073300838470459,
          -0.08169259130954742,
          -0.028438709676265717,
          0.05377105250954628,
          0.09743107855319977,
          0.1333293467760086,
          -0.07087453454732895,
          0.09479141235351562,
          0.11613724380731583,
          0.22780628502368927,
          0.11761035770177841,
          0.04828055948019028,
          0.1168702021241188,
          -0.04011794924736023,
          0.04612063243985176,
          0.1962856650352478,
          0.1532188057899475,
          0.002978326054289937,
          -0.02622498944401741,
          -0.03008958324790001,
          0.17656069993972778,
          -0.009360049851238728,
          0.07342898100614548,
          -0.004678857047110796,
          0.002081867540255189,
          0.035159528255462646,
          0.13493555784225464,
          -0.08778198063373566,
          -0.08687067031860352,
          -0.2586163282394409,
          -0.0417909137904644,
          -0.07795216888189316,
          0.23051662743091583,
          -0.1205829605460167,
          0.06491807848215103,
          -0.03228619694709778,
          -0.1489286720752716,
          -0.4525282680988312,
          -0.07782863825559616,
          -0.09688545018434525,
          -0.09530768543481827,
          -0.38554349541664124,
          -0.19956132769584656,
          0.04894785210490227,
          -0.2326592057943344,
          0.08641177415847778,
          0.24473856389522552,
          -0.0768536627292633,
          -0.11552618443965912,
          -0.10283268243074417,
          -0.06332647800445557,
          -0.22780704498291016,
          -0.10011094808578491,
          -0.10031992942094803,
          -0.05781404301524162,
          -0.0809677392244339,
          0.13669362664222717,
          -0.05905904620885849,
          -0.012424313463270664,
          0.05596381053328514,
          0.00215429556556046,
          -0.07460541278123856,
          -0.10960250347852707,
          -0.08264808356761932,
          0.017213355749845505,
          -0.04970814287662506,
          0.2666185796260834,
          0.08454538136720657,
          -0.0009283900144509971,
          -0.028248190879821777,
          0.03486759960651398,
          -0.012241171672940254,
          0.12815552949905396,
          0.14470309019088745,
          0.3728064298629761,
          -0.06250463426113129,
          0.03265826776623726,
          0.2369229644536972,
          0.13116276264190674,
          0.15002207458019257,
          -0.061202604323625565,
          -0.14323125779628754,
          0.019088441506028175,
          0.0514712929725647,
          0.15998351573944092,
          0.1787632405757904,
          -0.06027863919734955,
          0.003752846736460924,
          0.08476601541042328,
          -0.03861210495233536,
          -0.0038087714929133654,
          0.1315803974866867,
          0.1178424209356308,
          0.015959585085511208,
          0.049050863832235336,
          -0.13911926746368408,
          0.0008556049433536828,
          -0.08637508749961853,
          -0.062026262283325195,
          0.11206600069999695,
          -0.08765500783920288,
          -0.06703690439462662,
          0.011393490247428417,
          0.049126800149679184,
          0.051669277250766754,
          0.16283878684043884,
          -0.07140858471393585,
          0.09364864230155945,
          -0.09877335280179977,
          -0.18300402164459229,
          -0.37744033336639404,
          -0.05682571604847908,
          -0.01829775981605053,
          0.17775824666023254,
          0.029009895399212837,
          -0.023361319676041603,
          0.228300541639328,
          -0.0772630050778389,
          -0.010825596749782562,
          0.03265099972486496,
          -0.021694550290703773,
          0.41600844264030457,
          0.18123984336853027,
          -0.17732495069503784,
          0.09574908763170242,
          0.14221392571926117,
          0.06171727925539017,
          -0.08826209604740143,
          -0.04706055670976639,
          0.08103697746992111,
          0.1519181877374649,
          0.22601968050003052,
          0.06597337126731873,
          -0.19816507399082184,
          0.032866839319467545,
          -0.08159200847148895,
          0.04457810893654823,
          -0.049756430089473724,
          -0.1832055300474167,
          0.18247343599796295,
          -0.11637857556343079,
          0.053234927356243134,
          -0.09361809492111206,
          -0.059927601367235184,
          0.06739778816699982,
          -0.09762541949748993,
          0.07464520633220673,
          0.0600079745054245,
          -0.20925398170948029,
          0.0049599939957261086,
          -0.09969125688076019,
          0.09263240545988083,
          0.03204324096441269,
          0.06925874203443527,
          -0.0029890749137848616,
          -0.02265590988099575,
          0.09214534610509872,
          -0.23227457702159882,
          0.010119575075805187,
          -0.13397741317749023,
          0.18279050290584564,
          0.24731774628162384,
          0.11736977100372314,
          0.04083124175667763,
          0.043959662318229675,
          0.06163269653916359,
          -0.006346778478473425,
          0.1895194798707962,
          0.2797125577926636,
          0.12494479864835739,
          0.12846405804157257,
          0.05572520196437836,
          0.006051861681044102,
          -0.09858287870883942,
          0.1652832329273224,
          0.059188418090343475,
          -0.1286788284778595,
          0.18672534823417664,
          0.04181400686502457,
          -0.11411292850971222,
          -0.23383057117462158,
          -0.012597862631082535,
          0.13295181095600128,
          -0.12783242762088776,
          0.17624254524707794,
          0.12216049432754517,
          0.039369210600852966,
          -0.23610492050647736,
          0.08723458647727966,
          -0.19065694510936737,
          -0.19545814394950867,
          0.07852690666913986,
          0.02677939645946026,
          0.11057326197624207,
          -0.06373170763254166,
          0.021202001720666885,
          0.05699688941240311,
          -0.01977476291358471,
          -0.11266385018825531,
          -0.12168687582015991,
          0.04433917999267578,
          -0.024841737002134323,
          0.17643244564533234,
          0.0678313672542572,
          -0.12907123565673828,
          0.1501261442899704,
          -0.14435382187366486,
          -0.15767912566661835,
          0.2684592604637146,
          0.03666559234261513,
          0.1553463637828827,
          -0.042091164737939835,
          0.01258691493421793,
          -0.05573194846510887,
          0.06582795828580856,
          0.1156938448548317,
          -0.04489021748304367,
          0.015464100055396557,
          -0.008328016847372055,
          -0.19300949573516846,
          -0.1343616396188736,
          0.15312352776527405,
          0.02867298200726509,
          0.06101124361157417,
          -0.08005210757255554,
          0.06215481832623482,
          0.09637100994586945,
          0.015478785149753094,
          -0.03537117317318916,
          0.029362676665186882,
          -0.07887807488441467,
          -0.03887506574392319,
          -0.04336753115057945,
          0.12851671874523163,
          -0.0654744803905487,
          -0.0036985231563448906,
          -0.06942080706357956,
          0.06555765122175217,
          0.016686929389834404,
          0.271891325712204,
          0.06151289865374565,
          -0.02507585845887661,
          0.11633110046386719,
          0.042373280972242355,
          0.15714851021766663,
          0.14883308112621307,
          0.028355427086353302,
          0.06575166434049606,
          -0.0828641951084137,
          0.0010621808469295502,
          0.08519597351551056,
          -0.0229086484760046,
          -0.058061160147190094,
          0.029371775686740875,
          -0.20167851448059082,
          -0.30373555421829224,
          0.19050194323062897,
          -0.18901801109313965,
          0.25575581192970276,
          0.08535724878311157,
          -0.3609066307544708,
          -0.1678009033203125,
          0.15714851021766663,
          -0.12260647118091583,
          0.2102125734090805,
          -0.16806818544864655,
          0.06562390923500061,
          0.0599319189786911,
          -0.009341144934296608,
          0.06358367204666138,
          -0.059723466634750366,
          0.12226518243551254,
          0.17704956233501434,
          -0.12751643359661102,
          0.04991252347826958,
          -0.0492105558514595,
          0.024124257266521454,
          0.09646164625883102,
          0.01894223503768444,
          -0.11163535714149475,
          -0.030577262863516808,
          -0.051521576941013336,
          -0.039249759167432785,
          -0.12564446032047272,
          0.1046108677983284,
          0.18760572373867035,
          -0.22631099820137024,
          -0.3479542136192322,
          -0.2782280445098877,
          0.2928417921066284,
          -0.041833847761154175,
          0.15057577192783356,
          -0.15544454753398895,
          0.0028937524184584618,
          -0.1563170850276947,
          -0.0421365462243557,
          0.02930331416428089,
          0.12814734876155853,
          0.05174929276108742,
          0.17106525599956512,
          0.17063996195793152,
          -0.0785503089427948,
          -0.16678674519062042,
          -0.3219059109687805,
          0.058784667402505875,
          0.1069883331656456,
          -0.08986279368400574,
          0.010937932878732681,
          -0.05237290635704994,
          -0.14972223341464996,
          0.08077968657016754,
          0.03244726359844208,
          0.004165148828178644,
          -0.0648789033293724,
          0.17896151542663574,
          0.16552843153476715,
          0.13701793551445007,
          -0.05434297397732735,
          0.3035241663455963,
          0.3890894055366516,
          -0.15027791261672974,
          0.13913770020008087,
          0.10623262822628021,
          0.05746648088097572,
          0.031056031584739685,
          -0.15101179480552673,
          0.08243823796510696,
          0.05200587585568428,
          -0.03267548605799675,
          -0.03886009007692337,
          -0.06026886776089668,
          0.12060197442770004,
          0.16174323856830597,
          0.1762339025735855,
          0.15329355001449585,
          0.07346738874912262,
          0.14689339697360992,
          -0.02869855798780918,
          0.017848113551735878,
          0.06821611523628235,
          -0.19609345495700836,
          -0.10332605987787247,
          -0.1638055145740509,
          0.15442076325416565,
          0.11715179681777954,
          -0.10355191677808762,
          0.010760408826172352,
          -0.1508289873600006,
          -0.07678236812353134,
          0.07728414237499237,
          0.28308579325675964,
          -0.09770067036151886,
          0.1644132435321808,
          0.3318178355693817,
          -0.10040193796157837,
          0.11426156759262085,
          -0.06048262491822243,
          0.08934637904167175,
          0.08282607793807983,
          0.36200955510139465,
          -0.04980156943202019,
          -0.2618524730205536,
          0.16152189671993256,
          -0.15027518570423126,
          0.016309324651956558,
          0.0032813174184411764,
          0.11593669652938843,
          0.32401901483535767,
          -0.019086621701717377,
          0.03513253852725029,
          -0.02136155031621456,
          -0.14039604365825653,
          -0.06434815376996994,
          0.0738597884774208,
          0.21067042648792267,
          0.11419380456209183,
          0.07843898236751556,
          -0.2138291746377945,
          -0.0131367277354002,
          -0.16617637872695923,
          0.142660990357399,
          -0.1224934458732605,
          0.09065534174442291,
          -0.24912355840206146,
          -0.18838810920715332,
          -0.02948930859565735,
          -0.06101039797067642,
          -0.04947882145643234,
          -0.19295862317085266,
          -0.19295862317085266,
          0.06846486032009125,
          0.06846486032009125,
          -0.006522457581013441,
          -0.006522457581013441,
          0.10021252185106277,
          0.10021252185106277,
          0.21225976943969727,
          0.21225976943969727,
          0.02972538210451603,
          0.02972538210451603,
          0.052368052303791046,
          0.052368052303791046,
          -0.20744211971759796,
          -0.20744211971759796,
          -0.08821332454681396,
          -0.08821332454681396,
          0.030741946771740913,
          -0.07691223919391632,
          0.003473701886832714,
          0.003473701886832714,
          0.014365265145897865,
          0.014365265145897865,
          -0.19958645105361938,
          -0.19958645105361938,
          -0.18269358575344086,
          -0.18269358575344086,
          -0.12954865396022797,
          -0.12954865396022797,
          0.03397373482584953,
          0.3623252213001251,
          -0.28239893913269043,
          0.08198896795511246,
          0.039533864706754684,
          0.08529520779848099,
          0.0015459660207852721,
          -0.04880816116929054,
          0.07837451994419098,
          -0.1765364408493042,
          -0.28664109110832214,
          -0.014493279159069061,
          0.0008499725954607129,
          -0.06049784645438194,
          0.18611910939216614,
          0.23155544698238373,
          0.12357036024332047,
          0.1256473809480667,
          -0.11485640704631805,
          -0.09421653300523758,
          -0.16325294971466064,
          0.11809349060058594,
          -0.16745597124099731,
          0.19259966909885406,
          -0.03802316635847092,
          -0.039499085396528244,
          -0.11691071838140488,
          0.07756535708904266,
          -0.09081248193979263,
          -0.06949495524168015,
          0.000035711436794372275,
          0.007026019040495157,
          -0.004303467459976673,
          -0.11965139955282211,
          -0.05985850468277931,
          0.04884050413966179,
          -0.16789042949676514,
          0.012724529951810837,
          0.10027419775724411,
          0.09614333510398865,
          0.19244204461574554,
          0.37665918469429016,
          -0.018257910385727882,
          0.16336527466773987,
          0.07220260798931122,
          0.1365787535905838,
          0.01854829303920269,
          0.28237777948379517,
          -0.04746020957827568,
          -0.015002395957708359,
          -0.1344732940196991,
          -0.14145870506763458,
          0.05084344744682312,
          0.05093169957399368,
          -0.25445809960365295,
          -0.1241188794374466,
          -0.06330608576536179,
          0.13616345822811127,
          0.03720707818865776,
          0.2855081558227539,
          0.2480657994747162,
          0.16254471242427826,
          0.07760892808437347,
          -0.022274885326623917,
          0.1283969134092331,
          0.18120679259300232,
          0.12201257050037384,
          0.015742335468530655,
          0.05779594928026199,
          0.07709059119224548,
          0.13244231045246124,
          -0.014519443735480309,
          0.047385264188051224,
          -0.007871461100876331,
          0.1584022492170334,
          -0.039301566779613495,
          0.07742903381586075,
          -0.012953833676874638,
          -0.008385153487324715,
          0.01874648965895176,
          0.3125965893268585,
          0.14427603781223297,
          -0.1635386049747467,
          0.07698702067136765,
          0.06911692768335342,
          -0.0879155620932579,
          0.038684915751218796,
          -0.26552337408065796,
          -0.033542510122060776,
          -0.001063646632246673,
          0.006769854109734297,
          -0.034211162477731705,
          0.0013249203329905868,
          -0.17889083921909332,
          -0.0506126806139946,
          -0.2981823980808258,
          0.17172370851039886,
          0.17639999091625214,
          -0.1135815680027008,
          -0.3689086437225342,
          -0.028193864971399307,
          0.10660076886415482,
          -0.013204893097281456,
          -0.06931944191455841,
          0.03110753372311592,
          -0.004495788365602493,
          -0.07688083499670029,
          -0.004687657114118338,
          -0.21634958684444427,
          0.17058376967906952,
          -0.03250439092516899,
          -0.042079370468854904,
          0.10858669131994247,
          -0.18110507726669312,
          0.022948993369936943,
          0.02862984873354435,
          -0.024537572637200356,
          -0.2695361375808716,
          -0.06415177881717682,
          -0.04008122533559799,
          -0.128749281167984,
          -0.024179022759199142,
          -0.032684214413166046,
          -0.0013974906178191304,
          -0.008273420855402946,
          -0.06879456341266632,
          0.005553328897804022,
          0.19368959963321686,
          -0.11820032447576523,
          0.07737603783607483,
          0.07856588065624237,
          0.001271020737476647,
          -0.05146290734410286,
          -0.028707358986139297,
          -0.006629348732531071,
          -0.018766041845083237,
          0.09078077226877213,
          -0.04886423051357269,
          0.01996646262705326,
          0.1308300793170929,
          -0.12600788474082947,
          0.11016985028982162,
          0.0636468455195427,
          0.15727056562900543,
          -0.012534488923847675,
          -0.03089943155646324,
          -0.12914590537548065,
          -0.012419227510690689,
          -0.2381545454263687,
          -0.07423387467861176,
          -0.11289212852716446,
          -0.21678157150745392,
          -0.09206034988164902,
          -0.20308665931224823,
          -0.13723599910736084,
          -0.10180986672639847,
          -0.05429886281490326,
          -0.009942238219082355,
          -0.05551770702004433,
          -0.18180333077907562,
          -0.4355085492134094,
          -0.060194190591573715,
          0.053078971803188324,
          -0.0982823297381401,
          -0.0019421993056312203,
          0.05710352584719658,
          0.020656369626522064,
          0.10553819686174393,
          0.11137429624795914,
          -0.1336159110069275,
          0.01828216016292572,
          -0.12519168853759766,
          -0.07065822184085846,
          -0.1328342854976654,
          0.11309323459863663,
          0.06630804389715195,
          -0.2133110761642456,
          0.06447245925664902,
          0.09055311977863312,
          -0.026769081130623817,
          -0.09213175624608994,
          0.1663890928030014,
          0.234670490026474,
          0.03016134724020958,
          -0.09579533338546753,
          0.1138884499669075,
          -0.33541083335876465,
          0.19379960000514984,
          0.08345557004213333,
          -0.08306720107793808,
          0.0584387369453907,
          0.13642214238643646,
          0.2747915983200073,
          -0.10565333813428879,
          -0.14980481564998627,
          0.14980240166187286,
          -0.1077738031744957,
          -0.04964163154363632,
          -0.13965003192424774,
          -0.060741983354091644,
          -0.08776967972517014,
          -0.011676711961627007,
          0.04940614849328995,
          0.23393791913986206,
          -0.1209711879491806,
          -0.18594488501548767,
          0.027467479929327965,
          -0.035373490303754807,
          -0.06739644706249237,
          -0.061899907886981964,
          -0.056841641664505005,
          -0.1641617864370346,
          0.1076645776629448,
          0.008595946244895458,
          -0.033750150352716446,
          -0.27760592103004456,
          -0.044467952102422714,
          -0.10919825732707977,
          0.05483712628483772,
          -0.2807818055152893,
          0.19199036061763763,
          -0.06603796780109406,
          -0.045253071933984756,
          -0.09207747876644135,
          0.01650848798453808,
          0.06821778416633606,
          -0.016093691810965538,
          -0.004167688079178333,
          0.0598611943423748,
          -0.07731997966766357,
          0.07852433621883392,
          0.16064074635505676,
          0.10684970021247864,
          -0.09677334129810333,
          -0.2718442976474762,
          -0.13835719227790833,
          0.07349280267953873,
          -0.04207891970872879,
          0.21620523929595947,
          -0.04979625344276428,
          0.05507609620690346,
          -0.0249782744795084,
          -0.0703079029917717,
          0.3684447109699249,
          -0.1018710657954216,
          -0.3669250011444092,
          0.14705976843833923,
          0.0006941704195924103,
          0.025786802172660828,
          0.1149853765964508,
          -0.13948452472686768,
          0.0017677369760349393,
          -0.012562090530991554,
          0.08106755465269089,
          -0.013599619269371033,
          0.007530339062213898,
          0.2113654762506485,
          -0.2549070715904236,
          0.07382925599813461,
          0.017671581357717514,
          -0.19286049902439117,
          -0.0753532201051712,
          0.05516825616359711,
          0.031968019902706146,
          0.03504088521003723,
          0.17233061790466309,
          -0.12968161702156067,
          0.005331206601113081,
          -0.09290365129709244,
          0.26214495301246643,
          -0.00959747564047575,
          0.048690065741539,
          0.10083787143230438,
          -0.005831278394907713,
          -0.15004324913024902,
          -0.04912540689110756,
          -0.2560689449310303,
          0.10956869274377823,
          -0.47447696328163147,
          -0.22992435097694397,
          -0.16377294063568115,
          -0.07719757407903671,
          0.09110824763774872,
          -0.1598120927810669,
          0.10150303691625595,
          -0.07232022285461426,
          -0.03440685570240021,
          -0.12235672026872635,
          0.034898411482572556,
          -0.10842157900333405,
          -0.19218745827674866,
          -0.168800950050354,
          -0.1384294331073761,
          -0.0023449633736163378,
          -0.28783324360847473,
          0.015714045614004135,
          0.08527518808841705,
          -0.20033663511276245,
          0.20649117231369019,
          -0.0979328453540802,
          -0.04342835769057274,
          -0.06783243268728256,
          -0.05550658702850342,
          -0.13969053328037262,
          -0.11249951273202896,
          0.04869796708226204,
          -0.02583826147019863,
          -0.053152896463871,
          -0.02335440181195736,
          -0.13052375614643097,
          0.05232296884059906,
          -0.053962063044309616,
          -0.19115343689918518,
          -0.14320361614227295,
          0.025225002318620682,
          -0.02515028789639473,
          -0.19209760427474976,
          -0.17783373594284058,
          -0.2007531076669693,
          0.06063162535429001,
          -0.06635921448469162,
          0.035026293247938156,
          -0.042641349136829376,
          -0.07383158802986145,
          0.04107056185603142,
          -0.39677226543426514,
          -0.12611930072307587,
          0.0685795471072197,
          0.03524114191532135,
          0.08294251561164856,
          0.05491285398602486,
          0.07637368887662888,
          0.0860569179058075,
          -0.1057155430316925
         ],
         "z": [
          0.02805236540734768,
          0.010080467909574509,
          -0.0687490701675415,
          -0.014887571334838867,
          -0.017777230590581894,
          0.021912241354584694,
          -0.04223407432436943,
          -0.19284705817699432,
          -0.11999193578958511,
          -0.20719200372695923,
          0.08151030540466309,
          0.14350087940692902,
          -0.031055456027388573,
          -0.1754482239484787,
          -0.1039087176322937,
          0.17961952090263367,
          0.11666946858167648,
          0.2808213531970978,
          0.13597823679447174,
          -0.11953248828649521,
          0.06232132017612457,
          -0.024264344945549965,
          -0.014451757073402405,
          0.0951385498046875,
          -0.08524339646100998,
          0.12382151931524277,
          0.11968325078487396,
          -0.053934723138809204,
          -0.22432926297187805,
          -0.16948764026165009,
          0.08617722988128662,
          -0.28778529167175293,
          0.007163315080106258,
          -0.024791019037365913,
          0.09023738652467728,
          -0.19085735082626343,
          -0.1548956334590912,
          0.051659516990184784,
          -0.04143699258565903,
          -0.045089807361364365,
          -0.007921554148197174,
          0.08975769579410553,
          0.03953620418906212,
          0.15368258953094482,
          0.0426611490547657,
          -0.012292015366256237,
          -0.022460874170064926,
          0.060850344598293304,
          0.08708151429891586,
          -0.010546272620558739,
          -0.007726619020104408,
          0.024029487743973732,
          -0.09613901376724243,
          -0.059757836163043976,
          0.11245588213205338,
          0.02860238216817379,
          0.045063566416502,
          -0.05399223417043686,
          -0.11656416952610016,
          0.12169313430786133,
          0.09911792725324631,
          -0.027847770601511,
          -0.0001066196637111716,
          0.08483616262674332,
          -0.03991438448429108,
          0.007159528322517872,
          0.18964605033397675,
          0.10498280078172684,
          0.07677112519741058,
          0.08007179945707321,
          0.15306639671325684,
          -0.11687605082988739,
          -0.057835664600133896,
          0.014456750825047493,
          0.3003675639629364,
          -0.02293427288532257,
          0.0005670192185789347,
          -0.12300106883049011,
          -0.001453452161513269,
          -0.09814923256635666,
          -0.26539796590805054,
          0.16231591999530792,
          0.05456439405679703,
          -0.0422123521566391,
          -0.04960818961262703,
          0.0628887265920639,
          0.1513284295797348,
          -0.14472287893295288,
          0.021732330322265625,
          -0.04163092374801636,
          -0.006288058590143919,
          -0.2542015314102173,
          -0.08449120819568634,
          -0.27811911702156067,
          -0.03573865443468094,
          -0.00977991707623005,
          0.12305067479610443,
          -0.06593265384435654,
          -0.07776984572410583,
          -0.026230251416563988,
          0.05512836202979088,
          -0.05438528209924698,
          0.0224316343665123,
          0.011510360985994339,
          -0.043665263801813126,
          0.05312622711062431,
          0.0501445010304451,
          -0.04187805578112602,
          -0.14405803382396698,
          -0.10695035010576248,
          -0.18597511947155,
          0.04148074612021446,
          0.013625155203044415,
          0.19139547646045685,
          -0.04697978124022484,
          -0.022799953818321228,
          0.18738116323947906,
          -0.08307678252458572,
          -0.12292174249887466,
          -0.12176301330327988,
          -0.09296268969774246,
          -0.14517609775066376,
          -0.11558189988136292,
          0.1714545488357544,
          -0.03033808432519436,
          0.014984004199504852,
          0.020363297313451767,
          -0.0293634794652462,
          -0.10154349356889725,
          0.328431636095047,
          0.18382598459720612,
          0.030780762434005737,
          0.052468154579401016,
          -0.10623328387737274,
          -0.40800830721855164,
          0.18493011593818665,
          0.1234176754951477,
          0.13790564239025116,
          0.04220284894108772,
          0.09739303588867188,
          0.15056267380714417,
          0.0614522285759449,
          -0.010593662038445473,
          0.2613660991191864,
          -0.009207957424223423,
          0.01911790668964386,
          0.18386797606945038,
          -0.031804513186216354,
          -0.15269282460212708,
          0.22838899493217468,
          -0.056771036237478256,
          -0.08335287123918533,
          -0.18273453414440155,
          0.02438083291053772,
          0.0696290135383606,
          0.07786630839109421,
          0.10442785918712616,
          0.0865795686841011,
          0.030413825064897537,
          -0.1607953906059265,
          -0.09770237654447556,
          0.11050373315811157,
          0.308928906917572,
          -0.03578898683190346,
          0.07291616499423981,
          -0.018192371353507042,
          0.03082168474793434,
          0.07324831187725067,
          -0.01113386731594801,
          -0.03568029776215553,
          -0.06355981528759003,
          -0.038612280040979385,
          -0.3572947680950165,
          -0.10974559187889099,
          -0.07088635861873627,
          -0.008651901967823505,
          0.1049404889345169,
          0.01457188744097948,
          -0.04848861321806908,
          -0.19438879191875458,
          0.01634024642407894,
          0.006953004747629166,
          -0.060511212795972824,
          -0.0647609531879425,
          -0.08582105487585068,
          0.1005384773015976,
          0.14942599833011627,
          0.20485317707061768,
          0.175118088722229,
          -0.10619683563709259,
          -0.08357103168964386,
          -0.12489812821149826,
          0.054784223437309265,
          -0.10705174505710602,
          0.00460501853376627,
          -0.08511293679475784,
          0.05238746851682663,
          -0.0018366232980042696,
          0.12338825315237045,
          -0.15191730856895447,
          -0.17037850618362427,
          -0.06870902329683304,
          0.057945217937231064,
          -0.011396585032343864,
          0.2023582011461258,
          0.029726434499025345,
          -0.1023816242814064,
          0.03196126967668533,
          -0.2457248866558075,
          -0.00831439346075058,
          0.16516833007335663,
          -0.08333686739206314,
          0.12860359251499176,
          0.07565779238939285,
          -0.04166765883564949,
          -0.07343178242444992,
          0.15967829525470734,
          -0.17792703211307526,
          0.0344238355755806,
          0.023085065186023712,
          -0.04062121734023094,
          0.2070552110671997,
          0.12796670198440552,
          0.008451794274151325,
          -0.060378942638635635,
          0.11558502167463303,
          0.028307951986789703,
          -0.048623234033584595,
          -0.05994684249162674,
          -0.0608951672911644,
          -0.07207418233156204,
          -0.07887221872806549,
          0.09966889023780823,
          -0.03929925337433815,
          0.08664867281913757,
          0.06524114310741425,
          -0.09807337820529938,
          -0.06702268123626709,
          0.05235184356570244,
          -0.02649969793856144,
          -0.17067380249500275,
          -0.23284021019935608,
          -0.10456210374832153,
          -0.022950848564505577,
          0.11738210171461105,
          -0.18410666286945343,
          -0.10293848812580109,
          -0.06682834774255753,
          -0.06361548602581024,
          -0.030556660145521164,
          0.22309483587741852,
          -0.15405333042144775,
          0.17502643167972565,
          0.06366776674985886,
          0.01743241399526596,
          0.0055978186428546906,
          0.01553657092154026,
          -0.16554929316043854,
          -0.06910742074251175,
          -0.0844007208943367,
          -0.030969683080911636,
          -0.05791977047920227,
          -0.1693289428949356,
          0.139414981007576,
          0.04063553735613823,
          -0.12967677414417267,
          -0.11302146315574646,
          -0.028830306604504585,
          -0.054863687604665756,
          -0.22536714375019073,
          0.13419201970100403,
          0.019526200369000435,
          0.05184590071439743,
          0.12261106818914413,
          -0.05872179940342903,
          0.005513188429176807,
          -0.11705606430768967,
          -0.1719936728477478,
          -0.16947703063488007,
          0.1097605749964714,
          -0.10273817926645279,
          0.16386613249778748,
          0.010200376622378826,
          -0.008752855472266674,
          -0.15232880413532257,
          -0.21093632280826569,
          0.10879041254520416,
          -0.07807876914739609,
          0.33571097254753113,
          0.180427685379982,
          -0.00516268378123641,
          0.14171990752220154,
          -0.02498636394739151,
          -0.07930698990821838,
          -0.18475349247455597,
          0.1530759632587433,
          -0.11001264303922653,
          0.03025928884744644,
          0.12092306464910507,
          0.18091820180416107,
          -0.10100411623716354,
          0.10868822783231735,
          -0.012458457611501217,
          -0.10871583223342896,
          -0.013439582660794258,
          -0.21641205251216888,
          0.16590827703475952,
          0.01841478794813156,
          -0.09010805189609528,
          -0.0822242945432663,
          0.19313323497772217,
          0.05043370649218559,
          0.017331436276435852,
          -0.13312897086143494,
          -0.09572857618331909,
          0.01808743365108967,
          -0.20134909451007843,
          0.14888229966163635,
          0.15187974274158478,
          -0.11042522639036179,
          0.17003732919692993,
          -0.27338361740112305,
          -0.2817080616950989,
          -0.02032333053648472,
          -0.019351541996002197,
          -0.002906123409047723,
          0.12380332499742508,
          0.04480469599366188,
          0.17200390994548798,
          -0.06074388325214386,
          0.21376998722553253,
          0.1546526402235031,
          0.051886629313230515,
          0.1641608327627182,
          0.12694133818149567,
          0.3570767641067505,
          0.1351022571325302,
          0.021407295018434525,
          0.07034257054328918,
          0.12163390219211578,
          0.013299154117703438,
          -0.006406183820217848,
          0.10045615583658218,
          0.13395452499389648,
          -0.0383763387799263,
          -0.04923012852668762,
          -0.02472909912467003,
          0.03777715936303139,
          -0.08785659074783325,
          -0.07786471396684647,
          0.33593499660491943,
          0.08818470686674118,
          0.23211677372455597,
          0.1294831931591034,
          -0.3018380105495453,
          -0.04291609674692154,
          0.033613212406635284,
          0.026526857167482376,
          -0.013210662640631199,
          0.13321340084075928,
          -0.02419150061905384,
          0.04206845536828041,
          -0.09377557784318924,
          -0.09618924558162689,
          0.09451187402009964,
          -0.12477825582027435,
          -0.21867118775844574,
          0.17728488147258759,
          -0.04862231761217117,
          -0.007247101049870253,
          0.05507322773337364,
          0.11458545923233032,
          0.05625278130173683,
          0.03478853031992912,
          0.11333334445953369,
          0.02142469584941864,
          -0.0410194955766201,
          0.08218656480312347,
          -0.1339886635541916,
          0.09457246959209442,
          0.2818447947502136,
          -0.0890858918428421,
          -0.11678935587406158,
          -0.002147453371435404,
          -0.21973933279514313,
          -0.07299809157848358,
          -0.08485057204961777,
          0.011966587975621223,
          0.0344228632748127,
          -0.01303067896515131,
          -0.2581910192966461,
          0.06297419220209122,
          -0.1475784182548523,
          0.06686339527368546,
          0.046187691390514374,
          -0.2271014004945755,
          -0.03229512274265289,
          0.09239277243614197,
          0.3331160545349121,
          0.05827943608164787,
          -0.14393924176692963,
          0.2364317923784256,
          -0.004056246485561132,
          -0.008634282276034355,
          0.03361857682466507,
          -0.032012928277254105,
          -0.09682822972536087,
          0.13577595353126526,
          0.13422033190727234,
          0.09761103242635727,
          -0.030324772000312805,
          -0.04879729077219963,
          0.05128229036927223,
          -0.1683300882577896,
          0.11793845146894455,
          0.02454579621553421,
          -0.021630771458148956,
          -0.05240115150809288,
          0.05780744552612305,
          0.05619552731513977,
          -0.03870833292603493,
          0.05735279619693756,
          -0.09938158094882965,
          -0.25416848063468933,
          -0.18373887240886688,
          -0.08849267661571503,
          0.3240760266780853,
          -0.18247151374816895,
          0.15224021673202515,
          0.06013183295726776,
          0.06969446688890457,
          0.008747022598981857,
          0.09224166721105576,
          0.2931172847747803,
          0.042557794600725174,
          0.06795581430196762,
          -0.03194155916571617,
          -0.009110520593822002,
          -0.13293886184692383,
          0.02860541269183159,
          0.11665888130664825,
          0.07789754122495651,
          -0.18965138494968414,
          -0.13226069509983063,
          0.13358980417251587,
          0.12392297387123108,
          0.05220169574022293,
          0.17843444645404816,
          0.02136809378862381,
          0.04887644946575165,
          0.11379357427358627,
          -0.058839909732341766,
          -0.015512920916080475,
          0.04851067438721657,
          0.036926787346601486,
          -0.03389353305101395,
          -0.13528457283973694,
          -0.13297414779663086,
          0.025014370679855347,
          -0.0034935411531478167,
          0.07122766226530075,
          0.07980494201183319,
          0.007606399245560169,
          -0.16188977658748627,
          -0.08779892325401306,
          0.016993379220366478,
          0.2585831582546234,
          0.007561688777059317,
          -0.07990121841430664,
          -0.005017620045691729,
          -0.0643959641456604,
          -0.013592366129159927,
          0.17512892186641693,
          0.04249872267246246,
          -0.04768233373761177,
          0.09066702425479889,
          -0.23055152595043182,
          -0.09691251814365387,
          0.1463726907968521,
          0.01944384165108204,
          0.01944384165108204,
          0.01944384165108204,
          -0.13894857466220856,
          0.07860147207975388,
          0.07437101006507874,
          -0.22797106206417084,
          0.07646271586418152,
          -0.15294507145881653,
          -0.005982694681733847,
          -0.08872543275356293,
          0.004409691784530878,
          -0.000025584415197954513,
          0.00898871198296547,
          -0.02404922805726528,
          -0.09775515645742416,
          0.05092253535985947,
          0.06968817859888077,
          0.5258217453956604,
          -0.09682194143533707,
          0.17713423073291779,
          -0.015016854740679264,
          -0.12749657034873962,
          0.14049257338047028,
          0.11325214803218842,
          -0.10007987171411514,
          -0.019340872764587402,
          -0.07127399742603302,
          0.016595203429460526,
          -0.05564112588763237,
          -0.05111169070005417,
          0.03621593862771988,
          -0.21292485296726227,
          -0.20971651375293732,
          -0.46708744764328003,
          -0.11368994414806366,
          0.1012662872672081,
          -0.1525147557258606,
          -0.20329588651657104,
          0.09724429249763489,
          -0.12767936289310455,
          -0.11693155765533447,
          -0.061435434967279434,
          -0.008187361061573029,
          -0.007253882475197315,
          -0.13446210324764252,
          -0.09477178007364273,
          -0.1911660134792328,
          0.13394711911678314,
          0.15543232858181,
          -0.20186281204223633,
          -0.14970315992832184,
          0.05618438124656677,
          0.1463816910982132,
          0.164512038230896,
          0.08068959414958954,
          0.09609497338533401,
          -0.1684095710515976,
          -0.07669917494058609,
          0.06103039160370827,
          -0.06431768834590912,
          0.029333999380469322,
          0.2133975774049759,
          -0.06285174936056137,
          0.03421678766608238,
          -0.06125089153647423,
          -0.07427623867988586,
          -0.03138228505849838,
          -0.05597150698304176,
          0.1696738302707672,
          0.2347155213356018,
          0.07386062294244766,
          0.04941684007644653,
          0.07726728916168213,
          -0.2756422162055969,
          -0.1238371729850769,
          -0.11875741928815842,
          0.053979989141225815,
          0.10963320732116699,
          0.15220016241073608,
          -0.27736809849739075,
          -0.1336725652217865,
          -0.10588657110929489,
          0.0930434986948967,
          0.06661985069513321,
          0.15785522758960724,
          0.16908110678195953,
          -0.015129881910979748,
          -0.022532975301146507,
          0.14497621357440948,
          0.07666706293821335,
          0.024208631366491318,
          0.08400506526231766,
          -0.11977431923151016,
          0.037723079323768616,
          0.11335498839616776,
          0.12702588737010956,
          0.008863359689712524,
          0.018276408314704895,
          0.10145172476768494,
          -0.1389033943414688,
          0.0681411623954773,
          -0.14291206002235413,
          -0.15560542047023773,
          0.2528931498527527,
          0.14726507663726807,
          -0.09718157351016998,
          -0.147539883852005,
          0.06535416096448898,
          -0.28815776109695435,
          0.07143812626600266,
          0.06128080189228058,
          0.007895611226558685,
          -0.007161335553973913,
          -0.2470424622297287,
          0.222365140914917,
          0.02329365536570549,
          0.013841165229678154,
          -0.043404750525951385,
          0.13198471069335938,
          -0.12625008821487427,
          0.13125823438167572,
          0.1391083300113678,
          0.22508402168750763,
          -0.061629947274923325,
          -0.10838498920202255,
          0.21396473050117493,
          0.1439913958311081,
          -0.023774869740009308,
          -0.17371098697185516,
          -0.08680330961942673,
          0.05595821514725685,
          -0.012223927304148674,
          -0.07349473237991333,
          -0.02235693298280239,
          -0.04061172157526016,
          -0.09425484389066696,
          -0.0784662738442421,
          0.08586858212947845,
          0.1871848851442337,
          -0.1841816008090973,
          0.025886842980980873,
          -0.14941158890724182,
          0.03596225008368492,
          0.07771073281764984,
          -0.0987665206193924,
          0.00776042090728879,
          -0.11586873233318329,
          -0.008654585108160973,
          0.12927570939064026,
          0.2910604476928711,
          -0.0692899152636528,
          -0.1417076289653778,
          -0.14957736432552338,
          0.012415365315973759,
          0.07027212530374527,
          0.13877466320991516,
          0.07125012576580048,
          0.09497669339179993,
          -0.22027508914470673,
          -0.054305482655763626,
          -0.01017676666378975,
          0.18913044035434723,
          -0.0998571515083313,
          0.04511113092303276,
          0.11741158366203308,
          0.03586993366479874,
          -0.006739697884768248,
          -0.1945989727973938,
          -0.0834360346198082,
          0.03321357071399689,
          0.17109185457229614,
          0.07850724458694458,
          -0.06225668638944626,
          0.1271030604839325,
          -0.014064639806747437,
          0.09306319802999496,
          -0.23157687485218048,
          -0.09264015406370163,
          0.12189176678657532,
          0.02246929332613945,
          -0.02696741372346878,
          0.058485373854637146,
          0.06001376360654831,
          -0.2502022087574005,
          0.10879163444042206,
          0.10927460342645645,
          -0.010902038775384426,
          -0.06941261142492294,
          0.09347023069858551,
          0.013019032776355743,
          0.01836036704480648,
          -0.0004954708274453878,
          0.019035443663597107,
          -0.029724761843681335,
          0.1722232848405838,
          -0.016712486743927002,
          0.016022436320781708,
          0.16488352417945862,
          0.20215989649295807,
          -0.08235421776771545,
          -0.028697093948721886,
          0.03362630307674408,
          -0.0029243340250104666,
          0.15520364046096802,
          -0.14311838150024414,
          0.18521133065223694,
          -0.0139957619830966,
          0.02011708915233612,
          -0.0419008694589138,
          0.14266324043273926,
          0.1390163153409958,
          0.04981876164674759,
          0.033938001841306686,
          -0.0615101233124733,
          0.03379639610648155,
          0.34430837631225586,
          0.06396211683750153,
          -0.07057330012321472,
          0.12260901927947998,
          -0.1362684667110443,
          0.11996103823184967,
          -0.07024901360273361,
          -0.03715430572628975,
          -0.053013600409030914,
          0.25653716921806335,
          0.0060427444986999035,
          0.19193510711193085,
          -0.2670523226261139,
          -0.05183648690581322,
          0.05439635366201401,
          -0.02053065598011017,
          0.003742941189557314,
          0.03346794843673706,
          -0.1184895858168602,
          -0.14157827198505402,
          -0.1094755306839943,
          0.19507765769958496,
          0.0190298929810524,
          0.08077716082334518,
          -0.06300775706768036,
          -0.11513388156890869,
          0.08145701885223389,
          0.166346937417984,
          0.10260188579559326,
          0.03342641144990921,
          -0.06922389566898346,
          0.03051072545349598,
          -0.066408172249794,
          -0.07130781561136246,
          -0.12655426561832428,
          0.03652651235461235,
          0.07993822544813156,
          0.14039620757102966,
          -0.0035965985152870417,
          -0.17737172544002533,
          0.10152191668748856,
          0.24043932557106018,
          0.022443018853664398,
          -0.014278569258749485,
          0.25893834233283997,
          0.24891124665737152,
          -0.04137041047215462,
          0.029830172657966614,
          -0.18565575778484344,
          0.13155880570411682,
          0.06857016682624817,
          -0.07130781561136246,
          0.1466233730316162,
          -0.21698220074176788,
          0.10952233523130417,
          -0.07764307409524918,
          0.058374155312776566,
          0.1473509967327118,
          0.02921319007873535,
          -0.12617073953151703,
          -0.07028907537460327,
          0.01847364567220211,
          -0.04234948754310608,
          -0.11125020682811737,
          -0.025379205122590065,
          0.008634604513645172,
          -0.035641103982925415,
          0.032983459532260895,
          -0.19805309176445007,
          0.07906842976808548,
          -0.10880571603775024,
          -0.021011387929320335,
          -0.21596519649028778,
          -0.02841770276427269,
          0.04218251630663872,
          0.12619078159332275,
          0.06372696906328201,
          -0.18481659889221191,
          -0.1400521844625473,
          0.2480824887752533,
          -0.08702534437179565,
          0.12025640159845352,
          0.05162028968334198,
          0.0016374037368223071,
          -0.02841869369149208,
          -0.12282461673021317,
          -0.10026587545871735,
          0.028140954673290253,
          0.14175300300121307,
          0.0977570116519928,
          -0.26689282059669495,
          -0.0840090736746788,
          0.22574883699417114,
          -0.018886612728238106,
          -0.13005389273166656,
          0.19629700481891632,
          -0.04254303127527237,
          0.18647359311580658,
          -0.16768446564674377,
          0.16769933700561523,
          -0.14868295192718506,
          -0.19371303915977478,
          -0.20607544481754303,
          -0.04454028606414795,
          -0.18511664867401123,
          0.03777909651398659,
          0.02029993012547493,
          0.028143446892499924,
          0.12413539737462997,
          -0.0777365118265152,
          0.10034696757793427,
          -0.13250038027763367,
          -0.07542306929826736,
          -0.07897234708070755,
          -0.1770181804895401,
          -0.008851537480950356,
          -0.11385702341794968,
          0.11939448863267899,
          -0.16299720108509064,
          -0.053363341838121414,
          -0.0985931009054184,
          0.010965356603264809,
          -0.11979439109563828,
          0.1829889416694641,
          -0.015036595053970814,
          -0.024441145360469818,
          -0.06345365941524506,
          -0.2409423142671585,
          -0.08718280494213104,
          -0.08626749366521835,
          -0.1600143313407898,
          -0.11492868512868881,
          0.03747145086526871,
          0.014345847070217133,
          -0.39258572459220886,
          -0.04966926574707031,
          -0.11837486922740936,
          -0.30061009526252747,
          0.10824409872293472,
          0.08707088232040405,
          -0.10366521775722504,
          -0.02082790620625019,
          0.06234128028154373,
          -0.007072035688906908,
          -0.05572350323200226,
          0.1160464957356453,
          0.07594649493694305,
          -0.18646174669265747,
          0.13194160163402557,
          0.04072531312704086,
          -0.05054264888167381,
          0.11995171755552292,
          -0.3682197332382202,
          -0.10601992905139923,
          -0.03316310793161392,
          -0.10978512465953827,
          0.045224305242300034,
          -0.1533118486404419,
          -0.10120896250009537,
          -0.04808327555656433,
          -0.033228352665901184,
          -0.11539086699485779,
          -0.0541127547621727,
          0.16798369586467743,
          -0.0650150328874588,
          0.09253647178411484,
          0.07874676585197449,
          0.02875777892768383,
          -0.05745307356119156,
          0.023015810176730156,
          -0.07734381407499313,
          0.02952088974416256,
          -0.04952465370297432,
          0.05603634938597679,
          0.09647698700428009,
          0.13152168691158295,
          0.21834039688110352,
          0.007536075543612242,
          0.007536075543612242,
          0.06224508956074715,
          0.06224508956074715,
          -0.04452614486217499,
          -0.04452614486217499,
          -0.182623490691185,
          -0.182623490691185,
          0.0701114758849144,
          0.0701114758849144,
          0.01290798094123602,
          0.01290798094123602,
          0.034825947135686874,
          0.034825947135686874,
          0.05679931119084358,
          0.05679931119084358,
          -0.30188626050949097,
          -0.30188626050949097,
          0.015394425019621849,
          0.03281161189079285,
          0.1913609504699707,
          0.1913609504699707,
          -0.1986367255449295,
          -0.1986367255449295,
          0.0653938576579094,
          0.0653938576579094,
          0.07743959128856659,
          0.07743959128856659,
          -0.2693342864513397,
          -0.2693342864513397,
          0.1482970416545868,
          0.04436751827597618,
          0.2061939686536789,
          0.03423270583152771,
          -0.2997647821903229,
          -0.025809865444898605,
          -0.06384273618459702,
          0.08840405941009521,
          -0.012086359784007072,
          0.012713588774204254,
          0.037564538419246674,
          0.21089568734169006,
          0.26719316840171814,
          -0.24403975903987885,
          0.2568267583847046,
          0.23192064464092255,
          0.12852352857589722,
          0.08125027269124985,
          -0.20520493388175964,
          -0.26178207993507385,
          -0.07426299899816513,
          -0.22531163692474365,
          0.21765963733196259,
          -0.0963386669754982,
          0.1113695502281189,
          0.1611424684524536,
          0.09275496006011963,
          0.05819564312696457,
          0.1603822261095047,
          -0.15040062367916107,
          -0.14116308093070984,
          -0.21215341985225677,
          -0.03601570427417755,
          0.015180066227912903,
          0.11258853226900101,
          0.09751726686954498,
          -0.07506129890680313,
          -0.11312630027532578,
          0.18540404736995697,
          -0.037698324769735336,
          -0.19132623076438904,
          -0.21230138838291168,
          -0.04190363734960556,
          0.04757687821984291,
          0.06723444163799286,
          0.025747066363692284,
          0.011886733584105968,
          0.13401828706264496,
          -0.029363155364990234,
          0.029094133526086807,
          -0.02771316096186638,
          -0.04002419486641884,
          0.049259476363658905,
          -0.09466342628002167,
          0.3471899628639221,
          -0.1026483103632927,
          -0.034962575882673264,
          0.139386385679245,
          0.1262541115283966,
          0.27235516905784607,
          0.18180304765701294,
          0.25306281447410583,
          0.15421853959560394,
          -0.24767807126045227,
          0.13452193140983582,
          0.19551753997802734,
          0.1260995864868164,
          -0.014680028893053532,
          0.10057929903268814,
          -0.02573462203145027,
          -0.1420699656009674,
          -0.14909006655216217,
          -0.04681778699159622,
          0.017718493938446045,
          0.09963991492986679,
          -0.05453159660100937,
          0.2482539266347885,
          0.2745794355869293,
          0.09778992086648941,
          0.10521236807107925,
          0.11252923309803009,
          -0.0765853300690651,
          -0.08262593299150467,
          0.09597381949424744,
          0.0001730233198031783,
          -0.1987875998020172,
          0.06338740140199661,
          -0.0619332529604435,
          -0.10503342747688293,
          -0.13067488372325897,
          -0.03925257921218872,
          -0.07517649233341217,
          -0.22892898321151733,
          0.20442578196525574,
          -0.059153880923986435,
          0.1063605546951294,
          -0.046334158629179,
          -0.02137439325451851,
          0.16163605451583862,
          0.20819024741649628,
          -0.018184322863817215,
          0.10069616138935089,
          -0.06371957808732986,
          -0.00010208055755356327,
          -0.01617025025188923,
          -0.011956397444009781,
          -0.0495665967464447,
          0.2096603363752365,
          -0.013947254046797752,
          0.0991453155875206,
          -0.021603450179100037,
          -0.06383335590362549,
          0.07704464346170425,
          -0.05826530605554581,
          -0.047520752996206284,
          -0.18539805710315704,
          0.11633329093456268,
          0.20605477690696716,
          0.2501492500305176,
          0.05258999019861221,
          0.1352316439151764,
          -0.15404261648654938,
          0.10840849578380585,
          -0.005726964212954044,
          0.11928889155387878,
          -0.11189451068639755,
          -0.08764001727104187,
          -0.2196151465177536,
          -0.11215149611234665,
          -0.14104445278644562,
          -0.17100192606449127,
          0.10238686203956604,
          -0.09870150685310364,
          0.10212200880050659,
          0.1080818697810173,
          0.005211024545133114,
          0.12633098661899567,
          -0.027976131066679955,
          0.1682361215353012,
          0.12151113897562027,
          0.33528465032577515,
          -0.045419491827487946,
          0.09666291624307632,
          0.0885796844959259,
          -0.06280622631311417,
          0.02074727974832058,
          0.23425179719924927,
          -0.27704453468322754,
          -0.025073187425732613,
          -0.11061804741621017,
          0.0594329871237278,
          -0.2587660849094391,
          0.0531131736934185,
          0.0207859817892313,
          -0.17907096445560455,
          -0.3136138319969177,
          -0.16294966638088226,
          0.20457997918128967,
          -0.05149964988231659,
          -0.10106060653924942,
          0.13756655156612396,
          0.20483769476413727,
          -0.053025342524051666,
          0.15299610793590546,
          -0.14926926791667938,
          -0.019648686051368713,
          -0.09313321858644485,
          0.13682036101818085,
          -0.15635183453559875,
          0.23899289965629578,
          -0.36605608463287354,
          -0.15329235792160034,
          0.025157039985060692,
          0.17590412497520447,
          -0.16870516538619995,
          0.1638500839471817,
          -0.40348151326179504,
          -0.07000575959682465,
          0.11895456165075302,
          -0.14554062485694885,
          0.0054145511239767075,
          -0.1559276431798935,
          -0.12654854357242584,
          -0.032710231840610504,
          -0.09819608926773071,
          -0.02820632979273796,
          -0.11794129759073257,
          0.026453863829374313,
          -0.0923972874879837,
          -0.13870136439800262,
          -0.1152464970946312,
          0.018051426857709885,
          0.03776887059211731,
          -0.04382827877998352,
          0.09312916547060013,
          -0.09663430601358414,
          0.05969591066241264,
          0.0051723322831094265,
          0.08651670813560486,
          -0.018738877028226852,
          -0.5134856104850769,
          -0.038459379225969315,
          0.0558902882039547,
          0.10039122402667999,
          0.3289809226989746,
          0.22548282146453857,
          -0.05520028620958328,
          -0.11743325740098953,
          0.019376536831259727,
          -0.04493415728211403,
          -0.10597476363182068,
          -0.09767307341098785,
          0.1330966204404831,
          -0.057345908135175705,
          0.006066909991204739,
          0.15955771505832672,
          0.02797813154757023,
          -0.1479569375514984,
          -0.05821431800723076,
          -0.1734994500875473,
          -0.24144311249256134,
          -0.22450804710388184,
          -0.2814282774925232,
          0.033994730561971664,
          -0.16537819802761078,
          -0.013824431225657463,
          -0.11354545503854752,
          0.23294831812381744,
          -0.005696031264960766,
          0.19404226541519165,
          -0.008764652535319328,
          0.09250673651695251,
          0.03980634734034538,
          0.03611737862229347,
          0.24015174806118011,
          0.193477600812912,
          0.02206113375723362,
          -0.1505238562822342,
          0.05264912545681,
          -0.09899687021970749,
          0.022119948640465736,
          -0.07249399274587631,
          0.028308408334851265,
          -0.0038177252281457186,
          -0.14356090128421783,
          0.0735253393650055,
          0.11668015271425247,
          -0.02163536660373211,
          0.07001852989196777,
          -0.041356444358825684,
          -0.33312416076660156,
          -0.04097948223352432,
          -0.2461225837469101,
          -0.016317687928676605,
          -0.01986350677907467,
          -0.030012955889105797,
          0.16002550721168518,
          -0.0715932548046112,
          0.04112806171178818,
          -0.09301641583442688,
          0.04810912534594536,
          0.026519885286688805,
          0.10389480739831924,
          -0.2264862358570099,
          0.04941429942846298,
          -0.0791255459189415,
          0.045968372374773026,
          0.05332854762673378,
          -0.14535804092884064,
          0.20407308638095856,
          0.16266553103923798,
          -0.12992961704730988,
          0.0857890397310257,
          -0.10282032936811447,
          0.29928797483444214,
          0.09021022915840149,
          0.12014824897050858,
          -0.09664679318666458,
          0.10420949012041092,
          -0.13916108012199402,
          -0.06340073049068451,
          0.17724302411079407,
          -0.13055437803268433,
          0.18261374533176422,
          0.10757125914096832,
          0.05379026010632515,
          -0.04077395424246788,
          -0.0654541626572609,
          0.05858274921774864,
          -0.3006030023097992,
          -0.17390938103199005,
          -0.14776574075222015,
          -0.13177502155303955,
          -0.17334340512752533,
          -0.1324268877506256,
          -0.19917790591716766,
          -0.06776411831378937,
          -0.05724756047129631,
          0.0022537449840456247,
          0.11866956949234009,
          0.04870128259062767,
          -0.03682504594326019,
          -0.15091896057128906,
          0.08486206829547882,
          -0.35299214720726013,
          -0.1828785091638565,
          -0.2252347618341446,
          -0.029859354719519615,
          -0.21703529357910156,
          -0.08292870223522186,
          -0.1291617453098297,
          -0.20724105834960938,
          0.006201941519975662,
          -0.046204887330532074,
          -0.1331104189157486,
          -0.023825740441679955,
          -0.19675999879837036,
          -0.10420218110084534,
          0.07722286134958267,
          0.020000699907541275,
          -0.21885818243026733,
          0.015552347525954247,
          -0.029149489477276802,
          0.03396466746926308,
          0.10714828968048096,
          0.10641106218099594,
          0.06919219344854355,
          -0.16210496425628662,
          0.10177913308143616,
          0.09762799739837646,
          0.06359054893255234,
          0.09780921041965485,
          -0.09813117235898972,
          -0.11693266779184341
         ]
        },
        {
         "hovertemplate": "label=mgood<br>pca_3D_comments_0=%{x}<br>pca_3D_comments_1=%{y}<br>pca_3D_comments_2=%{z}<extra></extra>",
         "legendgroup": "mgood",
         "marker": {
          "color": "#EF553B",
          "opacity": 0.5,
          "size": 2,
          "symbol": "circle"
         },
         "mode": "markers",
         "name": "mgood",
         "scene": "scene",
         "showlegend": true,
         "type": "scatter3d",
         "x": [
          0.21352477371692657,
          -0.058639176189899445,
          0.0387367382645607,
          0.03277182951569557,
          0.17825822532176971,
          0.23486654460430145,
          -0.134537473320961,
          -0.012483201920986176,
          0.10836321115493774,
          -0.10126873850822449,
          -0.19633151590824127,
          -0.2479425072669983,
          0.30723443627357483,
          0.04148481413722038,
          -0.08439312130212784,
          0.2975830137729645,
          0.16117236018180847,
          0.031601276248693466,
          0.17227734625339508,
          0.05695919692516327,
          0.14433494210243225,
          0.0667656809091568,
          0.09730829298496246,
          0.006286300718784332,
          -0.01774706318974495,
          0.06338215619325638,
          0.00568158645182848,
          -0.08175531774759293,
          -0.10852737724781036,
          0.28306642174720764,
          0.05157546326518059,
          -0.06361860781908035,
          0.36973148584365845,
          -0.11271318793296814,
          -0.09887810051441193,
          0.1405206024646759,
          0.014915058389306068,
          -0.21995334327220917,
          -0.08954206854104996,
          -0.015767863020300865,
          0.07061181962490082,
          0.18756112456321716,
          -0.02160581946372986,
          -0.10707352310419083,
          0.023211585357785225,
          -0.12477292120456696,
          0.07387777417898178,
          -0.06735659390687943,
          -0.12962260842323303,
          -0.2381613701581955,
          0.08468851447105408,
          0.09829394519329071,
          0.30276432633399963,
          0.1254655122756958,
          -0.030668875202536583,
          0.07429464906454086,
          0.10126200318336487,
          0.21024638414382935,
          0.006452224217355251,
          0.13701952993869781,
          0.030834415927529335,
          0.03824927285313606,
          -0.01773744262754917,
          0.13054455816745758,
          0.14707230031490326,
          -0.23274940252304077,
          -0.02864621952176094,
          0.02053644135594368,
          -0.2213371992111206,
          -0.11258431524038315,
          0.10498686879873276,
          -0.055307600647211075,
          -0.055307600647211075,
          -0.09099967032670975,
          0.09377297759056091,
          0.043970972299575806,
          -0.12240789830684662,
          0.06893061846494675,
          0.25803056359291077,
          -0.0601603202521801,
          0.15130911767482758,
          0.20929837226867676,
          -0.24298717081546783,
          -0.02435249276459217,
          -0.005804338026791811,
          0.21647526323795319,
          -0.13398796319961548,
          -0.03414243832230568,
          0.04393402487039566,
          0.08350088447332382,
          -0.13467247784137726,
          0.010627958923578262,
          0.06830129772424698,
          -0.007877761498093605,
          0.04452761262655258,
          -0.03933322802186012,
          0.07425481826066971,
          -0.005496034398674965,
          0.03067694418132305,
          0.0969996452331543,
          0.0969996452331543,
          -0.1183638870716095,
          -0.1183638870716095,
          0.11147180944681168,
          0.08998420089483261,
          0.10930556803941727
         ],
         "y": [
          0.1196599006652832,
          0.15631727874279022,
          0.03682173416018486,
          0.10291152447462082,
          0.11362524330615997,
          -0.007931164465844631,
          -0.14530374109745026,
          -0.06684907525777817,
          -0.13417047262191772,
          -0.16009654104709625,
          0.03794648498296738,
          0.20889951288700104,
          0.16975539922714233,
          -0.004663869738578796,
          0.05612486973404884,
          0.12695962190628052,
          -0.06798724085092545,
          0.02626641094684601,
          0.030123675242066383,
          -0.05202436074614525,
          0.038911283016204834,
          -0.03754622861742973,
          -0.110991932451725,
          -0.052571047097444534,
          0.0766264870762825,
          -0.18933752179145813,
          0.10110069066286087,
          0.019737141206860542,
          -0.34408140182495117,
          0.08184004575014114,
          -0.1788128912448883,
          0.021979527547955513,
          -0.04021934047341347,
          0.1434805542230606,
          -0.024682464078068733,
          -0.09553071111440659,
          -0.17836615443229675,
          -0.024753684177994728,
          -0.07558645308017731,
          0.22848187386989594,
          -0.040898364037275314,
          0.018604891374707222,
          0.06958713382482529,
          0.09097553044557571,
          -0.03344399109482765,
          -0.24069374799728394,
          -0.17390240728855133,
          -0.24287696182727814,
          0.0578974187374115,
          0.23094916343688965,
          -0.11509384959936142,
          0.0022487416863441467,
          0.12825238704681396,
          -0.08901281654834747,
          -0.00043728691525757313,
          0.130629301071167,
          -0.030760621652007103,
          0.08903611451387405,
          0.01840979978442192,
          -0.23379454016685486,
          -0.1262129545211792,
          -0.018019115552306175,
          -0.1698126196861267,
          -0.05579405650496483,
          -0.15147322416305542,
          -0.22587423026561737,
          -0.09093357622623444,
          -0.12921841442584991,
          -0.3337571620941162,
          -0.008719696663320065,
          0.01889043301343918,
          0.12239225953817368,
          0.12239225953817368,
          0.16736388206481934,
          -0.09500406682491302,
          0.04675142094492912,
          -0.1534465253353119,
          -0.16738535463809967,
          -0.005311830434948206,
          -0.08220738917589188,
          -0.2542879581451416,
          -0.044889673590660095,
          -0.021961180493235588,
          -0.01432332769036293,
          -0.06962563097476959,
          -0.08724988251924515,
          -0.13238143920898438,
          -0.013861281797289848,
          -0.24424470961093903,
          -0.03241391107439995,
          -0.051661305129528046,
          0.20681194961071014,
          0.02023003250360489,
          -0.10341694205999374,
          -0.07385382056236267,
          0.05484085902571678,
          -0.12573561072349548,
          0.13751384615898132,
          0.01995299942791462,
          0.031035535037517548,
          0.031035535037517548,
          0.0382409542798996,
          0.0382409542798996,
          -0.021996628493070602,
          -0.18534156680107117,
          0.0912991315126419
         ],
         "z": [
          -0.09524919092655182,
          0.18538637459278107,
          -0.18361778557300568,
          -0.01294830720871687,
          -0.0914977565407753,
          -0.011601441539824009,
          0.06356395781040192,
          -0.007707207463681698,
          0.04486732929944992,
          0.28820961713790894,
          -0.11791489273309708,
          0.009554749354720116,
          0.016446953639388084,
          0.1658196747303009,
          0.034002140164375305,
          0.08950623124837875,
          0.04551757499575615,
          -0.06729007512331009,
          -0.011337748728692532,
          -0.08627672493457794,
          0.03254837915301323,
          0.24471145868301392,
          0.04517452046275139,
          -0.1540580838918686,
          0.183522567152977,
          -0.008755183778703213,
          0.08491374552249908,
          -0.026442520320415497,
          0.09037045389413834,
          -0.13631097972393036,
          0.14002102613449097,
          -0.005474221892654896,
          0.11965545266866684,
          -0.016720036044716835,
          -0.387186199426651,
          -0.0014186878688633442,
          -0.012961244210600853,
          0.17890430986881256,
          -0.030947448685765266,
          0.06251218914985657,
          -0.11856227368116379,
          0.17477412521839142,
          -0.03625638782978058,
          0.015950065106153488,
          0.0701352134346962,
          0.06355372816324234,
          0.03539220243692398,
          -0.15606854856014252,
          0.003900188487023115,
          0.047793012112379074,
          0.05934296175837517,
          -0.14172326028347015,
          -0.054503604769706726,
          -0.04026034101843834,
          0.05967332050204277,
          0.07767722755670547,
          0.14149540662765503,
          0.015681777149438858,
          0.10543635487556458,
          0.17395232617855072,
          -0.09197843074798584,
          0.012395628727972507,
          -0.07773756980895996,
          0.04791659116744995,
          -0.07916530966758728,
          -0.1489907205104828,
          -0.08912940323352814,
          0.16207236051559448,
          0.19481423497200012,
          0.02998393587768078,
          0.07945505529642105,
          0.03706815093755722,
          0.03706815093755722,
          0.1695251166820526,
          0.10521819442510605,
          0.09685637801885605,
          -0.03932509198784828,
          0.19702190160751343,
          -0.06183088943362236,
          0.014283360913395882,
          0.14374689757823944,
          0.005637556314468384,
          0.21474456787109375,
          -0.06155141815543175,
          -0.10005149245262146,
          -0.12084877490997314,
          0.13653555512428284,
          0.043013669550418854,
          0.03682711720466614,
          0.045769207179546356,
          -0.031638532876968384,
          0.0764957144856453,
          0.1611882597208023,
          0.02804291993379593,
          0.14152827858924866,
          0.05112158879637718,
          0.20247173309326172,
          0.021310407668352127,
          0.00525618763640523,
          -0.06816374510526657,
          -0.06816374510526657,
          0.1853000670671463,
          0.1853000670671463,
          0.2096320390701294,
          0.0787801593542099,
          0.03633645549416542
         ]
        },
        {
         "hovertemplate": "label=mbad<br>pca_3D_comments_0=%{x}<br>pca_3D_comments_1=%{y}<br>pca_3D_comments_2=%{z}<extra></extra>",
         "legendgroup": "mbad",
         "marker": {
          "color": "#00cc96",
          "opacity": 0.5,
          "size": 2,
          "symbol": "circle"
         },
         "mode": "markers",
         "name": "mbad",
         "scene": "scene",
         "showlegend": true,
         "type": "scatter3d",
         "x": [
          0.16862094402313232,
          0.12870138883590698,
          -0.1254972517490387,
          0.04696931689977646,
          0.20429480075836182,
          0.018309438601136208,
          0.2920478582382202,
          0.16068710386753082,
          0.24539685249328613,
          0.14786292612552643,
          0.16087386012077332,
          0.3902871608734131,
          0.26907673478126526,
          0.07273001223802567,
          0.12735068798065186,
          0.33694782853126526,
          -0.2997404932975769,
          0.2837945222854614,
          0.21301083266735077,
          0.059281300753355026,
          0.10995925217866898,
          0.12307509779930115,
          0.23576077818870544,
          0.10112787783145905,
          -0.046049851924180984,
          0.18203744292259216,
          0.0827416181564331,
          0.30072635412216187,
          0.10121013969182968,
          0.14972542226314545,
          0.2153017371892929,
          -0.13640126585960388,
          0.3149767816066742,
          -0.5093949437141418,
          0.2579222321510315,
          0.1561102569103241,
          0.24833959341049194,
          0.25388291478157043,
          0.0616934709250927,
          0.2342241257429123,
          0.19294391572475433,
          0.11893894523382187,
          0.22471238672733307,
          0.260833203792572,
          0.07282067090272903,
          -0.10368313640356064,
          0.2973528206348419,
          0.21554578840732574,
          0.02209477126598358,
          0.1863602250814438,
          0.18294602632522583,
          0.24333976209163666,
          0.2516148090362549,
          0.15096604824066162,
          0.280472993850708,
          0.26059186458587646,
          0.08380891382694244,
          0.18172132968902588,
          0.19642482697963715,
          0.41476309299468994,
          0.04186983406543732,
          0.2050047516822815,
          0.2370516061782837,
          -0.06248592212796211,
          0.25768139958381653,
          0.15070101618766785,
          0.14287041127681732,
          0.3063708543777466,
          0.3009904623031616,
          0.3913438320159912,
          0.3429499864578247,
          0.27172592282295227,
          0.3039013147354126,
          0.18949051201343536,
          0.08825551718473434,
          0.2207747846841812,
          0.29621410369873047,
          0.15835672616958618,
          0.20654089748859406,
          -0.04133186116814613,
          0.23176692426204681,
          0.18581238389015198,
          0.2386765480041504,
          0.14922255277633667,
          0.2526385188102722,
          0.21310867369174957,
          0.1524243801832199,
          0.24759064614772797,
          0.16614557802677155,
          0.16819265484809875,
          0.1933402419090271,
          0.1784636229276657,
          0.31127649545669556,
          0.20275986194610596,
          0.267666757106781,
          0.05823366343975067,
          0.3070959150791168,
          0.3096781373023987,
          0.1877572387456894,
          0.30863845348358154,
          0.30074697732925415,
          0.24378980696201324,
          0.26200106739997864,
          0.10845892876386642,
          0.27188244462013245,
          0.35453686118125916,
          0.30960971117019653,
          0.1836414784193039,
          -0.01775103621184826,
          0.17738527059555054,
          0.2948538362979889,
          0.15659625828266144,
          0.16669271886348724,
          0.0697706937789917,
          0.16526104509830475,
          0.16526104509830475,
          0.44733136892318726,
          0.34170836210250854,
          0.26145049929618835,
          0.15039707720279694,
          0.29332461953163147,
          0.18717338144779205,
          0.06476863473653793,
          0.11961764097213745
         ],
         "y": [
          0.023955300450325012,
          -0.04396815970540047,
          0.1065826341509819,
          -0.16227306425571442,
          0.08194956183433533,
          -0.0773511677980423,
          0.05152937024831772,
          -0.05059908330440521,
          -0.08059841394424438,
          0.07916037738323212,
          -0.25701549649238586,
          -0.05932300537824631,
          0.02203099988400936,
          -0.20187509059906006,
          -0.1969633251428604,
          0.08406268805265427,
          -0.053109437227249146,
          -0.011946769431233406,
          -0.09115973114967346,
          0.05726327747106552,
          -0.14335037767887115,
          0.0224566962569952,
          -0.05139259994029999,
          0.024221742525696754,
          -0.23525024950504303,
          -0.08841914683580399,
          -0.07543472945690155,
          -0.17986564338207245,
          0.06797157227993011,
          -0.18810918927192688,
          -0.07386313378810883,
          -0.3620942234992981,
          0.04800752177834511,
          -0.2239949256181717,
          -0.04935450851917267,
          0.07798180729150772,
          0.09007571637630463,
          -0.010619258508086205,
          0.06837134063243866,
          -0.006574940402060747,
          -0.03961741551756859,
          -0.09360527247190475,
          0.09659917652606964,
          -0.09436444938182831,
          0.05598074942827225,
          -0.14893236756324768,
          -0.036375414580106735,
          -0.043139852583408356,
          -0.020847642794251442,
          0.12646734714508057,
          -0.0605778843164444,
          -0.06997188925743103,
          0.047731317579746246,
          -0.29237478971481323,
          0.041047703474760056,
          0.0826372280716896,
          0.0244746096432209,
          0.004040502943098545,
          -0.07079288363456726,
          -0.3941340744495392,
          -0.21906128525733948,
          -0.11933062225580215,
          -0.02193484641611576,
          0.04473888501524925,
          0.05409414693713188,
          -0.1380736082792282,
          0.10104209184646606,
          -0.021441763266921043,
          0.019997015595436096,
          -0.07568459957838058,
          -0.029039427638053894,
          -0.05501558259129524,
          -0.08247874677181244,
          -0.062074679881334305,
          -0.022221477702260017,
          -0.09052804857492447,
          -0.016527321189641953,
          -0.1293840855360031,
          0.05815879628062248,
          -0.10288754850625992,
          0.011092837899923325,
          -0.02051323838531971,
          0.06615977734327316,
          -0.005434450227767229,
          -0.21901078522205353,
          -0.047974999994039536,
          -0.05133238434791565,
          0.00804327242076397,
          -0.22674286365509033,
          0.11439089477062225,
          0.03026251122355461,
          -0.04475504159927368,
          0.005879979580640793,
          0.07167843729257584,
          -0.040663979947566986,
          -0.19567731022834778,
          0.15269125998020172,
          0.012942848727107048,
          -0.04887032508850098,
          -0.004975329153239727,
          0.07736939936876297,
          0.01565658673644066,
          -0.029368724673986435,
          -0.09126486629247665,
          0.02632688730955124,
          0.001061009126715362,
          -0.01739671267569065,
          0.048074595630168915,
          -0.15671101212501526,
          0.05070535093545914,
          0.11306750029325485,
          -0.1936405450105667,
          0.05042784661054611,
          0.010151936672627926,
          -0.09960419684648514,
          -0.09960419684648514,
          -0.007169594522565603,
          -0.06765135377645493,
          0.21521234512329102,
          -0.07781993597745895,
          -0.09339514374732971,
          -0.006784671917557716,
          -0.029484625905752182,
          -0.02891053445637226
         ],
         "z": [
          -0.10296788811683655,
          0.01225222647190094,
          0.07622358947992325,
          0.022405430674552917,
          -0.16540676355361938,
          -0.07022830098867416,
          0.0042608012445271015,
          -0.033006712794303894,
          0.0013389184605330229,
          -0.023480907082557678,
          0.13208933174610138,
          0.12018810957670212,
          -0.11386731266975403,
          -0.04104872792959213,
          0.1103319302201271,
          0.05398567020893097,
          -0.030902966856956482,
          0.04186248406767845,
          0.03089856170117855,
          0.05373150855302811,
          0.10410650819540024,
          -0.03200973942875862,
          -0.05994901806116104,
          -0.2574622929096222,
          0.08241070806980133,
          -0.009289623238146305,
          -0.06736986339092255,
          0.005262965336441994,
          -0.04804409295320511,
          0.2023458480834961,
          -0.04505990445613861,
          0.05014054477214813,
          -0.033276159316301346,
          0.020050043240189552,
          0.07329553365707397,
          -0.09343037754297256,
          0.020444231107831,
          -0.018705273047089577,
          -0.05006439983844757,
          -0.07950028032064438,
          0.08039621263742447,
          -0.09897103160619736,
          0.03260498493909836,
          0.14706578850746155,
          0.1443336308002472,
          0.06548316776752472,
          0.05208415538072586,
          -0.143142431974411,
          0.09199421107769012,
          0.13127025961875916,
          -0.013558114878833294,
          0.08569001406431198,
          0.018433623015880585,
          0.0443144291639328,
          -0.019349468871951103,
          0.022658413276076317,
          0.13893820345401764,
          0.15073128044605255,
          0.015098407864570618,
          0.435810923576355,
          -0.12243475019931793,
          0.078092060983181,
          -0.03179830685257912,
          0.05175195261836052,
          0.032376646995544434,
          0.05031407251954079,
          0.09815896302461624,
          -0.04477634280920029,
          -0.06448594480752945,
          0.1579497903585434,
          -0.027630552649497986,
          0.07043243199586868,
          -0.014809085987508297,
          -0.021261129528284073,
          -0.06197994574904442,
          0.11095220595598221,
          0.12605449557304382,
          0.1043713241815567,
          -0.07318621873855591,
          0.0895572081208229,
          -0.18366219103336334,
          0.11857276409864426,
          -0.08096698671579361,
          -0.1611156463623047,
          0.18968647718429565,
          0.021938422694802284,
          -0.14078976213932037,
          0.05248284339904785,
          0.050555888563394547,
          -0.0901649221777916,
          -0.06741273403167725,
          -0.007143538910895586,
          0.000017238000509678386,
          -0.11065713316202164,
          -0.06953718513250351,
          0.08638924360275269,
          -0.04202226176857948,
          0.040025223046541214,
          -0.02657732367515564,
          0.04968499392271042,
          -0.10909008979797363,
          -0.07226935774087906,
          -0.04127766191959381,
          0.08663152903318405,
          -0.04550653323531151,
          0.06305520981550217,
          0.18866927921772003,
          0.0015197573229670525,
          0.10349266231060028,
          -0.07733846455812454,
          0.03094709850847721,
          -0.002569167409092188,
          -0.11417941749095917,
          -0.04366413876414299,
          -0.03640666976571083,
          -0.03640666976571083,
          0.20328429341316223,
          0.0399036630988121,
          -0.020858803763985634,
          0.09569079428911209,
          0.07248932123184204,
          -0.06435588002204895,
          0.04118354618549347,
          0.1619510054588318
         ]
        },
        {
         "hovertemplate": "label=bad<br>pca_3D_comments_0=%{x}<br>pca_3D_comments_1=%{y}<br>pca_3D_comments_2=%{z}<extra></extra>",
         "legendgroup": "bad",
         "marker": {
          "color": "#ab63fa",
          "opacity": 0.5,
          "size": 2,
          "symbol": "circle"
         },
         "mode": "markers",
         "name": "bad",
         "scene": "scene",
         "showlegend": true,
         "type": "scatter3d",
         "x": [
          0.14168359339237213,
          0.13349366188049316,
          0.09855680167675018,
          0.3054284453392029,
          0.24621959030628204,
          0.32566016912460327,
          -0.14857690036296844,
          0.15506091713905334,
          0.32237258553504944,
          0.10704585909843445,
          0.3585439622402191,
          0.3041510581970215,
          0.2710933983325958,
          -0.03033757023513317,
          0.2162226438522339,
          0.2120833545923233,
          0.13018275797367096,
          0.1689564436674118,
          0.19780515134334564,
          0.25404641032218933,
          0.41131356358528137,
          0.26177656650543213,
          0.24838998913764954,
          0.18912574648857117,
          0.23906809091567993,
          0.31392377614974976,
          0.1540522426366806,
          -0.24469560384750366,
          0.2524923086166382,
          0.03962137922644615,
          0.2139531821012497,
          0.23112063109874725,
          -0.11844731867313385,
          0.29617583751678467,
          -0.015759136527776718,
          0.3500197231769562,
          0.23417457938194275,
          0.39946553111076355,
          0.24871033430099487,
          0.2820601165294647,
          0.29584023356437683,
          0.2761886715888977,
          0.1970708966255188,
          0.38294675946235657,
          0.16689376533031464,
          -0.025238309055566788,
          -0.03241429850459099,
          0.2966631054878235,
          0.36837154626846313,
          0.08738779276609421,
          0.1538735032081604,
          0.27393633127212524,
          0.28781166672706604,
          0.3216949701309204,
          0.1625860631465912,
          0.06536731868982315,
          0.25425460934638977,
          0.28945258259773254,
          0.2736636698246002,
          -0.03508275747299194,
          0.3860146105289459,
          0.3207893669605255,
          0.19753247499465942,
          0.24933774769306183,
          0.14144621789455414,
          0.10937738418579102,
          0.3856176733970642,
          0.0563148595392704,
          0.37926602363586426,
          0.3013090491294861,
          0.2772176265716553,
          0.35080936551094055,
          0.15938608348369598,
          0.25268176198005676,
          0.12422214448451996,
          0.17610113322734833,
          0.32840394973754883,
          0.17966952919960022,
          0.2505466639995575,
          0.21484462916851044
         ],
         "y": [
          -0.03088168427348137,
          0.04176449030637741,
          -0.1698206514120102,
          -0.031229151412844658,
          -0.14646519720554352,
          -0.0550139881670475,
          -0.3213074505329132,
          0.07863564044237137,
          0.010049897246062756,
          -0.15311025083065033,
          0.10414958745241165,
          -0.0674583688378334,
          0.02267366647720337,
          -0.2489345520734787,
          0.05069321021437645,
          -0.0676867738366127,
          0.13208401203155518,
          -0.055431876331567764,
          0.13798969984054565,
          0.0844949260354042,
          0.10155970603227615,
          0.10086450725793839,
          -0.042171306908130646,
          -0.03417012467980385,
          0.08545197546482086,
          0.07116956263780594,
          -0.014980067498981953,
          0.25016605854034424,
          0.1061372384428978,
          0.07698825001716614,
          -0.13114230334758759,
          -0.08011925220489502,
          0.030741946771740913,
          -0.040945835411548615,
          0.08984431624412537,
          0.03819512203335762,
          0.06304317712783813,
          0.1152748167514801,
          0.037278760224580765,
          0.024892132729291916,
          -0.1785515397787094,
          0.06467407941818237,
          0.10898933559656143,
          0.09850851446390152,
          -0.0017315264558419585,
          -0.050720199942588806,
          0.0052990843541920185,
          -0.026196876540780067,
          -0.019039612263441086,
          -0.03198147565126419,
          0.07763732969760895,
          -0.07684899866580963,
          0.02698858082294464,
          0.045469220727682114,
          -0.05625699460506439,
          0.09369324147701263,
          0.018696719780564308,
          0.015398128889501095,
          -0.018897952511906624,
          -0.11158774048089981,
          -0.09200480580329895,
          -0.13212566077709198,
          -0.41967684030532837,
          0.020785819739103317,
          -0.054567836225032806,
          -0.08004544675350189,
          0.058266982436180115,
          0.11326725780963898,
          0.0454426072537899,
          0.11976151913404465,
          -0.031288713216781616,
          0.23018299043178558,
          -0.004964926280081272,
          0.09561794996261597,
          0.05602816119790077,
          -0.0815495103597641,
          0.08217263966798782,
          0.11032155901193619,
          -0.13148418068885803,
          -0.006951214279979467
         ],
         "z": [
          -0.028548363596200943,
          -0.025277307257056236,
          0.07415997982025146,
          0.02786846272647381,
          0.10831642150878906,
          0.0899830311536789,
          0.005036225076764822,
          -0.06159152463078499,
          0.06333361566066742,
          0.11837144196033478,
          -0.1667763739824295,
          -0.0279975775629282,
          -0.09801643341779709,
          0.02863495983183384,
          -0.011707315221428871,
          -0.018088599666953087,
          -0.033116426318883896,
          -0.06820634752511978,
          -0.001192254712805152,
          -0.2149505615234375,
          -0.01063818670809269,
          -0.21530020236968994,
          -0.09957367181777954,
          0.03427276387810707,
          -0.031532980501651764,
          -0.09732366353273392,
          -0.10334576666355133,
          0.18280233442783356,
          -0.21442042291164398,
          -0.02195257693529129,
          0.04941610246896744,
          -0.14496305584907532,
          0.015394425019621849,
          -0.018506990745663643,
          -0.015477714128792286,
          -0.024656563997268677,
          0.058463484048843384,
          -0.017812460660934448,
          0.048329032957553864,
          0.10018952190876007,
          -0.016320733353495598,
          -0.0014790886780247092,
          0.04982573166489601,
          0.025349074974656105,
          -0.047680214047431946,
          0.03414838761091232,
          -0.26703187823295593,
          0.10167831927537918,
          0.04353880509734154,
          0.2744090259075165,
          -0.21218205988407135,
          0.025727756321430206,
          0.013160395435988903,
          0.0004893293371424079,
          0.06853605061769485,
          -0.04112859442830086,
          -0.04424963518977165,
          -0.04680538550019264,
          -0.15801766514778137,
          -0.24506331980228424,
          -0.10645832866430283,
          0.03667408972978592,
          0.21522517502307892,
          -0.02533324994146824,
          0.03816309943795204,
          -0.0713273361325264,
          -0.08857642114162445,
          -0.14309127628803253,
          -0.10543762147426605,
          0.04314479976892471,
          0.04527769237756729,
          0.011477182619273663,
          -0.09923170506954193,
          -0.1403128206729889,
          0.17952096462249756,
          0.15341342985630035,
          -0.2033994495868683,
          -0.0451342910528183,
          0.15582166612148285,
          -0.19721868634223938
         ]
        }
       ],
       "layout": {
        "legend": {
         "title": {
          "text": "label"
         },
         "tracegroupgap": 0
        },
        "margin": {
         "t": 60
        },
        "scene": {
         "domain": {
          "x": [
           0,
           1
          ],
          "y": [
           0,
           1
          ]
         },
         "xaxis": {
          "title": {
           "text": "pca_3D_comments_0"
          }
         },
         "yaxis": {
          "title": {
           "text": "pca_3D_comments_1"
          }
         },
         "zaxis": {
          "title": {
           "text": "pca_3D_comments_2"
          }
         }
        },
        "template": {
         "data": {
          "bar": [
           {
            "error_x": {
             "color": "#2a3f5f"
            },
            "error_y": {
             "color": "#2a3f5f"
            },
            "marker": {
             "line": {
              "color": "#E5ECF6",
              "width": 0.5
             },
             "pattern": {
              "fillmode": "overlay",
              "size": 10,
              "solidity": 0.2
             }
            },
            "type": "bar"
           }
          ],
          "barpolar": [
           {
            "marker": {
             "line": {
              "color": "#E5ECF6",
              "width": 0.5
             },
             "pattern": {
              "fillmode": "overlay",
              "size": 10,
              "solidity": 0.2
             }
            },
            "type": "barpolar"
           }
          ],
          "carpet": [
           {
            "aaxis": {
             "endlinecolor": "#2a3f5f",
             "gridcolor": "white",
             "linecolor": "white",
             "minorgridcolor": "white",
             "startlinecolor": "#2a3f5f"
            },
            "baxis": {
             "endlinecolor": "#2a3f5f",
             "gridcolor": "white",
             "linecolor": "white",
             "minorgridcolor": "white",
             "startlinecolor": "#2a3f5f"
            },
            "type": "carpet"
           }
          ],
          "choropleth": [
           {
            "colorbar": {
             "outlinewidth": 0,
             "ticks": ""
            },
            "type": "choropleth"
           }
          ],
          "contour": [
           {
            "colorbar": {
             "outlinewidth": 0,
             "ticks": ""
            },
            "colorscale": [
             [
              0,
              "#0d0887"
             ],
             [
              0.1111111111111111,
              "#46039f"
             ],
             [
              0.2222222222222222,
              "#7201a8"
             ],
             [
              0.3333333333333333,
              "#9c179e"
             ],
             [
              0.4444444444444444,
              "#bd3786"
             ],
             [
              0.5555555555555556,
              "#d8576b"
             ],
             [
              0.6666666666666666,
              "#ed7953"
             ],
             [
              0.7777777777777778,
              "#fb9f3a"
             ],
             [
              0.8888888888888888,
              "#fdca26"
             ],
             [
              1,
              "#f0f921"
             ]
            ],
            "type": "contour"
           }
          ],
          "contourcarpet": [
           {
            "colorbar": {
             "outlinewidth": 0,
             "ticks": ""
            },
            "type": "contourcarpet"
           }
          ],
          "heatmap": [
           {
            "colorbar": {
             "outlinewidth": 0,
             "ticks": ""
            },
            "colorscale": [
             [
              0,
              "#0d0887"
             ],
             [
              0.1111111111111111,
              "#46039f"
             ],
             [
              0.2222222222222222,
              "#7201a8"
             ],
             [
              0.3333333333333333,
              "#9c179e"
             ],
             [
              0.4444444444444444,
              "#bd3786"
             ],
             [
              0.5555555555555556,
              "#d8576b"
             ],
             [
              0.6666666666666666,
              "#ed7953"
             ],
             [
              0.7777777777777778,
              "#fb9f3a"
             ],
             [
              0.8888888888888888,
              "#fdca26"
             ],
             [
              1,
              "#f0f921"
             ]
            ],
            "type": "heatmap"
           }
          ],
          "heatmapgl": [
           {
            "colorbar": {
             "outlinewidth": 0,
             "ticks": ""
            },
            "colorscale": [
             [
              0,
              "#0d0887"
             ],
             [
              0.1111111111111111,
              "#46039f"
             ],
             [
              0.2222222222222222,
              "#7201a8"
             ],
             [
              0.3333333333333333,
              "#9c179e"
             ],
             [
              0.4444444444444444,
              "#bd3786"
             ],
             [
              0.5555555555555556,
              "#d8576b"
             ],
             [
              0.6666666666666666,
              "#ed7953"
             ],
             [
              0.7777777777777778,
              "#fb9f3a"
             ],
             [
              0.8888888888888888,
              "#fdca26"
             ],
             [
              1,
              "#f0f921"
             ]
            ],
            "type": "heatmapgl"
           }
          ],
          "histogram": [
           {
            "marker": {
             "pattern": {
              "fillmode": "overlay",
              "size": 10,
              "solidity": 0.2
             }
            },
            "type": "histogram"
           }
          ],
          "histogram2d": [
           {
            "colorbar": {
             "outlinewidth": 0,
             "ticks": ""
            },
            "colorscale": [
             [
              0,
              "#0d0887"
             ],
             [
              0.1111111111111111,
              "#46039f"
             ],
             [
              0.2222222222222222,
              "#7201a8"
             ],
             [
              0.3333333333333333,
              "#9c179e"
             ],
             [
              0.4444444444444444,
              "#bd3786"
             ],
             [
              0.5555555555555556,
              "#d8576b"
             ],
             [
              0.6666666666666666,
              "#ed7953"
             ],
             [
              0.7777777777777778,
              "#fb9f3a"
             ],
             [
              0.8888888888888888,
              "#fdca26"
             ],
             [
              1,
              "#f0f921"
             ]
            ],
            "type": "histogram2d"
           }
          ],
          "histogram2dcontour": [
           {
            "colorbar": {
             "outlinewidth": 0,
             "ticks": ""
            },
            "colorscale": [
             [
              0,
              "#0d0887"
             ],
             [
              0.1111111111111111,
              "#46039f"
             ],
             [
              0.2222222222222222,
              "#7201a8"
             ],
             [
              0.3333333333333333,
              "#9c179e"
             ],
             [
              0.4444444444444444,
              "#bd3786"
             ],
             [
              0.5555555555555556,
              "#d8576b"
             ],
             [
              0.6666666666666666,
              "#ed7953"
             ],
             [
              0.7777777777777778,
              "#fb9f3a"
             ],
             [
              0.8888888888888888,
              "#fdca26"
             ],
             [
              1,
              "#f0f921"
             ]
            ],
            "type": "histogram2dcontour"
           }
          ],
          "mesh3d": [
           {
            "colorbar": {
             "outlinewidth": 0,
             "ticks": ""
            },
            "type": "mesh3d"
           }
          ],
          "parcoords": [
           {
            "line": {
             "colorbar": {
              "outlinewidth": 0,
              "ticks": ""
             }
            },
            "type": "parcoords"
           }
          ],
          "pie": [
           {
            "automargin": true,
            "type": "pie"
           }
          ],
          "scatter": [
           {
            "fillpattern": {
             "fillmode": "overlay",
             "size": 10,
             "solidity": 0.2
            },
            "type": "scatter"
           }
          ],
          "scatter3d": [
           {
            "line": {
             "colorbar": {
              "outlinewidth": 0,
              "ticks": ""
             }
            },
            "marker": {
             "colorbar": {
              "outlinewidth": 0,
              "ticks": ""
             }
            },
            "type": "scatter3d"
           }
          ],
          "scattercarpet": [
           {
            "marker": {
             "colorbar": {
              "outlinewidth": 0,
              "ticks": ""
             }
            },
            "type": "scattercarpet"
           }
          ],
          "scattergeo": [
           {
            "marker": {
             "colorbar": {
              "outlinewidth": 0,
              "ticks": ""
             }
            },
            "type": "scattergeo"
           }
          ],
          "scattergl": [
           {
            "marker": {
             "colorbar": {
              "outlinewidth": 0,
              "ticks": ""
             }
            },
            "type": "scattergl"
           }
          ],
          "scattermapbox": [
           {
            "marker": {
             "colorbar": {
              "outlinewidth": 0,
              "ticks": ""
             }
            },
            "type": "scattermapbox"
           }
          ],
          "scatterpolar": [
           {
            "marker": {
             "colorbar": {
              "outlinewidth": 0,
              "ticks": ""
             }
            },
            "type": "scatterpolar"
           }
          ],
          "scatterpolargl": [
           {
            "marker": {
             "colorbar": {
              "outlinewidth": 0,
              "ticks": ""
             }
            },
            "type": "scatterpolargl"
           }
          ],
          "scatterternary": [
           {
            "marker": {
             "colorbar": {
              "outlinewidth": 0,
              "ticks": ""
             }
            },
            "type": "scatterternary"
           }
          ],
          "surface": [
           {
            "colorbar": {
             "outlinewidth": 0,
             "ticks": ""
            },
            "colorscale": [
             [
              0,
              "#0d0887"
             ],
             [
              0.1111111111111111,
              "#46039f"
             ],
             [
              0.2222222222222222,
              "#7201a8"
             ],
             [
              0.3333333333333333,
              "#9c179e"
             ],
             [
              0.4444444444444444,
              "#bd3786"
             ],
             [
              0.5555555555555556,
              "#d8576b"
             ],
             [
              0.6666666666666666,
              "#ed7953"
             ],
             [
              0.7777777777777778,
              "#fb9f3a"
             ],
             [
              0.8888888888888888,
              "#fdca26"
             ],
             [
              1,
              "#f0f921"
             ]
            ],
            "type": "surface"
           }
          ],
          "table": [
           {
            "cells": {
             "fill": {
              "color": "#EBF0F8"
             },
             "line": {
              "color": "white"
             }
            },
            "header": {
             "fill": {
              "color": "#C8D4E3"
             },
             "line": {
              "color": "white"
             }
            },
            "type": "table"
           }
          ]
         },
         "layout": {
          "annotationdefaults": {
           "arrowcolor": "#2a3f5f",
           "arrowhead": 0,
           "arrowwidth": 1
          },
          "autotypenumbers": "strict",
          "coloraxis": {
           "colorbar": {
            "outlinewidth": 0,
            "ticks": ""
           }
          },
          "colorscale": {
           "diverging": [
            [
             0,
             "#8e0152"
            ],
            [
             0.1,
             "#c51b7d"
            ],
            [
             0.2,
             "#de77ae"
            ],
            [
             0.3,
             "#f1b6da"
            ],
            [
             0.4,
             "#fde0ef"
            ],
            [
             0.5,
             "#f7f7f7"
            ],
            [
             0.6,
             "#e6f5d0"
            ],
            [
             0.7,
             "#b8e186"
            ],
            [
             0.8,
             "#7fbc41"
            ],
            [
             0.9,
             "#4d9221"
            ],
            [
             1,
             "#276419"
            ]
           ],
           "sequential": [
            [
             0,
             "#0d0887"
            ],
            [
             0.1111111111111111,
             "#46039f"
            ],
            [
             0.2222222222222222,
             "#7201a8"
            ],
            [
             0.3333333333333333,
             "#9c179e"
            ],
            [
             0.4444444444444444,
             "#bd3786"
            ],
            [
             0.5555555555555556,
             "#d8576b"
            ],
            [
             0.6666666666666666,
             "#ed7953"
            ],
            [
             0.7777777777777778,
             "#fb9f3a"
            ],
            [
             0.8888888888888888,
             "#fdca26"
            ],
            [
             1,
             "#f0f921"
            ]
           ],
           "sequentialminus": [
            [
             0,
             "#0d0887"
            ],
            [
             0.1111111111111111,
             "#46039f"
            ],
            [
             0.2222222222222222,
             "#7201a8"
            ],
            [
             0.3333333333333333,
             "#9c179e"
            ],
            [
             0.4444444444444444,
             "#bd3786"
            ],
            [
             0.5555555555555556,
             "#d8576b"
            ],
            [
             0.6666666666666666,
             "#ed7953"
            ],
            [
             0.7777777777777778,
             "#fb9f3a"
            ],
            [
             0.8888888888888888,
             "#fdca26"
            ],
            [
             1,
             "#f0f921"
            ]
           ]
          },
          "colorway": [
           "#636efa",
           "#EF553B",
           "#00cc96",
           "#ab63fa",
           "#FFA15A",
           "#19d3f3",
           "#FF6692",
           "#B6E880",
           "#FF97FF",
           "#FECB52"
          ],
          "font": {
           "color": "#2a3f5f"
          },
          "geo": {
           "bgcolor": "white",
           "lakecolor": "white",
           "landcolor": "#E5ECF6",
           "showlakes": true,
           "showland": true,
           "subunitcolor": "white"
          },
          "hoverlabel": {
           "align": "left"
          },
          "hovermode": "closest",
          "mapbox": {
           "style": "light"
          },
          "paper_bgcolor": "white",
          "plot_bgcolor": "#E5ECF6",
          "polar": {
           "angularaxis": {
            "gridcolor": "white",
            "linecolor": "white",
            "ticks": ""
           },
           "bgcolor": "#E5ECF6",
           "radialaxis": {
            "gridcolor": "white",
            "linecolor": "white",
            "ticks": ""
           }
          },
          "scene": {
           "xaxis": {
            "backgroundcolor": "#E5ECF6",
            "gridcolor": "white",
            "gridwidth": 2,
            "linecolor": "white",
            "showbackground": true,
            "ticks": "",
            "zerolinecolor": "white"
           },
           "yaxis": {
            "backgroundcolor": "#E5ECF6",
            "gridcolor": "white",
            "gridwidth": 2,
            "linecolor": "white",
            "showbackground": true,
            "ticks": "",
            "zerolinecolor": "white"
           },
           "zaxis": {
            "backgroundcolor": "#E5ECF6",
            "gridcolor": "white",
            "gridwidth": 2,
            "linecolor": "white",
            "showbackground": true,
            "ticks": "",
            "zerolinecolor": "white"
           }
          },
          "shapedefaults": {
           "line": {
            "color": "#2a3f5f"
           }
          },
          "ternary": {
           "aaxis": {
            "gridcolor": "white",
            "linecolor": "white",
            "ticks": ""
           },
           "baxis": {
            "gridcolor": "white",
            "linecolor": "white",
            "ticks": ""
           },
           "bgcolor": "#E5ECF6",
           "caxis": {
            "gridcolor": "white",
            "linecolor": "white",
            "ticks": ""
           }
          },
          "title": {
           "x": 0.05
          },
          "xaxis": {
           "automargin": true,
           "gridcolor": "white",
           "linecolor": "white",
           "ticks": "",
           "title": {
            "standoff": 15
           },
           "zerolinecolor": "white",
           "zerolinewidth": 2
          },
          "yaxis": {
           "automargin": true,
           "gridcolor": "white",
           "linecolor": "white",
           "ticks": "",
           "title": {
            "standoff": 15
           },
           "zerolinecolor": "white",
           "zerolinewidth": 2
          }
         }
        }
       }
      }
     },
     "metadata": {},
     "output_type": "display_data"
    }
   ],
   "source": [
    "comments_embeddings, _ = embeddings_features(col=\"comments\")\n",
    "\n",
    "pca_features = do_pca(comments_embeddings, \"comments\", 3)[0]\n",
    "\n",
    "# add label from df.label\n",
    "pca_features[\"label\"] = df.label\n",
    "\n",
    "pca_features\n",
    "\n",
    "# use plotly to plot the PCA vectors\n",
    "import plotly.express as px\n",
    "\n",
    "fig = px.scatter_3d(pca_features, x=\"pca_3D_comments_0\", y=\"pca_3D_comments_1\", z=\"pca_3D_comments_2\", color=\"label\")\n",
    "\n",
    "# make point smaller and opaque\n",
    "fig.update_traces(marker=dict(size=2, opacity=0.5))\n",
    "\n",
    "fig.show()"
   ]
  },
  {
   "attachments": {},
   "cell_type": "markdown",
   "metadata": {},
   "source": [
    "# Generate Features"
   ]
  },
  {
   "attachments": {},
   "cell_type": "markdown",
   "metadata": {},
   "source": [
    "With what we know, let's generate some features. I've provided a function for each type of feature, so we can mix and match."
   ]
  },
  {
   "cell_type": "code",
   "execution_count": 18,
   "metadata": {},
   "outputs": [],
   "source": [
    "to_try = {\n",
    "    \"pcas\": [2, 3, 5, 10, 20],\n",
    "    \"embeddings\": [50, 100, 200, 300, 500, 1000],\n",
    "}"
   ]
  },
  {
   "cell_type": "code",
   "execution_count": 22,
   "metadata": {},
   "outputs": [
    {
     "name": "stdout",
     "output_type": "stream",
     "text": [
      "Calculating amenities features with correlation threshold of 0.05\n",
      "Features above correlation threshold (0.05):\n",
      "['id', 'lockbox', 'pool', 'dishwasher', 'tv', 'keypad', 'kitchen', 'breakfast']\n",
      "Calculating amenities features with correlation threshold of None\n",
      "Embedding comments with vector size 50\n",
      "Embedding description with vector size 50\n",
      "Performing PCA on comments with 3 components\n",
      "Performing PCA on description with 3 components\n",
      "Performing PCA on comments+amenities with 3 components\n",
      "Performing PCA on description+amenities with 3 components\n",
      "Performing PCA on comments with 5 components\n",
      "Performing PCA on description with 5 components\n",
      "Performing PCA on comments+amenities with 5 components\n",
      "Performing PCA on description+amenities with 5 components\n",
      "Performing PCA on comments with 10 components\n",
      "Performing PCA on description with 10 components\n",
      "Performing PCA on comments+amenities with 10 components\n",
      "Performing PCA on description+amenities with 10 components\n",
      "Performing PCA on comments with 20 components\n",
      "Performing PCA on description with 20 components\n",
      "Performing PCA on comments+amenities with 20 components\n",
      "Performing PCA on description+amenities with 20 components\n",
      "Embedding comments with vector size 100\n",
      "Embedding description with vector size 100\n",
      "Performing PCA on comments with 3 components\n",
      "Performing PCA on description with 3 components\n",
      "Performing PCA on comments+amenities with 3 components\n",
      "Performing PCA on description+amenities with 3 components\n",
      "Performing PCA on comments with 5 components\n",
      "Performing PCA on description with 5 components\n",
      "Performing PCA on comments+amenities with 5 components\n",
      "Performing PCA on description+amenities with 5 components\n",
      "Performing PCA on comments with 10 components\n",
      "Performing PCA on description with 10 components\n",
      "Performing PCA on comments+amenities with 10 components\n",
      "Performing PCA on description+amenities with 10 components\n",
      "Performing PCA on comments with 20 components\n",
      "Performing PCA on description with 20 components\n",
      "Performing PCA on comments+amenities with 20 components\n",
      "Performing PCA on description+amenities with 20 components\n",
      "Embedding comments with vector size 200\n",
      "Embedding description with vector size 200\n",
      "Performing PCA on comments with 3 components\n",
      "Performing PCA on description with 3 components\n",
      "Performing PCA on comments+amenities with 3 components\n",
      "Performing PCA on description+amenities with 3 components\n",
      "Performing PCA on comments with 5 components\n",
      "Performing PCA on description with 5 components\n",
      "Performing PCA on comments+amenities with 5 components\n",
      "Performing PCA on description+amenities with 5 components\n",
      "Performing PCA on comments with 10 components\n",
      "Performing PCA on description with 10 components\n",
      "Performing PCA on comments+amenities with 10 components\n",
      "Performing PCA on description+amenities with 10 components\n",
      "Performing PCA on comments with 20 components\n",
      "Performing PCA on description with 20 components\n",
      "Performing PCA on comments+amenities with 20 components\n",
      "Performing PCA on description+amenities with 20 components\n",
      "Embedding comments with vector size 300\n",
      "Embedding description with vector size 300\n",
      "Performing PCA on comments with 3 components\n",
      "Performing PCA on description with 3 components\n",
      "Performing PCA on comments+amenities with 3 components\n",
      "Performing PCA on description+amenities with 3 components\n",
      "Performing PCA on comments with 5 components\n",
      "Performing PCA on description with 5 components\n",
      "Performing PCA on comments+amenities with 5 components\n",
      "Performing PCA on description+amenities with 5 components\n",
      "Performing PCA on comments with 10 components\n",
      "Performing PCA on description with 10 components\n",
      "Performing PCA on comments+amenities with 10 components\n",
      "Performing PCA on description+amenities with 10 components\n",
      "Performing PCA on comments with 20 components\n",
      "Performing PCA on description with 20 components\n",
      "Performing PCA on comments+amenities with 20 components\n",
      "Performing PCA on description+amenities with 20 components\n",
      "Embedding comments with vector size 500\n",
      "Embedding description with vector size 500\n",
      "Performing PCA on comments with 3 components\n",
      "Performing PCA on description with 3 components\n",
      "Performing PCA on comments+amenities with 3 components\n",
      "Performing PCA on description+amenities with 3 components\n",
      "Performing PCA on comments with 5 components\n",
      "Performing PCA on description with 5 components\n",
      "Performing PCA on comments+amenities with 5 components\n",
      "Performing PCA on description+amenities with 5 components\n",
      "Performing PCA on comments with 10 components\n",
      "Performing PCA on description with 10 components\n",
      "Performing PCA on comments+amenities with 10 components\n",
      "Performing PCA on description+amenities with 10 components\n",
      "Performing PCA on comments with 20 components\n",
      "Performing PCA on description with 20 components\n",
      "Performing PCA on comments+amenities with 20 components\n",
      "Performing PCA on description+amenities with 20 components\n",
      "Embedding comments with vector size 1000\n",
      "Embedding description with vector size 1000\n",
      "Performing PCA on comments with 3 components\n",
      "Performing PCA on description with 3 components\n",
      "Performing PCA on comments+amenities with 3 components\n",
      "Performing PCA on description+amenities with 3 components\n",
      "Performing PCA on comments with 5 components\n",
      "Performing PCA on description with 5 components\n",
      "Performing PCA on comments+amenities with 5 components\n",
      "Performing PCA on description+amenities with 5 components\n",
      "Performing PCA on comments with 10 components\n",
      "Performing PCA on description with 10 components\n",
      "Performing PCA on comments+amenities with 10 components\n",
      "Performing PCA on description+amenities with 10 components\n",
      "Performing PCA on comments with 20 components\n",
      "Performing PCA on description with 20 components\n",
      "Performing PCA on comments+amenities with 20 components\n",
      "Performing PCA on description+amenities with 20 components\n"
     ]
    }
   ],
   "source": [
    "from dataclasses import dataclass\n",
    "from typing import List, Any\n",
    "\n",
    "@dataclass\n",
    "class Feature:\n",
    "    data: pd.DataFrame | np.ndarray\n",
    "    col: str\n",
    "    type: str\n",
    "    models: dict | None\n",
    "    params: dict | None\n",
    "\n",
    "    def __str__(self):\n",
    "        return f\"{self.type} ({self.col}) - {self.params}\"\n",
    "    \n",
    "    __repr__ = __str__\n",
    "    \n",
    "\n",
    "features: List[Feature] = []\n",
    "\n",
    "# get the amenities\n",
    "amenity005 = amenities_features(corr_thresh=0.05, prefix=\"amenity005_\").fillna(0)\n",
    "amenityall = amenities_features(corr_thresh=None, prefix=\"amenityall_\").fillna(0)\n",
    "\n",
    "features.extend([\n",
    "    Feature(\n",
    "        data=amenity005,\n",
    "        col=\"amenities\",\n",
    "        type=\"amenities\",\n",
    "        models=None,\n",
    "        params={\n",
    "            \"corr_thresh\": 0.05, \n",
    "            \"amenities\": amenity005.columns.tolist()\n",
    "        }\n",
    "    ),\n",
    "    Feature(\n",
    "        data=amenityall,\n",
    "        col=\"amenities\",\n",
    "        type=\"amenities\",\n",
    "        models=None,\n",
    "        params={\n",
    "            \"corr_thresh\": None, \n",
    "            \"amenities\": amenityall.columns.tolist()\n",
    "            }\n",
    "    ),\n",
    "])\n",
    "\n",
    "# get the embeddings\n",
    "for emb_vector_size in to_try[\"embeddings\"]:\n",
    "    embeddings_comments, w2vmodel_comments = embeddings_features(col=\"comments\", emb_vector_size=emb_vector_size)\n",
    "    embeddings_description, w2vmodel_description = embeddings_features(col=\"description\", emb_vector_size=emb_vector_size)\n",
    "    \n",
    "    features.extend([\n",
    "        Feature(\n",
    "            data=embeddings_comments, \n",
    "            col=\"comments\", \n",
    "            type=\"embeddings\", \n",
    "            models={\n",
    "                \"w2v\": w2vmodel_comments\n",
    "            }, \n",
    "            params={\"vector_size\": emb_vector_size}\n",
    "        ),\n",
    "        Feature(\n",
    "            data=embeddings_description, \n",
    "            col=\"description\", \n",
    "            type=\"embeddings\", \n",
    "            models={\n",
    "                \"w2v\": w2vmodel_description\n",
    "            }, \n",
    "            params={\"vector_size\": emb_vector_size}\n",
    "        ),\n",
    "    ])\n",
    "\n",
    "    \n",
    "    for pca_dims in [3, 5, 10, 20]:\n",
    "\n",
    "        # Apply PCA to the embeddings\n",
    "        pca_features_comments, pca_comments = do_pca(embeddings_comments, \"comments\", pca_dims)\n",
    "        pca_features_description, pca_description = do_pca(embeddings_description, \"description\", pca_dims)\n",
    "\n",
    "        features.extend([\n",
    "            Feature(\n",
    "                data=pca_features_comments, \n",
    "                col=\"comments\", type=\"pca\", \n",
    "                models={\n",
    "                    \"pca\": pca_comments,\n",
    "                    \"w2v\": w2vmodel_comments\n",
    "                }, \n",
    "                params={\"n_components\": pca_dims, \"vector_size\": emb_vector_size}\n",
    "            ),\n",
    "            Feature(\n",
    "                data=pca_features_description, \n",
    "                col=\"description\", \n",
    "                type=\"pca\", \n",
    "                models={\n",
    "                    \"pca\": pca_description,\n",
    "                    \"w2v\": w2vmodel_description\n",
    "                }, \n",
    "                params={\"n_components\": pca_dims, \"vector_size\": emb_vector_size}\n",
    "            ),\n",
    "        ])\n",
    "\n",
    "        # Apply PCA to embeddings + amenities\n",
    "        comments_and_amenities = pd.concat([embeddings_comments, amenityall], axis=1).fillna(0)\n",
    "        description_and_amenities = pd.concat([embeddings_description, amenityall], axis=1).fillna(0)\n",
    "        pca_features_comments_amenities, pca_comments_amenities = do_pca(comments_and_amenities, \"comments+amenities\", pca_dims)\n",
    "        pca_features_description_amenities, pca_description_amenities = do_pca(description_and_amenities, \"description+amenities\", pca_dims)\n",
    "\n",
    "        features.extend([\n",
    "            Feature(\n",
    "                data=pca_features_comments_amenities, \n",
    "                col=\"comments+amenities\", \n",
    "                type=\"pca\", \n",
    "                models={\n",
    "                    \"pca\": pca_comments_amenities,\n",
    "                    \"w2v\": w2vmodel_comments\n",
    "                }, \n",
    "                params={\"n_components\": pca_dims, \"vector_size\": emb_vector_size}\n",
    "            ),\n",
    "            Feature(\n",
    "                data=pca_features_description_amenities, \n",
    "                col=\"description+amenities\", \n",
    "                type=\"pca\", \n",
    "                models={\n",
    "                    \"pca\": pca_description_amenities,\n",
    "                    \"w2v\": w2vmodel_description\n",
    "                }, \n",
    "                params={\"n_components\": pca_dims, \"vector_size\": emb_vector_size}\n",
    "            ),\n",
    "        ])\n"
   ]
  },
  {
   "cell_type": "code",
   "execution_count": 23,
   "metadata": {},
   "outputs": [
    {
     "name": "stdout",
     "output_type": "stream",
     "text": [
      "Total feature types: 110\n"
     ]
    }
   ],
   "source": [
    "print(f\"Total feature types: {len(features)}\")"
   ]
  },
  {
   "attachments": {},
   "cell_type": "markdown",
   "metadata": {},
   "source": [
    "## Save the features"
   ]
  },
  {
   "attachments": {},
   "cell_type": "markdown",
   "metadata": {},
   "source": [
    "Here we will save the features to a csv. We will also save the trained word2vec and pca models, so we can use it later."
   ]
  },
  {
   "cell_type": "code",
   "execution_count": 21,
   "metadata": {},
   "outputs": [],
   "source": [
    "import pickle\n",
    "\n",
    "if isinstance(GEO, list):\n",
    "    geo_display_name = \"_\".join(GEO)\n",
    "else:\n",
    "    geo_display_name = GEO\n",
    "\n",
    "with open(f\"../../data/features/features_{geo_display_name}.pkl\", \"wb\") as f:\n",
    "    pickle.dump(features, f)"
   ]
  },
  {
   "cell_type": "code",
   "execution_count": null,
   "metadata": {},
   "outputs": [],
   "source": []
  }
 ],
 "metadata": {
  "kernelspec": {
   "display_name": "venv",
   "language": "python",
   "name": "python3"
  },
  "language_info": {
   "codemirror_mode": {
    "name": "ipython",
    "version": 3
   },
   "file_extension": ".py",
   "mimetype": "text/x-python",
   "name": "python",
   "nbconvert_exporter": "python",
   "pygments_lexer": "ipython3",
   "version": "3.10.4"
  },
  "orig_nbformat": 4,
  "vscode": {
   "interpreter": {
    "hash": "cf086def782804284d24881115c612afdcc8ea791299ba67855f0c7f1a9ccc5a"
   }
  }
 },
 "nbformat": 4,
 "nbformat_minor": 2
}
