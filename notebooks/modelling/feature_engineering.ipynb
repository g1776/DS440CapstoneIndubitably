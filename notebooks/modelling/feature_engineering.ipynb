{
 "cells": [
  {
   "attachments": {},
   "cell_type": "markdown",
   "metadata": {},
   "source": [
    "## Feature Engineering on the processed dataset"
   ]
  },
  {
   "cell_type": "code",
   "execution_count": 1,
   "metadata": {},
   "outputs": [],
   "source": [
    "import pandas as pd\n",
    "import numpy as np\n",
    "import matplotlib.pyplot as plt\n",
    "import plotly.express as px"
   ]
  },
  {
   "cell_type": "code",
   "execution_count": 2,
   "metadata": {},
   "outputs": [
    {
     "name": "stdout",
     "output_type": "stream",
     "text": [
      "(1546, 9)\n"
     ]
    },
    {
     "data": {
      "text/html": [
       "<div>\n",
       "<style scoped>\n",
       "    .dataframe tbody tr th:only-of-type {\n",
       "        vertical-align: middle;\n",
       "    }\n",
       "\n",
       "    .dataframe tbody tr th {\n",
       "        vertical-align: top;\n",
       "    }\n",
       "\n",
       "    .dataframe thead th {\n",
       "        text-align: right;\n",
       "    }\n",
       "</style>\n",
       "<table border=\"1\" class=\"dataframe\">\n",
       "  <thead>\n",
       "    <tr style=\"text-align: right;\">\n",
       "      <th></th>\n",
       "      <th>review_id</th>\n",
       "      <th>listing_id</th>\n",
       "      <th>description</th>\n",
       "      <th>comments</th>\n",
       "      <th>sentiment</th>\n",
       "      <th>label</th>\n",
       "      <th>name</th>\n",
       "      <th>amenities</th>\n",
       "      <th>source</th>\n",
       "    </tr>\n",
       "  </thead>\n",
       "  <tbody>\n",
       "    <tr>\n",
       "      <th>0</th>\n",
       "      <td>83097</td>\n",
       "      <td>5456</td>\n",
       "      <td>[fabulous, location, walking, convention, cent...</td>\n",
       "      <td>[sylvia, very, nice, informal, relaxed, arrive...</td>\n",
       "      <td>4.333333</td>\n",
       "      <td>good</td>\n",
       "      <td>['walk', '6th', 'rainey', 'st', 'convention', ...</td>\n",
       "      <td>[TV, Wifi, Air conditioning, Kitchen, Pets liv...</td>\n",
       "      <td>texas</td>\n",
       "    </tr>\n",
       "    <tr>\n",
       "      <th>1</th>\n",
       "      <td>133337</td>\n",
       "      <td>5456</td>\n",
       "      <td>[fabulous, location, walking, convention, cent...</td>\n",
       "      <td>[sylvia, picked, airport, gave, beautiful, eve...</td>\n",
       "      <td>4.000000</td>\n",
       "      <td>good</td>\n",
       "      <td>['walk', '6th', 'rainey', 'st', 'convention', ...</td>\n",
       "      <td>[TV, Wifi, Air conditioning, Kitchen, Pets liv...</td>\n",
       "      <td>texas</td>\n",
       "    </tr>\n",
       "    <tr>\n",
       "      <th>2</th>\n",
       "      <td>150928</td>\n",
       "      <td>5456</td>\n",
       "      <td>[fabulous, location, walking, convention, cent...</td>\n",
       "      <td>[lovely, time, enjoyed, apartment, clean, spac...</td>\n",
       "      <td>3.000000</td>\n",
       "      <td>good</td>\n",
       "      <td>['walk', '6th', 'rainey', 'st', 'convention', ...</td>\n",
       "      <td>[TV, Wifi, Air conditioning, Kitchen, Pets liv...</td>\n",
       "      <td>texas</td>\n",
       "    </tr>\n",
       "    <tr>\n",
       "      <th>3</th>\n",
       "      <td>2706775</td>\n",
       "      <td>5456</td>\n",
       "      <td>[fabulous, location, walking, convention, cent...</td>\n",
       "      <td>[sylvia, excellent, host, stayed, touch, made,...</td>\n",
       "      <td>4.500000</td>\n",
       "      <td>good</td>\n",
       "      <td>['walk', '6th', 'rainey', 'st', 'convention', ...</td>\n",
       "      <td>[TV, Wifi, Air conditioning, Kitchen, Pets liv...</td>\n",
       "      <td>texas</td>\n",
       "    </tr>\n",
       "    <tr>\n",
       "      <th>4</th>\n",
       "      <td>8602878</td>\n",
       "      <td>5456</td>\n",
       "      <td>[fabulous, location, walking, convention, cent...</td>\n",
       "      <td>[place, cute, little, self, contained, cottage...</td>\n",
       "      <td>4.000000</td>\n",
       "      <td>good</td>\n",
       "      <td>['walk', '6th', 'rainey', 'st', 'convention', ...</td>\n",
       "      <td>[TV, Wifi, Air conditioning, Kitchen, Pets liv...</td>\n",
       "      <td>texas</td>\n",
       "    </tr>\n",
       "  </tbody>\n",
       "</table>\n",
       "</div>"
      ],
      "text/plain": [
       "   review_id  listing_id                                        description  \\\n",
       "0      83097        5456  [fabulous, location, walking, convention, cent...   \n",
       "1     133337        5456  [fabulous, location, walking, convention, cent...   \n",
       "2     150928        5456  [fabulous, location, walking, convention, cent...   \n",
       "3    2706775        5456  [fabulous, location, walking, convention, cent...   \n",
       "4    8602878        5456  [fabulous, location, walking, convention, cent...   \n",
       "\n",
       "                                            comments  sentiment label  \\\n",
       "0  [sylvia, very, nice, informal, relaxed, arrive...   4.333333  good   \n",
       "1  [sylvia, picked, airport, gave, beautiful, eve...   4.000000  good   \n",
       "2  [lovely, time, enjoyed, apartment, clean, spac...   3.000000  good   \n",
       "3  [sylvia, excellent, host, stayed, touch, made,...   4.500000  good   \n",
       "4  [place, cute, little, self, contained, cottage...   4.000000  good   \n",
       "\n",
       "                                                name  \\\n",
       "0  ['walk', '6th', 'rainey', 'st', 'convention', ...   \n",
       "1  ['walk', '6th', 'rainey', 'st', 'convention', ...   \n",
       "2  ['walk', '6th', 'rainey', 'st', 'convention', ...   \n",
       "3  ['walk', '6th', 'rainey', 'st', 'convention', ...   \n",
       "4  ['walk', '6th', 'rainey', 'st', 'convention', ...   \n",
       "\n",
       "                                           amenities source  \n",
       "0  [TV, Wifi, Air conditioning, Kitchen, Pets liv...  texas  \n",
       "1  [TV, Wifi, Air conditioning, Kitchen, Pets liv...  texas  \n",
       "2  [TV, Wifi, Air conditioning, Kitchen, Pets liv...  texas  \n",
       "3  [TV, Wifi, Air conditioning, Kitchen, Pets liv...  texas  \n",
       "4  [TV, Wifi, Air conditioning, Kitchen, Pets liv...  texas  "
      ]
     },
     "execution_count": 2,
     "metadata": {},
     "output_type": "execute_result"
    }
   ],
   "source": [
    "# Read in the data\n",
    "GEO = [\"texas\", \"florida\"]\n",
    "\n",
    "if isinstance(GEO, str):\n",
    "    df = pd.read_csv(f\"../../data/processed/{GEO}_auto_processed.csv\")\n",
    "elif isinstance(GEO, list):\n",
    "    dfs = []\n",
    "    for geo in GEO:\n",
    "        df = pd.read_csv(f\"../../data/processed/{geo}_auto_processed.csv\")\n",
    "        df[\"source\"] = geo\n",
    "        dfs.append(df)\n",
    "    df = pd.concat(dfs)\n",
    "\n",
    "# eval list columns\n",
    "df.description = df.description.apply(lambda x: eval(x))\n",
    "df.comments = df.comments.apply(lambda x: eval(x))\n",
    "df.amenities = df.amenities.apply(lambda x: eval(x))\n",
    "\n",
    "df.reset_index(drop=True, inplace=True)\n",
    "\n",
    "print(df.shape)\n",
    "df.head()"
   ]
  },
  {
   "attachments": {},
   "cell_type": "markdown",
   "metadata": {},
   "source": [
    "### Distribution of labels"
   ]
  },
  {
   "attachments": {},
   "cell_type": "markdown",
   "metadata": {},
   "source": [
    "First, let's look at the distribution of labels in the processed dataset."
   ]
  },
  {
   "cell_type": "code",
   "execution_count": 3,
   "metadata": {},
   "outputs": [
    {
     "name": "stdout",
     "output_type": "stream",
     "text": [
      "mbad: 8.02%, mgood: 6.86%, mbad or mgood: 14.88%\n"
     ]
    },
    {
     "data": {
      "application/vnd.plotly.v1+json": {
       "config": {
        "plotlyServerURL": "https://plot.ly"
       },
       "data": [
        {
         "alignmentgroup": "True",
         "hovertemplate": "Label=%{x}<br>Count=%{y}<extra></extra>",
         "legendgroup": "",
         "marker": {
          "color": "#636efa",
          "pattern": {
           "shape": ""
          }
         },
         "name": "",
         "offsetgroup": "",
         "orientation": "v",
         "showlegend": false,
         "textposition": "auto",
         "type": "bar",
         "x": [
          "good",
          "mbad",
          "mgood",
          "bad"
         ],
         "xaxis": "x",
         "y": [
          1236,
          124,
          106,
          80
         ],
         "yaxis": "y"
        }
       ],
       "layout": {
        "barmode": "relative",
        "legend": {
         "tracegroupgap": 0
        },
        "template": {
         "data": {
          "bar": [
           {
            "error_x": {
             "color": "#2a3f5f"
            },
            "error_y": {
             "color": "#2a3f5f"
            },
            "marker": {
             "line": {
              "color": "#E5ECF6",
              "width": 0.5
             },
             "pattern": {
              "fillmode": "overlay",
              "size": 10,
              "solidity": 0.2
             }
            },
            "type": "bar"
           }
          ],
          "barpolar": [
           {
            "marker": {
             "line": {
              "color": "#E5ECF6",
              "width": 0.5
             },
             "pattern": {
              "fillmode": "overlay",
              "size": 10,
              "solidity": 0.2
             }
            },
            "type": "barpolar"
           }
          ],
          "carpet": [
           {
            "aaxis": {
             "endlinecolor": "#2a3f5f",
             "gridcolor": "white",
             "linecolor": "white",
             "minorgridcolor": "white",
             "startlinecolor": "#2a3f5f"
            },
            "baxis": {
             "endlinecolor": "#2a3f5f",
             "gridcolor": "white",
             "linecolor": "white",
             "minorgridcolor": "white",
             "startlinecolor": "#2a3f5f"
            },
            "type": "carpet"
           }
          ],
          "choropleth": [
           {
            "colorbar": {
             "outlinewidth": 0,
             "ticks": ""
            },
            "type": "choropleth"
           }
          ],
          "contour": [
           {
            "colorbar": {
             "outlinewidth": 0,
             "ticks": ""
            },
            "colorscale": [
             [
              0,
              "#0d0887"
             ],
             [
              0.1111111111111111,
              "#46039f"
             ],
             [
              0.2222222222222222,
              "#7201a8"
             ],
             [
              0.3333333333333333,
              "#9c179e"
             ],
             [
              0.4444444444444444,
              "#bd3786"
             ],
             [
              0.5555555555555556,
              "#d8576b"
             ],
             [
              0.6666666666666666,
              "#ed7953"
             ],
             [
              0.7777777777777778,
              "#fb9f3a"
             ],
             [
              0.8888888888888888,
              "#fdca26"
             ],
             [
              1,
              "#f0f921"
             ]
            ],
            "type": "contour"
           }
          ],
          "contourcarpet": [
           {
            "colorbar": {
             "outlinewidth": 0,
             "ticks": ""
            },
            "type": "contourcarpet"
           }
          ],
          "heatmap": [
           {
            "colorbar": {
             "outlinewidth": 0,
             "ticks": ""
            },
            "colorscale": [
             [
              0,
              "#0d0887"
             ],
             [
              0.1111111111111111,
              "#46039f"
             ],
             [
              0.2222222222222222,
              "#7201a8"
             ],
             [
              0.3333333333333333,
              "#9c179e"
             ],
             [
              0.4444444444444444,
              "#bd3786"
             ],
             [
              0.5555555555555556,
              "#d8576b"
             ],
             [
              0.6666666666666666,
              "#ed7953"
             ],
             [
              0.7777777777777778,
              "#fb9f3a"
             ],
             [
              0.8888888888888888,
              "#fdca26"
             ],
             [
              1,
              "#f0f921"
             ]
            ],
            "type": "heatmap"
           }
          ],
          "heatmapgl": [
           {
            "colorbar": {
             "outlinewidth": 0,
             "ticks": ""
            },
            "colorscale": [
             [
              0,
              "#0d0887"
             ],
             [
              0.1111111111111111,
              "#46039f"
             ],
             [
              0.2222222222222222,
              "#7201a8"
             ],
             [
              0.3333333333333333,
              "#9c179e"
             ],
             [
              0.4444444444444444,
              "#bd3786"
             ],
             [
              0.5555555555555556,
              "#d8576b"
             ],
             [
              0.6666666666666666,
              "#ed7953"
             ],
             [
              0.7777777777777778,
              "#fb9f3a"
             ],
             [
              0.8888888888888888,
              "#fdca26"
             ],
             [
              1,
              "#f0f921"
             ]
            ],
            "type": "heatmapgl"
           }
          ],
          "histogram": [
           {
            "marker": {
             "pattern": {
              "fillmode": "overlay",
              "size": 10,
              "solidity": 0.2
             }
            },
            "type": "histogram"
           }
          ],
          "histogram2d": [
           {
            "colorbar": {
             "outlinewidth": 0,
             "ticks": ""
            },
            "colorscale": [
             [
              0,
              "#0d0887"
             ],
             [
              0.1111111111111111,
              "#46039f"
             ],
             [
              0.2222222222222222,
              "#7201a8"
             ],
             [
              0.3333333333333333,
              "#9c179e"
             ],
             [
              0.4444444444444444,
              "#bd3786"
             ],
             [
              0.5555555555555556,
              "#d8576b"
             ],
             [
              0.6666666666666666,
              "#ed7953"
             ],
             [
              0.7777777777777778,
              "#fb9f3a"
             ],
             [
              0.8888888888888888,
              "#fdca26"
             ],
             [
              1,
              "#f0f921"
             ]
            ],
            "type": "histogram2d"
           }
          ],
          "histogram2dcontour": [
           {
            "colorbar": {
             "outlinewidth": 0,
             "ticks": ""
            },
            "colorscale": [
             [
              0,
              "#0d0887"
             ],
             [
              0.1111111111111111,
              "#46039f"
             ],
             [
              0.2222222222222222,
              "#7201a8"
             ],
             [
              0.3333333333333333,
              "#9c179e"
             ],
             [
              0.4444444444444444,
              "#bd3786"
             ],
             [
              0.5555555555555556,
              "#d8576b"
             ],
             [
              0.6666666666666666,
              "#ed7953"
             ],
             [
              0.7777777777777778,
              "#fb9f3a"
             ],
             [
              0.8888888888888888,
              "#fdca26"
             ],
             [
              1,
              "#f0f921"
             ]
            ],
            "type": "histogram2dcontour"
           }
          ],
          "mesh3d": [
           {
            "colorbar": {
             "outlinewidth": 0,
             "ticks": ""
            },
            "type": "mesh3d"
           }
          ],
          "parcoords": [
           {
            "line": {
             "colorbar": {
              "outlinewidth": 0,
              "ticks": ""
             }
            },
            "type": "parcoords"
           }
          ],
          "pie": [
           {
            "automargin": true,
            "type": "pie"
           }
          ],
          "scatter": [
           {
            "fillpattern": {
             "fillmode": "overlay",
             "size": 10,
             "solidity": 0.2
            },
            "type": "scatter"
           }
          ],
          "scatter3d": [
           {
            "line": {
             "colorbar": {
              "outlinewidth": 0,
              "ticks": ""
             }
            },
            "marker": {
             "colorbar": {
              "outlinewidth": 0,
              "ticks": ""
             }
            },
            "type": "scatter3d"
           }
          ],
          "scattercarpet": [
           {
            "marker": {
             "colorbar": {
              "outlinewidth": 0,
              "ticks": ""
             }
            },
            "type": "scattercarpet"
           }
          ],
          "scattergeo": [
           {
            "marker": {
             "colorbar": {
              "outlinewidth": 0,
              "ticks": ""
             }
            },
            "type": "scattergeo"
           }
          ],
          "scattergl": [
           {
            "marker": {
             "colorbar": {
              "outlinewidth": 0,
              "ticks": ""
             }
            },
            "type": "scattergl"
           }
          ],
          "scattermapbox": [
           {
            "marker": {
             "colorbar": {
              "outlinewidth": 0,
              "ticks": ""
             }
            },
            "type": "scattermapbox"
           }
          ],
          "scatterpolar": [
           {
            "marker": {
             "colorbar": {
              "outlinewidth": 0,
              "ticks": ""
             }
            },
            "type": "scatterpolar"
           }
          ],
          "scatterpolargl": [
           {
            "marker": {
             "colorbar": {
              "outlinewidth": 0,
              "ticks": ""
             }
            },
            "type": "scatterpolargl"
           }
          ],
          "scatterternary": [
           {
            "marker": {
             "colorbar": {
              "outlinewidth": 0,
              "ticks": ""
             }
            },
            "type": "scatterternary"
           }
          ],
          "surface": [
           {
            "colorbar": {
             "outlinewidth": 0,
             "ticks": ""
            },
            "colorscale": [
             [
              0,
              "#0d0887"
             ],
             [
              0.1111111111111111,
              "#46039f"
             ],
             [
              0.2222222222222222,
              "#7201a8"
             ],
             [
              0.3333333333333333,
              "#9c179e"
             ],
             [
              0.4444444444444444,
              "#bd3786"
             ],
             [
              0.5555555555555556,
              "#d8576b"
             ],
             [
              0.6666666666666666,
              "#ed7953"
             ],
             [
              0.7777777777777778,
              "#fb9f3a"
             ],
             [
              0.8888888888888888,
              "#fdca26"
             ],
             [
              1,
              "#f0f921"
             ]
            ],
            "type": "surface"
           }
          ],
          "table": [
           {
            "cells": {
             "fill": {
              "color": "#EBF0F8"
             },
             "line": {
              "color": "white"
             }
            },
            "header": {
             "fill": {
              "color": "#C8D4E3"
             },
             "line": {
              "color": "white"
             }
            },
            "type": "table"
           }
          ]
         },
         "layout": {
          "annotationdefaults": {
           "arrowcolor": "#2a3f5f",
           "arrowhead": 0,
           "arrowwidth": 1
          },
          "autotypenumbers": "strict",
          "coloraxis": {
           "colorbar": {
            "outlinewidth": 0,
            "ticks": ""
           }
          },
          "colorscale": {
           "diverging": [
            [
             0,
             "#8e0152"
            ],
            [
             0.1,
             "#c51b7d"
            ],
            [
             0.2,
             "#de77ae"
            ],
            [
             0.3,
             "#f1b6da"
            ],
            [
             0.4,
             "#fde0ef"
            ],
            [
             0.5,
             "#f7f7f7"
            ],
            [
             0.6,
             "#e6f5d0"
            ],
            [
             0.7,
             "#b8e186"
            ],
            [
             0.8,
             "#7fbc41"
            ],
            [
             0.9,
             "#4d9221"
            ],
            [
             1,
             "#276419"
            ]
           ],
           "sequential": [
            [
             0,
             "#0d0887"
            ],
            [
             0.1111111111111111,
             "#46039f"
            ],
            [
             0.2222222222222222,
             "#7201a8"
            ],
            [
             0.3333333333333333,
             "#9c179e"
            ],
            [
             0.4444444444444444,
             "#bd3786"
            ],
            [
             0.5555555555555556,
             "#d8576b"
            ],
            [
             0.6666666666666666,
             "#ed7953"
            ],
            [
             0.7777777777777778,
             "#fb9f3a"
            ],
            [
             0.8888888888888888,
             "#fdca26"
            ],
            [
             1,
             "#f0f921"
            ]
           ],
           "sequentialminus": [
            [
             0,
             "#0d0887"
            ],
            [
             0.1111111111111111,
             "#46039f"
            ],
            [
             0.2222222222222222,
             "#7201a8"
            ],
            [
             0.3333333333333333,
             "#9c179e"
            ],
            [
             0.4444444444444444,
             "#bd3786"
            ],
            [
             0.5555555555555556,
             "#d8576b"
            ],
            [
             0.6666666666666666,
             "#ed7953"
            ],
            [
             0.7777777777777778,
             "#fb9f3a"
            ],
            [
             0.8888888888888888,
             "#fdca26"
            ],
            [
             1,
             "#f0f921"
            ]
           ]
          },
          "colorway": [
           "#636efa",
           "#EF553B",
           "#00cc96",
           "#ab63fa",
           "#FFA15A",
           "#19d3f3",
           "#FF6692",
           "#B6E880",
           "#FF97FF",
           "#FECB52"
          ],
          "font": {
           "color": "#2a3f5f"
          },
          "geo": {
           "bgcolor": "white",
           "lakecolor": "white",
           "landcolor": "#E5ECF6",
           "showlakes": true,
           "showland": true,
           "subunitcolor": "white"
          },
          "hoverlabel": {
           "align": "left"
          },
          "hovermode": "closest",
          "mapbox": {
           "style": "light"
          },
          "paper_bgcolor": "white",
          "plot_bgcolor": "#E5ECF6",
          "polar": {
           "angularaxis": {
            "gridcolor": "white",
            "linecolor": "white",
            "ticks": ""
           },
           "bgcolor": "#E5ECF6",
           "radialaxis": {
            "gridcolor": "white",
            "linecolor": "white",
            "ticks": ""
           }
          },
          "scene": {
           "xaxis": {
            "backgroundcolor": "#E5ECF6",
            "gridcolor": "white",
            "gridwidth": 2,
            "linecolor": "white",
            "showbackground": true,
            "ticks": "",
            "zerolinecolor": "white"
           },
           "yaxis": {
            "backgroundcolor": "#E5ECF6",
            "gridcolor": "white",
            "gridwidth": 2,
            "linecolor": "white",
            "showbackground": true,
            "ticks": "",
            "zerolinecolor": "white"
           },
           "zaxis": {
            "backgroundcolor": "#E5ECF6",
            "gridcolor": "white",
            "gridwidth": 2,
            "linecolor": "white",
            "showbackground": true,
            "ticks": "",
            "zerolinecolor": "white"
           }
          },
          "shapedefaults": {
           "line": {
            "color": "#2a3f5f"
           }
          },
          "ternary": {
           "aaxis": {
            "gridcolor": "white",
            "linecolor": "white",
            "ticks": ""
           },
           "baxis": {
            "gridcolor": "white",
            "linecolor": "white",
            "ticks": ""
           },
           "bgcolor": "#E5ECF6",
           "caxis": {
            "gridcolor": "white",
            "linecolor": "white",
            "ticks": ""
           }
          },
          "title": {
           "x": 0.05
          },
          "xaxis": {
           "automargin": true,
           "gridcolor": "white",
           "linecolor": "white",
           "ticks": "",
           "title": {
            "standoff": 15
           },
           "zerolinecolor": "white",
           "zerolinewidth": 2
          },
          "yaxis": {
           "automargin": true,
           "gridcolor": "white",
           "linecolor": "white",
           "ticks": "",
           "title": {
            "standoff": 15
           },
           "zerolinecolor": "white",
           "zerolinewidth": 2
          }
         }
        },
        "title": {
         "text": "Distribution of labels (GEO=['texas', 'florida'])"
        },
        "xaxis": {
         "anchor": "y",
         "domain": [
          0,
          1
         ],
         "title": {
          "text": "Label"
         }
        },
        "yaxis": {
         "anchor": "x",
         "domain": [
          0,
          1
         ],
         "title": {
          "text": "Count"
         }
        }
       }
      }
     },
     "metadata": {},
     "output_type": "display_data"
    }
   ],
   "source": [
    "mbad_pcnt = df[df.label == \"mbad\"].shape[0] / df.shape[0]\n",
    "mgood_pcnt = df[df.label == \"mgood\"].shape[0] / df.shape[0]\n",
    "mbad_or_mgood_pcnt = df[df.label.isin([\"mbad\", \"mgood\"])].shape[0] / df.shape[0]\n",
    "print(\n",
    "    f\"mbad: {mbad_pcnt:.2%}, mgood: {mgood_pcnt:.2%}, mbad or mgood: {mbad_or_mgood_pcnt:.2%}\"\n",
    ")\n",
    "\n",
    "bar_vals = df.label.value_counts()\n",
    "\n",
    "fig = px.bar(\n",
    "    bar_vals,\n",
    "    x=bar_vals.index,\n",
    "    y=bar_vals.values,\n",
    "    title=f\"Distribution of labels (GEO={GEO})\",\n",
    "    labels={\"index\": \"Label\", \"y\": \"Count\"}\n",
    ")\n",
    "\n",
    "fig.show()"
   ]
  },
  {
   "attachments": {},
   "cell_type": "markdown",
   "metadata": {},
   "source": [
    "## Correlation filter helper function\n",
    "This function allows us to filter down to only include highly correlated features with the label."
   ]
  },
  {
   "cell_type": "code",
   "execution_count": 4,
   "metadata": {},
   "outputs": [],
   "source": [
    "def corr_filter(features, corr_thresh=0.05) -> pd.DataFrame:\n",
    "    \"\"\"Filter features based on correlation with label.\"\"\"\n",
    "\n",
    "    if corr_thresh is None:\n",
    "        return features\n",
    "\n",
    "    to_filter = features.copy()\n",
    "    \n",
    "    to_filter[\"review_id\"] = df.review_id\n",
    "    to_filter[\"label\"] = df.label\n",
    "\n",
    "    # drop na labels. Thanks Charlie :/\n",
    "    to_filter = to_filter.dropna(subset=[\"label\"])\n",
    "\n",
    "    # Turn labels into numbers\n",
    "    labels_list: list = to_filter.label.unique().tolist()\n",
    "    to_filter.label = to_filter.label.apply(lambda label: labels_list.index(label))\n",
    "\n",
    "    # calculate correlation of features with label\n",
    "    features_to_filter = to_filter.drop([\"review_id\", \"label\"], axis=1)\n",
    "    corrs = features_to_filter.corrwith(to_filter.label).sort_values(ascending=False)\n",
    "\n",
    "    # filter features\n",
    "    highly_correlated_features = corrs[corrs.abs() > corr_thresh].index\n",
    "    # drop features with nan correlation\n",
    "    highly_correlated_features = highly_correlated_features.dropna()\n",
    "\n",
    "    # filter features\n",
    "    print(f\"Features above correlation threshold ({corr_thresh}):\")\n",
    "    print(highly_correlated_features.tolist())\n",
    "    filtered = features[highly_correlated_features]\n",
    "    \n",
    "    return filtered"
   ]
  },
  {
   "attachments": {},
   "cell_type": "markdown",
   "metadata": {},
   "source": [
    "### Ngrams"
   ]
  },
  {
   "attachments": {},
   "cell_type": "markdown",
   "metadata": {},
   "source": [
    "What are the most common ngrams for the different types of reviews? What are the most common overlaps?"
   ]
  },
  {
   "cell_type": "code",
   "execution_count": 5,
   "metadata": {},
   "outputs": [],
   "source": [
    "def get_consecutive_ngrams(review, n) -> list:\n",
    "    \"\"\"Helper function to get ngrams from a review.\n",
    "\n",
    "    Args:\n",
    "        review (str): The review to get ngrams from.\n",
    "        n (int): The number of ngrams to get.\n",
    "\n",
    "    Returns:\n",
    "        list: the list of ngrams, joined by underscores.\n",
    "    \"\"\"\n",
    "    if isinstance(review, str):\n",
    "        review = review.split(\"\")\n",
    "\n",
    "    return [\"_\".join(review[i:i+n]) for i in range(len(review)-n-1)]\n",
    "\n",
    "def series_to_ngrams(series: pd.Series, N):\n",
    "    n_grams = series.apply(lambda x: get_consecutive_ngrams(x, N))\n",
    "    return n_grams.explode()\n",
    "\n",
    "def get_exclusive_sizes(good: set, bad: set, mgood: set, mbad: set) -> dict:\n",
    "    \"\"\"Get the sizes of the exclusive sets\"\"\"\n",
    "\n",
    "    only_good = good - bad - mgood - mbad\n",
    "    only_bad = bad - good - mgood - mbad\n",
    "    only_mgood = mgood - good - bad - mbad\n",
    "    only_mbad = mbad - good - bad - mgood\n",
    "    \n",
    "    return {\n",
    "        \"good\": len(only_good),\n",
    "        \"bad\": len(only_bad),\n",
    "        \"mgood\": len(only_mgood),\n",
    "        \"mbad\": len(only_mbad)\n",
    "    }"
   ]
  },
  {
   "attachments": {},
   "cell_type": "markdown",
   "metadata": {},
   "source": [
    "We can look at the number of unique values to each label for different values of N on a line chart."
   ]
  },
  {
   "cell_type": "code",
   "execution_count": 6,
   "metadata": {},
   "outputs": [
    {
     "data": {
      "application/vnd.plotly.v1+json": {
       "config": {
        "plotlyServerURL": "https://plot.ly"
       },
       "data": [
        {
         "hovertemplate": "label=bad<br>N-gram size=%{x}<br>Unique # of n-grams=%{y}<extra></extra>",
         "legendgroup": "bad",
         "line": {
          "color": "#636efa",
          "dash": "solid"
         },
         "marker": {
          "symbol": "circle"
         },
         "mode": "markers+lines",
         "name": "bad",
         "orientation": "v",
         "showlegend": true,
         "type": "scatter",
         "x": [
          1,
          2,
          3,
          4,
          5,
          6
         ],
         "xaxis": "x",
         "y": [
          387,
          5970,
          8193,
          8330,
          8260,
          8181
         ],
         "yaxis": "y"
        },
        {
         "hovertemplate": "label=mgood<br>N-gram size=%{x}<br>Unique # of n-grams=%{y}<extra></extra>",
         "legendgroup": "mgood",
         "line": {
          "color": "#EF553B",
          "dash": "solid"
         },
         "marker": {
          "symbol": "circle"
         },
         "mode": "markers+lines",
         "name": "mgood",
         "orientation": "v",
         "showlegend": true,
         "type": "scatter",
         "x": [
          1,
          2,
          3,
          4,
          5,
          6
         ],
         "xaxis": "x",
         "y": [
          235,
          4541,
          6795,
          7041,
          6984,
          6886
         ],
         "yaxis": "y"
        },
        {
         "hovertemplate": "label=mbad<br>N-gram size=%{x}<br>Unique # of n-grams=%{y}<extra></extra>",
         "legendgroup": "mbad",
         "line": {
          "color": "#00cc96",
          "dash": "solid"
         },
         "marker": {
          "symbol": "circle"
         },
         "mode": "markers+lines",
         "name": "mbad",
         "orientation": "v",
         "showlegend": true,
         "type": "scatter",
         "x": [
          1,
          2,
          3,
          4,
          5,
          6
         ],
         "xaxis": "x",
         "y": [
          634,
          9297,
          12856,
          13137,
          13040,
          12918
         ],
         "yaxis": "y"
        }
       ],
       "layout": {
        "legend": {
         "title": {
          "text": "label"
         },
         "tracegroupgap": 0
        },
        "template": {
         "data": {
          "bar": [
           {
            "error_x": {
             "color": "#2a3f5f"
            },
            "error_y": {
             "color": "#2a3f5f"
            },
            "marker": {
             "line": {
              "color": "#E5ECF6",
              "width": 0.5
             },
             "pattern": {
              "fillmode": "overlay",
              "size": 10,
              "solidity": 0.2
             }
            },
            "type": "bar"
           }
          ],
          "barpolar": [
           {
            "marker": {
             "line": {
              "color": "#E5ECF6",
              "width": 0.5
             },
             "pattern": {
              "fillmode": "overlay",
              "size": 10,
              "solidity": 0.2
             }
            },
            "type": "barpolar"
           }
          ],
          "carpet": [
           {
            "aaxis": {
             "endlinecolor": "#2a3f5f",
             "gridcolor": "white",
             "linecolor": "white",
             "minorgridcolor": "white",
             "startlinecolor": "#2a3f5f"
            },
            "baxis": {
             "endlinecolor": "#2a3f5f",
             "gridcolor": "white",
             "linecolor": "white",
             "minorgridcolor": "white",
             "startlinecolor": "#2a3f5f"
            },
            "type": "carpet"
           }
          ],
          "choropleth": [
           {
            "colorbar": {
             "outlinewidth": 0,
             "ticks": ""
            },
            "type": "choropleth"
           }
          ],
          "contour": [
           {
            "colorbar": {
             "outlinewidth": 0,
             "ticks": ""
            },
            "colorscale": [
             [
              0,
              "#0d0887"
             ],
             [
              0.1111111111111111,
              "#46039f"
             ],
             [
              0.2222222222222222,
              "#7201a8"
             ],
             [
              0.3333333333333333,
              "#9c179e"
             ],
             [
              0.4444444444444444,
              "#bd3786"
             ],
             [
              0.5555555555555556,
              "#d8576b"
             ],
             [
              0.6666666666666666,
              "#ed7953"
             ],
             [
              0.7777777777777778,
              "#fb9f3a"
             ],
             [
              0.8888888888888888,
              "#fdca26"
             ],
             [
              1,
              "#f0f921"
             ]
            ],
            "type": "contour"
           }
          ],
          "contourcarpet": [
           {
            "colorbar": {
             "outlinewidth": 0,
             "ticks": ""
            },
            "type": "contourcarpet"
           }
          ],
          "heatmap": [
           {
            "colorbar": {
             "outlinewidth": 0,
             "ticks": ""
            },
            "colorscale": [
             [
              0,
              "#0d0887"
             ],
             [
              0.1111111111111111,
              "#46039f"
             ],
             [
              0.2222222222222222,
              "#7201a8"
             ],
             [
              0.3333333333333333,
              "#9c179e"
             ],
             [
              0.4444444444444444,
              "#bd3786"
             ],
             [
              0.5555555555555556,
              "#d8576b"
             ],
             [
              0.6666666666666666,
              "#ed7953"
             ],
             [
              0.7777777777777778,
              "#fb9f3a"
             ],
             [
              0.8888888888888888,
              "#fdca26"
             ],
             [
              1,
              "#f0f921"
             ]
            ],
            "type": "heatmap"
           }
          ],
          "heatmapgl": [
           {
            "colorbar": {
             "outlinewidth": 0,
             "ticks": ""
            },
            "colorscale": [
             [
              0,
              "#0d0887"
             ],
             [
              0.1111111111111111,
              "#46039f"
             ],
             [
              0.2222222222222222,
              "#7201a8"
             ],
             [
              0.3333333333333333,
              "#9c179e"
             ],
             [
              0.4444444444444444,
              "#bd3786"
             ],
             [
              0.5555555555555556,
              "#d8576b"
             ],
             [
              0.6666666666666666,
              "#ed7953"
             ],
             [
              0.7777777777777778,
              "#fb9f3a"
             ],
             [
              0.8888888888888888,
              "#fdca26"
             ],
             [
              1,
              "#f0f921"
             ]
            ],
            "type": "heatmapgl"
           }
          ],
          "histogram": [
           {
            "marker": {
             "pattern": {
              "fillmode": "overlay",
              "size": 10,
              "solidity": 0.2
             }
            },
            "type": "histogram"
           }
          ],
          "histogram2d": [
           {
            "colorbar": {
             "outlinewidth": 0,
             "ticks": ""
            },
            "colorscale": [
             [
              0,
              "#0d0887"
             ],
             [
              0.1111111111111111,
              "#46039f"
             ],
             [
              0.2222222222222222,
              "#7201a8"
             ],
             [
              0.3333333333333333,
              "#9c179e"
             ],
             [
              0.4444444444444444,
              "#bd3786"
             ],
             [
              0.5555555555555556,
              "#d8576b"
             ],
             [
              0.6666666666666666,
              "#ed7953"
             ],
             [
              0.7777777777777778,
              "#fb9f3a"
             ],
             [
              0.8888888888888888,
              "#fdca26"
             ],
             [
              1,
              "#f0f921"
             ]
            ],
            "type": "histogram2d"
           }
          ],
          "histogram2dcontour": [
           {
            "colorbar": {
             "outlinewidth": 0,
             "ticks": ""
            },
            "colorscale": [
             [
              0,
              "#0d0887"
             ],
             [
              0.1111111111111111,
              "#46039f"
             ],
             [
              0.2222222222222222,
              "#7201a8"
             ],
             [
              0.3333333333333333,
              "#9c179e"
             ],
             [
              0.4444444444444444,
              "#bd3786"
             ],
             [
              0.5555555555555556,
              "#d8576b"
             ],
             [
              0.6666666666666666,
              "#ed7953"
             ],
             [
              0.7777777777777778,
              "#fb9f3a"
             ],
             [
              0.8888888888888888,
              "#fdca26"
             ],
             [
              1,
              "#f0f921"
             ]
            ],
            "type": "histogram2dcontour"
           }
          ],
          "mesh3d": [
           {
            "colorbar": {
             "outlinewidth": 0,
             "ticks": ""
            },
            "type": "mesh3d"
           }
          ],
          "parcoords": [
           {
            "line": {
             "colorbar": {
              "outlinewidth": 0,
              "ticks": ""
             }
            },
            "type": "parcoords"
           }
          ],
          "pie": [
           {
            "automargin": true,
            "type": "pie"
           }
          ],
          "scatter": [
           {
            "fillpattern": {
             "fillmode": "overlay",
             "size": 10,
             "solidity": 0.2
            },
            "type": "scatter"
           }
          ],
          "scatter3d": [
           {
            "line": {
             "colorbar": {
              "outlinewidth": 0,
              "ticks": ""
             }
            },
            "marker": {
             "colorbar": {
              "outlinewidth": 0,
              "ticks": ""
             }
            },
            "type": "scatter3d"
           }
          ],
          "scattercarpet": [
           {
            "marker": {
             "colorbar": {
              "outlinewidth": 0,
              "ticks": ""
             }
            },
            "type": "scattercarpet"
           }
          ],
          "scattergeo": [
           {
            "marker": {
             "colorbar": {
              "outlinewidth": 0,
              "ticks": ""
             }
            },
            "type": "scattergeo"
           }
          ],
          "scattergl": [
           {
            "marker": {
             "colorbar": {
              "outlinewidth": 0,
              "ticks": ""
             }
            },
            "type": "scattergl"
           }
          ],
          "scattermapbox": [
           {
            "marker": {
             "colorbar": {
              "outlinewidth": 0,
              "ticks": ""
             }
            },
            "type": "scattermapbox"
           }
          ],
          "scatterpolar": [
           {
            "marker": {
             "colorbar": {
              "outlinewidth": 0,
              "ticks": ""
             }
            },
            "type": "scatterpolar"
           }
          ],
          "scatterpolargl": [
           {
            "marker": {
             "colorbar": {
              "outlinewidth": 0,
              "ticks": ""
             }
            },
            "type": "scatterpolargl"
           }
          ],
          "scatterternary": [
           {
            "marker": {
             "colorbar": {
              "outlinewidth": 0,
              "ticks": ""
             }
            },
            "type": "scatterternary"
           }
          ],
          "surface": [
           {
            "colorbar": {
             "outlinewidth": 0,
             "ticks": ""
            },
            "colorscale": [
             [
              0,
              "#0d0887"
             ],
             [
              0.1111111111111111,
              "#46039f"
             ],
             [
              0.2222222222222222,
              "#7201a8"
             ],
             [
              0.3333333333333333,
              "#9c179e"
             ],
             [
              0.4444444444444444,
              "#bd3786"
             ],
             [
              0.5555555555555556,
              "#d8576b"
             ],
             [
              0.6666666666666666,
              "#ed7953"
             ],
             [
              0.7777777777777778,
              "#fb9f3a"
             ],
             [
              0.8888888888888888,
              "#fdca26"
             ],
             [
              1,
              "#f0f921"
             ]
            ],
            "type": "surface"
           }
          ],
          "table": [
           {
            "cells": {
             "fill": {
              "color": "#EBF0F8"
             },
             "line": {
              "color": "white"
             }
            },
            "header": {
             "fill": {
              "color": "#C8D4E3"
             },
             "line": {
              "color": "white"
             }
            },
            "type": "table"
           }
          ]
         },
         "layout": {
          "annotationdefaults": {
           "arrowcolor": "#2a3f5f",
           "arrowhead": 0,
           "arrowwidth": 1
          },
          "autotypenumbers": "strict",
          "coloraxis": {
           "colorbar": {
            "outlinewidth": 0,
            "ticks": ""
           }
          },
          "colorscale": {
           "diverging": [
            [
             0,
             "#8e0152"
            ],
            [
             0.1,
             "#c51b7d"
            ],
            [
             0.2,
             "#de77ae"
            ],
            [
             0.3,
             "#f1b6da"
            ],
            [
             0.4,
             "#fde0ef"
            ],
            [
             0.5,
             "#f7f7f7"
            ],
            [
             0.6,
             "#e6f5d0"
            ],
            [
             0.7,
             "#b8e186"
            ],
            [
             0.8,
             "#7fbc41"
            ],
            [
             0.9,
             "#4d9221"
            ],
            [
             1,
             "#276419"
            ]
           ],
           "sequential": [
            [
             0,
             "#0d0887"
            ],
            [
             0.1111111111111111,
             "#46039f"
            ],
            [
             0.2222222222222222,
             "#7201a8"
            ],
            [
             0.3333333333333333,
             "#9c179e"
            ],
            [
             0.4444444444444444,
             "#bd3786"
            ],
            [
             0.5555555555555556,
             "#d8576b"
            ],
            [
             0.6666666666666666,
             "#ed7953"
            ],
            [
             0.7777777777777778,
             "#fb9f3a"
            ],
            [
             0.8888888888888888,
             "#fdca26"
            ],
            [
             1,
             "#f0f921"
            ]
           ],
           "sequentialminus": [
            [
             0,
             "#0d0887"
            ],
            [
             0.1111111111111111,
             "#46039f"
            ],
            [
             0.2222222222222222,
             "#7201a8"
            ],
            [
             0.3333333333333333,
             "#9c179e"
            ],
            [
             0.4444444444444444,
             "#bd3786"
            ],
            [
             0.5555555555555556,
             "#d8576b"
            ],
            [
             0.6666666666666666,
             "#ed7953"
            ],
            [
             0.7777777777777778,
             "#fb9f3a"
            ],
            [
             0.8888888888888888,
             "#fdca26"
            ],
            [
             1,
             "#f0f921"
            ]
           ]
          },
          "colorway": [
           "#636efa",
           "#EF553B",
           "#00cc96",
           "#ab63fa",
           "#FFA15A",
           "#19d3f3",
           "#FF6692",
           "#B6E880",
           "#FF97FF",
           "#FECB52"
          ],
          "font": {
           "color": "#2a3f5f"
          },
          "geo": {
           "bgcolor": "white",
           "lakecolor": "white",
           "landcolor": "#E5ECF6",
           "showlakes": true,
           "showland": true,
           "subunitcolor": "white"
          },
          "hoverlabel": {
           "align": "left"
          },
          "hovermode": "closest",
          "mapbox": {
           "style": "light"
          },
          "paper_bgcolor": "white",
          "plot_bgcolor": "#E5ECF6",
          "polar": {
           "angularaxis": {
            "gridcolor": "white",
            "linecolor": "white",
            "ticks": ""
           },
           "bgcolor": "#E5ECF6",
           "radialaxis": {
            "gridcolor": "white",
            "linecolor": "white",
            "ticks": ""
           }
          },
          "scene": {
           "xaxis": {
            "backgroundcolor": "#E5ECF6",
            "gridcolor": "white",
            "gridwidth": 2,
            "linecolor": "white",
            "showbackground": true,
            "ticks": "",
            "zerolinecolor": "white"
           },
           "yaxis": {
            "backgroundcolor": "#E5ECF6",
            "gridcolor": "white",
            "gridwidth": 2,
            "linecolor": "white",
            "showbackground": true,
            "ticks": "",
            "zerolinecolor": "white"
           },
           "zaxis": {
            "backgroundcolor": "#E5ECF6",
            "gridcolor": "white",
            "gridwidth": 2,
            "linecolor": "white",
            "showbackground": true,
            "ticks": "",
            "zerolinecolor": "white"
           }
          },
          "shapedefaults": {
           "line": {
            "color": "#2a3f5f"
           }
          },
          "ternary": {
           "aaxis": {
            "gridcolor": "white",
            "linecolor": "white",
            "ticks": ""
           },
           "baxis": {
            "gridcolor": "white",
            "linecolor": "white",
            "ticks": ""
           },
           "bgcolor": "#E5ECF6",
           "caxis": {
            "gridcolor": "white",
            "linecolor": "white",
            "ticks": ""
           }
          },
          "title": {
           "x": 0.05
          },
          "xaxis": {
           "automargin": true,
           "gridcolor": "white",
           "linecolor": "white",
           "ticks": "",
           "title": {
            "standoff": 15
           },
           "zerolinecolor": "white",
           "zerolinewidth": 2
          },
          "yaxis": {
           "automargin": true,
           "gridcolor": "white",
           "linecolor": "white",
           "ticks": "",
           "title": {
            "standoff": 15
           },
           "zerolinecolor": "white",
           "zerolinewidth": 2
          }
         }
        },
        "title": {
         "text": "Unique # of ['texas', 'florida'] n-grams for each label"
        },
        "xaxis": {
         "anchor": "y",
         "domain": [
          0,
          1
         ],
         "title": {
          "text": "N-gram size"
         }
        },
        "yaxis": {
         "anchor": "x",
         "domain": [
          0,
          1
         ],
         "title": {
          "text": "Unique # of n-grams"
         }
        }
       }
      }
     },
     "metadata": {},
     "output_type": "display_data"
    }
   ],
   "source": [
    "import plotly.express as px\n",
    "\n",
    "intersection_sizes = []\n",
    "for n in [1, 2, 3, 4, 5, 6]:\n",
    "\n",
    "    good_ngrams = series_to_ngrams(df[df.label == \"good\"].comments, n).value_counts()\n",
    "    bad_ngrams = series_to_ngrams(df[df.label == \"bad\"].comments, n).value_counts()\n",
    "    mgood_ngrams = series_to_ngrams(df[df.label == \"mgood\"].comments, n).value_counts()\n",
    "    mbad_ngrams = series_to_ngrams(df[df.label == \"mbad\"].comments, n).value_counts()\n",
    "    intersection_sizes_n = get_exclusive_sizes(\n",
    "        set(good_ngrams.index),\n",
    "        set(bad_ngrams.index),\n",
    "        set(mgood_ngrams.index),\n",
    "        set(mbad_ngrams.index)\n",
    "    )\n",
    "\n",
    "    intersection_sizes_n[\"n\"] = n\n",
    "\n",
    "    intersection_sizes.append(intersection_sizes_n)\n",
    "\n",
    "\n",
    "# prepare data\n",
    "is_df = pd.DataFrame(intersection_sizes)\n",
    "is_df = is_df.melt(id_vars=\"n\", var_name=\"label\", value_name=\"count\")\n",
    "is_df[\"count\"] = is_df[\"count\"].astype(int)\n",
    "is_df[\"n\"] = is_df[\"n\"].astype(int)\n",
    "\n",
    "# exclude good \n",
    "is_df = is_df[is_df.label != \"good\"]\n",
    "\n",
    "# plot a line chart\n",
    "px.line(is_df, \n",
    "    x=\"n\", y=\"count\",\n",
    "    color=\"label\",\n",
    "    title=f\"Unique # of {GEO} n-grams for each label\", \n",
    "    labels={\"n\": \"N-gram size\", \"count\": \"Unique # of n-grams\"},\n",
    "    markers=True\n",
    "    )"
   ]
  },
  {
   "attachments": {},
   "cell_type": "markdown",
   "metadata": {},
   "source": [
    "We can see that the number of unique ngrams increases until about n=3, and then levels off. What are the top 10 3-grams for misleading reviews?"
   ]
  },
  {
   "cell_type": "code",
   "execution_count": 7,
   "metadata": {},
   "outputs": [
    {
     "name": "stdout",
     "output_type": "stream",
     "text": [
      "Top 10 most common 3-grams in misleading reviews:\n"
     ]
    },
    {
     "data": {
      "text/plain": [
       "[('within_walking_distance', 11),\n",
       " ('would_not_recommend', 10),\n",
       " ('made_u_feel', 4),\n",
       " ('living_room_furniture', 4),\n",
       " ('not_recommend_staying', 4),\n",
       " ('not_big_deal', 4),\n",
       " ('great_place_stay', 4),\n",
       " ('let_u_know', 4),\n",
       " ('not_work_not', 3),\n",
       " ('give_4_star', 3)]"
      ]
     },
     "execution_count": 7,
     "metadata": {},
     "output_type": "execute_result"
    }
   ],
   "source": [
    "import numpy as np\n",
    "from collections import Counter\n",
    "\n",
    "# get subset of misleading reviews\n",
    "subset = df[df.label.isin([\"mbad\", \"mgood\"])]\n",
    "\n",
    "# get groups of N consecutive words\n",
    "N = 3\n",
    "n_grams = series_to_ngrams(subset.comments, N).to_list()\n",
    "\n",
    "print(f\"Top 10 most common {N}-grams in misleading reviews:\")\n",
    "Counter(n_grams).most_common(10)"
   ]
  },
  {
   "attachments": {},
   "cell_type": "markdown",
   "metadata": {},
   "source": [
    "Now let's look at a word cloud of the N-grams in misleading reviews."
   ]
  },
  {
   "cell_type": "code",
   "execution_count": 8,
   "metadata": {},
   "outputs": [
    {
     "data": {
      "application/vnd.plotly.v1+json": {
       "config": {
        "plotlyServerURL": "https://plot.ly"
       },
       "data": [
        {
         "hovertemplate": "x: %{x}<br>y: %{y}<br>color: [%{z[0]}, %{z[1]}, %{z[2]}]<extra></extra>",
         "name": "0",
         "source": "data:image/png;base64,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",
         "type": "image",
         "xaxis": "x",
         "yaxis": "y"
        }
       ],
       "layout": {
        "height": 700,
        "template": {
         "data": {
          "bar": [
           {
            "error_x": {
             "color": "#2a3f5f"
            },
            "error_y": {
             "color": "#2a3f5f"
            },
            "marker": {
             "line": {
              "color": "#E5ECF6",
              "width": 0.5
             },
             "pattern": {
              "fillmode": "overlay",
              "size": 10,
              "solidity": 0.2
             }
            },
            "type": "bar"
           }
          ],
          "barpolar": [
           {
            "marker": {
             "line": {
              "color": "#E5ECF6",
              "width": 0.5
             },
             "pattern": {
              "fillmode": "overlay",
              "size": 10,
              "solidity": 0.2
             }
            },
            "type": "barpolar"
           }
          ],
          "carpet": [
           {
            "aaxis": {
             "endlinecolor": "#2a3f5f",
             "gridcolor": "white",
             "linecolor": "white",
             "minorgridcolor": "white",
             "startlinecolor": "#2a3f5f"
            },
            "baxis": {
             "endlinecolor": "#2a3f5f",
             "gridcolor": "white",
             "linecolor": "white",
             "minorgridcolor": "white",
             "startlinecolor": "#2a3f5f"
            },
            "type": "carpet"
           }
          ],
          "choropleth": [
           {
            "colorbar": {
             "outlinewidth": 0,
             "ticks": ""
            },
            "type": "choropleth"
           }
          ],
          "contour": [
           {
            "colorbar": {
             "outlinewidth": 0,
             "ticks": ""
            },
            "colorscale": [
             [
              0,
              "#0d0887"
             ],
             [
              0.1111111111111111,
              "#46039f"
             ],
             [
              0.2222222222222222,
              "#7201a8"
             ],
             [
              0.3333333333333333,
              "#9c179e"
             ],
             [
              0.4444444444444444,
              "#bd3786"
             ],
             [
              0.5555555555555556,
              "#d8576b"
             ],
             [
              0.6666666666666666,
              "#ed7953"
             ],
             [
              0.7777777777777778,
              "#fb9f3a"
             ],
             [
              0.8888888888888888,
              "#fdca26"
             ],
             [
              1,
              "#f0f921"
             ]
            ],
            "type": "contour"
           }
          ],
          "contourcarpet": [
           {
            "colorbar": {
             "outlinewidth": 0,
             "ticks": ""
            },
            "type": "contourcarpet"
           }
          ],
          "heatmap": [
           {
            "colorbar": {
             "outlinewidth": 0,
             "ticks": ""
            },
            "colorscale": [
             [
              0,
              "#0d0887"
             ],
             [
              0.1111111111111111,
              "#46039f"
             ],
             [
              0.2222222222222222,
              "#7201a8"
             ],
             [
              0.3333333333333333,
              "#9c179e"
             ],
             [
              0.4444444444444444,
              "#bd3786"
             ],
             [
              0.5555555555555556,
              "#d8576b"
             ],
             [
              0.6666666666666666,
              "#ed7953"
             ],
             [
              0.7777777777777778,
              "#fb9f3a"
             ],
             [
              0.8888888888888888,
              "#fdca26"
             ],
             [
              1,
              "#f0f921"
             ]
            ],
            "type": "heatmap"
           }
          ],
          "heatmapgl": [
           {
            "colorbar": {
             "outlinewidth": 0,
             "ticks": ""
            },
            "colorscale": [
             [
              0,
              "#0d0887"
             ],
             [
              0.1111111111111111,
              "#46039f"
             ],
             [
              0.2222222222222222,
              "#7201a8"
             ],
             [
              0.3333333333333333,
              "#9c179e"
             ],
             [
              0.4444444444444444,
              "#bd3786"
             ],
             [
              0.5555555555555556,
              "#d8576b"
             ],
             [
              0.6666666666666666,
              "#ed7953"
             ],
             [
              0.7777777777777778,
              "#fb9f3a"
             ],
             [
              0.8888888888888888,
              "#fdca26"
             ],
             [
              1,
              "#f0f921"
             ]
            ],
            "type": "heatmapgl"
           }
          ],
          "histogram": [
           {
            "marker": {
             "pattern": {
              "fillmode": "overlay",
              "size": 10,
              "solidity": 0.2
             }
            },
            "type": "histogram"
           }
          ],
          "histogram2d": [
           {
            "colorbar": {
             "outlinewidth": 0,
             "ticks": ""
            },
            "colorscale": [
             [
              0,
              "#0d0887"
             ],
             [
              0.1111111111111111,
              "#46039f"
             ],
             [
              0.2222222222222222,
              "#7201a8"
             ],
             [
              0.3333333333333333,
              "#9c179e"
             ],
             [
              0.4444444444444444,
              "#bd3786"
             ],
             [
              0.5555555555555556,
              "#d8576b"
             ],
             [
              0.6666666666666666,
              "#ed7953"
             ],
             [
              0.7777777777777778,
              "#fb9f3a"
             ],
             [
              0.8888888888888888,
              "#fdca26"
             ],
             [
              1,
              "#f0f921"
             ]
            ],
            "type": "histogram2d"
           }
          ],
          "histogram2dcontour": [
           {
            "colorbar": {
             "outlinewidth": 0,
             "ticks": ""
            },
            "colorscale": [
             [
              0,
              "#0d0887"
             ],
             [
              0.1111111111111111,
              "#46039f"
             ],
             [
              0.2222222222222222,
              "#7201a8"
             ],
             [
              0.3333333333333333,
              "#9c179e"
             ],
             [
              0.4444444444444444,
              "#bd3786"
             ],
             [
              0.5555555555555556,
              "#d8576b"
             ],
             [
              0.6666666666666666,
              "#ed7953"
             ],
             [
              0.7777777777777778,
              "#fb9f3a"
             ],
             [
              0.8888888888888888,
              "#fdca26"
             ],
             [
              1,
              "#f0f921"
             ]
            ],
            "type": "histogram2dcontour"
           }
          ],
          "mesh3d": [
           {
            "colorbar": {
             "outlinewidth": 0,
             "ticks": ""
            },
            "type": "mesh3d"
           }
          ],
          "parcoords": [
           {
            "line": {
             "colorbar": {
              "outlinewidth": 0,
              "ticks": ""
             }
            },
            "type": "parcoords"
           }
          ],
          "pie": [
           {
            "automargin": true,
            "type": "pie"
           }
          ],
          "scatter": [
           {
            "fillpattern": {
             "fillmode": "overlay",
             "size": 10,
             "solidity": 0.2
            },
            "type": "scatter"
           }
          ],
          "scatter3d": [
           {
            "line": {
             "colorbar": {
              "outlinewidth": 0,
              "ticks": ""
             }
            },
            "marker": {
             "colorbar": {
              "outlinewidth": 0,
              "ticks": ""
             }
            },
            "type": "scatter3d"
           }
          ],
          "scattercarpet": [
           {
            "marker": {
             "colorbar": {
              "outlinewidth": 0,
              "ticks": ""
             }
            },
            "type": "scattercarpet"
           }
          ],
          "scattergeo": [
           {
            "marker": {
             "colorbar": {
              "outlinewidth": 0,
              "ticks": ""
             }
            },
            "type": "scattergeo"
           }
          ],
          "scattergl": [
           {
            "marker": {
             "colorbar": {
              "outlinewidth": 0,
              "ticks": ""
             }
            },
            "type": "scattergl"
           }
          ],
          "scattermapbox": [
           {
            "marker": {
             "colorbar": {
              "outlinewidth": 0,
              "ticks": ""
             }
            },
            "type": "scattermapbox"
           }
          ],
          "scatterpolar": [
           {
            "marker": {
             "colorbar": {
              "outlinewidth": 0,
              "ticks": ""
             }
            },
            "type": "scatterpolar"
           }
          ],
          "scatterpolargl": [
           {
            "marker": {
             "colorbar": {
              "outlinewidth": 0,
              "ticks": ""
             }
            },
            "type": "scatterpolargl"
           }
          ],
          "scatterternary": [
           {
            "marker": {
             "colorbar": {
              "outlinewidth": 0,
              "ticks": ""
             }
            },
            "type": "scatterternary"
           }
          ],
          "surface": [
           {
            "colorbar": {
             "outlinewidth": 0,
             "ticks": ""
            },
            "colorscale": [
             [
              0,
              "#0d0887"
             ],
             [
              0.1111111111111111,
              "#46039f"
             ],
             [
              0.2222222222222222,
              "#7201a8"
             ],
             [
              0.3333333333333333,
              "#9c179e"
             ],
             [
              0.4444444444444444,
              "#bd3786"
             ],
             [
              0.5555555555555556,
              "#d8576b"
             ],
             [
              0.6666666666666666,
              "#ed7953"
             ],
             [
              0.7777777777777778,
              "#fb9f3a"
             ],
             [
              0.8888888888888888,
              "#fdca26"
             ],
             [
              1,
              "#f0f921"
             ]
            ],
            "type": "surface"
           }
          ],
          "table": [
           {
            "cells": {
             "fill": {
              "color": "#EBF0F8"
             },
             "line": {
              "color": "white"
             }
            },
            "header": {
             "fill": {
              "color": "#C8D4E3"
             },
             "line": {
              "color": "white"
             }
            },
            "type": "table"
           }
          ]
         },
         "layout": {
          "annotationdefaults": {
           "arrowcolor": "#2a3f5f",
           "arrowhead": 0,
           "arrowwidth": 1
          },
          "autotypenumbers": "strict",
          "coloraxis": {
           "colorbar": {
            "outlinewidth": 0,
            "ticks": ""
           }
          },
          "colorscale": {
           "diverging": [
            [
             0,
             "#8e0152"
            ],
            [
             0.1,
             "#c51b7d"
            ],
            [
             0.2,
             "#de77ae"
            ],
            [
             0.3,
             "#f1b6da"
            ],
            [
             0.4,
             "#fde0ef"
            ],
            [
             0.5,
             "#f7f7f7"
            ],
            [
             0.6,
             "#e6f5d0"
            ],
            [
             0.7,
             "#b8e186"
            ],
            [
             0.8,
             "#7fbc41"
            ],
            [
             0.9,
             "#4d9221"
            ],
            [
             1,
             "#276419"
            ]
           ],
           "sequential": [
            [
             0,
             "#0d0887"
            ],
            [
             0.1111111111111111,
             "#46039f"
            ],
            [
             0.2222222222222222,
             "#7201a8"
            ],
            [
             0.3333333333333333,
             "#9c179e"
            ],
            [
             0.4444444444444444,
             "#bd3786"
            ],
            [
             0.5555555555555556,
             "#d8576b"
            ],
            [
             0.6666666666666666,
             "#ed7953"
            ],
            [
             0.7777777777777778,
             "#fb9f3a"
            ],
            [
             0.8888888888888888,
             "#fdca26"
            ],
            [
             1,
             "#f0f921"
            ]
           ],
           "sequentialminus": [
            [
             0,
             "#0d0887"
            ],
            [
             0.1111111111111111,
             "#46039f"
            ],
            [
             0.2222222222222222,
             "#7201a8"
            ],
            [
             0.3333333333333333,
             "#9c179e"
            ],
            [
             0.4444444444444444,
             "#bd3786"
            ],
            [
             0.5555555555555556,
             "#d8576b"
            ],
            [
             0.6666666666666666,
             "#ed7953"
            ],
            [
             0.7777777777777778,
             "#fb9f3a"
            ],
            [
             0.8888888888888888,
             "#fdca26"
            ],
            [
             1,
             "#f0f921"
            ]
           ]
          },
          "colorway": [
           "#636efa",
           "#EF553B",
           "#00cc96",
           "#ab63fa",
           "#FFA15A",
           "#19d3f3",
           "#FF6692",
           "#B6E880",
           "#FF97FF",
           "#FECB52"
          ],
          "font": {
           "color": "#2a3f5f"
          },
          "geo": {
           "bgcolor": "white",
           "lakecolor": "white",
           "landcolor": "#E5ECF6",
           "showlakes": true,
           "showland": true,
           "subunitcolor": "white"
          },
          "hoverlabel": {
           "align": "left"
          },
          "hovermode": "closest",
          "mapbox": {
           "style": "light"
          },
          "paper_bgcolor": "white",
          "plot_bgcolor": "#E5ECF6",
          "polar": {
           "angularaxis": {
            "gridcolor": "white",
            "linecolor": "white",
            "ticks": ""
           },
           "bgcolor": "#E5ECF6",
           "radialaxis": {
            "gridcolor": "white",
            "linecolor": "white",
            "ticks": ""
           }
          },
          "scene": {
           "xaxis": {
            "backgroundcolor": "#E5ECF6",
            "gridcolor": "white",
            "gridwidth": 2,
            "linecolor": "white",
            "showbackground": true,
            "ticks": "",
            "zerolinecolor": "white"
           },
           "yaxis": {
            "backgroundcolor": "#E5ECF6",
            "gridcolor": "white",
            "gridwidth": 2,
            "linecolor": "white",
            "showbackground": true,
            "ticks": "",
            "zerolinecolor": "white"
           },
           "zaxis": {
            "backgroundcolor": "#E5ECF6",
            "gridcolor": "white",
            "gridwidth": 2,
            "linecolor": "white",
            "showbackground": true,
            "ticks": "",
            "zerolinecolor": "white"
           }
          },
          "shapedefaults": {
           "line": {
            "color": "#2a3f5f"
           }
          },
          "ternary": {
           "aaxis": {
            "gridcolor": "white",
            "linecolor": "white",
            "ticks": ""
           },
           "baxis": {
            "gridcolor": "white",
            "linecolor": "white",
            "ticks": ""
           },
           "bgcolor": "#E5ECF6",
           "caxis": {
            "gridcolor": "white",
            "linecolor": "white",
            "ticks": ""
           }
          },
          "title": {
           "x": 0.05
          },
          "xaxis": {
           "automargin": true,
           "gridcolor": "white",
           "linecolor": "white",
           "ticks": "",
           "title": {
            "standoff": 15
           },
           "zerolinecolor": "white",
           "zerolinewidth": 2
          },
          "yaxis": {
           "automargin": true,
           "gridcolor": "white",
           "linecolor": "white",
           "ticks": "",
           "title": {
            "standoff": 15
           },
           "zerolinecolor": "white",
           "zerolinewidth": 2
          }
         }
        },
        "title": {
         "text": "Most common 3-grams in misleading reviews"
        },
        "width": 700,
        "xaxis": {
         "anchor": "y",
         "domain": [
          0,
          1
         ],
         "visible": false
        },
        "yaxis": {
         "anchor": "x",
         "domain": [
          0,
          1
         ],
         "visible": false
        }
       }
      }
     },
     "metadata": {},
     "output_type": "display_data"
    }
   ],
   "source": [
    "from wordcloud import WordCloud\n",
    "from PIL import Image\n",
    "\n",
    "ngrams_str = \" \".join(n_grams)\n",
    "\n",
    "# make house-shaped mask\n",
    "mask = np.array(Image.open(\"../../house_shape.png\"))\n",
    "# fill transparent areas with white\n",
    "mask[mask[:, :, 3] == 0] = [255, 255, 255, 255]\n",
    "\n",
    "# generate wordcloud\n",
    "wc = WordCloud(\n",
    "    background_color=\"white\", \n",
    "    max_words=1000, \n",
    "    width=mask.shape[0]*5,\n",
    "    height=mask.shape[1]*5,\n",
    "    mask = mask,\n",
    "    contour_width=3,\n",
    "    contour_color='steelblue',\n",
    "    colormap=\"twilight_shifted\"\n",
    ").generate(ngrams_str)\n",
    "\n",
    "wc\n",
    "\n",
    "# show wordcloud\n",
    "fig = px.imshow(wc, title=f\"Most common {N}-grams in misleading reviews\", width=700, height=700)\n",
    "fig.update_xaxes(visible=False)\n",
    "fig.update_yaxes(visible=False)\n",
    "fig.show()"
   ]
  },
  {
   "attachments": {},
   "cell_type": "markdown",
   "metadata": {},
   "source": [
    "Here is a reusable function to add ngrams features to a dataframe."
   ]
  },
  {
   "cell_type": "code",
   "execution_count": 9,
   "metadata": {},
   "outputs": [],
   "source": [
    "def ngrams_features(features, n, prefix=\"ngrams_\", corr_thresh=0.05):\n",
    "    \"\"\"Add n-gram features to the features dataframe.\"\"\"\n",
    "\n",
    "    # one-hot encode ngrams\n",
    "    df[\"ngrams\"] = df.comments.apply(lambda x: set(get_consecutive_ngrams(x, 3)))\n",
    "\n",
    "    # get set of ngrams\n",
    "    ng_set = set(series_to_ngrams(subset.comments, n).to_list())\n",
    "\n",
    "    # one-hot encode ngrams\n",
    "    ngram_features = {}\n",
    "    for ngram in ng_set:\n",
    "        ngram_features[prefix + ngram] = df.ngrams.apply(lambda ngrams: 1 if ngram in ngrams else 0)\n",
    "    ngram_df = pd.DataFrame(ngram_features)\n",
    "    \n",
    "    # filter features on correlation with label\n",
    "    ngrams_df = corr_filter(ngram_df, corr_thresh=corr_thresh)\n",
    "\n",
    "    # add ngram features to features dataframe\n",
    "    features = pd.concat([features, ngrams_df], axis=1)\n",
    "\n",
    "\n",
    "    return features"
   ]
  },
  {
   "cell_type": "code",
   "execution_count": 10,
   "metadata": {},
   "outputs": [
    {
     "name": "stdout",
     "output_type": "stream",
     "text": [
      "Features above correlation threshold (0.09):\n",
      "['ngrams_would_not_recommend', 'ngrams_no_toilet_paper', 'ngrams_not_recommend_staying', 'ngrams_write_negative_review', 'ngrams_sleep_bedroom_door', 'ngrams_specifically_asked_not', 'ngrams_told_cleaning_lady', 'ngrams_let_start_saying', 'ngrams_staying_another_unit', 'ngrams_felt_compelled_write', 'ngrams_living_room_couch', 'ngrams_property_management_company', 'ngrams_phone_call_text', 'ngrams_need_major_overhaul', 'ngrams_time_opened_door', 'ngrams_not_clean_arrived', 'ngrams_big_issue_u', 'ngrams_burned_light_bulb', 'ngrams_very_bad_shape', 'ngrams_never_responded_message', 'ngrams_not_feel_comfortable', 'ngrams_worse_experience_ever', 'ngrams_shower_curtain_covered', 'ngrams_place_sleep_10', 'ngrams_could_not_access', 'ngrams_never_met_host', 'ngrams_take_cold_shower', 'ngrams_old_not_well', 'ngrams_freezer_not_work', 'ngrams_got_no_response', 'ngrams_toilet_paper_buy', 'ngrams_not_really_clean', 'ngrams_expected_based_description', 'ngrams_got_no_answer', 'ngrams_need_deep_cleaning', 'ngrams_guest_not_able', 'ngrams_start_good_thing', 'ngrams_spend_lot_time', 'ngrams_very_old_not', 'ngrams_per_night_not', 'ngrams_obviously_not_cleaned', 'ngrams_call_text_message']\n"
     ]
    },
    {
     "data": {
      "text/html": [
       "<div>\n",
       "<style scoped>\n",
       "    .dataframe tbody tr th:only-of-type {\n",
       "        vertical-align: middle;\n",
       "    }\n",
       "\n",
       "    .dataframe tbody tr th {\n",
       "        vertical-align: top;\n",
       "    }\n",
       "\n",
       "    .dataframe thead th {\n",
       "        text-align: right;\n",
       "    }\n",
       "</style>\n",
       "<table border=\"1\" class=\"dataframe\">\n",
       "  <thead>\n",
       "    <tr style=\"text-align: right;\">\n",
       "      <th></th>\n",
       "      <th>ngrams_would_not_recommend</th>\n",
       "      <th>ngrams_no_toilet_paper</th>\n",
       "      <th>ngrams_not_recommend_staying</th>\n",
       "      <th>ngrams_write_negative_review</th>\n",
       "      <th>ngrams_sleep_bedroom_door</th>\n",
       "      <th>ngrams_specifically_asked_not</th>\n",
       "      <th>ngrams_told_cleaning_lady</th>\n",
       "      <th>ngrams_let_start_saying</th>\n",
       "      <th>ngrams_staying_another_unit</th>\n",
       "      <th>ngrams_felt_compelled_write</th>\n",
       "      <th>...</th>\n",
       "      <th>ngrams_expected_based_description</th>\n",
       "      <th>ngrams_got_no_answer</th>\n",
       "      <th>ngrams_need_deep_cleaning</th>\n",
       "      <th>ngrams_guest_not_able</th>\n",
       "      <th>ngrams_start_good_thing</th>\n",
       "      <th>ngrams_spend_lot_time</th>\n",
       "      <th>ngrams_very_old_not</th>\n",
       "      <th>ngrams_per_night_not</th>\n",
       "      <th>ngrams_obviously_not_cleaned</th>\n",
       "      <th>ngrams_call_text_message</th>\n",
       "    </tr>\n",
       "  </thead>\n",
       "  <tbody>\n",
       "    <tr>\n",
       "      <th>0</th>\n",
       "      <td>0</td>\n",
       "      <td>0</td>\n",
       "      <td>0</td>\n",
       "      <td>0</td>\n",
       "      <td>0</td>\n",
       "      <td>0</td>\n",
       "      <td>0</td>\n",
       "      <td>0</td>\n",
       "      <td>0</td>\n",
       "      <td>0</td>\n",
       "      <td>...</td>\n",
       "      <td>0</td>\n",
       "      <td>0</td>\n",
       "      <td>0</td>\n",
       "      <td>0</td>\n",
       "      <td>0</td>\n",
       "      <td>0</td>\n",
       "      <td>0</td>\n",
       "      <td>0</td>\n",
       "      <td>0</td>\n",
       "      <td>0</td>\n",
       "    </tr>\n",
       "    <tr>\n",
       "      <th>1</th>\n",
       "      <td>0</td>\n",
       "      <td>0</td>\n",
       "      <td>0</td>\n",
       "      <td>0</td>\n",
       "      <td>0</td>\n",
       "      <td>0</td>\n",
       "      <td>0</td>\n",
       "      <td>0</td>\n",
       "      <td>0</td>\n",
       "      <td>0</td>\n",
       "      <td>...</td>\n",
       "      <td>0</td>\n",
       "      <td>0</td>\n",
       "      <td>0</td>\n",
       "      <td>0</td>\n",
       "      <td>0</td>\n",
       "      <td>0</td>\n",
       "      <td>0</td>\n",
       "      <td>0</td>\n",
       "      <td>0</td>\n",
       "      <td>0</td>\n",
       "    </tr>\n",
       "    <tr>\n",
       "      <th>2</th>\n",
       "      <td>0</td>\n",
       "      <td>0</td>\n",
       "      <td>0</td>\n",
       "      <td>0</td>\n",
       "      <td>0</td>\n",
       "      <td>0</td>\n",
       "      <td>0</td>\n",
       "      <td>0</td>\n",
       "      <td>0</td>\n",
       "      <td>0</td>\n",
       "      <td>...</td>\n",
       "      <td>0</td>\n",
       "      <td>0</td>\n",
       "      <td>0</td>\n",
       "      <td>0</td>\n",
       "      <td>0</td>\n",
       "      <td>0</td>\n",
       "      <td>0</td>\n",
       "      <td>0</td>\n",
       "      <td>0</td>\n",
       "      <td>0</td>\n",
       "    </tr>\n",
       "    <tr>\n",
       "      <th>3</th>\n",
       "      <td>0</td>\n",
       "      <td>0</td>\n",
       "      <td>0</td>\n",
       "      <td>0</td>\n",
       "      <td>0</td>\n",
       "      <td>0</td>\n",
       "      <td>0</td>\n",
       "      <td>0</td>\n",
       "      <td>0</td>\n",
       "      <td>0</td>\n",
       "      <td>...</td>\n",
       "      <td>0</td>\n",
       "      <td>0</td>\n",
       "      <td>0</td>\n",
       "      <td>0</td>\n",
       "      <td>0</td>\n",
       "      <td>0</td>\n",
       "      <td>0</td>\n",
       "      <td>0</td>\n",
       "      <td>0</td>\n",
       "      <td>0</td>\n",
       "    </tr>\n",
       "    <tr>\n",
       "      <th>4</th>\n",
       "      <td>0</td>\n",
       "      <td>0</td>\n",
       "      <td>0</td>\n",
       "      <td>0</td>\n",
       "      <td>0</td>\n",
       "      <td>0</td>\n",
       "      <td>0</td>\n",
       "      <td>0</td>\n",
       "      <td>0</td>\n",
       "      <td>0</td>\n",
       "      <td>...</td>\n",
       "      <td>0</td>\n",
       "      <td>0</td>\n",
       "      <td>0</td>\n",
       "      <td>0</td>\n",
       "      <td>0</td>\n",
       "      <td>0</td>\n",
       "      <td>0</td>\n",
       "      <td>0</td>\n",
       "      <td>0</td>\n",
       "      <td>0</td>\n",
       "    </tr>\n",
       "    <tr>\n",
       "      <th>...</th>\n",
       "      <td>...</td>\n",
       "      <td>...</td>\n",
       "      <td>...</td>\n",
       "      <td>...</td>\n",
       "      <td>...</td>\n",
       "      <td>...</td>\n",
       "      <td>...</td>\n",
       "      <td>...</td>\n",
       "      <td>...</td>\n",
       "      <td>...</td>\n",
       "      <td>...</td>\n",
       "      <td>...</td>\n",
       "      <td>...</td>\n",
       "      <td>...</td>\n",
       "      <td>...</td>\n",
       "      <td>...</td>\n",
       "      <td>...</td>\n",
       "      <td>...</td>\n",
       "      <td>...</td>\n",
       "      <td>...</td>\n",
       "      <td>...</td>\n",
       "    </tr>\n",
       "    <tr>\n",
       "      <th>1541</th>\n",
       "      <td>0</td>\n",
       "      <td>0</td>\n",
       "      <td>0</td>\n",
       "      <td>1</td>\n",
       "      <td>0</td>\n",
       "      <td>0</td>\n",
       "      <td>0</td>\n",
       "      <td>0</td>\n",
       "      <td>0</td>\n",
       "      <td>0</td>\n",
       "      <td>...</td>\n",
       "      <td>0</td>\n",
       "      <td>0</td>\n",
       "      <td>0</td>\n",
       "      <td>0</td>\n",
       "      <td>0</td>\n",
       "      <td>0</td>\n",
       "      <td>0</td>\n",
       "      <td>0</td>\n",
       "      <td>0</td>\n",
       "      <td>0</td>\n",
       "    </tr>\n",
       "    <tr>\n",
       "      <th>1542</th>\n",
       "      <td>0</td>\n",
       "      <td>0</td>\n",
       "      <td>0</td>\n",
       "      <td>0</td>\n",
       "      <td>0</td>\n",
       "      <td>0</td>\n",
       "      <td>0</td>\n",
       "      <td>0</td>\n",
       "      <td>0</td>\n",
       "      <td>0</td>\n",
       "      <td>...</td>\n",
       "      <td>0</td>\n",
       "      <td>0</td>\n",
       "      <td>0</td>\n",
       "      <td>0</td>\n",
       "      <td>0</td>\n",
       "      <td>0</td>\n",
       "      <td>0</td>\n",
       "      <td>0</td>\n",
       "      <td>0</td>\n",
       "      <td>0</td>\n",
       "    </tr>\n",
       "    <tr>\n",
       "      <th>1543</th>\n",
       "      <td>0</td>\n",
       "      <td>0</td>\n",
       "      <td>0</td>\n",
       "      <td>0</td>\n",
       "      <td>0</td>\n",
       "      <td>0</td>\n",
       "      <td>0</td>\n",
       "      <td>0</td>\n",
       "      <td>0</td>\n",
       "      <td>0</td>\n",
       "      <td>...</td>\n",
       "      <td>0</td>\n",
       "      <td>0</td>\n",
       "      <td>0</td>\n",
       "      <td>0</td>\n",
       "      <td>0</td>\n",
       "      <td>0</td>\n",
       "      <td>0</td>\n",
       "      <td>0</td>\n",
       "      <td>0</td>\n",
       "      <td>0</td>\n",
       "    </tr>\n",
       "    <tr>\n",
       "      <th>1544</th>\n",
       "      <td>0</td>\n",
       "      <td>0</td>\n",
       "      <td>0</td>\n",
       "      <td>0</td>\n",
       "      <td>0</td>\n",
       "      <td>0</td>\n",
       "      <td>0</td>\n",
       "      <td>0</td>\n",
       "      <td>0</td>\n",
       "      <td>0</td>\n",
       "      <td>...</td>\n",
       "      <td>0</td>\n",
       "      <td>0</td>\n",
       "      <td>0</td>\n",
       "      <td>0</td>\n",
       "      <td>0</td>\n",
       "      <td>0</td>\n",
       "      <td>0</td>\n",
       "      <td>0</td>\n",
       "      <td>0</td>\n",
       "      <td>0</td>\n",
       "    </tr>\n",
       "    <tr>\n",
       "      <th>1545</th>\n",
       "      <td>0</td>\n",
       "      <td>0</td>\n",
       "      <td>0</td>\n",
       "      <td>0</td>\n",
       "      <td>0</td>\n",
       "      <td>0</td>\n",
       "      <td>0</td>\n",
       "      <td>0</td>\n",
       "      <td>0</td>\n",
       "      <td>0</td>\n",
       "      <td>...</td>\n",
       "      <td>0</td>\n",
       "      <td>0</td>\n",
       "      <td>0</td>\n",
       "      <td>0</td>\n",
       "      <td>0</td>\n",
       "      <td>0</td>\n",
       "      <td>0</td>\n",
       "      <td>0</td>\n",
       "      <td>0</td>\n",
       "      <td>0</td>\n",
       "    </tr>\n",
       "  </tbody>\n",
       "</table>\n",
       "<p>1546 rows × 42 columns</p>\n",
       "</div>"
      ],
      "text/plain": [
       "      ngrams_would_not_recommend  ngrams_no_toilet_paper  \\\n",
       "0                              0                       0   \n",
       "1                              0                       0   \n",
       "2                              0                       0   \n",
       "3                              0                       0   \n",
       "4                              0                       0   \n",
       "...                          ...                     ...   \n",
       "1541                           0                       0   \n",
       "1542                           0                       0   \n",
       "1543                           0                       0   \n",
       "1544                           0                       0   \n",
       "1545                           0                       0   \n",
       "\n",
       "      ngrams_not_recommend_staying  ngrams_write_negative_review  \\\n",
       "0                                0                             0   \n",
       "1                                0                             0   \n",
       "2                                0                             0   \n",
       "3                                0                             0   \n",
       "4                                0                             0   \n",
       "...                            ...                           ...   \n",
       "1541                             0                             1   \n",
       "1542                             0                             0   \n",
       "1543                             0                             0   \n",
       "1544                             0                             0   \n",
       "1545                             0                             0   \n",
       "\n",
       "      ngrams_sleep_bedroom_door  ngrams_specifically_asked_not  \\\n",
       "0                             0                              0   \n",
       "1                             0                              0   \n",
       "2                             0                              0   \n",
       "3                             0                              0   \n",
       "4                             0                              0   \n",
       "...                         ...                            ...   \n",
       "1541                          0                              0   \n",
       "1542                          0                              0   \n",
       "1543                          0                              0   \n",
       "1544                          0                              0   \n",
       "1545                          0                              0   \n",
       "\n",
       "      ngrams_told_cleaning_lady  ngrams_let_start_saying  \\\n",
       "0                             0                        0   \n",
       "1                             0                        0   \n",
       "2                             0                        0   \n",
       "3                             0                        0   \n",
       "4                             0                        0   \n",
       "...                         ...                      ...   \n",
       "1541                          0                        0   \n",
       "1542                          0                        0   \n",
       "1543                          0                        0   \n",
       "1544                          0                        0   \n",
       "1545                          0                        0   \n",
       "\n",
       "      ngrams_staying_another_unit  ngrams_felt_compelled_write  ...  \\\n",
       "0                               0                            0  ...   \n",
       "1                               0                            0  ...   \n",
       "2                               0                            0  ...   \n",
       "3                               0                            0  ...   \n",
       "4                               0                            0  ...   \n",
       "...                           ...                          ...  ...   \n",
       "1541                            0                            0  ...   \n",
       "1542                            0                            0  ...   \n",
       "1543                            0                            0  ...   \n",
       "1544                            0                            0  ...   \n",
       "1545                            0                            0  ...   \n",
       "\n",
       "      ngrams_expected_based_description  ngrams_got_no_answer  \\\n",
       "0                                     0                     0   \n",
       "1                                     0                     0   \n",
       "2                                     0                     0   \n",
       "3                                     0                     0   \n",
       "4                                     0                     0   \n",
       "...                                 ...                   ...   \n",
       "1541                                  0                     0   \n",
       "1542                                  0                     0   \n",
       "1543                                  0                     0   \n",
       "1544                                  0                     0   \n",
       "1545                                  0                     0   \n",
       "\n",
       "      ngrams_need_deep_cleaning  ngrams_guest_not_able  \\\n",
       "0                             0                      0   \n",
       "1                             0                      0   \n",
       "2                             0                      0   \n",
       "3                             0                      0   \n",
       "4                             0                      0   \n",
       "...                         ...                    ...   \n",
       "1541                          0                      0   \n",
       "1542                          0                      0   \n",
       "1543                          0                      0   \n",
       "1544                          0                      0   \n",
       "1545                          0                      0   \n",
       "\n",
       "      ngrams_start_good_thing  ngrams_spend_lot_time  ngrams_very_old_not  \\\n",
       "0                           0                      0                    0   \n",
       "1                           0                      0                    0   \n",
       "2                           0                      0                    0   \n",
       "3                           0                      0                    0   \n",
       "4                           0                      0                    0   \n",
       "...                       ...                    ...                  ...   \n",
       "1541                        0                      0                    0   \n",
       "1542                        0                      0                    0   \n",
       "1543                        0                      0                    0   \n",
       "1544                        0                      0                    0   \n",
       "1545                        0                      0                    0   \n",
       "\n",
       "      ngrams_per_night_not  ngrams_obviously_not_cleaned  \\\n",
       "0                        0                             0   \n",
       "1                        0                             0   \n",
       "2                        0                             0   \n",
       "3                        0                             0   \n",
       "4                        0                             0   \n",
       "...                    ...                           ...   \n",
       "1541                     0                             0   \n",
       "1542                     0                             0   \n",
       "1543                     0                             0   \n",
       "1544                     0                             0   \n",
       "1545                     0                             0   \n",
       "\n",
       "      ngrams_call_text_message  \n",
       "0                            0  \n",
       "1                            0  \n",
       "2                            0  \n",
       "3                            0  \n",
       "4                            0  \n",
       "...                        ...  \n",
       "1541                         0  \n",
       "1542                         0  \n",
       "1543                         0  \n",
       "1544                         0  \n",
       "1545                         0  \n",
       "\n",
       "[1546 rows x 42 columns]"
      ]
     },
     "execution_count": 10,
     "metadata": {},
     "output_type": "execute_result"
    }
   ],
   "source": [
    "features = pd.DataFrame()\n",
    "ngrams_features(features, 3, prefix=\"ngrams_\", corr_thresh=0.09)"
   ]
  },
  {
   "attachments": {},
   "cell_type": "markdown",
   "metadata": {},
   "source": [
    "## \"Mentioned Amenities\" Features\n",
    "Was an amenity that was included in the listing mentioned in the review?"
   ]
  },
  {
   "attachments": {},
   "cell_type": "markdown",
   "metadata": {},
   "source": [
    "First, we need to do some cleaning amenities to make them easier to match."
   ]
  },
  {
   "cell_type": "code",
   "execution_count": 11,
   "metadata": {},
   "outputs": [],
   "source": [
    "import re\n",
    "\n",
    "def clean_amenities(amenities):\n",
    "    \"\"\"Clean the amenities column.\"\"\"\n",
    "\n",
    "    cleaned = []\n",
    "\n",
    "    # basic cleaning\n",
    "    for amenity in amenities:\n",
    "        # remove quotes\n",
    "        amenity = amenity.replace('\"', \"\")\n",
    "        # remove anything in parentheses or brackets\n",
    "        amenity = re.sub(r\"\\(.*\\)\", \"\", amenity)\n",
    "        amenity = re.sub(r\"\\[.*\\]\", \"\", amenity)\n",
    "        # strip whitespace\n",
    "        amenity = amenity.strip()\n",
    "        # lowercase\n",
    "        amenity = amenity.lower()\n",
    "        # remove curly brackets\n",
    "        amenity = amenity.replace(\"{\", \"\").replace(\"}\", \"\")\n",
    "\n",
    "\n",
    "        cleaned.append(amenity)\n",
    "\n",
    "    # split entries with a slash, \"and\", or \"or\"\n",
    "    for to_split_on in [\"/\", \" and \", \" or \"]:\n",
    "        cleaned = [amenity.split(to_split_on) for amenity in cleaned]\n",
    "        cleaned = [item.strip() for sublist in cleaned for item in sublist]\n",
    "\n",
    "    # remove empty strings\n",
    "    cleaned = [amenity for amenity in cleaned if amenity != \"\"]\n",
    "\n",
    "    return cleaned\n",
    "\n",
    "df.amenities = df.amenities.apply(clean_amenities)"
   ]
  },
  {
   "attachments": {},
   "cell_type": "markdown",
   "metadata": {},
   "source": [
    "Look at some examples of the cleaned amenities."
   ]
  },
  {
   "cell_type": "code",
   "execution_count": 12,
   "metadata": {},
   "outputs": [
    {
     "data": {
      "text/plain": [
       "['tv',\n",
       " 'cable tv',\n",
       " 'internet',\n",
       " 'wifi',\n",
       " 'air conditioning',\n",
       " 'pool',\n",
       " 'kitchen',\n",
       " 'gym',\n",
       " 'elevator',\n",
       " 'family',\n",
       " 'kid friendly',\n",
       " 'washer',\n",
       " 'dryer',\n",
       " 'essentials',\n",
       " 'hair dryer',\n",
       " 'self check-in',\n",
       " 'smart lock',\n",
       " 'hot water']"
      ]
     },
     "execution_count": 12,
     "metadata": {},
     "output_type": "execute_result"
    }
   ],
   "source": [
    "df.amenities.sample(1).values[0]"
   ]
  },
  {
   "attachments": {},
   "cell_type": "markdown",
   "metadata": {},
   "source": [
    "Calculate our amenities features, and look at the correlation between them and the label."
   ]
  },
  {
   "cell_type": "code",
   "execution_count": 13,
   "metadata": {},
   "outputs": [
    {
     "name": "stdout",
     "output_type": "stream",
     "text": [
      "Adding amenities features...\n",
      "Features above correlation threshold (0.05):\n",
      "['lockbox', 'dishwasher', 'pool', 'keypad', 'tv', 'stove', 'bathtub', 'balcony', 'shampoo', 'garden', 'cat', 'family', 'breakfast']\n"
     ]
    },
    {
     "data": {
      "text/html": [
       "<div>\n",
       "<style scoped>\n",
       "    .dataframe tbody tr th:only-of-type {\n",
       "        vertical-align: middle;\n",
       "    }\n",
       "\n",
       "    .dataframe tbody tr th {\n",
       "        vertical-align: top;\n",
       "    }\n",
       "\n",
       "    .dataframe thead th {\n",
       "        text-align: right;\n",
       "    }\n",
       "</style>\n",
       "<table border=\"1\" class=\"dataframe\">\n",
       "  <thead>\n",
       "    <tr style=\"text-align: right;\">\n",
       "      <th></th>\n",
       "      <th>lockbox</th>\n",
       "      <th>dishwasher</th>\n",
       "      <th>pool</th>\n",
       "      <th>keypad</th>\n",
       "      <th>tv</th>\n",
       "      <th>stove</th>\n",
       "      <th>bathtub</th>\n",
       "      <th>balcony</th>\n",
       "      <th>shampoo</th>\n",
       "      <th>garden</th>\n",
       "      <th>cat</th>\n",
       "      <th>family</th>\n",
       "      <th>breakfast</th>\n",
       "      <th>review_id</th>\n",
       "      <th>label</th>\n",
       "    </tr>\n",
       "  </thead>\n",
       "  <tbody>\n",
       "    <tr>\n",
       "      <th>0</th>\n",
       "      <td>0.0</td>\n",
       "      <td>0.0</td>\n",
       "      <td>0.0</td>\n",
       "      <td>0.0</td>\n",
       "      <td>0.0</td>\n",
       "      <td>0.0</td>\n",
       "      <td>0.0</td>\n",
       "      <td>0.0</td>\n",
       "      <td>0.0</td>\n",
       "      <td>0.0</td>\n",
       "      <td>0.0</td>\n",
       "      <td>0.0</td>\n",
       "      <td>0.0</td>\n",
       "      <td>83097</td>\n",
       "      <td>good</td>\n",
       "    </tr>\n",
       "    <tr>\n",
       "      <th>2</th>\n",
       "      <td>0.0</td>\n",
       "      <td>0.0</td>\n",
       "      <td>0.0</td>\n",
       "      <td>0.0</td>\n",
       "      <td>0.0</td>\n",
       "      <td>0.0</td>\n",
       "      <td>0.0</td>\n",
       "      <td>0.0</td>\n",
       "      <td>0.0</td>\n",
       "      <td>0.0</td>\n",
       "      <td>0.0</td>\n",
       "      <td>0.0</td>\n",
       "      <td>0.0</td>\n",
       "      <td>150928</td>\n",
       "      <td>good</td>\n",
       "    </tr>\n",
       "    <tr>\n",
       "      <th>4</th>\n",
       "      <td>0.0</td>\n",
       "      <td>0.0</td>\n",
       "      <td>0.0</td>\n",
       "      <td>0.0</td>\n",
       "      <td>0.0</td>\n",
       "      <td>0.0</td>\n",
       "      <td>0.0</td>\n",
       "      <td>0.0</td>\n",
       "      <td>0.0</td>\n",
       "      <td>1.0</td>\n",
       "      <td>0.0</td>\n",
       "      <td>0.0</td>\n",
       "      <td>0.0</td>\n",
       "      <td>8602878</td>\n",
       "      <td>good</td>\n",
       "    </tr>\n",
       "    <tr>\n",
       "      <th>5</th>\n",
       "      <td>0.0</td>\n",
       "      <td>0.0</td>\n",
       "      <td>0.0</td>\n",
       "      <td>0.0</td>\n",
       "      <td>0.0</td>\n",
       "      <td>0.0</td>\n",
       "      <td>0.0</td>\n",
       "      <td>0.0</td>\n",
       "      <td>0.0</td>\n",
       "      <td>0.0</td>\n",
       "      <td>0.0</td>\n",
       "      <td>0.0</td>\n",
       "      <td>0.0</td>\n",
       "      <td>17827296</td>\n",
       "      <td>mgood</td>\n",
       "    </tr>\n",
       "    <tr>\n",
       "      <th>6</th>\n",
       "      <td>0.0</td>\n",
       "      <td>0.0</td>\n",
       "      <td>0.0</td>\n",
       "      <td>0.0</td>\n",
       "      <td>0.0</td>\n",
       "      <td>0.0</td>\n",
       "      <td>0.0</td>\n",
       "      <td>0.0</td>\n",
       "      <td>0.0</td>\n",
       "      <td>0.0</td>\n",
       "      <td>0.0</td>\n",
       "      <td>0.0</td>\n",
       "      <td>0.0</td>\n",
       "      <td>22768604</td>\n",
       "      <td>good</td>\n",
       "    </tr>\n",
       "  </tbody>\n",
       "</table>\n",
       "</div>"
      ],
      "text/plain": [
       "   lockbox  dishwasher  pool  keypad   tv  stove  bathtub  balcony  shampoo  \\\n",
       "0      0.0         0.0   0.0     0.0  0.0    0.0      0.0      0.0      0.0   \n",
       "2      0.0         0.0   0.0     0.0  0.0    0.0      0.0      0.0      0.0   \n",
       "4      0.0         0.0   0.0     0.0  0.0    0.0      0.0      0.0      0.0   \n",
       "5      0.0         0.0   0.0     0.0  0.0    0.0      0.0      0.0      0.0   \n",
       "6      0.0         0.0   0.0     0.0  0.0    0.0      0.0      0.0      0.0   \n",
       "\n",
       "   garden  cat  family  breakfast  review_id  label  \n",
       "0     0.0  0.0     0.0        0.0      83097   good  \n",
       "2     0.0  0.0     0.0        0.0     150928   good  \n",
       "4     1.0  0.0     0.0        0.0    8602878   good  \n",
       "5     0.0  0.0     0.0        0.0   17827296  mgood  \n",
       "6     0.0  0.0     0.0        0.0   22768604   good  "
      ]
     },
     "execution_count": 13,
     "metadata": {},
     "output_type": "execute_result"
    }
   ],
   "source": [
    "def amenities_features(features: pd.DataFrame, corr_thresh=None, prefix=\"amenities_\") -> pd.DataFrame:\n",
    "    print(\"Adding amenities features...\")\n",
    "    amenities_features_df = pd.DataFrame()\n",
    "    # 1. Find the amenities in the listings\n",
    "    for index, row in df.iterrows():\n",
    "        # 1. Find the amenities in the listings\n",
    "        amenities = row.amenities\n",
    "\n",
    "        # Add one row to the features dataframe using pd.concat\n",
    "        amenities_features_df = pd.concat([amenities_features_df, pd.DataFrame(columns=amenities_features_df.columns)])\n",
    "\n",
    "        # 2. For each amenity, see if it is present in the review\n",
    "        for amenity in amenities:\n",
    "            if amenity in row.comments:\n",
    "                # 3. If it is present, add 1 for that feature\n",
    "                if amenity in amenities_features_df.columns:\n",
    "                    amenities_features_df.loc[index, amenity] = 1\n",
    "                #   If the amenity does not already exist from another review, add it to the features dataframe\n",
    "                else:\n",
    "                    amenities_features_df.loc[index, amenity] = 0\n",
    "    \n",
    "    # 4. fill missing values with 0\n",
    "    amenities_features_df = amenities_features_df.fillna(0)\n",
    "\n",
    "    # 6. Only keep amenities features that have a correlation with the label above a certain threshold\n",
    "    amenities_features_df = corr_filter(amenities_features_df, corr_thresh=corr_thresh)\n",
    "\n",
    "    # prefix features\n",
    "    amenities_features_df = amenities_features_df.add_prefix(prefix)\n",
    "\n",
    "    # 5. Add the features to the greater features dataframe\n",
    "    features = pd.concat([features, amenities_features_df], axis=1)\n",
    "\n",
    "    return features\n",
    "\n",
    "features = pd.DataFrame()\n",
    "features_with_amenities = amenities_features(features, corr_thresh=0.05, prefix=\"\")\n",
    "features_with_amenities[\"review_id\"] = df.review_id\n",
    "features_with_amenities[\"label\"] = df.label\n",
    "features_with_amenities.head()"
   ]
  },
  {
   "attachments": {},
   "cell_type": "markdown",
   "metadata": {},
   "source": [
    "Let's look at the amenities with the highest correlation to the label."
   ]
  },
  {
   "cell_type": "code",
   "execution_count": 14,
   "metadata": {},
   "outputs": [
    {
     "name": "stderr",
     "output_type": "stream",
     "text": [
      "C:\\Users\\grego\\AppData\\Local\\Temp\\ipykernel_28484\\2336534246.py:6: FutureWarning:\n",
      "\n",
      "The default value of numeric_only in DataFrame.corrwith is deprecated. In a future version, it will default to False. Select only valid columns or specify the value of numeric_only to silence this warning.\n",
      "\n"
     ]
    },
    {
     "data": {
      "text/plain": [
       "lockbox       0.122009\n",
       "dishwasher    0.093155\n",
       "pool          0.081142\n",
       "keypad        0.072611\n",
       "tv            0.064537\n",
       "stove         0.063505\n",
       "bathtub       0.063416\n",
       "balcony      -0.052142\n",
       "shampoo      -0.054976\n",
       "garden       -0.075141\n",
       "cat          -0.075388\n",
       "family       -0.083227\n",
       "breakfast    -0.084915\n",
       "dtype: float64"
      ]
     },
     "execution_count": 14,
     "metadata": {},
     "output_type": "execute_result"
    }
   ],
   "source": [
    "# OHE labels\n",
    "labels_list: list = features_with_amenities.label.unique().tolist()\n",
    "dummies = features_with_amenities.label.apply(lambda label: labels_list.index(label))\n",
    "\n",
    "# calculate correlations with the label\n",
    "corrs = features_with_amenities.drop(\"review_id\", axis=1).corrwith(dummies).sort_values(ascending=False)\n",
    "corrs"
   ]
  },
  {
   "attachments": {},
   "cell_type": "markdown",
   "metadata": {},
   "source": [
    "## Word Embeddings\n",
    "Another way to look at the data is to use word embeddings. We can use the word2vec model from gensim to create word embeddings for each word in the dataset. We can then take the average of all word vectors in a review to get a vector representation of the review. For now, let's embed into a 10-dimensional space."
   ]
  },
  {
   "cell_type": "code",
   "execution_count": 24,
   "metadata": {},
   "outputs": [],
   "source": [
    "from gensim.models.word2vec import Word2Vec\n",
    "from typing import Tuple\n",
    "\n",
    "def embeddings_features(features, emb_vector_size=10, col=\"comments\") -> Tuple[pd.DataFrame, Word2Vec]:\n",
    "\n",
    "    print(\"Creating model...\")\n",
    "    model = Word2Vec(df[col].to_list(), \n",
    "            min_count=1,\n",
    "            vector_size=emb_vector_size,\n",
    "            workers=3, \n",
    "            window=3, \n",
    "            sg=1\n",
    "        )\n",
    "    \n",
    "    # generate embeddings\n",
    "    print(\"Generating embeddings...\")\n",
    "    get_review_embeddings = lambda review: np.mean([model.wv[word] for word in review if word in model.wv], axis=0)\n",
    "    embeddings = np.array([get_review_embeddings(review) for review in df[col].to_list()])\n",
    "    \n",
    "    for i in range(embeddings.shape[1]):\n",
    "        features[f\"embedding_{col}_{i}\"] = embeddings[:, i]\n",
    "    \n",
    "    return features, model"
   ]
  },
  {
   "attachments": {},
   "cell_type": "markdown",
   "metadata": {},
   "source": [
    "# Generate Features"
   ]
  },
  {
   "attachments": {},
   "cell_type": "markdown",
   "metadata": {},
   "source": [
    "With what we know, let's generate some features. I've provided a function for each type of feature, so we can mix and match."
   ]
  },
  {
   "cell_type": "code",
   "execution_count": 25,
   "metadata": {},
   "outputs": [
    {
     "name": "stdout",
     "output_type": "stream",
     "text": [
      "Creating model...\n",
      "Generating embeddings...\n",
      "Creating model...\n",
      "Generating embeddings...\n",
      "Features above correlation threshold (0.09):\n",
      "['3gram09_would_not_recommend', '3gram09_no_toilet_paper', '3gram09_not_recommend_staying', '3gram09_write_negative_review', '3gram09_sleep_bedroom_door', '3gram09_specifically_asked_not', '3gram09_told_cleaning_lady', '3gram09_let_start_saying', '3gram09_staying_another_unit', '3gram09_felt_compelled_write', '3gram09_living_room_couch', '3gram09_property_management_company', '3gram09_phone_call_text', '3gram09_need_major_overhaul', '3gram09_time_opened_door', '3gram09_not_clean_arrived', '3gram09_big_issue_u', '3gram09_burned_light_bulb', '3gram09_very_bad_shape', '3gram09_never_responded_message', '3gram09_not_feel_comfortable', '3gram09_worse_experience_ever', '3gram09_shower_curtain_covered', '3gram09_place_sleep_10', '3gram09_could_not_access', '3gram09_never_met_host', '3gram09_take_cold_shower', '3gram09_old_not_well', '3gram09_freezer_not_work', '3gram09_got_no_response', '3gram09_toilet_paper_buy', '3gram09_not_really_clean', '3gram09_expected_based_description', '3gram09_got_no_answer', '3gram09_need_deep_cleaning', '3gram09_guest_not_able', '3gram09_start_good_thing', '3gram09_spend_lot_time', '3gram09_very_old_not', '3gram09_per_night_not', '3gram09_obviously_not_cleaned', '3gram09_call_text_message']\n",
      "Features above correlation threshold (0.1):\n",
      "['3gram10_would_not_recommend', '3gram10_no_toilet_paper']\n",
      "Adding amenities features...\n",
      "Features above correlation threshold (0.05):\n",
      "['lockbox', 'dishwasher', 'pool', 'keypad', 'tv', 'stove', 'bathtub', 'balcony', 'shampoo', 'garden', 'cat', 'family', 'breakfast']\n",
      "Adding amenities features...\n",
      "(1546, 97)\n"
     ]
    },
    {
     "data": {
      "text/html": [
       "<div>\n",
       "<style scoped>\n",
       "    .dataframe tbody tr th:only-of-type {\n",
       "        vertical-align: middle;\n",
       "    }\n",
       "\n",
       "    .dataframe tbody tr th {\n",
       "        vertical-align: top;\n",
       "    }\n",
       "\n",
       "    .dataframe thead th {\n",
       "        text-align: right;\n",
       "    }\n",
       "</style>\n",
       "<table border=\"1\" class=\"dataframe\">\n",
       "  <thead>\n",
       "    <tr style=\"text-align: right;\">\n",
       "      <th></th>\n",
       "      <th>embedding_comments_0</th>\n",
       "      <th>embedding_comments_1</th>\n",
       "      <th>embedding_comments_2</th>\n",
       "      <th>embedding_description_0</th>\n",
       "      <th>embedding_description_1</th>\n",
       "      <th>embedding_description_2</th>\n",
       "      <th>3gram09_would_not_recommend</th>\n",
       "      <th>3gram09_no_toilet_paper</th>\n",
       "      <th>3gram09_not_recommend_staying</th>\n",
       "      <th>3gram09_write_negative_review</th>\n",
       "      <th>...</th>\n",
       "      <th>amenityall_bathtub</th>\n",
       "      <th>amenityall_lockbox</th>\n",
       "      <th>amenityall_crib</th>\n",
       "      <th>amenityall_elevator</th>\n",
       "      <th>amenityall_gym</th>\n",
       "      <th>amenityall_oven</th>\n",
       "      <th>amenityall_waterfront</th>\n",
       "      <th>amenityall_toilet</th>\n",
       "      <th>review_id</th>\n",
       "      <th>label</th>\n",
       "    </tr>\n",
       "  </thead>\n",
       "  <tbody>\n",
       "    <tr>\n",
       "      <th>0</th>\n",
       "      <td>-0.433309</td>\n",
       "      <td>0.179487</td>\n",
       "      <td>1.783780</td>\n",
       "      <td>0.02283</td>\n",
       "      <td>0.287755</td>\n",
       "      <td>1.834791</td>\n",
       "      <td>0</td>\n",
       "      <td>0</td>\n",
       "      <td>0</td>\n",
       "      <td>0</td>\n",
       "      <td>...</td>\n",
       "      <td>0.0</td>\n",
       "      <td>0.0</td>\n",
       "      <td>0.0</td>\n",
       "      <td>0.0</td>\n",
       "      <td>0.0</td>\n",
       "      <td>0.0</td>\n",
       "      <td>0.0</td>\n",
       "      <td>0.0</td>\n",
       "      <td>83097</td>\n",
       "      <td>good</td>\n",
       "    </tr>\n",
       "    <tr>\n",
       "      <th>1</th>\n",
       "      <td>-0.041913</td>\n",
       "      <td>0.228878</td>\n",
       "      <td>1.787178</td>\n",
       "      <td>0.02283</td>\n",
       "      <td>0.287755</td>\n",
       "      <td>1.834791</td>\n",
       "      <td>0</td>\n",
       "      <td>0</td>\n",
       "      <td>0</td>\n",
       "      <td>0</td>\n",
       "      <td>...</td>\n",
       "      <td>0.0</td>\n",
       "      <td>0.0</td>\n",
       "      <td>0.0</td>\n",
       "      <td>0.0</td>\n",
       "      <td>0.0</td>\n",
       "      <td>0.0</td>\n",
       "      <td>0.0</td>\n",
       "      <td>0.0</td>\n",
       "      <td>133337</td>\n",
       "      <td>good</td>\n",
       "    </tr>\n",
       "    <tr>\n",
       "      <th>2</th>\n",
       "      <td>-0.471247</td>\n",
       "      <td>0.133282</td>\n",
       "      <td>1.804053</td>\n",
       "      <td>0.02283</td>\n",
       "      <td>0.287755</td>\n",
       "      <td>1.834791</td>\n",
       "      <td>0</td>\n",
       "      <td>0</td>\n",
       "      <td>0</td>\n",
       "      <td>0</td>\n",
       "      <td>...</td>\n",
       "      <td>0.0</td>\n",
       "      <td>0.0</td>\n",
       "      <td>0.0</td>\n",
       "      <td>0.0</td>\n",
       "      <td>0.0</td>\n",
       "      <td>0.0</td>\n",
       "      <td>0.0</td>\n",
       "      <td>0.0</td>\n",
       "      <td>150928</td>\n",
       "      <td>good</td>\n",
       "    </tr>\n",
       "    <tr>\n",
       "      <th>3</th>\n",
       "      <td>-0.446974</td>\n",
       "      <td>0.085660</td>\n",
       "      <td>1.889602</td>\n",
       "      <td>0.02283</td>\n",
       "      <td>0.287755</td>\n",
       "      <td>1.834791</td>\n",
       "      <td>0</td>\n",
       "      <td>0</td>\n",
       "      <td>0</td>\n",
       "      <td>0</td>\n",
       "      <td>...</td>\n",
       "      <td>0.0</td>\n",
       "      <td>0.0</td>\n",
       "      <td>0.0</td>\n",
       "      <td>0.0</td>\n",
       "      <td>0.0</td>\n",
       "      <td>0.0</td>\n",
       "      <td>0.0</td>\n",
       "      <td>0.0</td>\n",
       "      <td>2706775</td>\n",
       "      <td>good</td>\n",
       "    </tr>\n",
       "    <tr>\n",
       "      <th>4</th>\n",
       "      <td>-0.446411</td>\n",
       "      <td>0.083569</td>\n",
       "      <td>1.766555</td>\n",
       "      <td>0.02283</td>\n",
       "      <td>0.287755</td>\n",
       "      <td>1.834791</td>\n",
       "      <td>0</td>\n",
       "      <td>0</td>\n",
       "      <td>0</td>\n",
       "      <td>0</td>\n",
       "      <td>...</td>\n",
       "      <td>0.0</td>\n",
       "      <td>0.0</td>\n",
       "      <td>0.0</td>\n",
       "      <td>0.0</td>\n",
       "      <td>0.0</td>\n",
       "      <td>0.0</td>\n",
       "      <td>0.0</td>\n",
       "      <td>0.0</td>\n",
       "      <td>8602878</td>\n",
       "      <td>good</td>\n",
       "    </tr>\n",
       "  </tbody>\n",
       "</table>\n",
       "<p>5 rows × 97 columns</p>\n",
       "</div>"
      ],
      "text/plain": [
       "   embedding_comments_0  embedding_comments_1  embedding_comments_2  \\\n",
       "0             -0.433309              0.179487              1.783780   \n",
       "1             -0.041913              0.228878              1.787178   \n",
       "2             -0.471247              0.133282              1.804053   \n",
       "3             -0.446974              0.085660              1.889602   \n",
       "4             -0.446411              0.083569              1.766555   \n",
       "\n",
       "   embedding_description_0  embedding_description_1  embedding_description_2  \\\n",
       "0                  0.02283                 0.287755                 1.834791   \n",
       "1                  0.02283                 0.287755                 1.834791   \n",
       "2                  0.02283                 0.287755                 1.834791   \n",
       "3                  0.02283                 0.287755                 1.834791   \n",
       "4                  0.02283                 0.287755                 1.834791   \n",
       "\n",
       "   3gram09_would_not_recommend  3gram09_no_toilet_paper  \\\n",
       "0                            0                        0   \n",
       "1                            0                        0   \n",
       "2                            0                        0   \n",
       "3                            0                        0   \n",
       "4                            0                        0   \n",
       "\n",
       "   3gram09_not_recommend_staying  3gram09_write_negative_review  ...  \\\n",
       "0                              0                              0  ...   \n",
       "1                              0                              0  ...   \n",
       "2                              0                              0  ...   \n",
       "3                              0                              0  ...   \n",
       "4                              0                              0  ...   \n",
       "\n",
       "   amenityall_bathtub  amenityall_lockbox  amenityall_crib  \\\n",
       "0                 0.0                 0.0              0.0   \n",
       "1                 0.0                 0.0              0.0   \n",
       "2                 0.0                 0.0              0.0   \n",
       "3                 0.0                 0.0              0.0   \n",
       "4                 0.0                 0.0              0.0   \n",
       "\n",
       "   amenityall_elevator  amenityall_gym  amenityall_oven  \\\n",
       "0                  0.0             0.0              0.0   \n",
       "1                  0.0             0.0              0.0   \n",
       "2                  0.0             0.0              0.0   \n",
       "3                  0.0             0.0              0.0   \n",
       "4                  0.0             0.0              0.0   \n",
       "\n",
       "   amenityall_waterfront  amenityall_toilet  review_id  label  \n",
       "0                    0.0                0.0      83097   good  \n",
       "1                    0.0                0.0     133337   good  \n",
       "2                    0.0                0.0     150928   good  \n",
       "3                    0.0                0.0    2706775   good  \n",
       "4                    0.0                0.0    8602878   good  \n",
       "\n",
       "[5 rows x 97 columns]"
      ]
     },
     "execution_count": 25,
     "metadata": {},
     "output_type": "execute_result"
    }
   ],
   "source": [
    "features = pd.DataFrame()\n",
    "\n",
    "# get the embeddings\n",
    "embeddings_comments, w2vmodel_comments = embeddings_features(features, col=\"comments\", emb_vector_size=3)\n",
    "embeddings_description, w2vmodel_description = embeddings_features(features, col=\"description\", emb_vector_size=3)\n",
    "features = pd.concat([features, embeddings_comments, embeddings_description], axis=1)\n",
    "\n",
    "# for some reason there are duplicate columns after this. Remove them.\n",
    "features = features.loc[:,~features.columns.duplicated()].copy()\n",
    "\n",
    "# get 3-grams with 0.09  and 0.1 correlation thresholds\n",
    "features = ngrams_features(features, n=3, corr_thresh=0.09, prefix=\"3gram09_\")\n",
    "features = ngrams_features(features, n=3, corr_thresh=0.1, prefix=\"3gram10_\")\n",
    "\n",
    "# get the amenities\n",
    "features = amenities_features(features, corr_thresh=0.05, prefix=\"amenity005_\")\n",
    "features = amenities_features(features, corr_thresh=None, prefix=\"amenityall_\")\n",
    "\n",
    "# fill missing values with 0\n",
    "features = features.fillna(0)\n",
    "\n",
    "features[\"review_id\"] = df.review_id\n",
    "features[\"label\"] = df.label\n",
    "\n",
    "print(features.shape)\n",
    "\n",
    "features.head()"
   ]
  },
  {
   "attachments": {},
   "cell_type": "markdown",
   "metadata": {},
   "source": [
    "## Save the features"
   ]
  },
  {
   "attachments": {},
   "cell_type": "markdown",
   "metadata": {},
   "source": [
    "Here we will save the features to a csv. We will also save the trained word2vec model, so we can use it later."
   ]
  },
  {
   "cell_type": "code",
   "execution_count": 22,
   "metadata": {},
   "outputs": [],
   "source": [
    "if isinstance(GEO, list):\n",
    "    geo_display_name = \"_\".join(GEO)\n",
    "else:\n",
    "    geo_display_name = GEO\n",
    "\n",
    "features.to_csv(f\"../../data/features/features_{geo_display_name}_3.csv\", index=False)"
   ]
  },
  {
   "cell_type": "code",
   "execution_count": 23,
   "metadata": {},
   "outputs": [],
   "source": [
    "# save the w2v models\n",
    "w2vmodel_comments.save(f\"../../models/w2vmodel_comments_{geo_display_name}_3.model\")\n",
    "w2vmodel_description.save(f\"../../models/w2vmodel_description_{geo_display_name}_3.model\")"
   ]
  },
  {
   "cell_type": "code",
   "execution_count": null,
   "metadata": {},
   "outputs": [],
   "source": []
  }
 ],
 "metadata": {
  "kernelspec": {
   "display_name": "venv",
   "language": "python",
   "name": "python3"
  },
  "language_info": {
   "codemirror_mode": {
    "name": "ipython",
    "version": 3
   },
   "file_extension": ".py",
   "mimetype": "text/x-python",
   "name": "python",
   "nbconvert_exporter": "python",
   "pygments_lexer": "ipython3",
   "version": "3.10.4"
  },
  "orig_nbformat": 4,
  "vscode": {
   "interpreter": {
    "hash": "cf086def782804284d24881115c612afdcc8ea791299ba67855f0c7f1a9ccc5a"
   }
  }
 },
 "nbformat": 4,
 "nbformat_minor": 2
}
