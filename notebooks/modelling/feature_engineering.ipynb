{
 "cells": [
  {
   "attachments": {},
   "cell_type": "markdown",
   "metadata": {},
   "source": [
    "## Feature Engineering on the processed dataset"
   ]
  },
  {
   "cell_type": "code",
   "execution_count": 1,
   "metadata": {},
   "outputs": [],
   "source": [
    "import pandas as pd\n",
    "import numpy as np\n",
    "import matplotlib.pyplot as plt\n",
    "import plotly.express as px"
   ]
  },
  {
   "cell_type": "code",
   "execution_count": 42,
   "metadata": {},
   "outputs": [
    {
     "name": "stdout",
     "output_type": "stream",
     "text": [
      "(1629, 9)\n"
     ]
    },
    {
     "data": {
      "text/html": [
       "<div>\n",
       "<style scoped>\n",
       "    .dataframe tbody tr th:only-of-type {\n",
       "        vertical-align: middle;\n",
       "    }\n",
       "\n",
       "    .dataframe tbody tr th {\n",
       "        vertical-align: top;\n",
       "    }\n",
       "\n",
       "    .dataframe thead th {\n",
       "        text-align: right;\n",
       "    }\n",
       "</style>\n",
       "<table border=\"1\" class=\"dataframe\">\n",
       "  <thead>\n",
       "    <tr style=\"text-align: right;\">\n",
       "      <th></th>\n",
       "      <th>review_id</th>\n",
       "      <th>listing_id</th>\n",
       "      <th>description</th>\n",
       "      <th>comments</th>\n",
       "      <th>sentiment</th>\n",
       "      <th>label</th>\n",
       "      <th>name</th>\n",
       "      <th>amenities</th>\n",
       "      <th>source</th>\n",
       "    </tr>\n",
       "  </thead>\n",
       "  <tbody>\n",
       "    <tr>\n",
       "      <th>0</th>\n",
       "      <td>83097</td>\n",
       "      <td>5456</td>\n",
       "      <td>[fabulous, location, walking, convention, cent...</td>\n",
       "      <td>[sylvia, very, nice, informal, relaxed, arrive...</td>\n",
       "      <td>4.333333</td>\n",
       "      <td>good</td>\n",
       "      <td>['walk', '6th', 'rainey', 'st', 'convention', ...</td>\n",
       "      <td>[TV, Wifi, Air conditioning, Kitchen, Pets liv...</td>\n",
       "      <td>texas</td>\n",
       "    </tr>\n",
       "    <tr>\n",
       "      <th>1</th>\n",
       "      <td>133337</td>\n",
       "      <td>5456</td>\n",
       "      <td>[fabulous, location, walking, convention, cent...</td>\n",
       "      <td>[sylvia, picked, airport, gave, beautiful, eve...</td>\n",
       "      <td>4.000000</td>\n",
       "      <td>good</td>\n",
       "      <td>['walk', '6th', 'rainey', 'st', 'convention', ...</td>\n",
       "      <td>[TV, Wifi, Air conditioning, Kitchen, Pets liv...</td>\n",
       "      <td>texas</td>\n",
       "    </tr>\n",
       "    <tr>\n",
       "      <th>2</th>\n",
       "      <td>150928</td>\n",
       "      <td>5456</td>\n",
       "      <td>[fabulous, location, walking, convention, cent...</td>\n",
       "      <td>[lovely, time, enjoyed, apartment, clean, spac...</td>\n",
       "      <td>3.000000</td>\n",
       "      <td>good</td>\n",
       "      <td>['walk', '6th', 'rainey', 'st', 'convention', ...</td>\n",
       "      <td>[TV, Wifi, Air conditioning, Kitchen, Pets liv...</td>\n",
       "      <td>texas</td>\n",
       "    </tr>\n",
       "    <tr>\n",
       "      <th>3</th>\n",
       "      <td>2706775</td>\n",
       "      <td>5456</td>\n",
       "      <td>[fabulous, location, walking, convention, cent...</td>\n",
       "      <td>[sylvia, excellent, host, stayed, touch, made,...</td>\n",
       "      <td>4.500000</td>\n",
       "      <td>good</td>\n",
       "      <td>['walk', '6th', 'rainey', 'st', 'convention', ...</td>\n",
       "      <td>[TV, Wifi, Air conditioning, Kitchen, Pets liv...</td>\n",
       "      <td>texas</td>\n",
       "    </tr>\n",
       "    <tr>\n",
       "      <th>4</th>\n",
       "      <td>8602878</td>\n",
       "      <td>5456</td>\n",
       "      <td>[fabulous, location, walking, convention, cent...</td>\n",
       "      <td>[place, cute, little, self, contained, cottage...</td>\n",
       "      <td>4.000000</td>\n",
       "      <td>good</td>\n",
       "      <td>['walk', '6th', 'rainey', 'st', 'convention', ...</td>\n",
       "      <td>[TV, Wifi, Air conditioning, Kitchen, Pets liv...</td>\n",
       "      <td>texas</td>\n",
       "    </tr>\n",
       "  </tbody>\n",
       "</table>\n",
       "</div>"
      ],
      "text/plain": [
       "   review_id  listing_id                                        description  \\\n",
       "0      83097        5456  [fabulous, location, walking, convention, cent...   \n",
       "1     133337        5456  [fabulous, location, walking, convention, cent...   \n",
       "2     150928        5456  [fabulous, location, walking, convention, cent...   \n",
       "3    2706775        5456  [fabulous, location, walking, convention, cent...   \n",
       "4    8602878        5456  [fabulous, location, walking, convention, cent...   \n",
       "\n",
       "                                            comments  sentiment label  \\\n",
       "0  [sylvia, very, nice, informal, relaxed, arrive...   4.333333  good   \n",
       "1  [sylvia, picked, airport, gave, beautiful, eve...   4.000000  good   \n",
       "2  [lovely, time, enjoyed, apartment, clean, spac...   3.000000  good   \n",
       "3  [sylvia, excellent, host, stayed, touch, made,...   4.500000  good   \n",
       "4  [place, cute, little, self, contained, cottage...   4.000000  good   \n",
       "\n",
       "                                                name  \\\n",
       "0  ['walk', '6th', 'rainey', 'st', 'convention', ...   \n",
       "1  ['walk', '6th', 'rainey', 'st', 'convention', ...   \n",
       "2  ['walk', '6th', 'rainey', 'st', 'convention', ...   \n",
       "3  ['walk', '6th', 'rainey', 'st', 'convention', ...   \n",
       "4  ['walk', '6th', 'rainey', 'st', 'convention', ...   \n",
       "\n",
       "                                           amenities source  \n",
       "0  [TV, Wifi, Air conditioning, Kitchen, Pets liv...  texas  \n",
       "1  [TV, Wifi, Air conditioning, Kitchen, Pets liv...  texas  \n",
       "2  [TV, Wifi, Air conditioning, Kitchen, Pets liv...  texas  \n",
       "3  [TV, Wifi, Air conditioning, Kitchen, Pets liv...  texas  \n",
       "4  [TV, Wifi, Air conditioning, Kitchen, Pets liv...  texas  "
      ]
     },
     "execution_count": 42,
     "metadata": {},
     "output_type": "execute_result"
    }
   ],
   "source": [
    "# Read in the data\n",
    "GEO = [\"texas\", \"florida\"]\n",
    "\n",
    "if isinstance(GEO, str):\n",
    "    df = pd.read_csv(f\"../../data/processed/{GEO}_processed.csv\")\n",
    "elif isinstance(GEO, list):\n",
    "    dfs = []\n",
    "    for geo in GEO:\n",
    "        df = pd.read_csv(f\"../../data/processed/{geo}_processed.csv\")\n",
    "        df[\"source\"] = geo\n",
    "        dfs.append(df)\n",
    "    df = pd.concat(dfs)\n",
    "\n",
    "# eval list columns\n",
    "df.description = df.description.apply(lambda x: eval(x))\n",
    "df.comments = df.comments.apply(lambda x: eval(x))\n",
    "df.amenities = df.amenities.apply(lambda x: eval(x))\n",
    "\n",
    "df.reset_index(drop=True, inplace=True)\n",
    "\n",
    "print(df.shape)\n",
    "df.head()"
   ]
  },
  {
   "attachments": {},
   "cell_type": "markdown",
   "metadata": {},
   "source": [
    "### Distribution of labels"
   ]
  },
  {
   "attachments": {},
   "cell_type": "markdown",
   "metadata": {},
   "source": [
    "First, let's look at the distribution of labels in the processed dataset."
   ]
  },
  {
   "cell_type": "code",
   "execution_count": 4,
   "metadata": {},
   "outputs": [
    {
     "name": "stdout",
     "output_type": "stream",
     "text": [
      "mbad: 7.24%, mgood: 6.45%, mbad or mgood: 13.69%\n"
     ]
    },
    {
     "data": {
      "application/vnd.plotly.v1+json": {
       "config": {
        "plotlyServerURL": "https://plot.ly"
       },
       "data": [
        {
         "alignmentgroup": "True",
         "hovertemplate": "Label=%{x}<br>Count=%{y}<extra></extra>",
         "legendgroup": "",
         "marker": {
          "color": "#636efa",
          "pattern": {
           "shape": ""
          }
         },
         "name": "",
         "offsetgroup": "",
         "orientation": "v",
         "showlegend": false,
         "textposition": "auto",
         "type": "bar",
         "x": [
          "good",
          "mbad",
          "mgood",
          "bad"
         ],
         "xaxis": "x",
         "y": [
          1320,
          118,
          105,
          84
         ],
         "yaxis": "y"
        }
       ],
       "layout": {
        "barmode": "relative",
        "legend": {
         "tracegroupgap": 0
        },
        "template": {
         "data": {
          "bar": [
           {
            "error_x": {
             "color": "#2a3f5f"
            },
            "error_y": {
             "color": "#2a3f5f"
            },
            "marker": {
             "line": {
              "color": "#E5ECF6",
              "width": 0.5
             },
             "pattern": {
              "fillmode": "overlay",
              "size": 10,
              "solidity": 0.2
             }
            },
            "type": "bar"
           }
          ],
          "barpolar": [
           {
            "marker": {
             "line": {
              "color": "#E5ECF6",
              "width": 0.5
             },
             "pattern": {
              "fillmode": "overlay",
              "size": 10,
              "solidity": 0.2
             }
            },
            "type": "barpolar"
           }
          ],
          "carpet": [
           {
            "aaxis": {
             "endlinecolor": "#2a3f5f",
             "gridcolor": "white",
             "linecolor": "white",
             "minorgridcolor": "white",
             "startlinecolor": "#2a3f5f"
            },
            "baxis": {
             "endlinecolor": "#2a3f5f",
             "gridcolor": "white",
             "linecolor": "white",
             "minorgridcolor": "white",
             "startlinecolor": "#2a3f5f"
            },
            "type": "carpet"
           }
          ],
          "choropleth": [
           {
            "colorbar": {
             "outlinewidth": 0,
             "ticks": ""
            },
            "type": "choropleth"
           }
          ],
          "contour": [
           {
            "colorbar": {
             "outlinewidth": 0,
             "ticks": ""
            },
            "colorscale": [
             [
              0,
              "#0d0887"
             ],
             [
              0.1111111111111111,
              "#46039f"
             ],
             [
              0.2222222222222222,
              "#7201a8"
             ],
             [
              0.3333333333333333,
              "#9c179e"
             ],
             [
              0.4444444444444444,
              "#bd3786"
             ],
             [
              0.5555555555555556,
              "#d8576b"
             ],
             [
              0.6666666666666666,
              "#ed7953"
             ],
             [
              0.7777777777777778,
              "#fb9f3a"
             ],
             [
              0.8888888888888888,
              "#fdca26"
             ],
             [
              1,
              "#f0f921"
             ]
            ],
            "type": "contour"
           }
          ],
          "contourcarpet": [
           {
            "colorbar": {
             "outlinewidth": 0,
             "ticks": ""
            },
            "type": "contourcarpet"
           }
          ],
          "heatmap": [
           {
            "colorbar": {
             "outlinewidth": 0,
             "ticks": ""
            },
            "colorscale": [
             [
              0,
              "#0d0887"
             ],
             [
              0.1111111111111111,
              "#46039f"
             ],
             [
              0.2222222222222222,
              "#7201a8"
             ],
             [
              0.3333333333333333,
              "#9c179e"
             ],
             [
              0.4444444444444444,
              "#bd3786"
             ],
             [
              0.5555555555555556,
              "#d8576b"
             ],
             [
              0.6666666666666666,
              "#ed7953"
             ],
             [
              0.7777777777777778,
              "#fb9f3a"
             ],
             [
              0.8888888888888888,
              "#fdca26"
             ],
             [
              1,
              "#f0f921"
             ]
            ],
            "type": "heatmap"
           }
          ],
          "heatmapgl": [
           {
            "colorbar": {
             "outlinewidth": 0,
             "ticks": ""
            },
            "colorscale": [
             [
              0,
              "#0d0887"
             ],
             [
              0.1111111111111111,
              "#46039f"
             ],
             [
              0.2222222222222222,
              "#7201a8"
             ],
             [
              0.3333333333333333,
              "#9c179e"
             ],
             [
              0.4444444444444444,
              "#bd3786"
             ],
             [
              0.5555555555555556,
              "#d8576b"
             ],
             [
              0.6666666666666666,
              "#ed7953"
             ],
             [
              0.7777777777777778,
              "#fb9f3a"
             ],
             [
              0.8888888888888888,
              "#fdca26"
             ],
             [
              1,
              "#f0f921"
             ]
            ],
            "type": "heatmapgl"
           }
          ],
          "histogram": [
           {
            "marker": {
             "pattern": {
              "fillmode": "overlay",
              "size": 10,
              "solidity": 0.2
             }
            },
            "type": "histogram"
           }
          ],
          "histogram2d": [
           {
            "colorbar": {
             "outlinewidth": 0,
             "ticks": ""
            },
            "colorscale": [
             [
              0,
              "#0d0887"
             ],
             [
              0.1111111111111111,
              "#46039f"
             ],
             [
              0.2222222222222222,
              "#7201a8"
             ],
             [
              0.3333333333333333,
              "#9c179e"
             ],
             [
              0.4444444444444444,
              "#bd3786"
             ],
             [
              0.5555555555555556,
              "#d8576b"
             ],
             [
              0.6666666666666666,
              "#ed7953"
             ],
             [
              0.7777777777777778,
              "#fb9f3a"
             ],
             [
              0.8888888888888888,
              "#fdca26"
             ],
             [
              1,
              "#f0f921"
             ]
            ],
            "type": "histogram2d"
           }
          ],
          "histogram2dcontour": [
           {
            "colorbar": {
             "outlinewidth": 0,
             "ticks": ""
            },
            "colorscale": [
             [
              0,
              "#0d0887"
             ],
             [
              0.1111111111111111,
              "#46039f"
             ],
             [
              0.2222222222222222,
              "#7201a8"
             ],
             [
              0.3333333333333333,
              "#9c179e"
             ],
             [
              0.4444444444444444,
              "#bd3786"
             ],
             [
              0.5555555555555556,
              "#d8576b"
             ],
             [
              0.6666666666666666,
              "#ed7953"
             ],
             [
              0.7777777777777778,
              "#fb9f3a"
             ],
             [
              0.8888888888888888,
              "#fdca26"
             ],
             [
              1,
              "#f0f921"
             ]
            ],
            "type": "histogram2dcontour"
           }
          ],
          "mesh3d": [
           {
            "colorbar": {
             "outlinewidth": 0,
             "ticks": ""
            },
            "type": "mesh3d"
           }
          ],
          "parcoords": [
           {
            "line": {
             "colorbar": {
              "outlinewidth": 0,
              "ticks": ""
             }
            },
            "type": "parcoords"
           }
          ],
          "pie": [
           {
            "automargin": true,
            "type": "pie"
           }
          ],
          "scatter": [
           {
            "fillpattern": {
             "fillmode": "overlay",
             "size": 10,
             "solidity": 0.2
            },
            "type": "scatter"
           }
          ],
          "scatter3d": [
           {
            "line": {
             "colorbar": {
              "outlinewidth": 0,
              "ticks": ""
             }
            },
            "marker": {
             "colorbar": {
              "outlinewidth": 0,
              "ticks": ""
             }
            },
            "type": "scatter3d"
           }
          ],
          "scattercarpet": [
           {
            "marker": {
             "colorbar": {
              "outlinewidth": 0,
              "ticks": ""
             }
            },
            "type": "scattercarpet"
           }
          ],
          "scattergeo": [
           {
            "marker": {
             "colorbar": {
              "outlinewidth": 0,
              "ticks": ""
             }
            },
            "type": "scattergeo"
           }
          ],
          "scattergl": [
           {
            "marker": {
             "colorbar": {
              "outlinewidth": 0,
              "ticks": ""
             }
            },
            "type": "scattergl"
           }
          ],
          "scattermapbox": [
           {
            "marker": {
             "colorbar": {
              "outlinewidth": 0,
              "ticks": ""
             }
            },
            "type": "scattermapbox"
           }
          ],
          "scatterpolar": [
           {
            "marker": {
             "colorbar": {
              "outlinewidth": 0,
              "ticks": ""
             }
            },
            "type": "scatterpolar"
           }
          ],
          "scatterpolargl": [
           {
            "marker": {
             "colorbar": {
              "outlinewidth": 0,
              "ticks": ""
             }
            },
            "type": "scatterpolargl"
           }
          ],
          "scatterternary": [
           {
            "marker": {
             "colorbar": {
              "outlinewidth": 0,
              "ticks": ""
             }
            },
            "type": "scatterternary"
           }
          ],
          "surface": [
           {
            "colorbar": {
             "outlinewidth": 0,
             "ticks": ""
            },
            "colorscale": [
             [
              0,
              "#0d0887"
             ],
             [
              0.1111111111111111,
              "#46039f"
             ],
             [
              0.2222222222222222,
              "#7201a8"
             ],
             [
              0.3333333333333333,
              "#9c179e"
             ],
             [
              0.4444444444444444,
              "#bd3786"
             ],
             [
              0.5555555555555556,
              "#d8576b"
             ],
             [
              0.6666666666666666,
              "#ed7953"
             ],
             [
              0.7777777777777778,
              "#fb9f3a"
             ],
             [
              0.8888888888888888,
              "#fdca26"
             ],
             [
              1,
              "#f0f921"
             ]
            ],
            "type": "surface"
           }
          ],
          "table": [
           {
            "cells": {
             "fill": {
              "color": "#EBF0F8"
             },
             "line": {
              "color": "white"
             }
            },
            "header": {
             "fill": {
              "color": "#C8D4E3"
             },
             "line": {
              "color": "white"
             }
            },
            "type": "table"
           }
          ]
         },
         "layout": {
          "annotationdefaults": {
           "arrowcolor": "#2a3f5f",
           "arrowhead": 0,
           "arrowwidth": 1
          },
          "autotypenumbers": "strict",
          "coloraxis": {
           "colorbar": {
            "outlinewidth": 0,
            "ticks": ""
           }
          },
          "colorscale": {
           "diverging": [
            [
             0,
             "#8e0152"
            ],
            [
             0.1,
             "#c51b7d"
            ],
            [
             0.2,
             "#de77ae"
            ],
            [
             0.3,
             "#f1b6da"
            ],
            [
             0.4,
             "#fde0ef"
            ],
            [
             0.5,
             "#f7f7f7"
            ],
            [
             0.6,
             "#e6f5d0"
            ],
            [
             0.7,
             "#b8e186"
            ],
            [
             0.8,
             "#7fbc41"
            ],
            [
             0.9,
             "#4d9221"
            ],
            [
             1,
             "#276419"
            ]
           ],
           "sequential": [
            [
             0,
             "#0d0887"
            ],
            [
             0.1111111111111111,
             "#46039f"
            ],
            [
             0.2222222222222222,
             "#7201a8"
            ],
            [
             0.3333333333333333,
             "#9c179e"
            ],
            [
             0.4444444444444444,
             "#bd3786"
            ],
            [
             0.5555555555555556,
             "#d8576b"
            ],
            [
             0.6666666666666666,
             "#ed7953"
            ],
            [
             0.7777777777777778,
             "#fb9f3a"
            ],
            [
             0.8888888888888888,
             "#fdca26"
            ],
            [
             1,
             "#f0f921"
            ]
           ],
           "sequentialminus": [
            [
             0,
             "#0d0887"
            ],
            [
             0.1111111111111111,
             "#46039f"
            ],
            [
             0.2222222222222222,
             "#7201a8"
            ],
            [
             0.3333333333333333,
             "#9c179e"
            ],
            [
             0.4444444444444444,
             "#bd3786"
            ],
            [
             0.5555555555555556,
             "#d8576b"
            ],
            [
             0.6666666666666666,
             "#ed7953"
            ],
            [
             0.7777777777777778,
             "#fb9f3a"
            ],
            [
             0.8888888888888888,
             "#fdca26"
            ],
            [
             1,
             "#f0f921"
            ]
           ]
          },
          "colorway": [
           "#636efa",
           "#EF553B",
           "#00cc96",
           "#ab63fa",
           "#FFA15A",
           "#19d3f3",
           "#FF6692",
           "#B6E880",
           "#FF97FF",
           "#FECB52"
          ],
          "font": {
           "color": "#2a3f5f"
          },
          "geo": {
           "bgcolor": "white",
           "lakecolor": "white",
           "landcolor": "#E5ECF6",
           "showlakes": true,
           "showland": true,
           "subunitcolor": "white"
          },
          "hoverlabel": {
           "align": "left"
          },
          "hovermode": "closest",
          "mapbox": {
           "style": "light"
          },
          "paper_bgcolor": "white",
          "plot_bgcolor": "#E5ECF6",
          "polar": {
           "angularaxis": {
            "gridcolor": "white",
            "linecolor": "white",
            "ticks": ""
           },
           "bgcolor": "#E5ECF6",
           "radialaxis": {
            "gridcolor": "white",
            "linecolor": "white",
            "ticks": ""
           }
          },
          "scene": {
           "xaxis": {
            "backgroundcolor": "#E5ECF6",
            "gridcolor": "white",
            "gridwidth": 2,
            "linecolor": "white",
            "showbackground": true,
            "ticks": "",
            "zerolinecolor": "white"
           },
           "yaxis": {
            "backgroundcolor": "#E5ECF6",
            "gridcolor": "white",
            "gridwidth": 2,
            "linecolor": "white",
            "showbackground": true,
            "ticks": "",
            "zerolinecolor": "white"
           },
           "zaxis": {
            "backgroundcolor": "#E5ECF6",
            "gridcolor": "white",
            "gridwidth": 2,
            "linecolor": "white",
            "showbackground": true,
            "ticks": "",
            "zerolinecolor": "white"
           }
          },
          "shapedefaults": {
           "line": {
            "color": "#2a3f5f"
           }
          },
          "ternary": {
           "aaxis": {
            "gridcolor": "white",
            "linecolor": "white",
            "ticks": ""
           },
           "baxis": {
            "gridcolor": "white",
            "linecolor": "white",
            "ticks": ""
           },
           "bgcolor": "#E5ECF6",
           "caxis": {
            "gridcolor": "white",
            "linecolor": "white",
            "ticks": ""
           }
          },
          "title": {
           "x": 0.05
          },
          "xaxis": {
           "automargin": true,
           "gridcolor": "white",
           "linecolor": "white",
           "ticks": "",
           "title": {
            "standoff": 15
           },
           "zerolinecolor": "white",
           "zerolinewidth": 2
          },
          "yaxis": {
           "automargin": true,
           "gridcolor": "white",
           "linecolor": "white",
           "ticks": "",
           "title": {
            "standoff": 15
           },
           "zerolinecolor": "white",
           "zerolinewidth": 2
          }
         }
        },
        "title": {
         "text": "Distribution of labels (GEO=['texas', 'florida'])"
        },
        "xaxis": {
         "anchor": "y",
         "domain": [
          0,
          1
         ],
         "title": {
          "text": "Label"
         }
        },
        "yaxis": {
         "anchor": "x",
         "domain": [
          0,
          1
         ],
         "title": {
          "text": "Count"
         }
        }
       }
      }
     },
     "metadata": {},
     "output_type": "display_data"
    }
   ],
   "source": [
    "mbad_pcnt = df[df.label == \"mbad\"].shape[0] / df.shape[0]\n",
    "mgood_pcnt = df[df.label == \"mgood\"].shape[0] / df.shape[0]\n",
    "mbad_or_mgood_pcnt = df[df.label.isin([\"mbad\", \"mgood\"])].shape[0] / df.shape[0]\n",
    "print(\n",
    "    f\"mbad: {mbad_pcnt:.2%}, mgood: {mgood_pcnt:.2%}, mbad or mgood: {mbad_or_mgood_pcnt:.2%}\"\n",
    ")\n",
    "\n",
    "bar_vals = df.label.value_counts()\n",
    "\n",
    "fig = px.bar(\n",
    "    bar_vals,\n",
    "    x=bar_vals.index,\n",
    "    y=bar_vals.values,\n",
    "    title=f\"Distribution of labels (GEO={GEO})\",\n",
    "    labels={\"index\": \"Label\", \"y\": \"Count\"}\n",
    ")\n",
    "\n",
    "fig.show()"
   ]
  },
  {
   "attachments": {},
   "cell_type": "markdown",
   "metadata": {},
   "source": [
    "## Correlation filter helper function\n",
    "This function allows us to filter down to only include highly correlated features with the label."
   ]
  },
  {
   "cell_type": "code",
   "execution_count": 156,
   "metadata": {},
   "outputs": [],
   "source": [
    "def corr_filter(features, corr_thresh=0.05) -> pd.DataFrame:\n",
    "    \"\"\"Filter features based on correlation with label.\"\"\"\n",
    "\n",
    "    if corr_thresh is None:\n",
    "        return features\n",
    "\n",
    "    to_filter = features.copy()\n",
    "    \n",
    "    to_filter[\"review_id\"] = df.review_id\n",
    "    to_filter[\"label\"] = df.label\n",
    "\n",
    "    # drop na labels. Thanks Charlie :/\n",
    "    to_filter = to_filter.dropna(subset=[\"label\"])\n",
    "\n",
    "    # Turn labels into numbers\n",
    "    labels_list: list = to_filter.label.unique().tolist()\n",
    "    to_filter.label = to_filter.label.apply(lambda label: labels_list.index(label))\n",
    "\n",
    "    # calculate correlation of features with label\n",
    "    features_to_filter = to_filter.drop([\"review_id\", \"label\"], axis=1)\n",
    "    corrs = features_to_filter.corrwith(to_filter.label).sort_values(ascending=False)\n",
    "\n",
    "    # filter features\n",
    "    highly_correlated_features = corrs[corrs.abs() > corr_thresh].index\n",
    "    # drop features with nan correlation\n",
    "    highly_correlated_features = highly_correlated_features.dropna()\n",
    "\n",
    "    # filter features\n",
    "    print(f\"Features above correlation threshold ({corr_thresh}):\")\n",
    "    print(highly_correlated_features.tolist())\n",
    "    filtered = features[highly_correlated_features]\n",
    "    \n",
    "    return filtered"
   ]
  },
  {
   "attachments": {},
   "cell_type": "markdown",
   "metadata": {},
   "source": [
    "### Ngrams"
   ]
  },
  {
   "attachments": {},
   "cell_type": "markdown",
   "metadata": {},
   "source": [
    "What are the most common ngrams for the different types of reviews? What are the most common overlaps?"
   ]
  },
  {
   "cell_type": "code",
   "execution_count": 5,
   "metadata": {},
   "outputs": [],
   "source": [
    "def get_consecutive_ngrams(review, n) -> list:\n",
    "    \"\"\"Helper function to get ngrams from a review.\n",
    "\n",
    "    Args:\n",
    "        review (str): The review to get ngrams from.\n",
    "        n (int): The number of ngrams to get.\n",
    "\n",
    "    Returns:\n",
    "        list: the list of ngrams, joined by underscores.\n",
    "    \"\"\"\n",
    "    if isinstance(review, str):\n",
    "        review = review.split(\"\")\n",
    "\n",
    "    return [\"_\".join(review[i:i+n]) for i in range(len(review)-n-1)]\n",
    "\n",
    "def series_to_ngrams(series: pd.Series, N):\n",
    "    n_grams = series.apply(lambda x: get_consecutive_ngrams(x, N))\n",
    "    return n_grams.explode()\n",
    "\n",
    "def get_exclusive_sizes(good: set, bad: set, mgood: set, mbad: set) -> dict:\n",
    "    \"\"\"Get the sizes of the exclusive sets\"\"\"\n",
    "\n",
    "    only_good = good - bad - mgood - mbad\n",
    "    only_bad = bad - good - mgood - mbad\n",
    "    only_mgood = mgood - good - bad - mbad\n",
    "    only_mbad = mbad - good - bad - mgood\n",
    "    \n",
    "    return {\n",
    "        \"good\": len(only_good),\n",
    "        \"bad\": len(only_bad),\n",
    "        \"mgood\": len(only_mgood),\n",
    "        \"mbad\": len(only_mbad)\n",
    "    }"
   ]
  },
  {
   "attachments": {},
   "cell_type": "markdown",
   "metadata": {},
   "source": [
    "We can look at the number of unique values to each label for different values of N on a line chart."
   ]
  },
  {
   "cell_type": "code",
   "execution_count": 6,
   "metadata": {},
   "outputs": [
    {
     "data": {
      "application/vnd.plotly.v1+json": {
       "config": {
        "plotlyServerURL": "https://plot.ly"
       },
       "data": [
        {
         "hovertemplate": "label=bad<br>N-gram size=%{x}<br>Unique # of n-grams=%{y}<extra></extra>",
         "legendgroup": "bad",
         "line": {
          "color": "#636efa",
          "dash": "solid"
         },
         "marker": {
          "symbol": "circle"
         },
         "mode": "lines+markers",
         "name": "bad",
         "orientation": "v",
         "showlegend": true,
         "type": "scatter",
         "x": [
          1,
          2,
          3,
          4,
          5,
          6
         ],
         "xaxis": "x",
         "y": [
          424,
          6408,
          8778,
          8924,
          8851,
          8768
         ],
         "yaxis": "y"
        },
        {
         "hovertemplate": "label=mgood<br>N-gram size=%{x}<br>Unique # of n-grams=%{y}<extra></extra>",
         "legendgroup": "mgood",
         "line": {
          "color": "#EF553B",
          "dash": "solid"
         },
         "marker": {
          "symbol": "circle"
         },
         "mode": "lines+markers",
         "name": "mgood",
         "orientation": "v",
         "showlegend": true,
         "type": "scatter",
         "x": [
          1,
          2,
          3,
          4,
          5,
          6
         ],
         "xaxis": "x",
         "y": [
          232,
          4589,
          6853,
          7102,
          7049,
          6952
         ],
         "yaxis": "y"
        },
        {
         "hovertemplate": "label=mbad<br>N-gram size=%{x}<br>Unique # of n-grams=%{y}<extra></extra>",
         "legendgroup": "mbad",
         "line": {
          "color": "#00cc96",
          "dash": "solid"
         },
         "marker": {
          "symbol": "circle"
         },
         "mode": "lines+markers",
         "name": "mbad",
         "orientation": "v",
         "showlegend": true,
         "type": "scatter",
         "x": [
          1,
          2,
          3,
          4,
          5,
          6
         ],
         "xaxis": "x",
         "y": [
          576,
          8616,
          11961,
          12217,
          12121,
          12005
         ],
         "yaxis": "y"
        }
       ],
       "layout": {
        "legend": {
         "title": {
          "text": "label"
         },
         "tracegroupgap": 0
        },
        "template": {
         "data": {
          "bar": [
           {
            "error_x": {
             "color": "#2a3f5f"
            },
            "error_y": {
             "color": "#2a3f5f"
            },
            "marker": {
             "line": {
              "color": "#E5ECF6",
              "width": 0.5
             },
             "pattern": {
              "fillmode": "overlay",
              "size": 10,
              "solidity": 0.2
             }
            },
            "type": "bar"
           }
          ],
          "barpolar": [
           {
            "marker": {
             "line": {
              "color": "#E5ECF6",
              "width": 0.5
             },
             "pattern": {
              "fillmode": "overlay",
              "size": 10,
              "solidity": 0.2
             }
            },
            "type": "barpolar"
           }
          ],
          "carpet": [
           {
            "aaxis": {
             "endlinecolor": "#2a3f5f",
             "gridcolor": "white",
             "linecolor": "white",
             "minorgridcolor": "white",
             "startlinecolor": "#2a3f5f"
            },
            "baxis": {
             "endlinecolor": "#2a3f5f",
             "gridcolor": "white",
             "linecolor": "white",
             "minorgridcolor": "white",
             "startlinecolor": "#2a3f5f"
            },
            "type": "carpet"
           }
          ],
          "choropleth": [
           {
            "colorbar": {
             "outlinewidth": 0,
             "ticks": ""
            },
            "type": "choropleth"
           }
          ],
          "contour": [
           {
            "colorbar": {
             "outlinewidth": 0,
             "ticks": ""
            },
            "colorscale": [
             [
              0,
              "#0d0887"
             ],
             [
              0.1111111111111111,
              "#46039f"
             ],
             [
              0.2222222222222222,
              "#7201a8"
             ],
             [
              0.3333333333333333,
              "#9c179e"
             ],
             [
              0.4444444444444444,
              "#bd3786"
             ],
             [
              0.5555555555555556,
              "#d8576b"
             ],
             [
              0.6666666666666666,
              "#ed7953"
             ],
             [
              0.7777777777777778,
              "#fb9f3a"
             ],
             [
              0.8888888888888888,
              "#fdca26"
             ],
             [
              1,
              "#f0f921"
             ]
            ],
            "type": "contour"
           }
          ],
          "contourcarpet": [
           {
            "colorbar": {
             "outlinewidth": 0,
             "ticks": ""
            },
            "type": "contourcarpet"
           }
          ],
          "heatmap": [
           {
            "colorbar": {
             "outlinewidth": 0,
             "ticks": ""
            },
            "colorscale": [
             [
              0,
              "#0d0887"
             ],
             [
              0.1111111111111111,
              "#46039f"
             ],
             [
              0.2222222222222222,
              "#7201a8"
             ],
             [
              0.3333333333333333,
              "#9c179e"
             ],
             [
              0.4444444444444444,
              "#bd3786"
             ],
             [
              0.5555555555555556,
              "#d8576b"
             ],
             [
              0.6666666666666666,
              "#ed7953"
             ],
             [
              0.7777777777777778,
              "#fb9f3a"
             ],
             [
              0.8888888888888888,
              "#fdca26"
             ],
             [
              1,
              "#f0f921"
             ]
            ],
            "type": "heatmap"
           }
          ],
          "heatmapgl": [
           {
            "colorbar": {
             "outlinewidth": 0,
             "ticks": ""
            },
            "colorscale": [
             [
              0,
              "#0d0887"
             ],
             [
              0.1111111111111111,
              "#46039f"
             ],
             [
              0.2222222222222222,
              "#7201a8"
             ],
             [
              0.3333333333333333,
              "#9c179e"
             ],
             [
              0.4444444444444444,
              "#bd3786"
             ],
             [
              0.5555555555555556,
              "#d8576b"
             ],
             [
              0.6666666666666666,
              "#ed7953"
             ],
             [
              0.7777777777777778,
              "#fb9f3a"
             ],
             [
              0.8888888888888888,
              "#fdca26"
             ],
             [
              1,
              "#f0f921"
             ]
            ],
            "type": "heatmapgl"
           }
          ],
          "histogram": [
           {
            "marker": {
             "pattern": {
              "fillmode": "overlay",
              "size": 10,
              "solidity": 0.2
             }
            },
            "type": "histogram"
           }
          ],
          "histogram2d": [
           {
            "colorbar": {
             "outlinewidth": 0,
             "ticks": ""
            },
            "colorscale": [
             [
              0,
              "#0d0887"
             ],
             [
              0.1111111111111111,
              "#46039f"
             ],
             [
              0.2222222222222222,
              "#7201a8"
             ],
             [
              0.3333333333333333,
              "#9c179e"
             ],
             [
              0.4444444444444444,
              "#bd3786"
             ],
             [
              0.5555555555555556,
              "#d8576b"
             ],
             [
              0.6666666666666666,
              "#ed7953"
             ],
             [
              0.7777777777777778,
              "#fb9f3a"
             ],
             [
              0.8888888888888888,
              "#fdca26"
             ],
             [
              1,
              "#f0f921"
             ]
            ],
            "type": "histogram2d"
           }
          ],
          "histogram2dcontour": [
           {
            "colorbar": {
             "outlinewidth": 0,
             "ticks": ""
            },
            "colorscale": [
             [
              0,
              "#0d0887"
             ],
             [
              0.1111111111111111,
              "#46039f"
             ],
             [
              0.2222222222222222,
              "#7201a8"
             ],
             [
              0.3333333333333333,
              "#9c179e"
             ],
             [
              0.4444444444444444,
              "#bd3786"
             ],
             [
              0.5555555555555556,
              "#d8576b"
             ],
             [
              0.6666666666666666,
              "#ed7953"
             ],
             [
              0.7777777777777778,
              "#fb9f3a"
             ],
             [
              0.8888888888888888,
              "#fdca26"
             ],
             [
              1,
              "#f0f921"
             ]
            ],
            "type": "histogram2dcontour"
           }
          ],
          "mesh3d": [
           {
            "colorbar": {
             "outlinewidth": 0,
             "ticks": ""
            },
            "type": "mesh3d"
           }
          ],
          "parcoords": [
           {
            "line": {
             "colorbar": {
              "outlinewidth": 0,
              "ticks": ""
             }
            },
            "type": "parcoords"
           }
          ],
          "pie": [
           {
            "automargin": true,
            "type": "pie"
           }
          ],
          "scatter": [
           {
            "fillpattern": {
             "fillmode": "overlay",
             "size": 10,
             "solidity": 0.2
            },
            "type": "scatter"
           }
          ],
          "scatter3d": [
           {
            "line": {
             "colorbar": {
              "outlinewidth": 0,
              "ticks": ""
             }
            },
            "marker": {
             "colorbar": {
              "outlinewidth": 0,
              "ticks": ""
             }
            },
            "type": "scatter3d"
           }
          ],
          "scattercarpet": [
           {
            "marker": {
             "colorbar": {
              "outlinewidth": 0,
              "ticks": ""
             }
            },
            "type": "scattercarpet"
           }
          ],
          "scattergeo": [
           {
            "marker": {
             "colorbar": {
              "outlinewidth": 0,
              "ticks": ""
             }
            },
            "type": "scattergeo"
           }
          ],
          "scattergl": [
           {
            "marker": {
             "colorbar": {
              "outlinewidth": 0,
              "ticks": ""
             }
            },
            "type": "scattergl"
           }
          ],
          "scattermapbox": [
           {
            "marker": {
             "colorbar": {
              "outlinewidth": 0,
              "ticks": ""
             }
            },
            "type": "scattermapbox"
           }
          ],
          "scatterpolar": [
           {
            "marker": {
             "colorbar": {
              "outlinewidth": 0,
              "ticks": ""
             }
            },
            "type": "scatterpolar"
           }
          ],
          "scatterpolargl": [
           {
            "marker": {
             "colorbar": {
              "outlinewidth": 0,
              "ticks": ""
             }
            },
            "type": "scatterpolargl"
           }
          ],
          "scatterternary": [
           {
            "marker": {
             "colorbar": {
              "outlinewidth": 0,
              "ticks": ""
             }
            },
            "type": "scatterternary"
           }
          ],
          "surface": [
           {
            "colorbar": {
             "outlinewidth": 0,
             "ticks": ""
            },
            "colorscale": [
             [
              0,
              "#0d0887"
             ],
             [
              0.1111111111111111,
              "#46039f"
             ],
             [
              0.2222222222222222,
              "#7201a8"
             ],
             [
              0.3333333333333333,
              "#9c179e"
             ],
             [
              0.4444444444444444,
              "#bd3786"
             ],
             [
              0.5555555555555556,
              "#d8576b"
             ],
             [
              0.6666666666666666,
              "#ed7953"
             ],
             [
              0.7777777777777778,
              "#fb9f3a"
             ],
             [
              0.8888888888888888,
              "#fdca26"
             ],
             [
              1,
              "#f0f921"
             ]
            ],
            "type": "surface"
           }
          ],
          "table": [
           {
            "cells": {
             "fill": {
              "color": "#EBF0F8"
             },
             "line": {
              "color": "white"
             }
            },
            "header": {
             "fill": {
              "color": "#C8D4E3"
             },
             "line": {
              "color": "white"
             }
            },
            "type": "table"
           }
          ]
         },
         "layout": {
          "annotationdefaults": {
           "arrowcolor": "#2a3f5f",
           "arrowhead": 0,
           "arrowwidth": 1
          },
          "autotypenumbers": "strict",
          "coloraxis": {
           "colorbar": {
            "outlinewidth": 0,
            "ticks": ""
           }
          },
          "colorscale": {
           "diverging": [
            [
             0,
             "#8e0152"
            ],
            [
             0.1,
             "#c51b7d"
            ],
            [
             0.2,
             "#de77ae"
            ],
            [
             0.3,
             "#f1b6da"
            ],
            [
             0.4,
             "#fde0ef"
            ],
            [
             0.5,
             "#f7f7f7"
            ],
            [
             0.6,
             "#e6f5d0"
            ],
            [
             0.7,
             "#b8e186"
            ],
            [
             0.8,
             "#7fbc41"
            ],
            [
             0.9,
             "#4d9221"
            ],
            [
             1,
             "#276419"
            ]
           ],
           "sequential": [
            [
             0,
             "#0d0887"
            ],
            [
             0.1111111111111111,
             "#46039f"
            ],
            [
             0.2222222222222222,
             "#7201a8"
            ],
            [
             0.3333333333333333,
             "#9c179e"
            ],
            [
             0.4444444444444444,
             "#bd3786"
            ],
            [
             0.5555555555555556,
             "#d8576b"
            ],
            [
             0.6666666666666666,
             "#ed7953"
            ],
            [
             0.7777777777777778,
             "#fb9f3a"
            ],
            [
             0.8888888888888888,
             "#fdca26"
            ],
            [
             1,
             "#f0f921"
            ]
           ],
           "sequentialminus": [
            [
             0,
             "#0d0887"
            ],
            [
             0.1111111111111111,
             "#46039f"
            ],
            [
             0.2222222222222222,
             "#7201a8"
            ],
            [
             0.3333333333333333,
             "#9c179e"
            ],
            [
             0.4444444444444444,
             "#bd3786"
            ],
            [
             0.5555555555555556,
             "#d8576b"
            ],
            [
             0.6666666666666666,
             "#ed7953"
            ],
            [
             0.7777777777777778,
             "#fb9f3a"
            ],
            [
             0.8888888888888888,
             "#fdca26"
            ],
            [
             1,
             "#f0f921"
            ]
           ]
          },
          "colorway": [
           "#636efa",
           "#EF553B",
           "#00cc96",
           "#ab63fa",
           "#FFA15A",
           "#19d3f3",
           "#FF6692",
           "#B6E880",
           "#FF97FF",
           "#FECB52"
          ],
          "font": {
           "color": "#2a3f5f"
          },
          "geo": {
           "bgcolor": "white",
           "lakecolor": "white",
           "landcolor": "#E5ECF6",
           "showlakes": true,
           "showland": true,
           "subunitcolor": "white"
          },
          "hoverlabel": {
           "align": "left"
          },
          "hovermode": "closest",
          "mapbox": {
           "style": "light"
          },
          "paper_bgcolor": "white",
          "plot_bgcolor": "#E5ECF6",
          "polar": {
           "angularaxis": {
            "gridcolor": "white",
            "linecolor": "white",
            "ticks": ""
           },
           "bgcolor": "#E5ECF6",
           "radialaxis": {
            "gridcolor": "white",
            "linecolor": "white",
            "ticks": ""
           }
          },
          "scene": {
           "xaxis": {
            "backgroundcolor": "#E5ECF6",
            "gridcolor": "white",
            "gridwidth": 2,
            "linecolor": "white",
            "showbackground": true,
            "ticks": "",
            "zerolinecolor": "white"
           },
           "yaxis": {
            "backgroundcolor": "#E5ECF6",
            "gridcolor": "white",
            "gridwidth": 2,
            "linecolor": "white",
            "showbackground": true,
            "ticks": "",
            "zerolinecolor": "white"
           },
           "zaxis": {
            "backgroundcolor": "#E5ECF6",
            "gridcolor": "white",
            "gridwidth": 2,
            "linecolor": "white",
            "showbackground": true,
            "ticks": "",
            "zerolinecolor": "white"
           }
          },
          "shapedefaults": {
           "line": {
            "color": "#2a3f5f"
           }
          },
          "ternary": {
           "aaxis": {
            "gridcolor": "white",
            "linecolor": "white",
            "ticks": ""
           },
           "baxis": {
            "gridcolor": "white",
            "linecolor": "white",
            "ticks": ""
           },
           "bgcolor": "#E5ECF6",
           "caxis": {
            "gridcolor": "white",
            "linecolor": "white",
            "ticks": ""
           }
          },
          "title": {
           "x": 0.05
          },
          "xaxis": {
           "automargin": true,
           "gridcolor": "white",
           "linecolor": "white",
           "ticks": "",
           "title": {
            "standoff": 15
           },
           "zerolinecolor": "white",
           "zerolinewidth": 2
          },
          "yaxis": {
           "automargin": true,
           "gridcolor": "white",
           "linecolor": "white",
           "ticks": "",
           "title": {
            "standoff": 15
           },
           "zerolinecolor": "white",
           "zerolinewidth": 2
          }
         }
        },
        "title": {
         "text": "Unique # of ['texas', 'florida'] n-grams for each label"
        },
        "xaxis": {
         "anchor": "y",
         "domain": [
          0,
          1
         ],
         "title": {
          "text": "N-gram size"
         }
        },
        "yaxis": {
         "anchor": "x",
         "domain": [
          0,
          1
         ],
         "title": {
          "text": "Unique # of n-grams"
         }
        }
       }
      }
     },
     "metadata": {},
     "output_type": "display_data"
    }
   ],
   "source": [
    "import plotly.express as px\n",
    "\n",
    "intersection_sizes = []\n",
    "for n in [1, 2, 3, 4, 5, 6]:\n",
    "\n",
    "    good_ngrams = series_to_ngrams(df[df.label == \"good\"].comments, n).value_counts()\n",
    "    bad_ngrams = series_to_ngrams(df[df.label == \"bad\"].comments, n).value_counts()\n",
    "    mgood_ngrams = series_to_ngrams(df[df.label == \"mgood\"].comments, n).value_counts()\n",
    "    mbad_ngrams = series_to_ngrams(df[df.label == \"mbad\"].comments, n).value_counts()\n",
    "    intersection_sizes_n = get_exclusive_sizes(\n",
    "        set(good_ngrams.index),\n",
    "        set(bad_ngrams.index),\n",
    "        set(mgood_ngrams.index),\n",
    "        set(mbad_ngrams.index)\n",
    "    )\n",
    "\n",
    "    intersection_sizes_n[\"n\"] = n\n",
    "\n",
    "    intersection_sizes.append(intersection_sizes_n)\n",
    "\n",
    "\n",
    "# prepare data\n",
    "is_df = pd.DataFrame(intersection_sizes)\n",
    "is_df = is_df.melt(id_vars=\"n\", var_name=\"label\", value_name=\"count\")\n",
    "is_df[\"count\"] = is_df[\"count\"].astype(int)\n",
    "is_df[\"n\"] = is_df[\"n\"].astype(int)\n",
    "\n",
    "# exclude good \n",
    "is_df = is_df[is_df.label != \"good\"]\n",
    "\n",
    "# plot a line chart\n",
    "px.line(is_df, \n",
    "    x=\"n\", y=\"count\",\n",
    "    color=\"label\",\n",
    "    title=f\"Unique # of {GEO} n-grams for each label\", \n",
    "    labels={\"n\": \"N-gram size\", \"count\": \"Unique # of n-grams\"},\n",
    "    markers=True\n",
    "    )"
   ]
  },
  {
   "attachments": {},
   "cell_type": "markdown",
   "metadata": {},
   "source": [
    "We can see that the number of unique ngrams increases until about n=4, and then levels off. What are the top 10 4-grams for misleading reviews?"
   ]
  },
  {
   "cell_type": "code",
   "execution_count": 131,
   "metadata": {},
   "outputs": [
    {
     "name": "stdout",
     "output_type": "stream",
     "text": [
      "Top 10 most common 3-grams in misleading reviews:\n"
     ]
    },
    {
     "data": {
      "text/plain": [
       "[('within_walking_distance', 10),\n",
       " ('would_not_recommend', 7),\n",
       " ('living_room_furniture', 4),\n",
       " ('not_recommend_staying', 4),\n",
       " ('not_big_deal', 4),\n",
       " ('great_place_stay', 4),\n",
       " ('let_u_know', 4),\n",
       " ('not_work_not', 3),\n",
       " ('give_4_star', 3),\n",
       " ('made_u_feel', 3)]"
      ]
     },
     "execution_count": 131,
     "metadata": {},
     "output_type": "execute_result"
    }
   ],
   "source": [
    "import numpy as np\n",
    "from collections import Counter\n",
    "\n",
    "# get subset of misleading reviews\n",
    "subset = df[df.label.isin([\"mbad\", \"mgood\"])]\n",
    "\n",
    "# get groups of N consecutive words\n",
    "N = 3\n",
    "n_grams = series_to_ngrams(subset.comments, N).to_list()\n",
    "\n",
    "print(f\"Top 10 most common {N}-grams in misleading reviews:\")\n",
    "Counter(n_grams).most_common(10)"
   ]
  },
  {
   "attachments": {},
   "cell_type": "markdown",
   "metadata": {},
   "source": [
    "Let's manually remove some of these that don't make sense"
   ]
  },
  {
   "attachments": {},
   "cell_type": "markdown",
   "metadata": {},
   "source": [
    "Now let's look at a word cloud of the N-grams in misleading reviews."
   ]
  },
  {
   "cell_type": "code",
   "execution_count": 8,
   "metadata": {},
   "outputs": [
    {
     "data": {
      "application/vnd.plotly.v1+json": {
       "config": {
        "plotlyServerURL": "https://plot.ly"
       },
       "data": [
        {
         "hovertemplate": "x: %{x}<br>y: %{y}<br>color: [%{z[0]}, %{z[1]}, %{z[2]}]<extra></extra>",
         "name": "0",
         "source": "data:image/png;base64,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",
         "type": "image",
         "xaxis": "x",
         "yaxis": "y"
        }
       ],
       "layout": {
        "height": 700,
        "template": {
         "data": {
          "bar": [
           {
            "error_x": {
             "color": "#2a3f5f"
            },
            "error_y": {
             "color": "#2a3f5f"
            },
            "marker": {
             "line": {
              "color": "#E5ECF6",
              "width": 0.5
             },
             "pattern": {
              "fillmode": "overlay",
              "size": 10,
              "solidity": 0.2
             }
            },
            "type": "bar"
           }
          ],
          "barpolar": [
           {
            "marker": {
             "line": {
              "color": "#E5ECF6",
              "width": 0.5
             },
             "pattern": {
              "fillmode": "overlay",
              "size": 10,
              "solidity": 0.2
             }
            },
            "type": "barpolar"
           }
          ],
          "carpet": [
           {
            "aaxis": {
             "endlinecolor": "#2a3f5f",
             "gridcolor": "white",
             "linecolor": "white",
             "minorgridcolor": "white",
             "startlinecolor": "#2a3f5f"
            },
            "baxis": {
             "endlinecolor": "#2a3f5f",
             "gridcolor": "white",
             "linecolor": "white",
             "minorgridcolor": "white",
             "startlinecolor": "#2a3f5f"
            },
            "type": "carpet"
           }
          ],
          "choropleth": [
           {
            "colorbar": {
             "outlinewidth": 0,
             "ticks": ""
            },
            "type": "choropleth"
           }
          ],
          "contour": [
           {
            "colorbar": {
             "outlinewidth": 0,
             "ticks": ""
            },
            "colorscale": [
             [
              0,
              "#0d0887"
             ],
             [
              0.1111111111111111,
              "#46039f"
             ],
             [
              0.2222222222222222,
              "#7201a8"
             ],
             [
              0.3333333333333333,
              "#9c179e"
             ],
             [
              0.4444444444444444,
              "#bd3786"
             ],
             [
              0.5555555555555556,
              "#d8576b"
             ],
             [
              0.6666666666666666,
              "#ed7953"
             ],
             [
              0.7777777777777778,
              "#fb9f3a"
             ],
             [
              0.8888888888888888,
              "#fdca26"
             ],
             [
              1,
              "#f0f921"
             ]
            ],
            "type": "contour"
           }
          ],
          "contourcarpet": [
           {
            "colorbar": {
             "outlinewidth": 0,
             "ticks": ""
            },
            "type": "contourcarpet"
           }
          ],
          "heatmap": [
           {
            "colorbar": {
             "outlinewidth": 0,
             "ticks": ""
            },
            "colorscale": [
             [
              0,
              "#0d0887"
             ],
             [
              0.1111111111111111,
              "#46039f"
             ],
             [
              0.2222222222222222,
              "#7201a8"
             ],
             [
              0.3333333333333333,
              "#9c179e"
             ],
             [
              0.4444444444444444,
              "#bd3786"
             ],
             [
              0.5555555555555556,
              "#d8576b"
             ],
             [
              0.6666666666666666,
              "#ed7953"
             ],
             [
              0.7777777777777778,
              "#fb9f3a"
             ],
             [
              0.8888888888888888,
              "#fdca26"
             ],
             [
              1,
              "#f0f921"
             ]
            ],
            "type": "heatmap"
           }
          ],
          "heatmapgl": [
           {
            "colorbar": {
             "outlinewidth": 0,
             "ticks": ""
            },
            "colorscale": [
             [
              0,
              "#0d0887"
             ],
             [
              0.1111111111111111,
              "#46039f"
             ],
             [
              0.2222222222222222,
              "#7201a8"
             ],
             [
              0.3333333333333333,
              "#9c179e"
             ],
             [
              0.4444444444444444,
              "#bd3786"
             ],
             [
              0.5555555555555556,
              "#d8576b"
             ],
             [
              0.6666666666666666,
              "#ed7953"
             ],
             [
              0.7777777777777778,
              "#fb9f3a"
             ],
             [
              0.8888888888888888,
              "#fdca26"
             ],
             [
              1,
              "#f0f921"
             ]
            ],
            "type": "heatmapgl"
           }
          ],
          "histogram": [
           {
            "marker": {
             "pattern": {
              "fillmode": "overlay",
              "size": 10,
              "solidity": 0.2
             }
            },
            "type": "histogram"
           }
          ],
          "histogram2d": [
           {
            "colorbar": {
             "outlinewidth": 0,
             "ticks": ""
            },
            "colorscale": [
             [
              0,
              "#0d0887"
             ],
             [
              0.1111111111111111,
              "#46039f"
             ],
             [
              0.2222222222222222,
              "#7201a8"
             ],
             [
              0.3333333333333333,
              "#9c179e"
             ],
             [
              0.4444444444444444,
              "#bd3786"
             ],
             [
              0.5555555555555556,
              "#d8576b"
             ],
             [
              0.6666666666666666,
              "#ed7953"
             ],
             [
              0.7777777777777778,
              "#fb9f3a"
             ],
             [
              0.8888888888888888,
              "#fdca26"
             ],
             [
              1,
              "#f0f921"
             ]
            ],
            "type": "histogram2d"
           }
          ],
          "histogram2dcontour": [
           {
            "colorbar": {
             "outlinewidth": 0,
             "ticks": ""
            },
            "colorscale": [
             [
              0,
              "#0d0887"
             ],
             [
              0.1111111111111111,
              "#46039f"
             ],
             [
              0.2222222222222222,
              "#7201a8"
             ],
             [
              0.3333333333333333,
              "#9c179e"
             ],
             [
              0.4444444444444444,
              "#bd3786"
             ],
             [
              0.5555555555555556,
              "#d8576b"
             ],
             [
              0.6666666666666666,
              "#ed7953"
             ],
             [
              0.7777777777777778,
              "#fb9f3a"
             ],
             [
              0.8888888888888888,
              "#fdca26"
             ],
             [
              1,
              "#f0f921"
             ]
            ],
            "type": "histogram2dcontour"
           }
          ],
          "mesh3d": [
           {
            "colorbar": {
             "outlinewidth": 0,
             "ticks": ""
            },
            "type": "mesh3d"
           }
          ],
          "parcoords": [
           {
            "line": {
             "colorbar": {
              "outlinewidth": 0,
              "ticks": ""
             }
            },
            "type": "parcoords"
           }
          ],
          "pie": [
           {
            "automargin": true,
            "type": "pie"
           }
          ],
          "scatter": [
           {
            "fillpattern": {
             "fillmode": "overlay",
             "size": 10,
             "solidity": 0.2
            },
            "type": "scatter"
           }
          ],
          "scatter3d": [
           {
            "line": {
             "colorbar": {
              "outlinewidth": 0,
              "ticks": ""
             }
            },
            "marker": {
             "colorbar": {
              "outlinewidth": 0,
              "ticks": ""
             }
            },
            "type": "scatter3d"
           }
          ],
          "scattercarpet": [
           {
            "marker": {
             "colorbar": {
              "outlinewidth": 0,
              "ticks": ""
             }
            },
            "type": "scattercarpet"
           }
          ],
          "scattergeo": [
           {
            "marker": {
             "colorbar": {
              "outlinewidth": 0,
              "ticks": ""
             }
            },
            "type": "scattergeo"
           }
          ],
          "scattergl": [
           {
            "marker": {
             "colorbar": {
              "outlinewidth": 0,
              "ticks": ""
             }
            },
            "type": "scattergl"
           }
          ],
          "scattermapbox": [
           {
            "marker": {
             "colorbar": {
              "outlinewidth": 0,
              "ticks": ""
             }
            },
            "type": "scattermapbox"
           }
          ],
          "scatterpolar": [
           {
            "marker": {
             "colorbar": {
              "outlinewidth": 0,
              "ticks": ""
             }
            },
            "type": "scatterpolar"
           }
          ],
          "scatterpolargl": [
           {
            "marker": {
             "colorbar": {
              "outlinewidth": 0,
              "ticks": ""
             }
            },
            "type": "scatterpolargl"
           }
          ],
          "scatterternary": [
           {
            "marker": {
             "colorbar": {
              "outlinewidth": 0,
              "ticks": ""
             }
            },
            "type": "scatterternary"
           }
          ],
          "surface": [
           {
            "colorbar": {
             "outlinewidth": 0,
             "ticks": ""
            },
            "colorscale": [
             [
              0,
              "#0d0887"
             ],
             [
              0.1111111111111111,
              "#46039f"
             ],
             [
              0.2222222222222222,
              "#7201a8"
             ],
             [
              0.3333333333333333,
              "#9c179e"
             ],
             [
              0.4444444444444444,
              "#bd3786"
             ],
             [
              0.5555555555555556,
              "#d8576b"
             ],
             [
              0.6666666666666666,
              "#ed7953"
             ],
             [
              0.7777777777777778,
              "#fb9f3a"
             ],
             [
              0.8888888888888888,
              "#fdca26"
             ],
             [
              1,
              "#f0f921"
             ]
            ],
            "type": "surface"
           }
          ],
          "table": [
           {
            "cells": {
             "fill": {
              "color": "#EBF0F8"
             },
             "line": {
              "color": "white"
             }
            },
            "header": {
             "fill": {
              "color": "#C8D4E3"
             },
             "line": {
              "color": "white"
             }
            },
            "type": "table"
           }
          ]
         },
         "layout": {
          "annotationdefaults": {
           "arrowcolor": "#2a3f5f",
           "arrowhead": 0,
           "arrowwidth": 1
          },
          "autotypenumbers": "strict",
          "coloraxis": {
           "colorbar": {
            "outlinewidth": 0,
            "ticks": ""
           }
          },
          "colorscale": {
           "diverging": [
            [
             0,
             "#8e0152"
            ],
            [
             0.1,
             "#c51b7d"
            ],
            [
             0.2,
             "#de77ae"
            ],
            [
             0.3,
             "#f1b6da"
            ],
            [
             0.4,
             "#fde0ef"
            ],
            [
             0.5,
             "#f7f7f7"
            ],
            [
             0.6,
             "#e6f5d0"
            ],
            [
             0.7,
             "#b8e186"
            ],
            [
             0.8,
             "#7fbc41"
            ],
            [
             0.9,
             "#4d9221"
            ],
            [
             1,
             "#276419"
            ]
           ],
           "sequential": [
            [
             0,
             "#0d0887"
            ],
            [
             0.1111111111111111,
             "#46039f"
            ],
            [
             0.2222222222222222,
             "#7201a8"
            ],
            [
             0.3333333333333333,
             "#9c179e"
            ],
            [
             0.4444444444444444,
             "#bd3786"
            ],
            [
             0.5555555555555556,
             "#d8576b"
            ],
            [
             0.6666666666666666,
             "#ed7953"
            ],
            [
             0.7777777777777778,
             "#fb9f3a"
            ],
            [
             0.8888888888888888,
             "#fdca26"
            ],
            [
             1,
             "#f0f921"
            ]
           ],
           "sequentialminus": [
            [
             0,
             "#0d0887"
            ],
            [
             0.1111111111111111,
             "#46039f"
            ],
            [
             0.2222222222222222,
             "#7201a8"
            ],
            [
             0.3333333333333333,
             "#9c179e"
            ],
            [
             0.4444444444444444,
             "#bd3786"
            ],
            [
             0.5555555555555556,
             "#d8576b"
            ],
            [
             0.6666666666666666,
             "#ed7953"
            ],
            [
             0.7777777777777778,
             "#fb9f3a"
            ],
            [
             0.8888888888888888,
             "#fdca26"
            ],
            [
             1,
             "#f0f921"
            ]
           ]
          },
          "colorway": [
           "#636efa",
           "#EF553B",
           "#00cc96",
           "#ab63fa",
           "#FFA15A",
           "#19d3f3",
           "#FF6692",
           "#B6E880",
           "#FF97FF",
           "#FECB52"
          ],
          "font": {
           "color": "#2a3f5f"
          },
          "geo": {
           "bgcolor": "white",
           "lakecolor": "white",
           "landcolor": "#E5ECF6",
           "showlakes": true,
           "showland": true,
           "subunitcolor": "white"
          },
          "hoverlabel": {
           "align": "left"
          },
          "hovermode": "closest",
          "mapbox": {
           "style": "light"
          },
          "paper_bgcolor": "white",
          "plot_bgcolor": "#E5ECF6",
          "polar": {
           "angularaxis": {
            "gridcolor": "white",
            "linecolor": "white",
            "ticks": ""
           },
           "bgcolor": "#E5ECF6",
           "radialaxis": {
            "gridcolor": "white",
            "linecolor": "white",
            "ticks": ""
           }
          },
          "scene": {
           "xaxis": {
            "backgroundcolor": "#E5ECF6",
            "gridcolor": "white",
            "gridwidth": 2,
            "linecolor": "white",
            "showbackground": true,
            "ticks": "",
            "zerolinecolor": "white"
           },
           "yaxis": {
            "backgroundcolor": "#E5ECF6",
            "gridcolor": "white",
            "gridwidth": 2,
            "linecolor": "white",
            "showbackground": true,
            "ticks": "",
            "zerolinecolor": "white"
           },
           "zaxis": {
            "backgroundcolor": "#E5ECF6",
            "gridcolor": "white",
            "gridwidth": 2,
            "linecolor": "white",
            "showbackground": true,
            "ticks": "",
            "zerolinecolor": "white"
           }
          },
          "shapedefaults": {
           "line": {
            "color": "#2a3f5f"
           }
          },
          "ternary": {
           "aaxis": {
            "gridcolor": "white",
            "linecolor": "white",
            "ticks": ""
           },
           "baxis": {
            "gridcolor": "white",
            "linecolor": "white",
            "ticks": ""
           },
           "bgcolor": "#E5ECF6",
           "caxis": {
            "gridcolor": "white",
            "linecolor": "white",
            "ticks": ""
           }
          },
          "title": {
           "x": 0.05
          },
          "xaxis": {
           "automargin": true,
           "gridcolor": "white",
           "linecolor": "white",
           "ticks": "",
           "title": {
            "standoff": 15
           },
           "zerolinecolor": "white",
           "zerolinewidth": 2
          },
          "yaxis": {
           "automargin": true,
           "gridcolor": "white",
           "linecolor": "white",
           "ticks": "",
           "title": {
            "standoff": 15
           },
           "zerolinecolor": "white",
           "zerolinewidth": 2
          }
         }
        },
        "title": {
         "text": "Most common 4-grams in misleading reviews"
        },
        "width": 700,
        "xaxis": {
         "anchor": "y",
         "domain": [
          0,
          1
         ],
         "visible": false
        },
        "yaxis": {
         "anchor": "x",
         "domain": [
          0,
          1
         ],
         "visible": false
        }
       }
      }
     },
     "metadata": {},
     "output_type": "display_data"
    }
   ],
   "source": [
    "from wordcloud import WordCloud\n",
    "from PIL import Image\n",
    "\n",
    "ngrams_str = \" \".join(n_grams)\n",
    "\n",
    "# make house-shaped mask\n",
    "mask = np.array(Image.open(\"../../house_shape.png\"))\n",
    "# fill transparent areas with white\n",
    "mask[mask[:, :, 3] == 0] = [255, 255, 255, 255]\n",
    "\n",
    "# generate wordcloud\n",
    "wc = WordCloud(\n",
    "    background_color=\"white\", \n",
    "    max_words=1000, \n",
    "    width=mask.shape[0]*5,\n",
    "    height=mask.shape[1]*5,\n",
    "    mask = mask,\n",
    "    contour_width=3,\n",
    "    contour_color='steelblue',\n",
    "    colormap=\"twilight_shifted\"\n",
    ").generate(ngrams_str)\n",
    "\n",
    "wc\n",
    "\n",
    "# show wordcloud\n",
    "fig = px.imshow(wc, title=f\"Most common {N}-grams in misleading reviews\", width=700, height=700)\n",
    "fig.update_xaxes(visible=False)\n",
    "fig.update_yaxes(visible=False)\n",
    "fig.show()"
   ]
  },
  {
   "attachments": {},
   "cell_type": "markdown",
   "metadata": {},
   "source": [
    "Here is a reusable function to add ngrams features to a dataframe."
   ]
  },
  {
   "cell_type": "code",
   "execution_count": 162,
   "metadata": {},
   "outputs": [],
   "source": [
    "def ngrams_features(features, n, prefix=\"ngrams_\", corr_thresh=0.05):\n",
    "    \"\"\"Add n-gram features to the features dataframe.\"\"\"\n",
    "\n",
    "    # one-hot encode ngrams\n",
    "    df[\"ngrams\"] = df.comments.apply(lambda x: set(get_consecutive_ngrams(x, 3)))\n",
    "\n",
    "    # get set of ngrams\n",
    "    ng_set = set(series_to_ngrams(subset.comments, n).to_list())\n",
    "\n",
    "    # one-hot encode ngrams\n",
    "    ngram_features = {}\n",
    "    for ngram in ng_set:\n",
    "        ngram_features[prefix + ngram] = df.ngrams.apply(lambda ngrams: 1 if ngram in ngrams else 0)\n",
    "    ngram_df = pd.DataFrame(ngram_features)\n",
    "    \n",
    "    # filter features on correlation with label\n",
    "    ngrams_df = corr_filter(ngram_df, corr_thresh=corr_thresh)\n",
    "\n",
    "    # add ngram features to features dataframe\n",
    "    features = pd.concat([features, ngrams_df], axis=1)\n",
    "\n",
    "\n",
    "    return features"
   ]
  },
  {
   "cell_type": "code",
   "execution_count": 163,
   "metadata": {},
   "outputs": [
    {
     "name": "stdout",
     "output_type": "stream",
     "text": [
      "Features above correlation threshold (0.09):\n",
      "['ngrams_would_not_recommend', 'ngrams_no_toilet_paper', 'ngrams_not_recommend_staying', 'ngrams_per_night_not', 'ngrams_could_not_access', 'ngrams_phone_call_text', 'ngrams_call_text_message', 'ngrams_very_old_not', 'ngrams_left_first_night', 'ngrams_old_not_well', 'ngrams_worse_experience_ever', 'ngrams_refund_second_night', 'ngrams_paid_two_night', 'ngrams_need_deep_cleaning', 'ngrams_not_really_clean', 'ngrams_expected_based_description', 'ngrams_got_no_response', 'ngrams_toilet_paper_buy', 'ngrams_property_management_company', 'ngrams_never_met_host', 'ngrams_nothing_like_picture', 'ngrams_freezer_not_work', 'ngrams_shower_curtain_covered', 'ngrams_obviously_not_cleaned', 'ngrams_never_responded_message', 'ngrams_not_clean_arrived', 'ngrams_not_feel_comfortable', 'ngrams_very_bad_shape', 'ngrams_got_no_answer', 'ngrams_start_good_thing', 'ngrams_time_opened_door', 'ngrams_spend_lot_time', 'ngrams_living_room_couch', 'ngrams_write_negative_review', 'ngrams_need_major_overhaul', 'ngrams_sleep_bedroom_door', 'ngrams_guest_not_able', 'ngrams_take_cold_shower', 'ngrams_place_sleep_10', 'ngrams_staying_another_unit', 'ngrams_told_cleaning_lady', 'ngrams_big_issue_u', 'ngrams_let_start_saying', 'ngrams_felt_compelled_write']\n"
     ]
    },
    {
     "data": {
      "text/html": [
       "<div>\n",
       "<style scoped>\n",
       "    .dataframe tbody tr th:only-of-type {\n",
       "        vertical-align: middle;\n",
       "    }\n",
       "\n",
       "    .dataframe tbody tr th {\n",
       "        vertical-align: top;\n",
       "    }\n",
       "\n",
       "    .dataframe thead th {\n",
       "        text-align: right;\n",
       "    }\n",
       "</style>\n",
       "<table border=\"1\" class=\"dataframe\">\n",
       "  <thead>\n",
       "    <tr style=\"text-align: right;\">\n",
       "      <th></th>\n",
       "      <th>ngrams_would_not_recommend</th>\n",
       "      <th>ngrams_no_toilet_paper</th>\n",
       "      <th>ngrams_not_recommend_staying</th>\n",
       "      <th>ngrams_per_night_not</th>\n",
       "      <th>ngrams_could_not_access</th>\n",
       "      <th>ngrams_phone_call_text</th>\n",
       "      <th>ngrams_call_text_message</th>\n",
       "      <th>ngrams_very_old_not</th>\n",
       "      <th>ngrams_left_first_night</th>\n",
       "      <th>ngrams_old_not_well</th>\n",
       "      <th>...</th>\n",
       "      <th>ngrams_need_major_overhaul</th>\n",
       "      <th>ngrams_sleep_bedroom_door</th>\n",
       "      <th>ngrams_guest_not_able</th>\n",
       "      <th>ngrams_take_cold_shower</th>\n",
       "      <th>ngrams_place_sleep_10</th>\n",
       "      <th>ngrams_staying_another_unit</th>\n",
       "      <th>ngrams_told_cleaning_lady</th>\n",
       "      <th>ngrams_big_issue_u</th>\n",
       "      <th>ngrams_let_start_saying</th>\n",
       "      <th>ngrams_felt_compelled_write</th>\n",
       "    </tr>\n",
       "  </thead>\n",
       "  <tbody>\n",
       "    <tr>\n",
       "      <th>0</th>\n",
       "      <td>0</td>\n",
       "      <td>0</td>\n",
       "      <td>0</td>\n",
       "      <td>0</td>\n",
       "      <td>0</td>\n",
       "      <td>0</td>\n",
       "      <td>0</td>\n",
       "      <td>0</td>\n",
       "      <td>0</td>\n",
       "      <td>0</td>\n",
       "      <td>...</td>\n",
       "      <td>0</td>\n",
       "      <td>0</td>\n",
       "      <td>0</td>\n",
       "      <td>0</td>\n",
       "      <td>0</td>\n",
       "      <td>0</td>\n",
       "      <td>0</td>\n",
       "      <td>0</td>\n",
       "      <td>0</td>\n",
       "      <td>0</td>\n",
       "    </tr>\n",
       "    <tr>\n",
       "      <th>1</th>\n",
       "      <td>0</td>\n",
       "      <td>0</td>\n",
       "      <td>0</td>\n",
       "      <td>0</td>\n",
       "      <td>0</td>\n",
       "      <td>0</td>\n",
       "      <td>0</td>\n",
       "      <td>0</td>\n",
       "      <td>0</td>\n",
       "      <td>0</td>\n",
       "      <td>...</td>\n",
       "      <td>0</td>\n",
       "      <td>0</td>\n",
       "      <td>0</td>\n",
       "      <td>0</td>\n",
       "      <td>0</td>\n",
       "      <td>0</td>\n",
       "      <td>0</td>\n",
       "      <td>0</td>\n",
       "      <td>0</td>\n",
       "      <td>0</td>\n",
       "    </tr>\n",
       "    <tr>\n",
       "      <th>2</th>\n",
       "      <td>0</td>\n",
       "      <td>0</td>\n",
       "      <td>0</td>\n",
       "      <td>0</td>\n",
       "      <td>0</td>\n",
       "      <td>0</td>\n",
       "      <td>0</td>\n",
       "      <td>0</td>\n",
       "      <td>0</td>\n",
       "      <td>0</td>\n",
       "      <td>...</td>\n",
       "      <td>0</td>\n",
       "      <td>0</td>\n",
       "      <td>0</td>\n",
       "      <td>0</td>\n",
       "      <td>0</td>\n",
       "      <td>0</td>\n",
       "      <td>0</td>\n",
       "      <td>0</td>\n",
       "      <td>0</td>\n",
       "      <td>0</td>\n",
       "    </tr>\n",
       "    <tr>\n",
       "      <th>3</th>\n",
       "      <td>0</td>\n",
       "      <td>0</td>\n",
       "      <td>0</td>\n",
       "      <td>0</td>\n",
       "      <td>0</td>\n",
       "      <td>0</td>\n",
       "      <td>0</td>\n",
       "      <td>0</td>\n",
       "      <td>0</td>\n",
       "      <td>0</td>\n",
       "      <td>...</td>\n",
       "      <td>0</td>\n",
       "      <td>0</td>\n",
       "      <td>0</td>\n",
       "      <td>0</td>\n",
       "      <td>0</td>\n",
       "      <td>0</td>\n",
       "      <td>0</td>\n",
       "      <td>0</td>\n",
       "      <td>0</td>\n",
       "      <td>0</td>\n",
       "    </tr>\n",
       "    <tr>\n",
       "      <th>4</th>\n",
       "      <td>0</td>\n",
       "      <td>0</td>\n",
       "      <td>0</td>\n",
       "      <td>0</td>\n",
       "      <td>0</td>\n",
       "      <td>0</td>\n",
       "      <td>0</td>\n",
       "      <td>0</td>\n",
       "      <td>0</td>\n",
       "      <td>0</td>\n",
       "      <td>...</td>\n",
       "      <td>0</td>\n",
       "      <td>0</td>\n",
       "      <td>0</td>\n",
       "      <td>0</td>\n",
       "      <td>0</td>\n",
       "      <td>0</td>\n",
       "      <td>0</td>\n",
       "      <td>0</td>\n",
       "      <td>0</td>\n",
       "      <td>0</td>\n",
       "    </tr>\n",
       "    <tr>\n",
       "      <th>...</th>\n",
       "      <td>...</td>\n",
       "      <td>...</td>\n",
       "      <td>...</td>\n",
       "      <td>...</td>\n",
       "      <td>...</td>\n",
       "      <td>...</td>\n",
       "      <td>...</td>\n",
       "      <td>...</td>\n",
       "      <td>...</td>\n",
       "      <td>...</td>\n",
       "      <td>...</td>\n",
       "      <td>...</td>\n",
       "      <td>...</td>\n",
       "      <td>...</td>\n",
       "      <td>...</td>\n",
       "      <td>...</td>\n",
       "      <td>...</td>\n",
       "      <td>...</td>\n",
       "      <td>...</td>\n",
       "      <td>...</td>\n",
       "      <td>...</td>\n",
       "    </tr>\n",
       "    <tr>\n",
       "      <th>1624</th>\n",
       "      <td>0</td>\n",
       "      <td>0</td>\n",
       "      <td>0</td>\n",
       "      <td>0</td>\n",
       "      <td>0</td>\n",
       "      <td>0</td>\n",
       "      <td>0</td>\n",
       "      <td>0</td>\n",
       "      <td>0</td>\n",
       "      <td>0</td>\n",
       "      <td>...</td>\n",
       "      <td>0</td>\n",
       "      <td>0</td>\n",
       "      <td>0</td>\n",
       "      <td>0</td>\n",
       "      <td>0</td>\n",
       "      <td>0</td>\n",
       "      <td>0</td>\n",
       "      <td>0</td>\n",
       "      <td>0</td>\n",
       "      <td>0</td>\n",
       "    </tr>\n",
       "    <tr>\n",
       "      <th>1625</th>\n",
       "      <td>0</td>\n",
       "      <td>0</td>\n",
       "      <td>0</td>\n",
       "      <td>0</td>\n",
       "      <td>0</td>\n",
       "      <td>0</td>\n",
       "      <td>0</td>\n",
       "      <td>0</td>\n",
       "      <td>0</td>\n",
       "      <td>0</td>\n",
       "      <td>...</td>\n",
       "      <td>0</td>\n",
       "      <td>0</td>\n",
       "      <td>0</td>\n",
       "      <td>0</td>\n",
       "      <td>0</td>\n",
       "      <td>0</td>\n",
       "      <td>0</td>\n",
       "      <td>0</td>\n",
       "      <td>0</td>\n",
       "      <td>0</td>\n",
       "    </tr>\n",
       "    <tr>\n",
       "      <th>1626</th>\n",
       "      <td>0</td>\n",
       "      <td>0</td>\n",
       "      <td>0</td>\n",
       "      <td>0</td>\n",
       "      <td>0</td>\n",
       "      <td>0</td>\n",
       "      <td>0</td>\n",
       "      <td>0</td>\n",
       "      <td>0</td>\n",
       "      <td>0</td>\n",
       "      <td>...</td>\n",
       "      <td>0</td>\n",
       "      <td>0</td>\n",
       "      <td>0</td>\n",
       "      <td>0</td>\n",
       "      <td>0</td>\n",
       "      <td>0</td>\n",
       "      <td>0</td>\n",
       "      <td>0</td>\n",
       "      <td>0</td>\n",
       "      <td>0</td>\n",
       "    </tr>\n",
       "    <tr>\n",
       "      <th>1627</th>\n",
       "      <td>0</td>\n",
       "      <td>0</td>\n",
       "      <td>0</td>\n",
       "      <td>0</td>\n",
       "      <td>0</td>\n",
       "      <td>0</td>\n",
       "      <td>0</td>\n",
       "      <td>0</td>\n",
       "      <td>0</td>\n",
       "      <td>0</td>\n",
       "      <td>...</td>\n",
       "      <td>0</td>\n",
       "      <td>0</td>\n",
       "      <td>0</td>\n",
       "      <td>0</td>\n",
       "      <td>0</td>\n",
       "      <td>0</td>\n",
       "      <td>0</td>\n",
       "      <td>0</td>\n",
       "      <td>0</td>\n",
       "      <td>0</td>\n",
       "    </tr>\n",
       "    <tr>\n",
       "      <th>1628</th>\n",
       "      <td>0</td>\n",
       "      <td>0</td>\n",
       "      <td>0</td>\n",
       "      <td>0</td>\n",
       "      <td>0</td>\n",
       "      <td>0</td>\n",
       "      <td>0</td>\n",
       "      <td>0</td>\n",
       "      <td>0</td>\n",
       "      <td>0</td>\n",
       "      <td>...</td>\n",
       "      <td>0</td>\n",
       "      <td>0</td>\n",
       "      <td>0</td>\n",
       "      <td>0</td>\n",
       "      <td>0</td>\n",
       "      <td>0</td>\n",
       "      <td>0</td>\n",
       "      <td>0</td>\n",
       "      <td>0</td>\n",
       "      <td>0</td>\n",
       "    </tr>\n",
       "  </tbody>\n",
       "</table>\n",
       "<p>1629 rows × 44 columns</p>\n",
       "</div>"
      ],
      "text/plain": [
       "      ngrams_would_not_recommend  ngrams_no_toilet_paper  \\\n",
       "0                              0                       0   \n",
       "1                              0                       0   \n",
       "2                              0                       0   \n",
       "3                              0                       0   \n",
       "4                              0                       0   \n",
       "...                          ...                     ...   \n",
       "1624                           0                       0   \n",
       "1625                           0                       0   \n",
       "1626                           0                       0   \n",
       "1627                           0                       0   \n",
       "1628                           0                       0   \n",
       "\n",
       "      ngrams_not_recommend_staying  ngrams_per_night_not  \\\n",
       "0                                0                     0   \n",
       "1                                0                     0   \n",
       "2                                0                     0   \n",
       "3                                0                     0   \n",
       "4                                0                     0   \n",
       "...                            ...                   ...   \n",
       "1624                             0                     0   \n",
       "1625                             0                     0   \n",
       "1626                             0                     0   \n",
       "1627                             0                     0   \n",
       "1628                             0                     0   \n",
       "\n",
       "      ngrams_could_not_access  ngrams_phone_call_text  \\\n",
       "0                           0                       0   \n",
       "1                           0                       0   \n",
       "2                           0                       0   \n",
       "3                           0                       0   \n",
       "4                           0                       0   \n",
       "...                       ...                     ...   \n",
       "1624                        0                       0   \n",
       "1625                        0                       0   \n",
       "1626                        0                       0   \n",
       "1627                        0                       0   \n",
       "1628                        0                       0   \n",
       "\n",
       "      ngrams_call_text_message  ngrams_very_old_not  ngrams_left_first_night  \\\n",
       "0                            0                    0                        0   \n",
       "1                            0                    0                        0   \n",
       "2                            0                    0                        0   \n",
       "3                            0                    0                        0   \n",
       "4                            0                    0                        0   \n",
       "...                        ...                  ...                      ...   \n",
       "1624                         0                    0                        0   \n",
       "1625                         0                    0                        0   \n",
       "1626                         0                    0                        0   \n",
       "1627                         0                    0                        0   \n",
       "1628                         0                    0                        0   \n",
       "\n",
       "      ngrams_old_not_well  ...  ngrams_need_major_overhaul  \\\n",
       "0                       0  ...                           0   \n",
       "1                       0  ...                           0   \n",
       "2                       0  ...                           0   \n",
       "3                       0  ...                           0   \n",
       "4                       0  ...                           0   \n",
       "...                   ...  ...                         ...   \n",
       "1624                    0  ...                           0   \n",
       "1625                    0  ...                           0   \n",
       "1626                    0  ...                           0   \n",
       "1627                    0  ...                           0   \n",
       "1628                    0  ...                           0   \n",
       "\n",
       "      ngrams_sleep_bedroom_door  ngrams_guest_not_able  \\\n",
       "0                             0                      0   \n",
       "1                             0                      0   \n",
       "2                             0                      0   \n",
       "3                             0                      0   \n",
       "4                             0                      0   \n",
       "...                         ...                    ...   \n",
       "1624                          0                      0   \n",
       "1625                          0                      0   \n",
       "1626                          0                      0   \n",
       "1627                          0                      0   \n",
       "1628                          0                      0   \n",
       "\n",
       "      ngrams_take_cold_shower  ngrams_place_sleep_10  \\\n",
       "0                           0                      0   \n",
       "1                           0                      0   \n",
       "2                           0                      0   \n",
       "3                           0                      0   \n",
       "4                           0                      0   \n",
       "...                       ...                    ...   \n",
       "1624                        0                      0   \n",
       "1625                        0                      0   \n",
       "1626                        0                      0   \n",
       "1627                        0                      0   \n",
       "1628                        0                      0   \n",
       "\n",
       "      ngrams_staying_another_unit  ngrams_told_cleaning_lady  \\\n",
       "0                               0                          0   \n",
       "1                               0                          0   \n",
       "2                               0                          0   \n",
       "3                               0                          0   \n",
       "4                               0                          0   \n",
       "...                           ...                        ...   \n",
       "1624                            0                          0   \n",
       "1625                            0                          0   \n",
       "1626                            0                          0   \n",
       "1627                            0                          0   \n",
       "1628                            0                          0   \n",
       "\n",
       "      ngrams_big_issue_u  ngrams_let_start_saying  ngrams_felt_compelled_write  \n",
       "0                      0                        0                            0  \n",
       "1                      0                        0                            0  \n",
       "2                      0                        0                            0  \n",
       "3                      0                        0                            0  \n",
       "4                      0                        0                            0  \n",
       "...                  ...                      ...                          ...  \n",
       "1624                   0                        0                            0  \n",
       "1625                   0                        0                            0  \n",
       "1626                   0                        0                            0  \n",
       "1627                   0                        0                            0  \n",
       "1628                   0                        0                            0  \n",
       "\n",
       "[1629 rows x 44 columns]"
      ]
     },
     "execution_count": 163,
     "metadata": {},
     "output_type": "execute_result"
    }
   ],
   "source": [
    "features = pd.DataFrame()\n",
    "ngrams_features(features, 3, prefix=\"ngrams_\", corr_thresh=0.09)"
   ]
  },
  {
   "attachments": {},
   "cell_type": "markdown",
   "metadata": {},
   "source": [
    "## \"Mentioned Amenities\" Features\n",
    "Was an amenity that was included in the listing mentioned in the review?"
   ]
  },
  {
   "attachments": {},
   "cell_type": "markdown",
   "metadata": {},
   "source": [
    "First, we need to do some cleaning amenities to make them easier to match."
   ]
  },
  {
   "cell_type": "code",
   "execution_count": 164,
   "metadata": {},
   "outputs": [],
   "source": [
    "import re\n",
    "\n",
    "def clean_amenities(amenities):\n",
    "    \"\"\"Clean the amenities column.\"\"\"\n",
    "\n",
    "    cleaned = []\n",
    "\n",
    "    # basic cleaning\n",
    "    for amenity in amenities:\n",
    "        # remove quotes\n",
    "        amenity = amenity.replace('\"', \"\")\n",
    "        # remove anything in parentheses or brackets\n",
    "        amenity = re.sub(r\"\\(.*\\)\", \"\", amenity)\n",
    "        amenity = re.sub(r\"\\[.*\\]\", \"\", amenity)\n",
    "        # strip whitespace\n",
    "        amenity = amenity.strip()\n",
    "        # lowercase\n",
    "        amenity = amenity.lower()\n",
    "\n",
    "        cleaned.append(amenity)\n",
    "\n",
    "    # split entries with a slash, \"and\", or \"or\"\n",
    "    for to_split_on in [\"/\", \" and \", \" or \"]:\n",
    "        cleaned = [amenity.split(to_split_on) for amenity in cleaned]\n",
    "        cleaned = [item.strip() for sublist in cleaned for item in sublist]\n",
    "\n",
    "    # remove empty strings\n",
    "    cleaned = [amenity for amenity in cleaned if amenity != \"\"]\n",
    "\n",
    "    return cleaned\n",
    "\n",
    "df.amenities = df.amenities.apply(clean_amenities)"
   ]
  },
  {
   "attachments": {},
   "cell_type": "markdown",
   "metadata": {},
   "source": [
    "Look at some examples of the cleaned amenities."
   ]
  },
  {
   "cell_type": "code",
   "execution_count": 165,
   "metadata": {},
   "outputs": [
    {
     "data": {
      "text/plain": [
       "['tv',\n",
       " 'cable tv',\n",
       " 'internet',\n",
       " 'wifi',\n",
       " 'air conditioning',\n",
       " 'kitchen',\n",
       " 'free parking on premises',\n",
       " 'heating',\n",
       " 'family',\n",
       " 'kid friendly',\n",
       " 'washer',\n",
       " 'dryer',\n",
       " 'smoke detector',\n",
       " 'carbon monoxide detector',\n",
       " 'first aid kit',\n",
       " 'fire extinguisher',\n",
       " 'essentials',\n",
       " 'shampoo',\n",
       " 'hangers',\n",
       " 'hair dryer',\n",
       " 'iron',\n",
       " 'laptop friendly workspace',\n",
       " 'self check-in',\n",
       " 'smart lock',\n",
       " 'hot water',\n",
       " 'coffee maker',\n",
       " 'dishwasher',\n",
       " 'oven}']"
      ]
     },
     "execution_count": 165,
     "metadata": {},
     "output_type": "execute_result"
    }
   ],
   "source": [
    "df.amenities.sample(1).values[0]"
   ]
  },
  {
   "attachments": {},
   "cell_type": "markdown",
   "metadata": {},
   "source": [
    "Calculate our amenities features, and look at the correlation between them and the label."
   ]
  },
  {
   "cell_type": "code",
   "execution_count": 167,
   "metadata": {},
   "outputs": [
    {
     "name": "stdout",
     "output_type": "stream",
     "text": [
      "Adding amenities features...\n",
      "Features above correlation threshold (0.05):\n",
      "['lockbox', 'dishwasher', 'pool', 'stove', 'keypad', 'bathtub', 'kitchen', 'balcony', 'shampoo', 'garden', 'cat', 'family', 'breakfast']\n"
     ]
    },
    {
     "data": {
      "text/html": [
       "<div>\n",
       "<style scoped>\n",
       "    .dataframe tbody tr th:only-of-type {\n",
       "        vertical-align: middle;\n",
       "    }\n",
       "\n",
       "    .dataframe tbody tr th {\n",
       "        vertical-align: top;\n",
       "    }\n",
       "\n",
       "    .dataframe thead th {\n",
       "        text-align: right;\n",
       "    }\n",
       "</style>\n",
       "<table border=\"1\" class=\"dataframe\">\n",
       "  <thead>\n",
       "    <tr style=\"text-align: right;\">\n",
       "      <th></th>\n",
       "      <th>lockbox</th>\n",
       "      <th>dishwasher</th>\n",
       "      <th>pool</th>\n",
       "      <th>stove</th>\n",
       "      <th>keypad</th>\n",
       "      <th>bathtub</th>\n",
       "      <th>kitchen</th>\n",
       "      <th>balcony</th>\n",
       "      <th>shampoo</th>\n",
       "      <th>garden</th>\n",
       "      <th>cat</th>\n",
       "      <th>family</th>\n",
       "      <th>breakfast</th>\n",
       "      <th>review_id</th>\n",
       "      <th>label</th>\n",
       "    </tr>\n",
       "  </thead>\n",
       "  <tbody>\n",
       "    <tr>\n",
       "      <th>0</th>\n",
       "      <td>0.0</td>\n",
       "      <td>0.0</td>\n",
       "      <td>0.0</td>\n",
       "      <td>0.0</td>\n",
       "      <td>0.0</td>\n",
       "      <td>0.0</td>\n",
       "      <td>0.0</td>\n",
       "      <td>0.0</td>\n",
       "      <td>0.0</td>\n",
       "      <td>0.0</td>\n",
       "      <td>0.0</td>\n",
       "      <td>0.0</td>\n",
       "      <td>0.0</td>\n",
       "      <td>83097</td>\n",
       "      <td>good</td>\n",
       "    </tr>\n",
       "    <tr>\n",
       "      <th>2</th>\n",
       "      <td>0.0</td>\n",
       "      <td>0.0</td>\n",
       "      <td>0.0</td>\n",
       "      <td>0.0</td>\n",
       "      <td>0.0</td>\n",
       "      <td>0.0</td>\n",
       "      <td>1.0</td>\n",
       "      <td>0.0</td>\n",
       "      <td>0.0</td>\n",
       "      <td>0.0</td>\n",
       "      <td>0.0</td>\n",
       "      <td>0.0</td>\n",
       "      <td>0.0</td>\n",
       "      <td>150928</td>\n",
       "      <td>good</td>\n",
       "    </tr>\n",
       "    <tr>\n",
       "      <th>4</th>\n",
       "      <td>0.0</td>\n",
       "      <td>0.0</td>\n",
       "      <td>0.0</td>\n",
       "      <td>0.0</td>\n",
       "      <td>0.0</td>\n",
       "      <td>0.0</td>\n",
       "      <td>1.0</td>\n",
       "      <td>0.0</td>\n",
       "      <td>0.0</td>\n",
       "      <td>1.0</td>\n",
       "      <td>0.0</td>\n",
       "      <td>0.0</td>\n",
       "      <td>0.0</td>\n",
       "      <td>8602878</td>\n",
       "      <td>good</td>\n",
       "    </tr>\n",
       "    <tr>\n",
       "      <th>5</th>\n",
       "      <td>0.0</td>\n",
       "      <td>0.0</td>\n",
       "      <td>0.0</td>\n",
       "      <td>0.0</td>\n",
       "      <td>0.0</td>\n",
       "      <td>0.0</td>\n",
       "      <td>0.0</td>\n",
       "      <td>0.0</td>\n",
       "      <td>0.0</td>\n",
       "      <td>0.0</td>\n",
       "      <td>0.0</td>\n",
       "      <td>0.0</td>\n",
       "      <td>0.0</td>\n",
       "      <td>17827296</td>\n",
       "      <td>good</td>\n",
       "    </tr>\n",
       "    <tr>\n",
       "      <th>6</th>\n",
       "      <td>0.0</td>\n",
       "      <td>0.0</td>\n",
       "      <td>0.0</td>\n",
       "      <td>0.0</td>\n",
       "      <td>0.0</td>\n",
       "      <td>0.0</td>\n",
       "      <td>0.0</td>\n",
       "      <td>0.0</td>\n",
       "      <td>0.0</td>\n",
       "      <td>0.0</td>\n",
       "      <td>0.0</td>\n",
       "      <td>0.0</td>\n",
       "      <td>0.0</td>\n",
       "      <td>22768604</td>\n",
       "      <td>good</td>\n",
       "    </tr>\n",
       "  </tbody>\n",
       "</table>\n",
       "</div>"
      ],
      "text/plain": [
       "   lockbox  dishwasher  pool  stove  keypad  bathtub  kitchen  balcony  \\\n",
       "0      0.0         0.0   0.0    0.0     0.0      0.0      0.0      0.0   \n",
       "2      0.0         0.0   0.0    0.0     0.0      0.0      1.0      0.0   \n",
       "4      0.0         0.0   0.0    0.0     0.0      0.0      1.0      0.0   \n",
       "5      0.0         0.0   0.0    0.0     0.0      0.0      0.0      0.0   \n",
       "6      0.0         0.0   0.0    0.0     0.0      0.0      0.0      0.0   \n",
       "\n",
       "   shampoo  garden  cat  family  breakfast  review_id label  \n",
       "0      0.0     0.0  0.0     0.0        0.0      83097  good  \n",
       "2      0.0     0.0  0.0     0.0        0.0     150928  good  \n",
       "4      0.0     1.0  0.0     0.0        0.0    8602878  good  \n",
       "5      0.0     0.0  0.0     0.0        0.0   17827296  good  \n",
       "6      0.0     0.0  0.0     0.0        0.0   22768604  good  "
      ]
     },
     "execution_count": 167,
     "metadata": {},
     "output_type": "execute_result"
    }
   ],
   "source": [
    "def amenities_features(features: pd.DataFrame, corr_thresh=None, prefix=\"amenities_\") -> pd.DataFrame:\n",
    "    print(\"Adding amenities features...\")\n",
    "    amenities_features_df = pd.DataFrame()\n",
    "    # 1. Find the amenities in the listings\n",
    "    for index, row in df.iterrows():\n",
    "        # 1. Find the amenities in the listings\n",
    "        amenities = row.amenities\n",
    "\n",
    "        # Add one row to the features dataframe using pd.concat\n",
    "        amenities_features_df = pd.concat([amenities_features_df, pd.DataFrame(columns=amenities_features_df.columns)])\n",
    "\n",
    "        # 2. For each amenity, see if it is present in the review\n",
    "        for amenity in amenities:\n",
    "            if amenity in row.comments:\n",
    "                # 3. If it is present, add 1 for that feature\n",
    "                if amenity in amenities_features_df.columns:\n",
    "                    amenities_features_df.loc[index, amenity] = 1\n",
    "                #   If the amenity does not already exist from another review, add it to the features dataframe\n",
    "                else:\n",
    "                    amenities_features_df.loc[index, amenity] = 0\n",
    "    \n",
    "    # 4. fill missing values with 0\n",
    "    amenities_features_df = amenities_features_df.fillna(0)\n",
    "\n",
    "    # 6. Only keep amenities features that have a correlation with the label above a certain threshold\n",
    "    amenities_features_df = corr_filter(amenities_features_df, corr_thresh=corr_thresh)\n",
    "\n",
    "    # prefix features\n",
    "    amenities_features_df = amenities_features_df.add_prefix(prefix)\n",
    "\n",
    "    # 5. Add the features to the greater features dataframe\n",
    "    features = pd.concat([features, amenities_features_df], axis=1)\n",
    "\n",
    "    return features\n",
    "\n",
    "features = pd.DataFrame()\n",
    "features_with_amenities = amenities_features(features, corr_thresh=0.05, prefix=\"\")\n",
    "features_with_amenities[\"review_id\"] = df.review_id\n",
    "features_with_amenities[\"label\"] = df.label\n",
    "features_with_amenities.head()"
   ]
  },
  {
   "cell_type": "code",
   "execution_count": 168,
   "metadata": {},
   "outputs": [
    {
     "name": "stderr",
     "output_type": "stream",
     "text": [
      "C:\\Users\\grego\\AppData\\Local\\Temp\\ipykernel_19852\\2336534246.py:6: FutureWarning:\n",
      "\n",
      "The default value of numeric_only in DataFrame.corrwith is deprecated. In a future version, it will default to False. Select only valid columns or specify the value of numeric_only to silence this warning.\n",
      "\n"
     ]
    },
    {
     "data": {
      "text/plain": [
       "lockbox       0.119924\n",
       "dishwasher    0.091862\n",
       "pool          0.084724\n",
       "stove         0.075858\n",
       "keypad        0.071675\n",
       "bathtub       0.062482\n",
       "kitchen       0.054540\n",
       "balcony      -0.050448\n",
       "shampoo      -0.054802\n",
       "garden       -0.072476\n",
       "cat          -0.072627\n",
       "family       -0.078019\n",
       "breakfast    -0.081856\n",
       "dtype: float64"
      ]
     },
     "execution_count": 168,
     "metadata": {},
     "output_type": "execute_result"
    }
   ],
   "source": [
    "# OHE labels\n",
    "labels_list: list = features_with_amenities.label.unique().tolist()\n",
    "dummies = features_with_amenities.label.apply(lambda label: labels_list.index(label))\n",
    "\n",
    "# calculate correlations with the label\n",
    "corrs = features_with_amenities.drop(\"review_id\", axis=1).corrwith(dummies).sort_values(ascending=False)\n",
    "corrs"
   ]
  },
  {
   "attachments": {},
   "cell_type": "markdown",
   "metadata": {},
   "source": [
    "## Word Embeddings and T-SNE\n",
    "Another way to look at the data is to use word embeddings. We can use the word2vec model from gensim to create word embeddings for each word in the dataset. We can then take the average of all word vectors in a review to get a vector representation of the review. We can then use T-SNE to reduce the dimensionality of the word embeddings to 3 dimensions so we can plot them."
   ]
  },
  {
   "cell_type": "code",
   "execution_count": 2,
   "metadata": {},
   "outputs": [
    {
     "ename": "NameError",
     "evalue": "name 'pd' is not defined",
     "output_type": "error",
     "traceback": [
      "\u001b[1;31m---------------------------------------------------------------------------\u001b[0m",
      "\u001b[1;31mNameError\u001b[0m                                 Traceback (most recent call last)",
      "Cell \u001b[1;32mIn[2], line 3\u001b[0m\n\u001b[0;32m      1\u001b[0m \u001b[39mfrom\u001b[39;00m \u001b[39mgensim\u001b[39;00m\u001b[39m.\u001b[39;00m\u001b[39mmodels\u001b[39;00m\u001b[39m.\u001b[39;00m\u001b[39mword2vec\u001b[39;00m \u001b[39mimport\u001b[39;00m Word2Vec\n\u001b[1;32m----> 3\u001b[0m \u001b[39mdef\u001b[39;00m \u001b[39membeddings_features\u001b[39m(features, emb_vector_size\u001b[39m=\u001b[39m\u001b[39m50\u001b[39m, col\u001b[39m=\u001b[39m\u001b[39m\"\u001b[39m\u001b[39mcomments\u001b[39m\u001b[39m\"\u001b[39m) \u001b[39m-\u001b[39m\u001b[39m>\u001b[39m pd\u001b[39m.\u001b[39mDataFrame:\n\u001b[0;32m      5\u001b[0m     \u001b[39mprint\u001b[39m(\u001b[39m\"\u001b[39m\u001b[39mCreating model...\u001b[39m\u001b[39m\"\u001b[39m)\n\u001b[0;32m      6\u001b[0m     model \u001b[39m=\u001b[39m Word2Vec(df[col]\u001b[39m.\u001b[39mto_list(), \n\u001b[0;32m      7\u001b[0m             min_count\u001b[39m=\u001b[39m\u001b[39m1\u001b[39m,\n\u001b[0;32m      8\u001b[0m             vector_size\u001b[39m=\u001b[39memb_vector_size,\n\u001b[1;32m   (...)\u001b[0m\n\u001b[0;32m     11\u001b[0m             sg\u001b[39m=\u001b[39m\u001b[39m1\u001b[39m\n\u001b[0;32m     12\u001b[0m         )\n",
      "\u001b[1;31mNameError\u001b[0m: name 'pd' is not defined"
     ]
    }
   ],
   "source": [
    "from gensim.models.word2vec import Word2Vec\n",
    "\n",
    "def embeddings_features(features, emb_vector_size=50, col=\"comments\") -> pd.DataFrame:\n",
    "\n",
    "    print(\"Creating model...\")\n",
    "    model = Word2Vec(df[col].to_list(), \n",
    "            min_count=1,\n",
    "            vector_size=emb_vector_size,\n",
    "            workers=3, \n",
    "            window=3, \n",
    "            sg=1\n",
    "        )\n",
    "    \n",
    "    # generate embeddings\n",
    "    print(\"Generating embeddings...\")\n",
    "    get_review_embeddings = lambda review: np.mean([model.wv[word] for word in review if word in model.wv], axis=0)\n",
    "    embeddings = np.array([get_review_embeddings(review) for review in df[col].to_list()])\n",
    "    \n",
    "    for i in range(embeddings.shape[1]):\n",
    "        features[f\"embedding_{i}\"] = embeddings[:, i]\n",
    "    \n",
    "    return features\n",
    "\n",
    "\n",
    "def tsne_features(features, dims=3, prefix=\"tsne_\"):\n",
    "\n",
    "    from sklearn.manifold import TSNE\n",
    "    print(f\"Applying t-SNE... (dim={dims})\")\n",
    "    tsne = TSNE(n_components=dims, random_state=0)\n",
    "    embeddings_2d = tsne.fit_transform(features)\n",
    "    embd_df = pd.DataFrame(embeddings_2d, columns=[f\"{prefix}{dims}D_{i}\" for i in range(dims)])\n",
    "\n",
    "    return embd_df"
   ]
  },
  {
   "attachments": {},
   "cell_type": "markdown",
   "metadata": {},
   "source": [
    "Let's apply this to the misleading reviews, and then reduce down to 2 dimensions using T-SNE."
   ]
  },
  {
   "cell_type": "code",
   "execution_count": 178,
   "metadata": {},
   "outputs": [
    {
     "name": "stdout",
     "output_type": "stream",
     "text": [
      "Creating model...\n",
      "Generating embeddings...\n",
      "Applying t-SNE... (dim=3)\n"
     ]
    },
    {
     "data": {
      "application/vnd.plotly.v1+json": {
       "config": {
        "plotlyServerURL": "https://plot.ly"
       },
       "data": [
        {
         "hovertemplate": "label=good<br>tsne_3D_0=%{x}<br>tsne_3D_1=%{y}<br>tsne_3D_2=%{z}<extra></extra>",
         "legendgroup": "good",
         "marker": {
          "color": "#636efa",
          "opacity": 0.5,
          "size": 4,
          "symbol": "circle"
         },
         "mode": "markers",
         "name": "good",
         "scene": "scene",
         "showlegend": true,
         "type": "scatter3d",
         "x": [
          -4.026237964630127,
          -2.883415460586548,
          -6.8102850914001465,
          -12.825727462768555,
          -0.07676184177398682,
          10.43695068359375,
          -7.704689979553223,
          -2.9971213340759277,
          -8.686767578125,
          -6.138381481170654,
          8.398908615112305,
          -2.5349817276000977,
          -5.526458263397217,
          12.097806930541992,
          -5.393464088439941,
          -3.3402419090270996,
          -7.183861255645752,
          -2.4997692108154297,
          -9.39418888092041,
          -0.8867375254631042,
          -2.5397565364837646,
          -0.9351304769515991,
          -3.215231418609619,
          -5.189074516296387,
          0.5641273260116577,
          -10.98713493347168,
          7.7678937911987305,
          -8.322823524475098,
          -2.8908498287200928,
          -5.999153137207031,
          -12.110219955444336,
          -10.70350456237793,
          -8.866998672485352,
          -4.532235145568848,
          -3.594696521759033,
          -4.909893035888672,
          3.8168039321899414,
          -4.002264499664307,
          1.3198379278182983,
          -13.768625259399414,
          -11.555557250976562,
          -9.618102073669434,
          -5.4116668701171875,
          -4.369499206542969,
          6.152697563171387,
          -0.030634846538305283,
          1.0477923154830933,
          -8.681084632873535,
          5.589338779449463,
          4.94600772857666,
          -1.0889980792999268,
          -4.682945251464844,
          -1.3297975063323975,
          -0.9159138798713684,
          -2.2640650272369385,
          2.3616960048675537,
          -2.5206761360168457,
          -7.917537212371826,
          -1.3316304683685303,
          8.662421226501465,
          14.07634449005127,
          -2.964319944381714,
          9.697114944458008,
          -2.606834888458252,
          -3.5555801391601562,
          2.2873294353485107,
          -5.157415390014648,
          -6.953562259674072,
          -10.325596809387207,
          -6.04887056350708,
          3.6881532669067383,
          -2.0239832401275635,
          -4.070109844207764,
          4.466794490814209,
          0.9183477759361267,
          1.1623027324676514,
          5.341232776641846,
          -4.261468887329102,
          -10.370443344116211,
          -0.3445870280265808,
          -10.667071342468262,
          -4.756585121154785,
          -11.329178810119629,
          -4.311424255371094,
          -11.249672889709473,
          -5.4023027420043945,
          -7.229229927062988,
          -6.78172492980957,
          -8.94184684753418,
          -9.289009094238281,
          2.431978940963745,
          5.013854026794434,
          -7.594056606292725,
          3.169262409210205,
          -5.076432228088379,
          7.930234909057617,
          0.09483926743268967,
          0.823765754699707,
          3.3071837425231934,
          -4.741722106933594,
          -3.1325478553771973,
          -3.6193501949310303,
          1.3692162036895752,
          5.703800678253174,
          0.6734413504600525,
          -0.8527891039848328,
          -6.331067085266113,
          4.882974147796631,
          -5.135178089141846,
          -12.056893348693848,
          -1.0524888038635254,
          -10.240789413452148,
          4.0013346672058105,
          6.678833484649658,
          8.033214569091797,
          -3.415616750717163,
          -7.004098892211914,
          3.8810954093933105,
          12.461893081665039,
          12.282405853271484,
          9.773738861083984,
          12.278096199035645,
          11.284018516540527,
          -5.34564208984375,
          -7.141615390777588,
          -13.101982116699219,
          -1.5433413982391357,
          -0.29976797103881836,
          -2.2562782764434814,
          -8.3050537109375,
          1.3398581743240356,
          -4.571714878082275,
          -1.3035461902618408,
          -11.286279678344727,
          -3.479984998703003,
          -11.052129745483398,
          -5.812449932098389,
          -4.243521213531494,
          -4.3994340896606445,
          7.530503273010254,
          6.1513261795043945,
          15.944055557250977,
          -7.550650119781494,
          1.3973288536071777,
          -3.8660717010498047,
          6.2892985343933105,
          -5.911143779754639,
          18.139163970947266,
          -14.720735549926758,
          -0.04078713804483414,
          -4.680018901824951,
          -2.792227029800415,
          -6.830121040344238,
          -9.074689865112305,
          -4.4818196296691895,
          -1.6805310249328613,
          2.342644214630127,
          5.460819244384766,
          8.167452812194824,
          -0.9256779551506042,
          9.280792236328125,
          12.209701538085938,
          16.786500930786133,
          -3.7210946083068848,
          -8.080326080322266,
          5.705124855041504,
          -0.2697353959083557,
          -12.977128028869629,
          -8.565136909484863,
          -8.777189254760742,
          -1.8823626041412354,
          7.745415210723877,
          -0.7766985893249512,
          -6.338731288909912,
          -2.8938353061676025,
          -8.588312149047852,
          -0.38924315571784973,
          0.2341604083776474,
          -3.034062623977661,
          4.15977668762207,
          0.02691567875444889,
          2.7193775177001953,
          0.15022529661655426,
          4.895107269287109,
          12.93814468383789,
          8.017651557922363,
          -7.2306976318359375,
          -3.901771306991577,
          19.708927154541016,
          17.50963592529297,
          0.9859768748283386,
          12.619643211364746,
          -9.053332328796387,
          -8.866737365722656,
          4.344356536865234,
          -3.5177764892578125,
          -4.572111129760742,
          3.8248770236968994,
          -0.7971991300582886,
          -6.245867729187012,
          -5.345959186553955,
          -9.505960464477539,
          -7.312682628631592,
          -4.219261646270752,
          -2.7855098247528076,
          -4.57834005355835,
          4.529230117797852,
          -11.478283882141113,
          -1.6919224262237549,
          -5.001898288726807,
          -1.2719016075134277,
          -0.861149251461029,
          -7.665982723236084,
          0.747880220413208,
          7.196177005767822,
          10.100780487060547,
          -10.443419456481934,
          0.2849358916282654,
          -9.86732006072998,
          4.680407524108887,
          -8.203084945678711,
          12.3812894821167,
          -3.841094493865967,
          1.6447471380233765,
          1.453659176826477,
          -11.093141555786133,
          -6.071323871612549,
          5.646581172943115,
          1.37079656124115,
          4.596741676330566,
          -3.0617709159851074,
          -2.2053587436676025,
          -2.9014196395874023,
          -6.338868141174316,
          -6.187884330749512,
          13.713150978088379,
          13.125150680541992,
          0.5011463165283203,
          -3.4409098625183105,
          6.022512435913086,
          -7.168056488037109,
          9.733793258666992,
          -10.269915580749512,
          8.376418113708496,
          -0.48384082317352295,
          -11.349145889282227,
          -8.731548309326172,
          1.1464662551879883,
          -5.913499355316162,
          0.7601197957992554,
          -2.5394532680511475,
          2.6286864280700684,
          -9.28966999053955,
          -8.397128105163574,
          1.8152176141738892,
          -10.437593460083008,
          1.6702712774276733,
          7.016254901885986,
          -10.88415241241455,
          -9.267308235168457,
          -11.494420051574707,
          -7.214208126068115,
          -11.114706993103027,
          0.33252307772636414,
          3.7290842533111572,
          14.687679290771484,
          -9.281965255737305,
          -13.736066818237305,
          13.292899131774902,
          1.3053767681121826,
          -8.447504997253418,
          8.520297050476074,
          -1.1958332061767578,
          -9.38899040222168,
          -5.408858776092529,
          0.25961580872535706,
          0.21849100291728973,
          2.8444101810455322,
          -6.096243381500244,
          10.516708374023438,
          -4.489673137664795,
          -11.982722282409668,
          -8.692262649536133,
          -14.630060195922852,
          1.8190289735794067,
          -6.980274200439453,
          -6.4286956787109375,
          2.4535398483276367,
          -13.212432861328125,
          1.6045775413513184,
          -1.9148552417755127,
          -2.0181431770324707,
          2.4996488094329834,
          5.8632283210754395,
          1.8513898849487305,
          0.6064869165420532,
          -0.2785252034664154,
          4.312652111053467,
          0.2292688637971878,
          1.7539104223251343,
          -3.7160322666168213,
          0.9759107232093811,
          -10.343217849731445,
          -2.256852865219116,
          -9.813728332519531,
          1.8336243629455566,
          -3.856968879699707,
          -9.64064884185791,
          -6.20011568069458,
          11.237444877624512,
          12.105572700500488,
          1.9504530429840088,
          -2.099137306213379,
          -0.024633076041936874,
          -7.048720359802246,
          -8.913862228393555,
          11.72268295288086,
          -7.787850379943848,
          -9.637253761291504,
          -5.493146896362305,
          -5.1041579246521,
          8.568032264709473,
          -1.8444215059280396,
          11.060318946838379,
          -7.370067596435547,
          9.582191467285156,
          -0.7483799457550049,
          3.354985475540161,
          -3.253676176071167,
          -3.831429958343506,
          5.354378700256348,
          -10.749788284301758,
          -3.078186511993408,
          5.859230041503906,
          -3.3214356899261475,
          -15.167780876159668,
          1.2443379163742065,
          -0.08173715323209763,
          -2.0518369674682617,
          4.036045551300049,
          -5.662055015563965,
          -8.861268997192383,
          -9.51134204864502,
          -7.625119209289551,
          -7.378737926483154,
          2.0441997051239014,
          -5.10797119140625,
          10.076876640319824,
          -3.2355153560638428,
          -11.29921817779541,
          -0.32869163155555725,
          -7.916870594024658,
          -3.7101900577545166,
          -10.681129455566406,
          6.487468719482422,
          0.5853207111358643,
          -6.643294334411621,
          -10.069803237915039,
          -4.376924514770508,
          2.808962345123291,
          -6.796818733215332,
          2.3224411010742188,
          -12.179632186889648,
          -5.288661479949951,
          -6.928737640380859,
          12.007572174072266,
          -3.6697092056274414,
          -9.460599899291992,
          -10.45866584777832,
          4.294360160827637,
          5.5756144523620605,
          -1.0734081268310547,
          -1.618362307548523,
          -4.690732002258301,
          -6.385981559753418,
          1.767270565032959,
          -5.491340160369873,
          6.686612129211426,
          1.1934458017349243,
          -4.574573993682861,
          -6.564778804779053,
          -4.24161434173584,
          1.5150330066680908,
          -7.800410747528076,
          -4.632380485534668,
          2.1665356159210205,
          -6.13979959487915,
          -2.6749541759490967,
          -2.793206214904785,
          -6.411879539489746,
          -9.089704513549805,
          -7.389432907104492,
          7.5207624435424805,
          -4.949619770050049,
          -4.840835094451904,
          2.270711660385132,
          -0.14524689316749573,
          -9.502367973327637,
          1.026137113571167,
          -2.3036890029907227,
          0.905487596988678,
          4.507664203643799,
          10.1961669921875,
          4.565446853637695,
          0.43861180543899536,
          -12.73071575164795,
          -6.374381065368652,
          1.5879861116409302,
          -9.376328468322754,
          -4.82673978805542,
          0.959811806678772,
          -2.394174337387085,
          -3.3144850730895996,
          -8.088519096374512,
          9.684654235839844,
          -6.2074151039123535,
          -1.473697543144226,
          -0.9079978466033936,
          1.2311577796936035,
          -8.149685859680176,
          -0.7833927273750305,
          7.8896050453186035,
          -1.42033052444458,
          6.308542728424072,
          11.596444129943848,
          -10.823348045349121,
          6.578461170196533,
          -11.746054649353027,
          7.095787525177002,
          -0.963447093963623,
          -6.018685340881348,
          -2.0740745067596436,
          2.6036791801452637,
          -14.243335723876953,
          -2.159862995147705,
          -3.827754020690918,
          -4.5322699546813965,
          -2.265721321105957,
          -9.811589241027832,
          -1.7391129732131958,
          -12.189291954040527,
          -8.615134239196777,
          -4.993386745452881,
          -6.458232879638672,
          -9.198151588439941,
          8.991565704345703,
          3.0544216632843018,
          2.36800217628479,
          -4.310955047607422,
          -0.2923743724822998,
          2.667306661605835,
          3.4100334644317627,
          -0.25610119104385376,
          -3.698796272277832,
          -10.250679016113281,
          0.5055360794067383,
          -3.6953368186950684,
          -11.160722732543945,
          -2.7194554805755615,
          -12.832008361816406,
          -9.505589485168457,
          -10.04677963256836,
          14.160545349121094,
          -9.979944229125977,
          -10.574026107788086,
          10.66198444366455,
          -11.744416236877441,
          -0.6914182305335999,
          1.074292778968811,
          -4.658156871795654,
          3.346104621887207,
          -3.6036911010742188,
          1.9931975603103638,
          13.5430908203125,
          -5.043397426605225,
          1.9403431415557861,
          -0.33216074109077454,
          -3.0103225708007812,
          -9.519454002380371,
          -0.991919755935669,
          -7.8402299880981445,
          -6.844694137573242,
          -6.845460414886475,
          -6.844659805297852,
          7.757091522216797,
          -5.895461082458496,
          1.04425048828125,
          -4.810238361358643,
          3.9625983238220215,
          8.96215534210205,
          4.860626220703125,
          -7.411269664764404,
          -1.3013882637023926,
          1.9954442977905273,
          -7.796028137207031,
          6.806155681610107,
          -8.076452255249023,
          -6.056607723236084,
          -9.39329719543457,
          -3.4024486541748047,
          8.314282417297363,
          -8.380367279052734,
          1.9002324342727661,
          -9.80361270904541,
          -3.662091016769409,
          -3.854987144470215,
          -0.44195273518562317,
          -1.2972854375839233,
          7.619728088378906,
          -9.738036155700684,
          -6.998519420623779,
          12.388431549072266,
          8.997654914855957,
          -8.095600128173828,
          -11.442397117614746,
          -12.792415618896484,
          -9.707085609436035,
          6.098759174346924,
          -1.2042365074157715,
          -8.936053276062012,
          3.8613638877868652,
          -1.5847326517105103,
          -12.625219345092773,
          -12.560567855834961,
          -12.0309419631958,
          -12.74893569946289,
          -14.006853103637695,
          -13.908802032470703,
          -11.363821983337402,
          -6.4115471839904785,
          -2.434957265853882,
          -4.918473720550537,
          4.249866962432861,
          0.43780356645584106,
          -6.716334342956543,
          -11.653648376464844,
          4.813713550567627,
          -13.503853797912598,
          -3.809704065322876,
          -10.150988578796387,
          1.9226261377334595,
          -11.673757553100586,
          1.7629997730255127,
          2.5134012699127197,
          -6.657430648803711,
          -6.591724395751953,
          -2.2912368774414062,
          -11.447380065917969,
          -10.709073066711426,
          2.895224094390869,
          5.855217933654785,
          3.1915087699890137,
          -3.8405537605285645,
          -2.8755226135253906,
          -10.06441593170166,
          -10.761980056762695,
          -0.696739912033081,
          -0.5507991909980774,
          -9.100299835205078,
          -0.36228057742118835,
          -5.015296936035156,
          -9.66885757446289,
          -3.5785956382751465,
          -2.3540501594543457,
          -0.6846592426300049,
          5.930840015411377,
          -4.198280334472656,
          -0.610643208026886,
          -4.22650146484375,
          2.3422458171844482,
          1.8550798892974854,
          -2.750398874282837,
          -2.6001598834991455,
          -4.973990440368652,
          7.852659225463867,
          -0.12035306543111801,
          2.156877279281616,
          -8.31927490234375,
          -2.5326426029205322,
          -12.861659049987793,
          5.108847141265869,
          -8.704707145690918,
          5.731586933135986,
          -3.75217342376709,
          -4.951425552368164,
          -7.949400901794434,
          -15.062837600708008,
          -6.92299747467041,
          -9.586719512939453,
          -8.141695976257324,
          4.299882888793945,
          6.020420551300049,
          0.6667855978012085,
          2.619098663330078,
          1.8081419467926025,
          -11.904196739196777,
          -8.184125900268555,
          -2.1478421688079834,
          -9.32132339477539,
          0.29464223980903625,
          0.661898672580719,
          -8.04902172088623,
          0.24923847615718842,
          -3.435473680496216,
          3.315932273864746,
          -5.50794792175293,
          -7.666549205780029,
          1.5249136686325073,
          -6.886868476867676,
          -10.56559944152832,
          7.566336631774902,
          8.046676635742188,
          13.286439895629883,
          4.148446559906006,
          4.050950050354004,
          0.5753363370895386,
          9.199427604675293,
          9.245468139648438,
          -1.3433852195739746,
          -2.8127410411834717,
          -2.96584153175354,
          -8.632052421569824,
          5.406827449798584,
          -5.542048454284668,
          -12.029407501220703,
          -5.51663064956665,
          -10.514955520629883,
          -8.907732963562012,
          -7.314769744873047,
          1.6925524473190308,
          3.684797763824463,
          7.2474541664123535,
          -11.164067268371582,
          8.607945442199707,
          -12.64056396484375,
          -9.448976516723633,
          -5.589868068695068,
          -5.384522914886475,
          -7.065203666687012,
          -3.135972499847412,
          -7.355062007904053,
          5.790492534637451,
          11.767709732055664,
          -1.171929955482483,
          10.437643051147461,
          -3.432192325592041,
          -5.80773401260376,
          -4.715598106384277,
          -0.43202874064445496,
          -3.635563373565674,
          -3.8917713165283203,
          -8.04616641998291,
          2.313232660293579,
          -4.606457710266113,
          -1.3104724884033203,
          4.630762577056885,
          -1.2558362483978271,
          -0.44683557748794556,
          7.849185466766357,
          -4.8817620277404785,
          -6.2516350746154785,
          -8.417547225952148,
          -11.485942840576172,
          -8.006726264953613,
          -0.2721172869205475,
          -4.80567741394043,
          -1.2309538125991821,
          7.96042013168335,
          1.9261844158172607,
          -11.399134635925293,
          1.349331021308899,
          -1.359670639038086,
          2.337437629699707,
          -13.373186111450195,
          -9.663273811340332,
          -10.109455108642578,
          -3.5773067474365234,
          -2.440922498703003,
          -3.251427173614502,
          -6.56091833114624,
          3.3134865760803223,
          2.5094170570373535,
          12.834983825683594,
          -10.918487548828125,
          -9.183512687683105,
          4.110722064971924,
          8.80161190032959,
          12.72245979309082,
          -2.7663414478302,
          3.9163222312927246,
          0.24566976726055145,
          -6.79871940612793,
          -5.632096767425537,
          -8.560334205627441,
          -0.4001457691192627,
          -7.188499450683594,
          -3.971085548400879,
          -2.449542760848999,
          -2.833892345428467,
          3.2967135906219482,
          -0.15127898752689362,
          6.887279033660889,
          -11.573572158813477,
          -8.781661987304688,
          -0.014374757185578346,
          -10.793825149536133,
          -3.2488808631896973,
          -8.267433166503906,
          -6.881670951843262,
          -7.508473873138428,
          0.7576850652694702,
          5.308229923248291,
          -0.15214957296848297,
          0.5631114840507507,
          2.663198709487915,
          0.7118270397186279,
          -9.398446083068848,
          -2.589831590652466,
          0.34043818712234497,
          -7.733417510986328,
          -3.6558165550231934,
          1.9515531063079834,
          -3.6752219200134277,
          -6.231494903564453,
          -7.70699405670166,
          -0.8183534145355225,
          -0.07903414964675903,
          -1.0855673551559448,
          0.4890007972717285,
          -6.820830821990967,
          -2.738184928894043,
          -1.1883678436279297,
          -8.921719551086426,
          0.3656212091445923,
          -3.337094783782959,
          -0.1685577630996704,
          3.386484384536743,
          -6.921382904052734,
          5.48513650894165,
          -5.867602825164795,
          -6.069000244140625,
          -3.849496841430664,
          5.121643543243408,
          -7.039219856262207,
          0.8138552308082581,
          -6.409761905670166,
          -5.779957294464111,
          -13.531306266784668,
          -2.738368511199951,
          -1.2286021709442139,
          -7.23935604095459,
          -1.1747822761535645,
          3.9963948726654053,
          4.438475608825684,
          2.652191400527954,
          2.839658737182617,
          -2.4430723190307617,
          0.10753053426742554,
          2.3062632083892822,
          -2.3386778831481934,
          -9.958083152770996,
          3.316829204559326,
          -6.208083152770996,
          0.776987612247467,
          0.06271980702877045,
          -5.824295997619629,
          -4.510630130767822,
          -7.166865348815918,
          -5.576833248138428,
          -11.380577087402344,
          -1.3739349842071533,
          1.02183997631073,
          -14.155900001525879,
          -3.3006203174591064,
          -10.544378280639648,
          -1.8666200637817383,
          -2.278939962387085,
          -9.013598442077637,
          -1.3926845788955688,
          -9.169650077819824,
          -13.56037425994873,
          4.1299638748168945,
          -7.284191608428955,
          -1.1580252647399902,
          -9.692688941955566,
          -6.704744815826416,
          0.4347066581249237,
          -8.319753646850586,
          -5.259934425354004,
          -14.538782119750977,
          -1.2497433423995972,
          -2.507491111755371,
          -15.058808326721191,
          -1.325989007949829,
          -2.9391660690307617,
          -3.2670114040374756,
          -5.701885223388672,
          -6.360313415527344,
          -5.655001163482666,
          -7.930598735809326,
          -8.766221046447754,
          -2.8597464561462402,
          -1.04214346408844,
          -2.5764524936676025,
          3.5187809467315674,
          -5.659397125244141,
          -5.243769645690918,
          -3.3717200756073,
          -9.526734352111816,
          5.432694435119629,
          5.191056728363037,
          -0.4906263053417206,
          -8.632966041564941,
          2.5221707820892334,
          7.014045715332031,
          11.748133659362793,
          -3.7559354305267334,
          15.70478343963623,
          0.33900541067123413,
          9.353379249572754,
          2.222327947616577,
          3.4215564727783203,
          3.493417739868164,
          3.096780776977539,
          7.438583850860596,
          -0.019030973315238953,
          -4.346023082733154,
          11.653572082519531,
          -13.1303129196167,
          -7.532947540283203,
          15.323236465454102,
          -8.829593658447266,
          5.387285232543945,
          12.682610511779785,
          -10.470913887023926,
          -8.316083908081055,
          -5.537949085235596,
          -7.049046039581299,
          14.24862289428711,
          -0.024328306317329407,
          16.58025550842285,
          -4.937349319458008,
          -0.6565009355545044,
          -1.9849799871444702,
          -0.236281618475914,
          7.94326114654541,
          18.714799880981445,
          1.6382904052734375,
          -9.811224937438965,
          -9.284745216369629,
          14.662026405334473,
          15.538668632507324,
          19.117464065551758,
          15.997963905334473,
          18.75471305847168,
          15.495137214660645,
          15.274794578552246,
          1.8891105651855469,
          -11.608210563659668,
          15.785860061645508,
          18.409542083740234,
          0.0013016972225159407,
          15.847301483154297,
          -10.67495346069336,
          -2.852048873901367,
          7.699118614196777,
          -0.8270692229270935,
          0.33160853385925293,
          -8.940802574157715,
          16.14203643798828,
          -0.4909828007221222,
          -3.1690502166748047,
          2.5855462551116943,
          -2.224551200866699,
          -0.37511417269706726,
          16.080402374267578,
          0.9649937152862549,
          0.03283170983195305,
          4.149789333343506,
          15.564144134521484,
          -5.230352401733398,
          -0.5372676253318787,
          -3.3696165084838867,
          -4.734638214111328,
          16.214698791503906,
          -10.794820785522461,
          -3.885312080383301,
          -1.935226559638977,
          -4.743114471435547,
          18.225093841552734,
          3.0590648651123047,
          4.705441474914551,
          1.984157681465149,
          -10.149567604064941,
          -10.149567604064941,
          -4.4457597732543945,
          -4.445777893066406,
          0.8871292471885681,
          0.8871151208877563,
          2.84356689453125,
          2.843583583831787,
          -6.971818447113037,
          -6.971879482269287,
          -5.62162446975708,
          -5.621442794799805,
          2.2075719833374023,
          2.207631826400757,
          -14.730768203735352,
          -14.730768203735352,
          16.737342834472656,
          16.737342834472656,
          18.373672485351562,
          18.373672485351562,
          -11.191728591918945,
          -11.191728591918945,
          -5.527640342712402,
          -8.937817573547363,
          -0.4166014790534973,
          -0.41660186648368835,
          -5.872069835662842,
          -5.872069835662842,
          -3.2919838428497314,
          -3.2918708324432373,
          7.597137928009033,
          7.597171306610107,
          -10.516398429870605,
          -10.516398429870605,
          -5.37296724319458,
          -5.783454418182373,
          -0.578026294708252,
          13.850763320922852,
          5.148921012878418,
          5.02527379989624,
          15.829366683959961,
          7.433244705200195,
          -5.466482162475586,
          2.621793270111084,
          19.075061798095703,
          -14.807348251342773,
          16.260353088378906,
          17.979639053344727,
          14.431041717529297,
          -6.307822227478027,
          19.521278381347656,
          4.490775108337402,
          -7.877540588378906,
          -6.106759071350098,
          14.926355361938477,
          15.395635604858398,
          -6.156337738037109,
          -5.305183410644531,
          -7.681882858276367,
          17.23578453063965,
          15.184794425964355,
          18.347755432128906,
          -3.055633306503296,
          4.382553577423096,
          -8.817212104797363,
          -9.019222259521484,
          -4.105494499206543,
          -5.272698879241943,
          2.2293362617492676,
          9.228788375854492,
          1.0462146997451782,
          0.013696512207388878,
          -1.0614190101623535,
          -5.015594959259033,
          2.535597562789917,
          0.5294020771980286,
          -4.536093235015869,
          10.868663787841797,
          -7.572677135467529,
          16.486778259277344,
          15.988268852233887,
          -10.06546401977539,
          15.942754745483398,
          18.14084243774414,
          -7.18456506729126,
          -1.3233360052108765,
          -9.715371131896973,
          3.4534521102905273,
          18.379152297973633,
          -1.418685793876648,
          -7.113223075866699,
          16.165508270263672,
          5.879958152770996,
          14.515748023986816,
          2.8781585693359375,
          -1.296643853187561,
          -2.928313970565796,
          -7.48025369644165,
          16.111591339111328,
          -0.5113736987113953,
          1.0717600584030151,
          2.8596527576446533,
          2.3702311515808105,
          -1.2077056169509888,
          -9.365612030029297,
          -8.086369514465332,
          -0.14585424959659576,
          15.360041618347168,
          -1.1404036283493042,
          18.0399169921875,
          -1.2097374200820923,
          -4.768935203552246,
          -8.129554748535156,
          1.3497519493103027,
          19.281387329101562,
          17.764463424682617,
          17.89818000793457,
          -3.7461330890655518,
          16.758264541625977,
          15.449048042297363,
          -6.1035871505737305,
          15.777864456176758,
          -5.575789451599121,
          1.630571722984314,
          -7.16332483291626,
          -3.4264042377471924,
          17.915971755981445,
          6.536580562591553,
          -5.765902996063232,
          -9.657454490661621,
          6.457724571228027,
          -9.702990531921387,
          7.8823957443237305,
          -0.21230699121952057,
          3.3640682697296143,
          -8.552881240844727,
          -9.817428588867188,
          -4.534597873687744,
          16.018207550048828,
          -4.630881309509277,
          -11.921116828918457,
          -8.227555274963379,
          -7.8890862464904785,
          2.205996036529541,
          4.520131587982178,
          14.643021583557129,
          -3.520490884780884,
          -1.377915859222412,
          5.02474308013916,
          0.2050224095582962,
          -4.740495681762695,
          -7.375699520111084,
          -9.783045768737793,
          2.968062162399292,
          -0.7013728618621826,
          4.872019290924072,
          17.110979080200195,
          1.425476312637329,
          -9.490609169006348,
          0.43891456723213196,
          1.2213125228881836,
          -14.705121040344238,
          1.5556457042694092,
          7.264890670776367,
          -3.5609734058380127,
          -8.750535011291504,
          6.162341594696045,
          5.330403804779053,
          -7.060495376586914,
          4.0965447425842285,
          18.0744571685791,
          2.9534947872161865,
          4.058579444885254,
          3.971217632293701,
          2.722480058670044,
          -13.016684532165527,
          -3.645416736602783,
          18.59092903137207,
          -0.5783827900886536,
          -8.17080020904541,
          -4.617550849914551,
          -9.40234661102295,
          -11.459026336669922,
          16.67892837524414,
          10.380753517150879,
          6.428322792053223,
          -6.648411273956299,
          18.922998428344727,
          15.032480239868164,
          18.935861587524414,
          7.613829612731934,
          -1.018096685409546,
          -5.5355916023254395,
          -3.924720287322998,
          1.6055761575698853,
          1.4301574230194092,
          3.3177404403686523,
          19.408443450927734,
          -2.7997066974639893,
          -5.605069160461426,
          -10.881316184997559,
          -1.9118483066558838,
          2.087592601776123,
          7.666830062866211,
          -8.270157814025879,
          4.949775695800781,
          -0.8889035582542419,
          3.874234437942505,
          6.662501811981201,
          -0.41388675570487976,
          -2.69606614112854,
          -6.073179721832275,
          1.4812300205230713,
          15.860248565673828,
          -1.7077139616012573,
          -0.6935604810714722,
          19.047657012939453,
          8.334068298339844,
          0.21694029867649078,
          1.8583858013153076,
          17.497982025146484,
          17.616928100585938,
          -4.584644794464111,
          -3.962435483932495,
          -5.270048141479492,
          16.196731567382812,
          3.4674861431121826,
          1.4460344314575195,
          -11.201568603515625,
          6.585108280181885,
          -3.2794392108917236,
          -10.796603202819824,
          -10.085789680480957,
          10.109246253967285,
          16.200414657592773,
          15.43191909790039,
          2.7008349895477295,
          3.119225263595581,
          -3.8436970710754395,
          16.134672164916992,
          18.573928833007812,
          -9.292147636413574,
          -15.028983116149902,
          -0.4971728026866913,
          6.986088752746582,
          -6.4637131690979,
          -0.14342783391475677,
          18.705413818359375,
          -9.04840087890625,
          4.673678874969482,
          16.202634811401367,
          16.667966842651367,
          8.993496894836426,
          -4.670788288116455,
          19.109189987182617,
          4.343046188354492,
          -11.548734664916992,
          19.61078453063965,
          1.781746506690979,
          -1.5802561044692993,
          -7.463475704193115,
          1.5541620254516602,
          17.596355438232422,
          -10.320435523986816,
          5.041640281677246,
          -4.204930305480957,
          -2.859816312789917,
          1.7068523168563843,
          16.957378387451172,
          -7.0381622314453125,
          8.807684898376465,
          19.1457576751709,
          0.4832577705383301,
          -2.989319324493408,
          16.59025001525879,
          15.798348426818848,
          -1.4660367965698242,
          18.290739059448242,
          -10.061773300170898,
          17.47050666809082,
          8.682539939880371,
          -3.8667571544647217,
          -5.51423978805542,
          -4.760108947753906,
          15.943289756774902,
          16.20459747314453,
          0.3667156994342804,
          14.424476623535156,
          -3.2551827430725098,
          -6.542318344116211,
          12.069539070129395,
          6.031705379486084,
          -0.37836119532585144,
          -5.918357849121094,
          0.10728733986616135,
          -10.52971363067627,
          -8.578633308410645,
          -7.9169602394104,
          -0.9522241353988647,
          -0.528861403465271,
          -0.9467209577560425,
          -8.52212905883789,
          -11.895419120788574,
          2.742454767227173,
          3.661141872406006,
          -12.476800918579102,
          -8.04714298248291,
          5.892280578613281,
          -2.7278683185577393,
          -0.8112217783927917,
          -6.782590389251709,
          7.227538585662842,
          -9.422996520996094,
          -8.974550247192383,
          -12.293132781982422,
          3.324763536453247,
          -6.612194061279297,
          -4.539958953857422,
          -4.708185195922852,
          7.769025802612305,
          14.079072952270508,
          2.104919910430908,
          6.789029121398926,
          0.8697555065155029,
          -0.4490351974964142,
          1.0157510042190552,
          5.427509784698486,
          -4.665733814239502,
          -8.177421569824219,
          0.009054547175765038,
          -0.009751771576702595,
          2.6392924785614014,
          -10.33730411529541,
          -3.0432424545288086,
          0.6060928106307983,
          13.283221244812012,
          1.9333903789520264,
          3.0680136680603027,
          0.818445086479187,
          -8.87276840209961,
          -8.859575271606445,
          7.3225860595703125,
          -9.542652130126953,
          1.1488178968429565,
          -11.680179595947266,
          -11.38714599609375,
          5.27211856842041,
          -7.412726879119873,
          -0.7037578225135803,
          -3.530085802078247,
          1.863832712173462,
          1.2845185995101929,
          -6.152078628540039,
          3.2352335453033447,
          -8.096028327941895,
          -13.337942123413086,
          2.1592397689819336,
          4.005973815917969,
          -11.327353477478027,
          -6.5103936195373535,
          -1.5438876152038574,
          -0.636968195438385,
          2.273803234100342,
          -8.683866500854492,
          -5.196977138519287,
          6.34581184387207,
          7.779729843139648,
          -6.149302005767822,
          -3.435537338256836,
          1.0629805326461792,
          4.585205078125,
          -6.333718299865723,
          3.9096899032592773,
          -14.655917167663574,
          -12.720805168151855,
          -12.296762466430664,
          6.092053413391113,
          1.9230365753173828,
          -0.2553143799304962,
          6.433517932891846,
          -5.103368759155273,
          3.874915838241577,
          -6.004544734954834,
          14.59102725982666,
          -4.984190464019775,
          -8.630597114562988,
          -8.839959144592285,
          -7.46147346496582,
          9.585331916809082,
          -10.603608131408691,
          8.266450881958008,
          -3.973130464553833,
          -2.7353131771087646,
          7.354868412017822,
          4.6925740242004395,
          -0.03951646760106087,
          1.4089899063110352,
          -8.888479232788086,
          4.5748677253723145,
          -7.170717716217041,
          -5.095437526702881,
          -6.8027567863464355,
          2.9296658039093018,
          -7.62535285949707,
          -1.882239580154419,
          2.1417055130004883,
          -11.918661117553711,
          -12.760190963745117,
          -9.502652168273926,
          0.31559932231903076,
          1.8111457824707031,
          -7.520588397979736,
          -13.339112281799316,
          -13.562520027160645,
          2.3805954456329346,
          -4.981138706207275,
          -0.7514631152153015,
          -0.26838603615760803,
          -3.8347535133361816,
          -2.250555992126465,
          -9.38105297088623,
          -4.365509510040283,
          -1.3581593036651611,
          -1.013438105583191,
          -5.263254165649414,
          -8.318413734436035,
          -2.7974295616149902
         ],
         "y": [
          -5.816103458404541,
          9.624624252319336,
          -3.5064964294433594,
          -0.21646058559417725,
          -1.0445226430892944,
          -0.1257951408624649,
          8.720739364624023,
          1.4116154909133911,
          0.9763880372047424,
          6.932754993438721,
          1.4944708347320557,
          -8.59603214263916,
          8.011947631835938,
          0.23146048188209534,
          0.5927176475524902,
          5.721660614013672,
          8.369283676147461,
          -9.433195114135742,
          11.487318992614746,
          3.123849868774414,
          10.095479011535645,
          7.538939476013184,
          -5.997846603393555,
          -7.472724914550781,
          6.822148323059082,
          -6.147822380065918,
          -6.2203569412231445,
          11.931700706481934,
          10.1986722946167,
          -1.6623330116271973,
          5.5036492347717285,
          4.2209272384643555,
          -2.111510992050171,
          3.5761022567749023,
          -5.838776588439941,
          10.165358543395996,
          1.2469955682754517,
          3.559595823287964,
          5.1534104347229,
          -3.1292850971221924,
          3.806626081466675,
          10.284488677978516,
          3.8225417137145996,
          -6.225544452667236,
          -6.271173477172852,
          5.07384729385376,
          -1.349900484085083,
          5.671026706695557,
          4.921710968017578,
          5.0689167976379395,
          7.488439083099365,
          10.776745796203613,
          -3.9887728691101074,
          5.365120887756348,
          8.443312644958496,
          6.466864109039307,
          -6.415669918060303,
          -9.213343620300293,
          -5.399282932281494,
          2.6577186584472656,
          0.5818153619766235,
          -9.61349868774414,
          -2.0882556438446045,
          -2.55314040184021,
          -4.352963447570801,
          -2.51548433303833,
          -4.870016574859619,
          -10.998727798461914,
          4.667137145996094,
          6.606240749359131,
          7.552856922149658,
          -11.072103500366211,
          4.316232681274414,
          -1.2459808588027954,
          -2.1690514087677,
          -11.743322372436523,
          2.6469128131866455,
          10.499218940734863,
          -4.082272529602051,
          -7.724704742431641,
          3.024906873703003,
          -2.125145673751831,
          11.33884048461914,
          -9.591898918151855,
          4.878403663635254,
          -5.2223219871521,
          7.415889263153076,
          12.505017280578613,
          0.41826242208480835,
          6.815121173858643,
          -0.7682657241821289,
          -1.299560546875,
          -0.8607515692710876,
          0.33156365156173706,
          -1.2022775411605835,
          3.3692448139190674,
          -3.424009084701538,
          -5.5206098556518555,
          -2.768137216567993,
          -5.037326335906982,
          2.870846748352051,
          -6.317409038543701,
          -4.453984260559082,
          -3.1008105278015137,
          1.4613362550735474,
          -2.317291021347046,
          5.7101826667785645,
          -4.4025044441223145,
          -6.817860126495361,
          -1.4746190309524536,
          1.9169867038726807,
          2.371466636657715,
          0.2763462960720062,
          5.647847652435303,
          4.799701690673828,
          -3.3063647747039795,
          -1.1346826553344727,
          -7.288390159606934,
          2.396663188934326,
          2.540583848953247,
          2.7025232315063477,
          2.182969808578491,
          1.477150559425354,
          2.1332952976226807,
          10.14586067199707,
          6.246275424957275,
          6.416557312011719,
          4.950804233551025,
          3.4081835746765137,
          -0.07269386202096939,
          -11.35405158996582,
          9.501691818237305,
          6.73269510269165,
          5.538618087768555,
          2.3180387020111084,
          -1.2622218132019043,
          13.584674835205078,
          -11.040497779846191,
          -10.926445007324219,
          -3.6316051483154297,
          -8.546259880065918,
          12.3862943649292,
          6.231626987457275,
          3.181272029876709,
          -13.455255508422852,
          5.791664123535156,
          -3.5589404106140137,
          11.698308944702148,
          -2.178152561187744,
          0.4829433560371399,
          14.067005157470703,
          -2.3878872394561768,
          -0.8650290369987488,
          0.8031831979751587,
          -9.285833358764648,
          4.793081760406494,
          -10.31017017364502,
          -5.757148742675781,
          -5.917426109313965,
          9.534238815307617,
          3.9935381412506104,
          2.184614896774292,
          12.622323036193848,
          -14.339132308959961,
          -4.664372444152832,
          -3.2028119564056396,
          -2.893280029296875,
          6.514008045196533,
          8.586030006408691,
          6.596301078796387,
          7.8648176193237305,
          3.4688870906829834,
          5.218170166015625,
          -4.732947826385498,
          2.449591875076294,
          -5.363612651824951,
          3.6331348419189453,
          -8.873403549194336,
          -5.877166748046875,
          4.917206764221191,
          1.660171389579773,
          5.880263328552246,
          -0.11250659078359604,
          -1.5135953426361084,
          2.8067564964294434,
          4.275766849517822,
          6.392258167266846,
          12.818800926208496,
          12.528692245483398,
          12.8959379196167,
          0.690362811088562,
          2.533460855484009,
          0.8252959847450256,
          6.434080123901367,
          -3.2950499057769775,
          11.773231506347656,
          1.9520753622055054,
          -5.71720027923584,
          -8.740556716918945,
          -9.201972007751465,
          3.10699725151062,
          0.4314476549625397,
          11.396873474121094,
          -8.93818187713623,
          3.41171932220459,
          -11.911190032958984,
          -4.084741592407227,
          -3.818066120147705,
          6.109550952911377,
          -0.9501836895942688,
          10.025507926940918,
          11.494746208190918,
          0.8639158010482788,
          -6.884470462799072,
          4.09330940246582,
          1.757275104522705,
          2.6836273670196533,
          -11.192564010620117,
          -2.195209503173828,
          0.7871153950691223,
          6.0013580322265625,
          0.04658497869968414,
          -13.355989456176758,
          -7.958446502685547,
          -7.070992946624756,
          -4.633842945098877,
          7.510067462921143,
          -6.886137962341309,
          1.1853599548339844,
          -3.1350059509277344,
          0.9788997173309326,
          -0.4205266237258911,
          4.698540210723877,
          7.9973464012146,
          2.079188108444214,
          0.8367798924446106,
          2.326167583465576,
          -4.788574695587158,
          6.3784050941467285,
          2.8540334701538086,
          -1.0915826559066772,
          0.1784619241952896,
          -3.569424867630005,
          0.028906656429171562,
          -2.859386444091797,
          11.33370590209961,
          -6.136153221130371,
          4.410909175872803,
          3.385690689086914,
          -0.2692428231239319,
          7.901729106903076,
          -8.411526679992676,
          3.9778199195861816,
          10.356511116027832,
          10.932022094726562,
          7.934739112854004,
          7.197819232940674,
          6.13156795501709,
          -4.074756145477295,
          12.766329765319824,
          3.981030225753784,
          3.974825859069824,
          -4.492987632751465,
          -0.15483540296554565,
          5.33381986618042,
          1.021816611289978,
          3.067518711090088,
          -5.177704334259033,
          2.1295018196105957,
          -2.5863959789276123,
          -2.340383529663086,
          4.280288219451904,
          10.490199089050293,
          10.985885620117188,
          3.8213231563568115,
          -0.3762061893939972,
          -0.6135485172271729,
          -2.5839345455169678,
          0.7993890643119812,
          -0.7203514575958252,
          8.006149291992188,
          -5.537632942199707,
          9.169398307800293,
          -5.084636211395264,
          -4.809232234954834,
          -3.272101402282715,
          0.423513799905777,
          8.581066131591797,
          -2.8585734367370605,
          -11.382862091064453,
          -11.161812782287598,
          -3.3342223167419434,
          -11.94593334197998,
          2.693521499633789,
          7.016965866088867,
          0.017984438687562943,
          -10.046649932861328,
          -1.9335612058639526,
          -3.4670236110687256,
          4.482034683227539,
          -10.06843090057373,
          -0.35729116201400757,
          7.0204291343688965,
          2.4713950157165527,
          5.66846227645874,
          -4.74972677230835,
          -1.5110034942626953,
          8.04426383972168,
          4.460795879364014,
          0.09485508501529694,
          1.7537164688110352,
          -3.7536308765411377,
          -12.638837814331055,
          -5.134784698486328,
          4.283591270446777,
          -2.311805486679077,
          0.42476630210876465,
          5.960934162139893,
          -0.7206186056137085,
          -10.413963317871094,
          -10.996585845947266,
          -0.9943392872810364,
          -11.623265266418457,
          -1.1967693567276,
          2.9870262145996094,
          -4.391242980957031,
          5.100582599639893,
          2.955082416534424,
          9.112241744995117,
          3.2897961139678955,
          -10.386907577514648,
          5.699560165405273,
          -12.420931816101074,
          -9.126937866210938,
          -3.726861000061035,
          -0.6181237697601318,
          -10.281850814819336,
          -11.368324279785156,
          -9.276602745056152,
          2.3225603103637695,
          8.260112762451172,
          7.885370254516602,
          5.988806247711182,
          8.908892631530762,
          8.659554481506348,
          9.493735313415527,
          12.76904010772705,
          0.372417688369751,
          -6.286590099334717,
          -5.699997901916504,
          -0.4551246464252472,
          1.8151681423187256,
          -9.780974388122559,
          5.807463645935059,
          -7.656006336212158,
          -8.462275505065918,
          -4.143896102905273,
          -5.620649814605713,
          -8.30190372467041,
          -6.496349334716797,
          3.4211483001708984,
          -7.882635116577148,
          -6.2153167724609375,
          10.4020357131958,
          -1.557944893836975,
          2.5650217533111572,
          -9.273428916931152,
          -1.8005437850952148,
          -0.2942091226577759,
          -6.834936618804932,
          2.136711597442627,
          -2.359337091445923,
          -3.373767137527466,
          7.886305332183838,
          2.9964423179626465,
          7.509209156036377,
          7.674904823303223,
          5.680455684661865,
          4.202579975128174,
          12.517719268798828,
          -3.0946991443634033,
          -8.273451805114746,
          -11.124833106994629,
          2.4475250244140625,
          5.903481960296631,
          7.511360168457031,
          -2.09108304977417,
          7.855491638183594,
          6.6808929443359375,
          1.6465853452682495,
          2.8802714347839355,
          3.8489036560058594,
          1.0659455060958862,
          4.570418357849121,
          0.22008922696113586,
          -10.75736141204834,
          -2.90679669380188,
          0.3750399053096771,
          11.282255172729492,
          6.695921421051025,
          -11.169538497924805,
          -4.377453327178955,
          1.0331923961639404,
          -7.241641521453857,
          -1.2494220733642578,
          -4.3941450119018555,
          2.618457317352295,
          2.4726486206054688,
          1.2375378608703613,
          -9.502103805541992,
          -9.397042274475098,
          -9.450156211853027,
          9.259980201721191,
          5.779417514801025,
          -6.954428672790527,
          -4.467545509338379,
          7.9365105628967285,
          7.524641036987305,
          -7.356524467468262,
          0.4922913610935211,
          8.27517032623291,
          -2.8580682277679443,
          6.725131988525391,
          -4.546542644500732,
          0.5558669567108154,
          -1.8467313051223755,
          -2.926038980484009,
          9.314906120300293,
          -7.568713665008545,
          8.415247917175293,
          -11.750076293945312,
          9.83910846710205,
          9.45484733581543,
          -2.724579095840454,
          4.773931503295898,
          10.073799133300781,
          -8.8197021484375,
          -6.0727362632751465,
          8.076408386230469,
          8.488521575927734,
          2.456343173980713,
          8.102278709411621,
          13.499801635742188,
          11.710342407226562,
          2.970046281814575,
          -0.22281427681446075,
          -7.292527198791504,
          -10.167548179626465,
          -10.815804481506348,
          -11.496006965637207,
          -8.03605842590332,
          5.126697063446045,
          -7.71740198135376,
          7.529458999633789,
          10.604756355285645,
          -9.213672637939453,
          -6.244080066680908,
          7.592690944671631,
          7.502621650695801,
          -2.511458396911621,
          8.268281936645508,
          8.451845169067383,
          2.0550644397735596,
          9.125221252441406,
          3.082033395767212,
          0.4111950099468231,
          9.268295288085938,
          8.732882499694824,
          -10.770931243896484,
          -5.664244651794434,
          4.202208518981934,
          3.7076940536499023,
          -1.6325658559799194,
          0.2523523271083832,
          9.019774436950684,
          8.581277847290039,
          7.492767333984375,
          12.683321952819824,
          -0.3334277868270874,
          4.913966178894043,
          10.698756217956543,
          6.120255470275879,
          6.120274543762207,
          6.12031888961792,
          2.035125255584717,
          -8.883439064025879,
          -7.802736759185791,
          -3.8591573238372803,
          -8.563861846923828,
          -0.1263396143913269,
          2.738269567489624,
          5.76436185836792,
          -3.9257280826568604,
          0.699779748916626,
          8.823553085327148,
          5.452243804931641,
          2.643805503845215,
          5.62567663192749,
          10.362626075744629,
          -14.98291301727295,
          -2.1371989250183105,
          11.014893531799316,
          5.366335391998291,
          2.783116340637207,
          -11.509608268737793,
          -10.181934356689453,
          6.86244010925293,
          -2.4697258472442627,
          0.26664313673973083,
          5.83161735534668,
          2.507387161254883,
          2.2367680072784424,
          3.502087354660034,
          -2.3152053356170654,
          -1.001362919807434,
          -1.594093680381775,
          1.1201105117797852,
          -8.66317367553711,
          9.635893821716309,
          -2.9568779468536377,
          2.8871757984161377,
          -0.877455472946167,
          -0.2150997370481491,
          -6.802802562713623,
          4.183846950531006,
          5.928781986236572,
          -2.8272838592529297,
          -2.509425401687622,
          -1.875322937965393,
          7.767485618591309,
          -6.859028339385986,
          3.4381930828094482,
          5.063194274902344,
          -8.596524238586426,
          -10.443266868591309,
          3.21026611328125,
          -7.479091644287109,
          -6.2070631980896,
          -2.8872315883636475,
          -0.10831749439239502,
          -7.126806735992432,
          4.588464260101318,
          7.427885055541992,
          -10.880743026733398,
          0.9475124478340149,
          5.872077465057373,
          -2.629878520965576,
          2.372466802597046,
          1.6584275960922241,
          -4.5364484786987305,
          -8.955697059631348,
          -9.593663215637207,
          11.86791706085205,
          -1.374281406402588,
          7.086452960968018,
          -0.3444976508617401,
          2.0921034812927246,
          4.161887168884277,
          10.095231056213379,
          7.560436248779297,
          13.571557998657227,
          1.28910231590271,
          2.4513473510742188,
          8.552458763122559,
          8.193357467651367,
          5.527130126953125,
          -12.258390426635742,
          -9.962891578674316,
          3.4964282512664795,
          2.025635004043579,
          8.842703819274902,
          10.032792091369629,
          -2.4824745655059814,
          6.434650897979736,
          1.1225533485412598,
          -3.8690567016601562,
          -6.289304256439209,
          10.313767433166504,
          5.953344345092773,
          1.0867830514907837,
          1.0350565910339355,
          -6.58406925201416,
          -7.079563617706299,
          -3.974289655685425,
          -4.248716354370117,
          11.542957305908203,
          -0.48214855790138245,
          -3.289599657058716,
          2.080174446105957,
          8.760235786437988,
          0.1924668252468109,
          4.298526287078857,
          -8.036239624023438,
          4.018307209014893,
          -6.622984886169434,
          -1.7956762313842773,
          -10.300477981567383,
          -3.151566982269287,
          5.347739219665527,
          7.337916851043701,
          4.695127487182617,
          -0.23755474388599396,
          9.847132682800293,
          -11.539204597473145,
          -9.452423095703125,
          2.4415206909179688,
          0.5859687328338623,
          11.514063835144043,
          11.142056465148926,
          -5.934413909912109,
          0.6328139901161194,
          2.813131809234619,
          -0.8076140880584717,
          -3.289363384246826,
          -3.466918468475342,
          5.300638198852539,
          2.7295939922332764,
          1.578728437423706,
          2.7430636882781982,
          -6.858582973480225,
          7.6655426025390625,
          -5.651801586151123,
          2.018383264541626,
          -4.09321928024292,
          -6.14463996887207,
          9.867162704467773,
          -4.38980770111084,
          6.249749660491943,
          -1.1722015142440796,
          -7.6640167236328125,
          5.254879951477051,
          -7.558413982391357,
          6.891147613525391,
          0.8022596836090088,
          5.076764106750488,
          5.329806327819824,
          -9.337973594665527,
          8.585596084594727,
          8.545038223266602,
          -1.7313092947006226,
          -0.010701307095587254,
          -4.168034553527832,
          -1.0059795379638672,
          -10.277859687805176,
          -1.894246220588684,
          -6.872809886932373,
          10.047679901123047,
          11.102877616882324,
          5.804873466491699,
          3.8183465003967285,
          3.5830068588256836,
          6.5643181800842285,
          -6.454790115356445,
          10.663585662841797,
          9.935371398925781,
          5.033339977264404,
          7.634000778198242,
          2.855757236480713,
          0.7949756383895874,
          -4.302396297454834,
          10.18140697479248,
          6.2222089767456055,
          -5.903278350830078,
          10.789997100830078,
          2.5743093490600586,
          -4.151381015777588,
          -9.578298568725586,
          -6.129520416259766,
          4.994948863983154,
          -3.874048948287964,
          7.397282123565674,
          7.754891872406006,
          3.1928353309631348,
          -5.821743965148926,
          8.829113006591797,
          -5.5575385093688965,
          -12.170002937316895,
          5.053131580352783,
          3.8737857341766357,
          9.249479293823242,
          -9.487872123718262,
          -0.7996273040771484,
          0.6379693150520325,
          5.00684928894043,
          -5.529385566711426,
          -6.357436656951904,
          2.5472161769866943,
          -4.1458587646484375,
          8.911418914794922,
          1.730265498161316,
          -5.975927352905273,
          10.796313285827637,
          -12.002223014831543,
          -2.8935749530792236,
          10.872797012329102,
          4.1460371017456055,
          7.3822021484375,
          -14.84416675567627,
          -2.240946054458618,
          -3.1911633014678955,
          5.994170665740967,
          1.3530913591384888,
          5.237242221832275,
          4.7946648597717285,
          -1.8092429637908936,
          -4.3284101486206055,
          -13.209894180297852,
          12.878485679626465,
          8.07815933227539,
          -0.36134272813796997,
          -4.277892112731934,
          1.0962738990783691,
          5.209468841552734,
          4.2015910148620605,
          -8.533437728881836,
          0.3181617259979248,
          -1.3915045261383057,
          -3.048614978790283,
          -11.313491821289062,
          12.504561424255371,
          -1.2209919691085815,
          -2.393357038497925,
          -4.4310760498046875,
          7.712989330291748,
          11.86783504486084,
          11.083395004272461,
          4.89532995223999,
          -2.431785821914673,
          5.85880708694458,
          2.984647750854492,
          6.848511695861816,
          9.420040130615234,
          3.869826555252075,
          4.651608467102051,
          -13.353519439697266,
          -2.1457107067108154,
          3.1451992988586426,
          5.473886966705322,
          -7.492292404174805,
          5.279633522033691,
          -7.621885299682617,
          -10.631840705871582,
          7.002777576446533,
          -6.621775150299072,
          9.747966766357422,
          0.3429239094257355,
          -10.312728881835938,
          -4.611141204833984,
          6.848541736602783,
          -11.558996200561523,
          3.238443613052368,
          -10.12003231048584,
          1.2067927122116089,
          2.5566208362579346,
          -8.073420524597168,
          2.026367425918579,
          -1.8867336511611938,
          4.019779205322266,
          7.006768226623535,
          -5.66782808303833,
          4.149639129638672,
          -3.7822556495666504,
          3.951242446899414,
          4.448915481567383,
          -0.07385967671871185,
          -1.3856849670410156,
          -10.735050201416016,
          -1.2918082475662231,
          -7.585774898529053,
          -1.6890897750854492,
          5.18212890625,
          6.89259147644043,
          -4.980509281158447,
          -7.2274041175842285,
          -5.743649005889893,
          9.883124351501465,
          -14.83381175994873,
          6.710076808929443,
          -11.523017883300781,
          12.671595573425293,
          0.1283813863992691,
          -4.690357208251953,
          1.9480451345443726,
          7.177332401275635,
          7.735136032104492,
          10.271736145019531,
          9.445815086364746,
          -3.730161666870117,
          -6.650961399078369,
          -5.4973931312561035,
          2.631448268890381,
          7.7311320304870605,
          -0.2255413830280304,
          -0.9191069602966309,
          -1.8077048063278198,
          -12.182991981506348,
          -3.5154969692230225,
          9.316468238830566,
          -0.3659510612487793,
          -0.9972751140594482,
          0.5365678071975708,
          9.269317626953125,
          9.082139015197754,
          9.963103294372559,
          -6.813411712646484,
          12.142972946166992,
          13.223588943481445,
          -6.003807067871094,
          10.301909446716309,
          1.3488253355026245,
          -1.3472269773483276,
          0.4399654269218445,
          -3.1729187965393066,
          3.6195290088653564,
          -0.6942532658576965,
          -4.910736560821533,
          -3.220649480819702,
          15.217864990234375,
          -2.0235214233398438,
          2.9150331020355225,
          7.554416656494141,
          3.1804964542388916,
          7.301379203796387,
          3.162199020385742,
          3.65759539604187,
          -1.2123664617538452,
          1.521215796470642,
          2.6578264236450195,
          -3.4018239974975586,
          -3.6510586738586426,
          13.550728797912598,
          -3.913559913635254,
          4.663200855255127,
          0.2544114887714386,
          -1.2415969371795654,
          2.9885261058807373,
          -7.178646087646484,
          -1.8401696681976318,
          -1.5053074359893799,
          10.472890853881836,
          12.756001472473145,
          -5.008334636688232,
          7.335235595703125,
          11.39531421661377,
          -7.3488006591796875,
          4.201139450073242,
          12.376832962036133,
          -8.166250228881836,
          9.734151840209961,
          -0.051086876541376114,
          11.490123748779297,
          11.8328275680542,
          12.118399620056152,
          14.769558906555176,
          11.541900634765625,
          14.365959167480469,
          14.167238235473633,
          -4.688535690307617,
          -5.176450252532959,
          15.139335632324219,
          11.469621658325195,
          9.472196578979492,
          12.430903434753418,
          -1.1447581052780151,
          1.4540363550186157,
          -5.50679874420166,
          5.06107234954834,
          10.836008071899414,
          0.4513896107673645,
          15.05792236328125,
          0.7286323308944702,
          0.9252230525016785,
          -5.893388748168945,
          -2.068791389465332,
          5.837963581085205,
          12.58603572845459,
          9.906963348388672,
          6.25374174118042,
          5.287496566772461,
          12.096589088439941,
          -7.939620018005371,
          1.7364835739135742,
          -3.4732089042663574,
          6.99562931060791,
          14.223965644836426,
          -4.461096286773682,
          5.998257637023926,
          -6.974648952484131,
          -8.616926193237305,
          12.32751750946045,
          -10.261628150939941,
          -5.663796901702881,
          -11.263140678405762,
          -5.058419704437256,
          -5.058419704437256,
          6.358412265777588,
          6.358476638793945,
          -1.1150681972503662,
          -1.1150681972503662,
          2.0820417404174805,
          2.0820417404174805,
          12.601439476013184,
          12.60145092010498,
          3.9000210762023926,
          3.8997840881347656,
          -0.02297152578830719,
          -0.022981073707342148,
          -3.4281365871429443,
          -3.4281365871429443,
          15.724743843078613,
          15.724743843078613,
          11.560608863830566,
          11.560608863830566,
          0.26205891370773315,
          0.26205891370773315,
          4.296773433685303,
          2.374959707260132,
          -13.046706199645996,
          -13.046710014343262,
          -1.8177489042282104,
          -1.8177489042282104,
          -6.929969787597656,
          -6.929948806762695,
          -8.939940452575684,
          -8.93990707397461,
          -0.862734854221344,
          -0.862734854221344,
          7.428821086883545,
          13.142329216003418,
          -11.267427444458008,
          0.008497885428369045,
          -0.0892685279250145,
          1.3973515033721924,
          12.433837890625,
          3.3928062915802,
          -7.778990745544434,
          2.687462091445923,
          12.439247131347656,
          -2.1216046810150146,
          14.991111755371094,
          11.626439094543457,
          11.54416275024414,
          -8.650151252746582,
          12.182273864746094,
          -8.449865341186523,
          11.6505765914917,
          -4.852330684661865,
          13.840409278869629,
          12.237028121948242,
          12.210491180419922,
          12.597821235656738,
          10.515357971191406,
          11.664260864257812,
          14.191401481628418,
          11.916090965270996,
          6.646764755249023,
          -3.3830459117889404,
          -2.0926764011383057,
          -4.827817440032959,
          -0.2581256628036499,
          -11.430428504943848,
          4.980920791625977,
          -7.590217590332031,
          -12.24902057647705,
          -10.22645092010498,
          5.867302417755127,
          -11.282654762268066,
          -3.012641191482544,
          1.3536754846572876,
          -2.2525241374969482,
          -1.8858946561813354,
          -5.584949016571045,
          15.45970630645752,
          12.050315856933594,
          4.791130542755127,
          11.874738693237305,
          13.192889213562012,
          6.478141784667969,
          -5.470215320587158,
          2.8694605827331543,
          7.239143371582031,
          11.790937423706055,
          6.632991790771484,
          -1.427546501159668,
          15.181427001953125,
          2.7751924991607666,
          11.525472640991211,
          2.9839589595794678,
          9.970488548278809,
          1.1407877206802368,
          10.064709663391113,
          14.913869857788086,
          5.2324042320251465,
          7.587864875793457,
          2.1178817749023438,
          9.533638000488281,
          -2.3085951805114746,
          5.180471897125244,
          -4.4673237800598145,
          -8.79208755493164,
          12.094870567321777,
          4.841078758239746,
          12.633563995361328,
          1.9020675420761108,
          -12.996269226074219,
          -3.6211533546447754,
          -2.3743255138397217,
          12.084620475769043,
          12.88996696472168,
          12.70501708984375,
          9.07723331451416,
          15.104835510253906,
          14.816984176635742,
          9.230648040771484,
          15.033178329467773,
          12.528919219970703,
          10.433080673217773,
          11.91322135925293,
          6.458134651184082,
          11.158577919006348,
          -0.08182758837938309,
          9.597423553466797,
          10.299471855163574,
          3.2153539657592773,
          5.845625877380371,
          -4.578004837036133,
          5.6465630531311035,
          1.9536751508712769,
          1.0696957111358643,
          8.693916320800781,
          3.2781946659088135,
          15.408967971801758,
          11.494316101074219,
          2.6185319423675537,
          11.637045860290527,
          11.763585090637207,
          -6.016502857208252,
          -9.204962730407715,
          11.51115608215332,
          6.039355754852295,
          -5.360530853271484,
          6.197575092315674,
          4.952767848968506,
          -4.842635631561279,
          6.491605281829834,
          -6.033707141876221,
          -2.717930555343628,
          2.0185115337371826,
          -1.6527044773101807,
          11.633805274963379,
          -2.7828760147094727,
          -0.22354857623577118,
          -10.070011138916016,
          -3.286069393157959,
          -4.46224308013916,
          7.146027565002441,
          4.112011432647705,
          -10.437304496765137,
          -9.926004409790039,
          -4.487070560455322,
          4.946691036224365,
          2.662058115005493,
          -7.0508294105529785,
          12.817553520202637,
          2.3134117126464844,
          -4.914187431335449,
          -3.531494140625,
          -6.840424537658691,
          -5.784919261932373,
          9.30066967010498,
          12.135088920593262,
          -0.686618983745575,
          2.192626714706421,
          8.84481143951416,
          -9.075237274169922,
          7.153845310211182,
          11.397872924804688,
          1.4014413356781006,
          -4.522122383117676,
          -10.399064064025879,
          12.506710052490234,
          1.7994840145111084,
          12.763236045837402,
          -6.043631553649902,
          -11.574660301208496,
          -0.6577892899513245,
          5.891252040863037,
          -0.004029241390526295,
          5.225635528564453,
          -2.845766544342041,
          11.561748504638672,
          1.979462742805481,
          3.539313554763794,
          -1.5149306058883667,
          4.936192035675049,
          1.8193029165267944,
          -6.405129909515381,
          -1.868964433670044,
          -5.643259048461914,
          4.234123706817627,
          -5.528750419616699,
          2.746446132659912,
          -2.2652573585510254,
          -12.353453636169434,
          10.137311935424805,
          -11.353121757507324,
          14.502094268798828,
          6.81500244140625,
          5.504739284515381,
          11.381830215454102,
          3.8650004863739014,
          -0.995961606502533,
          -5.416036128997803,
          12.667350769042969,
          12.439764022827148,
          -12.010976791381836,
          -0.49611151218414307,
          -6.342904567718506,
          12.41788101196289,
          -4.316773891448975,
          -6.8982672691345215,
          -1.7471511363983154,
          -7.698229789733887,
          -7.153182029724121,
          1.8185205459594727,
          -0.901707649230957,
          -2.5664589405059814,
          14.456589698791504,
          14.49843978881836,
          -11.103424072265625,
          -1.6099425554275513,
          -4.7690043449401855,
          14.84958267211914,
          11.908570289611816,
          -9.402199745178223,
          -0.026998048648238182,
          1.3266844749450684,
          -9.679910659790039,
          0.7514491081237793,
          6.890063285827637,
          12.537276268005371,
          1.0373543500900269,
          6.234475135803223,
          13.757352828979492,
          12.696274757385254,
          -0.45139554142951965,
          -12.938471794128418,
          12.559257507324219,
          0.20278753340244293,
          -1.3357301950454712,
          12.520356178283691,
          -7.729925155639648,
          -11.416431427001953,
          5.819774627685547,
          5.854742527008057,
          10.794591903686523,
          -1.5592114925384521,
          2.530729293823242,
          5.727871894836426,
          0.16506940126419067,
          -7.965908050537109,
          12.77612590789795,
          5.653093338012695,
          1.6239982843399048,
          12.514683723449707,
          -0.39167314767837524,
          1.0060510635375977,
          14.703664779663086,
          14.347416877746582,
          3.2587270736694336,
          11.98513126373291,
          -5.785038948059082,
          12.942184448242188,
          3.769798517227173,
          4.762945175170898,
          -3.8263795375823975,
          4.477851867675781,
          12.3618803024292,
          14.81879997253418,
          6.260903835296631,
          11.42125129699707,
          -2.308136463165283,
          -8.827500343322754,
          1.9266111850738525,
          -6.0668230056762695,
          -3.264286994934082,
          -8.938523292541504,
          -1.1369253396987915,
          -0.8515605330467224,
          4.055221080780029,
          11.332764625549316,
          11.770386695861816,
          -12.456900596618652,
          -10.781251907348633,
          3.9856104850769043,
          7.5148468017578125,
          -4.857982158660889,
          -3.5974364280700684,
          0.9425840973854065,
          -3.961977481842041,
          3.0141289234161377,
          2.1351113319396973,
          -3.9344868659973145,
          -10.329255104064941,
          -5.651261806488037,
          -1.7833837270736694,
          5.3401408195495605,
          -2.481769323348999,
          2.8170166015625,
          -1.295412540435791,
          0.5417402982711792,
          -5.700667381286621,
          0.42555272579193115,
          -0.9228671789169312,
          -1.396199345588684,
          -8.02851676940918,
          4.546748161315918,
          -11.875858306884766,
          4.633971691131592,
          5.013556480407715,
          5.085848808288574,
          -2.740677833557129,
          -11.979988098144531,
          -10.71500301361084,
          3.0945277214050293,
          -0.20458117127418518,
          10.488885879516602,
          -4.131850719451904,
          -0.6626986265182495,
          -2.4370734691619873,
          -5.7509894371032715,
          11.200575828552246,
          -1.9440876245498657,
          -9.094413757324219,
          3.8609933853149414,
          4.662782669067383,
          3.767698287963867,
          9.418442726135254,
          1.1396129131317139,
          -1.0304909944534302,
          -0.2542576789855957,
          3.6907577514648438,
          3.173856258392334,
          2.0703556537628174,
          9.463420867919922,
          -7.448756694793701,
          3.0486397743225098,
          2.567749261856079,
          5.962544918060303,
          -3.2787439823150635,
          -9.735342025756836,
          0.3242420554161072,
          4.482200622558594,
          7.656184196472168,
          -6.951169490814209,
          -10.666228294372559,
          -5.8689703941345215,
          12.586648941040039,
          -7.920722484588623,
          -0.05605694651603699,
          6.75536584854126,
          -3.729401111602783,
          -11.526815414428711,
          -5.009274959564209,
          -10.092820167541504,
          1.4418855905532837,
          -4.88358736038208,
          -2.5283052921295166,
          -5.775666236877441,
          -8.889080047607422,
          1.444640040397644,
          -9.091890335083008,
          3.1295650005340576,
          -9.205510139465332,
          -7.162063121795654,
          0.2909208834171295,
          0.7491509914398193,
          -0.34235864877700806,
          -3.521988868713379,
          -3.5727152824401855,
          -5.466855049133301,
          1.257742166519165,
          -4.8997392654418945,
          1.8072811365127563,
          4.381834983825684,
          -6.936665058135986,
          4.5729570388793945,
          -6.695502758026123,
          -4.250669956207275,
          -2.140669107437134,
          -1.1567437648773193,
          -6.317670822143555,
          -1.0081672668457031,
          0.09509153664112091,
          -1.0230680704116821,
          -3.362947940826416,
          -0.07864796370267868,
          -2.7006685733795166,
          1.8228906393051147,
          -0.22781981527805328,
          -4.402385234832764,
          -4.726708889007568,
          0.6401038765907288,
          -2.8918702602386475,
          -4.037217617034912,
          -2.605827808380127,
          -7.147149085998535,
          0.1549045443534851,
          -4.5552592277526855,
          2.3062901496887207,
          -3.860717535018921,
          -8.122284889221191,
          5.127416133880615,
          -9.438448905944824,
          -5.959812641143799,
          5.746586799621582,
          5.334075450897217,
          8.174324989318848,
          6.981922626495361,
          6.123338222503662
         ],
         "z": [
          -2.1786108016967773,
          2.273510456085205,
          -1.8944363594055176,
          0.6579059958457947,
          -4.358658790588379,
          1.401391625404358,
          0.08286570757627487,
          -0.8814418315887451,
          4.300800323486328,
          6.127124309539795,
          4.243561267852783,
          -8.192292213439941,
          -6.863901615142822,
          1.3307344913482666,
          1.0799765586853027,
          3.597811222076416,
          -3.0939486026763916,
          -7.001660346984863,
          -2.7524638175964355,
          -5.1479878425598145,
          4.288743019104004,
          -0.7858180999755859,
          0.3646235764026642,
          -7.122232913970947,
          -1.7420588731765747,
          1.6895540952682495,
          -5.0058393478393555,
          -1.5805481672286987,
          4.143521785736084,
          5.868349552154541,
          3.56300950050354,
          -2.798227071762085,
          5.820474147796631,
          1.2036442756652832,
          -0.16720058023929596,
          -2.8394033908843994,
          6.270145893096924,
          6.291626930236816,
          -2.201732635498047,
          -0.25303637981414795,
          -0.27884596586227417,
          -0.05959445610642433,
          -6.919046878814697,
          -5.1316704750061035,
          -4.783261775970459,
          -2.585728168487549,
          3.565110206604004,
          4.029415607452393,
          -2.8166403770446777,
          -3.0205471515655518,
          1.3174569606781006,
          2.1309006214141846,
          -2.7809152603149414,
          5.522032260894775,
          5.199009418487549,
          -2.6929359436035156,
          -1.0313204526901245,
          -5.759633541107178,
          1.2944583892822266,
          2.0507798194885254,
          -3.0844573974609375,
          -1.8112108707427979,
          0.22192879021167755,
          -4.220266819000244,
          -3.305819034576416,
          8.050704956054688,
          -1.7130240201950073,
          -1.6184883117675781,
          -4.302030086517334,
          -1.5369185209274292,
          -2.931796073913574,
          -5.113717555999756,
          3.626004695892334,
          1.4879671335220337,
          3.733060836791992,
          -8.15058708190918,
          1.5222760438919067,
          2.2482426166534424,
          2.6133387088775635,
          -1.0439249277114868,
          0.9149389266967773,
          7.345691204071045,
          -2.4076411724090576,
          -0.26736170053482056,
          -1.037353754043579,
          3.575169563293457,
          -5.436833381652832,
          -0.6699402928352356,
          1.3653616905212402,
          1.6843438148498535,
          -0.6848830580711365,
          0.5836833119392395,
          4.996836185455322,
          -0.2225707769393921,
          6.349913597106934,
          1.246086597442627,
          -2.473785638809204,
          -4.4684038162231445,
          -1.8632557392120361,
          3.102180242538452,
          1.4264576435089111,
          -2.4551844596862793,
          3.7322680950164795,
          -4.442375183105469,
          2.3563990592956543,
          -3.124788522720337,
          0.8893919587135315,
          -3.4367597103118896,
          3.957341432571411,
          1.6798386573791504,
          5.778474807739258,
          2.522190570831299,
          -2.539809465408325,
          -0.737186074256897,
          -3.6343324184417725,
          -0.7549831867218018,
          -1.85222327709198,
          -6.000431537628174,
          -2.240696430206299,
          -1.775412678718567,
          0.4780826270580292,
          -0.5224696397781372,
          2.6466927528381348,
          2.8789520263671875,
          -2.7362163066864014,
          2.032636880874634,
          -6.847317695617676,
          3.192812442779541,
          -0.29573068022727966,
          1.3095386028289795,
          -7.6085004806518555,
          -5.328779220581055,
          -6.775678634643555,
          0.564835786819458,
          6.360101699829102,
          -2.5343055725097656,
          1.9280431270599365,
          -0.3213321566581726,
          -1.0118296146392822,
          -3.464785575866699,
          0.5122016668319702,
          5.859859466552734,
          -1.7839604616165161,
          -0.9692829847335815,
          -2.426145315170288,
          -0.3961990177631378,
          -7.02205228805542,
          1.5403194427490234,
          -2.9935989379882812,
          6.623194217681885,
          1.4952690601348877,
          2.1524221897125244,
          -3.6579132080078125,
          3.523500680923462,
          -0.38062742352485657,
          -2.71455979347229,
          -0.018824825063347816,
          -4.182121276855469,
          -4.988001823425293,
          1.745701789855957,
          1.6598175764083862,
          -0.8215299844741821,
          6.293361186981201,
          -1.5835314989089966,
          -2.9869515895843506,
          -4.811348915100098,
          5.602296352386475,
          1.4682782888412476,
          -5.702748775482178,
          4.299990177154541,
          2.8833584785461426,
          1.1921736001968384,
          0.9338172674179077,
          8.249120712280273,
          3.434591770172119,
          -0.59722501039505,
          2.6037631034851074,
          -2.7438595294952393,
          0.06427162140607834,
          2.1455235481262207,
          6.717649936676025,
          -1.2260674238204956,
          1.7214529514312744,
          -2.1346025466918945,
          1.3841434717178345,
          1.827887773513794,
          -3.7005670070648193,
          0.9479230046272278,
          1.0689277648925781,
          4.447323322296143,
          -1.49843430519104,
          -2.38653564453125,
          1.1971495151519775,
          1.4096163511276245,
          4.432156562805176,
          2.383202075958252,
          3.6657960414886475,
          -2.369488477706909,
          1.0845729112625122,
          -6.706693172454834,
          6.311275482177734,
          0.12173710763454437,
          2.745621919631958,
          -1.5545852184295654,
          -0.9684774279594421,
          -0.08873189240694046,
          -5.7868475914001465,
          4.238899230957031,
          -7.146929740905762,
          3.389753580093384,
          2.4081757068634033,
          -0.4011894166469574,
          -3.607541561126709,
          -4.383004665374756,
          -3.414140224456787,
          -1.5233794450759888,
          -2.7910687923431396,
          -2.568244457244873,
          3.0688114166259766,
          -1.9219228029251099,
          3.268249273300171,
          -1.630010724067688,
          -2.4432764053344727,
          -3.636589527130127,
          1.7964065074920654,
          0.6094785928726196,
          -2.3039090633392334,
          -2.290076971054077,
          3.3158860206604004,
          2.8163018226623535,
          -1.281985878944397,
          3.0626559257507324,
          3.8565890789031982,
          -6.940930366516113,
          0.03639218956232071,
          -2.3784971237182617,
          -3.109394073486328,
          4.285778522491455,
          4.435520172119141,
          -3.3828065395355225,
          -1.136238932609558,
          7.116236686706543,
          4.571134567260742,
          2.524266004562378,
          7.699472427368164,
          -2.4020800590515137,
          1.2251535654067993,
          1.3328430652618408,
          2.314119815826416,
          4.074818134307861,
          2.6806535720825195,
          -4.948791980743408,
          5.501412868499756,
          -2.276869773864746,
          0.011830121278762817,
          -1.5555356740951538,
          -0.9079089164733887,
          -0.7880313992500305,
          4.495392322540283,
          0.9540418386459351,
          0.1695888489484787,
          2.991074323654175,
          1.3224971294403076,
          8.17481517791748,
          -4.490392684936523,
          -0.25864332914352417,
          3.134476661682129,
          0.6052968502044678,
          -1.8089615106582642,
          4.163076400756836,
          1.2359248399734497,
          -3.4067976474761963,
          2.0309245586395264,
          -0.1798284500837326,
          -6.925909996032715,
          3.8809821605682373,
          1.7248015403747559,
          3.892096757888794,
          3.9387173652648926,
          3.9056389331817627,
          -0.7539330720901489,
          -2.4767518043518066,
          -3.55837345123291,
          -0.023354507982730865,
          -0.7933534383773804,
          1.1397112607955933,
          7.700233459472656,
          1.992805004119873,
          -1.8295210599899292,
          -7.284364223480225,
          -5.178463459014893,
          -1.0364344120025635,
          -3.2026827335357666,
          0.7765916585922241,
          4.347184181213379,
          7.974466323852539,
          -5.628190994262695,
          -1.9096134901046753,
          -1.8921105861663818,
          -4.796228408813477,
          -5.828178882598877,
          4.892580986022949,
          -3.3537960052490234,
          1.7017579078674316,
          4.134424686431885,
          -0.6687248945236206,
          -1.3948535919189453,
          -3.81528639793396,
          0.1709843873977661,
          1.154976725578308,
          -1.3761035203933716,
          4.584915637969971,
          -1.1593562364578247,
          -3.1121795177459717,
          2.5088717937469482,
          0.4956427812576294,
          -3.7919626235961914,
          4.183226585388184,
          4.4063215255737305,
          -6.646856784820557,
          -1.6889839172363281,
          2.4438674449920654,
          -0.5594571828842163,
          5.3817572593688965,
          7.10096549987793,
          1.9628939628601074,
          0.6602707505226135,
          -0.24786627292633057,
          -1.8420145511627197,
          -2.5317025184631348,
          -3.9517321586608887,
          3.9614787101745605,
          -5.143530368804932,
          -5.099508762359619,
          -3.4259254932403564,
          -4.376855373382568,
          -4.009567737579346,
          -8.853950500488281,
          -6.8424787521362305,
          -1.2467530965805054,
          -4.827846050262451,
          -3.1319291591644287,
          1.1824617385864258,
          0.8235378265380859,
          -5.171515941619873,
          -1.2972476482391357,
          1.9829189777374268,
          7.582416534423828,
          2.67267107963562,
          -0.21702219545841217,
          8.591334342956543,
          0.7083654999732971,
          -9.19082260131836,
          1.1187132596969604,
          -5.880980491638184,
          -4.162146091461182,
          8.243219375610352,
          -4.59145975112915,
          -0.9938461184501648,
          -1.4997224807739258,
          0.22020000219345093,
          -4.209933757781982,
          0.9378697276115417,
          0.2758779525756836,
          -2.9786200523376465,
          0.684782087802887,
          -6.127134323120117,
          3.6298184394836426,
          -1.5327407121658325,
          -7.014698028564453,
          0.9512976408004761,
          -3.5887765884399414,
          -4.146284103393555,
          -7.393423557281494,
          -3.862215757369995,
          1.5585988759994507,
          -3.0840749740600586,
          -0.8949090838432312,
          -2.0980968475341797,
          1.8341305255889893,
          -1.1047301292419434,
          -4.358617782592773,
          -7.103160858154297,
          4.285022735595703,
          4.581482887268066,
          3.990856647491455,
          6.617056369781494,
          5.379147052764893,
          3.519707441329956,
          -3.7585935592651367,
          -2.839510440826416,
          3.262584686279297,
          5.635353088378906,
          -3.319185972213745,
          1.5849578380584717,
          0.7069430351257324,
          5.81199312210083,
          5.213704586029053,
          1.608113169670105,
          -2.574658155441284,
          -7.769786357879639,
          -5.46600866317749,
          3.0882890224456787,
          -7.1602783203125,
          -4.084117412567139,
          -1.4991117715835571,
          -3.814389944076538,
          -1.4754703044891357,
          0.5007839798927307,
          -7.355279922485352,
          -5.612427711486816,
          -7.090072154998779,
          3.191443681716919,
          2.199981689453125,
          -0.22751979529857635,
          7.62709379196167,
          -6.385525226593018,
          1.5469986200332642,
          2.124197244644165,
          -0.9370449185371399,
          -3.947777271270752,
          -1.036667823791504,
          2.781378984451294,
          -4.220932483673096,
          -3.854102849960327,
          1.495425820350647,
          4.84634256362915,
          0.4558950364589691,
          -8.16369915008545,
          7.059803009033203,
          -0.9659752249717712,
          1.792548418045044,
          0.3346859812736511,
          -1.7677602767944336,
          -3.3370766639709473,
          -5.201533794403076,
          -3.3055355548858643,
          -5.726161479949951,
          -0.15264256298542023,
          2.619819402694702,
          5.440229892730713,
          1.6131019592285156,
          0.779975950717926,
          0.3661649227142334,
          5.884308815002441,
          5.93635368347168,
          -5.6103196144104,
          -0.6558897495269775,
          0.08194588124752045,
          -5.456743240356445,
          2.534536600112915,
          -1.4709968566894531,
          -5.768742084503174,
          6.827689170837402,
          0.6539384722709656,
          3.1091935634613037,
          -2.1598689556121826,
          -1.0731475353240967,
          7.284694194793701,
          -1.9114861488342285,
          -1.0537818670272827,
          -0.07654748111963272,
          -1.8425662517547607,
          -1.76541268825531,
          -2.9536569118499756,
          3.2634143829345703,
          0.4959407150745392,
          3.2530581951141357,
          -6.491250514984131,
          -1.219807744026184,
          0.9403219819068909,
          -1.6589254140853882,
          -2.940765619277954,
          0.02435237169265747,
          -5.611163139343262,
          1.7974193096160889,
          2.3540453910827637,
          1.0243638753890991,
          -0.1832101196050644,
          1.4414498805999756,
          -2.38309383392334,
          2.6376235485076904,
          2.6383869647979736,
          2.6376147270202637,
          2.870759963989258,
          -2.2646210193634033,
          -1.8256431818008423,
          7.068873405456543,
          -2.038090944290161,
          6.187631130218506,
          -1.2901513576507568,
          5.495099067687988,
          -1.88922917842865,
          2.6664390563964844,
          0.3586574196815491,
          -0.6630338430404663,
          2.399900436401367,
          -2.451779365539551,
          -0.4180135428905487,
          -2.2752881050109863,
          2.342545509338379,
          -0.8936370611190796,
          0.8478833436965942,
          2.825735092163086,
          -1.7276690006256104,
          -1.6596876382827759,
          4.709238529205322,
          4.68861198425293,
          1.2942146062850952,
          0.2680845558643341,
          1.1766856908798218,
          0.26549696922302246,
          -2.795959711074829,
          1.4778087139129639,
          -0.7938596606254578,
          2.558234691619873,
          0.21144168078899384,
          -2.643367290496826,
          6.8440656661987305,
          2.2340245246887207,
          -4.303952693939209,
          -0.4202311336994171,
          0.6190754771232605,
          -1.6729027032852173,
          0.9190600514411926,
          2.415073871612549,
          0.15986409783363342,
          -3.404672861099243,
          3.065004825592041,
          -3.711493492126465,
          -5.583767890930176,
          6.804281711578369,
          2.4465906620025635,
          -1.137291669845581,
          -1.6886847019195557,
          -3.4292447566986084,
          -2.27793550491333,
          -0.09844275563955307,
          7.2949604988098145,
          1.547682762145996,
          -2.7831966876983643,
          -0.1829598993062973,
          1.4940732717514038,
          -4.223563194274902,
          -0.16244180500507355,
          1.5576319694519043,
          1.8090734481811523,
          5.202983856201172,
          -0.4316050112247467,
          -0.39051902294158936,
          -5.399638652801514,
          -7.8330769538879395,
          2.208003044128418,
          -5.594897747039795,
          -3.3057219982147217,
          -1.6427782773971558,
          6.4729180335998535,
          7.750794410705566,
          -0.5973722338676453,
          -2.414400577545166,
          1.3674124479293823,
          5.792452335357666,
          6.389106273651123,
          5.250353813171387,
          -3.781773567199707,
          -2.7528064250946045,
          0.5841381549835205,
          -6.356561660766602,
          1.2928184270858765,
          -2.688765525817871,
          -2.6777195930480957,
          -0.7091087698936462,
          -4.528918743133545,
          -0.2108883112668991,
          2.9185073375701904,
          -3.095804214477539,
          -6.234522819519043,
          -1.897986650466919,
          0.2649284303188324,
          -2.763070821762085,
          -2.2305829524993896,
          0.8238115906715393,
          -2.410107374191284,
          4.214539527893066,
          4.75057315826416,
          -3.246907949447632,
          -4.377293109893799,
          -2.7323367595672607,
          6.070580005645752,
          -5.317597389221191,
          7.088608741760254,
          -3.1674716472625732,
          -1.512627363204956,
          -1.0644421577453613,
          1.9097126722335815,
          -1.2954503297805786,
          -6.13866662979126,
          -4.41730260848999,
          0.4645366072654724,
          2.7454874515533447,
          -6.807143688201904,
          1.2068403959274292,
          -1.0708863735198975,
          -1.8822686672210693,
          -7.845378875732422,
          2.646373748779297,
          -3.603114366531372,
          -0.4454328119754791,
          -1.3649564981460571,
          1.5239450931549072,
          6.765336990356445,
          -0.07163295149803162,
          -1.476309895515442,
          -2.715728521347046,
          -0.10915438830852509,
          3.5587775707244873,
          -0.17491143941879272,
          -1.3625986576080322,
          3.1135706901550293,
          -5.181704044342041,
          -3.205024242401123,
          1.5141394138336182,
          -3.5379998683929443,
          5.53166389465332,
          -0.00035795988515019417,
          -1.3006715774536133,
          -3.3119583129882812,
          1.5267643928527832,
          -1.2174824476242065,
          3.5993571281433105,
          -4.619370937347412,
          -8.203344345092773,
          3.384575366973877,
          2.8817334175109863,
          4.072060585021973,
          -2.070652961730957,
          -1.0065616369247437,
          -4.981330394744873,
          -6.777712821960449,
          -5.909700870513916,
          4.198011875152588,
          0.31525495648384094,
          -1.4962719678878784,
          -8.092605590820312,
          4.1095147132873535,
          -3.587562322616577,
          -4.016751766204834,
          2.319007158279419,
          0.8617234826087952,
          6.150344371795654,
          3.1069467067718506,
          -1.9156501293182373,
          -6.320555686950684,
          0.8782984614372253,
          3.5270771980285645,
          -4.195311069488525,
          0.41525182127952576,
          -3.601510763168335,
          5.867655277252197,
          4.43963098526001,
          -1.8354127407073975,
          -1.8329863548278809,
          0.06183550879359245,
          -0.4153766632080078,
          -3.4819631576538086,
          7.538789749145508,
          -9.942070007324219,
          -4.933509349822998,
          0.17143476009368896,
          4.508428573608398,
          -1.5060255527496338,
          -6.442511081695557,
          -2.717257261276245,
          0.056665532290935516,
          -1.3341102600097656,
          -4.312228679656982,
          -5.020258903503418,
          1.3063684701919556,
          -1.2003298997879028,
          -5.5949273109436035,
          -8.036240577697754,
          -0.49448204040527344,
          0.8576952219009399,
          -1.8496198654174805,
          -1.3088675737380981,
          -5.8654093742370605,
          2.124711275100708,
          -3.9165618419647217,
          2.447732448577881,
          -1.3671640157699585,
          0.956997811794281,
          -1.8658685684204102,
          -0.9624817371368408,
          -5.602360725402832,
          1.5327519178390503,
          4.842109680175781,
          2.365283727645874,
          -1.6030969619750977,
          -5.163392066955566,
          -1.299011468887329,
          -4.020994186401367,
          3.6730639934539795,
          -2.2166244983673096,
          3.842515707015991,
          2.111863374710083,
          2.2722392082214355,
          -3.612431764602661,
          1.0246769189834595,
          -3.2184650897979736,
          5.8302083015441895,
          3.0982508659362793,
          -1.5463199615478516,
          3.3862576484680176,
          -6.259244918823242,
          2.362513780593872,
          5.41269063949585,
          3.9077627658843994,
          2.0464134216308594,
          -2.4526333808898926,
          0.8842964172363281,
          -7.1404194831848145,
          6.564896583557129,
          4.03854513168335,
          -2.7713494300842285,
          -4.888636112213135,
          0.37941503524780273,
          -2.298515796661377,
          4.681612014770508,
          -0.9728015065193176,
          0.6768627762794495,
          3.4189541339874268,
          7.056310176849365,
          -0.957341194152832,
          -3.0556020736694336,
          -3.3676891326904297,
          7.518968105316162,
          4.9114909172058105,
          -2.768005847930908,
          -6.432432174682617,
          -2.349433422088623,
          -4.2261433601379395,
          -6.460341453552246,
          -4.1545515060424805,
          -3.4688122272491455,
          0.6939658522605896,
          7.776208400726318,
          -7.196381568908691,
          -1.2251945734024048,
          3.4190356731414795,
          -2.9004273414611816,
          7.135885715484619,
          -5.3227386474609375,
          3.5671446323394775,
          -4.219711780548096,
          -4.702597618103027,
          0.278141587972641,
          -0.13973753154277802,
          0.1191263496875763,
          1.9468365907669067,
          0.15372973680496216,
          3.3237757682800293,
          -1.5337631702423096,
          -0.8334013223648071,
          -0.25841864943504333,
          1.4094886779785156,
          1.7328728437423706,
          -0.6543297171592712,
          -0.17503508925437927,
          0.6531389355659485,
          2.189166307449341,
          1.1873975992202759,
          -0.17912115156650543,
          -1.3517608642578125,
          -5.378483295440674,
          4.227720260620117,
          4.480475902557373,
          -1.4816251993179321,
          4.649868488311768,
          -7.043682098388672,
          0.9142870306968689,
          -2.614103078842163,
          -1.5097302198410034,
          2.329744815826416,
          4.488959789276123,
          -0.5166804790496826,
          -2.18155837059021,
          -1.336788535118103,
          5.77694845199585,
          3.788470506668091,
          -3.2974603176116943,
          2.344511032104492,
          7.617629528045654,
          -4.656840801239014,
          4.092270374298096,
          -5.525310516357422,
          -1.9862182140350342,
          4.071982383728027,
          -5.37019157409668,
          2.5407779216766357,
          5.214109420776367,
          4.969116687774658,
          3.0681445598602295,
          7.119117736816406,
          -0.27030766010284424,
          -0.9914249777793884,
          1.4510631561279297,
          1.0290042161941528,
          2.678593635559082,
          -2.369030237197876,
          4.433880805969238,
          -2.4293410778045654,
          4.776236057281494,
          0.7925211787223816,
          -1.1590813398361206,
          3.2981314659118652,
          -2.9085562229156494,
          4.050475120544434,
          1.587746024131775,
          -4.436681270599365,
          0.7886793613433838,
          4.067744731903076,
          4.6066670417785645,
          -4.00242805480957,
          -1.5047863721847534,
          -0.3192668557167053,
          -1.3915153741836548,
          6.6189422607421875,
          0.6836462020874023,
          0.08658744394779205,
          3.6512956619262695,
          2.9833223819732666,
          2.130964994430542,
          -2.29388427734375,
          -1.8903933763504028,
          -2.7338905334472656,
          -1.0631659030914307,
          3.998251438140869,
          4.671637535095215,
          -0.14083915948867798,
          0.2862430214881897,
          4.8090362548828125,
          3.660227060317993,
          3.8516149520874023,
          1.420403242111206,
          4.138952255249023,
          1.2300024032592773,
          2.7819175720214844,
          -2.929766893386841,
          -1.9296880960464478,
          -1.8885620832443237,
          3.396970748901367,
          5.326059818267822,
          -1.361153483390808,
          0.20289023220539093,
          0.5718309879302979,
          1.1665669679641724,
          1.272237777709961,
          -3.784576177597046,
          -2.4357736110687256,
          2.028067111968994,
          0.08214599639177322,
          -1.3585374355316162,
          5.900970458984375,
          -2.312999725341797,
          2.4497666358947754,
          3.5884411334991455,
          7.357242107391357,
          1.228261113166809,
          1.8756873607635498,
          2.3607943058013916,
          3.5014259815216064,
          -1.4591511487960815,
          1.9088939428329468,
          -0.34205228090286255,
          4.543242454528809,
          5.979319095611572,
          -2.7470948696136475,
          4.968273162841797,
          -2.906761407852173,
          4.99368953704834,
          -6.982187271118164,
          1.5727694034576416,
          -0.7061419486999512,
          2.388540744781494,
          3.4047465324401855,
          -0.006824202835559845,
          -0.11407201737165451,
          1.3148140907287598,
          -3.7972452640533447,
          2.667052984237671,
          -0.13607902824878693,
          -5.751810550689697,
          -3.193272590637207,
          -3.4497039318084717,
          -3.4497039318084717,
          0.016995735466480255,
          0.01708861067891121,
          -1.6490936279296875,
          -1.649068832397461,
          6.392746448516846,
          6.392744064331055,
          0.6017095446586609,
          0.6017212271690369,
          -1.4255013465881348,
          -1.4260332584381104,
          1.4976338148117065,
          1.4975864887237549,
          -1.931152105331421,
          -1.931152105331421,
          0.6877734661102295,
          0.6877734661102295,
          -0.627045750617981,
          -0.627045750617981,
          6.760946750640869,
          6.760946750640869,
          -1.340269923210144,
          -3.5708131790161133,
          -1.1364721059799194,
          -1.1364712715148926,
          7.099789619445801,
          7.099789619445801,
          -4.799698352813721,
          -4.799126148223877,
          -1.0540118217468262,
          -1.0540378093719482,
          -5.775977611541748,
          -5.775977611541748,
          -3.718423843383789,
          2.3544397354125977,
          -8.921825408935547,
          -0.6450173854827881,
          6.539090156555176,
          1.131110668182373,
          5.154087066650391,
          2.0747263431549072,
          0.4180273115634918,
          -0.1982022225856781,
          0.5127421021461487,
          -3.00937819480896,
          2.51081919670105,
          -0.43079090118408203,
          3.2457425594329834,
          -6.946146011352539,
          -1.3649263381958008,
          -5.57769250869751,
          -5.464550018310547,
          8.102821350097656,
          1.0645540952682495,
          5.99507999420166,
          -2.0368008613586426,
          -1.79728364944458,
          0.754490852355957,
          2.028189182281494,
          1.5949941873550415,
          0.8615207076072693,
          -0.34287282824516296,
          5.175719261169434,
          5.723569393157959,
          -0.5805411338806152,
          1.3767390251159668,
          -4.959073066711426,
          1.0996575355529785,
          -5.582468032836914,
          -1.8165745735168457,
          -0.3030576705932617,
          -2.6679792404174805,
          -1.5791242122650146,
          1.5878491401672363,
          7.207970142364502,
          7.443387031555176,
          1.1204986572265625,
          -3.2031784057617188,
          1.9322420358657837,
          6.135135650634766,
          -3.423372745513916,
          5.837719917297363,
          2.2709109783172607,
          -0.6054575443267822,
          1.5250320434570312,
          2.9163942337036133,
          -3.749182939529419,
          0.9950454235076904,
          6.80958366394043,
          -3.3477444648742676,
          0.7285838723182678,
          1.6045259237289429,
          3.606374740600586,
          6.9406561851501465,
          5.965967178344727,
          -0.9702908396720886,
          0.8738940358161926,
          0.2599678635597229,
          -2.1632351875305176,
          5.520336627960205,
          -2.4813125133514404,
          -1.011149287223816,
          4.706136703491211,
          -2.2318778038024902,
          -2.8273346424102783,
          2.4480936527252197,
          5.607402801513672,
          -2.5944504737854004,
          0.9590649604797363,
          4.5832438468933105,
          -4.841787815093994,
          -1.719301700592041,
          4.278365612030029,
          -0.8343309760093689,
          2.8567278385162354,
          2.899559259414673,
          -1.9513683319091797,
          -0.49622753262519836,
          1.7994952201843262,
          -5.597343444824219,
          0.9886298179626465,
          -2.067676544189453,
          -2.973055601119995,
          -3.5363893508911133,
          -4.416658878326416,
          -0.04371652379631996,
          5.805570125579834,
          -1.8231732845306396,
          -2.7964773178100586,
          -4.425973415374756,
          0.4705940783023834,
          -4.181318759918213,
          4.406477928161621,
          4.333972930908203,
          4.16032600402832,
          1.6861201524734497,
          -1.1898688077926636,
          1.5444387197494507,
          -0.8345666527748108,
          5.196225166320801,
          -4.021463394165039,
          -5.13853120803833,
          -6.375639915466309,
          -3.127883195877075,
          3.642850637435913,
          4.296699523925781,
          2.2699525356292725,
          -3.6529951095581055,
          -0.45795929431915283,
          7.686191082000732,
          -0.9439389109611511,
          -3.455760955810547,
          4.367397785186768,
          6.486526012420654,
          1.5522743463516235,
          2.240605354309082,
          1.7636663913726807,
          -1.9537951946258545,
          -6.759665489196777,
          4.095147609710693,
          -3.1081931591033936,
          4.4528398513793945,
          -0.2064213752746582,
          -2.113959550857544,
          -4.541867733001709,
          0.15857188403606415,
          -3.521685838699341,
          1.2213443517684937,
          0.327934205532074,
          3.752856969833374,
          -1.7147557735443115,
          -2.023817539215088,
          -0.36111754179000854,
          -6.625438213348389,
          0.1509634405374527,
          -1.5673432350158691,
          -0.972711980342865,
          8.741743087768555,
          -1.2257819175720215,
          -1.9754472970962524,
          0.7513364553451538,
          -0.5798501372337341,
          2.2693564891815186,
          3.1842024326324463,
          -6.367184638977051,
          -4.824836730957031,
          1.0950932502746582,
          -1.130190372467041,
          0.8082660436630249,
          -2.4549520015716553,
          -5.243725299835205,
          2.0581986904144287,
          -4.8602423667907715,
          3.1198036670684814,
          -5.132182598114014,
          4.3794426918029785,
          -0.5819778442382812,
          2.4859111309051514,
          7.343662738800049,
          3.4522836208343506,
          7.041052341461182,
          6.5993194580078125,
          -4.578344821929932,
          2.9180703163146973,
          -5.8144025802612305,
          -4.096090316772461,
          -2.226911783218384,
          -4.456798076629639,
          2.1517207622528076,
          -1.669381022453308,
          -3.6048405170440674,
          -5.868545055389404,
          2.8086724281311035,
          6.852505683898926,
          -3.9496266841888428,
          -0.23419684171676636,
          -3.107083559036255,
          7.62750244140625,
          -2.8856518268585205,
          3.092515707015991,
          2.7533113956451416,
          -4.749114513397217,
          1.337890386581421,
          -5.197967052459717,
          6.592599391937256,
          3.3836987018585205,
          -0.6160976886749268,
          -0.4862876236438751,
          0.59850013256073,
          -4.639330863952637,
          5.452304363250732,
          -2.0842583179473877,
          5.3865790367126465,
          3.3058042526245117,
          2.1487324237823486,
          -2.3170883655548096,
          -5.880093097686768,
          1.4269272089004517,
          1.8135550022125244,
          2.1207797527313232,
          -5.202884197235107,
          -4.778960227966309,
          3.3984432220458984,
          -3.853074789047241,
          3.6883511543273926,
          6.571994304656982,
          1.4035226106643677,
          0.5584337711334229,
          -3.7534022331237793,
          3.886984348297119,
          5.125457286834717,
          4.467846393585205,
          -4.298899173736572,
          -0.2614884078502655,
          7.521596431732178,
          -0.5846580266952515,
          0.30008405447006226,
          3.2772247791290283,
          -3.4609642028808594,
          7.206710338592529,
          -5.690352439880371,
          0.9597602486610413,
          6.630568981170654,
          1.9511736631393433,
          -5.057313442230225,
          3.9394314289093018,
          4.389657020568848,
          6.237097263336182,
          6.345811367034912,
          -1.3612844944000244,
          1.428670883178711,
          3.774306535720825,
          2.375157356262207,
          -0.6290851831436157,
          2.3872745037078857,
          2.961915969848633,
          0.49523764848709106,
          -5.024200916290283,
          4.2758684158325195,
          -2.742462396621704,
          5.366654872894287,
          4.753589153289795,
          3.9058926105499268,
          6.802284240722656,
          1.6036516427993774,
          0.71516352891922,
          4.3752617835998535,
          -2.0498363971710205,
          -0.6477028131484985,
          -1.4267057180404663,
          -4.229301452636719,
          7.046705722808838,
          -2.0996010303497314,
          -4.257772922515869,
          -5.684750556945801,
          0.7323532700538635,
          1.2061518430709839,
          -0.503498375415802,
          -2.7629637718200684,
          -7.489099979400635,
          0.7683382034301758,
          -1.7902692556381226,
          -1.535699725151062,
          -1.5910590887069702,
          -3.043208360671997,
          1.1958212852478027,
          -4.571308612823486,
          1.188165545463562,
          -2.161639928817749,
          -5.125320911407471,
          -2.2593438625335693,
          0.4875831604003906,
          4.324061870574951,
          0.5441803336143494,
          5.655505180358887,
          5.84535551071167,
          6.643567085266113,
          -1.3405357599258423,
          6.575681686401367,
          -1.951256275177002,
          -2.914829730987549,
          -6.228440761566162,
          4.213919162750244,
          -2.3341519832611084,
          4.671230792999268,
          -3.1927919387817383,
          -1.5414332151412964,
          -4.542524337768555,
          -6.082273483276367,
          -3.444315195083618,
          -2.1743953227996826,
          4.694953441619873,
          -0.7638828754425049,
          4.077211380004883,
          -0.42633071541786194,
          6.558691024780273,
          -1.9116945266723633,
          1.467802882194519,
          3.2357888221740723,
          -5.309892177581787,
          -3.662257671356201,
          5.52830696105957,
          -4.4268059730529785,
          0.3518792986869812,
          6.535694599151611,
          -0.2879176139831543,
          5.992993354797363,
          2.192633628845215,
          -1.730272889137268,
          0.4558393061161041,
          -2.556804656982422,
          -4.36836051940918,
          -4.2355828285217285,
          -1.157209873199463,
          2.338834285736084,
          -4.806529998779297,
          -2.2204508781433105,
          -1.4518929719924927,
          -1.5384057760238647,
          5.744544982910156,
          -2.828885078430176,
          0.5390724539756775,
          1.4967963695526123,
          -1.4760808944702148,
          -5.398545265197754,
          1.5931274890899658,
          0.9825785160064697,
          4.1040730476379395,
          -6.1333417892456055,
          -4.777244567871094,
          -4.522954940795898,
          3.9910027980804443,
          -3.2536046504974365,
          -2.221820116043091,
          1.0150963068008423,
          -3.089524269104004,
          4.424225330352783,
          -7.3097357749938965,
          -4.459814071655273,
          -1.232781171798706,
          3.089970111846924,
          -1.1992318630218506,
          -0.5092616081237793,
          6.501389980316162,
          1.688287615776062,
          2.0664455890655518,
          -0.4597315490245819,
          3.704573631286621,
          3.566250801086426,
          4.341838359832764,
          3.587892532348633,
          2.6093132495880127,
          -0.6662589907646179,
          -4.118346214294434,
          -3.180730104446411,
          -1.9431427717208862,
          0.8160912394523621,
          -4.245197772979736,
          6.790600776672363,
          1.5036407709121704,
          5.98641300201416,
          -1.1831846237182617,
          6.0007171630859375,
          -0.7420353293418884,
          6.555514335632324,
          -0.1238803118467331,
          -1.504116415977478,
          0.41817334294319153,
          5.836904525756836,
          4.667653560638428,
          2.595447063446045,
          -1.8073055744171143,
          0.16756410896778107,
          -1.350916862487793,
          7.740405082702637,
          1.803666591644287,
          4.469940662384033,
          -1.194459080696106,
          -3.9833834171295166,
          -5.158589839935303,
          -1.9779902696609497,
          7.081622123718262,
          -3.4885551929473877,
          -1.5399335622787476,
          -2.1040232181549072,
          -2.174361228942871
         ]
        },
        {
         "hovertemplate": "label=mgood<br>tsne_3D_0=%{x}<br>tsne_3D_1=%{y}<br>tsne_3D_2=%{z}<extra></extra>",
         "legendgroup": "mgood",
         "marker": {
          "color": "#EF553B",
          "opacity": 0.5,
          "size": 4,
          "symbol": "circle"
         },
         "mode": "markers",
         "name": "mgood",
         "scene": "scene",
         "showlegend": true,
         "type": "scatter3d",
         "x": [
          -2.3815886974334717,
          0.6998571753501892,
          2.7260336875915527,
          8.66202163696289,
          8.583641052246094,
          -6.772545337677002,
          -0.38490912318229675,
          1.4352329969406128,
          -4.727207660675049,
          -9.192713737487793,
          -5.308943271636963,
          13.13109302520752,
          1.6716336011886597,
          -4.614400863647461,
          13.92542552947998,
          1.5575133562088013,
          -0.19571970403194427,
          12.871479988098145,
          0.9420232772827148,
          6.309113025665283,
          2.6149301528930664,
          1.3891974687576294,
          -2.6112701892852783,
          1.3133840560913086,
          -0.36664897203445435,
          0.16191041469573975,
          -6.460865497589111,
          -6.923483371734619,
          10.864850997924805,
          -1.4945197105407715,
          -3.2352752685546875,
          -3.7321107387542725,
          -9.021286010742188,
          0.683678925037384,
          -3.0625627040863037,
          -3.848626136779785,
          -10.960051536560059,
          1.0728009939193726,
          -4.956177234649658,
          6.903868198394775,
          3.8112118244171143,
          -0.0021605282090604305,
          2.4252824783325195,
          -7.51788330078125,
          -1.8188183307647705,
          -10.107392311096191,
          -1.3593825101852417,
          -7.297303676605225,
          1.444441795349121,
          -5.574317455291748,
          11.485576629638672,
          -3.1835410594940186,
          2.4472312927246094,
          2.5523266792297363,
          13.416657447814941,
          -0.8194445371627808,
          -2.7924718856811523,
          -3.2718825340270996,
          -0.007071719504892826,
          -7.990396022796631,
          4.675386428833008,
          -1.0021144151687622,
          -11.920173645019531,
          -7.840908050537109,
          0.3065415620803833,
          -14.587820053100586,
          -7.124213218688965,
          4.062829971313477,
          -2.9555652141571045,
          -2.955604076385498,
          1.4860126972198486,
          -5.910165309906006,
          0.6708232760429382,
          4.685343265533447,
          -10.338265419006348,
          -0.2149268537759781,
          10.6533842086792,
          -8.026307106018066,
          -2.8060824871063232,
          7.945225715637207,
          -14.20017147064209,
          -2.1173439025878906,
          -6.846383571624756,
          -3.327388048171997,
          -4.814249038696289,
          -3.5657989978790283,
          -5.161327362060547,
          1.8597921133041382,
          -6.585137844085693,
          2.4346923828125,
          2.424208164215088,
          -3.0800869464874268,
          1.8742609024047852,
          1.2239749431610107,
          0.7618494629859924,
          4.299614906311035,
          -0.38188520073890686,
          7.0905070304870605,
          7.090505123138428,
          -3.0545122623443604,
          -3.054535150527954,
          5.632242202758789,
          -1.6755653619766235,
          5.06396484375,
          5.191243648529053
         ],
         "y": [
          8.990409851074219,
          1.434302568435669,
          3.4984452724456787,
          0.2991410493850708,
          -3.061969757080078,
          -9.97945499420166,
          -4.569342613220215,
          -8.267769813537598,
          -11.864218711853027,
          2.04270601272583,
          10.494461059570312,
          1.7910319566726685,
          -11.057171821594238,
          6.545653343200684,
          1.0021007061004639,
          -4.288407802581787,
          0.42454367876052856,
          0.6768313646316528,
          -2.8223748207092285,
          -2.841489791870117,
          -10.97719955444336,
          -8.364741325378418,
          -1.8057154417037964,
          6.021185874938965,
          -8.824773788452148,
          5.148744583129883,
          4.928791046142578,
          -8.453068733215332,
          -1.38356351852417,
          -10.607504844665527,
          2.718703269958496,
          5.280947685241699,
          -1.4359713792800903,
          -6.230310440063477,
          -5.996483325958252,
          -1.033152461051941,
          -7.286994457244873,
          9.435977935791016,
          -4.274620532989502,
          -6.9541473388671875,
          5.732677936553955,
          6.135168075561523,
          -9.242449760437012,
          -9.853041648864746,
          -8.693467140197754,
          -4.098320484161377,
          7.706416606903076,
          10.562228202819824,
          -8.241743087768555,
          -4.24423360824585,
          1.082248330116272,
          -5.750693321228027,
          6.040656566619873,
          -8.477887153625488,
          -0.6702504754066467,
          2.9905893802642822,
          -9.594826698303223,
          -4.694874286651611,
          -2.92787504196167,
          -3.5586650371551514,
          -5.279672145843506,
          -5.368974208831787,
          -3.065530776977539,
          -5.470524311065674,
          -10.890782356262207,
          -5.3313069343566895,
          4.578412055969238,
          -9.133722305297852,
          6.276490211486816,
          6.276450157165527,
          9.067605018615723,
          -8.799416542053223,
          -8.324746131896973,
          5.989377498626709,
          -4.3626790046691895,
          -10.534231185913086,
          -2.0078907012939453,
          -4.581882953643799,
          -9.616096496582031,
          -5.57988166809082,
          0.38553011417388916,
          -3.0494558811187744,
          -3.4153456687927246,
          -5.6179890632629395,
          -11.773594856262207,
          -4.655354022979736,
          -8.192878723144531,
          -7.393155574798584,
          1.7440598011016846,
          8.096708297729492,
          -11.857802391052246,
          -4.841430187225342,
          -10.965396881103516,
          4.131582736968994,
          -9.891868591308594,
          5.070957183837891,
          -3.161222219467163,
          -0.3789069652557373,
          -0.37890657782554626,
          7.484199047088623,
          7.484218597412109,
          -7.434869766235352,
          -8.703725814819336,
          0.898787796497345,
          -8.910202980041504
         ],
         "z": [
          -2.1312434673309326,
          6.850771903991699,
          -0.9135608077049255,
          1.9848488569259644,
          1.337290644645691,
          -1.6894632577896118,
          7.024755954742432,
          0.7588187456130981,
          -4.872973442077637,
          1.3885526657104492,
          0.45991161465644836,
          -2.1367013454437256,
          -2.604039430618286,
          1.0123485326766968,
          -2.8573429584503174,
          -4.3296217918396,
          3.5766420364379883,
          1.1988909244537354,
          2.186408519744873,
          -4.1904473304748535,
          -4.390536308288574,
          0.6993054747581482,
          -0.19552840292453766,
          -4.667492389678955,
          1.4449180364608765,
          -2.7798373699188232,
          2.730648994445801,
          -7.3041863441467285,
          3.402498245239258,
          -5.599333763122559,
          -0.5104820132255554,
          1.2611517906188965,
          6.782217025756836,
          0.6477033495903015,
          -4.696619987487793,
          -7.622942924499512,
          0.28464803099632263,
          0.550894021987915,
          5.464008331298828,
          -5.647854804992676,
          0.1517501324415207,
          -0.6529938578605652,
          -1.0586028099060059,
          -2.4842488765716553,
          -6.19849967956543,
          2.9679489135742188,
          0.4110395312309265,
          -0.23673830926418304,
          0.5966553688049316,
          6.707155704498291,
          -1.3496404886245728,
          3.6125481128692627,
          -2.682842969894409,
          -3.564753293991089,
          -0.24343818426132202,
          -4.140279293060303,
          -8.709644317626953,
          1.8198044300079346,
          5.648196697235107,
          -1.5856913328170776,
          -3.1837620735168457,
          2.1325013637542725,
          -1.960933804512024,
          -0.48104196786880493,
          -3.838629961013794,
          -3.1867852210998535,
          1.6516952514648438,
          -2.2446396350860596,
          -0.13943958282470703,
          -0.13932791352272034,
          -2.639519453048706,
          -1.823652982711792,
          -3.5650880336761475,
          -5.900013446807861,
          -0.5320592522621155,
          -6.246685028076172,
          1.251392126083374,
          -3.0357844829559326,
          -8.742949485778809,
          -0.09767208993434906,
          -5.8350443840026855,
          1.7962168455123901,
          -2.446148157119751,
          5.427780628204346,
          0.04293321073055267,
          -2.995009422302246,
          -6.716383934020996,
          3.49839448928833,
          -3.748411178588867,
          -1.6342790126800537,
          -2.9809577465057373,
          -3.060196876525879,
          -2.118804454803467,
          -4.9165215492248535,
          -5.72628116607666,
          -0.641667902469635,
          6.883660793304443,
          -0.6445368528366089,
          -0.6445236802101135,
          -3.460102081298828,
          -3.4601008892059326,
          -6.489772319793701,
          -5.895626544952393,
          -0.5248279571533203,
          -3.4489214420318604
         ]
        },
        {
         "hovertemplate": "label=mbad<br>tsne_3D_0=%{x}<br>tsne_3D_1=%{y}<br>tsne_3D_2=%{z}<extra></extra>",
         "legendgroup": "mbad",
         "marker": {
          "color": "#00cc96",
          "opacity": 0.5,
          "size": 4,
          "symbol": "circle"
         },
         "mode": "markers",
         "name": "mbad",
         "scene": "scene",
         "showlegend": true,
         "type": "scatter3d",
         "x": [
          6.6072587966918945,
          2.842852830886841,
          -5.1388044357299805,
          -2.0127878189086914,
          6.903886318206787,
          -2.6714494228363037,
          9.580789566040039,
          4.266450881958008,
          12.130093574523926,
          5.171182632446289,
          -1.8971407413482666,
          11.007803916931152,
          10.674139022827148,
          -2.0403201580047607,
          -4.057031154632568,
          11.5686674118042,
          -12.822978019714355,
          10.346946716308594,
          6.61137580871582,
          2.1259500980377197,
          -1.3984627723693848,
          5.235306739807129,
          7.522182941436768,
          3.9044179916381836,
          -4.200043201446533,
          4.304254055023193,
          6.346782684326172,
          5.261561393737793,
          1.4959827661514282,
          4.219292163848877,
          -8.636334419250488,
          11.524471282958984,
          -15.098628997802734,
          9.997044563293457,
          6.568027019500732,
          12.393040657043457,
          8.241147994995117,
          6.045483112335205,
          7.634029865264893,
          7.643197536468506,
          3.4246764183044434,
          11.954415321350098,
          10.858951568603516,
          7.736026763916016,
          5.0976691246032715,
          -6.356210708618164,
          10.389266014099121,
          8.108956336975098,
          4.391909599304199,
          7.014124393463135,
          4.65168571472168,
          7.870038986206055,
          9.746121406555176,
          -1.932153344154358,
          10.446088790893555,
          12.591632843017578,
          4.8878326416015625,
          6.3295207023620605,
          -0.21371692419052124,
          2.93564510345459,
          8.279385566711426,
          9.317468643188477,
          0.5253885984420776,
          14.110106468200684,
          7.445949077606201,
          6.878752708435059,
          8.908920288085938,
          11.21570873260498,
          11.625840187072754,
          11.603449821472168,
          12.959343910217285,
          11.396831512451172,
          6.03394889831543,
          3.022951126098633,
          7.099268913269043,
          0.26199889183044434,
          11.771409034729004,
          6.782258987426758,
          7.921432018280029,
          6.713454723358154,
          7.889733791351318,
          6.555058002471924,
          -2.834181785583496,
          7.3349480628967285,
          8.056877136230469,
          4.08285665512085,
          4.799123764038086,
          8.854644775390625,
          -3.233614206314087,
          7.485456466674805,
          5.671732425689697,
          3.9707720279693604,
          12.624750137329102,
          8.399551391601562,
          8.760748863220215,
          -1.3147386312484741,
          10.122167587280273,
          11.301283836364746,
          2.4058454036712646,
          12.644804954528809,
          8.52666187286377,
          9.255256652832031,
          6.302245616912842,
          10.613158226013184,
          11.850801467895508,
          11.06773853302002,
          7.902172565460205,
          -7.534043312072754,
          11.398344039916992,
          0.7752342224121094,
          6.975260257720947,
          6.3325676918029785,
          6.332609176635742,
          11.684971809387207,
          10.322402954101562,
          10.075446128845215,
          6.146363735198975,
          9.680182456970215
         ],
         "y": [
          -1.2768957614898682,
          -4.845955848693848,
          7.8149213790893555,
          -6.823855876922607,
          -3.0008468627929688,
          -3.78920316696167,
          -3.7650070190429688,
          -6.936868667602539,
          -5.791935443878174,
          0.1629212349653244,
          -8.673288345336914,
          -6.560694694519043,
          -1.5363205671310425,
          -6.7853288650512695,
          -8.226972579956055,
          -3.1921913623809814,
          0.8999443650245667,
          -5.601700305938721,
          -6.907041072845459,
          0.2973138391971588,
          -11.545144081115723,
          -0.7588009238243103,
          -4.964986324310303,
          -0.09245558828115463,
          -9.219343185424805,
          -6.4515228271484375,
          -7.842156410217285,
          1.2371317148208618,
          -8.78260612487793,
          -5.38425350189209,
          -9.442511558532715,
          -2.4699149131774902,
          -2.883746385574341,
          -6.276068210601807,
          0.39302393794059753,
          -1.1870189905166626,
          -3.9805030822753906,
          1.6662217378616333,
          -4.07598876953125,
          -7.208630561828613,
          -4.465171813964844,
          -4.537977695465088,
          -2.020843267440796,
          -8.124626159667969,
          -9.433223724365234,
          -9.14593505859375,
          -5.816191673278809,
          -3.6365888118743896,
          -9.453131675720215,
          2.5296072959899902,
          -6.713756084442139,
          -7.625092506408691,
          -3.0684354305267334,
          -8.520126342773438,
          -3.4718282222747803,
          -1.3602484464645386,
          -9.474637985229492,
          -6.880011558532715,
          -11.466970443725586,
          -5.140051364898682,
          -7.106198310852051,
          -2.749892234802246,
          4.560083389282227,
          -1.7419679164886475,
          -9.979693412780762,
          2.229630708694458,
          -4.023344039916992,
          -2.758685827255249,
          -5.355961322784424,
          -5.631951808929443,
          -4.957701683044434,
          -6.762319564819336,
          -6.410950660705566,
          -2.0161783695220947,
          -7.998953819274902,
          -1.3041682243347168,
          -4.885260105133057,
          -8.869767189025879,
          -2.06847882270813,
          -3.1549785137176514,
          -6.494537353515625,
          -1.1014610528945923,
          -10.032641410827637,
          -5.462109565734863,
          -2.5746009349823,
          -4.725711345672607,
          -3.5043792724609375,
          -4.277803897857666,
          -8.074798583984375,
          -0.0825282409787178,
          -1.6178497076034546,
          -5.673264026641846,
          -2.0625150203704834,
          0.14491745829582214,
          -4.505481243133545,
          -8.75069808959961,
          -0.07753288745880127,
          -3.8644115924835205,
          -2.8266079425811768,
          2.9315547943115234,
          -2.5773708820343018,
          -4.290904521942139,
          -4.5144829750061035,
          -2.6122474670410156,
          -3.9428555965423584,
          -5.467627048492432,
          -2.986680030822754,
          -4.89394474029541,
          -0.72506183385849,
          -6.034539222717285,
          -1.1931225061416626,
          -6.045149326324463,
          -6.045187473297119,
          -5.386744499206543,
          -5.766982555389404,
          0.6404352188110352,
          -9.09754753112793,
          -6.629946708679199
         ],
         "z": [
          3.0235414505004883,
          -1.567568063735962,
          -2.738091468811035,
          -2.3939313888549805,
          3.4805591106414795,
          1.8667713403701782,
          -0.6355519890785217,
          0.3277968764305115,
          1.6580973863601685,
          0.5311009287834167,
          -10.172173500061035,
          -1.767214298248291,
          3.492649555206299,
          1.3933148384094238,
          -9.120896339416504,
          -2.207117795944214,
          -2.7564010620117188,
          -1.1167227029800415,
          1.0129210948944092,
          1.8982256650924683,
          -7.035337924957275,
          -0.4282819628715515,
          1.5911520719528198,
          7.29465913772583,
          -5.434898853302002,
          3.0193636417388916,
          3.147998332977295,
          0.9324780106544495,
          -6.757721900939941,
          1.9685957431793213,
          -4.662830352783203,
          0.28316572308540344,
          -2.1148667335510254,
          -1.1459968090057373,
          3.9496779441833496,
          -1.4457471370697021,
          1.3158905506134033,
          0.6031512022018433,
          1.752275824546814,
          0.19122429192066193,
          3.9310503005981445,
          -3.6914830207824707,
          -1.70658278465271,
          0.11137735843658447,
          -4.54238748550415,
          -6.529017925262451,
          -0.9962515234947205,
          3.8938486576080322,
          -3.31912899017334,
          -4.79180908203125,
          3.2812068462371826,
          0.4682302474975586,
          -0.8540991544723511,
          -10.28805160522461,
          0.5381175875663757,
          -1.690780758857727,
          -3.5855185985565186,
          1.2124969959259033,
          -9.249948501586914,
          5.183310508728027,
          -1.7166224718093872,
          1.2350093126296997,
          -6.6670308113098145,
          -2.3262274265289307,
          -1.8605693578720093,
          -4.709871292114258,
          1.1627390384674072,
          2.1943540573120117,
          -3.836357593536377,
          0.16517120599746704,
          -2.7348389625549316,
          -0.07666874676942825,
          1.6340982913970947,
          4.885746002197266,
          0.47873684763908386,
          2.1195805072784424,
          -2.918417453765869,
          -1.6663591861724854,
          2.8847007751464844,
          4.591719627380371,
          -2.4550132751464844,
          4.486359119415283,
          -9.13298511505127,
          -0.5542837977409363,
          1.7516173124313354,
          -3.961496353149414,
          4.06724214553833,
          -0.6436069011688232,
          -8.615130424499512,
          3.544379472732544,
          2.1999945640563965,
          2.4256155490875244,
          -2.9554526805877686,
          2.858213186264038,
          3.3224055767059326,
          -5.96880578994751,
          -1.9455548524856567,
          -0.5576757788658142,
          -4.73967981338501,
          -1.596711277961731,
          1.8030648231506348,
          2.184840440750122,
          -6.3605194091796875,
          0.8948018550872803,
          -2.21924090385437,
          -3.4176735877990723,
          -0.9516966938972473,
          -4.212405681610107,
          -2.4670794010162354,
          0.4561511278152466,
          3.1181371212005615,
          0.9584558010101318,
          0.9584172368049622,
          -4.059791564941406,
          -0.1666014939546585,
          -1.84401273727417,
          -1.0385925769805908,
          -0.8045713901519775
         ]
        },
        {
         "hovertemplate": "label=bad<br>tsne_3D_0=%{x}<br>tsne_3D_1=%{y}<br>tsne_3D_2=%{z}<extra></extra>",
         "legendgroup": "bad",
         "marker": {
          "color": "#ab63fa",
          "opacity": 0.5,
          "size": 4,
          "symbol": "circle"
         },
         "mode": "markers",
         "name": "bad",
         "scene": "scene",
         "showlegend": true,
         "type": "scatter3d",
         "x": [
          4.498388767242432,
          5.172489643096924,
          0.21172942221164703,
          10.704171180725098,
          5.144685745239258,
          12.626797676086426,
          -12.871332168579102,
          5.063435077667236,
          9.72993278503418,
          -0.9948219656944275,
          11.928181648254395,
          8.837579727172852,
          8.612607955932617,
          -5.368649005889893,
          9.886819839477539,
          6.587587833404541,
          7.877274036407471,
          2.5298092365264893,
          8.812906265258789,
          10.65368938446045,
          11.806408882141113,
          10.556828498840332,
          8.52769947052002,
          7.495969772338867,
          11.606417655944824,
          11.145988464355469,
          4.6868791580200195,
          -3.341658592224121,
          7.705512523651123,
          11.144609451293945,
          0.9519208073616028,
          8.050233840942383,
          12.575240135192871,
          -5.527678489685059,
          9.819340705871582,
          0.5053365230560303,
          12.29695987701416,
          13.818219184875488,
          11.818485260009766,
          10.007308959960938,
          10.939159393310547,
          6.153584003448486,
          11.38162612915039,
          8.790730476379395,
          11.765192031860352,
          4.690749645233154,
          -2.9769461154937744,
          -4.878457546234131,
          12.045172691345215,
          12.099802017211914,
          3.1268558502197266,
          6.337978839874268,
          9.470633506774902,
          10.563627243041992,
          12.433485984802246,
          6.5893964767456055,
          2.1603245735168457,
          10.387751579284668,
          8.697175025939941,
          10.905867576599121,
          9.131574630737305,
          -3.70135498046875,
          9.239022254943848,
          9.713132858276367,
          -2.7287750244140625,
          10.646199226379395,
          7.036978244781494,
          1.7515392303466797,
          12.353784561157227,
          3.4951694011688232,
          11.716931343078613,
          11.261348724365234,
          8.937674522399902,
          10.6494779586792,
          3.949371576309204,
          10.700623512268066,
          6.442267894744873,
          11.589305877685547,
          6.487894058227539,
          11.606196403503418,
          9.56008529663086,
          8.54836368560791,
          8.744925498962402,
          6.50166654586792
         ],
         "y": [
          -3.3788907527923584,
          -0.5235440135002136,
          -9.455538749694824,
          -6.238415718078613,
          -8.024115562438965,
          -4.147183418273926,
          -6.302506446838379,
          0.3475787043571472,
          -5.381607532501221,
          -9.049236297607422,
          -0.43341031670570374,
          -5.441296577453613,
          -3.6373744010925293,
          -8.404670715332031,
          -2.423614263534546,
          -6.333903789520264,
          2.4040093421936035,
          -2.6174168586730957,
          -1.4951446056365967,
          -1.4462239742279053,
          -0.37362152338027954,
          -1.6792182922363281,
          -3.997256278991699,
          -5.9122819900512695,
          0.15494389832019806,
          -1.7605701684951782,
          -3.65134334564209,
          12.967926025390625,
          -7.45218563079834,
          -1.1100229024887085,
          1.4313268661499023,
          -6.867635250091553,
          -5.685943126678467,
          4.296702861785889,
          -5.637233257293701,
          2.8724706172943115,
          -1.8783705234527588,
          -1.3349227905273438,
          -0.36805516481399536,
          -3.3489909172058105,
          -4.848496437072754,
          -7.858038902282715,
          -2.278374671936035,
          -1.8911397457122803,
          -1.0968207120895386,
          -6.1006317138671875,
          -6.334141731262207,
          -1.0837373733520508,
          -4.59138298034668,
          -4.106412887573242,
          -11.09617805480957,
          -0.14283952116966248,
          -6.457145690917969,
          -3.9788897037506104,
          -1.9220703840255737,
          -6.257134437561035,
          1.5264637470245361,
          -2.685579776763916,
          -1.2779014110565186,
          -3.371112108230591,
          -4.020888805389404,
          -1.485461711883545,
          -5.58068323135376,
          -7.226432800292969,
          -10.518499374389648,
          -2.5252039432525635,
          -4.753277778625488,
          -5.174703598022461,
          -2.0413594245910645,
          1.7982392311096191,
          -2.277055501937866,
          -1.2141656875610352,
          -5.926002025604248,
          0.39760223031044006,
          -3.95888352394104,
          -0.9310966730117798,
          -8.325650215148926,
          -4.11093807220459,
          -8.996566772460938,
          -0.8161132335662842,
          -0.22076398134231567,
          0.1974872201681137,
          -8.058175086975098,
          -3.105827569961548
         ],
         "z": [
          -1.0416804552078247,
          0.0482463575899601,
          0.2251359224319458,
          -0.47392067313194275,
          3.490804433822632,
          -2.9658689498901367,
          -0.7781462669372559,
          1.9911298751831055,
          -0.19187942147254944,
          -5.988821029663086,
          3.536198139190674,
          3.070237636566162,
          3.2581326961517334,
          -5.247124195098877,
          -0.08660911023616791,
          1.2407972812652588,
          -0.012843196280300617,
          -4.7229838371276855,
          -1.4993388652801514,
          5.213984489440918,
          -3.673780679702759,
          5.373981952667236,
          3.45473051071167,
          -0.6498456597328186,
          0.5941482782363892,
          2.474771499633789,
          3.440535306930542,
          -0.07447284460067749,
          -4.415338039398193,
          5.466837406158447,
          2.838674783706665,
          -1.1482068300247192,
          2.642787218093872,
          -1.3402944803237915,
          0.7639468312263489,
          3.0633509159088135,
          -3.040050983428955,
          -0.33070531487464905,
          -3.632286548614502,
          -1.5477941036224365,
          -2.1927828788757324,
          3.195513963699341,
          0.4424082636833191,
          -1.4112988710403442,
          -3.6359798908233643,
          3.6400482654571533,
          -1.4966663122177124,
          3.4469187259674072,
          -2.745023250579834,
          -0.6188969016075134,
          -4.58493709564209,
          5.603643417358398,
          -0.9573500156402588,
          0.3094347417354584,
          -2.5395233631134033,
          -1.6185764074325562,
          3.3607547283172607,
          1.3475505113601685,
          1.9135750532150269,
          1.2226269245147705,
          4.436212539672852,
          -0.8912439942359924,
          3.1915571689605713,
          0.1853974312543869,
          -9.109692573547363,
          0.9778309464454651,
          -1.229278564453125,
          3.9468443393707275,
          2.820833683013916,
          6.159438610076904,
          3.2138848304748535,
          -2.2709908485412598,
          -0.044885896146297455,
          -2.941009521484375,
          2.8008480072021484,
          3.662306785583496,
          -5.531157493591309,
          -1.5056101083755493,
          -1.4934055805206299,
          3.9256513118743896,
          0.7077990174293518,
          2.2326085567474365,
          -1.6249834299087524,
          4.604362964630127
         ]
        }
       ],
       "layout": {
        "legend": {
         "title": {
          "text": "label"
         },
         "tracegroupgap": 0
        },
        "scene": {
         "camera": {
          "eye": {
           "x": 0.9,
           "y": 0.9,
           "z": 0.9
          }
         },
         "domain": {
          "x": [
           0,
           1
          ],
          "y": [
           0,
           1
          ]
         },
         "xaxis": {
          "title": {
           "text": "tsne_3D_0"
          }
         },
         "yaxis": {
          "title": {
           "text": "tsne_3D_1"
          }
         },
         "zaxis": {
          "title": {
           "text": "tsne_3D_2"
          }
         }
        },
        "template": {
         "data": {
          "bar": [
           {
            "error_x": {
             "color": "#2a3f5f"
            },
            "error_y": {
             "color": "#2a3f5f"
            },
            "marker": {
             "line": {
              "color": "#E5ECF6",
              "width": 0.5
             },
             "pattern": {
              "fillmode": "overlay",
              "size": 10,
              "solidity": 0.2
             }
            },
            "type": "bar"
           }
          ],
          "barpolar": [
           {
            "marker": {
             "line": {
              "color": "#E5ECF6",
              "width": 0.5
             },
             "pattern": {
              "fillmode": "overlay",
              "size": 10,
              "solidity": 0.2
             }
            },
            "type": "barpolar"
           }
          ],
          "carpet": [
           {
            "aaxis": {
             "endlinecolor": "#2a3f5f",
             "gridcolor": "white",
             "linecolor": "white",
             "minorgridcolor": "white",
             "startlinecolor": "#2a3f5f"
            },
            "baxis": {
             "endlinecolor": "#2a3f5f",
             "gridcolor": "white",
             "linecolor": "white",
             "minorgridcolor": "white",
             "startlinecolor": "#2a3f5f"
            },
            "type": "carpet"
           }
          ],
          "choropleth": [
           {
            "colorbar": {
             "outlinewidth": 0,
             "ticks": ""
            },
            "type": "choropleth"
           }
          ],
          "contour": [
           {
            "colorbar": {
             "outlinewidth": 0,
             "ticks": ""
            },
            "colorscale": [
             [
              0,
              "#0d0887"
             ],
             [
              0.1111111111111111,
              "#46039f"
             ],
             [
              0.2222222222222222,
              "#7201a8"
             ],
             [
              0.3333333333333333,
              "#9c179e"
             ],
             [
              0.4444444444444444,
              "#bd3786"
             ],
             [
              0.5555555555555556,
              "#d8576b"
             ],
             [
              0.6666666666666666,
              "#ed7953"
             ],
             [
              0.7777777777777778,
              "#fb9f3a"
             ],
             [
              0.8888888888888888,
              "#fdca26"
             ],
             [
              1,
              "#f0f921"
             ]
            ],
            "type": "contour"
           }
          ],
          "contourcarpet": [
           {
            "colorbar": {
             "outlinewidth": 0,
             "ticks": ""
            },
            "type": "contourcarpet"
           }
          ],
          "heatmap": [
           {
            "colorbar": {
             "outlinewidth": 0,
             "ticks": ""
            },
            "colorscale": [
             [
              0,
              "#0d0887"
             ],
             [
              0.1111111111111111,
              "#46039f"
             ],
             [
              0.2222222222222222,
              "#7201a8"
             ],
             [
              0.3333333333333333,
              "#9c179e"
             ],
             [
              0.4444444444444444,
              "#bd3786"
             ],
             [
              0.5555555555555556,
              "#d8576b"
             ],
             [
              0.6666666666666666,
              "#ed7953"
             ],
             [
              0.7777777777777778,
              "#fb9f3a"
             ],
             [
              0.8888888888888888,
              "#fdca26"
             ],
             [
              1,
              "#f0f921"
             ]
            ],
            "type": "heatmap"
           }
          ],
          "heatmapgl": [
           {
            "colorbar": {
             "outlinewidth": 0,
             "ticks": ""
            },
            "colorscale": [
             [
              0,
              "#0d0887"
             ],
             [
              0.1111111111111111,
              "#46039f"
             ],
             [
              0.2222222222222222,
              "#7201a8"
             ],
             [
              0.3333333333333333,
              "#9c179e"
             ],
             [
              0.4444444444444444,
              "#bd3786"
             ],
             [
              0.5555555555555556,
              "#d8576b"
             ],
             [
              0.6666666666666666,
              "#ed7953"
             ],
             [
              0.7777777777777778,
              "#fb9f3a"
             ],
             [
              0.8888888888888888,
              "#fdca26"
             ],
             [
              1,
              "#f0f921"
             ]
            ],
            "type": "heatmapgl"
           }
          ],
          "histogram": [
           {
            "marker": {
             "pattern": {
              "fillmode": "overlay",
              "size": 10,
              "solidity": 0.2
             }
            },
            "type": "histogram"
           }
          ],
          "histogram2d": [
           {
            "colorbar": {
             "outlinewidth": 0,
             "ticks": ""
            },
            "colorscale": [
             [
              0,
              "#0d0887"
             ],
             [
              0.1111111111111111,
              "#46039f"
             ],
             [
              0.2222222222222222,
              "#7201a8"
             ],
             [
              0.3333333333333333,
              "#9c179e"
             ],
             [
              0.4444444444444444,
              "#bd3786"
             ],
             [
              0.5555555555555556,
              "#d8576b"
             ],
             [
              0.6666666666666666,
              "#ed7953"
             ],
             [
              0.7777777777777778,
              "#fb9f3a"
             ],
             [
              0.8888888888888888,
              "#fdca26"
             ],
             [
              1,
              "#f0f921"
             ]
            ],
            "type": "histogram2d"
           }
          ],
          "histogram2dcontour": [
           {
            "colorbar": {
             "outlinewidth": 0,
             "ticks": ""
            },
            "colorscale": [
             [
              0,
              "#0d0887"
             ],
             [
              0.1111111111111111,
              "#46039f"
             ],
             [
              0.2222222222222222,
              "#7201a8"
             ],
             [
              0.3333333333333333,
              "#9c179e"
             ],
             [
              0.4444444444444444,
              "#bd3786"
             ],
             [
              0.5555555555555556,
              "#d8576b"
             ],
             [
              0.6666666666666666,
              "#ed7953"
             ],
             [
              0.7777777777777778,
              "#fb9f3a"
             ],
             [
              0.8888888888888888,
              "#fdca26"
             ],
             [
              1,
              "#f0f921"
             ]
            ],
            "type": "histogram2dcontour"
           }
          ],
          "mesh3d": [
           {
            "colorbar": {
             "outlinewidth": 0,
             "ticks": ""
            },
            "type": "mesh3d"
           }
          ],
          "parcoords": [
           {
            "line": {
             "colorbar": {
              "outlinewidth": 0,
              "ticks": ""
             }
            },
            "type": "parcoords"
           }
          ],
          "pie": [
           {
            "automargin": true,
            "type": "pie"
           }
          ],
          "scatter": [
           {
            "fillpattern": {
             "fillmode": "overlay",
             "size": 10,
             "solidity": 0.2
            },
            "type": "scatter"
           }
          ],
          "scatter3d": [
           {
            "line": {
             "colorbar": {
              "outlinewidth": 0,
              "ticks": ""
             }
            },
            "marker": {
             "colorbar": {
              "outlinewidth": 0,
              "ticks": ""
             }
            },
            "type": "scatter3d"
           }
          ],
          "scattercarpet": [
           {
            "marker": {
             "colorbar": {
              "outlinewidth": 0,
              "ticks": ""
             }
            },
            "type": "scattercarpet"
           }
          ],
          "scattergeo": [
           {
            "marker": {
             "colorbar": {
              "outlinewidth": 0,
              "ticks": ""
             }
            },
            "type": "scattergeo"
           }
          ],
          "scattergl": [
           {
            "marker": {
             "colorbar": {
              "outlinewidth": 0,
              "ticks": ""
             }
            },
            "type": "scattergl"
           }
          ],
          "scattermapbox": [
           {
            "marker": {
             "colorbar": {
              "outlinewidth": 0,
              "ticks": ""
             }
            },
            "type": "scattermapbox"
           }
          ],
          "scatterpolar": [
           {
            "marker": {
             "colorbar": {
              "outlinewidth": 0,
              "ticks": ""
             }
            },
            "type": "scatterpolar"
           }
          ],
          "scatterpolargl": [
           {
            "marker": {
             "colorbar": {
              "outlinewidth": 0,
              "ticks": ""
             }
            },
            "type": "scatterpolargl"
           }
          ],
          "scatterternary": [
           {
            "marker": {
             "colorbar": {
              "outlinewidth": 0,
              "ticks": ""
             }
            },
            "type": "scatterternary"
           }
          ],
          "surface": [
           {
            "colorbar": {
             "outlinewidth": 0,
             "ticks": ""
            },
            "colorscale": [
             [
              0,
              "#0d0887"
             ],
             [
              0.1111111111111111,
              "#46039f"
             ],
             [
              0.2222222222222222,
              "#7201a8"
             ],
             [
              0.3333333333333333,
              "#9c179e"
             ],
             [
              0.4444444444444444,
              "#bd3786"
             ],
             [
              0.5555555555555556,
              "#d8576b"
             ],
             [
              0.6666666666666666,
              "#ed7953"
             ],
             [
              0.7777777777777778,
              "#fb9f3a"
             ],
             [
              0.8888888888888888,
              "#fdca26"
             ],
             [
              1,
              "#f0f921"
             ]
            ],
            "type": "surface"
           }
          ],
          "table": [
           {
            "cells": {
             "fill": {
              "color": "#EBF0F8"
             },
             "line": {
              "color": "white"
             }
            },
            "header": {
             "fill": {
              "color": "#C8D4E3"
             },
             "line": {
              "color": "white"
             }
            },
            "type": "table"
           }
          ]
         },
         "layout": {
          "annotationdefaults": {
           "arrowcolor": "#2a3f5f",
           "arrowhead": 0,
           "arrowwidth": 1
          },
          "autotypenumbers": "strict",
          "coloraxis": {
           "colorbar": {
            "outlinewidth": 0,
            "ticks": ""
           }
          },
          "colorscale": {
           "diverging": [
            [
             0,
             "#8e0152"
            ],
            [
             0.1,
             "#c51b7d"
            ],
            [
             0.2,
             "#de77ae"
            ],
            [
             0.3,
             "#f1b6da"
            ],
            [
             0.4,
             "#fde0ef"
            ],
            [
             0.5,
             "#f7f7f7"
            ],
            [
             0.6,
             "#e6f5d0"
            ],
            [
             0.7,
             "#b8e186"
            ],
            [
             0.8,
             "#7fbc41"
            ],
            [
             0.9,
             "#4d9221"
            ],
            [
             1,
             "#276419"
            ]
           ],
           "sequential": [
            [
             0,
             "#0d0887"
            ],
            [
             0.1111111111111111,
             "#46039f"
            ],
            [
             0.2222222222222222,
             "#7201a8"
            ],
            [
             0.3333333333333333,
             "#9c179e"
            ],
            [
             0.4444444444444444,
             "#bd3786"
            ],
            [
             0.5555555555555556,
             "#d8576b"
            ],
            [
             0.6666666666666666,
             "#ed7953"
            ],
            [
             0.7777777777777778,
             "#fb9f3a"
            ],
            [
             0.8888888888888888,
             "#fdca26"
            ],
            [
             1,
             "#f0f921"
            ]
           ],
           "sequentialminus": [
            [
             0,
             "#0d0887"
            ],
            [
             0.1111111111111111,
             "#46039f"
            ],
            [
             0.2222222222222222,
             "#7201a8"
            ],
            [
             0.3333333333333333,
             "#9c179e"
            ],
            [
             0.4444444444444444,
             "#bd3786"
            ],
            [
             0.5555555555555556,
             "#d8576b"
            ],
            [
             0.6666666666666666,
             "#ed7953"
            ],
            [
             0.7777777777777778,
             "#fb9f3a"
            ],
            [
             0.8888888888888888,
             "#fdca26"
            ],
            [
             1,
             "#f0f921"
            ]
           ]
          },
          "colorway": [
           "#636efa",
           "#EF553B",
           "#00cc96",
           "#ab63fa",
           "#FFA15A",
           "#19d3f3",
           "#FF6692",
           "#B6E880",
           "#FF97FF",
           "#FECB52"
          ],
          "font": {
           "color": "#2a3f5f"
          },
          "geo": {
           "bgcolor": "white",
           "lakecolor": "white",
           "landcolor": "#E5ECF6",
           "showlakes": true,
           "showland": true,
           "subunitcolor": "white"
          },
          "hoverlabel": {
           "align": "left"
          },
          "hovermode": "closest",
          "mapbox": {
           "style": "light"
          },
          "paper_bgcolor": "white",
          "plot_bgcolor": "#E5ECF6",
          "polar": {
           "angularaxis": {
            "gridcolor": "white",
            "linecolor": "white",
            "ticks": ""
           },
           "bgcolor": "#E5ECF6",
           "radialaxis": {
            "gridcolor": "white",
            "linecolor": "white",
            "ticks": ""
           }
          },
          "scene": {
           "xaxis": {
            "backgroundcolor": "#E5ECF6",
            "gridcolor": "white",
            "gridwidth": 2,
            "linecolor": "white",
            "showbackground": true,
            "ticks": "",
            "zerolinecolor": "white"
           },
           "yaxis": {
            "backgroundcolor": "#E5ECF6",
            "gridcolor": "white",
            "gridwidth": 2,
            "linecolor": "white",
            "showbackground": true,
            "ticks": "",
            "zerolinecolor": "white"
           },
           "zaxis": {
            "backgroundcolor": "#E5ECF6",
            "gridcolor": "white",
            "gridwidth": 2,
            "linecolor": "white",
            "showbackground": true,
            "ticks": "",
            "zerolinecolor": "white"
           }
          },
          "shapedefaults": {
           "line": {
            "color": "#2a3f5f"
           }
          },
          "ternary": {
           "aaxis": {
            "gridcolor": "white",
            "linecolor": "white",
            "ticks": ""
           },
           "baxis": {
            "gridcolor": "white",
            "linecolor": "white",
            "ticks": ""
           },
           "bgcolor": "#E5ECF6",
           "caxis": {
            "gridcolor": "white",
            "linecolor": "white",
            "ticks": ""
           }
          },
          "title": {
           "x": 0.05
          },
          "xaxis": {
           "automargin": true,
           "gridcolor": "white",
           "linecolor": "white",
           "ticks": "",
           "title": {
            "standoff": 15
           },
           "zerolinecolor": "white",
           "zerolinewidth": 2
          },
          "yaxis": {
           "automargin": true,
           "gridcolor": "white",
           "linecolor": "white",
           "ticks": "",
           "title": {
            "standoff": 15
           },
           "zerolinecolor": "white",
           "zerolinewidth": 2
          }
         }
        },
        "title": {
         "text": "t-SNE embeddings of reviews"
        }
       }
      }
     },
     "metadata": {},
     "output_type": "display_data"
    }
   ],
   "source": [
    "# ignore PerformanceWarning\n",
    "import warnings\n",
    "from pandas.errors import PerformanceWarning\n",
    "warnings.filterwarnings(\"ignore\", category=PerformanceWarning)\n",
    "\n",
    "embeddings_df = pd.DataFrame()\n",
    "embeddings_df[\"review_id\"] = df.review_id\n",
    "embeddings_df[\"label\"] = df.label\n",
    "embeddings_df = embeddings_features(embeddings_df, col=\"comments\")\n",
    "\n",
    "# apply tsne to reduce to `dims` dimensions\n",
    "dims = 3\n",
    "embd_df = tsne_features(embeddings_df.drop(columns=[\"review_id\", \"label\"], axis=1), dims=dims)\n",
    "embeddings_df = embeddings_df.reset_index()\n",
    "embd_df[\"review_id\"] = embeddings_df.review_id\n",
    "embd_df[\"label\"] = embeddings_df.label\n",
    "\n",
    "# plot 3d scatter with plotly\n",
    "fig = px.scatter_3d(embd_df, x=\"tsne_3D_0\", y=\"tsne_3D_1\", z=\"tsne_3D_2\", color=\"label\", title=\"t-SNE embeddings of reviews\", )\n",
    "# make size of point smaller and opaque\n",
    "fig.update_traces(marker=dict(size=4, opacity=0.5))\n",
    "# make inital zoom bigger\n",
    "fig.update_layout(scene=dict(camera_eye=dict(x=0.9, y=0.9, z=0.9)))\n",
    "fig.show()"
   ]
  },
  {
   "attachments": {},
   "cell_type": "markdown",
   "metadata": {},
   "source": [
    "It looks like the \"mbad\" labels are mostly together. The \"mgood\" are kind of in the  middle, but there is still lots of noise of \"good\" labels in that region."
   ]
  },
  {
   "attachments": {},
   "cell_type": "markdown",
   "metadata": {},
   "source": [
    "# Generate Features"
   ]
  },
  {
   "attachments": {},
   "cell_type": "markdown",
   "metadata": {},
   "source": [
    "With what we know, let's generate some features. I've provided a function for each type of feature, so we can mix and match."
   ]
  },
  {
   "cell_type": "code",
   "execution_count": 181,
   "metadata": {},
   "outputs": [
    {
     "name": "stdout",
     "output_type": "stream",
     "text": [
      "Creating model...\n",
      "Generating embeddings...\n",
      "Creating model...\n",
      "Generating embeddings...\n",
      "Applying t-SNE... (dim=2)\n",
      "Applying t-SNE... (dim=3)\n",
      "Applying t-SNE... (dim=2)\n",
      "Applying t-SNE... (dim=3)\n",
      "Features above correlation threshold (0.09):\n",
      "['3gram09_would_not_recommend', '3gram09_no_toilet_paper', '3gram09_not_recommend_staying', '3gram09_per_night_not', '3gram09_could_not_access', '3gram09_phone_call_text', '3gram09_call_text_message', '3gram09_very_old_not', '3gram09_left_first_night', '3gram09_old_not_well', '3gram09_worse_experience_ever', '3gram09_refund_second_night', '3gram09_paid_two_night', '3gram09_need_deep_cleaning', '3gram09_not_really_clean', '3gram09_expected_based_description', '3gram09_got_no_response', '3gram09_toilet_paper_buy', '3gram09_property_management_company', '3gram09_never_met_host', '3gram09_nothing_like_picture', '3gram09_freezer_not_work', '3gram09_shower_curtain_covered', '3gram09_obviously_not_cleaned', '3gram09_never_responded_message', '3gram09_not_clean_arrived', '3gram09_not_feel_comfortable', '3gram09_very_bad_shape', '3gram09_got_no_answer', '3gram09_start_good_thing', '3gram09_time_opened_door', '3gram09_spend_lot_time', '3gram09_living_room_couch', '3gram09_write_negative_review', '3gram09_need_major_overhaul', '3gram09_sleep_bedroom_door', '3gram09_guest_not_able', '3gram09_take_cold_shower', '3gram09_place_sleep_10', '3gram09_staying_another_unit', '3gram09_told_cleaning_lady', '3gram09_big_issue_u', '3gram09_let_start_saying', '3gram09_felt_compelled_write']\n",
      "Features above correlation threshold (0.1):\n",
      "['3gram10_would_not_recommend', '3gram10_no_toilet_paper']\n",
      "Adding amenities features...\n",
      "Features above correlation threshold (0.05):\n",
      "['lockbox', 'dishwasher', 'pool', 'stove', 'keypad', 'bathtub', 'kitchen', 'balcony', 'shampoo', 'garden', 'cat', 'family', 'breakfast']\n",
      "Adding amenities features...\n",
      "(1629, 152)\n"
     ]
    },
    {
     "data": {
      "text/html": [
       "<div>\n",
       "<style scoped>\n",
       "    .dataframe tbody tr th:only-of-type {\n",
       "        vertical-align: middle;\n",
       "    }\n",
       "\n",
       "    .dataframe tbody tr th {\n",
       "        vertical-align: top;\n",
       "    }\n",
       "\n",
       "    .dataframe thead th {\n",
       "        text-align: right;\n",
       "    }\n",
       "</style>\n",
       "<table border=\"1\" class=\"dataframe\">\n",
       "  <thead>\n",
       "    <tr style=\"text-align: right;\">\n",
       "      <th></th>\n",
       "      <th>embedding_0</th>\n",
       "      <th>embedding_1</th>\n",
       "      <th>embedding_2</th>\n",
       "      <th>embedding_3</th>\n",
       "      <th>embedding_4</th>\n",
       "      <th>embedding_5</th>\n",
       "      <th>embedding_6</th>\n",
       "      <th>embedding_7</th>\n",
       "      <th>embedding_8</th>\n",
       "      <th>embedding_9</th>\n",
       "      <th>...</th>\n",
       "      <th>amenityall_silverware</th>\n",
       "      <th>amenityall_bathtub</th>\n",
       "      <th>amenityall_lockbox</th>\n",
       "      <th>amenityall_crib</th>\n",
       "      <th>amenityall_elevator</th>\n",
       "      <th>amenityall_gym</th>\n",
       "      <th>amenityall_oven</th>\n",
       "      <th>amenityall_toilet</th>\n",
       "      <th>review_id</th>\n",
       "      <th>label</th>\n",
       "    </tr>\n",
       "  </thead>\n",
       "  <tbody>\n",
       "    <tr>\n",
       "      <th>0</th>\n",
       "      <td>0.066375</td>\n",
       "      <td>-0.0391</td>\n",
       "      <td>-0.118304</td>\n",
       "      <td>0.373104</td>\n",
       "      <td>-0.081418</td>\n",
       "      <td>-0.362864</td>\n",
       "      <td>0.028226</td>\n",
       "      <td>0.309209</td>\n",
       "      <td>-0.857797</td>\n",
       "      <td>-0.169276</td>\n",
       "      <td>...</td>\n",
       "      <td>0.0</td>\n",
       "      <td>0.0</td>\n",
       "      <td>0.0</td>\n",
       "      <td>0.0</td>\n",
       "      <td>0.0</td>\n",
       "      <td>0.0</td>\n",
       "      <td>0.0</td>\n",
       "      <td>0.0</td>\n",
       "      <td>83097</td>\n",
       "      <td>good</td>\n",
       "    </tr>\n",
       "    <tr>\n",
       "      <th>1</th>\n",
       "      <td>0.066375</td>\n",
       "      <td>-0.0391</td>\n",
       "      <td>-0.118304</td>\n",
       "      <td>0.373104</td>\n",
       "      <td>-0.081418</td>\n",
       "      <td>-0.362864</td>\n",
       "      <td>0.028226</td>\n",
       "      <td>0.309209</td>\n",
       "      <td>-0.857797</td>\n",
       "      <td>-0.169276</td>\n",
       "      <td>...</td>\n",
       "      <td>0.0</td>\n",
       "      <td>0.0</td>\n",
       "      <td>0.0</td>\n",
       "      <td>0.0</td>\n",
       "      <td>0.0</td>\n",
       "      <td>0.0</td>\n",
       "      <td>0.0</td>\n",
       "      <td>0.0</td>\n",
       "      <td>133337</td>\n",
       "      <td>good</td>\n",
       "    </tr>\n",
       "    <tr>\n",
       "      <th>2</th>\n",
       "      <td>0.066375</td>\n",
       "      <td>-0.0391</td>\n",
       "      <td>-0.118304</td>\n",
       "      <td>0.373104</td>\n",
       "      <td>-0.081418</td>\n",
       "      <td>-0.362864</td>\n",
       "      <td>0.028226</td>\n",
       "      <td>0.309209</td>\n",
       "      <td>-0.857797</td>\n",
       "      <td>-0.169276</td>\n",
       "      <td>...</td>\n",
       "      <td>0.0</td>\n",
       "      <td>0.0</td>\n",
       "      <td>0.0</td>\n",
       "      <td>0.0</td>\n",
       "      <td>0.0</td>\n",
       "      <td>0.0</td>\n",
       "      <td>0.0</td>\n",
       "      <td>0.0</td>\n",
       "      <td>150928</td>\n",
       "      <td>good</td>\n",
       "    </tr>\n",
       "    <tr>\n",
       "      <th>3</th>\n",
       "      <td>0.066375</td>\n",
       "      <td>-0.0391</td>\n",
       "      <td>-0.118304</td>\n",
       "      <td>0.373104</td>\n",
       "      <td>-0.081418</td>\n",
       "      <td>-0.362864</td>\n",
       "      <td>0.028226</td>\n",
       "      <td>0.309209</td>\n",
       "      <td>-0.857797</td>\n",
       "      <td>-0.169276</td>\n",
       "      <td>...</td>\n",
       "      <td>0.0</td>\n",
       "      <td>0.0</td>\n",
       "      <td>0.0</td>\n",
       "      <td>0.0</td>\n",
       "      <td>0.0</td>\n",
       "      <td>0.0</td>\n",
       "      <td>0.0</td>\n",
       "      <td>0.0</td>\n",
       "      <td>2706775</td>\n",
       "      <td>good</td>\n",
       "    </tr>\n",
       "    <tr>\n",
       "      <th>4</th>\n",
       "      <td>0.066375</td>\n",
       "      <td>-0.0391</td>\n",
       "      <td>-0.118304</td>\n",
       "      <td>0.373104</td>\n",
       "      <td>-0.081418</td>\n",
       "      <td>-0.362864</td>\n",
       "      <td>0.028226</td>\n",
       "      <td>0.309209</td>\n",
       "      <td>-0.857797</td>\n",
       "      <td>-0.169276</td>\n",
       "      <td>...</td>\n",
       "      <td>0.0</td>\n",
       "      <td>0.0</td>\n",
       "      <td>0.0</td>\n",
       "      <td>0.0</td>\n",
       "      <td>0.0</td>\n",
       "      <td>0.0</td>\n",
       "      <td>0.0</td>\n",
       "      <td>0.0</td>\n",
       "      <td>8602878</td>\n",
       "      <td>good</td>\n",
       "    </tr>\n",
       "  </tbody>\n",
       "</table>\n",
       "<p>5 rows × 152 columns</p>\n",
       "</div>"
      ],
      "text/plain": [
       "   embedding_0  embedding_1  embedding_2  embedding_3  embedding_4  \\\n",
       "0     0.066375      -0.0391    -0.118304     0.373104    -0.081418   \n",
       "1     0.066375      -0.0391    -0.118304     0.373104    -0.081418   \n",
       "2     0.066375      -0.0391    -0.118304     0.373104    -0.081418   \n",
       "3     0.066375      -0.0391    -0.118304     0.373104    -0.081418   \n",
       "4     0.066375      -0.0391    -0.118304     0.373104    -0.081418   \n",
       "\n",
       "   embedding_5  embedding_6  embedding_7  embedding_8  embedding_9  ...  \\\n",
       "0    -0.362864     0.028226     0.309209    -0.857797    -0.169276  ...   \n",
       "1    -0.362864     0.028226     0.309209    -0.857797    -0.169276  ...   \n",
       "2    -0.362864     0.028226     0.309209    -0.857797    -0.169276  ...   \n",
       "3    -0.362864     0.028226     0.309209    -0.857797    -0.169276  ...   \n",
       "4    -0.362864     0.028226     0.309209    -0.857797    -0.169276  ...   \n",
       "\n",
       "   amenityall_silverware  amenityall_bathtub  amenityall_lockbox  \\\n",
       "0                    0.0                 0.0                 0.0   \n",
       "1                    0.0                 0.0                 0.0   \n",
       "2                    0.0                 0.0                 0.0   \n",
       "3                    0.0                 0.0                 0.0   \n",
       "4                    0.0                 0.0                 0.0   \n",
       "\n",
       "   amenityall_crib  amenityall_elevator  amenityall_gym  amenityall_oven  \\\n",
       "0              0.0                  0.0             0.0              0.0   \n",
       "1              0.0                  0.0             0.0              0.0   \n",
       "2              0.0                  0.0             0.0              0.0   \n",
       "3              0.0                  0.0             0.0              0.0   \n",
       "4              0.0                  0.0             0.0              0.0   \n",
       "\n",
       "   amenityall_toilet  review_id  label  \n",
       "0                0.0      83097   good  \n",
       "1                0.0     133337   good  \n",
       "2                0.0     150928   good  \n",
       "3                0.0    2706775   good  \n",
       "4                0.0    8602878   good  \n",
       "\n",
       "[5 rows x 152 columns]"
      ]
     },
     "execution_count": 181,
     "metadata": {},
     "output_type": "execute_result"
    }
   ],
   "source": [
    "features = pd.DataFrame()\n",
    "\n",
    "# get the embeddings\n",
    "embeddings_comments = embeddings_features(features, col=\"comments\")\n",
    "embeddings_description = embeddings_features(features, col=\"description\")\n",
    "\n",
    "# apply tsne to reduce to 2 and 3 dimensions\n",
    "for embedding_type, embeddings in zip([\"comments\", \"description\"], [embeddings_comments, embeddings_description]):\n",
    "    tsne2 = tsne_features(embeddings, dims=2, prefix=f\"tsne2_{embedding_type}_\")\n",
    "    tsne3 = tsne_features(embeddings, dims=3, prefix=f\"tsne3_{embedding_type}_\")\n",
    "    # combine the tsne features\n",
    "    features = pd.concat([features, tsne2, tsne3], axis=1)\n",
    "\n",
    "# get 3-grams with 0.09  and 0.1 correlation thresholds\n",
    "features = ngrams_features(features, n=3, corr_thresh=0.09, prefix=\"3gram09_\")\n",
    "features = ngrams_features(features, n=3, corr_thresh=0.1, prefix=\"3gram10_\")\n",
    "\n",
    "# get the amenities\n",
    "features = amenities_features(features, corr_thresh=0.05, prefix=\"amenity005_\")\n",
    "features = amenities_features(features, corr_thresh=None, prefix=\"amenityall_\")\n",
    "\n",
    "# fill missing values with 0\n",
    "features = features.fillna(0)\n",
    "\n",
    "features[\"review_id\"] = df.review_id\n",
    "features[\"label\"] = df.label\n",
    "\n",
    "print(features.shape)\n",
    "\n",
    "features.head()"
   ]
  },
  {
   "cell_type": "code",
   "execution_count": 184,
   "metadata": {},
   "outputs": [],
   "source": [
    "# drop the emeddings features\n",
    "embd_cols = [col for col in features.columns if \"embedding_\" in col]\n",
    "features = features.drop(embd_cols, axis=1)"
   ]
  },
  {
   "cell_type": "code",
   "execution_count": 186,
   "metadata": {},
   "outputs": [],
   "source": [
    "if isinstance(GEO, list):\n",
    "    geo_display_name = \"_\".join(GEO)\n",
    "else:\n",
    "    geo_display_name = GEO\n",
    "\n",
    "features.to_csv(f\"../../data/processed/features_{geo_display_name}.csv\", index=False)"
   ]
  },
  {
   "cell_type": "code",
   "execution_count": 187,
   "metadata": {},
   "outputs": [
    {
     "data": {
      "text/plain": [
       "Index(['tsne2_comments_2D_0', 'tsne2_comments_2D_1', 'tsne3_comments_3D_0',\n",
       "       'tsne3_comments_3D_1', 'tsne3_comments_3D_2', 'tsne2_description_2D_0',\n",
       "       'tsne2_description_2D_1', 'tsne3_description_3D_0',\n",
       "       'tsne3_description_3D_1', 'tsne3_description_3D_2',\n",
       "       ...\n",
       "       'amenityall_silverware', 'amenityall_bathtub', 'amenityall_lockbox',\n",
       "       'amenityall_crib', 'amenityall_elevator', 'amenityall_gym',\n",
       "       'amenityall_oven', 'amenityall_toilet', 'review_id', 'label'],\n",
       "      dtype='object', length=102)"
      ]
     },
     "execution_count": 187,
     "metadata": {},
     "output_type": "execute_result"
    }
   ],
   "source": [
    "features.columns"
   ]
  },
  {
   "cell_type": "code",
   "execution_count": null,
   "metadata": {},
   "outputs": [],
   "source": []
  }
 ],
 "metadata": {
  "kernelspec": {
   "display_name": "venv",
   "language": "python",
   "name": "python3"
  },
  "language_info": {
   "codemirror_mode": {
    "name": "ipython",
    "version": 3
   },
   "file_extension": ".py",
   "mimetype": "text/x-python",
   "name": "python",
   "nbconvert_exporter": "python",
   "pygments_lexer": "ipython3",
   "version": "3.10.4"
  },
  "orig_nbformat": 4,
  "vscode": {
   "interpreter": {
    "hash": "cf086def782804284d24881115c612afdcc8ea791299ba67855f0c7f1a9ccc5a"
   }
  }
 },
 "nbformat": 4,
 "nbformat_minor": 2
}
