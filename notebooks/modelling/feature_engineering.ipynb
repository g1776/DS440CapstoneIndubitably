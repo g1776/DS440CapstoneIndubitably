{
 "cells": [
  {
   "attachments": {},
   "cell_type": "markdown",
   "metadata": {},
   "source": [
    "## Feature Engineering on the processed dataset"
   ]
  },
  {
   "cell_type": "code",
   "execution_count": 1,
   "metadata": {},
   "outputs": [],
   "source": [
    "import pandas as pd\n",
    "import numpy as np\n",
    "import matplotlib.pyplot as plt\n",
    "import plotly.express as px"
   ]
  },
  {
   "cell_type": "code",
   "execution_count": 2,
   "metadata": {},
   "outputs": [
    {
     "name": "stdout",
     "output_type": "stream",
     "text": [
      "(1546, 9)\n"
     ]
    },
    {
     "data": {
      "text/html": [
       "<div>\n",
       "<style scoped>\n",
       "    .dataframe tbody tr th:only-of-type {\n",
       "        vertical-align: middle;\n",
       "    }\n",
       "\n",
       "    .dataframe tbody tr th {\n",
       "        vertical-align: top;\n",
       "    }\n",
       "\n",
       "    .dataframe thead th {\n",
       "        text-align: right;\n",
       "    }\n",
       "</style>\n",
       "<table border=\"1\" class=\"dataframe\">\n",
       "  <thead>\n",
       "    <tr style=\"text-align: right;\">\n",
       "      <th></th>\n",
       "      <th>review_id</th>\n",
       "      <th>listing_id</th>\n",
       "      <th>description</th>\n",
       "      <th>comments</th>\n",
       "      <th>sentiment</th>\n",
       "      <th>label</th>\n",
       "      <th>name</th>\n",
       "      <th>amenities</th>\n",
       "      <th>source</th>\n",
       "    </tr>\n",
       "  </thead>\n",
       "  <tbody>\n",
       "    <tr>\n",
       "      <th>0</th>\n",
       "      <td>83097</td>\n",
       "      <td>5456</td>\n",
       "      <td>[fabulous, location, walking, convention, cent...</td>\n",
       "      <td>[sylvia, very, nice, informal, relaxed, arrive...</td>\n",
       "      <td>4.333333</td>\n",
       "      <td>good</td>\n",
       "      <td>['walk', '6th', 'rainey', 'st', 'convention', ...</td>\n",
       "      <td>[TV, Wifi, Air conditioning, Kitchen, Pets liv...</td>\n",
       "      <td>texas</td>\n",
       "    </tr>\n",
       "    <tr>\n",
       "      <th>1</th>\n",
       "      <td>133337</td>\n",
       "      <td>5456</td>\n",
       "      <td>[fabulous, location, walking, convention, cent...</td>\n",
       "      <td>[sylvia, picked, airport, gave, beautiful, eve...</td>\n",
       "      <td>4.000000</td>\n",
       "      <td>good</td>\n",
       "      <td>['walk', '6th', 'rainey', 'st', 'convention', ...</td>\n",
       "      <td>[TV, Wifi, Air conditioning, Kitchen, Pets liv...</td>\n",
       "      <td>texas</td>\n",
       "    </tr>\n",
       "    <tr>\n",
       "      <th>2</th>\n",
       "      <td>150928</td>\n",
       "      <td>5456</td>\n",
       "      <td>[fabulous, location, walking, convention, cent...</td>\n",
       "      <td>[lovely, time, enjoyed, apartment, clean, spac...</td>\n",
       "      <td>3.000000</td>\n",
       "      <td>good</td>\n",
       "      <td>['walk', '6th', 'rainey', 'st', 'convention', ...</td>\n",
       "      <td>[TV, Wifi, Air conditioning, Kitchen, Pets liv...</td>\n",
       "      <td>texas</td>\n",
       "    </tr>\n",
       "    <tr>\n",
       "      <th>3</th>\n",
       "      <td>2706775</td>\n",
       "      <td>5456</td>\n",
       "      <td>[fabulous, location, walking, convention, cent...</td>\n",
       "      <td>[sylvia, excellent, host, stayed, touch, made,...</td>\n",
       "      <td>4.500000</td>\n",
       "      <td>good</td>\n",
       "      <td>['walk', '6th', 'rainey', 'st', 'convention', ...</td>\n",
       "      <td>[TV, Wifi, Air conditioning, Kitchen, Pets liv...</td>\n",
       "      <td>texas</td>\n",
       "    </tr>\n",
       "    <tr>\n",
       "      <th>4</th>\n",
       "      <td>8602878</td>\n",
       "      <td>5456</td>\n",
       "      <td>[fabulous, location, walking, convention, cent...</td>\n",
       "      <td>[place, cute, little, self, contained, cottage...</td>\n",
       "      <td>4.000000</td>\n",
       "      <td>good</td>\n",
       "      <td>['walk', '6th', 'rainey', 'st', 'convention', ...</td>\n",
       "      <td>[TV, Wifi, Air conditioning, Kitchen, Pets liv...</td>\n",
       "      <td>texas</td>\n",
       "    </tr>\n",
       "  </tbody>\n",
       "</table>\n",
       "</div>"
      ],
      "text/plain": [
       "   review_id  listing_id                                        description  \\\n",
       "0      83097        5456  [fabulous, location, walking, convention, cent...   \n",
       "1     133337        5456  [fabulous, location, walking, convention, cent...   \n",
       "2     150928        5456  [fabulous, location, walking, convention, cent...   \n",
       "3    2706775        5456  [fabulous, location, walking, convention, cent...   \n",
       "4    8602878        5456  [fabulous, location, walking, convention, cent...   \n",
       "\n",
       "                                            comments  sentiment label  \\\n",
       "0  [sylvia, very, nice, informal, relaxed, arrive...   4.333333  good   \n",
       "1  [sylvia, picked, airport, gave, beautiful, eve...   4.000000  good   \n",
       "2  [lovely, time, enjoyed, apartment, clean, spac...   3.000000  good   \n",
       "3  [sylvia, excellent, host, stayed, touch, made,...   4.500000  good   \n",
       "4  [place, cute, little, self, contained, cottage...   4.000000  good   \n",
       "\n",
       "                                                name  \\\n",
       "0  ['walk', '6th', 'rainey', 'st', 'convention', ...   \n",
       "1  ['walk', '6th', 'rainey', 'st', 'convention', ...   \n",
       "2  ['walk', '6th', 'rainey', 'st', 'convention', ...   \n",
       "3  ['walk', '6th', 'rainey', 'st', 'convention', ...   \n",
       "4  ['walk', '6th', 'rainey', 'st', 'convention', ...   \n",
       "\n",
       "                                           amenities source  \n",
       "0  [TV, Wifi, Air conditioning, Kitchen, Pets liv...  texas  \n",
       "1  [TV, Wifi, Air conditioning, Kitchen, Pets liv...  texas  \n",
       "2  [TV, Wifi, Air conditioning, Kitchen, Pets liv...  texas  \n",
       "3  [TV, Wifi, Air conditioning, Kitchen, Pets liv...  texas  \n",
       "4  [TV, Wifi, Air conditioning, Kitchen, Pets liv...  texas  "
      ]
     },
     "execution_count": 2,
     "metadata": {},
     "output_type": "execute_result"
    }
   ],
   "source": [
    "# Read in the data\n",
    "GEO = [\"texas\", \"florida\"]\n",
    "\n",
    "if isinstance(GEO, str):\n",
    "    df = pd.read_csv(f\"../../data/processed/{GEO}_auto_processed.csv\")\n",
    "elif isinstance(GEO, list):\n",
    "    dfs = []\n",
    "    for geo in GEO:\n",
    "        df = pd.read_csv(f\"../../data/processed/{geo}_auto_processed.csv\")\n",
    "        df[\"source\"] = geo\n",
    "        dfs.append(df)\n",
    "    df = pd.concat(dfs)\n",
    "\n",
    "# eval list columns\n",
    "df.description = df.description.apply(lambda x: eval(x))\n",
    "df.comments = df.comments.apply(lambda x: eval(x))\n",
    "df.amenities = df.amenities.apply(lambda x: eval(x))\n",
    "\n",
    "df.reset_index(drop=True, inplace=True)\n",
    "\n",
    "print(df.shape)\n",
    "df.head()"
   ]
  },
  {
   "attachments": {},
   "cell_type": "markdown",
   "metadata": {},
   "source": [
    "### Distribution of labels"
   ]
  },
  {
   "attachments": {},
   "cell_type": "markdown",
   "metadata": {},
   "source": [
    "First, let's look at the distribution of labels in the processed dataset."
   ]
  },
  {
   "cell_type": "code",
   "execution_count": 3,
   "metadata": {},
   "outputs": [
    {
     "name": "stdout",
     "output_type": "stream",
     "text": [
      "mbad: 8.02%, mgood: 6.86%, mbad or mgood: 14.88%\n"
     ]
    },
    {
     "data": {
      "application/vnd.plotly.v1+json": {
       "config": {
        "plotlyServerURL": "https://plot.ly"
       },
       "data": [
        {
         "alignmentgroup": "True",
         "hovertemplate": "Label=%{x}<br>Count=%{y}<extra></extra>",
         "legendgroup": "",
         "marker": {
          "color": "#636efa",
          "pattern": {
           "shape": ""
          }
         },
         "name": "",
         "offsetgroup": "",
         "orientation": "v",
         "showlegend": false,
         "textposition": "auto",
         "type": "bar",
         "x": [
          "good",
          "mbad",
          "mgood",
          "bad"
         ],
         "xaxis": "x",
         "y": [
          1236,
          124,
          106,
          80
         ],
         "yaxis": "y"
        }
       ],
       "layout": {
        "barmode": "relative",
        "legend": {
         "tracegroupgap": 0
        },
        "template": {
         "data": {
          "bar": [
           {
            "error_x": {
             "color": "#2a3f5f"
            },
            "error_y": {
             "color": "#2a3f5f"
            },
            "marker": {
             "line": {
              "color": "#E5ECF6",
              "width": 0.5
             },
             "pattern": {
              "fillmode": "overlay",
              "size": 10,
              "solidity": 0.2
             }
            },
            "type": "bar"
           }
          ],
          "barpolar": [
           {
            "marker": {
             "line": {
              "color": "#E5ECF6",
              "width": 0.5
             },
             "pattern": {
              "fillmode": "overlay",
              "size": 10,
              "solidity": 0.2
             }
            },
            "type": "barpolar"
           }
          ],
          "carpet": [
           {
            "aaxis": {
             "endlinecolor": "#2a3f5f",
             "gridcolor": "white",
             "linecolor": "white",
             "minorgridcolor": "white",
             "startlinecolor": "#2a3f5f"
            },
            "baxis": {
             "endlinecolor": "#2a3f5f",
             "gridcolor": "white",
             "linecolor": "white",
             "minorgridcolor": "white",
             "startlinecolor": "#2a3f5f"
            },
            "type": "carpet"
           }
          ],
          "choropleth": [
           {
            "colorbar": {
             "outlinewidth": 0,
             "ticks": ""
            },
            "type": "choropleth"
           }
          ],
          "contour": [
           {
            "colorbar": {
             "outlinewidth": 0,
             "ticks": ""
            },
            "colorscale": [
             [
              0,
              "#0d0887"
             ],
             [
              0.1111111111111111,
              "#46039f"
             ],
             [
              0.2222222222222222,
              "#7201a8"
             ],
             [
              0.3333333333333333,
              "#9c179e"
             ],
             [
              0.4444444444444444,
              "#bd3786"
             ],
             [
              0.5555555555555556,
              "#d8576b"
             ],
             [
              0.6666666666666666,
              "#ed7953"
             ],
             [
              0.7777777777777778,
              "#fb9f3a"
             ],
             [
              0.8888888888888888,
              "#fdca26"
             ],
             [
              1,
              "#f0f921"
             ]
            ],
            "type": "contour"
           }
          ],
          "contourcarpet": [
           {
            "colorbar": {
             "outlinewidth": 0,
             "ticks": ""
            },
            "type": "contourcarpet"
           }
          ],
          "heatmap": [
           {
            "colorbar": {
             "outlinewidth": 0,
             "ticks": ""
            },
            "colorscale": [
             [
              0,
              "#0d0887"
             ],
             [
              0.1111111111111111,
              "#46039f"
             ],
             [
              0.2222222222222222,
              "#7201a8"
             ],
             [
              0.3333333333333333,
              "#9c179e"
             ],
             [
              0.4444444444444444,
              "#bd3786"
             ],
             [
              0.5555555555555556,
              "#d8576b"
             ],
             [
              0.6666666666666666,
              "#ed7953"
             ],
             [
              0.7777777777777778,
              "#fb9f3a"
             ],
             [
              0.8888888888888888,
              "#fdca26"
             ],
             [
              1,
              "#f0f921"
             ]
            ],
            "type": "heatmap"
           }
          ],
          "heatmapgl": [
           {
            "colorbar": {
             "outlinewidth": 0,
             "ticks": ""
            },
            "colorscale": [
             [
              0,
              "#0d0887"
             ],
             [
              0.1111111111111111,
              "#46039f"
             ],
             [
              0.2222222222222222,
              "#7201a8"
             ],
             [
              0.3333333333333333,
              "#9c179e"
             ],
             [
              0.4444444444444444,
              "#bd3786"
             ],
             [
              0.5555555555555556,
              "#d8576b"
             ],
             [
              0.6666666666666666,
              "#ed7953"
             ],
             [
              0.7777777777777778,
              "#fb9f3a"
             ],
             [
              0.8888888888888888,
              "#fdca26"
             ],
             [
              1,
              "#f0f921"
             ]
            ],
            "type": "heatmapgl"
           }
          ],
          "histogram": [
           {
            "marker": {
             "pattern": {
              "fillmode": "overlay",
              "size": 10,
              "solidity": 0.2
             }
            },
            "type": "histogram"
           }
          ],
          "histogram2d": [
           {
            "colorbar": {
             "outlinewidth": 0,
             "ticks": ""
            },
            "colorscale": [
             [
              0,
              "#0d0887"
             ],
             [
              0.1111111111111111,
              "#46039f"
             ],
             [
              0.2222222222222222,
              "#7201a8"
             ],
             [
              0.3333333333333333,
              "#9c179e"
             ],
             [
              0.4444444444444444,
              "#bd3786"
             ],
             [
              0.5555555555555556,
              "#d8576b"
             ],
             [
              0.6666666666666666,
              "#ed7953"
             ],
             [
              0.7777777777777778,
              "#fb9f3a"
             ],
             [
              0.8888888888888888,
              "#fdca26"
             ],
             [
              1,
              "#f0f921"
             ]
            ],
            "type": "histogram2d"
           }
          ],
          "histogram2dcontour": [
           {
            "colorbar": {
             "outlinewidth": 0,
             "ticks": ""
            },
            "colorscale": [
             [
              0,
              "#0d0887"
             ],
             [
              0.1111111111111111,
              "#46039f"
             ],
             [
              0.2222222222222222,
              "#7201a8"
             ],
             [
              0.3333333333333333,
              "#9c179e"
             ],
             [
              0.4444444444444444,
              "#bd3786"
             ],
             [
              0.5555555555555556,
              "#d8576b"
             ],
             [
              0.6666666666666666,
              "#ed7953"
             ],
             [
              0.7777777777777778,
              "#fb9f3a"
             ],
             [
              0.8888888888888888,
              "#fdca26"
             ],
             [
              1,
              "#f0f921"
             ]
            ],
            "type": "histogram2dcontour"
           }
          ],
          "mesh3d": [
           {
            "colorbar": {
             "outlinewidth": 0,
             "ticks": ""
            },
            "type": "mesh3d"
           }
          ],
          "parcoords": [
           {
            "line": {
             "colorbar": {
              "outlinewidth": 0,
              "ticks": ""
             }
            },
            "type": "parcoords"
           }
          ],
          "pie": [
           {
            "automargin": true,
            "type": "pie"
           }
          ],
          "scatter": [
           {
            "fillpattern": {
             "fillmode": "overlay",
             "size": 10,
             "solidity": 0.2
            },
            "type": "scatter"
           }
          ],
          "scatter3d": [
           {
            "line": {
             "colorbar": {
              "outlinewidth": 0,
              "ticks": ""
             }
            },
            "marker": {
             "colorbar": {
              "outlinewidth": 0,
              "ticks": ""
             }
            },
            "type": "scatter3d"
           }
          ],
          "scattercarpet": [
           {
            "marker": {
             "colorbar": {
              "outlinewidth": 0,
              "ticks": ""
             }
            },
            "type": "scattercarpet"
           }
          ],
          "scattergeo": [
           {
            "marker": {
             "colorbar": {
              "outlinewidth": 0,
              "ticks": ""
             }
            },
            "type": "scattergeo"
           }
          ],
          "scattergl": [
           {
            "marker": {
             "colorbar": {
              "outlinewidth": 0,
              "ticks": ""
             }
            },
            "type": "scattergl"
           }
          ],
          "scattermapbox": [
           {
            "marker": {
             "colorbar": {
              "outlinewidth": 0,
              "ticks": ""
             }
            },
            "type": "scattermapbox"
           }
          ],
          "scatterpolar": [
           {
            "marker": {
             "colorbar": {
              "outlinewidth": 0,
              "ticks": ""
             }
            },
            "type": "scatterpolar"
           }
          ],
          "scatterpolargl": [
           {
            "marker": {
             "colorbar": {
              "outlinewidth": 0,
              "ticks": ""
             }
            },
            "type": "scatterpolargl"
           }
          ],
          "scatterternary": [
           {
            "marker": {
             "colorbar": {
              "outlinewidth": 0,
              "ticks": ""
             }
            },
            "type": "scatterternary"
           }
          ],
          "surface": [
           {
            "colorbar": {
             "outlinewidth": 0,
             "ticks": ""
            },
            "colorscale": [
             [
              0,
              "#0d0887"
             ],
             [
              0.1111111111111111,
              "#46039f"
             ],
             [
              0.2222222222222222,
              "#7201a8"
             ],
             [
              0.3333333333333333,
              "#9c179e"
             ],
             [
              0.4444444444444444,
              "#bd3786"
             ],
             [
              0.5555555555555556,
              "#d8576b"
             ],
             [
              0.6666666666666666,
              "#ed7953"
             ],
             [
              0.7777777777777778,
              "#fb9f3a"
             ],
             [
              0.8888888888888888,
              "#fdca26"
             ],
             [
              1,
              "#f0f921"
             ]
            ],
            "type": "surface"
           }
          ],
          "table": [
           {
            "cells": {
             "fill": {
              "color": "#EBF0F8"
             },
             "line": {
              "color": "white"
             }
            },
            "header": {
             "fill": {
              "color": "#C8D4E3"
             },
             "line": {
              "color": "white"
             }
            },
            "type": "table"
           }
          ]
         },
         "layout": {
          "annotationdefaults": {
           "arrowcolor": "#2a3f5f",
           "arrowhead": 0,
           "arrowwidth": 1
          },
          "autotypenumbers": "strict",
          "coloraxis": {
           "colorbar": {
            "outlinewidth": 0,
            "ticks": ""
           }
          },
          "colorscale": {
           "diverging": [
            [
             0,
             "#8e0152"
            ],
            [
             0.1,
             "#c51b7d"
            ],
            [
             0.2,
             "#de77ae"
            ],
            [
             0.3,
             "#f1b6da"
            ],
            [
             0.4,
             "#fde0ef"
            ],
            [
             0.5,
             "#f7f7f7"
            ],
            [
             0.6,
             "#e6f5d0"
            ],
            [
             0.7,
             "#b8e186"
            ],
            [
             0.8,
             "#7fbc41"
            ],
            [
             0.9,
             "#4d9221"
            ],
            [
             1,
             "#276419"
            ]
           ],
           "sequential": [
            [
             0,
             "#0d0887"
            ],
            [
             0.1111111111111111,
             "#46039f"
            ],
            [
             0.2222222222222222,
             "#7201a8"
            ],
            [
             0.3333333333333333,
             "#9c179e"
            ],
            [
             0.4444444444444444,
             "#bd3786"
            ],
            [
             0.5555555555555556,
             "#d8576b"
            ],
            [
             0.6666666666666666,
             "#ed7953"
            ],
            [
             0.7777777777777778,
             "#fb9f3a"
            ],
            [
             0.8888888888888888,
             "#fdca26"
            ],
            [
             1,
             "#f0f921"
            ]
           ],
           "sequentialminus": [
            [
             0,
             "#0d0887"
            ],
            [
             0.1111111111111111,
             "#46039f"
            ],
            [
             0.2222222222222222,
             "#7201a8"
            ],
            [
             0.3333333333333333,
             "#9c179e"
            ],
            [
             0.4444444444444444,
             "#bd3786"
            ],
            [
             0.5555555555555556,
             "#d8576b"
            ],
            [
             0.6666666666666666,
             "#ed7953"
            ],
            [
             0.7777777777777778,
             "#fb9f3a"
            ],
            [
             0.8888888888888888,
             "#fdca26"
            ],
            [
             1,
             "#f0f921"
            ]
           ]
          },
          "colorway": [
           "#636efa",
           "#EF553B",
           "#00cc96",
           "#ab63fa",
           "#FFA15A",
           "#19d3f3",
           "#FF6692",
           "#B6E880",
           "#FF97FF",
           "#FECB52"
          ],
          "font": {
           "color": "#2a3f5f"
          },
          "geo": {
           "bgcolor": "white",
           "lakecolor": "white",
           "landcolor": "#E5ECF6",
           "showlakes": true,
           "showland": true,
           "subunitcolor": "white"
          },
          "hoverlabel": {
           "align": "left"
          },
          "hovermode": "closest",
          "mapbox": {
           "style": "light"
          },
          "paper_bgcolor": "white",
          "plot_bgcolor": "#E5ECF6",
          "polar": {
           "angularaxis": {
            "gridcolor": "white",
            "linecolor": "white",
            "ticks": ""
           },
           "bgcolor": "#E5ECF6",
           "radialaxis": {
            "gridcolor": "white",
            "linecolor": "white",
            "ticks": ""
           }
          },
          "scene": {
           "xaxis": {
            "backgroundcolor": "#E5ECF6",
            "gridcolor": "white",
            "gridwidth": 2,
            "linecolor": "white",
            "showbackground": true,
            "ticks": "",
            "zerolinecolor": "white"
           },
           "yaxis": {
            "backgroundcolor": "#E5ECF6",
            "gridcolor": "white",
            "gridwidth": 2,
            "linecolor": "white",
            "showbackground": true,
            "ticks": "",
            "zerolinecolor": "white"
           },
           "zaxis": {
            "backgroundcolor": "#E5ECF6",
            "gridcolor": "white",
            "gridwidth": 2,
            "linecolor": "white",
            "showbackground": true,
            "ticks": "",
            "zerolinecolor": "white"
           }
          },
          "shapedefaults": {
           "line": {
            "color": "#2a3f5f"
           }
          },
          "ternary": {
           "aaxis": {
            "gridcolor": "white",
            "linecolor": "white",
            "ticks": ""
           },
           "baxis": {
            "gridcolor": "white",
            "linecolor": "white",
            "ticks": ""
           },
           "bgcolor": "#E5ECF6",
           "caxis": {
            "gridcolor": "white",
            "linecolor": "white",
            "ticks": ""
           }
          },
          "title": {
           "x": 0.05
          },
          "xaxis": {
           "automargin": true,
           "gridcolor": "white",
           "linecolor": "white",
           "ticks": "",
           "title": {
            "standoff": 15
           },
           "zerolinecolor": "white",
           "zerolinewidth": 2
          },
          "yaxis": {
           "automargin": true,
           "gridcolor": "white",
           "linecolor": "white",
           "ticks": "",
           "title": {
            "standoff": 15
           },
           "zerolinecolor": "white",
           "zerolinewidth": 2
          }
         }
        },
        "title": {
         "text": "Distribution of labels (GEO=['texas', 'florida'])"
        },
        "xaxis": {
         "anchor": "y",
         "domain": [
          0,
          1
         ],
         "title": {
          "text": "Label"
         }
        },
        "yaxis": {
         "anchor": "x",
         "domain": [
          0,
          1
         ],
         "title": {
          "text": "Count"
         }
        }
       }
      }
     },
     "metadata": {},
     "output_type": "display_data"
    }
   ],
   "source": [
    "mbad_pcnt = df[df.label == \"mbad\"].shape[0] / df.shape[0]\n",
    "mgood_pcnt = df[df.label == \"mgood\"].shape[0] / df.shape[0]\n",
    "mbad_or_mgood_pcnt = df[df.label.isin([\"mbad\", \"mgood\"])].shape[0] / df.shape[0]\n",
    "print(\n",
    "    f\"mbad: {mbad_pcnt:.2%}, mgood: {mgood_pcnt:.2%}, mbad or mgood: {mbad_or_mgood_pcnt:.2%}\"\n",
    ")\n",
    "\n",
    "bar_vals = df.label.value_counts()\n",
    "\n",
    "fig = px.bar(\n",
    "    bar_vals,\n",
    "    x=bar_vals.index,\n",
    "    y=bar_vals.values,\n",
    "    title=f\"Distribution of labels (GEO={GEO})\",\n",
    "    labels={\"index\": \"Label\", \"y\": \"Count\"}\n",
    ")\n",
    "\n",
    "fig.show()"
   ]
  },
  {
   "attachments": {},
   "cell_type": "markdown",
   "metadata": {},
   "source": [
    "## Correlation filter helper function\n",
    "This function allows us to filter down to only include highly correlated features with the label."
   ]
  },
  {
   "cell_type": "code",
   "execution_count": 4,
   "metadata": {},
   "outputs": [],
   "source": [
    "def corr_filter(features, corr_thresh=0.05) -> pd.DataFrame:\n",
    "    \"\"\"Filter features based on correlation with label.\"\"\"\n",
    "\n",
    "    if corr_thresh is None:\n",
    "        return features\n",
    "\n",
    "    to_filter = features.copy()\n",
    "    \n",
    "    to_filter[\"review_id\"] = df.review_id\n",
    "    to_filter[\"label\"] = df.label\n",
    "\n",
    "    # drop na labels. Thanks Charlie :/\n",
    "    to_filter = to_filter.dropna(subset=[\"label\"])\n",
    "\n",
    "    # Turn labels into numbers\n",
    "    labels_list: list = to_filter.label.unique().tolist()\n",
    "    to_filter.label = to_filter.label.apply(lambda label: labels_list.index(label))\n",
    "\n",
    "    # calculate correlation of features with label\n",
    "    features_to_filter = to_filter.drop([\"review_id\", \"label\"], axis=1)\n",
    "    corrs = features_to_filter.corrwith(to_filter.label).sort_values(ascending=False)\n",
    "\n",
    "    # filter features\n",
    "    highly_correlated_features = corrs[corrs.abs() > corr_thresh].index\n",
    "    # drop features with nan correlation\n",
    "    highly_correlated_features = highly_correlated_features.dropna()\n",
    "\n",
    "    # filter features\n",
    "    print(f\"Features above correlation threshold ({corr_thresh}):\")\n",
    "    print(highly_correlated_features.tolist())\n",
    "    filtered = features[highly_correlated_features]\n",
    "    \n",
    "    return filtered"
   ]
  },
  {
   "attachments": {},
   "cell_type": "markdown",
   "metadata": {},
   "source": [
    "### Ngrams"
   ]
  },
  {
   "attachments": {},
   "cell_type": "markdown",
   "metadata": {},
   "source": [
    "What are the most common ngrams for the different types of reviews? What are the most common overlaps?"
   ]
  },
  {
   "cell_type": "code",
   "execution_count": 5,
   "metadata": {},
   "outputs": [],
   "source": [
    "def get_consecutive_ngrams(review, n) -> list:\n",
    "    \"\"\"Helper function to get ngrams from a review.\n",
    "\n",
    "    Args:\n",
    "        review (str): The review to get ngrams from.\n",
    "        n (int): The number of ngrams to get.\n",
    "\n",
    "    Returns:\n",
    "        list: the list of ngrams, joined by underscores.\n",
    "    \"\"\"\n",
    "    if isinstance(review, str):\n",
    "        review = review.split(\"\")\n",
    "\n",
    "    return [\"_\".join(review[i:i+n]) for i in range(len(review)-n-1)]\n",
    "\n",
    "def series_to_ngrams(series: pd.Series, N):\n",
    "    n_grams = series.apply(lambda x: get_consecutive_ngrams(x, N))\n",
    "    return n_grams.explode()\n",
    "\n",
    "def get_exclusive_sizes(good: set, bad: set, mgood: set, mbad: set) -> dict:\n",
    "    \"\"\"Get the sizes of the exclusive sets\"\"\"\n",
    "\n",
    "    only_good = good - bad - mgood - mbad\n",
    "    only_bad = bad - good - mgood - mbad\n",
    "    only_mgood = mgood - good - bad - mbad\n",
    "    only_mbad = mbad - good - bad - mgood\n",
    "    \n",
    "    return {\n",
    "        \"good\": len(only_good),\n",
    "        \"bad\": len(only_bad),\n",
    "        \"mgood\": len(only_mgood),\n",
    "        \"mbad\": len(only_mbad)\n",
    "    }"
   ]
  },
  {
   "attachments": {},
   "cell_type": "markdown",
   "metadata": {},
   "source": [
    "We can look at the number of unique values to each label for different values of N on a line chart."
   ]
  },
  {
   "cell_type": "code",
   "execution_count": 6,
   "metadata": {},
   "outputs": [
    {
     "data": {
      "application/vnd.plotly.v1+json": {
       "config": {
        "plotlyServerURL": "https://plot.ly"
       },
       "data": [
        {
         "hovertemplate": "label=bad<br>N-gram size=%{x}<br>Unique # of n-grams=%{y}<extra></extra>",
         "legendgroup": "bad",
         "line": {
          "color": "#636efa",
          "dash": "solid"
         },
         "marker": {
          "symbol": "circle"
         },
         "mode": "lines+markers",
         "name": "bad",
         "orientation": "v",
         "showlegend": true,
         "type": "scatter",
         "x": [
          1,
          2,
          3,
          4,
          5,
          6
         ],
         "xaxis": "x",
         "y": [
          387,
          5970,
          8193,
          8330,
          8260,
          8181
         ],
         "yaxis": "y"
        },
        {
         "hovertemplate": "label=mgood<br>N-gram size=%{x}<br>Unique # of n-grams=%{y}<extra></extra>",
         "legendgroup": "mgood",
         "line": {
          "color": "#EF553B",
          "dash": "solid"
         },
         "marker": {
          "symbol": "circle"
         },
         "mode": "lines+markers",
         "name": "mgood",
         "orientation": "v",
         "showlegend": true,
         "type": "scatter",
         "x": [
          1,
          2,
          3,
          4,
          5,
          6
         ],
         "xaxis": "x",
         "y": [
          235,
          4541,
          6795,
          7041,
          6984,
          6886
         ],
         "yaxis": "y"
        },
        {
         "hovertemplate": "label=mbad<br>N-gram size=%{x}<br>Unique # of n-grams=%{y}<extra></extra>",
         "legendgroup": "mbad",
         "line": {
          "color": "#00cc96",
          "dash": "solid"
         },
         "marker": {
          "symbol": "circle"
         },
         "mode": "lines+markers",
         "name": "mbad",
         "orientation": "v",
         "showlegend": true,
         "type": "scatter",
         "x": [
          1,
          2,
          3,
          4,
          5,
          6
         ],
         "xaxis": "x",
         "y": [
          634,
          9297,
          12856,
          13137,
          13040,
          12918
         ],
         "yaxis": "y"
        }
       ],
       "layout": {
        "legend": {
         "title": {
          "text": "label"
         },
         "tracegroupgap": 0
        },
        "template": {
         "data": {
          "bar": [
           {
            "error_x": {
             "color": "#2a3f5f"
            },
            "error_y": {
             "color": "#2a3f5f"
            },
            "marker": {
             "line": {
              "color": "#E5ECF6",
              "width": 0.5
             },
             "pattern": {
              "fillmode": "overlay",
              "size": 10,
              "solidity": 0.2
             }
            },
            "type": "bar"
           }
          ],
          "barpolar": [
           {
            "marker": {
             "line": {
              "color": "#E5ECF6",
              "width": 0.5
             },
             "pattern": {
              "fillmode": "overlay",
              "size": 10,
              "solidity": 0.2
             }
            },
            "type": "barpolar"
           }
          ],
          "carpet": [
           {
            "aaxis": {
             "endlinecolor": "#2a3f5f",
             "gridcolor": "white",
             "linecolor": "white",
             "minorgridcolor": "white",
             "startlinecolor": "#2a3f5f"
            },
            "baxis": {
             "endlinecolor": "#2a3f5f",
             "gridcolor": "white",
             "linecolor": "white",
             "minorgridcolor": "white",
             "startlinecolor": "#2a3f5f"
            },
            "type": "carpet"
           }
          ],
          "choropleth": [
           {
            "colorbar": {
             "outlinewidth": 0,
             "ticks": ""
            },
            "type": "choropleth"
           }
          ],
          "contour": [
           {
            "colorbar": {
             "outlinewidth": 0,
             "ticks": ""
            },
            "colorscale": [
             [
              0,
              "#0d0887"
             ],
             [
              0.1111111111111111,
              "#46039f"
             ],
             [
              0.2222222222222222,
              "#7201a8"
             ],
             [
              0.3333333333333333,
              "#9c179e"
             ],
             [
              0.4444444444444444,
              "#bd3786"
             ],
             [
              0.5555555555555556,
              "#d8576b"
             ],
             [
              0.6666666666666666,
              "#ed7953"
             ],
             [
              0.7777777777777778,
              "#fb9f3a"
             ],
             [
              0.8888888888888888,
              "#fdca26"
             ],
             [
              1,
              "#f0f921"
             ]
            ],
            "type": "contour"
           }
          ],
          "contourcarpet": [
           {
            "colorbar": {
             "outlinewidth": 0,
             "ticks": ""
            },
            "type": "contourcarpet"
           }
          ],
          "heatmap": [
           {
            "colorbar": {
             "outlinewidth": 0,
             "ticks": ""
            },
            "colorscale": [
             [
              0,
              "#0d0887"
             ],
             [
              0.1111111111111111,
              "#46039f"
             ],
             [
              0.2222222222222222,
              "#7201a8"
             ],
             [
              0.3333333333333333,
              "#9c179e"
             ],
             [
              0.4444444444444444,
              "#bd3786"
             ],
             [
              0.5555555555555556,
              "#d8576b"
             ],
             [
              0.6666666666666666,
              "#ed7953"
             ],
             [
              0.7777777777777778,
              "#fb9f3a"
             ],
             [
              0.8888888888888888,
              "#fdca26"
             ],
             [
              1,
              "#f0f921"
             ]
            ],
            "type": "heatmap"
           }
          ],
          "heatmapgl": [
           {
            "colorbar": {
             "outlinewidth": 0,
             "ticks": ""
            },
            "colorscale": [
             [
              0,
              "#0d0887"
             ],
             [
              0.1111111111111111,
              "#46039f"
             ],
             [
              0.2222222222222222,
              "#7201a8"
             ],
             [
              0.3333333333333333,
              "#9c179e"
             ],
             [
              0.4444444444444444,
              "#bd3786"
             ],
             [
              0.5555555555555556,
              "#d8576b"
             ],
             [
              0.6666666666666666,
              "#ed7953"
             ],
             [
              0.7777777777777778,
              "#fb9f3a"
             ],
             [
              0.8888888888888888,
              "#fdca26"
             ],
             [
              1,
              "#f0f921"
             ]
            ],
            "type": "heatmapgl"
           }
          ],
          "histogram": [
           {
            "marker": {
             "pattern": {
              "fillmode": "overlay",
              "size": 10,
              "solidity": 0.2
             }
            },
            "type": "histogram"
           }
          ],
          "histogram2d": [
           {
            "colorbar": {
             "outlinewidth": 0,
             "ticks": ""
            },
            "colorscale": [
             [
              0,
              "#0d0887"
             ],
             [
              0.1111111111111111,
              "#46039f"
             ],
             [
              0.2222222222222222,
              "#7201a8"
             ],
             [
              0.3333333333333333,
              "#9c179e"
             ],
             [
              0.4444444444444444,
              "#bd3786"
             ],
             [
              0.5555555555555556,
              "#d8576b"
             ],
             [
              0.6666666666666666,
              "#ed7953"
             ],
             [
              0.7777777777777778,
              "#fb9f3a"
             ],
             [
              0.8888888888888888,
              "#fdca26"
             ],
             [
              1,
              "#f0f921"
             ]
            ],
            "type": "histogram2d"
           }
          ],
          "histogram2dcontour": [
           {
            "colorbar": {
             "outlinewidth": 0,
             "ticks": ""
            },
            "colorscale": [
             [
              0,
              "#0d0887"
             ],
             [
              0.1111111111111111,
              "#46039f"
             ],
             [
              0.2222222222222222,
              "#7201a8"
             ],
             [
              0.3333333333333333,
              "#9c179e"
             ],
             [
              0.4444444444444444,
              "#bd3786"
             ],
             [
              0.5555555555555556,
              "#d8576b"
             ],
             [
              0.6666666666666666,
              "#ed7953"
             ],
             [
              0.7777777777777778,
              "#fb9f3a"
             ],
             [
              0.8888888888888888,
              "#fdca26"
             ],
             [
              1,
              "#f0f921"
             ]
            ],
            "type": "histogram2dcontour"
           }
          ],
          "mesh3d": [
           {
            "colorbar": {
             "outlinewidth": 0,
             "ticks": ""
            },
            "type": "mesh3d"
           }
          ],
          "parcoords": [
           {
            "line": {
             "colorbar": {
              "outlinewidth": 0,
              "ticks": ""
             }
            },
            "type": "parcoords"
           }
          ],
          "pie": [
           {
            "automargin": true,
            "type": "pie"
           }
          ],
          "scatter": [
           {
            "fillpattern": {
             "fillmode": "overlay",
             "size": 10,
             "solidity": 0.2
            },
            "type": "scatter"
           }
          ],
          "scatter3d": [
           {
            "line": {
             "colorbar": {
              "outlinewidth": 0,
              "ticks": ""
             }
            },
            "marker": {
             "colorbar": {
              "outlinewidth": 0,
              "ticks": ""
             }
            },
            "type": "scatter3d"
           }
          ],
          "scattercarpet": [
           {
            "marker": {
             "colorbar": {
              "outlinewidth": 0,
              "ticks": ""
             }
            },
            "type": "scattercarpet"
           }
          ],
          "scattergeo": [
           {
            "marker": {
             "colorbar": {
              "outlinewidth": 0,
              "ticks": ""
             }
            },
            "type": "scattergeo"
           }
          ],
          "scattergl": [
           {
            "marker": {
             "colorbar": {
              "outlinewidth": 0,
              "ticks": ""
             }
            },
            "type": "scattergl"
           }
          ],
          "scattermapbox": [
           {
            "marker": {
             "colorbar": {
              "outlinewidth": 0,
              "ticks": ""
             }
            },
            "type": "scattermapbox"
           }
          ],
          "scatterpolar": [
           {
            "marker": {
             "colorbar": {
              "outlinewidth": 0,
              "ticks": ""
             }
            },
            "type": "scatterpolar"
           }
          ],
          "scatterpolargl": [
           {
            "marker": {
             "colorbar": {
              "outlinewidth": 0,
              "ticks": ""
             }
            },
            "type": "scatterpolargl"
           }
          ],
          "scatterternary": [
           {
            "marker": {
             "colorbar": {
              "outlinewidth": 0,
              "ticks": ""
             }
            },
            "type": "scatterternary"
           }
          ],
          "surface": [
           {
            "colorbar": {
             "outlinewidth": 0,
             "ticks": ""
            },
            "colorscale": [
             [
              0,
              "#0d0887"
             ],
             [
              0.1111111111111111,
              "#46039f"
             ],
             [
              0.2222222222222222,
              "#7201a8"
             ],
             [
              0.3333333333333333,
              "#9c179e"
             ],
             [
              0.4444444444444444,
              "#bd3786"
             ],
             [
              0.5555555555555556,
              "#d8576b"
             ],
             [
              0.6666666666666666,
              "#ed7953"
             ],
             [
              0.7777777777777778,
              "#fb9f3a"
             ],
             [
              0.8888888888888888,
              "#fdca26"
             ],
             [
              1,
              "#f0f921"
             ]
            ],
            "type": "surface"
           }
          ],
          "table": [
           {
            "cells": {
             "fill": {
              "color": "#EBF0F8"
             },
             "line": {
              "color": "white"
             }
            },
            "header": {
             "fill": {
              "color": "#C8D4E3"
             },
             "line": {
              "color": "white"
             }
            },
            "type": "table"
           }
          ]
         },
         "layout": {
          "annotationdefaults": {
           "arrowcolor": "#2a3f5f",
           "arrowhead": 0,
           "arrowwidth": 1
          },
          "autotypenumbers": "strict",
          "coloraxis": {
           "colorbar": {
            "outlinewidth": 0,
            "ticks": ""
           }
          },
          "colorscale": {
           "diverging": [
            [
             0,
             "#8e0152"
            ],
            [
             0.1,
             "#c51b7d"
            ],
            [
             0.2,
             "#de77ae"
            ],
            [
             0.3,
             "#f1b6da"
            ],
            [
             0.4,
             "#fde0ef"
            ],
            [
             0.5,
             "#f7f7f7"
            ],
            [
             0.6,
             "#e6f5d0"
            ],
            [
             0.7,
             "#b8e186"
            ],
            [
             0.8,
             "#7fbc41"
            ],
            [
             0.9,
             "#4d9221"
            ],
            [
             1,
             "#276419"
            ]
           ],
           "sequential": [
            [
             0,
             "#0d0887"
            ],
            [
             0.1111111111111111,
             "#46039f"
            ],
            [
             0.2222222222222222,
             "#7201a8"
            ],
            [
             0.3333333333333333,
             "#9c179e"
            ],
            [
             0.4444444444444444,
             "#bd3786"
            ],
            [
             0.5555555555555556,
             "#d8576b"
            ],
            [
             0.6666666666666666,
             "#ed7953"
            ],
            [
             0.7777777777777778,
             "#fb9f3a"
            ],
            [
             0.8888888888888888,
             "#fdca26"
            ],
            [
             1,
             "#f0f921"
            ]
           ],
           "sequentialminus": [
            [
             0,
             "#0d0887"
            ],
            [
             0.1111111111111111,
             "#46039f"
            ],
            [
             0.2222222222222222,
             "#7201a8"
            ],
            [
             0.3333333333333333,
             "#9c179e"
            ],
            [
             0.4444444444444444,
             "#bd3786"
            ],
            [
             0.5555555555555556,
             "#d8576b"
            ],
            [
             0.6666666666666666,
             "#ed7953"
            ],
            [
             0.7777777777777778,
             "#fb9f3a"
            ],
            [
             0.8888888888888888,
             "#fdca26"
            ],
            [
             1,
             "#f0f921"
            ]
           ]
          },
          "colorway": [
           "#636efa",
           "#EF553B",
           "#00cc96",
           "#ab63fa",
           "#FFA15A",
           "#19d3f3",
           "#FF6692",
           "#B6E880",
           "#FF97FF",
           "#FECB52"
          ],
          "font": {
           "color": "#2a3f5f"
          },
          "geo": {
           "bgcolor": "white",
           "lakecolor": "white",
           "landcolor": "#E5ECF6",
           "showlakes": true,
           "showland": true,
           "subunitcolor": "white"
          },
          "hoverlabel": {
           "align": "left"
          },
          "hovermode": "closest",
          "mapbox": {
           "style": "light"
          },
          "paper_bgcolor": "white",
          "plot_bgcolor": "#E5ECF6",
          "polar": {
           "angularaxis": {
            "gridcolor": "white",
            "linecolor": "white",
            "ticks": ""
           },
           "bgcolor": "#E5ECF6",
           "radialaxis": {
            "gridcolor": "white",
            "linecolor": "white",
            "ticks": ""
           }
          },
          "scene": {
           "xaxis": {
            "backgroundcolor": "#E5ECF6",
            "gridcolor": "white",
            "gridwidth": 2,
            "linecolor": "white",
            "showbackground": true,
            "ticks": "",
            "zerolinecolor": "white"
           },
           "yaxis": {
            "backgroundcolor": "#E5ECF6",
            "gridcolor": "white",
            "gridwidth": 2,
            "linecolor": "white",
            "showbackground": true,
            "ticks": "",
            "zerolinecolor": "white"
           },
           "zaxis": {
            "backgroundcolor": "#E5ECF6",
            "gridcolor": "white",
            "gridwidth": 2,
            "linecolor": "white",
            "showbackground": true,
            "ticks": "",
            "zerolinecolor": "white"
           }
          },
          "shapedefaults": {
           "line": {
            "color": "#2a3f5f"
           }
          },
          "ternary": {
           "aaxis": {
            "gridcolor": "white",
            "linecolor": "white",
            "ticks": ""
           },
           "baxis": {
            "gridcolor": "white",
            "linecolor": "white",
            "ticks": ""
           },
           "bgcolor": "#E5ECF6",
           "caxis": {
            "gridcolor": "white",
            "linecolor": "white",
            "ticks": ""
           }
          },
          "title": {
           "x": 0.05
          },
          "xaxis": {
           "automargin": true,
           "gridcolor": "white",
           "linecolor": "white",
           "ticks": "",
           "title": {
            "standoff": 15
           },
           "zerolinecolor": "white",
           "zerolinewidth": 2
          },
          "yaxis": {
           "automargin": true,
           "gridcolor": "white",
           "linecolor": "white",
           "ticks": "",
           "title": {
            "standoff": 15
           },
           "zerolinecolor": "white",
           "zerolinewidth": 2
          }
         }
        },
        "title": {
         "text": "Unique # of ['texas', 'florida'] n-grams for each label"
        },
        "xaxis": {
         "anchor": "y",
         "domain": [
          0,
          1
         ],
         "title": {
          "text": "N-gram size"
         }
        },
        "yaxis": {
         "anchor": "x",
         "domain": [
          0,
          1
         ],
         "title": {
          "text": "Unique # of n-grams"
         }
        }
       }
      }
     },
     "metadata": {},
     "output_type": "display_data"
    }
   ],
   "source": [
    "import plotly.express as px\n",
    "\n",
    "intersection_sizes = []\n",
    "for n in [1, 2, 3, 4, 5, 6]:\n",
    "\n",
    "    good_ngrams = series_to_ngrams(df[df.label == \"good\"].comments, n).value_counts()\n",
    "    bad_ngrams = series_to_ngrams(df[df.label == \"bad\"].comments, n).value_counts()\n",
    "    mgood_ngrams = series_to_ngrams(df[df.label == \"mgood\"].comments, n).value_counts()\n",
    "    mbad_ngrams = series_to_ngrams(df[df.label == \"mbad\"].comments, n).value_counts()\n",
    "    intersection_sizes_n = get_exclusive_sizes(\n",
    "        set(good_ngrams.index),\n",
    "        set(bad_ngrams.index),\n",
    "        set(mgood_ngrams.index),\n",
    "        set(mbad_ngrams.index)\n",
    "    )\n",
    "\n",
    "    intersection_sizes_n[\"n\"] = n\n",
    "\n",
    "    intersection_sizes.append(intersection_sizes_n)\n",
    "\n",
    "\n",
    "# prepare data\n",
    "is_df = pd.DataFrame(intersection_sizes)\n",
    "is_df = is_df.melt(id_vars=\"n\", var_name=\"label\", value_name=\"count\")\n",
    "is_df[\"count\"] = is_df[\"count\"].astype(int)\n",
    "is_df[\"n\"] = is_df[\"n\"].astype(int)\n",
    "\n",
    "# exclude good \n",
    "is_df = is_df[is_df.label != \"good\"]\n",
    "\n",
    "# plot a line chart\n",
    "px.line(is_df, \n",
    "    x=\"n\", y=\"count\",\n",
    "    color=\"label\",\n",
    "    title=f\"Unique # of {GEO} n-grams for each label\", \n",
    "    labels={\"n\": \"N-gram size\", \"count\": \"Unique # of n-grams\"},\n",
    "    markers=True\n",
    "    )"
   ]
  },
  {
   "attachments": {},
   "cell_type": "markdown",
   "metadata": {},
   "source": [
    "We can see that the number of unique ngrams increases until about n=3, and then levels off. What are the top 10 3-grams for misleading reviews?"
   ]
  },
  {
   "cell_type": "code",
   "execution_count": 7,
   "metadata": {},
   "outputs": [
    {
     "name": "stdout",
     "output_type": "stream",
     "text": [
      "Top 10 most common 3-grams in misleading reviews:\n"
     ]
    },
    {
     "data": {
      "text/plain": [
       "[('within_walking_distance', 11),\n",
       " ('would_not_recommend', 10),\n",
       " ('made_u_feel', 4),\n",
       " ('living_room_furniture', 4),\n",
       " ('not_recommend_staying', 4),\n",
       " ('not_big_deal', 4),\n",
       " ('great_place_stay', 4),\n",
       " ('let_u_know', 4),\n",
       " ('not_work_not', 3),\n",
       " ('give_4_star', 3)]"
      ]
     },
     "execution_count": 7,
     "metadata": {},
     "output_type": "execute_result"
    }
   ],
   "source": [
    "import numpy as np\n",
    "from collections import Counter\n",
    "\n",
    "# get subset of misleading reviews\n",
    "subset = df[df.label.isin([\"mbad\", \"mgood\"])]\n",
    "\n",
    "# get groups of N consecutive words\n",
    "N = 3\n",
    "n_grams = series_to_ngrams(subset.comments, N).to_list()\n",
    "\n",
    "print(f\"Top 10 most common {N}-grams in misleading reviews:\")\n",
    "Counter(n_grams).most_common(10)"
   ]
  },
  {
   "attachments": {},
   "cell_type": "markdown",
   "metadata": {},
   "source": [
    "Now let's look at a word cloud of the N-grams in misleading reviews."
   ]
  },
  {
   "cell_type": "code",
   "execution_count": 8,
   "metadata": {},
   "outputs": [
    {
     "data": {
      "application/vnd.plotly.v1+json": {
       "config": {
        "plotlyServerURL": "https://plot.ly"
       },
       "data": [
        {
         "hovertemplate": "x: %{x}<br>y: %{y}<br>color: [%{z[0]}, %{z[1]}, %{z[2]}]<extra></extra>",
         "name": "0",
         "source": "data:image/png;base64,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",
         "type": "image",
         "xaxis": "x",
         "yaxis": "y"
        }
       ],
       "layout": {
        "height": 700,
        "template": {
         "data": {
          "bar": [
           {
            "error_x": {
             "color": "#2a3f5f"
            },
            "error_y": {
             "color": "#2a3f5f"
            },
            "marker": {
             "line": {
              "color": "#E5ECF6",
              "width": 0.5
             },
             "pattern": {
              "fillmode": "overlay",
              "size": 10,
              "solidity": 0.2
             }
            },
            "type": "bar"
           }
          ],
          "barpolar": [
           {
            "marker": {
             "line": {
              "color": "#E5ECF6",
              "width": 0.5
             },
             "pattern": {
              "fillmode": "overlay",
              "size": 10,
              "solidity": 0.2
             }
            },
            "type": "barpolar"
           }
          ],
          "carpet": [
           {
            "aaxis": {
             "endlinecolor": "#2a3f5f",
             "gridcolor": "white",
             "linecolor": "white",
             "minorgridcolor": "white",
             "startlinecolor": "#2a3f5f"
            },
            "baxis": {
             "endlinecolor": "#2a3f5f",
             "gridcolor": "white",
             "linecolor": "white",
             "minorgridcolor": "white",
             "startlinecolor": "#2a3f5f"
            },
            "type": "carpet"
           }
          ],
          "choropleth": [
           {
            "colorbar": {
             "outlinewidth": 0,
             "ticks": ""
            },
            "type": "choropleth"
           }
          ],
          "contour": [
           {
            "colorbar": {
             "outlinewidth": 0,
             "ticks": ""
            },
            "colorscale": [
             [
              0,
              "#0d0887"
             ],
             [
              0.1111111111111111,
              "#46039f"
             ],
             [
              0.2222222222222222,
              "#7201a8"
             ],
             [
              0.3333333333333333,
              "#9c179e"
             ],
             [
              0.4444444444444444,
              "#bd3786"
             ],
             [
              0.5555555555555556,
              "#d8576b"
             ],
             [
              0.6666666666666666,
              "#ed7953"
             ],
             [
              0.7777777777777778,
              "#fb9f3a"
             ],
             [
              0.8888888888888888,
              "#fdca26"
             ],
             [
              1,
              "#f0f921"
             ]
            ],
            "type": "contour"
           }
          ],
          "contourcarpet": [
           {
            "colorbar": {
             "outlinewidth": 0,
             "ticks": ""
            },
            "type": "contourcarpet"
           }
          ],
          "heatmap": [
           {
            "colorbar": {
             "outlinewidth": 0,
             "ticks": ""
            },
            "colorscale": [
             [
              0,
              "#0d0887"
             ],
             [
              0.1111111111111111,
              "#46039f"
             ],
             [
              0.2222222222222222,
              "#7201a8"
             ],
             [
              0.3333333333333333,
              "#9c179e"
             ],
             [
              0.4444444444444444,
              "#bd3786"
             ],
             [
              0.5555555555555556,
              "#d8576b"
             ],
             [
              0.6666666666666666,
              "#ed7953"
             ],
             [
              0.7777777777777778,
              "#fb9f3a"
             ],
             [
              0.8888888888888888,
              "#fdca26"
             ],
             [
              1,
              "#f0f921"
             ]
            ],
            "type": "heatmap"
           }
          ],
          "heatmapgl": [
           {
            "colorbar": {
             "outlinewidth": 0,
             "ticks": ""
            },
            "colorscale": [
             [
              0,
              "#0d0887"
             ],
             [
              0.1111111111111111,
              "#46039f"
             ],
             [
              0.2222222222222222,
              "#7201a8"
             ],
             [
              0.3333333333333333,
              "#9c179e"
             ],
             [
              0.4444444444444444,
              "#bd3786"
             ],
             [
              0.5555555555555556,
              "#d8576b"
             ],
             [
              0.6666666666666666,
              "#ed7953"
             ],
             [
              0.7777777777777778,
              "#fb9f3a"
             ],
             [
              0.8888888888888888,
              "#fdca26"
             ],
             [
              1,
              "#f0f921"
             ]
            ],
            "type": "heatmapgl"
           }
          ],
          "histogram": [
           {
            "marker": {
             "pattern": {
              "fillmode": "overlay",
              "size": 10,
              "solidity": 0.2
             }
            },
            "type": "histogram"
           }
          ],
          "histogram2d": [
           {
            "colorbar": {
             "outlinewidth": 0,
             "ticks": ""
            },
            "colorscale": [
             [
              0,
              "#0d0887"
             ],
             [
              0.1111111111111111,
              "#46039f"
             ],
             [
              0.2222222222222222,
              "#7201a8"
             ],
             [
              0.3333333333333333,
              "#9c179e"
             ],
             [
              0.4444444444444444,
              "#bd3786"
             ],
             [
              0.5555555555555556,
              "#d8576b"
             ],
             [
              0.6666666666666666,
              "#ed7953"
             ],
             [
              0.7777777777777778,
              "#fb9f3a"
             ],
             [
              0.8888888888888888,
              "#fdca26"
             ],
             [
              1,
              "#f0f921"
             ]
            ],
            "type": "histogram2d"
           }
          ],
          "histogram2dcontour": [
           {
            "colorbar": {
             "outlinewidth": 0,
             "ticks": ""
            },
            "colorscale": [
             [
              0,
              "#0d0887"
             ],
             [
              0.1111111111111111,
              "#46039f"
             ],
             [
              0.2222222222222222,
              "#7201a8"
             ],
             [
              0.3333333333333333,
              "#9c179e"
             ],
             [
              0.4444444444444444,
              "#bd3786"
             ],
             [
              0.5555555555555556,
              "#d8576b"
             ],
             [
              0.6666666666666666,
              "#ed7953"
             ],
             [
              0.7777777777777778,
              "#fb9f3a"
             ],
             [
              0.8888888888888888,
              "#fdca26"
             ],
             [
              1,
              "#f0f921"
             ]
            ],
            "type": "histogram2dcontour"
           }
          ],
          "mesh3d": [
           {
            "colorbar": {
             "outlinewidth": 0,
             "ticks": ""
            },
            "type": "mesh3d"
           }
          ],
          "parcoords": [
           {
            "line": {
             "colorbar": {
              "outlinewidth": 0,
              "ticks": ""
             }
            },
            "type": "parcoords"
           }
          ],
          "pie": [
           {
            "automargin": true,
            "type": "pie"
           }
          ],
          "scatter": [
           {
            "fillpattern": {
             "fillmode": "overlay",
             "size": 10,
             "solidity": 0.2
            },
            "type": "scatter"
           }
          ],
          "scatter3d": [
           {
            "line": {
             "colorbar": {
              "outlinewidth": 0,
              "ticks": ""
             }
            },
            "marker": {
             "colorbar": {
              "outlinewidth": 0,
              "ticks": ""
             }
            },
            "type": "scatter3d"
           }
          ],
          "scattercarpet": [
           {
            "marker": {
             "colorbar": {
              "outlinewidth": 0,
              "ticks": ""
             }
            },
            "type": "scattercarpet"
           }
          ],
          "scattergeo": [
           {
            "marker": {
             "colorbar": {
              "outlinewidth": 0,
              "ticks": ""
             }
            },
            "type": "scattergeo"
           }
          ],
          "scattergl": [
           {
            "marker": {
             "colorbar": {
              "outlinewidth": 0,
              "ticks": ""
             }
            },
            "type": "scattergl"
           }
          ],
          "scattermapbox": [
           {
            "marker": {
             "colorbar": {
              "outlinewidth": 0,
              "ticks": ""
             }
            },
            "type": "scattermapbox"
           }
          ],
          "scatterpolar": [
           {
            "marker": {
             "colorbar": {
              "outlinewidth": 0,
              "ticks": ""
             }
            },
            "type": "scatterpolar"
           }
          ],
          "scatterpolargl": [
           {
            "marker": {
             "colorbar": {
              "outlinewidth": 0,
              "ticks": ""
             }
            },
            "type": "scatterpolargl"
           }
          ],
          "scatterternary": [
           {
            "marker": {
             "colorbar": {
              "outlinewidth": 0,
              "ticks": ""
             }
            },
            "type": "scatterternary"
           }
          ],
          "surface": [
           {
            "colorbar": {
             "outlinewidth": 0,
             "ticks": ""
            },
            "colorscale": [
             [
              0,
              "#0d0887"
             ],
             [
              0.1111111111111111,
              "#46039f"
             ],
             [
              0.2222222222222222,
              "#7201a8"
             ],
             [
              0.3333333333333333,
              "#9c179e"
             ],
             [
              0.4444444444444444,
              "#bd3786"
             ],
             [
              0.5555555555555556,
              "#d8576b"
             ],
             [
              0.6666666666666666,
              "#ed7953"
             ],
             [
              0.7777777777777778,
              "#fb9f3a"
             ],
             [
              0.8888888888888888,
              "#fdca26"
             ],
             [
              1,
              "#f0f921"
             ]
            ],
            "type": "surface"
           }
          ],
          "table": [
           {
            "cells": {
             "fill": {
              "color": "#EBF0F8"
             },
             "line": {
              "color": "white"
             }
            },
            "header": {
             "fill": {
              "color": "#C8D4E3"
             },
             "line": {
              "color": "white"
             }
            },
            "type": "table"
           }
          ]
         },
         "layout": {
          "annotationdefaults": {
           "arrowcolor": "#2a3f5f",
           "arrowhead": 0,
           "arrowwidth": 1
          },
          "autotypenumbers": "strict",
          "coloraxis": {
           "colorbar": {
            "outlinewidth": 0,
            "ticks": ""
           }
          },
          "colorscale": {
           "diverging": [
            [
             0,
             "#8e0152"
            ],
            [
             0.1,
             "#c51b7d"
            ],
            [
             0.2,
             "#de77ae"
            ],
            [
             0.3,
             "#f1b6da"
            ],
            [
             0.4,
             "#fde0ef"
            ],
            [
             0.5,
             "#f7f7f7"
            ],
            [
             0.6,
             "#e6f5d0"
            ],
            [
             0.7,
             "#b8e186"
            ],
            [
             0.8,
             "#7fbc41"
            ],
            [
             0.9,
             "#4d9221"
            ],
            [
             1,
             "#276419"
            ]
           ],
           "sequential": [
            [
             0,
             "#0d0887"
            ],
            [
             0.1111111111111111,
             "#46039f"
            ],
            [
             0.2222222222222222,
             "#7201a8"
            ],
            [
             0.3333333333333333,
             "#9c179e"
            ],
            [
             0.4444444444444444,
             "#bd3786"
            ],
            [
             0.5555555555555556,
             "#d8576b"
            ],
            [
             0.6666666666666666,
             "#ed7953"
            ],
            [
             0.7777777777777778,
             "#fb9f3a"
            ],
            [
             0.8888888888888888,
             "#fdca26"
            ],
            [
             1,
             "#f0f921"
            ]
           ],
           "sequentialminus": [
            [
             0,
             "#0d0887"
            ],
            [
             0.1111111111111111,
             "#46039f"
            ],
            [
             0.2222222222222222,
             "#7201a8"
            ],
            [
             0.3333333333333333,
             "#9c179e"
            ],
            [
             0.4444444444444444,
             "#bd3786"
            ],
            [
             0.5555555555555556,
             "#d8576b"
            ],
            [
             0.6666666666666666,
             "#ed7953"
            ],
            [
             0.7777777777777778,
             "#fb9f3a"
            ],
            [
             0.8888888888888888,
             "#fdca26"
            ],
            [
             1,
             "#f0f921"
            ]
           ]
          },
          "colorway": [
           "#636efa",
           "#EF553B",
           "#00cc96",
           "#ab63fa",
           "#FFA15A",
           "#19d3f3",
           "#FF6692",
           "#B6E880",
           "#FF97FF",
           "#FECB52"
          ],
          "font": {
           "color": "#2a3f5f"
          },
          "geo": {
           "bgcolor": "white",
           "lakecolor": "white",
           "landcolor": "#E5ECF6",
           "showlakes": true,
           "showland": true,
           "subunitcolor": "white"
          },
          "hoverlabel": {
           "align": "left"
          },
          "hovermode": "closest",
          "mapbox": {
           "style": "light"
          },
          "paper_bgcolor": "white",
          "plot_bgcolor": "#E5ECF6",
          "polar": {
           "angularaxis": {
            "gridcolor": "white",
            "linecolor": "white",
            "ticks": ""
           },
           "bgcolor": "#E5ECF6",
           "radialaxis": {
            "gridcolor": "white",
            "linecolor": "white",
            "ticks": ""
           }
          },
          "scene": {
           "xaxis": {
            "backgroundcolor": "#E5ECF6",
            "gridcolor": "white",
            "gridwidth": 2,
            "linecolor": "white",
            "showbackground": true,
            "ticks": "",
            "zerolinecolor": "white"
           },
           "yaxis": {
            "backgroundcolor": "#E5ECF6",
            "gridcolor": "white",
            "gridwidth": 2,
            "linecolor": "white",
            "showbackground": true,
            "ticks": "",
            "zerolinecolor": "white"
           },
           "zaxis": {
            "backgroundcolor": "#E5ECF6",
            "gridcolor": "white",
            "gridwidth": 2,
            "linecolor": "white",
            "showbackground": true,
            "ticks": "",
            "zerolinecolor": "white"
           }
          },
          "shapedefaults": {
           "line": {
            "color": "#2a3f5f"
           }
          },
          "ternary": {
           "aaxis": {
            "gridcolor": "white",
            "linecolor": "white",
            "ticks": ""
           },
           "baxis": {
            "gridcolor": "white",
            "linecolor": "white",
            "ticks": ""
           },
           "bgcolor": "#E5ECF6",
           "caxis": {
            "gridcolor": "white",
            "linecolor": "white",
            "ticks": ""
           }
          },
          "title": {
           "x": 0.05
          },
          "xaxis": {
           "automargin": true,
           "gridcolor": "white",
           "linecolor": "white",
           "ticks": "",
           "title": {
            "standoff": 15
           },
           "zerolinecolor": "white",
           "zerolinewidth": 2
          },
          "yaxis": {
           "automargin": true,
           "gridcolor": "white",
           "linecolor": "white",
           "ticks": "",
           "title": {
            "standoff": 15
           },
           "zerolinecolor": "white",
           "zerolinewidth": 2
          }
         }
        },
        "title": {
         "text": "Most common 3-grams in misleading reviews"
        },
        "width": 700,
        "xaxis": {
         "anchor": "y",
         "domain": [
          0,
          1
         ],
         "visible": false
        },
        "yaxis": {
         "anchor": "x",
         "domain": [
          0,
          1
         ],
         "visible": false
        }
       }
      }
     },
     "metadata": {},
     "output_type": "display_data"
    }
   ],
   "source": [
    "from wordcloud import WordCloud\n",
    "from PIL import Image\n",
    "\n",
    "ngrams_str = \" \".join(n_grams)\n",
    "\n",
    "# make house-shaped mask\n",
    "mask = np.array(Image.open(\"../../house_shape.png\"))\n",
    "# fill transparent areas with white\n",
    "mask[mask[:, :, 3] == 0] = [255, 255, 255, 255]\n",
    "\n",
    "# generate wordcloud\n",
    "wc = WordCloud(\n",
    "    background_color=\"white\", \n",
    "    max_words=1000, \n",
    "    width=mask.shape[0]*5,\n",
    "    height=mask.shape[1]*5,\n",
    "    mask = mask,\n",
    "    contour_width=3,\n",
    "    contour_color='steelblue',\n",
    "    colormap=\"twilight_shifted\"\n",
    ").generate(ngrams_str)\n",
    "\n",
    "wc\n",
    "\n",
    "# show wordcloud\n",
    "fig = px.imshow(wc, title=f\"Most common {N}-grams in misleading reviews\", width=700, height=700)\n",
    "fig.update_xaxes(visible=False)\n",
    "fig.update_yaxes(visible=False)\n",
    "fig.show()"
   ]
  },
  {
   "attachments": {},
   "cell_type": "markdown",
   "metadata": {},
   "source": [
    "Here is a reusable function to add ngrams features to a dataframe."
   ]
  },
  {
   "cell_type": "code",
   "execution_count": 9,
   "metadata": {},
   "outputs": [],
   "source": [
    "def ngrams_features(features, n, prefix=\"ngrams_\", corr_thresh=0.05):\n",
    "    \"\"\"Add n-gram features to the features dataframe.\"\"\"\n",
    "\n",
    "    # one-hot encode ngrams\n",
    "    df[\"ngrams\"] = df.comments.apply(lambda x: set(get_consecutive_ngrams(x, 3)))\n",
    "\n",
    "    # get set of ngrams\n",
    "    ng_set = set(series_to_ngrams(subset.comments, n).to_list())\n",
    "\n",
    "    # one-hot encode ngrams\n",
    "    ngram_features = {}\n",
    "    for ngram in ng_set:\n",
    "        ngram_features[prefix + ngram] = df.ngrams.apply(lambda ngrams: 1 if ngram in ngrams else 0)\n",
    "    ngram_df = pd.DataFrame(ngram_features)\n",
    "    \n",
    "    # filter features on correlation with label\n",
    "    ngrams_df = corr_filter(ngram_df, corr_thresh=corr_thresh)\n",
    "\n",
    "    # add ngram features to features dataframe\n",
    "    features = pd.concat([features, ngrams_df], axis=1)\n",
    "\n",
    "\n",
    "    return features"
   ]
  },
  {
   "cell_type": "code",
   "execution_count": 10,
   "metadata": {},
   "outputs": [
    {
     "name": "stdout",
     "output_type": "stream",
     "text": [
      "Features above correlation threshold (0.09):\n",
      "['ngrams_would_not_recommend', 'ngrams_no_toilet_paper', 'ngrams_not_recommend_staying', 'ngrams_write_negative_review', 'ngrams_sleep_bedroom_door', 'ngrams_specifically_asked_not', 'ngrams_told_cleaning_lady', 'ngrams_let_start_saying', 'ngrams_staying_another_unit', 'ngrams_felt_compelled_write', 'ngrams_living_room_couch', 'ngrams_property_management_company', 'ngrams_phone_call_text', 'ngrams_need_major_overhaul', 'ngrams_time_opened_door', 'ngrams_not_clean_arrived', 'ngrams_big_issue_u', 'ngrams_burned_light_bulb', 'ngrams_very_bad_shape', 'ngrams_never_responded_message', 'ngrams_not_feel_comfortable', 'ngrams_worse_experience_ever', 'ngrams_shower_curtain_covered', 'ngrams_place_sleep_10', 'ngrams_could_not_access', 'ngrams_never_met_host', 'ngrams_take_cold_shower', 'ngrams_old_not_well', 'ngrams_freezer_not_work', 'ngrams_got_no_response', 'ngrams_toilet_paper_buy', 'ngrams_not_really_clean', 'ngrams_expected_based_description', 'ngrams_got_no_answer', 'ngrams_need_deep_cleaning', 'ngrams_guest_not_able', 'ngrams_start_good_thing', 'ngrams_spend_lot_time', 'ngrams_very_old_not', 'ngrams_per_night_not', 'ngrams_obviously_not_cleaned', 'ngrams_call_text_message']\n"
     ]
    },
    {
     "data": {
      "text/html": [
       "<div>\n",
       "<style scoped>\n",
       "    .dataframe tbody tr th:only-of-type {\n",
       "        vertical-align: middle;\n",
       "    }\n",
       "\n",
       "    .dataframe tbody tr th {\n",
       "        vertical-align: top;\n",
       "    }\n",
       "\n",
       "    .dataframe thead th {\n",
       "        text-align: right;\n",
       "    }\n",
       "</style>\n",
       "<table border=\"1\" class=\"dataframe\">\n",
       "  <thead>\n",
       "    <tr style=\"text-align: right;\">\n",
       "      <th></th>\n",
       "      <th>ngrams_would_not_recommend</th>\n",
       "      <th>ngrams_no_toilet_paper</th>\n",
       "      <th>ngrams_not_recommend_staying</th>\n",
       "      <th>ngrams_write_negative_review</th>\n",
       "      <th>ngrams_sleep_bedroom_door</th>\n",
       "      <th>ngrams_specifically_asked_not</th>\n",
       "      <th>ngrams_told_cleaning_lady</th>\n",
       "      <th>ngrams_let_start_saying</th>\n",
       "      <th>ngrams_staying_another_unit</th>\n",
       "      <th>ngrams_felt_compelled_write</th>\n",
       "      <th>...</th>\n",
       "      <th>ngrams_expected_based_description</th>\n",
       "      <th>ngrams_got_no_answer</th>\n",
       "      <th>ngrams_need_deep_cleaning</th>\n",
       "      <th>ngrams_guest_not_able</th>\n",
       "      <th>ngrams_start_good_thing</th>\n",
       "      <th>ngrams_spend_lot_time</th>\n",
       "      <th>ngrams_very_old_not</th>\n",
       "      <th>ngrams_per_night_not</th>\n",
       "      <th>ngrams_obviously_not_cleaned</th>\n",
       "      <th>ngrams_call_text_message</th>\n",
       "    </tr>\n",
       "  </thead>\n",
       "  <tbody>\n",
       "    <tr>\n",
       "      <th>0</th>\n",
       "      <td>0</td>\n",
       "      <td>0</td>\n",
       "      <td>0</td>\n",
       "      <td>0</td>\n",
       "      <td>0</td>\n",
       "      <td>0</td>\n",
       "      <td>0</td>\n",
       "      <td>0</td>\n",
       "      <td>0</td>\n",
       "      <td>0</td>\n",
       "      <td>...</td>\n",
       "      <td>0</td>\n",
       "      <td>0</td>\n",
       "      <td>0</td>\n",
       "      <td>0</td>\n",
       "      <td>0</td>\n",
       "      <td>0</td>\n",
       "      <td>0</td>\n",
       "      <td>0</td>\n",
       "      <td>0</td>\n",
       "      <td>0</td>\n",
       "    </tr>\n",
       "    <tr>\n",
       "      <th>1</th>\n",
       "      <td>0</td>\n",
       "      <td>0</td>\n",
       "      <td>0</td>\n",
       "      <td>0</td>\n",
       "      <td>0</td>\n",
       "      <td>0</td>\n",
       "      <td>0</td>\n",
       "      <td>0</td>\n",
       "      <td>0</td>\n",
       "      <td>0</td>\n",
       "      <td>...</td>\n",
       "      <td>0</td>\n",
       "      <td>0</td>\n",
       "      <td>0</td>\n",
       "      <td>0</td>\n",
       "      <td>0</td>\n",
       "      <td>0</td>\n",
       "      <td>0</td>\n",
       "      <td>0</td>\n",
       "      <td>0</td>\n",
       "      <td>0</td>\n",
       "    </tr>\n",
       "    <tr>\n",
       "      <th>2</th>\n",
       "      <td>0</td>\n",
       "      <td>0</td>\n",
       "      <td>0</td>\n",
       "      <td>0</td>\n",
       "      <td>0</td>\n",
       "      <td>0</td>\n",
       "      <td>0</td>\n",
       "      <td>0</td>\n",
       "      <td>0</td>\n",
       "      <td>0</td>\n",
       "      <td>...</td>\n",
       "      <td>0</td>\n",
       "      <td>0</td>\n",
       "      <td>0</td>\n",
       "      <td>0</td>\n",
       "      <td>0</td>\n",
       "      <td>0</td>\n",
       "      <td>0</td>\n",
       "      <td>0</td>\n",
       "      <td>0</td>\n",
       "      <td>0</td>\n",
       "    </tr>\n",
       "    <tr>\n",
       "      <th>3</th>\n",
       "      <td>0</td>\n",
       "      <td>0</td>\n",
       "      <td>0</td>\n",
       "      <td>0</td>\n",
       "      <td>0</td>\n",
       "      <td>0</td>\n",
       "      <td>0</td>\n",
       "      <td>0</td>\n",
       "      <td>0</td>\n",
       "      <td>0</td>\n",
       "      <td>...</td>\n",
       "      <td>0</td>\n",
       "      <td>0</td>\n",
       "      <td>0</td>\n",
       "      <td>0</td>\n",
       "      <td>0</td>\n",
       "      <td>0</td>\n",
       "      <td>0</td>\n",
       "      <td>0</td>\n",
       "      <td>0</td>\n",
       "      <td>0</td>\n",
       "    </tr>\n",
       "    <tr>\n",
       "      <th>4</th>\n",
       "      <td>0</td>\n",
       "      <td>0</td>\n",
       "      <td>0</td>\n",
       "      <td>0</td>\n",
       "      <td>0</td>\n",
       "      <td>0</td>\n",
       "      <td>0</td>\n",
       "      <td>0</td>\n",
       "      <td>0</td>\n",
       "      <td>0</td>\n",
       "      <td>...</td>\n",
       "      <td>0</td>\n",
       "      <td>0</td>\n",
       "      <td>0</td>\n",
       "      <td>0</td>\n",
       "      <td>0</td>\n",
       "      <td>0</td>\n",
       "      <td>0</td>\n",
       "      <td>0</td>\n",
       "      <td>0</td>\n",
       "      <td>0</td>\n",
       "    </tr>\n",
       "    <tr>\n",
       "      <th>...</th>\n",
       "      <td>...</td>\n",
       "      <td>...</td>\n",
       "      <td>...</td>\n",
       "      <td>...</td>\n",
       "      <td>...</td>\n",
       "      <td>...</td>\n",
       "      <td>...</td>\n",
       "      <td>...</td>\n",
       "      <td>...</td>\n",
       "      <td>...</td>\n",
       "      <td>...</td>\n",
       "      <td>...</td>\n",
       "      <td>...</td>\n",
       "      <td>...</td>\n",
       "      <td>...</td>\n",
       "      <td>...</td>\n",
       "      <td>...</td>\n",
       "      <td>...</td>\n",
       "      <td>...</td>\n",
       "      <td>...</td>\n",
       "      <td>...</td>\n",
       "    </tr>\n",
       "    <tr>\n",
       "      <th>1541</th>\n",
       "      <td>0</td>\n",
       "      <td>0</td>\n",
       "      <td>0</td>\n",
       "      <td>1</td>\n",
       "      <td>0</td>\n",
       "      <td>0</td>\n",
       "      <td>0</td>\n",
       "      <td>0</td>\n",
       "      <td>0</td>\n",
       "      <td>0</td>\n",
       "      <td>...</td>\n",
       "      <td>0</td>\n",
       "      <td>0</td>\n",
       "      <td>0</td>\n",
       "      <td>0</td>\n",
       "      <td>0</td>\n",
       "      <td>0</td>\n",
       "      <td>0</td>\n",
       "      <td>0</td>\n",
       "      <td>0</td>\n",
       "      <td>0</td>\n",
       "    </tr>\n",
       "    <tr>\n",
       "      <th>1542</th>\n",
       "      <td>0</td>\n",
       "      <td>0</td>\n",
       "      <td>0</td>\n",
       "      <td>0</td>\n",
       "      <td>0</td>\n",
       "      <td>0</td>\n",
       "      <td>0</td>\n",
       "      <td>0</td>\n",
       "      <td>0</td>\n",
       "      <td>0</td>\n",
       "      <td>...</td>\n",
       "      <td>0</td>\n",
       "      <td>0</td>\n",
       "      <td>0</td>\n",
       "      <td>0</td>\n",
       "      <td>0</td>\n",
       "      <td>0</td>\n",
       "      <td>0</td>\n",
       "      <td>0</td>\n",
       "      <td>0</td>\n",
       "      <td>0</td>\n",
       "    </tr>\n",
       "    <tr>\n",
       "      <th>1543</th>\n",
       "      <td>0</td>\n",
       "      <td>0</td>\n",
       "      <td>0</td>\n",
       "      <td>0</td>\n",
       "      <td>0</td>\n",
       "      <td>0</td>\n",
       "      <td>0</td>\n",
       "      <td>0</td>\n",
       "      <td>0</td>\n",
       "      <td>0</td>\n",
       "      <td>...</td>\n",
       "      <td>0</td>\n",
       "      <td>0</td>\n",
       "      <td>0</td>\n",
       "      <td>0</td>\n",
       "      <td>0</td>\n",
       "      <td>0</td>\n",
       "      <td>0</td>\n",
       "      <td>0</td>\n",
       "      <td>0</td>\n",
       "      <td>0</td>\n",
       "    </tr>\n",
       "    <tr>\n",
       "      <th>1544</th>\n",
       "      <td>0</td>\n",
       "      <td>0</td>\n",
       "      <td>0</td>\n",
       "      <td>0</td>\n",
       "      <td>0</td>\n",
       "      <td>0</td>\n",
       "      <td>0</td>\n",
       "      <td>0</td>\n",
       "      <td>0</td>\n",
       "      <td>0</td>\n",
       "      <td>...</td>\n",
       "      <td>0</td>\n",
       "      <td>0</td>\n",
       "      <td>0</td>\n",
       "      <td>0</td>\n",
       "      <td>0</td>\n",
       "      <td>0</td>\n",
       "      <td>0</td>\n",
       "      <td>0</td>\n",
       "      <td>0</td>\n",
       "      <td>0</td>\n",
       "    </tr>\n",
       "    <tr>\n",
       "      <th>1545</th>\n",
       "      <td>0</td>\n",
       "      <td>0</td>\n",
       "      <td>0</td>\n",
       "      <td>0</td>\n",
       "      <td>0</td>\n",
       "      <td>0</td>\n",
       "      <td>0</td>\n",
       "      <td>0</td>\n",
       "      <td>0</td>\n",
       "      <td>0</td>\n",
       "      <td>...</td>\n",
       "      <td>0</td>\n",
       "      <td>0</td>\n",
       "      <td>0</td>\n",
       "      <td>0</td>\n",
       "      <td>0</td>\n",
       "      <td>0</td>\n",
       "      <td>0</td>\n",
       "      <td>0</td>\n",
       "      <td>0</td>\n",
       "      <td>0</td>\n",
       "    </tr>\n",
       "  </tbody>\n",
       "</table>\n",
       "<p>1546 rows × 42 columns</p>\n",
       "</div>"
      ],
      "text/plain": [
       "      ngrams_would_not_recommend  ngrams_no_toilet_paper  \\\n",
       "0                              0                       0   \n",
       "1                              0                       0   \n",
       "2                              0                       0   \n",
       "3                              0                       0   \n",
       "4                              0                       0   \n",
       "...                          ...                     ...   \n",
       "1541                           0                       0   \n",
       "1542                           0                       0   \n",
       "1543                           0                       0   \n",
       "1544                           0                       0   \n",
       "1545                           0                       0   \n",
       "\n",
       "      ngrams_not_recommend_staying  ngrams_write_negative_review  \\\n",
       "0                                0                             0   \n",
       "1                                0                             0   \n",
       "2                                0                             0   \n",
       "3                                0                             0   \n",
       "4                                0                             0   \n",
       "...                            ...                           ...   \n",
       "1541                             0                             1   \n",
       "1542                             0                             0   \n",
       "1543                             0                             0   \n",
       "1544                             0                             0   \n",
       "1545                             0                             0   \n",
       "\n",
       "      ngrams_sleep_bedroom_door  ngrams_specifically_asked_not  \\\n",
       "0                             0                              0   \n",
       "1                             0                              0   \n",
       "2                             0                              0   \n",
       "3                             0                              0   \n",
       "4                             0                              0   \n",
       "...                         ...                            ...   \n",
       "1541                          0                              0   \n",
       "1542                          0                              0   \n",
       "1543                          0                              0   \n",
       "1544                          0                              0   \n",
       "1545                          0                              0   \n",
       "\n",
       "      ngrams_told_cleaning_lady  ngrams_let_start_saying  \\\n",
       "0                             0                        0   \n",
       "1                             0                        0   \n",
       "2                             0                        0   \n",
       "3                             0                        0   \n",
       "4                             0                        0   \n",
       "...                         ...                      ...   \n",
       "1541                          0                        0   \n",
       "1542                          0                        0   \n",
       "1543                          0                        0   \n",
       "1544                          0                        0   \n",
       "1545                          0                        0   \n",
       "\n",
       "      ngrams_staying_another_unit  ngrams_felt_compelled_write  ...  \\\n",
       "0                               0                            0  ...   \n",
       "1                               0                            0  ...   \n",
       "2                               0                            0  ...   \n",
       "3                               0                            0  ...   \n",
       "4                               0                            0  ...   \n",
       "...                           ...                          ...  ...   \n",
       "1541                            0                            0  ...   \n",
       "1542                            0                            0  ...   \n",
       "1543                            0                            0  ...   \n",
       "1544                            0                            0  ...   \n",
       "1545                            0                            0  ...   \n",
       "\n",
       "      ngrams_expected_based_description  ngrams_got_no_answer  \\\n",
       "0                                     0                     0   \n",
       "1                                     0                     0   \n",
       "2                                     0                     0   \n",
       "3                                     0                     0   \n",
       "4                                     0                     0   \n",
       "...                                 ...                   ...   \n",
       "1541                                  0                     0   \n",
       "1542                                  0                     0   \n",
       "1543                                  0                     0   \n",
       "1544                                  0                     0   \n",
       "1545                                  0                     0   \n",
       "\n",
       "      ngrams_need_deep_cleaning  ngrams_guest_not_able  \\\n",
       "0                             0                      0   \n",
       "1                             0                      0   \n",
       "2                             0                      0   \n",
       "3                             0                      0   \n",
       "4                             0                      0   \n",
       "...                         ...                    ...   \n",
       "1541                          0                      0   \n",
       "1542                          0                      0   \n",
       "1543                          0                      0   \n",
       "1544                          0                      0   \n",
       "1545                          0                      0   \n",
       "\n",
       "      ngrams_start_good_thing  ngrams_spend_lot_time  ngrams_very_old_not  \\\n",
       "0                           0                      0                    0   \n",
       "1                           0                      0                    0   \n",
       "2                           0                      0                    0   \n",
       "3                           0                      0                    0   \n",
       "4                           0                      0                    0   \n",
       "...                       ...                    ...                  ...   \n",
       "1541                        0                      0                    0   \n",
       "1542                        0                      0                    0   \n",
       "1543                        0                      0                    0   \n",
       "1544                        0                      0                    0   \n",
       "1545                        0                      0                    0   \n",
       "\n",
       "      ngrams_per_night_not  ngrams_obviously_not_cleaned  \\\n",
       "0                        0                             0   \n",
       "1                        0                             0   \n",
       "2                        0                             0   \n",
       "3                        0                             0   \n",
       "4                        0                             0   \n",
       "...                    ...                           ...   \n",
       "1541                     0                             0   \n",
       "1542                     0                             0   \n",
       "1543                     0                             0   \n",
       "1544                     0                             0   \n",
       "1545                     0                             0   \n",
       "\n",
       "      ngrams_call_text_message  \n",
       "0                            0  \n",
       "1                            0  \n",
       "2                            0  \n",
       "3                            0  \n",
       "4                            0  \n",
       "...                        ...  \n",
       "1541                         0  \n",
       "1542                         0  \n",
       "1543                         0  \n",
       "1544                         0  \n",
       "1545                         0  \n",
       "\n",
       "[1546 rows x 42 columns]"
      ]
     },
     "execution_count": 10,
     "metadata": {},
     "output_type": "execute_result"
    }
   ],
   "source": [
    "features = pd.DataFrame()\n",
    "ngrams_features(features, 3, prefix=\"ngrams_\", corr_thresh=0.09)"
   ]
  },
  {
   "attachments": {},
   "cell_type": "markdown",
   "metadata": {},
   "source": [
    "## \"Mentioned Amenities\" Features\n",
    "Was an amenity that was included in the listing mentioned in the review?"
   ]
  },
  {
   "attachments": {},
   "cell_type": "markdown",
   "metadata": {},
   "source": [
    "First, we need to do some cleaning amenities to make them easier to match."
   ]
  },
  {
   "cell_type": "code",
   "execution_count": 10,
   "metadata": {},
   "outputs": [],
   "source": [
    "import re\n",
    "\n",
    "def clean_amenities(amenities):\n",
    "    \"\"\"Clean the amenities column.\"\"\"\n",
    "\n",
    "    cleaned = []\n",
    "\n",
    "    # basic cleaning\n",
    "    for amenity in amenities:\n",
    "        # remove quotes\n",
    "        amenity = amenity.replace('\"', \"\")\n",
    "        # remove anything in parentheses or brackets\n",
    "        amenity = re.sub(r\"\\(.*\\)\", \"\", amenity)\n",
    "        amenity = re.sub(r\"\\[.*\\]\", \"\", amenity)\n",
    "        # strip whitespace\n",
    "        amenity = amenity.strip()\n",
    "        # lowercase\n",
    "        amenity = amenity.lower()\n",
    "        # remove curly brackets\n",
    "        amenity = amenity.replace(\"{\", \"\").replace(\"}\", \"\")\n",
    "\n",
    "\n",
    "        cleaned.append(amenity)\n",
    "\n",
    "    # split entries with a slash, \"and\", or \"or\"\n",
    "    for to_split_on in [\"/\", \" and \", \" or \"]:\n",
    "        cleaned = [amenity.split(to_split_on) for amenity in cleaned]\n",
    "        cleaned = [item.strip() for sublist in cleaned for item in sublist]\n",
    "\n",
    "    # remove empty strings\n",
    "    cleaned = [amenity for amenity in cleaned if amenity != \"\"]\n",
    "\n",
    "    return cleaned\n",
    "\n",
    "df.amenities = df.amenities.apply(clean_amenities)"
   ]
  },
  {
   "attachments": {},
   "cell_type": "markdown",
   "metadata": {},
   "source": [
    "Look at some examples of the cleaned amenities."
   ]
  },
  {
   "cell_type": "code",
   "execution_count": 12,
   "metadata": {},
   "outputs": [
    {
     "data": {
      "text/plain": [
       "['tv',\n",
       " 'cable tv',\n",
       " 'internet',\n",
       " 'wifi',\n",
       " 'air conditioning',\n",
       " 'pool',\n",
       " 'kitchen',\n",
       " 'gym',\n",
       " 'elevator',\n",
       " 'family',\n",
       " 'kid friendly',\n",
       " 'washer',\n",
       " 'dryer',\n",
       " 'essentials',\n",
       " 'hair dryer',\n",
       " 'self check-in',\n",
       " 'smart lock',\n",
       " 'hot water']"
      ]
     },
     "execution_count": 12,
     "metadata": {},
     "output_type": "execute_result"
    }
   ],
   "source": [
    "df.amenities.sample(1).values[0]"
   ]
  },
  {
   "attachments": {},
   "cell_type": "markdown",
   "metadata": {},
   "source": [
    "Calculate our amenities features, and look at the correlation between them and the label."
   ]
  },
  {
   "cell_type": "code",
   "execution_count": 11,
   "metadata": {},
   "outputs": [
    {
     "name": "stdout",
     "output_type": "stream",
     "text": [
      "Adding amenities features...\n",
      "Features above correlation threshold (0.05):\n",
      "['lockbox', 'dishwasher', 'pool', 'keypad', 'tv', 'stove', 'bathtub', 'balcony', 'shampoo', 'garden', 'cat', 'family', 'breakfast']\n"
     ]
    },
    {
     "data": {
      "text/html": [
       "<div>\n",
       "<style scoped>\n",
       "    .dataframe tbody tr th:only-of-type {\n",
       "        vertical-align: middle;\n",
       "    }\n",
       "\n",
       "    .dataframe tbody tr th {\n",
       "        vertical-align: top;\n",
       "    }\n",
       "\n",
       "    .dataframe thead th {\n",
       "        text-align: right;\n",
       "    }\n",
       "</style>\n",
       "<table border=\"1\" class=\"dataframe\">\n",
       "  <thead>\n",
       "    <tr style=\"text-align: right;\">\n",
       "      <th></th>\n",
       "      <th>lockbox</th>\n",
       "      <th>dishwasher</th>\n",
       "      <th>pool</th>\n",
       "      <th>keypad</th>\n",
       "      <th>tv</th>\n",
       "      <th>stove</th>\n",
       "      <th>bathtub</th>\n",
       "      <th>balcony</th>\n",
       "      <th>shampoo</th>\n",
       "      <th>garden</th>\n",
       "      <th>cat</th>\n",
       "      <th>family</th>\n",
       "      <th>breakfast</th>\n",
       "      <th>review_id</th>\n",
       "      <th>label</th>\n",
       "    </tr>\n",
       "  </thead>\n",
       "  <tbody>\n",
       "    <tr>\n",
       "      <th>0</th>\n",
       "      <td>0.0</td>\n",
       "      <td>0.0</td>\n",
       "      <td>0.0</td>\n",
       "      <td>0.0</td>\n",
       "      <td>0.0</td>\n",
       "      <td>0.0</td>\n",
       "      <td>0.0</td>\n",
       "      <td>0.0</td>\n",
       "      <td>0.0</td>\n",
       "      <td>0.0</td>\n",
       "      <td>0.0</td>\n",
       "      <td>0.0</td>\n",
       "      <td>0.0</td>\n",
       "      <td>83097</td>\n",
       "      <td>good</td>\n",
       "    </tr>\n",
       "    <tr>\n",
       "      <th>2</th>\n",
       "      <td>0.0</td>\n",
       "      <td>0.0</td>\n",
       "      <td>0.0</td>\n",
       "      <td>0.0</td>\n",
       "      <td>0.0</td>\n",
       "      <td>0.0</td>\n",
       "      <td>0.0</td>\n",
       "      <td>0.0</td>\n",
       "      <td>0.0</td>\n",
       "      <td>0.0</td>\n",
       "      <td>0.0</td>\n",
       "      <td>0.0</td>\n",
       "      <td>0.0</td>\n",
       "      <td>150928</td>\n",
       "      <td>good</td>\n",
       "    </tr>\n",
       "    <tr>\n",
       "      <th>4</th>\n",
       "      <td>0.0</td>\n",
       "      <td>0.0</td>\n",
       "      <td>0.0</td>\n",
       "      <td>0.0</td>\n",
       "      <td>0.0</td>\n",
       "      <td>0.0</td>\n",
       "      <td>0.0</td>\n",
       "      <td>0.0</td>\n",
       "      <td>0.0</td>\n",
       "      <td>1.0</td>\n",
       "      <td>0.0</td>\n",
       "      <td>0.0</td>\n",
       "      <td>0.0</td>\n",
       "      <td>8602878</td>\n",
       "      <td>good</td>\n",
       "    </tr>\n",
       "    <tr>\n",
       "      <th>5</th>\n",
       "      <td>0.0</td>\n",
       "      <td>0.0</td>\n",
       "      <td>0.0</td>\n",
       "      <td>0.0</td>\n",
       "      <td>0.0</td>\n",
       "      <td>0.0</td>\n",
       "      <td>0.0</td>\n",
       "      <td>0.0</td>\n",
       "      <td>0.0</td>\n",
       "      <td>0.0</td>\n",
       "      <td>0.0</td>\n",
       "      <td>0.0</td>\n",
       "      <td>0.0</td>\n",
       "      <td>17827296</td>\n",
       "      <td>mgood</td>\n",
       "    </tr>\n",
       "    <tr>\n",
       "      <th>6</th>\n",
       "      <td>0.0</td>\n",
       "      <td>0.0</td>\n",
       "      <td>0.0</td>\n",
       "      <td>0.0</td>\n",
       "      <td>0.0</td>\n",
       "      <td>0.0</td>\n",
       "      <td>0.0</td>\n",
       "      <td>0.0</td>\n",
       "      <td>0.0</td>\n",
       "      <td>0.0</td>\n",
       "      <td>0.0</td>\n",
       "      <td>0.0</td>\n",
       "      <td>0.0</td>\n",
       "      <td>22768604</td>\n",
       "      <td>good</td>\n",
       "    </tr>\n",
       "  </tbody>\n",
       "</table>\n",
       "</div>"
      ],
      "text/plain": [
       "   lockbox  dishwasher  pool  keypad   tv  stove  bathtub  balcony  shampoo  \\\n",
       "0      0.0         0.0   0.0     0.0  0.0    0.0      0.0      0.0      0.0   \n",
       "2      0.0         0.0   0.0     0.0  0.0    0.0      0.0      0.0      0.0   \n",
       "4      0.0         0.0   0.0     0.0  0.0    0.0      0.0      0.0      0.0   \n",
       "5      0.0         0.0   0.0     0.0  0.0    0.0      0.0      0.0      0.0   \n",
       "6      0.0         0.0   0.0     0.0  0.0    0.0      0.0      0.0      0.0   \n",
       "\n",
       "   garden  cat  family  breakfast  review_id  label  \n",
       "0     0.0  0.0     0.0        0.0      83097   good  \n",
       "2     0.0  0.0     0.0        0.0     150928   good  \n",
       "4     1.0  0.0     0.0        0.0    8602878   good  \n",
       "5     0.0  0.0     0.0        0.0   17827296  mgood  \n",
       "6     0.0  0.0     0.0        0.0   22768604   good  "
      ]
     },
     "execution_count": 11,
     "metadata": {},
     "output_type": "execute_result"
    }
   ],
   "source": [
    "def amenities_features(features: pd.DataFrame, corr_thresh=None, prefix=\"amenities_\") -> pd.DataFrame:\n",
    "    print(\"Adding amenities features...\")\n",
    "    amenities_features_df = pd.DataFrame()\n",
    "    # 1. Find the amenities in the listings\n",
    "    for index, row in df.iterrows():\n",
    "        # 1. Find the amenities in the listings\n",
    "        amenities = row.amenities\n",
    "\n",
    "        # Add one row to the features dataframe using pd.concat\n",
    "        amenities_features_df = pd.concat([amenities_features_df, pd.DataFrame(columns=amenities_features_df.columns)])\n",
    "\n",
    "        # 2. For each amenity, see if it is present in the review\n",
    "        for amenity in amenities:\n",
    "            if amenity in row.comments:\n",
    "                # 3. If it is present, add 1 for that feature\n",
    "                if amenity in amenities_features_df.columns:\n",
    "                    amenities_features_df.loc[index, amenity] = 1\n",
    "                #   If the amenity does not already exist from another review, add it to the features dataframe\n",
    "                else:\n",
    "                    amenities_features_df.loc[index, amenity] = 0\n",
    "    \n",
    "    # 4. fill missing values with 0\n",
    "    amenities_features_df = amenities_features_df.fillna(0)\n",
    "\n",
    "    # 6. Only keep amenities features that have a correlation with the label above a certain threshold\n",
    "    amenities_features_df = corr_filter(amenities_features_df, corr_thresh=corr_thresh)\n",
    "\n",
    "    # prefix features\n",
    "    amenities_features_df = amenities_features_df.add_prefix(prefix)\n",
    "\n",
    "    # 5. Add the features to the greater features dataframe\n",
    "    features = pd.concat([features, amenities_features_df], axis=1)\n",
    "\n",
    "    return features\n",
    "\n",
    "features = pd.DataFrame()\n",
    "features_with_amenities = amenities_features(features, corr_thresh=0.05, prefix=\"\")\n",
    "features_with_amenities[\"review_id\"] = df.review_id\n",
    "features_with_amenities[\"label\"] = df.label\n",
    "features_with_amenities.head()"
   ]
  },
  {
   "attachments": {},
   "cell_type": "markdown",
   "metadata": {},
   "source": [
    "Let's look at the amenities with the highest correlation to the label."
   ]
  },
  {
   "cell_type": "code",
   "execution_count": 14,
   "metadata": {},
   "outputs": [
    {
     "name": "stderr",
     "output_type": "stream",
     "text": [
      "C:\\Users\\grego\\AppData\\Local\\Temp\\ipykernel_28484\\2336534246.py:6: FutureWarning:\n",
      "\n",
      "The default value of numeric_only in DataFrame.corrwith is deprecated. In a future version, it will default to False. Select only valid columns or specify the value of numeric_only to silence this warning.\n",
      "\n"
     ]
    },
    {
     "data": {
      "text/plain": [
       "lockbox       0.122009\n",
       "dishwasher    0.093155\n",
       "pool          0.081142\n",
       "keypad        0.072611\n",
       "tv            0.064537\n",
       "stove         0.063505\n",
       "bathtub       0.063416\n",
       "balcony      -0.052142\n",
       "shampoo      -0.054976\n",
       "garden       -0.075141\n",
       "cat          -0.075388\n",
       "family       -0.083227\n",
       "breakfast    -0.084915\n",
       "dtype: float64"
      ]
     },
     "execution_count": 14,
     "metadata": {},
     "output_type": "execute_result"
    }
   ],
   "source": [
    "# OHE labels\n",
    "labels_list: list = features_with_amenities.label.unique().tolist()\n",
    "dummies = features_with_amenities.label.apply(lambda label: labels_list.index(label))\n",
    "\n",
    "# calculate correlations with the label\n",
    "corrs = features_with_amenities.drop(\"review_id\", axis=1).corrwith(dummies).sort_values(ascending=False)\n",
    "corrs"
   ]
  },
  {
   "attachments": {},
   "cell_type": "markdown",
   "metadata": {},
   "source": [
    "## Word Embeddings\n",
    "Another way to look at the data is to use word embeddings. We can use the word2vec model from gensim to create word embeddings for each word in the dataset. We can then take the average of all word vectors in a review to get a vector representation of the review. We will then reduce the dimensionality of the vectors using PCA."
   ]
  },
  {
   "cell_type": "code",
   "execution_count": 15,
   "metadata": {},
   "outputs": [],
   "source": [
    "from gensim.models.word2vec import Word2Vec\n",
    "from sklearn.decomposition import PCA\n",
    "from typing import Tuple\n",
    "\n",
    "def embeddings_features(features, emb_vector_size=300, col=\"comments\", pca_n_components=3) -> Tuple[pd.DataFrame, Word2Vec, PCA]:\n",
    "\n",
    "    print(\"Creating model...\")\n",
    "    w2v = Word2Vec(df[col].to_list(), \n",
    "            min_count=1,\n",
    "            vector_size=emb_vector_size,\n",
    "            workers=3, \n",
    "            window=3, \n",
    "            sg=1\n",
    "        )\n",
    "    \n",
    "    # generate embeddings\n",
    "    print(\"Generating embeddings...\")\n",
    "    get_review_embeddings = lambda review: np.mean([w2v.wv[word] for word in review if word in w2v.wv], axis=0)\n",
    "    embeddings = np.array([get_review_embeddings(review) for review in df[col].to_list()])\n",
    "    \n",
    "    # add embeddings to features dataframe, if PCA is not used\n",
    "    if pca_n_components is None:\n",
    "        for i in range(embeddings.shape[1]):\n",
    "            features[f\"embedding_{col}_{i}\"] = embeddings[:, i]\n",
    "        pca_trained = None\n",
    "    else:\n",
    "        # PCA\n",
    "        print(\"Performing PCA...\")\n",
    "        pca = PCA(n_components=pca_n_components)\n",
    "        pca_trained = pca.fit(embeddings)\n",
    "        pca_embeddings = pca.transform(embeddings)\n",
    "        for i in range(pca_embeddings.shape[1]):\n",
    "            features[f\"pca_{col}_{i}\"] = pca_embeddings[:, i]\n",
    "\n",
    "    return features, w2v, pca_trained"
   ]
  },
  {
   "attachments": {},
   "cell_type": "markdown",
   "metadata": {},
   "source": [
    "Let's try this out and visualize in 3D to see how well the reviews are separated by label."
   ]
  },
  {
   "cell_type": "code",
   "execution_count": 23,
   "metadata": {},
   "outputs": [
    {
     "name": "stdout",
     "output_type": "stream",
     "text": [
      "Creating model...\n",
      "Generating embeddings...\n",
      "Performing PCA...\n"
     ]
    },
    {
     "data": {
      "application/vnd.plotly.v1+json": {
       "config": {
        "plotlyServerURL": "https://plot.ly"
       },
       "data": [
        {
         "hovertemplate": "label=good<br>pca_comments_0=%{x}<br>pca_comments_1=%{y}<br>pca_comments_2=%{z}<extra></extra>",
         "legendgroup": "good",
         "marker": {
          "color": "#636efa",
          "opacity": 0.5,
          "size": 2,
          "symbol": "circle"
         },
         "mode": "markers",
         "name": "good",
         "scene": "scene",
         "showlegend": true,
         "type": "scatter3d",
         "x": [
          -0.05284915864467621,
          -0.15821126103401184,
          0.005554667208343744,
          -0.23590914905071259,
          0.036828525364398956,
          -0.21913889050483704,
          -0.0444064624607563,
          -0.08219671994447708,
          -0.2543071508407593,
          0.13072189688682556,
          0.21686911582946777,
          -0.12185676395893097,
          0.21828223764896393,
          -0.07336664944887161,
          -0.03472346439957619,
          -0.23226545751094818,
          0.06621123105287552,
          -0.4975298047065735,
          0.026741746813058853,
          -0.1475667804479599,
          -0.06408360600471497,
          0.05180252715945244,
          0.039478886872529984,
          -0.04827691987156868,
          -0.1400599628686905,
          0.22424806654453278,
          -0.3834645748138428,
          -0.09957123547792435,
          0.03586946800351143,
          -0.2452317774295807,
          -0.27558422088623047,
          -0.03635760396718979,
          -0.035082679241895676,
          -0.0037087725941091776,
          -0.21383005380630493,
          0.07535988092422485,
          -0.07011692225933075,
          0.01235851738601923,
          -0.3308454751968384,
          -0.25372621417045593,
          -0.337403267621994,
          -0.0826353207230568,
          0.024964727461338043,
          0.176162451505661,
          -0.026361405849456787,
          0.058925602585077286,
          -0.090300552546978,
          0.06860008835792542,
          0.04893023520708084,
          -0.11897390335798264,
          -0.27051207423210144,
          0.013190320692956448,
          -0.07919235527515411,
          -0.16649048030376434,
          0.022091690450906754,
          0.003909587860107422,
          -0.048809539526700974,
          0.0819898173213005,
          0.1145145446062088,
          0.34066298604011536,
          -0.026203041896224022,
          0.2129102647304535,
          -0.04825252294540405,
          -0.09400203078985214,
          0.08515388518571854,
          -0.04416676238179207,
          -0.09660696238279343,
          -0.2012220025062561,
          -0.1574018895626068,
          0.011772300116717815,
          -0.01515312772244215,
          -0.0001659334811847657,
          0.15182271599769592,
          0.06830993294715881,
          0.10545113682746887,
          0.09079726040363312,
          -0.24252459406852722,
          -0.04123752936720848,
          0.009335963055491447,
          -0.19635599851608276,
          0.11375284940004349,
          -0.5589536428451538,
          -0.06798800081014633,
          -0.25899267196655273,
          0.002006153343245387,
          -0.18166287243366241,
          -0.3547149896621704,
          -0.13090844452381134,
          -0.16286394000053406,
          0.118732750415802,
          0.1561112254858017,
          -0.08246909826993942,
          0.08457285910844803,
          0.1189168319106102,
          0.10849905014038086,
          0.05741002410650253,
          0.12038327753543854,
          0.11211558431386948,
          -0.01634129509329796,
          -0.042024947702884674,
          -0.01521589420735836,
          0.10310408473014832,
          0.1377483755350113,
          0.0036144426558166742,
          0.043180182576179504,
          -0.12725448608398438,
          0.16933898627758026,
          0.1061977669596672,
          -0.23808890581130981,
          0.020817754790186882,
          -0.26342931389808655,
          0.08892668783664703,
          -0.004638749174773693,
          0.11607607454061508,
          -0.01783854514360428,
          -0.06345634907484055,
          0.08244821429252625,
          0.2914540469646454,
          0.24340203404426575,
          0.18239977955818176,
          0.24067500233650208,
          0.22800780832767487,
          -0.07919348776340485,
          -0.25777801871299744,
          -0.49332553148269653,
          -0.10725325345993042,
          -0.09547748416662216,
          -0.07140986621379852,
          -0.12898913025856018,
          0.08612411469221115,
          -0.1512393355369568,
          -0.13366419076919556,
          -0.22445280849933624,
          -0.0009637566981837153,
          -0.32803118228912354,
          -0.599449098110199,
          -0.10979320108890533,
          -0.07483558356761932,
          0.18573883175849915,
          0.19207924604415894,
          0.7822102308273315,
          -0.14806880056858063,
          0.024235974997282028,
          -0.12920662760734558,
          0.01581728830933571,
          -0.0805845782160759,
          0.693340539932251,
          -0.36158907413482666,
          0.01933344081044197,
          -0.4014003574848175,
          -0.021471457555890083,
          -0.043566979467868805,
          -0.14858309924602509,
          -0.0634508803486824,
          -0.03485429659485817,
          0.052787940949201584,
          0.1724165976047516,
          0.21270401775836945,
          -0.09118536114692688,
          0.11222733557224274,
          0.25134655833244324,
          0.8562771677970886,
          -0.12220987677574158,
          -0.09438847005367279,
          0.08470191806554794,
          0.027049358934164047,
          -0.3496968150138855,
          -0.1854625940322876,
          -0.10478867590427399,
          -0.12653183937072754,
          0.08609873056411743,
          -0.06676768511533737,
          0.015276591293513775,
          -0.0302500631660223,
          -0.09493977576494217,
          -0.04304266348481178,
          0.06269773840904236,
          0.03375506401062012,
          0.03479519113898277,
          0.020244041457772255,
          -0.00025442460901103914,
          0.006431593094021082,
          0.17394252121448517,
          0.2180105745792389,
          0.04705515503883362,
          -0.18657389283180237,
          -0.2868846356868744,
          0.7473666071891785,
          0.8086215257644653,
          0.07628036290407181,
          0.31299781799316406,
          -0.13579244911670685,
          -0.13212788105010986,
          0.1323097199201584,
          -0.2561664879322052,
          -0.062468454241752625,
          0.09182239323854446,
          -0.0030541904270648956,
          -0.008942523039877415,
          -0.11593691259622574,
          -0.14790260791778564,
          -0.3312462270259857,
          -0.020050518214702606,
          -0.03704346343874931,
          -0.10866931080818176,
          0.0419464036822319,
          -0.08550596982240677,
          -0.0751204714179039,
          -0.013407458551228046,
          -0.10302045196294785,
          -0.10597022622823715,
          -0.1538422852754593,
          0.11639193445444107,
          0.09404660761356354,
          0.22057132422924042,
          -0.3084254562854767,
          0.021421534940600395,
          -0.06752536445856094,
          0.12341594696044922,
          -0.0743848979473114,
          0.209727942943573,
          -0.12464813888072968,
          0.059784114360809326,
          0.10325919836759567,
          -0.1634645015001297,
          -0.17314793169498444,
          0.14196959137916565,
          0.04737146571278572,
          0.13616685569286346,
          -0.06025179475545883,
          -0.04854856804013252,
          -0.017491262406110764,
          -0.1215815469622612,
          -0.09267500787973404,
          0.25010618567466736,
          0.35367727279663086,
          0.009542770683765411,
          -0.07715655863285065,
          0.1447748988866806,
          -0.062004271894693375,
          0.21121762692928314,
          0.0013432740233838558,
          0.16832071542739868,
          -0.06977047026157379,
          -0.5513734817504883,
          -0.1301347017288208,
          0.001128984265960753,
          -0.08743130415678024,
          0.05227131024003029,
          -0.1587613821029663,
          0.14497748017311096,
          -0.07555887848138809,
          -0.30919328331947327,
          -0.0019453333225101233,
          -0.23625057935714722,
          -0.10989025235176086,
          -0.0820048600435257,
          -0.050602953881025314,
          -0.5869672894477844,
          -0.23549030721187592,
          -0.06354241073131561,
          -0.12857119739055634,
          -0.02029496617615223,
          0.03647896274924278,
          0.11969352513551712,
          -0.139343723654747,
          -0.20922021567821503,
          0.28092527389526367,
          0.059932149946689606,
          -0.07656475156545639,
          0.1841839849948883,
          -0.1624739021062851,
          -0.4401583969593048,
          -0.09723567962646484,
          0.02998448722064495,
          0.04471440613269806,
          0.10500539094209671,
          -0.005591117776930332,
          0.25312384963035583,
          -0.12429644167423248,
          -0.2571731507778168,
          -0.313750296831131,
          -0.3875688910484314,
          0.12479568272829056,
          -0.0031982390210032463,
          -0.013673017732799053,
          0.021140826866030693,
          -0.29480209946632385,
          0.04162723198533058,
          0.0060678450390696526,
          0.027914710342884064,
          0.10378295183181763,
          0.06231912598013878,
          -0.004249404184520245,
          0.01925933174788952,
          0.07515799254179001,
          0.16615629196166992,
          0.02014247141778469,
          0.006506092846393585,
          0.007606046739965677,
          0.05592605844140053,
          -0.2517359256744385,
          -0.002251893514767289,
          -0.1945723593235016,
          0.11062946170568466,
          -0.11097187548875809,
          -0.321146696805954,
          -0.12039850652217865,
          0.26897314190864563,
          0.30737921595573425,
          -0.09444933384656906,
          0.07430615276098251,
          -0.03836989775300026,
          -0.10956411063671112,
          0.4045804738998413,
          -0.10537907481193542,
          -0.07561736553907394,
          -0.061268605291843414,
          -0.10043856501579285,
          0.22739966213703156,
          -0.06841645389795303,
          0.2719632685184479,
          -0.11012287437915802,
          0.2952194809913635,
          -0.05201691389083862,
          0.07622644305229187,
          -0.1269739270210266,
          -0.11499369889497757,
          0.11317996680736542,
          -0.23078162968158722,
          -0.09210418909788132,
          0.08957269787788391,
          -0.027434702962636948,
          -0.19468535482883453,
          0.1114024743437767,
          0.22937613725662231,
          0.1250692903995514,
          0.09989417344331741,
          -0.11734697222709656,
          -0.245934396982193,
          -0.13340429961681366,
          -0.17781281471252441,
          -0.18778279423713684,
          -0.0210227333009243,
          -0.39971303939819336,
          0.13355939090251923,
          0.10345423966646194,
          -0.10177937895059586,
          -0.016328277066349983,
          -0.15175694227218628,
          0.1801995038986206,
          -0.1344541311264038,
          0.1617499738931656,
          0.11058776080608368,
          0.08041013777256012,
          -0.16669701039791107,
          -0.0667390301823616,
          0.06265157461166382,
          -0.1649879664182663,
          0.05486046150326729,
          -0.14319850504398346,
          -0.22946205735206604,
          -0.03434941545128822,
          0.19683414697647095,
          0.003160236869007349,
          -0.051380351185798645,
          -0.24052134156227112,
          0.06263256072998047,
          0.06195436045527458,
          -0.04485595226287842,
          0.007128904573619366,
          -0.09452832490205765,
          -0.16447652876377106,
          -0.01819729432463646,
          -0.12178557366132736,
          -0.005346979945898056,
          -0.024061592295765877,
          -0.2944875657558441,
          -0.06879527866840363,
          0.012208281084895134,
          0.09963209927082062,
          -0.10651978105306625,
          -0.09794795513153076,
          0.007889579981565475,
          0.013820291496813297,
          -0.11088958382606506,
          -0.0856955498456955,
          -0.0942104235291481,
          -0.20878618955612183,
          -0.08694551140069962,
          0.1305924504995346,
          -0.10958801209926605,
          -0.012844746001064777,
          0.0016770301153883338,
          0.036767300218343735,
          -0.09310251474380493,
          -0.03853292390704155,
          -0.0033482625149190426,
          0.1455400139093399,
          0.05526905879378319,
          0.22038719058036804,
          0.11817317456007004,
          0.06597211956977844,
          -0.21530623733997345,
          -0.08824022114276886,
          0.009319430217146873,
          -0.21598878502845764,
          0.03636647015810013,
          0.13765938580036163,
          0.09574950486421585,
          -0.18036970496177673,
          -0.17039217054843903,
          0.32541245222091675,
          0.024829482659697533,
          -0.15589816868305206,
          -0.14117401838302612,
          0.06278514862060547,
          -0.1851738840341568,
          -0.1520201414823532,
          0.1852109581232071,
          -0.07452880591154099,
          0.14353962242603302,
          0.4283406138420105,
          -0.15868502855300903,
          0.1893584132194519,
          -0.42034468054771423,
          0.24172663688659668,
          -0.10552877932786942,
          -0.1497458964586258,
          -0.15060973167419434,
          0.1010969951748848,
          -0.39901459217071533,
          -0.07879672944545746,
          -0.13964082300662994,
          -0.04774332419037819,
          0.04151694104075432,
          -0.27236512303352356,
          -0.10655827075242996,
          -0.27571266889572144,
          -0.21756304800510406,
          -0.42943233251571655,
          -0.3668725788593292,
          -0.09085317701101303,
          0.21237170696258545,
          0.05415073409676552,
          0.033834028989076614,
          -0.12387941032648087,
          0.04075341671705246,
          0.10689178109169006,
          0.08459940552711487,
          0.065569669008255,
          -0.19222122430801392,
          -0.3925327658653259,
          -0.01641983725130558,
          -0.016623878851532936,
          -0.26717573404312134,
          -0.20276778936386108,
          -0.32635125517845154,
          -0.26484328508377075,
          -0.3088188171386719,
          0.26454195380210876,
          -0.28524649143218994,
          -0.3283088505268097,
          0.25531983375549316,
          -0.3391770124435425,
          -0.08033022284507751,
          0.07072275876998901,
          -0.0431210920214653,
          0.08987150341272354,
          -0.08643001317977905,
          0.15468308329582214,
          0.1602819561958313,
          -0.0848885327577591,
          -0.058309800922870636,
          -0.1365049183368683,
          -0.17980840802192688,
          -0.156320720911026,
          -0.04120471328496933,
          -0.30719414353370667,
          -0.10733912140130997,
          -0.10733912140130997,
          -0.10733912140130997,
          0.06234940141439438,
          -0.02312028594315052,
          0.10299438238143921,
          0.14823268353939056,
          0.12064816802740097,
          0.17943741381168365,
          0.12470214068889618,
          -0.16771531105041504,
          0.04659120365977287,
          0.05658285692334175,
          -0.22020293772220612,
          0.02847866900265217,
          -0.16705217957496643,
          -0.1274084448814392,
          -0.4045925438404083,
          -0.2535303235054016,
          0.21516071259975433,
          -0.37196943163871765,
          -0.0023650103248655796,
          -0.15743158757686615,
          -0.07254615426063538,
          -0.059392206370830536,
          -0.11647172272205353,
          -0.015785031020641327,
          0.1254047006368637,
          -0.17241574823856354,
          -0.09244294464588165,
          0.2245762050151825,
          0.15146179497241974,
          -0.04473019391298294,
          -0.2276681661605835,
          -0.3412506580352783,
          -0.1999594271183014,
          0.1382846087217331,
          -0.19110079109668732,
          -0.04786090552806854,
          0.08079342544078827,
          -0.005037866998463869,
          -0.24169452488422394,
          -0.04642576724290848,
          -0.26872730255126953,
          -0.34324702620506287,
          -0.2209148406982422,
          -0.42261725664138794,
          -0.09097074717283249,
          -0.15428362786769867,
          0.051284484565258026,
          -0.07215309143066406,
          -0.024595018476247787,
          0.03655465692281723,
          -0.13159306347370148,
          -0.407660573720932,
          0.13513875007629395,
          -0.19159473478794098,
          0.1894698590040207,
          -0.14308670163154602,
          0.09234816581010818,
          -0.2870188355445862,
          -0.002336987992748618,
          0.14787374436855316,
          -0.11074591428041458,
          -0.14270171523094177,
          0.020134318619966507,
          -0.07411199063062668,
          -0.21620720624923706,
          0.08928846567869186,
          0.07736434787511826,
          0.04612060636281967,
          -0.3058759868144989,
          -0.012709492817521095,
          -0.2606123387813568,
          -0.25013667345046997,
          -0.029551729559898376,
          -0.08937010914087296,
          -0.35880905389785767,
          -0.06517383456230164,
          -0.41807255148887634,
          -0.07349210977554321,
          -0.007016660179942846,
          -0.17906543612480164,
          -0.1052032932639122,
          0.06367837637662888,
          -0.09512337297201157,
          0.12236229330301285,
          -0.04169953987002373,
          0.047890082001686096,
          -0.05473694950342178,
          -0.13862065970897675,
          -0.05205143243074417,
          -0.07921060919761658,
          0.12423858791589737,
          0.04460177943110466,
          0.024192603304982185,
          -0.2919939458370209,
          -0.0022408950608223677,
          -0.3269420862197876,
          0.13444316387176514,
          -0.09552067518234253,
          0.1599699705839157,
          0.11686231195926666,
          0.049118805676698685,
          -0.3146548569202423,
          -0.3138345181941986,
          -0.027376793324947357,
          -0.06934080272912979,
          -0.2399180680513382,
          0.1126767173409462,
          0.15456147491931915,
          0.05355885997414589,
          0.060112498700618744,
          0.12589523196220398,
          -0.22499340772628784,
          -0.06981077790260315,
          -0.07049023360013962,
          -0.16673806309700012,
          -0.04704764485359192,
          0.006414277479052544,
          -0.09930871427059174,
          -0.05480553209781647,
          -0.019519612193107605,
          0.11668223142623901,
          -0.06845524162054062,
          -0.18132874369621277,
          -0.13133934140205383,
          -0.2746660113334656,
          -0.10338620841503143,
          0.04087696596980095,
          0.14393451809883118,
          0.25910139083862305,
          0.12474489957094193,
          0.19042374193668365,
          -0.08612509071826935,
          0.16370800137519836,
          0.17505110800266266,
          -0.0009765619761310518,
          0.02904466725885868,
          -0.09226418286561966,
          -0.0739242285490036,
          0.13513168692588806,
          -0.015303511172533035,
          -0.10273432731628418,
          -0.18148094415664673,
          -0.2513636648654938,
          -0.1118241623044014,
          -0.11404010653495789,
          0.0347275547683239,
          0.08202353119850159,
          0.3208390772342682,
          -0.32628127932548523,
          0.17958450317382812,
          -0.16035565733909607,
          -0.23569628596305847,
          -0.09903082996606827,
          -0.09694583714008331,
          -0.21977771818637848,
          -0.04471033439040184,
          -0.0858960822224617,
          0.18479150533676147,
          0.21651321649551392,
          0.1771550476551056,
          0.22156697511672974,
          -0.013535679318010807,
          -0.1584615558385849,
          -0.28850868344306946,
          -0.06940443813800812,
          -0.13094289600849152,
          -0.03089200146496296,
          -0.22066426277160645,
          0.03901749476790428,
          -0.22486455738544464,
          -0.12254157662391663,
          0.05970161780714989,
          -0.10601242631673813,
          -0.047662194818258286,
          0.13623462617397308,
          0.06683637201786041,
          -0.18621326982975006,
          -0.15820994973182678,
          -0.07493001967668533,
          -0.35003870725631714,
          0.04528278857469559,
          0.1279323250055313,
          0.16099803149700165,
          0.21675990521907806,
          0.015242336317896843,
          -0.08313900977373123,
          -0.04898166283965111,
          -0.11606284976005554,
          0.00882013514637947,
          -0.19987694919109344,
          -0.30085211992263794,
          -0.13762865960597992,
          -0.13420456647872925,
          -0.05311836674809456,
          -0.06159444898366928,
          -0.18162253499031067,
          0.05647047236561775,
          0.11802097409963608,
          0.18944157660007477,
          -0.29368412494659424,
          -0.17479072511196136,
          0.06385539472103119,
          0.14359121024608612,
          0.37672343850135803,
          -0.12136843055486679,
          0.09128354489803314,
          0.08370907604694366,
          -0.253023236989975,
          -0.03164055943489075,
          -0.15294411778450012,
          -0.08617119491100311,
          -0.15534548461437225,
          -0.08444944769144058,
          -0.09996610879898071,
          -0.07104140520095825,
          0.12842969596385956,
          -0.06288275867700577,
          0.11336831003427505,
          -0.4172990024089813,
          -0.06453952938318253,
          0.032117120921611786,
          -0.09946323931217194,
          -0.056497372686862946,
          -0.4245809018611908,
          -0.21400664746761322,
          -0.07173973321914673,
          0.06916849315166473,
          0.14151446521282196,
          -0.08594445139169693,
          -0.03916586935520172,
          0.092354416847229,
          0.012448698282241821,
          -0.05135534703731537,
          0.0374177023768425,
          -0.011667927727103233,
          -0.32835474610328674,
          -0.10444532334804535,
          0.03902275115251541,
          0.07831020653247833,
          -0.18255868554115295,
          -0.23856520652770996,
          -0.11618240177631378,
          -0.032554127275943756,
          0.0042572845704853535,
          -0.05585278943181038,
          -0.1048085018992424,
          -0.08506221324205399,
          -0.2279445230960846,
          -0.19831345975399017,
          0.005327221937477589,
          -0.05053721368312836,
          0.004456464666873217,
          0.0185406394302845,
          -0.18486560881137848,
          0.1550503969192505,
          -0.1180468499660492,
          -0.022677192464470863,
          0.03128117322921753,
          0.04820016026496887,
          -0.040570445358753204,
          -0.03497318550944328,
          0.017595939338207245,
          -0.039197735488414764,
          -0.21991531550884247,
          -0.08506221324205399,
          -0.03584432601928711,
          -0.09881094843149185,
          0.05764298141002655,
          0.08763232827186584,
          0.08407101780176163,
          0.11679723113775253,
          0.07403795421123505,
          0.06267105787992477,
          -0.059198733419179916,
          -0.015213239938020706,
          0.05018627643585205,
          -0.15560123324394226,
          0.11030592024326324,
          -0.12082130461931229,
          -0.03904183581471443,
          0.024522453546524048,
          -0.003673191647976637,
          -0.14266778528690338,
          -0.0761459544301033,
          -0.0557093471288681,
          -0.15441830456256866,
          -0.05940075218677521,
          -0.0362977609038353,
          -0.2135154902935028,
          0.01156705804169178,
          -0.02127247117459774,
          -0.1364053338766098,
          -0.11879806965589523,
          -0.12039438635110855,
          0.10677579790353775,
          -0.5132453441619873,
          -0.33166053891181946,
          0.0994347333908081,
          -0.1155579686164856,
          -0.12530794739723206,
          -0.1997908353805542,
          -0.24115608632564545,
          -0.021068356931209564,
          -0.018476950004696846,
          0.021579790860414505,
          -0.2652440667152405,
          -0.02528327889740467,
          -0.2931174039840698,
          -0.33785131573677063,
          0.0001517773198429495,
          -0.07424606382846832,
          0.07372163981199265,
          -0.16265609860420227,
          -0.00899992510676384,
          -0.05725446343421936,
          -0.1173320785164833,
          -0.14528341591358185,
          -0.14563828706741333,
          -0.2037452906370163,
          0.10686739534139633,
          -0.33172500133514404,
          -0.4253453314304352,
          0.05148603394627571,
          -0.3321693241596222,
          0.10321907699108124,
          0.1895812600851059,
          -0.010650022886693478,
          -0.07179000973701477,
          0.00821716245263815,
          0.1636299341917038,
          0.28873032331466675,
          0.000791852071415633,
          0.03287816792726517,
          0.14675183594226837,
          0.020012840628623962,
          0.09670070558786392,
          0.052879635244607925,
          0.042923614382743835,
          0.08121168613433838,
          0.036855414509773254,
          -0.03608538582921028,
          0.1398044377565384,
          -0.17379696667194366,
          -0.05178196355700493,
          -0.07243375480175018,
          0.06303537636995316,
          0.26912882924079895,
          -0.16419553756713867,
          -0.18896280229091644,
          0.00011028127482859418,
          -0.01709173060953617,
          0.20368321239948273,
          -0.07082679122686386,
          0.03404790908098221,
          -0.1016605868935585,
          -0.18245060741901398,
          0.1451193243265152,
          0.04562421143054962,
          0.09176773577928543,
          -0.3750024139881134,
          -0.11079654097557068,
          0.48815062642097473,
          0.14792725443840027,
          -0.16608622670173645,
          -0.027539437636733055,
          -0.2852960228919983,
          -0.03347894549369812,
          0.24824796617031097,
          -0.15058940649032593,
          -0.06478988379240036,
          -0.1235075518488884,
          0.0712527334690094,
          -0.06654011458158493,
          0.19075797498226166,
          -0.005922629032284021,
          -0.0792013555765152,
          -0.11575834453105927,
          -0.054426226764917374,
          0.025599589571356773,
          -0.015350855886936188,
          -0.022283166646957397,
          0.048363201320171356,
          -0.0844845175743103,
          -0.17115531861782074,
          -0.07991078495979309,
          0.061829205602407455,
          -0.04753502458333969,
          0.10184133797883987,
          0.06590067595243454,
          0.08635719120502472,
          -0.12599338591098785,
          -0.12599338591098785,
          -0.07727620005607605,
          -0.07727620005607605,
          0.07897341251373291,
          0.07897341251373291,
          0.02614673227071762,
          0.02614673227071762,
          -0.3357219994068146,
          -0.3357219994068146,
          -0.13981758058071136,
          -0.13981758058071136,
          0.06540555506944656,
          0.06540555506944656,
          -0.3585975766181946,
          -0.3585975766181946,
          -0.1918039619922638,
          -0.1918039619922638,
          -0.12662389874458313,
          -0.1772761195898056,
          -0.06492212414741516,
          -0.06492212414741516,
          0.05951719731092453,
          0.05951719731092453,
          -0.0017682700417935848,
          -0.0017682700417935848,
          0.2041904777288437,
          0.2041904777288437,
          -0.08115196973085403,
          -0.08115196973085403,
          -0.14129003882408142,
          -0.4828272759914398,
          0.25414296984672546,
          0.16246388852596283,
          0.1571064293384552,
          0.0941234827041626,
          0.1086639016866684,
          -0.017235640436410904,
          0.03539600968360901,
          -0.26935169100761414,
          -0.013657841831445694,
          0.09238403290510178,
          -0.203650563955307,
          0.044669944792985916,
          -0.2704818546772003,
          -0.20695410668849945,
          -0.2857835292816162,
          -0.029735445976257324,
          0.09238749742507935,
          -0.04505656659603119,
          -0.0812789648771286,
          0.01855846308171749,
          -0.10760460793972015,
          0.031177900731563568,
          0.15012715756893158,
          0.04916706681251526,
          -0.004467911086976528,
          0.0010094658937305212,
          -0.07385087758302689,
          0.10844113677740097,
          0.024599023163318634,
          0.1756930649280548,
          0.2475665658712387,
          -0.04696657508611679,
          -0.2511659860610962,
          -0.13309350609779358,
          0.0933421179652214,
          -0.16097469627857208,
          0.00916193425655365,
          0.1256682574748993,
          0.011819069273769855,
          -0.18290987610816956,
          -0.00446141604334116,
          -0.2039528489112854,
          -0.04070861265063286,
          -0.09767919778823853,
          0.08547721803188324,
          0.07883073389530182,
          0.0009657650371082127,
          -0.1920219510793686,
          -0.06951655447483063,
          0.023097509518265724,
          -0.025143546983599663,
          -0.02475099451839924,
          -0.14415015280246735,
          -0.048899367451667786,
          0.041628677397966385,
          -0.12885624170303345,
          -0.15270525217056274,
          -0.21341241896152496,
          -0.06696466356515884,
          -0.23568588495254517,
          -0.07233057916164398,
          0.15489095449447632,
          -0.17519980669021606,
          -0.3306436836719513,
          0.1328660100698471,
          -0.17354005575180054,
          0.19338569045066833,
          -0.05563032254576683,
          0.044983211904764175,
          -0.11495281755924225,
          -0.24124397337436676,
          -0.12150219827890396,
          -0.28072789311408997,
          -0.1773027777671814,
          -0.41989263892173767,
          -0.24044911563396454,
          0.06363001465797424,
          0.12513232231140137,
          0.548316478729248,
          -0.06734068691730499,
          0.16058675944805145,
          0.047085341066122055,
          -0.03995401784777641,
          0.10919665545225143,
          -0.18858250975608826,
          -0.1120414286851883,
          0.11856464296579361,
          -0.01599196344614029,
          0.16035450994968414,
          0.08312013000249863,
          -0.11215999722480774,
          0.14958597719669342,
          0.0966714397072792,
          -0.314481645822525,
          -0.0401703380048275,
          0.06331399828195572,
          -0.07989287376403809,
          -0.22953517735004425,
          0.20898421108722687,
          0.07803858816623688,
          -0.1006699651479721,
          0.08094868808984756,
          0.06087749823927879,
          0.12219907343387604,
          0.1722230315208435,
          0.02192705310881138,
          -0.16017870604991913,
          -0.14544354379177094,
          -0.01829018071293831,
          -0.1384207159280777,
          -0.14654876291751862,
          -0.15287122130393982,
          -0.2325047105550766,
          0.21822817623615265,
          0.1456230878829956,
          -0.11866476386785507,
          0.15738549828529358,
          0.2105523645877838,
          0.016790930181741714,
          -0.023670367896556854,
          -0.13009680807590485,
          0.07567198574542999,
          -0.012239130213856697,
          0.0997532531619072,
          -0.004150708671659231,
          -0.05238029733300209,
          -0.1518850028514862,
          -0.12822726368904114,
          0.03866893798112869,
          0.21168234944343567,
          -0.030574722215533257,
          0.07375314831733704,
          -0.011444068513810635,
          0.04002031683921814,
          0.14124272763729095,
          0.04743815213441849,
          -0.04573952779173851,
          -0.19205571711063385,
          0.08634413778781891,
          -0.1662130057811737,
          -0.052703484892845154,
          0.14368851482868195,
          -0.0017086005536839366,
          0.1369045376777649,
          -0.0894307792186737,
          0.11163610965013504,
          -0.02188493125140667,
          0.1126035824418068,
          0.14858360588550568,
          -0.17919041216373444,
          0.21724386513233185,
          0.027652906253933907,
          -0.14694859087467194,
          -0.1688796877861023,
          0.29394227266311646,
          0.11127380281686783,
          0.24783821403980255,
          0.010712532326579094,
          -0.21065440773963928,
          -0.35681599378585815,
          -0.010067172348499298,
          0.15594971179962158,
          -0.049955815076828,
          -0.1654839664697647,
          -0.16214601695537567,
          0.03134593367576599,
          0.21306712925434113,
          -0.12010083347558975,
          0.06405885517597198,
          -0.2276115119457245,
          0.07046568393707275,
          -0.02865893766283989,
          -0.2981274127960205,
          0.016797594726085663,
          -0.1240973174571991,
          0.07964246720075607,
          -0.149553582072258,
          -0.019483717158436775,
          0.08238952606916428,
          -0.2470337450504303,
          0.11303671449422836,
          0.05619783326983452,
          -0.04567480832338333,
          -0.014132758602499962,
          -0.09817472100257874,
          0.13576027750968933,
          -0.09345145523548126,
          0.02634212002158165,
          -0.010694296099245548,
          -0.04021921753883362,
          0.5855440497398376,
          -0.029393095523118973,
          -0.10409588366746902,
          0.3019024729728699,
          0.16214628517627716,
          -0.01900535263121128,
          -0.023184634745121002,
          0.0817558765411377,
          -0.1877851039171219,
          -0.11758048087358475,
          -0.357432097196579,
          -0.1506228744983673,
          -0.016202036291360855,
          0.08099763095378876,
          -0.1355864703655243,
          -0.2781965434551239,
          0.12681034207344055,
          0.09726826846599579,
          -0.46608033776283264,
          -0.012753410264849663,
          0.11889868229627609,
          -0.04535361006855965,
          0.0170512143522501,
          -0.06370911002159119,
          0.21765097975730896,
          -0.13643088936805725,
          -0.07672136276960373,
          -0.2109737992286682,
          0.05328529700636864,
          0.028495870530605316,
          0.027196547016501427,
          -0.07638861984014511,
          0.09588412195444107,
          0.2772526443004608,
          0.1458102911710739,
          0.12427063286304474,
          -0.06725198030471802,
          -0.03139786422252655,
          -0.058093179017305374,
          0.08613841980695724,
          -0.09659449011087418,
          -0.10259838402271271,
          0.010016068816184998,
          0.04372818022966385,
          0.04203174263238907,
          -0.09361252188682556,
          -0.177190363407135,
          0.03401607647538185,
          0.2281150072813034,
          0.05235043168067932,
          0.06912005692720413,
          -0.08724240213632584,
          -0.03642381355166435,
          -0.13219000399112701,
          0.07308606058359146,
          -0.19376805424690247,
          -0.047023795545101166,
          -0.39315667748451233,
          -0.3666608929634094,
          0.13190817832946777,
          -0.038910310715436935,
          -0.019266987219452858,
          -0.055489037185907364,
          0.01114971749484539,
          -0.036848217248916626,
          -0.003316206391900778,
          0.05606365203857422,
          -0.14941103756427765,
          -0.3649231195449829,
          0.21232293546199799,
          0.08691620826721191,
          -0.3640822768211365,
          -0.15046153962612152,
          -0.11552068591117859,
          0.04860617220401764,
          0.0418243445456028,
          -0.13896998763084412,
          -0.20457912981510162,
          0.13699355721473694,
          0.19912919402122498,
          -0.14426355063915253,
          0.0945233479142189,
          -0.0011614090763032436,
          0.08280930668115616,
          -0.08813279122114182,
          0.08835110813379288,
          -0.30173662304878235,
          -0.2888258993625641,
          -0.13479605317115784,
          0.1743302047252655,
          0.07601740956306458,
          0.1390945017337799,
          0.15180061757564545,
          -0.04893378168344498,
          0.16030113399028778,
          -0.09889380633831024,
          0.16941888630390167,
          0.06216954439878464,
          -0.0619937889277935,
          -0.09886957705020905,
          -0.006743072532117367,
          0.1955745816230774,
          -0.10059881955385208,
          0.1379142701625824,
          -0.011923180893063545,
          0.15719611942768097,
          0.07735149562358856,
          0.11496197432279587,
          0.06022138148546219,
          0.1174226850271225,
          -0.14129085838794708,
          0.1401592642068863,
          -0.0035769972018897533,
          -0.07051709294319153,
          0.0039641172625124454,
          0.11545829474925995,
          -0.046887267380952835,
          0.05495660752058029,
          0.06598911434412003,
          -0.27505600452423096,
          -0.21794259548187256,
          -0.05550083890557289,
          0.001365865464322269,
          0.10268044471740723,
          0.05916440486907959,
          -0.33823680877685547,
          -0.19232389330863953,
          0.0887550339102745,
          0.12939496338367462,
          -0.029258370399475098,
          0.0029503731057047844,
          -0.014944965951144695,
          -0.08553856611251831,
          -0.17600508034229279,
          -0.011219124309718609,
          -0.12606720626354218,
          -0.05858595296740532,
          -0.14568094909191132,
          -0.23691874742507935,
          -0.03775991499423981,
          -0.16273409128189087,
          -0.05965378135442734
         ],
         "y": [
          -0.09034296125173569,
          0.2185421884059906,
          -0.11998407542705536,
          -0.1495685577392578,
          -0.05114377290010452,
          0.09140323102474213,
          0.008925705216825008,
          0.005508655682206154,
          0.16154681146144867,
          -0.002373747294768691,
          -0.3712560832500458,
          0.008502177894115448,
          0.1448436975479126,
          0.11207210272550583,
          0.12027467787265778,
          0.03328985348343849,
          -0.2824423909187317,
          0.1094871386885643,
          -0.008086529560387135,
          0.2517223358154297,
          0.12150867283344269,
          -0.13845796883106232,
          -0.16819551587104797,
          0.11958682537078857,
          -0.15001444518566132,
          0.0040043070912361145,
          0.18089333176612854,
          0.26147332787513733,
          -0.08360730111598969,
          -0.006533143110573292,
          -0.026068640872836113,
          -0.08430062234401703,
          0.03849438577890396,
          -0.14983251690864563,
          0.1216360405087471,
          0.09648939222097397,
          0.1135248914361,
          0.10337916761636734,
          -0.17222250998020172,
          -0.053977079689502716,
          0.12217017263174057,
          0.04414704442024231,
          -0.25397974252700806,
          -0.10611504316329956,
          0.07106172293424606,
          0.025494009256362915,
          0.08636511117219925,
          0.13683226704597473,
          0.12121456861495972,
          0.1002056822180748,
          0.23226693272590637,
          -0.07781464606523514,
          0.07732251286506653,
          0.2494869977235794,
          0.12338756769895554,
          -0.07876928150653839,
          -0.3124418258666992,
          -0.10651837289333344,
          0.08411117643117905,
          0.04361453279852867,
          -0.09246958047151566,
          0.05511264503002167,
          -0.011855415999889374,
          -0.009616540744900703,
          0.04861881956458092,
          -0.09515132755041122,
          -0.07279490679502487,
          -0.10179702937602997,
          0.007217964623123407,
          0.11537990719079971,
          -0.20990218222141266,
          0.05782320722937584,
          0.022396739572286606,
          -0.04903978109359741,
          -0.3558584153652191,
          0.08198481798171997,
          0.19958314299583435,
          -0.11133910715579987,
          -0.08908804506063461,
          0.08554624766111374,
          0.01619366928935051,
          0.17711876332759857,
          -0.01797657646238804,
          -0.03337816894054413,
          -0.11314894258975983,
          0.003448593197390437,
          0.18045319616794586,
          -0.006961324252188206,
          0.0895589217543602,
          0.0042128488421440125,
          0.004861258901655674,
          -0.001346433418802917,
          0.05937466397881508,
          -0.059556130319833755,
          0.0763142928481102,
          -0.0021150337997823954,
          -0.07103881984949112,
          -0.027309324592351913,
          -0.045515090227127075,
          0.03769250959157944,
          -0.09621914476156235,
          -0.10497327148914337,
          -0.04464903101325035,
          0.05163603648543358,
          -0.02193462662398815,
          0.011878695338964462,
          -0.04358765855431557,
          -0.11736779659986496,
          -0.14459149539470673,
          0.0376383513212204,
          0.01956532523036003,
          -0.007701026275753975,
          0.21114040911197662,
          0.2414393573999405,
          -0.11195767670869827,
          -0.08773063868284225,
          -0.10342532396316528,
          0.21750450134277344,
          0.1867823600769043,
          0.147090882062912,
          0.09053345769643784,
          0.06428277492523193,
          0.07831121236085892,
          0.16359664499759674,
          -0.049604542553424835,
          0.06140359491109848,
          0.08528751134872437,
          0.04925460368394852,
          -0.01212853379547596,
          -0.24101124703884125,
          0.053232915699481964,
          0.015059636905789375,
          -0.07792861759662628,
          0.03381340205669403,
          -0.19226261973381042,
          0.3557482957839966,
          -0.06247015297412872,
          -0.07378816604614258,
          0.029215840622782707,
          -0.12020229548215866,
          0.4760330021381378,
          0.04217354580760002,
          0.10091808438301086,
          -0.07179912179708481,
          0.25577470660209656,
          -0.08188670873641968,
          0.495700478553772,
          -0.21500897407531738,
          -0.0006829603808000684,
          0.41923952102661133,
          -0.011135059408843517,
          -0.10542885959148407,
          -0.04558620974421501,
          -0.0453350804746151,
          0.030717773362994194,
          -0.06255029886960983,
          -0.0873972475528717,
          -0.0238918699324131,
          0.22083204984664917,
          0.1880728155374527,
          0.12914565205574036,
          0.5033696293830872,
          0.01699877716600895,
          -0.08391956239938736,
          -0.010346034541726112,
          0.0032357757445424795,
          -0.03317146375775337,
          0.12135516107082367,
          0.11144344508647919,
          0.16548094153404236,
          0.11078449338674545,
          0.09914160519838333,
          0.051175832748413086,
          0.05780505761504173,
          -0.08257430791854858,
          0.08245038986206055,
          -0.09356938302516937,
          -0.08955363929271698,
          0.16051466763019562,
          0.02952040173113346,
          0.1683582067489624,
          0.010094118304550648,
          0.020859897136688232,
          -0.0022260320838540792,
          0.06363902986049652,
          -0.0040407124906778336,
          0.27454909682273865,
          0.5159148573875427,
          0.514346182346344,
          0.08146018534898758,
          0.18366196751594543,
          0.01722419075667858,
          0.0359758697450161,
          -0.03202781826257706,
          0.2932737469673157,
          0.0857817530632019,
          -0.03450962156057358,
          -0.13589054346084595,
          -0.2541557848453522,
          0.034511271864175797,
          -0.004792808089405298,
          0.2331375926733017,
          -0.08578398823738098,
          0.02101539447903633,
          -0.11690148711204529,
          -0.10161492973566055,
          -0.16939294338226318,
          0.050405487418174744,
          0.017862502485513687,
          0.24263787269592285,
          0.21421311795711517,
          0.01137017086148262,
          -0.1192421019077301,
          0.15146641433238983,
          0.21102671325206757,
          0.06886277347803116,
          -0.0961366519331932,
          -0.11536435782909393,
          0.019079752266407013,
          0.05068887770175934,
          0.10018818825483322,
          -0.0269651859998703,
          -0.058257028460502625,
          -0.12057574093341827,
          -0.0737922266125679,
          0.015097520314157009,
          -0.06844021379947662,
          0.066660076379776,
          0.03561852127313614,
          0.026498284190893173,
          -0.045046739280223846,
          0.1257057934999466,
          -0.016597887501120567,
          0.04726869612932205,
          0.1497240662574768,
          0.3110787868499756,
          -0.06077573820948601,
          0.14792968332767487,
          0.07736414670944214,
          -0.05558154359459877,
          0.046089477837085724,
          -0.17577187716960907,
          0.03748902305960655,
          0.011278386227786541,
          0.08853700011968613,
          -0.09172733128070831,
          0.10610131174325943,
          0.07864949107170105,
          0.04419247806072235,
          0.11128874868154526,
          -0.061440277844667435,
          0.021387765184044838,
          0.10087300091981888,
          0.3327628970146179,
          0.04998169466853142,
          0.2375008761882782,
          0.21787220239639282,
          -0.11068589240312576,
          0.1803799569606781,
          -0.02951965108513832,
          -0.04833229258656502,
          -0.08004957437515259,
          -0.049355458468198776,
          0.06707564741373062,
          0.02704639360308647,
          0.11532128602266312,
          -0.19814300537109375,
          0.16960172355175018,
          -0.025814013555645943,
          -0.061198700219392776,
          0.22916224598884583,
          0.25107699632644653,
          0.1992124617099762,
          0.0733276829123497,
          0.06480802595615387,
          0.034203577786684036,
          -0.015647312626242638,
          0.03669961914420128,
          0.1417202651500702,
          0.08433074504137039,
          -0.2744933068752289,
          0.009564114734530449,
          -0.331539511680603,
          -0.10727470368146896,
          -0.07906313240528107,
          0.13028384745121002,
          0.14309129118919373,
          -0.24204379320144653,
          -0.1928667277097702,
          -0.1821087896823883,
          -0.16535012423992157,
          -0.05100681260228157,
          0.09313639998435974,
          0.14768357574939728,
          0.07681526988744736,
          -0.20596008002758026,
          -0.03318801149725914,
          -0.01528923586010933,
          0.04935412481427193,
          -0.26140230894088745,
          0.0023380741477012634,
          -0.0815780758857727,
          0.027560628950595856,
          0.11287876218557358,
          -0.11374196410179138,
          0.005967132281512022,
          -0.04134188964962959,
          0.08325280994176865,
          0.10653668642044067,
          0.14430582523345947,
          -0.03262524679303169,
          -0.0790669247508049,
          -0.01758056879043579,
          -0.08878497034311295,
          0.16292378306388855,
          0.10326589643955231,
          -0.02961527556180954,
          -0.20638109743595123,
          -0.13157007098197937,
          0.09206943958997726,
          -0.084774449467659,
          0.11370334029197693,
          0.1366989016532898,
          -0.03705711290240288,
          0.11408018320798874,
          0.11481168866157532,
          0.1386156678199768,
          0.010255959816277027,
          0.021953115239739418,
          0.04808565229177475,
          -0.10503681004047394,
          -0.003138437867164612,
          0.018154818564653397,
          -0.21356676518917084,
          -0.09987834095954895,
          -0.4077790081501007,
          -0.23448656499385834,
          0.10709521919488907,
          0.03641974553465843,
          0.02353851869702339,
          0.005144165828824043,
          0.10622379183769226,
          0.03849378973245621,
          0.22131647169589996,
          0.38009878993034363,
          -0.01553573738783598,
          -0.09537800401449203,
          -0.15290100872516632,
          -0.05322510749101639,
          -0.02751479297876358,
          -0.34240224957466125,
          -0.07600650191307068,
          -0.019909603521227837,
          -0.15720829367637634,
          0.11518611013889313,
          -0.19406330585479736,
          -0.05066553130745888,
          -0.10010030120611191,
          0.06326799094676971,
          -0.05530403554439545,
          -0.1544012576341629,
          0.15036208927631378,
          -0.1960294395685196,
          0.014030098915100098,
          -0.22396358847618103,
          -0.0729154646396637,
          -0.0012672058073803782,
          -0.0890369787812233,
          0.14290079474449158,
          -0.04597929120063782,
          -0.05325877293944359,
          0.09056053310632706,
          0.08959610760211945,
          0.1546877771615982,
          0.058588024228811264,
          0.19166061282157898,
          0.06410572677850723,
          0.31968986988067627,
          -0.13485121726989746,
          -0.20464752614498138,
          -0.21868504583835602,
          0.006227926351130009,
          0.1637188196182251,
          0.215472012758255,
          -0.017718862742185593,
          0.1569501757621765,
          0.15076448023319244,
          -0.022490855306386948,
          -0.003979299683123827,
          -0.03277461975812912,
          0.13526685535907745,
          0.07932692766189575,
          0.11289563030004501,
          -0.03900330141186714,
          0.023404834792017937,
          -0.05896635726094246,
          0.3872677683830261,
          0.0728173777461052,
          -0.16951021552085876,
          -0.04184647276997566,
          0.07062721252441406,
          -0.1924027055501938,
          0.031603697687387466,
          -0.2138417810201645,
          0.028738392516970634,
          0.07463103532791138,
          0.03605261817574501,
          -0.2570669949054718,
          -0.14463695883750916,
          -0.25757381319999695,
          0.1795043647289276,
          0.04389597102999687,
          -0.13591037690639496,
          0.11207078397274017,
          0.09008191525936127,
          0.14152996242046356,
          -0.12773497402668,
          -0.044014930725097656,
          0.10567451268434525,
          0.031846288591623306,
          0.12517771124839783,
          -0.004753005225211382,
          0.20791713893413544,
          -0.11794736981391907,
          0.08317816257476807,
          0.0453769713640213,
          -0.2009904980659485,
          0.1704476773738861,
          -0.16793334484100342,
          0.18754222989082336,
          0.2382277250289917,
          -0.14853021502494812,
          -0.0015372387133538723,
          0.1325395107269287,
          -0.1057257205247879,
          -0.24116399884223938,
          0.03390124440193176,
          0.17684954404830933,
          -0.008236696943640709,
          0.10778678953647614,
          0.29058921337127686,
          0.19338148832321167,
          0.04600314795970917,
          0.023044416680932045,
          -0.10274773836135864,
          -0.022862179204821587,
          -0.09509718418121338,
          -0.205504909157753,
          -0.06955297291278839,
          0.16380606591701508,
          -0.14820364117622375,
          0.12498360127210617,
          0.13795563578605652,
          -0.08627034723758698,
          -0.131525456905365,
          0.019716475158929825,
          0.12091761082410812,
          -0.19895978271961212,
          0.043534278869628906,
          0.06773430854082108,
          0.14629630744457245,
          0.06846682727336884,
          -0.01960921473801136,
          0.06063132733106613,
          0.04698335379362106,
          0.19251638650894165,
          -0.19355709850788116,
          -0.04961985722184181,
          0.13646642863750458,
          0.0391312800347805,
          -0.04679722338914871,
          0.07050834596157074,
          0.021463543176651,
          0.20406928658485413,
          0.16805046796798706,
          0.3930094838142395,
          0.037003178149461746,
          0.10429083555936813,
          0.08842235058546066,
          0.045225854963064194,
          0.045225854963064194,
          0.045225854963064194,
          0.12565147876739502,
          -0.18680691719055176,
          -0.11489741504192352,
          -0.03739754110574722,
          -0.02559986710548401,
          0.06674458831548691,
          0.10519911348819733,
          0.14046041667461395,
          -0.06006421148777008,
          0.09596244990825653,
          0.11151406168937683,
          0.22061514854431152,
          0.11798717826604843,
          0.03204353153705597,
          0.09399638324975967,
          -0.10998425632715225,
          0.04499565809965134,
          0.15524224936962128,
          0.1547217071056366,
          0.02779567241668701,
          -0.042434707283973694,
          -0.03831630200147629,
          0.18156705796718597,
          -0.0117610152810812,
          0.07427431643009186,
          -0.0014253179542720318,
          0.0029006495606154203,
          0.04783220216631889,
          0.1275213658809662,
          -0.05923880636692047,
          -0.06836560368537903,
          -0.16626277565956116,
          -0.035478390753269196,
          -0.08845851570367813,
          0.2538073658943176,
          -0.09725143015384674,
          0.051802702248096466,
          -0.018995653837919235,
          -0.14704957604408264,
          -0.4400499761104584,
          -0.06781637668609619,
          -0.07772588729858398,
          -0.1518022119998932,
          -0.3797018229961395,
          -0.1829409897327423,
          0.04034921154379845,
          -0.23676791787147522,
          0.13057169318199158,
          0.2623710632324219,
          -0.08468188345432281,
          -0.1322127878665924,
          -0.12865325808525085,
          -0.06786404550075531,
          -0.23380479216575623,
          -0.07140548527240753,
          -0.08516357094049454,
          -0.05981002748012543,
          -0.06737102568149567,
          0.1324019730091095,
          -0.08288634568452835,
          -0.016171500086784363,
          0.048974644392728806,
          0.011172091588377953,
          -0.06326790899038315,
          -0.10543490201234818,
          -0.08275458961725235,
          -0.0025185944978147745,
          -0.07899457961320877,
          0.2533813416957855,
          0.07788293808698654,
          -0.02086808532476425,
          0.002344052540138364,
          0.04686734452843666,
          0.003961432725191116,
          0.1267240047454834,
          0.12558093667030334,
          0.35816559195518494,
          -0.008901170454919338,
          0.05713753029704094,
          0.24036584794521332,
          0.1258351057767868,
          0.15236301720142365,
          -0.0828358456492424,
          -0.16900856792926788,
          0.027782881632447243,
          0.06037046015262604,
          0.14504827558994293,
          0.16246137022972107,
          -0.05724767595529556,
          -0.020066769793629646,
          0.09281342476606369,
          -0.044447753578424454,
          -0.014115582220256329,
          0.11435386538505554,
          0.11615309119224548,
          0.010680122300982475,
          0.03844236209988594,
          -0.13724276423454285,
          -0.009296444244682789,
          -0.06856886297464371,
          -0.03703176975250244,
          0.07305391877889633,
          -0.11339320987462997,
          -0.06767497211694717,
          0.03993074595928192,
          0.042267173528671265,
          0.07197008281946182,
          0.15578338503837585,
          -0.08339830487966537,
          0.08380555361509323,
          -0.09048660844564438,
          -0.13998250663280487,
          -0.426723450422287,
          -0.053958188742399216,
          -0.007268790155649185,
          0.17769518494606018,
          0.016596730798482895,
          -0.015074511989951134,
          0.18718141317367554,
          -0.08771182596683502,
          -0.037883635610342026,
          0.03532661497592926,
          -0.024494396522641182,
          0.3810141384601593,
          0.17345979809761047,
          -0.18240685760974884,
          0.11958417296409607,
          0.1598929464817047,
          0.0670870989561081,
          -0.06057572364807129,
          -0.03568299859762192,
          0.08580227196216583,
          0.1545739471912384,
          0.2492300271987915,
          0.0770936980843544,
          -0.21854637563228607,
          0.009720339439809322,
          -0.07311678677797318,
          0.04978659376502037,
          -0.028011299669742584,
          -0.17344136536121368,
          0.17305918037891388,
          -0.11437252908945084,
          0.050255950540304184,
          -0.08374977111816406,
          -0.06009402871131897,
          0.05400897562503815,
          -0.12925052642822266,
          0.10379968583583832,
          0.08630611002445221,
          -0.16505718231201172,
          0.01680341549217701,
          -0.09522047638893127,
          0.08384864032268524,
          0.013285365886986256,
          0.04415886849164963,
          0.023780249059200287,
          -0.010739605873823166,
          0.0918809026479721,
          -0.2656470239162445,
          0.02934730425477028,
          -0.14179247617721558,
          0.17136931419372559,
          0.2421213835477829,
          0.11567869037389755,
          0.07571175694465637,
          0.056407783180475235,
          0.059389930218458176,
          -0.01936471275985241,
          0.1753641664981842,
          0.28641071915626526,
          0.10693343728780746,
          0.13444453477859497,
          0.05215221270918846,
          0.03567405417561531,
          -0.09813755750656128,
          0.14382457733154297,
          0.05853608623147011,
          -0.10726135224103928,
          0.1789354681968689,
          0.025318637490272522,
          -0.061070505529642105,
          -0.23483970761299133,
          -0.01620098389685154,
          0.13659630715847015,
          -0.11330311745405197,
          0.16279207170009613,
          0.11557061970233917,
          0.038844794034957886,
          -0.22139397263526917,
          0.09025241434574127,
          -0.2001742571592331,
          -0.2099241018295288,
          0.09043588489294052,
          0.028379859402775764,
          0.08811414986848831,
          -0.08138319849967957,
          0.03676680102944374,
          0.07967737317085266,
          -0.03016044571995735,
          -0.10459422320127487,
          -0.1312810182571411,
          0.07983385026454926,
          -0.03831028938293457,
          0.1662476509809494,
          0.0691588744521141,
          -0.13077712059020996,
          0.13872574269771576,
          -0.15894071757793427,
          -0.18241052329540253,
          0.26434165239334106,
          0.05390070751309395,
          0.1469670981168747,
          -0.0825829952955246,
          0.0034780327696353197,
          -0.037914544343948364,
          0.05214700102806091,
          0.12998563051223755,
          -0.06318183988332748,
          0.020302128046751022,
          -0.0021074661053717136,
          -0.19301456212997437,
          -0.15688946843147278,
          0.13597285747528076,
          0.0126169603317976,
          0.09471584856510162,
          -0.08061888813972473,
          0.0574021115899086,
          0.08490890264511108,
          0.01768854632973671,
          -0.0620056688785553,
          0.03360806405544281,
          -0.04807019606232643,
          -0.027052821591496468,
          -0.072533018887043,
          0.11432716995477676,
          -0.07473479211330414,
          -0.0071619777008891106,
          -0.05027234926819801,
          0.050471652299165726,
          0.007656036410480738,
          0.263357937335968,
          0.05735523998737335,
          -0.008394991047680378,
          0.11335088312625885,
          0.05325587838888168,
          0.16287299990653992,
          0.17432522773742676,
          0.016864577308297157,
          0.05046159029006958,
          -0.10920330882072449,
          -0.001834896276704967,
          0.10462094098329544,
          -0.03835784271359444,
          -0.07247336953878403,
          0.02742624841630459,
          -0.1786942481994629,
          -0.32710587978363037,
          0.14013200998306274,
          -0.16948425769805908,
          0.2533537447452545,
          0.11516863852739334,
          -0.3512405455112457,
          -0.1674060821533203,
          0.16287299990653992,
          -0.1359795778989792,
          0.24149876832962036,
          -0.18815235793590546,
          0.07176842540502548,
          0.05765721946954727,
          -0.021297583356499672,
          0.07222668081521988,
          -0.0695444643497467,
          0.11825841665267944,
          0.16976355016231537,
          -0.12369829416275024,
          0.0524783656001091,
          -0.039586301892995834,
          0.017852645367383957,
          0.10629110038280487,
          0.02585885487496853,
          -0.09144247323274612,
          -0.03913946449756622,
          -0.045431606471538544,
          -0.02630915865302086,
          -0.10426624864339828,
          0.1154729425907135,
          0.1851343810558319,
          -0.24722857773303986,
          -0.33402353525161743,
          -0.23639188706874847,
          0.3206951320171356,
          -0.060815002769231796,
          0.16836899518966675,
          -0.1715453863143921,
          -0.005755788180977106,
          -0.15509873628616333,
          -0.03424552083015442,
          0.034760113805532455,
          0.13770969212055206,
          0.041859179735183716,
          0.15068165957927704,
          0.16219401359558105,
          -0.05295581743121147,
          -0.15308313071727753,
          -0.35065704584121704,
          0.05840015038847923,
          0.11313610523939133,
          -0.11334516853094101,
          0.024178924039006233,
          -0.09457230567932129,
          -0.12666836380958557,
          0.05806718394160271,
          0.05325619503855705,
          0.028971219435334206,
          -0.027124648913741112,
          0.17995613813400269,
          0.19242528080940247,
          0.14708828926086426,
          -0.05800824239850044,
          0.29675278067588806,
          0.3573813736438751,
          -0.1235274001955986,
          0.12081676721572876,
          0.13650979101657867,
          0.0761701762676239,
          0.03329653665423393,
          -0.1352633237838745,
          0.08998728543519974,
          0.06094534322619438,
          -0.033277418464422226,
          -0.013834704644978046,
          -0.04965466633439064,
          0.13349857926368713,
          0.1553097665309906,
          0.18966656923294067,
          0.12390723079442978,
          0.08730684965848923,
          0.15494410693645477,
          -0.0155507642775774,
          0.03792886063456535,
          0.0759829431772232,
          -0.19214436411857605,
          -0.08609943091869354,
          -0.15580353140830994,
          0.14197559654712677,
          0.1213538870215416,
          -0.05565959960222244,
          0.015106230974197388,
          -0.1287190169095993,
          -0.04318105801939964,
          0.052307359874248505,
          0.2597341537475586,
          -0.06116027012467384,
          0.15912456810474396,
          0.31982967257499695,
          -0.10048673301935196,
          0.11723150312900543,
          -0.05889445170760155,
          0.08262395113706589,
          0.10481040924787521,
          0.34828418493270874,
          -0.040076859295368195,
          -0.25287818908691406,
          0.143507182598114,
          -0.08855011314153671,
          0.03785844147205353,
          -0.005224423948675394,
          0.10931346565485,
          0.30472806096076965,
          -0.001710984855890274,
          0.05290695279836655,
          -0.019901642575860023,
          -0.1407066285610199,
          -0.06876374036073685,
          0.07201693207025528,
          0.18501251935958862,
          0.1124977171421051,
          0.06855101138353348,
          -0.22668440639972687,
          -0.01709640398621559,
          -0.14218181371688843,
          0.1354680061340332,
          -0.10379193723201752,
          0.08792781084775925,
          -0.23357059061527252,
          -0.19773933291435242,
          -0.051164090633392334,
          -0.07476431876420975,
          -0.0718686431646347,
          -0.20641790330410004,
          -0.20641790330410004,
          0.05426401644945145,
          0.05426401644945145,
          0.005815237294882536,
          0.005815237294882536,
          0.12026584893465042,
          0.12026584893465042,
          0.20656777918338776,
          0.20656777918338776,
          0.029419710859656334,
          0.029419710859656334,
          0.03958912566304207,
          0.03958912566304207,
          -0.22627247869968414,
          -0.22627247869968414,
          -0.024108584970235825,
          -0.024108584970235825,
          0.030508719384670258,
          -0.08519262075424194,
          -0.03823932632803917,
          -0.03823932632803917,
          0.03920035436749458,
          0.03920035436749458,
          -0.20594491064548492,
          -0.20594491064548492,
          -0.18555277585983276,
          -0.18555277585983276,
          -0.13686208426952362,
          -0.13686208426952362,
          0.019629839807748795,
          0.3573155701160431,
          -0.33219853043556213,
          0.08087807893753052,
          0.07779577374458313,
          0.0827828198671341,
          0.017786284908652306,
          -0.04254108667373657,
          0.08444757759571075,
          -0.19518965482711792,
          -0.27797943353652954,
          -0.040197961032390594,
          -0.019241899251937866,
          -0.026206910610198975,
          0.15558962523937225,
          0.20145811140537262,
          0.1105036661028862,
          0.11436356604099274,
          -0.09228210151195526,
          -0.07158255577087402,
          -0.14717997610569,
          0.1396082639694214,
          -0.19512289762496948,
          0.20006920397281647,
          -0.05103917047381401,
          -0.0622139535844326,
          -0.13484366238117218,
          0.07234285771846771,
          -0.11614212393760681,
          -0.03978851065039635,
          0.022726427763700485,
          0.0243991706520319,
          -0.006144746206700802,
          -0.1210063248872757,
          -0.06904489547014236,
          0.028286680579185486,
          -0.15807309746742249,
          0.02559731900691986,
          0.0711936205625534,
          0.07803061604499817,
          0.20220065116882324,
          0.4104854464530945,
          -0.007926917634904385,
          0.14222334325313568,
          0.06032071262598038,
          0.14122620224952698,
          0.021420197561383247,
          0.2533305883407593,
          -0.04054584354162216,
          -0.019205242395401,
          -0.1367158591747284,
          -0.1336427479982376,
          0.03482890501618385,
          0.07138822227716446,
          -0.293735533952713,
          -0.1274871677160263,
          -0.059503018856048584,
          0.1165415421128273,
          0.022660158574581146,
          0.248990997672081,
          0.23272216320037842,
          0.14032934606075287,
          0.06782650947570801,
          0.013740354217588902,
          0.120772585272789,
          0.1747881919145584,
          0.10211575031280518,
          0.020877353847026825,
          0.0479973666369915,
          0.0703844502568245,
          0.15058846771717072,
          0.004150481894612312,
          0.04718586802482605,
          -0.0038058157078921795,
          0.1287337988615036,
          -0.038806866854429245,
          0.06026647984981537,
          -0.0495685338973999,
          -0.020527979359030724,
          0.006014708895236254,
          0.3005429804325104,
          0.15106269717216492,
          -0.14649221301078796,
          0.06630650162696838,
          0.07256428897380829,
          -0.05266141518950462,
          0.02212962694466114,
          -0.264291375875473,
          -0.02719569206237793,
          0.005871448200196028,
          0.003909026738256216,
          -0.02038266696035862,
          0.03797396272420883,
          -0.19232940673828125,
          -0.04748135432600975,
          -0.31667590141296387,
          0.16797088086605072,
          0.1786760836839676,
          -0.11796745657920837,
          -0.387628972530365,
          -0.025732729583978653,
          0.09089858829975128,
          0.002746961312368512,
          -0.10216674208641052,
          0.032033976167440414,
          -0.006507224403321743,
          -0.0730692520737648,
          -0.026876790449023247,
          -0.20636144280433655,
          0.16137607395648956,
          -0.021017849445343018,
          -0.030120383948087692,
          0.09791804105043411,
          -0.1482478827238083,
          0.03509931638836861,
          0.05160310119390488,
          -0.027134716510772705,
          -0.30325376987457275,
          -0.08594123274087906,
          -0.0404132641851902,
          -0.13751359283924103,
          -0.011439718306064606,
          -0.0450655035674572,
          -0.0058527374640107155,
          -0.025340482592582703,
          -0.05314398184418678,
          0.01864933781325817,
          0.2216947078704834,
          -0.09735223650932312,
          0.09434588253498077,
          0.08693741261959076,
          -0.010629778727889061,
          -0.031007979065179825,
          -0.02641540952026844,
          -0.02471029758453369,
          -0.013880537822842598,
          0.07188799977302551,
          -0.035005584359169006,
          -0.002424362814053893,
          0.12659500539302826,
          -0.15975499153137207,
          0.09995237737894058,
          0.054354067891836166,
          0.14891210198402405,
          0.002487099263817072,
          -0.033742260187864304,
          -0.1671523153781891,
          0.009584877640008926,
          -0.2460714429616928,
          -0.05303654819726944,
          -0.10266444832086563,
          -0.20342816412448883,
          -0.09508130699396133,
          -0.19608314335346222,
          -0.10843448340892792,
          -0.06915014237165451,
          -0.03012578748166561,
          -0.02851240709424019,
          -0.04164425656199455,
          -0.17385372519493103,
          -0.4377955198287964,
          -0.09040223807096481,
          0.05852331221103668,
          -0.12766557931900024,
          0.018352756276726723,
          0.059006862342357635,
          0.03250196576118469,
          0.09009073674678802,
          0.14155983924865723,
          -0.16480182111263275,
          0.053668469190597534,
          -0.11092402786016464,
          -0.07069434970617294,
          -0.1622244268655777,
          0.11582714319229126,
          0.04541341960430145,
          -0.15239255130290985,
          0.06357024610042572,
          0.06201448291540146,
          -0.002805412281304598,
          -0.08978989720344543,
          0.1765175312757492,
          0.24223692715168,
          0.03033413738012314,
          -0.08498010784387589,
          0.11132358759641647,
          -0.3474164307117462,
          0.18780070543289185,
          0.10186704248189926,
          -0.06993893533945084,
          0.06849806755781174,
          0.13564464449882507,
          0.2761063277721405,
          -0.08807965368032455,
          -0.14624662697315216,
          0.1546311378479004,
          -0.10525630414485931,
          -0.0486004501581192,
          -0.1380808800458908,
          -0.05915449932217598,
          -0.049899425357580185,
          -0.010114485397934914,
          0.03625202551484108,
          0.23628289997577667,
          -0.15036752820014954,
          -0.2164221853017807,
          0.03478888049721718,
          -0.03179009258747101,
          -0.07759381830692291,
          -0.05883248895406723,
          -0.051916610449552536,
          -0.13871647417545319,
          0.09709228575229645,
          0.017406126484274864,
          -0.03656373918056488,
          -0.28922039270401,
          -0.0518905445933342,
          -0.08607351779937744,
          0.07440786808729172,
          -0.25801941752433777,
          0.2089182436466217,
          -0.03390255570411682,
          0.007058924529701471,
          -0.09418321400880814,
          0.04468214511871338,
          0.04962901398539543,
          -0.012211957015097141,
          -0.03408356383442879,
          0.05097561329603195,
          -0.10649024695158005,
          0.057664498686790466,
          0.1479502171278,
          0.10954521596431732,
          -0.11357239633798599,
          -0.29642242193222046,
          -0.14831112325191498,
          0.07900650054216385,
          -0.018760746344923973,
          0.20522437989711761,
          -0.03821520879864693,
          0.05715394392609596,
          -0.020070454105734825,
          -0.06888481974601746,
          0.3628806173801422,
          -0.07324983924627304,
          -0.3776647448539734,
          0.11329860985279083,
          -0.013145103119313717,
          0.033378127962350845,
          0.1222698912024498,
          -0.09870077669620514,
          -0.003810468129813671,
          0.016485316678881645,
          0.07368770241737366,
          -0.008117612451314926,
          0.011073283851146698,
          0.1912798136472702,
          -0.2522469162940979,
          0.06079212576150894,
          0.01975049450993538,
          -0.1669887900352478,
          -0.07221551984548569,
          0.03970048949122429,
          0.05188683792948723,
          0.03726151958107948,
          0.17300546169281006,
          -0.1337370127439499,
          -0.009297623299062252,
          -0.06949937343597412,
          0.23400259017944336,
          -0.02317185327410698,
          0.05617401376366615,
          0.10244394093751907,
          -0.015227346681058407,
          -0.18286511301994324,
          -0.046793945133686066,
          -0.26519450545310974,
          0.12207002937793732,
          -0.47705379128456116,
          -0.2610381841659546,
          -0.15457668900489807,
          -0.1065249815583229,
          0.09714185446500778,
          -0.17722946405410767,
          0.08914396911859512,
          -0.06770148873329163,
          -0.03298886865377426,
          -0.11062195152044296,
          0.049794893711805344,
          -0.0658549889922142,
          -0.17430885136127472,
          -0.15557697415351868,
          -0.11768773943185806,
          0.026042863726615906,
          -0.24280300736427307,
          0.047421734780073166,
          0.08237551897764206,
          -0.18517383933067322,
          0.20673076808452606,
          -0.11118752509355545,
          -0.04104556143283844,
          -0.05803639069199562,
          -0.04521353915333748,
          -0.14443892240524292,
          -0.061432965099811554,
          0.06403854489326477,
          -0.0008694513817317784,
          -0.05379911884665489,
          0.012228472158312798,
          -0.11294998973608017,
          0.06991129368543625,
          -0.01694016344845295,
          -0.19343338906764984,
          -0.13115642964839935,
          0.03865183889865875,
          -0.022065676748752594,
          -0.1497328281402588,
          -0.15321409702301025,
          -0.20224694907665253,
          0.06295721232891083,
          -0.009827220812439919,
          0.031133374199271202,
          -0.0550161749124527,
          -0.0675240308046341,
          0.026860345155000687,
          -0.4283636212348938,
          -0.13333815336227417,
          0.07851395010948181,
          0.03037826344370842,
          0.06584405899047852,
          0.05660098418593407,
          0.05816865339875221,
          0.08726228773593903,
          -0.126731738448143
         ],
         "z": [
          0.016280587762594223,
          0.021326148882508278,
          -0.07865869253873825,
          -0.03402336314320564,
          -0.017770716920495033,
          0.03570934757590294,
          -0.03050803206861019,
          -0.19492219388484955,
          -0.11597715318202972,
          -0.2061423510313034,
          0.05028020218014717,
          0.13411404192447662,
          -0.009237422607839108,
          -0.16051176190376282,
          -0.09244918078184128,
          0.18562643229961395,
          0.08964298665523529,
          0.2726098299026489,
          0.13463658094406128,
          -0.08244413137435913,
          0.0796622633934021,
          -0.0509314090013504,
          -0.03431885689496994,
          0.10394439846277237,
          -0.09363587945699692,
          0.11648476123809814,
          0.14014053344726562,
          -0.04734940454363823,
          -0.2372286170721054,
          -0.1828121840953827,
          0.0773301050066948,
          -0.29091858863830566,
          0.01592171937227249,
          -0.04683985561132431,
          0.1019085943698883,
          -0.1722976267337799,
          -0.14884711802005768,
          0.05653667077422142,
          -0.06805978715419769,
          -0.05071638897061348,
          0.0324358306825161,
          0.0935349315404892,
          0.004321726970374584,
          0.12721872329711914,
          0.053754772990942,
          -0.02266288734972477,
          -0.02731664665043354,
          0.07579619437456131,
          0.10400541871786118,
          0.013556631281971931,
          0.011596348136663437,
          0.008486095815896988,
          -0.08363818377256393,
          -0.032576944679021835,
          0.12395555526018143,
          0.015392232686281204,
          0.005906907841563225,
          -0.08093251287937164,
          -0.10198721289634705,
          0.13408733904361725,
          0.07840820401906967,
          -0.02479029819369316,
          -0.006359642371535301,
          0.08441681414842606,
          -0.041978172957897186,
          -0.007644860073924065,
          0.19061143696308136,
          0.07993525266647339,
          0.08118060976266861,
          0.09415815770626068,
          0.13451535999774933,
          -0.09898249804973602,
          -0.04197421669960022,
          0.010863874107599258,
          0.255780428647995,
          -0.010437878780066967,
          0.022983552888035774,
          -0.13624636828899384,
          -0.014320667833089828,
          -0.08606812357902527,
          -0.26424214243888855,
          0.18028762936592102,
          0.052374210208654404,
          -0.047252994030714035,
          -0.05963701754808426,
          0.04070112109184265,
          0.18382103741168976,
          -0.14637863636016846,
          0.028539998456835747,
          -0.0539875291287899,
          -0.012029224075376987,
          -0.2665785253047943,
          -0.07871752977371216,
          -0.28728505969047546,
          -0.019422834739089012,
          -0.008428256027400494,
          0.10063669085502625,
          -0.0700342208147049,
          -0.07942283898591995,
          -0.026952948421239853,
          0.039778247475624084,
          -0.05507877469062805,
          0.0253219623118639,
          0.022832728922367096,
          -0.05263575166463852,
          0.05435929819941521,
          0.05382567644119263,
          -0.05563893914222717,
          -0.168463796377182,
          -0.11182452738285065,
          -0.19229727983474731,
          0.044314511120319366,
          0.032975319772958755,
          0.22214026749134064,
          -0.05510454997420311,
          -0.01944923959672451,
          0.17563903331756592,
          -0.05643530189990997,
          -0.09586290270090103,
          -0.09215474873781204,
          -0.08170603960752487,
          -0.14378762245178223,
          -0.09968814253807068,
          0.1924537569284439,
          -0.02194714918732643,
          0.015970230102539062,
          0.032180268317461014,
          -0.03215368092060089,
          -0.09511534124612808,
          0.28600770235061646,
          0.18757832050323486,
          0.01920248754322529,
          0.022448323667049408,
          -0.10882462561130524,
          -0.43787017464637756,
          0.23394910991191864,
          0.09439946711063385,
          0.12525510787963867,
          0.03973650559782982,
          0.08750087022781372,
          0.20528875291347504,
          0.05196136608719826,
          0.0013924086233600974,
          0.24205540120601654,
          0.019549289718270302,
          0.022599216550588608,
          0.235560804605484,
          -0.0826268419623375,
          -0.14152462780475616,
          0.2440517097711563,
          -0.07777591049671173,
          -0.08907078951597214,
          -0.19954435527324677,
          0.02081146463751793,
          0.06546546518802643,
          0.06486450880765915,
          0.09262097626924515,
          0.08410986512899399,
          0.05113515630364418,
          -0.12315156310796738,
          -0.07365067303180695,
          0.16902217268943787,
          0.290047824382782,
          -0.043891653418540955,
          0.06198633462190628,
          0.007304796017706394,
          0.04879290983080864,
          0.10351249575614929,
          -0.007725141942501068,
          -0.0068853083066642284,
          -0.04228982701897621,
          -0.01844012551009655,
          -0.3620041012763977,
          -0.10287255793809891,
          -0.06583274900913239,
          0.0008563934825360775,
          0.10431358218193054,
          0.0008366222027689219,
          -0.037299178540706635,
          -0.18939875066280365,
          0.0396745428442955,
          0.010600248351693153,
          -0.06492814421653748,
          -0.029428714886307716,
          -0.06681734323501587,
          0.08346951752901077,
          0.17064595222473145,
          0.2509746551513672,
          0.23448839783668518,
          -0.08672946691513062,
          -0.05457445606589317,
          -0.1292954981327057,
          0.07409690320491791,
          -0.11101169884204865,
          0.022515704855322838,
          -0.07229077816009521,
          0.04749439284205437,
          -0.004440259654074907,
          0.08153466135263443,
          -0.13586074113845825,
          -0.1661064475774765,
          -0.028945770114660263,
          0.05012140050530434,
          -0.013799387030303478,
          0.18098191916942596,
          0.025189124047756195,
          -0.1364038586616516,
          0.022007260471582413,
          -0.23542392253875732,
          0.0141567662358284,
          0.1847025603055954,
          -0.07976736128330231,
          0.10783175379037857,
          0.09476422518491745,
          -0.014753158204257488,
          -0.07106036692857742,
          0.14638663828372955,
          -0.18750928342342377,
          0.03693037107586861,
          0.012178978882730007,
          -0.025914354249835014,
          0.19980721175670624,
          0.1187494546175003,
          0.001013006898574531,
          -0.07495958358049393,
          0.10799519717693329,
          0.02726503647863865,
          -0.04149528965353966,
          -0.05784783139824867,
          -0.06823815405368805,
          -0.07430093735456467,
          -0.0612524189054966,
          0.10166741162538528,
          -0.03278666362166405,
          0.1091470941901207,
          0.09744159877300262,
          -0.09699548035860062,
          -0.0453154481947422,
          0.04989081621170044,
          -0.03714419901371002,
          -0.173293337225914,
          -0.24935908615589142,
          -0.09733254462480545,
          -0.02346094325184822,
          0.11107610166072845,
          -0.1863807886838913,
          -0.0885486826300621,
          -0.042635947465896606,
          -0.055843546986579895,
          -0.029998641461133957,
          0.20809458196163177,
          -0.14440453052520752,
          0.17655757069587708,
          0.10063829272985458,
          0.027117455378174782,
          0.038923874497413635,
          0.028525780886411667,
          -0.1961425095796585,
          -0.052874621003866196,
          -0.10356887429952621,
          -0.04242730885744095,
          -0.0657772496342659,
          -0.15981116890907288,
          0.1477729082107544,
          0.04196375980973244,
          -0.11964742094278336,
          -0.13459499180316925,
          -0.02157965861260891,
          -0.05792250484228134,
          -0.22417119145393372,
          0.15765084326267242,
          0.043451812118291855,
          0.08864214271306992,
          0.12698693573474884,
          -0.03614147752523422,
          0.007002297788858414,
          -0.11739207804203033,
          -0.16488748788833618,
          -0.14580145478248596,
          0.12466730177402496,
          -0.18591225147247314,
          0.1537046730518341,
          -0.03862430900335312,
          -0.026565708220005035,
          -0.1744135320186615,
          -0.21136069297790527,
          0.1087799146771431,
          -0.12182310968637466,
          0.31553009152412415,
          0.15317292511463165,
          -0.020794568583369255,
          0.1320512890815735,
          -0.016664624214172363,
          -0.05094946548342705,
          -0.17787794768810272,
          0.11294681578874588,
          -0.11648572236299515,
          0.03019530698657036,
          0.12177562713623047,
          0.15504750609397888,
          -0.10279686748981476,
          0.08746256679296494,
          -0.014759923331439495,
          -0.11231107264757156,
          -0.024959953501820564,
          -0.21299031376838684,
          0.15896818041801453,
          0.030566418543457985,
          -0.08099278807640076,
          -0.06526914238929749,
          0.18817006051540375,
          0.03887305408716202,
          0.006981642451137304,
          -0.1441279500722885,
          -0.06836413592100143,
          0.025844084098935127,
          -0.21836715936660767,
          0.13511115312576294,
          0.1336391568183899,
          -0.09070710837841034,
          0.14475379884243011,
          -0.25762632489204407,
          -0.27274832129478455,
          -0.024290841072797775,
          -0.010797268711030483,
          0.007620615419000387,
          0.13149654865264893,
          0.06442935764789581,
          0.16819976270198822,
          -0.07324553281068802,
          0.21341527998447418,
          0.15567533671855927,
          0.03361796215176582,
          0.14975672960281372,
          0.12689757347106934,
          0.3228703737258911,
          0.10140220820903778,
          0.03128828480839729,
          0.06784611195325851,
          0.12591159343719482,
          0.00931160431355238,
          0.02285485900938511,
          0.10405737161636353,
          0.15931561589241028,
          0.01774677261710167,
          -0.06659527122974396,
          -0.03894396498799324,
          0.018759064376354218,
          -0.09686579555273056,
          -0.0833975151181221,
          0.29090261459350586,
          0.08115898817777634,
          0.2310056984424591,
          0.11733011901378632,
          -0.2776820659637451,
          -0.07025545090436935,
          0.017974572256207466,
          0.014434504322707653,
          -0.0027913146186619997,
          0.12948077917099,
          -0.047753509134054184,
          0.05439336225390434,
          -0.12360158562660217,
          -0.09140702337026596,
          0.07705844193696976,
          -0.12388534843921661,
          -0.21803340315818787,
          0.1657075732946396,
          -0.03694327920675278,
          -0.021194390952587128,
          0.04830779880285263,
          0.11931055039167404,
          0.06525363028049469,
          0.04229448735713959,
          0.09860935062170029,
          0.046787288039922714,
          -0.025804631412029266,
          0.12249764800071716,
          -0.1487162709236145,
          0.06289394944906235,
          0.25242096185684204,
          -0.08308888971805573,
          -0.09581318497657776,
          0.024434685707092285,
          -0.2363196760416031,
          -0.05583338439464569,
          -0.07768765836954117,
          0.016102686524391174,
          0.03454234451055527,
          -0.019118525087833405,
          -0.2401360422372818,
          0.0697067454457283,
          -0.1294454038143158,
          0.06810898333787918,
          0.05202813073992729,
          -0.23012593388557434,
          0.011500105261802673,
          0.11222531646490097,
          0.3155044913291931,
          0.03761037439107895,
          -0.1397925466299057,
          0.2027950882911682,
          -0.00844324566423893,
          -0.02337019518017769,
          0.03506368398666382,
          -0.024879740551114082,
          -0.09431790560483932,
          0.10629642754793167,
          0.11434578150510788,
          0.057670969516038895,
          -0.005926803685724735,
          -0.043102193623781204,
          0.03866541385650635,
          -0.1687212884426117,
          0.11587685346603394,
          0.03607872128486633,
          -0.03997499495744705,
          -0.06840986758470535,
          0.07378992438316345,
          0.05722073093056679,
          -0.030550332739949226,
          0.06903089582920074,
          -0.07485254853963852,
          -0.28527122735977173,
          -0.16830046474933624,
          -0.09186801314353943,
          0.28586143255233765,
          -0.15024717152118683,
          0.14012162387371063,
          0.05851086229085922,
          0.09309832751750946,
          -0.005469035357236862,
          0.07140466570854187,
          0.30346378684043884,
          0.026772698387503624,
          0.05313693732023239,
          -0.024424131959676743,
          0.00853774230927229,
          -0.1416727900505066,
          0.053873032331466675,
          0.14623211324214935,
          0.09952499717473984,
          -0.1867256760597229,
          -0.12780289351940155,
          0.12078432738780975,
          0.12534159421920776,
          0.0434451587498188,
          0.14305350184440613,
          -0.0007883260259404778,
          0.06598494946956635,
          0.09072645753622055,
          -0.052928727120161057,
          0.0133835943415761,
          0.04419637843966484,
          0.024034172296524048,
          -0.04780071601271629,
          -0.11366145312786102,
          -0.15995046496391296,
          0.04001232236623764,
          -0.0014091471675783396,
          0.08662126213312149,
          0.06267616897821426,
          0.010137050412595272,
          -0.15147650241851807,
          -0.07970196008682251,
          0.025621041655540466,
          0.23012609779834747,
          -0.013526241295039654,
          -0.05689549073576927,
          -0.004377531353384256,
          -0.07270780950784683,
          -0.007622054778039455,
          0.18275374174118042,
          0.06316173076629639,
          -0.013195543549954891,
          0.1087547093629837,
          -0.21071110665798187,
          -0.07485798001289368,
          0.16243040561676025,
          0.016574518755078316,
          0.016574518755078316,
          0.016574518755078316,
          -0.13682310283184052,
          0.06308378279209137,
          0.06379050761461258,
          -0.24614296853542328,
          0.06956776976585388,
          -0.159807950258255,
          -0.0051329671405255795,
          -0.07847955822944641,
          -0.007190915290266275,
          0.015274742618203163,
          0.0463138073682785,
          0.0027627120725810528,
          -0.09356939047574997,
          0.060341231524944305,
          0.07613622397184372,
          0.507227897644043,
          -0.09067245572805405,
          0.20882542431354523,
          -0.004576149862259626,
          -0.12491822987794876,
          0.13457044959068298,
          0.11080816388130188,
          -0.08039140701293945,
          -0.020731674507260323,
          -0.06312870234251022,
          0.01665407232940197,
          -0.04781332612037659,
          -0.045209404081106186,
          0.0441875122487545,
          -0.2297394573688507,
          -0.21502019464969635,
          -0.4803745448589325,
          -0.112803153693676,
          0.08142529428005219,
          -0.13141779601573944,
          -0.20699183642864227,
          0.11501088738441467,
          -0.12532927095890045,
          -0.14572151005268097,
          -0.1214589923620224,
          -0.02688632346689701,
          -0.02696908265352249,
          -0.08782858401536942,
          -0.13114267587661743,
          -0.21458281576633453,
          0.13621938228607178,
          0.12738008797168732,
          -0.17672352492809296,
          -0.11843351274728775,
          0.047248098999261856,
          0.11985262483358383,
          0.1754632294178009,
          0.07405093312263489,
          0.04977302998304367,
          -0.17418724298477173,
          -0.07835858315229416,
          0.04763628914952278,
          -0.07220252603292465,
          0.04954348877072334,
          0.20492494106292725,
          -0.07520964741706848,
          0.02883596159517765,
          -0.06571291387081146,
          -0.07117407768964767,
          -0.04640830680727959,
          -0.06862941384315491,
          0.1678430736064911,
          0.2286933958530426,
          0.09711146354675293,
          0.048229362815618515,
          0.07040483504533768,
          -0.2874990999698639,
          -0.11481054872274399,
          -0.11188867688179016,
          0.07986105233430862,
          0.12594673037528992,
          0.1916254609823227,
          -0.2941353917121887,
          -0.132599875330925,
          -0.08119596540927887,
          0.10415811836719513,
          0.07584111392498016,
          0.14488574862480164,
          0.15590953826904297,
          -0.010776081122457981,
          -0.029388587921857834,
          0.1696784943342209,
          0.10008402913808823,
          0.01327410526573658,
          0.09111067652702332,
          -0.09917144477367401,
          0.019640406593680382,
          0.11282496899366379,
          0.13250918686389923,
          0.010738479904830456,
          0.01768277958035469,
          0.09735806286334991,
          -0.15752482414245605,
          0.06014569476246834,
          -0.14688627421855927,
          -0.1540943831205368,
          0.25901710987091064,
          0.11414292454719543,
          -0.10630560666322708,
          -0.14841210842132568,
          0.06310233473777771,
          -0.2697620093822479,
          0.08547770231962204,
          0.049905646592378616,
          0.017468271777033806,
          -0.022951781749725342,
          -0.24924522638320923,
          0.16873455047607422,
          0.007650266867130995,
          0.013963060453534126,
          -0.004025290720164776,
          0.12812484800815582,
          -0.12145726382732391,
          0.16208451986312866,
          0.13612306118011475,
          0.21106015145778656,
          -0.056996677070856094,
          -0.10972445458173752,
          0.25450438261032104,
          0.16335253417491913,
          -0.031004643067717552,
          -0.16812579333782196,
          -0.054357949644327164,
          0.06160934269428253,
          -0.025257477536797523,
          -0.07608343660831451,
          0.010008124634623528,
          -0.020572654902935028,
          -0.06564148515462875,
          -0.0708589032292366,
          0.05351502448320389,
          0.17404943704605103,
          -0.19198323786258698,
          0.03060808777809143,
          -0.14545127749443054,
          -0.006031888071447611,
          0.1086212620139122,
          -0.10133471339941025,
          0.012181681580841541,
          -0.11809808015823364,
          -0.017311979085206985,
          0.13266661763191223,
          0.25831225514411926,
          -0.06011408939957619,
          -0.12620006501674652,
          -0.15553252398967743,
          0.021498367190361023,
          0.057055678218603134,
          0.1320764571428299,
          0.08118245750665665,
          0.10947470366954803,
          -0.21204130351543427,
          -0.05065622553229332,
          -0.005465666763484478,
          0.1522492915391922,
          -0.0963677167892456,
          0.03827827051281929,
          0.12289255857467651,
          0.0676063597202301,
          0.00009600562043488026,
          -0.18852704763412476,
          -0.07232017815113068,
          0.0313640795648098,
          0.1683092713356018,
          0.10510213673114777,
          -0.017144598066806793,
          0.1348988115787506,
          0.00040402868762612343,
          0.09515668451786041,
          -0.2211446315050125,
          -0.0997949168086052,
          0.14195923507213593,
          0.030759325250983238,
          -0.03392937779426575,
          0.07241608202457428,
          0.06524452567100525,
          -0.2564651072025299,
          0.09741448611021042,
          0.10042377561330795,
          0.001441335421986878,
          -0.08086319267749786,
          0.10645172744989395,
          0.024672215804457664,
          0.01908087357878685,
          -0.03461728245019913,
          0.028939073905348778,
          -0.05034996569156647,
          0.1404617875814438,
          -0.01652909442782402,
          0.016008669510483742,
          0.16594380140304565,
          0.204898864030838,
          -0.07745493948459625,
          -0.03189804032444954,
          0.02937902882695198,
          -0.026115816086530685,
          0.14393675327301025,
          -0.13429300487041473,
          0.17478972673416138,
          0.009335075505077839,
          0.022321030497550964,
          -0.06537991762161255,
          0.16019125282764435,
          0.114358089864254,
          0.021447401493787766,
          0.053465135395526886,
          -0.061192091554403305,
          0.04105425626039505,
          0.33173874020576477,
          0.06944803148508072,
          -0.07873509079217911,
          0.11964091658592224,
          -0.12514466047286987,
          0.12852954864501953,
          -0.06659762561321259,
          -0.040824536234140396,
          -0.04990153759717941,
          0.23789137601852417,
          0.017297333106398582,
          0.20780280232429504,
          -0.24367009103298187,
          -0.0566009096801281,
          0.05947752669453621,
          -0.009178743697702885,
          -0.0023051914758980274,
          0.034847911447286606,
          -0.12567166984081268,
          -0.16659536957740784,
          -0.11529013514518738,
          0.19089685380458832,
          0.03129066526889801,
          0.06653717160224915,
          -0.05958070978522301,
          -0.1250574290752411,
          0.09841640293598175,
          0.1657155305147171,
          0.13614670932292938,
          0.04054868593811989,
          -0.06738385558128357,
          0.03301282227039337,
          -0.06001541391015053,
          -0.06421583145856857,
          -0.09313724935054779,
          0.023967403918504715,
          0.08559716492891312,
          0.13908977806568146,
          -0.01985001750290394,
          -0.15939709544181824,
          0.0852237120270729,
          0.22056755423545837,
          0.030744239687919617,
          -0.03402378037571907,
          0.2370622158050537,
          0.2594955265522003,
          -0.05942109227180481,
          0.06180354580283165,
          -0.17709270119667053,
          0.09621498733758926,
          0.0590684674680233,
          -0.06421583145856857,
          0.12805452942848206,
          -0.21158364415168762,
          0.08587472885847092,
          -0.08603648841381073,
          0.06637298315763474,
          0.15612900257110596,
          0.030572958290576935,
          -0.11978288739919662,
          -0.060815270990133286,
          0.04638809710741043,
          -0.055552467703819275,
          -0.09837637841701508,
          -0.02815854549407959,
          0.0035087165888398886,
          -0.031026147305965424,
          0.038310371339321136,
          -0.21035166084766388,
          0.07291115075349808,
          -0.12361238896846771,
          -0.04203435033559799,
          -0.23138903081417084,
          -0.020484382286667824,
          0.0603032149374485,
          0.09620200842618942,
          0.019343622028827667,
          -0.2128692865371704,
          -0.08922083675861359,
          0.24433088302612305,
          -0.06873049587011337,
          0.11046714335680008,
          0.04816114529967308,
          -0.014107093214988708,
          -0.026182077825069427,
          -0.11371032148599625,
          -0.08443646878004074,
          0.03513271361589432,
          0.150729238986969,
          0.11613327264785767,
          -0.25559473037719727,
          -0.09679087996482849,
          0.19228771328926086,
          -0.01153078954666853,
          -0.13442718982696533,
          0.2046474665403366,
          -0.04202423617243767,
          0.1562257558107376,
          -0.18041303753852844,
          0.1585208922624588,
          -0.14858248829841614,
          -0.16786745190620422,
          -0.21104271709918976,
          -0.025285333395004272,
          -0.15769746899604797,
          0.055972591042518616,
          0.028394728899002075,
          0.06100806966423988,
          0.16126346588134766,
          -0.09946659207344055,
          0.10932189226150513,
          -0.13246382772922516,
          -0.06768394261598587,
          -0.06592676043510437,
          -0.20206135511398315,
          -0.0049223224632442,
          -0.10126886516809464,
          0.11233103275299072,
          -0.14804749190807343,
          -0.05993146449327469,
          -0.07317723333835602,
          0.031718265265226364,
          -0.10254990309476852,
          0.1973133534193039,
          -0.01131194457411766,
          -0.006255336105823517,
          -0.07025891542434692,
          -0.220681294798851,
          -0.0804341733455658,
          -0.0906531885266304,
          -0.17290958762168884,
          -0.12250281125307083,
          0.05101391673088074,
          0.011327244341373444,
          -0.39039507508277893,
          -0.048666615039110184,
          -0.12419600039720535,
          -0.30212435126304626,
          0.10828880220651627,
          0.12103155255317688,
          -0.10835349559783936,
          -0.007986688986420631,
          0.09769365191459656,
          -0.014854525215923786,
          -0.03573421388864517,
          0.10973338037729263,
          0.08361037820577621,
          -0.15342454612255096,
          0.16946528851985931,
          0.044323962181806564,
          -0.07953810691833496,
          0.1390770971775055,
          -0.3608691990375519,
          -0.09812062233686447,
          -0.03389492630958557,
          -0.09514310956001282,
          0.09760640561580658,
          -0.1595819890499115,
          -0.08964920789003372,
          -0.026294270530343056,
          -0.05352301523089409,
          -0.12636420130729675,
          -0.03976674750447273,
          0.1951228380203247,
          -0.047258105129003525,
          0.0945732593536377,
          0.05662970244884491,
          0.015535775572061539,
          -0.09044801443815231,
          0.03883355110883713,
          -0.08949752897024155,
          0.037740785628557205,
          -0.07764393836259842,
          0.047757431864738464,
          0.07873082906007767,
          0.13077354431152344,
          0.21082688868045807,
          -0.00904606468975544,
          -0.00904606468975544,
          0.06754348427057266,
          0.06754348427057266,
          -0.06281442195177078,
          -0.06281442195177078,
          -0.1745903640985489,
          -0.1745903640985489,
          0.08342727273702621,
          0.08342727273702621,
          0.0016405751230195165,
          0.0016405751230195165,
          0.04424655809998512,
          0.04424655809998512,
          0.03705675154924393,
          0.03705675154924393,
          -0.2978823781013489,
          -0.2978823781013489,
          0.014733131043612957,
          0.035882990807294846,
          0.18955983221530914,
          0.18955983221530914,
          -0.19676963984966278,
          -0.19676963984966278,
          0.03480632230639458,
          0.03480632230639458,
          0.056350309401750565,
          0.056350309401750565,
          -0.2870960831642151,
          -0.2870960831642151,
          0.16604100167751312,
          0.1117284968495369,
          0.1950342357158661,
          0.04556431621313095,
          -0.285117506980896,
          -0.0174188781529665,
          -0.052830975502729416,
          0.0699840560555458,
          0.00148872216232121,
          -0.01586836762726307,
          0.026816729456186295,
          0.19844435155391693,
          0.2643469274044037,
          -0.24078896641731262,
          0.2901213467121124,
          0.2498270869255066,
          0.15801723301410675,
          0.09423234313726425,
          -0.199215829372406,
          -0.24394340813159943,
          -0.08494793623685837,
          -0.2030872404575348,
          0.2025461494922638,
          -0.07184798270463943,
          0.07932431995868683,
          0.1480567306280136,
          0.034314874559640884,
          0.07928991317749023,
          0.14866483211517334,
          -0.15497860312461853,
          -0.11557304114103317,
          -0.21129293739795685,
          -0.02421122044324875,
          0.011121301911771297,
          0.10171859711408615,
          0.08379828929901123,
          -0.08783523738384247,
          -0.11490632593631744,
          0.18759198486804962,
          -0.015179981477558613,
          -0.1725347936153412,
          -0.16010472178459167,
          -0.045774709433317184,
          0.061757978051900864,
          0.07652484625577927,
          0.05947834998369217,
          0.012640529312193394,
          0.15997107326984406,
          -0.032869432121515274,
          0.04587176814675331,
          -0.03164626657962799,
          -0.05232452601194382,
          0.05289178341627121,
          -0.09751333296298981,
          0.3292192220687866,
          -0.10850194096565247,
          -0.039988309144973755,
          0.1412353515625,
          0.15301038324832916,
          0.3117254078388214,
          0.21240074932575226,
          0.2511061728000641,
          0.14175468683242798,
          -0.2430766522884369,
          0.15031082928180695,
          0.21626313030719757,
          0.13726288080215454,
          -0.0048549179919064045,
          0.10226636379957199,
          -0.01754944957792759,
          -0.1284295618534088,
          -0.15795162320137024,
          -0.033572662621736526,
          0.013182311318814754,
          0.12992611527442932,
          -0.046590760350227356,
          0.24946925044059753,
          0.2872852087020874,
          0.10598168522119522,
          0.11120826750993729,
          0.1426505297422409,
          -0.06433330476284027,
          -0.10627757757902145,
          0.10836859047412872,
          0.012944670394062996,
          -0.21479347348213196,
          0.0762755274772644,
          -0.08304937183856964,
          -0.10380277037620544,
          -0.13599573075771332,
          -0.037279434502124786,
          -0.08064631372690201,
          -0.2225586622953415,
          0.19314995408058167,
          -0.06491560488939285,
          0.12431035190820694,
          -0.016128867864608765,
          -0.00204692455008626,
          0.1465856432914734,
          0.17690910398960114,
          -0.015610778704285622,
          0.10725921392440796,
          -0.07225140184164047,
          0.011557675898075104,
          -0.012795801274478436,
          -0.015112743712961674,
          -0.05860443040728569,
          0.20649053156375885,
          -0.026391517370939255,
          0.12170515954494476,
          -0.02333635464310646,
          -0.06163443252444267,
          0.09024129062891006,
          -0.08355738967657089,
          -0.06439913809299469,
          -0.18683016300201416,
          0.09476058185100555,
          0.12990476191043854,
          0.22768056392669678,
          0.047300707548856735,
          0.11635924875736237,
          -0.14942258596420288,
          0.11565511673688889,
          -0.014615067280828953,
          0.12136313319206238,
          -0.11098400503396988,
          -0.092204749584198,
          -0.1987782120704651,
          -0.12384400516748428,
          -0.1289670169353485,
          -0.1596384346485138,
          0.11897978186607361,
          -0.10431274026632309,
          0.11709929257631302,
          0.10588996112346649,
          0.01187955029308796,
          0.132215678691864,
          -0.03663461655378342,
          0.17393292486667633,
          0.13709688186645508,
          0.30969274044036865,
          -0.03480654954910278,
          0.11042050272226334,
          0.10813937336206436,
          -0.058746177703142166,
          0.01854475401341915,
          0.21748803555965424,
          -0.2638421058654785,
          -0.04636416584253311,
          -0.11474035680294037,
          0.054486215114593506,
          -0.30846941471099854,
          0.05056508257985115,
          0.0023806612007319927,
          -0.17881132662296295,
          -0.33480527997016907,
          -0.16164951026439667,
          0.1981392353773117,
          -0.052813757210969925,
          -0.10737936943769455,
          0.1424608826637268,
          0.20181594789028168,
          -0.04738352820277214,
          0.15352275967597961,
          -0.14760498702526093,
          -0.02566700056195259,
          -0.08750088512897491,
          0.14739346504211426,
          -0.1344173699617386,
          0.23260414600372314,
          -0.34810686111450195,
          -0.15339261293411255,
          0.005558687262237072,
          0.16664628684520721,
          -0.13472922146320343,
          0.1564580798149109,
          -0.41007116436958313,
          -0.05449775233864784,
          0.1196528896689415,
          -0.14919120073318481,
          -0.013352325186133385,
          -0.13349483907222748,
          -0.09848803281784058,
          -0.03221437707543373,
          -0.11894164234399796,
          -0.022748040035367012,
          -0.13954344391822815,
          0.047592829912900925,
          -0.08216316252946854,
          -0.15035966038703918,
          -0.10431063175201416,
          0.028431560844182968,
          0.06271836906671524,
          -0.05050341784954071,
          0.05578872561454773,
          -0.08822735399007797,
          0.0468587689101696,
          0.002817722037434578,
          0.07084625214338303,
          -0.024455051869153976,
          -0.47615307569503784,
          -0.03487192839384079,
          0.04049643501639366,
          0.11851737648248672,
          0.29195305705070496,
          0.18767772614955902,
          -0.03817188739776611,
          -0.09047514945268631,
          0.011498305946588516,
          -0.04182784631848335,
          -0.0923154279589653,
          -0.13043378293514252,
          0.14357030391693115,
          -0.049530722200870514,
          0.00794182438403368,
          0.13793323934078217,
          0.022580990567803383,
          -0.1384025514125824,
          -0.07186663895845413,
          -0.21435140073299408,
          -0.18977151811122894,
          -0.21225816011428833,
          -0.26527220010757446,
          0.03427312523126602,
          -0.14568279683589935,
          0.04124794155359268,
          -0.12241092324256897,
          0.21056334674358368,
          0.00957251712679863,
          0.17520929872989655,
          0.00286068394780159,
          0.12578770518302917,
          0.056486617773771286,
          0.023907065391540527,
          0.19260850548744202,
          0.1581171154975891,
          0.03429098054766655,
          -0.1558864563703537,
          0.07902299612760544,
          -0.09593632072210312,
          0.03255706652998924,
          -0.06262581050395966,
          0.021428927779197693,
          0.0407976433634758,
          -0.14876799285411835,
          0.03256489709019661,
          0.11730587482452393,
          -0.036529865115880966,
          0.08167049288749695,
          -0.03508227318525314,
          -0.2986316382884979,
          -0.04500269889831543,
          -0.24364343285560608,
          0.0008102770079858601,
          -0.01340007595717907,
          -0.012099728919565678,
          0.18708370625972748,
          -0.079310342669487,
          0.05461198464035988,
          -0.0695924237370491,
          0.023150021210312843,
          0.010570273734629154,
          0.10531527549028397,
          -0.22489012777805328,
          0.05643627047538757,
          -0.062289759516716,
          0.031159739941358566,
          0.06540022790431976,
          -0.13689403235912323,
          0.2106011062860489,
          0.16595201194286346,
          -0.12398820370435715,
          0.08789204806089401,
          -0.09434231370687485,
          0.26392295956611633,
          0.08250074088573456,
          0.09403491765260696,
          -0.07847315073013306,
          0.05236846208572388,
          -0.1673632562160492,
          -0.0807795450091362,
          0.1462632715702057,
          -0.10403274744749069,
          0.1692054718732834,
          0.11609188467264175,
          0.04457699880003929,
          -0.034053631126880646,
          -0.08766339719295502,
          0.06953296810388565,
          -0.32305166125297546,
          -0.2037077397108078,
          -0.1653970330953598,
          -0.13339748978614807,
          -0.16794869303703308,
          -0.1598905771970749,
          -0.19693352282047272,
          -0.06254838407039642,
          -0.09137611836194992,
          0.03849164769053459,
          0.10975025594234467,
          0.050842009484767914,
          -0.04583008587360382,
          -0.1545354574918747,
          0.06118299067020416,
          -0.3621915280818939,
          -0.17233148217201233,
          -0.22893372178077698,
          -0.0388869047164917,
          -0.22781933844089508,
          -0.10091712325811386,
          -0.12224788218736649,
          -0.21522703766822815,
          -0.010747496038675308,
          -0.058922842144966125,
          -0.13231277465820312,
          -0.02523544244468212,
          -0.2259311079978943,
          -0.09907910227775574,
          0.04650856554508209,
          0.01836368627846241,
          -0.23527617752552032,
          0.016971835866570473,
          -0.039809733629226685,
          0.017555929720401764,
          0.10278068482875824,
          0.0747079849243164,
          0.05157465860247612,
          -0.14908161759376526,
          0.1056026741862297,
          0.1107156053185463,
          0.06416299194097519,
          0.11027587950229645,
          -0.07613451778888702,
          -0.09701861441135406
         ]
        },
        {
         "hovertemplate": "label=mgood<br>pca_comments_0=%{x}<br>pca_comments_1=%{y}<br>pca_comments_2=%{z}<extra></extra>",
         "legendgroup": "mgood",
         "marker": {
          "color": "#EF553B",
          "opacity": 0.5,
          "size": 2,
          "symbol": "circle"
         },
         "mode": "markers",
         "name": "mgood",
         "scene": "scene",
         "showlegend": true,
         "type": "scatter3d",
         "x": [
          0.21795029938220978,
          -0.06581488251686096,
          0.04222015291452408,
          0.027547871693968773,
          0.18303000926971436,
          0.2399735003709793,
          -0.14328546822071075,
          -0.012739977799355984,
          0.10928048938512802,
          -0.09983961284160614,
          -0.1931099146604538,
          -0.2358960062265396,
          0.3045903742313385,
          0.0426834300160408,
          -0.09280456602573395,
          0.28679174184799194,
          0.15746550261974335,
          0.020384371280670166,
          0.16379006206989288,
          0.05459003150463104,
          0.14064623415470123,
          0.06868352741003036,
          0.08169563114643097,
          0.0009600062621757388,
          -0.00025454029673710465,
          0.06921248883008957,
          0.0071146534755826,
          -0.07768628746271133,
          -0.0972910225391388,
          0.285041868686676,
          0.05962749943137169,
          -0.06274514645338058,
          0.3927991986274719,
          -0.11652178317308426,
          -0.08260670304298401,
          0.1438477337360382,
          0.03045346587896347,
          -0.2296968698501587,
          -0.0913463607430458,
          -0.017126772552728653,
          0.07139260321855545,
          0.18999788165092468,
          -0.03917714208364487,
          -0.09529013186693192,
          0.01946195587515831,
          -0.12758304178714752,
          0.07699078321456909,
          -0.06276337057352066,
          -0.14946570992469788,
          -0.24687054753303528,
          0.08820365369319916,
          0.09925198554992676,
          0.29982441663742065,
          0.1269124448299408,
          -0.040063753724098206,
          0.06305165588855743,
          0.10652521997690201,
          0.21137040853500366,
          0.008287829346954823,
          0.14928120374679565,
          0.02981152944266796,
          0.040370162576436996,
          -0.02454664185643196,
          0.13673625886440277,
          0.15478549897670746,
          -0.19589339196681976,
          -0.028561143204569817,
          0.027185939252376556,
          -0.2285565882921219,
          -0.10773907601833344,
          0.11170864850282669,
          -0.0534110963344574,
          -0.0534110963344574,
          -0.07712727040052414,
          0.10099850594997406,
          0.05305314436554909,
          -0.09348214417695999,
          0.07090722024440765,
          0.26564180850982666,
          -0.059442125260829926,
          0.14989353716373444,
          0.2164265662431717,
          -0.230337992310524,
          0.010031835176050663,
          0.0032399899791926146,
          0.22694189846515656,
          -0.13137178122997284,
          -0.0317673534154892,
          0.05162515863776207,
          0.09180177748203278,
          -0.12187634408473969,
          0.015788713470101357,
          0.08242443948984146,
          -0.003589771455153823,
          0.05700267106294632,
          -0.03851465508341789,
          0.07425223290920258,
          -0.005918461363762617,
          0.032795362174510956,
          0.10444169491529465,
          0.10444169491529465,
          -0.11210367828607559,
          -0.11210367828607559,
          0.11193183064460754,
          0.09251799434423447,
          0.11655080318450928
         ],
         "y": [
          0.12778624892234802,
          0.12909813225269318,
          0.05066907778382301,
          0.10383105278015137,
          0.11002219468355179,
          -0.006652179639786482,
          -0.14103685319423676,
          -0.06757252663373947,
          -0.14751482009887695,
          -0.20651377737522125,
          0.04199420288205147,
          0.19521106779575348,
          0.17386211454868317,
          -0.029743731021881104,
          0.048092927783727646,
          0.12594103813171387,
          -0.08086038380861282,
          0.028889182955026627,
          0.04497165232896805,
          -0.039320509880781174,
          0.03658321499824524,
          -0.07765475660562515,
          -0.12325260043144226,
          -0.040692780166864395,
          0.04899777099490166,
          -0.18756893277168274,
          0.08227015286684036,
          0.018081415444612503,
          -0.35696670413017273,
          0.09888926893472672,
          -0.21157677471637726,
          0.022943072021007538,
          -0.03530127555131912,
          0.13819441199302673,
          0.02284710854291916,
          -0.10213601589202881,
          -0.1801476925611496,
          -0.04557790979743004,
          -0.06126093864440918,
          0.2151769995689392,
          -0.025103844702243805,
          -0.00018354739586357027,
          0.08213235437870026,
          0.0820384994149208,
          -0.050847768783569336,
          -0.24661877751350403,
          -0.1729103922843933,
          -0.21386756002902985,
          0.07604598253965378,
          0.20174464583396912,
          -0.13228394091129303,
          0.01418476551771164,
          0.13780608773231506,
          -0.08296521753072739,
          -0.008777717128396034,
          0.1181841790676117,
          -0.04360755905508995,
          0.08317800611257553,
          0.006260072346776724,
          -0.25510144233703613,
          -0.11044851690530777,
          -0.018534112721681595,
          -0.15351347625255585,
          -0.061827562749385834,
          -0.1406102031469345,
          -0.19727563858032227,
          -0.09267400205135345,
          -0.142675518989563,
          -0.3601832091808319,
          -0.01405327022075653,
          0.012235859408974648,
          0.1096092090010643,
          0.1096092090010643,
          0.1456083059310913,
          -0.10803195089101791,
          0.03221605345606804,
          -0.12327245622873306,
          -0.20302125811576843,
          0.005022220313549042,
          -0.09260222315788269,
          -0.26941320300102234,
          -0.035221029072999954,
          -0.032237064093351364,
          -0.033875416964292526,
          -0.05166085809469223,
          -0.0827559307217598,
          -0.13805682957172394,
          -0.028377225622534752,
          -0.24487696588039398,
          -0.03648434206843376,
          -0.05687971040606499,
          0.17423850297927856,
          0.0065602813847362995,
          -0.10270699113607407,
          -0.0920788124203682,
          0.05003897845745087,
          -0.14395549893379211,
          0.1462816596031189,
          0.004328165668994188,
          0.04363372549414635,
          0.04363372549414635,
          0.009961375035345554,
          0.009961375035345554,
          -0.0578310489654541,
          -0.19032473862171173,
          0.0831676796078682
         ],
         "z": [
          -0.07466776669025421,
          0.20701029896736145,
          -0.15509159862995148,
          -0.004290456883609295,
          -0.0812758356332779,
          -0.01241557952016592,
          0.042494550347328186,
          -0.027260908856987953,
          0.02171049267053604,
          0.2656766176223755,
          -0.11750875413417816,
          0.024030156433582306,
          0.03657785803079605,
          0.16368646919727325,
          0.03411082550883293,
          0.09634736180305481,
          0.031153734773397446,
          -0.06133974343538284,
          -0.02219128981232643,
          -0.08684197068214417,
          0.034560494124889374,
          0.23921042680740356,
          0.029278459027409554,
          -0.16550792753696442,
          0.1775328516960144,
          -0.025888366624712944,
          0.09772249311208725,
          -0.025724319741129875,
          0.05218996852636337,
          -0.1217162162065506,
          0.12688815593719482,
          -0.0016954574966803193,
          0.1094655990600586,
          -0.012027110904455185,
          -0.3788091838359833,
          -0.006580829154700041,
          -0.033899903297424316,
          0.1835734099149704,
          -0.046078555285930634,
          0.08693920820951462,
          -0.12093331664800644,
          0.1645474135875702,
          -0.040293652564287186,
          0.037271905690431595,
          0.06626825779676437,
          0.03660518676042557,
          0.016354495659470558,
          -0.1760174036026001,
          0.007283546030521393,
          0.07237328588962555,
          0.047976043075323105,
          -0.14070461690425873,
          -0.039711177349090576,
          -0.06518136709928513,
          0.052879780530929565,
          0.0823265016078949,
          0.1389678418636322,
          0.025584086775779724,
          0.1169905811548233,
          0.13710521161556244,
          -0.09874646365642548,
          0.009672229178249836,
          -0.10622499138116837,
          0.03721487149596214,
          -0.08461233973503113,
          -0.1487191915512085,
          -0.09742511808872223,
          0.14869284629821777,
          0.1971932053565979,
          0.02438501827418804,
          0.0862221047282219,
          0.05312090367078781,
          0.05312090367078781,
          0.20174767076969147,
          0.07649124413728714,
          0.08582058548927307,
          -0.0618910975754261,
          0.181479349732399,
          -0.05977923795580864,
          -0.0013368291547521949,
          0.11401259154081345,
          -0.0017778712790459394,
          0.21227125823497772,
          -0.056239254772663116,
          -0.09929312765598297,
          -0.13182711601257324,
          0.13352477550506592,
          0.0370255745947361,
          0.013295343145728111,
          0.02976473979651928,
          -0.0408368743956089,
          0.10094102472066879,
          0.16613857448101044,
          0.01900532655417919,
          0.13296623528003693,
          0.0629582330584526,
          0.17408373951911926,
          0.035590313374996185,
          -0.00013414282875601202,
          -0.0691351443529129,
          -0.0691351443529129,
          0.16863960027694702,
          0.16863960027694702,
          0.20361898839473724,
          0.057497017085552216,
          0.04608661308884621
         ]
        },
        {
         "hovertemplate": "label=mbad<br>pca_comments_0=%{x}<br>pca_comments_1=%{y}<br>pca_comments_2=%{z}<extra></extra>",
         "legendgroup": "mbad",
         "marker": {
          "color": "#00cc96",
          "opacity": 0.5,
          "size": 2,
          "symbol": "circle"
         },
         "mode": "markers",
         "name": "mbad",
         "scene": "scene",
         "showlegend": true,
         "type": "scatter3d",
         "x": [
          0.17614050209522247,
          0.13150587677955627,
          -0.11734605580568314,
          0.04704895615577698,
          0.2140524834394455,
          0.021649256348609924,
          0.30214741826057434,
          0.150550976395607,
          0.23912979662418365,
          0.1491284966468811,
          0.16377979516983032,
          0.39274612069129944,
          0.27141061425209045,
          0.05814330279827118,
          0.14007668197155,
          0.3304206430912018,
          -0.2933618724346161,
          0.2919861078262329,
          0.22327521443367004,
          0.06222333759069443,
          0.10199744999408722,
          0.11579576879739761,
          0.23679599165916443,
          0.10455816984176636,
          -0.03822512924671173,
          0.19308190047740936,
          0.09057707339525223,
          0.32124045491218567,
          0.10847378522157669,
          0.1644064038991928,
          0.21963739395141602,
          -0.12368307262659073,
          0.3211987316608429,
          -0.4915807545185089,
          0.2598634958267212,
          0.1541101634502411,
          0.24683253467082977,
          0.2658046782016754,
          0.05511438846588135,
          0.24116869270801544,
          0.19774845242500305,
          0.127210333943367,
          0.24414940178394318,
          0.2578686773777008,
          0.08175015449523926,
          -0.10924337804317474,
          0.3038390874862671,
          0.2263968139886856,
          0.03220270574092865,
          0.18694819509983063,
          0.19139204919338226,
          0.2604465186595917,
          0.25931867957115173,
          0.17106910049915314,
          0.2853960394859314,
          0.2599843144416809,
          0.1061653345823288,
          0.18515805900096893,
          0.18654878437519073,
          0.4312801957130432,
          0.06592798233032227,
          0.2160617709159851,
          0.24224546551704407,
          -0.06460019946098328,
          0.25566574931144714,
          0.14972952008247375,
          0.14221994578838348,
          0.3150949478149414,
          0.29805758595466614,
          0.39559829235076904,
          0.35255056619644165,
          0.27045944333076477,
          0.31100836396217346,
          0.21007713675498962,
          0.10994002968072891,
          0.23467984795570374,
          0.3024766743183136,
          0.17225342988967896,
          0.21340003609657288,
          -0.027101002633571625,
          0.2422417849302292,
          0.19548556208610535,
          0.24005034565925598,
          0.1650536209344864,
          0.2557440996170044,
          0.21240761876106262,
          0.15891291201114655,
          0.2494419515132904,
          0.1787622720003128,
          0.1806686371564865,
          0.200031116604805,
          0.19138644635677338,
          0.32148006558418274,
          0.2064097821712494,
          0.27618077397346497,
          0.07277991622686386,
          0.31466180086135864,
          0.31381258368492126,
          0.1890442818403244,
          0.30920231342315674,
          0.30202803015708923,
          0.248483344912529,
          0.2701472043991089,
          0.11913096904754639,
          0.2732028663158417,
          0.36188173294067383,
          0.3123342990875244,
          0.18404658138751984,
          0.0002880328393075615,
          0.18545831739902496,
          0.30042266845703125,
          0.1672726273536682,
          0.18049751222133636,
          0.06707188487052917,
          0.17764699459075928,
          0.17764699459075928,
          0.44942620396614075,
          0.34520313143730164,
          0.25870025157928467,
          0.16470429301261902,
          0.2946973443031311,
          0.18637892603874207,
          0.07663402706384659,
          0.1272323578596115
         ],
         "y": [
          0.03542570769786835,
          -0.05156002566218376,
          0.0887376219034195,
          -0.16109482944011688,
          0.08657567948102951,
          -0.07070030272006989,
          0.04928985983133316,
          -0.060394782572984695,
          -0.06759604811668396,
          0.08001240342855453,
          -0.26773422956466675,
          -0.07739639282226562,
          0.032725296914577484,
          -0.1914522647857666,
          -0.22423113882541656,
          0.07835754752159119,
          -0.056887704879045486,
          -0.01825239509344101,
          -0.10276418179273605,
          0.050444912165403366,
          -0.15984466671943665,
          0.030865194275975227,
          -0.049447134137153625,
          0.05214915797114372,
          -0.24104005098342896,
          -0.09758834540843964,
          -0.056399885565042496,
          -0.17464911937713623,
          0.07889126986265182,
          -0.20564821362495422,
          -0.06694742292165756,
          -0.4022141695022583,
          0.058390919119119644,
          -0.22039325535297394,
          -0.06221834197640419,
          0.09403569996356964,
          0.08315657079219818,
          -0.01552627980709076,
          0.08464279025793076,
          0.002474191365763545,
          -0.04801471531391144,
          -0.07620894908905029,
          0.08733056485652924,
          -0.12400129437446594,
          0.03288665786385536,
          -0.16969549655914307,
          -0.05241318419575691,
          -0.016349177807569504,
          -0.03510943800210953,
          0.11446282267570496,
          -0.0587569996714592,
          -0.08921214193105698,
          0.0424085296690464,
          -0.25804853439331055,
          0.04376240819692612,
          0.07670272141695023,
          0.0025646237190812826,
          -0.014050711877644062,
          -0.08062944561243057,
          -0.45693084597587585,
          -0.24108324944972992,
          -0.13782791793346405,
          -0.013103081844747066,
          0.03932993486523628,
          0.0678459107875824,
          -0.1548527181148529,
          0.0852426141500473,
          -0.019713111221790314,
          0.026467524468898773,
          -0.09034209698438644,
          -0.029324209317564964,
          -0.055189382284879684,
          -0.09353400766849518,
          -0.06626810133457184,
          -0.034549906849861145,
          -0.11183653026819229,
          -0.02097557671368122,
          -0.13860107958316803,
          0.05867502838373184,
          -0.11301133781671524,
          0.03375867381691933,
          -0.028690814971923828,
          0.08323723822832108,
          0.015642717480659485,
          -0.24068863689899445,
          -0.051636919379234314,
          -0.037593062967061996,
          0.0061031063087284565,
          -0.2389005422592163,
          0.12564289569854736,
          0.04331473633646965,
          -0.04251973330974579,
          0.01674099825322628,
          0.08457401394844055,
          -0.04100662097334862,
          -0.21346744894981384,
          0.15148349106311798,
          0.013162811286747456,
          -0.04796668887138367,
          -0.00793024804443121,
          0.10171481966972351,
          0.022336909547448158,
          -0.02437637373805046,
          -0.10255850106477737,
          0.04135151207447052,
          0.002548550721257925,
          -0.03057911805808544,
          0.0455576591193676,
          -0.13838720321655273,
          0.060535915195941925,
          0.11065417528152466,
          -0.19516195356845856,
          0.06515657901763916,
          0.007746315095573664,
          -0.10046461969614029,
          -0.10046461969614029,
          -0.03885071724653244,
          -0.07849031686782837,
          0.2153904139995575,
          -0.07939959317445755,
          -0.100644052028656,
          0.0017553895013406873,
          -0.032441116869449615,
          -0.04733152315020561
         ],
         "z": [
          -0.09668935090303421,
          -0.0008961295243352652,
          0.08259512484073639,
          0.004835489671677351,
          -0.16980460286140442,
          -0.07818008959293365,
          0.011143882758915424,
          -0.03649221360683441,
          -0.005995741114020348,
          -0.009322846308350563,
          0.10298608243465424,
          0.10406095534563065,
          -0.10140497982501984,
          -0.05960177630186081,
          0.08116462826728821,
          0.06436587870121002,
          -0.03480595350265503,
          0.03979736566543579,
          0.023136213421821594,
          0.05637829750776291,
          0.08667001128196716,
          -0.024913260713219643,
          -0.0654272809624672,
          -0.24050535261631012,
          0.04361554980278015,
          -0.025302836671471596,
          -0.07589513063430786,
          -0.015373507514595985,
          -0.04045971482992172,
          0.1706867516040802,
          -0.0790930688381195,
          0.018326450139284134,
          -0.019788481295108795,
          -0.007208328228443861,
          0.06977780163288116,
          -0.09818045049905777,
          0.028873996809124947,
          -0.02240205928683281,
          -0.04197467491030693,
          -0.0837630033493042,
          0.07549409568309784,
          -0.11172425001859665,
          0.04375230893492699,
          0.122965008020401,
          0.15251989662647247,
          0.04727732762694359,
          0.046310536563396454,
          -0.1513526439666748,
          0.0892886072397232,
          0.14081315696239471,
          -0.014321708120405674,
          0.07960942387580872,
          0.02282361499965191,
          -0.0002804951509460807,
          -0.00796926487237215,
          0.02355910837650299,
          0.13665278255939484,
          0.15132996439933777,
          0.0074968496337533,
          0.3953896760940552,
          -0.1488284468650818,
          0.05642455071210861,
          -0.03386002033948898,
          0.05529755726456642,
          0.06287268549203873,
          0.02559281513094902,
          0.12434205412864685,
          -0.04282189533114433,
          -0.07006921619176865,
          0.14416785538196564,
          -0.023832814767956734,
          0.06712412089109421,
          -0.021364551037549973,
          -0.026651794090867043,
          -0.05452914535999298,
          0.09803593158721924,
          0.1281457543373108,
          0.09213738143444061,
          -0.06219921633601189,
          0.056206271052360535,
          -0.16925105452537537,
          0.10809917747974396,
          -0.08093810826539993,
          -0.1644267588853836,
          0.16932721436023712,
          0.020485086366534233,
          -0.14408698678016663,
          0.04741279408335686,
          0.026492441073060036,
          -0.07966093719005585,
          -0.07008577138185501,
          -0.012480814009904861,
          0.0005276747397147119,
          -0.08386772871017456,
          -0.08175686001777649,
          0.06298790872097015,
          -0.021514935418963432,
          0.03400881588459015,
          -0.02964981645345688,
          0.04266434907913208,
          -0.09456568956375122,
          -0.0634082704782486,
          -0.04480772465467453,
          0.06161036342382431,
          -0.031269460916519165,
          0.0614859014749527,
          0.19269773364067078,
          0.015126490034162998,
          0.12086854875087738,
          -0.06500718742609024,
          0.04281764477491379,
          -0.02152528055012226,
          -0.12050828337669373,
          -0.03727452829480171,
          -0.04717206954956055,
          -0.04717206954956055,
          0.1989794224500656,
          0.03678278997540474,
          -0.004368827678263187,
          0.08894922584295273,
          0.06196120008826256,
          -0.06187571957707405,
          0.04757171496748924,
          0.15373580157756805
         ]
        },
        {
         "hovertemplate": "label=bad<br>pca_comments_0=%{x}<br>pca_comments_1=%{y}<br>pca_comments_2=%{z}<extra></extra>",
         "legendgroup": "bad",
         "marker": {
          "color": "#ab63fa",
          "opacity": 0.5,
          "size": 2,
          "symbol": "circle"
         },
         "mode": "markers",
         "name": "bad",
         "scene": "scene",
         "showlegend": true,
         "type": "scatter3d",
         "x": [
          0.14785994589328766,
          0.14016900956630707,
          0.10452407598495483,
          0.3003557324409485,
          0.25354480743408203,
          0.3163311183452606,
          -0.14034004509449005,
          0.15252931416034698,
          0.32879313826560974,
          0.10736506432294846,
          0.3640071153640747,
          0.31413909792900085,
          0.2830718457698822,
          -0.02247750572860241,
          0.22486895322799683,
          0.22282947599887848,
          0.1377003788948059,
          0.18289801478385925,
          0.19251175224781036,
          0.258262038230896,
          0.41422367095947266,
          0.26307910680770874,
          0.2532537579536438,
          0.19571715593338013,
          0.23687349259853363,
          0.30949273705482483,
          0.16813604533672333,
          -0.2476051300764084,
          0.2415006160736084,
          0.04380025714635849,
          0.2106097936630249,
          0.22913485765457153,
          -0.12662389874458313,
          0.30618810653686523,
          -0.003432737896218896,
          0.3525278568267822,
          0.23798520863056183,
          0.40202364325523376,
          0.24923479557037354,
          0.2833854854106903,
          0.30135244131088257,
          0.27811333537101746,
          0.20700110495090485,
          0.39901459217071533,
          0.1775556057691574,
          -0.023646177724003792,
          -0.03541009500622749,
          0.309483140707016,
          0.3847525119781494,
          0.11628172546625137,
          0.16449829936027527,
          0.266044020652771,
          0.2845411002635956,
          0.3201465606689453,
          0.15989314019680023,
          0.0691453218460083,
          0.2660801410675049,
          0.27972328662872314,
          0.2837808430194855,
          -0.025632042437791824,
          0.3976705074310303,
          0.337719589471817,
          0.20308300852775574,
          0.25418296456336975,
          0.1652761548757553,
          0.12263311445713043,
          0.39041081070899963,
          0.06136094033718109,
          0.3975585401058197,
          0.30600908398628235,
          0.2792380452156067,
          0.36237338185310364,
          0.16088362038135529,
          0.2612227499485016,
          0.13135629892349243,
          0.1754450798034668,
          0.3333582282066345,
          0.1823413372039795,
          0.25431933999061584,
          0.21481837332248688
         ],
         "y": [
          -0.01816627010703087,
          0.04566352814435959,
          -0.17680640518665314,
          -0.027040399610996246,
          -0.15211477875709534,
          -0.06840962916612625,
          -0.2974255084991455,
          0.07218062877655029,
          -0.006725179962813854,
          -0.15953269600868225,
          0.12970195710659027,
          -0.0659373328089714,
          0.03465612977743149,
          -0.24099263548851013,
          0.05383899435400963,
          -0.06949033588171005,
          0.14158311486244202,
          -0.04823412746191025,
          0.13813357055187225,
          0.12084607779979706,
          0.10754376649856567,
          0.13078831136226654,
          -0.025271661579608917,
          -0.04282691329717636,
          0.09205593168735504,
          0.0846923366189003,
          -0.009228434413671494,
          0.22969120740890503,
          0.15440379083156586,
          0.06859782338142395,
          -0.12383531033992767,
          -0.04941524192690849,
          0.030508719384670258,
          -0.04631505906581879,
          0.10305558890104294,
          0.05337239429354668,
          0.06995341181755066,
          0.10787630081176758,
          0.02400697022676468,
          0.021140214055776596,
          -0.16952522099018097,
          0.06988812983036041,
          0.0969889909029007,
          0.0953403115272522,
          -0.009930635802447796,
          -0.04664192348718643,
          0.03215998783707619,
          -0.03340095281600952,
          -0.00851724948734045,
          -0.06311605125665665,
          0.09824269264936447,
          -0.07246475666761398,
          0.02289222925901413,
          0.04356418922543526,
          -0.06382071226835251,
          0.10450877249240875,
          0.02586592733860016,
          0.03076903708279133,
          0.0009372624335810542,
          -0.05239224061369896,
          -0.08536364138126373,
          -0.1540336012840271,
          -0.44794973731040955,
          0.024093426764011383,
          -0.05358326807618141,
          -0.07786412537097931,
          0.06325524300336838,
          0.1300939917564392,
          0.05073028802871704,
          0.11554434895515442,
          -0.04723462089896202,
          0.22746412456035614,
          0.020635047927498817,
          0.10614857077598572,
          0.03895249962806702,
          -0.10245425999164581,
          0.09878985583782196,
          0.12342455238103867,
          -0.1486920416355133,
          0.005142114125192165
         ],
         "z": [
          -0.028845807537436485,
          -0.019259370863437653,
          0.05046150088310242,
          0.02439812943339348,
          0.0905318558216095,
          0.07982319593429565,
          -0.0425541065633297,
          -0.04882723465561867,
          0.05906926468014717,
          0.10788379609584808,
          -0.1579272598028183,
          -0.036189790815114975,
          -0.09625998884439468,
          -0.018341602757573128,
          0.0026735917199403048,
          -0.024724123999476433,
          -0.015954172238707542,
          -0.07331465929746628,
          0.01728196255862713,
          -0.19567734003067017,
          0.0031651374883949757,
          -0.19623713195323944,
          -0.10164913535118103,
          0.03349865972995758,
          -0.03454582393169403,
          -0.08829605579376221,
          -0.09778032451868057,
          0.20027756690979004,
          -0.21141186356544495,
          -0.012004341930150986,
          0.025464316830039024,
          -0.15399068593978882,
          0.014733131043612957,
          -0.022105755284428596,
          -0.012029048055410385,
          -0.012721892446279526,
          0.06355185806751251,
          -0.005009072367101908,
          0.051533136516809464,
          0.10709702968597412,
          -0.03503062203526497,
          0.007021697703748941,
          0.06293898075819016,
          0.05936974659562111,
          -0.04088076204061508,
          0.0285243708640337,
          -0.24097836017608643,
          0.09853421896696091,
          0.04315369576215744,
          0.2694277763366699,
          -0.18979671597480774,
          0.023240987211465836,
          0.016203485429286957,
          0.01531578041613102,
          0.05864005908370018,
          -0.022803522646427155,
          -0.044383108615875244,
          -0.041832197457551956,
          -0.15575747191905975,
          -0.24723030626773834,
          -0.10864247381687164,
          0.022111162543296814,
          0.18929974734783173,
          -0.015437296591699123,
          0.01961188204586506,
          -0.0780874565243721,
          -0.0742800310254097,
          -0.13071218132972717,
          -0.08863885700702667,
          0.04922212287783623,
          0.04486500844359398,
          0.03173874691128731,
          -0.09000732004642487,
          -0.12687000632286072,
          0.18870145082473755,
          0.14066296815872192,
          -0.1825893223285675,
          -0.03033810667693615,
          0.14050094783306122,
          -0.1988939344882965
         ]
        }
       ],
       "layout": {
        "legend": {
         "title": {
          "text": "label"
         },
         "tracegroupgap": 0
        },
        "margin": {
         "t": 60
        },
        "scene": {
         "domain": {
          "x": [
           0,
           1
          ],
          "y": [
           0,
           1
          ]
         },
         "xaxis": {
          "title": {
           "text": "pca_comments_0"
          }
         },
         "yaxis": {
          "title": {
           "text": "pca_comments_1"
          }
         },
         "zaxis": {
          "title": {
           "text": "pca_comments_2"
          }
         }
        },
        "template": {
         "data": {
          "bar": [
           {
            "error_x": {
             "color": "#2a3f5f"
            },
            "error_y": {
             "color": "#2a3f5f"
            },
            "marker": {
             "line": {
              "color": "#E5ECF6",
              "width": 0.5
             },
             "pattern": {
              "fillmode": "overlay",
              "size": 10,
              "solidity": 0.2
             }
            },
            "type": "bar"
           }
          ],
          "barpolar": [
           {
            "marker": {
             "line": {
              "color": "#E5ECF6",
              "width": 0.5
             },
             "pattern": {
              "fillmode": "overlay",
              "size": 10,
              "solidity": 0.2
             }
            },
            "type": "barpolar"
           }
          ],
          "carpet": [
           {
            "aaxis": {
             "endlinecolor": "#2a3f5f",
             "gridcolor": "white",
             "linecolor": "white",
             "minorgridcolor": "white",
             "startlinecolor": "#2a3f5f"
            },
            "baxis": {
             "endlinecolor": "#2a3f5f",
             "gridcolor": "white",
             "linecolor": "white",
             "minorgridcolor": "white",
             "startlinecolor": "#2a3f5f"
            },
            "type": "carpet"
           }
          ],
          "choropleth": [
           {
            "colorbar": {
             "outlinewidth": 0,
             "ticks": ""
            },
            "type": "choropleth"
           }
          ],
          "contour": [
           {
            "colorbar": {
             "outlinewidth": 0,
             "ticks": ""
            },
            "colorscale": [
             [
              0,
              "#0d0887"
             ],
             [
              0.1111111111111111,
              "#46039f"
             ],
             [
              0.2222222222222222,
              "#7201a8"
             ],
             [
              0.3333333333333333,
              "#9c179e"
             ],
             [
              0.4444444444444444,
              "#bd3786"
             ],
             [
              0.5555555555555556,
              "#d8576b"
             ],
             [
              0.6666666666666666,
              "#ed7953"
             ],
             [
              0.7777777777777778,
              "#fb9f3a"
             ],
             [
              0.8888888888888888,
              "#fdca26"
             ],
             [
              1,
              "#f0f921"
             ]
            ],
            "type": "contour"
           }
          ],
          "contourcarpet": [
           {
            "colorbar": {
             "outlinewidth": 0,
             "ticks": ""
            },
            "type": "contourcarpet"
           }
          ],
          "heatmap": [
           {
            "colorbar": {
             "outlinewidth": 0,
             "ticks": ""
            },
            "colorscale": [
             [
              0,
              "#0d0887"
             ],
             [
              0.1111111111111111,
              "#46039f"
             ],
             [
              0.2222222222222222,
              "#7201a8"
             ],
             [
              0.3333333333333333,
              "#9c179e"
             ],
             [
              0.4444444444444444,
              "#bd3786"
             ],
             [
              0.5555555555555556,
              "#d8576b"
             ],
             [
              0.6666666666666666,
              "#ed7953"
             ],
             [
              0.7777777777777778,
              "#fb9f3a"
             ],
             [
              0.8888888888888888,
              "#fdca26"
             ],
             [
              1,
              "#f0f921"
             ]
            ],
            "type": "heatmap"
           }
          ],
          "heatmapgl": [
           {
            "colorbar": {
             "outlinewidth": 0,
             "ticks": ""
            },
            "colorscale": [
             [
              0,
              "#0d0887"
             ],
             [
              0.1111111111111111,
              "#46039f"
             ],
             [
              0.2222222222222222,
              "#7201a8"
             ],
             [
              0.3333333333333333,
              "#9c179e"
             ],
             [
              0.4444444444444444,
              "#bd3786"
             ],
             [
              0.5555555555555556,
              "#d8576b"
             ],
             [
              0.6666666666666666,
              "#ed7953"
             ],
             [
              0.7777777777777778,
              "#fb9f3a"
             ],
             [
              0.8888888888888888,
              "#fdca26"
             ],
             [
              1,
              "#f0f921"
             ]
            ],
            "type": "heatmapgl"
           }
          ],
          "histogram": [
           {
            "marker": {
             "pattern": {
              "fillmode": "overlay",
              "size": 10,
              "solidity": 0.2
             }
            },
            "type": "histogram"
           }
          ],
          "histogram2d": [
           {
            "colorbar": {
             "outlinewidth": 0,
             "ticks": ""
            },
            "colorscale": [
             [
              0,
              "#0d0887"
             ],
             [
              0.1111111111111111,
              "#46039f"
             ],
             [
              0.2222222222222222,
              "#7201a8"
             ],
             [
              0.3333333333333333,
              "#9c179e"
             ],
             [
              0.4444444444444444,
              "#bd3786"
             ],
             [
              0.5555555555555556,
              "#d8576b"
             ],
             [
              0.6666666666666666,
              "#ed7953"
             ],
             [
              0.7777777777777778,
              "#fb9f3a"
             ],
             [
              0.8888888888888888,
              "#fdca26"
             ],
             [
              1,
              "#f0f921"
             ]
            ],
            "type": "histogram2d"
           }
          ],
          "histogram2dcontour": [
           {
            "colorbar": {
             "outlinewidth": 0,
             "ticks": ""
            },
            "colorscale": [
             [
              0,
              "#0d0887"
             ],
             [
              0.1111111111111111,
              "#46039f"
             ],
             [
              0.2222222222222222,
              "#7201a8"
             ],
             [
              0.3333333333333333,
              "#9c179e"
             ],
             [
              0.4444444444444444,
              "#bd3786"
             ],
             [
              0.5555555555555556,
              "#d8576b"
             ],
             [
              0.6666666666666666,
              "#ed7953"
             ],
             [
              0.7777777777777778,
              "#fb9f3a"
             ],
             [
              0.8888888888888888,
              "#fdca26"
             ],
             [
              1,
              "#f0f921"
             ]
            ],
            "type": "histogram2dcontour"
           }
          ],
          "mesh3d": [
           {
            "colorbar": {
             "outlinewidth": 0,
             "ticks": ""
            },
            "type": "mesh3d"
           }
          ],
          "parcoords": [
           {
            "line": {
             "colorbar": {
              "outlinewidth": 0,
              "ticks": ""
             }
            },
            "type": "parcoords"
           }
          ],
          "pie": [
           {
            "automargin": true,
            "type": "pie"
           }
          ],
          "scatter": [
           {
            "fillpattern": {
             "fillmode": "overlay",
             "size": 10,
             "solidity": 0.2
            },
            "type": "scatter"
           }
          ],
          "scatter3d": [
           {
            "line": {
             "colorbar": {
              "outlinewidth": 0,
              "ticks": ""
             }
            },
            "marker": {
             "colorbar": {
              "outlinewidth": 0,
              "ticks": ""
             }
            },
            "type": "scatter3d"
           }
          ],
          "scattercarpet": [
           {
            "marker": {
             "colorbar": {
              "outlinewidth": 0,
              "ticks": ""
             }
            },
            "type": "scattercarpet"
           }
          ],
          "scattergeo": [
           {
            "marker": {
             "colorbar": {
              "outlinewidth": 0,
              "ticks": ""
             }
            },
            "type": "scattergeo"
           }
          ],
          "scattergl": [
           {
            "marker": {
             "colorbar": {
              "outlinewidth": 0,
              "ticks": ""
             }
            },
            "type": "scattergl"
           }
          ],
          "scattermapbox": [
           {
            "marker": {
             "colorbar": {
              "outlinewidth": 0,
              "ticks": ""
             }
            },
            "type": "scattermapbox"
           }
          ],
          "scatterpolar": [
           {
            "marker": {
             "colorbar": {
              "outlinewidth": 0,
              "ticks": ""
             }
            },
            "type": "scatterpolar"
           }
          ],
          "scatterpolargl": [
           {
            "marker": {
             "colorbar": {
              "outlinewidth": 0,
              "ticks": ""
             }
            },
            "type": "scatterpolargl"
           }
          ],
          "scatterternary": [
           {
            "marker": {
             "colorbar": {
              "outlinewidth": 0,
              "ticks": ""
             }
            },
            "type": "scatterternary"
           }
          ],
          "surface": [
           {
            "colorbar": {
             "outlinewidth": 0,
             "ticks": ""
            },
            "colorscale": [
             [
              0,
              "#0d0887"
             ],
             [
              0.1111111111111111,
              "#46039f"
             ],
             [
              0.2222222222222222,
              "#7201a8"
             ],
             [
              0.3333333333333333,
              "#9c179e"
             ],
             [
              0.4444444444444444,
              "#bd3786"
             ],
             [
              0.5555555555555556,
              "#d8576b"
             ],
             [
              0.6666666666666666,
              "#ed7953"
             ],
             [
              0.7777777777777778,
              "#fb9f3a"
             ],
             [
              0.8888888888888888,
              "#fdca26"
             ],
             [
              1,
              "#f0f921"
             ]
            ],
            "type": "surface"
           }
          ],
          "table": [
           {
            "cells": {
             "fill": {
              "color": "#EBF0F8"
             },
             "line": {
              "color": "white"
             }
            },
            "header": {
             "fill": {
              "color": "#C8D4E3"
             },
             "line": {
              "color": "white"
             }
            },
            "type": "table"
           }
          ]
         },
         "layout": {
          "annotationdefaults": {
           "arrowcolor": "#2a3f5f",
           "arrowhead": 0,
           "arrowwidth": 1
          },
          "autotypenumbers": "strict",
          "coloraxis": {
           "colorbar": {
            "outlinewidth": 0,
            "ticks": ""
           }
          },
          "colorscale": {
           "diverging": [
            [
             0,
             "#8e0152"
            ],
            [
             0.1,
             "#c51b7d"
            ],
            [
             0.2,
             "#de77ae"
            ],
            [
             0.3,
             "#f1b6da"
            ],
            [
             0.4,
             "#fde0ef"
            ],
            [
             0.5,
             "#f7f7f7"
            ],
            [
             0.6,
             "#e6f5d0"
            ],
            [
             0.7,
             "#b8e186"
            ],
            [
             0.8,
             "#7fbc41"
            ],
            [
             0.9,
             "#4d9221"
            ],
            [
             1,
             "#276419"
            ]
           ],
           "sequential": [
            [
             0,
             "#0d0887"
            ],
            [
             0.1111111111111111,
             "#46039f"
            ],
            [
             0.2222222222222222,
             "#7201a8"
            ],
            [
             0.3333333333333333,
             "#9c179e"
            ],
            [
             0.4444444444444444,
             "#bd3786"
            ],
            [
             0.5555555555555556,
             "#d8576b"
            ],
            [
             0.6666666666666666,
             "#ed7953"
            ],
            [
             0.7777777777777778,
             "#fb9f3a"
            ],
            [
             0.8888888888888888,
             "#fdca26"
            ],
            [
             1,
             "#f0f921"
            ]
           ],
           "sequentialminus": [
            [
             0,
             "#0d0887"
            ],
            [
             0.1111111111111111,
             "#46039f"
            ],
            [
             0.2222222222222222,
             "#7201a8"
            ],
            [
             0.3333333333333333,
             "#9c179e"
            ],
            [
             0.4444444444444444,
             "#bd3786"
            ],
            [
             0.5555555555555556,
             "#d8576b"
            ],
            [
             0.6666666666666666,
             "#ed7953"
            ],
            [
             0.7777777777777778,
             "#fb9f3a"
            ],
            [
             0.8888888888888888,
             "#fdca26"
            ],
            [
             1,
             "#f0f921"
            ]
           ]
          },
          "colorway": [
           "#636efa",
           "#EF553B",
           "#00cc96",
           "#ab63fa",
           "#FFA15A",
           "#19d3f3",
           "#FF6692",
           "#B6E880",
           "#FF97FF",
           "#FECB52"
          ],
          "font": {
           "color": "#2a3f5f"
          },
          "geo": {
           "bgcolor": "white",
           "lakecolor": "white",
           "landcolor": "#E5ECF6",
           "showlakes": true,
           "showland": true,
           "subunitcolor": "white"
          },
          "hoverlabel": {
           "align": "left"
          },
          "hovermode": "closest",
          "mapbox": {
           "style": "light"
          },
          "paper_bgcolor": "white",
          "plot_bgcolor": "#E5ECF6",
          "polar": {
           "angularaxis": {
            "gridcolor": "white",
            "linecolor": "white",
            "ticks": ""
           },
           "bgcolor": "#E5ECF6",
           "radialaxis": {
            "gridcolor": "white",
            "linecolor": "white",
            "ticks": ""
           }
          },
          "scene": {
           "xaxis": {
            "backgroundcolor": "#E5ECF6",
            "gridcolor": "white",
            "gridwidth": 2,
            "linecolor": "white",
            "showbackground": true,
            "ticks": "",
            "zerolinecolor": "white"
           },
           "yaxis": {
            "backgroundcolor": "#E5ECF6",
            "gridcolor": "white",
            "gridwidth": 2,
            "linecolor": "white",
            "showbackground": true,
            "ticks": "",
            "zerolinecolor": "white"
           },
           "zaxis": {
            "backgroundcolor": "#E5ECF6",
            "gridcolor": "white",
            "gridwidth": 2,
            "linecolor": "white",
            "showbackground": true,
            "ticks": "",
            "zerolinecolor": "white"
           }
          },
          "shapedefaults": {
           "line": {
            "color": "#2a3f5f"
           }
          },
          "ternary": {
           "aaxis": {
            "gridcolor": "white",
            "linecolor": "white",
            "ticks": ""
           },
           "baxis": {
            "gridcolor": "white",
            "linecolor": "white",
            "ticks": ""
           },
           "bgcolor": "#E5ECF6",
           "caxis": {
            "gridcolor": "white",
            "linecolor": "white",
            "ticks": ""
           }
          },
          "title": {
           "x": 0.05
          },
          "xaxis": {
           "automargin": true,
           "gridcolor": "white",
           "linecolor": "white",
           "ticks": "",
           "title": {
            "standoff": 15
           },
           "zerolinecolor": "white",
           "zerolinewidth": 2
          },
          "yaxis": {
           "automargin": true,
           "gridcolor": "white",
           "linecolor": "white",
           "ticks": "",
           "title": {
            "standoff": 15
           },
           "zerolinecolor": "white",
           "zerolinewidth": 2
          }
         }
        }
       }
      }
     },
     "metadata": {},
     "output_type": "display_data"
    }
   ],
   "source": [
    "pca_vectors = pd.DataFrame()\n",
    "pca_vectors, _, _ = embeddings_features(pca_vectors, pca_n_components=3, col=\"comments\")\n",
    "\n",
    "# add label from df.label\n",
    "pca_vectors[\"label\"] = df.label\n",
    "\n",
    "# use plotly to plot the PCA vectors\n",
    "import plotly.express as px\n",
    "\n",
    "fig = px.scatter_3d(pca_vectors, x=\"pca_comments_0\", y=\"pca_comments_1\", z=\"pca_comments_2\", color=\"label\")\n",
    "\n",
    "# make point smaller and opaque\n",
    "fig.update_traces(marker=dict(size=2, opacity=0.5))\n",
    "\n",
    "fig.show()"
   ]
  },
  {
   "attachments": {},
   "cell_type": "markdown",
   "metadata": {},
   "source": [
    "# Generate Features"
   ]
  },
  {
   "attachments": {},
   "cell_type": "markdown",
   "metadata": {},
   "source": [
    "With what we know, let's generate some features. I've provided a function for each type of feature, so we can mix and match."
   ]
  },
  {
   "cell_type": "code",
   "execution_count": 16,
   "metadata": {},
   "outputs": [
    {
     "name": "stdout",
     "output_type": "stream",
     "text": [
      "Creating model...\n",
      "Generating embeddings...\n",
      "Performing PCA...\n",
      "Creating model...\n",
      "Generating embeddings...\n",
      "Performing PCA...\n",
      "Features above correlation threshold (0.09):\n",
      "['3gram09_would_not_recommend', '3gram09_no_toilet_paper', '3gram09_not_recommend_staying', '3gram09_write_negative_review', '3gram09_sleep_bedroom_door', '3gram09_specifically_asked_not', '3gram09_told_cleaning_lady', '3gram09_let_start_saying', '3gram09_staying_another_unit', '3gram09_felt_compelled_write', '3gram09_living_room_couch', '3gram09_property_management_company', '3gram09_phone_call_text', '3gram09_need_major_overhaul', '3gram09_time_opened_door', '3gram09_not_clean_arrived', '3gram09_big_issue_u', '3gram09_burned_light_bulb', '3gram09_very_bad_shape', '3gram09_never_responded_message', '3gram09_worse_experience_ever', '3gram09_not_feel_comfortable', '3gram09_shower_curtain_covered', '3gram09_could_not_access', '3gram09_place_sleep_10', '3gram09_never_met_host', '3gram09_take_cold_shower', '3gram09_old_not_well', '3gram09_got_no_response', '3gram09_freezer_not_work', '3gram09_toilet_paper_buy', '3gram09_not_really_clean', '3gram09_expected_based_description', '3gram09_need_deep_cleaning', '3gram09_got_no_answer', '3gram09_guest_not_able', '3gram09_start_good_thing', '3gram09_spend_lot_time', '3gram09_very_old_not', '3gram09_per_night_not', '3gram09_obviously_not_cleaned', '3gram09_call_text_message']\n",
      "Features above correlation threshold (0.1):\n",
      "['3gram10_would_not_recommend', '3gram10_no_toilet_paper']\n",
      "Adding amenities features...\n",
      "Features above correlation threshold (0.05):\n",
      "['lockbox', 'dishwasher', 'pool', 'keypad', 'tv', 'stove', 'bathtub', 'balcony', 'shampoo', 'garden', 'cat', 'family', 'breakfast']\n",
      "Adding amenities features...\n",
      "(1546, 97)\n"
     ]
    },
    {
     "data": {
      "text/html": [
       "<div>\n",
       "<style scoped>\n",
       "    .dataframe tbody tr th:only-of-type {\n",
       "        vertical-align: middle;\n",
       "    }\n",
       "\n",
       "    .dataframe tbody tr th {\n",
       "        vertical-align: top;\n",
       "    }\n",
       "\n",
       "    .dataframe thead th {\n",
       "        text-align: right;\n",
       "    }\n",
       "</style>\n",
       "<table border=\"1\" class=\"dataframe\">\n",
       "  <thead>\n",
       "    <tr style=\"text-align: right;\">\n",
       "      <th></th>\n",
       "      <th>pca_comments_0</th>\n",
       "      <th>pca_comments_1</th>\n",
       "      <th>pca_comments_2</th>\n",
       "      <th>pca_description_0</th>\n",
       "      <th>pca_description_1</th>\n",
       "      <th>pca_description_2</th>\n",
       "      <th>3gram09_would_not_recommend</th>\n",
       "      <th>3gram09_no_toilet_paper</th>\n",
       "      <th>3gram09_not_recommend_staying</th>\n",
       "      <th>3gram09_write_negative_review</th>\n",
       "      <th>...</th>\n",
       "      <th>amenityall_bathtub</th>\n",
       "      <th>amenityall_lockbox</th>\n",
       "      <th>amenityall_crib</th>\n",
       "      <th>amenityall_elevator</th>\n",
       "      <th>amenityall_gym</th>\n",
       "      <th>amenityall_oven</th>\n",
       "      <th>amenityall_waterfront</th>\n",
       "      <th>amenityall_toilet</th>\n",
       "      <th>review_id</th>\n",
       "      <th>label</th>\n",
       "    </tr>\n",
       "  </thead>\n",
       "  <tbody>\n",
       "    <tr>\n",
       "      <th>0</th>\n",
       "      <td>-0.054448</td>\n",
       "      <td>-0.088134</td>\n",
       "      <td>-0.023753</td>\n",
       "      <td>0.222688</td>\n",
       "      <td>-0.220573</td>\n",
       "      <td>0.155973</td>\n",
       "      <td>0</td>\n",
       "      <td>0</td>\n",
       "      <td>0</td>\n",
       "      <td>0</td>\n",
       "      <td>...</td>\n",
       "      <td>0.0</td>\n",
       "      <td>0.0</td>\n",
       "      <td>0.0</td>\n",
       "      <td>0.0</td>\n",
       "      <td>0.0</td>\n",
       "      <td>0.0</td>\n",
       "      <td>0.0</td>\n",
       "      <td>0.0</td>\n",
       "      <td>83097</td>\n",
       "      <td>good</td>\n",
       "    </tr>\n",
       "    <tr>\n",
       "      <th>1</th>\n",
       "      <td>-0.145413</td>\n",
       "      <td>0.213364</td>\n",
       "      <td>-0.030841</td>\n",
       "      <td>0.222688</td>\n",
       "      <td>-0.220573</td>\n",
       "      <td>0.155973</td>\n",
       "      <td>0</td>\n",
       "      <td>0</td>\n",
       "      <td>0</td>\n",
       "      <td>0</td>\n",
       "      <td>...</td>\n",
       "      <td>0.0</td>\n",
       "      <td>0.0</td>\n",
       "      <td>0.0</td>\n",
       "      <td>0.0</td>\n",
       "      <td>0.0</td>\n",
       "      <td>0.0</td>\n",
       "      <td>0.0</td>\n",
       "      <td>0.0</td>\n",
       "      <td>133337</td>\n",
       "      <td>good</td>\n",
       "    </tr>\n",
       "    <tr>\n",
       "      <th>2</th>\n",
       "      <td>0.001356</td>\n",
       "      <td>-0.114448</td>\n",
       "      <td>0.075398</td>\n",
       "      <td>0.222688</td>\n",
       "      <td>-0.220573</td>\n",
       "      <td>0.155973</td>\n",
       "      <td>0</td>\n",
       "      <td>0</td>\n",
       "      <td>0</td>\n",
       "      <td>0</td>\n",
       "      <td>...</td>\n",
       "      <td>0.0</td>\n",
       "      <td>0.0</td>\n",
       "      <td>0.0</td>\n",
       "      <td>0.0</td>\n",
       "      <td>0.0</td>\n",
       "      <td>0.0</td>\n",
       "      <td>0.0</td>\n",
       "      <td>0.0</td>\n",
       "      <td>150928</td>\n",
       "      <td>good</td>\n",
       "    </tr>\n",
       "    <tr>\n",
       "      <th>3</th>\n",
       "      <td>-0.248564</td>\n",
       "      <td>-0.142601</td>\n",
       "      <td>0.024358</td>\n",
       "      <td>0.222688</td>\n",
       "      <td>-0.220573</td>\n",
       "      <td>0.155973</td>\n",
       "      <td>0</td>\n",
       "      <td>0</td>\n",
       "      <td>0</td>\n",
       "      <td>0</td>\n",
       "      <td>...</td>\n",
       "      <td>0.0</td>\n",
       "      <td>0.0</td>\n",
       "      <td>0.0</td>\n",
       "      <td>0.0</td>\n",
       "      <td>0.0</td>\n",
       "      <td>0.0</td>\n",
       "      <td>0.0</td>\n",
       "      <td>0.0</td>\n",
       "      <td>2706775</td>\n",
       "      <td>good</td>\n",
       "    </tr>\n",
       "    <tr>\n",
       "      <th>4</th>\n",
       "      <td>0.039454</td>\n",
       "      <td>-0.030109</td>\n",
       "      <td>0.011850</td>\n",
       "      <td>0.222688</td>\n",
       "      <td>-0.220573</td>\n",
       "      <td>0.155973</td>\n",
       "      <td>0</td>\n",
       "      <td>0</td>\n",
       "      <td>0</td>\n",
       "      <td>0</td>\n",
       "      <td>...</td>\n",
       "      <td>0.0</td>\n",
       "      <td>0.0</td>\n",
       "      <td>0.0</td>\n",
       "      <td>0.0</td>\n",
       "      <td>0.0</td>\n",
       "      <td>0.0</td>\n",
       "      <td>0.0</td>\n",
       "      <td>0.0</td>\n",
       "      <td>8602878</td>\n",
       "      <td>good</td>\n",
       "    </tr>\n",
       "  </tbody>\n",
       "</table>\n",
       "<p>5 rows × 97 columns</p>\n",
       "</div>"
      ],
      "text/plain": [
       "   pca_comments_0  pca_comments_1  pca_comments_2  pca_description_0  \\\n",
       "0       -0.054448       -0.088134       -0.023753           0.222688   \n",
       "1       -0.145413        0.213364       -0.030841           0.222688   \n",
       "2        0.001356       -0.114448        0.075398           0.222688   \n",
       "3       -0.248564       -0.142601        0.024358           0.222688   \n",
       "4        0.039454       -0.030109        0.011850           0.222688   \n",
       "\n",
       "   pca_description_1  pca_description_2  3gram09_would_not_recommend  \\\n",
       "0          -0.220573           0.155973                            0   \n",
       "1          -0.220573           0.155973                            0   \n",
       "2          -0.220573           0.155973                            0   \n",
       "3          -0.220573           0.155973                            0   \n",
       "4          -0.220573           0.155973                            0   \n",
       "\n",
       "   3gram09_no_toilet_paper  3gram09_not_recommend_staying  \\\n",
       "0                        0                              0   \n",
       "1                        0                              0   \n",
       "2                        0                              0   \n",
       "3                        0                              0   \n",
       "4                        0                              0   \n",
       "\n",
       "   3gram09_write_negative_review  ...  amenityall_bathtub  amenityall_lockbox  \\\n",
       "0                              0  ...                 0.0                 0.0   \n",
       "1                              0  ...                 0.0                 0.0   \n",
       "2                              0  ...                 0.0                 0.0   \n",
       "3                              0  ...                 0.0                 0.0   \n",
       "4                              0  ...                 0.0                 0.0   \n",
       "\n",
       "   amenityall_crib  amenityall_elevator  amenityall_gym  amenityall_oven  \\\n",
       "0              0.0                  0.0             0.0              0.0   \n",
       "1              0.0                  0.0             0.0              0.0   \n",
       "2              0.0                  0.0             0.0              0.0   \n",
       "3              0.0                  0.0             0.0              0.0   \n",
       "4              0.0                  0.0             0.0              0.0   \n",
       "\n",
       "   amenityall_waterfront  amenityall_toilet  review_id  label  \n",
       "0                    0.0                0.0      83097   good  \n",
       "1                    0.0                0.0     133337   good  \n",
       "2                    0.0                0.0     150928   good  \n",
       "3                    0.0                0.0    2706775   good  \n",
       "4                    0.0                0.0    8602878   good  \n",
       "\n",
       "[5 rows x 97 columns]"
      ]
     },
     "execution_count": 16,
     "metadata": {},
     "output_type": "execute_result"
    }
   ],
   "source": [
    "features = pd.DataFrame()\n",
    "\n",
    "# get the embeddings\n",
    "embeddings_comments, w2vmodel_comments, pca_comments = embeddings_features(features, col=\"comments\", emb_vector_size=300, pca_n_components=3)\n",
    "embeddings_description, w2vmodel_description, pca_description = embeddings_features(features, col=\"description\", emb_vector_size=300, pca_n_components=3)\n",
    "features = pd.concat([features, embeddings_comments, embeddings_description], axis=1)\n",
    "\n",
    "# for some reason there are duplicate columns after this. Remove them.\n",
    "features = features.loc[:,~features.columns.duplicated()].copy()\n",
    "\n",
    "# get 3-grams with 0.09  and 0.1 correlation thresholds\n",
    "features = ngrams_features(features, n=3, corr_thresh=0.09, prefix=\"3gram09_\")\n",
    "features = ngrams_features(features, n=3, corr_thresh=0.1, prefix=\"3gram10_\")\n",
    "\n",
    "# get the amenities\n",
    "features = amenities_features(features, corr_thresh=0.05, prefix=\"amenity005_\")\n",
    "features = amenities_features(features, corr_thresh=None, prefix=\"amenityall_\")\n",
    "\n",
    "# fill missing values with 0\n",
    "features = features.fillna(0)\n",
    "\n",
    "features[\"review_id\"] = df.review_id\n",
    "features[\"label\"] = df.label\n",
    "\n",
    "print(features.shape)\n",
    "\n",
    "features.head()"
   ]
  },
  {
   "attachments": {},
   "cell_type": "markdown",
   "metadata": {},
   "source": [
    "## Save the features"
   ]
  },
  {
   "attachments": {},
   "cell_type": "markdown",
   "metadata": {},
   "source": [
    "Here we will save the features to a csv. We will also save the trained word2vec and pca models, so we can use it later."
   ]
  },
  {
   "cell_type": "code",
   "execution_count": 17,
   "metadata": {},
   "outputs": [],
   "source": [
    "if isinstance(GEO, list):\n",
    "    geo_display_name = \"_\".join(GEO)\n",
    "else:\n",
    "    geo_display_name = GEO\n",
    "\n",
    "features.to_csv(f\"../../data/features/features_{geo_display_name}_pca.csv\", index=False)"
   ]
  },
  {
   "cell_type": "code",
   "execution_count": 19,
   "metadata": {},
   "outputs": [],
   "source": [
    "import pickle\n",
    "\n",
    "# save the models\n",
    "with open(f\"../../models/feature_models_{geo_display_name}_pca.pickle\", \"wb\") as f:\n",
    "    pickle.dump(\n",
    "        {\n",
    "            \"w2vmodel_comments\": w2vmodel_comments,\n",
    "            \"w2vmodel_description\": w2vmodel_description,\n",
    "            \"pca_comments\": pca_comments,\n",
    "            \"pca_description\": pca_description\n",
    "        },\n",
    "        f\n",
    "    )"
   ]
  },
  {
   "cell_type": "code",
   "execution_count": null,
   "metadata": {},
   "outputs": [],
   "source": []
  }
 ],
 "metadata": {
  "kernelspec": {
   "display_name": "venv",
   "language": "python",
   "name": "python3"
  },
  "language_info": {
   "codemirror_mode": {
    "name": "ipython",
    "version": 3
   },
   "file_extension": ".py",
   "mimetype": "text/x-python",
   "name": "python",
   "nbconvert_exporter": "python",
   "pygments_lexer": "ipython3",
   "version": "3.10.4"
  },
  "orig_nbformat": 4,
  "vscode": {
   "interpreter": {
    "hash": "cf086def782804284d24881115c612afdcc8ea791299ba67855f0c7f1a9ccc5a"
   }
  }
 },
 "nbformat": 4,
 "nbformat_minor": 2
}
