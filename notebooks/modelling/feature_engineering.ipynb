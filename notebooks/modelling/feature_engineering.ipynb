{
 "cells": [
  {
   "attachments": {},
   "cell_type": "markdown",
   "metadata": {},
   "source": [
    "## Feature Engineering on the processed dataset"
   ]
  },
  {
   "cell_type": "code",
   "execution_count": 1,
   "metadata": {},
   "outputs": [],
   "source": [
    "import pandas as pd\n",
    "import numpy as np\n",
    "import matplotlib.pyplot as plt\n",
    "import plotly.express as px"
   ]
  },
  {
   "cell_type": "code",
   "execution_count": 2,
   "metadata": {},
   "outputs": [
    {
     "name": "stdout",
     "output_type": "stream",
     "text": [
      "(1629, 9)\n"
     ]
    },
    {
     "data": {
      "text/html": [
       "<div>\n",
       "<style scoped>\n",
       "    .dataframe tbody tr th:only-of-type {\n",
       "        vertical-align: middle;\n",
       "    }\n",
       "\n",
       "    .dataframe tbody tr th {\n",
       "        vertical-align: top;\n",
       "    }\n",
       "\n",
       "    .dataframe thead th {\n",
       "        text-align: right;\n",
       "    }\n",
       "</style>\n",
       "<table border=\"1\" class=\"dataframe\">\n",
       "  <thead>\n",
       "    <tr style=\"text-align: right;\">\n",
       "      <th></th>\n",
       "      <th>review_id</th>\n",
       "      <th>listing_id</th>\n",
       "      <th>description</th>\n",
       "      <th>comments</th>\n",
       "      <th>sentiment</th>\n",
       "      <th>label</th>\n",
       "      <th>name</th>\n",
       "      <th>amenities</th>\n",
       "      <th>source</th>\n",
       "    </tr>\n",
       "  </thead>\n",
       "  <tbody>\n",
       "    <tr>\n",
       "      <th>0</th>\n",
       "      <td>83097</td>\n",
       "      <td>5456</td>\n",
       "      <td>[fabulous, location, walking, convention, cent...</td>\n",
       "      <td>[sylvia, very, nice, informal, relaxed, arrive...</td>\n",
       "      <td>4.333333</td>\n",
       "      <td>good</td>\n",
       "      <td>['walk', '6th', 'rainey', 'st', 'convention', ...</td>\n",
       "      <td>[TV, Wifi, Air conditioning, Kitchen, Pets liv...</td>\n",
       "      <td>texas</td>\n",
       "    </tr>\n",
       "    <tr>\n",
       "      <th>1</th>\n",
       "      <td>133337</td>\n",
       "      <td>5456</td>\n",
       "      <td>[fabulous, location, walking, convention, cent...</td>\n",
       "      <td>[sylvia, picked, airport, gave, beautiful, eve...</td>\n",
       "      <td>4.000000</td>\n",
       "      <td>good</td>\n",
       "      <td>['walk', '6th', 'rainey', 'st', 'convention', ...</td>\n",
       "      <td>[TV, Wifi, Air conditioning, Kitchen, Pets liv...</td>\n",
       "      <td>texas</td>\n",
       "    </tr>\n",
       "    <tr>\n",
       "      <th>2</th>\n",
       "      <td>150928</td>\n",
       "      <td>5456</td>\n",
       "      <td>[fabulous, location, walking, convention, cent...</td>\n",
       "      <td>[lovely, time, enjoyed, apartment, clean, spac...</td>\n",
       "      <td>3.000000</td>\n",
       "      <td>good</td>\n",
       "      <td>['walk', '6th', 'rainey', 'st', 'convention', ...</td>\n",
       "      <td>[TV, Wifi, Air conditioning, Kitchen, Pets liv...</td>\n",
       "      <td>texas</td>\n",
       "    </tr>\n",
       "    <tr>\n",
       "      <th>3</th>\n",
       "      <td>2706775</td>\n",
       "      <td>5456</td>\n",
       "      <td>[fabulous, location, walking, convention, cent...</td>\n",
       "      <td>[sylvia, excellent, host, stayed, touch, made,...</td>\n",
       "      <td>4.500000</td>\n",
       "      <td>good</td>\n",
       "      <td>['walk', '6th', 'rainey', 'st', 'convention', ...</td>\n",
       "      <td>[TV, Wifi, Air conditioning, Kitchen, Pets liv...</td>\n",
       "      <td>texas</td>\n",
       "    </tr>\n",
       "    <tr>\n",
       "      <th>4</th>\n",
       "      <td>8602878</td>\n",
       "      <td>5456</td>\n",
       "      <td>[fabulous, location, walking, convention, cent...</td>\n",
       "      <td>[place, cute, little, self, contained, cottage...</td>\n",
       "      <td>4.000000</td>\n",
       "      <td>good</td>\n",
       "      <td>['walk', '6th', 'rainey', 'st', 'convention', ...</td>\n",
       "      <td>[TV, Wifi, Air conditioning, Kitchen, Pets liv...</td>\n",
       "      <td>texas</td>\n",
       "    </tr>\n",
       "  </tbody>\n",
       "</table>\n",
       "</div>"
      ],
      "text/plain": [
       "   review_id  listing_id                                        description  \\\n",
       "0      83097        5456  [fabulous, location, walking, convention, cent...   \n",
       "1     133337        5456  [fabulous, location, walking, convention, cent...   \n",
       "2     150928        5456  [fabulous, location, walking, convention, cent...   \n",
       "3    2706775        5456  [fabulous, location, walking, convention, cent...   \n",
       "4    8602878        5456  [fabulous, location, walking, convention, cent...   \n",
       "\n",
       "                                            comments  sentiment label  \\\n",
       "0  [sylvia, very, nice, informal, relaxed, arrive...   4.333333  good   \n",
       "1  [sylvia, picked, airport, gave, beautiful, eve...   4.000000  good   \n",
       "2  [lovely, time, enjoyed, apartment, clean, spac...   3.000000  good   \n",
       "3  [sylvia, excellent, host, stayed, touch, made,...   4.500000  good   \n",
       "4  [place, cute, little, self, contained, cottage...   4.000000  good   \n",
       "\n",
       "                                                name  \\\n",
       "0  ['walk', '6th', 'rainey', 'st', 'convention', ...   \n",
       "1  ['walk', '6th', 'rainey', 'st', 'convention', ...   \n",
       "2  ['walk', '6th', 'rainey', 'st', 'convention', ...   \n",
       "3  ['walk', '6th', 'rainey', 'st', 'convention', ...   \n",
       "4  ['walk', '6th', 'rainey', 'st', 'convention', ...   \n",
       "\n",
       "                                           amenities source  \n",
       "0  [TV, Wifi, Air conditioning, Kitchen, Pets liv...  texas  \n",
       "1  [TV, Wifi, Air conditioning, Kitchen, Pets liv...  texas  \n",
       "2  [TV, Wifi, Air conditioning, Kitchen, Pets liv...  texas  \n",
       "3  [TV, Wifi, Air conditioning, Kitchen, Pets liv...  texas  \n",
       "4  [TV, Wifi, Air conditioning, Kitchen, Pets liv...  texas  "
      ]
     },
     "execution_count": 2,
     "metadata": {},
     "output_type": "execute_result"
    }
   ],
   "source": [
    "# Read in the data\n",
    "GEO = [\"texas\", \"florida\"]\n",
    "\n",
    "if isinstance(GEO, str):\n",
    "    df = pd.read_csv(f\"../../data/processed/{GEO}_processed.csv\")\n",
    "elif isinstance(GEO, list):\n",
    "    dfs = []\n",
    "    for geo in GEO:\n",
    "        df = pd.read_csv(f\"../../data/processed/{geo}_processed.csv\")\n",
    "        df[\"source\"] = geo\n",
    "        dfs.append(df)\n",
    "    df = pd.concat(dfs)\n",
    "\n",
    "# eval list columns\n",
    "df.description = df.description.apply(lambda x: eval(x))\n",
    "df.comments = df.comments.apply(lambda x: eval(x))\n",
    "df.amenities = df.amenities.apply(lambda x: eval(x))\n",
    "\n",
    "df.reset_index(drop=True, inplace=True)\n",
    "\n",
    "print(df.shape)\n",
    "df.head()"
   ]
  },
  {
   "attachments": {},
   "cell_type": "markdown",
   "metadata": {},
   "source": [
    "### Distribution of labels"
   ]
  },
  {
   "attachments": {},
   "cell_type": "markdown",
   "metadata": {},
   "source": [
    "First, let's look at the distribution of labels in the processed dataset."
   ]
  },
  {
   "cell_type": "code",
   "execution_count": 3,
   "metadata": {},
   "outputs": [
    {
     "name": "stdout",
     "output_type": "stream",
     "text": [
      "mbad: 7.24%, mgood: 6.45%, mbad or mgood: 13.69%\n"
     ]
    },
    {
     "data": {
      "application/vnd.plotly.v1+json": {
       "config": {
        "plotlyServerURL": "https://plot.ly"
       },
       "data": [
        {
         "alignmentgroup": "True",
         "hovertemplate": "Label=%{x}<br>Count=%{y}<extra></extra>",
         "legendgroup": "",
         "marker": {
          "color": "#636efa",
          "pattern": {
           "shape": ""
          }
         },
         "name": "",
         "offsetgroup": "",
         "orientation": "v",
         "showlegend": false,
         "textposition": "auto",
         "type": "bar",
         "x": [
          "good",
          "mbad",
          "mgood",
          "bad"
         ],
         "xaxis": "x",
         "y": [
          1320,
          118,
          105,
          84
         ],
         "yaxis": "y"
        }
       ],
       "layout": {
        "barmode": "relative",
        "legend": {
         "tracegroupgap": 0
        },
        "template": {
         "data": {
          "bar": [
           {
            "error_x": {
             "color": "#2a3f5f"
            },
            "error_y": {
             "color": "#2a3f5f"
            },
            "marker": {
             "line": {
              "color": "#E5ECF6",
              "width": 0.5
             },
             "pattern": {
              "fillmode": "overlay",
              "size": 10,
              "solidity": 0.2
             }
            },
            "type": "bar"
           }
          ],
          "barpolar": [
           {
            "marker": {
             "line": {
              "color": "#E5ECF6",
              "width": 0.5
             },
             "pattern": {
              "fillmode": "overlay",
              "size": 10,
              "solidity": 0.2
             }
            },
            "type": "barpolar"
           }
          ],
          "carpet": [
           {
            "aaxis": {
             "endlinecolor": "#2a3f5f",
             "gridcolor": "white",
             "linecolor": "white",
             "minorgridcolor": "white",
             "startlinecolor": "#2a3f5f"
            },
            "baxis": {
             "endlinecolor": "#2a3f5f",
             "gridcolor": "white",
             "linecolor": "white",
             "minorgridcolor": "white",
             "startlinecolor": "#2a3f5f"
            },
            "type": "carpet"
           }
          ],
          "choropleth": [
           {
            "colorbar": {
             "outlinewidth": 0,
             "ticks": ""
            },
            "type": "choropleth"
           }
          ],
          "contour": [
           {
            "colorbar": {
             "outlinewidth": 0,
             "ticks": ""
            },
            "colorscale": [
             [
              0,
              "#0d0887"
             ],
             [
              0.1111111111111111,
              "#46039f"
             ],
             [
              0.2222222222222222,
              "#7201a8"
             ],
             [
              0.3333333333333333,
              "#9c179e"
             ],
             [
              0.4444444444444444,
              "#bd3786"
             ],
             [
              0.5555555555555556,
              "#d8576b"
             ],
             [
              0.6666666666666666,
              "#ed7953"
             ],
             [
              0.7777777777777778,
              "#fb9f3a"
             ],
             [
              0.8888888888888888,
              "#fdca26"
             ],
             [
              1,
              "#f0f921"
             ]
            ],
            "type": "contour"
           }
          ],
          "contourcarpet": [
           {
            "colorbar": {
             "outlinewidth": 0,
             "ticks": ""
            },
            "type": "contourcarpet"
           }
          ],
          "heatmap": [
           {
            "colorbar": {
             "outlinewidth": 0,
             "ticks": ""
            },
            "colorscale": [
             [
              0,
              "#0d0887"
             ],
             [
              0.1111111111111111,
              "#46039f"
             ],
             [
              0.2222222222222222,
              "#7201a8"
             ],
             [
              0.3333333333333333,
              "#9c179e"
             ],
             [
              0.4444444444444444,
              "#bd3786"
             ],
             [
              0.5555555555555556,
              "#d8576b"
             ],
             [
              0.6666666666666666,
              "#ed7953"
             ],
             [
              0.7777777777777778,
              "#fb9f3a"
             ],
             [
              0.8888888888888888,
              "#fdca26"
             ],
             [
              1,
              "#f0f921"
             ]
            ],
            "type": "heatmap"
           }
          ],
          "heatmapgl": [
           {
            "colorbar": {
             "outlinewidth": 0,
             "ticks": ""
            },
            "colorscale": [
             [
              0,
              "#0d0887"
             ],
             [
              0.1111111111111111,
              "#46039f"
             ],
             [
              0.2222222222222222,
              "#7201a8"
             ],
             [
              0.3333333333333333,
              "#9c179e"
             ],
             [
              0.4444444444444444,
              "#bd3786"
             ],
             [
              0.5555555555555556,
              "#d8576b"
             ],
             [
              0.6666666666666666,
              "#ed7953"
             ],
             [
              0.7777777777777778,
              "#fb9f3a"
             ],
             [
              0.8888888888888888,
              "#fdca26"
             ],
             [
              1,
              "#f0f921"
             ]
            ],
            "type": "heatmapgl"
           }
          ],
          "histogram": [
           {
            "marker": {
             "pattern": {
              "fillmode": "overlay",
              "size": 10,
              "solidity": 0.2
             }
            },
            "type": "histogram"
           }
          ],
          "histogram2d": [
           {
            "colorbar": {
             "outlinewidth": 0,
             "ticks": ""
            },
            "colorscale": [
             [
              0,
              "#0d0887"
             ],
             [
              0.1111111111111111,
              "#46039f"
             ],
             [
              0.2222222222222222,
              "#7201a8"
             ],
             [
              0.3333333333333333,
              "#9c179e"
             ],
             [
              0.4444444444444444,
              "#bd3786"
             ],
             [
              0.5555555555555556,
              "#d8576b"
             ],
             [
              0.6666666666666666,
              "#ed7953"
             ],
             [
              0.7777777777777778,
              "#fb9f3a"
             ],
             [
              0.8888888888888888,
              "#fdca26"
             ],
             [
              1,
              "#f0f921"
             ]
            ],
            "type": "histogram2d"
           }
          ],
          "histogram2dcontour": [
           {
            "colorbar": {
             "outlinewidth": 0,
             "ticks": ""
            },
            "colorscale": [
             [
              0,
              "#0d0887"
             ],
             [
              0.1111111111111111,
              "#46039f"
             ],
             [
              0.2222222222222222,
              "#7201a8"
             ],
             [
              0.3333333333333333,
              "#9c179e"
             ],
             [
              0.4444444444444444,
              "#bd3786"
             ],
             [
              0.5555555555555556,
              "#d8576b"
             ],
             [
              0.6666666666666666,
              "#ed7953"
             ],
             [
              0.7777777777777778,
              "#fb9f3a"
             ],
             [
              0.8888888888888888,
              "#fdca26"
             ],
             [
              1,
              "#f0f921"
             ]
            ],
            "type": "histogram2dcontour"
           }
          ],
          "mesh3d": [
           {
            "colorbar": {
             "outlinewidth": 0,
             "ticks": ""
            },
            "type": "mesh3d"
           }
          ],
          "parcoords": [
           {
            "line": {
             "colorbar": {
              "outlinewidth": 0,
              "ticks": ""
             }
            },
            "type": "parcoords"
           }
          ],
          "pie": [
           {
            "automargin": true,
            "type": "pie"
           }
          ],
          "scatter": [
           {
            "fillpattern": {
             "fillmode": "overlay",
             "size": 10,
             "solidity": 0.2
            },
            "type": "scatter"
           }
          ],
          "scatter3d": [
           {
            "line": {
             "colorbar": {
              "outlinewidth": 0,
              "ticks": ""
             }
            },
            "marker": {
             "colorbar": {
              "outlinewidth": 0,
              "ticks": ""
             }
            },
            "type": "scatter3d"
           }
          ],
          "scattercarpet": [
           {
            "marker": {
             "colorbar": {
              "outlinewidth": 0,
              "ticks": ""
             }
            },
            "type": "scattercarpet"
           }
          ],
          "scattergeo": [
           {
            "marker": {
             "colorbar": {
              "outlinewidth": 0,
              "ticks": ""
             }
            },
            "type": "scattergeo"
           }
          ],
          "scattergl": [
           {
            "marker": {
             "colorbar": {
              "outlinewidth": 0,
              "ticks": ""
             }
            },
            "type": "scattergl"
           }
          ],
          "scattermapbox": [
           {
            "marker": {
             "colorbar": {
              "outlinewidth": 0,
              "ticks": ""
             }
            },
            "type": "scattermapbox"
           }
          ],
          "scatterpolar": [
           {
            "marker": {
             "colorbar": {
              "outlinewidth": 0,
              "ticks": ""
             }
            },
            "type": "scatterpolar"
           }
          ],
          "scatterpolargl": [
           {
            "marker": {
             "colorbar": {
              "outlinewidth": 0,
              "ticks": ""
             }
            },
            "type": "scatterpolargl"
           }
          ],
          "scatterternary": [
           {
            "marker": {
             "colorbar": {
              "outlinewidth": 0,
              "ticks": ""
             }
            },
            "type": "scatterternary"
           }
          ],
          "surface": [
           {
            "colorbar": {
             "outlinewidth": 0,
             "ticks": ""
            },
            "colorscale": [
             [
              0,
              "#0d0887"
             ],
             [
              0.1111111111111111,
              "#46039f"
             ],
             [
              0.2222222222222222,
              "#7201a8"
             ],
             [
              0.3333333333333333,
              "#9c179e"
             ],
             [
              0.4444444444444444,
              "#bd3786"
             ],
             [
              0.5555555555555556,
              "#d8576b"
             ],
             [
              0.6666666666666666,
              "#ed7953"
             ],
             [
              0.7777777777777778,
              "#fb9f3a"
             ],
             [
              0.8888888888888888,
              "#fdca26"
             ],
             [
              1,
              "#f0f921"
             ]
            ],
            "type": "surface"
           }
          ],
          "table": [
           {
            "cells": {
             "fill": {
              "color": "#EBF0F8"
             },
             "line": {
              "color": "white"
             }
            },
            "header": {
             "fill": {
              "color": "#C8D4E3"
             },
             "line": {
              "color": "white"
             }
            },
            "type": "table"
           }
          ]
         },
         "layout": {
          "annotationdefaults": {
           "arrowcolor": "#2a3f5f",
           "arrowhead": 0,
           "arrowwidth": 1
          },
          "autotypenumbers": "strict",
          "coloraxis": {
           "colorbar": {
            "outlinewidth": 0,
            "ticks": ""
           }
          },
          "colorscale": {
           "diverging": [
            [
             0,
             "#8e0152"
            ],
            [
             0.1,
             "#c51b7d"
            ],
            [
             0.2,
             "#de77ae"
            ],
            [
             0.3,
             "#f1b6da"
            ],
            [
             0.4,
             "#fde0ef"
            ],
            [
             0.5,
             "#f7f7f7"
            ],
            [
             0.6,
             "#e6f5d0"
            ],
            [
             0.7,
             "#b8e186"
            ],
            [
             0.8,
             "#7fbc41"
            ],
            [
             0.9,
             "#4d9221"
            ],
            [
             1,
             "#276419"
            ]
           ],
           "sequential": [
            [
             0,
             "#0d0887"
            ],
            [
             0.1111111111111111,
             "#46039f"
            ],
            [
             0.2222222222222222,
             "#7201a8"
            ],
            [
             0.3333333333333333,
             "#9c179e"
            ],
            [
             0.4444444444444444,
             "#bd3786"
            ],
            [
             0.5555555555555556,
             "#d8576b"
            ],
            [
             0.6666666666666666,
             "#ed7953"
            ],
            [
             0.7777777777777778,
             "#fb9f3a"
            ],
            [
             0.8888888888888888,
             "#fdca26"
            ],
            [
             1,
             "#f0f921"
            ]
           ],
           "sequentialminus": [
            [
             0,
             "#0d0887"
            ],
            [
             0.1111111111111111,
             "#46039f"
            ],
            [
             0.2222222222222222,
             "#7201a8"
            ],
            [
             0.3333333333333333,
             "#9c179e"
            ],
            [
             0.4444444444444444,
             "#bd3786"
            ],
            [
             0.5555555555555556,
             "#d8576b"
            ],
            [
             0.6666666666666666,
             "#ed7953"
            ],
            [
             0.7777777777777778,
             "#fb9f3a"
            ],
            [
             0.8888888888888888,
             "#fdca26"
            ],
            [
             1,
             "#f0f921"
            ]
           ]
          },
          "colorway": [
           "#636efa",
           "#EF553B",
           "#00cc96",
           "#ab63fa",
           "#FFA15A",
           "#19d3f3",
           "#FF6692",
           "#B6E880",
           "#FF97FF",
           "#FECB52"
          ],
          "font": {
           "color": "#2a3f5f"
          },
          "geo": {
           "bgcolor": "white",
           "lakecolor": "white",
           "landcolor": "#E5ECF6",
           "showlakes": true,
           "showland": true,
           "subunitcolor": "white"
          },
          "hoverlabel": {
           "align": "left"
          },
          "hovermode": "closest",
          "mapbox": {
           "style": "light"
          },
          "paper_bgcolor": "white",
          "plot_bgcolor": "#E5ECF6",
          "polar": {
           "angularaxis": {
            "gridcolor": "white",
            "linecolor": "white",
            "ticks": ""
           },
           "bgcolor": "#E5ECF6",
           "radialaxis": {
            "gridcolor": "white",
            "linecolor": "white",
            "ticks": ""
           }
          },
          "scene": {
           "xaxis": {
            "backgroundcolor": "#E5ECF6",
            "gridcolor": "white",
            "gridwidth": 2,
            "linecolor": "white",
            "showbackground": true,
            "ticks": "",
            "zerolinecolor": "white"
           },
           "yaxis": {
            "backgroundcolor": "#E5ECF6",
            "gridcolor": "white",
            "gridwidth": 2,
            "linecolor": "white",
            "showbackground": true,
            "ticks": "",
            "zerolinecolor": "white"
           },
           "zaxis": {
            "backgroundcolor": "#E5ECF6",
            "gridcolor": "white",
            "gridwidth": 2,
            "linecolor": "white",
            "showbackground": true,
            "ticks": "",
            "zerolinecolor": "white"
           }
          },
          "shapedefaults": {
           "line": {
            "color": "#2a3f5f"
           }
          },
          "ternary": {
           "aaxis": {
            "gridcolor": "white",
            "linecolor": "white",
            "ticks": ""
           },
           "baxis": {
            "gridcolor": "white",
            "linecolor": "white",
            "ticks": ""
           },
           "bgcolor": "#E5ECF6",
           "caxis": {
            "gridcolor": "white",
            "linecolor": "white",
            "ticks": ""
           }
          },
          "title": {
           "x": 0.05
          },
          "xaxis": {
           "automargin": true,
           "gridcolor": "white",
           "linecolor": "white",
           "ticks": "",
           "title": {
            "standoff": 15
           },
           "zerolinecolor": "white",
           "zerolinewidth": 2
          },
          "yaxis": {
           "automargin": true,
           "gridcolor": "white",
           "linecolor": "white",
           "ticks": "",
           "title": {
            "standoff": 15
           },
           "zerolinecolor": "white",
           "zerolinewidth": 2
          }
         }
        },
        "title": {
         "text": "Distribution of labels (GEO=['texas', 'florida'])"
        },
        "xaxis": {
         "anchor": "y",
         "domain": [
          0,
          1
         ],
         "title": {
          "text": "Label"
         }
        },
        "yaxis": {
         "anchor": "x",
         "domain": [
          0,
          1
         ],
         "title": {
          "text": "Count"
         }
        }
       }
      }
     },
     "metadata": {},
     "output_type": "display_data"
    }
   ],
   "source": [
    "mbad_pcnt = df[df.label == \"mbad\"].shape[0] / df.shape[0]\n",
    "mgood_pcnt = df[df.label == \"mgood\"].shape[0] / df.shape[0]\n",
    "mbad_or_mgood_pcnt = df[df.label.isin([\"mbad\", \"mgood\"])].shape[0] / df.shape[0]\n",
    "print(\n",
    "    f\"mbad: {mbad_pcnt:.2%}, mgood: {mgood_pcnt:.2%}, mbad or mgood: {mbad_or_mgood_pcnt:.2%}\"\n",
    ")\n",
    "\n",
    "bar_vals = df.label.value_counts()\n",
    "\n",
    "fig = px.bar(\n",
    "    bar_vals,\n",
    "    x=bar_vals.index,\n",
    "    y=bar_vals.values,\n",
    "    title=f\"Distribution of labels (GEO={GEO})\",\n",
    "    labels={\"index\": \"Label\", \"y\": \"Count\"}\n",
    ")\n",
    "\n",
    "fig.show()"
   ]
  },
  {
   "attachments": {},
   "cell_type": "markdown",
   "metadata": {},
   "source": [
    "## Correlation filter helper function\n",
    "This function allows us to filter down to only include highly correlated features with the label."
   ]
  },
  {
   "cell_type": "code",
   "execution_count": 4,
   "metadata": {},
   "outputs": [],
   "source": [
    "def corr_filter(features, corr_thresh=0.05) -> pd.DataFrame:\n",
    "    \"\"\"Filter features based on correlation with label.\"\"\"\n",
    "\n",
    "    if corr_thresh is None:\n",
    "        return features\n",
    "\n",
    "    to_filter = features.copy()\n",
    "    \n",
    "    to_filter[\"review_id\"] = df.review_id\n",
    "    to_filter[\"label\"] = df.label\n",
    "\n",
    "    # drop na labels. Thanks Charlie :/\n",
    "    to_filter = to_filter.dropna(subset=[\"label\"])\n",
    "\n",
    "    # Turn labels into numbers\n",
    "    labels_list: list = to_filter.label.unique().tolist()\n",
    "    to_filter.label = to_filter.label.apply(lambda label: labels_list.index(label))\n",
    "\n",
    "    # calculate correlation of features with label\n",
    "    features_to_filter = to_filter.drop([\"review_id\", \"label\"], axis=1)\n",
    "    corrs = features_to_filter.corrwith(to_filter.label).sort_values(ascending=False)\n",
    "\n",
    "    # filter features\n",
    "    highly_correlated_features = corrs[corrs.abs() > corr_thresh].index\n",
    "    # drop features with nan correlation\n",
    "    highly_correlated_features = highly_correlated_features.dropna()\n",
    "\n",
    "    # filter features\n",
    "    print(f\"Features above correlation threshold ({corr_thresh}):\")\n",
    "    print(highly_correlated_features.tolist())\n",
    "    filtered = features[highly_correlated_features]\n",
    "    \n",
    "    return filtered"
   ]
  },
  {
   "attachments": {},
   "cell_type": "markdown",
   "metadata": {},
   "source": [
    "### Ngrams"
   ]
  },
  {
   "attachments": {},
   "cell_type": "markdown",
   "metadata": {},
   "source": [
    "What are the most common ngrams for the different types of reviews? What are the most common overlaps?"
   ]
  },
  {
   "cell_type": "code",
   "execution_count": 5,
   "metadata": {},
   "outputs": [],
   "source": [
    "def get_consecutive_ngrams(review, n) -> list:\n",
    "    \"\"\"Helper function to get ngrams from a review.\n",
    "\n",
    "    Args:\n",
    "        review (str): The review to get ngrams from.\n",
    "        n (int): The number of ngrams to get.\n",
    "\n",
    "    Returns:\n",
    "        list: the list of ngrams, joined by underscores.\n",
    "    \"\"\"\n",
    "    if isinstance(review, str):\n",
    "        review = review.split(\"\")\n",
    "\n",
    "    return [\"_\".join(review[i:i+n]) for i in range(len(review)-n-1)]\n",
    "\n",
    "def series_to_ngrams(series: pd.Series, N):\n",
    "    n_grams = series.apply(lambda x: get_consecutive_ngrams(x, N))\n",
    "    return n_grams.explode()\n",
    "\n",
    "def get_exclusive_sizes(good: set, bad: set, mgood: set, mbad: set) -> dict:\n",
    "    \"\"\"Get the sizes of the exclusive sets\"\"\"\n",
    "\n",
    "    only_good = good - bad - mgood - mbad\n",
    "    only_bad = bad - good - mgood - mbad\n",
    "    only_mgood = mgood - good - bad - mbad\n",
    "    only_mbad = mbad - good - bad - mgood\n",
    "    \n",
    "    return {\n",
    "        \"good\": len(only_good),\n",
    "        \"bad\": len(only_bad),\n",
    "        \"mgood\": len(only_mgood),\n",
    "        \"mbad\": len(only_mbad)\n",
    "    }"
   ]
  },
  {
   "attachments": {},
   "cell_type": "markdown",
   "metadata": {},
   "source": [
    "We can look at the number of unique values to each label for different values of N on a line chart."
   ]
  },
  {
   "cell_type": "code",
   "execution_count": 6,
   "metadata": {},
   "outputs": [
    {
     "data": {
      "application/vnd.plotly.v1+json": {
       "config": {
        "plotlyServerURL": "https://plot.ly"
       },
       "data": [
        {
         "hovertemplate": "label=bad<br>N-gram size=%{x}<br>Unique # of n-grams=%{y}<extra></extra>",
         "legendgroup": "bad",
         "line": {
          "color": "#636efa",
          "dash": "solid"
         },
         "marker": {
          "symbol": "circle"
         },
         "mode": "markers+lines",
         "name": "bad",
         "orientation": "v",
         "showlegend": true,
         "type": "scatter",
         "x": [
          1,
          2,
          3,
          4,
          5,
          6
         ],
         "xaxis": "x",
         "y": [
          424,
          6408,
          8778,
          8924,
          8851,
          8768
         ],
         "yaxis": "y"
        },
        {
         "hovertemplate": "label=mgood<br>N-gram size=%{x}<br>Unique # of n-grams=%{y}<extra></extra>",
         "legendgroup": "mgood",
         "line": {
          "color": "#EF553B",
          "dash": "solid"
         },
         "marker": {
          "symbol": "circle"
         },
         "mode": "markers+lines",
         "name": "mgood",
         "orientation": "v",
         "showlegend": true,
         "type": "scatter",
         "x": [
          1,
          2,
          3,
          4,
          5,
          6
         ],
         "xaxis": "x",
         "y": [
          232,
          4589,
          6853,
          7102,
          7049,
          6952
         ],
         "yaxis": "y"
        },
        {
         "hovertemplate": "label=mbad<br>N-gram size=%{x}<br>Unique # of n-grams=%{y}<extra></extra>",
         "legendgroup": "mbad",
         "line": {
          "color": "#00cc96",
          "dash": "solid"
         },
         "marker": {
          "symbol": "circle"
         },
         "mode": "markers+lines",
         "name": "mbad",
         "orientation": "v",
         "showlegend": true,
         "type": "scatter",
         "x": [
          1,
          2,
          3,
          4,
          5,
          6
         ],
         "xaxis": "x",
         "y": [
          576,
          8616,
          11961,
          12217,
          12121,
          12005
         ],
         "yaxis": "y"
        }
       ],
       "layout": {
        "legend": {
         "title": {
          "text": "label"
         },
         "tracegroupgap": 0
        },
        "template": {
         "data": {
          "bar": [
           {
            "error_x": {
             "color": "#2a3f5f"
            },
            "error_y": {
             "color": "#2a3f5f"
            },
            "marker": {
             "line": {
              "color": "#E5ECF6",
              "width": 0.5
             },
             "pattern": {
              "fillmode": "overlay",
              "size": 10,
              "solidity": 0.2
             }
            },
            "type": "bar"
           }
          ],
          "barpolar": [
           {
            "marker": {
             "line": {
              "color": "#E5ECF6",
              "width": 0.5
             },
             "pattern": {
              "fillmode": "overlay",
              "size": 10,
              "solidity": 0.2
             }
            },
            "type": "barpolar"
           }
          ],
          "carpet": [
           {
            "aaxis": {
             "endlinecolor": "#2a3f5f",
             "gridcolor": "white",
             "linecolor": "white",
             "minorgridcolor": "white",
             "startlinecolor": "#2a3f5f"
            },
            "baxis": {
             "endlinecolor": "#2a3f5f",
             "gridcolor": "white",
             "linecolor": "white",
             "minorgridcolor": "white",
             "startlinecolor": "#2a3f5f"
            },
            "type": "carpet"
           }
          ],
          "choropleth": [
           {
            "colorbar": {
             "outlinewidth": 0,
             "ticks": ""
            },
            "type": "choropleth"
           }
          ],
          "contour": [
           {
            "colorbar": {
             "outlinewidth": 0,
             "ticks": ""
            },
            "colorscale": [
             [
              0,
              "#0d0887"
             ],
             [
              0.1111111111111111,
              "#46039f"
             ],
             [
              0.2222222222222222,
              "#7201a8"
             ],
             [
              0.3333333333333333,
              "#9c179e"
             ],
             [
              0.4444444444444444,
              "#bd3786"
             ],
             [
              0.5555555555555556,
              "#d8576b"
             ],
             [
              0.6666666666666666,
              "#ed7953"
             ],
             [
              0.7777777777777778,
              "#fb9f3a"
             ],
             [
              0.8888888888888888,
              "#fdca26"
             ],
             [
              1,
              "#f0f921"
             ]
            ],
            "type": "contour"
           }
          ],
          "contourcarpet": [
           {
            "colorbar": {
             "outlinewidth": 0,
             "ticks": ""
            },
            "type": "contourcarpet"
           }
          ],
          "heatmap": [
           {
            "colorbar": {
             "outlinewidth": 0,
             "ticks": ""
            },
            "colorscale": [
             [
              0,
              "#0d0887"
             ],
             [
              0.1111111111111111,
              "#46039f"
             ],
             [
              0.2222222222222222,
              "#7201a8"
             ],
             [
              0.3333333333333333,
              "#9c179e"
             ],
             [
              0.4444444444444444,
              "#bd3786"
             ],
             [
              0.5555555555555556,
              "#d8576b"
             ],
             [
              0.6666666666666666,
              "#ed7953"
             ],
             [
              0.7777777777777778,
              "#fb9f3a"
             ],
             [
              0.8888888888888888,
              "#fdca26"
             ],
             [
              1,
              "#f0f921"
             ]
            ],
            "type": "heatmap"
           }
          ],
          "heatmapgl": [
           {
            "colorbar": {
             "outlinewidth": 0,
             "ticks": ""
            },
            "colorscale": [
             [
              0,
              "#0d0887"
             ],
             [
              0.1111111111111111,
              "#46039f"
             ],
             [
              0.2222222222222222,
              "#7201a8"
             ],
             [
              0.3333333333333333,
              "#9c179e"
             ],
             [
              0.4444444444444444,
              "#bd3786"
             ],
             [
              0.5555555555555556,
              "#d8576b"
             ],
             [
              0.6666666666666666,
              "#ed7953"
             ],
             [
              0.7777777777777778,
              "#fb9f3a"
             ],
             [
              0.8888888888888888,
              "#fdca26"
             ],
             [
              1,
              "#f0f921"
             ]
            ],
            "type": "heatmapgl"
           }
          ],
          "histogram": [
           {
            "marker": {
             "pattern": {
              "fillmode": "overlay",
              "size": 10,
              "solidity": 0.2
             }
            },
            "type": "histogram"
           }
          ],
          "histogram2d": [
           {
            "colorbar": {
             "outlinewidth": 0,
             "ticks": ""
            },
            "colorscale": [
             [
              0,
              "#0d0887"
             ],
             [
              0.1111111111111111,
              "#46039f"
             ],
             [
              0.2222222222222222,
              "#7201a8"
             ],
             [
              0.3333333333333333,
              "#9c179e"
             ],
             [
              0.4444444444444444,
              "#bd3786"
             ],
             [
              0.5555555555555556,
              "#d8576b"
             ],
             [
              0.6666666666666666,
              "#ed7953"
             ],
             [
              0.7777777777777778,
              "#fb9f3a"
             ],
             [
              0.8888888888888888,
              "#fdca26"
             ],
             [
              1,
              "#f0f921"
             ]
            ],
            "type": "histogram2d"
           }
          ],
          "histogram2dcontour": [
           {
            "colorbar": {
             "outlinewidth": 0,
             "ticks": ""
            },
            "colorscale": [
             [
              0,
              "#0d0887"
             ],
             [
              0.1111111111111111,
              "#46039f"
             ],
             [
              0.2222222222222222,
              "#7201a8"
             ],
             [
              0.3333333333333333,
              "#9c179e"
             ],
             [
              0.4444444444444444,
              "#bd3786"
             ],
             [
              0.5555555555555556,
              "#d8576b"
             ],
             [
              0.6666666666666666,
              "#ed7953"
             ],
             [
              0.7777777777777778,
              "#fb9f3a"
             ],
             [
              0.8888888888888888,
              "#fdca26"
             ],
             [
              1,
              "#f0f921"
             ]
            ],
            "type": "histogram2dcontour"
           }
          ],
          "mesh3d": [
           {
            "colorbar": {
             "outlinewidth": 0,
             "ticks": ""
            },
            "type": "mesh3d"
           }
          ],
          "parcoords": [
           {
            "line": {
             "colorbar": {
              "outlinewidth": 0,
              "ticks": ""
             }
            },
            "type": "parcoords"
           }
          ],
          "pie": [
           {
            "automargin": true,
            "type": "pie"
           }
          ],
          "scatter": [
           {
            "fillpattern": {
             "fillmode": "overlay",
             "size": 10,
             "solidity": 0.2
            },
            "type": "scatter"
           }
          ],
          "scatter3d": [
           {
            "line": {
             "colorbar": {
              "outlinewidth": 0,
              "ticks": ""
             }
            },
            "marker": {
             "colorbar": {
              "outlinewidth": 0,
              "ticks": ""
             }
            },
            "type": "scatter3d"
           }
          ],
          "scattercarpet": [
           {
            "marker": {
             "colorbar": {
              "outlinewidth": 0,
              "ticks": ""
             }
            },
            "type": "scattercarpet"
           }
          ],
          "scattergeo": [
           {
            "marker": {
             "colorbar": {
              "outlinewidth": 0,
              "ticks": ""
             }
            },
            "type": "scattergeo"
           }
          ],
          "scattergl": [
           {
            "marker": {
             "colorbar": {
              "outlinewidth": 0,
              "ticks": ""
             }
            },
            "type": "scattergl"
           }
          ],
          "scattermapbox": [
           {
            "marker": {
             "colorbar": {
              "outlinewidth": 0,
              "ticks": ""
             }
            },
            "type": "scattermapbox"
           }
          ],
          "scatterpolar": [
           {
            "marker": {
             "colorbar": {
              "outlinewidth": 0,
              "ticks": ""
             }
            },
            "type": "scatterpolar"
           }
          ],
          "scatterpolargl": [
           {
            "marker": {
             "colorbar": {
              "outlinewidth": 0,
              "ticks": ""
             }
            },
            "type": "scatterpolargl"
           }
          ],
          "scatterternary": [
           {
            "marker": {
             "colorbar": {
              "outlinewidth": 0,
              "ticks": ""
             }
            },
            "type": "scatterternary"
           }
          ],
          "surface": [
           {
            "colorbar": {
             "outlinewidth": 0,
             "ticks": ""
            },
            "colorscale": [
             [
              0,
              "#0d0887"
             ],
             [
              0.1111111111111111,
              "#46039f"
             ],
             [
              0.2222222222222222,
              "#7201a8"
             ],
             [
              0.3333333333333333,
              "#9c179e"
             ],
             [
              0.4444444444444444,
              "#bd3786"
             ],
             [
              0.5555555555555556,
              "#d8576b"
             ],
             [
              0.6666666666666666,
              "#ed7953"
             ],
             [
              0.7777777777777778,
              "#fb9f3a"
             ],
             [
              0.8888888888888888,
              "#fdca26"
             ],
             [
              1,
              "#f0f921"
             ]
            ],
            "type": "surface"
           }
          ],
          "table": [
           {
            "cells": {
             "fill": {
              "color": "#EBF0F8"
             },
             "line": {
              "color": "white"
             }
            },
            "header": {
             "fill": {
              "color": "#C8D4E3"
             },
             "line": {
              "color": "white"
             }
            },
            "type": "table"
           }
          ]
         },
         "layout": {
          "annotationdefaults": {
           "arrowcolor": "#2a3f5f",
           "arrowhead": 0,
           "arrowwidth": 1
          },
          "autotypenumbers": "strict",
          "coloraxis": {
           "colorbar": {
            "outlinewidth": 0,
            "ticks": ""
           }
          },
          "colorscale": {
           "diverging": [
            [
             0,
             "#8e0152"
            ],
            [
             0.1,
             "#c51b7d"
            ],
            [
             0.2,
             "#de77ae"
            ],
            [
             0.3,
             "#f1b6da"
            ],
            [
             0.4,
             "#fde0ef"
            ],
            [
             0.5,
             "#f7f7f7"
            ],
            [
             0.6,
             "#e6f5d0"
            ],
            [
             0.7,
             "#b8e186"
            ],
            [
             0.8,
             "#7fbc41"
            ],
            [
             0.9,
             "#4d9221"
            ],
            [
             1,
             "#276419"
            ]
           ],
           "sequential": [
            [
             0,
             "#0d0887"
            ],
            [
             0.1111111111111111,
             "#46039f"
            ],
            [
             0.2222222222222222,
             "#7201a8"
            ],
            [
             0.3333333333333333,
             "#9c179e"
            ],
            [
             0.4444444444444444,
             "#bd3786"
            ],
            [
             0.5555555555555556,
             "#d8576b"
            ],
            [
             0.6666666666666666,
             "#ed7953"
            ],
            [
             0.7777777777777778,
             "#fb9f3a"
            ],
            [
             0.8888888888888888,
             "#fdca26"
            ],
            [
             1,
             "#f0f921"
            ]
           ],
           "sequentialminus": [
            [
             0,
             "#0d0887"
            ],
            [
             0.1111111111111111,
             "#46039f"
            ],
            [
             0.2222222222222222,
             "#7201a8"
            ],
            [
             0.3333333333333333,
             "#9c179e"
            ],
            [
             0.4444444444444444,
             "#bd3786"
            ],
            [
             0.5555555555555556,
             "#d8576b"
            ],
            [
             0.6666666666666666,
             "#ed7953"
            ],
            [
             0.7777777777777778,
             "#fb9f3a"
            ],
            [
             0.8888888888888888,
             "#fdca26"
            ],
            [
             1,
             "#f0f921"
            ]
           ]
          },
          "colorway": [
           "#636efa",
           "#EF553B",
           "#00cc96",
           "#ab63fa",
           "#FFA15A",
           "#19d3f3",
           "#FF6692",
           "#B6E880",
           "#FF97FF",
           "#FECB52"
          ],
          "font": {
           "color": "#2a3f5f"
          },
          "geo": {
           "bgcolor": "white",
           "lakecolor": "white",
           "landcolor": "#E5ECF6",
           "showlakes": true,
           "showland": true,
           "subunitcolor": "white"
          },
          "hoverlabel": {
           "align": "left"
          },
          "hovermode": "closest",
          "mapbox": {
           "style": "light"
          },
          "paper_bgcolor": "white",
          "plot_bgcolor": "#E5ECF6",
          "polar": {
           "angularaxis": {
            "gridcolor": "white",
            "linecolor": "white",
            "ticks": ""
           },
           "bgcolor": "#E5ECF6",
           "radialaxis": {
            "gridcolor": "white",
            "linecolor": "white",
            "ticks": ""
           }
          },
          "scene": {
           "xaxis": {
            "backgroundcolor": "#E5ECF6",
            "gridcolor": "white",
            "gridwidth": 2,
            "linecolor": "white",
            "showbackground": true,
            "ticks": "",
            "zerolinecolor": "white"
           },
           "yaxis": {
            "backgroundcolor": "#E5ECF6",
            "gridcolor": "white",
            "gridwidth": 2,
            "linecolor": "white",
            "showbackground": true,
            "ticks": "",
            "zerolinecolor": "white"
           },
           "zaxis": {
            "backgroundcolor": "#E5ECF6",
            "gridcolor": "white",
            "gridwidth": 2,
            "linecolor": "white",
            "showbackground": true,
            "ticks": "",
            "zerolinecolor": "white"
           }
          },
          "shapedefaults": {
           "line": {
            "color": "#2a3f5f"
           }
          },
          "ternary": {
           "aaxis": {
            "gridcolor": "white",
            "linecolor": "white",
            "ticks": ""
           },
           "baxis": {
            "gridcolor": "white",
            "linecolor": "white",
            "ticks": ""
           },
           "bgcolor": "#E5ECF6",
           "caxis": {
            "gridcolor": "white",
            "linecolor": "white",
            "ticks": ""
           }
          },
          "title": {
           "x": 0.05
          },
          "xaxis": {
           "automargin": true,
           "gridcolor": "white",
           "linecolor": "white",
           "ticks": "",
           "title": {
            "standoff": 15
           },
           "zerolinecolor": "white",
           "zerolinewidth": 2
          },
          "yaxis": {
           "automargin": true,
           "gridcolor": "white",
           "linecolor": "white",
           "ticks": "",
           "title": {
            "standoff": 15
           },
           "zerolinecolor": "white",
           "zerolinewidth": 2
          }
         }
        },
        "title": {
         "text": "Unique # of ['texas', 'florida'] n-grams for each label"
        },
        "xaxis": {
         "anchor": "y",
         "domain": [
          0,
          1
         ],
         "title": {
          "text": "N-gram size"
         }
        },
        "yaxis": {
         "anchor": "x",
         "domain": [
          0,
          1
         ],
         "title": {
          "text": "Unique # of n-grams"
         }
        }
       }
      }
     },
     "metadata": {},
     "output_type": "display_data"
    }
   ],
   "source": [
    "import plotly.express as px\n",
    "\n",
    "intersection_sizes = []\n",
    "for n in [1, 2, 3, 4, 5, 6]:\n",
    "\n",
    "    good_ngrams = series_to_ngrams(df[df.label == \"good\"].comments, n).value_counts()\n",
    "    bad_ngrams = series_to_ngrams(df[df.label == \"bad\"].comments, n).value_counts()\n",
    "    mgood_ngrams = series_to_ngrams(df[df.label == \"mgood\"].comments, n).value_counts()\n",
    "    mbad_ngrams = series_to_ngrams(df[df.label == \"mbad\"].comments, n).value_counts()\n",
    "    intersection_sizes_n = get_exclusive_sizes(\n",
    "        set(good_ngrams.index),\n",
    "        set(bad_ngrams.index),\n",
    "        set(mgood_ngrams.index),\n",
    "        set(mbad_ngrams.index)\n",
    "    )\n",
    "\n",
    "    intersection_sizes_n[\"n\"] = n\n",
    "\n",
    "    intersection_sizes.append(intersection_sizes_n)\n",
    "\n",
    "\n",
    "# prepare data\n",
    "is_df = pd.DataFrame(intersection_sizes)\n",
    "is_df = is_df.melt(id_vars=\"n\", var_name=\"label\", value_name=\"count\")\n",
    "is_df[\"count\"] = is_df[\"count\"].astype(int)\n",
    "is_df[\"n\"] = is_df[\"n\"].astype(int)\n",
    "\n",
    "# exclude good \n",
    "is_df = is_df[is_df.label != \"good\"]\n",
    "\n",
    "# plot a line chart\n",
    "px.line(is_df, \n",
    "    x=\"n\", y=\"count\",\n",
    "    color=\"label\",\n",
    "    title=f\"Unique # of {GEO} n-grams for each label\", \n",
    "    labels={\"n\": \"N-gram size\", \"count\": \"Unique # of n-grams\"},\n",
    "    markers=True\n",
    "    )"
   ]
  },
  {
   "attachments": {},
   "cell_type": "markdown",
   "metadata": {},
   "source": [
    "We can see that the number of unique ngrams increases until about n=4, and then levels off. What are the top 10 4-grams for misleading reviews?"
   ]
  },
  {
   "cell_type": "code",
   "execution_count": 7,
   "metadata": {},
   "outputs": [
    {
     "name": "stdout",
     "output_type": "stream",
     "text": [
      "Top 10 most common 3-grams in misleading reviews:\n"
     ]
    },
    {
     "data": {
      "text/plain": [
       "[('within_walking_distance', 10),\n",
       " ('would_not_recommend', 7),\n",
       " ('living_room_furniture', 4),\n",
       " ('not_recommend_staying', 4),\n",
       " ('not_big_deal', 4),\n",
       " ('great_place_stay', 4),\n",
       " ('let_u_know', 4),\n",
       " ('not_work_not', 3),\n",
       " ('give_4_star', 3),\n",
       " ('made_u_feel', 3)]"
      ]
     },
     "execution_count": 7,
     "metadata": {},
     "output_type": "execute_result"
    }
   ],
   "source": [
    "import numpy as np\n",
    "from collections import Counter\n",
    "\n",
    "# get subset of misleading reviews\n",
    "subset = df[df.label.isin([\"mbad\", \"mgood\"])]\n",
    "\n",
    "# get groups of N consecutive words\n",
    "N = 3\n",
    "n_grams = series_to_ngrams(subset.comments, N).to_list()\n",
    "\n",
    "print(f\"Top 10 most common {N}-grams in misleading reviews:\")\n",
    "Counter(n_grams).most_common(10)"
   ]
  },
  {
   "attachments": {},
   "cell_type": "markdown",
   "metadata": {},
   "source": [
    "Let's manually remove some of these that don't make sense"
   ]
  },
  {
   "attachments": {},
   "cell_type": "markdown",
   "metadata": {},
   "source": [
    "Now let's look at a word cloud of the N-grams in misleading reviews."
   ]
  },
  {
   "cell_type": "code",
   "execution_count": 8,
   "metadata": {},
   "outputs": [
    {
     "data": {
      "application/vnd.plotly.v1+json": {
       "config": {
        "plotlyServerURL": "https://plot.ly"
       },
       "data": [
        {
         "hovertemplate": "x: %{x}<br>y: %{y}<br>color: [%{z[0]}, %{z[1]}, %{z[2]}]<extra></extra>",
         "name": "0",
         "source": "data:image/png;base64,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",
         "type": "image",
         "xaxis": "x",
         "yaxis": "y"
        }
       ],
       "layout": {
        "height": 700,
        "template": {
         "data": {
          "bar": [
           {
            "error_x": {
             "color": "#2a3f5f"
            },
            "error_y": {
             "color": "#2a3f5f"
            },
            "marker": {
             "line": {
              "color": "#E5ECF6",
              "width": 0.5
             },
             "pattern": {
              "fillmode": "overlay",
              "size": 10,
              "solidity": 0.2
             }
            },
            "type": "bar"
           }
          ],
          "barpolar": [
           {
            "marker": {
             "line": {
              "color": "#E5ECF6",
              "width": 0.5
             },
             "pattern": {
              "fillmode": "overlay",
              "size": 10,
              "solidity": 0.2
             }
            },
            "type": "barpolar"
           }
          ],
          "carpet": [
           {
            "aaxis": {
             "endlinecolor": "#2a3f5f",
             "gridcolor": "white",
             "linecolor": "white",
             "minorgridcolor": "white",
             "startlinecolor": "#2a3f5f"
            },
            "baxis": {
             "endlinecolor": "#2a3f5f",
             "gridcolor": "white",
             "linecolor": "white",
             "minorgridcolor": "white",
             "startlinecolor": "#2a3f5f"
            },
            "type": "carpet"
           }
          ],
          "choropleth": [
           {
            "colorbar": {
             "outlinewidth": 0,
             "ticks": ""
            },
            "type": "choropleth"
           }
          ],
          "contour": [
           {
            "colorbar": {
             "outlinewidth": 0,
             "ticks": ""
            },
            "colorscale": [
             [
              0,
              "#0d0887"
             ],
             [
              0.1111111111111111,
              "#46039f"
             ],
             [
              0.2222222222222222,
              "#7201a8"
             ],
             [
              0.3333333333333333,
              "#9c179e"
             ],
             [
              0.4444444444444444,
              "#bd3786"
             ],
             [
              0.5555555555555556,
              "#d8576b"
             ],
             [
              0.6666666666666666,
              "#ed7953"
             ],
             [
              0.7777777777777778,
              "#fb9f3a"
             ],
             [
              0.8888888888888888,
              "#fdca26"
             ],
             [
              1,
              "#f0f921"
             ]
            ],
            "type": "contour"
           }
          ],
          "contourcarpet": [
           {
            "colorbar": {
             "outlinewidth": 0,
             "ticks": ""
            },
            "type": "contourcarpet"
           }
          ],
          "heatmap": [
           {
            "colorbar": {
             "outlinewidth": 0,
             "ticks": ""
            },
            "colorscale": [
             [
              0,
              "#0d0887"
             ],
             [
              0.1111111111111111,
              "#46039f"
             ],
             [
              0.2222222222222222,
              "#7201a8"
             ],
             [
              0.3333333333333333,
              "#9c179e"
             ],
             [
              0.4444444444444444,
              "#bd3786"
             ],
             [
              0.5555555555555556,
              "#d8576b"
             ],
             [
              0.6666666666666666,
              "#ed7953"
             ],
             [
              0.7777777777777778,
              "#fb9f3a"
             ],
             [
              0.8888888888888888,
              "#fdca26"
             ],
             [
              1,
              "#f0f921"
             ]
            ],
            "type": "heatmap"
           }
          ],
          "heatmapgl": [
           {
            "colorbar": {
             "outlinewidth": 0,
             "ticks": ""
            },
            "colorscale": [
             [
              0,
              "#0d0887"
             ],
             [
              0.1111111111111111,
              "#46039f"
             ],
             [
              0.2222222222222222,
              "#7201a8"
             ],
             [
              0.3333333333333333,
              "#9c179e"
             ],
             [
              0.4444444444444444,
              "#bd3786"
             ],
             [
              0.5555555555555556,
              "#d8576b"
             ],
             [
              0.6666666666666666,
              "#ed7953"
             ],
             [
              0.7777777777777778,
              "#fb9f3a"
             ],
             [
              0.8888888888888888,
              "#fdca26"
             ],
             [
              1,
              "#f0f921"
             ]
            ],
            "type": "heatmapgl"
           }
          ],
          "histogram": [
           {
            "marker": {
             "pattern": {
              "fillmode": "overlay",
              "size": 10,
              "solidity": 0.2
             }
            },
            "type": "histogram"
           }
          ],
          "histogram2d": [
           {
            "colorbar": {
             "outlinewidth": 0,
             "ticks": ""
            },
            "colorscale": [
             [
              0,
              "#0d0887"
             ],
             [
              0.1111111111111111,
              "#46039f"
             ],
             [
              0.2222222222222222,
              "#7201a8"
             ],
             [
              0.3333333333333333,
              "#9c179e"
             ],
             [
              0.4444444444444444,
              "#bd3786"
             ],
             [
              0.5555555555555556,
              "#d8576b"
             ],
             [
              0.6666666666666666,
              "#ed7953"
             ],
             [
              0.7777777777777778,
              "#fb9f3a"
             ],
             [
              0.8888888888888888,
              "#fdca26"
             ],
             [
              1,
              "#f0f921"
             ]
            ],
            "type": "histogram2d"
           }
          ],
          "histogram2dcontour": [
           {
            "colorbar": {
             "outlinewidth": 0,
             "ticks": ""
            },
            "colorscale": [
             [
              0,
              "#0d0887"
             ],
             [
              0.1111111111111111,
              "#46039f"
             ],
             [
              0.2222222222222222,
              "#7201a8"
             ],
             [
              0.3333333333333333,
              "#9c179e"
             ],
             [
              0.4444444444444444,
              "#bd3786"
             ],
             [
              0.5555555555555556,
              "#d8576b"
             ],
             [
              0.6666666666666666,
              "#ed7953"
             ],
             [
              0.7777777777777778,
              "#fb9f3a"
             ],
             [
              0.8888888888888888,
              "#fdca26"
             ],
             [
              1,
              "#f0f921"
             ]
            ],
            "type": "histogram2dcontour"
           }
          ],
          "mesh3d": [
           {
            "colorbar": {
             "outlinewidth": 0,
             "ticks": ""
            },
            "type": "mesh3d"
           }
          ],
          "parcoords": [
           {
            "line": {
             "colorbar": {
              "outlinewidth": 0,
              "ticks": ""
             }
            },
            "type": "parcoords"
           }
          ],
          "pie": [
           {
            "automargin": true,
            "type": "pie"
           }
          ],
          "scatter": [
           {
            "fillpattern": {
             "fillmode": "overlay",
             "size": 10,
             "solidity": 0.2
            },
            "type": "scatter"
           }
          ],
          "scatter3d": [
           {
            "line": {
             "colorbar": {
              "outlinewidth": 0,
              "ticks": ""
             }
            },
            "marker": {
             "colorbar": {
              "outlinewidth": 0,
              "ticks": ""
             }
            },
            "type": "scatter3d"
           }
          ],
          "scattercarpet": [
           {
            "marker": {
             "colorbar": {
              "outlinewidth": 0,
              "ticks": ""
             }
            },
            "type": "scattercarpet"
           }
          ],
          "scattergeo": [
           {
            "marker": {
             "colorbar": {
              "outlinewidth": 0,
              "ticks": ""
             }
            },
            "type": "scattergeo"
           }
          ],
          "scattergl": [
           {
            "marker": {
             "colorbar": {
              "outlinewidth": 0,
              "ticks": ""
             }
            },
            "type": "scattergl"
           }
          ],
          "scattermapbox": [
           {
            "marker": {
             "colorbar": {
              "outlinewidth": 0,
              "ticks": ""
             }
            },
            "type": "scattermapbox"
           }
          ],
          "scatterpolar": [
           {
            "marker": {
             "colorbar": {
              "outlinewidth": 0,
              "ticks": ""
             }
            },
            "type": "scatterpolar"
           }
          ],
          "scatterpolargl": [
           {
            "marker": {
             "colorbar": {
              "outlinewidth": 0,
              "ticks": ""
             }
            },
            "type": "scatterpolargl"
           }
          ],
          "scatterternary": [
           {
            "marker": {
             "colorbar": {
              "outlinewidth": 0,
              "ticks": ""
             }
            },
            "type": "scatterternary"
           }
          ],
          "surface": [
           {
            "colorbar": {
             "outlinewidth": 0,
             "ticks": ""
            },
            "colorscale": [
             [
              0,
              "#0d0887"
             ],
             [
              0.1111111111111111,
              "#46039f"
             ],
             [
              0.2222222222222222,
              "#7201a8"
             ],
             [
              0.3333333333333333,
              "#9c179e"
             ],
             [
              0.4444444444444444,
              "#bd3786"
             ],
             [
              0.5555555555555556,
              "#d8576b"
             ],
             [
              0.6666666666666666,
              "#ed7953"
             ],
             [
              0.7777777777777778,
              "#fb9f3a"
             ],
             [
              0.8888888888888888,
              "#fdca26"
             ],
             [
              1,
              "#f0f921"
             ]
            ],
            "type": "surface"
           }
          ],
          "table": [
           {
            "cells": {
             "fill": {
              "color": "#EBF0F8"
             },
             "line": {
              "color": "white"
             }
            },
            "header": {
             "fill": {
              "color": "#C8D4E3"
             },
             "line": {
              "color": "white"
             }
            },
            "type": "table"
           }
          ]
         },
         "layout": {
          "annotationdefaults": {
           "arrowcolor": "#2a3f5f",
           "arrowhead": 0,
           "arrowwidth": 1
          },
          "autotypenumbers": "strict",
          "coloraxis": {
           "colorbar": {
            "outlinewidth": 0,
            "ticks": ""
           }
          },
          "colorscale": {
           "diverging": [
            [
             0,
             "#8e0152"
            ],
            [
             0.1,
             "#c51b7d"
            ],
            [
             0.2,
             "#de77ae"
            ],
            [
             0.3,
             "#f1b6da"
            ],
            [
             0.4,
             "#fde0ef"
            ],
            [
             0.5,
             "#f7f7f7"
            ],
            [
             0.6,
             "#e6f5d0"
            ],
            [
             0.7,
             "#b8e186"
            ],
            [
             0.8,
             "#7fbc41"
            ],
            [
             0.9,
             "#4d9221"
            ],
            [
             1,
             "#276419"
            ]
           ],
           "sequential": [
            [
             0,
             "#0d0887"
            ],
            [
             0.1111111111111111,
             "#46039f"
            ],
            [
             0.2222222222222222,
             "#7201a8"
            ],
            [
             0.3333333333333333,
             "#9c179e"
            ],
            [
             0.4444444444444444,
             "#bd3786"
            ],
            [
             0.5555555555555556,
             "#d8576b"
            ],
            [
             0.6666666666666666,
             "#ed7953"
            ],
            [
             0.7777777777777778,
             "#fb9f3a"
            ],
            [
             0.8888888888888888,
             "#fdca26"
            ],
            [
             1,
             "#f0f921"
            ]
           ],
           "sequentialminus": [
            [
             0,
             "#0d0887"
            ],
            [
             0.1111111111111111,
             "#46039f"
            ],
            [
             0.2222222222222222,
             "#7201a8"
            ],
            [
             0.3333333333333333,
             "#9c179e"
            ],
            [
             0.4444444444444444,
             "#bd3786"
            ],
            [
             0.5555555555555556,
             "#d8576b"
            ],
            [
             0.6666666666666666,
             "#ed7953"
            ],
            [
             0.7777777777777778,
             "#fb9f3a"
            ],
            [
             0.8888888888888888,
             "#fdca26"
            ],
            [
             1,
             "#f0f921"
            ]
           ]
          },
          "colorway": [
           "#636efa",
           "#EF553B",
           "#00cc96",
           "#ab63fa",
           "#FFA15A",
           "#19d3f3",
           "#FF6692",
           "#B6E880",
           "#FF97FF",
           "#FECB52"
          ],
          "font": {
           "color": "#2a3f5f"
          },
          "geo": {
           "bgcolor": "white",
           "lakecolor": "white",
           "landcolor": "#E5ECF6",
           "showlakes": true,
           "showland": true,
           "subunitcolor": "white"
          },
          "hoverlabel": {
           "align": "left"
          },
          "hovermode": "closest",
          "mapbox": {
           "style": "light"
          },
          "paper_bgcolor": "white",
          "plot_bgcolor": "#E5ECF6",
          "polar": {
           "angularaxis": {
            "gridcolor": "white",
            "linecolor": "white",
            "ticks": ""
           },
           "bgcolor": "#E5ECF6",
           "radialaxis": {
            "gridcolor": "white",
            "linecolor": "white",
            "ticks": ""
           }
          },
          "scene": {
           "xaxis": {
            "backgroundcolor": "#E5ECF6",
            "gridcolor": "white",
            "gridwidth": 2,
            "linecolor": "white",
            "showbackground": true,
            "ticks": "",
            "zerolinecolor": "white"
           },
           "yaxis": {
            "backgroundcolor": "#E5ECF6",
            "gridcolor": "white",
            "gridwidth": 2,
            "linecolor": "white",
            "showbackground": true,
            "ticks": "",
            "zerolinecolor": "white"
           },
           "zaxis": {
            "backgroundcolor": "#E5ECF6",
            "gridcolor": "white",
            "gridwidth": 2,
            "linecolor": "white",
            "showbackground": true,
            "ticks": "",
            "zerolinecolor": "white"
           }
          },
          "shapedefaults": {
           "line": {
            "color": "#2a3f5f"
           }
          },
          "ternary": {
           "aaxis": {
            "gridcolor": "white",
            "linecolor": "white",
            "ticks": ""
           },
           "baxis": {
            "gridcolor": "white",
            "linecolor": "white",
            "ticks": ""
           },
           "bgcolor": "#E5ECF6",
           "caxis": {
            "gridcolor": "white",
            "linecolor": "white",
            "ticks": ""
           }
          },
          "title": {
           "x": 0.05
          },
          "xaxis": {
           "automargin": true,
           "gridcolor": "white",
           "linecolor": "white",
           "ticks": "",
           "title": {
            "standoff": 15
           },
           "zerolinecolor": "white",
           "zerolinewidth": 2
          },
          "yaxis": {
           "automargin": true,
           "gridcolor": "white",
           "linecolor": "white",
           "ticks": "",
           "title": {
            "standoff": 15
           },
           "zerolinecolor": "white",
           "zerolinewidth": 2
          }
         }
        },
        "title": {
         "text": "Most common 3-grams in misleading reviews"
        },
        "width": 700,
        "xaxis": {
         "anchor": "y",
         "domain": [
          0,
          1
         ],
         "visible": false
        },
        "yaxis": {
         "anchor": "x",
         "domain": [
          0,
          1
         ],
         "visible": false
        }
       }
      }
     },
     "metadata": {},
     "output_type": "display_data"
    }
   ],
   "source": [
    "from wordcloud import WordCloud\n",
    "from PIL import Image\n",
    "\n",
    "ngrams_str = \" \".join(n_grams)\n",
    "\n",
    "# make house-shaped mask\n",
    "mask = np.array(Image.open(\"../../house_shape.png\"))\n",
    "# fill transparent areas with white\n",
    "mask[mask[:, :, 3] == 0] = [255, 255, 255, 255]\n",
    "\n",
    "# generate wordcloud\n",
    "wc = WordCloud(\n",
    "    background_color=\"white\", \n",
    "    max_words=1000, \n",
    "    width=mask.shape[0]*5,\n",
    "    height=mask.shape[1]*5,\n",
    "    mask = mask,\n",
    "    contour_width=3,\n",
    "    contour_color='steelblue',\n",
    "    colormap=\"twilight_shifted\"\n",
    ").generate(ngrams_str)\n",
    "\n",
    "wc\n",
    "\n",
    "# show wordcloud\n",
    "fig = px.imshow(wc, title=f\"Most common {N}-grams in misleading reviews\", width=700, height=700)\n",
    "fig.update_xaxes(visible=False)\n",
    "fig.update_yaxes(visible=False)\n",
    "fig.show()"
   ]
  },
  {
   "attachments": {},
   "cell_type": "markdown",
   "metadata": {},
   "source": [
    "Here is a reusable function to add ngrams features to a dataframe."
   ]
  },
  {
   "cell_type": "code",
   "execution_count": 9,
   "metadata": {},
   "outputs": [],
   "source": [
    "def ngrams_features(features, n, prefix=\"ngrams_\", corr_thresh=0.05):\n",
    "    \"\"\"Add n-gram features to the features dataframe.\"\"\"\n",
    "\n",
    "    # one-hot encode ngrams\n",
    "    df[\"ngrams\"] = df.comments.apply(lambda x: set(get_consecutive_ngrams(x, 3)))\n",
    "\n",
    "    # get set of ngrams\n",
    "    ng_set = set(series_to_ngrams(subset.comments, n).to_list())\n",
    "\n",
    "    # one-hot encode ngrams\n",
    "    ngram_features = {}\n",
    "    for ngram in ng_set:\n",
    "        ngram_features[prefix + ngram] = df.ngrams.apply(lambda ngrams: 1 if ngram in ngrams else 0)\n",
    "    ngram_df = pd.DataFrame(ngram_features)\n",
    "    \n",
    "    # filter features on correlation with label\n",
    "    ngrams_df = corr_filter(ngram_df, corr_thresh=corr_thresh)\n",
    "\n",
    "    # add ngram features to features dataframe\n",
    "    features = pd.concat([features, ngrams_df], axis=1)\n",
    "\n",
    "\n",
    "    return features"
   ]
  },
  {
   "cell_type": "code",
   "execution_count": 10,
   "metadata": {},
   "outputs": [
    {
     "name": "stdout",
     "output_type": "stream",
     "text": [
      "Features above correlation threshold (0.09):\n",
      "['ngrams_would_not_recommend', 'ngrams_no_toilet_paper', 'ngrams_not_recommend_staying', 'ngrams_could_not_access', 'ngrams_per_night_not', 'ngrams_very_old_not', 'ngrams_call_text_message', 'ngrams_phone_call_text', 'ngrams_left_first_night', 'ngrams_old_not_well', 'ngrams_worse_experience_ever', 'ngrams_refund_second_night', 'ngrams_paid_two_night', 'ngrams_expected_based_description', 'ngrams_need_deep_cleaning', 'ngrams_not_really_clean', 'ngrams_got_no_response', 'ngrams_toilet_paper_buy', 'ngrams_never_met_host', 'ngrams_property_management_company', 'ngrams_nothing_like_picture', 'ngrams_freezer_not_work', 'ngrams_obviously_not_cleaned', 'ngrams_shower_curtain_covered', 'ngrams_never_responded_message', 'ngrams_not_clean_arrived', 'ngrams_not_feel_comfortable', 'ngrams_very_bad_shape', 'ngrams_start_good_thing', 'ngrams_got_no_answer', 'ngrams_time_opened_door', 'ngrams_spend_lot_time', 'ngrams_living_room_couch', 'ngrams_write_negative_review', 'ngrams_need_major_overhaul', 'ngrams_sleep_bedroom_door', 'ngrams_guest_not_able', 'ngrams_take_cold_shower', 'ngrams_place_sleep_10', 'ngrams_staying_another_unit', 'ngrams_told_cleaning_lady', 'ngrams_big_issue_u', 'ngrams_let_start_saying', 'ngrams_felt_compelled_write']\n"
     ]
    },
    {
     "data": {
      "text/html": [
       "<div>\n",
       "<style scoped>\n",
       "    .dataframe tbody tr th:only-of-type {\n",
       "        vertical-align: middle;\n",
       "    }\n",
       "\n",
       "    .dataframe tbody tr th {\n",
       "        vertical-align: top;\n",
       "    }\n",
       "\n",
       "    .dataframe thead th {\n",
       "        text-align: right;\n",
       "    }\n",
       "</style>\n",
       "<table border=\"1\" class=\"dataframe\">\n",
       "  <thead>\n",
       "    <tr style=\"text-align: right;\">\n",
       "      <th></th>\n",
       "      <th>ngrams_would_not_recommend</th>\n",
       "      <th>ngrams_no_toilet_paper</th>\n",
       "      <th>ngrams_not_recommend_staying</th>\n",
       "      <th>ngrams_could_not_access</th>\n",
       "      <th>ngrams_per_night_not</th>\n",
       "      <th>ngrams_very_old_not</th>\n",
       "      <th>ngrams_call_text_message</th>\n",
       "      <th>ngrams_phone_call_text</th>\n",
       "      <th>ngrams_left_first_night</th>\n",
       "      <th>ngrams_old_not_well</th>\n",
       "      <th>...</th>\n",
       "      <th>ngrams_need_major_overhaul</th>\n",
       "      <th>ngrams_sleep_bedroom_door</th>\n",
       "      <th>ngrams_guest_not_able</th>\n",
       "      <th>ngrams_take_cold_shower</th>\n",
       "      <th>ngrams_place_sleep_10</th>\n",
       "      <th>ngrams_staying_another_unit</th>\n",
       "      <th>ngrams_told_cleaning_lady</th>\n",
       "      <th>ngrams_big_issue_u</th>\n",
       "      <th>ngrams_let_start_saying</th>\n",
       "      <th>ngrams_felt_compelled_write</th>\n",
       "    </tr>\n",
       "  </thead>\n",
       "  <tbody>\n",
       "    <tr>\n",
       "      <th>0</th>\n",
       "      <td>0</td>\n",
       "      <td>0</td>\n",
       "      <td>0</td>\n",
       "      <td>0</td>\n",
       "      <td>0</td>\n",
       "      <td>0</td>\n",
       "      <td>0</td>\n",
       "      <td>0</td>\n",
       "      <td>0</td>\n",
       "      <td>0</td>\n",
       "      <td>...</td>\n",
       "      <td>0</td>\n",
       "      <td>0</td>\n",
       "      <td>0</td>\n",
       "      <td>0</td>\n",
       "      <td>0</td>\n",
       "      <td>0</td>\n",
       "      <td>0</td>\n",
       "      <td>0</td>\n",
       "      <td>0</td>\n",
       "      <td>0</td>\n",
       "    </tr>\n",
       "    <tr>\n",
       "      <th>1</th>\n",
       "      <td>0</td>\n",
       "      <td>0</td>\n",
       "      <td>0</td>\n",
       "      <td>0</td>\n",
       "      <td>0</td>\n",
       "      <td>0</td>\n",
       "      <td>0</td>\n",
       "      <td>0</td>\n",
       "      <td>0</td>\n",
       "      <td>0</td>\n",
       "      <td>...</td>\n",
       "      <td>0</td>\n",
       "      <td>0</td>\n",
       "      <td>0</td>\n",
       "      <td>0</td>\n",
       "      <td>0</td>\n",
       "      <td>0</td>\n",
       "      <td>0</td>\n",
       "      <td>0</td>\n",
       "      <td>0</td>\n",
       "      <td>0</td>\n",
       "    </tr>\n",
       "    <tr>\n",
       "      <th>2</th>\n",
       "      <td>0</td>\n",
       "      <td>0</td>\n",
       "      <td>0</td>\n",
       "      <td>0</td>\n",
       "      <td>0</td>\n",
       "      <td>0</td>\n",
       "      <td>0</td>\n",
       "      <td>0</td>\n",
       "      <td>0</td>\n",
       "      <td>0</td>\n",
       "      <td>...</td>\n",
       "      <td>0</td>\n",
       "      <td>0</td>\n",
       "      <td>0</td>\n",
       "      <td>0</td>\n",
       "      <td>0</td>\n",
       "      <td>0</td>\n",
       "      <td>0</td>\n",
       "      <td>0</td>\n",
       "      <td>0</td>\n",
       "      <td>0</td>\n",
       "    </tr>\n",
       "    <tr>\n",
       "      <th>3</th>\n",
       "      <td>0</td>\n",
       "      <td>0</td>\n",
       "      <td>0</td>\n",
       "      <td>0</td>\n",
       "      <td>0</td>\n",
       "      <td>0</td>\n",
       "      <td>0</td>\n",
       "      <td>0</td>\n",
       "      <td>0</td>\n",
       "      <td>0</td>\n",
       "      <td>...</td>\n",
       "      <td>0</td>\n",
       "      <td>0</td>\n",
       "      <td>0</td>\n",
       "      <td>0</td>\n",
       "      <td>0</td>\n",
       "      <td>0</td>\n",
       "      <td>0</td>\n",
       "      <td>0</td>\n",
       "      <td>0</td>\n",
       "      <td>0</td>\n",
       "    </tr>\n",
       "    <tr>\n",
       "      <th>4</th>\n",
       "      <td>0</td>\n",
       "      <td>0</td>\n",
       "      <td>0</td>\n",
       "      <td>0</td>\n",
       "      <td>0</td>\n",
       "      <td>0</td>\n",
       "      <td>0</td>\n",
       "      <td>0</td>\n",
       "      <td>0</td>\n",
       "      <td>0</td>\n",
       "      <td>...</td>\n",
       "      <td>0</td>\n",
       "      <td>0</td>\n",
       "      <td>0</td>\n",
       "      <td>0</td>\n",
       "      <td>0</td>\n",
       "      <td>0</td>\n",
       "      <td>0</td>\n",
       "      <td>0</td>\n",
       "      <td>0</td>\n",
       "      <td>0</td>\n",
       "    </tr>\n",
       "    <tr>\n",
       "      <th>...</th>\n",
       "      <td>...</td>\n",
       "      <td>...</td>\n",
       "      <td>...</td>\n",
       "      <td>...</td>\n",
       "      <td>...</td>\n",
       "      <td>...</td>\n",
       "      <td>...</td>\n",
       "      <td>...</td>\n",
       "      <td>...</td>\n",
       "      <td>...</td>\n",
       "      <td>...</td>\n",
       "      <td>...</td>\n",
       "      <td>...</td>\n",
       "      <td>...</td>\n",
       "      <td>...</td>\n",
       "      <td>...</td>\n",
       "      <td>...</td>\n",
       "      <td>...</td>\n",
       "      <td>...</td>\n",
       "      <td>...</td>\n",
       "      <td>...</td>\n",
       "    </tr>\n",
       "    <tr>\n",
       "      <th>1624</th>\n",
       "      <td>0</td>\n",
       "      <td>0</td>\n",
       "      <td>0</td>\n",
       "      <td>0</td>\n",
       "      <td>0</td>\n",
       "      <td>0</td>\n",
       "      <td>0</td>\n",
       "      <td>0</td>\n",
       "      <td>0</td>\n",
       "      <td>0</td>\n",
       "      <td>...</td>\n",
       "      <td>0</td>\n",
       "      <td>0</td>\n",
       "      <td>0</td>\n",
       "      <td>0</td>\n",
       "      <td>0</td>\n",
       "      <td>0</td>\n",
       "      <td>0</td>\n",
       "      <td>0</td>\n",
       "      <td>0</td>\n",
       "      <td>0</td>\n",
       "    </tr>\n",
       "    <tr>\n",
       "      <th>1625</th>\n",
       "      <td>0</td>\n",
       "      <td>0</td>\n",
       "      <td>0</td>\n",
       "      <td>0</td>\n",
       "      <td>0</td>\n",
       "      <td>0</td>\n",
       "      <td>0</td>\n",
       "      <td>0</td>\n",
       "      <td>0</td>\n",
       "      <td>0</td>\n",
       "      <td>...</td>\n",
       "      <td>0</td>\n",
       "      <td>0</td>\n",
       "      <td>0</td>\n",
       "      <td>0</td>\n",
       "      <td>0</td>\n",
       "      <td>0</td>\n",
       "      <td>0</td>\n",
       "      <td>0</td>\n",
       "      <td>0</td>\n",
       "      <td>0</td>\n",
       "    </tr>\n",
       "    <tr>\n",
       "      <th>1626</th>\n",
       "      <td>0</td>\n",
       "      <td>0</td>\n",
       "      <td>0</td>\n",
       "      <td>0</td>\n",
       "      <td>0</td>\n",
       "      <td>0</td>\n",
       "      <td>0</td>\n",
       "      <td>0</td>\n",
       "      <td>0</td>\n",
       "      <td>0</td>\n",
       "      <td>...</td>\n",
       "      <td>0</td>\n",
       "      <td>0</td>\n",
       "      <td>0</td>\n",
       "      <td>0</td>\n",
       "      <td>0</td>\n",
       "      <td>0</td>\n",
       "      <td>0</td>\n",
       "      <td>0</td>\n",
       "      <td>0</td>\n",
       "      <td>0</td>\n",
       "    </tr>\n",
       "    <tr>\n",
       "      <th>1627</th>\n",
       "      <td>0</td>\n",
       "      <td>0</td>\n",
       "      <td>0</td>\n",
       "      <td>0</td>\n",
       "      <td>0</td>\n",
       "      <td>0</td>\n",
       "      <td>0</td>\n",
       "      <td>0</td>\n",
       "      <td>0</td>\n",
       "      <td>0</td>\n",
       "      <td>...</td>\n",
       "      <td>0</td>\n",
       "      <td>0</td>\n",
       "      <td>0</td>\n",
       "      <td>0</td>\n",
       "      <td>0</td>\n",
       "      <td>0</td>\n",
       "      <td>0</td>\n",
       "      <td>0</td>\n",
       "      <td>0</td>\n",
       "      <td>0</td>\n",
       "    </tr>\n",
       "    <tr>\n",
       "      <th>1628</th>\n",
       "      <td>0</td>\n",
       "      <td>0</td>\n",
       "      <td>0</td>\n",
       "      <td>0</td>\n",
       "      <td>0</td>\n",
       "      <td>0</td>\n",
       "      <td>0</td>\n",
       "      <td>0</td>\n",
       "      <td>0</td>\n",
       "      <td>0</td>\n",
       "      <td>...</td>\n",
       "      <td>0</td>\n",
       "      <td>0</td>\n",
       "      <td>0</td>\n",
       "      <td>0</td>\n",
       "      <td>0</td>\n",
       "      <td>0</td>\n",
       "      <td>0</td>\n",
       "      <td>0</td>\n",
       "      <td>0</td>\n",
       "      <td>0</td>\n",
       "    </tr>\n",
       "  </tbody>\n",
       "</table>\n",
       "<p>1629 rows × 44 columns</p>\n",
       "</div>"
      ],
      "text/plain": [
       "      ngrams_would_not_recommend  ngrams_no_toilet_paper  \\\n",
       "0                              0                       0   \n",
       "1                              0                       0   \n",
       "2                              0                       0   \n",
       "3                              0                       0   \n",
       "4                              0                       0   \n",
       "...                          ...                     ...   \n",
       "1624                           0                       0   \n",
       "1625                           0                       0   \n",
       "1626                           0                       0   \n",
       "1627                           0                       0   \n",
       "1628                           0                       0   \n",
       "\n",
       "      ngrams_not_recommend_staying  ngrams_could_not_access  \\\n",
       "0                                0                        0   \n",
       "1                                0                        0   \n",
       "2                                0                        0   \n",
       "3                                0                        0   \n",
       "4                                0                        0   \n",
       "...                            ...                      ...   \n",
       "1624                             0                        0   \n",
       "1625                             0                        0   \n",
       "1626                             0                        0   \n",
       "1627                             0                        0   \n",
       "1628                             0                        0   \n",
       "\n",
       "      ngrams_per_night_not  ngrams_very_old_not  ngrams_call_text_message  \\\n",
       "0                        0                    0                         0   \n",
       "1                        0                    0                         0   \n",
       "2                        0                    0                         0   \n",
       "3                        0                    0                         0   \n",
       "4                        0                    0                         0   \n",
       "...                    ...                  ...                       ...   \n",
       "1624                     0                    0                         0   \n",
       "1625                     0                    0                         0   \n",
       "1626                     0                    0                         0   \n",
       "1627                     0                    0                         0   \n",
       "1628                     0                    0                         0   \n",
       "\n",
       "      ngrams_phone_call_text  ngrams_left_first_night  ngrams_old_not_well  \\\n",
       "0                          0                        0                    0   \n",
       "1                          0                        0                    0   \n",
       "2                          0                        0                    0   \n",
       "3                          0                        0                    0   \n",
       "4                          0                        0                    0   \n",
       "...                      ...                      ...                  ...   \n",
       "1624                       0                        0                    0   \n",
       "1625                       0                        0                    0   \n",
       "1626                       0                        0                    0   \n",
       "1627                       0                        0                    0   \n",
       "1628                       0                        0                    0   \n",
       "\n",
       "      ...  ngrams_need_major_overhaul  ngrams_sleep_bedroom_door  \\\n",
       "0     ...                           0                          0   \n",
       "1     ...                           0                          0   \n",
       "2     ...                           0                          0   \n",
       "3     ...                           0                          0   \n",
       "4     ...                           0                          0   \n",
       "...   ...                         ...                        ...   \n",
       "1624  ...                           0                          0   \n",
       "1625  ...                           0                          0   \n",
       "1626  ...                           0                          0   \n",
       "1627  ...                           0                          0   \n",
       "1628  ...                           0                          0   \n",
       "\n",
       "      ngrams_guest_not_able  ngrams_take_cold_shower  ngrams_place_sleep_10  \\\n",
       "0                         0                        0                      0   \n",
       "1                         0                        0                      0   \n",
       "2                         0                        0                      0   \n",
       "3                         0                        0                      0   \n",
       "4                         0                        0                      0   \n",
       "...                     ...                      ...                    ...   \n",
       "1624                      0                        0                      0   \n",
       "1625                      0                        0                      0   \n",
       "1626                      0                        0                      0   \n",
       "1627                      0                        0                      0   \n",
       "1628                      0                        0                      0   \n",
       "\n",
       "      ngrams_staying_another_unit  ngrams_told_cleaning_lady  \\\n",
       "0                               0                          0   \n",
       "1                               0                          0   \n",
       "2                               0                          0   \n",
       "3                               0                          0   \n",
       "4                               0                          0   \n",
       "...                           ...                        ...   \n",
       "1624                            0                          0   \n",
       "1625                            0                          0   \n",
       "1626                            0                          0   \n",
       "1627                            0                          0   \n",
       "1628                            0                          0   \n",
       "\n",
       "      ngrams_big_issue_u  ngrams_let_start_saying  ngrams_felt_compelled_write  \n",
       "0                      0                        0                            0  \n",
       "1                      0                        0                            0  \n",
       "2                      0                        0                            0  \n",
       "3                      0                        0                            0  \n",
       "4                      0                        0                            0  \n",
       "...                  ...                      ...                          ...  \n",
       "1624                   0                        0                            0  \n",
       "1625                   0                        0                            0  \n",
       "1626                   0                        0                            0  \n",
       "1627                   0                        0                            0  \n",
       "1628                   0                        0                            0  \n",
       "\n",
       "[1629 rows x 44 columns]"
      ]
     },
     "execution_count": 10,
     "metadata": {},
     "output_type": "execute_result"
    }
   ],
   "source": [
    "features = pd.DataFrame()\n",
    "ngrams_features(features, 3, prefix=\"ngrams_\", corr_thresh=0.09)"
   ]
  },
  {
   "attachments": {},
   "cell_type": "markdown",
   "metadata": {},
   "source": [
    "## \"Mentioned Amenities\" Features\n",
    "Was an amenity that was included in the listing mentioned in the review?"
   ]
  },
  {
   "attachments": {},
   "cell_type": "markdown",
   "metadata": {},
   "source": [
    "First, we need to do some cleaning amenities to make them easier to match."
   ]
  },
  {
   "cell_type": "code",
   "execution_count": 11,
   "metadata": {},
   "outputs": [],
   "source": [
    "import re\n",
    "\n",
    "def clean_amenities(amenities):\n",
    "    \"\"\"Clean the amenities column.\"\"\"\n",
    "\n",
    "    cleaned = []\n",
    "\n",
    "    # basic cleaning\n",
    "    for amenity in amenities:\n",
    "        # remove quotes\n",
    "        amenity = amenity.replace('\"', \"\")\n",
    "        # remove anything in parentheses or brackets\n",
    "        amenity = re.sub(r\"\\(.*\\)\", \"\", amenity)\n",
    "        amenity = re.sub(r\"\\[.*\\]\", \"\", amenity)\n",
    "        # strip whitespace\n",
    "        amenity = amenity.strip()\n",
    "        # lowercase\n",
    "        amenity = amenity.lower()\n",
    "\n",
    "        cleaned.append(amenity)\n",
    "\n",
    "    # split entries with a slash, \"and\", or \"or\"\n",
    "    for to_split_on in [\"/\", \" and \", \" or \"]:\n",
    "        cleaned = [amenity.split(to_split_on) for amenity in cleaned]\n",
    "        cleaned = [item.strip() for sublist in cleaned for item in sublist]\n",
    "\n",
    "    # remove empty strings\n",
    "    cleaned = [amenity for amenity in cleaned if amenity != \"\"]\n",
    "\n",
    "    return cleaned\n",
    "\n",
    "df.amenities = df.amenities.apply(clean_amenities)"
   ]
  },
  {
   "attachments": {},
   "cell_type": "markdown",
   "metadata": {},
   "source": [
    "Look at some examples of the cleaned amenities."
   ]
  },
  {
   "cell_type": "code",
   "execution_count": 12,
   "metadata": {},
   "outputs": [
    {
     "data": {
      "text/plain": [
       "['tv',\n",
       " 'internet',\n",
       " 'wifi',\n",
       " 'air conditioning',\n",
       " 'pool',\n",
       " 'kitchen',\n",
       " 'gym',\n",
       " 'elevator',\n",
       " 'hot tub',\n",
       " 'heating',\n",
       " 'family',\n",
       " 'kid friendly',\n",
       " 'washer',\n",
       " 'dryer',\n",
       " 'smoke detector',\n",
       " 'essentials',\n",
       " 'shampoo',\n",
       " 'hangers',\n",
       " 'hair dryer',\n",
       " 'iron',\n",
       " 'self check-in',\n",
       " 'building staff',\n",
       " 'hot water',\n",
       " 'microwave',\n",
       " 'coffee maker',\n",
       " 'refrigerator',\n",
       " 'dishes',\n",
       " 'silverware',\n",
       " 'long term stays allowed',\n",
       " 'beachfront',\n",
       " 'paid parking on premises}']"
      ]
     },
     "execution_count": 12,
     "metadata": {},
     "output_type": "execute_result"
    }
   ],
   "source": [
    "df.amenities.sample(1).values[0]"
   ]
  },
  {
   "attachments": {},
   "cell_type": "markdown",
   "metadata": {},
   "source": [
    "Calculate our amenities features, and look at the correlation between them and the label."
   ]
  },
  {
   "cell_type": "code",
   "execution_count": 13,
   "metadata": {},
   "outputs": [
    {
     "name": "stdout",
     "output_type": "stream",
     "text": [
      "Adding amenities features...\n",
      "Features above correlation threshold (0.05):\n",
      "['lockbox', 'dishwasher', 'pool', 'stove', 'keypad', 'bathtub', 'kitchen', 'balcony', 'shampoo', 'garden', 'cat', 'family', 'breakfast']\n"
     ]
    },
    {
     "data": {
      "text/html": [
       "<div>\n",
       "<style scoped>\n",
       "    .dataframe tbody tr th:only-of-type {\n",
       "        vertical-align: middle;\n",
       "    }\n",
       "\n",
       "    .dataframe tbody tr th {\n",
       "        vertical-align: top;\n",
       "    }\n",
       "\n",
       "    .dataframe thead th {\n",
       "        text-align: right;\n",
       "    }\n",
       "</style>\n",
       "<table border=\"1\" class=\"dataframe\">\n",
       "  <thead>\n",
       "    <tr style=\"text-align: right;\">\n",
       "      <th></th>\n",
       "      <th>lockbox</th>\n",
       "      <th>dishwasher</th>\n",
       "      <th>pool</th>\n",
       "      <th>stove</th>\n",
       "      <th>keypad</th>\n",
       "      <th>bathtub</th>\n",
       "      <th>kitchen</th>\n",
       "      <th>balcony</th>\n",
       "      <th>shampoo</th>\n",
       "      <th>garden</th>\n",
       "      <th>cat</th>\n",
       "      <th>family</th>\n",
       "      <th>breakfast</th>\n",
       "      <th>review_id</th>\n",
       "      <th>label</th>\n",
       "    </tr>\n",
       "  </thead>\n",
       "  <tbody>\n",
       "    <tr>\n",
       "      <th>0</th>\n",
       "      <td>0.0</td>\n",
       "      <td>0.0</td>\n",
       "      <td>0.0</td>\n",
       "      <td>0.0</td>\n",
       "      <td>0.0</td>\n",
       "      <td>0.0</td>\n",
       "      <td>0.0</td>\n",
       "      <td>0.0</td>\n",
       "      <td>0.0</td>\n",
       "      <td>0.0</td>\n",
       "      <td>0.0</td>\n",
       "      <td>0.0</td>\n",
       "      <td>0.0</td>\n",
       "      <td>83097</td>\n",
       "      <td>good</td>\n",
       "    </tr>\n",
       "    <tr>\n",
       "      <th>2</th>\n",
       "      <td>0.0</td>\n",
       "      <td>0.0</td>\n",
       "      <td>0.0</td>\n",
       "      <td>0.0</td>\n",
       "      <td>0.0</td>\n",
       "      <td>0.0</td>\n",
       "      <td>1.0</td>\n",
       "      <td>0.0</td>\n",
       "      <td>0.0</td>\n",
       "      <td>0.0</td>\n",
       "      <td>0.0</td>\n",
       "      <td>0.0</td>\n",
       "      <td>0.0</td>\n",
       "      <td>150928</td>\n",
       "      <td>good</td>\n",
       "    </tr>\n",
       "    <tr>\n",
       "      <th>4</th>\n",
       "      <td>0.0</td>\n",
       "      <td>0.0</td>\n",
       "      <td>0.0</td>\n",
       "      <td>0.0</td>\n",
       "      <td>0.0</td>\n",
       "      <td>0.0</td>\n",
       "      <td>1.0</td>\n",
       "      <td>0.0</td>\n",
       "      <td>0.0</td>\n",
       "      <td>1.0</td>\n",
       "      <td>0.0</td>\n",
       "      <td>0.0</td>\n",
       "      <td>0.0</td>\n",
       "      <td>8602878</td>\n",
       "      <td>good</td>\n",
       "    </tr>\n",
       "    <tr>\n",
       "      <th>5</th>\n",
       "      <td>0.0</td>\n",
       "      <td>0.0</td>\n",
       "      <td>0.0</td>\n",
       "      <td>0.0</td>\n",
       "      <td>0.0</td>\n",
       "      <td>0.0</td>\n",
       "      <td>0.0</td>\n",
       "      <td>0.0</td>\n",
       "      <td>0.0</td>\n",
       "      <td>0.0</td>\n",
       "      <td>0.0</td>\n",
       "      <td>0.0</td>\n",
       "      <td>0.0</td>\n",
       "      <td>17827296</td>\n",
       "      <td>good</td>\n",
       "    </tr>\n",
       "    <tr>\n",
       "      <th>6</th>\n",
       "      <td>0.0</td>\n",
       "      <td>0.0</td>\n",
       "      <td>0.0</td>\n",
       "      <td>0.0</td>\n",
       "      <td>0.0</td>\n",
       "      <td>0.0</td>\n",
       "      <td>0.0</td>\n",
       "      <td>0.0</td>\n",
       "      <td>0.0</td>\n",
       "      <td>0.0</td>\n",
       "      <td>0.0</td>\n",
       "      <td>0.0</td>\n",
       "      <td>0.0</td>\n",
       "      <td>22768604</td>\n",
       "      <td>good</td>\n",
       "    </tr>\n",
       "  </tbody>\n",
       "</table>\n",
       "</div>"
      ],
      "text/plain": [
       "   lockbox  dishwasher  pool  stove  keypad  bathtub  kitchen  balcony  \\\n",
       "0      0.0         0.0   0.0    0.0     0.0      0.0      0.0      0.0   \n",
       "2      0.0         0.0   0.0    0.0     0.0      0.0      1.0      0.0   \n",
       "4      0.0         0.0   0.0    0.0     0.0      0.0      1.0      0.0   \n",
       "5      0.0         0.0   0.0    0.0     0.0      0.0      0.0      0.0   \n",
       "6      0.0         0.0   0.0    0.0     0.0      0.0      0.0      0.0   \n",
       "\n",
       "   shampoo  garden  cat  family  breakfast  review_id label  \n",
       "0      0.0     0.0  0.0     0.0        0.0      83097  good  \n",
       "2      0.0     0.0  0.0     0.0        0.0     150928  good  \n",
       "4      0.0     1.0  0.0     0.0        0.0    8602878  good  \n",
       "5      0.0     0.0  0.0     0.0        0.0   17827296  good  \n",
       "6      0.0     0.0  0.0     0.0        0.0   22768604  good  "
      ]
     },
     "execution_count": 13,
     "metadata": {},
     "output_type": "execute_result"
    }
   ],
   "source": [
    "def amenities_features(features: pd.DataFrame, corr_thresh=None, prefix=\"amenities_\") -> pd.DataFrame:\n",
    "    print(\"Adding amenities features...\")\n",
    "    amenities_features_df = pd.DataFrame()\n",
    "    # 1. Find the amenities in the listings\n",
    "    for index, row in df.iterrows():\n",
    "        # 1. Find the amenities in the listings\n",
    "        amenities = row.amenities\n",
    "\n",
    "        # Add one row to the features dataframe using pd.concat\n",
    "        amenities_features_df = pd.concat([amenities_features_df, pd.DataFrame(columns=amenities_features_df.columns)])\n",
    "\n",
    "        # 2. For each amenity, see if it is present in the review\n",
    "        for amenity in amenities:\n",
    "            if amenity in row.comments:\n",
    "                # 3. If it is present, add 1 for that feature\n",
    "                if amenity in amenities_features_df.columns:\n",
    "                    amenities_features_df.loc[index, amenity] = 1\n",
    "                #   If the amenity does not already exist from another review, add it to the features dataframe\n",
    "                else:\n",
    "                    amenities_features_df.loc[index, amenity] = 0\n",
    "    \n",
    "    # 4. fill missing values with 0\n",
    "    amenities_features_df = amenities_features_df.fillna(0)\n",
    "\n",
    "    # 6. Only keep amenities features that have a correlation with the label above a certain threshold\n",
    "    amenities_features_df = corr_filter(amenities_features_df, corr_thresh=corr_thresh)\n",
    "\n",
    "    # prefix features\n",
    "    amenities_features_df = amenities_features_df.add_prefix(prefix)\n",
    "\n",
    "    # 5. Add the features to the greater features dataframe\n",
    "    features = pd.concat([features, amenities_features_df], axis=1)\n",
    "\n",
    "    return features\n",
    "\n",
    "features = pd.DataFrame()\n",
    "features_with_amenities = amenities_features(features, corr_thresh=0.05, prefix=\"\")\n",
    "features_with_amenities[\"review_id\"] = df.review_id\n",
    "features_with_amenities[\"label\"] = df.label\n",
    "features_with_amenities.head()"
   ]
  },
  {
   "cell_type": "code",
   "execution_count": 14,
   "metadata": {},
   "outputs": [
    {
     "name": "stderr",
     "output_type": "stream",
     "text": [
      "C:\\Users\\grego\\AppData\\Local\\Temp\\ipykernel_14544\\2336534246.py:6: FutureWarning:\n",
      "\n",
      "The default value of numeric_only in DataFrame.corrwith is deprecated. In a future version, it will default to False. Select only valid columns or specify the value of numeric_only to silence this warning.\n",
      "\n"
     ]
    },
    {
     "data": {
      "text/plain": [
       "lockbox       0.119924\n",
       "dishwasher    0.091862\n",
       "pool          0.084724\n",
       "stove         0.075858\n",
       "keypad        0.071675\n",
       "bathtub       0.062482\n",
       "kitchen       0.054540\n",
       "balcony      -0.050448\n",
       "shampoo      -0.054802\n",
       "garden       -0.072476\n",
       "cat          -0.072627\n",
       "family       -0.078019\n",
       "breakfast    -0.081856\n",
       "dtype: float64"
      ]
     },
     "execution_count": 14,
     "metadata": {},
     "output_type": "execute_result"
    }
   ],
   "source": [
    "# OHE labels\n",
    "labels_list: list = features_with_amenities.label.unique().tolist()\n",
    "dummies = features_with_amenities.label.apply(lambda label: labels_list.index(label))\n",
    "\n",
    "# calculate correlations with the label\n",
    "corrs = features_with_amenities.drop(\"review_id\", axis=1).corrwith(dummies).sort_values(ascending=False)\n",
    "corrs"
   ]
  },
  {
   "attachments": {},
   "cell_type": "markdown",
   "metadata": {},
   "source": [
    "## Word Embeddings\n",
    "Another way to look at the data is to use word embeddings. We can use the word2vec model from gensim to create word embeddings for each word in the dataset. We can then take the average of all word vectors in a review to get a vector representation of the review. For now, let's embed into a 10-dimensional space."
   ]
  },
  {
   "cell_type": "code",
   "execution_count": 35,
   "metadata": {},
   "outputs": [],
   "source": [
    "from gensim.models.word2vec import Word2Vec\n",
    "from typing import Tuple\n",
    "\n",
    "def embeddings_features(features, emb_vector_size=10, col=\"comments\") -> Tuple[pd.DataFrame, Word2Vec]:\n",
    "\n",
    "    print(\"Creating model...\")\n",
    "    model = Word2Vec(df[col].to_list(), \n",
    "            min_count=1,\n",
    "            vector_size=emb_vector_size,\n",
    "            workers=3, \n",
    "            window=3, \n",
    "            sg=1\n",
    "        )\n",
    "    \n",
    "    # generate embeddings\n",
    "    print(\"Generating embeddings...\")\n",
    "    get_review_embeddings = lambda review: np.mean([model.wv[word] for word in review if word in model.wv], axis=0)\n",
    "    embeddings = np.array([get_review_embeddings(review) for review in df[col].to_list()])\n",
    "    \n",
    "    for i in range(embeddings.shape[1]):\n",
    "        features[f\"embedding_{col}_{i}\"] = embeddings[:, i]\n",
    "    \n",
    "    return features, model"
   ]
  },
  {
   "attachments": {},
   "cell_type": "markdown",
   "metadata": {},
   "source": [
    "# Generate Features"
   ]
  },
  {
   "attachments": {},
   "cell_type": "markdown",
   "metadata": {},
   "source": [
    "With what we know, let's generate some features. I've provided a function for each type of feature, so we can mix and match."
   ]
  },
  {
   "cell_type": "code",
   "execution_count": 30,
   "metadata": {},
   "outputs": [
    {
     "name": "stdout",
     "output_type": "stream",
     "text": [
      "Creating model...\n",
      "Generating embeddings...\n",
      "Creating model...\n",
      "Generating embeddings...\n",
      "Features above correlation threshold (0.09):\n",
      "['3gram09_would_not_recommend', '3gram09_no_toilet_paper', '3gram09_not_recommend_staying', '3gram09_could_not_access', '3gram09_per_night_not', '3gram09_very_old_not', '3gram09_call_text_message', '3gram09_phone_call_text', '3gram09_left_first_night', '3gram09_old_not_well', '3gram09_worse_experience_ever', '3gram09_refund_second_night', '3gram09_paid_two_night', '3gram09_expected_based_description', '3gram09_need_deep_cleaning', '3gram09_not_really_clean', '3gram09_got_no_response', '3gram09_toilet_paper_buy', '3gram09_never_met_host', '3gram09_property_management_company', '3gram09_nothing_like_picture', '3gram09_freezer_not_work', '3gram09_obviously_not_cleaned', '3gram09_shower_curtain_covered', '3gram09_never_responded_message', '3gram09_not_clean_arrived', '3gram09_not_feel_comfortable', '3gram09_very_bad_shape', '3gram09_start_good_thing', '3gram09_got_no_answer', '3gram09_time_opened_door', '3gram09_spend_lot_time', '3gram09_living_room_couch', '3gram09_write_negative_review', '3gram09_need_major_overhaul', '3gram09_sleep_bedroom_door', '3gram09_guest_not_able', '3gram09_take_cold_shower', '3gram09_place_sleep_10', '3gram09_staying_another_unit', '3gram09_told_cleaning_lady', '3gram09_big_issue_u', '3gram09_let_start_saying', '3gram09_felt_compelled_write']\n",
      "Features above correlation threshold (0.1):\n",
      "['3gram10_would_not_recommend', '3gram10_no_toilet_paper']\n",
      "Adding amenities features...\n",
      "Features above correlation threshold (0.05):\n",
      "['lockbox', 'dishwasher', 'pool', 'stove', 'keypad', 'bathtub', 'kitchen', 'balcony', 'shampoo', 'garden', 'cat', 'family', 'breakfast']\n",
      "Adding amenities features...\n",
      "(1629, 112)\n"
     ]
    },
    {
     "data": {
      "text/html": [
       "<div>\n",
       "<style scoped>\n",
       "    .dataframe tbody tr th:only-of-type {\n",
       "        vertical-align: middle;\n",
       "    }\n",
       "\n",
       "    .dataframe tbody tr th {\n",
       "        vertical-align: top;\n",
       "    }\n",
       "\n",
       "    .dataframe thead th {\n",
       "        text-align: right;\n",
       "    }\n",
       "</style>\n",
       "<table border=\"1\" class=\"dataframe\">\n",
       "  <thead>\n",
       "    <tr style=\"text-align: right;\">\n",
       "      <th></th>\n",
       "      <th>embedding_comments_0</th>\n",
       "      <th>embedding_comments_1</th>\n",
       "      <th>embedding_comments_2</th>\n",
       "      <th>embedding_comments_3</th>\n",
       "      <th>embedding_comments_4</th>\n",
       "      <th>embedding_comments_5</th>\n",
       "      <th>embedding_comments_6</th>\n",
       "      <th>embedding_comments_7</th>\n",
       "      <th>embedding_comments_8</th>\n",
       "      <th>embedding_comments_9</th>\n",
       "      <th>...</th>\n",
       "      <th>amenityall_silverware</th>\n",
       "      <th>amenityall_bathtub</th>\n",
       "      <th>amenityall_lockbox</th>\n",
       "      <th>amenityall_crib</th>\n",
       "      <th>amenityall_elevator</th>\n",
       "      <th>amenityall_gym</th>\n",
       "      <th>amenityall_oven</th>\n",
       "      <th>amenityall_toilet</th>\n",
       "      <th>review_id</th>\n",
       "      <th>label</th>\n",
       "    </tr>\n",
       "  </thead>\n",
       "  <tbody>\n",
       "    <tr>\n",
       "      <th>0</th>\n",
       "      <td>0.172036</td>\n",
       "      <td>-0.637597</td>\n",
       "      <td>0.612706</td>\n",
       "      <td>-0.143775</td>\n",
       "      <td>0.107823</td>\n",
       "      <td>-0.262747</td>\n",
       "      <td>0.943272</td>\n",
       "      <td>1.330471</td>\n",
       "      <td>-0.957359</td>\n",
       "      <td>-0.665829</td>\n",
       "      <td>...</td>\n",
       "      <td>0.0</td>\n",
       "      <td>0.0</td>\n",
       "      <td>0.0</td>\n",
       "      <td>0.0</td>\n",
       "      <td>0.0</td>\n",
       "      <td>0.0</td>\n",
       "      <td>0.0</td>\n",
       "      <td>0.0</td>\n",
       "      <td>83097</td>\n",
       "      <td>good</td>\n",
       "    </tr>\n",
       "    <tr>\n",
       "      <th>1</th>\n",
       "      <td>0.167699</td>\n",
       "      <td>-0.565300</td>\n",
       "      <td>0.554699</td>\n",
       "      <td>-0.221078</td>\n",
       "      <td>0.188650</td>\n",
       "      <td>-0.428980</td>\n",
       "      <td>0.800810</td>\n",
       "      <td>1.322331</td>\n",
       "      <td>-0.830094</td>\n",
       "      <td>-0.906980</td>\n",
       "      <td>...</td>\n",
       "      <td>0.0</td>\n",
       "      <td>0.0</td>\n",
       "      <td>0.0</td>\n",
       "      <td>0.0</td>\n",
       "      <td>0.0</td>\n",
       "      <td>0.0</td>\n",
       "      <td>0.0</td>\n",
       "      <td>0.0</td>\n",
       "      <td>133337</td>\n",
       "      <td>good</td>\n",
       "    </tr>\n",
       "    <tr>\n",
       "      <th>2</th>\n",
       "      <td>0.087849</td>\n",
       "      <td>-0.681386</td>\n",
       "      <td>0.636865</td>\n",
       "      <td>-0.132271</td>\n",
       "      <td>0.068009</td>\n",
       "      <td>-0.221255</td>\n",
       "      <td>1.035058</td>\n",
       "      <td>1.249915</td>\n",
       "      <td>-1.004797</td>\n",
       "      <td>-0.703693</td>\n",
       "      <td>...</td>\n",
       "      <td>0.0</td>\n",
       "      <td>0.0</td>\n",
       "      <td>0.0</td>\n",
       "      <td>0.0</td>\n",
       "      <td>0.0</td>\n",
       "      <td>0.0</td>\n",
       "      <td>0.0</td>\n",
       "      <td>0.0</td>\n",
       "      <td>150928</td>\n",
       "      <td>good</td>\n",
       "    </tr>\n",
       "    <tr>\n",
       "      <th>3</th>\n",
       "      <td>0.094300</td>\n",
       "      <td>-0.676064</td>\n",
       "      <td>0.689126</td>\n",
       "      <td>-0.222929</td>\n",
       "      <td>0.110279</td>\n",
       "      <td>-0.348316</td>\n",
       "      <td>0.964549</td>\n",
       "      <td>1.553874</td>\n",
       "      <td>-0.992685</td>\n",
       "      <td>-0.720572</td>\n",
       "      <td>...</td>\n",
       "      <td>0.0</td>\n",
       "      <td>0.0</td>\n",
       "      <td>0.0</td>\n",
       "      <td>0.0</td>\n",
       "      <td>0.0</td>\n",
       "      <td>0.0</td>\n",
       "      <td>0.0</td>\n",
       "      <td>0.0</td>\n",
       "      <td>2706775</td>\n",
       "      <td>good</td>\n",
       "    </tr>\n",
       "    <tr>\n",
       "      <th>4</th>\n",
       "      <td>0.176663</td>\n",
       "      <td>-0.511448</td>\n",
       "      <td>0.665672</td>\n",
       "      <td>-0.197158</td>\n",
       "      <td>0.054050</td>\n",
       "      <td>-0.158278</td>\n",
       "      <td>0.949448</td>\n",
       "      <td>1.282783</td>\n",
       "      <td>-0.942654</td>\n",
       "      <td>-0.670050</td>\n",
       "      <td>...</td>\n",
       "      <td>0.0</td>\n",
       "      <td>0.0</td>\n",
       "      <td>0.0</td>\n",
       "      <td>0.0</td>\n",
       "      <td>0.0</td>\n",
       "      <td>0.0</td>\n",
       "      <td>0.0</td>\n",
       "      <td>0.0</td>\n",
       "      <td>8602878</td>\n",
       "      <td>good</td>\n",
       "    </tr>\n",
       "  </tbody>\n",
       "</table>\n",
       "<p>5 rows × 112 columns</p>\n",
       "</div>"
      ],
      "text/plain": [
       "   embedding_comments_0  embedding_comments_1  embedding_comments_2  \\\n",
       "0              0.172036             -0.637597              0.612706   \n",
       "1              0.167699             -0.565300              0.554699   \n",
       "2              0.087849             -0.681386              0.636865   \n",
       "3              0.094300             -0.676064              0.689126   \n",
       "4              0.176663             -0.511448              0.665672   \n",
       "\n",
       "   embedding_comments_3  embedding_comments_4  embedding_comments_5  \\\n",
       "0             -0.143775              0.107823             -0.262747   \n",
       "1             -0.221078              0.188650             -0.428980   \n",
       "2             -0.132271              0.068009             -0.221255   \n",
       "3             -0.222929              0.110279             -0.348316   \n",
       "4             -0.197158              0.054050             -0.158278   \n",
       "\n",
       "   embedding_comments_6  embedding_comments_7  embedding_comments_8  \\\n",
       "0              0.943272              1.330471             -0.957359   \n",
       "1              0.800810              1.322331             -0.830094   \n",
       "2              1.035058              1.249915             -1.004797   \n",
       "3              0.964549              1.553874             -0.992685   \n",
       "4              0.949448              1.282783             -0.942654   \n",
       "\n",
       "   embedding_comments_9  ...  amenityall_silverware  amenityall_bathtub  \\\n",
       "0             -0.665829  ...                    0.0                 0.0   \n",
       "1             -0.906980  ...                    0.0                 0.0   \n",
       "2             -0.703693  ...                    0.0                 0.0   \n",
       "3             -0.720572  ...                    0.0                 0.0   \n",
       "4             -0.670050  ...                    0.0                 0.0   \n",
       "\n",
       "   amenityall_lockbox  amenityall_crib  amenityall_elevator  amenityall_gym  \\\n",
       "0                 0.0              0.0                  0.0             0.0   \n",
       "1                 0.0              0.0                  0.0             0.0   \n",
       "2                 0.0              0.0                  0.0             0.0   \n",
       "3                 0.0              0.0                  0.0             0.0   \n",
       "4                 0.0              0.0                  0.0             0.0   \n",
       "\n",
       "   amenityall_oven  amenityall_toilet  review_id  label  \n",
       "0              0.0                0.0      83097   good  \n",
       "1              0.0                0.0     133337   good  \n",
       "2              0.0                0.0     150928   good  \n",
       "3              0.0                0.0    2706775   good  \n",
       "4              0.0                0.0    8602878   good  \n",
       "\n",
       "[5 rows x 112 columns]"
      ]
     },
     "execution_count": 30,
     "metadata": {},
     "output_type": "execute_result"
    }
   ],
   "source": [
    "features = pd.DataFrame()\n",
    "\n",
    "# get the embeddings\n",
    "embeddings_comments, w2vmodel_comments = embeddings_features(features, col=\"comments\", emb_vector_size=10)\n",
    "embeddings_description, w2vmodel_description = embeddings_features(features, col=\"description\", emb_vector_size=10)\n",
    "features = pd.concat([features, embeddings_comments, embeddings_description], axis=1)\n",
    "\n",
    "# for some reason there are duplicate columns after this. Remove them.\n",
    "features = features.loc[:,~features.columns.duplicated()].copy()\n",
    "\n",
    "# get 3-grams with 0.09  and 0.1 correlation thresholds\n",
    "features = ngrams_features(features, n=3, corr_thresh=0.09, prefix=\"3gram09_\")\n",
    "features = ngrams_features(features, n=3, corr_thresh=0.1, prefix=\"3gram10_\")\n",
    "\n",
    "# get the amenities\n",
    "features = amenities_features(features, corr_thresh=0.05, prefix=\"amenity005_\")\n",
    "features = amenities_features(features, corr_thresh=None, prefix=\"amenityall_\")\n",
    "\n",
    "# fill missing values with 0\n",
    "features = features.fillna(0)\n",
    "\n",
    "features[\"review_id\"] = df.review_id\n",
    "features[\"label\"] = df.label\n",
    "\n",
    "print(features.shape)\n",
    "\n",
    "features.head()"
   ]
  },
  {
   "attachments": {},
   "cell_type": "markdown",
   "metadata": {},
   "source": [
    "## Save the features"
   ]
  },
  {
   "attachments": {},
   "cell_type": "markdown",
   "metadata": {},
   "source": [
    "Here we will save the features to a csv. We will also save the trained word2vec model, so we can use it later."
   ]
  },
  {
   "cell_type": "code",
   "execution_count": 22,
   "metadata": {},
   "outputs": [],
   "source": [
    "# drop the emeddings features\n",
    "# embd_cols = [col for col in features.columns if \"embedding_\" in col]\n",
    "# features = features.drop(embd_cols, axis=1)"
   ]
  },
  {
   "cell_type": "code",
   "execution_count": 33,
   "metadata": {},
   "outputs": [],
   "source": [
    "if isinstance(GEO, list):\n",
    "    geo_display_name = \"_\".join(GEO)\n",
    "else:\n",
    "    geo_display_name = GEO\n",
    "\n",
    "features.to_csv(f\"../../data/processed/features_{geo_display_name}_no_tsne_no_doubles.csv\", index=False)"
   ]
  },
  {
   "cell_type": "code",
   "execution_count": 34,
   "metadata": {},
   "outputs": [],
   "source": [
    "# save the w2v models\n",
    "w2vmodel_comments.save(f\"../../models/w2vmodel_comments_{geo_display_name}_no_tsne.model\")\n",
    "w2vmodel_description.save(f\"../../models/w2vmodel_description_{geo_display_name}_no_tsne.model\")"
   ]
  },
  {
   "cell_type": "code",
   "execution_count": null,
   "metadata": {},
   "outputs": [],
   "source": []
  }
 ],
 "metadata": {
  "kernelspec": {
   "display_name": "venv",
   "language": "python",
   "name": "python3"
  },
  "language_info": {
   "codemirror_mode": {
    "name": "ipython",
    "version": 3
   },
   "file_extension": ".py",
   "mimetype": "text/x-python",
   "name": "python",
   "nbconvert_exporter": "python",
   "pygments_lexer": "ipython3",
   "version": "3.10.4"
  },
  "orig_nbformat": 4,
  "vscode": {
   "interpreter": {
    "hash": "cf086def782804284d24881115c612afdcc8ea791299ba67855f0c7f1a9ccc5a"
   }
  }
 },
 "nbformat": 4,
 "nbformat_minor": 2
}
