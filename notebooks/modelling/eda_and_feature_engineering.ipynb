{
 "cells": [
  {
   "attachments": {},
   "cell_type": "markdown",
   "metadata": {},
   "source": [
    "## EDA and Feature Engineering on the processed dataset"
   ]
  },
  {
   "cell_type": "code",
   "execution_count": 1,
   "metadata": {},
   "outputs": [],
   "source": [
    "import pandas as pd\n",
    "import numpy as np\n",
    "import matplotlib.pyplot as plt\n",
    "import plotly.express as px"
   ]
  },
  {
   "cell_type": "code",
   "execution_count": 2,
   "metadata": {},
   "outputs": [
    {
     "name": "stdout",
     "output_type": "stream",
     "text": [
      "(978, 8)\n"
     ]
    },
    {
     "data": {
      "text/html": [
       "<div>\n",
       "<style scoped>\n",
       "    .dataframe tbody tr th:only-of-type {\n",
       "        vertical-align: middle;\n",
       "    }\n",
       "\n",
       "    .dataframe tbody tr th {\n",
       "        vertical-align: top;\n",
       "    }\n",
       "\n",
       "    .dataframe thead th {\n",
       "        text-align: right;\n",
       "    }\n",
       "</style>\n",
       "<table border=\"1\" class=\"dataframe\">\n",
       "  <thead>\n",
       "    <tr style=\"text-align: right;\">\n",
       "      <th></th>\n",
       "      <th>review_id</th>\n",
       "      <th>listing_id</th>\n",
       "      <th>description</th>\n",
       "      <th>comments</th>\n",
       "      <th>sentiment</th>\n",
       "      <th>label</th>\n",
       "      <th>name</th>\n",
       "      <th>amenities</th>\n",
       "    </tr>\n",
       "  </thead>\n",
       "  <tbody>\n",
       "    <tr>\n",
       "      <th>0</th>\n",
       "      <td>83097</td>\n",
       "      <td>5456</td>\n",
       "      <td>[fabulous, location, walking, convention, cent...</td>\n",
       "      <td>[sylvia, very, nice, informal, relaxed, arrive...</td>\n",
       "      <td>4.333333</td>\n",
       "      <td>good</td>\n",
       "      <td>['walk', '6th', 'rainey', 'st', 'convention', ...</td>\n",
       "      <td>['TV', 'Wifi', 'Air conditioning', 'Kitchen', ...</td>\n",
       "    </tr>\n",
       "    <tr>\n",
       "      <th>1</th>\n",
       "      <td>133337</td>\n",
       "      <td>5456</td>\n",
       "      <td>[fabulous, location, walking, convention, cent...</td>\n",
       "      <td>[sylvia, picked, airport, gave, beautiful, eve...</td>\n",
       "      <td>4.000000</td>\n",
       "      <td>good</td>\n",
       "      <td>['walk', '6th', 'rainey', 'st', 'convention', ...</td>\n",
       "      <td>['TV', 'Wifi', 'Air conditioning', 'Kitchen', ...</td>\n",
       "    </tr>\n",
       "    <tr>\n",
       "      <th>2</th>\n",
       "      <td>150928</td>\n",
       "      <td>5456</td>\n",
       "      <td>[fabulous, location, walking, convention, cent...</td>\n",
       "      <td>[lovely, time, enjoyed, apartment, clean, spac...</td>\n",
       "      <td>3.000000</td>\n",
       "      <td>good</td>\n",
       "      <td>['walk', '6th', 'rainey', 'st', 'convention', ...</td>\n",
       "      <td>['TV', 'Wifi', 'Air conditioning', 'Kitchen', ...</td>\n",
       "    </tr>\n",
       "    <tr>\n",
       "      <th>3</th>\n",
       "      <td>2706775</td>\n",
       "      <td>5456</td>\n",
       "      <td>[fabulous, location, walking, convention, cent...</td>\n",
       "      <td>[sylvia, excellent, host, stayed, touch, made,...</td>\n",
       "      <td>4.500000</td>\n",
       "      <td>good</td>\n",
       "      <td>['walk', '6th', 'rainey', 'st', 'convention', ...</td>\n",
       "      <td>['TV', 'Wifi', 'Air conditioning', 'Kitchen', ...</td>\n",
       "    </tr>\n",
       "    <tr>\n",
       "      <th>4</th>\n",
       "      <td>8602878</td>\n",
       "      <td>5456</td>\n",
       "      <td>[fabulous, location, walking, convention, cent...</td>\n",
       "      <td>[place, cute, little, self, contained, cottage...</td>\n",
       "      <td>4.000000</td>\n",
       "      <td>good</td>\n",
       "      <td>['walk', '6th', 'rainey', 'st', 'convention', ...</td>\n",
       "      <td>['TV', 'Wifi', 'Air conditioning', 'Kitchen', ...</td>\n",
       "    </tr>\n",
       "  </tbody>\n",
       "</table>\n",
       "</div>"
      ],
      "text/plain": [
       "   review_id  listing_id                                        description  \\\n",
       "0      83097        5456  [fabulous, location, walking, convention, cent...   \n",
       "1     133337        5456  [fabulous, location, walking, convention, cent...   \n",
       "2     150928        5456  [fabulous, location, walking, convention, cent...   \n",
       "3    2706775        5456  [fabulous, location, walking, convention, cent...   \n",
       "4    8602878        5456  [fabulous, location, walking, convention, cent...   \n",
       "\n",
       "                                            comments  sentiment label  \\\n",
       "0  [sylvia, very, nice, informal, relaxed, arrive...   4.333333  good   \n",
       "1  [sylvia, picked, airport, gave, beautiful, eve...   4.000000  good   \n",
       "2  [lovely, time, enjoyed, apartment, clean, spac...   3.000000  good   \n",
       "3  [sylvia, excellent, host, stayed, touch, made,...   4.500000  good   \n",
       "4  [place, cute, little, self, contained, cottage...   4.000000  good   \n",
       "\n",
       "                                                name  \\\n",
       "0  ['walk', '6th', 'rainey', 'st', 'convention', ...   \n",
       "1  ['walk', '6th', 'rainey', 'st', 'convention', ...   \n",
       "2  ['walk', '6th', 'rainey', 'st', 'convention', ...   \n",
       "3  ['walk', '6th', 'rainey', 'st', 'convention', ...   \n",
       "4  ['walk', '6th', 'rainey', 'st', 'convention', ...   \n",
       "\n",
       "                                           amenities  \n",
       "0  ['TV', 'Wifi', 'Air conditioning', 'Kitchen', ...  \n",
       "1  ['TV', 'Wifi', 'Air conditioning', 'Kitchen', ...  \n",
       "2  ['TV', 'Wifi', 'Air conditioning', 'Kitchen', ...  \n",
       "3  ['TV', 'Wifi', 'Air conditioning', 'Kitchen', ...  \n",
       "4  ['TV', 'Wifi', 'Air conditioning', 'Kitchen', ...  "
      ]
     },
     "execution_count": 2,
     "metadata": {},
     "output_type": "execute_result"
    }
   ],
   "source": [
    "# Read in the data\n",
    "GEO = \"texas\"\n",
    "\n",
    "if isinstance(GEO, str):\n",
    "    df = pd.read_csv(f\"../../data/processed/{GEO}_processed.csv\")\n",
    "elif isinstance(GEO, list):\n",
    "    dfs = []\n",
    "    for geo in GEO:\n",
    "        df = pd.read_csv(f\"../../data/processed/{geo}_processed.csv\")\n",
    "        dfs.append(df)\n",
    "    df = pd.concat(dfs)\n",
    "\n",
    "df.description = df.description.apply(lambda x: eval(x))\n",
    "df.comments = df.comments.apply(lambda x: eval(x))\n",
    "\n",
    "print(df.shape)\n",
    "df.head()"
   ]
  },
  {
   "attachments": {},
   "cell_type": "markdown",
   "metadata": {},
   "source": [
    "### Distribution of labels"
   ]
  },
  {
   "attachments": {},
   "cell_type": "markdown",
   "metadata": {},
   "source": [
    "First, let's look at the distribution of labels in the processed dataset."
   ]
  },
  {
   "cell_type": "code",
   "execution_count": 3,
   "metadata": {},
   "outputs": [
    {
     "name": "stdout",
     "output_type": "stream",
     "text": [
      "mbad: 7.36%, mgood: 6.54%, mbad or mgood: 13.91%\n"
     ]
    },
    {
     "data": {
      "application/vnd.plotly.v1+json": {
       "config": {
        "plotlyServerURL": "https://plot.ly"
       },
       "data": [
        {
         "alignmentgroup": "True",
         "hovertemplate": "Label=%{x}<br>Count=%{y}<extra></extra>",
         "legendgroup": "",
         "marker": {
          "color": "#636efa",
          "pattern": {
           "shape": ""
          }
         },
         "name": "",
         "offsetgroup": "",
         "orientation": "v",
         "showlegend": false,
         "textposition": "auto",
         "type": "bar",
         "x": [
          "good",
          "mbad",
          "mgood",
          "bad"
         ],
         "xaxis": "x",
         "y": [
          813,
          72,
          64,
          29
         ],
         "yaxis": "y"
        }
       ],
       "layout": {
        "barmode": "relative",
        "legend": {
         "tracegroupgap": 0
        },
        "template": {
         "data": {
          "bar": [
           {
            "error_x": {
             "color": "#2a3f5f"
            },
            "error_y": {
             "color": "#2a3f5f"
            },
            "marker": {
             "line": {
              "color": "#E5ECF6",
              "width": 0.5
             },
             "pattern": {
              "fillmode": "overlay",
              "size": 10,
              "solidity": 0.2
             }
            },
            "type": "bar"
           }
          ],
          "barpolar": [
           {
            "marker": {
             "line": {
              "color": "#E5ECF6",
              "width": 0.5
             },
             "pattern": {
              "fillmode": "overlay",
              "size": 10,
              "solidity": 0.2
             }
            },
            "type": "barpolar"
           }
          ],
          "carpet": [
           {
            "aaxis": {
             "endlinecolor": "#2a3f5f",
             "gridcolor": "white",
             "linecolor": "white",
             "minorgridcolor": "white",
             "startlinecolor": "#2a3f5f"
            },
            "baxis": {
             "endlinecolor": "#2a3f5f",
             "gridcolor": "white",
             "linecolor": "white",
             "minorgridcolor": "white",
             "startlinecolor": "#2a3f5f"
            },
            "type": "carpet"
           }
          ],
          "choropleth": [
           {
            "colorbar": {
             "outlinewidth": 0,
             "ticks": ""
            },
            "type": "choropleth"
           }
          ],
          "contour": [
           {
            "colorbar": {
             "outlinewidth": 0,
             "ticks": ""
            },
            "colorscale": [
             [
              0,
              "#0d0887"
             ],
             [
              0.1111111111111111,
              "#46039f"
             ],
             [
              0.2222222222222222,
              "#7201a8"
             ],
             [
              0.3333333333333333,
              "#9c179e"
             ],
             [
              0.4444444444444444,
              "#bd3786"
             ],
             [
              0.5555555555555556,
              "#d8576b"
             ],
             [
              0.6666666666666666,
              "#ed7953"
             ],
             [
              0.7777777777777778,
              "#fb9f3a"
             ],
             [
              0.8888888888888888,
              "#fdca26"
             ],
             [
              1,
              "#f0f921"
             ]
            ],
            "type": "contour"
           }
          ],
          "contourcarpet": [
           {
            "colorbar": {
             "outlinewidth": 0,
             "ticks": ""
            },
            "type": "contourcarpet"
           }
          ],
          "heatmap": [
           {
            "colorbar": {
             "outlinewidth": 0,
             "ticks": ""
            },
            "colorscale": [
             [
              0,
              "#0d0887"
             ],
             [
              0.1111111111111111,
              "#46039f"
             ],
             [
              0.2222222222222222,
              "#7201a8"
             ],
             [
              0.3333333333333333,
              "#9c179e"
             ],
             [
              0.4444444444444444,
              "#bd3786"
             ],
             [
              0.5555555555555556,
              "#d8576b"
             ],
             [
              0.6666666666666666,
              "#ed7953"
             ],
             [
              0.7777777777777778,
              "#fb9f3a"
             ],
             [
              0.8888888888888888,
              "#fdca26"
             ],
             [
              1,
              "#f0f921"
             ]
            ],
            "type": "heatmap"
           }
          ],
          "heatmapgl": [
           {
            "colorbar": {
             "outlinewidth": 0,
             "ticks": ""
            },
            "colorscale": [
             [
              0,
              "#0d0887"
             ],
             [
              0.1111111111111111,
              "#46039f"
             ],
             [
              0.2222222222222222,
              "#7201a8"
             ],
             [
              0.3333333333333333,
              "#9c179e"
             ],
             [
              0.4444444444444444,
              "#bd3786"
             ],
             [
              0.5555555555555556,
              "#d8576b"
             ],
             [
              0.6666666666666666,
              "#ed7953"
             ],
             [
              0.7777777777777778,
              "#fb9f3a"
             ],
             [
              0.8888888888888888,
              "#fdca26"
             ],
             [
              1,
              "#f0f921"
             ]
            ],
            "type": "heatmapgl"
           }
          ],
          "histogram": [
           {
            "marker": {
             "pattern": {
              "fillmode": "overlay",
              "size": 10,
              "solidity": 0.2
             }
            },
            "type": "histogram"
           }
          ],
          "histogram2d": [
           {
            "colorbar": {
             "outlinewidth": 0,
             "ticks": ""
            },
            "colorscale": [
             [
              0,
              "#0d0887"
             ],
             [
              0.1111111111111111,
              "#46039f"
             ],
             [
              0.2222222222222222,
              "#7201a8"
             ],
             [
              0.3333333333333333,
              "#9c179e"
             ],
             [
              0.4444444444444444,
              "#bd3786"
             ],
             [
              0.5555555555555556,
              "#d8576b"
             ],
             [
              0.6666666666666666,
              "#ed7953"
             ],
             [
              0.7777777777777778,
              "#fb9f3a"
             ],
             [
              0.8888888888888888,
              "#fdca26"
             ],
             [
              1,
              "#f0f921"
             ]
            ],
            "type": "histogram2d"
           }
          ],
          "histogram2dcontour": [
           {
            "colorbar": {
             "outlinewidth": 0,
             "ticks": ""
            },
            "colorscale": [
             [
              0,
              "#0d0887"
             ],
             [
              0.1111111111111111,
              "#46039f"
             ],
             [
              0.2222222222222222,
              "#7201a8"
             ],
             [
              0.3333333333333333,
              "#9c179e"
             ],
             [
              0.4444444444444444,
              "#bd3786"
             ],
             [
              0.5555555555555556,
              "#d8576b"
             ],
             [
              0.6666666666666666,
              "#ed7953"
             ],
             [
              0.7777777777777778,
              "#fb9f3a"
             ],
             [
              0.8888888888888888,
              "#fdca26"
             ],
             [
              1,
              "#f0f921"
             ]
            ],
            "type": "histogram2dcontour"
           }
          ],
          "mesh3d": [
           {
            "colorbar": {
             "outlinewidth": 0,
             "ticks": ""
            },
            "type": "mesh3d"
           }
          ],
          "parcoords": [
           {
            "line": {
             "colorbar": {
              "outlinewidth": 0,
              "ticks": ""
             }
            },
            "type": "parcoords"
           }
          ],
          "pie": [
           {
            "automargin": true,
            "type": "pie"
           }
          ],
          "scatter": [
           {
            "fillpattern": {
             "fillmode": "overlay",
             "size": 10,
             "solidity": 0.2
            },
            "type": "scatter"
           }
          ],
          "scatter3d": [
           {
            "line": {
             "colorbar": {
              "outlinewidth": 0,
              "ticks": ""
             }
            },
            "marker": {
             "colorbar": {
              "outlinewidth": 0,
              "ticks": ""
             }
            },
            "type": "scatter3d"
           }
          ],
          "scattercarpet": [
           {
            "marker": {
             "colorbar": {
              "outlinewidth": 0,
              "ticks": ""
             }
            },
            "type": "scattercarpet"
           }
          ],
          "scattergeo": [
           {
            "marker": {
             "colorbar": {
              "outlinewidth": 0,
              "ticks": ""
             }
            },
            "type": "scattergeo"
           }
          ],
          "scattergl": [
           {
            "marker": {
             "colorbar": {
              "outlinewidth": 0,
              "ticks": ""
             }
            },
            "type": "scattergl"
           }
          ],
          "scattermapbox": [
           {
            "marker": {
             "colorbar": {
              "outlinewidth": 0,
              "ticks": ""
             }
            },
            "type": "scattermapbox"
           }
          ],
          "scatterpolar": [
           {
            "marker": {
             "colorbar": {
              "outlinewidth": 0,
              "ticks": ""
             }
            },
            "type": "scatterpolar"
           }
          ],
          "scatterpolargl": [
           {
            "marker": {
             "colorbar": {
              "outlinewidth": 0,
              "ticks": ""
             }
            },
            "type": "scatterpolargl"
           }
          ],
          "scatterternary": [
           {
            "marker": {
             "colorbar": {
              "outlinewidth": 0,
              "ticks": ""
             }
            },
            "type": "scatterternary"
           }
          ],
          "surface": [
           {
            "colorbar": {
             "outlinewidth": 0,
             "ticks": ""
            },
            "colorscale": [
             [
              0,
              "#0d0887"
             ],
             [
              0.1111111111111111,
              "#46039f"
             ],
             [
              0.2222222222222222,
              "#7201a8"
             ],
             [
              0.3333333333333333,
              "#9c179e"
             ],
             [
              0.4444444444444444,
              "#bd3786"
             ],
             [
              0.5555555555555556,
              "#d8576b"
             ],
             [
              0.6666666666666666,
              "#ed7953"
             ],
             [
              0.7777777777777778,
              "#fb9f3a"
             ],
             [
              0.8888888888888888,
              "#fdca26"
             ],
             [
              1,
              "#f0f921"
             ]
            ],
            "type": "surface"
           }
          ],
          "table": [
           {
            "cells": {
             "fill": {
              "color": "#EBF0F8"
             },
             "line": {
              "color": "white"
             }
            },
            "header": {
             "fill": {
              "color": "#C8D4E3"
             },
             "line": {
              "color": "white"
             }
            },
            "type": "table"
           }
          ]
         },
         "layout": {
          "annotationdefaults": {
           "arrowcolor": "#2a3f5f",
           "arrowhead": 0,
           "arrowwidth": 1
          },
          "autotypenumbers": "strict",
          "coloraxis": {
           "colorbar": {
            "outlinewidth": 0,
            "ticks": ""
           }
          },
          "colorscale": {
           "diverging": [
            [
             0,
             "#8e0152"
            ],
            [
             0.1,
             "#c51b7d"
            ],
            [
             0.2,
             "#de77ae"
            ],
            [
             0.3,
             "#f1b6da"
            ],
            [
             0.4,
             "#fde0ef"
            ],
            [
             0.5,
             "#f7f7f7"
            ],
            [
             0.6,
             "#e6f5d0"
            ],
            [
             0.7,
             "#b8e186"
            ],
            [
             0.8,
             "#7fbc41"
            ],
            [
             0.9,
             "#4d9221"
            ],
            [
             1,
             "#276419"
            ]
           ],
           "sequential": [
            [
             0,
             "#0d0887"
            ],
            [
             0.1111111111111111,
             "#46039f"
            ],
            [
             0.2222222222222222,
             "#7201a8"
            ],
            [
             0.3333333333333333,
             "#9c179e"
            ],
            [
             0.4444444444444444,
             "#bd3786"
            ],
            [
             0.5555555555555556,
             "#d8576b"
            ],
            [
             0.6666666666666666,
             "#ed7953"
            ],
            [
             0.7777777777777778,
             "#fb9f3a"
            ],
            [
             0.8888888888888888,
             "#fdca26"
            ],
            [
             1,
             "#f0f921"
            ]
           ],
           "sequentialminus": [
            [
             0,
             "#0d0887"
            ],
            [
             0.1111111111111111,
             "#46039f"
            ],
            [
             0.2222222222222222,
             "#7201a8"
            ],
            [
             0.3333333333333333,
             "#9c179e"
            ],
            [
             0.4444444444444444,
             "#bd3786"
            ],
            [
             0.5555555555555556,
             "#d8576b"
            ],
            [
             0.6666666666666666,
             "#ed7953"
            ],
            [
             0.7777777777777778,
             "#fb9f3a"
            ],
            [
             0.8888888888888888,
             "#fdca26"
            ],
            [
             1,
             "#f0f921"
            ]
           ]
          },
          "colorway": [
           "#636efa",
           "#EF553B",
           "#00cc96",
           "#ab63fa",
           "#FFA15A",
           "#19d3f3",
           "#FF6692",
           "#B6E880",
           "#FF97FF",
           "#FECB52"
          ],
          "font": {
           "color": "#2a3f5f"
          },
          "geo": {
           "bgcolor": "white",
           "lakecolor": "white",
           "landcolor": "#E5ECF6",
           "showlakes": true,
           "showland": true,
           "subunitcolor": "white"
          },
          "hoverlabel": {
           "align": "left"
          },
          "hovermode": "closest",
          "mapbox": {
           "style": "light"
          },
          "paper_bgcolor": "white",
          "plot_bgcolor": "#E5ECF6",
          "polar": {
           "angularaxis": {
            "gridcolor": "white",
            "linecolor": "white",
            "ticks": ""
           },
           "bgcolor": "#E5ECF6",
           "radialaxis": {
            "gridcolor": "white",
            "linecolor": "white",
            "ticks": ""
           }
          },
          "scene": {
           "xaxis": {
            "backgroundcolor": "#E5ECF6",
            "gridcolor": "white",
            "gridwidth": 2,
            "linecolor": "white",
            "showbackground": true,
            "ticks": "",
            "zerolinecolor": "white"
           },
           "yaxis": {
            "backgroundcolor": "#E5ECF6",
            "gridcolor": "white",
            "gridwidth": 2,
            "linecolor": "white",
            "showbackground": true,
            "ticks": "",
            "zerolinecolor": "white"
           },
           "zaxis": {
            "backgroundcolor": "#E5ECF6",
            "gridcolor": "white",
            "gridwidth": 2,
            "linecolor": "white",
            "showbackground": true,
            "ticks": "",
            "zerolinecolor": "white"
           }
          },
          "shapedefaults": {
           "line": {
            "color": "#2a3f5f"
           }
          },
          "ternary": {
           "aaxis": {
            "gridcolor": "white",
            "linecolor": "white",
            "ticks": ""
           },
           "baxis": {
            "gridcolor": "white",
            "linecolor": "white",
            "ticks": ""
           },
           "bgcolor": "#E5ECF6",
           "caxis": {
            "gridcolor": "white",
            "linecolor": "white",
            "ticks": ""
           }
          },
          "title": {
           "x": 0.05
          },
          "xaxis": {
           "automargin": true,
           "gridcolor": "white",
           "linecolor": "white",
           "ticks": "",
           "title": {
            "standoff": 15
           },
           "zerolinecolor": "white",
           "zerolinewidth": 2
          },
          "yaxis": {
           "automargin": true,
           "gridcolor": "white",
           "linecolor": "white",
           "ticks": "",
           "title": {
            "standoff": 15
           },
           "zerolinecolor": "white",
           "zerolinewidth": 2
          }
         }
        },
        "title": {
         "text": "Distribution of labels (GEO=texas)"
        },
        "xaxis": {
         "anchor": "y",
         "domain": [
          0,
          1
         ],
         "title": {
          "text": "Label"
         }
        },
        "yaxis": {
         "anchor": "x",
         "domain": [
          0,
          1
         ],
         "title": {
          "text": "Count"
         }
        }
       }
      }
     },
     "metadata": {},
     "output_type": "display_data"
    }
   ],
   "source": [
    "mbad_pcnt = df[df.label == \"mbad\"].shape[0] / df.shape[0]\n",
    "mgood_pcnt = df[df.label == \"mgood\"].shape[0] / df.shape[0]\n",
    "mbad_or_mgood_pcnt = df[df.label.isin([\"mbad\", \"mgood\"])].shape[0] / df.shape[0]\n",
    "print(\n",
    "    f\"mbad: {mbad_pcnt:.2%}, mgood: {mgood_pcnt:.2%}, mbad or mgood: {mbad_or_mgood_pcnt:.2%}\"\n",
    ")\n",
    "\n",
    "bar_vals = df.label.value_counts()\n",
    "\n",
    "fig = px.bar(\n",
    "    bar_vals,\n",
    "    x=bar_vals.index,\n",
    "    y=bar_vals.values,\n",
    "    title=f\"Distribution of labels (GEO={GEO})\",\n",
    "    labels={\"index\": \"Label\", \"y\": \"Count\"}\n",
    ")\n",
    "\n",
    "fig.show()"
   ]
  },
  {
   "attachments": {},
   "cell_type": "markdown",
   "metadata": {},
   "source": [
    "### Ngrams"
   ]
  },
  {
   "attachments": {},
   "cell_type": "markdown",
   "metadata": {},
   "source": [
    "What are the most common ngrams for the different types of reviews? What are the most common overlaps?"
   ]
  },
  {
   "cell_type": "code",
   "execution_count": 4,
   "metadata": {},
   "outputs": [],
   "source": [
    "def get_consecutive_ngrams(review, n) -> list:\n",
    "    \"\"\"Helper function to get ngrams from a review.\n",
    "\n",
    "    Args:\n",
    "        review (str): The review to get ngrams from.\n",
    "        n (int): The number of ngrams to get.\n",
    "\n",
    "    Returns:\n",
    "        list: the list of ngrams, joined by underscores.\n",
    "    \"\"\"\n",
    "    if isinstance(review, str):\n",
    "        review = review.split(\"\")\n",
    "\n",
    "    return [\"_\".join(review[i:i+n]) for i in range(len(review)-n-1)]\n",
    "\n",
    "def series_to_ngrams(series: pd.Series, N):\n",
    "    n_grams = series.apply(lambda x: get_consecutive_ngrams(x, N))\n",
    "    return n_grams.explode()\n",
    "\n",
    "def get_exclusive_sizes(good: set, bad: set, mgood: set, mbad: set) -> dict:\n",
    "    \"\"\"Get the sizes of the exclusive sets\"\"\"\n",
    "\n",
    "    only_good = good - bad - mgood - mbad\n",
    "    only_bad = bad - good - mgood - mbad\n",
    "    only_mgood = mgood - good - bad - mbad\n",
    "    only_mbad = mbad - good - bad - mgood\n",
    "    \n",
    "    return {\n",
    "        \"good\": len(only_good),\n",
    "        \"bad\": len(only_bad),\n",
    "        \"mgood\": len(only_mgood),\n",
    "        \"mbad\": len(only_mbad)\n",
    "    }"
   ]
  },
  {
   "attachments": {},
   "cell_type": "markdown",
   "metadata": {},
   "source": [
    "We can look at the number of unique values to each label for different values of N on a line chart."
   ]
  },
  {
   "cell_type": "code",
   "execution_count": 5,
   "metadata": {},
   "outputs": [
    {
     "data": {
      "application/vnd.plotly.v1+json": {
       "config": {
        "plotlyServerURL": "https://plot.ly"
       },
       "data": [
        {
         "hovertemplate": "label=bad<br>N-gram size=%{x}<br>Unique # of n-grams=%{y}<extra></extra>",
         "legendgroup": "bad",
         "line": {
          "color": "#636efa",
          "dash": "solid"
         },
         "marker": {
          "symbol": "circle"
         },
         "mode": "markers+lines",
         "name": "bad",
         "orientation": "v",
         "showlegend": true,
         "type": "scatter",
         "x": [
          1,
          2,
          3,
          4,
          5,
          6
         ],
         "xaxis": "x",
         "y": [
          214,
          2751,
          3538,
          3589,
          3566,
          3537
         ],
         "yaxis": "y"
        },
        {
         "hovertemplate": "label=mgood<br>N-gram size=%{x}<br>Unique # of n-grams=%{y}<extra></extra>",
         "legendgroup": "mgood",
         "line": {
          "color": "#EF553B",
          "dash": "solid"
         },
         "marker": {
          "symbol": "circle"
         },
         "mode": "markers+lines",
         "name": "mgood",
         "orientation": "v",
         "showlegend": true,
         "type": "scatter",
         "x": [
          1,
          2,
          3,
          4,
          5,
          6
         ],
         "xaxis": "x",
         "y": [
          208,
          3109,
          4303,
          4403,
          4364,
          4303
         ],
         "yaxis": "y"
        },
        {
         "hovertemplate": "label=mbad<br>N-gram size=%{x}<br>Unique # of n-grams=%{y}<extra></extra>",
         "legendgroup": "mbad",
         "line": {
          "color": "#00cc96",
          "dash": "solid"
         },
         "marker": {
          "symbol": "circle"
         },
         "mode": "markers+lines",
         "name": "mbad",
         "orientation": "v",
         "showlegend": true,
         "type": "scatter",
         "x": [
          1,
          2,
          3,
          4,
          5,
          6
         ],
         "xaxis": "x",
         "y": [
          391,
          4875,
          6352,
          6450,
          6386,
          6315
         ],
         "yaxis": "y"
        }
       ],
       "layout": {
        "legend": {
         "title": {
          "text": "label"
         },
         "tracegroupgap": 0
        },
        "template": {
         "data": {
          "bar": [
           {
            "error_x": {
             "color": "#2a3f5f"
            },
            "error_y": {
             "color": "#2a3f5f"
            },
            "marker": {
             "line": {
              "color": "#E5ECF6",
              "width": 0.5
             },
             "pattern": {
              "fillmode": "overlay",
              "size": 10,
              "solidity": 0.2
             }
            },
            "type": "bar"
           }
          ],
          "barpolar": [
           {
            "marker": {
             "line": {
              "color": "#E5ECF6",
              "width": 0.5
             },
             "pattern": {
              "fillmode": "overlay",
              "size": 10,
              "solidity": 0.2
             }
            },
            "type": "barpolar"
           }
          ],
          "carpet": [
           {
            "aaxis": {
             "endlinecolor": "#2a3f5f",
             "gridcolor": "white",
             "linecolor": "white",
             "minorgridcolor": "white",
             "startlinecolor": "#2a3f5f"
            },
            "baxis": {
             "endlinecolor": "#2a3f5f",
             "gridcolor": "white",
             "linecolor": "white",
             "minorgridcolor": "white",
             "startlinecolor": "#2a3f5f"
            },
            "type": "carpet"
           }
          ],
          "choropleth": [
           {
            "colorbar": {
             "outlinewidth": 0,
             "ticks": ""
            },
            "type": "choropleth"
           }
          ],
          "contour": [
           {
            "colorbar": {
             "outlinewidth": 0,
             "ticks": ""
            },
            "colorscale": [
             [
              0,
              "#0d0887"
             ],
             [
              0.1111111111111111,
              "#46039f"
             ],
             [
              0.2222222222222222,
              "#7201a8"
             ],
             [
              0.3333333333333333,
              "#9c179e"
             ],
             [
              0.4444444444444444,
              "#bd3786"
             ],
             [
              0.5555555555555556,
              "#d8576b"
             ],
             [
              0.6666666666666666,
              "#ed7953"
             ],
             [
              0.7777777777777778,
              "#fb9f3a"
             ],
             [
              0.8888888888888888,
              "#fdca26"
             ],
             [
              1,
              "#f0f921"
             ]
            ],
            "type": "contour"
           }
          ],
          "contourcarpet": [
           {
            "colorbar": {
             "outlinewidth": 0,
             "ticks": ""
            },
            "type": "contourcarpet"
           }
          ],
          "heatmap": [
           {
            "colorbar": {
             "outlinewidth": 0,
             "ticks": ""
            },
            "colorscale": [
             [
              0,
              "#0d0887"
             ],
             [
              0.1111111111111111,
              "#46039f"
             ],
             [
              0.2222222222222222,
              "#7201a8"
             ],
             [
              0.3333333333333333,
              "#9c179e"
             ],
             [
              0.4444444444444444,
              "#bd3786"
             ],
             [
              0.5555555555555556,
              "#d8576b"
             ],
             [
              0.6666666666666666,
              "#ed7953"
             ],
             [
              0.7777777777777778,
              "#fb9f3a"
             ],
             [
              0.8888888888888888,
              "#fdca26"
             ],
             [
              1,
              "#f0f921"
             ]
            ],
            "type": "heatmap"
           }
          ],
          "heatmapgl": [
           {
            "colorbar": {
             "outlinewidth": 0,
             "ticks": ""
            },
            "colorscale": [
             [
              0,
              "#0d0887"
             ],
             [
              0.1111111111111111,
              "#46039f"
             ],
             [
              0.2222222222222222,
              "#7201a8"
             ],
             [
              0.3333333333333333,
              "#9c179e"
             ],
             [
              0.4444444444444444,
              "#bd3786"
             ],
             [
              0.5555555555555556,
              "#d8576b"
             ],
             [
              0.6666666666666666,
              "#ed7953"
             ],
             [
              0.7777777777777778,
              "#fb9f3a"
             ],
             [
              0.8888888888888888,
              "#fdca26"
             ],
             [
              1,
              "#f0f921"
             ]
            ],
            "type": "heatmapgl"
           }
          ],
          "histogram": [
           {
            "marker": {
             "pattern": {
              "fillmode": "overlay",
              "size": 10,
              "solidity": 0.2
             }
            },
            "type": "histogram"
           }
          ],
          "histogram2d": [
           {
            "colorbar": {
             "outlinewidth": 0,
             "ticks": ""
            },
            "colorscale": [
             [
              0,
              "#0d0887"
             ],
             [
              0.1111111111111111,
              "#46039f"
             ],
             [
              0.2222222222222222,
              "#7201a8"
             ],
             [
              0.3333333333333333,
              "#9c179e"
             ],
             [
              0.4444444444444444,
              "#bd3786"
             ],
             [
              0.5555555555555556,
              "#d8576b"
             ],
             [
              0.6666666666666666,
              "#ed7953"
             ],
             [
              0.7777777777777778,
              "#fb9f3a"
             ],
             [
              0.8888888888888888,
              "#fdca26"
             ],
             [
              1,
              "#f0f921"
             ]
            ],
            "type": "histogram2d"
           }
          ],
          "histogram2dcontour": [
           {
            "colorbar": {
             "outlinewidth": 0,
             "ticks": ""
            },
            "colorscale": [
             [
              0,
              "#0d0887"
             ],
             [
              0.1111111111111111,
              "#46039f"
             ],
             [
              0.2222222222222222,
              "#7201a8"
             ],
             [
              0.3333333333333333,
              "#9c179e"
             ],
             [
              0.4444444444444444,
              "#bd3786"
             ],
             [
              0.5555555555555556,
              "#d8576b"
             ],
             [
              0.6666666666666666,
              "#ed7953"
             ],
             [
              0.7777777777777778,
              "#fb9f3a"
             ],
             [
              0.8888888888888888,
              "#fdca26"
             ],
             [
              1,
              "#f0f921"
             ]
            ],
            "type": "histogram2dcontour"
           }
          ],
          "mesh3d": [
           {
            "colorbar": {
             "outlinewidth": 0,
             "ticks": ""
            },
            "type": "mesh3d"
           }
          ],
          "parcoords": [
           {
            "line": {
             "colorbar": {
              "outlinewidth": 0,
              "ticks": ""
             }
            },
            "type": "parcoords"
           }
          ],
          "pie": [
           {
            "automargin": true,
            "type": "pie"
           }
          ],
          "scatter": [
           {
            "fillpattern": {
             "fillmode": "overlay",
             "size": 10,
             "solidity": 0.2
            },
            "type": "scatter"
           }
          ],
          "scatter3d": [
           {
            "line": {
             "colorbar": {
              "outlinewidth": 0,
              "ticks": ""
             }
            },
            "marker": {
             "colorbar": {
              "outlinewidth": 0,
              "ticks": ""
             }
            },
            "type": "scatter3d"
           }
          ],
          "scattercarpet": [
           {
            "marker": {
             "colorbar": {
              "outlinewidth": 0,
              "ticks": ""
             }
            },
            "type": "scattercarpet"
           }
          ],
          "scattergeo": [
           {
            "marker": {
             "colorbar": {
              "outlinewidth": 0,
              "ticks": ""
             }
            },
            "type": "scattergeo"
           }
          ],
          "scattergl": [
           {
            "marker": {
             "colorbar": {
              "outlinewidth": 0,
              "ticks": ""
             }
            },
            "type": "scattergl"
           }
          ],
          "scattermapbox": [
           {
            "marker": {
             "colorbar": {
              "outlinewidth": 0,
              "ticks": ""
             }
            },
            "type": "scattermapbox"
           }
          ],
          "scatterpolar": [
           {
            "marker": {
             "colorbar": {
              "outlinewidth": 0,
              "ticks": ""
             }
            },
            "type": "scatterpolar"
           }
          ],
          "scatterpolargl": [
           {
            "marker": {
             "colorbar": {
              "outlinewidth": 0,
              "ticks": ""
             }
            },
            "type": "scatterpolargl"
           }
          ],
          "scatterternary": [
           {
            "marker": {
             "colorbar": {
              "outlinewidth": 0,
              "ticks": ""
             }
            },
            "type": "scatterternary"
           }
          ],
          "surface": [
           {
            "colorbar": {
             "outlinewidth": 0,
             "ticks": ""
            },
            "colorscale": [
             [
              0,
              "#0d0887"
             ],
             [
              0.1111111111111111,
              "#46039f"
             ],
             [
              0.2222222222222222,
              "#7201a8"
             ],
             [
              0.3333333333333333,
              "#9c179e"
             ],
             [
              0.4444444444444444,
              "#bd3786"
             ],
             [
              0.5555555555555556,
              "#d8576b"
             ],
             [
              0.6666666666666666,
              "#ed7953"
             ],
             [
              0.7777777777777778,
              "#fb9f3a"
             ],
             [
              0.8888888888888888,
              "#fdca26"
             ],
             [
              1,
              "#f0f921"
             ]
            ],
            "type": "surface"
           }
          ],
          "table": [
           {
            "cells": {
             "fill": {
              "color": "#EBF0F8"
             },
             "line": {
              "color": "white"
             }
            },
            "header": {
             "fill": {
              "color": "#C8D4E3"
             },
             "line": {
              "color": "white"
             }
            },
            "type": "table"
           }
          ]
         },
         "layout": {
          "annotationdefaults": {
           "arrowcolor": "#2a3f5f",
           "arrowhead": 0,
           "arrowwidth": 1
          },
          "autotypenumbers": "strict",
          "coloraxis": {
           "colorbar": {
            "outlinewidth": 0,
            "ticks": ""
           }
          },
          "colorscale": {
           "diverging": [
            [
             0,
             "#8e0152"
            ],
            [
             0.1,
             "#c51b7d"
            ],
            [
             0.2,
             "#de77ae"
            ],
            [
             0.3,
             "#f1b6da"
            ],
            [
             0.4,
             "#fde0ef"
            ],
            [
             0.5,
             "#f7f7f7"
            ],
            [
             0.6,
             "#e6f5d0"
            ],
            [
             0.7,
             "#b8e186"
            ],
            [
             0.8,
             "#7fbc41"
            ],
            [
             0.9,
             "#4d9221"
            ],
            [
             1,
             "#276419"
            ]
           ],
           "sequential": [
            [
             0,
             "#0d0887"
            ],
            [
             0.1111111111111111,
             "#46039f"
            ],
            [
             0.2222222222222222,
             "#7201a8"
            ],
            [
             0.3333333333333333,
             "#9c179e"
            ],
            [
             0.4444444444444444,
             "#bd3786"
            ],
            [
             0.5555555555555556,
             "#d8576b"
            ],
            [
             0.6666666666666666,
             "#ed7953"
            ],
            [
             0.7777777777777778,
             "#fb9f3a"
            ],
            [
             0.8888888888888888,
             "#fdca26"
            ],
            [
             1,
             "#f0f921"
            ]
           ],
           "sequentialminus": [
            [
             0,
             "#0d0887"
            ],
            [
             0.1111111111111111,
             "#46039f"
            ],
            [
             0.2222222222222222,
             "#7201a8"
            ],
            [
             0.3333333333333333,
             "#9c179e"
            ],
            [
             0.4444444444444444,
             "#bd3786"
            ],
            [
             0.5555555555555556,
             "#d8576b"
            ],
            [
             0.6666666666666666,
             "#ed7953"
            ],
            [
             0.7777777777777778,
             "#fb9f3a"
            ],
            [
             0.8888888888888888,
             "#fdca26"
            ],
            [
             1,
             "#f0f921"
            ]
           ]
          },
          "colorway": [
           "#636efa",
           "#EF553B",
           "#00cc96",
           "#ab63fa",
           "#FFA15A",
           "#19d3f3",
           "#FF6692",
           "#B6E880",
           "#FF97FF",
           "#FECB52"
          ],
          "font": {
           "color": "#2a3f5f"
          },
          "geo": {
           "bgcolor": "white",
           "lakecolor": "white",
           "landcolor": "#E5ECF6",
           "showlakes": true,
           "showland": true,
           "subunitcolor": "white"
          },
          "hoverlabel": {
           "align": "left"
          },
          "hovermode": "closest",
          "mapbox": {
           "style": "light"
          },
          "paper_bgcolor": "white",
          "plot_bgcolor": "#E5ECF6",
          "polar": {
           "angularaxis": {
            "gridcolor": "white",
            "linecolor": "white",
            "ticks": ""
           },
           "bgcolor": "#E5ECF6",
           "radialaxis": {
            "gridcolor": "white",
            "linecolor": "white",
            "ticks": ""
           }
          },
          "scene": {
           "xaxis": {
            "backgroundcolor": "#E5ECF6",
            "gridcolor": "white",
            "gridwidth": 2,
            "linecolor": "white",
            "showbackground": true,
            "ticks": "",
            "zerolinecolor": "white"
           },
           "yaxis": {
            "backgroundcolor": "#E5ECF6",
            "gridcolor": "white",
            "gridwidth": 2,
            "linecolor": "white",
            "showbackground": true,
            "ticks": "",
            "zerolinecolor": "white"
           },
           "zaxis": {
            "backgroundcolor": "#E5ECF6",
            "gridcolor": "white",
            "gridwidth": 2,
            "linecolor": "white",
            "showbackground": true,
            "ticks": "",
            "zerolinecolor": "white"
           }
          },
          "shapedefaults": {
           "line": {
            "color": "#2a3f5f"
           }
          },
          "ternary": {
           "aaxis": {
            "gridcolor": "white",
            "linecolor": "white",
            "ticks": ""
           },
           "baxis": {
            "gridcolor": "white",
            "linecolor": "white",
            "ticks": ""
           },
           "bgcolor": "#E5ECF6",
           "caxis": {
            "gridcolor": "white",
            "linecolor": "white",
            "ticks": ""
           }
          },
          "title": {
           "x": 0.05
          },
          "xaxis": {
           "automargin": true,
           "gridcolor": "white",
           "linecolor": "white",
           "ticks": "",
           "title": {
            "standoff": 15
           },
           "zerolinecolor": "white",
           "zerolinewidth": 2
          },
          "yaxis": {
           "automargin": true,
           "gridcolor": "white",
           "linecolor": "white",
           "ticks": "",
           "title": {
            "standoff": 15
           },
           "zerolinecolor": "white",
           "zerolinewidth": 2
          }
         }
        },
        "title": {
         "text": "Unique # of texas n-grams for each label"
        },
        "xaxis": {
         "anchor": "y",
         "domain": [
          0,
          1
         ],
         "title": {
          "text": "N-gram size"
         }
        },
        "yaxis": {
         "anchor": "x",
         "domain": [
          0,
          1
         ],
         "title": {
          "text": "Unique # of n-grams"
         }
        }
       }
      }
     },
     "metadata": {},
     "output_type": "display_data"
    }
   ],
   "source": [
    "import plotly.express as px\n",
    "\n",
    "intersection_sizes = []\n",
    "for n in [1, 2, 3, 4, 5, 6]:\n",
    "\n",
    "    good_ngrams = series_to_ngrams(df[df.label == \"good\"].comments, n).value_counts()\n",
    "    bad_ngrams = series_to_ngrams(df[df.label == \"bad\"].comments, n).value_counts()\n",
    "    mgood_ngrams = series_to_ngrams(df[df.label == \"mgood\"].comments, n).value_counts()\n",
    "    mbad_ngrams = series_to_ngrams(df[df.label == \"mbad\"].comments, n).value_counts()\n",
    "    intersection_sizes_n = get_exclusive_sizes(\n",
    "        set(good_ngrams.index),\n",
    "        set(bad_ngrams.index),\n",
    "        set(mgood_ngrams.index),\n",
    "        set(mbad_ngrams.index)\n",
    "    )\n",
    "\n",
    "    intersection_sizes_n[\"n\"] = n\n",
    "\n",
    "    intersection_sizes.append(intersection_sizes_n)\n",
    "\n",
    "\n",
    "# prepare data\n",
    "is_df = pd.DataFrame(intersection_sizes)\n",
    "is_df = is_df.melt(id_vars=\"n\", var_name=\"label\", value_name=\"count\")\n",
    "is_df[\"count\"] = is_df[\"count\"].astype(int)\n",
    "is_df[\"n\"] = is_df[\"n\"].astype(int)\n",
    "\n",
    "# exclude good \n",
    "is_df = is_df[is_df.label != \"good\"]\n",
    "\n",
    "# plot a line chart\n",
    "px.line(is_df, \n",
    "    x=\"n\", y=\"count\",\n",
    "    color=\"label\",\n",
    "    title=f\"Unique # of {GEO} n-grams for each label\", \n",
    "    labels={\"n\": \"N-gram size\", \"count\": \"Unique # of n-grams\"},\n",
    "    markers=True\n",
    "    )"
   ]
  },
  {
   "attachments": {},
   "cell_type": "markdown",
   "metadata": {},
   "source": [
    "We can see that the number of unique ngrams increases until about n=3, and then levels off. What are the top 10 3-grams for misleading reviews?"
   ]
  },
  {
   "cell_type": "code",
   "execution_count": 6,
   "metadata": {},
   "outputs": [
    {
     "name": "stdout",
     "output_type": "stream",
     "text": [
      "Top 10 most common 3-grams in misleading reviews:\n"
     ]
    },
    {
     "data": {
      "text/plain": [
       "[('within_walking_distance', 8),\n",
       " ('would_not_recommend', 6),\n",
       " ('not_recommend_staying', 4),\n",
       " ('made_u_feel', 3),\n",
       " ('great_host_very', 3),\n",
       " ('great_place_stay', 3),\n",
       " ('solid_internet_connectivity', 3),\n",
       " ('walking_distance_lot', 2),\n",
       " ('stay_good_location', 2),\n",
       " ('good_location_clean', 2)]"
      ]
     },
     "execution_count": 6,
     "metadata": {},
     "output_type": "execute_result"
    }
   ],
   "source": [
    "import numpy as np\n",
    "from collections import Counter\n",
    "\n",
    "# generate wordcloud for misleading reviews\n",
    "subset = df[df.label.isin([\"mbad\", \"mgood\"])]\n",
    "\n",
    "# get groups of N consecutive words\n",
    "N = 3\n",
    "n_grams_3 = series_to_ngrams(subset.comments, N).to_list()\n",
    "\n",
    "print(\"Top 10 most common 3-grams in misleading reviews:\")\n",
    "Counter(n_grams_3).most_common(10)"
   ]
  },
  {
   "attachments": {},
   "cell_type": "markdown",
   "metadata": {},
   "source": [
    "Let's manually remove some of these that don't make sense"
   ]
  },
  {
   "attachments": {},
   "cell_type": "markdown",
   "metadata": {},
   "source": [
    "Now let's look at a word cloud of the 3-grams in misleading reviews.\n",
    "\n",
    "**NOTE:** Also broken due to pandas library error. Not sure why it happened all of a sudden."
   ]
  },
  {
   "cell_type": "code",
   "execution_count": 7,
   "metadata": {},
   "outputs": [
    {
     "data": {
      "application/vnd.plotly.v1+json": {
       "config": {
        "plotlyServerURL": "https://plot.ly"
       },
       "data": [
        {
         "hovertemplate": "x: %{x}<br>y: %{y}<br>color: [%{z[0]}, %{z[1]}, %{z[2]}]<extra></extra>",
         "name": "0",
         "source": "data:image/png;base64,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",
         "type": "image",
         "xaxis": "x",
         "yaxis": "y"
        }
       ],
       "layout": {
        "height": 700,
        "template": {
         "data": {
          "bar": [
           {
            "error_x": {
             "color": "#2a3f5f"
            },
            "error_y": {
             "color": "#2a3f5f"
            },
            "marker": {
             "line": {
              "color": "#E5ECF6",
              "width": 0.5
             },
             "pattern": {
              "fillmode": "overlay",
              "size": 10,
              "solidity": 0.2
             }
            },
            "type": "bar"
           }
          ],
          "barpolar": [
           {
            "marker": {
             "line": {
              "color": "#E5ECF6",
              "width": 0.5
             },
             "pattern": {
              "fillmode": "overlay",
              "size": 10,
              "solidity": 0.2
             }
            },
            "type": "barpolar"
           }
          ],
          "carpet": [
           {
            "aaxis": {
             "endlinecolor": "#2a3f5f",
             "gridcolor": "white",
             "linecolor": "white",
             "minorgridcolor": "white",
             "startlinecolor": "#2a3f5f"
            },
            "baxis": {
             "endlinecolor": "#2a3f5f",
             "gridcolor": "white",
             "linecolor": "white",
             "minorgridcolor": "white",
             "startlinecolor": "#2a3f5f"
            },
            "type": "carpet"
           }
          ],
          "choropleth": [
           {
            "colorbar": {
             "outlinewidth": 0,
             "ticks": ""
            },
            "type": "choropleth"
           }
          ],
          "contour": [
           {
            "colorbar": {
             "outlinewidth": 0,
             "ticks": ""
            },
            "colorscale": [
             [
              0,
              "#0d0887"
             ],
             [
              0.1111111111111111,
              "#46039f"
             ],
             [
              0.2222222222222222,
              "#7201a8"
             ],
             [
              0.3333333333333333,
              "#9c179e"
             ],
             [
              0.4444444444444444,
              "#bd3786"
             ],
             [
              0.5555555555555556,
              "#d8576b"
             ],
             [
              0.6666666666666666,
              "#ed7953"
             ],
             [
              0.7777777777777778,
              "#fb9f3a"
             ],
             [
              0.8888888888888888,
              "#fdca26"
             ],
             [
              1,
              "#f0f921"
             ]
            ],
            "type": "contour"
           }
          ],
          "contourcarpet": [
           {
            "colorbar": {
             "outlinewidth": 0,
             "ticks": ""
            },
            "type": "contourcarpet"
           }
          ],
          "heatmap": [
           {
            "colorbar": {
             "outlinewidth": 0,
             "ticks": ""
            },
            "colorscale": [
             [
              0,
              "#0d0887"
             ],
             [
              0.1111111111111111,
              "#46039f"
             ],
             [
              0.2222222222222222,
              "#7201a8"
             ],
             [
              0.3333333333333333,
              "#9c179e"
             ],
             [
              0.4444444444444444,
              "#bd3786"
             ],
             [
              0.5555555555555556,
              "#d8576b"
             ],
             [
              0.6666666666666666,
              "#ed7953"
             ],
             [
              0.7777777777777778,
              "#fb9f3a"
             ],
             [
              0.8888888888888888,
              "#fdca26"
             ],
             [
              1,
              "#f0f921"
             ]
            ],
            "type": "heatmap"
           }
          ],
          "heatmapgl": [
           {
            "colorbar": {
             "outlinewidth": 0,
             "ticks": ""
            },
            "colorscale": [
             [
              0,
              "#0d0887"
             ],
             [
              0.1111111111111111,
              "#46039f"
             ],
             [
              0.2222222222222222,
              "#7201a8"
             ],
             [
              0.3333333333333333,
              "#9c179e"
             ],
             [
              0.4444444444444444,
              "#bd3786"
             ],
             [
              0.5555555555555556,
              "#d8576b"
             ],
             [
              0.6666666666666666,
              "#ed7953"
             ],
             [
              0.7777777777777778,
              "#fb9f3a"
             ],
             [
              0.8888888888888888,
              "#fdca26"
             ],
             [
              1,
              "#f0f921"
             ]
            ],
            "type": "heatmapgl"
           }
          ],
          "histogram": [
           {
            "marker": {
             "pattern": {
              "fillmode": "overlay",
              "size": 10,
              "solidity": 0.2
             }
            },
            "type": "histogram"
           }
          ],
          "histogram2d": [
           {
            "colorbar": {
             "outlinewidth": 0,
             "ticks": ""
            },
            "colorscale": [
             [
              0,
              "#0d0887"
             ],
             [
              0.1111111111111111,
              "#46039f"
             ],
             [
              0.2222222222222222,
              "#7201a8"
             ],
             [
              0.3333333333333333,
              "#9c179e"
             ],
             [
              0.4444444444444444,
              "#bd3786"
             ],
             [
              0.5555555555555556,
              "#d8576b"
             ],
             [
              0.6666666666666666,
              "#ed7953"
             ],
             [
              0.7777777777777778,
              "#fb9f3a"
             ],
             [
              0.8888888888888888,
              "#fdca26"
             ],
             [
              1,
              "#f0f921"
             ]
            ],
            "type": "histogram2d"
           }
          ],
          "histogram2dcontour": [
           {
            "colorbar": {
             "outlinewidth": 0,
             "ticks": ""
            },
            "colorscale": [
             [
              0,
              "#0d0887"
             ],
             [
              0.1111111111111111,
              "#46039f"
             ],
             [
              0.2222222222222222,
              "#7201a8"
             ],
             [
              0.3333333333333333,
              "#9c179e"
             ],
             [
              0.4444444444444444,
              "#bd3786"
             ],
             [
              0.5555555555555556,
              "#d8576b"
             ],
             [
              0.6666666666666666,
              "#ed7953"
             ],
             [
              0.7777777777777778,
              "#fb9f3a"
             ],
             [
              0.8888888888888888,
              "#fdca26"
             ],
             [
              1,
              "#f0f921"
             ]
            ],
            "type": "histogram2dcontour"
           }
          ],
          "mesh3d": [
           {
            "colorbar": {
             "outlinewidth": 0,
             "ticks": ""
            },
            "type": "mesh3d"
           }
          ],
          "parcoords": [
           {
            "line": {
             "colorbar": {
              "outlinewidth": 0,
              "ticks": ""
             }
            },
            "type": "parcoords"
           }
          ],
          "pie": [
           {
            "automargin": true,
            "type": "pie"
           }
          ],
          "scatter": [
           {
            "fillpattern": {
             "fillmode": "overlay",
             "size": 10,
             "solidity": 0.2
            },
            "type": "scatter"
           }
          ],
          "scatter3d": [
           {
            "line": {
             "colorbar": {
              "outlinewidth": 0,
              "ticks": ""
             }
            },
            "marker": {
             "colorbar": {
              "outlinewidth": 0,
              "ticks": ""
             }
            },
            "type": "scatter3d"
           }
          ],
          "scattercarpet": [
           {
            "marker": {
             "colorbar": {
              "outlinewidth": 0,
              "ticks": ""
             }
            },
            "type": "scattercarpet"
           }
          ],
          "scattergeo": [
           {
            "marker": {
             "colorbar": {
              "outlinewidth": 0,
              "ticks": ""
             }
            },
            "type": "scattergeo"
           }
          ],
          "scattergl": [
           {
            "marker": {
             "colorbar": {
              "outlinewidth": 0,
              "ticks": ""
             }
            },
            "type": "scattergl"
           }
          ],
          "scattermapbox": [
           {
            "marker": {
             "colorbar": {
              "outlinewidth": 0,
              "ticks": ""
             }
            },
            "type": "scattermapbox"
           }
          ],
          "scatterpolar": [
           {
            "marker": {
             "colorbar": {
              "outlinewidth": 0,
              "ticks": ""
             }
            },
            "type": "scatterpolar"
           }
          ],
          "scatterpolargl": [
           {
            "marker": {
             "colorbar": {
              "outlinewidth": 0,
              "ticks": ""
             }
            },
            "type": "scatterpolargl"
           }
          ],
          "scatterternary": [
           {
            "marker": {
             "colorbar": {
              "outlinewidth": 0,
              "ticks": ""
             }
            },
            "type": "scatterternary"
           }
          ],
          "surface": [
           {
            "colorbar": {
             "outlinewidth": 0,
             "ticks": ""
            },
            "colorscale": [
             [
              0,
              "#0d0887"
             ],
             [
              0.1111111111111111,
              "#46039f"
             ],
             [
              0.2222222222222222,
              "#7201a8"
             ],
             [
              0.3333333333333333,
              "#9c179e"
             ],
             [
              0.4444444444444444,
              "#bd3786"
             ],
             [
              0.5555555555555556,
              "#d8576b"
             ],
             [
              0.6666666666666666,
              "#ed7953"
             ],
             [
              0.7777777777777778,
              "#fb9f3a"
             ],
             [
              0.8888888888888888,
              "#fdca26"
             ],
             [
              1,
              "#f0f921"
             ]
            ],
            "type": "surface"
           }
          ],
          "table": [
           {
            "cells": {
             "fill": {
              "color": "#EBF0F8"
             },
             "line": {
              "color": "white"
             }
            },
            "header": {
             "fill": {
              "color": "#C8D4E3"
             },
             "line": {
              "color": "white"
             }
            },
            "type": "table"
           }
          ]
         },
         "layout": {
          "annotationdefaults": {
           "arrowcolor": "#2a3f5f",
           "arrowhead": 0,
           "arrowwidth": 1
          },
          "autotypenumbers": "strict",
          "coloraxis": {
           "colorbar": {
            "outlinewidth": 0,
            "ticks": ""
           }
          },
          "colorscale": {
           "diverging": [
            [
             0,
             "#8e0152"
            ],
            [
             0.1,
             "#c51b7d"
            ],
            [
             0.2,
             "#de77ae"
            ],
            [
             0.3,
             "#f1b6da"
            ],
            [
             0.4,
             "#fde0ef"
            ],
            [
             0.5,
             "#f7f7f7"
            ],
            [
             0.6,
             "#e6f5d0"
            ],
            [
             0.7,
             "#b8e186"
            ],
            [
             0.8,
             "#7fbc41"
            ],
            [
             0.9,
             "#4d9221"
            ],
            [
             1,
             "#276419"
            ]
           ],
           "sequential": [
            [
             0,
             "#0d0887"
            ],
            [
             0.1111111111111111,
             "#46039f"
            ],
            [
             0.2222222222222222,
             "#7201a8"
            ],
            [
             0.3333333333333333,
             "#9c179e"
            ],
            [
             0.4444444444444444,
             "#bd3786"
            ],
            [
             0.5555555555555556,
             "#d8576b"
            ],
            [
             0.6666666666666666,
             "#ed7953"
            ],
            [
             0.7777777777777778,
             "#fb9f3a"
            ],
            [
             0.8888888888888888,
             "#fdca26"
            ],
            [
             1,
             "#f0f921"
            ]
           ],
           "sequentialminus": [
            [
             0,
             "#0d0887"
            ],
            [
             0.1111111111111111,
             "#46039f"
            ],
            [
             0.2222222222222222,
             "#7201a8"
            ],
            [
             0.3333333333333333,
             "#9c179e"
            ],
            [
             0.4444444444444444,
             "#bd3786"
            ],
            [
             0.5555555555555556,
             "#d8576b"
            ],
            [
             0.6666666666666666,
             "#ed7953"
            ],
            [
             0.7777777777777778,
             "#fb9f3a"
            ],
            [
             0.8888888888888888,
             "#fdca26"
            ],
            [
             1,
             "#f0f921"
            ]
           ]
          },
          "colorway": [
           "#636efa",
           "#EF553B",
           "#00cc96",
           "#ab63fa",
           "#FFA15A",
           "#19d3f3",
           "#FF6692",
           "#B6E880",
           "#FF97FF",
           "#FECB52"
          ],
          "font": {
           "color": "#2a3f5f"
          },
          "geo": {
           "bgcolor": "white",
           "lakecolor": "white",
           "landcolor": "#E5ECF6",
           "showlakes": true,
           "showland": true,
           "subunitcolor": "white"
          },
          "hoverlabel": {
           "align": "left"
          },
          "hovermode": "closest",
          "mapbox": {
           "style": "light"
          },
          "paper_bgcolor": "white",
          "plot_bgcolor": "#E5ECF6",
          "polar": {
           "angularaxis": {
            "gridcolor": "white",
            "linecolor": "white",
            "ticks": ""
           },
           "bgcolor": "#E5ECF6",
           "radialaxis": {
            "gridcolor": "white",
            "linecolor": "white",
            "ticks": ""
           }
          },
          "scene": {
           "xaxis": {
            "backgroundcolor": "#E5ECF6",
            "gridcolor": "white",
            "gridwidth": 2,
            "linecolor": "white",
            "showbackground": true,
            "ticks": "",
            "zerolinecolor": "white"
           },
           "yaxis": {
            "backgroundcolor": "#E5ECF6",
            "gridcolor": "white",
            "gridwidth": 2,
            "linecolor": "white",
            "showbackground": true,
            "ticks": "",
            "zerolinecolor": "white"
           },
           "zaxis": {
            "backgroundcolor": "#E5ECF6",
            "gridcolor": "white",
            "gridwidth": 2,
            "linecolor": "white",
            "showbackground": true,
            "ticks": "",
            "zerolinecolor": "white"
           }
          },
          "shapedefaults": {
           "line": {
            "color": "#2a3f5f"
           }
          },
          "ternary": {
           "aaxis": {
            "gridcolor": "white",
            "linecolor": "white",
            "ticks": ""
           },
           "baxis": {
            "gridcolor": "white",
            "linecolor": "white",
            "ticks": ""
           },
           "bgcolor": "#E5ECF6",
           "caxis": {
            "gridcolor": "white",
            "linecolor": "white",
            "ticks": ""
           }
          },
          "title": {
           "x": 0.05
          },
          "xaxis": {
           "automargin": true,
           "gridcolor": "white",
           "linecolor": "white",
           "ticks": "",
           "title": {
            "standoff": 15
           },
           "zerolinecolor": "white",
           "zerolinewidth": 2
          },
          "yaxis": {
           "automargin": true,
           "gridcolor": "white",
           "linecolor": "white",
           "ticks": "",
           "title": {
            "standoff": 15
           },
           "zerolinecolor": "white",
           "zerolinewidth": 2
          }
         }
        },
        "title": {
         "text": "Most common 3-grams in misleading reviews"
        },
        "width": 700,
        "xaxis": {
         "anchor": "y",
         "domain": [
          0,
          1
         ],
         "visible": false
        },
        "yaxis": {
         "anchor": "x",
         "domain": [
          0,
          1
         ],
         "visible": false
        }
       }
      }
     },
     "metadata": {},
     "output_type": "display_data"
    }
   ],
   "source": [
    "from wordcloud import WordCloud\n",
    "from PIL import Image\n",
    "\n",
    "ngrams_str = \" \".join(n_grams_3)\n",
    "\n",
    "# make house-shaped mask\n",
    "mask = np.array(Image.open(\"../../house_shape.png\"))\n",
    "# fill transparent areas with white\n",
    "mask[mask[:, :, 3] == 0] = [255, 255, 255, 255]\n",
    "\n",
    "# generate wordcloud\n",
    "wc = WordCloud(\n",
    "    background_color=\"white\", \n",
    "    max_words=1000, \n",
    "    width=mask.shape[0]*5,\n",
    "    height=mask.shape[1]*5,\n",
    "    mask = mask,\n",
    "    contour_width=3,\n",
    "    contour_color='steelblue',\n",
    "    colormap=\"twilight_shifted\"\n",
    ").generate(ngrams_str)\n",
    "\n",
    "wc\n",
    "\n",
    "# show wordcloud\n",
    "fig = px.imshow(wc, title=f\"Most common {N}-grams in misleading reviews\", width=700, height=700)\n",
    "fig.update_xaxes(visible=False)\n",
    "fig.update_yaxes(visible=False)\n",
    "fig.show()"
   ]
  },
  {
   "attachments": {},
   "cell_type": "markdown",
   "metadata": {},
   "source": [
    "Here is a reusable function to add ngrams features to a dataframe."
   ]
  },
  {
   "cell_type": "code",
   "execution_count": 23,
   "metadata": {},
   "outputs": [],
   "source": [
    "def ngrams_features(features, n):\n",
    "    \"\"\"Add n-gram features to the features dataframe.\"\"\"\n",
    "\n",
    "    # one-hot encode ngrams\n",
    "    df[\"ngrams\"] = df.comments.apply(lambda x: set(get_consecutive_ngrams(x, 3)))\n",
    "\n",
    "    # get ngrams that are common in misleading reviews\n",
    "    misleading = df[df.label.isin([\"mbad\", \"mgood\"])]\n",
    "    ng_set = set(series_to_ngrams(subset.comments, n).to_list())\n",
    "\n",
    "    # one-hot encode ngrams\n",
    "    ngram_features = {}\n",
    "    for ngram in ng_set:\n",
    "        ngram_features[ngram] = df.ngrams.apply(lambda ngrams: 1 if ngram in ngrams else 0)\n",
    "    ngram_df = pd.DataFrame(ngram_features)\n",
    "    features = pd.concat([features, ngram_df], axis=1)\n",
    "\n",
    "    # Only keep ngram features that appear in at least 3 reviews\n",
    "    min_num_reviews = 3\n",
    "    num_reviews_ngram_is_in = features.apply(lambda x: x > 0).sum()\n",
    "    ngram_features_to_drop= num_reviews_ngram_is_in[num_reviews_ngram_is_in < min_num_reviews].index\n",
    "\n",
    "    features = features.drop(ngram_features_to_drop, axis=1)\n",
    "\n",
    "    return features"
   ]
  },
  {
   "attachments": {},
   "cell_type": "markdown",
   "metadata": {},
   "source": [
    "## Word Embeddings and T-SNE\n",
    "Another way to look at the data is to use word embeddings. We can use the word2vec model from gensim to create word embeddings for each word in the dataset. We can then take the average of all word vectors in a review to get a vector representation of the review. We can then use T-SNE to reduce the dimensionality of the word embeddings to 3 dimensions so we can plot them."
   ]
  },
  {
   "cell_type": "code",
   "execution_count": 42,
   "metadata": {},
   "outputs": [],
   "source": [
    "from gensim.models.doc2vec import Doc2Vec, TaggedDocument\n",
    "from gensim.models.word2vec import Word2Vec\n",
    "\n",
    "def enmbeddings_features(features) -> pd.DataFrame:\n",
    "\n",
    "    print(\"Creating model...\")\n",
    "    embeddings_vector_size = 50\n",
    "    model = Word2Vec(df.comments.to_list(), \n",
    "            min_count=1,\n",
    "            vector_size=embeddings_vector_size,\n",
    "            workers=3, \n",
    "            window=3, \n",
    "            sg=1\n",
    "        )\n",
    "    \n",
    "    # generate embeddings\n",
    "    print(\"Generating embeddings...\")\n",
    "    get_review_embeddings = lambda review: np.mean([model.wv[word] for word in review if word in model.wv], axis=0)\n",
    "    embeddings = np.array([get_review_embeddings(review) for review in df.comments.to_list()])\n",
    "    \n",
    "    for i in range(embeddings.shape[1]):\n",
    "        features[f\"embedding_{i}\"] = embeddings[:, i]\n",
    "    \n",
    "    return features\n",
    "\n",
    "\n",
    "def tsne_features(features, dims=3):\n",
    "\n",
    "    from sklearn.manifold import TSNE\n",
    "    print(f\"Applying t-SNE... (dim={dims})\")\n",
    "    tsne = TSNE(n_components=dims, random_state=0)\n",
    "    embeddings_2d = tsne.fit_transform(features)\n",
    "    embd_df = pd.DataFrame(embeddings_2d, columns=[\"tsne_1\", \"tsne_2\", \"tsne_3\"])\n",
    "\n",
    "    return embd_df"
   ]
  },
  {
   "attachments": {},
   "cell_type": "markdown",
   "metadata": {},
   "source": [
    "Let's apply this to the misleading reviews, and then reduce down to 2 dimensions using T-SNE."
   ]
  },
  {
   "cell_type": "code",
   "execution_count": 41,
   "metadata": {},
   "outputs": [
    {
     "name": "stdout",
     "output_type": "stream",
     "text": [
      "Creating model...\n",
      "Generating embeddings...\n",
      "Applying t-SNE... (dim=3)\n"
     ]
    },
    {
     "data": {
      "application/vnd.plotly.v1+json": {
       "config": {
        "plotlyServerURL": "https://plot.ly"
       },
       "data": [
        {
         "hovertemplate": "label=good<br>tsne_1=%{x}<br>tsne_2=%{y}<br>tsne_3=%{z}<extra></extra>",
         "legendgroup": "good",
         "marker": {
          "color": "#636efa",
          "opacity": 0.5,
          "size": 2,
          "symbol": "circle"
         },
         "mode": "markers",
         "name": "good",
         "scene": "scene",
         "showlegend": true,
         "type": "scatter3d",
         "x": [
          0.3144932985305786,
          -5.764749050140381,
          -1.1932510137557983,
          -2.5859525203704834,
          1.6824092864990234,
          7.0451483726501465,
          -8.352006912231445,
          -3.373201847076416,
          -3.9816970825195312,
          -7.123917102813721,
          7.44554328918457,
          6.333344459533691,
          -4.297653675079346,
          6.456029415130615,
          -3.76198410987854,
          -2.0662143230438232,
          -8.006444931030273,
          4.892361164093018,
          -9.972586631774902,
          2.007871627807617,
          -5.817095756530762,
          -1.1784204244613647,
          3.096094846725464,
          3.5202796459198,
          -1.7087236642837524,
          -2.358973979949951,
          8.81271743774414,
          -9.528911590576172,
          -4.480332851409912,
          0.12748198211193085,
          -5.3695292472839355,
          -8.28198528289795,
          -2.81042742729187,
          -1.382527470588684,
          -2.168440341949463,
          -7.4458088874816895,
          5.326278209686279,
          -3.508314847946167,
          0.9859300255775452,
          -4.91368293762207,
          -8.613590240478516,
          -10.789730072021484,
          -3.8224925994873047,
          4.210787773132324,
          7.663926601409912,
          -1.7498902082443237,
          0.8185281753540039,
          -3.1345441341400146,
          3.534240484237671,
          3.3242135047912598,
          -1.2865216732025146,
          -7.757047176361084,
          1.887034296989441,
          -3.7268362045288086,
          -6.5634236335754395,
          0.39813151955604553,
          -1.4713932275772095,
          2.2107396125793457,
          1.8976608514785767,
          7.322988033294678,
          11.688468933105469,
          3.2449817657470703,
          7.4045634269714355,
          0.21114493906497955,
          -4.817973613739014,
          8.961050033569336,
          -1.346057415008545,
          0.8373396396636963,
          -0.4163414537906647,
          -0.6580179333686829,
          0.13834445178508759,
          3.93971848487854,
          -3.5130631923675537,
          6.5121259689331055,
          3.875129222869873,
          6.50520658493042,
          5.201175689697266,
          -7.473639488220215,
          -2.2976787090301514,
          0.7918774485588074,
          -7.0895586013793945,
          7.902881145477295,
          -10.637589454650879,
          0.08969713002443314,
          -8.588380813598633,
          -2.4339754581451416,
          -6.89279842376709,
          -10.365015983581543,
          -4.09768009185791,
          -5.018179893493652,
          6.306183815002441,
          6.429912567138672,
          -3.248950481414795,
          3.945678949356079,
          0.04874821752309799,
          7.067412853240967,
          3.195180654525757,
          6.310227394104004,
          6.927000522613525,
          -0.42000067234039307,
          -0.2173127382993698,
          -0.8149248361587524,
          3.54720139503479,
          8.039928436279297,
          -0.7103185057640076,
          1.672412633895874,
          -5.370192050933838,
          7.4184794425964355,
          2.3945014476776123,
          -4.784150123596191,
          0.38989385962486267,
          -7.434900760650635,
          3.8076119422912598,
          1.622166633605957,
          4.483296871185303,
          0.7754008769989014,
          -2.047536611557007,
          7.388483047485352,
          10.760293006896973,
          10.368203163146973,
          6.277912616729736,
          9.594097137451172,
          9.6354341506958,
          -2.8855440616607666,
          -7.36707067489624,
          -3.6174185276031494,
          -3.8075222969055176,
          -2.479565143585205,
          -2.1058878898620605,
          0.008780114352703094,
          6.893736839294434,
          -5.602139472961426,
          -0.6172174215316772,
          -3.0150558948516846,
          0.8074145913124084,
          -6.256962776184082,
          -10.95242977142334,
          -4.746873378753662,
          -0.45865046977996826,
          8.938037872314453,
          5.26809024810791,
          13.505682945251465,
          -6.177412509918213,
          2.1937129497528076,
          -2.450638771057129,
          1.437495231628418,
          0.8466013073921204,
          13.487090110778809,
          -5.181012153625488,
          -0.008637556806206703,
          -10.071454048156738,
          -2.2873921394348145,
          -1.9598571062088013,
          -4.4977946281433105,
          0.288703054189682,
          -1.228477120399475,
          3.5034291744232178,
          7.647284984588623,
          9.504267692565918,
          -5.179325580596924,
          8.002288818359375,
          10.26284408569336,
          13.523378372192383,
          -3.796145439147949,
          -4.50536584854126,
          7.2330002784729,
          2.0111255645751953,
          -3.439357280731201,
          -1.316036581993103,
          -5.87153959274292,
          -5.488064289093018,
          5.7532525062561035,
          -2.2421159744262695,
          -6.216909885406494,
          -3.125234603881836,
          -2.5949618816375732,
          -0.8935546278953552,
          2.2376670837402344,
          1.774768352508545,
          1.7625960111618042,
          -1.4752942323684692,
          -1.1129320859909058,
          -0.39698660373687744,
          6.871538162231445,
          9.324687004089355,
          6.942465782165527,
          -7.248472213745117,
          -7.0310773849487305,
          13.500846862792969,
          13.512269020080566,
          5.010322093963623,
          11.196379661560059,
          -3.999953031539917,
          -4.893209934234619,
          1.0237644910812378,
          -8.162504196166992,
          -4.0044379234313965,
          4.756263256072998,
          0.610664963722229,
          2.9730730056762695,
          -3.886563301086426,
          -5.1961846351623535,
          -11.429040908813477,
          2.2612712383270264,
          0.2385915368795395,
          -1.188735842704773,
          3.457509994506836,
          -2.9918947219848633,
          -0.8372319340705872,
          -2.655646324157715,
          -5.1935577392578125,
          -5.966119289398193,
          -5.251703262329102,
          6.275311470031738,
          4.035485744476318,
          7.061840534210205,
          -9.757914543151855,
          3.197972059249878,
          -2.6022725105285645,
          4.1966233253479,
          -3.389130115509033,
          8.157111167907715,
          -4.791670322418213,
          3.1211612224578857,
          3.9422645568847656,
          -3.9405972957611084,
          -6.385047435760498,
          6.511979103088379,
          0.21351255476474762,
          4.7633161544799805,
          -5.210131645202637,
          -2.1844847202301025,
          1.0232583284378052,
          -3.996438503265381,
          -2.811227560043335,
          10.280254364013672,
          11.606877326965332,
          1.418104887008667,
          -0.42601341009140015,
          4.990101337432861,
          -2.327387571334839,
          8.698184967041016,
          -1.8022533655166626,
          7.712773323059082,
          -2.6565306186676025,
          -10.710688591003418,
          -3.178065776824951,
          -1.1053727865219116,
          -3.769575595855713,
          1.289793848991394,
          -5.414345741271973,
          4.500137805938721,
          -5.515005111694336,
          -8.723464965820312,
          -5.343434810638428,
          -8.12630844116211,
          -1.924224615097046,
          0.831231951713562,
          -2.7623016834259033,
          -11.497176170349121,
          -4.653817176818848,
          -2.686962604522705,
          -3.492933511734009,
          -1.967494010925293,
          1.841849684715271,
          8.894522666931152,
          -5.972996234893799,
          -1.3824000358581543,
          10.913119316101074,
          1.84348464012146,
          -2.7964165210723877,
          6.532476425170898,
          -6.248884201049805,
          -10.922931671142578,
          -3.671084403991699,
          -1.057711124420166,
          2.4310696125030518,
          6.77691125869751,
          -3.107396125793457,
          8.537968635559082,
          -3.734081745147705,
          -1.4935046434402466,
          -8.893986701965332,
          -2.030623197555542,
          7.118244171142578,
          -2.3214612007141113,
          -3.4082841873168945,
          0.5456700325012207,
          -1.7106990814208984,
          7.061614513397217,
          3.9395744800567627,
          1.6730049848556519,
          4.224366188049316,
          3.8645644187927246,
          -0.1257845014333725,
          -1.094702959060669,
          4.925289630889893,
          7.528526306152344,
          2.752089738845825,
          -1.1903389692306519,
          5.50083065032959,
          2.585615873336792,
          -2.990217685699463,
          0.3636978268623352,
          -6.998274803161621,
          6.101853370666504,
          -6.286323547363281,
          -8.631448745727539,
          -5.458585739135742,
          9.976861000061035,
          10.92440414428711,
          0.5258404612541199,
          -1.7701982259750366,
          3.0280921459198,
          -2.51629638671875,
          -4.102073669433594,
          11.221817970275879,
          -4.139963150024414,
          -4.087763786315918,
          3.44376277923584,
          0.9824374914169312,
          8.023930549621582,
          -2.2648274898529053,
          9.156432151794434,
          -6.0735368728637695,
          9.914765357971191,
          -3.0818634033203125,
          3.0063424110412598,
          -4.915578365325928,
          -5.965703964233398,
          4.232640743255615,
          -6.424554347991943,
          0.371491402387619,
          4.692419052124023,
          -2.330980062484741,
          -1.981849193572998,
          4.226080894470215,
          6.846385478973389,
          5.436814785003662,
          3.350285530090332,
          -4.564371585845947,
          -8.687864303588867,
          -4.6391682624816895,
          -4.485015869140625,
          -6.2237982749938965,
          0.26965415477752686,
          -10.776345252990723,
          7.683953762054443,
          2.1518187522888184,
          0.1790490299463272,
          -0.790635347366333,
          -3.982945203781128,
          7.106139183044434,
          -4.14477014541626,
          5.120795249938965,
          6.106011867523193,
          9.100889205932617,
          -5.7397565841674805,
          0.23176780343055725,
          3.137180805206299,
          -5.87230920791626,
          3.2332115173339844,
          -0.4226906895637512,
          -7.72678279876709,
          -1.6310410499572754,
          8.926373481750488,
          3.1543819904327393,
          -2.497838258743286,
          -6.785135269165039,
          4.290163040161133,
          3.8839704990386963,
          3.1589653491973877,
          2.233102321624756,
          1.2753788232803345,
          -5.821435928344727,
          0.19881953299045563,
          -4.936952590942383,
          1.3725674152374268,
          2.4143428802490234,
          -9.374058723449707,
          -2.072103261947632,
          4.121368408203125,
          6.878732204437256,
          -4.340321063995361,
          -5.759897232055664,
          0.36717161536216736,
          -0.048023004084825516,
          -5.042741298675537,
          -3.1914961338043213,
          -2.0613672733306885,
          -8.559337615966797,
          -3.19590163230896,
          6.855488300323486,
          -4.5018310546875,
          -2.552403688430786,
          2.366057872772217,
          2.6374101638793945,
          -6.145036697387695,
          -5.376998424530029,
          -0.6780890226364136,
          6.688368797302246,
          1.4402713775634766,
          8.655206680297852,
          6.3396897315979,
          2.8867170810699463,
          -4.215549945831299,
          -1.871353268623352,
          0.863429605960846,
          -6.756826877593994,
          5.524070739746094,
          6.8245439529418945,
          4.445742607116699,
          -6.432755947113037,
          -6.72566556930542,
          10.735791206359863,
          -4.828278064727783,
          -1.0229356288909912,
          -1.6897152662277222,
          3.8492400646209717,
          -5.631808757781982,
          -1.6819329261779785,
          5.160505771636963,
          -2.970200538635254,
          8.338282585144043,
          11.473066329956055,
          -5.229996681213379,
          5.51969051361084,
          -10.555930137634277,
          7.776262283325195,
          -5.103587627410889,
          0.23377326130867004,
          -5.735591888427734,
          2.0656871795654297,
          -4.955888271331787,
          -1.798707127571106,
          -6.418384552001953,
          2.1933934688568115,
          4.880974769592285,
          -9.067696571350098,
          -4.553317070007324,
          -8.101960182189941,
          -8.191854476928711,
          -10.36100959777832,
          -10.573114395141602,
          -5.493038177490234,
          8.514781951904297,
          4.0946526527404785,
          2.2368056774139404,
          -2.269382953643799,
          6.4638671875,
          3.672123432159424,
          2.0500829219818115,
          4.209366798400879,
          -8.585789680480957,
          -10.655379295349121,
          1.5862144231796265,
          -0.7804936170578003,
          -7.759917259216309,
          -8.14882755279541,
          -6.0406060218811035,
          -8.732934951782227,
          -9.411266326904297,
          11.23454475402832,
          -8.368956565856934,
          -9.410749435424805,
          8.912841796875,
          -9.425949096679688,
          -4.680782318115234,
          6.817622661590576,
          -2.212237596511841,
          2.7010579109191895,
          -4.2974090576171875,
          7.340967655181885,
          8.161321640014648,
          -3.7516086101531982,
          -5.077794075012207,
          -2.0950913429260254,
          -6.542352199554443,
          -6.736844539642334,
          -2.3201239109039307,
          -8.484406471252441,
          -4.350741863250732,
          -4.350897789001465,
          -4.351014137268066,
          3.080981969833374,
          3.6212375164031982,
          4.225510120391846,
          0.6176499128341675,
          4.484884738922119,
          8.668638229370117,
          4.220524787902832,
          -6.816034317016602,
          2.363135576248169,
          0.2880554497241974,
          -8.254883766174316,
          1.3371717929840088,
          -6.563213348388672,
          -4.7242937088012695,
          -10.6510009765625,
          -2.535740375518799,
          7.908088684082031,
          -10.1049165725708,
          -0.8447003364562988,
          -5.376953601837158,
          0.2606353759765625,
          1.992370367050171,
          -5.295598030090332,
          -1.5623425245285034,
          6.166926860809326,
          -6.667489051818848,
          -3.7331011295318604,
          9.44247817993164,
          7.805552959442139,
          -2.156792640686035,
          -5.8307905197143555,
          -6.600368022918701,
          -6.2585530281066895,
          6.2005615234375,
          -5.305154323577881,
          -2.513662815093994,
          4.599093437194824,
          0.33131319284439087,
          -4.271713733673096,
          0.8869119882583618,
          -3.3177073001861572,
          -3.3018858432769775,
          -4.152334213256836,
          -6.2882771492004395,
          0.26836785674095154,
          -5.7737250328063965,
          4.6159515380859375,
          -4.288877010345459,
          -5.5215020179748535,
          2.8815064430236816,
          0.23406849801540375,
          -5.038897514343262,
          5.409024715423584,
          -1.5067216157913208,
          1.677505612373352,
          -3.538774013519287,
          3.28149151802063,
          -4.702945232391357,
          -1.0220394134521484,
          4.7350664138793945,
          -1.8013368844985962,
          -5.032203197479248,
          1.8035099506378174,
          -3.4410598278045654,
          -4.963864326477051,
          2.6951582431793213,
          4.6273274421691895,
          2.1350605487823486,
          -8.836033821105957,
          -2.3214049339294434,
          -8.173746109008789,
          -6.820364952087402,
          -2.4497668743133545,
          -2.1688992977142334,
          -10.211152076721191,
          -1.2557473182678223,
          -10.308572769165039,
          -6.163111686706543,
          0.5179656744003296,
          -6.7839789390563965,
          -1.2451674938201904,
          3.2311933040618896,
          -0.6527966260910034,
          5.073936462402344,
          -3.2443583011627197,
          3.059058904647827,
          -1.4705029726028442,
          -5.245645523071289,
          0.9715740084648132,
          -1.1332982778549194,
          6.531862258911133,
          3.10127592086792,
          2.7453131675720215,
          -8.486802101135254,
          -0.4736041724681854,
          -9.915247917175293,
          3.643749952316284,
          -3.047762393951416,
          6.106438636779785,
          0.8106752634048462,
          0.35311537981033325,
          -8.965795516967773,
          -4.248306751251221,
          -2.070037364959717,
          -4.150998592376709,
          -0.8310148119926453,
          -0.40509912371635437,
          4.375341892242432,
          1.9962409734725952,
          2.8005154132843018,
          3.548731803894043,
          -6.13726806640625,
          3.0511109828948975,
          0.34041571617126465,
          -5.3376922607421875,
          -1.3985997438430786,
          0.8840341567993164,
          -4.294358253479004,
          -5.020417213439941,
          3.7938647270202637,
          4.197713851928711,
          -3.87269926071167,
          -6.640161037445068,
          -6.2930474281311035,
          -9.830007553100586,
          -0.2055930197238922,
          1.8859214782714844,
          5.89246129989624,
          9.745613098144531,
          7.253632068634033,
          7.879518032073975,
          -2.6711220741271973,
          6.720407962799072,
          6.101624488830566,
          0.5157986879348755,
          4.451780796051025,
          -1.109471321105957,
          -2.587721586227417,
          5.235994338989258,
          -3.7954728603363037,
          -0.0688757598400116,
          -6.9888224601745605,
          -6.6363606452941895,
          -5.236699104309082,
          -3.81563138961792,
          0.19083547592163086,
          3.2752983570098877,
          11.379459381103516,
          -10.373700141906738,
          7.813296318054199,
          -1.1707080602645874,
          -9.037736892700195,
          0.719840407371521,
          -4.322775363922119,
          -8.665570259094238,
          -2.4668357372283936,
          -3.22296404838562,
          8.360250473022461,
          8.087346076965332,
          6.279773235321045,
          7.629791736602783,
          2.040954351425171,
          -7.0739030838012695,
          -8.627824783325195,
          -2.6237294673919678,
          -4.3617939949035645,
          -3.024611473083496,
          -7.920521259307861,
          3.083263397216797,
          -7.216029644012451,
          -5.984640598297119,
          3.4044907093048096,
          -1.2555367946624756,
          -2.174085855484009,
          7.703263759613037,
          0.9046082496643066,
          -7.411407947540283,
          -6.662757396697998,
          -0.3583168089389801,
          -10.38486099243164,
          2.438446044921875,
          0.3192577064037323,
          5.939306259155273,
          8.877394676208496,
          -0.7062872052192688,
          -2.858949661254883,
          -1.194546103477478,
          -0.17558325827121735,
          0.8976280689239502,
          -1.3698911666870117,
          -9.373517036437988,
          -5.3856940269470215,
          -1.8496028184890747,
          -1.6971993446350098,
          -1.0050995349884033,
          -5.885921478271484,
          7.049657821655273,
          4.068636417388916,
          9.625201225280762,
          -9.152284622192383,
          -3.7899091243743896,
          4.5160298347473145,
          8.174382209777832,
          11.583133697509766,
          -5.613683700561523,
          3.104283094406128,
          2.480625867843628,
          -7.6429924964904785,
          4.109073638916016,
          -4.859299182891846,
          -6.3074798583984375,
          -6.763812065124512,
          -3.6243972778320312,
          1.6624205112457275,
          0.15985623002052307,
          6.950361251831055,
          -4.531733989715576,
          5.977474689483643,
          -9.94439697265625,
          -3.593780755996704,
          1.0462456941604614,
          3.126063585281372,
          -0.38470131158828735,
          -11.47353458404541,
          -6.574713706970215,
          -3.410581350326538,
          3.0737576484680176,
          5.059917449951172,
          -1.6409685611724854,
          1.1354831457138062,
          4.532595634460449,
          -2.2973546981811523,
          0.0020814479794353247,
          0.19685006141662598,
          1.88521409034729,
          -9.270349502563477,
          -3.1408660411834717,
          -2.036688804626465,
          0.40980520844459534,
          -6.070577144622803,
          -7.284473419189453,
          -5.428730010986328,
          -1.5714788436889648,
          1.621349811553955,
          -1.521324634552002,
          -3.422365188598633,
          -3.200261116027832,
          -5.394065856933594,
          -6.866848468780518,
          -0.22668522596359253,
          -0.4963245689868927,
          -1.1941783428192139,
          -3.4742579460144043,
          -5.8130717277526855,
          7.694791793823242,
          -4.334817409515381,
          0.8563706874847412,
          6.4077324867248535,
          3.388861656188965,
          1.3817076683044434,
          -5.238650798797607,
          -3.5720386505126953,
          3.4688286781311035,
          -2.453972101211548,
          -3.200261116027832,
          -1.6337581872940063,
          -5.970472812652588,
          4.283726692199707,
          3.8661322593688965,
          4.398449420928955,
          2.946343421936035,
          1.8955618143081665,
          7.464296340942383,
          -3.0824759006500244,
          0.09452547132968903,
          2.9910569190979004,
          -6.628231525421143,
          6.580056667327881,
          -4.509308815002441,
          1.2955553531646729,
          2.395860433578491,
          -1.7935525178909302,
          -6.354742527008057,
          -3.8688042163848877,
          0.4508519172668457,
          -4.488232135772705,
          -1.9620938301086426,
          0.04435049742460251,
          -2.190793037414551,
          1.1022636890411377,
          7.687540531158447,
          -6.454307556152344,
          0.9535009860992432,
          -5.931106090545654,
          5.1731743812561035,
          -11.260560035705566,
          -4.866146564483643,
          6.7533860206604,
          -3.349734306335449,
          -4.27672815322876,
          -6.839452266693115,
          -7.615489959716797,
          1.1434944868087769,
          -2.193401336669922,
          1.5703850984573364,
          2.6482510566711426,
          -1.3536139726638794,
          -8.346105575561523,
          -9.52346420288086,
          0.9324443340301514,
          -2.5670902729034424,
          -1.5796746015548706,
          0.153693288564682,
          -5.752668857574463,
          -2.4854204654693604,
          -4.375705718994141,
          -4.16149377822876,
          -5.323115825653076,
          -5.347011089324951,
          -5.884095191955566,
          2.765331506729126,
          -10.672590255737305,
          -10.443267822265625,
          1.8810694217681885,
          -9.145771980285645,
          3.881807804107666,
          6.767364501953125,
          -1.6114935874938965,
          -2.4256930351257324
         ],
         "y": [
          -3.9820845127105713,
          5.562001705169678,
          -6.566005229949951,
          -8.928781509399414,
          -3.812030792236328,
          4.01710844039917,
          5.193701267242432,
          -0.8806338906288147,
          -4.388105869293213,
          4.21140193939209,
          1.8667086362838745,
          -8.609992980957031,
          0.2316575050354004,
          5.410248756408691,
          -0.8318169713020325,
          3.9187095165252686,
          1.3170850276947021,
          -7.394252300262451,
          3.3495044708251953,
          -1.1460140943527222,
          4.82099723815918,
          5.382640361785889,
          -7.089027404785156,
          -7.712857723236084,
          4.323238849639893,
          -6.218443870544434,
          5.160088062286377,
          3.8505194187164307,
          7.028196334838867,
          -7.870842456817627,
          -4.978034496307373,
          0.1636049598455429,
          -3.8996405601501465,
          0.9746147990226746,
          -6.49742317199707,
          3.942457914352417,
          4.06352424621582,
          3.6527841091156006,
          4.581709861755371,
          -8.132730484008789,
          -1.3265966176986694,
          3.084491491317749,
          4.917046546936035,
          -8.377876281738281,
          -3.660792112350464,
          3.8350651264190674,
          0.7405924201011658,
          2.3437767028808594,
          5.946012020111084,
          5.678565979003906,
          5.605071544647217,
          5.634644508361816,
          -4.045680999755859,
          5.703874111175537,
          6.966747283935547,
          4.99299430847168,
          -3.3685190677642822,
          -8.311629295349121,
          -6.721526145935059,
          5.289749622344971,
          6.468367099761963,
          -3.0638952255249023,
          2.3779819011688232,
          -2.7883901596069336,
          0.6942226886749268,
          6.5904316902160645,
          -3.8759424686431885,
          -1.1762021780014038,
          -7.46640682220459,
          -1.028017520904541,
          6.174831390380859,
          -7.073187828063965,
          2.555839776992798,
          0.2003115713596344,
          -1.5597820281982422,
          -7.71572732925415,
          4.276300430297852,
          5.919949531555176,
          -6.3848700523376465,
          -6.238882064819336,
          0.40894123911857605,
          1.2528800964355469,
          3.334299087524414,
          -0.6100171208381653,
          -1.7388719320297241,
          -6.256731033325195,
          1.4161322116851807,
          4.749763011932373,
          -0.7492417097091675,
          1.676185965538025,
          -1.0334892272949219,
          0.12598758935928345,
          -3.311455488204956,
          2.070140838623047,
          -7.778621673583984,
          5.548550128936768,
          0.11749839782714844,
          -3.7826507091522217,
          -1.2554845809936523,
          -5.6106462478637695,
          1.1493324041366577,
          -3.6491103172302246,
          -6.283721923828125,
          -2.130803108215332,
          0.1699516773223877,
          -2.7395176887512207,
          0.045018527656793594,
          -3.3524887561798096,
          -8.580945014953613,
          -6.664624214172363,
          0.26006385684013367,
          -2.480844020843506,
          -0.17904818058013916,
          7.034928798675537,
          7.017361164093018,
          -5.7491044998168945,
          -3.4235100746154785,
          -3.7884678840637207,
          7.381957054138184,
          7.186052322387695,
          5.229013442993164,
          6.830517292022705,
          6.642370700836182,
          3.9145596027374268,
          5.9631781578063965,
          -10.587146759033203,
          2.7395873069763184,
          4.787387371063232,
          3.0856573581695557,
          0.20926755666732788,
          -5.869751930236816,
          3.5756959915161133,
          4.345709800720215,
          -9.35451889038086,
          -1.1442713737487793,
          -6.568028926849365,
          5.65686559677124,
          -0.16341286897659302,
          -1.1962381601333618,
          5.336794853210449,
          -4.672989368438721,
          7.648743629455566,
          0.9630818367004395,
          3.2976813316345215,
          -0.8113137483596802,
          7.124610900878906,
          -4.507111072540283,
          7.646603584289551,
          -8.113480567932129,
          -2.2954556941986084,
          6.479437828063965,
          -4.208582401275635,
          -3.8565547466278076,
          -5.613978862762451,
          -3.8783516883850098,
          1.7393629550933838,
          -1.4359307289123535,
          -3.716998815536499,
          5.492528915405273,
          7.606680393218994,
          6.573625087738037,
          6.614851474761963,
          7.651163101196289,
          4.22221565246582,
          -4.276119232177734,
          6.015995979309082,
          0.11074083298444748,
          -10.550403594970703,
          5.0534515380859375,
          2.2566847801208496,
          5.272708892822266,
          5.29757833480835,
          4.111871242523193,
          -5.851500511169434,
          -0.017409000545740128,
          -5.164252758026123,
          1.323048710823059,
          -3.6087913513183594,
          -3.6354353427886963,
          4.2874956130981445,
          -1.8461452722549438,
          6.588957786560059,
          1.204992413520813,
          -0.42677822709083557,
          6.796588897705078,
          5.3147873878479,
          0.9963566064834595,
          6.244524955749512,
          7.647991180419922,
          7.6496429443359375,
          2.2070655822753906,
          7.599140167236328,
          -0.44508251547813416,
          -0.1325758695602417,
          -6.499552249908447,
          6.027807235717773,
          5.304113864898682,
          -1.4245736598968506,
          -3.2534191608428955,
          -6.224045276641846,
          -2.5614800453186035,
          -4.159801006317139,
          3.8804914951324463,
          -4.380511283874512,
          -0.5114060044288635,
          -1.029469609260559,
          -4.575183868408203,
          -6.719288349151611,
          4.474537372589111,
          -2.975736141204834,
          7.234996795654297,
          6.928300380706787,
          -1.6161820888519287,
          -3.626713752746582,
          6.143863201141357,
          5.984963893890381,
          -0.07154981791973114,
          -3.450265645980835,
          -4.476529598236084,
          0.029794640839099884,
          2.4083821773529053,
          6.1530585289001465,
          -0.33746591210365295,
          0.18888570368289948,
          -4.917139530181885,
          -5.474992275238037,
          0.41379764676094055,
          -0.16338151693344116,
          1.2797584533691406,
          0.9839186072349548,
          1.6570987701416016,
          -5.205349922180176,
          1.8109201192855835,
          0.42295682430267334,
          -0.17907290160655975,
          6.659358501434326,
          7.739139556884766,
          -2.2903871536254883,
          2.8539812564849854,
          5.080791473388672,
          -1.363800048828125,
          -1.4747600555419922,
          -7.203980922698975,
          3.635411262512207,
          0.19296251237392426,
          3.2650625705718994,
          -5.835356712341309,
          -0.12910287082195282,
          1.6586265563964844,
          0.89109867811203,
          4.979152679443359,
          0.9468463659286499,
          -3.990539312362671,
          3.3732240200042725,
          8.555753707885742,
          -0.3510878086090088,
          7.209208011627197,
          7.252875804901123,
          -7.01259708404541,
          1.2624233961105347,
          -6.253960132598877,
          -4.264135837554932,
          -4.749955654144287,
          -3.1725432872772217,
          4.110435962677002,
          7.312203407287598,
          2.149225950241089,
          -9.738214492797852,
          6.743849277496338,
          -0.11156553775072098,
          -4.2393951416015625,
          6.877546787261963,
          6.935567855834961,
          2.948531150817871,
          4.97145938873291,
          0.08747920393943787,
          1.3942601680755615,
          1.4562549591064453,
          -2.541926622390747,
          3.3732235431671143,
          4.925036907196045,
          -9.650725364685059,
          1.4791020154953003,
          -9.958902359008789,
          -0.9696895480155945,
          -2.496858596801758,
          2.4261436462402344,
          5.030627250671387,
          -9.727887153625488,
          -5.173640251159668,
          -5.034241199493408,
          -7.6604695320129395,
          -2.5409464836120605,
          4.975915431976318,
          6.284501552581787,
          -1.9649299383163452,
          -6.440577983856201,
          2.228506088256836,
          0.33780035376548767,
          3.9249494075775146,
          -7.414217948913574,
          -0.34853848814964294,
          -9.51913070678711,
          -0.409064382314682,
          2.2907118797302246,
          -3.0679931640625,
          0.48847728967666626,
          2.440904140472412,
          0.5065957903862,
          5.318322658538818,
          6.502645492553711,
          -2.916332960128784,
          -1.1810648441314697,
          -4.1542253494262695,
          -3.7377092838287354,
          -4.3201470375061035,
          5.959604740142822,
          2.1971797943115234,
          -5.1724700927734375,
          -7.212907314300537,
          -4.691904544830322,
          3.321688175201416,
          -1.6767123937606812,
          2.9623866081237793,
          4.771536350250244,
          2.165363073348999,
          4.614282131195068,
          3.999206781387329,
          5.411461353302002,
          -0.34611883759498596,
          2.618300437927246,
          0.6246392130851746,
          -1.2424417734146118,
          3.444323778152466,
          2.2907490730285645,
          -8.740224838256836,
          -2.944507360458374,
          -8.188950538635254,
          -7.2348432540893555,
          3.403897523880005,
          1.4295228719711304,
          1.2537281513214111,
          -1.7682123184204102,
          6.609278678894043,
          1.462813138961792,
          5.756158351898193,
          5.346001625061035,
          -1.7757047414779663,
          -7.861598014831543,
          -7.892320156097412,
          -2.635120153427124,
          -1.0797736644744873,
          -7.112992763519287,
          -0.06609290093183517,
          1.838165044784546,
          -5.485233783721924,
          0.18249765038490295,
          -5.615154266357422,
          -3.1830251216888428,
          -5.398133754730225,
          0.6500537991523743,
          0.1534678041934967,
          -8.169716835021973,
          5.8649983406066895,
          -6.757261276245117,
          7.431745529174805,
          -7.223995208740234,
          -4.498404026031494,
          -3.6200661659240723,
          -4.37352991104126,
          4.374247074127197,
          -2.9073774814605713,
          -3.5496509075164795,
          5.639835834503174,
          2.342986583709717,
          4.016465187072754,
          3.0704307556152344,
          7.008123874664307,
          3.2423343658447266,
          6.1773600578308105,
          -6.599926948547363,
          -6.027994632720947,
          -5.668522834777832,
          -4.475152015686035,
          4.447519302368164,
          6.913608551025391,
          -7.562519550323486,
          6.509441375732422,
          4.229282855987549,
          -2.8170483112335205,
          5.265732288360596,
          -4.508300304412842,
          3.5678935050964355,
          0.2993791103363037,
          0.7733862996101379,
          -1.2016379833221436,
          1.7635352611541748,
          -5.931427478790283,
          8.112337112426758,
          0.3572709560394287,
          -4.905124187469482,
          1.622419834136963,
          4.8620734214782715,
          -4.9202094078063965,
          0.44864487648010254,
          -6.614634037017822,
          -2.4113173484802246,
          2.87481427192688,
          -2.470763683319092,
          -7.359960556030273,
          -3.389517307281494,
          -6.717526435852051,
          4.777369022369385,
          1.392261028289795,
          2.7786149978637695,
          3.5103416442871094,
          5.027491569519043,
          5.980867862701416,
          -5.778415203094482,
          -3.8887367248535156,
          6.0542497634887695,
          2.4192919731140137,
          5.706416606903076,
          5.577103137969971,
          5.8831868171691895,
          -5.697902679443359,
          0.6743971109390259,
          0.45126187801361084,
          -5.361969470977783,
          6.388733386993408,
          -8.244466781616211,
          5.680436611175537,
          5.553321838378906,
          -9.155951499938965,
          1.0960335731506348,
          6.229548931121826,
          -4.589433193206787,
          -8.73729133605957,
          -0.23505301773548126,
          5.59694766998291,
          -2.682457208633423,
          1.3514257669448853,
          5.773906230926514,
          4.87139368057251,
          -3.821254014968872,
          0.03068314492702484,
          -3.9311177730560303,
          -0.44429072737693787,
          -3.0374763011932373,
          -4.969601154327393,
          -5.079320907592773,
          4.1759514808654785,
          -4.401699066162109,
          6.196033954620361,
          2.614001750946045,
          -2.623042106628418,
          -3.6601226329803467,
          0.23147140443325043,
          5.807333469390869,
          -6.981233596801758,
          0.6115959882736206,
          0.6645208597183228,
          7.3910722732543945,
          2.7528116703033447,
          0.04067879915237427,
          3.4785616397857666,
          0.2245294600725174,
          6.0639214515686035,
          -5.7280402183532715,
          -4.0956926345825195,
          2.7975966930389404,
          -0.29395124316215515,
          -0.6095902323722839,
          5.278002738952637,
          2.5433409214019775,
          7.805477619171143,
          6.9581990242004395,
          8.065271377563477,
          -3.370478391647339,
          4.81174373626709,
          3.2201650142669678,
          2.0359575748443604,
          2.0357699394226074,
          2.0358948707580566,
          4.355226039886475,
          -5.2179741859436035,
          -4.374431133270264,
          -8.160008430480957,
          -2.725625991821289,
          0.14984504878520966,
          4.507561683654785,
          3.4981513023376465,
          -4.685644149780273,
          2.4936273097991943,
          4.982176303863525,
          7.1395463943481445,
          3.8209900856018066,
          -0.2790507674217224,
          3.030912399291992,
          -0.7281908988952637,
          3.0521278381347656,
          4.223658084869385,
          4.068967342376709,
          1.5244065523147583,
          -2.23683762550354,
          -3.163816213607788,
          6.189119338989258,
          -3.037379503250122,
          4.403322696685791,
          0.4216032922267914,
          1.4699543714523315,
          6.932775974273682,
          6.375570774078369,
          -2.6378989219665527,
          -5.367686748504639,
          -7.314237594604492,
          -2.192612409591675,
          1.3407739400863647,
          6.838096618652344,
          -3.6492958068847656,
          3.4859979152679443,
          -1.7722129821777344,
          -7.270303249359131,
          -9.677230834960938,
          -9.328119277954102,
          -10.572310447692871,
          -3.489149332046509,
          -7.046075344085693,
          -6.536248207092285,
          2.5500829219818115,
          -8.525470733642578,
          2.7549824714660645,
          3.951195478439331,
          -3.5550107955932617,
          -8.118955612182617,
          -9.848267555236816,
          1.3757344484329224,
          -9.500090599060059,
          -7.799342632293701,
          -3.0352628231048584,
          0.11277302354574203,
          -8.139806747436523,
          3.424119710922241,
          -1.8857386112213135,
          -0.894054651260376,
          0.861113965511322,
          0.5794824957847595,
          -5.072279930114746,
          -5.110286235809326,
          -0.4111071825027466,
          2.9327433109283447,
          -0.29196634888648987,
          5.824723243713379,
          1.968038558959961,
          -0.19901691377162933,
          -3.7811198234558105,
          -0.6760236024856567,
          -2.696199655532837,
          2.2608296871185303,
          4.882580280303955,
          5.927574157714844,
          -5.906369686126709,
          0.07206558436155319,
          6.746059417724609,
          5.426023960113525,
          6.459583282470703,
          -0.9656199216842651,
          -6.296053409576416,
          -0.7753667831420898,
          3.680244207382202,
          5.506165981292725,
          5.232070446014404,
          -3.4619500637054443,
          -0.34782636165618896,
          4.294322967529297,
          -0.08080211281776428,
          0.8899332284927368,
          3.5589168071746826,
          2.337743043899536,
          1.2451817989349365,
          2.7493793964385986,
          -5.577080726623535,
          1.4778845310211182,
          -6.289304256439209,
          -6.410648822784424,
          3.1383235454559326,
          -8.291516304016113,
          -4.369545936584473,
          -4.707502841949463,
          5.384276866912842,
          -1.5955687761306763,
          5.095788955688477,
          -3.5190675258636475,
          1.1756802797317505,
          -6.390313625335693,
          -6.815214157104492,
          -9.177214622497559,
          -2.843956470489502,
          -0.9472874999046326,
          6.9011125564575195,
          2.857276678085327,
          -1.4098339080810547,
          7.531221389770508,
          -4.574490070343018,
          1.2066446542739868,
          0.4120175838470459,
          -2.913175106048584,
          8.298978805541992,
          4.255721092224121,
          -7.014294624328613,
          4.3244452476501465,
          5.229307174682617,
          5.936995029449463,
          -1.5529981851577759,
          -0.4830877482891083,
          5.843512535095215,
          5.47661828994751,
          5.455010890960693,
          1.1119499206542969,
          -8.494056701660156,
          0.28218746185302734,
          -3.3755905628204346,
          3.0166618824005127,
          -5.044048309326172,
          -7.943026542663574,
          6.06656551361084,
          -4.318706035614014,
          0.15035776793956757,
          -5.199958324432373,
          -3.716081380844116,
          1.989400029182434,
          4.037832260131836,
          2.1661880016326904,
          3.606999397277832,
          -10.183660507202148,
          -0.3383122682571411,
          -4.804308891296387,
          2.9210829734802246,
          0.24057652056217194,
          1.4170392751693726,
          -3.134965181350708,
          0.6945299506187439,
          4.487483978271484,
          -6.629432201385498,
          1.6457996368408203,
          -5.6245317459106445,
          4.411473274230957,
          5.443641662597656,
          4.647376537322998,
          -0.001106066396459937,
          -0.33884117007255554,
          -0.03569653630256653,
          0.5021743178367615,
          4.520724296569824,
          7.280043601989746,
          6.1181793212890625,
          5.692323207855225,
          3.6634085178375244,
          1.3280466794967651,
          -6.113117694854736,
          4.311050891876221,
          0.3372599184513092,
          -8.042312622070312,
          3.8479549884796143,
          1.967809796333313,
          -8.003958702087402,
          -5.734757423400879,
          5.364833831787109,
          4.235379219055176,
          -6.329093933105469,
          5.592945575714111,
          4.736870288848877,
          0.9583867192268372,
          -9.557615280151367,
          0.8334815502166748,
          -5.5065436363220215,
          -3.1717450618743896,
          1.3443875312805176,
          1.6796587705612183,
          3.4451260566711426,
          -3.992103338241577,
          0.8767641186714172,
          5.371886730194092,
          -0.11303762346506119,
          -8.221426010131836,
          -4.17323112487793,
          5.23793888092041,
          5.697701930999756,
          5.270363807678223,
          2.9825198650360107,
          -6.184386730194092,
          3.5444018840789795,
          -5.124460220336914,
          -7.4633378982543945,
          7.551852703094482,
          2.1436333656311035,
          2.497995376586914,
          -0.6131117939949036,
          -2.3536229133605957,
          -0.82830411195755,
          2.9287619590759277,
          3.9479520320892334,
          1.3549489974975586,
          -1.311338186264038,
          0.7287008166313171,
          -8.641846656799316,
          -2.5056304931640625,
          1.272888422012329,
          2.5764529705047607,
          -2.9295310974121094,
          -5.376155853271484,
          3.306447982788086,
          1.1325557231903076,
          2.1197669506073,
          -2.0315399169921875,
          -1.3356621265411377,
          -5.970760345458984,
          -5.45504093170166,
          -0.8150366544723511,
          5.061448097229004,
          -6.1350860595703125,
          -0.4796580374240875,
          -5.946977615356445,
          3.2453744411468506,
          2.4239249229431152,
          6.9496893882751465,
          2.698200225830078,
          -0.06280627846717834,
          4.079856872558594,
          -0.11446303874254227,
          4.352404594421387,
          7.037328243255615,
          0.218426913022995,
          3.2087690830230713,
          -2.7450623512268066,
          0.9641810655593872,
          2.0893023014068604,
          -0.2941862642765045,
          -3.9491384029388428,
          0.032576784491539,
          -6.370912551879883,
          -7.634024143218994,
          6.8182220458984375,
          -6.724124908447266,
          7.567174911499023,
          2.6269309520721436,
          -8.546784400939941,
          -8.845498085021973,
          4.352404594421387,
          -2.582811117172241,
          4.648287773132324,
          -6.3046555519104,
          1.8820321559906006,
          5.042222499847412,
          2.0449607372283936,
          1.8000903129577637,
          1.287361741065979,
          4.431825637817383,
          2.760618209838867,
          -6.778220176696777,
          1.1936484575271606,
          -1.4216939210891724,
          0.17336063086986542,
          2.9171974658966064,
          0.8022907376289368,
          -4.017366886138916,
          1.0062007904052734,
          -4.533572673797607,
          -2.6504759788513184,
          -6.204522609710693,
          4.2753190994262695,
          5.560405731201172,
          -8.94771671295166,
          -9.720836639404297,
          -2.093503713607788,
          6.8486104011535645,
          -1.0361677408218384,
          4.17268180847168,
          -4.853519439697266,
          1.0352574586868286,
          -8.005881309509277,
          1.3798130750656128,
          -2.0613503456115723,
          5.56834077835083,
          0.5810685157775879,
          4.58317756652832,
          6.508566856384277,
          -3.569608449935913,
          -7.686912536621094,
          -9.409261703491211,
          0.9803616404533386,
          6.225088596343994,
          1.6700565814971924,
          0.8372708559036255,
          1.3911582231521606,
          -1.4461562633514404,
          -7.7369303703308105,
          3.226667642593384,
          -1.4520436525344849,
          -1.4656769037246704,
          -4.199028491973877,
          5.4254150390625,
          6.972194194793701,
          4.735462188720703,
          -0.25151926279067993,
          4.561138153076172,
          5.70502233505249,
          -7.760286331176758,
          3.0792460441589355,
          1.4853781461715698,
          -0.03766098991036415,
          -0.4309137761592865,
          -4.902374744415283
         ],
         "z": [
          0.06922131776809692,
          -0.9340140223503113,
          -1.2296652793884277,
          3.3877391815185547,
          -0.5808702111244202,
          1.7190150022506714,
          0.4027054011821747,
          -0.18444304168224335,
          1.4134109020233154,
          1.1907166242599487,
          3.1679880619049072,
          -0.7601970434188843,
          -4.158930778503418,
          -0.6810639500617981,
          5.320033073425293,
          0.47816717624664307,
          -3.5328938961029053,
          -0.8273397088050842,
          -0.8381784558296204,
          -0.9592905640602112,
          1.3907904624938965,
          4.2332682609558105,
          -2.9284300804138184,
          -3.191840648651123,
          -1.950433373451233,
          3.049989938735962,
          -2.1469881534576416,
          -2.6360392570495605,
          -1.377327799797058,
          -2.9746949672698975,
          -1.3672879934310913,
          -1.9557071924209595,
          3.233299732208252,
          -0.8518136143684387,
          -1.8488435745239258,
          -2.9460244178771973,
          1.883742332458496,
          1.4872585535049438,
          -2.1569252014160156,
          3.318138599395752,
          -0.07324845343828201,
          -3.2656261920928955,
          -3.699136972427368,
          -0.7986567616462708,
          0.9969778060913086,
          -1.277938961982727,
          2.2799930572509766,
          -2.4540576934814453,
          -0.8998036980628967,
          -1.1600050926208496,
          4.052674770355225,
          -1.4301784038543701,
          -0.36962875723838806,
          1.4221006631851196,
          -0.024576721712946892,
          -2.5284993648529053,
          -1.4365712404251099,
          1.2632900476455688,
          -3.577324628829956,
          2.6821975708007812,
          -1.0659356117248535,
          1.6652941703796387,
          0.12745220959186554,
          0.6099846363067627,
          -2.901705741882324,
          2.419684410095215,
          -2.3333024978637695,
          -5.716628074645996,
          4.016186237335205,
          -3.3541977405548096,
          0.8247830271720886,
          -0.06037337705492973,
          4.086833953857422,
          -0.5825048089027405,
          -1.0807396173477173,
          -1.2076352834701538,
          2.455156087875366,
          -0.862838089466095,
          1.1657038927078247,
          1.2624223232269287,
          0.41835817694664,
          4.291284084320068,
          -0.4345304071903229,
          1.6224106550216675,
          -0.08339504897594452,
          -2.1676230430603027,
          1.5835236310958862,
          -3.6681408882141113,
          4.010870933532715,
          -2.855664014816284,
          -1.4244437217712402,
          -1.137251853942871,
          3.8737950325012207,
          1.0217102766036987,
          -3.4799044132232666,
          2.8782386779785156,
          -0.8110641241073608,
          -2.460784673690796,
          2.0387520790100098,
          -1.2055578231811523,
          0.23808139562606812,
          -1.8908381462097168,
          -3.7026426792144775,
          2.0495662689208984,
          -1.3038517236709595,
          1.026982307434082,
          -2.1815648078918457,
          0.832288384437561,
          -1.574470043182373,
          2.3848154544830322,
          3.290579080581665,
          1.476455807685852,
          -1.5333378314971924,
          -0.1949942260980606,
          -1.2326595783233643,
          0.098577581346035,
          0.1065460741519928,
          0.9026520252227783,
          1.1781431436538696,
          1.4015998840332031,
          1.4985804557800293,
          1.1651077270507812,
          1.4971164464950562,
          1.9651868343353271,
          -3.3594844341278076,
          2.4085943698883057,
          -2.1427974700927734,
          -2.5208144187927246,
          0.41948649287223816,
          3.1269185543060303,
          -1.4414434432983398,
          -3.782592296600342,
          4.780210494995117,
          3.782733917236328,
          0.7825912833213806,
          3.7814652919769287,
          -3.515101909637451,
          -3.0816025733947754,
          -3.671038866043091,
          -1.8246537446975708,
          -4.149675369262695,
          0.08979494869709015,
          0.31224381923675537,
          0.334349125623703,
          -5.033733367919922,
          -0.23291903734207153,
          2.268068790435791,
          0.08917371928691864,
          3.204584836959839,
          4.538890838623047,
          -3.4191462993621826,
          -1.622015118598938,
          0.18820497393608093,
          1.5108156204223633,
          0.8888043165206909,
          -1.62269926071167,
          -1.4735925197601318,
          0.8477553129196167,
          -1.9272174835205078,
          -2.5673437118530273,
          2.880930185317993,
          0.433833509683609,
          0.09079017490148544,
          -4.9703474044799805,
          3.027007818222046,
          -3.1624462604522705,
          1.9359197616577148,
          2.5911190509796143,
          5.192386150360107,
          -1.766472339630127,
          -0.33985766768455505,
          1.8882319927215576,
          -0.4957190155982971,
          -0.12534289062023163,
          0.751476526260376,
          1.9061583280563354,
          -1.3662323951721191,
          -3.0605156421661377,
          -2.8600685596466064,
          1.7617229223251343,
          5.031002521514893,
          -0.14627210795879364,
          -0.18547524511814117,
          2.3366506099700928,
          0.2961343228816986,
          3.0811781883239746,
          -2.866617202758789,
          -3.1711583137512207,
          0.0896248072385788,
          0.09006290137767792,
          1.3051458597183228,
          0.8037681579589844,
          3.901487112045288,
          -1.7540119886398315,
          -3.6381514072418213,
          -3.3418760299682617,
          1.2378268241882324,
          -0.2485785186290741,
          4.130606651306152,
          2.4808294773101807,
          -0.3164233863353729,
          2.832125186920166,
          -3.5690178871154785,
          1.0106850862503052,
          1.7225103378295898,
          -4.285982608795166,
          1.4105604887008667,
          -1.6403776407241821,
          4.749823570251465,
          3.8277344703674316,
          -2.224379301071167,
          -3.369875907897949,
          3.378615140914917,
          -2.1678740978240967,
          -0.8261409401893616,
          0.20555628836154938,
          0.9441932439804077,
          -2.294700860977173,
          4.3903703689575195,
          -1.7808518409729004,
          -2.362480401992798,
          1.8494443893432617,
          -3.230034828186035,
          -3.423562526702881,
          -3.695676326751709,
          0.4636808931827545,
          -2.2845189571380615,
          -1.5575661659240723,
          0.3436942994594574,
          0.23782879114151,
          2.578171730041504,
          1.7287442684173584,
          1.9072601795196533,
          -4.1507768630981445,
          0.7313823103904724,
          -0.6242232918739319,
          0.11999203264713287,
          4.12391471862793,
          -0.9338420629501343,
          -0.16233929991722107,
          -0.5250366926193237,
          2.9924745559692383,
          0.007571134250611067,
          2.09053635597229,
          1.1876600980758667,
          -0.3806248903274536,
          4.489796161651611,
          4.864917278289795,
          0.8464198112487793,
          1.339005947113037,
          0.2812432646751404,
          -3.9183740615844727,
          -2.018965244293213,
          -2.232309103012085,
          -3.133110523223877,
          0.6234387755393982,
          0.22683438658714294,
          0.19468577206134796,
          -1.3639016151428223,
          -1.804057002067566,
          1.4771376848220825,
          -2.069932222366333,
          0.19074641168117523,
          5.4820075035095215,
          -2.2296061515808105,
          -0.1560467779636383,
          1.6748982667922974,
          2.194310426712036,
          0.42295852303504944,
          3.3897550106048584,
          4.739986896514893,
          -0.3264957666397095,
          -2.565749406814575,
          -3.022860050201416,
          -3.682030439376831,
          4.68306303024292,
          -0.9042131304740906,
          2.969162940979004,
          2.7129762172698975,
          1.0531736612319946,
          -4.4584126472473145,
          1.8576761484146118,
          -0.08711860328912735,
          1.4579849243164062,
          1.228081226348877,
          5.812415599822998,
          3.9826042652130127,
          -2.3714590072631836,
          1.4286388158798218,
          -2.2113571166992188,
          -0.26291945576667786,
          -0.7089060544967651,
          -3.8844807147979736,
          1.2534326314926147,
          0.9593851566314697,
          6.271798610687256,
          -0.7122360467910767,
          2.922852039337158,
          -1.4919021129608154,
          -2.8736162185668945,
          -0.0881616547703743,
          2.2059128284454346,
          3.6071183681488037,
          1.7251654863357544,
          2.0374231338500977,
          0.9740995168685913,
          4.578192710876465,
          -1.2519853115081787,
          -1.6270272731781006,
          0.6184515953063965,
          0.6750921010971069,
          4.294753074645996,
          -4.259640216827393,
          -0.41203123331069946,
          -2.197075128555298,
          2.85475492477417,
          0.44317689538002014,
          -1.3268539905548096,
          1.3238178491592407,
          0.7735081911087036,
          1.2064847946166992,
          0.7615900635719299,
          -4.430668830871582,
          2.4249205589294434,
          3.3376870155334473,
          -1.9132989645004272,
          0.6978992819786072,
          1.1148691177368164,
          -3.0329749584198,
          1.0689575672149658,
          -3.069528579711914,
          4.325359344482422,
          -3.867757797241211,
          -3.038919687271118,
          -2.902571439743042,
          3.691828966140747,
          -1.879624843597412,
          -0.6940901279449463,
          -0.46635207533836365,
          -1.1181246042251587,
          -2.910421133041382,
          -0.39487236738204956,
          -1.7283895015716553,
          2.0894572734832764,
          -0.42707595229148865,
          -1.8365545272827148,
          -3.1205501556396484,
          2.8417482376098633,
          -1.9000072479248047,
          2.4890878200531006,
          4.613584995269775,
          0.35224422812461853,
          0.006323843263089657,
          -4.034325122833252,
          -3.1898043155670166,
          -0.11763320863246918,
          3.2889974117279053,
          3.621965169906616,
          0.9889747500419617,
          -2.0949478149414062,
          -1.065020203590393,
          -3.238981246948242,
          2.3106014728546143,
          -0.339478462934494,
          1.124793529510498,
          0.236496701836586,
          0.9050697088241577,
          -1.4569264650344849,
          3.4583497047424316,
          1.1494253873825073,
          1.7582587003707886,
          2.0614230632781982,
          0.5914266705513,
          3.4690797328948975,
          0.874570369720459,
          -1.1052924394607544,
          -4.2749552726745605,
          -0.014634441584348679,
          1.9708366394042969,
          -3.0738918781280518,
          0.37890079617500305,
          0.517879068851471,
          -1.2127089500427246,
          -0.9119455218315125,
          2.165843963623047,
          0.221273735165596,
          -2.836322069168091,
          -0.05584020912647247,
          1.172667384147644,
          -0.061389368027448654,
          0.8106649518013,
          -1.9126538038253784,
          2.7777528762817383,
          1.6177022457122803,
          1.4093197584152222,
          -1.2005014419555664,
          2.689099073410034,
          0.12096093595027924,
          -2.671767234802246,
          -1.5423675775527954,
          -2.5115034580230713,
          4.137056350708008,
          1.2061893939971924,
          0.6739780306816101,
          0.2672210931777954,
          3.615549325942993,
          -0.10247515141963959,
          4.643167972564697,
          2.323654890060425,
          0.45106473565101624,
          -0.006237289868295193,
          -1.993510127067566,
          -0.2278715819120407,
          1.9067827463150024,
          -1.9754889011383057,
          3.8770458698272705,
          5.001026630401611,
          3.399440288543701,
          -3.600519895553589,
          2.73915433883667,
          3.3478965759277344,
          -1.7624768018722534,
          1.581488013267517,
          -2.1616079807281494,
          0.3648760914802551,
          3.6870381832122803,
          0.8338072299957275,
          -1.3253909349441528,
          0.6897779107093811,
          1.612807035446167,
          3.512744426727295,
          -1.1999658346176147,
          -2.13377046585083,
          2.752765655517578,
          -1.5736256837844849,
          -4.231880187988281,
          1.4933967590332031,
          -0.7206363677978516,
          -0.610602855682373,
          0.22694462537765503,
          0.276881605386734,
          -3.590583562850952,
          -3.430229425430298,
          -2.938178539276123,
          -2.1041760444641113,
          2.4353220462799072,
          -0.39609599113464355,
          -3.279529333114624,
          0.10724014043807983,
          0.11314193904399872,
          -3.651824474334717,
          -1.820064902305603,
          0.5011568665504456,
          -0.8219118118286133,
          -3.4171605110168457,
          4.442130088806152,
          -2.129812717437744,
          1.4474698305130005,
          0.6180073022842407,
          3.470156192779541,
          -0.3470652401447296,
          -1.8759263753890991,
          -0.35112470388412476,
          -1.8298602104187012,
          0.7175095081329346,
          1.448669672012329,
          -1.7745552062988281,
          0.07130907475948334,
          -1.3786334991455078,
          -1.7086336612701416,
          -0.42439109086990356,
          2.115953207015991,
          0.4141191244125366,
          2.0292186737060547,
          -4.337395668029785,
          -2.7978005409240723,
          0.8401744961738586,
          -3.171116352081299,
          3.6096420288085938,
          0.23791232705116272,
          -2.833834409713745,
          -1.042619228363037,
          -1.0427154302597046,
          -1.0425759553909302,
          2.600766181945801,
          0.8382073640823364,
          -3.0199875831604004,
          -3.4225029945373535,
          -2.3911595344543457,
          2.490410089492798,
          0.2746904492378235,
          1.2547054290771484,
          1.9203845262527466,
          -0.7040183544158936,
          -0.018953317776322365,
          -0.005733178928494453,
          0.6838691830635071,
          1.7093310356140137,
          -2.927389621734619,
          -5.415137767791748,
          1.4297516345977783,
          -2.8047571182250977,
          -0.7062327861785889,
          2.3121559619903564,
          -0.64445960521698,
          0.8400497436523438,
          1.1654971837997437,
          -0.6141166090965271,
          3.3459060192108154,
          -0.27859318256378174,
          0.8301588296890259,
          0.5166613459587097,
          0.9398098587989807,
          5.238699913024902,
          3.369788885116577,
          2.836376667022705,
          2.317845582962036,
          -2.0388083457946777,
          1.1412678956985474,
          3.8010001182556152,
          -2.9049901962280273,
          1.3897583484649658,
          1.8628844022750854,
          1.369948148727417,
          4.047148704528809,
          2.5161943435668945,
          1.4389501810073853,
          4.129279136657715,
          3.2866218090057373,
          -4.130149841308594,
          -0.7067636251449585,
          2.208895206451416,
          3.1152610778808594,
          -2.634085178375244,
          3.763259172439575,
          3.420381546020508,
          -2.921696186065674,
          2.6364574432373047,
          -4.008054733276367,
          0.00735064409673214,
          -0.7942113876342773,
          2.833972454071045,
          -0.9691804647445679,
          -4.022623538970947,
          -0.6405096650123596,
          -1.3147523403167725,
          0.630658745765686,
          -1.6834512948989868,
          2.6578121185302734,
          2.291691780090332,
          -3.1171960830688477,
          -4.263824939727783,
          -3.147444248199463,
          -3.5322916507720947,
          0.22940205037593842,
          3.665597438812256,
          4.685995578765869,
          6.0880446434021,
          -2.10455584526062,
          -2.221904993057251,
          -3.3917038440704346,
          0.021353693678975105,
          3.332249402999878,
          0.17604190111160278,
          4.164207935333252,
          -0.8880269527435303,
          -3.0623891353607178,
          -1.2317107915878296,
          -0.6695588231086731,
          2.110671043395996,
          -2.731701612472534,
          -2.849457263946533,
          -0.16530278325080872,
          -2.9082870483398438,
          2.137930393218994,
          -0.6252280473709106,
          -2.749616861343384,
          -2.7181732654571533,
          -0.9942129850387573,
          -2.3112375736236572,
          -2.93925404548645,
          4.719836235046387,
          -2.027827024459839,
          -2.962608814239502,
          -2.041553258895874,
          -1.438197374343872,
          3.988765239715576,
          1.190251111984253,
          -1.793123722076416,
          5.366292476654053,
          6.2182183265686035,
          -1.307006597518921,
          -2.96059513092041,
          -0.800832211971283,
          -3.5015900135040283,
          3.4125547409057617,
          1.5322113037109375,
          0.9896230101585388,
          -2.3202733993530273,
          0.4524358808994293,
          4.707627296447754,
          3.8600914478302,
          -3.0337436199188232,
          -0.4361300468444824,
          -3.873725414276123,
          1.215187907218933,
          3.4552953243255615,
          -3.3242805004119873,
          -2.808703899383545,
          2.551870584487915,
          1.810378909111023,
          1.4311555624008179,
          -0.8774534463882446,
          2.363196611404419,
          -1.0861763954162598,
          1.7199000120162964,
          0.2406388372182846,
          1.1633105278015137,
          2.1318063735961914,
          -0.7430935502052307,
          -2.4301254749298096,
          4.787484169006348,
          -0.7252457141876221,
          0.13241952657699585,
          2.3179595470428467,
          -2.9598424434661865,
          3.2746284008026123,
          -2.2350871562957764,
          0.9462082386016846,
          -2.9591832160949707,
          -3.129668712615967,
          -2.2874557971954346,
          -3.6267049312591553,
          2.0462348461151123,
          2.472606897354126,
          -0.4684890806674957,
          1.3777159452438354,
          -4.356731414794922,
          -0.41016507148742676,
          -3.8247148990631104,
          3.1443932056427,
          -0.09645312279462814,
          -0.08684221655130386,
          -0.8181714415550232,
          -0.03749975189566612,
          0.35769912600517273,
          -3.691164493560791,
          -2.6008944511413574,
          -0.685244083404541,
          4.248636722564697,
          -0.07206761091947556,
          0.889001727104187,
          -3.262808084487915,
          -2.77307391166687,
          0.43712306022644043,
          -0.8540961742401123,
          3.9348397254943848,
          -2.205299139022827,
          4.175989151000977,
          -3.1509666442871094,
          -2.7521979808807373,
          -0.08357275277376175,
          2.3339145183563232,
          -2.715702772140503,
          -2.396545648574829,
          -3.0747828483581543,
          -4.246717929840088,
          -1.9720596075057983,
          -0.7222563028335571,
          -2.535670757293701,
          -1.846390962600708,
          5.129757881164551,
          2.8884072303771973,
          2.291146755218506,
          -1.2074105739593506,
          3.0677640438079834,
          -4.133088111877441,
          -0.39055943489074707,
          0.8826439380645752,
          -3.8205177783966064,
          -2.7820751667022705,
          0.3059534430503845,
          0.7229958772659302,
          -0.473322331905365,
          4.168097972869873,
          0.9486385583877563,
          2.814495086669922,
          -1.5705987215042114,
          -0.23298868536949158,
          -1.0505671501159668,
          -3.726562023162842,
          -2.727238655090332,
          0.49316588044166565,
          5.336398124694824,
          -0.8787928819656372,
          1.762965440750122,
          -2.0677847862243652,
          -4.548300743103027,
          0.1460735946893692,
          1.8483054637908936,
          -4.332757949829102,
          1.9183459281921387,
          -0.7205608487129211,
          -0.9589396119117737,
          1.1649067401885986,
          0.5222375988960266,
          -5.306865215301514,
          -1.783605694770813,
          -4.090577125549316,
          3.345879077911377,
          -3.40067982673645,
          -1.1899710893630981,
          2.431666612625122,
          4.246408462524414,
          -0.7760947346687317,
          2.291149616241455,
          -1.073280692100525,
          -2.153409242630005,
          -3.5816283226013184,
          -1.122663974761963,
          -3.079493522644043,
          4.719549179077148,
          -2.052522659301758,
          -3.6360816955566406,
          -2.7626731395721436,
          -2.836740016937256,
          -2.067009925842285,
          3.2440268993377686,
          -1.4911953210830688,
          0.32776638865470886,
          1.0138081312179565,
          2.434387683868408,
          -2.470383882522583,
          -2.836888551712036,
          -5.298983097076416,
          2.648308753967285,
          3.410460948944092,
          1.1532524824142456,
          0.9507774710655212,
          1.5161023139953613,
          1.5100865364074707,
          0.0771104022860527,
          -1.3737813234329224,
          1.9703387022018433,
          -2.6785166263580322,
          4.1118011474609375,
          0.9119858741760254,
          3.3247687816619873,
          1.0138081312179565,
          -3.6791067123413086,
          3.1478958129882812,
          -0.6676065921783447,
          0.8007405996322632,
          0.1919366717338562,
          -3.0591211318969727,
          -1.8517909049987793,
          4.286147117614746,
          0.9160892367362976,
          -0.8532986640930176,
          -3.2401585578918457,
          2.570150852203369,
          1.4380249977111816,
          -0.2476607859134674,
          1.6090381145477295,
          -0.725021243095398,
          3.4172186851501465,
          0.03299850970506668,
          1.6950758695602417,
          1.1125478744506836,
          2.158017873764038,
          -0.8255355358123779,
          -1.472517967224121,
          3.1755871772766113,
          1.2590314149856567,
          3.5920541286468506,
          0.3450908660888672,
          -5.633998870849609,
          2.2051985263824463,
          -2.5696802139282227,
          -1.6920669078826904,
          3.366607666015625,
          2.161106824874878,
          2.1726622581481934,
          0.8226925134658813,
          -1.8491435050964355,
          -2.899381160736084,
          -0.4920984208583832,
          4.012701511383057,
          -0.9939411282539368,
          1.912127137184143,
          2.316408395767212,
          1.01790452003479,
          -0.23006318509578705,
          2.978639841079712,
          -3.760823965072632,
          -3.9660065174102783,
          -3.1101088523864746,
          -3.8490307331085205,
          2.285425901412964,
          2.88653564453125,
          1.62908136844635,
          0.16207490861415863,
          2.4596357345581055,
          -2.6145899295806885,
          1.908215880393982,
          -3.0982377529144287,
          -3.535857915878296,
          -2.254351854324341,
          -1.1507405042648315,
          0.6605356335639954,
          2.592956304550171,
          4.685065746307373,
          4.431228160858154
         ]
        },
        {
         "hovertemplate": "label=mgood<br>tsne_1=%{x}<br>tsne_2=%{y}<br>tsne_3=%{z}<extra></extra>",
         "legendgroup": "mgood",
         "marker": {
          "color": "#EF553B",
          "opacity": 0.5,
          "size": 2,
          "symbol": "circle"
         },
         "mode": "markers",
         "name": "mgood",
         "scene": "scene",
         "showlegend": true,
         "type": "scatter3d",
         "x": [
          -3.711726188659668,
          -1.1053203344345093,
          3.0350677967071533,
          7.691123008728027,
          8.38196086883545,
          0.20050445199012756,
          1.5327787399291992,
          4.151398181915283,
          -1.7410191297531128,
          -7.202061176300049,
          -8.603972434997559,
          11.001870155334473,
          2.007974863052368,
          -3.1774826049804688,
          11.594552040100098,
          6.631736755371094,
          0.1795705407857895,
          8.400160789489746,
          0.5369705557823181,
          7.591043949127197,
          3.595322847366333,
          3.870638608932495,
          -2.2031352519989014,
          -0.3419817388057709,
          2.0938515663146973,
          -0.628203272819519,
          -3.433109760284424,
          -5.138164520263672,
          8.774781227111816,
          4.231138706207275,
          -2.2123496532440186,
          -6.239320755004883,
          -3.787919282913208,
          2.3806912899017334,
          -1.7226290702819824,
          -4.794061183929443,
          -5.150876522064209,
          0.16202855110168457,
          0.21259337663650513,
          8.053563117980957,
          1.2432249784469604,
          -2.0070598125457764,
          1.906251311302185,
          0.7775077223777771,
          3.5020670890808105,
          -2.663222074508667,
          -0.7259235978126526,
          -8.877416610717773,
          3.5458736419677734,
          -0.3182249069213867,
          10.530574798583984,
          0.04063929617404938,
          1.5181320905685425,
          3.546200752258301,
          8.532184600830078,
          -1.1371755599975586,
          6.089003562927246,
          0.7012084126472473,
          2.6124396324157715,
          -1.6559733152389526,
          6.505134105682373,
          2.8906731605529785,
          -3.6633694171905518,
          -2.277355432510376
         ],
         "y": [
          4.872176170349121,
          -0.683698296546936,
          3.7388384342193604,
          3.70676326751709,
          1.9811031818389893,
          -6.58699893951416,
          0.23958441615104675,
          -5.821212291717529,
          -1.4775193929672241,
          -2.162585973739624,
          6.110846519470215,
          6.860662937164307,
          -1.174736738204956,
          0.5776530504226685,
          7.135148525238037,
          -1.9543483257293701,
          0.9740117788314819,
          -1.877241611480713,
          -5.507476806640625,
          5.808636665344238,
          -0.913735032081604,
          -5.704074859619141,
          -2.049488067626953,
          4.993658065795898,
          -6.00462007522583,
          3.4574246406555176,
          -0.16688504815101624,
          -7.129868984222412,
          3.292781114578247,
          -7.0880937576293945,
          1.2416685819625854,
          3.792356252670288,
          -3.3797738552093506,
          -6.007221698760986,
          -6.5291948318481445,
          -0.21263505518436432,
          -2.6984972953796387,
          4.130201816558838,
          -5.012922763824463,
          5.09653377532959,
          5.541558742523193,
          4.627241134643555,
          -1.1430120468139648,
          -8.527393341064453,
          -6.5317864418029785,
          -6.64730167388916,
          5.384746074676514,
          5.101198196411133,
          -5.050413131713867,
          -5.401760578155518,
          5.677615165710449,
          -5.880743026733398,
          4.38991641998291,
          0.14965349435806274,
          5.555217266082764,
          3.6034882068634033,
          -6.741124629974365,
          -5.426056861877441,
          1.742384433746338,
          -6.449606418609619,
          -1.7895402908325195,
          -6.4514546394348145,
          -6.159603118896484,
          -2.974436044692993
         ],
         "z": [
          -4.750899791717529,
          5.157657146453857,
          0.9981693625450134,
          1.6595016717910767,
          -0.5124494433403015,
          3.1683287620544434,
          4.469758987426758,
          -3.476351022720337,
          -4.568896293640137,
          1.562646508216858,
          -1.0860350131988525,
          -0.020122595131397247,
          -3.175283670425415,
          -1.5013601779937744,
          -0.6609029173851013,
          -2.0409810543060303,
          1.883501648902893,
          2.3646111488342285,
          -2.6673290729522705,
          -2.762774705886841,
          -4.156010150909424,
          -2.6465377807617188,
          5.023836612701416,
          -2.678292989730835,
          3.1693403720855713,
          -2.7315545082092285,
          -0.48186296224594116,
          5.241220474243164,
          1.428178310394287,
          -0.6592918038368225,
          -1.2039402723312378,
          0.3880443871021271,
          4.389280796051025,
          -3.887463331222534,
          -1.7300251722335815,
          -4.868919372558594,
          -2.2752366065979004,
          -1.1274712085723877,
          -3.1650891304016113,
          -2.7798900604248047,
          3.4054207801818848,
          -1.381392478942871,
          -2.5255889892578125,
          2.3404977321624756,
          -2.000770092010498,
          1.2752372026443481,
          5.274880886077881,
          -1.755751609802246,
          -3.4418222904205322,
          -3.8942904472351074,
          0.26789501309394836,
          -4.034468173980713,
          -2.0717973709106445,
          -3.0885367393493652,
          -1.7050813436508179,
          -3.6839749813079834,
          -0.5912607908248901,
          -1.1659055948257446,
          2.797250986099243,
          1.4501733779907227,
          1.3999842405319214,
          -3.1098225116729736,
          4.025074005126953,
          5.242826461791992
         ]
        },
        {
         "hovertemplate": "label=mbad<br>tsne_1=%{x}<br>tsne_2=%{y}<br>tsne_3=%{z}<extra></extra>",
         "legendgroup": "mbad",
         "marker": {
          "color": "#00cc96",
          "opacity": 0.5,
          "size": 2,
          "symbol": "circle"
         },
         "mode": "markers",
         "name": "mbad",
         "scene": "scene",
         "showlegend": true,
         "type": "scatter3d",
         "x": [
          6.982673645019531,
          5.633665084838867,
          -5.332907199859619,
          3.091254711151123,
          5.402659893035889,
          1.096604347229004,
          8.872854232788086,
          4.838411808013916,
          10.289692878723145,
          4.934521675109863,
          5.744410991668701,
          10.962737083435059,
          8.3560209274292,
          3.13472056388855,
          4.50718355178833,
          9.376516342163086,
          -6.87217903137207,
          9.41254711151123,
          8.2681303024292,
          0.45418936014175415,
          5.029080867767334,
          5.325390815734863,
          8.763779640197754,
          -0.5729551315307617,
          1.1127676963806152,
          4.8230109214782715,
          5.182699203491211,
          5.091099262237549,
          6.905529022216797,
          8.205460548400879,
          1.3853819370269775,
          9.812413215637207,
          -5.030991554260254,
          9.415386199951172,
          5.4150872230529785,
          8.034470558166504,
          8.871761322021484,
          3.50453782081604,
          9.14427375793457,
          4.746868133544922,
          2.2781870365142822,
          11.3310546875,
          7.701308250427246,
          9.358152389526367,
          2.0732667446136475,
          -2.1472606658935547,
          9.497831344604492,
          8.907601356506348,
          4.026822566986084,
          4.617892742156982,
          4.011146545410156,
          5.436771869659424,
          8.791403770446777,
          5.7104291915893555,
          8.213157653808594,
          8.474050521850586,
          3.4170892238616943,
          8.814078330993652,
          7.213193893432617,
          2.636577844619751,
          7.783318042755127,
          9.291470527648926,
          0.43374964594841003,
          11.501354217529297,
          6.072517395019531,
          4.854384899139404,
          10.050873756408691,
          10.005887985229492,
          11.49027156829834,
          10.189313888549805,
          10.054975509643555,
          10.30538558959961
         ],
         "y": [
          1.9988774061203003,
          -0.4579395055770874,
          4.332278251647949,
          -6.705513000488281,
          2.7578916549682617,
          -4.861380100250244,
          2.1123464107513428,
          -0.5171759724617004,
          3.336545944213867,
          2.8508660793304443,
          -6.838835716247559,
          3.008523464202881,
          1.5787969827651978,
          -7.621358394622803,
          -5.935747146606445,
          4.74330472946167,
          -3.7087903022766113,
          1.9581626653671265,
          -0.502914309501648,
          1.816729187965393,
          -4.939220905303955,
          2.415696382522583,
          0.18699398636817932,
          -1.724935531616211,
          -7.481325149536133,
          -5.093301773071289,
          -6.26845121383667,
          3.7699708938598633,
          -4.441523551940918,
          -0.3593384027481079,
          -8.691889762878418,
          3.491689443588257,
          -9.361644744873047,
          1.5678942203521729,
          2.6437036991119385,
          4.963231563568115,
          1.6852096319198608,
          4.521862506866455,
          0.24746839702129364,
          -2.6453449726104736,
          -5.520076751708984,
          5.208118438720703,
          4.823320388793945,
          0.8852465152740479,
          4.281286716461182,
          -2.6505885124206543,
          1.7939362525939941,
          0.6730465888977051,
          -1.4091898202896118,
          5.421504497528076,
          -4.839189052581787,
          -3.93206787109375,
          2.507423162460327,
          -6.745530605316162,
          1.9759700298309326,
          5.455220699310303,
          5.273545742034912,
          -0.8757795691490173,
          -8.231266975402832,
          -5.570681571960449,
          -0.2139587700366974,
          3.3655853271484375,
          3.685737133026123,
          7.662245750427246,
          -2.904695749282837,
          5.905085563659668,
          2.099945306777954,
          3.5151898860931396,
          5.203071594238281,
          2.533078670501709,
          5.377820014953613,
          1.866455078125
         ],
         "z": [
          0.40214332938194275,
          -0.782185435295105,
          -3.2467989921569824,
          -1.7259892225265503,
          3.8693649768829346,
          -0.912154495716095,
          -1.9090808629989624,
          -1.2148089408874512,
          -1.336134910583496,
          -0.65630704164505,
          -4.557123184204102,
          -2.2055535316467285,
          -0.547141432762146,
          -1.4042456150054932,
          -5.000794887542725,
          -0.7005488276481628,
          2.914574384689331,
          -1.7823740243911743,
          -1.1170988082885742,
          -0.2520165741443634,
          -2.450512409210205,
          0.8061509728431702,
          -0.2749558389186859,
          6.154514789581299,
          1.8865251541137695,
          -4.170295715332031,
          -5.188736915588379,
          1.7813403606414795,
          0.43310070037841797,
          -1.5290576219558716,
          1.7073291540145874,
          -0.16445624828338623,
          2.532651424407959,
          -2.093137741088867,
          0.7131739854812622,
          -0.27138179540634155,
          -0.5881443023681641,
          1.955644130706787,
          -0.09362402558326721,
          -3.2587759494781494,
          -3.9044992923736572,
          -1.589382529258728,
          -0.11894642561674118,
          -2.521026372909546,
          -2.870795726776123,
          0.7525957226753235,
          -1.9963299036026,
          0.6751026511192322,
          -0.3952992558479309,
          -1.2430909872055054,
          -4.576591968536377,
          -4.022189140319824,
          -1.395933747291565,
          -4.561144828796387,
          -1.2318230867385864,
          -0.15337178111076355,
          -1.5953682661056519,
          -0.8465650677680969,
          -0.824949324131012,
          -5.343905925750732,
          -1.8369289636611938,
          -0.6927467584609985,
          4.861853122711182,
          0.3353147804737091,
          1.0229650735855103,
          -0.9340474605560303,
          -0.6259691119194031,
          0.16905145347118378,
          -1.7296596765518188,
          -1.1797987222671509,
          -1.9566506147384644,
          -0.3620346486568451
         ]
        },
        {
         "hovertemplate": "label=bad<br>tsne_1=%{x}<br>tsne_2=%{y}<br>tsne_3=%{z}<extra></extra>",
         "legendgroup": "bad",
         "marker": {
          "color": "#ab63fa",
          "opacity": 0.5,
          "size": 2,
          "symbol": "circle"
         },
         "mode": "markers",
         "name": "bad",
         "scene": "scene",
         "showlegend": true,
         "type": "scatter3d",
         "x": [
          6.81402063369751,
          5.423646450042725,
          4.688979148864746,
          9.447986602783203,
          7.269979953765869,
          11.265889167785645,
          -0.7888309955596924,
          6.316493988037109,
          9.080533027648926,
          3.9183995723724365,
          10.741203308105469,
          8.963554382324219,
          8.660905838012695,
          1.533087968826294,
          8.087435722351074,
          8.140372276306152,
          4.982920169830322,
          6.740885257720947,
          5.748305320739746,
          9.06864070892334,
          11.002284049987793,
          9.09073543548584,
          8.640198707580566,
          6.157186031341553,
          9.794865608215332,
          9.055953025817871,
          5.747554779052734,
          -7.975066661834717,
          5.329894542694092
         ],
         "y": [
          1.0070953369140625,
          3.0971713066101074,
          -5.916723728179932,
          2.60414457321167,
          -6.5359954833984375,
          5.252529621124268,
          -9.490477561950684,
          3.340528964996338,
          1.777459740638733,
          -6.3205342292785645,
          5.758481979370117,
          -0.12081443518400192,
          0.9614050388336182,
          -7.141855239868164,
          4.0718159675598145,
          -0.27650097012519836,
          4.964379787445068,
          -0.8178500533103943,
          4.003810405731201,
          1.390968918800354,
          5.5865159034729,
          1.3238322734832764,
          0.43592506647109985,
          0.052685197442770004,
          5.3634867668151855,
          3.6204569339752197,
          0.3821865916252136,
          5.964023590087891,
          3.2713558673858643
         ],
         "z": [
          1.7468258142471313,
          0.413093239068985,
          -3.809737205505371,
          -1.7457367181777954,
          0.26051968336105347,
          -1.6262195110321045,
          1.8822715282440186,
          -0.4544717073440552,
          -2.1852498054504395,
          -1.0004076957702637,
          1.320391297340393,
          -2.228374481201172,
          -0.532234787940979,
          1.8600457906723022,
          -0.25509944558143616,
          -1.1354038715362549,
          0.8816006183624268,
          -1.1027830839157104,
          -0.7498592734336853,
          1.680602788925171,
          -0.009487122297286987,
          1.6425849199295044,
          -0.6649602055549622,
          -1.3592102527618408,
          0.42386436462402344,
          0.3945541977882385,
          -0.1028849184513092,
          -3.9980366230010986,
          -2.998457908630371
         ]
        }
       ],
       "layout": {
        "legend": {
         "title": {
          "text": "label"
         },
         "tracegroupgap": 0
        },
        "scene": {
         "camera": {
          "eye": {
           "x": 0.9,
           "y": 0.9,
           "z": 0.9
          }
         },
         "domain": {
          "x": [
           0,
           1
          ],
          "y": [
           0,
           1
          ]
         },
         "xaxis": {
          "title": {
           "text": "tsne_1"
          }
         },
         "yaxis": {
          "title": {
           "text": "tsne_2"
          }
         },
         "zaxis": {
          "title": {
           "text": "tsne_3"
          }
         }
        },
        "template": {
         "data": {
          "bar": [
           {
            "error_x": {
             "color": "#2a3f5f"
            },
            "error_y": {
             "color": "#2a3f5f"
            },
            "marker": {
             "line": {
              "color": "#E5ECF6",
              "width": 0.5
             },
             "pattern": {
              "fillmode": "overlay",
              "size": 10,
              "solidity": 0.2
             }
            },
            "type": "bar"
           }
          ],
          "barpolar": [
           {
            "marker": {
             "line": {
              "color": "#E5ECF6",
              "width": 0.5
             },
             "pattern": {
              "fillmode": "overlay",
              "size": 10,
              "solidity": 0.2
             }
            },
            "type": "barpolar"
           }
          ],
          "carpet": [
           {
            "aaxis": {
             "endlinecolor": "#2a3f5f",
             "gridcolor": "white",
             "linecolor": "white",
             "minorgridcolor": "white",
             "startlinecolor": "#2a3f5f"
            },
            "baxis": {
             "endlinecolor": "#2a3f5f",
             "gridcolor": "white",
             "linecolor": "white",
             "minorgridcolor": "white",
             "startlinecolor": "#2a3f5f"
            },
            "type": "carpet"
           }
          ],
          "choropleth": [
           {
            "colorbar": {
             "outlinewidth": 0,
             "ticks": ""
            },
            "type": "choropleth"
           }
          ],
          "contour": [
           {
            "colorbar": {
             "outlinewidth": 0,
             "ticks": ""
            },
            "colorscale": [
             [
              0,
              "#0d0887"
             ],
             [
              0.1111111111111111,
              "#46039f"
             ],
             [
              0.2222222222222222,
              "#7201a8"
             ],
             [
              0.3333333333333333,
              "#9c179e"
             ],
             [
              0.4444444444444444,
              "#bd3786"
             ],
             [
              0.5555555555555556,
              "#d8576b"
             ],
             [
              0.6666666666666666,
              "#ed7953"
             ],
             [
              0.7777777777777778,
              "#fb9f3a"
             ],
             [
              0.8888888888888888,
              "#fdca26"
             ],
             [
              1,
              "#f0f921"
             ]
            ],
            "type": "contour"
           }
          ],
          "contourcarpet": [
           {
            "colorbar": {
             "outlinewidth": 0,
             "ticks": ""
            },
            "type": "contourcarpet"
           }
          ],
          "heatmap": [
           {
            "colorbar": {
             "outlinewidth": 0,
             "ticks": ""
            },
            "colorscale": [
             [
              0,
              "#0d0887"
             ],
             [
              0.1111111111111111,
              "#46039f"
             ],
             [
              0.2222222222222222,
              "#7201a8"
             ],
             [
              0.3333333333333333,
              "#9c179e"
             ],
             [
              0.4444444444444444,
              "#bd3786"
             ],
             [
              0.5555555555555556,
              "#d8576b"
             ],
             [
              0.6666666666666666,
              "#ed7953"
             ],
             [
              0.7777777777777778,
              "#fb9f3a"
             ],
             [
              0.8888888888888888,
              "#fdca26"
             ],
             [
              1,
              "#f0f921"
             ]
            ],
            "type": "heatmap"
           }
          ],
          "heatmapgl": [
           {
            "colorbar": {
             "outlinewidth": 0,
             "ticks": ""
            },
            "colorscale": [
             [
              0,
              "#0d0887"
             ],
             [
              0.1111111111111111,
              "#46039f"
             ],
             [
              0.2222222222222222,
              "#7201a8"
             ],
             [
              0.3333333333333333,
              "#9c179e"
             ],
             [
              0.4444444444444444,
              "#bd3786"
             ],
             [
              0.5555555555555556,
              "#d8576b"
             ],
             [
              0.6666666666666666,
              "#ed7953"
             ],
             [
              0.7777777777777778,
              "#fb9f3a"
             ],
             [
              0.8888888888888888,
              "#fdca26"
             ],
             [
              1,
              "#f0f921"
             ]
            ],
            "type": "heatmapgl"
           }
          ],
          "histogram": [
           {
            "marker": {
             "pattern": {
              "fillmode": "overlay",
              "size": 10,
              "solidity": 0.2
             }
            },
            "type": "histogram"
           }
          ],
          "histogram2d": [
           {
            "colorbar": {
             "outlinewidth": 0,
             "ticks": ""
            },
            "colorscale": [
             [
              0,
              "#0d0887"
             ],
             [
              0.1111111111111111,
              "#46039f"
             ],
             [
              0.2222222222222222,
              "#7201a8"
             ],
             [
              0.3333333333333333,
              "#9c179e"
             ],
             [
              0.4444444444444444,
              "#bd3786"
             ],
             [
              0.5555555555555556,
              "#d8576b"
             ],
             [
              0.6666666666666666,
              "#ed7953"
             ],
             [
              0.7777777777777778,
              "#fb9f3a"
             ],
             [
              0.8888888888888888,
              "#fdca26"
             ],
             [
              1,
              "#f0f921"
             ]
            ],
            "type": "histogram2d"
           }
          ],
          "histogram2dcontour": [
           {
            "colorbar": {
             "outlinewidth": 0,
             "ticks": ""
            },
            "colorscale": [
             [
              0,
              "#0d0887"
             ],
             [
              0.1111111111111111,
              "#46039f"
             ],
             [
              0.2222222222222222,
              "#7201a8"
             ],
             [
              0.3333333333333333,
              "#9c179e"
             ],
             [
              0.4444444444444444,
              "#bd3786"
             ],
             [
              0.5555555555555556,
              "#d8576b"
             ],
             [
              0.6666666666666666,
              "#ed7953"
             ],
             [
              0.7777777777777778,
              "#fb9f3a"
             ],
             [
              0.8888888888888888,
              "#fdca26"
             ],
             [
              1,
              "#f0f921"
             ]
            ],
            "type": "histogram2dcontour"
           }
          ],
          "mesh3d": [
           {
            "colorbar": {
             "outlinewidth": 0,
             "ticks": ""
            },
            "type": "mesh3d"
           }
          ],
          "parcoords": [
           {
            "line": {
             "colorbar": {
              "outlinewidth": 0,
              "ticks": ""
             }
            },
            "type": "parcoords"
           }
          ],
          "pie": [
           {
            "automargin": true,
            "type": "pie"
           }
          ],
          "scatter": [
           {
            "fillpattern": {
             "fillmode": "overlay",
             "size": 10,
             "solidity": 0.2
            },
            "type": "scatter"
           }
          ],
          "scatter3d": [
           {
            "line": {
             "colorbar": {
              "outlinewidth": 0,
              "ticks": ""
             }
            },
            "marker": {
             "colorbar": {
              "outlinewidth": 0,
              "ticks": ""
             }
            },
            "type": "scatter3d"
           }
          ],
          "scattercarpet": [
           {
            "marker": {
             "colorbar": {
              "outlinewidth": 0,
              "ticks": ""
             }
            },
            "type": "scattercarpet"
           }
          ],
          "scattergeo": [
           {
            "marker": {
             "colorbar": {
              "outlinewidth": 0,
              "ticks": ""
             }
            },
            "type": "scattergeo"
           }
          ],
          "scattergl": [
           {
            "marker": {
             "colorbar": {
              "outlinewidth": 0,
              "ticks": ""
             }
            },
            "type": "scattergl"
           }
          ],
          "scattermapbox": [
           {
            "marker": {
             "colorbar": {
              "outlinewidth": 0,
              "ticks": ""
             }
            },
            "type": "scattermapbox"
           }
          ],
          "scatterpolar": [
           {
            "marker": {
             "colorbar": {
              "outlinewidth": 0,
              "ticks": ""
             }
            },
            "type": "scatterpolar"
           }
          ],
          "scatterpolargl": [
           {
            "marker": {
             "colorbar": {
              "outlinewidth": 0,
              "ticks": ""
             }
            },
            "type": "scatterpolargl"
           }
          ],
          "scatterternary": [
           {
            "marker": {
             "colorbar": {
              "outlinewidth": 0,
              "ticks": ""
             }
            },
            "type": "scatterternary"
           }
          ],
          "surface": [
           {
            "colorbar": {
             "outlinewidth": 0,
             "ticks": ""
            },
            "colorscale": [
             [
              0,
              "#0d0887"
             ],
             [
              0.1111111111111111,
              "#46039f"
             ],
             [
              0.2222222222222222,
              "#7201a8"
             ],
             [
              0.3333333333333333,
              "#9c179e"
             ],
             [
              0.4444444444444444,
              "#bd3786"
             ],
             [
              0.5555555555555556,
              "#d8576b"
             ],
             [
              0.6666666666666666,
              "#ed7953"
             ],
             [
              0.7777777777777778,
              "#fb9f3a"
             ],
             [
              0.8888888888888888,
              "#fdca26"
             ],
             [
              1,
              "#f0f921"
             ]
            ],
            "type": "surface"
           }
          ],
          "table": [
           {
            "cells": {
             "fill": {
              "color": "#EBF0F8"
             },
             "line": {
              "color": "white"
             }
            },
            "header": {
             "fill": {
              "color": "#C8D4E3"
             },
             "line": {
              "color": "white"
             }
            },
            "type": "table"
           }
          ]
         },
         "layout": {
          "annotationdefaults": {
           "arrowcolor": "#2a3f5f",
           "arrowhead": 0,
           "arrowwidth": 1
          },
          "autotypenumbers": "strict",
          "coloraxis": {
           "colorbar": {
            "outlinewidth": 0,
            "ticks": ""
           }
          },
          "colorscale": {
           "diverging": [
            [
             0,
             "#8e0152"
            ],
            [
             0.1,
             "#c51b7d"
            ],
            [
             0.2,
             "#de77ae"
            ],
            [
             0.3,
             "#f1b6da"
            ],
            [
             0.4,
             "#fde0ef"
            ],
            [
             0.5,
             "#f7f7f7"
            ],
            [
             0.6,
             "#e6f5d0"
            ],
            [
             0.7,
             "#b8e186"
            ],
            [
             0.8,
             "#7fbc41"
            ],
            [
             0.9,
             "#4d9221"
            ],
            [
             1,
             "#276419"
            ]
           ],
           "sequential": [
            [
             0,
             "#0d0887"
            ],
            [
             0.1111111111111111,
             "#46039f"
            ],
            [
             0.2222222222222222,
             "#7201a8"
            ],
            [
             0.3333333333333333,
             "#9c179e"
            ],
            [
             0.4444444444444444,
             "#bd3786"
            ],
            [
             0.5555555555555556,
             "#d8576b"
            ],
            [
             0.6666666666666666,
             "#ed7953"
            ],
            [
             0.7777777777777778,
             "#fb9f3a"
            ],
            [
             0.8888888888888888,
             "#fdca26"
            ],
            [
             1,
             "#f0f921"
            ]
           ],
           "sequentialminus": [
            [
             0,
             "#0d0887"
            ],
            [
             0.1111111111111111,
             "#46039f"
            ],
            [
             0.2222222222222222,
             "#7201a8"
            ],
            [
             0.3333333333333333,
             "#9c179e"
            ],
            [
             0.4444444444444444,
             "#bd3786"
            ],
            [
             0.5555555555555556,
             "#d8576b"
            ],
            [
             0.6666666666666666,
             "#ed7953"
            ],
            [
             0.7777777777777778,
             "#fb9f3a"
            ],
            [
             0.8888888888888888,
             "#fdca26"
            ],
            [
             1,
             "#f0f921"
            ]
           ]
          },
          "colorway": [
           "#636efa",
           "#EF553B",
           "#00cc96",
           "#ab63fa",
           "#FFA15A",
           "#19d3f3",
           "#FF6692",
           "#B6E880",
           "#FF97FF",
           "#FECB52"
          ],
          "font": {
           "color": "#2a3f5f"
          },
          "geo": {
           "bgcolor": "white",
           "lakecolor": "white",
           "landcolor": "#E5ECF6",
           "showlakes": true,
           "showland": true,
           "subunitcolor": "white"
          },
          "hoverlabel": {
           "align": "left"
          },
          "hovermode": "closest",
          "mapbox": {
           "style": "light"
          },
          "paper_bgcolor": "white",
          "plot_bgcolor": "#E5ECF6",
          "polar": {
           "angularaxis": {
            "gridcolor": "white",
            "linecolor": "white",
            "ticks": ""
           },
           "bgcolor": "#E5ECF6",
           "radialaxis": {
            "gridcolor": "white",
            "linecolor": "white",
            "ticks": ""
           }
          },
          "scene": {
           "xaxis": {
            "backgroundcolor": "#E5ECF6",
            "gridcolor": "white",
            "gridwidth": 2,
            "linecolor": "white",
            "showbackground": true,
            "ticks": "",
            "zerolinecolor": "white"
           },
           "yaxis": {
            "backgroundcolor": "#E5ECF6",
            "gridcolor": "white",
            "gridwidth": 2,
            "linecolor": "white",
            "showbackground": true,
            "ticks": "",
            "zerolinecolor": "white"
           },
           "zaxis": {
            "backgroundcolor": "#E5ECF6",
            "gridcolor": "white",
            "gridwidth": 2,
            "linecolor": "white",
            "showbackground": true,
            "ticks": "",
            "zerolinecolor": "white"
           }
          },
          "shapedefaults": {
           "line": {
            "color": "#2a3f5f"
           }
          },
          "ternary": {
           "aaxis": {
            "gridcolor": "white",
            "linecolor": "white",
            "ticks": ""
           },
           "baxis": {
            "gridcolor": "white",
            "linecolor": "white",
            "ticks": ""
           },
           "bgcolor": "#E5ECF6",
           "caxis": {
            "gridcolor": "white",
            "linecolor": "white",
            "ticks": ""
           }
          },
          "title": {
           "x": 0.05
          },
          "xaxis": {
           "automargin": true,
           "gridcolor": "white",
           "linecolor": "white",
           "ticks": "",
           "title": {
            "standoff": 15
           },
           "zerolinecolor": "white",
           "zerolinewidth": 2
          },
          "yaxis": {
           "automargin": true,
           "gridcolor": "white",
           "linecolor": "white",
           "ticks": "",
           "title": {
            "standoff": 15
           },
           "zerolinecolor": "white",
           "zerolinewidth": 2
          }
         }
        },
        "title": {
         "text": "t-SNE embeddings of reviews"
        }
       }
      }
     },
     "metadata": {},
     "output_type": "display_data"
    }
   ],
   "source": [
    "embeddings_df = pd.DataFrame()\n",
    "embeddings_df[\"review_id\"] = df.review_id\n",
    "embeddings_df[\"label\"] = df.label\n",
    "embeddings_df = enmbeddings_features(embeddings_df)\n",
    "\n",
    "# apply tsne to reduce to `dims` dimensions\n",
    "dims = 3\n",
    "embd_df = tsne_features(embeddings_df.drop(columns=[\"review_id\", \"label\"], axis=1), dims=dims)\n",
    "embd_df[\"review_id\"] = embeddings_df.review_id\n",
    "embd_df[\"label\"] = embeddings_df.label\n",
    "\n",
    "# plot 3d scatter with plotly\n",
    "fig = px.scatter_3d(embd_df, x=\"tsne_1\", y=\"tsne_2\", z=\"tsne_3\", color=\"label\", title=\"t-SNE embeddings of reviews\", )\n",
    "# make size of point smaller and opaque\n",
    "fig.update_traces(marker=dict(size=2, opacity=0.5))\n",
    "# make inital zoom bigger\n",
    "fig.update_layout(scene=dict(camera_eye=dict(x=0.9, y=0.9, z=0.9)))\n",
    "fig.show()"
   ]
  },
  {
   "attachments": {},
   "cell_type": "markdown",
   "metadata": {},
   "source": [
    "# Generate Features"
   ]
  },
  {
   "attachments": {},
   "cell_type": "markdown",
   "metadata": {},
   "source": [
    "With what we know, let's generate some features. I've provided a function for each type of feature, so we can mix and match."
   ]
  },
  {
   "cell_type": "code",
   "execution_count": 43,
   "metadata": {},
   "outputs": [
    {
     "name": "stdout",
     "output_type": "stream",
     "text": [
      "Creating model...\n",
      "Generating embeddings...\n",
      "Applying t-SNE... (dim=3)\n",
      "(978, 5)\n"
     ]
    },
    {
     "data": {
      "text/html": [
       "<div>\n",
       "<style scoped>\n",
       "    .dataframe tbody tr th:only-of-type {\n",
       "        vertical-align: middle;\n",
       "    }\n",
       "\n",
       "    .dataframe tbody tr th {\n",
       "        vertical-align: top;\n",
       "    }\n",
       "\n",
       "    .dataframe thead th {\n",
       "        text-align: right;\n",
       "    }\n",
       "</style>\n",
       "<table border=\"1\" class=\"dataframe\">\n",
       "  <thead>\n",
       "    <tr style=\"text-align: right;\">\n",
       "      <th></th>\n",
       "      <th>tsne_1</th>\n",
       "      <th>tsne_2</th>\n",
       "      <th>tsne_3</th>\n",
       "      <th>review_id</th>\n",
       "      <th>label</th>\n",
       "    </tr>\n",
       "  </thead>\n",
       "  <tbody>\n",
       "    <tr>\n",
       "      <th>0</th>\n",
       "      <td>-1.576276</td>\n",
       "      <td>-4.528067</td>\n",
       "      <td>0.512486</td>\n",
       "      <td>83097</td>\n",
       "      <td>good</td>\n",
       "    </tr>\n",
       "    <tr>\n",
       "      <th>1</th>\n",
       "      <td>-6.570731</td>\n",
       "      <td>5.611952</td>\n",
       "      <td>-0.747063</td>\n",
       "      <td>133337</td>\n",
       "      <td>good</td>\n",
       "    </tr>\n",
       "    <tr>\n",
       "      <th>2</th>\n",
       "      <td>-3.095543</td>\n",
       "      <td>-7.745854</td>\n",
       "      <td>-2.016212</td>\n",
       "      <td>150928</td>\n",
       "      <td>good</td>\n",
       "    </tr>\n",
       "    <tr>\n",
       "      <th>3</th>\n",
       "      <td>-5.831224</td>\n",
       "      <td>-5.978860</td>\n",
       "      <td>3.190655</td>\n",
       "      <td>2706775</td>\n",
       "      <td>good</td>\n",
       "    </tr>\n",
       "    <tr>\n",
       "      <th>4</th>\n",
       "      <td>0.908774</td>\n",
       "      <td>-4.491825</td>\n",
       "      <td>0.500521</td>\n",
       "      <td>8602878</td>\n",
       "      <td>good</td>\n",
       "    </tr>\n",
       "  </tbody>\n",
       "</table>\n",
       "</div>"
      ],
      "text/plain": [
       "     tsne_1    tsne_2    tsne_3  review_id label\n",
       "0 -1.576276 -4.528067  0.512486      83097  good\n",
       "1 -6.570731  5.611952 -0.747063     133337  good\n",
       "2 -3.095543 -7.745854 -2.016212     150928  good\n",
       "3 -5.831224 -5.978860  3.190655    2706775  good\n",
       "4  0.908774 -4.491825  0.500521    8602878  good"
      ]
     },
     "execution_count": 43,
     "metadata": {},
     "output_type": "execute_result"
    }
   ],
   "source": [
    "from collections import Counter\n",
    "\n",
    "# build features\n",
    "features = pd.DataFrame()\n",
    "features = enmbeddings_features(features)\n",
    "\n",
    "# apply tsne to reduce to `dims` dimensions\n",
    "dims = 3\n",
    "features = tsne_features(features, dims=dims)\n",
    "\n",
    "# add id and label\n",
    "features[\"review_id\"] = df.review_id\n",
    "features[\"label\"] = df.label\n",
    "\n",
    "print(features.shape)\n",
    "features.head()"
   ]
  },
  {
   "cell_type": "code",
   "execution_count": 44,
   "metadata": {},
   "outputs": [],
   "source": [
    "if isinstance(GEO, list):\n",
    "    geo_display_name = \"_\".join(GEO)\n",
    "else:\n",
    "    geo_display_name = GEO\n",
    "\n",
    "features.to_csv(f\"../../data/processed/features_{geo_display_name}.csv\", index=False)"
   ]
  },
  {
   "cell_type": "code",
   "execution_count": null,
   "metadata": {},
   "outputs": [],
   "source": []
  }
 ],
 "metadata": {
  "kernelspec": {
   "display_name": "venv",
   "language": "python",
   "name": "python3"
  },
  "language_info": {
   "codemirror_mode": {
    "name": "ipython",
    "version": 3
   },
   "file_extension": ".py",
   "mimetype": "text/x-python",
   "name": "python",
   "nbconvert_exporter": "python",
   "pygments_lexer": "ipython3",
   "version": "3.10.4"
  },
  "orig_nbformat": 4,
  "vscode": {
   "interpreter": {
    "hash": "cf086def782804284d24881115c612afdcc8ea791299ba67855f0c7f1a9ccc5a"
   }
  }
 },
 "nbformat": 4,
 "nbformat_minor": 2
}
