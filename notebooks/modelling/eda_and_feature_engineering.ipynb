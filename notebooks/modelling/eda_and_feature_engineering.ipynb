{
 "cells": [
  {
   "attachments": {},
   "cell_type": "markdown",
   "metadata": {},
   "source": [
    "## EDA and Feature Engineering on the processed dataset"
   ]
  },
  {
   "cell_type": "code",
   "execution_count": 52,
   "metadata": {},
   "outputs": [],
   "source": [
    "import pandas as pd\n",
    "import numpy as np\n",
    "import matplotlib.pyplot as plt\n",
    "import plotly.express as px"
   ]
  },
  {
   "cell_type": "code",
   "execution_count": 53,
   "metadata": {},
   "outputs": [
    {
     "name": "stdout",
     "output_type": "stream",
     "text": [
      "(978, 8)\n"
     ]
    },
    {
     "data": {
      "text/html": [
       "<div>\n",
       "<style scoped>\n",
       "    .dataframe tbody tr th:only-of-type {\n",
       "        vertical-align: middle;\n",
       "    }\n",
       "\n",
       "    .dataframe tbody tr th {\n",
       "        vertical-align: top;\n",
       "    }\n",
       "\n",
       "    .dataframe thead th {\n",
       "        text-align: right;\n",
       "    }\n",
       "</style>\n",
       "<table border=\"1\" class=\"dataframe\">\n",
       "  <thead>\n",
       "    <tr style=\"text-align: right;\">\n",
       "      <th></th>\n",
       "      <th>review_id</th>\n",
       "      <th>listing_id</th>\n",
       "      <th>description</th>\n",
       "      <th>comments</th>\n",
       "      <th>sentiment</th>\n",
       "      <th>label</th>\n",
       "      <th>name</th>\n",
       "      <th>amenities</th>\n",
       "    </tr>\n",
       "  </thead>\n",
       "  <tbody>\n",
       "    <tr>\n",
       "      <th>0</th>\n",
       "      <td>83097</td>\n",
       "      <td>5456</td>\n",
       "      <td>[fabulous, location, walking, convention, cent...</td>\n",
       "      <td>[sylvia, very, nice, informal, relaxed, arrive...</td>\n",
       "      <td>4.333333</td>\n",
       "      <td>good</td>\n",
       "      <td>['walk', '6th', 'rainey', 'st', 'convention', ...</td>\n",
       "      <td>['TV', 'Wifi', 'Air conditioning', 'Kitchen', ...</td>\n",
       "    </tr>\n",
       "    <tr>\n",
       "      <th>1</th>\n",
       "      <td>133337</td>\n",
       "      <td>5456</td>\n",
       "      <td>[fabulous, location, walking, convention, cent...</td>\n",
       "      <td>[sylvia, picked, airport, gave, beautiful, eve...</td>\n",
       "      <td>4.000000</td>\n",
       "      <td>good</td>\n",
       "      <td>['walk', '6th', 'rainey', 'st', 'convention', ...</td>\n",
       "      <td>['TV', 'Wifi', 'Air conditioning', 'Kitchen', ...</td>\n",
       "    </tr>\n",
       "    <tr>\n",
       "      <th>2</th>\n",
       "      <td>150928</td>\n",
       "      <td>5456</td>\n",
       "      <td>[fabulous, location, walking, convention, cent...</td>\n",
       "      <td>[lovely, time, enjoyed, apartment, clean, spac...</td>\n",
       "      <td>3.000000</td>\n",
       "      <td>good</td>\n",
       "      <td>['walk', '6th', 'rainey', 'st', 'convention', ...</td>\n",
       "      <td>['TV', 'Wifi', 'Air conditioning', 'Kitchen', ...</td>\n",
       "    </tr>\n",
       "    <tr>\n",
       "      <th>3</th>\n",
       "      <td>2706775</td>\n",
       "      <td>5456</td>\n",
       "      <td>[fabulous, location, walking, convention, cent...</td>\n",
       "      <td>[sylvia, excellent, host, stayed, touch, made,...</td>\n",
       "      <td>4.500000</td>\n",
       "      <td>good</td>\n",
       "      <td>['walk', '6th', 'rainey', 'st', 'convention', ...</td>\n",
       "      <td>['TV', 'Wifi', 'Air conditioning', 'Kitchen', ...</td>\n",
       "    </tr>\n",
       "    <tr>\n",
       "      <th>4</th>\n",
       "      <td>8602878</td>\n",
       "      <td>5456</td>\n",
       "      <td>[fabulous, location, walking, convention, cent...</td>\n",
       "      <td>[place, cute, little, self, contained, cottage...</td>\n",
       "      <td>4.000000</td>\n",
       "      <td>good</td>\n",
       "      <td>['walk', '6th', 'rainey', 'st', 'convention', ...</td>\n",
       "      <td>['TV', 'Wifi', 'Air conditioning', 'Kitchen', ...</td>\n",
       "    </tr>\n",
       "  </tbody>\n",
       "</table>\n",
       "</div>"
      ],
      "text/plain": [
       "   review_id  listing_id                                        description  \\\n",
       "0      83097        5456  [fabulous, location, walking, convention, cent...   \n",
       "1     133337        5456  [fabulous, location, walking, convention, cent...   \n",
       "2     150928        5456  [fabulous, location, walking, convention, cent...   \n",
       "3    2706775        5456  [fabulous, location, walking, convention, cent...   \n",
       "4    8602878        5456  [fabulous, location, walking, convention, cent...   \n",
       "\n",
       "                                            comments  sentiment label  \\\n",
       "0  [sylvia, very, nice, informal, relaxed, arrive...   4.333333  good   \n",
       "1  [sylvia, picked, airport, gave, beautiful, eve...   4.000000  good   \n",
       "2  [lovely, time, enjoyed, apartment, clean, spac...   3.000000  good   \n",
       "3  [sylvia, excellent, host, stayed, touch, made,...   4.500000  good   \n",
       "4  [place, cute, little, self, contained, cottage...   4.000000  good   \n",
       "\n",
       "                                                name  \\\n",
       "0  ['walk', '6th', 'rainey', 'st', 'convention', ...   \n",
       "1  ['walk', '6th', 'rainey', 'st', 'convention', ...   \n",
       "2  ['walk', '6th', 'rainey', 'st', 'convention', ...   \n",
       "3  ['walk', '6th', 'rainey', 'st', 'convention', ...   \n",
       "4  ['walk', '6th', 'rainey', 'st', 'convention', ...   \n",
       "\n",
       "                                           amenities  \n",
       "0  ['TV', 'Wifi', 'Air conditioning', 'Kitchen', ...  \n",
       "1  ['TV', 'Wifi', 'Air conditioning', 'Kitchen', ...  \n",
       "2  ['TV', 'Wifi', 'Air conditioning', 'Kitchen', ...  \n",
       "3  ['TV', 'Wifi', 'Air conditioning', 'Kitchen', ...  \n",
       "4  ['TV', 'Wifi', 'Air conditioning', 'Kitchen', ...  "
      ]
     },
     "execution_count": 53,
     "metadata": {},
     "output_type": "execute_result"
    }
   ],
   "source": [
    "# Read in the data\n",
    "GEO = \"texas\"\n",
    "\n",
    "if isinstance(GEO, str):\n",
    "    df = pd.read_csv(f\"../../data/processed/{GEO}_processed.csv\")\n",
    "elif isinstance(GEO, list):\n",
    "    dfs = []\n",
    "    for geo in GEO:\n",
    "        df = pd.read_csv(f\"../../data/processed/{geo}_processed.csv\")\n",
    "        dfs.append(df)\n",
    "    df = pd.concat(dfs)\n",
    "\n",
    "df.description = df.description.apply(lambda x: eval(x))\n",
    "df.comments = df.comments.apply(lambda x: eval(x))\n",
    "\n",
    "print(df.shape)\n",
    "df.head()"
   ]
  },
  {
   "attachments": {},
   "cell_type": "markdown",
   "metadata": {},
   "source": [
    "### Distribution of labels"
   ]
  },
  {
   "attachments": {},
   "cell_type": "markdown",
   "metadata": {},
   "source": [
    "First, let's look at the distribution of labels in the processed dataset."
   ]
  },
  {
   "cell_type": "code",
   "execution_count": 54,
   "metadata": {},
   "outputs": [
    {
     "name": "stdout",
     "output_type": "stream",
     "text": [
      "mbad: 7.36%, mgood: 6.54%, mbad or mgood: 13.91%\n"
     ]
    },
    {
     "data": {
      "application/vnd.plotly.v1+json": {
       "config": {
        "plotlyServerURL": "https://plot.ly"
       },
       "data": [
        {
         "alignmentgroup": "True",
         "hovertemplate": "Label=%{x}<br>Count=%{y}<extra></extra>",
         "legendgroup": "",
         "marker": {
          "color": "#636efa",
          "pattern": {
           "shape": ""
          }
         },
         "name": "",
         "offsetgroup": "",
         "orientation": "v",
         "showlegend": false,
         "textposition": "auto",
         "type": "bar",
         "x": [
          "good",
          "mbad",
          "mgood",
          "bad"
         ],
         "xaxis": "x",
         "y": [
          813,
          72,
          64,
          29
         ],
         "yaxis": "y"
        }
       ],
       "layout": {
        "barmode": "relative",
        "legend": {
         "tracegroupgap": 0
        },
        "template": {
         "data": {
          "bar": [
           {
            "error_x": {
             "color": "#2a3f5f"
            },
            "error_y": {
             "color": "#2a3f5f"
            },
            "marker": {
             "line": {
              "color": "#E5ECF6",
              "width": 0.5
             },
             "pattern": {
              "fillmode": "overlay",
              "size": 10,
              "solidity": 0.2
             }
            },
            "type": "bar"
           }
          ],
          "barpolar": [
           {
            "marker": {
             "line": {
              "color": "#E5ECF6",
              "width": 0.5
             },
             "pattern": {
              "fillmode": "overlay",
              "size": 10,
              "solidity": 0.2
             }
            },
            "type": "barpolar"
           }
          ],
          "carpet": [
           {
            "aaxis": {
             "endlinecolor": "#2a3f5f",
             "gridcolor": "white",
             "linecolor": "white",
             "minorgridcolor": "white",
             "startlinecolor": "#2a3f5f"
            },
            "baxis": {
             "endlinecolor": "#2a3f5f",
             "gridcolor": "white",
             "linecolor": "white",
             "minorgridcolor": "white",
             "startlinecolor": "#2a3f5f"
            },
            "type": "carpet"
           }
          ],
          "choropleth": [
           {
            "colorbar": {
             "outlinewidth": 0,
             "ticks": ""
            },
            "type": "choropleth"
           }
          ],
          "contour": [
           {
            "colorbar": {
             "outlinewidth": 0,
             "ticks": ""
            },
            "colorscale": [
             [
              0,
              "#0d0887"
             ],
             [
              0.1111111111111111,
              "#46039f"
             ],
             [
              0.2222222222222222,
              "#7201a8"
             ],
             [
              0.3333333333333333,
              "#9c179e"
             ],
             [
              0.4444444444444444,
              "#bd3786"
             ],
             [
              0.5555555555555556,
              "#d8576b"
             ],
             [
              0.6666666666666666,
              "#ed7953"
             ],
             [
              0.7777777777777778,
              "#fb9f3a"
             ],
             [
              0.8888888888888888,
              "#fdca26"
             ],
             [
              1,
              "#f0f921"
             ]
            ],
            "type": "contour"
           }
          ],
          "contourcarpet": [
           {
            "colorbar": {
             "outlinewidth": 0,
             "ticks": ""
            },
            "type": "contourcarpet"
           }
          ],
          "heatmap": [
           {
            "colorbar": {
             "outlinewidth": 0,
             "ticks": ""
            },
            "colorscale": [
             [
              0,
              "#0d0887"
             ],
             [
              0.1111111111111111,
              "#46039f"
             ],
             [
              0.2222222222222222,
              "#7201a8"
             ],
             [
              0.3333333333333333,
              "#9c179e"
             ],
             [
              0.4444444444444444,
              "#bd3786"
             ],
             [
              0.5555555555555556,
              "#d8576b"
             ],
             [
              0.6666666666666666,
              "#ed7953"
             ],
             [
              0.7777777777777778,
              "#fb9f3a"
             ],
             [
              0.8888888888888888,
              "#fdca26"
             ],
             [
              1,
              "#f0f921"
             ]
            ],
            "type": "heatmap"
           }
          ],
          "heatmapgl": [
           {
            "colorbar": {
             "outlinewidth": 0,
             "ticks": ""
            },
            "colorscale": [
             [
              0,
              "#0d0887"
             ],
             [
              0.1111111111111111,
              "#46039f"
             ],
             [
              0.2222222222222222,
              "#7201a8"
             ],
             [
              0.3333333333333333,
              "#9c179e"
             ],
             [
              0.4444444444444444,
              "#bd3786"
             ],
             [
              0.5555555555555556,
              "#d8576b"
             ],
             [
              0.6666666666666666,
              "#ed7953"
             ],
             [
              0.7777777777777778,
              "#fb9f3a"
             ],
             [
              0.8888888888888888,
              "#fdca26"
             ],
             [
              1,
              "#f0f921"
             ]
            ],
            "type": "heatmapgl"
           }
          ],
          "histogram": [
           {
            "marker": {
             "pattern": {
              "fillmode": "overlay",
              "size": 10,
              "solidity": 0.2
             }
            },
            "type": "histogram"
           }
          ],
          "histogram2d": [
           {
            "colorbar": {
             "outlinewidth": 0,
             "ticks": ""
            },
            "colorscale": [
             [
              0,
              "#0d0887"
             ],
             [
              0.1111111111111111,
              "#46039f"
             ],
             [
              0.2222222222222222,
              "#7201a8"
             ],
             [
              0.3333333333333333,
              "#9c179e"
             ],
             [
              0.4444444444444444,
              "#bd3786"
             ],
             [
              0.5555555555555556,
              "#d8576b"
             ],
             [
              0.6666666666666666,
              "#ed7953"
             ],
             [
              0.7777777777777778,
              "#fb9f3a"
             ],
             [
              0.8888888888888888,
              "#fdca26"
             ],
             [
              1,
              "#f0f921"
             ]
            ],
            "type": "histogram2d"
           }
          ],
          "histogram2dcontour": [
           {
            "colorbar": {
             "outlinewidth": 0,
             "ticks": ""
            },
            "colorscale": [
             [
              0,
              "#0d0887"
             ],
             [
              0.1111111111111111,
              "#46039f"
             ],
             [
              0.2222222222222222,
              "#7201a8"
             ],
             [
              0.3333333333333333,
              "#9c179e"
             ],
             [
              0.4444444444444444,
              "#bd3786"
             ],
             [
              0.5555555555555556,
              "#d8576b"
             ],
             [
              0.6666666666666666,
              "#ed7953"
             ],
             [
              0.7777777777777778,
              "#fb9f3a"
             ],
             [
              0.8888888888888888,
              "#fdca26"
             ],
             [
              1,
              "#f0f921"
             ]
            ],
            "type": "histogram2dcontour"
           }
          ],
          "mesh3d": [
           {
            "colorbar": {
             "outlinewidth": 0,
             "ticks": ""
            },
            "type": "mesh3d"
           }
          ],
          "parcoords": [
           {
            "line": {
             "colorbar": {
              "outlinewidth": 0,
              "ticks": ""
             }
            },
            "type": "parcoords"
           }
          ],
          "pie": [
           {
            "automargin": true,
            "type": "pie"
           }
          ],
          "scatter": [
           {
            "fillpattern": {
             "fillmode": "overlay",
             "size": 10,
             "solidity": 0.2
            },
            "type": "scatter"
           }
          ],
          "scatter3d": [
           {
            "line": {
             "colorbar": {
              "outlinewidth": 0,
              "ticks": ""
             }
            },
            "marker": {
             "colorbar": {
              "outlinewidth": 0,
              "ticks": ""
             }
            },
            "type": "scatter3d"
           }
          ],
          "scattercarpet": [
           {
            "marker": {
             "colorbar": {
              "outlinewidth": 0,
              "ticks": ""
             }
            },
            "type": "scattercarpet"
           }
          ],
          "scattergeo": [
           {
            "marker": {
             "colorbar": {
              "outlinewidth": 0,
              "ticks": ""
             }
            },
            "type": "scattergeo"
           }
          ],
          "scattergl": [
           {
            "marker": {
             "colorbar": {
              "outlinewidth": 0,
              "ticks": ""
             }
            },
            "type": "scattergl"
           }
          ],
          "scattermapbox": [
           {
            "marker": {
             "colorbar": {
              "outlinewidth": 0,
              "ticks": ""
             }
            },
            "type": "scattermapbox"
           }
          ],
          "scatterpolar": [
           {
            "marker": {
             "colorbar": {
              "outlinewidth": 0,
              "ticks": ""
             }
            },
            "type": "scatterpolar"
           }
          ],
          "scatterpolargl": [
           {
            "marker": {
             "colorbar": {
              "outlinewidth": 0,
              "ticks": ""
             }
            },
            "type": "scatterpolargl"
           }
          ],
          "scatterternary": [
           {
            "marker": {
             "colorbar": {
              "outlinewidth": 0,
              "ticks": ""
             }
            },
            "type": "scatterternary"
           }
          ],
          "surface": [
           {
            "colorbar": {
             "outlinewidth": 0,
             "ticks": ""
            },
            "colorscale": [
             [
              0,
              "#0d0887"
             ],
             [
              0.1111111111111111,
              "#46039f"
             ],
             [
              0.2222222222222222,
              "#7201a8"
             ],
             [
              0.3333333333333333,
              "#9c179e"
             ],
             [
              0.4444444444444444,
              "#bd3786"
             ],
             [
              0.5555555555555556,
              "#d8576b"
             ],
             [
              0.6666666666666666,
              "#ed7953"
             ],
             [
              0.7777777777777778,
              "#fb9f3a"
             ],
             [
              0.8888888888888888,
              "#fdca26"
             ],
             [
              1,
              "#f0f921"
             ]
            ],
            "type": "surface"
           }
          ],
          "table": [
           {
            "cells": {
             "fill": {
              "color": "#EBF0F8"
             },
             "line": {
              "color": "white"
             }
            },
            "header": {
             "fill": {
              "color": "#C8D4E3"
             },
             "line": {
              "color": "white"
             }
            },
            "type": "table"
           }
          ]
         },
         "layout": {
          "annotationdefaults": {
           "arrowcolor": "#2a3f5f",
           "arrowhead": 0,
           "arrowwidth": 1
          },
          "autotypenumbers": "strict",
          "coloraxis": {
           "colorbar": {
            "outlinewidth": 0,
            "ticks": ""
           }
          },
          "colorscale": {
           "diverging": [
            [
             0,
             "#8e0152"
            ],
            [
             0.1,
             "#c51b7d"
            ],
            [
             0.2,
             "#de77ae"
            ],
            [
             0.3,
             "#f1b6da"
            ],
            [
             0.4,
             "#fde0ef"
            ],
            [
             0.5,
             "#f7f7f7"
            ],
            [
             0.6,
             "#e6f5d0"
            ],
            [
             0.7,
             "#b8e186"
            ],
            [
             0.8,
             "#7fbc41"
            ],
            [
             0.9,
             "#4d9221"
            ],
            [
             1,
             "#276419"
            ]
           ],
           "sequential": [
            [
             0,
             "#0d0887"
            ],
            [
             0.1111111111111111,
             "#46039f"
            ],
            [
             0.2222222222222222,
             "#7201a8"
            ],
            [
             0.3333333333333333,
             "#9c179e"
            ],
            [
             0.4444444444444444,
             "#bd3786"
            ],
            [
             0.5555555555555556,
             "#d8576b"
            ],
            [
             0.6666666666666666,
             "#ed7953"
            ],
            [
             0.7777777777777778,
             "#fb9f3a"
            ],
            [
             0.8888888888888888,
             "#fdca26"
            ],
            [
             1,
             "#f0f921"
            ]
           ],
           "sequentialminus": [
            [
             0,
             "#0d0887"
            ],
            [
             0.1111111111111111,
             "#46039f"
            ],
            [
             0.2222222222222222,
             "#7201a8"
            ],
            [
             0.3333333333333333,
             "#9c179e"
            ],
            [
             0.4444444444444444,
             "#bd3786"
            ],
            [
             0.5555555555555556,
             "#d8576b"
            ],
            [
             0.6666666666666666,
             "#ed7953"
            ],
            [
             0.7777777777777778,
             "#fb9f3a"
            ],
            [
             0.8888888888888888,
             "#fdca26"
            ],
            [
             1,
             "#f0f921"
            ]
           ]
          },
          "colorway": [
           "#636efa",
           "#EF553B",
           "#00cc96",
           "#ab63fa",
           "#FFA15A",
           "#19d3f3",
           "#FF6692",
           "#B6E880",
           "#FF97FF",
           "#FECB52"
          ],
          "font": {
           "color": "#2a3f5f"
          },
          "geo": {
           "bgcolor": "white",
           "lakecolor": "white",
           "landcolor": "#E5ECF6",
           "showlakes": true,
           "showland": true,
           "subunitcolor": "white"
          },
          "hoverlabel": {
           "align": "left"
          },
          "hovermode": "closest",
          "mapbox": {
           "style": "light"
          },
          "paper_bgcolor": "white",
          "plot_bgcolor": "#E5ECF6",
          "polar": {
           "angularaxis": {
            "gridcolor": "white",
            "linecolor": "white",
            "ticks": ""
           },
           "bgcolor": "#E5ECF6",
           "radialaxis": {
            "gridcolor": "white",
            "linecolor": "white",
            "ticks": ""
           }
          },
          "scene": {
           "xaxis": {
            "backgroundcolor": "#E5ECF6",
            "gridcolor": "white",
            "gridwidth": 2,
            "linecolor": "white",
            "showbackground": true,
            "ticks": "",
            "zerolinecolor": "white"
           },
           "yaxis": {
            "backgroundcolor": "#E5ECF6",
            "gridcolor": "white",
            "gridwidth": 2,
            "linecolor": "white",
            "showbackground": true,
            "ticks": "",
            "zerolinecolor": "white"
           },
           "zaxis": {
            "backgroundcolor": "#E5ECF6",
            "gridcolor": "white",
            "gridwidth": 2,
            "linecolor": "white",
            "showbackground": true,
            "ticks": "",
            "zerolinecolor": "white"
           }
          },
          "shapedefaults": {
           "line": {
            "color": "#2a3f5f"
           }
          },
          "ternary": {
           "aaxis": {
            "gridcolor": "white",
            "linecolor": "white",
            "ticks": ""
           },
           "baxis": {
            "gridcolor": "white",
            "linecolor": "white",
            "ticks": ""
           },
           "bgcolor": "#E5ECF6",
           "caxis": {
            "gridcolor": "white",
            "linecolor": "white",
            "ticks": ""
           }
          },
          "title": {
           "x": 0.05
          },
          "xaxis": {
           "automargin": true,
           "gridcolor": "white",
           "linecolor": "white",
           "ticks": "",
           "title": {
            "standoff": 15
           },
           "zerolinecolor": "white",
           "zerolinewidth": 2
          },
          "yaxis": {
           "automargin": true,
           "gridcolor": "white",
           "linecolor": "white",
           "ticks": "",
           "title": {
            "standoff": 15
           },
           "zerolinecolor": "white",
           "zerolinewidth": 2
          }
         }
        },
        "title": {
         "text": "Distribution of labels (GEO=texas)"
        },
        "xaxis": {
         "anchor": "y",
         "domain": [
          0,
          1
         ],
         "title": {
          "text": "Label"
         }
        },
        "yaxis": {
         "anchor": "x",
         "domain": [
          0,
          1
         ],
         "title": {
          "text": "Count"
         }
        }
       }
      }
     },
     "metadata": {},
     "output_type": "display_data"
    }
   ],
   "source": [
    "mbad_pcnt = df[df.label == \"mbad\"].shape[0] / df.shape[0]\n",
    "mgood_pcnt = df[df.label == \"mgood\"].shape[0] / df.shape[0]\n",
    "mbad_or_mgood_pcnt = df[df.label.isin([\"mbad\", \"mgood\"])].shape[0] / df.shape[0]\n",
    "print(\n",
    "    f\"mbad: {mbad_pcnt:.2%}, mgood: {mgood_pcnt:.2%}, mbad or mgood: {mbad_or_mgood_pcnt:.2%}\"\n",
    ")\n",
    "\n",
    "bar_vals = df.label.value_counts()\n",
    "\n",
    "fig = px.bar(\n",
    "    bar_vals,\n",
    "    x=bar_vals.index,\n",
    "    y=bar_vals.values,\n",
    "    title=f\"Distribution of labels (GEO={GEO})\",\n",
    "    labels={\"index\": \"Label\", \"y\": \"Count\"}\n",
    ")\n",
    "\n",
    "fig.show()"
   ]
  },
  {
   "attachments": {},
   "cell_type": "markdown",
   "metadata": {},
   "source": [
    "### Ngrams"
   ]
  },
  {
   "attachments": {},
   "cell_type": "markdown",
   "metadata": {},
   "source": [
    "What are the most common ngrams for the different types of reviews? What are the most common overlaps?"
   ]
  },
  {
   "cell_type": "code",
   "execution_count": 55,
   "metadata": {},
   "outputs": [],
   "source": [
    "def get_consecutive_ngrams(review, n) -> list:\n",
    "    \"\"\"Helper function to get ngrams from a review.\n",
    "\n",
    "    Args:\n",
    "        review (str): The review to get ngrams from.\n",
    "        n (int): The number of ngrams to get.\n",
    "\n",
    "    Returns:\n",
    "        list: the list of ngrams, joined by underscores.\n",
    "    \"\"\"\n",
    "    if isinstance(review, str):\n",
    "        review = review.split(\"\")\n",
    "\n",
    "    return [\"_\".join(review[i:i+n]) for i in range(len(review)-n-1)]\n",
    "\n",
    "def series_to_ngrams(series: pd.Series, N):\n",
    "    n_grams = series.apply(lambda x: get_consecutive_ngrams(x, N))\n",
    "    return n_grams.explode()\n",
    "\n",
    "def get_exclusive_sizes(good: set, bad: set, mgood: set, mbad: set) -> dict:\n",
    "    \"\"\"Get the sizes of the exclusive sets\"\"\"\n",
    "\n",
    "    only_good = good - bad - mgood - mbad\n",
    "    only_bad = bad - good - mgood - mbad\n",
    "    only_mgood = mgood - good - bad - mbad\n",
    "    only_mbad = mbad - good - bad - mgood\n",
    "    \n",
    "    return {\n",
    "        \"good\": len(only_good),\n",
    "        \"bad\": len(only_bad),\n",
    "        \"mgood\": len(only_mgood),\n",
    "        \"mbad\": len(only_mbad)\n",
    "    }"
   ]
  },
  {
   "attachments": {},
   "cell_type": "markdown",
   "metadata": {},
   "source": [
    "We can look at the number of unique values to each label for different values of N on a line chart."
   ]
  },
  {
   "cell_type": "code",
   "execution_count": 56,
   "metadata": {},
   "outputs": [
    {
     "data": {
      "application/vnd.plotly.v1+json": {
       "config": {
        "plotlyServerURL": "https://plot.ly"
       },
       "data": [
        {
         "hovertemplate": "label=bad<br>N-gram size=%{x}<br>Unique # of n-grams=%{y}<extra></extra>",
         "legendgroup": "bad",
         "line": {
          "color": "#636efa",
          "dash": "solid"
         },
         "marker": {
          "symbol": "circle"
         },
         "mode": "markers+lines",
         "name": "bad",
         "orientation": "v",
         "showlegend": true,
         "type": "scatter",
         "x": [
          1,
          2,
          3,
          4,
          5,
          6
         ],
         "xaxis": "x",
         "y": [
          214,
          2751,
          3538,
          3589,
          3566,
          3537
         ],
         "yaxis": "y"
        },
        {
         "hovertemplate": "label=mgood<br>N-gram size=%{x}<br>Unique # of n-grams=%{y}<extra></extra>",
         "legendgroup": "mgood",
         "line": {
          "color": "#EF553B",
          "dash": "solid"
         },
         "marker": {
          "symbol": "circle"
         },
         "mode": "markers+lines",
         "name": "mgood",
         "orientation": "v",
         "showlegend": true,
         "type": "scatter",
         "x": [
          1,
          2,
          3,
          4,
          5,
          6
         ],
         "xaxis": "x",
         "y": [
          208,
          3109,
          4303,
          4403,
          4364,
          4303
         ],
         "yaxis": "y"
        },
        {
         "hovertemplate": "label=mbad<br>N-gram size=%{x}<br>Unique # of n-grams=%{y}<extra></extra>",
         "legendgroup": "mbad",
         "line": {
          "color": "#00cc96",
          "dash": "solid"
         },
         "marker": {
          "symbol": "circle"
         },
         "mode": "markers+lines",
         "name": "mbad",
         "orientation": "v",
         "showlegend": true,
         "type": "scatter",
         "x": [
          1,
          2,
          3,
          4,
          5,
          6
         ],
         "xaxis": "x",
         "y": [
          391,
          4875,
          6352,
          6450,
          6386,
          6315
         ],
         "yaxis": "y"
        }
       ],
       "layout": {
        "legend": {
         "title": {
          "text": "label"
         },
         "tracegroupgap": 0
        },
        "template": {
         "data": {
          "bar": [
           {
            "error_x": {
             "color": "#2a3f5f"
            },
            "error_y": {
             "color": "#2a3f5f"
            },
            "marker": {
             "line": {
              "color": "#E5ECF6",
              "width": 0.5
             },
             "pattern": {
              "fillmode": "overlay",
              "size": 10,
              "solidity": 0.2
             }
            },
            "type": "bar"
           }
          ],
          "barpolar": [
           {
            "marker": {
             "line": {
              "color": "#E5ECF6",
              "width": 0.5
             },
             "pattern": {
              "fillmode": "overlay",
              "size": 10,
              "solidity": 0.2
             }
            },
            "type": "barpolar"
           }
          ],
          "carpet": [
           {
            "aaxis": {
             "endlinecolor": "#2a3f5f",
             "gridcolor": "white",
             "linecolor": "white",
             "minorgridcolor": "white",
             "startlinecolor": "#2a3f5f"
            },
            "baxis": {
             "endlinecolor": "#2a3f5f",
             "gridcolor": "white",
             "linecolor": "white",
             "minorgridcolor": "white",
             "startlinecolor": "#2a3f5f"
            },
            "type": "carpet"
           }
          ],
          "choropleth": [
           {
            "colorbar": {
             "outlinewidth": 0,
             "ticks": ""
            },
            "type": "choropleth"
           }
          ],
          "contour": [
           {
            "colorbar": {
             "outlinewidth": 0,
             "ticks": ""
            },
            "colorscale": [
             [
              0,
              "#0d0887"
             ],
             [
              0.1111111111111111,
              "#46039f"
             ],
             [
              0.2222222222222222,
              "#7201a8"
             ],
             [
              0.3333333333333333,
              "#9c179e"
             ],
             [
              0.4444444444444444,
              "#bd3786"
             ],
             [
              0.5555555555555556,
              "#d8576b"
             ],
             [
              0.6666666666666666,
              "#ed7953"
             ],
             [
              0.7777777777777778,
              "#fb9f3a"
             ],
             [
              0.8888888888888888,
              "#fdca26"
             ],
             [
              1,
              "#f0f921"
             ]
            ],
            "type": "contour"
           }
          ],
          "contourcarpet": [
           {
            "colorbar": {
             "outlinewidth": 0,
             "ticks": ""
            },
            "type": "contourcarpet"
           }
          ],
          "heatmap": [
           {
            "colorbar": {
             "outlinewidth": 0,
             "ticks": ""
            },
            "colorscale": [
             [
              0,
              "#0d0887"
             ],
             [
              0.1111111111111111,
              "#46039f"
             ],
             [
              0.2222222222222222,
              "#7201a8"
             ],
             [
              0.3333333333333333,
              "#9c179e"
             ],
             [
              0.4444444444444444,
              "#bd3786"
             ],
             [
              0.5555555555555556,
              "#d8576b"
             ],
             [
              0.6666666666666666,
              "#ed7953"
             ],
             [
              0.7777777777777778,
              "#fb9f3a"
             ],
             [
              0.8888888888888888,
              "#fdca26"
             ],
             [
              1,
              "#f0f921"
             ]
            ],
            "type": "heatmap"
           }
          ],
          "heatmapgl": [
           {
            "colorbar": {
             "outlinewidth": 0,
             "ticks": ""
            },
            "colorscale": [
             [
              0,
              "#0d0887"
             ],
             [
              0.1111111111111111,
              "#46039f"
             ],
             [
              0.2222222222222222,
              "#7201a8"
             ],
             [
              0.3333333333333333,
              "#9c179e"
             ],
             [
              0.4444444444444444,
              "#bd3786"
             ],
             [
              0.5555555555555556,
              "#d8576b"
             ],
             [
              0.6666666666666666,
              "#ed7953"
             ],
             [
              0.7777777777777778,
              "#fb9f3a"
             ],
             [
              0.8888888888888888,
              "#fdca26"
             ],
             [
              1,
              "#f0f921"
             ]
            ],
            "type": "heatmapgl"
           }
          ],
          "histogram": [
           {
            "marker": {
             "pattern": {
              "fillmode": "overlay",
              "size": 10,
              "solidity": 0.2
             }
            },
            "type": "histogram"
           }
          ],
          "histogram2d": [
           {
            "colorbar": {
             "outlinewidth": 0,
             "ticks": ""
            },
            "colorscale": [
             [
              0,
              "#0d0887"
             ],
             [
              0.1111111111111111,
              "#46039f"
             ],
             [
              0.2222222222222222,
              "#7201a8"
             ],
             [
              0.3333333333333333,
              "#9c179e"
             ],
             [
              0.4444444444444444,
              "#bd3786"
             ],
             [
              0.5555555555555556,
              "#d8576b"
             ],
             [
              0.6666666666666666,
              "#ed7953"
             ],
             [
              0.7777777777777778,
              "#fb9f3a"
             ],
             [
              0.8888888888888888,
              "#fdca26"
             ],
             [
              1,
              "#f0f921"
             ]
            ],
            "type": "histogram2d"
           }
          ],
          "histogram2dcontour": [
           {
            "colorbar": {
             "outlinewidth": 0,
             "ticks": ""
            },
            "colorscale": [
             [
              0,
              "#0d0887"
             ],
             [
              0.1111111111111111,
              "#46039f"
             ],
             [
              0.2222222222222222,
              "#7201a8"
             ],
             [
              0.3333333333333333,
              "#9c179e"
             ],
             [
              0.4444444444444444,
              "#bd3786"
             ],
             [
              0.5555555555555556,
              "#d8576b"
             ],
             [
              0.6666666666666666,
              "#ed7953"
             ],
             [
              0.7777777777777778,
              "#fb9f3a"
             ],
             [
              0.8888888888888888,
              "#fdca26"
             ],
             [
              1,
              "#f0f921"
             ]
            ],
            "type": "histogram2dcontour"
           }
          ],
          "mesh3d": [
           {
            "colorbar": {
             "outlinewidth": 0,
             "ticks": ""
            },
            "type": "mesh3d"
           }
          ],
          "parcoords": [
           {
            "line": {
             "colorbar": {
              "outlinewidth": 0,
              "ticks": ""
             }
            },
            "type": "parcoords"
           }
          ],
          "pie": [
           {
            "automargin": true,
            "type": "pie"
           }
          ],
          "scatter": [
           {
            "fillpattern": {
             "fillmode": "overlay",
             "size": 10,
             "solidity": 0.2
            },
            "type": "scatter"
           }
          ],
          "scatter3d": [
           {
            "line": {
             "colorbar": {
              "outlinewidth": 0,
              "ticks": ""
             }
            },
            "marker": {
             "colorbar": {
              "outlinewidth": 0,
              "ticks": ""
             }
            },
            "type": "scatter3d"
           }
          ],
          "scattercarpet": [
           {
            "marker": {
             "colorbar": {
              "outlinewidth": 0,
              "ticks": ""
             }
            },
            "type": "scattercarpet"
           }
          ],
          "scattergeo": [
           {
            "marker": {
             "colorbar": {
              "outlinewidth": 0,
              "ticks": ""
             }
            },
            "type": "scattergeo"
           }
          ],
          "scattergl": [
           {
            "marker": {
             "colorbar": {
              "outlinewidth": 0,
              "ticks": ""
             }
            },
            "type": "scattergl"
           }
          ],
          "scattermapbox": [
           {
            "marker": {
             "colorbar": {
              "outlinewidth": 0,
              "ticks": ""
             }
            },
            "type": "scattermapbox"
           }
          ],
          "scatterpolar": [
           {
            "marker": {
             "colorbar": {
              "outlinewidth": 0,
              "ticks": ""
             }
            },
            "type": "scatterpolar"
           }
          ],
          "scatterpolargl": [
           {
            "marker": {
             "colorbar": {
              "outlinewidth": 0,
              "ticks": ""
             }
            },
            "type": "scatterpolargl"
           }
          ],
          "scatterternary": [
           {
            "marker": {
             "colorbar": {
              "outlinewidth": 0,
              "ticks": ""
             }
            },
            "type": "scatterternary"
           }
          ],
          "surface": [
           {
            "colorbar": {
             "outlinewidth": 0,
             "ticks": ""
            },
            "colorscale": [
             [
              0,
              "#0d0887"
             ],
             [
              0.1111111111111111,
              "#46039f"
             ],
             [
              0.2222222222222222,
              "#7201a8"
             ],
             [
              0.3333333333333333,
              "#9c179e"
             ],
             [
              0.4444444444444444,
              "#bd3786"
             ],
             [
              0.5555555555555556,
              "#d8576b"
             ],
             [
              0.6666666666666666,
              "#ed7953"
             ],
             [
              0.7777777777777778,
              "#fb9f3a"
             ],
             [
              0.8888888888888888,
              "#fdca26"
             ],
             [
              1,
              "#f0f921"
             ]
            ],
            "type": "surface"
           }
          ],
          "table": [
           {
            "cells": {
             "fill": {
              "color": "#EBF0F8"
             },
             "line": {
              "color": "white"
             }
            },
            "header": {
             "fill": {
              "color": "#C8D4E3"
             },
             "line": {
              "color": "white"
             }
            },
            "type": "table"
           }
          ]
         },
         "layout": {
          "annotationdefaults": {
           "arrowcolor": "#2a3f5f",
           "arrowhead": 0,
           "arrowwidth": 1
          },
          "autotypenumbers": "strict",
          "coloraxis": {
           "colorbar": {
            "outlinewidth": 0,
            "ticks": ""
           }
          },
          "colorscale": {
           "diverging": [
            [
             0,
             "#8e0152"
            ],
            [
             0.1,
             "#c51b7d"
            ],
            [
             0.2,
             "#de77ae"
            ],
            [
             0.3,
             "#f1b6da"
            ],
            [
             0.4,
             "#fde0ef"
            ],
            [
             0.5,
             "#f7f7f7"
            ],
            [
             0.6,
             "#e6f5d0"
            ],
            [
             0.7,
             "#b8e186"
            ],
            [
             0.8,
             "#7fbc41"
            ],
            [
             0.9,
             "#4d9221"
            ],
            [
             1,
             "#276419"
            ]
           ],
           "sequential": [
            [
             0,
             "#0d0887"
            ],
            [
             0.1111111111111111,
             "#46039f"
            ],
            [
             0.2222222222222222,
             "#7201a8"
            ],
            [
             0.3333333333333333,
             "#9c179e"
            ],
            [
             0.4444444444444444,
             "#bd3786"
            ],
            [
             0.5555555555555556,
             "#d8576b"
            ],
            [
             0.6666666666666666,
             "#ed7953"
            ],
            [
             0.7777777777777778,
             "#fb9f3a"
            ],
            [
             0.8888888888888888,
             "#fdca26"
            ],
            [
             1,
             "#f0f921"
            ]
           ],
           "sequentialminus": [
            [
             0,
             "#0d0887"
            ],
            [
             0.1111111111111111,
             "#46039f"
            ],
            [
             0.2222222222222222,
             "#7201a8"
            ],
            [
             0.3333333333333333,
             "#9c179e"
            ],
            [
             0.4444444444444444,
             "#bd3786"
            ],
            [
             0.5555555555555556,
             "#d8576b"
            ],
            [
             0.6666666666666666,
             "#ed7953"
            ],
            [
             0.7777777777777778,
             "#fb9f3a"
            ],
            [
             0.8888888888888888,
             "#fdca26"
            ],
            [
             1,
             "#f0f921"
            ]
           ]
          },
          "colorway": [
           "#636efa",
           "#EF553B",
           "#00cc96",
           "#ab63fa",
           "#FFA15A",
           "#19d3f3",
           "#FF6692",
           "#B6E880",
           "#FF97FF",
           "#FECB52"
          ],
          "font": {
           "color": "#2a3f5f"
          },
          "geo": {
           "bgcolor": "white",
           "lakecolor": "white",
           "landcolor": "#E5ECF6",
           "showlakes": true,
           "showland": true,
           "subunitcolor": "white"
          },
          "hoverlabel": {
           "align": "left"
          },
          "hovermode": "closest",
          "mapbox": {
           "style": "light"
          },
          "paper_bgcolor": "white",
          "plot_bgcolor": "#E5ECF6",
          "polar": {
           "angularaxis": {
            "gridcolor": "white",
            "linecolor": "white",
            "ticks": ""
           },
           "bgcolor": "#E5ECF6",
           "radialaxis": {
            "gridcolor": "white",
            "linecolor": "white",
            "ticks": ""
           }
          },
          "scene": {
           "xaxis": {
            "backgroundcolor": "#E5ECF6",
            "gridcolor": "white",
            "gridwidth": 2,
            "linecolor": "white",
            "showbackground": true,
            "ticks": "",
            "zerolinecolor": "white"
           },
           "yaxis": {
            "backgroundcolor": "#E5ECF6",
            "gridcolor": "white",
            "gridwidth": 2,
            "linecolor": "white",
            "showbackground": true,
            "ticks": "",
            "zerolinecolor": "white"
           },
           "zaxis": {
            "backgroundcolor": "#E5ECF6",
            "gridcolor": "white",
            "gridwidth": 2,
            "linecolor": "white",
            "showbackground": true,
            "ticks": "",
            "zerolinecolor": "white"
           }
          },
          "shapedefaults": {
           "line": {
            "color": "#2a3f5f"
           }
          },
          "ternary": {
           "aaxis": {
            "gridcolor": "white",
            "linecolor": "white",
            "ticks": ""
           },
           "baxis": {
            "gridcolor": "white",
            "linecolor": "white",
            "ticks": ""
           },
           "bgcolor": "#E5ECF6",
           "caxis": {
            "gridcolor": "white",
            "linecolor": "white",
            "ticks": ""
           }
          },
          "title": {
           "x": 0.05
          },
          "xaxis": {
           "automargin": true,
           "gridcolor": "white",
           "linecolor": "white",
           "ticks": "",
           "title": {
            "standoff": 15
           },
           "zerolinecolor": "white",
           "zerolinewidth": 2
          },
          "yaxis": {
           "automargin": true,
           "gridcolor": "white",
           "linecolor": "white",
           "ticks": "",
           "title": {
            "standoff": 15
           },
           "zerolinecolor": "white",
           "zerolinewidth": 2
          }
         }
        },
        "title": {
         "text": "Unique # of texas n-grams for each label"
        },
        "xaxis": {
         "anchor": "y",
         "domain": [
          0,
          1
         ],
         "title": {
          "text": "N-gram size"
         }
        },
        "yaxis": {
         "anchor": "x",
         "domain": [
          0,
          1
         ],
         "title": {
          "text": "Unique # of n-grams"
         }
        }
       }
      }
     },
     "metadata": {},
     "output_type": "display_data"
    }
   ],
   "source": [
    "import plotly.express as px\n",
    "\n",
    "intersection_sizes = []\n",
    "for n in [1, 2, 3, 4, 5, 6]:\n",
    "\n",
    "    good_ngrams = series_to_ngrams(df[df.label == \"good\"].comments, n).value_counts()\n",
    "    bad_ngrams = series_to_ngrams(df[df.label == \"bad\"].comments, n).value_counts()\n",
    "    mgood_ngrams = series_to_ngrams(df[df.label == \"mgood\"].comments, n).value_counts()\n",
    "    mbad_ngrams = series_to_ngrams(df[df.label == \"mbad\"].comments, n).value_counts()\n",
    "    intersection_sizes_n = get_exclusive_sizes(\n",
    "        set(good_ngrams.index),\n",
    "        set(bad_ngrams.index),\n",
    "        set(mgood_ngrams.index),\n",
    "        set(mbad_ngrams.index)\n",
    "    )\n",
    "\n",
    "    intersection_sizes_n[\"n\"] = n\n",
    "\n",
    "    intersection_sizes.append(intersection_sizes_n)\n",
    "\n",
    "\n",
    "# prepare data\n",
    "is_df = pd.DataFrame(intersection_sizes)\n",
    "is_df = is_df.melt(id_vars=\"n\", var_name=\"label\", value_name=\"count\")\n",
    "is_df[\"count\"] = is_df[\"count\"].astype(int)\n",
    "is_df[\"n\"] = is_df[\"n\"].astype(int)\n",
    "\n",
    "# exclude good \n",
    "is_df = is_df[is_df.label != \"good\"]\n",
    "\n",
    "# plot a line chart\n",
    "px.line(is_df, \n",
    "    x=\"n\", y=\"count\",\n",
    "    color=\"label\",\n",
    "    title=f\"Unique # of {GEO} n-grams for each label\", \n",
    "    labels={\"n\": \"N-gram size\", \"count\": \"Unique # of n-grams\"},\n",
    "    markers=True\n",
    "    )"
   ]
  },
  {
   "attachments": {},
   "cell_type": "markdown",
   "metadata": {},
   "source": [
    "We can see that the number of unique ngrams increases until about n=3, and then levels off. What are the top 10 3-grams for misleading reviews?"
   ]
  },
  {
   "cell_type": "code",
   "execution_count": 57,
   "metadata": {},
   "outputs": [
    {
     "name": "stdout",
     "output_type": "stream",
     "text": [
      "Top 10 most common 3-grams in misleading reviews:\n"
     ]
    },
    {
     "data": {
      "text/plain": [
       "[('within_walking_distance', 8),\n",
       " ('would_not_recommend', 6),\n",
       " ('not_recommend_staying', 4),\n",
       " ('made_u_feel', 3),\n",
       " ('great_host_very', 3),\n",
       " ('great_place_stay', 3),\n",
       " ('solid_internet_connectivity', 3),\n",
       " ('walking_distance_lot', 2),\n",
       " ('stay_good_location', 2),\n",
       " ('good_location_clean', 2)]"
      ]
     },
     "execution_count": 57,
     "metadata": {},
     "output_type": "execute_result"
    }
   ],
   "source": [
    "import numpy as np\n",
    "from collections import Counter\n",
    "\n",
    "# generate wordcloud for misleading reviews\n",
    "subset = df[df.label.isin([\"mbad\", \"mgood\"])]\n",
    "\n",
    "# get groups of N consecutive words\n",
    "N = 3\n",
    "n_grams_3 = series_to_ngrams(subset.comments, N).to_list()\n",
    "\n",
    "print(\"Top 10 most common 3-grams in misleading reviews:\")\n",
    "Counter(n_grams_3).most_common(10)"
   ]
  },
  {
   "attachments": {},
   "cell_type": "markdown",
   "metadata": {},
   "source": [
    "Let's manually remove some of these that don't make sense"
   ]
  },
  {
   "attachments": {},
   "cell_type": "markdown",
   "metadata": {},
   "source": [
    "Now let's look at a word cloud of the 3-grams in misleading reviews.\n",
    "\n",
    "**NOTE:** Also broken due to pandas library error. Not sure why it happened all of a sudden."
   ]
  },
  {
   "cell_type": "code",
   "execution_count": 58,
   "metadata": {},
   "outputs": [
    {
     "data": {
      "application/vnd.plotly.v1+json": {
       "config": {
        "plotlyServerURL": "https://plot.ly"
       },
       "data": [
        {
         "hovertemplate": "x: %{x}<br>y: %{y}<br>color: [%{z[0]}, %{z[1]}, %{z[2]}]<extra></extra>",
         "name": "0",
         "source": "data:image/png;base64,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",
         "type": "image",
         "xaxis": "x",
         "yaxis": "y"
        }
       ],
       "layout": {
        "height": 700,
        "template": {
         "data": {
          "bar": [
           {
            "error_x": {
             "color": "#2a3f5f"
            },
            "error_y": {
             "color": "#2a3f5f"
            },
            "marker": {
             "line": {
              "color": "#E5ECF6",
              "width": 0.5
             },
             "pattern": {
              "fillmode": "overlay",
              "size": 10,
              "solidity": 0.2
             }
            },
            "type": "bar"
           }
          ],
          "barpolar": [
           {
            "marker": {
             "line": {
              "color": "#E5ECF6",
              "width": 0.5
             },
             "pattern": {
              "fillmode": "overlay",
              "size": 10,
              "solidity": 0.2
             }
            },
            "type": "barpolar"
           }
          ],
          "carpet": [
           {
            "aaxis": {
             "endlinecolor": "#2a3f5f",
             "gridcolor": "white",
             "linecolor": "white",
             "minorgridcolor": "white",
             "startlinecolor": "#2a3f5f"
            },
            "baxis": {
             "endlinecolor": "#2a3f5f",
             "gridcolor": "white",
             "linecolor": "white",
             "minorgridcolor": "white",
             "startlinecolor": "#2a3f5f"
            },
            "type": "carpet"
           }
          ],
          "choropleth": [
           {
            "colorbar": {
             "outlinewidth": 0,
             "ticks": ""
            },
            "type": "choropleth"
           }
          ],
          "contour": [
           {
            "colorbar": {
             "outlinewidth": 0,
             "ticks": ""
            },
            "colorscale": [
             [
              0,
              "#0d0887"
             ],
             [
              0.1111111111111111,
              "#46039f"
             ],
             [
              0.2222222222222222,
              "#7201a8"
             ],
             [
              0.3333333333333333,
              "#9c179e"
             ],
             [
              0.4444444444444444,
              "#bd3786"
             ],
             [
              0.5555555555555556,
              "#d8576b"
             ],
             [
              0.6666666666666666,
              "#ed7953"
             ],
             [
              0.7777777777777778,
              "#fb9f3a"
             ],
             [
              0.8888888888888888,
              "#fdca26"
             ],
             [
              1,
              "#f0f921"
             ]
            ],
            "type": "contour"
           }
          ],
          "contourcarpet": [
           {
            "colorbar": {
             "outlinewidth": 0,
             "ticks": ""
            },
            "type": "contourcarpet"
           }
          ],
          "heatmap": [
           {
            "colorbar": {
             "outlinewidth": 0,
             "ticks": ""
            },
            "colorscale": [
             [
              0,
              "#0d0887"
             ],
             [
              0.1111111111111111,
              "#46039f"
             ],
             [
              0.2222222222222222,
              "#7201a8"
             ],
             [
              0.3333333333333333,
              "#9c179e"
             ],
             [
              0.4444444444444444,
              "#bd3786"
             ],
             [
              0.5555555555555556,
              "#d8576b"
             ],
             [
              0.6666666666666666,
              "#ed7953"
             ],
             [
              0.7777777777777778,
              "#fb9f3a"
             ],
             [
              0.8888888888888888,
              "#fdca26"
             ],
             [
              1,
              "#f0f921"
             ]
            ],
            "type": "heatmap"
           }
          ],
          "heatmapgl": [
           {
            "colorbar": {
             "outlinewidth": 0,
             "ticks": ""
            },
            "colorscale": [
             [
              0,
              "#0d0887"
             ],
             [
              0.1111111111111111,
              "#46039f"
             ],
             [
              0.2222222222222222,
              "#7201a8"
             ],
             [
              0.3333333333333333,
              "#9c179e"
             ],
             [
              0.4444444444444444,
              "#bd3786"
             ],
             [
              0.5555555555555556,
              "#d8576b"
             ],
             [
              0.6666666666666666,
              "#ed7953"
             ],
             [
              0.7777777777777778,
              "#fb9f3a"
             ],
             [
              0.8888888888888888,
              "#fdca26"
             ],
             [
              1,
              "#f0f921"
             ]
            ],
            "type": "heatmapgl"
           }
          ],
          "histogram": [
           {
            "marker": {
             "pattern": {
              "fillmode": "overlay",
              "size": 10,
              "solidity": 0.2
             }
            },
            "type": "histogram"
           }
          ],
          "histogram2d": [
           {
            "colorbar": {
             "outlinewidth": 0,
             "ticks": ""
            },
            "colorscale": [
             [
              0,
              "#0d0887"
             ],
             [
              0.1111111111111111,
              "#46039f"
             ],
             [
              0.2222222222222222,
              "#7201a8"
             ],
             [
              0.3333333333333333,
              "#9c179e"
             ],
             [
              0.4444444444444444,
              "#bd3786"
             ],
             [
              0.5555555555555556,
              "#d8576b"
             ],
             [
              0.6666666666666666,
              "#ed7953"
             ],
             [
              0.7777777777777778,
              "#fb9f3a"
             ],
             [
              0.8888888888888888,
              "#fdca26"
             ],
             [
              1,
              "#f0f921"
             ]
            ],
            "type": "histogram2d"
           }
          ],
          "histogram2dcontour": [
           {
            "colorbar": {
             "outlinewidth": 0,
             "ticks": ""
            },
            "colorscale": [
             [
              0,
              "#0d0887"
             ],
             [
              0.1111111111111111,
              "#46039f"
             ],
             [
              0.2222222222222222,
              "#7201a8"
             ],
             [
              0.3333333333333333,
              "#9c179e"
             ],
             [
              0.4444444444444444,
              "#bd3786"
             ],
             [
              0.5555555555555556,
              "#d8576b"
             ],
             [
              0.6666666666666666,
              "#ed7953"
             ],
             [
              0.7777777777777778,
              "#fb9f3a"
             ],
             [
              0.8888888888888888,
              "#fdca26"
             ],
             [
              1,
              "#f0f921"
             ]
            ],
            "type": "histogram2dcontour"
           }
          ],
          "mesh3d": [
           {
            "colorbar": {
             "outlinewidth": 0,
             "ticks": ""
            },
            "type": "mesh3d"
           }
          ],
          "parcoords": [
           {
            "line": {
             "colorbar": {
              "outlinewidth": 0,
              "ticks": ""
             }
            },
            "type": "parcoords"
           }
          ],
          "pie": [
           {
            "automargin": true,
            "type": "pie"
           }
          ],
          "scatter": [
           {
            "fillpattern": {
             "fillmode": "overlay",
             "size": 10,
             "solidity": 0.2
            },
            "type": "scatter"
           }
          ],
          "scatter3d": [
           {
            "line": {
             "colorbar": {
              "outlinewidth": 0,
              "ticks": ""
             }
            },
            "marker": {
             "colorbar": {
              "outlinewidth": 0,
              "ticks": ""
             }
            },
            "type": "scatter3d"
           }
          ],
          "scattercarpet": [
           {
            "marker": {
             "colorbar": {
              "outlinewidth": 0,
              "ticks": ""
             }
            },
            "type": "scattercarpet"
           }
          ],
          "scattergeo": [
           {
            "marker": {
             "colorbar": {
              "outlinewidth": 0,
              "ticks": ""
             }
            },
            "type": "scattergeo"
           }
          ],
          "scattergl": [
           {
            "marker": {
             "colorbar": {
              "outlinewidth": 0,
              "ticks": ""
             }
            },
            "type": "scattergl"
           }
          ],
          "scattermapbox": [
           {
            "marker": {
             "colorbar": {
              "outlinewidth": 0,
              "ticks": ""
             }
            },
            "type": "scattermapbox"
           }
          ],
          "scatterpolar": [
           {
            "marker": {
             "colorbar": {
              "outlinewidth": 0,
              "ticks": ""
             }
            },
            "type": "scatterpolar"
           }
          ],
          "scatterpolargl": [
           {
            "marker": {
             "colorbar": {
              "outlinewidth": 0,
              "ticks": ""
             }
            },
            "type": "scatterpolargl"
           }
          ],
          "scatterternary": [
           {
            "marker": {
             "colorbar": {
              "outlinewidth": 0,
              "ticks": ""
             }
            },
            "type": "scatterternary"
           }
          ],
          "surface": [
           {
            "colorbar": {
             "outlinewidth": 0,
             "ticks": ""
            },
            "colorscale": [
             [
              0,
              "#0d0887"
             ],
             [
              0.1111111111111111,
              "#46039f"
             ],
             [
              0.2222222222222222,
              "#7201a8"
             ],
             [
              0.3333333333333333,
              "#9c179e"
             ],
             [
              0.4444444444444444,
              "#bd3786"
             ],
             [
              0.5555555555555556,
              "#d8576b"
             ],
             [
              0.6666666666666666,
              "#ed7953"
             ],
             [
              0.7777777777777778,
              "#fb9f3a"
             ],
             [
              0.8888888888888888,
              "#fdca26"
             ],
             [
              1,
              "#f0f921"
             ]
            ],
            "type": "surface"
           }
          ],
          "table": [
           {
            "cells": {
             "fill": {
              "color": "#EBF0F8"
             },
             "line": {
              "color": "white"
             }
            },
            "header": {
             "fill": {
              "color": "#C8D4E3"
             },
             "line": {
              "color": "white"
             }
            },
            "type": "table"
           }
          ]
         },
         "layout": {
          "annotationdefaults": {
           "arrowcolor": "#2a3f5f",
           "arrowhead": 0,
           "arrowwidth": 1
          },
          "autotypenumbers": "strict",
          "coloraxis": {
           "colorbar": {
            "outlinewidth": 0,
            "ticks": ""
           }
          },
          "colorscale": {
           "diverging": [
            [
             0,
             "#8e0152"
            ],
            [
             0.1,
             "#c51b7d"
            ],
            [
             0.2,
             "#de77ae"
            ],
            [
             0.3,
             "#f1b6da"
            ],
            [
             0.4,
             "#fde0ef"
            ],
            [
             0.5,
             "#f7f7f7"
            ],
            [
             0.6,
             "#e6f5d0"
            ],
            [
             0.7,
             "#b8e186"
            ],
            [
             0.8,
             "#7fbc41"
            ],
            [
             0.9,
             "#4d9221"
            ],
            [
             1,
             "#276419"
            ]
           ],
           "sequential": [
            [
             0,
             "#0d0887"
            ],
            [
             0.1111111111111111,
             "#46039f"
            ],
            [
             0.2222222222222222,
             "#7201a8"
            ],
            [
             0.3333333333333333,
             "#9c179e"
            ],
            [
             0.4444444444444444,
             "#bd3786"
            ],
            [
             0.5555555555555556,
             "#d8576b"
            ],
            [
             0.6666666666666666,
             "#ed7953"
            ],
            [
             0.7777777777777778,
             "#fb9f3a"
            ],
            [
             0.8888888888888888,
             "#fdca26"
            ],
            [
             1,
             "#f0f921"
            ]
           ],
           "sequentialminus": [
            [
             0,
             "#0d0887"
            ],
            [
             0.1111111111111111,
             "#46039f"
            ],
            [
             0.2222222222222222,
             "#7201a8"
            ],
            [
             0.3333333333333333,
             "#9c179e"
            ],
            [
             0.4444444444444444,
             "#bd3786"
            ],
            [
             0.5555555555555556,
             "#d8576b"
            ],
            [
             0.6666666666666666,
             "#ed7953"
            ],
            [
             0.7777777777777778,
             "#fb9f3a"
            ],
            [
             0.8888888888888888,
             "#fdca26"
            ],
            [
             1,
             "#f0f921"
            ]
           ]
          },
          "colorway": [
           "#636efa",
           "#EF553B",
           "#00cc96",
           "#ab63fa",
           "#FFA15A",
           "#19d3f3",
           "#FF6692",
           "#B6E880",
           "#FF97FF",
           "#FECB52"
          ],
          "font": {
           "color": "#2a3f5f"
          },
          "geo": {
           "bgcolor": "white",
           "lakecolor": "white",
           "landcolor": "#E5ECF6",
           "showlakes": true,
           "showland": true,
           "subunitcolor": "white"
          },
          "hoverlabel": {
           "align": "left"
          },
          "hovermode": "closest",
          "mapbox": {
           "style": "light"
          },
          "paper_bgcolor": "white",
          "plot_bgcolor": "#E5ECF6",
          "polar": {
           "angularaxis": {
            "gridcolor": "white",
            "linecolor": "white",
            "ticks": ""
           },
           "bgcolor": "#E5ECF6",
           "radialaxis": {
            "gridcolor": "white",
            "linecolor": "white",
            "ticks": ""
           }
          },
          "scene": {
           "xaxis": {
            "backgroundcolor": "#E5ECF6",
            "gridcolor": "white",
            "gridwidth": 2,
            "linecolor": "white",
            "showbackground": true,
            "ticks": "",
            "zerolinecolor": "white"
           },
           "yaxis": {
            "backgroundcolor": "#E5ECF6",
            "gridcolor": "white",
            "gridwidth": 2,
            "linecolor": "white",
            "showbackground": true,
            "ticks": "",
            "zerolinecolor": "white"
           },
           "zaxis": {
            "backgroundcolor": "#E5ECF6",
            "gridcolor": "white",
            "gridwidth": 2,
            "linecolor": "white",
            "showbackground": true,
            "ticks": "",
            "zerolinecolor": "white"
           }
          },
          "shapedefaults": {
           "line": {
            "color": "#2a3f5f"
           }
          },
          "ternary": {
           "aaxis": {
            "gridcolor": "white",
            "linecolor": "white",
            "ticks": ""
           },
           "baxis": {
            "gridcolor": "white",
            "linecolor": "white",
            "ticks": ""
           },
           "bgcolor": "#E5ECF6",
           "caxis": {
            "gridcolor": "white",
            "linecolor": "white",
            "ticks": ""
           }
          },
          "title": {
           "x": 0.05
          },
          "xaxis": {
           "automargin": true,
           "gridcolor": "white",
           "linecolor": "white",
           "ticks": "",
           "title": {
            "standoff": 15
           },
           "zerolinecolor": "white",
           "zerolinewidth": 2
          },
          "yaxis": {
           "automargin": true,
           "gridcolor": "white",
           "linecolor": "white",
           "ticks": "",
           "title": {
            "standoff": 15
           },
           "zerolinecolor": "white",
           "zerolinewidth": 2
          }
         }
        },
        "title": {
         "text": "Most common 3-grams in misleading reviews"
        },
        "width": 700,
        "xaxis": {
         "anchor": "y",
         "domain": [
          0,
          1
         ],
         "visible": false
        },
        "yaxis": {
         "anchor": "x",
         "domain": [
          0,
          1
         ],
         "visible": false
        }
       }
      }
     },
     "metadata": {},
     "output_type": "display_data"
    }
   ],
   "source": [
    "from wordcloud import WordCloud\n",
    "from PIL import Image\n",
    "\n",
    "ngrams_str = \" \".join(n_grams_3)\n",
    "\n",
    "# make house-shaped mask\n",
    "mask = np.array(Image.open(\"../../house_shape.png\"))\n",
    "# fill transparent areas with white\n",
    "mask[mask[:, :, 3] == 0] = [255, 255, 255, 255]\n",
    "\n",
    "# generate wordcloud\n",
    "wc = WordCloud(\n",
    "    background_color=\"white\", \n",
    "    max_words=1000, \n",
    "    width=mask.shape[0]*5,\n",
    "    height=mask.shape[1]*5,\n",
    "    mask = mask,\n",
    "    contour_width=3,\n",
    "    contour_color='steelblue',\n",
    "    colormap=\"twilight_shifted\"\n",
    ").generate(ngrams_str)\n",
    "\n",
    "wc\n",
    "\n",
    "# show wordcloud\n",
    "fig = px.imshow(wc, title=f\"Most common {N}-grams in misleading reviews\", width=700, height=700)\n",
    "fig.update_xaxes(visible=False)\n",
    "fig.update_yaxes(visible=False)\n",
    "fig.show()"
   ]
  },
  {
   "attachments": {},
   "cell_type": "markdown",
   "metadata": {},
   "source": [
    "Here is a reusable function to add ngrams features to a dataframe."
   ]
  },
  {
   "cell_type": "code",
   "execution_count": 59,
   "metadata": {},
   "outputs": [],
   "source": [
    "def ngrams_features(features, n):\n",
    "    \"\"\"Add n-gram features to the features dataframe.\"\"\"\n",
    "\n",
    "    # one-hot encode ngrams\n",
    "    df[\"ngrams\"] = df.comments.apply(lambda x: set(get_consecutive_ngrams(x, 3)))\n",
    "\n",
    "    # get ngrams that are common in misleading reviews\n",
    "    misleading = df[df.label.isin([\"mbad\", \"mgood\"])]\n",
    "    ng_set = set(series_to_ngrams(subset.comments, n).to_list())\n",
    "\n",
    "    # one-hot encode ngrams\n",
    "    ngram_features = {}\n",
    "    for ngram in ng_set:\n",
    "        ngram_features[ngram] = df.ngrams.apply(lambda ngrams: 1 if ngram in ngrams else 0)\n",
    "    ngram_df = pd.DataFrame(ngram_features)\n",
    "    features = pd.concat([features, ngram_df], axis=1)\n",
    "\n",
    "    # Only keep ngram features that appear in at least 3 reviews\n",
    "    min_num_reviews = 3\n",
    "    num_reviews_ngram_is_in = features.apply(lambda x: x > 0).sum()\n",
    "    ngram_features_to_drop= num_reviews_ngram_is_in[num_reviews_ngram_is_in < min_num_reviews].index\n",
    "\n",
    "    features = features.drop(ngram_features_to_drop, axis=1)\n",
    "\n",
    "    return features"
   ]
  },
  {
   "attachments": {},
   "cell_type": "markdown",
   "metadata": {},
   "source": [
    "## Word Embeddings and T-SNE\n",
    "Another way to look at the data is to use word embeddings. We can use the word2vec model from gensim to create word embeddings for each word in the dataset. We can then take the average of all word vectors in a review to get a vector representation of the review. We can then use T-SNE to reduce the dimensionality of the word embeddings to 3 dimensions so we can plot them."
   ]
  },
  {
   "cell_type": "code",
   "execution_count": 66,
   "metadata": {},
   "outputs": [],
   "source": [
    "from gensim.models.doc2vec import Doc2Vec, TaggedDocument\n",
    "from gensim.models.word2vec import Word2Vec\n",
    "\n",
    "def embeddings_features(features, emb_vector_size=50) -> pd.DataFrame:\n",
    "\n",
    "    print(\"Creating model...\")\n",
    "    model = Word2Vec(df.comments.to_list(), \n",
    "            min_count=1,\n",
    "            vector_size=emb_vector_size,\n",
    "            workers=3, \n",
    "            window=3, \n",
    "            sg=1\n",
    "        )\n",
    "    \n",
    "    # generate embeddings\n",
    "    print(\"Generating embeddings...\")\n",
    "    get_review_embeddings = lambda review: np.mean([model.wv[word] for word in review if word in model.wv], axis=0)\n",
    "    embeddings = np.array([get_review_embeddings(review) for review in df.comments.to_list()])\n",
    "    \n",
    "    for i in range(embeddings.shape[1]):\n",
    "        features[f\"embedding_{i}\"] = embeddings[:, i]\n",
    "    \n",
    "    return features\n",
    "\n",
    "\n",
    "def tsne_features(features, dims=3):\n",
    "\n",
    "    from sklearn.manifold import TSNE\n",
    "    print(f\"Applying t-SNE... (dim={dims})\")\n",
    "    tsne = TSNE(n_components=dims, random_state=0)\n",
    "    embeddings_2d = tsne.fit_transform(features)\n",
    "    embd_df = pd.DataFrame(embeddings_2d, columns=[f\"tsne_{i}\" for i in range(dims)])\n",
    "\n",
    "    return embd_df"
   ]
  },
  {
   "attachments": {},
   "cell_type": "markdown",
   "metadata": {},
   "source": [
    "Let's apply this to the misleading reviews, and then reduce down to 2 dimensions using T-SNE."
   ]
  },
  {
   "cell_type": "code",
   "execution_count": 67,
   "metadata": {},
   "outputs": [
    {
     "name": "stdout",
     "output_type": "stream",
     "text": [
      "Creating model...\n",
      "Generating embeddings...\n",
      "Applying t-SNE... (dim=3)\n"
     ]
    },
    {
     "data": {
      "application/vnd.plotly.v1+json": {
       "config": {
        "plotlyServerURL": "https://plot.ly"
       },
       "data": [
        {
         "hovertemplate": "label=good<br>tsne_0=%{x}<br>tsne_1=%{y}<br>tsne_2=%{z}<extra></extra>",
         "legendgroup": "good",
         "marker": {
          "color": "#636efa",
          "opacity": 0.5,
          "size": 2,
          "symbol": "circle"
         },
         "mode": "markers",
         "name": "good",
         "scene": "scene",
         "showlegend": true,
         "type": "scatter3d",
         "x": [
          -1.2840489149093628,
          -6.925259590148926,
          -0.9490031599998474,
          -4.873396873474121,
          1.2282838821411133,
          6.748908519744873,
          -7.775920867919922,
          -3.1549923419952393,
          -3.5530967712402344,
          -7.901793003082275,
          6.389830112457275,
          5.174594402313232,
          -4.675241470336914,
          5.937998294830322,
          -3.310183525085449,
          -0.5790827870368958,
          -7.733091354370117,
          3.745504856109619,
          -10.736395835876465,
          2.3494133949279785,
          -6.1183671951293945,
          -1.5933552980422974,
          3.255023956298828,
          3.7668697834014893,
          -1.5647579431533813,
          -2.6346185207366943,
          9.143691062927246,
          -10.716407775878906,
          -6.86045503616333,
          1.3908343315124512,
          -5.01584529876709,
          -8.342219352722168,
          -1.6155476570129395,
          -2.3725905418395996,
          -1.3251948356628418,
          -8.603975296020508,
          5.361513614654541,
          -3.4669110774993896,
          0.8411815762519836,
          -6.422109603881836,
          -7.706187725067139,
          -11.197189331054688,
          -6.152708530426025,
          3.249227523803711,
          7.662576675415039,
          -1.4689874649047852,
          0.8440850973129272,
          -3.736758232116699,
          3.466456890106201,
          3.3860321044921875,
          -1.6575498580932617,
          -8.941834449768066,
          1.4270881414413452,
          -4.632201671600342,
          -7.459735870361328,
          0.5763102769851685,
          -2.038721799850464,
          1.0867204666137695,
          3.4091665744781494,
          7.199611663818359,
          12.070109367370605,
          1.2846591472625732,
          6.9087443351745605,
          -0.5707099437713623,
          -5.141728401184082,
          8.61182975769043,
          -2.25748348236084,
          0.3619147837162018,
          -2.2380619049072266,
          -1.964629054069519,
          1.628598690032959,
          3.043440103530884,
          -0.5993029475212097,
          5.762526512145996,
          4.016119003295898,
          4.70862340927124,
          5.2505974769592285,
          -8.061899185180664,
          -2.076150894165039,
          0.1424257904291153,
          -6.428890705108643,
          5.4746928215026855,
          -11.246532440185547,
          -0.3417961597442627,
          -8.051517486572266,
          -1.4131309986114502,
          -6.052661895751953,
          -11.787459373474121,
          -2.972458839416504,
          -5.474576473236084,
          5.528061866760254,
          5.982594966888428,
          -2.3998799324035645,
          3.4091241359710693,
          1.7137620449066162,
          7.026970863342285,
          2.5295395851135254,
          5.6972551345825195,
          6.62619161605835,
          -0.17093990743160248,
          -0.9192850589752197,
          -1.580812692642212,
          4.909357070922852,
          7.760066986083984,
          -0.9930894374847412,
          0.908387303352356,
          -5.205007553100586,
          7.453047275543213,
          4.080087661743164,
          -4.847797870635986,
          0.6416534781455994,
          -7.698879241943359,
          3.8069210052490234,
          2.0289599895477295,
          4.075936794281006,
          0.32917851209640503,
          -2.28200626373291,
          7.514179706573486,
          10.910139083862305,
          10.569646835327148,
          6.37285041809082,
          9.8556489944458,
          9.74057388305664,
          -2.832883596420288,
          -9.098037719726562,
          -7.8950581550598145,
          -2.246553659439087,
          -2.472508668899536,
          -2.049750804901123,
          -0.15322275459766388,
          5.5475969314575195,
          -6.767069339752197,
          -0.8869278430938721,
          -5.515366077423096,
          0.3356039822101593,
          -5.628105163574219,
          -12.204399108886719,
          -4.321766376495361,
          -2.006328821182251,
          9.179007530212402,
          6.436661243438721,
          13.741189956665039,
          -5.927302837371826,
          0.5461132526397705,
          -4.086259365081787,
          1.6210871934890747,
          -2.4219980239868164,
          13.726024627685547,
          -6.872516632080078,
          1.0658646821975708,
          -11.731870651245117,
          -2.5131185054779053,
          -1.6124635934829712,
          -4.290542125701904,
          -1.090873122215271,
          -1.6208109855651855,
          3.777442693710327,
          8.060219764709473,
          10.003661155700684,
          -8.030967712402344,
          8.20303726196289,
          10.454301834106445,
          13.757796287536621,
          -4.644954681396484,
          -3.6044979095458984,
          7.800577640533447,
          1.0419163703918457,
          -7.86339807510376,
          -1.8121930360794067,
          -5.725907802581787,
          -7.000931739807129,
          5.703571796417236,
          -1.9197903871536255,
          -6.116122722625732,
          -2.098745107650757,
          -2.3767807483673096,
          -1.4113134145736694,
          4.0120649337768555,
          3.0241777896881104,
          1.6034058332443237,
          -0.1738511323928833,
          -0.1327856034040451,
          -1.1111559867858887,
          5.916254997253418,
          9.661616325378418,
          6.681411266326904,
          -6.85797119140625,
          -9.538886070251465,
          13.737845420837402,
          13.74885368347168,
          4.248130798339844,
          11.520164489746094,
          -2.9449238777160645,
          -4.670840740203857,
          3.0435914993286133,
          -10.178339958190918,
          -4.275040149688721,
          4.821953773498535,
          1.4514683485031128,
          4.149348258972168,
          -4.044734477996826,
          -4.885857105255127,
          -11.87775993347168,
          2.0067834854125977,
          -0.4947074353694916,
          -3.0223331451416016,
          2.4802801609039307,
          -2.4576315879821777,
          -1.163727045059204,
          -1.9667842388153076,
          -7.731183052062988,
          -8.322356224060059,
          -3.5736947059631348,
          5.515312671661377,
          3.8237435817718506,
          7.5330095291137695,
          -8.508475303649902,
          3.6732847690582275,
          -2.109785318374634,
          3.9340243339538574,
          -3.7313315868377686,
          8.396268844604492,
          -4.5615997314453125,
          3.4423296451568604,
          5.1823015213012695,
          -4.472378730773926,
          -6.28196382522583,
          6.441148281097412,
          -0.4272705614566803,
          3.7058169841766357,
          -4.740320205688477,
          -2.0708842277526855,
          0.5065807700157166,
          -4.598409175872803,
          -3.0187766551971436,
          10.73237133026123,
          11.975180625915527,
          2.703658103942871,
          -0.9859520196914673,
          4.780548095703125,
          -3.221735715866089,
          8.06351089477539,
          -0.5488165020942688,
          6.996904373168945,
          -2.721104145050049,
          -11.282183647155762,
          -2.8688156604766846,
          -0.47154709696769714,
          -4.057906150817871,
          0.7351230382919312,
          -6.296773910522461,
          5.245123863220215,
          -5.465404033660889,
          -9.698415756225586,
          -9.105186462402344,
          -7.192526340484619,
          -1.0007559061050415,
          1.1073050498962402,
          -2.3423633575439453,
          -10.517738342285156,
          -5.259998321533203,
          -2.43731689453125,
          -3.579068899154663,
          -0.8180803656578064,
          1.9682961702346802,
          9.367692947387695,
          -5.816649913787842,
          -4.423907279968262,
          11.1548433303833,
          2.1278164386749268,
          -2.1150336265563965,
          7.516156196594238,
          -8.6010103225708,
          -11.624897003173828,
          -2.447021245956421,
          -0.502129077911377,
          1.5672073364257812,
          5.789208889007568,
          -2.367576837539673,
          8.264978408813477,
          -3.2763028144836426,
          -4.562131404876709,
          -8.678537368774414,
          -5.153738021850586,
          6.557863712310791,
          -0.6428338885307312,
          -0.7643302083015442,
          0.31775882840156555,
          -5.1047773361206055,
          6.126159191131592,
          3.0221054553985596,
          1.942001461982727,
          5.609362602233887,
          3.411092519760132,
          1.5159485340118408,
          0.4699547588825226,
          4.374794960021973,
          6.592541217803955,
          2.218839168548584,
          -1.7589322328567505,
          4.509180068969727,
          2.432487726211548,
          -5.641877174377441,
          -0.20938901603221893,
          -6.56319522857666,
          6.683770179748535,
          -3.7541189193725586,
          -9.263009071350098,
          -5.212979793548584,
          9.634675979614258,
          10.898343086242676,
          1.5385123491287231,
          -3.4132535457611084,
          2.6543376445770264,
          -2.5290703773498535,
          -3.3270514011383057,
          11.314352035522461,
          -4.753257751464844,
          -3.3917112350463867,
          1.9906772375106812,
          -1.1079790592193604,
          7.800455570220947,
          -3.43179988861084,
          8.49425983428955,
          -4.837160110473633,
          9.8560209274292,
          -3.3565268516540527,
          2.392418384552002,
          -7.758281230926514,
          -5.643401145935059,
          5.101851940155029,
          -3.79644513130188,
          -1.8278781175613403,
          4.624999523162842,
          -2.9798922538757324,
          -4.533819198608398,
          4.4464497566223145,
          5.444906234741211,
          4.413580417633057,
          3.2062883377075195,
          -4.633205890655518,
          -8.512720108032227,
          -4.6765265464782715,
          -7.1794867515563965,
          -6.434770584106445,
          0.5118044018745422,
          -11.684466361999512,
          7.325685501098633,
          2.3836350440979004,
          -1.750638484954834,
          -0.038550980389118195,
          -4.058381080627441,
          6.182094097137451,
          -3.9248900413513184,
          6.126131534576416,
          4.695727348327637,
          5.652951240539551,
          -5.221805095672607,
          -0.09113743901252747,
          3.3193767070770264,
          -5.767641544342041,
          3.4299685955047607,
          -2.3639485836029053,
          -8.030391693115234,
          -1.083457589149475,
          9.404314994812012,
          2.1656675338745117,
          -2.7347545623779297,
          -6.238284111022949,
          3.5537827014923096,
          2.3908562660217285,
          1.375355839729309,
          1.4878840446472168,
          -1.5485401153564453,
          -5.89874267578125,
          -0.57365882396698,
          -6.024492263793945,
          1.7535114288330078,
          1.4070067405700684,
          -10.785331726074219,
          -0.869320273399353,
          3.1330506801605225,
          5.531970500946045,
          -4.351079940795898,
          -5.062593460083008,
          0.8633071184158325,
          1.0431137084960938,
          -5.278031349182129,
          -3.440725803375244,
          -2.105442523956299,
          -7.737224578857422,
          -3.541250705718994,
          6.258861541748047,
          -2.9865574836730957,
          -2.4318580627441406,
          2.154263496398926,
          1.362776756286621,
          -6.31977653503418,
          -8.482197761535645,
          -1.0165866613388062,
          6.194797039031982,
          2.2536990642547607,
          8.916757583618164,
          4.680602550506592,
          1.4419194459915161,
          -5.075359344482422,
          -1.9564522504806519,
          1.0967154502868652,
          -6.795981407165527,
          4.673636436462402,
          7.433940410614014,
          3.8506224155426025,
          -8.13074016571045,
          -5.945377349853516,
          10.166911125183105,
          -5.357679843902588,
          -1.5898760557174683,
          -1.7890785932540894,
          4.626546859741211,
          -5.051634311676025,
          -1.7946560382843018,
          4.918600559234619,
          -2.943624973297119,
          8.452073097229004,
          11.479397773742676,
          -3.8200173377990723,
          7.684381484985352,
          -9.745187759399414,
          9.555046081542969,
          -5.76500940322876,
          -2.2760205268859863,
          -7.294264793395996,
          2.8973376750946045,
          -7.29757022857666,
          -1.8681483268737793,
          -8.434791564941406,
          1.5642400979995728,
          3.914411783218384,
          -8.742579460144043,
          -5.288008689880371,
          -8.20303726196289,
          -7.868451118469238,
          -11.825444221496582,
          -11.345044136047363,
          -5.4178667068481445,
          6.3438801765441895,
          3.6988773345947266,
          2.2047407627105713,
          -3.0798730850219727,
          7.493128299713135,
          4.705575942993164,
          1.84450364112854,
          3.530092477798462,
          -8.815953254699707,
          -11.425325393676758,
          1.8514422178268433,
          -1.568559169769287,
          -6.898464679718018,
          -7.929666996002197,
          -5.850494861602783,
          -7.947129249572754,
          -9.563456535339355,
          11.713594436645508,
          -9.222867965698242,
          -8.23125171661377,
          8.537232398986816,
          -8.931717872619629,
          -5.660146236419678,
          5.599144458770752,
          -2.5051565170288086,
          2.144042491912842,
          -2.7826039791107178,
          6.319544792175293,
          8.11865234375,
          -4.623715877532959,
          -8.142998695373535,
          -1.1097745895385742,
          -9.834887504577637,
          -6.283512592315674,
          -2.6117970943450928,
          -9.448851585388184,
          -4.927841663360596,
          -4.927788257598877,
          -4.927809715270996,
          2.613903760910034,
          2.9802021980285645,
          5.026097774505615,
          2.4583117961883545,
          4.8099141120910645,
          6.310633659362793,
          4.147103786468506,
          -7.098413944244385,
          1.4133846759796143,
          -0.0650685504078865,
          -7.865291118621826,
          1.6056956052780151,
          -7.222593307495117,
          -3.8261642456054688,
          -10.901449203491211,
          -4.330462455749512,
          7.415918350219727,
          -10.486593246459961,
          -0.4987460672855377,
          -5.2143659591674805,
          -1.290273666381836,
          0.908496618270874,
          -6.215692520141602,
          -1.7002652883529663,
          5.690749168395996,
          -5.995553016662598,
          -4.0903096199035645,
          9.66966438293457,
          8.290660858154297,
          -0.5803720355033875,
          -5.831989765167236,
          -5.609441757202148,
          -6.080331802368164,
          6.120458126068115,
          -6.22066068649292,
          -1.3902653455734253,
          4.572547435760498,
          -0.7478858828544617,
          -5.265961647033691,
          0.42827191948890686,
          -5.683437347412109,
          -7.8356032371521,
          -3.899456739425659,
          -5.794421195983887,
          -1.3984628915786743,
          -6.797186851501465,
          3.7391245365142822,
          -4.3284173011779785,
          -5.178813457489014,
          3.43814754486084,
          -2.288806200027466,
          -6.822392463684082,
          6.536030292510986,
          -4.454146862030029,
          3.5398848056793213,
          -4.277196884155273,
          2.633746862411499,
          -6.53812313079834,
          -0.8635373711585999,
          6.447629451751709,
          -3.1521337032318115,
          -5.196414470672607,
          1.3205715417861938,
          -3.719623327255249,
          -4.142669677734375,
          2.6566224098205566,
          4.794500350952148,
          1.9717909097671509,
          -10.648917198181152,
          -3.1239657402038574,
          -7.301133632659912,
          -6.2188544273376465,
          -1.879357933998108,
          -0.7834838032722473,
          -10.289505958557129,
          -1.3781989812850952,
          -11.813685417175293,
          -6.291618347167969,
          1.2495019435882568,
          -7.4259161949157715,
          -1.8652970790863037,
          3.190507650375366,
          -1.896950125694275,
          4.380380630493164,
          -2.9853365421295166,
          2.1133029460906982,
          -1.5771058797836304,
          -7.98913049697876,
          -0.20787163078784943,
          -2.124356746673584,
          6.173871040344238,
          2.276165246963501,
          2.8913142681121826,
          -9.45198917388916,
          -1.1355056762695312,
          -9.906715393066406,
          3.3888111114501953,
          -2.6797094345092773,
          6.06399393081665,
          2.2098307609558105,
          1.0782911777496338,
          -9.950940132141113,
          -6.049081325531006,
          -1.0614391565322876,
          -4.033123016357422,
          -1.4145063161849976,
          1.2541764974594116,
          4.565864562988281,
          3.191890239715576,
          2.6138951778411865,
          4.865437984466553,
          -5.686028003692627,
          0.931788444519043,
          0.1052815318107605,
          -5.2637939453125,
          -0.4049413800239563,
          0.7692744135856628,
          -2.9565539360046387,
          -8.040539741516113,
          2.9859743118286133,
          4.045705318450928,
          -2.843855142593384,
          -6.403672218322754,
          -9.549942970275879,
          -10.7994966506958,
          -1.8138391971588135,
          2.0327975749969482,
          5.861937046051025,
          10.169052124023438,
          6.9456257820129395,
          6.857612609863281,
          -2.565549850463867,
          6.618864059448242,
          6.28542947769165,
          0.24485540390014648,
          3.293095588684082,
          -1.5555202960968018,
          -1.7113085985183716,
          5.1142754554748535,
          -3.4971845149993896,
          -2.0176022052764893,
          -8.727350234985352,
          -6.0539374351501465,
          -5.039278507232666,
          -3.6522021293640137,
          2.9759981632232666,
          3.3919782638549805,
          9.755537986755371,
          -11.329278945922852,
          7.122978687286377,
          -4.103326320648193,
          -8.386377334594727,
          -1.523800253868103,
          -5.057459831237793,
          -7.929479598999023,
          -3.1237952709198,
          -2.4143145084381104,
          7.625275135040283,
          7.980151653289795,
          5.5509772300720215,
          8.241493225097656,
          1.0192947387695312,
          -8.310976028442383,
          -9.84485912322998,
          -3.696610927581787,
          -3.0016233921051025,
          -2.32840633392334,
          -7.052224159240723,
          3.218059539794922,
          -8.730037689208984,
          -7.0363664627075195,
          3.4742488861083984,
          -1.7032793760299683,
          -1.8619821071624756,
          5.53618860244751,
          2.4908101558685303,
          -8.642709732055664,
          -5.939796447753906,
          -2.386831760406494,
          -10.852473258972168,
          2.894998788833618,
          2.005523204803467,
          6.412326335906982,
          9.133453369140625,
          -0.2519984543323517,
          -1.786059856414795,
          -1.531762719154358,
          -0.7439494132995605,
          0.932697057723999,
          -4.319308757781982,
          -9.104668617248535,
          -4.438079833984375,
          -3.3262882232666016,
          -1.75652015209198,
          -1.2340177297592163,
          -7.14120626449585,
          6.487105846405029,
          3.6050827503204346,
          9.45402717590332,
          -8.557435989379883,
          -4.264580249786377,
          3.5418508052825928,
          7.921560764312744,
          11.939656257629395,
          -6.825634479522705,
          2.9571263790130615,
          3.987083673477173,
          -8.772228240966797,
          3.055845022201538,
          -3.7950122356414795,
          -8.010540008544922,
          -6.0269551277160645,
          -4.05884313583374,
          1.735119342803955,
          -0.4765157997608185,
          6.554037094116211,
          -5.459927558898926,
          5.439491271972656,
          -9.692953109741211,
          -3.049170970916748,
          0.5444529056549072,
          -0.8040965795516968,
          -1.5631358623504639,
          -10.2931489944458,
          -7.286590099334717,
          -2.4641754627227783,
          4.04131555557251,
          4.767169952392578,
          -1.365423321723938,
          1.294870138168335,
          4.829146385192871,
          -1.3116613626480103,
          0.3256036937236786,
          1.0374284982681274,
          2.021195888519287,
          -9.840356826782227,
          -2.179774284362793,
          -1.458831548690796,
          1.2036199569702148,
          -7.075430870056152,
          -6.561052322387695,
          -8.120588302612305,
          -1.7562037706375122,
          2.0025484561920166,
          -1.180647850036621,
          -3.326157331466675,
          -3.4931108951568604,
          -7.038073539733887,
          -6.518155097961426,
          1.9560405015945435,
          -1.8149536848068237,
          -0.6134672164916992,
          -1.4615812301635742,
          -5.3930583000183105,
          7.297207355499268,
          -2.974403142929077,
          0.03852967917919159,
          5.151567459106445,
          3.433331251144409,
          0.21572227776050568,
          -8.086731910705566,
          -0.43608522415161133,
          1.014496088027954,
          -4.695572376251221,
          -3.4930920600891113,
          -2.0732028484344482,
          -4.9254560470581055,
          3.700147867202759,
          3.3894405364990234,
          4.165835857391357,
          3.571141242980957,
          2.178764820098877,
          5.406681060791016,
          -3.6146628856658936,
          -0.2539101243019104,
          3.7814431190490723,
          -5.736512660980225,
          6.421525001525879,
          -4.234872341156006,
          0.07720459252595901,
          1.6793828010559082,
          -0.8889509439468384,
          -6.12888765335083,
          -3.2271904945373535,
          0.17077580094337463,
          -4.4865570068359375,
          -1.7462549209594727,
          0.05363389849662781,
          -4.656065940856934,
          3.183077335357666,
          6.295866966247559,
          -7.158952713012695,
          0.27227210998535156,
          -5.328065395355225,
          5.064222812652588,
          -10.202495574951172,
          -6.393387317657471,
          5.972236156463623,
          -3.173280954360962,
          -4.8305792808532715,
          -6.500216484069824,
          -9.123525619506836,
          1.9062446355819702,
          -1.2378829717636108,
          1.9193289279937744,
          0.8108220100402832,
          -0.8877763152122498,
          -8.380871772766113,
          -9.421316146850586,
          1.0868839025497437,
          -3.304870128631592,
          -2.660130500793457,
          1.5647941827774048,
          -7.030224800109863,
          -1.5159690380096436,
          -3.1338648796081543,
          -3.605820655822754,
          -6.404778003692627,
          -6.975324630737305,
          -8.728401184082031,
          2.6139986515045166,
          -11.401128768920898,
          -11.89168930053711,
          2.1780154705047607,
          -10.293664932250977,
          3.398724317550659,
          5.400325298309326,
          -0.6864054799079895,
          -1.8788775205612183
         ],
         "y": [
          -3.3332717418670654,
          4.740671634674072,
          -4.434471130371094,
          -6.587246417999268,
          -3.4246280193328857,
          4.180046558380127,
          2.22249436378479,
          -0.33860981464385986,
          -2.982794761657715,
          2.7621636390686035,
          2.1811585426330566,
          -8.779485702514648,
          2.2425267696380615,
          5.525888919830322,
          0.6329332590103149,
          4.368467807769775,
          -0.24615223705768585,
          -7.360844612121582,
          1.9606236219406128,
          0.13825160264968872,
          3.9070093631744385,
          6.342327117919922,
          -5.551484107971191,
          -7.082428932189941,
          4.654155254364014,
          -5.342569828033447,
          2.9302937984466553,
          2.129430055618286,
          6.145917892456055,
          -5.053317070007324,
          -3.9472992420196533,
          -0.6328215003013611,
          -3.407609701156616,
          1.1846568584442139,
          -5.719237804412842,
          3.105109691619873,
          4.153923034667969,
          2.9075706005096436,
          4.500079154968262,
          -5.426158428192139,
          -2.2394163608551025,
          1.0570316314697266,
          3.3369696140289307,
          -7.6084747314453125,
          0.10036718845367432,
          3.8650240898132324,
          1.4850850105285645,
          3.233835458755493,
          6.038527965545654,
          5.770998954772949,
          6.534034252166748,
          3.4054412841796875,
          -3.50696063041687,
          3.950413703918457,
          5.03087854385376,
          4.784518241882324,
          -3.2924721240997314,
          -8.226104736328125,
          -4.744069576263428,
          5.2961955070495605,
          4.166339874267578,
          -3.0702579021453857,
          2.1209967136383057,
          -2.5295612812042236,
          -0.04478069394826889,
          5.795584201812744,
          -3.8338091373443604,
          -2.174438238143921,
          -6.878345966339111,
          -1.458698034286499,
          5.698811054229736,
          -6.587094783782959,
          -0.17999932169914246,
          -1.725229263305664,
          -0.9652630090713501,
          -7.9992995262146,
          4.052855014801025,
          3.959312915802002,
          -5.518854141235352,
          -6.208733558654785,
          -0.1776220053434372,
          1.2047394514083862,
          1.7503554821014404,
          2.054495096206665,
          -2.423828125,
          -5.53871488571167,
          1.0520036220550537,
          2.325228214263916,
          0.7164044976234436,
          4.216162204742432,
          -1.4442288875579834,
          -1.1228642463684082,
          -2.5255844593048096,
          2.3150553703308105,
          -4.915622234344482,
          5.554081916809082,
          -0.4296325743198395,
          -4.490259647369385,
          0.6446194052696228,
          -3.874558448791504,
          1.3059810400009155,
          -4.039565563201904,
          -5.575700759887695,
          0.713628888130188,
          0.6852273941040039,
          -2.816033363342285,
          -0.12025873363018036,
          -0.1499841809272766,
          -6.205959320068359,
          -5.084710121154785,
          1.661360740661621,
          -1.6489337682724,
          -0.0570962093770504,
          6.994802474975586,
          6.736774921417236,
          -5.115106105804443,
          -4.071065425872803,
          -0.3128073513507843,
          5.893117904663086,
          5.93834114074707,
          5.100525379180908,
          5.66699743270874,
          5.696074485778809,
          2.0512895584106445,
          4.506036281585693,
          -4.779313564300537,
          5.690237522125244,
          4.826057434082031,
          2.367222785949707,
          0.8549340963363647,
          -6.228387355804443,
          2.991015672683716,
          5.946544170379639,
          -5.93680477142334,
          0.2776329517364502,
          -6.146829128265381,
          3.2701809406280518,
          -0.29154670238494873,
          -1.6614298820495605,
          3.0665810108184814,
          -4.439472675323486,
          5.596099376678467,
          0.22255530953407288,
          3.9463303089141846,
          -0.3775790333747864,
          7.125328540802002,
          -8.092734336853027,
          5.59644889831543,
          -5.52544641494751,
          -1.433449387550354,
          4.225617408752441,
          -3.2125837802886963,
          -3.832275390625,
          -3.811941385269165,
          -2.480910062789917,
          1.4827443361282349,
          -0.9736971259117126,
          -0.42819878458976746,
          3.0475831031799316,
          6.835700511932373,
          6.0268473625183105,
          5.104730129241943,
          5.596669673919678,
          2.753815174102783,
          -4.089845180511475,
          2.5689289569854736,
          0.006171964108943939,
          -4.6794281005859375,
          6.834400653839111,
          4.889564514160156,
          4.749763011932373,
          5.196690559387207,
          3.9177589416503906,
          -5.039496898651123,
          0.3460160791873932,
          -4.568864345550537,
          1.6958332061767578,
          -3.506025552749634,
          -2.90492844581604,
          3.9695985317230225,
          -0.8419638872146606,
          6.927858352661133,
          1.3765019178390503,
          1.3517976999282837,
          5.418756008148193,
          5.504080772399902,
          0.3908258080482483,
          4.075368404388428,
          5.595840930938721,
          5.5963134765625,
          2.3548648357391357,
          6.005730628967285,
          0.8482028245925903,
          -0.16598625481128693,
          -3.5825278759002686,
          4.337282180786133,
          3.901733160018921,
          -0.15672045946121216,
          -2.303417205810547,
          -7.600790977478027,
          -2.5027496814727783,
          -3.6464269161224365,
          1.9851837158203125,
          -3.969356060028076,
          2.028787136077881,
          -1.129605770111084,
          -4.098382472991943,
          -5.902328968048096,
          5.988020896911621,
          -2.180969715118408,
          6.312294006347656,
          6.306394100189209,
          -0.4563974142074585,
          -4.609667778015137,
          6.050956726074219,
          5.438045978546143,
          0.3057326078414917,
          -3.511958360671997,
          -4.547313690185547,
          0.39296862483024597,
          3.3431007862091064,
          5.605748176574707,
          -0.2963067591190338,
          -0.6813880205154419,
          -4.646684646606445,
          -4.151033401489258,
          0.4976848363876343,
          -1.5079212188720703,
          1.3596210479736328,
          1.1501346826553345,
          1.3975845575332642,
          -4.747879981994629,
          2.511718988418579,
          1.737731695175171,
          -0.09686966240406036,
          4.785527229309082,
          5.871837139129639,
          -2.3810200691223145,
          3.251668691635132,
          5.172196865081787,
          -1.6533013582229614,
          1.3963475227355957,
          -5.555792331695557,
          3.1720058917999268,
          0.07782963663339615,
          1.6760715246200562,
          -4.896426677703857,
          0.9361681342124939,
          1.1695892810821533,
          0.6110804080963135,
          4.443150997161865,
          0.5216516852378845,
          -3.815037250518799,
          2.075202226638794,
          7.211701393127441,
          -1.3985798358917236,
          7.492395877838135,
          7.3117356300354,
          -5.947556018829346,
          0.7006356120109558,
          -3.980165481567383,
          -3.2188446521759033,
          -3.8891491889953613,
          -2.0871217250823975,
          4.024750232696533,
          5.748050212860107,
          1.5582892894744873,
          -7.8695831298828125,
          5.129693031311035,
          0.512157142162323,
          -3.819645404815674,
          5.914463996887207,
          5.831259250640869,
          1.3083698749542236,
          2.4927656650543213,
          1.072252869606018,
          1.4404339790344238,
          1.8846129179000854,
          -1.9422498941421509,
          2.776226043701172,
          3.0141139030456543,
          -8.041268348693848,
          -1.0269876718521118,
          -8.035320281982422,
          0.03629884496331215,
          -1.4339478015899658,
          0.02959635481238365,
          4.712472438812256,
          -7.975332260131836,
          -5.632821559906006,
          -4.480078220367432,
          -6.669352054595947,
          -3.2676661014556885,
          5.018578052520752,
          5.703557014465332,
          -0.3188870847225189,
          -6.359679222106934,
          2.4212965965270996,
          -0.25715890526771545,
          3.8871536254882812,
          -7.932694435119629,
          -1.1654529571533203,
          -5.766497611999512,
          1.9425280094146729,
          1.8139878511428833,
          -1.3348325490951538,
          2.8502912521362305,
          0.9308909773826599,
          0.614027202129364,
          3.9904367923736572,
          5.117936134338379,
          -2.247553586959839,
          -0.5519429445266724,
          -3.3161394596099854,
          -2.4077565670013428,
          -4.081017971038818,
          4.411777496337891,
          2.682999610900879,
          -3.863391876220703,
          -6.671639442443848,
          -2.61444091796875,
          2.8963558673858643,
          -0.8797013759613037,
          2.8701975345611572,
          6.4946393966674805,
          -0.20383286476135254,
          4.201507091522217,
          4.255343914031982,
          5.599839687347412,
          -0.6839438080787659,
          1.9889068603515625,
          2.933490753173828,
          -1.8296831846237183,
          2.2127134799957275,
          3.0100643634796143,
          -6.637850284576416,
          -2.7213528156280518,
          -8.698830604553223,
          -7.554563522338867,
          3.4820139408111572,
          2.5167553424835205,
          -0.6333399415016174,
          -1.1946287155151367,
          3.1707522869110107,
          0.7504867315292358,
          5.655002593994141,
          3.2309367656707764,
          1.0111678838729858,
          -5.094628810882568,
          -7.509799480438232,
          -2.1084954738616943,
          -0.9974830746650696,
          -8.05573844909668,
          -0.9788357019424438,
          1.0610301494598389,
          -6.323704242706299,
          -0.1736205518245697,
          -5.216331481933594,
          -2.9071743488311768,
          -5.298452854156494,
          1.0209016799926758,
          -0.35019996762275696,
          -7.654750347137451,
          3.6894702911376953,
          -5.6389079093933105,
          5.853848457336426,
          -6.68799352645874,
          -3.441948175430298,
          -3.613541841506958,
          -4.01458740234375,
          5.0937275886535645,
          -3.2318553924560547,
          -3.313852548599243,
          5.104804039001465,
          1.0343345403671265,
          4.319293022155762,
          2.5904407501220703,
          7.013736248016357,
          2.87086820602417,
          4.05800199508667,
          -4.664504051208496,
          -5.736409664154053,
          -5.701623916625977,
          -3.557791233062744,
          5.5381855964660645,
          7.146071434020996,
          -4.899617671966553,
          4.914470195770264,
          4.0350341796875,
          -2.0740058422088623,
          1.4627741575241089,
          -3.3314626216888428,
          4.013574600219727,
          1.3735922574996948,
          0.19460038840770721,
          0.5284085273742676,
          1.189660668373108,
          -5.500382423400879,
          7.335694789886475,
          0.6876367926597595,
          -5.321821689605713,
          2.4556355476379395,
          3.828528881072998,
          -4.479213237762451,
          -0.31783321499824524,
          -5.965864181518555,
          -1.6999728679656982,
          4.728156566619873,
          -1.7339622974395752,
          -8.123924255371094,
          -1.0900191068649292,
          -6.57612419128418,
          3.8047358989715576,
          1.0598952770233154,
          -0.1790933609008789,
          -3.4997363090515137,
          6.70727014541626,
          6.629456520080566,
          -5.503334045410156,
          -3.4640636444091797,
          6.670530319213867,
          3.091186761856079,
          3.287229537963867,
          3.0187325477600098,
          4.231328010559082,
          -5.067424774169922,
          0.23636017739772797,
          -0.0918259397149086,
          -0.6681817770004272,
          4.0099778175354,
          -8.1835298538208,
          5.252882957458496,
          5.595273017883301,
          -5.460549354553223,
          0.9644123315811157,
          5.64945650100708,
          -4.191558837890625,
          -8.103901863098145,
          -1.346977710723877,
          4.752044677734375,
          -2.2981655597686768,
          -0.31525954604148865,
          3.543905019760132,
          2.804415225982666,
          -3.68113112449646,
          0.11017652601003647,
          -2.3109843730926514,
          -0.1326196938753128,
          -3.0488691329956055,
          -1.6123046875,
          -4.5969157218933105,
          4.173202037811279,
          -3.57137131690979,
          3.3837358951568604,
          0.6742200255393982,
          -2.797109365463257,
          -4.423465251922607,
          -0.9195975661277771,
          1.8621433973312378,
          -5.822906494140625,
          -0.6577541828155518,
          -0.09076990187168121,
          5.542160511016846,
          1.7694417238235474,
          -1.2355841398239136,
          2.986769437789917,
          -0.5983777642250061,
          5.135398864746094,
          -5.831496715545654,
          -3.384209632873535,
          3.3913187980651855,
          0.46617618203163147,
          -0.9299121499061584,
          4.908905982971191,
          2.5285000801086426,
          7.097999572753906,
          7.233908176422119,
          6.142953872680664,
          -3.3885538578033447,
          4.091958999633789,
          2.14656925201416,
          2.551701784133911,
          2.5516817569732666,
          2.551669120788574,
          4.5730438232421875,
          -4.743081569671631,
          -4.2091779708862305,
          -5.42863130569458,
          -2.5930025577545166,
          0.09621324390172958,
          5.00223445892334,
          2.494455099105835,
          -4.3510050773620605,
          3.0567879676818848,
          2.8880298137664795,
          7.1387858390808105,
          2.263195276260376,
          -0.03935519978404045,
          1.1082874536514282,
          -0.17235146462917328,
          2.6884498596191406,
          2.201775074005127,
          4.446275234222412,
          0.8590023517608643,
          -2.1413233280181885,
          -2.8683669567108154,
          4.395296573638916,
          -1.9231293201446533,
          3.0068917274475098,
          -0.06704569607973099,
          0.9519854187965393,
          5.583677291870117,
          5.7113776206970215,
          -1.4416086673736572,
          -4.410458564758301,
          -6.755496501922607,
          -1.9505584239959717,
          0.9078096151351929,
          5.083607196807861,
          -3.175278425216675,
          0.9015811085700989,
          3.119377613067627,
          -5.7064738273620605,
          -9.066450119018555,
          -5.881467342376709,
          -4.750303745269775,
          -2.0907957553863525,
          -6.4020490646362305,
          -7.553368091583252,
          2.1103274822235107,
          -7.752511978149414,
          2.146829128265381,
          5.946963310241699,
          -3.306959629058838,
          -8.143077850341797,
          -6.351720333099365,
          0.5980389714241028,
          -7.510255813598633,
          -5.419969081878662,
          -3.187479257583618,
          -0.46116796135902405,
          -5.237227439880371,
          4.005583763122559,
          -3.2640726566314697,
          -1.5346930027008057,
          0.9479534029960632,
          -0.13903126120567322,
          -3.371443033218384,
          -4.797112464904785,
          -1.1754587888717651,
          2.097219228744507,
          -0.1757131814956665,
          3.9726333618164062,
          2.9893877506256104,
          -1.3580988645553589,
          -3.7347404956817627,
          0.8908817768096924,
          -1.473941445350647,
          0.8142839074134827,
          5.074095726013184,
          3.6393747329711914,
          -5.445844650268555,
          1.4904589653015137,
          4.7335100173950195,
          6.216623783111572,
          6.679792404174805,
          -1.3728402853012085,
          -6.370696544647217,
          -0.026488760486245155,
          3.3100149631500244,
          5.5474324226379395,
          5.314172267913818,
          -2.8718268871307373,
          -0.5030458569526672,
          4.368040084838867,
          -0.6022971868515015,
          0.7447102069854736,
          2.388125419616699,
          2.648411989212036,
          0.5737791657447815,
          2.8958263397216797,
          -4.725862503051758,
          1.0363191366195679,
          -3.908428430557251,
          -3.927725076675415,
          1.848973274230957,
          -5.183523178100586,
          -4.311601161956787,
          -3.369328737258911,
          7.331270694732666,
          0.008427374996244907,
          5.118496417999268,
          -2.9577245712280273,
          1.989928126335144,
          -5.128304958343506,
          -6.137558937072754,
          -8.831647872924805,
          -2.8575446605682373,
          -0.8628673553466797,
          7.211123466491699,
          4.8784003257751465,
          -0.4550333619117737,
          6.989877223968506,
          -3.850802421569824,
          1.0309116840362549,
          1.2704224586486816,
          -3.1631886959075928,
          6.774867057800293,
          2.4021167755126953,
          -7.492523670196533,
          4.05412483215332,
          5.092828273773193,
          4.005219459533691,
          0.7313029170036316,
          -1.8961881399154663,
          2.980332374572754,
          4.993585109710693,
          5.230465888977051,
          1.3259294033050537,
          -7.524740695953369,
          0.6493796110153198,
          -2.512235641479492,
          2.9983279705047607,
          -3.857412338256836,
          -7.744377613067627,
          4.5535173416137695,
          -4.190981864929199,
          0.11229577660560608,
          -4.079056262969971,
          -2.703118085861206,
          1.6727193593978882,
          -0.5297490358352661,
          0.40591955184936523,
          3.485924005508423,
          -8.195501327514648,
          -1.646887183189392,
          -6.771240234375,
          2.6978282928466797,
          -0.8909414410591125,
          2.066556453704834,
          -2.195272445678711,
          -0.5703316330909729,
          3.791804552078247,
          -7.085066795349121,
          0.6074836254119873,
          -5.792507648468018,
          3.8246188163757324,
          3.4830877780914307,
          4.878072261810303,
          1.3650758266448975,
          0.11555112898349762,
          -1.043992042541504,
          0.3366226553916931,
          3.2698888778686523,
          5.3634352684021,
          6.228382587432861,
          6.557854652404785,
          3.637634038925171,
          1.2464709281921387,
          -4.031516075134277,
          3.24753475189209,
          -0.16419917345046997,
          -7.612090587615967,
          1.8940696716308594,
          1.6751420497894287,
          -5.273890018463135,
          -6.239833831787109,
          3.0317559242248535,
          4.356988430023193,
          -5.192679405212402,
          5.729508876800537,
          6.718082904815674,
          2.2006359100341797,
          -7.711438179016113,
          -0.2468898743391037,
          -5.148022651672363,
          -5.315802097320557,
          2.117892265319824,
          1.9703763723373413,
          3.059683322906494,
          -4.298873424530029,
          0.9135233759880066,
          3.967590570449829,
          -1.6453653573989868,
          -5.071323394775391,
          -3.7549145221710205,
          5.166236400604248,
          3.5167624950408936,
          4.760537624359131,
          3.11165714263916,
          -4.484612941741943,
          2.372549295425415,
          -4.8492584228515625,
          -6.359447956085205,
          5.943332672119141,
          1.6234005689620972,
          3.1835711002349854,
          -0.3123683035373688,
          -2.1720564365386963,
          0.6124169826507568,
          2.6474804878234863,
          4.169189929962158,
          -1.112850546836853,
          -0.5743599534034729,
          0.28993481397628784,
          -6.0313897132873535,
          -3.678738594055176,
          1.0519793033599854,
          1.8983708620071411,
          -2.088097333908081,
          -4.452165126800537,
          3.4611637592315674,
          1.542648196220398,
          4.0990986824035645,
          -1.3327780961990356,
          -1.3511762619018555,
          -4.084781169891357,
          -3.209547281265259,
          -0.3627834916114807,
          1.7424389123916626,
          -4.423333644866943,
          0.8933373093605042,
          -3.7119643688201904,
          2.7628490924835205,
          0.447892963886261,
          6.446279525756836,
          3.536954164505005,
          0.5198795199394226,
          4.36576509475708,
          0.08193045854568481,
          4.1720099449157715,
          3.390468120574951,
          -0.39221665263175964,
          2.1312520503997803,
          -4.073054313659668,
          0.896592915058136,
          0.12454721331596375,
          -0.5320652723312378,
          0.16059237718582153,
          1.2520087957382202,
          -6.435897350311279,
          -8.311745643615723,
          6.706604957580566,
          -6.875356197357178,
          6.791762351989746,
          -0.22211043536663055,
          -8.560148239135742,
          -6.681951999664307,
          4.172030448913574,
          -4.513119220733643,
          6.2100701332092285,
          -6.093630313873291,
          2.1281392574310303,
          5.293670177459717,
          1.6465320587158203,
          1.7936280965805054,
          1.3107942342758179,
          4.176801681518555,
          3.284017324447632,
          -5.054064750671387,
          0.9999391436576843,
          0.3835415244102478,
          0.2064482867717743,
          3.1706347465515137,
          0.9261782765388489,
          -3.7053303718566895,
          0.22067761421203613,
          -3.713613510131836,
          -2.7268004417419434,
          -4.74807596206665,
          4.006114959716797,
          5.421759128570557,
          -6.992851257324219,
          -8.5980863571167,
          -3.696146011352539,
          5.105562210083008,
          -1.8707008361816406,
          5.389193534851074,
          -5.082761764526367,
          0.16203010082244873,
          -5.395738124847412,
          1.9466198682785034,
          -1.792389988899231,
          4.358142852783203,
          0.6374332308769226,
          3.437164068222046,
          6.2778778076171875,
          -3.1430861949920654,
          -6.331344127655029,
          -8.988595962524414,
          1.237837553024292,
          1.861026644706726,
          -1.1018353700637817,
          1.7413673400878906,
          1.964706301689148,
          -0.5406962633132935,
          -5.068479061126709,
          3.007930278778076,
          -1.484352707862854,
          -0.8102676272392273,
          -3.1730916500091553,
          4.72007942199707,
          3.409062147140503,
          4.568737030029297,
          -0.40400752425193787,
          2.570589065551758,
          3.4231083393096924,
          -4.542993068695068,
          1.9770379066467285,
          1.886107087135315,
          1.4206920862197876,
          0.7725999355316162,
          -4.738933563232422
         ],
         "z": [
          -2.170466899871826,
          0.07636448740959167,
          2.4350969791412354,
          0.10775960236787796,
          -2.0659589767456055,
          1.2247798442840576,
          2.6862127780914307,
          -0.41149482131004333,
          2.1982007026672363,
          1.2515811920166016,
          2.913687229156494,
          -3.1392695903778076,
          -2.135589599609375,
          -1.1231098175048828,
          4.61829948425293,
          -0.3960379958152771,
          -2.934086561203003,
          -1.8207261562347412,
          -2.4670069217681885,
          1.1538935899734497,
          0.749169111251831,
          2.426551342010498,
          0.16388337314128876,
          -0.23658663034439087,
          -0.9773783087730408,
          3.940279483795166,
          -1.6469182968139648,
          -0.6866118907928467,
          -0.9772323369979858,
          2.3765952587127686,
          -1.7670763731002808,
          2.2285702228546143,
          3.8150861263275146,
          -2.2495946884155273,
          -2.8580029010772705,
          -1.785231590270996,
          1.3239245414733887,
          1.594094157218933,
          -2.3235275745391846,
          1.6791924238204956,
          1.29863703250885,
          0.36666932702064514,
          -3.157849073410034,
          -2.208791494369507,
          -3.0021510124206543,
          -0.5143350958824158,
          1.5872498750686646,
          -1.777798056602478,
          -0.9786431789398193,
          -1.2353651523590088,
          2.0383224487304688,
          -0.37777993083000183,
          -2.1954452991485596,
          2.0822813510894775,
          1.6840205192565918,
          -2.5771729946136475,
          -1.3314474821090698,
          -1.3242679834365845,
          1.5837063789367676,
          2.237889289855957,
          -0.889092743396759,
          -4.3963093757629395,
          0.7411928772926331,
          -2.477755546569824,
          -1.8212003707885742,
          2.214625358581543,
          -1.485475778579712,
          -4.86802339553833,
          0.05231639742851257,
          -3.889483690261841,
          0.27354705333709717,
          -2.455352306365967,
          -0.11206608265638351,
          1.149078130722046,
          -2.0713789463043213,
          -3.3323922157287598,
          1.843009352684021,
          0.7148908376693726,
          2.8216114044189453,
          -0.771297812461853,
          0.08703786134719849,
          4.068824768066406,
          -2.66941499710083,
          0.6180346608161926,
          1.5893410444259644,
          -3.0843729972839355,
          -0.08491098880767822,
          -0.16368252038955688,
          3.4553544521331787,
          -1.9247643947601318,
          0.003917057067155838,
          0.07599293440580368,
          4.333159923553467,
          0.5399608612060547,
          2.6712608337402344,
          2.2378060817718506,
          -1.4505733251571655,
          -2.0136795043945312,
          -0.6118783354759216,
          -0.41238531470298767,
          -1.2811590433120728,
          -1.428402066230774,
          0.6589167714118958,
          -2.436077117919922,
          -3.554304599761963,
          -3.129826068878174,
          -2.436647891998291,
          -2.7019011974334717,
          -3.8538715839385986,
          2.5715348720550537,
          2.4019994735717773,
          3.245190382003784,
          -1.614001750946045,
          -0.854430079460144,
          -2.1265296936035156,
          -1.023751974105835,
          0.1469075232744217,
          -3.011580467224121,
          0.6134979724884033,
          0.7415313720703125,
          0.6362532377243042,
          0.2789815664291382,
          0.5209512710571289,
          2.989506483078003,
          -1.310450792312622,
          -0.08494304865598679,
          2.55806565284729,
          -1.48149836063385,
          0.8463476300239563,
          2.2788639068603516,
          -3.2807440757751465,
          -2.8861188888549805,
          3.09845232963562,
          -0.39964544773101807,
          -1.3202929496765137,
          3.8975350856781006,
          -0.17238523066043854,
          -3.4559051990509033,
          -4.032755374908447,
          -1.5034021139144897,
          0.017917845398187637,
          0.26829445362091064,
          -0.008283033035695553,
          -0.2549731731414795,
          -4.541741371154785,
          -0.8128911256790161,
          -2.123511552810669,
          0.26430779695510864,
          1.7015361785888672,
          3.5072097778320312,
          -0.5173252820968628,
          -1.425917387008667,
          1.5395936965942383,
          2.1993000507354736,
          -2.9761104583740234,
          -2.7007553577423096,
          -2.275728702545166,
          -2.9301207065582275,
          -1.411054253578186,
          -0.9529575705528259,
          2.4582157135009766,
          -0.09226080030202866,
          0.273223340511322,
          -4.653721809387207,
          3.330986261367798,
          -2.584475040435791,
          1.6502799987792969,
          -0.2622813880443573,
          3.017580270767212,
          -2.0347652435302734,
          0.18321725726127625,
          1.2508913278579712,
          0.14938582479953766,
          -3.3300421237945557,
          0.18321849405765533,
          1.8915717601776123,
          -2.6845638751983643,
          -0.9808863997459412,
          -0.9817095398902893,
          0.31432241201400757,
          4.484755992889404,
          -0.6034720540046692,
          -1.7322182655334473,
          0.7844563126564026,
          -0.3499906063079834,
          2.484133243560791,
          -3.0060713291168213,
          -1.1783621311187744,
          0.2674119770526886,
          0.2704709470272064,
          0.5871908068656921,
          0.251931756734848,
          3.3964576721191406,
          -2.1221752166748047,
          2.0448250770568848,
          -1.1652389764785767,
          1.9922622442245483,
          -1.3199059963226318,
          3.3308818340301514,
          0.9073782563209534,
          -0.5827993750572205,
          2.850524425506592,
          1.088208794593811,
          -3.3306961059570312,
          0.7126822471618652,
          -4.719468116760254,
          -4.033958435058594,
          -3.0791516304016113,
          3.147019386291504,
          4.090167999267578,
          -0.6745006442070007,
          -1.6981065273284912,
          3.794847249984741,
          -2.373959541320801,
          -0.9244957566261292,
          -0.24279272556304932,
          2.4098446369171143,
          -2.0855236053466797,
          4.217177867889404,
          -1.8713099956512451,
          -1.6943268775939941,
          1.2052289247512817,
          -3.718975305557251,
          -3.571997880935669,
          0.030609969049692154,
          1.2066019773483276,
          -2.7232539653778076,
          -0.35149043798446655,
          -1.18582284450531,
          -0.029833560809493065,
          1.477217674255371,
          1.5943511724472046,
          0.8926170468330383,
          -3.0881810188293457,
          0.2446182519197464,
          -0.6922022700309753,
          -0.20780709385871887,
          2.7565441131591797,
          -3.516075849533081,
          -0.3482690751552582,
          -0.27043262124061584,
          -1.1163913011550903,
          3.1413302421569824,
          2.099964141845703,
          0.6871820092201233,
          -2.698305606842041,
          5.2970428466796875,
          3.922346591949463,
          0.021352576091885567,
          1.2325185537338257,
          0.5004209280014038,
          -4.068144798278809,
          -3.2877955436706543,
          -1.5300778150558472,
          -0.9673206806182861,
          1.148779034614563,
          -0.3251378536224365,
          -0.5240903496742249,
          -3.0058817863464355,
          1.7401877641677856,
          1.6840518712997437,
          -2.1814639568328857,
          1.3937511444091797,
          5.048179626464844,
          -2.4699113368988037,
          -0.9648296236991882,
          1.0826778411865234,
          0.2532063126564026,
          0.1258009970188141,
          2.9345219135284424,
          4.7930216789245605,
          -0.5652095079421997,
          -0.3268343210220337,
          0.19990174472332,
          -4.244821071624756,
          3.6502981185913086,
          -0.6087117791175842,
          2.726856231689453,
          3.226562976837158,
          1.243831992149353,
          -4.727957248687744,
          0.792619526386261,
          -0.6237489581108093,
          1.3969672918319702,
          0.07180774211883545,
          5.56573486328125,
          0.3301261067390442,
          -2.7991645336151123,
          1.4697232246398926,
          -3.164018392562866,
          -2.9696125984191895,
          -0.18005065619945526,
          -1.2364174127578735,
          0.9556422829627991,
          0.7232226133346558,
          5.64391565322876,
          -2.36700177192688,
          2.6509006023406982,
          -1.6072763204574585,
          -1.3751885890960693,
          -2.2017130851745605,
          2.038311004638672,
          -0.4769013822078705,
          0.7492524981498718,
          1.1355599164962769,
          -2.700481414794922,
          5.190109729766846,
          -1.8110442161560059,
          -2.0215609073638916,
          0.5692890286445618,
          0.4737376570701599,
          3.3304386138916016,
          -4.465831279754639,
          -2.7625691890716553,
          -2.0815324783325195,
          3.2019762992858887,
          0.38881099224090576,
          -1.079251766204834,
          2.1466524600982666,
          -2.270768642425537,
          -3.7873494625091553,
          1.0069993734359741,
          -5.118314266204834,
          2.6128790378570557,
          -0.4147277772426605,
          -0.17975731194019318,
          1.0491007566452026,
          -0.1287478655576706,
          0.398717999458313,
          0.39838939905166626,
          -3.109525680541992,
          5.095256805419922,
          -4.864533424377441,
          -2.8942365646362305,
          -2.3594372272491455,
          -0.19171017408370972,
          -2.554107427597046,
          -3.0842044353485107,
          -2.2747962474823,
          -1.2564064264297485,
          -2.0328400135040283,
          -0.34901177883148193,
          -2.0985569953918457,
          2.8574883937835693,
          -0.8840621709823608,
          -2.2176737785339355,
          0.24398155510425568,
          -1.0954872369766235,
          -0.5040743350982666,
          -0.6764603853225708,
          4.073883056640625,
          0.2963230013847351,
          -2.245251178741455,
          -3.541421890258789,
          -3.355353832244873,
          -3.0566203594207764,
          3.133469343185425,
          3.987685203552246,
          -1.6819034814834595,
          0.9545415043830872,
          -1.4414079189300537,
          -3.498319149017334,
          -0.5641827583312988,
          0.8997606635093689,
          3.1902997493743896,
          -0.8672587275505066,
          -2.0135648250579834,
          -1.4146757125854492,
          4.151792049407959,
          -4.221212863922119,
          0.7194038033485413,
          -4.624825477600098,
          -3.168180465698242,
          4.83759069442749,
          1.5506150722503662,
          -3.514437437057495,
          -3.6110095977783203,
          -0.6768844127655029,
          1.4295272827148438,
          -0.5906045436859131,
          2.7101500034332275,
          -3.3301799297332764,
          -3.5449535846710205,
          -2.2281572818756104,
          -0.8386121988296509,
          -0.5109257698059082,
          2.3767306804656982,
          1.3725746870040894,
          1.181849718093872,
          0.29572197794914246,
          3.0159120559692383,
          -2.212367534637451,
          2.1206302642822266,
          1.4067374467849731,
          1.0465648174285889,
          0.6473811268806458,
          0.49697527289390564,
          -3.2514729499816895,
          -1.0070364475250244,
          -3.4926323890686035,
          -2.6410861015319824,
          2.7493648529052734,
          0.9411222338676453,
          -4.358673095703125,
          -1.0407259464263916,
          2.401047468185425,
          0.6205137372016907,
          2.92948579788208,
          1.9696869850158691,
          -1.810471773147583,
          -2.230081558227539,
          -0.6675173044204712,
          -0.3463321328163147,
          1.2182294130325317,
          -0.9194058775901794,
          -3.7984583377838135,
          2.749126434326172,
          0.8785907030105591,
          0.7308673858642578,
          2.7926838397979736,
          1.2452565431594849,
          -1.9259095191955566,
          2.3129994869232178,
          -2.0484704971313477,
          0.3961176872253418,
          3.8602349758148193,
          3.5326499938964844,
          1.783405065536499,
          -2.557608127593994,
          2.6490116119384766,
          -1.9261850118637085,
          -0.5897050499916077,
          -2.3492965698242188,
          0.9943265914916992,
          -2.6476638317108154,
          -2.438826322555542,
          -3.3980369567871094,
          -3.1770362854003906,
          0.7241784930229187,
          1.192670226097107,
          2.5662646293640137,
          -2.9265835285186768,
          -0.3497459292411804,
          0.3570588529109955,
          -3.345979690551758,
          2.2431979179382324,
          -3.283320665359497,
          -3.619333505630493,
          -0.17993567883968353,
          -3.1843936443328857,
          0.5119675993919373,
          -2.1215622425079346,
          -3.605367660522461,
          1.3643889427185059,
          0.20721794664859772,
          3.594120979309082,
          -1.5025159120559692,
          1.1467843055725098,
          2.904047727584839,
          3.6345090866088867,
          0.29547134041786194,
          0.7183883786201477,
          -0.6299816966056824,
          -1.7510823011398315,
          1.2591829299926758,
          1.6725081205368042,
          1.79714834690094,
          1.1365646123886108,
          -3.2462382316589355,
          -1.2849960327148438,
          -1.4805368185043335,
          2.648160696029663,
          1.8738230466842651,
          1.647699236869812,
          -3.619649887084961,
          -1.1179804801940918,
          0.07588620483875275,
          -0.8552871346473694,
          4.224276542663574,
          0.9271530508995056,
          -1.0689198970794678,
          -0.9934768080711365,
          -0.9935452342033386,
          -0.9935176372528076,
          1.924768090248108,
          -3.631131887435913,
          -0.8192587494850159,
          2.2577295303344727,
          -2.4119768142700195,
          2.515899419784546,
          -0.21018341183662415,
          0.386401504278183,
          -3.587563991546631,
          -2.9216220378875732,
          2.448716640472412,
          -0.708284318447113,
          2.0372562408447266,
          1.7811799049377441,
          0.41770514845848083,
          -5.050126552581787,
          1.8666936159133911,
          0.22556647658348083,
          -1.4763494729995728,
          1.9104310274124146,
          -3.075247287750244,
          -3.6718368530273438,
          2.1210460662841797,
          0.8609009385108948,
          2.379236936569214,
          -0.5823571681976318,
          -0.005888823419809341,
          -0.23683102428913116,
          0.6660310626029968,
          4.93222713470459,
          3.801002264022827,
          3.2543115615844727,
          2.266155242919922,
          -2.343082904815674,
          1.8868708610534668,
          4.063637733459473,
          -1.983634114265442,
          1.3986791372299194,
          0.6850495934486389,
          -1.0306187868118286,
          -0.30442434549331665,
          -0.32549309730529785,
          2.7777082920074463,
          4.019856929779053,
          0.7370121479034424,
          -3.4102842807769775,
          -2.984121799468994,
          1.2733718156814575,
          -1.5242263078689575,
          -1.6404898166656494,
          -1.9170974493026733,
          0.3590647578239441,
          -2.9607694149017334,
          -0.08317365497350693,
          2.355023145675659,
          0.06716218590736389,
          -1.3718804121017456,
          1.4407535791397095,
          -2.2836272716522217,
          -0.9795956015586853,
          -0.2848398685455322,
          -1.7399646043777466,
          -0.9508006572723389,
          -2.280515193939209,
          2.686068296432495,
          2.064415216445923,
          -3.0211925506591797,
          -4.6447062492370605,
          -0.7864199280738831,
          -2.529155731201172,
          0.7885878682136536,
          4.182839393615723,
          3.8542635440826416,
          5.659712314605713,
          0.2829883098602295,
          -1.6145113706588745,
          -0.2959325313568115,
          -3.2651686668395996,
          2.670870304107666,
          1.9003589153289795,
          2.403601884841919,
          -1.1053822040557861,
          -3.848663568496704,
          -2.178164005279541,
          -1.5079296827316284,
          1.5557712316513062,
          -2.025494337081909,
          0.5648239850997925,
          -2.6895503997802734,
          -3.9898455142974854,
          1.7546619176864624,
          -1.4358181953430176,
          -3.367229461669922,
          -1.158050775527954,
          -3.5844273567199707,
          0.8774446845054626,
          -2.9679510593414307,
          5.384962558746338,
          -2.4568417072296143,
          1.3023650646209717,
          0.5037413835525513,
          -2.1000752449035645,
          1.3740341663360596,
          2.443363666534424,
          -2.1779136657714844,
          2.4003043174743652,
          5.7597270011901855,
          -1.5027786493301392,
          -0.9654806852340698,
          -0.7735109329223633,
          0.19143682718276978,
          3.6158816814422607,
          -2.134504795074463,
          -1.5227261781692505,
          -2.498814582824707,
          -0.27334484457969666,
          3.1875855922698975,
          3.7030186653137207,
          -1.3168582916259766,
          -2.880631446838379,
          -3.851865530014038,
          1.022599697113037,
          4.188868522644043,
          -1.0005309581756592,
          -0.20121842622756958,
          -0.03315918147563934,
          0.4738927185535431,
          0.6986091136932373,
          -0.7417891621589661,
          -0.8339406847953796,
          1.3340169191360474,
          2.4921603202819824,
          -0.10258688032627106,
          0.41784244775772095,
          1.9150927066802979,
          -2.4726898670196533,
          -3.5876030921936035,
          4.719536304473877,
          -0.5366981029510498,
          1.5612504482269287,
          -0.7578989267349243,
          -0.8888692259788513,
          3.746744155883789,
          -2.437812566757202,
          1.8418219089508057,
          0.2467656135559082,
          -3.3780698776245117,
          -2.352829933166504,
          0.05902748927474022,
          2.0040981769561768,
          -0.4957377016544342,
          0.9488087892532349,
          -0.4252302944660187,
          -3.78322696685791,
          0.19817747175693512,
          -2.8404698371887207,
          3.4270687103271484,
          1.6205918788909912,
          0.01852249912917614,
          -1.6845840215682983,
          1.2068029642105103,
          -1.9340335130691528,
          -2.1081414222717285,
          -0.8321532607078552,
          -0.21474970877170563,
          3.604543924331665,
          -0.7375478148460388,
          1.251828908920288,
          -3.59297776222229,
          -1.2245228290557861,
          1.936438798904419,
          -0.9433775544166565,
          1.901564598083496,
          -0.6533641219139099,
          3.9290544986724854,
          1.1395152807235718,
          -1.4481947422027588,
          -0.33959469199180603,
          -0.7308567762374878,
          0.40985041856765747,
          -2.437957286834717,
          2.136859893798828,
          -0.07921858876943588,
          -1.643080472946167,
          -1.1992465257644653,
          -3.542719602584839,
          -1.8468842506408691,
          2.673774480819702,
          1.7978864908218384,
          0.17979562282562256,
          0.40977996587753296,
          3.1908445358276367,
          -0.8186438083648682,
          -3.5791447162628174,
          -0.1348738670349121,
          -2.7458412647247314,
          -2.611191987991333,
          -0.10489202290773392,
          0.49867627024650574,
          0.8790602684020996,
          0.8933905959129333,
          -4.09260368347168,
          2.356168746948242,
          -1.0472357273101807,
          0.2008775919675827,
          -1.1465703248977661,
          1.2065634727478027,
          -1.743024230003357,
          -3.6836154460906982,
          1.9490537643432617,
          1.2626701593399048,
          0.6910651326179504,
          -1.30122709274292,
          -4.578279495239258,
          -2.4104950428009033,
          -0.3401363790035248,
          -3.762498378753662,
          1.3335628509521484,
          -0.03081686981022358,
          -1.3696564435958862,
          1.4277571439743042,
          -2.7284958362579346,
          -4.467548847198486,
          1.6114310026168823,
          -3.401935577392578,
          3.6439707279205322,
          0.707636833190918,
          -1.5297034978866577,
          2.217385768890381,
          2.8920369148254395,
          -1.6527917385101318,
          2.158600330352783,
          -0.3181976079940796,
          0.15118926763534546,
          -4.023303031921387,
          1.2240785360336304,
          -4.251715660095215,
          4.146803379058838,
          0.25089773535728455,
          -2.6585140228271484,
          -3.032527446746826,
          -0.4147855043411255,
          -1.915534496307373,
          2.796200752258301,
          -1.0779023170471191,
          -0.13733673095703125,
          1.0961182117462158,
          3.5009918212890625,
          -2.6653037071228027,
          -2.608452320098877,
          -4.192691802978516,
          2.2175650596618652,
          -0.18985413014888763,
          0.7888286113739014,
          -3.318091869354248,
          1.167380690574646,
          -0.6463512778282166,
          -2.4259495735168457,
          -1.796398401260376,
          -0.4784649610519409,
          -0.812615692615509,
          -0.15458199381828308,
          -1.921579360961914,
          0.31054070591926575,
          1.0961002111434937,
          -1.4254999160766602,
          -0.56068354845047,
          -2.0291202068328857,
          0.02045450545847416,
          -0.03523627296090126,
          -3.3238155841827393,
          -2.0311145782470703,
          4.005553245544434,
          1.3369282484054565,
          -3.174732208251953,
          0.827111542224884,
          2.1877059936523438,
          -0.7091745138168335,
          -0.3493789732456207,
          0.3563282787799835,
          -0.07157242298126221,
          3.7437047958374023,
          -0.37872469425201416,
          2.2944512367248535,
          -1.534358263015747,
          2.4825034141540527,
          -0.14205338060855865,
          -1.6993975639343262,
          0.24958322942256927,
          -3.0669150352478027,
          4.148913383483887,
          1.8562971353530884,
          -5.0751800537109375,
          -1.4216346740722656,
          -1.4110212326049805,
          1.605878233909607,
          1.7733961343765259,
          1.9809436798095703,
          2.9472384452819824,
          1.5317379236221313,
          -2.508237361907959,
          -1.382394552230835,
          -0.8731491565704346,
          4.228785991668701,
          -0.2487848848104477,
          -2.2692294120788574,
          2.0447497367858887,
          2.99849534034729,
          -0.5916597843170166,
          2.0705671310424805,
          -2.748847723007202,
          -3.367927312850952,
          2.518620252609253,
          -2.7857959270477295,
          2.2810134887695312,
          3.460277795791626,
          2.6234941482543945,
          0.6083426475524902,
          3.4729793071746826,
          0.722010612487793,
          1.5402635335922241,
          0.21921832859516144,
          -0.319586843252182,
          0.6167547106742859,
          -2.3182406425476074,
          -0.05267554149031639,
          0.9764095544815063,
          3.870394229888916,
          4.430965423583984
         ]
        },
        {
         "hovertemplate": "label=mgood<br>tsne_0=%{x}<br>tsne_1=%{y}<br>tsne_2=%{z}<extra></extra>",
         "legendgroup": "mgood",
         "marker": {
          "color": "#EF553B",
          "opacity": 0.5,
          "size": 2,
          "symbol": "circle"
         },
         "mode": "markers",
         "name": "mgood",
         "scene": "scene",
         "showlegend": true,
         "type": "scatter3d",
         "x": [
          -3.637775421142578,
          -0.3298848569393158,
          2.589064359664917,
          7.336320877075195,
          8.594551086425781,
          -1.6144893169403076,
          2.1758947372436523,
          4.683817386627197,
          -3.3283886909484863,
          -7.641160011291504,
          -9.030519485473633,
          11.320959091186523,
          1.9875706434249878,
          -2.675671100616455,
          12.034518241882324,
          6.685956954956055,
          -0.007998515851795673,
          8.145833015441895,
          1.6269413232803345,
          7.9688334465026855,
          3.1030945777893066,
          4.395274639129639,
          -0.5034224390983582,
          -0.8251201510429382,
          2.751145124435425,
          -1.5053305625915527,
          -2.6700685024261475,
          -3.803053140640259,
          8.400020599365234,
          3.4663186073303223,
          -1.8747187852859497,
          -5.552626609802246,
          -2.611037492752075,
          4.181300640106201,
          -1.2648437023162842,
          -2.9635703563690186,
          -5.0582451820373535,
          -0.630635678768158,
          2.586869955062866,
          7.121711254119873,
          -1.4778307676315308,
          -1.9972190856933594,
          1.7454475164413452,
          -1.3372981548309326,
          3.5187466144561768,
          -2.194990634918213,
          -1.3295522928237915,
          -9.820225715637207,
          4.706724643707275,
          1.897709846496582,
          10.732784271240234,
          2.4259116649627686,
          1.419362187385559,
          3.6004297733306885,
          8.622957229614258,
          -2.012153387069702,
          5.513941764831543,
          1.044669270515442,
          1.7732220888137817,
          -1.3174018859863281,
          6.568985462188721,
          4.1038079261779785,
          -3.2016472816467285,
          -0.8103294968605042
         ],
         "y": [
          3.1886608600616455,
          0.394171804189682,
          3.82967209815979,
          3.457167863845825,
          0.6897795796394348,
          -7.193721771240234,
          0.934332549571991,
          -5.730391025543213,
          -0.9663312435150146,
          -0.7968965768814087,
          3.6431124210357666,
          5.193408012390137,
          -0.5712303519248962,
          0.46215197443962097,
          5.217464447021484,
          -2.482264757156372,
          0.779564380645752,
          1.6449929475784302,
          -3.4016566276550293,
          2.7160167694091797,
          -0.3002488613128662,
          -6.135443687438965,
          -1.2494920492172241,
          5.164061069488525,
          -7.452337265014648,
          3.742788314819336,
          0.19489727914333344,
          -6.998937129974365,
          2.823810338973999,
          -6.662102222442627,
          0.9293489456176758,
          4.803830146789551,
          -2.714364528656006,
          -4.33135986328125,
          -5.598910331726074,
          -4.332658767700195,
          -2.046574831008911,
          4.434834957122803,
          -2.886145830154419,
          2.1247334480285645,
          5.159656524658203,
          5.211475849151611,
          0.5111281275749207,
          -8.274862289428711,
          -5.75405740737915,
          -5.461069583892822,
          7.375520706176758,
          3.2268331050872803,
          -4.574415683746338,
          -2.0570719242095947,
          4.373736381530762,
          -3.580801248550415,
          4.3016557693481445,
          -0.3766857087612152,
          3.2147836685180664,
          3.040940046310425,
          -7.239446640014648,
          -3.929650068283081,
          1.7381634712219238,
          -5.269570827484131,
          0.44768741726875305,
          -5.120456695556641,
          -5.110366344451904,
          -1.754608154296875
         ],
         "z": [
          -4.901671409606934,
          4.280893325805664,
          -0.24931001663208008,
          1.3119357824325562,
          0.5336424112319946,
          0.41952112317085266,
          3.7662582397460938,
          0.3678855895996094,
          -5.0165300369262695,
          2.8039608001708984,
          1.1043472290039062,
          -0.1634787619113922,
          -3.9065797328948975,
          -2.274336099624634,
          -0.7170059084892273,
          -0.5834336876869202,
          1.8555495738983154,
          -1.7856566905975342,
          0.2542768120765686,
          -2.3750643730163574,
          -4.405270576477051,
          0.2032899409532547,
          4.734587669372559,
          -2.194380044937134,
          0.9844547510147095,
          -1.8064221143722534,
          -1.1028040647506714,
          2.5487468242645264,
          1.5000039339065552,
          -2.2832558155059814,
          -1.7464075088500977,
          -1.7414170503616333,
          4.962303161621094,
          0.9383447766304016,
          -2.89108943939209,
          -4.832991600036621,
          -2.549086093902588,
          -3.5401508808135986,
          0.4943973124027252,
          -3.098212480545044,
          4.688202857971191,
          -0.08028322458267212,
          -0.341604083776474,
          -0.37908199429512024,
          -0.7472250461578369,
          3.3004815578460693,
          2.325472831726074,
          0.3366450369358063,
          0.37972432374954224,
          -0.07211799919605255,
          0.15765483677387238,
          1.108073115348816,
          -2.3537039756774902,
          -3.448504686355591,
          -1.7238465547561646,
          -1.513580560684204,
          -1.6963543891906738,
          -0.40941327810287476,
          2.0464365482330322,
          3.7376608848571777,
          -1.3531841039657593,
          0.058844052255153656,
          5.174237251281738,
          4.982595920562744
         ]
        },
        {
         "hovertemplate": "label=mbad<br>tsne_0=%{x}<br>tsne_1=%{y}<br>tsne_2=%{z}<extra></extra>",
         "legendgroup": "mbad",
         "marker": {
          "color": "#00cc96",
          "opacity": 0.5,
          "size": 2,
          "symbol": "circle"
         },
         "mode": "markers",
         "name": "mbad",
         "scene": "scene",
         "showlegend": true,
         "type": "scatter3d",
         "x": [
          6.308925628662109,
          5.3435211181640625,
          -6.501155853271484,
          2.5205471515655518,
          1.5391079187393188,
          1.0367876291275024,
          9.790837287902832,
          4.366084098815918,
          9.560750007629395,
          4.271574020385742,
          6.235930442810059,
          10.140992164611816,
          8.667342185974121,
          2.699833869934082,
          6.260537147521973,
          10.555951118469238,
          -6.489749908447266,
          9.65467357635498,
          7.3406291007995605,
          0.04526684060692787,
          4.707192897796631,
          4.783097267150879,
          7.805119514465332,
          0.8248218894004822,
          -0.4270215630531311,
          6.129757404327393,
          6.612720489501953,
          5.15777063369751,
          7.7742791175842285,
          7.719296932220459,
          0.18843315541744232,
          9.676575660705566,
          -7.7061448097229,
          9.302921295166016,
          4.830350399017334,
          8.178923606872559,
          8.820038795471191,
          2.616354465484619,
          8.072007179260254,
          5.99781608581543,
          3.799304723739624,
          11.63025951385498,
          7.709754943847656,
          9.05179214477539,
          2.7801871299743652,
          -2.4428768157958984,
          9.504594802856445,
          7.723788738250732,
          4.261561393737793,
          4.7819929122924805,
          5.509744644165039,
          6.625661849975586,
          9.514257431030273,
          6.213319778442383,
          9.265002250671387,
          9.047968864440918,
          3.5881240367889404,
          7.860104084014893,
          5.71871280670166,
          4.6429667472839355,
          7.910046577453613,
          9.250652313232422,
          -0.327552855014801,
          11.818275451660156,
          6.657644748687744,
          4.903125286102295,
          10.497611045837402,
          9.528209686279297,
          11.808979034423828,
          10.35007381439209,
          10.407033920288086,
          10.805704116821289
         ],
         "y": [
          2.168079376220703,
          -0.26744040846824646,
          3.691164970397949,
          -5.506392955780029,
          0.11753256618976593,
          -3.7013919353485107,
          -0.3221859037876129,
          -0.48227667808532715,
          1.5245038270950317,
          2.8482065200805664,
          -7.037049770355225,
          -0.3003973662853241,
          0.3280409276485443,
          -6.33027982711792,
          -5.819313049316406,
          2.7247719764709473,
          -3.7611663341522217,
          -0.3254987895488739,
          -2.0758371353149414,
          2.0835723876953125,
          -5.185013771057129,
          2.2580630779266357,
          -1.0747450590133667,
          -0.1984250694513321,
          -7.601197242736816,
          -4.766363620758057,
          -5.910741329193115,
          3.4401581287384033,
          -0.9565517902374268,
          -2.0313363075256348,
          -8.660341262817383,
          2.000856637954712,
          -5.433265686035156,
          -0.5854281783103943,
          2.909928321838379,
          4.125112533569336,
          0.23893427848815918,
          4.664754867553711,
          -1.0649805068969727,
          -3.1049909591674805,
          -3.8773488998413086,
          3.158815383911133,
          4.229011058807373,
          -1.4174461364746094,
          3.526611089706421,
          -3.038421630859375,
          -0.4437141418457031,
          -0.4802892506122589,
          -0.31284987926483154,
          5.4015583992004395,
          -4.269250869750977,
          -3.904707908630371,
          0.34285861253738403,
          -6.97023868560791,
          0.0665765032172203,
          4.3492608070373535,
          5.586953163146973,
          -1.7608895301818848,
          -8.813928604125977,
          -3.033926010131836,
          -1.4830180406570435,
          1.8706177473068237,
          5.817914962768555,
          5.892165184020996,
          -1.2844476699829102,
          5.767690181732178,
          0.8568827509880066,
          2.3175203800201416,
          3.141177177429199,
          0.44410309195518494,
          2.7674996852874756,
          0.9291170239448547
         ],
         "z": [
          0.8790583610534668,
          -0.2269689291715622,
          -2.5510544776916504,
          -0.7149785161018372,
          5.870798110961914,
          -0.5683817267417908,
          1.1180413961410522,
          0.5682843923568726,
          -0.643024742603302,
          -0.7256219387054443,
          0.411315381526947,
          -1.2175848484039307,
          0.9717683792114258,
          -1.1982837915420532,
          1.0441275835037231,
          -0.4393552243709564,
          3.378366708755493,
          0.4921848177909851,
          1.1712783575057983,
          -2.099064350128174,
          -1.3537745475769043,
          0.4168093800544739,
          1.8566912412643433,
          5.656050205230713,
          -0.8180638551712036,
          0.224965900182724,
          1.0290591716766357,
          0.8288025856018066,
          -3.1085031032562256,
          0.8339018821716309,
          -0.9645267724990845,
          0.5369275808334351,
          1.1848845481872559,
          0.2764742076396942,
          -0.010838993825018406,
          -0.1641874611377716,
          0.8657886385917664,
          1.1694520711898804,
          2.219957113265991,
          -0.9823145866394043,
          1.0870118141174316,
          -0.9419566988945007,
          -0.09047727286815643,
          -0.2633618116378784,
          -2.8958561420440674,
          0.7014384269714355,
          0.31156858801841736,
          2.0641815662384033,
          -2.164355516433716,
          -1.4216217994689941,
          0.6284409761428833,
          -0.3940136730670929,
          0.9112675189971924,
          0.35082659125328064,
          1.414005160331726,
          -0.05991701781749725,
          -1.3825762271881104,
          1.4817864894866943,
          -3.2438974380493164,
          2.5207715034484863,
          0.02320711687207222,
          -0.22079114615917206,
          3.1089046001434326,
          -0.05750655755400658,
          -2.622725009918213,
          -1.046299695968628,
          0.5571008920669556,
          0.6663598418235779,
          -1.0533612966537476,
          0.20349885523319244,
          -1.3166030645370483,
          0.6963041424751282
         ]
        },
        {
         "hovertemplate": "label=bad<br>tsne_0=%{x}<br>tsne_1=%{y}<br>tsne_2=%{z}<extra></extra>",
         "legendgroup": "bad",
         "marker": {
          "color": "#ab63fa",
          "opacity": 0.5,
          "size": 2,
          "symbol": "circle"
         },
         "mode": "markers",
         "name": "bad",
         "scene": "scene",
         "showlegend": true,
         "type": "scatter3d",
         "x": [
          6.0536298751831055,
          5.143242835998535,
          5.50819730758667,
          10.003637313842773,
          6.374321937561035,
          11.450377464294434,
          -4.055274486541748,
          5.683040142059326,
          9.65982723236084,
          3.443251132965088,
          10.614185333251953,
          8.553333282470703,
          8.533306121826172,
          0.222730815410614,
          8.100919723510742,
          7.3874311447143555,
          5.207875728607178,
          6.194165229797363,
          5.634982109069824,
          7.890385150909424,
          11.190333366394043,
          7.881430149078369,
          8.121362686157227,
          5.837743759155273,
          9.619028091430664,
          8.703980445861816,
          5.172246932983398,
          -10.137633323669434,
          5.772765636444092
         ],
         "y": [
          1.4378786087036133,
          2.918104410171509,
          -5.8948283195495605,
          0.12480060011148453,
          -7.92573356628418,
          3.1071741580963135,
          -8.091395378112793,
          3.2038488388061523,
          -0.5426883697509766,
          -5.856930732727051,
          4.661446571350098,
          -2.3196094036102295,
          -0.4766378700733185,
          -7.455951690673828,
          3.1908087730407715,
          -1.7728173732757568,
          5.074974060058594,
          -1.6719815731048584,
          4.198699474334717,
          0.7930894494056702,
          3.975532293319702,
          0.6036903858184814,
          -1.1380611658096313,
          -1.2889137268066406,
          3.8964669704437256,
          2.7938640117645264,
          -1.709275484085083,
          4.2102370262146,
          2.1694066524505615
         ],
         "z": [
          1.1601462364196777,
          0.1249968484044075,
          0.2355063110589981,
          0.4253931939601898,
          -2.1759281158447266,
          -0.953308641910553,
          0.4905377924442291,
          -0.37370193004608154,
          0.8343783617019653,
          -1.7259864807128906,
          1.044612169265747,
          0.5119800567626953,
          1.210795521736145,
          -0.5516985058784485,
          0.11691557615995407,
          1.0985350608825684,
          0.11303536593914032,
          0.8397132158279419,
          -0.6535001397132874,
          2.8498401641845703,
          0.12502315640449524,
          3.0800743103027344,
          1.3725181818008423,
          -0.013743998482823372,
          0.02137347310781479,
          0.8811085820198059,
          1.3182966709136963,
          -2.098172664642334,
          -2.7020838260650635
         ]
        }
       ],
       "layout": {
        "legend": {
         "title": {
          "text": "label"
         },
         "tracegroupgap": 0
        },
        "scene": {
         "camera": {
          "eye": {
           "x": 0.9,
           "y": 0.9,
           "z": 0.9
          }
         },
         "domain": {
          "x": [
           0,
           1
          ],
          "y": [
           0,
           1
          ]
         },
         "xaxis": {
          "title": {
           "text": "tsne_0"
          }
         },
         "yaxis": {
          "title": {
           "text": "tsne_1"
          }
         },
         "zaxis": {
          "title": {
           "text": "tsne_2"
          }
         }
        },
        "template": {
         "data": {
          "bar": [
           {
            "error_x": {
             "color": "#2a3f5f"
            },
            "error_y": {
             "color": "#2a3f5f"
            },
            "marker": {
             "line": {
              "color": "#E5ECF6",
              "width": 0.5
             },
             "pattern": {
              "fillmode": "overlay",
              "size": 10,
              "solidity": 0.2
             }
            },
            "type": "bar"
           }
          ],
          "barpolar": [
           {
            "marker": {
             "line": {
              "color": "#E5ECF6",
              "width": 0.5
             },
             "pattern": {
              "fillmode": "overlay",
              "size": 10,
              "solidity": 0.2
             }
            },
            "type": "barpolar"
           }
          ],
          "carpet": [
           {
            "aaxis": {
             "endlinecolor": "#2a3f5f",
             "gridcolor": "white",
             "linecolor": "white",
             "minorgridcolor": "white",
             "startlinecolor": "#2a3f5f"
            },
            "baxis": {
             "endlinecolor": "#2a3f5f",
             "gridcolor": "white",
             "linecolor": "white",
             "minorgridcolor": "white",
             "startlinecolor": "#2a3f5f"
            },
            "type": "carpet"
           }
          ],
          "choropleth": [
           {
            "colorbar": {
             "outlinewidth": 0,
             "ticks": ""
            },
            "type": "choropleth"
           }
          ],
          "contour": [
           {
            "colorbar": {
             "outlinewidth": 0,
             "ticks": ""
            },
            "colorscale": [
             [
              0,
              "#0d0887"
             ],
             [
              0.1111111111111111,
              "#46039f"
             ],
             [
              0.2222222222222222,
              "#7201a8"
             ],
             [
              0.3333333333333333,
              "#9c179e"
             ],
             [
              0.4444444444444444,
              "#bd3786"
             ],
             [
              0.5555555555555556,
              "#d8576b"
             ],
             [
              0.6666666666666666,
              "#ed7953"
             ],
             [
              0.7777777777777778,
              "#fb9f3a"
             ],
             [
              0.8888888888888888,
              "#fdca26"
             ],
             [
              1,
              "#f0f921"
             ]
            ],
            "type": "contour"
           }
          ],
          "contourcarpet": [
           {
            "colorbar": {
             "outlinewidth": 0,
             "ticks": ""
            },
            "type": "contourcarpet"
           }
          ],
          "heatmap": [
           {
            "colorbar": {
             "outlinewidth": 0,
             "ticks": ""
            },
            "colorscale": [
             [
              0,
              "#0d0887"
             ],
             [
              0.1111111111111111,
              "#46039f"
             ],
             [
              0.2222222222222222,
              "#7201a8"
             ],
             [
              0.3333333333333333,
              "#9c179e"
             ],
             [
              0.4444444444444444,
              "#bd3786"
             ],
             [
              0.5555555555555556,
              "#d8576b"
             ],
             [
              0.6666666666666666,
              "#ed7953"
             ],
             [
              0.7777777777777778,
              "#fb9f3a"
             ],
             [
              0.8888888888888888,
              "#fdca26"
             ],
             [
              1,
              "#f0f921"
             ]
            ],
            "type": "heatmap"
           }
          ],
          "heatmapgl": [
           {
            "colorbar": {
             "outlinewidth": 0,
             "ticks": ""
            },
            "colorscale": [
             [
              0,
              "#0d0887"
             ],
             [
              0.1111111111111111,
              "#46039f"
             ],
             [
              0.2222222222222222,
              "#7201a8"
             ],
             [
              0.3333333333333333,
              "#9c179e"
             ],
             [
              0.4444444444444444,
              "#bd3786"
             ],
             [
              0.5555555555555556,
              "#d8576b"
             ],
             [
              0.6666666666666666,
              "#ed7953"
             ],
             [
              0.7777777777777778,
              "#fb9f3a"
             ],
             [
              0.8888888888888888,
              "#fdca26"
             ],
             [
              1,
              "#f0f921"
             ]
            ],
            "type": "heatmapgl"
           }
          ],
          "histogram": [
           {
            "marker": {
             "pattern": {
              "fillmode": "overlay",
              "size": 10,
              "solidity": 0.2
             }
            },
            "type": "histogram"
           }
          ],
          "histogram2d": [
           {
            "colorbar": {
             "outlinewidth": 0,
             "ticks": ""
            },
            "colorscale": [
             [
              0,
              "#0d0887"
             ],
             [
              0.1111111111111111,
              "#46039f"
             ],
             [
              0.2222222222222222,
              "#7201a8"
             ],
             [
              0.3333333333333333,
              "#9c179e"
             ],
             [
              0.4444444444444444,
              "#bd3786"
             ],
             [
              0.5555555555555556,
              "#d8576b"
             ],
             [
              0.6666666666666666,
              "#ed7953"
             ],
             [
              0.7777777777777778,
              "#fb9f3a"
             ],
             [
              0.8888888888888888,
              "#fdca26"
             ],
             [
              1,
              "#f0f921"
             ]
            ],
            "type": "histogram2d"
           }
          ],
          "histogram2dcontour": [
           {
            "colorbar": {
             "outlinewidth": 0,
             "ticks": ""
            },
            "colorscale": [
             [
              0,
              "#0d0887"
             ],
             [
              0.1111111111111111,
              "#46039f"
             ],
             [
              0.2222222222222222,
              "#7201a8"
             ],
             [
              0.3333333333333333,
              "#9c179e"
             ],
             [
              0.4444444444444444,
              "#bd3786"
             ],
             [
              0.5555555555555556,
              "#d8576b"
             ],
             [
              0.6666666666666666,
              "#ed7953"
             ],
             [
              0.7777777777777778,
              "#fb9f3a"
             ],
             [
              0.8888888888888888,
              "#fdca26"
             ],
             [
              1,
              "#f0f921"
             ]
            ],
            "type": "histogram2dcontour"
           }
          ],
          "mesh3d": [
           {
            "colorbar": {
             "outlinewidth": 0,
             "ticks": ""
            },
            "type": "mesh3d"
           }
          ],
          "parcoords": [
           {
            "line": {
             "colorbar": {
              "outlinewidth": 0,
              "ticks": ""
             }
            },
            "type": "parcoords"
           }
          ],
          "pie": [
           {
            "automargin": true,
            "type": "pie"
           }
          ],
          "scatter": [
           {
            "fillpattern": {
             "fillmode": "overlay",
             "size": 10,
             "solidity": 0.2
            },
            "type": "scatter"
           }
          ],
          "scatter3d": [
           {
            "line": {
             "colorbar": {
              "outlinewidth": 0,
              "ticks": ""
             }
            },
            "marker": {
             "colorbar": {
              "outlinewidth": 0,
              "ticks": ""
             }
            },
            "type": "scatter3d"
           }
          ],
          "scattercarpet": [
           {
            "marker": {
             "colorbar": {
              "outlinewidth": 0,
              "ticks": ""
             }
            },
            "type": "scattercarpet"
           }
          ],
          "scattergeo": [
           {
            "marker": {
             "colorbar": {
              "outlinewidth": 0,
              "ticks": ""
             }
            },
            "type": "scattergeo"
           }
          ],
          "scattergl": [
           {
            "marker": {
             "colorbar": {
              "outlinewidth": 0,
              "ticks": ""
             }
            },
            "type": "scattergl"
           }
          ],
          "scattermapbox": [
           {
            "marker": {
             "colorbar": {
              "outlinewidth": 0,
              "ticks": ""
             }
            },
            "type": "scattermapbox"
           }
          ],
          "scatterpolar": [
           {
            "marker": {
             "colorbar": {
              "outlinewidth": 0,
              "ticks": ""
             }
            },
            "type": "scatterpolar"
           }
          ],
          "scatterpolargl": [
           {
            "marker": {
             "colorbar": {
              "outlinewidth": 0,
              "ticks": ""
             }
            },
            "type": "scatterpolargl"
           }
          ],
          "scatterternary": [
           {
            "marker": {
             "colorbar": {
              "outlinewidth": 0,
              "ticks": ""
             }
            },
            "type": "scatterternary"
           }
          ],
          "surface": [
           {
            "colorbar": {
             "outlinewidth": 0,
             "ticks": ""
            },
            "colorscale": [
             [
              0,
              "#0d0887"
             ],
             [
              0.1111111111111111,
              "#46039f"
             ],
             [
              0.2222222222222222,
              "#7201a8"
             ],
             [
              0.3333333333333333,
              "#9c179e"
             ],
             [
              0.4444444444444444,
              "#bd3786"
             ],
             [
              0.5555555555555556,
              "#d8576b"
             ],
             [
              0.6666666666666666,
              "#ed7953"
             ],
             [
              0.7777777777777778,
              "#fb9f3a"
             ],
             [
              0.8888888888888888,
              "#fdca26"
             ],
             [
              1,
              "#f0f921"
             ]
            ],
            "type": "surface"
           }
          ],
          "table": [
           {
            "cells": {
             "fill": {
              "color": "#EBF0F8"
             },
             "line": {
              "color": "white"
             }
            },
            "header": {
             "fill": {
              "color": "#C8D4E3"
             },
             "line": {
              "color": "white"
             }
            },
            "type": "table"
           }
          ]
         },
         "layout": {
          "annotationdefaults": {
           "arrowcolor": "#2a3f5f",
           "arrowhead": 0,
           "arrowwidth": 1
          },
          "autotypenumbers": "strict",
          "coloraxis": {
           "colorbar": {
            "outlinewidth": 0,
            "ticks": ""
           }
          },
          "colorscale": {
           "diverging": [
            [
             0,
             "#8e0152"
            ],
            [
             0.1,
             "#c51b7d"
            ],
            [
             0.2,
             "#de77ae"
            ],
            [
             0.3,
             "#f1b6da"
            ],
            [
             0.4,
             "#fde0ef"
            ],
            [
             0.5,
             "#f7f7f7"
            ],
            [
             0.6,
             "#e6f5d0"
            ],
            [
             0.7,
             "#b8e186"
            ],
            [
             0.8,
             "#7fbc41"
            ],
            [
             0.9,
             "#4d9221"
            ],
            [
             1,
             "#276419"
            ]
           ],
           "sequential": [
            [
             0,
             "#0d0887"
            ],
            [
             0.1111111111111111,
             "#46039f"
            ],
            [
             0.2222222222222222,
             "#7201a8"
            ],
            [
             0.3333333333333333,
             "#9c179e"
            ],
            [
             0.4444444444444444,
             "#bd3786"
            ],
            [
             0.5555555555555556,
             "#d8576b"
            ],
            [
             0.6666666666666666,
             "#ed7953"
            ],
            [
             0.7777777777777778,
             "#fb9f3a"
            ],
            [
             0.8888888888888888,
             "#fdca26"
            ],
            [
             1,
             "#f0f921"
            ]
           ],
           "sequentialminus": [
            [
             0,
             "#0d0887"
            ],
            [
             0.1111111111111111,
             "#46039f"
            ],
            [
             0.2222222222222222,
             "#7201a8"
            ],
            [
             0.3333333333333333,
             "#9c179e"
            ],
            [
             0.4444444444444444,
             "#bd3786"
            ],
            [
             0.5555555555555556,
             "#d8576b"
            ],
            [
             0.6666666666666666,
             "#ed7953"
            ],
            [
             0.7777777777777778,
             "#fb9f3a"
            ],
            [
             0.8888888888888888,
             "#fdca26"
            ],
            [
             1,
             "#f0f921"
            ]
           ]
          },
          "colorway": [
           "#636efa",
           "#EF553B",
           "#00cc96",
           "#ab63fa",
           "#FFA15A",
           "#19d3f3",
           "#FF6692",
           "#B6E880",
           "#FF97FF",
           "#FECB52"
          ],
          "font": {
           "color": "#2a3f5f"
          },
          "geo": {
           "bgcolor": "white",
           "lakecolor": "white",
           "landcolor": "#E5ECF6",
           "showlakes": true,
           "showland": true,
           "subunitcolor": "white"
          },
          "hoverlabel": {
           "align": "left"
          },
          "hovermode": "closest",
          "mapbox": {
           "style": "light"
          },
          "paper_bgcolor": "white",
          "plot_bgcolor": "#E5ECF6",
          "polar": {
           "angularaxis": {
            "gridcolor": "white",
            "linecolor": "white",
            "ticks": ""
           },
           "bgcolor": "#E5ECF6",
           "radialaxis": {
            "gridcolor": "white",
            "linecolor": "white",
            "ticks": ""
           }
          },
          "scene": {
           "xaxis": {
            "backgroundcolor": "#E5ECF6",
            "gridcolor": "white",
            "gridwidth": 2,
            "linecolor": "white",
            "showbackground": true,
            "ticks": "",
            "zerolinecolor": "white"
           },
           "yaxis": {
            "backgroundcolor": "#E5ECF6",
            "gridcolor": "white",
            "gridwidth": 2,
            "linecolor": "white",
            "showbackground": true,
            "ticks": "",
            "zerolinecolor": "white"
           },
           "zaxis": {
            "backgroundcolor": "#E5ECF6",
            "gridcolor": "white",
            "gridwidth": 2,
            "linecolor": "white",
            "showbackground": true,
            "ticks": "",
            "zerolinecolor": "white"
           }
          },
          "shapedefaults": {
           "line": {
            "color": "#2a3f5f"
           }
          },
          "ternary": {
           "aaxis": {
            "gridcolor": "white",
            "linecolor": "white",
            "ticks": ""
           },
           "baxis": {
            "gridcolor": "white",
            "linecolor": "white",
            "ticks": ""
           },
           "bgcolor": "#E5ECF6",
           "caxis": {
            "gridcolor": "white",
            "linecolor": "white",
            "ticks": ""
           }
          },
          "title": {
           "x": 0.05
          },
          "xaxis": {
           "automargin": true,
           "gridcolor": "white",
           "linecolor": "white",
           "ticks": "",
           "title": {
            "standoff": 15
           },
           "zerolinecolor": "white",
           "zerolinewidth": 2
          },
          "yaxis": {
           "automargin": true,
           "gridcolor": "white",
           "linecolor": "white",
           "ticks": "",
           "title": {
            "standoff": 15
           },
           "zerolinecolor": "white",
           "zerolinewidth": 2
          }
         }
        },
        "title": {
         "text": "t-SNE embeddings of reviews"
        }
       }
      }
     },
     "metadata": {},
     "output_type": "display_data"
    }
   ],
   "source": [
    "# ignore PerformanceWarning\n",
    "import warnings\n",
    "from pandas.errors import PerformanceWarning\n",
    "warnings.filterwarnings(\"ignore\", category=PerformanceWarning)\n",
    "\n",
    "embeddings_df = pd.DataFrame()\n",
    "embeddings_df[\"review_id\"] = df.review_id\n",
    "embeddings_df[\"label\"] = df.label\n",
    "embeddings_df = embeddings_features(embeddings_df)\n",
    "\n",
    "# apply tsne to reduce to `dims` dimensions\n",
    "dims = 3\n",
    "embd_df = tsne_features(embeddings_df.drop(columns=[\"review_id\", \"label\"], axis=1), dims=dims)\n",
    "embd_df[\"review_id\"] = embeddings_df.review_id\n",
    "embd_df[\"label\"] = embeddings_df.label\n",
    "\n",
    "# plot 3d scatter with plotly\n",
    "fig = px.scatter_3d(embd_df, x=\"tsne_0\", y=\"tsne_1\", z=\"tsne_2\", color=\"label\", title=\"t-SNE embeddings of reviews\", )\n",
    "# make size of point smaller and opaque\n",
    "fig.update_traces(marker=dict(size=2, opacity=0.5))\n",
    "# make inital zoom bigger\n",
    "fig.update_layout(scene=dict(camera_eye=dict(x=0.9, y=0.9, z=0.9)))\n",
    "fig.show()"
   ]
  },
  {
   "attachments": {},
   "cell_type": "markdown",
   "metadata": {},
   "source": [
    "It looks like the \"mbad\" labels are mostly together. The \"mgood\" are kind of in the  middle, but there is still lots of noise of \"good\" labels in that region."
   ]
  },
  {
   "attachments": {},
   "cell_type": "markdown",
   "metadata": {},
   "source": [
    "# Generate Features"
   ]
  },
  {
   "attachments": {},
   "cell_type": "markdown",
   "metadata": {},
   "source": [
    "With what we know, let's generate some features. I've provided a function for each type of feature, so we can mix and match."
   ]
  },
  {
   "cell_type": "code",
   "execution_count": 69,
   "metadata": {},
   "outputs": [
    {
     "name": "stdout",
     "output_type": "stream",
     "text": [
      "Creating model...\n",
      "Generating embeddings...\n",
      "Applying t-SNE... (dim=3)\n",
      "(978, 5)\n"
     ]
    },
    {
     "data": {
      "text/html": [
       "<div>\n",
       "<style scoped>\n",
       "    .dataframe tbody tr th:only-of-type {\n",
       "        vertical-align: middle;\n",
       "    }\n",
       "\n",
       "    .dataframe tbody tr th {\n",
       "        vertical-align: top;\n",
       "    }\n",
       "\n",
       "    .dataframe thead th {\n",
       "        text-align: right;\n",
       "    }\n",
       "</style>\n",
       "<table border=\"1\" class=\"dataframe\">\n",
       "  <thead>\n",
       "    <tr style=\"text-align: right;\">\n",
       "      <th></th>\n",
       "      <th>tsne_0</th>\n",
       "      <th>tsne_1</th>\n",
       "      <th>tsne_2</th>\n",
       "      <th>review_id</th>\n",
       "      <th>label</th>\n",
       "    </tr>\n",
       "  </thead>\n",
       "  <tbody>\n",
       "    <tr>\n",
       "      <th>0</th>\n",
       "      <td>-0.639876</td>\n",
       "      <td>-4.597953</td>\n",
       "      <td>-1.690420</td>\n",
       "      <td>83097</td>\n",
       "      <td>good</td>\n",
       "    </tr>\n",
       "    <tr>\n",
       "      <th>1</th>\n",
       "      <td>-6.714257</td>\n",
       "      <td>4.310233</td>\n",
       "      <td>-0.528321</td>\n",
       "      <td>133337</td>\n",
       "      <td>good</td>\n",
       "    </tr>\n",
       "    <tr>\n",
       "      <th>2</th>\n",
       "      <td>-1.117893</td>\n",
       "      <td>-5.458037</td>\n",
       "      <td>2.873919</td>\n",
       "      <td>150928</td>\n",
       "      <td>good</td>\n",
       "    </tr>\n",
       "    <tr>\n",
       "      <th>3</th>\n",
       "      <td>-5.982625</td>\n",
       "      <td>-5.602546</td>\n",
       "      <td>-0.022672</td>\n",
       "      <td>2706775</td>\n",
       "      <td>good</td>\n",
       "    </tr>\n",
       "    <tr>\n",
       "      <th>4</th>\n",
       "      <td>1.929237</td>\n",
       "      <td>-3.282773</td>\n",
       "      <td>-1.660596</td>\n",
       "      <td>8602878</td>\n",
       "      <td>good</td>\n",
       "    </tr>\n",
       "  </tbody>\n",
       "</table>\n",
       "</div>"
      ],
      "text/plain": [
       "     tsne_0    tsne_1    tsne_2  review_id label\n",
       "0 -0.639876 -4.597953 -1.690420      83097  good\n",
       "1 -6.714257  4.310233 -0.528321     133337  good\n",
       "2 -1.117893 -5.458037  2.873919     150928  good\n",
       "3 -5.982625 -5.602546 -0.022672    2706775  good\n",
       "4  1.929237 -3.282773 -1.660596    8602878  good"
      ]
     },
     "execution_count": 69,
     "metadata": {},
     "output_type": "execute_result"
    }
   ],
   "source": [
    "from collections import Counter\n",
    "\n",
    "# build features\n",
    "features = pd.DataFrame()\n",
    "features = embeddings_features(features)\n",
    "\n",
    "# apply tsne to reduce to `dims` dimensions\n",
    "dims = 3\n",
    "features = tsne_features(features, dims=dims)\n",
    "\n",
    "# add id and label\n",
    "features[\"review_id\"] = df.review_id\n",
    "features[\"label\"] = df.label\n",
    "\n",
    "print(features.shape)\n",
    "features.head()"
   ]
  },
  {
   "cell_type": "code",
   "execution_count": 65,
   "metadata": {},
   "outputs": [],
   "source": [
    "if isinstance(GEO, list):\n",
    "    geo_display_name = \"_\".join(GEO)\n",
    "else:\n",
    "    geo_display_name = GEO\n",
    "\n",
    "features.to_csv(f\"../../data/processed/features_{geo_display_name}.csv\", index=False)"
   ]
  },
  {
   "cell_type": "code",
   "execution_count": null,
   "metadata": {},
   "outputs": [],
   "source": []
  }
 ],
 "metadata": {
  "kernelspec": {
   "display_name": "venv",
   "language": "python",
   "name": "python3"
  },
  "language_info": {
   "codemirror_mode": {
    "name": "ipython",
    "version": 3
   },
   "file_extension": ".py",
   "mimetype": "text/x-python",
   "name": "python",
   "nbconvert_exporter": "python",
   "pygments_lexer": "ipython3",
   "version": "3.10.4"
  },
  "orig_nbformat": 4,
  "vscode": {
   "interpreter": {
    "hash": "cf086def782804284d24881115c612afdcc8ea791299ba67855f0c7f1a9ccc5a"
   }
  }
 },
 "nbformat": 4,
 "nbformat_minor": 2
}
