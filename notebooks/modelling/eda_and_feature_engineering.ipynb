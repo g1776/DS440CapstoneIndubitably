{
 "cells": [
  {
   "attachments": {},
   "cell_type": "markdown",
   "metadata": {},
   "source": [
    "## EDA and Feature Engineering on the processed dataset"
   ]
  },
  {
   "cell_type": "code",
   "execution_count": 348,
   "metadata": {},
   "outputs": [],
   "source": [
    "import pandas as pd\n",
    "import numpy as np\n",
    "import matplotlib.pyplot as plt\n",
    "import plotly.express as px"
   ]
  },
  {
   "cell_type": "code",
   "execution_count": 349,
   "metadata": {},
   "outputs": [
    {
     "name": "stdout",
     "output_type": "stream",
     "text": [
      "(978, 8)\n"
     ]
    },
    {
     "data": {
      "text/html": [
       "<div>\n",
       "<style scoped>\n",
       "    .dataframe tbody tr th:only-of-type {\n",
       "        vertical-align: middle;\n",
       "    }\n",
       "\n",
       "    .dataframe tbody tr th {\n",
       "        vertical-align: top;\n",
       "    }\n",
       "\n",
       "    .dataframe thead th {\n",
       "        text-align: right;\n",
       "    }\n",
       "</style>\n",
       "<table border=\"1\" class=\"dataframe\">\n",
       "  <thead>\n",
       "    <tr style=\"text-align: right;\">\n",
       "      <th></th>\n",
       "      <th>review_id</th>\n",
       "      <th>listing_id</th>\n",
       "      <th>description</th>\n",
       "      <th>comments</th>\n",
       "      <th>sentiment</th>\n",
       "      <th>label</th>\n",
       "      <th>name</th>\n",
       "      <th>amenities</th>\n",
       "    </tr>\n",
       "  </thead>\n",
       "  <tbody>\n",
       "    <tr>\n",
       "      <th>0</th>\n",
       "      <td>83097</td>\n",
       "      <td>5456</td>\n",
       "      <td>[fabulous, location, walking, convention, cent...</td>\n",
       "      <td>[sylvia, very, nice, informal, relaxed, arrive...</td>\n",
       "      <td>4.333333</td>\n",
       "      <td>good</td>\n",
       "      <td>['walk', '6th', 'rainey', 'st', 'convention', ...</td>\n",
       "      <td>['TV', 'Wifi', 'Air conditioning', 'Kitchen', ...</td>\n",
       "    </tr>\n",
       "    <tr>\n",
       "      <th>1</th>\n",
       "      <td>133337</td>\n",
       "      <td>5456</td>\n",
       "      <td>[fabulous, location, walking, convention, cent...</td>\n",
       "      <td>[sylvia, picked, airport, gave, beautiful, eve...</td>\n",
       "      <td>4.000000</td>\n",
       "      <td>good</td>\n",
       "      <td>['walk', '6th', 'rainey', 'st', 'convention', ...</td>\n",
       "      <td>['TV', 'Wifi', 'Air conditioning', 'Kitchen', ...</td>\n",
       "    </tr>\n",
       "    <tr>\n",
       "      <th>2</th>\n",
       "      <td>150928</td>\n",
       "      <td>5456</td>\n",
       "      <td>[fabulous, location, walking, convention, cent...</td>\n",
       "      <td>[lovely, time, enjoyed, apartment, clean, spac...</td>\n",
       "      <td>3.000000</td>\n",
       "      <td>good</td>\n",
       "      <td>['walk', '6th', 'rainey', 'st', 'convention', ...</td>\n",
       "      <td>['TV', 'Wifi', 'Air conditioning', 'Kitchen', ...</td>\n",
       "    </tr>\n",
       "    <tr>\n",
       "      <th>3</th>\n",
       "      <td>2706775</td>\n",
       "      <td>5456</td>\n",
       "      <td>[fabulous, location, walking, convention, cent...</td>\n",
       "      <td>[sylvia, excellent, host, stayed, touch, made,...</td>\n",
       "      <td>4.500000</td>\n",
       "      <td>good</td>\n",
       "      <td>['walk', '6th', 'rainey', 'st', 'convention', ...</td>\n",
       "      <td>['TV', 'Wifi', 'Air conditioning', 'Kitchen', ...</td>\n",
       "    </tr>\n",
       "    <tr>\n",
       "      <th>4</th>\n",
       "      <td>8602878</td>\n",
       "      <td>5456</td>\n",
       "      <td>[fabulous, location, walking, convention, cent...</td>\n",
       "      <td>[place, cute, little, self, contained, cottage...</td>\n",
       "      <td>4.000000</td>\n",
       "      <td>good</td>\n",
       "      <td>['walk', '6th', 'rainey', 'st', 'convention', ...</td>\n",
       "      <td>['TV', 'Wifi', 'Air conditioning', 'Kitchen', ...</td>\n",
       "    </tr>\n",
       "  </tbody>\n",
       "</table>\n",
       "</div>"
      ],
      "text/plain": [
       "   review_id  listing_id                                        description  \\\n",
       "0      83097        5456  [fabulous, location, walking, convention, cent...   \n",
       "1     133337        5456  [fabulous, location, walking, convention, cent...   \n",
       "2     150928        5456  [fabulous, location, walking, convention, cent...   \n",
       "3    2706775        5456  [fabulous, location, walking, convention, cent...   \n",
       "4    8602878        5456  [fabulous, location, walking, convention, cent...   \n",
       "\n",
       "                                            comments  sentiment label  \\\n",
       "0  [sylvia, very, nice, informal, relaxed, arrive...   4.333333  good   \n",
       "1  [sylvia, picked, airport, gave, beautiful, eve...   4.000000  good   \n",
       "2  [lovely, time, enjoyed, apartment, clean, spac...   3.000000  good   \n",
       "3  [sylvia, excellent, host, stayed, touch, made,...   4.500000  good   \n",
       "4  [place, cute, little, self, contained, cottage...   4.000000  good   \n",
       "\n",
       "                                                name  \\\n",
       "0  ['walk', '6th', 'rainey', 'st', 'convention', ...   \n",
       "1  ['walk', '6th', 'rainey', 'st', 'convention', ...   \n",
       "2  ['walk', '6th', 'rainey', 'st', 'convention', ...   \n",
       "3  ['walk', '6th', 'rainey', 'st', 'convention', ...   \n",
       "4  ['walk', '6th', 'rainey', 'st', 'convention', ...   \n",
       "\n",
       "                                           amenities  \n",
       "0  ['TV', 'Wifi', 'Air conditioning', 'Kitchen', ...  \n",
       "1  ['TV', 'Wifi', 'Air conditioning', 'Kitchen', ...  \n",
       "2  ['TV', 'Wifi', 'Air conditioning', 'Kitchen', ...  \n",
       "3  ['TV', 'Wifi', 'Air conditioning', 'Kitchen', ...  \n",
       "4  ['TV', 'Wifi', 'Air conditioning', 'Kitchen', ...  "
      ]
     },
     "execution_count": 349,
     "metadata": {},
     "output_type": "execute_result"
    }
   ],
   "source": [
    "# Read in the data\n",
    "GEO = \"texas\"\n",
    "\n",
    "if isinstance(GEO, str):\n",
    "    df = pd.read_csv(f\"../../data/processed/{GEO}_processed.csv\")\n",
    "elif isinstance(GEO, list):\n",
    "    dfs = []\n",
    "    for geo in GEO:\n",
    "        df = pd.read_csv(f\"../../data/processed/{geo}_processed.csv\")\n",
    "        dfs.append(df)\n",
    "    df = pd.concat(dfs)\n",
    "\n",
    "df.description = df.description.apply(lambda x: eval(x))\n",
    "df.comments = df.comments.apply(lambda x: eval(x))\n",
    "\n",
    "print(df.shape)\n",
    "df.head()"
   ]
  },
  {
   "attachments": {},
   "cell_type": "markdown",
   "metadata": {},
   "source": [
    "### Distribution of labels"
   ]
  },
  {
   "attachments": {},
   "cell_type": "markdown",
   "metadata": {},
   "source": [
    "First, let's look at the distribution of labels in the processed dataset."
   ]
  },
  {
   "cell_type": "code",
   "execution_count": 350,
   "metadata": {},
   "outputs": [
    {
     "name": "stdout",
     "output_type": "stream",
     "text": [
      "mbad: 7.36%, mgood: 6.54%, mbad or mgood: 13.91%\n"
     ]
    },
    {
     "data": {
      "application/vnd.plotly.v1+json": {
       "config": {
        "plotlyServerURL": "https://plot.ly"
       },
       "data": [
        {
         "alignmentgroup": "True",
         "hovertemplate": "Label=%{x}<br>Count=%{y}<extra></extra>",
         "legendgroup": "",
         "marker": {
          "color": "#636efa",
          "pattern": {
           "shape": ""
          }
         },
         "name": "",
         "offsetgroup": "",
         "orientation": "v",
         "showlegend": false,
         "textposition": "auto",
         "type": "bar",
         "x": [
          "good",
          "mbad",
          "mgood",
          "bad"
         ],
         "xaxis": "x",
         "y": [
          813,
          72,
          64,
          29
         ],
         "yaxis": "y"
        }
       ],
       "layout": {
        "barmode": "relative",
        "legend": {
         "tracegroupgap": 0
        },
        "template": {
         "data": {
          "bar": [
           {
            "error_x": {
             "color": "#2a3f5f"
            },
            "error_y": {
             "color": "#2a3f5f"
            },
            "marker": {
             "line": {
              "color": "#E5ECF6",
              "width": 0.5
             },
             "pattern": {
              "fillmode": "overlay",
              "size": 10,
              "solidity": 0.2
             }
            },
            "type": "bar"
           }
          ],
          "barpolar": [
           {
            "marker": {
             "line": {
              "color": "#E5ECF6",
              "width": 0.5
             },
             "pattern": {
              "fillmode": "overlay",
              "size": 10,
              "solidity": 0.2
             }
            },
            "type": "barpolar"
           }
          ],
          "carpet": [
           {
            "aaxis": {
             "endlinecolor": "#2a3f5f",
             "gridcolor": "white",
             "linecolor": "white",
             "minorgridcolor": "white",
             "startlinecolor": "#2a3f5f"
            },
            "baxis": {
             "endlinecolor": "#2a3f5f",
             "gridcolor": "white",
             "linecolor": "white",
             "minorgridcolor": "white",
             "startlinecolor": "#2a3f5f"
            },
            "type": "carpet"
           }
          ],
          "choropleth": [
           {
            "colorbar": {
             "outlinewidth": 0,
             "ticks": ""
            },
            "type": "choropleth"
           }
          ],
          "contour": [
           {
            "colorbar": {
             "outlinewidth": 0,
             "ticks": ""
            },
            "colorscale": [
             [
              0,
              "#0d0887"
             ],
             [
              0.1111111111111111,
              "#46039f"
             ],
             [
              0.2222222222222222,
              "#7201a8"
             ],
             [
              0.3333333333333333,
              "#9c179e"
             ],
             [
              0.4444444444444444,
              "#bd3786"
             ],
             [
              0.5555555555555556,
              "#d8576b"
             ],
             [
              0.6666666666666666,
              "#ed7953"
             ],
             [
              0.7777777777777778,
              "#fb9f3a"
             ],
             [
              0.8888888888888888,
              "#fdca26"
             ],
             [
              1,
              "#f0f921"
             ]
            ],
            "type": "contour"
           }
          ],
          "contourcarpet": [
           {
            "colorbar": {
             "outlinewidth": 0,
             "ticks": ""
            },
            "type": "contourcarpet"
           }
          ],
          "heatmap": [
           {
            "colorbar": {
             "outlinewidth": 0,
             "ticks": ""
            },
            "colorscale": [
             [
              0,
              "#0d0887"
             ],
             [
              0.1111111111111111,
              "#46039f"
             ],
             [
              0.2222222222222222,
              "#7201a8"
             ],
             [
              0.3333333333333333,
              "#9c179e"
             ],
             [
              0.4444444444444444,
              "#bd3786"
             ],
             [
              0.5555555555555556,
              "#d8576b"
             ],
             [
              0.6666666666666666,
              "#ed7953"
             ],
             [
              0.7777777777777778,
              "#fb9f3a"
             ],
             [
              0.8888888888888888,
              "#fdca26"
             ],
             [
              1,
              "#f0f921"
             ]
            ],
            "type": "heatmap"
           }
          ],
          "heatmapgl": [
           {
            "colorbar": {
             "outlinewidth": 0,
             "ticks": ""
            },
            "colorscale": [
             [
              0,
              "#0d0887"
             ],
             [
              0.1111111111111111,
              "#46039f"
             ],
             [
              0.2222222222222222,
              "#7201a8"
             ],
             [
              0.3333333333333333,
              "#9c179e"
             ],
             [
              0.4444444444444444,
              "#bd3786"
             ],
             [
              0.5555555555555556,
              "#d8576b"
             ],
             [
              0.6666666666666666,
              "#ed7953"
             ],
             [
              0.7777777777777778,
              "#fb9f3a"
             ],
             [
              0.8888888888888888,
              "#fdca26"
             ],
             [
              1,
              "#f0f921"
             ]
            ],
            "type": "heatmapgl"
           }
          ],
          "histogram": [
           {
            "marker": {
             "pattern": {
              "fillmode": "overlay",
              "size": 10,
              "solidity": 0.2
             }
            },
            "type": "histogram"
           }
          ],
          "histogram2d": [
           {
            "colorbar": {
             "outlinewidth": 0,
             "ticks": ""
            },
            "colorscale": [
             [
              0,
              "#0d0887"
             ],
             [
              0.1111111111111111,
              "#46039f"
             ],
             [
              0.2222222222222222,
              "#7201a8"
             ],
             [
              0.3333333333333333,
              "#9c179e"
             ],
             [
              0.4444444444444444,
              "#bd3786"
             ],
             [
              0.5555555555555556,
              "#d8576b"
             ],
             [
              0.6666666666666666,
              "#ed7953"
             ],
             [
              0.7777777777777778,
              "#fb9f3a"
             ],
             [
              0.8888888888888888,
              "#fdca26"
             ],
             [
              1,
              "#f0f921"
             ]
            ],
            "type": "histogram2d"
           }
          ],
          "histogram2dcontour": [
           {
            "colorbar": {
             "outlinewidth": 0,
             "ticks": ""
            },
            "colorscale": [
             [
              0,
              "#0d0887"
             ],
             [
              0.1111111111111111,
              "#46039f"
             ],
             [
              0.2222222222222222,
              "#7201a8"
             ],
             [
              0.3333333333333333,
              "#9c179e"
             ],
             [
              0.4444444444444444,
              "#bd3786"
             ],
             [
              0.5555555555555556,
              "#d8576b"
             ],
             [
              0.6666666666666666,
              "#ed7953"
             ],
             [
              0.7777777777777778,
              "#fb9f3a"
             ],
             [
              0.8888888888888888,
              "#fdca26"
             ],
             [
              1,
              "#f0f921"
             ]
            ],
            "type": "histogram2dcontour"
           }
          ],
          "mesh3d": [
           {
            "colorbar": {
             "outlinewidth": 0,
             "ticks": ""
            },
            "type": "mesh3d"
           }
          ],
          "parcoords": [
           {
            "line": {
             "colorbar": {
              "outlinewidth": 0,
              "ticks": ""
             }
            },
            "type": "parcoords"
           }
          ],
          "pie": [
           {
            "automargin": true,
            "type": "pie"
           }
          ],
          "scatter": [
           {
            "fillpattern": {
             "fillmode": "overlay",
             "size": 10,
             "solidity": 0.2
            },
            "type": "scatter"
           }
          ],
          "scatter3d": [
           {
            "line": {
             "colorbar": {
              "outlinewidth": 0,
              "ticks": ""
             }
            },
            "marker": {
             "colorbar": {
              "outlinewidth": 0,
              "ticks": ""
             }
            },
            "type": "scatter3d"
           }
          ],
          "scattercarpet": [
           {
            "marker": {
             "colorbar": {
              "outlinewidth": 0,
              "ticks": ""
             }
            },
            "type": "scattercarpet"
           }
          ],
          "scattergeo": [
           {
            "marker": {
             "colorbar": {
              "outlinewidth": 0,
              "ticks": ""
             }
            },
            "type": "scattergeo"
           }
          ],
          "scattergl": [
           {
            "marker": {
             "colorbar": {
              "outlinewidth": 0,
              "ticks": ""
             }
            },
            "type": "scattergl"
           }
          ],
          "scattermapbox": [
           {
            "marker": {
             "colorbar": {
              "outlinewidth": 0,
              "ticks": ""
             }
            },
            "type": "scattermapbox"
           }
          ],
          "scatterpolar": [
           {
            "marker": {
             "colorbar": {
              "outlinewidth": 0,
              "ticks": ""
             }
            },
            "type": "scatterpolar"
           }
          ],
          "scatterpolargl": [
           {
            "marker": {
             "colorbar": {
              "outlinewidth": 0,
              "ticks": ""
             }
            },
            "type": "scatterpolargl"
           }
          ],
          "scatterternary": [
           {
            "marker": {
             "colorbar": {
              "outlinewidth": 0,
              "ticks": ""
             }
            },
            "type": "scatterternary"
           }
          ],
          "surface": [
           {
            "colorbar": {
             "outlinewidth": 0,
             "ticks": ""
            },
            "colorscale": [
             [
              0,
              "#0d0887"
             ],
             [
              0.1111111111111111,
              "#46039f"
             ],
             [
              0.2222222222222222,
              "#7201a8"
             ],
             [
              0.3333333333333333,
              "#9c179e"
             ],
             [
              0.4444444444444444,
              "#bd3786"
             ],
             [
              0.5555555555555556,
              "#d8576b"
             ],
             [
              0.6666666666666666,
              "#ed7953"
             ],
             [
              0.7777777777777778,
              "#fb9f3a"
             ],
             [
              0.8888888888888888,
              "#fdca26"
             ],
             [
              1,
              "#f0f921"
             ]
            ],
            "type": "surface"
           }
          ],
          "table": [
           {
            "cells": {
             "fill": {
              "color": "#EBF0F8"
             },
             "line": {
              "color": "white"
             }
            },
            "header": {
             "fill": {
              "color": "#C8D4E3"
             },
             "line": {
              "color": "white"
             }
            },
            "type": "table"
           }
          ]
         },
         "layout": {
          "annotationdefaults": {
           "arrowcolor": "#2a3f5f",
           "arrowhead": 0,
           "arrowwidth": 1
          },
          "autotypenumbers": "strict",
          "coloraxis": {
           "colorbar": {
            "outlinewidth": 0,
            "ticks": ""
           }
          },
          "colorscale": {
           "diverging": [
            [
             0,
             "#8e0152"
            ],
            [
             0.1,
             "#c51b7d"
            ],
            [
             0.2,
             "#de77ae"
            ],
            [
             0.3,
             "#f1b6da"
            ],
            [
             0.4,
             "#fde0ef"
            ],
            [
             0.5,
             "#f7f7f7"
            ],
            [
             0.6,
             "#e6f5d0"
            ],
            [
             0.7,
             "#b8e186"
            ],
            [
             0.8,
             "#7fbc41"
            ],
            [
             0.9,
             "#4d9221"
            ],
            [
             1,
             "#276419"
            ]
           ],
           "sequential": [
            [
             0,
             "#0d0887"
            ],
            [
             0.1111111111111111,
             "#46039f"
            ],
            [
             0.2222222222222222,
             "#7201a8"
            ],
            [
             0.3333333333333333,
             "#9c179e"
            ],
            [
             0.4444444444444444,
             "#bd3786"
            ],
            [
             0.5555555555555556,
             "#d8576b"
            ],
            [
             0.6666666666666666,
             "#ed7953"
            ],
            [
             0.7777777777777778,
             "#fb9f3a"
            ],
            [
             0.8888888888888888,
             "#fdca26"
            ],
            [
             1,
             "#f0f921"
            ]
           ],
           "sequentialminus": [
            [
             0,
             "#0d0887"
            ],
            [
             0.1111111111111111,
             "#46039f"
            ],
            [
             0.2222222222222222,
             "#7201a8"
            ],
            [
             0.3333333333333333,
             "#9c179e"
            ],
            [
             0.4444444444444444,
             "#bd3786"
            ],
            [
             0.5555555555555556,
             "#d8576b"
            ],
            [
             0.6666666666666666,
             "#ed7953"
            ],
            [
             0.7777777777777778,
             "#fb9f3a"
            ],
            [
             0.8888888888888888,
             "#fdca26"
            ],
            [
             1,
             "#f0f921"
            ]
           ]
          },
          "colorway": [
           "#636efa",
           "#EF553B",
           "#00cc96",
           "#ab63fa",
           "#FFA15A",
           "#19d3f3",
           "#FF6692",
           "#B6E880",
           "#FF97FF",
           "#FECB52"
          ],
          "font": {
           "color": "#2a3f5f"
          },
          "geo": {
           "bgcolor": "white",
           "lakecolor": "white",
           "landcolor": "#E5ECF6",
           "showlakes": true,
           "showland": true,
           "subunitcolor": "white"
          },
          "hoverlabel": {
           "align": "left"
          },
          "hovermode": "closest",
          "mapbox": {
           "style": "light"
          },
          "paper_bgcolor": "white",
          "plot_bgcolor": "#E5ECF6",
          "polar": {
           "angularaxis": {
            "gridcolor": "white",
            "linecolor": "white",
            "ticks": ""
           },
           "bgcolor": "#E5ECF6",
           "radialaxis": {
            "gridcolor": "white",
            "linecolor": "white",
            "ticks": ""
           }
          },
          "scene": {
           "xaxis": {
            "backgroundcolor": "#E5ECF6",
            "gridcolor": "white",
            "gridwidth": 2,
            "linecolor": "white",
            "showbackground": true,
            "ticks": "",
            "zerolinecolor": "white"
           },
           "yaxis": {
            "backgroundcolor": "#E5ECF6",
            "gridcolor": "white",
            "gridwidth": 2,
            "linecolor": "white",
            "showbackground": true,
            "ticks": "",
            "zerolinecolor": "white"
           },
           "zaxis": {
            "backgroundcolor": "#E5ECF6",
            "gridcolor": "white",
            "gridwidth": 2,
            "linecolor": "white",
            "showbackground": true,
            "ticks": "",
            "zerolinecolor": "white"
           }
          },
          "shapedefaults": {
           "line": {
            "color": "#2a3f5f"
           }
          },
          "ternary": {
           "aaxis": {
            "gridcolor": "white",
            "linecolor": "white",
            "ticks": ""
           },
           "baxis": {
            "gridcolor": "white",
            "linecolor": "white",
            "ticks": ""
           },
           "bgcolor": "#E5ECF6",
           "caxis": {
            "gridcolor": "white",
            "linecolor": "white",
            "ticks": ""
           }
          },
          "title": {
           "x": 0.05
          },
          "xaxis": {
           "automargin": true,
           "gridcolor": "white",
           "linecolor": "white",
           "ticks": "",
           "title": {
            "standoff": 15
           },
           "zerolinecolor": "white",
           "zerolinewidth": 2
          },
          "yaxis": {
           "automargin": true,
           "gridcolor": "white",
           "linecolor": "white",
           "ticks": "",
           "title": {
            "standoff": 15
           },
           "zerolinecolor": "white",
           "zerolinewidth": 2
          }
         }
        },
        "title": {
         "text": "Distribution of labels (GEO=texas)"
        },
        "xaxis": {
         "anchor": "y",
         "domain": [
          0,
          1
         ],
         "title": {
          "text": "Label"
         }
        },
        "yaxis": {
         "anchor": "x",
         "domain": [
          0,
          1
         ],
         "title": {
          "text": "Count"
         }
        }
       }
      }
     },
     "metadata": {},
     "output_type": "display_data"
    }
   ],
   "source": [
    "mbad_pcnt = df[df.label == \"mbad\"].shape[0] / df.shape[0]\n",
    "mgood_pcnt = df[df.label == \"mgood\"].shape[0] / df.shape[0]\n",
    "mbad_or_mgood_pcnt = df[df.label.isin([\"mbad\", \"mgood\"])].shape[0] / df.shape[0]\n",
    "print(\n",
    "    f\"mbad: {mbad_pcnt:.2%}, mgood: {mgood_pcnt:.2%}, mbad or mgood: {mbad_or_mgood_pcnt:.2%}\"\n",
    ")\n",
    "\n",
    "bar_vals = df.label.value_counts()\n",
    "\n",
    "fig = px.bar(\n",
    "    bar_vals,\n",
    "    x=bar_vals.index,\n",
    "    y=bar_vals.values,\n",
    "    title=f\"Distribution of labels (GEO={GEO})\",\n",
    "    labels={\"index\": \"Label\", \"y\": \"Count\"}\n",
    ")\n",
    "\n",
    "fig.show()"
   ]
  },
  {
   "attachments": {},
   "cell_type": "markdown",
   "metadata": {},
   "source": [
    "### Ngrams"
   ]
  },
  {
   "attachments": {},
   "cell_type": "markdown",
   "metadata": {},
   "source": [
    "What are the most common ngrams for the different types of reviews? What are the most common overlaps?"
   ]
  },
  {
   "cell_type": "code",
   "execution_count": 351,
   "metadata": {},
   "outputs": [],
   "source": [
    "def get_consecutive_ngrams(review, n) -> list:\n",
    "    \"\"\"Helper function to get ngrams from a review.\n",
    "\n",
    "    Args:\n",
    "        review (str): The review to get ngrams from.\n",
    "        n (int): The number of ngrams to get.\n",
    "\n",
    "    Returns:\n",
    "        list: the list of ngrams, joined by underscores.\n",
    "    \"\"\"\n",
    "    if isinstance(review, str):\n",
    "        review = review.split(\"\")\n",
    "\n",
    "    return [\"_\".join(review[i:i+n]) for i in range(len(review)-n-1)]\n",
    "\n",
    "def series_to_ngrams(series: pd.Series, N):\n",
    "    n_grams = series.apply(lambda x: get_consecutive_ngrams(x, N))\n",
    "    return n_grams.explode()\n",
    "\n",
    "def get_exclusive_sizes(good: set, bad: set, mgood: set, mbad: set) -> dict:\n",
    "    \"\"\"Get the sizes of the exclusive sets\"\"\"\n",
    "\n",
    "    only_good = good - bad - mgood - mbad\n",
    "    only_bad = bad - good - mgood - mbad\n",
    "    only_mgood = mgood - good - bad - mbad\n",
    "    only_mbad = mbad - good - bad - mgood\n",
    "    \n",
    "    return {\n",
    "        \"good\": len(only_good),\n",
    "        \"bad\": len(only_bad),\n",
    "        \"mgood\": len(only_mgood),\n",
    "        \"mbad\": len(only_mbad)\n",
    "    }"
   ]
  },
  {
   "attachments": {},
   "cell_type": "markdown",
   "metadata": {},
   "source": [
    "We can look at the number of unique values to each label for different values of N on a line chart."
   ]
  },
  {
   "cell_type": "code",
   "execution_count": 352,
   "metadata": {},
   "outputs": [
    {
     "data": {
      "application/vnd.plotly.v1+json": {
       "config": {
        "plotlyServerURL": "https://plot.ly"
       },
       "data": [
        {
         "hovertemplate": "label=bad<br>N-gram size=%{x}<br>Unique # of n-grams=%{y}<extra></extra>",
         "legendgroup": "bad",
         "line": {
          "color": "#636efa",
          "dash": "solid"
         },
         "marker": {
          "symbol": "circle"
         },
         "mode": "lines+markers",
         "name": "bad",
         "orientation": "v",
         "showlegend": true,
         "type": "scatter",
         "x": [
          1,
          2,
          3,
          4,
          5,
          6
         ],
         "xaxis": "x",
         "y": [
          214,
          2751,
          3538,
          3589,
          3566,
          3537
         ],
         "yaxis": "y"
        },
        {
         "hovertemplate": "label=mgood<br>N-gram size=%{x}<br>Unique # of n-grams=%{y}<extra></extra>",
         "legendgroup": "mgood",
         "line": {
          "color": "#EF553B",
          "dash": "solid"
         },
         "marker": {
          "symbol": "circle"
         },
         "mode": "lines+markers",
         "name": "mgood",
         "orientation": "v",
         "showlegend": true,
         "type": "scatter",
         "x": [
          1,
          2,
          3,
          4,
          5,
          6
         ],
         "xaxis": "x",
         "y": [
          208,
          3109,
          4303,
          4403,
          4364,
          4303
         ],
         "yaxis": "y"
        },
        {
         "hovertemplate": "label=mbad<br>N-gram size=%{x}<br>Unique # of n-grams=%{y}<extra></extra>",
         "legendgroup": "mbad",
         "line": {
          "color": "#00cc96",
          "dash": "solid"
         },
         "marker": {
          "symbol": "circle"
         },
         "mode": "lines+markers",
         "name": "mbad",
         "orientation": "v",
         "showlegend": true,
         "type": "scatter",
         "x": [
          1,
          2,
          3,
          4,
          5,
          6
         ],
         "xaxis": "x",
         "y": [
          391,
          4875,
          6352,
          6450,
          6386,
          6315
         ],
         "yaxis": "y"
        }
       ],
       "layout": {
        "legend": {
         "title": {
          "text": "label"
         },
         "tracegroupgap": 0
        },
        "template": {
         "data": {
          "bar": [
           {
            "error_x": {
             "color": "#2a3f5f"
            },
            "error_y": {
             "color": "#2a3f5f"
            },
            "marker": {
             "line": {
              "color": "#E5ECF6",
              "width": 0.5
             },
             "pattern": {
              "fillmode": "overlay",
              "size": 10,
              "solidity": 0.2
             }
            },
            "type": "bar"
           }
          ],
          "barpolar": [
           {
            "marker": {
             "line": {
              "color": "#E5ECF6",
              "width": 0.5
             },
             "pattern": {
              "fillmode": "overlay",
              "size": 10,
              "solidity": 0.2
             }
            },
            "type": "barpolar"
           }
          ],
          "carpet": [
           {
            "aaxis": {
             "endlinecolor": "#2a3f5f",
             "gridcolor": "white",
             "linecolor": "white",
             "minorgridcolor": "white",
             "startlinecolor": "#2a3f5f"
            },
            "baxis": {
             "endlinecolor": "#2a3f5f",
             "gridcolor": "white",
             "linecolor": "white",
             "minorgridcolor": "white",
             "startlinecolor": "#2a3f5f"
            },
            "type": "carpet"
           }
          ],
          "choropleth": [
           {
            "colorbar": {
             "outlinewidth": 0,
             "ticks": ""
            },
            "type": "choropleth"
           }
          ],
          "contour": [
           {
            "colorbar": {
             "outlinewidth": 0,
             "ticks": ""
            },
            "colorscale": [
             [
              0,
              "#0d0887"
             ],
             [
              0.1111111111111111,
              "#46039f"
             ],
             [
              0.2222222222222222,
              "#7201a8"
             ],
             [
              0.3333333333333333,
              "#9c179e"
             ],
             [
              0.4444444444444444,
              "#bd3786"
             ],
             [
              0.5555555555555556,
              "#d8576b"
             ],
             [
              0.6666666666666666,
              "#ed7953"
             ],
             [
              0.7777777777777778,
              "#fb9f3a"
             ],
             [
              0.8888888888888888,
              "#fdca26"
             ],
             [
              1,
              "#f0f921"
             ]
            ],
            "type": "contour"
           }
          ],
          "contourcarpet": [
           {
            "colorbar": {
             "outlinewidth": 0,
             "ticks": ""
            },
            "type": "contourcarpet"
           }
          ],
          "heatmap": [
           {
            "colorbar": {
             "outlinewidth": 0,
             "ticks": ""
            },
            "colorscale": [
             [
              0,
              "#0d0887"
             ],
             [
              0.1111111111111111,
              "#46039f"
             ],
             [
              0.2222222222222222,
              "#7201a8"
             ],
             [
              0.3333333333333333,
              "#9c179e"
             ],
             [
              0.4444444444444444,
              "#bd3786"
             ],
             [
              0.5555555555555556,
              "#d8576b"
             ],
             [
              0.6666666666666666,
              "#ed7953"
             ],
             [
              0.7777777777777778,
              "#fb9f3a"
             ],
             [
              0.8888888888888888,
              "#fdca26"
             ],
             [
              1,
              "#f0f921"
             ]
            ],
            "type": "heatmap"
           }
          ],
          "heatmapgl": [
           {
            "colorbar": {
             "outlinewidth": 0,
             "ticks": ""
            },
            "colorscale": [
             [
              0,
              "#0d0887"
             ],
             [
              0.1111111111111111,
              "#46039f"
             ],
             [
              0.2222222222222222,
              "#7201a8"
             ],
             [
              0.3333333333333333,
              "#9c179e"
             ],
             [
              0.4444444444444444,
              "#bd3786"
             ],
             [
              0.5555555555555556,
              "#d8576b"
             ],
             [
              0.6666666666666666,
              "#ed7953"
             ],
             [
              0.7777777777777778,
              "#fb9f3a"
             ],
             [
              0.8888888888888888,
              "#fdca26"
             ],
             [
              1,
              "#f0f921"
             ]
            ],
            "type": "heatmapgl"
           }
          ],
          "histogram": [
           {
            "marker": {
             "pattern": {
              "fillmode": "overlay",
              "size": 10,
              "solidity": 0.2
             }
            },
            "type": "histogram"
           }
          ],
          "histogram2d": [
           {
            "colorbar": {
             "outlinewidth": 0,
             "ticks": ""
            },
            "colorscale": [
             [
              0,
              "#0d0887"
             ],
             [
              0.1111111111111111,
              "#46039f"
             ],
             [
              0.2222222222222222,
              "#7201a8"
             ],
             [
              0.3333333333333333,
              "#9c179e"
             ],
             [
              0.4444444444444444,
              "#bd3786"
             ],
             [
              0.5555555555555556,
              "#d8576b"
             ],
             [
              0.6666666666666666,
              "#ed7953"
             ],
             [
              0.7777777777777778,
              "#fb9f3a"
             ],
             [
              0.8888888888888888,
              "#fdca26"
             ],
             [
              1,
              "#f0f921"
             ]
            ],
            "type": "histogram2d"
           }
          ],
          "histogram2dcontour": [
           {
            "colorbar": {
             "outlinewidth": 0,
             "ticks": ""
            },
            "colorscale": [
             [
              0,
              "#0d0887"
             ],
             [
              0.1111111111111111,
              "#46039f"
             ],
             [
              0.2222222222222222,
              "#7201a8"
             ],
             [
              0.3333333333333333,
              "#9c179e"
             ],
             [
              0.4444444444444444,
              "#bd3786"
             ],
             [
              0.5555555555555556,
              "#d8576b"
             ],
             [
              0.6666666666666666,
              "#ed7953"
             ],
             [
              0.7777777777777778,
              "#fb9f3a"
             ],
             [
              0.8888888888888888,
              "#fdca26"
             ],
             [
              1,
              "#f0f921"
             ]
            ],
            "type": "histogram2dcontour"
           }
          ],
          "mesh3d": [
           {
            "colorbar": {
             "outlinewidth": 0,
             "ticks": ""
            },
            "type": "mesh3d"
           }
          ],
          "parcoords": [
           {
            "line": {
             "colorbar": {
              "outlinewidth": 0,
              "ticks": ""
             }
            },
            "type": "parcoords"
           }
          ],
          "pie": [
           {
            "automargin": true,
            "type": "pie"
           }
          ],
          "scatter": [
           {
            "fillpattern": {
             "fillmode": "overlay",
             "size": 10,
             "solidity": 0.2
            },
            "type": "scatter"
           }
          ],
          "scatter3d": [
           {
            "line": {
             "colorbar": {
              "outlinewidth": 0,
              "ticks": ""
             }
            },
            "marker": {
             "colorbar": {
              "outlinewidth": 0,
              "ticks": ""
             }
            },
            "type": "scatter3d"
           }
          ],
          "scattercarpet": [
           {
            "marker": {
             "colorbar": {
              "outlinewidth": 0,
              "ticks": ""
             }
            },
            "type": "scattercarpet"
           }
          ],
          "scattergeo": [
           {
            "marker": {
             "colorbar": {
              "outlinewidth": 0,
              "ticks": ""
             }
            },
            "type": "scattergeo"
           }
          ],
          "scattergl": [
           {
            "marker": {
             "colorbar": {
              "outlinewidth": 0,
              "ticks": ""
             }
            },
            "type": "scattergl"
           }
          ],
          "scattermapbox": [
           {
            "marker": {
             "colorbar": {
              "outlinewidth": 0,
              "ticks": ""
             }
            },
            "type": "scattermapbox"
           }
          ],
          "scatterpolar": [
           {
            "marker": {
             "colorbar": {
              "outlinewidth": 0,
              "ticks": ""
             }
            },
            "type": "scatterpolar"
           }
          ],
          "scatterpolargl": [
           {
            "marker": {
             "colorbar": {
              "outlinewidth": 0,
              "ticks": ""
             }
            },
            "type": "scatterpolargl"
           }
          ],
          "scatterternary": [
           {
            "marker": {
             "colorbar": {
              "outlinewidth": 0,
              "ticks": ""
             }
            },
            "type": "scatterternary"
           }
          ],
          "surface": [
           {
            "colorbar": {
             "outlinewidth": 0,
             "ticks": ""
            },
            "colorscale": [
             [
              0,
              "#0d0887"
             ],
             [
              0.1111111111111111,
              "#46039f"
             ],
             [
              0.2222222222222222,
              "#7201a8"
             ],
             [
              0.3333333333333333,
              "#9c179e"
             ],
             [
              0.4444444444444444,
              "#bd3786"
             ],
             [
              0.5555555555555556,
              "#d8576b"
             ],
             [
              0.6666666666666666,
              "#ed7953"
             ],
             [
              0.7777777777777778,
              "#fb9f3a"
             ],
             [
              0.8888888888888888,
              "#fdca26"
             ],
             [
              1,
              "#f0f921"
             ]
            ],
            "type": "surface"
           }
          ],
          "table": [
           {
            "cells": {
             "fill": {
              "color": "#EBF0F8"
             },
             "line": {
              "color": "white"
             }
            },
            "header": {
             "fill": {
              "color": "#C8D4E3"
             },
             "line": {
              "color": "white"
             }
            },
            "type": "table"
           }
          ]
         },
         "layout": {
          "annotationdefaults": {
           "arrowcolor": "#2a3f5f",
           "arrowhead": 0,
           "arrowwidth": 1
          },
          "autotypenumbers": "strict",
          "coloraxis": {
           "colorbar": {
            "outlinewidth": 0,
            "ticks": ""
           }
          },
          "colorscale": {
           "diverging": [
            [
             0,
             "#8e0152"
            ],
            [
             0.1,
             "#c51b7d"
            ],
            [
             0.2,
             "#de77ae"
            ],
            [
             0.3,
             "#f1b6da"
            ],
            [
             0.4,
             "#fde0ef"
            ],
            [
             0.5,
             "#f7f7f7"
            ],
            [
             0.6,
             "#e6f5d0"
            ],
            [
             0.7,
             "#b8e186"
            ],
            [
             0.8,
             "#7fbc41"
            ],
            [
             0.9,
             "#4d9221"
            ],
            [
             1,
             "#276419"
            ]
           ],
           "sequential": [
            [
             0,
             "#0d0887"
            ],
            [
             0.1111111111111111,
             "#46039f"
            ],
            [
             0.2222222222222222,
             "#7201a8"
            ],
            [
             0.3333333333333333,
             "#9c179e"
            ],
            [
             0.4444444444444444,
             "#bd3786"
            ],
            [
             0.5555555555555556,
             "#d8576b"
            ],
            [
             0.6666666666666666,
             "#ed7953"
            ],
            [
             0.7777777777777778,
             "#fb9f3a"
            ],
            [
             0.8888888888888888,
             "#fdca26"
            ],
            [
             1,
             "#f0f921"
            ]
           ],
           "sequentialminus": [
            [
             0,
             "#0d0887"
            ],
            [
             0.1111111111111111,
             "#46039f"
            ],
            [
             0.2222222222222222,
             "#7201a8"
            ],
            [
             0.3333333333333333,
             "#9c179e"
            ],
            [
             0.4444444444444444,
             "#bd3786"
            ],
            [
             0.5555555555555556,
             "#d8576b"
            ],
            [
             0.6666666666666666,
             "#ed7953"
            ],
            [
             0.7777777777777778,
             "#fb9f3a"
            ],
            [
             0.8888888888888888,
             "#fdca26"
            ],
            [
             1,
             "#f0f921"
            ]
           ]
          },
          "colorway": [
           "#636efa",
           "#EF553B",
           "#00cc96",
           "#ab63fa",
           "#FFA15A",
           "#19d3f3",
           "#FF6692",
           "#B6E880",
           "#FF97FF",
           "#FECB52"
          ],
          "font": {
           "color": "#2a3f5f"
          },
          "geo": {
           "bgcolor": "white",
           "lakecolor": "white",
           "landcolor": "#E5ECF6",
           "showlakes": true,
           "showland": true,
           "subunitcolor": "white"
          },
          "hoverlabel": {
           "align": "left"
          },
          "hovermode": "closest",
          "mapbox": {
           "style": "light"
          },
          "paper_bgcolor": "white",
          "plot_bgcolor": "#E5ECF6",
          "polar": {
           "angularaxis": {
            "gridcolor": "white",
            "linecolor": "white",
            "ticks": ""
           },
           "bgcolor": "#E5ECF6",
           "radialaxis": {
            "gridcolor": "white",
            "linecolor": "white",
            "ticks": ""
           }
          },
          "scene": {
           "xaxis": {
            "backgroundcolor": "#E5ECF6",
            "gridcolor": "white",
            "gridwidth": 2,
            "linecolor": "white",
            "showbackground": true,
            "ticks": "",
            "zerolinecolor": "white"
           },
           "yaxis": {
            "backgroundcolor": "#E5ECF6",
            "gridcolor": "white",
            "gridwidth": 2,
            "linecolor": "white",
            "showbackground": true,
            "ticks": "",
            "zerolinecolor": "white"
           },
           "zaxis": {
            "backgroundcolor": "#E5ECF6",
            "gridcolor": "white",
            "gridwidth": 2,
            "linecolor": "white",
            "showbackground": true,
            "ticks": "",
            "zerolinecolor": "white"
           }
          },
          "shapedefaults": {
           "line": {
            "color": "#2a3f5f"
           }
          },
          "ternary": {
           "aaxis": {
            "gridcolor": "white",
            "linecolor": "white",
            "ticks": ""
           },
           "baxis": {
            "gridcolor": "white",
            "linecolor": "white",
            "ticks": ""
           },
           "bgcolor": "#E5ECF6",
           "caxis": {
            "gridcolor": "white",
            "linecolor": "white",
            "ticks": ""
           }
          },
          "title": {
           "x": 0.05
          },
          "xaxis": {
           "automargin": true,
           "gridcolor": "white",
           "linecolor": "white",
           "ticks": "",
           "title": {
            "standoff": 15
           },
           "zerolinecolor": "white",
           "zerolinewidth": 2
          },
          "yaxis": {
           "automargin": true,
           "gridcolor": "white",
           "linecolor": "white",
           "ticks": "",
           "title": {
            "standoff": 15
           },
           "zerolinecolor": "white",
           "zerolinewidth": 2
          }
         }
        },
        "title": {
         "text": "Unique # of texas n-grams for each label"
        },
        "xaxis": {
         "anchor": "y",
         "domain": [
          0,
          1
         ],
         "title": {
          "text": "N-gram size"
         }
        },
        "yaxis": {
         "anchor": "x",
         "domain": [
          0,
          1
         ],
         "title": {
          "text": "Unique # of n-grams"
         }
        }
       }
      }
     },
     "metadata": {},
     "output_type": "display_data"
    }
   ],
   "source": [
    "import plotly.express as px\n",
    "\n",
    "intersection_sizes = []\n",
    "for n in [1, 2, 3, 4, 5, 6]:\n",
    "\n",
    "    good_ngrams = series_to_ngrams(df[df.label == \"good\"].comments, n).value_counts()\n",
    "    bad_ngrams = series_to_ngrams(df[df.label == \"bad\"].comments, n).value_counts()\n",
    "    mgood_ngrams = series_to_ngrams(df[df.label == \"mgood\"].comments, n).value_counts()\n",
    "    mbad_ngrams = series_to_ngrams(df[df.label == \"mbad\"].comments, n).value_counts()\n",
    "    intersection_sizes_n = get_exclusive_sizes(\n",
    "        set(good_ngrams.index),\n",
    "        set(bad_ngrams.index),\n",
    "        set(mgood_ngrams.index),\n",
    "        set(mbad_ngrams.index)\n",
    "    )\n",
    "\n",
    "    intersection_sizes_n[\"n\"] = n\n",
    "\n",
    "    intersection_sizes.append(intersection_sizes_n)\n",
    "\n",
    "\n",
    "# prepare data\n",
    "is_df = pd.DataFrame(intersection_sizes)\n",
    "is_df = is_df.melt(id_vars=\"n\", var_name=\"label\", value_name=\"count\")\n",
    "is_df[\"count\"] = is_df[\"count\"].astype(int)\n",
    "is_df[\"n\"] = is_df[\"n\"].astype(int)\n",
    "\n",
    "# exclude good \n",
    "is_df = is_df[is_df.label != \"good\"]\n",
    "\n",
    "# plot a line chart\n",
    "px.line(is_df, \n",
    "    x=\"n\", y=\"count\",\n",
    "    color=\"label\",\n",
    "    title=f\"Unique # of {GEO} n-grams for each label\", \n",
    "    labels={\"n\": \"N-gram size\", \"count\": \"Unique # of n-grams\"},\n",
    "    markers=True\n",
    "    )"
   ]
  },
  {
   "attachments": {},
   "cell_type": "markdown",
   "metadata": {},
   "source": [
    "We can see that the number of unique ngrams increases until about n=3, and then levels off. What are the top 10 3-grams for misleading reviews?"
   ]
  },
  {
   "cell_type": "code",
   "execution_count": 353,
   "metadata": {},
   "outputs": [
    {
     "name": "stdout",
     "output_type": "stream",
     "text": [
      "Top 10 most common 3-grams in misleading reviews:\n"
     ]
    },
    {
     "data": {
      "text/plain": [
       "[('within_walking_distance', 8),\n",
       " ('would_not_recommend', 6),\n",
       " ('not_recommend_staying', 4),\n",
       " ('made_u_feel', 3),\n",
       " ('great_host_very', 3),\n",
       " ('great_place_stay', 3),\n",
       " ('solid_internet_connectivity', 3),\n",
       " ('walking_distance_lot', 2),\n",
       " ('stay_good_location', 2),\n",
       " ('good_location_clean', 2)]"
      ]
     },
     "execution_count": 353,
     "metadata": {},
     "output_type": "execute_result"
    }
   ],
   "source": [
    "import numpy as np\n",
    "from collections import Counter\n",
    "\n",
    "# generate wordcloud for misleading reviews\n",
    "subset = df[df.label.isin([\"mbad\", \"mgood\"])]\n",
    "\n",
    "# get groups of N consecutive words\n",
    "N = 3\n",
    "n_grams_3 = series_to_ngrams(subset.comments, N).to_list()\n",
    "\n",
    "print(\"Top 10 most common 3-grams in misleading reviews:\")\n",
    "Counter(n_grams_3).most_common(10)"
   ]
  },
  {
   "attachments": {},
   "cell_type": "markdown",
   "metadata": {},
   "source": [
    "Let's manually remove some of these that don't make sense"
   ]
  },
  {
   "attachments": {},
   "cell_type": "markdown",
   "metadata": {},
   "source": [
    "Now let's look at a word cloud of the 3-grams in misleading reviews.\n",
    "\n",
    "**NOTE:** Also broken due to pandas library error. Not sure why it happened all of a sudden."
   ]
  },
  {
   "cell_type": "code",
   "execution_count": 354,
   "metadata": {},
   "outputs": [
    {
     "data": {
      "application/vnd.plotly.v1+json": {
       "config": {
        "plotlyServerURL": "https://plot.ly"
       },
       "data": [
        {
         "hovertemplate": "x: %{x}<br>y: %{y}<br>color: [%{z[0]}, %{z[1]}, %{z[2]}]<extra></extra>",
         "name": "0",
         "source": "data:image/png;base64,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",
         "type": "image",
         "xaxis": "x",
         "yaxis": "y"
        }
       ],
       "layout": {
        "height": 700,
        "template": {
         "data": {
          "bar": [
           {
            "error_x": {
             "color": "#2a3f5f"
            },
            "error_y": {
             "color": "#2a3f5f"
            },
            "marker": {
             "line": {
              "color": "#E5ECF6",
              "width": 0.5
             },
             "pattern": {
              "fillmode": "overlay",
              "size": 10,
              "solidity": 0.2
             }
            },
            "type": "bar"
           }
          ],
          "barpolar": [
           {
            "marker": {
             "line": {
              "color": "#E5ECF6",
              "width": 0.5
             },
             "pattern": {
              "fillmode": "overlay",
              "size": 10,
              "solidity": 0.2
             }
            },
            "type": "barpolar"
           }
          ],
          "carpet": [
           {
            "aaxis": {
             "endlinecolor": "#2a3f5f",
             "gridcolor": "white",
             "linecolor": "white",
             "minorgridcolor": "white",
             "startlinecolor": "#2a3f5f"
            },
            "baxis": {
             "endlinecolor": "#2a3f5f",
             "gridcolor": "white",
             "linecolor": "white",
             "minorgridcolor": "white",
             "startlinecolor": "#2a3f5f"
            },
            "type": "carpet"
           }
          ],
          "choropleth": [
           {
            "colorbar": {
             "outlinewidth": 0,
             "ticks": ""
            },
            "type": "choropleth"
           }
          ],
          "contour": [
           {
            "colorbar": {
             "outlinewidth": 0,
             "ticks": ""
            },
            "colorscale": [
             [
              0,
              "#0d0887"
             ],
             [
              0.1111111111111111,
              "#46039f"
             ],
             [
              0.2222222222222222,
              "#7201a8"
             ],
             [
              0.3333333333333333,
              "#9c179e"
             ],
             [
              0.4444444444444444,
              "#bd3786"
             ],
             [
              0.5555555555555556,
              "#d8576b"
             ],
             [
              0.6666666666666666,
              "#ed7953"
             ],
             [
              0.7777777777777778,
              "#fb9f3a"
             ],
             [
              0.8888888888888888,
              "#fdca26"
             ],
             [
              1,
              "#f0f921"
             ]
            ],
            "type": "contour"
           }
          ],
          "contourcarpet": [
           {
            "colorbar": {
             "outlinewidth": 0,
             "ticks": ""
            },
            "type": "contourcarpet"
           }
          ],
          "heatmap": [
           {
            "colorbar": {
             "outlinewidth": 0,
             "ticks": ""
            },
            "colorscale": [
             [
              0,
              "#0d0887"
             ],
             [
              0.1111111111111111,
              "#46039f"
             ],
             [
              0.2222222222222222,
              "#7201a8"
             ],
             [
              0.3333333333333333,
              "#9c179e"
             ],
             [
              0.4444444444444444,
              "#bd3786"
             ],
             [
              0.5555555555555556,
              "#d8576b"
             ],
             [
              0.6666666666666666,
              "#ed7953"
             ],
             [
              0.7777777777777778,
              "#fb9f3a"
             ],
             [
              0.8888888888888888,
              "#fdca26"
             ],
             [
              1,
              "#f0f921"
             ]
            ],
            "type": "heatmap"
           }
          ],
          "heatmapgl": [
           {
            "colorbar": {
             "outlinewidth": 0,
             "ticks": ""
            },
            "colorscale": [
             [
              0,
              "#0d0887"
             ],
             [
              0.1111111111111111,
              "#46039f"
             ],
             [
              0.2222222222222222,
              "#7201a8"
             ],
             [
              0.3333333333333333,
              "#9c179e"
             ],
             [
              0.4444444444444444,
              "#bd3786"
             ],
             [
              0.5555555555555556,
              "#d8576b"
             ],
             [
              0.6666666666666666,
              "#ed7953"
             ],
             [
              0.7777777777777778,
              "#fb9f3a"
             ],
             [
              0.8888888888888888,
              "#fdca26"
             ],
             [
              1,
              "#f0f921"
             ]
            ],
            "type": "heatmapgl"
           }
          ],
          "histogram": [
           {
            "marker": {
             "pattern": {
              "fillmode": "overlay",
              "size": 10,
              "solidity": 0.2
             }
            },
            "type": "histogram"
           }
          ],
          "histogram2d": [
           {
            "colorbar": {
             "outlinewidth": 0,
             "ticks": ""
            },
            "colorscale": [
             [
              0,
              "#0d0887"
             ],
             [
              0.1111111111111111,
              "#46039f"
             ],
             [
              0.2222222222222222,
              "#7201a8"
             ],
             [
              0.3333333333333333,
              "#9c179e"
             ],
             [
              0.4444444444444444,
              "#bd3786"
             ],
             [
              0.5555555555555556,
              "#d8576b"
             ],
             [
              0.6666666666666666,
              "#ed7953"
             ],
             [
              0.7777777777777778,
              "#fb9f3a"
             ],
             [
              0.8888888888888888,
              "#fdca26"
             ],
             [
              1,
              "#f0f921"
             ]
            ],
            "type": "histogram2d"
           }
          ],
          "histogram2dcontour": [
           {
            "colorbar": {
             "outlinewidth": 0,
             "ticks": ""
            },
            "colorscale": [
             [
              0,
              "#0d0887"
             ],
             [
              0.1111111111111111,
              "#46039f"
             ],
             [
              0.2222222222222222,
              "#7201a8"
             ],
             [
              0.3333333333333333,
              "#9c179e"
             ],
             [
              0.4444444444444444,
              "#bd3786"
             ],
             [
              0.5555555555555556,
              "#d8576b"
             ],
             [
              0.6666666666666666,
              "#ed7953"
             ],
             [
              0.7777777777777778,
              "#fb9f3a"
             ],
             [
              0.8888888888888888,
              "#fdca26"
             ],
             [
              1,
              "#f0f921"
             ]
            ],
            "type": "histogram2dcontour"
           }
          ],
          "mesh3d": [
           {
            "colorbar": {
             "outlinewidth": 0,
             "ticks": ""
            },
            "type": "mesh3d"
           }
          ],
          "parcoords": [
           {
            "line": {
             "colorbar": {
              "outlinewidth": 0,
              "ticks": ""
             }
            },
            "type": "parcoords"
           }
          ],
          "pie": [
           {
            "automargin": true,
            "type": "pie"
           }
          ],
          "scatter": [
           {
            "fillpattern": {
             "fillmode": "overlay",
             "size": 10,
             "solidity": 0.2
            },
            "type": "scatter"
           }
          ],
          "scatter3d": [
           {
            "line": {
             "colorbar": {
              "outlinewidth": 0,
              "ticks": ""
             }
            },
            "marker": {
             "colorbar": {
              "outlinewidth": 0,
              "ticks": ""
             }
            },
            "type": "scatter3d"
           }
          ],
          "scattercarpet": [
           {
            "marker": {
             "colorbar": {
              "outlinewidth": 0,
              "ticks": ""
             }
            },
            "type": "scattercarpet"
           }
          ],
          "scattergeo": [
           {
            "marker": {
             "colorbar": {
              "outlinewidth": 0,
              "ticks": ""
             }
            },
            "type": "scattergeo"
           }
          ],
          "scattergl": [
           {
            "marker": {
             "colorbar": {
              "outlinewidth": 0,
              "ticks": ""
             }
            },
            "type": "scattergl"
           }
          ],
          "scattermapbox": [
           {
            "marker": {
             "colorbar": {
              "outlinewidth": 0,
              "ticks": ""
             }
            },
            "type": "scattermapbox"
           }
          ],
          "scatterpolar": [
           {
            "marker": {
             "colorbar": {
              "outlinewidth": 0,
              "ticks": ""
             }
            },
            "type": "scatterpolar"
           }
          ],
          "scatterpolargl": [
           {
            "marker": {
             "colorbar": {
              "outlinewidth": 0,
              "ticks": ""
             }
            },
            "type": "scatterpolargl"
           }
          ],
          "scatterternary": [
           {
            "marker": {
             "colorbar": {
              "outlinewidth": 0,
              "ticks": ""
             }
            },
            "type": "scatterternary"
           }
          ],
          "surface": [
           {
            "colorbar": {
             "outlinewidth": 0,
             "ticks": ""
            },
            "colorscale": [
             [
              0,
              "#0d0887"
             ],
             [
              0.1111111111111111,
              "#46039f"
             ],
             [
              0.2222222222222222,
              "#7201a8"
             ],
             [
              0.3333333333333333,
              "#9c179e"
             ],
             [
              0.4444444444444444,
              "#bd3786"
             ],
             [
              0.5555555555555556,
              "#d8576b"
             ],
             [
              0.6666666666666666,
              "#ed7953"
             ],
             [
              0.7777777777777778,
              "#fb9f3a"
             ],
             [
              0.8888888888888888,
              "#fdca26"
             ],
             [
              1,
              "#f0f921"
             ]
            ],
            "type": "surface"
           }
          ],
          "table": [
           {
            "cells": {
             "fill": {
              "color": "#EBF0F8"
             },
             "line": {
              "color": "white"
             }
            },
            "header": {
             "fill": {
              "color": "#C8D4E3"
             },
             "line": {
              "color": "white"
             }
            },
            "type": "table"
           }
          ]
         },
         "layout": {
          "annotationdefaults": {
           "arrowcolor": "#2a3f5f",
           "arrowhead": 0,
           "arrowwidth": 1
          },
          "autotypenumbers": "strict",
          "coloraxis": {
           "colorbar": {
            "outlinewidth": 0,
            "ticks": ""
           }
          },
          "colorscale": {
           "diverging": [
            [
             0,
             "#8e0152"
            ],
            [
             0.1,
             "#c51b7d"
            ],
            [
             0.2,
             "#de77ae"
            ],
            [
             0.3,
             "#f1b6da"
            ],
            [
             0.4,
             "#fde0ef"
            ],
            [
             0.5,
             "#f7f7f7"
            ],
            [
             0.6,
             "#e6f5d0"
            ],
            [
             0.7,
             "#b8e186"
            ],
            [
             0.8,
             "#7fbc41"
            ],
            [
             0.9,
             "#4d9221"
            ],
            [
             1,
             "#276419"
            ]
           ],
           "sequential": [
            [
             0,
             "#0d0887"
            ],
            [
             0.1111111111111111,
             "#46039f"
            ],
            [
             0.2222222222222222,
             "#7201a8"
            ],
            [
             0.3333333333333333,
             "#9c179e"
            ],
            [
             0.4444444444444444,
             "#bd3786"
            ],
            [
             0.5555555555555556,
             "#d8576b"
            ],
            [
             0.6666666666666666,
             "#ed7953"
            ],
            [
             0.7777777777777778,
             "#fb9f3a"
            ],
            [
             0.8888888888888888,
             "#fdca26"
            ],
            [
             1,
             "#f0f921"
            ]
           ],
           "sequentialminus": [
            [
             0,
             "#0d0887"
            ],
            [
             0.1111111111111111,
             "#46039f"
            ],
            [
             0.2222222222222222,
             "#7201a8"
            ],
            [
             0.3333333333333333,
             "#9c179e"
            ],
            [
             0.4444444444444444,
             "#bd3786"
            ],
            [
             0.5555555555555556,
             "#d8576b"
            ],
            [
             0.6666666666666666,
             "#ed7953"
            ],
            [
             0.7777777777777778,
             "#fb9f3a"
            ],
            [
             0.8888888888888888,
             "#fdca26"
            ],
            [
             1,
             "#f0f921"
            ]
           ]
          },
          "colorway": [
           "#636efa",
           "#EF553B",
           "#00cc96",
           "#ab63fa",
           "#FFA15A",
           "#19d3f3",
           "#FF6692",
           "#B6E880",
           "#FF97FF",
           "#FECB52"
          ],
          "font": {
           "color": "#2a3f5f"
          },
          "geo": {
           "bgcolor": "white",
           "lakecolor": "white",
           "landcolor": "#E5ECF6",
           "showlakes": true,
           "showland": true,
           "subunitcolor": "white"
          },
          "hoverlabel": {
           "align": "left"
          },
          "hovermode": "closest",
          "mapbox": {
           "style": "light"
          },
          "paper_bgcolor": "white",
          "plot_bgcolor": "#E5ECF6",
          "polar": {
           "angularaxis": {
            "gridcolor": "white",
            "linecolor": "white",
            "ticks": ""
           },
           "bgcolor": "#E5ECF6",
           "radialaxis": {
            "gridcolor": "white",
            "linecolor": "white",
            "ticks": ""
           }
          },
          "scene": {
           "xaxis": {
            "backgroundcolor": "#E5ECF6",
            "gridcolor": "white",
            "gridwidth": 2,
            "linecolor": "white",
            "showbackground": true,
            "ticks": "",
            "zerolinecolor": "white"
           },
           "yaxis": {
            "backgroundcolor": "#E5ECF6",
            "gridcolor": "white",
            "gridwidth": 2,
            "linecolor": "white",
            "showbackground": true,
            "ticks": "",
            "zerolinecolor": "white"
           },
           "zaxis": {
            "backgroundcolor": "#E5ECF6",
            "gridcolor": "white",
            "gridwidth": 2,
            "linecolor": "white",
            "showbackground": true,
            "ticks": "",
            "zerolinecolor": "white"
           }
          },
          "shapedefaults": {
           "line": {
            "color": "#2a3f5f"
           }
          },
          "ternary": {
           "aaxis": {
            "gridcolor": "white",
            "linecolor": "white",
            "ticks": ""
           },
           "baxis": {
            "gridcolor": "white",
            "linecolor": "white",
            "ticks": ""
           },
           "bgcolor": "#E5ECF6",
           "caxis": {
            "gridcolor": "white",
            "linecolor": "white",
            "ticks": ""
           }
          },
          "title": {
           "x": 0.05
          },
          "xaxis": {
           "automargin": true,
           "gridcolor": "white",
           "linecolor": "white",
           "ticks": "",
           "title": {
            "standoff": 15
           },
           "zerolinecolor": "white",
           "zerolinewidth": 2
          },
          "yaxis": {
           "automargin": true,
           "gridcolor": "white",
           "linecolor": "white",
           "ticks": "",
           "title": {
            "standoff": 15
           },
           "zerolinecolor": "white",
           "zerolinewidth": 2
          }
         }
        },
        "title": {
         "text": "Most common 3-grams in misleading reviews"
        },
        "width": 700,
        "xaxis": {
         "anchor": "y",
         "domain": [
          0,
          1
         ],
         "visible": false
        },
        "yaxis": {
         "anchor": "x",
         "domain": [
          0,
          1
         ],
         "visible": false
        }
       }
      }
     },
     "metadata": {},
     "output_type": "display_data"
    }
   ],
   "source": [
    "from wordcloud import WordCloud\n",
    "from PIL import Image\n",
    "\n",
    "ngrams_str = \" \".join(n_grams_3)\n",
    "\n",
    "# make house-shaped mask\n",
    "mask = np.array(Image.open(\"../../house_shape.png\"))\n",
    "# fill transparent areas with white\n",
    "mask[mask[:, :, 3] == 0] = [255, 255, 255, 255]\n",
    "\n",
    "# generate wordcloud\n",
    "wc = WordCloud(\n",
    "    background_color=\"white\", \n",
    "    max_words=1000, \n",
    "    width=mask.shape[0]*5,\n",
    "    height=mask.shape[1]*5,\n",
    "    mask = mask,\n",
    "    contour_width=3,\n",
    "    contour_color='steelblue',\n",
    "    colormap=\"twilight_shifted\"\n",
    ").generate(ngrams_str)\n",
    "\n",
    "wc\n",
    "\n",
    "# show wordcloud\n",
    "fig = px.imshow(wc, title=f\"Most common {N}-grams in misleading reviews\", width=700, height=700)\n",
    "fig.update_xaxes(visible=False)\n",
    "fig.update_yaxes(visible=False)\n",
    "fig.show()"
   ]
  },
  {
   "attachments": {},
   "cell_type": "markdown",
   "metadata": {},
   "source": [
    "## Word Embeddings\n",
    "Another way to look at the data is to use word embeddings. We can use the word2vec model from gensim to create word embeddings for each word in the dataset. We can then use t-SNE to reduce the dimensionality of the word embeddings to 2 dimensions, and plot them on a scatter plot. We can then color the points by the label of the review."
   ]
  },
  {
   "cell_type": "code",
   "execution_count": null,
   "metadata": {},
   "outputs": [],
   "source": []
  },
  {
   "attachments": {},
   "cell_type": "markdown",
   "metadata": {},
   "source": [
    "# Generate Features"
   ]
  },
  {
   "attachments": {},
   "cell_type": "markdown",
   "metadata": {},
   "source": [
    "With what we know, let's generate some features. I've provided a function for each type of feature, so we can mix and match."
   ]
  },
  {
   "cell_type": "code",
   "execution_count": 358,
   "metadata": {},
   "outputs": [
    {
     "name": "stdout",
     "output_type": "stream",
     "text": [
      "(978, 108)\n"
     ]
    },
    {
     "data": {
      "text/html": [
       "<div>\n",
       "<style scoped>\n",
       "    .dataframe tbody tr th:only-of-type {\n",
       "        vertical-align: middle;\n",
       "    }\n",
       "\n",
       "    .dataframe tbody tr th {\n",
       "        vertical-align: top;\n",
       "    }\n",
       "\n",
       "    .dataframe thead th {\n",
       "        text-align: right;\n",
       "    }\n",
       "</style>\n",
       "<table border=\"1\" class=\"dataframe\">\n",
       "  <thead>\n",
       "    <tr style=\"text-align: right;\">\n",
       "      <th></th>\n",
       "      <th>drive_south_congress</th>\n",
       "      <th>great_place_great</th>\n",
       "      <th>even_gave_u</th>\n",
       "      <th>safe_walking_around</th>\n",
       "      <th>check_check_procedure</th>\n",
       "      <th>would_not_recommend</th>\n",
       "      <th>also_gave_u</th>\n",
       "      <th>make_feel_like</th>\n",
       "      <th>arrived_late_evening</th>\n",
       "      <th>u_feel_comfortable</th>\n",
       "      <th>...</th>\n",
       "      <th>walking_distance_great</th>\n",
       "      <th>host_very_responsive</th>\n",
       "      <th>enjoyed_stay_very</th>\n",
       "      <th>made_u_feel</th>\n",
       "      <th>very_comfortable_stay</th>\n",
       "      <th>available_answer_question</th>\n",
       "      <th>not_big_deal</th>\n",
       "      <th>not_bother_u</th>\n",
       "      <th>review_id</th>\n",
       "      <th>label</th>\n",
       "    </tr>\n",
       "  </thead>\n",
       "  <tbody>\n",
       "    <tr>\n",
       "      <th>0</th>\n",
       "      <td>0</td>\n",
       "      <td>0</td>\n",
       "      <td>0</td>\n",
       "      <td>0</td>\n",
       "      <td>0</td>\n",
       "      <td>0</td>\n",
       "      <td>0</td>\n",
       "      <td>0</td>\n",
       "      <td>0</td>\n",
       "      <td>0</td>\n",
       "      <td>...</td>\n",
       "      <td>0</td>\n",
       "      <td>0</td>\n",
       "      <td>0</td>\n",
       "      <td>0</td>\n",
       "      <td>0</td>\n",
       "      <td>0</td>\n",
       "      <td>0</td>\n",
       "      <td>0</td>\n",
       "      <td>83097</td>\n",
       "      <td>good</td>\n",
       "    </tr>\n",
       "    <tr>\n",
       "      <th>1</th>\n",
       "      <td>0</td>\n",
       "      <td>0</td>\n",
       "      <td>0</td>\n",
       "      <td>0</td>\n",
       "      <td>0</td>\n",
       "      <td>0</td>\n",
       "      <td>0</td>\n",
       "      <td>0</td>\n",
       "      <td>0</td>\n",
       "      <td>0</td>\n",
       "      <td>...</td>\n",
       "      <td>0</td>\n",
       "      <td>0</td>\n",
       "      <td>0</td>\n",
       "      <td>0</td>\n",
       "      <td>0</td>\n",
       "      <td>0</td>\n",
       "      <td>0</td>\n",
       "      <td>0</td>\n",
       "      <td>133337</td>\n",
       "      <td>good</td>\n",
       "    </tr>\n",
       "    <tr>\n",
       "      <th>2</th>\n",
       "      <td>0</td>\n",
       "      <td>0</td>\n",
       "      <td>0</td>\n",
       "      <td>0</td>\n",
       "      <td>0</td>\n",
       "      <td>0</td>\n",
       "      <td>0</td>\n",
       "      <td>0</td>\n",
       "      <td>0</td>\n",
       "      <td>0</td>\n",
       "      <td>...</td>\n",
       "      <td>0</td>\n",
       "      <td>0</td>\n",
       "      <td>0</td>\n",
       "      <td>0</td>\n",
       "      <td>0</td>\n",
       "      <td>0</td>\n",
       "      <td>0</td>\n",
       "      <td>0</td>\n",
       "      <td>150928</td>\n",
       "      <td>good</td>\n",
       "    </tr>\n",
       "    <tr>\n",
       "      <th>3</th>\n",
       "      <td>0</td>\n",
       "      <td>0</td>\n",
       "      <td>0</td>\n",
       "      <td>0</td>\n",
       "      <td>0</td>\n",
       "      <td>0</td>\n",
       "      <td>0</td>\n",
       "      <td>0</td>\n",
       "      <td>0</td>\n",
       "      <td>0</td>\n",
       "      <td>...</td>\n",
       "      <td>0</td>\n",
       "      <td>0</td>\n",
       "      <td>0</td>\n",
       "      <td>0</td>\n",
       "      <td>0</td>\n",
       "      <td>0</td>\n",
       "      <td>0</td>\n",
       "      <td>0</td>\n",
       "      <td>2706775</td>\n",
       "      <td>good</td>\n",
       "    </tr>\n",
       "    <tr>\n",
       "      <th>4</th>\n",
       "      <td>0</td>\n",
       "      <td>0</td>\n",
       "      <td>0</td>\n",
       "      <td>0</td>\n",
       "      <td>0</td>\n",
       "      <td>0</td>\n",
       "      <td>0</td>\n",
       "      <td>0</td>\n",
       "      <td>0</td>\n",
       "      <td>0</td>\n",
       "      <td>...</td>\n",
       "      <td>0</td>\n",
       "      <td>0</td>\n",
       "      <td>0</td>\n",
       "      <td>0</td>\n",
       "      <td>0</td>\n",
       "      <td>0</td>\n",
       "      <td>0</td>\n",
       "      <td>0</td>\n",
       "      <td>8602878</td>\n",
       "      <td>good</td>\n",
       "    </tr>\n",
       "  </tbody>\n",
       "</table>\n",
       "<p>5 rows × 108 columns</p>\n",
       "</div>"
      ],
      "text/plain": [
       "   drive_south_congress  great_place_great  even_gave_u  safe_walking_around  \\\n",
       "0                     0                  0            0                    0   \n",
       "1                     0                  0            0                    0   \n",
       "2                     0                  0            0                    0   \n",
       "3                     0                  0            0                    0   \n",
       "4                     0                  0            0                    0   \n",
       "\n",
       "   check_check_procedure  would_not_recommend  also_gave_u  make_feel_like  \\\n",
       "0                      0                    0            0               0   \n",
       "1                      0                    0            0               0   \n",
       "2                      0                    0            0               0   \n",
       "3                      0                    0            0               0   \n",
       "4                      0                    0            0               0   \n",
       "\n",
       "   arrived_late_evening  u_feel_comfortable  ...  walking_distance_great  \\\n",
       "0                     0                   0  ...                       0   \n",
       "1                     0                   0  ...                       0   \n",
       "2                     0                   0  ...                       0   \n",
       "3                     0                   0  ...                       0   \n",
       "4                     0                   0  ...                       0   \n",
       "\n",
       "   host_very_responsive  enjoyed_stay_very  made_u_feel  \\\n",
       "0                     0                  0            0   \n",
       "1                     0                  0            0   \n",
       "2                     0                  0            0   \n",
       "3                     0                  0            0   \n",
       "4                     0                  0            0   \n",
       "\n",
       "   very_comfortable_stay  available_answer_question  not_big_deal  \\\n",
       "0                      0                          0             0   \n",
       "1                      0                          0             0   \n",
       "2                      0                          0             0   \n",
       "3                      0                          0             0   \n",
       "4                      0                          0             0   \n",
       "\n",
       "   not_bother_u  review_id  label  \n",
       "0             0      83097   good  \n",
       "1             0     133337   good  \n",
       "2             0     150928   good  \n",
       "3             0    2706775   good  \n",
       "4             0    8602878   good  \n",
       "\n",
       "[5 rows x 108 columns]"
      ]
     },
     "execution_count": 358,
     "metadata": {},
     "output_type": "execute_result"
    }
   ],
   "source": [
    "from collections import Counter\n",
    "\n",
    "def ngrams_features(features, n):\n",
    "    \"\"\"Add n-gram features to the features dataframe.\"\"\"\n",
    "\n",
    "    # one-hot encode ngrams\n",
    "    df[\"ngrams\"] = df.comments.apply(lambda x: set(get_consecutive_ngrams(x, 3)))\n",
    "\n",
    "    # get ngrams that are common in misleading reviews\n",
    "    misleading = df[df.label.isin([\"mbad\", \"mgood\"])]\n",
    "    ng_set = set(series_to_ngrams(subset.comments, n).to_list())\n",
    "\n",
    "    # one-hot encode ngrams\n",
    "    ngram_features = {}\n",
    "    for ngram in ng_set:\n",
    "        ngram_features[ngram] = df.ngrams.apply(lambda ngrams: 1 if ngram in ngrams else 0)\n",
    "    ngram_df = pd.DataFrame(ngram_features)\n",
    "    features = pd.concat([features, ngram_df], axis=1)\n",
    "\n",
    "    # Only keep ngram features that appear in at least 3 reviews\n",
    "    min_num_reviews = 3\n",
    "    num_reviews_ngram_is_in = features.apply(lambda x: x > 0).sum()\n",
    "    ngram_features_to_drop= num_reviews_ngram_is_in[num_reviews_ngram_is_in < min_num_reviews].index\n",
    "\n",
    "    features = features.drop(ngram_features_to_drop, axis=1)\n",
    "\n",
    "    return features\n",
    "\n",
    "# build features\n",
    "features = pd.DataFrame()\n",
    "features = ngrams_features(features, 3)\n",
    "\n",
    "# add id and label\n",
    "features[\"review_id\"] = df.review_id\n",
    "features[\"label\"] = df.label\n",
    "\n",
    "print(features.shape)\n",
    "features.head()"
   ]
  },
  {
   "cell_type": "code",
   "execution_count": 359,
   "metadata": {},
   "outputs": [],
   "source": [
    "if isinstance(GEO, list):\n",
    "    geo_display_name = \"_\".join(GEO)\n",
    "else:\n",
    "    geo_display_name = GEO\n",
    "\n",
    "features.to_csv(f\"../../data/processed/features_{geo_display_name}.csv\", index=False)"
   ]
  },
  {
   "cell_type": "code",
   "execution_count": null,
   "metadata": {},
   "outputs": [],
   "source": []
  }
 ],
 "metadata": {
  "kernelspec": {
   "display_name": "venv",
   "language": "python",
   "name": "python3"
  },
  "language_info": {
   "codemirror_mode": {
    "name": "ipython",
    "version": 3
   },
   "file_extension": ".py",
   "mimetype": "text/x-python",
   "name": "python",
   "nbconvert_exporter": "python",
   "pygments_lexer": "ipython3",
   "version": "3.10.4"
  },
  "orig_nbformat": 4,
  "vscode": {
   "interpreter": {
    "hash": "cf086def782804284d24881115c612afdcc8ea791299ba67855f0c7f1a9ccc5a"
   }
  }
 },
 "nbformat": 4,
 "nbformat_minor": 2
}
