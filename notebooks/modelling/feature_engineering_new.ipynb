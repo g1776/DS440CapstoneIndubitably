{
 "cells": [
  {
   "attachments": {},
   "cell_type": "markdown",
   "metadata": {},
   "source": [
    "## Feature Engineering on the processed dataset"
   ]
  },
  {
   "cell_type": "code",
   "execution_count": 1,
   "metadata": {},
   "outputs": [],
   "source": [
    "import pandas as pd\n",
    "import numpy as np\n",
    "import matplotlib.pyplot as plt\n",
    "import plotly.express as px\n",
    "import warnings\n",
    "warnings.simplefilter(action='ignore', category=pd.errors.PerformanceWarning)"
   ]
  },
  {
   "cell_type": "code",
   "execution_count": 2,
   "metadata": {},
   "outputs": [
    {
     "name": "stdout",
     "output_type": "stream",
     "text": [
      "(1546, 9)\n"
     ]
    },
    {
     "data": {
      "text/html": [
       "<div>\n",
       "<style scoped>\n",
       "    .dataframe tbody tr th:only-of-type {\n",
       "        vertical-align: middle;\n",
       "    }\n",
       "\n",
       "    .dataframe tbody tr th {\n",
       "        vertical-align: top;\n",
       "    }\n",
       "\n",
       "    .dataframe thead th {\n",
       "        text-align: right;\n",
       "    }\n",
       "</style>\n",
       "<table border=\"1\" class=\"dataframe\">\n",
       "  <thead>\n",
       "    <tr style=\"text-align: right;\">\n",
       "      <th></th>\n",
       "      <th>review_id</th>\n",
       "      <th>listing_id</th>\n",
       "      <th>description</th>\n",
       "      <th>comments</th>\n",
       "      <th>sentiment</th>\n",
       "      <th>label</th>\n",
       "      <th>name</th>\n",
       "      <th>amenities</th>\n",
       "      <th>source</th>\n",
       "    </tr>\n",
       "  </thead>\n",
       "  <tbody>\n",
       "    <tr>\n",
       "      <th>0</th>\n",
       "      <td>83097</td>\n",
       "      <td>5456</td>\n",
       "      <td>[fabulous, location, walking, convention, cent...</td>\n",
       "      <td>[sylvia, very, nice, informal, relaxed, arrive...</td>\n",
       "      <td>4.333333</td>\n",
       "      <td>good</td>\n",
       "      <td>['walk', '6th', 'rainey', 'st', 'convention', ...</td>\n",
       "      <td>[TV, Wifi, Air conditioning, Kitchen, Pets liv...</td>\n",
       "      <td>texas</td>\n",
       "    </tr>\n",
       "    <tr>\n",
       "      <th>1</th>\n",
       "      <td>133337</td>\n",
       "      <td>5456</td>\n",
       "      <td>[fabulous, location, walking, convention, cent...</td>\n",
       "      <td>[sylvia, picked, airport, gave, beautiful, eve...</td>\n",
       "      <td>4.000000</td>\n",
       "      <td>good</td>\n",
       "      <td>['walk', '6th', 'rainey', 'st', 'convention', ...</td>\n",
       "      <td>[TV, Wifi, Air conditioning, Kitchen, Pets liv...</td>\n",
       "      <td>texas</td>\n",
       "    </tr>\n",
       "    <tr>\n",
       "      <th>2</th>\n",
       "      <td>150928</td>\n",
       "      <td>5456</td>\n",
       "      <td>[fabulous, location, walking, convention, cent...</td>\n",
       "      <td>[lovely, time, enjoyed, apartment, clean, spac...</td>\n",
       "      <td>3.000000</td>\n",
       "      <td>good</td>\n",
       "      <td>['walk', '6th', 'rainey', 'st', 'convention', ...</td>\n",
       "      <td>[TV, Wifi, Air conditioning, Kitchen, Pets liv...</td>\n",
       "      <td>texas</td>\n",
       "    </tr>\n",
       "    <tr>\n",
       "      <th>3</th>\n",
       "      <td>2706775</td>\n",
       "      <td>5456</td>\n",
       "      <td>[fabulous, location, walking, convention, cent...</td>\n",
       "      <td>[sylvia, excellent, host, stayed, touch, made,...</td>\n",
       "      <td>4.500000</td>\n",
       "      <td>good</td>\n",
       "      <td>['walk', '6th', 'rainey', 'st', 'convention', ...</td>\n",
       "      <td>[TV, Wifi, Air conditioning, Kitchen, Pets liv...</td>\n",
       "      <td>texas</td>\n",
       "    </tr>\n",
       "    <tr>\n",
       "      <th>4</th>\n",
       "      <td>8602878</td>\n",
       "      <td>5456</td>\n",
       "      <td>[fabulous, location, walking, convention, cent...</td>\n",
       "      <td>[place, cute, little, self, contained, cottage...</td>\n",
       "      <td>4.000000</td>\n",
       "      <td>good</td>\n",
       "      <td>['walk', '6th', 'rainey', 'st', 'convention', ...</td>\n",
       "      <td>[TV, Wifi, Air conditioning, Kitchen, Pets liv...</td>\n",
       "      <td>texas</td>\n",
       "    </tr>\n",
       "  </tbody>\n",
       "</table>\n",
       "</div>"
      ],
      "text/plain": [
       "   review_id  listing_id                                        description  \\\n",
       "0      83097        5456  [fabulous, location, walking, convention, cent...   \n",
       "1     133337        5456  [fabulous, location, walking, convention, cent...   \n",
       "2     150928        5456  [fabulous, location, walking, convention, cent...   \n",
       "3    2706775        5456  [fabulous, location, walking, convention, cent...   \n",
       "4    8602878        5456  [fabulous, location, walking, convention, cent...   \n",
       "\n",
       "                                            comments  sentiment label  \\\n",
       "0  [sylvia, very, nice, informal, relaxed, arrive...   4.333333  good   \n",
       "1  [sylvia, picked, airport, gave, beautiful, eve...   4.000000  good   \n",
       "2  [lovely, time, enjoyed, apartment, clean, spac...   3.000000  good   \n",
       "3  [sylvia, excellent, host, stayed, touch, made,...   4.500000  good   \n",
       "4  [place, cute, little, self, contained, cottage...   4.000000  good   \n",
       "\n",
       "                                                name  \\\n",
       "0  ['walk', '6th', 'rainey', 'st', 'convention', ...   \n",
       "1  ['walk', '6th', 'rainey', 'st', 'convention', ...   \n",
       "2  ['walk', '6th', 'rainey', 'st', 'convention', ...   \n",
       "3  ['walk', '6th', 'rainey', 'st', 'convention', ...   \n",
       "4  ['walk', '6th', 'rainey', 'st', 'convention', ...   \n",
       "\n",
       "                                           amenities source  \n",
       "0  [TV, Wifi, Air conditioning, Kitchen, Pets liv...  texas  \n",
       "1  [TV, Wifi, Air conditioning, Kitchen, Pets liv...  texas  \n",
       "2  [TV, Wifi, Air conditioning, Kitchen, Pets liv...  texas  \n",
       "3  [TV, Wifi, Air conditioning, Kitchen, Pets liv...  texas  \n",
       "4  [TV, Wifi, Air conditioning, Kitchen, Pets liv...  texas  "
      ]
     },
     "execution_count": 2,
     "metadata": {},
     "output_type": "execute_result"
    }
   ],
   "source": [
    "# Read in the data\n",
    "GEO = [\"texas\", \"florida\"]\n",
    "\n",
    "if isinstance(GEO, str):\n",
    "    df = pd.read_csv(f\"../../data/processed/{GEO}_auto_processed.csv\")\n",
    "elif isinstance(GEO, list):\n",
    "    dfs = []\n",
    "    for geo in GEO:\n",
    "        df = pd.read_csv(f\"../../data/processed/{geo}_auto_processed.csv\")\n",
    "        df[\"source\"] = geo\n",
    "        dfs.append(df)\n",
    "    df = pd.concat(dfs)\n",
    "\n",
    "# eval list columns\n",
    "df.description = df.description.apply(lambda x: eval(x))\n",
    "df.comments = df.comments.apply(lambda x: eval(x))\n",
    "df.amenities = df.amenities.apply(lambda x: eval(x))\n",
    "\n",
    "df.reset_index(drop=True, inplace=True)\n",
    "\n",
    "print(df.shape)\n",
    "df.head()"
   ]
  },
  {
   "attachments": {},
   "cell_type": "markdown",
   "metadata": {},
   "source": [
    "### Distribution of labels"
   ]
  },
  {
   "attachments": {},
   "cell_type": "markdown",
   "metadata": {},
   "source": [
    "First, let's look at the distribution of labels in the processed dataset."
   ]
  },
  {
   "cell_type": "code",
   "execution_count": 3,
   "metadata": {},
   "outputs": [
    {
     "name": "stdout",
     "output_type": "stream",
     "text": [
      "mbad: 8.02%, mgood: 6.86%, mbad or mgood: 14.88%\n"
     ]
    },
    {
     "data": {
      "application/vnd.plotly.v1+json": {
       "config": {
        "plotlyServerURL": "https://plot.ly"
       },
       "data": [
        {
         "alignmentgroup": "True",
         "hovertemplate": "Label=%{x}<br>Count=%{y}<extra></extra>",
         "legendgroup": "",
         "marker": {
          "color": "#636efa",
          "pattern": {
           "shape": ""
          }
         },
         "name": "",
         "offsetgroup": "",
         "orientation": "v",
         "showlegend": false,
         "textposition": "auto",
         "type": "bar",
         "x": [
          "good",
          "mbad",
          "mgood",
          "bad"
         ],
         "xaxis": "x",
         "y": [
          1236,
          124,
          106,
          80
         ],
         "yaxis": "y"
        }
       ],
       "layout": {
        "barmode": "relative",
        "legend": {
         "tracegroupgap": 0
        },
        "template": {
         "data": {
          "bar": [
           {
            "error_x": {
             "color": "#2a3f5f"
            },
            "error_y": {
             "color": "#2a3f5f"
            },
            "marker": {
             "line": {
              "color": "#E5ECF6",
              "width": 0.5
             },
             "pattern": {
              "fillmode": "overlay",
              "size": 10,
              "solidity": 0.2
             }
            },
            "type": "bar"
           }
          ],
          "barpolar": [
           {
            "marker": {
             "line": {
              "color": "#E5ECF6",
              "width": 0.5
             },
             "pattern": {
              "fillmode": "overlay",
              "size": 10,
              "solidity": 0.2
             }
            },
            "type": "barpolar"
           }
          ],
          "carpet": [
           {
            "aaxis": {
             "endlinecolor": "#2a3f5f",
             "gridcolor": "white",
             "linecolor": "white",
             "minorgridcolor": "white",
             "startlinecolor": "#2a3f5f"
            },
            "baxis": {
             "endlinecolor": "#2a3f5f",
             "gridcolor": "white",
             "linecolor": "white",
             "minorgridcolor": "white",
             "startlinecolor": "#2a3f5f"
            },
            "type": "carpet"
           }
          ],
          "choropleth": [
           {
            "colorbar": {
             "outlinewidth": 0,
             "ticks": ""
            },
            "type": "choropleth"
           }
          ],
          "contour": [
           {
            "colorbar": {
             "outlinewidth": 0,
             "ticks": ""
            },
            "colorscale": [
             [
              0,
              "#0d0887"
             ],
             [
              0.1111111111111111,
              "#46039f"
             ],
             [
              0.2222222222222222,
              "#7201a8"
             ],
             [
              0.3333333333333333,
              "#9c179e"
             ],
             [
              0.4444444444444444,
              "#bd3786"
             ],
             [
              0.5555555555555556,
              "#d8576b"
             ],
             [
              0.6666666666666666,
              "#ed7953"
             ],
             [
              0.7777777777777778,
              "#fb9f3a"
             ],
             [
              0.8888888888888888,
              "#fdca26"
             ],
             [
              1,
              "#f0f921"
             ]
            ],
            "type": "contour"
           }
          ],
          "contourcarpet": [
           {
            "colorbar": {
             "outlinewidth": 0,
             "ticks": ""
            },
            "type": "contourcarpet"
           }
          ],
          "heatmap": [
           {
            "colorbar": {
             "outlinewidth": 0,
             "ticks": ""
            },
            "colorscale": [
             [
              0,
              "#0d0887"
             ],
             [
              0.1111111111111111,
              "#46039f"
             ],
             [
              0.2222222222222222,
              "#7201a8"
             ],
             [
              0.3333333333333333,
              "#9c179e"
             ],
             [
              0.4444444444444444,
              "#bd3786"
             ],
             [
              0.5555555555555556,
              "#d8576b"
             ],
             [
              0.6666666666666666,
              "#ed7953"
             ],
             [
              0.7777777777777778,
              "#fb9f3a"
             ],
             [
              0.8888888888888888,
              "#fdca26"
             ],
             [
              1,
              "#f0f921"
             ]
            ],
            "type": "heatmap"
           }
          ],
          "heatmapgl": [
           {
            "colorbar": {
             "outlinewidth": 0,
             "ticks": ""
            },
            "colorscale": [
             [
              0,
              "#0d0887"
             ],
             [
              0.1111111111111111,
              "#46039f"
             ],
             [
              0.2222222222222222,
              "#7201a8"
             ],
             [
              0.3333333333333333,
              "#9c179e"
             ],
             [
              0.4444444444444444,
              "#bd3786"
             ],
             [
              0.5555555555555556,
              "#d8576b"
             ],
             [
              0.6666666666666666,
              "#ed7953"
             ],
             [
              0.7777777777777778,
              "#fb9f3a"
             ],
             [
              0.8888888888888888,
              "#fdca26"
             ],
             [
              1,
              "#f0f921"
             ]
            ],
            "type": "heatmapgl"
           }
          ],
          "histogram": [
           {
            "marker": {
             "pattern": {
              "fillmode": "overlay",
              "size": 10,
              "solidity": 0.2
             }
            },
            "type": "histogram"
           }
          ],
          "histogram2d": [
           {
            "colorbar": {
             "outlinewidth": 0,
             "ticks": ""
            },
            "colorscale": [
             [
              0,
              "#0d0887"
             ],
             [
              0.1111111111111111,
              "#46039f"
             ],
             [
              0.2222222222222222,
              "#7201a8"
             ],
             [
              0.3333333333333333,
              "#9c179e"
             ],
             [
              0.4444444444444444,
              "#bd3786"
             ],
             [
              0.5555555555555556,
              "#d8576b"
             ],
             [
              0.6666666666666666,
              "#ed7953"
             ],
             [
              0.7777777777777778,
              "#fb9f3a"
             ],
             [
              0.8888888888888888,
              "#fdca26"
             ],
             [
              1,
              "#f0f921"
             ]
            ],
            "type": "histogram2d"
           }
          ],
          "histogram2dcontour": [
           {
            "colorbar": {
             "outlinewidth": 0,
             "ticks": ""
            },
            "colorscale": [
             [
              0,
              "#0d0887"
             ],
             [
              0.1111111111111111,
              "#46039f"
             ],
             [
              0.2222222222222222,
              "#7201a8"
             ],
             [
              0.3333333333333333,
              "#9c179e"
             ],
             [
              0.4444444444444444,
              "#bd3786"
             ],
             [
              0.5555555555555556,
              "#d8576b"
             ],
             [
              0.6666666666666666,
              "#ed7953"
             ],
             [
              0.7777777777777778,
              "#fb9f3a"
             ],
             [
              0.8888888888888888,
              "#fdca26"
             ],
             [
              1,
              "#f0f921"
             ]
            ],
            "type": "histogram2dcontour"
           }
          ],
          "mesh3d": [
           {
            "colorbar": {
             "outlinewidth": 0,
             "ticks": ""
            },
            "type": "mesh3d"
           }
          ],
          "parcoords": [
           {
            "line": {
             "colorbar": {
              "outlinewidth": 0,
              "ticks": ""
             }
            },
            "type": "parcoords"
           }
          ],
          "pie": [
           {
            "automargin": true,
            "type": "pie"
           }
          ],
          "scatter": [
           {
            "fillpattern": {
             "fillmode": "overlay",
             "size": 10,
             "solidity": 0.2
            },
            "type": "scatter"
           }
          ],
          "scatter3d": [
           {
            "line": {
             "colorbar": {
              "outlinewidth": 0,
              "ticks": ""
             }
            },
            "marker": {
             "colorbar": {
              "outlinewidth": 0,
              "ticks": ""
             }
            },
            "type": "scatter3d"
           }
          ],
          "scattercarpet": [
           {
            "marker": {
             "colorbar": {
              "outlinewidth": 0,
              "ticks": ""
             }
            },
            "type": "scattercarpet"
           }
          ],
          "scattergeo": [
           {
            "marker": {
             "colorbar": {
              "outlinewidth": 0,
              "ticks": ""
             }
            },
            "type": "scattergeo"
           }
          ],
          "scattergl": [
           {
            "marker": {
             "colorbar": {
              "outlinewidth": 0,
              "ticks": ""
             }
            },
            "type": "scattergl"
           }
          ],
          "scattermapbox": [
           {
            "marker": {
             "colorbar": {
              "outlinewidth": 0,
              "ticks": ""
             }
            },
            "type": "scattermapbox"
           }
          ],
          "scatterpolar": [
           {
            "marker": {
             "colorbar": {
              "outlinewidth": 0,
              "ticks": ""
             }
            },
            "type": "scatterpolar"
           }
          ],
          "scatterpolargl": [
           {
            "marker": {
             "colorbar": {
              "outlinewidth": 0,
              "ticks": ""
             }
            },
            "type": "scatterpolargl"
           }
          ],
          "scatterternary": [
           {
            "marker": {
             "colorbar": {
              "outlinewidth": 0,
              "ticks": ""
             }
            },
            "type": "scatterternary"
           }
          ],
          "surface": [
           {
            "colorbar": {
             "outlinewidth": 0,
             "ticks": ""
            },
            "colorscale": [
             [
              0,
              "#0d0887"
             ],
             [
              0.1111111111111111,
              "#46039f"
             ],
             [
              0.2222222222222222,
              "#7201a8"
             ],
             [
              0.3333333333333333,
              "#9c179e"
             ],
             [
              0.4444444444444444,
              "#bd3786"
             ],
             [
              0.5555555555555556,
              "#d8576b"
             ],
             [
              0.6666666666666666,
              "#ed7953"
             ],
             [
              0.7777777777777778,
              "#fb9f3a"
             ],
             [
              0.8888888888888888,
              "#fdca26"
             ],
             [
              1,
              "#f0f921"
             ]
            ],
            "type": "surface"
           }
          ],
          "table": [
           {
            "cells": {
             "fill": {
              "color": "#EBF0F8"
             },
             "line": {
              "color": "white"
             }
            },
            "header": {
             "fill": {
              "color": "#C8D4E3"
             },
             "line": {
              "color": "white"
             }
            },
            "type": "table"
           }
          ]
         },
         "layout": {
          "annotationdefaults": {
           "arrowcolor": "#2a3f5f",
           "arrowhead": 0,
           "arrowwidth": 1
          },
          "autotypenumbers": "strict",
          "coloraxis": {
           "colorbar": {
            "outlinewidth": 0,
            "ticks": ""
           }
          },
          "colorscale": {
           "diverging": [
            [
             0,
             "#8e0152"
            ],
            [
             0.1,
             "#c51b7d"
            ],
            [
             0.2,
             "#de77ae"
            ],
            [
             0.3,
             "#f1b6da"
            ],
            [
             0.4,
             "#fde0ef"
            ],
            [
             0.5,
             "#f7f7f7"
            ],
            [
             0.6,
             "#e6f5d0"
            ],
            [
             0.7,
             "#b8e186"
            ],
            [
             0.8,
             "#7fbc41"
            ],
            [
             0.9,
             "#4d9221"
            ],
            [
             1,
             "#276419"
            ]
           ],
           "sequential": [
            [
             0,
             "#0d0887"
            ],
            [
             0.1111111111111111,
             "#46039f"
            ],
            [
             0.2222222222222222,
             "#7201a8"
            ],
            [
             0.3333333333333333,
             "#9c179e"
            ],
            [
             0.4444444444444444,
             "#bd3786"
            ],
            [
             0.5555555555555556,
             "#d8576b"
            ],
            [
             0.6666666666666666,
             "#ed7953"
            ],
            [
             0.7777777777777778,
             "#fb9f3a"
            ],
            [
             0.8888888888888888,
             "#fdca26"
            ],
            [
             1,
             "#f0f921"
            ]
           ],
           "sequentialminus": [
            [
             0,
             "#0d0887"
            ],
            [
             0.1111111111111111,
             "#46039f"
            ],
            [
             0.2222222222222222,
             "#7201a8"
            ],
            [
             0.3333333333333333,
             "#9c179e"
            ],
            [
             0.4444444444444444,
             "#bd3786"
            ],
            [
             0.5555555555555556,
             "#d8576b"
            ],
            [
             0.6666666666666666,
             "#ed7953"
            ],
            [
             0.7777777777777778,
             "#fb9f3a"
            ],
            [
             0.8888888888888888,
             "#fdca26"
            ],
            [
             1,
             "#f0f921"
            ]
           ]
          },
          "colorway": [
           "#636efa",
           "#EF553B",
           "#00cc96",
           "#ab63fa",
           "#FFA15A",
           "#19d3f3",
           "#FF6692",
           "#B6E880",
           "#FF97FF",
           "#FECB52"
          ],
          "font": {
           "color": "#2a3f5f"
          },
          "geo": {
           "bgcolor": "white",
           "lakecolor": "white",
           "landcolor": "#E5ECF6",
           "showlakes": true,
           "showland": true,
           "subunitcolor": "white"
          },
          "hoverlabel": {
           "align": "left"
          },
          "hovermode": "closest",
          "mapbox": {
           "style": "light"
          },
          "paper_bgcolor": "white",
          "plot_bgcolor": "#E5ECF6",
          "polar": {
           "angularaxis": {
            "gridcolor": "white",
            "linecolor": "white",
            "ticks": ""
           },
           "bgcolor": "#E5ECF6",
           "radialaxis": {
            "gridcolor": "white",
            "linecolor": "white",
            "ticks": ""
           }
          },
          "scene": {
           "xaxis": {
            "backgroundcolor": "#E5ECF6",
            "gridcolor": "white",
            "gridwidth": 2,
            "linecolor": "white",
            "showbackground": true,
            "ticks": "",
            "zerolinecolor": "white"
           },
           "yaxis": {
            "backgroundcolor": "#E5ECF6",
            "gridcolor": "white",
            "gridwidth": 2,
            "linecolor": "white",
            "showbackground": true,
            "ticks": "",
            "zerolinecolor": "white"
           },
           "zaxis": {
            "backgroundcolor": "#E5ECF6",
            "gridcolor": "white",
            "gridwidth": 2,
            "linecolor": "white",
            "showbackground": true,
            "ticks": "",
            "zerolinecolor": "white"
           }
          },
          "shapedefaults": {
           "line": {
            "color": "#2a3f5f"
           }
          },
          "ternary": {
           "aaxis": {
            "gridcolor": "white",
            "linecolor": "white",
            "ticks": ""
           },
           "baxis": {
            "gridcolor": "white",
            "linecolor": "white",
            "ticks": ""
           },
           "bgcolor": "#E5ECF6",
           "caxis": {
            "gridcolor": "white",
            "linecolor": "white",
            "ticks": ""
           }
          },
          "title": {
           "x": 0.05
          },
          "xaxis": {
           "automargin": true,
           "gridcolor": "white",
           "linecolor": "white",
           "ticks": "",
           "title": {
            "standoff": 15
           },
           "zerolinecolor": "white",
           "zerolinewidth": 2
          },
          "yaxis": {
           "automargin": true,
           "gridcolor": "white",
           "linecolor": "white",
           "ticks": "",
           "title": {
            "standoff": 15
           },
           "zerolinecolor": "white",
           "zerolinewidth": 2
          }
         }
        },
        "title": {
         "text": "Distribution of labels (GEO=['texas', 'florida'])"
        },
        "xaxis": {
         "anchor": "y",
         "domain": [
          0,
          1
         ],
         "title": {
          "text": "Label"
         }
        },
        "yaxis": {
         "anchor": "x",
         "domain": [
          0,
          1
         ],
         "title": {
          "text": "Count"
         }
        }
       }
      }
     },
     "metadata": {},
     "output_type": "display_data"
    }
   ],
   "source": [
    "mbad_pcnt = df[df.label == \"mbad\"].shape[0] / df.shape[0]\n",
    "mgood_pcnt = df[df.label == \"mgood\"].shape[0] / df.shape[0]\n",
    "mbad_or_mgood_pcnt = df[df.label.isin([\"mbad\", \"mgood\"])].shape[0] / df.shape[0]\n",
    "print(\n",
    "    f\"mbad: {mbad_pcnt:.2%}, mgood: {mgood_pcnt:.2%}, mbad or mgood: {mbad_or_mgood_pcnt:.2%}\"\n",
    ")\n",
    "\n",
    "bar_vals = df.label.value_counts()\n",
    "\n",
    "fig = px.bar(\n",
    "    bar_vals,\n",
    "    x=bar_vals.index,\n",
    "    y=bar_vals.values,\n",
    "    title=f\"Distribution of labels (GEO={GEO})\",\n",
    "    labels={\"index\": \"Label\", \"y\": \"Count\"}\n",
    ")\n",
    "\n",
    "fig.show()"
   ]
  },
  {
   "attachments": {},
   "cell_type": "markdown",
   "metadata": {},
   "source": [
    "## Correlation filter helper function\n",
    "This function allows us to filter down to only include highly correlated features with the label."
   ]
  },
  {
   "cell_type": "code",
   "execution_count": 4,
   "metadata": {},
   "outputs": [],
   "source": [
    "def corr_filter(features, corr_thresh=0.05) -> pd.DataFrame:\n",
    "    \"\"\"Filter features based on correlation with label.\"\"\"\n",
    "\n",
    "    if corr_thresh is None:\n",
    "        return features\n",
    "\n",
    "    to_filter = features.copy()\n",
    "    \n",
    "    to_filter[\"review_id\"] = df.review_id\n",
    "    to_filter[\"label\"] = df.label\n",
    "\n",
    "    # drop na labels. Thanks Charlie :/\n",
    "    to_filter = to_filter.dropna(subset=[\"label\"])\n",
    "\n",
    "    # Turn labels into numbers\n",
    "    labels_list: list = to_filter.label.unique().tolist()\n",
    "    to_filter.label = to_filter.label.apply(lambda label: labels_list.index(label))\n",
    "\n",
    "    # calculate correlation of features with label\n",
    "    features_to_filter = to_filter.drop([\"review_id\", \"label\"], axis=1)\n",
    "    corrs = features_to_filter.corrwith(to_filter.label).sort_values(ascending=False)\n",
    "\n",
    "    # filter features\n",
    "    highly_correlated_features = corrs[corrs.abs() > corr_thresh].index\n",
    "    # drop features with nan correlation\n",
    "    highly_correlated_features = highly_correlated_features.dropna()\n",
    "\n",
    "    # filter features\n",
    "    print(f\"Features above correlation threshold ({corr_thresh}):\")\n",
    "    print(highly_correlated_features.tolist())\n",
    "    filtered = features[highly_correlated_features]\n",
    "    \n",
    "    return filtered"
   ]
  },
  {
   "attachments": {},
   "cell_type": "markdown",
   "metadata": {},
   "source": [
    "### Ngrams"
   ]
  },
  {
   "attachments": {},
   "cell_type": "markdown",
   "metadata": {},
   "source": [
    "What are the most common ngrams for the different types of reviews? What are the most common overlaps?"
   ]
  },
  {
   "cell_type": "code",
   "execution_count": 5,
   "metadata": {},
   "outputs": [],
   "source": [
    "def get_consecutive_ngrams(review, n) -> list:\n",
    "    \"\"\"Helper function to get ngrams from a review.\n",
    "\n",
    "    Args:\n",
    "        review (str): The review to get ngrams from.\n",
    "        n (int): The number of ngrams to get.\n",
    "\n",
    "    Returns:\n",
    "        list: the list of ngrams, joined by underscores.\n",
    "    \"\"\"\n",
    "    if isinstance(review, str):\n",
    "        review = review.split(\"\")\n",
    "\n",
    "    return [\"_\".join(review[i:i+n]) for i in range(len(review)-n-1)]\n",
    "\n",
    "def series_to_ngrams(series: pd.Series, N):\n",
    "    n_grams = series.apply(lambda x: get_consecutive_ngrams(x, N))\n",
    "    return n_grams.explode()\n",
    "\n",
    "def get_exclusive_sizes(good: set, bad: set, mgood: set, mbad: set) -> dict:\n",
    "    \"\"\"Get the sizes of the exclusive sets\"\"\"\n",
    "\n",
    "    only_good = good - bad - mgood - mbad\n",
    "    only_bad = bad - good - mgood - mbad\n",
    "    only_mgood = mgood - good - bad - mbad\n",
    "    only_mbad = mbad - good - bad - mgood\n",
    "    \n",
    "    return {\n",
    "        \"good\": len(only_good),\n",
    "        \"bad\": len(only_bad),\n",
    "        \"mgood\": len(only_mgood),\n",
    "        \"mbad\": len(only_mbad)\n",
    "    }"
   ]
  },
  {
   "attachments": {},
   "cell_type": "markdown",
   "metadata": {},
   "source": [
    "We can look at the number of unique values to each label for different values of N on a line chart."
   ]
  },
  {
   "cell_type": "code",
   "execution_count": 6,
   "metadata": {},
   "outputs": [
    {
     "data": {
      "application/vnd.plotly.v1+json": {
       "config": {
        "plotlyServerURL": "https://plot.ly"
       },
       "data": [
        {
         "hovertemplate": "label=bad<br>N-gram size=%{x}<br>Unique # of n-grams=%{y}<extra></extra>",
         "legendgroup": "bad",
         "line": {
          "color": "#636efa",
          "dash": "solid"
         },
         "marker": {
          "symbol": "circle"
         },
         "mode": "markers+lines",
         "name": "bad",
         "orientation": "v",
         "showlegend": true,
         "type": "scatter",
         "x": [
          1,
          2,
          3,
          4,
          5,
          6
         ],
         "xaxis": "x",
         "y": [
          387,
          5970,
          8193,
          8330,
          8260,
          8181
         ],
         "yaxis": "y"
        },
        {
         "hovertemplate": "label=mgood<br>N-gram size=%{x}<br>Unique # of n-grams=%{y}<extra></extra>",
         "legendgroup": "mgood",
         "line": {
          "color": "#EF553B",
          "dash": "solid"
         },
         "marker": {
          "symbol": "circle"
         },
         "mode": "markers+lines",
         "name": "mgood",
         "orientation": "v",
         "showlegend": true,
         "type": "scatter",
         "x": [
          1,
          2,
          3,
          4,
          5,
          6
         ],
         "xaxis": "x",
         "y": [
          235,
          4541,
          6795,
          7041,
          6984,
          6886
         ],
         "yaxis": "y"
        },
        {
         "hovertemplate": "label=mbad<br>N-gram size=%{x}<br>Unique # of n-grams=%{y}<extra></extra>",
         "legendgroup": "mbad",
         "line": {
          "color": "#00cc96",
          "dash": "solid"
         },
         "marker": {
          "symbol": "circle"
         },
         "mode": "markers+lines",
         "name": "mbad",
         "orientation": "v",
         "showlegend": true,
         "type": "scatter",
         "x": [
          1,
          2,
          3,
          4,
          5,
          6
         ],
         "xaxis": "x",
         "y": [
          634,
          9297,
          12856,
          13137,
          13040,
          12918
         ],
         "yaxis": "y"
        }
       ],
       "layout": {
        "legend": {
         "title": {
          "text": "label"
         },
         "tracegroupgap": 0
        },
        "template": {
         "data": {
          "bar": [
           {
            "error_x": {
             "color": "#2a3f5f"
            },
            "error_y": {
             "color": "#2a3f5f"
            },
            "marker": {
             "line": {
              "color": "#E5ECF6",
              "width": 0.5
             },
             "pattern": {
              "fillmode": "overlay",
              "size": 10,
              "solidity": 0.2
             }
            },
            "type": "bar"
           }
          ],
          "barpolar": [
           {
            "marker": {
             "line": {
              "color": "#E5ECF6",
              "width": 0.5
             },
             "pattern": {
              "fillmode": "overlay",
              "size": 10,
              "solidity": 0.2
             }
            },
            "type": "barpolar"
           }
          ],
          "carpet": [
           {
            "aaxis": {
             "endlinecolor": "#2a3f5f",
             "gridcolor": "white",
             "linecolor": "white",
             "minorgridcolor": "white",
             "startlinecolor": "#2a3f5f"
            },
            "baxis": {
             "endlinecolor": "#2a3f5f",
             "gridcolor": "white",
             "linecolor": "white",
             "minorgridcolor": "white",
             "startlinecolor": "#2a3f5f"
            },
            "type": "carpet"
           }
          ],
          "choropleth": [
           {
            "colorbar": {
             "outlinewidth": 0,
             "ticks": ""
            },
            "type": "choropleth"
           }
          ],
          "contour": [
           {
            "colorbar": {
             "outlinewidth": 0,
             "ticks": ""
            },
            "colorscale": [
             [
              0,
              "#0d0887"
             ],
             [
              0.1111111111111111,
              "#46039f"
             ],
             [
              0.2222222222222222,
              "#7201a8"
             ],
             [
              0.3333333333333333,
              "#9c179e"
             ],
             [
              0.4444444444444444,
              "#bd3786"
             ],
             [
              0.5555555555555556,
              "#d8576b"
             ],
             [
              0.6666666666666666,
              "#ed7953"
             ],
             [
              0.7777777777777778,
              "#fb9f3a"
             ],
             [
              0.8888888888888888,
              "#fdca26"
             ],
             [
              1,
              "#f0f921"
             ]
            ],
            "type": "contour"
           }
          ],
          "contourcarpet": [
           {
            "colorbar": {
             "outlinewidth": 0,
             "ticks": ""
            },
            "type": "contourcarpet"
           }
          ],
          "heatmap": [
           {
            "colorbar": {
             "outlinewidth": 0,
             "ticks": ""
            },
            "colorscale": [
             [
              0,
              "#0d0887"
             ],
             [
              0.1111111111111111,
              "#46039f"
             ],
             [
              0.2222222222222222,
              "#7201a8"
             ],
             [
              0.3333333333333333,
              "#9c179e"
             ],
             [
              0.4444444444444444,
              "#bd3786"
             ],
             [
              0.5555555555555556,
              "#d8576b"
             ],
             [
              0.6666666666666666,
              "#ed7953"
             ],
             [
              0.7777777777777778,
              "#fb9f3a"
             ],
             [
              0.8888888888888888,
              "#fdca26"
             ],
             [
              1,
              "#f0f921"
             ]
            ],
            "type": "heatmap"
           }
          ],
          "heatmapgl": [
           {
            "colorbar": {
             "outlinewidth": 0,
             "ticks": ""
            },
            "colorscale": [
             [
              0,
              "#0d0887"
             ],
             [
              0.1111111111111111,
              "#46039f"
             ],
             [
              0.2222222222222222,
              "#7201a8"
             ],
             [
              0.3333333333333333,
              "#9c179e"
             ],
             [
              0.4444444444444444,
              "#bd3786"
             ],
             [
              0.5555555555555556,
              "#d8576b"
             ],
             [
              0.6666666666666666,
              "#ed7953"
             ],
             [
              0.7777777777777778,
              "#fb9f3a"
             ],
             [
              0.8888888888888888,
              "#fdca26"
             ],
             [
              1,
              "#f0f921"
             ]
            ],
            "type": "heatmapgl"
           }
          ],
          "histogram": [
           {
            "marker": {
             "pattern": {
              "fillmode": "overlay",
              "size": 10,
              "solidity": 0.2
             }
            },
            "type": "histogram"
           }
          ],
          "histogram2d": [
           {
            "colorbar": {
             "outlinewidth": 0,
             "ticks": ""
            },
            "colorscale": [
             [
              0,
              "#0d0887"
             ],
             [
              0.1111111111111111,
              "#46039f"
             ],
             [
              0.2222222222222222,
              "#7201a8"
             ],
             [
              0.3333333333333333,
              "#9c179e"
             ],
             [
              0.4444444444444444,
              "#bd3786"
             ],
             [
              0.5555555555555556,
              "#d8576b"
             ],
             [
              0.6666666666666666,
              "#ed7953"
             ],
             [
              0.7777777777777778,
              "#fb9f3a"
             ],
             [
              0.8888888888888888,
              "#fdca26"
             ],
             [
              1,
              "#f0f921"
             ]
            ],
            "type": "histogram2d"
           }
          ],
          "histogram2dcontour": [
           {
            "colorbar": {
             "outlinewidth": 0,
             "ticks": ""
            },
            "colorscale": [
             [
              0,
              "#0d0887"
             ],
             [
              0.1111111111111111,
              "#46039f"
             ],
             [
              0.2222222222222222,
              "#7201a8"
             ],
             [
              0.3333333333333333,
              "#9c179e"
             ],
             [
              0.4444444444444444,
              "#bd3786"
             ],
             [
              0.5555555555555556,
              "#d8576b"
             ],
             [
              0.6666666666666666,
              "#ed7953"
             ],
             [
              0.7777777777777778,
              "#fb9f3a"
             ],
             [
              0.8888888888888888,
              "#fdca26"
             ],
             [
              1,
              "#f0f921"
             ]
            ],
            "type": "histogram2dcontour"
           }
          ],
          "mesh3d": [
           {
            "colorbar": {
             "outlinewidth": 0,
             "ticks": ""
            },
            "type": "mesh3d"
           }
          ],
          "parcoords": [
           {
            "line": {
             "colorbar": {
              "outlinewidth": 0,
              "ticks": ""
             }
            },
            "type": "parcoords"
           }
          ],
          "pie": [
           {
            "automargin": true,
            "type": "pie"
           }
          ],
          "scatter": [
           {
            "fillpattern": {
             "fillmode": "overlay",
             "size": 10,
             "solidity": 0.2
            },
            "type": "scatter"
           }
          ],
          "scatter3d": [
           {
            "line": {
             "colorbar": {
              "outlinewidth": 0,
              "ticks": ""
             }
            },
            "marker": {
             "colorbar": {
              "outlinewidth": 0,
              "ticks": ""
             }
            },
            "type": "scatter3d"
           }
          ],
          "scattercarpet": [
           {
            "marker": {
             "colorbar": {
              "outlinewidth": 0,
              "ticks": ""
             }
            },
            "type": "scattercarpet"
           }
          ],
          "scattergeo": [
           {
            "marker": {
             "colorbar": {
              "outlinewidth": 0,
              "ticks": ""
             }
            },
            "type": "scattergeo"
           }
          ],
          "scattergl": [
           {
            "marker": {
             "colorbar": {
              "outlinewidth": 0,
              "ticks": ""
             }
            },
            "type": "scattergl"
           }
          ],
          "scattermapbox": [
           {
            "marker": {
             "colorbar": {
              "outlinewidth": 0,
              "ticks": ""
             }
            },
            "type": "scattermapbox"
           }
          ],
          "scatterpolar": [
           {
            "marker": {
             "colorbar": {
              "outlinewidth": 0,
              "ticks": ""
             }
            },
            "type": "scatterpolar"
           }
          ],
          "scatterpolargl": [
           {
            "marker": {
             "colorbar": {
              "outlinewidth": 0,
              "ticks": ""
             }
            },
            "type": "scatterpolargl"
           }
          ],
          "scatterternary": [
           {
            "marker": {
             "colorbar": {
              "outlinewidth": 0,
              "ticks": ""
             }
            },
            "type": "scatterternary"
           }
          ],
          "surface": [
           {
            "colorbar": {
             "outlinewidth": 0,
             "ticks": ""
            },
            "colorscale": [
             [
              0,
              "#0d0887"
             ],
             [
              0.1111111111111111,
              "#46039f"
             ],
             [
              0.2222222222222222,
              "#7201a8"
             ],
             [
              0.3333333333333333,
              "#9c179e"
             ],
             [
              0.4444444444444444,
              "#bd3786"
             ],
             [
              0.5555555555555556,
              "#d8576b"
             ],
             [
              0.6666666666666666,
              "#ed7953"
             ],
             [
              0.7777777777777778,
              "#fb9f3a"
             ],
             [
              0.8888888888888888,
              "#fdca26"
             ],
             [
              1,
              "#f0f921"
             ]
            ],
            "type": "surface"
           }
          ],
          "table": [
           {
            "cells": {
             "fill": {
              "color": "#EBF0F8"
             },
             "line": {
              "color": "white"
             }
            },
            "header": {
             "fill": {
              "color": "#C8D4E3"
             },
             "line": {
              "color": "white"
             }
            },
            "type": "table"
           }
          ]
         },
         "layout": {
          "annotationdefaults": {
           "arrowcolor": "#2a3f5f",
           "arrowhead": 0,
           "arrowwidth": 1
          },
          "autotypenumbers": "strict",
          "coloraxis": {
           "colorbar": {
            "outlinewidth": 0,
            "ticks": ""
           }
          },
          "colorscale": {
           "diverging": [
            [
             0,
             "#8e0152"
            ],
            [
             0.1,
             "#c51b7d"
            ],
            [
             0.2,
             "#de77ae"
            ],
            [
             0.3,
             "#f1b6da"
            ],
            [
             0.4,
             "#fde0ef"
            ],
            [
             0.5,
             "#f7f7f7"
            ],
            [
             0.6,
             "#e6f5d0"
            ],
            [
             0.7,
             "#b8e186"
            ],
            [
             0.8,
             "#7fbc41"
            ],
            [
             0.9,
             "#4d9221"
            ],
            [
             1,
             "#276419"
            ]
           ],
           "sequential": [
            [
             0,
             "#0d0887"
            ],
            [
             0.1111111111111111,
             "#46039f"
            ],
            [
             0.2222222222222222,
             "#7201a8"
            ],
            [
             0.3333333333333333,
             "#9c179e"
            ],
            [
             0.4444444444444444,
             "#bd3786"
            ],
            [
             0.5555555555555556,
             "#d8576b"
            ],
            [
             0.6666666666666666,
             "#ed7953"
            ],
            [
             0.7777777777777778,
             "#fb9f3a"
            ],
            [
             0.8888888888888888,
             "#fdca26"
            ],
            [
             1,
             "#f0f921"
            ]
           ],
           "sequentialminus": [
            [
             0,
             "#0d0887"
            ],
            [
             0.1111111111111111,
             "#46039f"
            ],
            [
             0.2222222222222222,
             "#7201a8"
            ],
            [
             0.3333333333333333,
             "#9c179e"
            ],
            [
             0.4444444444444444,
             "#bd3786"
            ],
            [
             0.5555555555555556,
             "#d8576b"
            ],
            [
             0.6666666666666666,
             "#ed7953"
            ],
            [
             0.7777777777777778,
             "#fb9f3a"
            ],
            [
             0.8888888888888888,
             "#fdca26"
            ],
            [
             1,
             "#f0f921"
            ]
           ]
          },
          "colorway": [
           "#636efa",
           "#EF553B",
           "#00cc96",
           "#ab63fa",
           "#FFA15A",
           "#19d3f3",
           "#FF6692",
           "#B6E880",
           "#FF97FF",
           "#FECB52"
          ],
          "font": {
           "color": "#2a3f5f"
          },
          "geo": {
           "bgcolor": "white",
           "lakecolor": "white",
           "landcolor": "#E5ECF6",
           "showlakes": true,
           "showland": true,
           "subunitcolor": "white"
          },
          "hoverlabel": {
           "align": "left"
          },
          "hovermode": "closest",
          "mapbox": {
           "style": "light"
          },
          "paper_bgcolor": "white",
          "plot_bgcolor": "#E5ECF6",
          "polar": {
           "angularaxis": {
            "gridcolor": "white",
            "linecolor": "white",
            "ticks": ""
           },
           "bgcolor": "#E5ECF6",
           "radialaxis": {
            "gridcolor": "white",
            "linecolor": "white",
            "ticks": ""
           }
          },
          "scene": {
           "xaxis": {
            "backgroundcolor": "#E5ECF6",
            "gridcolor": "white",
            "gridwidth": 2,
            "linecolor": "white",
            "showbackground": true,
            "ticks": "",
            "zerolinecolor": "white"
           },
           "yaxis": {
            "backgroundcolor": "#E5ECF6",
            "gridcolor": "white",
            "gridwidth": 2,
            "linecolor": "white",
            "showbackground": true,
            "ticks": "",
            "zerolinecolor": "white"
           },
           "zaxis": {
            "backgroundcolor": "#E5ECF6",
            "gridcolor": "white",
            "gridwidth": 2,
            "linecolor": "white",
            "showbackground": true,
            "ticks": "",
            "zerolinecolor": "white"
           }
          },
          "shapedefaults": {
           "line": {
            "color": "#2a3f5f"
           }
          },
          "ternary": {
           "aaxis": {
            "gridcolor": "white",
            "linecolor": "white",
            "ticks": ""
           },
           "baxis": {
            "gridcolor": "white",
            "linecolor": "white",
            "ticks": ""
           },
           "bgcolor": "#E5ECF6",
           "caxis": {
            "gridcolor": "white",
            "linecolor": "white",
            "ticks": ""
           }
          },
          "title": {
           "x": 0.05
          },
          "xaxis": {
           "automargin": true,
           "gridcolor": "white",
           "linecolor": "white",
           "ticks": "",
           "title": {
            "standoff": 15
           },
           "zerolinecolor": "white",
           "zerolinewidth": 2
          },
          "yaxis": {
           "automargin": true,
           "gridcolor": "white",
           "linecolor": "white",
           "ticks": "",
           "title": {
            "standoff": 15
           },
           "zerolinecolor": "white",
           "zerolinewidth": 2
          }
         }
        },
        "title": {
         "text": "Unique # of ['texas', 'florida'] n-grams for each label"
        },
        "xaxis": {
         "anchor": "y",
         "domain": [
          0,
          1
         ],
         "title": {
          "text": "N-gram size"
         }
        },
        "yaxis": {
         "anchor": "x",
         "domain": [
          0,
          1
         ],
         "title": {
          "text": "Unique # of n-grams"
         }
        }
       }
      }
     },
     "metadata": {},
     "output_type": "display_data"
    }
   ],
   "source": [
    "import plotly.express as px\n",
    "\n",
    "intersection_sizes = []\n",
    "for n in [1, 2, 3, 4, 5, 6]:\n",
    "\n",
    "    good_ngrams = series_to_ngrams(df[df.label == \"good\"].comments, n).value_counts()\n",
    "    bad_ngrams = series_to_ngrams(df[df.label == \"bad\"].comments, n).value_counts()\n",
    "    mgood_ngrams = series_to_ngrams(df[df.label == \"mgood\"].comments, n).value_counts()\n",
    "    mbad_ngrams = series_to_ngrams(df[df.label == \"mbad\"].comments, n).value_counts()\n",
    "    intersection_sizes_n = get_exclusive_sizes(\n",
    "        set(good_ngrams.index),\n",
    "        set(bad_ngrams.index),\n",
    "        set(mgood_ngrams.index),\n",
    "        set(mbad_ngrams.index)\n",
    "    )\n",
    "\n",
    "    intersection_sizes_n[\"n\"] = n\n",
    "\n",
    "    intersection_sizes.append(intersection_sizes_n)\n",
    "\n",
    "\n",
    "# prepare data\n",
    "is_df = pd.DataFrame(intersection_sizes)\n",
    "is_df = is_df.melt(id_vars=\"n\", var_name=\"label\", value_name=\"count\")\n",
    "is_df[\"count\"] = is_df[\"count\"].astype(int)\n",
    "is_df[\"n\"] = is_df[\"n\"].astype(int)\n",
    "\n",
    "# exclude good \n",
    "is_df = is_df[is_df.label != \"good\"]\n",
    "\n",
    "# plot a line chart\n",
    "px.line(is_df, \n",
    "    x=\"n\", y=\"count\",\n",
    "    color=\"label\",\n",
    "    title=f\"Unique # of {GEO} n-grams for each label\", \n",
    "    labels={\"n\": \"N-gram size\", \"count\": \"Unique # of n-grams\"},\n",
    "    markers=True\n",
    "    )"
   ]
  },
  {
   "attachments": {},
   "cell_type": "markdown",
   "metadata": {},
   "source": [
    "We can see that the number of unique ngrams increases until about n=3, and then levels off. What are the top 10 3-grams for misleading reviews?"
   ]
  },
  {
   "cell_type": "code",
   "execution_count": 7,
   "metadata": {},
   "outputs": [
    {
     "name": "stdout",
     "output_type": "stream",
     "text": [
      "Top 10 most common 3-grams in misleading reviews:\n"
     ]
    },
    {
     "data": {
      "text/plain": [
       "[('within_walking_distance', 11),\n",
       " ('would_not_recommend', 10),\n",
       " ('made_u_feel', 4),\n",
       " ('living_room_furniture', 4),\n",
       " ('not_recommend_staying', 4),\n",
       " ('not_big_deal', 4),\n",
       " ('great_place_stay', 4),\n",
       " ('let_u_know', 4),\n",
       " ('not_work_not', 3),\n",
       " ('give_4_star', 3)]"
      ]
     },
     "execution_count": 7,
     "metadata": {},
     "output_type": "execute_result"
    }
   ],
   "source": [
    "import numpy as np\n",
    "from collections import Counter\n",
    "\n",
    "# get subset of misleading reviews\n",
    "subset = df[df.label.isin([\"mbad\", \"mgood\"])]\n",
    "\n",
    "# get groups of N consecutive words\n",
    "N = 3\n",
    "n_grams = series_to_ngrams(subset.comments, N).to_list()\n",
    "\n",
    "print(f\"Top 10 most common {N}-grams in misleading reviews:\")\n",
    "Counter(n_grams).most_common(10)"
   ]
  },
  {
   "attachments": {},
   "cell_type": "markdown",
   "metadata": {},
   "source": [
    "Now let's look at a word cloud of the N-grams in misleading reviews."
   ]
  },
  {
   "cell_type": "code",
   "execution_count": 8,
   "metadata": {},
   "outputs": [
    {
     "data": {
      "application/vnd.plotly.v1+json": {
       "config": {
        "plotlyServerURL": "https://plot.ly"
       },
       "data": [
        {
         "hovertemplate": "x: %{x}<br>y: %{y}<br>color: [%{z[0]}, %{z[1]}, %{z[2]}]<extra></extra>",
         "name": "0",
         "source": "data:image/png;base64,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",
         "type": "image",
         "xaxis": "x",
         "yaxis": "y"
        }
       ],
       "layout": {
        "height": 700,
        "template": {
         "data": {
          "bar": [
           {
            "error_x": {
             "color": "#2a3f5f"
            },
            "error_y": {
             "color": "#2a3f5f"
            },
            "marker": {
             "line": {
              "color": "#E5ECF6",
              "width": 0.5
             },
             "pattern": {
              "fillmode": "overlay",
              "size": 10,
              "solidity": 0.2
             }
            },
            "type": "bar"
           }
          ],
          "barpolar": [
           {
            "marker": {
             "line": {
              "color": "#E5ECF6",
              "width": 0.5
             },
             "pattern": {
              "fillmode": "overlay",
              "size": 10,
              "solidity": 0.2
             }
            },
            "type": "barpolar"
           }
          ],
          "carpet": [
           {
            "aaxis": {
             "endlinecolor": "#2a3f5f",
             "gridcolor": "white",
             "linecolor": "white",
             "minorgridcolor": "white",
             "startlinecolor": "#2a3f5f"
            },
            "baxis": {
             "endlinecolor": "#2a3f5f",
             "gridcolor": "white",
             "linecolor": "white",
             "minorgridcolor": "white",
             "startlinecolor": "#2a3f5f"
            },
            "type": "carpet"
           }
          ],
          "choropleth": [
           {
            "colorbar": {
             "outlinewidth": 0,
             "ticks": ""
            },
            "type": "choropleth"
           }
          ],
          "contour": [
           {
            "colorbar": {
             "outlinewidth": 0,
             "ticks": ""
            },
            "colorscale": [
             [
              0,
              "#0d0887"
             ],
             [
              0.1111111111111111,
              "#46039f"
             ],
             [
              0.2222222222222222,
              "#7201a8"
             ],
             [
              0.3333333333333333,
              "#9c179e"
             ],
             [
              0.4444444444444444,
              "#bd3786"
             ],
             [
              0.5555555555555556,
              "#d8576b"
             ],
             [
              0.6666666666666666,
              "#ed7953"
             ],
             [
              0.7777777777777778,
              "#fb9f3a"
             ],
             [
              0.8888888888888888,
              "#fdca26"
             ],
             [
              1,
              "#f0f921"
             ]
            ],
            "type": "contour"
           }
          ],
          "contourcarpet": [
           {
            "colorbar": {
             "outlinewidth": 0,
             "ticks": ""
            },
            "type": "contourcarpet"
           }
          ],
          "heatmap": [
           {
            "colorbar": {
             "outlinewidth": 0,
             "ticks": ""
            },
            "colorscale": [
             [
              0,
              "#0d0887"
             ],
             [
              0.1111111111111111,
              "#46039f"
             ],
             [
              0.2222222222222222,
              "#7201a8"
             ],
             [
              0.3333333333333333,
              "#9c179e"
             ],
             [
              0.4444444444444444,
              "#bd3786"
             ],
             [
              0.5555555555555556,
              "#d8576b"
             ],
             [
              0.6666666666666666,
              "#ed7953"
             ],
             [
              0.7777777777777778,
              "#fb9f3a"
             ],
             [
              0.8888888888888888,
              "#fdca26"
             ],
             [
              1,
              "#f0f921"
             ]
            ],
            "type": "heatmap"
           }
          ],
          "heatmapgl": [
           {
            "colorbar": {
             "outlinewidth": 0,
             "ticks": ""
            },
            "colorscale": [
             [
              0,
              "#0d0887"
             ],
             [
              0.1111111111111111,
              "#46039f"
             ],
             [
              0.2222222222222222,
              "#7201a8"
             ],
             [
              0.3333333333333333,
              "#9c179e"
             ],
             [
              0.4444444444444444,
              "#bd3786"
             ],
             [
              0.5555555555555556,
              "#d8576b"
             ],
             [
              0.6666666666666666,
              "#ed7953"
             ],
             [
              0.7777777777777778,
              "#fb9f3a"
             ],
             [
              0.8888888888888888,
              "#fdca26"
             ],
             [
              1,
              "#f0f921"
             ]
            ],
            "type": "heatmapgl"
           }
          ],
          "histogram": [
           {
            "marker": {
             "pattern": {
              "fillmode": "overlay",
              "size": 10,
              "solidity": 0.2
             }
            },
            "type": "histogram"
           }
          ],
          "histogram2d": [
           {
            "colorbar": {
             "outlinewidth": 0,
             "ticks": ""
            },
            "colorscale": [
             [
              0,
              "#0d0887"
             ],
             [
              0.1111111111111111,
              "#46039f"
             ],
             [
              0.2222222222222222,
              "#7201a8"
             ],
             [
              0.3333333333333333,
              "#9c179e"
             ],
             [
              0.4444444444444444,
              "#bd3786"
             ],
             [
              0.5555555555555556,
              "#d8576b"
             ],
             [
              0.6666666666666666,
              "#ed7953"
             ],
             [
              0.7777777777777778,
              "#fb9f3a"
             ],
             [
              0.8888888888888888,
              "#fdca26"
             ],
             [
              1,
              "#f0f921"
             ]
            ],
            "type": "histogram2d"
           }
          ],
          "histogram2dcontour": [
           {
            "colorbar": {
             "outlinewidth": 0,
             "ticks": ""
            },
            "colorscale": [
             [
              0,
              "#0d0887"
             ],
             [
              0.1111111111111111,
              "#46039f"
             ],
             [
              0.2222222222222222,
              "#7201a8"
             ],
             [
              0.3333333333333333,
              "#9c179e"
             ],
             [
              0.4444444444444444,
              "#bd3786"
             ],
             [
              0.5555555555555556,
              "#d8576b"
             ],
             [
              0.6666666666666666,
              "#ed7953"
             ],
             [
              0.7777777777777778,
              "#fb9f3a"
             ],
             [
              0.8888888888888888,
              "#fdca26"
             ],
             [
              1,
              "#f0f921"
             ]
            ],
            "type": "histogram2dcontour"
           }
          ],
          "mesh3d": [
           {
            "colorbar": {
             "outlinewidth": 0,
             "ticks": ""
            },
            "type": "mesh3d"
           }
          ],
          "parcoords": [
           {
            "line": {
             "colorbar": {
              "outlinewidth": 0,
              "ticks": ""
             }
            },
            "type": "parcoords"
           }
          ],
          "pie": [
           {
            "automargin": true,
            "type": "pie"
           }
          ],
          "scatter": [
           {
            "fillpattern": {
             "fillmode": "overlay",
             "size": 10,
             "solidity": 0.2
            },
            "type": "scatter"
           }
          ],
          "scatter3d": [
           {
            "line": {
             "colorbar": {
              "outlinewidth": 0,
              "ticks": ""
             }
            },
            "marker": {
             "colorbar": {
              "outlinewidth": 0,
              "ticks": ""
             }
            },
            "type": "scatter3d"
           }
          ],
          "scattercarpet": [
           {
            "marker": {
             "colorbar": {
              "outlinewidth": 0,
              "ticks": ""
             }
            },
            "type": "scattercarpet"
           }
          ],
          "scattergeo": [
           {
            "marker": {
             "colorbar": {
              "outlinewidth": 0,
              "ticks": ""
             }
            },
            "type": "scattergeo"
           }
          ],
          "scattergl": [
           {
            "marker": {
             "colorbar": {
              "outlinewidth": 0,
              "ticks": ""
             }
            },
            "type": "scattergl"
           }
          ],
          "scattermapbox": [
           {
            "marker": {
             "colorbar": {
              "outlinewidth": 0,
              "ticks": ""
             }
            },
            "type": "scattermapbox"
           }
          ],
          "scatterpolar": [
           {
            "marker": {
             "colorbar": {
              "outlinewidth": 0,
              "ticks": ""
             }
            },
            "type": "scatterpolar"
           }
          ],
          "scatterpolargl": [
           {
            "marker": {
             "colorbar": {
              "outlinewidth": 0,
              "ticks": ""
             }
            },
            "type": "scatterpolargl"
           }
          ],
          "scatterternary": [
           {
            "marker": {
             "colorbar": {
              "outlinewidth": 0,
              "ticks": ""
             }
            },
            "type": "scatterternary"
           }
          ],
          "surface": [
           {
            "colorbar": {
             "outlinewidth": 0,
             "ticks": ""
            },
            "colorscale": [
             [
              0,
              "#0d0887"
             ],
             [
              0.1111111111111111,
              "#46039f"
             ],
             [
              0.2222222222222222,
              "#7201a8"
             ],
             [
              0.3333333333333333,
              "#9c179e"
             ],
             [
              0.4444444444444444,
              "#bd3786"
             ],
             [
              0.5555555555555556,
              "#d8576b"
             ],
             [
              0.6666666666666666,
              "#ed7953"
             ],
             [
              0.7777777777777778,
              "#fb9f3a"
             ],
             [
              0.8888888888888888,
              "#fdca26"
             ],
             [
              1,
              "#f0f921"
             ]
            ],
            "type": "surface"
           }
          ],
          "table": [
           {
            "cells": {
             "fill": {
              "color": "#EBF0F8"
             },
             "line": {
              "color": "white"
             }
            },
            "header": {
             "fill": {
              "color": "#C8D4E3"
             },
             "line": {
              "color": "white"
             }
            },
            "type": "table"
           }
          ]
         },
         "layout": {
          "annotationdefaults": {
           "arrowcolor": "#2a3f5f",
           "arrowhead": 0,
           "arrowwidth": 1
          },
          "autotypenumbers": "strict",
          "coloraxis": {
           "colorbar": {
            "outlinewidth": 0,
            "ticks": ""
           }
          },
          "colorscale": {
           "diverging": [
            [
             0,
             "#8e0152"
            ],
            [
             0.1,
             "#c51b7d"
            ],
            [
             0.2,
             "#de77ae"
            ],
            [
             0.3,
             "#f1b6da"
            ],
            [
             0.4,
             "#fde0ef"
            ],
            [
             0.5,
             "#f7f7f7"
            ],
            [
             0.6,
             "#e6f5d0"
            ],
            [
             0.7,
             "#b8e186"
            ],
            [
             0.8,
             "#7fbc41"
            ],
            [
             0.9,
             "#4d9221"
            ],
            [
             1,
             "#276419"
            ]
           ],
           "sequential": [
            [
             0,
             "#0d0887"
            ],
            [
             0.1111111111111111,
             "#46039f"
            ],
            [
             0.2222222222222222,
             "#7201a8"
            ],
            [
             0.3333333333333333,
             "#9c179e"
            ],
            [
             0.4444444444444444,
             "#bd3786"
            ],
            [
             0.5555555555555556,
             "#d8576b"
            ],
            [
             0.6666666666666666,
             "#ed7953"
            ],
            [
             0.7777777777777778,
             "#fb9f3a"
            ],
            [
             0.8888888888888888,
             "#fdca26"
            ],
            [
             1,
             "#f0f921"
            ]
           ],
           "sequentialminus": [
            [
             0,
             "#0d0887"
            ],
            [
             0.1111111111111111,
             "#46039f"
            ],
            [
             0.2222222222222222,
             "#7201a8"
            ],
            [
             0.3333333333333333,
             "#9c179e"
            ],
            [
             0.4444444444444444,
             "#bd3786"
            ],
            [
             0.5555555555555556,
             "#d8576b"
            ],
            [
             0.6666666666666666,
             "#ed7953"
            ],
            [
             0.7777777777777778,
             "#fb9f3a"
            ],
            [
             0.8888888888888888,
             "#fdca26"
            ],
            [
             1,
             "#f0f921"
            ]
           ]
          },
          "colorway": [
           "#636efa",
           "#EF553B",
           "#00cc96",
           "#ab63fa",
           "#FFA15A",
           "#19d3f3",
           "#FF6692",
           "#B6E880",
           "#FF97FF",
           "#FECB52"
          ],
          "font": {
           "color": "#2a3f5f"
          },
          "geo": {
           "bgcolor": "white",
           "lakecolor": "white",
           "landcolor": "#E5ECF6",
           "showlakes": true,
           "showland": true,
           "subunitcolor": "white"
          },
          "hoverlabel": {
           "align": "left"
          },
          "hovermode": "closest",
          "mapbox": {
           "style": "light"
          },
          "paper_bgcolor": "white",
          "plot_bgcolor": "#E5ECF6",
          "polar": {
           "angularaxis": {
            "gridcolor": "white",
            "linecolor": "white",
            "ticks": ""
           },
           "bgcolor": "#E5ECF6",
           "radialaxis": {
            "gridcolor": "white",
            "linecolor": "white",
            "ticks": ""
           }
          },
          "scene": {
           "xaxis": {
            "backgroundcolor": "#E5ECF6",
            "gridcolor": "white",
            "gridwidth": 2,
            "linecolor": "white",
            "showbackground": true,
            "ticks": "",
            "zerolinecolor": "white"
           },
           "yaxis": {
            "backgroundcolor": "#E5ECF6",
            "gridcolor": "white",
            "gridwidth": 2,
            "linecolor": "white",
            "showbackground": true,
            "ticks": "",
            "zerolinecolor": "white"
           },
           "zaxis": {
            "backgroundcolor": "#E5ECF6",
            "gridcolor": "white",
            "gridwidth": 2,
            "linecolor": "white",
            "showbackground": true,
            "ticks": "",
            "zerolinecolor": "white"
           }
          },
          "shapedefaults": {
           "line": {
            "color": "#2a3f5f"
           }
          },
          "ternary": {
           "aaxis": {
            "gridcolor": "white",
            "linecolor": "white",
            "ticks": ""
           },
           "baxis": {
            "gridcolor": "white",
            "linecolor": "white",
            "ticks": ""
           },
           "bgcolor": "#E5ECF6",
           "caxis": {
            "gridcolor": "white",
            "linecolor": "white",
            "ticks": ""
           }
          },
          "title": {
           "x": 0.05
          },
          "xaxis": {
           "automargin": true,
           "gridcolor": "white",
           "linecolor": "white",
           "ticks": "",
           "title": {
            "standoff": 15
           },
           "zerolinecolor": "white",
           "zerolinewidth": 2
          },
          "yaxis": {
           "automargin": true,
           "gridcolor": "white",
           "linecolor": "white",
           "ticks": "",
           "title": {
            "standoff": 15
           },
           "zerolinecolor": "white",
           "zerolinewidth": 2
          }
         }
        },
        "title": {
         "text": "Most common 3-grams in misleading reviews"
        },
        "width": 700,
        "xaxis": {
         "anchor": "y",
         "domain": [
          0,
          1
         ],
         "visible": false
        },
        "yaxis": {
         "anchor": "x",
         "domain": [
          0,
          1
         ],
         "visible": false
        }
       }
      }
     },
     "metadata": {},
     "output_type": "display_data"
    }
   ],
   "source": [
    "from wordcloud import WordCloud\n",
    "from PIL import Image\n",
    "\n",
    "ngrams_str = \" \".join(n_grams)\n",
    "\n",
    "# make house-shaped mask\n",
    "mask = np.array(Image.open(\"../../house_shape.png\"))\n",
    "# fill transparent areas with white\n",
    "mask[mask[:, :, 3] == 0] = [255, 255, 255, 255]\n",
    "\n",
    "# generate wordcloud\n",
    "wc = WordCloud(\n",
    "    background_color=\"white\", \n",
    "    max_words=1000, \n",
    "    width=mask.shape[0]*5,\n",
    "    height=mask.shape[1]*5,\n",
    "    mask = mask,\n",
    "    contour_width=3,\n",
    "    contour_color='steelblue',\n",
    "    colormap=\"twilight_shifted\"\n",
    ").generate(ngrams_str)\n",
    "\n",
    "wc\n",
    "\n",
    "# show wordcloud\n",
    "fig = px.imshow(wc, title=f\"Most common {N}-grams in misleading reviews\", width=700, height=700)\n",
    "fig.update_xaxes(visible=False)\n",
    "fig.update_yaxes(visible=False)\n",
    "fig.show()"
   ]
  },
  {
   "attachments": {},
   "cell_type": "markdown",
   "metadata": {},
   "source": [
    "Here is a reusable function to add ngrams features to a dataframe."
   ]
  },
  {
   "cell_type": "code",
   "execution_count": 9,
   "metadata": {},
   "outputs": [],
   "source": [
    "def ngrams_features(n, prefix=\"ngrams_\", corr_thresh=0.05):\n",
    "    \"\"\"Add n-gram features to the features dataframe.\"\"\"\n",
    "\n",
    "    # one-hot encode ngrams\n",
    "    df[\"ngrams\"] = df.comments.apply(lambda x: set(get_consecutive_ngrams(x, 3)))\n",
    "\n",
    "    # get set of ngrams\n",
    "    ng_set = set(series_to_ngrams(subset.comments, n).to_list())\n",
    "\n",
    "    # one-hot encode ngrams\n",
    "    ngram_features = {}\n",
    "    for ngram in ng_set:\n",
    "        ngram_features[prefix + ngram] = df.ngrams.apply(lambda ngrams: 1 if ngram in ngrams else 0)\n",
    "    ngram_df = pd.DataFrame(ngram_features)\n",
    "    \n",
    "    # filter features on correlation with label\n",
    "    ngrams_df = corr_filter(ngram_df, corr_thresh=corr_thresh)\n",
    "\n",
    "    return ngrams_df"
   ]
  },
  {
   "cell_type": "code",
   "execution_count": 10,
   "metadata": {},
   "outputs": [],
   "source": [
    "# ngrams_features(3, prefix=\"ngrams_\", corr_thresh=0.09)"
   ]
  },
  {
   "attachments": {},
   "cell_type": "markdown",
   "metadata": {},
   "source": [
    "## \"Mentioned Amenities\" Features\n",
    "Was an amenity that was included in the listing mentioned in the review?"
   ]
  },
  {
   "attachments": {},
   "cell_type": "markdown",
   "metadata": {},
   "source": [
    "First, we need to do some cleaning amenities to make them easier to match."
   ]
  },
  {
   "cell_type": "code",
   "execution_count": 11,
   "metadata": {},
   "outputs": [],
   "source": [
    "import re\n",
    "\n",
    "def clean_amenities(amenities):\n",
    "    \"\"\"Clean the amenities column.\"\"\"\n",
    "\n",
    "    cleaned = []\n",
    "\n",
    "    # basic cleaning\n",
    "    for amenity in amenities:\n",
    "        # remove quotes\n",
    "        amenity = amenity.replace('\"', \"\")\n",
    "        # remove anything in parentheses or brackets\n",
    "        amenity = re.sub(r\"\\(.*\\)\", \"\", amenity)\n",
    "        amenity = re.sub(r\"\\[.*\\]\", \"\", amenity)\n",
    "        # strip whitespace\n",
    "        amenity = amenity.strip()\n",
    "        # lowercase\n",
    "        amenity = amenity.lower()\n",
    "        # remove curly brackets\n",
    "        amenity = amenity.replace(\"{\", \"\").replace(\"}\", \"\")\n",
    "\n",
    "\n",
    "        cleaned.append(amenity)\n",
    "\n",
    "    # split entries with a slash, \"and\", or \"or\"\n",
    "    for to_split_on in [\"/\", \" and \", \" or \"]:\n",
    "        cleaned = [amenity.split(to_split_on) for amenity in cleaned]\n",
    "        cleaned = [item.strip() for sublist in cleaned for item in sublist]\n",
    "\n",
    "    # remove empty strings\n",
    "    cleaned = [amenity for amenity in cleaned if amenity != \"\"]\n",
    "\n",
    "    return cleaned\n",
    "\n",
    "df.amenities = df.amenities.apply(clean_amenities)"
   ]
  },
  {
   "attachments": {},
   "cell_type": "markdown",
   "metadata": {},
   "source": [
    "Look at some examples of the cleaned amenities."
   ]
  },
  {
   "cell_type": "code",
   "execution_count": 12,
   "metadata": {},
   "outputs": [
    {
     "data": {
      "text/plain": [
       "['tv',\n",
       " 'cable tv',\n",
       " 'wifi',\n",
       " 'air conditioning',\n",
       " 'pool',\n",
       " 'kitchen',\n",
       " 'free parking on premises',\n",
       " 'pets allowed',\n",
       " 'free street parking',\n",
       " 'heating',\n",
       " 'family',\n",
       " 'kid friendly',\n",
       " 'washer',\n",
       " 'dryer',\n",
       " 'smoke detector',\n",
       " 'carbon monoxide detector',\n",
       " 'essentials',\n",
       " 'lock on bedroom door',\n",
       " 'hangers',\n",
       " 'hair dryer',\n",
       " 'iron',\n",
       " 'laptop friendly workspace',\n",
       " 'self check-in',\n",
       " 'lockbox',\n",
       " 'bathtub',\n",
       " 'hot water',\n",
       " 'bed linens',\n",
       " 'extra pillows',\n",
       " 'blankets',\n",
       " 'ethernet connection',\n",
       " 'microwave',\n",
       " 'coffee maker',\n",
       " 'refrigerator',\n",
       " 'dishwasher',\n",
       " 'dishes',\n",
       " 'silverware',\n",
       " 'cooking basics',\n",
       " 'oven',\n",
       " 'stove',\n",
       " 'single level home',\n",
       " 'bbq grill',\n",
       " 'patio',\n",
       " 'balcony',\n",
       " 'beach essentials',\n",
       " 'long term stays allowed',\n",
       " 'no stairs',\n",
       " 'steps to enter',\n",
       " 'well-lit path to entrance',\n",
       " 'disabled parking spot',\n",
       " 'no stairs',\n",
       " 'steps to enter',\n",
       " 'extra space around bed',\n",
       " 'accessible-height bed',\n",
       " 'no stairs',\n",
       " 'steps to enter']"
      ]
     },
     "execution_count": 12,
     "metadata": {},
     "output_type": "execute_result"
    }
   ],
   "source": [
    "df.amenities.sample(1).values[0]"
   ]
  },
  {
   "attachments": {},
   "cell_type": "markdown",
   "metadata": {},
   "source": [
    "Calculate our amenities features, and look at the correlation between them and the label."
   ]
  },
  {
   "cell_type": "code",
   "execution_count": 13,
   "metadata": {},
   "outputs": [
    {
     "name": "stdout",
     "output_type": "stream",
     "text": [
      "Calculating amenities features with correlation threshold of 0.05\n",
      "Features above correlation threshold (0.05):\n",
      "['id', 'lockbox', 'pool', 'dishwasher', 'tv', 'keypad', 'kitchen', 'breakfast']\n"
     ]
    },
    {
     "data": {
      "text/html": [
       "<div>\n",
       "<style scoped>\n",
       "    .dataframe tbody tr th:only-of-type {\n",
       "        vertical-align: middle;\n",
       "    }\n",
       "\n",
       "    .dataframe tbody tr th {\n",
       "        vertical-align: top;\n",
       "    }\n",
       "\n",
       "    .dataframe thead th {\n",
       "        text-align: right;\n",
       "    }\n",
       "</style>\n",
       "<table border=\"1\" class=\"dataframe\">\n",
       "  <thead>\n",
       "    <tr style=\"text-align: right;\">\n",
       "      <th></th>\n",
       "      <th>lockbox</th>\n",
       "      <th>pool</th>\n",
       "      <th>dishwasher</th>\n",
       "      <th>tv</th>\n",
       "      <th>keypad</th>\n",
       "      <th>kitchen</th>\n",
       "      <th>breakfast</th>\n",
       "      <th>review_id</th>\n",
       "      <th>label</th>\n",
       "    </tr>\n",
       "  </thead>\n",
       "  <tbody>\n",
       "    <tr>\n",
       "      <th>0</th>\n",
       "      <td>0.0</td>\n",
       "      <td>0.0</td>\n",
       "      <td>0.0</td>\n",
       "      <td>0.0</td>\n",
       "      <td>0.0</td>\n",
       "      <td>0.0</td>\n",
       "      <td>0.0</td>\n",
       "      <td>83097</td>\n",
       "      <td>good</td>\n",
       "    </tr>\n",
       "    <tr>\n",
       "      <th>1</th>\n",
       "      <td>0.0</td>\n",
       "      <td>0.0</td>\n",
       "      <td>0.0</td>\n",
       "      <td>0.0</td>\n",
       "      <td>0.0</td>\n",
       "      <td>0.0</td>\n",
       "      <td>0.0</td>\n",
       "      <td>133337</td>\n",
       "      <td>good</td>\n",
       "    </tr>\n",
       "    <tr>\n",
       "      <th>2</th>\n",
       "      <td>0.0</td>\n",
       "      <td>0.0</td>\n",
       "      <td>0.0</td>\n",
       "      <td>0.0</td>\n",
       "      <td>0.0</td>\n",
       "      <td>1.0</td>\n",
       "      <td>0.0</td>\n",
       "      <td>150928</td>\n",
       "      <td>good</td>\n",
       "    </tr>\n",
       "    <tr>\n",
       "      <th>3</th>\n",
       "      <td>0.0</td>\n",
       "      <td>0.0</td>\n",
       "      <td>0.0</td>\n",
       "      <td>0.0</td>\n",
       "      <td>0.0</td>\n",
       "      <td>0.0</td>\n",
       "      <td>0.0</td>\n",
       "      <td>2706775</td>\n",
       "      <td>good</td>\n",
       "    </tr>\n",
       "    <tr>\n",
       "      <th>4</th>\n",
       "      <td>0.0</td>\n",
       "      <td>0.0</td>\n",
       "      <td>0.0</td>\n",
       "      <td>0.0</td>\n",
       "      <td>0.0</td>\n",
       "      <td>1.0</td>\n",
       "      <td>0.0</td>\n",
       "      <td>8602878</td>\n",
       "      <td>good</td>\n",
       "    </tr>\n",
       "  </tbody>\n",
       "</table>\n",
       "</div>"
      ],
      "text/plain": [
       "   lockbox  pool  dishwasher   tv  keypad  kitchen  breakfast  review_id label\n",
       "0      0.0   0.0         0.0  0.0     0.0      0.0        0.0      83097  good\n",
       "1      0.0   0.0         0.0  0.0     0.0      0.0        0.0     133337  good\n",
       "2      0.0   0.0         0.0  0.0     0.0      1.0        0.0     150928  good\n",
       "3      0.0   0.0         0.0  0.0     0.0      0.0        0.0    2706775  good\n",
       "4      0.0   0.0         0.0  0.0     0.0      1.0        0.0    8602878  good"
      ]
     },
     "execution_count": 13,
     "metadata": {},
     "output_type": "execute_result"
    }
   ],
   "source": [
    "def amenities_features(corr_thresh=None, prefix=\"amenities_\") -> pd.DataFrame:\n",
    "    print(f\"Calculating amenities features with correlation threshold of {corr_thresh}\")\n",
    "    amenities_features_df = pd.DataFrame()\n",
    "    # 1. Find the amenities in the listings\n",
    "    for index, row in df.iterrows():\n",
    "        # 1. Find the amenities in the listings\n",
    "        amenities = row.amenities\n",
    "\n",
    "        # Add a new row to amenities_features_df\n",
    "        amenities_features_df.loc[index, \"id\"] = index\n",
    "\n",
    "        # 2. For each amenity, see if it is present in the review\n",
    "        for amenity in amenities:\n",
    "            if amenity in row.comments:\n",
    "                # 3. If it is present, add 1 for that feature\n",
    "                if amenity in amenities_features_df.columns:\n",
    "                    amenities_features_df.loc[index, amenity] = 1\n",
    "                #   If the amenity does not already exist from another review, add it to the features dataframe\n",
    "                else:\n",
    "                    amenities_features_df.loc[index, amenity] = 0\n",
    "    \n",
    "    # 4. fill missing values with 0\n",
    "    amenities_features_df = amenities_features_df.fillna(0)\n",
    "\n",
    "    # 6. Only keep amenities features that have a correlation with the label above a certain threshold\n",
    "    amenities_features_df = corr_filter(amenities_features_df, corr_thresh=corr_thresh)\n",
    "\n",
    "    # drop id column\n",
    "    if \"id\" in amenities_features_df.columns:\n",
    "        amenities_features_df = amenities_features_df.drop(\"id\", axis=1)\n",
    "\n",
    "    # prefix features\n",
    "    amenities_features_df = amenities_features_df.add_prefix(prefix)\n",
    "\n",
    "    return amenities_features_df\n",
    "\n",
    "\n",
    "amen_features = amenities_features(corr_thresh=0.05, prefix=\"\")\n",
    "amen_features[\"review_id\"] = df.review_id\n",
    "amen_features[\"label\"] = df.label\n",
    "amen_features.head()"
   ]
  },
  {
   "cell_type": "code",
   "execution_count": 14,
   "metadata": {},
   "outputs": [
    {
     "data": {
      "text/plain": [
       "True"
      ]
     },
     "execution_count": 14,
     "metadata": {},
     "output_type": "execute_result"
    }
   ],
   "source": [
    "df.review_id.shape[0] == amen_features.review_id.shape[0]"
   ]
  },
  {
   "attachments": {},
   "cell_type": "markdown",
   "metadata": {},
   "source": [
    "Let's look at the amenities with the highest correlation to the label."
   ]
  },
  {
   "cell_type": "code",
   "execution_count": 15,
   "metadata": {},
   "outputs": [
    {
     "name": "stderr",
     "output_type": "stream",
     "text": [
      "C:\\Users\\grego\\AppData\\Local\\Temp\\ipykernel_19004\\3136741035.py:6: FutureWarning:\n",
      "\n",
      "The default value of numeric_only in DataFrame.corrwith is deprecated. In a future version, it will default to False. Select only valid columns or specify the value of numeric_only to silence this warning.\n",
      "\n"
     ]
    },
    {
     "data": {
      "text/plain": [
       "lockbox       0.090532\n",
       "pool          0.070985\n",
       "dishwasher    0.070433\n",
       "tv            0.055847\n",
       "keypad        0.055246\n",
       "kitchen       0.050689\n",
       "breakfast    -0.055234\n",
       "dtype: float64"
      ]
     },
     "execution_count": 15,
     "metadata": {},
     "output_type": "execute_result"
    }
   ],
   "source": [
    "# OHE labels\n",
    "labels_list: list = amen_features.label.unique().tolist()\n",
    "dummies = amen_features.label.apply(lambda label: labels_list.index(label))\n",
    "\n",
    "# calculate correlations with the label\n",
    "corrs = amen_features.drop(\"review_id\", axis=1).corrwith(dummies).sort_values(ascending=False)\n",
    "corrs"
   ]
  },
  {
   "attachments": {},
   "cell_type": "markdown",
   "metadata": {},
   "source": [
    "## Word Embeddings\n",
    "Another way to look at the data is to use word embeddings. We can use the word2vec model from gensim to create word embeddings for each word in the dataset. We can then take the average of all word vectors in a review to get a vector representation of the review. We will then reduce the dimensionality of the vectors using PCA."
   ]
  },
  {
   "cell_type": "code",
   "execution_count": 16,
   "metadata": {},
   "outputs": [],
   "source": [
    "from gensim.models.word2vec import Word2Vec\n",
    "from sklearn.decomposition import PCA\n",
    "from typing import Tuple\n",
    "\n",
    "def do_pca(features: pd.DataFrame, col: str, n_components: int) -> Tuple[np.ndarray, PCA]:\n",
    "    \"\"\"Perform PCA on embeddings.\"\"\"\n",
    "    print(f\"Performing PCA on {col} with {n_components} components\")\n",
    "    pca = PCA(n_components=n_components, random_state=42)\n",
    "    pca.fit(features)\n",
    "    pca_embeddings = pca.transform(features)\n",
    "\n",
    "    pca_features = pd.DataFrame()\n",
    "    for i in range(pca_embeddings.shape[1]):\n",
    "        pca_features[f\"pca_{n_components}D_{col}_{i}\"] = pca_embeddings[:, i]\n",
    "\n",
    "    return pca_features, pca\n",
    "\n",
    "def embeddings_features(emb_vector_size=300, col=\"comments\") -> Tuple[pd.DataFrame, Word2Vec]:\n",
    "\n",
    "    print(f\"Embedding {col} with vector size {emb_vector_size}\")\n",
    "    w2v = Word2Vec(df[col].to_list(), \n",
    "            min_count=1,\n",
    "            vector_size=emb_vector_size,\n",
    "            workers=1,  # more workers make make the model non-deteministic, and we won't be able to save it to test on the test set\n",
    "            window=3, \n",
    "            sg=1\n",
    "        )\n",
    "    \n",
    "    # generate embeddings\n",
    "    get_review_embeddings = lambda review: np.mean([w2v.wv[word] for word in review if word in w2v.wv], axis=0)\n",
    "    embeddings = np.array([get_review_embeddings(review) for review in df[col].to_list()])\n",
    "    \n",
    "    # ignore DataFrame is highly fragmented.\n",
    "    pd.options.mode.chained_assignment = None\n",
    "\n",
    "    # add embeddings to features dataframe\n",
    "    embd_features = pd.DataFrame()\n",
    "    for i in range(embeddings.shape[1]):\n",
    "        embd_features[f\"embedding_{col}_{i}\"] = embeddings[:, i]\n",
    "\n",
    "    return embd_features, w2v"
   ]
  },
  {
   "attachments": {},
   "cell_type": "markdown",
   "metadata": {},
   "source": [
    "Let's try this out and visualize in 3D to see how well the reviews are separated by label."
   ]
  },
  {
   "cell_type": "code",
   "execution_count": 17,
   "metadata": {},
   "outputs": [
    {
     "name": "stdout",
     "output_type": "stream",
     "text": [
      "Embedding comments with vector size 300\n",
      "Performing PCA on comments with 3 components\n"
     ]
    },
    {
     "data": {
      "application/vnd.plotly.v1+json": {
       "config": {
        "plotlyServerURL": "https://plot.ly"
       },
       "data": [
        {
         "hovertemplate": "label=good<br>pca_3D_comments_0=%{x}<br>pca_3D_comments_1=%{y}<br>pca_3D_comments_2=%{z}<extra></extra>",
         "legendgroup": "good",
         "marker": {
          "color": "#636efa",
          "opacity": 0.5,
          "size": 2,
          "symbol": "circle"
         },
         "mode": "markers",
         "name": "good",
         "scene": "scene",
         "showlegend": true,
         "type": "scatter3d",
         "x": [
          -0.050672635436058044,
          -0.14106705784797668,
          0.009087598882615566,
          -0.24820731580257416,
          0.04324861988425255,
          -0.2185002714395523,
          -0.03664395958185196,
          -0.09948426485061646,
          -0.24838852882385254,
          0.13571268320083618,
          0.22874732315540314,
          -0.1248508170247078,
          0.22439567744731903,
          -0.07603602856397629,
          -0.025407185778021812,
          -0.2294345647096634,
          0.06593874841928482,
          -0.5077388882637024,
          0.024894768372178078,
          -0.14430801570415497,
          -0.061112623661756516,
          0.05267413705587387,
          0.045794203877449036,
          -0.053144074976444244,
          -0.12933982908725739,
          0.2235759198665619,
          -0.38505345582962036,
          -0.09027806669473648,
          0.04157138615846634,
          -0.23558321595191956,
          -0.2905953824520111,
          -0.02650812827050686,
          -0.04389286786317825,
          -0.000234355335123837,
          -0.1927080899477005,
          0.07429962605237961,
          -0.06834688782691956,
          0.01509048230946064,
          -0.3119320869445801,
          -0.25830087065696716,
          -0.34351417422294617,
          -0.07678133994340897,
          0.03929050266742706,
          0.19029971957206726,
          -0.026403723284602165,
          0.05800330266356468,
          -0.08724164217710495,
          0.07054128497838974,
          0.05450000986456871,
          -0.11401758342981339,
          -0.27019283175468445,
          0.014246398583054543,
          -0.07925444096326828,
          -0.15780122578144073,
          0.02560301125049591,
          -0.0011450203601270914,
          -0.037897657603025436,
          0.0961650162935257,
          0.11510743945837021,
          0.3376806080341339,
          -0.04845844581723213,
          0.20737960934638977,
          -0.04584735631942749,
          -0.0810459554195404,
          0.07866189628839493,
          -0.04748433828353882,
          -0.08841023594141006,
          -0.19078408181667328,
          -0.16618071496486664,
          0.013349727727472782,
          -0.020998744294047356,
          0.002208728576079011,
          0.15829819440841675,
          0.0665958821773529,
          0.10745058208703995,
          0.09615237265825272,
          -0.2562774419784546,
          -0.04882624372839928,
          0.011227639392018318,
          -0.18880890309810638,
          0.11907362937927246,
          -0.5566370487213135,
          -0.06365865468978882,
          -0.25206708908081055,
          0.0010100926738232374,
          -0.1668151468038559,
          -0.35354185104370117,
          -0.11257963627576828,
          -0.14462147653102875,
          0.1198534145951271,
          0.15746824443340302,
          -0.09301625937223434,
          0.09273224323987961,
          0.11126771569252014,
          0.11691068857908249,
          0.05583811178803444,
          0.11921029537916183,
          0.10335849225521088,
          -0.008729743771255016,
          -0.035234250128269196,
          -0.01313526276499033,
          0.10749541968107224,
          0.14323283731937408,
          0.003103806870058179,
          0.024576673284173012,
          -0.14059089124202728,
          0.1770121306180954,
          0.10535893589258194,
          -0.2748798727989197,
          0.023417918011546135,
          -0.2701777517795563,
          0.09434141218662262,
          0.005910199601203203,
          0.1161121129989624,
          -0.03978338837623596,
          -0.07393262535333633,
          0.08671510964632034,
          0.2988128364086151,
          0.24831123650074005,
          0.1986483335494995,
          0.2534683644771576,
          0.23836614191532135,
          -0.06340457499027252,
          -0.25504082441329956,
          -0.5033251643180847,
          -0.1114894449710846,
          -0.08726006001234055,
          -0.0646551176905632,
          -0.11075206100940704,
          0.10583537817001343,
          -0.14680153131484985,
          -0.12511146068572998,
          -0.2156268060207367,
          -0.0013077170588076115,
          -0.31552693247795105,
          -0.5949679017066956,
          -0.11501161754131317,
          -0.08123224228620529,
          0.19372063875198364,
          0.1892341524362564,
          0.7955340147018433,
          -0.1482705920934677,
          0.024764230474829674,
          -0.1311997026205063,
          0.021980376914143562,
          -0.05637890845537186,
          0.7009209394454956,
          -0.3690204918384552,
          0.021595528349280357,
          -0.43644458055496216,
          -0.027499176561832428,
          -0.04056357964873314,
          -0.1529151350259781,
          -0.06023292616009712,
          -0.03790102154016495,
          0.053612589836120605,
          0.17209765315055847,
          0.2190525382757187,
          -0.0776011198759079,
          0.12226244062185287,
          0.26174497604370117,
          0.8737478256225586,
          -0.11654780060052872,
          -0.10060647130012512,
          0.08661062270402908,
          0.034710049629211426,
          -0.3533633351325989,
          -0.1732277274131775,
          -0.10154956579208374,
          -0.12276989221572876,
          0.09132374078035355,
          -0.06363382190465927,
          0.011332488618791103,
          -0.02996089495718479,
          -0.08382011950016022,
          -0.041757732629776,
          0.06259847432374954,
          0.04189906641840935,
          0.043967150151729584,
          0.0223136804997921,
          0.012612519785761833,
          -0.007997872307896614,
          0.19622264802455902,
          0.21897824108600616,
          0.05857522413134575,
          -0.2009238451719284,
          -0.2799290418624878,
          0.7544323801994324,
          0.8261037468910217,
          0.08026018738746643,
          0.315769761800766,
          -0.1353914588689804,
          -0.13440406322479248,
          0.13088522851467133,
          -0.24731142818927765,
          -0.04289383813738823,
          0.08487570285797119,
          -0.010105615481734276,
          -0.023572027683258057,
          -0.12152319401502609,
          -0.15369375050067902,
          -0.34163326025009155,
          -0.019540732726454735,
          -0.02928379364311695,
          -0.10404114425182343,
          0.05513744801282883,
          -0.07662747800350189,
          -0.06903303414583206,
          -0.012092825025320053,
          -0.10248586535453796,
          -0.1133573055267334,
          -0.1554688811302185,
          0.12450950592756271,
          0.10673518478870392,
          0.21697941422462463,
          -0.2965248227119446,
          0.015786703675985336,
          -0.05840728059411049,
          0.12293629348278046,
          -0.08797777444124222,
          0.21090058982372284,
          -0.10860694944858551,
          0.048514220863580704,
          0.09188497811555862,
          -0.15120820701122284,
          -0.16444364190101624,
          0.1350870430469513,
          0.04277883097529411,
          0.12791697680950165,
          -0.06549295783042908,
          -0.054166119545698166,
          -0.02560695819556713,
          -0.12114336341619492,
          -0.09661545604467392,
          0.2587984800338745,
          0.3528563380241394,
          0.0010522326920181513,
          -0.07654038816690445,
          0.14453549683094025,
          -0.06622491031885147,
          0.2186872512102127,
          0.0029090112075209618,
          0.1664532572031021,
          -0.07054682075977325,
          -0.5500631928443909,
          -0.11810391396284103,
          -0.0027445307932794094,
          -0.08836027979850769,
          0.04648466408252716,
          -0.1545039415359497,
          0.152821347117424,
          -0.05159047618508339,
          -0.304751992225647,
          -0.001539847464300692,
          -0.24149785935878754,
          -0.10821795463562012,
          -0.08586842566728592,
          -0.05157870799303055,
          -0.5662168264389038,
          -0.2245272397994995,
          -0.05396498367190361,
          -0.11855752766132355,
          -0.015695922076702118,
          0.03828966245055199,
          0.11979725956916809,
          -0.14307135343551636,
          -0.2252633273601532,
          0.2774142324924469,
          0.05627543106675148,
          -0.06911451369524002,
          0.1895522177219391,
          -0.15761277079582214,
          -0.436143696308136,
          -0.08650309592485428,
          0.0235290490090847,
          0.04346141964197159,
          0.10905418545007706,
          0.0057199932634830475,
          0.24034011363983154,
          -0.12763644754886627,
          -0.2550049126148224,
          -0.2979377508163452,
          -0.3900547921657562,
          0.12572573125362396,
          0.002836788073182106,
          -0.005420690402388573,
          0.03368630260229111,
          -0.3125321865081787,
          0.04455970600247383,
          -0.0006217212066985667,
          0.02835990861058235,
          0.09602854400873184,
          0.06130964308977127,
          0.0001748253416735679,
          0.03519923612475395,
          0.07998049259185791,
          0.16198913753032684,
          0.030718492344021797,
          -0.006315418519079685,
          0.00647715013474226,
          0.05467763543128967,
          -0.25622719526290894,
          0.004325926769524813,
          -0.16882173717021942,
          0.12364417314529419,
          -0.13120527565479279,
          -0.3220987021923065,
          -0.1248839944601059,
          0.27583175897598267,
          0.31796520948410034,
          -0.09000522643327713,
          0.07708185911178589,
          -0.037977710366249084,
          -0.09968667477369308,
          0.40477684140205383,
          -0.09128352254629135,
          -0.08148076385259628,
          -0.06230304390192032,
          -0.10745102167129517,
          0.22234266996383667,
          -0.06609237194061279,
          0.26544517278671265,
          -0.11223150044679642,
          0.2960602343082428,
          -0.057174161076545715,
          0.07747438549995422,
          -0.12811842560768127,
          -0.11294492334127426,
          0.11452596634626389,
          -0.22282233834266663,
          -0.09557893127202988,
          0.08725742250680923,
          -0.025917652994394302,
          -0.18895961344242096,
          0.11302638053894043,
          0.22980394959449768,
          0.11655782163143158,
          0.10566669702529907,
          -0.11110624670982361,
          -0.2576576769351959,
          -0.1314765363931656,
          -0.1879291981458664,
          -0.18510878086090088,
          -0.022104570642113686,
          -0.39923709630966187,
          0.14141620695590973,
          0.1063433438539505,
          -0.1012706607580185,
          -0.0076432363130152225,
          -0.1498016119003296,
          0.17146140336990356,
          -0.14831139147281647,
          0.1641719490289688,
          0.11962546408176422,
          0.09360777586698532,
          -0.1707780659198761,
          -0.06078250706195831,
          0.06934322416782379,
          -0.16827550530433655,
          0.060291122645139694,
          -0.13398045301437378,
          -0.22272518277168274,
          -0.0409262478351593,
          0.2045266032218933,
          -0.00005989340570522472,
          -0.0363415963947773,
          -0.2449711561203003,
          0.07610415667295456,
          0.06154133751988411,
          -0.039352793246507645,
          0.026363210752606392,
          -0.095937579870224,
          -0.16295307874679565,
          -0.016311725601553917,
          -0.12247336655855179,
          -0.007901474833488464,
          -0.015493803657591343,
          -0.3051770329475403,
          -0.06146688386797905,
          0.019276149570941925,
          0.10982455313205719,
          -0.08338622748851776,
          -0.08419382572174072,
          -0.0011593836825340986,
          0.02296406775712967,
          -0.11441051959991455,
          -0.08163592964410782,
          -0.09931658953428268,
          -0.21508587896823883,
          -0.08226588368415833,
          0.12776881456375122,
          -0.09834903478622437,
          -0.008321956731379032,
          0.0074862828478217125,
          0.03744595870375633,
          -0.08379413932561874,
          -0.05005495995283127,
          0.0005972082726657391,
          0.14752216637134552,
          0.06467009335756302,
          0.22603237628936768,
          0.1304285079240799,
          0.0669645443558693,
          -0.2142106145620346,
          -0.09725929796695709,
          0.011184491217136383,
          -0.2161216139793396,
          0.04003850743174553,
          0.14962242543697357,
          0.08691804856061935,
          -0.18643395602703094,
          -0.18237267434597015,
          0.32013413310050964,
          0.054032716900110245,
          -0.15125860273838043,
          -0.12885691225528717,
          0.06046183779835701,
          -0.18143437802791595,
          -0.14444713294506073,
          0.18196769058704376,
          -0.07425352931022644,
          0.1553034633398056,
          0.4350331723690033,
          -0.14897306263446808,
          0.18561667203903198,
          -0.41411900520324707,
          0.24158281087875366,
          -0.09403601288795471,
          -0.14616714417934418,
          -0.1421651989221573,
          0.10695411264896393,
          -0.39302778244018555,
          -0.08412590622901917,
          -0.13191676139831543,
          -0.04816383868455887,
          0.049705252051353455,
          -0.27211424708366394,
          -0.11815926432609558,
          -0.2579977214336395,
          -0.21822762489318848,
          -0.41196033358573914,
          -0.38760507106781006,
          -0.07969631999731064,
          0.21126814186573029,
          0.06187519431114197,
          0.044358670711517334,
          -0.11069174855947495,
          0.0480273962020874,
          0.10288693010807037,
          0.08855978399515152,
          0.06643790006637573,
          -0.19362585246562958,
          -0.38436269760131836,
          -0.023828132078051567,
          -0.010462271049618721,
          -0.2591858506202698,
          -0.21109215915203094,
          -0.3198043406009674,
          -0.24994809925556183,
          -0.2947903871536255,
          0.2754365801811218,
          -0.2923339605331421,
          -0.33536475896835327,
          0.2583615779876709,
          -0.34294065833091736,
          -0.07725486904382706,
          0.0816238522529602,
          -0.04583549126982689,
          0.09559796750545502,
          -0.07250424474477768,
          0.16005805134773254,
          0.17569772899150848,
          -0.07680448144674301,
          -0.034523557871580124,
          -0.1310672014951706,
          -0.1749846339225769,
          -0.15030412375926971,
          -0.0273212268948555,
          -0.2956576645374298,
          -0.11415918916463852,
          -0.11415918916463852,
          -0.11415918916463852,
          0.07106037437915802,
          -0.016143811866641045,
          0.11252342164516449,
          0.13391824066638947,
          0.1217997744679451,
          0.18078193068504333,
          0.125030979514122,
          -0.16376827657222748,
          0.051346100866794586,
          0.05255717411637306,
          -0.20177125930786133,
          0.04340634495019913,
          -0.1489688605070114,
          -0.13298562169075012,
          -0.38451266288757324,
          -0.2456958144903183,
          0.2281149923801422,
          -0.35579589009284973,
          -0.0029766117222607136,
          -0.15452755987644196,
          -0.07241224497556686,
          -0.06876545399427414,
          -0.12353212386369705,
          -0.023816246539354324,
          0.14696316421031952,
          -0.16933302581310272,
          -0.09891505539417267,
          0.22311259806156158,
          0.14720776677131653,
          -0.044120945036411285,
          -0.22455041110515594,
          -0.3458688259124756,
          -0.19708482921123505,
          0.13645467162132263,
          -0.16839294135570526,
          -0.05493656545877457,
          0.08493828773498535,
          0.025219164788722992,
          -0.24370664358139038,
          -0.03716730698943138,
          -0.23543906211853027,
          -0.3166472911834717,
          -0.187654048204422,
          -0.4206262528896332,
          -0.09163637459278107,
          -0.14835122227668762,
          0.06079899147152901,
          -0.06797681003808975,
          0.003235224634408951,
          0.03587481752038002,
          -0.12704510986804962,
          -0.40902218222618103,
          0.13495579361915588,
          -0.19095580279827118,
          0.18570713698863983,
          -0.13942168653011322,
          0.08638165891170502,
          -0.26989030838012695,
          -0.013931426219642162,
          0.15621279180049896,
          -0.09879818558692932,
          -0.14033326506614685,
          0.022163938730955124,
          -0.07013407349586487,
          -0.2216036468744278,
          0.0881982371211052,
          0.08724208176136017,
          0.0621153824031353,
          -0.2970751225948334,
          -0.00008285701915156096,
          -0.24544157087802887,
          -0.25473275780677795,
          -0.026109319180250168,
          -0.06989533454179764,
          -0.33713269233703613,
          -0.07232441753149033,
          -0.43106260895729065,
          -0.06225701421499252,
          -0.0025915722362697124,
          -0.18306241929531097,
          -0.10360004007816315,
          0.07323447614908218,
          -0.08903240412473679,
          0.12289407849311829,
          -0.0515277273952961,
          0.04134301468729973,
          -0.06098349764943123,
          -0.1480293571949005,
          -0.041772305965423584,
          -0.08281620591878891,
          0.12725941836833954,
          0.0392601303756237,
          0.031671371310949326,
          -0.28113406896591187,
          -0.00691781472414732,
          -0.3239804208278656,
          0.13444197177886963,
          -0.085050567984581,
          0.1571292281150818,
          0.11554491519927979,
          0.07267442345619202,
          -0.3264008164405823,
          -0.3049790561199188,
          -0.03726476803421974,
          -0.05113837867975235,
          -0.2203129678964615,
          0.10376737266778946,
          0.15295866131782532,
          0.05475619435310364,
          0.06325270980596542,
          0.12766452133655548,
          -0.21463817358016968,
          -0.07859855890274048,
          -0.056325092911720276,
          -0.1602533757686615,
          -0.04810796678066254,
          -0.00603231368586421,
          -0.09074407815933228,
          -0.06759253889322281,
          -0.021053094416856766,
          0.132054403424263,
          -0.06333664059638977,
          -0.17755791544914246,
          -0.15103453397750854,
          -0.28619861602783203,
          -0.10038091242313385,
          0.035556282848119736,
          0.14096933603286743,
          0.24876974523067474,
          0.12402444332838058,
          0.19786469638347626,
          -0.0819522961974144,
          0.1677175611257553,
          0.1657876819372177,
          0.005360929295420647,
          0.03196120262145996,
          -0.09720604866743088,
          -0.08611730486154556,
          0.13801059126853943,
          -0.021723875775933266,
          -0.10110737383365631,
          -0.1742132604122162,
          -0.23589372634887695,
          -0.10832245647907257,
          -0.10669521987438202,
          0.03995030000805855,
          0.08327309042215347,
          0.3397495448589325,
          -0.3169644773006439,
          0.17104050517082214,
          -0.1520131379365921,
          -0.2300853580236435,
          -0.11219633370637894,
          -0.09788864105939865,
          -0.2052830159664154,
          -0.04016399756073952,
          -0.08660664409399033,
          0.18654610216617584,
          0.21046221256256104,
          0.17496876418590546,
          0.2122730314731598,
          -0.009138562716543674,
          -0.1619156002998352,
          -0.27591225504875183,
          -0.074083112180233,
          -0.09467378258705139,
          -0.030235223472118378,
          -0.22589027881622314,
          0.038901571184396744,
          -0.23466405272483826,
          -0.12246959656476974,
          0.06226613000035286,
          -0.08791379630565643,
          -0.04246187210083008,
          0.13051636517047882,
          0.08045283704996109,
          -0.19030123949050903,
          -0.15361587703227997,
          -0.08007462322711945,
          -0.3370332419872284,
          0.035258762538433075,
          0.12319929152727127,
          0.15318450331687927,
          0.2213740050792694,
          0.019022243097424507,
          -0.07746738195419312,
          -0.04679371789097786,
          -0.11657218635082245,
          0.008988878689706326,
          -0.19463442265987396,
          -0.2967681586742401,
          -0.13739855587482452,
          -0.1343236267566681,
          -0.04488283768296242,
          -0.05393693223595619,
          -0.1754494309425354,
          0.08319015800952911,
          0.11832966655492783,
          0.19034653902053833,
          -0.293468713760376,
          -0.17406399548053741,
          0.058400895446538925,
          0.14028814435005188,
          0.38459983468055725,
          -0.12919914722442627,
          0.09239199012517929,
          0.08673302084207535,
          -0.2586251199245453,
          -0.01984790712594986,
          -0.12261853367090225,
          -0.09333113580942154,
          -0.13754026591777802,
          -0.07587145268917084,
          -0.08577604591846466,
          -0.06387525796890259,
          0.13298854231834412,
          -0.050604239106178284,
          0.12397432327270508,
          -0.41578778624534607,
          -0.05717889219522476,
          0.03978823125362396,
          -0.09051338583230972,
          -0.054711390286684036,
          -0.42763248085975647,
          -0.20155353844165802,
          -0.06986965984106064,
          0.07258099317550659,
          0.14596246182918549,
          -0.08331949263811111,
          -0.03825202211737633,
          0.08603229373693466,
          -0.0019383475882932544,
          -0.04991639032959938,
          0.03627099469304085,
          -0.013957490213215351,
          -0.3267955482006073,
          -0.09509000927209854,
          0.04283210262656212,
          0.07410302013158798,
          -0.1880810260772705,
          -0.22961309552192688,
          -0.12398278713226318,
          -0.03125455603003502,
          0.006751349661499262,
          -0.048816949129104614,
          -0.09913462400436401,
          -0.07931867241859436,
          -0.23573414981365204,
          -0.1938847452402115,
          0.01130670215934515,
          -0.05141057074069977,
          0.001021309639327228,
          0.015056398697197437,
          -0.18083670735359192,
          0.15233054757118225,
          -0.12986645102500916,
          -0.01576494798064232,
          0.025828000158071518,
          0.057137735188007355,
          -0.04250895604491234,
          -0.037017758935689926,
          0.013762866146862507,
          -0.05455274134874344,
          -0.2145361751317978,
          -0.07931867241859436,
          -0.04128754138946533,
          -0.0955345407128334,
          0.05911501497030258,
          0.0876656025648117,
          0.08824697881937027,
          0.12594598531723022,
          0.0644145980477333,
          0.041788507252931595,
          -0.06001957878470421,
          -0.017616646364331245,
          0.05310164391994476,
          -0.13525550067424774,
          0.11869301646947861,
          -0.12645301222801208,
          -0.030070699751377106,
          0.017690706998109818,
          0.0017360959900543094,
          -0.1214669942855835,
          -0.0767889991402626,
          -0.048946935683488846,
          -0.14934314787387848,
          -0.05306033790111542,
          -0.03438567370176315,
          -0.2057390809059143,
          0.014314127154648304,
          -0.02895909920334816,
          -0.13197536766529083,
          -0.10644695162773132,
          -0.10964951664209366,
          0.10269033163785934,
          -0.5091038346290588,
          -0.3165138065814972,
          0.10493425279855728,
          -0.11129342764616013,
          -0.1078711673617363,
          -0.21425682306289673,
          -0.2393701821565628,
          -0.012493535876274109,
          -0.010426144115626812,
          0.0193548072129488,
          -0.26672428846359253,
          -0.017887424677610397,
          -0.2929662764072418,
          -0.3128410279750824,
          -0.002051343908533454,
          -0.06182173267006874,
          0.08348353952169418,
          -0.15281808376312256,
          -0.005422219634056091,
          -0.0672992616891861,
          -0.10339876264333725,
          -0.1483398824930191,
          -0.1436423808336258,
          -0.20188380777835846,
          0.10977945476770401,
          -0.3354860246181488,
          -0.4037030041217804,
          0.06459794193506241,
          -0.3312967121601105,
          0.09984306246042252,
          0.22687575221061707,
          -0.0008211195236071944,
          -0.06316470354795456,
          0.013204148039221764,
          0.16309088468551636,
          0.2728166878223419,
          -0.008731727488338947,
          0.037846874445676804,
          0.15495024621486664,
          0.006022987421602011,
          0.08978331834077835,
          0.05651671066880226,
          0.04855602979660034,
          0.08809839189052582,
          0.03472521901130676,
          -0.04194481670856476,
          0.13582934439182281,
          -0.1809554249048233,
          -0.04613957554101944,
          -0.08206541836261749,
          0.06893880665302277,
          0.2704763114452362,
          -0.17035023868083954,
          -0.19233247637748718,
          -0.0005419785156846046,
          -0.02493363805115223,
          0.1983211487531662,
          -0.07539404928684235,
          0.027283577248454094,
          -0.09610806405544281,
          -0.17608056962490082,
          0.1229998916387558,
          0.04687673971056938,
          0.09971325844526291,
          -0.37674185633659363,
          -0.11353233456611633,
          0.4926784038543701,
          0.1559271663427353,
          -0.15573479235172272,
          -0.024972140789031982,
          -0.26167774200439453,
          -0.015290353447198868,
          0.25350257754325867,
          -0.16215698421001434,
          -0.05945255234837532,
          -0.11260822415351868,
          0.07122407108545303,
          -0.05725395306944847,
          0.17568422853946686,
          -0.016627946868538857,
          -0.0815596804022789,
          -0.1237836554646492,
          -0.05588766932487488,
          0.023884452879428864,
          -0.02339838072657585,
          -0.019346706569194794,
          0.02943558618426323,
          -0.10316001623868942,
          -0.1939854621887207,
          -0.07212908565998077,
          0.06428524106740952,
          -0.05963951721787453,
          0.096980519592762,
          0.06874042749404907,
          0.07573825865983963,
          -0.13060510158538818,
          -0.13060510158538818,
          -0.08260873705148697,
          -0.08260873705148697,
          0.07384871691465378,
          0.07384871691465378,
          0.02110101282596588,
          0.02110101282596588,
          -0.32737046480178833,
          -0.32737046480178833,
          -0.15011364221572876,
          -0.15011364221572876,
          0.06983970105648041,
          0.06983970105648041,
          -0.35802051424980164,
          -0.35802051424980164,
          -0.1936134248971939,
          -0.1936134248971939,
          -0.11844731867313385,
          -0.17519791424274445,
          -0.06967857480049133,
          -0.06967857480049133,
          0.05685798451304436,
          0.05685798451304436,
          0.002768370322883129,
          0.002768370322883129,
          0.19838134944438934,
          0.19838134944438934,
          -0.11106380820274353,
          -0.11106380820274353,
          -0.13374002277851105,
          -0.47962915897369385,
          0.23878341913223267,
          0.16439808905124664,
          0.16162635385990143,
          0.09294752776622772,
          0.1167801097035408,
          -0.01872267574071884,
          0.027904348447918892,
          -0.29120925068855286,
          -0.021599069237709045,
          0.09055614471435547,
          -0.19809377193450928,
          0.05889871343970299,
          -0.26427143812179565,
          -0.20615875720977783,
          -0.3117679953575134,
          -0.025357669219374657,
          0.09495880454778671,
          -0.059111338108778,
          -0.06701792031526566,
          0.014964910224080086,
          -0.11261533945798874,
          0.03458469361066818,
          0.1374288946390152,
          0.04673352837562561,
          -0.011210951022803783,
          -0.0009665719699114561,
          -0.07807488739490509,
          0.10226891934871674,
          0.02269444800913334,
          0.18204981088638306,
          0.25003790855407715,
          -0.05465846136212349,
          -0.2456369698047638,
          -0.12895677983760834,
          0.09289202094078064,
          -0.1723637878894806,
          0.0014851823216304183,
          0.11964904516935349,
          0.009572658687829971,
          -0.2237180769443512,
          -0.01991915889084339,
          -0.19751285016536713,
          -0.045805323868989944,
          -0.09562397748231888,
          0.08321376889944077,
          0.07977843284606934,
          -0.003825695952400565,
          -0.1936795860528946,
          -0.07524221390485764,
          0.0243739765137434,
          -0.02320018596947193,
          -0.039266545325517654,
          -0.1463872194290161,
          -0.0492500439286232,
          0.04645083099603653,
          -0.13541637361049652,
          -0.14991329610347748,
          -0.20702244341373444,
          -0.07747476547956467,
          -0.23103877902030945,
          -0.07809284329414368,
          0.14277134835720062,
          -0.1782255619764328,
          -0.3371746838092804,
          0.13373760879039764,
          -0.16673681139945984,
          0.187300905585289,
          -0.05367199331521988,
          0.04125117510557175,
          -0.12021439522504807,
          -0.2448698878288269,
          -0.13213951885700226,
          -0.28518277406692505,
          -0.18737515807151794,
          -0.4109780788421631,
          -0.2650545835494995,
          0.05760277435183525,
          0.11168079078197479,
          0.549570620059967,
          -0.06324480473995209,
          0.16768282651901245,
          0.05851533263921738,
          -0.03971559926867485,
          0.10435710102319717,
          -0.1905929148197174,
          -0.11928693950176239,
          0.1051446944475174,
          -0.019380325451493263,
          0.1651904433965683,
          0.08076444268226624,
          -0.1374243199825287,
          0.14608794450759888,
          0.0790192112326622,
          -0.3275563716888428,
          -0.03446124866604805,
          0.06019990146160126,
          -0.0972120612859726,
          -0.22003290057182312,
          0.2109479010105133,
          0.0841451957821846,
          -0.08136863261461258,
          0.08941742777824402,
          0.05776379257440567,
          0.12562182545661926,
          0.18137715756893158,
          0.03314487636089325,
          -0.13435833156108856,
          -0.1438448578119278,
          -0.015352089889347553,
          -0.14471180737018585,
          -0.15186618268489838,
          -0.2005830854177475,
          -0.23740391433238983,
          0.22657762467861176,
          0.16591612994670868,
          -0.11536800861358643,
          0.1156269907951355,
          0.2105121910572052,
          0.023394392803311348,
          -0.044212158769369125,
          -0.12690716981887817,
          0.07513949275016785,
          -0.004059925209730864,
          0.09092103689908981,
          -0.012974457815289497,
          -0.072337307035923,
          -0.1571754366159439,
          -0.1237131804227829,
          0.03706291317939758,
          0.19645492732524872,
          -0.027088433504104614,
          0.06863845139741898,
          -0.006686360575258732,
          0.04893730208277702,
          0.1342911422252655,
          0.03866158053278923,
          -0.03646675869822502,
          -0.2010781466960907,
          0.08538585156202316,
          -0.16025666892528534,
          -0.05249260738492012,
          0.14814645051956177,
          -0.00880386307835579,
          0.1416338086128235,
          -0.08337849378585815,
          0.10455384105443954,
          -0.026979178190231323,
          0.11615148931741714,
          0.14506755769252777,
          -0.2153063863515854,
          0.2095353901386261,
          0.03421102836728096,
          -0.13709481060504913,
          -0.16324782371520996,
          0.2950473427772522,
          0.11450940370559692,
          0.23480618000030518,
          0.003759327344596386,
          -0.19461514055728912,
          -0.360158234834671,
          -0.012482759542763233,
          0.149112731218338,
          -0.04693134129047394,
          -0.1583438366651535,
          -0.1605827957391739,
          0.030098803341388702,
          0.21655315160751343,
          -0.14437158405780792,
          0.06301704794168472,
          -0.246964693069458,
          0.07149168848991394,
          -0.020265385508537292,
          -0.2915566563606262,
          0.019319094717502594,
          -0.16679257154464722,
          0.08358334004878998,
          -0.137039914727211,
          -0.03508412837982178,
          0.07474751025438309,
          -0.2481442093849182,
          0.10645221918821335,
          0.053026579320430756,
          -0.04752038046717644,
          -0.013065923936665058,
          -0.0900300070643425,
          0.14678159356117249,
          -0.08324266970157623,
          0.026974119246006012,
          0.0008681459003128111,
          -0.03723378852009773,
          0.5933188796043396,
          -0.04174584895372391,
          -0.0901358351111412,
          0.2997199296951294,
          0.16603465378284454,
          -0.026302358135581017,
          -0.035547539591789246,
          0.08075346052646637,
          -0.18929706513881683,
          -0.11533307284116745,
          -0.3609088063240051,
          -0.1607658416032791,
          -0.026019273325800896,
          0.0752614215016365,
          -0.14145852625370026,
          -0.27035364508628845,
          0.1369057595729828,
          0.0969395712018013,
          -0.46548527479171753,
          -0.004772618878632784,
          0.10537297278642654,
          -0.04468875750899315,
          0.034694649279117584,
          -0.067140594124794,
          0.22205674648284912,
          -0.12907543778419495,
          -0.0579783171415329,
          -0.21544604003429413,
          0.04628947004675865,
          0.028708582744002342,
          0.04189619421958923,
          -0.08451436460018158,
          0.090786412358284,
          0.26069000363349915,
          0.14106348156929016,
          0.12287069112062454,
          -0.07701686769723892,
          -0.03346845880150795,
          -0.04879915714263916,
          0.08342023938894272,
          -0.09927049279212952,
          -0.11371717602014542,
          0.006232960149645805,
          0.0395568422973156,
          0.03801333159208298,
          -0.08552155643701553,
          -0.18185576796531677,
          0.03205837681889534,
          0.2439693957567215,
          0.0650763288140297,
          0.061421703547239304,
          -0.08074932545423508,
          -0.026363404467701912,
          -0.14493727684020996,
          0.06750576198101044,
          -0.20245018601417542,
          -0.03643665835261345,
          -0.39556920528411865,
          -0.39295920729637146,
          0.14120571315288544,
          -0.02891744300723076,
          -0.026493247598409653,
          -0.06780607253313065,
          0.012024570256471634,
          -0.04943232610821724,
          0.0016744245076552033,
          0.050738438963890076,
          -0.15667511522769928,
          -0.3170934021472931,
          0.2090579867362976,
          0.08161944895982742,
          -0.3531152606010437,
          -0.15397796034812927,
          -0.12244661152362823,
          0.05308441072702408,
          0.040580812841653824,
          -0.10698296129703522,
          -0.22597575187683105,
          0.13379240036010742,
          0.19533900916576385,
          -0.13814769685268402,
          0.07967683672904968,
          -0.0031401310116052628,
          0.0824432522058487,
          -0.09691052883863449,
          0.08586115390062332,
          -0.32725751399993896,
          -0.3408970832824707,
          -0.12963758409023285,
          0.1689828485250473,
          0.05774975195527077,
          0.13135071098804474,
          0.1535012274980545,
          -0.045794568955898285,
          0.15341676771640778,
          -0.09869438409805298,
          0.17120082676410675,
          0.06606870889663696,
          -0.06254485994577408,
          -0.10594337433576584,
          -0.004511608742177486,
          0.19664748013019562,
          -0.08456705510616302,
          0.1359378695487976,
          -0.012284800410270691,
          0.15748991072177887,
          0.07589644193649292,
          0.1229957789182663,
          0.0719606950879097,
          0.1288800686597824,
          -0.1343335658311844,
          0.14546015858650208,
          0.00587649829685688,
          -0.07526171207427979,
          0.00551160192117095,
          0.10899274796247482,
          -0.03678033873438835,
          0.05660189688205719,
          0.0633213073015213,
          -0.27516260743141174,
          -0.22286352515220642,
          -0.06350021809339523,
          0.000010534861758060288,
          0.10295717418193817,
          0.059583909809589386,
          -0.3360869288444519,
          -0.1713213324546814,
          0.09575413912534714,
          0.14222367107868195,
          -0.03132845088839531,
          0.0004310580261517316,
          -0.011259768158197403,
          -0.09873988479375839,
          -0.18142083287239075,
          -0.01143964845687151,
          -0.1092788353562355,
          -0.06411879509687424,
          -0.1500733345746994,
          -0.24400365352630615,
          -0.03815997391939163,
          -0.160841703414917,
          -0.06250882893800735
         ],
         "y": [
          -0.08167374134063721,
          0.20414990186691284,
          -0.1178794875741005,
          -0.1414213925600052,
          -0.043721508234739304,
          0.1058725118637085,
          -0.0014337633037939668,
          -0.03041764535009861,
          0.1496986299753189,
          -0.03667599707841873,
          -0.37736624479293823,
          0.0300939679145813,
          0.13417354226112366,
          0.09639102220535278,
          0.10877875238656998,
          0.05164562538266182,
          -0.26654377579689026,
          0.15537665784358978,
          0.009163818322122097,
          0.23309765756130219,
          0.14209574460983276,
          -0.15007220208644867,
          -0.18029658496379852,
          0.12992249429225922,
          -0.1682853102684021,
          0.019406704232096672,
          0.19977134466171265,
          0.23304198682308197,
          -0.1189483031630516,
          -0.04840460419654846,
          -0.012222770601511002,
          -0.11637064069509506,
          0.04238681495189667,
          -0.15889596939086914,
          0.121598981320858,
          0.0761055126786232,
          0.08521055430173874,
          0.11923752725124359,
          -0.16597364842891693,
          -0.05508030205965042,
          0.12574274837970734,
          0.07148220390081406,
          -0.255253404378891,
          -0.10034767538309097,
          0.0776914730668068,
          0.024058155715465546,
          0.08182723075151443,
          0.14688685536384583,
          0.13924159109592438,
          0.10969141125679016,
          0.24002724885940552,
          -0.07580684870481491,
          0.07014919817447662,
          0.24476554989814758,
          0.14057327806949615,
          -0.06700305640697479,
          -0.28579503297805786,
          -0.11674703657627106,
          0.07680492103099823,
          0.04432392120361328,
          -0.06467343121767044,
          0.053909748792648315,
          -0.004754343070089817,
          -0.0032085080165416002,
          0.04105672240257263,
          -0.08619341254234314,
          -0.02323591150343418,
          -0.09383314847946167,
          0.013562814332544804,
          0.1225903332233429,
          -0.18732036650180817,
          0.04158415272831917,
          0.035480450838804245,
          -0.04377194494009018,
          -0.3198641836643219,
          0.07855498790740967,
          0.1981317102909088,
          -0.14166398346424103,
          -0.0944899395108223,
          0.07575428485870361,
          -0.023416560143232346,
          0.18526974320411682,
          -0.007139569614082575,
          -0.040902506560087204,
          -0.125567227602005,
          0.0035673952661454678,
          0.21062061190605164,
          -0.020349496975541115,
          0.08256347477436066,
          -0.005258102901279926,
          0.00858780462294817,
          -0.036046352237463,
          0.05804375559091568,
          -0.08993881940841675,
          0.07737090438604355,
          -0.01107211597263813,
          -0.06032704934477806,
          -0.0428646020591259,
          -0.06149473041296005,
          0.049441948533058167,
          -0.08689820766448975,
          -0.10079645365476608,
          -0.0481991246342659,
          0.06520704180002213,
          -0.03964510187506676,
          0.026698600500822067,
          -0.03964123874902725,
          -0.1373613327741623,
          -0.16414611041545868,
          0.026078330352902412,
          -0.006145787891000509,
          -0.005848691798746586,
          0.21025292575359344,
          0.2718861997127533,
          -0.13688905537128448,
          -0.07592837512493134,
          -0.09273956716060638,
          0.20577317476272583,
          0.16011571884155273,
          0.13325530290603638,
          0.0652557834982872,
          0.027112038806080818,
          0.06644453853368759,
          0.19288142025470734,
          -0.07764357328414917,
          0.06599058210849762,
          0.09432048350572586,
          0.04950378090143204,
          -0.031093021854758263,
          -0.20227380096912384,
          0.08199350535869598,
          0.022534139454364777,
          -0.0742831602692604,
          0.021153826266527176,
          -0.2408139407634735,
          0.3853885531425476,
          -0.04035932198166847,
          -0.0605020672082901,
          0.030597023665905,
          -0.1028570830821991,
          0.4841109812259674,
          0.04505864158272743,
          0.0871671587228775,
          -0.038609303534030914,
          0.2595529854297638,
          -0.07999247312545776,
          0.5078995823860168,
          -0.2282041609287262,
          -0.008273584768176079,
          0.45897597074508667,
          -0.019406089559197426,
          -0.09736305475234985,
          -0.07556936889886856,
          -0.044056691229343414,
          0.04444152116775513,
          -0.050240594893693924,
          -0.08288710564374924,
          -0.01664353720843792,
          0.24215100705623627,
          0.18174108862876892,
          0.10139131546020508,
          0.5124826431274414,
          0.07496855407953262,
          -0.07985695451498032,
          -0.0027701195795089006,
          0.011068884283304214,
          -0.0299620870500803,
          0.122373566031456,
          0.11728071421384811,
          0.16988620162010193,
          0.10154472291469574,
          0.09268523752689362,
          0.004642773419618607,
          0.055360097438097,
          -0.10157977789640427,
          0.08612944185733795,
          -0.08552392572164536,
          -0.08916541188955307,
          0.13193273544311523,
          0.00933469831943512,
          0.17015649378299713,
          0.018541701138019562,
          0.01701822131872177,
          -0.0001739049330353737,
          0.048558708280324936,
          0.01731089875102043,
          0.2847233712673187,
          0.5308177471160889,
          0.5330961346626282,
          0.0565088614821434,
          0.15911366045475006,
          -0.003245402593165636,
          0.04661839082837105,
          -0.04317762330174446,
          0.2893470227718353,
          0.0888257548213005,
          -0.025624193251132965,
          -0.13779830932617188,
          -0.2283533662557602,
          0.0006300012464635074,
          -0.02102554403245449,
          0.22780446708202362,
          -0.07983586192131042,
          0.01892394945025444,
          -0.09928403049707413,
          -0.11396297812461853,
          -0.1745368093252182,
          0.06347360461950302,
          -0.013089722953736782,
          0.24429439008235931,
          0.246867373585701,
          0.001394356950186193,
          -0.08772359043359756,
          0.172248974442482,
          0.2130691558122635,
          0.07037916779518127,
          -0.08186572790145874,
          -0.13901115953922272,
          0.02490047924220562,
          0.058327868580818176,
          0.09227795153856277,
          -0.0036983515601605177,
          -0.044274602085351944,
          -0.12360837310552597,
          -0.08621934056282043,
          0.031132547184824944,
          -0.05661848187446594,
          0.06625925749540329,
          0.04105932638049126,
          0.008154936134815216,
          -0.0563272163271904,
          0.11398313194513321,
          -0.011080404743552208,
          0.038578007370233536,
          0.14689713716506958,
          0.3169686496257782,
          -0.05449539050459862,
          0.14765788614749908,
          0.07327526807785034,
          -0.060286007821559906,
          -0.008861878886818886,
          -0.2077784240245819,
          0.02551804855465889,
          0.008272041566669941,
          0.0963246300816536,
          -0.13329017162322998,
          0.10284143686294556,
          0.06936587393283844,
          0.04004988819360733,
          0.10635826736688614,
          -0.0409836582839489,
          -0.007598595228046179,
          0.12238405644893646,
          0.3506353795528412,
          0.04519588127732277,
          0.23950861394405365,
          0.22034946084022522,
          -0.14103420078754425,
          0.1696171760559082,
          -0.05334489792585373,
          -0.06403984874486923,
          -0.09454287588596344,
          -0.05508444458246231,
          0.08542222529649734,
          0.02951730601489544,
          0.10587599873542786,
          -0.219109907746315,
          0.15300817787647247,
          -0.0333266444504261,
          -0.08607496321201324,
          0.24907714128494263,
          0.26104554533958435,
          0.20092061161994934,
          0.09257648140192032,
          0.06430524587631226,
          0.04597673565149307,
          -0.030368784442543983,
          0.029845084995031357,
          0.11830705404281616,
          0.1091856062412262,
          -0.33553680777549744,
          0.03311075270175934,
          -0.35923632979393005,
          -0.1153591200709343,
          -0.09590641409158707,
          0.09839357435703278,
          0.15010710060596466,
          -0.24195267260074615,
          -0.14150948822498322,
          -0.16014601290225983,
          -0.1694978028535843,
          -0.017688749358057976,
          0.0879233255982399,
          0.15382841229438782,
          0.05726306140422821,
          -0.1908237785100937,
          -0.050382014364004135,
          -0.003491977695375681,
          0.06853524595499039,
          -0.2379845380783081,
          -0.006652331445366144,
          -0.059056077152490616,
          0.012064668349921703,
          0.09403683990240097,
          -0.11784794926643372,
          -0.026725463569164276,
          -0.014069860801100731,
          0.0984761044383049,
          0.09376872330904007,
          0.13369806110858917,
          -0.00733350683003664,
          -0.08694743365049362,
          -0.024320732802152634,
          -0.09368107467889786,
          0.14197389781475067,
          0.10178535431623459,
          -0.05820494890213013,
          -0.17915499210357666,
          -0.11687543243169785,
          0.08370013535022736,
          -0.0529722236096859,
          0.08628243207931519,
          0.10614710301160812,
          -0.03569819778203964,
          0.11546292155981064,
          0.11803245544433594,
          0.1639002412557602,
          0.016424044966697693,
          0.0521041564643383,
          0.015430889092385769,
          -0.06619858741760254,
          0.027165722101926804,
          0.01023495476692915,
          -0.19496284425258636,
          -0.08154559135437012,
          -0.3592052161693573,
          -0.21116860210895538,
          0.11081237345933914,
          0.0440419502556324,
          0.03347112610936165,
          -0.0011563545558601618,
          0.11404755711555481,
          0.0484902448952198,
          0.24798761308193207,
          0.39228206872940063,
          -0.03895296901464462,
          -0.10888417065143585,
          -0.15775708854198456,
          -0.06299372762441635,
          -0.031466223299503326,
          -0.2859768569469452,
          -0.06328346580266953,
          0.0126624945551157,
          -0.13591858744621277,
          0.0740034356713295,
          -0.1940707117319107,
          -0.05846443027257919,
          -0.09491003304719925,
          0.06380543112754822,
          -0.04132551699876785,
          -0.17027896642684937,
          0.16036038100719452,
          -0.206161230802536,
          0.0005780947394669056,
          -0.2117607742547989,
          -0.08567377924919128,
          -0.03601347655057907,
          -0.07464873045682907,
          0.1359996795654297,
          -0.03961963206529617,
          -0.04392926022410393,
          0.0914354994893074,
          0.0941312238574028,
          0.15892085433006287,
          0.07291156053543091,
          0.20234915614128113,
          0.05539242923259735,
          0.3431266248226166,
          -0.14598782360553741,
          -0.2026035487651825,
          -0.17673811316490173,
          0.005227727349847555,
          0.15015703439712524,
          0.21999339759349823,
          -0.052049025893211365,
          0.155329629778862,
          0.14151886105537415,
          -0.017918245866894722,
          0.009361626580357552,
          -0.03599085286259651,
          0.09397287666797638,
          0.08153468370437622,
          0.09649154543876648,
          -0.024705538526177406,
          0.03420773893594742,
          -0.10485541075468063,
          0.394223690032959,
          0.07854200899600983,
          -0.11500738561153412,
          -0.04338075593113899,
          0.04867010563611984,
          -0.17365391552448273,
          0.026958702132105827,
          -0.21379625797271729,
          0.034068334847688675,
          0.06961540132761002,
          0.016092173755168915,
          -0.23028862476348877,
          -0.1411694437265396,
          -0.24610665440559387,
          0.17436829209327698,
          0.038005147129297256,
          -0.1228584349155426,
          0.09438366442918777,
          0.08955185115337372,
          0.14262646436691284,
          -0.12959739565849304,
          -0.041877664625644684,
          0.10552755743265152,
          0.036303721368312836,
          0.12239966541528702,
          0.0022513249423354864,
          0.19350102543830872,
          -0.16612684726715088,
          0.07623482495546341,
          0.03021998517215252,
          -0.1723296046257019,
          0.14527995884418488,
          -0.1577189415693283,
          0.18749389052391052,
          0.24629463255405426,
          -0.13670478761196136,
          0.004034507554024458,
          0.16517268121242523,
          -0.10125594586133957,
          -0.25555381178855896,
          0.027835151180624962,
          0.17387549579143524,
          -0.02939424104988575,
          0.11021273583173752,
          0.303745836019516,
          0.23422519862651825,
          0.014057094231247902,
          0.013815454207360744,
          -0.09304942190647125,
          0.001961632166057825,
          -0.07482809573411942,
          -0.18608804047107697,
          -0.06910289824008942,
          0.1705491691827774,
          -0.13215138018131256,
          0.12182819843292236,
          0.13435833156108856,
          -0.07578517496585846,
          -0.12438587844371796,
          0.007452523335814476,
          0.11019860953092575,
          -0.21571560204029083,
          0.0708688274025917,
          0.06473620980978012,
          0.15117494761943817,
          0.07385751605033875,
          -0.01042070984840393,
          0.04022441804409027,
          0.023099903017282486,
          0.1971329301595688,
          -0.16998380422592163,
          -0.056671444326639175,
          0.1225040853023529,
          0.04055027663707733,
          -0.04736712947487831,
          0.06806333363056183,
          0.050790101289749146,
          0.22174139320850372,
          0.1811513751745224,
          0.3977527916431427,
          0.008007394149899483,
          0.09872516244649887,
          0.09697326272726059,
          0.059863947331905365,
          0.059863947331905365,
          0.059863947331905365,
          0.1192806214094162,
          -0.1723732203245163,
          -0.1073300838470459,
          -0.08169259130954742,
          -0.028438709676265717,
          0.05377105250954628,
          0.09743107855319977,
          0.1333293467760086,
          -0.07087453454732895,
          0.09479141235351562,
          0.11613724380731583,
          0.22780628502368927,
          0.11761035770177841,
          0.04828055948019028,
          0.1168702021241188,
          -0.04011794924736023,
          0.04612063243985176,
          0.1962856650352478,
          0.1532188057899475,
          0.002978326054289937,
          -0.02622498944401741,
          -0.03008958324790001,
          0.17656069993972778,
          -0.009360049851238728,
          0.07342898100614548,
          -0.004678857047110796,
          0.002081867540255189,
          0.035159528255462646,
          0.13493555784225464,
          -0.08778198063373566,
          -0.08687067031860352,
          -0.2586163282394409,
          -0.0417909137904644,
          -0.07795216888189316,
          0.23051662743091583,
          -0.1205829605460167,
          0.06491807848215103,
          -0.03228619694709778,
          -0.1489286720752716,
          -0.4525282680988312,
          -0.07782863825559616,
          -0.09688545018434525,
          -0.09530768543481827,
          -0.38554349541664124,
          -0.19956132769584656,
          0.04894785210490227,
          -0.2326592057943344,
          0.08641177415847778,
          0.24473856389522552,
          -0.0768536627292633,
          -0.11552618443965912,
          -0.10283268243074417,
          -0.06332647800445557,
          -0.22780704498291016,
          -0.10011094808578491,
          -0.10031992942094803,
          -0.05781404301524162,
          -0.0809677392244339,
          0.13669362664222717,
          -0.05905904620885849,
          -0.012424313463270664,
          0.05596381053328514,
          0.00215429556556046,
          -0.07460541278123856,
          -0.10960250347852707,
          -0.08264808356761932,
          0.017213355749845505,
          -0.04970814287662506,
          0.2666185796260834,
          0.08454538136720657,
          -0.0009283900144509971,
          -0.028248190879821777,
          0.03486759960651398,
          -0.012241171672940254,
          0.12815552949905396,
          0.14470309019088745,
          0.3728064298629761,
          -0.06250463426113129,
          0.03265826776623726,
          0.2369229644536972,
          0.13116276264190674,
          0.15002207458019257,
          -0.061202604323625565,
          -0.14323125779628754,
          0.019088441506028175,
          0.0514712929725647,
          0.15998351573944092,
          0.1787632405757904,
          -0.06027863919734955,
          0.003752846736460924,
          0.08476601541042328,
          -0.03861210495233536,
          -0.0038087714929133654,
          0.1315803974866867,
          0.1178424209356308,
          0.015959585085511208,
          0.049050863832235336,
          -0.13911926746368408,
          0.0008556049433536828,
          -0.08637508749961853,
          -0.062026262283325195,
          0.11206600069999695,
          -0.08765500783920288,
          -0.06703690439462662,
          0.011393490247428417,
          0.049126800149679184,
          0.051669277250766754,
          0.16283878684043884,
          -0.07140858471393585,
          0.09364864230155945,
          -0.09877335280179977,
          -0.18300402164459229,
          -0.37744033336639404,
          -0.05682571604847908,
          -0.01829775981605053,
          0.17775824666023254,
          0.029009895399212837,
          -0.023361319676041603,
          0.228300541639328,
          -0.0772630050778389,
          -0.010825596749782562,
          0.03265099972486496,
          -0.021694550290703773,
          0.41600844264030457,
          0.18123984336853027,
          -0.17732495069503784,
          0.09574908763170242,
          0.14221392571926117,
          0.06171727925539017,
          -0.08826209604740143,
          -0.04706055670976639,
          0.08103697746992111,
          0.1519181877374649,
          0.22601968050003052,
          0.06597337126731873,
          -0.19816507399082184,
          0.032866839319467545,
          -0.08159200847148895,
          0.04457810893654823,
          -0.049756430089473724,
          -0.1832055300474167,
          0.18247343599796295,
          -0.11637857556343079,
          0.053234927356243134,
          -0.09361809492111206,
          -0.059927601367235184,
          0.06739778816699982,
          -0.09762541949748993,
          0.07464520633220673,
          0.0600079745054245,
          -0.20925398170948029,
          0.0049599939957261086,
          -0.09969125688076019,
          0.09263240545988083,
          0.03204324096441269,
          0.06925874203443527,
          -0.0029890749137848616,
          -0.02265590988099575,
          0.09214534610509872,
          -0.23227457702159882,
          0.010119575075805187,
          -0.13397741317749023,
          0.18279050290584564,
          0.24731774628162384,
          0.11736977100372314,
          0.04083124175667763,
          0.043959662318229675,
          0.06163269653916359,
          -0.006346778478473425,
          0.1895194798707962,
          0.2797125577926636,
          0.12494479864835739,
          0.12846405804157257,
          0.05572520196437836,
          0.006051861681044102,
          -0.09858287870883942,
          0.1652832329273224,
          0.059188418090343475,
          -0.1286788284778595,
          0.18672534823417664,
          0.04181400686502457,
          -0.11411292850971222,
          -0.23383057117462158,
          -0.012597862631082535,
          0.13295181095600128,
          -0.12783242762088776,
          0.17624254524707794,
          0.12216049432754517,
          0.039369210600852966,
          -0.23610492050647736,
          0.08723458647727966,
          -0.19065694510936737,
          -0.19545814394950867,
          0.07852690666913986,
          0.02677939645946026,
          0.11057326197624207,
          -0.06373170763254166,
          0.021202001720666885,
          0.05699688941240311,
          -0.01977476291358471,
          -0.11266385018825531,
          -0.12168687582015991,
          0.04433917999267578,
          -0.024841737002134323,
          0.17643244564533234,
          0.0678313672542572,
          -0.12907123565673828,
          0.1501261442899704,
          -0.14435382187366486,
          -0.15767912566661835,
          0.2684592604637146,
          0.03666559234261513,
          0.1553463637828827,
          -0.042091164737939835,
          0.01258691493421793,
          -0.05573194846510887,
          0.06582795828580856,
          0.1156938448548317,
          -0.04489021748304367,
          0.015464100055396557,
          -0.008328016847372055,
          -0.19300949573516846,
          -0.1343616396188736,
          0.15312352776527405,
          0.02867298200726509,
          0.06101124361157417,
          -0.08005210757255554,
          0.06215481832623482,
          0.09637100994586945,
          0.015478785149753094,
          -0.03537117317318916,
          0.029362676665186882,
          -0.07887807488441467,
          -0.03887506574392319,
          -0.04336753115057945,
          0.12851671874523163,
          -0.0654744803905487,
          -0.0036985231563448906,
          -0.06942080706357956,
          0.06555765122175217,
          0.016686929389834404,
          0.271891325712204,
          0.06151289865374565,
          -0.02507585845887661,
          0.11633110046386719,
          0.042373280972242355,
          0.15714851021766663,
          0.14883308112621307,
          0.028355427086353302,
          0.06575166434049606,
          -0.0828641951084137,
          0.0010621808469295502,
          0.08519597351551056,
          -0.0229086484760046,
          -0.058061160147190094,
          0.029371775686740875,
          -0.20167851448059082,
          -0.30373555421829224,
          0.19050194323062897,
          -0.18901801109313965,
          0.25575581192970276,
          0.08535724878311157,
          -0.3609066307544708,
          -0.1678009033203125,
          0.15714851021766663,
          -0.12260647118091583,
          0.2102125734090805,
          -0.16806818544864655,
          0.06562390923500061,
          0.0599319189786911,
          -0.009341144934296608,
          0.06358367204666138,
          -0.059723466634750366,
          0.12226518243551254,
          0.17704956233501434,
          -0.12751643359661102,
          0.04991252347826958,
          -0.0492105558514595,
          0.024124257266521454,
          0.09646164625883102,
          0.01894223503768444,
          -0.11163535714149475,
          -0.030577262863516808,
          -0.051521576941013336,
          -0.039249759167432785,
          -0.12564446032047272,
          0.1046108677983284,
          0.18760572373867035,
          -0.22631099820137024,
          -0.3479542136192322,
          -0.2782280445098877,
          0.2928417921066284,
          -0.041833847761154175,
          0.15057577192783356,
          -0.15544454753398895,
          0.0028937524184584618,
          -0.1563170850276947,
          -0.0421365462243557,
          0.02930331416428089,
          0.12814734876155853,
          0.05174929276108742,
          0.17106525599956512,
          0.17063996195793152,
          -0.0785503089427948,
          -0.16678674519062042,
          -0.3219059109687805,
          0.058784667402505875,
          0.1069883331656456,
          -0.08986279368400574,
          0.010937932878732681,
          -0.05237290635704994,
          -0.14972223341464996,
          0.08077968657016754,
          0.03244726359844208,
          0.004165148828178644,
          -0.0648789033293724,
          0.17896151542663574,
          0.16552843153476715,
          0.13701793551445007,
          -0.05434297397732735,
          0.3035241663455963,
          0.3890894055366516,
          -0.15027791261672974,
          0.13913770020008087,
          0.10623262822628021,
          0.05746648088097572,
          0.031056031584739685,
          -0.15101179480552673,
          0.08243823796510696,
          0.05200587585568428,
          -0.03267548605799675,
          -0.03886009007692337,
          -0.06026886776089668,
          0.12060197442770004,
          0.16174323856830597,
          0.1762339025735855,
          0.15329355001449585,
          0.07346738874912262,
          0.14689339697360992,
          -0.02869855798780918,
          0.017848113551735878,
          0.06821611523628235,
          -0.19609345495700836,
          -0.10332605987787247,
          -0.1638055145740509,
          0.15442076325416565,
          0.11715179681777954,
          -0.10355191677808762,
          0.010760408826172352,
          -0.1508289873600006,
          -0.07678236812353134,
          0.07728414237499237,
          0.28308579325675964,
          -0.09770067036151886,
          0.1644132435321808,
          0.3318178355693817,
          -0.10040193796157837,
          0.11426156759262085,
          -0.06048262491822243,
          0.08934637904167175,
          0.08282607793807983,
          0.36200955510139465,
          -0.04980156943202019,
          -0.2618524730205536,
          0.16152189671993256,
          -0.15027518570423126,
          0.016309324651956558,
          0.0032813174184411764,
          0.11593669652938843,
          0.32401901483535767,
          -0.019086621701717377,
          0.03513253852725029,
          -0.02136155031621456,
          -0.14039604365825653,
          -0.06434815376996994,
          0.0738597884774208,
          0.21067042648792267,
          0.11419380456209183,
          0.07843898236751556,
          -0.2138291746377945,
          -0.0131367277354002,
          -0.16617637872695923,
          0.142660990357399,
          -0.1224934458732605,
          0.09065534174442291,
          -0.24912355840206146,
          -0.18838810920715332,
          -0.02948930859565735,
          -0.06101039797067642,
          -0.04947882145643234,
          -0.19295862317085266,
          -0.19295862317085266,
          0.06846486032009125,
          0.06846486032009125,
          -0.006522457581013441,
          -0.006522457581013441,
          0.10021252185106277,
          0.10021252185106277,
          0.21225976943969727,
          0.21225976943969727,
          0.02972538210451603,
          0.02972538210451603,
          0.052368052303791046,
          0.052368052303791046,
          -0.20744211971759796,
          -0.20744211971759796,
          -0.08821332454681396,
          -0.08821332454681396,
          0.030741946771740913,
          -0.07691223919391632,
          0.003473701886832714,
          0.003473701886832714,
          0.014365265145897865,
          0.014365265145897865,
          -0.19958645105361938,
          -0.19958645105361938,
          -0.18269358575344086,
          -0.18269358575344086,
          -0.12954865396022797,
          -0.12954865396022797,
          0.03397373482584953,
          0.3623252213001251,
          -0.28239893913269043,
          0.08198896795511246,
          0.039533864706754684,
          0.08529520779848099,
          0.0015459660207852721,
          -0.04880816116929054,
          0.07837451994419098,
          -0.1765364408493042,
          -0.28664109110832214,
          -0.014493279159069061,
          0.0008499725954607129,
          -0.06049784645438194,
          0.18611910939216614,
          0.23155544698238373,
          0.12357036024332047,
          0.1256473809480667,
          -0.11485640704631805,
          -0.09421653300523758,
          -0.16325294971466064,
          0.11809349060058594,
          -0.16745597124099731,
          0.19259966909885406,
          -0.03802316635847092,
          -0.039499085396528244,
          -0.11691071838140488,
          0.07756535708904266,
          -0.09081248193979263,
          -0.06949495524168015,
          0.000035711436794372275,
          0.007026019040495157,
          -0.004303467459976673,
          -0.11965139955282211,
          -0.05985850468277931,
          0.04884050413966179,
          -0.16789042949676514,
          0.012724529951810837,
          0.10027419775724411,
          0.09614333510398865,
          0.19244204461574554,
          0.37665918469429016,
          -0.018257910385727882,
          0.16336527466773987,
          0.07220260798931122,
          0.1365787535905838,
          0.01854829303920269,
          0.28237777948379517,
          -0.04746020957827568,
          -0.015002395957708359,
          -0.1344732940196991,
          -0.14145870506763458,
          0.05084344744682312,
          0.05093169957399368,
          -0.25445809960365295,
          -0.1241188794374466,
          -0.06330608576536179,
          0.13616345822811127,
          0.03720707818865776,
          0.2855081558227539,
          0.2480657994747162,
          0.16254471242427826,
          0.07760892808437347,
          -0.022274885326623917,
          0.1283969134092331,
          0.18120679259300232,
          0.12201257050037384,
          0.015742335468530655,
          0.05779594928026199,
          0.07709059119224548,
          0.13244231045246124,
          -0.014519443735480309,
          0.047385264188051224,
          -0.007871461100876331,
          0.1584022492170334,
          -0.039301566779613495,
          0.07742903381586075,
          -0.012953833676874638,
          -0.008385153487324715,
          0.01874648965895176,
          0.3125965893268585,
          0.14427603781223297,
          -0.1635386049747467,
          0.07698702067136765,
          0.06911692768335342,
          -0.0879155620932579,
          0.038684915751218796,
          -0.26552337408065796,
          -0.033542510122060776,
          -0.001063646632246673,
          0.006769854109734297,
          -0.034211162477731705,
          0.0013249203329905868,
          -0.17889083921909332,
          -0.0506126806139946,
          -0.2981823980808258,
          0.17172370851039886,
          0.17639999091625214,
          -0.1135815680027008,
          -0.3689086437225342,
          -0.028193864971399307,
          0.10660076886415482,
          -0.013204893097281456,
          -0.06931944191455841,
          0.03110753372311592,
          -0.004495788365602493,
          -0.07688083499670029,
          -0.004687657114118338,
          -0.21634958684444427,
          0.17058376967906952,
          -0.03250439092516899,
          -0.042079370468854904,
          0.10858669131994247,
          -0.18110507726669312,
          0.022948993369936943,
          0.02862984873354435,
          -0.024537572637200356,
          -0.2695361375808716,
          -0.06415177881717682,
          -0.04008122533559799,
          -0.128749281167984,
          -0.024179022759199142,
          -0.032684214413166046,
          -0.0013974906178191304,
          -0.008273420855402946,
          -0.06879456341266632,
          0.005553328897804022,
          0.19368959963321686,
          -0.11820032447576523,
          0.07737603783607483,
          0.07856588065624237,
          0.001271020737476647,
          -0.05146290734410286,
          -0.028707358986139297,
          -0.006629348732531071,
          -0.018766041845083237,
          0.09078077226877213,
          -0.04886423051357269,
          0.01996646262705326,
          0.1308300793170929,
          -0.12600788474082947,
          0.11016985028982162,
          0.0636468455195427,
          0.15727056562900543,
          -0.012534488923847675,
          -0.03089943155646324,
          -0.12914590537548065,
          -0.012419227510690689,
          -0.2381545454263687,
          -0.07423387467861176,
          -0.11289212852716446,
          -0.21678157150745392,
          -0.09206034988164902,
          -0.20308665931224823,
          -0.13723599910736084,
          -0.10180986672639847,
          -0.05429886281490326,
          -0.009942238219082355,
          -0.05551770702004433,
          -0.18180333077907562,
          -0.4355085492134094,
          -0.060194190591573715,
          0.053078971803188324,
          -0.0982823297381401,
          -0.0019421993056312203,
          0.05710352584719658,
          0.020656369626522064,
          0.10553819686174393,
          0.11137429624795914,
          -0.1336159110069275,
          0.01828216016292572,
          -0.12519168853759766,
          -0.07065822184085846,
          -0.1328342854976654,
          0.11309323459863663,
          0.06630804389715195,
          -0.2133110761642456,
          0.06447245925664902,
          0.09055311977863312,
          -0.026769081130623817,
          -0.09213175624608994,
          0.1663890928030014,
          0.234670490026474,
          0.03016134724020958,
          -0.09579533338546753,
          0.1138884499669075,
          -0.33541083335876465,
          0.19379960000514984,
          0.08345557004213333,
          -0.08306720107793808,
          0.0584387369453907,
          0.13642214238643646,
          0.2747915983200073,
          -0.10565333813428879,
          -0.14980481564998627,
          0.14980240166187286,
          -0.1077738031744957,
          -0.04964163154363632,
          -0.13965003192424774,
          -0.060741983354091644,
          -0.08776967972517014,
          -0.011676711961627007,
          0.04940614849328995,
          0.23393791913986206,
          -0.1209711879491806,
          -0.18594488501548767,
          0.027467479929327965,
          -0.035373490303754807,
          -0.06739644706249237,
          -0.061899907886981964,
          -0.056841641664505005,
          -0.1641617864370346,
          0.1076645776629448,
          0.008595946244895458,
          -0.033750150352716446,
          -0.27760592103004456,
          -0.044467952102422714,
          -0.10919825732707977,
          0.05483712628483772,
          -0.2807818055152893,
          0.19199036061763763,
          -0.06603796780109406,
          -0.045253071933984756,
          -0.09207747876644135,
          0.01650848798453808,
          0.06821778416633606,
          -0.016093691810965538,
          -0.004167688079178333,
          0.0598611943423748,
          -0.07731997966766357,
          0.07852433621883392,
          0.16064074635505676,
          0.10684970021247864,
          -0.09677334129810333,
          -0.2718442976474762,
          -0.13835719227790833,
          0.07349280267953873,
          -0.04207891970872879,
          0.21620523929595947,
          -0.04979625344276428,
          0.05507609620690346,
          -0.0249782744795084,
          -0.0703079029917717,
          0.3684447109699249,
          -0.1018710657954216,
          -0.3669250011444092,
          0.14705976843833923,
          0.0006941704195924103,
          0.025786802172660828,
          0.1149853765964508,
          -0.13948452472686768,
          0.0017677369760349393,
          -0.012562090530991554,
          0.08106755465269089,
          -0.013599619269371033,
          0.007530339062213898,
          0.2113654762506485,
          -0.2549070715904236,
          0.07382925599813461,
          0.017671581357717514,
          -0.19286049902439117,
          -0.0753532201051712,
          0.05516825616359711,
          0.031968019902706146,
          0.03504088521003723,
          0.17233061790466309,
          -0.12968161702156067,
          0.005331206601113081,
          -0.09290365129709244,
          0.26214495301246643,
          -0.00959747564047575,
          0.048690065741539,
          0.10083787143230438,
          -0.005831278394907713,
          -0.15004324913024902,
          -0.04912540689110756,
          -0.2560689449310303,
          0.10956869274377823,
          -0.47447696328163147,
          -0.22992435097694397,
          -0.16377294063568115,
          -0.07719757407903671,
          0.09110824763774872,
          -0.1598120927810669,
          0.10150303691625595,
          -0.07232022285461426,
          -0.03440685570240021,
          -0.12235672026872635,
          0.034898411482572556,
          -0.10842157900333405,
          -0.19218745827674866,
          -0.168800950050354,
          -0.1384294331073761,
          -0.0023449633736163378,
          -0.28783324360847473,
          0.015714045614004135,
          0.08527518808841705,
          -0.20033663511276245,
          0.20649117231369019,
          -0.0979328453540802,
          -0.04342835769057274,
          -0.06783243268728256,
          -0.05550658702850342,
          -0.13969053328037262,
          -0.11249951273202896,
          0.04869796708226204,
          -0.02583826147019863,
          -0.053152896463871,
          -0.02335440181195736,
          -0.13052375614643097,
          0.05232296884059906,
          -0.053962063044309616,
          -0.19115343689918518,
          -0.14320361614227295,
          0.025225002318620682,
          -0.02515028789639473,
          -0.19209760427474976,
          -0.17783373594284058,
          -0.2007531076669693,
          0.06063162535429001,
          -0.06635921448469162,
          0.035026293247938156,
          -0.042641349136829376,
          -0.07383158802986145,
          0.04107056185603142,
          -0.39677226543426514,
          -0.12611930072307587,
          0.0685795471072197,
          0.03524114191532135,
          0.08294251561164856,
          0.05491285398602486,
          0.07637368887662888,
          0.0860569179058075,
          -0.1057155430316925
         ],
         "z": [
          0.02805236540734768,
          0.010080467909574509,
          -0.0687490701675415,
          -0.014887571334838867,
          -0.017777230590581894,
          0.021912241354584694,
          -0.04223407432436943,
          -0.19284705817699432,
          -0.11999193578958511,
          -0.20719200372695923,
          0.08151030540466309,
          0.14350087940692902,
          -0.031055456027388573,
          -0.1754482239484787,
          -0.1039087176322937,
          0.17961952090263367,
          0.11666946858167648,
          0.2808213531970978,
          0.13597823679447174,
          -0.11953248828649521,
          0.06232132017612457,
          -0.024264344945549965,
          -0.014451757073402405,
          0.0951385498046875,
          -0.08524339646100998,
          0.12382151931524277,
          0.11968325078487396,
          -0.053934723138809204,
          -0.22432926297187805,
          -0.16948764026165009,
          0.08617722988128662,
          -0.28778529167175293,
          0.007163315080106258,
          -0.024791019037365913,
          0.09023738652467728,
          -0.19085735082626343,
          -0.1548956334590912,
          0.051659516990184784,
          -0.04143699258565903,
          -0.045089807361364365,
          -0.007921554148197174,
          0.08975769579410553,
          0.03953620418906212,
          0.15368258953094482,
          0.0426611490547657,
          -0.012292015366256237,
          -0.022460874170064926,
          0.060850344598293304,
          0.08708151429891586,
          -0.010546272620558739,
          -0.007726619020104408,
          0.024029487743973732,
          -0.09613901376724243,
          -0.059757836163043976,
          0.11245588213205338,
          0.02860238216817379,
          0.045063566416502,
          -0.05399223417043686,
          -0.11656416952610016,
          0.12169313430786133,
          0.09911792725324631,
          -0.027847770601511,
          -0.0001066196637111716,
          0.08483616262674332,
          -0.03991438448429108,
          0.007159528322517872,
          0.18964605033397675,
          0.10498280078172684,
          0.07677112519741058,
          0.08007179945707321,
          0.15306639671325684,
          -0.11687605082988739,
          -0.057835664600133896,
          0.014456750825047493,
          0.3003675639629364,
          -0.02293427288532257,
          0.0005670192185789347,
          -0.12300106883049011,
          -0.001453452161513269,
          -0.09814923256635666,
          -0.26539796590805054,
          0.16231591999530792,
          0.05456439405679703,
          -0.0422123521566391,
          -0.04960818961262703,
          0.0628887265920639,
          0.1513284295797348,
          -0.14472287893295288,
          0.021732330322265625,
          -0.04163092374801636,
          -0.006288058590143919,
          -0.2542015314102173,
          -0.08449120819568634,
          -0.27811911702156067,
          -0.03573865443468094,
          -0.00977991707623005,
          0.12305067479610443,
          -0.06593265384435654,
          -0.07776984572410583,
          -0.026230251416563988,
          0.05512836202979088,
          -0.05438528209924698,
          0.0224316343665123,
          0.011510360985994339,
          -0.043665263801813126,
          0.05312622711062431,
          0.0501445010304451,
          -0.04187805578112602,
          -0.14405803382396698,
          -0.10695035010576248,
          -0.18597511947155,
          0.04148074612021446,
          0.013625155203044415,
          0.19139547646045685,
          -0.04697978124022484,
          -0.022799953818321228,
          0.18738116323947906,
          -0.08307678252458572,
          -0.12292174249887466,
          -0.12176301330327988,
          -0.09296268969774246,
          -0.14517609775066376,
          -0.11558189988136292,
          0.1714545488357544,
          -0.03033808432519436,
          0.014984004199504852,
          0.020363297313451767,
          -0.0293634794652462,
          -0.10154349356889725,
          0.328431636095047,
          0.18382598459720612,
          0.030780762434005737,
          0.052468154579401016,
          -0.10623328387737274,
          -0.40800830721855164,
          0.18493011593818665,
          0.1234176754951477,
          0.13790564239025116,
          0.04220284894108772,
          0.09739303588867188,
          0.15056267380714417,
          0.0614522285759449,
          -0.010593662038445473,
          0.2613660991191864,
          -0.009207957424223423,
          0.01911790668964386,
          0.18386797606945038,
          -0.031804513186216354,
          -0.15269282460212708,
          0.22838899493217468,
          -0.056771036237478256,
          -0.08335287123918533,
          -0.18273453414440155,
          0.02438083291053772,
          0.0696290135383606,
          0.07786630839109421,
          0.10442785918712616,
          0.0865795686841011,
          0.030413825064897537,
          -0.1607953906059265,
          -0.09770237654447556,
          0.11050373315811157,
          0.308928906917572,
          -0.03578898683190346,
          0.07291616499423981,
          -0.018192371353507042,
          0.03082168474793434,
          0.07324831187725067,
          -0.01113386731594801,
          -0.03568029776215553,
          -0.06355981528759003,
          -0.038612280040979385,
          -0.3572947680950165,
          -0.10974559187889099,
          -0.07088635861873627,
          -0.008651901967823505,
          0.1049404889345169,
          0.01457188744097948,
          -0.04848861321806908,
          -0.19438879191875458,
          0.01634024642407894,
          0.006953004747629166,
          -0.060511212795972824,
          -0.0647609531879425,
          -0.08582105487585068,
          0.1005384773015976,
          0.14942599833011627,
          0.20485317707061768,
          0.175118088722229,
          -0.10619683563709259,
          -0.08357103168964386,
          -0.12489812821149826,
          0.054784223437309265,
          -0.10705174505710602,
          0.00460501853376627,
          -0.08511293679475784,
          0.05238746851682663,
          -0.0018366232980042696,
          0.12338825315237045,
          -0.15191730856895447,
          -0.17037850618362427,
          -0.06870902329683304,
          0.057945217937231064,
          -0.011396585032343864,
          0.2023582011461258,
          0.029726434499025345,
          -0.1023816242814064,
          0.03196126967668533,
          -0.2457248866558075,
          -0.00831439346075058,
          0.16516833007335663,
          -0.08333686739206314,
          0.12860359251499176,
          0.07565779238939285,
          -0.04166765883564949,
          -0.07343178242444992,
          0.15967829525470734,
          -0.17792703211307526,
          0.0344238355755806,
          0.023085065186023712,
          -0.04062121734023094,
          0.2070552110671997,
          0.12796670198440552,
          0.008451794274151325,
          -0.060378942638635635,
          0.11558502167463303,
          0.028307951986789703,
          -0.048623234033584595,
          -0.05994684249162674,
          -0.0608951672911644,
          -0.07207418233156204,
          -0.07887221872806549,
          0.09966889023780823,
          -0.03929925337433815,
          0.08664867281913757,
          0.06524114310741425,
          -0.09807337820529938,
          -0.06702268123626709,
          0.05235184356570244,
          -0.02649969793856144,
          -0.17067380249500275,
          -0.23284021019935608,
          -0.10456210374832153,
          -0.022950848564505577,
          0.11738210171461105,
          -0.18410666286945343,
          -0.10293848812580109,
          -0.06682834774255753,
          -0.06361548602581024,
          -0.030556660145521164,
          0.22309483587741852,
          -0.15405333042144775,
          0.17502643167972565,
          0.06366776674985886,
          0.01743241399526596,
          0.0055978186428546906,
          0.01553657092154026,
          -0.16554929316043854,
          -0.06910742074251175,
          -0.0844007208943367,
          -0.030969683080911636,
          -0.05791977047920227,
          -0.1693289428949356,
          0.139414981007576,
          0.04063553735613823,
          -0.12967677414417267,
          -0.11302146315574646,
          -0.028830306604504585,
          -0.054863687604665756,
          -0.22536714375019073,
          0.13419201970100403,
          0.019526200369000435,
          0.05184590071439743,
          0.12261106818914413,
          -0.05872179940342903,
          0.005513188429176807,
          -0.11705606430768967,
          -0.1719936728477478,
          -0.16947703063488007,
          0.1097605749964714,
          -0.10273817926645279,
          0.16386613249778748,
          0.010200376622378826,
          -0.008752855472266674,
          -0.15232880413532257,
          -0.21093632280826569,
          0.10879041254520416,
          -0.07807876914739609,
          0.33571097254753113,
          0.180427685379982,
          -0.00516268378123641,
          0.14171990752220154,
          -0.02498636394739151,
          -0.07930698990821838,
          -0.18475349247455597,
          0.1530759632587433,
          -0.11001264303922653,
          0.03025928884744644,
          0.12092306464910507,
          0.18091820180416107,
          -0.10100411623716354,
          0.10868822783231735,
          -0.012458457611501217,
          -0.10871583223342896,
          -0.013439582660794258,
          -0.21641205251216888,
          0.16590827703475952,
          0.01841478794813156,
          -0.09010805189609528,
          -0.0822242945432663,
          0.19313323497772217,
          0.05043370649218559,
          0.017331436276435852,
          -0.13312897086143494,
          -0.09572857618331909,
          0.01808743365108967,
          -0.20134909451007843,
          0.14888229966163635,
          0.15187974274158478,
          -0.11042522639036179,
          0.17003732919692993,
          -0.27338361740112305,
          -0.2817080616950989,
          -0.02032333053648472,
          -0.019351541996002197,
          -0.002906123409047723,
          0.12380332499742508,
          0.04480469599366188,
          0.17200390994548798,
          -0.06074388325214386,
          0.21376998722553253,
          0.1546526402235031,
          0.051886629313230515,
          0.1641608327627182,
          0.12694133818149567,
          0.3570767641067505,
          0.1351022571325302,
          0.021407295018434525,
          0.07034257054328918,
          0.12163390219211578,
          0.013299154117703438,
          -0.006406183820217848,
          0.10045615583658218,
          0.13395452499389648,
          -0.0383763387799263,
          -0.04923012852668762,
          -0.02472909912467003,
          0.03777715936303139,
          -0.08785659074783325,
          -0.07786471396684647,
          0.33593499660491943,
          0.08818470686674118,
          0.23211677372455597,
          0.1294831931591034,
          -0.3018380105495453,
          -0.04291609674692154,
          0.033613212406635284,
          0.026526857167482376,
          -0.013210662640631199,
          0.13321340084075928,
          -0.02419150061905384,
          0.04206845536828041,
          -0.09377557784318924,
          -0.09618924558162689,
          0.09451187402009964,
          -0.12477825582027435,
          -0.21867118775844574,
          0.17728488147258759,
          -0.04862231761217117,
          -0.007247101049870253,
          0.05507322773337364,
          0.11458545923233032,
          0.05625278130173683,
          0.03478853031992912,
          0.11333334445953369,
          0.02142469584941864,
          -0.0410194955766201,
          0.08218656480312347,
          -0.1339886635541916,
          0.09457246959209442,
          0.2818447947502136,
          -0.0890858918428421,
          -0.11678935587406158,
          -0.002147453371435404,
          -0.21973933279514313,
          -0.07299809157848358,
          -0.08485057204961777,
          0.011966587975621223,
          0.0344228632748127,
          -0.01303067896515131,
          -0.2581910192966461,
          0.06297419220209122,
          -0.1475784182548523,
          0.06686339527368546,
          0.046187691390514374,
          -0.2271014004945755,
          -0.03229512274265289,
          0.09239277243614197,
          0.3331160545349121,
          0.05827943608164787,
          -0.14393924176692963,
          0.2364317923784256,
          -0.004056246485561132,
          -0.008634282276034355,
          0.03361857682466507,
          -0.032012928277254105,
          -0.09682822972536087,
          0.13577595353126526,
          0.13422033190727234,
          0.09761103242635727,
          -0.030324772000312805,
          -0.04879729077219963,
          0.05128229036927223,
          -0.1683300882577896,
          0.11793845146894455,
          0.02454579621553421,
          -0.021630771458148956,
          -0.05240115150809288,
          0.05780744552612305,
          0.05619552731513977,
          -0.03870833292603493,
          0.05735279619693756,
          -0.09938158094882965,
          -0.25416848063468933,
          -0.18373887240886688,
          -0.08849267661571503,
          0.3240760266780853,
          -0.18247151374816895,
          0.15224021673202515,
          0.06013183295726776,
          0.06969446688890457,
          0.008747022598981857,
          0.09224166721105576,
          0.2931172847747803,
          0.042557794600725174,
          0.06795581430196762,
          -0.03194155916571617,
          -0.009110520593822002,
          -0.13293886184692383,
          0.02860541269183159,
          0.11665888130664825,
          0.07789754122495651,
          -0.18965138494968414,
          -0.13226069509983063,
          0.13358980417251587,
          0.12392297387123108,
          0.05220169574022293,
          0.17843444645404816,
          0.02136809378862381,
          0.04887644946575165,
          0.11379357427358627,
          -0.058839909732341766,
          -0.015512920916080475,
          0.04851067438721657,
          0.036926787346601486,
          -0.03389353305101395,
          -0.13528457283973694,
          -0.13297414779663086,
          0.025014370679855347,
          -0.0034935411531478167,
          0.07122766226530075,
          0.07980494201183319,
          0.007606399245560169,
          -0.16188977658748627,
          -0.08779892325401306,
          0.016993379220366478,
          0.2585831582546234,
          0.007561688777059317,
          -0.07990121841430664,
          -0.005017620045691729,
          -0.0643959641456604,
          -0.013592366129159927,
          0.17512892186641693,
          0.04249872267246246,
          -0.04768233373761177,
          0.09066702425479889,
          -0.23055152595043182,
          -0.09691251814365387,
          0.1463726907968521,
          0.01944384165108204,
          0.01944384165108204,
          0.01944384165108204,
          -0.13894857466220856,
          0.07860147207975388,
          0.07437101006507874,
          -0.22797106206417084,
          0.07646271586418152,
          -0.15294507145881653,
          -0.005982694681733847,
          -0.08872543275356293,
          0.004409691784530878,
          -0.000025584415197954513,
          0.00898871198296547,
          -0.02404922805726528,
          -0.09775515645742416,
          0.05092253535985947,
          0.06968817859888077,
          0.5258217453956604,
          -0.09682194143533707,
          0.17713423073291779,
          -0.015016854740679264,
          -0.12749657034873962,
          0.14049257338047028,
          0.11325214803218842,
          -0.10007987171411514,
          -0.019340872764587402,
          -0.07127399742603302,
          0.016595203429460526,
          -0.05564112588763237,
          -0.05111169070005417,
          0.03621593862771988,
          -0.21292485296726227,
          -0.20971651375293732,
          -0.46708744764328003,
          -0.11368994414806366,
          0.1012662872672081,
          -0.1525147557258606,
          -0.20329588651657104,
          0.09724429249763489,
          -0.12767936289310455,
          -0.11693155765533447,
          -0.061435434967279434,
          -0.008187361061573029,
          -0.007253882475197315,
          -0.13446210324764252,
          -0.09477178007364273,
          -0.1911660134792328,
          0.13394711911678314,
          0.15543232858181,
          -0.20186281204223633,
          -0.14970315992832184,
          0.05618438124656677,
          0.1463816910982132,
          0.164512038230896,
          0.08068959414958954,
          0.09609497338533401,
          -0.1684095710515976,
          -0.07669917494058609,
          0.06103039160370827,
          -0.06431768834590912,
          0.029333999380469322,
          0.2133975774049759,
          -0.06285174936056137,
          0.03421678766608238,
          -0.06125089153647423,
          -0.07427623867988586,
          -0.03138228505849838,
          -0.05597150698304176,
          0.1696738302707672,
          0.2347155213356018,
          0.07386062294244766,
          0.04941684007644653,
          0.07726728916168213,
          -0.2756422162055969,
          -0.1238371729850769,
          -0.11875741928815842,
          0.053979989141225815,
          0.10963320732116699,
          0.15220016241073608,
          -0.27736809849739075,
          -0.1336725652217865,
          -0.10588657110929489,
          0.0930434986948967,
          0.06661985069513321,
          0.15785522758960724,
          0.16908110678195953,
          -0.015129881910979748,
          -0.022532975301146507,
          0.14497621357440948,
          0.07666706293821335,
          0.024208631366491318,
          0.08400506526231766,
          -0.11977431923151016,
          0.037723079323768616,
          0.11335498839616776,
          0.12702588737010956,
          0.008863359689712524,
          0.018276408314704895,
          0.10145172476768494,
          -0.1389033943414688,
          0.0681411623954773,
          -0.14291206002235413,
          -0.15560542047023773,
          0.2528931498527527,
          0.14726507663726807,
          -0.09718157351016998,
          -0.147539883852005,
          0.06535416096448898,
          -0.28815776109695435,
          0.07143812626600266,
          0.06128080189228058,
          0.007895611226558685,
          -0.007161335553973913,
          -0.2470424622297287,
          0.222365140914917,
          0.02329365536570549,
          0.013841165229678154,
          -0.043404750525951385,
          0.13198471069335938,
          -0.12625008821487427,
          0.13125823438167572,
          0.1391083300113678,
          0.22508402168750763,
          -0.061629947274923325,
          -0.10838498920202255,
          0.21396473050117493,
          0.1439913958311081,
          -0.023774869740009308,
          -0.17371098697185516,
          -0.08680330961942673,
          0.05595821514725685,
          -0.012223927304148674,
          -0.07349473237991333,
          -0.02235693298280239,
          -0.04061172157526016,
          -0.09425484389066696,
          -0.0784662738442421,
          0.08586858212947845,
          0.1871848851442337,
          -0.1841816008090973,
          0.025886842980980873,
          -0.14941158890724182,
          0.03596225008368492,
          0.07771073281764984,
          -0.0987665206193924,
          0.00776042090728879,
          -0.11586873233318329,
          -0.008654585108160973,
          0.12927570939064026,
          0.2910604476928711,
          -0.0692899152636528,
          -0.1417076289653778,
          -0.14957736432552338,
          0.012415365315973759,
          0.07027212530374527,
          0.13877466320991516,
          0.07125012576580048,
          0.09497669339179993,
          -0.22027508914470673,
          -0.054305482655763626,
          -0.01017676666378975,
          0.18913044035434723,
          -0.0998571515083313,
          0.04511113092303276,
          0.11741158366203308,
          0.03586993366479874,
          -0.006739697884768248,
          -0.1945989727973938,
          -0.0834360346198082,
          0.03321357071399689,
          0.17109185457229614,
          0.07850724458694458,
          -0.06225668638944626,
          0.1271030604839325,
          -0.014064639806747437,
          0.09306319802999496,
          -0.23157687485218048,
          -0.09264015406370163,
          0.12189176678657532,
          0.02246929332613945,
          -0.02696741372346878,
          0.058485373854637146,
          0.06001376360654831,
          -0.2502022087574005,
          0.10879163444042206,
          0.10927460342645645,
          -0.010902038775384426,
          -0.06941261142492294,
          0.09347023069858551,
          0.013019032776355743,
          0.01836036704480648,
          -0.0004954708274453878,
          0.019035443663597107,
          -0.029724761843681335,
          0.1722232848405838,
          -0.016712486743927002,
          0.016022436320781708,
          0.16488352417945862,
          0.20215989649295807,
          -0.08235421776771545,
          -0.028697093948721886,
          0.03362630307674408,
          -0.0029243340250104666,
          0.15520364046096802,
          -0.14311838150024414,
          0.18521133065223694,
          -0.0139957619830966,
          0.02011708915233612,
          -0.0419008694589138,
          0.14266324043273926,
          0.1390163153409958,
          0.04981876164674759,
          0.033938001841306686,
          -0.0615101233124733,
          0.03379639610648155,
          0.34430837631225586,
          0.06396211683750153,
          -0.07057330012321472,
          0.12260901927947998,
          -0.1362684667110443,
          0.11996103823184967,
          -0.07024901360273361,
          -0.03715430572628975,
          -0.053013600409030914,
          0.25653716921806335,
          0.0060427444986999035,
          0.19193510711193085,
          -0.2670523226261139,
          -0.05183648690581322,
          0.05439635366201401,
          -0.02053065598011017,
          0.003742941189557314,
          0.03346794843673706,
          -0.1184895858168602,
          -0.14157827198505402,
          -0.1094755306839943,
          0.19507765769958496,
          0.0190298929810524,
          0.08077716082334518,
          -0.06300775706768036,
          -0.11513388156890869,
          0.08145701885223389,
          0.166346937417984,
          0.10260188579559326,
          0.03342641144990921,
          -0.06922389566898346,
          0.03051072545349598,
          -0.066408172249794,
          -0.07130781561136246,
          -0.12655426561832428,
          0.03652651235461235,
          0.07993822544813156,
          0.14039620757102966,
          -0.0035965985152870417,
          -0.17737172544002533,
          0.10152191668748856,
          0.24043932557106018,
          0.022443018853664398,
          -0.014278569258749485,
          0.25893834233283997,
          0.24891124665737152,
          -0.04137041047215462,
          0.029830172657966614,
          -0.18565575778484344,
          0.13155880570411682,
          0.06857016682624817,
          -0.07130781561136246,
          0.1466233730316162,
          -0.21698220074176788,
          0.10952233523130417,
          -0.07764307409524918,
          0.058374155312776566,
          0.1473509967327118,
          0.02921319007873535,
          -0.12617073953151703,
          -0.07028907537460327,
          0.01847364567220211,
          -0.04234948754310608,
          -0.11125020682811737,
          -0.025379205122590065,
          0.008634604513645172,
          -0.035641103982925415,
          0.032983459532260895,
          -0.19805309176445007,
          0.07906842976808548,
          -0.10880571603775024,
          -0.021011387929320335,
          -0.21596519649028778,
          -0.02841770276427269,
          0.04218251630663872,
          0.12619078159332275,
          0.06372696906328201,
          -0.18481659889221191,
          -0.1400521844625473,
          0.2480824887752533,
          -0.08702534437179565,
          0.12025640159845352,
          0.05162028968334198,
          0.0016374037368223071,
          -0.02841869369149208,
          -0.12282461673021317,
          -0.10026587545871735,
          0.028140954673290253,
          0.14175300300121307,
          0.0977570116519928,
          -0.26689282059669495,
          -0.0840090736746788,
          0.22574883699417114,
          -0.018886612728238106,
          -0.13005389273166656,
          0.19629700481891632,
          -0.04254303127527237,
          0.18647359311580658,
          -0.16768446564674377,
          0.16769933700561523,
          -0.14868295192718506,
          -0.19371303915977478,
          -0.20607544481754303,
          -0.04454028606414795,
          -0.18511664867401123,
          0.03777909651398659,
          0.02029993012547493,
          0.028143446892499924,
          0.12413539737462997,
          -0.0777365118265152,
          0.10034696757793427,
          -0.13250038027763367,
          -0.07542306929826736,
          -0.07897234708070755,
          -0.1770181804895401,
          -0.008851537480950356,
          -0.11385702341794968,
          0.11939448863267899,
          -0.16299720108509064,
          -0.053363341838121414,
          -0.0985931009054184,
          0.010965356603264809,
          -0.11979439109563828,
          0.1829889416694641,
          -0.015036595053970814,
          -0.024441145360469818,
          -0.06345365941524506,
          -0.2409423142671585,
          -0.08718280494213104,
          -0.08626749366521835,
          -0.1600143313407898,
          -0.11492868512868881,
          0.03747145086526871,
          0.014345847070217133,
          -0.39258572459220886,
          -0.04966926574707031,
          -0.11837486922740936,
          -0.30061009526252747,
          0.10824409872293472,
          0.08707088232040405,
          -0.10366521775722504,
          -0.02082790620625019,
          0.06234128028154373,
          -0.007072035688906908,
          -0.05572350323200226,
          0.1160464957356453,
          0.07594649493694305,
          -0.18646174669265747,
          0.13194160163402557,
          0.04072531312704086,
          -0.05054264888167381,
          0.11995171755552292,
          -0.3682197332382202,
          -0.10601992905139923,
          -0.03316310793161392,
          -0.10978512465953827,
          0.045224305242300034,
          -0.1533118486404419,
          -0.10120896250009537,
          -0.04808327555656433,
          -0.033228352665901184,
          -0.11539086699485779,
          -0.0541127547621727,
          0.16798369586467743,
          -0.0650150328874588,
          0.09253647178411484,
          0.07874676585197449,
          0.02875777892768383,
          -0.05745307356119156,
          0.023015810176730156,
          -0.07734381407499313,
          0.02952088974416256,
          -0.04952465370297432,
          0.05603634938597679,
          0.09647698700428009,
          0.13152168691158295,
          0.21834039688110352,
          0.007536075543612242,
          0.007536075543612242,
          0.06224508956074715,
          0.06224508956074715,
          -0.04452614486217499,
          -0.04452614486217499,
          -0.182623490691185,
          -0.182623490691185,
          0.0701114758849144,
          0.0701114758849144,
          0.01290798094123602,
          0.01290798094123602,
          0.034825947135686874,
          0.034825947135686874,
          0.05679931119084358,
          0.05679931119084358,
          -0.30188626050949097,
          -0.30188626050949097,
          0.015394425019621849,
          0.03281161189079285,
          0.1913609504699707,
          0.1913609504699707,
          -0.1986367255449295,
          -0.1986367255449295,
          0.0653938576579094,
          0.0653938576579094,
          0.07743959128856659,
          0.07743959128856659,
          -0.2693342864513397,
          -0.2693342864513397,
          0.1482970416545868,
          0.04436751827597618,
          0.2061939686536789,
          0.03423270583152771,
          -0.2997647821903229,
          -0.025809865444898605,
          -0.06384273618459702,
          0.08840405941009521,
          -0.012086359784007072,
          0.012713588774204254,
          0.037564538419246674,
          0.21089568734169006,
          0.26719316840171814,
          -0.24403975903987885,
          0.2568267583847046,
          0.23192064464092255,
          0.12852352857589722,
          0.08125027269124985,
          -0.20520493388175964,
          -0.26178207993507385,
          -0.07426299899816513,
          -0.22531163692474365,
          0.21765963733196259,
          -0.0963386669754982,
          0.1113695502281189,
          0.1611424684524536,
          0.09275496006011963,
          0.05819564312696457,
          0.1603822261095047,
          -0.15040062367916107,
          -0.14116308093070984,
          -0.21215341985225677,
          -0.03601570427417755,
          0.015180066227912903,
          0.11258853226900101,
          0.09751726686954498,
          -0.07506129890680313,
          -0.11312630027532578,
          0.18540404736995697,
          -0.037698324769735336,
          -0.19132623076438904,
          -0.21230138838291168,
          -0.04190363734960556,
          0.04757687821984291,
          0.06723444163799286,
          0.025747066363692284,
          0.011886733584105968,
          0.13401828706264496,
          -0.029363155364990234,
          0.029094133526086807,
          -0.02771316096186638,
          -0.04002419486641884,
          0.049259476363658905,
          -0.09466342628002167,
          0.3471899628639221,
          -0.1026483103632927,
          -0.034962575882673264,
          0.139386385679245,
          0.1262541115283966,
          0.27235516905784607,
          0.18180304765701294,
          0.25306281447410583,
          0.15421853959560394,
          -0.24767807126045227,
          0.13452193140983582,
          0.19551753997802734,
          0.1260995864868164,
          -0.014680028893053532,
          0.10057929903268814,
          -0.02573462203145027,
          -0.1420699656009674,
          -0.14909006655216217,
          -0.04681778699159622,
          0.017718493938446045,
          0.09963991492986679,
          -0.05453159660100937,
          0.2482539266347885,
          0.2745794355869293,
          0.09778992086648941,
          0.10521236807107925,
          0.11252923309803009,
          -0.0765853300690651,
          -0.08262593299150467,
          0.09597381949424744,
          0.0001730233198031783,
          -0.1987875998020172,
          0.06338740140199661,
          -0.0619332529604435,
          -0.10503342747688293,
          -0.13067488372325897,
          -0.03925257921218872,
          -0.07517649233341217,
          -0.22892898321151733,
          0.20442578196525574,
          -0.059153880923986435,
          0.1063605546951294,
          -0.046334158629179,
          -0.02137439325451851,
          0.16163605451583862,
          0.20819024741649628,
          -0.018184322863817215,
          0.10069616138935089,
          -0.06371957808732986,
          -0.00010208055755356327,
          -0.01617025025188923,
          -0.011956397444009781,
          -0.0495665967464447,
          0.2096603363752365,
          -0.013947254046797752,
          0.0991453155875206,
          -0.021603450179100037,
          -0.06383335590362549,
          0.07704464346170425,
          -0.05826530605554581,
          -0.047520752996206284,
          -0.18539805710315704,
          0.11633329093456268,
          0.20605477690696716,
          0.2501492500305176,
          0.05258999019861221,
          0.1352316439151764,
          -0.15404261648654938,
          0.10840849578380585,
          -0.005726964212954044,
          0.11928889155387878,
          -0.11189451068639755,
          -0.08764001727104187,
          -0.2196151465177536,
          -0.11215149611234665,
          -0.14104445278644562,
          -0.17100192606449127,
          0.10238686203956604,
          -0.09870150685310364,
          0.10212200880050659,
          0.1080818697810173,
          0.005211024545133114,
          0.12633098661899567,
          -0.027976131066679955,
          0.1682361215353012,
          0.12151113897562027,
          0.33528465032577515,
          -0.045419491827487946,
          0.09666291624307632,
          0.0885796844959259,
          -0.06280622631311417,
          0.02074727974832058,
          0.23425179719924927,
          -0.27704453468322754,
          -0.025073187425732613,
          -0.11061804741621017,
          0.0594329871237278,
          -0.2587660849094391,
          0.0531131736934185,
          0.0207859817892313,
          -0.17907096445560455,
          -0.3136138319969177,
          -0.16294966638088226,
          0.20457997918128967,
          -0.05149964988231659,
          -0.10106060653924942,
          0.13756655156612396,
          0.20483769476413727,
          -0.053025342524051666,
          0.15299610793590546,
          -0.14926926791667938,
          -0.019648686051368713,
          -0.09313321858644485,
          0.13682036101818085,
          -0.15635183453559875,
          0.23899289965629578,
          -0.36605608463287354,
          -0.15329235792160034,
          0.025157039985060692,
          0.17590412497520447,
          -0.16870516538619995,
          0.1638500839471817,
          -0.40348151326179504,
          -0.07000575959682465,
          0.11895456165075302,
          -0.14554062485694885,
          0.0054145511239767075,
          -0.1559276431798935,
          -0.12654854357242584,
          -0.032710231840610504,
          -0.09819608926773071,
          -0.02820632979273796,
          -0.11794129759073257,
          0.026453863829374313,
          -0.0923972874879837,
          -0.13870136439800262,
          -0.1152464970946312,
          0.018051426857709885,
          0.03776887059211731,
          -0.04382827877998352,
          0.09312916547060013,
          -0.09663430601358414,
          0.05969591066241264,
          0.0051723322831094265,
          0.08651670813560486,
          -0.018738877028226852,
          -0.5134856104850769,
          -0.038459379225969315,
          0.0558902882039547,
          0.10039122402667999,
          0.3289809226989746,
          0.22548282146453857,
          -0.05520028620958328,
          -0.11743325740098953,
          0.019376536831259727,
          -0.04493415728211403,
          -0.10597476363182068,
          -0.09767307341098785,
          0.1330966204404831,
          -0.057345908135175705,
          0.006066909991204739,
          0.15955771505832672,
          0.02797813154757023,
          -0.1479569375514984,
          -0.05821431800723076,
          -0.1734994500875473,
          -0.24144311249256134,
          -0.22450804710388184,
          -0.2814282774925232,
          0.033994730561971664,
          -0.16537819802761078,
          -0.013824431225657463,
          -0.11354545503854752,
          0.23294831812381744,
          -0.005696031264960766,
          0.19404226541519165,
          -0.008764652535319328,
          0.09250673651695251,
          0.03980634734034538,
          0.03611737862229347,
          0.24015174806118011,
          0.193477600812912,
          0.02206113375723362,
          -0.1505238562822342,
          0.05264912545681,
          -0.09899687021970749,
          0.022119948640465736,
          -0.07249399274587631,
          0.028308408334851265,
          -0.0038177252281457186,
          -0.14356090128421783,
          0.0735253393650055,
          0.11668015271425247,
          -0.02163536660373211,
          0.07001852989196777,
          -0.041356444358825684,
          -0.33312416076660156,
          -0.04097948223352432,
          -0.2461225837469101,
          -0.016317687928676605,
          -0.01986350677907467,
          -0.030012955889105797,
          0.16002550721168518,
          -0.0715932548046112,
          0.04112806171178818,
          -0.09301641583442688,
          0.04810912534594536,
          0.026519885286688805,
          0.10389480739831924,
          -0.2264862358570099,
          0.04941429942846298,
          -0.0791255459189415,
          0.045968372374773026,
          0.05332854762673378,
          -0.14535804092884064,
          0.20407308638095856,
          0.16266553103923798,
          -0.12992961704730988,
          0.0857890397310257,
          -0.10282032936811447,
          0.29928797483444214,
          0.09021022915840149,
          0.12014824897050858,
          -0.09664679318666458,
          0.10420949012041092,
          -0.13916108012199402,
          -0.06340073049068451,
          0.17724302411079407,
          -0.13055437803268433,
          0.18261374533176422,
          0.10757125914096832,
          0.05379026010632515,
          -0.04077395424246788,
          -0.0654541626572609,
          0.05858274921774864,
          -0.3006030023097992,
          -0.17390938103199005,
          -0.14776574075222015,
          -0.13177502155303955,
          -0.17334340512752533,
          -0.1324268877506256,
          -0.19917790591716766,
          -0.06776411831378937,
          -0.05724756047129631,
          0.0022537449840456247,
          0.11866956949234009,
          0.04870128259062767,
          -0.03682504594326019,
          -0.15091896057128906,
          0.08486206829547882,
          -0.35299214720726013,
          -0.1828785091638565,
          -0.2252347618341446,
          -0.029859354719519615,
          -0.21703529357910156,
          -0.08292870223522186,
          -0.1291617453098297,
          -0.20724105834960938,
          0.006201941519975662,
          -0.046204887330532074,
          -0.1331104189157486,
          -0.023825740441679955,
          -0.19675999879837036,
          -0.10420218110084534,
          0.07722286134958267,
          0.020000699907541275,
          -0.21885818243026733,
          0.015552347525954247,
          -0.029149489477276802,
          0.03396466746926308,
          0.10714828968048096,
          0.10641106218099594,
          0.06919219344854355,
          -0.16210496425628662,
          0.10177913308143616,
          0.09762799739837646,
          0.06359054893255234,
          0.09780921041965485,
          -0.09813117235898972,
          -0.11693266779184341
         ]
        },
        {
         "hovertemplate": "label=mgood<br>pca_3D_comments_0=%{x}<br>pca_3D_comments_1=%{y}<br>pca_3D_comments_2=%{z}<extra></extra>",
         "legendgroup": "mgood",
         "marker": {
          "color": "#EF553B",
          "opacity": 0.5,
          "size": 2,
          "symbol": "circle"
         },
         "mode": "markers",
         "name": "mgood",
         "scene": "scene",
         "showlegend": true,
         "type": "scatter3d",
         "x": [
          0.21352477371692657,
          -0.058639176189899445,
          0.0387367382645607,
          0.03277182951569557,
          0.17825822532176971,
          0.23486654460430145,
          -0.134537473320961,
          -0.012483201920986176,
          0.10836321115493774,
          -0.10126873850822449,
          -0.19633151590824127,
          -0.2479425072669983,
          0.30723443627357483,
          0.04148481413722038,
          -0.08439312130212784,
          0.2975830137729645,
          0.16117236018180847,
          0.031601276248693466,
          0.17227734625339508,
          0.05695919692516327,
          0.14433494210243225,
          0.0667656809091568,
          0.09730829298496246,
          0.006286300718784332,
          -0.01774706318974495,
          0.06338215619325638,
          0.00568158645182848,
          -0.08175531774759293,
          -0.10852737724781036,
          0.28306642174720764,
          0.05157546326518059,
          -0.06361860781908035,
          0.36973148584365845,
          -0.11271318793296814,
          -0.09887810051441193,
          0.1405206024646759,
          0.014915058389306068,
          -0.21995334327220917,
          -0.08954206854104996,
          -0.015767863020300865,
          0.07061181962490082,
          0.18756112456321716,
          -0.02160581946372986,
          -0.10707352310419083,
          0.023211585357785225,
          -0.12477292120456696,
          0.07387777417898178,
          -0.06735659390687943,
          -0.12962260842323303,
          -0.2381613701581955,
          0.08468851447105408,
          0.09829394519329071,
          0.30276432633399963,
          0.1254655122756958,
          -0.030668875202536583,
          0.07429464906454086,
          0.10126200318336487,
          0.21024638414382935,
          0.006452224217355251,
          0.13701952993869781,
          0.030834415927529335,
          0.03824927285313606,
          -0.01773744262754917,
          0.13054455816745758,
          0.14707230031490326,
          -0.23274940252304077,
          -0.02864621952176094,
          0.02053644135594368,
          -0.2213371992111206,
          -0.11258431524038315,
          0.10498686879873276,
          -0.055307600647211075,
          -0.055307600647211075,
          -0.09099967032670975,
          0.09377297759056091,
          0.043970972299575806,
          -0.12240789830684662,
          0.06893061846494675,
          0.25803056359291077,
          -0.0601603202521801,
          0.15130911767482758,
          0.20929837226867676,
          -0.24298717081546783,
          -0.02435249276459217,
          -0.005804338026791811,
          0.21647526323795319,
          -0.13398796319961548,
          -0.03414243832230568,
          0.04393402487039566,
          0.08350088447332382,
          -0.13467247784137726,
          0.010627958923578262,
          0.06830129772424698,
          -0.007877761498093605,
          0.04452761262655258,
          -0.03933322802186012,
          0.07425481826066971,
          -0.005496034398674965,
          0.03067694418132305,
          0.0969996452331543,
          0.0969996452331543,
          -0.1183638870716095,
          -0.1183638870716095,
          0.11147180944681168,
          0.08998420089483261,
          0.10930556803941727
         ],
         "y": [
          0.1196599006652832,
          0.15631727874279022,
          0.03682173416018486,
          0.10291152447462082,
          0.11362524330615997,
          -0.007931164465844631,
          -0.14530374109745026,
          -0.06684907525777817,
          -0.13417047262191772,
          -0.16009654104709625,
          0.03794648498296738,
          0.20889951288700104,
          0.16975539922714233,
          -0.004663869738578796,
          0.05612486973404884,
          0.12695962190628052,
          -0.06798724085092545,
          0.02626641094684601,
          0.030123675242066383,
          -0.05202436074614525,
          0.038911283016204834,
          -0.03754622861742973,
          -0.110991932451725,
          -0.052571047097444534,
          0.0766264870762825,
          -0.18933752179145813,
          0.10110069066286087,
          0.019737141206860542,
          -0.34408140182495117,
          0.08184004575014114,
          -0.1788128912448883,
          0.021979527547955513,
          -0.04021934047341347,
          0.1434805542230606,
          -0.024682464078068733,
          -0.09553071111440659,
          -0.17836615443229675,
          -0.024753684177994728,
          -0.07558645308017731,
          0.22848187386989594,
          -0.040898364037275314,
          0.018604891374707222,
          0.06958713382482529,
          0.09097553044557571,
          -0.03344399109482765,
          -0.24069374799728394,
          -0.17390240728855133,
          -0.24287696182727814,
          0.0578974187374115,
          0.23094916343688965,
          -0.11509384959936142,
          0.0022487416863441467,
          0.12825238704681396,
          -0.08901281654834747,
          -0.00043728691525757313,
          0.130629301071167,
          -0.030760621652007103,
          0.08903611451387405,
          0.01840979978442192,
          -0.23379454016685486,
          -0.1262129545211792,
          -0.018019115552306175,
          -0.1698126196861267,
          -0.05579405650496483,
          -0.15147322416305542,
          -0.22587423026561737,
          -0.09093357622623444,
          -0.12921841442584991,
          -0.3337571620941162,
          -0.008719696663320065,
          0.01889043301343918,
          0.12239225953817368,
          0.12239225953817368,
          0.16736388206481934,
          -0.09500406682491302,
          0.04675142094492912,
          -0.1534465253353119,
          -0.16738535463809967,
          -0.005311830434948206,
          -0.08220738917589188,
          -0.2542879581451416,
          -0.044889673590660095,
          -0.021961180493235588,
          -0.01432332769036293,
          -0.06962563097476959,
          -0.08724988251924515,
          -0.13238143920898438,
          -0.013861281797289848,
          -0.24424470961093903,
          -0.03241391107439995,
          -0.051661305129528046,
          0.20681194961071014,
          0.02023003250360489,
          -0.10341694205999374,
          -0.07385382056236267,
          0.05484085902571678,
          -0.12573561072349548,
          0.13751384615898132,
          0.01995299942791462,
          0.031035535037517548,
          0.031035535037517548,
          0.0382409542798996,
          0.0382409542798996,
          -0.021996628493070602,
          -0.18534156680107117,
          0.0912991315126419
         ],
         "z": [
          -0.09524919092655182,
          0.18538637459278107,
          -0.18361778557300568,
          -0.01294830720871687,
          -0.0914977565407753,
          -0.011601441539824009,
          0.06356395781040192,
          -0.007707207463681698,
          0.04486732929944992,
          0.28820961713790894,
          -0.11791489273309708,
          0.009554749354720116,
          0.016446953639388084,
          0.1658196747303009,
          0.034002140164375305,
          0.08950623124837875,
          0.04551757499575615,
          -0.06729007512331009,
          -0.011337748728692532,
          -0.08627672493457794,
          0.03254837915301323,
          0.24471145868301392,
          0.04517452046275139,
          -0.1540580838918686,
          0.183522567152977,
          -0.008755183778703213,
          0.08491374552249908,
          -0.026442520320415497,
          0.09037045389413834,
          -0.13631097972393036,
          0.14002102613449097,
          -0.005474221892654896,
          0.11965545266866684,
          -0.016720036044716835,
          -0.387186199426651,
          -0.0014186878688633442,
          -0.012961244210600853,
          0.17890430986881256,
          -0.030947448685765266,
          0.06251218914985657,
          -0.11856227368116379,
          0.17477412521839142,
          -0.03625638782978058,
          0.015950065106153488,
          0.0701352134346962,
          0.06355372816324234,
          0.03539220243692398,
          -0.15606854856014252,
          0.003900188487023115,
          0.047793012112379074,
          0.05934296175837517,
          -0.14172326028347015,
          -0.054503604769706726,
          -0.04026034101843834,
          0.05967332050204277,
          0.07767722755670547,
          0.14149540662765503,
          0.015681777149438858,
          0.10543635487556458,
          0.17395232617855072,
          -0.09197843074798584,
          0.012395628727972507,
          -0.07773756980895996,
          0.04791659116744995,
          -0.07916530966758728,
          -0.1489907205104828,
          -0.08912940323352814,
          0.16207236051559448,
          0.19481423497200012,
          0.02998393587768078,
          0.07945505529642105,
          0.03706815093755722,
          0.03706815093755722,
          0.1695251166820526,
          0.10521819442510605,
          0.09685637801885605,
          -0.03932509198784828,
          0.19702190160751343,
          -0.06183088943362236,
          0.014283360913395882,
          0.14374689757823944,
          0.005637556314468384,
          0.21474456787109375,
          -0.06155141815543175,
          -0.10005149245262146,
          -0.12084877490997314,
          0.13653555512428284,
          0.043013669550418854,
          0.03682711720466614,
          0.045769207179546356,
          -0.031638532876968384,
          0.0764957144856453,
          0.1611882597208023,
          0.02804291993379593,
          0.14152827858924866,
          0.05112158879637718,
          0.20247173309326172,
          0.021310407668352127,
          0.00525618763640523,
          -0.06816374510526657,
          -0.06816374510526657,
          0.1853000670671463,
          0.1853000670671463,
          0.2096320390701294,
          0.0787801593542099,
          0.03633645549416542
         ]
        },
        {
         "hovertemplate": "label=mbad<br>pca_3D_comments_0=%{x}<br>pca_3D_comments_1=%{y}<br>pca_3D_comments_2=%{z}<extra></extra>",
         "legendgroup": "mbad",
         "marker": {
          "color": "#00cc96",
          "opacity": 0.5,
          "size": 2,
          "symbol": "circle"
         },
         "mode": "markers",
         "name": "mbad",
         "scene": "scene",
         "showlegend": true,
         "type": "scatter3d",
         "x": [
          0.16862094402313232,
          0.12870138883590698,
          -0.1254972517490387,
          0.04696931689977646,
          0.20429480075836182,
          0.018309438601136208,
          0.2920478582382202,
          0.16068710386753082,
          0.24539685249328613,
          0.14786292612552643,
          0.16087386012077332,
          0.3902871608734131,
          0.26907673478126526,
          0.07273001223802567,
          0.12735068798065186,
          0.33694782853126526,
          -0.2997404932975769,
          0.2837945222854614,
          0.21301083266735077,
          0.059281300753355026,
          0.10995925217866898,
          0.12307509779930115,
          0.23576077818870544,
          0.10112787783145905,
          -0.046049851924180984,
          0.18203744292259216,
          0.0827416181564331,
          0.30072635412216187,
          0.10121013969182968,
          0.14972542226314545,
          0.2153017371892929,
          -0.13640126585960388,
          0.3149767816066742,
          -0.5093949437141418,
          0.2579222321510315,
          0.1561102569103241,
          0.24833959341049194,
          0.25388291478157043,
          0.0616934709250927,
          0.2342241257429123,
          0.19294391572475433,
          0.11893894523382187,
          0.22471238672733307,
          0.260833203792572,
          0.07282067090272903,
          -0.10368313640356064,
          0.2973528206348419,
          0.21554578840732574,
          0.02209477126598358,
          0.1863602250814438,
          0.18294602632522583,
          0.24333976209163666,
          0.2516148090362549,
          0.15096604824066162,
          0.280472993850708,
          0.26059186458587646,
          0.08380891382694244,
          0.18172132968902588,
          0.19642482697963715,
          0.41476309299468994,
          0.04186983406543732,
          0.2050047516822815,
          0.2370516061782837,
          -0.06248592212796211,
          0.25768139958381653,
          0.15070101618766785,
          0.14287041127681732,
          0.3063708543777466,
          0.3009904623031616,
          0.3913438320159912,
          0.3429499864578247,
          0.27172592282295227,
          0.3039013147354126,
          0.18949051201343536,
          0.08825551718473434,
          0.2207747846841812,
          0.29621410369873047,
          0.15835672616958618,
          0.20654089748859406,
          -0.04133186116814613,
          0.23176692426204681,
          0.18581238389015198,
          0.2386765480041504,
          0.14922255277633667,
          0.2526385188102722,
          0.21310867369174957,
          0.1524243801832199,
          0.24759064614772797,
          0.16614557802677155,
          0.16819265484809875,
          0.1933402419090271,
          0.1784636229276657,
          0.31127649545669556,
          0.20275986194610596,
          0.267666757106781,
          0.05823366343975067,
          0.3070959150791168,
          0.3096781373023987,
          0.1877572387456894,
          0.30863845348358154,
          0.30074697732925415,
          0.24378980696201324,
          0.26200106739997864,
          0.10845892876386642,
          0.27188244462013245,
          0.35453686118125916,
          0.30960971117019653,
          0.1836414784193039,
          -0.01775103621184826,
          0.17738527059555054,
          0.2948538362979889,
          0.15659625828266144,
          0.16669271886348724,
          0.0697706937789917,
          0.16526104509830475,
          0.16526104509830475,
          0.44733136892318726,
          0.34170836210250854,
          0.26145049929618835,
          0.15039707720279694,
          0.29332461953163147,
          0.18717338144779205,
          0.06476863473653793,
          0.11961764097213745
         ],
         "y": [
          0.023955300450325012,
          -0.04396815970540047,
          0.1065826341509819,
          -0.16227306425571442,
          0.08194956183433533,
          -0.0773511677980423,
          0.05152937024831772,
          -0.05059908330440521,
          -0.08059841394424438,
          0.07916037738323212,
          -0.25701549649238586,
          -0.05932300537824631,
          0.02203099988400936,
          -0.20187509059906006,
          -0.1969633251428604,
          0.08406268805265427,
          -0.053109437227249146,
          -0.011946769431233406,
          -0.09115973114967346,
          0.05726327747106552,
          -0.14335037767887115,
          0.0224566962569952,
          -0.05139259994029999,
          0.024221742525696754,
          -0.23525024950504303,
          -0.08841914683580399,
          -0.07543472945690155,
          -0.17986564338207245,
          0.06797157227993011,
          -0.18810918927192688,
          -0.07386313378810883,
          -0.3620942234992981,
          0.04800752177834511,
          -0.2239949256181717,
          -0.04935450851917267,
          0.07798180729150772,
          0.09007571637630463,
          -0.010619258508086205,
          0.06837134063243866,
          -0.006574940402060747,
          -0.03961741551756859,
          -0.09360527247190475,
          0.09659917652606964,
          -0.09436444938182831,
          0.05598074942827225,
          -0.14893236756324768,
          -0.036375414580106735,
          -0.043139852583408356,
          -0.020847642794251442,
          0.12646734714508057,
          -0.0605778843164444,
          -0.06997188925743103,
          0.047731317579746246,
          -0.29237478971481323,
          0.041047703474760056,
          0.0826372280716896,
          0.0244746096432209,
          0.004040502943098545,
          -0.07079288363456726,
          -0.3941340744495392,
          -0.21906128525733948,
          -0.11933062225580215,
          -0.02193484641611576,
          0.04473888501524925,
          0.05409414693713188,
          -0.1380736082792282,
          0.10104209184646606,
          -0.021441763266921043,
          0.019997015595436096,
          -0.07568459957838058,
          -0.029039427638053894,
          -0.05501558259129524,
          -0.08247874677181244,
          -0.062074679881334305,
          -0.022221477702260017,
          -0.09052804857492447,
          -0.016527321189641953,
          -0.1293840855360031,
          0.05815879628062248,
          -0.10288754850625992,
          0.011092837899923325,
          -0.02051323838531971,
          0.06615977734327316,
          -0.005434450227767229,
          -0.21901078522205353,
          -0.047974999994039536,
          -0.05133238434791565,
          0.00804327242076397,
          -0.22674286365509033,
          0.11439089477062225,
          0.03026251122355461,
          -0.04475504159927368,
          0.005879979580640793,
          0.07167843729257584,
          -0.040663979947566986,
          -0.19567731022834778,
          0.15269125998020172,
          0.012942848727107048,
          -0.04887032508850098,
          -0.004975329153239727,
          0.07736939936876297,
          0.01565658673644066,
          -0.029368724673986435,
          -0.09126486629247665,
          0.02632688730955124,
          0.001061009126715362,
          -0.01739671267569065,
          0.048074595630168915,
          -0.15671101212501526,
          0.05070535093545914,
          0.11306750029325485,
          -0.1936405450105667,
          0.05042784661054611,
          0.010151936672627926,
          -0.09960419684648514,
          -0.09960419684648514,
          -0.007169594522565603,
          -0.06765135377645493,
          0.21521234512329102,
          -0.07781993597745895,
          -0.09339514374732971,
          -0.006784671917557716,
          -0.029484625905752182,
          -0.02891053445637226
         ],
         "z": [
          -0.10296788811683655,
          0.01225222647190094,
          0.07622358947992325,
          0.022405430674552917,
          -0.16540676355361938,
          -0.07022830098867416,
          0.0042608012445271015,
          -0.033006712794303894,
          0.0013389184605330229,
          -0.023480907082557678,
          0.13208933174610138,
          0.12018810957670212,
          -0.11386731266975403,
          -0.04104872792959213,
          0.1103319302201271,
          0.05398567020893097,
          -0.030902966856956482,
          0.04186248406767845,
          0.03089856170117855,
          0.05373150855302811,
          0.10410650819540024,
          -0.03200973942875862,
          -0.05994901806116104,
          -0.2574622929096222,
          0.08241070806980133,
          -0.009289623238146305,
          -0.06736986339092255,
          0.005262965336441994,
          -0.04804409295320511,
          0.2023458480834961,
          -0.04505990445613861,
          0.05014054477214813,
          -0.033276159316301346,
          0.020050043240189552,
          0.07329553365707397,
          -0.09343037754297256,
          0.020444231107831,
          -0.018705273047089577,
          -0.05006439983844757,
          -0.07950028032064438,
          0.08039621263742447,
          -0.09897103160619736,
          0.03260498493909836,
          0.14706578850746155,
          0.1443336308002472,
          0.06548316776752472,
          0.05208415538072586,
          -0.143142431974411,
          0.09199421107769012,
          0.13127025961875916,
          -0.013558114878833294,
          0.08569001406431198,
          0.018433623015880585,
          0.0443144291639328,
          -0.019349468871951103,
          0.022658413276076317,
          0.13893820345401764,
          0.15073128044605255,
          0.015098407864570618,
          0.435810923576355,
          -0.12243475019931793,
          0.078092060983181,
          -0.03179830685257912,
          0.05175195261836052,
          0.032376646995544434,
          0.05031407251954079,
          0.09815896302461624,
          -0.04477634280920029,
          -0.06448594480752945,
          0.1579497903585434,
          -0.027630552649497986,
          0.07043243199586868,
          -0.014809085987508297,
          -0.021261129528284073,
          -0.06197994574904442,
          0.11095220595598221,
          0.12605449557304382,
          0.1043713241815567,
          -0.07318621873855591,
          0.0895572081208229,
          -0.18366219103336334,
          0.11857276409864426,
          -0.08096698671579361,
          -0.1611156463623047,
          0.18968647718429565,
          0.021938422694802284,
          -0.14078976213932037,
          0.05248284339904785,
          0.050555888563394547,
          -0.0901649221777916,
          -0.06741273403167725,
          -0.007143538910895586,
          0.000017238000509678386,
          -0.11065713316202164,
          -0.06953718513250351,
          0.08638924360275269,
          -0.04202226176857948,
          0.040025223046541214,
          -0.02657732367515564,
          0.04968499392271042,
          -0.10909008979797363,
          -0.07226935774087906,
          -0.04127766191959381,
          0.08663152903318405,
          -0.04550653323531151,
          0.06305520981550217,
          0.18866927921772003,
          0.0015197573229670525,
          0.10349266231060028,
          -0.07733846455812454,
          0.03094709850847721,
          -0.002569167409092188,
          -0.11417941749095917,
          -0.04366413876414299,
          -0.03640666976571083,
          -0.03640666976571083,
          0.20328429341316223,
          0.0399036630988121,
          -0.020858803763985634,
          0.09569079428911209,
          0.07248932123184204,
          -0.06435588002204895,
          0.04118354618549347,
          0.1619510054588318
         ]
        },
        {
         "hovertemplate": "label=bad<br>pca_3D_comments_0=%{x}<br>pca_3D_comments_1=%{y}<br>pca_3D_comments_2=%{z}<extra></extra>",
         "legendgroup": "bad",
         "marker": {
          "color": "#ab63fa",
          "opacity": 0.5,
          "size": 2,
          "symbol": "circle"
         },
         "mode": "markers",
         "name": "bad",
         "scene": "scene",
         "showlegend": true,
         "type": "scatter3d",
         "x": [
          0.14168359339237213,
          0.13349366188049316,
          0.09855680167675018,
          0.3054284453392029,
          0.24621959030628204,
          0.32566016912460327,
          -0.14857690036296844,
          0.15506091713905334,
          0.32237258553504944,
          0.10704585909843445,
          0.3585439622402191,
          0.3041510581970215,
          0.2710933983325958,
          -0.03033757023513317,
          0.2162226438522339,
          0.2120833545923233,
          0.13018275797367096,
          0.1689564436674118,
          0.19780515134334564,
          0.25404641032218933,
          0.41131356358528137,
          0.26177656650543213,
          0.24838998913764954,
          0.18912574648857117,
          0.23906809091567993,
          0.31392377614974976,
          0.1540522426366806,
          -0.24469560384750366,
          0.2524923086166382,
          0.03962137922644615,
          0.2139531821012497,
          0.23112063109874725,
          -0.11844731867313385,
          0.29617583751678467,
          -0.015759136527776718,
          0.3500197231769562,
          0.23417457938194275,
          0.39946553111076355,
          0.24871033430099487,
          0.2820601165294647,
          0.29584023356437683,
          0.2761886715888977,
          0.1970708966255188,
          0.38294675946235657,
          0.16689376533031464,
          -0.025238309055566788,
          -0.03241429850459099,
          0.2966631054878235,
          0.36837154626846313,
          0.08738779276609421,
          0.1538735032081604,
          0.27393633127212524,
          0.28781166672706604,
          0.3216949701309204,
          0.1625860631465912,
          0.06536731868982315,
          0.25425460934638977,
          0.28945258259773254,
          0.2736636698246002,
          -0.03508275747299194,
          0.3860146105289459,
          0.3207893669605255,
          0.19753247499465942,
          0.24933774769306183,
          0.14144621789455414,
          0.10937738418579102,
          0.3856176733970642,
          0.0563148595392704,
          0.37926602363586426,
          0.3013090491294861,
          0.2772176265716553,
          0.35080936551094055,
          0.15938608348369598,
          0.25268176198005676,
          0.12422214448451996,
          0.17610113322734833,
          0.32840394973754883,
          0.17966952919960022,
          0.2505466639995575,
          0.21484462916851044
         ],
         "y": [
          -0.03088168427348137,
          0.04176449030637741,
          -0.1698206514120102,
          -0.031229151412844658,
          -0.14646519720554352,
          -0.0550139881670475,
          -0.3213074505329132,
          0.07863564044237137,
          0.010049897246062756,
          -0.15311025083065033,
          0.10414958745241165,
          -0.0674583688378334,
          0.02267366647720337,
          -0.2489345520734787,
          0.05069321021437645,
          -0.0676867738366127,
          0.13208401203155518,
          -0.055431876331567764,
          0.13798969984054565,
          0.0844949260354042,
          0.10155970603227615,
          0.10086450725793839,
          -0.042171306908130646,
          -0.03417012467980385,
          0.08545197546482086,
          0.07116956263780594,
          -0.014980067498981953,
          0.25016605854034424,
          0.1061372384428978,
          0.07698825001716614,
          -0.13114230334758759,
          -0.08011925220489502,
          0.030741946771740913,
          -0.040945835411548615,
          0.08984431624412537,
          0.03819512203335762,
          0.06304317712783813,
          0.1152748167514801,
          0.037278760224580765,
          0.024892132729291916,
          -0.1785515397787094,
          0.06467407941818237,
          0.10898933559656143,
          0.09850851446390152,
          -0.0017315264558419585,
          -0.050720199942588806,
          0.0052990843541920185,
          -0.026196876540780067,
          -0.019039612263441086,
          -0.03198147565126419,
          0.07763732969760895,
          -0.07684899866580963,
          0.02698858082294464,
          0.045469220727682114,
          -0.05625699460506439,
          0.09369324147701263,
          0.018696719780564308,
          0.015398128889501095,
          -0.018897952511906624,
          -0.11158774048089981,
          -0.09200480580329895,
          -0.13212566077709198,
          -0.41967684030532837,
          0.020785819739103317,
          -0.054567836225032806,
          -0.08004544675350189,
          0.058266982436180115,
          0.11326725780963898,
          0.0454426072537899,
          0.11976151913404465,
          -0.031288713216781616,
          0.23018299043178558,
          -0.004964926280081272,
          0.09561794996261597,
          0.05602816119790077,
          -0.0815495103597641,
          0.08217263966798782,
          0.11032155901193619,
          -0.13148418068885803,
          -0.006951214279979467
         ],
         "z": [
          -0.028548363596200943,
          -0.025277307257056236,
          0.07415997982025146,
          0.02786846272647381,
          0.10831642150878906,
          0.0899830311536789,
          0.005036225076764822,
          -0.06159152463078499,
          0.06333361566066742,
          0.11837144196033478,
          -0.1667763739824295,
          -0.0279975775629282,
          -0.09801643341779709,
          0.02863495983183384,
          -0.011707315221428871,
          -0.018088599666953087,
          -0.033116426318883896,
          -0.06820634752511978,
          -0.001192254712805152,
          -0.2149505615234375,
          -0.01063818670809269,
          -0.21530020236968994,
          -0.09957367181777954,
          0.03427276387810707,
          -0.031532980501651764,
          -0.09732366353273392,
          -0.10334576666355133,
          0.18280233442783356,
          -0.21442042291164398,
          -0.02195257693529129,
          0.04941610246896744,
          -0.14496305584907532,
          0.015394425019621849,
          -0.018506990745663643,
          -0.015477714128792286,
          -0.024656563997268677,
          0.058463484048843384,
          -0.017812460660934448,
          0.048329032957553864,
          0.10018952190876007,
          -0.016320733353495598,
          -0.0014790886780247092,
          0.04982573166489601,
          0.025349074974656105,
          -0.047680214047431946,
          0.03414838761091232,
          -0.26703187823295593,
          0.10167831927537918,
          0.04353880509734154,
          0.2744090259075165,
          -0.21218205988407135,
          0.025727756321430206,
          0.013160395435988903,
          0.0004893293371424079,
          0.06853605061769485,
          -0.04112859442830086,
          -0.04424963518977165,
          -0.04680538550019264,
          -0.15801766514778137,
          -0.24506331980228424,
          -0.10645832866430283,
          0.03667408972978592,
          0.21522517502307892,
          -0.02533324994146824,
          0.03816309943795204,
          -0.0713273361325264,
          -0.08857642114162445,
          -0.14309127628803253,
          -0.10543762147426605,
          0.04314479976892471,
          0.04527769237756729,
          0.011477182619273663,
          -0.09923170506954193,
          -0.1403128206729889,
          0.17952096462249756,
          0.15341342985630035,
          -0.2033994495868683,
          -0.0451342910528183,
          0.15582166612148285,
          -0.19721868634223938
         ]
        }
       ],
       "layout": {
        "legend": {
         "title": {
          "text": "label"
         },
         "tracegroupgap": 0
        },
        "margin": {
         "t": 60
        },
        "scene": {
         "domain": {
          "x": [
           0,
           1
          ],
          "y": [
           0,
           1
          ]
         },
         "xaxis": {
          "title": {
           "text": "pca_3D_comments_0"
          }
         },
         "yaxis": {
          "title": {
           "text": "pca_3D_comments_1"
          }
         },
         "zaxis": {
          "title": {
           "text": "pca_3D_comments_2"
          }
         }
        },
        "template": {
         "data": {
          "bar": [
           {
            "error_x": {
             "color": "#2a3f5f"
            },
            "error_y": {
             "color": "#2a3f5f"
            },
            "marker": {
             "line": {
              "color": "#E5ECF6",
              "width": 0.5
             },
             "pattern": {
              "fillmode": "overlay",
              "size": 10,
              "solidity": 0.2
             }
            },
            "type": "bar"
           }
          ],
          "barpolar": [
           {
            "marker": {
             "line": {
              "color": "#E5ECF6",
              "width": 0.5
             },
             "pattern": {
              "fillmode": "overlay",
              "size": 10,
              "solidity": 0.2
             }
            },
            "type": "barpolar"
           }
          ],
          "carpet": [
           {
            "aaxis": {
             "endlinecolor": "#2a3f5f",
             "gridcolor": "white",
             "linecolor": "white",
             "minorgridcolor": "white",
             "startlinecolor": "#2a3f5f"
            },
            "baxis": {
             "endlinecolor": "#2a3f5f",
             "gridcolor": "white",
             "linecolor": "white",
             "minorgridcolor": "white",
             "startlinecolor": "#2a3f5f"
            },
            "type": "carpet"
           }
          ],
          "choropleth": [
           {
            "colorbar": {
             "outlinewidth": 0,
             "ticks": ""
            },
            "type": "choropleth"
           }
          ],
          "contour": [
           {
            "colorbar": {
             "outlinewidth": 0,
             "ticks": ""
            },
            "colorscale": [
             [
              0,
              "#0d0887"
             ],
             [
              0.1111111111111111,
              "#46039f"
             ],
             [
              0.2222222222222222,
              "#7201a8"
             ],
             [
              0.3333333333333333,
              "#9c179e"
             ],
             [
              0.4444444444444444,
              "#bd3786"
             ],
             [
              0.5555555555555556,
              "#d8576b"
             ],
             [
              0.6666666666666666,
              "#ed7953"
             ],
             [
              0.7777777777777778,
              "#fb9f3a"
             ],
             [
              0.8888888888888888,
              "#fdca26"
             ],
             [
              1,
              "#f0f921"
             ]
            ],
            "type": "contour"
           }
          ],
          "contourcarpet": [
           {
            "colorbar": {
             "outlinewidth": 0,
             "ticks": ""
            },
            "type": "contourcarpet"
           }
          ],
          "heatmap": [
           {
            "colorbar": {
             "outlinewidth": 0,
             "ticks": ""
            },
            "colorscale": [
             [
              0,
              "#0d0887"
             ],
             [
              0.1111111111111111,
              "#46039f"
             ],
             [
              0.2222222222222222,
              "#7201a8"
             ],
             [
              0.3333333333333333,
              "#9c179e"
             ],
             [
              0.4444444444444444,
              "#bd3786"
             ],
             [
              0.5555555555555556,
              "#d8576b"
             ],
             [
              0.6666666666666666,
              "#ed7953"
             ],
             [
              0.7777777777777778,
              "#fb9f3a"
             ],
             [
              0.8888888888888888,
              "#fdca26"
             ],
             [
              1,
              "#f0f921"
             ]
            ],
            "type": "heatmap"
           }
          ],
          "heatmapgl": [
           {
            "colorbar": {
             "outlinewidth": 0,
             "ticks": ""
            },
            "colorscale": [
             [
              0,
              "#0d0887"
             ],
             [
              0.1111111111111111,
              "#46039f"
             ],
             [
              0.2222222222222222,
              "#7201a8"
             ],
             [
              0.3333333333333333,
              "#9c179e"
             ],
             [
              0.4444444444444444,
              "#bd3786"
             ],
             [
              0.5555555555555556,
              "#d8576b"
             ],
             [
              0.6666666666666666,
              "#ed7953"
             ],
             [
              0.7777777777777778,
              "#fb9f3a"
             ],
             [
              0.8888888888888888,
              "#fdca26"
             ],
             [
              1,
              "#f0f921"
             ]
            ],
            "type": "heatmapgl"
           }
          ],
          "histogram": [
           {
            "marker": {
             "pattern": {
              "fillmode": "overlay",
              "size": 10,
              "solidity": 0.2
             }
            },
            "type": "histogram"
           }
          ],
          "histogram2d": [
           {
            "colorbar": {
             "outlinewidth": 0,
             "ticks": ""
            },
            "colorscale": [
             [
              0,
              "#0d0887"
             ],
             [
              0.1111111111111111,
              "#46039f"
             ],
             [
              0.2222222222222222,
              "#7201a8"
             ],
             [
              0.3333333333333333,
              "#9c179e"
             ],
             [
              0.4444444444444444,
              "#bd3786"
             ],
             [
              0.5555555555555556,
              "#d8576b"
             ],
             [
              0.6666666666666666,
              "#ed7953"
             ],
             [
              0.7777777777777778,
              "#fb9f3a"
             ],
             [
              0.8888888888888888,
              "#fdca26"
             ],
             [
              1,
              "#f0f921"
             ]
            ],
            "type": "histogram2d"
           }
          ],
          "histogram2dcontour": [
           {
            "colorbar": {
             "outlinewidth": 0,
             "ticks": ""
            },
            "colorscale": [
             [
              0,
              "#0d0887"
             ],
             [
              0.1111111111111111,
              "#46039f"
             ],
             [
              0.2222222222222222,
              "#7201a8"
             ],
             [
              0.3333333333333333,
              "#9c179e"
             ],
             [
              0.4444444444444444,
              "#bd3786"
             ],
             [
              0.5555555555555556,
              "#d8576b"
             ],
             [
              0.6666666666666666,
              "#ed7953"
             ],
             [
              0.7777777777777778,
              "#fb9f3a"
             ],
             [
              0.8888888888888888,
              "#fdca26"
             ],
             [
              1,
              "#f0f921"
             ]
            ],
            "type": "histogram2dcontour"
           }
          ],
          "mesh3d": [
           {
            "colorbar": {
             "outlinewidth": 0,
             "ticks": ""
            },
            "type": "mesh3d"
           }
          ],
          "parcoords": [
           {
            "line": {
             "colorbar": {
              "outlinewidth": 0,
              "ticks": ""
             }
            },
            "type": "parcoords"
           }
          ],
          "pie": [
           {
            "automargin": true,
            "type": "pie"
           }
          ],
          "scatter": [
           {
            "fillpattern": {
             "fillmode": "overlay",
             "size": 10,
             "solidity": 0.2
            },
            "type": "scatter"
           }
          ],
          "scatter3d": [
           {
            "line": {
             "colorbar": {
              "outlinewidth": 0,
              "ticks": ""
             }
            },
            "marker": {
             "colorbar": {
              "outlinewidth": 0,
              "ticks": ""
             }
            },
            "type": "scatter3d"
           }
          ],
          "scattercarpet": [
           {
            "marker": {
             "colorbar": {
              "outlinewidth": 0,
              "ticks": ""
             }
            },
            "type": "scattercarpet"
           }
          ],
          "scattergeo": [
           {
            "marker": {
             "colorbar": {
              "outlinewidth": 0,
              "ticks": ""
             }
            },
            "type": "scattergeo"
           }
          ],
          "scattergl": [
           {
            "marker": {
             "colorbar": {
              "outlinewidth": 0,
              "ticks": ""
             }
            },
            "type": "scattergl"
           }
          ],
          "scattermapbox": [
           {
            "marker": {
             "colorbar": {
              "outlinewidth": 0,
              "ticks": ""
             }
            },
            "type": "scattermapbox"
           }
          ],
          "scatterpolar": [
           {
            "marker": {
             "colorbar": {
              "outlinewidth": 0,
              "ticks": ""
             }
            },
            "type": "scatterpolar"
           }
          ],
          "scatterpolargl": [
           {
            "marker": {
             "colorbar": {
              "outlinewidth": 0,
              "ticks": ""
             }
            },
            "type": "scatterpolargl"
           }
          ],
          "scatterternary": [
           {
            "marker": {
             "colorbar": {
              "outlinewidth": 0,
              "ticks": ""
             }
            },
            "type": "scatterternary"
           }
          ],
          "surface": [
           {
            "colorbar": {
             "outlinewidth": 0,
             "ticks": ""
            },
            "colorscale": [
             [
              0,
              "#0d0887"
             ],
             [
              0.1111111111111111,
              "#46039f"
             ],
             [
              0.2222222222222222,
              "#7201a8"
             ],
             [
              0.3333333333333333,
              "#9c179e"
             ],
             [
              0.4444444444444444,
              "#bd3786"
             ],
             [
              0.5555555555555556,
              "#d8576b"
             ],
             [
              0.6666666666666666,
              "#ed7953"
             ],
             [
              0.7777777777777778,
              "#fb9f3a"
             ],
             [
              0.8888888888888888,
              "#fdca26"
             ],
             [
              1,
              "#f0f921"
             ]
            ],
            "type": "surface"
           }
          ],
          "table": [
           {
            "cells": {
             "fill": {
              "color": "#EBF0F8"
             },
             "line": {
              "color": "white"
             }
            },
            "header": {
             "fill": {
              "color": "#C8D4E3"
             },
             "line": {
              "color": "white"
             }
            },
            "type": "table"
           }
          ]
         },
         "layout": {
          "annotationdefaults": {
           "arrowcolor": "#2a3f5f",
           "arrowhead": 0,
           "arrowwidth": 1
          },
          "autotypenumbers": "strict",
          "coloraxis": {
           "colorbar": {
            "outlinewidth": 0,
            "ticks": ""
           }
          },
          "colorscale": {
           "diverging": [
            [
             0,
             "#8e0152"
            ],
            [
             0.1,
             "#c51b7d"
            ],
            [
             0.2,
             "#de77ae"
            ],
            [
             0.3,
             "#f1b6da"
            ],
            [
             0.4,
             "#fde0ef"
            ],
            [
             0.5,
             "#f7f7f7"
            ],
            [
             0.6,
             "#e6f5d0"
            ],
            [
             0.7,
             "#b8e186"
            ],
            [
             0.8,
             "#7fbc41"
            ],
            [
             0.9,
             "#4d9221"
            ],
            [
             1,
             "#276419"
            ]
           ],
           "sequential": [
            [
             0,
             "#0d0887"
            ],
            [
             0.1111111111111111,
             "#46039f"
            ],
            [
             0.2222222222222222,
             "#7201a8"
            ],
            [
             0.3333333333333333,
             "#9c179e"
            ],
            [
             0.4444444444444444,
             "#bd3786"
            ],
            [
             0.5555555555555556,
             "#d8576b"
            ],
            [
             0.6666666666666666,
             "#ed7953"
            ],
            [
             0.7777777777777778,
             "#fb9f3a"
            ],
            [
             0.8888888888888888,
             "#fdca26"
            ],
            [
             1,
             "#f0f921"
            ]
           ],
           "sequentialminus": [
            [
             0,
             "#0d0887"
            ],
            [
             0.1111111111111111,
             "#46039f"
            ],
            [
             0.2222222222222222,
             "#7201a8"
            ],
            [
             0.3333333333333333,
             "#9c179e"
            ],
            [
             0.4444444444444444,
             "#bd3786"
            ],
            [
             0.5555555555555556,
             "#d8576b"
            ],
            [
             0.6666666666666666,
             "#ed7953"
            ],
            [
             0.7777777777777778,
             "#fb9f3a"
            ],
            [
             0.8888888888888888,
             "#fdca26"
            ],
            [
             1,
             "#f0f921"
            ]
           ]
          },
          "colorway": [
           "#636efa",
           "#EF553B",
           "#00cc96",
           "#ab63fa",
           "#FFA15A",
           "#19d3f3",
           "#FF6692",
           "#B6E880",
           "#FF97FF",
           "#FECB52"
          ],
          "font": {
           "color": "#2a3f5f"
          },
          "geo": {
           "bgcolor": "white",
           "lakecolor": "white",
           "landcolor": "#E5ECF6",
           "showlakes": true,
           "showland": true,
           "subunitcolor": "white"
          },
          "hoverlabel": {
           "align": "left"
          },
          "hovermode": "closest",
          "mapbox": {
           "style": "light"
          },
          "paper_bgcolor": "white",
          "plot_bgcolor": "#E5ECF6",
          "polar": {
           "angularaxis": {
            "gridcolor": "white",
            "linecolor": "white",
            "ticks": ""
           },
           "bgcolor": "#E5ECF6",
           "radialaxis": {
            "gridcolor": "white",
            "linecolor": "white",
            "ticks": ""
           }
          },
          "scene": {
           "xaxis": {
            "backgroundcolor": "#E5ECF6",
            "gridcolor": "white",
            "gridwidth": 2,
            "linecolor": "white",
            "showbackground": true,
            "ticks": "",
            "zerolinecolor": "white"
           },
           "yaxis": {
            "backgroundcolor": "#E5ECF6",
            "gridcolor": "white",
            "gridwidth": 2,
            "linecolor": "white",
            "showbackground": true,
            "ticks": "",
            "zerolinecolor": "white"
           },
           "zaxis": {
            "backgroundcolor": "#E5ECF6",
            "gridcolor": "white",
            "gridwidth": 2,
            "linecolor": "white",
            "showbackground": true,
            "ticks": "",
            "zerolinecolor": "white"
           }
          },
          "shapedefaults": {
           "line": {
            "color": "#2a3f5f"
           }
          },
          "ternary": {
           "aaxis": {
            "gridcolor": "white",
            "linecolor": "white",
            "ticks": ""
           },
           "baxis": {
            "gridcolor": "white",
            "linecolor": "white",
            "ticks": ""
           },
           "bgcolor": "#E5ECF6",
           "caxis": {
            "gridcolor": "white",
            "linecolor": "white",
            "ticks": ""
           }
          },
          "title": {
           "x": 0.05
          },
          "xaxis": {
           "automargin": true,
           "gridcolor": "white",
           "linecolor": "white",
           "ticks": "",
           "title": {
            "standoff": 15
           },
           "zerolinecolor": "white",
           "zerolinewidth": 2
          },
          "yaxis": {
           "automargin": true,
           "gridcolor": "white",
           "linecolor": "white",
           "ticks": "",
           "title": {
            "standoff": 15
           },
           "zerolinecolor": "white",
           "zerolinewidth": 2
          }
         }
        }
       }
      }
     },
     "metadata": {},
     "output_type": "display_data"
    }
   ],
   "source": [
    "comments_embeddings, _ = embeddings_features(col=\"comments\")\n",
    "\n",
    "pca_features = do_pca(comments_embeddings, \"comments\", 3)[0]\n",
    "\n",
    "# add label from df.label\n",
    "pca_features[\"label\"] = df.label\n",
    "\n",
    "pca_features\n",
    "\n",
    "# use plotly to plot the PCA vectors\n",
    "import plotly.express as px\n",
    "\n",
    "fig = px.scatter_3d(pca_features, x=\"pca_3D_comments_0\", y=\"pca_3D_comments_1\", z=\"pca_3D_comments_2\", color=\"label\")\n",
    "\n",
    "# make point smaller and opaque\n",
    "fig.update_traces(marker=dict(size=2, opacity=0.5))\n",
    "\n",
    "fig.show()"
   ]
  },
  {
   "attachments": {},
   "cell_type": "markdown",
   "metadata": {},
   "source": [
    "# Generate Features"
   ]
  },
  {
   "attachments": {},
   "cell_type": "markdown",
   "metadata": {},
   "source": [
    "With what we know, let's generate some features. I've provided a function for each type of feature, so we can mix and match."
   ]
  },
  {
   "cell_type": "code",
   "execution_count": 18,
   "metadata": {},
   "outputs": [],
   "source": [
    "to_try = {\n",
    "    \"pcas\": [2, 3, 5, 10, 20],\n",
    "    \"embeddings\": [50, 100, 200, 300, 500, 1000],\n",
    "}"
   ]
  },
  {
   "cell_type": "code",
   "execution_count": 19,
   "metadata": {},
   "outputs": [
    {
     "name": "stdout",
     "output_type": "stream",
     "text": [
      "Calculating amenities features with correlation threshold of 0.05\n",
      "Features above correlation threshold (0.05):\n",
      "['id', 'lockbox', 'pool', 'dishwasher', 'tv', 'keypad', 'kitchen', 'breakfast']\n",
      "Calculating amenities features with correlation threshold of None\n",
      "Embedding comments with vector size 50\n",
      "Embedding description with vector size 50\n",
      "Performing PCA on comments with 3 components\n",
      "Performing PCA on description with 3 components\n",
      "Performing PCA on comments+amenities with 3 components\n",
      "Performing PCA on description+amenities with 3 components\n",
      "Performing PCA on comments with 5 components\n",
      "Performing PCA on description with 5 components\n",
      "Performing PCA on comments+amenities with 5 components\n",
      "Performing PCA on description+amenities with 5 components\n",
      "Performing PCA on comments with 10 components\n",
      "Performing PCA on description with 10 components\n",
      "Performing PCA on comments+amenities with 10 components\n",
      "Performing PCA on description+amenities with 10 components\n",
      "Performing PCA on comments with 20 components\n",
      "Performing PCA on description with 20 components\n",
      "Performing PCA on comments+amenities with 20 components\n",
      "Performing PCA on description+amenities with 20 components\n",
      "Embedding comments with vector size 100\n",
      "Embedding description with vector size 100\n",
      "Performing PCA on comments with 3 components\n",
      "Performing PCA on description with 3 components\n",
      "Performing PCA on comments+amenities with 3 components\n",
      "Performing PCA on description+amenities with 3 components\n",
      "Performing PCA on comments with 5 components\n",
      "Performing PCA on description with 5 components\n",
      "Performing PCA on comments+amenities with 5 components\n",
      "Performing PCA on description+amenities with 5 components\n",
      "Performing PCA on comments with 10 components\n",
      "Performing PCA on description with 10 components\n",
      "Performing PCA on comments+amenities with 10 components\n",
      "Performing PCA on description+amenities with 10 components\n",
      "Performing PCA on comments with 20 components\n",
      "Performing PCA on description with 20 components\n",
      "Performing PCA on comments+amenities with 20 components\n",
      "Performing PCA on description+amenities with 20 components\n",
      "Embedding comments with vector size 200\n",
      "Embedding description with vector size 200\n",
      "Performing PCA on comments with 3 components\n",
      "Performing PCA on description with 3 components\n",
      "Performing PCA on comments+amenities with 3 components\n",
      "Performing PCA on description+amenities with 3 components\n",
      "Performing PCA on comments with 5 components\n",
      "Performing PCA on description with 5 components\n",
      "Performing PCA on comments+amenities with 5 components\n",
      "Performing PCA on description+amenities with 5 components\n",
      "Performing PCA on comments with 10 components\n",
      "Performing PCA on description with 10 components\n",
      "Performing PCA on comments+amenities with 10 components\n",
      "Performing PCA on description+amenities with 10 components\n",
      "Performing PCA on comments with 20 components\n",
      "Performing PCA on description with 20 components\n",
      "Performing PCA on comments+amenities with 20 components\n",
      "Performing PCA on description+amenities with 20 components\n",
      "Embedding comments with vector size 300\n",
      "Embedding description with vector size 300\n",
      "Performing PCA on comments with 3 components\n",
      "Performing PCA on description with 3 components\n",
      "Performing PCA on comments+amenities with 3 components\n",
      "Performing PCA on description+amenities with 3 components\n",
      "Performing PCA on comments with 5 components\n",
      "Performing PCA on description with 5 components\n",
      "Performing PCA on comments+amenities with 5 components\n",
      "Performing PCA on description+amenities with 5 components\n",
      "Performing PCA on comments with 10 components\n",
      "Performing PCA on description with 10 components\n",
      "Performing PCA on comments+amenities with 10 components\n",
      "Performing PCA on description+amenities with 10 components\n",
      "Performing PCA on comments with 20 components\n",
      "Performing PCA on description with 20 components\n",
      "Performing PCA on comments+amenities with 20 components\n",
      "Performing PCA on description+amenities with 20 components\n",
      "Embedding comments with vector size 500\n",
      "Embedding description with vector size 500\n",
      "Performing PCA on comments with 3 components\n",
      "Performing PCA on description with 3 components\n",
      "Performing PCA on comments+amenities with 3 components\n",
      "Performing PCA on description+amenities with 3 components\n",
      "Performing PCA on comments with 5 components\n",
      "Performing PCA on description with 5 components\n",
      "Performing PCA on comments+amenities with 5 components\n",
      "Performing PCA on description+amenities with 5 components\n",
      "Performing PCA on comments with 10 components\n",
      "Performing PCA on description with 10 components\n",
      "Performing PCA on comments+amenities with 10 components\n",
      "Performing PCA on description+amenities with 10 components\n",
      "Performing PCA on comments with 20 components\n",
      "Performing PCA on description with 20 components\n",
      "Performing PCA on comments+amenities with 20 components\n",
      "Performing PCA on description+amenities with 20 components\n",
      "Embedding comments with vector size 1000\n",
      "Embedding description with vector size 1000\n",
      "Performing PCA on comments with 3 components\n",
      "Performing PCA on description with 3 components\n",
      "Performing PCA on comments+amenities with 3 components\n",
      "Performing PCA on description+amenities with 3 components\n",
      "Performing PCA on comments with 5 components\n",
      "Performing PCA on description with 5 components\n",
      "Performing PCA on comments+amenities with 5 components\n",
      "Performing PCA on description+amenities with 5 components\n",
      "Performing PCA on comments with 10 components\n",
      "Performing PCA on description with 10 components\n",
      "Performing PCA on comments+amenities with 10 components\n",
      "Performing PCA on description+amenities with 10 components\n",
      "Performing PCA on comments with 20 components\n",
      "Performing PCA on description with 20 components\n",
      "Performing PCA on comments+amenities with 20 components\n",
      "Performing PCA on description+amenities with 20 components\n",
      "amenities (amenities) - {'corr_thresh': 0.05, 'amenities': ['amenity005_lockbox', 'amenity005_pool', 'amenity005_dishwasher', 'amenity005_tv', 'amenity005_keypad', 'amenity005_kitchen', 'amenity005_breakfast']}\n",
      "amenities (amenities) - {'corr_thresh': None, 'amenities': ['amenityall_kitchen', 'amenityall_garden', 'amenityall_microwave', 'amenityall_backyard', 'amenityall_iron', 'amenityall_shampoo', 'amenityall_wifi', 'amenityall_pool', 'amenityall_heating', 'amenityall_keypad', 'amenityall_refrigerator', 'amenityall_dog', 'amenityall_cat', 'amenityall_tv', 'amenityall_family', 'amenityall_internet', 'amenityall_patio', 'amenityall_washer', 'amenityall_dryer', 'amenityall_balcony', 'amenityall_stove', 'amenityall_breakfast', 'amenityall_dishwasher', 'amenityall_silverware', 'amenityall_bathtub', 'amenityall_lockbox', 'amenityall_crib', 'amenityall_elevator', 'amenityall_gym', 'amenityall_oven', 'amenityall_waterfront', 'amenityall_toilet']}\n",
      "embeddings (comments) - {'vector_size': 50}\n",
      "embeddings (description) - {'vector_size': 50}\n",
      "pca (comments) - {'n_components': 3, 'vector_size': 50}\n",
      "pca (description) - {'n_components': 3, 'vector_size': 50}\n",
      "pca (comments+amenities) - {'n_components': 3, 'vector_size': 50}\n",
      "pca (description+amenities) - {'n_components': 3, 'vector_size': 50}\n",
      "pca (comments) - {'n_components': 5, 'vector_size': 50}\n",
      "pca (description) - {'n_components': 5, 'vector_size': 50}\n",
      "pca (comments+amenities) - {'n_components': 5, 'vector_size': 50}\n",
      "pca (description+amenities) - {'n_components': 5, 'vector_size': 50}\n",
      "pca (comments) - {'n_components': 10, 'vector_size': 50}\n",
      "pca (description) - {'n_components': 10, 'vector_size': 50}\n",
      "pca (comments+amenities) - {'n_components': 10, 'vector_size': 50}\n",
      "pca (description+amenities) - {'n_components': 10, 'vector_size': 50}\n",
      "pca (comments) - {'n_components': 20, 'vector_size': 50}\n",
      "pca (description) - {'n_components': 20, 'vector_size': 50}\n",
      "pca (comments+amenities) - {'n_components': 20, 'vector_size': 50}\n",
      "pca (description+amenities) - {'n_components': 20, 'vector_size': 50}\n",
      "embeddings (comments) - {'vector_size': 100}\n",
      "embeddings (description) - {'vector_size': 100}\n",
      "pca (comments) - {'n_components': 3, 'vector_size': 100}\n",
      "pca (description) - {'n_components': 3, 'vector_size': 100}\n",
      "pca (comments+amenities) - {'n_components': 3, 'vector_size': 100}\n",
      "pca (description+amenities) - {'n_components': 3, 'vector_size': 100}\n",
      "pca (comments) - {'n_components': 5, 'vector_size': 100}\n",
      "pca (description) - {'n_components': 5, 'vector_size': 100}\n",
      "pca (comments+amenities) - {'n_components': 5, 'vector_size': 100}\n",
      "pca (description+amenities) - {'n_components': 5, 'vector_size': 100}\n",
      "pca (comments) - {'n_components': 10, 'vector_size': 100}\n",
      "pca (description) - {'n_components': 10, 'vector_size': 100}\n",
      "pca (comments+amenities) - {'n_components': 10, 'vector_size': 100}\n",
      "pca (description+amenities) - {'n_components': 10, 'vector_size': 100}\n",
      "pca (comments) - {'n_components': 20, 'vector_size': 100}\n",
      "pca (description) - {'n_components': 20, 'vector_size': 100}\n",
      "pca (comments+amenities) - {'n_components': 20, 'vector_size': 100}\n",
      "pca (description+amenities) - {'n_components': 20, 'vector_size': 100}\n",
      "embeddings (comments) - {'vector_size': 200}\n",
      "embeddings (description) - {'vector_size': 200}\n",
      "pca (comments) - {'n_components': 3, 'vector_size': 200}\n",
      "pca (description) - {'n_components': 3, 'vector_size': 200}\n",
      "pca (comments+amenities) - {'n_components': 3, 'vector_size': 200}\n",
      "pca (description+amenities) - {'n_components': 3, 'vector_size': 200}\n",
      "pca (comments) - {'n_components': 5, 'vector_size': 200}\n",
      "pca (description) - {'n_components': 5, 'vector_size': 200}\n",
      "pca (comments+amenities) - {'n_components': 5, 'vector_size': 200}\n",
      "pca (description+amenities) - {'n_components': 5, 'vector_size': 200}\n",
      "pca (comments) - {'n_components': 10, 'vector_size': 200}\n",
      "pca (description) - {'n_components': 10, 'vector_size': 200}\n",
      "pca (comments+amenities) - {'n_components': 10, 'vector_size': 200}\n",
      "pca (description+amenities) - {'n_components': 10, 'vector_size': 200}\n",
      "pca (comments) - {'n_components': 20, 'vector_size': 200}\n",
      "pca (description) - {'n_components': 20, 'vector_size': 200}\n",
      "pca (comments+amenities) - {'n_components': 20, 'vector_size': 200}\n",
      "pca (description+amenities) - {'n_components': 20, 'vector_size': 200}\n",
      "embeddings (comments) - {'vector_size': 300}\n",
      "embeddings (description) - {'vector_size': 300}\n",
      "pca (comments) - {'n_components': 3, 'vector_size': 300}\n",
      "pca (description) - {'n_components': 3, 'vector_size': 300}\n",
      "pca (comments+amenities) - {'n_components': 3, 'vector_size': 300}\n",
      "pca (description+amenities) - {'n_components': 3, 'vector_size': 300}\n",
      "pca (comments) - {'n_components': 5, 'vector_size': 300}\n",
      "pca (description) - {'n_components': 5, 'vector_size': 300}\n",
      "pca (comments+amenities) - {'n_components': 5, 'vector_size': 300}\n",
      "pca (description+amenities) - {'n_components': 5, 'vector_size': 300}\n",
      "pca (comments) - {'n_components': 10, 'vector_size': 300}\n",
      "pca (description) - {'n_components': 10, 'vector_size': 300}\n",
      "pca (comments+amenities) - {'n_components': 10, 'vector_size': 300}\n",
      "pca (description+amenities) - {'n_components': 10, 'vector_size': 300}\n",
      "pca (comments) - {'n_components': 20, 'vector_size': 300}\n",
      "pca (description) - {'n_components': 20, 'vector_size': 300}\n",
      "pca (comments+amenities) - {'n_components': 20, 'vector_size': 300}\n",
      "pca (description+amenities) - {'n_components': 20, 'vector_size': 300}\n",
      "embeddings (comments) - {'vector_size': 500}\n",
      "embeddings (description) - {'vector_size': 500}\n",
      "pca (comments) - {'n_components': 3, 'vector_size': 500}\n",
      "pca (description) - {'n_components': 3, 'vector_size': 500}\n",
      "pca (comments+amenities) - {'n_components': 3, 'vector_size': 500}\n",
      "pca (description+amenities) - {'n_components': 3, 'vector_size': 500}\n",
      "pca (comments) - {'n_components': 5, 'vector_size': 500}\n",
      "pca (description) - {'n_components': 5, 'vector_size': 500}\n",
      "pca (comments+amenities) - {'n_components': 5, 'vector_size': 500}\n",
      "pca (description+amenities) - {'n_components': 5, 'vector_size': 500}\n",
      "pca (comments) - {'n_components': 10, 'vector_size': 500}\n",
      "pca (description) - {'n_components': 10, 'vector_size': 500}\n",
      "pca (comments+amenities) - {'n_components': 10, 'vector_size': 500}\n",
      "pca (description+amenities) - {'n_components': 10, 'vector_size': 500}\n",
      "pca (comments) - {'n_components': 20, 'vector_size': 500}\n",
      "pca (description) - {'n_components': 20, 'vector_size': 500}\n",
      "pca (comments+amenities) - {'n_components': 20, 'vector_size': 500}\n",
      "pca (description+amenities) - {'n_components': 20, 'vector_size': 500}\n",
      "embeddings (comments) - {'vector_size': 1000}\n",
      "embeddings (description) - {'vector_size': 1000}\n",
      "pca (comments) - {'n_components': 3, 'vector_size': 1000}\n",
      "pca (description) - {'n_components': 3, 'vector_size': 1000}\n",
      "pca (comments+amenities) - {'n_components': 3, 'vector_size': 1000}\n",
      "pca (description+amenities) - {'n_components': 3, 'vector_size': 1000}\n",
      "pca (comments) - {'n_components': 5, 'vector_size': 1000}\n",
      "pca (description) - {'n_components': 5, 'vector_size': 1000}\n",
      "pca (comments+amenities) - {'n_components': 5, 'vector_size': 1000}\n",
      "pca (description+amenities) - {'n_components': 5, 'vector_size': 1000}\n",
      "pca (comments) - {'n_components': 10, 'vector_size': 1000}\n",
      "pca (description) - {'n_components': 10, 'vector_size': 1000}\n",
      "pca (comments+amenities) - {'n_components': 10, 'vector_size': 1000}\n",
      "pca (description+amenities) - {'n_components': 10, 'vector_size': 1000}\n",
      "pca (comments) - {'n_components': 20, 'vector_size': 1000}\n",
      "pca (description) - {'n_components': 20, 'vector_size': 1000}\n",
      "pca (comments+amenities) - {'n_components': 20, 'vector_size': 1000}\n",
      "pca (description+amenities) - {'n_components': 20, 'vector_size': 1000}\n"
     ]
    }
   ],
   "source": [
    "from dataclasses import dataclass\n",
    "from typing import List, Any\n",
    "\n",
    "@dataclass\n",
    "class Feature:\n",
    "    data: pd.DataFrame | np.ndarray\n",
    "    col: str\n",
    "    type: str\n",
    "    models: dict | None\n",
    "    params: dict | None\n",
    "\n",
    "    def __str__(self):\n",
    "        return f\"{self.type} ({self.col}) - {self.params}\"\n",
    "    \n",
    "    __repr__ = __str__\n",
    "    \n",
    "\n",
    "features: List[Feature] = []\n",
    "\n",
    "# get the amenities\n",
    "amenity005 = amenities_features(corr_thresh=0.05, prefix=\"amenity005_\").fillna(0)\n",
    "amenityall = amenities_features(corr_thresh=None, prefix=\"amenityall_\").fillna(0)\n",
    "\n",
    "features.extend([\n",
    "    Feature(\n",
    "        data=amenity005,\n",
    "        col=\"amenities\",\n",
    "        type=\"amenities\",\n",
    "        models=None,\n",
    "        params={\n",
    "            \"corr_thresh\": 0.05, \n",
    "            \"amenities\": amenity005.columns.tolist()\n",
    "        }\n",
    "    ),\n",
    "    Feature(\n",
    "        data=amenityall,\n",
    "        col=\"amenities\",\n",
    "        type=\"amenities\",\n",
    "        models=None,\n",
    "        params={\n",
    "            \"corr_thresh\": None, \n",
    "            \"amenities\": amenityall.columns.tolist()\n",
    "            }\n",
    "    ),\n",
    "])\n",
    "\n",
    "# get the embeddings\n",
    "for emb_vector_size in to_try[\"embeddings\"]:\n",
    "    embeddings_comments, w2vmodel_comments = embeddings_features(col=\"comments\", emb_vector_size=emb_vector_size)\n",
    "    embeddings_description, w2vmodel_description = embeddings_features(col=\"description\", emb_vector_size=emb_vector_size)\n",
    "    \n",
    "    features.extend([\n",
    "        Feature(\n",
    "            data=embeddings_comments, \n",
    "            col=\"comments\", \n",
    "            type=\"embeddings\", \n",
    "            models={\n",
    "                \"w2v\": w2vmodel_comments\n",
    "            }, \n",
    "            params={\"vector_size\": emb_vector_size}\n",
    "        ),\n",
    "        Feature(\n",
    "            data=embeddings_description, \n",
    "            col=\"description\", \n",
    "            type=\"embeddings\", \n",
    "            models={\n",
    "                \"w2v\": w2vmodel_description\n",
    "            }, \n",
    "            params={\"vector_size\": emb_vector_size}\n",
    "        ),\n",
    "    ])\n",
    "\n",
    "    \n",
    "    for pca_dims in [3, 5, 10, 20]:\n",
    "\n",
    "        # Apply PCA to the embeddings\n",
    "        pca_features_comments, pca_comments = do_pca(embeddings_comments, \"comments\", pca_dims)\n",
    "        pca_features_description, pca_description = do_pca(embeddings_description, \"description\", pca_dims)\n",
    "\n",
    "        features.extend([\n",
    "            Feature(\n",
    "                data=pca_features_comments, \n",
    "                col=\"comments\", type=\"pca\", \n",
    "                models={\n",
    "                    \"pca\": pca_comments,\n",
    "                    \"w2v\": w2vmodel_comments\n",
    "                }, \n",
    "                params={\"n_components\": pca_dims, \"vector_size\": emb_vector_size}\n",
    "            ),\n",
    "            Feature(\n",
    "                data=pca_features_description, \n",
    "                col=\"description\", \n",
    "                type=\"pca\", \n",
    "                models={\n",
    "                    \"pca\": pca_description,\n",
    "                    \"w2v\": w2vmodel_description\n",
    "                }, \n",
    "                params={\"n_components\": pca_dims, \"vector_size\": emb_vector_size}\n",
    "            ),\n",
    "        ])\n",
    "\n",
    "        # Apply PCA to embeddings + amenities\n",
    "        comments_and_amenities = pd.concat([embeddings_comments, amenityall], axis=1).fillna(0)\n",
    "        description_and_amenities = pd.concat([embeddings_description, amenityall], axis=1).fillna(0)\n",
    "        pca_features_comments_amenities, pca_comments_amenities = do_pca(comments_and_amenities, \"comments+amenities\", pca_dims)\n",
    "        pca_features_description_amenities, pca_description_amenities = do_pca(description_and_amenities, \"description+amenities\", pca_dims)\n",
    "\n",
    "        features.extend([\n",
    "            Feature(\n",
    "                data=pca_features_comments_amenities, \n",
    "                col=\"comments+amenities\", \n",
    "                type=\"pca\", \n",
    "                models={\n",
    "                    \"pca\": pca_comments_amenities,\n",
    "                    \"w2v\": w2vmodel_comments\n",
    "                }, \n",
    "                params={\"n_components\": pca_dims, \"vector_size\": emb_vector_size}\n",
    "            ),\n",
    "            Feature(\n",
    "                data=pca_features_description_amenities, \n",
    "                col=\"description+amenities\", \n",
    "                type=\"pca\", \n",
    "                models={\n",
    "                    \"pca\": pca_description_amenities,\n",
    "                    \"w2v\": w2vmodel_description\n",
    "                }, \n",
    "                params={\"n_components\": pca_dims, \"vector_size\": emb_vector_size}\n",
    "            ),\n",
    "        ])\n",
    "\n",
    "for feature in features:\n",
    "    print(feature)\n"
   ]
  },
  {
   "cell_type": "code",
   "execution_count": 20,
   "metadata": {},
   "outputs": [
    {
     "name": "stdout",
     "output_type": "stream",
     "text": [
      "Total feature types: 110\n"
     ]
    }
   ],
   "source": [
    "print(f\"Total feature types: {len(features)}\")"
   ]
  },
  {
   "attachments": {},
   "cell_type": "markdown",
   "metadata": {},
   "source": [
    "## Save the features"
   ]
  },
  {
   "attachments": {},
   "cell_type": "markdown",
   "metadata": {},
   "source": [
    "Here we will save the features to a csv. We will also save the trained word2vec and pca models, so we can use it later."
   ]
  },
  {
   "cell_type": "code",
   "execution_count": 21,
   "metadata": {},
   "outputs": [],
   "source": [
    "import pickle\n",
    "\n",
    "if isinstance(GEO, list):\n",
    "    geo_display_name = \"_\".join(GEO)\n",
    "else:\n",
    "    geo_display_name = GEO\n",
    "\n",
    "with open(f\"../../data/features/features_{geo_display_name}.pkl\", \"wb\") as f:\n",
    "    pickle.dump(features, f)"
   ]
  },
  {
   "cell_type": "code",
   "execution_count": null,
   "metadata": {},
   "outputs": [],
   "source": []
  }
 ],
 "metadata": {
  "kernelspec": {
   "display_name": "venv",
   "language": "python",
   "name": "python3"
  },
  "language_info": {
   "codemirror_mode": {
    "name": "ipython",
    "version": 3
   },
   "file_extension": ".py",
   "mimetype": "text/x-python",
   "name": "python",
   "nbconvert_exporter": "python",
   "pygments_lexer": "ipython3",
   "version": "3.10.4"
  },
  "orig_nbformat": 4,
  "vscode": {
   "interpreter": {
    "hash": "cf086def782804284d24881115c612afdcc8ea791299ba67855f0c7f1a9ccc5a"
   }
  }
 },
 "nbformat": 4,
 "nbformat_minor": 2
}
