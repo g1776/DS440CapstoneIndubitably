{
 "cells": [
  {
   "attachments": {},
   "cell_type": "markdown",
   "metadata": {},
   "source": [
    "## Feature Engineering on the processed dataset"
   ]
  },
  {
   "cell_type": "code",
   "execution_count": 26,
   "metadata": {},
   "outputs": [],
   "source": [
    "import pandas as pd\n",
    "import numpy as np\n",
    "import matplotlib.pyplot as plt\n",
    "import plotly.express as px\n",
    "import warnings\n",
    "warnings.simplefilter(action='ignore', category=pd.errors.PerformanceWarning)"
   ]
  },
  {
   "cell_type": "code",
   "execution_count": 27,
   "metadata": {},
   "outputs": [
    {
     "name": "stdout",
     "output_type": "stream",
     "text": [
      "(1546, 9)\n"
     ]
    },
    {
     "data": {
      "text/html": [
       "<div>\n",
       "<style scoped>\n",
       "    .dataframe tbody tr th:only-of-type {\n",
       "        vertical-align: middle;\n",
       "    }\n",
       "\n",
       "    .dataframe tbody tr th {\n",
       "        vertical-align: top;\n",
       "    }\n",
       "\n",
       "    .dataframe thead th {\n",
       "        text-align: right;\n",
       "    }\n",
       "</style>\n",
       "<table border=\"1\" class=\"dataframe\">\n",
       "  <thead>\n",
       "    <tr style=\"text-align: right;\">\n",
       "      <th></th>\n",
       "      <th>review_id</th>\n",
       "      <th>listing_id</th>\n",
       "      <th>description</th>\n",
       "      <th>comments</th>\n",
       "      <th>sentiment</th>\n",
       "      <th>label</th>\n",
       "      <th>name</th>\n",
       "      <th>amenities</th>\n",
       "      <th>source</th>\n",
       "    </tr>\n",
       "  </thead>\n",
       "  <tbody>\n",
       "    <tr>\n",
       "      <th>0</th>\n",
       "      <td>83097</td>\n",
       "      <td>5456</td>\n",
       "      <td>[fabulous, location, walking, convention, cent...</td>\n",
       "      <td>[sylvia, very, nice, informal, relaxed, arrive...</td>\n",
       "      <td>4.333333</td>\n",
       "      <td>good</td>\n",
       "      <td>['walk', '6th', 'rainey', 'st', 'convention', ...</td>\n",
       "      <td>[TV, Wifi, Air conditioning, Kitchen, Pets liv...</td>\n",
       "      <td>texas</td>\n",
       "    </tr>\n",
       "    <tr>\n",
       "      <th>1</th>\n",
       "      <td>133337</td>\n",
       "      <td>5456</td>\n",
       "      <td>[fabulous, location, walking, convention, cent...</td>\n",
       "      <td>[sylvia, picked, airport, gave, beautiful, eve...</td>\n",
       "      <td>4.000000</td>\n",
       "      <td>good</td>\n",
       "      <td>['walk', '6th', 'rainey', 'st', 'convention', ...</td>\n",
       "      <td>[TV, Wifi, Air conditioning, Kitchen, Pets liv...</td>\n",
       "      <td>texas</td>\n",
       "    </tr>\n",
       "    <tr>\n",
       "      <th>2</th>\n",
       "      <td>150928</td>\n",
       "      <td>5456</td>\n",
       "      <td>[fabulous, location, walking, convention, cent...</td>\n",
       "      <td>[lovely, time, enjoyed, apartment, clean, spac...</td>\n",
       "      <td>3.000000</td>\n",
       "      <td>good</td>\n",
       "      <td>['walk', '6th', 'rainey', 'st', 'convention', ...</td>\n",
       "      <td>[TV, Wifi, Air conditioning, Kitchen, Pets liv...</td>\n",
       "      <td>texas</td>\n",
       "    </tr>\n",
       "    <tr>\n",
       "      <th>3</th>\n",
       "      <td>2706775</td>\n",
       "      <td>5456</td>\n",
       "      <td>[fabulous, location, walking, convention, cent...</td>\n",
       "      <td>[sylvia, excellent, host, stayed, touch, made,...</td>\n",
       "      <td>4.500000</td>\n",
       "      <td>good</td>\n",
       "      <td>['walk', '6th', 'rainey', 'st', 'convention', ...</td>\n",
       "      <td>[TV, Wifi, Air conditioning, Kitchen, Pets liv...</td>\n",
       "      <td>texas</td>\n",
       "    </tr>\n",
       "    <tr>\n",
       "      <th>4</th>\n",
       "      <td>8602878</td>\n",
       "      <td>5456</td>\n",
       "      <td>[fabulous, location, walking, convention, cent...</td>\n",
       "      <td>[place, cute, little, self, contained, cottage...</td>\n",
       "      <td>4.000000</td>\n",
       "      <td>good</td>\n",
       "      <td>['walk', '6th', 'rainey', 'st', 'convention', ...</td>\n",
       "      <td>[TV, Wifi, Air conditioning, Kitchen, Pets liv...</td>\n",
       "      <td>texas</td>\n",
       "    </tr>\n",
       "  </tbody>\n",
       "</table>\n",
       "</div>"
      ],
      "text/plain": [
       "   review_id  listing_id                                        description  \\\n",
       "0      83097        5456  [fabulous, location, walking, convention, cent...   \n",
       "1     133337        5456  [fabulous, location, walking, convention, cent...   \n",
       "2     150928        5456  [fabulous, location, walking, convention, cent...   \n",
       "3    2706775        5456  [fabulous, location, walking, convention, cent...   \n",
       "4    8602878        5456  [fabulous, location, walking, convention, cent...   \n",
       "\n",
       "                                            comments  sentiment label  \\\n",
       "0  [sylvia, very, nice, informal, relaxed, arrive...   4.333333  good   \n",
       "1  [sylvia, picked, airport, gave, beautiful, eve...   4.000000  good   \n",
       "2  [lovely, time, enjoyed, apartment, clean, spac...   3.000000  good   \n",
       "3  [sylvia, excellent, host, stayed, touch, made,...   4.500000  good   \n",
       "4  [place, cute, little, self, contained, cottage...   4.000000  good   \n",
       "\n",
       "                                                name  \\\n",
       "0  ['walk', '6th', 'rainey', 'st', 'convention', ...   \n",
       "1  ['walk', '6th', 'rainey', 'st', 'convention', ...   \n",
       "2  ['walk', '6th', 'rainey', 'st', 'convention', ...   \n",
       "3  ['walk', '6th', 'rainey', 'st', 'convention', ...   \n",
       "4  ['walk', '6th', 'rainey', 'st', 'convention', ...   \n",
       "\n",
       "                                           amenities source  \n",
       "0  [TV, Wifi, Air conditioning, Kitchen, Pets liv...  texas  \n",
       "1  [TV, Wifi, Air conditioning, Kitchen, Pets liv...  texas  \n",
       "2  [TV, Wifi, Air conditioning, Kitchen, Pets liv...  texas  \n",
       "3  [TV, Wifi, Air conditioning, Kitchen, Pets liv...  texas  \n",
       "4  [TV, Wifi, Air conditioning, Kitchen, Pets liv...  texas  "
      ]
     },
     "execution_count": 27,
     "metadata": {},
     "output_type": "execute_result"
    }
   ],
   "source": [
    "# Read in the data\n",
    "GEO = [\"texas\", \"florida\"]\n",
    "\n",
    "if isinstance(GEO, str):\n",
    "    df = pd.read_csv(f\"../../data/processed/{GEO}_auto_processed.csv\")\n",
    "elif isinstance(GEO, list):\n",
    "    dfs = []\n",
    "    for geo in GEO:\n",
    "        df = pd.read_csv(f\"../../data/processed/{geo}_auto_processed.csv\")\n",
    "        df[\"source\"] = geo\n",
    "        dfs.append(df)\n",
    "    df = pd.concat(dfs)\n",
    "\n",
    "# eval list columns\n",
    "df.description = df.description.apply(lambda x: eval(x))\n",
    "df.comments = df.comments.apply(lambda x: eval(x))\n",
    "df.amenities = df.amenities.apply(lambda x: eval(x))\n",
    "\n",
    "df.reset_index(drop=True, inplace=True)\n",
    "\n",
    "print(df.shape)\n",
    "df.head()"
   ]
  },
  {
   "attachments": {},
   "cell_type": "markdown",
   "metadata": {},
   "source": [
    "### Distribution of labels"
   ]
  },
  {
   "attachments": {},
   "cell_type": "markdown",
   "metadata": {},
   "source": [
    "First, let's look at the distribution of labels in the processed dataset."
   ]
  },
  {
   "cell_type": "code",
   "execution_count": 28,
   "metadata": {},
   "outputs": [
    {
     "name": "stdout",
     "output_type": "stream",
     "text": [
      "mbad: 8.02%, mgood: 6.86%, mbad or mgood: 14.88%\n"
     ]
    },
    {
     "data": {
      "application/vnd.plotly.v1+json": {
       "config": {
        "plotlyServerURL": "https://plot.ly"
       },
       "data": [
        {
         "alignmentgroup": "True",
         "hovertemplate": "Label=%{x}<br>Count=%{y}<extra></extra>",
         "legendgroup": "",
         "marker": {
          "color": "#636efa",
          "pattern": {
           "shape": ""
          }
         },
         "name": "",
         "offsetgroup": "",
         "orientation": "v",
         "showlegend": false,
         "textposition": "auto",
         "type": "bar",
         "x": [
          "good",
          "mbad",
          "mgood",
          "bad"
         ],
         "xaxis": "x",
         "y": [
          1236,
          124,
          106,
          80
         ],
         "yaxis": "y"
        }
       ],
       "layout": {
        "barmode": "relative",
        "legend": {
         "tracegroupgap": 0
        },
        "template": {
         "data": {
          "bar": [
           {
            "error_x": {
             "color": "#2a3f5f"
            },
            "error_y": {
             "color": "#2a3f5f"
            },
            "marker": {
             "line": {
              "color": "#E5ECF6",
              "width": 0.5
             },
             "pattern": {
              "fillmode": "overlay",
              "size": 10,
              "solidity": 0.2
             }
            },
            "type": "bar"
           }
          ],
          "barpolar": [
           {
            "marker": {
             "line": {
              "color": "#E5ECF6",
              "width": 0.5
             },
             "pattern": {
              "fillmode": "overlay",
              "size": 10,
              "solidity": 0.2
             }
            },
            "type": "barpolar"
           }
          ],
          "carpet": [
           {
            "aaxis": {
             "endlinecolor": "#2a3f5f",
             "gridcolor": "white",
             "linecolor": "white",
             "minorgridcolor": "white",
             "startlinecolor": "#2a3f5f"
            },
            "baxis": {
             "endlinecolor": "#2a3f5f",
             "gridcolor": "white",
             "linecolor": "white",
             "minorgridcolor": "white",
             "startlinecolor": "#2a3f5f"
            },
            "type": "carpet"
           }
          ],
          "choropleth": [
           {
            "colorbar": {
             "outlinewidth": 0,
             "ticks": ""
            },
            "type": "choropleth"
           }
          ],
          "contour": [
           {
            "colorbar": {
             "outlinewidth": 0,
             "ticks": ""
            },
            "colorscale": [
             [
              0,
              "#0d0887"
             ],
             [
              0.1111111111111111,
              "#46039f"
             ],
             [
              0.2222222222222222,
              "#7201a8"
             ],
             [
              0.3333333333333333,
              "#9c179e"
             ],
             [
              0.4444444444444444,
              "#bd3786"
             ],
             [
              0.5555555555555556,
              "#d8576b"
             ],
             [
              0.6666666666666666,
              "#ed7953"
             ],
             [
              0.7777777777777778,
              "#fb9f3a"
             ],
             [
              0.8888888888888888,
              "#fdca26"
             ],
             [
              1,
              "#f0f921"
             ]
            ],
            "type": "contour"
           }
          ],
          "contourcarpet": [
           {
            "colorbar": {
             "outlinewidth": 0,
             "ticks": ""
            },
            "type": "contourcarpet"
           }
          ],
          "heatmap": [
           {
            "colorbar": {
             "outlinewidth": 0,
             "ticks": ""
            },
            "colorscale": [
             [
              0,
              "#0d0887"
             ],
             [
              0.1111111111111111,
              "#46039f"
             ],
             [
              0.2222222222222222,
              "#7201a8"
             ],
             [
              0.3333333333333333,
              "#9c179e"
             ],
             [
              0.4444444444444444,
              "#bd3786"
             ],
             [
              0.5555555555555556,
              "#d8576b"
             ],
             [
              0.6666666666666666,
              "#ed7953"
             ],
             [
              0.7777777777777778,
              "#fb9f3a"
             ],
             [
              0.8888888888888888,
              "#fdca26"
             ],
             [
              1,
              "#f0f921"
             ]
            ],
            "type": "heatmap"
           }
          ],
          "heatmapgl": [
           {
            "colorbar": {
             "outlinewidth": 0,
             "ticks": ""
            },
            "colorscale": [
             [
              0,
              "#0d0887"
             ],
             [
              0.1111111111111111,
              "#46039f"
             ],
             [
              0.2222222222222222,
              "#7201a8"
             ],
             [
              0.3333333333333333,
              "#9c179e"
             ],
             [
              0.4444444444444444,
              "#bd3786"
             ],
             [
              0.5555555555555556,
              "#d8576b"
             ],
             [
              0.6666666666666666,
              "#ed7953"
             ],
             [
              0.7777777777777778,
              "#fb9f3a"
             ],
             [
              0.8888888888888888,
              "#fdca26"
             ],
             [
              1,
              "#f0f921"
             ]
            ],
            "type": "heatmapgl"
           }
          ],
          "histogram": [
           {
            "marker": {
             "pattern": {
              "fillmode": "overlay",
              "size": 10,
              "solidity": 0.2
             }
            },
            "type": "histogram"
           }
          ],
          "histogram2d": [
           {
            "colorbar": {
             "outlinewidth": 0,
             "ticks": ""
            },
            "colorscale": [
             [
              0,
              "#0d0887"
             ],
             [
              0.1111111111111111,
              "#46039f"
             ],
             [
              0.2222222222222222,
              "#7201a8"
             ],
             [
              0.3333333333333333,
              "#9c179e"
             ],
             [
              0.4444444444444444,
              "#bd3786"
             ],
             [
              0.5555555555555556,
              "#d8576b"
             ],
             [
              0.6666666666666666,
              "#ed7953"
             ],
             [
              0.7777777777777778,
              "#fb9f3a"
             ],
             [
              0.8888888888888888,
              "#fdca26"
             ],
             [
              1,
              "#f0f921"
             ]
            ],
            "type": "histogram2d"
           }
          ],
          "histogram2dcontour": [
           {
            "colorbar": {
             "outlinewidth": 0,
             "ticks": ""
            },
            "colorscale": [
             [
              0,
              "#0d0887"
             ],
             [
              0.1111111111111111,
              "#46039f"
             ],
             [
              0.2222222222222222,
              "#7201a8"
             ],
             [
              0.3333333333333333,
              "#9c179e"
             ],
             [
              0.4444444444444444,
              "#bd3786"
             ],
             [
              0.5555555555555556,
              "#d8576b"
             ],
             [
              0.6666666666666666,
              "#ed7953"
             ],
             [
              0.7777777777777778,
              "#fb9f3a"
             ],
             [
              0.8888888888888888,
              "#fdca26"
             ],
             [
              1,
              "#f0f921"
             ]
            ],
            "type": "histogram2dcontour"
           }
          ],
          "mesh3d": [
           {
            "colorbar": {
             "outlinewidth": 0,
             "ticks": ""
            },
            "type": "mesh3d"
           }
          ],
          "parcoords": [
           {
            "line": {
             "colorbar": {
              "outlinewidth": 0,
              "ticks": ""
             }
            },
            "type": "parcoords"
           }
          ],
          "pie": [
           {
            "automargin": true,
            "type": "pie"
           }
          ],
          "scatter": [
           {
            "fillpattern": {
             "fillmode": "overlay",
             "size": 10,
             "solidity": 0.2
            },
            "type": "scatter"
           }
          ],
          "scatter3d": [
           {
            "line": {
             "colorbar": {
              "outlinewidth": 0,
              "ticks": ""
             }
            },
            "marker": {
             "colorbar": {
              "outlinewidth": 0,
              "ticks": ""
             }
            },
            "type": "scatter3d"
           }
          ],
          "scattercarpet": [
           {
            "marker": {
             "colorbar": {
              "outlinewidth": 0,
              "ticks": ""
             }
            },
            "type": "scattercarpet"
           }
          ],
          "scattergeo": [
           {
            "marker": {
             "colorbar": {
              "outlinewidth": 0,
              "ticks": ""
             }
            },
            "type": "scattergeo"
           }
          ],
          "scattergl": [
           {
            "marker": {
             "colorbar": {
              "outlinewidth": 0,
              "ticks": ""
             }
            },
            "type": "scattergl"
           }
          ],
          "scattermapbox": [
           {
            "marker": {
             "colorbar": {
              "outlinewidth": 0,
              "ticks": ""
             }
            },
            "type": "scattermapbox"
           }
          ],
          "scatterpolar": [
           {
            "marker": {
             "colorbar": {
              "outlinewidth": 0,
              "ticks": ""
             }
            },
            "type": "scatterpolar"
           }
          ],
          "scatterpolargl": [
           {
            "marker": {
             "colorbar": {
              "outlinewidth": 0,
              "ticks": ""
             }
            },
            "type": "scatterpolargl"
           }
          ],
          "scatterternary": [
           {
            "marker": {
             "colorbar": {
              "outlinewidth": 0,
              "ticks": ""
             }
            },
            "type": "scatterternary"
           }
          ],
          "surface": [
           {
            "colorbar": {
             "outlinewidth": 0,
             "ticks": ""
            },
            "colorscale": [
             [
              0,
              "#0d0887"
             ],
             [
              0.1111111111111111,
              "#46039f"
             ],
             [
              0.2222222222222222,
              "#7201a8"
             ],
             [
              0.3333333333333333,
              "#9c179e"
             ],
             [
              0.4444444444444444,
              "#bd3786"
             ],
             [
              0.5555555555555556,
              "#d8576b"
             ],
             [
              0.6666666666666666,
              "#ed7953"
             ],
             [
              0.7777777777777778,
              "#fb9f3a"
             ],
             [
              0.8888888888888888,
              "#fdca26"
             ],
             [
              1,
              "#f0f921"
             ]
            ],
            "type": "surface"
           }
          ],
          "table": [
           {
            "cells": {
             "fill": {
              "color": "#EBF0F8"
             },
             "line": {
              "color": "white"
             }
            },
            "header": {
             "fill": {
              "color": "#C8D4E3"
             },
             "line": {
              "color": "white"
             }
            },
            "type": "table"
           }
          ]
         },
         "layout": {
          "annotationdefaults": {
           "arrowcolor": "#2a3f5f",
           "arrowhead": 0,
           "arrowwidth": 1
          },
          "autotypenumbers": "strict",
          "coloraxis": {
           "colorbar": {
            "outlinewidth": 0,
            "ticks": ""
           }
          },
          "colorscale": {
           "diverging": [
            [
             0,
             "#8e0152"
            ],
            [
             0.1,
             "#c51b7d"
            ],
            [
             0.2,
             "#de77ae"
            ],
            [
             0.3,
             "#f1b6da"
            ],
            [
             0.4,
             "#fde0ef"
            ],
            [
             0.5,
             "#f7f7f7"
            ],
            [
             0.6,
             "#e6f5d0"
            ],
            [
             0.7,
             "#b8e186"
            ],
            [
             0.8,
             "#7fbc41"
            ],
            [
             0.9,
             "#4d9221"
            ],
            [
             1,
             "#276419"
            ]
           ],
           "sequential": [
            [
             0,
             "#0d0887"
            ],
            [
             0.1111111111111111,
             "#46039f"
            ],
            [
             0.2222222222222222,
             "#7201a8"
            ],
            [
             0.3333333333333333,
             "#9c179e"
            ],
            [
             0.4444444444444444,
             "#bd3786"
            ],
            [
             0.5555555555555556,
             "#d8576b"
            ],
            [
             0.6666666666666666,
             "#ed7953"
            ],
            [
             0.7777777777777778,
             "#fb9f3a"
            ],
            [
             0.8888888888888888,
             "#fdca26"
            ],
            [
             1,
             "#f0f921"
            ]
           ],
           "sequentialminus": [
            [
             0,
             "#0d0887"
            ],
            [
             0.1111111111111111,
             "#46039f"
            ],
            [
             0.2222222222222222,
             "#7201a8"
            ],
            [
             0.3333333333333333,
             "#9c179e"
            ],
            [
             0.4444444444444444,
             "#bd3786"
            ],
            [
             0.5555555555555556,
             "#d8576b"
            ],
            [
             0.6666666666666666,
             "#ed7953"
            ],
            [
             0.7777777777777778,
             "#fb9f3a"
            ],
            [
             0.8888888888888888,
             "#fdca26"
            ],
            [
             1,
             "#f0f921"
            ]
           ]
          },
          "colorway": [
           "#636efa",
           "#EF553B",
           "#00cc96",
           "#ab63fa",
           "#FFA15A",
           "#19d3f3",
           "#FF6692",
           "#B6E880",
           "#FF97FF",
           "#FECB52"
          ],
          "font": {
           "color": "#2a3f5f"
          },
          "geo": {
           "bgcolor": "white",
           "lakecolor": "white",
           "landcolor": "#E5ECF6",
           "showlakes": true,
           "showland": true,
           "subunitcolor": "white"
          },
          "hoverlabel": {
           "align": "left"
          },
          "hovermode": "closest",
          "mapbox": {
           "style": "light"
          },
          "paper_bgcolor": "white",
          "plot_bgcolor": "#E5ECF6",
          "polar": {
           "angularaxis": {
            "gridcolor": "white",
            "linecolor": "white",
            "ticks": ""
           },
           "bgcolor": "#E5ECF6",
           "radialaxis": {
            "gridcolor": "white",
            "linecolor": "white",
            "ticks": ""
           }
          },
          "scene": {
           "xaxis": {
            "backgroundcolor": "#E5ECF6",
            "gridcolor": "white",
            "gridwidth": 2,
            "linecolor": "white",
            "showbackground": true,
            "ticks": "",
            "zerolinecolor": "white"
           },
           "yaxis": {
            "backgroundcolor": "#E5ECF6",
            "gridcolor": "white",
            "gridwidth": 2,
            "linecolor": "white",
            "showbackground": true,
            "ticks": "",
            "zerolinecolor": "white"
           },
           "zaxis": {
            "backgroundcolor": "#E5ECF6",
            "gridcolor": "white",
            "gridwidth": 2,
            "linecolor": "white",
            "showbackground": true,
            "ticks": "",
            "zerolinecolor": "white"
           }
          },
          "shapedefaults": {
           "line": {
            "color": "#2a3f5f"
           }
          },
          "ternary": {
           "aaxis": {
            "gridcolor": "white",
            "linecolor": "white",
            "ticks": ""
           },
           "baxis": {
            "gridcolor": "white",
            "linecolor": "white",
            "ticks": ""
           },
           "bgcolor": "#E5ECF6",
           "caxis": {
            "gridcolor": "white",
            "linecolor": "white",
            "ticks": ""
           }
          },
          "title": {
           "x": 0.05
          },
          "xaxis": {
           "automargin": true,
           "gridcolor": "white",
           "linecolor": "white",
           "ticks": "",
           "title": {
            "standoff": 15
           },
           "zerolinecolor": "white",
           "zerolinewidth": 2
          },
          "yaxis": {
           "automargin": true,
           "gridcolor": "white",
           "linecolor": "white",
           "ticks": "",
           "title": {
            "standoff": 15
           },
           "zerolinecolor": "white",
           "zerolinewidth": 2
          }
         }
        },
        "title": {
         "text": "Distribution of labels (GEO=['texas', 'florida'])"
        },
        "xaxis": {
         "anchor": "y",
         "domain": [
          0,
          1
         ],
         "title": {
          "text": "Label"
         }
        },
        "yaxis": {
         "anchor": "x",
         "domain": [
          0,
          1
         ],
         "title": {
          "text": "Count"
         }
        }
       }
      }
     },
     "metadata": {},
     "output_type": "display_data"
    }
   ],
   "source": [
    "mbad_pcnt = df[df.label == \"mbad\"].shape[0] / df.shape[0]\n",
    "mgood_pcnt = df[df.label == \"mgood\"].shape[0] / df.shape[0]\n",
    "mbad_or_mgood_pcnt = df[df.label.isin([\"mbad\", \"mgood\"])].shape[0] / df.shape[0]\n",
    "print(\n",
    "    f\"mbad: {mbad_pcnt:.2%}, mgood: {mgood_pcnt:.2%}, mbad or mgood: {mbad_or_mgood_pcnt:.2%}\"\n",
    ")\n",
    "\n",
    "bar_vals = df.label.value_counts()\n",
    "\n",
    "fig = px.bar(\n",
    "    bar_vals,\n",
    "    x=bar_vals.index,\n",
    "    y=bar_vals.values,\n",
    "    title=f\"Distribution of labels (GEO={GEO})\",\n",
    "    labels={\"index\": \"Label\", \"y\": \"Count\"}\n",
    ")\n",
    "\n",
    "fig.show()"
   ]
  },
  {
   "attachments": {},
   "cell_type": "markdown",
   "metadata": {},
   "source": [
    "## Correlation filter helper function\n",
    "This function allows us to filter down to only include highly correlated features with the label."
   ]
  },
  {
   "cell_type": "code",
   "execution_count": 29,
   "metadata": {},
   "outputs": [],
   "source": [
    "def corr_filter(features, corr_thresh=0.05) -> pd.DataFrame:\n",
    "    \"\"\"Filter features based on correlation with label.\"\"\"\n",
    "\n",
    "    if corr_thresh is None:\n",
    "        return features\n",
    "\n",
    "    to_filter = features.copy()\n",
    "    \n",
    "    to_filter[\"review_id\"] = df.review_id\n",
    "    to_filter[\"label\"] = df.label\n",
    "\n",
    "    # drop na labels. Thanks Charlie :/\n",
    "    to_filter = to_filter.dropna(subset=[\"label\"])\n",
    "\n",
    "    # Turn labels into numbers\n",
    "    labels_list: list = to_filter.label.unique().tolist()\n",
    "    to_filter.label = to_filter.label.apply(lambda label: labels_list.index(label))\n",
    "\n",
    "    # calculate correlation of features with label\n",
    "    features_to_filter = to_filter.drop([\"review_id\", \"label\"], axis=1)\n",
    "    corrs = features_to_filter.corrwith(to_filter.label).sort_values(ascending=False)\n",
    "\n",
    "    # filter features\n",
    "    highly_correlated_features = corrs[corrs.abs() > corr_thresh].index\n",
    "    # drop features with nan correlation\n",
    "    highly_correlated_features = highly_correlated_features.dropna()\n",
    "\n",
    "    # filter features\n",
    "    print(f\"Features above correlation threshold ({corr_thresh}):\")\n",
    "    print(highly_correlated_features.tolist())\n",
    "    filtered = features[highly_correlated_features]\n",
    "    \n",
    "    return filtered"
   ]
  },
  {
   "attachments": {},
   "cell_type": "markdown",
   "metadata": {},
   "source": [
    "### Ngrams"
   ]
  },
  {
   "attachments": {},
   "cell_type": "markdown",
   "metadata": {},
   "source": [
    "What are the most common ngrams for the different types of reviews? What are the most common overlaps?"
   ]
  },
  {
   "cell_type": "code",
   "execution_count": 30,
   "metadata": {},
   "outputs": [],
   "source": [
    "def get_consecutive_ngrams(review, n) -> list:\n",
    "    \"\"\"Helper function to get ngrams from a review.\n",
    "\n",
    "    Args:\n",
    "        review (str): The review to get ngrams from.\n",
    "        n (int): The number of ngrams to get.\n",
    "\n",
    "    Returns:\n",
    "        list: the list of ngrams, joined by underscores.\n",
    "    \"\"\"\n",
    "    if isinstance(review, str):\n",
    "        review = review.split(\"\")\n",
    "\n",
    "    return [\"_\".join(review[i:i+n]) for i in range(len(review)-n-1)]\n",
    "\n",
    "def series_to_ngrams(series: pd.Series, N):\n",
    "    n_grams = series.apply(lambda x: get_consecutive_ngrams(x, N))\n",
    "    return n_grams.explode()\n",
    "\n",
    "def get_exclusive_sizes(good: set, bad: set, mgood: set, mbad: set) -> dict:\n",
    "    \"\"\"Get the sizes of the exclusive sets\"\"\"\n",
    "\n",
    "    only_good = good - bad - mgood - mbad\n",
    "    only_bad = bad - good - mgood - mbad\n",
    "    only_mgood = mgood - good - bad - mbad\n",
    "    only_mbad = mbad - good - bad - mgood\n",
    "    \n",
    "    return {\n",
    "        \"good\": len(only_good),\n",
    "        \"bad\": len(only_bad),\n",
    "        \"mgood\": len(only_mgood),\n",
    "        \"mbad\": len(only_mbad)\n",
    "    }"
   ]
  },
  {
   "attachments": {},
   "cell_type": "markdown",
   "metadata": {},
   "source": [
    "We can look at the number of unique values to each label for different values of N on a line chart."
   ]
  },
  {
   "cell_type": "code",
   "execution_count": 31,
   "metadata": {},
   "outputs": [
    {
     "data": {
      "application/vnd.plotly.v1+json": {
       "config": {
        "plotlyServerURL": "https://plot.ly"
       },
       "data": [
        {
         "hovertemplate": "label=bad<br>N-gram size=%{x}<br>Unique # of n-grams=%{y}<extra></extra>",
         "legendgroup": "bad",
         "line": {
          "color": "#636efa",
          "dash": "solid"
         },
         "marker": {
          "symbol": "circle"
         },
         "mode": "markers+lines",
         "name": "bad",
         "orientation": "v",
         "showlegend": true,
         "type": "scatter",
         "x": [
          1,
          2,
          3,
          4,
          5,
          6
         ],
         "xaxis": "x",
         "y": [
          387,
          5970,
          8193,
          8330,
          8260,
          8181
         ],
         "yaxis": "y"
        },
        {
         "hovertemplate": "label=mgood<br>N-gram size=%{x}<br>Unique # of n-grams=%{y}<extra></extra>",
         "legendgroup": "mgood",
         "line": {
          "color": "#EF553B",
          "dash": "solid"
         },
         "marker": {
          "symbol": "circle"
         },
         "mode": "markers+lines",
         "name": "mgood",
         "orientation": "v",
         "showlegend": true,
         "type": "scatter",
         "x": [
          1,
          2,
          3,
          4,
          5,
          6
         ],
         "xaxis": "x",
         "y": [
          235,
          4541,
          6795,
          7041,
          6984,
          6886
         ],
         "yaxis": "y"
        },
        {
         "hovertemplate": "label=mbad<br>N-gram size=%{x}<br>Unique # of n-grams=%{y}<extra></extra>",
         "legendgroup": "mbad",
         "line": {
          "color": "#00cc96",
          "dash": "solid"
         },
         "marker": {
          "symbol": "circle"
         },
         "mode": "markers+lines",
         "name": "mbad",
         "orientation": "v",
         "showlegend": true,
         "type": "scatter",
         "x": [
          1,
          2,
          3,
          4,
          5,
          6
         ],
         "xaxis": "x",
         "y": [
          634,
          9297,
          12856,
          13137,
          13040,
          12918
         ],
         "yaxis": "y"
        }
       ],
       "layout": {
        "legend": {
         "title": {
          "text": "label"
         },
         "tracegroupgap": 0
        },
        "template": {
         "data": {
          "bar": [
           {
            "error_x": {
             "color": "#2a3f5f"
            },
            "error_y": {
             "color": "#2a3f5f"
            },
            "marker": {
             "line": {
              "color": "#E5ECF6",
              "width": 0.5
             },
             "pattern": {
              "fillmode": "overlay",
              "size": 10,
              "solidity": 0.2
             }
            },
            "type": "bar"
           }
          ],
          "barpolar": [
           {
            "marker": {
             "line": {
              "color": "#E5ECF6",
              "width": 0.5
             },
             "pattern": {
              "fillmode": "overlay",
              "size": 10,
              "solidity": 0.2
             }
            },
            "type": "barpolar"
           }
          ],
          "carpet": [
           {
            "aaxis": {
             "endlinecolor": "#2a3f5f",
             "gridcolor": "white",
             "linecolor": "white",
             "minorgridcolor": "white",
             "startlinecolor": "#2a3f5f"
            },
            "baxis": {
             "endlinecolor": "#2a3f5f",
             "gridcolor": "white",
             "linecolor": "white",
             "minorgridcolor": "white",
             "startlinecolor": "#2a3f5f"
            },
            "type": "carpet"
           }
          ],
          "choropleth": [
           {
            "colorbar": {
             "outlinewidth": 0,
             "ticks": ""
            },
            "type": "choropleth"
           }
          ],
          "contour": [
           {
            "colorbar": {
             "outlinewidth": 0,
             "ticks": ""
            },
            "colorscale": [
             [
              0,
              "#0d0887"
             ],
             [
              0.1111111111111111,
              "#46039f"
             ],
             [
              0.2222222222222222,
              "#7201a8"
             ],
             [
              0.3333333333333333,
              "#9c179e"
             ],
             [
              0.4444444444444444,
              "#bd3786"
             ],
             [
              0.5555555555555556,
              "#d8576b"
             ],
             [
              0.6666666666666666,
              "#ed7953"
             ],
             [
              0.7777777777777778,
              "#fb9f3a"
             ],
             [
              0.8888888888888888,
              "#fdca26"
             ],
             [
              1,
              "#f0f921"
             ]
            ],
            "type": "contour"
           }
          ],
          "contourcarpet": [
           {
            "colorbar": {
             "outlinewidth": 0,
             "ticks": ""
            },
            "type": "contourcarpet"
           }
          ],
          "heatmap": [
           {
            "colorbar": {
             "outlinewidth": 0,
             "ticks": ""
            },
            "colorscale": [
             [
              0,
              "#0d0887"
             ],
             [
              0.1111111111111111,
              "#46039f"
             ],
             [
              0.2222222222222222,
              "#7201a8"
             ],
             [
              0.3333333333333333,
              "#9c179e"
             ],
             [
              0.4444444444444444,
              "#bd3786"
             ],
             [
              0.5555555555555556,
              "#d8576b"
             ],
             [
              0.6666666666666666,
              "#ed7953"
             ],
             [
              0.7777777777777778,
              "#fb9f3a"
             ],
             [
              0.8888888888888888,
              "#fdca26"
             ],
             [
              1,
              "#f0f921"
             ]
            ],
            "type": "heatmap"
           }
          ],
          "heatmapgl": [
           {
            "colorbar": {
             "outlinewidth": 0,
             "ticks": ""
            },
            "colorscale": [
             [
              0,
              "#0d0887"
             ],
             [
              0.1111111111111111,
              "#46039f"
             ],
             [
              0.2222222222222222,
              "#7201a8"
             ],
             [
              0.3333333333333333,
              "#9c179e"
             ],
             [
              0.4444444444444444,
              "#bd3786"
             ],
             [
              0.5555555555555556,
              "#d8576b"
             ],
             [
              0.6666666666666666,
              "#ed7953"
             ],
             [
              0.7777777777777778,
              "#fb9f3a"
             ],
             [
              0.8888888888888888,
              "#fdca26"
             ],
             [
              1,
              "#f0f921"
             ]
            ],
            "type": "heatmapgl"
           }
          ],
          "histogram": [
           {
            "marker": {
             "pattern": {
              "fillmode": "overlay",
              "size": 10,
              "solidity": 0.2
             }
            },
            "type": "histogram"
           }
          ],
          "histogram2d": [
           {
            "colorbar": {
             "outlinewidth": 0,
             "ticks": ""
            },
            "colorscale": [
             [
              0,
              "#0d0887"
             ],
             [
              0.1111111111111111,
              "#46039f"
             ],
             [
              0.2222222222222222,
              "#7201a8"
             ],
             [
              0.3333333333333333,
              "#9c179e"
             ],
             [
              0.4444444444444444,
              "#bd3786"
             ],
             [
              0.5555555555555556,
              "#d8576b"
             ],
             [
              0.6666666666666666,
              "#ed7953"
             ],
             [
              0.7777777777777778,
              "#fb9f3a"
             ],
             [
              0.8888888888888888,
              "#fdca26"
             ],
             [
              1,
              "#f0f921"
             ]
            ],
            "type": "histogram2d"
           }
          ],
          "histogram2dcontour": [
           {
            "colorbar": {
             "outlinewidth": 0,
             "ticks": ""
            },
            "colorscale": [
             [
              0,
              "#0d0887"
             ],
             [
              0.1111111111111111,
              "#46039f"
             ],
             [
              0.2222222222222222,
              "#7201a8"
             ],
             [
              0.3333333333333333,
              "#9c179e"
             ],
             [
              0.4444444444444444,
              "#bd3786"
             ],
             [
              0.5555555555555556,
              "#d8576b"
             ],
             [
              0.6666666666666666,
              "#ed7953"
             ],
             [
              0.7777777777777778,
              "#fb9f3a"
             ],
             [
              0.8888888888888888,
              "#fdca26"
             ],
             [
              1,
              "#f0f921"
             ]
            ],
            "type": "histogram2dcontour"
           }
          ],
          "mesh3d": [
           {
            "colorbar": {
             "outlinewidth": 0,
             "ticks": ""
            },
            "type": "mesh3d"
           }
          ],
          "parcoords": [
           {
            "line": {
             "colorbar": {
              "outlinewidth": 0,
              "ticks": ""
             }
            },
            "type": "parcoords"
           }
          ],
          "pie": [
           {
            "automargin": true,
            "type": "pie"
           }
          ],
          "scatter": [
           {
            "fillpattern": {
             "fillmode": "overlay",
             "size": 10,
             "solidity": 0.2
            },
            "type": "scatter"
           }
          ],
          "scatter3d": [
           {
            "line": {
             "colorbar": {
              "outlinewidth": 0,
              "ticks": ""
             }
            },
            "marker": {
             "colorbar": {
              "outlinewidth": 0,
              "ticks": ""
             }
            },
            "type": "scatter3d"
           }
          ],
          "scattercarpet": [
           {
            "marker": {
             "colorbar": {
              "outlinewidth": 0,
              "ticks": ""
             }
            },
            "type": "scattercarpet"
           }
          ],
          "scattergeo": [
           {
            "marker": {
             "colorbar": {
              "outlinewidth": 0,
              "ticks": ""
             }
            },
            "type": "scattergeo"
           }
          ],
          "scattergl": [
           {
            "marker": {
             "colorbar": {
              "outlinewidth": 0,
              "ticks": ""
             }
            },
            "type": "scattergl"
           }
          ],
          "scattermapbox": [
           {
            "marker": {
             "colorbar": {
              "outlinewidth": 0,
              "ticks": ""
             }
            },
            "type": "scattermapbox"
           }
          ],
          "scatterpolar": [
           {
            "marker": {
             "colorbar": {
              "outlinewidth": 0,
              "ticks": ""
             }
            },
            "type": "scatterpolar"
           }
          ],
          "scatterpolargl": [
           {
            "marker": {
             "colorbar": {
              "outlinewidth": 0,
              "ticks": ""
             }
            },
            "type": "scatterpolargl"
           }
          ],
          "scatterternary": [
           {
            "marker": {
             "colorbar": {
              "outlinewidth": 0,
              "ticks": ""
             }
            },
            "type": "scatterternary"
           }
          ],
          "surface": [
           {
            "colorbar": {
             "outlinewidth": 0,
             "ticks": ""
            },
            "colorscale": [
             [
              0,
              "#0d0887"
             ],
             [
              0.1111111111111111,
              "#46039f"
             ],
             [
              0.2222222222222222,
              "#7201a8"
             ],
             [
              0.3333333333333333,
              "#9c179e"
             ],
             [
              0.4444444444444444,
              "#bd3786"
             ],
             [
              0.5555555555555556,
              "#d8576b"
             ],
             [
              0.6666666666666666,
              "#ed7953"
             ],
             [
              0.7777777777777778,
              "#fb9f3a"
             ],
             [
              0.8888888888888888,
              "#fdca26"
             ],
             [
              1,
              "#f0f921"
             ]
            ],
            "type": "surface"
           }
          ],
          "table": [
           {
            "cells": {
             "fill": {
              "color": "#EBF0F8"
             },
             "line": {
              "color": "white"
             }
            },
            "header": {
             "fill": {
              "color": "#C8D4E3"
             },
             "line": {
              "color": "white"
             }
            },
            "type": "table"
           }
          ]
         },
         "layout": {
          "annotationdefaults": {
           "arrowcolor": "#2a3f5f",
           "arrowhead": 0,
           "arrowwidth": 1
          },
          "autotypenumbers": "strict",
          "coloraxis": {
           "colorbar": {
            "outlinewidth": 0,
            "ticks": ""
           }
          },
          "colorscale": {
           "diverging": [
            [
             0,
             "#8e0152"
            ],
            [
             0.1,
             "#c51b7d"
            ],
            [
             0.2,
             "#de77ae"
            ],
            [
             0.3,
             "#f1b6da"
            ],
            [
             0.4,
             "#fde0ef"
            ],
            [
             0.5,
             "#f7f7f7"
            ],
            [
             0.6,
             "#e6f5d0"
            ],
            [
             0.7,
             "#b8e186"
            ],
            [
             0.8,
             "#7fbc41"
            ],
            [
             0.9,
             "#4d9221"
            ],
            [
             1,
             "#276419"
            ]
           ],
           "sequential": [
            [
             0,
             "#0d0887"
            ],
            [
             0.1111111111111111,
             "#46039f"
            ],
            [
             0.2222222222222222,
             "#7201a8"
            ],
            [
             0.3333333333333333,
             "#9c179e"
            ],
            [
             0.4444444444444444,
             "#bd3786"
            ],
            [
             0.5555555555555556,
             "#d8576b"
            ],
            [
             0.6666666666666666,
             "#ed7953"
            ],
            [
             0.7777777777777778,
             "#fb9f3a"
            ],
            [
             0.8888888888888888,
             "#fdca26"
            ],
            [
             1,
             "#f0f921"
            ]
           ],
           "sequentialminus": [
            [
             0,
             "#0d0887"
            ],
            [
             0.1111111111111111,
             "#46039f"
            ],
            [
             0.2222222222222222,
             "#7201a8"
            ],
            [
             0.3333333333333333,
             "#9c179e"
            ],
            [
             0.4444444444444444,
             "#bd3786"
            ],
            [
             0.5555555555555556,
             "#d8576b"
            ],
            [
             0.6666666666666666,
             "#ed7953"
            ],
            [
             0.7777777777777778,
             "#fb9f3a"
            ],
            [
             0.8888888888888888,
             "#fdca26"
            ],
            [
             1,
             "#f0f921"
            ]
           ]
          },
          "colorway": [
           "#636efa",
           "#EF553B",
           "#00cc96",
           "#ab63fa",
           "#FFA15A",
           "#19d3f3",
           "#FF6692",
           "#B6E880",
           "#FF97FF",
           "#FECB52"
          ],
          "font": {
           "color": "#2a3f5f"
          },
          "geo": {
           "bgcolor": "white",
           "lakecolor": "white",
           "landcolor": "#E5ECF6",
           "showlakes": true,
           "showland": true,
           "subunitcolor": "white"
          },
          "hoverlabel": {
           "align": "left"
          },
          "hovermode": "closest",
          "mapbox": {
           "style": "light"
          },
          "paper_bgcolor": "white",
          "plot_bgcolor": "#E5ECF6",
          "polar": {
           "angularaxis": {
            "gridcolor": "white",
            "linecolor": "white",
            "ticks": ""
           },
           "bgcolor": "#E5ECF6",
           "radialaxis": {
            "gridcolor": "white",
            "linecolor": "white",
            "ticks": ""
           }
          },
          "scene": {
           "xaxis": {
            "backgroundcolor": "#E5ECF6",
            "gridcolor": "white",
            "gridwidth": 2,
            "linecolor": "white",
            "showbackground": true,
            "ticks": "",
            "zerolinecolor": "white"
           },
           "yaxis": {
            "backgroundcolor": "#E5ECF6",
            "gridcolor": "white",
            "gridwidth": 2,
            "linecolor": "white",
            "showbackground": true,
            "ticks": "",
            "zerolinecolor": "white"
           },
           "zaxis": {
            "backgroundcolor": "#E5ECF6",
            "gridcolor": "white",
            "gridwidth": 2,
            "linecolor": "white",
            "showbackground": true,
            "ticks": "",
            "zerolinecolor": "white"
           }
          },
          "shapedefaults": {
           "line": {
            "color": "#2a3f5f"
           }
          },
          "ternary": {
           "aaxis": {
            "gridcolor": "white",
            "linecolor": "white",
            "ticks": ""
           },
           "baxis": {
            "gridcolor": "white",
            "linecolor": "white",
            "ticks": ""
           },
           "bgcolor": "#E5ECF6",
           "caxis": {
            "gridcolor": "white",
            "linecolor": "white",
            "ticks": ""
           }
          },
          "title": {
           "x": 0.05
          },
          "xaxis": {
           "automargin": true,
           "gridcolor": "white",
           "linecolor": "white",
           "ticks": "",
           "title": {
            "standoff": 15
           },
           "zerolinecolor": "white",
           "zerolinewidth": 2
          },
          "yaxis": {
           "automargin": true,
           "gridcolor": "white",
           "linecolor": "white",
           "ticks": "",
           "title": {
            "standoff": 15
           },
           "zerolinecolor": "white",
           "zerolinewidth": 2
          }
         }
        },
        "title": {
         "text": "Unique # of ['texas', 'florida'] n-grams for each label"
        },
        "xaxis": {
         "anchor": "y",
         "domain": [
          0,
          1
         ],
         "title": {
          "text": "N-gram size"
         }
        },
        "yaxis": {
         "anchor": "x",
         "domain": [
          0,
          1
         ],
         "title": {
          "text": "Unique # of n-grams"
         }
        }
       }
      }
     },
     "metadata": {},
     "output_type": "display_data"
    }
   ],
   "source": [
    "import plotly.express as px\n",
    "\n",
    "intersection_sizes = []\n",
    "for n in [1, 2, 3, 4, 5, 6]:\n",
    "\n",
    "    good_ngrams = series_to_ngrams(df[df.label == \"good\"].comments, n).value_counts()\n",
    "    bad_ngrams = series_to_ngrams(df[df.label == \"bad\"].comments, n).value_counts()\n",
    "    mgood_ngrams = series_to_ngrams(df[df.label == \"mgood\"].comments, n).value_counts()\n",
    "    mbad_ngrams = series_to_ngrams(df[df.label == \"mbad\"].comments, n).value_counts()\n",
    "    intersection_sizes_n = get_exclusive_sizes(\n",
    "        set(good_ngrams.index),\n",
    "        set(bad_ngrams.index),\n",
    "        set(mgood_ngrams.index),\n",
    "        set(mbad_ngrams.index)\n",
    "    )\n",
    "\n",
    "    intersection_sizes_n[\"n\"] = n\n",
    "\n",
    "    intersection_sizes.append(intersection_sizes_n)\n",
    "\n",
    "\n",
    "# prepare data\n",
    "is_df = pd.DataFrame(intersection_sizes)\n",
    "is_df = is_df.melt(id_vars=\"n\", var_name=\"label\", value_name=\"count\")\n",
    "is_df[\"count\"] = is_df[\"count\"].astype(int)\n",
    "is_df[\"n\"] = is_df[\"n\"].astype(int)\n",
    "\n",
    "# exclude good \n",
    "is_df = is_df[is_df.label != \"good\"]\n",
    "\n",
    "# plot a line chart\n",
    "px.line(is_df, \n",
    "    x=\"n\", y=\"count\",\n",
    "    color=\"label\",\n",
    "    title=f\"Unique # of {GEO} n-grams for each label\", \n",
    "    labels={\"n\": \"N-gram size\", \"count\": \"Unique # of n-grams\"},\n",
    "    markers=True\n",
    "    )"
   ]
  },
  {
   "attachments": {},
   "cell_type": "markdown",
   "metadata": {},
   "source": [
    "We can see that the number of unique ngrams increases until about n=3, and then levels off. What are the top 10 3-grams for misleading reviews?"
   ]
  },
  {
   "cell_type": "code",
   "execution_count": 32,
   "metadata": {},
   "outputs": [
    {
     "name": "stdout",
     "output_type": "stream",
     "text": [
      "Top 10 most common 3-grams in misleading reviews:\n"
     ]
    },
    {
     "data": {
      "text/plain": [
       "[('within_walking_distance', 11),\n",
       " ('would_not_recommend', 10),\n",
       " ('made_u_feel', 4),\n",
       " ('living_room_furniture', 4),\n",
       " ('not_recommend_staying', 4),\n",
       " ('not_big_deal', 4),\n",
       " ('great_place_stay', 4),\n",
       " ('let_u_know', 4),\n",
       " ('not_work_not', 3),\n",
       " ('give_4_star', 3)]"
      ]
     },
     "execution_count": 32,
     "metadata": {},
     "output_type": "execute_result"
    }
   ],
   "source": [
    "import numpy as np\n",
    "from collections import Counter\n",
    "\n",
    "# get subset of misleading reviews\n",
    "subset = df[df.label.isin([\"mbad\", \"mgood\"])]\n",
    "\n",
    "# get groups of N consecutive words\n",
    "N = 3\n",
    "n_grams = series_to_ngrams(subset.comments, N).to_list()\n",
    "\n",
    "print(f\"Top 10 most common {N}-grams in misleading reviews:\")\n",
    "Counter(n_grams).most_common(10)"
   ]
  },
  {
   "attachments": {},
   "cell_type": "markdown",
   "metadata": {},
   "source": [
    "Now let's look at a word cloud of the N-grams in misleading reviews."
   ]
  },
  {
   "cell_type": "code",
   "execution_count": 33,
   "metadata": {},
   "outputs": [
    {
     "data": {
      "application/vnd.plotly.v1+json": {
       "config": {
        "plotlyServerURL": "https://plot.ly"
       },
       "data": [
        {
         "hovertemplate": "x: %{x}<br>y: %{y}<br>color: [%{z[0]}, %{z[1]}, %{z[2]}]<extra></extra>",
         "name": "0",
         "source": "data:image/png;base64,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",
         "type": "image",
         "xaxis": "x",
         "yaxis": "y"
        }
       ],
       "layout": {
        "height": 700,
        "template": {
         "data": {
          "bar": [
           {
            "error_x": {
             "color": "#2a3f5f"
            },
            "error_y": {
             "color": "#2a3f5f"
            },
            "marker": {
             "line": {
              "color": "#E5ECF6",
              "width": 0.5
             },
             "pattern": {
              "fillmode": "overlay",
              "size": 10,
              "solidity": 0.2
             }
            },
            "type": "bar"
           }
          ],
          "barpolar": [
           {
            "marker": {
             "line": {
              "color": "#E5ECF6",
              "width": 0.5
             },
             "pattern": {
              "fillmode": "overlay",
              "size": 10,
              "solidity": 0.2
             }
            },
            "type": "barpolar"
           }
          ],
          "carpet": [
           {
            "aaxis": {
             "endlinecolor": "#2a3f5f",
             "gridcolor": "white",
             "linecolor": "white",
             "minorgridcolor": "white",
             "startlinecolor": "#2a3f5f"
            },
            "baxis": {
             "endlinecolor": "#2a3f5f",
             "gridcolor": "white",
             "linecolor": "white",
             "minorgridcolor": "white",
             "startlinecolor": "#2a3f5f"
            },
            "type": "carpet"
           }
          ],
          "choropleth": [
           {
            "colorbar": {
             "outlinewidth": 0,
             "ticks": ""
            },
            "type": "choropleth"
           }
          ],
          "contour": [
           {
            "colorbar": {
             "outlinewidth": 0,
             "ticks": ""
            },
            "colorscale": [
             [
              0,
              "#0d0887"
             ],
             [
              0.1111111111111111,
              "#46039f"
             ],
             [
              0.2222222222222222,
              "#7201a8"
             ],
             [
              0.3333333333333333,
              "#9c179e"
             ],
             [
              0.4444444444444444,
              "#bd3786"
             ],
             [
              0.5555555555555556,
              "#d8576b"
             ],
             [
              0.6666666666666666,
              "#ed7953"
             ],
             [
              0.7777777777777778,
              "#fb9f3a"
             ],
             [
              0.8888888888888888,
              "#fdca26"
             ],
             [
              1,
              "#f0f921"
             ]
            ],
            "type": "contour"
           }
          ],
          "contourcarpet": [
           {
            "colorbar": {
             "outlinewidth": 0,
             "ticks": ""
            },
            "type": "contourcarpet"
           }
          ],
          "heatmap": [
           {
            "colorbar": {
             "outlinewidth": 0,
             "ticks": ""
            },
            "colorscale": [
             [
              0,
              "#0d0887"
             ],
             [
              0.1111111111111111,
              "#46039f"
             ],
             [
              0.2222222222222222,
              "#7201a8"
             ],
             [
              0.3333333333333333,
              "#9c179e"
             ],
             [
              0.4444444444444444,
              "#bd3786"
             ],
             [
              0.5555555555555556,
              "#d8576b"
             ],
             [
              0.6666666666666666,
              "#ed7953"
             ],
             [
              0.7777777777777778,
              "#fb9f3a"
             ],
             [
              0.8888888888888888,
              "#fdca26"
             ],
             [
              1,
              "#f0f921"
             ]
            ],
            "type": "heatmap"
           }
          ],
          "heatmapgl": [
           {
            "colorbar": {
             "outlinewidth": 0,
             "ticks": ""
            },
            "colorscale": [
             [
              0,
              "#0d0887"
             ],
             [
              0.1111111111111111,
              "#46039f"
             ],
             [
              0.2222222222222222,
              "#7201a8"
             ],
             [
              0.3333333333333333,
              "#9c179e"
             ],
             [
              0.4444444444444444,
              "#bd3786"
             ],
             [
              0.5555555555555556,
              "#d8576b"
             ],
             [
              0.6666666666666666,
              "#ed7953"
             ],
             [
              0.7777777777777778,
              "#fb9f3a"
             ],
             [
              0.8888888888888888,
              "#fdca26"
             ],
             [
              1,
              "#f0f921"
             ]
            ],
            "type": "heatmapgl"
           }
          ],
          "histogram": [
           {
            "marker": {
             "pattern": {
              "fillmode": "overlay",
              "size": 10,
              "solidity": 0.2
             }
            },
            "type": "histogram"
           }
          ],
          "histogram2d": [
           {
            "colorbar": {
             "outlinewidth": 0,
             "ticks": ""
            },
            "colorscale": [
             [
              0,
              "#0d0887"
             ],
             [
              0.1111111111111111,
              "#46039f"
             ],
             [
              0.2222222222222222,
              "#7201a8"
             ],
             [
              0.3333333333333333,
              "#9c179e"
             ],
             [
              0.4444444444444444,
              "#bd3786"
             ],
             [
              0.5555555555555556,
              "#d8576b"
             ],
             [
              0.6666666666666666,
              "#ed7953"
             ],
             [
              0.7777777777777778,
              "#fb9f3a"
             ],
             [
              0.8888888888888888,
              "#fdca26"
             ],
             [
              1,
              "#f0f921"
             ]
            ],
            "type": "histogram2d"
           }
          ],
          "histogram2dcontour": [
           {
            "colorbar": {
             "outlinewidth": 0,
             "ticks": ""
            },
            "colorscale": [
             [
              0,
              "#0d0887"
             ],
             [
              0.1111111111111111,
              "#46039f"
             ],
             [
              0.2222222222222222,
              "#7201a8"
             ],
             [
              0.3333333333333333,
              "#9c179e"
             ],
             [
              0.4444444444444444,
              "#bd3786"
             ],
             [
              0.5555555555555556,
              "#d8576b"
             ],
             [
              0.6666666666666666,
              "#ed7953"
             ],
             [
              0.7777777777777778,
              "#fb9f3a"
             ],
             [
              0.8888888888888888,
              "#fdca26"
             ],
             [
              1,
              "#f0f921"
             ]
            ],
            "type": "histogram2dcontour"
           }
          ],
          "mesh3d": [
           {
            "colorbar": {
             "outlinewidth": 0,
             "ticks": ""
            },
            "type": "mesh3d"
           }
          ],
          "parcoords": [
           {
            "line": {
             "colorbar": {
              "outlinewidth": 0,
              "ticks": ""
             }
            },
            "type": "parcoords"
           }
          ],
          "pie": [
           {
            "automargin": true,
            "type": "pie"
           }
          ],
          "scatter": [
           {
            "fillpattern": {
             "fillmode": "overlay",
             "size": 10,
             "solidity": 0.2
            },
            "type": "scatter"
           }
          ],
          "scatter3d": [
           {
            "line": {
             "colorbar": {
              "outlinewidth": 0,
              "ticks": ""
             }
            },
            "marker": {
             "colorbar": {
              "outlinewidth": 0,
              "ticks": ""
             }
            },
            "type": "scatter3d"
           }
          ],
          "scattercarpet": [
           {
            "marker": {
             "colorbar": {
              "outlinewidth": 0,
              "ticks": ""
             }
            },
            "type": "scattercarpet"
           }
          ],
          "scattergeo": [
           {
            "marker": {
             "colorbar": {
              "outlinewidth": 0,
              "ticks": ""
             }
            },
            "type": "scattergeo"
           }
          ],
          "scattergl": [
           {
            "marker": {
             "colorbar": {
              "outlinewidth": 0,
              "ticks": ""
             }
            },
            "type": "scattergl"
           }
          ],
          "scattermapbox": [
           {
            "marker": {
             "colorbar": {
              "outlinewidth": 0,
              "ticks": ""
             }
            },
            "type": "scattermapbox"
           }
          ],
          "scatterpolar": [
           {
            "marker": {
             "colorbar": {
              "outlinewidth": 0,
              "ticks": ""
             }
            },
            "type": "scatterpolar"
           }
          ],
          "scatterpolargl": [
           {
            "marker": {
             "colorbar": {
              "outlinewidth": 0,
              "ticks": ""
             }
            },
            "type": "scatterpolargl"
           }
          ],
          "scatterternary": [
           {
            "marker": {
             "colorbar": {
              "outlinewidth": 0,
              "ticks": ""
             }
            },
            "type": "scatterternary"
           }
          ],
          "surface": [
           {
            "colorbar": {
             "outlinewidth": 0,
             "ticks": ""
            },
            "colorscale": [
             [
              0,
              "#0d0887"
             ],
             [
              0.1111111111111111,
              "#46039f"
             ],
             [
              0.2222222222222222,
              "#7201a8"
             ],
             [
              0.3333333333333333,
              "#9c179e"
             ],
             [
              0.4444444444444444,
              "#bd3786"
             ],
             [
              0.5555555555555556,
              "#d8576b"
             ],
             [
              0.6666666666666666,
              "#ed7953"
             ],
             [
              0.7777777777777778,
              "#fb9f3a"
             ],
             [
              0.8888888888888888,
              "#fdca26"
             ],
             [
              1,
              "#f0f921"
             ]
            ],
            "type": "surface"
           }
          ],
          "table": [
           {
            "cells": {
             "fill": {
              "color": "#EBF0F8"
             },
             "line": {
              "color": "white"
             }
            },
            "header": {
             "fill": {
              "color": "#C8D4E3"
             },
             "line": {
              "color": "white"
             }
            },
            "type": "table"
           }
          ]
         },
         "layout": {
          "annotationdefaults": {
           "arrowcolor": "#2a3f5f",
           "arrowhead": 0,
           "arrowwidth": 1
          },
          "autotypenumbers": "strict",
          "coloraxis": {
           "colorbar": {
            "outlinewidth": 0,
            "ticks": ""
           }
          },
          "colorscale": {
           "diverging": [
            [
             0,
             "#8e0152"
            ],
            [
             0.1,
             "#c51b7d"
            ],
            [
             0.2,
             "#de77ae"
            ],
            [
             0.3,
             "#f1b6da"
            ],
            [
             0.4,
             "#fde0ef"
            ],
            [
             0.5,
             "#f7f7f7"
            ],
            [
             0.6,
             "#e6f5d0"
            ],
            [
             0.7,
             "#b8e186"
            ],
            [
             0.8,
             "#7fbc41"
            ],
            [
             0.9,
             "#4d9221"
            ],
            [
             1,
             "#276419"
            ]
           ],
           "sequential": [
            [
             0,
             "#0d0887"
            ],
            [
             0.1111111111111111,
             "#46039f"
            ],
            [
             0.2222222222222222,
             "#7201a8"
            ],
            [
             0.3333333333333333,
             "#9c179e"
            ],
            [
             0.4444444444444444,
             "#bd3786"
            ],
            [
             0.5555555555555556,
             "#d8576b"
            ],
            [
             0.6666666666666666,
             "#ed7953"
            ],
            [
             0.7777777777777778,
             "#fb9f3a"
            ],
            [
             0.8888888888888888,
             "#fdca26"
            ],
            [
             1,
             "#f0f921"
            ]
           ],
           "sequentialminus": [
            [
             0,
             "#0d0887"
            ],
            [
             0.1111111111111111,
             "#46039f"
            ],
            [
             0.2222222222222222,
             "#7201a8"
            ],
            [
             0.3333333333333333,
             "#9c179e"
            ],
            [
             0.4444444444444444,
             "#bd3786"
            ],
            [
             0.5555555555555556,
             "#d8576b"
            ],
            [
             0.6666666666666666,
             "#ed7953"
            ],
            [
             0.7777777777777778,
             "#fb9f3a"
            ],
            [
             0.8888888888888888,
             "#fdca26"
            ],
            [
             1,
             "#f0f921"
            ]
           ]
          },
          "colorway": [
           "#636efa",
           "#EF553B",
           "#00cc96",
           "#ab63fa",
           "#FFA15A",
           "#19d3f3",
           "#FF6692",
           "#B6E880",
           "#FF97FF",
           "#FECB52"
          ],
          "font": {
           "color": "#2a3f5f"
          },
          "geo": {
           "bgcolor": "white",
           "lakecolor": "white",
           "landcolor": "#E5ECF6",
           "showlakes": true,
           "showland": true,
           "subunitcolor": "white"
          },
          "hoverlabel": {
           "align": "left"
          },
          "hovermode": "closest",
          "mapbox": {
           "style": "light"
          },
          "paper_bgcolor": "white",
          "plot_bgcolor": "#E5ECF6",
          "polar": {
           "angularaxis": {
            "gridcolor": "white",
            "linecolor": "white",
            "ticks": ""
           },
           "bgcolor": "#E5ECF6",
           "radialaxis": {
            "gridcolor": "white",
            "linecolor": "white",
            "ticks": ""
           }
          },
          "scene": {
           "xaxis": {
            "backgroundcolor": "#E5ECF6",
            "gridcolor": "white",
            "gridwidth": 2,
            "linecolor": "white",
            "showbackground": true,
            "ticks": "",
            "zerolinecolor": "white"
           },
           "yaxis": {
            "backgroundcolor": "#E5ECF6",
            "gridcolor": "white",
            "gridwidth": 2,
            "linecolor": "white",
            "showbackground": true,
            "ticks": "",
            "zerolinecolor": "white"
           },
           "zaxis": {
            "backgroundcolor": "#E5ECF6",
            "gridcolor": "white",
            "gridwidth": 2,
            "linecolor": "white",
            "showbackground": true,
            "ticks": "",
            "zerolinecolor": "white"
           }
          },
          "shapedefaults": {
           "line": {
            "color": "#2a3f5f"
           }
          },
          "ternary": {
           "aaxis": {
            "gridcolor": "white",
            "linecolor": "white",
            "ticks": ""
           },
           "baxis": {
            "gridcolor": "white",
            "linecolor": "white",
            "ticks": ""
           },
           "bgcolor": "#E5ECF6",
           "caxis": {
            "gridcolor": "white",
            "linecolor": "white",
            "ticks": ""
           }
          },
          "title": {
           "x": 0.05
          },
          "xaxis": {
           "automargin": true,
           "gridcolor": "white",
           "linecolor": "white",
           "ticks": "",
           "title": {
            "standoff": 15
           },
           "zerolinecolor": "white",
           "zerolinewidth": 2
          },
          "yaxis": {
           "automargin": true,
           "gridcolor": "white",
           "linecolor": "white",
           "ticks": "",
           "title": {
            "standoff": 15
           },
           "zerolinecolor": "white",
           "zerolinewidth": 2
          }
         }
        },
        "title": {
         "text": "Most common 3-grams in misleading reviews"
        },
        "width": 700,
        "xaxis": {
         "anchor": "y",
         "domain": [
          0,
          1
         ],
         "visible": false
        },
        "yaxis": {
         "anchor": "x",
         "domain": [
          0,
          1
         ],
         "visible": false
        }
       }
      }
     },
     "metadata": {},
     "output_type": "display_data"
    }
   ],
   "source": [
    "from wordcloud import WordCloud\n",
    "from PIL import Image\n",
    "\n",
    "ngrams_str = \" \".join(n_grams)\n",
    "\n",
    "# make house-shaped mask\n",
    "mask = np.array(Image.open(\"../../house_shape.png\"))\n",
    "# fill transparent areas with white\n",
    "mask[mask[:, :, 3] == 0] = [255, 255, 255, 255]\n",
    "\n",
    "# generate wordcloud\n",
    "wc = WordCloud(\n",
    "    background_color=\"white\", \n",
    "    max_words=1000, \n",
    "    width=mask.shape[0]*5,\n",
    "    height=mask.shape[1]*5,\n",
    "    mask = mask,\n",
    "    contour_width=3,\n",
    "    contour_color='steelblue',\n",
    "    colormap=\"twilight_shifted\"\n",
    ").generate(ngrams_str)\n",
    "\n",
    "wc\n",
    "\n",
    "# show wordcloud\n",
    "fig = px.imshow(wc, title=f\"Most common {N}-grams in misleading reviews\", width=700, height=700)\n",
    "fig.update_xaxes(visible=False)\n",
    "fig.update_yaxes(visible=False)\n",
    "fig.show()"
   ]
  },
  {
   "attachments": {},
   "cell_type": "markdown",
   "metadata": {},
   "source": [
    "Here is a reusable function to add ngrams features to a dataframe."
   ]
  },
  {
   "cell_type": "code",
   "execution_count": 34,
   "metadata": {},
   "outputs": [],
   "source": [
    "def ngrams_features(n, prefix=\"ngrams_\", corr_thresh=0.05):\n",
    "    \"\"\"Add n-gram features to the features dataframe.\"\"\"\n",
    "\n",
    "    # one-hot encode ngrams\n",
    "    df[\"ngrams\"] = df.comments.apply(lambda x: set(get_consecutive_ngrams(x, 3)))\n",
    "\n",
    "    # get set of ngrams\n",
    "    ng_set = set(series_to_ngrams(subset.comments, n).to_list())\n",
    "\n",
    "    # one-hot encode ngrams\n",
    "    ngram_features = {}\n",
    "    for ngram in ng_set:\n",
    "        ngram_features[prefix + ngram] = df.ngrams.apply(lambda ngrams: 1 if ngram in ngrams else 0)\n",
    "    ngram_df = pd.DataFrame(ngram_features)\n",
    "    \n",
    "    # filter features on correlation with label\n",
    "    ngrams_df = corr_filter(ngram_df, corr_thresh=corr_thresh)\n",
    "\n",
    "    return ngrams_df"
   ]
  },
  {
   "cell_type": "code",
   "execution_count": 35,
   "metadata": {},
   "outputs": [],
   "source": [
    "# ngrams_features(3, prefix=\"ngrams_\", corr_thresh=0.09)"
   ]
  },
  {
   "attachments": {},
   "cell_type": "markdown",
   "metadata": {},
   "source": [
    "## \"Mentioned Amenities\" Features\n",
    "Was an amenity that was included in the listing mentioned in the review?"
   ]
  },
  {
   "attachments": {},
   "cell_type": "markdown",
   "metadata": {},
   "source": [
    "First, we need to do some cleaning amenities to make them easier to match."
   ]
  },
  {
   "cell_type": "code",
   "execution_count": 36,
   "metadata": {},
   "outputs": [],
   "source": [
    "import re\n",
    "\n",
    "def clean_amenities(amenities):\n",
    "    \"\"\"Clean the amenities column.\"\"\"\n",
    "\n",
    "    cleaned = []\n",
    "\n",
    "    # basic cleaning\n",
    "    for amenity in amenities:\n",
    "        # remove quotes\n",
    "        amenity = amenity.replace('\"', \"\")\n",
    "        # remove anything in parentheses or brackets\n",
    "        amenity = re.sub(r\"\\(.*\\)\", \"\", amenity)\n",
    "        amenity = re.sub(r\"\\[.*\\]\", \"\", amenity)\n",
    "        # strip whitespace\n",
    "        amenity = amenity.strip()\n",
    "        # lowercase\n",
    "        amenity = amenity.lower()\n",
    "        # remove curly brackets\n",
    "        amenity = amenity.replace(\"{\", \"\").replace(\"}\", \"\")\n",
    "\n",
    "\n",
    "        cleaned.append(amenity)\n",
    "\n",
    "    # split entries with a slash, \"and\", or \"or\"\n",
    "    for to_split_on in [\"/\", \" and \", \" or \"]:\n",
    "        cleaned = [amenity.split(to_split_on) for amenity in cleaned]\n",
    "        cleaned = [item.strip() for sublist in cleaned for item in sublist]\n",
    "\n",
    "    # remove empty strings\n",
    "    cleaned = [amenity for amenity in cleaned if amenity != \"\"]\n",
    "\n",
    "    return cleaned\n",
    "\n",
    "df.amenities = df.amenities.apply(clean_amenities)"
   ]
  },
  {
   "attachments": {},
   "cell_type": "markdown",
   "metadata": {},
   "source": [
    "Look at some examples of the cleaned amenities."
   ]
  },
  {
   "cell_type": "code",
   "execution_count": 37,
   "metadata": {},
   "outputs": [
    {
     "data": {
      "text/plain": [
       "['tv',\n",
       " 'internet',\n",
       " 'wifi',\n",
       " 'air conditioning',\n",
       " 'pool',\n",
       " 'kitchen',\n",
       " 'pets allowed',\n",
       " 'heating',\n",
       " 'family',\n",
       " 'kid friendly',\n",
       " 'washer',\n",
       " 'dryer',\n",
       " 'smoke detector',\n",
       " 'essentials',\n",
       " 'shampoo',\n",
       " '24-hour check-in',\n",
       " 'hangers',\n",
       " 'hair dryer',\n",
       " 'iron',\n",
       " 'bathtub',\n",
       " 'hot water',\n",
       " 'bed linens',\n",
       " 'microwave',\n",
       " 'coffee maker',\n",
       " 'refrigerator',\n",
       " 'dishes',\n",
       " 'silverware',\n",
       " 'cooking basics',\n",
       " 'oven',\n",
       " 'stove',\n",
       " 'bbq grill',\n",
       " 'patio',\n",
       " 'balcony',\n",
       " 'garden',\n",
       " 'backyard',\n",
       " 'luggage dropoff allowed',\n",
       " 'long term stays allowed',\n",
       " 'well-lit path to entrance',\n",
       " 'disabled parking spot',\n",
       " 'other',\n",
       " 'paid parking on premises']"
      ]
     },
     "execution_count": 37,
     "metadata": {},
     "output_type": "execute_result"
    }
   ],
   "source": [
    "df.amenities.sample(1).values[0]"
   ]
  },
  {
   "attachments": {},
   "cell_type": "markdown",
   "metadata": {},
   "source": [
    "Calculate our amenities features, and look at the correlation between them and the label."
   ]
  },
  {
   "cell_type": "code",
   "execution_count": 38,
   "metadata": {},
   "outputs": [
    {
     "name": "stdout",
     "output_type": "stream",
     "text": [
      "Calculating amenities features with correlation threshold of 0.05\n",
      "Features above correlation threshold (0.05):\n",
      "['id', 'lockbox', 'pool', 'dishwasher', 'tv', 'keypad', 'kitchen', 'breakfast']\n"
     ]
    },
    {
     "data": {
      "text/html": [
       "<div>\n",
       "<style scoped>\n",
       "    .dataframe tbody tr th:only-of-type {\n",
       "        vertical-align: middle;\n",
       "    }\n",
       "\n",
       "    .dataframe tbody tr th {\n",
       "        vertical-align: top;\n",
       "    }\n",
       "\n",
       "    .dataframe thead th {\n",
       "        text-align: right;\n",
       "    }\n",
       "</style>\n",
       "<table border=\"1\" class=\"dataframe\">\n",
       "  <thead>\n",
       "    <tr style=\"text-align: right;\">\n",
       "      <th></th>\n",
       "      <th>lockbox</th>\n",
       "      <th>pool</th>\n",
       "      <th>dishwasher</th>\n",
       "      <th>tv</th>\n",
       "      <th>keypad</th>\n",
       "      <th>kitchen</th>\n",
       "      <th>breakfast</th>\n",
       "      <th>review_id</th>\n",
       "      <th>label</th>\n",
       "    </tr>\n",
       "  </thead>\n",
       "  <tbody>\n",
       "    <tr>\n",
       "      <th>0</th>\n",
       "      <td>0.0</td>\n",
       "      <td>0.0</td>\n",
       "      <td>0.0</td>\n",
       "      <td>0.0</td>\n",
       "      <td>0.0</td>\n",
       "      <td>0.0</td>\n",
       "      <td>0.0</td>\n",
       "      <td>83097</td>\n",
       "      <td>good</td>\n",
       "    </tr>\n",
       "    <tr>\n",
       "      <th>1</th>\n",
       "      <td>0.0</td>\n",
       "      <td>0.0</td>\n",
       "      <td>0.0</td>\n",
       "      <td>0.0</td>\n",
       "      <td>0.0</td>\n",
       "      <td>0.0</td>\n",
       "      <td>0.0</td>\n",
       "      <td>133337</td>\n",
       "      <td>good</td>\n",
       "    </tr>\n",
       "    <tr>\n",
       "      <th>2</th>\n",
       "      <td>0.0</td>\n",
       "      <td>0.0</td>\n",
       "      <td>0.0</td>\n",
       "      <td>0.0</td>\n",
       "      <td>0.0</td>\n",
       "      <td>1.0</td>\n",
       "      <td>0.0</td>\n",
       "      <td>150928</td>\n",
       "      <td>good</td>\n",
       "    </tr>\n",
       "    <tr>\n",
       "      <th>3</th>\n",
       "      <td>0.0</td>\n",
       "      <td>0.0</td>\n",
       "      <td>0.0</td>\n",
       "      <td>0.0</td>\n",
       "      <td>0.0</td>\n",
       "      <td>0.0</td>\n",
       "      <td>0.0</td>\n",
       "      <td>2706775</td>\n",
       "      <td>good</td>\n",
       "    </tr>\n",
       "    <tr>\n",
       "      <th>4</th>\n",
       "      <td>0.0</td>\n",
       "      <td>0.0</td>\n",
       "      <td>0.0</td>\n",
       "      <td>0.0</td>\n",
       "      <td>0.0</td>\n",
       "      <td>1.0</td>\n",
       "      <td>0.0</td>\n",
       "      <td>8602878</td>\n",
       "      <td>good</td>\n",
       "    </tr>\n",
       "  </tbody>\n",
       "</table>\n",
       "</div>"
      ],
      "text/plain": [
       "   lockbox  pool  dishwasher   tv  keypad  kitchen  breakfast  review_id label\n",
       "0      0.0   0.0         0.0  0.0     0.0      0.0        0.0      83097  good\n",
       "1      0.0   0.0         0.0  0.0     0.0      0.0        0.0     133337  good\n",
       "2      0.0   0.0         0.0  0.0     0.0      1.0        0.0     150928  good\n",
       "3      0.0   0.0         0.0  0.0     0.0      0.0        0.0    2706775  good\n",
       "4      0.0   0.0         0.0  0.0     0.0      1.0        0.0    8602878  good"
      ]
     },
     "execution_count": 38,
     "metadata": {},
     "output_type": "execute_result"
    }
   ],
   "source": [
    "def amenities_features(corr_thresh=None, prefix=\"amenities_\") -> pd.DataFrame:\n",
    "    print(f\"Calculating amenities features with correlation threshold of {corr_thresh}\")\n",
    "    amenities_features_df = pd.DataFrame()\n",
    "    # 1. Find the amenities in the listings\n",
    "    for index, row in df.iterrows():\n",
    "        # 1. Find the amenities in the listings\n",
    "        amenities = row.amenities\n",
    "\n",
    "        # Add a new row to amenities_features_df\n",
    "        amenities_features_df.loc[index, \"id\"] = index\n",
    "\n",
    "        # 2. For each amenity, see if it is present in the review\n",
    "        for amenity in amenities:\n",
    "            if amenity in row.comments:\n",
    "                # 3. If it is present, add 1 for that feature\n",
    "                if amenity in amenities_features_df.columns:\n",
    "                    amenities_features_df.loc[index, amenity] = 1\n",
    "                #   If the amenity does not already exist from another review, add it to the features dataframe\n",
    "                else:\n",
    "                    amenities_features_df.loc[index, amenity] = 0\n",
    "    \n",
    "    # 4. fill missing values with 0\n",
    "    amenities_features_df = amenities_features_df.fillna(0)\n",
    "\n",
    "    # 6. Only keep amenities features that have a correlation with the label above a certain threshold\n",
    "    amenities_features_df = corr_filter(amenities_features_df, corr_thresh=corr_thresh)\n",
    "\n",
    "    # drop id column\n",
    "    if \"id\" in amenities_features_df.columns:\n",
    "        amenities_features_df = amenities_features_df.drop(\"id\", axis=1)\n",
    "\n",
    "    # prefix features\n",
    "    amenities_features_df = amenities_features_df.add_prefix(prefix)\n",
    "\n",
    "    return amenities_features_df\n",
    "\n",
    "\n",
    "amen_features = amenities_features(corr_thresh=0.05, prefix=\"\")\n",
    "amen_features[\"review_id\"] = df.review_id\n",
    "amen_features[\"label\"] = df.label\n",
    "amen_features.head()"
   ]
  },
  {
   "cell_type": "code",
   "execution_count": 39,
   "metadata": {},
   "outputs": [
    {
     "data": {
      "text/plain": [
       "True"
      ]
     },
     "execution_count": 39,
     "metadata": {},
     "output_type": "execute_result"
    }
   ],
   "source": [
    "df.review_id.shape[0] == amen_features.review_id.shape[0]"
   ]
  },
  {
   "attachments": {},
   "cell_type": "markdown",
   "metadata": {},
   "source": [
    "Let's look at the amenities with the highest correlation to the label."
   ]
  },
  {
   "cell_type": "code",
   "execution_count": 40,
   "metadata": {},
   "outputs": [
    {
     "name": "stderr",
     "output_type": "stream",
     "text": [
      "C:\\Users\\grego\\AppData\\Local\\Temp\\ipykernel_26936\\3136741035.py:6: FutureWarning:\n",
      "\n",
      "The default value of numeric_only in DataFrame.corrwith is deprecated. In a future version, it will default to False. Select only valid columns or specify the value of numeric_only to silence this warning.\n",
      "\n"
     ]
    },
    {
     "data": {
      "text/plain": [
       "lockbox       0.090532\n",
       "pool          0.070985\n",
       "dishwasher    0.070433\n",
       "tv            0.055847\n",
       "keypad        0.055246\n",
       "kitchen       0.050689\n",
       "breakfast    -0.055234\n",
       "dtype: float64"
      ]
     },
     "execution_count": 40,
     "metadata": {},
     "output_type": "execute_result"
    }
   ],
   "source": [
    "# OHE labels\n",
    "labels_list: list = amen_features.label.unique().tolist()\n",
    "dummies = amen_features.label.apply(lambda label: labels_list.index(label))\n",
    "\n",
    "# calculate correlations with the label\n",
    "corrs = amen_features.drop(\"review_id\", axis=1).corrwith(dummies).sort_values(ascending=False)\n",
    "corrs"
   ]
  },
  {
   "attachments": {},
   "cell_type": "markdown",
   "metadata": {},
   "source": [
    "## Word Embeddings\n",
    "Another way to look at the data is to use word embeddings. We can use the word2vec model from gensim to create word embeddings for each word in the dataset. We can then take the average of all word vectors in a review to get a vector representation of the review. We will then reduce the dimensionality of the vectors using PCA."
   ]
  },
  {
   "cell_type": "code",
   "execution_count": 41,
   "metadata": {},
   "outputs": [],
   "source": [
    "from gensim.models.word2vec import Word2Vec\n",
    "from sklearn.decomposition import PCA\n",
    "from typing import Tuple\n",
    "\n",
    "def do_pca(features: np.ndarray, col: str, n_components: int) -> Tuple[np.ndarray, PCA]:\n",
    "    \"\"\"Perform PCA on embeddings.\"\"\"\n",
    "    print(f\"Performing PCA on {col} with {n_components} components\")\n",
    "    pca = PCA(n_components=n_components)\n",
    "    pca_trained = pca.fit(features)\n",
    "    pca_embeddings = pca.transform(features)\n",
    "\n",
    "    pca_features = pd.DataFrame()\n",
    "    for i in range(pca_embeddings.shape[1]):\n",
    "        pca_features[f\"pca_{n_components}D_{col}_{i}\"] = pca_embeddings[:, i]\n",
    "\n",
    "    return pca_features, pca_trained\n",
    "\n",
    "def embeddings_features(emb_vector_size=300, col=\"comments\") -> Tuple[pd.DataFrame, Word2Vec]:\n",
    "\n",
    "    print(f\"Embedding {col} with vector size {emb_vector_size}\")\n",
    "    w2v = Word2Vec(df[col].to_list(), \n",
    "            min_count=1,\n",
    "            vector_size=emb_vector_size,\n",
    "            workers=3, \n",
    "            window=3, \n",
    "            sg=1\n",
    "        )\n",
    "    \n",
    "    # generate embeddings\n",
    "    get_review_embeddings = lambda review: np.mean([w2v.wv[word] for word in review if word in w2v.wv], axis=0)\n",
    "    embeddings = np.array([get_review_embeddings(review) for review in df[col].to_list()])\n",
    "    \n",
    "    # ignore DataFrame is highly fragmented.\n",
    "    pd.options.mode.chained_assignment = None\n",
    "\n",
    "    # add embeddings to features dataframe\n",
    "    embd_features = pd.DataFrame()\n",
    "    for i in range(embeddings.shape[1]):\n",
    "        embd_features[f\"embedding_{col}_{i}\"] = embeddings[:, i]\n",
    "\n",
    "    return embd_features, w2v"
   ]
  },
  {
   "attachments": {},
   "cell_type": "markdown",
   "metadata": {},
   "source": [
    "Let's try this out and visualize in 3D to see how well the reviews are separated by label."
   ]
  },
  {
   "cell_type": "code",
   "execution_count": 42,
   "metadata": {},
   "outputs": [
    {
     "name": "stdout",
     "output_type": "stream",
     "text": [
      "Embedding comments with vector size 300\n",
      "Performing PCA on comments with 3 components\n"
     ]
    },
    {
     "data": {
      "application/vnd.plotly.v1+json": {
       "config": {
        "plotlyServerURL": "https://plot.ly"
       },
       "data": [
        {
         "hovertemplate": "label=good<br>pca_3D_comments_0=%{x}<br>pca_3D_comments_1=%{y}<br>pca_3D_comments_2=%{z}<extra></extra>",
         "legendgroup": "good",
         "marker": {
          "color": "#636efa",
          "opacity": 0.5,
          "size": 2,
          "symbol": "circle"
         },
         "mode": "markers",
         "name": "good",
         "scene": "scene",
         "showlegend": true,
         "type": "scatter3d",
         "x": [
          -0.05242392048239708,
          -0.15267999470233917,
          0.002543078036978841,
          -0.251482218503952,
          0.03423578664660454,
          -0.21090292930603027,
          -0.04887593537569046,
          -0.09544594585895538,
          -0.2567214369773865,
          0.13679569959640503,
          0.20066463947296143,
          -0.1285584717988968,
          0.2166135311126709,
          -0.08586133271455765,
          -0.031069926917552948,
          -0.2142443060874939,
          0.06618624180555344,
          -0.5065150260925293,
          0.0328042171895504,
          -0.13677556812763214,
          -0.06420285254716873,
          0.04547377675771713,
          0.036256540566682816,
          -0.05026070028543472,
          -0.13784191012382507,
          0.2270997166633606,
          -0.38807621598243713,
          -0.08785991370677948,
          0.03107461892068386,
          -0.2508879601955414,
          -0.2775247097015381,
          -0.022743232548236847,
          -0.04467081278562546,
          -0.020728379487991333,
          -0.20283988118171692,
          0.08118031173944473,
          -0.07115873694419861,
          0.017087899148464203,
          -0.3267274498939514,
          -0.261722594499588,
          -0.34179478883743286,
          -0.07677832990884781,
          0.019946888089179993,
          0.18312937021255493,
          -0.018956510350108147,
          0.06300235539674759,
          -0.09323413670063019,
          0.07315171509981155,
          0.05234576389193535,
          -0.11710786074399948,
          -0.261483371257782,
          0.008151737973093987,
          -0.07127049565315247,
          -0.16035322844982147,
          0.026888679713010788,
          0.013384014368057251,
          -0.048821475356817245,
          0.0833938866853714,
          0.12615016102790833,
          0.3308711051940918,
          -0.03915208578109741,
          0.21351706981658936,
          -0.05153094604611397,
          -0.08990883827209473,
          0.07650037109851837,
          -0.057492900639772415,
          -0.1072792038321495,
          -0.19072768092155457,
          -0.1636856347322464,
          0.025787165388464928,
          -0.00876571424305439,
          -0.0025164249818772078,
          0.15766482055187225,
          0.06723236292600632,
          0.10877418518066406,
          0.08817076683044434,
          -0.2446003258228302,
          -0.04931711405515671,
          0.012369477190077305,
          -0.19947458803653717,
          0.11591217666864395,
          -0.546992301940918,
          -0.06344056129455566,
          -0.26420560479164124,
          0.012013562023639679,
          -0.1807718575000763,
          -0.3644721806049347,
          -0.12680551409721375,
          -0.15527299046516418,
          0.10844770073890686,
          0.1596643626689911,
          -0.08786476403474808,
          0.09472381323575974,
          0.11776407808065414,
          0.10735271871089935,
          0.056943077594041824,
          0.1050853282213211,
          0.10649411380290985,
          -0.0010230576153844595,
          -0.04218315705657005,
          -0.02012641355395317,
          0.10382412374019623,
          0.1344502568244934,
          0.0022564793471246958,
          0.027281401678919792,
          -0.12761159241199493,
          0.17741824686527252,
          0.114010289311409,
          -0.2790542542934418,
          0.015312513336539268,
          -0.26724791526794434,
          0.08610294759273529,
          -0.003705724375322461,
          0.12980115413665771,
          -0.016203900799155235,
          -0.07555332034826279,
          0.07268466800451279,
          0.30028653144836426,
          0.24188180267810822,
          0.19487066566944122,
          0.24705827236175537,
          0.23187848925590515,
          -0.06492682546377182,
          -0.24524906277656555,
          -0.4992225468158722,
          -0.11295558512210846,
          -0.08537331968545914,
          -0.052468616515398026,
          -0.10076362639665604,
          0.10170827805995941,
          -0.14479310810565948,
          -0.12533257901668549,
          -0.22913941740989685,
          0.0010963379172608256,
          -0.3070688545703888,
          -0.5826822519302368,
          -0.1121542751789093,
          -0.08050701022148132,
          0.19128088653087616,
          0.18727384507656097,
          0.7928533554077148,
          -0.15160508453845978,
          0.018635312095284462,
          -0.12646229565143585,
          0.029159031808376312,
          -0.06001381203532219,
          0.6998381614685059,
          -0.3610090911388397,
          0.026328235864639282,
          -0.45803481340408325,
          -0.008860290981829166,
          -0.03260166570544243,
          -0.16118191182613373,
          -0.06037069484591484,
          -0.03325098752975464,
          0.04797959700226784,
          0.17887383699417114,
          0.21468308568000793,
          -0.0727190151810646,
          0.12751485407352448,
          0.25718313455581665,
          0.8654022812843323,
          -0.13364914059638977,
          -0.1030309721827507,
          0.09242474287748337,
          0.038320571184158325,
          -0.33699047565460205,
          -0.16983573138713837,
          -0.0905223861336708,
          -0.1239200308918953,
          0.09344878792762756,
          -0.061855003237724304,
          0.008681529201567173,
          -0.025530634447932243,
          -0.09078700095415115,
          -0.04070122167468071,
          0.05834611505270004,
          0.04078848659992218,
          0.05056244507431984,
          0.02186606451869011,
          0.004605498164892197,
          0.006561784539371729,
          0.17611804604530334,
          0.2077626883983612,
          0.052962176501750946,
          -0.19441354274749756,
          -0.2813872694969177,
          0.7572585940361023,
          0.8299121260643005,
          0.07059112191200256,
          0.32324910163879395,
          -0.14052227139472961,
          -0.13541477918624878,
          0.1280776709318161,
          -0.24392946064472198,
          -0.049045413732528687,
          0.09207981079816818,
          -0.013592138886451721,
          -0.014082681387662888,
          -0.12248947471380234,
          -0.1601882427930832,
          -0.32816174626350403,
          -0.026118749752640724,
          -0.03495697304606438,
          -0.10286996513605118,
          0.046542149037122726,
          -0.08509014546871185,
          -0.0712546706199646,
          -0.013599101454019547,
          -0.09965530037879944,
          -0.1155267134308815,
          -0.1509721726179123,
          0.10997849702835083,
          0.10007777065038681,
          0.22354625165462494,
          -0.29146185517311096,
          0.01577376015484333,
          -0.058515969663858414,
          0.11528317630290985,
          -0.09289585053920746,
          0.21313230693340302,
          -0.11020059883594513,
          0.05477050691843033,
          0.0946030393242836,
          -0.16390858590602875,
          -0.16453935205936432,
          0.13848307728767395,
          0.04657842591404915,
          0.1333225816488266,
          -0.07306669652462006,
          -0.053104154765605927,
          -0.02350328303873539,
          -0.1330782175064087,
          -0.10712918639183044,
          0.2514543831348419,
          0.36075830459594727,
          0.006268767639994621,
          -0.07701422274112701,
          0.1454879641532898,
          -0.06060396507382393,
          0.21068482100963593,
          -0.0010731542715802789,
          0.17343266308307648,
          -0.06716559082269669,
          -0.5686978101730347,
          -0.12481948733329773,
          -0.003357367590069771,
          -0.0861569419503212,
          0.05534803494811058,
          -0.16467683017253876,
          0.15753749012947083,
          -0.06784825026988983,
          -0.3106159269809723,
          0.0014592764200642705,
          -0.24277634918689728,
          -0.11140260845422745,
          -0.08152434229850769,
          -0.06484422087669373,
          -0.5846338868141174,
          -0.23716993629932404,
          -0.06221696361899376,
          -0.11911358684301376,
          -0.01152088213711977,
          0.03580505773425102,
          0.11131739616394043,
          -0.14003854990005493,
          -0.23077771067619324,
          0.2740657925605774,
          0.06032855808734894,
          -0.07409469783306122,
          0.19230957329273224,
          -0.1583143174648285,
          -0.421762079000473,
          -0.07725740969181061,
          0.03758072480559349,
          0.05054245516657829,
          0.12343329936265945,
          -0.004059897735714912,
          0.2504054307937622,
          -0.119463711977005,
          -0.24584510922431946,
          -0.30308738350868225,
          -0.4041534662246704,
          0.12716826796531677,
          -0.008580979891121387,
          -0.01504199393093586,
          0.021782495081424713,
          -0.3239270746707916,
          0.034936003386974335,
          0.0004068785929121077,
          0.026796184480190277,
          0.1111682876944542,
          0.06187126040458679,
          0.003957641776651144,
          0.020122021436691284,
          0.0715726986527443,
          0.15534542500972748,
          0.019580358639359474,
          -0.0017766760429367423,
          0.013160592876374722,
          0.06139935925602913,
          -0.25895166397094727,
          -0.0029302826151251793,
          -0.17804624140262604,
          0.11177592724561691,
          -0.13054946064949036,
          -0.31725066900253296,
          -0.1200159415602684,
          0.2793397605419159,
          0.3120347261428833,
          -0.09077510982751846,
          0.07103147357702255,
          -0.04621022939682007,
          -0.11057606339454651,
          0.40384429693222046,
          -0.09993736445903778,
          -0.09101733565330505,
          -0.06040998920798302,
          -0.10769072920084,
          0.22477677464485168,
          -0.0749865174293518,
          0.2665519416332245,
          -0.09582944214344025,
          0.296188086271286,
          -0.042708076536655426,
          0.07805658876895905,
          -0.11485589295625687,
          -0.10741838067770004,
          0.11992573738098145,
          -0.2322305142879486,
          -0.0718340203166008,
          0.09188137203454971,
          -0.025388117879629135,
          -0.20585720241069794,
          0.1057128831744194,
          0.2249642312526703,
          0.10943204909563065,
          0.1057853251695633,
          -0.1136711984872818,
          -0.23641347885131836,
          -0.139339417219162,
          -0.19160909950733185,
          -0.19497624039649963,
          -0.01839260198175907,
          -0.382682740688324,
          0.1301547735929489,
          0.0878918468952179,
          -0.10922016948461533,
          -0.019293181598186493,
          -0.15050075948238373,
          0.16590678691864014,
          -0.1612693965435028,
          0.16312861442565918,
          0.11889001727104187,
          0.08609557151794434,
          -0.16741687059402466,
          -0.06553666293621063,
          0.0711439773440361,
          -0.16657927632331848,
          0.055605217814445496,
          -0.15345998108386993,
          -0.20733697712421417,
          -0.0398661270737648,
          0.19541212916374207,
          -0.0034536493476480246,
          -0.038276564329862595,
          -0.24966853857040405,
          0.07025173306465149,
          0.07365188002586365,
          -0.04821009188890457,
          0.021115196868777275,
          -0.09494654834270477,
          -0.1578725427389145,
          -0.013761984184384346,
          -0.114081971347332,
          -0.006293156649917364,
          -0.011274218559265137,
          -0.29265692830085754,
          -0.0746549665927887,
          -0.0010835385182872415,
          0.09833941608667374,
          -0.08839718997478485,
          -0.09148828685283661,
          0.005266257096081972,
          0.00913793221116066,
          -0.11239946633577347,
          -0.07992197573184967,
          -0.09653820097446442,
          -0.21134471893310547,
          -0.08484748750925064,
          0.13424333930015564,
          -0.10735063999891281,
          -0.0192347913980484,
          0.009831557981669903,
          0.03525019809603691,
          -0.08977223932743073,
          -0.04846222698688507,
          -0.011980166658759117,
          0.13865602016448975,
          0.05329456180334091,
          0.22710828483104706,
          0.11305404454469681,
          0.06340018659830093,
          -0.22349853813648224,
          -0.09795619547367096,
          0.01080024428665638,
          -0.2042369544506073,
          0.02288612350821495,
          0.1369577795267105,
          0.08873031288385391,
          -0.1815410554409027,
          -0.17245115339756012,
          0.31492751836776733,
          0.05109978839755058,
          -0.1539689302444458,
          -0.12792536616325378,
          0.05950726941227913,
          -0.19192011654376984,
          -0.1518922746181488,
          0.19107209146022797,
          -0.06997451931238174,
          0.15194788575172424,
          0.44244733452796936,
          -0.1465301662683487,
          0.19367451965808868,
          -0.4186721444129944,
          0.24974559247493744,
          -0.09646038711071014,
          -0.14351487159729004,
          -0.14583167433738708,
          0.09833677858114243,
          -0.40159472823143005,
          -0.09300006926059723,
          -0.13894067704677582,
          -0.06075888127088547,
          0.029970867559313774,
          -0.26066920161247253,
          -0.10332954674959183,
          -0.2666444480419159,
          -0.21616971492767334,
          -0.4040469527244568,
          -0.3521239757537842,
          -0.0846414566040039,
          0.20986546576023102,
          0.05009365454316139,
          0.03647938370704651,
          -0.127073273062706,
          0.03267983719706535,
          0.09797582030296326,
          0.07576622068881989,
          0.06715289503335953,
          -0.18338504433631897,
          -0.3940218985080719,
          -0.023186517879366875,
          -0.019060611724853516,
          -0.267842173576355,
          -0.1959071308374405,
          -0.31699132919311523,
          -0.27060800790786743,
          -0.3038034439086914,
          0.2664198875427246,
          -0.2917407155036926,
          -0.3174504041671753,
          0.2601121664047241,
          -0.33617737889289856,
          -0.08117616176605225,
          0.06941898167133331,
          -0.04470745101571083,
          0.08750186860561371,
          -0.08085429668426514,
          0.15257133543491364,
          0.17411504685878754,
          -0.08858104795217514,
          -0.03128400817513466,
          -0.12967093288898468,
          -0.17476262152194977,
          -0.1519511342048645,
          -0.029556041583418846,
          -0.300444096326828,
          -0.102476105093956,
          -0.102476105093956,
          -0.102476105093956,
          0.07189453393220901,
          -0.010237918235361576,
          0.10745704174041748,
          0.12446120381355286,
          0.11749426275491714,
          0.17475633323192596,
          0.1246258020401001,
          -0.1750594526529312,
          0.03963534161448479,
          0.0531671941280365,
          -0.21060891449451447,
          0.035553228110075,
          -0.16547606885433197,
          -0.13149461150169373,
          -0.3898424804210663,
          -0.23665471374988556,
          0.23061537742614746,
          -0.3547461926937103,
          0.0017134547233581543,
          -0.16344693303108215,
          -0.07728970795869827,
          -0.06518060714006424,
          -0.10535878688097,
          -0.01979621686041355,
          0.15499287843704224,
          -0.17092454433441162,
          -0.08987554162740707,
          0.22949936985969543,
          0.1644703596830368,
          -0.055628854781389236,
          -0.23355606198310852,
          -0.37406739592552185,
          -0.20510900020599365,
          0.13782252371311188,
          -0.1768084317445755,
          -0.04682024195790291,
          0.08645346760749817,
          -0.006062844302505255,
          -0.24021470546722412,
          -0.07139530777931213,
          -0.27601462602615356,
          -0.3455505669116974,
          -0.2079860121011734,
          -0.4139855206012726,
          -0.10117200016975403,
          -0.15559335052967072,
          0.05969195440411568,
          -0.07618600130081177,
          0.013542259112000465,
          0.04350181296467781,
          -0.12470048666000366,
          -0.41195935010910034,
          0.14008617401123047,
          -0.2014094591140747,
          0.19003693759441376,
          -0.15529239177703857,
          0.09454648941755295,
          -0.28832370042800903,
          -0.008723772130906582,
          0.15437445044517517,
          -0.11173910647630692,
          -0.14287826418876648,
          0.01767568849027157,
          -0.0958692654967308,
          -0.21586430072784424,
          0.09641630202531815,
          0.08793807774782181,
          0.05290491133928299,
          -0.31172841787338257,
          -0.017708489671349525,
          -0.2538616359233856,
          -0.2629973590373993,
          -0.03747115284204483,
          -0.08057636767625809,
          -0.33677995204925537,
          -0.06573120504617691,
          -0.42248600721359253,
          -0.07560335099697113,
          -0.0026380016934126616,
          -0.18318814039230347,
          -0.10977719724178314,
          0.06592585146427155,
          -0.08430296182632446,
          0.11227201670408249,
          -0.04677148535847664,
          0.04325833171606064,
          -0.04939933121204376,
          -0.1345605105161667,
          -0.05284843593835831,
          -0.07859008759260178,
          0.12127425521612167,
          0.04073558375239372,
          0.029971322044730186,
          -0.2843601703643799,
          0.0045386143028736115,
          -0.3286217749118805,
          0.1328115314245224,
          -0.11106298863887787,
          0.15790532529354095,
          0.11378020793199539,
          0.06510593742132187,
          -0.331214040517807,
          -0.2981038987636566,
          -0.03267322853207588,
          -0.04808241128921509,
          -0.23616807162761688,
          0.1067102700471878,
          0.15030956268310547,
          0.05206166207790375,
          0.06744670867919922,
          0.11970996111631393,
          -0.21794046461582184,
          -0.10151862353086472,
          -0.06021842733025551,
          -0.16488441824913025,
          -0.038740698248147964,
          -0.013645379804074764,
          -0.10187055915594101,
          -0.057288605719804764,
          -0.033567048609256744,
          0.12156746536493301,
          -0.06543722003698349,
          -0.18366628885269165,
          -0.12372271716594696,
          -0.27585408091545105,
          -0.10448212921619415,
          0.04636353999376297,
          0.14635483920574188,
          0.25945234298706055,
          0.12644392251968384,
          0.19717033207416534,
          -0.07675324380397797,
          0.1731911301612854,
          0.1849629282951355,
          0.0006888222997076809,
          0.04321381449699402,
          -0.09666453301906586,
          -0.07704859972000122,
          0.13788464665412903,
          -0.011776433326303959,
          -0.09127667546272278,
          -0.17290043830871582,
          -0.24256965517997742,
          -0.10742964595556259,
          -0.11166338622570038,
          0.03717029094696045,
          0.08705351501703262,
          0.31469789147377014,
          -0.3157183825969696,
          0.1767084300518036,
          -0.17861072719097137,
          -0.2313634306192398,
          -0.10419716686010361,
          -0.09549939632415771,
          -0.21251606941223145,
          -0.04480686038732529,
          -0.09927698969841003,
          0.18409878015518188,
          0.21608732640743256,
          0.17992311716079712,
          0.21894581615924835,
          -0.011166686192154884,
          -0.15162323415279388,
          -0.28061217069625854,
          -0.06568162888288498,
          -0.11000680923461914,
          -0.02187591791152954,
          -0.21839404106140137,
          0.04471280425786972,
          -0.2171202152967453,
          -0.1156788021326065,
          0.05541582405567169,
          -0.09893583506345749,
          -0.035723984241485596,
          0.13129019737243652,
          0.07628589123487473,
          -0.18689803779125214,
          -0.15641984343528748,
          -0.07729454338550568,
          -0.32148829102516174,
          0.0432811863720417,
          0.11934442818164825,
          0.15577641129493713,
          0.21917742490768433,
          0.01756090670824051,
          -0.07601175457239151,
          -0.04232916235923767,
          -0.11398520320653915,
          0.011728334240615368,
          -0.2078530490398407,
          -0.2999281585216522,
          -0.1413479745388031,
          -0.13706137239933014,
          -0.04344050586223602,
          -0.0521424226462841,
          -0.1785338819026947,
          0.07083316147327423,
          0.11930599063634872,
          0.19428782165050507,
          -0.29605868458747864,
          -0.16499753296375275,
          0.05233283340930939,
          0.14445455372333527,
          0.38409188389778137,
          -0.12804344296455383,
          0.0896989107131958,
          0.08903773874044418,
          -0.2608567476272583,
          -0.02143573760986328,
          -0.1521938145160675,
          -0.08133474737405777,
          -0.1436970829963684,
          -0.08319955319166183,
          -0.08611255139112473,
          -0.07713872194290161,
          0.1302948147058487,
          -0.06395818293094635,
          0.12525027990341187,
          -0.43557992577552795,
          -0.06754206120967865,
          0.040810298174619675,
          -0.10501977801322937,
          -0.0489073321223259,
          -0.4224162697792053,
          -0.21080082654953003,
          -0.07030544430017471,
          0.057097118347883224,
          0.14363428950309753,
          -0.08871768414974213,
          -0.044667523354291916,
          0.08292485028505325,
          0.002517940476536751,
          -0.04279023036360741,
          0.03402037173509598,
          -0.01482668612152338,
          -0.32485824823379517,
          -0.11329127103090286,
          0.03813646361231804,
          0.06361941248178482,
          -0.18470259010791779,
          -0.2301844209432602,
          -0.11724954843521118,
          -0.027344156056642532,
          0.006427691783756018,
          -0.05053352937102318,
          -0.10125881433486938,
          -0.07854752242565155,
          -0.2379920929670334,
          -0.188994899392128,
          0.020281998440623283,
          -0.06475763767957687,
          -0.00399556290358305,
          0.011971117928624153,
          -0.17887835204601288,
          0.15670651197433472,
          -0.12083709985017776,
          -0.020368464291095734,
          0.026691338047385216,
          0.05380735546350479,
          -0.03846469521522522,
          -0.031926918774843216,
          0.024505631998181343,
          -0.05899981036782265,
          -0.22183765470981598,
          -0.07854752242565155,
          -0.034924156963825226,
          -0.09717843681573868,
          0.04905819520354271,
          0.08282533288002014,
          0.09320215880870819,
          0.11663958430290222,
          0.06608833372592926,
          0.046576593071222305,
          -0.0512719601392746,
          -0.01807970367372036,
          0.05007409676909447,
          -0.15820088982582092,
          0.11165987700223923,
          -0.12423134595155716,
          -0.037839263677597046,
          0.02180584706366062,
          0.006181443575769663,
          -0.13470953702926636,
          -0.07896076887845993,
          -0.05390675738453865,
          -0.14472442865371704,
          -0.046885233372449875,
          -0.03292959928512573,
          -0.22322672605514526,
          0.012483381666243076,
          -0.04054328799247742,
          -0.1416768729686737,
          -0.11283381283283234,
          -0.10789180546998978,
          0.11469292640686035,
          -0.504311203956604,
          -0.3021129369735718,
          0.11224611848592758,
          -0.10554561764001846,
          -0.11462962627410889,
          -0.21905800700187683,
          -0.24259188771247864,
          -0.008594243787229061,
          -0.01157606951892376,
          0.01944134384393692,
          -0.25420841574668884,
          -0.018695250153541565,
          -0.2860802710056305,
          -0.3286021947860718,
          0.00839359313249588,
          -0.0641811266541481,
          0.08035938441753387,
          -0.158315047621727,
          0.0023926233407109976,
          -0.061419568955898285,
          -0.10119333118200302,
          -0.1407255232334137,
          -0.15162888169288635,
          -0.18561916053295135,
          0.10986944288015366,
          -0.32330888509750366,
          -0.41006651520729065,
          0.05732625350356102,
          -0.34967827796936035,
          0.09420979768037796,
          0.2061992883682251,
          -0.010545624420046806,
          -0.07518532127141953,
          0.005202346947044134,
          0.16508767008781433,
          0.27856019139289856,
          0.007111036218702793,
          0.0328984409570694,
          0.15564192831516266,
          0.02252858690917492,
          0.08125519007444382,
          0.05528979375958443,
          0.044300541281700134,
          0.08936446905136108,
          0.03375003859400749,
          -0.031139228492975235,
          0.142914816737175,
          -0.18901965022087097,
          -0.04500444233417511,
          -0.08046866953372955,
          0.06995291262865067,
          0.2707776427268982,
          -0.19430409371852875,
          -0.19207799434661865,
          -0.023530252277851105,
          -0.03349301218986511,
          0.2063257396221161,
          -0.07024668157100677,
          0.034327615052461624,
          -0.09387422353029251,
          -0.18278364837169647,
          0.14070318639278412,
          0.045592404901981354,
          0.0976908877491951,
          -0.3734610974788666,
          -0.11340579390525818,
          0.49506404995918274,
          0.13558241724967957,
          -0.16521571576595306,
          -0.017717087641358376,
          -0.27212145924568176,
          -0.027210887521505356,
          0.2607920467853546,
          -0.1398419439792633,
          -0.05947098881006241,
          -0.11684922128915787,
          0.07203101366758347,
          -0.06485538929700851,
          0.16871580481529236,
          -0.014360781759023666,
          -0.08222146332263947,
          -0.11539817601442337,
          -0.05032920837402344,
          0.022100798785686493,
          -0.020097903907299042,
          -0.019154991954565048,
          0.05046246945858002,
          -0.08898625522851944,
          -0.17497271299362183,
          -0.07663517445325851,
          0.05404863879084587,
          -0.05082662031054497,
          0.09109720587730408,
          0.059174537658691406,
          0.0853254422545433,
          -0.11529981344938278,
          -0.11529981344938278,
          -0.07610426098108292,
          -0.07610426098108292,
          0.07467680424451828,
          0.07467680424451828,
          0.02540774457156658,
          0.02540774457156658,
          -0.3195495307445526,
          -0.3195495307445526,
          -0.13918937742710114,
          -0.13918937742710114,
          0.07301013916730881,
          0.07301013916730881,
          -0.36375755071640015,
          -0.36375755071640015,
          -0.18151070177555084,
          -0.18151070177555084,
          -0.12531273066997528,
          -0.1674337536096573,
          -0.07715342938899994,
          -0.07715342938899994,
          0.05638590082526207,
          0.05638590082526207,
          0.0014442299725487828,
          0.0014442299725487828,
          0.2036556601524353,
          0.2036556601524353,
          -0.1001306027173996,
          -0.1001306027173996,
          -0.14151692390441895,
          -0.45355427265167236,
          0.26870518922805786,
          0.17261044681072235,
          0.1640280932188034,
          0.09715797752141953,
          0.11270608007907867,
          -0.015761269256472588,
          0.039366744458675385,
          -0.2709086537361145,
          -0.01001062709838152,
          0.08856578171253204,
          -0.20405392348766327,
          0.055093757808208466,
          -0.25972333550453186,
          -0.19114886224269867,
          -0.29075172543525696,
          -0.01307936292141676,
          0.10316736251115799,
          -0.04600866138935089,
          -0.08363626152276993,
          0.01280851848423481,
          -0.12193839251995087,
          0.04124504700303078,
          0.14760446548461914,
          0.0556676909327507,
          -0.012682566419243813,
          0.0036520552821457386,
          -0.08244939893484116,
          0.10883534699678421,
          0.03182845190167427,
          0.17363213002681732,
          0.25219693779945374,
          -0.048445746302604675,
          -0.24983906745910645,
          -0.1317683756351471,
          0.08081968873739243,
          -0.1766943633556366,
          0.007203658577054739,
          0.12353828549385071,
          0.01236904226243496,
          -0.20084232091903687,
          -0.010461305268108845,
          -0.21018782258033752,
          -0.030376853421330452,
          -0.09000691026449203,
          0.0903705507516861,
          0.08748987317085266,
          0.0011051539331674576,
          -0.20298148691654205,
          -0.07297734171152115,
          0.02777126431465149,
          -0.02004731260240078,
          -0.02643025666475296,
          -0.152670755982399,
          -0.04916388541460037,
          0.04799077287316322,
          -0.12319006025791168,
          -0.1509810835123062,
          -0.20067325234413147,
          -0.07064127177000046,
          -0.22568872570991516,
          -0.06997428089380264,
          0.1341773271560669,
          -0.1767251342535019,
          -0.33409416675567627,
          0.1342766135931015,
          -0.16751432418823242,
          0.19545210897922516,
          -0.05175115913152695,
          0.048564087599515915,
          -0.11435511708259583,
          -0.24620427191257477,
          -0.12046684324741364,
          -0.27380189299583435,
          -0.19278723001480103,
          -0.39787349104881287,
          -0.25383028388023376,
          0.05738240107893944,
          0.12301470339298248,
          0.5490967035293579,
          -0.06042955443263054,
          0.1509973555803299,
          0.04800644889473915,
          -0.044053371995687485,
          0.09920942783355713,
          -0.1963474005460739,
          -0.1373489648103714,
          0.12093605846166611,
          -0.030083896592259407,
          0.16360485553741455,
          0.08084535598754883,
          -0.12200801819562912,
          0.139139324426651,
          0.09061404317617416,
          -0.3376455008983612,
          -0.02985592745244503,
          0.0704948678612709,
          -0.08394137024879456,
          -0.24763229489326477,
          0.21429143846035004,
          0.0828009843826294,
          -0.09243407845497131,
          0.09340260922908783,
          0.05851558968424797,
          0.12235748022794724,
          0.1807849407196045,
          0.022846411913633347,
          -0.1562882363796234,
          -0.14711853861808777,
          -0.012471157126128674,
          -0.13859984278678894,
          -0.14242050051689148,
          -0.21165414154529572,
          -0.22593635320663452,
          0.23180879652500153,
          0.17058131098747253,
          -0.11651346832513809,
          0.11021832376718521,
          0.21437983214855194,
          0.015923673287034035,
          -0.035409025847911835,
          -0.1290397346019745,
          0.07439699023962021,
          -0.007439940702170134,
          0.10100001096725464,
          -0.011332294903695583,
          -0.06362284719944,
          -0.16162288188934326,
          -0.11912375688552856,
          0.03352837264537811,
          0.19207395613193512,
          -0.028612326830625534,
          0.0795784592628479,
          -0.011570177040994167,
          0.048713941127061844,
          0.13926701247692108,
          0.04543018341064453,
          -0.0349915474653244,
          -0.20061126351356506,
          0.08044789731502533,
          -0.15596215426921844,
          -0.046641964465379715,
          0.14427107572555542,
          -0.007244235370308161,
          0.13008250296115875,
          -0.10340356826782227,
          0.0863850936293602,
          -0.013072626665234566,
          0.12492658197879791,
          0.143321692943573,
          -0.20355331897735596,
          0.208098903298378,
          0.03148253262042999,
          -0.12324284017086029,
          -0.15566353499889374,
          0.29530251026153564,
          0.11096794158220291,
          0.24472945928573608,
          -0.005240412428975105,
          -0.19389715790748596,
          -0.3593941032886505,
          -0.007520223502069712,
          0.13970956206321716,
          -0.03874901309609413,
          -0.15974830090999603,
          -0.16070759296417236,
          0.028640497475862503,
          0.22013844549655914,
          -0.12053275108337402,
          0.06802903115749359,
          -0.23711293935775757,
          0.07610663026571274,
          -0.03629354387521744,
          -0.29231566190719604,
          0.026784747838974,
          -0.1614958941936493,
          0.08310658484697342,
          -0.1309138834476471,
          -0.046375587582588196,
          0.0875982865691185,
          -0.24850934743881226,
          0.11436747014522552,
          0.05521995201706886,
          -0.049043744802474976,
          -0.01088020484894514,
          -0.0841904878616333,
          0.14434342086315155,
          -0.0930638462305069,
          0.019581133499741554,
          -0.005047919694334269,
          -0.03477690741419792,
          0.5946146249771118,
          -0.03751697391271591,
          -0.09794244915246964,
          0.30737683176994324,
          0.15668919682502747,
          -0.014103928580880165,
          -0.028312597423791885,
          0.08349400758743286,
          -0.20024004578590393,
          -0.11697693914175034,
          -0.3434092402458191,
          -0.15358152985572815,
          -0.016660595312714577,
          0.07007277756929398,
          -0.1324392706155777,
          -0.2713928520679474,
          0.12820550799369812,
          0.09727602452039719,
          -0.45814114809036255,
          0.0022862711921334267,
          0.11085133999586105,
          -0.04690250754356384,
          0.02681509405374527,
          -0.07997343689203262,
          0.21704664826393127,
          -0.13707570731639862,
          -0.07026048749685287,
          -0.2150832861661911,
          0.054959848523139954,
          0.026578404009342194,
          0.026474948972463608,
          -0.08354336768388748,
          0.10361421853303909,
          0.2899106442928314,
          0.14697061479091644,
          0.12320064753293991,
          -0.0831712931394577,
          -0.03483741357922554,
          -0.05634889006614685,
          0.07855068892240524,
          -0.09397345781326294,
          -0.1140761449933052,
          0.0026874546892941,
          0.04084671661257744,
          0.04121466726064682,
          -0.08759983628988266,
          -0.17182721197605133,
          0.030885323882102966,
          0.23457591235637665,
          0.0540740042924881,
          0.06352084875106812,
          -0.06808296591043472,
          -0.04821360483765602,
          -0.14403727650642395,
          0.0754430741071701,
          -0.19246384501457214,
          -0.03388819471001625,
          -0.37826505303382874,
          -0.34601250290870667,
          0.14105848968029022,
          -0.0321991853415966,
          -0.023255564272403717,
          -0.06466849893331528,
          0.016658538952469826,
          -0.05622950196266174,
          -0.0036906555760651827,
          0.056553006172180176,
          -0.1754395067691803,
          -0.36567550897598267,
          0.1959754377603531,
          0.09249234199523926,
          -0.3412542939186096,
          -0.138619065284729,
          -0.10909734666347504,
          0.054852135479450226,
          0.03775139898061752,
          -0.14052040874958038,
          -0.21901890635490417,
          0.13090471923351288,
          0.19284385442733765,
          -0.14408308267593384,
          0.0818309336900711,
          -0.005941594485193491,
          0.08469294756650925,
          -0.09730085730552673,
          0.08891010284423828,
          -0.3245552182197571,
          -0.3362034857273102,
          -0.13817116618156433,
          0.15919123589992523,
          0.06843413412570953,
          0.13661165535449982,
          0.15390589833259583,
          -0.05299653857946396,
          0.15734970569610596,
          -0.0986819639801979,
          0.16676883399486542,
          0.04840504750609398,
          -0.06584335118532181,
          -0.10030791908502579,
          0.0014126749010756612,
          0.20079419016838074,
          -0.10580059140920639,
          0.14101460576057434,
          -0.015365839004516602,
          0.14173030853271484,
          0.08375793695449829,
          0.11939568817615509,
          0.05908416584134102,
          0.12199938297271729,
          -0.1388908177614212,
          0.13873928785324097,
          -0.01588023640215397,
          -0.07296197861433029,
          -0.01487966999411583,
          0.10087355971336365,
          -0.050704214721918106,
          0.04602685570716858,
          0.06021469831466675,
          -0.26770246028900146,
          -0.2201932966709137,
          -0.06881936639547348,
          -0.009912552312016487,
          0.10345497727394104,
          0.057848889380693436,
          -0.3420109450817108,
          -0.1881019026041031,
          0.08349254727363586,
          0.13656771183013916,
          -0.02443886548280716,
          0.0030687416438013315,
          -0.015913480892777443,
          -0.09622157365083694,
          -0.18540503084659576,
          -0.019993197172880173,
          -0.10421508550643921,
          -0.048797354102134705,
          -0.1477673500776291,
          -0.23735032975673676,
          -0.02124042436480522,
          -0.15919281542301178,
          -0.0715947151184082
         ],
         "y": [
          -0.08653781563043594,
          0.2207384705543518,
          -0.11936759203672409,
          -0.13926224410533905,
          -0.041114442050457,
          0.09732669591903687,
          0.0041909064166247845,
          -0.02487187832593918,
          0.1625901609659195,
          -0.03410516679286957,
          -0.36660468578338623,
          0.013254365883767605,
          0.1360572725534439,
          0.08616665005683899,
          0.10674341022968292,
          0.03878593444824219,
          -0.2746767997741699,
          0.1768030822277069,
          0.0015974841080605984,
          0.24028772115707397,
          0.12627480924129486,
          -0.156014084815979,
          -0.1878969967365265,
          0.13188140094280243,
          -0.17919810116291046,
          0.012965151108801365,
          0.20392920076847076,
          0.23803655803203583,
          -0.11552934348583221,
          -0.027800200507044792,
          -0.012745993211865425,
          -0.12010294198989868,
          0.043653540313243866,
          -0.14338594675064087,
          0.1223507672548294,
          0.0736667811870575,
          0.08526606112718582,
          0.1137961894273758,
          -0.16277503967285156,
          -0.05083801597356796,
          0.1427972912788391,
          0.04441361874341965,
          -0.24170708656311035,
          -0.10185409337282181,
          0.07742082327604294,
          0.01622791774570942,
          0.08855415135622025,
          0.14534294605255127,
          0.13088250160217285,
          0.10971891134977341,
          0.24469061195850372,
          -0.07602362334728241,
          0.06192929297685623,
          0.2446826845407486,
          0.13618148863315582,
          -0.07523173093795776,
          -0.307011216878891,
          -0.12396243959665298,
          0.07604158669710159,
          0.04879162088036537,
          -0.06873580813407898,
          0.04723510891199112,
          -0.0165418591350317,
          -0.002838052110746503,
          0.032698746770620346,
          -0.09040828049182892,
          -0.036234185099601746,
          -0.09124359488487244,
          0.019681204110383987,
          0.11728283762931824,
          -0.18402333557605743,
          0.039572205394506454,
          0.027733316645026207,
          -0.04211750254034996,
          -0.32024163007736206,
          0.07438675314188004,
          0.2056298851966858,
          -0.1420126110315323,
          -0.0964241772890091,
          0.06931943446397781,
          -0.012940182350575924,
          0.19892311096191406,
          -0.004251344129443169,
          -0.0324486680328846,
          -0.12625522911548615,
          0.006048837210983038,
          0.20853951573371887,
          -0.024434050545096397,
          0.07930038869380951,
          0.007556649390608072,
          0.006200977601110935,
          -0.035363033413887024,
          0.052904702723026276,
          -0.08192157745361328,
          0.06851310282945633,
          -0.0012027142802253366,
          -0.061298392713069916,
          -0.045404545962810516,
          -0.05661657452583313,
          0.0429488942027092,
          -0.08496096730232239,
          -0.10752786695957184,
          -0.052956972271203995,
          0.06666668504476547,
          -0.029360992833971977,
          0.03356721252202988,
          -0.04016456753015518,
          -0.13026908040046692,
          -0.14708559215068817,
          0.0260233823210001,
          -0.017939317971467972,
          -0.003995466977357864,
          0.2195931226015091,
          0.26491090655326843,
          -0.11543329805135727,
          -0.07842778414487839,
          -0.08773160725831985,
          0.20697323977947235,
          0.1617475152015686,
          0.14255864918231964,
          0.06803645938634872,
          0.02668166533112526,
          0.058937087655067444,
          0.1803237348794937,
          -0.04947563633322716,
          0.05912932753562927,
          0.08968473225831985,
          0.05226515978574753,
          -0.017801115289330482,
          -0.21779708564281464,
          0.0773896649479866,
          0.02505228854715824,
          -0.06791695952415466,
          0.028200052678585052,
          -0.21306107938289642,
          0.39302918314933777,
          -0.05030112713575363,
          -0.05859818309545517,
          0.029729103669524193,
          -0.11548104882240295,
          0.47472697496414185,
          0.04018175229430199,
          0.09650109708309174,
          -0.03289634361863136,
          0.24760936200618744,
          -0.06815505772829056,
          0.5022812485694885,
          -0.2342405915260315,
          -0.0010087471455335617,
          0.49527856707572937,
          -0.013185261748731136,
          -0.1028362363576889,
          -0.07197384536266327,
          -0.02891751565039158,
          0.043102361261844635,
          -0.06186576187610626,
          -0.08377836644649506,
          -0.01785000041127205,
          0.24436968564987183,
          0.17330972850322723,
          0.11117185652256012,
          0.5176817178726196,
          0.06975267827510834,
          -0.08426471799612045,
          0.002399749355390668,
          0.007232949137687683,
          -0.022836489602923393,
          0.14060117304325104,
          0.11183565855026245,
          0.16611173748970032,
          0.10231958329677582,
          0.09072359651327133,
          0.011635440401732922,
          0.05161185935139656,
          -0.10823755711317062,
          0.08658723533153534,
          -0.08482783287763596,
          -0.09545772522687912,
          0.1353367418050766,
          0.015063820406794548,
          0.16869136691093445,
          0.02319190464913845,
          0.014476179145276546,
          -0.006021752953529358,
          0.04219784215092659,
          0.021678395569324493,
          0.2996180057525635,
          0.5333406329154968,
          0.5244401097297668,
          0.06863890588283539,
          0.16607901453971863,
          -0.00010528018174227327,
          0.055679801851511,
          -0.042739562690258026,
          0.2951367199420929,
          0.07632596045732498,
          -0.028400566428899765,
          -0.1340329796075821,
          -0.24517051875591278,
          0.014888795092701912,
          -0.01994677633047104,
          0.23289430141448975,
          -0.08119376003742218,
          0.017925679683685303,
          -0.09396769106388092,
          -0.11709180474281311,
          -0.17168235778808594,
          0.05694850534200668,
          -0.015510638244450092,
          0.2445242702960968,
          0.24272696673870087,
          -0.0008212833199650049,
          -0.10193642973899841,
          0.16308850049972534,
          0.20374611020088196,
          0.05354079604148865,
          -0.078968845307827,
          -0.13422995805740356,
          0.030458146706223488,
          0.06401198357343674,
          0.08598960936069489,
          -0.0035339724272489548,
          -0.047016795724630356,
          -0.12013614177703857,
          -0.09904707223176956,
          0.03264658898115158,
          -0.06178855523467064,
          0.06313662230968475,
          0.03817383199930191,
          0.010689985007047653,
          -0.05064363405108452,
          0.11161745339632034,
          -0.005799826700240374,
          0.0365544930100441,
          0.14233563840389252,
          0.3190757930278778,
          -0.07655128091573715,
          0.14691102504730225,
          0.07810312509536743,
          -0.049659933894872665,
          0.029179906472563744,
          -0.19631928205490112,
          0.01496619638055563,
          0.0032052844762802124,
          0.11299244314432144,
          -0.12431728839874268,
          0.08826501667499542,
          0.07469433546066284,
          0.038396526128053665,
          0.1082976907491684,
          -0.045872386544942856,
          0.010338117368519306,
          0.12906593084335327,
          0.3503605127334595,
          0.05566257983446121,
          0.24915823340415955,
          0.21729275584220886,
          -0.12445396929979324,
          0.17869393527507782,
          -0.043586838990449905,
          -0.058487601578235626,
          -0.0959862470626831,
          -0.057992249727249146,
          0.08802725374698639,
          0.03789607062935829,
          0.11284284293651581,
          -0.20789462327957153,
          0.15915843844413757,
          -0.027820775285363197,
          -0.08168738335371017,
          0.24038556218147278,
          0.2735626697540283,
          0.2094767838716507,
          0.08987793326377869,
          0.05544285848736763,
          0.03080250881612301,
          -0.03419690206646919,
          0.021513354033231735,
          0.1133592426776886,
          0.0999656543135643,
          -0.3236415684223175,
          0.02966928854584694,
          -0.341843843460083,
          -0.10954678058624268,
          -0.10406994074583054,
          0.10705555975437164,
          0.1462142914533615,
          -0.24861790239810944,
          -0.1513788402080536,
          -0.16429568827152252,
          -0.16835123300552368,
          -0.032137736678123474,
          0.08904293179512024,
          0.1433231234550476,
          0.04316471144556999,
          -0.18526150286197662,
          -0.0464090071618557,
          -0.008055013604462147,
          0.07126949727535248,
          -0.24285399913787842,
          -0.009514537639915943,
          -0.060493964701890945,
          0.011931605637073517,
          0.09177622199058533,
          -0.11637342721223831,
          -0.024733543395996094,
          -0.009788635186851025,
          0.09078782051801682,
          0.09157431870698929,
          0.1302882730960846,
          -0.00731836911290884,
          -0.07854794710874557,
          -0.016237488016486168,
          -0.10368140041828156,
          0.1521386355161667,
          0.11065031588077545,
          -0.04815273359417915,
          -0.18342681229114532,
          -0.1144145280122757,
          0.07885868847370148,
          -0.06589581072330475,
          0.07962239533662796,
          0.11037400364875793,
          -0.043385155498981476,
          0.11071307957172394,
          0.1142854243516922,
          0.15386632084846497,
          0.006115621421486139,
          0.03916243091225624,
          0.02687191404402256,
          -0.07503390312194824,
          0.021161720156669617,
          0.015763448551297188,
          -0.1813735067844391,
          -0.08612752705812454,
          -0.3687322735786438,
          -0.21186403930187225,
          0.11362111568450928,
          0.048704009503126144,
          0.042156655341386795,
          0.0071999914944171906,
          0.11847410351037979,
          0.05048052966594696,
          0.25106993317604065,
          0.3968592584133148,
          -0.02928272634744644,
          -0.10536458343267441,
          -0.15562492609024048,
          -0.06893239170312881,
          -0.025991985574364662,
          -0.3021974265575409,
          -0.06151272729039192,
          0.00899185985326767,
          -0.14326833188533783,
          0.09101511538028717,
          -0.2023637592792511,
          -0.060940079391002655,
          -0.10286346077919006,
          0.06353183835744858,
          -0.041043974459171295,
          -0.1537805199623108,
          0.16025134921073914,
          -0.20502690970897675,
          0.0072431862354278564,
          -0.2232266664505005,
          -0.08457782864570618,
          -0.03851350024342537,
          -0.08235888183116913,
          0.13840997219085693,
          -0.05159061774611473,
          -0.04599388688802719,
          0.09470265358686447,
          0.08816506713628769,
          0.16342708468437195,
          0.07859697937965393,
          0.1962701380252838,
          0.06325475126504898,
          0.3482658565044403,
          -0.13982123136520386,
          -0.20195616781711578,
          -0.18782739341259003,
          0.007020278368145227,
          0.1641768217086792,
          0.2145509272813797,
          -0.045459549874067307,
          0.15233343839645386,
          0.13721376657485962,
          -0.01085430197417736,
          -0.002800146583467722,
          -0.03335117921233177,
          0.0885879173874855,
          0.07999585568904877,
          0.1033477708697319,
          -0.0308847613632679,
          0.022993631660938263,
          -0.09779854118824005,
          0.3881351351737976,
          0.0711287334561348,
          -0.12005744129419327,
          -0.05198806896805763,
          0.05006261542439461,
          -0.18399573862552643,
          0.028636138886213303,
          -0.21058455109596252,
          0.030864620581269264,
          0.07143250852823257,
          0.024613037705421448,
          -0.242411807179451,
          -0.13687655329704285,
          -0.2532159984111786,
          0.185756653547287,
          0.04399291053414345,
          -0.12228979915380478,
          0.08281511813402176,
          0.08705173432826996,
          0.14949721097946167,
          -0.13745886087417603,
          -0.04818212613463402,
          0.10494469851255417,
          0.035287924110889435,
          0.12780256569385529,
          0.0028312604408711195,
          0.19619695842266083,
          -0.17171983420848846,
          0.07214266061782837,
          0.041190024465322495,
          -0.16782638430595398,
          0.1470104455947876,
          -0.1569947749376297,
          0.18166038393974304,
          0.24854204058647156,
          -0.13507264852523804,
          0.01431542169302702,
          0.16356956958770752,
          -0.10250825434923172,
          -0.24075472354888916,
          0.03319862112402916,
          0.16905991733074188,
          -0.03457602858543396,
          0.11157771944999695,
          0.30001577734947205,
          0.2063242346048355,
          0.02896849997341633,
          0.016873091459274292,
          -0.09924252331256866,
          -0.007347272243350744,
          -0.08208651095628738,
          -0.1973050832748413,
          -0.07817313075065613,
          0.16722218692302704,
          -0.12798313796520233,
          0.12275367975234985,
          0.15202690660953522,
          -0.07817966490983963,
          -0.11805135756731033,
          0.00986188743263483,
          0.10552643984556198,
          -0.22324897348880768,
          0.05805724114179611,
          0.0709972158074379,
          0.13561826944351196,
          0.08299456536769867,
          -0.014103231020271778,
          0.040804192423820496,
          0.03556639328598976,
          0.186980202794075,
          -0.16568739712238312,
          -0.06424029916524887,
          0.12232175469398499,
          0.03531580790877342,
          -0.04526378959417343,
          0.06456714123487473,
          0.052620742470026016,
          0.20306380093097687,
          0.18253977596759796,
          0.40086498856544495,
          0.005965256132185459,
          0.0979694277048111,
          0.10594943165779114,
          0.055786482989788055,
          0.055786482989788055,
          0.055786482989788055,
          0.10976166278123856,
          -0.16854029893875122,
          -0.10496336221694946,
          -0.07442078739404678,
          -0.023988420143723488,
          0.05097072198987007,
          0.10301490873098373,
          0.14095526933670044,
          -0.07039622962474823,
          0.09799708425998688,
          0.10949873924255371,
          0.22952596843242645,
          0.11683789640665054,
          0.03761657699942589,
          0.11400189995765686,
          -0.04685677960515022,
          0.02441963367164135,
          0.19429892301559448,
          0.16038201749324799,
          0.01154177077114582,
          -0.028133995831012726,
          -0.030996600165963173,
          0.1716296225786209,
          -0.010436603799462318,
          0.0697392076253891,
          0.005334379151463509,
          0.009971333667635918,
          0.034767575562000275,
          0.13125310838222504,
          -0.08597289770841599,
          -0.0853949785232544,
          -0.20593424141407013,
          -0.038398511707782745,
          -0.07653413712978363,
          0.24548271298408508,
          -0.11357638984918594,
          0.06531855463981628,
          -0.026492776349186897,
          -0.14742833375930786,
          -0.43145638704299927,
          -0.06624807417392731,
          -0.07304287701845169,
          -0.09831919521093369,
          -0.39800745248794556,
          -0.15445303916931152,
          0.06531257927417755,
          -0.2343677580356598,
          0.09906833618879318,
          0.2369813174009323,
          -0.08143387734889984,
          -0.1169804111123085,
          -0.07953944802284241,
          -0.0591818168759346,
          -0.22445723414421082,
          -0.10008664429187775,
          -0.09398622065782547,
          -0.05836160480976105,
          -0.08853225409984589,
          0.13917073607444763,
          -0.06607209891080856,
          -0.00683822575956583,
          0.04954363778233528,
          0.012024899944663048,
          -0.060648202896118164,
          -0.10148242861032486,
          -0.08000914007425308,
          0.0160917229950428,
          -0.05756347253918648,
          0.275654137134552,
          0.09044412523508072,
          -0.0002548139018472284,
          -0.02957204543054104,
          0.04202454909682274,
          -0.007083025760948658,
          0.1262899935245514,
          0.140860453248024,
          0.3748219311237335,
          -0.05599921569228172,
          0.03200799971818924,
          0.24062243103981018,
          0.14116628468036652,
          0.15716522932052612,
          -0.07228437811136246,
          -0.1524987518787384,
          0.028560074046254158,
          0.055051423609256744,
          0.15957194566726685,
          0.1777544766664505,
          -0.052613724023103714,
          0.0033974081743508577,
          0.07870911806821823,
          -0.033681470900774,
          -0.0014292533742263913,
          0.13149331510066986,
          0.11716893315315247,
          0.013005457818508148,
          0.04938308894634247,
          -0.1429603397846222,
          -0.006120489444583654,
          -0.08149895071983337,
          -0.06507764756679535,
          0.11281857639551163,
          -0.08094573020935059,
          -0.08026576042175293,
          0.024312522262334824,
          0.05123327299952507,
          0.04138606786727905,
          0.16569644212722778,
          -0.0769117921590805,
          0.09084132313728333,
          -0.10153955966234207,
          -0.17700427770614624,
          -0.3900136947631836,
          -0.0564894862473011,
          -0.021108541637659073,
          0.1819460391998291,
          0.01498329732567072,
          -0.025849170982837677,
          0.21671167016029358,
          -0.07418853044509888,
          -0.015851113945245743,
          0.025479769334197044,
          -0.02404060773551464,
          0.4152647852897644,
          0.17610003054141998,
          -0.1754426211118698,
          0.10222985595464706,
          0.14372922480106354,
          0.0625341460108757,
          -0.06812229752540588,
          -0.0425158366560936,
          0.07673655450344086,
          0.15262183547019958,
          0.23385627567768097,
          0.06380968540906906,
          -0.21236257255077362,
          0.03323117643594742,
          -0.08246084302663803,
          0.04994359612464905,
          -0.03943870961666107,
          -0.17565889656543732,
          0.17971765995025635,
          -0.13251125812530518,
          0.05026860535144806,
          -0.11386812478303909,
          -0.05444607138633728,
          0.06708954274654388,
          -0.12702779471874237,
          0.09658563882112503,
          0.06061819940805435,
          -0.1726638227701187,
          0.000025519195332890376,
          -0.09186168760061264,
          0.10081563144922256,
          0.042270176112651825,
          0.05846158415079117,
          0.007347640115767717,
          -0.02061953768134117,
          0.07937342673540115,
          -0.24420258402824402,
          0.005837113596498966,
          -0.13502104580402374,
          0.18219780921936035,
          0.26906830072402954,
          0.11845462024211884,
          0.044880643486976624,
          0.04789663106203079,
          0.060641732066869736,
          -0.0015466471668332815,
          0.1869436651468277,
          0.2763543128967285,
          0.12505249679088593,
          0.12416169047355652,
          0.05651112645864487,
          0.014794958755373955,
          -0.10640306025743484,
          0.16879327595233917,
          0.06086944043636322,
          -0.12358298897743225,
          0.17717021703720093,
          0.041625335812568665,
          -0.09790440648794174,
          -0.23248769342899323,
          -0.014432172290980816,
          0.13530626893043518,
          -0.11701413989067078,
          0.16688501834869385,
          0.12834829092025757,
          0.03673077002167702,
          -0.23368071019649506,
          0.09346984326839447,
          -0.19299232959747314,
          -0.20115476846694946,
          0.08380305022001266,
          0.027675680816173553,
          0.10980504751205444,
          -0.0726119875907898,
          0.021328752860426903,
          0.05726122111082077,
          -0.01808706670999527,
          -0.12063159793615341,
          -0.10876616090536118,
          0.040790438652038574,
          -0.02536257728934288,
          0.16753052175045013,
          0.07184766232967377,
          -0.14161163568496704,
          0.1625121384859085,
          -0.14473369717597961,
          -0.1837485134601593,
          0.27340903878211975,
          0.0445321649312973,
          0.1504461020231247,
          -0.044639602303504944,
          0.03156708925962448,
          -0.04402780160307884,
          0.07193201035261154,
          0.12267324328422546,
          -0.03192218765616417,
          0.031078092753887177,
          -0.010124729946255684,
          -0.185652956366539,
          -0.12549450993537903,
          0.13862359523773193,
          0.029920529574155807,
          0.07226207852363586,
          -0.08935213088989258,
          0.06230686604976654,
          0.08310738205909729,
          0.026908140629529953,
          -0.03938870131969452,
          0.021151570603251457,
          -0.0687236487865448,
          -0.0331609733402729,
          -0.04112471640110016,
          0.1349148005247116,
          -0.07597970962524414,
          -0.023525429889559746,
          -0.07288752496242523,
          0.06517575681209564,
          0.02082003653049469,
          0.28048452734947205,
          0.06476329267024994,
          -0.0153333880007267,
          0.11018089950084686,
          0.04351518303155899,
          0.1512928307056427,
          0.1547759473323822,
          0.0199554692953825,
          0.05425431206822395,
          -0.09364175796508789,
          -0.006272974889725447,
          0.08717095851898193,
          -0.027099771425127983,
          -0.06660689413547516,
          0.035182975232601166,
          -0.19344812631607056,
          -0.29854267835617065,
          0.18230129778385162,
          -0.18478406965732574,
          0.266279399394989,
          0.10164286196231842,
          -0.35244786739349365,
          -0.16797828674316406,
          0.1512928307056427,
          -0.12952622771263123,
          0.21389734745025635,
          -0.17656809091567993,
          0.05543898046016693,
          0.047359295189380646,
          -0.013292999006807804,
          0.07257836312055588,
          -0.06354314833879471,
          0.11391782760620117,
          0.1772506982088089,
          -0.13930651545524597,
          0.043918877840042114,
          -0.048504337668418884,
          0.026021769270300865,
          0.09852485358715057,
          0.020253101363778114,
          -0.1228494942188263,
          -0.030867749825119972,
          -0.05461280792951584,
          -0.03699243813753128,
          -0.12640292942523956,
          0.1071910560131073,
          0.18637700378894806,
          -0.23845364153385162,
          -0.3301917016506195,
          -0.24921171367168427,
          0.31545355916023254,
          -0.04364056512713432,
          0.15621158480644226,
          -0.16226184368133545,
          0.0008740819175727665,
          -0.13784269988536835,
          -0.04339553415775299,
          0.025875164195895195,
          0.12437225878238678,
          0.04727257788181305,
          0.17214147746562958,
          0.1604497879743576,
          -0.09087471663951874,
          -0.15971897542476654,
          -0.32374125719070435,
          0.05704522132873535,
          0.10606837272644043,
          -0.08275414258241653,
          0.004910404793918133,
          -0.07613896578550339,
          -0.1675557941198349,
          0.0733148530125618,
          0.029836049303412437,
          0.010985657572746277,
          -0.05388134345412254,
          0.17783372104167938,
          0.16956284642219543,
          0.1474602222442627,
          -0.06278382241725922,
          0.30647924542427063,
          0.3827456831932068,
          -0.14051243662834167,
          0.14621110260486603,
          0.1220170259475708,
          0.05789659544825554,
          0.037669163197278976,
          -0.1500004678964615,
          0.08874144405126572,
          0.04809052497148514,
          -0.031571146100759506,
          -0.026561181992292404,
          -0.05562848597764969,
          0.1208660677075386,
          0.1506752371788025,
          0.19312508404254913,
          0.1422567367553711,
          0.08282795548439026,
          0.15130339562892914,
          -0.023392926901578903,
          0.013086420483887196,
          0.05990529805421829,
          -0.1944773942232132,
          -0.11617923527956009,
          -0.15766052901744843,
          0.15621790289878845,
          0.11297939717769623,
          -0.10452589392662048,
          0.0168312881141901,
          -0.14538471400737762,
          -0.07393987476825714,
          0.07304488867521286,
          0.27595633268356323,
          -0.09474322199821472,
          0.15843965113162994,
          0.3331911563873291,
          -0.10493342578411102,
          0.11983919888734818,
          -0.058628663420677185,
          0.09749153256416321,
          0.08135481923818588,
          0.35301610827445984,
          -0.04024171456694603,
          -0.26620182394981384,
          0.1562245637178421,
          -0.12580032646656036,
          0.014194821938872337,
          -0.008951272815465927,
          0.11780962347984314,
          0.32216745615005493,
          -0.01620314083993435,
          0.03954701870679855,
          -0.030113590881228447,
          -0.13757389783859253,
          -0.07298994064331055,
          0.07214982062578201,
          0.21254420280456543,
          0.10366378724575043,
          0.08130292594432831,
          -0.2137252688407898,
          -0.020990096032619476,
          -0.13934913277626038,
          0.13583286106586456,
          -0.10857605189085007,
          0.09307556599378586,
          -0.23320640623569489,
          -0.17702911794185638,
          -0.038000740110874176,
          -0.05741361901164055,
          -0.050657469779253006,
          -0.20105911791324615,
          -0.20105911791324615,
          0.07357974350452423,
          0.07357974350452423,
          0.008009436540305614,
          0.008009436540305614,
          0.1060086041688919,
          0.1060086041688919,
          0.21627935767173767,
          0.21627935767173767,
          0.025413377210497856,
          0.025413377210497856,
          0.04509735479950905,
          0.04509735479950905,
          -0.2155047506093979,
          -0.2155047506093979,
          -0.056325770914554596,
          -0.056325770914554596,
          0.03366786241531372,
          -0.08056618273258209,
          -0.014241700060665607,
          -0.014241700060665607,
          0.011204802431166172,
          0.011204802431166172,
          -0.19683769345283508,
          -0.19683769345283508,
          -0.18614044785499573,
          -0.18614044785499573,
          -0.16691096127033234,
          -0.16691096127033234,
          0.041137199848890305,
          0.3621255159378052,
          -0.3022997975349426,
          0.07866503298282623,
          0.04502612724900246,
          0.08193843811750412,
          -0.006639434490352869,
          -0.039358947426080704,
          0.08113249391317368,
          -0.17593200504779816,
          -0.2881143391132355,
          -0.016242913901805878,
          0.008616247214376926,
          -0.0520053468644619,
          0.1915733963251114,
          0.22576157748699188,
          0.12082218378782272,
          0.12425227463245392,
          -0.10880400240421295,
          -0.07921183854341507,
          -0.16331671178340912,
          0.12104253470897675,
          -0.1645279824733734,
          0.18760961294174194,
          -0.04280199483036995,
          -0.05004066973924637,
          -0.11432681977748871,
          0.08223023265600204,
          -0.09052067995071411,
          -0.05888069048523903,
          0.012782305479049683,
          0.011596841737627983,
          0.006511598359793425,
          -0.12607356905937195,
          -0.06702814251184464,
          0.03315738961100578,
          -0.16622106730937958,
          0.01740291714668274,
          0.10105949640274048,
          0.09027344733476639,
          0.18671415746212006,
          0.3756502866744995,
          -0.009011908434331417,
          0.1493564248085022,
          0.07182644307613373,
          0.1420847773551941,
          0.016159692779183388,
          0.27808937430381775,
          -0.04988046735525131,
          -0.010862606577575207,
          -0.13552230596542358,
          -0.14642152190208435,
          0.04714253172278404,
          0.057460758835077286,
          -0.26193735003471375,
          -0.12448250502347946,
          -0.0668804869055748,
          0.131947323679924,
          0.048479124903678894,
          0.27909499406814575,
          0.2616962492465973,
          0.1611953228712082,
          0.08136007189750671,
          -0.012246090918779373,
          0.13451296091079712,
          0.18765321373939514,
          0.116783507168293,
          0.021388903260231018,
          0.05474789813160896,
          0.07115113735198975,
          0.12370029836893082,
          -0.020418457686901093,
          0.04482550546526909,
          -0.011610675603151321,
          0.14477898180484772,
          -0.03253842517733574,
          0.06476081162691116,
          -0.017881298437714577,
          -0.004983414895832539,
          0.01753726601600647,
          0.31064924597740173,
          0.1430322527885437,
          -0.15930946171283722,
          0.07765965163707733,
          0.07476171851158142,
          -0.08119449764490128,
          0.04346751421689987,
          -0.2775256037712097,
          -0.03721710294485092,
          -0.004235956817865372,
          0.0033476238604635,
          -0.02985110506415367,
          -0.008157302625477314,
          -0.17074207961559296,
          -0.05622880533337593,
          -0.2883044183254242,
          0.17363129556179047,
          0.17676123976707458,
          -0.1037115529179573,
          -0.3755316734313965,
          -0.030750559642910957,
          0.10353893041610718,
          -0.014348015189170837,
          -0.09186970442533493,
          0.0328705757856369,
          -0.007720549125224352,
          -0.07193004339933395,
          -0.000988022075034678,
          -0.21791674196720123,
          0.1729266196489334,
          -0.030301960185170174,
          -0.04840831086039543,
          0.11113012582063675,
          -0.1688539832830429,
          0.017738396301865578,
          0.026381878182291985,
          -0.023460496217012405,
          -0.27256280183792114,
          -0.050187066197395325,
          -0.042747415602207184,
          -0.1372494399547577,
          -0.02173415757715702,
          -0.03818298876285553,
          -0.006584574934095144,
          -0.00976476725190878,
          -0.05996246263384819,
          0.00956984143704176,
          0.20239220559597015,
          -0.11180833727121353,
          0.06917741149663925,
          0.07664581388235092,
          -0.010653994977474213,
          -0.04048503562808037,
          -0.020654821768403053,
          -0.016586482524871826,
          -0.009062687866389751,
          0.0836905688047409,
          -0.05061233043670654,
          0.017733607441186905,
          0.15222321450710297,
          -0.1227719634771347,
          0.11168188601732254,
          0.07020607590675354,
          0.1532934010028839,
          -0.0014930645702406764,
          -0.032996922731399536,
          -0.13795797526836395,
          -0.018155567348003387,
          -0.23325514793395996,
          -0.07619801163673401,
          -0.10575639456510544,
          -0.22656415402889252,
          -0.08908428251743317,
          -0.19979961216449738,
          -0.12971463799476624,
          -0.11228892207145691,
          -0.05656638741493225,
          -0.014572168700397015,
          -0.033816203474998474,
          -0.17538601160049438,
          -0.43212947249412537,
          -0.05921773612499237,
          0.05255812034010887,
          -0.09112449735403061,
          -0.007601703051477671,
          0.06496548652648926,
          0.03013596311211586,
          0.09881482273340225,
          0.11555607616901398,
          -0.12377539277076721,
          0.016605276614427567,
          -0.10917714983224869,
          -0.06610211730003357,
          -0.14233162999153137,
          0.11637099832296371,
          0.05768635496497154,
          -0.15711425244808197,
          0.06082066521048546,
          0.062089383602142334,
          -0.01941455528140068,
          -0.09186767786741257,
          0.17859232425689697,
          0.23942184448242188,
          0.028718577697873116,
          -0.09990371763706207,
          0.10998609662055969,
          -0.36359307169914246,
          0.19297195971012115,
          0.0853395089507103,
          -0.08682723343372345,
          0.05772574990987778,
          0.13728249073028564,
          0.2689403295516968,
          -0.08657411485910416,
          -0.14758440852165222,
          0.15478579699993134,
          -0.10246540606021881,
          -0.04447970166802406,
          -0.13727286458015442,
          -0.060724031180143356,
          -0.11205651611089706,
          -0.012429393827915192,
          0.030942602083086967,
          0.24596846103668213,
          -0.1319001019001007,
          -0.19605137407779694,
          0.035512711852788925,
          -0.03136115521192551,
          -0.07482679188251495,
          -0.06533306837081909,
          -0.05471092835068703,
          -0.1578068733215332,
          0.1056455448269844,
          0.004970251582562923,
          -0.03716442734003067,
          -0.28824520111083984,
          -0.04749879986047745,
          -0.10569895803928375,
          0.06804881989955902,
          -0.27447396516799927,
          0.19135357439517975,
          -0.05985141545534134,
          -0.02932160161435604,
          -0.08870752155780792,
          0.0330735482275486,
          0.05531095340847969,
          -0.019153259694576263,
          -0.021076960489153862,
          0.0864320918917656,
          -0.0835881158709526,
          0.05760640650987625,
          0.16508571803569794,
          0.11492948979139328,
          -0.10799223929643631,
          -0.2677192687988281,
          -0.13105972111225128,
          0.0748138502240181,
          -0.03136060759425163,
          0.21675977110862732,
          -0.04810749739408493,
          0.048104315996170044,
          -0.0249714907258749,
          -0.06383005529642105,
          0.3666013479232788,
          -0.08274856209754944,
          -0.37035611271858215,
          0.1421491652727127,
          0.0016199183883145452,
          0.028183169662952423,
          0.1158502921462059,
          -0.11656908690929413,
          -0.011120027862489223,
          -0.010997630655765533,
          0.07455173879861832,
          -0.00929040927439928,
          0.016041824594140053,
          0.2257182002067566,
          -0.2404482066631317,
          0.06668490916490555,
          0.02405497618019581,
          -0.17197756469249725,
          -0.07688731700181961,
          0.05488727614283562,
          0.02744508907198906,
          0.04185795038938522,
          0.16575725376605988,
          -0.1281672716140747,
          0.004551006946712732,
          -0.1009761169552803,
          0.24794918298721313,
          -0.011340736411511898,
          0.05006210505962372,
          0.09752295911312103,
          -0.002364420099183917,
          -0.1514049768447876,
          -0.04848548024892807,
          -0.25863704085350037,
          0.11580774933099747,
          -0.46834373474121094,
          -0.2332308441400528,
          -0.1516866683959961,
          -0.08478885889053345,
          0.08824621886014938,
          -0.16837425529956818,
          0.10547154396772385,
          -0.06959893554449081,
          -0.03411687910556793,
          -0.11974208801984787,
          0.04380780830979347,
          -0.10154568403959274,
          -0.18427973985671997,
          -0.17204202711582184,
          -0.14020246267318726,
          -0.0039428831078112125,
          -0.2632308900356293,
          0.023791437968611717,
          0.08297917991876602,
          -0.1876731663942337,
          0.20818938314914703,
          -0.09526074677705765,
          -0.034771814942359924,
          -0.06308925151824951,
          -0.05020279809832573,
          -0.12822400033473969,
          -0.10595016926527023,
          0.04531591758131981,
          -0.015448243357241154,
          -0.053958095610141754,
          -0.008448445238173008,
          -0.1217895895242691,
          0.060665570199489594,
          -0.04034053906798363,
          -0.1872149109840393,
          -0.13295666873455048,
          0.024523751810193062,
          -0.02680656686425209,
          -0.16757570207118988,
          -0.1533319652080536,
          -0.19542740285396576,
          0.061390526592731476,
          -0.045663949102163315,
          0.03611668944358826,
          -0.06035810336470604,
          -0.06519095599651337,
          0.038899894803762436,
          -0.40642496943473816,
          -0.12911058962345123,
          0.06255380809307098,
          0.03992946073412895,
          0.07743624597787857,
          0.06164992228150368,
          0.05595230683684349,
          0.08089620620012283,
          -0.1224430501461029
         ],
         "z": [
          -0.023531442508101463,
          -0.0013816091232001781,
          0.06226811558008194,
          0.015279890038073063,
          0.014734822325408459,
          -0.025204205885529518,
          0.01873268187046051,
          0.19437193870544434,
          0.12664353847503662,
          0.19846123456954956,
          -0.09906446188688278,
          -0.13105258345603943,
          0.015493624843657017,
          0.18811093270778656,
          0.09251832962036133,
          -0.19658881425857544,
          -0.11510986089706421,
          -0.2709052860736847,
          -0.1260494589805603,
          0.10939250886440277,
          -0.06699021905660629,
          0.03620963916182518,
          0.022221621125936508,
          -0.10037972778081894,
          0.06984677165746689,
          -0.1252511739730835,
          -0.13724371790885925,
          0.041920628398656845,
          0.22166363894939423,
          0.16585026681423187,
          -0.07923149317502975,
          0.28305795788764954,
          -0.012399207800626755,
          0.014845587313175201,
          -0.08997916430234909,
          0.1961449384689331,
          0.14364184439182281,
          -0.051310136914253235,
          0.0428646057844162,
          0.03823389112949371,
          -0.0036773309111595154,
          -0.08813507854938507,
          -0.05045364052057266,
          -0.15794408321380615,
          -0.05364428833127022,
          0.024651577696204185,
          0.01742655225098133,
          -0.06652148813009262,
          -0.09049402922391891,
          0.014948862604796886,
          -0.013433135114610195,
          -0.026219863444566727,
          0.09909777343273163,
          0.05803869292140007,
          -0.10795128345489502,
          -0.022114302963018417,
          -0.036862872540950775,
          0.06539929658174515,
          0.10638099163770676,
          -0.13015177845954895,
          -0.08638853579759598,
          0.027547504752874374,
          -0.005029401741921902,
          -0.08678454905748367,
          0.0617130771279335,
          -0.006080626975744963,
          -0.1916048526763916,
          -0.11369980126619339,
          -0.07025939226150513,
          -0.07579413801431656,
          -0.13567082583904266,
          0.0997130274772644,
          0.05932367220520973,
          -0.015913410112261772,
          -0.2919778525829315,
          0.027832837775349617,
          -0.0035325451754033566,
          0.12981611490249634,
          -0.007274724543094635,
          0.09763205796480179,
          0.2715582251548767,
          -0.19110293686389923,
          -0.0509999580681324,
          0.03206983953714371,
          0.05271496623754501,
          -0.047086648643016815,
          -0.12909522652626038,
          0.1388673037290573,
          -0.02785203419625759,
          0.03725119307637215,
          0.011174662038683891,
          0.2635827362537384,
          0.08694279193878174,
          0.2808647155761719,
          0.03319928050041199,
          0.005151079967617989,
          -0.11124872416257858,
          0.06457400321960449,
          0.06213079020380974,
          0.02523929998278618,
          -0.04721252620220184,
          0.06197614222764969,
          -0.03525100275874138,
          -0.005591152235865593,
          0.027140937745571136,
          -0.05075734853744507,
          -0.050012893974781036,
          0.030113132670521736,
          0.1559573858976364,
          0.1178465336561203,
          0.17201854288578033,
          -0.038353096693754196,
          -0.021202292293310165,
          -0.19699692726135254,
          0.03510245308279991,
          0.0322691947221756,
          -0.19819115102291107,
          0.08124908059835434,
          0.10816402733325958,
          0.10219505429267883,
          0.07577680796384811,
          0.1401652991771698,
          0.13058742880821228,
          -0.1830051839351654,
          -0.009855503216385841,
          -0.030678240582346916,
          -0.022362984716892242,
          0.03047330118715763,
          0.09421601891517639,
          -0.3178648352622986,
          -0.18676139414310455,
          -0.024985715746879578,
          -0.04612699896097183,
          0.10457843542098999,
          0.422249436378479,
          -0.1922159194946289,
          -0.11300400644540787,
          -0.1338949054479599,
          -0.03842707723379135,
          -0.085306316614151,
          -0.1700005680322647,
          -0.05284091457724571,
          0.0005209410446695983,
          -0.261908620595932,
          0.007513557095080614,
          -0.01961570233106613,
          -0.20088671147823334,
          0.041540078818798065,
          0.14838512241840363,
          -0.1972094476222992,
          0.06775987893342972,
          0.09009998291730881,
          0.18121153116226196,
          -0.025883719325065613,
          -0.051460400223731995,
          -0.07502566277980804,
          -0.11169347912073135,
          -0.08655460923910141,
          -0.044561248272657394,
          0.15709055960178375,
          0.07238291949033737,
          -0.13618707656860352,
          -0.2967155873775482,
          0.048232078552246094,
          -0.08059646934270859,
          0.012113395147025585,
          -0.06297814100980759,
          -0.10275138914585114,
          0.017398934811353683,
          0.04612332582473755,
          0.05706416442990303,
          0.034481801092624664,
          0.3602358102798462,
          0.10769323259592056,
          0.07618231326341629,
          0.012627762742340565,
          -0.11177131533622742,
          -0.01282811351120472,
          0.04071326553821564,
          0.18390104174613953,
          -0.015975939109921455,
          -0.005810752511024475,
          0.056962065398693085,
          0.049485839903354645,
          0.08155254274606705,
          -0.09898371994495392,
          -0.14201129972934723,
          -0.22005030512809753,
          -0.19650794565677643,
          0.09606443345546722,
          0.07594157755374908,
          0.1274842917919159,
          -0.05547865107655525,
          0.1047077402472496,
          -0.00019939342746511102,
          0.0950043797492981,
          -0.053076863288879395,
          -0.004074187017977238,
          -0.10615206509828568,
          0.1359313428401947,
          0.17489755153656006,
          0.06496486067771912,
          -0.06586989760398865,
          0.011251024901866913,
          -0.2110094577074051,
          -0.04091254621744156,
          0.1157056987285614,
          -0.0405576266348362,
          0.25979864597320557,
          0.002633762313053012,
          -0.1580730378627777,
          0.08969120681285858,
          -0.1145329624414444,
          -0.0711982250213623,
          0.03546680882573128,
          0.09591825306415558,
          -0.15793780982494354,
          0.17362968623638153,
          -0.02899790368974209,
          -0.027094978839159012,
          0.036127809435129166,
          -0.21567952632904053,
          -0.1280086189508438,
          -0.005118553061038256,
          0.07000932097434998,
          -0.10797151178121567,
          -0.030872270464897156,
          0.057173267006874084,
          0.07434843480587006,
          0.06951355934143066,
          0.06721189618110657,
          0.07031238824129105,
          -0.11929009109735489,
          0.0442756749689579,
          -0.08198752999305725,
          -0.06285073608160019,
          0.09078018367290497,
          0.051569271832704544,
          -0.06167225539684296,
          0.04377889260649681,
          0.14743337035179138,
          0.21744060516357422,
          0.1089947447180748,
          0.040737442672252655,
          -0.13808205723762512,
          0.17101050913333893,
          0.0992814227938652,
          0.06863204389810562,
          0.07188605517148972,
          0.03305599465966225,
          -0.22306354343891144,
          0.13855385780334473,
          -0.18194691836833954,
          -0.07200346142053604,
          -0.019024694338440895,
          -0.009805372916162014,
          -0.010685713961720467,
          0.15695297718048096,
          0.06869402527809143,
          0.08165963739156723,
          0.031172091141343117,
          0.06316164135932922,
          0.16937914490699768,
          -0.14342500269412994,
          -0.048675552010536194,
          0.12337943911552429,
          0.09269922226667404,
          0.02680579014122486,
          0.06093977019190788,
          0.22401714324951172,
          -0.12695330381393433,
          -0.02157769352197647,
          -0.07299357652664185,
          -0.12107883393764496,
          0.05684353783726692,
          0.008888480253517628,
          0.1190289780497551,
          0.1726418286561966,
          0.16580899059772491,
          -0.09331429749727249,
          0.1317661702632904,
          -0.1613936722278595,
          -0.02272268384695053,
          0.002054116688668728,
          0.15965847671031952,
          0.2140643149614334,
          -0.09248696267604828,
          0.08719668537378311,
          -0.34277671575546265,
          -0.16896134614944458,
          -0.00313001056201756,
          -0.13576696813106537,
          0.020906802266836166,
          0.07310563325881958,
          0.21002909541130066,
          -0.1472197324037552,
          0.10927458852529526,
          -0.043407224118709564,
          -0.12548021972179413,
          -0.18063482642173767,
          0.12180068343877792,
          -0.11220656335353851,
          0.010239747352898121,
          0.09913386404514313,
          0.012282478623092175,
          0.19125156104564667,
          -0.18176348507404327,
          -0.01522549707442522,
          0.0827879011631012,
          0.0749155804514885,
          -0.19607806205749512,
          -0.05482910946011543,
          -0.009391824714839458,
          0.13320468366146088,
          0.0903041809797287,
          -0.03911447152495384,
          0.20325814187526703,
          -0.13744597136974335,
          -0.15147040784358978,
          0.11038652807474136,
          -0.1611575335264206,
          0.27380648255348206,
          0.2798369228839874,
          0.01864805445075035,
          0.016484590247273445,
          0.004077017307281494,
          -0.11039223521947861,
          -0.05694381892681122,
          -0.17260317504405975,
          0.04769327491521835,
          -0.21756203472614288,
          -0.14996425807476044,
          -0.05217587575316429,
          -0.16143719851970673,
          -0.13292963802814484,
          -0.35374459624290466,
          -0.13097229599952698,
          -0.019572675228118896,
          -0.07439278066158295,
          -0.13204826414585114,
          -0.020519869402050972,
          -0.001488730777055025,
          -0.10613754391670227,
          -0.13541507720947266,
          0.04625669866800308,
          0.04489381983876228,
          0.004050704184919596,
          -0.03585277125239372,
          0.09892050921916962,
          0.0695534273982048,
          -0.329116553068161,
          -0.09605088829994202,
          -0.2270386964082718,
          -0.1393377035856247,
          0.2673770785331726,
          0.07526078075170517,
          -0.02859274297952652,
          -0.019526442512869835,
          0.00985628366470337,
          -0.13403192162513733,
          0.005186345893889666,
          -0.030382921919226646,
          0.10123921185731888,
          0.07542373239994049,
          -0.09495517611503601,
          0.1205260381102562,
          0.24498368799686432,
          -0.1928965300321579,
          0.05140145495533943,
          0.017373349517583847,
          -0.062250297516584396,
          -0.13319770991802216,
          -0.05480494350194931,
          -0.036027275025844574,
          -0.10122741758823395,
          -0.03033887781202793,
          0.04084097221493721,
          -0.08867496252059937,
          0.12723711133003235,
          -0.10740101337432861,
          -0.28720754384994507,
          0.09054352343082428,
          0.10743624716997147,
          0.011744719929993153,
          0.230362206697464,
          0.07963632792234421,
          0.0891060158610344,
          -0.007326462306082249,
          -0.0262471754103899,
          0.009983322583138943,
          0.24779574573040009,
          -0.056464750319719315,
          0.1531587541103363,
          -0.061509426683187485,
          -0.023031454533338547,
          0.21486224234104156,
          0.011441526003181934,
          -0.09324479103088379,
          -0.3269783854484558,
          -0.052672214806079865,
          0.14099398255348206,
          -0.23171842098236084,
          0.0027781561948359013,
          0.0015854723751544952,
          -0.025241579860448837,
          0.02354494296014309,
          0.09852761775255203,
          -0.1429906189441681,
          -0.13848671317100525,
          -0.08147239685058594,
          0.01874478906393051,
          0.03564387932419777,
          -0.05123818293213844,
          0.18406052887439728,
          -0.12376552075147629,
          -0.026146670803427696,
          0.03163178637623787,
          0.06655045598745346,
          -0.07154758274555206,
          -0.058075856417417526,
          0.03634197637438774,
          -0.05578162521123886,
          0.09265445172786713,
          0.2702103853225708,
          0.19020381569862366,
          0.07942438125610352,
          -0.33234483003616333,
          0.18491362035274506,
          -0.1626203954219818,
          -0.05496061220765114,
          -0.07563228160142899,
          -0.0017472137697041035,
          -0.08804059028625488,
          -0.29223743081092834,
          -0.05093534663319588,
          -0.09684684872627258,
          0.03131542354822159,
          -0.0029720126185566187,
          0.14023227989673615,
          -0.03995900973677635,
          -0.11957531422376633,
          -0.05548280477523804,
          0.1786922812461853,
          0.1299189031124115,
          -0.1434013545513153,
          -0.11418600380420685,
          -0.055134523659944534,
          -0.17578358948230743,
          -0.0006523674237541854,
          -0.04763294756412506,
          -0.11059242486953735,
          0.07638918608427048,
          -0.0023196798283606768,
          -0.04462501406669617,
          -0.03866417333483696,
          0.030308809131383896,
          0.13529489934444427,
          0.128540500998497,
          -0.015608821995556355,
          -0.0010396585566923022,
          -0.07101209461688995,
          -0.0811644196510315,
          0.009138869121670723,
          0.16136610507965088,
          0.07694679498672485,
          -0.016772765666246414,
          -0.25911617279052734,
          -0.012723442167043686,
          0.06945057213306427,
          0.012525628320872784,
          0.0507238507270813,
          0.005851498804986477,
          -0.18161900341510773,
          -0.052896685898303986,
          0.03930589184165001,
          -0.09034315496683121,
          0.23370248079299927,
          0.1000170037150383,
          -0.16367246210575104,
          -0.019868146628141403,
          -0.019868146628141403,
          -0.019868146628141403,
          0.15390878915786743,
          -0.07825449109077454,
          -0.07887706905603409,
          0.22987155616283417,
          -0.06590704619884491,
          0.1432216465473175,
          -0.008172419853508472,
          0.07392283529043198,
          0.006104540079832077,
          -0.00005552664151764475,
          -0.01320688147097826,
          0.02039657160639763,
          0.1119542121887207,
          -0.052442196756601334,
          -0.06834588944911957,
          -0.5300407409667969,
          0.0990380048751831,
          -0.17238666117191315,
          0.011838666163384914,
          0.13863253593444824,
          -0.14090240001678467,
          -0.11258379369974136,
          0.09274360537528992,
          0.0216387826949358,
          0.07157070934772491,
          -0.016949297860264778,
          0.05859306454658508,
          0.04446931183338165,
          -0.04063484072685242,
          0.21513229608535767,
          0.22006748616695404,
          0.45379623770713806,
          0.1134958416223526,
          -0.09787137061357498,
          0.1587381660938263,
          0.2031448930501938,
          -0.10719652473926544,
          0.11968465149402618,
          0.1076933816075325,
          0.05900344252586365,
          0.008758775889873505,
          -0.020163066685199738,
          0.11797482520341873,
          0.11671198159456253,
          0.2129451036453247,
          -0.13422535359859467,
          -0.15702807903289795,
          0.1938914805650711,
          0.13061100244522095,
          -0.05442286655306816,
          -0.1546696573495865,
          -0.18083415925502777,
          -0.083940289914608,
          -0.10859135538339615,
          0.17418015003204346,
          0.07764287292957306,
          -0.06711225211620331,
          0.0696437880396843,
          -0.04083834961056709,
          -0.20674100518226624,
          0.07089092582464218,
          -0.03153785690665245,
          0.05910881608724594,
          0.05248647928237915,
          0.0378805547952652,
          0.057998113334178925,
          -0.1694287806749344,
          -0.23181596398353577,
          -0.07608343660831451,
          -0.057477809488773346,
          -0.07686695456504822,
          0.2820320129394531,
          0.128798246383667,
          0.10639926791191101,
          -0.06897183507680893,
          -0.11264558881521225,
          -0.15629181265830994,
          0.275760680437088,
          0.12912283837795258,
          0.10949744284152985,
          -0.10046101361513138,
          -0.0784282311797142,
          -0.14304141700267792,
          -0.1678803265094757,
          0.010932698845863342,
          0.024549804627895355,
          -0.151862233877182,
          -0.08290218561887741,
          -0.02948334999382496,
          -0.07680893689393997,
          0.11168816685676575,
          -0.03114173747599125,
          -0.11982250958681107,
          -0.12499754875898361,
          0.0077898502349853516,
          -0.006072458811104298,
          -0.0983685702085495,
          0.14558494091033936,
          -0.06514847278594971,
          0.14275337755680084,
          0.1387074589729309,
          -0.2481541782617569,
          -0.13072362542152405,
          0.10565321892499924,
          0.14006264507770538,
          -0.07420989871025085,
          0.28292739391326904,
          -0.07274573296308517,
          -0.0584893673658371,
          -0.01954464055597782,
          0.011446654796600342,
          0.24867962300777435,
          -0.2181556671857834,
          -0.020297501236200333,
          -0.014860614202916622,
          0.02939777262508869,
          -0.13536307215690613,
          0.13164466619491577,
          -0.12584570050239563,
          -0.13736873865127563,
          -0.22444304823875427,
          0.06330956518650055,
          0.11979363113641739,
          -0.22377613186836243,
          -0.1489528864622116,
          0.024576202034950256,
          0.1606970876455307,
          0.0692065879702568,
          -0.054751019924879074,
          0.00720379501581192,
          0.08046939969062805,
          0.014322561211884022,
          0.04233377054333687,
          0.08835010230541229,
          0.0886678546667099,
          -0.08172319084405899,
          -0.16319027543067932,
          0.18037177622318268,
          -0.02940373308956623,
          0.15409323573112488,
          -0.022832153365015984,
          -0.0763089507818222,
          0.09434092044830322,
          -0.013694214634597301,
          0.11249418556690216,
          0.02017284743487835,
          -0.1377803087234497,
          -0.2717311382293701,
          0.0463050901889801,
          0.14166489243507385,
          0.11138743162155151,
          0.0031645065173506737,
          -0.08003593236207962,
          -0.13716812431812286,
          -0.07714063674211502,
          -0.10686638951301575,
          0.21553625166416168,
          0.057481709867715836,
          0.010439478792250156,
          -0.17400120198726654,
          0.10053849965333939,
          -0.04241209104657173,
          -0.12497841566801071,
          -0.035885464400053024,
          -0.003122808178886771,
          0.18831171095371246,
          0.08921274542808533,
          -0.03229006752371788,
          -0.17284630239009857,
          -0.08264383673667908,
          0.05998346209526062,
          -0.12814167141914368,
          0.03402358293533325,
          -0.0883222222328186,
          0.2233802229166031,
          0.08879116177558899,
          -0.11763987690210342,
          -0.016288548707962036,
          0.024241231381893158,
          -0.06555759161710739,
          -0.0604817159473896,
          0.24211670458316803,
          -0.08526450395584106,
          -0.10387445986270905,
          0.0047439392656087875,
          0.06196662411093712,
          -0.09696286171674728,
          -0.019716868177056313,
          -0.022272633388638496,
          -0.005454325117170811,
          -0.020088527351617813,
          0.03563130646944046,
          -0.15737919509410858,
          0.021064624190330505,
          -0.016816625371575356,
          -0.15664002299308777,
          -0.21436633169651031,
          0.07866302132606506,
          0.03700806573033333,
          -0.026231611147522926,
          0.027927350252866745,
          -0.16584892570972443,
          0.14307768642902374,
          -0.1851302832365036,
          0.00292467069812119,
          -0.015790635719895363,
          0.039492279291152954,
          -0.1327308863401413,
          -0.14006003737449646,
          -0.01594868302345276,
          -0.042692385613918304,
          0.062263164669275284,
          -0.035657476633787155,
          -0.3458893597126007,
          -0.06345198303461075,
          0.07019983977079391,
          -0.11969054490327835,
          0.1349368691444397,
          -0.14590458571910858,
          0.06299255788326263,
          0.03875187039375305,
          0.03939352557063103,
          -0.2511395215988159,
          0.005187414586544037,
          -0.19305862486362457,
          0.26688918471336365,
          0.05387287959456444,
          -0.05825023725628853,
          0.01916075125336647,
          -0.0006601694040000439,
          -0.02576560527086258,
          0.12457985430955887,
          0.1466529667377472,
          0.1083451434969902,
          -0.19972051680088043,
          -0.019110387191176414,
          -0.07784435153007507,
          0.07079418748617172,
          0.10666684061288834,
          -0.08981262892484665,
          -0.17687436938285828,
          -0.09457817673683167,
          -0.04166382551193237,
          0.07622154802083969,
          -0.02828897535800934,
          0.06297584623098373,
          0.07519364356994629,
          0.11053017526865005,
          -0.029541896656155586,
          -0.07340743392705917,
          -0.13728298246860504,
          0.03369899466633797,
          0.17051196098327637,
          -0.09492842853069305,
          -0.23395180702209473,
          -0.024234138429164886,
          0.018602540716528893,
          -0.252929151058197,
          -0.25931423902511597,
          0.04092848673462868,
          -0.04021625965833664,
          0.1797531545162201,
          -0.1313113272190094,
          -0.07651862502098083,
          0.07519364356994629,
          -0.13519327342510223,
          0.22323019802570343,
          -0.1050650104880333,
          0.09713709354400635,
          -0.05683201178908348,
          -0.15034490823745728,
          -0.011440141126513481,
          0.12274158000946045,
          0.06570816040039062,
          -0.003585615660995245,
          0.03978588059544563,
          0.10285202413797379,
          0.02526896260678768,
          -0.0006662018713541329,
          0.033689580857753754,
          -0.03022843413054943,
          0.20790858566761017,
          -0.08509524166584015,
          0.11467499285936356,
          0.018869955092668533,
          0.2034813016653061,
          0.025521306321024895,
          -0.04128158092498779,
          -0.14297465980052948,
          -0.08214326947927475,
          0.1593339741230011,
          0.13628189265727997,
          -0.242885559797287,
          0.07362230122089386,
          -0.11218481510877609,
          -0.06766543537378311,
          0.014979603700339794,
          0.032784853130578995,
          0.11601652204990387,
          0.09835875779390335,
          -0.033405039459466934,
          -0.1447724848985672,
          -0.09613130241632462,
          0.27857062220573425,
          0.07287384569644928,
          -0.21716547012329102,
          0.02281475067138672,
          0.13265882432460785,
          -0.19217844307422638,
          0.05082963779568672,
          -0.1685754358768463,
          0.16572077572345734,
          -0.1689424365758896,
          0.16493269801139832,
          0.20036430656909943,
          0.19794513285160065,
          0.03475057706236839,
          0.17191575467586517,
          -0.05568760633468628,
          -0.023611174896359444,
          -0.03315216675400734,
          -0.12362509220838547,
          0.07417204976081848,
          -0.09934092313051224,
          0.14880497753620148,
          0.07992735505104065,
          0.07708225399255753,
          0.19330994784832,
          0.001572385779581964,
          0.11525227874517441,
          -0.11768241971731186,
          0.16350078582763672,
          0.05254073813557625,
          0.09399291127920151,
          -0.010458890348672867,
          0.14046062529087067,
          -0.190048485994339,
          0.009645071811974049,
          0.026005741208791733,
          0.05562697723507881,
          0.2305036038160324,
          0.06967571377754211,
          0.07456200569868088,
          0.1702832281589508,
          0.11016236245632172,
          -0.03176503628492355,
          -0.009369040839374065,
          0.4056051969528198,
          0.05076570808887482,
          0.07585685700178146,
          0.302318811416626,
          -0.10419099032878876,
          -0.08514194935560226,
          0.10974285751581192,
          0.02728504128754139,
          -0.06931819021701813,
          0.008663373999297619,
          0.057013727724552155,
          -0.1090862900018692,
          -0.09358406811952591,
          0.21228311955928802,
          -0.1472005397081375,
          -0.055498410016298294,
          0.049986064434051514,
          -0.11946830153465271,
          0.3530125319957733,
          0.11255034804344177,
          0.04923972114920616,
          0.12243767082691193,
          -0.058346547186374664,
          0.1469099521636963,
          0.09196458756923676,
          0.025404969230294228,
          0.04177870228886604,
          0.12161661684513092,
          0.0637841671705246,
          -0.176811084151268,
          0.0719669833779335,
          -0.0981118232011795,
          -0.07581891864538193,
          -0.017609763890504837,
          0.04244619235396385,
          -0.023877019062638283,
          0.07479541003704071,
          -0.035898443311452866,
          0.03604435548186302,
          -0.06667017936706543,
          -0.07749386876821518,
          -0.13598822057247162,
          -0.21695098280906677,
          0.003335026791319251,
          0.003335026791319251,
          -0.06181035935878754,
          -0.06181035935878754,
          0.05091112479567528,
          0.05091112479567528,
          0.18844403326511383,
          0.18844403326511383,
          -0.056870680302381516,
          -0.056870680302381516,
          -0.00023615037207491696,
          -0.00023615037207491696,
          -0.03136346861720085,
          -0.03136346861720085,
          -0.061011165380477905,
          -0.061011165380477905,
          0.30249807238578796,
          0.30249807238578796,
          -0.014557995833456516,
          -0.01473184023052454,
          -0.1850607693195343,
          -0.1850607693195343,
          0.19931963086128235,
          0.19931963086128235,
          -0.06664904952049255,
          -0.06664904952049255,
          -0.07616589963436127,
          -0.07616589963436127,
          0.3696243464946747,
          0.3696243464946747,
          -0.15295623242855072,
          -0.06901559978723526,
          -0.1710158735513687,
          -0.04013189673423767,
          0.28977885842323303,
          0.03305618464946747,
          0.06284903734922409,
          -0.09974627941846848,
          0.002376661403104663,
          -0.016953250393271446,
          -0.03322259336709976,
          -0.21059539914131165,
          -0.2757495641708374,
          0.20713849365711212,
          -0.2589898705482483,
          -0.22475309669971466,
          -0.12011363357305527,
          -0.0751265287399292,
          0.19373227655887604,
          0.24671252071857452,
          0.07957012206315994,
          0.21788500249385834,
          -0.22209469974040985,
          0.09536509960889816,
          -0.09122132509946823,
          -0.1485767513513565,
          -0.07501290738582611,
          -0.06231038644909859,
          -0.1726338118314743,
          0.14674067497253418,
          0.13216236233711243,
          0.22203966975212097,
          0.03131484612822533,
          -0.01541654672473669,
          -0.09899961948394775,
          -0.09203726053237915,
          0.07064732164144516,
          0.10471600294113159,
          -0.18272797763347626,
          0.03577512875199318,
          0.19057956337928772,
          0.20917478203773499,
          0.047937750816345215,
          -0.024440715089440346,
          -0.07144297659397125,
          -0.03467898815870285,
          -0.017210785299539566,
          -0.13616052269935608,
          0.03436412662267685,
          -0.039564572274684906,
          0.023879123851656914,
          0.05189736932516098,
          -0.045329708606004715,
          0.10756959021091461,
          -0.3597339689731598,
          0.10391902923583984,
          0.02951786294579506,
          -0.13269932568073273,
          -0.14298862218856812,
          -0.2779763340950012,
          -0.20327414572238922,
          -0.23920078575611115,
          -0.14693190157413483,
          0.22450493276119232,
          -0.13731124997138977,
          -0.2217901200056076,
          -0.12900881469249725,
          0.006627911236137152,
          -0.09770140796899796,
          0.028044670820236206,
          0.13951502740383148,
          0.16002631187438965,
          0.03672011196613312,
          -0.013621961697936058,
          -0.08859337866306305,
          0.014733090065419674,
          -0.23955287039279938,
          -0.2934735417366028,
          -0.12214222550392151,
          -0.10880348086357117,
          -0.12954512238502502,
          0.07403189688920975,
          0.08301999419927597,
          -0.1067873015999794,
          -0.008742982521653175,
          0.18852803111076355,
          -0.07261631637811661,
          0.08915761113166809,
          0.1073567122220993,
          0.13706740736961365,
          0.03054441511631012,
          0.07631809264421463,
          0.24238914251327515,
          -0.21309839189052582,
          0.06634493172168732,
          -0.11022882908582687,
          0.04939235374331474,
          0.01765981689095497,
          -0.1586916744709015,
          -0.1951797902584076,
          0.01780792698264122,
          -0.10757065564393997,
          0.06286230683326721,
          0.017082994803786278,
          0.011493461206555367,
          0.013398369774222374,
          0.044373009353876114,
          -0.21414798498153687,
          -0.006312268786132336,
          -0.09059466421604156,
          0.018503108993172646,
          0.07718534022569656,
          -0.07491329312324524,
          0.014663239009678364,
          0.03930101543664932,
          0.18442341685295105,
          -0.10278280824422836,
          -0.17837674915790558,
          -0.2549152076244354,
          -0.05425070971250534,
          -0.12359054386615753,
          0.16318735480308533,
          -0.11425048857927322,
          0.01626923494040966,
          -0.12308159470558167,
          0.11782262474298477,
          0.08613157272338867,
          0.2182697206735611,
          0.11925939470529556,
          0.1421736627817154,
          0.1595185101032257,
          -0.1131739392876625,
          0.09655266255140305,
          -0.11498448252677917,
          -0.10684255510568619,
          -0.003806284861639142,
          -0.1293463110923767,
          0.03018081746995449,
          -0.17256870865821838,
          -0.1277773231267929,
          -0.3388305604457855,
          0.0499098114669323,
          -0.10498788952827454,
          -0.09505721181631088,
          0.07471618801355362,
          -0.014048988930881023,
          -0.2200632244348526,
          0.27569741010665894,
          0.03183094412088394,
          0.10707182437181473,
          -0.0686023011803627,
          0.2939138114452362,
          -0.05739733576774597,
          -0.0382113978266716,
          0.16493165493011475,
          0.3346066176891327,
          0.16907288134098053,
          -0.19980469346046448,
          0.05045226961374283,
          0.0918634682893753,
          -0.14427147805690765,
          -0.2066066861152649,
          0.05309645086526871,
          -0.15774548053741455,
          0.144309401512146,
          0.02826801687479019,
          0.0975341945886612,
          -0.14389410614967346,
          0.1459614783525467,
          -0.24145324528217316,
          0.3613583743572235,
          0.15786032378673553,
          -0.008999149315059185,
          -0.17445123195648193,
          0.15706001222133636,
          -0.16387075185775757,
          0.4497520625591278,
          0.07400356233119965,
          -0.10029572248458862,
          0.1504434049129486,
          0.015301283448934555,
          0.1446852684020996,
          0.1273253709077835,
          0.030293622985482216,
          0.10147998481988907,
          0.03271384537220001,
          0.11146896332502365,
          -0.03408953920006752,
          0.08638845384120941,
          0.14067812263965607,
          0.09824615716934204,
          -0.01646941900253296,
          -0.04832017794251442,
          0.008312231861054897,
          -0.10261689871549606,
          0.08472660928964615,
          -0.06785638630390167,
          0.004673296585679054,
          -0.09059436619281769,
          0.012933195568621159,
          0.5701574087142944,
          0.03643529862165451,
          -0.0421040914952755,
          -0.10547804087400436,
          -0.3168420195579529,
          -0.21182823181152344,
          0.04974772781133652,
          0.09547348320484161,
          -0.01856229268014431,
          0.04524883255362511,
          0.0994032546877861,
          0.10989850759506226,
          -0.13545362651348114,
          0.04460252821445465,
          -0.009583704173564911,
          -0.17323817312717438,
          -0.028148310258984566,
          0.14074647426605225,
          0.05377998575568199,
          0.19276031851768494,
          0.2346535325050354,
          0.20664995908737183,
          0.27109724283218384,
          -0.03822951763868332,
          0.14358538389205933,
          0.014961528591811657,
          0.10962855815887451,
          -0.23860134184360504,
          -0.004038020968437195,
          -0.18550746142864227,
          0.03142521530389786,
          -0.10992234945297241,
          -0.04083232209086418,
          -0.025682078674435616,
          -0.23188765347003937,
          -0.18553563952445984,
          -0.0231391042470932,
          0.13100986182689667,
          -0.04564248025417328,
          0.10281980782747269,
          -0.019535722211003304,
          0.07347510755062103,
          -0.022727886214852333,
          0.00009289889567298815,
          0.1481313854455948,
          -0.07426483929157257,
          -0.10826839506626129,
          0.02711530029773712,
          -0.07428022474050522,
          0.036139316856861115,
          0.27374255657196045,
          0.04590307176113129,
          0.24681538343429565,
          0.020038679242134094,
          0.02155686728656292,
          0.020042389631271362,
          -0.16886131465435028,
          0.05273986607789993,
          -0.043449509888887405,
          0.08184046298265457,
          -0.06417841464281082,
          -0.0417245477437973,
          -0.09737122058868408,
          0.24358130991458893,
          -0.05263209342956543,
          0.08739005774259567,
          -0.0494040809571743,
          -0.05111166462302208,
          0.16105516254901886,
          -0.1650962382555008,
          -0.17278063297271729,
          0.13051599264144897,
          -0.10071396827697754,
          0.11734049022197723,
          -0.30872148275375366,
          -0.08909211307764053,
          -0.12115740776062012,
          0.10137101262807846,
          -0.10125009715557098,
          0.16104787588119507,
          0.06711051613092422,
          -0.1619604527950287,
          0.13173823058605194,
          -0.18249058723449707,
          -0.11475076526403427,
          -0.06260110437870026,
          0.046586960554122925,
          0.07242407649755478,
          -0.07163053005933762,
          0.3058644235134125,
          0.18098966777324677,
          0.16533543169498444,
          0.1363045573234558,
          0.1696271151304245,
          0.11117617785930634,
          0.19385001063346863,
          0.07156764715909958,
          0.04173631593585014,
          -0.013811606913805008,
          -0.1221347376704216,
          -0.05496048182249069,
          0.030834974721074104,
          0.1574135422706604,
          -0.09118233621120453,
          0.3474738597869873,
          0.18412499129772186,
          0.22257572412490845,
          0.026284953579306602,
          0.20901541411876678,
          0.08373405784368515,
          0.1341525763273239,
          0.2136259377002716,
          -0.016264211386442184,
          0.035187456756830215,
          0.1366414874792099,
          0.026589522138237953,
          0.20521719753742218,
          0.08221790194511414,
          -0.09351234883069992,
          -0.01224526111036539,
          0.20837777853012085,
          -0.011256979778409004,
          0.029886607080698013,
          -0.03408615663647652,
          -0.1060546487569809,
          -0.09600042551755905,
          -0.06771191954612732,
          0.15978547930717468,
          -0.10278750956058502,
          -0.08904236555099487,
          -0.06096779555082321,
          -0.10739313811063766,
          0.08771460503339767,
          0.11079894006252289
         ]
        },
        {
         "hovertemplate": "label=mgood<br>pca_3D_comments_0=%{x}<br>pca_3D_comments_1=%{y}<br>pca_3D_comments_2=%{z}<extra></extra>",
         "legendgroup": "mgood",
         "marker": {
          "color": "#EF553B",
          "opacity": 0.5,
          "size": 2,
          "symbol": "circle"
         },
         "mode": "markers",
         "name": "mgood",
         "scene": "scene",
         "showlegend": true,
         "type": "scatter3d",
         "x": [
          0.21487775444984436,
          -0.06310007721185684,
          0.048578038811683655,
          0.03357663378119469,
          0.17542463541030884,
          0.23725225031375885,
          -0.15073680877685547,
          -0.015699835494160652,
          0.10559629648923874,
          -0.10591565817594528,
          -0.2029312551021576,
          -0.24435602128505707,
          0.3108501434326172,
          0.0470002256333828,
          -0.09160896390676498,
          0.2985464036464691,
          0.15693970024585724,
          0.02953789010643959,
          0.16684801876544952,
          0.057287756353616714,
          0.14704643189907074,
          0.07142304629087448,
          0.08391541242599487,
          0.003971714526414871,
          -0.005484118591994047,
          0.055750567466020584,
          0.013394169509410858,
          -0.0873415619134903,
          -0.09206122905015945,
          0.2854742109775543,
          0.04404780641198158,
          -0.06777210533618927,
          0.3782050311565399,
          -0.12609951198101044,
          -0.09335383027791977,
          0.14686456322669983,
          0.011208172887563705,
          -0.22088873386383057,
          -0.09347692877054214,
          -0.009924927726387978,
          0.07606662809848785,
          0.18389678001403809,
          -0.0133733619004488,
          -0.08721351623535156,
          0.02193770743906498,
          -0.12614120543003082,
          0.07225612550973892,
          -0.07188519090414047,
          -0.13043458759784698,
          -0.24527421593666077,
          0.08837965875864029,
          0.08273768424987793,
          0.2992825210094452,
          0.12785562872886658,
          -0.03994602710008621,
          0.07419849932193756,
          0.1019197329878807,
          0.2138151377439499,
          0.0030576963908970356,
          0.13488322496414185,
          0.024893661960959435,
          0.04511120915412903,
          -0.026255428791046143,
          0.13047781586647034,
          0.15849418938159943,
          -0.22950230538845062,
          -0.025579025968909264,
          0.024946102872490883,
          -0.24334405362606049,
          -0.09998706728219986,
          0.11460922658443451,
          -0.05386553704738617,
          -0.05386553704738617,
          -0.0776296928524971,
          0.09376304596662521,
          0.05680152773857117,
          -0.10933495312929153,
          0.06846265494823456,
          0.26236337423324585,
          -0.059777289628982544,
          0.14277416467666626,
          0.21312198042869568,
          -0.23036016523838043,
          -0.03304245322942734,
          -0.004549035802483559,
          0.2215193659067154,
          -0.13593453168869019,
          -0.041861407458782196,
          0.03153471276164055,
          0.08687403053045273,
          -0.12957465648651123,
          0.026451552286744118,
          0.08281561732292175,
          -0.00792626291513443,
          0.046567559242248535,
          -0.03510652855038643,
          0.07838698476552963,
          -0.00928433332592249,
          0.022681288421154022,
          0.11637889593839645,
          0.11637889593839645,
          -0.12120693176984787,
          -0.12120693176984787,
          0.1135825365781784,
          0.08787792921066284,
          0.11752832680940628
         ],
         "y": [
          0.10514618456363678,
          0.16250969469547272,
          0.031190011650323868,
          0.10216368734836578,
          0.104168601334095,
          -0.013339946046471596,
          -0.15358112752437592,
          -0.07234562188386917,
          -0.13294517993927002,
          -0.16019105911254883,
          0.03836360201239586,
          0.20357947051525116,
          0.16785156726837158,
          -0.011355416849255562,
          0.0535978302359581,
          0.130044624209404,
          -0.06265903264284134,
          0.0258876271545887,
          0.040059879422187805,
          -0.05020630359649658,
          0.03927977755665779,
          -0.05541355535387993,
          -0.1281035989522934,
          -0.061573196202516556,
          0.06806150078773499,
          -0.19095554947853088,
          0.0890091061592102,
          0.029176445677876472,
          -0.36714786291122437,
          0.07542940974235535,
          -0.1879589706659317,
          0.018342670053243637,
          -0.030047127977013588,
          0.12494601309299469,
          -0.027707505971193314,
          -0.10275937616825104,
          -0.16899126768112183,
          -0.03736070543527603,
          -0.059675008058547974,
          0.23054403066635132,
          -0.039930667728185654,
          0.007212140131741762,
          0.0648590624332428,
          0.09754563122987747,
          -0.04051513597369194,
          -0.24409893155097961,
          -0.16511274874210358,
          -0.225240558385849,
          0.05432623252272606,
          0.2201247215270996,
          -0.12749625742435455,
          0.01221520360559225,
          0.12075729668140411,
          -0.09730621427297592,
          0.007553637959063053,
          0.12227027118206024,
          -0.03603828325867653,
          0.09152687340974808,
          0.022346599027514458,
          -0.2490648627281189,
          -0.12316331267356873,
          -0.025213347747921944,
          -0.16759827733039856,
          -0.05693156272172928,
          -0.15443362295627594,
          -0.20357289910316467,
          -0.1008945032954216,
          -0.12429700791835785,
          -0.34111058712005615,
          -0.008488192223012447,
          0.01951633021235466,
          0.11712717264890671,
          0.11712717264890671,
          0.16895735263824463,
          -0.09217363595962524,
          0.03585456311702728,
          -0.12861306965351105,
          -0.1688983142375946,
          0.00008797836198937148,
          -0.08584841340780258,
          -0.24967288970947266,
          -0.04002135992050171,
          -0.02015848644077778,
          -0.02549860253930092,
          -0.06755733489990234,
          -0.09300820529460907,
          -0.12143559008836746,
          -0.017634006217122078,
          -0.23165400326251984,
          -0.04339189454913139,
          -0.055188413709402084,
          0.19281958043575287,
          0.01356903463602066,
          -0.11224892735481262,
          -0.07831209152936935,
          0.055904511362314224,
          -0.12726077437400818,
          0.14263750612735748,
          0.01512359082698822,
          0.03607681393623352,
          0.03607681393623352,
          0.0128445103764534,
          0.0128445103764534,
          -0.04422047361731529,
          -0.1820365935564041,
          0.08070047199726105
         ],
         "z": [
          0.0920446589589119,
          -0.19780069589614868,
          0.17707745730876923,
          0.007243472151458263,
          0.08796517550945282,
          0.01577453315258026,
          -0.058036960661411285,
          0.020524635910987854,
          -0.031160501763224602,
          -0.2907308042049408,
          0.1301029473543167,
          -0.0023215387482196093,
          -0.02209135890007019,
          -0.15877877175807953,
          -0.039924632757902145,
          -0.09581182152032852,
          -0.05327806994318962,
          0.06797132641077042,
          0.0062124100513756275,
          0.08442721515893936,
          -0.028232239186763763,
          -0.24130204319953918,
          -0.018798120319843292,
          0.16367171704769135,
          -0.1689911186695099,
          0.01279507391154766,
          -0.08649090677499771,
          0.02831318974494934,
          -0.08057712763547897,
          0.13040964305400848,
          -0.13339780271053314,
          0.0022016980219632387,
          -0.13164420425891876,
          0.021671539172530174,
          0.38128021359443665,
          0.0010271668434143066,
          0.016247812658548355,
          -0.19569647312164307,
          0.03131720423698425,
          -0.058400362730026245,
          0.10549422353506088,
          -0.16908122599124908,
          0.040753073990345,
          -0.021070418879389763,
          -0.058187540620565414,
          -0.0697142705321312,
          -0.03323393315076828,
          0.16938553750514984,
          0.005068344064056873,
          -0.04496550187468529,
          -0.05201222002506256,
          0.12908287346363068,
          0.054694969207048416,
          0.04196444898843765,
          -0.05829201266169548,
          -0.07580795139074326,
          -0.13504548370838165,
          -0.017610490322113037,
          -0.10770908743143082,
          -0.15952028334140778,
          0.08299202471971512,
          -0.008648017421364784,
          0.08010518550872803,
          -0.047014907002449036,
          0.09048666059970856,
          0.12971310317516327,
          0.0947028174996376,
          -0.1577678769826889,
          -0.2163895219564438,
          -0.03211631625890732,
          -0.07823734730482101,
          -0.03499238193035126,
          -0.03499238193035126,
          -0.1755533218383789,
          -0.0995093509554863,
          -0.11800529807806015,
          0.04790744557976723,
          -0.2074134647846222,
          0.06368644535541534,
          0.006414148956537247,
          -0.14017505943775177,
          -0.0020647572819143534,
          -0.21382032334804535,
          0.06253757327795029,
          0.10897209495306015,
          0.12658782303333282,
          -0.14393217861652374,
          -0.04311392828822136,
          -0.029129093512892723,
          -0.03785458207130432,
          0.04874096438288689,
          -0.07488533109426498,
          -0.15968044102191925,
          -0.023349830880761147,
          -0.13206812739372253,
          -0.05029904469847679,
          -0.19198746979236603,
          -0.017777061089873314,
          0.017034141346812248,
          0.062339309602975845,
          0.062339309602975845,
          -0.184144988656044,
          -0.184144988656044,
          -0.22082167863845825,
          -0.07755640894174576,
          -0.035816021263599396
         ]
        },
        {
         "hovertemplate": "label=mbad<br>pca_3D_comments_0=%{x}<br>pca_3D_comments_1=%{y}<br>pca_3D_comments_2=%{z}<extra></extra>",
         "legendgroup": "mbad",
         "marker": {
          "color": "#00cc96",
          "opacity": 0.5,
          "size": 2,
          "symbol": "circle"
         },
         "mode": "markers",
         "name": "mbad",
         "scene": "scene",
         "showlegend": true,
         "type": "scatter3d",
         "x": [
          0.17039300501346588,
          0.13300003111362457,
          -0.11357676237821579,
          0.043106235563755035,
          0.21246010065078735,
          0.02341323159635067,
          0.3015572130680084,
          0.14531639218330383,
          0.2472044825553894,
          0.15515705943107605,
          0.17090946435928345,
          0.36967894434928894,
          0.26944926381111145,
          0.05316740274429321,
          0.1482309103012085,
          0.33532440662384033,
          -0.29035037755966187,
          0.2902034521102905,
          0.22809967398643494,
          0.057870637625455856,
          0.10050400346517563,
          0.12075242400169373,
          0.23776455223560333,
          0.10657442361116409,
          -0.0485103614628315,
          0.19013585150241852,
          0.08425204455852509,
          0.3022623360157013,
          0.1097811907529831,
          0.15120719373226166,
          0.21412819623947144,
          -0.1502148061990738,
          0.32021620869636536,
          -0.5199090838432312,
          0.26116809248924255,
          0.15607811510562897,
          0.24928027391433716,
          0.2574697732925415,
          0.06541013717651367,
          0.23284219205379486,
          0.19521597027778625,
          0.1220376193523407,
          0.24764688313007355,
          0.2552811801433563,
          0.08535856753587723,
          -0.11228009313344955,
          0.3086087703704834,
          0.2223319411277771,
          0.028631821274757385,
          0.18910375237464905,
          0.19139103591442108,
          0.26088136434555054,
          0.25797712802886963,
          0.16367249190807343,
          0.28294214606285095,
          0.26672473549842834,
          0.11021828651428223,
          0.1872255802154541,
          0.18894043564796448,
          0.40557345747947693,
          0.04610815271735191,
          0.20733961462974548,
          0.2423132210969925,
          -0.06382233649492264,
          0.2472050040960312,
          0.1504584103822708,
          0.14710083603858948,
          0.31141915917396545,
          0.2960784137248993,
          0.39457884430885315,
          0.3469558358192444,
          0.26984572410583496,
          0.31181350350379944,
          0.20165343582630157,
          0.09997372329235077,
          0.23437032103538513,
          0.3006083071231842,
          0.16274166107177734,
          0.21418334543704987,
          -0.036892469972372055,
          0.24206583201885223,
          0.19666051864624023,
          0.24603092670440674,
          0.1568194329738617,
          0.2466784417629242,
          0.20836475491523743,
          0.1609935462474823,
          0.2505686581134796,
          0.1649731546640396,
          0.1816979944705963,
          0.19813856482505798,
          0.18896369636058807,
          0.3164209723472595,
          0.21263857185840607,
          0.27782943844795227,
          0.06329230219125748,
          0.3127661347389221,
          0.31312915682792664,
          0.17882943153381348,
          0.30787813663482666,
          0.2947406768798828,
          0.2451857626438141,
          0.2616400420665741,
          0.10495644807815552,
          0.2737394869327545,
          0.35494479537010193,
          0.3144437074661255,
          0.1863756626844406,
          -0.008123863488435745,
          0.18146255612373352,
          0.3008515238761902,
          0.15021347999572754,
          0.18338599801063538,
          0.06767464429140091,
          0.179687961935997,
          0.179687961935997,
          0.44808390736579895,
          0.3418141305446625,
          0.2626379728317261,
          0.16491955518722534,
          0.2955062687397003,
          0.1838960349559784,
          0.06315251439809799,
          0.1205621138215065
         ],
         "y": [
          0.01692316122353077,
          -0.050953786820173264,
          0.10384364426136017,
          -0.16315826773643494,
          0.07316465675830841,
          -0.07888403534889221,
          0.040359724313020706,
          -0.07110393047332764,
          -0.080467090010643,
          0.07771503925323486,
          -0.25980839133262634,
          -0.06744229793548584,
          0.012029659003019333,
          -0.2009425163269043,
          -0.21112078428268433,
          0.07907246053218842,
          -0.05559819936752319,
          -0.022184258326888084,
          -0.10290931910276413,
          0.04756321758031845,
          -0.152109757065773,
          0.02731330692768097,
          -0.049175042659044266,
          0.01553341094404459,
          -0.228013813495636,
          -0.0949971079826355,
          -0.07268836349248886,
          -0.18603800237178802,
          0.07410906255245209,
          -0.1721157729625702,
          -0.0785389170050621,
          -0.3905668556690216,
          0.050330355763435364,
          -0.23659589886665344,
          -0.0548127256333828,
          0.07527134567499161,
          0.08729241788387299,
          -0.0168614499270916,
          0.05963986739516258,
          -0.020983979105949402,
          -0.050849467515945435,
          -0.09203395992517471,
          0.0926736444234848,
          -0.10904137790203094,
          0.057500697672367096,
          -0.15782490372657776,
          -0.04449467360973358,
          -0.04559209942817688,
          -0.02285725437104702,
          0.126945361495018,
          -0.0628308579325676,
          -0.07921136915683746,
          0.04167163744568825,
          -0.26736709475517273,
          0.03778580203652382,
          0.07858052849769592,
          0.019822975620627403,
          -0.0003860250872094184,
          -0.08005373179912567,
          -0.4062695801258087,
          -0.23019914329051971,
          -0.12581892311573029,
          -0.023635277524590492,
          0.049839116632938385,
          0.04515260085463524,
          -0.14805351197719574,
          0.10091082751750946,
          -0.027448398992419243,
          0.019315501675009727,
          -0.07895137369632721,
          -0.027643555775284767,
          -0.057073868811130524,
          -0.08500301092863083,
          -0.06674844771623611,
          -0.030759600922465324,
          -0.09709760546684265,
          -0.011739491485059261,
          -0.13485552370548248,
          0.05340015888214111,
          -0.10261759161949158,
          0.008457896299660206,
          -0.020094171166419983,
          0.06141158193349838,
          -0.005333669949322939,
          -0.2220868617296219,
          -0.05105525627732277,
          -0.05296999216079712,
          0.010035432875156403,
          -0.2248695194721222,
          0.11717329919338226,
          0.033257968723773956,
          -0.039667509496212006,
          0.005788701120764017,
          0.07121402025222778,
          -0.03932620957493782,
          -0.19840027391910553,
          0.14426447451114655,
          0.008650084026157856,
          -0.046336088329553604,
          -0.003118832129985094,
          0.08746055513620377,
          0.008801382035017014,
          -0.037001706659793854,
          -0.10536126792430878,
          0.03399290889501572,
          0.004218205809593201,
          -0.016318591311573982,
          0.04832892864942551,
          -0.1401391476392746,
          0.05246260017156601,
          0.11137718707323074,
          -0.19341187179088593,
          0.05011386796832085,
          0.013704158365726471,
          -0.10655805468559265,
          -0.10655805468559265,
          -0.01538319606333971,
          -0.07975184917449951,
          0.2110157161951065,
          -0.08167900890111923,
          -0.09629889577627182,
          -0.008420153521001339,
          -0.035946693271398544,
          -0.02971111238002777
         ],
         "z": [
          0.11115804314613342,
          -0.01212635450065136,
          -0.0771922692656517,
          -0.03092327155172825,
          0.18063373863697052,
          0.07321791350841522,
          -0.0016075116582214832,
          0.04866651073098183,
          -0.010706134140491486,
          0.024155691266059875,
          -0.10901227593421936,
          -0.12803596258163452,
          0.1087852269411087,
          0.029904522001743317,
          -0.10025544464588165,
          -0.04994673281908035,
          0.035234373062849045,
          -0.04014842212200165,
          -0.022173017263412476,
          -0.052669595927000046,
          -0.09990664571523666,
          0.04339052364230156,
          0.06360773742198944,
          0.2658674716949463,
          -0.08110486716032028,
          0.02874012663960457,
          0.076918825507164,
          0.0030483275186270475,
          0.05394532158970833,
          -0.2003985494375229,
          0.04386609047651291,
          -0.019237667322158813,
          0.023433906957507133,
          0.00638715922832489,
          -0.06893733143806458,
          0.101483553647995,
          -0.014958671294152737,
          0.02897043526172638,
          0.03360090032219887,
          0.09016020596027374,
          -0.07510125637054443,
          0.10564311593770981,
          -0.02475176379084587,
          -0.12807773053646088,
          -0.13944542407989502,
          -0.04979490861296654,
          -0.0505850687623024,
          0.14334812760353088,
          -0.087324358522892,
          -0.14057917892932892,
          0.03291633725166321,
          -0.07999106496572495,
          -0.021377865225076675,
          -0.023503120988607407,
          0.01906111277639866,
          -0.019476665183901787,
          -0.13226807117462158,
          -0.14636053144931793,
          -0.006932163145393133,
          -0.39861124753952026,
          0.17570339143276215,
          -0.0721176266670227,
          0.036891788244247437,
          -0.06892797350883484,
          -0.04074188321828842,
          -0.047019992023706436,
          -0.1060786172747612,
          0.04818335548043251,
          0.06776408106088638,
          -0.15439167618751526,
          0.018112802878022194,
          -0.07775577157735825,
          0.014362229034304619,
          0.025403112173080444,
          0.08424657583236694,
          -0.09393253177404404,
          -0.1299378126859665,
          -0.11135265976190567,
          0.07471702247858047,
          -0.08387850224971771,
          0.19179879128932953,
          -0.11027820408344269,
          0.09104940295219421,
          0.17342723906040192,
          -0.18744321167469025,
          -0.023280004039406776,
          0.15454380214214325,
          -0.051255002617836,
          -0.0378892682492733,
          0.08909958600997925,
          0.06657977402210236,
          0.008554541505873203,
          0.0039798845537006855,
          0.10410577803850174,
          0.08239907771348953,
          -0.08648892492055893,
          0.038111139088869095,
          -0.0273650661110878,
          0.029156241565942764,
          -0.054488662630319595,
          0.0982634499669075,
          0.08118026703596115,
          0.035813793540000916,
          -0.09430234134197235,
          0.03929585590958595,
          -0.06582269817590714,
          -0.19028709828853607,
          0.0012901315931230783,
          -0.12048213928937912,
          0.06726047396659851,
          -0.03311583027243614,
          -0.0012651486322283745,
          0.12636953592300415,
          0.04241708666086197,
          0.04135877266526222,
          0.04135877266526222,
          -0.19860611855983734,
          -0.04515887051820755,
          0.0183876845985651,
          -0.09610641002655029,
          -0.06958909332752228,
          0.06569036096334457,
          -0.03368666395545006,
          -0.16038791835308075
         ]
        },
        {
         "hovertemplate": "label=bad<br>pca_3D_comments_0=%{x}<br>pca_3D_comments_1=%{y}<br>pca_3D_comments_2=%{z}<extra></extra>",
         "legendgroup": "bad",
         "marker": {
          "color": "#ab63fa",
          "opacity": 0.5,
          "size": 2,
          "symbol": "circle"
         },
         "mode": "markers",
         "name": "bad",
         "scene": "scene",
         "showlegend": true,
         "type": "scatter3d",
         "x": [
          0.14751949906349182,
          0.1427590698003769,
          0.09136133641004562,
          0.302263081073761,
          0.25473910570144653,
          0.32527148723602295,
          -0.14860396087169647,
          0.1497100442647934,
          0.33057618141174316,
          0.10568152368068695,
          0.3607473075389862,
          0.3087955415248871,
          0.28418734669685364,
          -0.026331903412938118,
          0.22850187122821808,
          0.2233515828847885,
          0.14467522501945496,
          0.17659178376197815,
          0.1985321044921875,
          0.2511521279811859,
          0.4197748005390167,
          0.27028214931488037,
          0.2543034553527832,
          0.1965901255607605,
          0.2434520721435547,
          0.31947028636932373,
          0.17295756936073303,
          -0.23415838181972504,
          0.2498568594455719,
          0.04225001856684685,
          0.2083142101764679,
          0.2394144982099533,
          -0.12531273066997528,
          0.3006856441497803,
          -0.005650037433952093,
          0.3552648723125458,
          0.24214738607406616,
          0.4051153361797333,
          0.25540226697921753,
          0.29450270533561707,
          0.28546714782714844,
          0.2744326591491699,
          0.20928098261356354,
          0.3852940499782562,
          0.18410126864910126,
          -0.02344023995101452,
          -0.04938507452607155,
          0.30553144216537476,
          0.3803548216819763,
          0.12365272641181946,
          0.1436973214149475,
          0.2683112621307373,
          0.27871599793434143,
          0.3232210576534271,
          0.16587167978286743,
          0.0781841054558754,
          0.2662898004055023,
          0.2879727780818939,
          0.26961594820022583,
          -0.04209272190928459,
          0.39278891682624817,
          0.3142945170402527,
          0.19014723598957062,
          0.25716230273246765,
          0.14676083624362946,
          0.11476797610521317,
          0.39274850487709045,
          0.06460253149271011,
          0.3919711112976074,
          0.3117010295391083,
          0.2772848308086395,
          0.36289340257644653,
          0.17302551865577698,
          0.2669682502746582,
          0.128634512424469,
          0.18594816327095032,
          0.3301076889038086,
          0.18273614346981049,
          0.25670528411865234,
          0.21683433651924133
         ],
         "y": [
          -0.022988570854067802,
          0.038762398064136505,
          -0.17640404403209686,
          -0.03301634639501572,
          -0.15798938274383545,
          -0.057662323117256165,
          -0.30103883147239685,
          0.07348575443029404,
          0.001374864368699491,
          -0.15351377427577972,
          0.10658910870552063,
          -0.07487425208091736,
          0.017397578805685043,
          -0.24631310999393463,
          0.0515371635556221,
          -0.07327877730131149,
          0.13609527051448822,
          -0.041399721056222916,
          0.14309358596801758,
          0.09521344304084778,
          0.10195954889059067,
          0.10761042684316635,
          -0.03772341087460518,
          -0.036102041602134705,
          0.08147674798965454,
          0.06223789229989052,
          -0.01549806259572506,
          0.2625942826271057,
          0.11034130305051804,
          0.06524251401424408,
          -0.1158238872885704,
          -0.07971730083227158,
          0.03366786241531372,
          -0.05101551488041878,
          0.08594214916229248,
          0.03300132974982262,
          0.06431540101766586,
          0.10947285592556,
          0.02828734926879406,
          0.02529054693877697,
          -0.17797856032848358,
          0.06474261730909348,
          0.10694023221731186,
          0.09310048818588257,
          -0.015800293534994125,
          -0.040468424558639526,
          -0.015197347849607468,
          -0.02534213848412037,
          -0.019058259204030037,
          -0.036827389150857925,
          0.08909131586551666,
          -0.06918910890817642,
          0.030436953529715538,
          0.045865029096603394,
          -0.05972151830792427,
          0.09392537921667099,
          0.02105715312063694,
          0.004806517623364925,
          -0.012264955788850784,
          -0.07533948123455048,
          -0.08756985515356064,
          -0.1565416157245636,
          -0.40706050395965576,
          0.02566276676952839,
          -0.058462053537368774,
          -0.07696378976106644,
          0.04781560227274895,
          0.10655795782804489,
          0.0501018650829792,
          0.11680816859006882,
          -0.03710690885782242,
          0.22676312923431396,
          0.016591735184192657,
          0.09538295120000839,
          0.06097320467233658,
          -0.08483831584453583,
          0.07857200503349304,
          0.10442929714918137,
          -0.13290607929229736,
          -0.016300365328788757
         ],
         "z": [
          0.023401612415909767,
          0.02115696296095848,
          -0.05847213417291641,
          -0.03174847364425659,
          -0.09730622172355652,
          -0.08429358154535294,
          -0.012477068230509758,
          0.06960982084274292,
          -0.054592616856098175,
          -0.11990838497877121,
          0.17408214509487152,
          0.03398540988564491,
          0.10213681310415268,
          -0.004945031832903624,
          0.011227038688957691,
          0.022793088108301163,
          0.03438980504870415,
          0.06905367970466614,
          -0.011307921260595322,
          0.21136273443698883,
          0.0058168875984847546,
          0.20611660182476044,
          0.09561729431152344,
          -0.03324216231703758,
          0.031445395201444626,
          0.0950215682387352,
          0.10883480310440063,
          -0.19771911203861237,
          0.2132043093442917,
          0.025666477158665657,
          -0.03701414167881012,
          0.15072882175445557,
          -0.014557995833456516,
          0.026743488386273384,
          0.020759189501404762,
          0.030439509078860283,
          -0.06453116238117218,
          0.01382640190422535,
          -0.0359194241464138,
          -0.11112908273935318,
          0.02377835474908352,
          0.004918874707072973,
          -0.04316852241754532,
          -0.01984196901321411,
          0.07254886627197266,
          -0.03248582407832146,
          0.30017733573913574,
          -0.09881872683763504,
          -0.05332042649388313,
          -0.28553229570388794,
          0.20331181585788727,
          -0.026246488094329834,
          -0.01759607531130314,
          -0.00905529223382473,
          -0.058018285781145096,
          0.0396563857793808,
          0.047473546117544174,
          0.06888209283351898,
          0.15094004571437836,
          0.24777546525001526,
          0.10989933460950851,
          -0.03650423139333725,
          -0.23022504150867462,
          0.02498452179133892,
          -0.026362553238868713,
          0.09399358183145523,
          0.08469162881374359,
          0.14485661685466766,
          0.10694655776023865,
          -0.036657534539699554,
          -0.045216597616672516,
          -0.005905940663069487,
          0.0940006673336029,
          0.14535029232501984,
          -0.19342805445194244,
          -0.14929726719856262,
          0.20560115575790405,
          0.04613049328327179,
          -0.1485026329755783,
          0.20693808794021606
         ]
        }
       ],
       "layout": {
        "legend": {
         "title": {
          "text": "label"
         },
         "tracegroupgap": 0
        },
        "margin": {
         "t": 60
        },
        "scene": {
         "domain": {
          "x": [
           0,
           1
          ],
          "y": [
           0,
           1
          ]
         },
         "xaxis": {
          "title": {
           "text": "pca_3D_comments_0"
          }
         },
         "yaxis": {
          "title": {
           "text": "pca_3D_comments_1"
          }
         },
         "zaxis": {
          "title": {
           "text": "pca_3D_comments_2"
          }
         }
        },
        "template": {
         "data": {
          "bar": [
           {
            "error_x": {
             "color": "#2a3f5f"
            },
            "error_y": {
             "color": "#2a3f5f"
            },
            "marker": {
             "line": {
              "color": "#E5ECF6",
              "width": 0.5
             },
             "pattern": {
              "fillmode": "overlay",
              "size": 10,
              "solidity": 0.2
             }
            },
            "type": "bar"
           }
          ],
          "barpolar": [
           {
            "marker": {
             "line": {
              "color": "#E5ECF6",
              "width": 0.5
             },
             "pattern": {
              "fillmode": "overlay",
              "size": 10,
              "solidity": 0.2
             }
            },
            "type": "barpolar"
           }
          ],
          "carpet": [
           {
            "aaxis": {
             "endlinecolor": "#2a3f5f",
             "gridcolor": "white",
             "linecolor": "white",
             "minorgridcolor": "white",
             "startlinecolor": "#2a3f5f"
            },
            "baxis": {
             "endlinecolor": "#2a3f5f",
             "gridcolor": "white",
             "linecolor": "white",
             "minorgridcolor": "white",
             "startlinecolor": "#2a3f5f"
            },
            "type": "carpet"
           }
          ],
          "choropleth": [
           {
            "colorbar": {
             "outlinewidth": 0,
             "ticks": ""
            },
            "type": "choropleth"
           }
          ],
          "contour": [
           {
            "colorbar": {
             "outlinewidth": 0,
             "ticks": ""
            },
            "colorscale": [
             [
              0,
              "#0d0887"
             ],
             [
              0.1111111111111111,
              "#46039f"
             ],
             [
              0.2222222222222222,
              "#7201a8"
             ],
             [
              0.3333333333333333,
              "#9c179e"
             ],
             [
              0.4444444444444444,
              "#bd3786"
             ],
             [
              0.5555555555555556,
              "#d8576b"
             ],
             [
              0.6666666666666666,
              "#ed7953"
             ],
             [
              0.7777777777777778,
              "#fb9f3a"
             ],
             [
              0.8888888888888888,
              "#fdca26"
             ],
             [
              1,
              "#f0f921"
             ]
            ],
            "type": "contour"
           }
          ],
          "contourcarpet": [
           {
            "colorbar": {
             "outlinewidth": 0,
             "ticks": ""
            },
            "type": "contourcarpet"
           }
          ],
          "heatmap": [
           {
            "colorbar": {
             "outlinewidth": 0,
             "ticks": ""
            },
            "colorscale": [
             [
              0,
              "#0d0887"
             ],
             [
              0.1111111111111111,
              "#46039f"
             ],
             [
              0.2222222222222222,
              "#7201a8"
             ],
             [
              0.3333333333333333,
              "#9c179e"
             ],
             [
              0.4444444444444444,
              "#bd3786"
             ],
             [
              0.5555555555555556,
              "#d8576b"
             ],
             [
              0.6666666666666666,
              "#ed7953"
             ],
             [
              0.7777777777777778,
              "#fb9f3a"
             ],
             [
              0.8888888888888888,
              "#fdca26"
             ],
             [
              1,
              "#f0f921"
             ]
            ],
            "type": "heatmap"
           }
          ],
          "heatmapgl": [
           {
            "colorbar": {
             "outlinewidth": 0,
             "ticks": ""
            },
            "colorscale": [
             [
              0,
              "#0d0887"
             ],
             [
              0.1111111111111111,
              "#46039f"
             ],
             [
              0.2222222222222222,
              "#7201a8"
             ],
             [
              0.3333333333333333,
              "#9c179e"
             ],
             [
              0.4444444444444444,
              "#bd3786"
             ],
             [
              0.5555555555555556,
              "#d8576b"
             ],
             [
              0.6666666666666666,
              "#ed7953"
             ],
             [
              0.7777777777777778,
              "#fb9f3a"
             ],
             [
              0.8888888888888888,
              "#fdca26"
             ],
             [
              1,
              "#f0f921"
             ]
            ],
            "type": "heatmapgl"
           }
          ],
          "histogram": [
           {
            "marker": {
             "pattern": {
              "fillmode": "overlay",
              "size": 10,
              "solidity": 0.2
             }
            },
            "type": "histogram"
           }
          ],
          "histogram2d": [
           {
            "colorbar": {
             "outlinewidth": 0,
             "ticks": ""
            },
            "colorscale": [
             [
              0,
              "#0d0887"
             ],
             [
              0.1111111111111111,
              "#46039f"
             ],
             [
              0.2222222222222222,
              "#7201a8"
             ],
             [
              0.3333333333333333,
              "#9c179e"
             ],
             [
              0.4444444444444444,
              "#bd3786"
             ],
             [
              0.5555555555555556,
              "#d8576b"
             ],
             [
              0.6666666666666666,
              "#ed7953"
             ],
             [
              0.7777777777777778,
              "#fb9f3a"
             ],
             [
              0.8888888888888888,
              "#fdca26"
             ],
             [
              1,
              "#f0f921"
             ]
            ],
            "type": "histogram2d"
           }
          ],
          "histogram2dcontour": [
           {
            "colorbar": {
             "outlinewidth": 0,
             "ticks": ""
            },
            "colorscale": [
             [
              0,
              "#0d0887"
             ],
             [
              0.1111111111111111,
              "#46039f"
             ],
             [
              0.2222222222222222,
              "#7201a8"
             ],
             [
              0.3333333333333333,
              "#9c179e"
             ],
             [
              0.4444444444444444,
              "#bd3786"
             ],
             [
              0.5555555555555556,
              "#d8576b"
             ],
             [
              0.6666666666666666,
              "#ed7953"
             ],
             [
              0.7777777777777778,
              "#fb9f3a"
             ],
             [
              0.8888888888888888,
              "#fdca26"
             ],
             [
              1,
              "#f0f921"
             ]
            ],
            "type": "histogram2dcontour"
           }
          ],
          "mesh3d": [
           {
            "colorbar": {
             "outlinewidth": 0,
             "ticks": ""
            },
            "type": "mesh3d"
           }
          ],
          "parcoords": [
           {
            "line": {
             "colorbar": {
              "outlinewidth": 0,
              "ticks": ""
             }
            },
            "type": "parcoords"
           }
          ],
          "pie": [
           {
            "automargin": true,
            "type": "pie"
           }
          ],
          "scatter": [
           {
            "fillpattern": {
             "fillmode": "overlay",
             "size": 10,
             "solidity": 0.2
            },
            "type": "scatter"
           }
          ],
          "scatter3d": [
           {
            "line": {
             "colorbar": {
              "outlinewidth": 0,
              "ticks": ""
             }
            },
            "marker": {
             "colorbar": {
              "outlinewidth": 0,
              "ticks": ""
             }
            },
            "type": "scatter3d"
           }
          ],
          "scattercarpet": [
           {
            "marker": {
             "colorbar": {
              "outlinewidth": 0,
              "ticks": ""
             }
            },
            "type": "scattercarpet"
           }
          ],
          "scattergeo": [
           {
            "marker": {
             "colorbar": {
              "outlinewidth": 0,
              "ticks": ""
             }
            },
            "type": "scattergeo"
           }
          ],
          "scattergl": [
           {
            "marker": {
             "colorbar": {
              "outlinewidth": 0,
              "ticks": ""
             }
            },
            "type": "scattergl"
           }
          ],
          "scattermapbox": [
           {
            "marker": {
             "colorbar": {
              "outlinewidth": 0,
              "ticks": ""
             }
            },
            "type": "scattermapbox"
           }
          ],
          "scatterpolar": [
           {
            "marker": {
             "colorbar": {
              "outlinewidth": 0,
              "ticks": ""
             }
            },
            "type": "scatterpolar"
           }
          ],
          "scatterpolargl": [
           {
            "marker": {
             "colorbar": {
              "outlinewidth": 0,
              "ticks": ""
             }
            },
            "type": "scatterpolargl"
           }
          ],
          "scatterternary": [
           {
            "marker": {
             "colorbar": {
              "outlinewidth": 0,
              "ticks": ""
             }
            },
            "type": "scatterternary"
           }
          ],
          "surface": [
           {
            "colorbar": {
             "outlinewidth": 0,
             "ticks": ""
            },
            "colorscale": [
             [
              0,
              "#0d0887"
             ],
             [
              0.1111111111111111,
              "#46039f"
             ],
             [
              0.2222222222222222,
              "#7201a8"
             ],
             [
              0.3333333333333333,
              "#9c179e"
             ],
             [
              0.4444444444444444,
              "#bd3786"
             ],
             [
              0.5555555555555556,
              "#d8576b"
             ],
             [
              0.6666666666666666,
              "#ed7953"
             ],
             [
              0.7777777777777778,
              "#fb9f3a"
             ],
             [
              0.8888888888888888,
              "#fdca26"
             ],
             [
              1,
              "#f0f921"
             ]
            ],
            "type": "surface"
           }
          ],
          "table": [
           {
            "cells": {
             "fill": {
              "color": "#EBF0F8"
             },
             "line": {
              "color": "white"
             }
            },
            "header": {
             "fill": {
              "color": "#C8D4E3"
             },
             "line": {
              "color": "white"
             }
            },
            "type": "table"
           }
          ]
         },
         "layout": {
          "annotationdefaults": {
           "arrowcolor": "#2a3f5f",
           "arrowhead": 0,
           "arrowwidth": 1
          },
          "autotypenumbers": "strict",
          "coloraxis": {
           "colorbar": {
            "outlinewidth": 0,
            "ticks": ""
           }
          },
          "colorscale": {
           "diverging": [
            [
             0,
             "#8e0152"
            ],
            [
             0.1,
             "#c51b7d"
            ],
            [
             0.2,
             "#de77ae"
            ],
            [
             0.3,
             "#f1b6da"
            ],
            [
             0.4,
             "#fde0ef"
            ],
            [
             0.5,
             "#f7f7f7"
            ],
            [
             0.6,
             "#e6f5d0"
            ],
            [
             0.7,
             "#b8e186"
            ],
            [
             0.8,
             "#7fbc41"
            ],
            [
             0.9,
             "#4d9221"
            ],
            [
             1,
             "#276419"
            ]
           ],
           "sequential": [
            [
             0,
             "#0d0887"
            ],
            [
             0.1111111111111111,
             "#46039f"
            ],
            [
             0.2222222222222222,
             "#7201a8"
            ],
            [
             0.3333333333333333,
             "#9c179e"
            ],
            [
             0.4444444444444444,
             "#bd3786"
            ],
            [
             0.5555555555555556,
             "#d8576b"
            ],
            [
             0.6666666666666666,
             "#ed7953"
            ],
            [
             0.7777777777777778,
             "#fb9f3a"
            ],
            [
             0.8888888888888888,
             "#fdca26"
            ],
            [
             1,
             "#f0f921"
            ]
           ],
           "sequentialminus": [
            [
             0,
             "#0d0887"
            ],
            [
             0.1111111111111111,
             "#46039f"
            ],
            [
             0.2222222222222222,
             "#7201a8"
            ],
            [
             0.3333333333333333,
             "#9c179e"
            ],
            [
             0.4444444444444444,
             "#bd3786"
            ],
            [
             0.5555555555555556,
             "#d8576b"
            ],
            [
             0.6666666666666666,
             "#ed7953"
            ],
            [
             0.7777777777777778,
             "#fb9f3a"
            ],
            [
             0.8888888888888888,
             "#fdca26"
            ],
            [
             1,
             "#f0f921"
            ]
           ]
          },
          "colorway": [
           "#636efa",
           "#EF553B",
           "#00cc96",
           "#ab63fa",
           "#FFA15A",
           "#19d3f3",
           "#FF6692",
           "#B6E880",
           "#FF97FF",
           "#FECB52"
          ],
          "font": {
           "color": "#2a3f5f"
          },
          "geo": {
           "bgcolor": "white",
           "lakecolor": "white",
           "landcolor": "#E5ECF6",
           "showlakes": true,
           "showland": true,
           "subunitcolor": "white"
          },
          "hoverlabel": {
           "align": "left"
          },
          "hovermode": "closest",
          "mapbox": {
           "style": "light"
          },
          "paper_bgcolor": "white",
          "plot_bgcolor": "#E5ECF6",
          "polar": {
           "angularaxis": {
            "gridcolor": "white",
            "linecolor": "white",
            "ticks": ""
           },
           "bgcolor": "#E5ECF6",
           "radialaxis": {
            "gridcolor": "white",
            "linecolor": "white",
            "ticks": ""
           }
          },
          "scene": {
           "xaxis": {
            "backgroundcolor": "#E5ECF6",
            "gridcolor": "white",
            "gridwidth": 2,
            "linecolor": "white",
            "showbackground": true,
            "ticks": "",
            "zerolinecolor": "white"
           },
           "yaxis": {
            "backgroundcolor": "#E5ECF6",
            "gridcolor": "white",
            "gridwidth": 2,
            "linecolor": "white",
            "showbackground": true,
            "ticks": "",
            "zerolinecolor": "white"
           },
           "zaxis": {
            "backgroundcolor": "#E5ECF6",
            "gridcolor": "white",
            "gridwidth": 2,
            "linecolor": "white",
            "showbackground": true,
            "ticks": "",
            "zerolinecolor": "white"
           }
          },
          "shapedefaults": {
           "line": {
            "color": "#2a3f5f"
           }
          },
          "ternary": {
           "aaxis": {
            "gridcolor": "white",
            "linecolor": "white",
            "ticks": ""
           },
           "baxis": {
            "gridcolor": "white",
            "linecolor": "white",
            "ticks": ""
           },
           "bgcolor": "#E5ECF6",
           "caxis": {
            "gridcolor": "white",
            "linecolor": "white",
            "ticks": ""
           }
          },
          "title": {
           "x": 0.05
          },
          "xaxis": {
           "automargin": true,
           "gridcolor": "white",
           "linecolor": "white",
           "ticks": "",
           "title": {
            "standoff": 15
           },
           "zerolinecolor": "white",
           "zerolinewidth": 2
          },
          "yaxis": {
           "automargin": true,
           "gridcolor": "white",
           "linecolor": "white",
           "ticks": "",
           "title": {
            "standoff": 15
           },
           "zerolinecolor": "white",
           "zerolinewidth": 2
          }
         }
        }
       }
      }
     },
     "metadata": {},
     "output_type": "display_data"
    }
   ],
   "source": [
    "comments_embeddings, _ = embeddings_features(col=\"comments\")\n",
    "\n",
    "pca_features = do_pca(comments_embeddings, \"comments\", 3)[0]\n",
    "\n",
    "# add label from df.label\n",
    "pca_features[\"label\"] = df.label\n",
    "\n",
    "pca_features\n",
    "\n",
    "# use plotly to plot the PCA vectors\n",
    "import plotly.express as px\n",
    "\n",
    "fig = px.scatter_3d(pca_features, x=\"pca_3D_comments_0\", y=\"pca_3D_comments_1\", z=\"pca_3D_comments_2\", color=\"label\")\n",
    "\n",
    "# make point smaller and opaque\n",
    "fig.update_traces(marker=dict(size=2, opacity=0.5))\n",
    "\n",
    "fig.show()"
   ]
  },
  {
   "attachments": {},
   "cell_type": "markdown",
   "metadata": {},
   "source": [
    "# Generate Features"
   ]
  },
  {
   "attachments": {},
   "cell_type": "markdown",
   "metadata": {},
   "source": [
    "With what we know, let's generate some features. I've provided a function for each type of feature, so we can mix and match."
   ]
  },
  {
   "cell_type": "code",
   "execution_count": 43,
   "metadata": {},
   "outputs": [],
   "source": [
    "to_try = {\n",
    "    \"pcas\": [2, 3, 5, 10, 20],\n",
    "    \"embeddings\": [50, 100, 200, 300, 500, 1000],\n",
    "}"
   ]
  },
  {
   "cell_type": "code",
   "execution_count": 44,
   "metadata": {},
   "outputs": [
    {
     "name": "stdout",
     "output_type": "stream",
     "text": [
      "Calculating amenities features with correlation threshold of 0.05\n",
      "Features above correlation threshold (0.05):\n",
      "['id', 'lockbox', 'pool', 'dishwasher', 'tv', 'keypad', 'kitchen', 'breakfast']\n",
      "Calculating amenities features with correlation threshold of None\n",
      "Embedding comments with vector size 50\n",
      "Embedding description with vector size 50\n",
      "Performing PCA on comments with 3 components\n",
      "Performing PCA on description with 3 components\n",
      "Performing PCA on comments+amenities with 3 components\n",
      "Performing PCA on description+amenities with 3 components\n",
      "Performing PCA on comments with 5 components\n",
      "Performing PCA on description with 5 components\n",
      "Performing PCA on comments+amenities with 5 components\n",
      "Performing PCA on description+amenities with 5 components\n",
      "Performing PCA on comments with 10 components\n",
      "Performing PCA on description with 10 components\n",
      "Performing PCA on comments+amenities with 10 components\n",
      "Performing PCA on description+amenities with 10 components\n",
      "Performing PCA on comments with 20 components\n",
      "Performing PCA on description with 20 components\n",
      "Performing PCA on comments+amenities with 20 components\n",
      "Performing PCA on description+amenities with 20 components\n",
      "Embedding comments with vector size 100\n",
      "Embedding description with vector size 100\n",
      "Performing PCA on comments with 3 components\n",
      "Performing PCA on description with 3 components\n",
      "Performing PCA on comments+amenities with 3 components\n",
      "Performing PCA on description+amenities with 3 components\n",
      "Performing PCA on comments with 5 components\n",
      "Performing PCA on description with 5 components\n",
      "Performing PCA on comments+amenities with 5 components\n",
      "Performing PCA on description+amenities with 5 components\n",
      "Performing PCA on comments with 10 components\n",
      "Performing PCA on description with 10 components\n",
      "Performing PCA on comments+amenities with 10 components\n",
      "Performing PCA on description+amenities with 10 components\n",
      "Performing PCA on comments with 20 components\n",
      "Performing PCA on description with 20 components\n",
      "Performing PCA on comments+amenities with 20 components\n",
      "Performing PCA on description+amenities with 20 components\n",
      "Embedding comments with vector size 200\n",
      "Embedding description with vector size 200\n",
      "Performing PCA on comments with 3 components\n",
      "Performing PCA on description with 3 components\n",
      "Performing PCA on comments+amenities with 3 components\n",
      "Performing PCA on description+amenities with 3 components\n",
      "Performing PCA on comments with 5 components\n",
      "Performing PCA on description with 5 components\n",
      "Performing PCA on comments+amenities with 5 components\n",
      "Performing PCA on description+amenities with 5 components\n",
      "Performing PCA on comments with 10 components\n",
      "Performing PCA on description with 10 components\n",
      "Performing PCA on comments+amenities with 10 components\n",
      "Performing PCA on description+amenities with 10 components\n",
      "Performing PCA on comments with 20 components\n",
      "Performing PCA on description with 20 components\n",
      "Performing PCA on comments+amenities with 20 components\n",
      "Performing PCA on description+amenities with 20 components\n",
      "Embedding comments with vector size 300\n",
      "Embedding description with vector size 300\n",
      "Performing PCA on comments with 3 components\n",
      "Performing PCA on description with 3 components\n",
      "Performing PCA on comments+amenities with 3 components\n",
      "Performing PCA on description+amenities with 3 components\n",
      "Performing PCA on comments with 5 components\n",
      "Performing PCA on description with 5 components\n",
      "Performing PCA on comments+amenities with 5 components\n",
      "Performing PCA on description+amenities with 5 components\n",
      "Performing PCA on comments with 10 components\n",
      "Performing PCA on description with 10 components\n",
      "Performing PCA on comments+amenities with 10 components\n",
      "Performing PCA on description+amenities with 10 components\n",
      "Performing PCA on comments with 20 components\n",
      "Performing PCA on description with 20 components\n",
      "Performing PCA on comments+amenities with 20 components\n",
      "Performing PCA on description+amenities with 20 components\n",
      "Embedding comments with vector size 500\n",
      "Embedding description with vector size 500\n",
      "Performing PCA on comments with 3 components\n",
      "Performing PCA on description with 3 components\n",
      "Performing PCA on comments+amenities with 3 components\n",
      "Performing PCA on description+amenities with 3 components\n",
      "Performing PCA on comments with 5 components\n",
      "Performing PCA on description with 5 components\n",
      "Performing PCA on comments+amenities with 5 components\n",
      "Performing PCA on description+amenities with 5 components\n",
      "Performing PCA on comments with 10 components\n",
      "Performing PCA on description with 10 components\n",
      "Performing PCA on comments+amenities with 10 components\n",
      "Performing PCA on description+amenities with 10 components\n",
      "Performing PCA on comments with 20 components\n",
      "Performing PCA on description with 20 components\n",
      "Performing PCA on comments+amenities with 20 components\n",
      "Performing PCA on description+amenities with 20 components\n",
      "Embedding comments with vector size 1000\n",
      "Embedding description with vector size 1000\n",
      "Performing PCA on comments with 3 components\n",
      "Performing PCA on description with 3 components\n",
      "Performing PCA on comments+amenities with 3 components\n",
      "Performing PCA on description+amenities with 3 components\n",
      "Performing PCA on comments with 5 components\n",
      "Performing PCA on description with 5 components\n",
      "Performing PCA on comments+amenities with 5 components\n",
      "Performing PCA on description+amenities with 5 components\n",
      "Performing PCA on comments with 10 components\n",
      "Performing PCA on description with 10 components\n",
      "Performing PCA on comments+amenities with 10 components\n",
      "Performing PCA on description+amenities with 10 components\n",
      "Performing PCA on comments with 20 components\n",
      "Performing PCA on description with 20 components\n",
      "Performing PCA on comments+amenities with 20 components\n",
      "Performing PCA on description+amenities with 20 components\n",
      "amenities (amenities) - {'corr_thresh': 0.05}\n",
      "amenities (amenities) - {'corr_thresh': None}\n",
      "embeddings (comments) - {'vector_size': 50}\n",
      "embeddings (description) - {'vector_size': 50}\n",
      "pca (comments) - {'n_components': 3, 'vector_size': 50}\n",
      "pca (description) - {'n_components': 3, 'vector_size': 50}\n",
      "pca (comments+amenities) - {'n_components': 3, 'vector_size': 50}\n",
      "pca (description+amenities) - {'n_components': 3, 'vector_size': 50}\n",
      "pca (comments) - {'n_components': 5, 'vector_size': 50}\n",
      "pca (description) - {'n_components': 5, 'vector_size': 50}\n",
      "pca (comments+amenities) - {'n_components': 5, 'vector_size': 50}\n",
      "pca (description+amenities) - {'n_components': 5, 'vector_size': 50}\n",
      "pca (comments) - {'n_components': 10, 'vector_size': 50}\n",
      "pca (description) - {'n_components': 10, 'vector_size': 50}\n",
      "pca (comments+amenities) - {'n_components': 10, 'vector_size': 50}\n",
      "pca (description+amenities) - {'n_components': 10, 'vector_size': 50}\n",
      "pca (comments) - {'n_components': 20, 'vector_size': 50}\n",
      "pca (description) - {'n_components': 20, 'vector_size': 50}\n",
      "pca (comments+amenities) - {'n_components': 20, 'vector_size': 50}\n",
      "pca (description+amenities) - {'n_components': 20, 'vector_size': 50}\n",
      "embeddings (comments) - {'vector_size': 100}\n",
      "embeddings (description) - {'vector_size': 100}\n",
      "pca (comments) - {'n_components': 3, 'vector_size': 100}\n",
      "pca (description) - {'n_components': 3, 'vector_size': 100}\n",
      "pca (comments+amenities) - {'n_components': 3, 'vector_size': 100}\n",
      "pca (description+amenities) - {'n_components': 3, 'vector_size': 100}\n",
      "pca (comments) - {'n_components': 5, 'vector_size': 100}\n",
      "pca (description) - {'n_components': 5, 'vector_size': 100}\n",
      "pca (comments+amenities) - {'n_components': 5, 'vector_size': 100}\n",
      "pca (description+amenities) - {'n_components': 5, 'vector_size': 100}\n",
      "pca (comments) - {'n_components': 10, 'vector_size': 100}\n",
      "pca (description) - {'n_components': 10, 'vector_size': 100}\n",
      "pca (comments+amenities) - {'n_components': 10, 'vector_size': 100}\n",
      "pca (description+amenities) - {'n_components': 10, 'vector_size': 100}\n",
      "pca (comments) - {'n_components': 20, 'vector_size': 100}\n",
      "pca (description) - {'n_components': 20, 'vector_size': 100}\n",
      "pca (comments+amenities) - {'n_components': 20, 'vector_size': 100}\n",
      "pca (description+amenities) - {'n_components': 20, 'vector_size': 100}\n",
      "embeddings (comments) - {'vector_size': 200}\n",
      "embeddings (description) - {'vector_size': 200}\n",
      "pca (comments) - {'n_components': 3, 'vector_size': 200}\n",
      "pca (description) - {'n_components': 3, 'vector_size': 200}\n",
      "pca (comments+amenities) - {'n_components': 3, 'vector_size': 200}\n",
      "pca (description+amenities) - {'n_components': 3, 'vector_size': 200}\n",
      "pca (comments) - {'n_components': 5, 'vector_size': 200}\n",
      "pca (description) - {'n_components': 5, 'vector_size': 200}\n",
      "pca (comments+amenities) - {'n_components': 5, 'vector_size': 200}\n",
      "pca (description+amenities) - {'n_components': 5, 'vector_size': 200}\n",
      "pca (comments) - {'n_components': 10, 'vector_size': 200}\n",
      "pca (description) - {'n_components': 10, 'vector_size': 200}\n",
      "pca (comments+amenities) - {'n_components': 10, 'vector_size': 200}\n",
      "pca (description+amenities) - {'n_components': 10, 'vector_size': 200}\n",
      "pca (comments) - {'n_components': 20, 'vector_size': 200}\n",
      "pca (description) - {'n_components': 20, 'vector_size': 200}\n",
      "pca (comments+amenities) - {'n_components': 20, 'vector_size': 200}\n",
      "pca (description+amenities) - {'n_components': 20, 'vector_size': 200}\n",
      "embeddings (comments) - {'vector_size': 300}\n",
      "embeddings (description) - {'vector_size': 300}\n",
      "pca (comments) - {'n_components': 3, 'vector_size': 300}\n",
      "pca (description) - {'n_components': 3, 'vector_size': 300}\n",
      "pca (comments+amenities) - {'n_components': 3, 'vector_size': 300}\n",
      "pca (description+amenities) - {'n_components': 3, 'vector_size': 300}\n",
      "pca (comments) - {'n_components': 5, 'vector_size': 300}\n",
      "pca (description) - {'n_components': 5, 'vector_size': 300}\n",
      "pca (comments+amenities) - {'n_components': 5, 'vector_size': 300}\n",
      "pca (description+amenities) - {'n_components': 5, 'vector_size': 300}\n",
      "pca (comments) - {'n_components': 10, 'vector_size': 300}\n",
      "pca (description) - {'n_components': 10, 'vector_size': 300}\n",
      "pca (comments+amenities) - {'n_components': 10, 'vector_size': 300}\n",
      "pca (description+amenities) - {'n_components': 10, 'vector_size': 300}\n",
      "pca (comments) - {'n_components': 20, 'vector_size': 300}\n",
      "pca (description) - {'n_components': 20, 'vector_size': 300}\n",
      "pca (comments+amenities) - {'n_components': 20, 'vector_size': 300}\n",
      "pca (description+amenities) - {'n_components': 20, 'vector_size': 300}\n",
      "embeddings (comments) - {'vector_size': 500}\n",
      "embeddings (description) - {'vector_size': 500}\n",
      "pca (comments) - {'n_components': 3, 'vector_size': 500}\n",
      "pca (description) - {'n_components': 3, 'vector_size': 500}\n",
      "pca (comments+amenities) - {'n_components': 3, 'vector_size': 500}\n",
      "pca (description+amenities) - {'n_components': 3, 'vector_size': 500}\n",
      "pca (comments) - {'n_components': 5, 'vector_size': 500}\n",
      "pca (description) - {'n_components': 5, 'vector_size': 500}\n",
      "pca (comments+amenities) - {'n_components': 5, 'vector_size': 500}\n",
      "pca (description+amenities) - {'n_components': 5, 'vector_size': 500}\n",
      "pca (comments) - {'n_components': 10, 'vector_size': 500}\n",
      "pca (description) - {'n_components': 10, 'vector_size': 500}\n",
      "pca (comments+amenities) - {'n_components': 10, 'vector_size': 500}\n",
      "pca (description+amenities) - {'n_components': 10, 'vector_size': 500}\n",
      "pca (comments) - {'n_components': 20, 'vector_size': 500}\n",
      "pca (description) - {'n_components': 20, 'vector_size': 500}\n",
      "pca (comments+amenities) - {'n_components': 20, 'vector_size': 500}\n",
      "pca (description+amenities) - {'n_components': 20, 'vector_size': 500}\n",
      "embeddings (comments) - {'vector_size': 1000}\n",
      "embeddings (description) - {'vector_size': 1000}\n",
      "pca (comments) - {'n_components': 3, 'vector_size': 1000}\n",
      "pca (description) - {'n_components': 3, 'vector_size': 1000}\n",
      "pca (comments+amenities) - {'n_components': 3, 'vector_size': 1000}\n",
      "pca (description+amenities) - {'n_components': 3, 'vector_size': 1000}\n",
      "pca (comments) - {'n_components': 5, 'vector_size': 1000}\n",
      "pca (description) - {'n_components': 5, 'vector_size': 1000}\n",
      "pca (comments+amenities) - {'n_components': 5, 'vector_size': 1000}\n",
      "pca (description+amenities) - {'n_components': 5, 'vector_size': 1000}\n",
      "pca (comments) - {'n_components': 10, 'vector_size': 1000}\n",
      "pca (description) - {'n_components': 10, 'vector_size': 1000}\n",
      "pca (comments+amenities) - {'n_components': 10, 'vector_size': 1000}\n",
      "pca (description+amenities) - {'n_components': 10, 'vector_size': 1000}\n",
      "pca (comments) - {'n_components': 20, 'vector_size': 1000}\n",
      "pca (description) - {'n_components': 20, 'vector_size': 1000}\n",
      "pca (comments+amenities) - {'n_components': 20, 'vector_size': 1000}\n",
      "pca (description+amenities) - {'n_components': 20, 'vector_size': 1000}\n"
     ]
    }
   ],
   "source": [
    "from dataclasses import dataclass\n",
    "from typing import List, Any\n",
    "\n",
    "@dataclass\n",
    "class Feature:\n",
    "    data: pd.DataFrame | np.ndarray\n",
    "    col: str\n",
    "    type: str\n",
    "    model: Any | None\n",
    "    params: dict | None\n",
    "\n",
    "    def __str__(self):\n",
    "        return f\"{self.type} ({self.col}) - {self.params}\"\n",
    "    \n",
    "    __repr__ = __str__\n",
    "    \n",
    "\n",
    "features: List[Feature] = []\n",
    "\n",
    "# get the amenities\n",
    "amenity005 = amenities_features(corr_thresh=0.05, prefix=\"amenity005_\").fillna(0)\n",
    "amenityall = amenities_features(corr_thresh=None, prefix=\"amenityall_\").fillna(0)\n",
    "\n",
    "features.extend([\n",
    "    Feature(\n",
    "        data=amenity005,\n",
    "        col=\"amenities\",\n",
    "        type=\"amenities\",\n",
    "        model=None,\n",
    "        params={\"corr_thresh\": 0.05}\n",
    "    ),\n",
    "    Feature(\n",
    "        data=amenityall,\n",
    "        col=\"amenities\",\n",
    "        type=\"amenities\",\n",
    "        model=None,\n",
    "        params={\"corr_thresh\": None}\n",
    "    ),\n",
    "])\n",
    "\n",
    "# get the embeddings\n",
    "for emb_vector_size in to_try[\"embeddings\"]:\n",
    "    embeddings_comments, w2vmodel_comments = embeddings_features(col=\"comments\", emb_vector_size=emb_vector_size)\n",
    "    embeddings_description, w2vmodel_description = embeddings_features(col=\"description\", emb_vector_size=emb_vector_size)\n",
    "    \n",
    "    features.extend([\n",
    "        Feature(\n",
    "            data=embeddings_comments, \n",
    "            col=\"comments\", \n",
    "            type=\"embeddings\", \n",
    "            model=w2vmodel_comments, \n",
    "            params={\"vector_size\": emb_vector_size}\n",
    "        ),\n",
    "        Feature(\n",
    "            data=embeddings_description, \n",
    "            col=\"description\", \n",
    "            type=\"embeddings\", \n",
    "            model=w2vmodel_description, \n",
    "            params={\"vector_size\": emb_vector_size}\n",
    "        ),\n",
    "    ])\n",
    "\n",
    "    \n",
    "    for pca_dims in [3, 5, 10, 20]:\n",
    "\n",
    "        # Apply PCA to the embeddings\n",
    "        pca_features_comments, pca_comments = do_pca(embeddings_comments, \"comments\", pca_dims)\n",
    "        pca_features_description, pca_description = do_pca(embeddings_description, \"description\", pca_dims)\n",
    "\n",
    "        features.extend([\n",
    "            Feature(\n",
    "                data=pca_features_comments, \n",
    "                col=\"comments\", type=\"pca\", \n",
    "                model=pca_comments, \n",
    "                params={\"n_components\": pca_dims, \"vector_size\": emb_vector_size}\n",
    "            ),\n",
    "            Feature(\n",
    "                data=pca_features_description, \n",
    "                col=\"description\", \n",
    "                type=\"pca\", \n",
    "                model=pca_description, \n",
    "                params={\"n_components\": pca_dims, \"vector_size\": emb_vector_size}\n",
    "            ),\n",
    "        ])\n",
    "\n",
    "        # Apply PCA to embeddings + amenities\n",
    "        comments_and_amenities = pd.concat([embeddings_comments, amenityall], axis=1).fillna(0)\n",
    "        description_and_amenities = pd.concat([embeddings_description, amenityall], axis=1).fillna(0)\n",
    "        pca_features_comments_amenities, pca_comments_amenities = do_pca(comments_and_amenities, \"comments+amenities\", pca_dims)\n",
    "        pca_features_description_amenities, pca_description_amenities = do_pca(description_and_amenities, \"description+amenities\", pca_dims)\n",
    "\n",
    "        features.extend([\n",
    "            Feature(\n",
    "                data=pca_features_comments_amenities, \n",
    "                col=\"comments+amenities\", \n",
    "                type=\"pca\", \n",
    "                model=pca_comments_amenities, \n",
    "                params={\"n_components\": pca_dims, \"vector_size\": emb_vector_size}\n",
    "            ),\n",
    "            Feature(\n",
    "                data=pca_features_description_amenities, \n",
    "                col=\"description+amenities\", \n",
    "                type=\"pca\", \n",
    "                model=pca_description_amenities, \n",
    "                params={\"n_components\": pca_dims, \"vector_size\": emb_vector_size}\n",
    "            ),\n",
    "        ])\n",
    "\n",
    "for feature in features:\n",
    "    print(feature)\n"
   ]
  },
  {
   "cell_type": "code",
   "execution_count": 47,
   "metadata": {},
   "outputs": [
    {
     "name": "stdout",
     "output_type": "stream",
     "text": [
      "Total feature types: 110\n"
     ]
    }
   ],
   "source": [
    "print(f\"Total feature types: {len(features)}\")"
   ]
  },
  {
   "attachments": {},
   "cell_type": "markdown",
   "metadata": {},
   "source": [
    "## Save the features"
   ]
  },
  {
   "attachments": {},
   "cell_type": "markdown",
   "metadata": {},
   "source": [
    "Here we will save the features to a csv. We will also save the trained word2vec and pca models, so we can use it later."
   ]
  },
  {
   "cell_type": "code",
   "execution_count": 46,
   "metadata": {},
   "outputs": [],
   "source": [
    "import pickle\n",
    "\n",
    "if isinstance(GEO, list):\n",
    "    geo_display_name = \"_\".join(GEO)\n",
    "else:\n",
    "    geo_display_name = GEO\n",
    "\n",
    "with open(f\"../../data/features/features_{geo_display_name}.pkl\", \"wb\") as f:\n",
    "    pickle.dump(features, f)"
   ]
  },
  {
   "cell_type": "code",
   "execution_count": null,
   "metadata": {},
   "outputs": [],
   "source": []
  }
 ],
 "metadata": {
  "kernelspec": {
   "display_name": "venv",
   "language": "python",
   "name": "python3"
  },
  "language_info": {
   "codemirror_mode": {
    "name": "ipython",
    "version": 3
   },
   "file_extension": ".py",
   "mimetype": "text/x-python",
   "name": "python",
   "nbconvert_exporter": "python",
   "pygments_lexer": "ipython3",
   "version": "3.10.4"
  },
  "orig_nbformat": 4,
  "vscode": {
   "interpreter": {
    "hash": "cf086def782804284d24881115c612afdcc8ea791299ba67855f0c7f1a9ccc5a"
   }
  }
 },
 "nbformat": 4,
 "nbformat_minor": 2
}
