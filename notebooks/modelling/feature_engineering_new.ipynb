{
 "cells": [
  {
   "attachments": {},
   "cell_type": "markdown",
   "metadata": {},
   "source": [
    "## Feature Engineering on the processed dataset"
   ]
  },
  {
   "cell_type": "code",
   "execution_count": 69,
   "metadata": {},
   "outputs": [],
   "source": [
    "import pandas as pd\n",
    "import numpy as np\n",
    "import matplotlib.pyplot as plt\n",
    "import plotly.express as px\n",
    "import warnings\n",
    "warnings.simplefilter(action='ignore', category=pd.errors.PerformanceWarning)"
   ]
  },
  {
   "cell_type": "code",
   "execution_count": 70,
   "metadata": {},
   "outputs": [
    {
     "name": "stdout",
     "output_type": "stream",
     "text": [
      "(1546, 9)\n"
     ]
    },
    {
     "data": {
      "text/html": [
       "<div>\n",
       "<style scoped>\n",
       "    .dataframe tbody tr th:only-of-type {\n",
       "        vertical-align: middle;\n",
       "    }\n",
       "\n",
       "    .dataframe tbody tr th {\n",
       "        vertical-align: top;\n",
       "    }\n",
       "\n",
       "    .dataframe thead th {\n",
       "        text-align: right;\n",
       "    }\n",
       "</style>\n",
       "<table border=\"1\" class=\"dataframe\">\n",
       "  <thead>\n",
       "    <tr style=\"text-align: right;\">\n",
       "      <th></th>\n",
       "      <th>review_id</th>\n",
       "      <th>listing_id</th>\n",
       "      <th>description</th>\n",
       "      <th>comments</th>\n",
       "      <th>sentiment</th>\n",
       "      <th>label</th>\n",
       "      <th>name</th>\n",
       "      <th>amenities</th>\n",
       "      <th>source</th>\n",
       "    </tr>\n",
       "  </thead>\n",
       "  <tbody>\n",
       "    <tr>\n",
       "      <th>0</th>\n",
       "      <td>83097</td>\n",
       "      <td>5456</td>\n",
       "      <td>[fabulous, location, walking, convention, cent...</td>\n",
       "      <td>[sylvia, very, nice, informal, relaxed, arrive...</td>\n",
       "      <td>4.333333</td>\n",
       "      <td>good</td>\n",
       "      <td>['walk', '6th', 'rainey', 'st', 'convention', ...</td>\n",
       "      <td>[TV, Wifi, Air conditioning, Kitchen, Pets liv...</td>\n",
       "      <td>texas</td>\n",
       "    </tr>\n",
       "    <tr>\n",
       "      <th>1</th>\n",
       "      <td>133337</td>\n",
       "      <td>5456</td>\n",
       "      <td>[fabulous, location, walking, convention, cent...</td>\n",
       "      <td>[sylvia, picked, airport, gave, beautiful, eve...</td>\n",
       "      <td>4.000000</td>\n",
       "      <td>good</td>\n",
       "      <td>['walk', '6th', 'rainey', 'st', 'convention', ...</td>\n",
       "      <td>[TV, Wifi, Air conditioning, Kitchen, Pets liv...</td>\n",
       "      <td>texas</td>\n",
       "    </tr>\n",
       "    <tr>\n",
       "      <th>2</th>\n",
       "      <td>150928</td>\n",
       "      <td>5456</td>\n",
       "      <td>[fabulous, location, walking, convention, cent...</td>\n",
       "      <td>[lovely, time, enjoyed, apartment, clean, spac...</td>\n",
       "      <td>3.000000</td>\n",
       "      <td>good</td>\n",
       "      <td>['walk', '6th', 'rainey', 'st', 'convention', ...</td>\n",
       "      <td>[TV, Wifi, Air conditioning, Kitchen, Pets liv...</td>\n",
       "      <td>texas</td>\n",
       "    </tr>\n",
       "    <tr>\n",
       "      <th>3</th>\n",
       "      <td>2706775</td>\n",
       "      <td>5456</td>\n",
       "      <td>[fabulous, location, walking, convention, cent...</td>\n",
       "      <td>[sylvia, excellent, host, stayed, touch, made,...</td>\n",
       "      <td>4.500000</td>\n",
       "      <td>good</td>\n",
       "      <td>['walk', '6th', 'rainey', 'st', 'convention', ...</td>\n",
       "      <td>[TV, Wifi, Air conditioning, Kitchen, Pets liv...</td>\n",
       "      <td>texas</td>\n",
       "    </tr>\n",
       "    <tr>\n",
       "      <th>4</th>\n",
       "      <td>8602878</td>\n",
       "      <td>5456</td>\n",
       "      <td>[fabulous, location, walking, convention, cent...</td>\n",
       "      <td>[place, cute, little, self, contained, cottage...</td>\n",
       "      <td>4.000000</td>\n",
       "      <td>good</td>\n",
       "      <td>['walk', '6th', 'rainey', 'st', 'convention', ...</td>\n",
       "      <td>[TV, Wifi, Air conditioning, Kitchen, Pets liv...</td>\n",
       "      <td>texas</td>\n",
       "    </tr>\n",
       "  </tbody>\n",
       "</table>\n",
       "</div>"
      ],
      "text/plain": [
       "   review_id  listing_id                                        description  \\\n",
       "0      83097        5456  [fabulous, location, walking, convention, cent...   \n",
       "1     133337        5456  [fabulous, location, walking, convention, cent...   \n",
       "2     150928        5456  [fabulous, location, walking, convention, cent...   \n",
       "3    2706775        5456  [fabulous, location, walking, convention, cent...   \n",
       "4    8602878        5456  [fabulous, location, walking, convention, cent...   \n",
       "\n",
       "                                            comments  sentiment label  \\\n",
       "0  [sylvia, very, nice, informal, relaxed, arrive...   4.333333  good   \n",
       "1  [sylvia, picked, airport, gave, beautiful, eve...   4.000000  good   \n",
       "2  [lovely, time, enjoyed, apartment, clean, spac...   3.000000  good   \n",
       "3  [sylvia, excellent, host, stayed, touch, made,...   4.500000  good   \n",
       "4  [place, cute, little, self, contained, cottage...   4.000000  good   \n",
       "\n",
       "                                                name  \\\n",
       "0  ['walk', '6th', 'rainey', 'st', 'convention', ...   \n",
       "1  ['walk', '6th', 'rainey', 'st', 'convention', ...   \n",
       "2  ['walk', '6th', 'rainey', 'st', 'convention', ...   \n",
       "3  ['walk', '6th', 'rainey', 'st', 'convention', ...   \n",
       "4  ['walk', '6th', 'rainey', 'st', 'convention', ...   \n",
       "\n",
       "                                           amenities source  \n",
       "0  [TV, Wifi, Air conditioning, Kitchen, Pets liv...  texas  \n",
       "1  [TV, Wifi, Air conditioning, Kitchen, Pets liv...  texas  \n",
       "2  [TV, Wifi, Air conditioning, Kitchen, Pets liv...  texas  \n",
       "3  [TV, Wifi, Air conditioning, Kitchen, Pets liv...  texas  \n",
       "4  [TV, Wifi, Air conditioning, Kitchen, Pets liv...  texas  "
      ]
     },
     "execution_count": 70,
     "metadata": {},
     "output_type": "execute_result"
    }
   ],
   "source": [
    "# Read in the data\n",
    "GEO = [\"texas\", \"florida\"]\n",
    "\n",
    "if isinstance(GEO, str):\n",
    "    df = pd.read_csv(f\"../../data/processed/{GEO}_auto_processed.csv\")\n",
    "elif isinstance(GEO, list):\n",
    "    dfs = []\n",
    "    for geo in GEO:\n",
    "        df = pd.read_csv(f\"../../data/processed/{geo}_auto_processed.csv\")\n",
    "        df[\"source\"] = geo\n",
    "        dfs.append(df)\n",
    "    df = pd.concat(dfs)\n",
    "\n",
    "# eval list columns\n",
    "df.description = df.description.apply(lambda x: eval(x))\n",
    "df.comments = df.comments.apply(lambda x: eval(x))\n",
    "df.amenities = df.amenities.apply(lambda x: eval(x))\n",
    "\n",
    "df.reset_index(drop=True, inplace=True)\n",
    "\n",
    "print(df.shape)\n",
    "df.head()"
   ]
  },
  {
   "attachments": {},
   "cell_type": "markdown",
   "metadata": {},
   "source": [
    "### Distribution of labels"
   ]
  },
  {
   "attachments": {},
   "cell_type": "markdown",
   "metadata": {},
   "source": [
    "First, let's look at the distribution of labels in the processed dataset."
   ]
  },
  {
   "cell_type": "code",
   "execution_count": 71,
   "metadata": {},
   "outputs": [
    {
     "name": "stdout",
     "output_type": "stream",
     "text": [
      "mbad: 8.02%, mgood: 6.86%, mbad or mgood: 14.88%\n"
     ]
    },
    {
     "data": {
      "application/vnd.plotly.v1+json": {
       "config": {
        "plotlyServerURL": "https://plot.ly"
       },
       "data": [
        {
         "alignmentgroup": "True",
         "hovertemplate": "Label=%{x}<br>Count=%{y}<extra></extra>",
         "legendgroup": "",
         "marker": {
          "color": "#636efa",
          "pattern": {
           "shape": ""
          }
         },
         "name": "",
         "offsetgroup": "",
         "orientation": "v",
         "showlegend": false,
         "textposition": "auto",
         "type": "bar",
         "x": [
          "good",
          "mbad",
          "mgood",
          "bad"
         ],
         "xaxis": "x",
         "y": [
          1236,
          124,
          106,
          80
         ],
         "yaxis": "y"
        }
       ],
       "layout": {
        "barmode": "relative",
        "legend": {
         "tracegroupgap": 0
        },
        "template": {
         "data": {
          "bar": [
           {
            "error_x": {
             "color": "#2a3f5f"
            },
            "error_y": {
             "color": "#2a3f5f"
            },
            "marker": {
             "line": {
              "color": "#E5ECF6",
              "width": 0.5
             },
             "pattern": {
              "fillmode": "overlay",
              "size": 10,
              "solidity": 0.2
             }
            },
            "type": "bar"
           }
          ],
          "barpolar": [
           {
            "marker": {
             "line": {
              "color": "#E5ECF6",
              "width": 0.5
             },
             "pattern": {
              "fillmode": "overlay",
              "size": 10,
              "solidity": 0.2
             }
            },
            "type": "barpolar"
           }
          ],
          "carpet": [
           {
            "aaxis": {
             "endlinecolor": "#2a3f5f",
             "gridcolor": "white",
             "linecolor": "white",
             "minorgridcolor": "white",
             "startlinecolor": "#2a3f5f"
            },
            "baxis": {
             "endlinecolor": "#2a3f5f",
             "gridcolor": "white",
             "linecolor": "white",
             "minorgridcolor": "white",
             "startlinecolor": "#2a3f5f"
            },
            "type": "carpet"
           }
          ],
          "choropleth": [
           {
            "colorbar": {
             "outlinewidth": 0,
             "ticks": ""
            },
            "type": "choropleth"
           }
          ],
          "contour": [
           {
            "colorbar": {
             "outlinewidth": 0,
             "ticks": ""
            },
            "colorscale": [
             [
              0,
              "#0d0887"
             ],
             [
              0.1111111111111111,
              "#46039f"
             ],
             [
              0.2222222222222222,
              "#7201a8"
             ],
             [
              0.3333333333333333,
              "#9c179e"
             ],
             [
              0.4444444444444444,
              "#bd3786"
             ],
             [
              0.5555555555555556,
              "#d8576b"
             ],
             [
              0.6666666666666666,
              "#ed7953"
             ],
             [
              0.7777777777777778,
              "#fb9f3a"
             ],
             [
              0.8888888888888888,
              "#fdca26"
             ],
             [
              1,
              "#f0f921"
             ]
            ],
            "type": "contour"
           }
          ],
          "contourcarpet": [
           {
            "colorbar": {
             "outlinewidth": 0,
             "ticks": ""
            },
            "type": "contourcarpet"
           }
          ],
          "heatmap": [
           {
            "colorbar": {
             "outlinewidth": 0,
             "ticks": ""
            },
            "colorscale": [
             [
              0,
              "#0d0887"
             ],
             [
              0.1111111111111111,
              "#46039f"
             ],
             [
              0.2222222222222222,
              "#7201a8"
             ],
             [
              0.3333333333333333,
              "#9c179e"
             ],
             [
              0.4444444444444444,
              "#bd3786"
             ],
             [
              0.5555555555555556,
              "#d8576b"
             ],
             [
              0.6666666666666666,
              "#ed7953"
             ],
             [
              0.7777777777777778,
              "#fb9f3a"
             ],
             [
              0.8888888888888888,
              "#fdca26"
             ],
             [
              1,
              "#f0f921"
             ]
            ],
            "type": "heatmap"
           }
          ],
          "heatmapgl": [
           {
            "colorbar": {
             "outlinewidth": 0,
             "ticks": ""
            },
            "colorscale": [
             [
              0,
              "#0d0887"
             ],
             [
              0.1111111111111111,
              "#46039f"
             ],
             [
              0.2222222222222222,
              "#7201a8"
             ],
             [
              0.3333333333333333,
              "#9c179e"
             ],
             [
              0.4444444444444444,
              "#bd3786"
             ],
             [
              0.5555555555555556,
              "#d8576b"
             ],
             [
              0.6666666666666666,
              "#ed7953"
             ],
             [
              0.7777777777777778,
              "#fb9f3a"
             ],
             [
              0.8888888888888888,
              "#fdca26"
             ],
             [
              1,
              "#f0f921"
             ]
            ],
            "type": "heatmapgl"
           }
          ],
          "histogram": [
           {
            "marker": {
             "pattern": {
              "fillmode": "overlay",
              "size": 10,
              "solidity": 0.2
             }
            },
            "type": "histogram"
           }
          ],
          "histogram2d": [
           {
            "colorbar": {
             "outlinewidth": 0,
             "ticks": ""
            },
            "colorscale": [
             [
              0,
              "#0d0887"
             ],
             [
              0.1111111111111111,
              "#46039f"
             ],
             [
              0.2222222222222222,
              "#7201a8"
             ],
             [
              0.3333333333333333,
              "#9c179e"
             ],
             [
              0.4444444444444444,
              "#bd3786"
             ],
             [
              0.5555555555555556,
              "#d8576b"
             ],
             [
              0.6666666666666666,
              "#ed7953"
             ],
             [
              0.7777777777777778,
              "#fb9f3a"
             ],
             [
              0.8888888888888888,
              "#fdca26"
             ],
             [
              1,
              "#f0f921"
             ]
            ],
            "type": "histogram2d"
           }
          ],
          "histogram2dcontour": [
           {
            "colorbar": {
             "outlinewidth": 0,
             "ticks": ""
            },
            "colorscale": [
             [
              0,
              "#0d0887"
             ],
             [
              0.1111111111111111,
              "#46039f"
             ],
             [
              0.2222222222222222,
              "#7201a8"
             ],
             [
              0.3333333333333333,
              "#9c179e"
             ],
             [
              0.4444444444444444,
              "#bd3786"
             ],
             [
              0.5555555555555556,
              "#d8576b"
             ],
             [
              0.6666666666666666,
              "#ed7953"
             ],
             [
              0.7777777777777778,
              "#fb9f3a"
             ],
             [
              0.8888888888888888,
              "#fdca26"
             ],
             [
              1,
              "#f0f921"
             ]
            ],
            "type": "histogram2dcontour"
           }
          ],
          "mesh3d": [
           {
            "colorbar": {
             "outlinewidth": 0,
             "ticks": ""
            },
            "type": "mesh3d"
           }
          ],
          "parcoords": [
           {
            "line": {
             "colorbar": {
              "outlinewidth": 0,
              "ticks": ""
             }
            },
            "type": "parcoords"
           }
          ],
          "pie": [
           {
            "automargin": true,
            "type": "pie"
           }
          ],
          "scatter": [
           {
            "fillpattern": {
             "fillmode": "overlay",
             "size": 10,
             "solidity": 0.2
            },
            "type": "scatter"
           }
          ],
          "scatter3d": [
           {
            "line": {
             "colorbar": {
              "outlinewidth": 0,
              "ticks": ""
             }
            },
            "marker": {
             "colorbar": {
              "outlinewidth": 0,
              "ticks": ""
             }
            },
            "type": "scatter3d"
           }
          ],
          "scattercarpet": [
           {
            "marker": {
             "colorbar": {
              "outlinewidth": 0,
              "ticks": ""
             }
            },
            "type": "scattercarpet"
           }
          ],
          "scattergeo": [
           {
            "marker": {
             "colorbar": {
              "outlinewidth": 0,
              "ticks": ""
             }
            },
            "type": "scattergeo"
           }
          ],
          "scattergl": [
           {
            "marker": {
             "colorbar": {
              "outlinewidth": 0,
              "ticks": ""
             }
            },
            "type": "scattergl"
           }
          ],
          "scattermapbox": [
           {
            "marker": {
             "colorbar": {
              "outlinewidth": 0,
              "ticks": ""
             }
            },
            "type": "scattermapbox"
           }
          ],
          "scatterpolar": [
           {
            "marker": {
             "colorbar": {
              "outlinewidth": 0,
              "ticks": ""
             }
            },
            "type": "scatterpolar"
           }
          ],
          "scatterpolargl": [
           {
            "marker": {
             "colorbar": {
              "outlinewidth": 0,
              "ticks": ""
             }
            },
            "type": "scatterpolargl"
           }
          ],
          "scatterternary": [
           {
            "marker": {
             "colorbar": {
              "outlinewidth": 0,
              "ticks": ""
             }
            },
            "type": "scatterternary"
           }
          ],
          "surface": [
           {
            "colorbar": {
             "outlinewidth": 0,
             "ticks": ""
            },
            "colorscale": [
             [
              0,
              "#0d0887"
             ],
             [
              0.1111111111111111,
              "#46039f"
             ],
             [
              0.2222222222222222,
              "#7201a8"
             ],
             [
              0.3333333333333333,
              "#9c179e"
             ],
             [
              0.4444444444444444,
              "#bd3786"
             ],
             [
              0.5555555555555556,
              "#d8576b"
             ],
             [
              0.6666666666666666,
              "#ed7953"
             ],
             [
              0.7777777777777778,
              "#fb9f3a"
             ],
             [
              0.8888888888888888,
              "#fdca26"
             ],
             [
              1,
              "#f0f921"
             ]
            ],
            "type": "surface"
           }
          ],
          "table": [
           {
            "cells": {
             "fill": {
              "color": "#EBF0F8"
             },
             "line": {
              "color": "white"
             }
            },
            "header": {
             "fill": {
              "color": "#C8D4E3"
             },
             "line": {
              "color": "white"
             }
            },
            "type": "table"
           }
          ]
         },
         "layout": {
          "annotationdefaults": {
           "arrowcolor": "#2a3f5f",
           "arrowhead": 0,
           "arrowwidth": 1
          },
          "autotypenumbers": "strict",
          "coloraxis": {
           "colorbar": {
            "outlinewidth": 0,
            "ticks": ""
           }
          },
          "colorscale": {
           "diverging": [
            [
             0,
             "#8e0152"
            ],
            [
             0.1,
             "#c51b7d"
            ],
            [
             0.2,
             "#de77ae"
            ],
            [
             0.3,
             "#f1b6da"
            ],
            [
             0.4,
             "#fde0ef"
            ],
            [
             0.5,
             "#f7f7f7"
            ],
            [
             0.6,
             "#e6f5d0"
            ],
            [
             0.7,
             "#b8e186"
            ],
            [
             0.8,
             "#7fbc41"
            ],
            [
             0.9,
             "#4d9221"
            ],
            [
             1,
             "#276419"
            ]
           ],
           "sequential": [
            [
             0,
             "#0d0887"
            ],
            [
             0.1111111111111111,
             "#46039f"
            ],
            [
             0.2222222222222222,
             "#7201a8"
            ],
            [
             0.3333333333333333,
             "#9c179e"
            ],
            [
             0.4444444444444444,
             "#bd3786"
            ],
            [
             0.5555555555555556,
             "#d8576b"
            ],
            [
             0.6666666666666666,
             "#ed7953"
            ],
            [
             0.7777777777777778,
             "#fb9f3a"
            ],
            [
             0.8888888888888888,
             "#fdca26"
            ],
            [
             1,
             "#f0f921"
            ]
           ],
           "sequentialminus": [
            [
             0,
             "#0d0887"
            ],
            [
             0.1111111111111111,
             "#46039f"
            ],
            [
             0.2222222222222222,
             "#7201a8"
            ],
            [
             0.3333333333333333,
             "#9c179e"
            ],
            [
             0.4444444444444444,
             "#bd3786"
            ],
            [
             0.5555555555555556,
             "#d8576b"
            ],
            [
             0.6666666666666666,
             "#ed7953"
            ],
            [
             0.7777777777777778,
             "#fb9f3a"
            ],
            [
             0.8888888888888888,
             "#fdca26"
            ],
            [
             1,
             "#f0f921"
            ]
           ]
          },
          "colorway": [
           "#636efa",
           "#EF553B",
           "#00cc96",
           "#ab63fa",
           "#FFA15A",
           "#19d3f3",
           "#FF6692",
           "#B6E880",
           "#FF97FF",
           "#FECB52"
          ],
          "font": {
           "color": "#2a3f5f"
          },
          "geo": {
           "bgcolor": "white",
           "lakecolor": "white",
           "landcolor": "#E5ECF6",
           "showlakes": true,
           "showland": true,
           "subunitcolor": "white"
          },
          "hoverlabel": {
           "align": "left"
          },
          "hovermode": "closest",
          "mapbox": {
           "style": "light"
          },
          "paper_bgcolor": "white",
          "plot_bgcolor": "#E5ECF6",
          "polar": {
           "angularaxis": {
            "gridcolor": "white",
            "linecolor": "white",
            "ticks": ""
           },
           "bgcolor": "#E5ECF6",
           "radialaxis": {
            "gridcolor": "white",
            "linecolor": "white",
            "ticks": ""
           }
          },
          "scene": {
           "xaxis": {
            "backgroundcolor": "#E5ECF6",
            "gridcolor": "white",
            "gridwidth": 2,
            "linecolor": "white",
            "showbackground": true,
            "ticks": "",
            "zerolinecolor": "white"
           },
           "yaxis": {
            "backgroundcolor": "#E5ECF6",
            "gridcolor": "white",
            "gridwidth": 2,
            "linecolor": "white",
            "showbackground": true,
            "ticks": "",
            "zerolinecolor": "white"
           },
           "zaxis": {
            "backgroundcolor": "#E5ECF6",
            "gridcolor": "white",
            "gridwidth": 2,
            "linecolor": "white",
            "showbackground": true,
            "ticks": "",
            "zerolinecolor": "white"
           }
          },
          "shapedefaults": {
           "line": {
            "color": "#2a3f5f"
           }
          },
          "ternary": {
           "aaxis": {
            "gridcolor": "white",
            "linecolor": "white",
            "ticks": ""
           },
           "baxis": {
            "gridcolor": "white",
            "linecolor": "white",
            "ticks": ""
           },
           "bgcolor": "#E5ECF6",
           "caxis": {
            "gridcolor": "white",
            "linecolor": "white",
            "ticks": ""
           }
          },
          "title": {
           "x": 0.05
          },
          "xaxis": {
           "automargin": true,
           "gridcolor": "white",
           "linecolor": "white",
           "ticks": "",
           "title": {
            "standoff": 15
           },
           "zerolinecolor": "white",
           "zerolinewidth": 2
          },
          "yaxis": {
           "automargin": true,
           "gridcolor": "white",
           "linecolor": "white",
           "ticks": "",
           "title": {
            "standoff": 15
           },
           "zerolinecolor": "white",
           "zerolinewidth": 2
          }
         }
        },
        "title": {
         "text": "Distribution of labels (GEO=['texas', 'florida'])"
        },
        "xaxis": {
         "anchor": "y",
         "domain": [
          0,
          1
         ],
         "title": {
          "text": "Label"
         }
        },
        "yaxis": {
         "anchor": "x",
         "domain": [
          0,
          1
         ],
         "title": {
          "text": "Count"
         }
        }
       }
      }
     },
     "metadata": {},
     "output_type": "display_data"
    }
   ],
   "source": [
    "mbad_pcnt = df[df.label == \"mbad\"].shape[0] / df.shape[0]\n",
    "mgood_pcnt = df[df.label == \"mgood\"].shape[0] / df.shape[0]\n",
    "mbad_or_mgood_pcnt = df[df.label.isin([\"mbad\", \"mgood\"])].shape[0] / df.shape[0]\n",
    "print(\n",
    "    f\"mbad: {mbad_pcnt:.2%}, mgood: {mgood_pcnt:.2%}, mbad or mgood: {mbad_or_mgood_pcnt:.2%}\"\n",
    ")\n",
    "\n",
    "bar_vals = df.label.value_counts()\n",
    "\n",
    "fig = px.bar(\n",
    "    bar_vals,\n",
    "    x=bar_vals.index,\n",
    "    y=bar_vals.values,\n",
    "    title=f\"Distribution of labels (GEO={GEO})\",\n",
    "    labels={\"index\": \"Label\", \"y\": \"Count\"}\n",
    ")\n",
    "\n",
    "fig.show()"
   ]
  },
  {
   "attachments": {},
   "cell_type": "markdown",
   "metadata": {},
   "source": [
    "## Correlation filter helper function\n",
    "This function allows us to filter down to only include highly correlated features with the label."
   ]
  },
  {
   "cell_type": "code",
   "execution_count": 72,
   "metadata": {},
   "outputs": [],
   "source": [
    "def corr_filter(features, corr_thresh=0.05) -> pd.DataFrame:\n",
    "    \"\"\"Filter features based on correlation with label.\"\"\"\n",
    "\n",
    "    if corr_thresh is None:\n",
    "        return features\n",
    "\n",
    "    to_filter = features.copy()\n",
    "    \n",
    "    to_filter[\"review_id\"] = df.review_id\n",
    "    to_filter[\"label\"] = df.label\n",
    "\n",
    "    # drop na labels. Thanks Charlie :/\n",
    "    to_filter = to_filter.dropna(subset=[\"label\"])\n",
    "\n",
    "    # Turn labels into numbers\n",
    "    labels_list: list = to_filter.label.unique().tolist()\n",
    "    to_filter.label = to_filter.label.apply(lambda label: labels_list.index(label))\n",
    "\n",
    "    # calculate correlation of features with label\n",
    "    features_to_filter = to_filter.drop([\"review_id\", \"label\"], axis=1)\n",
    "    corrs = features_to_filter.corrwith(to_filter.label).sort_values(ascending=False)\n",
    "\n",
    "    # filter features\n",
    "    highly_correlated_features = corrs[corrs.abs() > corr_thresh].index\n",
    "    # drop features with nan correlation\n",
    "    highly_correlated_features = highly_correlated_features.dropna()\n",
    "\n",
    "    # filter features\n",
    "    print(f\"Features above correlation threshold ({corr_thresh}):\")\n",
    "    print(highly_correlated_features.tolist())\n",
    "    filtered = features[highly_correlated_features]\n",
    "    \n",
    "    return filtered"
   ]
  },
  {
   "attachments": {},
   "cell_type": "markdown",
   "metadata": {},
   "source": [
    "### Ngrams"
   ]
  },
  {
   "attachments": {},
   "cell_type": "markdown",
   "metadata": {},
   "source": [
    "What are the most common ngrams for the different types of reviews? What are the most common overlaps?"
   ]
  },
  {
   "cell_type": "code",
   "execution_count": 73,
   "metadata": {},
   "outputs": [],
   "source": [
    "def get_consecutive_ngrams(review, n) -> list:\n",
    "    \"\"\"Helper function to get ngrams from a review.\n",
    "\n",
    "    Args:\n",
    "        review (str): The review to get ngrams from.\n",
    "        n (int): The number of ngrams to get.\n",
    "\n",
    "    Returns:\n",
    "        list: the list of ngrams, joined by underscores.\n",
    "    \"\"\"\n",
    "    if isinstance(review, str):\n",
    "        review = review.split(\"\")\n",
    "\n",
    "    return [\"_\".join(review[i:i+n]) for i in range(len(review)-n-1)]\n",
    "\n",
    "def series_to_ngrams(series: pd.Series, N):\n",
    "    n_grams = series.apply(lambda x: get_consecutive_ngrams(x, N))\n",
    "    return n_grams.explode()\n",
    "\n",
    "def get_exclusive_sizes(good: set, bad: set, mgood: set, mbad: set) -> dict:\n",
    "    \"\"\"Get the sizes of the exclusive sets\"\"\"\n",
    "\n",
    "    only_good = good - bad - mgood - mbad\n",
    "    only_bad = bad - good - mgood - mbad\n",
    "    only_mgood = mgood - good - bad - mbad\n",
    "    only_mbad = mbad - good - bad - mgood\n",
    "    \n",
    "    return {\n",
    "        \"good\": len(only_good),\n",
    "        \"bad\": len(only_bad),\n",
    "        \"mgood\": len(only_mgood),\n",
    "        \"mbad\": len(only_mbad)\n",
    "    }"
   ]
  },
  {
   "attachments": {},
   "cell_type": "markdown",
   "metadata": {},
   "source": [
    "We can look at the number of unique values to each label for different values of N on a line chart."
   ]
  },
  {
   "cell_type": "code",
   "execution_count": 74,
   "metadata": {},
   "outputs": [
    {
     "data": {
      "application/vnd.plotly.v1+json": {
       "config": {
        "plotlyServerURL": "https://plot.ly"
       },
       "data": [
        {
         "hovertemplate": "label=bad<br>N-gram size=%{x}<br>Unique # of n-grams=%{y}<extra></extra>",
         "legendgroup": "bad",
         "line": {
          "color": "#636efa",
          "dash": "solid"
         },
         "marker": {
          "symbol": "circle"
         },
         "mode": "markers+lines",
         "name": "bad",
         "orientation": "v",
         "showlegend": true,
         "type": "scatter",
         "x": [
          1,
          2,
          3,
          4,
          5,
          6
         ],
         "xaxis": "x",
         "y": [
          387,
          5970,
          8193,
          8330,
          8260,
          8181
         ],
         "yaxis": "y"
        },
        {
         "hovertemplate": "label=mgood<br>N-gram size=%{x}<br>Unique # of n-grams=%{y}<extra></extra>",
         "legendgroup": "mgood",
         "line": {
          "color": "#EF553B",
          "dash": "solid"
         },
         "marker": {
          "symbol": "circle"
         },
         "mode": "markers+lines",
         "name": "mgood",
         "orientation": "v",
         "showlegend": true,
         "type": "scatter",
         "x": [
          1,
          2,
          3,
          4,
          5,
          6
         ],
         "xaxis": "x",
         "y": [
          235,
          4541,
          6795,
          7041,
          6984,
          6886
         ],
         "yaxis": "y"
        },
        {
         "hovertemplate": "label=mbad<br>N-gram size=%{x}<br>Unique # of n-grams=%{y}<extra></extra>",
         "legendgroup": "mbad",
         "line": {
          "color": "#00cc96",
          "dash": "solid"
         },
         "marker": {
          "symbol": "circle"
         },
         "mode": "markers+lines",
         "name": "mbad",
         "orientation": "v",
         "showlegend": true,
         "type": "scatter",
         "x": [
          1,
          2,
          3,
          4,
          5,
          6
         ],
         "xaxis": "x",
         "y": [
          634,
          9297,
          12856,
          13137,
          13040,
          12918
         ],
         "yaxis": "y"
        }
       ],
       "layout": {
        "legend": {
         "title": {
          "text": "label"
         },
         "tracegroupgap": 0
        },
        "template": {
         "data": {
          "bar": [
           {
            "error_x": {
             "color": "#2a3f5f"
            },
            "error_y": {
             "color": "#2a3f5f"
            },
            "marker": {
             "line": {
              "color": "#E5ECF6",
              "width": 0.5
             },
             "pattern": {
              "fillmode": "overlay",
              "size": 10,
              "solidity": 0.2
             }
            },
            "type": "bar"
           }
          ],
          "barpolar": [
           {
            "marker": {
             "line": {
              "color": "#E5ECF6",
              "width": 0.5
             },
             "pattern": {
              "fillmode": "overlay",
              "size": 10,
              "solidity": 0.2
             }
            },
            "type": "barpolar"
           }
          ],
          "carpet": [
           {
            "aaxis": {
             "endlinecolor": "#2a3f5f",
             "gridcolor": "white",
             "linecolor": "white",
             "minorgridcolor": "white",
             "startlinecolor": "#2a3f5f"
            },
            "baxis": {
             "endlinecolor": "#2a3f5f",
             "gridcolor": "white",
             "linecolor": "white",
             "minorgridcolor": "white",
             "startlinecolor": "#2a3f5f"
            },
            "type": "carpet"
           }
          ],
          "choropleth": [
           {
            "colorbar": {
             "outlinewidth": 0,
             "ticks": ""
            },
            "type": "choropleth"
           }
          ],
          "contour": [
           {
            "colorbar": {
             "outlinewidth": 0,
             "ticks": ""
            },
            "colorscale": [
             [
              0,
              "#0d0887"
             ],
             [
              0.1111111111111111,
              "#46039f"
             ],
             [
              0.2222222222222222,
              "#7201a8"
             ],
             [
              0.3333333333333333,
              "#9c179e"
             ],
             [
              0.4444444444444444,
              "#bd3786"
             ],
             [
              0.5555555555555556,
              "#d8576b"
             ],
             [
              0.6666666666666666,
              "#ed7953"
             ],
             [
              0.7777777777777778,
              "#fb9f3a"
             ],
             [
              0.8888888888888888,
              "#fdca26"
             ],
             [
              1,
              "#f0f921"
             ]
            ],
            "type": "contour"
           }
          ],
          "contourcarpet": [
           {
            "colorbar": {
             "outlinewidth": 0,
             "ticks": ""
            },
            "type": "contourcarpet"
           }
          ],
          "heatmap": [
           {
            "colorbar": {
             "outlinewidth": 0,
             "ticks": ""
            },
            "colorscale": [
             [
              0,
              "#0d0887"
             ],
             [
              0.1111111111111111,
              "#46039f"
             ],
             [
              0.2222222222222222,
              "#7201a8"
             ],
             [
              0.3333333333333333,
              "#9c179e"
             ],
             [
              0.4444444444444444,
              "#bd3786"
             ],
             [
              0.5555555555555556,
              "#d8576b"
             ],
             [
              0.6666666666666666,
              "#ed7953"
             ],
             [
              0.7777777777777778,
              "#fb9f3a"
             ],
             [
              0.8888888888888888,
              "#fdca26"
             ],
             [
              1,
              "#f0f921"
             ]
            ],
            "type": "heatmap"
           }
          ],
          "heatmapgl": [
           {
            "colorbar": {
             "outlinewidth": 0,
             "ticks": ""
            },
            "colorscale": [
             [
              0,
              "#0d0887"
             ],
             [
              0.1111111111111111,
              "#46039f"
             ],
             [
              0.2222222222222222,
              "#7201a8"
             ],
             [
              0.3333333333333333,
              "#9c179e"
             ],
             [
              0.4444444444444444,
              "#bd3786"
             ],
             [
              0.5555555555555556,
              "#d8576b"
             ],
             [
              0.6666666666666666,
              "#ed7953"
             ],
             [
              0.7777777777777778,
              "#fb9f3a"
             ],
             [
              0.8888888888888888,
              "#fdca26"
             ],
             [
              1,
              "#f0f921"
             ]
            ],
            "type": "heatmapgl"
           }
          ],
          "histogram": [
           {
            "marker": {
             "pattern": {
              "fillmode": "overlay",
              "size": 10,
              "solidity": 0.2
             }
            },
            "type": "histogram"
           }
          ],
          "histogram2d": [
           {
            "colorbar": {
             "outlinewidth": 0,
             "ticks": ""
            },
            "colorscale": [
             [
              0,
              "#0d0887"
             ],
             [
              0.1111111111111111,
              "#46039f"
             ],
             [
              0.2222222222222222,
              "#7201a8"
             ],
             [
              0.3333333333333333,
              "#9c179e"
             ],
             [
              0.4444444444444444,
              "#bd3786"
             ],
             [
              0.5555555555555556,
              "#d8576b"
             ],
             [
              0.6666666666666666,
              "#ed7953"
             ],
             [
              0.7777777777777778,
              "#fb9f3a"
             ],
             [
              0.8888888888888888,
              "#fdca26"
             ],
             [
              1,
              "#f0f921"
             ]
            ],
            "type": "histogram2d"
           }
          ],
          "histogram2dcontour": [
           {
            "colorbar": {
             "outlinewidth": 0,
             "ticks": ""
            },
            "colorscale": [
             [
              0,
              "#0d0887"
             ],
             [
              0.1111111111111111,
              "#46039f"
             ],
             [
              0.2222222222222222,
              "#7201a8"
             ],
             [
              0.3333333333333333,
              "#9c179e"
             ],
             [
              0.4444444444444444,
              "#bd3786"
             ],
             [
              0.5555555555555556,
              "#d8576b"
             ],
             [
              0.6666666666666666,
              "#ed7953"
             ],
             [
              0.7777777777777778,
              "#fb9f3a"
             ],
             [
              0.8888888888888888,
              "#fdca26"
             ],
             [
              1,
              "#f0f921"
             ]
            ],
            "type": "histogram2dcontour"
           }
          ],
          "mesh3d": [
           {
            "colorbar": {
             "outlinewidth": 0,
             "ticks": ""
            },
            "type": "mesh3d"
           }
          ],
          "parcoords": [
           {
            "line": {
             "colorbar": {
              "outlinewidth": 0,
              "ticks": ""
             }
            },
            "type": "parcoords"
           }
          ],
          "pie": [
           {
            "automargin": true,
            "type": "pie"
           }
          ],
          "scatter": [
           {
            "fillpattern": {
             "fillmode": "overlay",
             "size": 10,
             "solidity": 0.2
            },
            "type": "scatter"
           }
          ],
          "scatter3d": [
           {
            "line": {
             "colorbar": {
              "outlinewidth": 0,
              "ticks": ""
             }
            },
            "marker": {
             "colorbar": {
              "outlinewidth": 0,
              "ticks": ""
             }
            },
            "type": "scatter3d"
           }
          ],
          "scattercarpet": [
           {
            "marker": {
             "colorbar": {
              "outlinewidth": 0,
              "ticks": ""
             }
            },
            "type": "scattercarpet"
           }
          ],
          "scattergeo": [
           {
            "marker": {
             "colorbar": {
              "outlinewidth": 0,
              "ticks": ""
             }
            },
            "type": "scattergeo"
           }
          ],
          "scattergl": [
           {
            "marker": {
             "colorbar": {
              "outlinewidth": 0,
              "ticks": ""
             }
            },
            "type": "scattergl"
           }
          ],
          "scattermapbox": [
           {
            "marker": {
             "colorbar": {
              "outlinewidth": 0,
              "ticks": ""
             }
            },
            "type": "scattermapbox"
           }
          ],
          "scatterpolar": [
           {
            "marker": {
             "colorbar": {
              "outlinewidth": 0,
              "ticks": ""
             }
            },
            "type": "scatterpolar"
           }
          ],
          "scatterpolargl": [
           {
            "marker": {
             "colorbar": {
              "outlinewidth": 0,
              "ticks": ""
             }
            },
            "type": "scatterpolargl"
           }
          ],
          "scatterternary": [
           {
            "marker": {
             "colorbar": {
              "outlinewidth": 0,
              "ticks": ""
             }
            },
            "type": "scatterternary"
           }
          ],
          "surface": [
           {
            "colorbar": {
             "outlinewidth": 0,
             "ticks": ""
            },
            "colorscale": [
             [
              0,
              "#0d0887"
             ],
             [
              0.1111111111111111,
              "#46039f"
             ],
             [
              0.2222222222222222,
              "#7201a8"
             ],
             [
              0.3333333333333333,
              "#9c179e"
             ],
             [
              0.4444444444444444,
              "#bd3786"
             ],
             [
              0.5555555555555556,
              "#d8576b"
             ],
             [
              0.6666666666666666,
              "#ed7953"
             ],
             [
              0.7777777777777778,
              "#fb9f3a"
             ],
             [
              0.8888888888888888,
              "#fdca26"
             ],
             [
              1,
              "#f0f921"
             ]
            ],
            "type": "surface"
           }
          ],
          "table": [
           {
            "cells": {
             "fill": {
              "color": "#EBF0F8"
             },
             "line": {
              "color": "white"
             }
            },
            "header": {
             "fill": {
              "color": "#C8D4E3"
             },
             "line": {
              "color": "white"
             }
            },
            "type": "table"
           }
          ]
         },
         "layout": {
          "annotationdefaults": {
           "arrowcolor": "#2a3f5f",
           "arrowhead": 0,
           "arrowwidth": 1
          },
          "autotypenumbers": "strict",
          "coloraxis": {
           "colorbar": {
            "outlinewidth": 0,
            "ticks": ""
           }
          },
          "colorscale": {
           "diverging": [
            [
             0,
             "#8e0152"
            ],
            [
             0.1,
             "#c51b7d"
            ],
            [
             0.2,
             "#de77ae"
            ],
            [
             0.3,
             "#f1b6da"
            ],
            [
             0.4,
             "#fde0ef"
            ],
            [
             0.5,
             "#f7f7f7"
            ],
            [
             0.6,
             "#e6f5d0"
            ],
            [
             0.7,
             "#b8e186"
            ],
            [
             0.8,
             "#7fbc41"
            ],
            [
             0.9,
             "#4d9221"
            ],
            [
             1,
             "#276419"
            ]
           ],
           "sequential": [
            [
             0,
             "#0d0887"
            ],
            [
             0.1111111111111111,
             "#46039f"
            ],
            [
             0.2222222222222222,
             "#7201a8"
            ],
            [
             0.3333333333333333,
             "#9c179e"
            ],
            [
             0.4444444444444444,
             "#bd3786"
            ],
            [
             0.5555555555555556,
             "#d8576b"
            ],
            [
             0.6666666666666666,
             "#ed7953"
            ],
            [
             0.7777777777777778,
             "#fb9f3a"
            ],
            [
             0.8888888888888888,
             "#fdca26"
            ],
            [
             1,
             "#f0f921"
            ]
           ],
           "sequentialminus": [
            [
             0,
             "#0d0887"
            ],
            [
             0.1111111111111111,
             "#46039f"
            ],
            [
             0.2222222222222222,
             "#7201a8"
            ],
            [
             0.3333333333333333,
             "#9c179e"
            ],
            [
             0.4444444444444444,
             "#bd3786"
            ],
            [
             0.5555555555555556,
             "#d8576b"
            ],
            [
             0.6666666666666666,
             "#ed7953"
            ],
            [
             0.7777777777777778,
             "#fb9f3a"
            ],
            [
             0.8888888888888888,
             "#fdca26"
            ],
            [
             1,
             "#f0f921"
            ]
           ]
          },
          "colorway": [
           "#636efa",
           "#EF553B",
           "#00cc96",
           "#ab63fa",
           "#FFA15A",
           "#19d3f3",
           "#FF6692",
           "#B6E880",
           "#FF97FF",
           "#FECB52"
          ],
          "font": {
           "color": "#2a3f5f"
          },
          "geo": {
           "bgcolor": "white",
           "lakecolor": "white",
           "landcolor": "#E5ECF6",
           "showlakes": true,
           "showland": true,
           "subunitcolor": "white"
          },
          "hoverlabel": {
           "align": "left"
          },
          "hovermode": "closest",
          "mapbox": {
           "style": "light"
          },
          "paper_bgcolor": "white",
          "plot_bgcolor": "#E5ECF6",
          "polar": {
           "angularaxis": {
            "gridcolor": "white",
            "linecolor": "white",
            "ticks": ""
           },
           "bgcolor": "#E5ECF6",
           "radialaxis": {
            "gridcolor": "white",
            "linecolor": "white",
            "ticks": ""
           }
          },
          "scene": {
           "xaxis": {
            "backgroundcolor": "#E5ECF6",
            "gridcolor": "white",
            "gridwidth": 2,
            "linecolor": "white",
            "showbackground": true,
            "ticks": "",
            "zerolinecolor": "white"
           },
           "yaxis": {
            "backgroundcolor": "#E5ECF6",
            "gridcolor": "white",
            "gridwidth": 2,
            "linecolor": "white",
            "showbackground": true,
            "ticks": "",
            "zerolinecolor": "white"
           },
           "zaxis": {
            "backgroundcolor": "#E5ECF6",
            "gridcolor": "white",
            "gridwidth": 2,
            "linecolor": "white",
            "showbackground": true,
            "ticks": "",
            "zerolinecolor": "white"
           }
          },
          "shapedefaults": {
           "line": {
            "color": "#2a3f5f"
           }
          },
          "ternary": {
           "aaxis": {
            "gridcolor": "white",
            "linecolor": "white",
            "ticks": ""
           },
           "baxis": {
            "gridcolor": "white",
            "linecolor": "white",
            "ticks": ""
           },
           "bgcolor": "#E5ECF6",
           "caxis": {
            "gridcolor": "white",
            "linecolor": "white",
            "ticks": ""
           }
          },
          "title": {
           "x": 0.05
          },
          "xaxis": {
           "automargin": true,
           "gridcolor": "white",
           "linecolor": "white",
           "ticks": "",
           "title": {
            "standoff": 15
           },
           "zerolinecolor": "white",
           "zerolinewidth": 2
          },
          "yaxis": {
           "automargin": true,
           "gridcolor": "white",
           "linecolor": "white",
           "ticks": "",
           "title": {
            "standoff": 15
           },
           "zerolinecolor": "white",
           "zerolinewidth": 2
          }
         }
        },
        "title": {
         "text": "Unique # of ['texas', 'florida'] n-grams for each label"
        },
        "xaxis": {
         "anchor": "y",
         "domain": [
          0,
          1
         ],
         "title": {
          "text": "N-gram size"
         }
        },
        "yaxis": {
         "anchor": "x",
         "domain": [
          0,
          1
         ],
         "title": {
          "text": "Unique # of n-grams"
         }
        }
       }
      }
     },
     "metadata": {},
     "output_type": "display_data"
    }
   ],
   "source": [
    "import plotly.express as px\n",
    "\n",
    "intersection_sizes = []\n",
    "for n in [1, 2, 3, 4, 5, 6]:\n",
    "\n",
    "    good_ngrams = series_to_ngrams(df[df.label == \"good\"].comments, n).value_counts()\n",
    "    bad_ngrams = series_to_ngrams(df[df.label == \"bad\"].comments, n).value_counts()\n",
    "    mgood_ngrams = series_to_ngrams(df[df.label == \"mgood\"].comments, n).value_counts()\n",
    "    mbad_ngrams = series_to_ngrams(df[df.label == \"mbad\"].comments, n).value_counts()\n",
    "    intersection_sizes_n = get_exclusive_sizes(\n",
    "        set(good_ngrams.index),\n",
    "        set(bad_ngrams.index),\n",
    "        set(mgood_ngrams.index),\n",
    "        set(mbad_ngrams.index)\n",
    "    )\n",
    "\n",
    "    intersection_sizes_n[\"n\"] = n\n",
    "\n",
    "    intersection_sizes.append(intersection_sizes_n)\n",
    "\n",
    "\n",
    "# prepare data\n",
    "is_df = pd.DataFrame(intersection_sizes)\n",
    "is_df = is_df.melt(id_vars=\"n\", var_name=\"label\", value_name=\"count\")\n",
    "is_df[\"count\"] = is_df[\"count\"].astype(int)\n",
    "is_df[\"n\"] = is_df[\"n\"].astype(int)\n",
    "\n",
    "# exclude good \n",
    "is_df = is_df[is_df.label != \"good\"]\n",
    "\n",
    "# plot a line chart\n",
    "px.line(is_df, \n",
    "    x=\"n\", y=\"count\",\n",
    "    color=\"label\",\n",
    "    title=f\"Unique # of {GEO} n-grams for each label\", \n",
    "    labels={\"n\": \"N-gram size\", \"count\": \"Unique # of n-grams\"},\n",
    "    markers=True\n",
    "    )"
   ]
  },
  {
   "attachments": {},
   "cell_type": "markdown",
   "metadata": {},
   "source": [
    "We can see that the number of unique ngrams increases until about n=3, and then levels off. What are the top 10 3-grams for misleading reviews?"
   ]
  },
  {
   "cell_type": "code",
   "execution_count": 75,
   "metadata": {},
   "outputs": [
    {
     "name": "stdout",
     "output_type": "stream",
     "text": [
      "Top 10 most common 3-grams in misleading reviews:\n"
     ]
    },
    {
     "data": {
      "text/plain": [
       "[('within_walking_distance', 11),\n",
       " ('would_not_recommend', 10),\n",
       " ('made_u_feel', 4),\n",
       " ('living_room_furniture', 4),\n",
       " ('not_recommend_staying', 4),\n",
       " ('not_big_deal', 4),\n",
       " ('great_place_stay', 4),\n",
       " ('let_u_know', 4),\n",
       " ('not_work_not', 3),\n",
       " ('give_4_star', 3)]"
      ]
     },
     "execution_count": 75,
     "metadata": {},
     "output_type": "execute_result"
    }
   ],
   "source": [
    "import numpy as np\n",
    "from collections import Counter\n",
    "\n",
    "# get subset of misleading reviews\n",
    "subset = df[df.label.isin([\"mbad\", \"mgood\"])]\n",
    "\n",
    "# get groups of N consecutive words\n",
    "N = 3\n",
    "n_grams = series_to_ngrams(subset.comments, N).to_list()\n",
    "\n",
    "print(f\"Top 10 most common {N}-grams in misleading reviews:\")\n",
    "Counter(n_grams).most_common(10)"
   ]
  },
  {
   "attachments": {},
   "cell_type": "markdown",
   "metadata": {},
   "source": [
    "Now let's look at a word cloud of the N-grams in misleading reviews."
   ]
  },
  {
   "cell_type": "code",
   "execution_count": 76,
   "metadata": {},
   "outputs": [
    {
     "data": {
      "application/vnd.plotly.v1+json": {
       "config": {
        "plotlyServerURL": "https://plot.ly"
       },
       "data": [
        {
         "hovertemplate": "x: %{x}<br>y: %{y}<br>color: [%{z[0]}, %{z[1]}, %{z[2]}]<extra></extra>",
         "name": "0",
         "source": "data:image/png;base64,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",
         "type": "image",
         "xaxis": "x",
         "yaxis": "y"
        }
       ],
       "layout": {
        "height": 700,
        "template": {
         "data": {
          "bar": [
           {
            "error_x": {
             "color": "#2a3f5f"
            },
            "error_y": {
             "color": "#2a3f5f"
            },
            "marker": {
             "line": {
              "color": "#E5ECF6",
              "width": 0.5
             },
             "pattern": {
              "fillmode": "overlay",
              "size": 10,
              "solidity": 0.2
             }
            },
            "type": "bar"
           }
          ],
          "barpolar": [
           {
            "marker": {
             "line": {
              "color": "#E5ECF6",
              "width": 0.5
             },
             "pattern": {
              "fillmode": "overlay",
              "size": 10,
              "solidity": 0.2
             }
            },
            "type": "barpolar"
           }
          ],
          "carpet": [
           {
            "aaxis": {
             "endlinecolor": "#2a3f5f",
             "gridcolor": "white",
             "linecolor": "white",
             "minorgridcolor": "white",
             "startlinecolor": "#2a3f5f"
            },
            "baxis": {
             "endlinecolor": "#2a3f5f",
             "gridcolor": "white",
             "linecolor": "white",
             "minorgridcolor": "white",
             "startlinecolor": "#2a3f5f"
            },
            "type": "carpet"
           }
          ],
          "choropleth": [
           {
            "colorbar": {
             "outlinewidth": 0,
             "ticks": ""
            },
            "type": "choropleth"
           }
          ],
          "contour": [
           {
            "colorbar": {
             "outlinewidth": 0,
             "ticks": ""
            },
            "colorscale": [
             [
              0,
              "#0d0887"
             ],
             [
              0.1111111111111111,
              "#46039f"
             ],
             [
              0.2222222222222222,
              "#7201a8"
             ],
             [
              0.3333333333333333,
              "#9c179e"
             ],
             [
              0.4444444444444444,
              "#bd3786"
             ],
             [
              0.5555555555555556,
              "#d8576b"
             ],
             [
              0.6666666666666666,
              "#ed7953"
             ],
             [
              0.7777777777777778,
              "#fb9f3a"
             ],
             [
              0.8888888888888888,
              "#fdca26"
             ],
             [
              1,
              "#f0f921"
             ]
            ],
            "type": "contour"
           }
          ],
          "contourcarpet": [
           {
            "colorbar": {
             "outlinewidth": 0,
             "ticks": ""
            },
            "type": "contourcarpet"
           }
          ],
          "heatmap": [
           {
            "colorbar": {
             "outlinewidth": 0,
             "ticks": ""
            },
            "colorscale": [
             [
              0,
              "#0d0887"
             ],
             [
              0.1111111111111111,
              "#46039f"
             ],
             [
              0.2222222222222222,
              "#7201a8"
             ],
             [
              0.3333333333333333,
              "#9c179e"
             ],
             [
              0.4444444444444444,
              "#bd3786"
             ],
             [
              0.5555555555555556,
              "#d8576b"
             ],
             [
              0.6666666666666666,
              "#ed7953"
             ],
             [
              0.7777777777777778,
              "#fb9f3a"
             ],
             [
              0.8888888888888888,
              "#fdca26"
             ],
             [
              1,
              "#f0f921"
             ]
            ],
            "type": "heatmap"
           }
          ],
          "heatmapgl": [
           {
            "colorbar": {
             "outlinewidth": 0,
             "ticks": ""
            },
            "colorscale": [
             [
              0,
              "#0d0887"
             ],
             [
              0.1111111111111111,
              "#46039f"
             ],
             [
              0.2222222222222222,
              "#7201a8"
             ],
             [
              0.3333333333333333,
              "#9c179e"
             ],
             [
              0.4444444444444444,
              "#bd3786"
             ],
             [
              0.5555555555555556,
              "#d8576b"
             ],
             [
              0.6666666666666666,
              "#ed7953"
             ],
             [
              0.7777777777777778,
              "#fb9f3a"
             ],
             [
              0.8888888888888888,
              "#fdca26"
             ],
             [
              1,
              "#f0f921"
             ]
            ],
            "type": "heatmapgl"
           }
          ],
          "histogram": [
           {
            "marker": {
             "pattern": {
              "fillmode": "overlay",
              "size": 10,
              "solidity": 0.2
             }
            },
            "type": "histogram"
           }
          ],
          "histogram2d": [
           {
            "colorbar": {
             "outlinewidth": 0,
             "ticks": ""
            },
            "colorscale": [
             [
              0,
              "#0d0887"
             ],
             [
              0.1111111111111111,
              "#46039f"
             ],
             [
              0.2222222222222222,
              "#7201a8"
             ],
             [
              0.3333333333333333,
              "#9c179e"
             ],
             [
              0.4444444444444444,
              "#bd3786"
             ],
             [
              0.5555555555555556,
              "#d8576b"
             ],
             [
              0.6666666666666666,
              "#ed7953"
             ],
             [
              0.7777777777777778,
              "#fb9f3a"
             ],
             [
              0.8888888888888888,
              "#fdca26"
             ],
             [
              1,
              "#f0f921"
             ]
            ],
            "type": "histogram2d"
           }
          ],
          "histogram2dcontour": [
           {
            "colorbar": {
             "outlinewidth": 0,
             "ticks": ""
            },
            "colorscale": [
             [
              0,
              "#0d0887"
             ],
             [
              0.1111111111111111,
              "#46039f"
             ],
             [
              0.2222222222222222,
              "#7201a8"
             ],
             [
              0.3333333333333333,
              "#9c179e"
             ],
             [
              0.4444444444444444,
              "#bd3786"
             ],
             [
              0.5555555555555556,
              "#d8576b"
             ],
             [
              0.6666666666666666,
              "#ed7953"
             ],
             [
              0.7777777777777778,
              "#fb9f3a"
             ],
             [
              0.8888888888888888,
              "#fdca26"
             ],
             [
              1,
              "#f0f921"
             ]
            ],
            "type": "histogram2dcontour"
           }
          ],
          "mesh3d": [
           {
            "colorbar": {
             "outlinewidth": 0,
             "ticks": ""
            },
            "type": "mesh3d"
           }
          ],
          "parcoords": [
           {
            "line": {
             "colorbar": {
              "outlinewidth": 0,
              "ticks": ""
             }
            },
            "type": "parcoords"
           }
          ],
          "pie": [
           {
            "automargin": true,
            "type": "pie"
           }
          ],
          "scatter": [
           {
            "fillpattern": {
             "fillmode": "overlay",
             "size": 10,
             "solidity": 0.2
            },
            "type": "scatter"
           }
          ],
          "scatter3d": [
           {
            "line": {
             "colorbar": {
              "outlinewidth": 0,
              "ticks": ""
             }
            },
            "marker": {
             "colorbar": {
              "outlinewidth": 0,
              "ticks": ""
             }
            },
            "type": "scatter3d"
           }
          ],
          "scattercarpet": [
           {
            "marker": {
             "colorbar": {
              "outlinewidth": 0,
              "ticks": ""
             }
            },
            "type": "scattercarpet"
           }
          ],
          "scattergeo": [
           {
            "marker": {
             "colorbar": {
              "outlinewidth": 0,
              "ticks": ""
             }
            },
            "type": "scattergeo"
           }
          ],
          "scattergl": [
           {
            "marker": {
             "colorbar": {
              "outlinewidth": 0,
              "ticks": ""
             }
            },
            "type": "scattergl"
           }
          ],
          "scattermapbox": [
           {
            "marker": {
             "colorbar": {
              "outlinewidth": 0,
              "ticks": ""
             }
            },
            "type": "scattermapbox"
           }
          ],
          "scatterpolar": [
           {
            "marker": {
             "colorbar": {
              "outlinewidth": 0,
              "ticks": ""
             }
            },
            "type": "scatterpolar"
           }
          ],
          "scatterpolargl": [
           {
            "marker": {
             "colorbar": {
              "outlinewidth": 0,
              "ticks": ""
             }
            },
            "type": "scatterpolargl"
           }
          ],
          "scatterternary": [
           {
            "marker": {
             "colorbar": {
              "outlinewidth": 0,
              "ticks": ""
             }
            },
            "type": "scatterternary"
           }
          ],
          "surface": [
           {
            "colorbar": {
             "outlinewidth": 0,
             "ticks": ""
            },
            "colorscale": [
             [
              0,
              "#0d0887"
             ],
             [
              0.1111111111111111,
              "#46039f"
             ],
             [
              0.2222222222222222,
              "#7201a8"
             ],
             [
              0.3333333333333333,
              "#9c179e"
             ],
             [
              0.4444444444444444,
              "#bd3786"
             ],
             [
              0.5555555555555556,
              "#d8576b"
             ],
             [
              0.6666666666666666,
              "#ed7953"
             ],
             [
              0.7777777777777778,
              "#fb9f3a"
             ],
             [
              0.8888888888888888,
              "#fdca26"
             ],
             [
              1,
              "#f0f921"
             ]
            ],
            "type": "surface"
           }
          ],
          "table": [
           {
            "cells": {
             "fill": {
              "color": "#EBF0F8"
             },
             "line": {
              "color": "white"
             }
            },
            "header": {
             "fill": {
              "color": "#C8D4E3"
             },
             "line": {
              "color": "white"
             }
            },
            "type": "table"
           }
          ]
         },
         "layout": {
          "annotationdefaults": {
           "arrowcolor": "#2a3f5f",
           "arrowhead": 0,
           "arrowwidth": 1
          },
          "autotypenumbers": "strict",
          "coloraxis": {
           "colorbar": {
            "outlinewidth": 0,
            "ticks": ""
           }
          },
          "colorscale": {
           "diverging": [
            [
             0,
             "#8e0152"
            ],
            [
             0.1,
             "#c51b7d"
            ],
            [
             0.2,
             "#de77ae"
            ],
            [
             0.3,
             "#f1b6da"
            ],
            [
             0.4,
             "#fde0ef"
            ],
            [
             0.5,
             "#f7f7f7"
            ],
            [
             0.6,
             "#e6f5d0"
            ],
            [
             0.7,
             "#b8e186"
            ],
            [
             0.8,
             "#7fbc41"
            ],
            [
             0.9,
             "#4d9221"
            ],
            [
             1,
             "#276419"
            ]
           ],
           "sequential": [
            [
             0,
             "#0d0887"
            ],
            [
             0.1111111111111111,
             "#46039f"
            ],
            [
             0.2222222222222222,
             "#7201a8"
            ],
            [
             0.3333333333333333,
             "#9c179e"
            ],
            [
             0.4444444444444444,
             "#bd3786"
            ],
            [
             0.5555555555555556,
             "#d8576b"
            ],
            [
             0.6666666666666666,
             "#ed7953"
            ],
            [
             0.7777777777777778,
             "#fb9f3a"
            ],
            [
             0.8888888888888888,
             "#fdca26"
            ],
            [
             1,
             "#f0f921"
            ]
           ],
           "sequentialminus": [
            [
             0,
             "#0d0887"
            ],
            [
             0.1111111111111111,
             "#46039f"
            ],
            [
             0.2222222222222222,
             "#7201a8"
            ],
            [
             0.3333333333333333,
             "#9c179e"
            ],
            [
             0.4444444444444444,
             "#bd3786"
            ],
            [
             0.5555555555555556,
             "#d8576b"
            ],
            [
             0.6666666666666666,
             "#ed7953"
            ],
            [
             0.7777777777777778,
             "#fb9f3a"
            ],
            [
             0.8888888888888888,
             "#fdca26"
            ],
            [
             1,
             "#f0f921"
            ]
           ]
          },
          "colorway": [
           "#636efa",
           "#EF553B",
           "#00cc96",
           "#ab63fa",
           "#FFA15A",
           "#19d3f3",
           "#FF6692",
           "#B6E880",
           "#FF97FF",
           "#FECB52"
          ],
          "font": {
           "color": "#2a3f5f"
          },
          "geo": {
           "bgcolor": "white",
           "lakecolor": "white",
           "landcolor": "#E5ECF6",
           "showlakes": true,
           "showland": true,
           "subunitcolor": "white"
          },
          "hoverlabel": {
           "align": "left"
          },
          "hovermode": "closest",
          "mapbox": {
           "style": "light"
          },
          "paper_bgcolor": "white",
          "plot_bgcolor": "#E5ECF6",
          "polar": {
           "angularaxis": {
            "gridcolor": "white",
            "linecolor": "white",
            "ticks": ""
           },
           "bgcolor": "#E5ECF6",
           "radialaxis": {
            "gridcolor": "white",
            "linecolor": "white",
            "ticks": ""
           }
          },
          "scene": {
           "xaxis": {
            "backgroundcolor": "#E5ECF6",
            "gridcolor": "white",
            "gridwidth": 2,
            "linecolor": "white",
            "showbackground": true,
            "ticks": "",
            "zerolinecolor": "white"
           },
           "yaxis": {
            "backgroundcolor": "#E5ECF6",
            "gridcolor": "white",
            "gridwidth": 2,
            "linecolor": "white",
            "showbackground": true,
            "ticks": "",
            "zerolinecolor": "white"
           },
           "zaxis": {
            "backgroundcolor": "#E5ECF6",
            "gridcolor": "white",
            "gridwidth": 2,
            "linecolor": "white",
            "showbackground": true,
            "ticks": "",
            "zerolinecolor": "white"
           }
          },
          "shapedefaults": {
           "line": {
            "color": "#2a3f5f"
           }
          },
          "ternary": {
           "aaxis": {
            "gridcolor": "white",
            "linecolor": "white",
            "ticks": ""
           },
           "baxis": {
            "gridcolor": "white",
            "linecolor": "white",
            "ticks": ""
           },
           "bgcolor": "#E5ECF6",
           "caxis": {
            "gridcolor": "white",
            "linecolor": "white",
            "ticks": ""
           }
          },
          "title": {
           "x": 0.05
          },
          "xaxis": {
           "automargin": true,
           "gridcolor": "white",
           "linecolor": "white",
           "ticks": "",
           "title": {
            "standoff": 15
           },
           "zerolinecolor": "white",
           "zerolinewidth": 2
          },
          "yaxis": {
           "automargin": true,
           "gridcolor": "white",
           "linecolor": "white",
           "ticks": "",
           "title": {
            "standoff": 15
           },
           "zerolinecolor": "white",
           "zerolinewidth": 2
          }
         }
        },
        "title": {
         "text": "Most common 3-grams in misleading reviews"
        },
        "width": 700,
        "xaxis": {
         "anchor": "y",
         "domain": [
          0,
          1
         ],
         "visible": false
        },
        "yaxis": {
         "anchor": "x",
         "domain": [
          0,
          1
         ],
         "visible": false
        }
       }
      }
     },
     "metadata": {},
     "output_type": "display_data"
    }
   ],
   "source": [
    "from wordcloud import WordCloud\n",
    "from PIL import Image\n",
    "\n",
    "ngrams_str = \" \".join(n_grams)\n",
    "\n",
    "# make house-shaped mask\n",
    "mask = np.array(Image.open(\"../../house_shape.png\"))\n",
    "# fill transparent areas with white\n",
    "mask[mask[:, :, 3] == 0] = [255, 255, 255, 255]\n",
    "\n",
    "# generate wordcloud\n",
    "wc = WordCloud(\n",
    "    background_color=\"white\", \n",
    "    max_words=1000, \n",
    "    width=mask.shape[0]*5,\n",
    "    height=mask.shape[1]*5,\n",
    "    mask = mask,\n",
    "    contour_width=3,\n",
    "    contour_color='steelblue',\n",
    "    colormap=\"twilight_shifted\"\n",
    ").generate(ngrams_str)\n",
    "\n",
    "wc\n",
    "\n",
    "# show wordcloud\n",
    "fig = px.imshow(wc, title=f\"Most common {N}-grams in misleading reviews\", width=700, height=700)\n",
    "fig.update_xaxes(visible=False)\n",
    "fig.update_yaxes(visible=False)\n",
    "fig.show()"
   ]
  },
  {
   "attachments": {},
   "cell_type": "markdown",
   "metadata": {},
   "source": [
    "Here is a reusable function to add ngrams features to a dataframe."
   ]
  },
  {
   "cell_type": "code",
   "execution_count": 77,
   "metadata": {},
   "outputs": [],
   "source": [
    "def ngrams_features(n, prefix=\"ngrams_\", corr_thresh=0.05):\n",
    "    \"\"\"Add n-gram features to the features dataframe.\"\"\"\n",
    "\n",
    "    # one-hot encode ngrams\n",
    "    df[\"ngrams\"] = df.comments.apply(lambda x: set(get_consecutive_ngrams(x, 3)))\n",
    "\n",
    "    # get set of ngrams\n",
    "    ng_set = set(series_to_ngrams(subset.comments, n).to_list())\n",
    "\n",
    "    # one-hot encode ngrams\n",
    "    ngram_features = {}\n",
    "    for ngram in ng_set:\n",
    "        ngram_features[prefix + ngram] = df.ngrams.apply(lambda ngrams: 1 if ngram in ngrams else 0)\n",
    "    ngram_df = pd.DataFrame(ngram_features)\n",
    "    \n",
    "    # filter features on correlation with label\n",
    "    ngrams_df = corr_filter(ngram_df, corr_thresh=corr_thresh)\n",
    "\n",
    "    return ngrams_df"
   ]
  },
  {
   "cell_type": "code",
   "execution_count": 78,
   "metadata": {},
   "outputs": [],
   "source": [
    "# ngrams_features(3, prefix=\"ngrams_\", corr_thresh=0.09)"
   ]
  },
  {
   "attachments": {},
   "cell_type": "markdown",
   "metadata": {},
   "source": [
    "## \"Mentioned Amenities\" Features\n",
    "Was an amenity that was included in the listing mentioned in the review?"
   ]
  },
  {
   "attachments": {},
   "cell_type": "markdown",
   "metadata": {},
   "source": [
    "First, we need to do some cleaning amenities to make them easier to match."
   ]
  },
  {
   "cell_type": "code",
   "execution_count": 79,
   "metadata": {},
   "outputs": [],
   "source": [
    "import re\n",
    "\n",
    "def clean_amenities(amenities):\n",
    "    \"\"\"Clean the amenities column.\"\"\"\n",
    "\n",
    "    cleaned = []\n",
    "\n",
    "    # basic cleaning\n",
    "    for amenity in amenities:\n",
    "        # remove quotes\n",
    "        amenity = amenity.replace('\"', \"\")\n",
    "        # remove anything in parentheses or brackets\n",
    "        amenity = re.sub(r\"\\(.*\\)\", \"\", amenity)\n",
    "        amenity = re.sub(r\"\\[.*\\]\", \"\", amenity)\n",
    "        # strip whitespace\n",
    "        amenity = amenity.strip()\n",
    "        # lowercase\n",
    "        amenity = amenity.lower()\n",
    "        # remove curly brackets\n",
    "        amenity = amenity.replace(\"{\", \"\").replace(\"}\", \"\")\n",
    "\n",
    "\n",
    "        cleaned.append(amenity)\n",
    "\n",
    "    # split entries with a slash, \"and\", or \"or\"\n",
    "    for to_split_on in [\"/\", \" and \", \" or \"]:\n",
    "        cleaned = [amenity.split(to_split_on) for amenity in cleaned]\n",
    "        cleaned = [item.strip() for sublist in cleaned for item in sublist]\n",
    "\n",
    "    # remove empty strings\n",
    "    cleaned = [amenity for amenity in cleaned if amenity != \"\"]\n",
    "\n",
    "    return cleaned\n",
    "\n",
    "df.amenities = df.amenities.apply(clean_amenities)"
   ]
  },
  {
   "attachments": {},
   "cell_type": "markdown",
   "metadata": {},
   "source": [
    "Look at some examples of the cleaned amenities."
   ]
  },
  {
   "cell_type": "code",
   "execution_count": 80,
   "metadata": {},
   "outputs": [
    {
     "data": {
      "text/plain": [
       "['tv',\n",
       " 'cable tv',\n",
       " 'wifi',\n",
       " 'air conditioning',\n",
       " 'pool',\n",
       " 'kitchen',\n",
       " 'free parking on premises',\n",
       " 'washer',\n",
       " 'dryer',\n",
       " 'smoke detector',\n",
       " 'essentials',\n",
       " 'shampoo',\n",
       " 'hangers',\n",
       " 'hair dryer',\n",
       " 'iron',\n",
       " 'laptop friendly workspace',\n",
       " 'hot water',\n",
       " 'bed linens',\n",
       " 'long term stays allowed',\n",
       " 'other']"
      ]
     },
     "execution_count": 80,
     "metadata": {},
     "output_type": "execute_result"
    }
   ],
   "source": [
    "df.amenities.sample(1).values[0]"
   ]
  },
  {
   "attachments": {},
   "cell_type": "markdown",
   "metadata": {},
   "source": [
    "Calculate our amenities features, and look at the correlation between them and the label."
   ]
  },
  {
   "cell_type": "code",
   "execution_count": 81,
   "metadata": {},
   "outputs": [
    {
     "name": "stdout",
     "output_type": "stream",
     "text": [
      "Calculating amenities features with correlation threshold of 0.05\n",
      "Features above correlation threshold (0.05):\n",
      "['id', 'lockbox', 'pool', 'dishwasher', 'tv', 'keypad', 'kitchen', 'breakfast']\n"
     ]
    },
    {
     "data": {
      "text/html": [
       "<div>\n",
       "<style scoped>\n",
       "    .dataframe tbody tr th:only-of-type {\n",
       "        vertical-align: middle;\n",
       "    }\n",
       "\n",
       "    .dataframe tbody tr th {\n",
       "        vertical-align: top;\n",
       "    }\n",
       "\n",
       "    .dataframe thead th {\n",
       "        text-align: right;\n",
       "    }\n",
       "</style>\n",
       "<table border=\"1\" class=\"dataframe\">\n",
       "  <thead>\n",
       "    <tr style=\"text-align: right;\">\n",
       "      <th></th>\n",
       "      <th>lockbox</th>\n",
       "      <th>pool</th>\n",
       "      <th>dishwasher</th>\n",
       "      <th>tv</th>\n",
       "      <th>keypad</th>\n",
       "      <th>kitchen</th>\n",
       "      <th>breakfast</th>\n",
       "      <th>review_id</th>\n",
       "      <th>label</th>\n",
       "    </tr>\n",
       "  </thead>\n",
       "  <tbody>\n",
       "    <tr>\n",
       "      <th>0</th>\n",
       "      <td>0.0</td>\n",
       "      <td>0.0</td>\n",
       "      <td>0.0</td>\n",
       "      <td>0.0</td>\n",
       "      <td>0.0</td>\n",
       "      <td>0.0</td>\n",
       "      <td>0.0</td>\n",
       "      <td>83097</td>\n",
       "      <td>good</td>\n",
       "    </tr>\n",
       "    <tr>\n",
       "      <th>1</th>\n",
       "      <td>0.0</td>\n",
       "      <td>0.0</td>\n",
       "      <td>0.0</td>\n",
       "      <td>0.0</td>\n",
       "      <td>0.0</td>\n",
       "      <td>0.0</td>\n",
       "      <td>0.0</td>\n",
       "      <td>133337</td>\n",
       "      <td>good</td>\n",
       "    </tr>\n",
       "    <tr>\n",
       "      <th>2</th>\n",
       "      <td>0.0</td>\n",
       "      <td>0.0</td>\n",
       "      <td>0.0</td>\n",
       "      <td>0.0</td>\n",
       "      <td>0.0</td>\n",
       "      <td>1.0</td>\n",
       "      <td>0.0</td>\n",
       "      <td>150928</td>\n",
       "      <td>good</td>\n",
       "    </tr>\n",
       "    <tr>\n",
       "      <th>3</th>\n",
       "      <td>0.0</td>\n",
       "      <td>0.0</td>\n",
       "      <td>0.0</td>\n",
       "      <td>0.0</td>\n",
       "      <td>0.0</td>\n",
       "      <td>0.0</td>\n",
       "      <td>0.0</td>\n",
       "      <td>2706775</td>\n",
       "      <td>good</td>\n",
       "    </tr>\n",
       "    <tr>\n",
       "      <th>4</th>\n",
       "      <td>0.0</td>\n",
       "      <td>0.0</td>\n",
       "      <td>0.0</td>\n",
       "      <td>0.0</td>\n",
       "      <td>0.0</td>\n",
       "      <td>1.0</td>\n",
       "      <td>0.0</td>\n",
       "      <td>8602878</td>\n",
       "      <td>good</td>\n",
       "    </tr>\n",
       "  </tbody>\n",
       "</table>\n",
       "</div>"
      ],
      "text/plain": [
       "   lockbox  pool  dishwasher   tv  keypad  kitchen  breakfast  review_id label\n",
       "0      0.0   0.0         0.0  0.0     0.0      0.0        0.0      83097  good\n",
       "1      0.0   0.0         0.0  0.0     0.0      0.0        0.0     133337  good\n",
       "2      0.0   0.0         0.0  0.0     0.0      1.0        0.0     150928  good\n",
       "3      0.0   0.0         0.0  0.0     0.0      0.0        0.0    2706775  good\n",
       "4      0.0   0.0         0.0  0.0     0.0      1.0        0.0    8602878  good"
      ]
     },
     "execution_count": 81,
     "metadata": {},
     "output_type": "execute_result"
    }
   ],
   "source": [
    "def amenities_features(corr_thresh=None, prefix=\"amenities_\") -> pd.DataFrame:\n",
    "    print(f\"Calculating amenities features with correlation threshold of {corr_thresh}\")\n",
    "    amenities_features_df = pd.DataFrame()\n",
    "    # 1. Find the amenities in the listings\n",
    "    for index, row in df.iterrows():\n",
    "        # 1. Find the amenities in the listings\n",
    "        amenities = row.amenities\n",
    "\n",
    "        # Add a new row to amenities_features_df\n",
    "        amenities_features_df.loc[index, \"id\"] = index\n",
    "\n",
    "        # 2. For each amenity, see if it is present in the review\n",
    "        for amenity in amenities:\n",
    "            if amenity in row.comments:\n",
    "                # 3. If it is present, add 1 for that feature\n",
    "                if amenity in amenities_features_df.columns:\n",
    "                    amenities_features_df.loc[index, amenity] = 1\n",
    "                #   If the amenity does not already exist from another review, add it to the features dataframe\n",
    "                else:\n",
    "                    amenities_features_df.loc[index, amenity] = 0\n",
    "    \n",
    "    # 4. fill missing values with 0\n",
    "    amenities_features_df = amenities_features_df.fillna(0)\n",
    "\n",
    "    # 6. Only keep amenities features that have a correlation with the label above a certain threshold\n",
    "    amenities_features_df = corr_filter(amenities_features_df, corr_thresh=corr_thresh)\n",
    "\n",
    "    # drop id column\n",
    "    if \"id\" in amenities_features_df.columns:\n",
    "        amenities_features_df = amenities_features_df.drop(\"id\", axis=1)\n",
    "\n",
    "    # prefix features\n",
    "    amenities_features_df = amenities_features_df.add_prefix(prefix)\n",
    "\n",
    "    return amenities_features_df\n",
    "\n",
    "\n",
    "amen_features = amenities_features(corr_thresh=0.05, prefix=\"\")\n",
    "amen_features[\"review_id\"] = df.review_id\n",
    "amen_features[\"label\"] = df.label\n",
    "amen_features.head()"
   ]
  },
  {
   "cell_type": "code",
   "execution_count": 82,
   "metadata": {},
   "outputs": [
    {
     "data": {
      "text/plain": [
       "True"
      ]
     },
     "execution_count": 82,
     "metadata": {},
     "output_type": "execute_result"
    }
   ],
   "source": [
    "df.review_id.shape[0] == amen_features.review_id.shape[0]"
   ]
  },
  {
   "attachments": {},
   "cell_type": "markdown",
   "metadata": {},
   "source": [
    "Let's look at the amenities with the highest correlation to the label."
   ]
  },
  {
   "cell_type": "code",
   "execution_count": 83,
   "metadata": {},
   "outputs": [
    {
     "name": "stderr",
     "output_type": "stream",
     "text": [
      "C:\\Users\\grego\\AppData\\Local\\Temp\\ipykernel_25964\\3136741035.py:6: FutureWarning:\n",
      "\n",
      "The default value of numeric_only in DataFrame.corrwith is deprecated. In a future version, it will default to False. Select only valid columns or specify the value of numeric_only to silence this warning.\n",
      "\n"
     ]
    },
    {
     "data": {
      "text/plain": [
       "lockbox       0.090532\n",
       "pool          0.070985\n",
       "dishwasher    0.070433\n",
       "tv            0.055847\n",
       "keypad        0.055246\n",
       "kitchen       0.050689\n",
       "breakfast    -0.055234\n",
       "dtype: float64"
      ]
     },
     "execution_count": 83,
     "metadata": {},
     "output_type": "execute_result"
    }
   ],
   "source": [
    "# OHE labels\n",
    "labels_list: list = amen_features.label.unique().tolist()\n",
    "dummies = amen_features.label.apply(lambda label: labels_list.index(label))\n",
    "\n",
    "# calculate correlations with the label\n",
    "corrs = amen_features.drop(\"review_id\", axis=1).corrwith(dummies).sort_values(ascending=False)\n",
    "corrs"
   ]
  },
  {
   "attachments": {},
   "cell_type": "markdown",
   "metadata": {},
   "source": [
    "## Word Embeddings\n",
    "Another way to look at the data is to use word embeddings. We can use the word2vec model from gensim to create word embeddings for each word in the dataset. We can then take the average of all word vectors in a review to get a vector representation of the review. We will then reduce the dimensionality of the vectors using PCA."
   ]
  },
  {
   "cell_type": "code",
   "execution_count": 84,
   "metadata": {},
   "outputs": [],
   "source": [
    "from gensim.models.word2vec import Word2Vec\n",
    "from sklearn.decomposition import PCA\n",
    "from typing import Tuple\n",
    "\n",
    "def do_pca(features: np.ndarray, col: str, n_components: int) -> Tuple[np.ndarray, PCA]:\n",
    "    \"\"\"Perform PCA on embeddings.\"\"\"\n",
    "    print(f\"Performing PCA on {col} with {n_components} components\")\n",
    "    pca = PCA(n_components=n_components)\n",
    "    pca_trained = pca.fit(features)\n",
    "    pca_embeddings = pca.transform(features)\n",
    "\n",
    "    pca_features = pd.DataFrame()\n",
    "    for i in range(pca_embeddings.shape[1]):\n",
    "        pca_features[f\"pca_{n_components}D_{col}_{i}\"] = pca_embeddings[:, i]\n",
    "\n",
    "    return pca_features, pca_trained\n",
    "\n",
    "def embeddings_features(emb_vector_size=300, col=\"comments\") -> Tuple[pd.DataFrame, Word2Vec]:\n",
    "\n",
    "    print(f\"Embedding {col} with vector size {emb_vector_size}\")\n",
    "    w2v = Word2Vec(df[col].to_list(), \n",
    "            min_count=1,\n",
    "            vector_size=emb_vector_size,\n",
    "            workers=3, \n",
    "            window=3, \n",
    "            sg=1\n",
    "        )\n",
    "    \n",
    "    # generate embeddings\n",
    "    get_review_embeddings = lambda review: np.mean([w2v.wv[word] for word in review if word in w2v.wv], axis=0)\n",
    "    embeddings = np.array([get_review_embeddings(review) for review in df[col].to_list()])\n",
    "    \n",
    "    # ignore DataFrame is highly fragmented.\n",
    "    pd.options.mode.chained_assignment = None\n",
    "\n",
    "    # add embeddings to features dataframe\n",
    "    embd_features = pd.DataFrame()\n",
    "    for i in range(embeddings.shape[1]):\n",
    "        embd_features[f\"embedding_{col}_{i}\"] = embeddings[:, i]\n",
    "\n",
    "    return embd_features, w2v"
   ]
  },
  {
   "attachments": {},
   "cell_type": "markdown",
   "metadata": {},
   "source": [
    "Let's try this out and visualize in 3D to see how well the reviews are separated by label."
   ]
  },
  {
   "cell_type": "code",
   "execution_count": 85,
   "metadata": {},
   "outputs": [
    {
     "name": "stdout",
     "output_type": "stream",
     "text": [
      "Embedding comments with vector size 300\n",
      "Performing PCA on comments with 3 components\n"
     ]
    },
    {
     "data": {
      "application/vnd.plotly.v1+json": {
       "config": {
        "plotlyServerURL": "https://plot.ly"
       },
       "data": [
        {
         "hovertemplate": "label=good<br>pca_3D_comments_0=%{x}<br>pca_3D_comments_1=%{y}<br>pca_3D_comments_2=%{z}<extra></extra>",
         "legendgroup": "good",
         "marker": {
          "color": "#636efa",
          "opacity": 0.5,
          "size": 2,
          "symbol": "circle"
         },
         "mode": "markers",
         "name": "good",
         "scene": "scene",
         "showlegend": true,
         "type": "scatter3d",
         "x": [
          -0.05194629728794098,
          -0.1537477672100067,
          -0.00806585606187582,
          -0.24759219586849213,
          0.04051567241549492,
          -0.22032088041305542,
          -0.0451931431889534,
          -0.0928030014038086,
          -0.257232666015625,
          0.13863395154476166,
          0.21564936637878418,
          -0.11793111264705658,
          0.2266077697277069,
          -0.0721219852566719,
          -0.026845769956707954,
          -0.22083841264247894,
          0.06977822631597519,
          -0.49620771408081055,
          0.032983340322971344,
          -0.14524628221988678,
          -0.06655263900756836,
          0.05030021443963051,
          0.03358852490782738,
          -0.05065492168068886,
          -0.14068865776062012,
          0.22691722214221954,
          -0.3889349400997162,
          -0.09074386954307556,
          0.03421909362077713,
          -0.25399500131607056,
          -0.27996310591697693,
          -0.030684402212500572,
          -0.04589041694998741,
          -0.01289246417582035,
          -0.20431938767433167,
          0.0794672742486,
          -0.06703543663024902,
          0.011335048824548721,
          -0.32815349102020264,
          -0.26123103499412537,
          -0.3494643568992615,
          -0.067571721971035,
          0.03053077682852745,
          0.19141604006290436,
          -0.020805105566978455,
          0.06094861775636673,
          -0.08989962935447693,
          0.07431783527135849,
          0.0519261509180069,
          -0.11471868306398392,
          -0.2721736431121826,
          0.010051160119473934,
          -0.0744379311800003,
          -0.16359485685825348,
          0.027494212612509727,
          0.00913710705935955,
          -0.04556190222501755,
          0.08462148904800415,
          0.12068471312522888,
          0.3352159261703491,
          -0.0450165793299675,
          0.21006321907043457,
          -0.05309256538748741,
          -0.08401794731616974,
          0.06947040557861328,
          -0.05143558606505394,
          -0.10095014423131943,
          -0.18777133524417877,
          -0.16222169995307922,
          0.013108178973197937,
          -0.013702253811061382,
          -0.008550422266125679,
          0.15857955813407898,
          0.07111093401908875,
          0.11047159880399704,
          0.08263710141181946,
          -0.2532406449317932,
          -0.05527424439787865,
          0.008976233191788197,
          -0.1988196223974228,
          0.1146848127245903,
          -0.5441159605979919,
          -0.07004223018884659,
          -0.27080002427101135,
          0.0035207245964556932,
          -0.18179720640182495,
          -0.3413526117801666,
          -0.12298167496919632,
          -0.15399980545043945,
          0.11795169115066528,
          0.15476945042610168,
          -0.09440655261278152,
          0.0905812606215477,
          0.1000841036438942,
          0.11362829804420471,
          0.054431475698947906,
          0.11061019450426102,
          0.1051098182797432,
          -0.010359514504671097,
          -0.03506281226873398,
          -0.009440542198717594,
          0.10086330026388168,
          0.13644540309906006,
          -0.0006915124249644578,
          0.028707927092909813,
          -0.1352739930152893,
          0.17562580108642578,
          0.11108332127332687,
          -0.2810519337654114,
          0.014292835257947445,
          -0.291735976934433,
          0.08951058983802795,
          -0.003992787096649408,
          0.12209030240774155,
          -0.03129494935274124,
          -0.08127687126398087,
          0.08164414763450623,
          0.29467877745628357,
          0.24051664769649506,
          0.19384388625621796,
          0.25107625126838684,
          0.2382817566394806,
          -0.06926722824573517,
          -0.25385695695877075,
          -0.49746668338775635,
          -0.11811043322086334,
          -0.08790605515241623,
          -0.05319243669509888,
          -0.11741843074560165,
          0.11074350029230118,
          -0.14170953631401062,
          -0.12553349137306213,
          -0.21589583158493042,
          -0.0014536925591528416,
          -0.33932873606681824,
          -0.5908847451210022,
          -0.11534959077835083,
          -0.07698231935501099,
          0.19375701248645782,
          0.19082488119602203,
          0.7911622524261475,
          -0.15205514430999756,
          0.020930113270878792,
          -0.1254357099533081,
          0.02222023531794548,
          -0.05333489179611206,
          0.700238049030304,
          -0.3776398003101349,
          0.018714001402258873,
          -0.4123983681201935,
          -0.017933065071702003,
          -0.03747096285223961,
          -0.15785470604896545,
          -0.06200619414448738,
          -0.03325267881155014,
          0.04844633862376213,
          0.18090662360191345,
          0.21595284342765808,
          -0.08143867552280426,
          0.1196485385298729,
          0.25838401913642883,
          0.8683710098266602,
          -0.10901708155870438,
          -0.1042056754231453,
          0.0935053899884224,
          0.04054877161979675,
          -0.3470615744590759,
          -0.1695595681667328,
          -0.09836066514253616,
          -0.12167154997587204,
          0.08843166381120682,
          -0.061841100454330444,
          0.00227160076610744,
          -0.031466253101825714,
          -0.0891651138663292,
          -0.03522171080112457,
          0.06230954825878143,
          0.041121646761894226,
          0.0456385500729084,
          0.022371897473931313,
          0.00610955897718668,
          -0.003282176097854972,
          0.18876837193965912,
          0.22589661180973053,
          0.04943563789129257,
          -0.19242091476917267,
          -0.2844475507736206,
          0.7599488496780396,
          0.8276044726371765,
          0.08213414996862411,
          0.316564679145813,
          -0.14065898954868317,
          -0.142396479845047,
          0.12903229892253876,
          -0.2501836121082306,
          -0.04361576586961746,
          0.08934158086776733,
          -0.013124817982316017,
          -0.014757118187844753,
          -0.12778569757938385,
          -0.15959465503692627,
          -0.3325972855091095,
          -0.02541150525212288,
          -0.030150195583701134,
          -0.10284671187400818,
          0.04975060746073723,
          -0.08181411772966385,
          -0.06986285746097565,
          -0.0022273706272244453,
          -0.10283058136701584,
          -0.11172965914011002,
          -0.15475237369537354,
          0.1182740330696106,
          0.10024990886449814,
          0.21557968854904175,
          -0.29843467473983765,
          0.019838890060782433,
          -0.06287192553281784,
          0.12022421509027481,
          -0.08595782518386841,
          0.20786316692829132,
          -0.11044977605342865,
          0.058573294430971146,
          0.0972309485077858,
          -0.154618039727211,
          -0.16314376890659332,
          0.14007528126239777,
          0.04611460119485855,
          0.1338857114315033,
          -0.06858077645301819,
          -0.057720497250556946,
          -0.02449151873588562,
          -0.12518545985221863,
          -0.09765300899744034,
          0.25623810291290283,
          0.3581898808479309,
          0.011250834912061691,
          -0.07070198655128479,
          0.14441706240177155,
          -0.05866924300789833,
          0.20978984236717224,
          -0.0042360080406069756,
          0.174669548869133,
          -0.07573860138654709,
          -0.5655261278152466,
          -0.11914148926734924,
          -0.0033876702655106783,
          -0.08821719139814377,
          0.0516849160194397,
          -0.1585470288991928,
          0.1626027673482895,
          -0.055545005947351456,
          -0.30984407663345337,
          0.0007248585461638868,
          -0.24417723715305328,
          -0.1140446588397026,
          -0.0828552171587944,
          -0.05645112320780754,
          -0.5862227082252502,
          -0.24291500449180603,
          -0.06549480557441711,
          -0.12524902820587158,
          -0.032043926417827606,
          0.035641588270664215,
          0.11505228281021118,
          -0.14885829389095306,
          -0.2258983701467514,
          0.27660179138183594,
          0.051796767860651016,
          -0.08408884704113007,
          0.18856966495513916,
          -0.1648738980293274,
          -0.43268635869026184,
          -0.08094573765993118,
          0.02652452327311039,
          0.04553075507283211,
          0.11628174781799316,
          -0.005896518938243389,
          0.24863377213478088,
          -0.12103493511676788,
          -0.25186794996261597,
          -0.29285934567451477,
          -0.4012157618999481,
          0.1259375661611557,
          -0.007956248708069324,
          -0.014166660606861115,
          0.031934332102537155,
          -0.31416386365890503,
          0.04273168742656708,
          0.003313054796308279,
          0.030880609527230263,
          0.10094529390335083,
          0.05447304621338844,
          -0.0018479041755199432,
          0.02325308509171009,
          0.07820067554712296,
          0.15988598763942719,
          0.023363322019577026,
          -0.00595899811014533,
          0.011267614550888538,
          0.05416068062186241,
          -0.26266831159591675,
          -0.0005016371142119169,
          -0.17886488139629364,
          0.12292363494634628,
          -0.1452123373746872,
          -0.31646767258644104,
          -0.11944825947284698,
          0.2776632308959961,
          0.31801965832710266,
          -0.08786170929670334,
          0.07415757328271866,
          -0.045030560344457626,
          -0.11732368916273117,
          0.40964144468307495,
          -0.09598895907402039,
          -0.08850312232971191,
          -0.05440820753574371,
          -0.1015816181898117,
          0.22446869313716888,
          -0.06491309404373169,
          0.27294740080833435,
          -0.11006719619035721,
          0.2978250980377197,
          -0.0521286241710186,
          0.07930329442024231,
          -0.10912152379751205,
          -0.10563673079013824,
          0.12256154417991638,
          -0.2252504676580429,
          -0.07194718718528748,
          0.0919618010520935,
          -0.022516746073961258,
          -0.19399799406528473,
          0.11593183875083923,
          0.241011381149292,
          0.12192227691411972,
          0.10620106011629105,
          -0.11045752465724945,
          -0.24930822849273682,
          -0.13514316082000732,
          -0.18676809966564178,
          -0.1961730569601059,
          -0.019296225160360336,
          -0.39475640654563904,
          0.1370525062084198,
          0.09524569660425186,
          -0.10717219114303589,
          -0.02593010477721691,
          -0.14963898062705994,
          0.16948267817497253,
          -0.14655371010303497,
          0.16155025362968445,
          0.11478828638792038,
          0.08351048827171326,
          -0.17468604445457458,
          -0.06406353414058685,
          0.0644310787320137,
          -0.16875340044498444,
          0.05859929695725441,
          -0.14835363626480103,
          -0.22146137058734894,
          -0.04703531041741371,
          0.19642114639282227,
          -0.005175008904188871,
          -0.045163147151470184,
          -0.24107542634010315,
          0.07652910053730011,
          0.06613568961620331,
          -0.04452668875455856,
          0.023647639900445938,
          -0.08219289034605026,
          -0.16214945912361145,
          -0.007565743289887905,
          -0.11264146119356155,
          -0.004174436442553997,
          -0.013221501372754574,
          -0.29436588287353516,
          -0.0721537247300148,
          0.007222178857773542,
          0.10581149160861969,
          -0.0906645804643631,
          -0.08987206220626831,
          0.007865888066589832,
          0.010022924281656742,
          -0.10763002932071686,
          -0.0855986699461937,
          -0.09278872609138489,
          -0.21097303926944733,
          -0.0819237008690834,
          0.12791034579277039,
          -0.10140892118215561,
          -0.017885765060782433,
          0.013989721424877644,
          0.03544606640934944,
          -0.0819060355424881,
          -0.045330390334129333,
          -0.005508670583367348,
          0.14662618935108185,
          0.05489908158779144,
          0.22459110617637634,
          0.12571337819099426,
          0.06314835697412491,
          -0.2184470146894455,
          -0.09670696407556534,
          0.005340748932212591,
          -0.2216712385416031,
          0.030887609347701073,
          0.14259375631809235,
          0.08727613836526871,
          -0.18180996179580688,
          -0.18070025742053986,
          0.31861501932144165,
          0.05592476204037666,
          -0.1436731070280075,
          -0.1295996606349945,
          0.0567476823925972,
          -0.18881089985370636,
          -0.15258583426475525,
          0.19124244153499603,
          -0.06478964537382126,
          0.15297244489192963,
          0.43488144874572754,
          -0.15749870240688324,
          0.19113528728485107,
          -0.41567984223365784,
          0.24621814489364624,
          -0.1015985980629921,
          -0.14461658895015717,
          -0.14762373268604279,
          0.09630627185106277,
          -0.4076695740222931,
          -0.08298882097005844,
          -0.1360253393650055,
          -0.05896614119410515,
          0.03878634795546532,
          -0.27015194296836853,
          -0.11795119941234589,
          -0.2738696038722992,
          -0.21868623793125153,
          -0.411058634519577,
          -0.37276190519332886,
          -0.08572636544704437,
          0.20539981126785278,
          0.05531616508960724,
          0.042084548622369766,
          -0.11802808195352554,
          0.039580218493938446,
          0.09555307030677795,
          0.08606915920972824,
          0.0695328488945961,
          -0.18263204395771027,
          -0.3868755102157593,
          -0.022978805005550385,
          -0.018704332411289215,
          -0.27422770857810974,
          -0.21074844896793365,
          -0.33237898349761963,
          -0.2648019790649414,
          -0.3064010739326477,
          0.258780300617218,
          -0.2871170938014984,
          -0.3249557614326477,
          0.2599378526210785,
          -0.34433409571647644,
          -0.08343974500894547,
          0.07957901060581207,
          -0.04554302617907524,
          0.08988197892904282,
          -0.07798507809638977,
          0.15383237600326538,
          0.16893485188484192,
          -0.08029816299676895,
          -0.04152705520391464,
          -0.14217935502529144,
          -0.18942415714263916,
          -0.1594824194908142,
          -0.035838305950164795,
          -0.3013401925563812,
          -0.11599233001470566,
          -0.11599233001470566,
          -0.11599233001470566,
          0.04955394193530083,
          -0.020986199378967285,
          0.10880333930253983,
          0.12508437037467957,
          0.11942432075738907,
          0.17342732846736908,
          0.12136122584342957,
          -0.172541081905365,
          0.037979766726493835,
          0.05110332369804382,
          -0.21159406006336212,
          0.032612379640340805,
          -0.15633998811244965,
          -0.14264871180057526,
          -0.39712226390838623,
          -0.24408800899982452,
          0.22441422939300537,
          -0.35203269124031067,
          0.00002052831041510217,
          -0.15764760971069336,
          -0.0742250308394432,
          -0.06433863937854767,
          -0.1142311692237854,
          -0.02439529448747635,
          0.1412782371044159,
          -0.16956467926502228,
          -0.09491796046495438,
          0.2250453531742096,
          0.1559472680091858,
          -0.04978648200631142,
          -0.2342907190322876,
          -0.36674734950065613,
          -0.2043667584657669,
          0.14341329038143158,
          -0.18773937225341797,
          -0.053443316370248795,
          0.08451472967863083,
          0.01384699810296297,
          -0.24482904374599457,
          -0.0480416975915432,
          -0.2698661684989929,
          -0.3409174978733063,
          -0.2186068892478943,
          -0.42067936062812805,
          -0.08902907371520996,
          -0.1470898687839508,
          0.060986943542957306,
          -0.06956113874912262,
          0.0042493524961173534,
          0.036325208842754364,
          -0.12643858790397644,
          -0.41470080614089966,
          0.13431517779827118,
          -0.19481857120990753,
          0.18106268346309662,
          -0.14793090522289276,
          0.09184696525335312,
          -0.28145429491996765,
          -0.012295160442590714,
          0.15929731726646423,
          -0.10994627326726913,
          -0.13900116086006165,
          0.01865335740149021,
          -0.07956309616565704,
          -0.22456659376621246,
          0.09073124825954437,
          0.08995335549116135,
          0.06340392678976059,
          -0.29825010895729065,
          -0.011791928671300411,
          -0.2597123682498932,
          -0.2602693736553192,
          -0.03417088836431503,
          -0.08519863337278366,
          -0.34376829862594604,
          -0.06474416702985764,
          -0.4336090683937073,
          -0.07572554796934128,
          -0.013003523461520672,
          -0.18699845671653748,
          -0.11044380813837051,
          0.07121668756008148,
          -0.0845734179019928,
          0.11884088069200516,
          -0.04669821262359619,
          0.0379781574010849,
          -0.052041973918676376,
          -0.1358325183391571,
          -0.04171716049313545,
          -0.0774410218000412,
          0.12572041153907776,
          0.04228648915886879,
          0.028837693855166435,
          -0.2787931263446808,
          0.00549314497038722,
          -0.3344045877456665,
          0.1330200433731079,
          -0.10144024342298508,
          0.16279193758964539,
          0.11366970837116241,
          0.062061846256256104,
          -0.3152289390563965,
          -0.3116456866264343,
          -0.0418614000082016,
          -0.051702436059713364,
          -0.2274722307920456,
          0.09849387407302856,
          0.1496948003768921,
          0.054818470031023026,
          0.06538406014442444,
          0.12376143783330917,
          -0.21517479419708252,
          -0.08088643103837967,
          -0.05954049527645111,
          -0.16346506774425507,
          -0.04665761813521385,
          -0.013209500350058079,
          -0.0996648296713829,
          -0.054215289652347565,
          -0.026912162080407143,
          0.12650999426841736,
          -0.062489647418260574,
          -0.1893194317817688,
          -0.13076730072498322,
          -0.27991077303886414,
          -0.10537530481815338,
          0.03962469473481178,
          0.1468910127878189,
          0.2599359452724457,
          0.12731052935123444,
          0.19497542083263397,
          -0.08765660971403122,
          0.1732015758752823,
          0.1767898052930832,
          0.003235141048207879,
          0.04138757660984993,
          -0.0994177833199501,
          -0.0868317037820816,
          0.1412135660648346,
          -0.012177341617643833,
          -0.09664998948574066,
          -0.17322272062301636,
          -0.2532854378223419,
          -0.10630107671022415,
          -0.11170604825019836,
          0.04141167551279068,
          0.0861462727189064,
          0.33543065190315247,
          -0.3161541521549225,
          0.17574277520179749,
          -0.15467433631420135,
          -0.2331518828868866,
          -0.10597778111696243,
          -0.0923326388001442,
          -0.20360438525676727,
          -0.035151395946741104,
          -0.09222975373268127,
          0.19044727087020874,
          0.21662071347236633,
          0.188448965549469,
          0.21856768429279327,
          -0.013506293296813965,
          -0.1564822942018509,
          -0.27478039264678955,
          -0.0658009797334671,
          -0.10523231327533722,
          -0.027071915566921234,
          -0.21891118586063385,
          0.045794449746608734,
          -0.22219982743263245,
          -0.1139279305934906,
          0.06853615492582321,
          -0.08855476975440979,
          -0.035355351865291595,
          0.1282501071691513,
          0.07795801758766174,
          -0.18069471418857574,
          -0.15526258945465088,
          -0.07387898862361908,
          -0.33400246500968933,
          0.043527159839868546,
          0.12151287496089935,
          0.17233678698539734,
          0.22692923247814178,
          0.0245145745575428,
          -0.07548557966947556,
          -0.04288775473833084,
          -0.12045026570558548,
          0.008192104287445545,
          -0.20248977839946747,
          -0.3041989505290985,
          -0.1414789855480194,
          -0.1285819709300995,
          -0.04537811875343323,
          -0.055780671536922455,
          -0.18248772621154785,
          0.07832050323486328,
          0.1207219734787941,
          0.1907726228237152,
          -0.2944396138191223,
          -0.1650645136833191,
          0.05694606155157089,
          0.13982439041137695,
          0.3875298798084259,
          -0.12607605755329132,
          0.0944400280714035,
          0.08320705592632294,
          -0.24883708357810974,
          -0.017779860645532608,
          -0.15195982158184052,
          -0.08942768722772598,
          -0.14424225687980652,
          -0.07960047572851181,
          -0.08435642719268799,
          -0.07133971154689789,
          0.12544648349285126,
          -0.057502660900354385,
          0.11969312280416489,
          -0.42836838960647583,
          -0.06238342449069023,
          0.038321878761053085,
          -0.10105913132429123,
          -0.04569796100258827,
          -0.42973384261131287,
          -0.20604467391967773,
          -0.07576140016317368,
          0.06644636392593384,
          0.14599095284938812,
          -0.09370873123407364,
          -0.0437195859849453,
          0.08575186133384705,
          -0.005251911468803883,
          -0.04864717647433281,
          0.03168689087033272,
          -0.011266754940152168,
          -0.3255913555622101,
          -0.1015467420220375,
          0.03375871106982231,
          0.07433922588825226,
          -0.18512634932994843,
          -0.22869142889976501,
          -0.12255313992500305,
          -0.03055724687874317,
          0.003726591356098652,
          -0.05194105952978134,
          -0.09993818402290344,
          -0.08415699750185013,
          -0.23815056681632996,
          -0.195085346698761,
          0.013450969010591507,
          -0.053327932953834534,
          -0.007954616099596024,
          0.02036769688129425,
          -0.17740650475025177,
          0.15255649387836456,
          -0.12987419962882996,
          -0.015268226154148579,
          0.02591620571911335,
          0.05720345675945282,
          -0.045585405081510544,
          -0.03944913297891617,
          0.017503300681710243,
          -0.05514868348836899,
          -0.22350677847862244,
          -0.08415699750185013,
          -0.03917163982987404,
          -0.09254805743694305,
          0.052297454327344894,
          0.08139766752719879,
          0.09212210029363632,
          0.13198505342006683,
          0.06690371781587601,
          0.04362330213189125,
          -0.054709337651729584,
          -0.01227785088121891,
          0.05258599668741226,
          -0.142837256193161,
          0.11274196952581406,
          -0.12628550827503204,
          -0.042205579578876495,
          0.02100422792136669,
          0.003956533037126064,
          -0.12673421204090118,
          -0.08062554150819778,
          -0.05362101271748543,
          -0.1488661915063858,
          -0.0572630800306797,
          -0.039132799953222275,
          -0.21646597981452942,
          0.014243620447814465,
          -0.0377739779651165,
          -0.14237181842327118,
          -0.10361678153276443,
          -0.10488993674516678,
          0.11307036876678467,
          -0.5085434913635254,
          -0.31036484241485596,
          0.10217850655317307,
          -0.11299151927232742,
          -0.12091311812400818,
          -0.21321766078472137,
          -0.23396943509578705,
          -0.010248166508972645,
          -0.013624634593725204,
          0.01832321286201477,
          -0.2704988718032837,
          -0.01977713406085968,
          -0.29942575097084045,
          -0.3220665752887726,
          -0.0027012990321964025,
          -0.06426247209310532,
          0.06943560391664505,
          -0.15448768436908722,
          -0.0018679641652852297,
          -0.06764595955610275,
          -0.11161401122808456,
          -0.1476287841796875,
          -0.15438312292099,
          -0.19954009354114532,
          0.10920664668083191,
          -0.3295198976993561,
          -0.416043221950531,
          0.06707099080085754,
          -0.3398940861225128,
          0.10095007717609406,
          0.21651460230350494,
          -0.010720260441303253,
          -0.07764594256877899,
          0.00583601463586092,
          0.16452831029891968,
          0.2762097716331482,
          -0.0013126111589372158,
          0.033068347722291946,
          0.15296132862567902,
          0.014685734175145626,
          0.09127520024776459,
          0.05851994454860687,
          0.04290226101875305,
          0.08534959703683853,
          0.028056148439645767,
          -0.04100801795721054,
          0.13637572526931763,
          -0.19573260843753815,
          -0.05051121115684509,
          -0.08046602457761765,
          0.07386041432619095,
          0.2715637981891632,
          -0.18677765130996704,
          -0.19581851363182068,
          -0.0031420858576893806,
          -0.027609096840023994,
          0.2022511512041092,
          -0.07035906612873077,
          0.03265424072742462,
          -0.0995732992887497,
          -0.18069586157798767,
          0.13042300939559937,
          0.03912706673145294,
          0.10036252439022064,
          -0.3764754831790924,
          -0.1100408211350441,
          0.49432140588760376,
          0.15052585303783417,
          -0.16446250677108765,
          -0.02174859680235386,
          -0.27822643518447876,
          -0.030101917684078217,
          0.2572231888771057,
          -0.16229256987571716,
          -0.05561511218547821,
          -0.1284303069114685,
          0.06781148165464401,
          -0.059175148606300354,
          0.17501093447208405,
          -0.019110387191176414,
          -0.08041931688785553,
          -0.11755747348070145,
          -0.05461851879954338,
          0.021479684859514236,
          -0.022415148094296455,
          -0.0222051702439785,
          0.04305898770689964,
          -0.09521868824958801,
          -0.17495626211166382,
          -0.0740678682923317,
          0.0559241846203804,
          -0.04998982325196266,
          0.09476842731237411,
          0.07195612788200378,
          0.08391662687063217,
          -0.12369879335165024,
          -0.12369879335165024,
          -0.08154416084289551,
          -0.08154416084289551,
          0.07742466032505035,
          0.07742466032505035,
          0.020930755883455276,
          0.020930755883455276,
          -0.3267478048801422,
          -0.3267478048801422,
          -0.14440971612930298,
          -0.14440971612930298,
          0.07198020070791245,
          0.07198020070791245,
          -0.3647017478942871,
          -0.3647017478942871,
          -0.19499602913856506,
          -0.19499602913856506,
          -0.12154706567525864,
          -0.17451244592666626,
          -0.06427523493766785,
          -0.06427523493766785,
          0.0629841685295105,
          0.0629841685295105,
          0.007127744611352682,
          0.007127744611352682,
          0.2011735588312149,
          0.2011735588312149,
          -0.07499659061431885,
          -0.07499659061431885,
          -0.12936879694461823,
          -0.46391913294792175,
          0.27835482358932495,
          0.17072387039661407,
          0.15864385664463043,
          0.09375961869955063,
          0.11156176030635834,
          -0.00952980574220419,
          0.040240488946437836,
          -0.2895611524581909,
          -0.018026193603873253,
          0.0948694571852684,
          -0.20585203170776367,
          0.055338066071271896,
          -0.25765103101730347,
          -0.19557791948318481,
          -0.3019537627696991,
          -0.021941352635622025,
          0.09833551198244095,
          -0.044909194111824036,
          -0.07744447886943817,
          0.006625160574913025,
          -0.10836656391620636,
          0.03880191966891289,
          0.14189346134662628,
          0.05087835341691971,
          -0.015623781830072403,
          0.006018294487148523,
          -0.07382320612668991,
          0.10046607255935669,
          0.01838798262178898,
          0.17399060726165771,
          0.2539512515068054,
          -0.05363668128848076,
          -0.24244697391986847,
          -0.1306542307138443,
          0.08658817410469055,
          -0.17776158452033997,
          0.007811219431459904,
          0.12244778126478195,
          0.008211320266127586,
          -0.2121799886226654,
          -0.01646781899034977,
          -0.1862802803516388,
          -0.03820548951625824,
          -0.09821129590272903,
          0.08439717441797256,
          0.08832567185163498,
          -0.005827315151691437,
          -0.2007545828819275,
          -0.07773204892873764,
          0.021792763844132423,
          -0.022972768172621727,
          -0.035072505474090576,
          -0.13790512084960938,
          -0.05790824815630913,
          0.04773799329996109,
          -0.1292312741279602,
          -0.14121587574481964,
          -0.20276135206222534,
          -0.06824619323015213,
          -0.22562861442565918,
          -0.08044521510601044,
          0.1389225721359253,
          -0.17557795345783234,
          -0.3330734074115753,
          0.13388691842556,
          -0.1690659075975418,
          0.19667351245880127,
          -0.0593254491686821,
          0.04236556962132454,
          -0.11828672885894775,
          -0.24599412083625793,
          -0.12601718306541443,
          -0.2873936593532562,
          -0.1866546869277954,
          -0.3984454274177551,
          -0.2563217282295227,
          0.06461600959300995,
          0.12272381782531738,
          0.5554453730583191,
          -0.06636136025190353,
          0.1622520536184311,
          0.05158443748950958,
          -0.03909757360816002,
          0.10184331238269806,
          -0.18867936730384827,
          -0.12794077396392822,
          0.11172381788492203,
          -0.027947532013058662,
          0.16253072023391724,
          0.08265521377325058,
          -0.13085269927978516,
          0.14916887879371643,
          0.08717378228902817,
          -0.31217387318611145,
          -0.03858738765120506,
          0.06722284108400345,
          -0.09244104474782944,
          -0.22153744101524353,
          0.21681714057922363,
          0.07831156253814697,
          -0.09315953403711319,
          0.09570121020078659,
          0.059405215084552765,
          0.11808401346206665,
          0.17503885924816132,
          0.02543448656797409,
          -0.1449282318353653,
          -0.14485758543014526,
          -0.019605059176683426,
          -0.14579153060913086,
          -0.14064611494541168,
          -0.206850066781044,
          -0.2437964528799057,
          0.2196790874004364,
          0.17137308418750763,
          -0.1233564168214798,
          0.11081477254629135,
          0.2142827957868576,
          0.016973333433270454,
          -0.04407072439789772,
          -0.12639564275741577,
          0.07731811702251434,
          -0.00785042718052864,
          0.09735787659883499,
          -0.012352656573057175,
          -0.06662263721227646,
          -0.15746328234672546,
          -0.12997537851333618,
          0.03604676574468613,
          0.20542116463184357,
          -0.03083375282585621,
          0.08239495009183884,
          -0.008311616256833076,
          0.0432201623916626,
          0.13913236558437347,
          0.03647158294916153,
          -0.033681176602840424,
          -0.19625647366046906,
          0.08900956809520721,
          -0.16140824556350708,
          -0.04717222973704338,
          0.1436174064874649,
          -0.021017804741859436,
          0.14117279648780823,
          -0.08911257982254028,
          0.09126304090023041,
          -0.01612224243581295,
          0.1168803796172142,
          0.15208186209201813,
          -0.20676462352275848,
          0.2149680256843567,
          0.0328562892973423,
          -0.14320579171180725,
          -0.1725136786699295,
          0.30182555317878723,
          0.11671974509954453,
          0.24640735983848572,
          0.007938836701214314,
          -0.18087860941886902,
          -0.3690013289451599,
          -0.006907366216182709,
          0.14718933403491974,
          -0.04812150448560715,
          -0.16873973608016968,
          -0.16617445647716522,
          0.032669685781002045,
          0.21426618099212646,
          -0.12480314821004868,
          0.054677270352840424,
          -0.2375316172838211,
          0.07450743764638901,
          -0.026592442765831947,
          -0.29742348194122314,
          0.018569210544228554,
          -0.15548169612884521,
          0.08065540343523026,
          -0.12764710187911987,
          -0.038893505930900574,
          0.07789087295532227,
          -0.25170087814331055,
          0.11487967520952225,
          0.05123074725270271,
          -0.04963977262377739,
          -0.0150686576962471,
          -0.10166670382022858,
          0.14738419651985168,
          -0.08693793416023254,
          0.023009657859802246,
          -0.00342772388830781,
          -0.037146519869565964,
          0.5929776430130005,
          -0.04430803656578064,
          -0.08425198495388031,
          0.3055172860622406,
          0.1625227928161621,
          -0.018627705052495003,
          -0.03193536028265953,
          0.08637313544750214,
          -0.175332710146904,
          -0.112317755818367,
          -0.36791229248046875,
          -0.15075334906578064,
          -0.01971140131354332,
          0.07607743889093399,
          -0.1411663442850113,
          -0.26617565751075745,
          0.1324838101863861,
          0.0947861596941948,
          -0.47455015778541565,
          -0.0025883419439196587,
          0.11082319915294647,
          -0.04668968543410301,
          0.02991609089076519,
          -0.07470172643661499,
          0.2188299596309662,
          -0.14182311296463013,
          -0.06429655849933624,
          -0.2192411720752716,
          0.04831898212432861,
          0.01977083645761013,
          0.020175861194729805,
          -0.08158895373344421,
          0.0978277251124382,
          0.2786531448364258,
          0.15122446417808533,
          0.12467531114816666,
          -0.09406274557113647,
          -0.028848126530647278,
          -0.05332483351230621,
          0.08493226021528244,
          -0.09848584234714508,
          -0.11559509485960007,
          -0.002170360879972577,
          0.04232265427708626,
          0.03412575647234917,
          -0.08565972745418549,
          -0.1793985664844513,
          0.032977718859910965,
          0.24181489646434784,
          0.05426515266299248,
          0.06281100958585739,
          -0.07595201581716537,
          -0.03243134170770645,
          -0.1447146087884903,
          0.07194389402866364,
          -0.19826018810272217,
          -0.030595315620303154,
          -0.3936092257499695,
          -0.38096433877944946,
          0.13938197493553162,
          -0.03363155946135521,
          -0.024015210568904877,
          -0.06508483737707138,
          0.013285133056342602,
          -0.0457938052713871,
          -0.0005935749504715204,
          0.056257378309965134,
          -0.14873583614826202,
          -0.3398783206939697,
          0.20406344532966614,
          0.08691645413637161,
          -0.3631732165813446,
          -0.15144780278205872,
          -0.11953636258840561,
          0.05086677148938179,
          0.040627818554639816,
          -0.12250859290361404,
          -0.21506384015083313,
          0.1349821388721466,
          0.19412551820278168,
          -0.13587021827697754,
          0.08273675292730331,
          -0.0031514845322817564,
          0.08416673541069031,
          -0.09550465643405914,
          0.08709011971950531,
          -0.31356674432754517,
          -0.33409982919692993,
          -0.1245524063706398,
          0.16763700544834137,
          0.07006169110536575,
          0.14480768144130707,
          0.15506036579608917,
          -0.04800914600491524,
          0.1522892862558365,
          -0.10577927529811859,
          0.1703185886144638,
          0.047105737030506134,
          -0.0632684975862503,
          -0.10551756620407104,
          -0.00772371469065547,
          0.1938927322626114,
          -0.09734753519296646,
          0.12792766094207764,
          -0.012564723379909992,
          0.1442417949438095,
          0.07861070334911346,
          0.11788161844015121,
          0.0660262480378151,
          0.12247100472450256,
          -0.1450928896665573,
          0.14028063416481018,
          -0.010673540644347668,
          -0.07684369385242462,
          -0.005682998336851597,
          0.10622137039899826,
          -0.050210051238536835,
          0.05070614069700241,
          0.05984286963939667,
          -0.2910439372062683,
          -0.21867771446704865,
          -0.05947825685143471,
          -0.006416530814021826,
          0.10685373842716217,
          0.04831017553806305,
          -0.34442102909088135,
          -0.18659526109695435,
          0.09399215131998062,
          0.13787437975406647,
          -0.0313369520008564,
          -0.0007956703775562346,
          -0.019037457183003426,
          -0.08654284477233887,
          -0.1901916116476059,
          -0.014979498460888863,
          -0.11738239973783493,
          -0.05432523041963577,
          -0.14995670318603516,
          -0.2413206696510315,
          -0.024716362357139587,
          -0.16132375597953796,
          -0.06653422862291336
         ],
         "y": [
          -0.0862622931599617,
          0.21613961458206177,
          -0.11623001843690872,
          -0.14605197310447693,
          -0.04212312772870064,
          0.10173550248146057,
          -0.0036054751835763454,
          -0.027065739035606384,
          0.16087430715560913,
          -0.03592732548713684,
          -0.3799996078014374,
          0.02170974761247635,
          0.1283004730939865,
          0.09245824813842773,
          0.10591689497232437,
          0.04733110964298248,
          -0.27037814259529114,
          0.17329645156860352,
          0.009704959578812122,
          0.24282574653625488,
          0.1298191249370575,
          -0.15228253602981567,
          -0.18270814418792725,
          0.1291215419769287,
          -0.16608865559101105,
          0.014714344404637814,
          0.19897551834583282,
          0.24064044654369354,
          -0.112301304936409,
          -0.03418785706162453,
          -0.007049957290291786,
          -0.11929319053888321,
          0.04051339998841286,
          -0.14140239357948303,
          0.1283797174692154,
          0.07435052841901779,
          0.08762200176715851,
          0.11368417739868164,
          -0.1603410691022873,
          -0.049562498927116394,
          0.12897595763206482,
          0.04437720403075218,
          -0.2521071434020996,
          -0.09712494164705276,
          0.07452841848134995,
          0.023334920406341553,
          0.08307065814733505,
          0.14467276632785797,
          0.1314423829317093,
          0.10313994437456131,
          0.24175599217414856,
          -0.07754791527986526,
          0.06673065572977066,
          0.24276399612426758,
          0.13342995941638947,
          -0.07434771209955215,
          -0.299623042345047,
          -0.12003686279058456,
          0.08023654669523239,
          0.04874690622091293,
          -0.06503436714410782,
          0.04965522140264511,
          -0.008902300149202347,
          -0.00352433230727911,
          0.06235256418585777,
          -0.09592929482460022,
          -0.03810892999172211,
          -0.09950485080480576,
          0.009171238169074059,
          0.12428725510835648,
          -0.19527558982372284,
          0.04547187313437462,
          0.02891334518790245,
          -0.044603731483221054,
          -0.31589868664741516,
          0.08025980740785599,
          0.2049088031053543,
          -0.14285242557525635,
          -0.09762503206729889,
          0.0753432884812355,
          -0.02135811559855938,
          0.19302792847156525,
          -0.007357844617217779,
          -0.034481823444366455,
          -0.12679649889469147,
          0.012995588593184948,
          0.18729959428310394,
          -0.020220430567860603,
          0.0859828069806099,
          0.003404744202271104,
          0.005859385244548321,
          -0.030351033434271812,
          0.057939860969781876,
          -0.07875694334506989,
          0.07573013007640839,
          -0.003489422146230936,
          -0.05622931569814682,
          -0.04376213997602463,
          -0.05207039415836334,
          0.04196357727050781,
          -0.09702940285205841,
          -0.10174001753330231,
          -0.048043761402368546,
          0.06283236294984818,
          -0.030654458329081535,
          0.0345841720700264,
          -0.03641816973686218,
          -0.13112320005893707,
          -0.15764617919921875,
          0.028170373290777206,
          0.002904623281210661,
          -0.00817976612597704,
          0.21782897412776947,
          0.2699556350708008,
          -0.12237521260976791,
          -0.08178156614303589,
          -0.09324898570775986,
          0.21072149276733398,
          0.16154927015304565,
          0.13615037500858307,
          0.06732086837291718,
          0.029214462265372276,
          0.05682193487882614,
          0.1879357248544693,
          -0.050714001059532166,
          0.06055175140500069,
          0.0912628099322319,
          0.05475567653775215,
          -0.012673539109528065,
          -0.21381978690624237,
          0.07684458047151566,
          0.03200998529791832,
          -0.06957805156707764,
          0.03251422569155693,
          -0.23676419258117676,
          0.38538146018981934,
          -0.04629511013627052,
          -0.05793144926428795,
          0.024230554699897766,
          -0.11237702518701553,
          0.4852021336555481,
          0.045133937150239944,
          0.09284874051809311,
          -0.0341029167175293,
          0.25516390800476074,
          -0.06701958924531937,
          0.512129008769989,
          -0.23435629904270172,
          -0.004212973639369011,
          0.4652034342288971,
          -0.02184309996664524,
          -0.10362520068883896,
          -0.0652865543961525,
          -0.03367919474840164,
          0.03667210415005684,
          -0.05647249519824982,
          -0.08781005442142487,
          -0.016321083530783653,
          0.23968727886676788,
          0.18339571356773376,
          0.10504773259162903,
          0.5272461771965027,
          0.06425514072179794,
          -0.08293546736240387,
          -0.000268223142484203,
          0.008029298856854439,
          -0.012980286031961441,
          0.13934360444545746,
          0.11872141808271408,
          0.16716060042381287,
          0.10642959177494049,
          0.09091360121965408,
          0.020390020683407784,
          0.05758561193943024,
          -0.10158715397119522,
          0.08992625772953033,
          -0.08122102916240692,
          -0.09447915852069855,
          0.14026087522506714,
          0.013539709150791168,
          0.1686996966600418,
          0.01991002820432186,
          0.011548458598554134,
          -0.004156157374382019,
          0.04935451224446297,
          0.013688324019312859,
          0.2904581129550934,
          0.5407171249389648,
          0.5344402194023132,
          0.05774848535656929,
          0.17266955971717834,
          0.0009624094818718731,
          0.054339874535799026,
          -0.04279099404811859,
          0.29827880859375,
          0.08278045058250427,
          -0.024653861299157143,
          -0.14281709492206573,
          -0.24216815829277039,
          0.004104238469153643,
          -0.020934002473950386,
          0.2286008596420288,
          -0.0821390450000763,
          0.016501707956194878,
          -0.09404147416353226,
          -0.108683280646801,
          -0.179104283452034,
          0.0682034119963646,
          -0.011967013590037823,
          0.24365068972110748,
          0.23785778880119324,
          -0.00279977940954268,
          -0.09148528426885605,
          0.168048694729805,
          0.21341776847839355,
          0.06707842648029327,
          -0.08235252648591995,
          -0.13157035410404205,
          0.026163313537836075,
          0.05735643580555916,
          0.09025685489177704,
          -0.010744385421276093,
          -0.03998115658760071,
          -0.12779463827610016,
          -0.09004269540309906,
          0.029940282925963402,
          -0.061041783541440964,
          0.06680275499820709,
          0.04122093319892883,
          0.008291569538414478,
          -0.0615139938890934,
          0.10824011266231537,
          -0.005862797144800425,
          0.04083902761340141,
          0.141524076461792,
          0.32242318987846375,
          -0.07104048877954483,
          0.14226765930652618,
          0.07934611290693283,
          -0.05810897424817085,
          0.025470921769738197,
          -0.19877396523952484,
          0.01961214281618595,
          0.011378217488527298,
          0.11125580966472626,
          -0.1212441697716713,
          0.09319861978292465,
          0.07503680139780045,
          0.040033817291259766,
          0.11105041205883026,
          -0.04215477406978607,
          0.00920915137976408,
          0.12706753611564636,
          0.3488476872444153,
          0.05522119626402855,
          0.24463604390621185,
          0.21375295519828796,
          -0.1292005032300949,
          0.17635001242160797,
          -0.038431089371442795,
          -0.05814429372549057,
          -0.09272833913564682,
          -0.050258345901966095,
          0.08796145021915436,
          0.03319140151143074,
          0.11651156842708588,
          -0.2074400782585144,
          0.1611829698085785,
          -0.03238729014992714,
          -0.07936611771583557,
          0.25272369384765625,
          0.263854056596756,
          0.2074168175458908,
          0.0857158675789833,
          0.062426887452602386,
          0.036634836345911026,
          -0.0338556244969368,
          0.029382357373833656,
          0.11784253269433975,
          0.10364280641078949,
          -0.3161914646625519,
          0.015715813264250755,
          -0.33912450075149536,
          -0.1086575835943222,
          -0.08809409290552139,
          0.1026337668299675,
          0.14169162511825562,
          -0.2515556514263153,
          -0.14803066849708557,
          -0.1700563281774521,
          -0.16512486338615417,
          -0.02791512757539749,
          0.08278313279151917,
          0.1489090472459793,
          0.05428244546055794,
          -0.19208301603794098,
          -0.05242011696100235,
          -0.007514802739024162,
          0.07149697840213776,
          -0.23767809569835663,
          -0.008975131437182426,
          -0.059355393052101135,
          0.017841484397649765,
          0.10121321678161621,
          -0.11696738004684448,
          -0.011363880708813667,
          -0.005614070221781731,
          0.09456021338701248,
          0.09307462722063065,
          0.13206234574317932,
          -0.009131930768489838,
          -0.08333519846200943,
          -0.02364889346063137,
          -0.09391888231039047,
          0.15276576578617096,
          0.10802369564771652,
          -0.04478854686021805,
          -0.18907427787780762,
          -0.11389859020709991,
          0.08393777906894684,
          -0.06183749809861183,
          0.08447489887475967,
          0.11361738294363022,
          -0.039231572300195694,
          0.1191343143582344,
          0.1157815158367157,
          0.1551554650068283,
          0.010151538997888565,
          0.03771035745739937,
          0.03328140079975128,
          -0.05325043946504593,
          0.021807072684168816,
          0.015963388606905937,
          -0.18569748103618622,
          -0.08893873542547226,
          -0.36945194005966187,
          -0.21463987231254578,
          0.11280743777751923,
          0.0496598444879055,
          0.04556713253259659,
          0.004442007280886173,
          0.1152002289891243,
          0.05370471626520157,
          0.24527773261070251,
          0.3892790973186493,
          -0.024988705292344093,
          -0.10136475414037704,
          -0.15938504040241241,
          -0.06751006841659546,
          -0.028157930821180344,
          -0.3072156012058258,
          -0.05808423087000847,
          0.009961330331861973,
          -0.1414245069026947,
          0.07674805074930191,
          -0.1978134959936142,
          -0.056215930730104446,
          -0.09597739577293396,
          0.06102389842271805,
          -0.03872404620051384,
          -0.15074576437473297,
          0.1599617898464203,
          -0.21038994193077087,
          0.009063342586159706,
          -0.21514472365379333,
          -0.08466766029596329,
          -0.033122096210718155,
          -0.08437924832105637,
          0.13780800998210907,
          -0.039049774408340454,
          -0.04131261259317398,
          0.0962587222456932,
          0.09033647924661636,
          0.15886306762695312,
          0.07022825628519058,
          0.19908994436264038,
          0.06098578870296478,
          0.3372003734111786,
          -0.14524345099925995,
          -0.20532236993312836,
          -0.18488946557044983,
          0.011787970550358295,
          0.15683336555957794,
          0.212128147482872,
          -0.04620032757520676,
          0.14707207679748535,
          0.14062021672725677,
          -0.008014867082238197,
          -0.005792281590402126,
          -0.03611378371715546,
          0.09617940336465836,
          0.0825050100684166,
          0.09430985152721405,
          -0.03686187416315079,
          0.024909835308790207,
          -0.08916173130273819,
          0.38543495535850525,
          0.0731327012181282,
          -0.11507971584796906,
          -0.04011942446231842,
          0.052450407296419144,
          -0.18107129633426666,
          0.027871908619999886,
          -0.21218380331993103,
          0.02567809820175171,
          0.07396171987056732,
          0.027846628800034523,
          -0.23530906438827515,
          -0.14109335839748383,
          -0.2567524313926697,
          0.1813599020242691,
          0.0457058846950531,
          -0.12226552516222,
          0.08654514700174332,
          0.08705878257751465,
          0.1479908674955368,
          -0.131637841463089,
          -0.047691501677036285,
          0.10672187805175781,
          0.030919918790459633,
          0.11769210547208786,
          0.0005185018526390195,
          0.19865655899047852,
          -0.16698262095451355,
          0.07445107400417328,
          0.03673483803868294,
          -0.16473233699798584,
          0.15038397908210754,
          -0.15791307389736176,
          0.1843712329864502,
          0.24414046108722687,
          -0.14367005228996277,
          0.01346459798514843,
          0.15797536075115204,
          -0.10866835713386536,
          -0.24421854317188263,
          0.02917720377445221,
          0.1728493869304657,
          -0.02702978625893593,
          0.11144471913576126,
          0.295450359582901,
          0.21137955784797668,
          0.0212838277220726,
          0.012453751638531685,
          -0.09447505325078964,
          -0.012496253475546837,
          -0.08138374239206314,
          -0.19709442555904388,
          -0.06811925023794174,
          0.16658976674079895,
          -0.12946520745754242,
          0.11415523290634155,
          0.14347711205482483,
          -0.07937849313020706,
          -0.1240759789943695,
          0.006645481567829847,
          0.1087527871131897,
          -0.21178527176380157,
          0.05704604089260101,
          0.06601672619581223,
          0.14839310944080353,
          0.0802287682890892,
          -0.022304803133010864,
          0.04104774817824364,
          0.03997783735394478,
          0.1959684044122696,
          -0.1714051067829132,
          -0.05575358122587204,
          0.12711885571479797,
          0.03039252944290638,
          -0.042617201805114746,
          0.06852394342422485,
          0.0509246326982975,
          0.20738951861858368,
          0.17777299880981445,
          0.4067208468914032,
          0.013430980034172535,
          0.10116377472877502,
          0.09116631746292114,
          0.05063309147953987,
          0.05063309147953987,
          0.05063309147953987,
          0.10779651254415512,
          -0.17057360708713531,
          -0.11032665520906448,
          -0.07352399826049805,
          -0.030192827805876732,
          0.05557090789079666,
          0.0997115820646286,
          0.13887903094291687,
          -0.07612558454275131,
          0.09531673789024353,
          0.10569765418767929,
          0.23224060237407684,
          0.11372005939483643,
          0.04405757039785385,
          0.11392977833747864,
          -0.045222941786050797,
          0.031145337969064713,
          0.18197552859783173,
          0.15473993122577667,
          0.005616264883428812,
          -0.02697921171784401,
          -0.03581308200955391,
          0.17606359720230103,
          -0.01311354897916317,
          0.0721663385629654,
          0.0021582513581961393,
          0.003852562978863716,
          0.0364266000688076,
          0.1336115300655365,
          -0.07808713614940643,
          -0.09056512266397476,
          -0.2222420573234558,
          -0.04309217631816864,
          -0.08105795830488205,
          0.2417735606431961,
          -0.11771722882986069,
          0.06543616950511932,
          -0.022700047120451927,
          -0.15041999518871307,
          -0.44017425179481506,
          -0.07754440605640411,
          -0.08417350798845291,
          -0.08437420427799225,
          -0.3880622982978821,
          -0.191139355301857,
          0.05577421560883522,
          -0.2283797264099121,
          0.0923541933298111,
          0.25268688797950745,
          -0.07919798791408539,
          -0.11124105006456375,
          -0.09609374403953552,
          -0.06260953843593597,
          -0.22830139100551605,
          -0.1055474504828453,
          -0.0997871458530426,
          -0.055402886122465134,
          -0.08030742406845093,
          0.1381770372390747,
          -0.06882504373788834,
          -0.011182568036019802,
          0.051715292036533356,
          0.013531058095395565,
          -0.06372719258069992,
          -0.10250984877347946,
          -0.07511010020971298,
          0.012963496148586273,
          -0.048532884567976,
          0.2682088315486908,
          0.08526737242937088,
          -0.0011946522863581777,
          -0.023242807015776634,
          0.044737886637449265,
          -0.0009318814845755696,
          0.12701863050460815,
          0.13613949716091156,
          0.37503141164779663,
          -0.05588891729712486,
          0.033345721662044525,
          0.24177804589271545,
          0.12870937585830688,
          0.15287132561206818,
          -0.05622151494026184,
          -0.1475050151348114,
          0.024053364992141724,
          0.05981237813830376,
          0.15106800198554993,
          0.1747923642396927,
          -0.052964042872190475,
          -0.003161327913403511,
          0.07967795431613922,
          -0.03486492857336998,
          -0.010169715620577335,
          0.12460294365882874,
          0.11466218531131744,
          0.005309320520609617,
          0.04746156558394432,
          -0.13641683757305145,
          -0.00411823159083724,
          -0.08121922612190247,
          -0.07019340246915817,
          0.10812333226203918,
          -0.0887756496667862,
          -0.07048948109149933,
          0.017376501113176346,
          0.041736237704753876,
          0.04640036076307297,
          0.16495001316070557,
          -0.07503548264503479,
          0.09196814894676208,
          -0.10193748772144318,
          -0.17409376800060272,
          -0.3740025758743286,
          -0.05467351898550987,
          -0.02324248105287552,
          0.17875467240810394,
          0.027760881930589676,
          -0.019370142370462418,
          0.22154276072978973,
          -0.0779307410120964,
          -0.008509727194905281,
          0.031124502420425415,
          -0.022068239748477936,
          0.41608598828315735,
          0.17154628038406372,
          -0.1677521914243698,
          0.10684370249509811,
          0.14642266929149628,
          0.06431812793016434,
          -0.06959689408540726,
          -0.040502265095710754,
          0.08325476944446564,
          0.15893782675266266,
          0.24138343334197998,
          0.06651615351438522,
          -0.20232567191123962,
          0.02592606656253338,
          -0.07792741805315018,
          0.05129474028944969,
          -0.03832469508051872,
          -0.17094208300113678,
          0.18415187299251556,
          -0.11173468083143234,
          0.05430835485458374,
          -0.107908695936203,
          -0.06141430512070656,
          0.06604363024234772,
          -0.11678600311279297,
          0.0975477322936058,
          0.06609135866165161,
          -0.1728781908750534,
          0.007613859139382839,
          -0.0905127078294754,
          0.09893841296434402,
          0.03279424458742142,
          0.06131495162844658,
          0.005930788815021515,
          -0.019913844764232635,
          0.0865100622177124,
          -0.2438385784626007,
          0.015083767473697662,
          -0.12955643236637115,
          0.19222863018512726,
          0.2553478479385376,
          0.11966853588819504,
          0.043848667293787,
          0.049311358481645584,
          0.06573515385389328,
          -0.0044745090417563915,
          0.18517427146434784,
          0.2763221859931946,
          0.1286318600177765,
          0.12342802435159683,
          0.05312296748161316,
          0.020835986360907555,
          -0.09760400652885437,
          0.16570556163787842,
          0.06295221298933029,
          -0.11794973909854889,
          0.17087729275226593,
          0.03800075501203537,
          -0.10066120326519012,
          -0.24650119245052338,
          -0.01224575750529766,
          0.13386784493923187,
          -0.12121810764074326,
          0.17042073607444763,
          0.12967678904533386,
          0.04269847273826599,
          -0.2214900702238083,
          0.09168822318315506,
          -0.1951722353696823,
          -0.1928485482931137,
          0.08193285763263702,
          0.024550911039114,
          0.10643838346004486,
          -0.06867371499538422,
          0.01846505142748356,
          0.061758119612932205,
          -0.027514101937413216,
          -0.11482132971286774,
          -0.11348330974578857,
          0.04923737049102783,
          -0.020220715552568436,
          0.17639796435832977,
          0.07649876177310944,
          -0.13208891451358795,
          0.1569531261920929,
          -0.14773492515087128,
          -0.18962043523788452,
          0.2717303931713104,
          0.04955904930830002,
          0.15665078163146973,
          -0.04021571949124336,
          0.02159828133881092,
          -0.0450541116297245,
          0.07049069553613663,
          0.11882432550191879,
          -0.0361720509827137,
          0.02654270827770233,
          -0.007680205162614584,
          -0.1917092502117157,
          -0.12514430284500122,
          0.15781284868717194,
          0.024825163185596466,
          0.06934777647256851,
          -0.08794055134057999,
          0.05832992121577263,
          0.08690282702445984,
          0.023640789091587067,
          -0.03821243718266487,
          0.02893056720495224,
          -0.07479983568191528,
          -0.03513719141483307,
          -0.0465221032500267,
          0.12822884321212769,
          -0.07441480457782745,
          -0.005631096661090851,
          -0.06699888408184052,
          0.06150101125240326,
          0.009707591496407986,
          0.27668315172195435,
          0.06407895684242249,
          -0.0256390068680048,
          0.11597908288240433,
          0.04497142136096954,
          0.1557537019252777,
          0.15688709914684296,
          0.023734770715236664,
          0.061608318239450455,
          -0.08637471497058868,
          0.002747578779235482,
          0.09050168097019196,
          -0.026959329843521118,
          -0.06010480597615242,
          0.03535044565796852,
          -0.20104970037937164,
          -0.30576229095458984,
          0.18418364226818085,
          -0.18550056219100952,
          0.2622755765914917,
          0.09661915153265,
          -0.3608940839767456,
          -0.1681121587753296,
          0.1557537019252777,
          -0.12891924381256104,
          0.21116554737091064,
          -0.1753951460123062,
          0.05705747380852699,
          0.05166011303663254,
          -0.015548248775303364,
          0.06827272474765778,
          -0.056477706879377365,
          0.1246337890625,
          0.1726711541414261,
          -0.1346415877342224,
          0.033053696155548096,
          -0.04827894642949104,
          0.022088155150413513,
          0.09560637176036835,
          0.0211323332041502,
          -0.12240529805421829,
          -0.03476706147193909,
          -0.05298355221748352,
          -0.03397228941321373,
          -0.12864582240581512,
          0.10591685026884079,
          0.18727745115756989,
          -0.22084014117717743,
          -0.33319029211997986,
          -0.2549857497215271,
          0.3055911362171173,
          -0.04747915640473366,
          0.15479296445846558,
          -0.16488073766231537,
          -0.004419566597789526,
          -0.15301261842250824,
          -0.04532770812511444,
          0.028220687061548233,
          0.1303330957889557,
          0.0467701256275177,
          0.16534872353076935,
          0.16277649998664856,
          -0.08952498435974121,
          -0.162065327167511,
          -0.3245164752006531,
          0.05647964030504227,
          0.10621514171361923,
          -0.10047701746225357,
          0.009080455638468266,
          -0.06273754686117172,
          -0.15766599774360657,
          0.06887515634298325,
          0.02835259400308132,
          0.007553637493401766,
          -0.05620317533612251,
          0.17796574532985687,
          0.17727144062519073,
          0.14041690528392792,
          -0.059792306274175644,
          0.30091312527656555,
          0.3843267261981964,
          -0.14074470102787018,
          0.13588933646678925,
          0.11739577353000641,
          0.04808454215526581,
          0.038447827100753784,
          -0.14683878421783447,
          0.08772680908441544,
          0.045842889696359634,
          -0.02972523309290409,
          -0.023495152592658997,
          -0.0611184686422348,
          0.12468424439430237,
          0.1593744307756424,
          0.17499254643917084,
          0.14074888825416565,
          0.07920168340206146,
          0.1513635218143463,
          -0.01904304139316082,
          0.01412799209356308,
          0.06858158856630325,
          -0.18818415701389313,
          -0.11362552642822266,
          -0.16249923408031464,
          0.15265384316444397,
          0.11677682399749756,
          -0.09804616868495941,
          0.018234414979815483,
          -0.1440674066543579,
          -0.07796584069728851,
          0.07588572800159454,
          0.2812465727329254,
          -0.10031475126743317,
          0.1584704965353012,
          0.3310897946357727,
          -0.10424681007862091,
          0.11963044852018356,
          -0.06208054721355438,
          0.09587385505437851,
          0.06333649903535843,
          0.3598777651786804,
          -0.05013008788228035,
          -0.253757119178772,
          0.15376484394073486,
          -0.11913805454969406,
          0.014226796105504036,
          -0.0009939232841134071,
          0.1078977882862091,
          0.3141211271286011,
          -0.006688504479825497,
          0.03745655342936516,
          -0.035830575972795486,
          -0.13949257135391235,
          -0.07110697031021118,
          0.07072204351425171,
          0.20868481695652008,
          0.10869359225034714,
          0.08059955388307571,
          -0.21506451070308685,
          -0.01916581578552723,
          -0.15247328579425812,
          0.13680003583431244,
          -0.11247693002223969,
          0.09141664206981659,
          -0.24094785749912262,
          -0.18707256019115448,
          -0.03835446760058403,
          -0.06615400314331055,
          -0.05230281129479408,
          -0.19858773052692413,
          -0.19858773052692413,
          0.06638838350772858,
          0.06638838350772858,
          0.0023461529053747654,
          0.0023461529053747654,
          0.1055077314376831,
          0.1055077314376831,
          0.21551954746246338,
          0.21551954746246338,
          0.024376235902309418,
          0.024376235902309418,
          0.046532608568668365,
          0.046532608568668365,
          -0.21166130900382996,
          -0.21166130900382996,
          -0.07131458073854446,
          -0.07131458073854446,
          0.028056811541318893,
          -0.08279797434806824,
          -0.015282001346349716,
          -0.015282001346349716,
          0.007799825165420771,
          0.007799825165420771,
          -0.1905215084552765,
          -0.1905215084552765,
          -0.18751296401023865,
          -0.18751296401023865,
          -0.17362511157989502,
          -0.17362511157989502,
          0.03266362473368645,
          0.3479676842689514,
          -0.3066282570362091,
          0.08455254882574081,
          0.04324866831302643,
          0.08459710329771042,
          0.0026991404592990875,
          -0.04407350718975067,
          0.08102765679359436,
          -0.1767665594816208,
          -0.2873513996601105,
          -0.01744728907942772,
          0.013564441353082657,
          -0.041179049760103226,
          0.1798527091741562,
          0.22268332540988922,
          0.1204962506890297,
          0.12466946989297867,
          -0.10949093848466873,
          -0.10930080711841583,
          -0.15854285657405853,
          0.11778391897678375,
          -0.17236651480197906,
          0.1854238361120224,
          -0.038295816630125046,
          -0.04319153353571892,
          -0.1310640424489975,
          0.07676990330219269,
          -0.09102217108011246,
          -0.05592922121286392,
          0.010558364912867546,
          0.004696835298091173,
          0.0071944016963243484,
          -0.12248902022838593,
          -0.06338635087013245,
          0.03888867795467377,
          -0.16561511158943176,
          0.020758040249347687,
          0.09830212593078613,
          0.09735620021820068,
          0.19405092298984528,
          0.3819451630115509,
          -0.012036959640681744,
          0.14824075996875763,
          0.07258055359125137,
          0.15010902285575867,
          0.02188144065439701,
          0.2752104103565216,
          -0.046735722571611404,
          -0.016815185546875,
          -0.13251052796840668,
          -0.1368773877620697,
          0.04578401893377304,
          0.053746119141578674,
          -0.24929694831371307,
          -0.12642401456832886,
          -0.06266102939844131,
          0.13484704494476318,
          0.0414920300245285,
          0.2719627916812897,
          0.2506677210330963,
          0.16156348586082458,
          0.07358422130346298,
          -0.008550900965929031,
          0.13081501424312592,
          0.18544651567935944,
          0.12150447815656662,
          0.022410014644265175,
          0.05271602049469948,
          0.07841840386390686,
          0.13188214600086212,
          -0.013608240522444248,
          0.043644655495882034,
          -0.01253901794552803,
          0.15042735636234283,
          -0.03130398318171501,
          0.07339479774236679,
          -0.01879746839404106,
          -0.008577508851885796,
          0.0166265070438385,
          0.31670644879341125,
          0.14142966270446777,
          -0.161521777510643,
          0.07938212156295776,
          0.0719672441482544,
          -0.07811681181192398,
          0.036812420934438705,
          -0.27295932173728943,
          -0.03484153747558594,
          0.0009246856207028031,
          0.006049600895494223,
          -0.028751855716109276,
          0.008605164475739002,
          -0.17594681680202484,
          -0.05863579362630844,
          -0.3111894726753235,
          0.17712189257144928,
          0.17727406322956085,
          -0.10950156301259995,
          -0.37760573625564575,
          -0.03228152543306351,
          0.11010631173849106,
          -0.013619538396596909,
          -0.07507115602493286,
          0.03133857250213623,
          -0.0036097888369113207,
          -0.07581060379743576,
          -0.00392821105197072,
          -0.2221938818693161,
          0.16897271573543549,
          -0.03456440195441246,
          -0.05432847887277603,
          0.10619857907295227,
          -0.15291844308376312,
          0.02241787500679493,
          0.03958900645375252,
          -0.019742248579859734,
          -0.2795509099960327,
          -0.05177886411547661,
          -0.03988998010754585,
          -0.13197502493858337,
          -0.023309869691729546,
          -0.041892439126968384,
          -0.004135948605835438,
          -0.017353417351841927,
          -0.06805659085512161,
          0.008378694765269756,
          0.19613856077194214,
          -0.10613538324832916,
          0.0723985880613327,
          0.07810932397842407,
          -0.01027633436024189,
          -0.04292680323123932,
          -0.0235221516340971,
          -0.014306115917861462,
          -0.015481910668313503,
          0.08627720177173615,
          -0.04704727604985237,
          0.011354422196745872,
          0.1450577676296234,
          -0.13022556900978088,
          0.11006998270750046,
          0.06723073869943619,
          0.15525545179843903,
          -0.001459765830077231,
          -0.03728833794593811,
          -0.1431063711643219,
          -0.014438197948038578,
          -0.2430000752210617,
          -0.0704524964094162,
          -0.11241716146469116,
          -0.22769509255886078,
          -0.09488481283187866,
          -0.19640031456947327,
          -0.1328766793012619,
          -0.0974171981215477,
          -0.054311610758304596,
          -0.0162491612136364,
          -0.041269559413194656,
          -0.17825885117053986,
          -0.44395479559898376,
          -0.05869276449084282,
          0.04477401450276375,
          -0.09950925409793854,
          -0.0014238649746403098,
          0.06203104928135872,
          0.021439803764224052,
          0.0973757952451706,
          0.1178063154220581,
          -0.1335768699645996,
          0.02425307407975197,
          -0.12317752838134766,
          -0.07347925007343292,
          -0.14153297245502472,
          0.11349187046289444,
          0.0627070963382721,
          -0.19455592334270477,
          0.06030208617448807,
          0.06713622063398361,
          -0.030470110476017,
          -0.09355095028877258,
          0.1699604094028473,
          0.23562438786029816,
          0.026829658076167107,
          -0.09812483191490173,
          0.11164074391126633,
          -0.33415186405181885,
          0.19052596390247345,
          0.08766649663448334,
          -0.08724338561296463,
          0.05610084533691406,
          0.13421036303043365,
          0.279757559299469,
          -0.09697345644235611,
          -0.14105664193630219,
          0.15265913307666779,
          -0.10012244433164597,
          -0.05268377810716629,
          -0.1332075297832489,
          -0.06042274460196495,
          -0.10935113579034805,
          -0.018535897135734558,
          0.040931474417448044,
          0.23571620881557465,
          -0.13608814775943756,
          -0.1958474963903427,
          0.03289734944701195,
          -0.017032215371727943,
          -0.07261466979980469,
          -0.06283304840326309,
          -0.055113792419433594,
          -0.16006065905094147,
          0.10159985721111298,
          0.0005762696964666247,
          -0.028669016435742378,
          -0.2922794222831726,
          -0.04781770333647728,
          -0.10539474338293076,
          0.06112177297472954,
          -0.26828306913375854,
          0.1860281080007553,
          -0.061836957931518555,
          -0.028592759743332863,
          -0.09914922714233398,
          0.031735774129629135,
          0.057316653430461884,
          -0.01888301782310009,
          -0.007504059933125973,
          0.08310223370790482,
          -0.08624251186847687,
          0.06027575582265854,
          0.16280226409435272,
          0.10487676411867142,
          -0.09689326584339142,
          -0.26840394735336304,
          -0.13533848524093628,
          0.07842901349067688,
          -0.032625097781419754,
          0.21182221174240112,
          -0.051358822733163834,
          0.048989806324243546,
          -0.027117714285850525,
          -0.06573399901390076,
          0.3657255470752716,
          -0.09239307045936584,
          -0.3729296028614044,
          0.14300549030303955,
          0.002951470436528325,
          0.01956045813858509,
          0.12590233981609344,
          -0.10534542798995972,
          -0.0016646754229441285,
          -0.008657877333462238,
          0.07721006125211716,
          -0.00809006579220295,
          0.0182090662419796,
          0.21460537612438202,
          -0.24979941546916962,
          0.0651373416185379,
          0.003913251217454672,
          -0.15690502524375916,
          -0.08253664523363113,
          0.0539998859167099,
          0.029205715283751488,
          0.030393453314900398,
          0.16795726120471954,
          -0.13010519742965698,
          -0.0018033585511147976,
          -0.10029513388872147,
          0.2533314526081085,
          -0.010309022851288319,
          0.04477040097117424,
          0.09115337580442429,
          -0.0037501053884625435,
          -0.15204769372940063,
          -0.04995780810713768,
          -0.258188396692276,
          0.11441804468631744,
          -0.4775078594684601,
          -0.23147761821746826,
          -0.15916480123996735,
          -0.0850423201918602,
          0.08440779894590378,
          -0.1630297154188156,
          0.10241822898387909,
          -0.06645674258470535,
          -0.036099694669246674,
          -0.12751543521881104,
          0.044871728867292404,
          -0.09708340466022491,
          -0.18487681448459625,
          -0.1712290644645691,
          -0.13627539575099945,
          0.0018201228231191635,
          -0.2742432653903961,
          0.018236620351672173,
          0.07859889417886734,
          -0.19184452295303345,
          0.20560766756534576,
          -0.09908819198608398,
          -0.04204056039452553,
          -0.06896044313907623,
          -0.05292753502726555,
          -0.13043813407421112,
          -0.10595077276229858,
          0.04396338015794754,
          -0.01837344467639923,
          -0.057637665420770645,
          -0.017854101955890656,
          -0.12767504155635834,
          0.05551334470510483,
          -0.04191288352012634,
          -0.19158916175365448,
          -0.13862068951129913,
          0.027115125209093094,
          -0.02851618081331253,
          -0.17332571744918823,
          -0.16319045424461365,
          -0.189066082239151,
          0.05645886808633804,
          -0.041803810745477676,
          0.035734862089157104,
          -0.05566227436065674,
          -0.06565046310424805,
          0.031065551564097404,
          -0.3951140344142914,
          -0.1330236941576004,
          0.06919820606708527,
          0.040602751076221466,
          0.07600006461143494,
          0.056800175458192825,
          0.05777176469564438,
          0.08434315025806427,
          -0.11717461049556732
         ],
         "z": [
          0.029381925240159035,
          0.015072827227413654,
          -0.0631701722741127,
          -0.012488748878240585,
          -0.0077269417233765125,
          0.02660936303436756,
          -0.03418780118227005,
          -0.2007945477962494,
          -0.12398636341094971,
          -0.201529860496521,
          0.07533620297908783,
          0.138640895485878,
          -0.02733691781759262,
          -0.19304423034191132,
          -0.10286109149456024,
          0.1873796433210373,
          0.1206992045044899,
          0.2669564187526703,
          0.12408211082220078,
          -0.11623825132846832,
          0.06842195242643356,
          -0.03263600170612335,
          -0.026590343564748764,
          0.09669191390275955,
          -0.0801602303981781,
          0.12083729356527328,
          0.13175137341022491,
          -0.05381465703248978,
          -0.22699837386608124,
          -0.16450470685958862,
          0.08985335379838943,
          -0.2904307246208191,
          0.01669990085065365,
          -0.020634856075048447,
          0.09170204401016235,
          -0.18516568839550018,
          -0.14568722248077393,
          0.05313987284898758,
          -0.04966096580028534,
          -0.04099580645561218,
          0.0025623678229749203,
          0.09193462133407593,
          0.039160922169685364,
          0.15045931935310364,
          0.050336237996816635,
          -0.020205188542604446,
          -0.026672067120671272,
          0.06575962901115417,
          0.09068798273801804,
          -0.011745614930987358,
          0.004827594384551048,
          0.02816952019929886,
          -0.09942502528429031,
          -0.053025711327791214,
          0.11594998091459274,
          0.02244170941412449,
          0.04397519305348396,
          -0.05980299040675163,
          -0.11621636897325516,
          0.11736467480659485,
          0.08731536567211151,
          -0.031738657504320145,
          -0.0026295084971934557,
          0.08800841122865677,
          -0.06529026478528976,
          0.007196797523647547,
          0.19352515041828156,
          0.11521200090646744,
          0.07906325161457062,
          0.0720108225941658,
          0.14351704716682434,
          -0.11105875670909882,
          -0.05018574371933937,
          0.015765536576509476,
          0.28687921166419983,
          -0.025756271556019783,
          0.007233323063701391,
          -0.13467048108577728,
          0.001189494039863348,
          -0.09791503101587296,
          -0.27304524183273315,
          0.17934177815914154,
          0.05593348667025566,
          -0.03384682536125183,
          -0.05199098214507103,
          0.06267578154802322,
          0.14743712544441223,
          -0.13381822407245636,
          0.028960831463336945,
          -0.039812080562114716,
          -0.010782218538224697,
          -0.2558889091014862,
          -0.08236376196146011,
          -0.2785648703575134,
          -0.03962119668722153,
          -0.012915696948766708,
          0.11415165662765503,
          -0.062194716185331345,
          -0.07110583782196045,
          -0.016400635242462158,
          0.04995376244187355,
          -0.05586419254541397,
          0.02542066015303135,
          0.00292027834802866,
          -0.0375816747546196,
          0.0542600192129612,
          0.051361843943595886,
          -0.03421446681022644,
          -0.15387795865535736,
          -0.11615774780511856,
          -0.18094037473201752,
          0.04026335850358009,
          0.022622570395469666,
          0.20318397879600525,
          -0.03954903781414032,
          -0.02426767349243164,
          0.19433295726776123,
          -0.07759616523981094,
          -0.11168696731328964,
          -0.11170730739831924,
          -0.08533943444490433,
          -0.1480177640914917,
          -0.11278004199266434,
          0.18598832190036774,
          -0.010332432575523853,
          0.01610409840941429,
          0.030517453327775,
          -0.025215351954102516,
          -0.09770165383815765,
          0.317445307970047,
          0.18934409320354462,
          0.024624524638056755,
          0.04628140106797218,
          -0.10955507308244705,
          -0.41116857528686523,
          0.18537653982639313,
          0.1280917227268219,
          0.13792935013771057,
          0.03927909582853317,
          0.09022529423236847,
          0.15678949654102325,
          0.06135629117488861,
          -0.009193114936351776,
          0.2657601833343506,
          -0.003624451346695423,
          0.020359665155410767,
          0.189300999045372,
          -0.02881869673728943,
          -0.1520567685365677,
          0.21228428184986115,
          -0.06764186918735504,
          -0.08403103053569794,
          -0.19071482121944427,
          0.02696715109050274,
          0.06442861258983612,
          0.07332558184862137,
          0.1093086302280426,
          0.08273131400346756,
          0.04502377286553383,
          -0.1566736400127411,
          -0.08045677840709686,
          0.11919012665748596,
          0.3051198422908783,
          -0.03528418391942978,
          0.07501591742038727,
          -0.012930325232446194,
          0.0475337952375412,
          0.08556170761585236,
          -0.009850060567259789,
          -0.03752821311354637,
          -0.05794186517596245,
          -0.032878659665584564,
          -0.3817405700683594,
          -0.11174114048480988,
          -0.07127711921930313,
          -0.009571028873324394,
          0.10019475221633911,
          0.017963562160730362,
          -0.04730832576751709,
          -0.19214574992656708,
          0.019396910443902016,
          0.005598842166364193,
          -0.05779904127120972,
          -0.0610833615064621,
          -0.0778501033782959,
          0.09258521348237991,
          0.15760084986686707,
          0.20841743052005768,
          0.17981770634651184,
          -0.0931229442358017,
          -0.07936815917491913,
          -0.117352694272995,
          0.05177488923072815,
          -0.10953845083713531,
          0.00967463105916977,
          -0.08941652625799179,
          0.04707725718617439,
          -0.004398187156766653,
          0.11871765553951263,
          -0.14624075591564178,
          -0.17290857434272766,
          -0.05544779449701309,
          0.06427980214357376,
          -0.013434505090117455,
          0.2100593000650406,
          0.031161079183220863,
          -0.10912219434976578,
          0.03574126213788986,
          -0.24465566873550415,
          -0.005878481548279524,
          0.1630299985408783,
          -0.08482683449983597,
          0.11464063823223114,
          0.07423447072505951,
          -0.04494434595108032,
          -0.06915338337421417,
          0.15831057727336884,
          -0.1775752604007721,
          0.03903188556432724,
          0.029801035299897194,
          -0.038515783846378326,
          0.21477100253105164,
          0.12473123520612717,
          -0.001911012688651681,
          -0.060235150158405304,
          0.11402782052755356,
          0.027499305084347725,
          -0.04982854053378105,
          -0.0647510290145874,
          -0.06973611563444138,
          -0.07641223073005676,
          -0.07297216355800629,
          0.11420783400535583,
          -0.0405825600028038,
          0.08437581360340118,
          0.06574403494596481,
          -0.09329814463853836,
          -0.05536968261003494,
          0.052412744611501694,
          -0.03972579538822174,
          -0.1630508154630661,
          -0.2171003520488739,
          -0.10249453037977219,
          -0.033931978046894073,
          0.1330183446407318,
          -0.17874468863010406,
          -0.09861145913600922,
          -0.06472380459308624,
          -0.06686832010746002,
          -0.03206203877925873,
          0.22581571340560913,
          -0.15380863845348358,
          0.18021832406520844,
          0.07021461427211761,
          0.019462166354060173,
          0.007969853468239307,
          0.01966124027967453,
          -0.15735891461372375,
          -0.06879261136054993,
          -0.09394441545009613,
          -0.028829187154769897,
          -0.053696054965257645,
          -0.16218192875385284,
          0.14316634833812714,
          0.04249204695224762,
          -0.13141627609729767,
          -0.10459741950035095,
          -0.0339479073882103,
          -0.06122208014130592,
          -0.22840866446495056,
          0.1329985409975052,
          0.025282790884375572,
          0.06524387747049332,
          0.12397293746471405,
          -0.05709579586982727,
          0.007545826956629753,
          -0.1213180348277092,
          -0.17153805494308472,
          -0.17004981637001038,
          0.10271944105625153,
          -0.12883782386779785,
          0.16426074504852295,
          0.00003132187339360826,
          -0.013622774742543697,
          -0.1588941216468811,
          -0.21183745563030243,
          0.10466443002223969,
          -0.0891534760594368,
          0.3375071585178375,
          0.17734085023403168,
          -0.005208080168813467,
          0.13360370695590973,
          -0.02312365360558033,
          -0.07374861091375351,
          -0.19716545939445496,
          0.14529383182525635,
          -0.11787751317024231,
          0.03957976773381233,
          0.11768835037946701,
          0.18059149384498596,
          -0.10505139082670212,
          0.10484136641025543,
          -0.009063221514225006,
          -0.10230525583028793,
          -0.007416540756821632,
          -0.19866053760051727,
          0.17712506651878357,
          0.014621051028370857,
          -0.08646447211503983,
          -0.08286602050065994,
          0.1969650536775589,
          0.04790297523140907,
          0.010276793502271175,
          -0.13711890578269958,
          -0.09127279371023178,
          0.02683980017900467,
          -0.20266668498516083,
          0.15085110068321228,
          0.15177738666534424,
          -0.10967544466257095,
          0.1635923683643341,
          -0.27691197395324707,
          -0.2901211082935333,
          -0.020805589854717255,
          -0.017315106466412544,
          -0.004275890998542309,
          0.11766120791435242,
          0.05481696128845215,
          0.16440477967262268,
          -0.055845558643341064,
          0.20917363464832306,
          0.1528550386428833,
          0.049715641885995865,
          0.1654202938079834,
          0.12279891222715378,
          0.34875351190567017,
          0.1307946741580963,
          0.028021806851029396,
          0.07517368346452713,
          0.12355581670999527,
          0.014824076555669308,
          -0.0018480640137568116,
          0.10839575529098511,
          0.14183373749256134,
          -0.03439536690711975,
          -0.048022959381341934,
          -0.02027437649667263,
          0.04812604561448097,
          -0.0880395919084549,
          -0.07364930957555771,
          0.3272416591644287,
          0.09166772663593292,
          0.22989656031131744,
          0.13012997806072235,
          -0.29909130930900574,
          -0.05813341215252876,
          0.029105018824338913,
          0.021413084119558334,
          -0.008665566332638264,
          0.13994473218917847,
          -0.01757766865193844,
          0.04382886365056038,
          -0.09316316246986389,
          -0.08655913174152374,
          0.09224487096071243,
          -0.12290620803833008,
          -0.23125511407852173,
          0.18030580878257751,
          -0.048009734600782394,
          -0.008468318730592728,
          0.06068995222449303,
          0.12468159198760986,
          0.05530788376927376,
          0.04064347594976425,
          0.12025707960128784,
          0.028354531154036522,
          -0.038635000586509705,
          0.09450244158506393,
          -0.13441689312458038,
          0.09904885292053223,
          0.27674949169158936,
          -0.09115002304315567,
          -0.11192118376493454,
          -0.005356732290238142,
          -0.2210918515920639,
          -0.07423999905586243,
          -0.08365948498249054,
          0.01585458777844906,
          0.03586414456367493,
          -0.008794575929641724,
          -0.25080278515815735,
          0.0632944330573082,
          -0.1491381824016571,
          0.06373868137598038,
          0.03656069189310074,
          -0.22322136163711548,
          -0.017300324514508247,
          0.09637413918972015,
          0.32675686478614807,
          0.049101572483778,
          -0.14668184518814087,
          0.2349604070186615,
          -0.006352127064019442,
          -0.007217637728899717,
          0.029589800164103508,
          -0.02591443993151188,
          -0.09882346540689468,
          0.1229124441742897,
          0.13623540103435516,
          0.08267191797494888,
          -0.026250485330820084,
          -0.04754016920924187,
          0.040176596492528915,
          -0.18061764538288116,
          0.11611330509185791,
          0.029866253957152367,
          -0.02584848180413246,
          -0.04868075251579285,
          0.07802111655473709,
          0.05591542646288872,
          -0.03183771297335625,
          0.053837236016988754,
          -0.10190605372190475,
          -0.27022606134414673,
          -0.18448598682880402,
          -0.0830228254199028,
          0.3261391222476959,
          -0.18772345781326294,
          0.15635181963443756,
          0.06139218434691429,
          0.07597020268440247,
          0.00389684340916574,
          0.10179514437913895,
          0.29348886013031006,
          0.04404061287641525,
          0.08336415886878967,
          -0.03189806640148163,
          0.0018293187022209167,
          -0.12828052043914795,
          0.03536331281065941,
          0.1237591877579689,
          0.08488848060369492,
          -0.18161159753799438,
          -0.13459660112857819,
          0.13957518339157104,
          0.12446936964988708,
          0.05142826586961746,
          0.1781291365623474,
          0.01261900831013918,
          0.048133254051208496,
          0.11346641182899475,
          -0.05848843976855278,
          -0.0007308348431251943,
          0.043850257992744446,
          0.04064835235476494,
          -0.03516362980008125,
          -0.1345480978488922,
          -0.13887329399585724,
          0.02876984514296055,
          -0.0013258412946015596,
          0.06116386875510216,
          0.07768792659044266,
          0.005821162834763527,
          -0.16109421849250793,
          -0.0762898400425911,
          0.01542825810611248,
          0.25322073698043823,
          0.007184488698840141,
          -0.07612092792987823,
          -0.0036935231182724237,
          -0.06501046568155289,
          -0.01433316245675087,
          0.17989933490753174,
          0.06101540848612785,
          -0.04282796010375023,
          0.0967833548784256,
          -0.2353665679693222,
          -0.0972406268119812,
          0.16035179793834686,
          0.02534927800297737,
          0.02534927800297737,
          0.02534927800297737,
          -0.1343332678079605,
          0.07737136632204056,
          0.07526323944330215,
          -0.23863165080547333,
          0.06964955478906631,
          -0.1558125764131546,
          0.003696511499583721,
          -0.07781368494033813,
          -0.00786915048956871,
          0.007656615227460861,
          0.022283559665083885,
          -0.021694526076316833,
          -0.10548201203346252,
          0.05472315102815628,
          0.07405861467123032,
          0.535409688949585,
          -0.09808728098869324,
          0.17586325109004974,
          -0.01216681208461523,
          -0.12334227561950684,
          0.14095811545848846,
          0.11365599930286407,
          -0.09887446463108063,
          -0.01342372503131628,
          -0.0753963440656662,
          0.02051488310098648,
          -0.0546543262898922,
          -0.048558689653873444,
          0.041167810559272766,
          -0.2161627858877182,
          -0.21424052119255066,
          -0.4840576648712158,
          -0.1108802929520607,
          0.09791812300682068,
          -0.15825654566287994,
          -0.2010696530342102,
          0.10085539519786835,
          -0.13669836521148682,
          -0.10885562747716904,
          -0.05157018452882767,
          -0.007848121225833893,
          0.0035866403486579657,
          -0.14561668038368225,
          -0.09776731580495834,
          -0.21275493502616882,
          0.1395610272884369,
          0.15821009874343872,
          -0.20592738687992096,
          -0.14138175547122955,
          0.04733272269368172,
          0.15313899517059326,
          0.17732834815979004,
          0.08511918038129807,
          0.10129792243242264,
          -0.16966022551059723,
          -0.07424255460500717,
          0.05960892513394356,
          -0.06605280935764313,
          0.04150065779685974,
          0.20953315496444702,
          -0.05788317695260048,
          0.03055291622877121,
          -0.06026404723525047,
          -0.06883157789707184,
          -0.04073631763458252,
          -0.05869446322321892,
          0.1689455211162567,
          0.22824448347091675,
          0.08153270930051804,
          0.0545114241540432,
          0.07089699804782867,
          -0.26975199580192566,
          -0.12780620157718658,
          -0.11263903230428696,
          0.06968054920434952,
          0.11236453801393509,
          0.1664406806230545,
          -0.2855070233345032,
          -0.13091641664505005,
          -0.10300242900848389,
          0.09126744419336319,
          0.07380323112010956,
          0.15111948549747467,
          0.17057937383651733,
          -0.01379312202334404,
          -0.02236463874578476,
          0.1483028382062912,
          0.08776535093784332,
          0.03336575627326965,
          0.08005230128765106,
          -0.12040787190198898,
          0.03444961830973625,
          0.11086668074131012,
          0.12771056592464447,
          0.0013078697957098484,
          0.006221436429768801,
          0.1008017510175705,
          -0.15603755414485931,
          0.06572341173887253,
          -0.14187483489513397,
          -0.15337152779102325,
          0.2507290542125702,
          0.13760842382907867,
          -0.10383595526218414,
          -0.1477089524269104,
          0.0753953605890274,
          -0.29236286878585815,
          0.0768149122595787,
          0.056177351623773575,
          0.011396430432796478,
          -0.013707185164093971,
          -0.2493031769990921,
          0.23102568089962006,
          0.020034290850162506,
          0.02062201499938965,
          -0.03313648700714111,
          0.1276005059480667,
          -0.13469646871089935,
          0.13473224639892578,
          0.13971921801567078,
          0.22193516790866852,
          -0.05263723433017731,
          -0.11129143834114075,
          0.22444307804107666,
          0.1505833864212036,
          -0.02599039115011692,
          -0.16882675886154175,
          -0.07736224681138992,
          0.05202939361333847,
          -0.014347661286592484,
          -0.0734773799777031,
          -0.01124494057148695,
          -0.03594926744699478,
          -0.09131485968828201,
          -0.08076401054859161,
          0.08473754674196243,
          0.1829850673675537,
          -0.18351152539253235,
          0.02422907203435898,
          -0.15058617293834686,
          0.04386277496814728,
          0.07930822670459747,
          -0.10207124054431915,
          0.012590364553034306,
          -0.12319829314947128,
          -0.01243719644844532,
          0.13432326912879944,
          0.26320183277130127,
          -0.05025162920355797,
          -0.1449829787015915,
          -0.13640451431274414,
          0.011340437456965446,
          0.07333793491125107,
          0.14449703693389893,
          0.07158323377370834,
          0.1036270409822464,
          -0.21660128235816956,
          -0.052473101764917374,
          -0.005149241536855698,
          0.17151251435279846,
          -0.10725228488445282,
          0.04171445593237877,
          0.12587396800518036,
          0.046171318739652634,
          -0.003161904402077198,
          -0.1874307543039322,
          -0.08380186557769775,
          0.03220006078481674,
          0.16947674751281738,
          0.08565891534090042,
          -0.05712563171982765,
          0.13220660388469696,
          -0.018519781529903412,
          0.089594267308712,
          -0.2253040075302124,
          -0.09837667644023895,
          0.12017498165369034,
          0.022206854075193405,
          -0.025233516469597816,
          0.0685010775923729,
          0.0630190521478653,
          -0.2501404881477356,
          0.10413365811109543,
          0.1007130965590477,
          -0.0041379439644515514,
          -0.06542057543992996,
          0.09629794210195541,
          0.021241480484604836,
          0.017843428999185562,
          -0.00449218088760972,
          0.017616037279367447,
          -0.03384120762348175,
          0.16708014905452728,
          -0.017476078122854233,
          0.019747672602534294,
          0.15339252352714539,
          0.21277904510498047,
          -0.07822810113430023,
          -0.040522538125514984,
          0.028527406975626945,
          -0.014980478212237358,
          0.16175973415374756,
          -0.14264103770256042,
          0.18284226953983307,
          -0.005098629742860794,
          0.02362961880862713,
          -0.037365738302469254,
          0.14662867784500122,
          0.14139419794082642,
          0.02654184028506279,
          0.041563764214515686,
          -0.058771662414073944,
          0.03525984287261963,
          0.3467138409614563,
          0.06477511674165726,
          -0.07778137922286987,
          0.125829815864563,
          -0.13561680912971497,
          0.1356760710477829,
          -0.0650457963347435,
          -0.03202160820364952,
          -0.0575672872364521,
          0.26154792308807373,
          0.010003150440752506,
          0.1970202773809433,
          -0.2675171196460724,
          -0.056713249534368515,
          0.054675184190273285,
          -0.025140009820461273,
          -0.004222319461405277,
          0.030204959213733673,
          -0.12198400497436523,
          -0.1446138173341751,
          -0.10315155237913132,
          0.20432081818580627,
          0.024417025968432426,
          0.0750378966331482,
          -0.07081439346075058,
          -0.11287795007228851,
          0.08322882652282715,
          0.18489202857017517,
          0.111076220870018,
          0.03848349675536156,
          -0.0763193741440773,
          0.030269427224993706,
          -0.06315696984529495,
          -0.06970340758562088,
          -0.1249513253569603,
          0.038660358637571335,
          0.0815456286072731,
          0.14496639370918274,
          -0.015200524590909481,
          -0.17113041877746582,
          0.09693431854248047,
          0.23646210134029388,
          0.020632581785321236,
          -0.02598031796514988,
          0.264539510011673,
          0.2600851058959961,
          -0.04628659784793854,
          0.035342585295438766,
          -0.18473146855831146,
          0.1222824826836586,
          0.06931834667921066,
          -0.06970340758562088,
          0.15041643381118774,
          -0.22076861560344696,
          0.11092482507228851,
          -0.090651735663414,
          0.06244010850787163,
          0.14003963768482208,
          0.029039522632956505,
          -0.1254381537437439,
          -0.06707264482975006,
          0.01410595327615738,
          -0.04668409749865532,
          -0.09688016027212143,
          -0.026015030220150948,
          0.009586246684193611,
          -0.032229021191596985,
          0.036832038313150406,
          -0.20401336252689362,
          0.0813666358590126,
          -0.10476063191890717,
          -0.022354213520884514,
          -0.21241751313209534,
          -0.021615080535411835,
          0.04552941769361496,
          0.12405223399400711,
          0.06942544877529144,
          -0.16625642776489258,
          -0.1330689787864685,
          0.2464035153388977,
          -0.08532336354255676,
          0.11963151395320892,
          0.058052223175764084,
          -0.02371077984571457,
          -0.028246425092220306,
          -0.11727859824895859,
          -0.09028647840023041,
          0.028846699744462967,
          0.14527849853038788,
          0.10253491252660751,
          -0.2681083083152771,
          -0.0793546587228775,
          0.21902287006378174,
          -0.02321084588766098,
          -0.12419204413890839,
          0.19667492806911469,
          -0.048064831644296646,
          0.17721012234687805,
          -0.16100279986858368,
          0.1725917011499405,
          -0.1567784547805786,
          -0.20097923278808594,
          -0.2015247344970703,
          -0.041316643357276917,
          -0.17183341085910797,
          0.05181253328919411,
          0.0205770805478096,
          0.030479999259114265,
          0.14087004959583282,
          -0.07029763609170914,
          0.0996653139591217,
          -0.14153213798999786,
          -0.09044977277517319,
          -0.08305265009403229,
          -0.18698199093341827,
          -0.0021992709953337908,
          -0.11373394727706909,
          0.11644977331161499,
          -0.1660977452993393,
          -0.04990198090672493,
          -0.08893419802188873,
          0.016416139900684357,
          -0.13173134624958038,
          0.18973469734191895,
          -0.011343924328684807,
          -0.024411676451563835,
          -0.06463097035884857,
          -0.2451058328151703,
          -0.08706286549568176,
          -0.07875017821788788,
          -0.15780460834503174,
          -0.11453939229249954,
          0.03224796801805496,
          0.005780226085335016,
          -0.39984527230262756,
          -0.04883313179016113,
          -0.10045858472585678,
          -0.2980186939239502,
          0.11134198307991028,
          0.08708184212446213,
          -0.10766497254371643,
          -0.020080573856830597,
          0.07218100875616074,
          -0.008535974659025669,
          -0.05482124909758568,
          0.11339619010686874,
          0.08421657979488373,
          -0.19144970178604126,
          0.13531257212162018,
          0.04685712233185768,
          -0.07035362720489502,
          0.12597931921482086,
          -0.3496191203594208,
          -0.11030543595552444,
          -0.05245087295770645,
          -0.11700177937746048,
          0.056565187871456146,
          -0.1542353630065918,
          -0.09632886946201324,
          -0.03736940771341324,
          -0.03440099209547043,
          -0.11981236934661865,
          -0.05726749077439308,
          0.17513467371463776,
          -0.06730235368013382,
          0.09637457877397537,
          0.07598213851451874,
          0.021393923088908195,
          -0.06850994378328323,
          0.016618510708212852,
          -0.07161317020654678,
          0.03111317753791809,
          -0.050789084285497665,
          0.05129930377006531,
          0.09196434170007706,
          0.14338329434394836,
          0.2165648192167282,
          0.011670715175569057,
          0.011670715175569057,
          0.06466497480869293,
          0.06466497480869293,
          -0.049277521669864655,
          -0.049277521669864655,
          -0.18867731094360352,
          -0.18867731094360352,
          0.0684623047709465,
          0.0684623047709465,
          0.0032069010194391012,
          0.0032069010194391012,
          0.04257699102163315,
          0.04257699102163315,
          0.06762804090976715,
          0.06762804090976715,
          -0.29928359389305115,
          -0.29928359389305115,
          0.020424121990799904,
          0.02652995102107525,
          0.19209232926368713,
          0.19209232926368713,
          -0.19773854315280914,
          -0.19773854315280914,
          0.06554999202489853,
          0.06554999202489853,
          0.07094115018844604,
          0.07094115018844604,
          -0.3018858730792999,
          -0.3018858730792999,
          0.16246400773525238,
          0.06600809097290039,
          0.17878542840480804,
          0.03634519502520561,
          -0.2892826199531555,
          -0.02768808789551258,
          -0.0591593012213707,
          0.09128031134605408,
          -0.0009133330313488841,
          0.003910276107490063,
          0.03356566280126572,
          0.21052516996860504,
          0.27298080921173096,
          -0.24067795276641846,
          0.2636091113090515,
          0.2343589812517166,
          0.1364647001028061,
          0.0877474993467331,
          -0.20225270092487335,
          -0.2585836350917816,
          -0.07448482513427734,
          -0.22306551039218903,
          0.2203436940908432,
          -0.09490622580051422,
          0.10285113006830215,
          0.1533641517162323,
          0.07779453694820404,
          0.0673605352640152,
          0.16442202031612396,
          -0.14794166386127472,
          -0.1421101838350296,
          -0.21495698392391205,
          -0.04412434250116348,
          0.004552050027996302,
          0.10506982356309891,
          0.0953793078660965,
          -0.071975938975811,
          -0.11192671954631805,
          0.18641337752342224,
          -0.03639467805624008,
          -0.20013932883739471,
          -0.23304533958435059,
          -0.054320577532052994,
          0.04045083746314049,
          0.07019400596618652,
          0.027462398633360863,
          0.014228064566850662,
          0.13882872462272644,
          -0.023892277851700783,
          0.03639020025730133,
          -0.024578183889389038,
          -0.04854242503643036,
          0.05331962928175926,
          -0.10440415143966675,
          0.35456132888793945,
          -0.10106141120195389,
          -0.03428826108574867,
          0.13433030247688293,
          0.14429718255996704,
          0.2839110493659973,
          0.19624611735343933,
          0.24758470058441162,
          0.15138424932956696,
          -0.2580587565898895,
          0.1416640728712082,
          0.21203650534152985,
          0.13256146013736725,
          -0.006621507927775383,
          0.095614954829216,
          -0.020572997629642487,
          -0.1461498886346817,
          -0.15377451479434967,
          -0.04792654514312744,
          0.01132520567625761,
          0.10351154953241348,
          -0.050070684403181076,
          0.2659118175506592,
          0.2889024615287781,
          0.11369946599006653,
          0.10856553167104721,
          0.11786135286092758,
          -0.07704419642686844,
          -0.09089510887861252,
          0.10140455514192581,
          0.00391880189999938,
          -0.19782967865467072,
          0.07111011445522308,
          -0.06139426678419113,
          -0.10394461452960968,
          -0.13406714797019958,
          -0.030941888689994812,
          -0.08286967128515244,
          -0.23048877716064453,
          0.20921169221401215,
          -0.06490171700716019,
          0.1164303869009018,
          -0.04962695389986038,
          -0.018983377143740654,
          0.17202551662921906,
          0.20790456235408783,
          -0.019451409578323364,
          0.10573096573352814,
          -0.06334700435400009,
          -0.007046510931104422,
          -0.008349952287971973,
          -0.007996256463229656,
          -0.05107280611991882,
          0.2114395648241043,
          -0.009863749146461487,
          0.10231631994247437,
          -0.02309620939195156,
          -0.06660401076078415,
          0.07834416627883911,
          -0.06388401240110397,
          -0.054599829018116,
          -0.19177614152431488,
          0.09706933796405792,
          0.17832709848880768,
          0.2644334137439728,
          0.052495136857032776,
          0.13005223870277405,
          -0.15749947726726532,
          0.11046625673770905,
          -0.010384867899119854,
          0.1179174929857254,
          -0.11994794756174088,
          -0.09106368571519852,
          -0.22065749764442444,
          -0.10799845308065414,
          -0.13994377851486206,
          -0.1735667884349823,
          0.10771568864583969,
          -0.09515002369880676,
          0.10887972265481949,
          0.10905983299016953,
          0.0020705759525299072,
          0.13222528994083405,
          -0.02767108380794525,
          0.17703260481357574,
          0.1219964399933815,
          0.336622416973114,
          -0.053060293197631836,
          0.09763159602880478,
          0.08984195441007614,
          -0.08156538754701614,
          0.013856512494385242,
          0.2350907027721405,
          -0.272705078125,
          -0.03164075314998627,
          -0.10741712152957916,
          0.06323696672916412,
          -0.29297998547554016,
          0.05730881169438362,
          0.027337873354554176,
          -0.17405982315540314,
          -0.32254558801651,
          -0.1677098572254181,
          0.20631100237369537,
          -0.05721568316221237,
          -0.1049470603466034,
          0.17804758250713348,
          0.21480776369571686,
          -0.05198457092046738,
          0.15718449652194977,
          -0.1469980627298355,
          -0.020227784290909767,
          -0.09734008461236954,
          0.13488757610321045,
          -0.1484389454126358,
          0.23926813900470734,
          -0.36681172251701355,
          -0.17324618995189667,
          0.019645947962999344,
          0.17644593119621277,
          -0.1605566442012787,
          0.16566558182239532,
          -0.42411208152770996,
          -0.07143630087375641,
          0.11184366792440414,
          -0.1551632583141327,
          -0.006135737523436546,
          -0.14581255614757538,
          -0.12635155022144318,
          -0.032895494252443314,
          -0.09758864343166351,
          -0.02575862407684326,
          -0.12055284529924393,
          0.03226068988442421,
          -0.09311657398939133,
          -0.1400330364704132,
          -0.10328643769025803,
          0.0223420150578022,
          0.04105347394943237,
          -0.03232210502028465,
          0.09695471078157425,
          -0.0914287194609642,
          0.06257621943950653,
          -0.0005438929656520486,
          0.08627688139677048,
          -0.01661672815680504,
          -0.5309492945671082,
          -0.027649572119116783,
          0.049915049225091934,
          0.11036811023950577,
          0.3270820081233978,
          0.21921004354953766,
          -0.052781347185373306,
          -0.11496495455503464,
          0.022893691435456276,
          -0.04298396781086922,
          -0.09566126018762589,
          -0.10567958652973175,
          0.1274031102657318,
          -0.05399881303310394,
          0.012200909666717052,
          0.16191138327121735,
          0.028415704146027565,
          -0.15002432465553284,
          -0.0615774542093277,
          -0.18680816888809204,
          -0.23499669134616852,
          -0.21586628258228302,
          -0.2783184051513672,
          0.03720156103372574,
          -0.15836980938911438,
          -0.01619001291692257,
          -0.1082070916891098,
          0.2308318316936493,
          0.002254850696772337,
          0.18877768516540527,
          -0.019621554762125015,
          0.09839777648448944,
          0.03878178820014,
          0.03285852074623108,
          0.22814875841140747,
          0.18553227186203003,
          0.019365938380360603,
          -0.14627142250537872,
          0.04672420397400856,
          -0.09346294403076172,
          0.01913769543170929,
          -0.0704406201839447,
          0.026241688057780266,
          0.0020702448673546314,
          -0.14634931087493896,
          0.06574996560811996,
          0.11464434862136841,
          -0.026496928185224533,
          0.06902552396059036,
          -0.040548745542764664,
          -0.324766606092453,
          -0.04256799444556236,
          -0.24515733122825623,
          -0.012342358939349651,
          -0.01586417481303215,
          -0.029186876490712166,
          0.17905747890472412,
          -0.07796395570039749,
          0.04666808620095253,
          -0.08333391696214676,
          0.05770514905452728,
          0.02396644651889801,
          0.1001773402094841,
          -0.22858108580112457,
          0.06307061016559601,
          -0.08595886081457138,
          0.043103184551000595,
          0.051019810140132904,
          -0.15421193838119507,
          0.19275467097759247,
          0.1677924245595932,
          -0.1334117203950882,
          0.09510737657546997,
          -0.10176372528076172,
          0.3070744574069977,
          0.08705258369445801,
          0.11646076291799545,
          -0.09144187718629837,
          0.10390236228704453,
          -0.15088243782520294,
          -0.06850574910640717,
          0.16245289146900177,
          -0.13211773335933685,
          0.1783486157655716,
          0.1108429878950119,
          0.05932081863284111,
          -0.04344240203499794,
          -0.07307559996843338,
          0.06211606413125992,
          -0.30580756068229675,
          -0.18176503479480743,
          -0.15870128571987152,
          -0.13059471547603607,
          -0.16863787174224854,
          -0.11993833631277084,
          -0.19659855961799622,
          -0.06668686121702194,
          -0.06205799803137779,
          0.010354233905673027,
          0.12194892764091492,
          0.05086209625005722,
          -0.037658993154764175,
          -0.1584191769361496,
          0.0828453004360199,
          -0.35343247652053833,
          -0.1856372207403183,
          -0.22342248260974884,
          -0.027968375012278557,
          -0.21485808491706848,
          -0.08499401062726974,
          -0.1335766315460205,
          -0.20785482227802277,
          0.012878099456429482,
          -0.042359571903944016,
          -0.1382533460855484,
          -0.01953139714896679,
          -0.20403610169887543,
          -0.0910213366150856,
          0.08756916970014572,
          0.016152091324329376,
          -0.21970605850219727,
          0.01183317881077528,
          -0.025866445153951645,
          0.03644410893321037,
          0.10484039038419724,
          0.08363188803195953,
          0.06739872694015503,
          -0.16250582039356232,
          0.10271914303302765,
          0.10320942103862762,
          0.07183881849050522,
          0.10468001663684845,
          -0.08773810416460037,
          -0.11433598399162292
         ]
        },
        {
         "hovertemplate": "label=mgood<br>pca_3D_comments_0=%{x}<br>pca_3D_comments_1=%{y}<br>pca_3D_comments_2=%{z}<extra></extra>",
         "legendgroup": "mgood",
         "marker": {
          "color": "#EF553B",
          "opacity": 0.5,
          "size": 2,
          "symbol": "circle"
         },
         "mode": "markers",
         "name": "mgood",
         "scene": "scene",
         "showlegend": true,
         "type": "scatter3d",
         "x": [
          0.21603192389011383,
          -0.05444493144750595,
          0.04051990061998367,
          0.03779607638716698,
          0.17676591873168945,
          0.23527970910072327,
          -0.1455906331539154,
          -0.009653908200562,
          0.10435041040182114,
          -0.09778867661952972,
          -0.2009027749300003,
          -0.24810686707496643,
          0.3069862723350525,
          0.04622041434049606,
          -0.0890151858329773,
          0.2870195806026459,
          0.1622009426355362,
          0.028107022866606712,
          0.16560320556163788,
          0.05821343883872032,
          0.1459628939628601,
          0.07171610742807388,
          0.0908064991235733,
          0.001850952161476016,
          -0.008153739385306835,
          0.05986547842621803,
          0.010040764696896076,
          -0.07838638871908188,
          -0.10670012980699539,
          0.284800261259079,
          0.057109229266643524,
          -0.0626344159245491,
          0.38123899698257446,
          -0.11753924936056137,
          -0.08328758925199509,
          0.14177626371383667,
          0.01476880069822073,
          -0.2361985743045807,
          -0.09313280135393143,
          -0.010033722966909409,
          0.07105594873428345,
          0.18867960572242737,
          -0.012188135646283627,
          -0.0967579036951065,
          0.026218080893158913,
          -0.1163921132683754,
          0.07311221957206726,
          -0.07698194682598114,
          -0.13123184442520142,
          -0.23605728149414062,
          0.08918138593435287,
          0.09183776378631592,
          0.29965418577194214,
          0.12902145087718964,
          -0.028193078935146332,
          0.07351720333099365,
          0.1035173311829567,
          0.21599695086479187,
          0.007163948379456997,
          0.1421046406030655,
          0.02566489577293396,
          0.04102759435772896,
          -0.03177253529429436,
          0.13110458850860596,
          0.15414787828922272,
          -0.21848078072071075,
          -0.026896357536315918,
          0.01982838474214077,
          -0.22008787095546722,
          -0.11247027665376663,
          0.11365412175655365,
          -0.056428369134664536,
          -0.056428369134664536,
          -0.07432295382022858,
          0.09969549626111984,
          0.05141303315758705,
          -0.11484476178884506,
          0.07444740831851959,
          0.2602153718471527,
          -0.059615232050418854,
          0.15184640884399414,
          0.21783936023712158,
          -0.2304699569940567,
          -0.007123775314539671,
          -0.0032425401732325554,
          0.2248508185148239,
          -0.12965375185012817,
          -0.03803059458732605,
          0.04502314701676369,
          0.08976197242736816,
          -0.13351009786128998,
          0.017987044528126717,
          0.08261755853891373,
          -0.004438820760697126,
          0.05619940534234047,
          -0.039295684546232224,
          0.07996688038110733,
          -0.010878563858568668,
          0.03131278604269028,
          0.1062951609492302,
          0.1062951609492302,
          -0.12270829826593399,
          -0.12270829826593399,
          0.11640485376119614,
          0.09799931943416595,
          0.1198229044675827
         ],
         "y": [
          0.11426380276679993,
          0.153092622756958,
          0.034162867814302444,
          0.10044293850660324,
          0.11286413669586182,
          -0.013169766403734684,
          -0.14453519880771637,
          -0.073317751288414,
          -0.13830246031284332,
          -0.15951354801654816,
          0.0371171236038208,
          0.20909632742404938,
          0.17322663962841034,
          -0.013580272905528545,
          0.05618555471301079,
          0.1290350705385208,
          -0.06625612825155258,
          0.026821445673704147,
          0.036692142486572266,
          -0.054196812212467194,
          0.042715709656476974,
          -0.04820164665579796,
          -0.12222272157669067,
          -0.05473642796278,
          0.070177361369133,
          -0.18818248808383942,
          0.09625087678432465,
          0.022458871826529503,
          -0.3607231378555298,
          0.07965809851884842,
          -0.1888318657875061,
          0.02021954581141472,
          -0.028816042467951775,
          0.1297617107629776,
          -0.03061993420124054,
          -0.10036498308181763,
          -0.16851601004600525,
          -0.013022491708397865,
          -0.05775939300656319,
          0.23039022088050842,
          -0.038204126060009,
          0.012165339663624763,
          0.07370083779096603,
          0.09984893351793289,
          -0.04480621963739395,
          -0.25289684534072876,
          -0.16061383485794067,
          -0.2334071844816208,
          0.05900883302092552,
          0.23886243999004364,
          -0.12615002691745758,
          0.008632658049464226,
          0.12416129559278488,
          -0.09584086388349533,
          0.0006861520232632756,
          0.12550707161426544,
          -0.035459645092487335,
          0.09396043419837952,
          0.015215425752103329,
          -0.2423541396856308,
          -0.12166503071784973,
          -0.015629678964614868,
          -0.16047360002994537,
          -0.05639109015464783,
          -0.14743146300315857,
          -0.21965919435024261,
          -0.08712984621524811,
          -0.1352655589580536,
          -0.3407290577888489,
          -0.011707087978720665,
          0.020028693601489067,
          0.12203378230333328,
          0.12203378230333328,
          0.16213655471801758,
          -0.09702017158269882,
          0.040542662143707275,
          -0.14013713598251343,
          -0.1572338193655014,
          -0.00029374012956395745,
          -0.08915994316339493,
          -0.2571331858634949,
          -0.04526485875248909,
          -0.02140500582754612,
          -0.033318981528282166,
          -0.06957405060529709,
          -0.09340231865644455,
          -0.13270872831344604,
          -0.01393878273665905,
          -0.23848450183868408,
          -0.04464452341198921,
          -0.05332866311073303,
          0.20105718076229095,
          0.011913361959159374,
          -0.11650091409683228,
          -0.07840342074632645,
          0.06090543791651726,
          -0.1245664432644844,
          0.13918547332286835,
          0.012432904914021492,
          0.03620517998933792,
          0.03620517998933792,
          0.02424490824341774,
          0.02424490824341774,
          -0.03757427632808685,
          -0.18817009031772614,
          0.08377021551132202
         ],
         "z": [
          -0.09181783348321915,
          0.19321589171886444,
          -0.18564918637275696,
          -0.008078107610344887,
          -0.09339508414268494,
          -0.007477186620235443,
          0.04987702891230583,
          -0.020164955407381058,
          0.03242575004696846,
          0.29020580649375916,
          -0.12463349848985672,
          0.007222742307931185,
          0.021693628281354904,
          0.15763309597969055,
          0.03833449259400368,
          0.09215943515300751,
          0.04124043881893158,
          -0.06843665987253189,
          -0.009072420187294483,
          -0.09078830480575562,
          0.0380062572658062,
          0.2429901361465454,
          0.03759830445051193,
          -0.15871956944465637,
          0.17507682740688324,
          -0.016490431502461433,
          0.0861632376909256,
          -0.020142482593655586,
          0.07282936573028564,
          -0.13157370686531067,
          0.1394897699356079,
          -0.004730910994112492,
          0.11807575076818466,
          -0.01692582480609417,
          -0.381784051656723,
          -0.005233095958828926,
          -0.021052885800600052,
          0.18586593866348267,
          -0.031089983880519867,
          0.0703074038028717,
          -0.1196814551949501,
          0.17594794929027557,
          -0.039398957043886185,
          0.027157137170433998,
          0.06656742095947266,
          0.06619414687156677,
          0.03965426981449127,
          -0.16294367611408234,
          -0.005406622774899006,
          0.04184877127408981,
          0.06133319437503815,
          -0.13927476108074188,
          -0.05617867782711983,
          -0.04830527678132057,
          0.05535633862018585,
          0.08229870349168777,
          0.13743261992931366,
          0.01076127216219902,
          0.1075979620218277,
          0.16849969327449799,
          -0.09649351239204407,
          0.004435287322849035,
          -0.08631540834903717,
          0.04671496897935867,
          -0.08682985603809357,
          -0.13887569308280945,
          -0.09150130301713943,
          0.15579771995544434,
          0.20124424993991852,
          0.039082564413547516,
          0.07833455502986908,
          0.04401172697544098,
          0.04401172697544098,
          0.17502562701702118,
          0.0943131372332573,
          0.09987173229455948,
          -0.044500626623630524,
          0.20099225640296936,
          -0.0703662857413292,
          0.0005059484974481165,
          0.14454112946987152,
          0.0020433785393834114,
          0.2072935551404953,
          -0.0613463930785656,
          -0.11159414798021317,
          -0.11715691536664963,
          0.13915172219276428,
          0.04449126124382019,
          0.029956543818116188,
          0.04163220524787903,
          -0.029636522755026817,
          0.07706187665462494,
          0.15717154741287231,
          0.020866060629487038,
          0.1379101425409317,
          0.04645465686917305,
          0.1956779509782791,
          0.020487921312451363,
          -0.0020163338631391525,
          -0.07140097767114639,
          -0.07140097767114639,
          0.18256132304668427,
          0.18256132304668427,
          0.20676305890083313,
          0.0752638727426529,
          0.03455853834748268
         ]
        },
        {
         "hovertemplate": "label=mbad<br>pca_3D_comments_0=%{x}<br>pca_3D_comments_1=%{y}<br>pca_3D_comments_2=%{z}<extra></extra>",
         "legendgroup": "mbad",
         "marker": {
          "color": "#00cc96",
          "opacity": 0.5,
          "size": 2,
          "symbol": "circle"
         },
         "mode": "markers",
         "name": "mbad",
         "scene": "scene",
         "showlegend": true,
         "type": "scatter3d",
         "x": [
          0.16862884163856506,
          0.13237619400024414,
          -0.11729688942432404,
          0.041840825229883194,
          0.2040344774723053,
          0.01953205280005932,
          0.30376267433166504,
          0.15215322375297546,
          0.2496519386768341,
          0.15640895068645477,
          0.16719409823417664,
          0.38658714294433594,
          0.2741575241088867,
          0.06546971201896667,
          0.13912691175937653,
          0.33559364080429077,
          -0.29901230335235596,
          0.2924516797065735,
          0.2253086268901825,
          0.06563243269920349,
          0.10944027453660965,
          0.1269530951976776,
          0.23713205754756927,
          0.09809178113937378,
          -0.051041774451732635,
          0.1905938684940338,
          0.0837390199303627,
          0.3037152886390686,
          0.10931460559368134,
          0.15327294170856476,
          0.20885050296783447,
          -0.13608737289905548,
          0.3213181495666504,
          -0.5046724081039429,
          0.2603691816329956,
          0.1523137390613556,
          0.2489394247531891,
          0.24967126548290253,
          0.053131043910980225,
          0.22828112542629242,
          0.19529563188552856,
          0.12401473522186279,
          0.24319617450237274,
          0.25857776403427124,
          0.0886547863483429,
          -0.108843132853508,
          0.3044215440750122,
          0.21862702071666718,
          0.032498933374881744,
          0.19047141075134277,
          0.1859128326177597,
          0.2583911418914795,
          0.25439444184303284,
          0.15910376608371735,
          0.28694963455200195,
          0.26328256726264954,
          0.10444845259189606,
          0.18414823710918427,
          0.19149301946163177,
          0.42512089014053345,
          0.05049395188689232,
          0.21154150366783142,
          0.23948781192302704,
          -0.0644274353981018,
          0.26001468300819397,
          0.15526346862316132,
          0.147797629237175,
          0.30814042687416077,
          0.3011583685874939,
          0.40636906027793884,
          0.34703904390335083,
          0.26996317505836487,
          0.30538514256477356,
          0.19536089897155762,
          0.10142268985509872,
          0.24084751307964325,
          0.3022767901420593,
          0.17031215131282806,
          0.21313752233982086,
          -0.03686597943305969,
          0.23734012246131897,
          0.19683627784252167,
          0.24256515502929688,
          0.15731929242610931,
          0.25380614399909973,
          0.21550050377845764,
          0.15413689613342285,
          0.255512535572052,
          0.17247575521469116,
          0.17558975517749786,
          0.20304962992668152,
          0.18803398311138153,
          0.316468209028244,
          0.21079812943935394,
          0.2740914225578308,
          0.06518786400556564,
          0.3061548173427582,
          0.3163456320762634,
          0.1841830015182495,
          0.31223154067993164,
          0.29711559414863586,
          0.2446785420179367,
          0.2713222801685333,
          0.11369882524013519,
          0.2795862555503845,
          0.35485705733299255,
          0.3197391927242279,
          0.18678885698318481,
          -0.0068076723255217075,
          0.18028296530246735,
          0.2996864914894104,
          0.15241745114326477,
          0.17742276191711426,
          0.06951922923326492,
          0.17537792026996613,
          0.17537792026996613,
          0.4508363604545593,
          0.3468315899372101,
          0.26130783557891846,
          0.1594848483800888,
          0.2958727777004242,
          0.18444417417049408,
          0.07613725960254669,
          0.12518498301506042
         ],
         "y": [
          0.01690925844013691,
          -0.045985713601112366,
          0.10249409824609756,
          -0.1647283434867859,
          0.08186313509941101,
          -0.0781351774930954,
          0.044850073754787445,
          -0.060206618160009384,
          -0.07888349890708923,
          0.07745233923196793,
          -0.25282901525497437,
          -0.06843005865812302,
          0.021082013845443726,
          -0.19733986258506775,
          -0.20025499165058136,
          0.07764077186584473,
          -0.05465118587017059,
          -0.021028514951467514,
          -0.10114371031522751,
          0.049814559519290924,
          -0.14978177845478058,
          0.016806453466415405,
          -0.046458158642053604,
          0.02229578047990799,
          -0.23884092271327972,
          -0.0989084467291832,
          -0.07719637453556061,
          -0.1871020346879959,
          0.06902001798152924,
          -0.18226225674152374,
          -0.07500050216913223,
          -0.39498159289360046,
          0.04816224426031113,
          -0.24200032651424408,
          -0.055059079080820084,
          0.08042594790458679,
          0.0894283577799797,
          -0.017566930502653122,
          0.05701654776930809,
          -0.01653021201491356,
          -0.05224042013287544,
          -0.09834057837724686,
          0.09685126692056656,
          -0.10785287618637085,
          0.05309326946735382,
          -0.15833427011966705,
          -0.0382702574133873,
          -0.04334728792309761,
          -0.024709874764084816,
          0.12523896992206573,
          -0.06420442461967468,
          -0.07639363408088684,
          0.04528691619634628,
          -0.27853965759277344,
          0.03628673404455185,
          0.08053909242153168,
          0.018429666757583618,
          -0.002089083893224597,
          -0.07646037638187408,
          -0.40462812781333923,
          -0.23369581997394562,
          -0.11851129680871964,
          -0.018026478588581085,
          0.04788733646273613,
          0.051637791097164154,
          -0.14316582679748535,
          0.0980687364935875,
          -0.020401321351528168,
          0.02200431004166603,
          -0.07874801754951477,
          -0.03063267469406128,
          -0.05281112715601921,
          -0.08274728804826736,
          -0.06857575476169586,
          -0.03285699337720871,
          -0.09754320979118347,
          -0.010711251758038998,
          -0.13269631564617157,
          0.05626964941620827,
          -0.09829460829496384,
          0.009793626144528389,
          -0.02121066488325596,
          0.06084741652011871,
          -0.005674500949680805,
          -0.22468715906143188,
          -0.04709751531481743,
          -0.05380294471979141,
          0.008676247671246529,
          -0.2299502193927765,
          0.12172868102788925,
          0.0280438419431448,
          -0.04774127155542374,
          0.010676412843167782,
          0.07190641015768051,
          -0.0382993258535862,
          -0.19648218154907227,
          0.1482359617948532,
          0.01412328239530325,
          -0.05340294539928436,
          -0.0046355039812624454,
          0.08572853356599808,
          0.012516346760094166,
          -0.032140061259269714,
          -0.10073834657669067,
          0.02938450686633587,
          0.00251754024066031,
          -0.027225548401474953,
          0.04784956946969032,
          -0.1492011398077011,
          0.05448560789227486,
          0.11246234178543091,
          -0.18908412754535675,
          0.05290553718805313,
          0.012287605553865433,
          -0.10134705901145935,
          -0.10134705901145935,
          -0.016886437311768532,
          -0.07382290810346603,
          0.21158108115196228,
          -0.07655037939548492,
          -0.09553797543048859,
          -0.008995948359370232,
          -0.031973641365766525,
          -0.030843188986182213
         ],
         "z": [
          -0.10928519070148468,
          0.014489026740193367,
          0.080954909324646,
          0.028568629175424576,
          -0.17959703505039215,
          -0.0713043361902237,
          0.007506655529141426,
          -0.04503946751356125,
          -0.003046398749575019,
          -0.025563867762684822,
          0.10784878581762314,
          0.11559300124645233,
          -0.11841518431901932,
          -0.030314942821860313,
          0.1007395088672638,
          0.04561355710029602,
          -0.026836812496185303,
          0.0401223823428154,
          0.02812127023935318,
          0.048115067183971405,
          0.10125613957643509,
          -0.04137809947133064,
          -0.06483013927936554,
          -0.260345995426178,
          0.07896609604358673,
          -0.01786516048014164,
          -0.08239942789077759,
          -0.00945963803678751,
          -0.05510615557432175,
          0.193728506565094,
          -0.04908331111073494,
          0.03786611557006836,
          -0.028715843334794044,
          0.019614972174167633,
          0.07068625092506409,
          -0.09856647253036499,
          0.020246250554919243,
          -0.022557126358151436,
          -0.03842298313975334,
          -0.08740375190973282,
          0.0782347321510315,
          -0.10124707221984863,
          0.025484122335910797,
          0.13607434928417206,
          0.14721909165382385,
          0.06292334198951721,
          0.04982290789484978,
          -0.14785820245742798,
          0.09126919507980347,
          0.13529369235038757,
          -0.01899666339159012,
          0.08357635885477066,
          0.015190904960036278,
          0.03644881024956703,
          -0.015615493059158325,
          0.019150378182530403,
          0.14232996106147766,
          0.15025503933429718,
          0.013260016217827797,
          0.4354296624660492,
          -0.13973098993301392,
          0.0709473192691803,
          -0.03593213111162186,
          0.06427030265331268,
          0.023381803184747696,
          0.05126366391777992,
          0.10710375010967255,
          -0.04883779585361481,
          -0.0716104581952095,
          0.15337954461574554,
          -0.03574908897280693,
          0.0710550993680954,
          -0.0119033083319664,
          -0.030682949349284172,
          -0.06560129672288895,
          0.10659042745828629,
          0.1266981065273285,
          0.10225223004817963,
          -0.07267490029335022,
          0.08920735120773315,
          -0.1852618157863617,
          0.10949546098709106,
          -0.0909506157040596,
          -0.16492803394794464,
          0.18182837963104248,
          0.0220815259963274,
          -0.14716796576976776,
          0.05391924828290939,
          0.046404190361499786,
          -0.08837692439556122,
          -0.06401869654655457,
          -0.006828424520790577,
          -0.010771406814455986,
          -0.10368701070547104,
          -0.07469424605369568,
          0.08114100992679596,
          -0.03885219618678093,
          0.030711501836776733,
          -0.03193679079413414,
          0.04965576156973839,
          -0.10924582183361053,
          -0.07874137908220291,
          -0.043923743069171906,
          0.09385903924703598,
          -0.043477628380060196,
          0.06510163843631744,
          0.18699152767658234,
          -0.0015091471141204238,
          0.1067955419421196,
          -0.07671868801116943,
          0.030517080798745155,
          -0.00195145676843822,
          -0.12284458428621292,
          -0.035780854523181915,
          -0.036216460168361664,
          -0.036216460168361664,
          0.19612285494804382,
          0.03983519971370697,
          -0.02209021896123886,
          0.09588645398616791,
          0.06592106819152832,
          -0.06533075124025345,
          0.03933664411306381,
          0.1617421954870224
         ]
        },
        {
         "hovertemplate": "label=bad<br>pca_3D_comments_0=%{x}<br>pca_3D_comments_1=%{y}<br>pca_3D_comments_2=%{z}<extra></extra>",
         "legendgroup": "bad",
         "marker": {
          "color": "#ab63fa",
          "opacity": 0.5,
          "size": 2,
          "symbol": "circle"
         },
         "mode": "markers",
         "name": "bad",
         "scene": "scene",
         "showlegend": true,
         "type": "scatter3d",
         "x": [
          0.14390717446804047,
          0.1416528820991516,
          0.09520496428012848,
          0.30723652243614197,
          0.24524348974227905,
          0.3273784816265106,
          -0.14758381247520447,
          0.1585565209388733,
          0.331942081451416,
          0.10650905966758728,
          0.35910460352897644,
          0.3075641393661499,
          0.27626627683639526,
          -0.03341510146856308,
          0.22871403396129608,
          0.22110426425933838,
          0.14216403663158417,
          0.17745158076286316,
          0.19888320565223694,
          0.2562645375728607,
          0.4186391532421112,
          0.2684374153614044,
          0.2504596710205078,
          0.19608448445796967,
          0.24435541033744812,
          0.3197859227657318,
          0.16363224387168884,
          -0.2431233823299408,
          0.2531227767467499,
          0.043682701885700226,
          0.21600380539894104,
          0.2353467047214508,
          -0.12154706567525864,
          0.30109769105911255,
          -0.012101114727556705,
          0.3563951849937439,
          0.24749353528022766,
          0.40470463037490845,
          0.25245553255081177,
          0.29319286346435547,
          0.2901833653450012,
          0.27954092621803284,
          0.20804554224014282,
          0.3945263624191284,
          0.17961187660694122,
          -0.018098274245858192,
          -0.03547754883766174,
          0.3071019649505615,
          0.38259705901145935,
          0.10805518925189972,
          0.15184944868087769,
          0.2753167152404785,
          0.28909173607826233,
          0.32103678584098816,
          0.16787579655647278,
          0.07096194475889206,
          0.26415568590164185,
          0.2951762080192566,
          0.27080854773521423,
          -0.04043535888195038,
          0.3934467136859894,
          0.326008677482605,
          0.19030576944351196,
          0.25585898756980896,
          0.1500256508588791,
          0.11816877871751785,
          0.39276227355003357,
          0.056711453944444656,
          0.3854571282863617,
          0.3096472918987274,
          0.280102401971817,
          0.3690740466117859,
          0.17507033050060272,
          0.2620040476322174,
          0.12917058169841766,
          0.17672088742256165,
          0.33256644010543823,
          0.18550026416778564,
          0.25721439719200134,
          0.21307018399238586
         ],
         "y": [
          -0.018325582146644592,
          0.040571242570877075,
          -0.17661984264850616,
          -0.030519362539052963,
          -0.13334228098392487,
          -0.05285806581377983,
          -0.3061408996582031,
          0.07332292199134827,
          0.005384101532399654,
          -0.1554747372865677,
          0.10728296637535095,
          -0.07273174077272415,
          0.018427638337016106,
          -0.2559857666492462,
          0.052119046449661255,
          -0.07133350521326065,
          0.13589376211166382,
          -0.049348875880241394,
          0.14469917118549347,
          0.09601637721061707,
          0.1034487634897232,
          0.11017802357673645,
          -0.039812296628952026,
          -0.03387584537267685,
          0.08625197410583496,
          0.06704527139663696,
          -0.012569344602525234,
          0.2600221335887909,
          0.10419075191020966,
          0.06829719990491867,
          -0.1282154619693756,
          -0.07523715496063232,
          0.028056811541318893,
          -0.040386099368333817,
          0.08540777862071991,
          0.03752434253692627,
          0.0596141442656517,
          0.11424677819013596,
          0.025553084909915924,
          0.022473052144050598,
          -0.1805320680141449,
          0.06150607392191887,
          0.10540633648633957,
          0.09563523530960083,
          -0.008320262655615807,
          -0.05157207325100899,
          -0.0026246097404509783,
          -0.02692384645342827,
          -0.017653360962867737,
          -0.03557500243186951,
          0.08068182319402695,
          -0.0744800865650177,
          0.027962034568190575,
          0.04571983218193054,
          -0.05425858125090599,
          0.09713111072778702,
          0.02119198814034462,
          0.013716020621359348,
          -0.009429903700947762,
          -0.09009753912687302,
          -0.08654290437698364,
          -0.15788939595222473,
          -0.41759857535362244,
          0.028708646073937416,
          -0.05276256799697876,
          -0.08448506146669388,
          0.04988435283303261,
          0.11040709912776947,
          0.04961780086159706,
          0.11813022941350937,
          -0.03346666321158409,
          0.21901938319206238,
          0.006744917947798967,
          0.09779516607522964,
          0.05599503591656685,
          -0.0788109228014946,
          0.0834282636642456,
          0.10888805985450745,
          -0.1324850171804428,
          -0.010719317942857742
         ],
         "z": [
          -0.024917978793382645,
          -0.02185785584151745,
          0.06889952719211578,
          0.02454199455678463,
          0.10468117892742157,
          0.0827181339263916,
          -0.004744027275592089,
          -0.06723599135875702,
          0.06050578132271767,
          0.11672641336917877,
          -0.1685558557510376,
          -0.03775118663907051,
          -0.10592655092477798,
          0.011899236589670181,
          -0.01151353307068348,
          -0.02130255661904812,
          -0.03246193751692772,
          -0.0682464987039566,
          0.010637070052325726,
          -0.21606895327568054,
          -0.012995977886021137,
          -0.21065707504749298,
          -0.10401120036840439,
          0.032035354524850845,
          -0.03718309476971626,
          -0.09378799796104431,
          -0.10896193236112595,
          0.1954181045293808,
          -0.2305370271205902,
          -0.021002603694796562,
          0.04400443285703659,
          -0.14828497171401978,
          0.020424121990799904,
          -0.025567499920725822,
          -0.013210040517151356,
          -0.030596647411584854,
          0.05705425515770912,
          -0.02038728818297386,
          0.04700387641787529,
          0.10679934918880463,
          -0.025775551795959473,
          -0.001505729858763516,
          0.048706475645303726,
          0.031117260456085205,
          -0.05087636783719063,
          0.03621523454785347,
          -0.2870504558086395,
          0.09899375587701797,
          0.04685790464282036,
          0.2784723937511444,
          -0.21107397973537445,
          0.026754973456263542,
          0.016888968646526337,
          -0.00022872087720315903,
          0.060688477009534836,
          -0.04182235524058342,
          -0.04165458306670189,
          -0.05004313960671425,
          -0.16283735632896423,
          -0.2498432844877243,
          -0.10928145796060562,
          0.029004354029893875,
          0.21525515615940094,
          -0.025657188147306442,
          0.03428983688354492,
          -0.08157076686620712,
          -0.08950033038854599,
          -0.14207595586776733,
          -0.10598386079072952,
          0.035669390112161636,
          0.046227142214775085,
          0.0038715964183211327,
          -0.09336628019809723,
          -0.14476816356182098,
          0.18829350173473358,
          0.15348857641220093,
          -0.2043205201625824,
          -0.04723379388451576,
          0.1506621390581131,
          -0.19977033138275146
         ]
        }
       ],
       "layout": {
        "legend": {
         "title": {
          "text": "label"
         },
         "tracegroupgap": 0
        },
        "margin": {
         "t": 60
        },
        "scene": {
         "domain": {
          "x": [
           0,
           1
          ],
          "y": [
           0,
           1
          ]
         },
         "xaxis": {
          "title": {
           "text": "pca_3D_comments_0"
          }
         },
         "yaxis": {
          "title": {
           "text": "pca_3D_comments_1"
          }
         },
         "zaxis": {
          "title": {
           "text": "pca_3D_comments_2"
          }
         }
        },
        "template": {
         "data": {
          "bar": [
           {
            "error_x": {
             "color": "#2a3f5f"
            },
            "error_y": {
             "color": "#2a3f5f"
            },
            "marker": {
             "line": {
              "color": "#E5ECF6",
              "width": 0.5
             },
             "pattern": {
              "fillmode": "overlay",
              "size": 10,
              "solidity": 0.2
             }
            },
            "type": "bar"
           }
          ],
          "barpolar": [
           {
            "marker": {
             "line": {
              "color": "#E5ECF6",
              "width": 0.5
             },
             "pattern": {
              "fillmode": "overlay",
              "size": 10,
              "solidity": 0.2
             }
            },
            "type": "barpolar"
           }
          ],
          "carpet": [
           {
            "aaxis": {
             "endlinecolor": "#2a3f5f",
             "gridcolor": "white",
             "linecolor": "white",
             "minorgridcolor": "white",
             "startlinecolor": "#2a3f5f"
            },
            "baxis": {
             "endlinecolor": "#2a3f5f",
             "gridcolor": "white",
             "linecolor": "white",
             "minorgridcolor": "white",
             "startlinecolor": "#2a3f5f"
            },
            "type": "carpet"
           }
          ],
          "choropleth": [
           {
            "colorbar": {
             "outlinewidth": 0,
             "ticks": ""
            },
            "type": "choropleth"
           }
          ],
          "contour": [
           {
            "colorbar": {
             "outlinewidth": 0,
             "ticks": ""
            },
            "colorscale": [
             [
              0,
              "#0d0887"
             ],
             [
              0.1111111111111111,
              "#46039f"
             ],
             [
              0.2222222222222222,
              "#7201a8"
             ],
             [
              0.3333333333333333,
              "#9c179e"
             ],
             [
              0.4444444444444444,
              "#bd3786"
             ],
             [
              0.5555555555555556,
              "#d8576b"
             ],
             [
              0.6666666666666666,
              "#ed7953"
             ],
             [
              0.7777777777777778,
              "#fb9f3a"
             ],
             [
              0.8888888888888888,
              "#fdca26"
             ],
             [
              1,
              "#f0f921"
             ]
            ],
            "type": "contour"
           }
          ],
          "contourcarpet": [
           {
            "colorbar": {
             "outlinewidth": 0,
             "ticks": ""
            },
            "type": "contourcarpet"
           }
          ],
          "heatmap": [
           {
            "colorbar": {
             "outlinewidth": 0,
             "ticks": ""
            },
            "colorscale": [
             [
              0,
              "#0d0887"
             ],
             [
              0.1111111111111111,
              "#46039f"
             ],
             [
              0.2222222222222222,
              "#7201a8"
             ],
             [
              0.3333333333333333,
              "#9c179e"
             ],
             [
              0.4444444444444444,
              "#bd3786"
             ],
             [
              0.5555555555555556,
              "#d8576b"
             ],
             [
              0.6666666666666666,
              "#ed7953"
             ],
             [
              0.7777777777777778,
              "#fb9f3a"
             ],
             [
              0.8888888888888888,
              "#fdca26"
             ],
             [
              1,
              "#f0f921"
             ]
            ],
            "type": "heatmap"
           }
          ],
          "heatmapgl": [
           {
            "colorbar": {
             "outlinewidth": 0,
             "ticks": ""
            },
            "colorscale": [
             [
              0,
              "#0d0887"
             ],
             [
              0.1111111111111111,
              "#46039f"
             ],
             [
              0.2222222222222222,
              "#7201a8"
             ],
             [
              0.3333333333333333,
              "#9c179e"
             ],
             [
              0.4444444444444444,
              "#bd3786"
             ],
             [
              0.5555555555555556,
              "#d8576b"
             ],
             [
              0.6666666666666666,
              "#ed7953"
             ],
             [
              0.7777777777777778,
              "#fb9f3a"
             ],
             [
              0.8888888888888888,
              "#fdca26"
             ],
             [
              1,
              "#f0f921"
             ]
            ],
            "type": "heatmapgl"
           }
          ],
          "histogram": [
           {
            "marker": {
             "pattern": {
              "fillmode": "overlay",
              "size": 10,
              "solidity": 0.2
             }
            },
            "type": "histogram"
           }
          ],
          "histogram2d": [
           {
            "colorbar": {
             "outlinewidth": 0,
             "ticks": ""
            },
            "colorscale": [
             [
              0,
              "#0d0887"
             ],
             [
              0.1111111111111111,
              "#46039f"
             ],
             [
              0.2222222222222222,
              "#7201a8"
             ],
             [
              0.3333333333333333,
              "#9c179e"
             ],
             [
              0.4444444444444444,
              "#bd3786"
             ],
             [
              0.5555555555555556,
              "#d8576b"
             ],
             [
              0.6666666666666666,
              "#ed7953"
             ],
             [
              0.7777777777777778,
              "#fb9f3a"
             ],
             [
              0.8888888888888888,
              "#fdca26"
             ],
             [
              1,
              "#f0f921"
             ]
            ],
            "type": "histogram2d"
           }
          ],
          "histogram2dcontour": [
           {
            "colorbar": {
             "outlinewidth": 0,
             "ticks": ""
            },
            "colorscale": [
             [
              0,
              "#0d0887"
             ],
             [
              0.1111111111111111,
              "#46039f"
             ],
             [
              0.2222222222222222,
              "#7201a8"
             ],
             [
              0.3333333333333333,
              "#9c179e"
             ],
             [
              0.4444444444444444,
              "#bd3786"
             ],
             [
              0.5555555555555556,
              "#d8576b"
             ],
             [
              0.6666666666666666,
              "#ed7953"
             ],
             [
              0.7777777777777778,
              "#fb9f3a"
             ],
             [
              0.8888888888888888,
              "#fdca26"
             ],
             [
              1,
              "#f0f921"
             ]
            ],
            "type": "histogram2dcontour"
           }
          ],
          "mesh3d": [
           {
            "colorbar": {
             "outlinewidth": 0,
             "ticks": ""
            },
            "type": "mesh3d"
           }
          ],
          "parcoords": [
           {
            "line": {
             "colorbar": {
              "outlinewidth": 0,
              "ticks": ""
             }
            },
            "type": "parcoords"
           }
          ],
          "pie": [
           {
            "automargin": true,
            "type": "pie"
           }
          ],
          "scatter": [
           {
            "fillpattern": {
             "fillmode": "overlay",
             "size": 10,
             "solidity": 0.2
            },
            "type": "scatter"
           }
          ],
          "scatter3d": [
           {
            "line": {
             "colorbar": {
              "outlinewidth": 0,
              "ticks": ""
             }
            },
            "marker": {
             "colorbar": {
              "outlinewidth": 0,
              "ticks": ""
             }
            },
            "type": "scatter3d"
           }
          ],
          "scattercarpet": [
           {
            "marker": {
             "colorbar": {
              "outlinewidth": 0,
              "ticks": ""
             }
            },
            "type": "scattercarpet"
           }
          ],
          "scattergeo": [
           {
            "marker": {
             "colorbar": {
              "outlinewidth": 0,
              "ticks": ""
             }
            },
            "type": "scattergeo"
           }
          ],
          "scattergl": [
           {
            "marker": {
             "colorbar": {
              "outlinewidth": 0,
              "ticks": ""
             }
            },
            "type": "scattergl"
           }
          ],
          "scattermapbox": [
           {
            "marker": {
             "colorbar": {
              "outlinewidth": 0,
              "ticks": ""
             }
            },
            "type": "scattermapbox"
           }
          ],
          "scatterpolar": [
           {
            "marker": {
             "colorbar": {
              "outlinewidth": 0,
              "ticks": ""
             }
            },
            "type": "scatterpolar"
           }
          ],
          "scatterpolargl": [
           {
            "marker": {
             "colorbar": {
              "outlinewidth": 0,
              "ticks": ""
             }
            },
            "type": "scatterpolargl"
           }
          ],
          "scatterternary": [
           {
            "marker": {
             "colorbar": {
              "outlinewidth": 0,
              "ticks": ""
             }
            },
            "type": "scatterternary"
           }
          ],
          "surface": [
           {
            "colorbar": {
             "outlinewidth": 0,
             "ticks": ""
            },
            "colorscale": [
             [
              0,
              "#0d0887"
             ],
             [
              0.1111111111111111,
              "#46039f"
             ],
             [
              0.2222222222222222,
              "#7201a8"
             ],
             [
              0.3333333333333333,
              "#9c179e"
             ],
             [
              0.4444444444444444,
              "#bd3786"
             ],
             [
              0.5555555555555556,
              "#d8576b"
             ],
             [
              0.6666666666666666,
              "#ed7953"
             ],
             [
              0.7777777777777778,
              "#fb9f3a"
             ],
             [
              0.8888888888888888,
              "#fdca26"
             ],
             [
              1,
              "#f0f921"
             ]
            ],
            "type": "surface"
           }
          ],
          "table": [
           {
            "cells": {
             "fill": {
              "color": "#EBF0F8"
             },
             "line": {
              "color": "white"
             }
            },
            "header": {
             "fill": {
              "color": "#C8D4E3"
             },
             "line": {
              "color": "white"
             }
            },
            "type": "table"
           }
          ]
         },
         "layout": {
          "annotationdefaults": {
           "arrowcolor": "#2a3f5f",
           "arrowhead": 0,
           "arrowwidth": 1
          },
          "autotypenumbers": "strict",
          "coloraxis": {
           "colorbar": {
            "outlinewidth": 0,
            "ticks": ""
           }
          },
          "colorscale": {
           "diverging": [
            [
             0,
             "#8e0152"
            ],
            [
             0.1,
             "#c51b7d"
            ],
            [
             0.2,
             "#de77ae"
            ],
            [
             0.3,
             "#f1b6da"
            ],
            [
             0.4,
             "#fde0ef"
            ],
            [
             0.5,
             "#f7f7f7"
            ],
            [
             0.6,
             "#e6f5d0"
            ],
            [
             0.7,
             "#b8e186"
            ],
            [
             0.8,
             "#7fbc41"
            ],
            [
             0.9,
             "#4d9221"
            ],
            [
             1,
             "#276419"
            ]
           ],
           "sequential": [
            [
             0,
             "#0d0887"
            ],
            [
             0.1111111111111111,
             "#46039f"
            ],
            [
             0.2222222222222222,
             "#7201a8"
            ],
            [
             0.3333333333333333,
             "#9c179e"
            ],
            [
             0.4444444444444444,
             "#bd3786"
            ],
            [
             0.5555555555555556,
             "#d8576b"
            ],
            [
             0.6666666666666666,
             "#ed7953"
            ],
            [
             0.7777777777777778,
             "#fb9f3a"
            ],
            [
             0.8888888888888888,
             "#fdca26"
            ],
            [
             1,
             "#f0f921"
            ]
           ],
           "sequentialminus": [
            [
             0,
             "#0d0887"
            ],
            [
             0.1111111111111111,
             "#46039f"
            ],
            [
             0.2222222222222222,
             "#7201a8"
            ],
            [
             0.3333333333333333,
             "#9c179e"
            ],
            [
             0.4444444444444444,
             "#bd3786"
            ],
            [
             0.5555555555555556,
             "#d8576b"
            ],
            [
             0.6666666666666666,
             "#ed7953"
            ],
            [
             0.7777777777777778,
             "#fb9f3a"
            ],
            [
             0.8888888888888888,
             "#fdca26"
            ],
            [
             1,
             "#f0f921"
            ]
           ]
          },
          "colorway": [
           "#636efa",
           "#EF553B",
           "#00cc96",
           "#ab63fa",
           "#FFA15A",
           "#19d3f3",
           "#FF6692",
           "#B6E880",
           "#FF97FF",
           "#FECB52"
          ],
          "font": {
           "color": "#2a3f5f"
          },
          "geo": {
           "bgcolor": "white",
           "lakecolor": "white",
           "landcolor": "#E5ECF6",
           "showlakes": true,
           "showland": true,
           "subunitcolor": "white"
          },
          "hoverlabel": {
           "align": "left"
          },
          "hovermode": "closest",
          "mapbox": {
           "style": "light"
          },
          "paper_bgcolor": "white",
          "plot_bgcolor": "#E5ECF6",
          "polar": {
           "angularaxis": {
            "gridcolor": "white",
            "linecolor": "white",
            "ticks": ""
           },
           "bgcolor": "#E5ECF6",
           "radialaxis": {
            "gridcolor": "white",
            "linecolor": "white",
            "ticks": ""
           }
          },
          "scene": {
           "xaxis": {
            "backgroundcolor": "#E5ECF6",
            "gridcolor": "white",
            "gridwidth": 2,
            "linecolor": "white",
            "showbackground": true,
            "ticks": "",
            "zerolinecolor": "white"
           },
           "yaxis": {
            "backgroundcolor": "#E5ECF6",
            "gridcolor": "white",
            "gridwidth": 2,
            "linecolor": "white",
            "showbackground": true,
            "ticks": "",
            "zerolinecolor": "white"
           },
           "zaxis": {
            "backgroundcolor": "#E5ECF6",
            "gridcolor": "white",
            "gridwidth": 2,
            "linecolor": "white",
            "showbackground": true,
            "ticks": "",
            "zerolinecolor": "white"
           }
          },
          "shapedefaults": {
           "line": {
            "color": "#2a3f5f"
           }
          },
          "ternary": {
           "aaxis": {
            "gridcolor": "white",
            "linecolor": "white",
            "ticks": ""
           },
           "baxis": {
            "gridcolor": "white",
            "linecolor": "white",
            "ticks": ""
           },
           "bgcolor": "#E5ECF6",
           "caxis": {
            "gridcolor": "white",
            "linecolor": "white",
            "ticks": ""
           }
          },
          "title": {
           "x": 0.05
          },
          "xaxis": {
           "automargin": true,
           "gridcolor": "white",
           "linecolor": "white",
           "ticks": "",
           "title": {
            "standoff": 15
           },
           "zerolinecolor": "white",
           "zerolinewidth": 2
          },
          "yaxis": {
           "automargin": true,
           "gridcolor": "white",
           "linecolor": "white",
           "ticks": "",
           "title": {
            "standoff": 15
           },
           "zerolinecolor": "white",
           "zerolinewidth": 2
          }
         }
        }
       }
      }
     },
     "metadata": {},
     "output_type": "display_data"
    }
   ],
   "source": [
    "comments_embeddings, _ = embeddings_features(col=\"comments\")\n",
    "\n",
    "pca_features = do_pca(comments_embeddings, \"comments\", 3)[0]\n",
    "\n",
    "# add label from df.label\n",
    "pca_features[\"label\"] = df.label\n",
    "\n",
    "pca_features\n",
    "\n",
    "# use plotly to plot the PCA vectors\n",
    "import plotly.express as px\n",
    "\n",
    "fig = px.scatter_3d(pca_features, x=\"pca_3D_comments_0\", y=\"pca_3D_comments_1\", z=\"pca_3D_comments_2\", color=\"label\")\n",
    "\n",
    "# make point smaller and opaque\n",
    "fig.update_traces(marker=dict(size=2, opacity=0.5))\n",
    "\n",
    "fig.show()"
   ]
  },
  {
   "attachments": {},
   "cell_type": "markdown",
   "metadata": {},
   "source": [
    "# Generate Features"
   ]
  },
  {
   "attachments": {},
   "cell_type": "markdown",
   "metadata": {},
   "source": [
    "With what we know, let's generate some features. I've provided a function for each type of feature, so we can mix and match."
   ]
  },
  {
   "cell_type": "code",
   "execution_count": 86,
   "metadata": {},
   "outputs": [],
   "source": [
    "to_try = {\n",
    "    \"pcas\": [2, 3, 5, 10, 20],\n",
    "    \"embeddings\": [50, 100, 200, 300, 500, 1000],\n",
    "}"
   ]
  },
  {
   "cell_type": "code",
   "execution_count": 87,
   "metadata": {},
   "outputs": [
    {
     "name": "stdout",
     "output_type": "stream",
     "text": [
      "Calculating amenities features with correlation threshold of 0.05\n",
      "Features above correlation threshold (0.05):\n",
      "['id', 'lockbox', 'pool', 'dishwasher', 'tv', 'keypad', 'kitchen', 'breakfast']\n",
      "Calculating amenities features with correlation threshold of None\n",
      "Embedding comments with vector size 50\n",
      "Embedding description with vector size 50\n",
      "Performing PCA on comments with 3 components\n",
      "Performing PCA on description with 3 components\n",
      "Performing PCA on comments+amenities with 3 components\n",
      "Performing PCA on description+amenities with 3 components\n",
      "Performing PCA on comments with 5 components\n",
      "Performing PCA on description with 5 components\n",
      "Performing PCA on comments+amenities with 5 components\n",
      "Performing PCA on description+amenities with 5 components\n",
      "Performing PCA on comments with 10 components\n",
      "Performing PCA on description with 10 components\n",
      "Performing PCA on comments+amenities with 10 components\n",
      "Performing PCA on description+amenities with 10 components\n",
      "Performing PCA on comments with 20 components\n",
      "Performing PCA on description with 20 components\n",
      "Performing PCA on comments+amenities with 20 components\n",
      "Performing PCA on description+amenities with 20 components\n",
      "Embedding comments with vector size 100\n",
      "Embedding description with vector size 100\n",
      "Performing PCA on comments with 3 components\n",
      "Performing PCA on description with 3 components\n",
      "Performing PCA on comments+amenities with 3 components\n",
      "Performing PCA on description+amenities with 3 components\n",
      "Performing PCA on comments with 5 components\n",
      "Performing PCA on description with 5 components\n",
      "Performing PCA on comments+amenities with 5 components\n",
      "Performing PCA on description+amenities with 5 components\n",
      "Performing PCA on comments with 10 components\n",
      "Performing PCA on description with 10 components\n",
      "Performing PCA on comments+amenities with 10 components\n",
      "Performing PCA on description+amenities with 10 components\n",
      "Performing PCA on comments with 20 components\n",
      "Performing PCA on description with 20 components\n",
      "Performing PCA on comments+amenities with 20 components\n",
      "Performing PCA on description+amenities with 20 components\n",
      "Embedding comments with vector size 200\n",
      "Embedding description with vector size 200\n",
      "Performing PCA on comments with 3 components\n",
      "Performing PCA on description with 3 components\n",
      "Performing PCA on comments+amenities with 3 components\n",
      "Performing PCA on description+amenities with 3 components\n",
      "Performing PCA on comments with 5 components\n",
      "Performing PCA on description with 5 components\n",
      "Performing PCA on comments+amenities with 5 components\n",
      "Performing PCA on description+amenities with 5 components\n",
      "Performing PCA on comments with 10 components\n",
      "Performing PCA on description with 10 components\n",
      "Performing PCA on comments+amenities with 10 components\n",
      "Performing PCA on description+amenities with 10 components\n",
      "Performing PCA on comments with 20 components\n",
      "Performing PCA on description with 20 components\n",
      "Performing PCA on comments+amenities with 20 components\n",
      "Performing PCA on description+amenities with 20 components\n",
      "Embedding comments with vector size 300\n",
      "Embedding description with vector size 300\n",
      "Performing PCA on comments with 3 components\n",
      "Performing PCA on description with 3 components\n",
      "Performing PCA on comments+amenities with 3 components\n",
      "Performing PCA on description+amenities with 3 components\n",
      "Performing PCA on comments with 5 components\n",
      "Performing PCA on description with 5 components\n",
      "Performing PCA on comments+amenities with 5 components\n",
      "Performing PCA on description+amenities with 5 components\n",
      "Performing PCA on comments with 10 components\n",
      "Performing PCA on description with 10 components\n",
      "Performing PCA on comments+amenities with 10 components\n",
      "Performing PCA on description+amenities with 10 components\n",
      "Performing PCA on comments with 20 components\n",
      "Performing PCA on description with 20 components\n",
      "Performing PCA on comments+amenities with 20 components\n",
      "Performing PCA on description+amenities with 20 components\n",
      "Embedding comments with vector size 500\n",
      "Embedding description with vector size 500\n",
      "Performing PCA on comments with 3 components\n",
      "Performing PCA on description with 3 components\n",
      "Performing PCA on comments+amenities with 3 components\n",
      "Performing PCA on description+amenities with 3 components\n",
      "Performing PCA on comments with 5 components\n",
      "Performing PCA on description with 5 components\n",
      "Performing PCA on comments+amenities with 5 components\n",
      "Performing PCA on description+amenities with 5 components\n",
      "Performing PCA on comments with 10 components\n",
      "Performing PCA on description with 10 components\n",
      "Performing PCA on comments+amenities with 10 components\n",
      "Performing PCA on description+amenities with 10 components\n",
      "Performing PCA on comments with 20 components\n",
      "Performing PCA on description with 20 components\n",
      "Performing PCA on comments+amenities with 20 components\n",
      "Performing PCA on description+amenities with 20 components\n",
      "Embedding comments with vector size 1000\n",
      "Embedding description with vector size 1000\n",
      "Performing PCA on comments with 3 components\n",
      "Performing PCA on description with 3 components\n",
      "Performing PCA on comments+amenities with 3 components\n",
      "Performing PCA on description+amenities with 3 components\n",
      "Performing PCA on comments with 5 components\n",
      "Performing PCA on description with 5 components\n",
      "Performing PCA on comments+amenities with 5 components\n",
      "Performing PCA on description+amenities with 5 components\n",
      "Performing PCA on comments with 10 components\n",
      "Performing PCA on description with 10 components\n",
      "Performing PCA on comments+amenities with 10 components\n",
      "Performing PCA on description+amenities with 10 components\n",
      "Performing PCA on comments with 20 components\n",
      "Performing PCA on description with 20 components\n",
      "Performing PCA on comments+amenities with 20 components\n",
      "Performing PCA on description+amenities with 20 components\n",
      "amenities (amenities) - {'corr_thresh': 0.05, 'amenities': ['amenity005_lockbox', 'amenity005_pool', 'amenity005_dishwasher', 'amenity005_tv', 'amenity005_keypad', 'amenity005_kitchen', 'amenity005_breakfast']}\n",
      "amenities (amenities) - {'corr_thresh': None, 'amenities': ['amenityall_kitchen', 'amenityall_garden', 'amenityall_microwave', 'amenityall_backyard', 'amenityall_iron', 'amenityall_shampoo', 'amenityall_wifi', 'amenityall_pool', 'amenityall_heating', 'amenityall_keypad', 'amenityall_refrigerator', 'amenityall_dog', 'amenityall_cat', 'amenityall_tv', 'amenityall_family', 'amenityall_internet', 'amenityall_patio', 'amenityall_washer', 'amenityall_dryer', 'amenityall_balcony', 'amenityall_stove', 'amenityall_breakfast', 'amenityall_dishwasher', 'amenityall_silverware', 'amenityall_bathtub', 'amenityall_lockbox', 'amenityall_crib', 'amenityall_elevator', 'amenityall_gym', 'amenityall_oven', 'amenityall_waterfront', 'amenityall_toilet']}\n",
      "embeddings (comments) - {'vector_size': 50}\n",
      "embeddings (description) - {'vector_size': 50}\n",
      "pca (comments) - {'n_components': 3, 'vector_size': 50}\n",
      "pca (description) - {'n_components': 3, 'vector_size': 50}\n",
      "pca (comments+amenities) - {'n_components': 3, 'vector_size': 50}\n",
      "pca (description+amenities) - {'n_components': 3, 'vector_size': 50}\n",
      "pca (comments) - {'n_components': 5, 'vector_size': 50}\n",
      "pca (description) - {'n_components': 5, 'vector_size': 50}\n",
      "pca (comments+amenities) - {'n_components': 5, 'vector_size': 50}\n",
      "pca (description+amenities) - {'n_components': 5, 'vector_size': 50}\n",
      "pca (comments) - {'n_components': 10, 'vector_size': 50}\n",
      "pca (description) - {'n_components': 10, 'vector_size': 50}\n",
      "pca (comments+amenities) - {'n_components': 10, 'vector_size': 50}\n",
      "pca (description+amenities) - {'n_components': 10, 'vector_size': 50}\n",
      "pca (comments) - {'n_components': 20, 'vector_size': 50}\n",
      "pca (description) - {'n_components': 20, 'vector_size': 50}\n",
      "pca (comments+amenities) - {'n_components': 20, 'vector_size': 50}\n",
      "pca (description+amenities) - {'n_components': 20, 'vector_size': 50}\n",
      "embeddings (comments) - {'vector_size': 100}\n",
      "embeddings (description) - {'vector_size': 100}\n",
      "pca (comments) - {'n_components': 3, 'vector_size': 100}\n",
      "pca (description) - {'n_components': 3, 'vector_size': 100}\n",
      "pca (comments+amenities) - {'n_components': 3, 'vector_size': 100}\n",
      "pca (description+amenities) - {'n_components': 3, 'vector_size': 100}\n",
      "pca (comments) - {'n_components': 5, 'vector_size': 100}\n",
      "pca (description) - {'n_components': 5, 'vector_size': 100}\n",
      "pca (comments+amenities) - {'n_components': 5, 'vector_size': 100}\n",
      "pca (description+amenities) - {'n_components': 5, 'vector_size': 100}\n",
      "pca (comments) - {'n_components': 10, 'vector_size': 100}\n",
      "pca (description) - {'n_components': 10, 'vector_size': 100}\n",
      "pca (comments+amenities) - {'n_components': 10, 'vector_size': 100}\n",
      "pca (description+amenities) - {'n_components': 10, 'vector_size': 100}\n",
      "pca (comments) - {'n_components': 20, 'vector_size': 100}\n",
      "pca (description) - {'n_components': 20, 'vector_size': 100}\n",
      "pca (comments+amenities) - {'n_components': 20, 'vector_size': 100}\n",
      "pca (description+amenities) - {'n_components': 20, 'vector_size': 100}\n",
      "embeddings (comments) - {'vector_size': 200}\n",
      "embeddings (description) - {'vector_size': 200}\n",
      "pca (comments) - {'n_components': 3, 'vector_size': 200}\n",
      "pca (description) - {'n_components': 3, 'vector_size': 200}\n",
      "pca (comments+amenities) - {'n_components': 3, 'vector_size': 200}\n",
      "pca (description+amenities) - {'n_components': 3, 'vector_size': 200}\n",
      "pca (comments) - {'n_components': 5, 'vector_size': 200}\n",
      "pca (description) - {'n_components': 5, 'vector_size': 200}\n",
      "pca (comments+amenities) - {'n_components': 5, 'vector_size': 200}\n",
      "pca (description+amenities) - {'n_components': 5, 'vector_size': 200}\n",
      "pca (comments) - {'n_components': 10, 'vector_size': 200}\n",
      "pca (description) - {'n_components': 10, 'vector_size': 200}\n",
      "pca (comments+amenities) - {'n_components': 10, 'vector_size': 200}\n",
      "pca (description+amenities) - {'n_components': 10, 'vector_size': 200}\n",
      "pca (comments) - {'n_components': 20, 'vector_size': 200}\n",
      "pca (description) - {'n_components': 20, 'vector_size': 200}\n",
      "pca (comments+amenities) - {'n_components': 20, 'vector_size': 200}\n",
      "pca (description+amenities) - {'n_components': 20, 'vector_size': 200}\n",
      "embeddings (comments) - {'vector_size': 300}\n",
      "embeddings (description) - {'vector_size': 300}\n",
      "pca (comments) - {'n_components': 3, 'vector_size': 300}\n",
      "pca (description) - {'n_components': 3, 'vector_size': 300}\n",
      "pca (comments+amenities) - {'n_components': 3, 'vector_size': 300}\n",
      "pca (description+amenities) - {'n_components': 3, 'vector_size': 300}\n",
      "pca (comments) - {'n_components': 5, 'vector_size': 300}\n",
      "pca (description) - {'n_components': 5, 'vector_size': 300}\n",
      "pca (comments+amenities) - {'n_components': 5, 'vector_size': 300}\n",
      "pca (description+amenities) - {'n_components': 5, 'vector_size': 300}\n",
      "pca (comments) - {'n_components': 10, 'vector_size': 300}\n",
      "pca (description) - {'n_components': 10, 'vector_size': 300}\n",
      "pca (comments+amenities) - {'n_components': 10, 'vector_size': 300}\n",
      "pca (description+amenities) - {'n_components': 10, 'vector_size': 300}\n",
      "pca (comments) - {'n_components': 20, 'vector_size': 300}\n",
      "pca (description) - {'n_components': 20, 'vector_size': 300}\n",
      "pca (comments+amenities) - {'n_components': 20, 'vector_size': 300}\n",
      "pca (description+amenities) - {'n_components': 20, 'vector_size': 300}\n",
      "embeddings (comments) - {'vector_size': 500}\n",
      "embeddings (description) - {'vector_size': 500}\n",
      "pca (comments) - {'n_components': 3, 'vector_size': 500}\n",
      "pca (description) - {'n_components': 3, 'vector_size': 500}\n",
      "pca (comments+amenities) - {'n_components': 3, 'vector_size': 500}\n",
      "pca (description+amenities) - {'n_components': 3, 'vector_size': 500}\n",
      "pca (comments) - {'n_components': 5, 'vector_size': 500}\n",
      "pca (description) - {'n_components': 5, 'vector_size': 500}\n",
      "pca (comments+amenities) - {'n_components': 5, 'vector_size': 500}\n",
      "pca (description+amenities) - {'n_components': 5, 'vector_size': 500}\n",
      "pca (comments) - {'n_components': 10, 'vector_size': 500}\n",
      "pca (description) - {'n_components': 10, 'vector_size': 500}\n",
      "pca (comments+amenities) - {'n_components': 10, 'vector_size': 500}\n",
      "pca (description+amenities) - {'n_components': 10, 'vector_size': 500}\n",
      "pca (comments) - {'n_components': 20, 'vector_size': 500}\n",
      "pca (description) - {'n_components': 20, 'vector_size': 500}\n",
      "pca (comments+amenities) - {'n_components': 20, 'vector_size': 500}\n",
      "pca (description+amenities) - {'n_components': 20, 'vector_size': 500}\n",
      "embeddings (comments) - {'vector_size': 1000}\n",
      "embeddings (description) - {'vector_size': 1000}\n",
      "pca (comments) - {'n_components': 3, 'vector_size': 1000}\n",
      "pca (description) - {'n_components': 3, 'vector_size': 1000}\n",
      "pca (comments+amenities) - {'n_components': 3, 'vector_size': 1000}\n",
      "pca (description+amenities) - {'n_components': 3, 'vector_size': 1000}\n",
      "pca (comments) - {'n_components': 5, 'vector_size': 1000}\n",
      "pca (description) - {'n_components': 5, 'vector_size': 1000}\n",
      "pca (comments+amenities) - {'n_components': 5, 'vector_size': 1000}\n",
      "pca (description+amenities) - {'n_components': 5, 'vector_size': 1000}\n",
      "pca (comments) - {'n_components': 10, 'vector_size': 1000}\n",
      "pca (description) - {'n_components': 10, 'vector_size': 1000}\n",
      "pca (comments+amenities) - {'n_components': 10, 'vector_size': 1000}\n",
      "pca (description+amenities) - {'n_components': 10, 'vector_size': 1000}\n",
      "pca (comments) - {'n_components': 20, 'vector_size': 1000}\n",
      "pca (description) - {'n_components': 20, 'vector_size': 1000}\n",
      "pca (comments+amenities) - {'n_components': 20, 'vector_size': 1000}\n",
      "pca (description+amenities) - {'n_components': 20, 'vector_size': 1000}\n"
     ]
    }
   ],
   "source": [
    "from dataclasses import dataclass\n",
    "from typing import List, Any\n",
    "\n",
    "@dataclass\n",
    "class Feature:\n",
    "    data: pd.DataFrame | np.ndarray\n",
    "    col: str\n",
    "    type: str\n",
    "    models: dict | None\n",
    "    params: dict | None\n",
    "\n",
    "    def __str__(self):\n",
    "        return f\"{self.type} ({self.col}) - {self.params}\"\n",
    "    \n",
    "    __repr__ = __str__\n",
    "    \n",
    "\n",
    "features: List[Feature] = []\n",
    "\n",
    "# get the amenities\n",
    "amenity005 = amenities_features(corr_thresh=0.05, prefix=\"amenity005_\").fillna(0)\n",
    "amenityall = amenities_features(corr_thresh=None, prefix=\"amenityall_\").fillna(0)\n",
    "\n",
    "features.extend([\n",
    "    Feature(\n",
    "        data=amenity005,\n",
    "        col=\"amenities\",\n",
    "        type=\"amenities\",\n",
    "        models=None,\n",
    "        params={\n",
    "            \"corr_thresh\": 0.05, \n",
    "            \"amenities\": amenity005.columns.tolist()\n",
    "        }\n",
    "    ),\n",
    "    Feature(\n",
    "        data=amenityall,\n",
    "        col=\"amenities\",\n",
    "        type=\"amenities\",\n",
    "        models=None,\n",
    "        params={\n",
    "            \"corr_thresh\": None, \n",
    "            \"amenities\": amenityall.columns.tolist()\n",
    "            }\n",
    "    ),\n",
    "])\n",
    "\n",
    "# get the embeddings\n",
    "for emb_vector_size in to_try[\"embeddings\"]:\n",
    "    embeddings_comments, w2vmodel_comments = embeddings_features(col=\"comments\", emb_vector_size=emb_vector_size)\n",
    "    embeddings_description, w2vmodel_description = embeddings_features(col=\"description\", emb_vector_size=emb_vector_size)\n",
    "    \n",
    "    features.extend([\n",
    "        Feature(\n",
    "            data=embeddings_comments, \n",
    "            col=\"comments\", \n",
    "            type=\"embeddings\", \n",
    "            models={\n",
    "                \"w2v\": w2vmodel_comments\n",
    "            }, \n",
    "            params={\"vector_size\": emb_vector_size}\n",
    "        ),\n",
    "        Feature(\n",
    "            data=embeddings_description, \n",
    "            col=\"description\", \n",
    "            type=\"embeddings\", \n",
    "            models={\n",
    "                \"w2v\": w2vmodel_description\n",
    "            }, \n",
    "            params={\"vector_size\": emb_vector_size}\n",
    "        ),\n",
    "    ])\n",
    "\n",
    "    \n",
    "    for pca_dims in [3, 5, 10, 20]:\n",
    "\n",
    "        # Apply PCA to the embeddings\n",
    "        pca_features_comments, pca_comments = do_pca(embeddings_comments, \"comments\", pca_dims)\n",
    "        pca_features_description, pca_description = do_pca(embeddings_description, \"description\", pca_dims)\n",
    "\n",
    "        features.extend([\n",
    "            Feature(\n",
    "                data=pca_features_comments, \n",
    "                col=\"comments\", type=\"pca\", \n",
    "                models={\n",
    "                    \"pca\": pca_comments,\n",
    "                    \"w2v\": w2vmodel_comments\n",
    "                }, \n",
    "                params={\"n_components\": pca_dims, \"vector_size\": emb_vector_size}\n",
    "            ),\n",
    "            Feature(\n",
    "                data=pca_features_description, \n",
    "                col=\"description\", \n",
    "                type=\"pca\", \n",
    "                models={\n",
    "                    \"pca\": pca_description,\n",
    "                    \"w2v\": w2vmodel_description\n",
    "                }, \n",
    "                params={\"n_components\": pca_dims, \"vector_size\": emb_vector_size}\n",
    "            ),\n",
    "        ])\n",
    "\n",
    "        # Apply PCA to embeddings + amenities\n",
    "        comments_and_amenities = pd.concat([embeddings_comments, amenityall], axis=1).fillna(0)\n",
    "        description_and_amenities = pd.concat([embeddings_description, amenityall], axis=1).fillna(0)\n",
    "        pca_features_comments_amenities, pca_comments_amenities = do_pca(comments_and_amenities, \"comments+amenities\", pca_dims)\n",
    "        pca_features_description_amenities, pca_description_amenities = do_pca(description_and_amenities, \"description+amenities\", pca_dims)\n",
    "\n",
    "        features.extend([\n",
    "            Feature(\n",
    "                data=pca_features_comments_amenities, \n",
    "                col=\"comments+amenities\", \n",
    "                type=\"pca\", \n",
    "                models={\n",
    "                    \"pca\": pca_comments_amenities,\n",
    "                    \"w2v\": w2vmodel_comments\n",
    "                }, \n",
    "                params={\"n_components\": pca_dims, \"vector_size\": emb_vector_size}\n",
    "            ),\n",
    "            Feature(\n",
    "                data=pca_features_description_amenities, \n",
    "                col=\"description+amenities\", \n",
    "                type=\"pca\", \n",
    "                models={\n",
    "                    \"pca\": pca_description_amenities,\n",
    "                    \"w2v\": w2vmodel_description\n",
    "                }, \n",
    "                params={\"n_components\": pca_dims, \"vector_size\": emb_vector_size}\n",
    "            ),\n",
    "        ])\n",
    "\n",
    "for feature in features:\n",
    "    print(feature)\n"
   ]
  },
  {
   "cell_type": "code",
   "execution_count": 88,
   "metadata": {},
   "outputs": [
    {
     "name": "stdout",
     "output_type": "stream",
     "text": [
      "Total feature types: 110\n"
     ]
    }
   ],
   "source": [
    "print(f\"Total feature types: {len(features)}\")"
   ]
  },
  {
   "attachments": {},
   "cell_type": "markdown",
   "metadata": {},
   "source": [
    "## Save the features"
   ]
  },
  {
   "attachments": {},
   "cell_type": "markdown",
   "metadata": {},
   "source": [
    "Here we will save the features to a csv. We will also save the trained word2vec and pca models, so we can use it later."
   ]
  },
  {
   "cell_type": "code",
   "execution_count": 89,
   "metadata": {},
   "outputs": [],
   "source": [
    "import pickle\n",
    "\n",
    "if isinstance(GEO, list):\n",
    "    geo_display_name = \"_\".join(GEO)\n",
    "else:\n",
    "    geo_display_name = GEO\n",
    "\n",
    "with open(f\"../../data/features/features_{geo_display_name}.pkl\", \"wb\") as f:\n",
    "    pickle.dump(features, f)"
   ]
  },
  {
   "cell_type": "code",
   "execution_count": null,
   "metadata": {},
   "outputs": [],
   "source": []
  }
 ],
 "metadata": {
  "kernelspec": {
   "display_name": "venv",
   "language": "python",
   "name": "python3"
  },
  "language_info": {
   "codemirror_mode": {
    "name": "ipython",
    "version": 3
   },
   "file_extension": ".py",
   "mimetype": "text/x-python",
   "name": "python",
   "nbconvert_exporter": "python",
   "pygments_lexer": "ipython3",
   "version": "3.10.4"
  },
  "orig_nbformat": 4,
  "vscode": {
   "interpreter": {
    "hash": "cf086def782804284d24881115c612afdcc8ea791299ba67855f0c7f1a9ccc5a"
   }
  }
 },
 "nbformat": 4,
 "nbformat_minor": 2
}
