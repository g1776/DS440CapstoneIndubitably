{
 "cells": [
  {
   "attachments": {},
   "cell_type": "markdown",
   "metadata": {},
   "source": [
    "# Generate processed data\n",
    "Here we will combine the subset of reviews with their labels and associated property description to create a processed dataset."
   ]
  },
  {
   "cell_type": "code",
   "execution_count": 18,
   "metadata": {},
   "outputs": [],
   "source": [
    "import pandas as pd\n",
    "import matplotlib.pyplot as plt"
   ]
  },
  {
   "cell_type": "code",
   "execution_count": 7,
   "metadata": {},
   "outputs": [],
   "source": [
    "# Which GEO to process?\n",
    "GEO = \"texas\""
   ]
  },
  {
   "cell_type": "code",
   "execution_count": 31,
   "metadata": {},
   "outputs": [],
   "source": [
    "# load all the relevant data\n",
    "DATA_FP = \"../../data\"\n",
    "LABELS = pd.read_csv(DATA_FP + f\"/labels/{GEO}_reviews_labels.csv\")\n",
    "SUBSET = pd.read_csv(DATA_FP + f\"/filtered/{GEO}_reviews_filtered.csv\")\n",
    "LISTINGS = pd.read_csv(DATA_FP + f\"/raw/{GEO}_listings.csv\", encoding=\"unicode_escape\", low_memory=False)"
   ]
  },
  {
   "attachments": {},
   "cell_type": "markdown",
   "metadata": {},
   "source": [
    "For now, we are dropping labels of \"maybe\". These are reviews we weren't sure about the label of. If we need more training data, we can revisit these reviews for labeling."
   ]
  },
  {
   "cell_type": "code",
   "execution_count": 32,
   "metadata": {},
   "outputs": [
    {
     "name": "stdout",
     "output_type": "stream",
     "text": [
      "Number of maybe reviews: 11/633\n"
     ]
    }
   ],
   "source": [
    "maybes = LABELS[LABELS.label == \"maybe\"]\n",
    "print(f\"Number of maybe reviews: {len(maybes)}/{len(LABELS)}\")\n",
    "\n",
    "LABELS = LABELS[LABELS.label != \"maybe\"]"
   ]
  },
  {
   "attachments": {},
   "cell_type": "markdown",
   "metadata": {},
   "source": [
    "Join datasets together."
   ]
  },
  {
   "cell_type": "code",
   "execution_count": 33,
   "metadata": {},
   "outputs": [],
   "source": [
    "# join with labels\n",
    "subset_with_labels = pd.merge(LABELS, SUBSET, on=\"id\", suffixes=(\"_labels\", \"_subset\"))\n",
    "\n",
    "# join with listings\n",
    "subset_labels_and_listing = pd.merge(subset_with_labels, LISTINGS, left_on=\"listing_id\", right_on=\"id\", suffixes=(\"\",\"_listings\"))"
   ]
  },
  {
   "attachments": {},
   "cell_type": "markdown",
   "metadata": {},
   "source": [
    "Keep only the columns we need for the processed dataset. Also, rename the columns to be more descriptive, and clean the amentities column."
   ]
  },
  {
   "cell_type": "code",
   "execution_count": 34,
   "metadata": {},
   "outputs": [
    {
     "data": {
      "text/html": [
       "<div>\n",
       "<style scoped>\n",
       "    .dataframe tbody tr th:only-of-type {\n",
       "        vertical-align: middle;\n",
       "    }\n",
       "\n",
       "    .dataframe tbody tr th {\n",
       "        vertical-align: top;\n",
       "    }\n",
       "\n",
       "    .dataframe thead th {\n",
       "        text-align: right;\n",
       "    }\n",
       "</style>\n",
       "<table border=\"1\" class=\"dataframe\">\n",
       "  <thead>\n",
       "    <tr style=\"text-align: right;\">\n",
       "      <th></th>\n",
       "      <th>review_id</th>\n",
       "      <th>listing_id</th>\n",
       "      <th>description</th>\n",
       "      <th>comments</th>\n",
       "      <th>sentiment</th>\n",
       "      <th>label</th>\n",
       "      <th>name</th>\n",
       "      <th>amenities</th>\n",
       "    </tr>\n",
       "  </thead>\n",
       "  <tbody>\n",
       "    <tr>\n",
       "      <th>0</th>\n",
       "      <td>83097</td>\n",
       "      <td>5456</td>\n",
       "      <td>Fabulous location for walking to Convention Ce...</td>\n",
       "      <td>Sylvia was very nice, informal, and she was re...</td>\n",
       "      <td>4.333333</td>\n",
       "      <td>no</td>\n",
       "      <td>Walk to 6th, Rainey St and Convention Ctr</td>\n",
       "      <td>[TV, Wifi, Air conditioning, Kitchen, Pets liv...</td>\n",
       "    </tr>\n",
       "    <tr>\n",
       "      <th>1</th>\n",
       "      <td>133337</td>\n",
       "      <td>5456</td>\n",
       "      <td>Fabulous location for walking to Convention Ce...</td>\n",
       "      <td>Sylvia picked me up from the airport and gave ...</td>\n",
       "      <td>4.000000</td>\n",
       "      <td>no</td>\n",
       "      <td>Walk to 6th, Rainey St and Convention Ctr</td>\n",
       "      <td>[TV, Wifi, Air conditioning, Kitchen, Pets liv...</td>\n",
       "    </tr>\n",
       "    <tr>\n",
       "      <th>2</th>\n",
       "      <td>150928</td>\n",
       "      <td>5456</td>\n",
       "      <td>Fabulous location for walking to Convention Ce...</td>\n",
       "      <td>We had a lovely time in Austin and enjoyed the...</td>\n",
       "      <td>3.000000</td>\n",
       "      <td>no</td>\n",
       "      <td>Walk to 6th, Rainey St and Convention Ctr</td>\n",
       "      <td>[TV, Wifi, Air conditioning, Kitchen, Pets liv...</td>\n",
       "    </tr>\n",
       "    <tr>\n",
       "      <th>3</th>\n",
       "      <td>2706775</td>\n",
       "      <td>5456</td>\n",
       "      <td>Fabulous location for walking to Convention Ce...</td>\n",
       "      <td>Sylvia was an excellent host. Stayed in touch ...</td>\n",
       "      <td>4.500000</td>\n",
       "      <td>no</td>\n",
       "      <td>Walk to 6th, Rainey St and Convention Ctr</td>\n",
       "      <td>[TV, Wifi, Air conditioning, Kitchen, Pets liv...</td>\n",
       "    </tr>\n",
       "    <tr>\n",
       "      <th>4</th>\n",
       "      <td>8602878</td>\n",
       "      <td>5456</td>\n",
       "      <td>Fabulous location for walking to Convention Ce...</td>\n",
       "      <td>The place was a cute little self contained cot...</td>\n",
       "      <td>4.000000</td>\n",
       "      <td>no</td>\n",
       "      <td>Walk to 6th, Rainey St and Convention Ctr</td>\n",
       "      <td>[TV, Wifi, Air conditioning, Kitchen, Pets liv...</td>\n",
       "    </tr>\n",
       "    <tr>\n",
       "      <th>...</th>\n",
       "      <td>...</td>\n",
       "      <td>...</td>\n",
       "      <td>...</td>\n",
       "      <td>...</td>\n",
       "      <td>...</td>\n",
       "      <td>...</td>\n",
       "      <td>...</td>\n",
       "      <td>...</td>\n",
       "    </tr>\n",
       "    <tr>\n",
       "      <th>617</th>\n",
       "      <td>243926779</td>\n",
       "      <td>785270</td>\n",
       "      <td>This cozy, sun-filled apartment in a quiet Cen...</td>\n",
       "      <td>Location is really nice, right in the Muller a...</td>\n",
       "      <td>3.250000</td>\n",
       "      <td>no</td>\n",
       "      <td>The Darlington Arms, Central Austin</td>\n",
       "      <td>[TV, Cable TV, Internet, Wifi, Air conditionin...</td>\n",
       "    </tr>\n",
       "    <tr>\n",
       "      <th>618</th>\n",
       "      <td>138631555</td>\n",
       "      <td>785963</td>\n",
       "      <td>Come stay in this cozy cottage featuring a ful...</td>\n",
       "      <td>Katy and Rick were absolutely lovely! I arrive...</td>\n",
       "      <td>4.500000</td>\n",
       "      <td>yes</td>\n",
       "      <td>Bouldin Cottage</td>\n",
       "      <td>[TV, Cable TV, Internet, Wifi, Air conditionin...</td>\n",
       "    </tr>\n",
       "    <tr>\n",
       "      <th>619</th>\n",
       "      <td>201595726</td>\n",
       "      <td>785963</td>\n",
       "      <td>Come stay in this cozy cottage featuring a ful...</td>\n",
       "      <td>Not in the good part of Bouldin. Filthy. After...</td>\n",
       "      <td>1.000000</td>\n",
       "      <td>yes</td>\n",
       "      <td>Bouldin Cottage</td>\n",
       "      <td>[TV, Cable TV, Internet, Wifi, Air conditionin...</td>\n",
       "    </tr>\n",
       "    <tr>\n",
       "      <th>620</th>\n",
       "      <td>27786173</td>\n",
       "      <td>813709</td>\n",
       "      <td>This home is a full time vacation rental so yo...</td>\n",
       "      <td>Pete was a great host. While we didn't meet hi...</td>\n",
       "      <td>4.000000</td>\n",
       "      <td>no</td>\n",
       "      <td>Cozy Bright Hyde Park Guest House</td>\n",
       "      <td>[TV, Cable TV, Internet, Wifi, Air conditionin...</td>\n",
       "    </tr>\n",
       "    <tr>\n",
       "      <th>621</th>\n",
       "      <td>112785616</td>\n",
       "      <td>813709</td>\n",
       "      <td>This home is a full time vacation rental so yo...</td>\n",
       "      <td>We stayed at Pete's for 4 nights.  Apartment i...</td>\n",
       "      <td>3.500000</td>\n",
       "      <td>no</td>\n",
       "      <td>Cozy Bright Hyde Park Guest House</td>\n",
       "      <td>[TV, Cable TV, Internet, Wifi, Air conditionin...</td>\n",
       "    </tr>\n",
       "  </tbody>\n",
       "</table>\n",
       "<p>622 rows × 8 columns</p>\n",
       "</div>"
      ],
      "text/plain": [
       "     review_id  listing_id                                        description  \\\n",
       "0        83097        5456  Fabulous location for walking to Convention Ce...   \n",
       "1       133337        5456  Fabulous location for walking to Convention Ce...   \n",
       "2       150928        5456  Fabulous location for walking to Convention Ce...   \n",
       "3      2706775        5456  Fabulous location for walking to Convention Ce...   \n",
       "4      8602878        5456  Fabulous location for walking to Convention Ce...   \n",
       "..         ...         ...                                                ...   \n",
       "617  243926779      785270  This cozy, sun-filled apartment in a quiet Cen...   \n",
       "618  138631555      785963  Come stay in this cozy cottage featuring a ful...   \n",
       "619  201595726      785963  Come stay in this cozy cottage featuring a ful...   \n",
       "620   27786173      813709  This home is a full time vacation rental so yo...   \n",
       "621  112785616      813709  This home is a full time vacation rental so yo...   \n",
       "\n",
       "                                              comments  sentiment label  \\\n",
       "0    Sylvia was very nice, informal, and she was re...   4.333333    no   \n",
       "1    Sylvia picked me up from the airport and gave ...   4.000000    no   \n",
       "2    We had a lovely time in Austin and enjoyed the...   3.000000    no   \n",
       "3    Sylvia was an excellent host. Stayed in touch ...   4.500000    no   \n",
       "4    The place was a cute little self contained cot...   4.000000    no   \n",
       "..                                                 ...        ...   ...   \n",
       "617  Location is really nice, right in the Muller a...   3.250000    no   \n",
       "618  Katy and Rick were absolutely lovely! I arrive...   4.500000   yes   \n",
       "619  Not in the good part of Bouldin. Filthy. After...   1.000000   yes   \n",
       "620  Pete was a great host. While we didn't meet hi...   4.000000    no   \n",
       "621  We stayed at Pete's for 4 nights.  Apartment i...   3.500000    no   \n",
       "\n",
       "                                          name  \\\n",
       "0    Walk to 6th, Rainey St and Convention Ctr   \n",
       "1    Walk to 6th, Rainey St and Convention Ctr   \n",
       "2    Walk to 6th, Rainey St and Convention Ctr   \n",
       "3    Walk to 6th, Rainey St and Convention Ctr   \n",
       "4    Walk to 6th, Rainey St and Convention Ctr   \n",
       "..                                         ...   \n",
       "617        The Darlington Arms, Central Austin   \n",
       "618                            Bouldin Cottage   \n",
       "619                            Bouldin Cottage   \n",
       "620          Cozy Bright Hyde Park Guest House   \n",
       "621          Cozy Bright Hyde Park Guest House   \n",
       "\n",
       "                                             amenities  \n",
       "0    [TV, Wifi, Air conditioning, Kitchen, Pets liv...  \n",
       "1    [TV, Wifi, Air conditioning, Kitchen, Pets liv...  \n",
       "2    [TV, Wifi, Air conditioning, Kitchen, Pets liv...  \n",
       "3    [TV, Wifi, Air conditioning, Kitchen, Pets liv...  \n",
       "4    [TV, Wifi, Air conditioning, Kitchen, Pets liv...  \n",
       "..                                                 ...  \n",
       "617  [TV, Cable TV, Internet, Wifi, Air conditionin...  \n",
       "618  [TV, Cable TV, Internet, Wifi, Air conditionin...  \n",
       "619  [TV, Cable TV, Internet, Wifi, Air conditionin...  \n",
       "620  [TV, Cable TV, Internet, Wifi, Air conditionin...  \n",
       "621  [TV, Cable TV, Internet, Wifi, Air conditionin...  \n",
       "\n",
       "[622 rows x 8 columns]"
      ]
     },
     "execution_count": 34,
     "metadata": {},
     "output_type": "execute_result"
    }
   ],
   "source": [
    "cols_to_keep =[\n",
    "    \"id\",\n",
    "    \"listing_id\",\n",
    "    \"description\",\n",
    "    \"comments\",\n",
    "    \"sentiment\",\n",
    "    \"label\",\n",
    "    \"name\",\n",
    "    \"amenities\"\n",
    "]\n",
    "\n",
    "subset_labels_and_listing = subset_labels_and_listing[cols_to_keep]\n",
    "\n",
    "# rename id to review_id, for clarity\n",
    "subset_labels_and_listing = subset_labels_and_listing.rename(columns={\"id\": \"review_id\"})\n",
    "\n",
    "def parse_amenities(amenities):\n",
    "  amenities = amenities.replace(\"{\", \"\").replace(\"]\", \"\").replace('\"', \"\")\n",
    "  return amenities.split(\",\")\n",
    "\n",
    "subset_labels_and_listing.amenities = subset_labels_and_listing.amenities.apply(parse_amenities)\n",
    "\n",
    "subset_labels_and_listing"
   ]
  },
  {
   "attachments": {},
   "cell_type": "markdown",
   "metadata": {},
   "source": [
    "### Quick EDA on the processed dataset"
   ]
  },
  {
   "cell_type": "code",
   "execution_count": 43,
   "metadata": {},
   "outputs": [
    {
     "name": "stdout",
     "output_type": "stream",
     "text": [
      "% of data with label 'yes': 12.0\n"
     ]
    },
    {
     "data": {
      "image/png": "[encoded data removed]",
      "text/plain": [
       "<Figure size 640x480 with 1 Axes>"
      ]
     },
     "metadata": {},
     "output_type": "display_data"
    }
   ],
   "source": [
    "print(\n",
    "    \"% of data with label 'yes':\", \n",
    "    round(len(subset_labels_and_listing[subset_labels_and_listing.label == \"yes\"])/len(subset_labels_and_listing), 2) * 100\n",
    ")\n",
    "\n",
    "fig = subset_labels_and_listing.label.value_counts().plot(kind=\"bar\")\n",
    "fig.set_title(f\"Distribution of labels (GEO={GEO})\")\n",
    "fig.set_xlabel(\"Label\")\n",
    "fig.set_ylabel(\"Count\")\n",
    "plt.show()"
   ]
  },
  {
   "cell_type": "code",
   "execution_count": 46,
   "metadata": {},
   "outputs": [],
   "source": [
    "# save it\n",
    "subset_labels_and_listing.to_csv(DATA_FP + f\"/processed/{GEO}_processed.csv\", index=False)"
   ]
  },
  {
   "cell_type": "code",
   "execution_count": null,
   "metadata": {},
   "outputs": [],
   "source": []
  }
 ],
 "metadata": {
  "kernelspec": {
   "display_name": "venv",
   "language": "python",
   "name": "python3"
  },
  "language_info": {
   "codemirror_mode": {
    "name": "ipython",
    "version": 3
   },
   "file_extension": ".py",
   "mimetype": "text/x-python",
   "name": "python",
   "nbconvert_exporter": "python",
   "pygments_lexer": "ipython3",
   "version": "3.10.4"
  },
  "orig_nbformat": 4,
  "vscode": {
   "interpreter": {
    "hash": "cf086def782804284d24881115c612afdcc8ea791299ba67855f0c7f1a9ccc5a"
   }
  }
 },
 "nbformat": 4,
 "nbformat_minor": 2
}
