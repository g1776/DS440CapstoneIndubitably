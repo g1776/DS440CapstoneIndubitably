{
 "cells": [
  {
   "attachments": {},
   "cell_type": "markdown",
   "metadata": {},
   "source": [
    "# Subset the data to only include potential reviews that could indicate misleading property listings\n",
    "\n",
    "Our method to subset the data so we don't need to look through all the rows to find the potential false positives is two-fold:\n",
    "\n",
    "1. We filter by rows contains a set of keywords extended from the honors thesis.\n",
    "\n",
    "2. We filter by rows that have a sentiment score lower than 5 (5 being the most positive sentiment score)."
   ]
  },
  {
   "cell_type": "code",
   "execution_count": 1,
   "metadata": {},
   "outputs": [],
   "source": [
    "import pandas as pd"
   ]
  },
  {
   "cell_type": "markdown",
   "metadata": {},
   "source": [
    "## Define filters"
   ]
  },
  {
   "cell_type": "code",
   "execution_count": 2,
   "metadata": {},
   "outputs": [],
   "source": [
    "def keyword_filter(row: pd.Series) -> bool:\n",
    "    \"\"\"Return True if the row contains a keyword in the list of keywords\"\"\"\n",
    "    keywords = [\n",
    "        'deceiving', \n",
    "        \"decieving\", # I bet there's typos\n",
    "        'disappointing', \n",
    "        'horrible',\n",
    "        'terrible',\n",
    "        'awful',\n",
    "        'bad',\n",
    "        \"misleading\",\n",
    "        \"inaccurate\",\n",
    "        \"incorrect\",\n",
    "        \"missing\",\n",
    "        \"not as described\",\n",
    "        \"not there\",\n",
    "        \"wrong\",\n",
    "        \"not as pictured\",\n",
    "        \"lied\",\n",
    "        \"lie\",\n",
    "        \"liar\",\n",
    "        \"lying\",\n",
    "        \"fraud\",\n",
    "        \"fraudulent\",\n",
    "        \"scam\",\n",
    "        \"scammer\",\n",
    "        \"scamming\",\n",
    "        \"scammed\",\n",
    "        \"unsatisfactory\",\n",
    "        \"unacceptable\",\n",
    "        \"wasn't there\",\n",
    "        \"was not there\",\n",
    "        \"wasnt there\"\n",
    "        \"photoshopped\"]\n",
    "    if not isinstance(row['comments'], str):\n",
    "        return False\n",
    "    return any([keyword in row['comments'] for keyword in keywords])\n",
    "\n",
    "def sentiment_filter(row: pd.Series, threshold=5) -> bool:\n",
    "    sentiment = row[\"sentiment\"]\n",
    "    return sentiment < threshold\n",
    "\n",
    "def apply_filters(raw_fp: str | pd.DataFrame, filtered_fp: str) -> None:\n",
    "    \"\"\"Apply the filters to the raw data and save the result to a new file\"\"\"\n",
    "\n",
    "    if isinstance(raw_fp, pd.DataFrame):\n",
    "        data = raw_fp\n",
    "    else:\n",
    "        print(\"Reading data from\", raw_fp)\n",
    "        data = pd.read_csv(raw_fp)\n",
    "\n",
    "    original_len = len(data)\n",
    "\n",
    "    print(\"Number of rows:\", original_len)\n",
    "\n",
    "    sentiment_threshold = 5\n",
    "    print(f\"Applying sentiment filter (sentiment threshold = {sentiment_threshold})...\")\n",
    "    data = data[data.apply(lambda row: sentiment_filter(row, sentiment_threshold), axis=1)]\n",
    "    reduction_pcnt = (1 - (len(data) / original_len)) * 100\n",
    "    print(f\"Number of remaining rows: {len(data)} ({reduction_pcnt:.2f}% reduction)\")\n",
    "\n",
    "    print(\"Applying keyword filter...\")\n",
    "    data = data[data.apply(keyword_filter, axis=1)]\n",
    "    reduction_pcnt = (1 - (len(data) / original_len)) * 100\n",
    "    print(f\"Number of remaining rows: {len(data)} ({reduction_pcnt:.2f}% reduction)\")\n",
    "\n",
    "    print(\"Saving filtered data to\", filtered_fp)\n",
    "\n",
    "    data.comments = data.comments.apply(lambda x: x.replace(\"_x000D_\", \"\"))\n",
    "\n",
    "    data.to_csv(filtered_fp, index=False)"
   ]
  },
  {
   "cell_type": "markdown",
   "metadata": {},
   "source": [
    "## Apply filters and save results to /data/filtered"
   ]
  },
  {
   "cell_type": "code",
   "execution_count": 4,
   "metadata": {},
   "outputs": [
    {
     "name": "stdout",
     "output_type": "stream",
     "text": [
      "Reading data from ../../data/sentiment/texas_w_sentiment.csv\n",
      "Number of rows: 332098\n",
      "Applying sentiment filter (sentiment threshold = 5)...\n",
      "Number of remaining rows: 72776 (78.09% reduction)\n",
      "Applying keyword filter...\n",
      "Number of remaining rows: 5629 (98.31% reduction)\n",
      "Saving filtered data to ../../data/filtered/texas_reviews_filtered2.csv\n"
     ]
    }
   ],
   "source": [
    "apply_filters(\"../../data/sentiment/texas_w_sentiment.csv\", \"../../data/filtered/texas_reviews_filtered.csv\")"
   ]
  },
  {
   "cell_type": "code",
   "execution_count": 9,
   "metadata": {},
   "outputs": [
    {
     "name": "stdout",
     "output_type": "stream",
     "text": [
      "Reading data from ../data/sentiment/florida_w_sentiment.csv\n",
      "Number of rows: 195857\n",
      "Applying sentiment filter (sentiment threshold = 5)...\n",
      "Number of remaining rows: 47843 (75.57% reduction)\n",
      "Applying keyword filter...\n",
      "Number of remaining rows: 4416 (97.75% reduction)\n",
      "Saving filtered data to ../data/filtered/florida_reviews_filtered.csv\n"
     ]
    }
   ],
   "source": [
    "apply_filters(\"../data/sentiment/florida_w_sentiment.csv\", \"../data/filtered/florida_reviews_filtered.csv\")"
   ]
  },
  {
   "cell_type": "code",
   "execution_count": 5,
   "metadata": {},
   "outputs": [
    {
     "name": "stdout",
     "output_type": "stream",
     "text": [
      "Number of rows: 366643\n",
      "Applying sentiment filter (sentiment threshold = 5)...\n",
      "Number of remaining rows: 105161 (71.32% reduction)\n",
      "Applying keyword filter...\n",
      "Number of remaining rows: 8439 (97.70% reduction)\n",
      "Saving filtered data to ../../data/filtered/california_reviews_filtered.csv\n"
     ]
    }
   ],
   "source": [
    "JOIN_CALI = True\n",
    "if JOIN_CALI:\n",
    "    california_reviews = pd.read_csv(\"../../data/raw/california_reviews.csv\")\n",
    "\n",
    "    # join sentiment data into one dataframe\n",
    "    california_sentiment1 = pd.read_csv(\"../../data/sentiment/california_sentiment_126287.csv\", header=None)\n",
    "    california_sentiment1.columns = [\"idx\", \"sentiment\"]\n",
    "    california_sentiment2 = pd.read_csv(\"../../data/sentiment/california_sentiment_126288_end.csv\", header=None)\n",
    "    california_sentiment2.columns = [\"idx\", \"sentiment\"]\n",
    "    california_sentiment = pd.concat([california_sentiment1, california_sentiment2], ignore_index=True)\n",
    "\n",
    "    # inner join on index\n",
    "    california_w_sentiment = pd.merge(california_reviews, california_sentiment, how=\"inner\", left_index=True, right_on=\"idx\")\n",
    "\n",
    "    apply_filters(california_w_sentiment, \"../../data/filtered/california_reviews_filtered.csv\")\n",
    "\n",
    "else:\n",
    "    apply_filters(\"../data/sentiment/california_w_sentiment.csv\", \"../../data/filtered/california_reviews_filtered.csv\")"
   ]
  },
  {
   "cell_type": "code",
   "execution_count": null,
   "metadata": {},
   "outputs": [],
   "source": []
  }
 ],
 "metadata": {
  "kernelspec": {
   "display_name": "Python 3 (ipykernel)",
   "language": "python",
   "name": "python3"
  },
  "language_info": {
   "codemirror_mode": {
    "name": "ipython",
    "version": 3
   },
   "file_extension": ".py",
   "mimetype": "text/x-python",
   "name": "python",
   "nbconvert_exporter": "python",
   "pygments_lexer": "ipython3",
   "version": "3.10.4"
  },
  "vscode": {
   "interpreter": {
    "hash": "cf086def782804284d24881115c612afdcc8ea791299ba67855f0c7f1a9ccc5a"
   }
  }
 },
 "nbformat": 4,
 "nbformat_minor": 2
}
