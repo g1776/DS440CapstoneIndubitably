{
 "cells": [
  {
   "attachments": {},
   "cell_type": "markdown",
   "metadata": {},
   "source": [
    "# Generate Sentiment for subsetting data\n",
    "\n",
    "This notebook generates sentiment scores for the raw data. These scores are used to subset the data so there is less data to manually label.\n"
   ]
  },
  {
   "cell_type": "code",
   "execution_count": null,
   "metadata": {},
   "outputs": [],
   "source": [
    "GEO = \"texas\""
   ]
  },
  {
   "cell_type": "code",
   "execution_count": 1,
   "metadata": {},
   "outputs": [
    {
     "name": "stderr",
     "output_type": "stream",
     "text": [
      "c:\\Users\\grego\\Documents\\GitHub\\DS440CapstoneIndubitably\\venv\\lib\\site-packages\\tqdm\\auto.py:22: TqdmWarning: IProgress not found. Please update jupyter and ipywidgets. See https://ipywidgets.readthedocs.io/en/stable/user_install.html\n",
      "  from .autonotebook import tqdm as notebook_tqdm\n"
     ]
    }
   ],
   "source": [
    "from transformers import AutoTokenizer, AutoModelForSequenceClassification\n",
    "import torch\n",
    "\n",
    "tokenizer = AutoTokenizer.from_pretrained('nlptown/bert-base-multilingual-uncased-sentiment')\n",
    "model = AutoModelForSequenceClassification.from_pretrained('nlptown/bert-base-multilingual-uncased-sentiment')"
   ]
  },
  {
   "cell_type": "code",
   "execution_count": 5,
   "metadata": {},
   "outputs": [
    {
     "data": {
      "text/html": [
       "<div>\n",
       "<style scoped>\n",
       "    .dataframe tbody tr th:only-of-type {\n",
       "        vertical-align: middle;\n",
       "    }\n",
       "\n",
       "    .dataframe tbody tr th {\n",
       "        vertical-align: top;\n",
       "    }\n",
       "\n",
       "    .dataframe thead th {\n",
       "        text-align: right;\n",
       "    }\n",
       "</style>\n",
       "<table border=\"1\" class=\"dataframe\">\n",
       "  <thead>\n",
       "    <tr style=\"text-align: right;\">\n",
       "      <th></th>\n",
       "      <th>listing_id</th>\n",
       "      <th>id</th>\n",
       "      <th>date</th>\n",
       "      <th>reviewer_id</th>\n",
       "      <th>reviewer_name</th>\n",
       "      <th>comments</th>\n",
       "    </tr>\n",
       "  </thead>\n",
       "  <tbody>\n",
       "    <tr>\n",
       "      <th>0</th>\n",
       "      <td>2265</td>\n",
       "      <td>963</td>\n",
       "      <td>2009-03-17</td>\n",
       "      <td>7538</td>\n",
       "      <td>Niall</td>\n",
       "      <td>I stayed here during SXSW and had a really ple...</td>\n",
       "    </tr>\n",
       "    <tr>\n",
       "      <th>1</th>\n",
       "      <td>2265</td>\n",
       "      <td>1057</td>\n",
       "      <td>2009-03-22</td>\n",
       "      <td>10029</td>\n",
       "      <td>Michael</td>\n",
       "      <td>Great place, close enough to everything downto...</td>\n",
       "    </tr>\n",
       "    <tr>\n",
       "      <th>2</th>\n",
       "      <td>2265</td>\n",
       "      <td>200418</td>\n",
       "      <td>2011-03-16</td>\n",
       "      <td>61677</td>\n",
       "      <td>Gustaf</td>\n",
       "      <td>We had a great time in Austin staying at Paddy...</td>\n",
       "    </tr>\n",
       "    <tr>\n",
       "      <th>3</th>\n",
       "      <td>2265</td>\n",
       "      <td>1001630</td>\n",
       "      <td>2012-03-15</td>\n",
       "      <td>1523753</td>\n",
       "      <td>Noah</td>\n",
       "      <td>We had a great stay at Zen East for South By S...</td>\n",
       "    </tr>\n",
       "    <tr>\n",
       "      <th>4</th>\n",
       "      <td>2265</td>\n",
       "      <td>1016390</td>\n",
       "      <td>2012-03-19</td>\n",
       "      <td>1547660</td>\n",
       "      <td>Melissa</td>\n",
       "      <td>I arrived late in the evening so did not meet ...</td>\n",
       "    </tr>\n",
       "  </tbody>\n",
       "</table>\n",
       "</div>"
      ],
      "text/plain": [
       "   listing_id       id        date  reviewer_id reviewer_name  \\\n",
       "0        2265      963  2009-03-17         7538         Niall   \n",
       "1        2265     1057  2009-03-22        10029       Michael   \n",
       "2        2265   200418  2011-03-16        61677        Gustaf   \n",
       "3        2265  1001630  2012-03-15      1523753          Noah   \n",
       "4        2265  1016390  2012-03-19      1547660       Melissa   \n",
       "\n",
       "                                            comments  \n",
       "0  I stayed here during SXSW and had a really ple...  \n",
       "1  Great place, close enough to everything downto...  \n",
       "2  We had a great time in Austin staying at Paddy...  \n",
       "3  We had a great stay at Zen East for South By S...  \n",
       "4  I arrived late in the evening so did not meet ...  "
      ]
     },
     "execution_count": 5,
     "metadata": {},
     "output_type": "execute_result"
    }
   ],
   "source": [
    "import pandas as pd\n",
    "\n",
    "reviews = pd.read_csv(f\"../../data/raw/{GEO}_reviews.csv\")\n",
    "reviews.head()"
   ]
  },
  {
   "cell_type": "code",
   "execution_count": 6,
   "metadata": {},
   "outputs": [
    {
     "name": "stdout",
     "output_type": "stream",
     "text": [
      "0\n",
      "1\n",
      "2\n",
      "3\n",
      "4\n",
      "5\n",
      "6\n",
      "7\n",
      "8\n",
      "9\n"
     ]
    },
    {
     "data": {
      "text/html": [
       "<div>\n",
       "<style scoped>\n",
       "    .dataframe tbody tr th:only-of-type {\n",
       "        vertical-align: middle;\n",
       "    }\n",
       "\n",
       "    .dataframe tbody tr th {\n",
       "        vertical-align: top;\n",
       "    }\n",
       "\n",
       "    .dataframe thead th {\n",
       "        text-align: right;\n",
       "    }\n",
       "</style>\n",
       "<table border=\"1\" class=\"dataframe\">\n",
       "  <thead>\n",
       "    <tr style=\"text-align: right;\">\n",
       "      <th></th>\n",
       "      <th>listing_id</th>\n",
       "      <th>id</th>\n",
       "      <th>reviewer_id</th>\n",
       "      <th>sentiment</th>\n",
       "    </tr>\n",
       "  </thead>\n",
       "  <tbody>\n",
       "    <tr>\n",
       "      <th>count</th>\n",
       "      <td>3.320980e+05</td>\n",
       "      <td>3.320980e+05</td>\n",
       "      <td>3.320980e+05</td>\n",
       "      <td>10.000000</td>\n",
       "    </tr>\n",
       "    <tr>\n",
       "      <th>mean</th>\n",
       "      <td>1.275956e+07</td>\n",
       "      <td>2.504253e+08</td>\n",
       "      <td>7.330480e+07</td>\n",
       "      <td>4.600000</td>\n",
       "    </tr>\n",
       "    <tr>\n",
       "      <th>std</th>\n",
       "      <td>9.806012e+06</td>\n",
       "      <td>1.434814e+08</td>\n",
       "      <td>6.874664e+07</td>\n",
       "      <td>0.875595</td>\n",
       "    </tr>\n",
       "    <tr>\n",
       "      <th>min</th>\n",
       "      <td>2.265000e+03</td>\n",
       "      <td>8.650000e+02</td>\n",
       "      <td>3.000000e+00</td>\n",
       "      <td>2.500000</td>\n",
       "    </tr>\n",
       "    <tr>\n",
       "      <th>25%</th>\n",
       "      <td>3.403516e+06</td>\n",
       "      <td>1.305739e+08</td>\n",
       "      <td>1.707155e+07</td>\n",
       "      <td>5.000000</td>\n",
       "    </tr>\n",
       "    <tr>\n",
       "      <th>50%</th>\n",
       "      <td>1.226087e+07</td>\n",
       "      <td>2.517846e+08</td>\n",
       "      <td>5.044884e+07</td>\n",
       "      <td>5.000000</td>\n",
       "    </tr>\n",
       "    <tr>\n",
       "      <th>75%</th>\n",
       "      <td>2.075599e+07</td>\n",
       "      <td>3.658173e+08</td>\n",
       "      <td>1.155695e+08</td>\n",
       "      <td>5.000000</td>\n",
       "    </tr>\n",
       "    <tr>\n",
       "      <th>max</th>\n",
       "      <td>3.651485e+07</td>\n",
       "      <td>4.859486e+08</td>\n",
       "      <td>2.748575e+08</td>\n",
       "      <td>5.000000</td>\n",
       "    </tr>\n",
       "  </tbody>\n",
       "</table>\n",
       "</div>"
      ],
      "text/plain": [
       "         listing_id            id   reviewer_id  sentiment\n",
       "count  3.320980e+05  3.320980e+05  3.320980e+05  10.000000\n",
       "mean   1.275956e+07  2.504253e+08  7.330480e+07   4.600000\n",
       "std    9.806012e+06  1.434814e+08  6.874664e+07   0.875595\n",
       "min    2.265000e+03  8.650000e+02  3.000000e+00   2.500000\n",
       "25%    3.403516e+06  1.305739e+08  1.707155e+07   5.000000\n",
       "50%    1.226087e+07  2.517846e+08  5.044884e+07   5.000000\n",
       "75%    2.075599e+07  3.658173e+08  1.155695e+08   5.000000\n",
       "max    3.651485e+07  4.859486e+08  2.748575e+08   5.000000"
      ]
     },
     "execution_count": 6,
     "metadata": {},
     "output_type": "execute_result"
    }
   ],
   "source": [
    "def get_sentiment(row):\n",
    "    comment = row['comments']\n",
    "    print(row.name)\n",
    "    try:\n",
    "        if len(comment) > 512:\n",
    "            segments = [comment[i:i + 512] for i in range(0,len(comment),512)]\n",
    "        else:\n",
    "            segments = [comment]\n",
    "        preds = []\n",
    "        for segment in segments:\n",
    "            tokens = tokenizer.encode(segment, return_tensors='pt')\n",
    "            result = model(tokens)\n",
    "            pred = int(torch.argmax(result.logits))+1\n",
    "            preds.append(pred)\n",
    "    \n",
    "        return sum(preds)/len(preds)\n",
    "    except:\n",
    "        print(\"error\")\n",
    "\n",
    "\n",
    "sentiment_score = reviews.head(10).apply(get_sentiment,axis = 1)\n",
    "reviews['sentiment'] = sentiment_score\n",
    "reviews.to_csv(\"../../data/sentiment/texas_w_sentiment.csv\",index = False)\n",
    "reviews.describe()"
   ]
  },
  {
   "cell_type": "code",
   "execution_count": null,
   "metadata": {},
   "outputs": [],
   "source": []
  }
 ],
 "metadata": {
  "kernelspec": {
   "display_name": "venv",
   "language": "python",
   "name": "python3"
  },
  "language_info": {
   "codemirror_mode": {
    "name": "ipython",
    "version": 3
   },
   "file_extension": ".py",
   "mimetype": "text/x-python",
   "name": "python",
   "nbconvert_exporter": "python",
   "pygments_lexer": "ipython3",
   "version": "3.10.4"
  },
  "orig_nbformat": 4,
  "vscode": {
   "interpreter": {
    "hash": "cf086def782804284d24881115c612afdcc8ea791299ba67855f0c7f1a9ccc5a"
   }
  }
 },
 "nbformat": 4,
 "nbformat_minor": 2
}
