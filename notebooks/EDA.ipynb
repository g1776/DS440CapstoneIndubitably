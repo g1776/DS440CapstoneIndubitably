{
 "cells": [
  {
   "attachments": {},
   "cell_type": "markdown",
   "metadata": {},
   "source": [
    "# EDA"
   ]
  },
  {
   "cell_type": "code",
   "execution_count": 18,
   "metadata": {},
   "outputs": [],
   "source": [
    "import pandas as pd\n",
    "import time"
   ]
  },
  {
   "cell_type": "code",
   "execution_count": 41,
   "metadata": {},
   "outputs": [
    {
     "name": "stdout",
     "output_type": "stream",
     "text": [
      "Loading datasets...\n",
      "Texas...\n",
      "Elapsed time:  0.8081963062286377\n",
      "Florida...\n",
      "Elapsed time:  1.7540316581726074\n",
      "California...\n",
      "Elapsed time:  2.5462048053741455\n",
      "\n",
      "Shapes of data:\n",
      "Texas:  (11882, 106)\n",
      "Florida:  (10229, 106)\n",
      "California:  (8111, 106)\n"
     ]
    }
   ],
   "source": [
    "\n",
    "print(\"Loading datasets...\")\n",
    "\n",
    "start = time.time()\n",
    "\n",
    "print(\"Texas...\")\n",
    "texas_listings = pd.read_csv(\"../data/raw/texas_listings.csv\", encoding=\"unicode_escape\", low_memory=False)\n",
    "print(\"Elapsed time: \", time.time() - start)\n",
    "\n",
    "print(\"Florida...\")\n",
    "florida_listings = pd.read_csv(\"../data/raw/florida_listings.csv\", encoding=\"unicode_escape\", low_memory=False)\n",
    "print(\"Elapsed time: \", time.time() - start)\n",
    "\n",
    "print(\"California...\")\n",
    "california_listings = pd.read_csv(\"../data/raw/california_listings.csv\", encoding=\"unicode_escape\", low_memory=False)\n",
    "print(\"Elapsed time: \", time.time() - start)\n",
    "\n",
    "print(\"\\nShapes of data:\")\n",
    "print(\"Texas: \", texas_listings.shape)\n",
    "print(\"Florida: \", florida_listings.shape)\n",
    "print(\"California: \", california_listings.shape)"
   ]
  },
  {
   "cell_type": "code",
   "execution_count": null,
   "metadata": {},
   "outputs": [],
   "source": []
  }
 ],
 "metadata": {
  "kernelspec": {
   "display_name": "venv",
   "language": "python",
   "name": "python3"
  },
  "language_info": {
   "codemirror_mode": {
    "name": "ipython",
    "version": 3
   },
   "file_extension": ".py",
   "mimetype": "text/x-python",
   "name": "python",
   "nbconvert_exporter": "python",
   "pygments_lexer": "ipython3",
   "version": "3.10.4"
  },
  "orig_nbformat": 4,
  "vscode": {
   "interpreter": {
    "hash": "cf086def782804284d24881115c612afdcc8ea791299ba67855f0c7f1a9ccc5a"
   }
  }
 },
 "nbformat": 4,
 "nbformat_minor": 2
}
